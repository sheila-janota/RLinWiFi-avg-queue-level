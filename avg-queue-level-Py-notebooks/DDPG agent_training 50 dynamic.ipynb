{
 "cells": [
  {
   "cell_type": "markdown",
   "id": "41a6e6e5",
   "metadata": {},
   "source": [
    "# Execution num1:"
   ]
  },
  {
   "cell_type": "code",
   "execution_count": 1,
   "id": "e63a06a0",
   "metadata": {},
   "outputs": [],
   "source": [
    "#%%\n",
    "from ns3gym import ns3env\n",
    "from comet_ml import Experiment, Optimizer\n",
    "import tqdm\n",
    "import subprocess\n",
    "from collections import deque\n",
    "import numpy as np\n",
    "\n",
    "from agents.ddpg.agent import Agent, Config\n",
    "from agents.ddpg.model import Actor\n",
    "from agents.teacher import Teacher, EnvWrapper\n",
    "from preprocessor import Preprocessor\n"
   ]
  },
  {
   "cell_type": "code",
   "execution_count": 2,
   "id": "166ec716",
   "metadata": {},
   "outputs": [
    {
     "name": "stdout",
     "output_type": "stream",
     "text": [
      "Steps per episode: 6000\n",
      "Waiting for simulation script to connect on port: tcp://localhost:37488\n",
      "Please start proper ns-3 simulation script using ./waf --run \"...\"\n",
      "Waf: Entering directory `/home/samuel/ns-allinone-3.29/ns-3.29/build'\n",
      "Waf: Leaving directory `/home/samuel/ns-allinone-3.29/ns-3.29/build'\n",
      "Build commands will be stored in build/compile_commands.json\n",
      "'build' finished successfully (2.604s)\n"
     ]
    },
    {
     "name": "stderr",
     "output_type": "stream",
     "text": [
      "Ns3Env parameters:\n",
      "--nWifi: 50\n",
      "--simulationTime: 60\n",
      "--openGymPort: 37488\n",
      "--envStepTime: 0.01\n",
      "--seed: 42\n",
      "--agentType: continuous\n",
      "--scenario: convergence\n",
      "--dryRun: 0\n",
      "Simulation started\n"
     ]
    },
    {
     "name": "stdout",
     "output_type": "stream",
     "text": [
      "Observation space shape: (1, 300)\n",
      "Action space shape: (1, 1)\n"
     ]
    },
    {
     "name": "stderr",
     "output_type": "stream",
     "text": [
      "Simulation process id: 467888 (parent (waf shell) id: 467871)\n",
      "Waiting for Python process to connect on port: tcp://localhost:37488\n",
      "Please start proper Python Gym Agent\n"
     ]
    }
   ],
   "source": [
    "#%%\n",
    "scenario = \"convergence\"\n",
    "\n",
    "simTime = 60 # seconds\n",
    "stepTime = 0.01  # seconds\n",
    "history_length = 300\n",
    "\n",
    "EPISODE_COUNT = 15\n",
    "steps_per_ep = int(simTime/stepTime)\n",
    "\n",
    "sim_args = {\n",
    "    \"simTime\": simTime,\n",
    "    \"envStepTime\": stepTime,\n",
    "    \"historyLength\": history_length,\n",
    "    \"agentType\": Agent.TYPE,\n",
    "    \"scenario\": \"convergence\",\n",
    "    \"nWifi\": 50,\n",
    "}\n",
    "\n",
    "print(\"Steps per episode:\", steps_per_ep)\n",
    "\n",
    "threads_no = 1\n",
    "env = EnvWrapper(threads_no, **sim_args)\n",
    "\n",
    "#%%\n",
    "env.reset()\n",
    "ob_space = env.observation_space\n",
    "ac_space = env.action_space\n",
    "\n",
    "print(\"Observation space shape:\", ob_space)\n",
    "print(\"Action space shape:\", ac_space)\n",
    "\n",
    "assert ob_space is not None"
   ]
  },
  {
   "cell_type": "code",
   "execution_count": 3,
   "id": "a969ba3f",
   "metadata": {
    "scrolled": true
   },
   "outputs": [
    {
     "name": "stdout",
     "output_type": "stream",
     "text": [
      "CuDNN version: 7102\n",
      "cpu\n"
     ]
    },
    {
     "name": "stderr",
     "output_type": "stream",
     "text": [
      "COMET INFO: Experiment is live on comet.ml https://www.comet.com/sheila-janota/rl-in-wifi-with-queue-level/6944c5b2fb114376a6cad2fd1a8faf58\n",
      "\n",
      "  0%|          | 0/6300 [00:00<?, ?it/s]"
     ]
    },
    {
     "name": "stdout",
     "output_type": "stream",
     "text": [
      "0\n"
     ]
    },
    {
     "name": "stderr",
     "output_type": "stream",
     "text": [
      "  5%|▌         | 333/6300 [04:01<1:21:03,  1.23it/s, curr_speed=31.76 Mbps, mb_sent=10.16 Mb]"
     ]
    },
    {
     "name": "stdout",
     "output_type": "stream",
     "text": [
      "------- STARTED TRAINING -------\n"
     ]
    },
    {
     "name": "stderr",
     "output_type": "stream",
     "text": [
      "100%|██████████| 6300/6300 [9:22:21<00:00,  5.36s/it, curr_speed=31.40 Mbps, mb_sent=1871.81 Mb]  \n"
     ]
    },
    {
     "name": "stdout",
     "output_type": "stream",
     "text": [
      "Waiting for simulation script to connect on port: tcp://localhost:39154\n",
      "Please start proper ns-3 simulation script using ./waf --run \"...\"\n",
      "Waf: Entering directory `/home/samuel/ns-allinone-3.29/ns-3.29/build'\n",
      "Waf: Leaving directory `/home/samuel/ns-allinone-3.29/ns-3.29/build'\n",
      "Build commands will be stored in build/compile_commands.json\n",
      "'build' finished successfully (3.766s)\n"
     ]
    },
    {
     "name": "stderr",
     "output_type": "stream",
     "text": [
      "Ns3Env parameters:\n",
      "--nWifi: 50\n",
      "--simulationTime: 60\n",
      "--openGymPort: 39154\n",
      "--envStepTime: 0.01\n",
      "--seed: 42\n",
      "--agentType: continuous\n",
      "--scenario: convergence\n",
      "--dryRun: 0\n",
      "Simulation started\n",
      "Simulation process id: 726514 (parent (waf shell) id: 726469)\n",
      "Waiting for Python process to connect on port: tcp://localhost:39154\n",
      "Please start proper Python Gym Agent\n",
      "  0%|          | 0/6300 [00:00<?, ?it/s]"
     ]
    },
    {
     "name": "stdout",
     "output_type": "stream",
     "text": [
      "Sent 1871.81 Mb/s.\tMean speed: 31.20 Mb/s\tEpisode 1/15 finished\n",
      "\n",
      "1\n"
     ]
    },
    {
     "name": "stderr",
     "output_type": "stream",
     "text": [
      " 17%|█▋        | 1086/6300 [1:10:45<6:50:52,  4.73s/it, curr_speed=33.73 Mbps, mb_sent=255.53 Mb]COMET ERROR: File could not be uploaded\n",
      " 27%|██▋       | 1729/6300 [2:06:43<6:08:48,  4.84s/it, curr_speed=31.60 Mbps, mb_sent=460.91 Mb]COMET ERROR: File could not be uploaded\n",
      " 27%|██▋       | 1730/6300 [2:06:48<6:08:51,  4.84s/it, curr_speed=31.45 Mbps, mb_sent=461.15 Mb]COMET ERROR: File could not be uploaded\n",
      " 27%|██▋       | 1732/6300 [2:06:59<6:38:36,  5.24s/it, curr_speed=31.71 Mbps, mb_sent=461.92 Mb]COMET ERROR: File could not be uploaded\n",
      "COMET ERROR: File could not be uploaded\n",
      " 28%|██▊       | 1733/6300 [2:07:05<6:41:40,  5.28s/it, curr_speed=31.63 Mbps, mb_sent=462.18 Mb]COMET ERROR: File could not be uploaded\n",
      " 28%|██▊       | 1734/6300 [2:07:11<6:53:45,  5.44s/it, curr_speed=31.67 Mbps, mb_sent=462.55 Mb]COMET ERROR: File could not be uploaded\n",
      " 28%|██▊       | 1735/6300 [2:07:16<6:50:43,  5.40s/it, curr_speed=31.89 Mbps, mb_sent=462.96 Mb]COMET ERROR: File could not be uploaded\n",
      " 28%|██▊       | 1736/6300 [2:07:21<6:48:15,  5.37s/it, curr_speed=31.92 Mbps, mb_sent=463.34 Mb]COMET ERROR: File could not be uploaded\n",
      " 28%|██▊       | 1737/6300 [2:07:26<6:43:47,  5.31s/it, curr_speed=31.97 Mbps, mb_sent=463.71 Mb]COMET ERROR: File could not be uploaded\n",
      " 28%|██▊       | 1738/6300 [2:07:32<6:44:11,  5.32s/it, curr_speed=31.98 Mbps, mb_sent=464.11 Mb]COMET ERROR: File could not be uploaded\n",
      " 28%|██▊       | 1739/6300 [2:07:38<6:58:34,  5.51s/it, curr_speed=31.92 Mbps, mb_sent=464.43 Mb]COMET ERROR: File could not be uploaded\n",
      " 28%|██▊       | 1740/6300 [2:07:44<7:10:20,  5.66s/it, curr_speed=31.94 Mbps, mb_sent=464.79 Mb]COMET ERROR: File could not be uploaded\n",
      " 28%|██▊       | 1740/6300 [2:07:49<7:10:20,  5.66s/it, curr_speed=31.89 Mbps, mb_sent=465.08 Mb]COMET ERROR: File could not be uploaded\n",
      " 28%|██▊       | 1742/6300 [2:07:55<7:04:40,  5.59s/it, curr_speed=31.96 Mbps, mb_sent=465.40 Mb]COMET ERROR: File could not be uploaded\n",
      "100%|██████████| 6300/6300 [9:10:04<00:00,  5.24s/it, curr_speed=33.68 Mbps, mb_sent=1950.60 Mb]  \n"
     ]
    },
    {
     "name": "stdout",
     "output_type": "stream",
     "text": [
      "Waiting for simulation script to connect on port: tcp://localhost:26045\n",
      "Please start proper ns-3 simulation script using ./waf --run \"...\"\n",
      "Waf: Entering directory `/home/samuel/ns-allinone-3.29/ns-3.29/build'\n",
      "Waf: Leaving directory `/home/samuel/ns-allinone-3.29/ns-3.29/build'\n",
      "Build commands will be stored in build/compile_commands.json\n",
      "'build' finished successfully (2.986s)\n"
     ]
    },
    {
     "name": "stderr",
     "output_type": "stream",
     "text": [
      "Ns3Env parameters:\n",
      "--nWifi: 50\n",
      "--simulationTime: 60\n",
      "--openGymPort: 26045\n",
      "--envStepTime: 0.01\n",
      "--seed: 42\n",
      "--agentType: continuous\n",
      "--scenario: convergence\n",
      "--dryRun: 0\n",
      "Simulation started\n",
      "Simulation process id: 968876 (parent (waf shell) id: 968840)\n",
      "Waiting for Python process to connect on port: tcp://localhost:26045\n",
      "Please start proper Python Gym Agent\n",
      "  0%|          | 0/6300 [00:00<?, ?it/s]"
     ]
    },
    {
     "name": "stdout",
     "output_type": "stream",
     "text": [
      "Sent 1950.60 Mb/s.\tMean speed: 32.51 Mb/s\tEpisode 2/15 finished\n",
      "\n",
      "2\n"
     ]
    },
    {
     "name": "stderr",
     "output_type": "stream",
     "text": [
      "100%|██████████| 6300/6300 [8:31:19<00:00,  4.87s/it, curr_speed=30.58 Mbps, mb_sent=2029.18 Mb]  \n"
     ]
    },
    {
     "name": "stdout",
     "output_type": "stream",
     "text": [
      "Waiting for simulation script to connect on port: tcp://localhost:27351\n",
      "Please start proper ns-3 simulation script using ./waf --run \"...\"\n",
      "Waf: Entering directory `/home/samuel/ns-allinone-3.29/ns-3.29/build'\n",
      "Waf: Leaving directory `/home/samuel/ns-allinone-3.29/ns-3.29/build'\n",
      "Build commands will be stored in build/compile_commands.json\n",
      "'build' finished successfully (3.404s)\n"
     ]
    },
    {
     "name": "stderr",
     "output_type": "stream",
     "text": [
      "Ns3Env parameters:\n",
      "--nWifi: 50\n",
      "--simulationTime: 60\n",
      "--openGymPort: 27351\n",
      "--envStepTime: 0.01\n",
      "--seed: 42\n",
      "--agentType: continuous\n",
      "--scenario: convergence\n",
      "--dryRun: 0\n",
      "Simulation started\n",
      "Simulation process id: 1175971 (parent (waf shell) id: 1175934)\n",
      "Waiting for Python process to connect on port: tcp://localhost:27351\n",
      "Please start proper Python Gym Agent\n",
      "  0%|          | 0/6300 [00:00<?, ?it/s]"
     ]
    },
    {
     "name": "stdout",
     "output_type": "stream",
     "text": [
      "Sent 2029.18 Mb/s.\tMean speed: 33.82 Mb/s\tEpisode 3/15 finished\n",
      "\n",
      "3\n"
     ]
    },
    {
     "name": "stderr",
     "output_type": "stream",
     "text": [
      "100%|██████████| 6300/6300 [8:53:31<00:00,  5.08s/it, curr_speed=34.71 Mbps, mb_sent=1962.53 Mb]  \n"
     ]
    },
    {
     "name": "stdout",
     "output_type": "stream",
     "text": [
      "Waiting for simulation script to connect on port: tcp://localhost:40165\n",
      "Please start proper ns-3 simulation script using ./waf --run \"...\"\n",
      "Waf: Entering directory `/home/samuel/ns-allinone-3.29/ns-3.29/build'\n",
      "Waf: Leaving directory `/home/samuel/ns-allinone-3.29/ns-3.29/build'\n",
      "Build commands will be stored in build/compile_commands.json\n",
      "'build' finished successfully (3.379s)\n"
     ]
    },
    {
     "name": "stderr",
     "output_type": "stream",
     "text": [
      "Ns3Env parameters:\n",
      "--nWifi: 50\n",
      "--simulationTime: 60\n",
      "--openGymPort: 40165\n",
      "--envStepTime: 0.01\n",
      "--seed: 42\n",
      "--agentType: continuous\n",
      "--scenario: convergence\n",
      "--dryRun: 0\n",
      "Simulation started\n",
      "Simulation process id: 1403385 (parent (waf shell) id: 1403345)\n",
      "Waiting for Python process to connect on port: tcp://localhost:40165\n",
      "Please start proper Python Gym Agent\n",
      "  0%|          | 0/6300 [00:00<?, ?it/s]"
     ]
    },
    {
     "name": "stdout",
     "output_type": "stream",
     "text": [
      "Sent 1962.53 Mb/s.\tMean speed: 32.71 Mb/s\tEpisode 4/15 finished\n",
      "\n",
      "4\n"
     ]
    },
    {
     "name": "stderr",
     "output_type": "stream",
     "text": [
      "  5%|▍         | 304/6300 [03:35<5:28:15,  3.28s/it, curr_speed=39.47 Mbps, mb_sent=1.18 Mb]"
     ]
    },
    {
     "name": "stdout",
     "output_type": "stream",
     "text": [
      "------- MEMORY BUFFER FILLED -------\n"
     ]
    },
    {
     "name": "stderr",
     "output_type": "stream",
     "text": [
      "100%|██████████| 6300/6300 [8:52:22<00:00,  5.07s/it, curr_speed=36.21 Mbps, mb_sent=2154.49 Mb]  \n"
     ]
    },
    {
     "name": "stdout",
     "output_type": "stream",
     "text": [
      "Waiting for simulation script to connect on port: tcp://localhost:14139\n",
      "Please start proper ns-3 simulation script using ./waf --run \"...\"\n",
      "Waf: Entering directory `/home/samuel/ns-allinone-3.29/ns-3.29/build'\n",
      "Waf: Leaving directory `/home/samuel/ns-allinone-3.29/ns-3.29/build'\n",
      "Build commands will be stored in build/compile_commands.json\n",
      "'build' finished successfully (3.060s)\n"
     ]
    },
    {
     "name": "stderr",
     "output_type": "stream",
     "text": [
      "Ns3Env parameters:\n",
      "--nWifi: 50\n",
      "--simulationTime: 60\n",
      "--openGymPort: 14139\n",
      "--envStepTime: 0.01\n",
      "--seed: 42\n",
      "--agentType: continuous\n",
      "--scenario: convergence\n",
      "--dryRun: 0\n",
      "Simulation started\n",
      "Simulation process id: 1587697 (parent (waf shell) id: 1587656)\n",
      "Waiting for Python process to connect on port: tcp://localhost:14139\n",
      "Please start proper Python Gym Agent\n",
      "  0%|          | 0/6300 [00:00<?, ?it/s]"
     ]
    },
    {
     "name": "stdout",
     "output_type": "stream",
     "text": [
      "Sent 2154.49 Mb/s.\tMean speed: 35.91 Mb/s\tEpisode 5/15 finished\n",
      "\n",
      "5\n"
     ]
    },
    {
     "name": "stderr",
     "output_type": "stream",
     "text": [
      "100%|██████████| 6300/6300 [7:54:03<00:00,  4.51s/it, curr_speed=36.93 Mbps, mb_sent=2205.39 Mb]  \n"
     ]
    },
    {
     "name": "stdout",
     "output_type": "stream",
     "text": [
      "Waiting for simulation script to connect on port: tcp://localhost:42991\n",
      "Please start proper ns-3 simulation script using ./waf --run \"...\"\n",
      "Waf: Entering directory `/home/samuel/ns-allinone-3.29/ns-3.29/build'\n",
      "Waf: Leaving directory `/home/samuel/ns-allinone-3.29/ns-3.29/build'\n",
      "Build commands will be stored in build/compile_commands.json\n",
      "'build' finished successfully (3.183s)\n"
     ]
    },
    {
     "name": "stderr",
     "output_type": "stream",
     "text": [
      "Ns3Env parameters:\n",
      "--nWifi: 50\n",
      "--simulationTime: 60\n",
      "--openGymPort: 42991\n",
      "--envStepTime: 0.01\n",
      "--seed: 42\n",
      "--agentType: continuous\n",
      "--scenario: convergence\n",
      "--dryRun: 0\n",
      "Simulation started\n",
      "Simulation process id: 1745303 (parent (waf shell) id: 1745278)\n",
      "Waiting for Python process to connect on port: tcp://localhost:42991\n",
      "Please start proper Python Gym Agent\n",
      "  0%|          | 0/6300 [00:00<?, ?it/s]"
     ]
    },
    {
     "name": "stdout",
     "output_type": "stream",
     "text": [
      "Sent 2205.39 Mb/s.\tMean speed: 36.76 Mb/s\tEpisode 6/15 finished\n",
      "\n",
      "6\n"
     ]
    },
    {
     "name": "stderr",
     "output_type": "stream",
     "text": [
      " 97%|█████████▋| 6086/6300 [7:32:16<20:47,  5.83s/it, curr_speed=37.21 Mbps, mb_sent=2122.95 Mb]  COMET ERROR: File could not be uploaded\n",
      " 97%|█████████▋| 6088/6300 [7:32:27<20:01,  5.67s/it, curr_speed=37.19 Mbps, mb_sent=2123.67 Mb]COMET ERROR: File could not be uploaded\n",
      " 97%|█████████▋| 6089/6300 [7:32:33<20:29,  5.82s/it, curr_speed=37.21 Mbps, mb_sent=2124.02 Mb]COMET ERROR: File could not be uploaded\n",
      " 97%|█████████▋| 6090/6300 [7:32:38<20:08,  5.76s/it, curr_speed=37.16 Mbps, mb_sent=2124.38 Mb]COMET ERROR: File could not be uploaded\n",
      " 97%|█████████▋| 6095/6300 [7:33:07<20:08,  5.90s/it, curr_speed=37.19 Mbps, mb_sent=2126.37 Mb]COMET ERROR: File could not be uploaded\n",
      " 97%|█████████▋| 6097/6300 [7:33:19<19:39,  5.81s/it, curr_speed=37.28 Mbps, mb_sent=2127.14 Mb]COMET ERROR: File could not be uploaded\n",
      " 97%|█████████▋| 6098/6300 [7:33:25<19:37,  5.83s/it, curr_speed=37.23 Mbps, mb_sent=2127.46 Mb]COMET ERROR: File could not be uploaded\n",
      " 97%|█████████▋| 6104/6300 [7:34:00<18:55,  5.79s/it, curr_speed=37.25 Mbps, mb_sent=2129.84 Mb]COMET ERROR: File could not be uploaded\n",
      " 97%|█████████▋| 6105/6300 [7:34:06<19:30,  6.00s/it, curr_speed=37.22 Mbps, mb_sent=2130.19 Mb]COMET ERROR: File could not be uploaded\n",
      " 97%|█████████▋| 6113/6300 [7:34:52<17:59,  5.77s/it, curr_speed=37.27 Mbps, mb_sent=2133.22 Mb]COMET ERROR: File could not be uploaded\n",
      " 97%|█████████▋| 6119/6300 [7:35:26<17:25,  5.78s/it, curr_speed=37.21 Mbps, mb_sent=2135.53 Mb]COMET ERROR: File could not be uploaded\n",
      " 97%|█████████▋| 6120/6300 [7:35:32<17:27,  5.82s/it, curr_speed=37.27 Mbps, mb_sent=2135.92 Mb]COMET ERROR: File could not be uploaded\n",
      " 99%|█████████▉| 6264/6300 [7:49:15<03:18,  5.53s/it, curr_speed=37.62 Mbps, mb_sent=2189.83 Mb]COMET ERROR: File could not be uploaded\n",
      " 99%|█████████▉| 6266/6300 [7:49:26<03:15,  5.74s/it, curr_speed=37.67 Mbps, mb_sent=2190.61 Mb]COMET ERROR: File could not be uploaded\n",
      "100%|█████████▉| 6299/6300 [7:52:39<00:05,  5.81s/it, curr_speed=37.48 Mbps, mb_sent=2202.97 Mb]COMET ERROR: File could not be uploaded\n",
      "100%|██████████| 6300/6300 [7:52:45<00:00,  4.50s/it, curr_speed=37.54 Mbps, mb_sent=2203.37 Mb]\n"
     ]
    },
    {
     "name": "stdout",
     "output_type": "stream",
     "text": [
      "Waiting for simulation script to connect on port: tcp://localhost:26549\n",
      "Please start proper ns-3 simulation script using ./waf --run \"...\"\n",
      "Waf: Entering directory `/home/samuel/ns-allinone-3.29/ns-3.29/build'\n",
      "Waf: Leaving directory `/home/samuel/ns-allinone-3.29/ns-3.29/build'\n",
      "Build commands will be stored in build/compile_commands.json\n",
      "'build' finished successfully (3.490s)\n"
     ]
    },
    {
     "name": "stderr",
     "output_type": "stream",
     "text": [
      "Ns3Env parameters:\n",
      "--nWifi: 50\n",
      "--simulationTime: 60\n",
      "--openGymPort: 26549\n",
      "--envStepTime: 0.01\n",
      "--seed: 42\n",
      "--agentType: continuous\n",
      "--scenario: convergence\n",
      "--dryRun: 0\n",
      "Simulation started\n",
      "COMET ERROR: File could not be uploaded\n",
      "Simulation process id: 1919154 (parent (waf shell) id: 1919107)\n",
      "Waiting for Python process to connect on port: tcp://localhost:26549\n",
      "Please start proper Python Gym Agent\n",
      "  0%|          | 0/6300 [00:00<?, ?it/s]"
     ]
    },
    {
     "name": "stdout",
     "output_type": "stream",
     "text": [
      "Sent 2203.37 Mb/s.\tMean speed: 36.72 Mb/s\tEpisode 7/15 finished\n",
      "\n",
      "7\n"
     ]
    },
    {
     "name": "stderr",
     "output_type": "stream",
     "text": [
      "  5%|▍         | 310/6300 [04:06<7:34:27,  4.55s/it, curr_speed=38.97 Mbps, mb_sent=3.51 Mb]COMET ERROR: File could not be uploaded\n",
      "  5%|▍         | 313/6300 [04:20<7:39:19,  4.60s/it, curr_speed=39.00 Mbps, mb_sent=4.68 Mb]COMET ERROR: File could not be uploaded\n",
      "  5%|▌         | 316/6300 [04:35<7:47:07,  4.68s/it, curr_speed=39.39 Mbps, mb_sent=5.91 Mb]COMET ERROR: File could not be uploaded\n",
      "  5%|▌         | 318/6300 [04:44<7:52:29,  4.74s/it, curr_speed=39.42 Mbps, mb_sent=6.70 Mb]COMET ERROR: File could not be uploaded\n",
      "  5%|▌         | 320/6300 [04:53<7:45:36,  4.67s/it, curr_speed=39.03 Mbps, mb_sent=7.42 Mb]COMET ERROR: File could not be uploaded\n",
      "  5%|▌         | 321/6300 [04:58<7:42:44,  4.64s/it, curr_speed=38.93 Mbps, mb_sent=7.79 Mb]COMET ERROR: File could not be uploaded\n",
      "  5%|▌         | 323/6300 [05:07<7:42:20,  4.64s/it, curr_speed=38.84 Mbps, mb_sent=8.54 Mb]COMET ERROR: File could not be uploaded\n",
      "  5%|▌         | 325/6300 [05:17<7:53:34,  4.76s/it, curr_speed=38.67 Mbps, mb_sent=9.28 Mb]COMET ERROR: File could not be uploaded\n",
      "100%|██████████| 6300/6300 [8:18:48<00:00,  4.75s/it, curr_speed=37.19 Mbps, mb_sent=2232.12 Mb]  \n"
     ]
    },
    {
     "name": "stdout",
     "output_type": "stream",
     "text": [
      "Waiting for simulation script to connect on port: tcp://localhost:34482\n",
      "Please start proper ns-3 simulation script using ./waf --run \"...\"\n",
      "Waf: Entering directory `/home/samuel/ns-allinone-3.29/ns-3.29/build'\n",
      "Waf: Leaving directory `/home/samuel/ns-allinone-3.29/ns-3.29/build'\n",
      "Build commands will be stored in build/compile_commands.json\n",
      "'build' finished successfully (3.542s)\n"
     ]
    },
    {
     "name": "stderr",
     "output_type": "stream",
     "text": [
      "Ns3Env parameters:\n",
      "--nWifi: 50\n",
      "--simulationTime: 60\n",
      "--openGymPort: 34482\n",
      "--envStepTime: 0.01\n",
      "--seed: 42\n",
      "--agentType: continuous\n",
      "--scenario: convergence\n",
      "--dryRun: 0\n",
      "Simulation started\n",
      "Simulation process id: 2110871 (parent (waf shell) id: 2110840)\n",
      "Waiting for Python process to connect on port: tcp://localhost:34482\n",
      "Please start proper Python Gym Agent\n",
      "  0%|          | 0/6300 [00:00<?, ?it/s]"
     ]
    },
    {
     "name": "stdout",
     "output_type": "stream",
     "text": [
      "Sent 2232.12 Mb/s.\tMean speed: 37.20 Mb/s\tEpisode 8/15 finished\n",
      "\n",
      "8\n"
     ]
    },
    {
     "name": "stderr",
     "output_type": "stream",
     "text": [
      " 80%|███████▉  | 5039/6300 [6:19:45<1:46:50,  5.08s/it, curr_speed=37.85 Mbps, mb_sent=1788.54 Mb]COMET ERROR: File could not be uploaded\n",
      " 80%|████████  | 5041/6300 [6:19:57<1:53:26,  5.41s/it, curr_speed=37.94 Mbps, mb_sent=1789.32 Mb]COMET ERROR: File could not be uploaded\n",
      "COMET ERROR: File could not be uploaded\n",
      " 80%|████████  | 5042/6300 [6:20:02<1:53:07,  5.40s/it, curr_speed=37.88 Mbps, mb_sent=1789.67 Mb]COMET ERROR: File could not be uploaded\n",
      " 80%|████████  | 5043/6300 [6:20:07<1:52:10,  5.35s/it, curr_speed=37.90 Mbps, mb_sent=1790.09 Mb]COMET ERROR: File could not be uploaded\n",
      " 80%|████████  | 5044/6300 [6:20:12<1:46:36,  5.09s/it, curr_speed=37.91 Mbps, mb_sent=1790.46 Mb]COMET ERROR: File could not be uploaded\n",
      " 80%|████████  | 5045/6300 [6:20:17<1:45:56,  5.06s/it, curr_speed=37.96 Mbps, mb_sent=1790.83 Mb]COMET ERROR: File could not be uploaded\n",
      " 80%|████████  | 5046/6300 [6:20:22<1:44:58,  5.02s/it, curr_speed=37.99 Mbps, mb_sent=1791.22 Mb]COMET ERROR: File could not be uploaded\n",
      " 80%|████████  | 5047/6300 [6:20:27<1:48:14,  5.18s/it, curr_speed=37.98 Mbps, mb_sent=1791.59 Mb]COMET ERROR: File could not be uploaded\n",
      " 80%|████████  | 5047/6300 [6:20:32<1:48:14,  5.18s/it, curr_speed=38.00 Mbps, mb_sent=1792.01 Mb]COMET ERROR: File could not be uploaded\n",
      " 80%|████████  | 5049/6300 [6:20:37<1:46:43,  5.12s/it, curr_speed=38.02 Mbps, mb_sent=1792.40 Mb]COMET ERROR: File could not be uploaded\n",
      " 80%|████████  | 5050/6300 [6:20:42<1:45:04,  5.04s/it, curr_speed=37.98 Mbps, mb_sent=1792.74 Mb]COMET ERROR: File could not be uploaded\n",
      " 80%|████████  | 5051/6300 [6:20:47<1:43:23,  4.97s/it, curr_speed=37.94 Mbps, mb_sent=1793.10 Mb]COMET ERROR: File could not be uploaded\n",
      " 80%|████████  | 5052/6300 [6:20:52<1:42:35,  4.93s/it, curr_speed=37.95 Mbps, mb_sent=1793.49 Mb]COMET ERROR: File could not be uploaded\n",
      "100%|██████████| 6300/6300 [8:08:18<00:00,  4.65s/it, curr_speed=36.78 Mbps, mb_sent=2260.87 Mb]  \n"
     ]
    },
    {
     "name": "stdout",
     "output_type": "stream",
     "text": [
      "Waiting for simulation script to connect on port: tcp://localhost:48514\n",
      "Please start proper ns-3 simulation script using ./waf --run \"...\"\n",
      "Waf: Entering directory `/home/samuel/ns-allinone-3.29/ns-3.29/build'\n",
      "Waf: Leaving directory `/home/samuel/ns-allinone-3.29/ns-3.29/build'\n",
      "Build commands will be stored in build/compile_commands.json\n",
      "'build' finished successfully (3.185s)\n"
     ]
    },
    {
     "name": "stderr",
     "output_type": "stream",
     "text": [
      "Ns3Env parameters:\n",
      "--nWifi: 50\n",
      "--simulationTime: 60\n",
      "--openGymPort: 48514\n",
      "--envStepTime: 0.01\n",
      "--seed: 42\n",
      "--agentType: continuous\n",
      "--scenario: convergence\n",
      "--dryRun: 0\n",
      "Simulation started\n",
      "Simulation process id: 2231316 (parent (waf shell) id: 2231286)\n",
      "Waiting for Python process to connect on port: tcp://localhost:48514\n",
      "Please start proper Python Gym Agent\n",
      "  0%|          | 0/6300 [00:00<?, ?it/s]"
     ]
    },
    {
     "name": "stdout",
     "output_type": "stream",
     "text": [
      "Sent 2260.87 Mb/s.\tMean speed: 37.68 Mb/s\tEpisode 9/15 finished\n",
      "\n",
      "9\n"
     ]
    },
    {
     "name": "stderr",
     "output_type": "stream",
     "text": [
      " 92%|█████████▏| 5781/6300 [6:56:36<43:12,  4.99s/it, curr_speed=37.40 Mbps, mb_sent=2073.88 Mb]  COMET ERROR: File could not be uploaded\n",
      " 92%|█████████▏| 5783/6300 [6:56:46<43:45,  5.08s/it, curr_speed=37.38 Mbps, mb_sent=2074.64 Mb]COMET ERROR: File could not be uploaded\n",
      "COMET ERROR: File could not be uploaded\n",
      " 92%|█████████▏| 5784/6300 [6:56:52<45:50,  5.33s/it, curr_speed=37.38 Mbps, mb_sent=2075.03 Mb]COMET ERROR: File could not be uploaded\n",
      " 92%|█████████▏| 5788/6300 [6:57:12<42:24,  4.97s/it, curr_speed=37.40 Mbps, mb_sent=2076.51 Mb]COMET ERROR: File could not be uploaded\n",
      " 92%|█████████▏| 5794/6300 [6:57:43<43:29,  5.16s/it, curr_speed=37.45 Mbps, mb_sent=2078.77 Mb]COMET ERROR: File could not be uploaded\n",
      " 92%|█████████▏| 5802/6300 [6:58:24<42:34,  5.13s/it, curr_speed=37.44 Mbps, mb_sent=2081.79 Mb]COMET ERROR: File could not be uploaded\n",
      "100%|██████████| 6300/6300 [7:41:37<00:00,  4.40s/it, curr_speed=37.37 Mbps, mb_sent=2268.32 Mb]\n"
     ]
    },
    {
     "name": "stdout",
     "output_type": "stream",
     "text": [
      "Waiting for simulation script to connect on port: tcp://localhost:42009\n",
      "Please start proper ns-3 simulation script using ./waf --run \"...\"\n",
      "Waf: Entering directory `/home/samuel/ns-allinone-3.29/ns-3.29/build'\n",
      "Waf: Leaving directory `/home/samuel/ns-allinone-3.29/ns-3.29/build'\n",
      "Build commands will be stored in build/compile_commands.json\n",
      "'build' finished successfully (3.017s)\n"
     ]
    },
    {
     "name": "stderr",
     "output_type": "stream",
     "text": [
      "Ns3Env parameters:\n",
      "--nWifi: 50\n",
      "--simulationTime: 60\n",
      "--openGymPort: 42009\n",
      "--envStepTime: 0.01\n",
      "--seed: 42\n",
      "--agentType: continuous\n",
      "--scenario: convergence\n",
      "--dryRun: 0\n",
      "Simulation started\n",
      "Simulation process id: 2329752 (parent (waf shell) id: 2329726)\n",
      "Waiting for Python process to connect on port: tcp://localhost:42009\n",
      "Please start proper Python Gym Agent\n",
      "  0%|          | 0/6300 [00:00<?, ?it/s]"
     ]
    },
    {
     "name": "stdout",
     "output_type": "stream",
     "text": [
      "Sent 2268.32 Mb/s.\tMean speed: 37.81 Mb/s\tEpisode 10/15 finished\n",
      "\n",
      "10\n"
     ]
    },
    {
     "name": "stderr",
     "output_type": "stream",
     "text": [
      "100%|██████████| 6300/6300 [8:00:49<00:00,  4.58s/it, curr_speed=37.74 Mbps, mb_sent=2263.59 Mb]  \n"
     ]
    },
    {
     "name": "stdout",
     "output_type": "stream",
     "text": [
      "Waiting for simulation script to connect on port: tcp://localhost:15873\n",
      "Please start proper ns-3 simulation script using ./waf --run \"...\"\n",
      "Waf: Entering directory `/home/samuel/ns-allinone-3.29/ns-3.29/build'\n",
      "Waf: Leaving directory `/home/samuel/ns-allinone-3.29/ns-3.29/build'\n",
      "Build commands will be stored in build/compile_commands.json\n",
      "'build' finished successfully (3.208s)\n"
     ]
    },
    {
     "name": "stderr",
     "output_type": "stream",
     "text": [
      "Ns3Env parameters:\n",
      "--nWifi: 50\n",
      "--simulationTime: 60\n",
      "--openGymPort: 15873\n",
      "--envStepTime: 0.01\n",
      "--seed: 42\n",
      "--agentType: continuous\n",
      "--scenario: convergence\n",
      "--dryRun: 0\n",
      "Simulation started\n",
      "Simulation process id: 2440501 (parent (waf shell) id: 2440479)\n",
      "Waiting for Python process to connect on port: tcp://localhost:15873\n",
      "Please start proper Python Gym Agent\n",
      "  0%|          | 0/6300 [00:00<?, ?it/s]"
     ]
    },
    {
     "name": "stdout",
     "output_type": "stream",
     "text": [
      "Sent 2263.59 Mb/s.\tMean speed: 37.73 Mb/s\tEpisode 11/15 finished\n",
      "\n",
      "11\n"
     ]
    },
    {
     "name": "stderr",
     "output_type": "stream",
     "text": [
      " 77%|███████▋  | 4840/6300 [5:27:22<1:51:19,  4.58s/it, curr_speed=38.00 Mbps, mb_sent=1720.38 Mb]COMET ERROR: File could not be uploaded\n",
      " 77%|███████▋  | 4841/6300 [5:27:26<1:50:39,  4.55s/it, curr_speed=38.00 Mbps, mb_sent=1720.76 Mb]COMET ERROR: File could not be uploaded\n",
      " 77%|███████▋  | 4844/6300 [5:27:39<1:47:39,  4.44s/it, curr_speed=38.01 Mbps, mb_sent=1721.91 Mb]COMET ERROR: File could not be uploaded\n",
      "COMET ERROR: File could not be uploaded\n",
      "COMET ERROR: File could not be uploaded\n",
      " 77%|███████▋  | 4845/6300 [5:27:44<1:48:20,  4.47s/it, curr_speed=37.93 Mbps, mb_sent=1722.26 Mb]COMET ERROR: File could not be uploaded\n",
      " 77%|███████▋  | 4846/6300 [5:27:48<1:46:33,  4.40s/it, curr_speed=37.83 Mbps, mb_sent=1722.56 Mb]COMET ERROR: File could not be uploaded\n",
      " 77%|███████▋  | 4847/6300 [5:27:52<1:42:32,  4.23s/it, curr_speed=37.80 Mbps, mb_sent=1722.95 Mb]COMET ERROR: File could not be uploaded\n",
      " 77%|███████▋  | 4848/6300 [5:27:56<1:44:41,  4.33s/it, curr_speed=37.82 Mbps, mb_sent=1723.34 Mb]COMET ERROR: File could not be uploaded\n",
      " 77%|███████▋  | 4849/6300 [5:28:01<1:46:07,  4.39s/it, curr_speed=37.79 Mbps, mb_sent=1723.69 Mb]COMET ERROR: File could not be uploaded\n",
      " 77%|███████▋  | 4850/6300 [5:28:05<1:46:35,  4.41s/it, curr_speed=37.76 Mbps, mb_sent=1724.07 Mb]COMET ERROR: File could not be uploaded\n",
      " 77%|███████▋  | 4851/6300 [5:28:10<1:47:41,  4.46s/it, curr_speed=37.82 Mbps, mb_sent=1724.45 Mb]COMET ERROR: File could not be uploaded\n",
      " 77%|███████▋  | 4852/6300 [5:28:15<1:49:18,  4.53s/it, curr_speed=37.80 Mbps, mb_sent=1724.83 Mb]COMET ERROR: File could not be uploaded\n",
      " 77%|███████▋  | 4853/6300 [5:28:20<1:52:13,  4.65s/it, curr_speed=37.83 Mbps, mb_sent=1725.22 Mb]COMET ERROR: File could not be uploaded\n",
      " 77%|███████▋  | 4854/6300 [5:28:24<1:52:56,  4.69s/it, curr_speed=37.84 Mbps, mb_sent=1725.60 Mb]COMET ERROR: File could not be uploaded\n",
      "100%|██████████| 6300/6300 [7:18:55<00:00,  4.18s/it, curr_speed=37.16 Mbps, mb_sent=2269.27 Mb]  \n"
     ]
    },
    {
     "name": "stdout",
     "output_type": "stream",
     "text": [
      "Waiting for simulation script to connect on port: tcp://localhost:17223\n",
      "Please start proper ns-3 simulation script using ./waf --run \"...\"\n",
      "Waf: Entering directory `/home/samuel/ns-allinone-3.29/ns-3.29/build'\n",
      "Waf: Leaving directory `/home/samuel/ns-allinone-3.29/ns-3.29/build'\n",
      "Build commands will be stored in build/compile_commands.json\n",
      "'build' finished successfully (2.941s)\n"
     ]
    },
    {
     "name": "stderr",
     "output_type": "stream",
     "text": [
      "Ns3Env parameters:\n",
      "--nWifi: 50\n",
      "--simulationTime: 60\n",
      "--openGymPort: 17223\n",
      "--envStepTime: 0.01\n",
      "--seed: 42\n",
      "--agentType: continuous\n",
      "--scenario: convergence\n",
      "--dryRun: 0\n",
      "Simulation started\n",
      "Simulation process id: 2540657 (parent (waf shell) id: 2540633)\n",
      "Waiting for Python process to connect on port: tcp://localhost:17223\n",
      "Please start proper Python Gym Agent\n",
      "  0%|          | 0/6300 [00:00<?, ?it/s]"
     ]
    },
    {
     "name": "stdout",
     "output_type": "stream",
     "text": [
      "Sent 2269.27 Mb/s.\tMean speed: 37.82 Mb/s\tEpisode 12/15 finished\n",
      "\n",
      "12\n",
      "Turning off noise\n"
     ]
    },
    {
     "name": "stderr",
     "output_type": "stream",
     "text": [
      "100%|██████████| 6300/6300 [7:21:20<00:00,  4.20s/it, curr_speed=38.01 Mbps, mb_sent=2276.11 Mb]  \n"
     ]
    },
    {
     "name": "stdout",
     "output_type": "stream",
     "text": [
      "Waiting for simulation script to connect on port: tcp://localhost:29995\n",
      "Please start proper ns-3 simulation script using ./waf --run \"...\"\n",
      "Waf: Entering directory `/home/samuel/ns-allinone-3.29/ns-3.29/build'\n",
      "Waf: Leaving directory `/home/samuel/ns-allinone-3.29/ns-3.29/build'\n",
      "Build commands will be stored in build/compile_commands.json\n",
      "'build' finished successfully (2.786s)\n"
     ]
    },
    {
     "name": "stderr",
     "output_type": "stream",
     "text": [
      "Ns3Env parameters:\n",
      "--nWifi: 50\n",
      "--simulationTime: 60\n",
      "--openGymPort: 29995\n",
      "--envStepTime: 0.01\n",
      "--seed: 42\n",
      "--agentType: continuous\n",
      "--scenario: convergence\n",
      "--dryRun: 0\n",
      "Simulation started\n",
      "Simulation process id: 2642658 (parent (waf shell) id: 2642635)\n",
      "Waiting for Python process to connect on port: tcp://localhost:29995\n",
      "Please start proper Python Gym Agent\n",
      "  0%|          | 0/6300 [00:00<?, ?it/s]"
     ]
    },
    {
     "name": "stdout",
     "output_type": "stream",
     "text": [
      "Sent 2276.11 Mb/s.\tMean speed: 37.94 Mb/s\tEpisode 13/15 finished\n",
      "\n",
      "13\n",
      "Turning off noise\n"
     ]
    },
    {
     "name": "stderr",
     "output_type": "stream",
     "text": [
      " 10%|█         | 656/6300 [25:55<5:55:19,  3.78s/it, curr_speed=38.01 Mbps, mb_sent=135.18 Mb]COMET ERROR: File could not be uploaded\n",
      " 10%|█         | 658/6300 [26:03<6:19:52,  4.04s/it, curr_speed=37.99 Mbps, mb_sent=135.93 Mb]COMET ERROR: File could not be uploaded\n",
      " 10%|█         | 659/6300 [26:07<6:17:15,  4.01s/it, curr_speed=38.01 Mbps, mb_sent=136.29 Mb]COMET ERROR: File could not be uploaded\n",
      " 11%|█         | 665/6300 [26:31<6:18:32,  4.03s/it, curr_speed=38.19 Mbps, mb_sent=138.68 Mb]COMET ERROR: File could not be uploaded\n",
      " 11%|█         | 672/6300 [26:59<6:14:19,  3.99s/it, curr_speed=38.07 Mbps, mb_sent=141.20 Mb]COMET ERROR: File could not be uploaded\n",
      " 11%|█         | 673/6300 [27:03<6:06:18,  3.91s/it, curr_speed=38.03 Mbps, mb_sent=141.59 Mb]COMET ERROR: File could not be uploaded\n",
      " 11%|█         | 675/6300 [27:11<6:11:40,  3.96s/it, curr_speed=38.07 Mbps, mb_sent=142.38 Mb]COMET ERROR: File could not be uploaded\n",
      " 11%|█         | 678/6300 [27:23<6:13:45,  3.99s/it, curr_speed=38.17 Mbps, mb_sent=143.55 Mb]COMET ERROR: File could not be uploaded\n",
      " 11%|█         | 681/6300 [27:35<6:03:54,  3.89s/it, curr_speed=38.17 Mbps, mb_sent=144.69 Mb]COMET ERROR: File could not be uploaded\n",
      " 11%|█         | 683/6300 [27:43<6:07:25,  3.92s/it, curr_speed=38.03 Mbps, mb_sent=145.36 Mb]COMET ERROR: File could not be uploaded\n",
      " 11%|█         | 689/6300 [28:05<5:54:00,  3.79s/it, curr_speed=38.13 Mbps, mb_sent=147.70 Mb]COMET ERROR: File could not be uploaded\n",
      " 11%|█         | 691/6300 [28:13<5:51:18,  3.76s/it, curr_speed=38.15 Mbps, mb_sent=148.48 Mb]COMET ERROR: File could not be uploaded\n",
      " 11%|█         | 693/6300 [28:21<5:57:55,  3.83s/it, curr_speed=38.14 Mbps, mb_sent=149.26 Mb]COMET ERROR: File could not be uploaded\n",
      " 11%|█         | 695/6300 [28:29<5:55:56,  3.81s/it, curr_speed=38.15 Mbps, mb_sent=150.02 Mb]COMET ERROR: File could not be uploaded\n",
      " 11%|█         | 698/6300 [28:40<6:07:13,  3.93s/it, curr_speed=38.15 Mbps, mb_sent=151.22 Mb]COMET ERROR: File could not be uploaded\n",
      " 11%|█         | 701/6300 [28:52<6:10:05,  3.97s/it, curr_speed=38.14 Mbps, mb_sent=152.33 Mb]COMET ERROR: File could not be uploaded\n",
      " 11%|█         | 702/6300 [28:57<6:20:14,  4.08s/it, curr_speed=38.13 Mbps, mb_sent=152.73 Mb]COMET ERROR: File could not be uploaded\n",
      " 13%|█▎        | 826/6300 [37:04<5:55:07,  3.89s/it, curr_speed=38.37 Mbps, mb_sent=200.39 Mb]COMET ERROR: File could not be uploaded\n",
      " 14%|█▎        | 864/6300 [39:31<5:51:58,  3.88s/it, curr_speed=38.21 Mbps, mb_sent=214.87 Mb]COMET ERROR: File could not be uploaded\n",
      " 14%|█▍        | 870/6300 [39:55<6:06:32,  4.05s/it, curr_speed=38.21 Mbps, mb_sent=217.17 Mb]COMET ERROR: File could not be uploaded\n",
      "COMET ERROR: File could not be uploaded\n",
      " 14%|█▍        | 879/6300 [40:30<5:41:26,  3.78s/it, curr_speed=38.18 Mbps, mb_sent=220.55 Mb]COMET ERROR: File could not be uploaded\n",
      " 16%|█▌        | 1009/6300 [49:04<5:55:51,  4.04s/it, curr_speed=38.58 Mbps, mb_sent=270.64 Mb]COMET ERROR: File could not be uploaded\n",
      "100%|██████████| 6300/6300 [7:10:22<00:00,  4.10s/it, curr_speed=37.45 Mbps, mb_sent=2276.43 Mb]  \n"
     ]
    },
    {
     "name": "stdout",
     "output_type": "stream",
     "text": [
      "Waiting for simulation script to connect on port: tcp://localhost:17602\n",
      "Please start proper ns-3 simulation script using ./waf --run \"...\"\n",
      "Waf: Entering directory `/home/samuel/ns-allinone-3.29/ns-3.29/build'\n",
      "Waf: Leaving directory `/home/samuel/ns-allinone-3.29/ns-3.29/build'\n",
      "Build commands will be stored in build/compile_commands.json\n",
      "'build' finished successfully (2.943s)\n"
     ]
    },
    {
     "name": "stderr",
     "output_type": "stream",
     "text": [
      "Ns3Env parameters:\n",
      "--nWifi: 50\n",
      "--simulationTime: 60\n",
      "--openGymPort: 17602\n",
      "--envStepTime: 0.01\n",
      "--seed: 42\n",
      "--agentType: continuous\n",
      "--scenario: convergence\n",
      "--dryRun: 0\n",
      "Simulation started\n",
      "Simulation process id: 2722080 (parent (waf shell) id: 2722054)\n",
      "Waiting for Python process to connect on port: tcp://localhost:17602\n",
      "Please start proper Python Gym Agent\n",
      "  0%|          | 0/6300 [00:00<?, ?it/s]"
     ]
    },
    {
     "name": "stdout",
     "output_type": "stream",
     "text": [
      "Sent 2276.43 Mb/s.\tMean speed: 37.94 Mb/s\tEpisode 14/15 finished\n",
      "\n",
      "14\n",
      "Turning off noise\n"
     ]
    },
    {
     "name": "stderr",
     "output_type": "stream",
     "text": [
      "100%|██████████| 6300/6300 [1:40:41<00:00,  1.04it/s, curr_speed=37.66 Mbps, mb_sent=2277.15 Mb]\n"
     ]
    },
    {
     "name": "stdout",
     "output_type": "stream",
     "text": [
      "Waiting for simulation script to connect on port: tcp://localhost:38102\n",
      "Please start proper ns-3 simulation script using ./waf --run \"...\"\n",
      "Waf: Entering directory `/home/samuel/ns-allinone-3.29/ns-3.29/build'\n",
      "Waf: Leaving directory `/home/samuel/ns-allinone-3.29/ns-3.29/build'\n",
      "Build commands will be stored in build/compile_commands.json\n",
      "'build' finished successfully (2.869s)\n"
     ]
    },
    {
     "name": "stderr",
     "output_type": "stream",
     "text": [
      "Ns3Env parameters:\n",
      "--nWifi: 50\n",
      "--simulationTime: 60\n",
      "--openGymPort: 38102\n",
      "--envStepTime: 0.01\n",
      "--seed: 42\n",
      "--agentType: continuous\n",
      "--scenario: convergence\n",
      "--dryRun: 0\n",
      "Simulation started\n",
      "Simulation process id: 2745135 (parent (waf shell) id: 2745112)\n",
      "Waiting for Python process to connect on port: tcp://localhost:38102\n",
      "Please start proper Python Gym Agent\n",
      "COMET INFO: ----------------------------\n",
      "COMET INFO: Comet.ml Experiment Summary:\n",
      "COMET INFO:   Data:\n",
      "COMET INFO:     url: https://www.comet.com/sheila-janota/rl-in-wifi-with-queue-level/6944c5b2fb114376a6cad2fd1a8faf58\n",
      "COMET INFO:   Metrics [count] (min, max):\n",
      "COMET INFO:     Chosen CW [89985]           : (16.0, 1024.0)\n",
      "COMET INFO:     Cumulative reward [15]      : (2575.507568359375, 3187.622314453125)\n",
      "COMET INFO:     Current throughput [89985]  : (26.248199462890625, 58.952266693115234)\n",
      "COMET INFO:     Fairness index [89985]      : (0.025603000074625015, 0.9952549934387207)\n",
      "COMET INFO:     Megabytes sent [89985]      : (0.3350830078125, 2277.145841449499)\n",
      "COMET INFO:     Observation 0 [89985]       : (0.08870588390156627, 0.9675058849652608)\n",
      "COMET INFO:     Observation 1 [89985]       : (0.0, 0.013002279317134234)\n",
      "COMET INFO:     Per-ep reward [89985]       : (126.869873046875, 3187.622314453125)\n",
      "COMET INFO:     Round megabytes sent [89985]: (0.0, 11.85076904296875)\n",
      "COMET INFO:     Round reward [89985]        : (0.0, 0.98291015625)\n",
      "COMET INFO:     Speed [15]                  : (31.19678586628288, 37.95243069082498)\n",
      "COMET INFO:     Station count [89985]       : (5.0, 50.0)\n",
      "COMET INFO:     actor_loss [89985]          : (-1.6911590099334717, 0.0)\n",
      "COMET INFO:     critic_loss [89985]         : (0.0, 5.209325313568115)\n",
      "COMET INFO:     loss [33578]                : (-1.6910592317581177, 0.6693558692932129)\n",
      "COMET INFO:   Uploads:\n",
      "COMET INFO:     histogram3d: 89985\n",
      "COMET INFO: ----------------------------\n"
     ]
    },
    {
     "name": "stdout",
     "output_type": "stream",
     "text": [
      "Sent 2277.15 Mb/s.\tMean speed: 37.95 Mb/s\tEpisode 15/15 finished\n",
      "\n"
     ]
    },
    {
     "name": "stderr",
     "output_type": "stream",
     "text": [
      "COMET INFO: Uploading stats to Comet before program termination (may take several seconds)\n"
     ]
    },
    {
     "name": "stdout",
     "output_type": "stream",
     "text": [
      "Training finished.\n"
     ]
    }
   ],
   "source": [
    "#%%\n",
    "teacher = Teacher(env, 1, Preprocessor(False))\n",
    "\n",
    "lr_actor = 4e-4\n",
    "lr_critic = 4e-3\n",
    "\n",
    "config = Config(buffer_size=4*steps_per_ep*threads_no, batch_size=32, gamma=0.7, tau=1e-3, lr_actor=lr_actor, lr_critic=lr_critic, update_every=1)\n",
    "agent = Agent(state_size=50, action_size=1, config=config, actor_layers=[8, 128, 16], critic_layers=[8,128,16])\n",
    "\n",
    "# Test the model\n",
    "hyperparams = {**config.__dict__, **sim_args}\n",
    "tags = [\"Rew: normalized speed\",\n",
    "        f\"{Agent.NAME}\",\n",
    "        sim_args['scenario'],\n",
    "        f\"Actor: {lr_actor}\",\n",
    "        f\"Critic: {lr_critic}\",\n",
    "        f\"Instances: {threads_no}\",\n",
    "        f\"Station count: {sim_args['nWifi']}\",\n",
    "        *[f\"{key}: {sim_args[key]}\" for key in list(sim_args)[:3]]]\n",
    "# agent.save()\n",
    "logger = teacher.train(agent, EPISODE_COUNT,\n",
    "                        simTime=simTime,\n",
    "                        stepTime=stepTime,\n",
    "                        history_length=history_length,\n",
    "                        send_logs=True,\n",
    "                        experimental=True,\n",
    "                        tags=tags,\n",
    "                        parameters=hyperparams)\n",
    "# logger = teacher.eval(agent,\n",
    "#                         simTime=simTime,\n",
    "#                         stepTime=stepTime,\n",
    "#                         history_length=history_length,\n",
    "#                         tags=tags,\n",
    "#                         parameters=hyperparams)\n",
    "# agent.save()"
   ]
  },
  {
   "cell_type": "code",
   "execution_count": null,
   "id": "450f7642",
   "metadata": {},
   "outputs": [],
   "source": []
  },
  {
   "cell_type": "markdown",
   "id": "d85e4184",
   "metadata": {},
   "source": [
    "# Execution num2:"
   ]
  },
  {
   "cell_type": "code",
   "execution_count": 4,
   "id": "cf4a946a",
   "metadata": {},
   "outputs": [],
   "source": [
    "#%%\n",
    "from ns3gym import ns3env\n",
    "from comet_ml import Experiment, Optimizer\n",
    "import tqdm\n",
    "import subprocess\n",
    "from collections import deque\n",
    "import numpy as np\n",
    "\n",
    "from agents.ddpg.agent import Agent, Config\n",
    "from agents.ddpg.model import Actor\n",
    "from agents.teacher import Teacher, EnvWrapper\n",
    "from preprocessor import Preprocessor"
   ]
  },
  {
   "cell_type": "code",
   "execution_count": 5,
   "id": "24c034d0",
   "metadata": {},
   "outputs": [
    {
     "name": "stdout",
     "output_type": "stream",
     "text": [
      "Steps per episode: 6000\n",
      "Waiting for simulation script to connect on port: tcp://localhost:31825\n",
      "Please start proper ns-3 simulation script using ./waf --run \"...\"\n",
      "Waf: Entering directory `/home/samuel/ns-allinone-3.29/ns-3.29/build'\n",
      "Waf: Leaving directory `/home/samuel/ns-allinone-3.29/ns-3.29/build'\n",
      "Build commands will be stored in build/compile_commands.json\n",
      "'build' finished successfully (2.462s)\n"
     ]
    },
    {
     "name": "stderr",
     "output_type": "stream",
     "text": [
      "Ns3Env parameters:\n",
      "--nWifi: 50\n",
      "--simulationTime: 60\n",
      "--openGymPort: 31825\n",
      "--envStepTime: 0.01\n",
      "--seed: 42\n",
      "--agentType: continuous\n",
      "--scenario: convergence\n",
      "--dryRun: 0\n",
      "Simulation started\n"
     ]
    },
    {
     "name": "stdout",
     "output_type": "stream",
     "text": [
      "Observation space shape: (1, 300)\n",
      "Action space shape: (1, 1)\n"
     ]
    },
    {
     "name": "stderr",
     "output_type": "stream",
     "text": [
      "Simulation process id: 2745263 (parent (waf shell) id: 2745242)\n",
      "Waiting for Python process to connect on port: tcp://localhost:31825\n",
      "Please start proper Python Gym Agent\n"
     ]
    }
   ],
   "source": [
    "#%%\n",
    "scenario = \"convergence\"\n",
    "\n",
    "simTime = 60 # seconds\n",
    "stepTime = 0.01  # seconds\n",
    "history_length = 300\n",
    "\n",
    "EPISODE_COUNT = 15\n",
    "steps_per_ep = int(simTime/stepTime)\n",
    "\n",
    "sim_args = {\n",
    "    \"simTime\": simTime,\n",
    "    \"envStepTime\": stepTime,\n",
    "    \"historyLength\": history_length,\n",
    "    \"agentType\": Agent.TYPE,\n",
    "    \"scenario\": \"convergence\",\n",
    "    \"nWifi\": 50,\n",
    "}\n",
    "\n",
    "print(\"Steps per episode:\", steps_per_ep)\n",
    "\n",
    "threads_no = 1\n",
    "env = EnvWrapper(threads_no, **sim_args)\n",
    "\n",
    "#%%\n",
    "env.reset()\n",
    "ob_space = env.observation_space\n",
    "ac_space = env.action_space\n",
    "\n",
    "print(\"Observation space shape:\", ob_space)\n",
    "print(\"Action space shape:\", ac_space)\n",
    "\n",
    "assert ob_space is not None"
   ]
  },
  {
   "cell_type": "code",
   "execution_count": 6,
   "id": "8711e8ff",
   "metadata": {
    "scrolled": true
   },
   "outputs": [
    {
     "name": "stdout",
     "output_type": "stream",
     "text": [
      "CuDNN version: 7102\n",
      "cpu\n"
     ]
    },
    {
     "name": "stderr",
     "output_type": "stream",
     "text": [
      "COMET INFO: Experiment is live on comet.ml https://www.comet.com/sheila-janota/rl-in-wifi-with-queue-level/b3801b88337a46f4a3e83d5e3dff3c32\n",
      "\n",
      "  0%|          | 0/6300 [00:00<?, ?it/s]"
     ]
    },
    {
     "name": "stdout",
     "output_type": "stream",
     "text": [
      "0\n"
     ]
    },
    {
     "name": "stderr",
     "output_type": "stream",
     "text": [
      "  5%|▌         | 333/6300 [02:45<53:28,  1.86it/s, curr_speed=33.26 Mbps, mb_sent=10.64 Mb] "
     ]
    },
    {
     "name": "stdout",
     "output_type": "stream",
     "text": [
      "------- STARTED TRAINING -------\n"
     ]
    },
    {
     "name": "stderr",
     "output_type": "stream",
     "text": [
      "100%|██████████| 6300/6300 [7:00:05<00:00,  4.00s/it, curr_speed=29.71 Mbps, mb_sent=1862.41 Mb]  \n"
     ]
    },
    {
     "name": "stdout",
     "output_type": "stream",
     "text": [
      "Waiting for simulation script to connect on port: tcp://localhost:21665\n",
      "Please start proper ns-3 simulation script using ./waf --run \"...\"\n",
      "Waf: Entering directory `/home/samuel/ns-allinone-3.29/ns-3.29/build'\n",
      "Waf: Leaving directory `/home/samuel/ns-allinone-3.29/ns-3.29/build'\n",
      "Build commands will be stored in build/compile_commands.json\n",
      "'build' finished successfully (2.400s)\n"
     ]
    },
    {
     "name": "stderr",
     "output_type": "stream",
     "text": [
      "Ns3Env parameters:\n",
      "--nWifi: 50\n",
      "--simulationTime: 60\n",
      "--openGymPort: 21665\n",
      "--envStepTime: 0.01\n",
      "--seed: 42\n",
      "--agentType: continuous\n",
      "--scenario: convergence\n",
      "--dryRun: 0\n",
      "Simulation started\n",
      "Simulation process id: 2828459 (parent (waf shell) id: 2828439)\n",
      "Waiting for Python process to connect on port: tcp://localhost:21665\n",
      "Please start proper Python Gym Agent\n",
      "  0%|          | 0/6300 [00:00<?, ?it/s]"
     ]
    },
    {
     "name": "stdout",
     "output_type": "stream",
     "text": [
      "Sent 1862.41 Mb/s.\tMean speed: 31.04 Mb/s\tEpisode 1/15 finished\n",
      "\n",
      "1\n"
     ]
    },
    {
     "name": "stderr",
     "output_type": "stream",
     "text": [
      "100%|██████████| 6300/6300 [6:24:21<00:00,  3.66s/it, curr_speed=35.02 Mbps, mb_sent=1946.40 Mb]  \n"
     ]
    },
    {
     "name": "stdout",
     "output_type": "stream",
     "text": [
      "Waiting for simulation script to connect on port: tcp://localhost:37401\n",
      "Please start proper ns-3 simulation script using ./waf --run \"...\"\n",
      "Waf: Entering directory `/home/samuel/ns-allinone-3.29/ns-3.29/build'\n",
      "Waf: Leaving directory `/home/samuel/ns-allinone-3.29/ns-3.29/build'\n",
      "Build commands will be stored in build/compile_commands.json\n",
      "'build' finished successfully (2.397s)\n"
     ]
    },
    {
     "name": "stderr",
     "output_type": "stream",
     "text": [
      "Ns3Env parameters:\n",
      "--nWifi: 50\n",
      "--simulationTime: 60\n",
      "--openGymPort: 37401\n",
      "--envStepTime: 0.01\n",
      "--seed: 42\n",
      "--agentType: continuous\n",
      "--scenario: convergence\n",
      "--dryRun: 0\n",
      "Simulation started\n",
      "Simulation process id: 2907449 (parent (waf shell) id: 2907428)\n",
      "Waiting for Python process to connect on port: tcp://localhost:37401\n",
      "Please start proper Python Gym Agent\n",
      "  0%|          | 0/6300 [00:00<?, ?it/s]"
     ]
    },
    {
     "name": "stdout",
     "output_type": "stream",
     "text": [
      "Sent 1946.40 Mb/s.\tMean speed: 32.44 Mb/s\tEpisode 2/15 finished\n",
      "\n",
      "2\n"
     ]
    },
    {
     "name": "stderr",
     "output_type": "stream",
     "text": [
      " 84%|████████▎ | 5272/6300 [4:07:39<56:19,  3.29s/it, curr_speed=34.25 Mbps, mb_sent=1662.89 Mb]  COMET ERROR: File could not be uploaded\n",
      " 84%|████████▍ | 5282/6300 [4:08:13<59:35,  3.51s/it, curr_speed=34.18 Mbps, mb_sent=1665.95 Mb]COMET ERROR: File could not be uploaded\n",
      " 84%|████████▍ | 5292/6300 [4:08:46<52:26,  3.12s/it, curr_speed=32.98 Mbps, mb_sent=1669.24 Mb]  COMET ERROR: File could not be uploaded\n",
      " 84%|████████▍ | 5312/6300 [4:09:53<57:43,  3.51s/it, curr_speed=33.47 Mbps, mb_sent=1676.40 Mb]COMET ERROR: File could not be uploaded\n",
      " 84%|████████▍ | 5315/6300 [4:10:02<54:24,  3.31s/it, curr_speed=33.78 Mbps, mb_sent=1677.49 Mb]COMET ERROR: File could not be uploaded\n",
      " 84%|████████▍ | 5322/6300 [4:10:26<54:26,  3.34s/it, curr_speed=33.59 Mbps, mb_sent=1679.78 Mb]COMET ERROR: File could not be uploaded\n",
      " 85%|████████▍ | 5324/6300 [4:10:33<55:40,  3.42s/it, curr_speed=33.62 Mbps, mb_sent=1680.46 Mb]COMET ERROR: File could not be uploaded\n",
      " 85%|████████▍ | 5325/6300 [4:10:37<58:16,  3.59s/it, curr_speed=33.66 Mbps, mb_sent=1680.84 Mb]COMET ERROR: File could not be uploaded\n",
      " 85%|████████▍ | 5327/6300 [4:10:43<53:15,  3.28s/it, curr_speed=33.73 Mbps, mb_sent=1681.57 Mb]COMET ERROR: File could not be uploaded\n",
      " 85%|████████▍ | 5331/6300 [4:10:56<51:15,  3.17s/it, curr_speed=33.63 Mbps, mb_sent=1682.85 Mb]COMET ERROR: File could not be uploaded\n",
      " 85%|████████▍ | 5335/6300 [4:11:09<54:55,  3.41s/it, curr_speed=33.53 Mbps, mb_sent=1684.15 Mb]COMET ERROR: File could not be uploaded\n",
      " 85%|████████▍ | 5339/6300 [4:11:21<47:12,  2.95s/it, curr_speed=33.50 Mbps, mb_sent=1685.48 Mb]COMET ERROR: File could not be uploaded\n",
      " 85%|████████▍ | 5344/6300 [4:11:38<51:08,  3.21s/it, curr_speed=33.51 Mbps, mb_sent=1687.10 Mb]COMET ERROR: File could not be uploaded\n",
      "100%|██████████| 6300/6300 [5:05:13<00:00,  2.91s/it, curr_speed=45.11 Mbps, mb_sent=2026.36 Mb]\n"
     ]
    },
    {
     "name": "stdout",
     "output_type": "stream",
     "text": [
      "Waiting for simulation script to connect on port: tcp://localhost:27121\n",
      "Please start proper ns-3 simulation script using ./waf --run \"...\"\n",
      "Waf: Entering directory `/home/samuel/ns-allinone-3.29/ns-3.29/build'\n",
      "Waf: Leaving directory `/home/samuel/ns-allinone-3.29/ns-3.29/build'\n",
      "Build commands will be stored in build/compile_commands.json\n",
      "'build' finished successfully (2.337s)\n"
     ]
    },
    {
     "name": "stderr",
     "output_type": "stream",
     "text": [
      "Ns3Env parameters:\n",
      "--nWifi: 50\n",
      "--simulationTime: 60\n",
      "--openGymPort: 27121\n",
      "--envStepTime: 0.01\n",
      "--seed: 42\n",
      "--agentType: continuous\n",
      "--scenario: convergence\n",
      "--dryRun: 0\n",
      "Simulation started\n",
      "Simulation process id: 2967870 (parent (waf shell) id: 2967849)\n",
      "Waiting for Python process to connect on port: tcp://localhost:27121\n",
      "Please start proper Python Gym Agent\n",
      "  0%|          | 0/6300 [00:00<?, ?it/s]"
     ]
    },
    {
     "name": "stdout",
     "output_type": "stream",
     "text": [
      "Sent 2026.36 Mb/s.\tMean speed: 33.77 Mb/s\tEpisode 3/15 finished\n",
      "\n",
      "3\n"
     ]
    },
    {
     "name": "stderr",
     "output_type": "stream",
     "text": [
      "100%|██████████| 6300/6300 [6:45:19<00:00,  3.86s/it, curr_speed=32.01 Mbps, mb_sent=1957.67 Mb]  \n"
     ]
    },
    {
     "name": "stdout",
     "output_type": "stream",
     "text": [
      "Waiting for simulation script to connect on port: tcp://localhost:52325\n",
      "Please start proper ns-3 simulation script using ./waf --run \"...\"\n",
      "Waf: Entering directory `/home/samuel/ns-allinone-3.29/ns-3.29/build'\n",
      "Waf: Leaving directory `/home/samuel/ns-allinone-3.29/ns-3.29/build'\n",
      "Build commands will be stored in build/compile_commands.json\n",
      "'build' finished successfully (2.621s)\n"
     ]
    },
    {
     "name": "stderr",
     "output_type": "stream",
     "text": [
      "Ns3Env parameters:\n",
      "--nWifi: 50\n",
      "--simulationTime: 60\n",
      "--openGymPort: 52325\n",
      "--envStepTime: 0.01\n",
      "--seed: 42\n",
      "--agentType: continuous\n",
      "--scenario: convergence\n",
      "--dryRun: 0\n",
      "Simulation started\n",
      "Simulation process id: 3041903 (parent (waf shell) id: 3041881)\n",
      "Waiting for Python process to connect on port: tcp://localhost:52325\n",
      "Please start proper Python Gym Agent\n",
      "  0%|          | 0/6300 [00:00<?, ?it/s]"
     ]
    },
    {
     "name": "stdout",
     "output_type": "stream",
     "text": [
      "Sent 1957.67 Mb/s.\tMean speed: 32.63 Mb/s\tEpisode 4/15 finished\n",
      "\n",
      "4\n"
     ]
    },
    {
     "name": "stderr",
     "output_type": "stream",
     "text": [
      "  5%|▍         | 304/6300 [02:43<4:22:56,  2.63s/it, curr_speed=36.86 Mbps, mb_sent=1.11 Mb]"
     ]
    },
    {
     "name": "stdout",
     "output_type": "stream",
     "text": [
      "------- MEMORY BUFFER FILLED -------\n"
     ]
    },
    {
     "name": "stderr",
     "output_type": "stream",
     "text": [
      "100%|██████████| 6300/6300 [7:09:40<00:00,  4.09s/it, curr_speed=36.01 Mbps, mb_sent=2063.23 Mb]  \n"
     ]
    },
    {
     "name": "stdout",
     "output_type": "stream",
     "text": [
      "Waiting for simulation script to connect on port: tcp://localhost:26761\n",
      "Please start proper ns-3 simulation script using ./waf --run \"...\"\n",
      "Waf: Entering directory `/home/samuel/ns-allinone-3.29/ns-3.29/build'\n",
      "Waf: Leaving directory `/home/samuel/ns-allinone-3.29/ns-3.29/build'\n",
      "Build commands will be stored in build/compile_commands.json\n",
      "'build' finished successfully (3.088s)\n"
     ]
    },
    {
     "name": "stderr",
     "output_type": "stream",
     "text": [
      "Ns3Env parameters:\n",
      "--nWifi: 50\n",
      "--simulationTime: 60\n",
      "--openGymPort: 26761\n",
      "--envStepTime: 0.01\n",
      "--seed: 42\n",
      "--agentType: continuous\n",
      "--scenario: convergence\n",
      "--dryRun: 0\n",
      "Simulation started\n",
      "Simulation process id: 3121078 (parent (waf shell) id: 3121056)\n",
      "Waiting for Python process to connect on port: tcp://localhost:26761\n",
      "Please start proper Python Gym Agent\n",
      "  0%|          | 0/6300 [00:00<?, ?it/s]"
     ]
    },
    {
     "name": "stdout",
     "output_type": "stream",
     "text": [
      "Sent 2063.23 Mb/s.\tMean speed: 34.39 Mb/s\tEpisode 5/15 finished\n",
      "\n",
      "5\n"
     ]
    },
    {
     "name": "stderr",
     "output_type": "stream",
     "text": [
      "100%|██████████| 6300/6300 [6:57:36<00:00,  3.98s/it, curr_speed=36.65 Mbps, mb_sent=2211.32 Mb]  \n"
     ]
    },
    {
     "name": "stdout",
     "output_type": "stream",
     "text": [
      "Waiting for simulation script to connect on port: tcp://localhost:40186\n",
      "Please start proper ns-3 simulation script using ./waf --run \"...\"\n",
      "Waf: Entering directory `/home/samuel/ns-allinone-3.29/ns-3.29/build'\n",
      "Waf: Leaving directory `/home/samuel/ns-allinone-3.29/ns-3.29/build'\n",
      "Build commands will be stored in build/compile_commands.json\n",
      "'build' finished successfully (2.281s)\n"
     ]
    },
    {
     "name": "stderr",
     "output_type": "stream",
     "text": [
      "Ns3Env parameters:\n",
      "--nWifi: 50\n",
      "--simulationTime: 60\n",
      "--openGymPort: 40186\n",
      "--envStepTime: 0.01\n",
      "--seed: 42\n",
      "--agentType: continuous\n",
      "--scenario: convergence\n",
      "--dryRun: 0\n",
      "Simulation started\n",
      "Simulation process id: 3198129 (parent (waf shell) id: 3198111)\n",
      "Waiting for Python process to connect on port: tcp://localhost:40186\n",
      "Please start proper Python Gym Agent\n",
      "  0%|          | 0/6300 [00:00<?, ?it/s]"
     ]
    },
    {
     "name": "stdout",
     "output_type": "stream",
     "text": [
      "Sent 2211.32 Mb/s.\tMean speed: 36.86 Mb/s\tEpisode 6/15 finished\n",
      "\n",
      "6\n"
     ]
    },
    {
     "name": "stderr",
     "output_type": "stream",
     "text": [
      " 38%|███▊      | 2382/6300 [2:10:07<4:33:35,  4.19s/it, curr_speed=37.64 Mbps, mb_sent=781.84 Mb]COMET ERROR: File could not be uploaded\n",
      " 38%|███▊      | 2388/6300 [2:10:32<4:29:07,  4.13s/it, curr_speed=37.63 Mbps, mb_sent=784.06 Mb]COMET ERROR: File could not be uploaded\n",
      " 38%|███▊      | 2391/6300 [2:10:45<4:35:20,  4.23s/it, curr_speed=37.63 Mbps, mb_sent=785.16 Mb]COMET ERROR: File could not be uploaded\n",
      " 38%|███▊      | 2396/6300 [2:11:05<4:22:41,  4.04s/it, curr_speed=37.56 Mbps, mb_sent=787.03 Mb]COMET ERROR: File could not be uploaded\n",
      " 38%|███▊      | 2400/6300 [2:11:22<4:32:02,  4.19s/it, curr_speed=37.48 Mbps, mb_sent=788.44 Mb]COMET ERROR: File could not be uploaded\n",
      " 38%|███▊      | 2413/6300 [2:12:17<4:36:02,  4.26s/it, curr_speed=37.60 Mbps, mb_sent=793.31 Mb]COMET ERROR: File could not be uploaded\n",
      " 39%|███▊      | 2432/6300 [2:13:33<4:20:07,  4.04s/it, curr_speed=37.46 Mbps, mb_sent=800.30 Mb]COMET ERROR: File could not be uploaded\n",
      "COMET ERROR: File could not be uploaded\n",
      "COMET ERROR: File could not be uploaded\n",
      "COMET ERROR: File could not be uploaded\n",
      " 39%|███▊      | 2434/6300 [2:13:42<4:23:32,  4.09s/it, curr_speed=37.42 Mbps, mb_sent=801.04 Mb]COMET ERROR: File could not be uploaded\n",
      " 39%|███▊      | 2435/6300 [2:13:46<4:20:37,  4.05s/it, curr_speed=37.44 Mbps, mb_sent=801.41 Mb]COMET ERROR: File could not be uploaded\n",
      " 39%|███▉      | 2442/6300 [2:14:15<4:13:15,  3.94s/it, curr_speed=37.44 Mbps, mb_sent=804.05 Mb]COMET ERROR: File could not be uploaded\n",
      "COMET ERROR: File could not be uploaded\n",
      "COMET ERROR: File could not be uploaded\n",
      " 40%|███▉      | 2517/6300 [2:19:23<4:16:30,  4.07s/it, curr_speed=37.00 Mbps, mb_sent=831.83 Mb]COMET ERROR: File could not be uploaded\n",
      " 41%|████      | 2557/6300 [2:22:09<4:21:55,  4.20s/it, curr_speed=36.87 Mbps, mb_sent=846.52 Mb]COMET ERROR: File could not be uploaded\n",
      " 41%|████      | 2562/6300 [2:22:31<4:26:59,  4.29s/it, curr_speed=36.93 Mbps, mb_sent=848.41 Mb]COMET ERROR: File could not be uploaded\n",
      " 41%|████      | 2567/6300 [2:22:52<4:22:19,  4.22s/it, curr_speed=36.94 Mbps, mb_sent=850.25 Mb]COMET ERROR: File could not be uploaded\n",
      " 41%|████      | 2575/6300 [2:23:29<4:24:43,  4.26s/it, curr_speed=36.91 Mbps, mb_sent=853.52 Mb]COMET ERROR: File could not be uploaded\n",
      " 41%|████      | 2576/6300 [2:23:29<4:17:10,  4.14s/it, curr_speed=36.91 Mbps, mb_sent=853.52 Mb]COMET ERROR: File could not be uploaded\n",
      " 41%|████      | 2577/6300 [2:23:33<4:06:14,  3.97s/it, curr_speed=36.90 Mbps, mb_sent=853.89 Mb]COMET ERROR: File could not be uploaded\n",
      " 41%|████      | 2579/6300 [2:23:41<4:08:09,  4.00s/it, curr_speed=36.99 Mbps, mb_sent=854.69 Mb]COMET ERROR: File could not be uploaded\n",
      " 41%|████      | 2587/6300 [2:24:14<4:16:16,  4.14s/it, curr_speed=36.95 Mbps, mb_sent=857.67 Mb]COMET ERROR: File could not be uploaded\n",
      " 41%|████      | 2593/6300 [2:24:39<4:13:06,  4.10s/it, curr_speed=36.98 Mbps, mb_sent=859.92 Mb]COMET ERROR: File could not be uploaded\n",
      " 41%|████▏     | 2600/6300 [2:25:08<4:09:33,  4.05s/it, curr_speed=36.95 Mbps, mb_sent=862.45 Mb]COMET ERROR: File could not be uploaded\n",
      "COMET ERROR: File could not be uploaded\n",
      " 41%|████▏     | 2601/6300 [2:25:12<4:09:17,  4.04s/it, curr_speed=36.94 Mbps, mb_sent=862.79 Mb]COMET ERROR: File could not be uploaded\n",
      " 41%|████▏     | 2602/6300 [2:25:17<4:19:08,  4.20s/it, curr_speed=36.87 Mbps, mb_sent=863.13 Mb]COMET ERROR: File could not be uploaded\n",
      " 41%|████▏     | 2604/6300 [2:25:25<4:17:24,  4.18s/it, curr_speed=36.87 Mbps, mb_sent=863.89 Mb]COMET ERROR: File could not be uploaded\n",
      " 41%|████▏     | 2608/6300 [2:25:42<4:16:10,  4.16s/it, curr_speed=36.78 Mbps, mb_sent=865.30 Mb]COMET ERROR: File could not be uploaded\n",
      " 41%|████▏     | 2612/6300 [2:25:58<4:12:10,  4.10s/it, curr_speed=36.75 Mbps, mb_sent=866.80 Mb]COMET ERROR: File could not be uploaded\n",
      " 41%|████▏     | 2613/6300 [2:26:02<4:14:57,  4.15s/it, curr_speed=36.76 Mbps, mb_sent=867.19 Mb]COMET ERROR: File could not be uploaded\n",
      " 42%|████▏     | 2667/6300 [2:29:49<4:14:39,  4.21s/it, curr_speed=37.23 Mbps, mb_sent=887.48 Mb]COMET ERROR: File could not be uploaded\n",
      " 42%|████▏     | 2669/6300 [2:29:57<4:06:29,  4.07s/it, curr_speed=37.26 Mbps, mb_sent=888.24 Mb]COMET ERROR: File could not be uploaded\n",
      " 42%|████▏     | 2670/6300 [2:30:00<3:56:42,  3.91s/it, curr_speed=37.31 Mbps, mb_sent=888.65 Mb]COMET ERROR: File could not be uploaded\n",
      " 42%|████▏     | 2671/6300 [2:30:04<3:53:03,  3.85s/it, curr_speed=37.28 Mbps, mb_sent=889.01 Mb]COMET ERROR: File could not be uploaded\n",
      " 43%|████▎     | 2683/6300 [2:30:54<4:07:50,  4.11s/it, curr_speed=37.25 Mbps, mb_sent=893.41 Mb]COMET ERROR: File could not be uploaded\n",
      " 43%|████▎     | 2691/6300 [2:31:27<4:13:15,  4.21s/it, curr_speed=37.23 Mbps, mb_sent=896.39 Mb]COMET ERROR: File could not be uploaded\n",
      " 43%|████▎     | 2692/6300 [2:31:32<4:23:17,  4.38s/it, curr_speed=37.22 Mbps, mb_sent=896.78 Mb]COMET ERROR: File could not be uploaded\n",
      " 43%|████▎     | 2703/6300 [2:32:18<4:12:37,  4.21s/it, curr_speed=37.41 Mbps, mb_sent=900.94 Mb]COMET ERROR: File could not be uploaded\n",
      "100%|██████████| 6300/6300 [6:54:02<00:00,  3.94s/it, curr_speed=35.92 Mbps, mb_sent=2214.50 Mb]  \n"
     ]
    },
    {
     "name": "stdout",
     "output_type": "stream",
     "text": [
      "Waiting for simulation script to connect on port: tcp://localhost:35574\n",
      "Please start proper ns-3 simulation script using ./waf --run \"...\"\n",
      "Waf: Entering directory `/home/samuel/ns-allinone-3.29/ns-3.29/build'\n",
      "Waf: Leaving directory `/home/samuel/ns-allinone-3.29/ns-3.29/build'\n",
      "Build commands will be stored in build/compile_commands.json\n",
      "'build' finished successfully (2.282s)\n"
     ]
    },
    {
     "name": "stderr",
     "output_type": "stream",
     "text": [
      "Ns3Env parameters:\n",
      "--nWifi: 50\n",
      "--simulationTime: 60\n",
      "--openGymPort: 35574\n",
      "--envStepTime: 0.01\n",
      "--seed: 42\n",
      "--agentType: continuous\n",
      "--scenario: convergence\n",
      "--dryRun: 0\n",
      "Simulation started\n",
      "Simulation process id: 3279049 (parent (waf shell) id: 3279029)\n",
      "Waiting for Python process to connect on port: tcp://localhost:35574\n",
      "Please start proper Python Gym Agent\n",
      "  0%|          | 0/6300 [00:00<?, ?it/s]"
     ]
    },
    {
     "name": "stdout",
     "output_type": "stream",
     "text": [
      "Sent 2214.50 Mb/s.\tMean speed: 36.91 Mb/s\tEpisode 7/15 finished\n",
      "\n",
      "7\n"
     ]
    },
    {
     "name": "stderr",
     "output_type": "stream",
     "text": [
      "100%|██████████| 6300/6300 [4:32:13<00:00,  2.59s/it, curr_speed=36.57 Mbps, mb_sent=2230.83 Mb]  \n"
     ]
    },
    {
     "name": "stdout",
     "output_type": "stream",
     "text": [
      "Waiting for simulation script to connect on port: tcp://localhost:41770\n",
      "Please start proper ns-3 simulation script using ./waf --run \"...\"\n",
      "Waf: Entering directory `/home/samuel/ns-allinone-3.29/ns-3.29/build'\n",
      "Waf: Leaving directory `/home/samuel/ns-allinone-3.29/ns-3.29/build'\n",
      "Build commands will be stored in build/compile_commands.json\n",
      "'build' finished successfully (2.375s)\n"
     ]
    },
    {
     "name": "stderr",
     "output_type": "stream",
     "text": [
      "Ns3Env parameters:\n",
      "--nWifi: 50\n",
      "--simulationTime: 60\n",
      "--openGymPort: 41770\n",
      "--envStepTime: 0.01\n",
      "--seed: 42\n",
      "--agentType: continuous\n",
      "--scenario: convergence\n",
      "--dryRun: 0\n",
      "Simulation started\n",
      "Simulation process id: 3345219 (parent (waf shell) id: 3345200)\n",
      "Waiting for Python process to connect on port: tcp://localhost:41770\n",
      "Please start proper Python Gym Agent\n",
      "  0%|          | 0/6300 [00:00<?, ?it/s]"
     ]
    },
    {
     "name": "stdout",
     "output_type": "stream",
     "text": [
      "Sent 2230.83 Mb/s.\tMean speed: 37.18 Mb/s\tEpisode 8/15 finished\n",
      "\n",
      "8\n"
     ]
    },
    {
     "name": "stderr",
     "output_type": "stream",
     "text": [
      "100%|██████████| 6300/6300 [5:13:56<00:00,  2.99s/it, curr_speed=37.56 Mbps, mb_sent=2266.29 Mb]  \n"
     ]
    },
    {
     "name": "stdout",
     "output_type": "stream",
     "text": [
      "Waiting for simulation script to connect on port: tcp://localhost:44086\n",
      "Please start proper ns-3 simulation script using ./waf --run \"...\"\n",
      "Waf: Entering directory `/home/samuel/ns-allinone-3.29/ns-3.29/build'\n",
      "Waf: Leaving directory `/home/samuel/ns-allinone-3.29/ns-3.29/build'\n",
      "Build commands will be stored in build/compile_commands.json\n",
      "'build' finished successfully (2.269s)\n"
     ]
    },
    {
     "name": "stderr",
     "output_type": "stream",
     "text": [
      "Ns3Env parameters:\n",
      "--nWifi: 50\n",
      "--simulationTime: 60\n",
      "--openGymPort: 44086\n",
      "--envStepTime: 0.01\n",
      "--seed: 42\n",
      "--agentType: continuous\n",
      "--scenario: convergence\n",
      "--dryRun: 0\n",
      "Simulation started\n",
      "Simulation process id: 3402217 (parent (waf shell) id: 3402200)\n",
      "Waiting for Python process to connect on port: tcp://localhost:44086\n",
      "Please start proper Python Gym Agent\n",
      "  0%|          | 0/6300 [00:00<?, ?it/s]"
     ]
    },
    {
     "name": "stdout",
     "output_type": "stream",
     "text": [
      "Sent 2266.29 Mb/s.\tMean speed: 37.77 Mb/s\tEpisode 9/15 finished\n",
      "\n",
      "9\n"
     ]
    },
    {
     "name": "stderr",
     "output_type": "stream",
     "text": [
      "100%|██████████| 6300/6300 [5:14:28<00:00,  3.00s/it, curr_speed=37.96 Mbps, mb_sent=2273.87 Mb]  \n"
     ]
    },
    {
     "name": "stdout",
     "output_type": "stream",
     "text": [
      "Waiting for simulation script to connect on port: tcp://localhost:49103\n",
      "Please start proper ns-3 simulation script using ./waf --run \"...\"\n",
      "Waf: Entering directory `/home/samuel/ns-allinone-3.29/ns-3.29/build'\n",
      "Waf: Leaving directory `/home/samuel/ns-allinone-3.29/ns-3.29/build'\n",
      "Build commands will be stored in build/compile_commands.json\n",
      "'build' finished successfully (2.252s)\n"
     ]
    },
    {
     "name": "stderr",
     "output_type": "stream",
     "text": [
      "Ns3Env parameters:\n",
      "--nWifi: 50\n",
      "--simulationTime: 60\n",
      "--openGymPort: 49103\n",
      "--envStepTime: 0.01\n",
      "--seed: 42\n",
      "--agentType: continuous\n",
      "--scenario: convergence\n",
      "--dryRun: 0\n",
      "Simulation started\n",
      "Simulation process id: 3453754 (parent (waf shell) id: 3453733)\n",
      "Waiting for Python process to connect on port: tcp://localhost:49103\n",
      "Please start proper Python Gym Agent\n",
      "  0%|          | 0/6300 [00:00<?, ?it/s]"
     ]
    },
    {
     "name": "stdout",
     "output_type": "stream",
     "text": [
      "Sent 2273.87 Mb/s.\tMean speed: 37.90 Mb/s\tEpisode 10/15 finished\n",
      "\n",
      "10\n"
     ]
    },
    {
     "name": "stderr",
     "output_type": "stream",
     "text": [
      "100%|██████████| 6300/6300 [6:25:52<00:00,  3.67s/it, curr_speed=37.42 Mbps, mb_sent=2274.29 Mb]  \n"
     ]
    },
    {
     "name": "stdout",
     "output_type": "stream",
     "text": [
      "Waiting for simulation script to connect on port: tcp://localhost:30881\n",
      "Please start proper ns-3 simulation script using ./waf --run \"...\"\n",
      "Waf: Entering directory `/home/samuel/ns-allinone-3.29/ns-3.29/build'\n",
      "Waf: Leaving directory `/home/samuel/ns-allinone-3.29/ns-3.29/build'\n",
      "Build commands will be stored in build/compile_commands.json\n",
      "'build' finished successfully (2.328s)\n"
     ]
    },
    {
     "name": "stderr",
     "output_type": "stream",
     "text": [
      "Ns3Env parameters:\n",
      "--nWifi: 50\n",
      "--simulationTime: 60\n",
      "--openGymPort: 30881\n",
      "--envStepTime: 0.01\n",
      "--seed: 42\n",
      "--agentType: continuous\n",
      "--scenario: convergence\n",
      "--dryRun: 0\n",
      "Simulation started\n",
      "Simulation process id: 3517151 (parent (waf shell) id: 3517134)\n",
      "Waiting for Python process to connect on port: tcp://localhost:30881\n",
      "Please start proper Python Gym Agent\n",
      "  0%|          | 0/6300 [00:00<?, ?it/s]"
     ]
    },
    {
     "name": "stdout",
     "output_type": "stream",
     "text": [
      "Sent 2274.29 Mb/s.\tMean speed: 37.90 Mb/s\tEpisode 11/15 finished\n",
      "\n",
      "11\n"
     ]
    },
    {
     "name": "stderr",
     "output_type": "stream",
     "text": [
      " 57%|█████▋    | 3620/6300 [3:29:11<2:57:48,  3.98s/it, curr_speed=37.32 Mbps, mb_sent=1260.56 Mb]COMET ERROR: File could not be uploaded\n",
      "100%|██████████| 6300/6300 [6:33:53<00:00,  3.75s/it, curr_speed=38.02 Mbps, mb_sent=2273.86 Mb]  \n"
     ]
    },
    {
     "name": "stdout",
     "output_type": "stream",
     "text": [
      "Waiting for simulation script to connect on port: tcp://localhost:49907\n",
      "Please start proper ns-3 simulation script using ./waf --run \"...\"\n",
      "Waf: Entering directory `/home/samuel/ns-allinone-3.29/ns-3.29/build'\n",
      "Waf: Leaving directory `/home/samuel/ns-allinone-3.29/ns-3.29/build'\n",
      "Build commands will be stored in build/compile_commands.json\n",
      "'build' finished successfully (2.682s)\n"
     ]
    },
    {
     "name": "stderr",
     "output_type": "stream",
     "text": [
      "Ns3Env parameters:\n",
      "--nWifi: 50\n",
      "--simulationTime: 60\n",
      "--openGymPort: 49907\n",
      "--envStepTime: 0.01\n",
      "--seed: 42\n",
      "--agentType: continuous\n",
      "--scenario: convergence\n",
      "--dryRun: 0\n",
      "Simulation started\n",
      "Simulation process id: 3577012 (parent (waf shell) id: 3576994)\n",
      "Waiting for Python process to connect on port: tcp://localhost:49907\n",
      "Please start proper Python Gym Agent\n",
      "  0%|          | 0/6300 [00:00<?, ?it/s]"
     ]
    },
    {
     "name": "stdout",
     "output_type": "stream",
     "text": [
      "Sent 2273.86 Mb/s.\tMean speed: 37.90 Mb/s\tEpisode 12/15 finished\n",
      "\n",
      "12\n",
      "Turning off noise\n"
     ]
    },
    {
     "name": "stderr",
     "output_type": "stream",
     "text": [
      " 13%|█▎        | 806/6300 [27:56<3:50:09,  2.51s/it, curr_speed=38.30 Mbps, mb_sent=194.50 Mb]COMET ERROR: File could not be uploaded\n",
      " 13%|█▎        | 807/6300 [27:59<4:21:53,  2.86s/it, curr_speed=38.30 Mbps, mb_sent=194.91 Mb]COMET ERROR: File could not be uploaded\n",
      " 13%|█▎        | 815/6300 [28:28<5:29:23,  3.60s/it, curr_speed=38.21 Mbps, mb_sent=197.91 Mb]COMET ERROR: File could not be uploaded\n",
      "COMET ERROR: File could not be uploaded\n",
      "COMET ERROR: File could not be uploaded\n",
      "COMET ERROR: File could not be uploaded\n",
      "COMET ERROR: File could not be uploaded\n",
      "COMET ERROR: File could not be uploaded\n",
      "COMET ERROR: File could not be uploaded\n",
      "COMET ERROR: File could not be uploaded\n",
      " 13%|█▎        | 816/6300 [28:32<5:26:18,  3.57s/it, curr_speed=38.26 Mbps, mb_sent=198.34 Mb]COMET ERROR: File could not be uploaded\n",
      " 13%|█▎        | 817/6300 [28:34<4:43:32,  3.10s/it, curr_speed=38.28 Mbps, mb_sent=198.74 Mb]COMET ERROR: File could not be uploaded\n",
      " 13%|█▎        | 818/6300 [28:36<4:04:09,  2.67s/it, curr_speed=38.28 Mbps, mb_sent=199.14 Mb]COMET ERROR: File could not be uploaded\n",
      " 13%|█▎        | 819/6300 [28:37<3:32:44,  2.33s/it, curr_speed=38.32 Mbps, mb_sent=199.54 Mb]COMET ERROR: File could not be uploaded\n",
      " 63%|██████▎   | 3977/6300 [3:31:48<2:27:06,  3.80s/it, curr_speed=37.94 Mbps, mb_sent=1398.47 Mb]COMET ERROR: File could not be uploaded\n",
      " 63%|██████▎   | 3980/6300 [3:31:57<2:04:23,  3.22s/it, curr_speed=37.92 Mbps, mb_sent=1399.59 Mb]COMET ERROR: File could not be uploaded\n",
      " 63%|██████▎   | 3983/6300 [3:32:04<1:44:36,  2.71s/it, curr_speed=37.96 Mbps, mb_sent=1400.74 Mb]COMET ERROR: File could not be uploaded\n",
      " 64%|██████▎   | 4007/6300 [3:33:46<2:44:21,  4.30s/it, curr_speed=37.79 Mbps, mb_sent=1409.64 Mb]COMET ERROR: File could not be uploaded\n",
      " 64%|██████▍   | 4025/6300 [3:34:58<2:23:54,  3.80s/it, curr_speed=37.66 Mbps, mb_sent=1416.31 Mb]COMET ERROR: File could not be uploaded\n",
      " 66%|██████▌   | 4147/6300 [3:42:19<2:23:30,  4.00s/it, curr_speed=37.83 Mbps, mb_sent=1462.54 Mb]COMET ERROR: File could not be uploaded\n",
      " 66%|██████▌   | 4148/6300 [3:42:23<2:23:44,  4.01s/it, curr_speed=37.86 Mbps, mb_sent=1462.92 Mb]COMET ERROR: File could not be uploaded\n",
      " 66%|██████▌   | 4149/6300 [3:42:26<2:12:27,  3.69s/it, curr_speed=37.86 Mbps, mb_sent=1463.30 Mb]COMET ERROR: File could not be uploaded\n",
      " 66%|██████▋   | 4176/6300 [3:44:14<1:59:39,  3.38s/it, curr_speed=37.99 Mbps, mb_sent=1473.56 Mb]COMET ERROR: File could not be uploaded\n",
      " 66%|██████▋   | 4179/6300 [3:44:24<2:03:20,  3.49s/it, curr_speed=37.99 Mbps, mb_sent=1474.73 Mb]COMET ERROR: File could not be uploaded\n",
      " 66%|██████▋   | 4181/6300 [3:44:32<2:12:24,  3.75s/it, curr_speed=38.01 Mbps, mb_sent=1475.46 Mb]COMET ERROR: File could not be uploaded\n",
      " 67%|██████▋   | 4202/6300 [3:45:55<2:27:59,  4.23s/it, curr_speed=38.14 Mbps, mb_sent=1483.37 Mb]COMET ERROR: File could not be uploaded\n",
      " 67%|██████▋   | 4203/6300 [3:45:59<2:27:45,  4.23s/it, curr_speed=38.12 Mbps, mb_sent=1483.75 Mb]COMET ERROR: File could not be uploaded\n",
      " 67%|██████▋   | 4226/6300 [3:47:33<2:21:20,  4.09s/it, curr_speed=37.93 Mbps, mb_sent=1492.57 Mb]COMET ERROR: File could not be uploaded\n",
      " 67%|██████▋   | 4231/6300 [3:47:46<1:34:27,  2.74s/it, curr_speed=37.86 Mbps, mb_sent=1494.39 Mb]COMET ERROR: File could not be uploaded\n",
      " 67%|██████▋   | 4250/6300 [3:48:49<1:18:06,  2.29s/it, curr_speed=37.90 Mbps, mb_sent=1501.56 Mb]COMET ERROR: File could not be uploaded\n",
      " 67%|██████▋   | 4251/6300 [3:48:52<1:29:54,  2.63s/it, curr_speed=37.88 Mbps, mb_sent=1501.90 Mb]COMET ERROR: File could not be uploaded\n",
      " 68%|██████▊   | 4256/6300 [3:49:11<1:59:03,  3.49s/it, curr_speed=37.80 Mbps, mb_sent=1503.75 Mb]COMET ERROR: File could not be uploaded\n",
      " 68%|██████▊   | 4266/6300 [3:49:46<2:06:44,  3.74s/it, curr_speed=37.72 Mbps, mb_sent=1507.53 Mb]COMET ERROR: File could not be uploaded\n",
      " 68%|██████▊   | 4280/6300 [3:50:41<2:12:36,  3.94s/it, curr_speed=37.86 Mbps, mb_sent=1512.98 Mb]COMET ERROR: File could not be uploaded\n",
      " 68%|██████▊   | 4295/6300 [3:51:38<1:45:51,  3.17s/it, curr_speed=37.91 Mbps, mb_sent=1518.65 Mb]COMET ERROR: File could not be uploaded\n",
      " 68%|██████▊   | 4302/6300 [3:51:56<1:37:01,  2.91s/it, curr_speed=38.01 Mbps, mb_sent=1521.38 Mb]COMET ERROR: File could not be uploaded\n",
      " 68%|██████▊   | 4306/6300 [3:52:13<2:11:40,  3.96s/it, curr_speed=37.95 Mbps, mb_sent=1522.82 Mb]COMET ERROR: File could not be uploaded\n",
      " 68%|██████▊   | 4308/6300 [3:52:21<2:14:37,  4.05s/it, curr_speed=37.94 Mbps, mb_sent=1523.58 Mb]COMET ERROR: File could not be uploaded\n",
      " 68%|██████▊   | 4310/6300 [3:52:29<2:14:25,  4.05s/it, curr_speed=37.94 Mbps, mb_sent=1524.38 Mb]COMET ERROR: File could not be uploaded\n",
      " 68%|██████▊   | 4313/6300 [3:52:41<2:14:29,  4.06s/it, curr_speed=37.92 Mbps, mb_sent=1525.53 Mb]COMET ERROR: File could not be uploaded\n",
      " 68%|██████▊   | 4314/6300 [3:52:46<2:17:26,  4.15s/it, curr_speed=37.96 Mbps, mb_sent=1525.95 Mb]COMET ERROR: File could not be uploaded\n",
      " 69%|██████▉   | 4332/6300 [3:53:55<1:39:17,  3.03s/it, curr_speed=38.04 Mbps, mb_sent=1532.78 Mb]COMET ERROR: File could not be uploaded\n",
      " 69%|██████▉   | 4356/6300 [3:55:31<2:08:23,  3.96s/it, curr_speed=38.02 Mbps, mb_sent=1541.77 Mb]COMET ERROR: File could not be uploaded\n",
      " 69%|██████▉   | 4368/6300 [3:56:19<1:58:50,  3.69s/it, curr_speed=38.04 Mbps, mb_sent=1546.37 Mb]COMET ERROR: File could not be uploaded\n",
      " 69%|██████▉   | 4371/6300 [3:56:32<2:14:38,  4.19s/it, curr_speed=38.10 Mbps, mb_sent=1547.57 Mb]COMET ERROR: File could not be uploaded\n",
      " 69%|██████▉   | 4373/6300 [3:56:41<2:14:38,  4.19s/it, curr_speed=38.05 Mbps, mb_sent=1548.30 Mb]COMET ERROR: File could not be uploaded\n",
      " 70%|██████▉   | 4379/6300 [3:57:05<2:08:19,  4.01s/it, curr_speed=37.89 Mbps, mb_sent=1550.53 Mb]COMET ERROR: File could not be uploaded\n",
      " 70%|██████▉   | 4401/6300 [3:58:39<2:12:44,  4.19s/it, curr_speed=37.84 Mbps, mb_sent=1558.82 Mb]COMET ERROR: File could not be uploaded\n",
      " 70%|███████   | 4410/6300 [3:59:16<2:07:35,  4.05s/it, curr_speed=37.69 Mbps, mb_sent=1562.07 Mb]COMET ERROR: File could not be uploaded\n",
      " 70%|███████   | 4411/6300 [3:59:20<2:09:07,  4.10s/it, curr_speed=37.74 Mbps, mb_sent=1562.48 Mb]COMET ERROR: File could not be uploaded\n",
      " 70%|███████   | 4428/6300 [4:00:31<2:06:50,  4.07s/it, curr_speed=37.55 Mbps, mb_sent=1568.76 Mb]COMET ERROR: File could not be uploaded\n",
      " 70%|███████   | 4429/6300 [4:00:33<1:48:31,  3.48s/it, curr_speed=37.56 Mbps, mb_sent=1569.16 Mb]COMET ERROR: File could not be uploaded\n",
      " 70%|███████   | 4431/6300 [4:00:39<1:35:31,  3.07s/it, curr_speed=37.54 Mbps, mb_sent=1569.93 Mb]COMET ERROR: File could not be uploaded\n",
      " 70%|███████   | 4433/6300 [4:00:46<1:42:39,  3.30s/it, curr_speed=37.55 Mbps, mb_sent=1570.74 Mb]COMET ERROR: File could not be uploaded\n",
      " 70%|███████   | 4435/6300 [4:00:53<1:45:11,  3.38s/it, curr_speed=37.57 Mbps, mb_sent=1571.49 Mb]COMET ERROR: File could not be uploaded\n",
      " 70%|███████   | 4440/6300 [4:01:08<1:28:04,  2.84s/it, curr_speed=37.52 Mbps, mb_sent=1573.39 Mb]COMET ERROR: File could not be uploaded\n",
      " 70%|███████   | 4441/6300 [4:01:10<1:20:26,  2.60s/it, curr_speed=37.54 Mbps, mb_sent=1573.78 Mb]COMET ERROR: File could not be uploaded\n",
      " 71%|███████   | 4442/6300 [4:01:12<1:15:20,  2.43s/it, curr_speed=37.52 Mbps, mb_sent=1574.11 Mb]COMET ERROR: File could not be uploaded\n",
      " 71%|███████   | 4443/6300 [4:01:14<1:11:39,  2.32s/it, curr_speed=37.54 Mbps, mb_sent=1574.51 Mb]COMET ERROR: File could not be uploaded\n",
      " 71%|███████   | 4444/6300 [4:01:16<1:08:50,  2.23s/it, curr_speed=37.54 Mbps, mb_sent=1574.86 Mb]COMET ERROR: File could not be uploaded\n",
      " 71%|███████   | 4445/6300 [4:01:19<1:15:34,  2.44s/it, curr_speed=37.57 Mbps, mb_sent=1575.25 Mb]COMET ERROR: File could not be uploaded\n",
      " 71%|███████   | 4465/6300 [4:02:31<1:18:49,  2.58s/it, curr_speed=37.67 Mbps, mb_sent=1582.92 Mb]COMET ERROR: File could not be uploaded\n",
      " 71%|███████▏  | 4494/6300 [4:04:15<2:00:32,  4.00s/it, curr_speed=37.45 Mbps, mb_sent=1593.64 Mb]COMET ERROR: File could not be uploaded\n",
      " 72%|███████▏  | 4512/6300 [4:05:17<1:20:05,  2.69s/it, curr_speed=37.63 Mbps, mb_sent=1600.48 Mb]COMET ERROR: File could not be uploaded\n",
      " 72%|███████▏  | 4514/6300 [4:05:26<1:48:03,  3.63s/it, curr_speed=37.63 Mbps, mb_sent=1601.24 Mb]COMET ERROR: File could not be uploaded\n",
      " 72%|███████▏  | 4537/6300 [4:07:01<2:07:30,  4.34s/it, curr_speed=37.61 Mbps, mb_sent=1609.85 Mb]COMET ERROR: File could not be uploaded\n",
      " 72%|███████▏  | 4539/6300 [4:07:09<2:03:26,  4.21s/it, curr_speed=37.53 Mbps, mb_sent=1610.55 Mb]COMET ERROR: File could not be uploaded\n",
      " 72%|███████▏  | 4560/6300 [4:08:39<2:08:09,  4.42s/it, curr_speed=37.35 Mbps, mb_sent=1618.36 Mb]COMET ERROR: File could not be uploaded\n",
      " 73%|███████▎  | 4571/6300 [4:09:28<2:10:53,  4.54s/it, curr_speed=37.34 Mbps, mb_sent=1622.47 Mb]COMET ERROR: File could not be uploaded\n",
      " 73%|███████▎  | 4572/6300 [4:09:32<2:12:40,  4.61s/it, curr_speed=37.33 Mbps, mb_sent=1622.85 Mb]COMET ERROR: File could not be uploaded\n",
      " 73%|███████▎  | 4579/6300 [4:10:00<1:57:10,  4.08s/it, curr_speed=37.35 Mbps, mb_sent=1625.45 Mb]COMET ERROR: File could not be uploaded\n",
      " 73%|███████▎  | 4590/6300 [4:10:46<1:40:20,  3.52s/it, curr_speed=37.52 Mbps, mb_sent=1629.67 Mb]COMET ERROR: File could not be uploaded\n",
      " 73%|███████▎  | 4596/6300 [4:11:10<1:53:25,  3.99s/it, curr_speed=37.50 Mbps, mb_sent=1631.90 Mb]COMET ERROR: File could not be uploaded\n",
      " 73%|███████▎  | 4598/6300 [4:11:19<2:00:16,  4.24s/it, curr_speed=37.55 Mbps, mb_sent=1632.69 Mb]COMET ERROR: File could not be uploaded\n",
      " 73%|███████▎  | 4603/6300 [4:11:41<2:03:46,  4.38s/it, curr_speed=37.50 Mbps, mb_sent=1634.53 Mb]COMET ERROR: File could not be uploaded\n",
      " 73%|███████▎  | 4606/6300 [4:11:54<2:03:44,  4.38s/it, curr_speed=37.45 Mbps, mb_sent=1635.70 Mb]COMET ERROR: File could not be uploaded\n",
      " 73%|███████▎  | 4625/6300 [4:13:04<1:46:09,  3.80s/it, curr_speed=37.59 Mbps, mb_sent=1642.89 Mb]COMET ERROR: File could not be uploaded\n",
      " 73%|███████▎  | 4630/6300 [4:13:25<1:55:33,  4.15s/it, curr_speed=37.69 Mbps, mb_sent=1644.82 Mb]COMET ERROR: File could not be uploaded\n",
      " 74%|███████▎  | 4633/6300 [4:13:36<1:41:55,  3.67s/it, curr_speed=37.65 Mbps, mb_sent=1645.92 Mb]COMET ERROR: File could not be uploaded\n",
      " 74%|███████▎  | 4642/6300 [4:14:01<1:27:55,  3.18s/it, curr_speed=37.66 Mbps, mb_sent=1649.36 Mb]COMET ERROR: File could not be uploaded\n",
      " 74%|███████▎  | 4646/6300 [4:14:19<1:51:40,  4.05s/it, curr_speed=37.70 Mbps, mb_sent=1650.88 Mb]COMET ERROR: File could not be uploaded\n",
      " 74%|███████▍  | 4656/6300 [4:15:01<2:00:14,  4.39s/it, curr_speed=37.84 Mbps, mb_sent=1654.72 Mb]COMET ERROR: File could not be uploaded\n",
      " 74%|███████▍  | 4659/6300 [4:15:13<1:53:13,  4.14s/it, curr_speed=37.84 Mbps, mb_sent=1655.83 Mb]COMET ERROR: File could not be uploaded\n",
      " 74%|███████▍  | 4679/6300 [4:16:38<2:00:37,  4.47s/it, curr_speed=37.93 Mbps, mb_sent=1663.39 Mb]COMET ERROR: File could not be uploaded\n",
      " 74%|███████▍  | 4681/6300 [4:16:46<2:00:25,  4.46s/it, curr_speed=37.93 Mbps, mb_sent=1664.13 Mb]COMET ERROR: File could not be uploaded\n",
      " 74%|███████▍  | 4684/6300 [4:16:59<1:55:45,  4.30s/it, curr_speed=38.00 Mbps, mb_sent=1665.33 Mb]COMET ERROR: File could not be uploaded\n",
      " 74%|███████▍  | 4686/6300 [4:17:08<1:59:34,  4.45s/it, curr_speed=38.05 Mbps, mb_sent=1666.12 Mb]COMET ERROR: File could not be uploaded\n",
      " 74%|███████▍  | 4689/6300 [4:17:21<1:53:21,  4.22s/it, curr_speed=37.92 Mbps, mb_sent=1667.22 Mb]COMET ERROR: File could not be uploaded\n",
      " 74%|███████▍  | 4693/6300 [4:17:31<1:14:37,  2.79s/it, curr_speed=37.86 Mbps, mb_sent=1668.66 Mb]COMET ERROR: File could not be uploaded\n",
      " 75%|███████▍  | 4708/6300 [4:18:22<1:52:53,  4.25s/it, curr_speed=37.96 Mbps, mb_sent=1674.43 Mb]COMET ERROR: File could not be uploaded\n",
      " 75%|███████▍  | 4709/6300 [4:18:26<1:50:11,  4.16s/it, curr_speed=37.93 Mbps, mb_sent=1674.78 Mb]COMET ERROR: File could not be uploaded\n",
      " 75%|███████▍  | 4719/6300 [4:19:03<1:33:31,  3.55s/it, curr_speed=37.89 Mbps, mb_sent=1678.48 Mb]COMET ERROR: File could not be uploaded\n",
      " 75%|███████▍  | 4723/6300 [4:19:12<1:06:30,  2.53s/it, curr_speed=37.94 Mbps, mb_sent=1680.02 Mb]COMET ERROR: File could not be uploaded\n",
      " 75%|███████▌  | 4729/6300 [4:19:31<1:26:59,  3.32s/it, curr_speed=37.74 Mbps, mb_sent=1682.16 Mb]COMET ERROR: File could not be uploaded\n",
      " 75%|███████▌  | 4739/6300 [4:19:59<1:03:39,  2.45s/it, curr_speed=37.71 Mbps, mb_sent=1685.95 Mb]COMET ERROR: File could not be uploaded\n",
      " 75%|███████▌  | 4740/6300 [4:20:01<1:01:58,  2.38s/it, curr_speed=37.75 Mbps, mb_sent=1686.32 Mb]COMET ERROR: File could not be uploaded\n",
      " 75%|███████▌  | 4749/6300 [4:20:28<1:29:53,  3.48s/it, curr_speed=37.82 Mbps, mb_sent=1689.83 Mb]COMET ERROR: File could not be uploaded\n",
      " 76%|███████▌  | 4761/6300 [4:21:16<1:45:16,  4.10s/it, curr_speed=37.74 Mbps, mb_sent=1694.30 Mb]COMET ERROR: File could not be uploaded\n",
      " 76%|███████▌  | 4762/6300 [4:21:20<1:49:32,  4.27s/it, curr_speed=37.71 Mbps, mb_sent=1694.67 Mb]COMET ERROR: File could not be uploaded\n",
      " 76%|███████▌  | 4767/6300 [4:21:42<1:49:31,  4.29s/it, curr_speed=37.72 Mbps, mb_sent=1696.57 Mb]COMET ERROR: File could not be uploaded\n",
      " 76%|███████▌  | 4775/6300 [4:22:00<1:02:57,  2.48s/it, curr_speed=37.71 Mbps, mb_sent=1699.54 Mb]COMET ERROR: File could not be uploaded\n",
      " 76%|███████▌  | 4776/6300 [4:22:04<1:14:38,  2.94s/it, curr_speed=37.71 Mbps, mb_sent=1699.91 Mb]COMET ERROR: File could not be uploaded\n",
      " 76%|███████▌  | 4780/6300 [4:22:21<1:37:39,  3.85s/it, curr_speed=37.70 Mbps, mb_sent=1701.44 Mb]COMET ERROR: File could not be uploaded\n",
      " 76%|███████▌  | 4783/6300 [4:22:33<1:44:01,  4.11s/it, curr_speed=37.55 Mbps, mb_sent=1702.45 Mb]COMET ERROR: File could not be uploaded\n",
      " 76%|███████▌  | 4786/6300 [4:22:44<1:36:34,  3.83s/it, curr_speed=37.47 Mbps, mb_sent=1703.60 Mb]COMET ERROR: File could not be uploaded\n",
      " 76%|███████▋  | 4813/6300 [4:24:29<1:41:04,  4.08s/it, curr_speed=37.63 Mbps, mb_sent=1713.88 Mb]COMET ERROR: File could not be uploaded\n",
      " 77%|███████▋  | 4827/6300 [4:25:29<1:42:21,  4.17s/it, curr_speed=37.54 Mbps, mb_sent=1719.02 Mb]COMET ERROR: File could not be uploaded\n",
      " 77%|███████▋  | 4828/6300 [4:25:33<1:41:06,  4.12s/it, curr_speed=37.51 Mbps, mb_sent=1719.37 Mb]COMET ERROR: File could not be uploaded\n",
      " 77%|███████▋  | 4833/6300 [4:25:54<1:42:31,  4.19s/it, curr_speed=37.73 Mbps, mb_sent=1721.34 Mb]COMET ERROR: File could not be uploaded\n",
      " 77%|███████▋  | 4836/6300 [4:26:05<1:37:22,  3.99s/it, curr_speed=37.69 Mbps, mb_sent=1722.47 Mb]COMET ERROR: File could not be uploaded\n",
      " 77%|███████▋  | 4844/6300 [4:26:37<1:37:50,  4.03s/it, curr_speed=37.55 Mbps, mb_sent=1725.41 Mb]COMET ERROR: File could not be uploaded\n",
      " 77%|███████▋  | 4848/6300 [4:26:54<1:42:20,  4.23s/it, curr_speed=37.37 Mbps, mb_sent=1726.84 Mb]COMET ERROR: File could not be uploaded\n",
      " 77%|███████▋  | 4852/6300 [4:27:10<1:39:44,  4.13s/it, curr_speed=37.45 Mbps, mb_sent=1728.39 Mb]COMET ERROR: File could not be uploaded\n",
      " 77%|███████▋  | 4863/6300 [4:27:48<1:08:43,  2.87s/it, curr_speed=37.52 Mbps, mb_sent=1732.58 Mb]COMET ERROR: File could not be uploaded\n",
      " 77%|███████▋  | 4872/6300 [4:28:24<1:38:51,  4.15s/it, curr_speed=37.65 Mbps, mb_sent=1736.04 Mb]COMET ERROR: File could not be uploaded\n",
      " 77%|███████▋  | 4873/6300 [4:28:28<1:38:56,  4.16s/it, curr_speed=37.63 Mbps, mb_sent=1736.41 Mb]COMET ERROR: File could not be uploaded\n",
      " 78%|███████▊  | 4885/6300 [4:29:13<1:08:43,  2.91s/it, curr_speed=37.75 Mbps, mb_sent=1740.96 Mb]COMET ERROR: File could not be uploaded\n",
      " 78%|███████▊  | 4891/6300 [4:29:36<1:33:15,  3.97s/it, curr_speed=37.67 Mbps, mb_sent=1743.20 Mb]COMET ERROR: File could not be uploaded\n",
      " 78%|███████▊  | 4895/6300 [4:29:53<1:38:20,  4.20s/it, curr_speed=37.74 Mbps, mb_sent=1744.74 Mb]COMET ERROR: File could not be uploaded\n",
      " 78%|███████▊  | 4899/6300 [4:30:11<1:40:23,  4.30s/it, curr_speed=37.84 Mbps, mb_sent=1746.27 Mb]COMET ERROR: File could not be uploaded\n",
      " 78%|███████▊  | 4907/6300 [4:30:45<1:37:49,  4.21s/it, curr_speed=37.69 Mbps, mb_sent=1749.26 Mb]COMET ERROR: File could not be uploaded\n",
      " 78%|███████▊  | 4913/6300 [4:31:10<1:38:39,  4.27s/it, curr_speed=37.61 Mbps, mb_sent=1751.49 Mb]COMET ERROR: File could not be uploaded\n",
      " 78%|███████▊  | 4921/6300 [4:31:42<1:24:43,  3.69s/it, curr_speed=37.61 Mbps, mb_sent=1754.46 Mb]COMET ERROR: File could not be uploaded\n"
     ]
    },
    {
     "name": "stderr",
     "output_type": "stream",
     "text": [
      " 78%|███████▊  | 4922/6300 [4:31:46<1:23:15,  3.63s/it, curr_speed=37.62 Mbps, mb_sent=1754.83 Mb]COMET ERROR: File could not be uploaded\n",
      " 78%|███████▊  | 4923/6300 [4:31:49<1:23:02,  3.62s/it, curr_speed=37.61 Mbps, mb_sent=1755.19 Mb]COMET ERROR: File could not be uploaded\n",
      " 78%|███████▊  | 4930/6300 [4:32:19<1:35:27,  4.18s/it, curr_speed=37.64 Mbps, mb_sent=1757.81 Mb]COMET ERROR: File could not be uploaded\n",
      " 78%|███████▊  | 4934/6300 [4:32:35<1:35:08,  4.18s/it, curr_speed=37.59 Mbps, mb_sent=1759.31 Mb]COMET ERROR: File could not be uploaded\n",
      " 79%|███████▊  | 4950/6300 [4:33:30<1:27:49,  3.90s/it, curr_speed=37.73 Mbps, mb_sent=1765.33 Mb]COMET ERROR: File could not be uploaded\n",
      " 79%|███████▊  | 4956/6300 [4:33:57<1:36:33,  4.31s/it, curr_speed=37.72 Mbps, mb_sent=1767.60 Mb]COMET ERROR: File could not be uploaded\n",
      " 79%|███████▊  | 4958/6300 [4:34:04<1:27:26,  3.91s/it, curr_speed=37.74 Mbps, mb_sent=1768.37 Mb]COMET ERROR: File could not be uploaded\n",
      " 79%|███████▉  | 4985/6300 [4:35:41<1:12:31,  3.31s/it, curr_speed=37.45 Mbps, mb_sent=1778.41 Mb]COMET ERROR: File could not be uploaded\n",
      " 79%|███████▉  | 4987/6300 [4:35:49<1:19:59,  3.66s/it, curr_speed=37.54 Mbps, mb_sent=1779.19 Mb]COMET ERROR: File could not be uploaded\n",
      " 79%|███████▉  | 5000/6300 [4:36:40<1:27:45,  4.05s/it, curr_speed=37.38 Mbps, mb_sent=1784.07 Mb]COMET ERROR: File could not be uploaded\n",
      " 80%|███████▉  | 5010/6300 [4:37:23<1:31:42,  4.27s/it, curr_speed=37.41 Mbps, mb_sent=1787.80 Mb]COMET ERROR: File could not be uploaded\n",
      " 80%|███████▉  | 5017/6300 [4:37:50<1:18:21,  3.66s/it, curr_speed=37.35 Mbps, mb_sent=1790.36 Mb]COMET ERROR: File could not be uploaded\n",
      " 80%|███████▉  | 5026/6300 [4:38:29<1:30:55,  4.28s/it, curr_speed=37.44 Mbps, mb_sent=1793.80 Mb]COMET ERROR: File could not be uploaded\n",
      " 80%|███████▉  | 5034/6300 [4:39:00<1:26:47,  4.11s/it, curr_speed=37.43 Mbps, mb_sent=1796.74 Mb]COMET ERROR: File could not be uploaded\n",
      " 80%|███████▉  | 5035/6300 [4:39:04<1:27:10,  4.13s/it, curr_speed=37.42 Mbps, mb_sent=1797.08 Mb]COMET ERROR: File could not be uploaded\n",
      " 80%|███████▉  | 5039/6300 [4:39:21<1:28:45,  4.22s/it, curr_speed=37.45 Mbps, mb_sent=1798.64 Mb]COMET ERROR: File could not be uploaded\n",
      " 80%|████████  | 5040/6300 [4:39:24<1:18:36,  3.74s/it, curr_speed=37.51 Mbps, mb_sent=1799.04 Mb]COMET ERROR: File could not be uploaded\n",
      " 80%|████████  | 5041/6300 [4:39:27<1:13:20,  3.50s/it, curr_speed=37.53 Mbps, mb_sent=1799.44 Mb]COMET ERROR: File could not be uploaded\n",
      " 80%|████████  | 5042/6300 [4:39:30<1:09:57,  3.34s/it, curr_speed=37.47 Mbps, mb_sent=1799.78 Mb]COMET ERROR: File could not be uploaded\n",
      " 80%|████████  | 5046/6300 [4:39:44<1:10:33,  3.38s/it, curr_speed=37.45 Mbps, mb_sent=1801.31 Mb]COMET ERROR: File could not be uploaded\n",
      " 80%|████████  | 5048/6300 [4:39:53<1:22:37,  3.96s/it, curr_speed=37.48 Mbps, mb_sent=1802.09 Mb]COMET ERROR: File could not be uploaded\n",
      " 80%|████████  | 5049/6300 [4:39:58<1:25:21,  4.09s/it, curr_speed=37.55 Mbps, mb_sent=1802.50 Mb]COMET ERROR: File could not be uploaded\n",
      "100%|██████████| 6300/6300 [6:00:30<00:00,  3.43s/it, curr_speed=38.07 Mbps, mb_sent=2276.11 Mb]  \n"
     ]
    },
    {
     "name": "stdout",
     "output_type": "stream",
     "text": [
      "Waiting for simulation script to connect on port: tcp://localhost:50222\n",
      "Please start proper ns-3 simulation script using ./waf --run \"...\"\n",
      "Waf: Entering directory `/home/samuel/ns-allinone-3.29/ns-3.29/build'\n",
      "Waf: Leaving directory `/home/samuel/ns-allinone-3.29/ns-3.29/build'\n",
      "Build commands will be stored in build/compile_commands.json\n",
      "'build' finished successfully (2.497s)\n"
     ]
    },
    {
     "name": "stderr",
     "output_type": "stream",
     "text": [
      "Ns3Env parameters:\n",
      "--nWifi: 50\n",
      "--simulationTime: 60\n",
      "--openGymPort: 50222\n",
      "--envStepTime: 0.01\n",
      "--seed: 42\n",
      "--agentType: continuous\n",
      "--scenario: convergence\n",
      "--dryRun: 0\n",
      "Simulation started\n",
      "Simulation process id: 3640801 (parent (waf shell) id: 3640784)\n",
      "Waiting for Python process to connect on port: tcp://localhost:50222\n",
      "Please start proper Python Gym Agent\n",
      "  0%|          | 0/6300 [00:00<?, ?it/s]"
     ]
    },
    {
     "name": "stdout",
     "output_type": "stream",
     "text": [
      "Sent 2276.11 Mb/s.\tMean speed: 37.94 Mb/s\tEpisode 13/15 finished\n",
      "\n",
      "13\n",
      "Turning off noise\n"
     ]
    },
    {
     "name": "stderr",
     "output_type": "stream",
     "text": [
      " 71%|███████   | 4455/6300 [4:06:06<2:07:05,  4.13s/it, curr_speed=37.91 Mbps, mb_sent=1580.33 Mb]COMET ERROR: File could not be uploaded\n",
      " 87%|████████▋ | 5503/6300 [5:12:16<51:21,  3.87s/it, curr_speed=37.93 Mbps, mb_sent=1975.93 Mb]  COMET ERROR: File could not be uploaded\n",
      "100%|██████████| 6300/6300 [6:00:14<00:00,  3.43s/it, curr_speed=37.69 Mbps, mb_sent=2276.13 Mb]\n"
     ]
    },
    {
     "name": "stdout",
     "output_type": "stream",
     "text": [
      "Waiting for simulation script to connect on port: tcp://localhost:32850\n",
      "Please start proper ns-3 simulation script using ./waf --run \"...\"\n",
      "Waf: Entering directory `/home/samuel/ns-allinone-3.29/ns-3.29/build'\n",
      "Waf: Leaving directory `/home/samuel/ns-allinone-3.29/ns-3.29/build'\n",
      "Build commands will be stored in build/compile_commands.json\n",
      "'build' finished successfully (2.535s)\n"
     ]
    },
    {
     "name": "stderr",
     "output_type": "stream",
     "text": [
      "Ns3Env parameters:\n",
      "--nWifi: 50\n",
      "--simulationTime: 60\n",
      "--openGymPort: 32850\n",
      "--envStepTime: 0.01\n",
      "--seed: 42\n",
      "--agentType: continuous\n",
      "--scenario: convergence\n",
      "--dryRun: 0\n",
      "Simulation started\n",
      "Simulation process id: 3701944 (parent (waf shell) id: 3701927)\n",
      "Waiting for Python process to connect on port: tcp://localhost:32850\n",
      "Please start proper Python Gym Agent\n",
      "  0%|          | 0/6300 [00:00<?, ?it/s]"
     ]
    },
    {
     "name": "stdout",
     "output_type": "stream",
     "text": [
      "Sent 2276.13 Mb/s.\tMean speed: 37.94 Mb/s\tEpisode 14/15 finished\n",
      "\n",
      "14\n",
      "Turning off noise\n"
     ]
    },
    {
     "name": "stderr",
     "output_type": "stream",
     "text": [
      "100%|██████████| 6300/6300 [1:28:39<00:00,  1.18it/s, curr_speed=37.35 Mbps, mb_sent=2278.55 Mb]\n"
     ]
    },
    {
     "name": "stdout",
     "output_type": "stream",
     "text": [
      "Waiting for simulation script to connect on port: tcp://localhost:29555\n",
      "Please start proper ns-3 simulation script using ./waf --run \"...\"\n",
      "Waf: Entering directory `/home/samuel/ns-allinone-3.29/ns-3.29/build'\n",
      "Waf: Leaving directory `/home/samuel/ns-allinone-3.29/ns-3.29/build'\n",
      "Build commands will be stored in build/compile_commands.json\n",
      "'build' finished successfully (2.441s)\n"
     ]
    },
    {
     "name": "stderr",
     "output_type": "stream",
     "text": [
      "Ns3Env parameters:\n",
      "--nWifi: 50\n",
      "--simulationTime: 60\n",
      "--openGymPort: 29555\n",
      "--envStepTime: 0.01\n",
      "--seed: 42\n",
      "--agentType: continuous\n",
      "--scenario: convergence\n",
      "--dryRun: 0\n",
      "Simulation started\n",
      "Simulation process id: 3721243 (parent (waf shell) id: 3721225)\n",
      "Waiting for Python process to connect on port: tcp://localhost:29555\n",
      "Please start proper Python Gym Agent\n",
      "COMET INFO: ----------------------------\n",
      "COMET INFO: Comet.ml Experiment Summary:\n",
      "COMET INFO:   Data:\n",
      "COMET INFO:     url: https://www.comet.com/sheila-janota/rl-in-wifi-with-queue-level/b3801b88337a46f4a3e83d5e3dff3c32\n",
      "COMET INFO:   Metrics [count] (min, max):\n",
      "COMET INFO:     Chosen CW [89985]           : (16.0, 1024.0)\n",
      "COMET INFO:     Cumulative reward [15]      : (2581.673095703125, 3187.9052734375)\n",
      "COMET INFO:     Current throughput [89985]  : (14.520299911499023, 49.22368621826172)\n",
      "COMET INFO:     Fairness index [89985]      : (0.02566399984061718, 0.9949569702148438)\n",
      "COMET INFO:     Megabytes sent [89985]      : (0.14520299434661865, 2278.5532653331757)\n",
      "COMET INFO:     Observation 0 [89985]       : (0.0889431388489902, 0.9673813737432162)\n",
      "COMET INFO:     Observation 1 [89985]       : (0.0, 0.01284782953883731)\n",
      "COMET INFO:     Per-ep reward [89985]       : (131.173828125, 3187.9052734375)\n",
      "COMET INFO:     Round megabytes sent [89985]: (0.0, 11.22528076171875)\n",
      "COMET INFO:     Round reward [89985]        : (0.0, 0.878662109375)\n",
      "COMET INFO:     Speed [15]                  : (31.040228099965802, 37.975887755552925)\n",
      "COMET INFO:     Station count [89985]       : (5.0, 50.0)\n",
      "COMET INFO:     actor_loss [89985]          : (-1.6990010738372803, 0.0)\n",
      "COMET INFO:     critic_loss [89985]         : (0.0, 5.396453380584717)\n",
      "COMET INFO:     loss [33578]                : (-1.6969220638275146, 1.3850164413452148)\n",
      "COMET INFO:   Uploads:\n",
      "COMET INFO:     histogram3d: 89985\n",
      "COMET INFO: ----------------------------\n",
      "COMET INFO: Uploading stats to Comet before program termination (may take several seconds)\n"
     ]
    },
    {
     "name": "stdout",
     "output_type": "stream",
     "text": [
      "Sent 2278.55 Mb/s.\tMean speed: 37.98 Mb/s\tEpisode 15/15 finished\n",
      "\n",
      "Training finished.\n"
     ]
    }
   ],
   "source": [
    "#%%\n",
    "teacher = Teacher(env, 1, Preprocessor(False))\n",
    "\n",
    "lr_actor = 4e-4\n",
    "lr_critic = 4e-3\n",
    "\n",
    "config = Config(buffer_size=4*steps_per_ep*threads_no, batch_size=32, gamma=0.7, tau=1e-3, lr_actor=lr_actor, lr_critic=lr_critic, update_every=1)\n",
    "agent = Agent(history_length, action_size=1, config=config, actor_layers=[8, 128, 16], critic_layers=[8,128,16])\n",
    "\n",
    "# Test the model\n",
    "hyperparams = {**config.__dict__, **sim_args}\n",
    "tags = [\"Rew: normalized speed\",\n",
    "        f\"{Agent.NAME}\",\n",
    "        sim_args['scenario'],\n",
    "        f\"Actor: {lr_actor}\",\n",
    "        f\"Critic: {lr_critic}\",\n",
    "        f\"Instances: {threads_no}\",\n",
    "        f\"Station count: {sim_args['nWifi']}\",\n",
    "        *[f\"{key}: {sim_args[key]}\" for key in list(sim_args)[:3]]]\n",
    "# agent.save()\n",
    "logger = teacher.train(agent, EPISODE_COUNT,\n",
    "                        simTime=simTime,\n",
    "                        stepTime=stepTime,\n",
    "                        history_length=history_length,\n",
    "                        send_logs=True,\n",
    "                        experimental=True,\n",
    "                        tags=tags,\n",
    "                        parameters=hyperparams)\n",
    "# logger = teacher.eval(agent,\n",
    "#                         simTime=simTime,\n",
    "#                         stepTime=stepTime,\n",
    "#                         history_length=history_length,\n",
    "#                         tags=tags,\n",
    "#                         parameters=hyperparams)\n",
    "# agent.save()"
   ]
  },
  {
   "cell_type": "code",
   "execution_count": null,
   "id": "2a6c0b04",
   "metadata": {},
   "outputs": [],
   "source": []
  },
  {
   "cell_type": "markdown",
   "id": "86ee3a38",
   "metadata": {},
   "source": [
    "# Execution num3:"
   ]
  },
  {
   "cell_type": "code",
   "execution_count": 7,
   "id": "67a82e29",
   "metadata": {},
   "outputs": [],
   "source": [
    "#%%\n",
    "from ns3gym import ns3env\n",
    "from comet_ml import Experiment, Optimizer\n",
    "import tqdm\n",
    "import subprocess\n",
    "from collections import deque\n",
    "import numpy as np\n",
    "\n",
    "from agents.ddpg.agent import Agent, Config\n",
    "from agents.ddpg.model import Actor\n",
    "from agents.teacher import Teacher, EnvWrapper\n",
    "from preprocessor import Preprocessor"
   ]
  },
  {
   "cell_type": "code",
   "execution_count": 8,
   "id": "c2052f92",
   "metadata": {},
   "outputs": [
    {
     "name": "stdout",
     "output_type": "stream",
     "text": [
      "Steps per episode: 6000\n",
      "Waiting for simulation script to connect on port: tcp://localhost:36033\n",
      "Please start proper ns-3 simulation script using ./waf --run \"...\"\n",
      "Waf: Entering directory `/home/samuel/ns-allinone-3.29/ns-3.29/build'\n",
      "Waf: Leaving directory `/home/samuel/ns-allinone-3.29/ns-3.29/build'\n",
      "Build commands will be stored in build/compile_commands.json\n",
      "'build' finished successfully (2.733s)\n"
     ]
    },
    {
     "name": "stderr",
     "output_type": "stream",
     "text": [
      "Ns3Env parameters:\n",
      "--nWifi: 50\n",
      "--simulationTime: 60\n",
      "--openGymPort: 36033\n",
      "--envStepTime: 0.01\n",
      "--seed: 42\n",
      "--agentType: continuous\n",
      "--scenario: convergence\n",
      "--dryRun: 0\n",
      "Simulation started\n"
     ]
    },
    {
     "name": "stdout",
     "output_type": "stream",
     "text": [
      "Observation space shape: (1, 300)\n",
      "Action space shape: (1, 1)\n"
     ]
    },
    {
     "name": "stderr",
     "output_type": "stream",
     "text": [
      "Simulation process id: 3721349 (parent (waf shell) id: 3721327)\n",
      "Waiting for Python process to connect on port: tcp://localhost:36033\n",
      "Please start proper Python Gym Agent\n"
     ]
    }
   ],
   "source": [
    "#%%\n",
    "scenario = \"convergence\"\n",
    "\n",
    "simTime = 60 # seconds\n",
    "stepTime = 0.01  # seconds\n",
    "history_length = 300\n",
    "\n",
    "EPISODE_COUNT = 15\n",
    "steps_per_ep = int(simTime/stepTime)\n",
    "\n",
    "sim_args = {\n",
    "    \"simTime\": simTime,\n",
    "    \"envStepTime\": stepTime,\n",
    "    \"historyLength\": history_length,\n",
    "    \"agentType\": Agent.TYPE,\n",
    "    \"scenario\": \"convergence\",\n",
    "    \"nWifi\": 50,\n",
    "}\n",
    "\n",
    "print(\"Steps per episode:\", steps_per_ep)\n",
    "\n",
    "threads_no = 1\n",
    "env = EnvWrapper(threads_no, **sim_args)\n",
    "\n",
    "#%%\n",
    "env.reset()\n",
    "ob_space = env.observation_space\n",
    "ac_space = env.action_space\n",
    "\n",
    "print(\"Observation space shape:\", ob_space)\n",
    "print(\"Action space shape:\", ac_space)\n",
    "\n",
    "assert ob_space is not None"
   ]
  },
  {
   "cell_type": "code",
   "execution_count": 9,
   "id": "5b95245f",
   "metadata": {
    "scrolled": true
   },
   "outputs": [
    {
     "name": "stdout",
     "output_type": "stream",
     "text": [
      "CuDNN version: 7102\n",
      "cpu\n"
     ]
    },
    {
     "name": "stderr",
     "output_type": "stream",
     "text": [
      "COMET INFO: Experiment is live on comet.ml https://www.comet.com/sheila-janota/rl-in-wifi-with-queue-level/932eec9ef0144bc88e36f9b5537409f1\n",
      "\n",
      "  0%|          | 0/6300 [00:00<?, ?it/s]"
     ]
    },
    {
     "name": "stdout",
     "output_type": "stream",
     "text": [
      "0\n"
     ]
    },
    {
     "name": "stderr",
     "output_type": "stream",
     "text": [
      "  5%|▌         | 333/6300 [02:18<42:09,  2.36it/s, curr_speed=30.16 Mbps, mb_sent=9.65 Mb]"
     ]
    },
    {
     "name": "stdout",
     "output_type": "stream",
     "text": [
      "------- STARTED TRAINING -------\n"
     ]
    },
    {
     "name": "stderr",
     "output_type": "stream",
     "text": [
      "100%|██████████| 6300/6300 [5:09:06<00:00,  2.94s/it, curr_speed=31.29 Mbps, mb_sent=1880.11 Mb]  \n"
     ]
    },
    {
     "name": "stdout",
     "output_type": "stream",
     "text": [
      "Waiting for simulation script to connect on port: tcp://localhost:45872\n",
      "Please start proper ns-3 simulation script using ./waf --run \"...\"\n",
      "Waf: Entering directory `/home/samuel/ns-allinone-3.29/ns-3.29/build'\n",
      "Waf: Leaving directory `/home/samuel/ns-allinone-3.29/ns-3.29/build'\n",
      "Build commands will be stored in build/compile_commands.json\n",
      "'build' finished successfully (2.230s)\n"
     ]
    },
    {
     "name": "stderr",
     "output_type": "stream",
     "text": [
      "Ns3Env parameters:\n",
      "--nWifi: 50\n",
      "--simulationTime: 60\n",
      "--openGymPort: 45872\n",
      "--envStepTime: 0.01\n",
      "--seed: 42\n",
      "--agentType: continuous\n",
      "--scenario: convergence\n",
      "--dryRun: 0\n",
      "Simulation started\n",
      "Simulation process id: 3781692 (parent (waf shell) id: 3781673)\n",
      "Waiting for Python process to connect on port: tcp://localhost:45872\n",
      "Please start proper Python Gym Agent\n",
      "  0%|          | 0/6300 [00:00<?, ?it/s]"
     ]
    },
    {
     "name": "stdout",
     "output_type": "stream",
     "text": [
      "Sent 1880.11 Mb/s.\tMean speed: 31.34 Mb/s\tEpisode 1/15 finished\n",
      "\n",
      "1\n"
     ]
    },
    {
     "name": "stderr",
     "output_type": "stream",
     "text": [
      "100%|██████████| 6300/6300 [5:03:21<00:00,  2.89s/it, curr_speed=34.04 Mbps, mb_sent=1934.64 Mb]  \n"
     ]
    },
    {
     "name": "stdout",
     "output_type": "stream",
     "text": [
      "Waiting for simulation script to connect on port: tcp://localhost:44462\n",
      "Please start proper ns-3 simulation script using ./waf --run \"...\"\n",
      "Waf: Entering directory `/home/samuel/ns-allinone-3.29/ns-3.29/build'\n",
      "Waf: Leaving directory `/home/samuel/ns-allinone-3.29/ns-3.29/build'\n",
      "Build commands will be stored in build/compile_commands.json\n",
      "'build' finished successfully (2.320s)\n"
     ]
    },
    {
     "name": "stderr",
     "output_type": "stream",
     "text": [
      "Ns3Env parameters:\n",
      "--nWifi: 50\n",
      "--simulationTime: 60\n",
      "--openGymPort: 44462\n",
      "--envStepTime: 0.01\n",
      "--seed: 42\n",
      "--agentType: continuous\n",
      "--scenario: convergence\n",
      "--dryRun: 0\n",
      "Simulation started\n",
      "Simulation process id: 3839653 (parent (waf shell) id: 3839636)\n",
      "Waiting for Python process to connect on port: tcp://localhost:44462\n",
      "Please start proper Python Gym Agent\n",
      "  0%|          | 0/6300 [00:00<?, ?it/s]"
     ]
    },
    {
     "name": "stdout",
     "output_type": "stream",
     "text": [
      "Sent 1934.64 Mb/s.\tMean speed: 32.24 Mb/s\tEpisode 2/15 finished\n",
      "\n",
      "2\n"
     ]
    },
    {
     "name": "stderr",
     "output_type": "stream",
     "text": [
      "100%|██████████| 6300/6300 [4:55:48<00:00,  2.82s/it, curr_speed=31.82 Mbps, mb_sent=2018.32 Mb]  \n"
     ]
    },
    {
     "name": "stdout",
     "output_type": "stream",
     "text": [
      "Waiting for simulation script to connect on port: tcp://localhost:38703\n",
      "Please start proper ns-3 simulation script using ./waf --run \"...\"\n",
      "Waf: Entering directory `/home/samuel/ns-allinone-3.29/ns-3.29/build'\n",
      "Waf: Leaving directory `/home/samuel/ns-allinone-3.29/ns-3.29/build'\n",
      "Build commands will be stored in build/compile_commands.json\n",
      "'build' finished successfully (2.414s)\n"
     ]
    },
    {
     "name": "stderr",
     "output_type": "stream",
     "text": [
      "Ns3Env parameters:\n",
      "--nWifi: 50\n",
      "--simulationTime: 60\n",
      "--openGymPort: 38703\n",
      "--envStepTime: 0.01\n",
      "--seed: 42\n",
      "--agentType: continuous\n",
      "--scenario: convergence\n",
      "--dryRun: 0\n",
      "Simulation started\n",
      "Simulation process id: 3890095 (parent (waf shell) id: 3890077)\n",
      "Waiting for Python process to connect on port: tcp://localhost:38703\n",
      "Please start proper Python Gym Agent\n",
      "  0%|          | 0/6300 [00:00<?, ?it/s]"
     ]
    },
    {
     "name": "stdout",
     "output_type": "stream",
     "text": [
      "Sent 2018.32 Mb/s.\tMean speed: 33.64 Mb/s\tEpisode 3/15 finished\n",
      "\n",
      "3\n"
     ]
    },
    {
     "name": "stderr",
     "output_type": "stream",
     "text": [
      " 74%|███████▎  | 4642/6300 [3:26:22<1:28:03,  3.19s/it, curr_speed=35.95 Mbps, mb_sent=1514.87 Mb]COMET ERROR: File could not be uploaded\n",
      " 75%|███████▍  | 4698/6300 [3:29:20<1:20:54,  3.03s/it, curr_speed=34.31 Mbps, mb_sent=1533.56 Mb]COMET ERROR: File could not be uploaded\n",
      " 75%|███████▍  | 4702/6300 [3:29:31<1:17:43,  2.92s/it, curr_speed=34.28 Mbps, mb_sent=1534.80 Mb]COMET ERROR: File could not be uploaded\n",
      " 75%|███████▍  | 4704/6300 [3:29:38<1:21:10,  3.05s/it, curr_speed=34.18 Mbps, mb_sent=1535.48 Mb]COMET ERROR: File could not be uploaded\n",
      " 75%|███████▌  | 4732/6300 [3:31:07<1:24:57,  3.25s/it, curr_speed=33.89 Mbps, mb_sent=1545.09 Mb]COMET ERROR: File could not be uploaded\n",
      " 76%|███████▌  | 4792/6300 [3:34:14<1:19:25,  3.16s/it, curr_speed=33.81 Mbps, mb_sent=1565.33 Mb]COMET ERROR: File could not be uploaded\n",
      " 76%|███████▋  | 4819/6300 [3:35:37<1:15:09,  3.05s/it, curr_speed=34.92 Mbps, mb_sent=1575.53 Mb]COMET ERROR: File could not be uploaded\n",
      " 77%|███████▋  | 4827/6300 [3:36:02<1:19:38,  3.24s/it, curr_speed=34.80 Mbps, mb_sent=1578.23 Mb]COMET ERROR: File could not be uploaded\n",
      " 77%|███████▋  | 4854/6300 [3:37:24<1:15:54,  3.15s/it, curr_speed=35.17 Mbps, mb_sent=1587.60 Mb]COMET ERROR: File could not be uploaded\n",
      " 77%|███████▋  | 4857/6300 [3:37:35<1:21:14,  3.38s/it, curr_speed=35.12 Mbps, mb_sent=1588.56 Mb]COMET ERROR: File could not be uploaded\n",
      " 77%|███████▋  | 4862/6300 [3:37:52<1:22:57,  3.46s/it, curr_speed=34.98 Mbps, mb_sent=1590.13 Mb]COMET ERROR: File could not be uploaded\n",
      " 77%|███████▋  | 4877/6300 [3:38:38<1:15:38,  3.19s/it, curr_speed=34.95 Mbps, mb_sent=1595.30 Mb]COMET ERROR: File could not be uploaded\n",
      " 77%|███████▋  | 4880/6300 [3:38:48<1:18:15,  3.31s/it, curr_speed=34.78 Mbps, mb_sent=1596.15 Mb]COMET ERROR: File could not be uploaded\n",
      " 78%|███████▊  | 4884/6300 [3:39:02<1:21:30,  3.45s/it, curr_speed=34.57 Mbps, mb_sent=1597.13 Mb]COMET ERROR: File could not be uploaded\n",
      " 78%|███████▊  | 4915/6300 [3:40:41<1:19:21,  3.44s/it, curr_speed=32.60 Mbps, mb_sent=1607.40 Mb]COMET ERROR: File could not be uploaded\n",
      " 78%|███████▊  | 4935/6300 [3:41:44<1:10:48,  3.11s/it, curr_speed=33.07 Mbps, mb_sent=1613.96 Mb]COMET ERROR: File could not be uploaded\n",
      " 78%|███████▊  | 4941/6300 [3:42:02<1:11:29,  3.16s/it, curr_speed=32.92 Mbps, mb_sent=1615.98 Mb]COMET ERROR: File could not be uploaded\n",
      " 78%|███████▊  | 4944/6300 [3:42:12<1:10:55,  3.14s/it, curr_speed=32.91 Mbps, mb_sent=1617.04 Mb]COMET ERROR: File could not be uploaded\n",
      " 79%|███████▊  | 4950/6300 [3:42:32<1:15:54,  3.37s/it, curr_speed=32.83 Mbps, mb_sent=1619.00 Mb]COMET ERROR: File could not be uploaded\n",
      " 79%|███████▊  | 4954/6300 [3:42:43<1:07:08,  2.99s/it, curr_speed=32.78 Mbps, mb_sent=1620.38 Mb]COMET ERROR: File could not be uploaded\n",
      " 79%|███████▊  | 4956/6300 [3:42:50<1:10:10,  3.13s/it, curr_speed=32.88 Mbps, mb_sent=1621.12 Mb]COMET ERROR: File could not be uploaded\n",
      " 83%|████████▎ | 5212/6300 [3:56:31<57:32,  3.17s/it, curr_speed=36.09 Mbps, mb_sent=1711.32 Mb]  COMET ERROR: File could not be uploaded\n",
      " 83%|████████▎ | 5215/6300 [3:56:41<58:11,  3.22s/it, curr_speed=36.23 Mbps, mb_sent=1712.44 Mb]  COMET ERROR: File could not be uploaded\n",
      " 83%|████████▎ | 5238/6300 [3:57:54<53:56,  3.05s/it, curr_speed=34.76 Mbps, mb_sent=1721.03 Mb]  COMET ERROR: File could not be uploaded\n",
      " 83%|████████▎ | 5246/6300 [3:58:18<53:05,  3.02s/it, curr_speed=34.76 Mbps, mb_sent=1723.86 Mb]COMET ERROR: File could not be uploaded\n",
      " 83%|████████▎ | 5253/6300 [3:58:41<54:34,  3.13s/it, curr_speed=34.45 Mbps, mb_sent=1726.25 Mb]COMET ERROR: File could not be uploaded\n",
      " 84%|████████▍ | 5281/6300 [4:00:12<56:17,  3.31s/it, curr_speed=34.32 Mbps, mb_sent=1736.04 Mb]  COMET ERROR: File could not be uploaded\n",
      " 84%|████████▍ | 5288/6300 [4:00:34<53:25,  3.17s/it, curr_speed=34.45 Mbps, mb_sent=1738.51 Mb]COMET ERROR: File could not be uploaded\n",
      " 84%|████████▍ | 5304/6300 [4:01:21<47:51,  2.88s/it, curr_speed=34.96 Mbps, mb_sent=1743.68 Mb]COMET ERROR: File could not be uploaded\n",
      " 85%|████████▍ | 5344/6300 [4:03:25<49:32,  3.11s/it, curr_speed=34.69 Mbps, mb_sent=1757.88 Mb]COMET ERROR: File could not be uploaded\n",
      " 85%|████████▌ | 5360/6300 [4:04:14<47:14,  3.02s/it, curr_speed=34.79 Mbps, mb_sent=1763.65 Mb]COMET ERROR: File could not be uploaded\n",
      "100%|██████████| 6300/6300 [4:55:44<00:00,  2.82s/it, curr_speed=35.75 Mbps, mb_sent=2094.95 Mb]\n"
     ]
    },
    {
     "name": "stdout",
     "output_type": "stream",
     "text": [
      "Waiting for simulation script to connect on port: tcp://localhost:14869\n",
      "Please start proper ns-3 simulation script using ./waf --run \"...\"\n",
      "Waf: Entering directory `/home/samuel/ns-allinone-3.29/ns-3.29/build'\n",
      "Waf: Leaving directory `/home/samuel/ns-allinone-3.29/ns-3.29/build'\n",
      "Build commands will be stored in build/compile_commands.json\n",
      "'build' finished successfully (2.498s)\n"
     ]
    },
    {
     "name": "stderr",
     "output_type": "stream",
     "text": [
      "Ns3Env parameters:\n",
      "--nWifi: 50\n",
      "--simulationTime: 60\n",
      "--openGymPort: 14869\n",
      "--envStepTime: 0.01\n",
      "--seed: 42\n",
      "--agentType: continuous\n",
      "--scenario: convergence\n",
      "--dryRun: 0\n",
      "Simulation started\n",
      "Simulation process id: 3941406 (parent (waf shell) id: 3941387)\n",
      "Waiting for Python process to connect on port: tcp://localhost:14869\n",
      "Please start proper Python Gym Agent\n",
      "  0%|          | 0/6300 [00:00<?, ?it/s]"
     ]
    },
    {
     "name": "stdout",
     "output_type": "stream",
     "text": [
      "Sent 2094.95 Mb/s.\tMean speed: 34.92 Mb/s\tEpisode 4/15 finished\n",
      "\n",
      "4\n"
     ]
    },
    {
     "name": "stderr",
     "output_type": "stream",
     "text": [
      "  5%|▍         | 304/6300 [02:19<2:41:00,  1.61s/it, curr_speed=38.35 Mbps, mb_sent=1.15 Mb]"
     ]
    },
    {
     "name": "stdout",
     "output_type": "stream",
     "text": [
      "------- MEMORY BUFFER FILLED -------\n"
     ]
    },
    {
     "name": "stderr",
     "output_type": "stream",
     "text": [
      "100%|██████████| 6300/6300 [4:56:45<00:00,  2.83s/it, curr_speed=35.94 Mbps, mb_sent=2165.35 Mb]  \n"
     ]
    },
    {
     "name": "stdout",
     "output_type": "stream",
     "text": [
      "Waiting for simulation script to connect on port: tcp://localhost:31575\n",
      "Please start proper ns-3 simulation script using ./waf --run \"...\"\n",
      "Waf: Entering directory `/home/samuel/ns-allinone-3.29/ns-3.29/build'\n",
      "Waf: Leaving directory `/home/samuel/ns-allinone-3.29/ns-3.29/build'\n",
      "Build commands will be stored in build/compile_commands.json\n",
      "'build' finished successfully (2.317s)\n"
     ]
    },
    {
     "name": "stderr",
     "output_type": "stream",
     "text": [
      "Ns3Env parameters:\n",
      "--nWifi: 50\n",
      "--simulationTime: 60\n",
      "--openGymPort: 31575\n",
      "--envStepTime: 0.01\n",
      "--seed: 42\n",
      "--agentType: continuous\n",
      "--scenario: convergence\n",
      "--dryRun: 0\n",
      "Simulation started\n",
      "Simulation process id: 3992161 (parent (waf shell) id: 3992139)\n",
      "Waiting for Python process to connect on port: tcp://localhost:31575\n",
      "Please start proper Python Gym Agent\n",
      "  0%|          | 0/6300 [00:00<?, ?it/s]"
     ]
    },
    {
     "name": "stdout",
     "output_type": "stream",
     "text": [
      "Sent 2165.35 Mb/s.\tMean speed: 36.09 Mb/s\tEpisode 5/15 finished\n",
      "\n",
      "5\n"
     ]
    },
    {
     "name": "stderr",
     "output_type": "stream",
     "text": [
      "100%|██████████| 6300/6300 [4:57:34<00:00,  2.83s/it, curr_speed=36.56 Mbps, mb_sent=2225.71 Mb]  \n"
     ]
    },
    {
     "name": "stdout",
     "output_type": "stream",
     "text": [
      "Waiting for simulation script to connect on port: tcp://localhost:47318\n",
      "Please start proper ns-3 simulation script using ./waf --run \"...\"\n",
      "Waf: Entering directory `/home/samuel/ns-allinone-3.29/ns-3.29/build'\n",
      "Waf: Leaving directory `/home/samuel/ns-allinone-3.29/ns-3.29/build'\n",
      "Build commands will be stored in build/compile_commands.json\n",
      "'build' finished successfully (2.231s)\n"
     ]
    },
    {
     "name": "stderr",
     "output_type": "stream",
     "text": [
      "Ns3Env parameters:\n",
      "--nWifi: 50\n",
      "--simulationTime: 60\n",
      "--openGymPort: 47318\n",
      "--envStepTime: 0.01\n",
      "--seed: 42\n",
      "--agentType: continuous\n",
      "--scenario: convergence\n",
      "--dryRun: 0\n",
      "Simulation started\n",
      "Simulation process id: 4043835 (parent (waf shell) id: 4043809)\n",
      "Waiting for Python process to connect on port: tcp://localhost:47318\n",
      "Please start proper Python Gym Agent\n",
      "  0%|          | 0/6300 [00:00<?, ?it/s]"
     ]
    },
    {
     "name": "stdout",
     "output_type": "stream",
     "text": [
      "Sent 2225.71 Mb/s.\tMean speed: 37.10 Mb/s\tEpisode 6/15 finished\n",
      "\n",
      "6\n"
     ]
    },
    {
     "name": "stderr",
     "output_type": "stream",
     "text": [
      "100%|██████████| 6300/6300 [3:49:32<00:00,  2.19s/it, curr_speed=36.95 Mbps, mb_sent=2241.30 Mb]  \n"
     ]
    },
    {
     "name": "stdout",
     "output_type": "stream",
     "text": [
      "Waiting for simulation script to connect on port: tcp://localhost:52997\n",
      "Please start proper ns-3 simulation script using ./waf --run \"...\"\n",
      "Waf: Entering directory `/home/samuel/ns-allinone-3.29/ns-3.29/build'\n",
      "Waf: Leaving directory `/home/samuel/ns-allinone-3.29/ns-3.29/build'\n",
      "Build commands will be stored in build/compile_commands.json\n",
      "'build' finished successfully (2.314s)\n"
     ]
    },
    {
     "name": "stderr",
     "output_type": "stream",
     "text": [
      "Ns3Env parameters:\n",
      "--nWifi: 50\n",
      "--simulationTime: 60\n",
      "--openGymPort: 52997\n",
      "--envStepTime: 0.01\n",
      "--seed: 42\n",
      "--agentType: continuous\n",
      "--scenario: convergence\n",
      "--dryRun: 0\n",
      "Simulation started\n",
      "Simulation process id: 4097645 (parent (waf shell) id: 4097623)\n",
      "Waiting for Python process to connect on port: tcp://localhost:52997\n",
      "Please start proper Python Gym Agent\n",
      "  0%|          | 0/6300 [00:00<?, ?it/s]"
     ]
    },
    {
     "name": "stdout",
     "output_type": "stream",
     "text": [
      "Sent 2241.30 Mb/s.\tMean speed: 37.36 Mb/s\tEpisode 7/15 finished\n",
      "\n",
      "7\n"
     ]
    },
    {
     "name": "stderr",
     "output_type": "stream",
     "text": [
      "100%|██████████| 6300/6300 [3:28:19<00:00,  1.98s/it, curr_speed=37.62 Mbps, mb_sent=2257.05 Mb]  \n"
     ]
    },
    {
     "name": "stdout",
     "output_type": "stream",
     "text": [
      "Waiting for simulation script to connect on port: tcp://localhost:32960\n",
      "Please start proper ns-3 simulation script using ./waf --run \"...\"\n",
      "Waf: Entering directory `/home/samuel/ns-allinone-3.29/ns-3.29/build'\n",
      "Waf: Leaving directory `/home/samuel/ns-allinone-3.29/ns-3.29/build'\n",
      "Build commands will be stored in build/compile_commands.json\n",
      "'build' finished successfully (2.144s)\n"
     ]
    },
    {
     "name": "stderr",
     "output_type": "stream",
     "text": [
      "Ns3Env parameters:\n",
      "--nWifi: 50\n",
      "--simulationTime: 60\n",
      "--openGymPort: 32960\n",
      "--envStepTime: 0.01\n",
      "--seed: 42\n",
      "--agentType: continuous\n",
      "--scenario: convergence\n",
      "--dryRun: 0\n",
      "Simulation started\n",
      "Simulation process id: 4151216 (parent (waf shell) id: 4151185)\n",
      "Waiting for Python process to connect on port: tcp://localhost:32960\n",
      "Please start proper Python Gym Agent\n",
      "  0%|          | 0/6300 [00:00<?, ?it/s]"
     ]
    },
    {
     "name": "stdout",
     "output_type": "stream",
     "text": [
      "Sent 2257.05 Mb/s.\tMean speed: 37.62 Mb/s\tEpisode 8/15 finished\n",
      "\n",
      "8\n"
     ]
    },
    {
     "name": "stderr",
     "output_type": "stream",
     "text": [
      "100%|██████████| 6300/6300 [1:16:50<00:00,  1.37it/s, curr_speed=38.00 Mbps, mb_sent=2269.44 Mb]\n"
     ]
    },
    {
     "name": "stdout",
     "output_type": "stream",
     "text": [
      "Waiting for simulation script to connect on port: tcp://localhost:48921\n",
      "Please start proper ns-3 simulation script using ./waf --run \"...\"\n",
      "Waf: Entering directory `/home/samuel/ns-allinone-3.29/ns-3.29/build'\n",
      "Waf: Leaving directory `/home/samuel/ns-allinone-3.29/ns-3.29/build'\n",
      "Build commands will be stored in build/compile_commands.json\n",
      "'build' finished successfully (2.150s)\n"
     ]
    },
    {
     "name": "stderr",
     "output_type": "stream",
     "text": [
      "Ns3Env parameters:\n",
      "--nWifi: 50\n",
      "--simulationTime: 60\n",
      "--openGymPort: 48921\n",
      "--envStepTime: 0.01\n",
      "--seed: 42\n",
      "--agentType: continuous\n",
      "--scenario: convergence\n",
      "--dryRun: 0\n",
      "Simulation started\n",
      "Simulation process id: 4192938 (parent (waf shell) id: 4192903)\n",
      "Waiting for Python process to connect on port: tcp://localhost:48921\n",
      "Please start proper Python Gym Agent\n",
      "  0%|          | 0/6300 [00:00<?, ?it/s]"
     ]
    },
    {
     "name": "stdout",
     "output_type": "stream",
     "text": [
      "Sent 2269.44 Mb/s.\tMean speed: 37.82 Mb/s\tEpisode 9/15 finished\n",
      "\n",
      "9\n"
     ]
    },
    {
     "name": "stderr",
     "output_type": "stream",
     "text": [
      "100%|██████████| 6300/6300 [1:08:13<00:00,  1.54it/s, curr_speed=36.81 Mbps, mb_sent=2247.26 Mb]\n"
     ]
    },
    {
     "name": "stdout",
     "output_type": "stream",
     "text": [
      "Waiting for simulation script to connect on port: tcp://localhost:21887\n",
      "Please start proper ns-3 simulation script using ./waf --run \"...\"\n",
      "Waf: Entering directory `/home/samuel/ns-allinone-3.29/ns-3.29/build'\n",
      "Waf: Leaving directory `/home/samuel/ns-allinone-3.29/ns-3.29/build'\n",
      "Build commands will be stored in build/compile_commands.json\n",
      "'build' finished successfully (2.075s)\n"
     ]
    },
    {
     "name": "stderr",
     "output_type": "stream",
     "text": [
      "Ns3Env parameters:\n",
      "--nWifi: 50\n",
      "--simulationTime: 60\n",
      "--openGymPort: 21887\n",
      "--envStepTime: 0.01\n",
      "--seed: 42\n",
      "--agentType: continuous\n",
      "--scenario: convergence\n",
      "--dryRun: 0\n",
      "Simulation started\n",
      "Simulation process id: 34026 (parent (waf shell) id: 33997)\n",
      "Waiting for Python process to connect on port: tcp://localhost:21887\n",
      "Please start proper Python Gym Agent\n",
      "  0%|          | 0/6300 [00:00<?, ?it/s]"
     ]
    },
    {
     "name": "stdout",
     "output_type": "stream",
     "text": [
      "Sent 2247.26 Mb/s.\tMean speed: 37.45 Mb/s\tEpisode 10/15 finished\n",
      "\n",
      "10\n"
     ]
    },
    {
     "name": "stderr",
     "output_type": "stream",
     "text": [
      "100%|██████████| 6300/6300 [1:07:46<00:00,  1.55it/s, curr_speed=36.09 Mbps, mb_sent=2260.25 Mb]\n"
     ]
    },
    {
     "name": "stdout",
     "output_type": "stream",
     "text": [
      "Waiting for simulation script to connect on port: tcp://localhost:35756\n",
      "Please start proper ns-3 simulation script using ./waf --run \"...\"\n",
      "Waf: Entering directory `/home/samuel/ns-allinone-3.29/ns-3.29/build'\n",
      "Waf: Leaving directory `/home/samuel/ns-allinone-3.29/ns-3.29/build'\n",
      "Build commands will be stored in build/compile_commands.json\n",
      "'build' finished successfully (2.080s)\n"
     ]
    },
    {
     "name": "stderr",
     "output_type": "stream",
     "text": [
      "Ns3Env parameters:\n",
      "--nWifi: 50\n",
      "--simulationTime: 60\n",
      "--openGymPort: 35756\n",
      "--envStepTime: 0.01\n",
      "--seed: 42\n",
      "--agentType: continuous\n",
      "--scenario: convergence\n",
      "--dryRun: 0\n",
      "Simulation started\n",
      "Simulation process id: 67692 (parent (waf shell) id: 67660)\n",
      "Waiting for Python process to connect on port: tcp://localhost:35756\n",
      "Please start proper Python Gym Agent\n",
      "  0%|          | 0/6300 [00:00<?, ?it/s]"
     ]
    },
    {
     "name": "stdout",
     "output_type": "stream",
     "text": [
      "Sent 2260.25 Mb/s.\tMean speed: 37.67 Mb/s\tEpisode 11/15 finished\n",
      "\n",
      "11\n"
     ]
    },
    {
     "name": "stderr",
     "output_type": "stream",
     "text": [
      " 92%|█████████▏| 5798/6300 [54:42<06:56,  1.21it/s, curr_speed=37.26 Mbps, mb_sent=2075.77 Mb]COMET ERROR: File could not be uploaded\n",
      "COMET ERROR: File could not be uploaded\n",
      "COMET ERROR: File could not be uploaded\n",
      "COMET ERROR: File could not be uploaded\n",
      "COMET ERROR: File could not be uploaded\n",
      "COMET ERROR: File could not be uploaded\n",
      "COMET ERROR: File could not be uploaded\n",
      "COMET ERROR: File could not be uploaded\n",
      "COMET ERROR: File could not be uploaded\n",
      "COMET ERROR: File could not be uploaded\n",
      "COMET ERROR: File could not be uploaded\n",
      "COMET ERROR: File could not be uploaded\n",
      "COMET ERROR: File could not be uploaded\n",
      "COMET ERROR: File could not be uploaded\n",
      "COMET ERROR: File could not be uploaded\n",
      "COMET ERROR: File could not be uploaded\n",
      "COMET ERROR: File could not be uploaded\n",
      "COMET ERROR: File could not be uploaded\n",
      "COMET ERROR: File could not be uploaded\n",
      "COMET ERROR: File could not be uploaded\n",
      "COMET ERROR: File could not be uploaded\n",
      "COMET ERROR: File could not be uploaded\n",
      "COMET ERROR: File could not be uploaded\n",
      "COMET ERROR: File could not be uploaded\n",
      "COMET ERROR: File could not be uploaded\n",
      " 92%|█████████▏| 5811/6300 [54:53<06:44,  1.21it/s, curr_speed=36.87 Mbps, mb_sent=2080.42 Mb]COMET ERROR: File could not be uploaded\n",
      " 92%|█████████▏| 5812/6300 [54:53<06:43,  1.21it/s, curr_speed=36.81 Mbps, mb_sent=2080.78 Mb]COMET ERROR: File could not be uploaded\n",
      " 92%|█████████▏| 5813/6300 [54:54<06:46,  1.20it/s, curr_speed=36.84 Mbps, mb_sent=2081.18 Mb]COMET ERROR: File could not be uploaded\n",
      " 92%|█████████▏| 5814/6300 [54:55<06:44,  1.20it/s, curr_speed=36.84 Mbps, mb_sent=2081.54 Mb]COMET ERROR: File could not be uploaded\n",
      " 92%|█████████▏| 5815/6300 [54:56<06:41,  1.21it/s, curr_speed=36.79 Mbps, mb_sent=2081.86 Mb]COMET ERROR: File could not be uploaded\n",
      " 92%|█████████▏| 5816/6300 [54:57<06:44,  1.20it/s, curr_speed=36.83 Mbps, mb_sent=2082.25 Mb]COMET ERROR: File could not be uploaded\n",
      " 92%|█████████▏| 5817/6300 [54:58<06:44,  1.20it/s, curr_speed=36.81 Mbps, mb_sent=2082.63 Mb]COMET ERROR: File could not be uploaded\n",
      " 92%|█████████▏| 5818/6300 [54:58<06:41,  1.20it/s, curr_speed=36.87 Mbps, mb_sent=2082.99 Mb]COMET ERROR: File could not be uploaded\n",
      " 92%|█████████▏| 5819/6300 [54:59<06:42,  1.20it/s, curr_speed=36.91 Mbps, mb_sent=2083.37 Mb]COMET ERROR: File could not be uploaded\n",
      " 92%|█████████▏| 5820/6300 [55:00<06:45,  1.18it/s, curr_speed=36.94 Mbps, mb_sent=2083.75 Mb]COMET ERROR: File could not be uploaded\n",
      " 92%|█████████▏| 5821/6300 [55:01<06:44,  1.18it/s, curr_speed=36.95 Mbps, mb_sent=2084.14 Mb]COMET ERROR: File could not be uploaded\n",
      " 92%|█████████▏| 5822/6300 [55:02<06:41,  1.19it/s, curr_speed=36.93 Mbps, mb_sent=2084.50 Mb]COMET ERROR: File could not be uploaded\n",
      " 93%|█████████▎| 5829/6300 [55:08<06:38,  1.18it/s, curr_speed=36.95 Mbps, mb_sent=2087.11 Mb]COMET ERROR: File could not be uploaded\n",
      " 93%|█████████▎| 5830/6300 [55:09<06:42,  1.17it/s, curr_speed=36.95 Mbps, mb_sent=2087.49 Mb]COMET ERROR: File could not be uploaded\n",
      " 93%|█████████▎| 5831/6300 [55:10<06:38,  1.18it/s, curr_speed=37.05 Mbps, mb_sent=2087.90 Mb]COMET ERROR: File could not be uploaded\n",
      " 93%|█████████▎| 5832/6300 [55:10<06:38,  1.18it/s, curr_speed=37.09 Mbps, mb_sent=2088.30 Mb]COMET ERROR: File could not be uploaded\n",
      " 93%|█████████▎| 5833/6300 [55:11<06:35,  1.18it/s, curr_speed=37.09 Mbps, mb_sent=2088.64 Mb]COMET ERROR: File could not be uploaded\n",
      " 93%|█████████▎| 5834/6300 [55:12<06:42,  1.16it/s, curr_speed=37.07 Mbps, mb_sent=2089.03 Mb]COMET ERROR: File could not be uploaded\n",
      " 93%|█████████▎| 5861/6300 [55:35<06:15,  1.17it/s, curr_speed=36.83 Mbps, mb_sent=2098.80 Mb]COMET ERROR: File could not be uploaded\n",
      " 93%|█████████▎| 5873/6300 [55:45<06:02,  1.18it/s, curr_speed=36.71 Mbps, mb_sent=2103.17 Mb]COMET ERROR: File could not be uploaded\n",
      " 93%|█████████▎| 5874/6300 [55:46<06:00,  1.18it/s, curr_speed=36.74 Mbps, mb_sent=2103.56 Mb]COMET ERROR: File could not be uploaded\n",
      "COMET ERROR: File could not be uploaded\n",
      " 93%|█████████▎| 5875/6300 [55:47<05:58,  1.18it/s, curr_speed=36.74 Mbps, mb_sent=2103.95 Mb]COMET ERROR: File could not be uploaded\n",
      " 93%|█████████▎| 5876/6300 [55:48<05:59,  1.18it/s, curr_speed=36.75 Mbps, mb_sent=2104.33 Mb]COMET ERROR: File could not be uploaded\n",
      " 93%|█████████▎| 5877/6300 [55:49<06:00,  1.17it/s, curr_speed=36.74 Mbps, mb_sent=2104.73 Mb]COMET ERROR: File could not be uploaded\n",
      " 93%|█████████▎| 5878/6300 [55:50<05:57,  1.18it/s, curr_speed=36.77 Mbps, mb_sent=2105.10 Mb]COMET ERROR: File could not be uploaded\n",
      " 93%|█████████▎| 5881/6300 [55:52<05:59,  1.17it/s, curr_speed=36.76 Mbps, mb_sent=2106.29 Mb]COMET ERROR: File could not be uploaded\n",
      " 93%|█████████▎| 5882/6300 [55:53<05:56,  1.17it/s, curr_speed=36.79 Mbps, mb_sent=2106.62 Mb]COMET ERROR: File could not be uploaded\n",
      " 93%|█████████▎| 5883/6300 [55:54<05:53,  1.18it/s, curr_speed=36.80 Mbps, mb_sent=2107.01 Mb]COMET ERROR: File could not be uploaded\n",
      " 93%|█████████▎| 5884/6300 [55:55<05:50,  1.19it/s, curr_speed=36.76 Mbps, mb_sent=2107.36 Mb]COMET ERROR: File could not be uploaded\n",
      " 93%|█████████▎| 5887/6300 [55:57<05:50,  1.18it/s, curr_speed=36.69 Mbps, mb_sent=2108.45 Mb]COMET ERROR: File could not be uploaded\n",
      " 93%|█████████▎| 5888/6300 [55:58<05:53,  1.16it/s, curr_speed=36.64 Mbps, mb_sent=2108.81 Mb]COMET ERROR: File could not be uploaded\n",
      " 93%|█████████▎| 5889/6300 [55:59<05:51,  1.17it/s, curr_speed=36.66 Mbps, mb_sent=2109.15 Mb]COMET ERROR: File could not be uploaded\n",
      " 93%|█████████▎| 5890/6300 [56:00<05:48,  1.18it/s, curr_speed=36.71 Mbps, mb_sent=2109.56 Mb]COMET ERROR: File could not be uploaded\n",
      " 94%|█████████▎| 5893/6300 [56:02<05:45,  1.18it/s, curr_speed=36.65 Mbps, mb_sent=2110.61 Mb]COMET ERROR: File could not be uploaded\n",
      " 94%|█████████▎| 5901/6300 [56:09<05:37,  1.18it/s, curr_speed=36.45 Mbps, mb_sent=2113.30 Mb]COMET ERROR: File could not be uploaded\n",
      "COMET ERROR: File could not be uploaded\n",
      " 94%|█████████▎| 5902/6300 [56:10<05:35,  1.19it/s, curr_speed=36.39 Mbps, mb_sent=2113.64 Mb]COMET ERROR: File could not be uploaded\n",
      "COMET ERROR: File could not be uploaded\n",
      " 94%|█████████▎| 5903/6300 [56:11<05:33,  1.19it/s, curr_speed=36.37 Mbps, mb_sent=2113.98 Mb]COMET ERROR: File could not be uploaded\n",
      "COMET ERROR: File could not be uploaded\n",
      " 94%|█████████▎| 5904/6300 [56:11<05:32,  1.19it/s, curr_speed=36.35 Mbps, mb_sent=2114.36 Mb]COMET ERROR: File could not be uploaded\n",
      "COMET ERROR: File could not be uploaded\n",
      " 94%|█████████▎| 5905/6300 [56:12<05:34,  1.18it/s, curr_speed=36.42 Mbps, mb_sent=2114.79 Mb]COMET ERROR: File could not be uploaded\n",
      " 94%|█████████▎| 5906/6300 [56:13<05:31,  1.19it/s, curr_speed=36.50 Mbps, mb_sent=2115.16 Mb]COMET ERROR: File could not be uploaded\n",
      " 94%|█████████▍| 5916/6300 [56:22<05:23,  1.19it/s, curr_speed=36.66 Mbps, mb_sent=2118.91 Mb]COMET ERROR: File could not be uploaded\n",
      " 94%|█████████▍| 5918/6300 [56:23<05:26,  1.17it/s, curr_speed=36.70 Mbps, mb_sent=2119.69 Mb]COMET ERROR: File could not be uploaded\n",
      " 94%|█████████▍| 5931/6300 [56:34<05:10,  1.19it/s, curr_speed=36.41 Mbps, mb_sent=2124.31 Mb]COMET ERROR: File could not be uploaded\n",
      " 94%|█████████▍| 5932/6300 [56:35<05:08,  1.19it/s, curr_speed=36.31 Mbps, mb_sent=2124.62 Mb]COMET ERROR: File could not be uploaded\n",
      " 94%|█████████▍| 5933/6300 [56:36<05:10,  1.18it/s, curr_speed=36.37 Mbps, mb_sent=2125.01 Mb]COMET ERROR: File could not be uploaded\n",
      " 94%|█████████▍| 5934/6300 [56:37<05:09,  1.18it/s, curr_speed=36.36 Mbps, mb_sent=2125.39 Mb]COMET ERROR: File could not be uploaded\n",
      " 94%|█████████▍| 5935/6300 [56:38<05:06,  1.19it/s, curr_speed=36.35 Mbps, mb_sent=2125.73 Mb]COMET ERROR: File could not be uploaded\n",
      " 94%|█████████▍| 5936/6300 [56:38<05:04,  1.20it/s, curr_speed=36.36 Mbps, mb_sent=2126.07 Mb]COMET ERROR: File could not be uploaded\n",
      " 94%|█████████▍| 5937/6300 [56:39<05:06,  1.19it/s, curr_speed=36.35 Mbps, mb_sent=2126.46 Mb]COMET ERROR: File could not be uploaded\n",
      " 94%|█████████▍| 5938/6300 [56:40<05:04,  1.19it/s, curr_speed=36.36 Mbps, mb_sent=2126.83 Mb]COMET ERROR: File could not be uploaded\n",
      " 94%|█████████▍| 5939/6300 [56:41<05:01,  1.20it/s, curr_speed=36.32 Mbps, mb_sent=2127.17 Mb]COMET ERROR: File could not be uploaded\n",
      " 94%|█████████▍| 5940/6300 [56:42<05:00,  1.20it/s, curr_speed=36.33 Mbps, mb_sent=2127.54 Mb]COMET ERROR: File could not be uploaded\n",
      " 94%|█████████▍| 5941/6300 [56:43<05:01,  1.19it/s, curr_speed=36.39 Mbps, mb_sent=2127.90 Mb]COMET ERROR: File could not be uploaded\n",
      " 94%|█████████▍| 5942/6300 [56:44<05:02,  1.18it/s, curr_speed=36.42 Mbps, mb_sent=2128.28 Mb]COMET ERROR: File could not be uploaded\n",
      " 94%|█████████▍| 5943/6300 [56:44<05:07,  1.16it/s, curr_speed=36.40 Mbps, mb_sent=2128.59 Mb]COMET ERROR: File could not be uploaded\n",
      " 94%|█████████▍| 5944/6300 [56:45<05:10,  1.15it/s, curr_speed=36.39 Mbps, mb_sent=2128.99 Mb]COMET ERROR: File could not be uploaded\n",
      " 94%|█████████▍| 5945/6300 [56:46<05:06,  1.16it/s, curr_speed=36.33 Mbps, mb_sent=2129.37 Mb]COMET ERROR: File could not be uploaded\n",
      " 94%|█████████▍| 5946/6300 [56:47<05:08,  1.15it/s, curr_speed=36.30 Mbps, mb_sent=2129.72 Mb]COMET ERROR: File could not be uploaded\n",
      " 94%|█████████▍| 5947/6300 [56:48<05:04,  1.16it/s, curr_speed=36.33 Mbps, mb_sent=2130.10 Mb]COMET ERROR: File could not be uploaded\n",
      " 95%|█████████▍| 5955/6300 [56:55<04:53,  1.18it/s, curr_speed=36.45 Mbps, mb_sent=2133.06 Mb]COMET ERROR: File could not be uploaded\n",
      "COMET ERROR: File could not be uploaded\n",
      "COMET ERROR: File could not be uploaded\n",
      "COMET ERROR: File could not be uploaded\n",
      "COMET ERROR: File could not be uploaded\n",
      "COMET ERROR: File could not be uploaded\n",
      "COMET ERROR: File could not be uploaded\n",
      "COMET ERROR: File could not be uploaded\n",
      "COMET ERROR: File could not be uploaded\n",
      "COMET ERROR: File could not be uploaded\n",
      "COMET ERROR: File could not be uploaded\n",
      "COMET ERROR: File could not be uploaded\n",
      "COMET ERROR: File could not be uploaded\n",
      "COMET ERROR: File could not be uploaded\n",
      "COMET ERROR: File could not be uploaded\n",
      " 95%|█████████▍| 5956/6300 [56:56<04:54,  1.17it/s, curr_speed=36.48 Mbps, mb_sent=2133.45 Mb]COMET ERROR: File could not be uploaded\n",
      "COMET ERROR: File could not be uploaded\n",
      " 95%|█████████▍| 5957/6300 [56:56<04:53,  1.17it/s, curr_speed=36.52 Mbps, mb_sent=2133.86 Mb]COMET ERROR: File could not be uploaded\n",
      "COMET ERROR: File could not be uploaded\n",
      " 95%|█████████▍| 5958/6300 [56:57<04:51,  1.17it/s, curr_speed=36.43 Mbps, mb_sent=2134.19 Mb]COMET ERROR: File could not be uploaded\n",
      "COMET ERROR: File could not be uploaded\n",
      " 95%|█████████▍| 5959/6300 [56:58<04:53,  1.16it/s, curr_speed=36.47 Mbps, mb_sent=2134.57 Mb]COMET ERROR: File could not be uploaded\n",
      "COMET ERROR: File could not be uploaded\n",
      " 95%|█████████▍| 5960/6300 [56:59<04:51,  1.17it/s, curr_speed=36.48 Mbps, mb_sent=2134.91 Mb]COMET ERROR: File could not be uploaded\n",
      " 95%|█████████▍| 5979/6300 [57:15<04:32,  1.18it/s, curr_speed=36.57 Mbps, mb_sent=2142.09 Mb]COMET ERROR: File could not be uploaded\n",
      "COMET ERROR: File could not be uploaded\n",
      "COMET ERROR: File could not be uploaded\n",
      "COMET ERROR: File could not be uploaded\n",
      "COMET ERROR: File could not be uploaded\n",
      "COMET ERROR: File could not be uploaded\n",
      "COMET ERROR: File could not be uploaded\n",
      "COMET ERROR: File could not be uploaded\n",
      "COMET ERROR: File could not be uploaded\n",
      "COMET ERROR: File could not be uploaded\n",
      "COMET ERROR: File could not be uploaded\n",
      "COMET ERROR: File could not be uploaded\n",
      "COMET ERROR: File could not be uploaded\n",
      "COMET ERROR: File could not be uploaded\n",
      "COMET ERROR: File could not be uploaded\n",
      " 95%|█████████▍| 5980/6300 [57:16<04:31,  1.18it/s, curr_speed=36.51 Mbps, mb_sent=2142.42 Mb]COMET ERROR: File could not be uploaded\n",
      "COMET ERROR: File could not be uploaded\n",
      " 95%|█████████▍| 5981/6300 [57:17<04:30,  1.18it/s, curr_speed=36.51 Mbps, mb_sent=2142.80 Mb]COMET ERROR: File could not be uploaded\n",
      "COMET ERROR: File could not be uploaded\n",
      " 95%|█████████▌| 5994/6300 [57:28<04:19,  1.18it/s, curr_speed=36.46 Mbps, mb_sent=2147.36 Mb]COMET ERROR: File could not be uploaded\n",
      "COMET ERROR: File could not be uploaded\n",
      " 95%|█████████▌| 5995/6300 [57:29<04:18,  1.18it/s, curr_speed=36.47 Mbps, mb_sent=2147.74 Mb]COMET ERROR: File could not be uploaded\n",
      "COMET ERROR: File could not be uploaded\n",
      " 95%|█████████▌| 5996/6300 [57:30<04:19,  1.17it/s, curr_speed=36.55 Mbps, mb_sent=2148.11 Mb]COMET ERROR: File could not be uploaded\n",
      " 95%|█████████▌| 5997/6300 [57:31<04:21,  1.16it/s, curr_speed=36.54 Mbps, mb_sent=2148.42 Mb]COMET ERROR: File could not be uploaded\n",
      " 95%|█████████▌| 5998/6300 [57:31<04:21,  1.16it/s, curr_speed=36.57 Mbps, mb_sent=2148.81 Mb]COMET ERROR: File could not be uploaded\n",
      " 95%|█████████▌| 5999/6300 [57:32<04:20,  1.15it/s, curr_speed=36.60 Mbps, mb_sent=2149.21 Mb]COMET ERROR: File could not be uploaded\n",
      "COMET ERROR: File could not be uploaded\n",
      "COMET ERROR: File could not be uploaded\n",
      "COMET ERROR: File could not be uploaded\n",
      "COMET ERROR: File could not be uploaded\n",
      "COMET ERROR: File could not be uploaded\n",
      "COMET ERROR: File could not be uploaded\n",
      "COMET ERROR: File could not be uploaded\n",
      "COMET ERROR: File could not be uploaded\n",
      "COMET ERROR: File could not be uploaded\n",
      "COMET ERROR: File could not be uploaded\n",
      "COMET ERROR: File could not be uploaded\n",
      "COMET ERROR: File could not be uploaded\n",
      " 95%|█████████▌| 6000/6300 [57:33<04:23,  1.14it/s, curr_speed=36.59 Mbps, mb_sent=2149.57 Mb]COMET ERROR: File could not be uploaded\n",
      " 95%|█████████▌| 6012/6300 [57:43<04:03,  1.18it/s, curr_speed=36.37 Mbps, mb_sent=2153.71 Mb]COMET ERROR: File could not be uploaded\n",
      "COMET ERROR: File could not be uploaded\n",
      "COMET ERROR: File could not be uploaded\n",
      "COMET ERROR: File could not be uploaded\n",
      "COMET ERROR: File could not be uploaded\n",
      "COMET ERROR: File could not be uploaded\n",
      "COMET ERROR: File could not be uploaded\n",
      "COMET ERROR: File could not be uploaded\n",
      " 95%|█████████▌| 6013/6300 [57:44<04:05,  1.17it/s, curr_speed=36.35 Mbps, mb_sent=2154.09 Mb]COMET ERROR: File could not be uploaded\n",
      " 95%|█████████▌| 6014/6300 [57:45<04:05,  1.16it/s, curr_speed=36.33 Mbps, mb_sent=2154.46 Mb]COMET ERROR: File could not be uploaded\n",
      " 95%|█████████▌| 6015/6300 [57:46<04:03,  1.17it/s, curr_speed=36.32 Mbps, mb_sent=2154.82 Mb]COMET ERROR: File could not be uploaded\n",
      " 95%|█████████▌| 6016/6300 [57:47<04:05,  1.16it/s, curr_speed=36.23 Mbps, mb_sent=2155.14 Mb]COMET ERROR: File could not be uploaded\n",
      " 96%|█████████▌| 6017/6300 [57:48<04:07,  1.14it/s, curr_speed=36.20 Mbps, mb_sent=2155.48 Mb]COMET ERROR: File could not be uploaded\n",
      "100%|██████████| 6300/6300 [1:01:54<00:00,  1.70it/s, curr_speed=36.96 Mbps, mb_sent=2258.79 Mb]\n"
     ]
    },
    {
     "name": "stdout",
     "output_type": "stream",
     "text": [
      "Waiting for simulation script to connect on port: tcp://localhost:45397\n",
      "Please start proper ns-3 simulation script using ./waf --run \"...\"\n",
      "Waf: Entering directory `/home/samuel/ns-allinone-3.29/ns-3.29/build'\n",
      "Waf: Leaving directory `/home/samuel/ns-allinone-3.29/ns-3.29/build'\n",
      "Build commands will be stored in build/compile_commands.json\n",
      "'build' finished successfully (1.933s)\n"
     ]
    },
    {
     "name": "stderr",
     "output_type": "stream",
     "text": [
      "Ns3Env parameters:\n",
      "--nWifi: 50\n",
      "--simulationTime: 60\n",
      "--openGymPort: 45397\n",
      "--envStepTime: 0.01\n",
      "--seed: 42\n",
      "--agentType: continuous\n",
      "--scenario: convergence\n",
      "--dryRun: 0\n",
      "Simulation started\n",
      "Simulation process id: 85225 (parent (waf shell) id: 85212)\n",
      "Waiting for Python process to connect on port: tcp://localhost:45397\n",
      "Please start proper Python Gym Agent\n",
      "  0%|          | 0/6300 [00:00<?, ?it/s]"
     ]
    },
    {
     "name": "stdout",
     "output_type": "stream",
     "text": [
      "Sent 2258.79 Mb/s.\tMean speed: 37.65 Mb/s\tEpisode 12/15 finished\n",
      "\n",
      "12\n",
      "Turning off noise\n"
     ]
    },
    {
     "name": "stderr",
     "output_type": "stream",
     "text": [
      "100%|██████████| 6300/6300 [58:50<00:00,  1.78it/s, curr_speed=36.88 Mbps, mb_sent=2267.47 Mb]\n"
     ]
    },
    {
     "name": "stdout",
     "output_type": "stream",
     "text": [
      "Waiting for simulation script to connect on port: tcp://localhost:28484\n",
      "Please start proper ns-3 simulation script using ./waf --run \"...\"\n",
      "Waf: Entering directory `/home/samuel/ns-allinone-3.29/ns-3.29/build'\n",
      "Waf: Leaving directory `/home/samuel/ns-allinone-3.29/ns-3.29/build'\n",
      "Build commands will be stored in build/compile_commands.json\n",
      "'build' finished successfully (1.947s)\n"
     ]
    },
    {
     "name": "stderr",
     "output_type": "stream",
     "text": [
      "Ns3Env parameters:\n",
      "--nWifi: 50\n",
      "--simulationTime: 60\n",
      "--openGymPort: 28484\n",
      "--envStepTime: 0.01\n",
      "--seed: 42\n",
      "--agentType: continuous\n",
      "--scenario: convergence\n",
      "--dryRun: 0\n",
      "Simulation started\n",
      "Simulation process id: 92254 (parent (waf shell) id: 92241)\n",
      "Waiting for Python process to connect on port: tcp://localhost:28484\n",
      "Please start proper Python Gym Agent\n",
      "  0%|          | 0/6300 [00:00<?, ?it/s]"
     ]
    },
    {
     "name": "stdout",
     "output_type": "stream",
     "text": [
      "Sent 2267.47 Mb/s.\tMean speed: 37.79 Mb/s\tEpisode 13/15 finished\n",
      "\n",
      "13\n",
      "Turning off noise\n"
     ]
    },
    {
     "name": "stderr",
     "output_type": "stream",
     "text": [
      "100%|██████████| 6300/6300 [59:14<00:00,  1.77it/s, curr_speed=37.44 Mbps, mb_sent=2270.44 Mb]\n"
     ]
    },
    {
     "name": "stdout",
     "output_type": "stream",
     "text": [
      "Waiting for simulation script to connect on port: tcp://localhost:47654\n",
      "Please start proper ns-3 simulation script using ./waf --run \"...\"\n",
      "Waf: Entering directory `/home/samuel/ns-allinone-3.29/ns-3.29/build'\n",
      "Waf: Leaving directory `/home/samuel/ns-allinone-3.29/ns-3.29/build'\n",
      "Build commands will be stored in build/compile_commands.json\n",
      "'build' finished successfully (1.953s)\n"
     ]
    },
    {
     "name": "stderr",
     "output_type": "stream",
     "text": [
      "Ns3Env parameters:\n",
      "--nWifi: 50\n",
      "--simulationTime: 60\n",
      "--openGymPort: 47654\n",
      "--envStepTime: 0.01\n",
      "--seed: 42\n",
      "--agentType: continuous\n",
      "--scenario: convergence\n",
      "--dryRun: 0\n",
      "Simulation started\n",
      "Simulation process id: 99286 (parent (waf shell) id: 99273)\n",
      "Waiting for Python process to connect on port: tcp://localhost:47654\n",
      "Please start proper Python Gym Agent\n",
      "  0%|          | 0/6300 [00:00<?, ?it/s]"
     ]
    },
    {
     "name": "stdout",
     "output_type": "stream",
     "text": [
      "Sent 2270.44 Mb/s.\tMean speed: 37.84 Mb/s\tEpisode 14/15 finished\n",
      "\n",
      "14\n",
      "Turning off noise\n"
     ]
    },
    {
     "name": "stderr",
     "output_type": "stream",
     "text": [
      "100%|██████████| 6300/6300 [56:15<00:00,  1.87it/s, curr_speed=37.14 Mbps, mb_sent=2273.02 Mb]\n"
     ]
    },
    {
     "name": "stdout",
     "output_type": "stream",
     "text": [
      "Waiting for simulation script to connect on port: tcp://localhost:52780\n",
      "Please start proper ns-3 simulation script using ./waf --run \"...\"\n",
      "Waf: Entering directory `/home/samuel/ns-allinone-3.29/ns-3.29/build'\n",
      "Waf: Leaving directory `/home/samuel/ns-allinone-3.29/ns-3.29/build'\n",
      "Build commands will be stored in build/compile_commands.json\n",
      "'build' finished successfully (1.942s)\n"
     ]
    },
    {
     "name": "stderr",
     "output_type": "stream",
     "text": [
      "Ns3Env parameters:\n",
      "--nWifi: 50\n",
      "--simulationTime: 60\n",
      "--openGymPort: 52780\n",
      "--envStepTime: 0.01\n",
      "--seed: 42\n",
      "--agentType: continuous\n",
      "--scenario: convergence\n",
      "--dryRun: 0\n",
      "Simulation started\n",
      "Simulation process id: 106261 (parent (waf shell) id: 106248)\n",
      "Waiting for Python process to connect on port: tcp://localhost:52780\n",
      "Please start proper Python Gym Agent\n",
      "COMET INFO: ----------------------------\n",
      "COMET INFO: Comet.ml Experiment Summary:\n",
      "COMET INFO:   Data:\n",
      "COMET INFO:     url: https://www.comet.com/sheila-janota/rl-in-wifi-with-queue-level/932eec9ef0144bc88e36f9b5537409f1\n",
      "COMET INFO:   Metrics [count] (min, max):\n",
      "COMET INFO:     Chosen CW [89985]           : (16.0, 1024.0)\n",
      "COMET INFO:     Cumulative reward [15]      : (2599.454833984375, 3181.4716796875)\n",
      "COMET INFO:     Current throughput [89985]  : (25.4886531829834, 55.858333587646484)\n",
      "COMET INFO:     Fairness index [89985]      : (0.025669999420642853, 0.9944999814033508)\n",
      "COMET INFO:     Megabytes sent [89985]      : (0.2904050052165985, 2273.024404346943)\n",
      "COMET INFO:     Observation 0 [89985]       : (0.08956666819751263, 0.9675683004657427)\n",
      "COMET INFO:     Observation 1 [89985]       : (0.0, 0.012752424212640754)\n",
      "COMET INFO:     Per-ep reward [89985]       : (128.6123046875, 3181.4716796875)\n",
      "COMET INFO:     Round megabytes sent [89985]: (0.01116899959743023, 11.8619384765625)\n",
      "COMET INFO:     Round reward [89985]        : (0.014892578125, 0.908447265625)\n",
      "COMET INFO:     Speed [15]                  : (31.335101834715655, 37.88374007244905)\n",
      "COMET INFO:     Station count [89985]       : (5.0, 50.0)\n",
      "COMET INFO:     actor_loss [89985]          : (-1.692491888999939, 0.0)\n",
      "COMET INFO:     critic_loss [89985]         : (0.0, 4.74245548248291)\n",
      "COMET INFO:     loss [33578]                : (-1.6893779039382935, 0.4297882616519928)\n",
      "COMET INFO:   Uploads:\n",
      "COMET INFO:     histogram3d: 89985\n",
      "COMET INFO: ----------------------------\n",
      "COMET INFO: Uploading stats to Comet before program termination (may take several seconds)\n"
     ]
    },
    {
     "name": "stdout",
     "output_type": "stream",
     "text": [
      "Sent 2273.02 Mb/s.\tMean speed: 37.88 Mb/s\tEpisode 15/15 finished\n",
      "\n",
      "Training finished.\n"
     ]
    }
   ],
   "source": [
    "#%%\n",
    "teacher = Teacher(env, 1, Preprocessor(False))\n",
    "\n",
    "lr_actor = 4e-4\n",
    "lr_critic = 4e-3\n",
    "\n",
    "config = Config(buffer_size=4*steps_per_ep*threads_no, batch_size=32, gamma=0.7, tau=1e-3, lr_actor=lr_actor, lr_critic=lr_critic, update_every=1)\n",
    "agent = Agent(history_length, action_size=1, config=config, actor_layers=[8, 128, 16], critic_layers=[8,128,16])\n",
    "\n",
    "# Test the model\n",
    "hyperparams = {**config.__dict__, **sim_args}\n",
    "tags = [\"Rew: normalized speed\",\n",
    "        f\"{Agent.NAME}\",\n",
    "        sim_args['scenario'],\n",
    "        f\"Actor: {lr_actor}\",\n",
    "        f\"Critic: {lr_critic}\",\n",
    "        f\"Instances: {threads_no}\",\n",
    "        f\"Station count: {sim_args['nWifi']}\",\n",
    "        *[f\"{key}: {sim_args[key]}\" for key in list(sim_args)[:3]]]\n",
    "# agent.save()\n",
    "logger = teacher.train(agent, EPISODE_COUNT,\n",
    "                        simTime=simTime,\n",
    "                        stepTime=stepTime,\n",
    "                        history_length=history_length,\n",
    "                        send_logs=True,\n",
    "                        experimental=True,\n",
    "                        tags=tags,\n",
    "                        parameters=hyperparams)\n",
    "# logger = teacher.eval(agent,\n",
    "#                         simTime=simTime,\n",
    "#                         stepTime=stepTime,\n",
    "#                         history_length=history_length,\n",
    "#                         tags=tags,\n",
    "#                         parameters=hyperparams)\n",
    "# agent.save()"
   ]
  },
  {
   "cell_type": "code",
   "execution_count": null,
   "id": "c0c328b2",
   "metadata": {},
   "outputs": [],
   "source": []
  },
  {
   "cell_type": "markdown",
   "id": "2e82e413",
   "metadata": {},
   "source": [
    "# Execution num4:"
   ]
  },
  {
   "cell_type": "code",
   "execution_count": 10,
   "id": "84b8641b",
   "metadata": {},
   "outputs": [],
   "source": [
    "#%%\n",
    "from ns3gym import ns3env\n",
    "from comet_ml import Experiment, Optimizer\n",
    "import tqdm\n",
    "import subprocess\n",
    "from collections import deque\n",
    "import numpy as np\n",
    "\n",
    "from agents.ddpg.agent import Agent, Config\n",
    "from agents.ddpg.model import Actor\n",
    "from agents.teacher import Teacher, EnvWrapper\n",
    "from preprocessor import Preprocessor"
   ]
  },
  {
   "cell_type": "code",
   "execution_count": 11,
   "id": "05c248a5",
   "metadata": {},
   "outputs": [
    {
     "name": "stdout",
     "output_type": "stream",
     "text": [
      "Steps per episode: 6000\n",
      "Waiting for simulation script to connect on port: tcp://localhost:52757\n",
      "Please start proper ns-3 simulation script using ./waf --run \"...\"\n",
      "Waf: Entering directory `/home/samuel/ns-allinone-3.29/ns-3.29/build'\n",
      "Waf: Leaving directory `/home/samuel/ns-allinone-3.29/ns-3.29/build'\n",
      "Build commands will be stored in build/compile_commands.json\n",
      "'build' finished successfully (1.950s)\n"
     ]
    },
    {
     "name": "stderr",
     "output_type": "stream",
     "text": [
      "Ns3Env parameters:\n",
      "--nWifi: 50\n",
      "--simulationTime: 60\n",
      "--openGymPort: 52757\n",
      "--envStepTime: 0.01\n",
      "--seed: 42\n",
      "--agentType: continuous\n",
      "--scenario: convergence\n",
      "--dryRun: 0\n",
      "Simulation started\n"
     ]
    },
    {
     "name": "stdout",
     "output_type": "stream",
     "text": [
      "Observation space shape: (1, 300)\n",
      "Action space shape: (1, 1)\n"
     ]
    },
    {
     "name": "stderr",
     "output_type": "stream",
     "text": [
      "Simulation process id: 106282 (parent (waf shell) id: 106268)\n",
      "Waiting for Python process to connect on port: tcp://localhost:52757\n",
      "Please start proper Python Gym Agent\n"
     ]
    }
   ],
   "source": [
    "#%%\n",
    "scenario = \"convergence\"\n",
    "\n",
    "simTime = 60 # seconds\n",
    "stepTime = 0.01  # seconds\n",
    "history_length = 300\n",
    "\n",
    "EPISODE_COUNT = 15\n",
    "steps_per_ep = int(simTime/stepTime)\n",
    "\n",
    "sim_args = {\n",
    "    \"simTime\": simTime,\n",
    "    \"envStepTime\": stepTime,\n",
    "    \"historyLength\": history_length,\n",
    "    \"agentType\": Agent.TYPE,\n",
    "    \"scenario\": \"convergence\",\n",
    "    \"nWifi\": 50,\n",
    "}\n",
    "\n",
    "print(\"Steps per episode:\", steps_per_ep)\n",
    "\n",
    "threads_no = 1\n",
    "env = EnvWrapper(threads_no, **sim_args)\n",
    "\n",
    "#%%\n",
    "env.reset()\n",
    "ob_space = env.observation_space\n",
    "ac_space = env.action_space\n",
    "\n",
    "print(\"Observation space shape:\", ob_space)\n",
    "print(\"Action space shape:\", ac_space)\n",
    "\n",
    "assert ob_space is not None"
   ]
  },
  {
   "cell_type": "code",
   "execution_count": 12,
   "id": "3c80159d",
   "metadata": {},
   "outputs": [
    {
     "name": "stdout",
     "output_type": "stream",
     "text": [
      "CuDNN version: 7102\n",
      "cpu\n"
     ]
    },
    {
     "name": "stderr",
     "output_type": "stream",
     "text": [
      "COMET INFO: Experiment is live on comet.ml https://www.comet.com/sheila-janota/rl-in-wifi-with-queue-level/607bab1a110345db9b3269f85fd14b63\n",
      "\n",
      "  0%|          | 0/6300 [00:00<?, ?it/s]"
     ]
    },
    {
     "name": "stdout",
     "output_type": "stream",
     "text": [
      "0\n"
     ]
    },
    {
     "name": "stderr",
     "output_type": "stream",
     "text": [
      "  5%|▌         | 334/6300 [01:10<25:33,  3.89it/s, curr_speed=34.02 Mbps, mb_sent=11.23 Mb]"
     ]
    },
    {
     "name": "stdout",
     "output_type": "stream",
     "text": [
      "------- STARTED TRAINING -------\n"
     ]
    },
    {
     "name": "stderr",
     "output_type": "stream",
     "text": [
      "100%|██████████| 6300/6300 [57:13<00:00,  1.83it/s, curr_speed=31.87 Mbps, mb_sent=1871.54 Mb]\n"
     ]
    },
    {
     "name": "stdout",
     "output_type": "stream",
     "text": [
      "Waiting for simulation script to connect on port: tcp://localhost:28536\n",
      "Please start proper ns-3 simulation script using ./waf --run \"...\"\n",
      "Waf: Entering directory `/home/samuel/ns-allinone-3.29/ns-3.29/build'\n",
      "Waf: Leaving directory `/home/samuel/ns-allinone-3.29/ns-3.29/build'\n",
      "Build commands will be stored in build/compile_commands.json\n",
      "'build' finished successfully (1.939s)\n"
     ]
    },
    {
     "name": "stderr",
     "output_type": "stream",
     "text": [
      "Ns3Env parameters:\n",
      "--nWifi: 50\n",
      "--simulationTime: 60\n",
      "--openGymPort: 28536\n",
      "--envStepTime: 0.01\n",
      "--seed: 42\n",
      "--agentType: continuous\n",
      "--scenario: convergence\n",
      "--dryRun: 0\n",
      "Simulation started\n",
      "Simulation process id: 113355 (parent (waf shell) id: 113342)\n",
      "Waiting for Python process to connect on port: tcp://localhost:28536\n",
      "Please start proper Python Gym Agent\n",
      "  0%|          | 1/6300 [00:00<19:30,  5.38it/s, curr_speed=0.00 Mbps, mb_sent=0.00 Mb]"
     ]
    },
    {
     "name": "stdout",
     "output_type": "stream",
     "text": [
      "Sent 1871.54 Mb/s.\tMean speed: 31.19 Mb/s\tEpisode 1/15 finished\n",
      "\n",
      "1\n"
     ]
    },
    {
     "name": "stderr",
     "output_type": "stream",
     "text": [
      "100%|██████████| 6300/6300 [56:53<00:00,  1.85it/s, curr_speed=34.52 Mbps, mb_sent=1949.75 Mb]\n"
     ]
    },
    {
     "name": "stdout",
     "output_type": "stream",
     "text": [
      "Waiting for simulation script to connect on port: tcp://localhost:16027\n",
      "Please start proper ns-3 simulation script using ./waf --run \"...\"\n",
      "Waf: Entering directory `/home/samuel/ns-allinone-3.29/ns-3.29/build'\n",
      "Waf: Leaving directory `/home/samuel/ns-allinone-3.29/ns-3.29/build'\n",
      "Build commands will be stored in build/compile_commands.json\n",
      "'build' finished successfully (1.981s)\n"
     ]
    },
    {
     "name": "stderr",
     "output_type": "stream",
     "text": [
      "Ns3Env parameters:\n",
      "--nWifi: 50\n",
      "--simulationTime: 60\n",
      "--openGymPort: 16027\n",
      "--envStepTime: 0.01\n",
      "--seed: 42\n",
      "--agentType: continuous\n",
      "--scenario: convergence\n",
      "--dryRun: 0\n",
      "Simulation started\n",
      "Simulation process id: 120340 (parent (waf shell) id: 120327)\n",
      "Waiting for Python process to connect on port: tcp://localhost:16027\n",
      "Please start proper Python Gym Agent\n",
      "  0%|          | 0/6300 [00:00<?, ?it/s]"
     ]
    },
    {
     "name": "stdout",
     "output_type": "stream",
     "text": [
      "Sent 1949.75 Mb/s.\tMean speed: 32.50 Mb/s\tEpisode 2/15 finished\n",
      "\n",
      "2\n"
     ]
    },
    {
     "name": "stderr",
     "output_type": "stream",
     "text": [
      "100%|██████████| 6300/6300 [58:19<00:00,  1.80it/s, curr_speed=31.75 Mbps, mb_sent=1923.28 Mb]\n"
     ]
    },
    {
     "name": "stdout",
     "output_type": "stream",
     "text": [
      "Waiting for simulation script to connect on port: tcp://localhost:51311\n",
      "Please start proper ns-3 simulation script using ./waf --run \"...\"\n",
      "Waf: Entering directory `/home/samuel/ns-allinone-3.29/ns-3.29/build'\n",
      "Waf: Leaving directory `/home/samuel/ns-allinone-3.29/ns-3.29/build'\n",
      "Build commands will be stored in build/compile_commands.json\n",
      "'build' finished successfully (1.956s)\n"
     ]
    },
    {
     "name": "stderr",
     "output_type": "stream",
     "text": [
      "Ns3Env parameters:\n",
      "--nWifi: 50\n",
      "--simulationTime: 60\n",
      "--openGymPort: 51311\n",
      "--envStepTime: 0.01\n",
      "--seed: 42\n",
      "--agentType: continuous\n",
      "--scenario: convergence\n",
      "--dryRun: 0\n",
      "Simulation started\n",
      "Simulation process id: 127392 (parent (waf shell) id: 127379)\n",
      "Waiting for Python process to connect on port: tcp://localhost:51311\n",
      "Please start proper Python Gym Agent\n",
      "  0%|          | 0/6300 [00:00<?, ?it/s]"
     ]
    },
    {
     "name": "stdout",
     "output_type": "stream",
     "text": [
      "Sent 1923.28 Mb/s.\tMean speed: 32.05 Mb/s\tEpisode 3/15 finished\n",
      "\n",
      "3\n"
     ]
    },
    {
     "name": "stderr",
     "output_type": "stream",
     "text": [
      " 42%|████▏     | 2655/6300 [16:31<30:19,  2.00it/s, curr_speed=31.65 Mbps, mb_sent=807.23 Mb]COMET ERROR: File could not be uploaded\n",
      " 42%|████▏     | 2658/6300 [16:32<30:12,  2.01it/s, curr_speed=31.13 Mbps, mb_sent=807.75 Mb]COMET ERROR: File could not be uploaded\n",
      " 42%|████▏     | 2672/6300 [16:39<30:56,  1.95it/s, curr_speed=31.16 Mbps, mb_sent=812.08 Mb]COMET ERROR: File could not be uploaded\n",
      " 42%|████▏     | 2676/6300 [16:42<30:13,  2.00it/s, curr_speed=32.22 Mbps, mb_sent=814.81 Mb]COMET ERROR: File could not be uploaded\n",
      " 43%|████▎     | 2694/6300 [16:51<30:51,  1.95it/s, curr_speed=32.39 Mbps, mb_sent=820.46 Mb]COMET ERROR: File could not be uploaded\n",
      " 43%|████▎     | 2704/6300 [16:56<30:38,  1.96it/s, curr_speed=32.64 Mbps, mb_sent=823.96 Mb]COMET ERROR: File could not be uploaded\n",
      " 43%|████▎     | 2727/6300 [17:07<29:58,  1.99it/s, curr_speed=32.54 Mbps, mb_sent=831.14 Mb]COMET ERROR: File could not be uploaded\n",
      "COMET ERROR: File could not be uploaded\n",
      "COMET ERROR: File could not be uploaded\n",
      "COMET ERROR: File could not be uploaded\n",
      " 44%|████▎     | 2743/6300 [17:15<30:32,  1.94it/s, curr_speed=33.32 Mbps, mb_sent=836.72 Mb]COMET ERROR: File could not be uploaded\n",
      " 44%|████▎     | 2744/6300 [17:16<31:03,  1.91it/s, curr_speed=33.31 Mbps, mb_sent=837.04 Mb]COMET ERROR: File could not be uploaded\n",
      " 44%|████▎     | 2750/6300 [17:19<29:53,  1.98it/s, curr_speed=33.50 Mbps, mb_sent=839.17 Mb]COMET ERROR: File could not be uploaded\n",
      " 44%|████▎     | 2752/6300 [17:20<30:19,  1.95it/s, curr_speed=33.45 Mbps, mb_sent=839.87 Mb]COMET ERROR: File could not be uploaded\n",
      " 44%|████▎     | 2755/6300 [17:22<29:44,  1.99it/s, curr_speed=33.55 Mbps, mb_sent=840.78 Mb]COMET ERROR: File could not be uploaded\n",
      " 44%|████▍     | 2760/6300 [17:24<29:47,  1.98it/s, curr_speed=34.07 Mbps, mb_sent=842.57 Mb]COMET ERROR: File could not be uploaded\n",
      "100%|██████████| 6300/6300 [1:19:38<00:00,  1.32it/s, curr_speed=34.85 Mbps, mb_sent=2034.71 Mb]\n"
     ]
    },
    {
     "name": "stdout",
     "output_type": "stream",
     "text": [
      "Waiting for simulation script to connect on port: tcp://localhost:46119\n",
      "Please start proper ns-3 simulation script using ./waf --run \"...\"\n",
      "Waf: Entering directory `/home/samuel/ns-allinone-3.29/ns-3.29/build'\n",
      "Waf: Leaving directory `/home/samuel/ns-allinone-3.29/ns-3.29/build'\n",
      "Build commands will be stored in build/compile_commands.json\n",
      "'build' finished successfully (2.404s)\n"
     ]
    },
    {
     "name": "stderr",
     "output_type": "stream",
     "text": [
      "Ns3Env parameters:\n",
      "--nWifi: 50\n",
      "--simulationTime: 60\n",
      "--openGymPort: 46119\n",
      "--envStepTime: 0.01\n",
      "--seed: 42\n",
      "--agentType: continuous\n",
      "--scenario: convergence\n",
      "--dryRun: 0\n",
      "Simulation started\n",
      "Simulation process id: 140983 (parent (waf shell) id: 140958)\n",
      "Waiting for Python process to connect on port: tcp://localhost:46119\n",
      "Please start proper Python Gym Agent\n",
      "  0%|          | 0/6300 [00:00<?, ?it/s]"
     ]
    },
    {
     "name": "stdout",
     "output_type": "stream",
     "text": [
      "Sent 2034.71 Mb/s.\tMean speed: 33.91 Mb/s\tEpisode 4/15 finished\n",
      "\n",
      "4\n"
     ]
    },
    {
     "name": "stderr",
     "output_type": "stream",
     "text": [
      "  5%|▍         | 304/6300 [02:28<3:12:02,  1.92s/it, curr_speed=39.84 Mbps, mb_sent=1.20 Mb]"
     ]
    },
    {
     "name": "stdout",
     "output_type": "stream",
     "text": [
      "------- MEMORY BUFFER FILLED -------\n"
     ]
    },
    {
     "name": "stderr",
     "output_type": "stream",
     "text": [
      "100%|██████████| 6300/6300 [4:05:53<00:00,  2.34s/it, curr_speed=36.70 Mbps, mb_sent=2142.54 Mb]  \n"
     ]
    },
    {
     "name": "stdout",
     "output_type": "stream",
     "text": [
      "Waiting for simulation script to connect on port: tcp://localhost:32516\n",
      "Please start proper ns-3 simulation script using ./waf --run \"...\"\n",
      "Waf: Entering directory `/home/samuel/ns-allinone-3.29/ns-3.29/build'\n",
      "Waf: Leaving directory `/home/samuel/ns-allinone-3.29/ns-3.29/build'\n",
      "Build commands will be stored in build/compile_commands.json\n",
      "'build' finished successfully (2.328s)\n"
     ]
    },
    {
     "name": "stderr",
     "output_type": "stream",
     "text": [
      "Ns3Env parameters:\n",
      "--nWifi: 50\n",
      "--simulationTime: 60\n",
      "--openGymPort: 32516\n",
      "--envStepTime: 0.01\n",
      "--seed: 42\n",
      "--agentType: continuous\n",
      "--scenario: convergence\n",
      "--dryRun: 0\n",
      "Simulation started\n",
      "Simulation process id: 187678 (parent (waf shell) id: 187660)\n",
      "Waiting for Python process to connect on port: tcp://localhost:32516\n",
      "Please start proper Python Gym Agent\n",
      "  0%|          | 0/6300 [00:00<?, ?it/s]"
     ]
    },
    {
     "name": "stdout",
     "output_type": "stream",
     "text": [
      "Sent 2142.54 Mb/s.\tMean speed: 35.71 Mb/s\tEpisode 5/15 finished\n",
      "\n",
      "5\n"
     ]
    },
    {
     "name": "stderr",
     "output_type": "stream",
     "text": [
      "100%|██████████| 6300/6300 [3:52:46<00:00,  2.22s/it, curr_speed=37.56 Mbps, mb_sent=2204.92 Mb]  \n"
     ]
    },
    {
     "name": "stdout",
     "output_type": "stream",
     "text": [
      "Waiting for simulation script to connect on port: tcp://localhost:41277\n",
      "Please start proper ns-3 simulation script using ./waf --run \"...\"\n",
      "Waf: Entering directory `/home/samuel/ns-allinone-3.29/ns-3.29/build'\n",
      "Waf: Leaving directory `/home/samuel/ns-allinone-3.29/ns-3.29/build'\n",
      "Build commands will be stored in build/compile_commands.json\n",
      "'build' finished successfully (2.321s)\n"
     ]
    },
    {
     "name": "stderr",
     "output_type": "stream",
     "text": [
      "Ns3Env parameters:\n",
      "--nWifi: 50\n",
      "--simulationTime: 60\n",
      "--openGymPort: 41277\n",
      "--envStepTime: 0.01\n",
      "--seed: 42\n",
      "--agentType: continuous\n",
      "--scenario: convergence\n",
      "--dryRun: 0\n",
      "Simulation started\n",
      "Simulation process id: 232228 (parent (waf shell) id: 232206)\n",
      "Waiting for Python process to connect on port: tcp://localhost:41277\n",
      "Please start proper Python Gym Agent\n",
      "  0%|          | 0/6300 [00:00<?, ?it/s]"
     ]
    },
    {
     "name": "stdout",
     "output_type": "stream",
     "text": [
      "Sent 2204.92 Mb/s.\tMean speed: 36.75 Mb/s\tEpisode 6/15 finished\n",
      "\n",
      "6\n"
     ]
    },
    {
     "name": "stderr",
     "output_type": "stream",
     "text": [
      "100%|██████████| 6300/6300 [3:52:12<00:00,  2.21s/it, curr_speed=37.09 Mbps, mb_sent=2216.63 Mb]  \n"
     ]
    },
    {
     "name": "stdout",
     "output_type": "stream",
     "text": [
      "Waiting for simulation script to connect on port: tcp://localhost:44936\n",
      "Please start proper ns-3 simulation script using ./waf --run \"...\"\n",
      "Waf: Entering directory `/home/samuel/ns-allinone-3.29/ns-3.29/build'\n",
      "Waf: Leaving directory `/home/samuel/ns-allinone-3.29/ns-3.29/build'\n",
      "Build commands will be stored in build/compile_commands.json\n",
      "'build' finished successfully (2.305s)\n"
     ]
    },
    {
     "name": "stderr",
     "output_type": "stream",
     "text": [
      "Ns3Env parameters:\n",
      "--nWifi: 50\n",
      "--simulationTime: 60\n",
      "--openGymPort: 44936\n",
      "--envStepTime: 0.01\n",
      "--seed: 42\n",
      "--agentType: continuous\n",
      "--scenario: convergence\n",
      "--dryRun: 0\n",
      "Simulation started\n",
      "Simulation process id: 276456 (parent (waf shell) id: 276435)\n",
      "Waiting for Python process to connect on port: tcp://localhost:44936\n",
      "Please start proper Python Gym Agent\n",
      "  0%|          | 0/6300 [00:00<?, ?it/s]"
     ]
    },
    {
     "name": "stdout",
     "output_type": "stream",
     "text": [
      "Sent 2216.63 Mb/s.\tMean speed: 36.94 Mb/s\tEpisode 7/15 finished\n",
      "\n",
      "7\n"
     ]
    },
    {
     "name": "stderr",
     "output_type": "stream",
     "text": [
      "100%|██████████| 6300/6300 [3:52:23<00:00,  2.21s/it, curr_speed=36.95 Mbps, mb_sent=2258.95 Mb]  \n"
     ]
    },
    {
     "name": "stdout",
     "output_type": "stream",
     "text": [
      "Waiting for simulation script to connect on port: tcp://localhost:37165\n",
      "Please start proper ns-3 simulation script using ./waf --run \"...\"\n",
      "Waf: Entering directory `/home/samuel/ns-allinone-3.29/ns-3.29/build'\n",
      "Waf: Leaving directory `/home/samuel/ns-allinone-3.29/ns-3.29/build'\n",
      "Build commands will be stored in build/compile_commands.json\n",
      "'build' finished successfully (2.265s)\n"
     ]
    },
    {
     "name": "stderr",
     "output_type": "stream",
     "text": [
      "Ns3Env parameters:\n",
      "--nWifi: 50\n",
      "--simulationTime: 60\n",
      "--openGymPort: 37165\n",
      "--envStepTime: 0.01\n",
      "--seed: 42\n",
      "--agentType: continuous\n",
      "--scenario: convergence\n",
      "--dryRun: 0\n",
      "Simulation started\n",
      "Simulation process id: 320871 (parent (waf shell) id: 320850)\n",
      "Waiting for Python process to connect on port: tcp://localhost:37165\n",
      "Please start proper Python Gym Agent\n",
      "  0%|          | 0/6300 [00:00<?, ?it/s]"
     ]
    },
    {
     "name": "stdout",
     "output_type": "stream",
     "text": [
      "Sent 2258.95 Mb/s.\tMean speed: 37.65 Mb/s\tEpisode 8/15 finished\n",
      "\n",
      "8\n"
     ]
    },
    {
     "name": "stderr",
     "output_type": "stream",
     "text": [
      "100%|██████████| 6300/6300 [3:51:29<00:00,  2.20s/it, curr_speed=37.82 Mbps, mb_sent=2268.67 Mb]  \n"
     ]
    },
    {
     "name": "stdout",
     "output_type": "stream",
     "text": [
      "Waiting for simulation script to connect on port: tcp://localhost:34877\n",
      "Please start proper ns-3 simulation script using ./waf --run \"...\"\n",
      "Waf: Entering directory `/home/samuel/ns-allinone-3.29/ns-3.29/build'\n",
      "Waf: Leaving directory `/home/samuel/ns-allinone-3.29/ns-3.29/build'\n",
      "Build commands will be stored in build/compile_commands.json\n",
      "'build' finished successfully (2.261s)\n"
     ]
    },
    {
     "name": "stderr",
     "output_type": "stream",
     "text": [
      "Ns3Env parameters:\n",
      "--nWifi: 50\n",
      "--simulationTime: 60\n",
      "--openGymPort: 34877\n",
      "--envStepTime: 0.01\n",
      "--seed: 42\n",
      "--agentType: continuous\n",
      "--scenario: convergence\n",
      "--dryRun: 0\n",
      "Simulation started\n",
      "Simulation process id: 365222 (parent (waf shell) id: 365201)\n",
      "Waiting for Python process to connect on port: tcp://localhost:34877\n",
      "Please start proper Python Gym Agent\n",
      "  0%|          | 0/6300 [00:00<?, ?it/s]"
     ]
    },
    {
     "name": "stdout",
     "output_type": "stream",
     "text": [
      "Sent 2268.67 Mb/s.\tMean speed: 37.81 Mb/s\tEpisode 9/15 finished\n",
      "\n",
      "9\n"
     ]
    },
    {
     "name": "stderr",
     "output_type": "stream",
     "text": [
      "100%|██████████| 6300/6300 [3:40:30<00:00,  2.10s/it, curr_speed=37.04 Mbps, mb_sent=2257.12 Mb]  \n"
     ]
    },
    {
     "name": "stdout",
     "output_type": "stream",
     "text": [
      "Waiting for simulation script to connect on port: tcp://localhost:50925\n",
      "Please start proper ns-3 simulation script using ./waf --run \"...\"\n",
      "Waf: Entering directory `/home/samuel/ns-allinone-3.29/ns-3.29/build'\n",
      "Waf: Leaving directory `/home/samuel/ns-allinone-3.29/ns-3.29/build'\n",
      "Build commands will be stored in build/compile_commands.json\n",
      "'build' finished successfully (2.199s)\n"
     ]
    },
    {
     "name": "stderr",
     "output_type": "stream",
     "text": [
      "Ns3Env parameters:\n",
      "--nWifi: 50\n",
      "--simulationTime: 60\n",
      "--openGymPort: 50925\n",
      "--envStepTime: 0.01\n",
      "--seed: 42\n",
      "--agentType: continuous\n",
      "--scenario: convergence\n",
      "--dryRun: 0\n",
      "Simulation started\n",
      "Simulation process id: 411369 (parent (waf shell) id: 411345)\n",
      "Waiting for Python process to connect on port: tcp://localhost:50925\n",
      "Please start proper Python Gym Agent\n",
      "  0%|          | 0/6300 [00:00<?, ?it/s]"
     ]
    },
    {
     "name": "stdout",
     "output_type": "stream",
     "text": [
      "Sent 2257.12 Mb/s.\tMean speed: 37.62 Mb/s\tEpisode 10/15 finished\n",
      "\n",
      "10\n"
     ]
    },
    {
     "name": "stderr",
     "output_type": "stream",
     "text": [
      " 45%|████▌     | 2862/6300 [1:25:53<2:04:04,  2.17s/it, curr_speed=37.98 Mbps, mb_sent=973.00 Mb]COMET ERROR: File could not be uploaded\n",
      " 45%|████▌     | 2863/6300 [1:25:56<2:13:05,  2.32s/it, curr_speed=37.96 Mbps, mb_sent=973.35 Mb]COMET ERROR: File could not be uploaded\n",
      " 46%|████▌     | 2871/6300 [1:26:12<2:08:04,  2.24s/it, curr_speed=37.94 Mbps, mb_sent=976.39 Mb]COMET ERROR: File could not be uploaded\n",
      " 46%|████▌     | 2874/6300 [1:26:19<2:01:17,  2.12s/it, curr_speed=37.92 Mbps, mb_sent=977.46 Mb]COMET ERROR: File could not be uploaded\n",
      " 46%|████▌     | 2880/6300 [1:26:32<2:05:52,  2.21s/it, curr_speed=37.94 Mbps, mb_sent=979.77 Mb]COMET ERROR: File could not be uploaded\n",
      " 46%|████▌     | 2883/6300 [1:26:38<2:02:30,  2.15s/it, curr_speed=37.95 Mbps, mb_sent=980.94 Mb]COMET ERROR: File could not be uploaded\n",
      " 46%|████▌     | 2888/6300 [1:26:49<2:05:34,  2.21s/it, curr_speed=37.95 Mbps, mb_sent=982.78 Mb]COMET ERROR: File could not be uploaded\n",
      " 46%|████▌     | 2889/6300 [1:26:51<2:02:00,  2.15s/it, curr_speed=37.91 Mbps, mb_sent=983.13 Mb]COMET ERROR: File could not be uploaded\n",
      " 46%|████▌     | 2892/6300 [1:26:58<2:00:27,  2.12s/it, curr_speed=37.92 Mbps, mb_sent=984.27 Mb]COMET ERROR: File could not be uploaded\n",
      " 46%|████▌     | 2895/6300 [1:27:04<2:00:21,  2.12s/it, curr_speed=37.81 Mbps, mb_sent=985.33 Mb]COMET ERROR: File could not be uploaded\n",
      " 46%|████▌     | 2896/6300 [1:27:06<2:05:34,  2.21s/it, curr_speed=37.79 Mbps, mb_sent=985.72 Mb]COMET ERROR: File could not be uploaded\n",
      " 46%|████▌     | 2898/6300 [1:27:11<2:12:23,  2.33s/it, curr_speed=37.75 Mbps, mb_sent=986.44 Mb]COMET ERROR: File could not be uploaded\n",
      " 46%|████▌     | 2900/6300 [1:27:16<2:08:16,  2.26s/it, curr_speed=37.73 Mbps, mb_sent=987.17 Mb]COMET ERROR: File could not be uploaded\n",
      " 46%|████▌     | 2901/6300 [1:27:19<2:22:37,  2.52s/it, curr_speed=37.67 Mbps, mb_sent=987.48 Mb]COMET ERROR: File could not be uploaded\n",
      " 46%|████▌     | 2903/6300 [1:27:24<2:26:39,  2.59s/it, curr_speed=37.74 Mbps, mb_sent=988.27 Mb]COMET ERROR: File could not be uploaded\n",
      " 46%|████▌     | 2905/6300 [1:27:30<2:33:29,  2.71s/it, curr_speed=37.80 Mbps, mb_sent=989.05 Mb]COMET ERROR: File could not be uploaded\n",
      " 46%|████▌     | 2906/6300 [1:27:32<2:30:37,  2.66s/it, curr_speed=37.76 Mbps, mb_sent=989.41 Mb]COMET ERROR: File could not be uploaded\n",
      " 46%|████▌     | 2911/6300 [1:27:45<2:22:43,  2.53s/it, curr_speed=37.83 Mbps, mb_sent=991.33 Mb]COMET ERROR: File could not be uploaded\n",
      " 46%|████▌     | 2913/6300 [1:27:50<2:12:08,  2.34s/it, curr_speed=37.94 Mbps, mb_sent=992.11 Mb]COMET ERROR: File could not be uploaded\n",
      "100%|██████████| 6300/6300 [3:39:55<00:00,  2.09s/it, curr_speed=35.91 Mbps, mb_sent=2248.76 Mb]  \n"
     ]
    },
    {
     "name": "stdout",
     "output_type": "stream",
     "text": [
      "Waiting for simulation script to connect on port: tcp://localhost:38961\n",
      "Please start proper ns-3 simulation script using ./waf --run \"...\"\n",
      "Waf: Entering directory `/home/samuel/ns-allinone-3.29/ns-3.29/build'\n",
      "Waf: Leaving directory `/home/samuel/ns-allinone-3.29/ns-3.29/build'\n",
      "Build commands will be stored in build/compile_commands.json\n",
      "'build' finished successfully (2.278s)\n"
     ]
    },
    {
     "name": "stderr",
     "output_type": "stream",
     "text": [
      "Ns3Env parameters:\n",
      "--nWifi: 50\n",
      "--simulationTime: 60\n",
      "--openGymPort: 38961\n",
      "--envStepTime: 0.01\n",
      "--seed: 42\n",
      "--agentType: continuous\n",
      "--scenario: convergence\n",
      "--dryRun: 0\n",
      "Simulation started\n",
      "Simulation process id: 461446 (parent (waf shell) id: 461424)\n",
      "Waiting for Python process to connect on port: tcp://localhost:38961\n",
      "Please start proper Python Gym Agent\n",
      "  0%|          | 0/6300 [00:00<?, ?it/s]"
     ]
    },
    {
     "name": "stdout",
     "output_type": "stream",
     "text": [
      "Sent 2248.76 Mb/s.\tMean speed: 37.48 Mb/s\tEpisode 11/15 finished\n",
      "\n",
      "11\n"
     ]
    },
    {
     "name": "stderr",
     "output_type": "stream",
     "text": [
      "100%|██████████| 6300/6300 [3:41:07<00:00,  2.11s/it, curr_speed=37.19 Mbps, mb_sent=2272.02 Mb]  \n"
     ]
    },
    {
     "name": "stdout",
     "output_type": "stream",
     "text": [
      "Waiting for simulation script to connect on port: tcp://localhost:43690\n",
      "Please start proper ns-3 simulation script using ./waf --run \"...\"\n",
      "Waf: Entering directory `/home/samuel/ns-allinone-3.29/ns-3.29/build'\n",
      "Waf: Leaving directory `/home/samuel/ns-allinone-3.29/ns-3.29/build'\n",
      "Build commands will be stored in build/compile_commands.json\n",
      "'build' finished successfully (2.403s)\n"
     ]
    },
    {
     "name": "stderr",
     "output_type": "stream",
     "text": [
      "Ns3Env parameters:\n",
      "--nWifi: 50\n",
      "--simulationTime: 60\n",
      "--openGymPort: 43690\n",
      "--envStepTime: 0.01\n",
      "--seed: 42\n",
      "--agentType: continuous\n",
      "--scenario: convergence\n",
      "--dryRun: 0\n",
      "Simulation started\n",
      "Simulation process id: 511314 (parent (waf shell) id: 511289)\n",
      "Waiting for Python process to connect on port: tcp://localhost:43690\n",
      "Please start proper Python Gym Agent\n",
      "  0%|          | 0/6300 [00:00<?, ?it/s]"
     ]
    },
    {
     "name": "stdout",
     "output_type": "stream",
     "text": [
      "Sent 2272.02 Mb/s.\tMean speed: 37.87 Mb/s\tEpisode 12/15 finished\n",
      "\n",
      "12\n",
      "Turning off noise\n"
     ]
    },
    {
     "name": "stderr",
     "output_type": "stream",
     "text": [
      "100%|██████████| 6300/6300 [3:41:07<00:00,  2.11s/it, curr_speed=37.32 Mbps, mb_sent=2275.00 Mb]  \n"
     ]
    },
    {
     "name": "stdout",
     "output_type": "stream",
     "text": [
      "Waiting for simulation script to connect on port: tcp://localhost:52149\n",
      "Please start proper ns-3 simulation script using ./waf --run \"...\"\n",
      "Waf: Entering directory `/home/samuel/ns-allinone-3.29/ns-3.29/build'\n",
      "Waf: Leaving directory `/home/samuel/ns-allinone-3.29/ns-3.29/build'\n",
      "Build commands will be stored in build/compile_commands.json\n",
      "'build' finished successfully (2.213s)\n"
     ]
    },
    {
     "name": "stderr",
     "output_type": "stream",
     "text": [
      "Ns3Env parameters:\n",
      "--nWifi: 50\n",
      "--simulationTime: 60\n",
      "--openGymPort: 52149\n",
      "--envStepTime: 0.01\n",
      "--seed: 42\n",
      "--agentType: continuous\n",
      "--scenario: convergence\n",
      "--dryRun: 0\n",
      "Simulation started\n",
      "Simulation process id: 561140 (parent (waf shell) id: 561120)\n",
      "Waiting for Python process to connect on port: tcp://localhost:52149\n",
      "Please start proper Python Gym Agent\n",
      "  0%|          | 0/6300 [00:00<?, ?it/s]"
     ]
    },
    {
     "name": "stdout",
     "output_type": "stream",
     "text": [
      "Sent 2275.00 Mb/s.\tMean speed: 37.92 Mb/s\tEpisode 13/15 finished\n",
      "\n",
      "13\n",
      "Turning off noise\n"
     ]
    },
    {
     "name": "stderr",
     "output_type": "stream",
     "text": [
      "100%|██████████| 6300/6300 [3:18:25<00:00,  1.89s/it, curr_speed=37.67 Mbps, mb_sent=2280.37 Mb]  \n"
     ]
    },
    {
     "name": "stdout",
     "output_type": "stream",
     "text": [
      "Waiting for simulation script to connect on port: tcp://localhost:24865\n",
      "Please start proper ns-3 simulation script using ./waf --run \"...\"\n",
      "Waf: Entering directory `/home/samuel/ns-allinone-3.29/ns-3.29/build'\n",
      "Waf: Leaving directory `/home/samuel/ns-allinone-3.29/ns-3.29/build'\n",
      "Build commands will be stored in build/compile_commands.json\n",
      "'build' finished successfully (2.300s)\n"
     ]
    },
    {
     "name": "stderr",
     "output_type": "stream",
     "text": [
      "Ns3Env parameters:\n",
      "--nWifi: 50\n",
      "--simulationTime: 60\n",
      "--openGymPort: 24865\n",
      "--envStepTime: 0.01\n",
      "--seed: 42\n",
      "--agentType: continuous\n",
      "--scenario: convergence\n",
      "--dryRun: 0\n",
      "Simulation started\n",
      "Simulation process id: 613959 (parent (waf shell) id: 613933)\n",
      "Waiting for Python process to connect on port: tcp://localhost:24865\n",
      "Please start proper Python Gym Agent\n",
      "  0%|          | 0/6300 [00:00<?, ?it/s]"
     ]
    },
    {
     "name": "stdout",
     "output_type": "stream",
     "text": [
      "Sent 2280.37 Mb/s.\tMean speed: 38.01 Mb/s\tEpisode 14/15 finished\n",
      "\n",
      "14\n",
      "Turning off noise\n"
     ]
    },
    {
     "name": "stderr",
     "output_type": "stream",
     "text": [
      "100%|██████████| 6300/6300 [1:15:48<00:00,  1.38it/s, curr_speed=37.43 Mbps, mb_sent=2275.05 Mb]\n"
     ]
    },
    {
     "name": "stdout",
     "output_type": "stream",
     "text": [
      "Waiting for simulation script to connect on port: tcp://localhost:22189\n",
      "Please start proper ns-3 simulation script using ./waf --run \"...\"\n",
      "Waf: Entering directory `/home/samuel/ns-allinone-3.29/ns-3.29/build'\n",
      "Waf: Leaving directory `/home/samuel/ns-allinone-3.29/ns-3.29/build'\n",
      "Build commands will be stored in build/compile_commands.json\n",
      "'build' finished successfully (2.142s)\n"
     ]
    },
    {
     "name": "stderr",
     "output_type": "stream",
     "text": [
      "Ns3Env parameters:\n",
      "--nWifi: 50\n",
      "--simulationTime: 60\n",
      "--openGymPort: 22189\n",
      "--envStepTime: 0.01\n",
      "--seed: 42\n",
      "--agentType: continuous\n",
      "--scenario: convergence\n",
      "--dryRun: 0\n",
      "Simulation started\n",
      "Simulation process id: 646312 (parent (waf shell) id: 646282)\n",
      "Waiting for Python process to connect on port: tcp://localhost:22189\n",
      "Please start proper Python Gym Agent\n",
      "COMET INFO: ----------------------------\n",
      "COMET INFO: Comet.ml Experiment Summary:\n",
      "COMET INFO:   Data:\n",
      "COMET INFO:     url: https://www.comet.com/sheila-janota/rl-in-wifi-with-queue-level/607bab1a110345db9b3269f85fd14b63\n",
      "COMET INFO:   Metrics [count] (min, max):\n",
      "COMET INFO:     Chosen CW [89985]           : (16.0, 1024.0)\n",
      "COMET INFO:     Cumulative reward [15]      : (2596.52099609375, 3192.149658203125)\n",
      "COMET INFO:     Current throughput [89985]  : (14.520299911499023, 58.159236907958984)\n",
      "COMET INFO:     Fairness index [89985]      : (0.02562600001692772, 0.9951350092887878)\n",
      "COMET INFO:     Megabytes sent [89985]      : (0.14520299434661865, 2280.3738566040993)\n",
      "COMET INFO:     Observation 0 [89985]       : (0.08939509961754084, 0.9672313726941744)\n",
      "COMET INFO:     Observation 1 [89985]       : (0.0, 0.012818494752362224)\n",
      "COMET INFO:     Per-ep reward [89985]       : (127.0634765625, 3192.149658203125)\n",
      "COMET INFO:     Round megabytes sent [89985]: (0.0, 11.8172607421875)\n",
      "COMET INFO:     Round reward [89985]        : (0.0, 0.833984375)\n",
      "COMET INFO:     Speed [15]                  : (31.192318414710464, 38.006230943401654)\n",
      "COMET INFO:     Station count [89985]       : (5.0, 50.0)\n",
      "COMET INFO:     actor_loss [89985]          : (-1.6936017274856567, 0.0)\n",
      "COMET INFO:     critic_loss [89985]         : (0.0, 5.566389083862305)\n",
      "COMET INFO:     loss [33578]                : (-1.6932209730148315, 1.2014784812927246)\n",
      "COMET INFO:   Uploads:\n",
      "COMET INFO:     histogram3d: 89985\n",
      "COMET INFO: ----------------------------\n",
      "COMET INFO: Uploading stats to Comet before program termination (may take several seconds)\n"
     ]
    },
    {
     "name": "stdout",
     "output_type": "stream",
     "text": [
      "Sent 2275.05 Mb/s.\tMean speed: 37.92 Mb/s\tEpisode 15/15 finished\n",
      "\n",
      "Training finished.\n"
     ]
    }
   ],
   "source": [
    "#%%\n",
    "teacher = Teacher(env, 1, Preprocessor(False))\n",
    "\n",
    "lr_actor = 4e-4\n",
    "lr_critic = 4e-3\n",
    "\n",
    "config = Config(buffer_size=4*steps_per_ep*threads_no, batch_size=32, gamma=0.7, tau=1e-3, lr_actor=lr_actor, lr_critic=lr_critic, update_every=1)\n",
    "agent = Agent(history_length, action_size=1, config=config, actor_layers=[8, 128, 16], critic_layers=[8,128,16])\n",
    "\n",
    "# Test the model\n",
    "hyperparams = {**config.__dict__, **sim_args}\n",
    "tags = [\"Rew: normalized speed\",\n",
    "        f\"{Agent.NAME}\",\n",
    "        sim_args['scenario'],\n",
    "        f\"Actor: {lr_actor}\",\n",
    "        f\"Critic: {lr_critic}\",\n",
    "        f\"Instances: {threads_no}\",\n",
    "        f\"Station count: {sim_args['nWifi']}\",\n",
    "        *[f\"{key}: {sim_args[key]}\" for key in list(sim_args)[:3]]]\n",
    "# agent.save()\n",
    "logger = teacher.train(agent, EPISODE_COUNT,\n",
    "                        simTime=simTime,\n",
    "                        stepTime=stepTime,\n",
    "                        history_length=history_length,\n",
    "                        send_logs=True,\n",
    "                        experimental=True,\n",
    "                        tags=tags,\n",
    "                        parameters=hyperparams)\n",
    "# logger = teacher.eval(agent,\n",
    "#                         simTime=simTime,\n",
    "#                         stepTime=stepTime,\n",
    "#                         history_length=history_length,\n",
    "#                         tags=tags,\n",
    "#                         parameters=hyperparams)\n",
    "# agent.save()"
   ]
  },
  {
   "cell_type": "markdown",
   "id": "62f635e6",
   "metadata": {},
   "source": [
    "# Execution num5:"
   ]
  },
  {
   "cell_type": "code",
   "execution_count": 1,
   "id": "4e6ac6e0",
   "metadata": {},
   "outputs": [],
   "source": [
    "#%%\n",
    "from ns3gym import ns3env\n",
    "from comet_ml import Experiment, Optimizer\n",
    "import tqdm\n",
    "import subprocess\n",
    "from collections import deque\n",
    "import numpy as np\n",
    "\n",
    "from agents.ddpg.agent import Agent, Config\n",
    "from agents.ddpg.model import Actor\n",
    "from agents.teacher import Teacher, EnvWrapper\n",
    "from preprocessor import Preprocessor"
   ]
  },
  {
   "cell_type": "code",
   "execution_count": 2,
   "id": "bc7cc0e5",
   "metadata": {},
   "outputs": [
    {
     "name": "stdout",
     "output_type": "stream",
     "text": [
      "Steps per episode: 6000\n",
      "Waiting for simulation script to connect on port: tcp://localhost:19082\n",
      "Please start proper ns-3 simulation script using ./waf --run \"...\"\n",
      "Waf: Entering directory `/home/samuel/ns-allinone-3.29/ns-3.29/build'\n",
      "Waf: Leaving directory `/home/samuel/ns-allinone-3.29/ns-3.29/build'\n",
      "Build commands will be stored in build/compile_commands.json\n",
      "'build' finished successfully (2.224s)\n"
     ]
    },
    {
     "name": "stderr",
     "output_type": "stream",
     "text": [
      "Ns3Env parameters:\n",
      "--nWifi: 50\n",
      "--simulationTime: 60\n",
      "--openGymPort: 19082\n",
      "--envStepTime: 0.01\n",
      "--seed: 42\n",
      "--agentType: continuous\n",
      "--scenario: convergence\n",
      "--dryRun: 0\n",
      "Simulation started\n"
     ]
    },
    {
     "name": "stdout",
     "output_type": "stream",
     "text": [
      "Observation space shape: (1, 300)\n",
      "Action space shape: (1, 1)\n"
     ]
    },
    {
     "name": "stderr",
     "output_type": "stream",
     "text": [
      "Simulation process id: 665223 (parent (waf shell) id: 665188)\n",
      "Waiting for Python process to connect on port: tcp://localhost:19082\n",
      "Please start proper Python Gym Agent\n"
     ]
    }
   ],
   "source": [
    "#%%\n",
    "scenario = \"convergence\"\n",
    "\n",
    "simTime = 60 # seconds\n",
    "stepTime = 0.01  # seconds\n",
    "history_length = 300\n",
    "\n",
    "EPISODE_COUNT = 15\n",
    "steps_per_ep = int(simTime/stepTime)\n",
    "\n",
    "sim_args = {\n",
    "    \"simTime\": simTime,\n",
    "    \"envStepTime\": stepTime,\n",
    "    \"historyLength\": history_length,\n",
    "    \"agentType\": Agent.TYPE,\n",
    "    \"scenario\": \"convergence\",\n",
    "    \"nWifi\": 50,\n",
    "}\n",
    "\n",
    "print(\"Steps per episode:\", steps_per_ep)\n",
    "\n",
    "threads_no = 1\n",
    "env = EnvWrapper(threads_no, **sim_args)\n",
    "\n",
    "#%%\n",
    "env.reset()\n",
    "ob_space = env.observation_space\n",
    "ac_space = env.action_space\n",
    "\n",
    "print(\"Observation space shape:\", ob_space)\n",
    "print(\"Action space shape:\", ac_space)\n",
    "\n",
    "assert ob_space is not None"
   ]
  },
  {
   "cell_type": "code",
   "execution_count": 3,
   "id": "1d34532f",
   "metadata": {
    "scrolled": true
   },
   "outputs": [
    {
     "name": "stdout",
     "output_type": "stream",
     "text": [
      "CuDNN version: 7102\n",
      "cpu\n"
     ]
    },
    {
     "name": "stderr",
     "output_type": "stream",
     "text": [
      "COMET INFO: Experiment is live on comet.ml https://www.comet.com/sheila-janota/rl-in-wifi-with-queue-level/c4bd8f2cd17041ea889815f79de3ef6c\n",
      "\n",
      "  0%|          | 0/6300 [00:00<?, ?it/s]"
     ]
    },
    {
     "name": "stdout",
     "output_type": "stream",
     "text": [
      "0\n"
     ]
    },
    {
     "name": "stderr",
     "output_type": "stream",
     "text": [
      "  5%|▌         | 333/6300 [02:14<53:13,  1.87it/s, curr_speed=33.23 Mbps, mb_sent=10.63 Mb]"
     ]
    },
    {
     "name": "stdout",
     "output_type": "stream",
     "text": [
      "------- STARTED TRAINING -------\n"
     ]
    },
    {
     "name": "stderr",
     "output_type": "stream",
     "text": [
      "100%|██████████| 6300/6300 [2:04:07<00:00,  1.18s/it, curr_speed=28.11 Mbps, mb_sent=1863.70 Mb]  \n"
     ]
    },
    {
     "name": "stdout",
     "output_type": "stream",
     "text": [
      "Waiting for simulation script to connect on port: tcp://localhost:18170\n",
      "Please start proper ns-3 simulation script using ./waf --run \"...\"\n",
      "Waf: Entering directory `/home/samuel/ns-allinone-3.29/ns-3.29/build'\n",
      "Waf: Leaving directory `/home/samuel/ns-allinone-3.29/ns-3.29/build'\n",
      "Build commands will be stored in build/compile_commands.json\n",
      "'build' finished successfully (2.234s)\n"
     ]
    },
    {
     "name": "stderr",
     "output_type": "stream",
     "text": [
      "Ns3Env parameters:\n",
      "--nWifi: 50\n",
      "--simulationTime: 60\n",
      "--openGymPort: 18170\n",
      "--envStepTime: 0.01\n",
      "--seed: 42\n",
      "--agentType: continuous\n",
      "--scenario: convergence\n",
      "--dryRun: 0\n",
      "Simulation started\n",
      "Simulation process id: 720759 (parent (waf shell) id: 720730)\n",
      "Waiting for Python process to connect on port: tcp://localhost:18170\n",
      "Please start proper Python Gym Agent\n",
      "  0%|          | 0/6300 [00:00<?, ?it/s]"
     ]
    },
    {
     "name": "stdout",
     "output_type": "stream",
     "text": [
      "Sent 1863.70 Mb/s.\tMean speed: 31.06 Mb/s\tEpisode 1/15 finished\n",
      "\n",
      "1\n"
     ]
    },
    {
     "name": "stderr",
     "output_type": "stream",
     "text": [
      "100%|██████████| 6300/6300 [1:18:38<00:00,  1.34it/s, curr_speed=33.88 Mbps, mb_sent=1950.28 Mb]\n"
     ]
    },
    {
     "name": "stdout",
     "output_type": "stream",
     "text": [
      "Waiting for simulation script to connect on port: tcp://localhost:40205\n",
      "Please start proper ns-3 simulation script using ./waf --run \"...\"\n",
      "Waf: Entering directory `/home/samuel/ns-allinone-3.29/ns-3.29/build'\n",
      "Waf: Leaving directory `/home/samuel/ns-allinone-3.29/ns-3.29/build'\n",
      "Build commands will be stored in build/compile_commands.json\n",
      "'build' finished successfully (2.120s)\n"
     ]
    },
    {
     "name": "stderr",
     "output_type": "stream",
     "text": [
      "Ns3Env parameters:\n",
      "--nWifi: 50\n",
      "--simulationTime: 60\n",
      "--openGymPort: 40205\n",
      "--envStepTime: 0.01\n",
      "--seed: 42\n",
      "--agentType: continuous\n",
      "--scenario: convergence\n",
      "--dryRun: 0\n",
      "Simulation started\n",
      "Simulation process id: 768456 (parent (waf shell) id: 768421)\n",
      "Waiting for Python process to connect on port: tcp://localhost:40205\n",
      "Please start proper Python Gym Agent\n",
      "  0%|          | 0/6300 [00:00<?, ?it/s]"
     ]
    },
    {
     "name": "stdout",
     "output_type": "stream",
     "text": [
      "Sent 1950.28 Mb/s.\tMean speed: 32.50 Mb/s\tEpisode 2/15 finished\n",
      "\n",
      "2\n"
     ]
    },
    {
     "name": "stderr",
     "output_type": "stream",
     "text": [
      "100%|██████████| 6300/6300 [1:36:40<00:00,  1.09it/s, curr_speed=35.02 Mbps, mb_sent=2022.67 Mb]\n"
     ]
    },
    {
     "name": "stdout",
     "output_type": "stream",
     "text": [
      "Waiting for simulation script to connect on port: tcp://localhost:42884\n",
      "Please start proper ns-3 simulation script using ./waf --run \"...\"\n",
      "Waf: Entering directory `/home/samuel/ns-allinone-3.29/ns-3.29/build'\n",
      "Waf: Leaving directory `/home/samuel/ns-allinone-3.29/ns-3.29/build'\n",
      "Build commands will be stored in build/compile_commands.json\n",
      "'build' finished successfully (2.342s)\n"
     ]
    },
    {
     "name": "stderr",
     "output_type": "stream",
     "text": [
      "Ns3Env parameters:\n",
      "--nWifi: 50\n",
      "--simulationTime: 60\n",
      "--openGymPort: 42884\n",
      "--envStepTime: 0.01\n",
      "--seed: 42\n",
      "--agentType: continuous\n",
      "--scenario: convergence\n",
      "--dryRun: 0\n",
      "Simulation started\n",
      "Simulation process id: 815918 (parent (waf shell) id: 815894)\n",
      "Waiting for Python process to connect on port: tcp://localhost:42884\n",
      "Please start proper Python Gym Agent\n",
      "  0%|          | 0/6300 [00:00<?, ?it/s]"
     ]
    },
    {
     "name": "stdout",
     "output_type": "stream",
     "text": [
      "Sent 2022.67 Mb/s.\tMean speed: 33.71 Mb/s\tEpisode 3/15 finished\n",
      "\n",
      "3\n"
     ]
    },
    {
     "name": "stderr",
     "output_type": "stream",
     "text": [
      "100%|██████████| 6300/6300 [3:38:29<00:00,  2.08s/it, curr_speed=33.72 Mbps, mb_sent=2124.02 Mb]  \n"
     ]
    },
    {
     "name": "stdout",
     "output_type": "stream",
     "text": [
      "Waiting for simulation script to connect on port: tcp://localhost:17804\n",
      "Please start proper ns-3 simulation script using ./waf --run \"...\"\n",
      "Waf: Entering directory `/home/samuel/ns-allinone-3.29/ns-3.29/build'\n",
      "Waf: Leaving directory `/home/samuel/ns-allinone-3.29/ns-3.29/build'\n",
      "Build commands will be stored in build/compile_commands.json\n",
      "'build' finished successfully (2.319s)\n"
     ]
    },
    {
     "name": "stderr",
     "output_type": "stream",
     "text": [
      "Ns3Env parameters:\n",
      "--nWifi: 50\n",
      "--simulationTime: 60\n",
      "--openGymPort: 17804\n",
      "--envStepTime: 0.01\n",
      "--seed: 42\n",
      "--agentType: continuous\n",
      "--scenario: convergence\n",
      "--dryRun: 0\n",
      "Simulation started\n",
      "Simulation process id: 871405 (parent (waf shell) id: 871383)\n",
      "Waiting for Python process to connect on port: tcp://localhost:17804\n",
      "Please start proper Python Gym Agent\n",
      "  0%|          | 0/6300 [00:00<?, ?it/s]"
     ]
    },
    {
     "name": "stdout",
     "output_type": "stream",
     "text": [
      "Sent 2124.02 Mb/s.\tMean speed: 35.40 Mb/s\tEpisode 4/15 finished\n",
      "\n",
      "4\n"
     ]
    },
    {
     "name": "stderr",
     "output_type": "stream",
     "text": [
      "  5%|▍         | 304/6300 [02:14<2:22:52,  1.43s/it, curr_speed=37.98 Mbps, mb_sent=1.14 Mb]"
     ]
    },
    {
     "name": "stdout",
     "output_type": "stream",
     "text": [
      "------- MEMORY BUFFER FILLED -------\n"
     ]
    },
    {
     "name": "stderr",
     "output_type": "stream",
     "text": [
      "  7%|▋         | 422/6300 [05:50<3:04:31,  1.88s/it, curr_speed=36.81 Mbps, mb_sent=44.73 Mb]COMET ERROR: File could not be uploaded\n",
      "  7%|▋         | 433/6300 [06:06<1:59:02,  1.22s/it, curr_speed=36.73 Mbps, mb_sent=48.82 Mb]COMET ERROR: File could not be uploaded\n",
      "  7%|▋         | 444/6300 [06:27<3:01:29,  1.86s/it, curr_speed=36.66 Mbps, mb_sent=52.79 Mb]COMET ERROR: File could not be uploaded\n",
      "  7%|▋         | 448/6300 [06:34<2:55:26,  1.80s/it, curr_speed=36.73 Mbps, mb_sent=54.23 Mb]COMET ERROR: File could not be uploaded\n",
      "COMET ERROR: File could not be uploaded\n",
      "  7%|▋         | 449/6300 [06:36<3:06:15,  1.91s/it, curr_speed=36.76 Mbps, mb_sent=54.63 Mb]COMET ERROR: File could not be uploaded\n",
      "COMET ERROR: File could not be uploaded\n",
      "  7%|▋         | 454/6300 [06:44<2:36:36,  1.61s/it, curr_speed=36.66 Mbps, mb_sent=56.47 Mb]COMET ERROR: File could not be uploaded\n",
      "  8%|▊         | 499/6300 [08:07<2:56:05,  1.82s/it, curr_speed=36.56 Mbps, mb_sent=72.75 Mb]COMET ERROR: File could not be uploaded\n",
      "  8%|▊         | 507/6300 [08:22<2:49:48,  1.76s/it, curr_speed=36.38 Mbps, mb_sent=75.64 Mb]COMET ERROR: File could not be uploaded\n",
      "  8%|▊         | 508/6300 [08:24<2:59:45,  1.86s/it, curr_speed=36.36 Mbps, mb_sent=75.99 Mb]COMET ERROR: File could not be uploaded\n",
      "COMET ERROR: File could not be uploaded\n",
      " 11%|█         | 670/6300 [13:02<2:43:26,  1.74s/it, curr_speed=35.72 Mbps, mb_sent=134.02 Mb]COMET ERROR: File could not be uploaded\n",
      "COMET ERROR: File could not be uploaded\n",
      "COMET ERROR: File could not be uploaded\n",
      " 11%|█         | 682/6300 [13:23<2:55:02,  1.87s/it, curr_speed=35.50 Mbps, mb_sent=138.19 Mb]COMET ERROR: File could not be uploaded\n",
      "COMET ERROR: File could not be uploaded\n",
      " 11%|█         | 685/6300 [13:28<2:46:19,  1.78s/it, curr_speed=35.38 Mbps, mb_sent=139.16 Mb]COMET ERROR: File could not be uploaded\n",
      " 11%|█         | 692/6300 [13:40<2:28:35,  1.59s/it, curr_speed=35.53 Mbps, mb_sent=141.74 Mb]COMET ERROR: File could not be uploaded\n",
      " 11%|█         | 705/6300 [14:04<2:51:31,  1.84s/it, curr_speed=35.18 Mbps, mb_sent=146.17 Mb]COMET ERROR: File could not be uploaded\n",
      "COMET ERROR: File could not be uploaded\n",
      "COMET ERROR: File could not be uploaded\n",
      "COMET ERROR: File could not be uploaded\n",
      " 11%|█         | 706/6300 [14:06<3:00:22,  1.93s/it, curr_speed=35.30 Mbps, mb_sent=146.59 Mb]COMET ERROR: File could not be uploaded\n",
      " 11%|█         | 707/6300 [14:08<2:53:31,  1.86s/it, curr_speed=35.36 Mbps, mb_sent=146.93 Mb]COMET ERROR: File could not be uploaded\n",
      " 11%|█         | 708/6300 [14:10<2:58:46,  1.92s/it, curr_speed=35.43 Mbps, mb_sent=147.34 Mb]COMET ERROR: File could not be uploaded\n",
      " 11%|█▏        | 709/6300 [14:11<2:50:34,  1.83s/it, curr_speed=35.42 Mbps, mb_sent=147.69 Mb]COMET ERROR: File could not be uploaded\n",
      "100%|██████████| 6300/6300 [3:40:23<00:00,  2.10s/it, curr_speed=33.91 Mbps, mb_sent=2088.62 Mb]  \n"
     ]
    },
    {
     "name": "stdout",
     "output_type": "stream",
     "text": [
      "Waiting for simulation script to connect on port: tcp://localhost:18299\n",
      "Please start proper ns-3 simulation script using ./waf --run \"...\"\n",
      "Waf: Entering directory `/home/samuel/ns-allinone-3.29/ns-3.29/build'\n",
      "Waf: Leaving directory `/home/samuel/ns-allinone-3.29/ns-3.29/build'\n",
      "Build commands will be stored in build/compile_commands.json\n",
      "'build' finished successfully (2.363s)\n"
     ]
    },
    {
     "name": "stderr",
     "output_type": "stream",
     "text": [
      "Ns3Env parameters:\n",
      "--nWifi: 50\n",
      "--simulationTime: 60\n",
      "--openGymPort: 18299\n",
      "--envStepTime: 0.01\n",
      "--seed: 42\n",
      "--agentType: continuous\n",
      "--scenario: convergence\n",
      "--dryRun: 0\n",
      "Simulation started\n",
      "Simulation process id: 926893 (parent (waf shell) id: 926869)\n",
      "Waiting for Python process to connect on port: tcp://localhost:18299\n",
      "Please start proper Python Gym Agent\n",
      "  0%|          | 0/6300 [00:00<?, ?it/s]"
     ]
    },
    {
     "name": "stdout",
     "output_type": "stream",
     "text": [
      "Sent 2088.62 Mb/s.\tMean speed: 34.81 Mb/s\tEpisode 5/15 finished\n",
      "\n",
      "5\n"
     ]
    },
    {
     "name": "stderr",
     "output_type": "stream",
     "text": [
      "100%|██████████| 6300/6300 [3:25:45<00:00,  1.96s/it, curr_speed=37.40 Mbps, mb_sent=2226.32 Mb]  \n"
     ]
    },
    {
     "name": "stdout",
     "output_type": "stream",
     "text": [
      "Waiting for simulation script to connect on port: tcp://localhost:20404\n",
      "Please start proper ns-3 simulation script using ./waf --run \"...\"\n",
      "Waf: Entering directory `/home/samuel/ns-allinone-3.29/ns-3.29/build'\n",
      "Waf: Leaving directory `/home/samuel/ns-allinone-3.29/ns-3.29/build'\n",
      "Build commands will be stored in build/compile_commands.json\n",
      "'build' finished successfully (2.417s)\n"
     ]
    },
    {
     "name": "stderr",
     "output_type": "stream",
     "text": [
      "Ns3Env parameters:\n",
      "--nWifi: 50\n",
      "--simulationTime: 60\n",
      "--openGymPort: 20404\n",
      "--envStepTime: 0.01\n",
      "--seed: 42\n",
      "--agentType: continuous\n",
      "--scenario: convergence\n",
      "--dryRun: 0\n",
      "Simulation started\n",
      "Simulation process id: 985962 (parent (waf shell) id: 985934)\n",
      "Waiting for Python process to connect on port: tcp://localhost:20404\n",
      "Please start proper Python Gym Agent\n",
      "  0%|          | 0/6300 [00:00<?, ?it/s]"
     ]
    },
    {
     "name": "stdout",
     "output_type": "stream",
     "text": [
      "Sent 2226.32 Mb/s.\tMean speed: 37.11 Mb/s\tEpisode 6/15 finished\n",
      "\n",
      "6\n"
     ]
    },
    {
     "name": "stderr",
     "output_type": "stream",
     "text": [
      "100%|██████████| 6300/6300 [2:21:46<00:00,  1.35s/it, curr_speed=37.29 Mbps, mb_sent=2238.89 Mb]  \n"
     ]
    },
    {
     "name": "stdout",
     "output_type": "stream",
     "text": [
      "Waiting for simulation script to connect on port: tcp://localhost:18378\n",
      "Please start proper ns-3 simulation script using ./waf --run \"...\"\n",
      "Waf: Entering directory `/home/samuel/ns-allinone-3.29/ns-3.29/build'\n",
      "Waf: Leaving directory `/home/samuel/ns-allinone-3.29/ns-3.29/build'\n",
      "Build commands will be stored in build/compile_commands.json\n",
      "'build' finished successfully (2.321s)\n"
     ]
    },
    {
     "name": "stderr",
     "output_type": "stream",
     "text": [
      "Ns3Env parameters:\n",
      "--nWifi: 50\n",
      "--simulationTime: 60\n",
      "--openGymPort: 18378\n",
      "--envStepTime: 0.01\n",
      "--seed: 42\n",
      "--agentType: continuous\n",
      "--scenario: convergence\n",
      "--dryRun: 0\n",
      "Simulation started\n",
      "Simulation process id: 1030256 (parent (waf shell) id: 1030230)\n",
      "Waiting for Python process to connect on port: tcp://localhost:18378\n",
      "Please start proper Python Gym Agent\n",
      "  0%|          | 0/6300 [00:00<?, ?it/s]"
     ]
    },
    {
     "name": "stdout",
     "output_type": "stream",
     "text": [
      "Sent 2238.89 Mb/s.\tMean speed: 37.31 Mb/s\tEpisode 7/15 finished\n",
      "\n",
      "7\n"
     ]
    },
    {
     "name": "stderr",
     "output_type": "stream",
     "text": [
      "100%|██████████| 6300/6300 [2:45:34<00:00,  1.58s/it, curr_speed=36.73 Mbps, mb_sent=2242.49 Mb]  \n"
     ]
    },
    {
     "name": "stdout",
     "output_type": "stream",
     "text": [
      "Waiting for simulation script to connect on port: tcp://localhost:23421\n",
      "Please start proper ns-3 simulation script using ./waf --run \"...\"\n",
      "Waf: Entering directory `/home/samuel/ns-allinone-3.29/ns-3.29/build'\n",
      "Waf: Leaving directory `/home/samuel/ns-allinone-3.29/ns-3.29/build'\n",
      "Build commands will be stored in build/compile_commands.json\n",
      "'build' finished successfully (2.251s)\n"
     ]
    },
    {
     "name": "stderr",
     "output_type": "stream",
     "text": [
      "Ns3Env parameters:\n",
      "--nWifi: 50\n",
      "--simulationTime: 60\n",
      "--openGymPort: 23421\n",
      "--envStepTime: 0.01\n",
      "--seed: 42\n",
      "--agentType: continuous\n",
      "--scenario: convergence\n",
      "--dryRun: 0\n",
      "Simulation started\n",
      "Simulation process id: 1077784 (parent (waf shell) id: 1077763)\n",
      "Waiting for Python process to connect on port: tcp://localhost:23421\n",
      "Please start proper Python Gym Agent\n",
      "  0%|          | 0/6300 [00:00<?, ?it/s]"
     ]
    },
    {
     "name": "stdout",
     "output_type": "stream",
     "text": [
      "Sent 2242.49 Mb/s.\tMean speed: 37.37 Mb/s\tEpisode 8/15 finished\n",
      "\n",
      "8\n"
     ]
    },
    {
     "name": "stderr",
     "output_type": "stream",
     "text": [
      "100%|██████████| 6300/6300 [1:51:18<00:00,  1.06s/it, curr_speed=37.70 Mbps, mb_sent=2261.88 Mb]  \n"
     ]
    },
    {
     "name": "stdout",
     "output_type": "stream",
     "text": [
      "Waiting for simulation script to connect on port: tcp://localhost:33593\n",
      "Please start proper ns-3 simulation script using ./waf --run \"...\"\n",
      "Waf: Entering directory `/home/samuel/ns-allinone-3.29/ns-3.29/build'\n",
      "Waf: Leaving directory `/home/samuel/ns-allinone-3.29/ns-3.29/build'\n",
      "Build commands will be stored in build/compile_commands.json\n",
      "'build' finished successfully (2.183s)\n"
     ]
    },
    {
     "name": "stderr",
     "output_type": "stream",
     "text": [
      "Ns3Env parameters:\n",
      "--nWifi: 50\n",
      "--simulationTime: 60\n",
      "--openGymPort: 33593\n",
      "--envStepTime: 0.01\n",
      "--seed: 42\n",
      "--agentType: continuous\n",
      "--scenario: convergence\n",
      "--dryRun: 0\n",
      "Simulation started\n",
      "Simulation process id: 1125969 (parent (waf shell) id: 1125941)\n",
      "Waiting for Python process to connect on port: tcp://localhost:33593\n",
      "Please start proper Python Gym Agent\n",
      "  0%|          | 0/6300 [00:00<?, ?it/s]"
     ]
    },
    {
     "name": "stdout",
     "output_type": "stream",
     "text": [
      "Sent 2261.88 Mb/s.\tMean speed: 37.70 Mb/s\tEpisode 9/15 finished\n",
      "\n",
      "9\n"
     ]
    },
    {
     "name": "stderr",
     "output_type": "stream",
     "text": [
      "100%|██████████| 6300/6300 [1:20:30<00:00,  1.30it/s, curr_speed=37.59 Mbps, mb_sent=2268.95 Mb]\n"
     ]
    },
    {
     "name": "stdout",
     "output_type": "stream",
     "text": [
      "Waiting for simulation script to connect on port: tcp://localhost:52124\n",
      "Please start proper ns-3 simulation script using ./waf --run \"...\"\n",
      "Waf: Entering directory `/home/samuel/ns-allinone-3.29/ns-3.29/build'\n",
      "Waf: Leaving directory `/home/samuel/ns-allinone-3.29/ns-3.29/build'\n",
      "Build commands will be stored in build/compile_commands.json\n",
      "'build' finished successfully (2.149s)\n"
     ]
    },
    {
     "name": "stderr",
     "output_type": "stream",
     "text": [
      "Ns3Env parameters:\n",
      "--nWifi: 50\n",
      "--simulationTime: 60\n",
      "--openGymPort: 52124\n",
      "--envStepTime: 0.01\n",
      "--seed: 42\n",
      "--agentType: continuous\n",
      "--scenario: convergence\n",
      "--dryRun: 0\n",
      "Simulation started\n",
      "Simulation process id: 1167142 (parent (waf shell) id: 1167120)\n",
      "Waiting for Python process to connect on port: tcp://localhost:52124\n",
      "Please start proper Python Gym Agent\n",
      "  0%|          | 0/6300 [00:00<?, ?it/s]"
     ]
    },
    {
     "name": "stdout",
     "output_type": "stream",
     "text": [
      "Sent 2268.95 Mb/s.\tMean speed: 37.82 Mb/s\tEpisode 10/15 finished\n",
      "\n",
      "10\n"
     ]
    },
    {
     "name": "stderr",
     "output_type": "stream",
     "text": [
      "100%|██████████| 6300/6300 [1:19:58<00:00,  1.31it/s, curr_speed=38.14 Mbps, mb_sent=2271.82 Mb]\n"
     ]
    },
    {
     "name": "stdout",
     "output_type": "stream",
     "text": [
      "Waiting for simulation script to connect on port: tcp://localhost:17438\n",
      "Please start proper ns-3 simulation script using ./waf --run \"...\"\n",
      "Waf: Entering directory `/home/samuel/ns-allinone-3.29/ns-3.29/build'\n",
      "Waf: Leaving directory `/home/samuel/ns-allinone-3.29/ns-3.29/build'\n",
      "Build commands will be stored in build/compile_commands.json\n",
      "'build' finished successfully (2.162s)\n"
     ]
    },
    {
     "name": "stderr",
     "output_type": "stream",
     "text": [
      "Ns3Env parameters:\n",
      "--nWifi: 50\n",
      "--simulationTime: 60\n",
      "--openGymPort: 17438\n",
      "--envStepTime: 0.01\n",
      "--seed: 42\n",
      "--agentType: continuous\n",
      "--scenario: convergence\n",
      "--dryRun: 0\n",
      "Simulation started\n",
      "Simulation process id: 1208641 (parent (waf shell) id: 1208610)\n",
      "Waiting for Python process to connect on port: tcp://localhost:17438\n",
      "Please start proper Python Gym Agent\n",
      "  0%|          | 0/6300 [00:00<?, ?it/s]"
     ]
    },
    {
     "name": "stdout",
     "output_type": "stream",
     "text": [
      "Sent 2271.82 Mb/s.\tMean speed: 37.86 Mb/s\tEpisode 11/15 finished\n",
      "\n",
      "11\n"
     ]
    },
    {
     "name": "stderr",
     "output_type": "stream",
     "text": [
      "100%|██████████| 6300/6300 [1:13:56<00:00,  1.42it/s, curr_speed=37.80 Mbps, mb_sent=2272.82 Mb]\n"
     ]
    },
    {
     "name": "stdout",
     "output_type": "stream",
     "text": [
      "Waiting for simulation script to connect on port: tcp://localhost:19356\n",
      "Please start proper ns-3 simulation script using ./waf --run \"...\"\n",
      "Waf: Entering directory `/home/samuel/ns-allinone-3.29/ns-3.29/build'\n",
      "Waf: Leaving directory `/home/samuel/ns-allinone-3.29/ns-3.29/build'\n",
      "Build commands will be stored in build/compile_commands.json\n",
      "'build' finished successfully (2.123s)\n"
     ]
    },
    {
     "name": "stderr",
     "output_type": "stream",
     "text": [
      "Ns3Env parameters:\n",
      "--nWifi: 50\n",
      "--simulationTime: 60\n",
      "--openGymPort: 19356\n",
      "--envStepTime: 0.01\n",
      "--seed: 42\n",
      "--agentType: continuous\n",
      "--scenario: convergence\n",
      "--dryRun: 0\n",
      "Simulation started\n",
      "Simulation process id: 1243777 (parent (waf shell) id: 1243749)\n",
      "Waiting for Python process to connect on port: tcp://localhost:19356\n",
      "Please start proper Python Gym Agent\n",
      "  0%|          | 0/6300 [00:00<?, ?it/s]"
     ]
    },
    {
     "name": "stdout",
     "output_type": "stream",
     "text": [
      "Sent 2272.82 Mb/s.\tMean speed: 37.88 Mb/s\tEpisode 12/15 finished\n",
      "\n",
      "12\n",
      "Turning off noise\n"
     ]
    },
    {
     "name": "stderr",
     "output_type": "stream",
     "text": [
      "100%|██████████| 6300/6300 [1:03:17<00:00,  1.66it/s, curr_speed=37.99 Mbps, mb_sent=2270.61 Mb]\n"
     ]
    },
    {
     "name": "stdout",
     "output_type": "stream",
     "text": [
      "Waiting for simulation script to connect on port: tcp://localhost:18499\n",
      "Please start proper ns-3 simulation script using ./waf --run \"...\"\n",
      "Waf: Entering directory `/home/samuel/ns-allinone-3.29/ns-3.29/build'\n",
      "Waf: Leaving directory `/home/samuel/ns-allinone-3.29/ns-3.29/build'\n",
      "Build commands will be stored in build/compile_commands.json\n",
      "'build' finished successfully (2.015s)\n"
     ]
    },
    {
     "name": "stderr",
     "output_type": "stream",
     "text": [
      "Ns3Env parameters:\n",
      "--nWifi: 50\n",
      "--simulationTime: 60\n",
      "--openGymPort: 18499\n",
      "--envStepTime: 0.01\n",
      "--seed: 42\n",
      "--agentType: continuous\n",
      "--scenario: convergence\n",
      "--dryRun: 0\n",
      "Simulation started\n",
      "Simulation process id: 1264039 (parent (waf shell) id: 1264019)\n",
      "Waiting for Python process to connect on port: tcp://localhost:18499\n",
      "Please start proper Python Gym Agent\n",
      "  0%|          | 0/6300 [00:00<?, ?it/s]"
     ]
    },
    {
     "name": "stdout",
     "output_type": "stream",
     "text": [
      "Sent 2270.61 Mb/s.\tMean speed: 37.84 Mb/s\tEpisode 13/15 finished\n",
      "\n",
      "13\n",
      "Turning off noise\n"
     ]
    },
    {
     "name": "stderr",
     "output_type": "stream",
     "text": [
      "100%|██████████| 6300/6300 [1:02:47<00:00,  1.67it/s, curr_speed=37.51 Mbps, mb_sent=2271.67 Mb]\n"
     ]
    },
    {
     "name": "stdout",
     "output_type": "stream",
     "text": [
      "Waiting for simulation script to connect on port: tcp://localhost:22657\n",
      "Please start proper ns-3 simulation script using ./waf --run \"...\"\n",
      "Waf: Entering directory `/home/samuel/ns-allinone-3.29/ns-3.29/build'\n",
      "Waf: Leaving directory `/home/samuel/ns-allinone-3.29/ns-3.29/build'\n",
      "Build commands will be stored in build/compile_commands.json\n",
      "'build' finished successfully (1.961s)\n"
     ]
    },
    {
     "name": "stderr",
     "output_type": "stream",
     "text": [
      "Ns3Env parameters:\n",
      "--nWifi: 50\n",
      "--simulationTime: 60\n",
      "--openGymPort: 22657\n",
      "--envStepTime: 0.01\n",
      "--seed: 42\n",
      "--agentType: continuous\n",
      "--scenario: convergence\n",
      "--dryRun: 0\n",
      "Simulation started\n",
      "Simulation process id: 1283133 (parent (waf shell) id: 1283118)\n",
      "Waiting for Python process to connect on port: tcp://localhost:22657\n",
      "Please start proper Python Gym Agent\n",
      "  0%|          | 0/6300 [00:00<?, ?it/s]"
     ]
    },
    {
     "name": "stdout",
     "output_type": "stream",
     "text": [
      "Sent 2271.67 Mb/s.\tMean speed: 37.86 Mb/s\tEpisode 14/15 finished\n",
      "\n",
      "14\n",
      "Turning off noise\n"
     ]
    },
    {
     "name": "stderr",
     "output_type": "stream",
     "text": [
      "100%|██████████| 6300/6300 [57:13<00:00,  1.83it/s, curr_speed=37.72 Mbps, mb_sent=2271.83 Mb]\n"
     ]
    },
    {
     "name": "stdout",
     "output_type": "stream",
     "text": [
      "Waiting for simulation script to connect on port: tcp://localhost:34474\n",
      "Please start proper ns-3 simulation script using ./waf --run \"...\"\n",
      "Waf: Entering directory `/home/samuel/ns-allinone-3.29/ns-3.29/build'\n",
      "Waf: Leaving directory `/home/samuel/ns-allinone-3.29/ns-3.29/build'\n",
      "Build commands will be stored in build/compile_commands.json\n",
      "'build' finished successfully (1.989s)\n"
     ]
    },
    {
     "name": "stderr",
     "output_type": "stream",
     "text": [
      "Ns3Env parameters:\n",
      "--nWifi: 50\n",
      "--simulationTime: 60\n",
      "--openGymPort: 34474\n",
      "--envStepTime: 0.01\n",
      "--seed: 42\n",
      "--agentType: continuous\n",
      "--scenario: convergence\n",
      "--dryRun: 0\n",
      "Simulation started\n",
      "Simulation process id: 1294074 (parent (waf shell) id: 1294059)\n",
      "Waiting for Python process to connect on port: tcp://localhost:34474\n",
      "Please start proper Python Gym Agent\n",
      "COMET INFO: ----------------------------\n",
      "COMET INFO: Comet.ml Experiment Summary:\n",
      "COMET INFO:   Data:\n",
      "COMET INFO:     url: https://www.comet.com/sheila-janota/rl-in-wifi-with-queue-level/c4bd8f2cd17041ea889815f79de3ef6c\n",
      "COMET INFO:   Metrics [count] (min, max):\n",
      "COMET INFO:     Chosen CW [89985]           : (16.0, 1024.0)\n",
      "COMET INFO:     Cumulative reward [15]      : (2545.454345703125, 3182.231201171875)\n",
      "COMET INFO:     Current throughput [89985]  : (22.338899612426758, 47.4254035949707)\n",
      "COMET INFO:     Fairness index [89985]      : (0.02562600001692772, 0.9950169920921326)\n",
      "COMET INFO:     Megabytes sent [89985]      : (0.2680659890174866, 2272.823332607746)\n",
      "COMET INFO:     Observation 0 [89985]       : (0.08921078583225608, 0.9671209150552749)\n",
      "COMET INFO:     Observation 1 [89985]       : (0.0, 0.012869852101724304)\n",
      "COMET INFO:     Per-ep reward [89985]       : (123.504150390625, 3182.231201171875)\n",
      "COMET INFO:     Round megabytes sent [89985]: (0.0, 11.85076904296875)\n",
      "COMET INFO:     Round reward [89985]        : (0.0, 0.92333984375)\n",
      "COMET INFO:     Speed [15]                  : (31.06163636393224, 37.88038887679577)\n",
      "COMET INFO:     Station count [89985]       : (5.0, 50.0)\n",
      "COMET INFO:     actor_loss [89985]          : (-1.6928439140319824, 0.0)\n",
      "COMET INFO:     critic_loss [89985]         : (0.0, 5.531294345855713)\n",
      "COMET INFO:     loss [33578]                : (-1.6914393901824951, 1.2388088703155518)\n",
      "COMET INFO:   Uploads:\n",
      "COMET INFO:     histogram3d: 89985\n",
      "COMET INFO: ----------------------------\n",
      "COMET INFO: Uploading stats to Comet before program termination (may take several seconds)\n"
     ]
    },
    {
     "name": "stdout",
     "output_type": "stream",
     "text": [
      "Sent 2271.83 Mb/s.\tMean speed: 37.86 Mb/s\tEpisode 15/15 finished\n",
      "\n",
      "Training finished.\n"
     ]
    }
   ],
   "source": [
    "#%%\n",
    "teacher = Teacher(env, 1, Preprocessor(False))\n",
    "\n",
    "lr_actor = 4e-4\n",
    "lr_critic = 4e-3\n",
    "\n",
    "config = Config(buffer_size=4*steps_per_ep*threads_no, batch_size=32, gamma=0.7, tau=1e-3, lr_actor=lr_actor, lr_critic=lr_critic, update_every=1)\n",
    "agent = Agent(history_length, action_size=1, config=config, actor_layers=[8, 128, 16], critic_layers=[8,128,16])\n",
    "\n",
    "# Test the model\n",
    "hyperparams = {**config.__dict__, **sim_args}\n",
    "tags = [\"Rew: normalized speed\",\n",
    "        f\"{Agent.NAME}\",\n",
    "        sim_args['scenario'],\n",
    "        f\"Actor: {lr_actor}\",\n",
    "        f\"Critic: {lr_critic}\",\n",
    "        f\"Instances: {threads_no}\",\n",
    "        f\"Station count: {sim_args['nWifi']}\",\n",
    "        *[f\"{key}: {sim_args[key]}\" for key in list(sim_args)[:3]]]\n",
    "# agent.save()\n",
    "logger = teacher.train(agent, EPISODE_COUNT,\n",
    "                        simTime=simTime,\n",
    "                        stepTime=stepTime,\n",
    "                        history_length=history_length,\n",
    "                        send_logs=True,\n",
    "                        experimental=True,\n",
    "                        tags=tags,\n",
    "                        parameters=hyperparams)\n",
    "# logger = teacher.eval(agent,\n",
    "#                         simTime=simTime,\n",
    "#                         stepTime=stepTime,\n",
    "#                         history_length=history_length,\n",
    "#                         tags=tags,\n",
    "#                         parameters=hyperparams)\n",
    "# agent.save()"
   ]
  },
  {
   "cell_type": "code",
   "execution_count": null,
   "id": "9958e73f",
   "metadata": {},
   "outputs": [],
   "source": []
  }
 ],
 "metadata": {
  "kernelspec": {
   "display_name": "Python 3 (ipykernel)",
   "language": "python",
   "name": "python3"
  },
  "language_info": {
   "codemirror_mode": {
    "name": "ipython",
    "version": 3
   },
   "file_extension": ".py",
   "mimetype": "text/x-python",
   "name": "python",
   "nbconvert_exporter": "python",
   "pygments_lexer": "ipython3",
   "version": "3.7.10"
  }
 },
 "nbformat": 4,
 "nbformat_minor": 5
}
