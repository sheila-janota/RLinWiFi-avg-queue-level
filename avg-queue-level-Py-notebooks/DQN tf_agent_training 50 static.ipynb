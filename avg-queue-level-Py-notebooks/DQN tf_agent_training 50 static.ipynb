{
 "cells": [
  {
   "cell_type": "markdown",
   "id": "96ebb7ce",
   "metadata": {},
   "source": [
    "# Execution num1: "
   ]
  },
  {
   "cell_type": "code",
   "execution_count": 1,
   "id": "11e0cb60",
   "metadata": {},
   "outputs": [
    {
     "name": "stderr",
     "output_type": "stream",
     "text": [
      "/home/samuel/anaconda3/envs/myEnv3_7/lib/python3.7/site-packages/tensorflow/python/framework/dtypes.py:516: FutureWarning: Passing (type, 1) or '1type' as a synonym of type is deprecated; in a future version of numpy, it will be understood as (type, (1,)) / '(1,)type'.\n",
      "  _np_qint8 = np.dtype([(\"qint8\", np.int8, 1)])\n",
      "/home/samuel/anaconda3/envs/myEnv3_7/lib/python3.7/site-packages/tensorflow/python/framework/dtypes.py:517: FutureWarning: Passing (type, 1) or '1type' as a synonym of type is deprecated; in a future version of numpy, it will be understood as (type, (1,)) / '(1,)type'.\n",
      "  _np_quint8 = np.dtype([(\"quint8\", np.uint8, 1)])\n",
      "/home/samuel/anaconda3/envs/myEnv3_7/lib/python3.7/site-packages/tensorflow/python/framework/dtypes.py:518: FutureWarning: Passing (type, 1) or '1type' as a synonym of type is deprecated; in a future version of numpy, it will be understood as (type, (1,)) / '(1,)type'.\n",
      "  _np_qint16 = np.dtype([(\"qint16\", np.int16, 1)])\n",
      "/home/samuel/anaconda3/envs/myEnv3_7/lib/python3.7/site-packages/tensorflow/python/framework/dtypes.py:519: FutureWarning: Passing (type, 1) or '1type' as a synonym of type is deprecated; in a future version of numpy, it will be understood as (type, (1,)) / '(1,)type'.\n",
      "  _np_quint16 = np.dtype([(\"quint16\", np.uint16, 1)])\n",
      "/home/samuel/anaconda3/envs/myEnv3_7/lib/python3.7/site-packages/tensorflow/python/framework/dtypes.py:520: FutureWarning: Passing (type, 1) or '1type' as a synonym of type is deprecated; in a future version of numpy, it will be understood as (type, (1,)) / '(1,)type'.\n",
      "  _np_qint32 = np.dtype([(\"qint32\", np.int32, 1)])\n",
      "/home/samuel/anaconda3/envs/myEnv3_7/lib/python3.7/site-packages/tensorflow/python/framework/dtypes.py:525: FutureWarning: Passing (type, 1) or '1type' as a synonym of type is deprecated; in a future version of numpy, it will be understood as (type, (1,)) / '(1,)type'.\n",
      "  np_resource = np.dtype([(\"resource\", np.ubyte, 1)])\n",
      "/home/samuel/anaconda3/envs/myEnv3_7/lib/python3.7/site-packages/tensorboard/compat/tensorflow_stub/dtypes.py:541: FutureWarning: Passing (type, 1) or '1type' as a synonym of type is deprecated; in a future version of numpy, it will be understood as (type, (1,)) / '(1,)type'.\n",
      "  _np_qint8 = np.dtype([(\"qint8\", np.int8, 1)])\n",
      "/home/samuel/anaconda3/envs/myEnv3_7/lib/python3.7/site-packages/tensorboard/compat/tensorflow_stub/dtypes.py:542: FutureWarning: Passing (type, 1) or '1type' as a synonym of type is deprecated; in a future version of numpy, it will be understood as (type, (1,)) / '(1,)type'.\n",
      "  _np_quint8 = np.dtype([(\"quint8\", np.uint8, 1)])\n",
      "/home/samuel/anaconda3/envs/myEnv3_7/lib/python3.7/site-packages/tensorboard/compat/tensorflow_stub/dtypes.py:543: FutureWarning: Passing (type, 1) or '1type' as a synonym of type is deprecated; in a future version of numpy, it will be understood as (type, (1,)) / '(1,)type'.\n",
      "  _np_qint16 = np.dtype([(\"qint16\", np.int16, 1)])\n",
      "/home/samuel/anaconda3/envs/myEnv3_7/lib/python3.7/site-packages/tensorboard/compat/tensorflow_stub/dtypes.py:544: FutureWarning: Passing (type, 1) or '1type' as a synonym of type is deprecated; in a future version of numpy, it will be understood as (type, (1,)) / '(1,)type'.\n",
      "  _np_quint16 = np.dtype([(\"quint16\", np.uint16, 1)])\n",
      "/home/samuel/anaconda3/envs/myEnv3_7/lib/python3.7/site-packages/tensorboard/compat/tensorflow_stub/dtypes.py:545: FutureWarning: Passing (type, 1) or '1type' as a synonym of type is deprecated; in a future version of numpy, it will be understood as (type, (1,)) / '(1,)type'.\n",
      "  _np_qint32 = np.dtype([(\"qint32\", np.int32, 1)])\n",
      "/home/samuel/anaconda3/envs/myEnv3_7/lib/python3.7/site-packages/tensorboard/compat/tensorflow_stub/dtypes.py:550: FutureWarning: Passing (type, 1) or '1type' as a synonym of type is deprecated; in a future version of numpy, it will be understood as (type, (1,)) / '(1,)type'.\n",
      "  np_resource = np.dtype([(\"resource\", np.ubyte, 1)])\n"
     ]
    }
   ],
   "source": [
    "#%%\n",
    "from ns3gym import ns3env\n",
    "from comet_ml import Experiment, Optimizer\n",
    "import tqdm\n",
    "import subprocess\n",
    "from collections import deque\n",
    "import numpy as np\n",
    "\n",
    "from agents.dqn.agent import Agent, Config\n",
    "from agents.dqn.model import QNetworkTf\n",
    "from agents.teacher import Teacher, EnvWrapper\n",
    "from preprocessor import Preprocessor"
   ]
  },
  {
   "cell_type": "code",
   "execution_count": 2,
   "id": "42c5e35d",
   "metadata": {},
   "outputs": [
    {
     "name": "stdout",
     "output_type": "stream",
     "text": [
      "Steps per episode: 6000\n",
      "Waiting for simulation script to connect on port: tcp://localhost:34937\n",
      "Please start proper ns-3 simulation script using ./waf --run \"...\"\n",
      "Waf: Entering directory `/home/samuel/ns-allinone-3.29/ns-3.29/build'\n",
      "Waf: Leaving directory `/home/samuel/ns-allinone-3.29/ns-3.29/build'\n",
      "Build commands will be stored in build/compile_commands.json\n",
      "'build' finished successfully (4.198s)\n"
     ]
    },
    {
     "name": "stderr",
     "output_type": "stream",
     "text": [
      "Ns3Env parameters:\n",
      "--nWifi: 50\n",
      "--simulationTime: 60\n",
      "--openGymPort: 34937\n",
      "--envStepTime: 0.01\n",
      "--seed: 42\n",
      "--agentType: discrete\n",
      "--scenario: basic\n",
      "--dryRun: 0\n",
      "Simulation started\n"
     ]
    },
    {
     "name": "stdout",
     "output_type": "stream",
     "text": [
      "Observation space shape: (1, 300)\n",
      "Action space shape: (1, 1)\n"
     ]
    },
    {
     "name": "stderr",
     "output_type": "stream",
     "text": [
      "Simulation process id: 468354 (parent (waf shell) id: 468337)\n",
      "Waiting for Python process to connect on port: tcp://localhost:34937\n",
      "Please start proper Python Gym Agent\n"
     ]
    }
   ],
   "source": [
    "#%%\n",
    "scenario = \"basic\"\n",
    "\n",
    "simTime = 60 # seconds\n",
    "stepTime = 0.01  # seconds\n",
    "history_length = 300\n",
    "\n",
    "EPISODE_COUNT = 15\n",
    "steps_per_ep = int(simTime/stepTime)\n",
    "\n",
    "sim_args = {\n",
    "    \"simTime\": simTime,\n",
    "    \"envStepTime\": stepTime,\n",
    "    \"historyLength\": history_length,\n",
    "    \"agentType\": Agent.TYPE,\n",
    "    \"scenario\": \"basic\",\n",
    "    \"nWifi\": 50,\n",
    "}\n",
    "\n",
    "print(\"Steps per episode:\", steps_per_ep)\n",
    "\n",
    "threads_no = 1\n",
    "env = EnvWrapper(threads_no, **sim_args)\n",
    "\n",
    "#%%\n",
    "env.reset()\n",
    "ob_space = env.observation_space\n",
    "ac_space = env.action_space\n",
    "\n",
    "print(\"Observation space shape:\", ob_space)\n",
    "print(\"Action space shape:\", ac_space)\n",
    "\n",
    "assert ob_space is not None"
   ]
  },
  {
   "cell_type": "code",
   "execution_count": 3,
   "id": "e2c1d026",
   "metadata": {
    "scrolled": true
   },
   "outputs": [
    {
     "name": "stdout",
     "output_type": "stream",
     "text": [
      "WARNING:tensorflow:From /home/samuel/ns-allinone-3.29/ns-3.29/scratch/RLinWiFi-master-original-queue-level-mean/agents/dqn/agent.py:53: The name tf.Session is deprecated. Please use tf.compat.v1.Session instead.\n",
      "\n",
      "WARNING:tensorflow:From /home/samuel/ns-allinone-3.29/ns-3.29/scratch/RLinWiFi-master-original-queue-level-mean/agents/dqn/model.py:25: The name tf.variable_scope is deprecated. Please use tf.compat.v1.variable_scope instead.\n",
      "\n",
      "WARNING:tensorflow:From /home/samuel/ns-allinone-3.29/ns-3.29/scratch/RLinWiFi-master-original-queue-level-mean/agents/dqn/model.py:26: The name tf.placeholder is deprecated. Please use tf.compat.v1.placeholder instead.\n",
      "\n"
     ]
    },
    {
     "name": "stderr",
     "output_type": "stream",
     "text": [
      "2023-02-13 02:31:33.125346: I tensorflow/core/platform/cpu_feature_guard.cc:142] Your CPU supports instructions that this TensorFlow binary was not compiled to use: AVX2 FMA\n",
      "2023-02-13 02:31:33.147948: I tensorflow/core/platform/profile_utils/cpu_utils.cc:94] CPU Frequency: 3491795000 Hz\n",
      "2023-02-13 02:31:33.148305: I tensorflow/compiler/xla/service/service.cc:168] XLA service 0x55b9c5d04690 executing computations on platform Host. Devices:\n",
      "2023-02-13 02:31:33.148319: I tensorflow/compiler/xla/service/service.cc:175]   StreamExecutor device (0): <undefined>, <undefined>\n"
     ]
    },
    {
     "name": "stdout",
     "output_type": "stream",
     "text": [
      "WARNING:tensorflow:\n",
      "The TensorFlow contrib module will not be included in TensorFlow 2.0.\n",
      "For more information, please see:\n",
      "  * https://github.com/tensorflow/community/blob/master/rfcs/20180907-contrib-sunset.md\n",
      "  * https://github.com/tensorflow/addons\n",
      "  * https://github.com/tensorflow/io (for I/O related ops)\n",
      "If you depend on functionality not listed there, please file an issue.\n",
      "\n",
      "WARNING:tensorflow:From /home/samuel/ns-allinone-3.29/ns-3.29/scratch/RLinWiFi-master-original-queue-level-mean/agents/dqn/model.py:52: LSTMCell.__init__ (from tensorflow.python.ops.rnn_cell_impl) is deprecated and will be removed in a future version.\n",
      "Instructions for updating:\n",
      "This class is equivalent as tf.keras.layers.LSTMCell, and will be replaced by that in Tensorflow 2.0.\n",
      "WARNING:tensorflow:From /home/samuel/ns-allinone-3.29/ns-3.29/scratch/RLinWiFi-master-original-queue-level-mean/agents/dqn/model.py:52: static_rnn (from tensorflow.python.ops.rnn) is deprecated and will be removed in a future version.\n",
      "Instructions for updating:\n",
      "Please use `keras.layers.RNN(cell, unroll=True)`, which is equivalent to this API\n",
      "WARNING:tensorflow:From /home/samuel/anaconda3/envs/myEnv3_7/lib/python3.7/site-packages/tensorflow/python/ops/init_ops.py:1251: calling VarianceScaling.__init__ (from tensorflow.python.ops.init_ops) with dtype is deprecated and will be removed in a future version.\n",
      "Instructions for updating:\n",
      "Call initializer instance with the dtype argument instead of passing it to the constructor\n",
      "WARNING:tensorflow:From /home/samuel/anaconda3/envs/myEnv3_7/lib/python3.7/site-packages/tensorflow/python/ops/rnn_cell_impl.py:961: calling Zeros.__init__ (from tensorflow.python.ops.init_ops) with dtype is deprecated and will be removed in a future version.\n",
      "Instructions for updating:\n",
      "Call initializer instance with the dtype argument instead of passing it to the constructor\n",
      "WARNING:tensorflow:Entity <bound method LSTMCell.call of <tensorflow.python.ops.rnn_cell_impl.LSTMCell object at 0x7f8c9a417490>> could not be transformed and will be executed as-is. Please report this to the AutgoGraph team. When filing the bug, set the verbosity to 10 (on Linux, `export AUTOGRAPH_VERBOSITY=10`) and attach the full output. Cause: converting <bound method LSTMCell.call of <tensorflow.python.ops.rnn_cell_impl.LSTMCell object at 0x7f8c9a417490>>: AttributeError: module 'gast' has no attribute 'Index'\n",
      "WARNING: Entity <bound method LSTMCell.call of <tensorflow.python.ops.rnn_cell_impl.LSTMCell object at 0x7f8c9a417490>> could not be transformed and will be executed as-is. Please report this to the AutgoGraph team. When filing the bug, set the verbosity to 10 (on Linux, `export AUTOGRAPH_VERBOSITY=10`) and attach the full output. Cause: converting <bound method LSTMCell.call of <tensorflow.python.ops.rnn_cell_impl.LSTMCell object at 0x7f8c9a417490>>: AttributeError: module 'gast' has no attribute 'Index'\n",
      "WARNING:tensorflow:Entity <bound method LSTMCell.call of <tensorflow.python.ops.rnn_cell_impl.LSTMCell object at 0x7f8c9a417490>> could not be transformed and will be executed as-is. Please report this to the AutgoGraph team. When filing the bug, set the verbosity to 10 (on Linux, `export AUTOGRAPH_VERBOSITY=10`) and attach the full output. Cause: converting <bound method LSTMCell.call of <tensorflow.python.ops.rnn_cell_impl.LSTMCell object at 0x7f8c9a417490>>: AttributeError: module 'gast' has no attribute 'Index'\n",
      "WARNING: Entity <bound method LSTMCell.call of <tensorflow.python.ops.rnn_cell_impl.LSTMCell object at 0x7f8c9a417490>> could not be transformed and will be executed as-is. Please report this to the AutgoGraph team. When filing the bug, set the verbosity to 10 (on Linux, `export AUTOGRAPH_VERBOSITY=10`) and attach the full output. Cause: converting <bound method LSTMCell.call of <tensorflow.python.ops.rnn_cell_impl.LSTMCell object at 0x7f8c9a417490>>: AttributeError: module 'gast' has no attribute 'Index'\n",
      "WARNING:tensorflow:Entity <bound method LSTMCell.call of <tensorflow.python.ops.rnn_cell_impl.LSTMCell object at 0x7f8c9a417490>> could not be transformed and will be executed as-is. Please report this to the AutgoGraph team. When filing the bug, set the verbosity to 10 (on Linux, `export AUTOGRAPH_VERBOSITY=10`) and attach the full output. Cause: converting <bound method LSTMCell.call of <tensorflow.python.ops.rnn_cell_impl.LSTMCell object at 0x7f8c9a417490>>: AttributeError: module 'gast' has no attribute 'Index'\n",
      "WARNING: Entity <bound method LSTMCell.call of <tensorflow.python.ops.rnn_cell_impl.LSTMCell object at 0x7f8c9a417490>> could not be transformed and will be executed as-is. Please report this to the AutgoGraph team. When filing the bug, set the verbosity to 10 (on Linux, `export AUTOGRAPH_VERBOSITY=10`) and attach the full output. Cause: converting <bound method LSTMCell.call of <tensorflow.python.ops.rnn_cell_impl.LSTMCell object at 0x7f8c9a417490>>: AttributeError: module 'gast' has no attribute 'Index'\n",
      "WARNING:tensorflow:Entity <bound method LSTMCell.call of <tensorflow.python.ops.rnn_cell_impl.LSTMCell object at 0x7f8c9a417490>> could not be transformed and will be executed as-is. Please report this to the AutgoGraph team. When filing the bug, set the verbosity to 10 (on Linux, `export AUTOGRAPH_VERBOSITY=10`) and attach the full output. Cause: converting <bound method LSTMCell.call of <tensorflow.python.ops.rnn_cell_impl.LSTMCell object at 0x7f8c9a417490>>: AttributeError: module 'gast' has no attribute 'Index'\n",
      "WARNING: Entity <bound method LSTMCell.call of <tensorflow.python.ops.rnn_cell_impl.LSTMCell object at 0x7f8c9a417490>> could not be transformed and will be executed as-is. Please report this to the AutgoGraph team. When filing the bug, set the verbosity to 10 (on Linux, `export AUTOGRAPH_VERBOSITY=10`) and attach the full output. Cause: converting <bound method LSTMCell.call of <tensorflow.python.ops.rnn_cell_impl.LSTMCell object at 0x7f8c9a417490>>: AttributeError: module 'gast' has no attribute 'Index'\n",
      "WARNING:tensorflow:From /home/samuel/ns-allinone-3.29/ns-3.29/scratch/RLinWiFi-master-original-queue-level-mean/agents/dqn/model.py:53: dense (from tensorflow.python.layers.core) is deprecated and will be removed in a future version.\n",
      "Instructions for updating:\n",
      "Use keras.layers.dense instead.\n",
      "WARNING:tensorflow:Entity <bound method Dense.call of <tensorflow.python.layers.core.Dense object at 0x7f8c9a9138d0>> could not be transformed and will be executed as-is. Please report this to the AutgoGraph team. When filing the bug, set the verbosity to 10 (on Linux, `export AUTOGRAPH_VERBOSITY=10`) and attach the full output. Cause: converting <bound method Dense.call of <tensorflow.python.layers.core.Dense object at 0x7f8c9a9138d0>>: AttributeError: module 'gast' has no attribute 'Index'\n",
      "WARNING: Entity <bound method Dense.call of <tensorflow.python.layers.core.Dense object at 0x7f8c9a9138d0>> could not be transformed and will be executed as-is. Please report this to the AutgoGraph team. When filing the bug, set the verbosity to 10 (on Linux, `export AUTOGRAPH_VERBOSITY=10`) and attach the full output. Cause: converting <bound method Dense.call of <tensorflow.python.layers.core.Dense object at 0x7f8c9a9138d0>>: AttributeError: module 'gast' has no attribute 'Index'\n",
      "WARNING:tensorflow:Entity <bound method Dense.call of <tensorflow.python.layers.core.Dense object at 0x7f8c9a9138d0>> could not be transformed and will be executed as-is. Please report this to the AutgoGraph team. When filing the bug, set the verbosity to 10 (on Linux, `export AUTOGRAPH_VERBOSITY=10`) and attach the full output. Cause: converting <bound method Dense.call of <tensorflow.python.layers.core.Dense object at 0x7f8c9a9138d0>>: AttributeError: module 'gast' has no attribute 'Index'\n",
      "WARNING: Entity <bound method Dense.call of <tensorflow.python.layers.core.Dense object at 0x7f8c9a9138d0>> could not be transformed and will be executed as-is. Please report this to the AutgoGraph team. When filing the bug, set the verbosity to 10 (on Linux, `export AUTOGRAPH_VERBOSITY=10`) and attach the full output. Cause: converting <bound method Dense.call of <tensorflow.python.layers.core.Dense object at 0x7f8c9a9138d0>>: AttributeError: module 'gast' has no attribute 'Index'\n"
     ]
    },
    {
     "name": "stdout",
     "output_type": "stream",
     "text": [
      "WARNING:tensorflow:Entity <bound method Dense.call of <tensorflow.python.layers.core.Dense object at 0x7f8c9a9138d0>> could not be transformed and will be executed as-is. Please report this to the AutgoGraph team. When filing the bug, set the verbosity to 10 (on Linux, `export AUTOGRAPH_VERBOSITY=10`) and attach the full output. Cause: converting <bound method Dense.call of <tensorflow.python.layers.core.Dense object at 0x7f8c9a9138d0>>: AttributeError: module 'gast' has no attribute 'Index'\n",
      "WARNING: Entity <bound method Dense.call of <tensorflow.python.layers.core.Dense object at 0x7f8c9a9138d0>> could not be transformed and will be executed as-is. Please report this to the AutgoGraph team. When filing the bug, set the verbosity to 10 (on Linux, `export AUTOGRAPH_VERBOSITY=10`) and attach the full output. Cause: converting <bound method Dense.call of <tensorflow.python.layers.core.Dense object at 0x7f8c9a9138d0>>: AttributeError: module 'gast' has no attribute 'Index'\n",
      "WARNING:tensorflow:From /home/samuel/ns-allinone-3.29/ns-3.29/scratch/RLinWiFi-master-original-queue-level-mean/agents/dqn/model.py:69: The name tf.losses.mean_squared_error is deprecated. Please use tf.compat.v1.losses.mean_squared_error instead.\n",
      "\n",
      "WARNING:tensorflow:From /home/samuel/anaconda3/envs/myEnv3_7/lib/python3.7/site-packages/tensorflow/python/ops/losses/losses_impl.py:121: add_dispatch_support.<locals>.wrapper (from tensorflow.python.ops.array_ops) is deprecated and will be removed in a future version.\n",
      "Instructions for updating:\n",
      "Use tf.where in 2.0, which has the same broadcast rule as np.where\n",
      "WARNING:tensorflow:From /home/samuel/ns-allinone-3.29/ns-3.29/scratch/RLinWiFi-master-original-queue-level-mean/agents/dqn/model.py:77: The name tf.train.AdamOptimizer is deprecated. Please use tf.compat.v1.train.AdamOptimizer instead.\n",
      "\n",
      "WARNING:tensorflow:From /home/samuel/ns-allinone-3.29/ns-3.29/scratch/RLinWiFi-master-original-queue-level-mean/agents/dqn/model.py:33: The name tf.global_variables_initializer is deprecated. Please use tf.compat.v1.global_variables_initializer instead.\n",
      "\n",
      "WARNING:tensorflow:From /home/samuel/ns-allinone-3.29/ns-3.29/scratch/RLinWiFi-master-original-queue-level-mean/agents/dqn/model.py:34: The name tf.local_variables_initializer is deprecated. Please use tf.compat.v1.local_variables_initializer instead.\n",
      "\n",
      "WARNING:tensorflow:Entity <bound method LSTMCell.call of <tensorflow.python.ops.rnn_cell_impl.LSTMCell object at 0x7f8c9a3c6fd0>> could not be transformed and will be executed as-is. Please report this to the AutgoGraph team. When filing the bug, set the verbosity to 10 (on Linux, `export AUTOGRAPH_VERBOSITY=10`) and attach the full output. Cause: converting <bound method LSTMCell.call of <tensorflow.python.ops.rnn_cell_impl.LSTMCell object at 0x7f8c9a3c6fd0>>: AttributeError: module 'gast' has no attribute 'Index'\n",
      "WARNING: Entity <bound method LSTMCell.call of <tensorflow.python.ops.rnn_cell_impl.LSTMCell object at 0x7f8c9a3c6fd0>> could not be transformed and will be executed as-is. Please report this to the AutgoGraph team. When filing the bug, set the verbosity to 10 (on Linux, `export AUTOGRAPH_VERBOSITY=10`) and attach the full output. Cause: converting <bound method LSTMCell.call of <tensorflow.python.ops.rnn_cell_impl.LSTMCell object at 0x7f8c9a3c6fd0>>: AttributeError: module 'gast' has no attribute 'Index'\n",
      "WARNING:tensorflow:Entity <bound method LSTMCell.call of <tensorflow.python.ops.rnn_cell_impl.LSTMCell object at 0x7f8c9a3c6fd0>> could not be transformed and will be executed as-is. Please report this to the AutgoGraph team. When filing the bug, set the verbosity to 10 (on Linux, `export AUTOGRAPH_VERBOSITY=10`) and attach the full output. Cause: converting <bound method LSTMCell.call of <tensorflow.python.ops.rnn_cell_impl.LSTMCell object at 0x7f8c9a3c6fd0>>: AttributeError: module 'gast' has no attribute 'Index'\n",
      "WARNING: Entity <bound method LSTMCell.call of <tensorflow.python.ops.rnn_cell_impl.LSTMCell object at 0x7f8c9a3c6fd0>> could not be transformed and will be executed as-is. Please report this to the AutgoGraph team. When filing the bug, set the verbosity to 10 (on Linux, `export AUTOGRAPH_VERBOSITY=10`) and attach the full output. Cause: converting <bound method LSTMCell.call of <tensorflow.python.ops.rnn_cell_impl.LSTMCell object at 0x7f8c9a3c6fd0>>: AttributeError: module 'gast' has no attribute 'Index'\n",
      "WARNING:tensorflow:Entity <bound method LSTMCell.call of <tensorflow.python.ops.rnn_cell_impl.LSTMCell object at 0x7f8c9a3c6fd0>> could not be transformed and will be executed as-is. Please report this to the AutgoGraph team. When filing the bug, set the verbosity to 10 (on Linux, `export AUTOGRAPH_VERBOSITY=10`) and attach the full output. Cause: converting <bound method LSTMCell.call of <tensorflow.python.ops.rnn_cell_impl.LSTMCell object at 0x7f8c9a3c6fd0>>: AttributeError: module 'gast' has no attribute 'Index'\n"
     ]
    },
    {
     "name": "stderr",
     "output_type": "stream",
     "text": [
      "2023-02-13 02:31:35.465691: W tensorflow/compiler/jit/mark_for_compilation_pass.cc:1412] (One-time warning): Not using XLA:CPU for cluster because envvar TF_XLA_FLAGS=--tf_xla_cpu_global_jit was not set.  If you want XLA:CPU, either set that envvar, or use experimental_jit_scope to enable XLA:CPU.  To confirm that XLA is active, pass --vmodule=xla_compilation_cache=1 (as a proper command-line flag, not via TF_XLA_FLAGS) or set the envvar XLA_FLAGS=--xla_hlo_profile.\n"
     ]
    },
    {
     "name": "stdout",
     "output_type": "stream",
     "text": [
      "WARNING: Entity <bound method LSTMCell.call of <tensorflow.python.ops.rnn_cell_impl.LSTMCell object at 0x7f8c9a3c6fd0>> could not be transformed and will be executed as-is. Please report this to the AutgoGraph team. When filing the bug, set the verbosity to 10 (on Linux, `export AUTOGRAPH_VERBOSITY=10`) and attach the full output. Cause: converting <bound method LSTMCell.call of <tensorflow.python.ops.rnn_cell_impl.LSTMCell object at 0x7f8c9a3c6fd0>>: AttributeError: module 'gast' has no attribute 'Index'\n",
      "WARNING:tensorflow:Entity <bound method LSTMCell.call of <tensorflow.python.ops.rnn_cell_impl.LSTMCell object at 0x7f8c9a3c6fd0>> could not be transformed and will be executed as-is. Please report this to the AutgoGraph team. When filing the bug, set the verbosity to 10 (on Linux, `export AUTOGRAPH_VERBOSITY=10`) and attach the full output. Cause: converting <bound method LSTMCell.call of <tensorflow.python.ops.rnn_cell_impl.LSTMCell object at 0x7f8c9a3c6fd0>>: AttributeError: module 'gast' has no attribute 'Index'\n",
      "WARNING: Entity <bound method LSTMCell.call of <tensorflow.python.ops.rnn_cell_impl.LSTMCell object at 0x7f8c9a3c6fd0>> could not be transformed and will be executed as-is. Please report this to the AutgoGraph team. When filing the bug, set the verbosity to 10 (on Linux, `export AUTOGRAPH_VERBOSITY=10`) and attach the full output. Cause: converting <bound method LSTMCell.call of <tensorflow.python.ops.rnn_cell_impl.LSTMCell object at 0x7f8c9a3c6fd0>>: AttributeError: module 'gast' has no attribute 'Index'\n",
      "WARNING:tensorflow:Entity <bound method Dense.call of <tensorflow.python.layers.core.Dense object at 0x7f8c9a3c6fd0>> could not be transformed and will be executed as-is. Please report this to the AutgoGraph team. When filing the bug, set the verbosity to 10 (on Linux, `export AUTOGRAPH_VERBOSITY=10`) and attach the full output. Cause: converting <bound method Dense.call of <tensorflow.python.layers.core.Dense object at 0x7f8c9a3c6fd0>>: AttributeError: module 'gast' has no attribute 'Index'\n",
      "WARNING: Entity <bound method Dense.call of <tensorflow.python.layers.core.Dense object at 0x7f8c9a3c6fd0>> could not be transformed and will be executed as-is. Please report this to the AutgoGraph team. When filing the bug, set the verbosity to 10 (on Linux, `export AUTOGRAPH_VERBOSITY=10`) and attach the full output. Cause: converting <bound method Dense.call of <tensorflow.python.layers.core.Dense object at 0x7f8c9a3c6fd0>>: AttributeError: module 'gast' has no attribute 'Index'\n",
      "WARNING:tensorflow:Entity <bound method Dense.call of <tensorflow.python.layers.core.Dense object at 0x7f8c9a3c6fd0>> could not be transformed and will be executed as-is. Please report this to the AutgoGraph team. When filing the bug, set the verbosity to 10 (on Linux, `export AUTOGRAPH_VERBOSITY=10`) and attach the full output. Cause: converting <bound method Dense.call of <tensorflow.python.layers.core.Dense object at 0x7f8c9a3c6fd0>>: AttributeError: module 'gast' has no attribute 'Index'\n",
      "WARNING: Entity <bound method Dense.call of <tensorflow.python.layers.core.Dense object at 0x7f8c9a3c6fd0>> could not be transformed and will be executed as-is. Please report this to the AutgoGraph team. When filing the bug, set the verbosity to 10 (on Linux, `export AUTOGRAPH_VERBOSITY=10`) and attach the full output. Cause: converting <bound method Dense.call of <tensorflow.python.layers.core.Dense object at 0x7f8c9a3c6fd0>>: AttributeError: module 'gast' has no attribute 'Index'\n",
      "WARNING:tensorflow:Entity <bound method Dense.call of <tensorflow.python.layers.core.Dense object at 0x7f8c9a3c6fd0>> could not be transformed and will be executed as-is. Please report this to the AutgoGraph team. When filing the bug, set the verbosity to 10 (on Linux, `export AUTOGRAPH_VERBOSITY=10`) and attach the full output. Cause: converting <bound method Dense.call of <tensorflow.python.layers.core.Dense object at 0x7f8c9a3c6fd0>>: AttributeError: module 'gast' has no attribute 'Index'\n",
      "WARNING: Entity <bound method Dense.call of <tensorflow.python.layers.core.Dense object at 0x7f8c9a3c6fd0>> could not be transformed and will be executed as-is. Please report this to the AutgoGraph team. When filing the bug, set the verbosity to 10 (on Linux, `export AUTOGRAPH_VERBOSITY=10`) and attach the full output. Cause: converting <bound method Dense.call of <tensorflow.python.layers.core.Dense object at 0x7f8c9a3c6fd0>>: AttributeError: module 'gast' has no attribute 'Index'\n",
      "WARNING:tensorflow:From /home/samuel/ns-allinone-3.29/ns-3.29/scratch/RLinWiFi-master-original-queue-level-mean/agents/dqn/agent.py:77: The name tf.train.Saver is deprecated. Please use tf.compat.v1.train.Saver instead.\n",
      "\n",
      "Action space: 7\n",
      "WARNING:tensorflow:From /home/samuel/ns-allinone-3.29/ns-3.29/scratch/RLinWiFi-master-original-queue-level-mean/agents/dqn/agent.py:107: Variable.load (from tensorflow.python.ops.variables) is deprecated and will be removed in a future version.\n",
      "Instructions for updating:\n",
      "Prefer Variable.assign which has equivalent behavior in 2.X.\n"
     ]
    },
    {
     "name": "stderr",
     "output_type": "stream",
     "text": [
      "COMET INFO: Experiment is live on comet.ml https://www.comet.com/sheila-janota/rl-in-wifi-with-queue-level/c71de4cae6de492f8b6fc613d89ab4dd\n",
      "\n",
      "  0%|          | 0/6300 [00:00<?, ?it/s]"
     ]
    },
    {
     "name": "stdout",
     "output_type": "stream",
     "text": [
      "0\n"
     ]
    },
    {
     "name": "stderr",
     "output_type": "stream",
     "text": [
      "  5%|▌         | 333/6300 [10:03<2:42:14,  1.63s/it, curr_speed=28.62 Mbps, mb_sent=9.16 Mb]"
     ]
    },
    {
     "name": "stdout",
     "output_type": "stream",
     "text": [
      "------- STARTED TRAINING -------\n"
     ]
    },
    {
     "name": "stderr",
     "output_type": "stream",
     "text": [
      "100%|██████████| 6300/6300 [3:08:42<00:00,  1.80s/it, curr_speed=29.01 Mbps, mb_sent=1849.97 Mb]  \n"
     ]
    },
    {
     "name": "stdout",
     "output_type": "stream",
     "text": [
      "Waiting for simulation script to connect on port: tcp://localhost:39038\n",
      "Please start proper ns-3 simulation script using ./waf --run \"...\"\n",
      "Waf: Entering directory `/home/samuel/ns-allinone-3.29/ns-3.29/build'\n",
      "Waf: Leaving directory `/home/samuel/ns-allinone-3.29/ns-3.29/build'\n",
      "Build commands will be stored in build/compile_commands.json\n",
      "'build' finished successfully (4.047s)\n"
     ]
    },
    {
     "name": "stderr",
     "output_type": "stream",
     "text": [
      "Ns3Env parameters:\n",
      "--nWifi: 50\n",
      "--simulationTime: 60\n",
      "--openGymPort: 39038\n",
      "--envStepTime: 0.01\n",
      "--seed: 42\n",
      "--agentType: discrete\n",
      "--scenario: basic\n",
      "--dryRun: 0\n",
      "Simulation started\n",
      "Simulation process id: 562141 (parent (waf shell) id: 562101)\n",
      "Waiting for Python process to connect on port: tcp://localhost:39038\n",
      "Please start proper Python Gym Agent\n",
      "  0%|          | 0/6300 [00:00<?, ?it/s]"
     ]
    },
    {
     "name": "stdout",
     "output_type": "stream",
     "text": [
      "Sent 1849.97 Mb/s.\tMean speed: 30.83 Mb/s\tEpisode 1/15 finished\n",
      "\n",
      "1\n"
     ]
    },
    {
     "name": "stderr",
     "output_type": "stream",
     "text": [
      "100%|██████████| 6300/6300 [3:00:29<00:00,  1.72s/it, curr_speed=34.35 Mbps, mb_sent=2008.00 Mb]  \n"
     ]
    },
    {
     "name": "stdout",
     "output_type": "stream",
     "text": [
      "Waiting for simulation script to connect on port: tcp://localhost:44475\n",
      "Please start proper ns-3 simulation script using ./waf --run \"...\"\n",
      "Waf: Entering directory `/home/samuel/ns-allinone-3.29/ns-3.29/build'\n",
      "Waf: Leaving directory `/home/samuel/ns-allinone-3.29/ns-3.29/build'\n",
      "Build commands will be stored in build/compile_commands.json\n",
      "'build' finished successfully (3.786s)\n"
     ]
    },
    {
     "name": "stderr",
     "output_type": "stream",
     "text": [
      "Ns3Env parameters:\n",
      "--nWifi: 50\n",
      "--simulationTime: 60\n",
      "--openGymPort: 44475\n",
      "--envStepTime: 0.01\n",
      "--seed: 42\n",
      "--agentType: discrete\n",
      "--scenario: basic\n",
      "--dryRun: 0\n",
      "Simulation started\n",
      "Simulation process id: 639096 (parent (waf shell) id: 639044)\n",
      "Waiting for Python process to connect on port: tcp://localhost:44475\n",
      "Please start proper Python Gym Agent\n",
      "  0%|          | 0/6300 [00:00<?, ?it/s]"
     ]
    },
    {
     "name": "stdout",
     "output_type": "stream",
     "text": [
      "Sent 2008.00 Mb/s.\tMean speed: 33.47 Mb/s\tEpisode 2/15 finished\n",
      "\n",
      "2\n"
     ]
    },
    {
     "name": "stderr",
     "output_type": "stream",
     "text": [
      "100%|██████████| 6300/6300 [3:08:56<00:00,  1.80s/it, curr_speed=35.87 Mbps, mb_sent=2110.96 Mb]  \n"
     ]
    },
    {
     "name": "stdout",
     "output_type": "stream",
     "text": [
      "Waiting for simulation script to connect on port: tcp://localhost:34099\n",
      "Please start proper ns-3 simulation script using ./waf --run \"...\"\n",
      "Waf: Entering directory `/home/samuel/ns-allinone-3.29/ns-3.29/build'\n",
      "Waf: Leaving directory `/home/samuel/ns-allinone-3.29/ns-3.29/build'\n",
      "Build commands will be stored in build/compile_commands.json\n",
      "'build' finished successfully (3.869s)\n"
     ]
    },
    {
     "name": "stderr",
     "output_type": "stream",
     "text": [
      "Ns3Env parameters:\n",
      "--nWifi: 50\n",
      "--simulationTime: 60\n",
      "--openGymPort: 34099\n",
      "--envStepTime: 0.01\n",
      "--seed: 42\n",
      "--agentType: discrete\n",
      "--scenario: basic\n",
      "--dryRun: 0\n",
      "Simulation started\n",
      "Simulation process id: 729148 (parent (waf shell) id: 729100)\n",
      "Waiting for Python process to connect on port: tcp://localhost:34099\n",
      "Please start proper Python Gym Agent\n",
      "  0%|          | 0/6300 [00:00<?, ?it/s]"
     ]
    },
    {
     "name": "stdout",
     "output_type": "stream",
     "text": [
      "Sent 2110.96 Mb/s.\tMean speed: 35.18 Mb/s\tEpisode 3/15 finished\n",
      "\n",
      "3\n"
     ]
    },
    {
     "name": "stderr",
     "output_type": "stream",
     "text": [
      "  5%|▍         | 304/6300 [08:51<3:00:22,  1.80s/it, curr_speed=32.76 Mbps, mb_sent=0.98 Mb]"
     ]
    },
    {
     "name": "stdout",
     "output_type": "stream",
     "text": [
      "------- MEMORY BUFFER FILLED -------\n"
     ]
    },
    {
     "name": "stderr",
     "output_type": "stream",
     "text": [
      " 34%|███▎      | 2121/6300 [1:03:30<2:06:52,  1.82s/it, curr_speed=35.41 Mbps, mb_sent=650.65 Mb]COMET ERROR: File could not be uploaded\n",
      " 34%|███▍      | 2163/6300 [1:04:44<2:10:22,  1.89s/it, curr_speed=35.63 Mbps, mb_sent=665.61 Mb]COMET ERROR: File could not be uploaded\n",
      " 63%|██████▎   | 3979/6300 [1:59:33<1:14:58,  1.94s/it, curr_speed=35.98 Mbps, mb_sent=1326.64 Mb]COMET ERROR: File could not be uploaded\n",
      "COMET ERROR: File could not be uploaded\n",
      "COMET ERROR: File could not be uploaded\n",
      "COMET ERROR: File could not be uploaded\n",
      "COMET ERROR: File could not be uploaded\n",
      "COMET ERROR: File could not be uploaded\n",
      " 63%|██████▎   | 3979/6300 [1:59:35<1:14:58,  1.94s/it, curr_speed=36.05 Mbps, mb_sent=1327.04 Mb]COMET ERROR: File could not be uploaded\n",
      " 63%|██████▎   | 3981/6300 [1:59:38<1:19:16,  2.05s/it, curr_speed=36.01 Mbps, mb_sent=1327.42 Mb]COMET ERROR: File could not be uploaded\n",
      " 63%|██████▎   | 3982/6300 [1:59:40<1:17:37,  2.01s/it, curr_speed=35.88 Mbps, mb_sent=1327.72 Mb]COMET ERROR: File could not be uploaded\n",
      " 63%|██████▎   | 3983/6300 [1:59:41<1:15:59,  1.97s/it, curr_speed=35.89 Mbps, mb_sent=1328.00 Mb]COMET ERROR: File could not be uploaded\n",
      " 63%|██████▎   | 3984/6300 [1:59:43<1:15:17,  1.95s/it, curr_speed=35.93 Mbps, mb_sent=1328.38 Mb]COMET ERROR: File could not be uploaded\n",
      " 63%|██████▎   | 3985/6300 [1:59:45<1:15:55,  1.97s/it, curr_speed=35.87 Mbps, mb_sent=1328.74 Mb]COMET ERROR: File could not be uploaded\n",
      " 63%|██████▎   | 3985/6300 [1:59:47<1:15:55,  1.97s/it, curr_speed=35.83 Mbps, mb_sent=1329.11 Mb]COMET ERROR: File could not be uploaded\n",
      " 63%|██████▎   | 3987/6300 [1:59:49<1:16:49,  1.99s/it, curr_speed=35.83 Mbps, mb_sent=1329.48 Mb]COMET ERROR: File could not be uploaded\n",
      " 63%|██████▎   | 3988/6300 [1:59:51<1:16:07,  1.98s/it, curr_speed=35.79 Mbps, mb_sent=1329.84 Mb]COMET ERROR: File could not be uploaded\n",
      " 63%|██████▎   | 3988/6300 [1:59:53<1:16:07,  1.98s/it, curr_speed=35.79 Mbps, mb_sent=1330.18 Mb]COMET ERROR: File could not be uploaded\n",
      "100%|██████████| 6300/6300 [3:09:36<00:00,  1.81s/it, curr_speed=36.85 Mbps, mb_sent=2163.68 Mb]  \n"
     ]
    },
    {
     "name": "stdout",
     "output_type": "stream",
     "text": [
      "Waiting for simulation script to connect on port: tcp://localhost:45696\n",
      "Please start proper ns-3 simulation script using ./waf --run \"...\"\n",
      "Waf: Entering directory `/home/samuel/ns-allinone-3.29/ns-3.29/build'\n",
      "Waf: Leaving directory `/home/samuel/ns-allinone-3.29/ns-3.29/build'\n",
      "Build commands will be stored in build/compile_commands.json\n",
      "'build' finished successfully (3.746s)\n"
     ]
    },
    {
     "name": "stderr",
     "output_type": "stream",
     "text": [
      "Ns3Env parameters:\n",
      "--nWifi: 50\n",
      "--simulationTime: 60\n",
      "--openGymPort: 45696\n",
      "--envStepTime: 0.01\n",
      "--seed: 42\n",
      "--agentType: discrete\n",
      "--scenario: basic\n",
      "--dryRun: 0\n",
      "Simulation started\n",
      "Simulation process id: 819674 (parent (waf shell) id: 819626)\n",
      "Waiting for Python process to connect on port: tcp://localhost:45696\n",
      "Please start proper Python Gym Agent\n",
      "  0%|          | 0/6300 [00:00<?, ?it/s]"
     ]
    },
    {
     "name": "stdout",
     "output_type": "stream",
     "text": [
      "Sent 2163.68 Mb/s.\tMean speed: 36.06 Mb/s\tEpisode 4/15 finished\n",
      "\n",
      "4\n"
     ]
    },
    {
     "name": "stderr",
     "output_type": "stream",
     "text": [
      "100%|██████████| 6300/6300 [2:58:57<00:00,  1.70s/it, curr_speed=35.93 Mbps, mb_sent=2204.62 Mb]  \n"
     ]
    },
    {
     "name": "stdout",
     "output_type": "stream",
     "text": [
      "Waiting for simulation script to connect on port: tcp://localhost:27198\n",
      "Please start proper ns-3 simulation script using ./waf --run \"...\"\n",
      "Waf: Entering directory `/home/samuel/ns-allinone-3.29/ns-3.29/build'\n",
      "Waf: Leaving directory `/home/samuel/ns-allinone-3.29/ns-3.29/build'\n",
      "Build commands will be stored in build/compile_commands.json\n",
      "'build' finished successfully (3.342s)\n"
     ]
    },
    {
     "name": "stderr",
     "output_type": "stream",
     "text": [
      "Ns3Env parameters:\n",
      "--nWifi: 50\n",
      "--simulationTime: 60\n",
      "--openGymPort: 27198\n",
      "--envStepTime: 0.01\n",
      "--seed: 42\n",
      "--agentType: discrete\n",
      "--scenario: basic\n",
      "--dryRun: 0\n",
      "Simulation started\n",
      "Simulation process id: 895371 (parent (waf shell) id: 895333)\n",
      "Waiting for Python process to connect on port: tcp://localhost:27198\n",
      "Please start proper Python Gym Agent\n",
      "  0%|          | 0/6300 [00:00<?, ?it/s]"
     ]
    },
    {
     "name": "stdout",
     "output_type": "stream",
     "text": [
      "Sent 2204.62 Mb/s.\tMean speed: 36.74 Mb/s\tEpisode 5/15 finished\n",
      "\n",
      "5\n"
     ]
    },
    {
     "name": "stderr",
     "output_type": "stream",
     "text": [
      "100%|██████████| 6300/6300 [2:48:00<00:00,  1.60s/it, curr_speed=37.35 Mbps, mb_sent=2217.34 Mb]  \n"
     ]
    },
    {
     "name": "stdout",
     "output_type": "stream",
     "text": [
      "Waiting for simulation script to connect on port: tcp://localhost:26611\n",
      "Please start proper ns-3 simulation script using ./waf --run \"...\"\n",
      "Waf: Entering directory `/home/samuel/ns-allinone-3.29/ns-3.29/build'\n",
      "Waf: Leaving directory `/home/samuel/ns-allinone-3.29/ns-3.29/build'\n",
      "Build commands will be stored in build/compile_commands.json\n",
      "'build' finished successfully (2.789s)\n"
     ]
    },
    {
     "name": "stderr",
     "output_type": "stream",
     "text": [
      "Ns3Env parameters:\n",
      "--nWifi: 50\n",
      "--simulationTime: 60\n",
      "--openGymPort: 26611\n",
      "--envStepTime: 0.01\n",
      "--seed: 42\n",
      "--agentType: discrete\n",
      "--scenario: basic\n",
      "--dryRun: 0\n",
      "Simulation started\n",
      "Simulation process id: 968617 (parent (waf shell) id: 968577)\n",
      "Waiting for Python process to connect on port: tcp://localhost:26611\n",
      "Please start proper Python Gym Agent\n",
      "  0%|          | 0/6300 [00:00<?, ?it/s]"
     ]
    },
    {
     "name": "stdout",
     "output_type": "stream",
     "text": [
      "Sent 2217.34 Mb/s.\tMean speed: 36.96 Mb/s\tEpisode 6/15 finished\n",
      "\n",
      "6\n"
     ]
    },
    {
     "name": "stderr",
     "output_type": "stream",
     "text": [
      "100%|██████████| 6300/6300 [2:59:05<00:00,  1.71s/it, curr_speed=37.05 Mbps, mb_sent=2224.57 Mb]  \n"
     ]
    },
    {
     "name": "stdout",
     "output_type": "stream",
     "text": [
      "Waiting for simulation script to connect on port: tcp://localhost:53475\n",
      "Please start proper ns-3 simulation script using ./waf --run \"...\"\n",
      "Waf: Entering directory `/home/samuel/ns-allinone-3.29/ns-3.29/build'\n",
      "Waf: Leaving directory `/home/samuel/ns-allinone-3.29/ns-3.29/build'\n",
      "Build commands will be stored in build/compile_commands.json\n",
      "'build' finished successfully (4.081s)\n"
     ]
    },
    {
     "name": "stderr",
     "output_type": "stream",
     "text": [
      "Ns3Env parameters:\n",
      "--nWifi: 50\n",
      "--simulationTime: 60\n",
      "--openGymPort: 53475\n",
      "--envStepTime: 0.01\n",
      "--seed: 42\n",
      "--agentType: discrete\n",
      "--scenario: basic\n",
      "--dryRun: 0\n",
      "Simulation started\n",
      "Simulation process id: 1052810 (parent (waf shell) id: 1052759)\n",
      "Waiting for Python process to connect on port: tcp://localhost:53475\n",
      "Please start proper Python Gym Agent\n",
      "  0%|          | 0/6300 [00:00<?, ?it/s]"
     ]
    },
    {
     "name": "stdout",
     "output_type": "stream",
     "text": [
      "Sent 2224.57 Mb/s.\tMean speed: 37.08 Mb/s\tEpisode 7/15 finished\n",
      "\n",
      "7\n"
     ]
    },
    {
     "name": "stderr",
     "output_type": "stream",
     "text": [
      "100%|██████████| 6300/6300 [2:46:05<00:00,  1.58s/it, curr_speed=37.62 Mbps, mb_sent=2228.72 Mb]  \n"
     ]
    },
    {
     "name": "stdout",
     "output_type": "stream",
     "text": [
      "Waiting for simulation script to connect on port: tcp://localhost:44309\n",
      "Please start proper ns-3 simulation script using ./waf --run \"...\"\n",
      "Waf: Entering directory `/home/samuel/ns-allinone-3.29/ns-3.29/build'\n",
      "Waf: Leaving directory `/home/samuel/ns-allinone-3.29/ns-3.29/build'\n",
      "Build commands will be stored in build/compile_commands.json\n",
      "'build' finished successfully (3.020s)\n"
     ]
    },
    {
     "name": "stderr",
     "output_type": "stream",
     "text": [
      "Ns3Env parameters:\n",
      "--nWifi: 50\n",
      "--simulationTime: 60\n",
      "--openGymPort: 44309\n",
      "--envStepTime: 0.01\n",
      "--seed: 42\n",
      "--agentType: discrete\n",
      "--scenario: basic\n",
      "--dryRun: 0\n",
      "Simulation started\n",
      "Simulation process id: 1123675 (parent (waf shell) id: 1123643)\n",
      "Waiting for Python process to connect on port: tcp://localhost:44309\n",
      "Please start proper Python Gym Agent\n",
      "  0%|          | 0/6300 [00:00<?, ?it/s]"
     ]
    },
    {
     "name": "stdout",
     "output_type": "stream",
     "text": [
      "Sent 2228.72 Mb/s.\tMean speed: 37.15 Mb/s\tEpisode 8/15 finished\n",
      "\n",
      "8\n"
     ]
    },
    {
     "name": "stderr",
     "output_type": "stream",
     "text": [
      "100%|██████████| 6300/6300 [2:30:58<00:00,  1.44s/it, curr_speed=37.21 Mbps, mb_sent=2234.76 Mb]  \n"
     ]
    },
    {
     "name": "stdout",
     "output_type": "stream",
     "text": [
      "Waiting for simulation script to connect on port: tcp://localhost:36233\n",
      "Please start proper ns-3 simulation script using ./waf --run \"...\"\n",
      "Waf: Entering directory `/home/samuel/ns-allinone-3.29/ns-3.29/build'\n",
      "Waf: Leaving directory `/home/samuel/ns-allinone-3.29/ns-3.29/build'\n",
      "Build commands will be stored in build/compile_commands.json\n",
      "'build' finished successfully (3.411s)\n"
     ]
    },
    {
     "name": "stderr",
     "output_type": "stream",
     "text": [
      "Ns3Env parameters:\n",
      "--nWifi: 50\n",
      "--simulationTime: 60\n",
      "--openGymPort: 36233\n",
      "--envStepTime: 0.01\n",
      "--seed: 42\n",
      "--agentType: discrete\n",
      "--scenario: basic\n",
      "--dryRun: 0\n",
      "Simulation started\n",
      "Simulation process id: 1173147 (parent (waf shell) id: 1173113)\n",
      "Waiting for Python process to connect on port: tcp://localhost:36233\n",
      "Please start proper Python Gym Agent\n",
      "  0%|          | 0/6300 [00:00<?, ?it/s]"
     ]
    },
    {
     "name": "stdout",
     "output_type": "stream",
     "text": [
      "Sent 2234.76 Mb/s.\tMean speed: 37.25 Mb/s\tEpisode 9/15 finished\n",
      "\n",
      "9\n"
     ]
    },
    {
     "name": "stderr",
     "output_type": "stream",
     "text": [
      "100%|██████████| 6300/6300 [2:26:02<00:00,  1.39s/it, curr_speed=37.34 Mbps, mb_sent=2232.67 Mb]  \n"
     ]
    },
    {
     "name": "stdout",
     "output_type": "stream",
     "text": [
      "Waiting for simulation script to connect on port: tcp://localhost:28210\n",
      "Please start proper ns-3 simulation script using ./waf --run \"...\"\n",
      "Waf: Entering directory `/home/samuel/ns-allinone-3.29/ns-3.29/build'\n",
      "Waf: Leaving directory `/home/samuel/ns-allinone-3.29/ns-3.29/build'\n",
      "Build commands will be stored in build/compile_commands.json\n",
      "'build' finished successfully (4.097s)\n"
     ]
    },
    {
     "name": "stderr",
     "output_type": "stream",
     "text": [
      "Ns3Env parameters:\n",
      "--nWifi: 50\n",
      "--simulationTime: 60\n",
      "--openGymPort: 28210\n",
      "--envStepTime: 0.01\n",
      "--seed: 42\n",
      "--agentType: discrete\n",
      "--scenario: basic\n",
      "--dryRun: 0\n",
      "Simulation started\n",
      "Simulation process id: 1221549 (parent (waf shell) id: 1221496)\n",
      "Waiting for Python process to connect on port: tcp://localhost:28210\n",
      "Please start proper Python Gym Agent\n",
      "  0%|          | 0/6300 [00:00<?, ?it/s]"
     ]
    },
    {
     "name": "stdout",
     "output_type": "stream",
     "text": [
      "Sent 2232.67 Mb/s.\tMean speed: 37.21 Mb/s\tEpisode 10/15 finished\n",
      "\n",
      "10\n"
     ]
    },
    {
     "name": "stderr",
     "output_type": "stream",
     "text": [
      "100%|██████████| 6300/6300 [3:07:37<00:00,  1.79s/it, curr_speed=36.93 Mbps, mb_sent=2234.56 Mb]  \n"
     ]
    },
    {
     "name": "stdout",
     "output_type": "stream",
     "text": [
      "Waiting for simulation script to connect on port: tcp://localhost:22827\n",
      "Please start proper ns-3 simulation script using ./waf --run \"...\"\n",
      "Waf: Entering directory `/home/samuel/ns-allinone-3.29/ns-3.29/build'\n",
      "Waf: Leaving directory `/home/samuel/ns-allinone-3.29/ns-3.29/build'\n",
      "Build commands will be stored in build/compile_commands.json\n",
      "'build' finished successfully (3.801s)\n"
     ]
    },
    {
     "name": "stderr",
     "output_type": "stream",
     "text": [
      "Ns3Env parameters:\n",
      "--nWifi: 50\n",
      "--simulationTime: 60\n",
      "--openGymPort: 22827\n",
      "--envStepTime: 0.01\n",
      "--seed: 42\n",
      "--agentType: discrete\n",
      "--scenario: basic\n",
      "--dryRun: 0\n",
      "Simulation started\n",
      "Simulation process id: 1312866 (parent (waf shell) id: 1312819)\n",
      "Waiting for Python process to connect on port: tcp://localhost:22827\n",
      "Please start proper Python Gym Agent\n",
      "  0%|          | 0/6300 [00:00<?, ?it/s]"
     ]
    },
    {
     "name": "stdout",
     "output_type": "stream",
     "text": [
      "Sent 2234.56 Mb/s.\tMean speed: 37.24 Mb/s\tEpisode 11/15 finished\n",
      "\n",
      "11\n"
     ]
    },
    {
     "name": "stderr",
     "output_type": "stream",
     "text": [
      "100%|██████████| 6300/6300 [2:57:26<00:00,  1.69s/it, curr_speed=36.67 Mbps, mb_sent=2238.11 Mb]  \n"
     ]
    },
    {
     "name": "stdout",
     "output_type": "stream",
     "text": [
      "Waiting for simulation script to connect on port: tcp://localhost:51043\n",
      "Please start proper ns-3 simulation script using ./waf --run \"...\"\n",
      "Waf: Entering directory `/home/samuel/ns-allinone-3.29/ns-3.29/build'\n",
      "Waf: Leaving directory `/home/samuel/ns-allinone-3.29/ns-3.29/build'\n",
      "Build commands will be stored in build/compile_commands.json\n",
      "'build' finished successfully (3.036s)\n"
     ]
    },
    {
     "name": "stderr",
     "output_type": "stream",
     "text": [
      "Ns3Env parameters:\n",
      "--nWifi: 50\n",
      "--simulationTime: 60\n",
      "--openGymPort: 51043\n",
      "--envStepTime: 0.01\n",
      "--seed: 42\n",
      "--agentType: discrete\n",
      "--scenario: basic\n",
      "--dryRun: 0\n",
      "Simulation started\n"
     ]
    },
    {
     "name": "stdout",
     "output_type": "stream",
     "text": [
      "WARNING:tensorflow:From /home/samuel/anaconda3/envs/myEnv3_7/lib/python3.7/site-packages/tensorflow/python/training/saver.py:960: remove_checkpoint (from tensorflow.python.training.checkpoint_management) is deprecated and will be removed in a future version.\n",
      "Instructions for updating:\n",
      "Use standard file APIs to delete files with this prefix.\n"
     ]
    },
    {
     "name": "stderr",
     "output_type": "stream",
     "text": [
      "Simulation process id: 1393426 (parent (waf shell) id: 1393386)\n",
      "Waiting for Python process to connect on port: tcp://localhost:51043\n",
      "Please start proper Python Gym Agent\n",
      "  0%|          | 0/6300 [00:00<?, ?it/s]"
     ]
    },
    {
     "name": "stdout",
     "output_type": "stream",
     "text": [
      "Sent 2238.11 Mb/s.\tMean speed: 37.30 Mb/s\tEpisode 12/15 finished\n",
      "\n",
      "12\n",
      "Turning off noise\n"
     ]
    },
    {
     "name": "stderr",
     "output_type": "stream",
     "text": [
      "100%|██████████| 6300/6300 [2:48:46<00:00,  1.61s/it, curr_speed=37.61 Mbps, mb_sent=2240.01 Mb]  \n"
     ]
    },
    {
     "name": "stdout",
     "output_type": "stream",
     "text": [
      "Waiting for simulation script to connect on port: tcp://localhost:45497\n",
      "Please start proper ns-3 simulation script using ./waf --run \"...\"\n",
      "Waf: Entering directory `/home/samuel/ns-allinone-3.29/ns-3.29/build'\n",
      "Waf: Leaving directory `/home/samuel/ns-allinone-3.29/ns-3.29/build'\n",
      "Build commands will be stored in build/compile_commands.json\n",
      "'build' finished successfully (3.477s)\n"
     ]
    },
    {
     "name": "stderr",
     "output_type": "stream",
     "text": [
      "Ns3Env parameters:\n",
      "--nWifi: 50\n",
      "--simulationTime: 60\n",
      "--openGymPort: 45497\n",
      "--envStepTime: 0.01\n",
      "--seed: 42\n",
      "--agentType: discrete\n",
      "--scenario: basic\n",
      "--dryRun: 0\n",
      "Simulation started\n",
      "Simulation process id: 1456612 (parent (waf shell) id: 1456580)\n",
      "Waiting for Python process to connect on port: tcp://localhost:45497\n",
      "Please start proper Python Gym Agent\n",
      "  0%|          | 0/6300 [00:00<?, ?it/s]"
     ]
    },
    {
     "name": "stdout",
     "output_type": "stream",
     "text": [
      "Sent 2240.01 Mb/s.\tMean speed: 37.33 Mb/s\tEpisode 13/15 finished\n",
      "\n",
      "13\n",
      "Turning off noise\n"
     ]
    },
    {
     "name": "stderr",
     "output_type": "stream",
     "text": [
      "100%|██████████| 6300/6300 [2:44:40<00:00,  1.57s/it, curr_speed=37.17 Mbps, mb_sent=2238.79 Mb]  \n"
     ]
    },
    {
     "name": "stdout",
     "output_type": "stream",
     "text": [
      "Waiting for simulation script to connect on port: tcp://localhost:16487\n",
      "Please start proper ns-3 simulation script using ./waf --run \"...\"\n",
      "Waf: Entering directory `/home/samuel/ns-allinone-3.29/ns-3.29/build'\n",
      "Waf: Leaving directory `/home/samuel/ns-allinone-3.29/ns-3.29/build'\n",
      "Build commands will be stored in build/compile_commands.json\n",
      "'build' finished successfully (3.146s)\n"
     ]
    },
    {
     "name": "stderr",
     "output_type": "stream",
     "text": [
      "Ns3Env parameters:\n",
      "--nWifi: 50\n",
      "--simulationTime: 60\n",
      "--openGymPort: 16487\n",
      "--envStepTime: 0.01\n",
      "--seed: 42\n",
      "--agentType: discrete\n",
      "--scenario: basic\n",
      "--dryRun: 0\n",
      "Simulation started\n",
      "Simulation process id: 1508084 (parent (waf shell) id: 1508054)\n",
      "Waiting for Python process to connect on port: tcp://localhost:16487\n",
      "Please start proper Python Gym Agent\n",
      "  0%|          | 0/6300 [00:00<?, ?it/s]"
     ]
    },
    {
     "name": "stdout",
     "output_type": "stream",
     "text": [
      "Sent 2238.79 Mb/s.\tMean speed: 37.31 Mb/s\tEpisode 14/15 finished\n",
      "\n",
      "14\n",
      "Turning off noise\n"
     ]
    },
    {
     "name": "stderr",
     "output_type": "stream",
     "text": [
      "100%|██████████| 6300/6300 [2:46:40<00:00,  1.59s/it, curr_speed=37.69 Mbps, mb_sent=2251.46 Mb]  \n"
     ]
    },
    {
     "name": "stdout",
     "output_type": "stream",
     "text": [
      "Waiting for simulation script to connect on port: tcp://localhost:34859\n",
      "Please start proper ns-3 simulation script using ./waf --run \"...\"\n",
      "Waf: Entering directory `/home/samuel/ns-allinone-3.29/ns-3.29/build'\n",
      "Waf: Leaving directory `/home/samuel/ns-allinone-3.29/ns-3.29/build'\n",
      "Build commands will be stored in build/compile_commands.json\n",
      "'build' finished successfully (3.747s)\n"
     ]
    },
    {
     "name": "stderr",
     "output_type": "stream",
     "text": [
      "Ns3Env parameters:\n",
      "--nWifi: 50\n",
      "--simulationTime: 60\n",
      "--openGymPort: 34859\n",
      "--envStepTime: 0.01\n",
      "--seed: 42\n",
      "--agentType: discrete\n",
      "--scenario: basic\n",
      "--dryRun: 0\n",
      "Simulation started\n",
      "Simulation process id: 1563004 (parent (waf shell) id: 1562951)\n",
      "Waiting for Python process to connect on port: tcp://localhost:34859\n",
      "Please start proper Python Gym Agent\n",
      "COMET INFO: ----------------------------\n",
      "COMET INFO: Comet.ml Experiment Summary:\n",
      "COMET INFO:   Data:\n",
      "COMET INFO:     url: https://www.comet.com/sheila-janota/rl-in-wifi-with-queue-level/c71de4cae6de492f8b6fc613d89ab4dd\n",
      "COMET INFO:   Metrics [count] (min, max):\n",
      "COMET INFO:     Chosen CW [89985]           : (16.0, 1024.0)\n",
      "COMET INFO:     Cumulative reward [15]      : (2590.4150390625, 3145.81884765625)\n",
      "COMET INFO:     Current throughput [89985]  : (25.450368881225586, 46.062744140625)\n",
      "COMET INFO:     Fairness index [89985]      : (0.9732879996299744, 0.9997649788856506)\n",
      "COMET INFO:     Megabytes sent [89985]      : (0.2568970024585724, 2251.45618391037)\n",
      "COMET INFO:     Observation 0 [89985]       : (0.8889117646714051, 0.9753248323003452)\n",
      "COMET INFO:     Observation 1 [89985]       : (0.002406535258213499, 0.1334230123465569)\n",
      "COMET INFO:     Per-ep reward [89985]       : (108.254150390625, 3145.81884765625)\n",
      "COMET INFO:     Round megabytes sent [89985]: (0.0, 9.95196533203125)\n",
      "COMET INFO:     Round reward [89985]        : (0.0, 0.610595703125)\n",
      "COMET INFO:     Speed [15]                  : (30.832848981115966, 37.524269731839496)\n",
      "COMET INFO:     Station count [89985]       : (50.0, 50.0)\n",
      "COMET INFO:     loss [89985]                : (0.0, 0.17959748208522797)\n",
      "COMET INFO:   Uploads:\n",
      "COMET INFO:     histogram3d: 89985\n",
      "COMET INFO: ----------------------------\n"
     ]
    },
    {
     "name": "stdout",
     "output_type": "stream",
     "text": [
      "Sent 2251.46 Mb/s.\tMean speed: 37.52 Mb/s\tEpisode 15/15 finished\n",
      "\n"
     ]
    },
    {
     "name": "stderr",
     "output_type": "stream",
     "text": [
      "COMET INFO: Uploading stats to Comet before program termination (may take several seconds)\n"
     ]
    },
    {
     "name": "stdout",
     "output_type": "stream",
     "text": [
      "Training finished.\n"
     ]
    },
    {
     "data": {
      "text/plain": [
       "'logger = teacher.eval(agent,\\n                        simTime=simTime,\\n                        stepTime=stepTime,\\n                        history_length=history_length,\\n                        tags=tags,\\n                        parameters=hyperparams)\\n'"
      ]
     },
     "execution_count": 3,
     "metadata": {},
     "output_type": "execute_result"
    }
   ],
   "source": [
    "#%%\n",
    "teacher = Teacher(env, 1, Preprocessor(False))\n",
    "\n",
    "lr = 4e-4\n",
    "config = Config(buffer_size=3*steps_per_ep*threads_no, batch_size=32, gamma=0.7, tau=1e-3, lr=lr, update_every=1)\n",
    "agent = Agent(QNetworkTf, history_length, action_size=7, config=config)\n",
    "agent.set_epsilon(0.9, 0.001, EPISODE_COUNT-2)\n",
    "\n",
    "# Test the model\n",
    "hyperparams = {**config.__dict__, **sim_args}\n",
    "tags = [\"Rew: normalized speed\",\n",
    "        \"Final\",\n",
    "        f\"{Agent.NAME}\",\n",
    "        sim_args['scenario'],\n",
    "        f\"LR: {lr}\",\n",
    "        f\"Instances: {threads_no}\",\n",
    "        f\"Station count: {sim_args['nWifi']}\",\n",
    "        *[f\"{key}: {sim_args[key]}\" for key in list(sim_args)[:3]]]\n",
    "# # agent.save()\n",
    "logger = teacher.train(agent, EPISODE_COUNT,\n",
    "                        simTime=simTime,\n",
    "                        stepTime=stepTime,\n",
    "                        history_length=history_length,\n",
    "                        send_logs=True,\n",
    "                        experimental=True,\n",
    "                        tags=tags,\n",
    "                        parameters=hyperparams)\n",
    "'''logger = teacher.eval(agent,\n",
    "                        simTime=simTime,\n",
    "                        stepTime=stepTime,\n",
    "                        history_length=history_length,\n",
    "                        tags=tags,\n",
    "                        parameters=hyperparams)\n",
    "'''\n",
    "# agent.save()\n",
    "\n",
    "\n",
    "# %%"
   ]
  },
  {
   "cell_type": "code",
   "execution_count": null,
   "id": "32d69ea0",
   "metadata": {},
   "outputs": [],
   "source": []
  },
  {
   "cell_type": "markdown",
   "id": "59e91035",
   "metadata": {},
   "source": [
    "# Execution num2:"
   ]
  },
  {
   "cell_type": "code",
   "execution_count": 1,
   "id": "7d78ef63",
   "metadata": {},
   "outputs": [
    {
     "name": "stderr",
     "output_type": "stream",
     "text": [
      "/home/samuel/anaconda3/envs/myEnv3_7/lib/python3.7/site-packages/tensorflow/python/framework/dtypes.py:516: FutureWarning: Passing (type, 1) or '1type' as a synonym of type is deprecated; in a future version of numpy, it will be understood as (type, (1,)) / '(1,)type'.\n",
      "  _np_qint8 = np.dtype([(\"qint8\", np.int8, 1)])\n",
      "/home/samuel/anaconda3/envs/myEnv3_7/lib/python3.7/site-packages/tensorflow/python/framework/dtypes.py:517: FutureWarning: Passing (type, 1) or '1type' as a synonym of type is deprecated; in a future version of numpy, it will be understood as (type, (1,)) / '(1,)type'.\n",
      "  _np_quint8 = np.dtype([(\"quint8\", np.uint8, 1)])\n",
      "/home/samuel/anaconda3/envs/myEnv3_7/lib/python3.7/site-packages/tensorflow/python/framework/dtypes.py:518: FutureWarning: Passing (type, 1) or '1type' as a synonym of type is deprecated; in a future version of numpy, it will be understood as (type, (1,)) / '(1,)type'.\n",
      "  _np_qint16 = np.dtype([(\"qint16\", np.int16, 1)])\n",
      "/home/samuel/anaconda3/envs/myEnv3_7/lib/python3.7/site-packages/tensorflow/python/framework/dtypes.py:519: FutureWarning: Passing (type, 1) or '1type' as a synonym of type is deprecated; in a future version of numpy, it will be understood as (type, (1,)) / '(1,)type'.\n",
      "  _np_quint16 = np.dtype([(\"quint16\", np.uint16, 1)])\n",
      "/home/samuel/anaconda3/envs/myEnv3_7/lib/python3.7/site-packages/tensorflow/python/framework/dtypes.py:520: FutureWarning: Passing (type, 1) or '1type' as a synonym of type is deprecated; in a future version of numpy, it will be understood as (type, (1,)) / '(1,)type'.\n",
      "  _np_qint32 = np.dtype([(\"qint32\", np.int32, 1)])\n",
      "/home/samuel/anaconda3/envs/myEnv3_7/lib/python3.7/site-packages/tensorflow/python/framework/dtypes.py:525: FutureWarning: Passing (type, 1) or '1type' as a synonym of type is deprecated; in a future version of numpy, it will be understood as (type, (1,)) / '(1,)type'.\n",
      "  np_resource = np.dtype([(\"resource\", np.ubyte, 1)])\n",
      "/home/samuel/anaconda3/envs/myEnv3_7/lib/python3.7/site-packages/tensorboard/compat/tensorflow_stub/dtypes.py:541: FutureWarning: Passing (type, 1) or '1type' as a synonym of type is deprecated; in a future version of numpy, it will be understood as (type, (1,)) / '(1,)type'.\n",
      "  _np_qint8 = np.dtype([(\"qint8\", np.int8, 1)])\n",
      "/home/samuel/anaconda3/envs/myEnv3_7/lib/python3.7/site-packages/tensorboard/compat/tensorflow_stub/dtypes.py:542: FutureWarning: Passing (type, 1) or '1type' as a synonym of type is deprecated; in a future version of numpy, it will be understood as (type, (1,)) / '(1,)type'.\n",
      "  _np_quint8 = np.dtype([(\"quint8\", np.uint8, 1)])\n",
      "/home/samuel/anaconda3/envs/myEnv3_7/lib/python3.7/site-packages/tensorboard/compat/tensorflow_stub/dtypes.py:543: FutureWarning: Passing (type, 1) or '1type' as a synonym of type is deprecated; in a future version of numpy, it will be understood as (type, (1,)) / '(1,)type'.\n",
      "  _np_qint16 = np.dtype([(\"qint16\", np.int16, 1)])\n",
      "/home/samuel/anaconda3/envs/myEnv3_7/lib/python3.7/site-packages/tensorboard/compat/tensorflow_stub/dtypes.py:544: FutureWarning: Passing (type, 1) or '1type' as a synonym of type is deprecated; in a future version of numpy, it will be understood as (type, (1,)) / '(1,)type'.\n",
      "  _np_quint16 = np.dtype([(\"quint16\", np.uint16, 1)])\n",
      "/home/samuel/anaconda3/envs/myEnv3_7/lib/python3.7/site-packages/tensorboard/compat/tensorflow_stub/dtypes.py:545: FutureWarning: Passing (type, 1) or '1type' as a synonym of type is deprecated; in a future version of numpy, it will be understood as (type, (1,)) / '(1,)type'.\n",
      "  _np_qint32 = np.dtype([(\"qint32\", np.int32, 1)])\n",
      "/home/samuel/anaconda3/envs/myEnv3_7/lib/python3.7/site-packages/tensorboard/compat/tensorflow_stub/dtypes.py:550: FutureWarning: Passing (type, 1) or '1type' as a synonym of type is deprecated; in a future version of numpy, it will be understood as (type, (1,)) / '(1,)type'.\n",
      "  np_resource = np.dtype([(\"resource\", np.ubyte, 1)])\n"
     ]
    }
   ],
   "source": [
    "#%%\n",
    "from ns3gym import ns3env\n",
    "from comet_ml import Experiment, Optimizer\n",
    "import tqdm\n",
    "import subprocess\n",
    "from collections import deque\n",
    "import numpy as np\n",
    "\n",
    "from agents.dqn.agent import Agent, Config\n",
    "from agents.dqn.model import QNetworkTf\n",
    "from agents.teacher import Teacher, EnvWrapper\n",
    "from preprocessor import Preprocessor"
   ]
  },
  {
   "cell_type": "code",
   "execution_count": 2,
   "id": "21539d7b",
   "metadata": {},
   "outputs": [
    {
     "name": "stdout",
     "output_type": "stream",
     "text": [
      "Steps per episode: 6000\n",
      "Waiting for simulation script to connect on port: tcp://localhost:27249\n",
      "Please start proper ns-3 simulation script using ./waf --run \"...\"\n",
      "Waf: Entering directory `/home/samuel/ns-allinone-3.29/ns-3.29/build'\n",
      "Waf: Leaving directory `/home/samuel/ns-allinone-3.29/ns-3.29/build'\n",
      "Build commands will be stored in build/compile_commands.json\n",
      "'build' finished successfully (3.919s)\n"
     ]
    },
    {
     "name": "stderr",
     "output_type": "stream",
     "text": [
      "Ns3Env parameters:\n",
      "--nWifi: 50\n",
      "--simulationTime: 60\n",
      "--openGymPort: 27249\n",
      "--envStepTime: 0.01\n",
      "--seed: 42\n",
      "--agentType: discrete\n",
      "--scenario: basic\n",
      "--dryRun: 0\n",
      "Simulation started\n"
     ]
    },
    {
     "name": "stdout",
     "output_type": "stream",
     "text": [
      "Observation space shape: (1, 300)\n",
      "Action space shape: (1, 1)\n"
     ]
    },
    {
     "name": "stderr",
     "output_type": "stream",
     "text": [
      "Simulation process id: 1783121 (parent (waf shell) id: 1783075)\n",
      "Waiting for Python process to connect on port: tcp://localhost:27249\n",
      "Please start proper Python Gym Agent\n"
     ]
    }
   ],
   "source": [
    "#%%\n",
    "scenario = \"basic\"\n",
    "\n",
    "simTime = 60 # seconds\n",
    "stepTime = 0.01  # seconds\n",
    "history_length = 300\n",
    "\n",
    "EPISODE_COUNT = 15\n",
    "steps_per_ep = int(simTime/stepTime)\n",
    "\n",
    "sim_args = {\n",
    "    \"simTime\": simTime,\n",
    "    \"envStepTime\": stepTime,\n",
    "    \"historyLength\": history_length,\n",
    "    \"agentType\": Agent.TYPE,\n",
    "    \"scenario\": \"basic\",\n",
    "    \"nWifi\": 50,\n",
    "}\n",
    "\n",
    "print(\"Steps per episode:\", steps_per_ep)\n",
    "\n",
    "threads_no = 1\n",
    "env = EnvWrapper(threads_no, **sim_args)\n",
    "\n",
    "#%%\n",
    "env.reset()\n",
    "ob_space = env.observation_space\n",
    "ac_space = env.action_space\n",
    "\n",
    "print(\"Observation space shape:\", ob_space)\n",
    "print(\"Action space shape:\", ac_space)\n",
    "\n",
    "assert ob_space is not None"
   ]
  },
  {
   "cell_type": "code",
   "execution_count": 3,
   "id": "6fb0d892",
   "metadata": {},
   "outputs": [
    {
     "name": "stdout",
     "output_type": "stream",
     "text": [
      "WARNING:tensorflow:From /home/samuel/ns-allinone-3.29/ns-3.29/scratch/RLinWiFi-master-original-queue-level-mean/agents/dqn/agent.py:53: The name tf.Session is deprecated. Please use tf.compat.v1.Session instead.\n",
      "\n",
      "WARNING:tensorflow:From /home/samuel/ns-allinone-3.29/ns-3.29/scratch/RLinWiFi-master-original-queue-level-mean/agents/dqn/model.py:25: The name tf.variable_scope is deprecated. Please use tf.compat.v1.variable_scope instead.\n",
      "\n",
      "WARNING:tensorflow:From /home/samuel/ns-allinone-3.29/ns-3.29/scratch/RLinWiFi-master-original-queue-level-mean/agents/dqn/model.py:26: The name tf.placeholder is deprecated. Please use tf.compat.v1.placeholder instead.\n",
      "\n"
     ]
    },
    {
     "name": "stderr",
     "output_type": "stream",
     "text": [
      "2023-02-15 10:40:31.341769: I tensorflow/core/platform/cpu_feature_guard.cc:142] Your CPU supports instructions that this TensorFlow binary was not compiled to use: AVX2 FMA\n",
      "2023-02-15 10:40:31.363966: I tensorflow/core/platform/profile_utils/cpu_utils.cc:94] CPU Frequency: 3491795000 Hz\n",
      "2023-02-15 10:40:31.364508: I tensorflow/compiler/xla/service/service.cc:168] XLA service 0x56227ccfaa20 executing computations on platform Host. Devices:\n",
      "2023-02-15 10:40:31.364528: I tensorflow/compiler/xla/service/service.cc:175]   StreamExecutor device (0): <undefined>, <undefined>\n"
     ]
    },
    {
     "name": "stdout",
     "output_type": "stream",
     "text": [
      "WARNING:tensorflow:\n",
      "The TensorFlow contrib module will not be included in TensorFlow 2.0.\n",
      "For more information, please see:\n",
      "  * https://github.com/tensorflow/community/blob/master/rfcs/20180907-contrib-sunset.md\n",
      "  * https://github.com/tensorflow/addons\n",
      "  * https://github.com/tensorflow/io (for I/O related ops)\n",
      "If you depend on functionality not listed there, please file an issue.\n",
      "\n",
      "WARNING:tensorflow:From /home/samuel/ns-allinone-3.29/ns-3.29/scratch/RLinWiFi-master-original-queue-level-mean/agents/dqn/model.py:52: LSTMCell.__init__ (from tensorflow.python.ops.rnn_cell_impl) is deprecated and will be removed in a future version.\n",
      "Instructions for updating:\n",
      "This class is equivalent as tf.keras.layers.LSTMCell, and will be replaced by that in Tensorflow 2.0.\n",
      "WARNING:tensorflow:From /home/samuel/ns-allinone-3.29/ns-3.29/scratch/RLinWiFi-master-original-queue-level-mean/agents/dqn/model.py:52: static_rnn (from tensorflow.python.ops.rnn) is deprecated and will be removed in a future version.\n",
      "Instructions for updating:\n",
      "Please use `keras.layers.RNN(cell, unroll=True)`, which is equivalent to this API\n",
      "WARNING:tensorflow:From /home/samuel/anaconda3/envs/myEnv3_7/lib/python3.7/site-packages/tensorflow/python/ops/init_ops.py:1251: calling VarianceScaling.__init__ (from tensorflow.python.ops.init_ops) with dtype is deprecated and will be removed in a future version.\n",
      "Instructions for updating:\n",
      "Call initializer instance with the dtype argument instead of passing it to the constructor\n",
      "WARNING:tensorflow:From /home/samuel/anaconda3/envs/myEnv3_7/lib/python3.7/site-packages/tensorflow/python/ops/rnn_cell_impl.py:961: calling Zeros.__init__ (from tensorflow.python.ops.init_ops) with dtype is deprecated and will be removed in a future version.\n",
      "Instructions for updating:\n",
      "Call initializer instance with the dtype argument instead of passing it to the constructor\n",
      "WARNING:tensorflow:Entity <bound method LSTMCell.call of <tensorflow.python.ops.rnn_cell_impl.LSTMCell object at 0x7f54a41b0b10>> could not be transformed and will be executed as-is. Please report this to the AutgoGraph team. When filing the bug, set the verbosity to 10 (on Linux, `export AUTOGRAPH_VERBOSITY=10`) and attach the full output. Cause: converting <bound method LSTMCell.call of <tensorflow.python.ops.rnn_cell_impl.LSTMCell object at 0x7f54a41b0b10>>: AttributeError: module 'gast' has no attribute 'Index'\n",
      "WARNING: Entity <bound method LSTMCell.call of <tensorflow.python.ops.rnn_cell_impl.LSTMCell object at 0x7f54a41b0b10>> could not be transformed and will be executed as-is. Please report this to the AutgoGraph team. When filing the bug, set the verbosity to 10 (on Linux, `export AUTOGRAPH_VERBOSITY=10`) and attach the full output. Cause: converting <bound method LSTMCell.call of <tensorflow.python.ops.rnn_cell_impl.LSTMCell object at 0x7f54a41b0b10>>: AttributeError: module 'gast' has no attribute 'Index'\n",
      "WARNING:tensorflow:Entity <bound method LSTMCell.call of <tensorflow.python.ops.rnn_cell_impl.LSTMCell object at 0x7f54a41b0b10>> could not be transformed and will be executed as-is. Please report this to the AutgoGraph team. When filing the bug, set the verbosity to 10 (on Linux, `export AUTOGRAPH_VERBOSITY=10`) and attach the full output. Cause: converting <bound method LSTMCell.call of <tensorflow.python.ops.rnn_cell_impl.LSTMCell object at 0x7f54a41b0b10>>: AttributeError: module 'gast' has no attribute 'Index'\n",
      "WARNING: Entity <bound method LSTMCell.call of <tensorflow.python.ops.rnn_cell_impl.LSTMCell object at 0x7f54a41b0b10>> could not be transformed and will be executed as-is. Please report this to the AutgoGraph team. When filing the bug, set the verbosity to 10 (on Linux, `export AUTOGRAPH_VERBOSITY=10`) and attach the full output. Cause: converting <bound method LSTMCell.call of <tensorflow.python.ops.rnn_cell_impl.LSTMCell object at 0x7f54a41b0b10>>: AttributeError: module 'gast' has no attribute 'Index'\n",
      "WARNING:tensorflow:Entity <bound method LSTMCell.call of <tensorflow.python.ops.rnn_cell_impl.LSTMCell object at 0x7f54a41b0b10>> could not be transformed and will be executed as-is. Please report this to the AutgoGraph team. When filing the bug, set the verbosity to 10 (on Linux, `export AUTOGRAPH_VERBOSITY=10`) and attach the full output. Cause: converting <bound method LSTMCell.call of <tensorflow.python.ops.rnn_cell_impl.LSTMCell object at 0x7f54a41b0b10>>: AttributeError: module 'gast' has no attribute 'Index'\n",
      "WARNING: Entity <bound method LSTMCell.call of <tensorflow.python.ops.rnn_cell_impl.LSTMCell object at 0x7f54a41b0b10>> could not be transformed and will be executed as-is. Please report this to the AutgoGraph team. When filing the bug, set the verbosity to 10 (on Linux, `export AUTOGRAPH_VERBOSITY=10`) and attach the full output. Cause: converting <bound method LSTMCell.call of <tensorflow.python.ops.rnn_cell_impl.LSTMCell object at 0x7f54a41b0b10>>: AttributeError: module 'gast' has no attribute 'Index'\n",
      "WARNING:tensorflow:Entity <bound method LSTMCell.call of <tensorflow.python.ops.rnn_cell_impl.LSTMCell object at 0x7f54a41b0b10>> could not be transformed and will be executed as-is. Please report this to the AutgoGraph team. When filing the bug, set the verbosity to 10 (on Linux, `export AUTOGRAPH_VERBOSITY=10`) and attach the full output. Cause: converting <bound method LSTMCell.call of <tensorflow.python.ops.rnn_cell_impl.LSTMCell object at 0x7f54a41b0b10>>: AttributeError: module 'gast' has no attribute 'Index'\n",
      "WARNING: Entity <bound method LSTMCell.call of <tensorflow.python.ops.rnn_cell_impl.LSTMCell object at 0x7f54a41b0b10>> could not be transformed and will be executed as-is. Please report this to the AutgoGraph team. When filing the bug, set the verbosity to 10 (on Linux, `export AUTOGRAPH_VERBOSITY=10`) and attach the full output. Cause: converting <bound method LSTMCell.call of <tensorflow.python.ops.rnn_cell_impl.LSTMCell object at 0x7f54a41b0b10>>: AttributeError: module 'gast' has no attribute 'Index'\n",
      "WARNING:tensorflow:From /home/samuel/ns-allinone-3.29/ns-3.29/scratch/RLinWiFi-master-original-queue-level-mean/agents/dqn/model.py:53: dense (from tensorflow.python.layers.core) is deprecated and will be removed in a future version.\n",
      "Instructions for updating:\n",
      "Use keras.layers.dense instead.\n",
      "WARNING:tensorflow:Entity <bound method Dense.call of <tensorflow.python.layers.core.Dense object at 0x7f54a41b0b10>> could not be transformed and will be executed as-is. Please report this to the AutgoGraph team. When filing the bug, set the verbosity to 10 (on Linux, `export AUTOGRAPH_VERBOSITY=10`) and attach the full output. Cause: converting <bound method Dense.call of <tensorflow.python.layers.core.Dense object at 0x7f54a41b0b10>>: AttributeError: module 'gast' has no attribute 'Index'\n",
      "WARNING: Entity <bound method Dense.call of <tensorflow.python.layers.core.Dense object at 0x7f54a41b0b10>> could not be transformed and will be executed as-is. Please report this to the AutgoGraph team. When filing the bug, set the verbosity to 10 (on Linux, `export AUTOGRAPH_VERBOSITY=10`) and attach the full output. Cause: converting <bound method Dense.call of <tensorflow.python.layers.core.Dense object at 0x7f54a41b0b10>>: AttributeError: module 'gast' has no attribute 'Index'\n",
      "WARNING:tensorflow:Entity <bound method Dense.call of <tensorflow.python.layers.core.Dense object at 0x7f54a41b0b10>> could not be transformed and will be executed as-is. Please report this to the AutgoGraph team. When filing the bug, set the verbosity to 10 (on Linux, `export AUTOGRAPH_VERBOSITY=10`) and attach the full output. Cause: converting <bound method Dense.call of <tensorflow.python.layers.core.Dense object at 0x7f54a41b0b10>>: AttributeError: module 'gast' has no attribute 'Index'\n",
      "WARNING: Entity <bound method Dense.call of <tensorflow.python.layers.core.Dense object at 0x7f54a41b0b10>> could not be transformed and will be executed as-is. Please report this to the AutgoGraph team. When filing the bug, set the verbosity to 10 (on Linux, `export AUTOGRAPH_VERBOSITY=10`) and attach the full output. Cause: converting <bound method Dense.call of <tensorflow.python.layers.core.Dense object at 0x7f54a41b0b10>>: AttributeError: module 'gast' has no attribute 'Index'\n"
     ]
    },
    {
     "name": "stdout",
     "output_type": "stream",
     "text": [
      "WARNING:tensorflow:Entity <bound method Dense.call of <tensorflow.python.layers.core.Dense object at 0x7f54a41b0b10>> could not be transformed and will be executed as-is. Please report this to the AutgoGraph team. When filing the bug, set the verbosity to 10 (on Linux, `export AUTOGRAPH_VERBOSITY=10`) and attach the full output. Cause: converting <bound method Dense.call of <tensorflow.python.layers.core.Dense object at 0x7f54a41b0b10>>: AttributeError: module 'gast' has no attribute 'Index'\n",
      "WARNING: Entity <bound method Dense.call of <tensorflow.python.layers.core.Dense object at 0x7f54a41b0b10>> could not be transformed and will be executed as-is. Please report this to the AutgoGraph team. When filing the bug, set the verbosity to 10 (on Linux, `export AUTOGRAPH_VERBOSITY=10`) and attach the full output. Cause: converting <bound method Dense.call of <tensorflow.python.layers.core.Dense object at 0x7f54a41b0b10>>: AttributeError: module 'gast' has no attribute 'Index'\n",
      "WARNING:tensorflow:From /home/samuel/ns-allinone-3.29/ns-3.29/scratch/RLinWiFi-master-original-queue-level-mean/agents/dqn/model.py:69: The name tf.losses.mean_squared_error is deprecated. Please use tf.compat.v1.losses.mean_squared_error instead.\n",
      "\n",
      "WARNING:tensorflow:From /home/samuel/anaconda3/envs/myEnv3_7/lib/python3.7/site-packages/tensorflow/python/ops/losses/losses_impl.py:121: add_dispatch_support.<locals>.wrapper (from tensorflow.python.ops.array_ops) is deprecated and will be removed in a future version.\n",
      "Instructions for updating:\n",
      "Use tf.where in 2.0, which has the same broadcast rule as np.where\n",
      "WARNING:tensorflow:From /home/samuel/ns-allinone-3.29/ns-3.29/scratch/RLinWiFi-master-original-queue-level-mean/agents/dqn/model.py:77: The name tf.train.AdamOptimizer is deprecated. Please use tf.compat.v1.train.AdamOptimizer instead.\n",
      "\n",
      "WARNING:tensorflow:From /home/samuel/ns-allinone-3.29/ns-3.29/scratch/RLinWiFi-master-original-queue-level-mean/agents/dqn/model.py:33: The name tf.global_variables_initializer is deprecated. Please use tf.compat.v1.global_variables_initializer instead.\n",
      "\n",
      "WARNING:tensorflow:From /home/samuel/ns-allinone-3.29/ns-3.29/scratch/RLinWiFi-master-original-queue-level-mean/agents/dqn/model.py:34: The name tf.local_variables_initializer is deprecated. Please use tf.compat.v1.local_variables_initializer instead.\n",
      "\n",
      "WARNING:tensorflow:Entity <bound method LSTMCell.call of <tensorflow.python.ops.rnn_cell_impl.LSTMCell object at 0x7f5449426810>> could not be transformed and will be executed as-is. Please report this to the AutgoGraph team. When filing the bug, set the verbosity to 10 (on Linux, `export AUTOGRAPH_VERBOSITY=10`) and attach the full output. Cause: converting <bound method LSTMCell.call of <tensorflow.python.ops.rnn_cell_impl.LSTMCell object at 0x7f5449426810>>: AttributeError: module 'gast' has no attribute 'Index'\n"
     ]
    },
    {
     "name": "stderr",
     "output_type": "stream",
     "text": [
      "2023-02-15 10:40:34.126759: W tensorflow/compiler/jit/mark_for_compilation_pass.cc:1412] (One-time warning): Not using XLA:CPU for cluster because envvar TF_XLA_FLAGS=--tf_xla_cpu_global_jit was not set.  If you want XLA:CPU, either set that envvar, or use experimental_jit_scope to enable XLA:CPU.  To confirm that XLA is active, pass --vmodule=xla_compilation_cache=1 (as a proper command-line flag, not via TF_XLA_FLAGS) or set the envvar XLA_FLAGS=--xla_hlo_profile.\n"
     ]
    },
    {
     "name": "stdout",
     "output_type": "stream",
     "text": [
      "WARNING: Entity <bound method LSTMCell.call of <tensorflow.python.ops.rnn_cell_impl.LSTMCell object at 0x7f5449426810>> could not be transformed and will be executed as-is. Please report this to the AutgoGraph team. When filing the bug, set the verbosity to 10 (on Linux, `export AUTOGRAPH_VERBOSITY=10`) and attach the full output. Cause: converting <bound method LSTMCell.call of <tensorflow.python.ops.rnn_cell_impl.LSTMCell object at 0x7f5449426810>>: AttributeError: module 'gast' has no attribute 'Index'\n",
      "WARNING:tensorflow:Entity <bound method LSTMCell.call of <tensorflow.python.ops.rnn_cell_impl.LSTMCell object at 0x7f5449426810>> could not be transformed and will be executed as-is. Please report this to the AutgoGraph team. When filing the bug, set the verbosity to 10 (on Linux, `export AUTOGRAPH_VERBOSITY=10`) and attach the full output. Cause: converting <bound method LSTMCell.call of <tensorflow.python.ops.rnn_cell_impl.LSTMCell object at 0x7f5449426810>>: AttributeError: module 'gast' has no attribute 'Index'\n",
      "WARNING: Entity <bound method LSTMCell.call of <tensorflow.python.ops.rnn_cell_impl.LSTMCell object at 0x7f5449426810>> could not be transformed and will be executed as-is. Please report this to the AutgoGraph team. When filing the bug, set the verbosity to 10 (on Linux, `export AUTOGRAPH_VERBOSITY=10`) and attach the full output. Cause: converting <bound method LSTMCell.call of <tensorflow.python.ops.rnn_cell_impl.LSTMCell object at 0x7f5449426810>>: AttributeError: module 'gast' has no attribute 'Index'\n",
      "WARNING:tensorflow:Entity <bound method LSTMCell.call of <tensorflow.python.ops.rnn_cell_impl.LSTMCell object at 0x7f5449426810>> could not be transformed and will be executed as-is. Please report this to the AutgoGraph team. When filing the bug, set the verbosity to 10 (on Linux, `export AUTOGRAPH_VERBOSITY=10`) and attach the full output. Cause: converting <bound method LSTMCell.call of <tensorflow.python.ops.rnn_cell_impl.LSTMCell object at 0x7f5449426810>>: AttributeError: module 'gast' has no attribute 'Index'\n",
      "WARNING: Entity <bound method LSTMCell.call of <tensorflow.python.ops.rnn_cell_impl.LSTMCell object at 0x7f5449426810>> could not be transformed and will be executed as-is. Please report this to the AutgoGraph team. When filing the bug, set the verbosity to 10 (on Linux, `export AUTOGRAPH_VERBOSITY=10`) and attach the full output. Cause: converting <bound method LSTMCell.call of <tensorflow.python.ops.rnn_cell_impl.LSTMCell object at 0x7f5449426810>>: AttributeError: module 'gast' has no attribute 'Index'\n",
      "WARNING:tensorflow:Entity <bound method LSTMCell.call of <tensorflow.python.ops.rnn_cell_impl.LSTMCell object at 0x7f5449426810>> could not be transformed and will be executed as-is. Please report this to the AutgoGraph team. When filing the bug, set the verbosity to 10 (on Linux, `export AUTOGRAPH_VERBOSITY=10`) and attach the full output. Cause: converting <bound method LSTMCell.call of <tensorflow.python.ops.rnn_cell_impl.LSTMCell object at 0x7f5449426810>>: AttributeError: module 'gast' has no attribute 'Index'\n",
      "WARNING: Entity <bound method LSTMCell.call of <tensorflow.python.ops.rnn_cell_impl.LSTMCell object at 0x7f5449426810>> could not be transformed and will be executed as-is. Please report this to the AutgoGraph team. When filing the bug, set the verbosity to 10 (on Linux, `export AUTOGRAPH_VERBOSITY=10`) and attach the full output. Cause: converting <bound method LSTMCell.call of <tensorflow.python.ops.rnn_cell_impl.LSTMCell object at 0x7f5449426810>>: AttributeError: module 'gast' has no attribute 'Index'\n",
      "WARNING:tensorflow:Entity <bound method Dense.call of <tensorflow.python.layers.core.Dense object at 0x7f5449426810>> could not be transformed and will be executed as-is. Please report this to the AutgoGraph team. When filing the bug, set the verbosity to 10 (on Linux, `export AUTOGRAPH_VERBOSITY=10`) and attach the full output. Cause: converting <bound method Dense.call of <tensorflow.python.layers.core.Dense object at 0x7f5449426810>>: AttributeError: module 'gast' has no attribute 'Index'\n",
      "WARNING: Entity <bound method Dense.call of <tensorflow.python.layers.core.Dense object at 0x7f5449426810>> could not be transformed and will be executed as-is. Please report this to the AutgoGraph team. When filing the bug, set the verbosity to 10 (on Linux, `export AUTOGRAPH_VERBOSITY=10`) and attach the full output. Cause: converting <bound method Dense.call of <tensorflow.python.layers.core.Dense object at 0x7f5449426810>>: AttributeError: module 'gast' has no attribute 'Index'\n",
      "WARNING:tensorflow:Entity <bound method Dense.call of <tensorflow.python.layers.core.Dense object at 0x7f5449426810>> could not be transformed and will be executed as-is. Please report this to the AutgoGraph team. When filing the bug, set the verbosity to 10 (on Linux, `export AUTOGRAPH_VERBOSITY=10`) and attach the full output. Cause: converting <bound method Dense.call of <tensorflow.python.layers.core.Dense object at 0x7f5449426810>>: AttributeError: module 'gast' has no attribute 'Index'\n",
      "WARNING: Entity <bound method Dense.call of <tensorflow.python.layers.core.Dense object at 0x7f5449426810>> could not be transformed and will be executed as-is. Please report this to the AutgoGraph team. When filing the bug, set the verbosity to 10 (on Linux, `export AUTOGRAPH_VERBOSITY=10`) and attach the full output. Cause: converting <bound method Dense.call of <tensorflow.python.layers.core.Dense object at 0x7f5449426810>>: AttributeError: module 'gast' has no attribute 'Index'\n",
      "WARNING:tensorflow:Entity <bound method Dense.call of <tensorflow.python.layers.core.Dense object at 0x7f5449426810>> could not be transformed and will be executed as-is. Please report this to the AutgoGraph team. When filing the bug, set the verbosity to 10 (on Linux, `export AUTOGRAPH_VERBOSITY=10`) and attach the full output. Cause: converting <bound method Dense.call of <tensorflow.python.layers.core.Dense object at 0x7f5449426810>>: AttributeError: module 'gast' has no attribute 'Index'\n",
      "WARNING: Entity <bound method Dense.call of <tensorflow.python.layers.core.Dense object at 0x7f5449426810>> could not be transformed and will be executed as-is. Please report this to the AutgoGraph team. When filing the bug, set the verbosity to 10 (on Linux, `export AUTOGRAPH_VERBOSITY=10`) and attach the full output. Cause: converting <bound method Dense.call of <tensorflow.python.layers.core.Dense object at 0x7f5449426810>>: AttributeError: module 'gast' has no attribute 'Index'\n",
      "WARNING:tensorflow:From /home/samuel/ns-allinone-3.29/ns-3.29/scratch/RLinWiFi-master-original-queue-level-mean/agents/dqn/agent.py:77: The name tf.train.Saver is deprecated. Please use tf.compat.v1.train.Saver instead.\n",
      "\n",
      "Action space: 7\n",
      "WARNING:tensorflow:From /home/samuel/ns-allinone-3.29/ns-3.29/scratch/RLinWiFi-master-original-queue-level-mean/agents/dqn/agent.py:107: Variable.load (from tensorflow.python.ops.variables) is deprecated and will be removed in a future version.\n",
      "Instructions for updating:\n",
      "Prefer Variable.assign which has equivalent behavior in 2.X.\n"
     ]
    },
    {
     "name": "stderr",
     "output_type": "stream",
     "text": [
      "COMET INFO: Experiment is live on comet.ml https://www.comet.com/sheila-janota/rl-in-wifi-with-queue-level/592e2a61dd34440394096e5ae21e7182\n",
      "\n",
      "  0%|          | 0/6300 [00:00<?, ?it/s]"
     ]
    },
    {
     "name": "stdout",
     "output_type": "stream",
     "text": [
      "0\n"
     ]
    },
    {
     "name": "stderr",
     "output_type": "stream",
     "text": [
      "  5%|▌         | 333/6300 [08:53<2:44:07,  1.65s/it, curr_speed=30.09 Mbps, mb_sent=9.63 Mb]"
     ]
    },
    {
     "name": "stdout",
     "output_type": "stream",
     "text": [
      "------- STARTED TRAINING -------\n"
     ]
    },
    {
     "name": "stderr",
     "output_type": "stream",
     "text": [
      " 35%|███▌      | 2211/6300 [59:10<1:47:27,  1.58s/it, curr_speed=29.12 Mbps, mb_sent=590.28 Mb]COMET ERROR: File could not be uploaded\n",
      " 35%|███▌      | 2221/6300 [59:25<1:37:38,  1.44s/it, curr_speed=30.17 Mbps, mb_sent=593.53 Mb]COMET ERROR: File could not be uploaded\n",
      " 53%|█████▎    | 3351/6300 [1:29:47<1:18:20,  1.59s/it, curr_speed=31.86 Mbps, mb_sent=940.77 Mb]COMET ERROR: File could not be uploaded\n",
      "100%|██████████| 6300/6300 [2:49:31<00:00,  1.61s/it, curr_speed=32.82 Mbps, mb_sent=1858.26 Mb]  \n"
     ]
    },
    {
     "name": "stdout",
     "output_type": "stream",
     "text": [
      "Waiting for simulation script to connect on port: tcp://localhost:47799\n",
      "Please start proper ns-3 simulation script using ./waf --run \"...\"\n",
      "Waf: Entering directory `/home/samuel/ns-allinone-3.29/ns-3.29/build'\n",
      "Waf: Leaving directory `/home/samuel/ns-allinone-3.29/ns-3.29/build'\n",
      "Build commands will be stored in build/compile_commands.json\n",
      "'build' finished successfully (3.036s)\n"
     ]
    },
    {
     "name": "stderr",
     "output_type": "stream",
     "text": [
      "Ns3Env parameters:\n",
      "--nWifi: 50\n",
      "--simulationTime: 60\n",
      "--openGymPort: 47799\n",
      "--envStepTime: 0.01\n",
      "--seed: 42\n",
      "--agentType: discrete\n",
      "--scenario: basic\n",
      "--dryRun: 0\n",
      "Simulation started\n",
      "Simulation process id: 1869697 (parent (waf shell) id: 1869664)\n",
      "Waiting for Python process to connect on port: tcp://localhost:47799\n",
      "Please start proper Python Gym Agent\n",
      "  0%|          | 0/6300 [00:00<?, ?it/s]"
     ]
    },
    {
     "name": "stdout",
     "output_type": "stream",
     "text": [
      "Sent 1858.26 Mb/s.\tMean speed: 30.97 Mb/s\tEpisode 1/15 finished\n",
      "\n",
      "1\n"
     ]
    },
    {
     "name": "stderr",
     "output_type": "stream",
     "text": [
      " 45%|████▌     | 2859/6300 [1:15:55<1:27:04,  1.52s/it, curr_speed=34.07 Mbps, mb_sent=861.87 Mb]COMET ERROR: File could not be uploaded\n",
      " 45%|████▌     | 2863/6300 [1:16:00<1:23:42,  1.46s/it, curr_speed=34.14 Mbps, mb_sent=863.33 Mb]COMET ERROR: File could not be uploaded\n",
      " 46%|████▌     | 2879/6300 [1:16:27<1:28:48,  1.56s/it, curr_speed=34.31 Mbps, mb_sent=869.10 Mb]COMET ERROR: File could not be uploaded\n",
      " 46%|████▌     | 2884/6300 [1:16:34<1:22:21,  1.45s/it, curr_speed=34.26 Mbps, mb_sent=870.97 Mb]COMET ERROR: File could not be uploaded\n",
      " 46%|████▌     | 2899/6300 [1:16:57<1:25:02,  1.50s/it, curr_speed=33.58 Mbps, mb_sent=875.47 Mb]COMET ERROR: File could not be uploaded\n",
      "COMET ERROR: File could not be uploaded\n",
      " 46%|████▋     | 2917/6300 [1:17:27<1:37:31,  1.73s/it, curr_speed=33.03 Mbps, mb_sent=881.32 Mb]COMET ERROR: File could not be uploaded\n",
      " 46%|████▋     | 2921/6300 [1:17:33<1:33:03,  1.65s/it, curr_speed=32.87 Mbps, mb_sent=882.68 Mb]COMET ERROR: File could not be uploaded\n",
      " 47%|████▋     | 2930/6300 [1:17:49<1:36:24,  1.72s/it, curr_speed=32.85 Mbps, mb_sent=885.53 Mb]COMET ERROR: File could not be uploaded\n",
      " 47%|████▋     | 2931/6300 [1:17:51<1:33:54,  1.67s/it, curr_speed=32.82 Mbps, mb_sent=885.80 Mb]COMET ERROR: File could not be uploaded\n",
      " 47%|████▋     | 2936/6300 [1:17:58<1:27:21,  1.56s/it, curr_speed=33.49 Mbps, mb_sent=887.74 Mb]COMET ERROR: File could not be uploaded\n",
      " 47%|████▋     | 2937/6300 [1:18:00<1:27:57,  1.57s/it, curr_speed=33.51 Mbps, mb_sent=888.07 Mb]COMET ERROR: File could not be uploaded\n",
      " 47%|████▋     | 2940/6300 [1:18:05<1:32:47,  1.66s/it, curr_speed=33.74 Mbps, mb_sent=889.22 Mb]COMET ERROR: File could not be uploaded\n",
      " 47%|████▋     | 2942/6300 [1:18:08<1:32:25,  1.65s/it, curr_speed=33.80 Mbps, mb_sent=889.94 Mb]COMET ERROR: File could not be uploaded\n",
      " 47%|████▋     | 2952/6300 [1:18:25<1:28:20,  1.58s/it, curr_speed=33.66 Mbps, mb_sent=893.06 Mb]COMET ERROR: File could not be uploaded\n",
      " 47%|████▋     | 2962/6300 [1:18:42<1:36:25,  1.73s/it, curr_speed=33.78 Mbps, mb_sent=896.74 Mb]COMET ERROR: File could not be uploaded\n",
      " 47%|████▋     | 2968/6300 [1:18:52<1:27:46,  1.58s/it, curr_speed=33.32 Mbps, mb_sent=898.56 Mb]COMET ERROR: File could not be uploaded\n",
      " 47%|████▋     | 2975/6300 [1:19:03<1:26:09,  1.55s/it, curr_speed=33.24 Mbps, mb_sent=900.86 Mb]COMET ERROR: File could not be uploaded\n",
      " 47%|████▋     | 2985/6300 [1:19:19<1:28:01,  1.59s/it, curr_speed=33.07 Mbps, mb_sent=904.39 Mb]COMET ERROR: File could not be uploaded\n",
      " 47%|████▋     | 2989/6300 [1:19:26<1:30:31,  1.64s/it, curr_speed=33.16 Mbps, mb_sent=905.80 Mb]COMET ERROR: File could not be uploaded\n",
      " 51%|█████     | 3219/6300 [1:25:29<1:18:48,  1.53s/it, curr_speed=32.75 Mbps, mb_sent=982.49 Mb]COMET ERROR: File could not be uploaded\n",
      " 56%|█████▌    | 3503/6300 [1:33:00<1:06:59,  1.44s/it, curr_speed=34.25 Mbps, mb_sent=1079.70 Mb]COMET ERROR: File could not be uploaded\n",
      "COMET ERROR: File could not be uploaded\n",
      " 56%|█████▌    | 3507/6300 [1:33:05<1:09:25,  1.49s/it, curr_speed=34.47 Mbps, mb_sent=1081.15 Mb]COMET ERROR: File could not be uploaded\n",
      " 56%|█████▌    | 3509/6300 [1:33:08<1:04:33,  1.39s/it, curr_speed=34.50 Mbps, mb_sent=1081.93 Mb]COMET ERROR: File could not be uploaded\n",
      " 56%|█████▌    | 3510/6300 [1:33:10<1:06:22,  1.43s/it, curr_speed=34.49 Mbps, mb_sent=1082.28 Mb]COMET ERROR: File could not be uploaded\n",
      " 56%|█████▌    | 3511/6300 [1:33:11<1:05:16,  1.40s/it, curr_speed=34.45 Mbps, mb_sent=1082.64 Mb]COMET ERROR: File could not be uploaded\n",
      " 56%|█████▌    | 3514/6300 [1:33:16<1:19:10,  1.71s/it, curr_speed=34.64 Mbps, mb_sent=1083.81 Mb]COMET ERROR: File could not be uploaded\n",
      " 56%|█████▌    | 3515/6300 [1:33:18<1:15:00,  1.62s/it, curr_speed=34.67 Mbps, mb_sent=1084.17 Mb]COMET ERROR: File could not be uploaded\n",
      " 56%|█████▌    | 3519/6300 [1:33:24<1:07:10,  1.45s/it, curr_speed=34.83 Mbps, mb_sent=1085.68 Mb]COMET ERROR: File could not be uploaded\n",
      " 56%|█████▌    | 3520/6300 [1:33:25<1:12:29,  1.56s/it, curr_speed=34.77 Mbps, mb_sent=1086.05 Mb]COMET ERROR: File could not be uploaded\n",
      " 56%|█████▌    | 3521/6300 [1:33:27<1:11:38,  1.55s/it, curr_speed=34.79 Mbps, mb_sent=1086.45 Mb]COMET ERROR: File could not be uploaded\n",
      " 56%|█████▌    | 3531/6300 [1:33:41<1:08:49,  1.49s/it, curr_speed=34.85 Mbps, mb_sent=1089.72 Mb]COMET ERROR: File could not be uploaded\n",
      " 58%|█████▊    | 3624/6300 [1:36:14<1:13:22,  1.65s/it, curr_speed=34.48 Mbps, mb_sent=1122.04 Mb]COMET ERROR: File could not be uploaded\n",
      " 58%|█████▊    | 3633/6300 [1:36:28<1:05:16,  1.47s/it, curr_speed=34.58 Mbps, mb_sent=1125.00 Mb]COMET ERROR: File could not be uploaded\n",
      " 58%|█████▊    | 3649/6300 [1:36:52<1:02:34,  1.42s/it, curr_speed=34.49 Mbps, mb_sent=1130.41 Mb]COMET ERROR: File could not be uploaded\n",
      " 58%|█████▊    | 3651/6300 [1:36:55<1:08:06,  1.54s/it, curr_speed=34.50 Mbps, mb_sent=1131.13 Mb]COMET ERROR: File could not be uploaded\n",
      " 58%|█████▊    | 3653/6300 [1:36:59<1:13:37,  1.67s/it, curr_speed=34.48 Mbps, mb_sent=1131.82 Mb]COMET ERROR: File could not be uploaded\n",
      " 60%|█████▉    | 3778/6300 [1:40:20<1:03:59,  1.52s/it, curr_speed=32.84 Mbps, mb_sent=1173.29 Mb]COMET ERROR: File could not be uploaded\n",
      "COMET ERROR: File could not be uploaded\n",
      "COMET ERROR: File could not be uploaded\n",
      " 60%|██████    | 3781/6300 [1:40:25<1:09:30,  1.66s/it, curr_speed=32.98 Mbps, mb_sent=1174.42 Mb]COMET ERROR: File could not be uploaded\n",
      " 60%|██████    | 3785/6300 [1:40:31<1:10:01,  1.67s/it, curr_speed=32.96 Mbps, mb_sent=1175.68 Mb]COMET ERROR: File could not be uploaded\n",
      " 60%|██████    | 3790/6300 [1:40:40<1:08:48,  1.64s/it, curr_speed=32.99 Mbps, mb_sent=1177.46 Mb]COMET ERROR: File could not be uploaded\n",
      " 60%|██████    | 3791/6300 [1:40:42<1:10:34,  1.69s/it, curr_speed=33.25 Mbps, mb_sent=1177.84 Mb]COMET ERROR: File could not be uploaded\n",
      " 60%|██████    | 3793/6300 [1:40:47<1:14:39,  1.79s/it, curr_speed=33.26 Mbps, mb_sent=1178.83 Mb]COMET ERROR: File could not be uploaded\n",
      " 60%|██████    | 3796/6300 [1:40:51<1:12:58,  1.75s/it, curr_speed=33.08 Mbps, mb_sent=1179.37 Mb]COMET ERROR: File could not be uploaded\n",
      " 60%|██████    | 3799/6300 [1:40:55<1:02:13,  1.49s/it, curr_speed=32.92 Mbps, mb_sent=1180.23 Mb]COMET ERROR: File could not be uploaded\n",
      " 60%|██████    | 3800/6300 [1:40:57<1:04:21,  1.54s/it, curr_speed=32.94 Mbps, mb_sent=1180.58 Mb]COMET ERROR: File could not be uploaded\n",
      " 60%|██████    | 3801/6300 [1:40:58<1:03:51,  1.53s/it, curr_speed=32.93 Mbps, mb_sent=1180.90 Mb]COMET ERROR: File could not be uploaded\n",
      " 60%|██████    | 3802/6300 [1:41:00<1:04:27,  1.55s/it, curr_speed=32.92 Mbps, mb_sent=1181.25 Mb]COMET ERROR: File could not be uploaded\n",
      " 60%|██████    | 3808/6300 [1:41:09<1:04:19,  1.55s/it, curr_speed=33.53 Mbps, mb_sent=1183.28 Mb]COMET ERROR: File could not be uploaded\n",
      " 61%|██████    | 3828/6300 [1:41:41<1:04:49,  1.57s/it, curr_speed=32.97 Mbps, mb_sent=1189.84 Mb]COMET ERROR: File could not be uploaded\n",
      " 61%|██████    | 3838/6300 [1:41:56<59:29,  1.45s/it, curr_speed=33.10 Mbps, mb_sent=1193.16 Mb]  COMET ERROR: File could not be uploaded\n",
      " 61%|██████    | 3846/6300 [1:42:08<1:00:33,  1.48s/it, curr_speed=33.22 Mbps, mb_sent=1196.08 Mb]COMET ERROR: File could not be uploaded\n",
      " 61%|██████    | 3848/6300 [1:42:11<1:01:09,  1.50s/it, curr_speed=33.33 Mbps, mb_sent=1196.80 Mb]COMET ERROR: File could not be uploaded\n",
      " 61%|██████    | 3855/6300 [1:42:22<1:03:33,  1.56s/it, curr_speed=33.26 Mbps, mb_sent=1199.43 Mb]COMET ERROR: File could not be uploaded\n",
      " 61%|██████▏   | 3861/6300 [1:42:32<1:12:52,  1.79s/it, curr_speed=33.71 Mbps, mb_sent=1201.59 Mb]COMET ERROR: File could not be uploaded\n",
      " 61%|██████▏   | 3867/6300 [1:42:41<1:02:10,  1.53s/it, curr_speed=34.18 Mbps, mb_sent=1203.75 Mb]COMET ERROR: File could not be uploaded\n",
      " 61%|██████▏   | 3869/6300 [1:42:45<1:02:35,  1.54s/it, curr_speed=34.00 Mbps, mb_sent=1204.33 Mb]COMET ERROR: File could not be uploaded\n",
      " 62%|██████▏   | 3883/6300 [1:43:06<1:02:36,  1.55s/it, curr_speed=34.22 Mbps, mb_sent=1209.19 Mb]COMET ERROR: File could not be uploaded\n",
      " 62%|██████▏   | 3893/6300 [1:43:21<1:02:11,  1.55s/it, curr_speed=34.01 Mbps, mb_sent=1212.60 Mb]COMET ERROR: File could not be uploaded\n",
      "100%|██████████| 6300/6300 [2:47:29<00:00,  1.60s/it, curr_speed=34.46 Mbps, mb_sent=2029.69 Mb]  \n"
     ]
    },
    {
     "name": "stdout",
     "output_type": "stream",
     "text": [
      "Waiting for simulation script to connect on port: tcp://localhost:49626\n",
      "Please start proper ns-3 simulation script using ./waf --run \"...\"\n",
      "Waf: Entering directory `/home/samuel/ns-allinone-3.29/ns-3.29/build'\n",
      "Waf: Leaving directory `/home/samuel/ns-allinone-3.29/ns-3.29/build'\n",
      "Build commands will be stored in build/compile_commands.json\n",
      "'build' finished successfully (3.664s)\n"
     ]
    },
    {
     "name": "stderr",
     "output_type": "stream",
     "text": [
      "Ns3Env parameters:\n",
      "--nWifi: 50\n",
      "--simulationTime: 60\n",
      "--openGymPort: 49626\n",
      "--envStepTime: 0.01\n",
      "--seed: 42\n",
      "--agentType: discrete\n",
      "--scenario: basic\n",
      "--dryRun: 0\n",
      "Simulation started\n",
      "Simulation process id: 1954485 (parent (waf shell) id: 1954436)\n",
      "Waiting for Python process to connect on port: tcp://localhost:49626\n",
      "Please start proper Python Gym Agent\n",
      "  0%|          | 0/6300 [00:00<?, ?it/s]"
     ]
    },
    {
     "name": "stdout",
     "output_type": "stream",
     "text": [
      "Sent 2029.69 Mb/s.\tMean speed: 33.83 Mb/s\tEpisode 2/15 finished\n",
      "\n",
      "2\n"
     ]
    },
    {
     "name": "stderr",
     "output_type": "stream",
     "text": [
      "100%|██████████| 6300/6300 [2:40:39<00:00,  1.53s/it, curr_speed=35.63 Mbps, mb_sent=2127.22 Mb]  \n"
     ]
    },
    {
     "name": "stdout",
     "output_type": "stream",
     "text": [
      "Waiting for simulation script to connect on port: tcp://localhost:31270\n",
      "Please start proper ns-3 simulation script using ./waf --run \"...\"\n",
      "Waf: Entering directory `/home/samuel/ns-allinone-3.29/ns-3.29/build'\n",
      "Waf: Leaving directory `/home/samuel/ns-allinone-3.29/ns-3.29/build'\n",
      "Build commands will be stored in build/compile_commands.json\n",
      "'build' finished successfully (2.975s)\n"
     ]
    },
    {
     "name": "stderr",
     "output_type": "stream",
     "text": [
      "Ns3Env parameters:\n",
      "--nWifi: 50\n",
      "--simulationTime: 60\n",
      "--openGymPort: 31270\n",
      "--envStepTime: 0.01\n",
      "--seed: 42\n",
      "--agentType: discrete\n",
      "--scenario: basic\n",
      "--dryRun: 0\n",
      "Simulation started\n",
      "Simulation process id: 2025261 (parent (waf shell) id: 2025229)\n",
      "Waiting for Python process to connect on port: tcp://localhost:31270\n",
      "Please start proper Python Gym Agent\n",
      "  0%|          | 0/6300 [00:00<?, ?it/s]"
     ]
    },
    {
     "name": "stdout",
     "output_type": "stream",
     "text": [
      "Sent 2127.22 Mb/s.\tMean speed: 35.45 Mb/s\tEpisode 3/15 finished\n",
      "\n",
      "3\n"
     ]
    },
    {
     "name": "stderr",
     "output_type": "stream",
     "text": [
      "  5%|▍         | 304/6300 [06:45<2:28:39,  1.49s/it, curr_speed=34.25 Mbps, mb_sent=1.03 Mb]"
     ]
    },
    {
     "name": "stdout",
     "output_type": "stream",
     "text": [
      "------- MEMORY BUFFER FILLED -------\n"
     ]
    },
    {
     "name": "stderr",
     "output_type": "stream",
     "text": [
      "100%|██████████| 6300/6300 [2:28:47<00:00,  1.42s/it, curr_speed=32.19 Mbps, mb_sent=2155.41 Mb]  \n"
     ]
    },
    {
     "name": "stdout",
     "output_type": "stream",
     "text": [
      "Waiting for simulation script to connect on port: tcp://localhost:51937\n",
      "Please start proper ns-3 simulation script using ./waf --run \"...\"\n",
      "Waf: Entering directory `/home/samuel/ns-allinone-3.29/ns-3.29/build'\n",
      "Waf: Leaving directory `/home/samuel/ns-allinone-3.29/ns-3.29/build'\n",
      "Build commands will be stored in build/compile_commands.json\n",
      "'build' finished successfully (3.271s)\n"
     ]
    },
    {
     "name": "stderr",
     "output_type": "stream",
     "text": [
      "Ns3Env parameters:\n",
      "--nWifi: 50\n",
      "--simulationTime: 60\n",
      "--openGymPort: 51937\n",
      "--envStepTime: 0.01\n",
      "--seed: 42\n",
      "--agentType: discrete\n",
      "--scenario: basic\n",
      "--dryRun: 0\n",
      "Simulation started\n",
      "Simulation process id: 2074287 (parent (waf shell) id: 2074256)\n",
      "Waiting for Python process to connect on port: tcp://localhost:51937\n",
      "Please start proper Python Gym Agent\n",
      "  0%|          | 0/6300 [00:00<?, ?it/s]"
     ]
    },
    {
     "name": "stdout",
     "output_type": "stream",
     "text": [
      "Sent 2155.41 Mb/s.\tMean speed: 35.92 Mb/s\tEpisode 4/15 finished\n",
      "\n",
      "4\n"
     ]
    },
    {
     "name": "stderr",
     "output_type": "stream",
     "text": [
      "100%|██████████| 6300/6300 [2:38:43<00:00,  1.51s/it, curr_speed=36.31 Mbps, mb_sent=2184.18 Mb]  \n"
     ]
    },
    {
     "name": "stdout",
     "output_type": "stream",
     "text": [
      "Waiting for simulation script to connect on port: tcp://localhost:21985\n",
      "Please start proper ns-3 simulation script using ./waf --run \"...\"\n",
      "Waf: Entering directory `/home/samuel/ns-allinone-3.29/ns-3.29/build'\n",
      "Waf: Leaving directory `/home/samuel/ns-allinone-3.29/ns-3.29/build'\n",
      "Build commands will be stored in build/compile_commands.json\n",
      "'build' finished successfully (3.369s)\n"
     ]
    },
    {
     "name": "stderr",
     "output_type": "stream",
     "text": [
      "Ns3Env parameters:\n",
      "--nWifi: 50\n",
      "--simulationTime: 60\n",
      "--openGymPort: 21985\n",
      "--envStepTime: 0.01\n",
      "--seed: 42\n",
      "--agentType: discrete\n",
      "--scenario: basic\n",
      "--dryRun: 0\n",
      "Simulation started\n",
      "Simulation process id: 2125439 (parent (waf shell) id: 2125412)\n",
      "Waiting for Python process to connect on port: tcp://localhost:21985\n",
      "Please start proper Python Gym Agent\n",
      "  0%|          | 0/6300 [00:00<?, ?it/s]"
     ]
    },
    {
     "name": "stdout",
     "output_type": "stream",
     "text": [
      "Sent 2184.18 Mb/s.\tMean speed: 36.40 Mb/s\tEpisode 5/15 finished\n",
      "\n",
      "5\n"
     ]
    },
    {
     "name": "stderr",
     "output_type": "stream",
     "text": [
      "100%|██████████| 6300/6300 [2:31:20<00:00,  1.44s/it, curr_speed=36.02 Mbps, mb_sent=2202.69 Mb]  \n"
     ]
    },
    {
     "name": "stdout",
     "output_type": "stream",
     "text": [
      "Waiting for simulation script to connect on port: tcp://localhost:43189\n",
      "Please start proper ns-3 simulation script using ./waf --run \"...\"\n",
      "Waf: Entering directory `/home/samuel/ns-allinone-3.29/ns-3.29/build'\n",
      "Waf: Leaving directory `/home/samuel/ns-allinone-3.29/ns-3.29/build'\n",
      "Build commands will be stored in build/compile_commands.json\n",
      "'build' finished successfully (3.055s)\n"
     ]
    },
    {
     "name": "stderr",
     "output_type": "stream",
     "text": [
      "Ns3Env parameters:\n",
      "--nWifi: 50\n",
      "--simulationTime: 60\n",
      "--openGymPort: 43189\n",
      "--envStepTime: 0.01\n",
      "--seed: 42\n",
      "--agentType: discrete\n",
      "--scenario: basic\n",
      "--dryRun: 0\n",
      "Simulation started\n",
      "Simulation process id: 2164760 (parent (waf shell) id: 2164736)\n",
      "Waiting for Python process to connect on port: tcp://localhost:43189\n",
      "Please start proper Python Gym Agent\n",
      "  0%|          | 0/6300 [00:00<?, ?it/s]"
     ]
    },
    {
     "name": "stdout",
     "output_type": "stream",
     "text": [
      "Sent 2202.69 Mb/s.\tMean speed: 36.71 Mb/s\tEpisode 6/15 finished\n",
      "\n",
      "6\n"
     ]
    },
    {
     "name": "stderr",
     "output_type": "stream",
     "text": [
      "100%|██████████| 6300/6300 [2:26:15<00:00,  1.39s/it, curr_speed=37.29 Mbps, mb_sent=2225.55 Mb]  \n"
     ]
    },
    {
     "name": "stdout",
     "output_type": "stream",
     "text": [
      "Waiting for simulation script to connect on port: tcp://localhost:19699\n",
      "Please start proper ns-3 simulation script using ./waf --run \"...\"\n",
      "Waf: Entering directory `/home/samuel/ns-allinone-3.29/ns-3.29/build'\n",
      "Waf: Leaving directory `/home/samuel/ns-allinone-3.29/ns-3.29/build'\n",
      "Build commands will be stored in build/compile_commands.json\n",
      "'build' finished successfully (3.297s)\n"
     ]
    },
    {
     "name": "stderr",
     "output_type": "stream",
     "text": [
      "Ns3Env parameters:\n",
      "--nWifi: 50\n",
      "--simulationTime: 60\n",
      "--openGymPort: 19699\n",
      "--envStepTime: 0.01\n",
      "--seed: 42\n",
      "--agentType: discrete\n",
      "--scenario: basic\n",
      "--dryRun: 0\n",
      "Simulation started\n",
      "Simulation process id: 2198751 (parent (waf shell) id: 2198725)\n",
      "Waiting for Python process to connect on port: tcp://localhost:19699\n",
      "Please start proper Python Gym Agent\n",
      "  0%|          | 0/6300 [00:00<?, ?it/s]"
     ]
    },
    {
     "name": "stdout",
     "output_type": "stream",
     "text": [
      "Sent 2225.55 Mb/s.\tMean speed: 37.09 Mb/s\tEpisode 7/15 finished\n",
      "\n",
      "7\n"
     ]
    },
    {
     "name": "stderr",
     "output_type": "stream",
     "text": [
      " 21%|██        | 1298/6300 [29:51<1:50:36,  1.33s/it, curr_speed=37.29 Mbps, mb_sent=369.85 Mb]COMET ERROR: File could not be uploaded\n",
      " 21%|██        | 1306/6300 [30:02<1:52:52,  1.36s/it, curr_speed=37.37 Mbps, mb_sent=372.91 Mb]COMET ERROR: File could not be uploaded\n",
      "COMET ERROR: File could not be uploaded\n",
      "COMET ERROR: File could not be uploaded\n",
      "COMET ERROR: File could not be uploaded\n",
      "COMET ERROR: File could not be uploaded\n",
      "COMET ERROR: File could not be uploaded\n",
      "COMET ERROR: File could not be uploaded\n",
      " 22%|██▏       | 1396/6300 [32:03<1:44:58,  1.28s/it, curr_speed=37.13 Mbps, mb_sent=406.24 Mb]COMET ERROR: File could not be uploaded\n",
      " 31%|███▏      | 1982/6300 [45:41<1:36:42,  1.34s/it, curr_speed=37.08 Mbps, mb_sent=623.63 Mb]COMET ERROR: File could not be uploaded\n",
      "100%|██████████| 6300/6300 [2:26:16<00:00,  1.39s/it, curr_speed=37.46 Mbps, mb_sent=2230.17 Mb]  \n"
     ]
    },
    {
     "name": "stdout",
     "output_type": "stream",
     "text": [
      "Waiting for simulation script to connect on port: tcp://localhost:41384\n",
      "Please start proper ns-3 simulation script using ./waf --run \"...\"\n",
      "Waf: Entering directory `/home/samuel/ns-allinone-3.29/ns-3.29/build'\n",
      "Waf: Leaving directory `/home/samuel/ns-allinone-3.29/ns-3.29/build'\n",
      "Build commands will be stored in build/compile_commands.json\n",
      "'build' finished successfully (3.019s)\n"
     ]
    },
    {
     "name": "stderr",
     "output_type": "stream",
     "text": [
      "Ns3Env parameters:\n",
      "--nWifi: 50\n",
      "--simulationTime: 60\n",
      "--openGymPort: 41384\n",
      "--envStepTime: 0.01\n",
      "--seed: 42\n",
      "--agentType: discrete\n",
      "--scenario: basic\n",
      "--dryRun: 0\n",
      "Simulation started\n",
      "Simulation process id: 2233146 (parent (waf shell) id: 2233121)\n",
      "Waiting for Python process to connect on port: tcp://localhost:41384\n",
      "Please start proper Python Gym Agent\n",
      "  0%|          | 0/6300 [00:00<?, ?it/s]"
     ]
    },
    {
     "name": "stdout",
     "output_type": "stream",
     "text": [
      "Sent 2230.17 Mb/s.\tMean speed: 37.17 Mb/s\tEpisode 8/15 finished\n",
      "\n",
      "8\n"
     ]
    },
    {
     "name": "stderr",
     "output_type": "stream",
     "text": [
      "100%|██████████| 6300/6300 [2:26:47<00:00,  1.40s/it, curr_speed=36.09 Mbps, mb_sent=2217.70 Mb]  \n"
     ]
    },
    {
     "name": "stdout",
     "output_type": "stream",
     "text": [
      "Waiting for simulation script to connect on port: tcp://localhost:20203\n",
      "Please start proper ns-3 simulation script using ./waf --run \"...\"\n",
      "Waf: Entering directory `/home/samuel/ns-allinone-3.29/ns-3.29/build'\n",
      "Waf: Leaving directory `/home/samuel/ns-allinone-3.29/ns-3.29/build'\n",
      "Build commands will be stored in build/compile_commands.json\n",
      "'build' finished successfully (3.173s)\n"
     ]
    },
    {
     "name": "stderr",
     "output_type": "stream",
     "text": [
      "Ns3Env parameters:\n",
      "--nWifi: 50\n",
      "--simulationTime: 60\n",
      "--openGymPort: 20203\n",
      "--envStepTime: 0.01\n",
      "--seed: 42\n",
      "--agentType: discrete\n",
      "--scenario: basic\n",
      "--dryRun: 0\n",
      "Simulation started\n",
      "Simulation process id: 2267559 (parent (waf shell) id: 2267534)\n",
      "Waiting for Python process to connect on port: tcp://localhost:20203\n",
      "Please start proper Python Gym Agent\n",
      "  0%|          | 0/6300 [00:00<?, ?it/s]"
     ]
    },
    {
     "name": "stdout",
     "output_type": "stream",
     "text": [
      "Sent 2217.70 Mb/s.\tMean speed: 36.96 Mb/s\tEpisode 9/15 finished\n",
      "\n",
      "9\n"
     ]
    },
    {
     "name": "stderr",
     "output_type": "stream",
     "text": [
      "100%|██████████| 6300/6300 [2:13:41<00:00,  1.27s/it, curr_speed=36.68 Mbps, mb_sent=2235.60 Mb]  \n"
     ]
    },
    {
     "name": "stdout",
     "output_type": "stream",
     "text": [
      "Waiting for simulation script to connect on port: tcp://localhost:40284\n",
      "Please start proper ns-3 simulation script using ./waf --run \"...\"\n",
      "Waf: Entering directory `/home/samuel/ns-allinone-3.29/ns-3.29/build'\n",
      "Waf: Leaving directory `/home/samuel/ns-allinone-3.29/ns-3.29/build'\n",
      "Build commands will be stored in build/compile_commands.json\n",
      "'build' finished successfully (2.688s)\n"
     ]
    },
    {
     "name": "stderr",
     "output_type": "stream",
     "text": [
      "Ns3Env parameters:\n",
      "--nWifi: 50\n",
      "--simulationTime: 60\n",
      "--openGymPort: 40284\n",
      "--envStepTime: 0.01\n",
      "--seed: 42\n",
      "--agentType: discrete\n",
      "--scenario: basic\n",
      "--dryRun: 0\n",
      "Simulation started\n",
      "Simulation process id: 2295310 (parent (waf shell) id: 2295288)\n",
      "Waiting for Python process to connect on port: tcp://localhost:40284\n",
      "Please start proper Python Gym Agent\n",
      "  0%|          | 0/6300 [00:00<?, ?it/s]"
     ]
    },
    {
     "name": "stdout",
     "output_type": "stream",
     "text": [
      "Sent 2235.60 Mb/s.\tMean speed: 37.26 Mb/s\tEpisode 10/15 finished\n",
      "\n",
      "10\n"
     ]
    },
    {
     "name": "stderr",
     "output_type": "stream",
     "text": [
      " 92%|█████████▏| 5773/6300 [2:01:30<11:40,  1.33s/it, curr_speed=37.43 Mbps, mb_sent=2040.24 Mb]  COMET ERROR: File could not be uploaded\n",
      " 92%|█████████▏| 5791/6300 [2:01:56<12:07,  1.43s/it, curr_speed=37.38 Mbps, mb_sent=2046.97 Mb]COMET ERROR: File could not be uploaded\n",
      "COMET ERROR: File could not be uploaded\n",
      " 92%|█████████▏| 5797/6300 [2:02:04<11:33,  1.38s/it, curr_speed=37.36 Mbps, mb_sent=2049.19 Mb]COMET ERROR: File could not be uploaded\n",
      " 92%|█████████▏| 5799/6300 [2:02:07<11:24,  1.37s/it, curr_speed=37.33 Mbps, mb_sent=2049.88 Mb]COMET ERROR: File could not be uploaded\n",
      " 92%|█████████▏| 5803/6300 [2:02:12<10:51,  1.31s/it, curr_speed=37.38 Mbps, mb_sent=2051.38 Mb]COMET ERROR: File could not be uploaded\n",
      " 92%|█████████▏| 5817/6300 [2:02:32<10:47,  1.34s/it, curr_speed=37.27 Mbps, mb_sent=2056.49 Mb]COMET ERROR: File could not be uploaded\n",
      " 92%|█████████▏| 5826/6300 [2:02:44<10:47,  1.37s/it, curr_speed=37.33 Mbps, mb_sent=2059.90 Mb]COMET ERROR: File could not be uploaded\n",
      " 93%|█████████▎| 5829/6300 [2:02:49<11:31,  1.47s/it, curr_speed=37.35 Mbps, mb_sent=2061.03 Mb]COMET ERROR: File could not be uploaded\n",
      " 93%|█████████▎| 5830/6300 [2:02:51<11:35,  1.48s/it, curr_speed=37.28 Mbps, mb_sent=2061.36 Mb]COMET ERROR: File could not be uploaded\n",
      " 93%|█████████▎| 5833/6300 [2:02:55<11:48,  1.52s/it, curr_speed=37.28 Mbps, mb_sent=2062.44 Mb]COMET ERROR: File could not be uploaded\n",
      " 93%|█████████▎| 5835/6300 [2:02:58<11:24,  1.47s/it, curr_speed=37.31 Mbps, mb_sent=2063.22 Mb]COMET ERROR: File could not be uploaded\n",
      " 93%|█████████▎| 5851/6300 [2:03:21<10:40,  1.43s/it, curr_speed=37.37 Mbps, mb_sent=2069.27 Mb]COMET ERROR: File could not be uploaded\n",
      "COMET ERROR: File could not be uploaded\n",
      "COMET ERROR: File could not be uploaded\n",
      " 93%|█████████▎| 5855/6300 [2:03:26<10:15,  1.38s/it, curr_speed=37.34 Mbps, mb_sent=2070.67 Mb]COMET ERROR: File could not be uploaded\n",
      " 93%|█████████▎| 5866/6300 [2:03:42<09:52,  1.37s/it, curr_speed=37.16 Mbps, mb_sent=2074.79 Mb]COMET ERROR: File could not be uploaded\n",
      " 93%|█████████▎| 5869/6300 [2:03:45<09:20,  1.30s/it, curr_speed=37.14 Mbps, mb_sent=2075.90 Mb]COMET ERROR: File could not be uploaded\n",
      " 93%|█████████▎| 5870/6300 [2:03:47<09:09,  1.28s/it, curr_speed=37.14 Mbps, mb_sent=2076.23 Mb]COMET ERROR: File could not be uploaded\n",
      " 93%|█████████▎| 5876/6300 [2:03:55<10:22,  1.47s/it, curr_speed=37.10 Mbps, mb_sent=2078.46 Mb]COMET ERROR: File could not be uploaded\n",
      " 93%|█████████▎| 5882/6300 [2:04:03<09:47,  1.40s/it, curr_speed=36.89 Mbps, mb_sent=2080.59 Mb]COMET ERROR: File could not be uploaded\n",
      " 94%|█████████▎| 5896/6300 [2:04:22<08:24,  1.25s/it, curr_speed=36.93 Mbps, mb_sent=2085.77 Mb]COMET ERROR: File could not be uploaded\n",
      " 94%|█████████▎| 5897/6300 [2:04:23<08:41,  1.29s/it, curr_speed=36.97 Mbps, mb_sent=2086.16 Mb]COMET ERROR: File could not be uploaded\n",
      "COMET ERROR: File could not be uploaded\n",
      " 94%|█████████▎| 5898/6300 [2:04:25<09:49,  1.47s/it, curr_speed=36.98 Mbps, mb_sent=2086.52 Mb]COMET ERROR: File could not be uploaded\n",
      "COMET ERROR: File could not be uploaded\n",
      "100%|██████████| 6300/6300 [2:13:49<00:00,  1.27s/it, curr_speed=37.64 Mbps, mb_sent=2236.86 Mb]\n"
     ]
    },
    {
     "name": "stdout",
     "output_type": "stream",
     "text": [
      "Waiting for simulation script to connect on port: tcp://localhost:24364\n",
      "Please start proper ns-3 simulation script using ./waf --run \"...\"\n",
      "Waf: Entering directory `/home/samuel/ns-allinone-3.29/ns-3.29/build'\n",
      "Waf: Leaving directory `/home/samuel/ns-allinone-3.29/ns-3.29/build'\n",
      "Build commands will be stored in build/compile_commands.json\n",
      "'build' finished successfully (3.032s)\n"
     ]
    },
    {
     "name": "stderr",
     "output_type": "stream",
     "text": [
      "Ns3Env parameters:\n",
      "--nWifi: 50\n",
      "--simulationTime: 60\n",
      "--openGymPort: 24364\n",
      "--envStepTime: 0.01\n",
      "--seed: 42\n",
      "--agentType: discrete\n",
      "--scenario: basic\n",
      "--dryRun: 0\n",
      "Simulation started\n",
      "Simulation process id: 2322182 (parent (waf shell) id: 2322159)\n",
      "Waiting for Python process to connect on port: tcp://localhost:24364\n",
      "Please start proper Python Gym Agent\n",
      "  0%|          | 0/6300 [00:00<?, ?it/s]"
     ]
    },
    {
     "name": "stdout",
     "output_type": "stream",
     "text": [
      "Sent 2236.86 Mb/s.\tMean speed: 37.28 Mb/s\tEpisode 11/15 finished\n",
      "\n",
      "11\n"
     ]
    },
    {
     "name": "stderr",
     "output_type": "stream",
     "text": [
      "100%|██████████| 6300/6300 [2:27:38<00:00,  1.41s/it, curr_speed=37.82 Mbps, mb_sent=2236.75 Mb]  \n"
     ]
    },
    {
     "name": "stdout",
     "output_type": "stream",
     "text": [
      "Waiting for simulation script to connect on port: tcp://localhost:29192\n",
      "Please start proper ns-3 simulation script using ./waf --run \"...\"\n",
      "Waf: Entering directory `/home/samuel/ns-allinone-3.29/ns-3.29/build'\n",
      "Waf: Leaving directory `/home/samuel/ns-allinone-3.29/ns-3.29/build'\n",
      "Build commands will be stored in build/compile_commands.json\n",
      "'build' finished successfully (2.993s)\n"
     ]
    },
    {
     "name": "stderr",
     "output_type": "stream",
     "text": [
      "Ns3Env parameters:\n",
      "--nWifi: 50\n",
      "--simulationTime: 60\n",
      "--openGymPort: 29192\n",
      "--envStepTime: 0.01\n",
      "--seed: 42\n",
      "--agentType: discrete\n",
      "--scenario: basic\n",
      "--dryRun: 0\n",
      "Simulation started\n"
     ]
    },
    {
     "name": "stdout",
     "output_type": "stream",
     "text": [
      "WARNING:tensorflow:From /home/samuel/anaconda3/envs/myEnv3_7/lib/python3.7/site-packages/tensorflow/python/training/saver.py:960: remove_checkpoint (from tensorflow.python.training.checkpoint_management) is deprecated and will be removed in a future version.\n",
      "Instructions for updating:\n",
      "Use standard file APIs to delete files with this prefix.\n"
     ]
    },
    {
     "name": "stderr",
     "output_type": "stream",
     "text": [
      "Simulation process id: 2356332 (parent (waf shell) id: 2356308)\n",
      "Waiting for Python process to connect on port: tcp://localhost:29192\n",
      "Please start proper Python Gym Agent\n",
      "  0%|          | 0/6300 [00:00<?, ?it/s]"
     ]
    },
    {
     "name": "stdout",
     "output_type": "stream",
     "text": [
      "Sent 2236.75 Mb/s.\tMean speed: 37.28 Mb/s\tEpisode 12/15 finished\n",
      "\n",
      "12\n",
      "Turning off noise\n"
     ]
    },
    {
     "name": "stderr",
     "output_type": "stream",
     "text": [
      "100%|██████████| 6300/6300 [2:25:47<00:00,  1.39s/it, curr_speed=37.38 Mbps, mb_sent=2234.45 Mb]  \n"
     ]
    },
    {
     "name": "stdout",
     "output_type": "stream",
     "text": [
      "Waiting for simulation script to connect on port: tcp://localhost:44201\n",
      "Please start proper ns-3 simulation script using ./waf --run \"...\"\n",
      "Waf: Entering directory `/home/samuel/ns-allinone-3.29/ns-3.29/build'\n",
      "Waf: Leaving directory `/home/samuel/ns-allinone-3.29/ns-3.29/build'\n",
      "Build commands will be stored in build/compile_commands.json\n",
      "'build' finished successfully (3.056s)\n"
     ]
    },
    {
     "name": "stderr",
     "output_type": "stream",
     "text": [
      "Ns3Env parameters:\n",
      "--nWifi: 50\n",
      "--simulationTime: 60\n",
      "--openGymPort: 44201\n",
      "--envStepTime: 0.01\n",
      "--seed: 42\n",
      "--agentType: discrete\n",
      "--scenario: basic\n",
      "--dryRun: 0\n",
      "Simulation started\n",
      "Simulation process id: 2390719 (parent (waf shell) id: 2390697)\n",
      "Waiting for Python process to connect on port: tcp://localhost:44201\n",
      "Please start proper Python Gym Agent\n",
      "  0%|          | 0/6300 [00:00<?, ?it/s]"
     ]
    },
    {
     "name": "stdout",
     "output_type": "stream",
     "text": [
      "Sent 2234.45 Mb/s.\tMean speed: 37.24 Mb/s\tEpisode 13/15 finished\n",
      "\n",
      "13\n",
      "Turning off noise\n"
     ]
    },
    {
     "name": "stderr",
     "output_type": "stream",
     "text": [
      "100%|██████████| 6300/6300 [2:27:04<00:00,  1.40s/it, curr_speed=37.31 Mbps, mb_sent=2238.88 Mb]  \n"
     ]
    },
    {
     "name": "stdout",
     "output_type": "stream",
     "text": [
      "Waiting for simulation script to connect on port: tcp://localhost:44760\n",
      "Please start proper ns-3 simulation script using ./waf --run \"...\"\n",
      "Waf: Entering directory `/home/samuel/ns-allinone-3.29/ns-3.29/build'\n",
      "Waf: Leaving directory `/home/samuel/ns-allinone-3.29/ns-3.29/build'\n",
      "Build commands will be stored in build/compile_commands.json\n",
      "'build' finished successfully (2.948s)\n"
     ]
    },
    {
     "name": "stderr",
     "output_type": "stream",
     "text": [
      "Ns3Env parameters:\n",
      "--nWifi: 50\n",
      "--simulationTime: 60\n",
      "--openGymPort: 44760\n",
      "--envStepTime: 0.01\n",
      "--seed: 42\n",
      "--agentType: discrete\n",
      "--scenario: basic\n",
      "--dryRun: 0\n",
      "Simulation started\n",
      "Simulation process id: 2424752 (parent (waf shell) id: 2424729)\n",
      "Waiting for Python process to connect on port: tcp://localhost:44760\n",
      "Please start proper Python Gym Agent\n",
      "  0%|          | 0/6300 [00:00<?, ?it/s]"
     ]
    },
    {
     "name": "stdout",
     "output_type": "stream",
     "text": [
      "Sent 2238.88 Mb/s.\tMean speed: 37.31 Mb/s\tEpisode 14/15 finished\n",
      "\n",
      "14\n",
      "Turning off noise\n"
     ]
    },
    {
     "name": "stderr",
     "output_type": "stream",
     "text": [
      "100%|██████████| 6300/6300 [2:22:49<00:00,  1.36s/it, curr_speed=37.40 Mbps, mb_sent=2249.60 Mb]  \n"
     ]
    },
    {
     "name": "stdout",
     "output_type": "stream",
     "text": [
      "Waiting for simulation script to connect on port: tcp://localhost:26433\n",
      "Please start proper ns-3 simulation script using ./waf --run \"...\"\n",
      "Waf: Entering directory `/home/samuel/ns-allinone-3.29/ns-3.29/build'\n",
      "Waf: Leaving directory `/home/samuel/ns-allinone-3.29/ns-3.29/build'\n",
      "Build commands will be stored in build/compile_commands.json\n",
      "'build' finished successfully (3.155s)\n"
     ]
    },
    {
     "name": "stderr",
     "output_type": "stream",
     "text": [
      "Ns3Env parameters:\n",
      "--nWifi: 50\n",
      "--simulationTime: 60\n",
      "--openGymPort: 26433\n",
      "--envStepTime: 0.01\n",
      "--seed: 42\n",
      "--agentType: discrete\n",
      "--scenario: basic\n",
      "--dryRun: 0\n",
      "Simulation started\n",
      "Simulation process id: 2458315 (parent (waf shell) id: 2458291)\n",
      "Waiting for Python process to connect on port: tcp://localhost:26433\n",
      "Please start proper Python Gym Agent\n",
      "COMET INFO: ----------------------------\n",
      "COMET INFO: Comet.ml Experiment Summary:\n",
      "COMET INFO:   Data:\n",
      "COMET INFO:     url: https://www.comet.com/sheila-janota/rl-in-wifi-with-queue-level/592e2a61dd34440394096e5ae21e7182\n",
      "COMET INFO:   Metrics [count] (min, max):\n",
      "COMET INFO:     Chosen CW [89985]           : (16.0, 1024.0)\n",
      "COMET INFO:     Cumulative reward [15]      : (2597.23583984375, 3132.2666015625)\n",
      "COMET INFO:     Current throughput [89985]  : (17.49880027770996, 49.089656829833984)\n",
      "COMET INFO:     Fairness index [89985]      : (0.9478409886360168, 0.9997599720954895)\n",
      "COMET INFO:     Megabytes sent [89985]      : (0.18987999856472015, 2249.602014183998)\n",
      "COMET INFO:     Observation 0 [89985]       : (0.8520277758936088, 0.9747343103090922)\n",
      "COMET INFO:     Observation 1 [89985]       : (0.0024303042167844614, 0.1332398485466853)\n",
      "COMET INFO:     Per-ep reward [89985]       : (79.451904296875, 3132.2666015625)\n",
      "COMET INFO:     Round megabytes sent [89985]: (0.0, 11.8619384765625)\n",
      "COMET INFO:     Round reward [89985]        : (0.0, 0.80419921875)\n",
      "COMET INFO:     Speed [15]                  : (30.970977856156725, 37.49336690306664)\n",
      "COMET INFO:     Station count [89985]       : (50.0, 50.0)\n",
      "COMET INFO:     loss [89985]                : (0.0, 0.19248241931200027)\n",
      "COMET INFO:   Uploads:\n",
      "COMET INFO:     histogram3d: 89985\n",
      "COMET INFO: ----------------------------\n",
      "COMET INFO: Uploading stats to Comet before program termination (may take several seconds)\n"
     ]
    },
    {
     "name": "stdout",
     "output_type": "stream",
     "text": [
      "Sent 2249.60 Mb/s.\tMean speed: 37.49 Mb/s\tEpisode 15/15 finished\n",
      "\n",
      "Training finished.\n"
     ]
    }
   ],
   "source": [
    "#%%\n",
    "teacher = Teacher(env, 1, Preprocessor(False))\n",
    "\n",
    "lr = 4e-4\n",
    "config = Config(buffer_size=3*steps_per_ep*threads_no, batch_size=32, gamma=0.7, tau=1e-3, lr=lr, update_every=1)\n",
    "agent = Agent(QNetworkTf, history_length, action_size=7, config=config)\n",
    "agent.set_epsilon(0.9, 0.001, EPISODE_COUNT-2)\n",
    "\n",
    "# Test the model\n",
    "hyperparams = {**config.__dict__, **sim_args}\n",
    "tags = [\"Rew: normalized speed\",\n",
    "        \"Final\",\n",
    "        f\"{Agent.NAME}\",\n",
    "        sim_args['scenario'],\n",
    "        f\"LR: {lr}\",\n",
    "        f\"Instances: {threads_no}\",\n",
    "        f\"Station count: {sim_args['nWifi']}\",\n",
    "        *[f\"{key}: {sim_args[key]}\" for key in list(sim_args)[:3]]]\n",
    "# # agent.save()\n",
    "logger = teacher.train(agent, EPISODE_COUNT,\n",
    "                        simTime=simTime,\n",
    "                        stepTime=stepTime,\n",
    "                        history_length=history_length,\n",
    "                        send_logs=True,\n",
    "                        experimental=True,\n",
    "                        tags=tags,\n",
    "                        parameters=hyperparams)\n",
    "#logger = teacher.eval(agent,\n",
    "#                        simTime=simTime,\n",
    "#                        stepTime=stepTime,\n",
    "#                        history_length=history_length,\n",
    "#                        tags=tags,\n",
    "#                        parameters=hyperparams)\n",
    "# agent.save()\n",
    "\n",
    "\n",
    "# %%"
   ]
  },
  {
   "cell_type": "code",
   "execution_count": null,
   "id": "f4667fbe",
   "metadata": {},
   "outputs": [],
   "source": []
  },
  {
   "cell_type": "markdown",
   "id": "f84726c2",
   "metadata": {},
   "source": [
    "# Execution num3:"
   ]
  },
  {
   "cell_type": "code",
   "execution_count": 1,
   "id": "aa05d153",
   "metadata": {},
   "outputs": [
    {
     "name": "stderr",
     "output_type": "stream",
     "text": [
      "/home/samuel/anaconda3/envs/myEnv3_7/lib/python3.7/site-packages/tensorflow/python/framework/dtypes.py:516: FutureWarning: Passing (type, 1) or '1type' as a synonym of type is deprecated; in a future version of numpy, it will be understood as (type, (1,)) / '(1,)type'.\n",
      "  _np_qint8 = np.dtype([(\"qint8\", np.int8, 1)])\n",
      "/home/samuel/anaconda3/envs/myEnv3_7/lib/python3.7/site-packages/tensorflow/python/framework/dtypes.py:517: FutureWarning: Passing (type, 1) or '1type' as a synonym of type is deprecated; in a future version of numpy, it will be understood as (type, (1,)) / '(1,)type'.\n",
      "  _np_quint8 = np.dtype([(\"quint8\", np.uint8, 1)])\n",
      "/home/samuel/anaconda3/envs/myEnv3_7/lib/python3.7/site-packages/tensorflow/python/framework/dtypes.py:518: FutureWarning: Passing (type, 1) or '1type' as a synonym of type is deprecated; in a future version of numpy, it will be understood as (type, (1,)) / '(1,)type'.\n",
      "  _np_qint16 = np.dtype([(\"qint16\", np.int16, 1)])\n",
      "/home/samuel/anaconda3/envs/myEnv3_7/lib/python3.7/site-packages/tensorflow/python/framework/dtypes.py:519: FutureWarning: Passing (type, 1) or '1type' as a synonym of type is deprecated; in a future version of numpy, it will be understood as (type, (1,)) / '(1,)type'.\n",
      "  _np_quint16 = np.dtype([(\"quint16\", np.uint16, 1)])\n",
      "/home/samuel/anaconda3/envs/myEnv3_7/lib/python3.7/site-packages/tensorflow/python/framework/dtypes.py:520: FutureWarning: Passing (type, 1) or '1type' as a synonym of type is deprecated; in a future version of numpy, it will be understood as (type, (1,)) / '(1,)type'.\n",
      "  _np_qint32 = np.dtype([(\"qint32\", np.int32, 1)])\n",
      "/home/samuel/anaconda3/envs/myEnv3_7/lib/python3.7/site-packages/tensorflow/python/framework/dtypes.py:525: FutureWarning: Passing (type, 1) or '1type' as a synonym of type is deprecated; in a future version of numpy, it will be understood as (type, (1,)) / '(1,)type'.\n",
      "  np_resource = np.dtype([(\"resource\", np.ubyte, 1)])\n",
      "/home/samuel/anaconda3/envs/myEnv3_7/lib/python3.7/site-packages/tensorboard/compat/tensorflow_stub/dtypes.py:541: FutureWarning: Passing (type, 1) or '1type' as a synonym of type is deprecated; in a future version of numpy, it will be understood as (type, (1,)) / '(1,)type'.\n",
      "  _np_qint8 = np.dtype([(\"qint8\", np.int8, 1)])\n",
      "/home/samuel/anaconda3/envs/myEnv3_7/lib/python3.7/site-packages/tensorboard/compat/tensorflow_stub/dtypes.py:542: FutureWarning: Passing (type, 1) or '1type' as a synonym of type is deprecated; in a future version of numpy, it will be understood as (type, (1,)) / '(1,)type'.\n",
      "  _np_quint8 = np.dtype([(\"quint8\", np.uint8, 1)])\n",
      "/home/samuel/anaconda3/envs/myEnv3_7/lib/python3.7/site-packages/tensorboard/compat/tensorflow_stub/dtypes.py:543: FutureWarning: Passing (type, 1) or '1type' as a synonym of type is deprecated; in a future version of numpy, it will be understood as (type, (1,)) / '(1,)type'.\n",
      "  _np_qint16 = np.dtype([(\"qint16\", np.int16, 1)])\n",
      "/home/samuel/anaconda3/envs/myEnv3_7/lib/python3.7/site-packages/tensorboard/compat/tensorflow_stub/dtypes.py:544: FutureWarning: Passing (type, 1) or '1type' as a synonym of type is deprecated; in a future version of numpy, it will be understood as (type, (1,)) / '(1,)type'.\n",
      "  _np_quint16 = np.dtype([(\"quint16\", np.uint16, 1)])\n",
      "/home/samuel/anaconda3/envs/myEnv3_7/lib/python3.7/site-packages/tensorboard/compat/tensorflow_stub/dtypes.py:545: FutureWarning: Passing (type, 1) or '1type' as a synonym of type is deprecated; in a future version of numpy, it will be understood as (type, (1,)) / '(1,)type'.\n",
      "  _np_qint32 = np.dtype([(\"qint32\", np.int32, 1)])\n",
      "/home/samuel/anaconda3/envs/myEnv3_7/lib/python3.7/site-packages/tensorboard/compat/tensorflow_stub/dtypes.py:550: FutureWarning: Passing (type, 1) or '1type' as a synonym of type is deprecated; in a future version of numpy, it will be understood as (type, (1,)) / '(1,)type'.\n",
      "  np_resource = np.dtype([(\"resource\", np.ubyte, 1)])\n"
     ]
    }
   ],
   "source": [
    "#%%\n",
    "from ns3gym import ns3env\n",
    "from comet_ml import Experiment, Optimizer\n",
    "import tqdm\n",
    "import subprocess\n",
    "from collections import deque\n",
    "import numpy as np\n",
    "\n",
    "from agents.dqn.agent import Agent, Config\n",
    "from agents.dqn.model import QNetworkTf\n",
    "from agents.teacher import Teacher, EnvWrapper\n",
    "from preprocessor import Preprocessor"
   ]
  },
  {
   "cell_type": "code",
   "execution_count": 2,
   "id": "dd6992de",
   "metadata": {},
   "outputs": [
    {
     "name": "stdout",
     "output_type": "stream",
     "text": [
      "Steps per episode: 6000\n",
      "Waiting for simulation script to connect on port: tcp://localhost:15644\n",
      "Please start proper ns-3 simulation script using ./waf --run \"...\"\n",
      "Waf: Entering directory `/home/samuel/ns-allinone-3.29/ns-3.29/build'\n",
      "Waf: Leaving directory `/home/samuel/ns-allinone-3.29/ns-3.29/build'\n",
      "Build commands will be stored in build/compile_commands.json\n",
      "'build' finished successfully (3.562s)\n"
     ]
    },
    {
     "name": "stderr",
     "output_type": "stream",
     "text": [
      "Ns3Env parameters:\n",
      "--nWifi: 50\n",
      "--simulationTime: 60\n",
      "--openGymPort: 15644\n",
      "--envStepTime: 0.01\n",
      "--seed: 42\n",
      "--agentType: discrete\n",
      "--scenario: basic\n",
      "--dryRun: 0\n",
      "Simulation started\n"
     ]
    },
    {
     "name": "stdout",
     "output_type": "stream",
     "text": [
      "Observation space shape: (1, 300)\n",
      "Action space shape: (1, 1)\n"
     ]
    },
    {
     "name": "stderr",
     "output_type": "stream",
     "text": [
      "Simulation process id: 2593894 (parent (waf shell) id: 2593868)\n",
      "Waiting for Python process to connect on port: tcp://localhost:15644\n",
      "Please start proper Python Gym Agent\n"
     ]
    }
   ],
   "source": [
    "#%%\n",
    "scenario = \"basic\"\n",
    "\n",
    "simTime = 60 # seconds\n",
    "stepTime = 0.01  # seconds\n",
    "history_length = 300\n",
    "\n",
    "EPISODE_COUNT = 15\n",
    "steps_per_ep = int(simTime/stepTime)\n",
    "\n",
    "sim_args = {\n",
    "    \"simTime\": simTime,\n",
    "    \"envStepTime\": stepTime,\n",
    "    \"historyLength\": history_length,\n",
    "    \"agentType\": Agent.TYPE,\n",
    "    \"scenario\": \"basic\",\n",
    "    \"nWifi\": 50,\n",
    "}\n",
    "\n",
    "print(\"Steps per episode:\", steps_per_ep)\n",
    "\n",
    "threads_no = 1\n",
    "env = EnvWrapper(threads_no, **sim_args)\n",
    "\n",
    "#%%\n",
    "env.reset()\n",
    "ob_space = env.observation_space\n",
    "ac_space = env.action_space\n",
    "\n",
    "print(\"Observation space shape:\", ob_space)\n",
    "print(\"Action space shape:\", ac_space)\n",
    "\n",
    "assert ob_space is not None"
   ]
  },
  {
   "cell_type": "code",
   "execution_count": 3,
   "id": "8a48952c",
   "metadata": {},
   "outputs": [
    {
     "name": "stdout",
     "output_type": "stream",
     "text": [
      "WARNING:tensorflow:From /home/samuel/ns-allinone-3.29/ns-3.29/scratch/RLinWiFi-master-original-queue-level-mean/agents/dqn/agent.py:53: The name tf.Session is deprecated. Please use tf.compat.v1.Session instead.\n",
      "\n",
      "WARNING:tensorflow:From /home/samuel/ns-allinone-3.29/ns-3.29/scratch/RLinWiFi-master-original-queue-level-mean/agents/dqn/model.py:25: The name tf.variable_scope is deprecated. Please use tf.compat.v1.variable_scope instead.\n",
      "\n",
      "WARNING:tensorflow:From /home/samuel/ns-allinone-3.29/ns-3.29/scratch/RLinWiFi-master-original-queue-level-mean/agents/dqn/model.py:26: The name tf.placeholder is deprecated. Please use tf.compat.v1.placeholder instead.\n",
      "\n"
     ]
    },
    {
     "name": "stderr",
     "output_type": "stream",
     "text": [
      "2023-02-17 10:30:52.487891: I tensorflow/core/platform/cpu_feature_guard.cc:142] Your CPU supports instructions that this TensorFlow binary was not compiled to use: AVX2 FMA\n",
      "2023-02-17 10:30:52.531955: I tensorflow/core/platform/profile_utils/cpu_utils.cc:94] CPU Frequency: 3491795000 Hz\n",
      "2023-02-17 10:30:52.534168: I tensorflow/compiler/xla/service/service.cc:168] XLA service 0x55b89e561ab0 executing computations on platform Host. Devices:\n",
      "2023-02-17 10:30:52.534190: I tensorflow/compiler/xla/service/service.cc:175]   StreamExecutor device (0): <undefined>, <undefined>\n"
     ]
    },
    {
     "name": "stdout",
     "output_type": "stream",
     "text": [
      "WARNING:tensorflow:\n",
      "The TensorFlow contrib module will not be included in TensorFlow 2.0.\n",
      "For more information, please see:\n",
      "  * https://github.com/tensorflow/community/blob/master/rfcs/20180907-contrib-sunset.md\n",
      "  * https://github.com/tensorflow/addons\n",
      "  * https://github.com/tensorflow/io (for I/O related ops)\n",
      "If you depend on functionality not listed there, please file an issue.\n",
      "\n",
      "WARNING:tensorflow:From /home/samuel/ns-allinone-3.29/ns-3.29/scratch/RLinWiFi-master-original-queue-level-mean/agents/dqn/model.py:52: LSTMCell.__init__ (from tensorflow.python.ops.rnn_cell_impl) is deprecated and will be removed in a future version.\n",
      "Instructions for updating:\n",
      "This class is equivalent as tf.keras.layers.LSTMCell, and will be replaced by that in Tensorflow 2.0.\n",
      "WARNING:tensorflow:From /home/samuel/ns-allinone-3.29/ns-3.29/scratch/RLinWiFi-master-original-queue-level-mean/agents/dqn/model.py:52: static_rnn (from tensorflow.python.ops.rnn) is deprecated and will be removed in a future version.\n",
      "Instructions for updating:\n",
      "Please use `keras.layers.RNN(cell, unroll=True)`, which is equivalent to this API\n",
      "WARNING:tensorflow:From /home/samuel/anaconda3/envs/myEnv3_7/lib/python3.7/site-packages/tensorflow/python/ops/init_ops.py:1251: calling VarianceScaling.__init__ (from tensorflow.python.ops.init_ops) with dtype is deprecated and will be removed in a future version.\n",
      "Instructions for updating:\n",
      "Call initializer instance with the dtype argument instead of passing it to the constructor\n",
      "WARNING:tensorflow:From /home/samuel/anaconda3/envs/myEnv3_7/lib/python3.7/site-packages/tensorflow/python/ops/rnn_cell_impl.py:961: calling Zeros.__init__ (from tensorflow.python.ops.init_ops) with dtype is deprecated and will be removed in a future version.\n",
      "Instructions for updating:\n",
      "Call initializer instance with the dtype argument instead of passing it to the constructor\n",
      "WARNING:tensorflow:Entity <bound method LSTMCell.call of <tensorflow.python.ops.rnn_cell_impl.LSTMCell object at 0x7f8b8f882a50>> could not be transformed and will be executed as-is. Please report this to the AutgoGraph team. When filing the bug, set the verbosity to 10 (on Linux, `export AUTOGRAPH_VERBOSITY=10`) and attach the full output. Cause: converting <bound method LSTMCell.call of <tensorflow.python.ops.rnn_cell_impl.LSTMCell object at 0x7f8b8f882a50>>: AttributeError: module 'gast' has no attribute 'Index'\n",
      "WARNING: Entity <bound method LSTMCell.call of <tensorflow.python.ops.rnn_cell_impl.LSTMCell object at 0x7f8b8f882a50>> could not be transformed and will be executed as-is. Please report this to the AutgoGraph team. When filing the bug, set the verbosity to 10 (on Linux, `export AUTOGRAPH_VERBOSITY=10`) and attach the full output. Cause: converting <bound method LSTMCell.call of <tensorflow.python.ops.rnn_cell_impl.LSTMCell object at 0x7f8b8f882a50>>: AttributeError: module 'gast' has no attribute 'Index'\n",
      "WARNING:tensorflow:Entity <bound method LSTMCell.call of <tensorflow.python.ops.rnn_cell_impl.LSTMCell object at 0x7f8b8f882a50>> could not be transformed and will be executed as-is. Please report this to the AutgoGraph team. When filing the bug, set the verbosity to 10 (on Linux, `export AUTOGRAPH_VERBOSITY=10`) and attach the full output. Cause: converting <bound method LSTMCell.call of <tensorflow.python.ops.rnn_cell_impl.LSTMCell object at 0x7f8b8f882a50>>: AttributeError: module 'gast' has no attribute 'Index'\n",
      "WARNING: Entity <bound method LSTMCell.call of <tensorflow.python.ops.rnn_cell_impl.LSTMCell object at 0x7f8b8f882a50>> could not be transformed and will be executed as-is. Please report this to the AutgoGraph team. When filing the bug, set the verbosity to 10 (on Linux, `export AUTOGRAPH_VERBOSITY=10`) and attach the full output. Cause: converting <bound method LSTMCell.call of <tensorflow.python.ops.rnn_cell_impl.LSTMCell object at 0x7f8b8f882a50>>: AttributeError: module 'gast' has no attribute 'Index'\n",
      "WARNING:tensorflow:Entity <bound method LSTMCell.call of <tensorflow.python.ops.rnn_cell_impl.LSTMCell object at 0x7f8b8f882a50>> could not be transformed and will be executed as-is. Please report this to the AutgoGraph team. When filing the bug, set the verbosity to 10 (on Linux, `export AUTOGRAPH_VERBOSITY=10`) and attach the full output. Cause: converting <bound method LSTMCell.call of <tensorflow.python.ops.rnn_cell_impl.LSTMCell object at 0x7f8b8f882a50>>: AttributeError: module 'gast' has no attribute 'Index'\n",
      "WARNING: Entity <bound method LSTMCell.call of <tensorflow.python.ops.rnn_cell_impl.LSTMCell object at 0x7f8b8f882a50>> could not be transformed and will be executed as-is. Please report this to the AutgoGraph team. When filing the bug, set the verbosity to 10 (on Linux, `export AUTOGRAPH_VERBOSITY=10`) and attach the full output. Cause: converting <bound method LSTMCell.call of <tensorflow.python.ops.rnn_cell_impl.LSTMCell object at 0x7f8b8f882a50>>: AttributeError: module 'gast' has no attribute 'Index'\n",
      "WARNING:tensorflow:Entity <bound method LSTMCell.call of <tensorflow.python.ops.rnn_cell_impl.LSTMCell object at 0x7f8b8f882a50>> could not be transformed and will be executed as-is. Please report this to the AutgoGraph team. When filing the bug, set the verbosity to 10 (on Linux, `export AUTOGRAPH_VERBOSITY=10`) and attach the full output. Cause: converting <bound method LSTMCell.call of <tensorflow.python.ops.rnn_cell_impl.LSTMCell object at 0x7f8b8f882a50>>: AttributeError: module 'gast' has no attribute 'Index'\n",
      "WARNING: Entity <bound method LSTMCell.call of <tensorflow.python.ops.rnn_cell_impl.LSTMCell object at 0x7f8b8f882a50>> could not be transformed and will be executed as-is. Please report this to the AutgoGraph team. When filing the bug, set the verbosity to 10 (on Linux, `export AUTOGRAPH_VERBOSITY=10`) and attach the full output. Cause: converting <bound method LSTMCell.call of <tensorflow.python.ops.rnn_cell_impl.LSTMCell object at 0x7f8b8f882a50>>: AttributeError: module 'gast' has no attribute 'Index'\n",
      "WARNING:tensorflow:From /home/samuel/ns-allinone-3.29/ns-3.29/scratch/RLinWiFi-master-original-queue-level-mean/agents/dqn/model.py:53: dense (from tensorflow.python.layers.core) is deprecated and will be removed in a future version.\n",
      "Instructions for updating:\n",
      "Use keras.layers.dense instead.\n",
      "WARNING:tensorflow:Entity <bound method Dense.call of <tensorflow.python.layers.core.Dense object at 0x7f8b6d4e6ed0>> could not be transformed and will be executed as-is. Please report this to the AutgoGraph team. When filing the bug, set the verbosity to 10 (on Linux, `export AUTOGRAPH_VERBOSITY=10`) and attach the full output. Cause: converting <bound method Dense.call of <tensorflow.python.layers.core.Dense object at 0x7f8b6d4e6ed0>>: AttributeError: module 'gast' has no attribute 'Index'\n",
      "WARNING: Entity <bound method Dense.call of <tensorflow.python.layers.core.Dense object at 0x7f8b6d4e6ed0>> could not be transformed and will be executed as-is. Please report this to the AutgoGraph team. When filing the bug, set the verbosity to 10 (on Linux, `export AUTOGRAPH_VERBOSITY=10`) and attach the full output. Cause: converting <bound method Dense.call of <tensorflow.python.layers.core.Dense object at 0x7f8b6d4e6ed0>>: AttributeError: module 'gast' has no attribute 'Index'\n",
      "WARNING:tensorflow:Entity <bound method Dense.call of <tensorflow.python.layers.core.Dense object at 0x7f8b6d4e6ed0>> could not be transformed and will be executed as-is. Please report this to the AutgoGraph team. When filing the bug, set the verbosity to 10 (on Linux, `export AUTOGRAPH_VERBOSITY=10`) and attach the full output. Cause: converting <bound method Dense.call of <tensorflow.python.layers.core.Dense object at 0x7f8b6d4e6ed0>>: AttributeError: module 'gast' has no attribute 'Index'\n",
      "WARNING: Entity <bound method Dense.call of <tensorflow.python.layers.core.Dense object at 0x7f8b6d4e6ed0>> could not be transformed and will be executed as-is. Please report this to the AutgoGraph team. When filing the bug, set the verbosity to 10 (on Linux, `export AUTOGRAPH_VERBOSITY=10`) and attach the full output. Cause: converting <bound method Dense.call of <tensorflow.python.layers.core.Dense object at 0x7f8b6d4e6ed0>>: AttributeError: module 'gast' has no attribute 'Index'\n",
      "WARNING:tensorflow:Entity <bound method Dense.call of <tensorflow.python.layers.core.Dense object at 0x7f8b6d4e6ed0>> could not be transformed and will be executed as-is. Please report this to the AutgoGraph team. When filing the bug, set the verbosity to 10 (on Linux, `export AUTOGRAPH_VERBOSITY=10`) and attach the full output. Cause: converting <bound method Dense.call of <tensorflow.python.layers.core.Dense object at 0x7f8b6d4e6ed0>>: AttributeError: module 'gast' has no attribute 'Index'\n"
     ]
    },
    {
     "name": "stdout",
     "output_type": "stream",
     "text": [
      "WARNING: Entity <bound method Dense.call of <tensorflow.python.layers.core.Dense object at 0x7f8b6d4e6ed0>> could not be transformed and will be executed as-is. Please report this to the AutgoGraph team. When filing the bug, set the verbosity to 10 (on Linux, `export AUTOGRAPH_VERBOSITY=10`) and attach the full output. Cause: converting <bound method Dense.call of <tensorflow.python.layers.core.Dense object at 0x7f8b6d4e6ed0>>: AttributeError: module 'gast' has no attribute 'Index'\n",
      "WARNING:tensorflow:From /home/samuel/ns-allinone-3.29/ns-3.29/scratch/RLinWiFi-master-original-queue-level-mean/agents/dqn/model.py:69: The name tf.losses.mean_squared_error is deprecated. Please use tf.compat.v1.losses.mean_squared_error instead.\n",
      "\n",
      "WARNING:tensorflow:From /home/samuel/anaconda3/envs/myEnv3_7/lib/python3.7/site-packages/tensorflow/python/ops/losses/losses_impl.py:121: add_dispatch_support.<locals>.wrapper (from tensorflow.python.ops.array_ops) is deprecated and will be removed in a future version.\n",
      "Instructions for updating:\n",
      "Use tf.where in 2.0, which has the same broadcast rule as np.where\n",
      "WARNING:tensorflow:From /home/samuel/ns-allinone-3.29/ns-3.29/scratch/RLinWiFi-master-original-queue-level-mean/agents/dqn/model.py:77: The name tf.train.AdamOptimizer is deprecated. Please use tf.compat.v1.train.AdamOptimizer instead.\n",
      "\n",
      "WARNING:tensorflow:From /home/samuel/ns-allinone-3.29/ns-3.29/scratch/RLinWiFi-master-original-queue-level-mean/agents/dqn/model.py:33: The name tf.global_variables_initializer is deprecated. Please use tf.compat.v1.global_variables_initializer instead.\n",
      "\n",
      "WARNING:tensorflow:From /home/samuel/ns-allinone-3.29/ns-3.29/scratch/RLinWiFi-master-original-queue-level-mean/agents/dqn/model.py:34: The name tf.local_variables_initializer is deprecated. Please use tf.compat.v1.local_variables_initializer instead.\n",
      "\n",
      "WARNING:tensorflow:Entity <bound method LSTMCell.call of <tensorflow.python.ops.rnn_cell_impl.LSTMCell object at 0x7f8b6d1bd5d0>> could not be transformed and will be executed as-is. Please report this to the AutgoGraph team. When filing the bug, set the verbosity to 10 (on Linux, `export AUTOGRAPH_VERBOSITY=10`) and attach the full output. Cause: converting <bound method LSTMCell.call of <tensorflow.python.ops.rnn_cell_impl.LSTMCell object at 0x7f8b6d1bd5d0>>: AttributeError: module 'gast' has no attribute 'Index'\n",
      "WARNING: Entity <bound method LSTMCell.call of <tensorflow.python.ops.rnn_cell_impl.LSTMCell object at 0x7f8b6d1bd5d0>> could not be transformed and will be executed as-is. Please report this to the AutgoGraph team. When filing the bug, set the verbosity to 10 (on Linux, `export AUTOGRAPH_VERBOSITY=10`) and attach the full output. Cause: converting <bound method LSTMCell.call of <tensorflow.python.ops.rnn_cell_impl.LSTMCell object at 0x7f8b6d1bd5d0>>: AttributeError: module 'gast' has no attribute 'Index'\n",
      "WARNING:tensorflow:Entity <bound method LSTMCell.call of <tensorflow.python.ops.rnn_cell_impl.LSTMCell object at 0x7f8b6d1bd5d0>> could not be transformed and will be executed as-is. Please report this to the AutgoGraph team. When filing the bug, set the verbosity to 10 (on Linux, `export AUTOGRAPH_VERBOSITY=10`) and attach the full output. Cause: converting <bound method LSTMCell.call of <tensorflow.python.ops.rnn_cell_impl.LSTMCell object at 0x7f8b6d1bd5d0>>: AttributeError: module 'gast' has no attribute 'Index'\n"
     ]
    },
    {
     "name": "stderr",
     "output_type": "stream",
     "text": [
      "2023-02-17 10:30:54.529024: W tensorflow/compiler/jit/mark_for_compilation_pass.cc:1412] (One-time warning): Not using XLA:CPU for cluster because envvar TF_XLA_FLAGS=--tf_xla_cpu_global_jit was not set.  If you want XLA:CPU, either set that envvar, or use experimental_jit_scope to enable XLA:CPU.  To confirm that XLA is active, pass --vmodule=xla_compilation_cache=1 (as a proper command-line flag, not via TF_XLA_FLAGS) or set the envvar XLA_FLAGS=--xla_hlo_profile.\n"
     ]
    },
    {
     "name": "stdout",
     "output_type": "stream",
     "text": [
      "WARNING: Entity <bound method LSTMCell.call of <tensorflow.python.ops.rnn_cell_impl.LSTMCell object at 0x7f8b6d1bd5d0>> could not be transformed and will be executed as-is. Please report this to the AutgoGraph team. When filing the bug, set the verbosity to 10 (on Linux, `export AUTOGRAPH_VERBOSITY=10`) and attach the full output. Cause: converting <bound method LSTMCell.call of <tensorflow.python.ops.rnn_cell_impl.LSTMCell object at 0x7f8b6d1bd5d0>>: AttributeError: module 'gast' has no attribute 'Index'\n",
      "WARNING:tensorflow:Entity <bound method LSTMCell.call of <tensorflow.python.ops.rnn_cell_impl.LSTMCell object at 0x7f8b6d1bd5d0>> could not be transformed and will be executed as-is. Please report this to the AutgoGraph team. When filing the bug, set the verbosity to 10 (on Linux, `export AUTOGRAPH_VERBOSITY=10`) and attach the full output. Cause: converting <bound method LSTMCell.call of <tensorflow.python.ops.rnn_cell_impl.LSTMCell object at 0x7f8b6d1bd5d0>>: AttributeError: module 'gast' has no attribute 'Index'\n",
      "WARNING: Entity <bound method LSTMCell.call of <tensorflow.python.ops.rnn_cell_impl.LSTMCell object at 0x7f8b6d1bd5d0>> could not be transformed and will be executed as-is. Please report this to the AutgoGraph team. When filing the bug, set the verbosity to 10 (on Linux, `export AUTOGRAPH_VERBOSITY=10`) and attach the full output. Cause: converting <bound method LSTMCell.call of <tensorflow.python.ops.rnn_cell_impl.LSTMCell object at 0x7f8b6d1bd5d0>>: AttributeError: module 'gast' has no attribute 'Index'\n",
      "WARNING:tensorflow:Entity <bound method LSTMCell.call of <tensorflow.python.ops.rnn_cell_impl.LSTMCell object at 0x7f8b6d1bd5d0>> could not be transformed and will be executed as-is. Please report this to the AutgoGraph team. When filing the bug, set the verbosity to 10 (on Linux, `export AUTOGRAPH_VERBOSITY=10`) and attach the full output. Cause: converting <bound method LSTMCell.call of <tensorflow.python.ops.rnn_cell_impl.LSTMCell object at 0x7f8b6d1bd5d0>>: AttributeError: module 'gast' has no attribute 'Index'\n",
      "WARNING: Entity <bound method LSTMCell.call of <tensorflow.python.ops.rnn_cell_impl.LSTMCell object at 0x7f8b6d1bd5d0>> could not be transformed and will be executed as-is. Please report this to the AutgoGraph team. When filing the bug, set the verbosity to 10 (on Linux, `export AUTOGRAPH_VERBOSITY=10`) and attach the full output. Cause: converting <bound method LSTMCell.call of <tensorflow.python.ops.rnn_cell_impl.LSTMCell object at 0x7f8b6d1bd5d0>>: AttributeError: module 'gast' has no attribute 'Index'\n",
      "WARNING:tensorflow:Entity <bound method Dense.call of <tensorflow.python.layers.core.Dense object at 0x7f8b6d1bd5d0>> could not be transformed and will be executed as-is. Please report this to the AutgoGraph team. When filing the bug, set the verbosity to 10 (on Linux, `export AUTOGRAPH_VERBOSITY=10`) and attach the full output. Cause: converting <bound method Dense.call of <tensorflow.python.layers.core.Dense object at 0x7f8b6d1bd5d0>>: AttributeError: module 'gast' has no attribute 'Index'\n",
      "WARNING: Entity <bound method Dense.call of <tensorflow.python.layers.core.Dense object at 0x7f8b6d1bd5d0>> could not be transformed and will be executed as-is. Please report this to the AutgoGraph team. When filing the bug, set the verbosity to 10 (on Linux, `export AUTOGRAPH_VERBOSITY=10`) and attach the full output. Cause: converting <bound method Dense.call of <tensorflow.python.layers.core.Dense object at 0x7f8b6d1bd5d0>>: AttributeError: module 'gast' has no attribute 'Index'\n",
      "WARNING:tensorflow:Entity <bound method Dense.call of <tensorflow.python.layers.core.Dense object at 0x7f8b6d1bd5d0>> could not be transformed and will be executed as-is. Please report this to the AutgoGraph team. When filing the bug, set the verbosity to 10 (on Linux, `export AUTOGRAPH_VERBOSITY=10`) and attach the full output. Cause: converting <bound method Dense.call of <tensorflow.python.layers.core.Dense object at 0x7f8b6d1bd5d0>>: AttributeError: module 'gast' has no attribute 'Index'\n",
      "WARNING: Entity <bound method Dense.call of <tensorflow.python.layers.core.Dense object at 0x7f8b6d1bd5d0>> could not be transformed and will be executed as-is. Please report this to the AutgoGraph team. When filing the bug, set the verbosity to 10 (on Linux, `export AUTOGRAPH_VERBOSITY=10`) and attach the full output. Cause: converting <bound method Dense.call of <tensorflow.python.layers.core.Dense object at 0x7f8b6d1bd5d0>>: AttributeError: module 'gast' has no attribute 'Index'\n",
      "WARNING:tensorflow:Entity <bound method Dense.call of <tensorflow.python.layers.core.Dense object at 0x7f8b6d1bd5d0>> could not be transformed and will be executed as-is. Please report this to the AutgoGraph team. When filing the bug, set the verbosity to 10 (on Linux, `export AUTOGRAPH_VERBOSITY=10`) and attach the full output. Cause: converting <bound method Dense.call of <tensorflow.python.layers.core.Dense object at 0x7f8b6d1bd5d0>>: AttributeError: module 'gast' has no attribute 'Index'\n",
      "WARNING: Entity <bound method Dense.call of <tensorflow.python.layers.core.Dense object at 0x7f8b6d1bd5d0>> could not be transformed and will be executed as-is. Please report this to the AutgoGraph team. When filing the bug, set the verbosity to 10 (on Linux, `export AUTOGRAPH_VERBOSITY=10`) and attach the full output. Cause: converting <bound method Dense.call of <tensorflow.python.layers.core.Dense object at 0x7f8b6d1bd5d0>>: AttributeError: module 'gast' has no attribute 'Index'\n",
      "WARNING:tensorflow:From /home/samuel/ns-allinone-3.29/ns-3.29/scratch/RLinWiFi-master-original-queue-level-mean/agents/dqn/agent.py:77: The name tf.train.Saver is deprecated. Please use tf.compat.v1.train.Saver instead.\n",
      "\n",
      "Action space: 7\n",
      "WARNING:tensorflow:From /home/samuel/ns-allinone-3.29/ns-3.29/scratch/RLinWiFi-master-original-queue-level-mean/agents/dqn/agent.py:107: Variable.load (from tensorflow.python.ops.variables) is deprecated and will be removed in a future version.\n",
      "Instructions for updating:\n",
      "Prefer Variable.assign which has equivalent behavior in 2.X.\n"
     ]
    },
    {
     "name": "stderr",
     "output_type": "stream",
     "text": [
      "COMET INFO: Experiment is live on comet.ml https://www.comet.com/sheila-janota/rl-in-wifi-with-queue-level/d2bd779d8742441f9ed0d9e2ffc939c0\n",
      "\n",
      "  0%|          | 0/6300 [00:00<?, ?it/s]"
     ]
    },
    {
     "name": "stdout",
     "output_type": "stream",
     "text": [
      "0\n"
     ]
    },
    {
     "name": "stderr",
     "output_type": "stream",
     "text": [
      "  5%|▌         | 333/6300 [07:36<2:20:17,  1.41s/it, curr_speed=30.05 Mbps, mb_sent=9.62 Mb]"
     ]
    },
    {
     "name": "stdout",
     "output_type": "stream",
     "text": [
      "------- STARTED TRAINING -------\n"
     ]
    },
    {
     "name": "stderr",
     "output_type": "stream",
     "text": [
      "100%|██████████| 6300/6300 [2:21:13<00:00,  1.34s/it, curr_speed=33.05 Mbps, mb_sent=1840.03 Mb]  \n"
     ]
    },
    {
     "name": "stdout",
     "output_type": "stream",
     "text": [
      "Waiting for simulation script to connect on port: tcp://localhost:47591\n",
      "Please start proper ns-3 simulation script using ./waf --run \"...\"\n",
      "Waf: Entering directory `/home/samuel/ns-allinone-3.29/ns-3.29/build'\n",
      "Waf: Leaving directory `/home/samuel/ns-allinone-3.29/ns-3.29/build'\n",
      "Build commands will be stored in build/compile_commands.json\n",
      "'build' finished successfully (3.095s)\n"
     ]
    },
    {
     "name": "stderr",
     "output_type": "stream",
     "text": [
      "Ns3Env parameters:\n",
      "--nWifi: 50\n",
      "--simulationTime: 60\n",
      "--openGymPort: 47591\n",
      "--envStepTime: 0.01\n",
      "--seed: 42\n",
      "--agentType: discrete\n",
      "--scenario: basic\n",
      "--dryRun: 0\n",
      "Simulation started\n",
      "Simulation process id: 2629690 (parent (waf shell) id: 2629669)\n",
      "Waiting for Python process to connect on port: tcp://localhost:47591\n",
      "Please start proper Python Gym Agent\n",
      "  0%|          | 0/6300 [00:00<?, ?it/s]"
     ]
    },
    {
     "name": "stdout",
     "output_type": "stream",
     "text": [
      "Sent 1840.03 Mb/s.\tMean speed: 30.67 Mb/s\tEpisode 1/15 finished\n",
      "\n",
      "1\n"
     ]
    },
    {
     "name": "stderr",
     "output_type": "stream",
     "text": [
      " 76%|███████▌  | 4775/6300 [1:36:16<33:22,  1.31s/it, curr_speed=34.26 Mbps, mb_sent=1518.26 Mb]  COMET ERROR: File could not be uploaded\n",
      " 76%|███████▌  | 4786/6300 [1:36:29<29:57,  1.19s/it, curr_speed=34.21 Mbps, mb_sent=1522.28 Mb]COMET ERROR: File could not be uploaded\n",
      " 76%|███████▌  | 4787/6300 [1:36:30<30:11,  1.20s/it, curr_speed=34.22 Mbps, mb_sent=1522.65 Mb]COMET ERROR: File could not be uploaded\n",
      " 76%|███████▌  | 4788/6300 [1:36:31<29:12,  1.16s/it, curr_speed=34.30 Mbps, mb_sent=1523.01 Mb]COMET ERROR: File could not be uploaded\n",
      " 76%|███████▌  | 4794/6300 [1:36:38<27:49,  1.11s/it, curr_speed=34.66 Mbps, mb_sent=1525.14 Mb]COMET ERROR: File could not be uploaded\n",
      " 76%|███████▌  | 4799/6300 [1:36:44<28:57,  1.16s/it, curr_speed=34.80 Mbps, mb_sent=1526.97 Mb]COMET ERROR: File could not be uploaded\n",
      " 76%|███████▋  | 4804/6300 [1:36:50<28:27,  1.14s/it, curr_speed=34.83 Mbps, mb_sent=1528.59 Mb]COMET ERROR: File could not be uploaded\n",
      " 76%|███████▋  | 4807/6300 [1:36:53<31:01,  1.25s/it, curr_speed=34.70 Mbps, mb_sent=1529.60 Mb]COMET ERROR: File could not be uploaded\n",
      " 76%|███████▋  | 4813/6300 [1:37:01<29:17,  1.18s/it, curr_speed=34.52 Mbps, mb_sent=1531.75 Mb]COMET ERROR: File could not be uploaded\n",
      " 76%|███████▋  | 4814/6300 [1:37:02<29:04,  1.17s/it, curr_speed=34.48 Mbps, mb_sent=1532.06 Mb]COMET ERROR: File could not be uploaded\n",
      " 77%|███████▋  | 4823/6300 [1:37:13<33:27,  1.36s/it, curr_speed=34.40 Mbps, mb_sent=1535.12 Mb]COMET ERROR: File could not be uploaded\n",
      " 77%|███████▋  | 4826/6300 [1:37:17<31:54,  1.30s/it, curr_speed=34.00 Mbps, mb_sent=1535.80 Mb]COMET ERROR: File could not be uploaded\n",
      " 77%|███████▋  | 4841/6300 [1:37:34<28:56,  1.19s/it, curr_speed=33.99 Mbps, mb_sent=1541.28 Mb]COMET ERROR: File could not be uploaded\n",
      " 77%|███████▋  | 4870/6300 [1:38:09<27:37,  1.16s/it, curr_speed=35.15 Mbps, mb_sent=1551.59 Mb]COMET ERROR: File could not be uploaded\n",
      " 77%|███████▋  | 4876/6300 [1:38:16<29:00,  1.22s/it, curr_speed=34.82 Mbps, mb_sent=1553.49 Mb]COMET ERROR: File could not be uploaded\n",
      " 77%|███████▋  | 4879/6300 [1:38:20<28:29,  1.20s/it, curr_speed=35.09 Mbps, mb_sent=1554.62 Mb]COMET ERROR: File could not be uploaded\n",
      " 78%|███████▊  | 4886/6300 [1:38:28<27:02,  1.15s/it, curr_speed=34.74 Mbps, mb_sent=1557.02 Mb]COMET ERROR: File could not be uploaded\n",
      " 78%|███████▊  | 4891/6300 [1:38:34<28:31,  1.21s/it, curr_speed=34.45 Mbps, mb_sent=1558.56 Mb]COMET ERROR: File could not be uploaded\n",
      " 78%|███████▊  | 4892/6300 [1:38:35<28:14,  1.20s/it, curr_speed=34.41 Mbps, mb_sent=1558.87 Mb]COMET ERROR: File could not be uploaded\n",
      " 78%|███████▊  | 4900/6300 [1:38:45<27:14,  1.17s/it, curr_speed=34.13 Mbps, mb_sent=1561.51 Mb]COMET ERROR: File could not be uploaded\n",
      " 78%|███████▊  | 4901/6300 [1:38:46<27:33,  1.18s/it, curr_speed=34.01 Mbps, mb_sent=1561.78 Mb]COMET ERROR: File could not be uploaded\n",
      " 78%|███████▊  | 4906/6300 [1:38:53<30:50,  1.33s/it, curr_speed=34.22 Mbps, mb_sent=1563.56 Mb]COMET ERROR: File could not be uploaded\n",
      " 78%|███████▊  | 4928/6300 [1:39:19<26:50,  1.17s/it, curr_speed=34.69 Mbps, mb_sent=1571.20 Mb]COMET ERROR: File could not be uploaded\n",
      "COMET ERROR: File could not be uploaded\n",
      "COMET ERROR: File could not be uploaded\n",
      " 78%|███████▊  | 4929/6300 [1:39:20<27:32,  1.21s/it, curr_speed=34.45 Mbps, mb_sent=1571.33 Mb]COMET ERROR: File could not be uploaded\n",
      " 78%|███████▊  | 4930/6300 [1:39:22<29:54,  1.31s/it, curr_speed=34.36 Mbps, mb_sent=1571.63 Mb]COMET ERROR: File could not be uploaded\n",
      " 78%|███████▊  | 4932/6300 [1:39:24<28:30,  1.25s/it, curr_speed=34.37 Mbps, mb_sent=1572.37 Mb]COMET ERROR: File could not be uploaded\n",
      " 78%|███████▊  | 4941/6300 [1:39:35<28:28,  1.26s/it, curr_speed=34.23 Mbps, mb_sent=1575.52 Mb]COMET ERROR: File could not be uploaded\n",
      " 78%|███████▊  | 4943/6300 [1:39:38<28:21,  1.25s/it, curr_speed=34.26 Mbps, mb_sent=1576.30 Mb]COMET ERROR: File could not be uploaded\n",
      " 85%|████████▍ | 5334/6300 [1:47:27<18:43,  1.16s/it, curr_speed=34.03 Mbps, mb_sent=1707.59 Mb]COMET ERROR: File could not be uploaded\n",
      "COMET ERROR: File could not be uploaded\n",
      " 85%|████████▍ | 5338/6300 [1:47:32<19:59,  1.25s/it, curr_speed=34.11 Mbps, mb_sent=1709.03 Mb]COMET ERROR: File could not be uploaded\n",
      "COMET ERROR: File could not be uploaded\n",
      " 85%|████████▍ | 5343/6300 [1:47:39<20:02,  1.26s/it, curr_speed=33.75 Mbps, mb_sent=1710.46 Mb]COMET ERROR: File could not be uploaded\n",
      " 85%|████████▍ | 5344/6300 [1:47:40<19:33,  1.23s/it, curr_speed=33.47 Mbps, mb_sent=1710.55 Mb]COMET ERROR: File could not be uploaded\n",
      " 85%|████████▍ | 5352/6300 [1:47:49<18:02,  1.14s/it, curr_speed=34.08 Mbps, mb_sent=1713.18 Mb]COMET ERROR: File could not be uploaded\n",
      " 87%|████████▋ | 5474/6300 [1:50:17<18:06,  1.32s/it, curr_speed=31.35 Mbps, mb_sent=1752.29 Mb]COMET ERROR: File could not be uploaded\n",
      " 87%|████████▋ | 5481/6300 [1:50:26<17:21,  1.27s/it, curr_speed=32.05 Mbps, mb_sent=1754.99 Mb]COMET ERROR: File could not be uploaded\n",
      " 87%|████████▋ | 5491/6300 [1:50:38<16:36,  1.23s/it, curr_speed=31.89 Mbps, mb_sent=1758.53 Mb]COMET ERROR: File could not be uploaded\n",
      " 87%|████████▋ | 5496/6300 [1:50:44<15:07,  1.13s/it, curr_speed=31.94 Mbps, mb_sent=1760.37 Mb]COMET ERROR: File could not be uploaded\n",
      " 87%|████████▋ | 5501/6300 [1:50:50<16:17,  1.22s/it, curr_speed=31.96 Mbps, mb_sent=1761.94 Mb]COMET ERROR: File could not be uploaded\n",
      " 87%|████████▋ | 5510/6300 [1:51:00<14:41,  1.12s/it, curr_speed=31.78 Mbps, mb_sent=1764.88 Mb]COMET ERROR: File could not be uploaded\n",
      " 88%|████████▊ | 5513/6300 [1:51:04<15:22,  1.17s/it, curr_speed=31.81 Mbps, mb_sent=1765.93 Mb]COMET ERROR: File could not be uploaded\n",
      " 88%|████████▊ | 5522/6300 [1:51:15<15:29,  1.19s/it, curr_speed=32.32 Mbps, mb_sent=1768.81 Mb]COMET ERROR: File could not be uploaded\n",
      " 88%|████████▊ | 5524/6300 [1:51:17<16:04,  1.24s/it, curr_speed=32.68 Mbps, mb_sent=1769.55 Mb]COMET ERROR: File could not be uploaded\n",
      " 88%|████████▊ | 5525/6300 [1:51:19<15:38,  1.21s/it, curr_speed=32.94 Mbps, mb_sent=1769.95 Mb]COMET ERROR: File could not be uploaded\n",
      " 88%|████████▊ | 5526/6300 [1:51:20<15:55,  1.23s/it, curr_speed=33.10 Mbps, mb_sent=1770.29 Mb]COMET ERROR: File could not be uploaded\n",
      " 88%|████████▊ | 5527/6300 [1:51:21<16:42,  1.30s/it, curr_speed=33.16 Mbps, mb_sent=1770.59 Mb]COMET ERROR: File could not be uploaded\n",
      " 88%|████████▊ | 5528/6300 [1:51:23<17:06,  1.33s/it, curr_speed=33.22 Mbps, mb_sent=1770.77 Mb]COMET ERROR: File could not be uploaded\n",
      " 94%|█████████▍| 5946/6300 [1:59:46<06:49,  1.16s/it, curr_speed=32.42 Mbps, mb_sent=1910.77 Mb]COMET ERROR: File could not be uploaded\n",
      " 94%|█████████▍| 5948/6300 [1:59:49<07:07,  1.22s/it, curr_speed=32.50 Mbps, mb_sent=1911.39 Mb]COMET ERROR: File could not be uploaded\n",
      " 94%|█████████▍| 5949/6300 [1:59:50<07:13,  1.23s/it, curr_speed=32.49 Mbps, mb_sent=1911.77 Mb]COMET ERROR: File could not be uploaded\n",
      "100%|██████████| 6300/6300 [2:06:47<00:00,  1.21s/it, curr_speed=35.27 Mbps, mb_sent=2032.03 Mb]\n"
     ]
    },
    {
     "name": "stdout",
     "output_type": "stream",
     "text": [
      "Waiting for simulation script to connect on port: tcp://localhost:36407\n",
      "Please start proper ns-3 simulation script using ./waf --run \"...\"\n",
      "Waf: Entering directory `/home/samuel/ns-allinone-3.29/ns-3.29/build'\n",
      "Waf: Leaving directory `/home/samuel/ns-allinone-3.29/ns-3.29/build'\n",
      "Build commands will be stored in build/compile_commands.json\n",
      "'build' finished successfully (2.833s)\n"
     ]
    },
    {
     "name": "stderr",
     "output_type": "stream",
     "text": [
      "Ns3Env parameters:\n",
      "--nWifi: 50\n",
      "--simulationTime: 60\n",
      "--openGymPort: 36407\n",
      "--envStepTime: 0.01\n",
      "--seed: 42\n",
      "--agentType: discrete\n",
      "--scenario: basic\n",
      "--dryRun: 0\n",
      "Simulation started\n",
      "Simulation process id: 2653324 (parent (waf shell) id: 2653304)\n",
      "Waiting for Python process to connect on port: tcp://localhost:36407\n",
      "Please start proper Python Gym Agent\n",
      "  0%|          | 0/6300 [00:00<?, ?it/s]"
     ]
    },
    {
     "name": "stdout",
     "output_type": "stream",
     "text": [
      "Sent 2032.03 Mb/s.\tMean speed: 33.87 Mb/s\tEpisode 2/15 finished\n",
      "\n",
      "2\n"
     ]
    },
    {
     "name": "stderr",
     "output_type": "stream",
     "text": [
      "100%|██████████| 6300/6300 [2:06:37<00:00,  1.21s/it, curr_speed=35.43 Mbps, mb_sent=2122.58 Mb]  \n"
     ]
    },
    {
     "name": "stdout",
     "output_type": "stream",
     "text": [
      "Waiting for simulation script to connect on port: tcp://localhost:47865\n",
      "Please start proper ns-3 simulation script using ./waf --run \"...\"\n",
      "Waf: Entering directory `/home/samuel/ns-allinone-3.29/ns-3.29/build'\n",
      "Waf: Leaving directory `/home/samuel/ns-allinone-3.29/ns-3.29/build'\n",
      "Build commands will be stored in build/compile_commands.json\n",
      "'build' finished successfully (2.854s)\n"
     ]
    },
    {
     "name": "stderr",
     "output_type": "stream",
     "text": [
      "Ns3Env parameters:\n",
      "--nWifi: 50\n",
      "--simulationTime: 60\n",
      "--openGymPort: 47865\n",
      "--envStepTime: 0.01\n",
      "--seed: 42\n",
      "--agentType: discrete\n",
      "--scenario: basic\n",
      "--dryRun: 0\n",
      "Simulation started\n",
      "Simulation process id: 2676990 (parent (waf shell) id: 2676969)\n",
      "Waiting for Python process to connect on port: tcp://localhost:47865\n",
      "Please start proper Python Gym Agent\n",
      "  0%|          | 0/6300 [00:00<?, ?it/s]"
     ]
    },
    {
     "name": "stdout",
     "output_type": "stream",
     "text": [
      "Sent 2122.58 Mb/s.\tMean speed: 35.38 Mb/s\tEpisode 3/15 finished\n",
      "\n",
      "3\n"
     ]
    },
    {
     "name": "stderr",
     "output_type": "stream",
     "text": [
      "  5%|▍         | 304/6300 [05:44<1:57:25,  1.18s/it, curr_speed=30.90 Mbps, mb_sent=0.93 Mb]"
     ]
    },
    {
     "name": "stdout",
     "output_type": "stream",
     "text": [
      "------- MEMORY BUFFER FILLED -------\n"
     ]
    },
    {
     "name": "stderr",
     "output_type": "stream",
     "text": [
      "100%|██████████| 6300/6300 [2:06:25<00:00,  1.20s/it, curr_speed=37.03 Mbps, mb_sent=2182.69 Mb]  \n"
     ]
    },
    {
     "name": "stdout",
     "output_type": "stream",
     "text": [
      "Waiting for simulation script to connect on port: tcp://localhost:30792\n",
      "Please start proper ns-3 simulation script using ./waf --run \"...\"\n",
      "Waf: Entering directory `/home/samuel/ns-allinone-3.29/ns-3.29/build'\n",
      "Waf: Leaving directory `/home/samuel/ns-allinone-3.29/ns-3.29/build'\n",
      "Build commands will be stored in build/compile_commands.json\n",
      "'build' finished successfully (3.058s)\n"
     ]
    },
    {
     "name": "stderr",
     "output_type": "stream",
     "text": [
      "Ns3Env parameters:\n",
      "--nWifi: 50\n",
      "--simulationTime: 60\n",
      "--openGymPort: 30792\n",
      "--envStepTime: 0.01\n",
      "--seed: 42\n",
      "--agentType: discrete\n",
      "--scenario: basic\n",
      "--dryRun: 0\n",
      "Simulation started\n",
      "Simulation process id: 2700589 (parent (waf shell) id: 2700568)\n",
      "Waiting for Python process to connect on port: tcp://localhost:30792\n",
      "Please start proper Python Gym Agent\n",
      "  0%|          | 0/6300 [00:00<?, ?it/s]"
     ]
    },
    {
     "name": "stdout",
     "output_type": "stream",
     "text": [
      "Sent 2182.69 Mb/s.\tMean speed: 36.38 Mb/s\tEpisode 4/15 finished\n",
      "\n",
      "4\n"
     ]
    },
    {
     "name": "stderr",
     "output_type": "stream",
     "text": [
      "100%|██████████| 6300/6300 [2:06:13<00:00,  1.20s/it, curr_speed=34.96 Mbps, mb_sent=2197.66 Mb]  \n"
     ]
    },
    {
     "name": "stdout",
     "output_type": "stream",
     "text": [
      "Waiting for simulation script to connect on port: tcp://localhost:19007\n",
      "Please start proper ns-3 simulation script using ./waf --run \"...\"\n",
      "Waf: Entering directory `/home/samuel/ns-allinone-3.29/ns-3.29/build'\n",
      "Waf: Leaving directory `/home/samuel/ns-allinone-3.29/ns-3.29/build'\n",
      "Build commands will be stored in build/compile_commands.json\n",
      "'build' finished successfully (2.818s)\n"
     ]
    },
    {
     "name": "stderr",
     "output_type": "stream",
     "text": [
      "Ns3Env parameters:\n",
      "--nWifi: 50\n",
      "--simulationTime: 60\n",
      "--openGymPort: 19007\n",
      "--envStepTime: 0.01\n",
      "--seed: 42\n",
      "--agentType: discrete\n",
      "--scenario: basic\n",
      "--dryRun: 0\n",
      "Simulation started\n",
      "Simulation process id: 2724689 (parent (waf shell) id: 2724662)\n",
      "Waiting for Python process to connect on port: tcp://localhost:19007\n",
      "Please start proper Python Gym Agent\n",
      "  0%|          | 0/6300 [00:00<?, ?it/s]"
     ]
    },
    {
     "name": "stdout",
     "output_type": "stream",
     "text": [
      "Sent 2197.66 Mb/s.\tMean speed: 36.63 Mb/s\tEpisode 5/15 finished\n",
      "\n",
      "5\n"
     ]
    },
    {
     "name": "stderr",
     "output_type": "stream",
     "text": [
      "100%|██████████| 6300/6300 [2:09:17<00:00,  1.23s/it, curr_speed=36.39 Mbps, mb_sent=2213.11 Mb]  \n"
     ]
    },
    {
     "name": "stdout",
     "output_type": "stream",
     "text": [
      "Waiting for simulation script to connect on port: tcp://localhost:21140\n",
      "Please start proper ns-3 simulation script using ./waf --run \"...\"\n",
      "Waf: Entering directory `/home/samuel/ns-allinone-3.29/ns-3.29/build'\n",
      "Waf: Leaving directory `/home/samuel/ns-allinone-3.29/ns-3.29/build'\n",
      "Build commands will be stored in build/compile_commands.json\n",
      "'build' finished successfully (2.742s)\n"
     ]
    },
    {
     "name": "stderr",
     "output_type": "stream",
     "text": [
      "Ns3Env parameters:\n",
      "--nWifi: 50\n",
      "--simulationTime: 60\n",
      "--openGymPort: 21140\n",
      "--envStepTime: 0.01\n",
      "--seed: 42\n",
      "--agentType: discrete\n",
      "--scenario: basic\n",
      "--dryRun: 0\n",
      "Simulation started\n",
      "Simulation process id: 2752748 (parent (waf shell) id: 2752728)\n",
      "Waiting for Python process to connect on port: tcp://localhost:21140\n",
      "Please start proper Python Gym Agent\n",
      "  0%|          | 0/6300 [00:00<?, ?it/s]"
     ]
    },
    {
     "name": "stdout",
     "output_type": "stream",
     "text": [
      "Sent 2213.11 Mb/s.\tMean speed: 36.89 Mb/s\tEpisode 6/15 finished\n",
      "\n",
      "6\n"
     ]
    },
    {
     "name": "stderr",
     "output_type": "stream",
     "text": [
      "100%|██████████| 6300/6300 [2:07:58<00:00,  1.22s/it, curr_speed=37.23 Mbps, mb_sent=2224.31 Mb]  \n"
     ]
    },
    {
     "name": "stdout",
     "output_type": "stream",
     "text": [
      "Waiting for simulation script to connect on port: tcp://localhost:30453\n",
      "Please start proper ns-3 simulation script using ./waf --run \"...\"\n",
      "Waf: Entering directory `/home/samuel/ns-allinone-3.29/ns-3.29/build'\n",
      "Waf: Leaving directory `/home/samuel/ns-allinone-3.29/ns-3.29/build'\n",
      "Build commands will be stored in build/compile_commands.json\n",
      "'build' finished successfully (2.916s)\n"
     ]
    },
    {
     "name": "stderr",
     "output_type": "stream",
     "text": [
      "Ns3Env parameters:\n",
      "--nWifi: 50\n",
      "--simulationTime: 60\n",
      "--openGymPort: 30453\n",
      "--envStepTime: 0.01\n",
      "--seed: 42\n",
      "--agentType: discrete\n",
      "--scenario: basic\n",
      "--dryRun: 0\n",
      "Simulation started\n",
      "Simulation process id: 2776637 (parent (waf shell) id: 2776617)\n",
      "Waiting for Python process to connect on port: tcp://localhost:30453\n",
      "Please start proper Python Gym Agent\n",
      "  0%|          | 0/6300 [00:00<?, ?it/s]"
     ]
    },
    {
     "name": "stdout",
     "output_type": "stream",
     "text": [
      "Sent 2224.31 Mb/s.\tMean speed: 37.07 Mb/s\tEpisode 7/15 finished\n",
      "\n",
      "7\n"
     ]
    },
    {
     "name": "stderr",
     "output_type": "stream",
     "text": [
      "100%|██████████| 6300/6300 [2:06:18<00:00,  1.20s/it, curr_speed=37.12 Mbps, mb_sent=2227.52 Mb]  \n"
     ]
    },
    {
     "name": "stdout",
     "output_type": "stream",
     "text": [
      "Waiting for simulation script to connect on port: tcp://localhost:34008\n",
      "Please start proper ns-3 simulation script using ./waf --run \"...\"\n",
      "Waf: Entering directory `/home/samuel/ns-allinone-3.29/ns-3.29/build'\n",
      "Waf: Leaving directory `/home/samuel/ns-allinone-3.29/ns-3.29/build'\n",
      "Build commands will be stored in build/compile_commands.json\n",
      "'build' finished successfully (3.002s)\n"
     ]
    },
    {
     "name": "stderr",
     "output_type": "stream",
     "text": [
      "Ns3Env parameters:\n",
      "--nWifi: 50\n",
      "--simulationTime: 60\n",
      "--openGymPort: 34008\n",
      "--envStepTime: 0.01\n",
      "--seed: 42\n",
      "--agentType: discrete\n",
      "--scenario: basic\n",
      "--dryRun: 0\n",
      "Simulation started\n",
      "Simulation process id: 2800812 (parent (waf shell) id: 2800783)\n",
      "Waiting for Python process to connect on port: tcp://localhost:34008\n",
      "Please start proper Python Gym Agent\n",
      "  0%|          | 0/6300 [00:00<?, ?it/s]"
     ]
    },
    {
     "name": "stdout",
     "output_type": "stream",
     "text": [
      "Sent 2227.52 Mb/s.\tMean speed: 37.13 Mb/s\tEpisode 8/15 finished\n",
      "\n",
      "8\n"
     ]
    },
    {
     "name": "stderr",
     "output_type": "stream",
     "text": [
      "100%|██████████| 6300/6300 [2:01:17<00:00,  1.16s/it, curr_speed=37.23 Mbps, mb_sent=2234.53 Mb]  \n"
     ]
    },
    {
     "name": "stdout",
     "output_type": "stream",
     "text": [
      "Waiting for simulation script to connect on port: tcp://localhost:21264\n",
      "Please start proper ns-3 simulation script using ./waf --run \"...\"\n",
      "Waf: Entering directory `/home/samuel/ns-allinone-3.29/ns-3.29/build'\n",
      "Waf: Leaving directory `/home/samuel/ns-allinone-3.29/ns-3.29/build'\n",
      "Build commands will be stored in build/compile_commands.json\n",
      "'build' finished successfully (2.303s)\n"
     ]
    },
    {
     "name": "stderr",
     "output_type": "stream",
     "text": [
      "Ns3Env parameters:\n",
      "--nWifi: 50\n",
      "--simulationTime: 60\n",
      "--openGymPort: 21264\n",
      "--envStepTime: 0.01\n",
      "--seed: 42\n",
      "--agentType: discrete\n",
      "--scenario: basic\n",
      "--dryRun: 0\n",
      "Simulation started\n",
      "Simulation process id: 2828531 (parent (waf shell) id: 2828513)\n",
      "Waiting for Python process to connect on port: tcp://localhost:21264\n",
      "Please start proper Python Gym Agent\n",
      "  0%|          | 0/6300 [00:00<?, ?it/s]"
     ]
    },
    {
     "name": "stdout",
     "output_type": "stream",
     "text": [
      "Sent 2234.53 Mb/s.\tMean speed: 37.24 Mb/s\tEpisode 9/15 finished\n",
      "\n",
      "9\n"
     ]
    },
    {
     "name": "stderr",
     "output_type": "stream",
     "text": [
      "100%|██████████| 6300/6300 [1:54:43<00:00,  1.09s/it, curr_speed=37.12 Mbps, mb_sent=2233.89 Mb]  \n"
     ]
    },
    {
     "name": "stdout",
     "output_type": "stream",
     "text": [
      "Waiting for simulation script to connect on port: tcp://localhost:36320\n",
      "Please start proper ns-3 simulation script using ./waf --run \"...\"\n",
      "Waf: Entering directory `/home/samuel/ns-allinone-3.29/ns-3.29/build'\n",
      "Waf: Leaving directory `/home/samuel/ns-allinone-3.29/ns-3.29/build'\n",
      "Build commands will be stored in build/compile_commands.json\n",
      "'build' finished successfully (2.472s)\n"
     ]
    },
    {
     "name": "stderr",
     "output_type": "stream",
     "text": [
      "Ns3Env parameters:\n",
      "--nWifi: 50\n",
      "--simulationTime: 60\n",
      "--openGymPort: 36320\n",
      "--envStepTime: 0.01\n",
      "--seed: 42\n",
      "--agentType: discrete\n",
      "--scenario: basic\n",
      "--dryRun: 0\n",
      "Simulation started\n",
      "Simulation process id: 2849971 (parent (waf shell) id: 2849948)\n",
      "Waiting for Python process to connect on port: tcp://localhost:36320\n",
      "Please start proper Python Gym Agent\n",
      "  0%|          | 0/6300 [00:00<?, ?it/s]"
     ]
    },
    {
     "name": "stdout",
     "output_type": "stream",
     "text": [
      "Sent 2233.89 Mb/s.\tMean speed: 37.23 Mb/s\tEpisode 10/15 finished\n",
      "\n",
      "10\n"
     ]
    },
    {
     "name": "stderr",
     "output_type": "stream",
     "text": [
      "100%|██████████| 6300/6300 [1:58:20<00:00,  1.13s/it, curr_speed=36.99 Mbps, mb_sent=2239.08 Mb]  \n"
     ]
    },
    {
     "name": "stdout",
     "output_type": "stream",
     "text": [
      "Waiting for simulation script to connect on port: tcp://localhost:34193\n",
      "Please start proper ns-3 simulation script using ./waf --run \"...\"\n",
      "Waf: Entering directory `/home/samuel/ns-allinone-3.29/ns-3.29/build'\n",
      "Waf: Leaving directory `/home/samuel/ns-allinone-3.29/ns-3.29/build'\n",
      "Build commands will be stored in build/compile_commands.json\n",
      "'build' finished successfully (2.691s)\n"
     ]
    },
    {
     "name": "stderr",
     "output_type": "stream",
     "text": [
      "Ns3Env parameters:\n",
      "--nWifi: 50\n",
      "--simulationTime: 60\n",
      "--openGymPort: 34193\n",
      "--envStepTime: 0.01\n",
      "--seed: 42\n",
      "--agentType: discrete\n",
      "--scenario: basic\n",
      "--dryRun: 0\n",
      "Simulation started\n",
      "Simulation process id: 2875564 (parent (waf shell) id: 2875544)\n",
      "Waiting for Python process to connect on port: tcp://localhost:34193\n",
      "Please start proper Python Gym Agent\n",
      "  0%|          | 0/6300 [00:00<?, ?it/s]"
     ]
    },
    {
     "name": "stdout",
     "output_type": "stream",
     "text": [
      "Sent 2239.08 Mb/s.\tMean speed: 37.32 Mb/s\tEpisode 11/15 finished\n",
      "\n",
      "11\n"
     ]
    },
    {
     "name": "stderr",
     "output_type": "stream",
     "text": [
      "100%|██████████| 6300/6300 [1:58:02<00:00,  1.12s/it, curr_speed=37.08 Mbps, mb_sent=2239.94 Mb]  \n"
     ]
    },
    {
     "name": "stdout",
     "output_type": "stream",
     "text": [
      "Waiting for simulation script to connect on port: tcp://localhost:14933\n",
      "Please start proper ns-3 simulation script using ./waf --run \"...\"\n",
      "Waf: Entering directory `/home/samuel/ns-allinone-3.29/ns-3.29/build'\n",
      "Waf: Leaving directory `/home/samuel/ns-allinone-3.29/ns-3.29/build'\n",
      "Build commands will be stored in build/compile_commands.json\n",
      "'build' finished successfully (2.372s)\n"
     ]
    },
    {
     "name": "stderr",
     "output_type": "stream",
     "text": [
      "Ns3Env parameters:\n",
      "--nWifi: 50\n",
      "--simulationTime: 60\n",
      "--openGymPort: 14933\n",
      "--envStepTime: 0.01\n",
      "--seed: 42\n",
      "--agentType: discrete\n",
      "--scenario: basic\n",
      "--dryRun: 0\n",
      "Simulation started\n"
     ]
    },
    {
     "name": "stdout",
     "output_type": "stream",
     "text": [
      "WARNING:tensorflow:From /home/samuel/anaconda3/envs/myEnv3_7/lib/python3.7/site-packages/tensorflow/python/training/saver.py:960: remove_checkpoint (from tensorflow.python.training.checkpoint_management) is deprecated and will be removed in a future version.\n",
      "Instructions for updating:\n",
      "Use standard file APIs to delete files with this prefix.\n"
     ]
    },
    {
     "name": "stderr",
     "output_type": "stream",
     "text": [
      "Simulation process id: 2902149 (parent (waf shell) id: 2902128)\n",
      "Waiting for Python process to connect on port: tcp://localhost:14933\n",
      "Please start proper Python Gym Agent\n",
      "\r",
      "  0%|          | 0/6300 [00:00<?, ?it/s]"
     ]
    },
    {
     "name": "stdout",
     "output_type": "stream",
     "text": [
      "Sent 2239.94 Mb/s.\tMean speed: 37.33 Mb/s\tEpisode 12/15 finished\n",
      "\n",
      "12\n",
      "Turning off noise\n"
     ]
    },
    {
     "name": "stderr",
     "output_type": "stream",
     "text": [
      "100%|██████████| 6300/6300 [1:54:40<00:00,  1.09s/it, curr_speed=37.35 Mbps, mb_sent=2242.79 Mb]\n"
     ]
    },
    {
     "name": "stdout",
     "output_type": "stream",
     "text": [
      "Waiting for simulation script to connect on port: tcp://localhost:46556\n",
      "Please start proper ns-3 simulation script using ./waf --run \"...\"\n",
      "Waf: Entering directory `/home/samuel/ns-allinone-3.29/ns-3.29/build'\n",
      "Waf: Leaving directory `/home/samuel/ns-allinone-3.29/ns-3.29/build'\n",
      "Build commands will be stored in build/compile_commands.json\n",
      "'build' finished successfully (2.430s)\n"
     ]
    },
    {
     "name": "stderr",
     "output_type": "stream",
     "text": [
      "Ns3Env parameters:\n",
      "--nWifi: 50\n",
      "--simulationTime: 60\n",
      "--openGymPort: 46556\n",
      "--envStepTime: 0.01\n",
      "--seed: 42\n",
      "--agentType: discrete\n",
      "--scenario: basic\n",
      "--dryRun: 0\n",
      "Simulation started\n",
      "Simulation process id: 2925262 (parent (waf shell) id: 2925240)\n",
      "Waiting for Python process to connect on port: tcp://localhost:46556\n",
      "Please start proper Python Gym Agent\n",
      "  0%|          | 0/6300 [00:00<?, ?it/s]"
     ]
    },
    {
     "name": "stdout",
     "output_type": "stream",
     "text": [
      "Sent 2242.79 Mb/s.\tMean speed: 37.38 Mb/s\tEpisode 13/15 finished\n",
      "\n",
      "13\n",
      "Turning off noise\n"
     ]
    },
    {
     "name": "stderr",
     "output_type": "stream",
     "text": [
      "100%|██████████| 6300/6300 [1:55:29<00:00,  1.10s/it, curr_speed=37.35 Mbps, mb_sent=2244.63 Mb]  \n"
     ]
    },
    {
     "name": "stdout",
     "output_type": "stream",
     "text": [
      "Waiting for simulation script to connect on port: tcp://localhost:48671\n",
      "Please start proper ns-3 simulation script using ./waf --run \"...\"\n",
      "Waf: Entering directory `/home/samuel/ns-allinone-3.29/ns-3.29/build'\n",
      "Waf: Leaving directory `/home/samuel/ns-allinone-3.29/ns-3.29/build'\n",
      "Build commands will be stored in build/compile_commands.json\n",
      "'build' finished successfully (2.337s)\n"
     ]
    },
    {
     "name": "stderr",
     "output_type": "stream",
     "text": [
      "Ns3Env parameters:\n",
      "--nWifi: 50\n",
      "--simulationTime: 60\n",
      "--openGymPort: 48671\n",
      "--envStepTime: 0.01\n",
      "--seed: 42\n",
      "--agentType: discrete\n",
      "--scenario: basic\n",
      "--dryRun: 0\n",
      "Simulation started\n",
      "Simulation process id: 2948406 (parent (waf shell) id: 2948387)\n",
      "Waiting for Python process to connect on port: tcp://localhost:48671\n",
      "Please start proper Python Gym Agent\n",
      "  0%|          | 0/6300 [00:00<?, ?it/s]"
     ]
    },
    {
     "name": "stdout",
     "output_type": "stream",
     "text": [
      "Sent 2244.63 Mb/s.\tMean speed: 37.41 Mb/s\tEpisode 14/15 finished\n",
      "\n",
      "14\n",
      "Turning off noise\n"
     ]
    },
    {
     "name": "stderr",
     "output_type": "stream",
     "text": [
      " 35%|███▌      | 2224/6300 [41:05<1:14:16,  1.09s/it, curr_speed=37.56 Mbps, mb_sent=722.92 Mb]COMET ERROR: File could not be uploaded\n",
      " 35%|███▌      | 2227/6300 [41:07<1:15:19,  1.11s/it, curr_speed=37.54 Mbps, mb_sent=723.63 Mb]COMET ERROR: File could not be uploaded\n",
      " 35%|███▌      | 2232/6300 [41:13<1:13:47,  1.09s/it, curr_speed=37.56 Mbps, mb_sent=725.51 Mb]COMET ERROR: File could not be uploaded\n",
      " 35%|███▌      | 2236/6300 [41:17<1:12:45,  1.07s/it, curr_speed=37.69 Mbps, mb_sent=727.02 Mb]COMET ERROR: File could not be uploaded\n",
      " 36%|███▌      | 2238/6300 [41:19<1:16:30,  1.13s/it, curr_speed=37.66 Mbps, mb_sent=727.74 Mb]COMET ERROR: File could not be uploaded\n",
      " 36%|███▌      | 2240/6300 [41:22<1:20:09,  1.18s/it, curr_speed=37.72 Mbps, mb_sent=728.52 Mb]COMET ERROR: File could not be uploaded\n",
      " 36%|███▌      | 2251/6300 [41:34<1:12:08,  1.07s/it, curr_speed=37.63 Mbps, mb_sent=732.70 Mb]COMET ERROR: File could not be uploaded\n",
      "COMET ERROR: File could not be uploaded\n",
      "COMET ERROR: File could not be uploaded\n",
      "COMET ERROR: File could not be uploaded\n",
      "COMET ERROR: File could not be uploaded\n",
      " 36%|███▌      | 2259/6300 [41:43<1:15:08,  1.12s/it, curr_speed=37.65 Mbps, mb_sent=735.72 Mb]COMET ERROR: File could not be uploaded\n",
      " 36%|███▌      | 2263/6300 [41:48<1:14:46,  1.11s/it, curr_speed=37.71 Mbps, mb_sent=737.28 Mb]COMET ERROR: File could not be uploaded\n",
      "COMET ERROR: File could not be uploaded\n",
      " 36%|███▌      | 2278/6300 [42:05<1:16:28,  1.14s/it, curr_speed=37.79 Mbps, mb_sent=743.02 Mb]COMET ERROR: File could not be uploaded\n",
      "COMET ERROR: File could not be uploaded\n",
      "COMET ERROR: File could not be uploaded\n",
      "COMET ERROR: File could not be uploaded\n",
      " 36%|███▌      | 2279/6300 [42:06<1:14:59,  1.12s/it, curr_speed=37.80 Mbps, mb_sent=743.42 Mb]COMET ERROR: File could not be uploaded\n",
      " 36%|███▋      | 2284/6300 [42:11<1:11:46,  1.07s/it, curr_speed=37.79 Mbps, mb_sent=745.26 Mb]COMET ERROR: File could not be uploaded\n",
      " 36%|███▋      | 2285/6300 [42:12<1:12:10,  1.08s/it, curr_speed=37.78 Mbps, mb_sent=745.64 Mb]COMET ERROR: File could not be uploaded\n",
      " 36%|███▋      | 2292/6300 [42:20<1:11:28,  1.07s/it, curr_speed=37.63 Mbps, mb_sent=748.15 Mb]COMET ERROR: File could not be uploaded\n",
      " 36%|███▋      | 2299/6300 [42:27<1:14:19,  1.11s/it, curr_speed=37.61 Mbps, mb_sent=750.76 Mb]COMET ERROR: File could not be uploaded\n",
      " 37%|███▋      | 2300/6300 [42:29<1:14:38,  1.12s/it, curr_speed=37.60 Mbps, mb_sent=751.16 Mb]COMET ERROR: File could not be uploaded\n",
      " 37%|███▋      | 2303/6300 [42:32<1:14:25,  1.12s/it, curr_speed=37.67 Mbps, mb_sent=752.33 Mb]COMET ERROR: File could not be uploaded\n",
      " 37%|███▋      | 2325/6300 [42:56<1:15:12,  1.14s/it, curr_speed=37.54 Mbps, mb_sent=760.46 Mb]COMET ERROR: File could not be uploaded\n",
      "COMET ERROR: File could not be uploaded\n",
      " 37%|███▋      | 2326/6300 [42:57<1:17:44,  1.17s/it, curr_speed=37.54 Mbps, mb_sent=760.79 Mb]COMET ERROR: File could not be uploaded\n",
      " 37%|███▋      | 2336/6300 [43:08<1:15:58,  1.15s/it, curr_speed=37.43 Mbps, mb_sent=764.45 Mb]COMET ERROR: File could not be uploaded\n",
      " 37%|███▋      | 2339/6300 [43:12<1:15:45,  1.15s/it, curr_speed=37.44 Mbps, mb_sent=765.60 Mb]COMET ERROR: File could not be uploaded\n",
      " 37%|███▋      | 2340/6300 [43:13<1:17:28,  1.17s/it, curr_speed=37.45 Mbps, mb_sent=765.97 Mb]COMET ERROR: File could not be uploaded\n",
      " 37%|███▋      | 2342/6300 [43:15<1:15:31,  1.15s/it, curr_speed=37.38 Mbps, mb_sent=766.69 Mb]COMET ERROR: File could not be uploaded\n",
      " 37%|███▋      | 2347/6300 [43:21<1:13:30,  1.12s/it, curr_speed=37.43 Mbps, mb_sent=768.57 Mb]COMET ERROR: File could not be uploaded\n",
      " 37%|███▋      | 2348/6300 [43:22<1:16:52,  1.17s/it, curr_speed=37.44 Mbps, mb_sent=768.96 Mb]COMET ERROR: File could not be uploaded\n",
      " 37%|███▋      | 2360/6300 [43:35<1:11:10,  1.08s/it, curr_speed=37.22 Mbps, mb_sent=773.30 Mb]COMET ERROR: File could not be uploaded\n",
      " 38%|███▊      | 2366/6300 [43:42<1:11:14,  1.09s/it, curr_speed=37.17 Mbps, mb_sent=775.59 Mb]COMET ERROR: File could not be uploaded\n",
      " 38%|███▊      | 2367/6300 [43:43<1:10:49,  1.08s/it, curr_speed=37.23 Mbps, mb_sent=776.01 Mb]COMET ERROR: File could not be uploaded\n",
      " 38%|███▊      | 2374/6300 [43:50<1:11:03,  1.09s/it, curr_speed=37.12 Mbps, mb_sent=778.62 Mb]COMET ERROR: File could not be uploaded\n",
      " 38%|███▊      | 2375/6300 [43:51<1:11:06,  1.09s/it, curr_speed=37.09 Mbps, mb_sent=779.00 Mb]COMET ERROR: File could not be uploaded\n",
      " 38%|███▊      | 2380/6300 [43:57<1:11:49,  1.10s/it, curr_speed=37.13 Mbps, mb_sent=780.90 Mb]COMET ERROR: File could not be uploaded\n",
      " 38%|███▊      | 2395/6300 [44:13<1:09:59,  1.08s/it, curr_speed=37.02 Mbps, mb_sent=786.31 Mb]COMET ERROR: File could not be uploaded\n",
      " 38%|███▊      | 2399/6300 [44:18<1:11:13,  1.10s/it, curr_speed=37.06 Mbps, mb_sent=787.82 Mb]COMET ERROR: File could not be uploaded\n",
      " 38%|███▊      | 2404/6300 [44:24<1:11:37,  1.10s/it, curr_speed=37.09 Mbps, mb_sent=790.15 Mb]COMET ERROR: File could not be uploaded\n",
      " 38%|███▊      | 2411/6300 [44:31<1:12:53,  1.12s/it, curr_speed=37.00 Mbps, mb_sent=792.28 Mb]COMET ERROR: File could not be uploaded\n",
      " 38%|███▊      | 2414/6300 [44:35<1:13:26,  1.13s/it, curr_speed=37.05 Mbps, mb_sent=793.44 Mb]COMET ERROR: File could not be uploaded\n",
      " 38%|███▊      | 2418/6300 [44:39<1:15:33,  1.17s/it, curr_speed=37.15 Mbps, mb_sent=794.98 Mb]COMET ERROR: File could not be uploaded\n",
      " 38%|███▊      | 2423/6300 [44:45<1:15:19,  1.17s/it, curr_speed=37.10 Mbps, mb_sent=796.83 Mb]COMET ERROR: File could not be uploaded\n",
      " 39%|███▊      | 2430/6300 [44:53<1:15:29,  1.17s/it, curr_speed=37.24 Mbps, mb_sent=799.52 Mb]COMET ERROR: File could not be uploaded\n",
      " 39%|███▊      | 2432/6300 [44:55<1:14:58,  1.16s/it, curr_speed=37.27 Mbps, mb_sent=800.30 Mb]COMET ERROR: File could not be uploaded\n",
      " 39%|███▉      | 2449/6300 [45:14<1:11:39,  1.12s/it, curr_speed=37.43 Mbps, mb_sent=806.78 Mb]COMET ERROR: File could not be uploaded\n",
      "COMET ERROR: File could not be uploaded\n",
      "100%|██████████| 6300/6300 [1:56:34<00:00,  1.11s/it, curr_speed=37.47 Mbps, mb_sent=2248.99 Mb]\n"
     ]
    },
    {
     "name": "stdout",
     "output_type": "stream",
     "text": [
      "Waiting for simulation script to connect on port: tcp://localhost:34913\n",
      "Please start proper ns-3 simulation script using ./waf --run \"...\"\n",
      "Waf: Entering directory `/home/samuel/ns-allinone-3.29/ns-3.29/build'\n",
      "Waf: Leaving directory `/home/samuel/ns-allinone-3.29/ns-3.29/build'\n",
      "Build commands will be stored in build/compile_commands.json\n",
      "'build' finished successfully (2.442s)\n"
     ]
    },
    {
     "name": "stderr",
     "output_type": "stream",
     "text": [
      "Ns3Env parameters:\n",
      "--nWifi: 50\n",
      "--simulationTime: 60\n",
      "--openGymPort: 34913\n",
      "--envStepTime: 0.01\n",
      "--seed: 42\n",
      "--agentType: discrete\n",
      "--scenario: basic\n",
      "--dryRun: 0\n",
      "Simulation started\n",
      "Simulation process id: 2971456 (parent (waf shell) id: 2971436)\n",
      "Waiting for Python process to connect on port: tcp://localhost:34913\n",
      "Please start proper Python Gym Agent\n",
      "COMET INFO: ----------------------------\n",
      "COMET INFO: Comet.ml Experiment Summary:\n",
      "COMET INFO:   Data:\n",
      "COMET INFO:     url: https://www.comet.com/sheila-janota/rl-in-wifi-with-queue-level/d2bd779d8742441f9ed0d9e2ffc939c0\n",
      "COMET INFO:   Metrics [count] (min, max):\n",
      "COMET INFO:     Chosen CW [89985]           : (16.0, 1024.0)\n",
      "COMET INFO:     Cumulative reward [15]      : (2562.372314453125, 3142.348876953125)\n",
      "COMET INFO:     Current throughput [89985]  : (20.104999542236328, 41.06999969482422)\n",
      "COMET INFO:     Fairness index [89985]      : (0.9673519730567932, 0.9997789859771729)\n",
      "COMET INFO:     Megabytes sent [89985]      : (0.20104999840259552, 2248.9877386391163)\n",
      "COMET INFO:     Observation 0 [89985]       : (0.8898865982393425, 0.9750771209597587)\n",
      "COMET INFO:     Observation 1 [89985]       : (0.0022897531107655945, 0.13228747354742112)\n",
      "COMET INFO:     Per-ep reward [89985]       : (111.0986328125, 3142.348876953125)\n",
      "COMET INFO:     Round megabytes sent [89985]: (0.0, 5.64056396484375)\n",
      "COMET INFO:     Round reward [89985]        : (0.0, 0.610595703125)\n",
      "COMET INFO:     Speed [15]                  : (30.667168995086104, 37.48312897731861)\n",
      "COMET INFO:     Station count [89985]       : (50.0, 50.0)\n",
      "COMET INFO:     loss [89985]                : (0.0, 0.1993880793452263)\n",
      "COMET INFO:   Uploads:\n",
      "COMET INFO:     histogram3d: 89985\n",
      "COMET INFO: ----------------------------\n"
     ]
    },
    {
     "name": "stdout",
     "output_type": "stream",
     "text": [
      "Sent 2248.99 Mb/s.\tMean speed: 37.48 Mb/s\tEpisode 15/15 finished\n",
      "\n"
     ]
    },
    {
     "name": "stderr",
     "output_type": "stream",
     "text": [
      "COMET INFO: Uploading stats to Comet before program termination (may take several seconds)\n"
     ]
    },
    {
     "name": "stdout",
     "output_type": "stream",
     "text": [
      "Training finished.\n"
     ]
    }
   ],
   "source": [
    "#%%\n",
    "teacher = Teacher(env, 1, Preprocessor(False))\n",
    "\n",
    "lr = 4e-4\n",
    "config = Config(buffer_size=3*steps_per_ep*threads_no, batch_size=32, gamma=0.7, tau=1e-3, lr=lr, update_every=1)\n",
    "agent = Agent(QNetworkTf, history_length, action_size=7, config=config)\n",
    "agent.set_epsilon(0.9, 0.001, EPISODE_COUNT-2)\n",
    "\n",
    "# Test the model\n",
    "hyperparams = {**config.__dict__, **sim_args}\n",
    "tags = [\"Rew: normalized speed\",\n",
    "        \"Final\",\n",
    "        f\"{Agent.NAME}\",\n",
    "        sim_args['scenario'],\n",
    "        f\"LR: {lr}\",\n",
    "        f\"Instances: {threads_no}\",\n",
    "        f\"Station count: {sim_args['nWifi']}\",\n",
    "        *[f\"{key}: {sim_args[key]}\" for key in list(sim_args)[:3]]]\n",
    "# # agent.save()\n",
    "logger = teacher.train(agent, EPISODE_COUNT,\n",
    "                        simTime=simTime,\n",
    "                        stepTime=stepTime,\n",
    "                        history_length=history_length,\n",
    "                        send_logs=True,\n",
    "                        experimental=True,\n",
    "                        tags=tags,\n",
    "                        parameters=hyperparams)\n",
    "#logger = teacher.eval(agent,\n",
    "#                        simTime=simTime,\n",
    "#                        stepTime=stepTime,\n",
    "#                        history_length=history_length,\n",
    "#                        tags=tags,\n",
    "#                        parameters=hyperparams)\n",
    "# agent.save()\n",
    "\n",
    "\n",
    "# %%"
   ]
  },
  {
   "cell_type": "code",
   "execution_count": null,
   "id": "a9b0410d",
   "metadata": {},
   "outputs": [],
   "source": []
  },
  {
   "cell_type": "code",
   "execution_count": null,
   "id": "2ba318d0",
   "metadata": {},
   "outputs": [],
   "source": []
  },
  {
   "cell_type": "markdown",
   "id": "64b287a9",
   "metadata": {},
   "source": [
    "# Execution num4:"
   ]
  },
  {
   "cell_type": "code",
   "execution_count": 1,
   "id": "fdeb00db",
   "metadata": {},
   "outputs": [
    {
     "name": "stderr",
     "output_type": "stream",
     "text": [
      "/home/samuel/anaconda3/envs/myEnv3_7/lib/python3.7/site-packages/tensorflow/python/framework/dtypes.py:516: FutureWarning: Passing (type, 1) or '1type' as a synonym of type is deprecated; in a future version of numpy, it will be understood as (type, (1,)) / '(1,)type'.\n",
      "  _np_qint8 = np.dtype([(\"qint8\", np.int8, 1)])\n",
      "/home/samuel/anaconda3/envs/myEnv3_7/lib/python3.7/site-packages/tensorflow/python/framework/dtypes.py:517: FutureWarning: Passing (type, 1) or '1type' as a synonym of type is deprecated; in a future version of numpy, it will be understood as (type, (1,)) / '(1,)type'.\n",
      "  _np_quint8 = np.dtype([(\"quint8\", np.uint8, 1)])\n",
      "/home/samuel/anaconda3/envs/myEnv3_7/lib/python3.7/site-packages/tensorflow/python/framework/dtypes.py:518: FutureWarning: Passing (type, 1) or '1type' as a synonym of type is deprecated; in a future version of numpy, it will be understood as (type, (1,)) / '(1,)type'.\n",
      "  _np_qint16 = np.dtype([(\"qint16\", np.int16, 1)])\n",
      "/home/samuel/anaconda3/envs/myEnv3_7/lib/python3.7/site-packages/tensorflow/python/framework/dtypes.py:519: FutureWarning: Passing (type, 1) or '1type' as a synonym of type is deprecated; in a future version of numpy, it will be understood as (type, (1,)) / '(1,)type'.\n",
      "  _np_quint16 = np.dtype([(\"quint16\", np.uint16, 1)])\n",
      "/home/samuel/anaconda3/envs/myEnv3_7/lib/python3.7/site-packages/tensorflow/python/framework/dtypes.py:520: FutureWarning: Passing (type, 1) or '1type' as a synonym of type is deprecated; in a future version of numpy, it will be understood as (type, (1,)) / '(1,)type'.\n",
      "  _np_qint32 = np.dtype([(\"qint32\", np.int32, 1)])\n",
      "/home/samuel/anaconda3/envs/myEnv3_7/lib/python3.7/site-packages/tensorflow/python/framework/dtypes.py:525: FutureWarning: Passing (type, 1) or '1type' as a synonym of type is deprecated; in a future version of numpy, it will be understood as (type, (1,)) / '(1,)type'.\n",
      "  np_resource = np.dtype([(\"resource\", np.ubyte, 1)])\n",
      "/home/samuel/anaconda3/envs/myEnv3_7/lib/python3.7/site-packages/tensorboard/compat/tensorflow_stub/dtypes.py:541: FutureWarning: Passing (type, 1) or '1type' as a synonym of type is deprecated; in a future version of numpy, it will be understood as (type, (1,)) / '(1,)type'.\n",
      "  _np_qint8 = np.dtype([(\"qint8\", np.int8, 1)])\n",
      "/home/samuel/anaconda3/envs/myEnv3_7/lib/python3.7/site-packages/tensorboard/compat/tensorflow_stub/dtypes.py:542: FutureWarning: Passing (type, 1) or '1type' as a synonym of type is deprecated; in a future version of numpy, it will be understood as (type, (1,)) / '(1,)type'.\n",
      "  _np_quint8 = np.dtype([(\"quint8\", np.uint8, 1)])\n",
      "/home/samuel/anaconda3/envs/myEnv3_7/lib/python3.7/site-packages/tensorboard/compat/tensorflow_stub/dtypes.py:543: FutureWarning: Passing (type, 1) or '1type' as a synonym of type is deprecated; in a future version of numpy, it will be understood as (type, (1,)) / '(1,)type'.\n",
      "  _np_qint16 = np.dtype([(\"qint16\", np.int16, 1)])\n",
      "/home/samuel/anaconda3/envs/myEnv3_7/lib/python3.7/site-packages/tensorboard/compat/tensorflow_stub/dtypes.py:544: FutureWarning: Passing (type, 1) or '1type' as a synonym of type is deprecated; in a future version of numpy, it will be understood as (type, (1,)) / '(1,)type'.\n",
      "  _np_quint16 = np.dtype([(\"quint16\", np.uint16, 1)])\n",
      "/home/samuel/anaconda3/envs/myEnv3_7/lib/python3.7/site-packages/tensorboard/compat/tensorflow_stub/dtypes.py:545: FutureWarning: Passing (type, 1) or '1type' as a synonym of type is deprecated; in a future version of numpy, it will be understood as (type, (1,)) / '(1,)type'.\n",
      "  _np_qint32 = np.dtype([(\"qint32\", np.int32, 1)])\n",
      "/home/samuel/anaconda3/envs/myEnv3_7/lib/python3.7/site-packages/tensorboard/compat/tensorflow_stub/dtypes.py:550: FutureWarning: Passing (type, 1) or '1type' as a synonym of type is deprecated; in a future version of numpy, it will be understood as (type, (1,)) / '(1,)type'.\n",
      "  np_resource = np.dtype([(\"resource\", np.ubyte, 1)])\n"
     ]
    }
   ],
   "source": [
    "#%%\n",
    "from ns3gym import ns3env\n",
    "from comet_ml import Experiment, Optimizer\n",
    "import tqdm\n",
    "import subprocess\n",
    "from collections import deque\n",
    "import numpy as np\n",
    "\n",
    "from agents.dqn.agent import Agent, Config\n",
    "from agents.dqn.model import QNetworkTf\n",
    "from agents.teacher import Teacher, EnvWrapper\n",
    "from preprocessor import Preprocessor"
   ]
  },
  {
   "cell_type": "code",
   "execution_count": 2,
   "id": "a289ec8f",
   "metadata": {},
   "outputs": [
    {
     "name": "stdout",
     "output_type": "stream",
     "text": [
      "Steps per episode: 6000\n",
      "Waiting for simulation script to connect on port: tcp://localhost:52215\n",
      "Please start proper ns-3 simulation script using ./waf --run \"...\"\n",
      "Waf: Entering directory `/home/samuel/ns-allinone-3.29/ns-3.29/build'\n",
      "Waf: Leaving directory `/home/samuel/ns-allinone-3.29/ns-3.29/build'\n",
      "Build commands will be stored in build/compile_commands.json\n",
      "'build' finished successfully (3.109s)\n"
     ]
    },
    {
     "name": "stderr",
     "output_type": "stream",
     "text": [
      "Ns3Env parameters:\n",
      "--nWifi: 50\n",
      "--simulationTime: 60\n",
      "--openGymPort: 52215\n",
      "--envStepTime: 0.01\n",
      "--seed: 42\n",
      "--agentType: discrete\n",
      "--scenario: basic\n",
      "--dryRun: 0\n",
      "Simulation started\n"
     ]
    },
    {
     "name": "stdout",
     "output_type": "stream",
     "text": [
      "Observation space shape: (1, 300)\n",
      "Action space shape: (1, 1)\n"
     ]
    },
    {
     "name": "stderr",
     "output_type": "stream",
     "text": [
      "Simulation process id: 2979863 (parent (waf shell) id: 2979843)\n",
      "Waiting for Python process to connect on port: tcp://localhost:52215\n",
      "Please start proper Python Gym Agent\n"
     ]
    }
   ],
   "source": [
    "#%%\n",
    "scenario = \"basic\"\n",
    "\n",
    "simTime = 60 # seconds\n",
    "stepTime = 0.01  # seconds\n",
    "history_length = 300\n",
    "\n",
    "EPISODE_COUNT = 15\n",
    "steps_per_ep = int(simTime/stepTime)\n",
    "\n",
    "sim_args = {\n",
    "    \"simTime\": simTime,\n",
    "    \"envStepTime\": stepTime,\n",
    "    \"historyLength\": history_length,\n",
    "    \"agentType\": Agent.TYPE,\n",
    "    \"scenario\": \"basic\",\n",
    "    \"nWifi\": 50,\n",
    "}\n",
    "\n",
    "print(\"Steps per episode:\", steps_per_ep)\n",
    "\n",
    "threads_no = 1\n",
    "env = EnvWrapper(threads_no, **sim_args)\n",
    "\n",
    "#%%\n",
    "env.reset()\n",
    "ob_space = env.observation_space\n",
    "ac_space = env.action_space\n",
    "\n",
    "print(\"Observation space shape:\", ob_space)\n",
    "print(\"Action space shape:\", ac_space)\n",
    "\n",
    "assert ob_space is not None"
   ]
  },
  {
   "cell_type": "code",
   "execution_count": 3,
   "id": "908d40eb",
   "metadata": {},
   "outputs": [
    {
     "name": "stdout",
     "output_type": "stream",
     "text": [
      "WARNING:tensorflow:From /home/samuel/ns-allinone-3.29/ns-3.29/scratch/RLinWiFi-master-original-queue-level-mean/agents/dqn/agent.py:53: The name tf.Session is deprecated. Please use tf.compat.v1.Session instead.\n",
      "\n",
      "WARNING:tensorflow:From /home/samuel/ns-allinone-3.29/ns-3.29/scratch/RLinWiFi-master-original-queue-level-mean/agents/dqn/model.py:25: The name tf.variable_scope is deprecated. Please use tf.compat.v1.variable_scope instead.\n",
      "\n",
      "WARNING:tensorflow:From /home/samuel/ns-allinone-3.29/ns-3.29/scratch/RLinWiFi-master-original-queue-level-mean/agents/dqn/model.py:26: The name tf.placeholder is deprecated. Please use tf.compat.v1.placeholder instead.\n",
      "\n"
     ]
    },
    {
     "name": "stderr",
     "output_type": "stream",
     "text": [
      "2023-02-18 18:38:48.361592: I tensorflow/core/platform/cpu_feature_guard.cc:142] Your CPU supports instructions that this TensorFlow binary was not compiled to use: AVX2 FMA\n",
      "2023-02-18 18:38:48.410348: I tensorflow/core/platform/profile_utils/cpu_utils.cc:94] CPU Frequency: 3491795000 Hz\n",
      "2023-02-18 18:38:48.411019: I tensorflow/compiler/xla/service/service.cc:168] XLA service 0x5598393703c0 executing computations on platform Host. Devices:\n",
      "2023-02-18 18:38:48.411188: I tensorflow/compiler/xla/service/service.cc:175]   StreamExecutor device (0): <undefined>, <undefined>\n"
     ]
    },
    {
     "name": "stdout",
     "output_type": "stream",
     "text": [
      "WARNING:tensorflow:\n",
      "The TensorFlow contrib module will not be included in TensorFlow 2.0.\n",
      "For more information, please see:\n",
      "  * https://github.com/tensorflow/community/blob/master/rfcs/20180907-contrib-sunset.md\n",
      "  * https://github.com/tensorflow/addons\n",
      "  * https://github.com/tensorflow/io (for I/O related ops)\n",
      "If you depend on functionality not listed there, please file an issue.\n",
      "\n",
      "WARNING:tensorflow:From /home/samuel/ns-allinone-3.29/ns-3.29/scratch/RLinWiFi-master-original-queue-level-mean/agents/dqn/model.py:52: LSTMCell.__init__ (from tensorflow.python.ops.rnn_cell_impl) is deprecated and will be removed in a future version.\n",
      "Instructions for updating:\n",
      "This class is equivalent as tf.keras.layers.LSTMCell, and will be replaced by that in Tensorflow 2.0.\n",
      "WARNING:tensorflow:From /home/samuel/ns-allinone-3.29/ns-3.29/scratch/RLinWiFi-master-original-queue-level-mean/agents/dqn/model.py:52: static_rnn (from tensorflow.python.ops.rnn) is deprecated and will be removed in a future version.\n",
      "Instructions for updating:\n",
      "Please use `keras.layers.RNN(cell, unroll=True)`, which is equivalent to this API\n",
      "WARNING:tensorflow:From /home/samuel/anaconda3/envs/myEnv3_7/lib/python3.7/site-packages/tensorflow/python/ops/init_ops.py:1251: calling VarianceScaling.__init__ (from tensorflow.python.ops.init_ops) with dtype is deprecated and will be removed in a future version.\n",
      "Instructions for updating:\n",
      "Call initializer instance with the dtype argument instead of passing it to the constructor\n",
      "WARNING:tensorflow:From /home/samuel/anaconda3/envs/myEnv3_7/lib/python3.7/site-packages/tensorflow/python/ops/rnn_cell_impl.py:961: calling Zeros.__init__ (from tensorflow.python.ops.init_ops) with dtype is deprecated and will be removed in a future version.\n",
      "Instructions for updating:\n",
      "Call initializer instance with the dtype argument instead of passing it to the constructor\n",
      "WARNING:tensorflow:Entity <bound method LSTMCell.call of <tensorflow.python.ops.rnn_cell_impl.LSTMCell object at 0x7f4d30da5e90>> could not be transformed and will be executed as-is. Please report this to the AutgoGraph team. When filing the bug, set the verbosity to 10 (on Linux, `export AUTOGRAPH_VERBOSITY=10`) and attach the full output. Cause: converting <bound method LSTMCell.call of <tensorflow.python.ops.rnn_cell_impl.LSTMCell object at 0x7f4d30da5e90>>: AttributeError: module 'gast' has no attribute 'Index'\n",
      "WARNING: Entity <bound method LSTMCell.call of <tensorflow.python.ops.rnn_cell_impl.LSTMCell object at 0x7f4d30da5e90>> could not be transformed and will be executed as-is. Please report this to the AutgoGraph team. When filing the bug, set the verbosity to 10 (on Linux, `export AUTOGRAPH_VERBOSITY=10`) and attach the full output. Cause: converting <bound method LSTMCell.call of <tensorflow.python.ops.rnn_cell_impl.LSTMCell object at 0x7f4d30da5e90>>: AttributeError: module 'gast' has no attribute 'Index'\n",
      "WARNING:tensorflow:Entity <bound method LSTMCell.call of <tensorflow.python.ops.rnn_cell_impl.LSTMCell object at 0x7f4d30da5e90>> could not be transformed and will be executed as-is. Please report this to the AutgoGraph team. When filing the bug, set the verbosity to 10 (on Linux, `export AUTOGRAPH_VERBOSITY=10`) and attach the full output. Cause: converting <bound method LSTMCell.call of <tensorflow.python.ops.rnn_cell_impl.LSTMCell object at 0x7f4d30da5e90>>: AttributeError: module 'gast' has no attribute 'Index'\n",
      "WARNING: Entity <bound method LSTMCell.call of <tensorflow.python.ops.rnn_cell_impl.LSTMCell object at 0x7f4d30da5e90>> could not be transformed and will be executed as-is. Please report this to the AutgoGraph team. When filing the bug, set the verbosity to 10 (on Linux, `export AUTOGRAPH_VERBOSITY=10`) and attach the full output. Cause: converting <bound method LSTMCell.call of <tensorflow.python.ops.rnn_cell_impl.LSTMCell object at 0x7f4d30da5e90>>: AttributeError: module 'gast' has no attribute 'Index'\n",
      "WARNING:tensorflow:Entity <bound method LSTMCell.call of <tensorflow.python.ops.rnn_cell_impl.LSTMCell object at 0x7f4d30da5e90>> could not be transformed and will be executed as-is. Please report this to the AutgoGraph team. When filing the bug, set the verbosity to 10 (on Linux, `export AUTOGRAPH_VERBOSITY=10`) and attach the full output. Cause: converting <bound method LSTMCell.call of <tensorflow.python.ops.rnn_cell_impl.LSTMCell object at 0x7f4d30da5e90>>: AttributeError: module 'gast' has no attribute 'Index'\n",
      "WARNING: Entity <bound method LSTMCell.call of <tensorflow.python.ops.rnn_cell_impl.LSTMCell object at 0x7f4d30da5e90>> could not be transformed and will be executed as-is. Please report this to the AutgoGraph team. When filing the bug, set the verbosity to 10 (on Linux, `export AUTOGRAPH_VERBOSITY=10`) and attach the full output. Cause: converting <bound method LSTMCell.call of <tensorflow.python.ops.rnn_cell_impl.LSTMCell object at 0x7f4d30da5e90>>: AttributeError: module 'gast' has no attribute 'Index'\n",
      "WARNING:tensorflow:Entity <bound method LSTMCell.call of <tensorflow.python.ops.rnn_cell_impl.LSTMCell object at 0x7f4d30da5e90>> could not be transformed and will be executed as-is. Please report this to the AutgoGraph team. When filing the bug, set the verbosity to 10 (on Linux, `export AUTOGRAPH_VERBOSITY=10`) and attach the full output. Cause: converting <bound method LSTMCell.call of <tensorflow.python.ops.rnn_cell_impl.LSTMCell object at 0x7f4d30da5e90>>: AttributeError: module 'gast' has no attribute 'Index'\n",
      "WARNING: Entity <bound method LSTMCell.call of <tensorflow.python.ops.rnn_cell_impl.LSTMCell object at 0x7f4d30da5e90>> could not be transformed and will be executed as-is. Please report this to the AutgoGraph team. When filing the bug, set the verbosity to 10 (on Linux, `export AUTOGRAPH_VERBOSITY=10`) and attach the full output. Cause: converting <bound method LSTMCell.call of <tensorflow.python.ops.rnn_cell_impl.LSTMCell object at 0x7f4d30da5e90>>: AttributeError: module 'gast' has no attribute 'Index'\n",
      "WARNING:tensorflow:From /home/samuel/ns-allinone-3.29/ns-3.29/scratch/RLinWiFi-master-original-queue-level-mean/agents/dqn/model.py:53: dense (from tensorflow.python.layers.core) is deprecated and will be removed in a future version.\n",
      "Instructions for updating:\n",
      "Use keras.layers.dense instead.\n",
      "WARNING:tensorflow:Entity <bound method Dense.call of <tensorflow.python.layers.core.Dense object at 0x7f4d30e60650>> could not be transformed and will be executed as-is. Please report this to the AutgoGraph team. When filing the bug, set the verbosity to 10 (on Linux, `export AUTOGRAPH_VERBOSITY=10`) and attach the full output. Cause: converting <bound method Dense.call of <tensorflow.python.layers.core.Dense object at 0x7f4d30e60650>>: AttributeError: module 'gast' has no attribute 'Index'\n",
      "WARNING: Entity <bound method Dense.call of <tensorflow.python.layers.core.Dense object at 0x7f4d30e60650>> could not be transformed and will be executed as-is. Please report this to the AutgoGraph team. When filing the bug, set the verbosity to 10 (on Linux, `export AUTOGRAPH_VERBOSITY=10`) and attach the full output. Cause: converting <bound method Dense.call of <tensorflow.python.layers.core.Dense object at 0x7f4d30e60650>>: AttributeError: module 'gast' has no attribute 'Index'\n",
      "WARNING:tensorflow:Entity <bound method Dense.call of <tensorflow.python.layers.core.Dense object at 0x7f4d30e60650>> could not be transformed and will be executed as-is. Please report this to the AutgoGraph team. When filing the bug, set the verbosity to 10 (on Linux, `export AUTOGRAPH_VERBOSITY=10`) and attach the full output. Cause: converting <bound method Dense.call of <tensorflow.python.layers.core.Dense object at 0x7f4d30e60650>>: AttributeError: module 'gast' has no attribute 'Index'\n",
      "WARNING: Entity <bound method Dense.call of <tensorflow.python.layers.core.Dense object at 0x7f4d30e60650>> could not be transformed and will be executed as-is. Please report this to the AutgoGraph team. When filing the bug, set the verbosity to 10 (on Linux, `export AUTOGRAPH_VERBOSITY=10`) and attach the full output. Cause: converting <bound method Dense.call of <tensorflow.python.layers.core.Dense object at 0x7f4d30e60650>>: AttributeError: module 'gast' has no attribute 'Index'\n"
     ]
    },
    {
     "name": "stdout",
     "output_type": "stream",
     "text": [
      "WARNING:tensorflow:Entity <bound method Dense.call of <tensorflow.python.layers.core.Dense object at 0x7f4d30e60650>> could not be transformed and will be executed as-is. Please report this to the AutgoGraph team. When filing the bug, set the verbosity to 10 (on Linux, `export AUTOGRAPH_VERBOSITY=10`) and attach the full output. Cause: converting <bound method Dense.call of <tensorflow.python.layers.core.Dense object at 0x7f4d30e60650>>: AttributeError: module 'gast' has no attribute 'Index'\n",
      "WARNING: Entity <bound method Dense.call of <tensorflow.python.layers.core.Dense object at 0x7f4d30e60650>> could not be transformed and will be executed as-is. Please report this to the AutgoGraph team. When filing the bug, set the verbosity to 10 (on Linux, `export AUTOGRAPH_VERBOSITY=10`) and attach the full output. Cause: converting <bound method Dense.call of <tensorflow.python.layers.core.Dense object at 0x7f4d30e60650>>: AttributeError: module 'gast' has no attribute 'Index'\n",
      "WARNING:tensorflow:From /home/samuel/ns-allinone-3.29/ns-3.29/scratch/RLinWiFi-master-original-queue-level-mean/agents/dqn/model.py:69: The name tf.losses.mean_squared_error is deprecated. Please use tf.compat.v1.losses.mean_squared_error instead.\n",
      "\n",
      "WARNING:tensorflow:From /home/samuel/anaconda3/envs/myEnv3_7/lib/python3.7/site-packages/tensorflow/python/ops/losses/losses_impl.py:121: add_dispatch_support.<locals>.wrapper (from tensorflow.python.ops.array_ops) is deprecated and will be removed in a future version.\n",
      "Instructions for updating:\n",
      "Use tf.where in 2.0, which has the same broadcast rule as np.where\n",
      "WARNING:tensorflow:From /home/samuel/ns-allinone-3.29/ns-3.29/scratch/RLinWiFi-master-original-queue-level-mean/agents/dqn/model.py:77: The name tf.train.AdamOptimizer is deprecated. Please use tf.compat.v1.train.AdamOptimizer instead.\n",
      "\n",
      "WARNING:tensorflow:From /home/samuel/ns-allinone-3.29/ns-3.29/scratch/RLinWiFi-master-original-queue-level-mean/agents/dqn/model.py:33: The name tf.global_variables_initializer is deprecated. Please use tf.compat.v1.global_variables_initializer instead.\n",
      "\n",
      "WARNING:tensorflow:From /home/samuel/ns-allinone-3.29/ns-3.29/scratch/RLinWiFi-master-original-queue-level-mean/agents/dqn/model.py:34: The name tf.local_variables_initializer is deprecated. Please use tf.compat.v1.local_variables_initializer instead.\n",
      "\n",
      "WARNING:tensorflow:Entity <bound method LSTMCell.call of <tensorflow.python.ops.rnn_cell_impl.LSTMCell object at 0x7f4cf22059d0>> could not be transformed and will be executed as-is. Please report this to the AutgoGraph team. When filing the bug, set the verbosity to 10 (on Linux, `export AUTOGRAPH_VERBOSITY=10`) and attach the full output. Cause: converting <bound method LSTMCell.call of <tensorflow.python.ops.rnn_cell_impl.LSTMCell object at 0x7f4cf22059d0>>: AttributeError: module 'gast' has no attribute 'Index'\n",
      "WARNING: Entity <bound method LSTMCell.call of <tensorflow.python.ops.rnn_cell_impl.LSTMCell object at 0x7f4cf22059d0>> could not be transformed and will be executed as-is. Please report this to the AutgoGraph team. When filing the bug, set the verbosity to 10 (on Linux, `export AUTOGRAPH_VERBOSITY=10`) and attach the full output. Cause: converting <bound method LSTMCell.call of <tensorflow.python.ops.rnn_cell_impl.LSTMCell object at 0x7f4cf22059d0>>: AttributeError: module 'gast' has no attribute 'Index'\n",
      "WARNING:tensorflow:Entity <bound method LSTMCell.call of <tensorflow.python.ops.rnn_cell_impl.LSTMCell object at 0x7f4cf22059d0>> could not be transformed and will be executed as-is. Please report this to the AutgoGraph team. When filing the bug, set the verbosity to 10 (on Linux, `export AUTOGRAPH_VERBOSITY=10`) and attach the full output. Cause: converting <bound method LSTMCell.call of <tensorflow.python.ops.rnn_cell_impl.LSTMCell object at 0x7f4cf22059d0>>: AttributeError: module 'gast' has no attribute 'Index'\n",
      "WARNING: Entity <bound method LSTMCell.call of <tensorflow.python.ops.rnn_cell_impl.LSTMCell object at 0x7f4cf22059d0>> could not be transformed and will be executed as-is. Please report this to the AutgoGraph team. When filing the bug, set the verbosity to 10 (on Linux, `export AUTOGRAPH_VERBOSITY=10`) and attach the full output. Cause: converting <bound method LSTMCell.call of <tensorflow.python.ops.rnn_cell_impl.LSTMCell object at 0x7f4cf22059d0>>: AttributeError: module 'gast' has no attribute 'Index'\n",
      "WARNING:tensorflow:Entity <bound method LSTMCell.call of <tensorflow.python.ops.rnn_cell_impl.LSTMCell object at 0x7f4cf22059d0>> could not be transformed and will be executed as-is. Please report this to the AutgoGraph team. When filing the bug, set the verbosity to 10 (on Linux, `export AUTOGRAPH_VERBOSITY=10`) and attach the full output. Cause: converting <bound method LSTMCell.call of <tensorflow.python.ops.rnn_cell_impl.LSTMCell object at 0x7f4cf22059d0>>: AttributeError: module 'gast' has no attribute 'Index'\n",
      "WARNING: Entity <bound method LSTMCell.call of <tensorflow.python.ops.rnn_cell_impl.LSTMCell object at 0x7f4cf22059d0>> could not be transformed and will be executed as-is. Please report this to the AutgoGraph team. When filing the bug, set the verbosity to 10 (on Linux, `export AUTOGRAPH_VERBOSITY=10`) and attach the full output. Cause: converting <bound method LSTMCell.call of <tensorflow.python.ops.rnn_cell_impl.LSTMCell object at 0x7f4cf22059d0>>: AttributeError: module 'gast' has no attribute 'Index'\n",
      "WARNING:tensorflow:Entity <bound method LSTMCell.call of <tensorflow.python.ops.rnn_cell_impl.LSTMCell object at 0x7f4cf22059d0>> could not be transformed and will be executed as-is. Please report this to the AutgoGraph team. When filing the bug, set the verbosity to 10 (on Linux, `export AUTOGRAPH_VERBOSITY=10`) and attach the full output. Cause: converting <bound method LSTMCell.call of <tensorflow.python.ops.rnn_cell_impl.LSTMCell object at 0x7f4cf22059d0>>: AttributeError: module 'gast' has no attribute 'Index'\n"
     ]
    },
    {
     "name": "stderr",
     "output_type": "stream",
     "text": [
      "2023-02-18 18:38:50.315371: W tensorflow/compiler/jit/mark_for_compilation_pass.cc:1412] (One-time warning): Not using XLA:CPU for cluster because envvar TF_XLA_FLAGS=--tf_xla_cpu_global_jit was not set.  If you want XLA:CPU, either set that envvar, or use experimental_jit_scope to enable XLA:CPU.  To confirm that XLA is active, pass --vmodule=xla_compilation_cache=1 (as a proper command-line flag, not via TF_XLA_FLAGS) or set the envvar XLA_FLAGS=--xla_hlo_profile.\n"
     ]
    },
    {
     "name": "stdout",
     "output_type": "stream",
     "text": [
      "WARNING: Entity <bound method LSTMCell.call of <tensorflow.python.ops.rnn_cell_impl.LSTMCell object at 0x7f4cf22059d0>> could not be transformed and will be executed as-is. Please report this to the AutgoGraph team. When filing the bug, set the verbosity to 10 (on Linux, `export AUTOGRAPH_VERBOSITY=10`) and attach the full output. Cause: converting <bound method LSTMCell.call of <tensorflow.python.ops.rnn_cell_impl.LSTMCell object at 0x7f4cf22059d0>>: AttributeError: module 'gast' has no attribute 'Index'\n",
      "WARNING:tensorflow:Entity <bound method Dense.call of <tensorflow.python.layers.core.Dense object at 0x7f4cf22059d0>> could not be transformed and will be executed as-is. Please report this to the AutgoGraph team. When filing the bug, set the verbosity to 10 (on Linux, `export AUTOGRAPH_VERBOSITY=10`) and attach the full output. Cause: converting <bound method Dense.call of <tensorflow.python.layers.core.Dense object at 0x7f4cf22059d0>>: AttributeError: module 'gast' has no attribute 'Index'\n",
      "WARNING: Entity <bound method Dense.call of <tensorflow.python.layers.core.Dense object at 0x7f4cf22059d0>> could not be transformed and will be executed as-is. Please report this to the AutgoGraph team. When filing the bug, set the verbosity to 10 (on Linux, `export AUTOGRAPH_VERBOSITY=10`) and attach the full output. Cause: converting <bound method Dense.call of <tensorflow.python.layers.core.Dense object at 0x7f4cf22059d0>>: AttributeError: module 'gast' has no attribute 'Index'\n",
      "WARNING:tensorflow:Entity <bound method Dense.call of <tensorflow.python.layers.core.Dense object at 0x7f4cf22059d0>> could not be transformed and will be executed as-is. Please report this to the AutgoGraph team. When filing the bug, set the verbosity to 10 (on Linux, `export AUTOGRAPH_VERBOSITY=10`) and attach the full output. Cause: converting <bound method Dense.call of <tensorflow.python.layers.core.Dense object at 0x7f4cf22059d0>>: AttributeError: module 'gast' has no attribute 'Index'\n",
      "WARNING: Entity <bound method Dense.call of <tensorflow.python.layers.core.Dense object at 0x7f4cf22059d0>> could not be transformed and will be executed as-is. Please report this to the AutgoGraph team. When filing the bug, set the verbosity to 10 (on Linux, `export AUTOGRAPH_VERBOSITY=10`) and attach the full output. Cause: converting <bound method Dense.call of <tensorflow.python.layers.core.Dense object at 0x7f4cf22059d0>>: AttributeError: module 'gast' has no attribute 'Index'\n",
      "WARNING:tensorflow:Entity <bound method Dense.call of <tensorflow.python.layers.core.Dense object at 0x7f4cf22059d0>> could not be transformed and will be executed as-is. Please report this to the AutgoGraph team. When filing the bug, set the verbosity to 10 (on Linux, `export AUTOGRAPH_VERBOSITY=10`) and attach the full output. Cause: converting <bound method Dense.call of <tensorflow.python.layers.core.Dense object at 0x7f4cf22059d0>>: AttributeError: module 'gast' has no attribute 'Index'\n",
      "WARNING: Entity <bound method Dense.call of <tensorflow.python.layers.core.Dense object at 0x7f4cf22059d0>> could not be transformed and will be executed as-is. Please report this to the AutgoGraph team. When filing the bug, set the verbosity to 10 (on Linux, `export AUTOGRAPH_VERBOSITY=10`) and attach the full output. Cause: converting <bound method Dense.call of <tensorflow.python.layers.core.Dense object at 0x7f4cf22059d0>>: AttributeError: module 'gast' has no attribute 'Index'\n",
      "WARNING:tensorflow:From /home/samuel/ns-allinone-3.29/ns-3.29/scratch/RLinWiFi-master-original-queue-level-mean/agents/dqn/agent.py:77: The name tf.train.Saver is deprecated. Please use tf.compat.v1.train.Saver instead.\n",
      "\n",
      "Action space: 7\n",
      "WARNING:tensorflow:From /home/samuel/ns-allinone-3.29/ns-3.29/scratch/RLinWiFi-master-original-queue-level-mean/agents/dqn/agent.py:107: Variable.load (from tensorflow.python.ops.variables) is deprecated and will be removed in a future version.\n",
      "Instructions for updating:\n",
      "Prefer Variable.assign which has equivalent behavior in 2.X.\n"
     ]
    },
    {
     "name": "stderr",
     "output_type": "stream",
     "text": [
      "COMET INFO: Experiment is live on comet.ml https://www.comet.com/sheila-janota/rl-in-wifi-with-queue-level/adbaf7eeea1e40aaaa2565f2e2a2cf7e\n",
      "\n",
      "  0%|          | 0/6300 [00:00<?, ?it/s]"
     ]
    },
    {
     "name": "stdout",
     "output_type": "stream",
     "text": [
      "0\n"
     ]
    },
    {
     "name": "stderr",
     "output_type": "stream",
     "text": [
      "  5%|▌         | 333/6300 [06:28<2:01:31,  1.22s/it, curr_speed=26.14 Mbps, mb_sent=8.37 Mb]"
     ]
    },
    {
     "name": "stdout",
     "output_type": "stream",
     "text": [
      "------- STARTED TRAINING -------\n"
     ]
    },
    {
     "name": "stderr",
     "output_type": "stream",
     "text": [
      "100%|██████████| 6300/6300 [2:05:32<00:00,  1.20s/it, curr_speed=29.57 Mbps, mb_sent=1857.42 Mb] \n"
     ]
    },
    {
     "name": "stdout",
     "output_type": "stream",
     "text": [
      "Waiting for simulation script to connect on port: tcp://localhost:35967\n",
      "Please start proper ns-3 simulation script using ./waf --run \"...\"\n",
      "Waf: Entering directory `/home/samuel/ns-allinone-3.29/ns-3.29/build'\n",
      "Waf: Leaving directory `/home/samuel/ns-allinone-3.29/ns-3.29/build'\n",
      "Build commands will be stored in build/compile_commands.json\n",
      "'build' finished successfully (2.825s)\n"
     ]
    },
    {
     "name": "stderr",
     "output_type": "stream",
     "text": [
      "Ns3Env parameters:\n",
      "--nWifi: 50\n",
      "--simulationTime: 60\n",
      "--openGymPort: 35967\n",
      "--envStepTime: 0.01\n",
      "--seed: 42\n",
      "--agentType: discrete\n",
      "--scenario: basic\n",
      "--dryRun: 0\n",
      "Simulation started\n",
      "Simulation process id: 3003620 (parent (waf shell) id: 3003600)\n",
      "Waiting for Python process to connect on port: tcp://localhost:35967\n",
      "Please start proper Python Gym Agent\n",
      "  0%|          | 0/6300 [00:00<?, ?it/s]"
     ]
    },
    {
     "name": "stdout",
     "output_type": "stream",
     "text": [
      "Sent 1857.42 Mb/s.\tMean speed: 30.96 Mb/s\tEpisode 1/15 finished\n",
      "\n",
      "1\n"
     ]
    },
    {
     "name": "stderr",
     "output_type": "stream",
     "text": [
      "100%|██████████| 6300/6300 [2:06:13<00:00,  1.20s/it, curr_speed=31.80 Mbps, mb_sent=2029.22 Mb]  \n"
     ]
    },
    {
     "name": "stdout",
     "output_type": "stream",
     "text": [
      "Waiting for simulation script to connect on port: tcp://localhost:28956\n",
      "Please start proper ns-3 simulation script using ./waf --run \"...\"\n",
      "Waf: Entering directory `/home/samuel/ns-allinone-3.29/ns-3.29/build'\n",
      "Waf: Leaving directory `/home/samuel/ns-allinone-3.29/ns-3.29/build'\n",
      "Build commands will be stored in build/compile_commands.json\n",
      "'build' finished successfully (2.615s)\n"
     ]
    },
    {
     "name": "stderr",
     "output_type": "stream",
     "text": [
      "Ns3Env parameters:\n",
      "--nWifi: 50\n",
      "--simulationTime: 60\n",
      "--openGymPort: 28956\n",
      "--envStepTime: 0.01\n",
      "--seed: 42\n",
      "--agentType: discrete\n",
      "--scenario: basic\n",
      "--dryRun: 0\n",
      "Simulation started\n",
      "Simulation process id: 3027115 (parent (waf shell) id: 3027097)\n",
      "Waiting for Python process to connect on port: tcp://localhost:28956\n",
      "Please start proper Python Gym Agent\n",
      "  0%|          | 0/6300 [00:00<?, ?it/s]"
     ]
    },
    {
     "name": "stdout",
     "output_type": "stream",
     "text": [
      "Sent 2029.22 Mb/s.\tMean speed: 33.82 Mb/s\tEpisode 2/15 finished\n",
      "\n",
      "2\n"
     ]
    },
    {
     "name": "stderr",
     "output_type": "stream",
     "text": [
      "100%|██████████| 6300/6300 [2:07:22<00:00,  1.21s/it, curr_speed=34.97 Mbps, mb_sent=2107.19 Mb]  \n"
     ]
    },
    {
     "name": "stdout",
     "output_type": "stream",
     "text": [
      "Waiting for simulation script to connect on port: tcp://localhost:39220\n",
      "Please start proper ns-3 simulation script using ./waf --run \"...\"\n",
      "Waf: Entering directory `/home/samuel/ns-allinone-3.29/ns-3.29/build'\n",
      "Waf: Leaving directory `/home/samuel/ns-allinone-3.29/ns-3.29/build'\n",
      "Build commands will be stored in build/compile_commands.json\n",
      "'build' finished successfully (2.700s)\n"
     ]
    },
    {
     "name": "stderr",
     "output_type": "stream",
     "text": [
      "Ns3Env parameters:\n",
      "--nWifi: 50\n",
      "--simulationTime: 60\n",
      "--openGymPort: 39220\n",
      "--envStepTime: 0.01\n",
      "--seed: 42\n",
      "--agentType: discrete\n",
      "--scenario: basic\n",
      "--dryRun: 0\n",
      "Simulation started\n",
      "Simulation process id: 3050755 (parent (waf shell) id: 3050732)\n",
      "Waiting for Python process to connect on port: tcp://localhost:39220\n",
      "Please start proper Python Gym Agent\n",
      "  0%|          | 0/6300 [00:00<?, ?it/s]"
     ]
    },
    {
     "name": "stdout",
     "output_type": "stream",
     "text": [
      "Sent 2107.19 Mb/s.\tMean speed: 35.12 Mb/s\tEpisode 3/15 finished\n",
      "\n",
      "3\n"
     ]
    },
    {
     "name": "stderr",
     "output_type": "stream",
     "text": [
      "  5%|▍         | 304/6300 [05:48<2:08:02,  1.28s/it, curr_speed=37.98 Mbps, mb_sent=1.14 Mb]"
     ]
    },
    {
     "name": "stdout",
     "output_type": "stream",
     "text": [
      "------- MEMORY BUFFER FILLED -------\n"
     ]
    },
    {
     "name": "stderr",
     "output_type": "stream",
     "text": [
      "100%|██████████| 6300/6300 [2:05:18<00:00,  1.19s/it, curr_speed=36.39 Mbps, mb_sent=2165.88 Mb]  \n"
     ]
    },
    {
     "name": "stdout",
     "output_type": "stream",
     "text": [
      "Waiting for simulation script to connect on port: tcp://localhost:19762\n",
      "Please start proper ns-3 simulation script using ./waf --run \"...\"\n",
      "Waf: Entering directory `/home/samuel/ns-allinone-3.29/ns-3.29/build'\n",
      "Waf: Leaving directory `/home/samuel/ns-allinone-3.29/ns-3.29/build'\n",
      "Build commands will be stored in build/compile_commands.json\n",
      "'build' finished successfully (2.858s)\n"
     ]
    },
    {
     "name": "stderr",
     "output_type": "stream",
     "text": [
      "Ns3Env parameters:\n",
      "--nWifi: 50\n",
      "--simulationTime: 60\n",
      "--openGymPort: 19762\n",
      "--envStepTime: 0.01\n",
      "--seed: 42\n",
      "--agentType: discrete\n",
      "--scenario: basic\n",
      "--dryRun: 0\n",
      "Simulation started\n",
      "Simulation process id: 3074231 (parent (waf shell) id: 3074207)\n",
      "Waiting for Python process to connect on port: tcp://localhost:19762\n",
      "Please start proper Python Gym Agent\n",
      "  0%|          | 0/6300 [00:00<?, ?it/s]"
     ]
    },
    {
     "name": "stdout",
     "output_type": "stream",
     "text": [
      "Sent 2165.88 Mb/s.\tMean speed: 36.10 Mb/s\tEpisode 4/15 finished\n",
      "\n",
      "4\n"
     ]
    },
    {
     "name": "stderr",
     "output_type": "stream",
     "text": [
      "100%|██████████| 6300/6300 [2:06:43<00:00,  1.21s/it, curr_speed=37.36 Mbps, mb_sent=2201.66 Mb]  \n"
     ]
    },
    {
     "name": "stdout",
     "output_type": "stream",
     "text": [
      "Waiting for simulation script to connect on port: tcp://localhost:47563\n",
      "Please start proper ns-3 simulation script using ./waf --run \"...\"\n",
      "Waf: Entering directory `/home/samuel/ns-allinone-3.29/ns-3.29/build'\n",
      "Waf: Leaving directory `/home/samuel/ns-allinone-3.29/ns-3.29/build'\n",
      "Build commands will be stored in build/compile_commands.json\n",
      "'build' finished successfully (3.035s)\n"
     ]
    },
    {
     "name": "stderr",
     "output_type": "stream",
     "text": [
      "Ns3Env parameters:\n",
      "--nWifi: 50\n",
      "--simulationTime: 60\n",
      "--openGymPort: 47563\n",
      "--envStepTime: 0.01\n",
      "--seed: 42\n",
      "--agentType: discrete\n",
      "--scenario: basic\n",
      "--dryRun: 0\n",
      "Simulation started\n",
      "Simulation process id: 3097823 (parent (waf shell) id: 3097802)\n",
      "Waiting for Python process to connect on port: tcp://localhost:47563\n",
      "Please start proper Python Gym Agent\n",
      "  0%|          | 0/6300 [00:00<?, ?it/s]"
     ]
    },
    {
     "name": "stdout",
     "output_type": "stream",
     "text": [
      "Sent 2201.66 Mb/s.\tMean speed: 36.69 Mb/s\tEpisode 5/15 finished\n",
      "\n",
      "5\n"
     ]
    },
    {
     "name": "stderr",
     "output_type": "stream",
     "text": [
      "100%|██████████| 6300/6300 [2:07:18<00:00,  1.21s/it, curr_speed=37.14 Mbps, mb_sent=2214.68 Mb]  \n"
     ]
    },
    {
     "name": "stdout",
     "output_type": "stream",
     "text": [
      "Waiting for simulation script to connect on port: tcp://localhost:36398\n",
      "Please start proper ns-3 simulation script using ./waf --run \"...\"\n",
      "Waf: Entering directory `/home/samuel/ns-allinone-3.29/ns-3.29/build'\n",
      "Waf: Leaving directory `/home/samuel/ns-allinone-3.29/ns-3.29/build'\n",
      "Build commands will be stored in build/compile_commands.json\n",
      "'build' finished successfully (2.916s)\n"
     ]
    },
    {
     "name": "stderr",
     "output_type": "stream",
     "text": [
      "Ns3Env parameters:\n",
      "--nWifi: 50\n",
      "--simulationTime: 60\n",
      "--openGymPort: 36398\n",
      "--envStepTime: 0.01\n",
      "--seed: 42\n",
      "--agentType: discrete\n",
      "--scenario: basic\n",
      "--dryRun: 0\n",
      "Simulation started\n",
      "Simulation process id: 3121323 (parent (waf shell) id: 3121303)\n",
      "Waiting for Python process to connect on port: tcp://localhost:36398\n",
      "Please start proper Python Gym Agent\n",
      "  0%|          | 0/6300 [00:00<?, ?it/s]"
     ]
    },
    {
     "name": "stdout",
     "output_type": "stream",
     "text": [
      "Sent 2214.68 Mb/s.\tMean speed: 36.91 Mb/s\tEpisode 6/15 finished\n",
      "\n",
      "6\n"
     ]
    },
    {
     "name": "stderr",
     "output_type": "stream",
     "text": [
      "100%|██████████| 6300/6300 [2:05:51<00:00,  1.20s/it, curr_speed=37.50 Mbps, mb_sent=2226.16 Mb]  \n"
     ]
    },
    {
     "name": "stdout",
     "output_type": "stream",
     "text": [
      "Waiting for simulation script to connect on port: tcp://localhost:34559\n",
      "Please start proper ns-3 simulation script using ./waf --run \"...\"\n",
      "Waf: Entering directory `/home/samuel/ns-allinone-3.29/ns-3.29/build'\n",
      "Waf: Leaving directory `/home/samuel/ns-allinone-3.29/ns-3.29/build'\n",
      "Build commands will be stored in build/compile_commands.json\n",
      "'build' finished successfully (2.858s)\n"
     ]
    },
    {
     "name": "stderr",
     "output_type": "stream",
     "text": [
      "Ns3Env parameters:\n",
      "--nWifi: 50\n",
      "--simulationTime: 60\n",
      "--openGymPort: 34559\n",
      "--envStepTime: 0.01\n",
      "--seed: 42\n",
      "--agentType: discrete\n",
      "--scenario: basic\n",
      "--dryRun: 0\n",
      "Simulation started\n",
      "Simulation process id: 3144938 (parent (waf shell) id: 3144915)\n",
      "Waiting for Python process to connect on port: tcp://localhost:34559\n",
      "Please start proper Python Gym Agent\n",
      "  0%|          | 0/6300 [00:00<?, ?it/s]"
     ]
    },
    {
     "name": "stdout",
     "output_type": "stream",
     "text": [
      "Sent 2226.16 Mb/s.\tMean speed: 37.10 Mb/s\tEpisode 7/15 finished\n",
      "\n",
      "7\n"
     ]
    },
    {
     "name": "stderr",
     "output_type": "stream",
     "text": [
      "100%|██████████| 6300/6300 [2:06:09<00:00,  1.20s/it, curr_speed=36.74 Mbps, mb_sent=2232.35 Mb]  \n"
     ]
    },
    {
     "name": "stdout",
     "output_type": "stream",
     "text": [
      "Waiting for simulation script to connect on port: tcp://localhost:44458\n",
      "Please start proper ns-3 simulation script using ./waf --run \"...\"\n",
      "Waf: Entering directory `/home/samuel/ns-allinone-3.29/ns-3.29/build'\n",
      "Waf: Leaving directory `/home/samuel/ns-allinone-3.29/ns-3.29/build'\n",
      "Build commands will be stored in build/compile_commands.json\n",
      "'build' finished successfully (2.839s)\n"
     ]
    },
    {
     "name": "stderr",
     "output_type": "stream",
     "text": [
      "Ns3Env parameters:\n",
      "--nWifi: 50\n",
      "--simulationTime: 60\n",
      "--openGymPort: 44458\n",
      "--envStepTime: 0.01\n",
      "--seed: 42\n",
      "--agentType: discrete\n",
      "--scenario: basic\n",
      "--dryRun: 0\n",
      "Simulation started\n",
      "Simulation process id: 3169039 (parent (waf shell) id: 3169019)\n",
      "Waiting for Python process to connect on port: tcp://localhost:44458\n",
      "Please start proper Python Gym Agent\n",
      "  0%|          | 0/6300 [00:00<?, ?it/s]"
     ]
    },
    {
     "name": "stdout",
     "output_type": "stream",
     "text": [
      "Sent 2232.35 Mb/s.\tMean speed: 37.21 Mb/s\tEpisode 8/15 finished\n",
      "\n",
      "8\n"
     ]
    },
    {
     "name": "stderr",
     "output_type": "stream",
     "text": [
      "100%|██████████| 6300/6300 [1:57:10<00:00,  1.12s/it, curr_speed=37.40 Mbps, mb_sent=2232.91 Mb]  \n"
     ]
    },
    {
     "name": "stdout",
     "output_type": "stream",
     "text": [
      "Waiting for simulation script to connect on port: tcp://localhost:48794\n",
      "Please start proper ns-3 simulation script using ./waf --run \"...\"\n",
      "Waf: Entering directory `/home/samuel/ns-allinone-3.29/ns-3.29/build'\n",
      "Waf: Leaving directory `/home/samuel/ns-allinone-3.29/ns-3.29/build'\n",
      "Build commands will be stored in build/compile_commands.json\n",
      "'build' finished successfully (2.302s)\n"
     ]
    },
    {
     "name": "stderr",
     "output_type": "stream",
     "text": [
      "Ns3Env parameters:\n",
      "--nWifi: 50\n",
      "--simulationTime: 60\n",
      "--openGymPort: 48794\n",
      "--envStepTime: 0.01\n",
      "--seed: 42\n",
      "--agentType: discrete\n",
      "--scenario: basic\n",
      "--dryRun: 0\n",
      "Simulation started\n",
      "Simulation process id: 3190725 (parent (waf shell) id: 3190707)\n",
      "Waiting for Python process to connect on port: tcp://localhost:48794\n",
      "Please start proper Python Gym Agent\n",
      "  0%|          | 0/6300 [00:00<?, ?it/s]"
     ]
    },
    {
     "name": "stdout",
     "output_type": "stream",
     "text": [
      "Sent 2232.91 Mb/s.\tMean speed: 37.22 Mb/s\tEpisode 9/15 finished\n",
      "\n",
      "9\n"
     ]
    },
    {
     "name": "stderr",
     "output_type": "stream",
     "text": [
      "100%|██████████| 6300/6300 [1:54:58<00:00,  1.09s/it, curr_speed=37.60 Mbps, mb_sent=2238.09 Mb]  \n"
     ]
    },
    {
     "name": "stdout",
     "output_type": "stream",
     "text": [
      "Waiting for simulation script to connect on port: tcp://localhost:22958\n",
      "Please start proper ns-3 simulation script using ./waf --run \"...\"\n",
      "Waf: Entering directory `/home/samuel/ns-allinone-3.29/ns-3.29/build'\n",
      "Waf: Leaving directory `/home/samuel/ns-allinone-3.29/ns-3.29/build'\n",
      "Build commands will be stored in build/compile_commands.json\n",
      "'build' finished successfully (2.352s)\n"
     ]
    },
    {
     "name": "stderr",
     "output_type": "stream",
     "text": [
      "Ns3Env parameters:\n",
      "--nWifi: 50\n",
      "--simulationTime: 60\n",
      "--openGymPort: 22958\n",
      "--envStepTime: 0.01\n",
      "--seed: 42\n",
      "--agentType: discrete\n",
      "--scenario: basic\n",
      "--dryRun: 0\n",
      "Simulation started\n",
      "Simulation process id: 3211994 (parent (waf shell) id: 3211977)\n",
      "Waiting for Python process to connect on port: tcp://localhost:22958\n",
      "Please start proper Python Gym Agent\n",
      "  0%|          | 0/6300 [00:00<?, ?it/s]"
     ]
    },
    {
     "name": "stdout",
     "output_type": "stream",
     "text": [
      "Sent 2238.09 Mb/s.\tMean speed: 37.30 Mb/s\tEpisode 10/15 finished\n",
      "\n",
      "10\n"
     ]
    },
    {
     "name": "stderr",
     "output_type": "stream",
     "text": [
      " 47%|████▋     | 2939/6300 [54:13<1:03:23,  1.13s/it, curr_speed=37.45 Mbps, mb_sent=986.22 Mb]COMET ERROR: File could not be uploaded\n",
      " 47%|████▋     | 2940/6300 [54:14<1:04:37,  1.15s/it, curr_speed=37.46 Mbps, mb_sent=986.61 Mb]COMET ERROR: File could not be uploaded\n",
      " 47%|████▋     | 2942/6300 [54:16<1:10:12,  1.25s/it, curr_speed=37.44 Mbps, mb_sent=987.37 Mb]COMET ERROR: File could not be uploaded\n",
      " 47%|████▋     | 2943/6300 [54:18<1:08:48,  1.23s/it, curr_speed=37.41 Mbps, mb_sent=987.72 Mb]COMET ERROR: File could not be uploaded\n",
      " 47%|████▋     | 2944/6300 [54:19<1:08:45,  1.23s/it, curr_speed=37.38 Mbps, mb_sent=988.09 Mb]COMET ERROR: File could not be uploaded\n",
      " 47%|████▋     | 2954/6300 [54:30<1:06:11,  1.19s/it, curr_speed=37.34 Mbps, mb_sent=991.76 Mb]COMET ERROR: File could not be uploaded\n",
      " 47%|████▋     | 2956/6300 [54:33<1:10:44,  1.27s/it, curr_speed=37.33 Mbps, mb_sent=992.49 Mb]COMET ERROR: File could not be uploaded\n",
      " 47%|████▋     | 2970/6300 [54:50<1:08:24,  1.23s/it, curr_speed=37.16 Mbps, mb_sent=997.66 Mb]COMET ERROR: File could not be uploaded\n",
      " 47%|████▋     | 2974/6300 [54:55<1:05:36,  1.18s/it, curr_speed=37.24 Mbps, mb_sent=999.18 Mb]COMET ERROR: File could not be uploaded\n",
      " 47%|████▋     | 2990/6300 [55:14<1:06:23,  1.20s/it, curr_speed=37.12 Mbps, mb_sent=1005.04 Mb]COMET ERROR: File could not be uploaded\n",
      "COMET ERROR: File could not be uploaded\n",
      "COMET ERROR: File could not be uploaded\n",
      " 48%|████▊     | 2995/6300 [55:20<1:08:02,  1.24s/it, curr_speed=37.16 Mbps, mb_sent=1006.88 Mb]COMET ERROR: File could not be uploaded\n",
      " 48%|████▊     | 2999/6300 [55:26<1:11:09,  1.29s/it, curr_speed=37.03 Mbps, mb_sent=1008.26 Mb]COMET ERROR: File could not be uploaded\n",
      " 48%|████▊     | 3002/6300 [55:29<1:08:55,  1.25s/it, curr_speed=36.99 Mbps, mb_sent=1009.34 Mb]COMET ERROR: File could not be uploaded\n",
      " 48%|████▊     | 3005/6300 [55:33<1:07:50,  1.24s/it, curr_speed=36.90 Mbps, mb_sent=1010.36 Mb]COMET ERROR: File could not be uploaded\n",
      " 48%|████▊     | 3007/6300 [55:35<1:04:19,  1.17s/it, curr_speed=36.94 Mbps, mb_sent=1011.16 Mb]COMET ERROR: File could not be uploaded\n",
      " 48%|████▊     | 3024/6300 [55:56<1:12:15,  1.32s/it, curr_speed=36.95 Mbps, mb_sent=1017.55 Mb]COMET ERROR: File could not be uploaded\n",
      " 48%|████▊     | 3025/6300 [55:58<1:15:01,  1.37s/it, curr_speed=36.96 Mbps, mb_sent=1017.93 Mb]COMET ERROR: File could not be uploaded\n",
      " 48%|████▊     | 3031/6300 [56:05<1:07:38,  1.24s/it, curr_speed=37.02 Mbps, mb_sent=1020.19 Mb]COMET ERROR: File could not be uploaded\n",
      " 48%|████▊     | 3034/6300 [56:09<1:09:27,  1.28s/it, curr_speed=37.03 Mbps, mb_sent=1021.34 Mb]COMET ERROR: File could not be uploaded\n",
      " 48%|████▊     | 3036/6300 [56:11<1:07:22,  1.24s/it, curr_speed=37.05 Mbps, mb_sent=1022.08 Mb]COMET ERROR: File could not be uploaded\n",
      " 48%|████▊     | 3050/6300 [56:29<1:13:56,  1.37s/it, curr_speed=36.95 Mbps, mb_sent=1027.26 Mb]COMET ERROR: File could not be uploaded\n",
      " 48%|████▊     | 3051/6300 [56:30<1:09:10,  1.28s/it, curr_speed=36.97 Mbps, mb_sent=1027.60 Mb]COMET ERROR: File could not be uploaded\n",
      " 48%|████▊     | 3055/6300 [56:35<1:04:47,  1.20s/it, curr_speed=36.93 Mbps, mb_sent=1029.04 Mb]COMET ERROR: File could not be uploaded\n",
      " 49%|████▊     | 3068/6300 [56:50<1:05:06,  1.21s/it, curr_speed=37.03 Mbps, mb_sent=1033.99 Mb]COMET ERROR: File could not be uploaded\n",
      " 49%|████▊     | 3069/6300 [56:52<1:05:32,  1.22s/it, curr_speed=37.02 Mbps, mb_sent=1034.37 Mb]COMET ERROR: File could not be uploaded\n",
      "COMET ERROR: File could not be uploaded\n",
      "COMET ERROR: File could not be uploaded\n",
      "COMET ERROR: File could not be uploaded\n",
      "COMET ERROR: File could not be uploaded\n",
      " 49%|████▉     | 3072/6300 [56:56<1:07:16,  1.25s/it, curr_speed=37.02 Mbps, mb_sent=1035.45 Mb]COMET ERROR: File could not be uploaded\n",
      " 49%|████▉     | 3074/6300 [56:58<1:07:26,  1.25s/it, curr_speed=37.02 Mbps, mb_sent=1036.20 Mb]COMET ERROR: File could not be uploaded\n",
      " 49%|████▉     | 3075/6300 [56:59<1:06:47,  1.24s/it, curr_speed=36.97 Mbps, mb_sent=1036.52 Mb]COMET ERROR: File could not be uploaded\n",
      " 49%|████▉     | 3084/6300 [57:10<1:02:27,  1.17s/it, curr_speed=37.03 Mbps, mb_sent=1039.89 Mb]COMET ERROR: File could not be uploaded\n",
      " 50%|████▉     | 3129/6300 [58:03<1:01:46,  1.17s/it, curr_speed=37.33 Mbps, mb_sent=1056.80 Mb]COMET ERROR: File could not be uploaded\n",
      "COMET ERROR: File could not be uploaded\n",
      "COMET ERROR: File could not be uploaded\n",
      "COMET ERROR: File could not be uploaded\n",
      "COMET ERROR: File could not be uploaded\n",
      "COMET ERROR: File could not be uploaded\n",
      "COMET ERROR: File could not be uploaded\n",
      "COMET ERROR: File could not be uploaded\n",
      "COMET ERROR: File could not be uploaded\n",
      "COMET ERROR: File could not be uploaded\n",
      "COMET ERROR: File could not be uploaded\n",
      "COMET ERROR: File could not be uploaded\n",
      "COMET ERROR: File could not be uploaded\n",
      " 50%|████▉     | 3130/6300 [58:05<1:06:35,  1.26s/it, curr_speed=37.37 Mbps, mb_sent=1057.18 Mb]COMET ERROR: File could not be uploaded\n",
      "COMET ERROR: File could not be uploaded\n",
      "COMET ERROR: File could not be uploaded\n",
      "COMET ERROR: File could not be uploaded\n",
      "COMET ERROR: File could not be uploaded\n",
      "COMET ERROR: File could not be uploaded\n",
      "COMET ERROR: File could not be uploaded\n",
      "COMET ERROR: File could not be uploaded\n",
      "COMET ERROR: File could not be uploaded\n",
      "COMET ERROR: File could not be uploaded\n",
      " 50%|████▉     | 3132/6300 [58:07<1:06:06,  1.25s/it, curr_speed=37.34 Mbps, mb_sent=1057.95 Mb]COMET ERROR: File could not be uploaded\n",
      " 50%|████▉     | 3133/6300 [58:08<1:05:16,  1.24s/it, curr_speed=37.37 Mbps, mb_sent=1058.37 Mb]COMET ERROR: File could not be uploaded\n",
      " 50%|████▉     | 3137/6300 [58:13<1:01:18,  1.16s/it, curr_speed=37.44 Mbps, mb_sent=1059.88 Mb]COMET ERROR: File could not be uploaded\n",
      " 50%|████▉     | 3139/6300 [58:15<1:05:26,  1.24s/it, curr_speed=37.43 Mbps, mb_sent=1060.66 Mb]COMET ERROR: File could not be uploaded\n",
      " 50%|████▉     | 3144/6300 [58:22<1:03:10,  1.20s/it, curr_speed=37.47 Mbps, mb_sent=1062.54 Mb]COMET ERROR: File could not be uploaded\n",
      " 54%|█████▍    | 3402/6300 [1:03:29<57:03,  1.18s/it, curr_speed=36.81 Mbps, mb_sent=1158.92 Mb]  COMET ERROR: File could not be uploaded\n",
      " 56%|█████▋    | 3553/6300 [1:06:28<52:12,  1.14s/it, curr_speed=36.95 Mbps, mb_sent=1215.07 Mb]  COMET ERROR: File could not be uploaded\n",
      "COMET ERROR: File could not be uploaded\n",
      " 57%|█████▋    | 3567/6300 [1:06:45<52:44,  1.16s/it, curr_speed=37.08 Mbps, mb_sent=1220.29 Mb]COMET ERROR: File could not be uploaded\n",
      " 57%|█████▋    | 3568/6300 [1:06:46<52:29,  1.15s/it, curr_speed=37.14 Mbps, mb_sent=1220.70 Mb]COMET ERROR: File could not be uploaded\n",
      " 57%|█████▋    | 3575/6300 [1:06:55<56:59,  1.25s/it, curr_speed=37.25 Mbps, mb_sent=1223.37 Mb]COMET ERROR: File could not be uploaded\n",
      " 57%|█████▋    | 3588/6300 [1:07:10<51:32,  1.14s/it, curr_speed=37.18 Mbps, mb_sent=1227.96 Mb]COMET ERROR: File could not be uploaded\n",
      " 57%|█████▋    | 3590/6300 [1:07:12<53:49,  1.19s/it, curr_speed=37.24 Mbps, mb_sent=1228.76 Mb]COMET ERROR: File could not be uploaded\n",
      " 57%|█████▋    | 3597/6300 [1:07:21<50:41,  1.13s/it, curr_speed=37.12 Mbps, mb_sent=1231.33 Mb]COMET ERROR: File could not be uploaded\n",
      " 57%|█████▋    | 3602/6300 [1:07:27<52:36,  1.17s/it, curr_speed=37.27 Mbps, mb_sent=1233.27 Mb]COMET ERROR: File could not be uploaded\n",
      " 57%|█████▋    | 3603/6300 [1:07:28<53:37,  1.19s/it, curr_speed=37.24 Mbps, mb_sent=1233.62 Mb]COMET ERROR: File could not be uploaded\n",
      " 57%|█████▋    | 3606/6300 [1:07:33<53:15,  1.19s/it, curr_speed=37.13 Mbps, mb_sent=1235.06 Mb]COMET ERROR: File could not be uploaded\n",
      " 57%|█████▋    | 3607/6300 [1:07:33<53:05,  1.18s/it, curr_speed=37.13 Mbps, mb_sent=1235.06 Mb]COMET ERROR: File could not be uploaded\n",
      " 57%|█████▋    | 3609/6300 [1:07:35<54:02,  1.20s/it, curr_speed=37.15 Mbps, mb_sent=1235.81 Mb]COMET ERROR: File could not be uploaded\n",
      " 58%|█████▊    | 3625/6300 [1:07:55<56:26,  1.27s/it, curr_speed=37.15 Mbps, mb_sent=1241.66 Mb]COMET ERROR: File could not be uploaded\n",
      " 58%|█████▊    | 3639/6300 [1:08:11<53:57,  1.22s/it, curr_speed=36.96 Mbps, mb_sent=1246.79 Mb]COMET ERROR: File could not be uploaded\n",
      " 58%|█████▊    | 3640/6300 [1:08:12<52:44,  1.19s/it, curr_speed=36.95 Mbps, mb_sent=1247.16 Mb]COMET ERROR: File could not be uploaded\n",
      " 58%|█████▊    | 3642/6300 [1:08:15<54:16,  1.23s/it, curr_speed=37.03 Mbps, mb_sent=1247.93 Mb]COMET ERROR: File could not be uploaded\n",
      " 58%|█████▊    | 3643/6300 [1:08:16<54:14,  1.23s/it, curr_speed=36.98 Mbps, mb_sent=1248.30 Mb]COMET ERROR: File could not be uploaded\n",
      " 58%|█████▊    | 3657/6300 [1:08:33<54:31,  1.24s/it, curr_speed=37.16 Mbps, mb_sent=1253.72 Mb]COMET ERROR: File could not be uploaded\n",
      " 58%|█████▊    | 3660/6300 [1:08:37<54:04,  1.23s/it, curr_speed=37.12 Mbps, mb_sent=1254.82 Mb]COMET ERROR: File could not be uploaded\n",
      " 58%|█████▊    | 3672/6300 [1:08:51<53:46,  1.23s/it, curr_speed=37.05 Mbps, mb_sent=1259.31 Mb]COMET ERROR: File could not be uploaded\n",
      " 59%|█████▊    | 3688/6300 [1:09:10<49:04,  1.13s/it, curr_speed=37.50 Mbps, mb_sent=1265.45 Mb]COMET ERROR: File could not be uploaded\n",
      " 59%|█████▊    | 3690/6300 [1:09:13<53:20,  1.23s/it, curr_speed=37.45 Mbps, mb_sent=1266.21 Mb]COMET ERROR: File could not be uploaded\n",
      " 59%|█████▊    | 3691/6300 [1:09:14<52:50,  1.22s/it, curr_speed=37.47 Mbps, mb_sent=1266.58 Mb]COMET ERROR: File could not be uploaded\n",
      " 59%|█████▊    | 3692/6300 [1:09:15<53:19,  1.23s/it, curr_speed=37.50 Mbps, mb_sent=1266.96 Mb]COMET ERROR: File could not be uploaded\n",
      " 59%|█████▊    | 3699/6300 [1:09:23<49:29,  1.14s/it, curr_speed=37.53 Mbps, mb_sent=1269.65 Mb]COMET ERROR: File could not be uploaded\n",
      " 59%|█████▊    | 3700/6300 [1:09:25<54:45,  1.26s/it, curr_speed=37.51 Mbps, mb_sent=1270.02 Mb]COMET ERROR: File could not be uploaded\n",
      " 59%|█████▉    | 3702/6300 [1:09:27<52:23,  1.21s/it, curr_speed=37.50 Mbps, mb_sent=1270.77 Mb]COMET ERROR: File could not be uploaded\n",
      " 59%|█████▉    | 3713/6300 [1:09:41<50:34,  1.17s/it, curr_speed=37.54 Mbps, mb_sent=1274.80 Mb]COMET ERROR: File could not be uploaded\n",
      "COMET ERROR: File could not be uploaded\n",
      "COMET ERROR: File could not be uploaded\n",
      "COMET ERROR: File could not be uploaded\n",
      "COMET ERROR: File could not be uploaded\n",
      " 59%|█████▉    | 3716/6300 [1:09:44<52:22,  1.22s/it, curr_speed=37.47 Mbps, mb_sent=1275.88 Mb]COMET ERROR: File could not be uploaded\n",
      " 59%|█████▉    | 3718/6300 [1:09:47<52:08,  1.21s/it, curr_speed=37.51 Mbps, mb_sent=1276.60 Mb]COMET ERROR: File could not be uploaded\n",
      " 59%|█████▉    | 3721/6300 [1:09:50<50:21,  1.17s/it, curr_speed=37.54 Mbps, mb_sent=1277.73 Mb]COMET ERROR: File could not be uploaded\n",
      " 59%|█████▉    | 3723/6300 [1:09:53<51:30,  1.20s/it, curr_speed=37.64 Mbps, mb_sent=1278.53 Mb]COMET ERROR: File could not be uploaded\n",
      " 59%|█████▉    | 3726/6300 [1:09:57<53:10,  1.24s/it, curr_speed=37.61 Mbps, mb_sent=1279.63 Mb]COMET ERROR: File could not be uploaded\n",
      " 59%|█████▉    | 3733/6300 [1:10:05<51:09,  1.20s/it, curr_speed=37.75 Mbps, mb_sent=1282.26 Mb]COMET ERROR: File could not be uploaded\n",
      " 59%|█████▉    | 3737/6300 [1:10:10<50:08,  1.17s/it, curr_speed=37.72 Mbps, mb_sent=1283.73 Mb]COMET ERROR: File could not be uploaded\n",
      " 62%|██████▏   | 3929/6300 [1:14:00<48:19,  1.22s/it, curr_speed=37.37 Mbps, mb_sent=1356.07 Mb]COMET ERROR: File could not be uploaded\n",
      " 62%|██████▏   | 3931/6300 [1:14:03<50:16,  1.27s/it, curr_speed=37.44 Mbps, mb_sent=1356.86 Mb]COMET ERROR: File could not be uploaded\n",
      " 62%|██████▏   | 3936/6300 [1:14:09<46:27,  1.18s/it, curr_speed=37.51 Mbps, mb_sent=1358.77 Mb]COMET ERROR: File could not be uploaded\n",
      " 63%|██████▎   | 3938/6300 [1:14:11<47:17,  1.20s/it, curr_speed=37.63 Mbps, mb_sent=1359.54 Mb]COMET ERROR: File could not be uploaded\n",
      " 63%|██████▎   | 3939/6300 [1:14:13<47:39,  1.21s/it, curr_speed=37.67 Mbps, mb_sent=1359.91 Mb]COMET ERROR: File could not be uploaded\n",
      " 63%|██████▎   | 3954/6300 [1:14:30<45:45,  1.17s/it, curr_speed=37.42 Mbps, mb_sent=1365.28 Mb]COMET ERROR: File could not be uploaded\n",
      " 63%|██████▎   | 3955/6300 [1:14:31<47:54,  1.23s/it, curr_speed=37.37 Mbps, mb_sent=1365.64 Mb]COMET ERROR: File could not be uploaded\n",
      "COMET ERROR: File could not be uploaded\n",
      " 63%|██████▎   | 3962/6300 [1:14:40<47:19,  1.21s/it, curr_speed=37.34 Mbps, mb_sent=1368.21 Mb]COMET ERROR: File could not be uploaded\n",
      " 63%|██████▎   | 3968/6300 [1:14:47<44:08,  1.14s/it, curr_speed=37.22 Mbps, mb_sent=1370.34 Mb]COMET ERROR: File could not be uploaded\n",
      "COMET ERROR: File could not be uploaded\n",
      " 63%|██████▎   | 3969/6300 [1:14:48<48:36,  1.25s/it, curr_speed=37.23 Mbps, mb_sent=1370.76 Mb]COMET ERROR: File could not be uploaded\n",
      " 63%|██████▎   | 3973/6300 [1:14:53<46:51,  1.21s/it, curr_speed=37.21 Mbps, mb_sent=1372.27 Mb]COMET ERROR: File could not be uploaded\n",
      " 63%|██████▎   | 3974/6300 [1:14:54<45:22,  1.17s/it, curr_speed=37.16 Mbps, mb_sent=1372.61 Mb]COMET ERROR: File could not be uploaded\n",
      " 63%|██████▎   | 3976/6300 [1:14:57<46:29,  1.20s/it, curr_speed=37.07 Mbps, mb_sent=1373.29 Mb]COMET ERROR: File could not be uploaded\n",
      " 63%|██████▎   | 3977/6300 [1:14:58<45:49,  1.18s/it, curr_speed=37.12 Mbps, mb_sent=1373.67 Mb]COMET ERROR: File could not be uploaded\n",
      " 63%|██████▎   | 3981/6300 [1:15:03<45:22,  1.17s/it, curr_speed=37.21 Mbps, mb_sent=1375.18 Mb]COMET ERROR: File could not be uploaded\n",
      " 63%|██████▎   | 3998/6300 [1:15:24<46:42,  1.22s/it, curr_speed=37.54 Mbps, mb_sent=1381.78 Mb]COMET ERROR: File could not be uploaded\n",
      "COMET ERROR: File could not be uploaded\n",
      "COMET ERROR: File could not be uploaded\n",
      " 64%|██████▎   | 4001/6300 [1:15:28<49:12,  1.28s/it, curr_speed=37.57 Mbps, mb_sent=1382.91 Mb]COMET ERROR: File could not be uploaded\n",
      " 64%|██████▎   | 4004/6300 [1:15:32<48:07,  1.26s/it, curr_speed=37.59 Mbps, mb_sent=1384.07 Mb]COMET ERROR: File could not be uploaded\n",
      " 64%|██████▎   | 4008/6300 [1:15:37<51:13,  1.34s/it, curr_speed=37.55 Mbps, mb_sent=1385.53 Mb]COMET ERROR: File could not be uploaded\n",
      " 64%|██████▎   | 4013/6300 [1:15:43<46:33,  1.22s/it, curr_speed=37.57 Mbps, mb_sent=1387.50 Mb]COMET ERROR: File could not be uploaded\n",
      " 64%|██████▍   | 4023/6300 [1:15:55<47:00,  1.24s/it, curr_speed=37.45 Mbps, mb_sent=1391.15 Mb]COMET ERROR: File could not be uploaded\n",
      " 64%|██████▍   | 4029/6300 [1:16:03<48:22,  1.28s/it, curr_speed=37.27 Mbps, mb_sent=1393.34 Mb]COMET ERROR: File could not be uploaded\n",
      " 64%|██████▍   | 4031/6300 [1:16:05<45:24,  1.20s/it, curr_speed=37.29 Mbps, mb_sent=1394.16 Mb]COMET ERROR: File could not be uploaded\n",
      " 67%|██████▋   | 4201/6300 [1:19:29<41:58,  1.20s/it, curr_speed=37.37 Mbps, mb_sent=1457.83 Mb]COMET ERROR: File could not be uploaded\n",
      " 67%|██████▋   | 4207/6300 [1:19:36<40:15,  1.15s/it, curr_speed=37.35 Mbps, mb_sent=1460.02 Mb]COMET ERROR: File could not be uploaded\n",
      " 67%|██████▋   | 4210/6300 [1:19:40<40:40,  1.17s/it, curr_speed=37.43 Mbps, mb_sent=1461.22 Mb]COMET ERROR: File could not be uploaded\n",
      " 67%|██████▋   | 4212/6300 [1:19:43<42:15,  1.21s/it, curr_speed=37.48 Mbps, mb_sent=1462.01 Mb]COMET ERROR: File could not be uploaded\n",
      " 67%|██████▋   | 4220/6300 [1:19:52<41:24,  1.19s/it, curr_speed=37.52 Mbps, mb_sent=1465.05 Mb]COMET ERROR: File could not be uploaded\n",
      "100%|██████████| 6300/6300 [2:01:27<00:00,  1.16s/it, curr_speed=37.69 Mbps, mb_sent=2244.02 Mb]\n"
     ]
    },
    {
     "name": "stdout",
     "output_type": "stream",
     "text": [
      "Waiting for simulation script to connect on port: tcp://localhost:45974\n",
      "Please start proper ns-3 simulation script using ./waf --run \"...\"\n",
      "Waf: Entering directory `/home/samuel/ns-allinone-3.29/ns-3.29/build'\n",
      "Waf: Leaving directory `/home/samuel/ns-allinone-3.29/ns-3.29/build'\n",
      "Build commands will be stored in build/compile_commands.json\n",
      "'build' finished successfully (2.942s)\n"
     ]
    },
    {
     "name": "stderr",
     "output_type": "stream",
     "text": [
      "Ns3Env parameters:\n",
      "--nWifi: 50\n",
      "--simulationTime: 60\n",
      "--openGymPort: 45974\n",
      "--envStepTime: 0.01\n",
      "--seed: 42\n",
      "--agentType: discrete\n",
      "--scenario: basic\n",
      "--dryRun: 0\n",
      "Simulation started\n",
      "Simulation process id: 3234704 (parent (waf shell) id: 3234683)\n",
      "Waiting for Python process to connect on port: tcp://localhost:45974\n",
      "Please start proper Python Gym Agent\n",
      "  0%|          | 0/6300 [00:00<?, ?it/s]"
     ]
    },
    {
     "name": "stdout",
     "output_type": "stream",
     "text": [
      "Sent 2244.02 Mb/s.\tMean speed: 37.40 Mb/s\tEpisode 11/15 finished\n",
      "\n",
      "11\n"
     ]
    },
    {
     "name": "stderr",
     "output_type": "stream",
     "text": [
      "100%|██████████| 6300/6300 [2:07:35<00:00,  1.22s/it, curr_speed=37.25 Mbps, mb_sent=2235.92 Mb]  \n"
     ]
    },
    {
     "name": "stdout",
     "output_type": "stream",
     "text": [
      "Waiting for simulation script to connect on port: tcp://localhost:52867\n",
      "Please start proper ns-3 simulation script using ./waf --run \"...\"\n",
      "Waf: Entering directory `/home/samuel/ns-allinone-3.29/ns-3.29/build'\n",
      "Waf: Leaving directory `/home/samuel/ns-allinone-3.29/ns-3.29/build'\n",
      "Build commands will be stored in build/compile_commands.json\n",
      "'build' finished successfully (2.845s)\n"
     ]
    },
    {
     "name": "stderr",
     "output_type": "stream",
     "text": [
      "Ns3Env parameters:\n",
      "--nWifi: 50\n",
      "--simulationTime: 60\n",
      "--openGymPort: 52867\n",
      "--envStepTime: 0.01\n",
      "--seed: 42\n",
      "--agentType: discrete\n",
      "--scenario: basic\n",
      "--dryRun: 0\n",
      "Simulation started\n"
     ]
    },
    {
     "name": "stdout",
     "output_type": "stream",
     "text": [
      "WARNING:tensorflow:From /home/samuel/anaconda3/envs/myEnv3_7/lib/python3.7/site-packages/tensorflow/python/training/saver.py:960: remove_checkpoint (from tensorflow.python.training.checkpoint_management) is deprecated and will be removed in a future version.\n",
      "Instructions for updating:\n",
      "Use standard file APIs to delete files with this prefix.\n"
     ]
    },
    {
     "name": "stderr",
     "output_type": "stream",
     "text": [
      "Simulation process id: 3261197 (parent (waf shell) id: 3261167)\n",
      "Waiting for Python process to connect on port: tcp://localhost:52867\n",
      "Please start proper Python Gym Agent\n",
      "  0%|          | 0/6300 [00:00<?, ?it/s]"
     ]
    },
    {
     "name": "stdout",
     "output_type": "stream",
     "text": [
      "Sent 2235.92 Mb/s.\tMean speed: 37.27 Mb/s\tEpisode 12/15 finished\n",
      "\n",
      "12\n",
      "Turning off noise\n"
     ]
    },
    {
     "name": "stderr",
     "output_type": "stream",
     "text": [
      "100%|██████████| 6300/6300 [1:59:49<00:00,  1.14s/it, curr_speed=37.12 Mbps, mb_sent=2246.73 Mb]  \n"
     ]
    },
    {
     "name": "stdout",
     "output_type": "stream",
     "text": [
      "Waiting for simulation script to connect on port: tcp://localhost:17829\n",
      "Please start proper ns-3 simulation script using ./waf --run \"...\"\n",
      "Waf: Entering directory `/home/samuel/ns-allinone-3.29/ns-3.29/build'\n",
      "Waf: Leaving directory `/home/samuel/ns-allinone-3.29/ns-3.29/build'\n",
      "Build commands will be stored in build/compile_commands.json\n",
      "'build' finished successfully (2.271s)\n"
     ]
    },
    {
     "name": "stderr",
     "output_type": "stream",
     "text": [
      "Ns3Env parameters:\n",
      "--nWifi: 50\n",
      "--simulationTime: 60\n",
      "--openGymPort: 17829\n",
      "--envStepTime: 0.01\n",
      "--seed: 42\n",
      "--agentType: discrete\n",
      "--scenario: basic\n",
      "--dryRun: 0\n",
      "Simulation started\n",
      "Simulation process id: 3285549 (parent (waf shell) id: 3285531)\n",
      "Waiting for Python process to connect on port: tcp://localhost:17829\n",
      "Please start proper Python Gym Agent\n",
      "  0%|          | 0/6300 [00:00<?, ?it/s]"
     ]
    },
    {
     "name": "stdout",
     "output_type": "stream",
     "text": [
      "Sent 2246.73 Mb/s.\tMean speed: 37.45 Mb/s\tEpisode 13/15 finished\n",
      "\n",
      "13\n",
      "Turning off noise\n"
     ]
    },
    {
     "name": "stderr",
     "output_type": "stream",
     "text": [
      "100%|██████████| 6300/6300 [2:04:42<00:00,  1.19s/it, curr_speed=36.91 Mbps, mb_sent=2238.47 Mb]  \n"
     ]
    },
    {
     "name": "stdout",
     "output_type": "stream",
     "text": [
      "Waiting for simulation script to connect on port: tcp://localhost:32595\n",
      "Please start proper ns-3 simulation script using ./waf --run \"...\"\n",
      "Waf: Entering directory `/home/samuel/ns-allinone-3.29/ns-3.29/build'\n",
      "Waf: Leaving directory `/home/samuel/ns-allinone-3.29/ns-3.29/build'\n",
      "Build commands will be stored in build/compile_commands.json\n",
      "'build' finished successfully (3.128s)\n"
     ]
    },
    {
     "name": "stderr",
     "output_type": "stream",
     "text": [
      "Ns3Env parameters:\n",
      "--nWifi: 50\n",
      "--simulationTime: 60\n",
      "--openGymPort: 32595\n",
      "--envStepTime: 0.01\n",
      "--seed: 42\n",
      "--agentType: discrete\n",
      "--scenario: basic\n",
      "--dryRun: 0\n",
      "Simulation started\n",
      "Simulation process id: 3308668 (parent (waf shell) id: 3308645)\n",
      "Waiting for Python process to connect on port: tcp://localhost:32595\n",
      "Please start proper Python Gym Agent\n",
      "  0%|          | 0/6300 [00:00<?, ?it/s]"
     ]
    },
    {
     "name": "stdout",
     "output_type": "stream",
     "text": [
      "Sent 2238.47 Mb/s.\tMean speed: 37.31 Mb/s\tEpisode 14/15 finished\n",
      "\n",
      "14\n",
      "Turning off noise\n"
     ]
    },
    {
     "name": "stderr",
     "output_type": "stream",
     "text": [
      "100%|██████████| 6300/6300 [1:54:31<00:00,  1.09s/it, curr_speed=37.46 Mbps, mb_sent=2247.54 Mb]\n"
     ]
    },
    {
     "name": "stdout",
     "output_type": "stream",
     "text": [
      "Waiting for simulation script to connect on port: tcp://localhost:45024\n",
      "Please start proper ns-3 simulation script using ./waf --run \"...\"\n",
      "Waf: Entering directory `/home/samuel/ns-allinone-3.29/ns-3.29/build'\n",
      "Waf: Leaving directory `/home/samuel/ns-allinone-3.29/ns-3.29/build'\n",
      "Build commands will be stored in build/compile_commands.json\n",
      "'build' finished successfully (2.598s)\n"
     ]
    },
    {
     "name": "stderr",
     "output_type": "stream",
     "text": [
      "Ns3Env parameters:\n",
      "--nWifi: 50\n",
      "--simulationTime: 60\n",
      "--openGymPort: 45024\n",
      "--envStepTime: 0.01\n",
      "--seed: 42\n",
      "--agentType: discrete\n",
      "--scenario: basic\n",
      "--dryRun: 0\n",
      "Simulation started\n",
      "Simulation process id: 3345994 (parent (waf shell) id: 3345975)\n",
      "Waiting for Python process to connect on port: tcp://localhost:45024\n",
      "Please start proper Python Gym Agent\n",
      "COMET INFO: ----------------------------\n",
      "COMET INFO: Comet.ml Experiment Summary:\n",
      "COMET INFO:   Data:\n",
      "COMET INFO:     url: https://www.comet.com/sheila-janota/rl-in-wifi-with-queue-level/adbaf7eeea1e40aaaa2565f2e2a2cf7e\n",
      "COMET INFO:   Metrics [count] (min, max):\n",
      "COMET INFO:     Chosen CW [89985]           : (16.0, 1024.0)\n",
      "COMET INFO:     Cumulative reward [15]      : (2596.8486328125, 3140.591552734375)\n",
      "COMET INFO:     Current throughput [89985]  : (3.7231333255767822, 47.146175384521484)\n",
      "COMET INFO:     Fairness index [89985]      : (0.9716830253601074, 0.999767005443573)\n",
      "COMET INFO:     Megabytes sent [89985]      : (0.0893549993634224, 2247.5357199907303)\n",
      "COMET INFO:     Observation 0 [89985]       : (0.8897823503116766, 0.9750124158461888)\n",
      "COMET INFO:     Observation 1 [89985]       : (0.0022560031891301156, 0.14177059266741382)\n",
      "COMET INFO:     Per-ep reward [89985]       : (119.304443359375, 3140.591552734375)\n",
      "COMET INFO:     Round megabytes sent [89985]: (0.0, 11.839599609375)\n",
      "COMET INFO:     Round reward [89985]        : (0.0, 0.848876953125)\n",
      "COMET INFO:     Speed [15]                  : (30.957015780514727, 37.45892866651217)\n",
      "COMET INFO:     Station count [89985]       : (50.0, 50.0)\n",
      "COMET INFO:     loss [89985]                : (0.0, 0.12852665781974792)\n",
      "COMET INFO:   Uploads:\n",
      "COMET INFO:     histogram3d: 89985\n",
      "COMET INFO: ----------------------------\n"
     ]
    },
    {
     "name": "stdout",
     "output_type": "stream",
     "text": [
      "Sent 2247.54 Mb/s.\tMean speed: 37.46 Mb/s\tEpisode 15/15 finished\n",
      "\n"
     ]
    },
    {
     "name": "stderr",
     "output_type": "stream",
     "text": [
      "COMET INFO: Uploading stats to Comet before program termination (may take several seconds)\n"
     ]
    },
    {
     "name": "stdout",
     "output_type": "stream",
     "text": [
      "Training finished.\n"
     ]
    }
   ],
   "source": [
    "#%%\n",
    "teacher = Teacher(env, 1, Preprocessor(False))\n",
    "\n",
    "lr = 4e-4\n",
    "config = Config(buffer_size=3*steps_per_ep*threads_no, batch_size=32, gamma=0.7, tau=1e-3, lr=lr, update_every=1)\n",
    "agent = Agent(QNetworkTf, history_length, action_size=7, config=config)\n",
    "agent.set_epsilon(0.9, 0.001, EPISODE_COUNT-2)\n",
    "\n",
    "# Test the model\n",
    "hyperparams = {**config.__dict__, **sim_args}\n",
    "tags = [\"Rew: normalized speed\",\n",
    "        \"Final\",\n",
    "        f\"{Agent.NAME}\",\n",
    "        sim_args['scenario'],\n",
    "        f\"LR: {lr}\",\n",
    "        f\"Instances: {threads_no}\",\n",
    "        f\"Station count: {sim_args['nWifi']}\",\n",
    "        *[f\"{key}: {sim_args[key]}\" for key in list(sim_args)[:3]]]\n",
    "# # agent.save()\n",
    "logger = teacher.train(agent, EPISODE_COUNT,\n",
    "                        simTime=simTime,\n",
    "                        stepTime=stepTime,\n",
    "                        history_length=history_length,\n",
    "                        send_logs=True,\n",
    "                        experimental=True,\n",
    "                        tags=tags,\n",
    "                        parameters=hyperparams)\n",
    "#logger = teacher.eval(agent,\n",
    "#                        simTime=simTime,\n",
    "#                        stepTime=stepTime,\n",
    "#                        history_length=history_length,\n",
    "#                        tags=tags,\n",
    "#                        parameters=hyperparams)\n",
    "# agent.save()\n",
    "\n",
    "\n",
    "# %%"
   ]
  },
  {
   "cell_type": "code",
   "execution_count": null,
   "id": "8838919f",
   "metadata": {},
   "outputs": [],
   "source": []
  }
 ],
 "metadata": {
  "kernelspec": {
   "display_name": "Python 3 (ipykernel)",
   "language": "python",
   "name": "python3"
  },
  "language_info": {
   "codemirror_mode": {
    "name": "ipython",
    "version": 3
   },
   "file_extension": ".py",
   "mimetype": "text/x-python",
   "name": "python",
   "nbconvert_exporter": "python",
   "pygments_lexer": "ipython3",
   "version": "3.7.10"
  }
 },
 "nbformat": 4,
 "nbformat_minor": 5
}
