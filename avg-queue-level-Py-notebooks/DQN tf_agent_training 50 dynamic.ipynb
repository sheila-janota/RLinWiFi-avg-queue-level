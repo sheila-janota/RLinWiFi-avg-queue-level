{
 "cells": [
  {
   "cell_type": "markdown",
   "id": "8f11a6dc",
   "metadata": {},
   "source": [
    "# Execution num1:"
   ]
  },
  {
   "cell_type": "code",
   "execution_count": 1,
   "id": "ada31f27",
   "metadata": {},
   "outputs": [
    {
     "name": "stderr",
     "output_type": "stream",
     "text": [
      "/home/sheila/anaconda3/envs/environment_py3_7/lib/python3.7/site-packages/tensorflow/python/framework/dtypes.py:516: FutureWarning: Passing (type, 1) or '1type' as a synonym of type is deprecated; in a future version of numpy, it will be understood as (type, (1,)) / '(1,)type'.\n",
      "  _np_qint8 = np.dtype([(\"qint8\", np.int8, 1)])\n",
      "/home/sheila/anaconda3/envs/environment_py3_7/lib/python3.7/site-packages/tensorflow/python/framework/dtypes.py:517: FutureWarning: Passing (type, 1) or '1type' as a synonym of type is deprecated; in a future version of numpy, it will be understood as (type, (1,)) / '(1,)type'.\n",
      "  _np_quint8 = np.dtype([(\"quint8\", np.uint8, 1)])\n",
      "/home/sheila/anaconda3/envs/environment_py3_7/lib/python3.7/site-packages/tensorflow/python/framework/dtypes.py:518: FutureWarning: Passing (type, 1) or '1type' as a synonym of type is deprecated; in a future version of numpy, it will be understood as (type, (1,)) / '(1,)type'.\n",
      "  _np_qint16 = np.dtype([(\"qint16\", np.int16, 1)])\n",
      "/home/sheila/anaconda3/envs/environment_py3_7/lib/python3.7/site-packages/tensorflow/python/framework/dtypes.py:519: FutureWarning: Passing (type, 1) or '1type' as a synonym of type is deprecated; in a future version of numpy, it will be understood as (type, (1,)) / '(1,)type'.\n",
      "  _np_quint16 = np.dtype([(\"quint16\", np.uint16, 1)])\n",
      "/home/sheila/anaconda3/envs/environment_py3_7/lib/python3.7/site-packages/tensorflow/python/framework/dtypes.py:520: FutureWarning: Passing (type, 1) or '1type' as a synonym of type is deprecated; in a future version of numpy, it will be understood as (type, (1,)) / '(1,)type'.\n",
      "  _np_qint32 = np.dtype([(\"qint32\", np.int32, 1)])\n",
      "/home/sheila/anaconda3/envs/environment_py3_7/lib/python3.7/site-packages/tensorflow/python/framework/dtypes.py:525: FutureWarning: Passing (type, 1) or '1type' as a synonym of type is deprecated; in a future version of numpy, it will be understood as (type, (1,)) / '(1,)type'.\n",
      "  np_resource = np.dtype([(\"resource\", np.ubyte, 1)])\n",
      "/home/sheila/anaconda3/envs/environment_py3_7/lib/python3.7/site-packages/tensorboard/compat/tensorflow_stub/dtypes.py:541: FutureWarning: Passing (type, 1) or '1type' as a synonym of type is deprecated; in a future version of numpy, it will be understood as (type, (1,)) / '(1,)type'.\n",
      "  _np_qint8 = np.dtype([(\"qint8\", np.int8, 1)])\n",
      "/home/sheila/anaconda3/envs/environment_py3_7/lib/python3.7/site-packages/tensorboard/compat/tensorflow_stub/dtypes.py:542: FutureWarning: Passing (type, 1) or '1type' as a synonym of type is deprecated; in a future version of numpy, it will be understood as (type, (1,)) / '(1,)type'.\n",
      "  _np_quint8 = np.dtype([(\"quint8\", np.uint8, 1)])\n",
      "/home/sheila/anaconda3/envs/environment_py3_7/lib/python3.7/site-packages/tensorboard/compat/tensorflow_stub/dtypes.py:543: FutureWarning: Passing (type, 1) or '1type' as a synonym of type is deprecated; in a future version of numpy, it will be understood as (type, (1,)) / '(1,)type'.\n",
      "  _np_qint16 = np.dtype([(\"qint16\", np.int16, 1)])\n",
      "/home/sheila/anaconda3/envs/environment_py3_7/lib/python3.7/site-packages/tensorboard/compat/tensorflow_stub/dtypes.py:544: FutureWarning: Passing (type, 1) or '1type' as a synonym of type is deprecated; in a future version of numpy, it will be understood as (type, (1,)) / '(1,)type'.\n",
      "  _np_quint16 = np.dtype([(\"quint16\", np.uint16, 1)])\n",
      "/home/sheila/anaconda3/envs/environment_py3_7/lib/python3.7/site-packages/tensorboard/compat/tensorflow_stub/dtypes.py:545: FutureWarning: Passing (type, 1) or '1type' as a synonym of type is deprecated; in a future version of numpy, it will be understood as (type, (1,)) / '(1,)type'.\n",
      "  _np_qint32 = np.dtype([(\"qint32\", np.int32, 1)])\n",
      "/home/sheila/anaconda3/envs/environment_py3_7/lib/python3.7/site-packages/tensorboard/compat/tensorflow_stub/dtypes.py:550: FutureWarning: Passing (type, 1) or '1type' as a synonym of type is deprecated; in a future version of numpy, it will be understood as (type, (1,)) / '(1,)type'.\n",
      "  np_resource = np.dtype([(\"resource\", np.ubyte, 1)])\n"
     ]
    }
   ],
   "source": [
    "#%%\n",
    "from ns3gym import ns3env\n",
    "from comet_ml import Experiment, Optimizer\n",
    "import tqdm\n",
    "import subprocess\n",
    "from collections import deque\n",
    "import numpy as np\n",
    "\n",
    "from agents.dqn.agent import Agent, Config\n",
    "from agents.dqn.model import QNetworkTf\n",
    "from agents.teacher import Teacher, EnvWrapper\n",
    "from preprocessor import Preprocessor"
   ]
  },
  {
   "cell_type": "code",
   "execution_count": 2,
   "id": "67a90512",
   "metadata": {},
   "outputs": [
    {
     "name": "stdout",
     "output_type": "stream",
     "text": [
      "Steps per episode: 6000\n",
      "Waiting for simulation script to connect on port: tcp://localhost:44916\n",
      "Please start proper ns-3 simulation script using ./waf --run \"...\"\n",
      "40.790771|0|5|-nan\n",
      "Observation space shape: (1, 300)\n",
      "Action space shape: (1, 1)\n"
     ]
    }
   ],
   "source": [
    "#%%\n",
    "scenario = \"convergence\"\n",
    "\n",
    "simTime = 60 # seconds\n",
    "stepTime = 0.01  # seconds\n",
    "history_length = 300\n",
    "\n",
    "EPISODE_COUNT = 15\n",
    "steps_per_ep = int(simTime/stepTime)\n",
    "\n",
    "sim_args = {\n",
    "    \"simTime\": simTime,\n",
    "    \"envStepTime\": stepTime,\n",
    "    \"historyLength\": history_length,\n",
    "    \"agentType\": Agent.TYPE,\n",
    "    \"scenario\": \"convergence\",\n",
    "    \"nWifi\": 50,\n",
    "}\n",
    "\n",
    "print(\"Steps per episode:\", steps_per_ep)\n",
    "\n",
    "threads_no = 1\n",
    "env = EnvWrapper(threads_no, **sim_args)\n",
    "\n",
    "#%%\n",
    "env.reset()\n",
    "ob_space = env.observation_space\n",
    "ac_space = env.action_space\n",
    "\n",
    "print(\"Observation space shape:\", ob_space)\n",
    "print(\"Action space shape:\", ac_space)\n",
    "\n",
    "assert ob_space is not None\n"
   ]
  },
  {
   "cell_type": "code",
   "execution_count": 3,
   "id": "481f97a1",
   "metadata": {
    "scrolled": true
   },
   "outputs": [
    {
     "name": "stdout",
     "output_type": "stream",
     "text": [
      "WARNING:tensorflow:From /home/sheila/repos/ns-3-allinone/ns-3.29/scratch/RLinWiFi-master-original-queue-level-mean/agents/dqn/agent.py:53: The name tf.Session is deprecated. Please use tf.compat.v1.Session instead.\n",
      "\n",
      "WARNING:tensorflow:From /home/sheila/repos/ns-3-allinone/ns-3.29/scratch/RLinWiFi-master-original-queue-level-mean/agents/dqn/model.py:25: The name tf.variable_scope is deprecated. Please use tf.compat.v1.variable_scope instead.\n",
      "\n",
      "WARNING:tensorflow:From /home/sheila/repos/ns-3-allinone/ns-3.29/scratch/RLinWiFi-master-original-queue-level-mean/agents/dqn/model.py:26: The name tf.placeholder is deprecated. Please use tf.compat.v1.placeholder instead.\n",
      "\n",
      "WARNING:tensorflow:\n",
      "The TensorFlow contrib module will not be included in TensorFlow 2.0.\n",
      "For more information, please see:\n",
      "  * https://github.com/tensorflow/community/blob/master/rfcs/20180907-contrib-sunset.md\n",
      "  * https://github.com/tensorflow/addons\n",
      "  * https://github.com/tensorflow/io (for I/O related ops)\n",
      "If you depend on functionality not listed there, please file an issue.\n",
      "\n",
      "WARNING:tensorflow:From /home/sheila/repos/ns-3-allinone/ns-3.29/scratch/RLinWiFi-master-original-queue-level-mean/agents/dqn/model.py:52: LSTMCell.__init__ (from tensorflow.python.ops.rnn_cell_impl) is deprecated and will be removed in a future version.\n",
      "Instructions for updating:\n",
      "This class is equivalent as tf.keras.layers.LSTMCell, and will be replaced by that in Tensorflow 2.0.\n",
      "WARNING:tensorflow:From /home/sheila/repos/ns-3-allinone/ns-3.29/scratch/RLinWiFi-master-original-queue-level-mean/agents/dqn/model.py:52: static_rnn (from tensorflow.python.ops.rnn) is deprecated and will be removed in a future version.\n",
      "Instructions for updating:\n",
      "Please use `keras.layers.RNN(cell, unroll=True)`, which is equivalent to this API\n",
      "WARNING:tensorflow:From /home/sheila/anaconda3/envs/environment_py3_7/lib/python3.7/site-packages/tensorflow/python/ops/init_ops.py:1251: calling VarianceScaling.__init__ (from tensorflow.python.ops.init_ops) with dtype is deprecated and will be removed in a future version.\n",
      "Instructions for updating:\n",
      "Call initializer instance with the dtype argument instead of passing it to the constructor\n",
      "WARNING:tensorflow:From /home/sheila/anaconda3/envs/environment_py3_7/lib/python3.7/site-packages/tensorflow/python/ops/rnn_cell_impl.py:961: calling Zeros.__init__ (from tensorflow.python.ops.init_ops) with dtype is deprecated and will be removed in a future version.\n",
      "Instructions for updating:\n",
      "Call initializer instance with the dtype argument instead of passing it to the constructor\n",
      "WARNING:tensorflow:Entity <bound method LSTMCell.call of <tensorflow.python.ops.rnn_cell_impl.LSTMCell object at 0x7f353f7a4290>> could not be transformed and will be executed as-is. Please report this to the AutgoGraph team. When filing the bug, set the verbosity to 10 (on Linux, `export AUTOGRAPH_VERBOSITY=10`) and attach the full output. Cause: converting <bound method LSTMCell.call of <tensorflow.python.ops.rnn_cell_impl.LSTMCell object at 0x7f353f7a4290>>: AttributeError: module 'gast' has no attribute 'Index'\n",
      "WARNING: Entity <bound method LSTMCell.call of <tensorflow.python.ops.rnn_cell_impl.LSTMCell object at 0x7f353f7a4290>> could not be transformed and will be executed as-is. Please report this to the AutgoGraph team. When filing the bug, set the verbosity to 10 (on Linux, `export AUTOGRAPH_VERBOSITY=10`) and attach the full output. Cause: converting <bound method LSTMCell.call of <tensorflow.python.ops.rnn_cell_impl.LSTMCell object at 0x7f353f7a4290>>: AttributeError: module 'gast' has no attribute 'Index'\n",
      "WARNING:tensorflow:Entity <bound method LSTMCell.call of <tensorflow.python.ops.rnn_cell_impl.LSTMCell object at 0x7f353f7a4290>> could not be transformed and will be executed as-is. Please report this to the AutgoGraph team. When filing the bug, set the verbosity to 10 (on Linux, `export AUTOGRAPH_VERBOSITY=10`) and attach the full output. Cause: converting <bound method LSTMCell.call of <tensorflow.python.ops.rnn_cell_impl.LSTMCell object at 0x7f353f7a4290>>: AttributeError: module 'gast' has no attribute 'Index'\n",
      "WARNING: Entity <bound method LSTMCell.call of <tensorflow.python.ops.rnn_cell_impl.LSTMCell object at 0x7f353f7a4290>> could not be transformed and will be executed as-is. Please report this to the AutgoGraph team. When filing the bug, set the verbosity to 10 (on Linux, `export AUTOGRAPH_VERBOSITY=10`) and attach the full output. Cause: converting <bound method LSTMCell.call of <tensorflow.python.ops.rnn_cell_impl.LSTMCell object at 0x7f353f7a4290>>: AttributeError: module 'gast' has no attribute 'Index'\n",
      "WARNING:tensorflow:Entity <bound method LSTMCell.call of <tensorflow.python.ops.rnn_cell_impl.LSTMCell object at 0x7f353f7a4290>> could not be transformed and will be executed as-is. Please report this to the AutgoGraph team. When filing the bug, set the verbosity to 10 (on Linux, `export AUTOGRAPH_VERBOSITY=10`) and attach the full output. Cause: converting <bound method LSTMCell.call of <tensorflow.python.ops.rnn_cell_impl.LSTMCell object at 0x7f353f7a4290>>: AttributeError: module 'gast' has no attribute 'Index'\n",
      "WARNING: Entity <bound method LSTMCell.call of <tensorflow.python.ops.rnn_cell_impl.LSTMCell object at 0x7f353f7a4290>> could not be transformed and will be executed as-is. Please report this to the AutgoGraph team. When filing the bug, set the verbosity to 10 (on Linux, `export AUTOGRAPH_VERBOSITY=10`) and attach the full output. Cause: converting <bound method LSTMCell.call of <tensorflow.python.ops.rnn_cell_impl.LSTMCell object at 0x7f353f7a4290>>: AttributeError: module 'gast' has no attribute 'Index'\n",
      "WARNING:tensorflow:Entity <bound method LSTMCell.call of <tensorflow.python.ops.rnn_cell_impl.LSTMCell object at 0x7f353f7a4290>> could not be transformed and will be executed as-is. Please report this to the AutgoGraph team. When filing the bug, set the verbosity to 10 (on Linux, `export AUTOGRAPH_VERBOSITY=10`) and attach the full output. Cause: converting <bound method LSTMCell.call of <tensorflow.python.ops.rnn_cell_impl.LSTMCell object at 0x7f353f7a4290>>: AttributeError: module 'gast' has no attribute 'Index'\n",
      "WARNING: Entity <bound method LSTMCell.call of <tensorflow.python.ops.rnn_cell_impl.LSTMCell object at 0x7f353f7a4290>> could not be transformed and will be executed as-is. Please report this to the AutgoGraph team. When filing the bug, set the verbosity to 10 (on Linux, `export AUTOGRAPH_VERBOSITY=10`) and attach the full output. Cause: converting <bound method LSTMCell.call of <tensorflow.python.ops.rnn_cell_impl.LSTMCell object at 0x7f353f7a4290>>: AttributeError: module 'gast' has no attribute 'Index'\n",
      "WARNING:tensorflow:From /home/sheila/repos/ns-3-allinone/ns-3.29/scratch/RLinWiFi-master-original-queue-level-mean/agents/dqn/model.py:53: dense (from tensorflow.python.layers.core) is deprecated and will be removed in a future version.\n",
      "Instructions for updating:\n",
      "Use keras.layers.dense instead.\n",
      "WARNING:tensorflow:Entity <bound method Dense.call of <tensorflow.python.layers.core.Dense object at 0x7f353f7a4290>> could not be transformed and will be executed as-is. Please report this to the AutgoGraph team. When filing the bug, set the verbosity to 10 (on Linux, `export AUTOGRAPH_VERBOSITY=10`) and attach the full output. Cause: converting <bound method Dense.call of <tensorflow.python.layers.core.Dense object at 0x7f353f7a4290>>: AttributeError: module 'gast' has no attribute 'Index'\n",
      "WARNING: Entity <bound method Dense.call of <tensorflow.python.layers.core.Dense object at 0x7f353f7a4290>> could not be transformed and will be executed as-is. Please report this to the AutgoGraph team. When filing the bug, set the verbosity to 10 (on Linux, `export AUTOGRAPH_VERBOSITY=10`) and attach the full output. Cause: converting <bound method Dense.call of <tensorflow.python.layers.core.Dense object at 0x7f353f7a4290>>: AttributeError: module 'gast' has no attribute 'Index'\n",
      "WARNING:tensorflow:Entity <bound method Dense.call of <tensorflow.python.layers.core.Dense object at 0x7f353f7a4290>> could not be transformed and will be executed as-is. Please report this to the AutgoGraph team. When filing the bug, set the verbosity to 10 (on Linux, `export AUTOGRAPH_VERBOSITY=10`) and attach the full output. Cause: converting <bound method Dense.call of <tensorflow.python.layers.core.Dense object at 0x7f353f7a4290>>: AttributeError: module 'gast' has no attribute 'Index'\n"
     ]
    },
    {
     "name": "stdout",
     "output_type": "stream",
     "text": [
      "WARNING: Entity <bound method Dense.call of <tensorflow.python.layers.core.Dense object at 0x7f353f7a4290>> could not be transformed and will be executed as-is. Please report this to the AutgoGraph team. When filing the bug, set the verbosity to 10 (on Linux, `export AUTOGRAPH_VERBOSITY=10`) and attach the full output. Cause: converting <bound method Dense.call of <tensorflow.python.layers.core.Dense object at 0x7f353f7a4290>>: AttributeError: module 'gast' has no attribute 'Index'\n",
      "WARNING:tensorflow:Entity <bound method Dense.call of <tensorflow.python.layers.core.Dense object at 0x7f353f7a4290>> could not be transformed and will be executed as-is. Please report this to the AutgoGraph team. When filing the bug, set the verbosity to 10 (on Linux, `export AUTOGRAPH_VERBOSITY=10`) and attach the full output. Cause: converting <bound method Dense.call of <tensorflow.python.layers.core.Dense object at 0x7f353f7a4290>>: AttributeError: module 'gast' has no attribute 'Index'\n",
      "WARNING: Entity <bound method Dense.call of <tensorflow.python.layers.core.Dense object at 0x7f353f7a4290>> could not be transformed and will be executed as-is. Please report this to the AutgoGraph team. When filing the bug, set the verbosity to 10 (on Linux, `export AUTOGRAPH_VERBOSITY=10`) and attach the full output. Cause: converting <bound method Dense.call of <tensorflow.python.layers.core.Dense object at 0x7f353f7a4290>>: AttributeError: module 'gast' has no attribute 'Index'\n",
      "WARNING:tensorflow:From /home/sheila/repos/ns-3-allinone/ns-3.29/scratch/RLinWiFi-master-original-queue-level-mean/agents/dqn/model.py:69: The name tf.losses.mean_squared_error is deprecated. Please use tf.compat.v1.losses.mean_squared_error instead.\n",
      "\n",
      "WARNING:tensorflow:From /home/sheila/anaconda3/envs/environment_py3_7/lib/python3.7/site-packages/tensorflow/python/ops/losses/losses_impl.py:121: add_dispatch_support.<locals>.wrapper (from tensorflow.python.ops.array_ops) is deprecated and will be removed in a future version.\n",
      "Instructions for updating:\n",
      "Use tf.where in 2.0, which has the same broadcast rule as np.where\n",
      "WARNING:tensorflow:From /home/sheila/repos/ns-3-allinone/ns-3.29/scratch/RLinWiFi-master-original-queue-level-mean/agents/dqn/model.py:77: The name tf.train.AdamOptimizer is deprecated. Please use tf.compat.v1.train.AdamOptimizer instead.\n",
      "\n",
      "WARNING:tensorflow:From /home/sheila/repos/ns-3-allinone/ns-3.29/scratch/RLinWiFi-master-original-queue-level-mean/agents/dqn/model.py:33: The name tf.global_variables_initializer is deprecated. Please use tf.compat.v1.global_variables_initializer instead.\n",
      "\n",
      "WARNING:tensorflow:From /home/sheila/repos/ns-3-allinone/ns-3.29/scratch/RLinWiFi-master-original-queue-level-mean/agents/dqn/model.py:34: The name tf.local_variables_initializer is deprecated. Please use tf.compat.v1.local_variables_initializer instead.\n",
      "\n",
      "WARNING:tensorflow:Entity <bound method LSTMCell.call of <tensorflow.python.ops.rnn_cell_impl.LSTMCell object at 0x7f34e2c2fa90>> could not be transformed and will be executed as-is. Please report this to the AutgoGraph team. When filing the bug, set the verbosity to 10 (on Linux, `export AUTOGRAPH_VERBOSITY=10`) and attach the full output. Cause: converting <bound method LSTMCell.call of <tensorflow.python.ops.rnn_cell_impl.LSTMCell object at 0x7f34e2c2fa90>>: AttributeError: module 'gast' has no attribute 'Index'\n",
      "WARNING: Entity <bound method LSTMCell.call of <tensorflow.python.ops.rnn_cell_impl.LSTMCell object at 0x7f34e2c2fa90>> could not be transformed and will be executed as-is. Please report this to the AutgoGraph team. When filing the bug, set the verbosity to 10 (on Linux, `export AUTOGRAPH_VERBOSITY=10`) and attach the full output. Cause: converting <bound method LSTMCell.call of <tensorflow.python.ops.rnn_cell_impl.LSTMCell object at 0x7f34e2c2fa90>>: AttributeError: module 'gast' has no attribute 'Index'\n",
      "WARNING:tensorflow:Entity <bound method LSTMCell.call of <tensorflow.python.ops.rnn_cell_impl.LSTMCell object at 0x7f34e2c2fa90>> could not be transformed and will be executed as-is. Please report this to the AutgoGraph team. When filing the bug, set the verbosity to 10 (on Linux, `export AUTOGRAPH_VERBOSITY=10`) and attach the full output. Cause: converting <bound method LSTMCell.call of <tensorflow.python.ops.rnn_cell_impl.LSTMCell object at 0x7f34e2c2fa90>>: AttributeError: module 'gast' has no attribute 'Index'\n",
      "WARNING: Entity <bound method LSTMCell.call of <tensorflow.python.ops.rnn_cell_impl.LSTMCell object at 0x7f34e2c2fa90>> could not be transformed and will be executed as-is. Please report this to the AutgoGraph team. When filing the bug, set the verbosity to 10 (on Linux, `export AUTOGRAPH_VERBOSITY=10`) and attach the full output. Cause: converting <bound method LSTMCell.call of <tensorflow.python.ops.rnn_cell_impl.LSTMCell object at 0x7f34e2c2fa90>>: AttributeError: module 'gast' has no attribute 'Index'\n",
      "WARNING:tensorflow:Entity <bound method LSTMCell.call of <tensorflow.python.ops.rnn_cell_impl.LSTMCell object at 0x7f34e2c2fa90>> could not be transformed and will be executed as-is. Please report this to the AutgoGraph team. When filing the bug, set the verbosity to 10 (on Linux, `export AUTOGRAPH_VERBOSITY=10`) and attach the full output. Cause: converting <bound method LSTMCell.call of <tensorflow.python.ops.rnn_cell_impl.LSTMCell object at 0x7f34e2c2fa90>>: AttributeError: module 'gast' has no attribute 'Index'\n",
      "WARNING: Entity <bound method LSTMCell.call of <tensorflow.python.ops.rnn_cell_impl.LSTMCell object at 0x7f34e2c2fa90>> could not be transformed and will be executed as-is. Please report this to the AutgoGraph team. When filing the bug, set the verbosity to 10 (on Linux, `export AUTOGRAPH_VERBOSITY=10`) and attach the full output. Cause: converting <bound method LSTMCell.call of <tensorflow.python.ops.rnn_cell_impl.LSTMCell object at 0x7f34e2c2fa90>>: AttributeError: module 'gast' has no attribute 'Index'\n",
      "WARNING:tensorflow:Entity <bound method LSTMCell.call of <tensorflow.python.ops.rnn_cell_impl.LSTMCell object at 0x7f34e2c2fa90>> could not be transformed and will be executed as-is. Please report this to the AutgoGraph team. When filing the bug, set the verbosity to 10 (on Linux, `export AUTOGRAPH_VERBOSITY=10`) and attach the full output. Cause: converting <bound method LSTMCell.call of <tensorflow.python.ops.rnn_cell_impl.LSTMCell object at 0x7f34e2c2fa90>>: AttributeError: module 'gast' has no attribute 'Index'\n",
      "WARNING: Entity <bound method LSTMCell.call of <tensorflow.python.ops.rnn_cell_impl.LSTMCell object at 0x7f34e2c2fa90>> could not be transformed and will be executed as-is. Please report this to the AutgoGraph team. When filing the bug, set the verbosity to 10 (on Linux, `export AUTOGRAPH_VERBOSITY=10`) and attach the full output. Cause: converting <bound method LSTMCell.call of <tensorflow.python.ops.rnn_cell_impl.LSTMCell object at 0x7f34e2c2fa90>>: AttributeError: module 'gast' has no attribute 'Index'\n",
      "WARNING:tensorflow:Entity <bound method Dense.call of <tensorflow.python.layers.core.Dense object at 0x7f34e2c2fa90>> could not be transformed and will be executed as-is. Please report this to the AutgoGraph team. When filing the bug, set the verbosity to 10 (on Linux, `export AUTOGRAPH_VERBOSITY=10`) and attach the full output. Cause: converting <bound method Dense.call of <tensorflow.python.layers.core.Dense object at 0x7f34e2c2fa90>>: AttributeError: module 'gast' has no attribute 'Index'\n",
      "WARNING: Entity <bound method Dense.call of <tensorflow.python.layers.core.Dense object at 0x7f34e2c2fa90>> could not be transformed and will be executed as-is. Please report this to the AutgoGraph team. When filing the bug, set the verbosity to 10 (on Linux, `export AUTOGRAPH_VERBOSITY=10`) and attach the full output. Cause: converting <bound method Dense.call of <tensorflow.python.layers.core.Dense object at 0x7f34e2c2fa90>>: AttributeError: module 'gast' has no attribute 'Index'\n",
      "WARNING:tensorflow:Entity <bound method Dense.call of <tensorflow.python.layers.core.Dense object at 0x7f34e2c2fa90>> could not be transformed and will be executed as-is. Please report this to the AutgoGraph team. When filing the bug, set the verbosity to 10 (on Linux, `export AUTOGRAPH_VERBOSITY=10`) and attach the full output. Cause: converting <bound method Dense.call of <tensorflow.python.layers.core.Dense object at 0x7f34e2c2fa90>>: AttributeError: module 'gast' has no attribute 'Index'\n"
     ]
    },
    {
     "name": "stdout",
     "output_type": "stream",
     "text": [
      "WARNING: Entity <bound method Dense.call of <tensorflow.python.layers.core.Dense object at 0x7f34e2c2fa90>> could not be transformed and will be executed as-is. Please report this to the AutgoGraph team. When filing the bug, set the verbosity to 10 (on Linux, `export AUTOGRAPH_VERBOSITY=10`) and attach the full output. Cause: converting <bound method Dense.call of <tensorflow.python.layers.core.Dense object at 0x7f34e2c2fa90>>: AttributeError: module 'gast' has no attribute 'Index'\n",
      "WARNING:tensorflow:Entity <bound method Dense.call of <tensorflow.python.layers.core.Dense object at 0x7f34e2c2fa90>> could not be transformed and will be executed as-is. Please report this to the AutgoGraph team. When filing the bug, set the verbosity to 10 (on Linux, `export AUTOGRAPH_VERBOSITY=10`) and attach the full output. Cause: converting <bound method Dense.call of <tensorflow.python.layers.core.Dense object at 0x7f34e2c2fa90>>: AttributeError: module 'gast' has no attribute 'Index'\n",
      "WARNING: Entity <bound method Dense.call of <tensorflow.python.layers.core.Dense object at 0x7f34e2c2fa90>> could not be transformed and will be executed as-is. Please report this to the AutgoGraph team. When filing the bug, set the verbosity to 10 (on Linux, `export AUTOGRAPH_VERBOSITY=10`) and attach the full output. Cause: converting <bound method Dense.call of <tensorflow.python.layers.core.Dense object at 0x7f34e2c2fa90>>: AttributeError: module 'gast' has no attribute 'Index'\n",
      "WARNING:tensorflow:From /home/sheila/repos/ns-3-allinone/ns-3.29/scratch/RLinWiFi-master-original-queue-level-mean/agents/dqn/agent.py:77: The name tf.train.Saver is deprecated. Please use tf.compat.v1.train.Saver instead.\n",
      "\n",
      "Action space: 7\n",
      "WARNING:tensorflow:From /home/sheila/repos/ns-3-allinone/ns-3.29/scratch/RLinWiFi-master-original-queue-level-mean/agents/dqn/agent.py:107: Variable.load (from tensorflow.python.ops.variables) is deprecated and will be removed in a future version.\n",
      "Instructions for updating:\n",
      "Prefer Variable.assign which has equivalent behavior in 2.X.\n"
     ]
    },
    {
     "name": "stderr",
     "output_type": "stream",
     "text": [
      "COMET INFO: Experiment is live on comet.ml https://www.comet.com/sheila-janota/rl-in-wifi-with-queue-level/374fca6438734d1e91867167024cb4e8\n",
      "\n"
     ]
    },
    {
     "name": "stdout",
     "output_type": "stream",
     "text": [
      "0\n",
      "40.790771|0|5|-nan\n"
     ]
    },
    {
     "name": "stderr",
     "output_type": "stream",
     "text": [
      "  5%|▌         | 333/6300 [03:58<1:12:27,  1.37it/s, curr_speed=26.63 Mbps, mb_sent=8.52 Mb]"
     ]
    },
    {
     "name": "stdout",
     "output_type": "stream",
     "text": [
      "------- STARTED TRAINING -------\n"
     ]
    },
    {
     "name": "stderr",
     "output_type": "stream",
     "text": [
      "100%|██████████| 6300/6300 [3:13:53<00:00,  1.85s/it, curr_speed=31.83 Mbps, mb_sent=1908.47 Mb]  \n"
     ]
    },
    {
     "name": "stdout",
     "output_type": "stream",
     "text": [
      "Waiting for simulation script to connect on port: tcp://localhost:21340\n",
      "Please start proper ns-3 simulation script using ./waf --run \"...\"\n",
      "Sent 1908.47 Mb/s.\tMean speed: 31.81 Mb/s\tEpisode 1/15 finished\n",
      "\n",
      "1\n",
      "40.790771|0|5|-nan\n"
     ]
    },
    {
     "name": "stderr",
     "output_type": "stream",
     "text": [
      "100%|██████████| 6300/6300 [3:26:10<00:00,  1.96s/it, curr_speed=35.19 Mbps, mb_sent=2027.67 Mb]  \n"
     ]
    },
    {
     "name": "stdout",
     "output_type": "stream",
     "text": [
      "Waiting for simulation script to connect on port: tcp://localhost:31793\n",
      "Please start proper ns-3 simulation script using ./waf --run \"...\"\n",
      "Sent 2027.67 Mb/s.\tMean speed: 33.79 Mb/s\tEpisode 2/15 finished\n",
      "\n",
      "2\n",
      "40.790771|0|5|-nan\n"
     ]
    },
    {
     "name": "stderr",
     "output_type": "stream",
     "text": [
      " 98%|█████████▊| 6177/6300 [3:19:27<06:18,  3.08s/it, curr_speed=33.92 Mbps, mb_sent=2073.17 Mb]  COMET ERROR: File could not be uploaded\n",
      "100%|██████████| 6300/6300 [3:25:44<00:00,  1.96s/it, curr_speed=33.88 Mbps, mb_sent=2114.40 Mb]\n"
     ]
    },
    {
     "name": "stdout",
     "output_type": "stream",
     "text": [
      "Waiting for simulation script to connect on port: tcp://localhost:18083\n",
      "Please start proper ns-3 simulation script using ./waf --run \"...\"\n",
      "Sent 2114.40 Mb/s.\tMean speed: 35.24 Mb/s\tEpisode 3/15 finished\n",
      "\n",
      "3\n",
      "40.790771|0|5|-nan\n"
     ]
    },
    {
     "name": "stderr",
     "output_type": "stream",
     "text": [
      "  5%|▍         | 304/6300 [03:38<1:24:49,  1.18it/s, curr_speed=36.86 Mbps, mb_sent=1.11 Mb]"
     ]
    },
    {
     "name": "stdout",
     "output_type": "stream",
     "text": [
      "------- MEMORY BUFFER FILLED -------\n"
     ]
    },
    {
     "name": "stderr",
     "output_type": "stream",
     "text": [
      " 35%|███▍      | 2190/6300 [44:05<2:24:00,  2.10s/it, curr_speed=36.51 Mbps, mb_sent=689.19 Mb]COMET ERROR: File could not be uploaded\n",
      " 35%|███▍      | 2191/6300 [44:08<2:46:46,  2.44s/it, curr_speed=36.52 Mbps, mb_sent=689.56 Mb]COMET ERROR: File could not be uploaded\n",
      " 43%|████▎     | 2718/6300 [1:39:08<1:45:16,  1.76s/it, curr_speed=34.97 Mbps, mb_sent=875.55 Mb]   COMET ERROR: File could not be uploaded\n",
      "COMET ERROR: File could not be uploaded\n",
      "COMET ERROR: File could not be uploaded\n",
      "COMET ERROR: File could not be uploaded\n",
      "COMET ERROR: File could not be uploaded\n",
      " 43%|████▎     | 2719/6300 [1:39:10<1:46:09,  1.78s/it, curr_speed=34.94 Mbps, mb_sent=875.90 Mb]COMET ERROR: File could not be uploaded\n",
      "100%|██████████| 6300/6300 [4:20:44<00:00,  2.48s/it, curr_speed=31.77 Mbps, mb_sent=2164.88 Mb]     \n"
     ]
    },
    {
     "name": "stdout",
     "output_type": "stream",
     "text": [
      "Waiting for simulation script to connect on port: tcp://localhost:14193\n",
      "Please start proper ns-3 simulation script using ./waf --run \"...\"\n",
      "Sent 2164.88 Mb/s.\tMean speed: 36.08 Mb/s\tEpisode 4/15 finished\n",
      "\n",
      "4\n",
      "40.790771|0|5|-nan\n"
     ]
    },
    {
     "name": "stderr",
     "output_type": "stream",
     "text": [
      "  9%|▉         | 553/6300 [07:41<1:34:35,  1.01it/s, curr_speed=36.39 Mbps, mb_sent=91.80 Mb]COMET ERROR: File could not be uploaded\n",
      "  9%|▉         | 554/6300 [07:42<1:34:45,  1.01it/s, curr_speed=36.37 Mbps, mb_sent=92.19 Mb]COMET ERROR: File could not be uploaded\n",
      "  9%|▉         | 558/6300 [07:47<1:43:45,  1.08s/it, curr_speed=36.42 Mbps, mb_sent=93.73 Mb]COMET ERROR: File could not be uploaded\n",
      " 26%|██▌       | 1647/6300 [31:06<1:48:20,  1.40s/it, curr_speed=36.98 Mbps, mb_sent=497.78 Mb]COMET ERROR: File could not be uploaded\n",
      "COMET ERROR: File could not be uploaded\n",
      "COMET ERROR: File could not be uploaded\n",
      "COMET ERROR: File could not be uploaded\n",
      "COMET ERROR: File could not be uploaded\n",
      "COMET ERROR: File could not be uploaded\n",
      "COMET ERROR: File could not be uploaded\n",
      " 38%|███▊      | 2407/6300 [52:19<2:02:36,  1.89s/it, curr_speed=36.60 Mbps, mb_sent=776.35 Mb]COMET ERROR: File could not be uploaded\n",
      " 39%|███▉      | 2450/6300 [54:23<3:13:07,  3.01s/it, curr_speed=36.17 Mbps, mb_sent=791.72 Mb]COMET ERROR: File could not be uploaded\n",
      " 68%|██████▊   | 4264/6300 [4:10:35<2:02:36,  3.61s/it, curr_speed=37.17 Mbps, mb_sent=1463.22 Mb]    COMET ERROR: File could not be uploaded\n",
      "100%|██████████| 6300/6300 [5:56:24<00:00,  3.39s/it, curr_speed=36.27 Mbps, mb_sent=2203.82 Mb]  \n"
     ]
    },
    {
     "name": "stdout",
     "output_type": "stream",
     "text": [
      "Waiting for simulation script to connect on port: tcp://localhost:38991\n",
      "Please start proper ns-3 simulation script using ./waf --run \"...\"\n",
      "Sent 2203.82 Mb/s.\tMean speed: 36.73 Mb/s\tEpisode 5/15 finished\n",
      "\n",
      "5\n",
      "40.790771|0|5|-nan\n"
     ]
    },
    {
     "name": "stderr",
     "output_type": "stream",
     "text": [
      "100%|██████████| 6300/6300 [3:20:47<00:00,  1.91s/it, curr_speed=35.98 Mbps, mb_sent=2232.93 Mb]  \n"
     ]
    },
    {
     "name": "stdout",
     "output_type": "stream",
     "text": [
      "Waiting for simulation script to connect on port: tcp://localhost:48105\n",
      "Please start proper ns-3 simulation script using ./waf --run \"...\"\n",
      "Sent 2232.93 Mb/s.\tMean speed: 37.22 Mb/s\tEpisode 6/15 finished\n",
      "\n",
      "6\n",
      "40.790771|0|5|-nan\n"
     ]
    },
    {
     "name": "stderr",
     "output_type": "stream",
     "text": [
      "100%|██████████| 6300/6300 [1:45:40<00:00,  1.01s/it, curr_speed=37.07 Mbps, mb_sent=2243.63 Mb]\n"
     ]
    },
    {
     "name": "stdout",
     "output_type": "stream",
     "text": [
      "Waiting for simulation script to connect on port: tcp://localhost:38879\n",
      "Please start proper ns-3 simulation script using ./waf --run \"...\"\n",
      "Sent 2243.63 Mb/s.\tMean speed: 37.39 Mb/s\tEpisode 7/15 finished\n",
      "\n",
      "7\n",
      "40.790771|0|5|-nan\n"
     ]
    },
    {
     "name": "stderr",
     "output_type": "stream",
     "text": [
      "100%|██████████| 6300/6300 [1:37:34<00:00,  1.08it/s, curr_speed=36.87 Mbps, mb_sent=2250.50 Mb]\n"
     ]
    },
    {
     "name": "stdout",
     "output_type": "stream",
     "text": [
      "Waiting for simulation script to connect on port: tcp://localhost:30358\n",
      "Please start proper ns-3 simulation script using ./waf --run \"...\"\n",
      "Sent 2250.50 Mb/s.\tMean speed: 37.51 Mb/s\tEpisode 8/15 finished\n",
      "\n",
      "8\n",
      "40.790771|0|5|-nan\n"
     ]
    },
    {
     "name": "stderr",
     "output_type": "stream",
     "text": [
      "100%|██████████| 6300/6300 [45:28<00:00,  2.31it/s, curr_speed=36.77 Mbps, mb_sent=2247.95 Mb]\n"
     ]
    },
    {
     "name": "stdout",
     "output_type": "stream",
     "text": [
      "Waiting for simulation script to connect on port: tcp://localhost:32344\n",
      "Please start proper ns-3 simulation script using ./waf --run \"...\"\n",
      "Sent 2247.95 Mb/s.\tMean speed: 37.47 Mb/s\tEpisode 9/15 finished\n",
      "\n",
      "9\n",
      "40.790771|0|5|-nan\n"
     ]
    },
    {
     "name": "stderr",
     "output_type": "stream",
     "text": [
      "100%|██████████| 6300/6300 [2:40:24<00:00,  1.53s/it, curr_speed=37.27 Mbps, mb_sent=2263.14 Mb]  \n"
     ]
    },
    {
     "name": "stdout",
     "output_type": "stream",
     "text": [
      "Waiting for simulation script to connect on port: tcp://localhost:34152\n",
      "Please start proper ns-3 simulation script using ./waf --run \"...\"\n",
      "Sent 2263.14 Mb/s.\tMean speed: 37.72 Mb/s\tEpisode 10/15 finished\n",
      "\n",
      "10\n",
      "40.790771|0|5|-nan\n"
     ]
    },
    {
     "name": "stderr",
     "output_type": "stream",
     "text": [
      "100%|██████████| 6300/6300 [3:28:15<00:00,  1.98s/it, curr_speed=37.28 Mbps, mb_sent=2259.36 Mb]  \n"
     ]
    },
    {
     "name": "stdout",
     "output_type": "stream",
     "text": [
      "Waiting for simulation script to connect on port: tcp://localhost:32284\n",
      "Please start proper ns-3 simulation script using ./waf --run \"...\"\n",
      "Sent 2259.36 Mb/s.\tMean speed: 37.66 Mb/s\tEpisode 11/15 finished\n",
      "\n",
      "11\n",
      "40.790771|0|5|-nan\n"
     ]
    },
    {
     "name": "stderr",
     "output_type": "stream",
     "text": [
      " 12%|█▏        | 734/6300 [11:06<1:51:07,  1.20s/it, curr_speed=38.45 Mbps, mb_sent=165.44 Mb]COMET ERROR: File could not be uploaded\n",
      " 24%|██▍       | 1517/6300 [56:58<2:01:52,  1.53s/it, curr_speed=37.54 Mbps, mb_sent=461.40 Mb]  COMET ERROR: File could not be uploaded\n",
      " 24%|██▍       | 1521/6300 [57:04<1:58:30,  1.49s/it, curr_speed=37.51 Mbps, mb_sent=462.87 Mb]COMET ERROR: File could not be uploaded\n",
      " 24%|██▍       | 1522/6300 [57:05<1:58:44,  1.49s/it, curr_speed=37.48 Mbps, mb_sent=463.24 Mb]COMET ERROR: File could not be uploaded\n",
      " 93%|█████████▎| 5846/6300 [3:37:25<20:43,  2.74s/it, curr_speed=37.16 Mbps, mb_sent=2093.69 Mb]  COMET ERROR: File could not be uploaded\n",
      "COMET ERROR: File could not be uploaded\n",
      "100%|██████████| 6300/6300 [3:59:59<00:00,  2.29s/it, curr_speed=37.22 Mbps, mb_sent=2261.45 Mb]\n"
     ]
    },
    {
     "name": "stdout",
     "output_type": "stream",
     "text": [
      "Waiting for simulation script to connect on port: tcp://localhost:34652\n",
      "Please start proper ns-3 simulation script using ./waf --run \"...\"\n",
      "WARNING:tensorflow:From /home/sheila/anaconda3/envs/environment_py3_7/lib/python3.7/site-packages/tensorflow/python/training/saver.py:960: remove_checkpoint (from tensorflow.python.training.checkpoint_management) is deprecated and will be removed in a future version.\n",
      "Instructions for updating:\n",
      "Use standard file APIs to delete files with this prefix.\n",
      "Sent 2261.45 Mb/s.\tMean speed: 37.69 Mb/s\tEpisode 12/15 finished\n",
      "\n",
      "12\n",
      "Turning off noise\n",
      "40.790771|0|5|-nan\n"
     ]
    },
    {
     "name": "stderr",
     "output_type": "stream",
     "text": [
      " 18%|█▊        | 1155/6300 [19:32<1:44:07,  1.21s/it, curr_speed=37.91 Mbps, mb_sent=324.27 Mb]COMET ERROR: File could not be uploaded\n",
      "COMET ERROR: File could not be uploaded\n",
      "COMET ERROR: File could not be uploaded\n",
      "COMET ERROR: File could not be uploaded\n",
      " 36%|███▌      | 2279/6300 [46:27<1:46:21,  1.59s/it, curr_speed=37.78 Mbps, mb_sent=750.42 Mb]COMET ERROR: File could not be uploaded\n",
      "COMET ERROR: File could not be uploaded\n",
      "COMET ERROR: File could not be uploaded\n",
      " 43%|████▎     | 2736/6300 [1:00:47<3:06:39,  3.14s/it, curr_speed=37.37 Mbps, mb_sent=921.20 Mb]COMET ERROR: File could not be uploaded\n",
      " 43%|████▎     | 2737/6300 [1:00:50<2:52:53,  2.91s/it, curr_speed=37.36 Mbps, mb_sent=921.56 Mb]COMET ERROR: File could not be uploaded\n",
      "COMET ERROR: File could not be uploaded\n",
      "100%|██████████| 6300/6300 [3:57:14<00:00,  2.26s/it, curr_speed=37.15 Mbps, mb_sent=2261.98 Mb]    \n"
     ]
    },
    {
     "name": "stdout",
     "output_type": "stream",
     "text": [
      "Waiting for simulation script to connect on port: tcp://localhost:14567\n",
      "Please start proper ns-3 simulation script using ./waf --run \"...\"\n",
      "Sent 2261.98 Mb/s.\tMean speed: 37.70 Mb/s\tEpisode 13/15 finished\n",
      "\n",
      "13\n",
      "Turning off noise\n",
      "40.790771|0|5|-nan\n"
     ]
    },
    {
     "name": "stderr",
     "output_type": "stream",
     "text": [
      " 49%|████▉     | 3097/6300 [1:02:34<1:46:44,  2.00s/it, curr_speed=37.65 Mbps, mb_sent=1061.35 Mb]COMET ERROR: File could not be uploaded\n",
      "100%|██████████| 6300/6300 [3:14:17<00:00,  1.85s/it, curr_speed=37.59 Mbps, mb_sent=2266.77 Mb]  \n"
     ]
    },
    {
     "name": "stdout",
     "output_type": "stream",
     "text": [
      "Waiting for simulation script to connect on port: tcp://localhost:47628\n",
      "Please start proper ns-3 simulation script using ./waf --run \"...\"\n",
      "Sent 2266.77 Mb/s.\tMean speed: 37.78 Mb/s\tEpisode 14/15 finished\n",
      "\n",
      "14\n",
      "Turning off noise\n",
      "40.790771|0|5|-nan\n"
     ]
    },
    {
     "name": "stderr",
     "output_type": "stream",
     "text": [
      "100%|██████████| 6300/6300 [3:18:37<00:00,  1.89s/it, curr_speed=36.65 Mbps, mb_sent=2264.69 Mb]  \n"
     ]
    },
    {
     "name": "stdout",
     "output_type": "stream",
     "text": [
      "Waiting for simulation script to connect on port: tcp://localhost:47685\n",
      "Please start proper ns-3 simulation script using ./waf --run \"...\"\n"
     ]
    },
    {
     "name": "stderr",
     "output_type": "stream",
     "text": [
      "COMET INFO: ----------------------------\n",
      "COMET INFO: Comet.ml Experiment Summary:\n",
      "COMET INFO:   Data:\n",
      "COMET INFO:     url: https://www.comet.com/sheila-janota/rl-in-wifi-with-queue-level/374fca6438734d1e91867167024cb4e8\n",
      "COMET INFO:   Metrics [count] (min, max):\n",
      "COMET INFO:     Chosen CW [89985]           : (16.0, 1024.0)\n",
      "COMET INFO:     Cumulative reward [15]      : (2601.197265625, 3158.89453125)\n",
      "COMET INFO:     Current throughput [89985]  : (17.8710994720459, 59.466060638427734)\n",
      "COMET INFO:     Fairness index [89985]      : (0.025640999898314476, 0.9967309832572937)\n",
      "COMET INFO:     Megabytes sent [89985]      : (0.17871099710464478, 2266.769472658634)\n",
      "COMET INFO:     Observation 0 [89985]       : (0.04930915126266579, 0.9673228760560353)\n",
      "COMET INFO:     Observation 1 [89985]       : (0.003994262105884034, 0.017204633795323894)\n",
      "COMET INFO:     Per-ep reward [89985]       : (91.4404296875, 3158.89453125)\n",
      "COMET INFO:     Round megabytes sent [89985]: (0.0, 15.87176513671875)\n",
      "COMET INFO:     Round reward [89985]        : (0.0, 0.98291015625)\n",
      "COMET INFO:     Speed [15]                  : (31.80775424822544, 37.779491210977234)\n",
      "COMET INFO:     Station count [89985]       : (5.0, 50.0)\n",
      "COMET INFO:     loss [89985]                : (0.0, 0.14501043781638145)\n",
      "COMET INFO:   Uploads:\n",
      "COMET INFO:     histogram3d: 89985\n",
      "COMET INFO: ----------------------------\n"
     ]
    },
    {
     "name": "stdout",
     "output_type": "stream",
     "text": [
      "Sent 2264.69 Mb/s.\tMean speed: 37.74 Mb/s\tEpisode 15/15 finished\n",
      "\n"
     ]
    },
    {
     "name": "stderr",
     "output_type": "stream",
     "text": [
      "COMET INFO: Uploading stats to Comet before program termination (may take several seconds)\n"
     ]
    },
    {
     "name": "stdout",
     "output_type": "stream",
     "text": [
      "Training finished.\n"
     ]
    },
    {
     "data": {
      "text/plain": [
       "'logger = teacher.eval(agent,\\n                        simTime=simTime,\\n                        stepTime=stepTime,\\n                        history_length=history_length,\\n                        tags=tags,\\n                        parameters=hyperparams)\\n'"
      ]
     },
     "execution_count": 3,
     "metadata": {},
     "output_type": "execute_result"
    }
   ],
   "source": [
    "#%%\n",
    "teacher = Teacher(env, 1, Preprocessor(False))\n",
    "\n",
    "lr = 4e-4\n",
    "config = Config(buffer_size=3*steps_per_ep*threads_no, batch_size=32, gamma=0.7, tau=1e-3, lr=lr, update_every=1)\n",
    "agent = Agent(QNetworkTf, state_size=50, action_size=7, config=config)\n",
    "agent.set_epsilon(0.9, 0.001, EPISODE_COUNT-2)\n",
    "\n",
    "# Test the model\n",
    "hyperparams = {**config.__dict__, **sim_args}\n",
    "tags = [\"Rew: normalized speed\",\n",
    "        \"Final\",\n",
    "        f\"{Agent.NAME}\",\n",
    "        sim_args['scenario'],\n",
    "        f\"LR: {lr}\",\n",
    "        f\"Instances: {threads_no}\",\n",
    "        f\"Station count: {sim_args['nWifi']}\",\n",
    "        *[f\"{key}: {sim_args[key]}\" for key in list(sim_args)[:3]]]\n",
    "# # agent.save()\n",
    "logger = teacher.train(agent, EPISODE_COUNT,\n",
    "                        simTime=simTime,\n",
    "                        stepTime=stepTime,\n",
    "                        history_length=history_length,\n",
    "                        send_logs=True,\n",
    "                        experimental=True,\n",
    "                        tags=tags,\n",
    "                        parameters=hyperparams)\n",
    "'''logger = teacher.eval(agent,\n",
    "                        simTime=simTime,\n",
    "                        stepTime=stepTime,\n",
    "                        history_length=history_length,\n",
    "                        tags=tags,\n",
    "                        parameters=hyperparams)\n",
    "'''\n",
    "# agent.save()\n",
    "\n",
    "\n",
    "# %%"
   ]
  },
  {
   "cell_type": "code",
   "execution_count": null,
   "id": "dcd0f4fa",
   "metadata": {},
   "outputs": [],
   "source": []
  },
  {
   "cell_type": "markdown",
   "id": "e3fb6279",
   "metadata": {},
   "source": [
    "# Execution num2:"
   ]
  },
  {
   "cell_type": "code",
   "execution_count": 1,
   "id": "f33a9f86",
   "metadata": {},
   "outputs": [
    {
     "name": "stderr",
     "output_type": "stream",
     "text": [
      "/home/sheila/anaconda3/envs/environment_py3_7/lib/python3.7/site-packages/tensorflow/python/framework/dtypes.py:516: FutureWarning: Passing (type, 1) or '1type' as a synonym of type is deprecated; in a future version of numpy, it will be understood as (type, (1,)) / '(1,)type'.\n",
      "  _np_qint8 = np.dtype([(\"qint8\", np.int8, 1)])\n",
      "/home/sheila/anaconda3/envs/environment_py3_7/lib/python3.7/site-packages/tensorflow/python/framework/dtypes.py:517: FutureWarning: Passing (type, 1) or '1type' as a synonym of type is deprecated; in a future version of numpy, it will be understood as (type, (1,)) / '(1,)type'.\n",
      "  _np_quint8 = np.dtype([(\"quint8\", np.uint8, 1)])\n",
      "/home/sheila/anaconda3/envs/environment_py3_7/lib/python3.7/site-packages/tensorflow/python/framework/dtypes.py:518: FutureWarning: Passing (type, 1) or '1type' as a synonym of type is deprecated; in a future version of numpy, it will be understood as (type, (1,)) / '(1,)type'.\n",
      "  _np_qint16 = np.dtype([(\"qint16\", np.int16, 1)])\n",
      "/home/sheila/anaconda3/envs/environment_py3_7/lib/python3.7/site-packages/tensorflow/python/framework/dtypes.py:519: FutureWarning: Passing (type, 1) or '1type' as a synonym of type is deprecated; in a future version of numpy, it will be understood as (type, (1,)) / '(1,)type'.\n",
      "  _np_quint16 = np.dtype([(\"quint16\", np.uint16, 1)])\n",
      "/home/sheila/anaconda3/envs/environment_py3_7/lib/python3.7/site-packages/tensorflow/python/framework/dtypes.py:520: FutureWarning: Passing (type, 1) or '1type' as a synonym of type is deprecated; in a future version of numpy, it will be understood as (type, (1,)) / '(1,)type'.\n",
      "  _np_qint32 = np.dtype([(\"qint32\", np.int32, 1)])\n",
      "/home/sheila/anaconda3/envs/environment_py3_7/lib/python3.7/site-packages/tensorflow/python/framework/dtypes.py:525: FutureWarning: Passing (type, 1) or '1type' as a synonym of type is deprecated; in a future version of numpy, it will be understood as (type, (1,)) / '(1,)type'.\n",
      "  np_resource = np.dtype([(\"resource\", np.ubyte, 1)])\n",
      "/home/sheila/anaconda3/envs/environment_py3_7/lib/python3.7/site-packages/tensorboard/compat/tensorflow_stub/dtypes.py:541: FutureWarning: Passing (type, 1) or '1type' as a synonym of type is deprecated; in a future version of numpy, it will be understood as (type, (1,)) / '(1,)type'.\n",
      "  _np_qint8 = np.dtype([(\"qint8\", np.int8, 1)])\n",
      "/home/sheila/anaconda3/envs/environment_py3_7/lib/python3.7/site-packages/tensorboard/compat/tensorflow_stub/dtypes.py:542: FutureWarning: Passing (type, 1) or '1type' as a synonym of type is deprecated; in a future version of numpy, it will be understood as (type, (1,)) / '(1,)type'.\n",
      "  _np_quint8 = np.dtype([(\"quint8\", np.uint8, 1)])\n",
      "/home/sheila/anaconda3/envs/environment_py3_7/lib/python3.7/site-packages/tensorboard/compat/tensorflow_stub/dtypes.py:543: FutureWarning: Passing (type, 1) or '1type' as a synonym of type is deprecated; in a future version of numpy, it will be understood as (type, (1,)) / '(1,)type'.\n",
      "  _np_qint16 = np.dtype([(\"qint16\", np.int16, 1)])\n",
      "/home/sheila/anaconda3/envs/environment_py3_7/lib/python3.7/site-packages/tensorboard/compat/tensorflow_stub/dtypes.py:544: FutureWarning: Passing (type, 1) or '1type' as a synonym of type is deprecated; in a future version of numpy, it will be understood as (type, (1,)) / '(1,)type'.\n",
      "  _np_quint16 = np.dtype([(\"quint16\", np.uint16, 1)])\n",
      "/home/sheila/anaconda3/envs/environment_py3_7/lib/python3.7/site-packages/tensorboard/compat/tensorflow_stub/dtypes.py:545: FutureWarning: Passing (type, 1) or '1type' as a synonym of type is deprecated; in a future version of numpy, it will be understood as (type, (1,)) / '(1,)type'.\n",
      "  _np_qint32 = np.dtype([(\"qint32\", np.int32, 1)])\n",
      "/home/sheila/anaconda3/envs/environment_py3_7/lib/python3.7/site-packages/tensorboard/compat/tensorflow_stub/dtypes.py:550: FutureWarning: Passing (type, 1) or '1type' as a synonym of type is deprecated; in a future version of numpy, it will be understood as (type, (1,)) / '(1,)type'.\n",
      "  np_resource = np.dtype([(\"resource\", np.ubyte, 1)])\n"
     ]
    }
   ],
   "source": [
    "#%%\n",
    "from ns3gym import ns3env\n",
    "from comet_ml import Experiment, Optimizer\n",
    "import tqdm\n",
    "import subprocess\n",
    "from collections import deque\n",
    "import numpy as np\n",
    "\n",
    "from agents.dqn.agent import Agent, Config\n",
    "from agents.dqn.model import QNetworkTf\n",
    "from agents.teacher import Teacher, EnvWrapper\n",
    "from preprocessor import Preprocessor"
   ]
  },
  {
   "cell_type": "code",
   "execution_count": 2,
   "id": "adb87d86",
   "metadata": {},
   "outputs": [
    {
     "name": "stdout",
     "output_type": "stream",
     "text": [
      "Steps per episode: 6000\n",
      "Waiting for simulation script to connect on port: tcp://localhost:34185\n",
      "Please start proper ns-3 simulation script using ./waf --run \"...\"\n",
      "40.790771|0|5|-nan\n",
      "Observation space shape: (1, 300)\n",
      "Action space shape: (1, 1)\n"
     ]
    }
   ],
   "source": [
    "#%%\n",
    "scenario = \"convergence\"\n",
    "\n",
    "simTime = 60 # seconds\n",
    "stepTime = 0.01  # seconds\n",
    "history_length = 300\n",
    "\n",
    "EPISODE_COUNT = 15\n",
    "steps_per_ep = int(simTime/stepTime)\n",
    "\n",
    "sim_args = {\n",
    "    \"simTime\": simTime,\n",
    "    \"envStepTime\": stepTime,\n",
    "    \"historyLength\": history_length,\n",
    "    \"agentType\": Agent.TYPE,\n",
    "    \"scenario\": \"convergence\",\n",
    "    \"nWifi\": 50,\n",
    "}\n",
    "\n",
    "print(\"Steps per episode:\", steps_per_ep)\n",
    "\n",
    "threads_no = 1\n",
    "env = EnvWrapper(threads_no, **sim_args)\n",
    "\n",
    "#%%\n",
    "env.reset()\n",
    "ob_space = env.observation_space\n",
    "ac_space = env.action_space\n",
    "\n",
    "print(\"Observation space shape:\", ob_space)\n",
    "print(\"Action space shape:\", ac_space)\n",
    "\n",
    "assert ob_space is not None"
   ]
  },
  {
   "cell_type": "code",
   "execution_count": 3,
   "id": "2a4adb4b",
   "metadata": {},
   "outputs": [
    {
     "name": "stdout",
     "output_type": "stream",
     "text": [
      "WARNING:tensorflow:From /home/sheila/repos/ns-3-allinone/ns-3.29/scratch/RLinWiFi-master-original-queue-level-mean/agents/dqn/agent.py:53: The name tf.Session is deprecated. Please use tf.compat.v1.Session instead.\n",
      "\n",
      "WARNING:tensorflow:From /home/sheila/repos/ns-3-allinone/ns-3.29/scratch/RLinWiFi-master-original-queue-level-mean/agents/dqn/model.py:25: The name tf.variable_scope is deprecated. Please use tf.compat.v1.variable_scope instead.\n",
      "\n",
      "WARNING:tensorflow:From /home/sheila/repos/ns-3-allinone/ns-3.29/scratch/RLinWiFi-master-original-queue-level-mean/agents/dqn/model.py:26: The name tf.placeholder is deprecated. Please use tf.compat.v1.placeholder instead.\n",
      "\n",
      "WARNING:tensorflow:\n",
      "The TensorFlow contrib module will not be included in TensorFlow 2.0.\n",
      "For more information, please see:\n",
      "  * https://github.com/tensorflow/community/blob/master/rfcs/20180907-contrib-sunset.md\n",
      "  * https://github.com/tensorflow/addons\n",
      "  * https://github.com/tensorflow/io (for I/O related ops)\n",
      "If you depend on functionality not listed there, please file an issue.\n",
      "\n",
      "WARNING:tensorflow:From /home/sheila/repos/ns-3-allinone/ns-3.29/scratch/RLinWiFi-master-original-queue-level-mean/agents/dqn/model.py:52: LSTMCell.__init__ (from tensorflow.python.ops.rnn_cell_impl) is deprecated and will be removed in a future version.\n",
      "Instructions for updating:\n",
      "This class is equivalent as tf.keras.layers.LSTMCell, and will be replaced by that in Tensorflow 2.0.\n",
      "WARNING:tensorflow:From /home/sheila/repos/ns-3-allinone/ns-3.29/scratch/RLinWiFi-master-original-queue-level-mean/agents/dqn/model.py:52: static_rnn (from tensorflow.python.ops.rnn) is deprecated and will be removed in a future version.\n",
      "Instructions for updating:\n",
      "Please use `keras.layers.RNN(cell, unroll=True)`, which is equivalent to this API\n",
      "WARNING:tensorflow:From /home/sheila/anaconda3/envs/environment_py3_7/lib/python3.7/site-packages/tensorflow/python/ops/init_ops.py:1251: calling VarianceScaling.__init__ (from tensorflow.python.ops.init_ops) with dtype is deprecated and will be removed in a future version.\n",
      "Instructions for updating:\n",
      "Call initializer instance with the dtype argument instead of passing it to the constructor\n",
      "WARNING:tensorflow:From /home/sheila/anaconda3/envs/environment_py3_7/lib/python3.7/site-packages/tensorflow/python/ops/rnn_cell_impl.py:961: calling Zeros.__init__ (from tensorflow.python.ops.init_ops) with dtype is deprecated and will be removed in a future version.\n",
      "Instructions for updating:\n",
      "Call initializer instance with the dtype argument instead of passing it to the constructor\n",
      "WARNING:tensorflow:Entity <bound method LSTMCell.call of <tensorflow.python.ops.rnn_cell_impl.LSTMCell object at 0x7f3cc3cd8e10>> could not be transformed and will be executed as-is. Please report this to the AutgoGraph team. When filing the bug, set the verbosity to 10 (on Linux, `export AUTOGRAPH_VERBOSITY=10`) and attach the full output. Cause: converting <bound method LSTMCell.call of <tensorflow.python.ops.rnn_cell_impl.LSTMCell object at 0x7f3cc3cd8e10>>: AttributeError: module 'gast' has no attribute 'Index'\n",
      "WARNING: Entity <bound method LSTMCell.call of <tensorflow.python.ops.rnn_cell_impl.LSTMCell object at 0x7f3cc3cd8e10>> could not be transformed and will be executed as-is. Please report this to the AutgoGraph team. When filing the bug, set the verbosity to 10 (on Linux, `export AUTOGRAPH_VERBOSITY=10`) and attach the full output. Cause: converting <bound method LSTMCell.call of <tensorflow.python.ops.rnn_cell_impl.LSTMCell object at 0x7f3cc3cd8e10>>: AttributeError: module 'gast' has no attribute 'Index'\n",
      "WARNING:tensorflow:Entity <bound method LSTMCell.call of <tensorflow.python.ops.rnn_cell_impl.LSTMCell object at 0x7f3cc3cd8e10>> could not be transformed and will be executed as-is. Please report this to the AutgoGraph team. When filing the bug, set the verbosity to 10 (on Linux, `export AUTOGRAPH_VERBOSITY=10`) and attach the full output. Cause: converting <bound method LSTMCell.call of <tensorflow.python.ops.rnn_cell_impl.LSTMCell object at 0x7f3cc3cd8e10>>: AttributeError: module 'gast' has no attribute 'Index'\n",
      "WARNING: Entity <bound method LSTMCell.call of <tensorflow.python.ops.rnn_cell_impl.LSTMCell object at 0x7f3cc3cd8e10>> could not be transformed and will be executed as-is. Please report this to the AutgoGraph team. When filing the bug, set the verbosity to 10 (on Linux, `export AUTOGRAPH_VERBOSITY=10`) and attach the full output. Cause: converting <bound method LSTMCell.call of <tensorflow.python.ops.rnn_cell_impl.LSTMCell object at 0x7f3cc3cd8e10>>: AttributeError: module 'gast' has no attribute 'Index'\n",
      "WARNING:tensorflow:Entity <bound method LSTMCell.call of <tensorflow.python.ops.rnn_cell_impl.LSTMCell object at 0x7f3cc3cd8e10>> could not be transformed and will be executed as-is. Please report this to the AutgoGraph team. When filing the bug, set the verbosity to 10 (on Linux, `export AUTOGRAPH_VERBOSITY=10`) and attach the full output. Cause: converting <bound method LSTMCell.call of <tensorflow.python.ops.rnn_cell_impl.LSTMCell object at 0x7f3cc3cd8e10>>: AttributeError: module 'gast' has no attribute 'Index'\n",
      "WARNING: Entity <bound method LSTMCell.call of <tensorflow.python.ops.rnn_cell_impl.LSTMCell object at 0x7f3cc3cd8e10>> could not be transformed and will be executed as-is. Please report this to the AutgoGraph team. When filing the bug, set the verbosity to 10 (on Linux, `export AUTOGRAPH_VERBOSITY=10`) and attach the full output. Cause: converting <bound method LSTMCell.call of <tensorflow.python.ops.rnn_cell_impl.LSTMCell object at 0x7f3cc3cd8e10>>: AttributeError: module 'gast' has no attribute 'Index'\n",
      "WARNING:tensorflow:Entity <bound method LSTMCell.call of <tensorflow.python.ops.rnn_cell_impl.LSTMCell object at 0x7f3cc3cd8e10>> could not be transformed and will be executed as-is. Please report this to the AutgoGraph team. When filing the bug, set the verbosity to 10 (on Linux, `export AUTOGRAPH_VERBOSITY=10`) and attach the full output. Cause: converting <bound method LSTMCell.call of <tensorflow.python.ops.rnn_cell_impl.LSTMCell object at 0x7f3cc3cd8e10>>: AttributeError: module 'gast' has no attribute 'Index'\n",
      "WARNING: Entity <bound method LSTMCell.call of <tensorflow.python.ops.rnn_cell_impl.LSTMCell object at 0x7f3cc3cd8e10>> could not be transformed and will be executed as-is. Please report this to the AutgoGraph team. When filing the bug, set the verbosity to 10 (on Linux, `export AUTOGRAPH_VERBOSITY=10`) and attach the full output. Cause: converting <bound method LSTMCell.call of <tensorflow.python.ops.rnn_cell_impl.LSTMCell object at 0x7f3cc3cd8e10>>: AttributeError: module 'gast' has no attribute 'Index'\n",
      "WARNING:tensorflow:From /home/sheila/repos/ns-3-allinone/ns-3.29/scratch/RLinWiFi-master-original-queue-level-mean/agents/dqn/model.py:53: dense (from tensorflow.python.layers.core) is deprecated and will be removed in a future version.\n",
      "Instructions for updating:\n",
      "Use keras.layers.dense instead.\n",
      "WARNING:tensorflow:Entity <bound method Dense.call of <tensorflow.python.layers.core.Dense object at 0x7f3cc3cd8e10>> could not be transformed and will be executed as-is. Please report this to the AutgoGraph team. When filing the bug, set the verbosity to 10 (on Linux, `export AUTOGRAPH_VERBOSITY=10`) and attach the full output. Cause: converting <bound method Dense.call of <tensorflow.python.layers.core.Dense object at 0x7f3cc3cd8e10>>: AttributeError: module 'gast' has no attribute 'Index'\n",
      "WARNING: Entity <bound method Dense.call of <tensorflow.python.layers.core.Dense object at 0x7f3cc3cd8e10>> could not be transformed and will be executed as-is. Please report this to the AutgoGraph team. When filing the bug, set the verbosity to 10 (on Linux, `export AUTOGRAPH_VERBOSITY=10`) and attach the full output. Cause: converting <bound method Dense.call of <tensorflow.python.layers.core.Dense object at 0x7f3cc3cd8e10>>: AttributeError: module 'gast' has no attribute 'Index'\n",
      "WARNING:tensorflow:Entity <bound method Dense.call of <tensorflow.python.layers.core.Dense object at 0x7f3cc3cd8e10>> could not be transformed and will be executed as-is. Please report this to the AutgoGraph team. When filing the bug, set the verbosity to 10 (on Linux, `export AUTOGRAPH_VERBOSITY=10`) and attach the full output. Cause: converting <bound method Dense.call of <tensorflow.python.layers.core.Dense object at 0x7f3cc3cd8e10>>: AttributeError: module 'gast' has no attribute 'Index'\n"
     ]
    },
    {
     "name": "stdout",
     "output_type": "stream",
     "text": [
      "WARNING: Entity <bound method Dense.call of <tensorflow.python.layers.core.Dense object at 0x7f3cc3cd8e10>> could not be transformed and will be executed as-is. Please report this to the AutgoGraph team. When filing the bug, set the verbosity to 10 (on Linux, `export AUTOGRAPH_VERBOSITY=10`) and attach the full output. Cause: converting <bound method Dense.call of <tensorflow.python.layers.core.Dense object at 0x7f3cc3cd8e10>>: AttributeError: module 'gast' has no attribute 'Index'\n",
      "WARNING:tensorflow:Entity <bound method Dense.call of <tensorflow.python.layers.core.Dense object at 0x7f3cc3cd8e10>> could not be transformed and will be executed as-is. Please report this to the AutgoGraph team. When filing the bug, set the verbosity to 10 (on Linux, `export AUTOGRAPH_VERBOSITY=10`) and attach the full output. Cause: converting <bound method Dense.call of <tensorflow.python.layers.core.Dense object at 0x7f3cc3cd8e10>>: AttributeError: module 'gast' has no attribute 'Index'\n",
      "WARNING: Entity <bound method Dense.call of <tensorflow.python.layers.core.Dense object at 0x7f3cc3cd8e10>> could not be transformed and will be executed as-is. Please report this to the AutgoGraph team. When filing the bug, set the verbosity to 10 (on Linux, `export AUTOGRAPH_VERBOSITY=10`) and attach the full output. Cause: converting <bound method Dense.call of <tensorflow.python.layers.core.Dense object at 0x7f3cc3cd8e10>>: AttributeError: module 'gast' has no attribute 'Index'\n",
      "WARNING:tensorflow:From /home/sheila/repos/ns-3-allinone/ns-3.29/scratch/RLinWiFi-master-original-queue-level-mean/agents/dqn/model.py:69: The name tf.losses.mean_squared_error is deprecated. Please use tf.compat.v1.losses.mean_squared_error instead.\n",
      "\n",
      "WARNING:tensorflow:From /home/sheila/anaconda3/envs/environment_py3_7/lib/python3.7/site-packages/tensorflow/python/ops/losses/losses_impl.py:121: add_dispatch_support.<locals>.wrapper (from tensorflow.python.ops.array_ops) is deprecated and will be removed in a future version.\n",
      "Instructions for updating:\n",
      "Use tf.where in 2.0, which has the same broadcast rule as np.where\n",
      "WARNING:tensorflow:From /home/sheila/repos/ns-3-allinone/ns-3.29/scratch/RLinWiFi-master-original-queue-level-mean/agents/dqn/model.py:77: The name tf.train.AdamOptimizer is deprecated. Please use tf.compat.v1.train.AdamOptimizer instead.\n",
      "\n",
      "WARNING:tensorflow:From /home/sheila/repos/ns-3-allinone/ns-3.29/scratch/RLinWiFi-master-original-queue-level-mean/agents/dqn/model.py:33: The name tf.global_variables_initializer is deprecated. Please use tf.compat.v1.global_variables_initializer instead.\n",
      "\n",
      "WARNING:tensorflow:From /home/sheila/repos/ns-3-allinone/ns-3.29/scratch/RLinWiFi-master-original-queue-level-mean/agents/dqn/model.py:34: The name tf.local_variables_initializer is deprecated. Please use tf.compat.v1.local_variables_initializer instead.\n",
      "\n",
      "WARNING:tensorflow:Entity <bound method LSTMCell.call of <tensorflow.python.ops.rnn_cell_impl.LSTMCell object at 0x7f3cacb04610>> could not be transformed and will be executed as-is. Please report this to the AutgoGraph team. When filing the bug, set the verbosity to 10 (on Linux, `export AUTOGRAPH_VERBOSITY=10`) and attach the full output. Cause: converting <bound method LSTMCell.call of <tensorflow.python.ops.rnn_cell_impl.LSTMCell object at 0x7f3cacb04610>>: AttributeError: module 'gast' has no attribute 'Index'\n",
      "WARNING: Entity <bound method LSTMCell.call of <tensorflow.python.ops.rnn_cell_impl.LSTMCell object at 0x7f3cacb04610>> could not be transformed and will be executed as-is. Please report this to the AutgoGraph team. When filing the bug, set the verbosity to 10 (on Linux, `export AUTOGRAPH_VERBOSITY=10`) and attach the full output. Cause: converting <bound method LSTMCell.call of <tensorflow.python.ops.rnn_cell_impl.LSTMCell object at 0x7f3cacb04610>>: AttributeError: module 'gast' has no attribute 'Index'\n",
      "WARNING:tensorflow:Entity <bound method LSTMCell.call of <tensorflow.python.ops.rnn_cell_impl.LSTMCell object at 0x7f3cacb04610>> could not be transformed and will be executed as-is. Please report this to the AutgoGraph team. When filing the bug, set the verbosity to 10 (on Linux, `export AUTOGRAPH_VERBOSITY=10`) and attach the full output. Cause: converting <bound method LSTMCell.call of <tensorflow.python.ops.rnn_cell_impl.LSTMCell object at 0x7f3cacb04610>>: AttributeError: module 'gast' has no attribute 'Index'\n",
      "WARNING: Entity <bound method LSTMCell.call of <tensorflow.python.ops.rnn_cell_impl.LSTMCell object at 0x7f3cacb04610>> could not be transformed and will be executed as-is. Please report this to the AutgoGraph team. When filing the bug, set the verbosity to 10 (on Linux, `export AUTOGRAPH_VERBOSITY=10`) and attach the full output. Cause: converting <bound method LSTMCell.call of <tensorflow.python.ops.rnn_cell_impl.LSTMCell object at 0x7f3cacb04610>>: AttributeError: module 'gast' has no attribute 'Index'\n",
      "WARNING:tensorflow:Entity <bound method LSTMCell.call of <tensorflow.python.ops.rnn_cell_impl.LSTMCell object at 0x7f3cacb04610>> could not be transformed and will be executed as-is. Please report this to the AutgoGraph team. When filing the bug, set the verbosity to 10 (on Linux, `export AUTOGRAPH_VERBOSITY=10`) and attach the full output. Cause: converting <bound method LSTMCell.call of <tensorflow.python.ops.rnn_cell_impl.LSTMCell object at 0x7f3cacb04610>>: AttributeError: module 'gast' has no attribute 'Index'\n",
      "WARNING: Entity <bound method LSTMCell.call of <tensorflow.python.ops.rnn_cell_impl.LSTMCell object at 0x7f3cacb04610>> could not be transformed and will be executed as-is. Please report this to the AutgoGraph team. When filing the bug, set the verbosity to 10 (on Linux, `export AUTOGRAPH_VERBOSITY=10`) and attach the full output. Cause: converting <bound method LSTMCell.call of <tensorflow.python.ops.rnn_cell_impl.LSTMCell object at 0x7f3cacb04610>>: AttributeError: module 'gast' has no attribute 'Index'\n",
      "WARNING:tensorflow:Entity <bound method LSTMCell.call of <tensorflow.python.ops.rnn_cell_impl.LSTMCell object at 0x7f3cacb04610>> could not be transformed and will be executed as-is. Please report this to the AutgoGraph team. When filing the bug, set the verbosity to 10 (on Linux, `export AUTOGRAPH_VERBOSITY=10`) and attach the full output. Cause: converting <bound method LSTMCell.call of <tensorflow.python.ops.rnn_cell_impl.LSTMCell object at 0x7f3cacb04610>>: AttributeError: module 'gast' has no attribute 'Index'\n",
      "WARNING: Entity <bound method LSTMCell.call of <tensorflow.python.ops.rnn_cell_impl.LSTMCell object at 0x7f3cacb04610>> could not be transformed and will be executed as-is. Please report this to the AutgoGraph team. When filing the bug, set the verbosity to 10 (on Linux, `export AUTOGRAPH_VERBOSITY=10`) and attach the full output. Cause: converting <bound method LSTMCell.call of <tensorflow.python.ops.rnn_cell_impl.LSTMCell object at 0x7f3cacb04610>>: AttributeError: module 'gast' has no attribute 'Index'\n",
      "WARNING:tensorflow:Entity <bound method Dense.call of <tensorflow.python.layers.core.Dense object at 0x7f3cacb04610>> could not be transformed and will be executed as-is. Please report this to the AutgoGraph team. When filing the bug, set the verbosity to 10 (on Linux, `export AUTOGRAPH_VERBOSITY=10`) and attach the full output. Cause: converting <bound method Dense.call of <tensorflow.python.layers.core.Dense object at 0x7f3cacb04610>>: AttributeError: module 'gast' has no attribute 'Index'\n",
      "WARNING: Entity <bound method Dense.call of <tensorflow.python.layers.core.Dense object at 0x7f3cacb04610>> could not be transformed and will be executed as-is. Please report this to the AutgoGraph team. When filing the bug, set the verbosity to 10 (on Linux, `export AUTOGRAPH_VERBOSITY=10`) and attach the full output. Cause: converting <bound method Dense.call of <tensorflow.python.layers.core.Dense object at 0x7f3cacb04610>>: AttributeError: module 'gast' has no attribute 'Index'\n",
      "WARNING:tensorflow:Entity <bound method Dense.call of <tensorflow.python.layers.core.Dense object at 0x7f3cacb04610>> could not be transformed and will be executed as-is. Please report this to the AutgoGraph team. When filing the bug, set the verbosity to 10 (on Linux, `export AUTOGRAPH_VERBOSITY=10`) and attach the full output. Cause: converting <bound method Dense.call of <tensorflow.python.layers.core.Dense object at 0x7f3cacb04610>>: AttributeError: module 'gast' has no attribute 'Index'\n"
     ]
    },
    {
     "name": "stdout",
     "output_type": "stream",
     "text": [
      "WARNING: Entity <bound method Dense.call of <tensorflow.python.layers.core.Dense object at 0x7f3cacb04610>> could not be transformed and will be executed as-is. Please report this to the AutgoGraph team. When filing the bug, set the verbosity to 10 (on Linux, `export AUTOGRAPH_VERBOSITY=10`) and attach the full output. Cause: converting <bound method Dense.call of <tensorflow.python.layers.core.Dense object at 0x7f3cacb04610>>: AttributeError: module 'gast' has no attribute 'Index'\n",
      "WARNING:tensorflow:Entity <bound method Dense.call of <tensorflow.python.layers.core.Dense object at 0x7f3cacb04610>> could not be transformed and will be executed as-is. Please report this to the AutgoGraph team. When filing the bug, set the verbosity to 10 (on Linux, `export AUTOGRAPH_VERBOSITY=10`) and attach the full output. Cause: converting <bound method Dense.call of <tensorflow.python.layers.core.Dense object at 0x7f3cacb04610>>: AttributeError: module 'gast' has no attribute 'Index'\n",
      "WARNING: Entity <bound method Dense.call of <tensorflow.python.layers.core.Dense object at 0x7f3cacb04610>> could not be transformed and will be executed as-is. Please report this to the AutgoGraph team. When filing the bug, set the verbosity to 10 (on Linux, `export AUTOGRAPH_VERBOSITY=10`) and attach the full output. Cause: converting <bound method Dense.call of <tensorflow.python.layers.core.Dense object at 0x7f3cacb04610>>: AttributeError: module 'gast' has no attribute 'Index'\n",
      "WARNING:tensorflow:From /home/sheila/repos/ns-3-allinone/ns-3.29/scratch/RLinWiFi-master-original-queue-level-mean/agents/dqn/agent.py:77: The name tf.train.Saver is deprecated. Please use tf.compat.v1.train.Saver instead.\n",
      "\n",
      "Action space: 7\n",
      "WARNING:tensorflow:From /home/sheila/repos/ns-3-allinone/ns-3.29/scratch/RLinWiFi-master-original-queue-level-mean/agents/dqn/agent.py:107: Variable.load (from tensorflow.python.ops.variables) is deprecated and will be removed in a future version.\n",
      "Instructions for updating:\n",
      "Prefer Variable.assign which has equivalent behavior in 2.X.\n"
     ]
    },
    {
     "name": "stderr",
     "output_type": "stream",
     "text": [
      "COMET INFO: Experiment is live on comet.ml https://www.comet.com/sheila-janota/rl-in-wifi-with-queue-level/4f407e0e29ac47fe9ca20ca1334450ae\n",
      "\n"
     ]
    },
    {
     "name": "stdout",
     "output_type": "stream",
     "text": [
      "0\n",
      "40.790771|0|5|-nan\n"
     ]
    },
    {
     "name": "stderr",
     "output_type": "stream",
     "text": [
      "  5%|▌         | 333/6300 [03:16<1:17:06,  1.29it/s, curr_speed=27.92 Mbps, mb_sent=8.94 Mb]"
     ]
    },
    {
     "name": "stdout",
     "output_type": "stream",
     "text": [
      "------- STARTED TRAINING -------\n"
     ]
    },
    {
     "name": "stderr",
     "output_type": "stream",
     "text": [
      "  9%|▉         | 556/6300 [06:39<1:52:50,  1.18s/it, curr_speed=29.88 Mbps, mb_sent=75.16 Mb]COMET ERROR: File could not be uploaded\n",
      "  9%|▉         | 557/6300 [06:40<1:56:57,  1.22s/it, curr_speed=29.91 Mbps, mb_sent=75.55 Mb]COMET ERROR: File could not be uploaded\n",
      "  9%|▉         | 559/6300 [06:43<2:03:52,  1.29s/it, curr_speed=30.17 Mbps, mb_sent=76.30 Mb]COMET ERROR: File could not be uploaded\n",
      "  9%|▉         | 560/6300 [06:44<2:02:38,  1.28s/it, curr_speed=30.20 Mbps, mb_sent=76.66 Mb]COMET ERROR: File could not be uploaded\n",
      " 52%|█████▏    | 3296/6300 [1:17:34<1:40:48,  2.01s/it, curr_speed=32.75 Mbps, mb_sent=963.08 Mb]COMET ERROR: File could not be uploaded\n",
      " 53%|█████▎    | 3308/6300 [1:17:59<1:44:00,  2.09s/it, curr_speed=32.54 Mbps, mb_sent=966.90 Mb]COMET ERROR: File could not be uploaded\n",
      " 53%|█████▎    | 3332/6300 [1:18:49<1:48:04,  2.18s/it, curr_speed=32.79 Mbps, mb_sent=974.61 Mb]COMET ERROR: File could not be uploaded\n",
      " 66%|██████▌   | 4140/6300 [1:49:26<1:26:31,  2.40s/it, curr_speed=34.07 Mbps, mb_sent=1235.57 Mb]COMET ERROR: File could not be uploaded\n",
      "100%|██████████| 6300/6300 [3:30:51<00:00,  2.01s/it, curr_speed=32.45 Mbps, mb_sent=1923.18 Mb]  \n"
     ]
    },
    {
     "name": "stdout",
     "output_type": "stream",
     "text": [
      "Waiting for simulation script to connect on port: tcp://localhost:41869\n",
      "Please start proper ns-3 simulation script using ./waf --run \"...\"\n",
      "Sent 1923.18 Mb/s.\tMean speed: 32.05 Mb/s\tEpisode 1/15 finished\n",
      "\n",
      "1\n",
      "40.790771|0|5|-nan\n"
     ]
    },
    {
     "name": "stderr",
     "output_type": "stream",
     "text": [
      " 40%|████      | 2535/6300 [55:40<1:53:36,  1.81s/it, curr_speed=33.32 Mbps, mb_sent=757.70 Mb]COMET ERROR: File could not be uploaded\n",
      " 40%|████      | 2545/6300 [55:57<1:46:05,  1.70s/it, curr_speed=33.54 Mbps, mb_sent=761.28 Mb]COMET ERROR: File could not be uploaded\n",
      " 40%|████      | 2546/6300 [55:59<1:46:27,  1.70s/it, curr_speed=33.52 Mbps, mb_sent=761.60 Mb]COMET ERROR: File could not be uploaded\n",
      "COMET ERROR: File could not be uploaded\n",
      " 41%|████      | 2563/6300 [56:31<1:51:08,  1.78s/it, curr_speed=33.44 Mbps, mb_sent=767.23 Mb]COMET ERROR: File could not be uploaded\n",
      " 41%|████      | 2567/6300 [56:39<1:59:43,  1.92s/it, curr_speed=33.26 Mbps, mb_sent=768.48 Mb]COMET ERROR: File could not be uploaded\n",
      " 41%|████      | 2572/6300 [56:50<2:04:17,  2.00s/it, curr_speed=33.22 Mbps, mb_sent=770.28 Mb]COMET ERROR: File could not be uploaded\n",
      " 41%|████      | 2578/6300 [57:01<1:56:23,  1.88s/it, curr_speed=33.22 Mbps, mb_sent=772.22 Mb]COMET ERROR: File could not be uploaded\n",
      "COMET ERROR: File could not be uploaded\n",
      "COMET ERROR: File could not be uploaded\n",
      " 41%|████      | 2584/6300 [57:13<2:02:59,  1.99s/it, curr_speed=33.22 Mbps, mb_sent=774.21 Mb]COMET ERROR: File could not be uploaded\n",
      " 41%|████      | 2596/6300 [57:36<2:00:58,  1.96s/it, curr_speed=32.89 Mbps, mb_sent=778.00 Mb]COMET ERROR: File could not be uploaded\n",
      " 41%|████▏     | 2610/6300 [58:02<1:53:47,  1.85s/it, curr_speed=33.01 Mbps, mb_sent=782.64 Mb]COMET ERROR: File could not be uploaded\n",
      " 41%|████▏     | 2612/6300 [58:06<1:55:27,  1.88s/it, curr_speed=32.93 Mbps, mb_sent=783.20 Mb]COMET ERROR: File could not be uploaded\n",
      " 42%|████▏     | 2615/6300 [58:12<2:01:47,  1.98s/it, curr_speed=33.01 Mbps, mb_sent=784.21 Mb]COMET ERROR: File could not be uploaded\n",
      " 42%|████▏     | 2616/6300 [58:14<2:03:56,  2.02s/it, curr_speed=32.89 Mbps, mb_sent=784.40 Mb]COMET ERROR: File could not be uploaded\n",
      " 42%|████▏     | 2621/6300 [58:24<1:57:12,  1.91s/it, curr_speed=32.88 Mbps, mb_sent=786.04 Mb]COMET ERROR: File could not be uploaded\n",
      " 42%|████▏     | 2628/6300 [58:37<1:55:01,  1.88s/it, curr_speed=32.98 Mbps, mb_sent=788.42 Mb]COMET ERROR: File could not be uploaded\n",
      " 45%|████▍     | 2825/6300 [1:04:51<1:48:12,  1.87s/it, curr_speed=30.33 Mbps, mb_sent=850.23 Mb]COMET ERROR: File could not be uploaded\n",
      " 45%|████▍     | 2827/6300 [1:04:55<1:56:09,  2.01s/it, curr_speed=30.17 Mbps, mb_sent=850.78 Mb]COMET ERROR: File could not be uploaded\n",
      " 45%|████▍     | 2829/6300 [1:04:59<1:57:49,  2.04s/it, curr_speed=30.05 Mbps, mb_sent=851.38 Mb]COMET ERROR: File could not be uploaded\n",
      " 48%|████▊     | 3044/6300 [1:12:09<1:50:52,  2.04s/it, curr_speed=32.00 Mbps, mb_sent=921.08 Mb]COMET ERROR: File could not be uploaded\n",
      " 48%|████▊     | 3052/6300 [1:12:26<1:56:25,  2.15s/it, curr_speed=31.75 Mbps, mb_sent=923.56 Mb]COMET ERROR: File could not be uploaded\n",
      " 48%|████▊     | 3055/6300 [1:12:32<1:46:38,  1.97s/it, curr_speed=31.48 Mbps, mb_sent=924.26 Mb]COMET ERROR: File could not be uploaded\n",
      " 49%|████▊     | 3059/6300 [1:12:40<1:49:02,  2.02s/it, curr_speed=31.44 Mbps, mb_sent=925.56 Mb]COMET ERROR: File could not be uploaded\n",
      " 49%|████▊     | 3064/6300 [1:12:51<2:01:24,  2.25s/it, curr_speed=31.31 Mbps, mb_sent=927.07 Mb]COMET ERROR: File could not be uploaded\n",
      " 49%|████▊     | 3065/6300 [1:12:54<2:12:18,  2.45s/it, curr_speed=31.34 Mbps, mb_sent=927.41 Mb]COMET ERROR: File could not be uploaded\n",
      " 49%|████▊     | 3066/6300 [1:12:57<2:18:59,  2.58s/it, curr_speed=31.30 Mbps, mb_sent=927.76 Mb]COMET ERROR: File could not be uploaded\n",
      " 49%|████▊     | 3067/6300 [1:12:59<2:13:25,  2.48s/it, curr_speed=31.19 Mbps, mb_sent=927.98 Mb]COMET ERROR: File could not be uploaded\n",
      " 50%|████▉     | 3132/6300 [1:15:25<1:48:29,  2.05s/it, curr_speed=33.32 Mbps, mb_sent=950.43 Mb]COMET ERROR: File could not be uploaded\n",
      " 50%|████▉     | 3133/6300 [1:15:28<1:53:15,  2.15s/it, curr_speed=33.45 Mbps, mb_sent=950.81 Mb]COMET ERROR: File could not be uploaded\n",
      " 50%|████▉     | 3135/6300 [1:15:32<1:56:56,  2.22s/it, curr_speed=33.52 Mbps, mb_sent=951.55 Mb]COMET ERROR: File could not be uploaded\n",
      " 50%|████▉     | 3138/6300 [1:15:39<1:49:16,  2.07s/it, curr_speed=33.49 Mbps, mb_sent=952.56 Mb]COMET ERROR: File could not be uploaded\n",
      " 50%|████▉     | 3145/6300 [1:15:54<1:52:54,  2.15s/it, curr_speed=33.71 Mbps, mb_sent=955.08 Mb]COMET ERROR: File could not be uploaded\n",
      " 50%|█████     | 3153/6300 [1:16:11<1:55:26,  2.20s/it, curr_speed=33.89 Mbps, mb_sent=957.60 Mb]COMET ERROR: File could not be uploaded\n",
      " 50%|█████     | 3154/6300 [1:16:13<1:56:16,  2.22s/it, curr_speed=33.91 Mbps, mb_sent=957.85 Mb]COMET ERROR: File could not be uploaded\n",
      "COMET ERROR: File could not be uploaded\n",
      " 50%|█████     | 3155/6300 [1:16:16<1:58:41,  2.26s/it, curr_speed=33.93 Mbps, mb_sent=958.19 Mb]COMET ERROR: File could not be uploaded\n",
      " 50%|█████     | 3159/6300 [1:16:24<1:54:59,  2.20s/it, curr_speed=33.90 Mbps, mb_sent=959.45 Mb]COMET ERROR: File could not be uploaded\n",
      " 50%|█████     | 3160/6300 [1:16:27<1:54:47,  2.19s/it, curr_speed=33.84 Mbps, mb_sent=959.79 Mb]COMET ERROR: File could not be uploaded\n",
      " 52%|█████▏    | 3246/6300 [1:19:26<1:51:58,  2.20s/it, curr_speed=37.08 Mbps, mb_sent=992.47 Mb]COMET ERROR: File could not be uploaded\n",
      " 52%|█████▏    | 3263/6300 [1:20:03<1:48:20,  2.14s/it, curr_speed=37.32 Mbps, mb_sent=997.94 Mb]COMET ERROR: File could not be uploaded\n",
      " 52%|█████▏    | 3265/6300 [1:20:07<1:52:07,  2.22s/it, curr_speed=37.22 Mbps, mb_sent=998.59 Mb]COMET ERROR: File could not be uploaded\n",
      " 52%|█████▏    | 3271/6300 [1:20:20<1:50:30,  2.19s/it, curr_speed=37.17 Mbps, mb_sent=1000.11 Mb]COMET ERROR: File could not be uploaded\n",
      "COMET ERROR: File could not be uploaded\n",
      " 52%|█████▏    | 3274/6300 [1:20:27<1:55:20,  2.29s/it, curr_speed=37.33 Mbps, mb_sent=1001.12 Mb]COMET ERROR: File could not be uploaded\n",
      " 52%|█████▏    | 3277/6300 [1:20:34<1:58:56,  2.36s/it, curr_speed=37.52 Mbps, mb_sent=1002.20 Mb]COMET ERROR: File could not be uploaded\n",
      " 52%|█████▏    | 3281/6300 [1:20:43<1:50:48,  2.20s/it, curr_speed=37.50 Mbps, mb_sent=1003.48 Mb]COMET ERROR: File could not be uploaded\n",
      " 52%|█████▏    | 3284/6300 [1:20:49<1:47:50,  2.15s/it, curr_speed=37.52 Mbps, mb_sent=1004.46 Mb]COMET ERROR: File could not be uploaded\n",
      " 52%|█████▏    | 3286/6300 [1:20:54<1:46:32,  2.12s/it, curr_speed=37.81 Mbps, mb_sent=1005.13 Mb]COMET ERROR: File could not be uploaded\n",
      " 52%|█████▏    | 3290/6300 [1:21:02<1:46:27,  2.12s/it, curr_speed=31.89 Mbps, mb_sent=1006.51 Mb]COMET ERROR: File could not be uploaded\n",
      " 52%|█████▏    | 3297/6300 [1:21:17<1:46:38,  2.13s/it, curr_speed=31.70 Mbps, mb_sent=1008.83 Mb]COMET ERROR: File could not be uploaded\n",
      "COMET ERROR: File could not be uploaded\n",
      " 52%|█████▏    | 3300/6300 [1:21:24<1:50:26,  2.21s/it, curr_speed=31.65 Mbps, mb_sent=1009.83 Mb]COMET ERROR: File could not be uploaded\n",
      " 52%|█████▏    | 3301/6300 [1:21:26<1:51:01,  2.22s/it, curr_speed=31.69 Mbps, mb_sent=1010.19 Mb]COMET ERROR: File could not be uploaded\n",
      " 52%|█████▏    | 3303/6300 [1:21:30<1:49:16,  2.19s/it, curr_speed=31.77 Mbps, mb_sent=1010.87 Mb]COMET ERROR: File could not be uploaded\n",
      " 52%|█████▏    | 3304/6300 [1:21:33<1:50:21,  2.21s/it, curr_speed=31.71 Mbps, mb_sent=1011.16 Mb]COMET ERROR: File could not be uploaded\n",
      " 53%|█████▎    | 3310/6300 [1:21:46<1:49:15,  2.19s/it, curr_speed=31.61 Mbps, mb_sent=1013.13 Mb]COMET ERROR: File could not be uploaded\n",
      " 53%|█████▎    | 3326/6300 [1:22:21<1:52:57,  2.28s/it, curr_speed=34.57 Mbps, mb_sent=1021.22 Mb]COMET ERROR: File could not be uploaded\n",
      " 53%|█████▎    | 3331/6300 [1:22:33<1:51:44,  2.26s/it, curr_speed=34.76 Mbps, mb_sent=1022.78 Mb]COMET ERROR: File could not be uploaded\n",
      "100%|██████████| 6300/6300 [3:41:24<00:00,  2.11s/it, curr_speed=33.50 Mbps, mb_sent=2040.02 Mb]  \n"
     ]
    },
    {
     "name": "stdout",
     "output_type": "stream",
     "text": [
      "Waiting for simulation script to connect on port: tcp://localhost:36617\n",
      "Please start proper ns-3 simulation script using ./waf --run \"...\"\n",
      "Sent 2040.02 Mb/s.\tMean speed: 34.00 Mb/s\tEpisode 2/15 finished\n",
      "\n",
      "2\n",
      "40.790771|0|5|-nan\n"
     ]
    },
    {
     "name": "stderr",
     "output_type": "stream",
     "text": [
      "100%|██████████| 6300/6300 [3:28:27<00:00,  1.99s/it, curr_speed=44.53 Mbps, mb_sent=2120.11 Mb]  \n"
     ]
    },
    {
     "name": "stdout",
     "output_type": "stream",
     "text": [
      "Waiting for simulation script to connect on port: tcp://localhost:28714\n",
      "Please start proper ns-3 simulation script using ./waf --run \"...\"\n",
      "Sent 2120.11 Mb/s.\tMean speed: 35.34 Mb/s\tEpisode 3/15 finished\n",
      "\n",
      "3\n",
      "40.790771|0|5|-nan\n"
     ]
    },
    {
     "name": "stderr",
     "output_type": "stream",
     "text": [
      "  5%|▍         | 304/6300 [03:53<1:28:56,  1.12it/s, curr_speed=37.60 Mbps, mb_sent=1.13 Mb]"
     ]
    },
    {
     "name": "stdout",
     "output_type": "stream",
     "text": [
      "------- MEMORY BUFFER FILLED -------\n"
     ]
    },
    {
     "name": "stderr",
     "output_type": "stream",
     "text": [
      "100%|██████████| 6300/6300 [3:14:12<00:00,  1.85s/it, curr_speed=35.66 Mbps, mb_sent=2157.96 Mb]  \n"
     ]
    },
    {
     "name": "stdout",
     "output_type": "stream",
     "text": [
      "Waiting for simulation script to connect on port: tcp://localhost:51000\n",
      "Please start proper ns-3 simulation script using ./waf --run \"...\"\n",
      "Sent 2157.96 Mb/s.\tMean speed: 35.97 Mb/s\tEpisode 4/15 finished\n",
      "\n",
      "4\n",
      "40.790771|0|5|-nan\n"
     ]
    },
    {
     "name": "stderr",
     "output_type": "stream",
     "text": [
      "100%|██████████| 6300/6300 [2:26:16<00:00,  1.39s/it, curr_speed=33.97 Mbps, mb_sent=2209.35 Mb]  \n"
     ]
    },
    {
     "name": "stdout",
     "output_type": "stream",
     "text": [
      "Waiting for simulation script to connect on port: tcp://localhost:49177\n",
      "Please start proper ns-3 simulation script using ./waf --run \"...\"\n",
      "Sent 2209.35 Mb/s.\tMean speed: 36.82 Mb/s\tEpisode 5/15 finished\n",
      "\n",
      "5\n",
      "40.790771|0|5|-nan\n"
     ]
    },
    {
     "name": "stderr",
     "output_type": "stream",
     "text": [
      "100%|██████████| 6300/6300 [2:21:22<00:00,  1.35s/it, curr_speed=35.95 Mbps, mb_sent=2226.30 Mb]  \n"
     ]
    },
    {
     "name": "stdout",
     "output_type": "stream",
     "text": [
      "Waiting for simulation script to connect on port: tcp://localhost:49076\n",
      "Please start proper ns-3 simulation script using ./waf --run \"...\"\n",
      "Sent 2226.30 Mb/s.\tMean speed: 37.11 Mb/s\tEpisode 6/15 finished\n",
      "\n",
      "6\n",
      "40.790771|0|5|-nan\n"
     ]
    },
    {
     "name": "stderr",
     "output_type": "stream",
     "text": [
      "100%|██████████| 6300/6300 [1:32:24<00:00,  1.14it/s, curr_speed=37.16 Mbps, mb_sent=2245.54 Mb]\n"
     ]
    },
    {
     "name": "stdout",
     "output_type": "stream",
     "text": [
      "Waiting for simulation script to connect on port: tcp://localhost:28200\n",
      "Please start proper ns-3 simulation script using ./waf --run \"...\"\n",
      "Sent 2245.54 Mb/s.\tMean speed: 37.43 Mb/s\tEpisode 7/15 finished\n",
      "\n",
      "7\n",
      "40.790771|0|5|-nan\n"
     ]
    },
    {
     "name": "stderr",
     "output_type": "stream",
     "text": [
      " 95%|█████████▌| 5992/6300 [2:09:01<11:05,  2.16s/it, curr_speed=36.58 Mbps, mb_sent=2137.03 Mb]  COMET ERROR: File could not be uploaded\n",
      "100%|██████████| 6300/6300 [2:20:49<00:00,  1.34s/it, curr_speed=37.64 Mbps, mb_sent=2252.55 Mb]\n"
     ]
    },
    {
     "name": "stdout",
     "output_type": "stream",
     "text": [
      "Waiting for simulation script to connect on port: tcp://localhost:19841\n",
      "Please start proper ns-3 simulation script using ./waf --run \"...\"\n",
      "Sent 2252.55 Mb/s.\tMean speed: 37.54 Mb/s\tEpisode 8/15 finished\n",
      "\n",
      "8\n",
      "40.790771|0|5|-nan\n"
     ]
    },
    {
     "name": "stderr",
     "output_type": "stream",
     "text": [
      "100%|██████████| 6300/6300 [2:38:25<00:00,  1.51s/it, curr_speed=37.18 Mbps, mb_sent=2254.35 Mb]  \n"
     ]
    },
    {
     "name": "stdout",
     "output_type": "stream",
     "text": [
      "Waiting for simulation script to connect on port: tcp://localhost:38786\n",
      "Please start proper ns-3 simulation script using ./waf --run \"...\"\n",
      "Sent 2254.35 Mb/s.\tMean speed: 37.57 Mb/s\tEpisode 9/15 finished\n",
      "\n",
      "9\n",
      "40.790771|0|5|-nan\n"
     ]
    },
    {
     "name": "stderr",
     "output_type": "stream",
     "text": [
      " 23%|██▎       | 1452/6300 [20:06<1:27:40,  1.09s/it, curr_speed=38.08 Mbps, mb_sent=436.78 Mb]COMET ERROR: File could not be uploaded\n",
      " 23%|██▎       | 1453/6300 [20:07<1:25:50,  1.06s/it, curr_speed=38.09 Mbps, mb_sent=437.16 Mb]COMET ERROR: File could not be uploaded\n",
      " 54%|█████▍    | 3393/6300 [1:01:47<1:21:09,  1.68s/it, curr_speed=37.73 Mbps, mb_sent=1166.57 Mb]COMET ERROR: File could not be uploaded\n",
      " 62%|██████▏   | 3912/6300 [2:09:38<1:09:55,  1.76s/it, curr_speed=37.41 Mbps, mb_sent=1362.70 Mb]   COMET ERROR: File could not be uploaded\n",
      " 82%|████████▏ | 5173/6300 [2:48:10<37:45,  2.01s/it, curr_speed=37.74 Mbps, mb_sent=1836.51 Mb]  COMET ERROR: File could not be uploaded\n",
      "COMET ERROR: File could not be uploaded\n",
      "COMET ERROR: File could not be uploaded\n",
      " 82%|████████▏ | 5179/6300 [2:48:21<35:48,  1.92s/it, curr_speed=37.81 Mbps, mb_sent=1838.77 Mb]COMET ERROR: File could not be uploaded\n",
      " 82%|████████▏ | 5180/6300 [2:48:24<36:38,  1.96s/it, curr_speed=37.85 Mbps, mb_sent=1839.13 Mb]COMET ERROR: File could not be uploaded\n",
      " 82%|████████▏ | 5183/6300 [2:48:30<38:13,  2.05s/it, curr_speed=37.85 Mbps, mb_sent=1840.21 Mb]COMET ERROR: File could not be uploaded\n",
      " 82%|████████▏ | 5185/6300 [2:48:34<40:19,  2.17s/it, curr_speed=37.86 Mbps, mb_sent=1840.98 Mb]COMET ERROR: File could not be uploaded\n",
      "COMET ERROR: File could not be uploaded\n",
      " 82%|████████▏ | 5190/6300 [2:48:45<39:54,  2.16s/it, curr_speed=38.08 Mbps, mb_sent=1842.97 Mb]COMET ERROR: File could not be uploaded\n",
      " 82%|████████▏ | 5191/6300 [2:48:48<39:04,  2.11s/it, curr_speed=38.04 Mbps, mb_sent=1843.34 Mb]COMET ERROR: File could not be uploaded\n",
      " 83%|████████▎ | 5199/6300 [2:49:05<41:47,  2.28s/it, curr_speed=37.79 Mbps, mb_sent=1846.21 Mb]COMET ERROR: File could not be uploaded\n",
      " 83%|████████▎ | 5202/6300 [2:49:14<47:45,  2.61s/it, curr_speed=37.95 Mbps, mb_sent=1847.44 Mb]COMET ERROR: File could not be uploaded\n",
      " 83%|████████▎ | 5213/6300 [2:49:37<38:59,  2.15s/it, curr_speed=37.47 Mbps, mb_sent=1851.36 Mb]COMET ERROR: File could not be uploaded\n",
      " 83%|████████▎ | 5213/6300 [2:49:40<38:59,  2.15s/it, curr_speed=37.45 Mbps, mb_sent=1851.75 Mb]COMET ERROR: File could not be uploaded\n",
      " 83%|████████▎ | 5214/6300 [2:49:40<38:58,  2.15s/it, curr_speed=37.45 Mbps, mb_sent=1851.75 Mb]COMET ERROR: File could not be uploaded\n",
      " 83%|████████▎ | 5216/6300 [2:49:44<40:20,  2.23s/it, curr_speed=37.35 Mbps, mb_sent=1852.46 Mb]COMET ERROR: File could not be uploaded\n",
      " 83%|████████▎ | 5220/6300 [2:49:53<37:58,  2.11s/it, curr_speed=37.48 Mbps, mb_sent=1854.00 Mb]COMET ERROR: File could not be uploaded\n",
      " 83%|████████▎ | 5222/6300 [2:49:57<37:19,  2.08s/it, curr_speed=37.52 Mbps, mb_sent=1854.76 Mb]COMET ERROR: File could not be uploaded\n",
      " 83%|████████▎ | 5229/6300 [2:50:11<35:20,  1.98s/it, curr_speed=37.31 Mbps, mb_sent=1857.28 Mb]COMET ERROR: File could not be uploaded\n",
      " 83%|████████▎ | 5253/6300 [2:51:00<33:25,  1.92s/it, curr_speed=37.53 Mbps, mb_sent=1866.46 Mb]COMET ERROR: File could not be uploaded\n",
      " 83%|████████▎ | 5254/6300 [2:51:02<35:55,  2.06s/it, curr_speed=37.45 Mbps, mb_sent=1866.79 Mb]COMET ERROR: File could not be uploaded\n",
      " 83%|████████▎ | 5256/6300 [2:51:06<36:54,  2.12s/it, curr_speed=37.43 Mbps, mb_sent=1867.52 Mb]COMET ERROR: File could not be uploaded\n",
      " 83%|████████▎ | 5260/6300 [2:51:15<35:24,  2.04s/it, curr_speed=37.36 Mbps, mb_sent=1868.96 Mb]COMET ERROR: File could not be uploaded\n",
      "100%|██████████| 6300/6300 [3:23:30<00:00,  1.94s/it, curr_speed=37.47 Mbps, mb_sent=2256.28 Mb]\n"
     ]
    },
    {
     "name": "stdout",
     "output_type": "stream",
     "text": [
      "Waiting for simulation script to connect on port: tcp://localhost:22910\n",
      "Please start proper ns-3 simulation script using ./waf --run \"...\"\n",
      "Sent 2256.28 Mb/s.\tMean speed: 37.60 Mb/s\tEpisode 10/15 finished\n",
      "\n",
      "10\n",
      "40.790771|0|5|-nan\n"
     ]
    },
    {
     "name": "stderr",
     "output_type": "stream",
     "text": [
      " 88%|████████▊ | 5514/6300 [2:10:38<26:03,  1.99s/it, curr_speed=37.24 Mbps, mb_sent=1969.36 Mb]  COMET ERROR: File could not be uploaded\n",
      " 88%|████████▊ | 5517/6300 [2:10:45<27:57,  2.14s/it, curr_speed=37.18 Mbps, mb_sent=1970.50 Mb]COMET ERROR: File could not be uploaded\n",
      "100%|██████████| 6300/6300 [2:41:06<00:00,  1.53s/it, curr_speed=37.29 Mbps, mb_sent=2259.58 Mb]\n"
     ]
    },
    {
     "name": "stdout",
     "output_type": "stream",
     "text": [
      "Waiting for simulation script to connect on port: tcp://localhost:28283\n",
      "Please start proper ns-3 simulation script using ./waf --run \"...\"\n",
      "Sent 2259.58 Mb/s.\tMean speed: 37.66 Mb/s\tEpisode 11/15 finished\n",
      "\n",
      "11\n",
      "40.790771|0|5|-nan\n"
     ]
    },
    {
     "name": "stderr",
     "output_type": "stream",
     "text": [
      " 33%|███▎      | 2091/6300 [31:33<1:22:37,  1.18s/it, curr_speed=37.85 Mbps, mb_sent=679.62 Mb]COMET ERROR: File could not be uploaded\n",
      " 34%|███▎      | 2119/6300 [32:07<2:10:45,  1.88s/it, curr_speed=37.69 Mbps, mb_sent=690.18 Mb]COMET ERROR: File could not be uploaded\n",
      "COMET ERROR: File could not be uploaded\n",
      " 70%|███████   | 4421/6300 [3:14:25<57:28,  1.84s/it, curr_speed=38.17 Mbps, mb_sent=1556.30 Mb]      COMET ERROR: File could not be uploaded\n",
      " 70%|███████   | 4424/6300 [3:14:30<57:36,  1.84s/it, curr_speed=38.21 Mbps, mb_sent=1557.47 Mb]COMET ERROR: File could not be uploaded\n",
      "100%|██████████| 6300/6300 [4:20:48<00:00,  2.48s/it, curr_speed=37.26 Mbps, mb_sent=2259.41 Mb]  \n"
     ]
    },
    {
     "name": "stdout",
     "output_type": "stream",
     "text": [
      "Waiting for simulation script to connect on port: tcp://localhost:50810\n",
      "Please start proper ns-3 simulation script using ./waf --run \"...\"\n",
      "WARNING:tensorflow:From /home/sheila/anaconda3/envs/environment_py3_7/lib/python3.7/site-packages/tensorflow/python/training/saver.py:960: remove_checkpoint (from tensorflow.python.training.checkpoint_management) is deprecated and will be removed in a future version.\n",
      "Instructions for updating:\n",
      "Use standard file APIs to delete files with this prefix.\n",
      "Sent 2259.41 Mb/s.\tMean speed: 37.66 Mb/s\tEpisode 12/15 finished\n",
      "\n",
      "12\n",
      "Turning off noise\n",
      "40.790771|0|5|-nan\n"
     ]
    },
    {
     "name": "stderr",
     "output_type": "stream",
     "text": [
      "100%|██████████| 6300/6300 [2:44:16<00:00,  1.56s/it, curr_speed=37.34 Mbps, mb_sent=2261.45 Mb]  \n"
     ]
    },
    {
     "name": "stdout",
     "output_type": "stream",
     "text": [
      "Waiting for simulation script to connect on port: tcp://localhost:28522\n",
      "Please start proper ns-3 simulation script using ./waf --run \"...\"\n",
      "Sent 2261.45 Mb/s.\tMean speed: 37.69 Mb/s\tEpisode 13/15 finished\n",
      "\n",
      "13\n",
      "Turning off noise\n",
      "40.790771|0|5|-nan\n"
     ]
    },
    {
     "name": "stderr",
     "output_type": "stream",
     "text": [
      " 18%|█▊        | 1115/6300 [15:57<4:57:10,  3.44s/it, curr_speed=37.50 Mbps, mb_sent=311.10 Mb]COMET ERROR: File could not be uploaded\n",
      " 18%|█▊        | 1117/6300 [16:04<4:44:48,  3.30s/it, curr_speed=37.51 Mbps, mb_sent=311.85 Mb]COMET ERROR: File could not be uploaded\n",
      " 24%|██▍       | 1539/6300 [25:26<1:31:07,  1.15s/it, curr_speed=38.23 Mbps, mb_sent=471.37 Mb]COMET ERROR: File could not be uploaded\n",
      "100%|██████████| 6300/6300 [1:53:42<00:00,  1.08s/it, curr_speed=37.67 Mbps, mb_sent=2263.37 Mb]\n"
     ]
    },
    {
     "name": "stdout",
     "output_type": "stream",
     "text": [
      "Waiting for simulation script to connect on port: tcp://localhost:34097\n",
      "Please start proper ns-3 simulation script using ./waf --run \"...\"\n",
      "Sent 2263.37 Mb/s.\tMean speed: 37.72 Mb/s\tEpisode 14/15 finished\n",
      "\n",
      "14\n",
      "Turning off noise\n",
      "40.790771|0|5|-nan\n"
     ]
    },
    {
     "name": "stderr",
     "output_type": "stream",
     "text": [
      "100%|██████████| 6300/6300 [1:34:28<00:00,  1.11it/s, curr_speed=37.60 Mbps, mb_sent=2257.70 Mb]\n"
     ]
    },
    {
     "name": "stdout",
     "output_type": "stream",
     "text": [
      "Waiting for simulation script to connect on port: tcp://localhost:37819\n",
      "Please start proper ns-3 simulation script using ./waf --run \"...\"\n"
     ]
    },
    {
     "name": "stderr",
     "output_type": "stream",
     "text": [
      "COMET INFO: ----------------------------\n",
      "COMET INFO: Comet.ml Experiment Summary:\n",
      "COMET INFO:   Data:\n",
      "COMET INFO:     url: https://www.comet.com/sheila-janota/rl-in-wifi-with-queue-level/4f407e0e29ac47fe9ca20ca1334450ae\n",
      "COMET INFO:   Metrics [count] (min, max):\n",
      "COMET INFO:     Chosen CW [89985]           : (16.0, 1024.0)\n",
      "COMET INFO:     Cumulative reward [15]      : (2572.69287109375, 3157.13720703125)\n",
      "COMET INFO:     Current throughput [89985]  : (15.637200355529785, 51.088985443115234)\n",
      "COMET INFO:     Fairness index [89985]      : (0.025543000549077988, 0.9963189959526062)\n",
      "COMET INFO:     Megabytes sent [89985]      : (0.15637199580669403, 2263.373951345682)\n",
      "COMET INFO:     Observation 0 [89985]       : (0.04867156986147165, 0.9672454253832499)\n",
      "COMET INFO:     Observation 1 [89985]       : (0.003994262105884034, 0.018906017741214132)\n",
      "COMET INFO:     Per-ep reward [89985]       : (87.53857421875, 3157.13720703125)\n",
      "COMET INFO:     Round megabytes sent [89985]: (0.0, 11.839599609375)\n",
      "COMET INFO:     Round reward [89985]        : (0.0, 0.908447265625)\n",
      "COMET INFO:     Speed [15]                  : (32.052923082280905, 37.722899189094704)\n",
      "COMET INFO:     Station count [89985]       : (5.0, 50.0)\n",
      "COMET INFO:     loss [89985]                : (0.0, 0.14979547262191772)\n",
      "COMET INFO:   Uploads:\n",
      "COMET INFO:     histogram3d: 89985\n",
      "COMET INFO: ----------------------------\n"
     ]
    },
    {
     "name": "stdout",
     "output_type": "stream",
     "text": [
      "Sent 2257.70 Mb/s.\tMean speed: 37.63 Mb/s\tEpisode 15/15 finished\n",
      "\n"
     ]
    },
    {
     "name": "stderr",
     "output_type": "stream",
     "text": [
      "COMET INFO: Uploading stats to Comet before program termination (may take several seconds)\n"
     ]
    },
    {
     "name": "stdout",
     "output_type": "stream",
     "text": [
      "Training finished.\n"
     ]
    }
   ],
   "source": [
    "#%%\n",
    "teacher = Teacher(env, 1, Preprocessor(False))\n",
    "\n",
    "lr = 4e-4\n",
    "config = Config(buffer_size=3*steps_per_ep*threads_no, batch_size=32, gamma=0.7, tau=1e-3, lr=lr, update_every=1)\n",
    "agent = Agent(QNetworkTf, history_length, action_size=7, config=config)\n",
    "agent.set_epsilon(0.9, 0.001, EPISODE_COUNT-2)\n",
    "\n",
    "# Test the model\n",
    "hyperparams = {**config.__dict__, **sim_args}\n",
    "tags = [\"Rew: normalized speed\",\n",
    "        \"Final\",\n",
    "        f\"{Agent.NAME}\",\n",
    "        sim_args['scenario'],\n",
    "        f\"LR: {lr}\",\n",
    "        f\"Instances: {threads_no}\",\n",
    "        f\"Station count: {sim_args['nWifi']}\",\n",
    "        *[f\"{key}: {sim_args[key]}\" for key in list(sim_args)[:3]]]\n",
    "# # agent.save()\n",
    "logger = teacher.train(agent, EPISODE_COUNT,\n",
    "                        simTime=simTime,\n",
    "                        stepTime=stepTime,\n",
    "                        history_length=history_length,\n",
    "                        send_logs=True,\n",
    "                        experimental=True,\n",
    "                        tags=tags,\n",
    "                        parameters=hyperparams)\n",
    "#logger = teacher.eval(agent,\n",
    "#                        simTime=simTime,\n",
    "#                        stepTime=stepTime,\n",
    "#                        history_length=history_length,\n",
    "#                        tags=tags,\n",
    " #                       parameters=hyperparams)\n",
    "# agent.save()\n",
    "\n",
    "\n",
    "# %%"
   ]
  },
  {
   "cell_type": "code",
   "execution_count": null,
   "id": "74c4e302",
   "metadata": {},
   "outputs": [],
   "source": []
  },
  {
   "cell_type": "markdown",
   "id": "e8fe086e",
   "metadata": {},
   "source": [
    "# Execution num3:"
   ]
  },
  {
   "cell_type": "code",
   "execution_count": 1,
   "id": "026428a7",
   "metadata": {},
   "outputs": [
    {
     "name": "stderr",
     "output_type": "stream",
     "text": [
      "/home/sheila/anaconda3/envs/environment_py3_7/lib/python3.7/site-packages/tensorflow/python/framework/dtypes.py:516: FutureWarning: Passing (type, 1) or '1type' as a synonym of type is deprecated; in a future version of numpy, it will be understood as (type, (1,)) / '(1,)type'.\n",
      "  _np_qint8 = np.dtype([(\"qint8\", np.int8, 1)])\n",
      "/home/sheila/anaconda3/envs/environment_py3_7/lib/python3.7/site-packages/tensorflow/python/framework/dtypes.py:517: FutureWarning: Passing (type, 1) or '1type' as a synonym of type is deprecated; in a future version of numpy, it will be understood as (type, (1,)) / '(1,)type'.\n",
      "  _np_quint8 = np.dtype([(\"quint8\", np.uint8, 1)])\n",
      "/home/sheila/anaconda3/envs/environment_py3_7/lib/python3.7/site-packages/tensorflow/python/framework/dtypes.py:518: FutureWarning: Passing (type, 1) or '1type' as a synonym of type is deprecated; in a future version of numpy, it will be understood as (type, (1,)) / '(1,)type'.\n",
      "  _np_qint16 = np.dtype([(\"qint16\", np.int16, 1)])\n",
      "/home/sheila/anaconda3/envs/environment_py3_7/lib/python3.7/site-packages/tensorflow/python/framework/dtypes.py:519: FutureWarning: Passing (type, 1) or '1type' as a synonym of type is deprecated; in a future version of numpy, it will be understood as (type, (1,)) / '(1,)type'.\n",
      "  _np_quint16 = np.dtype([(\"quint16\", np.uint16, 1)])\n",
      "/home/sheila/anaconda3/envs/environment_py3_7/lib/python3.7/site-packages/tensorflow/python/framework/dtypes.py:520: FutureWarning: Passing (type, 1) or '1type' as a synonym of type is deprecated; in a future version of numpy, it will be understood as (type, (1,)) / '(1,)type'.\n",
      "  _np_qint32 = np.dtype([(\"qint32\", np.int32, 1)])\n",
      "/home/sheila/anaconda3/envs/environment_py3_7/lib/python3.7/site-packages/tensorflow/python/framework/dtypes.py:525: FutureWarning: Passing (type, 1) or '1type' as a synonym of type is deprecated; in a future version of numpy, it will be understood as (type, (1,)) / '(1,)type'.\n",
      "  np_resource = np.dtype([(\"resource\", np.ubyte, 1)])\n",
      "/home/sheila/anaconda3/envs/environment_py3_7/lib/python3.7/site-packages/tensorboard/compat/tensorflow_stub/dtypes.py:541: FutureWarning: Passing (type, 1) or '1type' as a synonym of type is deprecated; in a future version of numpy, it will be understood as (type, (1,)) / '(1,)type'.\n",
      "  _np_qint8 = np.dtype([(\"qint8\", np.int8, 1)])\n",
      "/home/sheila/anaconda3/envs/environment_py3_7/lib/python3.7/site-packages/tensorboard/compat/tensorflow_stub/dtypes.py:542: FutureWarning: Passing (type, 1) or '1type' as a synonym of type is deprecated; in a future version of numpy, it will be understood as (type, (1,)) / '(1,)type'.\n",
      "  _np_quint8 = np.dtype([(\"quint8\", np.uint8, 1)])\n",
      "/home/sheila/anaconda3/envs/environment_py3_7/lib/python3.7/site-packages/tensorboard/compat/tensorflow_stub/dtypes.py:543: FutureWarning: Passing (type, 1) or '1type' as a synonym of type is deprecated; in a future version of numpy, it will be understood as (type, (1,)) / '(1,)type'.\n",
      "  _np_qint16 = np.dtype([(\"qint16\", np.int16, 1)])\n",
      "/home/sheila/anaconda3/envs/environment_py3_7/lib/python3.7/site-packages/tensorboard/compat/tensorflow_stub/dtypes.py:544: FutureWarning: Passing (type, 1) or '1type' as a synonym of type is deprecated; in a future version of numpy, it will be understood as (type, (1,)) / '(1,)type'.\n",
      "  _np_quint16 = np.dtype([(\"quint16\", np.uint16, 1)])\n",
      "/home/sheila/anaconda3/envs/environment_py3_7/lib/python3.7/site-packages/tensorboard/compat/tensorflow_stub/dtypes.py:545: FutureWarning: Passing (type, 1) or '1type' as a synonym of type is deprecated; in a future version of numpy, it will be understood as (type, (1,)) / '(1,)type'.\n",
      "  _np_qint32 = np.dtype([(\"qint32\", np.int32, 1)])\n",
      "/home/sheila/anaconda3/envs/environment_py3_7/lib/python3.7/site-packages/tensorboard/compat/tensorflow_stub/dtypes.py:550: FutureWarning: Passing (type, 1) or '1type' as a synonym of type is deprecated; in a future version of numpy, it will be understood as (type, (1,)) / '(1,)type'.\n",
      "  np_resource = np.dtype([(\"resource\", np.ubyte, 1)])\n"
     ]
    }
   ],
   "source": [
    "#%%\n",
    "from ns3gym import ns3env\n",
    "from comet_ml import Experiment, Optimizer\n",
    "import tqdm\n",
    "import subprocess\n",
    "from collections import deque\n",
    "import numpy as np\n",
    "\n",
    "from agents.dqn.agent import Agent, Config\n",
    "from agents.dqn.model import QNetworkTf\n",
    "from agents.teacher import Teacher, EnvWrapper\n",
    "from preprocessor import Preprocessor"
   ]
  },
  {
   "cell_type": "code",
   "execution_count": 2,
   "id": "7f44e960",
   "metadata": {},
   "outputs": [
    {
     "name": "stdout",
     "output_type": "stream",
     "text": [
      "Steps per episode: 6000\n",
      "Waiting for simulation script to connect on port: tcp://localhost:44958\n",
      "Please start proper ns-3 simulation script using ./waf --run \"...\"\n",
      "40.790771|0|5|-nan\n",
      "Observation space shape: (1, 300)\n",
      "Action space shape: (1, 1)\n"
     ]
    }
   ],
   "source": [
    "#%%\n",
    "scenario = \"convergence\"\n",
    "\n",
    "simTime = 60 # seconds\n",
    "stepTime = 0.01  # seconds\n",
    "history_length = 300\n",
    "\n",
    "EPISODE_COUNT = 15\n",
    "steps_per_ep = int(simTime/stepTime)\n",
    "\n",
    "sim_args = {\n",
    "    \"simTime\": simTime,\n",
    "    \"envStepTime\": stepTime,\n",
    "    \"historyLength\": history_length,\n",
    "    \"agentType\": Agent.TYPE,\n",
    "    \"scenario\": \"convergence\",\n",
    "    \"nWifi\": 50,\n",
    "}\n",
    "\n",
    "print(\"Steps per episode:\", steps_per_ep)\n",
    "\n",
    "threads_no = 1\n",
    "env = EnvWrapper(threads_no, **sim_args)\n",
    "\n",
    "#%%\n",
    "env.reset()\n",
    "ob_space = env.observation_space\n",
    "ac_space = env.action_space\n",
    "\n",
    "print(\"Observation space shape:\", ob_space)\n",
    "print(\"Action space shape:\", ac_space)\n",
    "\n",
    "assert ob_space is not None"
   ]
  },
  {
   "cell_type": "code",
   "execution_count": 3,
   "id": "5fb05cd9",
   "metadata": {},
   "outputs": [
    {
     "name": "stdout",
     "output_type": "stream",
     "text": [
      "WARNING:tensorflow:From /home/sheila/repos/ns-3-allinone/ns-3.29/scratch/RLinWiFi-master-original-queue-level-mean/agents/dqn/agent.py:53: The name tf.Session is deprecated. Please use tf.compat.v1.Session instead.\n",
      "\n",
      "WARNING:tensorflow:From /home/sheila/repos/ns-3-allinone/ns-3.29/scratch/RLinWiFi-master-original-queue-level-mean/agents/dqn/model.py:25: The name tf.variable_scope is deprecated. Please use tf.compat.v1.variable_scope instead.\n",
      "\n",
      "WARNING:tensorflow:From /home/sheila/repos/ns-3-allinone/ns-3.29/scratch/RLinWiFi-master-original-queue-level-mean/agents/dqn/model.py:26: The name tf.placeholder is deprecated. Please use tf.compat.v1.placeholder instead.\n",
      "\n",
      "WARNING:tensorflow:\n",
      "The TensorFlow contrib module will not be included in TensorFlow 2.0.\n",
      "For more information, please see:\n",
      "  * https://github.com/tensorflow/community/blob/master/rfcs/20180907-contrib-sunset.md\n",
      "  * https://github.com/tensorflow/addons\n",
      "  * https://github.com/tensorflow/io (for I/O related ops)\n",
      "If you depend on functionality not listed there, please file an issue.\n",
      "\n",
      "WARNING:tensorflow:From /home/sheila/repos/ns-3-allinone/ns-3.29/scratch/RLinWiFi-master-original-queue-level-mean/agents/dqn/model.py:52: LSTMCell.__init__ (from tensorflow.python.ops.rnn_cell_impl) is deprecated and will be removed in a future version.\n",
      "Instructions for updating:\n",
      "This class is equivalent as tf.keras.layers.LSTMCell, and will be replaced by that in Tensorflow 2.0.\n",
      "WARNING:tensorflow:From /home/sheila/repos/ns-3-allinone/ns-3.29/scratch/RLinWiFi-master-original-queue-level-mean/agents/dqn/model.py:52: static_rnn (from tensorflow.python.ops.rnn) is deprecated and will be removed in a future version.\n",
      "Instructions for updating:\n",
      "Please use `keras.layers.RNN(cell, unroll=True)`, which is equivalent to this API\n",
      "WARNING:tensorflow:From /home/sheila/anaconda3/envs/environment_py3_7/lib/python3.7/site-packages/tensorflow/python/ops/init_ops.py:1251: calling VarianceScaling.__init__ (from tensorflow.python.ops.init_ops) with dtype is deprecated and will be removed in a future version.\n",
      "Instructions for updating:\n",
      "Call initializer instance with the dtype argument instead of passing it to the constructor\n",
      "WARNING:tensorflow:From /home/sheila/anaconda3/envs/environment_py3_7/lib/python3.7/site-packages/tensorflow/python/ops/rnn_cell_impl.py:961: calling Zeros.__init__ (from tensorflow.python.ops.init_ops) with dtype is deprecated and will be removed in a future version.\n",
      "Instructions for updating:\n",
      "Call initializer instance with the dtype argument instead of passing it to the constructor\n",
      "WARNING:tensorflow:Entity <bound method LSTMCell.call of <tensorflow.python.ops.rnn_cell_impl.LSTMCell object at 0x7fbbd53b1d50>> could not be transformed and will be executed as-is. Please report this to the AutgoGraph team. When filing the bug, set the verbosity to 10 (on Linux, `export AUTOGRAPH_VERBOSITY=10`) and attach the full output. Cause: converting <bound method LSTMCell.call of <tensorflow.python.ops.rnn_cell_impl.LSTMCell object at 0x7fbbd53b1d50>>: AttributeError: module 'gast' has no attribute 'Index'\n",
      "WARNING: Entity <bound method LSTMCell.call of <tensorflow.python.ops.rnn_cell_impl.LSTMCell object at 0x7fbbd53b1d50>> could not be transformed and will be executed as-is. Please report this to the AutgoGraph team. When filing the bug, set the verbosity to 10 (on Linux, `export AUTOGRAPH_VERBOSITY=10`) and attach the full output. Cause: converting <bound method LSTMCell.call of <tensorflow.python.ops.rnn_cell_impl.LSTMCell object at 0x7fbbd53b1d50>>: AttributeError: module 'gast' has no attribute 'Index'\n",
      "WARNING:tensorflow:Entity <bound method LSTMCell.call of <tensorflow.python.ops.rnn_cell_impl.LSTMCell object at 0x7fbbd53b1d50>> could not be transformed and will be executed as-is. Please report this to the AutgoGraph team. When filing the bug, set the verbosity to 10 (on Linux, `export AUTOGRAPH_VERBOSITY=10`) and attach the full output. Cause: converting <bound method LSTMCell.call of <tensorflow.python.ops.rnn_cell_impl.LSTMCell object at 0x7fbbd53b1d50>>: AttributeError: module 'gast' has no attribute 'Index'\n",
      "WARNING: Entity <bound method LSTMCell.call of <tensorflow.python.ops.rnn_cell_impl.LSTMCell object at 0x7fbbd53b1d50>> could not be transformed and will be executed as-is. Please report this to the AutgoGraph team. When filing the bug, set the verbosity to 10 (on Linux, `export AUTOGRAPH_VERBOSITY=10`) and attach the full output. Cause: converting <bound method LSTMCell.call of <tensorflow.python.ops.rnn_cell_impl.LSTMCell object at 0x7fbbd53b1d50>>: AttributeError: module 'gast' has no attribute 'Index'\n",
      "WARNING:tensorflow:Entity <bound method LSTMCell.call of <tensorflow.python.ops.rnn_cell_impl.LSTMCell object at 0x7fbbd53b1d50>> could not be transformed and will be executed as-is. Please report this to the AutgoGraph team. When filing the bug, set the verbosity to 10 (on Linux, `export AUTOGRAPH_VERBOSITY=10`) and attach the full output. Cause: converting <bound method LSTMCell.call of <tensorflow.python.ops.rnn_cell_impl.LSTMCell object at 0x7fbbd53b1d50>>: AttributeError: module 'gast' has no attribute 'Index'\n",
      "WARNING: Entity <bound method LSTMCell.call of <tensorflow.python.ops.rnn_cell_impl.LSTMCell object at 0x7fbbd53b1d50>> could not be transformed and will be executed as-is. Please report this to the AutgoGraph team. When filing the bug, set the verbosity to 10 (on Linux, `export AUTOGRAPH_VERBOSITY=10`) and attach the full output. Cause: converting <bound method LSTMCell.call of <tensorflow.python.ops.rnn_cell_impl.LSTMCell object at 0x7fbbd53b1d50>>: AttributeError: module 'gast' has no attribute 'Index'\n",
      "WARNING:tensorflow:Entity <bound method LSTMCell.call of <tensorflow.python.ops.rnn_cell_impl.LSTMCell object at 0x7fbbd53b1d50>> could not be transformed and will be executed as-is. Please report this to the AutgoGraph team. When filing the bug, set the verbosity to 10 (on Linux, `export AUTOGRAPH_VERBOSITY=10`) and attach the full output. Cause: converting <bound method LSTMCell.call of <tensorflow.python.ops.rnn_cell_impl.LSTMCell object at 0x7fbbd53b1d50>>: AttributeError: module 'gast' has no attribute 'Index'\n",
      "WARNING: Entity <bound method LSTMCell.call of <tensorflow.python.ops.rnn_cell_impl.LSTMCell object at 0x7fbbd53b1d50>> could not be transformed and will be executed as-is. Please report this to the AutgoGraph team. When filing the bug, set the verbosity to 10 (on Linux, `export AUTOGRAPH_VERBOSITY=10`) and attach the full output. Cause: converting <bound method LSTMCell.call of <tensorflow.python.ops.rnn_cell_impl.LSTMCell object at 0x7fbbd53b1d50>>: AttributeError: module 'gast' has no attribute 'Index'\n",
      "WARNING:tensorflow:From /home/sheila/repos/ns-3-allinone/ns-3.29/scratch/RLinWiFi-master-original-queue-level-mean/agents/dqn/model.py:53: dense (from tensorflow.python.layers.core) is deprecated and will be removed in a future version.\n",
      "Instructions for updating:\n",
      "Use keras.layers.dense instead.\n",
      "WARNING:tensorflow:Entity <bound method Dense.call of <tensorflow.python.layers.core.Dense object at 0x7fbbd53b1d50>> could not be transformed and will be executed as-is. Please report this to the AutgoGraph team. When filing the bug, set the verbosity to 10 (on Linux, `export AUTOGRAPH_VERBOSITY=10`) and attach the full output. Cause: converting <bound method Dense.call of <tensorflow.python.layers.core.Dense object at 0x7fbbd53b1d50>>: AttributeError: module 'gast' has no attribute 'Index'\n",
      "WARNING: Entity <bound method Dense.call of <tensorflow.python.layers.core.Dense object at 0x7fbbd53b1d50>> could not be transformed and will be executed as-is. Please report this to the AutgoGraph team. When filing the bug, set the verbosity to 10 (on Linux, `export AUTOGRAPH_VERBOSITY=10`) and attach the full output. Cause: converting <bound method Dense.call of <tensorflow.python.layers.core.Dense object at 0x7fbbd53b1d50>>: AttributeError: module 'gast' has no attribute 'Index'\n",
      "WARNING:tensorflow:Entity <bound method Dense.call of <tensorflow.python.layers.core.Dense object at 0x7fbbd53b1d50>> could not be transformed and will be executed as-is. Please report this to the AutgoGraph team. When filing the bug, set the verbosity to 10 (on Linux, `export AUTOGRAPH_VERBOSITY=10`) and attach the full output. Cause: converting <bound method Dense.call of <tensorflow.python.layers.core.Dense object at 0x7fbbd53b1d50>>: AttributeError: module 'gast' has no attribute 'Index'\n"
     ]
    },
    {
     "name": "stdout",
     "output_type": "stream",
     "text": [
      "WARNING: Entity <bound method Dense.call of <tensorflow.python.layers.core.Dense object at 0x7fbbd53b1d50>> could not be transformed and will be executed as-is. Please report this to the AutgoGraph team. When filing the bug, set the verbosity to 10 (on Linux, `export AUTOGRAPH_VERBOSITY=10`) and attach the full output. Cause: converting <bound method Dense.call of <tensorflow.python.layers.core.Dense object at 0x7fbbd53b1d50>>: AttributeError: module 'gast' has no attribute 'Index'\n",
      "WARNING:tensorflow:Entity <bound method Dense.call of <tensorflow.python.layers.core.Dense object at 0x7fbbd53b1d50>> could not be transformed and will be executed as-is. Please report this to the AutgoGraph team. When filing the bug, set the verbosity to 10 (on Linux, `export AUTOGRAPH_VERBOSITY=10`) and attach the full output. Cause: converting <bound method Dense.call of <tensorflow.python.layers.core.Dense object at 0x7fbbd53b1d50>>: AttributeError: module 'gast' has no attribute 'Index'\n",
      "WARNING: Entity <bound method Dense.call of <tensorflow.python.layers.core.Dense object at 0x7fbbd53b1d50>> could not be transformed and will be executed as-is. Please report this to the AutgoGraph team. When filing the bug, set the verbosity to 10 (on Linux, `export AUTOGRAPH_VERBOSITY=10`) and attach the full output. Cause: converting <bound method Dense.call of <tensorflow.python.layers.core.Dense object at 0x7fbbd53b1d50>>: AttributeError: module 'gast' has no attribute 'Index'\n",
      "WARNING:tensorflow:From /home/sheila/repos/ns-3-allinone/ns-3.29/scratch/RLinWiFi-master-original-queue-level-mean/agents/dqn/model.py:69: The name tf.losses.mean_squared_error is deprecated. Please use tf.compat.v1.losses.mean_squared_error instead.\n",
      "\n",
      "WARNING:tensorflow:From /home/sheila/anaconda3/envs/environment_py3_7/lib/python3.7/site-packages/tensorflow/python/ops/losses/losses_impl.py:121: add_dispatch_support.<locals>.wrapper (from tensorflow.python.ops.array_ops) is deprecated and will be removed in a future version.\n",
      "Instructions for updating:\n",
      "Use tf.where in 2.0, which has the same broadcast rule as np.where\n",
      "WARNING:tensorflow:From /home/sheila/repos/ns-3-allinone/ns-3.29/scratch/RLinWiFi-master-original-queue-level-mean/agents/dqn/model.py:77: The name tf.train.AdamOptimizer is deprecated. Please use tf.compat.v1.train.AdamOptimizer instead.\n",
      "\n",
      "WARNING:tensorflow:From /home/sheila/repos/ns-3-allinone/ns-3.29/scratch/RLinWiFi-master-original-queue-level-mean/agents/dqn/model.py:33: The name tf.global_variables_initializer is deprecated. Please use tf.compat.v1.global_variables_initializer instead.\n",
      "\n",
      "WARNING:tensorflow:From /home/sheila/repos/ns-3-allinone/ns-3.29/scratch/RLinWiFi-master-original-queue-level-mean/agents/dqn/model.py:34: The name tf.local_variables_initializer is deprecated. Please use tf.compat.v1.local_variables_initializer instead.\n",
      "\n",
      "WARNING:tensorflow:Entity <bound method LSTMCell.call of <tensorflow.python.ops.rnn_cell_impl.LSTMCell object at 0x7fbbbe1eb550>> could not be transformed and will be executed as-is. Please report this to the AutgoGraph team. When filing the bug, set the verbosity to 10 (on Linux, `export AUTOGRAPH_VERBOSITY=10`) and attach the full output. Cause: converting <bound method LSTMCell.call of <tensorflow.python.ops.rnn_cell_impl.LSTMCell object at 0x7fbbbe1eb550>>: AttributeError: module 'gast' has no attribute 'Index'\n",
      "WARNING: Entity <bound method LSTMCell.call of <tensorflow.python.ops.rnn_cell_impl.LSTMCell object at 0x7fbbbe1eb550>> could not be transformed and will be executed as-is. Please report this to the AutgoGraph team. When filing the bug, set the verbosity to 10 (on Linux, `export AUTOGRAPH_VERBOSITY=10`) and attach the full output. Cause: converting <bound method LSTMCell.call of <tensorflow.python.ops.rnn_cell_impl.LSTMCell object at 0x7fbbbe1eb550>>: AttributeError: module 'gast' has no attribute 'Index'\n",
      "WARNING:tensorflow:Entity <bound method LSTMCell.call of <tensorflow.python.ops.rnn_cell_impl.LSTMCell object at 0x7fbbbe1eb550>> could not be transformed and will be executed as-is. Please report this to the AutgoGraph team. When filing the bug, set the verbosity to 10 (on Linux, `export AUTOGRAPH_VERBOSITY=10`) and attach the full output. Cause: converting <bound method LSTMCell.call of <tensorflow.python.ops.rnn_cell_impl.LSTMCell object at 0x7fbbbe1eb550>>: AttributeError: module 'gast' has no attribute 'Index'\n",
      "WARNING: Entity <bound method LSTMCell.call of <tensorflow.python.ops.rnn_cell_impl.LSTMCell object at 0x7fbbbe1eb550>> could not be transformed and will be executed as-is. Please report this to the AutgoGraph team. When filing the bug, set the verbosity to 10 (on Linux, `export AUTOGRAPH_VERBOSITY=10`) and attach the full output. Cause: converting <bound method LSTMCell.call of <tensorflow.python.ops.rnn_cell_impl.LSTMCell object at 0x7fbbbe1eb550>>: AttributeError: module 'gast' has no attribute 'Index'\n",
      "WARNING:tensorflow:Entity <bound method LSTMCell.call of <tensorflow.python.ops.rnn_cell_impl.LSTMCell object at 0x7fbbbe1eb550>> could not be transformed and will be executed as-is. Please report this to the AutgoGraph team. When filing the bug, set the verbosity to 10 (on Linux, `export AUTOGRAPH_VERBOSITY=10`) and attach the full output. Cause: converting <bound method LSTMCell.call of <tensorflow.python.ops.rnn_cell_impl.LSTMCell object at 0x7fbbbe1eb550>>: AttributeError: module 'gast' has no attribute 'Index'\n",
      "WARNING: Entity <bound method LSTMCell.call of <tensorflow.python.ops.rnn_cell_impl.LSTMCell object at 0x7fbbbe1eb550>> could not be transformed and will be executed as-is. Please report this to the AutgoGraph team. When filing the bug, set the verbosity to 10 (on Linux, `export AUTOGRAPH_VERBOSITY=10`) and attach the full output. Cause: converting <bound method LSTMCell.call of <tensorflow.python.ops.rnn_cell_impl.LSTMCell object at 0x7fbbbe1eb550>>: AttributeError: module 'gast' has no attribute 'Index'\n",
      "WARNING:tensorflow:Entity <bound method LSTMCell.call of <tensorflow.python.ops.rnn_cell_impl.LSTMCell object at 0x7fbbbe1eb550>> could not be transformed and will be executed as-is. Please report this to the AutgoGraph team. When filing the bug, set the verbosity to 10 (on Linux, `export AUTOGRAPH_VERBOSITY=10`) and attach the full output. Cause: converting <bound method LSTMCell.call of <tensorflow.python.ops.rnn_cell_impl.LSTMCell object at 0x7fbbbe1eb550>>: AttributeError: module 'gast' has no attribute 'Index'\n",
      "WARNING: Entity <bound method LSTMCell.call of <tensorflow.python.ops.rnn_cell_impl.LSTMCell object at 0x7fbbbe1eb550>> could not be transformed and will be executed as-is. Please report this to the AutgoGraph team. When filing the bug, set the verbosity to 10 (on Linux, `export AUTOGRAPH_VERBOSITY=10`) and attach the full output. Cause: converting <bound method LSTMCell.call of <tensorflow.python.ops.rnn_cell_impl.LSTMCell object at 0x7fbbbe1eb550>>: AttributeError: module 'gast' has no attribute 'Index'\n",
      "WARNING:tensorflow:Entity <bound method Dense.call of <tensorflow.python.layers.core.Dense object at 0x7fbbbe1eb550>> could not be transformed and will be executed as-is. Please report this to the AutgoGraph team. When filing the bug, set the verbosity to 10 (on Linux, `export AUTOGRAPH_VERBOSITY=10`) and attach the full output. Cause: converting <bound method Dense.call of <tensorflow.python.layers.core.Dense object at 0x7fbbbe1eb550>>: AttributeError: module 'gast' has no attribute 'Index'\n",
      "WARNING: Entity <bound method Dense.call of <tensorflow.python.layers.core.Dense object at 0x7fbbbe1eb550>> could not be transformed and will be executed as-is. Please report this to the AutgoGraph team. When filing the bug, set the verbosity to 10 (on Linux, `export AUTOGRAPH_VERBOSITY=10`) and attach the full output. Cause: converting <bound method Dense.call of <tensorflow.python.layers.core.Dense object at 0x7fbbbe1eb550>>: AttributeError: module 'gast' has no attribute 'Index'\n",
      "WARNING:tensorflow:Entity <bound method Dense.call of <tensorflow.python.layers.core.Dense object at 0x7fbbbe1eb550>> could not be transformed and will be executed as-is. Please report this to the AutgoGraph team. When filing the bug, set the verbosity to 10 (on Linux, `export AUTOGRAPH_VERBOSITY=10`) and attach the full output. Cause: converting <bound method Dense.call of <tensorflow.python.layers.core.Dense object at 0x7fbbbe1eb550>>: AttributeError: module 'gast' has no attribute 'Index'\n"
     ]
    },
    {
     "name": "stdout",
     "output_type": "stream",
     "text": [
      "WARNING: Entity <bound method Dense.call of <tensorflow.python.layers.core.Dense object at 0x7fbbbe1eb550>> could not be transformed and will be executed as-is. Please report this to the AutgoGraph team. When filing the bug, set the verbosity to 10 (on Linux, `export AUTOGRAPH_VERBOSITY=10`) and attach the full output. Cause: converting <bound method Dense.call of <tensorflow.python.layers.core.Dense object at 0x7fbbbe1eb550>>: AttributeError: module 'gast' has no attribute 'Index'\n",
      "WARNING:tensorflow:Entity <bound method Dense.call of <tensorflow.python.layers.core.Dense object at 0x7fbbbe1eb550>> could not be transformed and will be executed as-is. Please report this to the AutgoGraph team. When filing the bug, set the verbosity to 10 (on Linux, `export AUTOGRAPH_VERBOSITY=10`) and attach the full output. Cause: converting <bound method Dense.call of <tensorflow.python.layers.core.Dense object at 0x7fbbbe1eb550>>: AttributeError: module 'gast' has no attribute 'Index'\n",
      "WARNING: Entity <bound method Dense.call of <tensorflow.python.layers.core.Dense object at 0x7fbbbe1eb550>> could not be transformed and will be executed as-is. Please report this to the AutgoGraph team. When filing the bug, set the verbosity to 10 (on Linux, `export AUTOGRAPH_VERBOSITY=10`) and attach the full output. Cause: converting <bound method Dense.call of <tensorflow.python.layers.core.Dense object at 0x7fbbbe1eb550>>: AttributeError: module 'gast' has no attribute 'Index'\n",
      "WARNING:tensorflow:From /home/sheila/repos/ns-3-allinone/ns-3.29/scratch/RLinWiFi-master-original-queue-level-mean/agents/dqn/agent.py:77: The name tf.train.Saver is deprecated. Please use tf.compat.v1.train.Saver instead.\n",
      "\n",
      "Action space: 7\n",
      "WARNING:tensorflow:From /home/sheila/repos/ns-3-allinone/ns-3.29/scratch/RLinWiFi-master-original-queue-level-mean/agents/dqn/agent.py:107: Variable.load (from tensorflow.python.ops.variables) is deprecated and will be removed in a future version.\n",
      "Instructions for updating:\n",
      "Prefer Variable.assign which has equivalent behavior in 2.X.\n"
     ]
    },
    {
     "name": "stderr",
     "output_type": "stream",
     "text": [
      "COMET INFO: Experiment is live on comet.ml https://www.comet.com/sheila-janota/rl-in-wifi-with-queue-level/96c6d414b85c4c0e828330cadc27b5b5\n",
      "\n"
     ]
    },
    {
     "name": "stdout",
     "output_type": "stream",
     "text": [
      "0\n",
      "40.790771|0|5|-nan\n"
     ]
    },
    {
     "name": "stderr",
     "output_type": "stream",
     "text": [
      "  5%|▌         | 333/6300 [01:52<39:00,  2.55it/s, curr_speed=27.89 Mbps, mb_sent=8.92 Mb]"
     ]
    },
    {
     "name": "stdout",
     "output_type": "stream",
     "text": [
      "------- STARTED TRAINING -------\n"
     ]
    },
    {
     "name": "stderr",
     "output_type": "stream",
     "text": [
      "100%|██████████| 6300/6300 [2:08:11<00:00,  1.22s/it, curr_speed=30.20 Mbps, mb_sent=1915.25 Mb]  \n"
     ]
    },
    {
     "name": "stdout",
     "output_type": "stream",
     "text": [
      "Waiting for simulation script to connect on port: tcp://localhost:47742\n",
      "Please start proper ns-3 simulation script using ./waf --run \"...\"\n",
      "Sent 1915.25 Mb/s.\tMean speed: 31.92 Mb/s\tEpisode 1/15 finished\n",
      "\n",
      "1\n",
      "40.790771|0|5|-nan\n"
     ]
    },
    {
     "name": "stderr",
     "output_type": "stream",
     "text": [
      "100%|██████████| 6300/6300 [2:24:01<00:00,  1.37s/it, curr_speed=34.45 Mbps, mb_sent=2047.35 Mb]  \n"
     ]
    },
    {
     "name": "stdout",
     "output_type": "stream",
     "text": [
      "Waiting for simulation script to connect on port: tcp://localhost:23420\n",
      "Please start proper ns-3 simulation script using ./waf --run \"...\"\n",
      "Sent 2047.35 Mb/s.\tMean speed: 34.12 Mb/s\tEpisode 2/15 finished\n",
      "\n",
      "2\n",
      "40.790771|0|5|-nan\n"
     ]
    },
    {
     "name": "stderr",
     "output_type": "stream",
     "text": [
      " 38%|███▊      | 2383/6300 [36:27<1:23:26,  1.28s/it, curr_speed=35.70 Mbps, mb_sent=737.89 Mb]COMET ERROR: File could not be uploaded\n",
      "100%|██████████| 6300/6300 [2:30:50<00:00,  1.44s/it, curr_speed=33.43 Mbps, mb_sent=2124.72 Mb]  \n"
     ]
    },
    {
     "name": "stdout",
     "output_type": "stream",
     "text": [
      "Waiting for simulation script to connect on port: tcp://localhost:20254\n",
      "Please start proper ns-3 simulation script using ./waf --run \"...\"\n",
      "Sent 2124.72 Mb/s.\tMean speed: 35.41 Mb/s\tEpisode 3/15 finished\n",
      "\n",
      "3\n",
      "40.790771|0|5|-nan\n"
     ]
    },
    {
     "name": "stderr",
     "output_type": "stream",
     "text": [
      "  5%|▍         | 304/6300 [02:54<1:05:31,  1.53it/s, curr_speed=37.98 Mbps, mb_sent=1.14 Mb]"
     ]
    },
    {
     "name": "stdout",
     "output_type": "stream",
     "text": [
      "------- MEMORY BUFFER FILLED -------\n"
     ]
    },
    {
     "name": "stderr",
     "output_type": "stream",
     "text": [
      " 51%|█████     | 3182/6300 [54:10<1:15:53,  1.46s/it, curr_speed=35.11 Mbps, mb_sent=1046.00 Mb]COMET ERROR: File could not be uploaded\n",
      " 97%|█████████▋| 6134/6300 [2:23:34<05:58,  2.16s/it, curr_speed=46.55 Mbps, mb_sent=2118.10 Mb]  COMET ERROR: File could not be uploaded\n",
      "100%|██████████| 6300/6300 [2:29:40<00:00,  1.43s/it, curr_speed=35.70 Mbps, mb_sent=2177.30 Mb]\n"
     ]
    },
    {
     "name": "stdout",
     "output_type": "stream",
     "text": [
      "Waiting for simulation script to connect on port: tcp://localhost:37630\n",
      "Please start proper ns-3 simulation script using ./waf --run \"...\"\n",
      "Sent 2177.30 Mb/s.\tMean speed: 36.29 Mb/s\tEpisode 4/15 finished\n",
      "\n",
      "4\n",
      "40.790771|0|5|-nan\n"
     ]
    },
    {
     "name": "stderr",
     "output_type": "stream",
     "text": [
      "100%|██████████| 6300/6300 [2:26:58<00:00,  1.40s/it, curr_speed=42.23 Mbps, mb_sent=2206.62 Mb]  \n"
     ]
    },
    {
     "name": "stdout",
     "output_type": "stream",
     "text": [
      "Waiting for simulation script to connect on port: tcp://localhost:44779\n",
      "Please start proper ns-3 simulation script using ./waf --run \"...\"\n",
      "Sent 2206.62 Mb/s.\tMean speed: 36.78 Mb/s\tEpisode 5/15 finished\n",
      "\n",
      "5\n",
      "40.790771|0|5|-nan\n"
     ]
    },
    {
     "name": "stderr",
     "output_type": "stream",
     "text": [
      " 19%|█▉        | 1195/6300 [09:44<50:27,  1.69it/s, curr_speed=37.63 Mbps, mb_sent=336.02 Mb]COMET ERROR: File could not be uploaded\n",
      " 79%|███████▉  | 4965/6300 [1:06:41<26:34,  1.19s/it, curr_speed=36.31 Mbps, mb_sent=1745.18 Mb]COMET ERROR: File could not be uploaded\n",
      " 90%|█████████ | 5671/6300 [1:21:42<13:46,  1.31s/it, curr_speed=36.12 Mbps, mb_sent=2001.35 Mb]COMET ERROR: File could not be uploaded\n",
      " 95%|█████████▍| 5960/6300 [1:30:33<13:30,  2.39s/it, curr_speed=35.84 Mbps, mb_sent=2105.62 Mb]COMET ERROR: File could not be uploaded\n",
      " 97%|█████████▋| 6136/6300 [1:37:36<06:10,  2.26s/it, curr_speed=36.36 Mbps, mb_sent=2169.30 Mb]COMET ERROR: File could not be uploaded\n",
      "100%|██████████| 6300/6300 [1:43:48<00:00,  1.01it/s, curr_speed=35.80 Mbps, mb_sent=2228.28 Mb]\n"
     ]
    },
    {
     "name": "stdout",
     "output_type": "stream",
     "text": [
      "Waiting for simulation script to connect on port: tcp://localhost:38438\n",
      "Please start proper ns-3 simulation script using ./waf --run \"...\"\n",
      "Sent 2228.28 Mb/s.\tMean speed: 37.14 Mb/s\tEpisode 6/15 finished\n",
      "\n",
      "6\n",
      "40.790771|0|5|-nan\n"
     ]
    },
    {
     "name": "stderr",
     "output_type": "stream",
     "text": [
      "100%|██████████| 6300/6300 [2:45:55<00:00,  1.58s/it, curr_speed=36.73 Mbps, mb_sent=2237.65 Mb]  \n"
     ]
    },
    {
     "name": "stdout",
     "output_type": "stream",
     "text": [
      "Waiting for simulation script to connect on port: tcp://localhost:28978\n",
      "Please start proper ns-3 simulation script using ./waf --run \"...\"\n",
      "Sent 2237.65 Mb/s.\tMean speed: 37.29 Mb/s\tEpisode 7/15 finished\n",
      "\n",
      "7\n",
      "40.790771|0|5|-nan\n"
     ]
    },
    {
     "name": "stderr",
     "output_type": "stream",
     "text": [
      " 23%|██▎       | 1424/6300 [20:25<1:22:19,  1.01s/it, curr_speed=37.40 Mbps, mb_sent=424.55 Mb]COMET ERROR: File could not be uploaded\n",
      " 62%|██████▏   | 3919/6300 [1:25:00<1:07:15,  1.69s/it, curr_speed=37.41 Mbps, mb_sent=1361.73 Mb]COMET ERROR: File could not be uploaded\n",
      "100%|██████████| 6300/6300 [2:47:39<00:00,  1.60s/it, curr_speed=37.50 Mbps, mb_sent=2253.58 Mb]  \n"
     ]
    },
    {
     "name": "stdout",
     "output_type": "stream",
     "text": [
      "Waiting for simulation script to connect on port: tcp://localhost:44557\n",
      "Please start proper ns-3 simulation script using ./waf --run \"...\"\n",
      "Sent 2253.58 Mb/s.\tMean speed: 37.56 Mb/s\tEpisode 8/15 finished\n",
      "\n",
      "8\n",
      "40.790771|0|5|-nan\n"
     ]
    },
    {
     "name": "stderr",
     "output_type": "stream",
     "text": [
      " 79%|███████▉  | 4976/6300 [1:09:29<28:00,  1.27s/it, curr_speed=37.82 Mbps, mb_sent=1759.00 Mb]COMET ERROR: File could not be uploaded\n",
      "100%|██████████| 6300/6300 [1:40:06<00:00,  1.05it/s, curr_speed=37.31 Mbps, mb_sent=2252.20 Mb]\n"
     ]
    },
    {
     "name": "stdout",
     "output_type": "stream",
     "text": [
      "Waiting for simulation script to connect on port: tcp://localhost:34699\n",
      "Please start proper ns-3 simulation script using ./waf --run \"...\"\n",
      "Sent 2252.20 Mb/s.\tMean speed: 37.54 Mb/s\tEpisode 9/15 finished\n",
      "\n",
      "9\n",
      "40.790771|0|5|-nan\n"
     ]
    },
    {
     "name": "stderr",
     "output_type": "stream",
     "text": [
      "  7%|▋         | 453/6300 [03:01<47:55,  2.03it/s, curr_speed=38.47 Mbps, mb_sent=58.44 Mb]COMET ERROR: File could not be uploaded\n",
      "100%|██████████| 6300/6300 [1:12:33<00:00,  1.45it/s, curr_speed=36.85 Mbps, mb_sent=2262.39 Mb]\n"
     ]
    },
    {
     "name": "stdout",
     "output_type": "stream",
     "text": [
      "Waiting for simulation script to connect on port: tcp://localhost:36807\n",
      "Please start proper ns-3 simulation script using ./waf --run \"...\"\n",
      "Sent 2262.39 Mb/s.\tMean speed: 37.71 Mb/s\tEpisode 10/15 finished\n",
      "\n",
      "10\n",
      "40.790771|0|5|-nan\n"
     ]
    },
    {
     "name": "stderr",
     "output_type": "stream",
     "text": [
      " 29%|██▉       | 1821/6300 [07:57<25:39,  2.91it/s, curr_speed=37.92 Mbps, mb_sent=575.96 Mb]COMET ERROR: File could not be uploaded\n",
      "100%|██████████| 6300/6300 [1:05:39<00:00,  1.60it/s, curr_speed=37.35 Mbps, mb_sent=2261.39 Mb]\n"
     ]
    },
    {
     "name": "stdout",
     "output_type": "stream",
     "text": [
      "Waiting for simulation script to connect on port: tcp://localhost:27229\n",
      "Please start proper ns-3 simulation script using ./waf --run \"...\"\n",
      "Sent 2261.39 Mb/s.\tMean speed: 37.69 Mb/s\tEpisode 11/15 finished\n",
      "\n",
      "11\n",
      "40.790771|0|5|-nan\n"
     ]
    },
    {
     "name": "stderr",
     "output_type": "stream",
     "text": [
      " 28%|██▊       | 1747/6300 [19:20<1:14:12,  1.02it/s, curr_speed=37.88 Mbps, mb_sent=550.16 Mb]COMET ERROR: File could not be uploaded\n",
      "100%|██████████| 6300/6300 [1:59:17<00:00,  1.14s/it, curr_speed=37.27 Mbps, mb_sent=2262.08 Mb]  \n"
     ]
    },
    {
     "name": "stdout",
     "output_type": "stream",
     "text": [
      "Waiting for simulation script to connect on port: tcp://localhost:53043\n",
      "Please start proper ns-3 simulation script using ./waf --run \"...\"\n",
      "WARNING:tensorflow:From /home/sheila/anaconda3/envs/environment_py3_7/lib/python3.7/site-packages/tensorflow/python/training/saver.py:960: remove_checkpoint (from tensorflow.python.training.checkpoint_management) is deprecated and will be removed in a future version.\n",
      "Instructions for updating:\n",
      "Use standard file APIs to delete files with this prefix.\n",
      "Sent 2262.08 Mb/s.\tMean speed: 37.70 Mb/s\tEpisode 12/15 finished\n",
      "\n",
      "12\n",
      "Turning off noise\n",
      "40.790771|0|5|-nan\n"
     ]
    },
    {
     "name": "stderr",
     "output_type": "stream",
     "text": [
      " 16%|█▌        | 982/6300 [09:35<1:25:59,  1.03it/s, curr_speed=38.01 Mbps, mb_sent=259.06 Mb]COMET ERROR: File could not be uploaded\n",
      "COMET ERROR: File could not be uploaded\n",
      "COMET ERROR: File could not be uploaded\n",
      "COMET ERROR: File could not be uploaded\n",
      " 16%|█▌        | 983/6300 [09:36<1:20:53,  1.10it/s, curr_speed=37.99 Mbps, mb_sent=259.45 Mb]COMET ERROR: File could not be uploaded\n",
      " 16%|█▌        | 984/6300 [09:36<1:16:46,  1.15it/s, curr_speed=38.00 Mbps, mb_sent=259.80 Mb]COMET ERROR: File could not be uploaded\n",
      " 31%|███▏      | 1979/6300 [22:38<56:22,  1.28it/s, curr_speed=38.15 Mbps, mb_sent=636.75 Mb]  COMET ERROR: File could not be uploaded\n",
      " 31%|███▏      | 1980/6300 [22:39<55:08,  1.31it/s, curr_speed=38.17 Mbps, mb_sent=637.14 Mb]COMET ERROR: File could not be uploaded\n",
      " 32%|███▏      | 1986/6300 [22:43<53:52,  1.33it/s, curr_speed=38.09 Mbps, mb_sent=639.39 Mb]COMET ERROR: File could not be uploaded\n",
      " 32%|███▏      | 1987/6300 [22:44<53:16,  1.35it/s, curr_speed=38.09 Mbps, mb_sent=639.77 Mb]COMET ERROR: File could not be uploaded\n",
      " 32%|███▏      | 1988/6300 [22:45<53:45,  1.34it/s, curr_speed=38.11 Mbps, mb_sent=640.18 Mb]COMET ERROR: File could not be uploaded\n",
      " 77%|███████▋  | 4857/6300 [1:12:45<28:52,  1.20s/it, curr_speed=37.66 Mbps, mb_sent=1723.51 Mb]  COMET ERROR: File could not be uploaded\n",
      " 77%|███████▋  | 4860/6300 [1:12:48<29:19,  1.22s/it, curr_speed=37.51 Mbps, mb_sent=1724.54 Mb]COMET ERROR: File could not be uploaded\n",
      "100%|██████████| 6300/6300 [1:45:35<00:00,  1.01s/it, curr_speed=37.42 Mbps, mb_sent=2262.71 Mb]\n"
     ]
    },
    {
     "name": "stdout",
     "output_type": "stream",
     "text": [
      "Waiting for simulation script to connect on port: tcp://localhost:21742\n",
      "Please start proper ns-3 simulation script using ./waf --run \"...\"\n",
      "Sent 2262.71 Mb/s.\tMean speed: 37.71 Mb/s\tEpisode 13/15 finished\n",
      "\n",
      "13\n",
      "Turning off noise\n",
      "40.790771|0|5|-nan\n"
     ]
    },
    {
     "name": "stderr",
     "output_type": "stream",
     "text": [
      " 61%|██████    | 3825/6300 [46:41<47:10,  1.14s/it, curr_speed=37.60 Mbps, mb_sent=1334.21 Mb] COMET ERROR: File could not be uploaded\n",
      "COMET ERROR: File could not be uploaded\n",
      " 61%|██████    | 3826/6300 [46:43<52:47,  1.28s/it, curr_speed=37.57 Mbps, mb_sent=1334.57 Mb]COMET ERROR: File could not be uploaded\n",
      " 61%|██████    | 3827/6300 [46:44<52:59,  1.29s/it, curr_speed=37.56 Mbps, mb_sent=1334.93 Mb]COMET ERROR: File could not be uploaded\n",
      "100%|██████████| 6300/6300 [1:39:04<00:00,  1.06it/s, curr_speed=37.40 Mbps, mb_sent=2260.67 Mb]\n"
     ]
    },
    {
     "name": "stdout",
     "output_type": "stream",
     "text": [
      "Waiting for simulation script to connect on port: tcp://localhost:18750\n",
      "Please start proper ns-3 simulation script using ./waf --run \"...\"\n",
      "Sent 2260.67 Mb/s.\tMean speed: 37.68 Mb/s\tEpisode 14/15 finished\n",
      "\n",
      "14\n",
      "Turning off noise\n",
      "40.790771|0|5|-nan\n"
     ]
    },
    {
     "name": "stderr",
     "output_type": "stream",
     "text": [
      " 80%|███████▉  | 5035/6300 [49:50<12:26,  1.69it/s, curr_speed=37.74 Mbps, mb_sent=1792.24 Mb] COMET ERROR: File could not be uploaded\n",
      " 80%|███████▉  | 5039/6300 [49:53<13:18,  1.58it/s, curr_speed=37.75 Mbps, mb_sent=1793.71 Mb]COMET ERROR: File could not be uploaded\n",
      " 80%|████████  | 5040/6300 [49:53<13:09,  1.60it/s, curr_speed=37.74 Mbps, mb_sent=1794.07 Mb]COMET ERROR: File could not be uploaded\n",
      " 80%|████████  | 5043/6300 [49:55<13:25,  1.56it/s, curr_speed=37.72 Mbps, mb_sent=1795.20 Mb]COMET ERROR: File could not be uploaded\n",
      " 80%|████████  | 5044/6300 [49:56<13:14,  1.58it/s, curr_speed=37.61 Mbps, mb_sent=1795.87 Mb]COMET ERROR: File could not be uploaded\n",
      " 80%|████████  | 5045/6300 [49:56<12:57,  1.61it/s, curr_speed=37.61 Mbps, mb_sent=1795.87 Mb]COMET ERROR: File could not be uploaded\n",
      " 80%|████████  | 5049/6300 [49:59<13:09,  1.58it/s, curr_speed=37.41 Mbps, mb_sent=1797.24 Mb]COMET ERROR: File could not be uploaded\n",
      " 80%|████████  | 5053/6300 [50:02<13:20,  1.56it/s, curr_speed=37.27 Mbps, mb_sent=1799.11 Mb]COMET ERROR: File could not be uploaded\n",
      " 80%|████████  | 5059/6300 [50:05<12:58,  1.59it/s, curr_speed=37.19 Mbps, mb_sent=1800.95 Mb]COMET ERROR: File could not be uploaded\n",
      " 80%|████████  | 5060/6300 [50:06<12:58,  1.59it/s, curr_speed=37.21 Mbps, mb_sent=1801.34 Mb]COMET ERROR: File could not be uploaded\n",
      " 81%|████████  | 5074/6300 [50:14<11:59,  1.70it/s, curr_speed=37.14 Mbps, mb_sent=1806.66 Mb]COMET ERROR: File could not be uploaded\n",
      " 81%|████████  | 5079/6300 [50:17<12:45,  1.60it/s, curr_speed=37.13 Mbps, mb_sent=1808.60 Mb]COMET ERROR: File could not be uploaded\n",
      " 81%|████████  | 5080/6300 [50:18<12:49,  1.59it/s, curr_speed=37.15 Mbps, mb_sent=1808.98 Mb]COMET ERROR: File could not be uploaded\n",
      " 81%|████████  | 5082/6300 [50:19<12:45,  1.59it/s, curr_speed=37.18 Mbps, mb_sent=1809.78 Mb]COMET ERROR: File could not be uploaded\n",
      " 81%|████████  | 5086/6300 [50:22<13:09,  1.54it/s, curr_speed=37.16 Mbps, mb_sent=1811.30 Mb]COMET ERROR: File could not be uploaded\n",
      " 81%|████████  | 5103/6300 [50:33<11:53,  1.68it/s, curr_speed=37.28 Mbps, mb_sent=1817.71 Mb]COMET ERROR: File could not be uploaded\n",
      " 81%|████████  | 5106/6300 [50:34<12:42,  1.57it/s, curr_speed=37.28 Mbps, mb_sent=1818.81 Mb]COMET ERROR: File could not be uploaded\n",
      " 81%|████████  | 5109/6300 [50:36<13:12,  1.50it/s, curr_speed=37.25 Mbps, mb_sent=1819.94 Mb]COMET ERROR: File could not be uploaded\n",
      " 81%|████████  | 5113/6300 [50:39<12:59,  1.52it/s, curr_speed=37.26 Mbps, mb_sent=1821.40 Mb]COMET ERROR: File could not be uploaded\n",
      " 81%|████████▏ | 5119/6300 [50:43<12:10,  1.62it/s, curr_speed=37.17 Mbps, mb_sent=1823.96 Mb]COMET ERROR: File could not be uploaded\n",
      " 81%|████████▏ | 5122/6300 [50:45<12:49,  1.53it/s, curr_speed=37.19 Mbps, mb_sent=1824.72 Mb]COMET ERROR: File could not be uploaded\n",
      " 81%|████████▏ | 5124/6300 [50:46<13:13,  1.48it/s, curr_speed=37.09 Mbps, mb_sent=1825.39 Mb]COMET ERROR: File could not be uploaded\n",
      " 81%|████████▏ | 5126/6300 [50:48<13:20,  1.47it/s, curr_speed=37.08 Mbps, mb_sent=1826.12 Mb]COMET ERROR: File could not be uploaded\n",
      "COMET ERROR: File could not be uploaded\n",
      " 81%|████████▏ | 5131/6300 [50:51<12:31,  1.55it/s, curr_speed=37.17 Mbps, mb_sent=1827.97 Mb]COMET ERROR: File could not be uploaded\n",
      " 82%|████████▏ | 5136/6300 [50:54<12:14,  1.59it/s, curr_speed=37.24 Mbps, mb_sent=1829.85 Mb]COMET ERROR: File could not be uploaded\n",
      " 82%|████████▏ | 5149/6300 [51:02<11:22,  1.69it/s, curr_speed=37.52 Mbps, mb_sent=1834.76 Mb]COMET ERROR: File could not be uploaded\n",
      " 82%|████████▏ | 5184/6300 [51:23<11:13,  1.66it/s, curr_speed=37.23 Mbps, mb_sent=1847.76 Mb]COMET ERROR: File could not be uploaded\n",
      " 83%|████████▎ | 5221/6300 [51:46<10:53,  1.65it/s, curr_speed=37.29 Mbps, mb_sent=1861.63 Mb]COMET ERROR: File could not be uploaded\n",
      " 83%|████████▎ | 5230/6300 [51:51<10:55,  1.63it/s, curr_speed=37.37 Mbps, mb_sent=1865.00 Mb]COMET ERROR: File could not be uploaded\n",
      " 83%|████████▎ | 5241/6300 [51:58<10:33,  1.67it/s, curr_speed=37.37 Mbps, mb_sent=1869.18 Mb]COMET ERROR: File could not be uploaded\n",
      " 83%|████████▎ | 5243/6300 [51:59<10:37,  1.66it/s, curr_speed=37.34 Mbps, mb_sent=1869.92 Mb]COMET ERROR: File could not be uploaded\n",
      " 84%|████████▎ | 5271/6300 [52:16<10:40,  1.61it/s, curr_speed=37.48 Mbps, mb_sent=1880.31 Mb]COMET ERROR: File could not be uploaded\n",
      " 84%|████████▎ | 5276/6300 [52:20<10:54,  1.56it/s, curr_speed=37.38 Mbps, mb_sent=1882.19 Mb]COMET ERROR: File could not be uploaded\n",
      " 84%|████████▍ | 5288/6300 [52:27<10:30,  1.60it/s, curr_speed=37.47 Mbps, mb_sent=1886.75 Mb]COMET ERROR: File could not be uploaded\n",
      " 84%|████████▍ | 5292/6300 [52:30<11:05,  1.51it/s, curr_speed=37.45 Mbps, mb_sent=1888.22 Mb]COMET ERROR: File could not be uploaded\n",
      " 84%|████████▍ | 5294/6300 [52:31<10:54,  1.54it/s, curr_speed=37.46 Mbps, mb_sent=1888.95 Mb]COMET ERROR: File could not be uploaded\n",
      " 84%|████████▍ | 5298/6300 [52:34<11:22,  1.47it/s, curr_speed=37.48 Mbps, mb_sent=1890.54 Mb]COMET ERROR: File could not be uploaded\n",
      " 84%|████████▍ | 5309/6300 [52:41<10:06,  1.63it/s, curr_speed=37.55 Mbps, mb_sent=1894.62 Mb]COMET ERROR: File could not be uploaded\n",
      " 84%|████████▍ | 5310/6300 [52:42<10:17,  1.60it/s, curr_speed=37.55 Mbps, mb_sent=1895.01 Mb]COMET ERROR: File could not be uploaded\n",
      " 84%|████████▍ | 5315/6300 [52:45<10:31,  1.56it/s, curr_speed=37.42 Mbps, mb_sent=1896.87 Mb]COMET ERROR: File could not be uploaded\n",
      " 85%|████████▍ | 5346/6300 [53:04<09:42,  1.64it/s, curr_speed=37.51 Mbps, mb_sent=1908.53 Mb]COMET ERROR: File could not be uploaded\n",
      " 86%|████████▌ | 5414/6300 [53:47<09:18,  1.59it/s, curr_speed=37.64 Mbps, mb_sent=1934.10 Mb]COMET ERROR: File could not be uploaded\n",
      " 95%|█████████▍| 5972/6300 [59:49<03:37,  1.51it/s, curr_speed=36.99 Mbps, mb_sent=2142.89 Mb]COMET ERROR: File could not be uploaded\n",
      " 95%|█████████▌| 5995/6300 [1:00:04<03:20,  1.52it/s, curr_speed=37.43 Mbps, mb_sent=2151.70 Mb]COMET ERROR: File could not be uploaded\n",
      " 95%|█████████▌| 6000/6300 [1:00:07<03:28,  1.44it/s, curr_speed=37.41 Mbps, mb_sent=2153.50 Mb]COMET ERROR: File could not be uploaded\n",
      " 95%|█████████▌| 6008/6300 [1:00:13<03:14,  1.51it/s, curr_speed=37.41 Mbps, mb_sent=2156.49 Mb]COMET ERROR: File could not be uploaded\n",
      " 95%|█████████▌| 6010/6300 [1:00:14<03:16,  1.48it/s, curr_speed=37.33 Mbps, mb_sent=2157.21 Mb]COMET ERROR: File could not be uploaded\n",
      " 96%|█████████▌| 6022/6300 [1:00:22<03:03,  1.51it/s, curr_speed=37.33 Mbps, mb_sent=2161.64 Mb]COMET ERROR: File could not be uploaded\n",
      " 96%|█████████▌| 6035/6300 [1:00:31<03:00,  1.47it/s, curr_speed=37.36 Mbps, mb_sent=2166.56 Mb]COMET ERROR: File could not be uploaded\n",
      " 96%|█████████▌| 6036/6300 [1:00:32<02:58,  1.48it/s, curr_speed=37.40 Mbps, mb_sent=2166.96 Mb]COMET ERROR: File could not be uploaded\n",
      " 96%|█████████▌| 6038/6300 [1:00:33<02:57,  1.48it/s, curr_speed=37.40 Mbps, mb_sent=2167.73 Mb]COMET ERROR: File could not be uploaded\n",
      " 96%|█████████▌| 6044/6300 [1:00:38<02:58,  1.44it/s, curr_speed=37.40 Mbps, mb_sent=2169.99 Mb]COMET ERROR: File could not be uploaded\n",
      " 96%|█████████▌| 6051/6300 [1:00:43<02:49,  1.47it/s, curr_speed=37.43 Mbps, mb_sent=2172.60 Mb]COMET ERROR: File could not be uploaded\n",
      " 96%|█████████▋| 6064/6300 [1:00:52<02:36,  1.51it/s, curr_speed=37.50 Mbps, mb_sent=2177.44 Mb]COMET ERROR: File could not be uploaded\n",
      " 97%|█████████▋| 6110/6300 [1:01:23<02:09,  1.47it/s, curr_speed=37.46 Mbps, mb_sent=2194.67 Mb]COMET ERROR: File could not be uploaded\n",
      " 97%|█████████▋| 6113/6300 [1:01:25<02:19,  1.34it/s, curr_speed=37.41 Mbps, mb_sent=2195.74 Mb]COMET ERROR: File could not be uploaded\n",
      " 97%|█████████▋| 6127/6300 [1:01:34<01:57,  1.47it/s, curr_speed=37.50 Mbps, mb_sent=2201.00 Mb]COMET ERROR: File could not be uploaded\n",
      " 97%|█████████▋| 6142/6300 [1:01:45<01:45,  1.50it/s, curr_speed=37.36 Mbps, mb_sent=2206.61 Mb]COMET ERROR: File could not be uploaded\n",
      " 98%|█████████▊| 6144/6300 [1:01:46<01:46,  1.46it/s, curr_speed=37.35 Mbps, mb_sent=2207.34 Mb]COMET ERROR: File could not be uploaded\n",
      " 98%|█████████▊| 6179/6300 [1:02:10<01:24,  1.44it/s, curr_speed=37.24 Mbps, mb_sent=2220.27 Mb]COMET ERROR: File could not be uploaded\n",
      " 98%|█████████▊| 6180/6300 [1:02:11<01:22,  1.45it/s, curr_speed=37.22 Mbps, mb_sent=2220.66 Mb]COMET ERROR: File could not be uploaded\n",
      " 98%|█████████▊| 6189/6300 [1:02:17<01:15,  1.46it/s, curr_speed=37.23 Mbps, mb_sent=2224.06 Mb]COMET ERROR: File could not be uploaded\n",
      " 98%|█████████▊| 6191/6300 [1:02:19<01:14,  1.46it/s, curr_speed=37.29 Mbps, mb_sent=2224.83 Mb]COMET ERROR: File could not be uploaded\n",
      " 98%|█████████▊| 6203/6300 [1:02:27<01:06,  1.46it/s, curr_speed=37.25 Mbps, mb_sent=2229.39 Mb]COMET ERROR: File could not be uploaded\n",
      " 99%|█████████▊| 6211/6300 [1:02:33<01:00,  1.47it/s, curr_speed=37.29 Mbps, mb_sent=2232.28 Mb]COMET ERROR: File could not be uploaded\n",
      " 99%|█████████▊| 6214/6300 [1:02:35<01:03,  1.35it/s, curr_speed=37.34 Mbps, mb_sent=2233.43 Mb]COMET ERROR: File could not be uploaded\n",
      " 99%|█████████▊| 6221/6300 [1:02:40<00:55,  1.42it/s, curr_speed=37.33 Mbps, mb_sent=2236.02 Mb]COMET ERROR: File could not be uploaded\n",
      " 99%|█████████▉| 6223/6300 [1:02:41<00:53,  1.44it/s, curr_speed=37.25 Mbps, mb_sent=2236.72 Mb]COMET ERROR: File could not be uploaded\n",
      " 99%|█████████▉| 6224/6300 [1:02:42<00:55,  1.37it/s, curr_speed=37.21 Mbps, mb_sent=2237.09 Mb]COMET ERROR: File could not be uploaded\n",
      " 99%|█████████▉| 6225/6300 [1:02:43<00:53,  1.39it/s, curr_speed=37.29 Mbps, mb_sent=2237.52 Mb]COMET ERROR: File could not be uploaded\n",
      " 99%|█████████▉| 6226/6300 [1:02:43<00:53,  1.38it/s, curr_speed=37.29 Mbps, mb_sent=2237.91 Mb]COMET ERROR: File could not be uploaded\n",
      " 99%|█████████▉| 6260/6300 [1:03:07<00:26,  1.51it/s, curr_speed=37.28 Mbps, mb_sent=2250.63 Mb]COMET ERROR: File could not be uploaded\n",
      " 99%|█████████▉| 6265/6300 [1:03:10<00:24,  1.44it/s, curr_speed=37.34 Mbps, mb_sent=2252.51 Mb]COMET ERROR: File could not be uploaded\n",
      "100%|█████████▉| 6269/6300 [1:03:13<00:22,  1.40it/s, curr_speed=37.38 Mbps, mb_sent=2254.03 Mb]COMET ERROR: File could not be uploaded\n",
      "100%|█████████▉| 6271/6300 [1:03:14<00:20,  1.44it/s, curr_speed=37.36 Mbps, mb_sent=2254.75 Mb]COMET ERROR: File could not be uploaded\n",
      "100%|█████████▉| 6272/6300 [1:03:15<00:20,  1.37it/s, curr_speed=37.38 Mbps, mb_sent=2255.14 Mb]COMET ERROR: File could not be uploaded\n",
      "100%|█████████▉| 6277/6300 [1:03:19<00:16,  1.40it/s, curr_speed=37.48 Mbps, mb_sent=2257.09 Mb]COMET ERROR: File could not be uploaded\n",
      "100%|█████████▉| 6279/6300 [1:03:20<00:14,  1.42it/s, curr_speed=37.61 Mbps, mb_sent=2257.88 Mb]COMET ERROR: File could not be uploaded\n",
      "100%|█████████▉| 6281/6300 [1:03:22<00:13,  1.42it/s, curr_speed=37.56 Mbps, mb_sent=2258.65 Mb]COMET ERROR: File could not be uploaded\n",
      "100%|█████████▉| 6286/6300 [1:03:25<00:09,  1.41it/s, curr_speed=37.62 Mbps, mb_sent=2260.60 Mb]COMET ERROR: File could not be uploaded\n",
      "100%|██████████| 6300/6300 [1:03:35<00:00,  1.65it/s, curr_speed=37.59 Mbps, mb_sent=2265.80 Mb]\n"
     ]
    },
    {
     "name": "stdout",
     "output_type": "stream",
     "text": [
      "Waiting for simulation script to connect on port: tcp://localhost:31631\n",
      "Please start proper ns-3 simulation script using ./waf --run \"...\"\n"
     ]
    },
    {
     "name": "stderr",
     "output_type": "stream",
     "text": [
      "COMET INFO: ----------------------------\n",
      "COMET INFO: Comet.ml Experiment Summary:\n",
      "COMET INFO:   Data:\n",
      "COMET INFO:     url: https://www.comet.com/sheila-janota/rl-in-wifi-with-queue-level/96c6d414b85c4c0e828330cadc27b5b5\n",
      "COMET INFO:   Metrics [count] (min, max):\n",
      "COMET INFO:     Chosen CW [89985]           : (16.0, 1024.0)\n",
      "COMET INFO:     Cumulative reward [15]      : (2610.87744140625, 3160.368896484375)\n",
      "COMET INFO:     Current throughput [89985]  : (24.945077896118164, 49.32421875)\n",
      "COMET INFO:     Fairness index [89985]      : (0.025648999959230423, 0.9954389929771423)\n",
      "COMET INFO:     Megabytes sent [89985]      : (0.3462519943714142, 2265.7977083027363)\n",
      "COMET INFO:     Observation 0 [89985]       : (0.04462875900169213, 0.9671473860740663)\n",
      "COMET INFO:     Observation 1 [89985]       : (0.003994262105884034, 0.019740271235216905)\n",
      "COMET INFO:     Per-ep reward [89985]       : (86.421630859375, 3160.368896484375)\n",
      "COMET INFO:     Round megabytes sent [89985]: (0.0, 11.80609130859375)\n",
      "COMET INFO:     Round reward [89985]        : (0.0, 0.62548828125)\n",
      "COMET INFO:     Speed [15]                  : (31.920751336185884, 37.763295138378936)\n",
      "COMET INFO:     Station count [89985]       : (5.0, 50.0)\n",
      "COMET INFO:     loss [89985]                : (0.0, 0.15616706758737564)\n",
      "COMET INFO:   Uploads:\n",
      "COMET INFO:     histogram3d: 89985\n",
      "COMET INFO: ----------------------------\n",
      "COMET INFO: Uploading stats to Comet before program termination (may take several seconds)\n"
     ]
    },
    {
     "name": "stdout",
     "output_type": "stream",
     "text": [
      "Sent 2265.80 Mb/s.\tMean speed: 37.76 Mb/s\tEpisode 15/15 finished\n",
      "\n",
      "Training finished.\n"
     ]
    }
   ],
   "source": [
    "#%%\n",
    "teacher = Teacher(env, 1, Preprocessor(False))\n",
    "\n",
    "lr = 4e-4\n",
    "config = Config(buffer_size=3*steps_per_ep*threads_no, batch_size=32, gamma=0.7, tau=1e-3, lr=lr, update_every=1)\n",
    "agent = Agent(QNetworkTf, history_length, action_size=7, config=config)\n",
    "agent.set_epsilon(0.9, 0.001, EPISODE_COUNT-2)\n",
    "\n",
    "# Test the model\n",
    "hyperparams = {**config.__dict__, **sim_args}\n",
    "tags = [\"Rew: normalized speed\",\n",
    "        \"Final\",\n",
    "        f\"{Agent.NAME}\",\n",
    "        sim_args['scenario'],\n",
    "        f\"LR: {lr}\",\n",
    "        f\"Instances: {threads_no}\",\n",
    "        f\"Station count: {sim_args['nWifi']}\",\n",
    "        *[f\"{key}: {sim_args[key]}\" for key in list(sim_args)[:3]]]\n",
    "# # agent.save()\n",
    "logger = teacher.train(agent, EPISODE_COUNT,\n",
    "                        simTime=simTime,\n",
    "                        stepTime=stepTime,\n",
    "                        history_length=history_length,\n",
    "                        send_logs=True,\n",
    "                        experimental=True,\n",
    "                        tags=tags,\n",
    "                        parameters=hyperparams)\n",
    "#logger = teacher.eval(agent,\n",
    "#                        simTime=simTime,\n",
    "#                        stepTime=stepTime,\n",
    "#                        history_length=history_length,\n",
    "#                        tags=tags,\n",
    "#                        parameters=hyperparams)\n",
    "# agent.save()\n",
    "\n",
    "\n",
    "# %%"
   ]
  },
  {
   "cell_type": "code",
   "execution_count": null,
   "id": "c01d122e",
   "metadata": {},
   "outputs": [],
   "source": []
  },
  {
   "cell_type": "markdown",
   "id": "3f8cae1d",
   "metadata": {},
   "source": [
    "# Execution num4:"
   ]
  },
  {
   "cell_type": "code",
   "execution_count": 1,
   "id": "c727aded",
   "metadata": {},
   "outputs": [
    {
     "name": "stderr",
     "output_type": "stream",
     "text": [
      "/home/sheila/anaconda3/envs/environment_py3_7/lib/python3.7/site-packages/tensorflow/python/framework/dtypes.py:516: FutureWarning: Passing (type, 1) or '1type' as a synonym of type is deprecated; in a future version of numpy, it will be understood as (type, (1,)) / '(1,)type'.\n",
      "  _np_qint8 = np.dtype([(\"qint8\", np.int8, 1)])\n",
      "/home/sheila/anaconda3/envs/environment_py3_7/lib/python3.7/site-packages/tensorflow/python/framework/dtypes.py:517: FutureWarning: Passing (type, 1) or '1type' as a synonym of type is deprecated; in a future version of numpy, it will be understood as (type, (1,)) / '(1,)type'.\n",
      "  _np_quint8 = np.dtype([(\"quint8\", np.uint8, 1)])\n",
      "/home/sheila/anaconda3/envs/environment_py3_7/lib/python3.7/site-packages/tensorflow/python/framework/dtypes.py:518: FutureWarning: Passing (type, 1) or '1type' as a synonym of type is deprecated; in a future version of numpy, it will be understood as (type, (1,)) / '(1,)type'.\n",
      "  _np_qint16 = np.dtype([(\"qint16\", np.int16, 1)])\n",
      "/home/sheila/anaconda3/envs/environment_py3_7/lib/python3.7/site-packages/tensorflow/python/framework/dtypes.py:519: FutureWarning: Passing (type, 1) or '1type' as a synonym of type is deprecated; in a future version of numpy, it will be understood as (type, (1,)) / '(1,)type'.\n",
      "  _np_quint16 = np.dtype([(\"quint16\", np.uint16, 1)])\n",
      "/home/sheila/anaconda3/envs/environment_py3_7/lib/python3.7/site-packages/tensorflow/python/framework/dtypes.py:520: FutureWarning: Passing (type, 1) or '1type' as a synonym of type is deprecated; in a future version of numpy, it will be understood as (type, (1,)) / '(1,)type'.\n",
      "  _np_qint32 = np.dtype([(\"qint32\", np.int32, 1)])\n",
      "/home/sheila/anaconda3/envs/environment_py3_7/lib/python3.7/site-packages/tensorflow/python/framework/dtypes.py:525: FutureWarning: Passing (type, 1) or '1type' as a synonym of type is deprecated; in a future version of numpy, it will be understood as (type, (1,)) / '(1,)type'.\n",
      "  np_resource = np.dtype([(\"resource\", np.ubyte, 1)])\n",
      "/home/sheila/anaconda3/envs/environment_py3_7/lib/python3.7/site-packages/tensorboard/compat/tensorflow_stub/dtypes.py:541: FutureWarning: Passing (type, 1) or '1type' as a synonym of type is deprecated; in a future version of numpy, it will be understood as (type, (1,)) / '(1,)type'.\n",
      "  _np_qint8 = np.dtype([(\"qint8\", np.int8, 1)])\n",
      "/home/sheila/anaconda3/envs/environment_py3_7/lib/python3.7/site-packages/tensorboard/compat/tensorflow_stub/dtypes.py:542: FutureWarning: Passing (type, 1) or '1type' as a synonym of type is deprecated; in a future version of numpy, it will be understood as (type, (1,)) / '(1,)type'.\n",
      "  _np_quint8 = np.dtype([(\"quint8\", np.uint8, 1)])\n",
      "/home/sheila/anaconda3/envs/environment_py3_7/lib/python3.7/site-packages/tensorboard/compat/tensorflow_stub/dtypes.py:543: FutureWarning: Passing (type, 1) or '1type' as a synonym of type is deprecated; in a future version of numpy, it will be understood as (type, (1,)) / '(1,)type'.\n",
      "  _np_qint16 = np.dtype([(\"qint16\", np.int16, 1)])\n",
      "/home/sheila/anaconda3/envs/environment_py3_7/lib/python3.7/site-packages/tensorboard/compat/tensorflow_stub/dtypes.py:544: FutureWarning: Passing (type, 1) or '1type' as a synonym of type is deprecated; in a future version of numpy, it will be understood as (type, (1,)) / '(1,)type'.\n",
      "  _np_quint16 = np.dtype([(\"quint16\", np.uint16, 1)])\n",
      "/home/sheila/anaconda3/envs/environment_py3_7/lib/python3.7/site-packages/tensorboard/compat/tensorflow_stub/dtypes.py:545: FutureWarning: Passing (type, 1) or '1type' as a synonym of type is deprecated; in a future version of numpy, it will be understood as (type, (1,)) / '(1,)type'.\n",
      "  _np_qint32 = np.dtype([(\"qint32\", np.int32, 1)])\n",
      "/home/sheila/anaconda3/envs/environment_py3_7/lib/python3.7/site-packages/tensorboard/compat/tensorflow_stub/dtypes.py:550: FutureWarning: Passing (type, 1) or '1type' as a synonym of type is deprecated; in a future version of numpy, it will be understood as (type, (1,)) / '(1,)type'.\n",
      "  np_resource = np.dtype([(\"resource\", np.ubyte, 1)])\n"
     ]
    }
   ],
   "source": [
    "#%%\n",
    "from ns3gym import ns3env\n",
    "from comet_ml import Experiment, Optimizer\n",
    "import tqdm\n",
    "import subprocess\n",
    "from collections import deque\n",
    "import numpy as np\n",
    "\n",
    "from agents.dqn.agent import Agent, Config\n",
    "from agents.dqn.model import QNetworkTf\n",
    "from agents.teacher import Teacher, EnvWrapper\n",
    "from preprocessor import Preprocessor"
   ]
  },
  {
   "cell_type": "code",
   "execution_count": 2,
   "id": "c8ac6887",
   "metadata": {},
   "outputs": [
    {
     "name": "stdout",
     "output_type": "stream",
     "text": [
      "Steps per episode: 6000\n",
      "Waiting for simulation script to connect on port: tcp://localhost:50358\n",
      "Please start proper ns-3 simulation script using ./waf --run \"...\"\n",
      "40.790771|0|5|-nan\n",
      "Observation space shape: (1, 300)\n",
      "Action space shape: (1, 1)\n"
     ]
    }
   ],
   "source": [
    "#%%\n",
    "scenario = \"convergence\"\n",
    "\n",
    "simTime = 60 # seconds\n",
    "stepTime = 0.01  # seconds\n",
    "history_length = 300\n",
    "\n",
    "EPISODE_COUNT = 15\n",
    "steps_per_ep = int(simTime/stepTime)\n",
    "\n",
    "sim_args = {\n",
    "    \"simTime\": simTime,\n",
    "    \"envStepTime\": stepTime,\n",
    "    \"historyLength\": history_length,\n",
    "    \"agentType\": Agent.TYPE,\n",
    "    \"scenario\": \"convergence\",\n",
    "    \"nWifi\": 50,\n",
    "}\n",
    "\n",
    "print(\"Steps per episode:\", steps_per_ep)\n",
    "\n",
    "threads_no = 1\n",
    "env = EnvWrapper(threads_no, **sim_args)\n",
    "\n",
    "#%%\n",
    "env.reset()\n",
    "ob_space = env.observation_space\n",
    "ac_space = env.action_space\n",
    "\n",
    "print(\"Observation space shape:\", ob_space)\n",
    "print(\"Action space shape:\", ac_space)\n",
    "\n",
    "assert ob_space is not None"
   ]
  },
  {
   "cell_type": "code",
   "execution_count": 3,
   "id": "2429a8a8",
   "metadata": {},
   "outputs": [
    {
     "name": "stdout",
     "output_type": "stream",
     "text": [
      "WARNING:tensorflow:From /home/sheila/repos/ns-3-allinone/ns-3.29/scratch/RLinWiFi-master-original-queue-level-mean/agents/dqn/agent.py:53: The name tf.Session is deprecated. Please use tf.compat.v1.Session instead.\n",
      "\n",
      "WARNING:tensorflow:From /home/sheila/repos/ns-3-allinone/ns-3.29/scratch/RLinWiFi-master-original-queue-level-mean/agents/dqn/model.py:25: The name tf.variable_scope is deprecated. Please use tf.compat.v1.variable_scope instead.\n",
      "\n",
      "WARNING:tensorflow:From /home/sheila/repos/ns-3-allinone/ns-3.29/scratch/RLinWiFi-master-original-queue-level-mean/agents/dqn/model.py:26: The name tf.placeholder is deprecated. Please use tf.compat.v1.placeholder instead.\n",
      "\n",
      "WARNING:tensorflow:\n",
      "The TensorFlow contrib module will not be included in TensorFlow 2.0.\n",
      "For more information, please see:\n",
      "  * https://github.com/tensorflow/community/blob/master/rfcs/20180907-contrib-sunset.md\n",
      "  * https://github.com/tensorflow/addons\n",
      "  * https://github.com/tensorflow/io (for I/O related ops)\n",
      "If you depend on functionality not listed there, please file an issue.\n",
      "\n",
      "WARNING:tensorflow:From /home/sheila/repos/ns-3-allinone/ns-3.29/scratch/RLinWiFi-master-original-queue-level-mean/agents/dqn/model.py:52: LSTMCell.__init__ (from tensorflow.python.ops.rnn_cell_impl) is deprecated and will be removed in a future version.\n",
      "Instructions for updating:\n",
      "This class is equivalent as tf.keras.layers.LSTMCell, and will be replaced by that in Tensorflow 2.0.\n",
      "WARNING:tensorflow:From /home/sheila/repos/ns-3-allinone/ns-3.29/scratch/RLinWiFi-master-original-queue-level-mean/agents/dqn/model.py:52: static_rnn (from tensorflow.python.ops.rnn) is deprecated and will be removed in a future version.\n",
      "Instructions for updating:\n",
      "Please use `keras.layers.RNN(cell, unroll=True)`, which is equivalent to this API\n",
      "WARNING:tensorflow:From /home/sheila/anaconda3/envs/environment_py3_7/lib/python3.7/site-packages/tensorflow/python/ops/init_ops.py:1251: calling VarianceScaling.__init__ (from tensorflow.python.ops.init_ops) with dtype is deprecated and will be removed in a future version.\n",
      "Instructions for updating:\n",
      "Call initializer instance with the dtype argument instead of passing it to the constructor\n",
      "WARNING:tensorflow:From /home/sheila/anaconda3/envs/environment_py3_7/lib/python3.7/site-packages/tensorflow/python/ops/rnn_cell_impl.py:961: calling Zeros.__init__ (from tensorflow.python.ops.init_ops) with dtype is deprecated and will be removed in a future version.\n",
      "Instructions for updating:\n",
      "Call initializer instance with the dtype argument instead of passing it to the constructor\n",
      "WARNING:tensorflow:Entity <bound method LSTMCell.call of <tensorflow.python.ops.rnn_cell_impl.LSTMCell object at 0x7f471132f610>> could not be transformed and will be executed as-is. Please report this to the AutgoGraph team. When filing the bug, set the verbosity to 10 (on Linux, `export AUTOGRAPH_VERBOSITY=10`) and attach the full output. Cause: converting <bound method LSTMCell.call of <tensorflow.python.ops.rnn_cell_impl.LSTMCell object at 0x7f471132f610>>: AttributeError: module 'gast' has no attribute 'Index'\n",
      "WARNING: Entity <bound method LSTMCell.call of <tensorflow.python.ops.rnn_cell_impl.LSTMCell object at 0x7f471132f610>> could not be transformed and will be executed as-is. Please report this to the AutgoGraph team. When filing the bug, set the verbosity to 10 (on Linux, `export AUTOGRAPH_VERBOSITY=10`) and attach the full output. Cause: converting <bound method LSTMCell.call of <tensorflow.python.ops.rnn_cell_impl.LSTMCell object at 0x7f471132f610>>: AttributeError: module 'gast' has no attribute 'Index'\n",
      "WARNING:tensorflow:Entity <bound method LSTMCell.call of <tensorflow.python.ops.rnn_cell_impl.LSTMCell object at 0x7f471132f610>> could not be transformed and will be executed as-is. Please report this to the AutgoGraph team. When filing the bug, set the verbosity to 10 (on Linux, `export AUTOGRAPH_VERBOSITY=10`) and attach the full output. Cause: converting <bound method LSTMCell.call of <tensorflow.python.ops.rnn_cell_impl.LSTMCell object at 0x7f471132f610>>: AttributeError: module 'gast' has no attribute 'Index'\n",
      "WARNING: Entity <bound method LSTMCell.call of <tensorflow.python.ops.rnn_cell_impl.LSTMCell object at 0x7f471132f610>> could not be transformed and will be executed as-is. Please report this to the AutgoGraph team. When filing the bug, set the verbosity to 10 (on Linux, `export AUTOGRAPH_VERBOSITY=10`) and attach the full output. Cause: converting <bound method LSTMCell.call of <tensorflow.python.ops.rnn_cell_impl.LSTMCell object at 0x7f471132f610>>: AttributeError: module 'gast' has no attribute 'Index'\n",
      "WARNING:tensorflow:Entity <bound method LSTMCell.call of <tensorflow.python.ops.rnn_cell_impl.LSTMCell object at 0x7f471132f610>> could not be transformed and will be executed as-is. Please report this to the AutgoGraph team. When filing the bug, set the verbosity to 10 (on Linux, `export AUTOGRAPH_VERBOSITY=10`) and attach the full output. Cause: converting <bound method LSTMCell.call of <tensorflow.python.ops.rnn_cell_impl.LSTMCell object at 0x7f471132f610>>: AttributeError: module 'gast' has no attribute 'Index'\n",
      "WARNING: Entity <bound method LSTMCell.call of <tensorflow.python.ops.rnn_cell_impl.LSTMCell object at 0x7f471132f610>> could not be transformed and will be executed as-is. Please report this to the AutgoGraph team. When filing the bug, set the verbosity to 10 (on Linux, `export AUTOGRAPH_VERBOSITY=10`) and attach the full output. Cause: converting <bound method LSTMCell.call of <tensorflow.python.ops.rnn_cell_impl.LSTMCell object at 0x7f471132f610>>: AttributeError: module 'gast' has no attribute 'Index'\n",
      "WARNING:tensorflow:Entity <bound method LSTMCell.call of <tensorflow.python.ops.rnn_cell_impl.LSTMCell object at 0x7f471132f610>> could not be transformed and will be executed as-is. Please report this to the AutgoGraph team. When filing the bug, set the verbosity to 10 (on Linux, `export AUTOGRAPH_VERBOSITY=10`) and attach the full output. Cause: converting <bound method LSTMCell.call of <tensorflow.python.ops.rnn_cell_impl.LSTMCell object at 0x7f471132f610>>: AttributeError: module 'gast' has no attribute 'Index'\n",
      "WARNING: Entity <bound method LSTMCell.call of <tensorflow.python.ops.rnn_cell_impl.LSTMCell object at 0x7f471132f610>> could not be transformed and will be executed as-is. Please report this to the AutgoGraph team. When filing the bug, set the verbosity to 10 (on Linux, `export AUTOGRAPH_VERBOSITY=10`) and attach the full output. Cause: converting <bound method LSTMCell.call of <tensorflow.python.ops.rnn_cell_impl.LSTMCell object at 0x7f471132f610>>: AttributeError: module 'gast' has no attribute 'Index'\n",
      "WARNING:tensorflow:From /home/sheila/repos/ns-3-allinone/ns-3.29/scratch/RLinWiFi-master-original-queue-level-mean/agents/dqn/model.py:53: dense (from tensorflow.python.layers.core) is deprecated and will be removed in a future version.\n",
      "Instructions for updating:\n",
      "Use keras.layers.dense instead.\n",
      "WARNING:tensorflow:Entity <bound method Dense.call of <tensorflow.python.layers.core.Dense object at 0x7f471132f610>> could not be transformed and will be executed as-is. Please report this to the AutgoGraph team. When filing the bug, set the verbosity to 10 (on Linux, `export AUTOGRAPH_VERBOSITY=10`) and attach the full output. Cause: converting <bound method Dense.call of <tensorflow.python.layers.core.Dense object at 0x7f471132f610>>: AttributeError: module 'gast' has no attribute 'Index'\n",
      "WARNING: Entity <bound method Dense.call of <tensorflow.python.layers.core.Dense object at 0x7f471132f610>> could not be transformed and will be executed as-is. Please report this to the AutgoGraph team. When filing the bug, set the verbosity to 10 (on Linux, `export AUTOGRAPH_VERBOSITY=10`) and attach the full output. Cause: converting <bound method Dense.call of <tensorflow.python.layers.core.Dense object at 0x7f471132f610>>: AttributeError: module 'gast' has no attribute 'Index'\n",
      "WARNING:tensorflow:Entity <bound method Dense.call of <tensorflow.python.layers.core.Dense object at 0x7f471132f610>> could not be transformed and will be executed as-is. Please report this to the AutgoGraph team. When filing the bug, set the verbosity to 10 (on Linux, `export AUTOGRAPH_VERBOSITY=10`) and attach the full output. Cause: converting <bound method Dense.call of <tensorflow.python.layers.core.Dense object at 0x7f471132f610>>: AttributeError: module 'gast' has no attribute 'Index'\n"
     ]
    },
    {
     "name": "stdout",
     "output_type": "stream",
     "text": [
      "WARNING: Entity <bound method Dense.call of <tensorflow.python.layers.core.Dense object at 0x7f471132f610>> could not be transformed and will be executed as-is. Please report this to the AutgoGraph team. When filing the bug, set the verbosity to 10 (on Linux, `export AUTOGRAPH_VERBOSITY=10`) and attach the full output. Cause: converting <bound method Dense.call of <tensorflow.python.layers.core.Dense object at 0x7f471132f610>>: AttributeError: module 'gast' has no attribute 'Index'\n",
      "WARNING:tensorflow:Entity <bound method Dense.call of <tensorflow.python.layers.core.Dense object at 0x7f471132f610>> could not be transformed and will be executed as-is. Please report this to the AutgoGraph team. When filing the bug, set the verbosity to 10 (on Linux, `export AUTOGRAPH_VERBOSITY=10`) and attach the full output. Cause: converting <bound method Dense.call of <tensorflow.python.layers.core.Dense object at 0x7f471132f610>>: AttributeError: module 'gast' has no attribute 'Index'\n",
      "WARNING: Entity <bound method Dense.call of <tensorflow.python.layers.core.Dense object at 0x7f471132f610>> could not be transformed and will be executed as-is. Please report this to the AutgoGraph team. When filing the bug, set the verbosity to 10 (on Linux, `export AUTOGRAPH_VERBOSITY=10`) and attach the full output. Cause: converting <bound method Dense.call of <tensorflow.python.layers.core.Dense object at 0x7f471132f610>>: AttributeError: module 'gast' has no attribute 'Index'\n",
      "WARNING:tensorflow:From /home/sheila/repos/ns-3-allinone/ns-3.29/scratch/RLinWiFi-master-original-queue-level-mean/agents/dqn/model.py:69: The name tf.losses.mean_squared_error is deprecated. Please use tf.compat.v1.losses.mean_squared_error instead.\n",
      "\n",
      "WARNING:tensorflow:From /home/sheila/anaconda3/envs/environment_py3_7/lib/python3.7/site-packages/tensorflow/python/ops/losses/losses_impl.py:121: add_dispatch_support.<locals>.wrapper (from tensorflow.python.ops.array_ops) is deprecated and will be removed in a future version.\n",
      "Instructions for updating:\n",
      "Use tf.where in 2.0, which has the same broadcast rule as np.where\n",
      "WARNING:tensorflow:From /home/sheila/repos/ns-3-allinone/ns-3.29/scratch/RLinWiFi-master-original-queue-level-mean/agents/dqn/model.py:77: The name tf.train.AdamOptimizer is deprecated. Please use tf.compat.v1.train.AdamOptimizer instead.\n",
      "\n",
      "WARNING:tensorflow:From /home/sheila/repos/ns-3-allinone/ns-3.29/scratch/RLinWiFi-master-original-queue-level-mean/agents/dqn/model.py:33: The name tf.global_variables_initializer is deprecated. Please use tf.compat.v1.global_variables_initializer instead.\n",
      "\n",
      "WARNING:tensorflow:From /home/sheila/repos/ns-3-allinone/ns-3.29/scratch/RLinWiFi-master-original-queue-level-mean/agents/dqn/model.py:34: The name tf.local_variables_initializer is deprecated. Please use tf.compat.v1.local_variables_initializer instead.\n",
      "\n",
      "WARNING:tensorflow:Entity <bound method LSTMCell.call of <tensorflow.python.ops.rnn_cell_impl.LSTMCell object at 0x7f46fa0e2750>> could not be transformed and will be executed as-is. Please report this to the AutgoGraph team. When filing the bug, set the verbosity to 10 (on Linux, `export AUTOGRAPH_VERBOSITY=10`) and attach the full output. Cause: converting <bound method LSTMCell.call of <tensorflow.python.ops.rnn_cell_impl.LSTMCell object at 0x7f46fa0e2750>>: AttributeError: module 'gast' has no attribute 'Index'\n",
      "WARNING: Entity <bound method LSTMCell.call of <tensorflow.python.ops.rnn_cell_impl.LSTMCell object at 0x7f46fa0e2750>> could not be transformed and will be executed as-is. Please report this to the AutgoGraph team. When filing the bug, set the verbosity to 10 (on Linux, `export AUTOGRAPH_VERBOSITY=10`) and attach the full output. Cause: converting <bound method LSTMCell.call of <tensorflow.python.ops.rnn_cell_impl.LSTMCell object at 0x7f46fa0e2750>>: AttributeError: module 'gast' has no attribute 'Index'\n",
      "WARNING:tensorflow:Entity <bound method LSTMCell.call of <tensorflow.python.ops.rnn_cell_impl.LSTMCell object at 0x7f46fa0e2750>> could not be transformed and will be executed as-is. Please report this to the AutgoGraph team. When filing the bug, set the verbosity to 10 (on Linux, `export AUTOGRAPH_VERBOSITY=10`) and attach the full output. Cause: converting <bound method LSTMCell.call of <tensorflow.python.ops.rnn_cell_impl.LSTMCell object at 0x7f46fa0e2750>>: AttributeError: module 'gast' has no attribute 'Index'\n",
      "WARNING: Entity <bound method LSTMCell.call of <tensorflow.python.ops.rnn_cell_impl.LSTMCell object at 0x7f46fa0e2750>> could not be transformed and will be executed as-is. Please report this to the AutgoGraph team. When filing the bug, set the verbosity to 10 (on Linux, `export AUTOGRAPH_VERBOSITY=10`) and attach the full output. Cause: converting <bound method LSTMCell.call of <tensorflow.python.ops.rnn_cell_impl.LSTMCell object at 0x7f46fa0e2750>>: AttributeError: module 'gast' has no attribute 'Index'\n",
      "WARNING:tensorflow:Entity <bound method LSTMCell.call of <tensorflow.python.ops.rnn_cell_impl.LSTMCell object at 0x7f46fa0e2750>> could not be transformed and will be executed as-is. Please report this to the AutgoGraph team. When filing the bug, set the verbosity to 10 (on Linux, `export AUTOGRAPH_VERBOSITY=10`) and attach the full output. Cause: converting <bound method LSTMCell.call of <tensorflow.python.ops.rnn_cell_impl.LSTMCell object at 0x7f46fa0e2750>>: AttributeError: module 'gast' has no attribute 'Index'\n",
      "WARNING: Entity <bound method LSTMCell.call of <tensorflow.python.ops.rnn_cell_impl.LSTMCell object at 0x7f46fa0e2750>> could not be transformed and will be executed as-is. Please report this to the AutgoGraph team. When filing the bug, set the verbosity to 10 (on Linux, `export AUTOGRAPH_VERBOSITY=10`) and attach the full output. Cause: converting <bound method LSTMCell.call of <tensorflow.python.ops.rnn_cell_impl.LSTMCell object at 0x7f46fa0e2750>>: AttributeError: module 'gast' has no attribute 'Index'\n",
      "WARNING:tensorflow:Entity <bound method LSTMCell.call of <tensorflow.python.ops.rnn_cell_impl.LSTMCell object at 0x7f46fa0e2750>> could not be transformed and will be executed as-is. Please report this to the AutgoGraph team. When filing the bug, set the verbosity to 10 (on Linux, `export AUTOGRAPH_VERBOSITY=10`) and attach the full output. Cause: converting <bound method LSTMCell.call of <tensorflow.python.ops.rnn_cell_impl.LSTMCell object at 0x7f46fa0e2750>>: AttributeError: module 'gast' has no attribute 'Index'\n",
      "WARNING: Entity <bound method LSTMCell.call of <tensorflow.python.ops.rnn_cell_impl.LSTMCell object at 0x7f46fa0e2750>> could not be transformed and will be executed as-is. Please report this to the AutgoGraph team. When filing the bug, set the verbosity to 10 (on Linux, `export AUTOGRAPH_VERBOSITY=10`) and attach the full output. Cause: converting <bound method LSTMCell.call of <tensorflow.python.ops.rnn_cell_impl.LSTMCell object at 0x7f46fa0e2750>>: AttributeError: module 'gast' has no attribute 'Index'\n",
      "WARNING:tensorflow:Entity <bound method Dense.call of <tensorflow.python.layers.core.Dense object at 0x7f46fa0e2750>> could not be transformed and will be executed as-is. Please report this to the AutgoGraph team. When filing the bug, set the verbosity to 10 (on Linux, `export AUTOGRAPH_VERBOSITY=10`) and attach the full output. Cause: converting <bound method Dense.call of <tensorflow.python.layers.core.Dense object at 0x7f46fa0e2750>>: AttributeError: module 'gast' has no attribute 'Index'\n",
      "WARNING: Entity <bound method Dense.call of <tensorflow.python.layers.core.Dense object at 0x7f46fa0e2750>> could not be transformed and will be executed as-is. Please report this to the AutgoGraph team. When filing the bug, set the verbosity to 10 (on Linux, `export AUTOGRAPH_VERBOSITY=10`) and attach the full output. Cause: converting <bound method Dense.call of <tensorflow.python.layers.core.Dense object at 0x7f46fa0e2750>>: AttributeError: module 'gast' has no attribute 'Index'\n",
      "WARNING:tensorflow:Entity <bound method Dense.call of <tensorflow.python.layers.core.Dense object at 0x7f46fa0e2750>> could not be transformed and will be executed as-is. Please report this to the AutgoGraph team. When filing the bug, set the verbosity to 10 (on Linux, `export AUTOGRAPH_VERBOSITY=10`) and attach the full output. Cause: converting <bound method Dense.call of <tensorflow.python.layers.core.Dense object at 0x7f46fa0e2750>>: AttributeError: module 'gast' has no attribute 'Index'\n"
     ]
    },
    {
     "name": "stdout",
     "output_type": "stream",
     "text": [
      "WARNING: Entity <bound method Dense.call of <tensorflow.python.layers.core.Dense object at 0x7f46fa0e2750>> could not be transformed and will be executed as-is. Please report this to the AutgoGraph team. When filing the bug, set the verbosity to 10 (on Linux, `export AUTOGRAPH_VERBOSITY=10`) and attach the full output. Cause: converting <bound method Dense.call of <tensorflow.python.layers.core.Dense object at 0x7f46fa0e2750>>: AttributeError: module 'gast' has no attribute 'Index'\n",
      "WARNING:tensorflow:Entity <bound method Dense.call of <tensorflow.python.layers.core.Dense object at 0x7f46fa0e2750>> could not be transformed and will be executed as-is. Please report this to the AutgoGraph team. When filing the bug, set the verbosity to 10 (on Linux, `export AUTOGRAPH_VERBOSITY=10`) and attach the full output. Cause: converting <bound method Dense.call of <tensorflow.python.layers.core.Dense object at 0x7f46fa0e2750>>: AttributeError: module 'gast' has no attribute 'Index'\n",
      "WARNING: Entity <bound method Dense.call of <tensorflow.python.layers.core.Dense object at 0x7f46fa0e2750>> could not be transformed and will be executed as-is. Please report this to the AutgoGraph team. When filing the bug, set the verbosity to 10 (on Linux, `export AUTOGRAPH_VERBOSITY=10`) and attach the full output. Cause: converting <bound method Dense.call of <tensorflow.python.layers.core.Dense object at 0x7f46fa0e2750>>: AttributeError: module 'gast' has no attribute 'Index'\n",
      "WARNING:tensorflow:From /home/sheila/repos/ns-3-allinone/ns-3.29/scratch/RLinWiFi-master-original-queue-level-mean/agents/dqn/agent.py:77: The name tf.train.Saver is deprecated. Please use tf.compat.v1.train.Saver instead.\n",
      "\n",
      "Action space: 7\n",
      "WARNING:tensorflow:From /home/sheila/repos/ns-3-allinone/ns-3.29/scratch/RLinWiFi-master-original-queue-level-mean/agents/dqn/agent.py:107: Variable.load (from tensorflow.python.ops.variables) is deprecated and will be removed in a future version.\n",
      "Instructions for updating:\n",
      "Prefer Variable.assign which has equivalent behavior in 2.X.\n"
     ]
    },
    {
     "name": "stderr",
     "output_type": "stream",
     "text": [
      "COMET INFO: Experiment is live on comet.ml https://www.comet.com/sheila-janota/rl-in-wifi-with-queue-level/78987b3832974b3398fe55f3e38944ea\n",
      "\n"
     ]
    },
    {
     "name": "stdout",
     "output_type": "stream",
     "text": [
      "0\n",
      "40.790771|0|5|-nan\n"
     ]
    },
    {
     "name": "stderr",
     "output_type": "stream",
     "text": [
      "  5%|▌         | 333/6300 [02:01<46:58,  2.12it/s, curr_speed=29.77 Mbps, mb_sent=9.53 Mb]"
     ]
    },
    {
     "name": "stdout",
     "output_type": "stream",
     "text": [
      "------- STARTED TRAINING -------\n"
     ]
    },
    {
     "name": "stderr",
     "output_type": "stream",
     "text": [
      "100%|██████████| 6300/6300 [1:33:58<00:00,  1.12it/s, curr_speed=32.54 Mbps, mb_sent=1906.35 Mb]\n"
     ]
    },
    {
     "name": "stdout",
     "output_type": "stream",
     "text": [
      "Waiting for simulation script to connect on port: tcp://localhost:28145\n",
      "Please start proper ns-3 simulation script using ./waf --run \"...\"\n",
      "Sent 1906.35 Mb/s.\tMean speed: 31.77 Mb/s\tEpisode 1/15 finished\n",
      "\n",
      "1\n",
      "40.790771|0|5|-nan\n"
     ]
    },
    {
     "name": "stderr",
     "output_type": "stream",
     "text": [
      "100%|██████████| 6300/6300 [1:33:08<00:00,  1.13it/s, curr_speed=34.59 Mbps, mb_sent=2032.58 Mb]\n"
     ]
    },
    {
     "name": "stdout",
     "output_type": "stream",
     "text": [
      "Waiting for simulation script to connect on port: tcp://localhost:36958\n",
      "Please start proper ns-3 simulation script using ./waf --run \"...\"\n",
      "Sent 2032.58 Mb/s.\tMean speed: 33.88 Mb/s\tEpisode 2/15 finished\n",
      "\n",
      "2\n",
      "40.790771|0|5|-nan\n"
     ]
    },
    {
     "name": "stderr",
     "output_type": "stream",
     "text": [
      "100%|██████████| 6300/6300 [1:34:55<00:00,  1.11it/s, curr_speed=33.82 Mbps, mb_sent=2123.74 Mb]\n"
     ]
    },
    {
     "name": "stdout",
     "output_type": "stream",
     "text": [
      "Waiting for simulation script to connect on port: tcp://localhost:38460\n",
      "Please start proper ns-3 simulation script using ./waf --run \"...\"\n",
      "Sent 2123.74 Mb/s.\tMean speed: 35.40 Mb/s\tEpisode 3/15 finished\n",
      "\n",
      "3\n",
      "40.790771|0|5|-nan\n"
     ]
    },
    {
     "name": "stderr",
     "output_type": "stream",
     "text": [
      "  5%|▍         | 304/6300 [01:49<41:32,  2.41it/s, curr_speed=42.07 Mbps, mb_sent=1.26 Mb]"
     ]
    },
    {
     "name": "stdout",
     "output_type": "stream",
     "text": [
      "------- MEMORY BUFFER FILLED -------\n"
     ]
    },
    {
     "name": "stderr",
     "output_type": "stream",
     "text": [
      " 55%|█████▍    | 3464/6300 [38:38<50:07,  1.06s/it, curr_speed=35.04 Mbps, mb_sent=1151.01 Mb] COMET ERROR: File could not be uploaded\n",
      " 55%|█████▌    | 3465/6300 [38:39<48:16,  1.02s/it, curr_speed=35.02 Mbps, mb_sent=1151.35 Mb]COMET ERROR: File could not be uploaded\n",
      "100%|██████████| 6300/6300 [1:34:35<00:00,  1.11it/s, curr_speed=32.74 Mbps, mb_sent=2151.33 Mb]\n"
     ]
    },
    {
     "name": "stdout",
     "output_type": "stream",
     "text": [
      "Waiting for simulation script to connect on port: tcp://localhost:45697\n",
      "Please start proper ns-3 simulation script using ./waf --run \"...\"\n",
      "Sent 2151.33 Mb/s.\tMean speed: 35.86 Mb/s\tEpisode 4/15 finished\n",
      "\n",
      "4\n",
      "40.790771|0|5|-nan\n"
     ]
    },
    {
     "name": "stderr",
     "output_type": "stream",
     "text": [
      "100%|██████████| 6300/6300 [1:35:29<00:00,  1.10it/s, curr_speed=34.96 Mbps, mb_sent=2193.38 Mb]\n"
     ]
    },
    {
     "name": "stdout",
     "output_type": "stream",
     "text": [
      "Waiting for simulation script to connect on port: tcp://localhost:39821\n",
      "Please start proper ns-3 simulation script using ./waf --run \"...\"\n",
      "Sent 2193.38 Mb/s.\tMean speed: 36.56 Mb/s\tEpisode 5/15 finished\n",
      "\n",
      "5\n",
      "40.790771|0|5|-nan\n"
     ]
    },
    {
     "name": "stderr",
     "output_type": "stream",
     "text": [
      "100%|██████████| 6300/6300 [1:34:13<00:00,  1.11it/s, curr_speed=36.18 Mbps, mb_sent=2228.02 Mb]\n"
     ]
    },
    {
     "name": "stdout",
     "output_type": "stream",
     "text": [
      "Waiting for simulation script to connect on port: tcp://localhost:49272\n",
      "Please start proper ns-3 simulation script using ./waf --run \"...\"\n",
      "Sent 2228.02 Mb/s.\tMean speed: 37.13 Mb/s\tEpisode 6/15 finished\n",
      "\n",
      "6\n",
      "40.790771|0|5|-nan\n"
     ]
    },
    {
     "name": "stderr",
     "output_type": "stream",
     "text": [
      "100%|██████████| 6300/6300 [1:34:01<00:00,  1.12it/s, curr_speed=37.53 Mbps, mb_sent=2248.26 Mb]\n"
     ]
    },
    {
     "name": "stdout",
     "output_type": "stream",
     "text": [
      "Waiting for simulation script to connect on port: tcp://localhost:36597\n",
      "Please start proper ns-3 simulation script using ./waf --run \"...\"\n",
      "Sent 2248.26 Mb/s.\tMean speed: 37.47 Mb/s\tEpisode 7/15 finished\n",
      "\n",
      "7\n",
      "40.790771|0|5|-nan\n"
     ]
    },
    {
     "name": "stderr",
     "output_type": "stream",
     "text": [
      "100%|██████████| 6300/6300 [1:34:30<00:00,  1.11it/s, curr_speed=37.14 Mbps, mb_sent=2253.90 Mb]\n"
     ]
    },
    {
     "name": "stdout",
     "output_type": "stream",
     "text": [
      "Waiting for simulation script to connect on port: tcp://localhost:37874\n",
      "Please start proper ns-3 simulation script using ./waf --run \"...\"\n",
      "Sent 2253.90 Mb/s.\tMean speed: 37.57 Mb/s\tEpisode 8/15 finished\n",
      "\n",
      "8\n",
      "40.790771|0|5|-nan\n"
     ]
    },
    {
     "name": "stderr",
     "output_type": "stream",
     "text": [
      "100%|██████████| 6300/6300 [1:34:15<00:00,  1.11it/s, curr_speed=37.25 Mbps, mb_sent=2256.59 Mb]\n"
     ]
    },
    {
     "name": "stdout",
     "output_type": "stream",
     "text": [
      "Waiting for simulation script to connect on port: tcp://localhost:46758\n",
      "Please start proper ns-3 simulation script using ./waf --run \"...\"\n",
      "Sent 2256.59 Mb/s.\tMean speed: 37.61 Mb/s\tEpisode 9/15 finished\n",
      "\n",
      "9\n",
      "40.790771|0|5|-nan\n"
     ]
    },
    {
     "name": "stderr",
     "output_type": "stream",
     "text": [
      " 98%|█████████▊| 6200/6300 [1:27:57<01:15,  1.32it/s, curr_speed=37.44 Mbps, mb_sent=2220.44 Mb]COMET ERROR: File could not be uploaded\n",
      " 98%|█████████▊| 6201/6300 [1:27:57<01:13,  1.35it/s, curr_speed=37.42 Mbps, mb_sent=2220.81 Mb]COMET ERROR: File could not be uploaded\n",
      " 98%|█████████▊| 6202/6300 [1:27:58<01:12,  1.34it/s, curr_speed=37.47 Mbps, mb_sent=2221.23 Mb]COMET ERROR: File could not be uploaded\n",
      " 99%|█████████▊| 6208/6300 [1:28:03<01:10,  1.30it/s, curr_speed=37.47 Mbps, mb_sent=2223.45 Mb]COMET ERROR: File could not be uploaded\n",
      " 99%|█████████▊| 6209/6300 [1:28:04<01:09,  1.32it/s, curr_speed=37.50 Mbps, mb_sent=2223.86 Mb]COMET ERROR: File could not be uploaded\n",
      " 99%|█████████▊| 6210/6300 [1:28:05<01:08,  1.32it/s, curr_speed=37.48 Mbps, mb_sent=2224.25 Mb]COMET ERROR: File could not be uploaded\n",
      "100%|██████████| 6300/6300 [1:29:12<00:00,  1.18it/s, curr_speed=37.52 Mbps, mb_sent=2257.96 Mb]\n"
     ]
    },
    {
     "name": "stdout",
     "output_type": "stream",
     "text": [
      "Waiting for simulation script to connect on port: tcp://localhost:48991\n",
      "Please start proper ns-3 simulation script using ./waf --run \"...\"\n",
      "Sent 2257.96 Mb/s.\tMean speed: 37.63 Mb/s\tEpisode 10/15 finished\n",
      "\n",
      "10\n",
      "40.790771|0|5|-nan\n"
     ]
    },
    {
     "name": "stderr",
     "output_type": "stream",
     "text": [
      " 30%|███       | 1903/6300 [09:30<33:18,  2.20it/s, curr_speed=37.89 Mbps, mb_sent=608.90 Mb]COMET ERROR: File could not be uploaded\n",
      "COMET ERROR: File could not be uploaded\n",
      "COMET ERROR: File could not be uploaded\n",
      " 30%|███       | 1910/6300 [09:33<29:08,  2.51it/s, curr_speed=37.91 Mbps, mb_sent=611.54 Mb]COMET ERROR: File could not be uploaded\n",
      " 30%|███       | 1913/6300 [09:34<27:48,  2.63it/s, curr_speed=38.01 Mbps, mb_sent=612.73 Mb]COMET ERROR: File could not be uploaded\n",
      " 30%|███       | 1918/6300 [09:36<29:19,  2.49it/s, curr_speed=37.91 Mbps, mb_sent=614.56 Mb]COMET ERROR: File could not be uploaded\n",
      " 31%|███▏      | 1975/6300 [09:58<26:06,  2.76it/s, curr_speed=37.89 Mbps, mb_sent=636.14 Mb]COMET ERROR: File could not be uploaded\n",
      "COMET ERROR: File could not be uploaded\n",
      "COMET ERROR: File could not be uploaded\n",
      "COMET ERROR: File could not be uploaded\n",
      "COMET ERROR: File could not be uploaded\n",
      "COMET ERROR: File could not be uploaded\n",
      " 31%|███▏      | 1976/6300 [09:58<28:48,  2.50it/s, curr_speed=37.85 Mbps, mb_sent=636.50 Mb]COMET ERROR: File could not be uploaded\n",
      "COMET ERROR: File could not be uploaded\n",
      "COMET ERROR: File could not be uploaded\n",
      "COMET ERROR: File could not be uploaded\n",
      "COMET ERROR: File could not be uploaded\n",
      "COMET ERROR: File could not be uploaded\n",
      "COMET ERROR: File could not be uploaded\n",
      " 31%|███▏      | 1977/6300 [09:59<31:56,  2.26it/s, curr_speed=37.89 Mbps, mb_sent=636.87 Mb]COMET ERROR: File could not be uploaded\n",
      " 32%|███▏      | 1994/6300 [10:05<26:53,  2.67it/s, curr_speed=37.86 Mbps, mb_sent=643.38 Mb]COMET ERROR: File could not be uploaded\n",
      " 32%|███▏      | 1997/6300 [10:07<26:25,  2.71it/s, curr_speed=37.93 Mbps, mb_sent=644.55 Mb]COMET ERROR: File could not be uploaded\n",
      " 32%|███▏      | 1998/6300 [10:07<27:06,  2.64it/s, curr_speed=37.95 Mbps, mb_sent=645.34 Mb]COMET ERROR: File could not be uploaded\n",
      " 32%|███▏      | 2005/6300 [10:10<27:08,  2.64it/s, curr_speed=37.81 Mbps, mb_sent=647.51 Mb]COMET ERROR: File could not be uploaded\n",
      " 32%|███▏      | 2010/6300 [10:12<28:47,  2.48it/s, curr_speed=37.96 Mbps, mb_sent=649.50 Mb]COMET ERROR: File could not be uploaded\n",
      " 32%|███▏      | 2013/6300 [10:13<26:45,  2.67it/s, curr_speed=37.93 Mbps, mb_sent=650.66 Mb]COMET ERROR: File could not be uploaded\n",
      " 32%|███▏      | 2016/6300 [10:14<26:48,  2.66it/s, curr_speed=37.91 Mbps, mb_sent=651.77 Mb]COMET ERROR: File could not be uploaded\n",
      " 32%|███▏      | 2018/6300 [10:15<26:31,  2.69it/s, curr_speed=37.96 Mbps, mb_sent=652.53 Mb]COMET ERROR: File could not be uploaded\n",
      " 32%|███▏      | 2019/6300 [10:15<26:47,  2.66it/s, curr_speed=37.92 Mbps, mb_sent=652.85 Mb]COMET ERROR: File could not be uploaded\n",
      " 32%|███▏      | 2023/6300 [10:17<27:11,  2.62it/s, curr_speed=37.98 Mbps, mb_sent=654.48 Mb]COMET ERROR: File could not be uploaded\n",
      " 32%|███▏      | 2035/6300 [10:21<26:37,  2.67it/s, curr_speed=37.98 Mbps, mb_sent=658.99 Mb]COMET ERROR: File could not be uploaded\n",
      " 32%|███▏      | 2041/6300 [10:24<27:52,  2.55it/s, curr_speed=37.86 Mbps, mb_sent=661.13 Mb]COMET ERROR: File could not be uploaded\n",
      " 32%|███▏      | 2044/6300 [10:25<27:53,  2.54it/s, curr_speed=38.02 Mbps, mb_sent=662.41 Mb]COMET ERROR: File could not be uploaded\n",
      " 33%|███▎      | 2054/6300 [10:29<26:39,  2.65it/s, curr_speed=37.88 Mbps, mb_sent=666.16 Mb]COMET ERROR: File could not be uploaded\n",
      " 33%|███▎      | 2056/6300 [10:29<27:33,  2.57it/s, curr_speed=37.84 Mbps, mb_sent=666.89 Mb]COMET ERROR: File could not be uploaded\n",
      " 33%|███▎      | 2060/6300 [10:31<28:44,  2.46it/s, curr_speed=37.89 Mbps, mb_sent=668.46 Mb]COMET ERROR: File could not be uploaded\n",
      " 33%|███▎      | 2061/6300 [10:31<29:25,  2.40it/s, curr_speed=37.88 Mbps, mb_sent=668.83 Mb]COMET ERROR: File could not be uploaded\n",
      " 33%|███▎      | 2064/6300 [10:33<28:09,  2.51it/s, curr_speed=38.04 Mbps, mb_sent=669.99 Mb]COMET ERROR: File could not be uploaded\n",
      " 33%|███▎      | 2069/6300 [10:35<28:47,  2.45it/s, curr_speed=38.01 Mbps, mb_sent=671.89 Mb]COMET ERROR: File could not be uploaded\n",
      "COMET ERROR: File could not be uploaded\n",
      " 33%|███▎      | 2070/6300 [10:35<28:51,  2.44it/s, curr_speed=38.02 Mbps, mb_sent=672.29 Mb]COMET ERROR: File could not be uploaded\n",
      " 33%|███▎      | 2076/6300 [10:37<28:16,  2.49it/s, curr_speed=38.14 Mbps, mb_sent=674.64 Mb]COMET ERROR: File could not be uploaded\n",
      " 33%|███▎      | 2077/6300 [10:38<28:19,  2.48it/s, curr_speed=38.20 Mbps, mb_sent=675.07 Mb]COMET ERROR: File could not be uploaded\n",
      " 33%|███▎      | 2082/6300 [10:40<28:23,  2.48it/s, curr_speed=38.07 Mbps, mb_sent=676.87 Mb]COMET ERROR: File could not be uploaded\n",
      " 33%|███▎      | 2084/6300 [10:41<28:25,  2.47it/s, curr_speed=38.01 Mbps, mb_sent=677.59 Mb]COMET ERROR: File could not be uploaded\n",
      " 33%|███▎      | 2087/6300 [10:42<27:51,  2.52it/s, curr_speed=38.05 Mbps, mb_sent=678.76 Mb]COMET ERROR: File could not be uploaded\n",
      " 33%|███▎      | 2096/6300 [10:46<27:52,  2.51it/s, curr_speed=38.03 Mbps, mb_sent=682.22 Mb]COMET ERROR: File could not be uploaded\n",
      " 33%|███▎      | 2104/6300 [10:49<27:25,  2.55it/s, curr_speed=38.13 Mbps, mb_sent=685.35 Mb]COMET ERROR: File could not be uploaded\n",
      " 34%|███▎      | 2112/6300 [10:52<26:44,  2.61it/s, curr_speed=38.24 Mbps, mb_sent=688.53 Mb]COMET ERROR: File could not be uploaded\n",
      " 34%|███▎      | 2117/6300 [10:54<28:22,  2.46it/s, curr_speed=38.24 Mbps, mb_sent=690.39 Mb]COMET ERROR: File could not be uploaded\n",
      " 34%|███▍      | 2128/6300 [10:58<26:20,  2.64it/s, curr_speed=38.27 Mbps, mb_sent=694.57 Mb]COMET ERROR: File could not be uploaded\n",
      " 34%|███▍      | 2139/6300 [11:02<24:34,  2.82it/s, curr_speed=38.21 Mbps, mb_sent=698.65 Mb]COMET ERROR: File could not be uploaded\n",
      " 34%|███▍      | 2141/6300 [11:03<24:28,  2.83it/s, curr_speed=38.23 Mbps, mb_sent=699.36 Mb]COMET ERROR: File could not be uploaded\n",
      " 34%|███▍      | 2152/6300 [11:07<24:45,  2.79it/s, curr_speed=38.03 Mbps, mb_sent=703.44 Mb]COMET ERROR: File could not be uploaded\n",
      " 34%|███▍      | 2156/6300 [11:09<25:54,  2.67it/s, curr_speed=38.03 Mbps, mb_sent=704.93 Mb]COMET ERROR: File could not be uploaded\n",
      " 35%|███▍      | 2200/6300 [11:26<24:57,  2.74it/s, curr_speed=37.92 Mbps, mb_sent=721.70 Mb]COMET ERROR: File could not be uploaded\n",
      " 35%|███▍      | 2202/6300 [11:27<25:39,  2.66it/s, curr_speed=37.89 Mbps, mb_sent=722.42 Mb]COMET ERROR: File could not be uploaded\n",
      " 35%|███▌      | 2206/6300 [11:28<26:36,  2.56it/s, curr_speed=37.80 Mbps, mb_sent=723.96 Mb]COMET ERROR: File could not be uploaded\n",
      " 35%|███▌      | 2235/6300 [11:39<25:39,  2.64it/s, curr_speed=37.74 Mbps, mb_sent=734.88 Mb]COMET ERROR: File could not be uploaded\n",
      "COMET ERROR: File could not be uploaded\n",
      "COMET ERROR: File could not be uploaded\n",
      "COMET ERROR: File could not be uploaded\n",
      "COMET ERROR: File could not be uploaded\n",
      "COMET ERROR: File could not be uploaded\n",
      "COMET ERROR: File could not be uploaded\n",
      " 35%|███▌      | 2236/6300 [11:40<38:01,  1.78it/s, curr_speed=37.81 Mbps, mb_sent=735.31 Mb]COMET ERROR: File could not be uploaded\n",
      " 36%|███▌      | 2246/6300 [11:45<27:46,  2.43it/s, curr_speed=37.89 Mbps, mb_sent=739.04 Mb]COMET ERROR: File could not be uploaded\n",
      " 36%|███▌      | 2249/6300 [11:46<27:17,  2.47it/s, curr_speed=38.02 Mbps, mb_sent=740.24 Mb]COMET ERROR: File could not be uploaded\n",
      " 37%|███▋      | 2311/6300 [12:10<25:52,  2.57it/s, curr_speed=37.65 Mbps, mb_sent=763.54 Mb]COMET ERROR: File could not be uploaded\n",
      "COMET ERROR: File could not be uploaded\n",
      "COMET ERROR: File could not be uploaded\n",
      "COMET ERROR: File could not be uploaded\n",
      "COMET ERROR: File could not be uploaded\n",
      "COMET ERROR: File could not be uploaded\n",
      "COMET ERROR: File could not be uploaded\n",
      "COMET ERROR: File could not be uploaded\n",
      "COMET ERROR: File could not be uploaded\n",
      "COMET ERROR: File could not be uploaded\n",
      "COMET ERROR: File could not be uploaded\n",
      "COMET ERROR: File could not be uploaded\n",
      "COMET ERROR: File could not be uploaded\n",
      "COMET ERROR: File could not be uploaded\n",
      "COMET ERROR: File could not be uploaded\n",
      "COMET ERROR: File could not be uploaded\n",
      "COMET ERROR: File could not be uploaded\n",
      "COMET ERROR: File could not be uploaded\n",
      "COMET ERROR: File could not be uploaded\n",
      " 37%|███▋      | 2312/6300 [12:11<33:52,  1.96it/s, curr_speed=37.56 Mbps, mb_sent=763.86 Mb]COMET ERROR: File could not be uploaded\n",
      "COMET ERROR: File could not be uploaded\n"
     ]
    },
    {
     "name": "stderr",
     "output_type": "stream",
     "text": [
      "COMET ERROR: File could not be uploaded\n",
      "COMET ERROR: File could not be uploaded\n",
      "COMET ERROR: File could not be uploaded\n",
      "COMET ERROR: File could not be uploaded\n",
      " 37%|███▋      | 2314/6300 [12:12<33:23,  1.99it/s, curr_speed=37.63 Mbps, mb_sent=764.61 Mb]COMET ERROR: File could not be uploaded\n",
      " 37%|███▋      | 2315/6300 [12:12<31:36,  2.10it/s, curr_speed=37.67 Mbps, mb_sent=765.04 Mb]COMET ERROR: File could not be uploaded\n",
      " 37%|███▋      | 2316/6300 [12:13<30:26,  2.18it/s, curr_speed=37.75 Mbps, mb_sent=765.45 Mb]COMET ERROR: File could not be uploaded\n",
      " 37%|███▋      | 2317/6300 [12:13<29:37,  2.24it/s, curr_speed=37.78 Mbps, mb_sent=765.85 Mb]COMET ERROR: File could not be uploaded\n",
      " 37%|███▋      | 2322/6300 [12:15<27:21,  2.42it/s, curr_speed=37.74 Mbps, mb_sent=767.68 Mb]COMET ERROR: File could not be uploaded\n",
      " 37%|███▋      | 2323/6300 [12:15<27:19,  2.43it/s, curr_speed=37.74 Mbps, mb_sent=768.02 Mb]COMET ERROR: File could not be uploaded\n",
      " 37%|███▋      | 2327/6300 [12:17<26:40,  2.48it/s, curr_speed=37.69 Mbps, mb_sent=769.52 Mb]COMET ERROR: File could not be uploaded\n",
      " 37%|███▋      | 2329/6300 [12:18<27:19,  2.42it/s, curr_speed=37.70 Mbps, mb_sent=770.27 Mb]COMET ERROR: File could not be uploaded\n",
      " 37%|███▋      | 2357/6300 [12:29<25:27,  2.58it/s, curr_speed=37.64 Mbps, mb_sent=780.82 Mb]COMET ERROR: File could not be uploaded\n",
      " 37%|███▋      | 2359/6300 [12:30<25:51,  2.54it/s, curr_speed=37.64 Mbps, mb_sent=781.55 Mb]COMET ERROR: File could not be uploaded\n",
      "COMET ERROR: File could not be uploaded\n",
      "COMET ERROR: File could not be uploaded\n",
      "COMET ERROR: File could not be uploaded\n",
      "COMET ERROR: File could not be uploaded\n",
      "COMET ERROR: File could not be uploaded\n",
      "COMET ERROR: File could not be uploaded\n",
      "COMET ERROR: File could not be uploaded\n",
      "COMET ERROR: File could not be uploaded\n",
      "COMET ERROR: File could not be uploaded\n",
      "COMET ERROR: File could not be uploaded\n",
      "COMET ERROR: File could not be uploaded\n",
      " 37%|███▋      | 2360/6300 [12:31<30:40,  2.14it/s, curr_speed=37.63 Mbps, mb_sent=781.89 Mb]COMET ERROR: File could not be uploaded\n",
      " 37%|███▋      | 2361/6300 [12:31<30:42,  2.14it/s, curr_speed=37.63 Mbps, mb_sent=782.30 Mb]COMET ERROR: File could not be uploaded\n",
      " 37%|███▋      | 2362/6300 [12:32<29:43,  2.21it/s, curr_speed=37.62 Mbps, mb_sent=782.69 Mb]COMET ERROR: File could not be uploaded\n",
      " 38%|███▊      | 2365/6300 [12:33<27:05,  2.42it/s, curr_speed=37.67 Mbps, mb_sent=783.85 Mb]COMET ERROR: File could not be uploaded\n",
      " 38%|███▊      | 2366/6300 [12:33<27:42,  2.37it/s, curr_speed=37.62 Mbps, mb_sent=784.21 Mb]COMET ERROR: File could not be uploaded\n",
      " 38%|███▊      | 2368/6300 [12:34<26:52,  2.44it/s, curr_speed=37.62 Mbps, mb_sent=784.95 Mb]COMET ERROR: File could not be uploaded\n",
      " 38%|███▊      | 2369/6300 [12:34<26:47,  2.45it/s, curr_speed=37.65 Mbps, mb_sent=785.33 Mb]COMET ERROR: File could not be uploaded\n",
      " 38%|███▊      | 2370/6300 [12:35<26:58,  2.43it/s, curr_speed=37.67 Mbps, mb_sent=785.74 Mb]COMET ERROR: File could not be uploaded\n",
      " 38%|███▊      | 2371/6300 [12:35<27:15,  2.40it/s, curr_speed=37.69 Mbps, mb_sent=786.12 Mb]COMET ERROR: File could not be uploaded\n",
      " 38%|███▊      | 2372/6300 [12:36<27:13,  2.40it/s, curr_speed=37.72 Mbps, mb_sent=786.51 Mb]COMET ERROR: File could not be uploaded\n",
      " 38%|███▊      | 2373/6300 [12:36<27:26,  2.39it/s, curr_speed=37.71 Mbps, mb_sent=786.90 Mb]COMET ERROR: File could not be uploaded\n",
      " 38%|███▊      | 2374/6300 [12:37<27:34,  2.37it/s, curr_speed=37.76 Mbps, mb_sent=787.30 Mb]COMET ERROR: File could not be uploaded\n",
      "COMET ERROR: File could not be uploaded\n",
      " 38%|███▊      | 2376/6300 [12:37<27:29,  2.38it/s, curr_speed=37.73 Mbps, mb_sent=788.08 Mb]COMET ERROR: File could not be uploaded\n",
      "COMET ERROR: File could not be uploaded\n",
      " 38%|███▊      | 2377/6300 [12:38<28:03,  2.33it/s, curr_speed=37.70 Mbps, mb_sent=788.46 Mb]COMET ERROR: File could not be uploaded\n",
      " 38%|███▊      | 2379/6300 [12:39<27:37,  2.37it/s, curr_speed=37.70 Mbps, mb_sent=789.20 Mb]COMET ERROR: File could not be uploaded\n",
      " 38%|███▊      | 2409/6300 [12:50<25:05,  2.59it/s, curr_speed=37.81 Mbps, mb_sent=800.57 Mb]COMET ERROR: File could not be uploaded\n",
      "COMET ERROR: File could not be uploaded\n",
      "COMET ERROR: File could not be uploaded\n",
      "COMET ERROR: File could not be uploaded\n",
      "COMET ERROR: File could not be uploaded\n",
      "COMET ERROR: File could not be uploaded\n",
      "COMET ERROR: File could not be uploaded\n",
      "COMET ERROR: File could not be uploaded\n",
      "COMET ERROR: File could not be uploaded\n",
      "COMET ERROR: File could not be uploaded\n",
      " 38%|███▊      | 2413/6300 [12:52<27:29,  2.36it/s, curr_speed=37.88 Mbps, mb_sent=802.11 Mb]COMET ERROR: File could not be uploaded\n",
      " 38%|███▊      | 2415/6300 [12:53<26:37,  2.43it/s, curr_speed=37.83 Mbps, mb_sent=802.87 Mb]COMET ERROR: File could not be uploaded\n",
      " 38%|███▊      | 2416/6300 [12:53<26:33,  2.44it/s, curr_speed=37.79 Mbps, mb_sent=803.24 Mb]COMET ERROR: File could not be uploaded\n",
      " 38%|███▊      | 2419/6300 [12:55<25:28,  2.54it/s, curr_speed=37.82 Mbps, mb_sent=804.43 Mb]COMET ERROR: File could not be uploaded\n",
      " 38%|███▊      | 2421/6300 [12:55<24:58,  2.59it/s, curr_speed=37.84 Mbps, mb_sent=805.18 Mb]COMET ERROR: File could not be uploaded\n",
      " 38%|███▊      | 2425/6300 [12:57<26:14,  2.46it/s, curr_speed=37.83 Mbps, mb_sent=806.62 Mb]COMET ERROR: File could not be uploaded\n",
      " 39%|███▊      | 2426/6300 [12:57<26:15,  2.46it/s, curr_speed=37.84 Mbps, mb_sent=807.01 Mb]COMET ERROR: File could not be uploaded\n",
      " 39%|███▊      | 2428/6300 [12:58<25:43,  2.51it/s, curr_speed=37.84 Mbps, mb_sent=807.75 Mb]COMET ERROR: File could not be uploaded\n",
      " 39%|███▊      | 2430/6300 [12:59<25:47,  2.50it/s, curr_speed=37.86 Mbps, mb_sent=808.52 Mb]COMET ERROR: File could not be uploaded\n",
      " 39%|███▊      | 2431/6300 [12:59<25:40,  2.51it/s, curr_speed=37.84 Mbps, mb_sent=808.88 Mb]COMET ERROR: File could not be uploaded\n",
      " 39%|███▊      | 2433/6300 [13:00<26:09,  2.46it/s, curr_speed=37.80 Mbps, mb_sent=809.63 Mb]COMET ERROR: File could not be uploaded\n",
      " 39%|███▊      | 2434/6300 [13:01<38:42,  1.66it/s, curr_speed=37.81 Mbps, mb_sent=810.04 Mb]COMET ERROR: File could not be uploaded\n",
      " 39%|███▊      | 2436/6300 [13:02<34:31,  1.87it/s, curr_speed=37.80 Mbps, mb_sent=810.77 Mb]COMET ERROR: File could not be uploaded\n",
      " 39%|███▊      | 2440/6300 [13:04<30:02,  2.14it/s, curr_speed=37.75 Mbps, mb_sent=812.21 Mb]COMET ERROR: File could not be uploaded\n",
      " 39%|███▊      | 2441/6300 [13:04<29:14,  2.20it/s, curr_speed=37.78 Mbps, mb_sent=812.60 Mb]COMET ERROR: File could not be uploaded\n",
      " 39%|███▉      | 2443/6300 [13:05<27:32,  2.33it/s, curr_speed=37.83 Mbps, mb_sent=813.38 Mb]COMET ERROR: File could not be uploaded\n",
      " 39%|███▉      | 2444/6300 [13:06<28:26,  2.26it/s, curr_speed=37.83 Mbps, mb_sent=813.78 Mb]COMET ERROR: File could not be uploaded\n",
      " 39%|███▉      | 2445/6300 [13:06<28:35,  2.25it/s, curr_speed=37.80 Mbps, mb_sent=814.16 Mb]COMET ERROR: File could not be uploaded\n",
      " 39%|███▉      | 2447/6300 [13:07<28:50,  2.23it/s, curr_speed=37.74 Mbps, mb_sent=814.93 Mb]COMET ERROR: File could not be uploaded\n",
      " 39%|███▉      | 2448/6300 [13:08<28:43,  2.23it/s, curr_speed=37.78 Mbps, mb_sent=815.31 Mb]COMET ERROR: File could not be uploaded\n",
      " 39%|███▉      | 2452/6300 [13:09<28:54,  2.22it/s, curr_speed=37.72 Mbps, mb_sent=816.69 Mb]COMET ERROR: File could not be uploaded\n",
      " 39%|███▉      | 2479/6300 [13:20<24:55,  2.56it/s, curr_speed=37.57 Mbps, mb_sent=826.77 Mb]COMET ERROR: File could not be uploaded\n",
      " 40%|███▉      | 2505/6300 [13:31<25:07,  2.52it/s, curr_speed=36.66 Mbps, mb_sent=835.79 Mb]COMET ERROR: File could not be uploaded\n",
      "COMET ERROR: File could not be uploaded\n",
      "COMET ERROR: File could not be uploaded\n",
      "COMET ERROR: File could not be uploaded\n",
      "COMET ERROR: File could not be uploaded\n",
      "COMET ERROR: File could not be uploaded\n",
      "COMET ERROR: File could not be uploaded\n",
      "COMET ERROR: File could not be uploaded\n",
      "COMET ERROR: File could not be uploaded\n",
      "COMET ERROR: File could not be uploaded\n",
      "COMET ERROR: File could not be uploaded\n",
      "COMET ERROR: File could not be uploaded\n",
      "COMET ERROR: File could not be uploaded\n",
      "COMET ERROR: File could not be uploaded\n",
      "COMET ERROR: File could not be uploaded\n",
      "COMET ERROR: File could not be uploaded\n",
      "COMET ERROR: File could not be uploaded\n"
     ]
    },
    {
     "name": "stderr",
     "output_type": "stream",
     "text": [
      "COMET ERROR: File could not be uploaded\n",
      "COMET ERROR: File could not be uploaded\n",
      "COMET ERROR: File could not be uploaded\n",
      "COMET ERROR: File could not be uploaded\n",
      "COMET ERROR: File could not be uploaded\n",
      " 40%|███▉      | 2510/6300 [13:34<28:26,  2.22it/s, curr_speed=36.52 Mbps, mb_sent=837.53 Mb]COMET ERROR: File could not be uploaded\n",
      " 40%|███▉      | 2512/6300 [13:34<26:51,  2.35it/s, curr_speed=36.51 Mbps, mb_sent=838.25 Mb]COMET ERROR: File could not be uploaded\n",
      " 40%|███▉      | 2514/6300 [13:35<25:50,  2.44it/s, curr_speed=36.49 Mbps, mb_sent=838.97 Mb]COMET ERROR: File could not be uploaded\n",
      " 40%|███▉      | 2517/6300 [13:36<25:08,  2.51it/s, curr_speed=36.43 Mbps, mb_sent=840.09 Mb]COMET ERROR: File could not be uploaded\n",
      " 40%|████      | 2520/6300 [13:38<25:08,  2.51it/s, curr_speed=36.33 Mbps, mb_sent=841.15 Mb]COMET ERROR: File could not be uploaded\n",
      " 40%|████      | 2521/6300 [13:38<25:09,  2.50it/s, curr_speed=36.33 Mbps, mb_sent=841.52 Mb]COMET ERROR: File could not be uploaded\n",
      " 40%|████      | 2524/6300 [13:39<24:55,  2.53it/s, curr_speed=36.36 Mbps, mb_sent=842.60 Mb]COMET ERROR: File could not be uploaded\n",
      " 40%|████      | 2526/6300 [13:40<25:20,  2.48it/s, curr_speed=36.30 Mbps, mb_sent=843.31 Mb]COMET ERROR: File could not be uploaded\n",
      " 51%|█████▏    | 3232/6300 [18:46<23:33,  2.17it/s, curr_speed=36.05 Mbps, mb_sent=1096.74 Mb]COMET ERROR: File could not be uploaded\n",
      " 51%|█████▏    | 3233/6300 [18:47<23:57,  2.13it/s, curr_speed=36.09 Mbps, mb_sent=1097.12 Mb]COMET ERROR: File could not be uploaded\n",
      "COMET ERROR: File could not be uploaded\n",
      "COMET ERROR: File could not be uploaded\n",
      "COMET ERROR: File could not be uploaded\n",
      "COMET ERROR: File could not be uploaded\n",
      "COMET ERROR: File could not be uploaded\n",
      " 52%|█████▏    | 3246/6300 [18:53<24:08,  2.11it/s, curr_speed=36.01 Mbps, mb_sent=1101.74 Mb]COMET ERROR: File could not be uploaded\n",
      " 52%|█████▏    | 3249/6300 [18:55<24:01,  2.12it/s, curr_speed=36.04 Mbps, mb_sent=1102.86 Mb]COMET ERROR: File could not be uploaded\n",
      " 52%|█████▏    | 3251/6300 [18:56<24:55,  2.04it/s, curr_speed=36.04 Mbps, mb_sent=1103.56 Mb]COMET ERROR: File could not be uploaded\n",
      "COMET ERROR: File could not be uploaded\n",
      " 52%|█████▏    | 3252/6300 [18:56<25:06,  2.02it/s, curr_speed=36.04 Mbps, mb_sent=1103.93 Mb]COMET ERROR: File could not be uploaded\n",
      " 52%|█████▏    | 3255/6300 [18:58<24:14,  2.09it/s, curr_speed=47.56 Mbps, mb_sent=1116.50 Mb]COMET ERROR: File could not be uploaded\n",
      " 52%|█████▏    | 3257/6300 [18:59<24:00,  2.11it/s, curr_speed=47.65 Mbps, mb_sent=1117.27 Mb]COMET ERROR: File could not be uploaded\n",
      " 52%|█████▏    | 3259/6300 [19:00<24:17,  2.09it/s, curr_speed=47.57 Mbps, mb_sent=1117.96 Mb]COMET ERROR: File could not be uploaded\n",
      " 57%|█████▋    | 3595/6300 [21:40<30:02,  1.50it/s, curr_speed=37.63 Mbps, mb_sent=1244.52 Mb]COMET ERROR: File could not be uploaded\n",
      " 57%|█████▋    | 3600/6300 [21:43<25:12,  1.79it/s, curr_speed=37.56 Mbps, mb_sent=1246.37 Mb]COMET ERROR: File could not be uploaded\n",
      " 57%|█████▋    | 3606/6300 [21:46<23:31,  1.91it/s, curr_speed=37.61 Mbps, mb_sent=1248.72 Mb]COMET ERROR: File could not be uploaded\n",
      " 57%|█████▋    | 3608/6300 [21:47<23:40,  1.89it/s, curr_speed=37.55 Mbps, mb_sent=1249.47 Mb]COMET ERROR: File could not be uploaded\n",
      " 58%|█████▊    | 3653/6300 [22:09<21:40,  2.04it/s, curr_speed=37.79 Mbps, mb_sent=1266.52 Mb]COMET ERROR: File could not be uploaded\n",
      " 58%|█████▊    | 3654/6300 [22:10<22:09,  1.99it/s, curr_speed=37.79 Mbps, mb_sent=1266.90 Mb]COMET ERROR: File could not be uploaded\n",
      "COMET ERROR: File could not be uploaded\n",
      "COMET ERROR: File could not be uploaded\n",
      "COMET ERROR: File could not be uploaded\n",
      "COMET ERROR: File could not be uploaded\n",
      "COMET ERROR: File could not be uploaded\n",
      "COMET ERROR: File could not be uploaded\n",
      " 58%|█████▊    | 3657/6300 [22:11<23:17,  1.89it/s, curr_speed=37.88 Mbps, mb_sent=1268.03 Mb]COMET ERROR: File could not be uploaded\n",
      " 58%|█████▊    | 3663/6300 [22:15<23:07,  1.90it/s, curr_speed=37.98 Mbps, mb_sent=1270.31 Mb]COMET ERROR: File could not be uploaded\n",
      " 58%|█████▊    | 3671/6300 [22:19<21:38,  2.02it/s, curr_speed=37.84 Mbps, mb_sent=1273.28 Mb]COMET ERROR: File could not be uploaded\n",
      " 58%|█████▊    | 3674/6300 [22:20<21:55,  2.00it/s, curr_speed=37.83 Mbps, mb_sent=1274.42 Mb]COMET ERROR: File could not be uploaded\n",
      " 58%|█████▊    | 3682/6300 [22:24<21:39,  2.01it/s, curr_speed=37.80 Mbps, mb_sent=1277.41 Mb]COMET ERROR: File could not be uploaded\n",
      " 59%|█████▊    | 3687/6300 [22:27<22:31,  1.93it/s, curr_speed=37.79 Mbps, mb_sent=1279.28 Mb]COMET ERROR: File could not be uploaded\n",
      " 59%|█████▊    | 3690/6300 [22:28<22:01,  1.98it/s, curr_speed=37.70 Mbps, mb_sent=1280.39 Mb]COMET ERROR: File could not be uploaded\n",
      " 59%|█████▊    | 3691/6300 [22:29<23:42,  1.83it/s, curr_speed=37.79 Mbps, mb_sent=1280.80 Mb]COMET ERROR: File could not be uploaded\n",
      " 59%|█████▊    | 3695/6300 [22:31<23:37,  1.84it/s, curr_speed=37.81 Mbps, mb_sent=1282.33 Mb]COMET ERROR: File could not be uploaded\n",
      " 59%|█████▊    | 3696/6300 [22:32<23:05,  1.88it/s, curr_speed=37.80 Mbps, mb_sent=1282.69 Mb]COMET ERROR: File could not be uploaded\n",
      " 59%|█████▊    | 3697/6300 [22:32<23:04,  1.88it/s, curr_speed=37.88 Mbps, mb_sent=1283.10 Mb]COMET ERROR: File could not be uploaded\n",
      " 59%|█████▊    | 3699/6300 [22:33<23:14,  1.87it/s, curr_speed=37.84 Mbps, mb_sent=1283.85 Mb]COMET ERROR: File could not be uploaded\n",
      " 59%|█████▉    | 3709/6300 [22:38<21:16,  2.03it/s, curr_speed=37.76 Mbps, mb_sent=1287.63 Mb]COMET ERROR: File could not be uploaded\n",
      " 59%|█████▉    | 3719/6300 [22:43<21:06,  2.04it/s, curr_speed=37.90 Mbps, mb_sent=1291.52 Mb]COMET ERROR: File could not be uploaded\n",
      " 59%|█████▉    | 3720/6300 [22:44<22:39,  1.90it/s, curr_speed=37.90 Mbps, mb_sent=1291.90 Mb]COMET ERROR: File could not be uploaded\n",
      " 59%|█████▉    | 3722/6300 [22:45<22:23,  1.92it/s, curr_speed=37.84 Mbps, mb_sent=1292.58 Mb]COMET ERROR: File could not be uploaded\n",
      " 59%|█████▉    | 3727/6300 [22:48<23:27,  1.83it/s, curr_speed=37.79 Mbps, mb_sent=1294.51 Mb]COMET ERROR: File could not be uploaded\n",
      " 59%|█████▉    | 3730/6300 [22:49<22:48,  1.88it/s, curr_speed=37.70 Mbps, mb_sent=1295.62 Mb]COMET ERROR: File could not be uploaded\n",
      " 59%|█████▉    | 3736/6300 [22:53<22:02,  1.94it/s, curr_speed=37.69 Mbps, mb_sent=1297.84 Mb]COMET ERROR: File could not be uploaded\n",
      " 60%|█████▉    | 3749/6300 [22:59<20:23,  2.09it/s, curr_speed=37.66 Mbps, mb_sent=1302.69 Mb]COMET ERROR: File could not be uploaded\n",
      " 60%|█████▉    | 3753/6300 [23:01<22:09,  1.92it/s, curr_speed=37.70 Mbps, mb_sent=1304.22 Mb]COMET ERROR: File could not be uploaded\n",
      " 60%|█████▉    | 3757/6300 [23:04<24:17,  1.74it/s, curr_speed=37.66 Mbps, mb_sent=1305.70 Mb]COMET ERROR: File could not be uploaded\n",
      " 60%|█████▉    | 3759/6300 [23:05<23:18,  1.82it/s, curr_speed=37.69 Mbps, mb_sent=1306.52 Mb]COMET ERROR: File could not be uploaded\n",
      " 60%|█████▉    | 3768/6300 [23:09<22:04,  1.91it/s, curr_speed=37.85 Mbps, mb_sent=1310.04 Mb]COMET ERROR: File could not be uploaded\n",
      " 60%|█████▉    | 3770/6300 [23:10<21:34,  1.95it/s, curr_speed=37.85 Mbps, mb_sent=1310.79 Mb]COMET ERROR: File could not be uploaded\n",
      " 60%|█████▉    | 3771/6300 [23:11<21:49,  1.93it/s, curr_speed=37.88 Mbps, mb_sent=1311.16 Mb]COMET ERROR: File could not be uploaded\n",
      " 60%|█████▉    | 3773/6300 [23:12<21:23,  1.97it/s, curr_speed=37.89 Mbps, mb_sent=1311.94 Mb]COMET ERROR: File could not be uploaded\n",
      " 60%|█████▉    | 3774/6300 [23:12<21:18,  1.98it/s, curr_speed=37.92 Mbps, mb_sent=1312.34 Mb]COMET ERROR: File could not be uploaded\n",
      " 60%|█████▉    | 3776/6300 [23:14<22:39,  1.86it/s, curr_speed=37.95 Mbps, mb_sent=1313.12 Mb]COMET ERROR: File could not be uploaded\n",
      " 60%|██████    | 3811/6300 [23:31<21:03,  1.97it/s, curr_speed=37.98 Mbps, mb_sent=1326.41 Mb]COMET ERROR: File could not be uploaded\n",
      "COMET ERROR: File could not be uploaded\n",
      "COMET ERROR: File could not be uploaded\n",
      "COMET ERROR: File could not be uploaded\n",
      " 61%|██████    | 3812/6300 [23:32<21:59,  1.89it/s, curr_speed=37.93 Mbps, mb_sent=1326.76 Mb]COMET ERROR: File could not be uploaded\n",
      " 61%|██████    | 3817/6300 [23:35<22:19,  1.85it/s, curr_speed=37.92 Mbps, mb_sent=1328.70 Mb]COMET ERROR: File could not be uploaded\n",
      " 61%|██████    | 3819/6300 [23:36<21:46,  1.90it/s, curr_speed=37.91 Mbps, mb_sent=1329.43 Mb]COMET ERROR: File could not be uploaded\n",
      " 61%|██████    | 3823/6300 [23:38<22:13,  1.86it/s, curr_speed=37.86 Mbps, mb_sent=1330.85 Mb]COMET ERROR: File could not be uploaded\n",
      " 61%|██████    | 3825/6300 [23:39<21:02,  1.96it/s, curr_speed=37.80 Mbps, mb_sent=1331.53 Mb]COMET ERROR: File could not be uploaded\n",
      " 61%|██████    | 3827/6300 [23:40<21:07,  1.95it/s, curr_speed=37.79 Mbps, mb_sent=1332.30 Mb]COMET ERROR: File could not be uploaded\n",
      " 61%|██████    | 3829/6300 [23:41<21:08,  1.95it/s, curr_speed=37.83 Mbps, mb_sent=1333.07 Mb]COMET ERROR: File could not be uploaded\n",
      " 61%|██████    | 3850/6300 [23:52<20:01,  2.04it/s, curr_speed=37.60 Mbps, mb_sent=1340.71 Mb]COMET ERROR: File could not be uploaded\n",
      " 61%|██████    | 3851/6300 [23:52<20:30,  1.99it/s, curr_speed=37.63 Mbps, mb_sent=1341.10 Mb]COMET ERROR: File could not be uploaded\n",
      "COMET ERROR: File could not be uploaded\n",
      "COMET ERROR: File could not be uploaded\n",
      "COMET ERROR: File could not be uploaded\n",
      "COMET ERROR: File could not be uploaded\n",
      " 61%|██████▏   | 3861/6300 [23:57<20:56,  1.94it/s, curr_speed=37.61 Mbps, mb_sent=1344.91 Mb]COMET ERROR: File could not be uploaded\n",
      " 61%|██████▏   | 3869/6300 [24:02<20:56,  1.93it/s, curr_speed=37.57 Mbps, mb_sent=1347.99 Mb]COMET ERROR: File could not be uploaded\n",
      " 62%|██████▏   | 3880/6300 [24:08<21:01,  1.92it/s, curr_speed=37.72 Mbps, mb_sent=1352.38 Mb]COMET ERROR: File could not be uploaded\n",
      " 62%|██████▏   | 3885/6300 [24:10<21:52,  1.84it/s, curr_speed=37.65 Mbps, mb_sent=1354.27 Mb]COMET ERROR: File could not be uploaded\n",
      " 62%|██████▏   | 3887/6300 [24:11<21:20,  1.89it/s, curr_speed=37.61 Mbps, mb_sent=1354.98 Mb]COMET ERROR: File could not be uploaded\n",
      " 62%|██████▏   | 3898/6300 [24:17<20:29,  1.95it/s, curr_speed=37.73 Mbps, mb_sent=1359.23 Mb]COMET ERROR: File could not be uploaded\n",
      " 62%|██████▏   | 3899/6300 [24:18<20:40,  1.94it/s, curr_speed=37.70 Mbps, mb_sent=1359.60 Mb]COMET ERROR: File could not be uploaded\n",
      " 62%|██████▏   | 3903/6300 [24:20<21:48,  1.83it/s, curr_speed=37.70 Mbps, mb_sent=1361.13 Mb]COMET ERROR: File could not be uploaded\n",
      " 62%|██████▏   | 3904/6300 [24:20<21:40,  1.84it/s, curr_speed=37.71 Mbps, mb_sent=1361.51 Mb]COMET ERROR: File could not be uploaded\n",
      " 62%|██████▏   | 3922/6300 [24:30<20:57,  1.89it/s, curr_speed=37.72 Mbps, mb_sent=1368.21 Mb]COMET ERROR: File could not be uploaded\n",
      " 62%|██████▏   | 3925/6300 [24:32<20:48,  1.90it/s, curr_speed=37.78 Mbps, mb_sent=1369.31 Mb]COMET ERROR: File could not be uploaded\n",
      " 62%|██████▏   | 3931/6300 [24:35<20:24,  1.93it/s, curr_speed=37.76 Mbps, mb_sent=1371.61 Mb]COMET ERROR: File could not be uploaded\n",
      " 62%|██████▏   | 3933/6300 [24:36<20:25,  1.93it/s, curr_speed=37.81 Mbps, mb_sent=1372.41 Mb]COMET ERROR: File could not be uploaded\n",
      " 63%|██████▎   | 3950/6300 [24:45<22:47,  1.72it/s, curr_speed=38.15 Mbps, mb_sent=1378.87 Mb]COMET ERROR: File could not be uploaded\n",
      " 63%|██████▎   | 3954/6300 [24:47<22:08,  1.77it/s, curr_speed=38.17 Mbps, mb_sent=1380.34 Mb]COMET ERROR: File could not be uploaded\n",
      " 63%|██████▎   | 3961/6300 [24:51<20:23,  1.91it/s, curr_speed=38.09 Mbps, mb_sent=1383.00 Mb]COMET ERROR: File could not be uploaded\n",
      " 63%|██████▎   | 3962/6300 [24:51<20:24,  1.91it/s, curr_speed=38.08 Mbps, mb_sent=1383.38 Mb]COMET ERROR: File could not be uploaded\n",
      " 63%|██████▎   | 3975/6300 [24:58<19:40,  1.97it/s, curr_speed=37.84 Mbps, mb_sent=1388.25 Mb]COMET ERROR: File could not be uploaded\n",
      " 63%|██████▎   | 3982/6300 [25:02<19:57,  1.94it/s, curr_speed=37.65 Mbps, mb_sent=1390.82 Mb]COMET ERROR: File could not be uploaded\n",
      " 64%|██████▎   | 4003/6300 [25:12<18:56,  2.02it/s, curr_speed=37.70 Mbps, mb_sent=1398.83 Mb]COMET ERROR: File could not be uploaded\n",
      " 64%|██████▎   | 4004/6300 [25:13<19:28,  1.97it/s, curr_speed=37.69 Mbps, mb_sent=1399.19 Mb]COMET ERROR: File could not be uploaded\n",
      "COMET ERROR: File could not be uploaded\n",
      "COMET ERROR: File could not be uploaded\n",
      "COMET ERROR: File could not be uploaded\n",
      " 64%|██████▎   | 4007/6300 [25:15<24:05,  1.59it/s, curr_speed=37.83 Mbps, mb_sent=1400.42 Mb]COMET ERROR: File could not be uploaded\n",
      " 64%|██████▎   | 4011/6300 [25:17<22:08,  1.72it/s, curr_speed=37.76 Mbps, mb_sent=1401.93 Mb]COMET ERROR: File could not be uploaded\n",
      " 64%|██████▎   | 4013/6300 [25:18<21:07,  1.80it/s, curr_speed=37.81 Mbps, mb_sent=1402.66 Mb]COMET ERROR: File could not be uploaded\n",
      " 64%|██████▎   | 4016/6300 [25:20<20:40,  1.84it/s, curr_speed=37.86 Mbps, mb_sent=1403.79 Mb]COMET ERROR: File could not be uploaded\n",
      " 64%|██████▍   | 4017/6300 [25:21<21:12,  1.79it/s, curr_speed=37.90 Mbps, mb_sent=1404.19 Mb]COMET ERROR: File could not be uploaded\n",
      " 64%|██████▍   | 4024/6300 [25:24<20:17,  1.87it/s, curr_speed=37.91 Mbps, mb_sent=1406.88 Mb]COMET ERROR: File could not be uploaded\n",
      " 64%|██████▍   | 4025/6300 [25:25<20:16,  1.87it/s, curr_speed=37.91 Mbps, mb_sent=1407.21 Mb]COMET ERROR: File could not be uploaded\n",
      " 64%|██████▍   | 4031/6300 [25:28<20:35,  1.84it/s, curr_speed=37.91 Mbps, mb_sent=1409.52 Mb]COMET ERROR: File could not be uploaded\n",
      " 64%|██████▍   | 4032/6300 [25:29<20:37,  1.83it/s, curr_speed=37.85 Mbps, mb_sent=1409.85 Mb]COMET ERROR: File could not be uploaded\n",
      " 64%|██████▍   | 4033/6300 [25:29<21:04,  1.79it/s, curr_speed=37.82 Mbps, mb_sent=1410.23 Mb]COMET ERROR: File could not be uploaded\n",
      " 71%|███████   | 4459/6300 [29:21<17:28,  1.76it/s, curr_speed=37.88 Mbps, mb_sent=1570.72 Mb]COMET ERROR: File could not be uploaded\n",
      " 71%|███████   | 4461/6300 [29:22<17:13,  1.78it/s, curr_speed=37.86 Mbps, mb_sent=1571.45 Mb]COMET ERROR: File could not be uploaded\n",
      " 71%|███████   | 4478/6300 [29:32<16:20,  1.86it/s, curr_speed=37.88 Mbps, mb_sent=1577.86 Mb]COMET ERROR: File could not be uploaded\n",
      " 71%|███████   | 4482/6300 [29:34<17:29,  1.73it/s, curr_speed=37.89 Mbps, mb_sent=1579.40 Mb]COMET ERROR: File could not be uploaded\n",
      " 71%|███████   | 4486/6300 [29:36<17:57,  1.68it/s, curr_speed=37.95 Mbps, mb_sent=1581.01 Mb]COMET ERROR: File could not be uploaded\n",
      " 71%|███████▏  | 4489/6300 [29:38<17:12,  1.75it/s, curr_speed=37.92 Mbps, mb_sent=1582.06 Mb]COMET ERROR: File could not be uploaded\n",
      " 71%|███████▏  | 4495/6300 [29:42<18:29,  1.63it/s, curr_speed=37.92 Mbps, mb_sent=1584.34 Mb]COMET ERROR: File could not be uploaded\n",
      " 71%|███████▏  | 4496/6300 [29:42<18:02,  1.67it/s, curr_speed=37.90 Mbps, mb_sent=1584.71 Mb]COMET ERROR: File could not be uploaded\n",
      " 71%|███████▏  | 4499/6300 [29:44<18:27,  1.63it/s, curr_speed=37.88 Mbps, mb_sent=1585.76 Mb]COMET ERROR: File could not be uploaded\n",
      " 71%|███████▏  | 4500/6300 [29:45<18:57,  1.58it/s, curr_speed=37.92 Mbps, mb_sent=1586.14 Mb]COMET ERROR: File could not be uploaded\n",
      " 72%|███████▏  | 4508/6300 [29:50<17:22,  1.72it/s, curr_speed=38.09 Mbps, mb_sent=1589.29 Mb]COMET ERROR: File could not be uploaded\n",
      " 72%|███████▏  | 4516/6300 [29:54<16:53,  1.76it/s, curr_speed=38.07 Mbps, mb_sent=1592.41 Mb]COMET ERROR: File could not be uploaded\n",
      " 72%|███████▏  | 4521/6300 [29:57<17:51,  1.66it/s, curr_speed=38.12 Mbps, mb_sent=1594.39 Mb]COMET ERROR: File could not be uploaded\n",
      " 72%|███████▏  | 4523/6300 [29:58<17:35,  1.68it/s, curr_speed=38.20 Mbps, mb_sent=1595.14 Mb]COMET ERROR: File could not be uploaded\n",
      " 72%|███████▏  | 4543/6300 [30:10<17:17,  1.69it/s, curr_speed=38.14 Mbps, mb_sent=1602.69 Mb]COMET ERROR: File could not be uploaded\n",
      " 72%|███████▏  | 4553/6300 [30:16<16:32,  1.76it/s, curr_speed=37.99 Mbps, mb_sent=1606.43 Mb]COMET ERROR: File could not be uploaded\n",
      " 72%|███████▏  | 4554/6300 [30:17<16:39,  1.75it/s, curr_speed=38.00 Mbps, mb_sent=1606.83 Mb]COMET ERROR: File could not be uploaded\n",
      " 72%|███████▏  | 4555/6300 [30:17<16:45,  1.74it/s, curr_speed=37.93 Mbps, mb_sent=1607.15 Mb]COMET ERROR: File could not be uploaded\n",
      " 72%|███████▏  | 4560/6300 [30:20<17:08,  1.69it/s, curr_speed=37.85 Mbps, mb_sent=1608.96 Mb]COMET ERROR: File could not be uploaded\n",
      " 72%|███████▏  | 4563/6300 [30:22<17:02,  1.70it/s, curr_speed=37.89 Mbps, mb_sent=1610.06 Mb]COMET ERROR: File could not be uploaded\n",
      " 72%|███████▏  | 4565/6300 [30:23<16:54,  1.71it/s, curr_speed=37.88 Mbps, mb_sent=1610.78 Mb]COMET ERROR: File could not be uploaded\n"
     ]
    },
    {
     "name": "stderr",
     "output_type": "stream",
     "text": [
      " 73%|███████▎  | 4568/6300 [30:25<17:04,  1.69it/s, curr_speed=37.88 Mbps, mb_sent=1611.93 Mb]COMET ERROR: File could not be uploaded\n",
      " 73%|███████▎  | 4576/6300 [30:30<17:00,  1.69it/s, curr_speed=37.79 Mbps, mb_sent=1614.85 Mb]COMET ERROR: File could not be uploaded\n",
      " 73%|███████▎  | 4595/6300 [30:41<16:03,  1.77it/s, curr_speed=37.88 Mbps, mb_sent=1622.21 Mb]COMET ERROR: File could not be uploaded\n",
      " 73%|███████▎  | 4605/6300 [30:47<16:06,  1.75it/s, curr_speed=38.05 Mbps, mb_sent=1626.10 Mb]COMET ERROR: File could not be uploaded\n",
      " 73%|███████▎  | 4608/6300 [30:48<16:30,  1.71it/s, curr_speed=38.01 Mbps, mb_sent=1627.30 Mb]COMET ERROR: File could not be uploaded\n",
      " 73%|███████▎  | 4610/6300 [30:50<16:32,  1.70it/s, curr_speed=37.99 Mbps, mb_sent=1628.07 Mb]COMET ERROR: File could not be uploaded\n",
      " 73%|███████▎  | 4617/6300 [30:54<16:00,  1.75it/s, curr_speed=37.85 Mbps, mb_sent=1630.68 Mb]COMET ERROR: File could not be uploaded\n",
      " 73%|███████▎  | 4625/6300 [30:58<16:00,  1.74it/s, curr_speed=37.85 Mbps, mb_sent=1633.71 Mb]COMET ERROR: File could not be uploaded\n",
      " 74%|███████▎  | 4635/6300 [31:04<15:20,  1.81it/s, curr_speed=37.96 Mbps, mb_sent=1637.61 Mb]COMET ERROR: File could not be uploaded\n",
      " 74%|███████▍  | 4654/6300 [31:15<16:47,  1.63it/s, curr_speed=38.13 Mbps, mb_sent=1644.97 Mb]COMET ERROR: File could not be uploaded\n",
      " 74%|███████▍  | 4661/6300 [31:19<16:11,  1.69it/s, curr_speed=38.31 Mbps, mb_sent=1647.63 Mb]COMET ERROR: File could not be uploaded\n",
      " 74%|███████▍  | 4667/6300 [31:23<16:09,  1.68it/s, curr_speed=38.30 Mbps, mb_sent=1649.85 Mb]COMET ERROR: File could not be uploaded\n",
      " 79%|███████▉  | 5005/6300 [34:43<13:08,  1.64it/s, curr_speed=37.60 Mbps, mb_sent=1776.77 Mb]COMET ERROR: File could not be uploaded\n",
      " 80%|███████▉  | 5025/6300 [34:56<12:28,  1.70it/s, curr_speed=37.63 Mbps, mb_sent=1784.28 Mb]COMET ERROR: File could not be uploaded\n",
      "COMET ERROR: File could not be uploaded\n",
      "COMET ERROR: File could not be uploaded\n",
      "COMET ERROR: File could not be uploaded\n",
      " 80%|███████▉  | 5033/6300 [35:01<13:00,  1.62it/s, curr_speed=37.60 Mbps, mb_sent=1787.20 Mb]COMET ERROR: File could not be uploaded\n",
      " 80%|███████▉  | 5034/6300 [35:01<12:59,  1.62it/s, curr_speed=37.57 Mbps, mb_sent=1787.59 Mb]COMET ERROR: File could not be uploaded\n",
      " 80%|███████▉  | 5035/6300 [35:02<13:09,  1.60it/s, curr_speed=37.60 Mbps, mb_sent=1787.99 Mb]COMET ERROR: File could not be uploaded\n",
      " 80%|███████▉  | 5036/6300 [35:03<13:23,  1.57it/s, curr_speed=37.55 Mbps, mb_sent=1788.34 Mb]COMET ERROR: File could not be uploaded\n",
      " 80%|███████▉  | 5039/6300 [35:05<14:33,  1.44it/s, curr_speed=37.62 Mbps, mb_sent=1789.54 Mb]COMET ERROR: File could not be uploaded\n",
      " 80%|████████  | 5044/6300 [35:08<13:33,  1.54it/s, curr_speed=37.62 Mbps, mb_sent=1791.42 Mb]COMET ERROR: File could not be uploaded\n",
      " 80%|████████  | 5045/6300 [35:09<13:46,  1.52it/s, curr_speed=37.57 Mbps, mb_sent=1791.79 Mb]COMET ERROR: File could not be uploaded\n",
      "100%|██████████| 6300/6300 [48:55<00:00,  2.15it/s, curr_speed=37.62 Mbps, mb_sent=2257.96 Mb]\n"
     ]
    },
    {
     "name": "stdout",
     "output_type": "stream",
     "text": [
      "Waiting for simulation script to connect on port: tcp://localhost:53198\n",
      "Please start proper ns-3 simulation script using ./waf --run \"...\"\n",
      "Sent 2257.96 Mb/s.\tMean speed: 37.63 Mb/s\tEpisode 11/15 finished\n",
      "\n",
      "11\n",
      "40.790771|0|5|-nan\n"
     ]
    },
    {
     "name": "stderr",
     "output_type": "stream",
     "text": [
      "100%|██████████| 6300/6300 [47:54<00:00,  2.19it/s, curr_speed=37.61 Mbps, mb_sent=2261.12 Mb]\n"
     ]
    },
    {
     "name": "stdout",
     "output_type": "stream",
     "text": [
      "Waiting for simulation script to connect on port: tcp://localhost:33324\n",
      "Please start proper ns-3 simulation script using ./waf --run \"...\"\n",
      "WARNING:tensorflow:From /home/sheila/anaconda3/envs/environment_py3_7/lib/python3.7/site-packages/tensorflow/python/training/saver.py:960: remove_checkpoint (from tensorflow.python.training.checkpoint_management) is deprecated and will be removed in a future version.\n",
      "Instructions for updating:\n",
      "Use standard file APIs to delete files with this prefix.\n",
      "Sent 2261.12 Mb/s.\tMean speed: 37.69 Mb/s\tEpisode 12/15 finished\n",
      "\n",
      "12\n",
      "Turning off noise\n",
      "40.790771|0|5|-nan\n"
     ]
    },
    {
     "name": "stderr",
     "output_type": "stream",
     "text": [
      "100%|██████████| 6300/6300 [1:30:53<00:00,  1.16it/s, curr_speed=37.32 Mbps, mb_sent=2263.47 Mb]\n"
     ]
    },
    {
     "name": "stdout",
     "output_type": "stream",
     "text": [
      "Waiting for simulation script to connect on port: tcp://localhost:37347\n",
      "Please start proper ns-3 simulation script using ./waf --run \"...\"\n",
      "Sent 2263.47 Mb/s.\tMean speed: 37.72 Mb/s\tEpisode 13/15 finished\n",
      "\n",
      "13\n",
      "Turning off noise\n",
      "40.790771|0|5|-nan\n"
     ]
    },
    {
     "name": "stderr",
     "output_type": "stream",
     "text": [
      "100%|██████████| 6300/6300 [1:42:50<00:00,  1.02it/s, curr_speed=37.51 Mbps, mb_sent=2262.19 Mb]\n"
     ]
    },
    {
     "name": "stdout",
     "output_type": "stream",
     "text": [
      "Waiting for simulation script to connect on port: tcp://localhost:34536\n",
      "Please start proper ns-3 simulation script using ./waf --run \"...\"\n",
      "Sent 2262.19 Mb/s.\tMean speed: 37.70 Mb/s\tEpisode 14/15 finished\n",
      "\n",
      "14\n",
      "Turning off noise\n",
      "40.790771|0|5|-nan\n"
     ]
    },
    {
     "name": "stderr",
     "output_type": "stream",
     "text": [
      "100%|██████████| 6300/6300 [1:41:08<00:00,  1.04it/s, curr_speed=36.71 Mbps, mb_sent=2262.46 Mb]\n"
     ]
    },
    {
     "name": "stdout",
     "output_type": "stream",
     "text": [
      "Waiting for simulation script to connect on port: tcp://localhost:52490\n",
      "Please start proper ns-3 simulation script using ./waf --run \"...\"\n"
     ]
    },
    {
     "name": "stderr",
     "output_type": "stream",
     "text": [
      "COMET INFO: ----------------------------\n",
      "COMET INFO: Comet.ml Experiment Summary:\n",
      "COMET INFO:   Data:\n",
      "COMET INFO:     url: https://www.comet.com/sheila-janota/rl-in-wifi-with-queue-level/78987b3832974b3398fe55f3e38944ea\n",
      "COMET INFO:   Metrics [count] (min, max):\n",
      "COMET INFO:     Chosen CW [89985]           : (16.0, 1024.0)\n",
      "COMET INFO:     Cumulative reward [15]      : (2603.177978515625, 3163.317626953125)\n",
      "COMET INFO:     Current throughput [89985]  : (23.17657470703125, 59.07512664794922)\n",
      "COMET INFO:     Fairness index [89985]      : (0.025675000622868538, 0.9942060112953186)\n",
      "COMET INFO:     Megabytes sent [89985]      : (0.3239139914512634, 2263.4744570851326)\n",
      "COMET INFO:     Observation 0 [89985]       : (0.044782353773092226, 0.9673490197459856)\n",
      "COMET INFO:     Observation 1 [89985]       : (0.003994262105884034, 0.019520594415816838)\n",
      "COMET INFO:     Per-ep reward [89985]       : (96.757080078125, 3163.317626953125)\n",
      "COMET INFO:     Round megabytes sent [89985]: (0.0, 11.80609130859375)\n",
      "COMET INFO:     Round reward [89985]        : (0.0, 0.938232421875)\n",
      "COMET INFO:     Speed [15]                  : (31.772570110391825, 37.72457428475221)\n",
      "COMET INFO:     Station count [89985]       : (5.0, 50.0)\n",
      "COMET INFO:     loss [89985]                : (0.0, 0.17203933000564575)\n",
      "COMET INFO:   Uploads:\n",
      "COMET INFO:     histogram3d: 89985\n",
      "COMET INFO: ----------------------------\n",
      "COMET INFO: Uploading stats to Comet before program termination (may take several seconds)\n"
     ]
    },
    {
     "name": "stdout",
     "output_type": "stream",
     "text": [
      "Sent 2262.46 Mb/s.\tMean speed: 37.71 Mb/s\tEpisode 15/15 finished\n",
      "\n"
     ]
    },
    {
     "name": "stderr",
     "output_type": "stream",
     "text": [
      "COMET INFO: Waiting for completion of the file uploads (may take several seconds)\n",
      "COMET INFO: Still uploading\n",
      "COMET INFO: Still uploading\n",
      "COMET INFO: Still uploading\n",
      "COMET INFO: Still uploading\n",
      "COMET INFO: Still uploading\n",
      "COMET INFO: Still uploading\n",
      "COMET INFO: Still uploading\n",
      "COMET INFO: Still uploading\n",
      "COMET INFO: Still uploading\n",
      "COMET INFO: Still uploading\n",
      "COMET INFO: Still uploading\n",
      "COMET INFO: Still uploading\n",
      "COMET INFO: Still uploading\n",
      "COMET INFO: Still uploading\n",
      "COMET INFO: Still uploading\n",
      "COMET INFO: Still uploading\n",
      "COMET INFO: Still uploading\n",
      "COMET INFO: Still uploading\n",
      "COMET INFO: Still uploading\n",
      "COMET INFO: Still uploading\n",
      "COMET INFO: Still uploading\n",
      "COMET INFO: Still uploading\n",
      "COMET INFO: Still uploading\n",
      "COMET INFO: Still uploading\n",
      "COMET INFO: Still uploading\n",
      "COMET INFO: Still uploading\n",
      "COMET INFO: Still uploading\n",
      "COMET INFO: Still uploading\n",
      "COMET INFO: Still uploading\n",
      "COMET INFO: Still uploading\n",
      "COMET INFO: Still uploading\n",
      "COMET INFO: Still uploading\n",
      "COMET INFO: Still uploading\n",
      "COMET INFO: Still uploading\n",
      "COMET INFO: Still uploading\n",
      "COMET INFO: Still uploading\n",
      "COMET INFO: Still uploading\n",
      "COMET INFO: Still uploading\n",
      "COMET INFO: Still uploading\n",
      "COMET INFO: Still uploading\n",
      "COMET INFO: Still uploading\n",
      "COMET INFO: Still uploading\n",
      "COMET INFO: Still uploading\n",
      "COMET INFO: Still uploading\n",
      "COMET INFO: Still uploading\n",
      "COMET INFO: Still uploading\n",
      "COMET INFO: Still uploading\n",
      "COMET INFO: Still uploading\n",
      "COMET INFO: Still uploading\n",
      "COMET INFO: Still uploading\n",
      "COMET INFO: Still uploading\n",
      "COMET INFO: Still uploading\n",
      "COMET INFO: Still uploading\n",
      "COMET INFO: Still uploading\n",
      "COMET INFO: Still uploading\n",
      "COMET INFO: Still uploading\n",
      "COMET INFO: Still uploading\n",
      "COMET INFO: Still uploading\n",
      "COMET INFO: Still uploading\n",
      "COMET INFO: Still uploading\n",
      "COMET INFO: Still uploading\n",
      "COMET INFO: Still uploading\n",
      "COMET INFO: Still uploading\n",
      "COMET INFO: Still uploading\n",
      "COMET INFO: Still uploading\n",
      "COMET INFO: Still uploading\n",
      "COMET INFO: Still uploading\n",
      "COMET INFO: Still uploading\n",
      "COMET INFO: Still uploading\n",
      "COMET INFO: Still uploading\n",
      "COMET INFO: Still uploading\n",
      "COMET INFO: Still uploading\n",
      "COMET INFO: Still uploading\n",
      "COMET INFO: Still uploading\n",
      "COMET INFO: Still uploading\n",
      "COMET INFO: Still uploading\n",
      "COMET INFO: Still uploading\n",
      "COMET INFO: Still uploading\n",
      "COMET INFO: Still uploading\n",
      "COMET INFO: Still uploading\n",
      "COMET INFO: Still uploading\n",
      "COMET INFO: Still uploading\n",
      "COMET INFO: Still uploading\n",
      "COMET INFO: Still uploading\n",
      "COMET INFO: Still uploading\n",
      "COMET INFO: Still uploading\n",
      "COMET INFO: Still uploading\n",
      "COMET INFO: Still uploading\n",
      "COMET INFO: Still uploading\n",
      "COMET INFO: Still uploading\n",
      "COMET INFO: Still uploading\n",
      "COMET INFO: Still uploading\n",
      "COMET INFO: Still uploading\n",
      "COMET INFO: Still uploading\n",
      "COMET INFO: Still uploading\n",
      "COMET INFO: Still uploading\n",
      "COMET INFO: Still uploading\n",
      "COMET INFO: Still uploading\n",
      "COMET INFO: Still uploading\n",
      "COMET INFO: Still uploading\n",
      "COMET INFO: Still uploading\n",
      "COMET INFO: Still uploading\n",
      "COMET INFO: Still uploading\n",
      "COMET INFO: Still uploading\n",
      "COMET INFO: Still uploading\n",
      "COMET INFO: Still uploading\n",
      "COMET INFO: Still uploading\n",
      "COMET INFO: Still uploading\n",
      "COMET INFO: Still uploading\n",
      "COMET INFO: Still uploading\n",
      "COMET INFO: Still uploading\n",
      "COMET INFO: Still uploading\n",
      "COMET INFO: Still uploading\n",
      "COMET INFO: Still uploading\n",
      "COMET INFO: Still uploading\n",
      "COMET INFO: Still uploading\n",
      "COMET INFO: Still uploading\n",
      "COMET INFO: Still uploading\n",
      "COMET INFO: Still uploading\n",
      "COMET ERROR: Comet failed to send all the data back (0 messages and 1 uploads)\n",
      "COMET WARNING: Failed to log run in comet.ml\n"
     ]
    },
    {
     "name": "stdout",
     "output_type": "stream",
     "text": [
      "Training finished.\n"
     ]
    }
   ],
   "source": [
    "#%%\n",
    "teacher = Teacher(env, 1, Preprocessor(False))\n",
    "\n",
    "lr = 4e-4\n",
    "config = Config(buffer_size=3*steps_per_ep*threads_no, batch_size=32, gamma=0.7, tau=1e-3, lr=lr, update_every=1)\n",
    "agent = Agent(QNetworkTf, history_length, action_size=7, config=config)\n",
    "agent.set_epsilon(0.9, 0.001, EPISODE_COUNT-2)\n",
    "\n",
    "# Test the model\n",
    "hyperparams = {**config.__dict__, **sim_args}\n",
    "tags = [\"Rew: normalized speed\",\n",
    "        \"Final\",\n",
    "        f\"{Agent.NAME}\",\n",
    "        sim_args['scenario'],\n",
    "        f\"LR: {lr}\",\n",
    "        f\"Instances: {threads_no}\",\n",
    "        f\"Station count: {sim_args['nWifi']}\",\n",
    "        *[f\"{key}: {sim_args[key]}\" for key in list(sim_args)[:3]]]\n",
    "# # agent.save()\n",
    "logger = teacher.train(agent, EPISODE_COUNT,\n",
    "                        simTime=simTime,\n",
    "                        stepTime=stepTime,\n",
    "                        history_length=history_length,\n",
    "                        send_logs=True,\n",
    "                        experimental=True,\n",
    "                        tags=tags,\n",
    "                        parameters=hyperparams)\n",
    "#logger = teacher.eval(agent,\n",
    "#                        simTime=simTime,\n",
    "#                        stepTime=stepTime,\n",
    "#                        history_length=history_length,\n",
    "#                        tags=tags,\n",
    "#                        parameters=hyperparams)\n",
    "# agent.save()\n",
    "\n",
    "\n",
    "# %%"
   ]
  },
  {
   "cell_type": "code",
   "execution_count": null,
   "id": "643d8f49",
   "metadata": {},
   "outputs": [],
   "source": []
  },
  {
   "cell_type": "code",
   "execution_count": 1,
   "id": "713d32b1",
   "metadata": {},
   "outputs": [
    {
     "name": "stderr",
     "output_type": "stream",
     "text": [
      "/home/sheila/anaconda3/envs/environment_py3_7/lib/python3.7/site-packages/tensorflow/python/framework/dtypes.py:516: FutureWarning: Passing (type, 1) or '1type' as a synonym of type is deprecated; in a future version of numpy, it will be understood as (type, (1,)) / '(1,)type'.\n",
      "  _np_qint8 = np.dtype([(\"qint8\", np.int8, 1)])\n",
      "/home/sheila/anaconda3/envs/environment_py3_7/lib/python3.7/site-packages/tensorflow/python/framework/dtypes.py:517: FutureWarning: Passing (type, 1) or '1type' as a synonym of type is deprecated; in a future version of numpy, it will be understood as (type, (1,)) / '(1,)type'.\n",
      "  _np_quint8 = np.dtype([(\"quint8\", np.uint8, 1)])\n",
      "/home/sheila/anaconda3/envs/environment_py3_7/lib/python3.7/site-packages/tensorflow/python/framework/dtypes.py:518: FutureWarning: Passing (type, 1) or '1type' as a synonym of type is deprecated; in a future version of numpy, it will be understood as (type, (1,)) / '(1,)type'.\n",
      "  _np_qint16 = np.dtype([(\"qint16\", np.int16, 1)])\n",
      "/home/sheila/anaconda3/envs/environment_py3_7/lib/python3.7/site-packages/tensorflow/python/framework/dtypes.py:519: FutureWarning: Passing (type, 1) or '1type' as a synonym of type is deprecated; in a future version of numpy, it will be understood as (type, (1,)) / '(1,)type'.\n",
      "  _np_quint16 = np.dtype([(\"quint16\", np.uint16, 1)])\n",
      "/home/sheila/anaconda3/envs/environment_py3_7/lib/python3.7/site-packages/tensorflow/python/framework/dtypes.py:520: FutureWarning: Passing (type, 1) or '1type' as a synonym of type is deprecated; in a future version of numpy, it will be understood as (type, (1,)) / '(1,)type'.\n",
      "  _np_qint32 = np.dtype([(\"qint32\", np.int32, 1)])\n",
      "/home/sheila/anaconda3/envs/environment_py3_7/lib/python3.7/site-packages/tensorflow/python/framework/dtypes.py:525: FutureWarning: Passing (type, 1) or '1type' as a synonym of type is deprecated; in a future version of numpy, it will be understood as (type, (1,)) / '(1,)type'.\n",
      "  np_resource = np.dtype([(\"resource\", np.ubyte, 1)])\n",
      "/home/sheila/anaconda3/envs/environment_py3_7/lib/python3.7/site-packages/tensorboard/compat/tensorflow_stub/dtypes.py:541: FutureWarning: Passing (type, 1) or '1type' as a synonym of type is deprecated; in a future version of numpy, it will be understood as (type, (1,)) / '(1,)type'.\n",
      "  _np_qint8 = np.dtype([(\"qint8\", np.int8, 1)])\n",
      "/home/sheila/anaconda3/envs/environment_py3_7/lib/python3.7/site-packages/tensorboard/compat/tensorflow_stub/dtypes.py:542: FutureWarning: Passing (type, 1) or '1type' as a synonym of type is deprecated; in a future version of numpy, it will be understood as (type, (1,)) / '(1,)type'.\n",
      "  _np_quint8 = np.dtype([(\"quint8\", np.uint8, 1)])\n",
      "/home/sheila/anaconda3/envs/environment_py3_7/lib/python3.7/site-packages/tensorboard/compat/tensorflow_stub/dtypes.py:543: FutureWarning: Passing (type, 1) or '1type' as a synonym of type is deprecated; in a future version of numpy, it will be understood as (type, (1,)) / '(1,)type'.\n",
      "  _np_qint16 = np.dtype([(\"qint16\", np.int16, 1)])\n",
      "/home/sheila/anaconda3/envs/environment_py3_7/lib/python3.7/site-packages/tensorboard/compat/tensorflow_stub/dtypes.py:544: FutureWarning: Passing (type, 1) or '1type' as a synonym of type is deprecated; in a future version of numpy, it will be understood as (type, (1,)) / '(1,)type'.\n",
      "  _np_quint16 = np.dtype([(\"quint16\", np.uint16, 1)])\n",
      "/home/sheila/anaconda3/envs/environment_py3_7/lib/python3.7/site-packages/tensorboard/compat/tensorflow_stub/dtypes.py:545: FutureWarning: Passing (type, 1) or '1type' as a synonym of type is deprecated; in a future version of numpy, it will be understood as (type, (1,)) / '(1,)type'.\n",
      "  _np_qint32 = np.dtype([(\"qint32\", np.int32, 1)])\n",
      "/home/sheila/anaconda3/envs/environment_py3_7/lib/python3.7/site-packages/tensorboard/compat/tensorflow_stub/dtypes.py:550: FutureWarning: Passing (type, 1) or '1type' as a synonym of type is deprecated; in a future version of numpy, it will be understood as (type, (1,)) / '(1,)type'.\n",
      "  np_resource = np.dtype([(\"resource\", np.ubyte, 1)])\n"
     ]
    }
   ],
   "source": [
    "#%%\n",
    "from ns3gym import ns3env\n",
    "from comet_ml import Experiment, Optimizer\n",
    "import tqdm\n",
    "import subprocess\n",
    "from collections import deque\n",
    "import numpy as np\n",
    "\n",
    "from agents.dqn.agent import Agent, Config\n",
    "from agents.dqn.model import QNetworkTf\n",
    "from agents.teacher import Teacher, EnvWrapper\n",
    "from preprocessor import Preprocessor"
   ]
  },
  {
   "cell_type": "code",
   "execution_count": 2,
   "id": "b357fd2e",
   "metadata": {},
   "outputs": [
    {
     "name": "stdout",
     "output_type": "stream",
     "text": [
      "Steps per episode: 6000\n",
      "Waiting for simulation script to connect on port: tcp://localhost:28028\n",
      "Please start proper ns-3 simulation script using ./waf --run \"...\"\n",
      "40.790771|0|5|-nan\n",
      "Observation space shape: (1, 300)\n",
      "Action space shape: (1, 1)\n"
     ]
    }
   ],
   "source": [
    "#%%\n",
    "scenario = \"convergence\"\n",
    "\n",
    "simTime = 60 # seconds\n",
    "stepTime = 0.01  # seconds\n",
    "history_length = 300\n",
    "\n",
    "EPISODE_COUNT = 15\n",
    "steps_per_ep = int(simTime/stepTime)\n",
    "\n",
    "sim_args = {\n",
    "    \"simTime\": simTime,\n",
    "    \"envStepTime\": stepTime,\n",
    "    \"historyLength\": history_length,\n",
    "    \"agentType\": Agent.TYPE,\n",
    "    \"scenario\": \"convergence\",\n",
    "    \"nWifi\": 50,\n",
    "}\n",
    "\n",
    "print(\"Steps per episode:\", steps_per_ep)\n",
    "\n",
    "threads_no = 1\n",
    "env = EnvWrapper(threads_no, **sim_args)\n",
    "\n",
    "#%%\n",
    "env.reset()\n",
    "ob_space = env.observation_space\n",
    "ac_space = env.action_space\n",
    "\n",
    "print(\"Observation space shape:\", ob_space)\n",
    "print(\"Action space shape:\", ac_space)\n",
    "\n",
    "assert ob_space is not None"
   ]
  },
  {
   "cell_type": "code",
   "execution_count": 3,
   "id": "51c160e2",
   "metadata": {
    "scrolled": true
   },
   "outputs": [
    {
     "name": "stdout",
     "output_type": "stream",
     "text": [
      "WARNING:tensorflow:From /home/sheila/repos/ns-3-allinone/ns-3.29/scratch/RLinWiFi-master-original-queue-level-mean/agents/dqn/agent.py:53: The name tf.Session is deprecated. Please use tf.compat.v1.Session instead.\n",
      "\n",
      "WARNING:tensorflow:From /home/sheila/repos/ns-3-allinone/ns-3.29/scratch/RLinWiFi-master-original-queue-level-mean/agents/dqn/model.py:25: The name tf.variable_scope is deprecated. Please use tf.compat.v1.variable_scope instead.\n",
      "\n",
      "WARNING:tensorflow:From /home/sheila/repos/ns-3-allinone/ns-3.29/scratch/RLinWiFi-master-original-queue-level-mean/agents/dqn/model.py:26: The name tf.placeholder is deprecated. Please use tf.compat.v1.placeholder instead.\n",
      "\n",
      "WARNING:tensorflow:\n",
      "The TensorFlow contrib module will not be included in TensorFlow 2.0.\n",
      "For more information, please see:\n",
      "  * https://github.com/tensorflow/community/blob/master/rfcs/20180907-contrib-sunset.md\n",
      "  * https://github.com/tensorflow/addons\n",
      "  * https://github.com/tensorflow/io (for I/O related ops)\n",
      "If you depend on functionality not listed there, please file an issue.\n",
      "\n",
      "WARNING:tensorflow:From /home/sheila/repos/ns-3-allinone/ns-3.29/scratch/RLinWiFi-master-original-queue-level-mean/agents/dqn/model.py:52: LSTMCell.__init__ (from tensorflow.python.ops.rnn_cell_impl) is deprecated and will be removed in a future version.\n",
      "Instructions for updating:\n",
      "This class is equivalent as tf.keras.layers.LSTMCell, and will be replaced by that in Tensorflow 2.0.\n",
      "WARNING:tensorflow:From /home/sheila/repos/ns-3-allinone/ns-3.29/scratch/RLinWiFi-master-original-queue-level-mean/agents/dqn/model.py:52: static_rnn (from tensorflow.python.ops.rnn) is deprecated and will be removed in a future version.\n",
      "Instructions for updating:\n",
      "Please use `keras.layers.RNN(cell, unroll=True)`, which is equivalent to this API\n",
      "WARNING:tensorflow:From /home/sheila/anaconda3/envs/environment_py3_7/lib/python3.7/site-packages/tensorflow/python/ops/init_ops.py:1251: calling VarianceScaling.__init__ (from tensorflow.python.ops.init_ops) with dtype is deprecated and will be removed in a future version.\n",
      "Instructions for updating:\n",
      "Call initializer instance with the dtype argument instead of passing it to the constructor\n",
      "WARNING:tensorflow:From /home/sheila/anaconda3/envs/environment_py3_7/lib/python3.7/site-packages/tensorflow/python/ops/rnn_cell_impl.py:961: calling Zeros.__init__ (from tensorflow.python.ops.init_ops) with dtype is deprecated and will be removed in a future version.\n",
      "Instructions for updating:\n",
      "Call initializer instance with the dtype argument instead of passing it to the constructor\n",
      "WARNING:tensorflow:Entity <bound method LSTMCell.call of <tensorflow.python.ops.rnn_cell_impl.LSTMCell object at 0x7ff7a0245390>> could not be transformed and will be executed as-is. Please report this to the AutgoGraph team. When filing the bug, set the verbosity to 10 (on Linux, `export AUTOGRAPH_VERBOSITY=10`) and attach the full output. Cause: converting <bound method LSTMCell.call of <tensorflow.python.ops.rnn_cell_impl.LSTMCell object at 0x7ff7a0245390>>: AttributeError: module 'gast' has no attribute 'Index'\n",
      "WARNING: Entity <bound method LSTMCell.call of <tensorflow.python.ops.rnn_cell_impl.LSTMCell object at 0x7ff7a0245390>> could not be transformed and will be executed as-is. Please report this to the AutgoGraph team. When filing the bug, set the verbosity to 10 (on Linux, `export AUTOGRAPH_VERBOSITY=10`) and attach the full output. Cause: converting <bound method LSTMCell.call of <tensorflow.python.ops.rnn_cell_impl.LSTMCell object at 0x7ff7a0245390>>: AttributeError: module 'gast' has no attribute 'Index'\n",
      "WARNING:tensorflow:Entity <bound method LSTMCell.call of <tensorflow.python.ops.rnn_cell_impl.LSTMCell object at 0x7ff7a0245390>> could not be transformed and will be executed as-is. Please report this to the AutgoGraph team. When filing the bug, set the verbosity to 10 (on Linux, `export AUTOGRAPH_VERBOSITY=10`) and attach the full output. Cause: converting <bound method LSTMCell.call of <tensorflow.python.ops.rnn_cell_impl.LSTMCell object at 0x7ff7a0245390>>: AttributeError: module 'gast' has no attribute 'Index'\n",
      "WARNING: Entity <bound method LSTMCell.call of <tensorflow.python.ops.rnn_cell_impl.LSTMCell object at 0x7ff7a0245390>> could not be transformed and will be executed as-is. Please report this to the AutgoGraph team. When filing the bug, set the verbosity to 10 (on Linux, `export AUTOGRAPH_VERBOSITY=10`) and attach the full output. Cause: converting <bound method LSTMCell.call of <tensorflow.python.ops.rnn_cell_impl.LSTMCell object at 0x7ff7a0245390>>: AttributeError: module 'gast' has no attribute 'Index'\n",
      "WARNING:tensorflow:Entity <bound method LSTMCell.call of <tensorflow.python.ops.rnn_cell_impl.LSTMCell object at 0x7ff7a0245390>> could not be transformed and will be executed as-is. Please report this to the AutgoGraph team. When filing the bug, set the verbosity to 10 (on Linux, `export AUTOGRAPH_VERBOSITY=10`) and attach the full output. Cause: converting <bound method LSTMCell.call of <tensorflow.python.ops.rnn_cell_impl.LSTMCell object at 0x7ff7a0245390>>: AttributeError: module 'gast' has no attribute 'Index'\n",
      "WARNING: Entity <bound method LSTMCell.call of <tensorflow.python.ops.rnn_cell_impl.LSTMCell object at 0x7ff7a0245390>> could not be transformed and will be executed as-is. Please report this to the AutgoGraph team. When filing the bug, set the verbosity to 10 (on Linux, `export AUTOGRAPH_VERBOSITY=10`) and attach the full output. Cause: converting <bound method LSTMCell.call of <tensorflow.python.ops.rnn_cell_impl.LSTMCell object at 0x7ff7a0245390>>: AttributeError: module 'gast' has no attribute 'Index'\n",
      "WARNING:tensorflow:Entity <bound method LSTMCell.call of <tensorflow.python.ops.rnn_cell_impl.LSTMCell object at 0x7ff7a0245390>> could not be transformed and will be executed as-is. Please report this to the AutgoGraph team. When filing the bug, set the verbosity to 10 (on Linux, `export AUTOGRAPH_VERBOSITY=10`) and attach the full output. Cause: converting <bound method LSTMCell.call of <tensorflow.python.ops.rnn_cell_impl.LSTMCell object at 0x7ff7a0245390>>: AttributeError: module 'gast' has no attribute 'Index'\n",
      "WARNING: Entity <bound method LSTMCell.call of <tensorflow.python.ops.rnn_cell_impl.LSTMCell object at 0x7ff7a0245390>> could not be transformed and will be executed as-is. Please report this to the AutgoGraph team. When filing the bug, set the verbosity to 10 (on Linux, `export AUTOGRAPH_VERBOSITY=10`) and attach the full output. Cause: converting <bound method LSTMCell.call of <tensorflow.python.ops.rnn_cell_impl.LSTMCell object at 0x7ff7a0245390>>: AttributeError: module 'gast' has no attribute 'Index'\n",
      "WARNING:tensorflow:From /home/sheila/repos/ns-3-allinone/ns-3.29/scratch/RLinWiFi-master-original-queue-level-mean/agents/dqn/model.py:53: dense (from tensorflow.python.layers.core) is deprecated and will be removed in a future version.\n",
      "Instructions for updating:\n",
      "Use keras.layers.dense instead.\n",
      "WARNING:tensorflow:Entity <bound method Dense.call of <tensorflow.python.layers.core.Dense object at 0x7ff7a0245390>> could not be transformed and will be executed as-is. Please report this to the AutgoGraph team. When filing the bug, set the verbosity to 10 (on Linux, `export AUTOGRAPH_VERBOSITY=10`) and attach the full output. Cause: converting <bound method Dense.call of <tensorflow.python.layers.core.Dense object at 0x7ff7a0245390>>: AttributeError: module 'gast' has no attribute 'Index'\n",
      "WARNING: Entity <bound method Dense.call of <tensorflow.python.layers.core.Dense object at 0x7ff7a0245390>> could not be transformed and will be executed as-is. Please report this to the AutgoGraph team. When filing the bug, set the verbosity to 10 (on Linux, `export AUTOGRAPH_VERBOSITY=10`) and attach the full output. Cause: converting <bound method Dense.call of <tensorflow.python.layers.core.Dense object at 0x7ff7a0245390>>: AttributeError: module 'gast' has no attribute 'Index'\n",
      "WARNING:tensorflow:Entity <bound method Dense.call of <tensorflow.python.layers.core.Dense object at 0x7ff7a0245390>> could not be transformed and will be executed as-is. Please report this to the AutgoGraph team. When filing the bug, set the verbosity to 10 (on Linux, `export AUTOGRAPH_VERBOSITY=10`) and attach the full output. Cause: converting <bound method Dense.call of <tensorflow.python.layers.core.Dense object at 0x7ff7a0245390>>: AttributeError: module 'gast' has no attribute 'Index'\n"
     ]
    },
    {
     "name": "stdout",
     "output_type": "stream",
     "text": [
      "WARNING: Entity <bound method Dense.call of <tensorflow.python.layers.core.Dense object at 0x7ff7a0245390>> could not be transformed and will be executed as-is. Please report this to the AutgoGraph team. When filing the bug, set the verbosity to 10 (on Linux, `export AUTOGRAPH_VERBOSITY=10`) and attach the full output. Cause: converting <bound method Dense.call of <tensorflow.python.layers.core.Dense object at 0x7ff7a0245390>>: AttributeError: module 'gast' has no attribute 'Index'\n",
      "WARNING:tensorflow:Entity <bound method Dense.call of <tensorflow.python.layers.core.Dense object at 0x7ff7a0245390>> could not be transformed and will be executed as-is. Please report this to the AutgoGraph team. When filing the bug, set the verbosity to 10 (on Linux, `export AUTOGRAPH_VERBOSITY=10`) and attach the full output. Cause: converting <bound method Dense.call of <tensorflow.python.layers.core.Dense object at 0x7ff7a0245390>>: AttributeError: module 'gast' has no attribute 'Index'\n",
      "WARNING: Entity <bound method Dense.call of <tensorflow.python.layers.core.Dense object at 0x7ff7a0245390>> could not be transformed and will be executed as-is. Please report this to the AutgoGraph team. When filing the bug, set the verbosity to 10 (on Linux, `export AUTOGRAPH_VERBOSITY=10`) and attach the full output. Cause: converting <bound method Dense.call of <tensorflow.python.layers.core.Dense object at 0x7ff7a0245390>>: AttributeError: module 'gast' has no attribute 'Index'\n",
      "WARNING:tensorflow:From /home/sheila/repos/ns-3-allinone/ns-3.29/scratch/RLinWiFi-master-original-queue-level-mean/agents/dqn/model.py:69: The name tf.losses.mean_squared_error is deprecated. Please use tf.compat.v1.losses.mean_squared_error instead.\n",
      "\n",
      "WARNING:tensorflow:From /home/sheila/anaconda3/envs/environment_py3_7/lib/python3.7/site-packages/tensorflow/python/ops/losses/losses_impl.py:121: add_dispatch_support.<locals>.wrapper (from tensorflow.python.ops.array_ops) is deprecated and will be removed in a future version.\n",
      "Instructions for updating:\n",
      "Use tf.where in 2.0, which has the same broadcast rule as np.where\n",
      "WARNING:tensorflow:From /home/sheila/repos/ns-3-allinone/ns-3.29/scratch/RLinWiFi-master-original-queue-level-mean/agents/dqn/model.py:77: The name tf.train.AdamOptimizer is deprecated. Please use tf.compat.v1.train.AdamOptimizer instead.\n",
      "\n",
      "WARNING:tensorflow:From /home/sheila/repos/ns-3-allinone/ns-3.29/scratch/RLinWiFi-master-original-queue-level-mean/agents/dqn/model.py:33: The name tf.global_variables_initializer is deprecated. Please use tf.compat.v1.global_variables_initializer instead.\n",
      "\n",
      "WARNING:tensorflow:From /home/sheila/repos/ns-3-allinone/ns-3.29/scratch/RLinWiFi-master-original-queue-level-mean/agents/dqn/model.py:34: The name tf.local_variables_initializer is deprecated. Please use tf.compat.v1.local_variables_initializer instead.\n",
      "\n",
      "WARNING:tensorflow:Entity <bound method LSTMCell.call of <tensorflow.python.ops.rnn_cell_impl.LSTMCell object at 0x7ff789399590>> could not be transformed and will be executed as-is. Please report this to the AutgoGraph team. When filing the bug, set the verbosity to 10 (on Linux, `export AUTOGRAPH_VERBOSITY=10`) and attach the full output. Cause: converting <bound method LSTMCell.call of <tensorflow.python.ops.rnn_cell_impl.LSTMCell object at 0x7ff789399590>>: AttributeError: module 'gast' has no attribute 'Index'\n",
      "WARNING: Entity <bound method LSTMCell.call of <tensorflow.python.ops.rnn_cell_impl.LSTMCell object at 0x7ff789399590>> could not be transformed and will be executed as-is. Please report this to the AutgoGraph team. When filing the bug, set the verbosity to 10 (on Linux, `export AUTOGRAPH_VERBOSITY=10`) and attach the full output. Cause: converting <bound method LSTMCell.call of <tensorflow.python.ops.rnn_cell_impl.LSTMCell object at 0x7ff789399590>>: AttributeError: module 'gast' has no attribute 'Index'\n",
      "WARNING:tensorflow:Entity <bound method LSTMCell.call of <tensorflow.python.ops.rnn_cell_impl.LSTMCell object at 0x7ff789399590>> could not be transformed and will be executed as-is. Please report this to the AutgoGraph team. When filing the bug, set the verbosity to 10 (on Linux, `export AUTOGRAPH_VERBOSITY=10`) and attach the full output. Cause: converting <bound method LSTMCell.call of <tensorflow.python.ops.rnn_cell_impl.LSTMCell object at 0x7ff789399590>>: AttributeError: module 'gast' has no attribute 'Index'\n",
      "WARNING: Entity <bound method LSTMCell.call of <tensorflow.python.ops.rnn_cell_impl.LSTMCell object at 0x7ff789399590>> could not be transformed and will be executed as-is. Please report this to the AutgoGraph team. When filing the bug, set the verbosity to 10 (on Linux, `export AUTOGRAPH_VERBOSITY=10`) and attach the full output. Cause: converting <bound method LSTMCell.call of <tensorflow.python.ops.rnn_cell_impl.LSTMCell object at 0x7ff789399590>>: AttributeError: module 'gast' has no attribute 'Index'\n",
      "WARNING:tensorflow:Entity <bound method LSTMCell.call of <tensorflow.python.ops.rnn_cell_impl.LSTMCell object at 0x7ff789399590>> could not be transformed and will be executed as-is. Please report this to the AutgoGraph team. When filing the bug, set the verbosity to 10 (on Linux, `export AUTOGRAPH_VERBOSITY=10`) and attach the full output. Cause: converting <bound method LSTMCell.call of <tensorflow.python.ops.rnn_cell_impl.LSTMCell object at 0x7ff789399590>>: AttributeError: module 'gast' has no attribute 'Index'\n",
      "WARNING: Entity <bound method LSTMCell.call of <tensorflow.python.ops.rnn_cell_impl.LSTMCell object at 0x7ff789399590>> could not be transformed and will be executed as-is. Please report this to the AutgoGraph team. When filing the bug, set the verbosity to 10 (on Linux, `export AUTOGRAPH_VERBOSITY=10`) and attach the full output. Cause: converting <bound method LSTMCell.call of <tensorflow.python.ops.rnn_cell_impl.LSTMCell object at 0x7ff789399590>>: AttributeError: module 'gast' has no attribute 'Index'\n",
      "WARNING:tensorflow:Entity <bound method LSTMCell.call of <tensorflow.python.ops.rnn_cell_impl.LSTMCell object at 0x7ff789399590>> could not be transformed and will be executed as-is. Please report this to the AutgoGraph team. When filing the bug, set the verbosity to 10 (on Linux, `export AUTOGRAPH_VERBOSITY=10`) and attach the full output. Cause: converting <bound method LSTMCell.call of <tensorflow.python.ops.rnn_cell_impl.LSTMCell object at 0x7ff789399590>>: AttributeError: module 'gast' has no attribute 'Index'\n",
      "WARNING: Entity <bound method LSTMCell.call of <tensorflow.python.ops.rnn_cell_impl.LSTMCell object at 0x7ff789399590>> could not be transformed and will be executed as-is. Please report this to the AutgoGraph team. When filing the bug, set the verbosity to 10 (on Linux, `export AUTOGRAPH_VERBOSITY=10`) and attach the full output. Cause: converting <bound method LSTMCell.call of <tensorflow.python.ops.rnn_cell_impl.LSTMCell object at 0x7ff789399590>>: AttributeError: module 'gast' has no attribute 'Index'\n",
      "WARNING:tensorflow:Entity <bound method Dense.call of <tensorflow.python.layers.core.Dense object at 0x7ff789399590>> could not be transformed and will be executed as-is. Please report this to the AutgoGraph team. When filing the bug, set the verbosity to 10 (on Linux, `export AUTOGRAPH_VERBOSITY=10`) and attach the full output. Cause: converting <bound method Dense.call of <tensorflow.python.layers.core.Dense object at 0x7ff789399590>>: AttributeError: module 'gast' has no attribute 'Index'\n",
      "WARNING: Entity <bound method Dense.call of <tensorflow.python.layers.core.Dense object at 0x7ff789399590>> could not be transformed and will be executed as-is. Please report this to the AutgoGraph team. When filing the bug, set the verbosity to 10 (on Linux, `export AUTOGRAPH_VERBOSITY=10`) and attach the full output. Cause: converting <bound method Dense.call of <tensorflow.python.layers.core.Dense object at 0x7ff789399590>>: AttributeError: module 'gast' has no attribute 'Index'\n",
      "WARNING:tensorflow:Entity <bound method Dense.call of <tensorflow.python.layers.core.Dense object at 0x7ff789399590>> could not be transformed and will be executed as-is. Please report this to the AutgoGraph team. When filing the bug, set the verbosity to 10 (on Linux, `export AUTOGRAPH_VERBOSITY=10`) and attach the full output. Cause: converting <bound method Dense.call of <tensorflow.python.layers.core.Dense object at 0x7ff789399590>>: AttributeError: module 'gast' has no attribute 'Index'\n"
     ]
    },
    {
     "name": "stdout",
     "output_type": "stream",
     "text": [
      "WARNING: Entity <bound method Dense.call of <tensorflow.python.layers.core.Dense object at 0x7ff789399590>> could not be transformed and will be executed as-is. Please report this to the AutgoGraph team. When filing the bug, set the verbosity to 10 (on Linux, `export AUTOGRAPH_VERBOSITY=10`) and attach the full output. Cause: converting <bound method Dense.call of <tensorflow.python.layers.core.Dense object at 0x7ff789399590>>: AttributeError: module 'gast' has no attribute 'Index'\n",
      "WARNING:tensorflow:Entity <bound method Dense.call of <tensorflow.python.layers.core.Dense object at 0x7ff789399590>> could not be transformed and will be executed as-is. Please report this to the AutgoGraph team. When filing the bug, set the verbosity to 10 (on Linux, `export AUTOGRAPH_VERBOSITY=10`) and attach the full output. Cause: converting <bound method Dense.call of <tensorflow.python.layers.core.Dense object at 0x7ff789399590>>: AttributeError: module 'gast' has no attribute 'Index'\n",
      "WARNING: Entity <bound method Dense.call of <tensorflow.python.layers.core.Dense object at 0x7ff789399590>> could not be transformed and will be executed as-is. Please report this to the AutgoGraph team. When filing the bug, set the verbosity to 10 (on Linux, `export AUTOGRAPH_VERBOSITY=10`) and attach the full output. Cause: converting <bound method Dense.call of <tensorflow.python.layers.core.Dense object at 0x7ff789399590>>: AttributeError: module 'gast' has no attribute 'Index'\n",
      "WARNING:tensorflow:From /home/sheila/repos/ns-3-allinone/ns-3.29/scratch/RLinWiFi-master-original-queue-level-mean/agents/dqn/agent.py:77: The name tf.train.Saver is deprecated. Please use tf.compat.v1.train.Saver instead.\n",
      "\n",
      "Action space: 7\n",
      "WARNING:tensorflow:From /home/sheila/repos/ns-3-allinone/ns-3.29/scratch/RLinWiFi-master-original-queue-level-mean/agents/dqn/agent.py:107: Variable.load (from tensorflow.python.ops.variables) is deprecated and will be removed in a future version.\n",
      "Instructions for updating:\n",
      "Prefer Variable.assign which has equivalent behavior in 2.X.\n"
     ]
    },
    {
     "name": "stderr",
     "output_type": "stream",
     "text": [
      "COMET INFO: Experiment is live on comet.ml https://www.comet.com/sheila-janota/rl-in-wifi-with-queue-level/0030ef7a36e047e3a304e8f9ee7af9f6\n",
      "\n"
     ]
    },
    {
     "name": "stdout",
     "output_type": "stream",
     "text": [
      "0\n",
      "40.790771|0|5|-nan\n"
     ]
    },
    {
     "name": "stderr",
     "output_type": "stream",
     "text": [
      "  5%|▌         | 333/6300 [00:50<22:00,  4.52it/s, curr_speed=24.96 Mbps, mb_sent=7.99 Mb]"
     ]
    },
    {
     "name": "stdout",
     "output_type": "stream",
     "text": [
      "------- STARTED TRAINING -------\n"
     ]
    },
    {
     "name": "stderr",
     "output_type": "stream",
     "text": [
      "100%|██████████| 6300/6300 [49:12<00:00,  2.13it/s, curr_speed=31.24 Mbps, mb_sent=1933.60 Mb]\n"
     ]
    },
    {
     "name": "stdout",
     "output_type": "stream",
     "text": [
      "Waiting for simulation script to connect on port: tcp://localhost:50852\n",
      "Please start proper ns-3 simulation script using ./waf --run \"...\"\n",
      "Sent 1933.60 Mb/s.\tMean speed: 32.23 Mb/s\tEpisode 1/15 finished\n",
      "\n",
      "1\n",
      "40.790771|0|5|-nan\n"
     ]
    },
    {
     "name": "stderr",
     "output_type": "stream",
     "text": [
      "100%|██████████| 6300/6300 [51:59<00:00,  2.02it/s, curr_speed=33.54 Mbps, mb_sent=2032.00 Mb] \n"
     ]
    },
    {
     "name": "stdout",
     "output_type": "stream",
     "text": [
      "Waiting for simulation script to connect on port: tcp://localhost:14440\n",
      "Please start proper ns-3 simulation script using ./waf --run \"...\"\n",
      "Sent 2032.00 Mb/s.\tMean speed: 33.87 Mb/s\tEpisode 2/15 finished\n",
      "\n",
      "2\n",
      "40.790771|0|5|-nan\n"
     ]
    },
    {
     "name": "stderr",
     "output_type": "stream",
     "text": [
      "100%|██████████| 6300/6300 [47:55<00:00,  2.19it/s, curr_speed=38.07 Mbps, mb_sent=2125.63 Mb]\n"
     ]
    },
    {
     "name": "stdout",
     "output_type": "stream",
     "text": [
      "Waiting for simulation script to connect on port: tcp://localhost:44534\n",
      "Please start proper ns-3 simulation script using ./waf --run \"...\"\n",
      "Sent 2125.63 Mb/s.\tMean speed: 35.43 Mb/s\tEpisode 3/15 finished\n",
      "\n",
      "3\n",
      "40.790771|0|5|-nan\n"
     ]
    },
    {
     "name": "stderr",
     "output_type": "stream",
     "text": [
      "  5%|▍         | 305/6300 [00:53<16:42,  5.98it/s, curr_speed=26.25 Mbps, mb_sent=1.05 Mb]"
     ]
    },
    {
     "name": "stdout",
     "output_type": "stream",
     "text": [
      "------- MEMORY BUFFER FILLED -------\n"
     ]
    },
    {
     "name": "stderr",
     "output_type": "stream",
     "text": [
      "100%|██████████| 6300/6300 [51:09<00:00,  2.05it/s, curr_speed=33.87 Mbps, mb_sent=2168.70 Mb]\n"
     ]
    },
    {
     "name": "stdout",
     "output_type": "stream",
     "text": [
      "Waiting for simulation script to connect on port: tcp://localhost:51143\n",
      "Please start proper ns-3 simulation script using ./waf --run \"...\"\n",
      "Sent 2168.70 Mb/s.\tMean speed: 36.15 Mb/s\tEpisode 4/15 finished\n",
      "\n",
      "4\n",
      "40.790771|0|5|-nan\n"
     ]
    },
    {
     "name": "stderr",
     "output_type": "stream",
     "text": [
      "100%|██████████| 6300/6300 [51:26<00:00,  2.04it/s, curr_speed=35.82 Mbps, mb_sent=2212.71 Mb] \n"
     ]
    },
    {
     "name": "stdout",
     "output_type": "stream",
     "text": [
      "Waiting for simulation script to connect on port: tcp://localhost:15297\n",
      "Please start proper ns-3 simulation script using ./waf --run \"...\"\n",
      "Sent 2212.71 Mb/s.\tMean speed: 36.88 Mb/s\tEpisode 5/15 finished\n",
      "\n",
      "5\n",
      "40.790771|0|5|-nan\n"
     ]
    },
    {
     "name": "stderr",
     "output_type": "stream",
     "text": [
      "100%|██████████| 6300/6300 [58:11<00:00,  1.80it/s, curr_speed=37.90 Mbps, mb_sent=2236.67 Mb]\n"
     ]
    },
    {
     "name": "stdout",
     "output_type": "stream",
     "text": [
      "Waiting for simulation script to connect on port: tcp://localhost:52575\n",
      "Please start proper ns-3 simulation script using ./waf --run \"...\"\n",
      "Sent 2236.67 Mb/s.\tMean speed: 37.28 Mb/s\tEpisode 6/15 finished\n",
      "\n",
      "6\n",
      "40.790771|0|5|-nan\n"
     ]
    },
    {
     "name": "stderr",
     "output_type": "stream",
     "text": [
      "100%|██████████| 6300/6300 [1:03:24<00:00,  1.66it/s, curr_speed=47.82 Mbps, mb_sent=2243.17 Mb]\n"
     ]
    },
    {
     "name": "stdout",
     "output_type": "stream",
     "text": [
      "Waiting for simulation script to connect on port: tcp://localhost:53729\n",
      "Please start proper ns-3 simulation script using ./waf --run \"...\"\n",
      "Sent 2243.17 Mb/s.\tMean speed: 37.39 Mb/s\tEpisode 7/15 finished\n",
      "\n",
      "7\n",
      "40.790771|0|5|-nan\n"
     ]
    },
    {
     "name": "stderr",
     "output_type": "stream",
     "text": [
      "100%|██████████| 6300/6300 [1:29:03<00:00,  1.18it/s, curr_speed=36.95 Mbps, mb_sent=2251.02 Mb]\n"
     ]
    },
    {
     "name": "stdout",
     "output_type": "stream",
     "text": [
      "Waiting for simulation script to connect on port: tcp://localhost:52608\n",
      "Please start proper ns-3 simulation script using ./waf --run \"...\"\n",
      "Sent 2251.02 Mb/s.\tMean speed: 37.52 Mb/s\tEpisode 8/15 finished\n",
      "\n",
      "8\n",
      "40.790771|0|5|-nan\n"
     ]
    },
    {
     "name": "stderr",
     "output_type": "stream",
     "text": [
      "100%|██████████| 6300/6300 [1:29:33<00:00,  1.17it/s, curr_speed=36.99 Mbps, mb_sent=2255.22 Mb]\n"
     ]
    },
    {
     "name": "stdout",
     "output_type": "stream",
     "text": [
      "Waiting for simulation script to connect on port: tcp://localhost:31561\n",
      "Please start proper ns-3 simulation script using ./waf --run \"...\"\n",
      "Sent 2255.22 Mb/s.\tMean speed: 37.59 Mb/s\tEpisode 9/15 finished\n",
      "\n",
      "9\n",
      "40.790771|0|5|-nan\n"
     ]
    },
    {
     "name": "stderr",
     "output_type": "stream",
     "text": [
      "100%|██████████| 6300/6300 [1:29:38<00:00,  1.17it/s, curr_speed=37.13 Mbps, mb_sent=2261.39 Mb]\n"
     ]
    },
    {
     "name": "stdout",
     "output_type": "stream",
     "text": [
      "Waiting for simulation script to connect on port: tcp://localhost:49016\n",
      "Please start proper ns-3 simulation script using ./waf --run \"...\"\n",
      "Sent 2261.39 Mb/s.\tMean speed: 37.69 Mb/s\tEpisode 10/15 finished\n",
      "\n",
      "10\n",
      "40.790771|0|5|-nan\n"
     ]
    },
    {
     "name": "stderr",
     "output_type": "stream",
     "text": [
      "100%|██████████| 6300/6300 [1:29:10<00:00,  1.18it/s, curr_speed=37.13 Mbps, mb_sent=2258.94 Mb]\n"
     ]
    },
    {
     "name": "stdout",
     "output_type": "stream",
     "text": [
      "Waiting for simulation script to connect on port: tcp://localhost:32924\n",
      "Please start proper ns-3 simulation script using ./waf --run \"...\"\n",
      "Sent 2258.94 Mb/s.\tMean speed: 37.65 Mb/s\tEpisode 11/15 finished\n",
      "\n",
      "11\n",
      "40.790771|0|5|-nan\n"
     ]
    },
    {
     "name": "stderr",
     "output_type": "stream",
     "text": [
      "100%|██████████| 6300/6300 [1:31:04<00:00,  1.15it/s, curr_speed=37.44 Mbps, mb_sent=2262.44 Mb]\n"
     ]
    },
    {
     "name": "stdout",
     "output_type": "stream",
     "text": [
      "Waiting for simulation script to connect on port: tcp://localhost:44505\n",
      "Please start proper ns-3 simulation script using ./waf --run \"...\"\n",
      "WARNING:tensorflow:From /home/sheila/anaconda3/envs/environment_py3_7/lib/python3.7/site-packages/tensorflow/python/training/saver.py:960: remove_checkpoint (from tensorflow.python.training.checkpoint_management) is deprecated and will be removed in a future version.\n",
      "Instructions for updating:\n",
      "Use standard file APIs to delete files with this prefix.\n",
      "Sent 2262.44 Mb/s.\tMean speed: 37.71 Mb/s\tEpisode 12/15 finished\n",
      "\n",
      "12\n",
      "Turning off noise\n",
      "40.790771|0|5|-nan\n"
     ]
    },
    {
     "name": "stderr",
     "output_type": "stream",
     "text": [
      " 76%|███████▋  | 4812/6300 [59:29<37:29,  1.51s/it, curr_speed=37.66 Mbps, mb_sent=1705.09 Mb]COMET ERROR: File could not be uploaded\n",
      " 97%|█████████▋| 6130/6300 [2:21:10<04:13,  1.49s/it, curr_speed=37.08 Mbps, mb_sent=2196.54 Mb]     COMET ERROR: File could not be uploaded\n",
      " 97%|█████████▋| 6131/6300 [2:21:11<03:59,  1.42s/it, curr_speed=36.97 Mbps, mb_sent=2196.85 Mb]COMET ERROR: File could not be uploaded\n",
      " 97%|█████████▋| 6132/6300 [2:21:12<03:51,  1.38s/it, curr_speed=36.90 Mbps, mb_sent=2197.17 Mb]COMET ERROR: File could not be uploaded\n",
      "100%|██████████| 6300/6300 [2:25:02<00:00,  1.38s/it, curr_speed=36.94 Mbps, mb_sent=2258.95 Mb]\n"
     ]
    },
    {
     "name": "stdout",
     "output_type": "stream",
     "text": [
      "Waiting for simulation script to connect on port: tcp://localhost:49966\n",
      "Please start proper ns-3 simulation script using ./waf --run \"...\"\n",
      "Sent 2258.95 Mb/s.\tMean speed: 37.65 Mb/s\tEpisode 13/15 finished\n",
      "\n",
      "13\n",
      "Turning off noise\n",
      "40.790771|0|5|-nan\n"
     ]
    },
    {
     "name": "stderr",
     "output_type": "stream",
     "text": [
      " 41%|████      | 2582/6300 [43:09<1:39:59,  1.61s/it, curr_speed=37.62 Mbps, mb_sent=866.69 Mb]COMET ERROR: File could not be uploaded\n",
      " 41%|████      | 2595/6300 [43:26<1:16:49,  1.24s/it, curr_speed=37.63 Mbps, mb_sent=871.55 Mb]COMET ERROR: File could not be uploaded\n",
      " 41%|████▏     | 2600/6300 [43:33<1:16:56,  1.25s/it, curr_speed=37.62 Mbps, mb_sent=873.35 Mb]COMET ERROR: File could not be uploaded\n",
      " 42%|████▏     | 2627/6300 [44:06<1:15:27,  1.23s/it, curr_speed=37.71 Mbps, mb_sent=883.52 Mb]COMET ERROR: File could not be uploaded\n",
      " 42%|████▏     | 2634/6300 [44:14<1:16:35,  1.25s/it, curr_speed=37.72 Mbps, mb_sent=886.29 Mb]COMET ERROR: File could not be uploaded\n",
      "100%|██████████| 6300/6300 [2:36:47<00:00,  1.49s/it, curr_speed=37.33 Mbps, mb_sent=2263.23 Mb]  \n"
     ]
    },
    {
     "name": "stdout",
     "output_type": "stream",
     "text": [
      "Waiting for simulation script to connect on port: tcp://localhost:25268\n",
      "Please start proper ns-3 simulation script using ./waf --run \"...\"\n",
      "Sent 2263.23 Mb/s.\tMean speed: 37.72 Mb/s\tEpisode 14/15 finished\n",
      "\n",
      "14\n",
      "Turning off noise\n",
      "40.790771|0|5|-nan\n"
     ]
    },
    {
     "name": "stderr",
     "output_type": "stream",
     "text": [
      " 86%|████████▌ | 5401/6300 [2:06:54<29:14,  1.95s/it, curr_speed=37.18 Mbps, mb_sent=1925.88 Mb]  COMET ERROR: File could not be uploaded\n",
      " 97%|█████████▋| 6082/6300 [7:28:13<07:46,  2.14s/it, curr_speed=37.05 Mbps, mb_sent=2180.84 Mb]       COMET ERROR: File could not be uploaded\n",
      "100%|██████████| 6300/6300 [7:36:46<00:00,  4.35s/it, curr_speed=37.62 Mbps, mb_sent=2262.44 Mb]\n"
     ]
    },
    {
     "name": "stdout",
     "output_type": "stream",
     "text": [
      "Waiting for simulation script to connect on port: tcp://localhost:49673\n",
      "Please start proper ns-3 simulation script using ./waf --run \"...\"\n"
     ]
    },
    {
     "name": "stderr",
     "output_type": "stream",
     "text": [
      "COMET INFO: ----------------------------\n",
      "COMET INFO: Comet.ml Experiment Summary:\n",
      "COMET INFO:   Data:\n",
      "COMET INFO:     url: https://www.comet.com/sheila-janota/rl-in-wifi-with-queue-level/0030ef7a36e047e3a304e8f9ee7af9f6\n",
      "COMET INFO:   Metrics [count] (min, max):\n",
      "COMET INFO:     Chosen CW [89985]           : (16.0, 1024.0)\n",
      "COMET INFO:     Cumulative reward [15]      : (2621.3916015625, 3156.943603515625)\n",
      "COMET INFO:     Current throughput [89985]  : (7.818600177764893, 52.697391510009766)\n",
      "COMET INFO:     Fairness index [89985]      : (0.025669999420642853, 0.9962319731712341)\n",
      "COMET INFO:     Megabytes sent [89985]      : (0.07818599790334702, 2263.228790447116)\n",
      "COMET INFO:     Observation 0 [89985]       : (0.044856209950521586, 0.96708333303531)\n",
      "COMET INFO:     Observation 1 [89985]       : (0.003994262105884034, 0.01850682074250814)\n",
      "COMET INFO:     Per-ep reward [89985]       : (84.515380859375, 3156.943603515625)\n",
      "COMET INFO:     Round megabytes sent [89985]: (0.01116899959743023, 11.85076904296875)\n",
      "COMET INFO:     Round reward [89985]        : (0.014892578125, 0.908447265625)\n",
      "COMET INFO:     Speed [15]                  : (32.226607651636, 37.720479840785266)\n",
      "COMET INFO:     Station count [89985]       : (5.0, 50.0)\n",
      "COMET INFO:     loss [89985]                : (0.0, 0.12979458272457123)\n",
      "COMET INFO:   Uploads:\n",
      "COMET INFO:     histogram3d: 89985\n",
      "COMET INFO: ----------------------------\n",
      "COMET INFO: Uploading stats to Comet before program termination (may take several seconds)\n"
     ]
    },
    {
     "name": "stdout",
     "output_type": "stream",
     "text": [
      "Sent 2262.44 Mb/s.\tMean speed: 37.71 Mb/s\tEpisode 15/15 finished\n",
      "\n",
      "Training finished.\n"
     ]
    }
   ],
   "source": [
    "#%%\n",
    "teacher = Teacher(env, 1, Preprocessor(False))\n",
    "\n",
    "lr = 4e-4\n",
    "config = Config(buffer_size=3*steps_per_ep*threads_no, batch_size=32, gamma=0.7, tau=1e-3, lr=lr, update_every=1)\n",
    "agent = Agent(QNetworkTf, history_length, action_size=7, config=config)\n",
    "agent.set_epsilon(0.9, 0.001, EPISODE_COUNT-2)\n",
    "\n",
    "# Test the model\n",
    "hyperparams = {**config.__dict__, **sim_args}\n",
    "tags = [\"Rew: normalized speed\",\n",
    "        \"Final\",\n",
    "        f\"{Agent.NAME}\",\n",
    "        sim_args['scenario'],\n",
    "        f\"LR: {lr}\",\n",
    "        f\"Instances: {threads_no}\",\n",
    "        f\"Station count: {sim_args['nWifi']}\",\n",
    "        *[f\"{key}: {sim_args[key]}\" for key in list(sim_args)[:3]]]\n",
    "# # agent.save()\n",
    "logger = teacher.train(agent, EPISODE_COUNT,\n",
    "                        simTime=simTime,\n",
    "                        stepTime=stepTime,\n",
    "                        history_length=history_length,\n",
    "                        send_logs=True,\n",
    "                        experimental=True,\n",
    "                        tags=tags,\n",
    "                        parameters=hyperparams)\n",
    "#logger = teacher.eval(agent,\n",
    "#                        simTime=simTime,\n",
    "#                        stepTime=stepTime,\n",
    "#                        history_length=history_length,\n",
    "#                        tags=tags,\n",
    "#                        parameters=hyperparams)\n",
    "# agent.save()\n",
    "\n",
    "\n",
    "# %%"
   ]
  },
  {
   "cell_type": "code",
   "execution_count": null,
   "id": "1823f498",
   "metadata": {},
   "outputs": [],
   "source": []
  }
 ],
 "metadata": {
  "kernelspec": {
   "display_name": "Python 3 (ipykernel)",
   "language": "python",
   "name": "python3"
  },
  "language_info": {
   "codemirror_mode": {
    "name": "ipython",
    "version": 3
   },
   "file_extension": ".py",
   "mimetype": "text/x-python",
   "name": "python",
   "nbconvert_exporter": "python",
   "pygments_lexer": "ipython3",
   "version": "3.7.10"
  }
 },
 "nbformat": 4,
 "nbformat_minor": 5
}
