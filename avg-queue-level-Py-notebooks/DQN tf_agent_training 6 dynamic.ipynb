{
 "cells": [
  {
   "cell_type": "markdown",
   "id": "52462288",
   "metadata": {},
   "source": [
    "# Execution num1:"
   ]
  },
  {
   "cell_type": "code",
   "execution_count": 1,
   "id": "e963ae41",
   "metadata": {},
   "outputs": [
    {
     "name": "stderr",
     "output_type": "stream",
     "text": [
      "/home/sheila/anaconda3/envs/environment_py3_7/lib/python3.7/site-packages/tensorflow/python/framework/dtypes.py:516: FutureWarning: Passing (type, 1) or '1type' as a synonym of type is deprecated; in a future version of numpy, it will be understood as (type, (1,)) / '(1,)type'.\n",
      "  _np_qint8 = np.dtype([(\"qint8\", np.int8, 1)])\n",
      "/home/sheila/anaconda3/envs/environment_py3_7/lib/python3.7/site-packages/tensorflow/python/framework/dtypes.py:517: FutureWarning: Passing (type, 1) or '1type' as a synonym of type is deprecated; in a future version of numpy, it will be understood as (type, (1,)) / '(1,)type'.\n",
      "  _np_quint8 = np.dtype([(\"quint8\", np.uint8, 1)])\n",
      "/home/sheila/anaconda3/envs/environment_py3_7/lib/python3.7/site-packages/tensorflow/python/framework/dtypes.py:518: FutureWarning: Passing (type, 1) or '1type' as a synonym of type is deprecated; in a future version of numpy, it will be understood as (type, (1,)) / '(1,)type'.\n",
      "  _np_qint16 = np.dtype([(\"qint16\", np.int16, 1)])\n",
      "/home/sheila/anaconda3/envs/environment_py3_7/lib/python3.7/site-packages/tensorflow/python/framework/dtypes.py:519: FutureWarning: Passing (type, 1) or '1type' as a synonym of type is deprecated; in a future version of numpy, it will be understood as (type, (1,)) / '(1,)type'.\n",
      "  _np_quint16 = np.dtype([(\"quint16\", np.uint16, 1)])\n",
      "/home/sheila/anaconda3/envs/environment_py3_7/lib/python3.7/site-packages/tensorflow/python/framework/dtypes.py:520: FutureWarning: Passing (type, 1) or '1type' as a synonym of type is deprecated; in a future version of numpy, it will be understood as (type, (1,)) / '(1,)type'.\n",
      "  _np_qint32 = np.dtype([(\"qint32\", np.int32, 1)])\n",
      "/home/sheila/anaconda3/envs/environment_py3_7/lib/python3.7/site-packages/tensorflow/python/framework/dtypes.py:525: FutureWarning: Passing (type, 1) or '1type' as a synonym of type is deprecated; in a future version of numpy, it will be understood as (type, (1,)) / '(1,)type'.\n",
      "  np_resource = np.dtype([(\"resource\", np.ubyte, 1)])\n",
      "/home/sheila/anaconda3/envs/environment_py3_7/lib/python3.7/site-packages/tensorboard/compat/tensorflow_stub/dtypes.py:541: FutureWarning: Passing (type, 1) or '1type' as a synonym of type is deprecated; in a future version of numpy, it will be understood as (type, (1,)) / '(1,)type'.\n",
      "  _np_qint8 = np.dtype([(\"qint8\", np.int8, 1)])\n",
      "/home/sheila/anaconda3/envs/environment_py3_7/lib/python3.7/site-packages/tensorboard/compat/tensorflow_stub/dtypes.py:542: FutureWarning: Passing (type, 1) or '1type' as a synonym of type is deprecated; in a future version of numpy, it will be understood as (type, (1,)) / '(1,)type'.\n",
      "  _np_quint8 = np.dtype([(\"quint8\", np.uint8, 1)])\n",
      "/home/sheila/anaconda3/envs/environment_py3_7/lib/python3.7/site-packages/tensorboard/compat/tensorflow_stub/dtypes.py:543: FutureWarning: Passing (type, 1) or '1type' as a synonym of type is deprecated; in a future version of numpy, it will be understood as (type, (1,)) / '(1,)type'.\n",
      "  _np_qint16 = np.dtype([(\"qint16\", np.int16, 1)])\n",
      "/home/sheila/anaconda3/envs/environment_py3_7/lib/python3.7/site-packages/tensorboard/compat/tensorflow_stub/dtypes.py:544: FutureWarning: Passing (type, 1) or '1type' as a synonym of type is deprecated; in a future version of numpy, it will be understood as (type, (1,)) / '(1,)type'.\n",
      "  _np_quint16 = np.dtype([(\"quint16\", np.uint16, 1)])\n",
      "/home/sheila/anaconda3/envs/environment_py3_7/lib/python3.7/site-packages/tensorboard/compat/tensorflow_stub/dtypes.py:545: FutureWarning: Passing (type, 1) or '1type' as a synonym of type is deprecated; in a future version of numpy, it will be understood as (type, (1,)) / '(1,)type'.\n",
      "  _np_qint32 = np.dtype([(\"qint32\", np.int32, 1)])\n",
      "/home/sheila/anaconda3/envs/environment_py3_7/lib/python3.7/site-packages/tensorboard/compat/tensorflow_stub/dtypes.py:550: FutureWarning: Passing (type, 1) or '1type' as a synonym of type is deprecated; in a future version of numpy, it will be understood as (type, (1,)) / '(1,)type'.\n",
      "  np_resource = np.dtype([(\"resource\", np.ubyte, 1)])\n"
     ]
    }
   ],
   "source": [
    "#%%\n",
    "from ns3gym import ns3env\n",
    "from comet_ml import Experiment, Optimizer\n",
    "import tqdm\n",
    "import subprocess\n",
    "from collections import deque\n",
    "import numpy as np\n",
    "\n",
    "from agents.dqn.agent import Agent, Config\n",
    "from agents.dqn.model import QNetworkTf\n",
    "from agents.teacher import Teacher, EnvWrapper\n",
    "from preprocessor import Preprocessor"
   ]
  },
  {
   "cell_type": "code",
   "execution_count": 2,
   "id": "77b773ac",
   "metadata": {},
   "outputs": [
    {
     "name": "stdout",
     "output_type": "stream",
     "text": [
      "Steps per episode: 6000\n",
      "Waiting for simulation script to connect on port: tcp://localhost:25324\n",
      "Please start proper ns-3 simulation script using ./waf --run \"...\"\n",
      "42.577881|0|5|-nan\n",
      "Observation space shape: (1, 300)\n",
      "Action space shape: (1, 1)\n"
     ]
    }
   ],
   "source": [
    "#%%\n",
    "scenario = \"convergence\"\n",
    "\n",
    "simTime = 60 # seconds\n",
    "stepTime = 0.01  # seconds\n",
    "history_length = 300\n",
    "\n",
    "EPISODE_COUNT = 15\n",
    "steps_per_ep = int(simTime/stepTime)\n",
    "\n",
    "sim_args = {\n",
    "    \"simTime\": simTime,\n",
    "    \"envStepTime\": stepTime,\n",
    "    \"historyLength\": history_length,\n",
    "    \"agentType\": Agent.TYPE,\n",
    "    \"scenario\": \"convergence\",\n",
    "    \"nWifi\": 6,\n",
    "}\n",
    "\n",
    "print(\"Steps per episode:\", steps_per_ep)\n",
    "\n",
    "threads_no = 1\n",
    "env = EnvWrapper(threads_no, **sim_args)\n",
    "\n",
    "#%%\n",
    "env.reset()\n",
    "ob_space = env.observation_space\n",
    "ac_space = env.action_space\n",
    "\n",
    "print(\"Observation space shape:\", ob_space)\n",
    "print(\"Action space shape:\", ac_space)\n",
    "\n",
    "assert ob_space is not None\n"
   ]
  },
  {
   "cell_type": "code",
   "execution_count": 3,
   "id": "01988cd3",
   "metadata": {
    "scrolled": true
   },
   "outputs": [
    {
     "name": "stdout",
     "output_type": "stream",
     "text": [
      "WARNING:tensorflow:From /home/sheila/repos/ns-3-allinone/ns-3.29/scratch/RLinWiFi-master-original-queue-level-mean/agents/dqn/agent.py:53: The name tf.Session is deprecated. Please use tf.compat.v1.Session instead.\n",
      "\n",
      "WARNING:tensorflow:From /home/sheila/repos/ns-3-allinone/ns-3.29/scratch/RLinWiFi-master-original-queue-level-mean/agents/dqn/model.py:25: The name tf.variable_scope is deprecated. Please use tf.compat.v1.variable_scope instead.\n",
      "\n",
      "WARNING:tensorflow:From /home/sheila/repos/ns-3-allinone/ns-3.29/scratch/RLinWiFi-master-original-queue-level-mean/agents/dqn/model.py:26: The name tf.placeholder is deprecated. Please use tf.compat.v1.placeholder instead.\n",
      "\n",
      "WARNING:tensorflow:\n",
      "The TensorFlow contrib module will not be included in TensorFlow 2.0.\n",
      "For more information, please see:\n",
      "  * https://github.com/tensorflow/community/blob/master/rfcs/20180907-contrib-sunset.md\n",
      "  * https://github.com/tensorflow/addons\n",
      "  * https://github.com/tensorflow/io (for I/O related ops)\n",
      "If you depend on functionality not listed there, please file an issue.\n",
      "\n",
      "WARNING:tensorflow:From /home/sheila/repos/ns-3-allinone/ns-3.29/scratch/RLinWiFi-master-original-queue-level-mean/agents/dqn/model.py:52: LSTMCell.__init__ (from tensorflow.python.ops.rnn_cell_impl) is deprecated and will be removed in a future version.\n",
      "Instructions for updating:\n",
      "This class is equivalent as tf.keras.layers.LSTMCell, and will be replaced by that in Tensorflow 2.0.\n",
      "WARNING:tensorflow:From /home/sheila/repos/ns-3-allinone/ns-3.29/scratch/RLinWiFi-master-original-queue-level-mean/agents/dqn/model.py:52: static_rnn (from tensorflow.python.ops.rnn) is deprecated and will be removed in a future version.\n",
      "Instructions for updating:\n",
      "Please use `keras.layers.RNN(cell, unroll=True)`, which is equivalent to this API\n",
      "WARNING:tensorflow:From /home/sheila/anaconda3/envs/environment_py3_7/lib/python3.7/site-packages/tensorflow/python/ops/init_ops.py:1251: calling VarianceScaling.__init__ (from tensorflow.python.ops.init_ops) with dtype is deprecated and will be removed in a future version.\n",
      "Instructions for updating:\n",
      "Call initializer instance with the dtype argument instead of passing it to the constructor\n",
      "WARNING:tensorflow:From /home/sheila/anaconda3/envs/environment_py3_7/lib/python3.7/site-packages/tensorflow/python/ops/rnn_cell_impl.py:961: calling Zeros.__init__ (from tensorflow.python.ops.init_ops) with dtype is deprecated and will be removed in a future version.\n",
      "Instructions for updating:\n",
      "Call initializer instance with the dtype argument instead of passing it to the constructor\n",
      "WARNING:tensorflow:Entity <bound method LSTMCell.call of <tensorflow.python.ops.rnn_cell_impl.LSTMCell object at 0x7f7ad4a6db90>> could not be transformed and will be executed as-is. Please report this to the AutgoGraph team. When filing the bug, set the verbosity to 10 (on Linux, `export AUTOGRAPH_VERBOSITY=10`) and attach the full output. Cause: converting <bound method LSTMCell.call of <tensorflow.python.ops.rnn_cell_impl.LSTMCell object at 0x7f7ad4a6db90>>: AttributeError: module 'gast' has no attribute 'Index'\n",
      "WARNING: Entity <bound method LSTMCell.call of <tensorflow.python.ops.rnn_cell_impl.LSTMCell object at 0x7f7ad4a6db90>> could not be transformed and will be executed as-is. Please report this to the AutgoGraph team. When filing the bug, set the verbosity to 10 (on Linux, `export AUTOGRAPH_VERBOSITY=10`) and attach the full output. Cause: converting <bound method LSTMCell.call of <tensorflow.python.ops.rnn_cell_impl.LSTMCell object at 0x7f7ad4a6db90>>: AttributeError: module 'gast' has no attribute 'Index'\n",
      "WARNING:tensorflow:Entity <bound method LSTMCell.call of <tensorflow.python.ops.rnn_cell_impl.LSTMCell object at 0x7f7ad4a6db90>> could not be transformed and will be executed as-is. Please report this to the AutgoGraph team. When filing the bug, set the verbosity to 10 (on Linux, `export AUTOGRAPH_VERBOSITY=10`) and attach the full output. Cause: converting <bound method LSTMCell.call of <tensorflow.python.ops.rnn_cell_impl.LSTMCell object at 0x7f7ad4a6db90>>: AttributeError: module 'gast' has no attribute 'Index'\n",
      "WARNING: Entity <bound method LSTMCell.call of <tensorflow.python.ops.rnn_cell_impl.LSTMCell object at 0x7f7ad4a6db90>> could not be transformed and will be executed as-is. Please report this to the AutgoGraph team. When filing the bug, set the verbosity to 10 (on Linux, `export AUTOGRAPH_VERBOSITY=10`) and attach the full output. Cause: converting <bound method LSTMCell.call of <tensorflow.python.ops.rnn_cell_impl.LSTMCell object at 0x7f7ad4a6db90>>: AttributeError: module 'gast' has no attribute 'Index'\n",
      "WARNING:tensorflow:Entity <bound method LSTMCell.call of <tensorflow.python.ops.rnn_cell_impl.LSTMCell object at 0x7f7ad4a6db90>> could not be transformed and will be executed as-is. Please report this to the AutgoGraph team. When filing the bug, set the verbosity to 10 (on Linux, `export AUTOGRAPH_VERBOSITY=10`) and attach the full output. Cause: converting <bound method LSTMCell.call of <tensorflow.python.ops.rnn_cell_impl.LSTMCell object at 0x7f7ad4a6db90>>: AttributeError: module 'gast' has no attribute 'Index'\n",
      "WARNING: Entity <bound method LSTMCell.call of <tensorflow.python.ops.rnn_cell_impl.LSTMCell object at 0x7f7ad4a6db90>> could not be transformed and will be executed as-is. Please report this to the AutgoGraph team. When filing the bug, set the verbosity to 10 (on Linux, `export AUTOGRAPH_VERBOSITY=10`) and attach the full output. Cause: converting <bound method LSTMCell.call of <tensorflow.python.ops.rnn_cell_impl.LSTMCell object at 0x7f7ad4a6db90>>: AttributeError: module 'gast' has no attribute 'Index'\n",
      "WARNING:tensorflow:Entity <bound method LSTMCell.call of <tensorflow.python.ops.rnn_cell_impl.LSTMCell object at 0x7f7ad4a6db90>> could not be transformed and will be executed as-is. Please report this to the AutgoGraph team. When filing the bug, set the verbosity to 10 (on Linux, `export AUTOGRAPH_VERBOSITY=10`) and attach the full output. Cause: converting <bound method LSTMCell.call of <tensorflow.python.ops.rnn_cell_impl.LSTMCell object at 0x7f7ad4a6db90>>: AttributeError: module 'gast' has no attribute 'Index'\n",
      "WARNING: Entity <bound method LSTMCell.call of <tensorflow.python.ops.rnn_cell_impl.LSTMCell object at 0x7f7ad4a6db90>> could not be transformed and will be executed as-is. Please report this to the AutgoGraph team. When filing the bug, set the verbosity to 10 (on Linux, `export AUTOGRAPH_VERBOSITY=10`) and attach the full output. Cause: converting <bound method LSTMCell.call of <tensorflow.python.ops.rnn_cell_impl.LSTMCell object at 0x7f7ad4a6db90>>: AttributeError: module 'gast' has no attribute 'Index'\n",
      "WARNING:tensorflow:From /home/sheila/repos/ns-3-allinone/ns-3.29/scratch/RLinWiFi-master-original-queue-level-mean/agents/dqn/model.py:53: dense (from tensorflow.python.layers.core) is deprecated and will be removed in a future version.\n",
      "Instructions for updating:\n",
      "Use keras.layers.dense instead.\n",
      "WARNING:tensorflow:Entity <bound method Dense.call of <tensorflow.python.layers.core.Dense object at 0x7f7ad4a6db90>> could not be transformed and will be executed as-is. Please report this to the AutgoGraph team. When filing the bug, set the verbosity to 10 (on Linux, `export AUTOGRAPH_VERBOSITY=10`) and attach the full output. Cause: converting <bound method Dense.call of <tensorflow.python.layers.core.Dense object at 0x7f7ad4a6db90>>: AttributeError: module 'gast' has no attribute 'Index'\n",
      "WARNING: Entity <bound method Dense.call of <tensorflow.python.layers.core.Dense object at 0x7f7ad4a6db90>> could not be transformed and will be executed as-is. Please report this to the AutgoGraph team. When filing the bug, set the verbosity to 10 (on Linux, `export AUTOGRAPH_VERBOSITY=10`) and attach the full output. Cause: converting <bound method Dense.call of <tensorflow.python.layers.core.Dense object at 0x7f7ad4a6db90>>: AttributeError: module 'gast' has no attribute 'Index'\n",
      "WARNING:tensorflow:Entity <bound method Dense.call of <tensorflow.python.layers.core.Dense object at 0x7f7ad4a6db90>> could not be transformed and will be executed as-is. Please report this to the AutgoGraph team. When filing the bug, set the verbosity to 10 (on Linux, `export AUTOGRAPH_VERBOSITY=10`) and attach the full output. Cause: converting <bound method Dense.call of <tensorflow.python.layers.core.Dense object at 0x7f7ad4a6db90>>: AttributeError: module 'gast' has no attribute 'Index'\n"
     ]
    },
    {
     "name": "stdout",
     "output_type": "stream",
     "text": [
      "WARNING: Entity <bound method Dense.call of <tensorflow.python.layers.core.Dense object at 0x7f7ad4a6db90>> could not be transformed and will be executed as-is. Please report this to the AutgoGraph team. When filing the bug, set the verbosity to 10 (on Linux, `export AUTOGRAPH_VERBOSITY=10`) and attach the full output. Cause: converting <bound method Dense.call of <tensorflow.python.layers.core.Dense object at 0x7f7ad4a6db90>>: AttributeError: module 'gast' has no attribute 'Index'\n",
      "WARNING:tensorflow:Entity <bound method Dense.call of <tensorflow.python.layers.core.Dense object at 0x7f7ad4a6db90>> could not be transformed and will be executed as-is. Please report this to the AutgoGraph team. When filing the bug, set the verbosity to 10 (on Linux, `export AUTOGRAPH_VERBOSITY=10`) and attach the full output. Cause: converting <bound method Dense.call of <tensorflow.python.layers.core.Dense object at 0x7f7ad4a6db90>>: AttributeError: module 'gast' has no attribute 'Index'\n",
      "WARNING: Entity <bound method Dense.call of <tensorflow.python.layers.core.Dense object at 0x7f7ad4a6db90>> could not be transformed and will be executed as-is. Please report this to the AutgoGraph team. When filing the bug, set the verbosity to 10 (on Linux, `export AUTOGRAPH_VERBOSITY=10`) and attach the full output. Cause: converting <bound method Dense.call of <tensorflow.python.layers.core.Dense object at 0x7f7ad4a6db90>>: AttributeError: module 'gast' has no attribute 'Index'\n",
      "WARNING:tensorflow:From /home/sheila/repos/ns-3-allinone/ns-3.29/scratch/RLinWiFi-master-original-queue-level-mean/agents/dqn/model.py:69: The name tf.losses.mean_squared_error is deprecated. Please use tf.compat.v1.losses.mean_squared_error instead.\n",
      "\n",
      "WARNING:tensorflow:From /home/sheila/anaconda3/envs/environment_py3_7/lib/python3.7/site-packages/tensorflow/python/ops/losses/losses_impl.py:121: add_dispatch_support.<locals>.wrapper (from tensorflow.python.ops.array_ops) is deprecated and will be removed in a future version.\n",
      "Instructions for updating:\n",
      "Use tf.where in 2.0, which has the same broadcast rule as np.where\n",
      "WARNING:tensorflow:From /home/sheila/repos/ns-3-allinone/ns-3.29/scratch/RLinWiFi-master-original-queue-level-mean/agents/dqn/model.py:77: The name tf.train.AdamOptimizer is deprecated. Please use tf.compat.v1.train.AdamOptimizer instead.\n",
      "\n",
      "WARNING:tensorflow:From /home/sheila/repos/ns-3-allinone/ns-3.29/scratch/RLinWiFi-master-original-queue-level-mean/agents/dqn/model.py:33: The name tf.global_variables_initializer is deprecated. Please use tf.compat.v1.global_variables_initializer instead.\n",
      "\n",
      "WARNING:tensorflow:From /home/sheila/repos/ns-3-allinone/ns-3.29/scratch/RLinWiFi-master-original-queue-level-mean/agents/dqn/model.py:34: The name tf.local_variables_initializer is deprecated. Please use tf.compat.v1.local_variables_initializer instead.\n",
      "\n",
      "WARNING:tensorflow:Entity <bound method LSTMCell.call of <tensorflow.python.ops.rnn_cell_impl.LSTMCell object at 0x7f7abdad5390>> could not be transformed and will be executed as-is. Please report this to the AutgoGraph team. When filing the bug, set the verbosity to 10 (on Linux, `export AUTOGRAPH_VERBOSITY=10`) and attach the full output. Cause: converting <bound method LSTMCell.call of <tensorflow.python.ops.rnn_cell_impl.LSTMCell object at 0x7f7abdad5390>>: AttributeError: module 'gast' has no attribute 'Index'\n",
      "WARNING: Entity <bound method LSTMCell.call of <tensorflow.python.ops.rnn_cell_impl.LSTMCell object at 0x7f7abdad5390>> could not be transformed and will be executed as-is. Please report this to the AutgoGraph team. When filing the bug, set the verbosity to 10 (on Linux, `export AUTOGRAPH_VERBOSITY=10`) and attach the full output. Cause: converting <bound method LSTMCell.call of <tensorflow.python.ops.rnn_cell_impl.LSTMCell object at 0x7f7abdad5390>>: AttributeError: module 'gast' has no attribute 'Index'\n",
      "WARNING:tensorflow:Entity <bound method LSTMCell.call of <tensorflow.python.ops.rnn_cell_impl.LSTMCell object at 0x7f7abdad5390>> could not be transformed and will be executed as-is. Please report this to the AutgoGraph team. When filing the bug, set the verbosity to 10 (on Linux, `export AUTOGRAPH_VERBOSITY=10`) and attach the full output. Cause: converting <bound method LSTMCell.call of <tensorflow.python.ops.rnn_cell_impl.LSTMCell object at 0x7f7abdad5390>>: AttributeError: module 'gast' has no attribute 'Index'\n",
      "WARNING: Entity <bound method LSTMCell.call of <tensorflow.python.ops.rnn_cell_impl.LSTMCell object at 0x7f7abdad5390>> could not be transformed and will be executed as-is. Please report this to the AutgoGraph team. When filing the bug, set the verbosity to 10 (on Linux, `export AUTOGRAPH_VERBOSITY=10`) and attach the full output. Cause: converting <bound method LSTMCell.call of <tensorflow.python.ops.rnn_cell_impl.LSTMCell object at 0x7f7abdad5390>>: AttributeError: module 'gast' has no attribute 'Index'\n",
      "WARNING:tensorflow:Entity <bound method LSTMCell.call of <tensorflow.python.ops.rnn_cell_impl.LSTMCell object at 0x7f7abdad5390>> could not be transformed and will be executed as-is. Please report this to the AutgoGraph team. When filing the bug, set the verbosity to 10 (on Linux, `export AUTOGRAPH_VERBOSITY=10`) and attach the full output. Cause: converting <bound method LSTMCell.call of <tensorflow.python.ops.rnn_cell_impl.LSTMCell object at 0x7f7abdad5390>>: AttributeError: module 'gast' has no attribute 'Index'\n",
      "WARNING: Entity <bound method LSTMCell.call of <tensorflow.python.ops.rnn_cell_impl.LSTMCell object at 0x7f7abdad5390>> could not be transformed and will be executed as-is. Please report this to the AutgoGraph team. When filing the bug, set the verbosity to 10 (on Linux, `export AUTOGRAPH_VERBOSITY=10`) and attach the full output. Cause: converting <bound method LSTMCell.call of <tensorflow.python.ops.rnn_cell_impl.LSTMCell object at 0x7f7abdad5390>>: AttributeError: module 'gast' has no attribute 'Index'\n",
      "WARNING:tensorflow:Entity <bound method LSTMCell.call of <tensorflow.python.ops.rnn_cell_impl.LSTMCell object at 0x7f7abdad5390>> could not be transformed and will be executed as-is. Please report this to the AutgoGraph team. When filing the bug, set the verbosity to 10 (on Linux, `export AUTOGRAPH_VERBOSITY=10`) and attach the full output. Cause: converting <bound method LSTMCell.call of <tensorflow.python.ops.rnn_cell_impl.LSTMCell object at 0x7f7abdad5390>>: AttributeError: module 'gast' has no attribute 'Index'\n",
      "WARNING: Entity <bound method LSTMCell.call of <tensorflow.python.ops.rnn_cell_impl.LSTMCell object at 0x7f7abdad5390>> could not be transformed and will be executed as-is. Please report this to the AutgoGraph team. When filing the bug, set the verbosity to 10 (on Linux, `export AUTOGRAPH_VERBOSITY=10`) and attach the full output. Cause: converting <bound method LSTMCell.call of <tensorflow.python.ops.rnn_cell_impl.LSTMCell object at 0x7f7abdad5390>>: AttributeError: module 'gast' has no attribute 'Index'\n",
      "WARNING:tensorflow:Entity <bound method Dense.call of <tensorflow.python.layers.core.Dense object at 0x7f7abdad5390>> could not be transformed and will be executed as-is. Please report this to the AutgoGraph team. When filing the bug, set the verbosity to 10 (on Linux, `export AUTOGRAPH_VERBOSITY=10`) and attach the full output. Cause: converting <bound method Dense.call of <tensorflow.python.layers.core.Dense object at 0x7f7abdad5390>>: AttributeError: module 'gast' has no attribute 'Index'\n",
      "WARNING: Entity <bound method Dense.call of <tensorflow.python.layers.core.Dense object at 0x7f7abdad5390>> could not be transformed and will be executed as-is. Please report this to the AutgoGraph team. When filing the bug, set the verbosity to 10 (on Linux, `export AUTOGRAPH_VERBOSITY=10`) and attach the full output. Cause: converting <bound method Dense.call of <tensorflow.python.layers.core.Dense object at 0x7f7abdad5390>>: AttributeError: module 'gast' has no attribute 'Index'\n",
      "WARNING:tensorflow:Entity <bound method Dense.call of <tensorflow.python.layers.core.Dense object at 0x7f7abdad5390>> could not be transformed and will be executed as-is. Please report this to the AutgoGraph team. When filing the bug, set the verbosity to 10 (on Linux, `export AUTOGRAPH_VERBOSITY=10`) and attach the full output. Cause: converting <bound method Dense.call of <tensorflow.python.layers.core.Dense object at 0x7f7abdad5390>>: AttributeError: module 'gast' has no attribute 'Index'\n"
     ]
    },
    {
     "name": "stdout",
     "output_type": "stream",
     "text": [
      "WARNING: Entity <bound method Dense.call of <tensorflow.python.layers.core.Dense object at 0x7f7abdad5390>> could not be transformed and will be executed as-is. Please report this to the AutgoGraph team. When filing the bug, set the verbosity to 10 (on Linux, `export AUTOGRAPH_VERBOSITY=10`) and attach the full output. Cause: converting <bound method Dense.call of <tensorflow.python.layers.core.Dense object at 0x7f7abdad5390>>: AttributeError: module 'gast' has no attribute 'Index'\n",
      "WARNING:tensorflow:Entity <bound method Dense.call of <tensorflow.python.layers.core.Dense object at 0x7f7abdad5390>> could not be transformed and will be executed as-is. Please report this to the AutgoGraph team. When filing the bug, set the verbosity to 10 (on Linux, `export AUTOGRAPH_VERBOSITY=10`) and attach the full output. Cause: converting <bound method Dense.call of <tensorflow.python.layers.core.Dense object at 0x7f7abdad5390>>: AttributeError: module 'gast' has no attribute 'Index'\n",
      "WARNING: Entity <bound method Dense.call of <tensorflow.python.layers.core.Dense object at 0x7f7abdad5390>> could not be transformed and will be executed as-is. Please report this to the AutgoGraph team. When filing the bug, set the verbosity to 10 (on Linux, `export AUTOGRAPH_VERBOSITY=10`) and attach the full output. Cause: converting <bound method Dense.call of <tensorflow.python.layers.core.Dense object at 0x7f7abdad5390>>: AttributeError: module 'gast' has no attribute 'Index'\n",
      "WARNING:tensorflow:From /home/sheila/repos/ns-3-allinone/ns-3.29/scratch/RLinWiFi-master-original-queue-level-mean/agents/dqn/agent.py:77: The name tf.train.Saver is deprecated. Please use tf.compat.v1.train.Saver instead.\n",
      "\n",
      "Action space: 7\n",
      "WARNING:tensorflow:From /home/sheila/repos/ns-3-allinone/ns-3.29/scratch/RLinWiFi-master-original-queue-level-mean/agents/dqn/agent.py:107: Variable.load (from tensorflow.python.ops.variables) is deprecated and will be removed in a future version.\n",
      "Instructions for updating:\n",
      "Prefer Variable.assign which has equivalent behavior in 2.X.\n"
     ]
    },
    {
     "name": "stderr",
     "output_type": "stream",
     "text": [
      "COMET INFO: Experiment is live on comet.ml https://www.comet.com/sheila-janota/rl-in-wifi-with-queue-level/511ecc0a3a3242eb9b13a55b1f5b6652\n",
      "\n"
     ]
    },
    {
     "name": "stdout",
     "output_type": "stream",
     "text": [
      "0\n",
      "42.577881|0|5|-nan\n"
     ]
    },
    {
     "name": "stderr",
     "output_type": "stream",
     "text": [
      "  5%|▌         | 333/6300 [02:10<55:47,  1.78it/s, curr_speed=32.22 Mbps, mb_sent=10.31 Mb]"
     ]
    },
    {
     "name": "stdout",
     "output_type": "stream",
     "text": [
      "------- STARTED TRAINING -------\n"
     ]
    },
    {
     "name": "stderr",
     "output_type": "stream",
     "text": [
      "100%|██████████| 6300/6300 [45:40<00:00,  2.30it/s, curr_speed=28.45 Mbps, mb_sent=1754.90 Mb]\n"
     ]
    },
    {
     "name": "stdout",
     "output_type": "stream",
     "text": [
      "Waiting for simulation script to connect on port: tcp://localhost:45023\n",
      "Please start proper ns-3 simulation script using ./waf --run \"...\"\n",
      "Sent 1754.90 Mb/s.\tMean speed: 29.25 Mb/s\tEpisode 1/15 finished\n",
      "\n",
      "1\n",
      "42.577881|0|5|-nan\n"
     ]
    },
    {
     "name": "stderr",
     "output_type": "stream",
     "text": [
      "100%|██████████| 6300/6300 [44:50<00:00,  2.34it/s, curr_speed=33.30 Mbps, mb_sent=1975.78 Mb]\n"
     ]
    },
    {
     "name": "stdout",
     "output_type": "stream",
     "text": [
      "Waiting for simulation script to connect on port: tcp://localhost:15551\n",
      "Please start proper ns-3 simulation script using ./waf --run \"...\"\n",
      "Sent 1975.78 Mb/s.\tMean speed: 32.93 Mb/s\tEpisode 2/15 finished\n",
      "\n",
      "2\n",
      "42.577881|0|5|-nan\n"
     ]
    },
    {
     "name": "stderr",
     "output_type": "stream",
     "text": [
      "100%|██████████| 6300/6300 [45:55<00:00,  2.29it/s, curr_speed=34.82 Mbps, mb_sent=2117.29 Mb]\n"
     ]
    },
    {
     "name": "stdout",
     "output_type": "stream",
     "text": [
      "Waiting for simulation script to connect on port: tcp://localhost:51459\n",
      "Please start proper ns-3 simulation script using ./waf --run \"...\"\n",
      "Sent 2117.29 Mb/s.\tMean speed: 35.29 Mb/s\tEpisode 3/15 finished\n",
      "\n",
      "3\n",
      "42.577881|0|5|-nan\n"
     ]
    },
    {
     "name": "stderr",
     "output_type": "stream",
     "text": [
      "  5%|▍         | 304/6300 [01:44<38:34,  2.59it/s, curr_speed=36.86 Mbps, mb_sent=1.11 Mb]"
     ]
    },
    {
     "name": "stdout",
     "output_type": "stream",
     "text": [
      "------- MEMORY BUFFER FILLED -------\n"
     ]
    },
    {
     "name": "stderr",
     "output_type": "stream",
     "text": [
      "100%|██████████| 6300/6300 [46:56<00:00,  2.24it/s, curr_speed=37.43 Mbps, mb_sent=2200.04 Mb]\n"
     ]
    },
    {
     "name": "stdout",
     "output_type": "stream",
     "text": [
      "Waiting for simulation script to connect on port: tcp://localhost:21090\n",
      "Please start proper ns-3 simulation script using ./waf --run \"...\"\n",
      "Sent 2200.04 Mb/s.\tMean speed: 36.67 Mb/s\tEpisode 4/15 finished\n",
      "\n",
      "4\n",
      "42.577881|0|5|-nan\n"
     ]
    },
    {
     "name": "stderr",
     "output_type": "stream",
     "text": [
      "100%|██████████| 6300/6300 [47:18<00:00,  2.22it/s, curr_speed=36.70 Mbps, mb_sent=2247.16 Mb]\n"
     ]
    },
    {
     "name": "stdout",
     "output_type": "stream",
     "text": [
      "Waiting for simulation script to connect on port: tcp://localhost:38680\n",
      "Please start proper ns-3 simulation script using ./waf --run \"...\"\n",
      "Sent 2247.16 Mb/s.\tMean speed: 37.45 Mb/s\tEpisode 5/15 finished\n",
      "\n",
      "5\n",
      "42.577881|0|5|-nan\n"
     ]
    },
    {
     "name": "stderr",
     "output_type": "stream",
     "text": [
      "100%|██████████| 6300/6300 [51:01<00:00,  2.06it/s, curr_speed=37.18 Mbps, mb_sent=2279.68 Mb]  \n"
     ]
    },
    {
     "name": "stdout",
     "output_type": "stream",
     "text": [
      "Waiting for simulation script to connect on port: tcp://localhost:44395\n",
      "Please start proper ns-3 simulation script using ./waf --run \"...\"\n",
      "Sent 2279.68 Mb/s.\tMean speed: 37.99 Mb/s\tEpisode 6/15 finished\n",
      "\n",
      "6\n",
      "42.577881|0|5|-nan\n"
     ]
    },
    {
     "name": "stderr",
     "output_type": "stream",
     "text": [
      "100%|██████████| 6300/6300 [52:57<00:00,  1.98it/s, curr_speed=38.11 Mbps, mb_sent=2294.63 Mb] \n"
     ]
    },
    {
     "name": "stdout",
     "output_type": "stream",
     "text": [
      "Waiting for simulation script to connect on port: tcp://localhost:49229\n",
      "Please start proper ns-3 simulation script using ./waf --run \"...\"\n",
      "Sent 2294.63 Mb/s.\tMean speed: 38.24 Mb/s\tEpisode 7/15 finished\n",
      "\n",
      "7\n",
      "42.577881|0|5|-nan\n"
     ]
    },
    {
     "name": "stderr",
     "output_type": "stream",
     "text": [
      "100%|██████████| 6300/6300 [50:34<00:00,  2.08it/s, curr_speed=38.39 Mbps, mb_sent=2301.29 Mb]\n"
     ]
    },
    {
     "name": "stdout",
     "output_type": "stream",
     "text": [
      "Waiting for simulation script to connect on port: tcp://localhost:38252\n",
      "Please start proper ns-3 simulation script using ./waf --run \"...\"\n",
      "Sent 2301.29 Mb/s.\tMean speed: 38.35 Mb/s\tEpisode 8/15 finished\n",
      "\n",
      "8\n",
      "42.577881|0|5|-nan\n"
     ]
    },
    {
     "name": "stderr",
     "output_type": "stream",
     "text": [
      "100%|██████████| 6300/6300 [51:19<00:00,  2.05it/s, curr_speed=38.33 Mbps, mb_sent=2312.60 Mb]\n"
     ]
    },
    {
     "name": "stdout",
     "output_type": "stream",
     "text": [
      "Waiting for simulation script to connect on port: tcp://localhost:37020\n",
      "Please start proper ns-3 simulation script using ./waf --run \"...\"\n",
      "Sent 2312.60 Mb/s.\tMean speed: 38.54 Mb/s\tEpisode 9/15 finished\n",
      "\n",
      "9\n",
      "42.577881|0|5|-nan\n"
     ]
    },
    {
     "name": "stderr",
     "output_type": "stream",
     "text": [
      "100%|██████████| 6300/6300 [50:27<00:00,  2.08it/s, curr_speed=38.86 Mbps, mb_sent=2312.50 Mb]\n"
     ]
    },
    {
     "name": "stdout",
     "output_type": "stream",
     "text": [
      "Waiting for simulation script to connect on port: tcp://localhost:38934\n",
      "Please start proper ns-3 simulation script using ./waf --run \"...\"\n",
      "Sent 2312.50 Mb/s.\tMean speed: 38.54 Mb/s\tEpisode 10/15 finished\n",
      "\n",
      "10\n",
      "42.577881|0|5|-nan\n"
     ]
    },
    {
     "name": "stderr",
     "output_type": "stream",
     "text": [
      " 54%|█████▍    | 3402/6300 [25:48<23:22,  2.07it/s, curr_speed=38.51 Mbps, mb_sent=1204.18 Mb]COMET ERROR: File could not be uploaded\n",
      " 54%|█████▍    | 3403/6300 [25:49<23:32,  2.05it/s, curr_speed=38.52 Mbps, mb_sent=1204.59 Mb]COMET ERROR: File could not be uploaded\n",
      " 54%|█████▍    | 3404/6300 [25:49<23:08,  2.09it/s, curr_speed=38.50 Mbps, mb_sent=1204.98 Mb]COMET ERROR: File could not be uploaded\n",
      " 54%|█████▍    | 3405/6300 [25:50<23:15,  2.08it/s, curr_speed=38.56 Mbps, mb_sent=1205.42 Mb]COMET ERROR: File could not be uploaded\n",
      " 54%|█████▍    | 3406/6300 [25:50<23:06,  2.09it/s, curr_speed=38.66 Mbps, mb_sent=1205.83 Mb]COMET ERROR: File could not be uploaded\n",
      "100%|██████████| 6300/6300 [50:11<00:00,  2.09it/s, curr_speed=38.12 Mbps, mb_sent=2316.65 Mb]\n"
     ]
    },
    {
     "name": "stdout",
     "output_type": "stream",
     "text": [
      "Waiting for simulation script to connect on port: tcp://localhost:17697\n",
      "Please start proper ns-3 simulation script using ./waf --run \"...\"\n",
      "Sent 2316.65 Mb/s.\tMean speed: 38.61 Mb/s\tEpisode 11/15 finished\n",
      "\n",
      "11\n",
      "42.577881|0|5|-nan\n"
     ]
    },
    {
     "name": "stderr",
     "output_type": "stream",
     "text": [
      "100%|██████████| 6300/6300 [50:40<00:00,  2.07it/s, curr_speed=38.58 Mbps, mb_sent=2315.08 Mb]\n"
     ]
    },
    {
     "name": "stdout",
     "output_type": "stream",
     "text": [
      "Waiting for simulation script to connect on port: tcp://localhost:33164\n",
      "Please start proper ns-3 simulation script using ./waf --run \"...\"\n",
      "WARNING:tensorflow:From /home/sheila/anaconda3/envs/environment_py3_7/lib/python3.7/site-packages/tensorflow/python/training/saver.py:960: remove_checkpoint (from tensorflow.python.training.checkpoint_management) is deprecated and will be removed in a future version.\n",
      "Instructions for updating:\n",
      "Use standard file APIs to delete files with this prefix.\n",
      "Sent 2315.08 Mb/s.\tMean speed: 38.58 Mb/s\tEpisode 12/15 finished\n",
      "\n",
      "12\n",
      "Turning off noise\n",
      "42.577881|0|5|-nan\n"
     ]
    },
    {
     "name": "stderr",
     "output_type": "stream",
     "text": [
      " 18%|█▊        | 1109/6300 [08:02<38:59,  2.22it/s, curr_speed=38.97 Mbps, mb_sent=314.31 Mb]COMET ERROR: File could not be uploaded\n",
      "COMET ERROR: File could not be uploaded\n",
      " 19%|█▊        | 1176/6300 [08:33<39:25,  2.17it/s, curr_speed=38.84 Mbps, mb_sent=340.62 Mb]COMET ERROR: File could not be uploaded\n",
      " 19%|█▊        | 1177/6300 [08:33<39:50,  2.14it/s, curr_speed=38.84 Mbps, mb_sent=340.62 Mb]COMET ERROR: File could not be uploaded\n",
      " 20%|█▉        | 1249/6300 [09:07<38:28,  2.19it/s, curr_speed=38.79 Mbps, mb_sent=368.46 Mb]COMET ERROR: File could not be uploaded\n",
      "COMET ERROR: File could not be uploaded\n",
      " 21%|██        | 1295/6300 [09:28<36:49,  2.27it/s, curr_speed=38.74 Mbps, mb_sent=386.28 Mb]COMET ERROR: File could not be uploaded\n",
      "COMET ERROR: File could not be uploaded\n",
      " 21%|██        | 1336/6300 [09:47<37:00,  2.24it/s, curr_speed=38.99 Mbps, mb_sent=402.47 Mb]COMET ERROR: File could not be uploaded\n",
      "100%|██████████| 6300/6300 [50:36<00:00,  2.07it/s, curr_speed=38.40 Mbps, mb_sent=2320.05 Mb]\n"
     ]
    },
    {
     "name": "stdout",
     "output_type": "stream",
     "text": [
      "Waiting for simulation script to connect on port: tcp://localhost:37489\n",
      "Please start proper ns-3 simulation script using ./waf --run \"...\"\n",
      "Sent 2320.05 Mb/s.\tMean speed: 38.67 Mb/s\tEpisode 13/15 finished\n",
      "\n",
      "13\n",
      "Turning off noise\n",
      "42.577881|0|5|-nan\n"
     ]
    },
    {
     "name": "stderr",
     "output_type": "stream",
     "text": [
      " 19%|█▊        | 1166/6300 [08:37<51:55,  1.65it/s, curr_speed=38.88 Mbps, mb_sent=336.11 Mb]  COMET ERROR: File could not be uploaded\n",
      " 19%|█▊        | 1167/6300 [08:38<59:53,  1.43it/s, curr_speed=38.91 Mbps, mb_sent=336.54 Mb]COMET ERROR: File could not be uploaded\n",
      " 19%|█▊        | 1168/6300 [08:39<1:00:13,  1.42it/s, curr_speed=38.96 Mbps, mb_sent=336.97 Mb]COMET ERROR: File could not be uploaded\n",
      " 19%|█▊        | 1171/6300 [47:19<694:33:12, 487.50s/it, curr_speed=38.93 Mbps, mb_sent=338.09 Mb]COMET ERROR: File could not be uploaded\n",
      " 49%|████▉     | 3110/6300 [1:03:35<23:37,  2.25it/s, curr_speed=38.62 Mbps, mb_sent=1094.53 Mb]  COMET ERROR: File could not be uploaded\n",
      " 49%|████▉     | 3111/6300 [1:03:35<23:25,  2.27it/s, curr_speed=38.62 Mbps, mb_sent=1094.88 Mb]COMET ERROR: File could not be uploaded\n",
      " 49%|████▉     | 3112/6300 [1:03:36<22:53,  2.32it/s, curr_speed=38.65 Mbps, mb_sent=1095.27 Mb]COMET ERROR: File could not be uploaded\n",
      " 49%|████▉     | 3113/6300 [1:03:36<24:03,  2.21it/s, curr_speed=38.62 Mbps, mb_sent=1095.65 Mb]COMET ERROR: File could not be uploaded\n",
      " 49%|████▉     | 3114/6300 [1:03:37<23:25,  2.27it/s, curr_speed=38.64 Mbps, mb_sent=1096.05 Mb]COMET ERROR: File could not be uploaded\n",
      " 50%|████▉     | 3123/6300 [1:03:40<22:42,  2.33it/s, curr_speed=38.65 Mbps, mb_sent=1099.59 Mb]COMET ERROR: File could not be uploaded\n",
      "COMET ERROR: File could not be uploaded\n",
      "COMET ERROR: File could not be uploaded\n",
      "COMET ERROR: File could not be uploaded\n",
      "COMET ERROR: File could not be uploaded\n",
      " 76%|███████▌  | 4767/6300 [1:17:48<22:18,  1.15it/s, curr_speed=38.67 Mbps, mb_sent=1731.23 Mb]COMET ERROR: File could not be uploaded\n",
      " 77%|███████▋  | 4827/6300 [1:40:03<14:15,  1.72it/s, curr_speed=38.42 Mbps, mb_sent=1754.23 Mb]     COMET ERROR: File could not be uploaded\n",
      "100%|██████████| 6300/6300 [1:52:19<00:00,  1.07s/it, curr_speed=38.56 Mbps, mb_sent=2320.24 Mb]\n"
     ]
    },
    {
     "name": "stdout",
     "output_type": "stream",
     "text": [
      "Waiting for simulation script to connect on port: tcp://localhost:43201\n",
      "Please start proper ns-3 simulation script using ./waf --run \"...\"\n",
      "Sent 2320.24 Mb/s.\tMean speed: 38.67 Mb/s\tEpisode 14/15 finished\n",
      "\n",
      "14\n",
      "Turning off noise\n",
      "42.577881|0|5|-nan\n"
     ]
    },
    {
     "name": "stderr",
     "output_type": "stream",
     "text": [
      "100%|██████████| 6300/6300 [48:24<00:00,  2.17it/s, curr_speed=38.91 Mbps, mb_sent=2320.36 Mb]\n"
     ]
    },
    {
     "name": "stdout",
     "output_type": "stream",
     "text": [
      "Waiting for simulation script to connect on port: tcp://localhost:25855\n",
      "Please start proper ns-3 simulation script using ./waf --run \"...\"\n"
     ]
    },
    {
     "name": "stderr",
     "output_type": "stream",
     "text": [
      "COMET INFO: ----------------------------\n",
      "COMET INFO: Comet.ml Experiment Summary:\n",
      "COMET INFO:   Data:\n",
      "COMET INFO:     url: https://www.comet.com/sheila-janota/rl-in-wifi-with-queue-level/511ecc0a3a3242eb9b13a55b1f5b6652\n",
      "COMET INFO:   Metrics [count] (min, max):\n",
      "COMET INFO:     Chosen CW [89985]           : (16.0, 1024.0)\n",
      "COMET INFO:     Cumulative reward [15]      : (2450.24609375, 3248.235107421875)\n",
      "COMET INFO:     Current throughput [89985]  : (25.108884811401367, 49.257198333740234)\n",
      "COMET INFO:     Fairness index [89985]      : (0.17543600499629974, 0.999925971031189)\n",
      "COMET INFO:     Megabytes sent [89985]      : (0.2568970024585724, 2320.360446512699)\n",
      "COMET INFO:     Observation 0 [89985]       : (0.6794643007963895, 0.8571428656578064)\n",
      "COMET INFO:     Observation 1 [89985]       : (0.0, 0.08796191108844853)\n",
      "COMET INFO:     Per-ep reward [89985]       : (110.89013671875, 3248.235107421875)\n",
      "COMET INFO:     Round megabytes sent [89985]: (0.04467799887061119, 11.82843017578125)\n",
      "COMET INFO:     Round reward [89985]        : (0.0595703125, 0.62548828125)\n",
      "COMET INFO:     Speed [15]                  : (29.24827916591118, 38.67267410854499)\n",
      "COMET INFO:     Station count [89985]       : (5.0, 6.0)\n",
      "COMET INFO:     loss [89985]                : (0.0, 0.20220641791820526)\n",
      "COMET INFO:   Uploads:\n",
      "COMET INFO:     histogram3d: 89985\n",
      "COMET INFO: ----------------------------\n"
     ]
    },
    {
     "name": "stdout",
     "output_type": "stream",
     "text": [
      "Sent 2320.36 Mb/s.\tMean speed: 38.67 Mb/s\tEpisode 15/15 finished\n",
      "\n"
     ]
    },
    {
     "name": "stderr",
     "output_type": "stream",
     "text": [
      "COMET INFO: Uploading stats to Comet before program termination (may take several seconds)\n"
     ]
    },
    {
     "name": "stdout",
     "output_type": "stream",
     "text": [
      "Training finished.\n"
     ]
    },
    {
     "name": "stderr",
     "output_type": "stream",
     "text": [
      "COMET INFO: Experiment is live on comet.ml https://www.comet.com/sheila-janota/rl-in-wifi-with-queue-level/009924f6ec8a4cc49b446cc6f5221a27\n",
      "\n"
     ]
    },
    {
     "name": "stdout",
     "output_type": "stream",
     "text": [
      "42.577881|0|5|-nan\n"
     ]
    },
    {
     "name": "stderr",
     "output_type": "stream",
     "text": [
      "100%|██████████| 6300/6300 [47:32<00:00,  2.21it/s, curr_speed=38.91 Mbps, mb_sent=2320.36 Mb]\n"
     ]
    },
    {
     "name": "stdout",
     "output_type": "stream",
     "text": [
      "Waiting for simulation script to connect on port: tcp://localhost:15963\n",
      "Please start proper ns-3 simulation script using ./waf --run \"...\"\n"
     ]
    },
    {
     "name": "stderr",
     "output_type": "stream",
     "text": [
      "COMET INFO: ----------------------------\n",
      "COMET INFO: Comet.ml Experiment Summary:\n",
      "COMET INFO:   Data:\n",
      "COMET INFO:     url: https://www.comet.com/sheila-janota/rl-in-wifi-with-queue-level/009924f6ec8a4cc49b446cc6f5221a27\n",
      "COMET INFO:   Metrics [count] (min, max):\n",
      "COMET INFO:     Chosen CW [5999]           : (32.0, 32.0)\n",
      "COMET INFO:     Cumulative reward          : (3248.235107421875, 3248.235107421875)\n",
      "COMET INFO:     Current throughput [5999]  : (37.741512298583984, 39.651485443115234)\n",
      "COMET INFO:     Fairness index [5999]      : (0.17677100002765656, 0.9998229742050171)\n",
      "COMET INFO:     Megabytes sent [5999]      : (0.3909299969673157, 2320.360446512699)\n",
      "COMET INFO:     Observation 0 [5999]       : (0.6820714449137448, 0.8571428656578064)\n",
      "COMET INFO:     Observation 1 [5999]       : (0.0, 0.08782665796305678)\n",
      "COMET INFO:     Per-ep reward [5999]       : (154.9423828125, 3248.235107421875)\n",
      "COMET INFO:     Round megabytes sent [5999]: (0.3015750050544739, 0.4579469859600067)\n",
      "COMET INFO:     Round reward [5999]        : (0.402099609375, 0.610595703125)\n",
      "COMET INFO:     Speed                      : (38.67267410854499, 38.67267410854499)\n",
      "COMET INFO:     Station count [5999]       : (5.0, 6.0)\n",
      "COMET INFO:     loss [5999]                : (0.0014602962137935072, 0.0014602962137935072)\n",
      "COMET INFO:   Uploads:\n",
      "COMET INFO:     histogram3d: 5999\n",
      "COMET INFO: ----------------------------\n"
     ]
    },
    {
     "name": "stdout",
     "output_type": "stream",
     "text": [
      "Sent 2320.36 Mb/s.\tMean speed: 38.67 Mb/s\tEval finished\n",
      "\n"
     ]
    },
    {
     "name": "stderr",
     "output_type": "stream",
     "text": [
      "COMET INFO: Uploading stats to Comet before program termination (may take several seconds)\n"
     ]
    }
   ],
   "source": [
    "#%%\n",
    "teacher = Teacher(env, 1, Preprocessor(False))\n",
    "\n",
    "lr = 4e-4\n",
    "config = Config(buffer_size=3*steps_per_ep*threads_no, batch_size=32, gamma=0.7, tau=1e-3, lr=lr, update_every=1)\n",
    "agent = Agent(QNetworkTf, state_size=6, action_size=7, config=config)\n",
    "agent.set_epsilon(0.9, 0.001, EPISODE_COUNT-2)\n",
    "\n",
    "# Test the model\n",
    "hyperparams = {**config.__dict__, **sim_args}\n",
    "tags = [\"Rew: normalized speed\",\n",
    "        \"Final\",\n",
    "        f\"{Agent.NAME}\",\n",
    "        sim_args['scenario'],\n",
    "        f\"LR: {lr}\",\n",
    "        f\"Instances: {threads_no}\",\n",
    "        f\"Station count: {sim_args['nWifi']}\",\n",
    "        *[f\"{key}: {sim_args[key]}\" for key in list(sim_args)[:3]]]\n",
    "# # agent.save()\n",
    "logger = teacher.train(agent, EPISODE_COUNT,\n",
    "                        simTime=simTime,\n",
    "                        stepTime=stepTime,\n",
    "                        history_length=history_length,\n",
    "                        send_logs=True,\n",
    "                        experimental=True,\n",
    "                        tags=tags,\n",
    "                        parameters=hyperparams)\n",
    "logger = teacher.eval(agent,\n",
    "                        simTime=simTime,\n",
    "                        stepTime=stepTime,\n",
    "                        history_length=history_length,\n",
    "                        tags=tags,\n",
    "                        parameters=hyperparams)\n",
    "# agent.save()\n",
    "\n",
    "\n",
    "# %%"
   ]
  },
  {
   "cell_type": "code",
   "execution_count": null,
   "id": "e45ee750",
   "metadata": {},
   "outputs": [],
   "source": []
  },
  {
   "cell_type": "markdown",
   "id": "914f09ed",
   "metadata": {},
   "source": [
    "# Execution num2:"
   ]
  },
  {
   "cell_type": "code",
   "execution_count": 1,
   "id": "3628a974",
   "metadata": {},
   "outputs": [
    {
     "name": "stderr",
     "output_type": "stream",
     "text": [
      "/home/sheila/anaconda3/envs/environment_py3_7/lib/python3.7/site-packages/tensorflow/python/framework/dtypes.py:516: FutureWarning: Passing (type, 1) or '1type' as a synonym of type is deprecated; in a future version of numpy, it will be understood as (type, (1,)) / '(1,)type'.\n",
      "  _np_qint8 = np.dtype([(\"qint8\", np.int8, 1)])\n",
      "/home/sheila/anaconda3/envs/environment_py3_7/lib/python3.7/site-packages/tensorflow/python/framework/dtypes.py:517: FutureWarning: Passing (type, 1) or '1type' as a synonym of type is deprecated; in a future version of numpy, it will be understood as (type, (1,)) / '(1,)type'.\n",
      "  _np_quint8 = np.dtype([(\"quint8\", np.uint8, 1)])\n",
      "/home/sheila/anaconda3/envs/environment_py3_7/lib/python3.7/site-packages/tensorflow/python/framework/dtypes.py:518: FutureWarning: Passing (type, 1) or '1type' as a synonym of type is deprecated; in a future version of numpy, it will be understood as (type, (1,)) / '(1,)type'.\n",
      "  _np_qint16 = np.dtype([(\"qint16\", np.int16, 1)])\n",
      "/home/sheila/anaconda3/envs/environment_py3_7/lib/python3.7/site-packages/tensorflow/python/framework/dtypes.py:519: FutureWarning: Passing (type, 1) or '1type' as a synonym of type is deprecated; in a future version of numpy, it will be understood as (type, (1,)) / '(1,)type'.\n",
      "  _np_quint16 = np.dtype([(\"quint16\", np.uint16, 1)])\n",
      "/home/sheila/anaconda3/envs/environment_py3_7/lib/python3.7/site-packages/tensorflow/python/framework/dtypes.py:520: FutureWarning: Passing (type, 1) or '1type' as a synonym of type is deprecated; in a future version of numpy, it will be understood as (type, (1,)) / '(1,)type'.\n",
      "  _np_qint32 = np.dtype([(\"qint32\", np.int32, 1)])\n",
      "/home/sheila/anaconda3/envs/environment_py3_7/lib/python3.7/site-packages/tensorflow/python/framework/dtypes.py:525: FutureWarning: Passing (type, 1) or '1type' as a synonym of type is deprecated; in a future version of numpy, it will be understood as (type, (1,)) / '(1,)type'.\n",
      "  np_resource = np.dtype([(\"resource\", np.ubyte, 1)])\n",
      "/home/sheila/anaconda3/envs/environment_py3_7/lib/python3.7/site-packages/tensorboard/compat/tensorflow_stub/dtypes.py:541: FutureWarning: Passing (type, 1) or '1type' as a synonym of type is deprecated; in a future version of numpy, it will be understood as (type, (1,)) / '(1,)type'.\n",
      "  _np_qint8 = np.dtype([(\"qint8\", np.int8, 1)])\n",
      "/home/sheila/anaconda3/envs/environment_py3_7/lib/python3.7/site-packages/tensorboard/compat/tensorflow_stub/dtypes.py:542: FutureWarning: Passing (type, 1) or '1type' as a synonym of type is deprecated; in a future version of numpy, it will be understood as (type, (1,)) / '(1,)type'.\n",
      "  _np_quint8 = np.dtype([(\"quint8\", np.uint8, 1)])\n",
      "/home/sheila/anaconda3/envs/environment_py3_7/lib/python3.7/site-packages/tensorboard/compat/tensorflow_stub/dtypes.py:543: FutureWarning: Passing (type, 1) or '1type' as a synonym of type is deprecated; in a future version of numpy, it will be understood as (type, (1,)) / '(1,)type'.\n",
      "  _np_qint16 = np.dtype([(\"qint16\", np.int16, 1)])\n",
      "/home/sheila/anaconda3/envs/environment_py3_7/lib/python3.7/site-packages/tensorboard/compat/tensorflow_stub/dtypes.py:544: FutureWarning: Passing (type, 1) or '1type' as a synonym of type is deprecated; in a future version of numpy, it will be understood as (type, (1,)) / '(1,)type'.\n",
      "  _np_quint16 = np.dtype([(\"quint16\", np.uint16, 1)])\n",
      "/home/sheila/anaconda3/envs/environment_py3_7/lib/python3.7/site-packages/tensorboard/compat/tensorflow_stub/dtypes.py:545: FutureWarning: Passing (type, 1) or '1type' as a synonym of type is deprecated; in a future version of numpy, it will be understood as (type, (1,)) / '(1,)type'.\n",
      "  _np_qint32 = np.dtype([(\"qint32\", np.int32, 1)])\n",
      "/home/sheila/anaconda3/envs/environment_py3_7/lib/python3.7/site-packages/tensorboard/compat/tensorflow_stub/dtypes.py:550: FutureWarning: Passing (type, 1) or '1type' as a synonym of type is deprecated; in a future version of numpy, it will be understood as (type, (1,)) / '(1,)type'.\n",
      "  np_resource = np.dtype([(\"resource\", np.ubyte, 1)])\n"
     ]
    }
   ],
   "source": [
    "#%%\n",
    "from ns3gym import ns3env\n",
    "from comet_ml import Experiment, Optimizer\n",
    "import tqdm\n",
    "import subprocess\n",
    "from collections import deque\n",
    "import numpy as np\n",
    "\n",
    "from agents.dqn.agent import Agent, Config\n",
    "from agents.dqn.model import QNetworkTf\n",
    "from agents.teacher import Teacher, EnvWrapper\n",
    "from preprocessor import Preprocessor"
   ]
  },
  {
   "cell_type": "code",
   "execution_count": 2,
   "id": "369cd360",
   "metadata": {},
   "outputs": [
    {
     "name": "stdout",
     "output_type": "stream",
     "text": [
      "Steps per episode: 6000\n",
      "Waiting for simulation script to connect on port: tcp://localhost:47521\n",
      "Please start proper ns-3 simulation script using ./waf --run \"...\"\n",
      "42.577881|0|5|-nan\n",
      "Observation space shape: (1, 300)\n",
      "Action space shape: (1, 1)\n"
     ]
    }
   ],
   "source": [
    "#%%\n",
    "scenario = \"convergence\"\n",
    "\n",
    "simTime = 60 # seconds\n",
    "stepTime = 0.01  # seconds\n",
    "history_length = 300\n",
    "\n",
    "EPISODE_COUNT = 15\n",
    "steps_per_ep = int(simTime/stepTime)\n",
    "\n",
    "sim_args = {\n",
    "    \"simTime\": simTime,\n",
    "    \"envStepTime\": stepTime,\n",
    "    \"historyLength\": history_length,\n",
    "    \"agentType\": Agent.TYPE,\n",
    "    \"scenario\": \"convergence\",\n",
    "    \"nWifi\": 6,\n",
    "}\n",
    "\n",
    "print(\"Steps per episode:\", steps_per_ep)\n",
    "\n",
    "threads_no = 1\n",
    "env = EnvWrapper(threads_no, **sim_args)\n",
    "\n",
    "#%%\n",
    "env.reset()\n",
    "ob_space = env.observation_space\n",
    "ac_space = env.action_space\n",
    "\n",
    "print(\"Observation space shape:\", ob_space)\n",
    "print(\"Action space shape:\", ac_space)\n",
    "\n",
    "assert ob_space is not None"
   ]
  },
  {
   "cell_type": "code",
   "execution_count": 3,
   "id": "5c62c252",
   "metadata": {},
   "outputs": [
    {
     "name": "stdout",
     "output_type": "stream",
     "text": [
      "WARNING:tensorflow:From /home/sheila/repos/ns-3-allinone/ns-3.29/scratch/RLinWiFi-master-original-queue-level-mean/agents/dqn/agent.py:53: The name tf.Session is deprecated. Please use tf.compat.v1.Session instead.\n",
      "\n",
      "WARNING:tensorflow:From /home/sheila/repos/ns-3-allinone/ns-3.29/scratch/RLinWiFi-master-original-queue-level-mean/agents/dqn/model.py:25: The name tf.variable_scope is deprecated. Please use tf.compat.v1.variable_scope instead.\n",
      "\n",
      "WARNING:tensorflow:From /home/sheila/repos/ns-3-allinone/ns-3.29/scratch/RLinWiFi-master-original-queue-level-mean/agents/dqn/model.py:26: The name tf.placeholder is deprecated. Please use tf.compat.v1.placeholder instead.\n",
      "\n",
      "WARNING:tensorflow:\n",
      "The TensorFlow contrib module will not be included in TensorFlow 2.0.\n",
      "For more information, please see:\n",
      "  * https://github.com/tensorflow/community/blob/master/rfcs/20180907-contrib-sunset.md\n",
      "  * https://github.com/tensorflow/addons\n",
      "  * https://github.com/tensorflow/io (for I/O related ops)\n",
      "If you depend on functionality not listed there, please file an issue.\n",
      "\n",
      "WARNING:tensorflow:From /home/sheila/repos/ns-3-allinone/ns-3.29/scratch/RLinWiFi-master-original-queue-level-mean/agents/dqn/model.py:52: LSTMCell.__init__ (from tensorflow.python.ops.rnn_cell_impl) is deprecated and will be removed in a future version.\n",
      "Instructions for updating:\n",
      "This class is equivalent as tf.keras.layers.LSTMCell, and will be replaced by that in Tensorflow 2.0.\n",
      "WARNING:tensorflow:From /home/sheila/repos/ns-3-allinone/ns-3.29/scratch/RLinWiFi-master-original-queue-level-mean/agents/dqn/model.py:52: static_rnn (from tensorflow.python.ops.rnn) is deprecated and will be removed in a future version.\n",
      "Instructions for updating:\n",
      "Please use `keras.layers.RNN(cell, unroll=True)`, which is equivalent to this API\n",
      "WARNING:tensorflow:From /home/sheila/anaconda3/envs/environment_py3_7/lib/python3.7/site-packages/tensorflow/python/ops/init_ops.py:1251: calling VarianceScaling.__init__ (from tensorflow.python.ops.init_ops) with dtype is deprecated and will be removed in a future version.\n",
      "Instructions for updating:\n",
      "Call initializer instance with the dtype argument instead of passing it to the constructor\n",
      "WARNING:tensorflow:From /home/sheila/anaconda3/envs/environment_py3_7/lib/python3.7/site-packages/tensorflow/python/ops/rnn_cell_impl.py:961: calling Zeros.__init__ (from tensorflow.python.ops.init_ops) with dtype is deprecated and will be removed in a future version.\n",
      "Instructions for updating:\n",
      "Call initializer instance with the dtype argument instead of passing it to the constructor\n",
      "WARNING:tensorflow:Entity <bound method LSTMCell.call of <tensorflow.python.ops.rnn_cell_impl.LSTMCell object at 0x7f319d319750>> could not be transformed and will be executed as-is. Please report this to the AutgoGraph team. When filing the bug, set the verbosity to 10 (on Linux, `export AUTOGRAPH_VERBOSITY=10`) and attach the full output. Cause: converting <bound method LSTMCell.call of <tensorflow.python.ops.rnn_cell_impl.LSTMCell object at 0x7f319d319750>>: AttributeError: module 'gast' has no attribute 'Index'\n",
      "WARNING: Entity <bound method LSTMCell.call of <tensorflow.python.ops.rnn_cell_impl.LSTMCell object at 0x7f319d319750>> could not be transformed and will be executed as-is. Please report this to the AutgoGraph team. When filing the bug, set the verbosity to 10 (on Linux, `export AUTOGRAPH_VERBOSITY=10`) and attach the full output. Cause: converting <bound method LSTMCell.call of <tensorflow.python.ops.rnn_cell_impl.LSTMCell object at 0x7f319d319750>>: AttributeError: module 'gast' has no attribute 'Index'\n",
      "WARNING:tensorflow:Entity <bound method LSTMCell.call of <tensorflow.python.ops.rnn_cell_impl.LSTMCell object at 0x7f319d319750>> could not be transformed and will be executed as-is. Please report this to the AutgoGraph team. When filing the bug, set the verbosity to 10 (on Linux, `export AUTOGRAPH_VERBOSITY=10`) and attach the full output. Cause: converting <bound method LSTMCell.call of <tensorflow.python.ops.rnn_cell_impl.LSTMCell object at 0x7f319d319750>>: AttributeError: module 'gast' has no attribute 'Index'\n",
      "WARNING: Entity <bound method LSTMCell.call of <tensorflow.python.ops.rnn_cell_impl.LSTMCell object at 0x7f319d319750>> could not be transformed and will be executed as-is. Please report this to the AutgoGraph team. When filing the bug, set the verbosity to 10 (on Linux, `export AUTOGRAPH_VERBOSITY=10`) and attach the full output. Cause: converting <bound method LSTMCell.call of <tensorflow.python.ops.rnn_cell_impl.LSTMCell object at 0x7f319d319750>>: AttributeError: module 'gast' has no attribute 'Index'\n",
      "WARNING:tensorflow:Entity <bound method LSTMCell.call of <tensorflow.python.ops.rnn_cell_impl.LSTMCell object at 0x7f319d319750>> could not be transformed and will be executed as-is. Please report this to the AutgoGraph team. When filing the bug, set the verbosity to 10 (on Linux, `export AUTOGRAPH_VERBOSITY=10`) and attach the full output. Cause: converting <bound method LSTMCell.call of <tensorflow.python.ops.rnn_cell_impl.LSTMCell object at 0x7f319d319750>>: AttributeError: module 'gast' has no attribute 'Index'\n",
      "WARNING: Entity <bound method LSTMCell.call of <tensorflow.python.ops.rnn_cell_impl.LSTMCell object at 0x7f319d319750>> could not be transformed and will be executed as-is. Please report this to the AutgoGraph team. When filing the bug, set the verbosity to 10 (on Linux, `export AUTOGRAPH_VERBOSITY=10`) and attach the full output. Cause: converting <bound method LSTMCell.call of <tensorflow.python.ops.rnn_cell_impl.LSTMCell object at 0x7f319d319750>>: AttributeError: module 'gast' has no attribute 'Index'\n",
      "WARNING:tensorflow:Entity <bound method LSTMCell.call of <tensorflow.python.ops.rnn_cell_impl.LSTMCell object at 0x7f319d319750>> could not be transformed and will be executed as-is. Please report this to the AutgoGraph team. When filing the bug, set the verbosity to 10 (on Linux, `export AUTOGRAPH_VERBOSITY=10`) and attach the full output. Cause: converting <bound method LSTMCell.call of <tensorflow.python.ops.rnn_cell_impl.LSTMCell object at 0x7f319d319750>>: AttributeError: module 'gast' has no attribute 'Index'\n",
      "WARNING: Entity <bound method LSTMCell.call of <tensorflow.python.ops.rnn_cell_impl.LSTMCell object at 0x7f319d319750>> could not be transformed and will be executed as-is. Please report this to the AutgoGraph team. When filing the bug, set the verbosity to 10 (on Linux, `export AUTOGRAPH_VERBOSITY=10`) and attach the full output. Cause: converting <bound method LSTMCell.call of <tensorflow.python.ops.rnn_cell_impl.LSTMCell object at 0x7f319d319750>>: AttributeError: module 'gast' has no attribute 'Index'\n",
      "WARNING:tensorflow:From /home/sheila/repos/ns-3-allinone/ns-3.29/scratch/RLinWiFi-master-original-queue-level-mean/agents/dqn/model.py:53: dense (from tensorflow.python.layers.core) is deprecated and will be removed in a future version.\n",
      "Instructions for updating:\n",
      "Use keras.layers.dense instead.\n",
      "WARNING:tensorflow:Entity <bound method Dense.call of <tensorflow.python.layers.core.Dense object at 0x7f319d319750>> could not be transformed and will be executed as-is. Please report this to the AutgoGraph team. When filing the bug, set the verbosity to 10 (on Linux, `export AUTOGRAPH_VERBOSITY=10`) and attach the full output. Cause: converting <bound method Dense.call of <tensorflow.python.layers.core.Dense object at 0x7f319d319750>>: AttributeError: module 'gast' has no attribute 'Index'\n",
      "WARNING: Entity <bound method Dense.call of <tensorflow.python.layers.core.Dense object at 0x7f319d319750>> could not be transformed and will be executed as-is. Please report this to the AutgoGraph team. When filing the bug, set the verbosity to 10 (on Linux, `export AUTOGRAPH_VERBOSITY=10`) and attach the full output. Cause: converting <bound method Dense.call of <tensorflow.python.layers.core.Dense object at 0x7f319d319750>>: AttributeError: module 'gast' has no attribute 'Index'\n",
      "WARNING:tensorflow:Entity <bound method Dense.call of <tensorflow.python.layers.core.Dense object at 0x7f319d319750>> could not be transformed and will be executed as-is. Please report this to the AutgoGraph team. When filing the bug, set the verbosity to 10 (on Linux, `export AUTOGRAPH_VERBOSITY=10`) and attach the full output. Cause: converting <bound method Dense.call of <tensorflow.python.layers.core.Dense object at 0x7f319d319750>>: AttributeError: module 'gast' has no attribute 'Index'\n"
     ]
    },
    {
     "name": "stdout",
     "output_type": "stream",
     "text": [
      "WARNING: Entity <bound method Dense.call of <tensorflow.python.layers.core.Dense object at 0x7f319d319750>> could not be transformed and will be executed as-is. Please report this to the AutgoGraph team. When filing the bug, set the verbosity to 10 (on Linux, `export AUTOGRAPH_VERBOSITY=10`) and attach the full output. Cause: converting <bound method Dense.call of <tensorflow.python.layers.core.Dense object at 0x7f319d319750>>: AttributeError: module 'gast' has no attribute 'Index'\n",
      "WARNING:tensorflow:Entity <bound method Dense.call of <tensorflow.python.layers.core.Dense object at 0x7f319d319750>> could not be transformed and will be executed as-is. Please report this to the AutgoGraph team. When filing the bug, set the verbosity to 10 (on Linux, `export AUTOGRAPH_VERBOSITY=10`) and attach the full output. Cause: converting <bound method Dense.call of <tensorflow.python.layers.core.Dense object at 0x7f319d319750>>: AttributeError: module 'gast' has no attribute 'Index'\n",
      "WARNING: Entity <bound method Dense.call of <tensorflow.python.layers.core.Dense object at 0x7f319d319750>> could not be transformed and will be executed as-is. Please report this to the AutgoGraph team. When filing the bug, set the verbosity to 10 (on Linux, `export AUTOGRAPH_VERBOSITY=10`) and attach the full output. Cause: converting <bound method Dense.call of <tensorflow.python.layers.core.Dense object at 0x7f319d319750>>: AttributeError: module 'gast' has no attribute 'Index'\n",
      "WARNING:tensorflow:From /home/sheila/repos/ns-3-allinone/ns-3.29/scratch/RLinWiFi-master-original-queue-level-mean/agents/dqn/model.py:69: The name tf.losses.mean_squared_error is deprecated. Please use tf.compat.v1.losses.mean_squared_error instead.\n",
      "\n",
      "WARNING:tensorflow:From /home/sheila/anaconda3/envs/environment_py3_7/lib/python3.7/site-packages/tensorflow/python/ops/losses/losses_impl.py:121: add_dispatch_support.<locals>.wrapper (from tensorflow.python.ops.array_ops) is deprecated and will be removed in a future version.\n",
      "Instructions for updating:\n",
      "Use tf.where in 2.0, which has the same broadcast rule as np.where\n",
      "WARNING:tensorflow:From /home/sheila/repos/ns-3-allinone/ns-3.29/scratch/RLinWiFi-master-original-queue-level-mean/agents/dqn/model.py:77: The name tf.train.AdamOptimizer is deprecated. Please use tf.compat.v1.train.AdamOptimizer instead.\n",
      "\n",
      "WARNING:tensorflow:From /home/sheila/repos/ns-3-allinone/ns-3.29/scratch/RLinWiFi-master-original-queue-level-mean/agents/dqn/model.py:33: The name tf.global_variables_initializer is deprecated. Please use tf.compat.v1.global_variables_initializer instead.\n",
      "\n",
      "WARNING:tensorflow:From /home/sheila/repos/ns-3-allinone/ns-3.29/scratch/RLinWiFi-master-original-queue-level-mean/agents/dqn/model.py:34: The name tf.local_variables_initializer is deprecated. Please use tf.compat.v1.local_variables_initializer instead.\n",
      "\n",
      "WARNING:tensorflow:Entity <bound method LSTMCell.call of <tensorflow.python.ops.rnn_cell_impl.LSTMCell object at 0x7f31863a2c50>> could not be transformed and will be executed as-is. Please report this to the AutgoGraph team. When filing the bug, set the verbosity to 10 (on Linux, `export AUTOGRAPH_VERBOSITY=10`) and attach the full output. Cause: converting <bound method LSTMCell.call of <tensorflow.python.ops.rnn_cell_impl.LSTMCell object at 0x7f31863a2c50>>: AttributeError: module 'gast' has no attribute 'Index'\n",
      "WARNING: Entity <bound method LSTMCell.call of <tensorflow.python.ops.rnn_cell_impl.LSTMCell object at 0x7f31863a2c50>> could not be transformed and will be executed as-is. Please report this to the AutgoGraph team. When filing the bug, set the verbosity to 10 (on Linux, `export AUTOGRAPH_VERBOSITY=10`) and attach the full output. Cause: converting <bound method LSTMCell.call of <tensorflow.python.ops.rnn_cell_impl.LSTMCell object at 0x7f31863a2c50>>: AttributeError: module 'gast' has no attribute 'Index'\n",
      "WARNING:tensorflow:Entity <bound method LSTMCell.call of <tensorflow.python.ops.rnn_cell_impl.LSTMCell object at 0x7f31863a2c50>> could not be transformed and will be executed as-is. Please report this to the AutgoGraph team. When filing the bug, set the verbosity to 10 (on Linux, `export AUTOGRAPH_VERBOSITY=10`) and attach the full output. Cause: converting <bound method LSTMCell.call of <tensorflow.python.ops.rnn_cell_impl.LSTMCell object at 0x7f31863a2c50>>: AttributeError: module 'gast' has no attribute 'Index'\n",
      "WARNING: Entity <bound method LSTMCell.call of <tensorflow.python.ops.rnn_cell_impl.LSTMCell object at 0x7f31863a2c50>> could not be transformed and will be executed as-is. Please report this to the AutgoGraph team. When filing the bug, set the verbosity to 10 (on Linux, `export AUTOGRAPH_VERBOSITY=10`) and attach the full output. Cause: converting <bound method LSTMCell.call of <tensorflow.python.ops.rnn_cell_impl.LSTMCell object at 0x7f31863a2c50>>: AttributeError: module 'gast' has no attribute 'Index'\n",
      "WARNING:tensorflow:Entity <bound method LSTMCell.call of <tensorflow.python.ops.rnn_cell_impl.LSTMCell object at 0x7f31863a2c50>> could not be transformed and will be executed as-is. Please report this to the AutgoGraph team. When filing the bug, set the verbosity to 10 (on Linux, `export AUTOGRAPH_VERBOSITY=10`) and attach the full output. Cause: converting <bound method LSTMCell.call of <tensorflow.python.ops.rnn_cell_impl.LSTMCell object at 0x7f31863a2c50>>: AttributeError: module 'gast' has no attribute 'Index'\n",
      "WARNING: Entity <bound method LSTMCell.call of <tensorflow.python.ops.rnn_cell_impl.LSTMCell object at 0x7f31863a2c50>> could not be transformed and will be executed as-is. Please report this to the AutgoGraph team. When filing the bug, set the verbosity to 10 (on Linux, `export AUTOGRAPH_VERBOSITY=10`) and attach the full output. Cause: converting <bound method LSTMCell.call of <tensorflow.python.ops.rnn_cell_impl.LSTMCell object at 0x7f31863a2c50>>: AttributeError: module 'gast' has no attribute 'Index'\n",
      "WARNING:tensorflow:Entity <bound method LSTMCell.call of <tensorflow.python.ops.rnn_cell_impl.LSTMCell object at 0x7f31863a2c50>> could not be transformed and will be executed as-is. Please report this to the AutgoGraph team. When filing the bug, set the verbosity to 10 (on Linux, `export AUTOGRAPH_VERBOSITY=10`) and attach the full output. Cause: converting <bound method LSTMCell.call of <tensorflow.python.ops.rnn_cell_impl.LSTMCell object at 0x7f31863a2c50>>: AttributeError: module 'gast' has no attribute 'Index'\n",
      "WARNING: Entity <bound method LSTMCell.call of <tensorflow.python.ops.rnn_cell_impl.LSTMCell object at 0x7f31863a2c50>> could not be transformed and will be executed as-is. Please report this to the AutgoGraph team. When filing the bug, set the verbosity to 10 (on Linux, `export AUTOGRAPH_VERBOSITY=10`) and attach the full output. Cause: converting <bound method LSTMCell.call of <tensorflow.python.ops.rnn_cell_impl.LSTMCell object at 0x7f31863a2c50>>: AttributeError: module 'gast' has no attribute 'Index'\n",
      "WARNING:tensorflow:Entity <bound method Dense.call of <tensorflow.python.layers.core.Dense object at 0x7f31863a2c50>> could not be transformed and will be executed as-is. Please report this to the AutgoGraph team. When filing the bug, set the verbosity to 10 (on Linux, `export AUTOGRAPH_VERBOSITY=10`) and attach the full output. Cause: converting <bound method Dense.call of <tensorflow.python.layers.core.Dense object at 0x7f31863a2c50>>: AttributeError: module 'gast' has no attribute 'Index'\n",
      "WARNING: Entity <bound method Dense.call of <tensorflow.python.layers.core.Dense object at 0x7f31863a2c50>> could not be transformed and will be executed as-is. Please report this to the AutgoGraph team. When filing the bug, set the verbosity to 10 (on Linux, `export AUTOGRAPH_VERBOSITY=10`) and attach the full output. Cause: converting <bound method Dense.call of <tensorflow.python.layers.core.Dense object at 0x7f31863a2c50>>: AttributeError: module 'gast' has no attribute 'Index'\n",
      "WARNING:tensorflow:Entity <bound method Dense.call of <tensorflow.python.layers.core.Dense object at 0x7f31863a2c50>> could not be transformed and will be executed as-is. Please report this to the AutgoGraph team. When filing the bug, set the verbosity to 10 (on Linux, `export AUTOGRAPH_VERBOSITY=10`) and attach the full output. Cause: converting <bound method Dense.call of <tensorflow.python.layers.core.Dense object at 0x7f31863a2c50>>: AttributeError: module 'gast' has no attribute 'Index'\n"
     ]
    },
    {
     "name": "stdout",
     "output_type": "stream",
     "text": [
      "WARNING: Entity <bound method Dense.call of <tensorflow.python.layers.core.Dense object at 0x7f31863a2c50>> could not be transformed and will be executed as-is. Please report this to the AutgoGraph team. When filing the bug, set the verbosity to 10 (on Linux, `export AUTOGRAPH_VERBOSITY=10`) and attach the full output. Cause: converting <bound method Dense.call of <tensorflow.python.layers.core.Dense object at 0x7f31863a2c50>>: AttributeError: module 'gast' has no attribute 'Index'\n",
      "WARNING:tensorflow:Entity <bound method Dense.call of <tensorflow.python.layers.core.Dense object at 0x7f31863a2c50>> could not be transformed and will be executed as-is. Please report this to the AutgoGraph team. When filing the bug, set the verbosity to 10 (on Linux, `export AUTOGRAPH_VERBOSITY=10`) and attach the full output. Cause: converting <bound method Dense.call of <tensorflow.python.layers.core.Dense object at 0x7f31863a2c50>>: AttributeError: module 'gast' has no attribute 'Index'\n",
      "WARNING: Entity <bound method Dense.call of <tensorflow.python.layers.core.Dense object at 0x7f31863a2c50>> could not be transformed and will be executed as-is. Please report this to the AutgoGraph team. When filing the bug, set the verbosity to 10 (on Linux, `export AUTOGRAPH_VERBOSITY=10`) and attach the full output. Cause: converting <bound method Dense.call of <tensorflow.python.layers.core.Dense object at 0x7f31863a2c50>>: AttributeError: module 'gast' has no attribute 'Index'\n",
      "WARNING:tensorflow:From /home/sheila/repos/ns-3-allinone/ns-3.29/scratch/RLinWiFi-master-original-queue-level-mean/agents/dqn/agent.py:77: The name tf.train.Saver is deprecated. Please use tf.compat.v1.train.Saver instead.\n",
      "\n",
      "Action space: 7\n",
      "WARNING:tensorflow:From /home/sheila/repos/ns-3-allinone/ns-3.29/scratch/RLinWiFi-master-original-queue-level-mean/agents/dqn/agent.py:107: Variable.load (from tensorflow.python.ops.variables) is deprecated and will be removed in a future version.\n",
      "Instructions for updating:\n",
      "Prefer Variable.assign which has equivalent behavior in 2.X.\n"
     ]
    },
    {
     "name": "stderr",
     "output_type": "stream",
     "text": [
      "COMET INFO: Experiment is live on comet.ml https://www.comet.com/sheila-janota/rl-in-wifi-with-queue-level/2649f76036f0415e9e00af3d8b05f0f9\n",
      "\n"
     ]
    },
    {
     "name": "stdout",
     "output_type": "stream",
     "text": [
      "0\n",
      "42.577881|0|5|-nan\n"
     ]
    },
    {
     "name": "stderr",
     "output_type": "stream",
     "text": [
      "  5%|▌         | 333/6300 [02:11<44:29,  2.23it/s, curr_speed=25.72 Mbps, mb_sent=8.23 Mb]"
     ]
    },
    {
     "name": "stdout",
     "output_type": "stream",
     "text": [
      "------- STARTED TRAINING -------\n"
     ]
    },
    {
     "name": "stderr",
     "output_type": "stream",
     "text": [
      "100%|██████████| 6300/6300 [48:01<00:00,  2.19it/s, curr_speed=28.66 Mbps, mb_sent=1753.15 Mb]\n"
     ]
    },
    {
     "name": "stdout",
     "output_type": "stream",
     "text": [
      "Waiting for simulation script to connect on port: tcp://localhost:30374\n",
      "Please start proper ns-3 simulation script using ./waf --run \"...\"\n",
      "Sent 1753.15 Mb/s.\tMean speed: 29.22 Mb/s\tEpisode 1/15 finished\n",
      "\n",
      "1\n",
      "42.577881|0|5|-nan\n"
     ]
    },
    {
     "name": "stderr",
     "output_type": "stream",
     "text": [
      " 51%|█████     | 3187/6300 [22:57<23:11,  2.24it/s, curr_speed=32.17 Mbps, mb_sent=943.90 Mb]COMET ERROR: File could not be uploaded\n",
      "COMET ERROR: File could not be uploaded\n",
      " 51%|█████     | 3188/6300 [22:58<24:41,  2.10it/s, curr_speed=32.18 Mbps, mb_sent=944.30 Mb]COMET ERROR: File could not be uploaded\n",
      " 51%|█████▏    | 3238/6300 [23:23<23:56,  2.13it/s, curr_speed=34.20 Mbps, mb_sent=961.67 Mb]COMET ERROR: File could not be uploaded\n",
      "COMET ERROR: File could not be uploaded\n",
      " 52%|█████▏    | 3267/6300 [23:38<24:48,  2.04it/s, curr_speed=34.23 Mbps, mb_sent=971.18 Mb]COMET ERROR: File could not be uploaded\n",
      " 52%|█████▏    | 3268/6300 [23:39<26:04,  1.94it/s, curr_speed=34.25 Mbps, mb_sent=971.58 Mb]COMET ERROR: File could not be uploaded\n",
      " 52%|█████▏    | 3298/6300 [23:54<23:03,  2.17it/s, curr_speed=33.97 Mbps, mb_sent=981.87 Mb]COMET ERROR: File could not be uploaded\n",
      " 52%|█████▏    | 3299/6300 [23:54<22:57,  2.18it/s, curr_speed=33.71 Mbps, mb_sent=981.99 Mb]COMET ERROR: File could not be uploaded\n",
      " 53%|█████▎    | 3333/6300 [24:12<26:40,  1.85it/s, curr_speed=33.87 Mbps, mb_sent=994.14 Mb]COMET ERROR: File could not be uploaded\n",
      " 53%|█████▎    | 3361/6300 [24:26<22:56,  2.14it/s, curr_speed=34.90 Mbps, mb_sent=1004.19 Mb]COMET ERROR: File could not be uploaded\n",
      "100%|██████████| 6300/6300 [49:10<00:00,  2.14it/s, curr_speed=34.14 Mbps, mb_sent=1983.85 Mb]\n"
     ]
    },
    {
     "name": "stdout",
     "output_type": "stream",
     "text": [
      "Waiting for simulation script to connect on port: tcp://localhost:37496\n",
      "Please start proper ns-3 simulation script using ./waf --run \"...\"\n",
      "Sent 1983.85 Mb/s.\tMean speed: 33.06 Mb/s\tEpisode 2/15 finished\n",
      "\n",
      "2\n",
      "42.577881|0|5|-nan\n"
     ]
    },
    {
     "name": "stderr",
     "output_type": "stream",
     "text": [
      " 11%|█         | 704/6300 [04:53<38:54,  2.40it/s, curr_speed=33.34 Mbps, mb_sent=138.23 Mb]COMET ERROR: File could not be uploaded\n",
      " 11%|█         | 705/6300 [04:53<40:34,  2.30it/s, curr_speed=33.28 Mbps, mb_sent=138.56 Mb]COMET ERROR: File could not be uploaded\n",
      " 88%|████████▊ | 5549/6300 [43:28<06:03,  2.06it/s, curr_speed=35.06 Mbps, mb_sent=1842.96 Mb]COMET ERROR: File could not be uploaded\n",
      "100%|██████████| 6300/6300 [49:48<00:00,  2.11it/s, curr_speed=35.01 Mbps, mb_sent=2107.90 Mb]\n"
     ]
    },
    {
     "name": "stdout",
     "output_type": "stream",
     "text": [
      "Waiting for simulation script to connect on port: tcp://localhost:24584\n",
      "Please start proper ns-3 simulation script using ./waf --run \"...\"\n",
      "Sent 2107.90 Mb/s.\tMean speed: 35.13 Mb/s\tEpisode 3/15 finished\n",
      "\n",
      "3\n",
      "42.577881|0|5|-nan\n"
     ]
    },
    {
     "name": "stderr",
     "output_type": "stream",
     "text": [
      "  5%|▍         | 304/6300 [01:53<43:57,  2.27it/s, curr_speed=37.98 Mbps, mb_sent=1.14 Mb]"
     ]
    },
    {
     "name": "stdout",
     "output_type": "stream",
     "text": [
      "------- MEMORY BUFFER FILLED -------\n"
     ]
    },
    {
     "name": "stderr",
     "output_type": "stream",
     "text": [
      "100%|██████████| 6300/6300 [51:10<00:00,  2.05it/s, curr_speed=36.60 Mbps, mb_sent=2208.19 Mb]\n"
     ]
    },
    {
     "name": "stdout",
     "output_type": "stream",
     "text": [
      "Waiting for simulation script to connect on port: tcp://localhost:19840\n",
      "Please start proper ns-3 simulation script using ./waf --run \"...\"\n",
      "Sent 2208.19 Mb/s.\tMean speed: 36.80 Mb/s\tEpisode 4/15 finished\n",
      "\n",
      "4\n",
      "42.577881|0|5|-nan\n"
     ]
    },
    {
     "name": "stderr",
     "output_type": "stream",
     "text": [
      "100%|██████████| 6300/6300 [53:08<00:00,  1.98it/s, curr_speed=37.91 Mbps, mb_sent=2242.29 Mb]\n"
     ]
    },
    {
     "name": "stdout",
     "output_type": "stream",
     "text": [
      "Waiting for simulation script to connect on port: tcp://localhost:50703\n",
      "Please start proper ns-3 simulation script using ./waf --run \"...\"\n",
      "Sent 2242.29 Mb/s.\tMean speed: 37.37 Mb/s\tEpisode 5/15 finished\n",
      "\n",
      "5\n",
      "42.577881|0|5|-nan\n"
     ]
    },
    {
     "name": "stderr",
     "output_type": "stream",
     "text": [
      " 14%|█▍        | 911/6300 [06:38<39:36,  2.27it/s, curr_speed=36.88 Mbps, mb_sent=230.08 Mb]COMET ERROR: File could not be uploaded\n",
      " 14%|█▍        | 913/6300 [06:39<43:40,  2.06it/s, curr_speed=36.79 Mbps, mb_sent=230.77 Mb]COMET ERROR: File could not be uploaded\n",
      " 15%|█▍        | 915/6300 [06:40<43:39,  2.06it/s, curr_speed=36.77 Mbps, mb_sent=231.54 Mb]COMET ERROR: File could not be uploaded\n",
      " 15%|█▍        | 928/6300 [06:47<44:14,  2.02it/s, curr_speed=36.70 Mbps, mb_sent=236.48 Mb]COMET ERROR: File could not be uploaded\n",
      " 15%|█▍        | 930/6300 [06:48<41:21,  2.16it/s, curr_speed=36.74 Mbps, mb_sent=237.22 Mb]COMET ERROR: File could not be uploaded\n",
      " 15%|█▍        | 932/6300 [06:49<40:42,  2.20it/s, curr_speed=36.71 Mbps, mb_sent=237.95 Mb]COMET ERROR: File could not be uploaded\n",
      " 15%|█▍        | 939/6300 [06:52<37:32,  2.38it/s, curr_speed=36.59 Mbps, mb_sent=240.53 Mb]COMET ERROR: File could not be uploaded\n",
      " 15%|█▌        | 946/6300 [06:55<38:10,  2.34it/s, curr_speed=36.86 Mbps, mb_sent=243.09 Mb]COMET ERROR: File could not be uploaded\n",
      " 15%|█▌        | 947/6300 [06:55<39:17,  2.27it/s, curr_speed=36.87 Mbps, mb_sent=243.46 Mb]COMET ERROR: File could not be uploaded\n",
      " 15%|█▌        | 949/6300 [06:56<38:58,  2.29it/s, curr_speed=36.88 Mbps, mb_sent=244.21 Mb]COMET ERROR: File could not be uploaded\n",
      " 15%|█▌        | 952/6300 [06:59<1:17:54,  1.14it/s, curr_speed=36.83 Mbps, mb_sent=245.36 Mb]COMET ERROR: File could not be uploaded\n",
      " 15%|█▌        | 962/6300 [07:04<42:36,  2.09it/s, curr_speed=36.90 Mbps, mb_sent=249.32 Mb]  COMET ERROR: File could not be uploaded\n",
      " 15%|█▌        | 964/6300 [07:05<44:24,  2.00it/s, curr_speed=36.64 Mbps, mb_sent=249.88 Mb]COMET ERROR: File could not be uploaded\n",
      " 16%|█▌        | 980/6300 [07:13<41:26,  2.14it/s, curr_speed=37.36 Mbps, mb_sent=256.23 Mb]COMET ERROR: File could not be uploaded\n",
      " 16%|█▌        | 983/6300 [07:14<41:42,  2.12it/s, curr_speed=37.43 Mbps, mb_sent=257.39 Mb]COMET ERROR: File could not be uploaded\n",
      " 16%|█▌        | 985/6300 [07:15<45:00,  1.97it/s, curr_speed=37.46 Mbps, mb_sent=258.18 Mb]COMET ERROR: File could not be uploaded\n",
      " 16%|█▌        | 1013/6300 [07:27<35:24,  2.49it/s, curr_speed=38.39 Mbps, mb_sent=269.16 Mb]COMET ERROR: File could not be uploaded\n",
      " 16%|█▌        | 1015/6300 [07:28<35:44,  2.46it/s, curr_speed=38.34 Mbps, mb_sent=269.89 Mb]COMET ERROR: File could not be uploaded\n",
      " 16%|█▌        | 1016/6300 [07:28<36:24,  2.42it/s, curr_speed=38.36 Mbps, mb_sent=270.30 Mb]COMET ERROR: File could not be uploaded\n",
      " 16%|█▌        | 1017/6300 [07:29<37:04,  2.38it/s, curr_speed=38.37 Mbps, mb_sent=270.69 Mb]COMET ERROR: File could not be uploaded\n",
      " 16%|█▌        | 1019/6300 [07:30<36:20,  2.42it/s, curr_speed=38.49 Mbps, mb_sent=271.50 Mb]COMET ERROR: File could not be uploaded\n",
      " 16%|█▌        | 1022/6300 [07:31<36:57,  2.38it/s, curr_speed=38.41 Mbps, mb_sent=272.59 Mb]COMET ERROR: File could not be uploaded\n",
      " 16%|█▋        | 1024/6300 [07:32<46:27,  1.89it/s, curr_speed=38.53 Mbps, mb_sent=273.44 Mb]COMET ERROR: File could not be uploaded\n",
      " 16%|█▋        | 1033/6300 [07:36<35:28,  2.47it/s, curr_speed=38.66 Mbps, mb_sent=277.01 Mb]COMET ERROR: File could not be uploaded\n",
      " 16%|█▋        | 1035/6300 [07:37<37:32,  2.34it/s, curr_speed=38.80 Mbps, mb_sent=277.85 Mb]COMET ERROR: File could not be uploaded\n",
      " 16%|█▋        | 1038/6300 [07:38<38:23,  2.28it/s, curr_speed=38.84 Mbps, mb_sent=279.00 Mb]COMET ERROR: File could not be uploaded\n",
      " 17%|█▋        | 1040/6300 [07:39<39:19,  2.23it/s, curr_speed=38.88 Mbps, mb_sent=279.74 Mb]COMET ERROR: File could not be uploaded\n",
      " 17%|█▋        | 1047/6300 [07:42<41:33,  2.11it/s, curr_speed=38.87 Mbps, mb_sent=282.33 Mb]COMET ERROR: File could not be uploaded\n",
      " 17%|█▋        | 1048/6300 [07:44<1:14:58,  1.17it/s, curr_speed=38.91 Mbps, mb_sent=282.71 Mb]COMET ERROR: File could not be uploaded\n",
      " 18%|█▊        | 1103/6300 [08:13<44:24,  1.95it/s, curr_speed=38.91 Mbps, mb_sent=304.13 Mb]  COMET ERROR: File could not be uploaded\n",
      "COMET ERROR: File could not be uploaded\n",
      " 18%|█▊        | 1104/6300 [08:14<45:15,  1.91it/s, curr_speed=38.88 Mbps, mb_sent=304.50 Mb]COMET ERROR: File could not be uploaded\n",
      "COMET ERROR: File could not be uploaded\n",
      " 18%|█▊        | 1105/6300 [08:14<47:23,  1.83it/s, curr_speed=38.86 Mbps, mb_sent=304.85 Mb]COMET ERROR: File could not be uploaded\n",
      "COMET ERROR: File could not be uploaded\n",
      " 18%|█▊        | 1106/6300 [08:15<48:20,  1.79it/s, curr_speed=38.87 Mbps, mb_sent=305.25 Mb]COMET ERROR: File could not be uploaded\n",
      "COMET ERROR: File could not be uploaded\n",
      "COMET ERROR: File could not be uploaded\n",
      " 18%|█▊        | 1107/6300 [08:16<53:18,  1.62it/s, curr_speed=38.85 Mbps, mb_sent=305.61 Mb]COMET ERROR: File could not be uploaded\n",
      "COMET ERROR: File could not be uploaded\n",
      "COMET ERROR: File could not be uploaded\n",
      " 18%|█▊        | 1108/6300 [08:17<55:13,  1.57it/s, curr_speed=38.86 Mbps, mb_sent=306.03 Mb]COMET ERROR: File could not be uploaded\n",
      "COMET ERROR: File could not be uploaded\n",
      "COMET ERROR: File could not be uploaded\n",
      " 18%|█▊        | 1109/6300 [08:17<56:23,  1.53it/s, curr_speed=38.86 Mbps, mb_sent=306.42 Mb]COMET ERROR: File could not be uploaded\n",
      " 18%|█▊        | 1114/6300 [08:20<47:32,  1.82it/s, curr_speed=38.87 Mbps, mb_sent=308.40 Mb]COMET ERROR: File could not be uploaded\n",
      " 18%|█▊        | 1117/6300 [08:21<44:39,  1.93it/s, curr_speed=38.91 Mbps, mb_sent=309.61 Mb]COMET ERROR: File could not be uploaded\n",
      " 18%|█▊        | 1118/6300 [08:22<45:15,  1.91it/s, curr_speed=38.91 Mbps, mb_sent=310.02 Mb]COMET ERROR: File could not be uploaded\n",
      " 18%|█▊        | 1142/6300 [08:33<39:25,  2.18it/s, curr_speed=38.36 Mbps, mb_sent=318.80 Mb]COMET ERROR: File could not be uploaded\n",
      "COMET ERROR: File could not be uploaded\n",
      "COMET ERROR: File could not be uploaded\n",
      " 18%|█▊        | 1143/6300 [08:34<45:41,  1.88it/s, curr_speed=38.34 Mbps, mb_sent=319.16 Mb]COMET ERROR: File could not be uploaded\n",
      " 18%|█▊        | 1144/6300 [08:35<46:42,  1.84it/s, curr_speed=38.37 Mbps, mb_sent=319.55 Mb]COMET ERROR: File could not be uploaded\n",
      " 18%|█▊        | 1145/6300 [08:35<46:30,  1.85it/s, curr_speed=38.39 Mbps, mb_sent=319.95 Mb]COMET ERROR: File could not be uploaded\n",
      " 18%|█▊        | 1153/6300 [08:39<43:49,  1.96it/s, curr_speed=38.34 Mbps, mb_sent=323.05 Mb]COMET ERROR: File could not be uploaded\n",
      " 18%|█▊        | 1159/6300 [08:43<45:26,  1.89it/s, curr_speed=38.33 Mbps, mb_sent=325.73 Mb]COMET ERROR: File could not be uploaded\n",
      " 18%|█▊        | 1160/6300 [08:43<43:36,  1.96it/s, curr_speed=38.33 Mbps, mb_sent=325.73 Mb]COMET ERROR: File could not be uploaded\n",
      " 18%|█▊        | 1165/6300 [08:46<43:12,  1.98it/s, curr_speed=38.29 Mbps, mb_sent=327.69 Mb]COMET ERROR: File could not be uploaded\n",
      " 19%|█▊        | 1177/6300 [08:52<41:26,  2.06it/s, curr_speed=38.34 Mbps, mb_sent=332.23 Mb]COMET ERROR: File could not be uploaded\n",
      " 19%|█▊        | 1179/6300 [08:53<45:17,  1.88it/s, curr_speed=38.40 Mbps, mb_sent=333.03 Mb]COMET ERROR: File could not be uploaded\n",
      " 19%|█▊        | 1181/6300 [08:54<41:14,  2.07it/s, curr_speed=38.42 Mbps, mb_sent=333.82 Mb]COMET ERROR: File could not be uploaded\n",
      " 19%|█▉        | 1182/6300 [08:54<42:09,  2.02it/s, curr_speed=38.38 Mbps, mb_sent=334.20 Mb]COMET ERROR: File could not be uploaded\n",
      " 19%|█▉        | 1184/6300 [08:55<40:01,  2.13it/s, curr_speed=38.45 Mbps, mb_sent=335.04 Mb]COMET ERROR: File could not be uploaded\n",
      " 19%|█▉        | 1186/6300 [08:56<38:27,  2.22it/s, curr_speed=38.42 Mbps, mb_sent=335.81 Mb]COMET ERROR: File could not be uploaded\n",
      " 19%|█▉        | 1189/6300 [08:57<39:06,  2.18it/s, curr_speed=38.47 Mbps, mb_sent=337.00 Mb]COMET ERROR: File could not be uploaded\n",
      " 19%|█▉        | 1200/6300 [09:02<36:29,  2.33it/s, curr_speed=38.40 Mbps, mb_sent=341.27 Mb]COMET ERROR: File could not be uploaded\n",
      " 19%|█▉        | 1201/6300 [09:03<36:44,  2.31it/s, curr_speed=38.39 Mbps, mb_sent=341.66 Mb]COMET ERROR: File could not be uploaded\n",
      " 19%|█▉        | 1202/6300 [09:03<40:20,  2.11it/s, curr_speed=38.38 Mbps, mb_sent=342.09 Mb]COMET ERROR: File could not be uploaded\n",
      " 19%|█▉        | 1203/6300 [09:04<47:22,  1.79it/s, curr_speed=38.36 Mbps, mb_sent=342.49 Mb]COMET ERROR: File could not be uploaded\n",
      " 19%|█▉        | 1206/6300 [09:07<1:00:15,  1.41it/s, curr_speed=38.38 Mbps, mb_sent=343.63 Mb]COMET ERROR: File could not be uploaded\n",
      "COMET ERROR: File could not be uploaded\n",
      " 19%|█▉        | 1209/6300 [09:08<49:05,  1.73it/s, curr_speed=38.41 Mbps, mb_sent=344.83 Mb]  COMET ERROR: File could not be uploaded\n",
      " 19%|█▉        | 1213/6300 [09:10<44:44,  1.90it/s, curr_speed=38.27 Mbps, mb_sent=346.25 Mb]COMET ERROR: File could not be uploaded\n",
      " 20%|█▉        | 1237/6300 [09:21<34:05,  2.48it/s, curr_speed=38.39 Mbps, mb_sent=355.55 Mb]COMET ERROR: File could not be uploaded\n",
      " 20%|█▉        | 1239/6300 [09:22<35:55,  2.35it/s, curr_speed=38.69 Mbps, mb_sent=356.32 Mb]COMET ERROR: File could not be uploaded\n",
      " 20%|█▉        | 1241/6300 [09:23<36:43,  2.30it/s, curr_speed=38.66 Mbps, mb_sent=357.08 Mb]COMET ERROR: File could not be uploaded\n",
      " 20%|██        | 1262/6300 [09:34<41:19,  2.03it/s, curr_speed=38.69 Mbps, mb_sent=365.21 Mb]  COMET ERROR: File could not be uploaded\n",
      " 20%|██        | 1263/6300 [09:35<41:21,  2.03it/s, curr_speed=38.67 Mbps, mb_sent=365.62 Mb]COMET ERROR: File could not be uploaded\n",
      "COMET ERROR: File could not be uploaded\n",
      "COMET ERROR: File could not be uploaded\n",
      "COMET ERROR: File could not be uploaded\n",
      " 20%|██        | 1264/6300 [09:35<46:29,  1.81it/s, curr_speed=38.70 Mbps, mb_sent=366.04 Mb]COMET ERROR: File could not be uploaded\n",
      "COMET ERROR: File could not be uploaded\n",
      " 20%|██        | 1268/6300 [09:38<44:40,  1.88it/s, curr_speed=38.82 Mbps, mb_sent=367.57 Mb]COMET ERROR: File could not be uploaded\n",
      " 20%|██        | 1270/6300 [09:39<44:45,  1.87it/s, curr_speed=38.81 Mbps, mb_sent=368.36 Mb]COMET ERROR: File could not be uploaded\n",
      " 20%|██        | 1271/6300 [09:39<45:02,  1.86it/s, curr_speed=38.84 Mbps, mb_sent=368.73 Mb]COMET ERROR: File could not be uploaded\n",
      " 20%|██        | 1279/6300 [09:43<41:30,  2.02it/s, curr_speed=38.59 Mbps, mb_sent=371.62 Mb]COMET ERROR: File could not be uploaded\n",
      " 21%|██        | 1302/6300 [09:54<39:16,  2.12it/s, curr_speed=37.63 Mbps, mb_sent=379.72 Mb]COMET ERROR: File could not be uploaded\n",
      " 21%|██        | 1303/6300 [09:55<40:01,  2.08it/s, curr_speed=37.60 Mbps, mb_sent=380.08 Mb]COMET ERROR: File could not be uploaded\n",
      " 21%|██        | 1304/6300 [09:55<41:13,  2.02it/s, curr_speed=37.54 Mbps, mb_sent=380.44 Mb]COMET ERROR: File could not be uploaded\n",
      "COMET ERROR: File could not be uploaded\n",
      " 21%|██        | 1305/6300 [09:56<43:21,  1.92it/s, curr_speed=37.54 Mbps, mb_sent=380.84 Mb]COMET ERROR: File could not be uploaded\n",
      " 21%|██        | 1315/6300 [10:01<39:53,  2.08it/s, curr_speed=37.41 Mbps, mb_sent=384.42 Mb]COMET ERROR: File could not be uploaded\n",
      " 21%|██        | 1316/6300 [10:01<40:44,  2.04it/s, curr_speed=37.40 Mbps, mb_sent=384.79 Mb]COMET ERROR: File could not be uploaded\n",
      " 21%|██        | 1317/6300 [10:02<41:07,  2.02it/s, curr_speed=37.40 Mbps, mb_sent=385.17 Mb]COMET ERROR: File could not be uploaded\n",
      " 21%|██        | 1331/6300 [10:08<38:57,  2.13it/s, curr_speed=37.41 Mbps, mb_sent=390.56 Mb]COMET ERROR: File could not be uploaded\n",
      " 21%|██        | 1335/6300 [10:11<43:43,  1.89it/s, curr_speed=37.34 Mbps, mb_sent=392.08 Mb]COMET ERROR: File could not be uploaded\n",
      " 21%|██        | 1338/6300 [10:12<42:23,  1.95it/s, curr_speed=37.35 Mbps, mb_sent=393.24 Mb]COMET ERROR: File could not be uploaded\n",
      " 21%|██▏       | 1340/6300 [10:13<45:17,  1.82it/s, curr_speed=37.29 Mbps, mb_sent=394.01 Mb]COMET ERROR: File could not be uploaded\n",
      " 21%|██▏       | 1342/6300 [10:14<43:52,  1.88it/s, curr_speed=37.44 Mbps, mb_sent=394.83 Mb]COMET ERROR: File could not be uploaded\n",
      " 21%|██▏       | 1353/6300 [10:20<39:23,  2.09it/s, curr_speed=37.45 Mbps, mb_sent=399.06 Mb]COMET ERROR: File could not be uploaded\n",
      " 33%|███▎      | 2096/6300 [16:09<28:12,  2.48it/s, curr_speed=38.49 Mbps, mb_sent=683.23 Mb]COMET ERROR: File could not be uploaded\n",
      " 33%|███▎      | 2097/6300 [16:10<28:46,  2.43it/s, curr_speed=38.61 Mbps, mb_sent=683.66 Mb]COMET ERROR: File could not be uploaded\n",
      " 33%|███▎      | 2100/6300 [16:11<31:35,  2.22it/s, curr_speed=38.65 Mbps, mb_sent=684.81 Mb]COMET ERROR: File could not be uploaded\n",
      " 33%|███▎      | 2103/6300 [16:14<48:03,  1.46it/s, curr_speed=38.72 Mbps, mb_sent=685.98 Mb]  COMET ERROR: File could not be uploaded\n",
      " 33%|███▎      | 2110/6300 [16:17<29:06,  2.40it/s, curr_speed=38.77 Mbps, mb_sent=688.76 Mb]COMET ERROR: File could not be uploaded\n",
      " 34%|███▎      | 2112/6300 [16:18<27:17,  2.56it/s, curr_speed=38.76 Mbps, mb_sent=689.50 Mb]COMET ERROR: File could not be uploaded\n",
      " 34%|███▎      | 2115/6300 [16:19<29:35,  2.36it/s, curr_speed=38.66 Mbps, mb_sent=690.58 Mb]COMET ERROR: File could not be uploaded\n",
      " 34%|███▎      | 2116/6300 [16:20<33:08,  2.10it/s, curr_speed=38.74 Mbps, mb_sent=690.99 Mb]COMET ERROR: File could not be uploaded\n",
      " 34%|███▎      | 2122/6300 [16:23<35:09,  1.98it/s, curr_speed=38.78 Mbps, mb_sent=693.33 Mb]COMET ERROR: File could not be uploaded\n",
      " 34%|███▎      | 2126/6300 [16:25<36:10,  1.92it/s, curr_speed=38.67 Mbps, mb_sent=694.85 Mb]COMET ERROR: File could not be uploaded\n",
      " 34%|███▍      | 2132/6300 [16:28<33:54,  2.05it/s, curr_speed=39.03 Mbps, mb_sent=697.16 Mb]COMET ERROR: File could not be uploaded\n",
      " 48%|████▊     | 3032/6300 [23:34<23:14,  2.34it/s, curr_speed=37.61 Mbps, mb_sent=1040.23 Mb]COMET ERROR: File could not be uploaded\n",
      " 48%|████▊     | 3045/6300 [23:42<54:41,  1.01s/it, curr_speed=37.59 Mbps, mb_sent=1044.96 Mb]COMET ERROR: File could not be uploaded\n",
      " 48%|████▊     | 3049/6300 [23:45<40:40,  1.33it/s, curr_speed=37.62 Mbps, mb_sent=1046.53 Mb]  COMET ERROR: File could not be uploaded\n",
      " 48%|████▊     | 3055/6300 [23:48<27:47,  1.95it/s, curr_speed=37.56 Mbps, mb_sent=1048.80 Mb]COMET ERROR: File could not be uploaded\n",
      " 49%|████▉     | 3100/6300 [24:10<26:09,  2.04it/s, curr_speed=38.29 Mbps, mb_sent=1066.19 Mb]COMET ERROR: File could not be uploaded\n",
      " 49%|████▉     | 3102/6300 [24:11<26:37,  2.00it/s, curr_speed=38.28 Mbps, mb_sent=1066.96 Mb]COMET ERROR: File could not be uploaded\n",
      "COMET ERROR: File could not be uploaded\n",
      " 49%|████▉     | 3103/6300 [24:12<28:26,  1.87it/s, curr_speed=38.31 Mbps, mb_sent=1067.35 Mb]COMET ERROR: File could not be uploaded\n",
      "COMET ERROR: File could not be uploaded\n",
      "COMET ERROR: File could not be uploaded\n",
      "COMET ERROR: File could not be uploaded\n",
      " 49%|████▉     | 3104/6300 [24:12<31:58,  1.67it/s, curr_speed=38.28 Mbps, mb_sent=1067.75 Mb]COMET ERROR: File could not be uploaded\n",
      "COMET ERROR: File could not be uploaded\n",
      " 49%|████▉     | 3105/6300 [24:13<33:20,  1.60it/s, curr_speed=38.31 Mbps, mb_sent=1068.10 Mb]COMET ERROR: File could not be uploaded\n",
      "COMET ERROR: File could not be uploaded\n",
      "COMET ERROR: File could not be uploaded\n",
      " 49%|████▉     | 3106/6300 [24:14<34:25,  1.55it/s, curr_speed=38.30 Mbps, mb_sent=1068.51 Mb]COMET ERROR: File could not be uploaded\n",
      " 49%|████▉     | 3107/6300 [24:14<34:29,  1.54it/s, curr_speed=38.32 Mbps, mb_sent=1068.89 Mb]COMET ERROR: File could not be uploaded\n",
      " 49%|████▉     | 3108/6300 [24:15<31:47,  1.67it/s, curr_speed=38.36 Mbps, mb_sent=1069.32 Mb]COMET ERROR: File could not be uploaded\n",
      " 49%|████▉     | 3113/6300 [24:17<27:26,  1.94it/s, curr_speed=38.32 Mbps, mb_sent=1071.26 Mb]COMET ERROR: File could not be uploaded\n",
      " 50%|████▉     | 3121/6300 [24:21<28:16,  1.87it/s, curr_speed=38.18 Mbps, mb_sent=1074.14 Mb]COMET ERROR: File could not be uploaded\n",
      " 50%|████▉     | 3122/6300 [24:22<33:35,  1.58it/s, curr_speed=38.11 Mbps, mb_sent=1074.45 Mb]COMET ERROR: File could not be uploaded\n",
      " 50%|████▉     | 3123/6300 [24:23<36:04,  1.47it/s, curr_speed=38.12 Mbps, mb_sent=1074.82 Mb]COMET ERROR: File could not be uploaded\n",
      " 50%|████▉     | 3124/6300 [24:24<40:39,  1.30it/s, curr_speed=38.15 Mbps, mb_sent=1075.23 Mb]COMET ERROR: File could not be uploaded\n",
      " 50%|████▉     | 3128/6300 [24:27<40:05,  1.32it/s, curr_speed=38.13 Mbps, mb_sent=1076.77 Mb]COMET ERROR: File could not be uploaded\n",
      " 50%|████▉     | 3132/6300 [24:29<31:41,  1.67it/s, curr_speed=38.11 Mbps, mb_sent=1078.34 Mb]COMET ERROR: File could not be uploaded\n",
      " 50%|████▉     | 3139/6300 [24:33<26:33,  1.98it/s, curr_speed=38.11 Mbps, mb_sent=1081.04 Mb]COMET ERROR: File could not be uploaded\n"
     ]
    },
    {
     "name": "stderr",
     "output_type": "stream",
     "text": [
      " 54%|█████▍    | 3396/6300 [26:57<24:26,  1.98it/s, curr_speed=38.02 Mbps, mb_sent=1178.15 Mb]COMET ERROR: File could not be uploaded\n",
      " 54%|█████▍    | 3399/6300 [26:58<26:54,  1.80it/s, curr_speed=38.00 Mbps, mb_sent=1179.31 Mb]COMET ERROR: File could not be uploaded\n",
      " 54%|█████▍    | 3400/6300 [26:59<27:56,  1.73it/s, curr_speed=37.98 Mbps, mb_sent=1179.67 Mb]COMET ERROR: File could not be uploaded\n",
      " 54%|█████▍    | 3405/6300 [27:02<27:07,  1.78it/s, curr_speed=37.91 Mbps, mb_sent=1181.55 Mb]COMET ERROR: File could not be uploaded\n",
      " 54%|█████▍    | 3428/6300 [27:14<25:19,  1.89it/s, curr_speed=38.22 Mbps, mb_sent=1190.54 Mb]COMET ERROR: File could not be uploaded\n",
      " 54%|█████▍    | 3430/6300 [27:15<26:09,  1.83it/s, curr_speed=38.23 Mbps, mb_sent=1191.31 Mb]COMET ERROR: File could not be uploaded\n",
      " 55%|█████▍    | 3434/6300 [27:17<26:22,  1.81it/s, curr_speed=38.30 Mbps, mb_sent=1192.85 Mb]COMET ERROR: File could not be uploaded\n",
      " 55%|█████▍    | 3436/6300 [27:19<27:05,  1.76it/s, curr_speed=38.30 Mbps, mb_sent=1193.57 Mb]COMET ERROR: File could not be uploaded\n",
      " 55%|█████▍    | 3450/6300 [27:26<25:10,  1.89it/s, curr_speed=38.04 Mbps, mb_sent=1198.86 Mb]COMET ERROR: File could not be uploaded\n",
      " 55%|█████▍    | 3460/6300 [27:32<25:31,  1.85it/s, curr_speed=38.05 Mbps, mb_sent=1202.78 Mb]COMET ERROR: File could not be uploaded\n",
      " 55%|█████▌    | 3469/6300 [27:37<24:47,  1.90it/s, curr_speed=38.33 Mbps, mb_sent=1206.31 Mb]COMET ERROR: File could not be uploaded\n",
      " 55%|█████▌    | 3471/6300 [27:38<26:21,  1.79it/s, curr_speed=38.30 Mbps, mb_sent=1207.05 Mb]COMET ERROR: File could not be uploaded\n",
      " 55%|█████▌    | 3477/6300 [27:41<25:07,  1.87it/s, curr_speed=38.43 Mbps, mb_sent=1209.39 Mb]COMET ERROR: File could not be uploaded\n",
      "COMET ERROR: File could not be uploaded\n",
      " 55%|█████▌    | 3478/6300 [27:42<27:44,  1.70it/s, curr_speed=38.34 Mbps, mb_sent=1209.72 Mb]COMET ERROR: File could not be uploaded\n",
      " 55%|█████▌    | 3479/6300 [27:42<28:11,  1.67it/s, curr_speed=38.51 Mbps, mb_sent=1210.10 Mb]COMET ERROR: File could not be uploaded\n",
      " 55%|█████▌    | 3495/6300 [27:51<23:48,  1.96it/s, curr_speed=37.85 Mbps, mb_sent=1215.58 Mb]COMET ERROR: File could not be uploaded\n",
      " 56%|█████▌    | 3497/6300 [27:52<24:58,  1.87it/s, curr_speed=37.81 Mbps, mb_sent=1216.32 Mb]COMET ERROR: File could not be uploaded\n",
      " 56%|█████▌    | 3508/6300 [27:58<24:54,  1.87it/s, curr_speed=37.78 Mbps, mb_sent=1220.52 Mb]COMET ERROR: File could not be uploaded\n",
      " 56%|█████▌    | 3514/6300 [28:02<25:15,  1.84it/s, curr_speed=37.88 Mbps, mb_sent=1222.85 Mb]COMET ERROR: File could not be uploaded\n",
      " 56%|█████▌    | 3520/6300 [28:05<25:25,  1.82it/s, curr_speed=37.85 Mbps, mb_sent=1225.20 Mb]COMET ERROR: File could not be uploaded\n",
      " 61%|██████    | 3837/6300 [30:51<20:50,  1.97it/s, curr_speed=38.04 Mbps, mb_sent=1346.55 Mb]COMET ERROR: File could not be uploaded\n",
      " 61%|██████    | 3838/6300 [30:51<21:03,  1.95it/s, curr_speed=38.04 Mbps, mb_sent=1346.55 Mb]COMET ERROR: File could not be uploaded\n",
      " 61%|██████    | 3838/6300 [30:51<21:03,  1.95it/s, curr_speed=37.99 Mbps, mb_sent=1346.87 Mb]COMET ERROR: File could not be uploaded\n",
      " 61%|██████    | 3839/6300 [30:51<21:44,  1.89it/s, curr_speed=37.99 Mbps, mb_sent=1346.87 Mb]COMET ERROR: File could not be uploaded\n",
      " 61%|██████    | 3843/6300 [30:54<22:21,  1.83it/s, curr_speed=37.92 Mbps, mb_sent=1348.34 Mb]COMET ERROR: File could not be uploaded\n",
      " 61%|██████    | 3847/6300 [30:56<23:03,  1.77it/s, curr_speed=37.88 Mbps, mb_sent=1349.83 Mb]COMET ERROR: File could not be uploaded\n",
      " 61%|██████    | 3849/6300 [30:57<23:14,  1.76it/s, curr_speed=37.90 Mbps, mb_sent=1350.60 Mb]COMET ERROR: File could not be uploaded\n",
      " 61%|██████    | 3856/6300 [31:01<22:27,  1.81it/s, curr_speed=37.90 Mbps, mb_sent=1353.37 Mb]COMET ERROR: File could not be uploaded\n",
      " 61%|██████    | 3858/6300 [31:02<22:07,  1.84it/s, curr_speed=37.91 Mbps, mb_sent=1354.18 Mb]COMET ERROR: File could not be uploaded\n",
      " 61%|██████▏   | 3872/6300 [31:09<20:30,  1.97it/s, curr_speed=37.32 Mbps, mb_sent=1359.12 Mb]COMET ERROR: File could not be uploaded\n",
      " 62%|██████▏   | 3883/6300 [31:15<20:52,  1.93it/s, curr_speed=37.27 Mbps, mb_sent=1363.21 Mb]COMET ERROR: File could not be uploaded\n",
      " 62%|██████▏   | 3892/6300 [31:20<19:46,  2.03it/s, curr_speed=36.89 Mbps, mb_sent=1366.17 Mb]COMET ERROR: File could not be uploaded\n",
      " 62%|██████▏   | 3903/6300 [31:26<20:09,  1.98it/s, curr_speed=36.98 Mbps, mb_sent=1370.34 Mb]COMET ERROR: File could not be uploaded\n",
      " 62%|██████▏   | 3914/6300 [31:31<20:14,  1.96it/s, curr_speed=36.90 Mbps, mb_sent=1374.51 Mb]COMET ERROR: File could not be uploaded\n",
      " 62%|██████▏   | 3920/6300 [31:34<20:36,  1.92it/s, curr_speed=37.15 Mbps, mb_sent=1376.82 Mb]COMET ERROR: File could not be uploaded\n",
      " 62%|██████▏   | 3923/6300 [31:36<21:18,  1.86it/s, curr_speed=37.08 Mbps, mb_sent=1377.93 Mb]COMET ERROR: File could not be uploaded\n",
      " 62%|██████▏   | 3925/6300 [31:37<22:14,  1.78it/s, curr_speed=37.07 Mbps, mb_sent=1378.64 Mb]COMET ERROR: File could not be uploaded\n",
      " 63%|██████▎   | 3947/6300 [31:48<18:48,  2.08it/s, curr_speed=37.09 Mbps, mb_sent=1386.92 Mb]COMET ERROR: File could not be uploaded\n",
      " 63%|██████▎   | 3953/6300 [31:51<18:32,  2.11it/s, curr_speed=36.65 Mbps, mb_sent=1388.86 Mb]COMET ERROR: File could not be uploaded\n",
      " 63%|██████▎   | 3954/6300 [31:51<19:04,  2.05it/s, curr_speed=36.64 Mbps, mb_sent=1389.24 Mb]COMET ERROR: File could not be uploaded\n",
      " 63%|██████▎   | 3956/6300 [31:52<19:30,  2.00it/s, curr_speed=36.61 Mbps, mb_sent=1389.98 Mb]COMET ERROR: File could not be uploaded\n",
      " 63%|██████▎   | 3957/6300 [31:53<19:18,  2.02it/s, curr_speed=36.58 Mbps, mb_sent=1390.37 Mb]COMET ERROR: File could not be uploaded\n",
      " 63%|██████▎   | 3961/6300 [31:55<19:18,  2.02it/s, curr_speed=36.55 Mbps, mb_sent=1391.88 Mb]COMET ERROR: File could not be uploaded\n",
      " 63%|██████▎   | 3964/6300 [31:56<18:46,  2.07it/s, curr_speed=36.68 Mbps, mb_sent=1392.96 Mb]COMET ERROR: File could not be uploaded\n",
      " 63%|██████▎   | 3971/6300 [32:00<19:07,  2.03it/s, curr_speed=37.04 Mbps, mb_sent=1395.78 Mb]COMET ERROR: File could not be uploaded\n",
      " 63%|██████▎   | 3973/6300 [32:04<44:21,  1.14s/it, curr_speed=36.95 Mbps, mb_sent=1396.45 Mb]COMET ERROR: File could not be uploaded\n",
      " 63%|██████▎   | 3978/6300 [32:07<26:31,  1.46it/s, curr_speed=36.94 Mbps, mb_sent=1398.36 Mb]COMET ERROR: File could not be uploaded\n",
      " 64%|██████▍   | 4025/6300 [32:30<17:15,  2.20it/s, curr_speed=37.76 Mbps, mb_sent=1416.41 Mb]COMET ERROR: File could not be uploaded\n",
      " 64%|██████▍   | 4027/6300 [32:33<30:14,  1.25it/s, curr_speed=37.96 Mbps, mb_sent=1417.04 Mb]COMET ERROR: File could not be uploaded\n",
      "COMET ERROR: File could not be uploaded\n",
      "COMET ERROR: File could not be uploaded\n",
      " 64%|██████▍   | 4028/6300 [32:34<28:35,  1.32it/s, curr_speed=37.94 Mbps, mb_sent=1417.43 Mb]COMET ERROR: File could not be uploaded\n",
      "COMET ERROR: File could not be uploaded\n",
      "COMET ERROR: File could not be uploaded\n",
      " 64%|██████▍   | 4030/6300 [32:35<25:32,  1.48it/s, curr_speed=37.63 Mbps, mb_sent=1417.96 Mb]COMET ERROR: File could not be uploaded\n",
      " 64%|██████▍   | 4043/6300 [32:42<19:42,  1.91it/s, curr_speed=37.64 Mbps, mb_sent=1423.04 Mb]COMET ERROR: File could not be uploaded\n",
      " 64%|██████▍   | 4050/6300 [32:46<20:27,  1.83it/s, curr_speed=37.75 Mbps, mb_sent=1426.16 Mb]COMET ERROR: File could not be uploaded\n",
      " 64%|██████▍   | 4052/6300 [32:47<20:44,  1.81it/s, curr_speed=38.02 Mbps, mb_sent=1426.54 Mb]COMET ERROR: File could not be uploaded\n",
      " 65%|██████▍   | 4078/6300 [33:01<19:29,  1.90it/s, curr_speed=37.98 Mbps, mb_sent=1436.33 Mb]COMET ERROR: File could not be uploaded\n",
      " 65%|██████▍   | 4080/6300 [33:02<20:28,  1.81it/s, curr_speed=37.95 Mbps, mb_sent=1437.13 Mb]COMET ERROR: File could not be uploaded\n",
      "COMET ERROR: File could not be uploaded\n",
      "COMET ERROR: File could not be uploaded\n",
      " 65%|██████▍   | 4084/6300 [33:05<21:53,  1.69it/s, curr_speed=38.00 Mbps, mb_sent=1438.73 Mb]COMET ERROR: File could not be uploaded\n",
      " 65%|██████▍   | 4087/6300 [33:06<23:03,  1.60it/s, curr_speed=38.01 Mbps, mb_sent=1439.93 Mb]COMET ERROR: File could not be uploaded\n",
      " 65%|██████▍   | 4092/6300 [33:09<21:39,  1.70it/s, curr_speed=38.05 Mbps, mb_sent=1441.83 Mb]COMET ERROR: File could not be uploaded\n",
      " 65%|██████▌   | 4095/6300 [33:11<20:34,  1.79it/s, curr_speed=37.99 Mbps, mb_sent=1442.97 Mb]COMET ERROR: File could not be uploaded\n",
      " 65%|██████▌   | 4096/6300 [33:12<21:13,  1.73it/s, curr_speed=38.03 Mbps, mb_sent=1443.37 Mb]COMET ERROR: File could not be uploaded\n",
      " 65%|██████▌   | 4112/6300 [33:20<18:46,  1.94it/s, curr_speed=38.27 Mbps, mb_sent=1449.70 Mb]COMET ERROR: File could not be uploaded\n",
      " 66%|██████▌   | 4135/6300 [33:32<18:19,  1.97it/s, curr_speed=38.34 Mbps, mb_sent=1458.35 Mb]COMET ERROR: File could not be uploaded\n",
      " 66%|██████▌   | 4137/6300 [33:33<18:37,  1.94it/s, curr_speed=38.36 Mbps, mb_sent=1459.07 Mb]COMET ERROR: File could not be uploaded\n",
      " 66%|██████▌   | 4140/6300 [33:35<18:52,  1.91it/s, curr_speed=38.33 Mbps, mb_sent=1460.21 Mb]COMET ERROR: File could not be uploaded\n",
      " 66%|██████▌   | 4143/6300 [33:37<19:31,  1.84it/s, curr_speed=38.36 Mbps, mb_sent=1461.40 Mb]COMET ERROR: File could not be uploaded\n",
      " 66%|██████▌   | 4150/6300 [33:41<19:46,  1.81it/s, curr_speed=38.33 Mbps, mb_sent=1464.12 Mb]COMET ERROR: File could not be uploaded\n",
      " 66%|██████▌   | 4161/6300 [33:47<18:25,  1.94it/s, curr_speed=38.36 Mbps, mb_sent=1468.26 Mb]COMET ERROR: File could not be uploaded\n",
      " 66%|██████▌   | 4162/6300 [33:47<19:07,  1.86it/s, curr_speed=38.37 Mbps, mb_sent=1468.65 Mb]COMET ERROR: File could not be uploaded\n",
      " 66%|██████▌   | 4164/6300 [33:48<19:42,  1.81it/s, curr_speed=38.32 Mbps, mb_sent=1469.42 Mb]COMET ERROR: File could not be uploaded\n",
      " 66%|██████▌   | 4166/6300 [33:49<19:21,  1.84it/s, curr_speed=38.40 Mbps, mb_sent=1470.19 Mb]COMET ERROR: File could not be uploaded\n",
      " 66%|██████▋   | 4177/6300 [33:55<17:17,  2.05it/s, curr_speed=38.40 Mbps, mb_sent=1474.35 Mb]COMET ERROR: File could not be uploaded\n",
      " 66%|██████▋   | 4182/6300 [33:58<16:53,  2.09it/s, curr_speed=38.34 Mbps, mb_sent=1476.29 Mb]COMET ERROR: File could not be uploaded\n",
      " 66%|██████▋   | 4186/6300 [34:00<18:49,  1.87it/s, curr_speed=38.28 Mbps, mb_sent=1477.81 Mb]COMET ERROR: File could not be uploaded\n",
      " 67%|██████▋   | 4191/6300 [34:04<32:55,  1.07it/s, curr_speed=38.30 Mbps, mb_sent=1479.76 Mb]COMET ERROR: File could not be uploaded\n",
      "100%|██████████| 6300/6300 [54:44<00:00,  1.92it/s, curr_speed=37.02 Mbps, mb_sent=2273.39 Mb]\n"
     ]
    },
    {
     "name": "stdout",
     "output_type": "stream",
     "text": [
      "Waiting for simulation script to connect on port: tcp://localhost:25164\n",
      "Please start proper ns-3 simulation script using ./waf --run \"...\"\n",
      "Sent 2273.39 Mb/s.\tMean speed: 37.89 Mb/s\tEpisode 6/15 finished\n",
      "\n",
      "6\n",
      "42.577881|0|5|-nan\n"
     ]
    },
    {
     "name": "stderr",
     "output_type": "stream",
     "text": [
      "100%|██████████| 6300/6300 [56:31<00:00,  1.86it/s, curr_speed=37.95 Mbps, mb_sent=2292.91 Mb]  \n"
     ]
    },
    {
     "name": "stdout",
     "output_type": "stream",
     "text": [
      "Waiting for simulation script to connect on port: tcp://localhost:14523\n",
      "Please start proper ns-3 simulation script using ./waf --run \"...\"\n",
      "Sent 2292.91 Mb/s.\tMean speed: 38.22 Mb/s\tEpisode 7/15 finished\n",
      "\n",
      "7\n",
      "42.577881|0|5|-nan\n"
     ]
    },
    {
     "name": "stderr",
     "output_type": "stream",
     "text": [
      "100%|██████████| 6300/6300 [50:20<00:00,  2.09it/s, curr_speed=38.36 Mbps, mb_sent=2305.94 Mb]\n"
     ]
    },
    {
     "name": "stdout",
     "output_type": "stream",
     "text": [
      "Waiting for simulation script to connect on port: tcp://localhost:18862\n",
      "Please start proper ns-3 simulation script using ./waf --run \"...\"\n",
      "Sent 2305.94 Mb/s.\tMean speed: 38.43 Mb/s\tEpisode 8/15 finished\n",
      "\n",
      "8\n",
      "42.577881|0|5|-nan\n"
     ]
    },
    {
     "name": "stderr",
     "output_type": "stream",
     "text": [
      "100%|██████████| 6300/6300 [49:46<00:00,  2.11it/s, curr_speed=37.95 Mbps, mb_sent=2311.49 Mb]\n"
     ]
    },
    {
     "name": "stdout",
     "output_type": "stream",
     "text": [
      "Waiting for simulation script to connect on port: tcp://localhost:47010\n",
      "Please start proper ns-3 simulation script using ./waf --run \"...\"\n",
      "Sent 2311.49 Mb/s.\tMean speed: 38.52 Mb/s\tEpisode 9/15 finished\n",
      "\n",
      "9\n",
      "42.577881|0|5|-nan\n"
     ]
    },
    {
     "name": "stderr",
     "output_type": "stream",
     "text": [
      "100%|██████████| 6300/6300 [49:20<00:00,  2.13it/s, curr_speed=38.36 Mbps, mb_sent=2313.77 Mb]\n"
     ]
    },
    {
     "name": "stdout",
     "output_type": "stream",
     "text": [
      "Waiting for simulation script to connect on port: tcp://localhost:51258\n",
      "Please start proper ns-3 simulation script using ./waf --run \"...\"\n",
      "Sent 2313.77 Mb/s.\tMean speed: 38.56 Mb/s\tEpisode 10/15 finished\n",
      "\n",
      "10\n",
      "42.577881|0|5|-nan\n"
     ]
    },
    {
     "name": "stderr",
     "output_type": "stream",
     "text": [
      "100%|██████████| 6300/6300 [50:06<00:00,  2.10it/s, curr_speed=38.34 Mbps, mb_sent=2314.50 Mb]\n"
     ]
    },
    {
     "name": "stdout",
     "output_type": "stream",
     "text": [
      "Waiting for simulation script to connect on port: tcp://localhost:45939\n",
      "Please start proper ns-3 simulation script using ./waf --run \"...\"\n",
      "Sent 2314.50 Mb/s.\tMean speed: 38.57 Mb/s\tEpisode 11/15 finished\n",
      "\n",
      "11\n",
      "42.577881|0|5|-nan\n"
     ]
    },
    {
     "name": "stderr",
     "output_type": "stream",
     "text": [
      "100%|██████████| 6300/6300 [51:58<00:00,  2.02it/s, curr_speed=38.11 Mbps, mb_sent=2315.43 Mb]\n"
     ]
    },
    {
     "name": "stdout",
     "output_type": "stream",
     "text": [
      "Waiting for simulation script to connect on port: tcp://localhost:35968\n",
      "Please start proper ns-3 simulation script using ./waf --run \"...\"\n",
      "WARNING:tensorflow:From /home/sheila/anaconda3/envs/environment_py3_7/lib/python3.7/site-packages/tensorflow/python/training/saver.py:960: remove_checkpoint (from tensorflow.python.training.checkpoint_management) is deprecated and will be removed in a future version.\n",
      "Instructions for updating:\n",
      "Use standard file APIs to delete files with this prefix.\n",
      "Sent 2315.43 Mb/s.\tMean speed: 38.59 Mb/s\tEpisode 12/15 finished\n",
      "\n",
      "12\n",
      "Turning off noise\n",
      "42.577881|0|5|-nan\n"
     ]
    },
    {
     "name": "stderr",
     "output_type": "stream",
     "text": [
      "100%|██████████| 6300/6300 [49:49<00:00,  2.11it/s, curr_speed=38.49 Mbps, mb_sent=2317.45 Mb]\n"
     ]
    },
    {
     "name": "stdout",
     "output_type": "stream",
     "text": [
      "Waiting for simulation script to connect on port: tcp://localhost:32848\n",
      "Please start proper ns-3 simulation script using ./waf --run \"...\"\n",
      "Sent 2317.45 Mb/s.\tMean speed: 38.62 Mb/s\tEpisode 13/15 finished\n",
      "\n",
      "13\n",
      "Turning off noise\n",
      "42.577881|0|5|-nan\n"
     ]
    },
    {
     "name": "stderr",
     "output_type": "stream",
     "text": [
      " 93%|█████████▎| 5861/6300 [47:11<04:26,  1.64it/s, curr_speed=38.29 Mbps, mb_sent=2148.91 Mb]COMET ERROR: File could not be uploaded\n",
      " 93%|█████████▎| 5862/6300 [47:11<04:29,  1.63it/s, curr_speed=38.31 Mbps, mb_sent=2149.31 Mb]COMET ERROR: File could not be uploaded\n",
      " 93%|█████████▎| 5863/6300 [47:12<04:34,  1.59it/s, curr_speed=38.37 Mbps, mb_sent=2149.71 Mb]COMET ERROR: File could not be uploaded\n",
      " 93%|█████████▎| 5864/6300 [47:13<04:18,  1.69it/s, curr_speed=38.36 Mbps, mb_sent=2150.07 Mb]COMET ERROR: File could not be uploaded\n",
      "100%|██████████| 6300/6300 [51:05<00:00,  2.06it/s, curr_speed=38.30 Mbps, mb_sent=2317.96 Mb]\n"
     ]
    },
    {
     "name": "stdout",
     "output_type": "stream",
     "text": [
      "Waiting for simulation script to connect on port: tcp://localhost:42120\n",
      "Please start proper ns-3 simulation script using ./waf --run \"...\"\n",
      "Sent 2317.96 Mb/s.\tMean speed: 38.63 Mb/s\tEpisode 14/15 finished\n",
      "\n",
      "14\n",
      "Turning off noise\n",
      "42.577881|0|5|-nan\n"
     ]
    },
    {
     "name": "stderr",
     "output_type": "stream",
     "text": [
      " 23%|██▎       | 1438/6300 [11:42<47:07,  1.72it/s, curr_speed=38.49 Mbps, mb_sent=443.52 Mb]COMET ERROR: File could not be uploaded\n",
      " 23%|██▎       | 1439/6300 [11:43<45:47,  1.77it/s, curr_speed=38.48 Mbps, mb_sent=443.91 Mb]COMET ERROR: File could not be uploaded\n",
      " 23%|██▎       | 1440/6300 [11:43<44:30,  1.82it/s, curr_speed=38.39 Mbps, mb_sent=444.23 Mb]COMET ERROR: File could not be uploaded\n",
      " 23%|██▎       | 1449/6300 [11:49<44:53,  1.80it/s, curr_speed=38.48 Mbps, mb_sent=447.68 Mb]COMET ERROR: File could not be uploaded\n",
      " 23%|██▎       | 1450/6300 [11:49<43:36,  1.85it/s, curr_speed=38.50 Mbps, mb_sent=448.11 Mb]COMET ERROR: File could not be uploaded\n",
      " 23%|██▎       | 1451/6300 [11:50<43:38,  1.85it/s, curr_speed=38.50 Mbps, mb_sent=448.52 Mb]COMET ERROR: File could not be uploaded\n",
      "100%|██████████| 6300/6300 [52:33<00:00,  2.00it/s, curr_speed=38.38 Mbps, mb_sent=2322.01 Mb]\n"
     ]
    },
    {
     "name": "stdout",
     "output_type": "stream",
     "text": [
      "Waiting for simulation script to connect on port: tcp://localhost:19350\n",
      "Please start proper ns-3 simulation script using ./waf --run \"...\"\n"
     ]
    },
    {
     "name": "stderr",
     "output_type": "stream",
     "text": [
      "COMET INFO: ----------------------------\n",
      "COMET INFO: Comet.ml Experiment Summary:\n",
      "COMET INFO:   Data:\n",
      "COMET INFO:     url: https://www.comet.com/sheila-janota/rl-in-wifi-with-queue-level/2649f76036f0415e9e00af3d8b05f0f9\n",
      "COMET INFO:   Metrics [count] (min, max):\n",
      "COMET INFO:     Chosen CW [89985]           : (16.0, 1024.0)\n",
      "COMET INFO:     Cumulative reward [15]      : (2440.86376953125, 3250.439208984375)\n",
      "COMET INFO:     Current throughput [89985]  : (23.455801010131836, 47.983882904052734)\n",
      "COMET INFO:     Fairness index [89985]      : (0.17516300082206726, 0.9999629855155945)\n",
      "COMET INFO:     Megabytes sent [89985]      : (0.23455800116062164, 2322.0135194659233)\n",
      "COMET INFO:     Observation 0 [89985]       : (0.6820071592181921, 0.8571428656578064)\n",
      "COMET INFO:     Observation 1 [89985]       : (0.0, 0.08786041946037462)\n",
      "COMET INFO:     Per-ep reward [89985]       : (103.68212890625, 3250.439208984375)\n",
      "COMET INFO:     Round megabytes sent [89985]: (0.05584700033068657, 11.82843017578125)\n",
      "COMET INFO:     Round reward [89985]        : (0.074462890625, 0.610595703125)\n",
      "COMET INFO:     Speed [15]                  : (29.219238197865586, 38.700225324432054)\n",
      "COMET INFO:     Station count [89985]       : (5.0, 6.0)\n",
      "COMET INFO:     loss [89985]                : (0.0, 0.15598253160715103)\n",
      "COMET INFO:   Uploads:\n",
      "COMET INFO:     histogram3d: 89985\n",
      "COMET INFO: ----------------------------\n"
     ]
    },
    {
     "name": "stdout",
     "output_type": "stream",
     "text": [
      "Sent 2322.01 Mb/s.\tMean speed: 38.70 Mb/s\tEpisode 15/15 finished\n",
      "\n"
     ]
    },
    {
     "name": "stderr",
     "output_type": "stream",
     "text": [
      "COMET INFO: Uploading stats to Comet before program termination (may take several seconds)\n"
     ]
    },
    {
     "name": "stdout",
     "output_type": "stream",
     "text": [
      "Training finished.\n"
     ]
    }
   ],
   "source": [
    "#%%\n",
    "teacher = Teacher(env, 1, Preprocessor(False))\n",
    "\n",
    "lr = 4e-4\n",
    "config = Config(buffer_size=3*steps_per_ep*threads_no, batch_size=32, gamma=0.7, tau=1e-3, lr=lr, update_every=1)\n",
    "agent = Agent(QNetworkTf, history_length, action_size=7, config=config)\n",
    "agent.set_epsilon(0.9, 0.001, EPISODE_COUNT-2)\n",
    "\n",
    "# Test the model\n",
    "hyperparams = {**config.__dict__, **sim_args}\n",
    "tags = [\"Rew: normalized speed\",\n",
    "        \"Final\",\n",
    "        f\"{Agent.NAME}\",\n",
    "        sim_args['scenario'],\n",
    "        f\"LR: {lr}\",\n",
    "        f\"Instances: {threads_no}\",\n",
    "        f\"Station count: {sim_args['nWifi']}\",\n",
    "        *[f\"{key}: {sim_args[key]}\" for key in list(sim_args)[:3]]]\n",
    "# # agent.save()\n",
    "logger = teacher.train(agent, EPISODE_COUNT,\n",
    "                        simTime=simTime,\n",
    "                        stepTime=stepTime,\n",
    "                        history_length=history_length,\n",
    "                        send_logs=True,\n",
    "                        experimental=True,\n",
    "                        tags=tags,\n",
    "                        parameters=hyperparams)\n",
    "#logger = teacher.eval(agent,\n",
    "#                        simTime=simTime,\n",
    "#                        stepTime=stepTime,\n",
    "#                        history_length=history_length,\n",
    "#                        tags=tags,\n",
    "#                        parameters=hyperparams)\n",
    "# agent.save()\n",
    "\n",
    "\n",
    "# %%"
   ]
  },
  {
   "cell_type": "code",
   "execution_count": null,
   "id": "7a50545c",
   "metadata": {},
   "outputs": [],
   "source": []
  },
  {
   "cell_type": "markdown",
   "id": "4913689e",
   "metadata": {},
   "source": [
    "# Execution num3:"
   ]
  },
  {
   "cell_type": "code",
   "execution_count": 1,
   "id": "fc0e260e",
   "metadata": {},
   "outputs": [
    {
     "name": "stderr",
     "output_type": "stream",
     "text": [
      "/home/sheila/anaconda3/envs/environment_py3_7/lib/python3.7/site-packages/tensorflow/python/framework/dtypes.py:516: FutureWarning: Passing (type, 1) or '1type' as a synonym of type is deprecated; in a future version of numpy, it will be understood as (type, (1,)) / '(1,)type'.\n",
      "  _np_qint8 = np.dtype([(\"qint8\", np.int8, 1)])\n",
      "/home/sheila/anaconda3/envs/environment_py3_7/lib/python3.7/site-packages/tensorflow/python/framework/dtypes.py:517: FutureWarning: Passing (type, 1) or '1type' as a synonym of type is deprecated; in a future version of numpy, it will be understood as (type, (1,)) / '(1,)type'.\n",
      "  _np_quint8 = np.dtype([(\"quint8\", np.uint8, 1)])\n",
      "/home/sheila/anaconda3/envs/environment_py3_7/lib/python3.7/site-packages/tensorflow/python/framework/dtypes.py:518: FutureWarning: Passing (type, 1) or '1type' as a synonym of type is deprecated; in a future version of numpy, it will be understood as (type, (1,)) / '(1,)type'.\n",
      "  _np_qint16 = np.dtype([(\"qint16\", np.int16, 1)])\n",
      "/home/sheila/anaconda3/envs/environment_py3_7/lib/python3.7/site-packages/tensorflow/python/framework/dtypes.py:519: FutureWarning: Passing (type, 1) or '1type' as a synonym of type is deprecated; in a future version of numpy, it will be understood as (type, (1,)) / '(1,)type'.\n",
      "  _np_quint16 = np.dtype([(\"quint16\", np.uint16, 1)])\n",
      "/home/sheila/anaconda3/envs/environment_py3_7/lib/python3.7/site-packages/tensorflow/python/framework/dtypes.py:520: FutureWarning: Passing (type, 1) or '1type' as a synonym of type is deprecated; in a future version of numpy, it will be understood as (type, (1,)) / '(1,)type'.\n",
      "  _np_qint32 = np.dtype([(\"qint32\", np.int32, 1)])\n",
      "/home/sheila/anaconda3/envs/environment_py3_7/lib/python3.7/site-packages/tensorflow/python/framework/dtypes.py:525: FutureWarning: Passing (type, 1) or '1type' as a synonym of type is deprecated; in a future version of numpy, it will be understood as (type, (1,)) / '(1,)type'.\n",
      "  np_resource = np.dtype([(\"resource\", np.ubyte, 1)])\n",
      "/home/sheila/anaconda3/envs/environment_py3_7/lib/python3.7/site-packages/tensorboard/compat/tensorflow_stub/dtypes.py:541: FutureWarning: Passing (type, 1) or '1type' as a synonym of type is deprecated; in a future version of numpy, it will be understood as (type, (1,)) / '(1,)type'.\n",
      "  _np_qint8 = np.dtype([(\"qint8\", np.int8, 1)])\n",
      "/home/sheila/anaconda3/envs/environment_py3_7/lib/python3.7/site-packages/tensorboard/compat/tensorflow_stub/dtypes.py:542: FutureWarning: Passing (type, 1) or '1type' as a synonym of type is deprecated; in a future version of numpy, it will be understood as (type, (1,)) / '(1,)type'.\n",
      "  _np_quint8 = np.dtype([(\"quint8\", np.uint8, 1)])\n",
      "/home/sheila/anaconda3/envs/environment_py3_7/lib/python3.7/site-packages/tensorboard/compat/tensorflow_stub/dtypes.py:543: FutureWarning: Passing (type, 1) or '1type' as a synonym of type is deprecated; in a future version of numpy, it will be understood as (type, (1,)) / '(1,)type'.\n",
      "  _np_qint16 = np.dtype([(\"qint16\", np.int16, 1)])\n",
      "/home/sheila/anaconda3/envs/environment_py3_7/lib/python3.7/site-packages/tensorboard/compat/tensorflow_stub/dtypes.py:544: FutureWarning: Passing (type, 1) or '1type' as a synonym of type is deprecated; in a future version of numpy, it will be understood as (type, (1,)) / '(1,)type'.\n",
      "  _np_quint16 = np.dtype([(\"quint16\", np.uint16, 1)])\n",
      "/home/sheila/anaconda3/envs/environment_py3_7/lib/python3.7/site-packages/tensorboard/compat/tensorflow_stub/dtypes.py:545: FutureWarning: Passing (type, 1) or '1type' as a synonym of type is deprecated; in a future version of numpy, it will be understood as (type, (1,)) / '(1,)type'.\n",
      "  _np_qint32 = np.dtype([(\"qint32\", np.int32, 1)])\n",
      "/home/sheila/anaconda3/envs/environment_py3_7/lib/python3.7/site-packages/tensorboard/compat/tensorflow_stub/dtypes.py:550: FutureWarning: Passing (type, 1) or '1type' as a synonym of type is deprecated; in a future version of numpy, it will be understood as (type, (1,)) / '(1,)type'.\n",
      "  np_resource = np.dtype([(\"resource\", np.ubyte, 1)])\n"
     ]
    }
   ],
   "source": [
    "#%%\n",
    "from ns3gym import ns3env\n",
    "from comet_ml import Experiment, Optimizer\n",
    "import tqdm\n",
    "import subprocess\n",
    "from collections import deque\n",
    "import numpy as np\n",
    "\n",
    "from agents.dqn.agent import Agent, Config\n",
    "from agents.dqn.model import QNetworkTf\n",
    "from agents.teacher import Teacher, EnvWrapper\n",
    "from preprocessor import Preprocessor"
   ]
  },
  {
   "cell_type": "code",
   "execution_count": 2,
   "id": "bda6c751",
   "metadata": {},
   "outputs": [
    {
     "name": "stdout",
     "output_type": "stream",
     "text": [
      "Steps per episode: 6000\n",
      "Waiting for simulation script to connect on port: tcp://localhost:41723\n",
      "Please start proper ns-3 simulation script using ./waf --run \"...\"\n",
      "42.577881|0|5|-nan\n",
      "Observation space shape: (1, 300)\n",
      "Action space shape: (1, 1)\n"
     ]
    }
   ],
   "source": [
    "#%%\n",
    "scenario = \"convergence\"\n",
    "\n",
    "simTime = 60 # seconds\n",
    "stepTime = 0.01  # seconds\n",
    "history_length = 300\n",
    "\n",
    "EPISODE_COUNT = 15\n",
    "steps_per_ep = int(simTime/stepTime)\n",
    "\n",
    "sim_args = {\n",
    "    \"simTime\": simTime,\n",
    "    \"envStepTime\": stepTime,\n",
    "    \"historyLength\": history_length,\n",
    "    \"agentType\": Agent.TYPE,\n",
    "    \"scenario\": \"convergence\",\n",
    "    \"nWifi\": 6,\n",
    "}\n",
    "\n",
    "print(\"Steps per episode:\", steps_per_ep)\n",
    "\n",
    "threads_no = 1\n",
    "env = EnvWrapper(threads_no, **sim_args)\n",
    "\n",
    "#%%\n",
    "env.reset()\n",
    "ob_space = env.observation_space\n",
    "ac_space = env.action_space\n",
    "\n",
    "print(\"Observation space shape:\", ob_space)\n",
    "print(\"Action space shape:\", ac_space)\n",
    "\n",
    "assert ob_space is not None"
   ]
  },
  {
   "cell_type": "code",
   "execution_count": 3,
   "id": "afb0bd09",
   "metadata": {},
   "outputs": [
    {
     "name": "stdout",
     "output_type": "stream",
     "text": [
      "WARNING:tensorflow:From /home/sheila/repos/ns-3-allinone/ns-3.29/scratch/RLinWiFi-master-original-queue-level-mean/agents/dqn/agent.py:53: The name tf.Session is deprecated. Please use tf.compat.v1.Session instead.\n",
      "\n",
      "WARNING:tensorflow:From /home/sheila/repos/ns-3-allinone/ns-3.29/scratch/RLinWiFi-master-original-queue-level-mean/agents/dqn/model.py:25: The name tf.variable_scope is deprecated. Please use tf.compat.v1.variable_scope instead.\n",
      "\n",
      "WARNING:tensorflow:From /home/sheila/repos/ns-3-allinone/ns-3.29/scratch/RLinWiFi-master-original-queue-level-mean/agents/dqn/model.py:26: The name tf.placeholder is deprecated. Please use tf.compat.v1.placeholder instead.\n",
      "\n",
      "WARNING:tensorflow:\n",
      "The TensorFlow contrib module will not be included in TensorFlow 2.0.\n",
      "For more information, please see:\n",
      "  * https://github.com/tensorflow/community/blob/master/rfcs/20180907-contrib-sunset.md\n",
      "  * https://github.com/tensorflow/addons\n",
      "  * https://github.com/tensorflow/io (for I/O related ops)\n",
      "If you depend on functionality not listed there, please file an issue.\n",
      "\n",
      "WARNING:tensorflow:From /home/sheila/repos/ns-3-allinone/ns-3.29/scratch/RLinWiFi-master-original-queue-level-mean/agents/dqn/model.py:52: LSTMCell.__init__ (from tensorflow.python.ops.rnn_cell_impl) is deprecated and will be removed in a future version.\n",
      "Instructions for updating:\n",
      "This class is equivalent as tf.keras.layers.LSTMCell, and will be replaced by that in Tensorflow 2.0.\n",
      "WARNING:tensorflow:From /home/sheila/repos/ns-3-allinone/ns-3.29/scratch/RLinWiFi-master-original-queue-level-mean/agents/dqn/model.py:52: static_rnn (from tensorflow.python.ops.rnn) is deprecated and will be removed in a future version.\n",
      "Instructions for updating:\n",
      "Please use `keras.layers.RNN(cell, unroll=True)`, which is equivalent to this API\n",
      "WARNING:tensorflow:From /home/sheila/anaconda3/envs/environment_py3_7/lib/python3.7/site-packages/tensorflow/python/ops/init_ops.py:1251: calling VarianceScaling.__init__ (from tensorflow.python.ops.init_ops) with dtype is deprecated and will be removed in a future version.\n",
      "Instructions for updating:\n",
      "Call initializer instance with the dtype argument instead of passing it to the constructor\n",
      "WARNING:tensorflow:From /home/sheila/anaconda3/envs/environment_py3_7/lib/python3.7/site-packages/tensorflow/python/ops/rnn_cell_impl.py:961: calling Zeros.__init__ (from tensorflow.python.ops.init_ops) with dtype is deprecated and will be removed in a future version.\n",
      "Instructions for updating:\n",
      "Call initializer instance with the dtype argument instead of passing it to the constructor\n",
      "WARNING:tensorflow:Entity <bound method LSTMCell.call of <tensorflow.python.ops.rnn_cell_impl.LSTMCell object at 0x7f2590bd0590>> could not be transformed and will be executed as-is. Please report this to the AutgoGraph team. When filing the bug, set the verbosity to 10 (on Linux, `export AUTOGRAPH_VERBOSITY=10`) and attach the full output. Cause: converting <bound method LSTMCell.call of <tensorflow.python.ops.rnn_cell_impl.LSTMCell object at 0x7f2590bd0590>>: AttributeError: module 'gast' has no attribute 'Index'\n",
      "WARNING: Entity <bound method LSTMCell.call of <tensorflow.python.ops.rnn_cell_impl.LSTMCell object at 0x7f2590bd0590>> could not be transformed and will be executed as-is. Please report this to the AutgoGraph team. When filing the bug, set the verbosity to 10 (on Linux, `export AUTOGRAPH_VERBOSITY=10`) and attach the full output. Cause: converting <bound method LSTMCell.call of <tensorflow.python.ops.rnn_cell_impl.LSTMCell object at 0x7f2590bd0590>>: AttributeError: module 'gast' has no attribute 'Index'\n",
      "WARNING:tensorflow:Entity <bound method LSTMCell.call of <tensorflow.python.ops.rnn_cell_impl.LSTMCell object at 0x7f2590bd0590>> could not be transformed and will be executed as-is. Please report this to the AutgoGraph team. When filing the bug, set the verbosity to 10 (on Linux, `export AUTOGRAPH_VERBOSITY=10`) and attach the full output. Cause: converting <bound method LSTMCell.call of <tensorflow.python.ops.rnn_cell_impl.LSTMCell object at 0x7f2590bd0590>>: AttributeError: module 'gast' has no attribute 'Index'\n",
      "WARNING: Entity <bound method LSTMCell.call of <tensorflow.python.ops.rnn_cell_impl.LSTMCell object at 0x7f2590bd0590>> could not be transformed and will be executed as-is. Please report this to the AutgoGraph team. When filing the bug, set the verbosity to 10 (on Linux, `export AUTOGRAPH_VERBOSITY=10`) and attach the full output. Cause: converting <bound method LSTMCell.call of <tensorflow.python.ops.rnn_cell_impl.LSTMCell object at 0x7f2590bd0590>>: AttributeError: module 'gast' has no attribute 'Index'\n",
      "WARNING:tensorflow:Entity <bound method LSTMCell.call of <tensorflow.python.ops.rnn_cell_impl.LSTMCell object at 0x7f2590bd0590>> could not be transformed and will be executed as-is. Please report this to the AutgoGraph team. When filing the bug, set the verbosity to 10 (on Linux, `export AUTOGRAPH_VERBOSITY=10`) and attach the full output. Cause: converting <bound method LSTMCell.call of <tensorflow.python.ops.rnn_cell_impl.LSTMCell object at 0x7f2590bd0590>>: AttributeError: module 'gast' has no attribute 'Index'\n",
      "WARNING: Entity <bound method LSTMCell.call of <tensorflow.python.ops.rnn_cell_impl.LSTMCell object at 0x7f2590bd0590>> could not be transformed and will be executed as-is. Please report this to the AutgoGraph team. When filing the bug, set the verbosity to 10 (on Linux, `export AUTOGRAPH_VERBOSITY=10`) and attach the full output. Cause: converting <bound method LSTMCell.call of <tensorflow.python.ops.rnn_cell_impl.LSTMCell object at 0x7f2590bd0590>>: AttributeError: module 'gast' has no attribute 'Index'\n",
      "WARNING:tensorflow:Entity <bound method LSTMCell.call of <tensorflow.python.ops.rnn_cell_impl.LSTMCell object at 0x7f2590bd0590>> could not be transformed and will be executed as-is. Please report this to the AutgoGraph team. When filing the bug, set the verbosity to 10 (on Linux, `export AUTOGRAPH_VERBOSITY=10`) and attach the full output. Cause: converting <bound method LSTMCell.call of <tensorflow.python.ops.rnn_cell_impl.LSTMCell object at 0x7f2590bd0590>>: AttributeError: module 'gast' has no attribute 'Index'\n",
      "WARNING: Entity <bound method LSTMCell.call of <tensorflow.python.ops.rnn_cell_impl.LSTMCell object at 0x7f2590bd0590>> could not be transformed and will be executed as-is. Please report this to the AutgoGraph team. When filing the bug, set the verbosity to 10 (on Linux, `export AUTOGRAPH_VERBOSITY=10`) and attach the full output. Cause: converting <bound method LSTMCell.call of <tensorflow.python.ops.rnn_cell_impl.LSTMCell object at 0x7f2590bd0590>>: AttributeError: module 'gast' has no attribute 'Index'\n",
      "WARNING:tensorflow:From /home/sheila/repos/ns-3-allinone/ns-3.29/scratch/RLinWiFi-master-original-queue-level-mean/agents/dqn/model.py:53: dense (from tensorflow.python.layers.core) is deprecated and will be removed in a future version.\n",
      "Instructions for updating:\n",
      "Use keras.layers.dense instead.\n",
      "WARNING:tensorflow:Entity <bound method Dense.call of <tensorflow.python.layers.core.Dense object at 0x7f2590bd0590>> could not be transformed and will be executed as-is. Please report this to the AutgoGraph team. When filing the bug, set the verbosity to 10 (on Linux, `export AUTOGRAPH_VERBOSITY=10`) and attach the full output. Cause: converting <bound method Dense.call of <tensorflow.python.layers.core.Dense object at 0x7f2590bd0590>>: AttributeError: module 'gast' has no attribute 'Index'\n",
      "WARNING: Entity <bound method Dense.call of <tensorflow.python.layers.core.Dense object at 0x7f2590bd0590>> could not be transformed and will be executed as-is. Please report this to the AutgoGraph team. When filing the bug, set the verbosity to 10 (on Linux, `export AUTOGRAPH_VERBOSITY=10`) and attach the full output. Cause: converting <bound method Dense.call of <tensorflow.python.layers.core.Dense object at 0x7f2590bd0590>>: AttributeError: module 'gast' has no attribute 'Index'\n",
      "WARNING:tensorflow:Entity <bound method Dense.call of <tensorflow.python.layers.core.Dense object at 0x7f2590bd0590>> could not be transformed and will be executed as-is. Please report this to the AutgoGraph team. When filing the bug, set the verbosity to 10 (on Linux, `export AUTOGRAPH_VERBOSITY=10`) and attach the full output. Cause: converting <bound method Dense.call of <tensorflow.python.layers.core.Dense object at 0x7f2590bd0590>>: AttributeError: module 'gast' has no attribute 'Index'\n"
     ]
    },
    {
     "name": "stdout",
     "output_type": "stream",
     "text": [
      "WARNING: Entity <bound method Dense.call of <tensorflow.python.layers.core.Dense object at 0x7f2590bd0590>> could not be transformed and will be executed as-is. Please report this to the AutgoGraph team. When filing the bug, set the verbosity to 10 (on Linux, `export AUTOGRAPH_VERBOSITY=10`) and attach the full output. Cause: converting <bound method Dense.call of <tensorflow.python.layers.core.Dense object at 0x7f2590bd0590>>: AttributeError: module 'gast' has no attribute 'Index'\n",
      "WARNING:tensorflow:Entity <bound method Dense.call of <tensorflow.python.layers.core.Dense object at 0x7f2590bd0590>> could not be transformed and will be executed as-is. Please report this to the AutgoGraph team. When filing the bug, set the verbosity to 10 (on Linux, `export AUTOGRAPH_VERBOSITY=10`) and attach the full output. Cause: converting <bound method Dense.call of <tensorflow.python.layers.core.Dense object at 0x7f2590bd0590>>: AttributeError: module 'gast' has no attribute 'Index'\n",
      "WARNING: Entity <bound method Dense.call of <tensorflow.python.layers.core.Dense object at 0x7f2590bd0590>> could not be transformed and will be executed as-is. Please report this to the AutgoGraph team. When filing the bug, set the verbosity to 10 (on Linux, `export AUTOGRAPH_VERBOSITY=10`) and attach the full output. Cause: converting <bound method Dense.call of <tensorflow.python.layers.core.Dense object at 0x7f2590bd0590>>: AttributeError: module 'gast' has no attribute 'Index'\n",
      "WARNING:tensorflow:From /home/sheila/repos/ns-3-allinone/ns-3.29/scratch/RLinWiFi-master-original-queue-level-mean/agents/dqn/model.py:69: The name tf.losses.mean_squared_error is deprecated. Please use tf.compat.v1.losses.mean_squared_error instead.\n",
      "\n",
      "WARNING:tensorflow:From /home/sheila/anaconda3/envs/environment_py3_7/lib/python3.7/site-packages/tensorflow/python/ops/losses/losses_impl.py:121: add_dispatch_support.<locals>.wrapper (from tensorflow.python.ops.array_ops) is deprecated and will be removed in a future version.\n",
      "Instructions for updating:\n",
      "Use tf.where in 2.0, which has the same broadcast rule as np.where\n",
      "WARNING:tensorflow:From /home/sheila/repos/ns-3-allinone/ns-3.29/scratch/RLinWiFi-master-original-queue-level-mean/agents/dqn/model.py:77: The name tf.train.AdamOptimizer is deprecated. Please use tf.compat.v1.train.AdamOptimizer instead.\n",
      "\n",
      "WARNING:tensorflow:From /home/sheila/repos/ns-3-allinone/ns-3.29/scratch/RLinWiFi-master-original-queue-level-mean/agents/dqn/model.py:33: The name tf.global_variables_initializer is deprecated. Please use tf.compat.v1.global_variables_initializer instead.\n",
      "\n",
      "WARNING:tensorflow:From /home/sheila/repos/ns-3-allinone/ns-3.29/scratch/RLinWiFi-master-original-queue-level-mean/agents/dqn/model.py:34: The name tf.local_variables_initializer is deprecated. Please use tf.compat.v1.local_variables_initializer instead.\n",
      "\n",
      "WARNING:tensorflow:Entity <bound method LSTMCell.call of <tensorflow.python.ops.rnn_cell_impl.LSTMCell object at 0x7f257960ce90>> could not be transformed and will be executed as-is. Please report this to the AutgoGraph team. When filing the bug, set the verbosity to 10 (on Linux, `export AUTOGRAPH_VERBOSITY=10`) and attach the full output. Cause: converting <bound method LSTMCell.call of <tensorflow.python.ops.rnn_cell_impl.LSTMCell object at 0x7f257960ce90>>: AttributeError: module 'gast' has no attribute 'Index'\n",
      "WARNING: Entity <bound method LSTMCell.call of <tensorflow.python.ops.rnn_cell_impl.LSTMCell object at 0x7f257960ce90>> could not be transformed and will be executed as-is. Please report this to the AutgoGraph team. When filing the bug, set the verbosity to 10 (on Linux, `export AUTOGRAPH_VERBOSITY=10`) and attach the full output. Cause: converting <bound method LSTMCell.call of <tensorflow.python.ops.rnn_cell_impl.LSTMCell object at 0x7f257960ce90>>: AttributeError: module 'gast' has no attribute 'Index'\n",
      "WARNING:tensorflow:Entity <bound method LSTMCell.call of <tensorflow.python.ops.rnn_cell_impl.LSTMCell object at 0x7f257960ce90>> could not be transformed and will be executed as-is. Please report this to the AutgoGraph team. When filing the bug, set the verbosity to 10 (on Linux, `export AUTOGRAPH_VERBOSITY=10`) and attach the full output. Cause: converting <bound method LSTMCell.call of <tensorflow.python.ops.rnn_cell_impl.LSTMCell object at 0x7f257960ce90>>: AttributeError: module 'gast' has no attribute 'Index'\n",
      "WARNING: Entity <bound method LSTMCell.call of <tensorflow.python.ops.rnn_cell_impl.LSTMCell object at 0x7f257960ce90>> could not be transformed and will be executed as-is. Please report this to the AutgoGraph team. When filing the bug, set the verbosity to 10 (on Linux, `export AUTOGRAPH_VERBOSITY=10`) and attach the full output. Cause: converting <bound method LSTMCell.call of <tensorflow.python.ops.rnn_cell_impl.LSTMCell object at 0x7f257960ce90>>: AttributeError: module 'gast' has no attribute 'Index'\n",
      "WARNING:tensorflow:Entity <bound method LSTMCell.call of <tensorflow.python.ops.rnn_cell_impl.LSTMCell object at 0x7f257960ce90>> could not be transformed and will be executed as-is. Please report this to the AutgoGraph team. When filing the bug, set the verbosity to 10 (on Linux, `export AUTOGRAPH_VERBOSITY=10`) and attach the full output. Cause: converting <bound method LSTMCell.call of <tensorflow.python.ops.rnn_cell_impl.LSTMCell object at 0x7f257960ce90>>: AttributeError: module 'gast' has no attribute 'Index'\n",
      "WARNING: Entity <bound method LSTMCell.call of <tensorflow.python.ops.rnn_cell_impl.LSTMCell object at 0x7f257960ce90>> could not be transformed and will be executed as-is. Please report this to the AutgoGraph team. When filing the bug, set the verbosity to 10 (on Linux, `export AUTOGRAPH_VERBOSITY=10`) and attach the full output. Cause: converting <bound method LSTMCell.call of <tensorflow.python.ops.rnn_cell_impl.LSTMCell object at 0x7f257960ce90>>: AttributeError: module 'gast' has no attribute 'Index'\n",
      "WARNING:tensorflow:Entity <bound method LSTMCell.call of <tensorflow.python.ops.rnn_cell_impl.LSTMCell object at 0x7f257960ce90>> could not be transformed and will be executed as-is. Please report this to the AutgoGraph team. When filing the bug, set the verbosity to 10 (on Linux, `export AUTOGRAPH_VERBOSITY=10`) and attach the full output. Cause: converting <bound method LSTMCell.call of <tensorflow.python.ops.rnn_cell_impl.LSTMCell object at 0x7f257960ce90>>: AttributeError: module 'gast' has no attribute 'Index'\n",
      "WARNING: Entity <bound method LSTMCell.call of <tensorflow.python.ops.rnn_cell_impl.LSTMCell object at 0x7f257960ce90>> could not be transformed and will be executed as-is. Please report this to the AutgoGraph team. When filing the bug, set the verbosity to 10 (on Linux, `export AUTOGRAPH_VERBOSITY=10`) and attach the full output. Cause: converting <bound method LSTMCell.call of <tensorflow.python.ops.rnn_cell_impl.LSTMCell object at 0x7f257960ce90>>: AttributeError: module 'gast' has no attribute 'Index'\n",
      "WARNING:tensorflow:Entity <bound method Dense.call of <tensorflow.python.layers.core.Dense object at 0x7f2578db3090>> could not be transformed and will be executed as-is. Please report this to the AutgoGraph team. When filing the bug, set the verbosity to 10 (on Linux, `export AUTOGRAPH_VERBOSITY=10`) and attach the full output. Cause: converting <bound method Dense.call of <tensorflow.python.layers.core.Dense object at 0x7f2578db3090>>: AttributeError: module 'gast' has no attribute 'Index'\n",
      "WARNING: Entity <bound method Dense.call of <tensorflow.python.layers.core.Dense object at 0x7f2578db3090>> could not be transformed and will be executed as-is. Please report this to the AutgoGraph team. When filing the bug, set the verbosity to 10 (on Linux, `export AUTOGRAPH_VERBOSITY=10`) and attach the full output. Cause: converting <bound method Dense.call of <tensorflow.python.layers.core.Dense object at 0x7f2578db3090>>: AttributeError: module 'gast' has no attribute 'Index'\n",
      "WARNING:tensorflow:Entity <bound method Dense.call of <tensorflow.python.layers.core.Dense object at 0x7f2578db3090>> could not be transformed and will be executed as-is. Please report this to the AutgoGraph team. When filing the bug, set the verbosity to 10 (on Linux, `export AUTOGRAPH_VERBOSITY=10`) and attach the full output. Cause: converting <bound method Dense.call of <tensorflow.python.layers.core.Dense object at 0x7f2578db3090>>: AttributeError: module 'gast' has no attribute 'Index'\n"
     ]
    },
    {
     "name": "stdout",
     "output_type": "stream",
     "text": [
      "WARNING: Entity <bound method Dense.call of <tensorflow.python.layers.core.Dense object at 0x7f2578db3090>> could not be transformed and will be executed as-is. Please report this to the AutgoGraph team. When filing the bug, set the verbosity to 10 (on Linux, `export AUTOGRAPH_VERBOSITY=10`) and attach the full output. Cause: converting <bound method Dense.call of <tensorflow.python.layers.core.Dense object at 0x7f2578db3090>>: AttributeError: module 'gast' has no attribute 'Index'\n",
      "WARNING:tensorflow:Entity <bound method Dense.call of <tensorflow.python.layers.core.Dense object at 0x7f2578db3090>> could not be transformed and will be executed as-is. Please report this to the AutgoGraph team. When filing the bug, set the verbosity to 10 (on Linux, `export AUTOGRAPH_VERBOSITY=10`) and attach the full output. Cause: converting <bound method Dense.call of <tensorflow.python.layers.core.Dense object at 0x7f2578db3090>>: AttributeError: module 'gast' has no attribute 'Index'\n",
      "WARNING: Entity <bound method Dense.call of <tensorflow.python.layers.core.Dense object at 0x7f2578db3090>> could not be transformed and will be executed as-is. Please report this to the AutgoGraph team. When filing the bug, set the verbosity to 10 (on Linux, `export AUTOGRAPH_VERBOSITY=10`) and attach the full output. Cause: converting <bound method Dense.call of <tensorflow.python.layers.core.Dense object at 0x7f2578db3090>>: AttributeError: module 'gast' has no attribute 'Index'\n",
      "WARNING:tensorflow:From /home/sheila/repos/ns-3-allinone/ns-3.29/scratch/RLinWiFi-master-original-queue-level-mean/agents/dqn/agent.py:77: The name tf.train.Saver is deprecated. Please use tf.compat.v1.train.Saver instead.\n",
      "\n",
      "Action space: 7\n",
      "WARNING:tensorflow:From /home/sheila/repos/ns-3-allinone/ns-3.29/scratch/RLinWiFi-master-original-queue-level-mean/agents/dqn/agent.py:107: Variable.load (from tensorflow.python.ops.variables) is deprecated and will be removed in a future version.\n",
      "Instructions for updating:\n",
      "Prefer Variable.assign which has equivalent behavior in 2.X.\n"
     ]
    },
    {
     "name": "stderr",
     "output_type": "stream",
     "text": [
      "COMET INFO: Experiment is live on comet.ml https://www.comet.com/sheila-janota/rl-in-wifi-with-queue-level/d0a74af1eb9e4b2ab0fb76d8e1e8a017\n",
      "\n"
     ]
    },
    {
     "name": "stdout",
     "output_type": "stream",
     "text": [
      "0\n",
      "42.577881|0|5|-nan\n"
     ]
    },
    {
     "name": "stderr",
     "output_type": "stream",
     "text": [
      "  5%|▌         | 333/6300 [01:26<29:05,  3.42it/s, curr_speed=28.06 Mbps, mb_sent=8.98 Mb]"
     ]
    },
    {
     "name": "stdout",
     "output_type": "stream",
     "text": [
      "------- STARTED TRAINING -------\n"
     ]
    },
    {
     "name": "stderr",
     "output_type": "stream",
     "text": [
      "100%|██████████| 6300/6300 [47:40<00:00,  2.20it/s, curr_speed=31.92 Mbps, mb_sent=1741.91 Mb]\n"
     ]
    },
    {
     "name": "stdout",
     "output_type": "stream",
     "text": [
      "Waiting for simulation script to connect on port: tcp://localhost:17340\n",
      "Please start proper ns-3 simulation script using ./waf --run \"...\"\n",
      "Sent 1741.91 Mb/s.\tMean speed: 29.03 Mb/s\tEpisode 1/15 finished\n",
      "\n",
      "1\n",
      "42.577881|0|5|-nan\n"
     ]
    },
    {
     "name": "stderr",
     "output_type": "stream",
     "text": [
      "100%|██████████| 6300/6300 [48:39<00:00,  2.16it/s, curr_speed=32.93 Mbps, mb_sent=1968.10 Mb] \n"
     ]
    },
    {
     "name": "stdout",
     "output_type": "stream",
     "text": [
      "Waiting for simulation script to connect on port: tcp://localhost:23495\n",
      "Please start proper ns-3 simulation script using ./waf --run \"...\"\n",
      "Sent 1968.10 Mb/s.\tMean speed: 32.80 Mb/s\tEpisode 2/15 finished\n",
      "\n",
      "2\n",
      "42.577881|0|5|-nan\n"
     ]
    },
    {
     "name": "stderr",
     "output_type": "stream",
     "text": [
      "100%|██████████| 6300/6300 [46:38<00:00,  2.25it/s, curr_speed=36.03 Mbps, mb_sent=2104.66 Mb] \n"
     ]
    },
    {
     "name": "stdout",
     "output_type": "stream",
     "text": [
      "Waiting for simulation script to connect on port: tcp://localhost:28500\n",
      "Please start proper ns-3 simulation script using ./waf --run \"...\"\n",
      "Sent 2104.66 Mb/s.\tMean speed: 35.08 Mb/s\tEpisode 3/15 finished\n",
      "\n",
      "3\n",
      "42.577881|0|5|-nan\n"
     ]
    },
    {
     "name": "stderr",
     "output_type": "stream",
     "text": [
      "  5%|▍         | 304/6300 [01:41<36:57,  2.70it/s, curr_speed=29.41 Mbps, mb_sent=0.88 Mb]"
     ]
    },
    {
     "name": "stdout",
     "output_type": "stream",
     "text": [
      "------- MEMORY BUFFER FILLED -------\n"
     ]
    },
    {
     "name": "stderr",
     "output_type": "stream",
     "text": [
      "100%|██████████| 6300/6300 [47:16<00:00,  2.22it/s, curr_speed=37.48 Mbps, mb_sent=2193.88 Mb]\n"
     ]
    },
    {
     "name": "stdout",
     "output_type": "stream",
     "text": [
      "Waiting for simulation script to connect on port: tcp://localhost:18462\n",
      "Please start proper ns-3 simulation script using ./waf --run \"...\"\n",
      "Sent 2193.88 Mb/s.\tMean speed: 36.56 Mb/s\tEpisode 4/15 finished\n",
      "\n",
      "4\n",
      "42.577881|0|5|-nan\n"
     ]
    },
    {
     "name": "stderr",
     "output_type": "stream",
     "text": [
      "100%|██████████| 6300/6300 [48:47<00:00,  2.15it/s, curr_speed=36.21 Mbps, mb_sent=2254.27 Mb]\n"
     ]
    },
    {
     "name": "stdout",
     "output_type": "stream",
     "text": [
      "Waiting for simulation script to connect on port: tcp://localhost:19292\n",
      "Please start proper ns-3 simulation script using ./waf --run \"...\"\n",
      "Sent 2254.27 Mb/s.\tMean speed: 37.57 Mb/s\tEpisode 5/15 finished\n",
      "\n",
      "5\n",
      "42.577881|0|5|-nan\n"
     ]
    },
    {
     "name": "stderr",
     "output_type": "stream",
     "text": [
      " 86%|████████▌ | 5423/6300 [45:30<09:20,  1.57it/s, curr_speed=36.55 Mbps, mb_sent=1946.28 Mb]COMET ERROR: File could not be uploaded\n",
      " 86%|████████▌ | 5424/6300 [45:30<09:05,  1.61it/s, curr_speed=36.52 Mbps, mb_sent=1946.66 Mb]COMET ERROR: File could not be uploaded\n",
      " 86%|████████▌ | 5425/6300 [45:31<09:18,  1.57it/s, curr_speed=36.64 Mbps, mb_sent=1947.09 Mb]COMET ERROR: File could not be uploaded\n",
      " 86%|████████▌ | 5426/6300 [45:32<09:08,  1.59it/s, curr_speed=36.66 Mbps, mb_sent=1947.47 Mb]COMET ERROR: File could not be uploaded\n",
      "100%|██████████| 6300/6300 [53:13<00:00,  1.97it/s, curr_speed=38.09 Mbps, mb_sent=2276.17 Mb]\n"
     ]
    },
    {
     "name": "stdout",
     "output_type": "stream",
     "text": [
      "Waiting for simulation script to connect on port: tcp://localhost:16777\n",
      "Please start proper ns-3 simulation script using ./waf --run \"...\"\n",
      "Sent 2276.17 Mb/s.\tMean speed: 37.94 Mb/s\tEpisode 6/15 finished\n",
      "\n",
      "6\n",
      "42.577881|0|5|-nan\n"
     ]
    },
    {
     "name": "stderr",
     "output_type": "stream",
     "text": [
      "100%|██████████| 6300/6300 [48:03<00:00,  2.18it/s, curr_speed=37.85 Mbps, mb_sent=2296.83 Mb]\n"
     ]
    },
    {
     "name": "stdout",
     "output_type": "stream",
     "text": [
      "Waiting for simulation script to connect on port: tcp://localhost:40077\n",
      "Please start proper ns-3 simulation script using ./waf --run \"...\"\n",
      "Sent 2296.83 Mb/s.\tMean speed: 38.28 Mb/s\tEpisode 7/15 finished\n",
      "\n",
      "7\n",
      "42.577881|0|5|-nan\n"
     ]
    },
    {
     "name": "stderr",
     "output_type": "stream",
     "text": [
      " 44%|████▎     | 2756/6300 [49:42<517:32:19, 525.72s/it, curr_speed=39.23 Mbps, mb_sent=949.28 Mb]COMET ERROR: File could not be uploaded\n",
      "COMET ERROR: File could not be uploaded\n",
      " 75%|███████▌  | 4738/6300 [1:06:23<13:23,  1.94it/s, curr_speed=38.38 Mbps, mb_sent=1707.72 Mb]  COMET ERROR: File could not be uploaded\n",
      " 75%|███████▌  | 4739/6300 [1:06:23<13:20,  1.95it/s, curr_speed=38.42 Mbps, mb_sent=1708.16 Mb]COMET ERROR: File could not be uploaded\n",
      " 75%|███████▌  | 4740/6300 [1:06:24<14:03,  1.85it/s, curr_speed=38.46 Mbps, mb_sent=1708.55 Mb]COMET ERROR: File could not be uploaded\n",
      " 75%|███████▌  | 4741/6300 [1:06:25<14:13,  1.83it/s, curr_speed=38.53 Mbps, mb_sent=1708.98 Mb]COMET ERROR: File could not be uploaded\n",
      " 75%|███████▌  | 4750/6300 [1:06:29<12:38,  2.04it/s, curr_speed=38.47 Mbps, mb_sent=1712.39 Mb]COMET ERROR: File could not be uploaded\n",
      " 75%|███████▌  | 4751/6300 [1:06:30<12:52,  2.01it/s, curr_speed=38.49 Mbps, mb_sent=1712.77 Mb]COMET ERROR: File could not be uploaded\n",
      " 75%|███████▌  | 4752/6300 [1:06:30<12:47,  2.02it/s, curr_speed=38.50 Mbps, mb_sent=1713.20 Mb]COMET ERROR: File could not be uploaded\n",
      " 75%|███████▌  | 4753/6300 [1:06:31<13:31,  1.91it/s, curr_speed=38.40 Mbps, mb_sent=1713.55 Mb]COMET ERROR: File could not be uploaded\n",
      "100%|██████████| 6300/6300 [1:20:26<00:00,  1.31it/s, curr_speed=38.02 Mbps, mb_sent=2301.53 Mb]\n"
     ]
    },
    {
     "name": "stdout",
     "output_type": "stream",
     "text": [
      "Waiting for simulation script to connect on port: tcp://localhost:39171\n",
      "Please start proper ns-3 simulation script using ./waf --run \"...\"\n",
      "Sent 2301.53 Mb/s.\tMean speed: 38.36 Mb/s\tEpisode 8/15 finished\n",
      "\n",
      "8\n",
      "42.577881|0|5|-nan\n"
     ]
    },
    {
     "name": "stderr",
     "output_type": "stream",
     "text": [
      " 28%|██▊       | 1759/6300 [14:05<39:05,  1.94it/s, curr_speed=38.98 Mbps, mb_sent=566.16 Mb]  COMET ERROR: File could not be uploaded\n",
      "100%|██████████| 6300/6300 [53:46<00:00,  1.95it/s, curr_speed=38.40 Mbps, mb_sent=2313.64 Mb]\n"
     ]
    },
    {
     "name": "stdout",
     "output_type": "stream",
     "text": [
      "Waiting for simulation script to connect on port: tcp://localhost:53348\n",
      "Please start proper ns-3 simulation script using ./waf --run \"...\"\n",
      "Sent 2313.64 Mb/s.\tMean speed: 38.56 Mb/s\tEpisode 9/15 finished\n",
      "\n",
      "9\n",
      "42.577881|0|5|-nan\n"
     ]
    },
    {
     "name": "stderr",
     "output_type": "stream",
     "text": [
      "100%|██████████| 6300/6300 [49:29<00:00,  2.12it/s, curr_speed=38.26 Mbps, mb_sent=2315.22 Mb] \n"
     ]
    },
    {
     "name": "stdout",
     "output_type": "stream",
     "text": [
      "Waiting for simulation script to connect on port: tcp://localhost:48804\n",
      "Please start proper ns-3 simulation script using ./waf --run \"...\"\n",
      "Sent 2315.22 Mb/s.\tMean speed: 38.59 Mb/s\tEpisode 10/15 finished\n",
      "\n",
      "10\n",
      "42.577881|0|5|-nan\n"
     ]
    },
    {
     "name": "stderr",
     "output_type": "stream",
     "text": [
      " 83%|████████▎ | 5239/6300 [40:53<07:43,  2.29it/s, curr_speed=38.08 Mbps, mb_sent=1906.91 Mb] COMET ERROR: File could not be uploaded\n",
      "COMET ERROR: File could not be uploaded\n",
      "COMET ERROR: File could not be uploaded\n",
      "COMET ERROR: File could not be uploaded\n",
      "COMET ERROR: File could not be uploaded\n",
      "COMET ERROR: File could not be uploaded\n",
      "COMET ERROR: File could not be uploaded\n",
      "COMET ERROR: File could not be uploaded\n",
      "COMET ERROR: File could not be uploaded\n",
      "COMET ERROR: File could not be uploaded\n",
      "COMET ERROR: File could not be uploaded\n",
      "COMET ERROR: File could not be uploaded\n",
      "COMET ERROR: File could not be uploaded\n",
      "100%|██████████| 6300/6300 [49:43<00:00,  2.11it/s, curr_speed=38.57 Mbps, mb_sent=2314.02 Mb]\n"
     ]
    },
    {
     "name": "stdout",
     "output_type": "stream",
     "text": [
      "Waiting for simulation script to connect on port: tcp://localhost:44093\n",
      "Please start proper ns-3 simulation script using ./waf --run \"...\"\n",
      "Sent 2314.02 Mb/s.\tMean speed: 38.57 Mb/s\tEpisode 11/15 finished\n",
      "\n",
      "11\n",
      "42.577881|0|5|-nan\n"
     ]
    },
    {
     "name": "stderr",
     "output_type": "stream",
     "text": [
      " 44%|████▍     | 2800/6300 [20:40<26:20,  2.21it/s, curr_speed=38.98 Mbps, mb_sent=972.87 Mb]  COMET ERROR: File could not be uploaded\n",
      " 71%|███████   | 4458/6300 [34:05<13:45,  2.23it/s, curr_speed=38.52 Mbps, mb_sent=1610.67 Mb]COMET ERROR: File could not be uploaded\n",
      "COMET ERROR: File could not be uploaded\n",
      "COMET ERROR: File could not be uploaded\n",
      "COMET ERROR: File could not be uploaded\n",
      "COMET ERROR: File could not be uploaded\n",
      "COMET ERROR: File could not be uploaded\n",
      "COMET ERROR: File could not be uploaded\n",
      "COMET ERROR: File could not be uploaded\n",
      "COMET ERROR: File could not be uploaded\n",
      "COMET ERROR: File could not be uploaded\n",
      "100%|██████████| 6300/6300 [49:15<00:00,  2.13it/s, curr_speed=38.60 Mbps, mb_sent=2317.28 Mb]\n"
     ]
    },
    {
     "name": "stdout",
     "output_type": "stream",
     "text": [
      "Waiting for simulation script to connect on port: tcp://localhost:17972\n",
      "Please start proper ns-3 simulation script using ./waf --run \"...\"\n",
      "WARNING:tensorflow:From /home/sheila/anaconda3/envs/environment_py3_7/lib/python3.7/site-packages/tensorflow/python/training/saver.py:960: remove_checkpoint (from tensorflow.python.training.checkpoint_management) is deprecated and will be removed in a future version.\n",
      "Instructions for updating:\n",
      "Use standard file APIs to delete files with this prefix.\n",
      "Sent 2317.28 Mb/s.\tMean speed: 38.62 Mb/s\tEpisode 12/15 finished\n",
      "\n",
      "12\n",
      "Turning off noise\n",
      "42.577881|0|5|-nan\n"
     ]
    },
    {
     "name": "stderr",
     "output_type": "stream",
     "text": [
      " 24%|██▍       | 1501/6300 [10:59<31:43,  2.52it/s, curr_speed=39.29 Mbps, mb_sent=467.54 Mb] COMET ERROR: File could not be uploaded\n",
      "COMET ERROR: File could not be uploaded\n",
      "COMET ERROR: File could not be uploaded\n",
      "COMET ERROR: File could not be uploaded\n",
      "COMET ERROR: File could not be uploaded\n",
      "COMET ERROR: File could not be uploaded\n",
      "COMET ERROR: File could not be uploaded\n",
      "COMET ERROR: File could not be uploaded\n",
      "COMET ERROR: File could not be uploaded\n",
      " 24%|██▍       | 1501/6300 [11:00<31:43,  2.52it/s, curr_speed=39.27 Mbps, mb_sent=467.93 Mb]COMET ERROR: File could not be uploaded\n",
      "COMET ERROR: File could not be uploaded\n",
      "COMET ERROR: File could not be uploaded\n",
      " 24%|██▍       | 1510/6300 [11:05<42:43,  1.87it/s, curr_speed=39.31 Mbps, mb_sent=471.10 Mb]COMET ERROR: File could not be uploaded\n",
      " 38%|███▊      | 2425/6300 [18:04<25:03,  2.58it/s, curr_speed=39.20 Mbps, mb_sent=827.02 Mb]COMET ERROR: File could not be uploaded\n",
      " 51%|█████     | 3224/6300 [25:17<53:36,  1.05s/it, curr_speed=38.64 Mbps, mb_sent=1137.67 Mb]  COMET ERROR: File could not be uploaded\n",
      " 51%|█████     | 3225/6300 [25:18<52:17,  1.02s/it, curr_speed=38.62 Mbps, mb_sent=1138.08 Mb]COMET ERROR: File could not be uploaded\n",
      " 51%|█████     | 3226/6300 [25:19<45:31,  1.13it/s, curr_speed=38.64 Mbps, mb_sent=1138.49 Mb]COMET ERROR: File could not be uploaded\n",
      " 51%|█████     | 3227/6300 [25:19<44:05,  1.16it/s, curr_speed=38.59 Mbps, mb_sent=1138.87 Mb]COMET ERROR: File could not be uploaded\n",
      " 51%|█████     | 3228/6300 [25:20<40:08,  1.28it/s, curr_speed=38.60 Mbps, mb_sent=1139.27 Mb]COMET ERROR: File could not be uploaded\n",
      " 51%|█████▏    | 3231/6300 [25:22<40:57,  1.25it/s, curr_speed=38.64 Mbps, mb_sent=1140.42 Mb]COMET ERROR: File could not be uploaded\n",
      "COMET ERROR: File could not be uploaded\n",
      "100%|██████████| 6300/6300 [1:15:14<00:00,  1.40it/s, curr_speed=37.85 Mbps, mb_sent=2318.62 Mb]   \n"
     ]
    },
    {
     "name": "stdout",
     "output_type": "stream",
     "text": [
      "Waiting for simulation script to connect on port: tcp://localhost:47022\n",
      "Please start proper ns-3 simulation script using ./waf --run \"...\"\n",
      "Sent 2318.62 Mb/s.\tMean speed: 38.64 Mb/s\tEpisode 13/15 finished\n",
      "\n",
      "13\n",
      "Turning off noise\n",
      "42.577881|0|5|-nan\n"
     ]
    },
    {
     "name": "stderr",
     "output_type": "stream",
     "text": [
      "100%|██████████| 6300/6300 [52:39<00:00,  1.99it/s, curr_speed=38.86 Mbps, mb_sent=2318.94 Mb]\n"
     ]
    },
    {
     "name": "stdout",
     "output_type": "stream",
     "text": [
      "Waiting for simulation script to connect on port: tcp://localhost:36957\n",
      "Please start proper ns-3 simulation script using ./waf --run \"...\"\n",
      "Sent 2318.94 Mb/s.\tMean speed: 38.65 Mb/s\tEpisode 14/15 finished\n",
      "\n",
      "14\n",
      "Turning off noise\n",
      "42.577881|0|5|-nan\n"
     ]
    },
    {
     "name": "stderr",
     "output_type": "stream",
     "text": [
      "100%|██████████| 6300/6300 [50:49<00:00,  2.07it/s, curr_speed=38.40 Mbps, mb_sent=2317.75 Mb]\n"
     ]
    },
    {
     "name": "stdout",
     "output_type": "stream",
     "text": [
      "Waiting for simulation script to connect on port: tcp://localhost:35192\n",
      "Please start proper ns-3 simulation script using ./waf --run \"...\"\n"
     ]
    },
    {
     "name": "stderr",
     "output_type": "stream",
     "text": [
      "COMET INFO: ----------------------------\n",
      "COMET INFO: Comet.ml Experiment Summary:\n",
      "COMET INFO:   Data:\n",
      "COMET INFO:     url: https://www.comet.com/sheila-janota/rl-in-wifi-with-queue-level/d0a74af1eb9e4b2ab0fb76d8e1e8a017\n",
      "COMET INFO:   Metrics [count] (min, max):\n",
      "COMET INFO:     Chosen CW [89985]           : (16.0, 1024.0)\n",
      "COMET INFO:     Cumulative reward [15]      : (2422.382080078125, 3244.392822265625)\n",
      "COMET INFO:     Current throughput [89985]  : (12.28640079498291, 46.46482849121094)\n",
      "COMET INFO:     Fairness index [89985]      : (0.17597100138664246, 0.999925971031189)\n",
      "COMET INFO:     Megabytes sent [89985]      : (0.1228640004992485, 2318.9419533908367)\n",
      "COMET INFO:     Observation 0 [89985]       : (0.6820714449137448, 0.8571428656578064)\n",
      "COMET INFO:     Observation 1 [89985]       : (0.0, 0.08782665796305678)\n",
      "COMET INFO:     Per-ep reward [89985]       : (100.2568359375, 3244.392822265625)\n",
      "COMET INFO:     Round megabytes sent [89985]: (0.04467799887061119, 11.794921875)\n",
      "COMET INFO:     Round reward [89985]        : (0.0595703125, 0.62548828125)\n",
      "COMET INFO:     Speed [15]                  : (29.03177847446253, 38.649032556513944)\n",
      "COMET INFO:     Station count [89985]       : (5.0, 6.0)\n",
      "COMET INFO:     loss [89985]                : (0.0, 0.1584686040878296)\n",
      "COMET INFO:   Uploads:\n",
      "COMET INFO:     histogram3d: 89985\n",
      "COMET INFO: ----------------------------\n"
     ]
    },
    {
     "name": "stdout",
     "output_type": "stream",
     "text": [
      "Sent 2317.75 Mb/s.\tMean speed: 38.63 Mb/s\tEpisode 15/15 finished\n",
      "\n"
     ]
    },
    {
     "name": "stderr",
     "output_type": "stream",
     "text": [
      "COMET INFO: Uploading stats to Comet before program termination (may take several seconds)\n"
     ]
    },
    {
     "name": "stdout",
     "output_type": "stream",
     "text": [
      "Training finished.\n"
     ]
    },
    {
     "name": "stderr",
     "output_type": "stream",
     "text": [
      "COMET INFO: Experiment is live on comet.ml https://www.comet.com/sheila-janota/rl-in-wifi-with-queue-level/a62db349781747bb92a833e51e7c6391\n",
      "\n"
     ]
    },
    {
     "name": "stdout",
     "output_type": "stream",
     "text": [
      "42.577881|0|5|-nan\n"
     ]
    },
    {
     "name": "stderr",
     "output_type": "stream",
     "text": [
      "100%|██████████| 6300/6300 [50:38<00:00,  2.07it/s, curr_speed=38.40 Mbps, mb_sent=2317.75 Mb] \n"
     ]
    },
    {
     "name": "stdout",
     "output_type": "stream",
     "text": [
      "Waiting for simulation script to connect on port: tcp://localhost:40424\n",
      "Please start proper ns-3 simulation script using ./waf --run \"...\"\n"
     ]
    },
    {
     "name": "stderr",
     "output_type": "stream",
     "text": [
      "COMET INFO: ----------------------------\n",
      "COMET INFO: Comet.ml Experiment Summary:\n",
      "COMET INFO:   Data:\n",
      "COMET INFO:     url: https://www.comet.com/sheila-janota/rl-in-wifi-with-queue-level/a62db349781747bb92a833e51e7c6391\n",
      "COMET INFO:   Metrics [count] (min, max):\n",
      "COMET INFO:     Chosen CW [5999]           : (32.0, 32.0)\n",
      "COMET INFO:     Cumulative reward          : (3244.392822265625, 3244.392822265625)\n",
      "COMET INFO:     Current throughput [5999]  : (37.23146438598633, 39.394596099853516)\n",
      "COMET INFO:     Fairness index [5999]      : (0.17673799395561218, 0.9998340010643005)\n",
      "COMET INFO:     Megabytes sent [5999]      : (0.3797610104084015, 2317.746817111969)\n",
      "COMET INFO:     Observation 0 [5999]       : (0.6820714449137448, 0.8571428656578064)\n",
      "COMET INFO:     Observation 1 [5999]       : (0.0, 0.08782665796305678)\n",
      "COMET INFO:     Per-ep reward [5999]       : (154.570068359375, 3244.392822265625)\n",
      "COMET INFO:     Round megabytes sent [5999]: (0.2680659890174866, 0.4579469859600067)\n",
      "COMET INFO:     Round reward [5999]        : (0.357421875, 0.610595703125)\n",
      "COMET INFO:     Speed                      : (38.62911361853282, 38.62911361853282)\n",
      "COMET INFO:     Station count [5999]       : (5.0, 6.0)\n",
      "COMET INFO:     loss [5999]                : (0.0013926058085027336, 0.0013926058085027336)\n",
      "COMET INFO:   Uploads:\n",
      "COMET INFO:     histogram3d: 5999\n",
      "COMET INFO: ----------------------------\n"
     ]
    },
    {
     "name": "stdout",
     "output_type": "stream",
     "text": [
      "Sent 2317.75 Mb/s.\tMean speed: 38.63 Mb/s\tEval finished\n",
      "\n"
     ]
    },
    {
     "name": "stderr",
     "output_type": "stream",
     "text": [
      "COMET INFO: Uploading stats to Comet before program termination (may take several seconds)\n"
     ]
    }
   ],
   "source": [
    "#%%\n",
    "teacher = Teacher(env, 1, Preprocessor(False))\n",
    "\n",
    "lr = 4e-4\n",
    "config = Config(buffer_size=3*steps_per_ep*threads_no, batch_size=32, gamma=0.7, tau=1e-3, lr=lr, update_every=1)\n",
    "agent = Agent(QNetworkTf, history_length, action_size=7, config=config)\n",
    "agent.set_epsilon(0.9, 0.001, EPISODE_COUNT-2)\n",
    "\n",
    "# Test the model\n",
    "hyperparams = {**config.__dict__, **sim_args}\n",
    "tags = [\"Rew: normalized speed\",\n",
    "        \"Final\",\n",
    "        f\"{Agent.NAME}\",\n",
    "        sim_args['scenario'],\n",
    "        f\"LR: {lr}\",\n",
    "        f\"Instances: {threads_no}\",\n",
    "        f\"Station count: {sim_args['nWifi']}\",\n",
    "        *[f\"{key}: {sim_args[key]}\" for key in list(sim_args)[:3]]]\n",
    "# # agent.save()\n",
    "logger = teacher.train(agent, EPISODE_COUNT,\n",
    "                        simTime=simTime,\n",
    "                        stepTime=stepTime,\n",
    "                        history_length=history_length,\n",
    "                        send_logs=True,\n",
    "                        experimental=True,\n",
    "                        tags=tags,\n",
    "                        parameters=hyperparams)\n",
    "logger = teacher.eval(agent,\n",
    "                        simTime=simTime,\n",
    "                        stepTime=stepTime,\n",
    "                        history_length=history_length,\n",
    "                        tags=tags,\n",
    "                        parameters=hyperparams)\n",
    "# agent.save()\n",
    "\n",
    "\n",
    "# %%"
   ]
  },
  {
   "cell_type": "code",
   "execution_count": null,
   "id": "cf520021",
   "metadata": {},
   "outputs": [],
   "source": []
  },
  {
   "cell_type": "markdown",
   "id": "fad10b1f",
   "metadata": {},
   "source": [
    "# Execution num4:"
   ]
  },
  {
   "cell_type": "code",
   "execution_count": 1,
   "id": "c5cb8804",
   "metadata": {},
   "outputs": [
    {
     "name": "stderr",
     "output_type": "stream",
     "text": [
      "/home/sheila/anaconda3/envs/environment_py3_7/lib/python3.7/site-packages/tensorflow/python/framework/dtypes.py:516: FutureWarning: Passing (type, 1) or '1type' as a synonym of type is deprecated; in a future version of numpy, it will be understood as (type, (1,)) / '(1,)type'.\n",
      "  _np_qint8 = np.dtype([(\"qint8\", np.int8, 1)])\n",
      "/home/sheila/anaconda3/envs/environment_py3_7/lib/python3.7/site-packages/tensorflow/python/framework/dtypes.py:517: FutureWarning: Passing (type, 1) or '1type' as a synonym of type is deprecated; in a future version of numpy, it will be understood as (type, (1,)) / '(1,)type'.\n",
      "  _np_quint8 = np.dtype([(\"quint8\", np.uint8, 1)])\n",
      "/home/sheila/anaconda3/envs/environment_py3_7/lib/python3.7/site-packages/tensorflow/python/framework/dtypes.py:518: FutureWarning: Passing (type, 1) or '1type' as a synonym of type is deprecated; in a future version of numpy, it will be understood as (type, (1,)) / '(1,)type'.\n",
      "  _np_qint16 = np.dtype([(\"qint16\", np.int16, 1)])\n",
      "/home/sheila/anaconda3/envs/environment_py3_7/lib/python3.7/site-packages/tensorflow/python/framework/dtypes.py:519: FutureWarning: Passing (type, 1) or '1type' as a synonym of type is deprecated; in a future version of numpy, it will be understood as (type, (1,)) / '(1,)type'.\n",
      "  _np_quint16 = np.dtype([(\"quint16\", np.uint16, 1)])\n",
      "/home/sheila/anaconda3/envs/environment_py3_7/lib/python3.7/site-packages/tensorflow/python/framework/dtypes.py:520: FutureWarning: Passing (type, 1) or '1type' as a synonym of type is deprecated; in a future version of numpy, it will be understood as (type, (1,)) / '(1,)type'.\n",
      "  _np_qint32 = np.dtype([(\"qint32\", np.int32, 1)])\n",
      "/home/sheila/anaconda3/envs/environment_py3_7/lib/python3.7/site-packages/tensorflow/python/framework/dtypes.py:525: FutureWarning: Passing (type, 1) or '1type' as a synonym of type is deprecated; in a future version of numpy, it will be understood as (type, (1,)) / '(1,)type'.\n",
      "  np_resource = np.dtype([(\"resource\", np.ubyte, 1)])\n",
      "/home/sheila/anaconda3/envs/environment_py3_7/lib/python3.7/site-packages/tensorboard/compat/tensorflow_stub/dtypes.py:541: FutureWarning: Passing (type, 1) or '1type' as a synonym of type is deprecated; in a future version of numpy, it will be understood as (type, (1,)) / '(1,)type'.\n",
      "  _np_qint8 = np.dtype([(\"qint8\", np.int8, 1)])\n",
      "/home/sheila/anaconda3/envs/environment_py3_7/lib/python3.7/site-packages/tensorboard/compat/tensorflow_stub/dtypes.py:542: FutureWarning: Passing (type, 1) or '1type' as a synonym of type is deprecated; in a future version of numpy, it will be understood as (type, (1,)) / '(1,)type'.\n",
      "  _np_quint8 = np.dtype([(\"quint8\", np.uint8, 1)])\n",
      "/home/sheila/anaconda3/envs/environment_py3_7/lib/python3.7/site-packages/tensorboard/compat/tensorflow_stub/dtypes.py:543: FutureWarning: Passing (type, 1) or '1type' as a synonym of type is deprecated; in a future version of numpy, it will be understood as (type, (1,)) / '(1,)type'.\n",
      "  _np_qint16 = np.dtype([(\"qint16\", np.int16, 1)])\n",
      "/home/sheila/anaconda3/envs/environment_py3_7/lib/python3.7/site-packages/tensorboard/compat/tensorflow_stub/dtypes.py:544: FutureWarning: Passing (type, 1) or '1type' as a synonym of type is deprecated; in a future version of numpy, it will be understood as (type, (1,)) / '(1,)type'.\n",
      "  _np_quint16 = np.dtype([(\"quint16\", np.uint16, 1)])\n",
      "/home/sheila/anaconda3/envs/environment_py3_7/lib/python3.7/site-packages/tensorboard/compat/tensorflow_stub/dtypes.py:545: FutureWarning: Passing (type, 1) or '1type' as a synonym of type is deprecated; in a future version of numpy, it will be understood as (type, (1,)) / '(1,)type'.\n",
      "  _np_qint32 = np.dtype([(\"qint32\", np.int32, 1)])\n",
      "/home/sheila/anaconda3/envs/environment_py3_7/lib/python3.7/site-packages/tensorboard/compat/tensorflow_stub/dtypes.py:550: FutureWarning: Passing (type, 1) or '1type' as a synonym of type is deprecated; in a future version of numpy, it will be understood as (type, (1,)) / '(1,)type'.\n",
      "  np_resource = np.dtype([(\"resource\", np.ubyte, 1)])\n"
     ]
    }
   ],
   "source": [
    "#%%\n",
    "from ns3gym import ns3env\n",
    "from comet_ml import Experiment, Optimizer\n",
    "import tqdm\n",
    "import subprocess\n",
    "from collections import deque\n",
    "import numpy as np\n",
    "\n",
    "from agents.dqn.agent import Agent, Config\n",
    "from agents.dqn.model import QNetworkTf\n",
    "from agents.teacher import Teacher, EnvWrapper\n",
    "from preprocessor import Preprocessor"
   ]
  },
  {
   "cell_type": "code",
   "execution_count": 2,
   "id": "80803d12",
   "metadata": {},
   "outputs": [
    {
     "name": "stdout",
     "output_type": "stream",
     "text": [
      "Steps per episode: 6000\n",
      "Waiting for simulation script to connect on port: tcp://localhost:16176\n",
      "Please start proper ns-3 simulation script using ./waf --run \"...\"\n",
      "42.577881|0|5|-nan\n",
      "Observation space shape: (1, 300)\n",
      "Action space shape: (1, 1)\n"
     ]
    }
   ],
   "source": [
    "#%%\n",
    "scenario = \"convergence\"\n",
    "\n",
    "simTime = 60 # seconds\n",
    "stepTime = 0.01  # seconds\n",
    "history_length = 300\n",
    "\n",
    "EPISODE_COUNT = 15\n",
    "steps_per_ep = int(simTime/stepTime)\n",
    "\n",
    "sim_args = {\n",
    "    \"simTime\": simTime,\n",
    "    \"envStepTime\": stepTime,\n",
    "    \"historyLength\": history_length,\n",
    "    \"agentType\": Agent.TYPE,\n",
    "    \"scenario\": \"convergence\",\n",
    "    \"nWifi\": 6,\n",
    "}\n",
    "\n",
    "print(\"Steps per episode:\", steps_per_ep)\n",
    "\n",
    "threads_no = 1\n",
    "env = EnvWrapper(threads_no, **sim_args)\n",
    "\n",
    "#%%\n",
    "env.reset()\n",
    "ob_space = env.observation_space\n",
    "ac_space = env.action_space\n",
    "\n",
    "print(\"Observation space shape:\", ob_space)\n",
    "print(\"Action space shape:\", ac_space)\n",
    "\n",
    "assert ob_space is not None"
   ]
  },
  {
   "cell_type": "code",
   "execution_count": 3,
   "id": "ca77caab",
   "metadata": {},
   "outputs": [
    {
     "name": "stdout",
     "output_type": "stream",
     "text": [
      "WARNING:tensorflow:From /home/sheila/repos/ns-3-allinone/ns-3.29/scratch/RLinWiFi-master-original-queue-level-mean/agents/dqn/agent.py:53: The name tf.Session is deprecated. Please use tf.compat.v1.Session instead.\n",
      "\n",
      "WARNING:tensorflow:From /home/sheila/repos/ns-3-allinone/ns-3.29/scratch/RLinWiFi-master-original-queue-level-mean/agents/dqn/model.py:25: The name tf.variable_scope is deprecated. Please use tf.compat.v1.variable_scope instead.\n",
      "\n",
      "WARNING:tensorflow:From /home/sheila/repos/ns-3-allinone/ns-3.29/scratch/RLinWiFi-master-original-queue-level-mean/agents/dqn/model.py:26: The name tf.placeholder is deprecated. Please use tf.compat.v1.placeholder instead.\n",
      "\n",
      "WARNING:tensorflow:\n",
      "The TensorFlow contrib module will not be included in TensorFlow 2.0.\n",
      "For more information, please see:\n",
      "  * https://github.com/tensorflow/community/blob/master/rfcs/20180907-contrib-sunset.md\n",
      "  * https://github.com/tensorflow/addons\n",
      "  * https://github.com/tensorflow/io (for I/O related ops)\n",
      "If you depend on functionality not listed there, please file an issue.\n",
      "\n",
      "WARNING:tensorflow:From /home/sheila/repos/ns-3-allinone/ns-3.29/scratch/RLinWiFi-master-original-queue-level-mean/agents/dqn/model.py:52: LSTMCell.__init__ (from tensorflow.python.ops.rnn_cell_impl) is deprecated and will be removed in a future version.\n",
      "Instructions for updating:\n",
      "This class is equivalent as tf.keras.layers.LSTMCell, and will be replaced by that in Tensorflow 2.0.\n",
      "WARNING:tensorflow:From /home/sheila/repos/ns-3-allinone/ns-3.29/scratch/RLinWiFi-master-original-queue-level-mean/agents/dqn/model.py:52: static_rnn (from tensorflow.python.ops.rnn) is deprecated and will be removed in a future version.\n",
      "Instructions for updating:\n",
      "Please use `keras.layers.RNN(cell, unroll=True)`, which is equivalent to this API\n",
      "WARNING:tensorflow:From /home/sheila/anaconda3/envs/environment_py3_7/lib/python3.7/site-packages/tensorflow/python/ops/init_ops.py:1251: calling VarianceScaling.__init__ (from tensorflow.python.ops.init_ops) with dtype is deprecated and will be removed in a future version.\n",
      "Instructions for updating:\n",
      "Call initializer instance with the dtype argument instead of passing it to the constructor\n",
      "WARNING:tensorflow:From /home/sheila/anaconda3/envs/environment_py3_7/lib/python3.7/site-packages/tensorflow/python/ops/rnn_cell_impl.py:961: calling Zeros.__init__ (from tensorflow.python.ops.init_ops) with dtype is deprecated and will be removed in a future version.\n",
      "Instructions for updating:\n",
      "Call initializer instance with the dtype argument instead of passing it to the constructor\n",
      "WARNING:tensorflow:Entity <bound method LSTMCell.call of <tensorflow.python.ops.rnn_cell_impl.LSTMCell object at 0x7f10c002b210>> could not be transformed and will be executed as-is. Please report this to the AutgoGraph team. When filing the bug, set the verbosity to 10 (on Linux, `export AUTOGRAPH_VERBOSITY=10`) and attach the full output. Cause: converting <bound method LSTMCell.call of <tensorflow.python.ops.rnn_cell_impl.LSTMCell object at 0x7f10c002b210>>: AttributeError: module 'gast' has no attribute 'Index'\n",
      "WARNING: Entity <bound method LSTMCell.call of <tensorflow.python.ops.rnn_cell_impl.LSTMCell object at 0x7f10c002b210>> could not be transformed and will be executed as-is. Please report this to the AutgoGraph team. When filing the bug, set the verbosity to 10 (on Linux, `export AUTOGRAPH_VERBOSITY=10`) and attach the full output. Cause: converting <bound method LSTMCell.call of <tensorflow.python.ops.rnn_cell_impl.LSTMCell object at 0x7f10c002b210>>: AttributeError: module 'gast' has no attribute 'Index'\n",
      "WARNING:tensorflow:Entity <bound method LSTMCell.call of <tensorflow.python.ops.rnn_cell_impl.LSTMCell object at 0x7f10c002b210>> could not be transformed and will be executed as-is. Please report this to the AutgoGraph team. When filing the bug, set the verbosity to 10 (on Linux, `export AUTOGRAPH_VERBOSITY=10`) and attach the full output. Cause: converting <bound method LSTMCell.call of <tensorflow.python.ops.rnn_cell_impl.LSTMCell object at 0x7f10c002b210>>: AttributeError: module 'gast' has no attribute 'Index'\n",
      "WARNING: Entity <bound method LSTMCell.call of <tensorflow.python.ops.rnn_cell_impl.LSTMCell object at 0x7f10c002b210>> could not be transformed and will be executed as-is. Please report this to the AutgoGraph team. When filing the bug, set the verbosity to 10 (on Linux, `export AUTOGRAPH_VERBOSITY=10`) and attach the full output. Cause: converting <bound method LSTMCell.call of <tensorflow.python.ops.rnn_cell_impl.LSTMCell object at 0x7f10c002b210>>: AttributeError: module 'gast' has no attribute 'Index'\n",
      "WARNING:tensorflow:Entity <bound method LSTMCell.call of <tensorflow.python.ops.rnn_cell_impl.LSTMCell object at 0x7f10c002b210>> could not be transformed and will be executed as-is. Please report this to the AutgoGraph team. When filing the bug, set the verbosity to 10 (on Linux, `export AUTOGRAPH_VERBOSITY=10`) and attach the full output. Cause: converting <bound method LSTMCell.call of <tensorflow.python.ops.rnn_cell_impl.LSTMCell object at 0x7f10c002b210>>: AttributeError: module 'gast' has no attribute 'Index'\n",
      "WARNING: Entity <bound method LSTMCell.call of <tensorflow.python.ops.rnn_cell_impl.LSTMCell object at 0x7f10c002b210>> could not be transformed and will be executed as-is. Please report this to the AutgoGraph team. When filing the bug, set the verbosity to 10 (on Linux, `export AUTOGRAPH_VERBOSITY=10`) and attach the full output. Cause: converting <bound method LSTMCell.call of <tensorflow.python.ops.rnn_cell_impl.LSTMCell object at 0x7f10c002b210>>: AttributeError: module 'gast' has no attribute 'Index'\n",
      "WARNING:tensorflow:Entity <bound method LSTMCell.call of <tensorflow.python.ops.rnn_cell_impl.LSTMCell object at 0x7f10c002b210>> could not be transformed and will be executed as-is. Please report this to the AutgoGraph team. When filing the bug, set the verbosity to 10 (on Linux, `export AUTOGRAPH_VERBOSITY=10`) and attach the full output. Cause: converting <bound method LSTMCell.call of <tensorflow.python.ops.rnn_cell_impl.LSTMCell object at 0x7f10c002b210>>: AttributeError: module 'gast' has no attribute 'Index'\n",
      "WARNING: Entity <bound method LSTMCell.call of <tensorflow.python.ops.rnn_cell_impl.LSTMCell object at 0x7f10c002b210>> could not be transformed and will be executed as-is. Please report this to the AutgoGraph team. When filing the bug, set the verbosity to 10 (on Linux, `export AUTOGRAPH_VERBOSITY=10`) and attach the full output. Cause: converting <bound method LSTMCell.call of <tensorflow.python.ops.rnn_cell_impl.LSTMCell object at 0x7f10c002b210>>: AttributeError: module 'gast' has no attribute 'Index'\n",
      "WARNING:tensorflow:From /home/sheila/repos/ns-3-allinone/ns-3.29/scratch/RLinWiFi-master-original-queue-level-mean/agents/dqn/model.py:53: dense (from tensorflow.python.layers.core) is deprecated and will be removed in a future version.\n",
      "Instructions for updating:\n",
      "Use keras.layers.dense instead.\n",
      "WARNING:tensorflow:Entity <bound method Dense.call of <tensorflow.python.layers.core.Dense object at 0x7f10c002b210>> could not be transformed and will be executed as-is. Please report this to the AutgoGraph team. When filing the bug, set the verbosity to 10 (on Linux, `export AUTOGRAPH_VERBOSITY=10`) and attach the full output. Cause: converting <bound method Dense.call of <tensorflow.python.layers.core.Dense object at 0x7f10c002b210>>: AttributeError: module 'gast' has no attribute 'Index'\n",
      "WARNING: Entity <bound method Dense.call of <tensorflow.python.layers.core.Dense object at 0x7f10c002b210>> could not be transformed and will be executed as-is. Please report this to the AutgoGraph team. When filing the bug, set the verbosity to 10 (on Linux, `export AUTOGRAPH_VERBOSITY=10`) and attach the full output. Cause: converting <bound method Dense.call of <tensorflow.python.layers.core.Dense object at 0x7f10c002b210>>: AttributeError: module 'gast' has no attribute 'Index'\n",
      "WARNING:tensorflow:Entity <bound method Dense.call of <tensorflow.python.layers.core.Dense object at 0x7f10c002b210>> could not be transformed and will be executed as-is. Please report this to the AutgoGraph team. When filing the bug, set the verbosity to 10 (on Linux, `export AUTOGRAPH_VERBOSITY=10`) and attach the full output. Cause: converting <bound method Dense.call of <tensorflow.python.layers.core.Dense object at 0x7f10c002b210>>: AttributeError: module 'gast' has no attribute 'Index'\n"
     ]
    },
    {
     "name": "stdout",
     "output_type": "stream",
     "text": [
      "WARNING: Entity <bound method Dense.call of <tensorflow.python.layers.core.Dense object at 0x7f10c002b210>> could not be transformed and will be executed as-is. Please report this to the AutgoGraph team. When filing the bug, set the verbosity to 10 (on Linux, `export AUTOGRAPH_VERBOSITY=10`) and attach the full output. Cause: converting <bound method Dense.call of <tensorflow.python.layers.core.Dense object at 0x7f10c002b210>>: AttributeError: module 'gast' has no attribute 'Index'\n",
      "WARNING:tensorflow:Entity <bound method Dense.call of <tensorflow.python.layers.core.Dense object at 0x7f10a8bf6dd0>> could not be transformed and will be executed as-is. Please report this to the AutgoGraph team. When filing the bug, set the verbosity to 10 (on Linux, `export AUTOGRAPH_VERBOSITY=10`) and attach the full output. Cause: converting <bound method Dense.call of <tensorflow.python.layers.core.Dense object at 0x7f10a8bf6dd0>>: AttributeError: module 'gast' has no attribute 'Index'\n",
      "WARNING: Entity <bound method Dense.call of <tensorflow.python.layers.core.Dense object at 0x7f10a8bf6dd0>> could not be transformed and will be executed as-is. Please report this to the AutgoGraph team. When filing the bug, set the verbosity to 10 (on Linux, `export AUTOGRAPH_VERBOSITY=10`) and attach the full output. Cause: converting <bound method Dense.call of <tensorflow.python.layers.core.Dense object at 0x7f10a8bf6dd0>>: AttributeError: module 'gast' has no attribute 'Index'\n",
      "WARNING:tensorflow:From /home/sheila/repos/ns-3-allinone/ns-3.29/scratch/RLinWiFi-master-original-queue-level-mean/agents/dqn/model.py:69: The name tf.losses.mean_squared_error is deprecated. Please use tf.compat.v1.losses.mean_squared_error instead.\n",
      "\n",
      "WARNING:tensorflow:From /home/sheila/anaconda3/envs/environment_py3_7/lib/python3.7/site-packages/tensorflow/python/ops/losses/losses_impl.py:121: add_dispatch_support.<locals>.wrapper (from tensorflow.python.ops.array_ops) is deprecated and will be removed in a future version.\n",
      "Instructions for updating:\n",
      "Use tf.where in 2.0, which has the same broadcast rule as np.where\n",
      "WARNING:tensorflow:From /home/sheila/repos/ns-3-allinone/ns-3.29/scratch/RLinWiFi-master-original-queue-level-mean/agents/dqn/model.py:77: The name tf.train.AdamOptimizer is deprecated. Please use tf.compat.v1.train.AdamOptimizer instead.\n",
      "\n",
      "WARNING:tensorflow:From /home/sheila/repos/ns-3-allinone/ns-3.29/scratch/RLinWiFi-master-original-queue-level-mean/agents/dqn/model.py:33: The name tf.global_variables_initializer is deprecated. Please use tf.compat.v1.global_variables_initializer instead.\n",
      "\n",
      "WARNING:tensorflow:From /home/sheila/repos/ns-3-allinone/ns-3.29/scratch/RLinWiFi-master-original-queue-level-mean/agents/dqn/model.py:34: The name tf.local_variables_initializer is deprecated. Please use tf.compat.v1.local_variables_initializer instead.\n",
      "\n",
      "WARNING:tensorflow:Entity <bound method LSTMCell.call of <tensorflow.python.ops.rnn_cell_impl.LSTMCell object at 0x7f10a82da890>> could not be transformed and will be executed as-is. Please report this to the AutgoGraph team. When filing the bug, set the verbosity to 10 (on Linux, `export AUTOGRAPH_VERBOSITY=10`) and attach the full output. Cause: converting <bound method LSTMCell.call of <tensorflow.python.ops.rnn_cell_impl.LSTMCell object at 0x7f10a82da890>>: AttributeError: module 'gast' has no attribute 'Index'\n",
      "WARNING: Entity <bound method LSTMCell.call of <tensorflow.python.ops.rnn_cell_impl.LSTMCell object at 0x7f10a82da890>> could not be transformed and will be executed as-is. Please report this to the AutgoGraph team. When filing the bug, set the verbosity to 10 (on Linux, `export AUTOGRAPH_VERBOSITY=10`) and attach the full output. Cause: converting <bound method LSTMCell.call of <tensorflow.python.ops.rnn_cell_impl.LSTMCell object at 0x7f10a82da890>>: AttributeError: module 'gast' has no attribute 'Index'\n",
      "WARNING:tensorflow:Entity <bound method LSTMCell.call of <tensorflow.python.ops.rnn_cell_impl.LSTMCell object at 0x7f10a82da890>> could not be transformed and will be executed as-is. Please report this to the AutgoGraph team. When filing the bug, set the verbosity to 10 (on Linux, `export AUTOGRAPH_VERBOSITY=10`) and attach the full output. Cause: converting <bound method LSTMCell.call of <tensorflow.python.ops.rnn_cell_impl.LSTMCell object at 0x7f10a82da890>>: AttributeError: module 'gast' has no attribute 'Index'\n",
      "WARNING: Entity <bound method LSTMCell.call of <tensorflow.python.ops.rnn_cell_impl.LSTMCell object at 0x7f10a82da890>> could not be transformed and will be executed as-is. Please report this to the AutgoGraph team. When filing the bug, set the verbosity to 10 (on Linux, `export AUTOGRAPH_VERBOSITY=10`) and attach the full output. Cause: converting <bound method LSTMCell.call of <tensorflow.python.ops.rnn_cell_impl.LSTMCell object at 0x7f10a82da890>>: AttributeError: module 'gast' has no attribute 'Index'\n",
      "WARNING:tensorflow:Entity <bound method LSTMCell.call of <tensorflow.python.ops.rnn_cell_impl.LSTMCell object at 0x7f10a82da890>> could not be transformed and will be executed as-is. Please report this to the AutgoGraph team. When filing the bug, set the verbosity to 10 (on Linux, `export AUTOGRAPH_VERBOSITY=10`) and attach the full output. Cause: converting <bound method LSTMCell.call of <tensorflow.python.ops.rnn_cell_impl.LSTMCell object at 0x7f10a82da890>>: AttributeError: module 'gast' has no attribute 'Index'\n",
      "WARNING: Entity <bound method LSTMCell.call of <tensorflow.python.ops.rnn_cell_impl.LSTMCell object at 0x7f10a82da890>> could not be transformed and will be executed as-is. Please report this to the AutgoGraph team. When filing the bug, set the verbosity to 10 (on Linux, `export AUTOGRAPH_VERBOSITY=10`) and attach the full output. Cause: converting <bound method LSTMCell.call of <tensorflow.python.ops.rnn_cell_impl.LSTMCell object at 0x7f10a82da890>>: AttributeError: module 'gast' has no attribute 'Index'\n",
      "WARNING:tensorflow:Entity <bound method LSTMCell.call of <tensorflow.python.ops.rnn_cell_impl.LSTMCell object at 0x7f10a82da890>> could not be transformed and will be executed as-is. Please report this to the AutgoGraph team. When filing the bug, set the verbosity to 10 (on Linux, `export AUTOGRAPH_VERBOSITY=10`) and attach the full output. Cause: converting <bound method LSTMCell.call of <tensorflow.python.ops.rnn_cell_impl.LSTMCell object at 0x7f10a82da890>>: AttributeError: module 'gast' has no attribute 'Index'\n",
      "WARNING: Entity <bound method LSTMCell.call of <tensorflow.python.ops.rnn_cell_impl.LSTMCell object at 0x7f10a82da890>> could not be transformed and will be executed as-is. Please report this to the AutgoGraph team. When filing the bug, set the verbosity to 10 (on Linux, `export AUTOGRAPH_VERBOSITY=10`) and attach the full output. Cause: converting <bound method LSTMCell.call of <tensorflow.python.ops.rnn_cell_impl.LSTMCell object at 0x7f10a82da890>>: AttributeError: module 'gast' has no attribute 'Index'\n",
      "WARNING:tensorflow:Entity <bound method Dense.call of <tensorflow.python.layers.core.Dense object at 0x7f10a82da890>> could not be transformed and will be executed as-is. Please report this to the AutgoGraph team. When filing the bug, set the verbosity to 10 (on Linux, `export AUTOGRAPH_VERBOSITY=10`) and attach the full output. Cause: converting <bound method Dense.call of <tensorflow.python.layers.core.Dense object at 0x7f10a82da890>>: AttributeError: module 'gast' has no attribute 'Index'\n",
      "WARNING: Entity <bound method Dense.call of <tensorflow.python.layers.core.Dense object at 0x7f10a82da890>> could not be transformed and will be executed as-is. Please report this to the AutgoGraph team. When filing the bug, set the verbosity to 10 (on Linux, `export AUTOGRAPH_VERBOSITY=10`) and attach the full output. Cause: converting <bound method Dense.call of <tensorflow.python.layers.core.Dense object at 0x7f10a82da890>>: AttributeError: module 'gast' has no attribute 'Index'\n",
      "WARNING:tensorflow:Entity <bound method Dense.call of <tensorflow.python.layers.core.Dense object at 0x7f10a8325e90>> could not be transformed and will be executed as-is. Please report this to the AutgoGraph team. When filing the bug, set the verbosity to 10 (on Linux, `export AUTOGRAPH_VERBOSITY=10`) and attach the full output. Cause: converting <bound method Dense.call of <tensorflow.python.layers.core.Dense object at 0x7f10a8325e90>>: AttributeError: module 'gast' has no attribute 'Index'\n"
     ]
    },
    {
     "name": "stdout",
     "output_type": "stream",
     "text": [
      "WARNING: Entity <bound method Dense.call of <tensorflow.python.layers.core.Dense object at 0x7f10a8325e90>> could not be transformed and will be executed as-is. Please report this to the AutgoGraph team. When filing the bug, set the verbosity to 10 (on Linux, `export AUTOGRAPH_VERBOSITY=10`) and attach the full output. Cause: converting <bound method Dense.call of <tensorflow.python.layers.core.Dense object at 0x7f10a8325e90>>: AttributeError: module 'gast' has no attribute 'Index'\n",
      "WARNING:tensorflow:Entity <bound method Dense.call of <tensorflow.python.layers.core.Dense object at 0x7f10a81b2290>> could not be transformed and will be executed as-is. Please report this to the AutgoGraph team. When filing the bug, set the verbosity to 10 (on Linux, `export AUTOGRAPH_VERBOSITY=10`) and attach the full output. Cause: converting <bound method Dense.call of <tensorflow.python.layers.core.Dense object at 0x7f10a81b2290>>: AttributeError: module 'gast' has no attribute 'Index'\n",
      "WARNING: Entity <bound method Dense.call of <tensorflow.python.layers.core.Dense object at 0x7f10a81b2290>> could not be transformed and will be executed as-is. Please report this to the AutgoGraph team. When filing the bug, set the verbosity to 10 (on Linux, `export AUTOGRAPH_VERBOSITY=10`) and attach the full output. Cause: converting <bound method Dense.call of <tensorflow.python.layers.core.Dense object at 0x7f10a81b2290>>: AttributeError: module 'gast' has no attribute 'Index'\n",
      "WARNING:tensorflow:From /home/sheila/repos/ns-3-allinone/ns-3.29/scratch/RLinWiFi-master-original-queue-level-mean/agents/dqn/agent.py:77: The name tf.train.Saver is deprecated. Please use tf.compat.v1.train.Saver instead.\n",
      "\n",
      "Action space: 7\n",
      "WARNING:tensorflow:From /home/sheila/repos/ns-3-allinone/ns-3.29/scratch/RLinWiFi-master-original-queue-level-mean/agents/dqn/agent.py:107: Variable.load (from tensorflow.python.ops.variables) is deprecated and will be removed in a future version.\n",
      "Instructions for updating:\n",
      "Prefer Variable.assign which has equivalent behavior in 2.X.\n"
     ]
    },
    {
     "name": "stderr",
     "output_type": "stream",
     "text": [
      "COMET INFO: Experiment is live on comet.ml https://www.comet.com/sheila-janota/rl-in-wifi-with-queue-level/80b6ac28636e4ce9af0176fb8b2b7bf6\n",
      "\n"
     ]
    },
    {
     "name": "stdout",
     "output_type": "stream",
     "text": [
      "0\n",
      "42.577881|0|5|-nan\n"
     ]
    },
    {
     "name": "stderr",
     "output_type": "stream",
     "text": [
      "  5%|▌         | 333/6300 [01:49<40:41,  2.44it/s, curr_speed=24.08 Mbps, mb_sent=7.71 Mb]"
     ]
    },
    {
     "name": "stdout",
     "output_type": "stream",
     "text": [
      "------- STARTED TRAINING -------\n"
     ]
    },
    {
     "name": "stderr",
     "output_type": "stream",
     "text": [
      "100%|██████████| 6300/6300 [44:27<00:00,  2.36it/s, curr_speed=28.71 Mbps, mb_sent=1753.49 Mb]\n"
     ]
    },
    {
     "name": "stdout",
     "output_type": "stream",
     "text": [
      "Waiting for simulation script to connect on port: tcp://localhost:20712\n",
      "Please start proper ns-3 simulation script using ./waf --run \"...\"\n",
      "Sent 1753.49 Mb/s.\tMean speed: 29.22 Mb/s\tEpisode 1/15 finished\n",
      "\n",
      "1\n",
      "42.577881|0|5|-nan\n"
     ]
    },
    {
     "name": "stderr",
     "output_type": "stream",
     "text": [
      "100%|██████████| 6300/6300 [45:23<00:00,  2.31it/s, curr_speed=34.21 Mbps, mb_sent=1997.76 Mb]\n"
     ]
    },
    {
     "name": "stdout",
     "output_type": "stream",
     "text": [
      "Waiting for simulation script to connect on port: tcp://localhost:39388\n",
      "Please start proper ns-3 simulation script using ./waf --run \"...\"\n",
      "Sent 1997.76 Mb/s.\tMean speed: 33.30 Mb/s\tEpisode 2/15 finished\n",
      "\n",
      "2\n",
      "42.577881|0|5|-nan\n"
     ]
    },
    {
     "name": "stderr",
     "output_type": "stream",
     "text": [
      "100%|██████████| 6300/6300 [46:25<00:00,  2.26it/s, curr_speed=35.50 Mbps, mb_sent=2124.28 Mb]\n"
     ]
    },
    {
     "name": "stdout",
     "output_type": "stream",
     "text": [
      "Waiting for simulation script to connect on port: tcp://localhost:50538\n",
      "Please start proper ns-3 simulation script using ./waf --run \"...\"\n",
      "Sent 2124.28 Mb/s.\tMean speed: 35.40 Mb/s\tEpisode 3/15 finished\n",
      "\n",
      "3\n",
      "42.577881|0|5|-nan\n"
     ]
    },
    {
     "name": "stderr",
     "output_type": "stream",
     "text": [
      "  5%|▍         | 304/6300 [01:44<40:25,  2.47it/s, curr_speed=36.11 Mbps, mb_sent=1.08 Mb]"
     ]
    },
    {
     "name": "stdout",
     "output_type": "stream",
     "text": [
      "------- MEMORY BUFFER FILLED -------\n"
     ]
    },
    {
     "name": "stderr",
     "output_type": "stream",
     "text": [
      "100%|██████████| 6300/6300 [47:59<00:00,  2.19it/s, curr_speed=36.61 Mbps, mb_sent=2206.89 Mb]\n"
     ]
    },
    {
     "name": "stdout",
     "output_type": "stream",
     "text": [
      "Waiting for simulation script to connect on port: tcp://localhost:42299\n",
      "Please start proper ns-3 simulation script using ./waf --run \"...\"\n",
      "Sent 2206.89 Mb/s.\tMean speed: 36.78 Mb/s\tEpisode 4/15 finished\n",
      "\n",
      "4\n",
      "42.577881|0|5|-nan\n"
     ]
    },
    {
     "name": "stderr",
     "output_type": "stream",
     "text": [
      "100%|██████████| 6300/6300 [47:57<00:00,  2.19it/s, curr_speed=37.75 Mbps, mb_sent=2249.59 Mb]\n"
     ]
    },
    {
     "name": "stdout",
     "output_type": "stream",
     "text": [
      "Waiting for simulation script to connect on port: tcp://localhost:22611\n",
      "Please start proper ns-3 simulation script using ./waf --run \"...\"\n",
      "Sent 2249.59 Mb/s.\tMean speed: 37.49 Mb/s\tEpisode 5/15 finished\n",
      "\n",
      "5\n",
      "42.577881|0|5|-nan\n"
     ]
    },
    {
     "name": "stderr",
     "output_type": "stream",
     "text": [
      "100%|██████████| 6300/6300 [48:44<00:00,  2.15it/s, curr_speed=37.89 Mbps, mb_sent=2279.86 Mb]\n"
     ]
    },
    {
     "name": "stdout",
     "output_type": "stream",
     "text": [
      "Waiting for simulation script to connect on port: tcp://localhost:22032\n",
      "Please start proper ns-3 simulation script using ./waf --run \"...\"\n",
      "Sent 2279.86 Mb/s.\tMean speed: 38.00 Mb/s\tEpisode 6/15 finished\n",
      "\n",
      "6\n",
      "42.577881|0|5|-nan\n"
     ]
    },
    {
     "name": "stderr",
     "output_type": "stream",
     "text": [
      "100%|██████████| 6300/6300 [48:51<00:00,  2.15it/s, curr_speed=38.47 Mbps, mb_sent=2295.84 Mb]\n"
     ]
    },
    {
     "name": "stdout",
     "output_type": "stream",
     "text": [
      "Waiting for simulation script to connect on port: tcp://localhost:30899\n",
      "Please start proper ns-3 simulation script using ./waf --run \"...\"\n",
      "Sent 2295.84 Mb/s.\tMean speed: 38.26 Mb/s\tEpisode 7/15 finished\n",
      "\n",
      "7\n",
      "42.577881|0|5|-nan\n"
     ]
    },
    {
     "name": "stderr",
     "output_type": "stream",
     "text": [
      "100%|██████████| 6300/6300 [34:19<00:00,  3.06it/s, curr_speed=38.40 Mbps, mb_sent=2306.11 Mb]\n"
     ]
    },
    {
     "name": "stdout",
     "output_type": "stream",
     "text": [
      "Waiting for simulation script to connect on port: tcp://localhost:42343\n",
      "Please start proper ns-3 simulation script using ./waf --run \"...\"\n",
      "Sent 2306.11 Mb/s.\tMean speed: 38.44 Mb/s\tEpisode 8/15 finished\n",
      "\n",
      "8\n",
      "42.577881|0|5|-nan\n"
     ]
    },
    {
     "name": "stderr",
     "output_type": "stream",
     "text": [
      "100%|██████████| 6300/6300 [24:14<00:00,  4.33it/s, curr_speed=38.01 Mbps, mb_sent=2307.54 Mb]\n"
     ]
    },
    {
     "name": "stdout",
     "output_type": "stream",
     "text": [
      "Waiting for simulation script to connect on port: tcp://localhost:32405\n",
      "Please start proper ns-3 simulation script using ./waf --run \"...\"\n",
      "Sent 2307.54 Mb/s.\tMean speed: 38.46 Mb/s\tEpisode 9/15 finished\n",
      "\n",
      "9\n",
      "42.577881|0|5|-nan\n"
     ]
    },
    {
     "name": "stderr",
     "output_type": "stream",
     "text": [
      "100%|██████████| 6300/6300 [17:29<00:00,  6.00it/s, curr_speed=38.11 Mbps, mb_sent=2315.37 Mb]\n"
     ]
    },
    {
     "name": "stdout",
     "output_type": "stream",
     "text": [
      "Waiting for simulation script to connect on port: tcp://localhost:17341\n",
      "Please start proper ns-3 simulation script using ./waf --run \"...\"\n",
      "Sent 2315.37 Mb/s.\tMean speed: 38.59 Mb/s\tEpisode 10/15 finished\n",
      "\n",
      "10\n",
      "42.577881|0|5|-nan\n"
     ]
    },
    {
     "name": "stderr",
     "output_type": "stream",
     "text": [
      "100%|██████████| 6300/6300 [12:05<00:00,  8.68it/s, curr_speed=38.68 Mbps, mb_sent=2317.50 Mb]\n"
     ]
    },
    {
     "name": "stdout",
     "output_type": "stream",
     "text": [
      "Waiting for simulation script to connect on port: tcp://localhost:33995\n",
      "Please start proper ns-3 simulation script using ./waf --run \"...\"\n",
      "Sent 2317.50 Mb/s.\tMean speed: 38.63 Mb/s\tEpisode 11/15 finished\n",
      "\n",
      "11\n",
      "42.577881|0|5|-nan\n"
     ]
    },
    {
     "name": "stderr",
     "output_type": "stream",
     "text": [
      "100%|██████████| 6300/6300 [12:05<00:00,  8.68it/s, curr_speed=38.85 Mbps, mb_sent=2319.09 Mb]\n"
     ]
    },
    {
     "name": "stdout",
     "output_type": "stream",
     "text": [
      "Waiting for simulation script to connect on port: tcp://localhost:29055\n",
      "Please start proper ns-3 simulation script using ./waf --run \"...\"\n",
      "WARNING:tensorflow:From /home/sheila/anaconda3/envs/environment_py3_7/lib/python3.7/site-packages/tensorflow/python/training/saver.py:960: remove_checkpoint (from tensorflow.python.training.checkpoint_management) is deprecated and will be removed in a future version.\n",
      "Instructions for updating:\n",
      "Use standard file APIs to delete files with this prefix.\n",
      "Sent 2319.09 Mb/s.\tMean speed: 38.65 Mb/s\tEpisode 12/15 finished\n",
      "\n",
      "12\n",
      "Turning off noise\n",
      "42.577881|0|5|-nan\n"
     ]
    },
    {
     "name": "stderr",
     "output_type": "stream",
     "text": [
      "100%|██████████| 6300/6300 [12:05<00:00,  8.68it/s, curr_speed=37.99 Mbps, mb_sent=2319.68 Mb]\n"
     ]
    },
    {
     "name": "stdout",
     "output_type": "stream",
     "text": [
      "Waiting for simulation script to connect on port: tcp://localhost:41154\n",
      "Please start proper ns-3 simulation script using ./waf --run \"...\"\n",
      "Sent 2319.68 Mb/s.\tMean speed: 38.66 Mb/s\tEpisode 13/15 finished\n",
      "\n",
      "13\n",
      "Turning off noise\n",
      "42.577881|0|5|-nan\n"
     ]
    },
    {
     "name": "stderr",
     "output_type": "stream",
     "text": [
      "100%|██████████| 6300/6300 [12:05<00:00,  8.69it/s, curr_speed=38.80 Mbps, mb_sent=2318.23 Mb]\n"
     ]
    },
    {
     "name": "stdout",
     "output_type": "stream",
     "text": [
      "Waiting for simulation script to connect on port: tcp://localhost:50043\n",
      "Please start proper ns-3 simulation script using ./waf --run \"...\"\n",
      "Sent 2318.23 Mb/s.\tMean speed: 38.64 Mb/s\tEpisode 14/15 finished\n",
      "\n",
      "14\n",
      "Turning off noise\n",
      "42.577881|0|5|-nan\n"
     ]
    },
    {
     "name": "stderr",
     "output_type": "stream",
     "text": [
      "100%|██████████| 6300/6300 [11:47<00:00,  8.91it/s, curr_speed=38.08 Mbps, mb_sent=2304.18 Mb]\n"
     ]
    },
    {
     "name": "stdout",
     "output_type": "stream",
     "text": [
      "Waiting for simulation script to connect on port: tcp://localhost:45351\n",
      "Please start proper ns-3 simulation script using ./waf --run \"...\"\n"
     ]
    },
    {
     "name": "stderr",
     "output_type": "stream",
     "text": [
      "COMET INFO: ----------------------------\n",
      "COMET INFO: Comet.ml Experiment Summary:\n",
      "COMET INFO:   Data:\n",
      "COMET INFO:     url: https://www.comet.com/sheila-janota/rl-in-wifi-with-queue-level/80b6ac28636e4ce9af0176fb8b2b7bf6\n",
      "COMET INFO:   Metrics [count] (min, max):\n",
      "COMET INFO:     Chosen CW [89985]           : (16.0, 1024.0)\n",
      "COMET INFO:     Cumulative reward [15]      : (2446.76123046875, 3247.32666015625)\n",
      "COMET INFO:     Current throughput [89985]  : (21.892101287841797, 49.73748016357422)\n",
      "COMET INFO:     Fairness index [89985]      : (0.17592500150203705, 0.9999160170555115)\n",
      "COMET INFO:     Megabytes sent [89985]      : (0.3239139914512634, 2319.6790950000286)\n",
      "COMET INFO:     Observation 0 [89985]       : (0.6790357299894094, 0.8571500083804131)\n",
      "COMET INFO:     Observation 1 [89985]       : (0.0, 0.08786041946037462)\n",
      "COMET INFO:     Per-ep reward [89985]       : (109.266845703125, 3247.32666015625)\n",
      "COMET INFO:     Round megabytes sent [89985]: (0.033507999032735825, 11.794921875)\n",
      "COMET INFO:     Round reward [89985]        : (0.044677734375, 0.610595703125)\n",
      "COMET INFO:     Speed [15]                  : (29.224823659782608, 38.66131825000048)\n",
      "COMET INFO:     Station count [89985]       : (5.0, 6.0)\n",
      "COMET INFO:     loss [89985]                : (0.0, 0.1419672245780627)\n",
      "COMET INFO:   Uploads:\n",
      "COMET INFO:     histogram3d: 89985\n",
      "COMET INFO: ----------------------------\n",
      "COMET INFO: Uploading stats to Comet before program termination (may take several seconds)\n"
     ]
    },
    {
     "name": "stdout",
     "output_type": "stream",
     "text": [
      "Sent 2304.18 Mb/s.\tMean speed: 38.40 Mb/s\tEpisode 15/15 finished\n",
      "\n",
      "Training finished.\n"
     ]
    },
    {
     "name": "stderr",
     "output_type": "stream",
     "text": [
      "COMET INFO: Experiment is live on comet.ml https://www.comet.com/sheila-janota/rl-in-wifi-with-queue-level/0dd30d60d4974359902fc8ea3e93a675\n",
      "\n"
     ]
    },
    {
     "name": "stdout",
     "output_type": "stream",
     "text": [
      "42.577881|0|5|-nan\n"
     ]
    },
    {
     "name": "stderr",
     "output_type": "stream",
     "text": [
      "100%|██████████| 6300/6300 [11:38<00:00,  9.01it/s, curr_speed=38.08 Mbps, mb_sent=2304.18 Mb]\n"
     ]
    },
    {
     "name": "stdout",
     "output_type": "stream",
     "text": [
      "Waiting for simulation script to connect on port: tcp://localhost:52916\n",
      "Please start proper ns-3 simulation script using ./waf --run \"...\"\n"
     ]
    },
    {
     "name": "stderr",
     "output_type": "stream",
     "text": [
      "COMET INFO: ----------------------------\n",
      "COMET INFO: Comet.ml Experiment Summary:\n",
      "COMET INFO:   Data:\n",
      "COMET INFO:     url: https://www.comet.com/sheila-janota/rl-in-wifi-with-queue-level/0dd30d60d4974359902fc8ea3e93a675\n",
      "COMET INFO:   Metrics [count] (min, max):\n",
      "COMET INFO:     Chosen CW [5999]           : (32.0, 64.0)\n",
      "COMET INFO:     Cumulative reward          : (3226.65576171875, 3226.65576171875)\n",
      "COMET INFO:     Current throughput [5999]  : (37.294734954833984, 39.651485443115234)\n",
      "COMET INFO:     Fairness index [5999]      : (0.17677100002765656, 0.9998379945755005)\n",
      "COMET INFO:     Megabytes sent [5999]      : (0.3909299969673157, 2304.1759586930275)\n",
      "COMET INFO:     Observation 0 [5999]       : (0.6820714449137448, 0.8571428656578064)\n",
      "COMET INFO:     Observation 1 [5999]       : (0.0, 0.08782665796305678)\n",
      "COMET INFO:     Per-ep reward [5999]       : (154.9423828125, 3226.65576171875)\n",
      "COMET INFO:     Round megabytes sent [5999]: (0.2568970024585724, 0.4579469859600067)\n",
      "COMET INFO:     Round reward [5999]        : (0.342529296875, 0.610595703125)\n",
      "COMET INFO:     Speed                      : (38.40293264488379, 38.40293264488379)\n",
      "COMET INFO:     Station count [5999]       : (5.0, 6.0)\n",
      "COMET INFO:     loss [5999]                : (0.0014229207243464034, 0.0014229207243464034)\n",
      "COMET INFO:   Uploads:\n",
      "COMET INFO:     histogram3d: 5999\n",
      "COMET INFO: ----------------------------\n",
      "COMET INFO: Uploading stats to Comet before program termination (may take several seconds)\n"
     ]
    },
    {
     "name": "stdout",
     "output_type": "stream",
     "text": [
      "Sent 2304.18 Mb/s.\tMean speed: 38.40 Mb/s\tEval finished\n",
      "\n"
     ]
    }
   ],
   "source": [
    "#%%\n",
    "teacher = Teacher(env, 1, Preprocessor(False))\n",
    "\n",
    "lr = 4e-4\n",
    "config = Config(buffer_size=3*steps_per_ep*threads_no, batch_size=32, gamma=0.7, tau=1e-3, lr=lr, update_every=1)\n",
    "agent = Agent(QNetworkTf, history_length, action_size=7, config=config)\n",
    "agent.set_epsilon(0.9, 0.001, EPISODE_COUNT-2)\n",
    "\n",
    "# Test the model\n",
    "hyperparams = {**config.__dict__, **sim_args}\n",
    "tags = [\"Rew: normalized speed\",\n",
    "        \"Final\",\n",
    "        f\"{Agent.NAME}\",\n",
    "        sim_args['scenario'],\n",
    "        f\"LR: {lr}\",\n",
    "        f\"Instances: {threads_no}\",\n",
    "        f\"Station count: {sim_args['nWifi']}\",\n",
    "        *[f\"{key}: {sim_args[key]}\" for key in list(sim_args)[:3]]]\n",
    "# # agent.save()\n",
    "logger = teacher.train(agent, EPISODE_COUNT,\n",
    "                        simTime=simTime,\n",
    "                        stepTime=stepTime,\n",
    "                        history_length=history_length,\n",
    "                        send_logs=True,\n",
    "                        experimental=True,\n",
    "                        tags=tags,\n",
    "                        parameters=hyperparams)\n",
    "logger = teacher.eval(agent,\n",
    "                        simTime=simTime,\n",
    "                        stepTime=stepTime,\n",
    "                        history_length=history_length,\n",
    "                        tags=tags,\n",
    "                        parameters=hyperparams)\n",
    "# agent.save()\n",
    "\n",
    "\n",
    "# %%"
   ]
  },
  {
   "cell_type": "markdown",
   "id": "8e4837b5",
   "metadata": {},
   "source": [
    "# Execution num5:"
   ]
  },
  {
   "cell_type": "code",
   "execution_count": 1,
   "id": "8682ed5e",
   "metadata": {},
   "outputs": [
    {
     "name": "stderr",
     "output_type": "stream",
     "text": [
      "/home/sheila/anaconda3/envs/environment_py3_7/lib/python3.7/site-packages/tensorflow/python/framework/dtypes.py:516: FutureWarning: Passing (type, 1) or '1type' as a synonym of type is deprecated; in a future version of numpy, it will be understood as (type, (1,)) / '(1,)type'.\n",
      "  _np_qint8 = np.dtype([(\"qint8\", np.int8, 1)])\n",
      "/home/sheila/anaconda3/envs/environment_py3_7/lib/python3.7/site-packages/tensorflow/python/framework/dtypes.py:517: FutureWarning: Passing (type, 1) or '1type' as a synonym of type is deprecated; in a future version of numpy, it will be understood as (type, (1,)) / '(1,)type'.\n",
      "  _np_quint8 = np.dtype([(\"quint8\", np.uint8, 1)])\n",
      "/home/sheila/anaconda3/envs/environment_py3_7/lib/python3.7/site-packages/tensorflow/python/framework/dtypes.py:518: FutureWarning: Passing (type, 1) or '1type' as a synonym of type is deprecated; in a future version of numpy, it will be understood as (type, (1,)) / '(1,)type'.\n",
      "  _np_qint16 = np.dtype([(\"qint16\", np.int16, 1)])\n",
      "/home/sheila/anaconda3/envs/environment_py3_7/lib/python3.7/site-packages/tensorflow/python/framework/dtypes.py:519: FutureWarning: Passing (type, 1) or '1type' as a synonym of type is deprecated; in a future version of numpy, it will be understood as (type, (1,)) / '(1,)type'.\n",
      "  _np_quint16 = np.dtype([(\"quint16\", np.uint16, 1)])\n",
      "/home/sheila/anaconda3/envs/environment_py3_7/lib/python3.7/site-packages/tensorflow/python/framework/dtypes.py:520: FutureWarning: Passing (type, 1) or '1type' as a synonym of type is deprecated; in a future version of numpy, it will be understood as (type, (1,)) / '(1,)type'.\n",
      "  _np_qint32 = np.dtype([(\"qint32\", np.int32, 1)])\n",
      "/home/sheila/anaconda3/envs/environment_py3_7/lib/python3.7/site-packages/tensorflow/python/framework/dtypes.py:525: FutureWarning: Passing (type, 1) or '1type' as a synonym of type is deprecated; in a future version of numpy, it will be understood as (type, (1,)) / '(1,)type'.\n",
      "  np_resource = np.dtype([(\"resource\", np.ubyte, 1)])\n",
      "/home/sheila/anaconda3/envs/environment_py3_7/lib/python3.7/site-packages/tensorboard/compat/tensorflow_stub/dtypes.py:541: FutureWarning: Passing (type, 1) or '1type' as a synonym of type is deprecated; in a future version of numpy, it will be understood as (type, (1,)) / '(1,)type'.\n",
      "  _np_qint8 = np.dtype([(\"qint8\", np.int8, 1)])\n",
      "/home/sheila/anaconda3/envs/environment_py3_7/lib/python3.7/site-packages/tensorboard/compat/tensorflow_stub/dtypes.py:542: FutureWarning: Passing (type, 1) or '1type' as a synonym of type is deprecated; in a future version of numpy, it will be understood as (type, (1,)) / '(1,)type'.\n",
      "  _np_quint8 = np.dtype([(\"quint8\", np.uint8, 1)])\n",
      "/home/sheila/anaconda3/envs/environment_py3_7/lib/python3.7/site-packages/tensorboard/compat/tensorflow_stub/dtypes.py:543: FutureWarning: Passing (type, 1) or '1type' as a synonym of type is deprecated; in a future version of numpy, it will be understood as (type, (1,)) / '(1,)type'.\n",
      "  _np_qint16 = np.dtype([(\"qint16\", np.int16, 1)])\n",
      "/home/sheila/anaconda3/envs/environment_py3_7/lib/python3.7/site-packages/tensorboard/compat/tensorflow_stub/dtypes.py:544: FutureWarning: Passing (type, 1) or '1type' as a synonym of type is deprecated; in a future version of numpy, it will be understood as (type, (1,)) / '(1,)type'.\n",
      "  _np_quint16 = np.dtype([(\"quint16\", np.uint16, 1)])\n",
      "/home/sheila/anaconda3/envs/environment_py3_7/lib/python3.7/site-packages/tensorboard/compat/tensorflow_stub/dtypes.py:545: FutureWarning: Passing (type, 1) or '1type' as a synonym of type is deprecated; in a future version of numpy, it will be understood as (type, (1,)) / '(1,)type'.\n",
      "  _np_qint32 = np.dtype([(\"qint32\", np.int32, 1)])\n",
      "/home/sheila/anaconda3/envs/environment_py3_7/lib/python3.7/site-packages/tensorboard/compat/tensorflow_stub/dtypes.py:550: FutureWarning: Passing (type, 1) or '1type' as a synonym of type is deprecated; in a future version of numpy, it will be understood as (type, (1,)) / '(1,)type'.\n",
      "  np_resource = np.dtype([(\"resource\", np.ubyte, 1)])\n"
     ]
    }
   ],
   "source": [
    "#%%\n",
    "from ns3gym import ns3env\n",
    "from comet_ml import Experiment, Optimizer\n",
    "import tqdm\n",
    "import subprocess\n",
    "from collections import deque\n",
    "import numpy as np\n",
    "\n",
    "from agents.dqn.agent import Agent, Config\n",
    "from agents.dqn.model import QNetworkTf\n",
    "from agents.teacher import Teacher, EnvWrapper\n",
    "from preprocessor import Preprocessor"
   ]
  },
  {
   "cell_type": "code",
   "execution_count": 2,
   "id": "898dea2d",
   "metadata": {},
   "outputs": [
    {
     "name": "stdout",
     "output_type": "stream",
     "text": [
      "Steps per episode: 6000\n",
      "Waiting for simulation script to connect on port: tcp://localhost:49988\n",
      "Please start proper ns-3 simulation script using ./waf --run \"...\"\n",
      "42.577881|0|5|-nan\n",
      "Observation space shape: (1, 300)\n",
      "Action space shape: (1, 1)\n"
     ]
    }
   ],
   "source": [
    "#%%\n",
    "scenario = \"convergence\"\n",
    "\n",
    "simTime = 60 # seconds\n",
    "stepTime = 0.01  # seconds\n",
    "history_length = 300\n",
    "\n",
    "EPISODE_COUNT = 15\n",
    "steps_per_ep = int(simTime/stepTime)\n",
    "\n",
    "sim_args = {\n",
    "    \"simTime\": simTime,\n",
    "    \"envStepTime\": stepTime,\n",
    "    \"historyLength\": history_length,\n",
    "    \"agentType\": Agent.TYPE,\n",
    "    \"scenario\": \"convergence\",\n",
    "    \"nWifi\": 6,\n",
    "}\n",
    "\n",
    "print(\"Steps per episode:\", steps_per_ep)\n",
    "\n",
    "threads_no = 1\n",
    "env = EnvWrapper(threads_no, **sim_args)\n",
    "\n",
    "#%%\n",
    "env.reset()\n",
    "ob_space = env.observation_space\n",
    "ac_space = env.action_space\n",
    "\n",
    "print(\"Observation space shape:\", ob_space)\n",
    "print(\"Action space shape:\", ac_space)\n",
    "\n",
    "assert ob_space is not None"
   ]
  },
  {
   "cell_type": "code",
   "execution_count": 3,
   "id": "bd4b4732",
   "metadata": {},
   "outputs": [
    {
     "name": "stdout",
     "output_type": "stream",
     "text": [
      "WARNING:tensorflow:From /home/sheila/repos/ns-3-allinone/ns-3.29/scratch/RLinWiFi-master-original-queue-level-mean/agents/dqn/agent.py:53: The name tf.Session is deprecated. Please use tf.compat.v1.Session instead.\n",
      "\n",
      "WARNING:tensorflow:From /home/sheila/repos/ns-3-allinone/ns-3.29/scratch/RLinWiFi-master-original-queue-level-mean/agents/dqn/model.py:25: The name tf.variable_scope is deprecated. Please use tf.compat.v1.variable_scope instead.\n",
      "\n",
      "WARNING:tensorflow:From /home/sheila/repos/ns-3-allinone/ns-3.29/scratch/RLinWiFi-master-original-queue-level-mean/agents/dqn/model.py:26: The name tf.placeholder is deprecated. Please use tf.compat.v1.placeholder instead.\n",
      "\n",
      "WARNING:tensorflow:\n",
      "The TensorFlow contrib module will not be included in TensorFlow 2.0.\n",
      "For more information, please see:\n",
      "  * https://github.com/tensorflow/community/blob/master/rfcs/20180907-contrib-sunset.md\n",
      "  * https://github.com/tensorflow/addons\n",
      "  * https://github.com/tensorflow/io (for I/O related ops)\n",
      "If you depend on functionality not listed there, please file an issue.\n",
      "\n",
      "WARNING:tensorflow:From /home/sheila/repos/ns-3-allinone/ns-3.29/scratch/RLinWiFi-master-original-queue-level-mean/agents/dqn/model.py:52: LSTMCell.__init__ (from tensorflow.python.ops.rnn_cell_impl) is deprecated and will be removed in a future version.\n",
      "Instructions for updating:\n",
      "This class is equivalent as tf.keras.layers.LSTMCell, and will be replaced by that in Tensorflow 2.0.\n",
      "WARNING:tensorflow:From /home/sheila/repos/ns-3-allinone/ns-3.29/scratch/RLinWiFi-master-original-queue-level-mean/agents/dqn/model.py:52: static_rnn (from tensorflow.python.ops.rnn) is deprecated and will be removed in a future version.\n",
      "Instructions for updating:\n",
      "Please use `keras.layers.RNN(cell, unroll=True)`, which is equivalent to this API\n",
      "WARNING:tensorflow:From /home/sheila/anaconda3/envs/environment_py3_7/lib/python3.7/site-packages/tensorflow/python/ops/init_ops.py:1251: calling VarianceScaling.__init__ (from tensorflow.python.ops.init_ops) with dtype is deprecated and will be removed in a future version.\n",
      "Instructions for updating:\n",
      "Call initializer instance with the dtype argument instead of passing it to the constructor\n",
      "WARNING:tensorflow:From /home/sheila/anaconda3/envs/environment_py3_7/lib/python3.7/site-packages/tensorflow/python/ops/rnn_cell_impl.py:961: calling Zeros.__init__ (from tensorflow.python.ops.init_ops) with dtype is deprecated and will be removed in a future version.\n",
      "Instructions for updating:\n",
      "Call initializer instance with the dtype argument instead of passing it to the constructor\n",
      "WARNING:tensorflow:Entity <bound method LSTMCell.call of <tensorflow.python.ops.rnn_cell_impl.LSTMCell object at 0x7f68e5584750>> could not be transformed and will be executed as-is. Please report this to the AutgoGraph team. When filing the bug, set the verbosity to 10 (on Linux, `export AUTOGRAPH_VERBOSITY=10`) and attach the full output. Cause: converting <bound method LSTMCell.call of <tensorflow.python.ops.rnn_cell_impl.LSTMCell object at 0x7f68e5584750>>: AttributeError: module 'gast' has no attribute 'Index'\n",
      "WARNING: Entity <bound method LSTMCell.call of <tensorflow.python.ops.rnn_cell_impl.LSTMCell object at 0x7f68e5584750>> could not be transformed and will be executed as-is. Please report this to the AutgoGraph team. When filing the bug, set the verbosity to 10 (on Linux, `export AUTOGRAPH_VERBOSITY=10`) and attach the full output. Cause: converting <bound method LSTMCell.call of <tensorflow.python.ops.rnn_cell_impl.LSTMCell object at 0x7f68e5584750>>: AttributeError: module 'gast' has no attribute 'Index'\n",
      "WARNING:tensorflow:Entity <bound method LSTMCell.call of <tensorflow.python.ops.rnn_cell_impl.LSTMCell object at 0x7f68e5584750>> could not be transformed and will be executed as-is. Please report this to the AutgoGraph team. When filing the bug, set the verbosity to 10 (on Linux, `export AUTOGRAPH_VERBOSITY=10`) and attach the full output. Cause: converting <bound method LSTMCell.call of <tensorflow.python.ops.rnn_cell_impl.LSTMCell object at 0x7f68e5584750>>: AttributeError: module 'gast' has no attribute 'Index'\n",
      "WARNING: Entity <bound method LSTMCell.call of <tensorflow.python.ops.rnn_cell_impl.LSTMCell object at 0x7f68e5584750>> could not be transformed and will be executed as-is. Please report this to the AutgoGraph team. When filing the bug, set the verbosity to 10 (on Linux, `export AUTOGRAPH_VERBOSITY=10`) and attach the full output. Cause: converting <bound method LSTMCell.call of <tensorflow.python.ops.rnn_cell_impl.LSTMCell object at 0x7f68e5584750>>: AttributeError: module 'gast' has no attribute 'Index'\n",
      "WARNING:tensorflow:Entity <bound method LSTMCell.call of <tensorflow.python.ops.rnn_cell_impl.LSTMCell object at 0x7f68e5584750>> could not be transformed and will be executed as-is. Please report this to the AutgoGraph team. When filing the bug, set the verbosity to 10 (on Linux, `export AUTOGRAPH_VERBOSITY=10`) and attach the full output. Cause: converting <bound method LSTMCell.call of <tensorflow.python.ops.rnn_cell_impl.LSTMCell object at 0x7f68e5584750>>: AttributeError: module 'gast' has no attribute 'Index'\n",
      "WARNING: Entity <bound method LSTMCell.call of <tensorflow.python.ops.rnn_cell_impl.LSTMCell object at 0x7f68e5584750>> could not be transformed and will be executed as-is. Please report this to the AutgoGraph team. When filing the bug, set the verbosity to 10 (on Linux, `export AUTOGRAPH_VERBOSITY=10`) and attach the full output. Cause: converting <bound method LSTMCell.call of <tensorflow.python.ops.rnn_cell_impl.LSTMCell object at 0x7f68e5584750>>: AttributeError: module 'gast' has no attribute 'Index'\n",
      "WARNING:tensorflow:Entity <bound method LSTMCell.call of <tensorflow.python.ops.rnn_cell_impl.LSTMCell object at 0x7f68e5584750>> could not be transformed and will be executed as-is. Please report this to the AutgoGraph team. When filing the bug, set the verbosity to 10 (on Linux, `export AUTOGRAPH_VERBOSITY=10`) and attach the full output. Cause: converting <bound method LSTMCell.call of <tensorflow.python.ops.rnn_cell_impl.LSTMCell object at 0x7f68e5584750>>: AttributeError: module 'gast' has no attribute 'Index'\n",
      "WARNING: Entity <bound method LSTMCell.call of <tensorflow.python.ops.rnn_cell_impl.LSTMCell object at 0x7f68e5584750>> could not be transformed and will be executed as-is. Please report this to the AutgoGraph team. When filing the bug, set the verbosity to 10 (on Linux, `export AUTOGRAPH_VERBOSITY=10`) and attach the full output. Cause: converting <bound method LSTMCell.call of <tensorflow.python.ops.rnn_cell_impl.LSTMCell object at 0x7f68e5584750>>: AttributeError: module 'gast' has no attribute 'Index'\n",
      "WARNING:tensorflow:From /home/sheila/repos/ns-3-allinone/ns-3.29/scratch/RLinWiFi-master-original-queue-level-mean/agents/dqn/model.py:53: dense (from tensorflow.python.layers.core) is deprecated and will be removed in a future version.\n",
      "Instructions for updating:\n",
      "Use keras.layers.dense instead.\n",
      "WARNING:tensorflow:Entity <bound method Dense.call of <tensorflow.python.layers.core.Dense object at 0x7f68e5584750>> could not be transformed and will be executed as-is. Please report this to the AutgoGraph team. When filing the bug, set the verbosity to 10 (on Linux, `export AUTOGRAPH_VERBOSITY=10`) and attach the full output. Cause: converting <bound method Dense.call of <tensorflow.python.layers.core.Dense object at 0x7f68e5584750>>: AttributeError: module 'gast' has no attribute 'Index'\n",
      "WARNING: Entity <bound method Dense.call of <tensorflow.python.layers.core.Dense object at 0x7f68e5584750>> could not be transformed and will be executed as-is. Please report this to the AutgoGraph team. When filing the bug, set the verbosity to 10 (on Linux, `export AUTOGRAPH_VERBOSITY=10`) and attach the full output. Cause: converting <bound method Dense.call of <tensorflow.python.layers.core.Dense object at 0x7f68e5584750>>: AttributeError: module 'gast' has no attribute 'Index'\n",
      "WARNING:tensorflow:Entity <bound method Dense.call of <tensorflow.python.layers.core.Dense object at 0x7f68e5584750>> could not be transformed and will be executed as-is. Please report this to the AutgoGraph team. When filing the bug, set the verbosity to 10 (on Linux, `export AUTOGRAPH_VERBOSITY=10`) and attach the full output. Cause: converting <bound method Dense.call of <tensorflow.python.layers.core.Dense object at 0x7f68e5584750>>: AttributeError: module 'gast' has no attribute 'Index'\n"
     ]
    },
    {
     "name": "stdout",
     "output_type": "stream",
     "text": [
      "WARNING: Entity <bound method Dense.call of <tensorflow.python.layers.core.Dense object at 0x7f68e5584750>> could not be transformed and will be executed as-is. Please report this to the AutgoGraph team. When filing the bug, set the verbosity to 10 (on Linux, `export AUTOGRAPH_VERBOSITY=10`) and attach the full output. Cause: converting <bound method Dense.call of <tensorflow.python.layers.core.Dense object at 0x7f68e5584750>>: AttributeError: module 'gast' has no attribute 'Index'\n",
      "WARNING:tensorflow:Entity <bound method Dense.call of <tensorflow.python.layers.core.Dense object at 0x7f68e5584750>> could not be transformed and will be executed as-is. Please report this to the AutgoGraph team. When filing the bug, set the verbosity to 10 (on Linux, `export AUTOGRAPH_VERBOSITY=10`) and attach the full output. Cause: converting <bound method Dense.call of <tensorflow.python.layers.core.Dense object at 0x7f68e5584750>>: AttributeError: module 'gast' has no attribute 'Index'\n",
      "WARNING: Entity <bound method Dense.call of <tensorflow.python.layers.core.Dense object at 0x7f68e5584750>> could not be transformed and will be executed as-is. Please report this to the AutgoGraph team. When filing the bug, set the verbosity to 10 (on Linux, `export AUTOGRAPH_VERBOSITY=10`) and attach the full output. Cause: converting <bound method Dense.call of <tensorflow.python.layers.core.Dense object at 0x7f68e5584750>>: AttributeError: module 'gast' has no attribute 'Index'\n",
      "WARNING:tensorflow:From /home/sheila/repos/ns-3-allinone/ns-3.29/scratch/RLinWiFi-master-original-queue-level-mean/agents/dqn/model.py:69: The name tf.losses.mean_squared_error is deprecated. Please use tf.compat.v1.losses.mean_squared_error instead.\n",
      "\n",
      "WARNING:tensorflow:From /home/sheila/anaconda3/envs/environment_py3_7/lib/python3.7/site-packages/tensorflow/python/ops/losses/losses_impl.py:121: add_dispatch_support.<locals>.wrapper (from tensorflow.python.ops.array_ops) is deprecated and will be removed in a future version.\n",
      "Instructions for updating:\n",
      "Use tf.where in 2.0, which has the same broadcast rule as np.where\n",
      "WARNING:tensorflow:From /home/sheila/repos/ns-3-allinone/ns-3.29/scratch/RLinWiFi-master-original-queue-level-mean/agents/dqn/model.py:77: The name tf.train.AdamOptimizer is deprecated. Please use tf.compat.v1.train.AdamOptimizer instead.\n",
      "\n",
      "WARNING:tensorflow:From /home/sheila/repos/ns-3-allinone/ns-3.29/scratch/RLinWiFi-master-original-queue-level-mean/agents/dqn/model.py:33: The name tf.global_variables_initializer is deprecated. Please use tf.compat.v1.global_variables_initializer instead.\n",
      "\n",
      "WARNING:tensorflow:From /home/sheila/repos/ns-3-allinone/ns-3.29/scratch/RLinWiFi-master-original-queue-level-mean/agents/dqn/model.py:34: The name tf.local_variables_initializer is deprecated. Please use tf.compat.v1.local_variables_initializer instead.\n",
      "\n",
      "WARNING:tensorflow:Entity <bound method LSTMCell.call of <tensorflow.python.ops.rnn_cell_impl.LSTMCell object at 0x7f68ce65b090>> could not be transformed and will be executed as-is. Please report this to the AutgoGraph team. When filing the bug, set the verbosity to 10 (on Linux, `export AUTOGRAPH_VERBOSITY=10`) and attach the full output. Cause: converting <bound method LSTMCell.call of <tensorflow.python.ops.rnn_cell_impl.LSTMCell object at 0x7f68ce65b090>>: AttributeError: module 'gast' has no attribute 'Index'\n",
      "WARNING: Entity <bound method LSTMCell.call of <tensorflow.python.ops.rnn_cell_impl.LSTMCell object at 0x7f68ce65b090>> could not be transformed and will be executed as-is. Please report this to the AutgoGraph team. When filing the bug, set the verbosity to 10 (on Linux, `export AUTOGRAPH_VERBOSITY=10`) and attach the full output. Cause: converting <bound method LSTMCell.call of <tensorflow.python.ops.rnn_cell_impl.LSTMCell object at 0x7f68ce65b090>>: AttributeError: module 'gast' has no attribute 'Index'\n",
      "WARNING:tensorflow:Entity <bound method LSTMCell.call of <tensorflow.python.ops.rnn_cell_impl.LSTMCell object at 0x7f68ce65b090>> could not be transformed and will be executed as-is. Please report this to the AutgoGraph team. When filing the bug, set the verbosity to 10 (on Linux, `export AUTOGRAPH_VERBOSITY=10`) and attach the full output. Cause: converting <bound method LSTMCell.call of <tensorflow.python.ops.rnn_cell_impl.LSTMCell object at 0x7f68ce65b090>>: AttributeError: module 'gast' has no attribute 'Index'\n",
      "WARNING: Entity <bound method LSTMCell.call of <tensorflow.python.ops.rnn_cell_impl.LSTMCell object at 0x7f68ce65b090>> could not be transformed and will be executed as-is. Please report this to the AutgoGraph team. When filing the bug, set the verbosity to 10 (on Linux, `export AUTOGRAPH_VERBOSITY=10`) and attach the full output. Cause: converting <bound method LSTMCell.call of <tensorflow.python.ops.rnn_cell_impl.LSTMCell object at 0x7f68ce65b090>>: AttributeError: module 'gast' has no attribute 'Index'\n",
      "WARNING:tensorflow:Entity <bound method LSTMCell.call of <tensorflow.python.ops.rnn_cell_impl.LSTMCell object at 0x7f68ce65b090>> could not be transformed and will be executed as-is. Please report this to the AutgoGraph team. When filing the bug, set the verbosity to 10 (on Linux, `export AUTOGRAPH_VERBOSITY=10`) and attach the full output. Cause: converting <bound method LSTMCell.call of <tensorflow.python.ops.rnn_cell_impl.LSTMCell object at 0x7f68ce65b090>>: AttributeError: module 'gast' has no attribute 'Index'\n",
      "WARNING: Entity <bound method LSTMCell.call of <tensorflow.python.ops.rnn_cell_impl.LSTMCell object at 0x7f68ce65b090>> could not be transformed and will be executed as-is. Please report this to the AutgoGraph team. When filing the bug, set the verbosity to 10 (on Linux, `export AUTOGRAPH_VERBOSITY=10`) and attach the full output. Cause: converting <bound method LSTMCell.call of <tensorflow.python.ops.rnn_cell_impl.LSTMCell object at 0x7f68ce65b090>>: AttributeError: module 'gast' has no attribute 'Index'\n",
      "WARNING:tensorflow:Entity <bound method LSTMCell.call of <tensorflow.python.ops.rnn_cell_impl.LSTMCell object at 0x7f68ce65b090>> could not be transformed and will be executed as-is. Please report this to the AutgoGraph team. When filing the bug, set the verbosity to 10 (on Linux, `export AUTOGRAPH_VERBOSITY=10`) and attach the full output. Cause: converting <bound method LSTMCell.call of <tensorflow.python.ops.rnn_cell_impl.LSTMCell object at 0x7f68ce65b090>>: AttributeError: module 'gast' has no attribute 'Index'\n",
      "WARNING: Entity <bound method LSTMCell.call of <tensorflow.python.ops.rnn_cell_impl.LSTMCell object at 0x7f68ce65b090>> could not be transformed and will be executed as-is. Please report this to the AutgoGraph team. When filing the bug, set the verbosity to 10 (on Linux, `export AUTOGRAPH_VERBOSITY=10`) and attach the full output. Cause: converting <bound method LSTMCell.call of <tensorflow.python.ops.rnn_cell_impl.LSTMCell object at 0x7f68ce65b090>>: AttributeError: module 'gast' has no attribute 'Index'\n",
      "WARNING:tensorflow:Entity <bound method Dense.call of <tensorflow.python.layers.core.Dense object at 0x7f68d075c250>> could not be transformed and will be executed as-is. Please report this to the AutgoGraph team. When filing the bug, set the verbosity to 10 (on Linux, `export AUTOGRAPH_VERBOSITY=10`) and attach the full output. Cause: converting <bound method Dense.call of <tensorflow.python.layers.core.Dense object at 0x7f68d075c250>>: AttributeError: module 'gast' has no attribute 'Index'\n",
      "WARNING: Entity <bound method Dense.call of <tensorflow.python.layers.core.Dense object at 0x7f68d075c250>> could not be transformed and will be executed as-is. Please report this to the AutgoGraph team. When filing the bug, set the verbosity to 10 (on Linux, `export AUTOGRAPH_VERBOSITY=10`) and attach the full output. Cause: converting <bound method Dense.call of <tensorflow.python.layers.core.Dense object at 0x7f68d075c250>>: AttributeError: module 'gast' has no attribute 'Index'\n",
      "WARNING:tensorflow:Entity <bound method Dense.call of <tensorflow.python.layers.core.Dense object at 0x7f68d075c250>> could not be transformed and will be executed as-is. Please report this to the AutgoGraph team. When filing the bug, set the verbosity to 10 (on Linux, `export AUTOGRAPH_VERBOSITY=10`) and attach the full output. Cause: converting <bound method Dense.call of <tensorflow.python.layers.core.Dense object at 0x7f68d075c250>>: AttributeError: module 'gast' has no attribute 'Index'\n"
     ]
    },
    {
     "name": "stdout",
     "output_type": "stream",
     "text": [
      "WARNING: Entity <bound method Dense.call of <tensorflow.python.layers.core.Dense object at 0x7f68d075c250>> could not be transformed and will be executed as-is. Please report this to the AutgoGraph team. When filing the bug, set the verbosity to 10 (on Linux, `export AUTOGRAPH_VERBOSITY=10`) and attach the full output. Cause: converting <bound method Dense.call of <tensorflow.python.layers.core.Dense object at 0x7f68d075c250>>: AttributeError: module 'gast' has no attribute 'Index'\n",
      "WARNING:tensorflow:Entity <bound method Dense.call of <tensorflow.python.layers.core.Dense object at 0x7f68d075c250>> could not be transformed and will be executed as-is. Please report this to the AutgoGraph team. When filing the bug, set the verbosity to 10 (on Linux, `export AUTOGRAPH_VERBOSITY=10`) and attach the full output. Cause: converting <bound method Dense.call of <tensorflow.python.layers.core.Dense object at 0x7f68d075c250>>: AttributeError: module 'gast' has no attribute 'Index'\n",
      "WARNING: Entity <bound method Dense.call of <tensorflow.python.layers.core.Dense object at 0x7f68d075c250>> could not be transformed and will be executed as-is. Please report this to the AutgoGraph team. When filing the bug, set the verbosity to 10 (on Linux, `export AUTOGRAPH_VERBOSITY=10`) and attach the full output. Cause: converting <bound method Dense.call of <tensorflow.python.layers.core.Dense object at 0x7f68d075c250>>: AttributeError: module 'gast' has no attribute 'Index'\n",
      "WARNING:tensorflow:From /home/sheila/repos/ns-3-allinone/ns-3.29/scratch/RLinWiFi-master-original-queue-level-mean/agents/dqn/agent.py:77: The name tf.train.Saver is deprecated. Please use tf.compat.v1.train.Saver instead.\n",
      "\n",
      "Action space: 7\n",
      "WARNING:tensorflow:From /home/sheila/repos/ns-3-allinone/ns-3.29/scratch/RLinWiFi-master-original-queue-level-mean/agents/dqn/agent.py:107: Variable.load (from tensorflow.python.ops.variables) is deprecated and will be removed in a future version.\n",
      "Instructions for updating:\n",
      "Prefer Variable.assign which has equivalent behavior in 2.X.\n"
     ]
    },
    {
     "name": "stderr",
     "output_type": "stream",
     "text": [
      "COMET INFO: Experiment is live on comet.ml https://www.comet.com/sheila-janota/rl-in-wifi-with-queue-level/5c8c14203e474ac7be2b6cb56de027b1\n",
      "\n"
     ]
    },
    {
     "name": "stdout",
     "output_type": "stream",
     "text": [
      "0\n",
      "42.577881|0|5|-nan\n"
     ]
    },
    {
     "name": "stderr",
     "output_type": "stream",
     "text": [
      "  5%|▌         | 333/6300 [01:59<54:22,  1.83it/s, curr_speed=29.91 Mbps, mb_sent=9.57 Mb]"
     ]
    },
    {
     "name": "stdout",
     "output_type": "stream",
     "text": [
      "------- STARTED TRAINING -------\n"
     ]
    },
    {
     "name": "stderr",
     "output_type": "stream",
     "text": [
      " 10%|█         | 637/6300 [04:04<39:50,  2.37it/s, curr_speed=28.43 Mbps, mb_sent=96.96 Mb]  COMET ERROR: File could not be uploaded\n",
      " 10%|█         | 651/6300 [04:10<38:44,  2.43it/s, curr_speed=29.15 Mbps, mb_sent=101.22 Mb]COMET ERROR: File could not be uploaded\n",
      " 10%|█         | 652/6300 [04:10<38:50,  2.42it/s, curr_speed=29.21 Mbps, mb_sent=101.60 Mb]COMET ERROR: File could not be uploaded\n",
      " 10%|█         | 653/6300 [04:11<39:51,  2.36it/s, curr_speed=29.24 Mbps, mb_sent=101.99 Mb]COMET ERROR: File could not be uploaded\n",
      " 10%|█         | 654/6300 [04:11<36:21,  2.59it/s, curr_speed=28.96 Mbps, mb_sent=102.08 Mb]COMET ERROR: File could not be uploaded\n",
      " 10%|█         | 655/6300 [04:12<35:37,  2.64it/s, curr_speed=28.91 Mbps, mb_sent=102.32 Mb]COMET ERROR: File could not be uploaded\n",
      " 62%|██████▏   | 3896/6300 [27:29<16:14,  2.47it/s, curr_speed=29.99 Mbps, mb_sent=1039.38 Mb]COMET ERROR: File could not be uploaded\n",
      "COMET ERROR: File could not be uploaded\n",
      "COMET ERROR: File could not be uploaded\n",
      "COMET ERROR: File could not be uploaded\n",
      "COMET ERROR: File could not be uploaded\n",
      "COMET ERROR: File could not be uploaded\n",
      "COMET ERROR: File could not be uploaded\n",
      "COMET ERROR: File could not be uploaded\n",
      "COMET ERROR: File could not be uploaded\n",
      "COMET ERROR: File could not be uploaded\n",
      "COMET ERROR: File could not be uploaded\n",
      "COMET ERROR: File could not be uploaded\n",
      "COMET ERROR: File could not be uploaded\n",
      "COMET ERROR: File could not be uploaded\n",
      "COMET ERROR: File could not be uploaded\n",
      "COMET ERROR: File could not be uploaded\n",
      "COMET ERROR: File could not be uploaded\n",
      "COMET ERROR: File could not be uploaded\n",
      "COMET ERROR: File could not be uploaded\n",
      "COMET ERROR: File could not be uploaded\n",
      "COMET ERROR: File could not be uploaded\n",
      "COMET ERROR: File could not be uploaded\n",
      "COMET ERROR: File could not be uploaded\n",
      "COMET ERROR: File could not be uploaded\n",
      "100%|██████████| 6300/6300 [46:58<00:00,  2.24it/s, curr_speed=30.48 Mbps, mb_sent=1748.74 Mb]\n"
     ]
    },
    {
     "name": "stdout",
     "output_type": "stream",
     "text": [
      "Waiting for simulation script to connect on port: tcp://localhost:42965\n",
      "Please start proper ns-3 simulation script using ./waf --run \"...\"\n",
      "Sent 1748.74 Mb/s.\tMean speed: 29.15 Mb/s\tEpisode 1/15 finished\n",
      "\n",
      "1\n",
      "42.577881|0|5|-nan\n"
     ]
    },
    {
     "name": "stderr",
     "output_type": "stream",
     "text": [
      "100%|██████████| 6300/6300 [2:56:04<00:00,  1.68s/it, curr_speed=32.58 Mbps, mb_sent=1975.55 Mb]    \n"
     ]
    },
    {
     "name": "stdout",
     "output_type": "stream",
     "text": [
      "Waiting for simulation script to connect on port: tcp://localhost:32783\n",
      "Please start proper ns-3 simulation script using ./waf --run \"...\"\n",
      "Sent 1975.55 Mb/s.\tMean speed: 32.93 Mb/s\tEpisode 2/15 finished\n",
      "\n",
      "2\n",
      "42.577881|0|5|-nan\n"
     ]
    },
    {
     "name": "stderr",
     "output_type": "stream",
     "text": [
      " 35%|███▌      | 2208/6300 [21:55<50:33,  1.35it/s, curr_speed=34.45 Mbps, mb_sent=672.20 Mb]  COMET ERROR: File could not be uploaded\n",
      " 35%|███▌      | 2209/6300 [21:56<47:15,  1.44it/s, curr_speed=34.46 Mbps, mb_sent=672.61 Mb]COMET ERROR: File could not be uploaded\n",
      " 35%|███▌      | 2210/6300 [21:56<45:11,  1.51it/s, curr_speed=34.52 Mbps, mb_sent=672.99 Mb]COMET ERROR: File could not be uploaded\n",
      " 35%|███▌      | 2211/6300 [21:57<45:20,  1.50it/s, curr_speed=34.49 Mbps, mb_sent=673.35 Mb]COMET ERROR: File could not be uploaded\n",
      " 35%|███▌      | 2212/6300 [21:58<46:50,  1.45it/s, curr_speed=34.54 Mbps, mb_sent=673.74 Mb]COMET ERROR: File could not be uploaded\n",
      " 35%|███▌      | 2213/6300 [21:59<45:17,  1.50it/s, curr_speed=34.55 Mbps, mb_sent=674.10 Mb]COMET ERROR: File could not be uploaded\n",
      " 35%|███▌      | 2217/6300 [22:01<46:42,  1.46it/s, curr_speed=34.59 Mbps, mb_sent=675.52 Mb]COMET ERROR: File could not be uploaded\n",
      " 35%|███▌      | 2218/6300 [22:02<45:58,  1.48it/s, curr_speed=34.59 Mbps, mb_sent=675.90 Mb]COMET ERROR: File could not be uploaded\n",
      " 35%|███▌      | 2219/6300 [22:03<46:11,  1.47it/s, curr_speed=34.60 Mbps, mb_sent=676.30 Mb]COMET ERROR: File could not be uploaded\n",
      "100%|██████████| 6300/6300 [1:04:52<00:00,  1.62it/s, curr_speed=35.19 Mbps, mb_sent=2099.98 Mb]\n"
     ]
    },
    {
     "name": "stdout",
     "output_type": "stream",
     "text": [
      "Waiting for simulation script to connect on port: tcp://localhost:40790\n",
      "Please start proper ns-3 simulation script using ./waf --run \"...\"\n",
      "Sent 2099.98 Mb/s.\tMean speed: 35.00 Mb/s\tEpisode 3/15 finished\n",
      "\n",
      "3\n",
      "42.577881|0|5|-nan\n"
     ]
    },
    {
     "name": "stderr",
     "output_type": "stream",
     "text": [
      "  5%|▍         | 304/6300 [01:52<41:33,  2.40it/s, curr_speed=39.09 Mbps, mb_sent=1.17 Mb]"
     ]
    },
    {
     "name": "stdout",
     "output_type": "stream",
     "text": [
      "------- MEMORY BUFFER FILLED -------\n"
     ]
    },
    {
     "name": "stderr",
     "output_type": "stream",
     "text": [
      "100%|██████████| 6300/6300 [50:30<00:00,  2.08it/s, curr_speed=36.95 Mbps, mb_sent=2201.48 Mb]\n"
     ]
    },
    {
     "name": "stdout",
     "output_type": "stream",
     "text": [
      "Waiting for simulation script to connect on port: tcp://localhost:29588\n",
      "Please start proper ns-3 simulation script using ./waf --run \"...\"\n",
      "Sent 2201.48 Mb/s.\tMean speed: 36.69 Mb/s\tEpisode 4/15 finished\n",
      "\n",
      "4\n",
      "42.577881|0|5|-nan\n"
     ]
    },
    {
     "name": "stderr",
     "output_type": "stream",
     "text": [
      "100%|██████████| 6300/6300 [50:26<00:00,  2.08it/s, curr_speed=37.52 Mbps, mb_sent=2238.37 Mb]\n"
     ]
    },
    {
     "name": "stdout",
     "output_type": "stream",
     "text": [
      "Waiting for simulation script to connect on port: tcp://localhost:21289\n",
      "Please start proper ns-3 simulation script using ./waf --run \"...\"\n",
      "Sent 2238.37 Mb/s.\tMean speed: 37.31 Mb/s\tEpisode 5/15 finished\n",
      "\n",
      "5\n",
      "42.577881|0|5|-nan\n"
     ]
    },
    {
     "name": "stderr",
     "output_type": "stream",
     "text": [
      "100%|██████████| 6300/6300 [50:41<00:00,  2.07it/s, curr_speed=38.11 Mbps, mb_sent=2269.71 Mb]\n"
     ]
    },
    {
     "name": "stdout",
     "output_type": "stream",
     "text": [
      "Waiting for simulation script to connect on port: tcp://localhost:48282\n",
      "Please start proper ns-3 simulation script using ./waf --run \"...\"\n",
      "Sent 2269.71 Mb/s.\tMean speed: 37.83 Mb/s\tEpisode 6/15 finished\n",
      "\n",
      "6\n",
      "42.577881|0|5|-nan\n"
     ]
    },
    {
     "name": "stderr",
     "output_type": "stream",
     "text": [
      "100%|██████████| 6300/6300 [50:23<00:00,  2.08it/s, curr_speed=31.82 Mbps, mb_sent=2282.48 Mb]\n"
     ]
    },
    {
     "name": "stdout",
     "output_type": "stream",
     "text": [
      "Waiting for simulation script to connect on port: tcp://localhost:51365\n",
      "Please start proper ns-3 simulation script using ./waf --run \"...\"\n",
      "Sent 2282.48 Mb/s.\tMean speed: 38.04 Mb/s\tEpisode 7/15 finished\n",
      "\n",
      "7\n",
      "42.577881|0|5|-nan\n"
     ]
    },
    {
     "name": "stderr",
     "output_type": "stream",
     "text": [
      "100%|██████████| 6300/6300 [48:56<00:00,  2.15it/s, curr_speed=38.42 Mbps, mb_sent=2304.12 Mb]\n"
     ]
    },
    {
     "name": "stdout",
     "output_type": "stream",
     "text": [
      "Waiting for simulation script to connect on port: tcp://localhost:30483\n",
      "Please start proper ns-3 simulation script using ./waf --run \"...\"\n",
      "Sent 2304.12 Mb/s.\tMean speed: 38.40 Mb/s\tEpisode 8/15 finished\n",
      "\n",
      "8\n",
      "42.577881|0|5|-nan\n"
     ]
    },
    {
     "name": "stderr",
     "output_type": "stream",
     "text": [
      "100%|██████████| 6300/6300 [25:51<00:00,  4.06it/s, curr_speed=38.31 Mbps, mb_sent=2312.40 Mb]\n"
     ]
    },
    {
     "name": "stdout",
     "output_type": "stream",
     "text": [
      "Waiting for simulation script to connect on port: tcp://localhost:40689\n",
      "Please start proper ns-3 simulation script using ./waf --run \"...\"\n",
      "Sent 2312.40 Mb/s.\tMean speed: 38.54 Mb/s\tEpisode 9/15 finished\n",
      "\n",
      "9\n",
      "42.577881|0|5|-nan\n"
     ]
    },
    {
     "name": "stderr",
     "output_type": "stream",
     "text": [
      "100%|██████████| 6300/6300 [26:04<00:00,  4.03it/s, curr_speed=37.82 Mbps, mb_sent=2312.31 Mb]\n"
     ]
    },
    {
     "name": "stdout",
     "output_type": "stream",
     "text": [
      "Waiting for simulation script to connect on port: tcp://localhost:19699\n",
      "Please start proper ns-3 simulation script using ./waf --run \"...\"\n",
      "Sent 2312.31 Mb/s.\tMean speed: 38.54 Mb/s\tEpisode 10/15 finished\n",
      "\n",
      "10\n",
      "42.577881|0|5|-nan\n"
     ]
    },
    {
     "name": "stderr",
     "output_type": "stream",
     "text": [
      "100%|██████████| 6300/6300 [25:58<00:00,  4.04it/s, curr_speed=38.37 Mbps, mb_sent=2317.00 Mb]\n"
     ]
    },
    {
     "name": "stdout",
     "output_type": "stream",
     "text": [
      "Waiting for simulation script to connect on port: tcp://localhost:24100\n",
      "Please start proper ns-3 simulation script using ./waf --run \"...\"\n",
      "Sent 2317.00 Mb/s.\tMean speed: 38.62 Mb/s\tEpisode 11/15 finished\n",
      "\n",
      "11\n",
      "42.577881|0|5|-nan\n"
     ]
    },
    {
     "name": "stderr",
     "output_type": "stream",
     "text": [
      "100%|██████████| 6300/6300 [25:47<00:00,  4.07it/s, curr_speed=38.95 Mbps, mb_sent=2316.34 Mb]\n"
     ]
    },
    {
     "name": "stdout",
     "output_type": "stream",
     "text": [
      "Waiting for simulation script to connect on port: tcp://localhost:30187\n",
      "Please start proper ns-3 simulation script using ./waf --run \"...\"\n",
      "WARNING:tensorflow:From /home/sheila/anaconda3/envs/environment_py3_7/lib/python3.7/site-packages/tensorflow/python/training/saver.py:960: remove_checkpoint (from tensorflow.python.training.checkpoint_management) is deprecated and will be removed in a future version.\n",
      "Instructions for updating:\n",
      "Use standard file APIs to delete files with this prefix.\n",
      "Sent 2316.34 Mb/s.\tMean speed: 38.61 Mb/s\tEpisode 12/15 finished\n",
      "\n",
      "12\n",
      "Turning off noise\n",
      "42.577881|0|5|-nan\n"
     ]
    },
    {
     "name": "stderr",
     "output_type": "stream",
     "text": [
      "100%|██████████| 6300/6300 [26:03<00:00,  4.03it/s, curr_speed=38.19 Mbps, mb_sent=2318.26 Mb]\n"
     ]
    },
    {
     "name": "stdout",
     "output_type": "stream",
     "text": [
      "Waiting for simulation script to connect on port: tcp://localhost:31598\n",
      "Please start proper ns-3 simulation script using ./waf --run \"...\"\n",
      "Sent 2318.26 Mb/s.\tMean speed: 38.64 Mb/s\tEpisode 13/15 finished\n",
      "\n",
      "13\n",
      "Turning off noise\n",
      "42.577881|0|5|-nan\n"
     ]
    },
    {
     "name": "stderr",
     "output_type": "stream",
     "text": [
      "100%|██████████| 6300/6300 [26:06<00:00,  4.02it/s, curr_speed=38.32 Mbps, mb_sent=2317.42 Mb]\n"
     ]
    },
    {
     "name": "stdout",
     "output_type": "stream",
     "text": [
      "Waiting for simulation script to connect on port: tcp://localhost:32408\n",
      "Please start proper ns-3 simulation script using ./waf --run \"...\"\n",
      "Sent 2317.42 Mb/s.\tMean speed: 38.62 Mb/s\tEpisode 14/15 finished\n",
      "\n",
      "14\n",
      "Turning off noise\n",
      "42.577881|0|5|-nan\n"
     ]
    },
    {
     "name": "stderr",
     "output_type": "stream",
     "text": [
      "100%|██████████| 6300/6300 [25:11<00:00,  4.17it/s, curr_speed=38.91 Mbps, mb_sent=2320.36 Mb]\n"
     ]
    },
    {
     "name": "stdout",
     "output_type": "stream",
     "text": [
      "Waiting for simulation script to connect on port: tcp://localhost:15465\n",
      "Please start proper ns-3 simulation script using ./waf --run \"...\"\n"
     ]
    },
    {
     "name": "stderr",
     "output_type": "stream",
     "text": [
      "COMET INFO: ----------------------------\n",
      "COMET INFO: Comet.ml Experiment Summary:\n",
      "COMET INFO:   Data:\n",
      "COMET INFO:     url: https://www.comet.com/sheila-janota/rl-in-wifi-with-queue-level/5c8c14203e474ac7be2b6cb56de027b1\n",
      "COMET INFO:   Metrics [count] (min, max):\n",
      "COMET INFO:     Chosen CW [89985]           : (16.0, 1024.0)\n",
      "COMET INFO:     Cumulative reward [15]      : (2431.15380859375, 3248.235107421875)\n",
      "COMET INFO:     Current throughput [89985]  : (23.455801010131836, 50.0167121887207)\n",
      "COMET INFO:     Fairness index [89985]      : (0.17547599971294403, 0.9999210238456726)\n",
      "COMET INFO:     Megabytes sent [89985]      : (0.23455800116062164, 2320.360446512699)\n",
      "COMET INFO:     Observation 0 [89985]       : (0.6820714449137448, 0.8571428656578064)\n",
      "COMET INFO:     Observation 1 [89985]       : (0.0, 0.08782665796305678)\n",
      "COMET INFO:     Per-ep reward [89985]       : (100.003662109375, 3248.235107421875)\n",
      "COMET INFO:     Round megabytes sent [89985]: (0.05584700033068657, 11.85076904296875)\n",
      "COMET INFO:     Round reward [89985]        : (0.074462890625, 0.62548828125)\n",
      "COMET INFO:     Speed [15]                  : (29.145705558732153, 38.67267410854499)\n",
      "COMET INFO:     Station count [89985]       : (5.0, 6.0)\n",
      "COMET INFO:     loss [89985]                : (0.0, 0.2086155116558075)\n",
      "COMET INFO:   Uploads:\n",
      "COMET INFO:     histogram3d: 89985\n",
      "COMET INFO: ----------------------------\n",
      "COMET INFO: Uploading stats to Comet before program termination (may take several seconds)\n"
     ]
    },
    {
     "name": "stdout",
     "output_type": "stream",
     "text": [
      "Sent 2320.36 Mb/s.\tMean speed: 38.67 Mb/s\tEpisode 15/15 finished\n",
      "\n",
      "Training finished.\n"
     ]
    },
    {
     "name": "stderr",
     "output_type": "stream",
     "text": [
      "COMET INFO: Experiment is live on comet.ml https://www.comet.com/sheila-janota/rl-in-wifi-with-queue-level/e5d5e2bbd49a429bbfa80682205bdfb2\n",
      "\n"
     ]
    },
    {
     "name": "stdout",
     "output_type": "stream",
     "text": [
      "42.577881|0|5|-nan\n"
     ]
    },
    {
     "name": "stderr",
     "output_type": "stream",
     "text": [
      "100%|██████████| 6300/6300 [24:57<00:00,  4.21it/s, curr_speed=38.91 Mbps, mb_sent=2320.36 Mb]\n"
     ]
    },
    {
     "name": "stdout",
     "output_type": "stream",
     "text": [
      "Waiting for simulation script to connect on port: tcp://localhost:29324\n",
      "Please start proper ns-3 simulation script using ./waf --run \"...\"\n"
     ]
    },
    {
     "name": "stderr",
     "output_type": "stream",
     "text": [
      "COMET INFO: ----------------------------\n",
      "COMET INFO: Comet.ml Experiment Summary:\n",
      "COMET INFO:   Data:\n",
      "COMET INFO:     url: https://www.comet.com/sheila-janota/rl-in-wifi-with-queue-level/e5d5e2bbd49a429bbfa80682205bdfb2\n",
      "COMET INFO:   Metrics [count] (min, max):\n",
      "COMET INFO:     Chosen CW [5999]           : (32.0, 32.0)\n",
      "COMET INFO:     Cumulative reward          : (3248.235107421875, 3248.235107421875)\n",
      "COMET INFO:     Current throughput [5999]  : (37.741512298583984, 39.651485443115234)\n",
      "COMET INFO:     Fairness index [5999]      : (0.17677100002765656, 0.9998229742050171)\n",
      "COMET INFO:     Megabytes sent [5999]      : (0.3909299969673157, 2320.360446512699)\n",
      "COMET INFO:     Observation 0 [5999]       : (0.6820714449137448, 0.8571428656578064)\n",
      "COMET INFO:     Observation 1 [5999]       : (0.0, 0.08782665796305678)\n",
      "COMET INFO:     Per-ep reward [5999]       : (154.9423828125, 3248.235107421875)\n",
      "COMET INFO:     Round megabytes sent [5999]: (0.3015750050544739, 0.4579469859600067)\n",
      "COMET INFO:     Round reward [5999]        : (0.402099609375, 0.610595703125)\n",
      "COMET INFO:     Speed                      : (38.67267410854499, 38.67267410854499)\n",
      "COMET INFO:     Station count [5999]       : (5.0, 6.0)\n",
      "COMET INFO:     loss [5999]                : (0.0014424037164569147, 0.0014424037164569147)\n",
      "COMET INFO:   Uploads:\n",
      "COMET INFO:     histogram3d: 5999\n",
      "COMET INFO: ----------------------------\n",
      "COMET INFO: Uploading stats to Comet before program termination (may take several seconds)\n"
     ]
    },
    {
     "name": "stdout",
     "output_type": "stream",
     "text": [
      "Sent 2320.36 Mb/s.\tMean speed: 38.67 Mb/s\tEval finished\n",
      "\n"
     ]
    }
   ],
   "source": [
    "#%%\n",
    "teacher = Teacher(env, 1, Preprocessor(False))\n",
    "\n",
    "lr = 4e-4\n",
    "config = Config(buffer_size=3*steps_per_ep*threads_no, batch_size=32, gamma=0.7, tau=1e-3, lr=lr, update_every=1)\n",
    "agent = Agent(QNetworkTf, history_length, action_size=7, config=config)\n",
    "agent.set_epsilon(0.9, 0.001, EPISODE_COUNT-2)\n",
    "\n",
    "# Test the model\n",
    "hyperparams = {**config.__dict__, **sim_args}\n",
    "tags = [\"Rew: normalized speed\",\n",
    "        \"Final\",\n",
    "        f\"{Agent.NAME}\",\n",
    "        sim_args['scenario'],\n",
    "        f\"LR: {lr}\",\n",
    "        f\"Instances: {threads_no}\",\n",
    "        f\"Station count: {sim_args['nWifi']}\",\n",
    "        *[f\"{key}: {sim_args[key]}\" for key in list(sim_args)[:3]]]\n",
    "# # agent.save()\n",
    "logger = teacher.train(agent, EPISODE_COUNT,\n",
    "                        simTime=simTime,\n",
    "                        stepTime=stepTime,\n",
    "                        history_length=history_length,\n",
    "                        send_logs=True,\n",
    "                        experimental=True,\n",
    "                        tags=tags,\n",
    "                        parameters=hyperparams)\n",
    "logger = teacher.eval(agent,\n",
    "                        simTime=simTime,\n",
    "                        stepTime=stepTime,\n",
    "                        history_length=history_length,\n",
    "                        tags=tags,\n",
    "                        parameters=hyperparams)\n",
    "# agent.save()\n",
    "\n",
    "\n",
    "# %%"
   ]
  }
 ],
 "metadata": {
  "kernelspec": {
   "display_name": "Python 3 (ipykernel)",
   "language": "python",
   "name": "python3"
  },
  "language_info": {
   "codemirror_mode": {
    "name": "ipython",
    "version": 3
   },
   "file_extension": ".py",
   "mimetype": "text/x-python",
   "name": "python",
   "nbconvert_exporter": "python",
   "pygments_lexer": "ipython3",
   "version": "3.7.10"
  }
 },
 "nbformat": 4,
 "nbformat_minor": 5
}
