{
 "cells": [
  {
   "cell_type": "markdown",
   "id": "5979382b",
   "metadata": {},
   "source": [
    "# Execution num1: "
   ]
  },
  {
   "cell_type": "code",
   "execution_count": 1,
   "id": "11e0cb60",
   "metadata": {},
   "outputs": [
    {
     "name": "stderr",
     "output_type": "stream",
     "text": [
      "/home/samuel/anaconda3/envs/myEnv3_7/lib/python3.7/site-packages/tensorflow/python/framework/dtypes.py:516: FutureWarning: Passing (type, 1) or '1type' as a synonym of type is deprecated; in a future version of numpy, it will be understood as (type, (1,)) / '(1,)type'.\n",
      "  _np_qint8 = np.dtype([(\"qint8\", np.int8, 1)])\n",
      "/home/samuel/anaconda3/envs/myEnv3_7/lib/python3.7/site-packages/tensorflow/python/framework/dtypes.py:517: FutureWarning: Passing (type, 1) or '1type' as a synonym of type is deprecated; in a future version of numpy, it will be understood as (type, (1,)) / '(1,)type'.\n",
      "  _np_quint8 = np.dtype([(\"quint8\", np.uint8, 1)])\n",
      "/home/samuel/anaconda3/envs/myEnv3_7/lib/python3.7/site-packages/tensorflow/python/framework/dtypes.py:518: FutureWarning: Passing (type, 1) or '1type' as a synonym of type is deprecated; in a future version of numpy, it will be understood as (type, (1,)) / '(1,)type'.\n",
      "  _np_qint16 = np.dtype([(\"qint16\", np.int16, 1)])\n",
      "/home/samuel/anaconda3/envs/myEnv3_7/lib/python3.7/site-packages/tensorflow/python/framework/dtypes.py:519: FutureWarning: Passing (type, 1) or '1type' as a synonym of type is deprecated; in a future version of numpy, it will be understood as (type, (1,)) / '(1,)type'.\n",
      "  _np_quint16 = np.dtype([(\"quint16\", np.uint16, 1)])\n",
      "/home/samuel/anaconda3/envs/myEnv3_7/lib/python3.7/site-packages/tensorflow/python/framework/dtypes.py:520: FutureWarning: Passing (type, 1) or '1type' as a synonym of type is deprecated; in a future version of numpy, it will be understood as (type, (1,)) / '(1,)type'.\n",
      "  _np_qint32 = np.dtype([(\"qint32\", np.int32, 1)])\n",
      "/home/samuel/anaconda3/envs/myEnv3_7/lib/python3.7/site-packages/tensorflow/python/framework/dtypes.py:525: FutureWarning: Passing (type, 1) or '1type' as a synonym of type is deprecated; in a future version of numpy, it will be understood as (type, (1,)) / '(1,)type'.\n",
      "  np_resource = np.dtype([(\"resource\", np.ubyte, 1)])\n",
      "/home/samuel/anaconda3/envs/myEnv3_7/lib/python3.7/site-packages/tensorboard/compat/tensorflow_stub/dtypes.py:541: FutureWarning: Passing (type, 1) or '1type' as a synonym of type is deprecated; in a future version of numpy, it will be understood as (type, (1,)) / '(1,)type'.\n",
      "  _np_qint8 = np.dtype([(\"qint8\", np.int8, 1)])\n",
      "/home/samuel/anaconda3/envs/myEnv3_7/lib/python3.7/site-packages/tensorboard/compat/tensorflow_stub/dtypes.py:542: FutureWarning: Passing (type, 1) or '1type' as a synonym of type is deprecated; in a future version of numpy, it will be understood as (type, (1,)) / '(1,)type'.\n",
      "  _np_quint8 = np.dtype([(\"quint8\", np.uint8, 1)])\n",
      "/home/samuel/anaconda3/envs/myEnv3_7/lib/python3.7/site-packages/tensorboard/compat/tensorflow_stub/dtypes.py:543: FutureWarning: Passing (type, 1) or '1type' as a synonym of type is deprecated; in a future version of numpy, it will be understood as (type, (1,)) / '(1,)type'.\n",
      "  _np_qint16 = np.dtype([(\"qint16\", np.int16, 1)])\n",
      "/home/samuel/anaconda3/envs/myEnv3_7/lib/python3.7/site-packages/tensorboard/compat/tensorflow_stub/dtypes.py:544: FutureWarning: Passing (type, 1) or '1type' as a synonym of type is deprecated; in a future version of numpy, it will be understood as (type, (1,)) / '(1,)type'.\n",
      "  _np_quint16 = np.dtype([(\"quint16\", np.uint16, 1)])\n",
      "/home/samuel/anaconda3/envs/myEnv3_7/lib/python3.7/site-packages/tensorboard/compat/tensorflow_stub/dtypes.py:545: FutureWarning: Passing (type, 1) or '1type' as a synonym of type is deprecated; in a future version of numpy, it will be understood as (type, (1,)) / '(1,)type'.\n",
      "  _np_qint32 = np.dtype([(\"qint32\", np.int32, 1)])\n",
      "/home/samuel/anaconda3/envs/myEnv3_7/lib/python3.7/site-packages/tensorboard/compat/tensorflow_stub/dtypes.py:550: FutureWarning: Passing (type, 1) or '1type' as a synonym of type is deprecated; in a future version of numpy, it will be understood as (type, (1,)) / '(1,)type'.\n",
      "  np_resource = np.dtype([(\"resource\", np.ubyte, 1)])\n"
     ]
    }
   ],
   "source": [
    "#%%\n",
    "from ns3gym import ns3env\n",
    "from comet_ml import Experiment, Optimizer\n",
    "import tqdm\n",
    "import subprocess\n",
    "from collections import deque\n",
    "import numpy as np\n",
    "\n",
    "from agents.dqn.agent import Agent, Config\n",
    "from agents.dqn.model import QNetworkTf\n",
    "from agents.teacher import Teacher, EnvWrapper\n",
    "from preprocessor import Preprocessor"
   ]
  },
  {
   "cell_type": "code",
   "execution_count": 2,
   "id": "42c5e35d",
   "metadata": {},
   "outputs": [
    {
     "name": "stdout",
     "output_type": "stream",
     "text": [
      "Steps per episode: 6000\n",
      "Waiting for simulation script to connect on port: tcp://localhost:50877\n",
      "Please start proper ns-3 simulation script using ./waf --run \"...\"\n",
      "Waf: Entering directory `/home/samuel/ns-allinone-3.29/ns-3.29/build'\n",
      "Waf: Leaving directory `/home/samuel/ns-allinone-3.29/ns-3.29/build'\n",
      "Build commands will be stored in build/compile_commands.json\n",
      "'build' finished successfully (2.849s)\n"
     ]
    },
    {
     "name": "stderr",
     "output_type": "stream",
     "text": [
      "Ns3Env parameters:\n",
      "--nWifi: 15\n",
      "--simulationTime: 60\n",
      "--openGymPort: 50877\n",
      "--envStepTime: 0.01\n",
      "--seed: 42\n",
      "--agentType: discrete\n",
      "--scenario: basic\n",
      "--dryRun: 0\n",
      "Simulation started\n"
     ]
    },
    {
     "name": "stdout",
     "output_type": "stream",
     "text": [
      "Observation space shape: (1, 300)\n",
      "Action space shape: (1, 1)\n"
     ]
    },
    {
     "name": "stderr",
     "output_type": "stream",
     "text": [
      "Simulation process id: 468168 (parent (waf shell) id: 468153)\n",
      "Waiting for Python process to connect on port: tcp://localhost:50877\n",
      "Please start proper Python Gym Agent\n"
     ]
    }
   ],
   "source": [
    "#%%\n",
    "scenario = \"basic\"\n",
    "\n",
    "simTime = 60 # seconds\n",
    "stepTime = 0.01  # seconds\n",
    "history_length = 300\n",
    "\n",
    "EPISODE_COUNT = 15\n",
    "steps_per_ep = int(simTime/stepTime)\n",
    "\n",
    "sim_args = {\n",
    "    \"simTime\": simTime,\n",
    "    \"envStepTime\": stepTime,\n",
    "    \"historyLength\": history_length,\n",
    "    \"agentType\": Agent.TYPE,\n",
    "    \"scenario\": \"basic\",\n",
    "    \"nWifi\": 15,\n",
    "}\n",
    "\n",
    "print(\"Steps per episode:\", steps_per_ep)\n",
    "\n",
    "threads_no = 1\n",
    "env = EnvWrapper(threads_no, **sim_args)\n",
    "\n",
    "#%%\n",
    "env.reset()\n",
    "ob_space = env.observation_space\n",
    "ac_space = env.action_space\n",
    "\n",
    "print(\"Observation space shape:\", ob_space)\n",
    "print(\"Action space shape:\", ac_space)\n",
    "\n",
    "assert ob_space is not None"
   ]
  },
  {
   "cell_type": "code",
   "execution_count": 3,
   "id": "e2c1d026",
   "metadata": {
    "scrolled": true
   },
   "outputs": [
    {
     "name": "stdout",
     "output_type": "stream",
     "text": [
      "WARNING:tensorflow:From /home/samuel/ns-allinone-3.29/ns-3.29/scratch/RLinWiFi-master-original-queue-level-mean/agents/dqn/agent.py:53: The name tf.Session is deprecated. Please use tf.compat.v1.Session instead.\n",
      "\n",
      "WARNING:tensorflow:From /home/samuel/ns-allinone-3.29/ns-3.29/scratch/RLinWiFi-master-original-queue-level-mean/agents/dqn/model.py:25: The name tf.variable_scope is deprecated. Please use tf.compat.v1.variable_scope instead.\n",
      "\n",
      "WARNING:tensorflow:From /home/samuel/ns-allinone-3.29/ns-3.29/scratch/RLinWiFi-master-original-queue-level-mean/agents/dqn/model.py:26: The name tf.placeholder is deprecated. Please use tf.compat.v1.placeholder instead.\n",
      "\n"
     ]
    },
    {
     "name": "stderr",
     "output_type": "stream",
     "text": [
      "2023-02-13 02:28:57.092814: I tensorflow/core/platform/cpu_feature_guard.cc:142] Your CPU supports instructions that this TensorFlow binary was not compiled to use: AVX2 FMA\n",
      "2023-02-13 02:28:57.121765: I tensorflow/core/platform/profile_utils/cpu_utils.cc:94] CPU Frequency: 3491795000 Hz\n",
      "2023-02-13 02:28:57.122553: I tensorflow/compiler/xla/service/service.cc:168] XLA service 0x557e3e57d690 executing computations on platform Host. Devices:\n",
      "2023-02-13 02:28:57.122767: I tensorflow/compiler/xla/service/service.cc:175]   StreamExecutor device (0): <undefined>, <undefined>\n"
     ]
    },
    {
     "name": "stdout",
     "output_type": "stream",
     "text": [
      "WARNING:tensorflow:\n",
      "The TensorFlow contrib module will not be included in TensorFlow 2.0.\n",
      "For more information, please see:\n",
      "  * https://github.com/tensorflow/community/blob/master/rfcs/20180907-contrib-sunset.md\n",
      "  * https://github.com/tensorflow/addons\n",
      "  * https://github.com/tensorflow/io (for I/O related ops)\n",
      "If you depend on functionality not listed there, please file an issue.\n",
      "\n",
      "WARNING:tensorflow:From /home/samuel/ns-allinone-3.29/ns-3.29/scratch/RLinWiFi-master-original-queue-level-mean/agents/dqn/model.py:52: LSTMCell.__init__ (from tensorflow.python.ops.rnn_cell_impl) is deprecated and will be removed in a future version.\n",
      "Instructions for updating:\n",
      "This class is equivalent as tf.keras.layers.LSTMCell, and will be replaced by that in Tensorflow 2.0.\n",
      "WARNING:tensorflow:From /home/samuel/ns-allinone-3.29/ns-3.29/scratch/RLinWiFi-master-original-queue-level-mean/agents/dqn/model.py:52: static_rnn (from tensorflow.python.ops.rnn) is deprecated and will be removed in a future version.\n",
      "Instructions for updating:\n",
      "Please use `keras.layers.RNN(cell, unroll=True)`, which is equivalent to this API\n",
      "WARNING:tensorflow:From /home/samuel/anaconda3/envs/myEnv3_7/lib/python3.7/site-packages/tensorflow/python/ops/init_ops.py:1251: calling VarianceScaling.__init__ (from tensorflow.python.ops.init_ops) with dtype is deprecated and will be removed in a future version.\n",
      "Instructions for updating:\n",
      "Call initializer instance with the dtype argument instead of passing it to the constructor\n",
      "WARNING:tensorflow:From /home/samuel/anaconda3/envs/myEnv3_7/lib/python3.7/site-packages/tensorflow/python/ops/rnn_cell_impl.py:961: calling Zeros.__init__ (from tensorflow.python.ops.init_ops) with dtype is deprecated and will be removed in a future version.\n",
      "Instructions for updating:\n",
      "Call initializer instance with the dtype argument instead of passing it to the constructor\n",
      "WARNING:tensorflow:Entity <bound method LSTMCell.call of <tensorflow.python.ops.rnn_cell_impl.LSTMCell object at 0x7f673d456790>> could not be transformed and will be executed as-is. Please report this to the AutgoGraph team. When filing the bug, set the verbosity to 10 (on Linux, `export AUTOGRAPH_VERBOSITY=10`) and attach the full output. Cause: converting <bound method LSTMCell.call of <tensorflow.python.ops.rnn_cell_impl.LSTMCell object at 0x7f673d456790>>: AttributeError: module 'gast' has no attribute 'Index'\n",
      "WARNING: Entity <bound method LSTMCell.call of <tensorflow.python.ops.rnn_cell_impl.LSTMCell object at 0x7f673d456790>> could not be transformed and will be executed as-is. Please report this to the AutgoGraph team. When filing the bug, set the verbosity to 10 (on Linux, `export AUTOGRAPH_VERBOSITY=10`) and attach the full output. Cause: converting <bound method LSTMCell.call of <tensorflow.python.ops.rnn_cell_impl.LSTMCell object at 0x7f673d456790>>: AttributeError: module 'gast' has no attribute 'Index'\n",
      "WARNING:tensorflow:Entity <bound method LSTMCell.call of <tensorflow.python.ops.rnn_cell_impl.LSTMCell object at 0x7f673d456790>> could not be transformed and will be executed as-is. Please report this to the AutgoGraph team. When filing the bug, set the verbosity to 10 (on Linux, `export AUTOGRAPH_VERBOSITY=10`) and attach the full output. Cause: converting <bound method LSTMCell.call of <tensorflow.python.ops.rnn_cell_impl.LSTMCell object at 0x7f673d456790>>: AttributeError: module 'gast' has no attribute 'Index'\n",
      "WARNING: Entity <bound method LSTMCell.call of <tensorflow.python.ops.rnn_cell_impl.LSTMCell object at 0x7f673d456790>> could not be transformed and will be executed as-is. Please report this to the AutgoGraph team. When filing the bug, set the verbosity to 10 (on Linux, `export AUTOGRAPH_VERBOSITY=10`) and attach the full output. Cause: converting <bound method LSTMCell.call of <tensorflow.python.ops.rnn_cell_impl.LSTMCell object at 0x7f673d456790>>: AttributeError: module 'gast' has no attribute 'Index'\n",
      "WARNING:tensorflow:Entity <bound method LSTMCell.call of <tensorflow.python.ops.rnn_cell_impl.LSTMCell object at 0x7f673d456790>> could not be transformed and will be executed as-is. Please report this to the AutgoGraph team. When filing the bug, set the verbosity to 10 (on Linux, `export AUTOGRAPH_VERBOSITY=10`) and attach the full output. Cause: converting <bound method LSTMCell.call of <tensorflow.python.ops.rnn_cell_impl.LSTMCell object at 0x7f673d456790>>: AttributeError: module 'gast' has no attribute 'Index'\n",
      "WARNING: Entity <bound method LSTMCell.call of <tensorflow.python.ops.rnn_cell_impl.LSTMCell object at 0x7f673d456790>> could not be transformed and will be executed as-is. Please report this to the AutgoGraph team. When filing the bug, set the verbosity to 10 (on Linux, `export AUTOGRAPH_VERBOSITY=10`) and attach the full output. Cause: converting <bound method LSTMCell.call of <tensorflow.python.ops.rnn_cell_impl.LSTMCell object at 0x7f673d456790>>: AttributeError: module 'gast' has no attribute 'Index'\n",
      "WARNING:tensorflow:Entity <bound method LSTMCell.call of <tensorflow.python.ops.rnn_cell_impl.LSTMCell object at 0x7f673d456790>> could not be transformed and will be executed as-is. Please report this to the AutgoGraph team. When filing the bug, set the verbosity to 10 (on Linux, `export AUTOGRAPH_VERBOSITY=10`) and attach the full output. Cause: converting <bound method LSTMCell.call of <tensorflow.python.ops.rnn_cell_impl.LSTMCell object at 0x7f673d456790>>: AttributeError: module 'gast' has no attribute 'Index'\n",
      "WARNING: Entity <bound method LSTMCell.call of <tensorflow.python.ops.rnn_cell_impl.LSTMCell object at 0x7f673d456790>> could not be transformed and will be executed as-is. Please report this to the AutgoGraph team. When filing the bug, set the verbosity to 10 (on Linux, `export AUTOGRAPH_VERBOSITY=10`) and attach the full output. Cause: converting <bound method LSTMCell.call of <tensorflow.python.ops.rnn_cell_impl.LSTMCell object at 0x7f673d456790>>: AttributeError: module 'gast' has no attribute 'Index'\n",
      "WARNING:tensorflow:From /home/samuel/ns-allinone-3.29/ns-3.29/scratch/RLinWiFi-master-original-queue-level-mean/agents/dqn/model.py:53: dense (from tensorflow.python.layers.core) is deprecated and will be removed in a future version.\n",
      "Instructions for updating:\n",
      "Use keras.layers.dense instead.\n",
      "WARNING:tensorflow:Entity <bound method Dense.call of <tensorflow.python.layers.core.Dense object at 0x7f673d3d2690>> could not be transformed and will be executed as-is. Please report this to the AutgoGraph team. When filing the bug, set the verbosity to 10 (on Linux, `export AUTOGRAPH_VERBOSITY=10`) and attach the full output. Cause: converting <bound method Dense.call of <tensorflow.python.layers.core.Dense object at 0x7f673d3d2690>>: AttributeError: module 'gast' has no attribute 'Index'\n",
      "WARNING: Entity <bound method Dense.call of <tensorflow.python.layers.core.Dense object at 0x7f673d3d2690>> could not be transformed and will be executed as-is. Please report this to the AutgoGraph team. When filing the bug, set the verbosity to 10 (on Linux, `export AUTOGRAPH_VERBOSITY=10`) and attach the full output. Cause: converting <bound method Dense.call of <tensorflow.python.layers.core.Dense object at 0x7f673d3d2690>>: AttributeError: module 'gast' has no attribute 'Index'\n",
      "WARNING:tensorflow:Entity <bound method Dense.call of <tensorflow.python.layers.core.Dense object at 0x7f673d3d2690>> could not be transformed and will be executed as-is. Please report this to the AutgoGraph team. When filing the bug, set the verbosity to 10 (on Linux, `export AUTOGRAPH_VERBOSITY=10`) and attach the full output. Cause: converting <bound method Dense.call of <tensorflow.python.layers.core.Dense object at 0x7f673d3d2690>>: AttributeError: module 'gast' has no attribute 'Index'\n",
      "WARNING: Entity <bound method Dense.call of <tensorflow.python.layers.core.Dense object at 0x7f673d3d2690>> could not be transformed and will be executed as-is. Please report this to the AutgoGraph team. When filing the bug, set the verbosity to 10 (on Linux, `export AUTOGRAPH_VERBOSITY=10`) and attach the full output. Cause: converting <bound method Dense.call of <tensorflow.python.layers.core.Dense object at 0x7f673d3d2690>>: AttributeError: module 'gast' has no attribute 'Index'\n"
     ]
    },
    {
     "name": "stdout",
     "output_type": "stream",
     "text": [
      "WARNING:tensorflow:Entity <bound method Dense.call of <tensorflow.python.layers.core.Dense object at 0x7f673d3d2690>> could not be transformed and will be executed as-is. Please report this to the AutgoGraph team. When filing the bug, set the verbosity to 10 (on Linux, `export AUTOGRAPH_VERBOSITY=10`) and attach the full output. Cause: converting <bound method Dense.call of <tensorflow.python.layers.core.Dense object at 0x7f673d3d2690>>: AttributeError: module 'gast' has no attribute 'Index'\n",
      "WARNING: Entity <bound method Dense.call of <tensorflow.python.layers.core.Dense object at 0x7f673d3d2690>> could not be transformed and will be executed as-is. Please report this to the AutgoGraph team. When filing the bug, set the verbosity to 10 (on Linux, `export AUTOGRAPH_VERBOSITY=10`) and attach the full output. Cause: converting <bound method Dense.call of <tensorflow.python.layers.core.Dense object at 0x7f673d3d2690>>: AttributeError: module 'gast' has no attribute 'Index'\n",
      "WARNING:tensorflow:From /home/samuel/ns-allinone-3.29/ns-3.29/scratch/RLinWiFi-master-original-queue-level-mean/agents/dqn/model.py:69: The name tf.losses.mean_squared_error is deprecated. Please use tf.compat.v1.losses.mean_squared_error instead.\n",
      "\n",
      "WARNING:tensorflow:From /home/samuel/anaconda3/envs/myEnv3_7/lib/python3.7/site-packages/tensorflow/python/ops/losses/losses_impl.py:121: add_dispatch_support.<locals>.wrapper (from tensorflow.python.ops.array_ops) is deprecated and will be removed in a future version.\n",
      "Instructions for updating:\n",
      "Use tf.where in 2.0, which has the same broadcast rule as np.where\n",
      "WARNING:tensorflow:From /home/samuel/ns-allinone-3.29/ns-3.29/scratch/RLinWiFi-master-original-queue-level-mean/agents/dqn/model.py:77: The name tf.train.AdamOptimizer is deprecated. Please use tf.compat.v1.train.AdamOptimizer instead.\n",
      "\n",
      "WARNING:tensorflow:From /home/samuel/ns-allinone-3.29/ns-3.29/scratch/RLinWiFi-master-original-queue-level-mean/agents/dqn/model.py:33: The name tf.global_variables_initializer is deprecated. Please use tf.compat.v1.global_variables_initializer instead.\n",
      "\n",
      "WARNING:tensorflow:From /home/samuel/ns-allinone-3.29/ns-3.29/scratch/RLinWiFi-master-original-queue-level-mean/agents/dqn/model.py:34: The name tf.local_variables_initializer is deprecated. Please use tf.compat.v1.local_variables_initializer instead.\n",
      "\n",
      "WARNING:tensorflow:Entity <bound method LSTMCell.call of <tensorflow.python.ops.rnn_cell_impl.LSTMCell object at 0x7f66c2e5e810>> could not be transformed and will be executed as-is. Please report this to the AutgoGraph team. When filing the bug, set the verbosity to 10 (on Linux, `export AUTOGRAPH_VERBOSITY=10`) and attach the full output. Cause: converting <bound method LSTMCell.call of <tensorflow.python.ops.rnn_cell_impl.LSTMCell object at 0x7f66c2e5e810>>: AttributeError: module 'gast' has no attribute 'Index'\n",
      "WARNING: Entity <bound method LSTMCell.call of <tensorflow.python.ops.rnn_cell_impl.LSTMCell object at 0x7f66c2e5e810>> could not be transformed and will be executed as-is. Please report this to the AutgoGraph team. When filing the bug, set the verbosity to 10 (on Linux, `export AUTOGRAPH_VERBOSITY=10`) and attach the full output. Cause: converting <bound method LSTMCell.call of <tensorflow.python.ops.rnn_cell_impl.LSTMCell object at 0x7f66c2e5e810>>: AttributeError: module 'gast' has no attribute 'Index'\n",
      "WARNING:tensorflow:Entity <bound method LSTMCell.call of <tensorflow.python.ops.rnn_cell_impl.LSTMCell object at 0x7f66c2e5e810>> could not be transformed and will be executed as-is. Please report this to the AutgoGraph team. When filing the bug, set the verbosity to 10 (on Linux, `export AUTOGRAPH_VERBOSITY=10`) and attach the full output. Cause: converting <bound method LSTMCell.call of <tensorflow.python.ops.rnn_cell_impl.LSTMCell object at 0x7f66c2e5e810>>: AttributeError: module 'gast' has no attribute 'Index'\n"
     ]
    },
    {
     "name": "stderr",
     "output_type": "stream",
     "text": [
      "2023-02-13 02:28:59.834297: W tensorflow/compiler/jit/mark_for_compilation_pass.cc:1412] (One-time warning): Not using XLA:CPU for cluster because envvar TF_XLA_FLAGS=--tf_xla_cpu_global_jit was not set.  If you want XLA:CPU, either set that envvar, or use experimental_jit_scope to enable XLA:CPU.  To confirm that XLA is active, pass --vmodule=xla_compilation_cache=1 (as a proper command-line flag, not via TF_XLA_FLAGS) or set the envvar XLA_FLAGS=--xla_hlo_profile.\n"
     ]
    },
    {
     "name": "stdout",
     "output_type": "stream",
     "text": [
      "WARNING: Entity <bound method LSTMCell.call of <tensorflow.python.ops.rnn_cell_impl.LSTMCell object at 0x7f66c2e5e810>> could not be transformed and will be executed as-is. Please report this to the AutgoGraph team. When filing the bug, set the verbosity to 10 (on Linux, `export AUTOGRAPH_VERBOSITY=10`) and attach the full output. Cause: converting <bound method LSTMCell.call of <tensorflow.python.ops.rnn_cell_impl.LSTMCell object at 0x7f66c2e5e810>>: AttributeError: module 'gast' has no attribute 'Index'\n",
      "WARNING:tensorflow:Entity <bound method LSTMCell.call of <tensorflow.python.ops.rnn_cell_impl.LSTMCell object at 0x7f66c2e5e810>> could not be transformed and will be executed as-is. Please report this to the AutgoGraph team. When filing the bug, set the verbosity to 10 (on Linux, `export AUTOGRAPH_VERBOSITY=10`) and attach the full output. Cause: converting <bound method LSTMCell.call of <tensorflow.python.ops.rnn_cell_impl.LSTMCell object at 0x7f66c2e5e810>>: AttributeError: module 'gast' has no attribute 'Index'\n",
      "WARNING: Entity <bound method LSTMCell.call of <tensorflow.python.ops.rnn_cell_impl.LSTMCell object at 0x7f66c2e5e810>> could not be transformed and will be executed as-is. Please report this to the AutgoGraph team. When filing the bug, set the verbosity to 10 (on Linux, `export AUTOGRAPH_VERBOSITY=10`) and attach the full output. Cause: converting <bound method LSTMCell.call of <tensorflow.python.ops.rnn_cell_impl.LSTMCell object at 0x7f66c2e5e810>>: AttributeError: module 'gast' has no attribute 'Index'\n",
      "WARNING:tensorflow:Entity <bound method LSTMCell.call of <tensorflow.python.ops.rnn_cell_impl.LSTMCell object at 0x7f66c2e5e810>> could not be transformed and will be executed as-is. Please report this to the AutgoGraph team. When filing the bug, set the verbosity to 10 (on Linux, `export AUTOGRAPH_VERBOSITY=10`) and attach the full output. Cause: converting <bound method LSTMCell.call of <tensorflow.python.ops.rnn_cell_impl.LSTMCell object at 0x7f66c2e5e810>>: AttributeError: module 'gast' has no attribute 'Index'\n",
      "WARNING: Entity <bound method LSTMCell.call of <tensorflow.python.ops.rnn_cell_impl.LSTMCell object at 0x7f66c2e5e810>> could not be transformed and will be executed as-is. Please report this to the AutgoGraph team. When filing the bug, set the verbosity to 10 (on Linux, `export AUTOGRAPH_VERBOSITY=10`) and attach the full output. Cause: converting <bound method LSTMCell.call of <tensorflow.python.ops.rnn_cell_impl.LSTMCell object at 0x7f66c2e5e810>>: AttributeError: module 'gast' has no attribute 'Index'\n",
      "WARNING:tensorflow:Entity <bound method Dense.call of <tensorflow.python.layers.core.Dense object at 0x7f66c2e5e810>> could not be transformed and will be executed as-is. Please report this to the AutgoGraph team. When filing the bug, set the verbosity to 10 (on Linux, `export AUTOGRAPH_VERBOSITY=10`) and attach the full output. Cause: converting <bound method Dense.call of <tensorflow.python.layers.core.Dense object at 0x7f66c2e5e810>>: AttributeError: module 'gast' has no attribute 'Index'\n",
      "WARNING: Entity <bound method Dense.call of <tensorflow.python.layers.core.Dense object at 0x7f66c2e5e810>> could not be transformed and will be executed as-is. Please report this to the AutgoGraph team. When filing the bug, set the verbosity to 10 (on Linux, `export AUTOGRAPH_VERBOSITY=10`) and attach the full output. Cause: converting <bound method Dense.call of <tensorflow.python.layers.core.Dense object at 0x7f66c2e5e810>>: AttributeError: module 'gast' has no attribute 'Index'\n",
      "WARNING:tensorflow:Entity <bound method Dense.call of <tensorflow.python.layers.core.Dense object at 0x7f66c2e5e810>> could not be transformed and will be executed as-is. Please report this to the AutgoGraph team. When filing the bug, set the verbosity to 10 (on Linux, `export AUTOGRAPH_VERBOSITY=10`) and attach the full output. Cause: converting <bound method Dense.call of <tensorflow.python.layers.core.Dense object at 0x7f66c2e5e810>>: AttributeError: module 'gast' has no attribute 'Index'\n",
      "WARNING: Entity <bound method Dense.call of <tensorflow.python.layers.core.Dense object at 0x7f66c2e5e810>> could not be transformed and will be executed as-is. Please report this to the AutgoGraph team. When filing the bug, set the verbosity to 10 (on Linux, `export AUTOGRAPH_VERBOSITY=10`) and attach the full output. Cause: converting <bound method Dense.call of <tensorflow.python.layers.core.Dense object at 0x7f66c2e5e810>>: AttributeError: module 'gast' has no attribute 'Index'\n",
      "WARNING:tensorflow:Entity <bound method Dense.call of <tensorflow.python.layers.core.Dense object at 0x7f66c2e5e810>> could not be transformed and will be executed as-is. Please report this to the AutgoGraph team. When filing the bug, set the verbosity to 10 (on Linux, `export AUTOGRAPH_VERBOSITY=10`) and attach the full output. Cause: converting <bound method Dense.call of <tensorflow.python.layers.core.Dense object at 0x7f66c2e5e810>>: AttributeError: module 'gast' has no attribute 'Index'\n",
      "WARNING: Entity <bound method Dense.call of <tensorflow.python.layers.core.Dense object at 0x7f66c2e5e810>> could not be transformed and will be executed as-is. Please report this to the AutgoGraph team. When filing the bug, set the verbosity to 10 (on Linux, `export AUTOGRAPH_VERBOSITY=10`) and attach the full output. Cause: converting <bound method Dense.call of <tensorflow.python.layers.core.Dense object at 0x7f66c2e5e810>>: AttributeError: module 'gast' has no attribute 'Index'\n",
      "WARNING:tensorflow:From /home/samuel/ns-allinone-3.29/ns-3.29/scratch/RLinWiFi-master-original-queue-level-mean/agents/dqn/agent.py:77: The name tf.train.Saver is deprecated. Please use tf.compat.v1.train.Saver instead.\n",
      "\n",
      "Action space: 7\n",
      "WARNING:tensorflow:From /home/samuel/ns-allinone-3.29/ns-3.29/scratch/RLinWiFi-master-original-queue-level-mean/agents/dqn/agent.py:107: Variable.load (from tensorflow.python.ops.variables) is deprecated and will be removed in a future version.\n",
      "Instructions for updating:\n",
      "Prefer Variable.assign which has equivalent behavior in 2.X.\n"
     ]
    },
    {
     "name": "stderr",
     "output_type": "stream",
     "text": [
      "COMET INFO: Experiment is live on comet.ml https://www.comet.com/sheila-janota/rl-in-wifi-with-queue-level/96dfe4b8d1724dc097d7f2a7f21e6150\n",
      "\n",
      "  0%|          | 0/6300 [00:00<?, ?it/s]"
     ]
    },
    {
     "name": "stdout",
     "output_type": "stream",
     "text": [
      "0\n"
     ]
    },
    {
     "name": "stderr",
     "output_type": "stream",
     "text": [
      "  5%|▌         | 333/6300 [03:05<51:49,  1.92it/s, curr_speed=32.08 Mbps, mb_sent=10.26 Mb] "
     ]
    },
    {
     "name": "stdout",
     "output_type": "stream",
     "text": [
      "------- STARTED TRAINING -------\n"
     ]
    },
    {
     "name": "stderr",
     "output_type": "stream",
     "text": [
      "100%|██████████| 6300/6300 [1:02:10<00:00,  1.69it/s, curr_speed=41.36 Mbps, mb_sent=1924.72 Mb]\n"
     ]
    },
    {
     "name": "stdout",
     "output_type": "stream",
     "text": [
      "Waiting for simulation script to connect on port: tcp://localhost:53539\n",
      "Please start proper ns-3 simulation script using ./waf --run \"...\"\n",
      "Waf: Entering directory `/home/samuel/ns-allinone-3.29/ns-3.29/build'\n",
      "Waf: Leaving directory `/home/samuel/ns-allinone-3.29/ns-3.29/build'\n",
      "Build commands will be stored in build/compile_commands.json\n",
      "'build' finished successfully (3.486s)\n"
     ]
    },
    {
     "name": "stderr",
     "output_type": "stream",
     "text": [
      "Ns3Env parameters:\n",
      "--nWifi: 15\n",
      "--simulationTime: 60\n",
      "--openGymPort: 53539\n",
      "--envStepTime: 0.01\n",
      "--seed: 42\n",
      "--agentType: discrete\n",
      "--scenario: basic\n",
      "--dryRun: 0\n",
      "Simulation started\n",
      "Simulation process id: 498914 (parent (waf shell) id: 498874)\n",
      "Waiting for Python process to connect on port: tcp://localhost:53539\n",
      "Please start proper Python Gym Agent\n",
      "  0%|          | 0/6300 [00:00<?, ?it/s]"
     ]
    },
    {
     "name": "stdout",
     "output_type": "stream",
     "text": [
      "Sent 1924.72 Mb/s.\tMean speed: 32.08 Mb/s\tEpisode 1/15 finished\n",
      "\n",
      "1\n"
     ]
    },
    {
     "name": "stderr",
     "output_type": "stream",
     "text": [
      "100%|██████████| 6300/6300 [1:02:15<00:00,  1.69it/s, curr_speed=34.44 Mbps, mb_sent=2053.01 Mb]\n"
     ]
    },
    {
     "name": "stdout",
     "output_type": "stream",
     "text": [
      "Waiting for simulation script to connect on port: tcp://localhost:45770\n",
      "Please start proper ns-3 simulation script using ./waf --run \"...\"\n",
      "Waf: Entering directory `/home/samuel/ns-allinone-3.29/ns-3.29/build'\n",
      "Waf: Leaving directory `/home/samuel/ns-allinone-3.29/ns-3.29/build'\n",
      "Build commands will be stored in build/compile_commands.json\n",
      "'build' finished successfully (3.516s)\n"
     ]
    },
    {
     "name": "stderr",
     "output_type": "stream",
     "text": [
      "Ns3Env parameters:\n",
      "--nWifi: 15\n",
      "--simulationTime: 60\n",
      "--openGymPort: 45770\n",
      "--envStepTime: 0.01\n",
      "--seed: 42\n",
      "--agentType: discrete\n",
      "--scenario: basic\n",
      "--dryRun: 0\n",
      "Simulation started\n",
      "Simulation process id: 529595 (parent (waf shell) id: 529556)\n",
      "Waiting for Python process to connect on port: tcp://localhost:45770\n",
      "Please start proper Python Gym Agent\n",
      "  0%|          | 0/6300 [00:00<?, ?it/s]"
     ]
    },
    {
     "name": "stdout",
     "output_type": "stream",
     "text": [
      "Sent 2053.01 Mb/s.\tMean speed: 34.22 Mb/s\tEpisode 2/15 finished\n",
      "\n",
      "2\n"
     ]
    },
    {
     "name": "stderr",
     "output_type": "stream",
     "text": [
      "100%|██████████| 6300/6300 [1:03:49<00:00,  1.65it/s, curr_speed=36.76 Mbps, mb_sent=2142.03 Mb]\n"
     ]
    },
    {
     "name": "stdout",
     "output_type": "stream",
     "text": [
      "Waiting for simulation script to connect on port: tcp://localhost:27460\n",
      "Please start proper ns-3 simulation script using ./waf --run \"...\"\n",
      "Waf: Entering directory `/home/samuel/ns-allinone-3.29/ns-3.29/build'\n",
      "Waf: Leaving directory `/home/samuel/ns-allinone-3.29/ns-3.29/build'\n",
      "Build commands will be stored in build/compile_commands.json\n",
      "'build' finished successfully (3.834s)\n"
     ]
    },
    {
     "name": "stderr",
     "output_type": "stream",
     "text": [
      "Ns3Env parameters:\n",
      "--nWifi: 15\n",
      "--simulationTime: 60\n",
      "--openGymPort: 27460\n",
      "--envStepTime: 0.01\n",
      "--seed: 42\n",
      "--agentType: discrete\n",
      "--scenario: basic\n",
      "--dryRun: 0\n",
      "Simulation started\n",
      "Simulation process id: 561783 (parent (waf shell) id: 561742)\n",
      "Waiting for Python process to connect on port: tcp://localhost:27460\n",
      "Please start proper Python Gym Agent\n",
      "  0%|          | 0/6300 [00:00<?, ?it/s]"
     ]
    },
    {
     "name": "stdout",
     "output_type": "stream",
     "text": [
      "Sent 2142.03 Mb/s.\tMean speed: 35.70 Mb/s\tEpisode 3/15 finished\n",
      "\n",
      "3\n"
     ]
    },
    {
     "name": "stderr",
     "output_type": "stream",
     "text": [
      "  5%|▍         | 304/6300 [02:45<56:28,  1.77it/s, curr_speed=38.35 Mbps, mb_sent=1.15 Mb] "
     ]
    },
    {
     "name": "stdout",
     "output_type": "stream",
     "text": [
      "------- MEMORY BUFFER FILLED -------\n"
     ]
    },
    {
     "name": "stderr",
     "output_type": "stream",
     "text": [
      "100%|██████████| 6300/6300 [1:04:06<00:00,  1.64it/s, curr_speed=35.83 Mbps, mb_sent=2192.37 Mb]\n"
     ]
    },
    {
     "name": "stdout",
     "output_type": "stream",
     "text": [
      "Waiting for simulation script to connect on port: tcp://localhost:46209\n",
      "Please start proper ns-3 simulation script using ./waf --run \"...\"\n",
      "Waf: Entering directory `/home/samuel/ns-allinone-3.29/ns-3.29/build'\n",
      "Waf: Leaving directory `/home/samuel/ns-allinone-3.29/ns-3.29/build'\n",
      "Build commands will be stored in build/compile_commands.json\n",
      "'build' finished successfully (3.799s)\n"
     ]
    },
    {
     "name": "stderr",
     "output_type": "stream",
     "text": [
      "Ns3Env parameters:\n",
      "--nWifi: 15\n",
      "--simulationTime: 60\n",
      "--openGymPort: 46209\n",
      "--envStepTime: 0.01\n",
      "--seed: 42\n",
      "--agentType: discrete\n",
      "--scenario: basic\n",
      "--dryRun: 0\n",
      "Simulation started\n",
      "Simulation process id: 592687 (parent (waf shell) id: 592641)\n",
      "Waiting for Python process to connect on port: tcp://localhost:46209\n",
      "Please start proper Python Gym Agent\n",
      "  0%|          | 0/6300 [00:00<?, ?it/s]"
     ]
    },
    {
     "name": "stdout",
     "output_type": "stream",
     "text": [
      "Sent 2192.37 Mb/s.\tMean speed: 36.54 Mb/s\tEpisode 4/15 finished\n",
      "\n",
      "4\n"
     ]
    },
    {
     "name": "stderr",
     "output_type": "stream",
     "text": [
      "100%|██████████| 6300/6300 [1:00:03<00:00,  1.75it/s, curr_speed=35.15 Mbps, mb_sent=2210.42 Mb]\n"
     ]
    },
    {
     "name": "stdout",
     "output_type": "stream",
     "text": [
      "Waiting for simulation script to connect on port: tcp://localhost:44205\n",
      "Please start proper ns-3 simulation script using ./waf --run \"...\"\n",
      "Waf: Entering directory `/home/samuel/ns-allinone-3.29/ns-3.29/build'\n",
      "Waf: Leaving directory `/home/samuel/ns-allinone-3.29/ns-3.29/build'\n",
      "Build commands will be stored in build/compile_commands.json\n",
      "'build' finished successfully (3.626s)\n"
     ]
    },
    {
     "name": "stderr",
     "output_type": "stream",
     "text": [
      "Ns3Env parameters:\n",
      "--nWifi: 15\n",
      "--simulationTime: 60\n",
      "--openGymPort: 44205\n",
      "--envStepTime: 0.01\n",
      "--seed: 42\n",
      "--agentType: discrete\n",
      "--scenario: basic\n",
      "--dryRun: 0\n",
      "Simulation started\n",
      "Simulation process id: 615343 (parent (waf shell) id: 615313)\n",
      "Waiting for Python process to connect on port: tcp://localhost:44205\n",
      "Please start proper Python Gym Agent\n",
      "  0%|          | 0/6300 [00:00<?, ?it/s]"
     ]
    },
    {
     "name": "stdout",
     "output_type": "stream",
     "text": [
      "Sent 2210.42 Mb/s.\tMean speed: 36.84 Mb/s\tEpisode 5/15 finished\n",
      "\n",
      "5\n"
     ]
    },
    {
     "name": "stderr",
     "output_type": "stream",
     "text": [
      "100%|██████████| 6300/6300 [1:03:18<00:00,  1.66it/s, curr_speed=34.50 Mbps, mb_sent=2236.31 Mb]\n"
     ]
    },
    {
     "name": "stdout",
     "output_type": "stream",
     "text": [
      "Waiting for simulation script to connect on port: tcp://localhost:21643\n",
      "Please start proper ns-3 simulation script using ./waf --run \"...\"\n",
      "Waf: Entering directory `/home/samuel/ns-allinone-3.29/ns-3.29/build'\n",
      "Waf: Leaving directory `/home/samuel/ns-allinone-3.29/ns-3.29/build'\n",
      "Build commands will be stored in build/compile_commands.json\n",
      "'build' finished successfully (3.824s)\n"
     ]
    },
    {
     "name": "stderr",
     "output_type": "stream",
     "text": [
      "Ns3Env parameters:\n",
      "--nWifi: 15\n",
      "--simulationTime: 60\n",
      "--openGymPort: 21643\n",
      "--envStepTime: 0.01\n",
      "--seed: 42\n",
      "--agentType: discrete\n",
      "--scenario: basic\n",
      "--dryRun: 0\n",
      "Simulation started\n",
      "Simulation process id: 642179 (parent (waf shell) id: 642135)\n",
      "Waiting for Python process to connect on port: tcp://localhost:21643\n",
      "Please start proper Python Gym Agent\n",
      "  0%|          | 0/6300 [00:00<?, ?it/s]"
     ]
    },
    {
     "name": "stdout",
     "output_type": "stream",
     "text": [
      "Sent 2236.31 Mb/s.\tMean speed: 37.27 Mb/s\tEpisode 6/15 finished\n",
      "\n",
      "6\n"
     ]
    },
    {
     "name": "stderr",
     "output_type": "stream",
     "text": [
      "100%|██████████| 6300/6300 [1:05:46<00:00,  1.60it/s, curr_speed=31.43 Mbps, mb_sent=2234.29 Mb]\n"
     ]
    },
    {
     "name": "stdout",
     "output_type": "stream",
     "text": [
      "Waiting for simulation script to connect on port: tcp://localhost:32354\n",
      "Please start proper ns-3 simulation script using ./waf --run \"...\"\n",
      "Waf: Entering directory `/home/samuel/ns-allinone-3.29/ns-3.29/build'\n",
      "Waf: Leaving directory `/home/samuel/ns-allinone-3.29/ns-3.29/build'\n",
      "Build commands will be stored in build/compile_commands.json\n",
      "'build' finished successfully (3.781s)\n"
     ]
    },
    {
     "name": "stderr",
     "output_type": "stream",
     "text": [
      "Ns3Env parameters:\n",
      "--nWifi: 15\n",
      "--simulationTime: 60\n",
      "--openGymPort: 32354\n",
      "--envStepTime: 0.01\n",
      "--seed: 42\n",
      "--agentType: discrete\n",
      "--scenario: basic\n",
      "--dryRun: 0\n",
      "Simulation started\n",
      "Simulation process id: 674035 (parent (waf shell) id: 673992)\n",
      "Waiting for Python process to connect on port: tcp://localhost:32354\n",
      "Please start proper Python Gym Agent\n",
      "  0%|          | 0/6300 [00:00<?, ?it/s]"
     ]
    },
    {
     "name": "stdout",
     "output_type": "stream",
     "text": [
      "Sent 2234.29 Mb/s.\tMean speed: 37.24 Mb/s\tEpisode 7/15 finished\n",
      "\n",
      "7\n"
     ]
    },
    {
     "name": "stderr",
     "output_type": "stream",
     "text": [
      "100%|██████████| 6300/6300 [1:04:55<00:00,  1.62it/s, curr_speed=37.59 Mbps, mb_sent=2252.80 Mb]\n"
     ]
    },
    {
     "name": "stdout",
     "output_type": "stream",
     "text": [
      "Waiting for simulation script to connect on port: tcp://localhost:23350\n",
      "Please start proper ns-3 simulation script using ./waf --run \"...\"\n",
      "Waf: Entering directory `/home/samuel/ns-allinone-3.29/ns-3.29/build'\n",
      "Waf: Leaving directory `/home/samuel/ns-allinone-3.29/ns-3.29/build'\n",
      "Build commands will be stored in build/compile_commands.json\n",
      "'build' finished successfully (4.020s)\n"
     ]
    },
    {
     "name": "stderr",
     "output_type": "stream",
     "text": [
      "Ns3Env parameters:\n",
      "--nWifi: 15\n",
      "--simulationTime: 60\n",
      "--openGymPort: 23350\n",
      "--envStepTime: 0.01\n",
      "--seed: 42\n",
      "--agentType: discrete\n",
      "--scenario: basic\n",
      "--dryRun: 0\n",
      "Simulation started\n",
      "Simulation process id: 704949 (parent (waf shell) id: 704907)\n",
      "Waiting for Python process to connect on port: tcp://localhost:23350\n",
      "Please start proper Python Gym Agent\n",
      "  0%|          | 0/6300 [00:00<?, ?it/s]"
     ]
    },
    {
     "name": "stdout",
     "output_type": "stream",
     "text": [
      "Sent 2252.80 Mb/s.\tMean speed: 37.55 Mb/s\tEpisode 8/15 finished\n",
      "\n",
      "8\n"
     ]
    },
    {
     "name": "stderr",
     "output_type": "stream",
     "text": [
      "100%|██████████| 6300/6300 [1:05:39<00:00,  1.60it/s, curr_speed=37.82 Mbps, mb_sent=2257.14 Mb]\n"
     ]
    },
    {
     "name": "stdout",
     "output_type": "stream",
     "text": [
      "Waiting for simulation script to connect on port: tcp://localhost:46078\n",
      "Please start proper ns-3 simulation script using ./waf --run \"...\"\n",
      "Waf: Entering directory `/home/samuel/ns-allinone-3.29/ns-3.29/build'\n",
      "Waf: Leaving directory `/home/samuel/ns-allinone-3.29/ns-3.29/build'\n",
      "Build commands will be stored in build/compile_commands.json\n",
      "'build' finished successfully (3.758s)\n"
     ]
    },
    {
     "name": "stderr",
     "output_type": "stream",
     "text": [
      "Ns3Env parameters:\n",
      "--nWifi: 15\n",
      "--simulationTime: 60\n",
      "--openGymPort: 46078\n",
      "--envStepTime: 0.01\n",
      "--seed: 42\n",
      "--agentType: discrete\n",
      "--scenario: basic\n",
      "--dryRun: 0\n",
      "Simulation started\n",
      "Simulation process id: 736203 (parent (waf shell) id: 736161)\n",
      "Waiting for Python process to connect on port: tcp://localhost:46078\n",
      "Please start proper Python Gym Agent\n",
      "  0%|          | 0/6300 [00:00<?, ?it/s]"
     ]
    },
    {
     "name": "stdout",
     "output_type": "stream",
     "text": [
      "Sent 2257.14 Mb/s.\tMean speed: 37.62 Mb/s\tEpisode 9/15 finished\n",
      "\n",
      "9\n"
     ]
    },
    {
     "name": "stderr",
     "output_type": "stream",
     "text": [
      " 75%|███████▌  | 4751/6300 [49:33<16:44,  1.54it/s, curr_speed=37.93 Mbps, mb_sent=1674.24 Mb] COMET ERROR: File could not be uploaded\n",
      " 75%|███████▌  | 4752/6300 [49:34<17:17,  1.49it/s, curr_speed=37.90 Mbps, mb_sent=1674.60 Mb]COMET ERROR: File could not be uploaded\n",
      " 76%|███████▌  | 4796/6300 [50:04<17:33,  1.43it/s, curr_speed=38.02 Mbps, mb_sent=1691.40 Mb]COMET ERROR: File could not be uploaded\n",
      " 77%|███████▋  | 4850/6300 [50:38<15:34,  1.55it/s, curr_speed=37.71 Mbps, mb_sent=1711.58 Mb]COMET ERROR: File could not be uploaded\n",
      " 77%|███████▋  | 4882/6300 [50:59<15:49,  1.49it/s, curr_speed=37.52 Mbps, mb_sent=1723.72 Mb]COMET ERROR: File could not be uploaded\n",
      " 78%|███████▊  | 4910/6300 [51:19<15:54,  1.46it/s, curr_speed=37.42 Mbps, mb_sent=1734.55 Mb]COMET ERROR: File could not be uploaded\n",
      "100%|██████████| 6300/6300 [1:06:00<00:00,  1.59it/s, curr_speed=48.75 Mbps, mb_sent=2258.16 Mb]\n"
     ]
    },
    {
     "name": "stdout",
     "output_type": "stream",
     "text": [
      "Waiting for simulation script to connect on port: tcp://localhost:18871\n",
      "Please start proper ns-3 simulation script using ./waf --run \"...\"\n",
      "Waf: Entering directory `/home/samuel/ns-allinone-3.29/ns-3.29/build'\n",
      "Waf: Leaving directory `/home/samuel/ns-allinone-3.29/ns-3.29/build'\n",
      "Build commands will be stored in build/compile_commands.json\n",
      "'build' finished successfully (3.931s)\n"
     ]
    },
    {
     "name": "stderr",
     "output_type": "stream",
     "text": [
      "Ns3Env parameters:\n",
      "--nWifi: 15\n",
      "--simulationTime: 60\n",
      "--openGymPort: 18871\n",
      "--envStepTime: 0.01\n",
      "--seed: 42\n",
      "--agentType: discrete\n",
      "--scenario: basic\n",
      "--dryRun: 0\n",
      "Simulation started\n",
      "Simulation process id: 767635 (parent (waf shell) id: 767593)\n",
      "Waiting for Python process to connect on port: tcp://localhost:18871\n",
      "Please start proper Python Gym Agent\n",
      "  0%|          | 0/6300 [00:00<?, ?it/s]"
     ]
    },
    {
     "name": "stdout",
     "output_type": "stream",
     "text": [
      "Sent 2258.16 Mb/s.\tMean speed: 37.64 Mb/s\tEpisode 10/15 finished\n",
      "\n",
      "10\n"
     ]
    },
    {
     "name": "stderr",
     "output_type": "stream",
     "text": [
      " 60%|██████    | 3802/6300 [38:57<25:16,  1.65it/s, curr_speed=37.61 Mbps, mb_sent=1318.18 Mb] COMET ERROR: File could not be uploaded\n",
      "COMET ERROR: File could not be uploaded\n",
      "COMET ERROR: File could not be uploaded\n",
      "COMET ERROR: File could not be uploaded\n",
      "COMET ERROR: File could not be uploaded\n",
      "COMET ERROR: File could not be uploaded\n",
      "COMET ERROR: File could not be uploaded\n",
      " 63%|██████▎   | 4000/6300 [41:01<22:10,  1.73it/s, curr_speed=37.63 Mbps, mb_sent=1392.26 Mb]COMET ERROR: File could not be uploaded\n",
      "COMET ERROR: File could not be uploaded\n",
      "100%|██████████| 6300/6300 [1:05:05<00:00,  1.61it/s, curr_speed=37.84 Mbps, mb_sent=2258.28 Mb]\n"
     ]
    },
    {
     "name": "stdout",
     "output_type": "stream",
     "text": [
      "Waiting for simulation script to connect on port: tcp://localhost:19182\n",
      "Please start proper ns-3 simulation script using ./waf --run \"...\"\n",
      "Waf: Entering directory `/home/samuel/ns-allinone-3.29/ns-3.29/build'\n",
      "Waf: Leaving directory `/home/samuel/ns-allinone-3.29/ns-3.29/build'\n",
      "Build commands will be stored in build/compile_commands.json\n",
      "'build' finished successfully (3.968s)\n"
     ]
    },
    {
     "name": "stderr",
     "output_type": "stream",
     "text": [
      "Ns3Env parameters:\n",
      "--nWifi: 15\n",
      "--simulationTime: 60\n",
      "--openGymPort: 19182\n",
      "--envStepTime: 0.01\n",
      "--seed: 42\n",
      "--agentType: discrete\n",
      "--scenario: basic\n",
      "--dryRun: 0\n",
      "Simulation started\n",
      "Simulation process id: 799234 (parent (waf shell) id: 799193)\n",
      "Waiting for Python process to connect on port: tcp://localhost:19182\n",
      "Please start proper Python Gym Agent\n",
      "  0%|          | 0/6300 [00:00<?, ?it/s]"
     ]
    },
    {
     "name": "stdout",
     "output_type": "stream",
     "text": [
      "Sent 2258.28 Mb/s.\tMean speed: 37.64 Mb/s\tEpisode 11/15 finished\n",
      "\n",
      "11\n"
     ]
    },
    {
     "name": "stderr",
     "output_type": "stream",
     "text": [
      "100%|██████████| 6300/6300 [1:05:13<00:00,  1.61it/s, curr_speed=35.18 Mbps, mb_sent=2252.62 Mb]\n"
     ]
    },
    {
     "name": "stdout",
     "output_type": "stream",
     "text": [
      "Waiting for simulation script to connect on port: tcp://localhost:26222\n",
      "Please start proper ns-3 simulation script using ./waf --run \"...\"\n",
      "Waf: Entering directory `/home/samuel/ns-allinone-3.29/ns-3.29/build'\n",
      "Waf: Leaving directory `/home/samuel/ns-allinone-3.29/ns-3.29/build'\n",
      "Build commands will be stored in build/compile_commands.json\n",
      "'build' finished successfully (3.994s)\n"
     ]
    },
    {
     "name": "stderr",
     "output_type": "stream",
     "text": [
      "Ns3Env parameters:\n",
      "--nWifi: 15\n",
      "--simulationTime: 60\n",
      "--openGymPort: 26222\n",
      "--envStepTime: 0.01\n",
      "--seed: 42\n",
      "--agentType: discrete\n",
      "--scenario: basic\n",
      "--dryRun: 0\n",
      "Simulation started\n"
     ]
    },
    {
     "name": "stdout",
     "output_type": "stream",
     "text": [
      "WARNING:tensorflow:From /home/samuel/anaconda3/envs/myEnv3_7/lib/python3.7/site-packages/tensorflow/python/training/saver.py:960: remove_checkpoint (from tensorflow.python.training.checkpoint_management) is deprecated and will be removed in a future version.\n",
      "Instructions for updating:\n",
      "Use standard file APIs to delete files with this prefix.\n"
     ]
    },
    {
     "name": "stderr",
     "output_type": "stream",
     "text": [
      "Simulation process id: 830200 (parent (waf shell) id: 830170)\n",
      "Waiting for Python process to connect on port: tcp://localhost:26222\n",
      "Please start proper Python Gym Agent\n",
      "  0%|          | 0/6300 [00:00<?, ?it/s]"
     ]
    },
    {
     "name": "stdout",
     "output_type": "stream",
     "text": [
      "Sent 2252.62 Mb/s.\tMean speed: 37.54 Mb/s\tEpisode 12/15 finished\n",
      "\n",
      "12\n",
      "Turning off noise\n"
     ]
    },
    {
     "name": "stderr",
     "output_type": "stream",
     "text": [
      "100%|██████████| 6300/6300 [1:04:48<00:00,  1.62it/s, curr_speed=47.38 Mbps, mb_sent=2262.41 Mb]\n"
     ]
    },
    {
     "name": "stdout",
     "output_type": "stream",
     "text": [
      "Waiting for simulation script to connect on port: tcp://localhost:27295\n",
      "Please start proper ns-3 simulation script using ./waf --run \"...\"\n",
      "Waf: Entering directory `/home/samuel/ns-allinone-3.29/ns-3.29/build'\n",
      "Waf: Leaving directory `/home/samuel/ns-allinone-3.29/ns-3.29/build'\n",
      "Build commands will be stored in build/compile_commands.json\n",
      "'build' finished successfully (3.555s)\n"
     ]
    },
    {
     "name": "stderr",
     "output_type": "stream",
     "text": [
      "Ns3Env parameters:\n",
      "--nWifi: 15\n",
      "--simulationTime: 60\n",
      "--openGymPort: 27295\n",
      "--envStepTime: 0.01\n",
      "--seed: 42\n",
      "--agentType: discrete\n",
      "--scenario: basic\n",
      "--dryRun: 0\n",
      "Simulation started\n",
      "Simulation process id: 860964 (parent (waf shell) id: 860936)\n",
      "Waiting for Python process to connect on port: tcp://localhost:27295\n",
      "Please start proper Python Gym Agent\n",
      "  0%|          | 0/6300 [00:00<?, ?it/s]"
     ]
    },
    {
     "name": "stdout",
     "output_type": "stream",
     "text": [
      "Sent 2262.41 Mb/s.\tMean speed: 37.71 Mb/s\tEpisode 13/15 finished\n",
      "\n",
      "13\n",
      "Turning off noise\n"
     ]
    },
    {
     "name": "stderr",
     "output_type": "stream",
     "text": [
      "100%|██████████| 6300/6300 [57:54<00:00,  1.81it/s, curr_speed=34.55 Mbps, mb_sent=2255.04 Mb] \n"
     ]
    },
    {
     "name": "stdout",
     "output_type": "stream",
     "text": [
      "Waiting for simulation script to connect on port: tcp://localhost:48066\n",
      "Please start proper ns-3 simulation script using ./waf --run \"...\"\n",
      "Waf: Entering directory `/home/samuel/ns-allinone-3.29/ns-3.29/build'\n",
      "Waf: Leaving directory `/home/samuel/ns-allinone-3.29/ns-3.29/build'\n",
      "Build commands will be stored in build/compile_commands.json\n",
      "'build' finished successfully (3.309s)\n"
     ]
    },
    {
     "name": "stderr",
     "output_type": "stream",
     "text": [
      "Ns3Env parameters:\n",
      "--nWifi: 15\n",
      "--simulationTime: 60\n",
      "--openGymPort: 48066\n",
      "--envStepTime: 0.01\n",
      "--seed: 42\n",
      "--agentType: discrete\n",
      "--scenario: basic\n",
      "--dryRun: 0\n",
      "Simulation started\n",
      "Simulation process id: 879688 (parent (waf shell) id: 879661)\n",
      "Waiting for Python process to connect on port: tcp://localhost:48066\n",
      "Please start proper Python Gym Agent\n",
      "  0%|          | 0/6300 [00:00<?, ?it/s]"
     ]
    },
    {
     "name": "stdout",
     "output_type": "stream",
     "text": [
      "Sent 2255.04 Mb/s.\tMean speed: 37.58 Mb/s\tEpisode 14/15 finished\n",
      "\n",
      "14\n",
      "Turning off noise\n"
     ]
    },
    {
     "name": "stderr",
     "output_type": "stream",
     "text": [
      "100%|██████████| 6300/6300 [1:03:23<00:00,  1.66it/s, curr_speed=37.66 Mbps, mb_sent=2267.66 Mb]\n"
     ]
    },
    {
     "name": "stdout",
     "output_type": "stream",
     "text": [
      "Waiting for simulation script to connect on port: tcp://localhost:50153\n",
      "Please start proper ns-3 simulation script using ./waf --run \"...\"\n",
      "Waf: Entering directory `/home/samuel/ns-allinone-3.29/ns-3.29/build'\n",
      "Waf: Leaving directory `/home/samuel/ns-allinone-3.29/ns-3.29/build'\n",
      "Build commands will be stored in build/compile_commands.json\n",
      "'build' finished successfully (3.865s)\n"
     ]
    },
    {
     "name": "stderr",
     "output_type": "stream",
     "text": [
      "Ns3Env parameters:\n",
      "--nWifi: 15\n",
      "--simulationTime: 60\n",
      "--openGymPort: 50153\n",
      "--envStepTime: 0.01\n",
      "--seed: 42\n",
      "--agentType: discrete\n",
      "--scenario: basic\n",
      "--dryRun: 0\n",
      "Simulation started\n",
      "Simulation process id: 909440 (parent (waf shell) id: 909393)\n",
      "Waiting for Python process to connect on port: tcp://localhost:50153\n",
      "Please start proper Python Gym Agent\n",
      "COMET INFO: ----------------------------\n",
      "COMET INFO: Comet.ml Experiment Summary:\n",
      "COMET INFO:   Data:\n",
      "COMET INFO:     url: https://www.comet.com/sheila-janota/rl-in-wifi-with-queue-level/96dfe4b8d1724dc097d7f2a7f21e6150\n",
      "COMET INFO:   Metrics [count] (min, max):\n",
      "COMET INFO:     Chosen CW [89985]           : (16.0, 1024.0)\n",
      "COMET INFO:     Cumulative reward [15]      : (2403.75146484375, 3174.3232421875)\n",
      "COMET INFO:     Current throughput [89985]  : (19.300783157348633, 69.25048828125)\n",
      "COMET INFO:     Fairness index [89985]      : (nan, nan)\n",
      "COMET INFO:     Megabytes sent [89985]      : (0.2122189998626709, 2267.6630370020866)\n",
      "COMET INFO:     Observation 0 [89985]       : (0.9331395812829336, 0.9343750000000001)\n",
      "COMET INFO:     Observation 1 [89985]       : (0.023856893573034086, 0.027542179007745658)\n",
      "COMET INFO:     Per-ep reward [89985]       : (124.248779296875, 3174.3232421875)\n",
      "COMET INFO:     Round megabytes sent [89985]: (0.022338999435305595, 20.015625)\n",
      "COMET INFO:     Round reward [89985]        : (0.02978515625, 0.610595703125)\n",
      "COMET INFO:     Speed [15]                  : (32.07861366641397, 37.79438395003478)\n",
      "COMET INFO:     Station count [89985]       : (15.0, 15.0)\n",
      "COMET INFO:     loss [89985]                : (0.0, 0.21282659471035004)\n",
      "COMET INFO:   Uploads:\n",
      "COMET INFO:     histogram3d: 89985\n",
      "COMET INFO: ----------------------------\n"
     ]
    },
    {
     "name": "stdout",
     "output_type": "stream",
     "text": [
      "Sent 2267.66 Mb/s.\tMean speed: 37.79 Mb/s\tEpisode 15/15 finished\n",
      "\n"
     ]
    },
    {
     "name": "stderr",
     "output_type": "stream",
     "text": [
      "COMET INFO: Uploading stats to Comet before program termination (may take several seconds)\n",
      "COMET INFO: Waiting for completion of the file uploads (may take several seconds)\n",
      "COMET INFO: Still uploading\n",
      "COMET INFO: Still uploading\n",
      "COMET INFO: Still uploading\n",
      "COMET INFO: Still uploading\n",
      "COMET INFO: Still uploading\n",
      "COMET INFO: Still uploading\n",
      "COMET INFO: Still uploading\n",
      "COMET INFO: Still uploading\n",
      "COMET INFO: Still uploading\n",
      "COMET INFO: Still uploading\n",
      "COMET INFO: Still uploading\n",
      "COMET INFO: Still uploading\n",
      "COMET INFO: Still uploading\n",
      "COMET INFO: Still uploading\n",
      "COMET INFO: Still uploading\n",
      "COMET INFO: Still uploading\n",
      "COMET INFO: Still uploading\n",
      "COMET INFO: Still uploading\n",
      "COMET INFO: Still uploading\n",
      "COMET INFO: Still uploading\n",
      "COMET INFO: Still uploading\n",
      "COMET INFO: Still uploading\n",
      "COMET INFO: Still uploading\n",
      "COMET INFO: Still uploading\n",
      "COMET INFO: Still uploading\n",
      "COMET INFO: Still uploading\n",
      "COMET INFO: Still uploading\n",
      "COMET INFO: Still uploading\n",
      "COMET INFO: Still uploading\n",
      "COMET INFO: Still uploading\n",
      "COMET INFO: Still uploading\n",
      "COMET INFO: Still uploading\n",
      "COMET INFO: Still uploading\n",
      "COMET INFO: Still uploading\n",
      "COMET INFO: Still uploading\n",
      "COMET INFO: Still uploading\n",
      "COMET INFO: Still uploading\n",
      "COMET INFO: Still uploading\n",
      "COMET INFO: Still uploading\n",
      "COMET INFO: Still uploading\n",
      "COMET INFO: Still uploading\n",
      "COMET INFO: Still uploading\n",
      "COMET INFO: Still uploading\n",
      "COMET INFO: Still uploading\n",
      "COMET INFO: Still uploading\n",
      "COMET INFO: Still uploading\n",
      "COMET INFO: Still uploading\n",
      "COMET INFO: Still uploading\n",
      "COMET INFO: Still uploading\n",
      "COMET INFO: Still uploading\n",
      "COMET INFO: Still uploading\n",
      "COMET INFO: Still uploading\n",
      "COMET INFO: Still uploading\n",
      "COMET INFO: Still uploading\n",
      "COMET INFO: Still uploading\n",
      "COMET INFO: Still uploading\n",
      "COMET INFO: Still uploading\n",
      "COMET INFO: Still uploading\n",
      "COMET INFO: Still uploading\n",
      "COMET INFO: Still uploading\n",
      "COMET INFO: Still uploading\n",
      "COMET INFO: Still uploading\n",
      "COMET INFO: Still uploading\n",
      "COMET INFO: Still uploading\n",
      "COMET INFO: Still uploading\n",
      "COMET INFO: Still uploading\n",
      "COMET INFO: Still uploading\n",
      "COMET INFO: Still uploading\n",
      "COMET INFO: Still uploading\n",
      "COMET INFO: Still uploading\n",
      "COMET INFO: Still uploading\n",
      "COMET INFO: Still uploading\n",
      "COMET INFO: Still uploading\n",
      "COMET INFO: Still uploading\n",
      "COMET INFO: Still uploading\n",
      "COMET INFO: Still uploading\n",
      "COMET INFO: Still uploading\n",
      "COMET INFO: Still uploading\n",
      "COMET INFO: Still uploading\n",
      "COMET INFO: Still uploading\n",
      "COMET INFO: Still uploading\n",
      "COMET INFO: Still uploading\n",
      "COMET INFO: Still uploading\n",
      "COMET INFO: Still uploading\n",
      "COMET INFO: Still uploading\n",
      "COMET INFO: Still uploading\n",
      "COMET INFO: Still uploading\n",
      "COMET INFO: Still uploading\n",
      "COMET INFO: Still uploading\n",
      "COMET INFO: Still uploading\n",
      "COMET INFO: Still uploading\n",
      "COMET INFO: Still uploading\n",
      "COMET INFO: Still uploading\n",
      "COMET INFO: Still uploading\n",
      "COMET INFO: Still uploading\n",
      "COMET INFO: Still uploading\n",
      "COMET INFO: Still uploading\n",
      "COMET INFO: Still uploading\n",
      "COMET INFO: Still uploading\n",
      "COMET INFO: Still uploading\n",
      "COMET INFO: Still uploading\n",
      "COMET INFO: Still uploading\n",
      "COMET INFO: Still uploading\n",
      "COMET INFO: Still uploading\n",
      "COMET INFO: Still uploading\n",
      "COMET INFO: Still uploading\n",
      "COMET INFO: Still uploading\n",
      "COMET INFO: Still uploading\n",
      "COMET INFO: Still uploading\n",
      "COMET INFO: Still uploading\n",
      "COMET INFO: Still uploading\n",
      "COMET INFO: Still uploading\n",
      "COMET INFO: Still uploading\n",
      "COMET INFO: Still uploading\n",
      "COMET INFO: Still uploading\n",
      "COMET INFO: Still uploading\n",
      "COMET INFO: Still uploading\n",
      "COMET INFO: Still uploading\n",
      "COMET ERROR: Comet failed to send all the data back (0 messages and 1 uploads)\n",
      "COMET WARNING: Failed to log run in comet.ml\n"
     ]
    },
    {
     "name": "stdout",
     "output_type": "stream",
     "text": [
      "Training finished.\n"
     ]
    },
    {
     "data": {
      "text/plain": [
       "'logger = teacher.eval(agent,\\n                        simTime=simTime,\\n                        stepTime=stepTime,\\n                        history_length=history_length,\\n                        tags=tags,\\n                        parameters=hyperparams)\\n'"
      ]
     },
     "execution_count": 3,
     "metadata": {},
     "output_type": "execute_result"
    }
   ],
   "source": [
    "#%%\n",
    "teacher = Teacher(env, 1, Preprocessor(False))\n",
    "\n",
    "lr = 4e-4\n",
    "config = Config(buffer_size=3*steps_per_ep*threads_no, batch_size=32, gamma=0.7, tau=1e-3, lr=lr, update_every=1)\n",
    "agent = Agent(QNetworkTf, history_length, action_size=7, config=config)\n",
    "agent.set_epsilon(0.9, 0.001, EPISODE_COUNT-2)\n",
    "\n",
    "# Test the model\n",
    "hyperparams = {**config.__dict__, **sim_args}\n",
    "tags = [\"Rew: normalized speed\",\n",
    "        \"Final\",\n",
    "        f\"{Agent.NAME}\",\n",
    "        sim_args['scenario'],\n",
    "        f\"LR: {lr}\",\n",
    "        f\"Instances: {threads_no}\",\n",
    "        f\"Station count: {sim_args['nWifi']}\",\n",
    "        *[f\"{key}: {sim_args[key]}\" for key in list(sim_args)[:3]]]\n",
    "# # agent.save()\n",
    "logger = teacher.train(agent, EPISODE_COUNT,\n",
    "                        simTime=simTime,\n",
    "                        stepTime=stepTime,\n",
    "                        history_length=history_length,\n",
    "                        send_logs=True,\n",
    "                        experimental=True,\n",
    "                        tags=tags,\n",
    "                        parameters=hyperparams)\n",
    "'''logger = teacher.eval(agent,\n",
    "                        simTime=simTime,\n",
    "                        stepTime=stepTime,\n",
    "                        history_length=history_length,\n",
    "                        tags=tags,\n",
    "                        parameters=hyperparams)\n",
    "'''\n",
    "# agent.save()\n",
    "\n",
    "\n",
    "# %%"
   ]
  },
  {
   "cell_type": "code",
   "execution_count": null,
   "id": "34642e70",
   "metadata": {},
   "outputs": [],
   "source": []
  },
  {
   "cell_type": "markdown",
   "id": "0912103a",
   "metadata": {},
   "source": [
    "# Execution num2: "
   ]
  },
  {
   "cell_type": "code",
   "execution_count": 1,
   "id": "52c3fa30",
   "metadata": {},
   "outputs": [
    {
     "name": "stderr",
     "output_type": "stream",
     "text": [
      "/home/samuel/anaconda3/envs/myEnv3_7/lib/python3.7/site-packages/tensorflow/python/framework/dtypes.py:516: FutureWarning: Passing (type, 1) or '1type' as a synonym of type is deprecated; in a future version of numpy, it will be understood as (type, (1,)) / '(1,)type'.\n",
      "  _np_qint8 = np.dtype([(\"qint8\", np.int8, 1)])\n",
      "/home/samuel/anaconda3/envs/myEnv3_7/lib/python3.7/site-packages/tensorflow/python/framework/dtypes.py:517: FutureWarning: Passing (type, 1) or '1type' as a synonym of type is deprecated; in a future version of numpy, it will be understood as (type, (1,)) / '(1,)type'.\n",
      "  _np_quint8 = np.dtype([(\"quint8\", np.uint8, 1)])\n",
      "/home/samuel/anaconda3/envs/myEnv3_7/lib/python3.7/site-packages/tensorflow/python/framework/dtypes.py:518: FutureWarning: Passing (type, 1) or '1type' as a synonym of type is deprecated; in a future version of numpy, it will be understood as (type, (1,)) / '(1,)type'.\n",
      "  _np_qint16 = np.dtype([(\"qint16\", np.int16, 1)])\n",
      "/home/samuel/anaconda3/envs/myEnv3_7/lib/python3.7/site-packages/tensorflow/python/framework/dtypes.py:519: FutureWarning: Passing (type, 1) or '1type' as a synonym of type is deprecated; in a future version of numpy, it will be understood as (type, (1,)) / '(1,)type'.\n",
      "  _np_quint16 = np.dtype([(\"quint16\", np.uint16, 1)])\n",
      "/home/samuel/anaconda3/envs/myEnv3_7/lib/python3.7/site-packages/tensorflow/python/framework/dtypes.py:520: FutureWarning: Passing (type, 1) or '1type' as a synonym of type is deprecated; in a future version of numpy, it will be understood as (type, (1,)) / '(1,)type'.\n",
      "  _np_qint32 = np.dtype([(\"qint32\", np.int32, 1)])\n",
      "/home/samuel/anaconda3/envs/myEnv3_7/lib/python3.7/site-packages/tensorflow/python/framework/dtypes.py:525: FutureWarning: Passing (type, 1) or '1type' as a synonym of type is deprecated; in a future version of numpy, it will be understood as (type, (1,)) / '(1,)type'.\n",
      "  np_resource = np.dtype([(\"resource\", np.ubyte, 1)])\n",
      "/home/samuel/anaconda3/envs/myEnv3_7/lib/python3.7/site-packages/tensorboard/compat/tensorflow_stub/dtypes.py:541: FutureWarning: Passing (type, 1) or '1type' as a synonym of type is deprecated; in a future version of numpy, it will be understood as (type, (1,)) / '(1,)type'.\n",
      "  _np_qint8 = np.dtype([(\"qint8\", np.int8, 1)])\n",
      "/home/samuel/anaconda3/envs/myEnv3_7/lib/python3.7/site-packages/tensorboard/compat/tensorflow_stub/dtypes.py:542: FutureWarning: Passing (type, 1) or '1type' as a synonym of type is deprecated; in a future version of numpy, it will be understood as (type, (1,)) / '(1,)type'.\n",
      "  _np_quint8 = np.dtype([(\"quint8\", np.uint8, 1)])\n",
      "/home/samuel/anaconda3/envs/myEnv3_7/lib/python3.7/site-packages/tensorboard/compat/tensorflow_stub/dtypes.py:543: FutureWarning: Passing (type, 1) or '1type' as a synonym of type is deprecated; in a future version of numpy, it will be understood as (type, (1,)) / '(1,)type'.\n",
      "  _np_qint16 = np.dtype([(\"qint16\", np.int16, 1)])\n",
      "/home/samuel/anaconda3/envs/myEnv3_7/lib/python3.7/site-packages/tensorboard/compat/tensorflow_stub/dtypes.py:544: FutureWarning: Passing (type, 1) or '1type' as a synonym of type is deprecated; in a future version of numpy, it will be understood as (type, (1,)) / '(1,)type'.\n",
      "  _np_quint16 = np.dtype([(\"quint16\", np.uint16, 1)])\n",
      "/home/samuel/anaconda3/envs/myEnv3_7/lib/python3.7/site-packages/tensorboard/compat/tensorflow_stub/dtypes.py:545: FutureWarning: Passing (type, 1) or '1type' as a synonym of type is deprecated; in a future version of numpy, it will be understood as (type, (1,)) / '(1,)type'.\n",
      "  _np_qint32 = np.dtype([(\"qint32\", np.int32, 1)])\n",
      "/home/samuel/anaconda3/envs/myEnv3_7/lib/python3.7/site-packages/tensorboard/compat/tensorflow_stub/dtypes.py:550: FutureWarning: Passing (type, 1) or '1type' as a synonym of type is deprecated; in a future version of numpy, it will be understood as (type, (1,)) / '(1,)type'.\n",
      "  np_resource = np.dtype([(\"resource\", np.ubyte, 1)])\n"
     ]
    }
   ],
   "source": [
    "#%%\n",
    "from ns3gym import ns3env\n",
    "from comet_ml import Experiment, Optimizer\n",
    "import tqdm\n",
    "import subprocess\n",
    "from collections import deque\n",
    "import numpy as np\n",
    "\n",
    "from agents.dqn.agent import Agent, Config\n",
    "from agents.dqn.model import QNetworkTf\n",
    "from agents.teacher import Teacher, EnvWrapper\n",
    "from preprocessor import Preprocessor"
   ]
  },
  {
   "cell_type": "code",
   "execution_count": 2,
   "id": "f1c05e8d",
   "metadata": {},
   "outputs": [
    {
     "name": "stdout",
     "output_type": "stream",
     "text": [
      "Steps per episode: 6000\n",
      "Waiting for simulation script to connect on port: tcp://localhost:49059\n",
      "Please start proper ns-3 simulation script using ./waf --run \"...\"\n",
      "Waf: Entering directory `/home/samuel/ns-allinone-3.29/ns-3.29/build'\n",
      "Waf: Leaving directory `/home/samuel/ns-allinone-3.29/ns-3.29/build'\n",
      "Build commands will be stored in build/compile_commands.json\n",
      "'build' finished successfully (4.119s)\n"
     ]
    },
    {
     "name": "stderr",
     "output_type": "stream",
     "text": [
      "Ns3Env parameters:\n",
      "--nWifi: 15\n",
      "--simulationTime: 60\n",
      "--openGymPort: 49059\n",
      "--envStepTime: 0.01\n",
      "--seed: 42\n",
      "--agentType: discrete\n",
      "--scenario: basic\n",
      "--dryRun: 0\n",
      "Simulation started\n"
     ]
    },
    {
     "name": "stdout",
     "output_type": "stream",
     "text": [
      "Observation space shape: (1, 300)\n",
      "Action space shape: (1, 1)\n"
     ]
    },
    {
     "name": "stderr",
     "output_type": "stream",
     "text": [
      "Simulation process id: 988225 (parent (waf shell) id: 988181)\n",
      "Waiting for Python process to connect on port: tcp://localhost:49059\n",
      "Please start proper Python Gym Agent\n"
     ]
    }
   ],
   "source": [
    "#%%\n",
    "scenario = \"basic\"\n",
    "\n",
    "simTime = 60 # seconds\n",
    "stepTime = 0.01  # seconds\n",
    "history_length = 300\n",
    "\n",
    "EPISODE_COUNT = 15\n",
    "steps_per_ep = int(simTime/stepTime)\n",
    "\n",
    "sim_args = {\n",
    "    \"simTime\": simTime,\n",
    "    \"envStepTime\": stepTime,\n",
    "    \"historyLength\": history_length,\n",
    "    \"agentType\": Agent.TYPE,\n",
    "    \"scenario\": \"basic\",\n",
    "    \"nWifi\": 15,\n",
    "}\n",
    "\n",
    "print(\"Steps per episode:\", steps_per_ep)\n",
    "\n",
    "threads_no = 1\n",
    "env = EnvWrapper(threads_no, **sim_args)\n",
    "\n",
    "#%%\n",
    "env.reset()\n",
    "ob_space = env.observation_space\n",
    "ac_space = env.action_space\n",
    "\n",
    "print(\"Observation space shape:\", ob_space)\n",
    "print(\"Action space shape:\", ac_space)\n",
    "\n",
    "assert ob_space is not None"
   ]
  },
  {
   "cell_type": "code",
   "execution_count": null,
   "id": "51ce832f",
   "metadata": {},
   "outputs": [],
   "source": [
    "#%%\n",
    "teacher = Teacher(env, 1, Preprocessor(False))\n",
    "\n",
    "lr = 4e-4\n",
    "config = Config(buffer_size=3*steps_per_ep*threads_no, batch_size=32, gamma=0.7, tau=1e-3, lr=lr, update_every=1)\n",
    "agent = Agent(QNetworkTf, history_length, action_size=7, config=config)\n",
    "agent.set_epsilon(0.9, 0.001, EPISODE_COUNT-2)\n",
    "\n",
    "# Test the model\n",
    "hyperparams = {**config.__dict__, **sim_args}\n",
    "tags = [\"Rew: normalized speed\",\n",
    "        \"Final\",\n",
    "        f\"{Agent.NAME}\",\n",
    "        sim_args['scenario'],\n",
    "        f\"LR: {lr}\",\n",
    "        f\"Instances: {threads_no}\",\n",
    "        f\"Station count: {sim_args['nWifi']}\",\n",
    "        *[f\"{key}: {sim_args[key]}\" for key in list(sim_args)[:3]]]\n",
    "# # agent.save()\n",
    "logger = teacher.train(agent, EPISODE_COUNT,\n",
    "                        simTime=simTime,\n",
    "                        stepTime=stepTime,\n",
    "                        history_length=history_length,\n",
    "                        send_logs=True,\n",
    "                        experimental=True,\n",
    "                        tags=tags,\n",
    "                        parameters=hyperparams)\n",
    "#logger = teacher.eval(agent,\n",
    "#                        simTime=simTime,\n",
    "#                        stepTime=stepTime,\n",
    "#                        history_length=history_length,\n",
    "#                        tags=tags,\n",
    "#                        parameters=hyperparams)\n",
    "# agent.save()\n",
    "\n",
    "\n",
    "# %%"
   ]
  },
  {
   "cell_type": "code",
   "execution_count": null,
   "id": "b4a2c9c6",
   "metadata": {},
   "outputs": [],
   "source": [
    "COMET INFO: Comet.ml Experiment Summary: \n",
    "COMET INFO:   Data: \n",
    "COMET INFO:     url: https://www.comet.com/sheila-janota/rl-in-wifi-with-queue-level/75cd994f544348ceaeeffa060f0e9342 \n",
    "COMET INFO:   Metrics [count] (min, max): \n",
    "COMET INFO:     Chosen CW [89985]           : (16.0, 1024.0) \n",
    "COMET INFO:     Cumulative reward [15]      : (2456.813720703125, 3166.90673828125) \n",
    "COMET INFO:     Current throughput [89985]  : (20.451234817504883, 65.49755096435547) \n",
    "COMET INFO:     Fairness index [89985]      : (nan, nan) \n",
    "COMET INFO:     Megabytes sent [89985]      : (0.245728000998497, 2263.1059050410986) \n",
    "COMET INFO:     Observation 0 [89985]       : (0.9332020816206932, 0.9341666666666667) \n",
    "COMET INFO:     Observation 1 [89985]       : (0.018178883788577436, 0.020230517468018055) \n",
    "COMET INFO:     Per-ep reward [89985]       : (126.97412109375, 3166.90673828125) \n",
    "COMET INFO:     Round megabytes sent [89985]: (0.01116899959743023, 11.839599609375) \n",
    "COMET INFO:     Round reward [89985]        : (0.014892578125, 0.640380859375) \n",
    "COMET INFO:     Speed [15]                  : (32.05888123571252, 37.71843175068498) \n",
    "COMET INFO:     Station count [89985]       : (15.0, 15.0) \n",
    "COMET INFO:     loss [89985]                : (0.0, 0.22322774678468704) \n",
    "COMET INFO:   Uploads: \n",
    "COMET INFO:     histogram3d: 89985 \n",
    "COMET INFO: ---------------------------- \n",
    " \n",
    "\n",
    "Sent 2262.12 Mb/s.\tMean speed: 37.70 Mb/s\tEpisode 15/15 finished"
   ]
  },
  {
   "cell_type": "markdown",
   "id": "6f240ef3",
   "metadata": {},
   "source": [
    "# Execution num3:"
   ]
  },
  {
   "cell_type": "code",
   "execution_count": 1,
   "id": "badea6f2",
   "metadata": {},
   "outputs": [
    {
     "name": "stderr",
     "output_type": "stream",
     "text": [
      "/home/samuel/anaconda3/envs/myEnv3_7/lib/python3.7/site-packages/tensorflow/python/framework/dtypes.py:516: FutureWarning: Passing (type, 1) or '1type' as a synonym of type is deprecated; in a future version of numpy, it will be understood as (type, (1,)) / '(1,)type'.\n",
      "  _np_qint8 = np.dtype([(\"qint8\", np.int8, 1)])\n",
      "/home/samuel/anaconda3/envs/myEnv3_7/lib/python3.7/site-packages/tensorflow/python/framework/dtypes.py:517: FutureWarning: Passing (type, 1) or '1type' as a synonym of type is deprecated; in a future version of numpy, it will be understood as (type, (1,)) / '(1,)type'.\n",
      "  _np_quint8 = np.dtype([(\"quint8\", np.uint8, 1)])\n",
      "/home/samuel/anaconda3/envs/myEnv3_7/lib/python3.7/site-packages/tensorflow/python/framework/dtypes.py:518: FutureWarning: Passing (type, 1) or '1type' as a synonym of type is deprecated; in a future version of numpy, it will be understood as (type, (1,)) / '(1,)type'.\n",
      "  _np_qint16 = np.dtype([(\"qint16\", np.int16, 1)])\n",
      "/home/samuel/anaconda3/envs/myEnv3_7/lib/python3.7/site-packages/tensorflow/python/framework/dtypes.py:519: FutureWarning: Passing (type, 1) or '1type' as a synonym of type is deprecated; in a future version of numpy, it will be understood as (type, (1,)) / '(1,)type'.\n",
      "  _np_quint16 = np.dtype([(\"quint16\", np.uint16, 1)])\n",
      "/home/samuel/anaconda3/envs/myEnv3_7/lib/python3.7/site-packages/tensorflow/python/framework/dtypes.py:520: FutureWarning: Passing (type, 1) or '1type' as a synonym of type is deprecated; in a future version of numpy, it will be understood as (type, (1,)) / '(1,)type'.\n",
      "  _np_qint32 = np.dtype([(\"qint32\", np.int32, 1)])\n",
      "/home/samuel/anaconda3/envs/myEnv3_7/lib/python3.7/site-packages/tensorflow/python/framework/dtypes.py:525: FutureWarning: Passing (type, 1) or '1type' as a synonym of type is deprecated; in a future version of numpy, it will be understood as (type, (1,)) / '(1,)type'.\n",
      "  np_resource = np.dtype([(\"resource\", np.ubyte, 1)])\n",
      "/home/samuel/anaconda3/envs/myEnv3_7/lib/python3.7/site-packages/tensorboard/compat/tensorflow_stub/dtypes.py:541: FutureWarning: Passing (type, 1) or '1type' as a synonym of type is deprecated; in a future version of numpy, it will be understood as (type, (1,)) / '(1,)type'.\n",
      "  _np_qint8 = np.dtype([(\"qint8\", np.int8, 1)])\n",
      "/home/samuel/anaconda3/envs/myEnv3_7/lib/python3.7/site-packages/tensorboard/compat/tensorflow_stub/dtypes.py:542: FutureWarning: Passing (type, 1) or '1type' as a synonym of type is deprecated; in a future version of numpy, it will be understood as (type, (1,)) / '(1,)type'.\n",
      "  _np_quint8 = np.dtype([(\"quint8\", np.uint8, 1)])\n",
      "/home/samuel/anaconda3/envs/myEnv3_7/lib/python3.7/site-packages/tensorboard/compat/tensorflow_stub/dtypes.py:543: FutureWarning: Passing (type, 1) or '1type' as a synonym of type is deprecated; in a future version of numpy, it will be understood as (type, (1,)) / '(1,)type'.\n",
      "  _np_qint16 = np.dtype([(\"qint16\", np.int16, 1)])\n",
      "/home/samuel/anaconda3/envs/myEnv3_7/lib/python3.7/site-packages/tensorboard/compat/tensorflow_stub/dtypes.py:544: FutureWarning: Passing (type, 1) or '1type' as a synonym of type is deprecated; in a future version of numpy, it will be understood as (type, (1,)) / '(1,)type'.\n",
      "  _np_quint16 = np.dtype([(\"quint16\", np.uint16, 1)])\n",
      "/home/samuel/anaconda3/envs/myEnv3_7/lib/python3.7/site-packages/tensorboard/compat/tensorflow_stub/dtypes.py:545: FutureWarning: Passing (type, 1) or '1type' as a synonym of type is deprecated; in a future version of numpy, it will be understood as (type, (1,)) / '(1,)type'.\n",
      "  _np_qint32 = np.dtype([(\"qint32\", np.int32, 1)])\n",
      "/home/samuel/anaconda3/envs/myEnv3_7/lib/python3.7/site-packages/tensorboard/compat/tensorflow_stub/dtypes.py:550: FutureWarning: Passing (type, 1) or '1type' as a synonym of type is deprecated; in a future version of numpy, it will be understood as (type, (1,)) / '(1,)type'.\n",
      "  np_resource = np.dtype([(\"resource\", np.ubyte, 1)])\n"
     ]
    }
   ],
   "source": [
    "#%%\n",
    "from ns3gym import ns3env\n",
    "from comet_ml import Experiment, Optimizer\n",
    "import tqdm\n",
    "import subprocess\n",
    "from collections import deque\n",
    "import numpy as np\n",
    "\n",
    "from agents.dqn.agent import Agent, Config\n",
    "from agents.dqn.model import QNetworkTf\n",
    "from agents.teacher import Teacher, EnvWrapper\n",
    "from preprocessor import Preprocessor"
   ]
  },
  {
   "cell_type": "code",
   "execution_count": 2,
   "id": "caf4dfa4",
   "metadata": {},
   "outputs": [
    {
     "name": "stdout",
     "output_type": "stream",
     "text": [
      "Steps per episode: 6000\n",
      "Waiting for simulation script to connect on port: tcp://localhost:46072\n",
      "Please start proper ns-3 simulation script using ./waf --run \"...\"\n",
      "Waf: Entering directory `/home/samuel/ns-allinone-3.29/ns-3.29/build'\n",
      "Waf: Leaving directory `/home/samuel/ns-allinone-3.29/ns-3.29/build'\n",
      "Build commands will be stored in build/compile_commands.json\n",
      "'build' finished successfully (4.192s)\n"
     ]
    },
    {
     "name": "stderr",
     "output_type": "stream",
     "text": [
      "Ns3Env parameters:\n",
      "--nWifi: 15\n",
      "--simulationTime: 60\n",
      "--openGymPort: 46072\n",
      "--envStepTime: 0.01\n",
      "--seed: 42\n",
      "--agentType: discrete\n",
      "--scenario: basic\n",
      "--dryRun: 0\n",
      "Simulation started\n"
     ]
    },
    {
     "name": "stdout",
     "output_type": "stream",
     "text": [
      "Observation space shape: (1, 300)\n",
      "Action space shape: (1, 1)\n"
     ]
    },
    {
     "name": "stderr",
     "output_type": "stream",
     "text": [
      "Simulation process id: 1408193 (parent (waf shell) id: 1408149)\n",
      "Waiting for Python process to connect on port: tcp://localhost:46072\n",
      "Please start proper Python Gym Agent\n"
     ]
    }
   ],
   "source": [
    "#%%\n",
    "scenario = \"basic\"\n",
    "\n",
    "simTime = 60 # seconds\n",
    "stepTime = 0.01  # seconds\n",
    "history_length = 300\n",
    "\n",
    "EPISODE_COUNT = 15\n",
    "steps_per_ep = int(simTime/stepTime)\n",
    "\n",
    "sim_args = {\n",
    "    \"simTime\": simTime,\n",
    "    \"envStepTime\": stepTime,\n",
    "    \"historyLength\": history_length,\n",
    "    \"agentType\": Agent.TYPE,\n",
    "    \"scenario\": \"basic\",\n",
    "    \"nWifi\": 15,\n",
    "}\n",
    "\n",
    "print(\"Steps per episode:\", steps_per_ep)\n",
    "\n",
    "threads_no = 1\n",
    "env = EnvWrapper(threads_no, **sim_args)\n",
    "\n",
    "#%%\n",
    "env.reset()\n",
    "ob_space = env.observation_space\n",
    "ac_space = env.action_space\n",
    "\n",
    "print(\"Observation space shape:\", ob_space)\n",
    "print(\"Action space shape:\", ac_space)\n",
    "\n",
    "assert ob_space is not None"
   ]
  },
  {
   "cell_type": "code",
   "execution_count": 3,
   "id": "70947a0b",
   "metadata": {},
   "outputs": [
    {
     "name": "stdout",
     "output_type": "stream",
     "text": [
      "WARNING:tensorflow:From /home/samuel/ns-allinone-3.29/ns-3.29/scratch/RLinWiFi-master-original-queue-level-mean/agents/dqn/agent.py:53: The name tf.Session is deprecated. Please use tf.compat.v1.Session instead.\n",
      "\n",
      "WARNING:tensorflow:From /home/samuel/ns-allinone-3.29/ns-3.29/scratch/RLinWiFi-master-original-queue-level-mean/agents/dqn/model.py:25: The name tf.variable_scope is deprecated. Please use tf.compat.v1.variable_scope instead.\n",
      "\n",
      "WARNING:tensorflow:From /home/samuel/ns-allinone-3.29/ns-3.29/scratch/RLinWiFi-master-original-queue-level-mean/agents/dqn/model.py:26: The name tf.placeholder is deprecated. Please use tf.compat.v1.placeholder instead.\n",
      "\n"
     ]
    },
    {
     "name": "stderr",
     "output_type": "stream",
     "text": [
      "2023-02-15 10:32:45.921034: I tensorflow/core/platform/cpu_feature_guard.cc:142] Your CPU supports instructions that this TensorFlow binary was not compiled to use: AVX2 FMA\n",
      "2023-02-15 10:32:45.971962: I tensorflow/core/platform/profile_utils/cpu_utils.cc:94] CPU Frequency: 3491795000 Hz\n",
      "2023-02-15 10:32:45.972628: I tensorflow/compiler/xla/service/service.cc:168] XLA service 0x55b592179cc0 executing computations on platform Host. Devices:\n",
      "2023-02-15 10:32:45.972648: I tensorflow/compiler/xla/service/service.cc:175]   StreamExecutor device (0): <undefined>, <undefined>\n"
     ]
    },
    {
     "name": "stdout",
     "output_type": "stream",
     "text": [
      "WARNING:tensorflow:\n",
      "The TensorFlow contrib module will not be included in TensorFlow 2.0.\n",
      "For more information, please see:\n",
      "  * https://github.com/tensorflow/community/blob/master/rfcs/20180907-contrib-sunset.md\n",
      "  * https://github.com/tensorflow/addons\n",
      "  * https://github.com/tensorflow/io (for I/O related ops)\n",
      "If you depend on functionality not listed there, please file an issue.\n",
      "\n",
      "WARNING:tensorflow:From /home/samuel/ns-allinone-3.29/ns-3.29/scratch/RLinWiFi-master-original-queue-level-mean/agents/dqn/model.py:52: LSTMCell.__init__ (from tensorflow.python.ops.rnn_cell_impl) is deprecated and will be removed in a future version.\n",
      "Instructions for updating:\n",
      "This class is equivalent as tf.keras.layers.LSTMCell, and will be replaced by that in Tensorflow 2.0.\n",
      "WARNING:tensorflow:From /home/samuel/ns-allinone-3.29/ns-3.29/scratch/RLinWiFi-master-original-queue-level-mean/agents/dqn/model.py:52: static_rnn (from tensorflow.python.ops.rnn) is deprecated and will be removed in a future version.\n",
      "Instructions for updating:\n",
      "Please use `keras.layers.RNN(cell, unroll=True)`, which is equivalent to this API\n",
      "WARNING:tensorflow:From /home/samuel/anaconda3/envs/myEnv3_7/lib/python3.7/site-packages/tensorflow/python/ops/init_ops.py:1251: calling VarianceScaling.__init__ (from tensorflow.python.ops.init_ops) with dtype is deprecated and will be removed in a future version.\n",
      "Instructions for updating:\n",
      "Call initializer instance with the dtype argument instead of passing it to the constructor\n",
      "WARNING:tensorflow:From /home/samuel/anaconda3/envs/myEnv3_7/lib/python3.7/site-packages/tensorflow/python/ops/rnn_cell_impl.py:961: calling Zeros.__init__ (from tensorflow.python.ops.init_ops) with dtype is deprecated and will be removed in a future version.\n",
      "Instructions for updating:\n",
      "Call initializer instance with the dtype argument instead of passing it to the constructor\n",
      "WARNING:tensorflow:Entity <bound method LSTMCell.call of <tensorflow.python.ops.rnn_cell_impl.LSTMCell object at 0x7f2382dddd50>> could not be transformed and will be executed as-is. Please report this to the AutgoGraph team. When filing the bug, set the verbosity to 10 (on Linux, `export AUTOGRAPH_VERBOSITY=10`) and attach the full output. Cause: converting <bound method LSTMCell.call of <tensorflow.python.ops.rnn_cell_impl.LSTMCell object at 0x7f2382dddd50>>: AttributeError: module 'gast' has no attribute 'Index'\n",
      "WARNING: Entity <bound method LSTMCell.call of <tensorflow.python.ops.rnn_cell_impl.LSTMCell object at 0x7f2382dddd50>> could not be transformed and will be executed as-is. Please report this to the AutgoGraph team. When filing the bug, set the verbosity to 10 (on Linux, `export AUTOGRAPH_VERBOSITY=10`) and attach the full output. Cause: converting <bound method LSTMCell.call of <tensorflow.python.ops.rnn_cell_impl.LSTMCell object at 0x7f2382dddd50>>: AttributeError: module 'gast' has no attribute 'Index'\n",
      "WARNING:tensorflow:Entity <bound method LSTMCell.call of <tensorflow.python.ops.rnn_cell_impl.LSTMCell object at 0x7f2382dddd50>> could not be transformed and will be executed as-is. Please report this to the AutgoGraph team. When filing the bug, set the verbosity to 10 (on Linux, `export AUTOGRAPH_VERBOSITY=10`) and attach the full output. Cause: converting <bound method LSTMCell.call of <tensorflow.python.ops.rnn_cell_impl.LSTMCell object at 0x7f2382dddd50>>: AttributeError: module 'gast' has no attribute 'Index'\n",
      "WARNING: Entity <bound method LSTMCell.call of <tensorflow.python.ops.rnn_cell_impl.LSTMCell object at 0x7f2382dddd50>> could not be transformed and will be executed as-is. Please report this to the AutgoGraph team. When filing the bug, set the verbosity to 10 (on Linux, `export AUTOGRAPH_VERBOSITY=10`) and attach the full output. Cause: converting <bound method LSTMCell.call of <tensorflow.python.ops.rnn_cell_impl.LSTMCell object at 0x7f2382dddd50>>: AttributeError: module 'gast' has no attribute 'Index'\n",
      "WARNING:tensorflow:Entity <bound method LSTMCell.call of <tensorflow.python.ops.rnn_cell_impl.LSTMCell object at 0x7f2382dddd50>> could not be transformed and will be executed as-is. Please report this to the AutgoGraph team. When filing the bug, set the verbosity to 10 (on Linux, `export AUTOGRAPH_VERBOSITY=10`) and attach the full output. Cause: converting <bound method LSTMCell.call of <tensorflow.python.ops.rnn_cell_impl.LSTMCell object at 0x7f2382dddd50>>: AttributeError: module 'gast' has no attribute 'Index'\n",
      "WARNING: Entity <bound method LSTMCell.call of <tensorflow.python.ops.rnn_cell_impl.LSTMCell object at 0x7f2382dddd50>> could not be transformed and will be executed as-is. Please report this to the AutgoGraph team. When filing the bug, set the verbosity to 10 (on Linux, `export AUTOGRAPH_VERBOSITY=10`) and attach the full output. Cause: converting <bound method LSTMCell.call of <tensorflow.python.ops.rnn_cell_impl.LSTMCell object at 0x7f2382dddd50>>: AttributeError: module 'gast' has no attribute 'Index'\n",
      "WARNING:tensorflow:Entity <bound method LSTMCell.call of <tensorflow.python.ops.rnn_cell_impl.LSTMCell object at 0x7f2382dddd50>> could not be transformed and will be executed as-is. Please report this to the AutgoGraph team. When filing the bug, set the verbosity to 10 (on Linux, `export AUTOGRAPH_VERBOSITY=10`) and attach the full output. Cause: converting <bound method LSTMCell.call of <tensorflow.python.ops.rnn_cell_impl.LSTMCell object at 0x7f2382dddd50>>: AttributeError: module 'gast' has no attribute 'Index'\n",
      "WARNING: Entity <bound method LSTMCell.call of <tensorflow.python.ops.rnn_cell_impl.LSTMCell object at 0x7f2382dddd50>> could not be transformed and will be executed as-is. Please report this to the AutgoGraph team. When filing the bug, set the verbosity to 10 (on Linux, `export AUTOGRAPH_VERBOSITY=10`) and attach the full output. Cause: converting <bound method LSTMCell.call of <tensorflow.python.ops.rnn_cell_impl.LSTMCell object at 0x7f2382dddd50>>: AttributeError: module 'gast' has no attribute 'Index'\n",
      "WARNING:tensorflow:From /home/samuel/ns-allinone-3.29/ns-3.29/scratch/RLinWiFi-master-original-queue-level-mean/agents/dqn/model.py:53: dense (from tensorflow.python.layers.core) is deprecated and will be removed in a future version.\n",
      "Instructions for updating:\n",
      "Use keras.layers.dense instead.\n",
      "WARNING:tensorflow:Entity <bound method Dense.call of <tensorflow.python.layers.core.Dense object at 0x7f2382dddd50>> could not be transformed and will be executed as-is. Please report this to the AutgoGraph team. When filing the bug, set the verbosity to 10 (on Linux, `export AUTOGRAPH_VERBOSITY=10`) and attach the full output. Cause: converting <bound method Dense.call of <tensorflow.python.layers.core.Dense object at 0x7f2382dddd50>>: AttributeError: module 'gast' has no attribute 'Index'\n",
      "WARNING: Entity <bound method Dense.call of <tensorflow.python.layers.core.Dense object at 0x7f2382dddd50>> could not be transformed and will be executed as-is. Please report this to the AutgoGraph team. When filing the bug, set the verbosity to 10 (on Linux, `export AUTOGRAPH_VERBOSITY=10`) and attach the full output. Cause: converting <bound method Dense.call of <tensorflow.python.layers.core.Dense object at 0x7f2382dddd50>>: AttributeError: module 'gast' has no attribute 'Index'\n",
      "WARNING:tensorflow:Entity <bound method Dense.call of <tensorflow.python.layers.core.Dense object at 0x7f2382dddd50>> could not be transformed and will be executed as-is. Please report this to the AutgoGraph team. When filing the bug, set the verbosity to 10 (on Linux, `export AUTOGRAPH_VERBOSITY=10`) and attach the full output. Cause: converting <bound method Dense.call of <tensorflow.python.layers.core.Dense object at 0x7f2382dddd50>>: AttributeError: module 'gast' has no attribute 'Index'\n",
      "WARNING: Entity <bound method Dense.call of <tensorflow.python.layers.core.Dense object at 0x7f2382dddd50>> could not be transformed and will be executed as-is. Please report this to the AutgoGraph team. When filing the bug, set the verbosity to 10 (on Linux, `export AUTOGRAPH_VERBOSITY=10`) and attach the full output. Cause: converting <bound method Dense.call of <tensorflow.python.layers.core.Dense object at 0x7f2382dddd50>>: AttributeError: module 'gast' has no attribute 'Index'\n",
      "WARNING:tensorflow:Entity <bound method Dense.call of <tensorflow.python.layers.core.Dense object at 0x7f2382dddd50>> could not be transformed and will be executed as-is. Please report this to the AutgoGraph team. When filing the bug, set the verbosity to 10 (on Linux, `export AUTOGRAPH_VERBOSITY=10`) and attach the full output. Cause: converting <bound method Dense.call of <tensorflow.python.layers.core.Dense object at 0x7f2382dddd50>>: AttributeError: module 'gast' has no attribute 'Index'\n"
     ]
    },
    {
     "name": "stdout",
     "output_type": "stream",
     "text": [
      "WARNING: Entity <bound method Dense.call of <tensorflow.python.layers.core.Dense object at 0x7f2382dddd50>> could not be transformed and will be executed as-is. Please report this to the AutgoGraph team. When filing the bug, set the verbosity to 10 (on Linux, `export AUTOGRAPH_VERBOSITY=10`) and attach the full output. Cause: converting <bound method Dense.call of <tensorflow.python.layers.core.Dense object at 0x7f2382dddd50>>: AttributeError: module 'gast' has no attribute 'Index'\n",
      "WARNING:tensorflow:From /home/samuel/ns-allinone-3.29/ns-3.29/scratch/RLinWiFi-master-original-queue-level-mean/agents/dqn/model.py:69: The name tf.losses.mean_squared_error is deprecated. Please use tf.compat.v1.losses.mean_squared_error instead.\n",
      "\n",
      "WARNING:tensorflow:From /home/samuel/anaconda3/envs/myEnv3_7/lib/python3.7/site-packages/tensorflow/python/ops/losses/losses_impl.py:121: add_dispatch_support.<locals>.wrapper (from tensorflow.python.ops.array_ops) is deprecated and will be removed in a future version.\n",
      "Instructions for updating:\n",
      "Use tf.where in 2.0, which has the same broadcast rule as np.where\n",
      "WARNING:tensorflow:From /home/samuel/ns-allinone-3.29/ns-3.29/scratch/RLinWiFi-master-original-queue-level-mean/agents/dqn/model.py:77: The name tf.train.AdamOptimizer is deprecated. Please use tf.compat.v1.train.AdamOptimizer instead.\n",
      "\n",
      "WARNING:tensorflow:From /home/samuel/ns-allinone-3.29/ns-3.29/scratch/RLinWiFi-master-original-queue-level-mean/agents/dqn/model.py:33: The name tf.global_variables_initializer is deprecated. Please use tf.compat.v1.global_variables_initializer instead.\n",
      "\n",
      "WARNING:tensorflow:From /home/samuel/ns-allinone-3.29/ns-3.29/scratch/RLinWiFi-master-original-queue-level-mean/agents/dqn/model.py:34: The name tf.local_variables_initializer is deprecated. Please use tf.compat.v1.local_variables_initializer instead.\n",
      "\n",
      "WARNING:tensorflow:Entity <bound method LSTMCell.call of <tensorflow.python.ops.rnn_cell_impl.LSTMCell object at 0x7f2382e24fd0>> could not be transformed and will be executed as-is. Please report this to the AutgoGraph team. When filing the bug, set the verbosity to 10 (on Linux, `export AUTOGRAPH_VERBOSITY=10`) and attach the full output. Cause: converting <bound method LSTMCell.call of <tensorflow.python.ops.rnn_cell_impl.LSTMCell object at 0x7f2382e24fd0>>: AttributeError: module 'gast' has no attribute 'Index'\n",
      "WARNING: Entity <bound method LSTMCell.call of <tensorflow.python.ops.rnn_cell_impl.LSTMCell object at 0x7f2382e24fd0>> could not be transformed and will be executed as-is. Please report this to the AutgoGraph team. When filing the bug, set the verbosity to 10 (on Linux, `export AUTOGRAPH_VERBOSITY=10`) and attach the full output. Cause: converting <bound method LSTMCell.call of <tensorflow.python.ops.rnn_cell_impl.LSTMCell object at 0x7f2382e24fd0>>: AttributeError: module 'gast' has no attribute 'Index'\n",
      "WARNING:tensorflow:Entity <bound method LSTMCell.call of <tensorflow.python.ops.rnn_cell_impl.LSTMCell object at 0x7f2382e24fd0>> could not be transformed and will be executed as-is. Please report this to the AutgoGraph team. When filing the bug, set the verbosity to 10 (on Linux, `export AUTOGRAPH_VERBOSITY=10`) and attach the full output. Cause: converting <bound method LSTMCell.call of <tensorflow.python.ops.rnn_cell_impl.LSTMCell object at 0x7f2382e24fd0>>: AttributeError: module 'gast' has no attribute 'Index'\n"
     ]
    },
    {
     "name": "stderr",
     "output_type": "stream",
     "text": [
      "2023-02-15 10:32:48.416837: W tensorflow/compiler/jit/mark_for_compilation_pass.cc:1412] (One-time warning): Not using XLA:CPU for cluster because envvar TF_XLA_FLAGS=--tf_xla_cpu_global_jit was not set.  If you want XLA:CPU, either set that envvar, or use experimental_jit_scope to enable XLA:CPU.  To confirm that XLA is active, pass --vmodule=xla_compilation_cache=1 (as a proper command-line flag, not via TF_XLA_FLAGS) or set the envvar XLA_FLAGS=--xla_hlo_profile.\n"
     ]
    },
    {
     "name": "stdout",
     "output_type": "stream",
     "text": [
      "WARNING: Entity <bound method LSTMCell.call of <tensorflow.python.ops.rnn_cell_impl.LSTMCell object at 0x7f2382e24fd0>> could not be transformed and will be executed as-is. Please report this to the AutgoGraph team. When filing the bug, set the verbosity to 10 (on Linux, `export AUTOGRAPH_VERBOSITY=10`) and attach the full output. Cause: converting <bound method LSTMCell.call of <tensorflow.python.ops.rnn_cell_impl.LSTMCell object at 0x7f2382e24fd0>>: AttributeError: module 'gast' has no attribute 'Index'\n",
      "WARNING:tensorflow:Entity <bound method LSTMCell.call of <tensorflow.python.ops.rnn_cell_impl.LSTMCell object at 0x7f2382e24fd0>> could not be transformed and will be executed as-is. Please report this to the AutgoGraph team. When filing the bug, set the verbosity to 10 (on Linux, `export AUTOGRAPH_VERBOSITY=10`) and attach the full output. Cause: converting <bound method LSTMCell.call of <tensorflow.python.ops.rnn_cell_impl.LSTMCell object at 0x7f2382e24fd0>>: AttributeError: module 'gast' has no attribute 'Index'\n",
      "WARNING: Entity <bound method LSTMCell.call of <tensorflow.python.ops.rnn_cell_impl.LSTMCell object at 0x7f2382e24fd0>> could not be transformed and will be executed as-is. Please report this to the AutgoGraph team. When filing the bug, set the verbosity to 10 (on Linux, `export AUTOGRAPH_VERBOSITY=10`) and attach the full output. Cause: converting <bound method LSTMCell.call of <tensorflow.python.ops.rnn_cell_impl.LSTMCell object at 0x7f2382e24fd0>>: AttributeError: module 'gast' has no attribute 'Index'\n",
      "WARNING:tensorflow:Entity <bound method LSTMCell.call of <tensorflow.python.ops.rnn_cell_impl.LSTMCell object at 0x7f2382e24fd0>> could not be transformed and will be executed as-is. Please report this to the AutgoGraph team. When filing the bug, set the verbosity to 10 (on Linux, `export AUTOGRAPH_VERBOSITY=10`) and attach the full output. Cause: converting <bound method LSTMCell.call of <tensorflow.python.ops.rnn_cell_impl.LSTMCell object at 0x7f2382e24fd0>>: AttributeError: module 'gast' has no attribute 'Index'\n",
      "WARNING: Entity <bound method LSTMCell.call of <tensorflow.python.ops.rnn_cell_impl.LSTMCell object at 0x7f2382e24fd0>> could not be transformed and will be executed as-is. Please report this to the AutgoGraph team. When filing the bug, set the verbosity to 10 (on Linux, `export AUTOGRAPH_VERBOSITY=10`) and attach the full output. Cause: converting <bound method LSTMCell.call of <tensorflow.python.ops.rnn_cell_impl.LSTMCell object at 0x7f2382e24fd0>>: AttributeError: module 'gast' has no attribute 'Index'\n",
      "WARNING:tensorflow:Entity <bound method Dense.call of <tensorflow.python.layers.core.Dense object at 0x7f2382e24fd0>> could not be transformed and will be executed as-is. Please report this to the AutgoGraph team. When filing the bug, set the verbosity to 10 (on Linux, `export AUTOGRAPH_VERBOSITY=10`) and attach the full output. Cause: converting <bound method Dense.call of <tensorflow.python.layers.core.Dense object at 0x7f2382e24fd0>>: AttributeError: module 'gast' has no attribute 'Index'\n",
      "WARNING: Entity <bound method Dense.call of <tensorflow.python.layers.core.Dense object at 0x7f2382e24fd0>> could not be transformed and will be executed as-is. Please report this to the AutgoGraph team. When filing the bug, set the verbosity to 10 (on Linux, `export AUTOGRAPH_VERBOSITY=10`) and attach the full output. Cause: converting <bound method Dense.call of <tensorflow.python.layers.core.Dense object at 0x7f2382e24fd0>>: AttributeError: module 'gast' has no attribute 'Index'\n",
      "WARNING:tensorflow:Entity <bound method Dense.call of <tensorflow.python.layers.core.Dense object at 0x7f2382e24fd0>> could not be transformed and will be executed as-is. Please report this to the AutgoGraph team. When filing the bug, set the verbosity to 10 (on Linux, `export AUTOGRAPH_VERBOSITY=10`) and attach the full output. Cause: converting <bound method Dense.call of <tensorflow.python.layers.core.Dense object at 0x7f2382e24fd0>>: AttributeError: module 'gast' has no attribute 'Index'\n",
      "WARNING: Entity <bound method Dense.call of <tensorflow.python.layers.core.Dense object at 0x7f2382e24fd0>> could not be transformed and will be executed as-is. Please report this to the AutgoGraph team. When filing the bug, set the verbosity to 10 (on Linux, `export AUTOGRAPH_VERBOSITY=10`) and attach the full output. Cause: converting <bound method Dense.call of <tensorflow.python.layers.core.Dense object at 0x7f2382e24fd0>>: AttributeError: module 'gast' has no attribute 'Index'\n",
      "WARNING:tensorflow:Entity <bound method Dense.call of <tensorflow.python.layers.core.Dense object at 0x7f2382e24fd0>> could not be transformed and will be executed as-is. Please report this to the AutgoGraph team. When filing the bug, set the verbosity to 10 (on Linux, `export AUTOGRAPH_VERBOSITY=10`) and attach the full output. Cause: converting <bound method Dense.call of <tensorflow.python.layers.core.Dense object at 0x7f2382e24fd0>>: AttributeError: module 'gast' has no attribute 'Index'\n",
      "WARNING: Entity <bound method Dense.call of <tensorflow.python.layers.core.Dense object at 0x7f2382e24fd0>> could not be transformed and will be executed as-is. Please report this to the AutgoGraph team. When filing the bug, set the verbosity to 10 (on Linux, `export AUTOGRAPH_VERBOSITY=10`) and attach the full output. Cause: converting <bound method Dense.call of <tensorflow.python.layers.core.Dense object at 0x7f2382e24fd0>>: AttributeError: module 'gast' has no attribute 'Index'\n",
      "WARNING:tensorflow:From /home/samuel/ns-allinone-3.29/ns-3.29/scratch/RLinWiFi-master-original-queue-level-mean/agents/dqn/agent.py:77: The name tf.train.Saver is deprecated. Please use tf.compat.v1.train.Saver instead.\n",
      "\n",
      "Action space: 7\n",
      "WARNING:tensorflow:From /home/samuel/ns-allinone-3.29/ns-3.29/scratch/RLinWiFi-master-original-queue-level-mean/agents/dqn/agent.py:107: Variable.load (from tensorflow.python.ops.variables) is deprecated and will be removed in a future version.\n",
      "Instructions for updating:\n",
      "Prefer Variable.assign which has equivalent behavior in 2.X.\n"
     ]
    },
    {
     "name": "stderr",
     "output_type": "stream",
     "text": [
      "COMET INFO: Experiment is live on comet.ml https://www.comet.com/sheila-janota/rl-in-wifi-with-queue-level/4a17686428394544a1cf7c4a6588cf1f\n",
      "\n",
      "  0%|          | 0/6300 [00:00<?, ?it/s]"
     ]
    },
    {
     "name": "stdout",
     "output_type": "stream",
     "text": [
      "0\n"
     ]
    },
    {
     "name": "stderr",
     "output_type": "stream",
     "text": [
      "  5%|▌         | 333/6300 [02:39<55:38,  1.79it/s, curr_speed=30.96 Mbps, mb_sent=9.91 Mb] "
     ]
    },
    {
     "name": "stdout",
     "output_type": "stream",
     "text": [
      "------- STARTED TRAINING -------\n"
     ]
    },
    {
     "name": "stderr",
     "output_type": "stream",
     "text": [
      "100%|██████████| 6300/6300 [57:12<00:00,  1.84it/s, curr_speed=42.01 Mbps, mb_sent=1924.21 Mb] \n"
     ]
    },
    {
     "name": "stdout",
     "output_type": "stream",
     "text": [
      "Waiting for simulation script to connect on port: tcp://localhost:23716\n",
      "Please start proper ns-3 simulation script using ./waf --run \"...\"\n",
      "Waf: Entering directory `/home/samuel/ns-allinone-3.29/ns-3.29/build'\n",
      "Waf: Leaving directory `/home/samuel/ns-allinone-3.29/ns-3.29/build'\n",
      "Build commands will be stored in build/compile_commands.json\n",
      "'build' finished successfully (3.954s)\n"
     ]
    },
    {
     "name": "stderr",
     "output_type": "stream",
     "text": [
      "Ns3Env parameters:\n",
      "--nWifi: 15\n",
      "--simulationTime: 60\n",
      "--openGymPort: 23716\n",
      "--envStepTime: 0.01\n",
      "--seed: 42\n",
      "--agentType: discrete\n",
      "--scenario: basic\n",
      "--dryRun: 0\n",
      "Simulation started\n",
      "Simulation process id: 1809904 (parent (waf shell) id: 1809854)\n",
      "Waiting for Python process to connect on port: tcp://localhost:23716\n",
      "Please start proper Python Gym Agent\n",
      "  0%|          | 0/6300 [00:00<?, ?it/s]"
     ]
    },
    {
     "name": "stdout",
     "output_type": "stream",
     "text": [
      "Sent 1924.21 Mb/s.\tMean speed: 32.07 Mb/s\tEpisode 1/15 finished\n",
      "\n",
      "1\n"
     ]
    },
    {
     "name": "stderr",
     "output_type": "stream",
     "text": [
      " 14%|█▎        | 852/6300 [07:28<51:18,  1.77it/s, curr_speed=34.20 Mbps, mb_sent=185.49 Mb]  COMET ERROR: File could not be uploaded\n",
      " 14%|█▎        | 853/6300 [07:28<51:26,  1.76it/s, curr_speed=34.08 Mbps, mb_sent=185.76 Mb]COMET ERROR: File could not be uploaded\n",
      " 14%|█▍        | 898/6300 [07:54<58:35,  1.54it/s, curr_speed=34.68 Mbps, mb_sent=201.57 Mb]COMET ERROR: File could not be uploaded\n",
      " 15%|█▍        | 923/6300 [08:08<41:05,  2.18it/s, curr_speed=34.85 Mbps, mb_sent=210.31 Mb]  COMET ERROR: File could not be uploaded\n",
      " 15%|█▍        | 924/6300 [08:09<41:51,  2.14it/s, curr_speed=34.90 Mbps, mb_sent=210.69 Mb]COMET ERROR: File could not be uploaded\n",
      " 15%|█▍        | 925/6300 [08:09<43:07,  2.08it/s, curr_speed=34.93 Mbps, mb_sent=211.06 Mb]COMET ERROR: File could not be uploaded\n",
      " 15%|█▌        | 956/6300 [08:25<39:43,  2.24it/s, curr_speed=34.98 Mbps, mb_sent=222.13 Mb]COMET ERROR: File could not be uploaded\n",
      " 16%|█▌        | 991/6300 [08:43<44:08,  2.00it/s, curr_speed=35.23 Mbps, mb_sent=234.36 Mb]COMET ERROR: File could not be uploaded\n",
      " 16%|█▌        | 1017/6300 [08:56<41:30,  2.12it/s, curr_speed=35.30 Mbps, mb_sent=243.40 Mb]COMET ERROR: File could not be uploaded\n",
      " 16%|█▌        | 1018/6300 [08:57<41:07,  2.14it/s, curr_speed=35.24 Mbps, mb_sent=243.66 Mb]COMET ERROR: File could not be uploaded\n",
      " 69%|██████▊   | 4322/6300 [39:19<18:06,  1.82it/s, curr_speed=33.50 Mbps, mb_sent=1373.49 Mb]COMET ERROR: File could not be uploaded\n",
      " 69%|██████▊   | 4324/6300 [39:20<16:53,  1.95it/s, curr_speed=33.56 Mbps, mb_sent=1374.29 Mb]COMET ERROR: File could not be uploaded\n",
      "100%|██████████| 6300/6300 [57:30<00:00,  1.83it/s, curr_speed=44.86 Mbps, mb_sent=2053.89 Mb]\n"
     ]
    },
    {
     "name": "stdout",
     "output_type": "stream",
     "text": [
      "Waiting for simulation script to connect on port: tcp://localhost:37911\n",
      "Please start proper ns-3 simulation script using ./waf --run \"...\"\n",
      "Waf: Entering directory `/home/samuel/ns-allinone-3.29/ns-3.29/build'\n",
      "Waf: Leaving directory `/home/samuel/ns-allinone-3.29/ns-3.29/build'\n",
      "Build commands will be stored in build/compile_commands.json\n",
      "'build' finished successfully (3.563s)\n"
     ]
    },
    {
     "name": "stderr",
     "output_type": "stream",
     "text": [
      "Ns3Env parameters:\n",
      "--nWifi: 15\n",
      "--simulationTime: 60\n",
      "--openGymPort: 37911\n",
      "--envStepTime: 0.01\n",
      "--seed: 42\n",
      "--agentType: discrete\n",
      "--scenario: basic\n",
      "--dryRun: 0\n",
      "Simulation started\n",
      "Simulation process id: 1839212 (parent (waf shell) id: 1839188)\n",
      "Waiting for Python process to connect on port: tcp://localhost:37911\n",
      "Please start proper Python Gym Agent\n",
      "  0%|          | 0/6300 [00:00<?, ?it/s]"
     ]
    },
    {
     "name": "stdout",
     "output_type": "stream",
     "text": [
      "Sent 2053.89 Mb/s.\tMean speed: 34.23 Mb/s\tEpisode 2/15 finished\n",
      "\n",
      "2\n"
     ]
    },
    {
     "name": "stderr",
     "output_type": "stream",
     "text": [
      "100%|██████████| 6300/6300 [58:25<00:00,  1.80it/s, curr_speed=30.82 Mbps, mb_sent=2131.52 Mb]\n"
     ]
    },
    {
     "name": "stdout",
     "output_type": "stream",
     "text": [
      "Waiting for simulation script to connect on port: tcp://localhost:44115\n",
      "Please start proper ns-3 simulation script using ./waf --run \"...\"\n",
      "Waf: Entering directory `/home/samuel/ns-allinone-3.29/ns-3.29/build'\n",
      "Waf: Leaving directory `/home/samuel/ns-allinone-3.29/ns-3.29/build'\n",
      "Build commands will be stored in build/compile_commands.json\n",
      "'build' finished successfully (3.428s)\n"
     ]
    },
    {
     "name": "stderr",
     "output_type": "stream",
     "text": [
      "Ns3Env parameters:\n",
      "--nWifi: 15\n",
      "--simulationTime: 60\n",
      "--openGymPort: 44115\n",
      "--envStepTime: 0.01\n",
      "--seed: 42\n",
      "--agentType: discrete\n",
      "--scenario: basic\n",
      "--dryRun: 0\n",
      "Simulation started\n",
      "Simulation process id: 1869135 (parent (waf shell) id: 1869103)\n",
      "Waiting for Python process to connect on port: tcp://localhost:44115\n",
      "Please start proper Python Gym Agent\n",
      "  0%|          | 0/6300 [00:00<?, ?it/s]"
     ]
    },
    {
     "name": "stdout",
     "output_type": "stream",
     "text": [
      "Sent 2131.52 Mb/s.\tMean speed: 35.53 Mb/s\tEpisode 3/15 finished\n",
      "\n",
      "3\n"
     ]
    },
    {
     "name": "stderr",
     "output_type": "stream",
     "text": [
      "  5%|▍         | 304/6300 [02:28<52:18,  1.91it/s, curr_speed=30.16 Mbps, mb_sent=0.90 Mb]"
     ]
    },
    {
     "name": "stdout",
     "output_type": "stream",
     "text": [
      "------- MEMORY BUFFER FILLED -------\n"
     ]
    },
    {
     "name": "stderr",
     "output_type": "stream",
     "text": [
      "100%|██████████| 6300/6300 [58:50<00:00,  1.78it/s, curr_speed=33.74 Mbps, mb_sent=2190.31 Mb]\n"
     ]
    },
    {
     "name": "stdout",
     "output_type": "stream",
     "text": [
      "Waiting for simulation script to connect on port: tcp://localhost:22344\n",
      "Please start proper ns-3 simulation script using ./waf --run \"...\"\n",
      "Waf: Entering directory `/home/samuel/ns-allinone-3.29/ns-3.29/build'\n",
      "Waf: Leaving directory `/home/samuel/ns-allinone-3.29/ns-3.29/build'\n",
      "Build commands will be stored in build/compile_commands.json\n",
      "'build' finished successfully (3.518s)\n"
     ]
    },
    {
     "name": "stderr",
     "output_type": "stream",
     "text": [
      "Ns3Env parameters:\n",
      "--nWifi: 15\n",
      "--simulationTime: 60\n",
      "--openGymPort: 22344\n",
      "--envStepTime: 0.01\n",
      "--seed: 42\n",
      "--agentType: discrete\n",
      "--scenario: basic\n",
      "--dryRun: 0\n",
      "Simulation started\n",
      "Simulation process id: 1898843 (parent (waf shell) id: 1898801)\n",
      "Waiting for Python process to connect on port: tcp://localhost:22344\n",
      "Please start proper Python Gym Agent\n",
      "  0%|          | 0/6300 [00:00<?, ?it/s]"
     ]
    },
    {
     "name": "stdout",
     "output_type": "stream",
     "text": [
      "Sent 2190.31 Mb/s.\tMean speed: 36.51 Mb/s\tEpisode 4/15 finished\n",
      "\n",
      "4\n"
     ]
    },
    {
     "name": "stderr",
     "output_type": "stream",
     "text": [
      " 34%|███▍      | 2141/6300 [19:42<42:46,  1.62it/s, curr_speed=48.77 Mbps, mb_sent=683.20 Mb] COMET ERROR: File could not be uploaded\n",
      " 34%|███▍      | 2145/6300 [19:44<41:15,  1.68it/s, curr_speed=37.28 Mbps, mb_sent=684.69 Mb]COMET ERROR: File could not be uploaded\n",
      " 34%|███▍      | 2148/6300 [19:46<40:03,  1.73it/s, curr_speed=37.32 Mbps, mb_sent=685.83 Mb]COMET ERROR: File could not be uploaded\n",
      " 34%|███▍      | 2154/6300 [19:49<36:29,  1.89it/s, curr_speed=37.07 Mbps, mb_sent=687.82 Mb]COMET ERROR: File could not be uploaded\n",
      " 34%|███▍      | 2167/6300 [19:56<40:51,  1.69it/s, curr_speed=37.06 Mbps, mb_sent=692.67 Mb]COMET ERROR: File could not be uploaded\n",
      " 34%|███▍      | 2169/6300 [19:57<39:12,  1.76it/s, curr_speed=37.07 Mbps, mb_sent=693.45 Mb]COMET ERROR: File could not be uploaded\n",
      " 35%|███▍      | 2187/6300 [20:08<41:23,  1.66it/s, curr_speed=36.83 Mbps, mb_sent=699.99 Mb]COMET ERROR: File could not be uploaded\n",
      "COMET ERROR: File could not be uploaded\n",
      "COMET ERROR: File could not be uploaded\n",
      " 35%|███▍      | 2188/6300 [20:09<42:49,  1.60it/s, curr_speed=36.80 Mbps, mb_sent=700.33 Mb]COMET ERROR: File could not be uploaded\n",
      "COMET ERROR: File could not be uploaded\n",
      "COMET ERROR: File could not be uploaded\n",
      " 35%|███▍      | 2195/6300 [20:13<40:11,  1.70it/s, curr_speed=36.41 Mbps, mb_sent=702.74 Mb]COMET ERROR: File could not be uploaded\n",
      " 35%|███▍      | 2196/6300 [20:14<41:39,  1.64it/s, curr_speed=36.41 Mbps, mb_sent=703.12 Mb]COMET ERROR: File could not be uploaded\n",
      " 35%|███▍      | 2197/6300 [20:15<45:19,  1.51it/s, curr_speed=36.48 Mbps, mb_sent=703.53 Mb]COMET ERROR: File could not be uploaded\n",
      " 35%|███▍      | 2199/6300 [20:16<43:40,  1.57it/s, curr_speed=36.40 Mbps, mb_sent=704.60 Mb]COMET ERROR: File could not be uploaded\n",
      " 35%|███▌      | 2215/6300 [20:26<43:22,  1.57it/s, curr_speed=36.46 Mbps, mb_sent=710.17 Mb]COMET ERROR: File could not be uploaded\n",
      " 35%|███▌      | 2226/6300 [20:33<40:22,  1.68it/s, curr_speed=36.71 Mbps, mb_sent=714.32 Mb]COMET ERROR: File could not be uploaded\n",
      " 35%|███▌      | 2232/6300 [20:37<44:19,  1.53it/s, curr_speed=36.73 Mbps, mb_sent=716.57 Mb]COMET ERROR: File could not be uploaded\n",
      " 36%|███▌      | 2240/6300 [20:41<39:22,  1.72it/s, curr_speed=36.80 Mbps, mb_sent=719.56 Mb]COMET ERROR: File could not be uploaded\n",
      " 36%|███▌      | 2245/6300 [20:44<36:31,  1.85it/s, curr_speed=36.78 Mbps, mb_sent=721.47 Mb]COMET ERROR: File could not be uploaded\n",
      " 36%|███▌      | 2252/6300 [20:48<40:27,  1.67it/s, curr_speed=36.84 Mbps, mb_sent=723.97 Mb]COMET ERROR: File could not be uploaded\n",
      " 36%|███▌      | 2260/6300 [20:52<39:54,  1.69it/s, curr_speed=36.71 Mbps, mb_sent=726.80 Mb]COMET ERROR: File could not be uploaded\n",
      " 36%|███▌      | 2263/6300 [20:54<39:32,  1.70it/s, curr_speed=36.67 Mbps, mb_sent=727.90 Mb]COMET ERROR: File could not be uploaded\n",
      " 36%|███▌      | 2281/6300 [21:05<39:15,  1.71it/s, curr_speed=36.99 Mbps, mb_sent=734.67 Mb]COMET ERROR: File could not be uploaded\n",
      " 36%|███▋      | 2284/6300 [21:07<35:04,  1.91it/s, curr_speed=36.85 Mbps, mb_sent=736.11 Mb]COMET ERROR: File could not be uploaded\n",
      " 36%|███▋      | 2287/6300 [21:08<34:52,  1.92it/s, curr_speed=36.84 Mbps, mb_sent=736.83 Mb]COMET ERROR: File could not be uploaded\n",
      " 36%|███▋      | 2298/6300 [21:14<34:21,  1.94it/s, curr_speed=37.07 Mbps, mb_sent=740.95 Mb]COMET ERROR: File could not be uploaded\n",
      " 36%|███▋      | 2299/6300 [21:14<35:17,  1.89it/s, curr_speed=37.04 Mbps, mb_sent=741.33 Mb]COMET ERROR: File could not be uploaded\n",
      " 37%|███▋      | 2300/6300 [21:15<38:45,  1.72it/s, curr_speed=37.08 Mbps, mb_sent=741.68 Mb]COMET ERROR: File could not be uploaded\n",
      " 37%|███▋      | 2311/6300 [21:21<33:27,  1.99it/s, curr_speed=37.25 Mbps, mb_sent=745.81 Mb]COMET ERROR: File could not be uploaded\n",
      " 37%|███▋      | 2313/6300 [21:22<44:53,  1.48it/s, curr_speed=37.17 Mbps, mb_sent=746.54 Mb]COMET ERROR: File could not be uploaded\n",
      " 37%|███▋      | 2317/6300 [21:25<38:56,  1.70it/s, curr_speed=37.08 Mbps, mb_sent=748.04 Mb]COMET ERROR: File could not be uploaded\n",
      " 37%|███▋      | 2320/6300 [21:26<37:23,  1.77it/s, curr_speed=37.12 Mbps, mb_sent=749.16 Mb]COMET ERROR: File could not be uploaded\n",
      " 37%|███▋      | 2321/6300 [21:27<39:46,  1.67it/s, curr_speed=37.09 Mbps, mb_sent=749.54 Mb]COMET ERROR: File could not be uploaded\n",
      " 37%|███▋      | 2331/6300 [21:34<48:57,  1.35it/s, curr_speed=37.13 Mbps, mb_sent=753.33 Mb]COMET ERROR: File could not be uploaded\n",
      " 37%|███▋      | 2335/6300 [21:37<42:22,  1.56it/s, curr_speed=37.12 Mbps, mb_sent=754.82 Mb]COMET ERROR: File could not be uploaded\n",
      " 37%|███▋      | 2338/6300 [21:39<42:20,  1.56it/s, curr_speed=37.10 Mbps, mb_sent=755.90 Mb]COMET ERROR: File could not be uploaded\n",
      "COMET ERROR: File could not be uploaded\n",
      " 38%|███▊      | 2363/6300 [21:51<33:21,  1.97it/s, curr_speed=36.69 Mbps, mb_sent=764.59 Mb]COMET ERROR: File could not be uploaded\n",
      " 38%|███▊      | 2364/6300 [21:52<41:36,  1.58it/s, curr_speed=36.71 Mbps, mb_sent=764.99 Mb]COMET ERROR: File could not be uploaded\n",
      "COMET ERROR: File could not be uploaded\n",
      "COMET ERROR: File could not be uploaded\n",
      "COMET ERROR: File could not be uploaded\n",
      " 38%|███▊      | 2375/6300 [21:58<40:02,  1.63it/s, curr_speed=36.75 Mbps, mb_sent=769.29 Mb]COMET ERROR: File could not be uploaded\n",
      " 38%|███▊      | 2376/6300 [21:59<38:14,  1.71it/s, curr_speed=36.83 Mbps, mb_sent=769.71 Mb]COMET ERROR: File could not be uploaded\n",
      " 38%|███▊      | 2389/6300 [22:07<42:26,  1.54it/s, curr_speed=36.79 Mbps, mb_sent=774.39 Mb]COMET ERROR: File could not be uploaded\n",
      " 38%|███▊      | 2415/6300 [22:22<40:21,  1.60it/s, curr_speed=36.88 Mbps, mb_sent=784.13 Mb]COMET ERROR: File could not be uploaded\n",
      "COMET ERROR: File could not be uploaded\n",
      "COMET ERROR: File could not be uploaded\n",
      "COMET ERROR: File could not be uploaded\n",
      "COMET ERROR: File could not be uploaded\n",
      " 38%|███▊      | 2420/6300 [22:25<36:35,  1.77it/s, curr_speed=36.71 Mbps, mb_sent=785.87 Mb]COMET ERROR: File could not be uploaded\n",
      " 38%|███▊      | 2421/6300 [22:25<36:37,  1.77it/s, curr_speed=36.70 Mbps, mb_sent=786.24 Mb]COMET ERROR: File could not be uploaded\n",
      " 39%|███▊      | 2427/6300 [22:29<34:23,  1.88it/s, curr_speed=36.87 Mbps, mb_sent=788.57 Mb]COMET ERROR: File could not be uploaded\n",
      " 39%|███▊      | 2428/6300 [22:29<34:27,  1.87it/s, curr_speed=36.85 Mbps, mb_sent=788.94 Mb]COMET ERROR: File could not be uploaded\n",
      " 39%|███▊      | 2430/6300 [22:30<37:29,  1.72it/s, curr_speed=36.74 Mbps, mb_sent=789.69 Mb]COMET ERROR: File could not be uploaded\n",
      " 39%|███▊      | 2432/6300 [22:32<40:06,  1.61it/s, curr_speed=36.71 Mbps, mb_sent=790.39 Mb]COMET ERROR: File could not be uploaded\n",
      " 39%|███▊      | 2436/6300 [22:34<33:24,  1.93it/s, curr_speed=36.71 Mbps, mb_sent=791.91 Mb]COMET ERROR: File could not be uploaded\n",
      " 39%|███▊      | 2437/6300 [22:34<31:04,  2.07it/s, curr_speed=36.70 Mbps, mb_sent=792.26 Mb]COMET ERROR: File could not be uploaded\n",
      " 39%|███▉      | 2445/6300 [22:39<34:58,  1.84it/s, curr_speed=36.69 Mbps, mb_sent=795.13 Mb]COMET ERROR: File could not be uploaded\n",
      " 39%|███▉      | 2451/6300 [22:42<40:32,  1.58it/s, curr_speed=37.05 Mbps, mb_sent=797.42 Mb]COMET ERROR: File could not be uploaded\n",
      " 39%|███▉      | 2455/6300 [22:44<34:37,  1.85it/s, curr_speed=37.06 Mbps, mb_sent=798.92 Mb]COMET ERROR: File could not be uploaded\n",
      " 39%|███▉      | 2459/6300 [22:47<37:27,  1.71it/s, curr_speed=37.32 Mbps, mb_sent=800.45 Mb]COMET ERROR: File could not be uploaded\n",
      " 39%|███▉      | 2470/6300 [22:53<38:14,  1.67it/s, curr_speed=37.14 Mbps, mb_sent=804.42 Mb]COMET ERROR: File could not be uploaded\n",
      " 39%|███▉      | 2476/6300 [22:57<36:15,  1.76it/s, curr_speed=36.97 Mbps, mb_sent=806.68 Mb]COMET ERROR: File could not be uploaded\n",
      " 39%|███▉      | 2478/6300 [22:58<35:17,  1.80it/s, curr_speed=37.03 Mbps, mb_sent=807.44 Mb]COMET ERROR: File could not be uploaded\n",
      " 39%|███▉      | 2482/6300 [23:00<35:00,  1.82it/s, curr_speed=37.06 Mbps, mb_sent=808.97 Mb]COMET ERROR: File could not be uploaded\n",
      " 40%|███▉      | 2497/6300 [23:06<27:41,  2.29it/s, curr_speed=37.10 Mbps, mb_sent=814.60 Mb]COMET ERROR: File could not be uploaded\n",
      " 40%|███▉      | 2503/6300 [23:09<32:45,  1.93it/s, curr_speed=37.25 Mbps, mb_sent=816.92 Mb]COMET ERROR: File could not be uploaded\n"
     ]
    },
    {
     "name": "stderr",
     "output_type": "stream",
     "text": [
      " 40%|███▉      | 2505/6300 [23:10<33:45,  1.87it/s, curr_speed=37.15 Mbps, mb_sent=817.59 Mb]COMET ERROR: File could not be uploaded\n",
      " 40%|███▉      | 2509/6300 [23:13<36:56,  1.71it/s, curr_speed=37.19 Mbps, mb_sent=819.09 Mb]COMET ERROR: File could not be uploaded\n",
      " 40%|███▉      | 2512/6300 [23:15<42:04,  1.50it/s, curr_speed=37.12 Mbps, mb_sent=820.16 Mb]COMET ERROR: File could not be uploaded\n",
      " 40%|███▉      | 2519/6300 [23:19<33:54,  1.86it/s, curr_speed=37.18 Mbps, mb_sent=822.68 Mb]COMET ERROR: File could not be uploaded\n",
      " 50%|█████     | 3164/6300 [29:22<25:16,  2.07it/s, curr_speed=36.62 Mbps, mb_sent=1060.95 Mb]COMET ERROR: File could not be uploaded\n",
      "COMET ERROR: File could not be uploaded\n",
      "COMET ERROR: File could not be uploaded\n",
      "COMET ERROR: File could not be uploaded\n",
      " 50%|█████     | 3165/6300 [29:23<26:02,  2.01it/s, curr_speed=36.67 Mbps, mb_sent=1061.35 Mb]COMET ERROR: File could not be uploaded\n",
      " 62%|██████▏   | 3933/6300 [36:39<22:00,  1.79it/s, curr_speed=36.51 Mbps, mb_sent=1344.62 Mb]COMET ERROR: File could not be uploaded\n",
      "COMET ERROR: File could not be uploaded\n",
      " 62%|██████▏   | 3937/6300 [36:42<25:00,  1.57it/s, curr_speed=36.47 Mbps, mb_sent=1346.10 Mb]COMET ERROR: File could not be uploaded\n",
      " 63%|██████▎   | 3939/6300 [36:43<23:25,  1.68it/s, curr_speed=36.49 Mbps, mb_sent=1346.89 Mb]COMET ERROR: File could not be uploaded\n",
      " 63%|██████▎   | 3952/6300 [36:50<22:30,  1.74it/s, curr_speed=36.48 Mbps, mb_sent=1351.59 Mb]COMET ERROR: File could not be uploaded\n",
      " 63%|██████▎   | 3956/6300 [36:52<22:47,  1.71it/s, curr_speed=36.58 Mbps, mb_sent=1353.13 Mb]COMET ERROR: File could not be uploaded\n",
      " 63%|██████▎   | 3960/6300 [36:54<23:51,  1.63it/s, curr_speed=36.57 Mbps, mb_sent=1354.64 Mb]COMET ERROR: File could not be uploaded\n",
      " 63%|██████▎   | 3971/6300 [37:00<21:54,  1.77it/s, curr_speed=36.69 Mbps, mb_sent=1358.71 Mb]COMET ERROR: File could not be uploaded\n",
      " 63%|██████▎   | 3982/6300 [37:07<22:57,  1.68it/s, curr_speed=36.95 Mbps, mb_sent=1362.86 Mb]COMET ERROR: File could not be uploaded\n",
      " 63%|██████▎   | 3983/6300 [37:07<23:30,  1.64it/s, curr_speed=37.00 Mbps, mb_sent=1363.27 Mb]COMET ERROR: File could not be uploaded\n",
      "COMET ERROR: File could not be uploaded\n",
      " 63%|██████▎   | 3990/6300 [37:11<21:11,  1.82it/s, curr_speed=37.04 Mbps, mb_sent=1365.88 Mb]COMET ERROR: File could not be uploaded\n",
      " 63%|██████▎   | 3997/6300 [37:15<20:45,  1.85it/s, curr_speed=37.10 Mbps, mb_sent=1368.56 Mb]COMET ERROR: File could not be uploaded\n",
      " 63%|██████▎   | 4000/6300 [37:16<17:58,  2.13it/s, curr_speed=37.04 Mbps, mb_sent=1369.60 Mb]COMET ERROR: File could not be uploaded\n",
      " 64%|██████▎   | 4001/6300 [37:17<17:18,  2.21it/s, curr_speed=37.05 Mbps, mb_sent=1369.99 Mb]COMET ERROR: File could not be uploaded\n",
      " 64%|██████▎   | 4014/6300 [37:23<18:34,  2.05it/s, curr_speed=37.17 Mbps, mb_sent=1374.88 Mb]COMET ERROR: File could not be uploaded\n",
      " 64%|██████▍   | 4022/6300 [37:27<19:15,  1.97it/s, curr_speed=37.24 Mbps, mb_sent=1377.89 Mb]COMET ERROR: File could not be uploaded\n",
      " 64%|██████▍   | 4030/6300 [37:31<20:26,  1.85it/s, curr_speed=37.48 Mbps, mb_sent=1381.08 Mb]COMET ERROR: File could not be uploaded\n",
      " 64%|██████▍   | 4033/6300 [37:33<19:20,  1.95it/s, curr_speed=37.43 Mbps, mb_sent=1382.05 Mb]COMET ERROR: File could not be uploaded\n",
      " 68%|██████▊   | 4284/6300 [39:58<19:12,  1.75it/s, curr_speed=36.87 Mbps, mb_sent=1475.52 Mb]COMET ERROR: File could not be uploaded\n",
      " 68%|██████▊   | 4285/6300 [39:58<17:33,  1.91it/s, curr_speed=36.84 Mbps, mb_sent=1475.90 Mb]COMET ERROR: File could not be uploaded\n",
      "COMET ERROR: File could not be uploaded\n",
      " 68%|██████▊   | 4286/6300 [39:59<16:45,  2.00it/s, curr_speed=36.87 Mbps, mb_sent=1476.26 Mb]COMET ERROR: File could not be uploaded\n",
      " 68%|██████▊   | 4290/6300 [40:01<17:39,  1.90it/s, curr_speed=36.86 Mbps, mb_sent=1477.76 Mb]COMET ERROR: File could not be uploaded\n",
      " 68%|██████▊   | 4291/6300 [40:02<19:05,  1.75it/s, curr_speed=36.88 Mbps, mb_sent=1478.15 Mb]COMET ERROR: File could not be uploaded\n",
      " 68%|██████▊   | 4306/6300 [40:11<19:19,  1.72it/s, curr_speed=37.23 Mbps, mb_sent=1483.89 Mb]COMET ERROR: File could not be uploaded\n",
      " 68%|██████▊   | 4312/6300 [40:14<18:05,  1.83it/s, curr_speed=37.33 Mbps, mb_sent=1486.10 Mb]COMET ERROR: File could not be uploaded\n",
      " 69%|██████▉   | 4353/6300 [40:38<19:55,  1.63it/s, curr_speed=37.80 Mbps, mb_sent=1501.77 Mb]COMET ERROR: File could not be uploaded\n",
      "COMET ERROR: File could not be uploaded\n",
      "COMET ERROR: File could not be uploaded\n",
      " 69%|██████▉   | 4354/6300 [40:38<20:31,  1.58it/s, curr_speed=37.66 Mbps, mb_sent=1502.03 Mb]COMET ERROR: File could not be uploaded\n",
      "COMET ERROR: File could not be uploaded\n",
      "COMET ERROR: File could not be uploaded\n",
      " 69%|██████▉   | 4356/6300 [40:40<22:13,  1.46it/s, curr_speed=37.59 Mbps, mb_sent=1502.75 Mb]COMET ERROR: File could not be uploaded\n",
      " 69%|██████▉   | 4362/6300 [40:43<19:21,  1.67it/s, curr_speed=37.73 Mbps, mb_sent=1504.96 Mb]COMET ERROR: File could not be uploaded\n",
      " 69%|██████▉   | 4367/6300 [40:47<21:00,  1.53it/s, curr_speed=37.69 Mbps, mb_sent=1506.78 Mb]COMET ERROR: File could not be uploaded\n",
      " 69%|██████▉   | 4368/6300 [40:48<21:55,  1.47it/s, curr_speed=37.70 Mbps, mb_sent=1507.14 Mb]COMET ERROR: File could not be uploaded\n",
      " 69%|██████▉   | 4371/6300 [40:50<21:00,  1.53it/s, curr_speed=37.73 Mbps, mb_sent=1508.30 Mb]COMET ERROR: File could not be uploaded\n",
      " 69%|██████▉   | 4372/6300 [40:50<20:43,  1.55it/s, curr_speed=37.74 Mbps, mb_sent=1508.67 Mb]COMET ERROR: File could not be uploaded\n",
      " 70%|██████▉   | 4380/6300 [40:55<19:53,  1.61it/s, curr_speed=37.78 Mbps, mb_sent=1511.69 Mb]COMET ERROR: File could not be uploaded\n",
      " 70%|██████▉   | 4388/6300 [40:59<15:38,  2.04it/s, curr_speed=37.69 Mbps, mb_sent=1514.65 Mb]COMET ERROR: File could not be uploaded\n",
      " 70%|██████▉   | 4392/6300 [41:02<18:51,  1.69it/s, curr_speed=37.45 Mbps, mb_sent=1516.02 Mb]COMET ERROR: File could not be uploaded\n",
      " 70%|██████▉   | 4399/6300 [41:06<19:44,  1.60it/s, curr_speed=37.32 Mbps, mb_sent=1518.56 Mb]COMET ERROR: File could not be uploaded\n",
      " 74%|███████▍  | 4683/6300 [43:52<16:35,  1.62it/s, curr_speed=37.21 Mbps, mb_sent=1624.26 Mb]COMET ERROR: File could not be uploaded\n",
      " 74%|███████▍  | 4684/6300 [43:53<17:37,  1.53it/s, curr_speed=37.25 Mbps, mb_sent=1624.66 Mb]COMET ERROR: File could not be uploaded\n",
      " 74%|███████▍  | 4685/6300 [43:53<15:45,  1.71it/s, curr_speed=37.27 Mbps, mb_sent=1625.06 Mb]COMET ERROR: File could not be uploaded\n",
      " 74%|███████▍  | 4686/6300 [43:54<15:22,  1.75it/s, curr_speed=37.36 Mbps, mb_sent=1625.51 Mb]COMET ERROR: File could not be uploaded\n",
      " 75%|███████▍  | 4698/6300 [43:59<12:50,  2.08it/s, curr_speed=37.32 Mbps, mb_sent=1629.91 Mb]COMET ERROR: File could not be uploaded\n",
      " 75%|███████▍  | 4707/6300 [44:04<14:30,  1.83it/s, curr_speed=37.33 Mbps, mb_sent=1633.32 Mb]COMET ERROR: File could not be uploaded\n",
      " 75%|███████▍  | 4716/6300 [44:09<13:13,  2.00it/s, curr_speed=37.15 Mbps, mb_sent=1636.62 Mb]COMET ERROR: File could not be uploaded\n",
      " 75%|███████▍  | 4724/6300 [44:13<15:21,  1.71it/s, curr_speed=37.13 Mbps, mb_sent=1639.54 Mb]COMET ERROR: File could not be uploaded\n",
      " 75%|███████▌  | 4726/6300 [44:16<25:07,  1.04it/s, curr_speed=37.16 Mbps, mb_sent=1640.33 Mb]COMET ERROR: File could not be uploaded\n",
      " 75%|███████▌  | 4728/6300 [44:17<20:04,  1.31it/s, curr_speed=37.16 Mbps, mb_sent=1640.97 Mb]COMET ERROR: File could not be uploaded\n",
      " 75%|███████▌  | 4736/6300 [44:22<16:41,  1.56it/s, curr_speed=37.05 Mbps, mb_sent=1643.83 Mb]COMET ERROR: File could not be uploaded\n",
      " 76%|███████▌  | 4778/6300 [44:44<13:00,  1.95it/s, curr_speed=36.87 Mbps, mb_sent=1659.32 Mb]COMET ERROR: File could not be uploaded\n",
      "COMET ERROR: File could not be uploaded\n",
      "COMET ERROR: File could not be uploaded\n",
      "COMET ERROR: File could not be uploaded\n",
      "COMET ERROR: File could not be uploaded\n",
      "COMET ERROR: File could not be uploaded\n",
      "COMET ERROR: File could not be uploaded\n",
      "COMET ERROR: File could not be uploaded\n",
      " 76%|███████▌  | 4781/6300 [44:47<18:22,  1.38it/s, curr_speed=36.85 Mbps, mb_sent=1660.45 Mb]COMET ERROR: File could not be uploaded\n",
      " 76%|███████▌  | 4799/6300 [44:57<13:21,  1.87it/s, curr_speed=36.85 Mbps, mb_sent=1667.15 Mb]COMET ERROR: File could not be uploaded\n",
      " 76%|███████▌  | 4802/6300 [44:58<14:46,  1.69it/s, curr_speed=36.81 Mbps, mb_sent=1668.31 Mb]COMET ERROR: File could not be uploaded\n",
      " 76%|███████▋  | 4805/6300 [45:00<14:27,  1.72it/s, curr_speed=36.74 Mbps, mb_sent=1669.39 Mb]COMET ERROR: File could not be uploaded\n",
      " 76%|███████▋  | 4809/6300 [45:02<13:33,  1.83it/s, curr_speed=36.95 Mbps, mb_sent=1670.97 Mb]COMET ERROR: File could not be uploaded\n",
      " 77%|███████▋  | 4830/6300 [45:15<14:43,  1.66it/s, curr_speed=37.04 Mbps, mb_sent=1678.70 Mb]COMET ERROR: File could not be uploaded\n",
      "COMET ERROR: File could not be uploaded\n",
      " 77%|███████▋  | 4831/6300 [45:15<13:53,  1.76it/s, curr_speed=37.04 Mbps, mb_sent=1679.06 Mb]COMET ERROR: File could not be uploaded\n",
      "COMET ERROR: File could not be uploaded\n",
      "COMET ERROR: File could not be uploaded\n",
      " 77%|███████▋  | 4836/6300 [45:18<13:55,  1.75it/s, curr_speed=37.08 Mbps, mb_sent=1680.91 Mb]COMET ERROR: File could not be uploaded\n",
      " 77%|███████▋  | 4841/6300 [45:21<14:04,  1.73it/s, curr_speed=37.13 Mbps, mb_sent=1682.81 Mb]COMET ERROR: File could not be uploaded\n",
      " 77%|███████▋  | 4843/6300 [45:22<13:58,  1.74it/s, curr_speed=37.08 Mbps, mb_sent=1683.51 Mb]COMET ERROR: File could not be uploaded\n",
      " 77%|███████▋  | 4844/6300 [45:23<13:39,  1.78it/s, curr_speed=37.14 Mbps, mb_sent=1683.89 Mb]COMET ERROR: File could not be uploaded\n",
      " 77%|███████▋  | 4848/6300 [45:25<13:03,  1.85it/s, curr_speed=37.00 Mbps, mb_sent=1685.22 Mb]COMET ERROR: File could not be uploaded\n",
      " 77%|███████▋  | 4862/6300 [45:34<14:08,  1.69it/s, curr_speed=37.22 Mbps, mb_sent=1690.56 Mb]COMET ERROR: File could not be uploaded\n",
      " 77%|███████▋  | 4870/6300 [45:38<12:15,  1.94it/s, curr_speed=37.06 Mbps, mb_sent=1693.49 Mb]COMET ERROR: File could not be uploaded\n",
      " 77%|███████▋  | 4877/6300 [45:41<13:07,  1.81it/s, curr_speed=36.95 Mbps, mb_sent=1695.84 Mb]COMET ERROR: File could not be uploaded\n",
      " 78%|███████▊  | 4901/6300 [45:55<12:22,  1.89it/s, curr_speed=36.90 Mbps, mb_sent=1704.84 Mb]COMET ERROR: File could not be uploaded\n",
      " 78%|███████▊  | 4902/6300 [45:55<12:01,  1.94it/s, curr_speed=36.89 Mbps, mb_sent=1705.20 Mb]COMET ERROR: File could not be uploaded\n",
      "COMET ERROR: File could not be uploaded\n",
      "COMET ERROR: File could not be uploaded\n",
      "COMET ERROR: File could not be uploaded\n",
      "COMET ERROR: File could not be uploaded\n",
      " 78%|███████▊  | 4903/6300 [45:56<13:01,  1.79it/s, curr_speed=36.90 Mbps, mb_sent=1705.58 Mb]COMET ERROR: File could not be uploaded\n",
      " 78%|███████▊  | 4905/6300 [45:57<14:19,  1.62it/s, curr_speed=36.90 Mbps, mb_sent=1706.30 Mb]COMET ERROR: File could not be uploaded\n",
      " 78%|███████▊  | 4908/6300 [45:59<14:05,  1.65it/s, curr_speed=36.74 Mbps, mb_sent=1707.33 Mb]COMET ERROR: File could not be uploaded\n",
      " 78%|███████▊  | 4909/6300 [46:00<14:04,  1.65it/s, curr_speed=36.74 Mbps, mb_sent=1707.71 Mb]COMET ERROR: File could not be uploaded\n",
      " 78%|███████▊  | 4911/6300 [46:01<14:53,  1.55it/s, curr_speed=36.78 Mbps, mb_sent=1708.50 Mb]COMET ERROR: File could not be uploaded\n",
      " 78%|███████▊  | 4912/6300 [46:01<14:18,  1.62it/s, curr_speed=36.78 Mbps, mb_sent=1708.88 Mb]COMET ERROR: File could not be uploaded\n",
      " 78%|███████▊  | 4917/6300 [46:04<12:12,  1.89it/s, curr_speed=36.97 Mbps, mb_sent=1710.71 Mb]COMET ERROR: File could not be uploaded\n",
      " 78%|███████▊  | 4919/6300 [46:05<12:35,  1.83it/s, curr_speed=36.98 Mbps, mb_sent=1711.46 Mb]COMET ERROR: File could not be uploaded\n",
      " 78%|███████▊  | 4921/6300 [46:07<13:28,  1.71it/s, curr_speed=36.97 Mbps, mb_sent=1712.24 Mb]COMET ERROR: File could not be uploaded\n",
      " 78%|███████▊  | 4924/6300 [46:08<13:19,  1.72it/s, curr_speed=36.97 Mbps, mb_sent=1713.36 Mb]COMET ERROR: File could not be uploaded\n",
      " 78%|███████▊  | 4930/6300 [46:12<12:08,  1.88it/s, curr_speed=36.90 Mbps, mb_sent=1715.60 Mb]COMET ERROR: File could not be uploaded\n",
      " 78%|███████▊  | 4934/6300 [46:14<12:39,  1.80it/s, curr_speed=36.81 Mbps, mb_sent=1717.00 Mb]COMET ERROR: File could not be uploaded\n",
      " 79%|███████▊  | 4949/6300 [46:23<13:11,  1.71it/s, curr_speed=37.18 Mbps, mb_sent=1722.82 Mb]COMET ERROR: File could not be uploaded\n",
      " 79%|███████▊  | 4958/6300 [46:28<15:19,  1.46it/s, curr_speed=36.97 Mbps, mb_sent=1726.07 Mb]COMET ERROR: File could not be uploaded\n",
      " 79%|███████▉  | 4962/6300 [46:31<13:23,  1.67it/s, curr_speed=36.89 Mbps, mb_sent=1727.45 Mb]COMET ERROR: File could not be uploaded\n",
      " 79%|███████▉  | 4967/6300 [46:33<10:56,  2.03it/s, curr_speed=36.93 Mbps, mb_sent=1729.31 Mb]COMET ERROR: File could not be uploaded\n",
      " 79%|███████▉  | 4975/6300 [46:37<12:00,  1.84it/s, curr_speed=37.24 Mbps, mb_sent=1732.33 Mb]COMET ERROR: File could not be uploaded\n",
      " 79%|███████▉  | 4976/6300 [46:38<11:49,  1.87it/s, curr_speed=37.29 Mbps, mb_sent=1732.75 Mb]COMET ERROR: File could not be uploaded\n",
      " 79%|███████▉  | 4977/6300 [46:39<11:54,  1.85it/s, curr_speed=37.29 Mbps, mb_sent=1733.14 Mb]COMET ERROR: File could not be uploaded\n",
      " 79%|███████▉  | 4979/6300 [46:40<12:13,  1.80it/s, curr_speed=37.23 Mbps, mb_sent=1733.82 Mb]COMET ERROR: File could not be uploaded\n",
      " 79%|███████▉  | 4982/6300 [46:41<11:13,  1.96it/s, curr_speed=37.37 Mbps, mb_sent=1734.97 Mb]COMET ERROR: File could not be uploaded\n",
      " 79%|███████▉  | 4988/6300 [46:44<11:41,  1.87it/s, curr_speed=37.36 Mbps, mb_sent=1737.15 Mb]COMET ERROR: File could not be uploaded\n",
      " 79%|███████▉  | 4989/6300 [46:45<11:21,  1.92it/s, curr_speed=37.35 Mbps, mb_sent=1737.57 Mb]COMET ERROR: File could not be uploaded\n",
      " 80%|███████▉  | 5011/6300 [46:57<10:57,  1.96it/s, curr_speed=37.28 Mbps, mb_sent=1745.78 Mb]COMET ERROR: File could not be uploaded\n",
      "COMET ERROR: File could not be uploaded\n",
      " 80%|███████▉  | 5037/6300 [47:10<13:46,  1.53it/s, curr_speed=37.00 Mbps, mb_sent=1755.11 Mb]COMET ERROR: File could not be uploaded\n",
      "100%|██████████| 6300/6300 [59:08<00:00,  1.78it/s, curr_speed=37.36 Mbps, mb_sent=2224.02 Mb]\n"
     ]
    },
    {
     "name": "stdout",
     "output_type": "stream",
     "text": [
      "Waiting for simulation script to connect on port: tcp://localhost:37165\n",
      "Please start proper ns-3 simulation script using ./waf --run \"...\"\n",
      "Waf: Entering directory `/home/samuel/ns-allinone-3.29/ns-3.29/build'\n",
      "Waf: Leaving directory `/home/samuel/ns-allinone-3.29/ns-3.29/build'\n",
      "Build commands will be stored in build/compile_commands.json\n",
      "'build' finished successfully (3.413s)\n"
     ]
    },
    {
     "name": "stderr",
     "output_type": "stream",
     "text": [
      "Ns3Env parameters:\n",
      "--nWifi: 15\n",
      "--simulationTime: 60\n",
      "--openGymPort: 37165\n",
      "--envStepTime: 0.01\n",
      "--seed: 42\n",
      "--agentType: discrete\n",
      "--scenario: basic\n",
      "--dryRun: 0\n",
      "Simulation started\n",
      "Simulation process id: 1928764 (parent (waf shell) id: 1928725)\n",
      "Waiting for Python process to connect on port: tcp://localhost:37165\n",
      "Please start proper Python Gym Agent\n",
      "  0%|          | 0/6300 [00:00<?, ?it/s]"
     ]
    },
    {
     "name": "stdout",
     "output_type": "stream",
     "text": [
      "Sent 2224.02 Mb/s.\tMean speed: 37.07 Mb/s\tEpisode 5/15 finished\n",
      "\n",
      "5\n"
     ]
    },
    {
     "name": "stderr",
     "output_type": "stream",
     "text": [
      "100%|██████████| 6300/6300 [58:42<00:00,  1.79it/s, curr_speed=37.51 Mbps, mb_sent=2232.33 Mb]\n"
     ]
    },
    {
     "name": "stdout",
     "output_type": "stream",
     "text": [
      "Waiting for simulation script to connect on port: tcp://localhost:22537\n",
      "Please start proper ns-3 simulation script using ./waf --run \"...\"\n",
      "Waf: Entering directory `/home/samuel/ns-allinone-3.29/ns-3.29/build'\n",
      "Waf: Leaving directory `/home/samuel/ns-allinone-3.29/ns-3.29/build'\n",
      "Build commands will be stored in build/compile_commands.json\n",
      "'build' finished successfully (2.964s)\n"
     ]
    },
    {
     "name": "stderr",
     "output_type": "stream",
     "text": [
      "Ns3Env parameters:\n",
      "--nWifi: 15\n",
      "--simulationTime: 60\n",
      "--openGymPort: 22537\n",
      "--envStepTime: 0.01\n",
      "--seed: 42\n",
      "--agentType: discrete\n",
      "--scenario: basic\n",
      "--dryRun: 0\n",
      "Simulation started\n",
      "Simulation process id: 1958131 (parent (waf shell) id: 1958099)\n",
      "Waiting for Python process to connect on port: tcp://localhost:22537\n",
      "Please start proper Python Gym Agent\n",
      "  0%|          | 0/6300 [00:00<?, ?it/s]"
     ]
    },
    {
     "name": "stdout",
     "output_type": "stream",
     "text": [
      "Sent 2232.33 Mb/s.\tMean speed: 37.21 Mb/s\tEpisode 6/15 finished\n",
      "\n",
      "6\n"
     ]
    },
    {
     "name": "stderr",
     "output_type": "stream",
     "text": [
      "100%|██████████| 6300/6300 [58:24<00:00,  1.80it/s, curr_speed=36.07 Mbps, mb_sent=2248.95 Mb]\n"
     ]
    },
    {
     "name": "stdout",
     "output_type": "stream",
     "text": [
      "Waiting for simulation script to connect on port: tcp://localhost:49310\n",
      "Please start proper ns-3 simulation script using ./waf --run \"...\"\n",
      "Waf: Entering directory `/home/samuel/ns-allinone-3.29/ns-3.29/build'\n",
      "Waf: Leaving directory `/home/samuel/ns-allinone-3.29/ns-3.29/build'\n",
      "Build commands will be stored in build/compile_commands.json\n",
      "'build' finished successfully (3.634s)\n"
     ]
    },
    {
     "name": "stderr",
     "output_type": "stream",
     "text": [
      "Ns3Env parameters:\n",
      "--nWifi: 15\n",
      "--simulationTime: 60\n",
      "--openGymPort: 49310\n",
      "--envStepTime: 0.01\n",
      "--seed: 42\n",
      "--agentType: discrete\n",
      "--scenario: basic\n",
      "--dryRun: 0\n",
      "Simulation started\n",
      "Simulation process id: 1987855 (parent (waf shell) id: 1987813)\n",
      "Waiting for Python process to connect on port: tcp://localhost:49310\n",
      "Please start proper Python Gym Agent\n",
      "  0%|          | 0/6300 [00:00<?, ?it/s]"
     ]
    },
    {
     "name": "stdout",
     "output_type": "stream",
     "text": [
      "Sent 2248.95 Mb/s.\tMean speed: 37.48 Mb/s\tEpisode 7/15 finished\n",
      "\n",
      "7\n"
     ]
    },
    {
     "name": "stderr",
     "output_type": "stream",
     "text": [
      "100%|██████████| 6300/6300 [55:40<00:00,  1.89it/s, curr_speed=37.55 Mbps, mb_sent=2246.36 Mb]\n"
     ]
    },
    {
     "name": "stdout",
     "output_type": "stream",
     "text": [
      "Waiting for simulation script to connect on port: tcp://localhost:40146\n",
      "Please start proper ns-3 simulation script using ./waf --run \"...\"\n",
      "Waf: Entering directory `/home/samuel/ns-allinone-3.29/ns-3.29/build'\n",
      "Waf: Leaving directory `/home/samuel/ns-allinone-3.29/ns-3.29/build'\n",
      "Build commands will be stored in build/compile_commands.json\n",
      "'build' finished successfully (3.014s)\n"
     ]
    },
    {
     "name": "stderr",
     "output_type": "stream",
     "text": [
      "Ns3Env parameters:\n",
      "--nWifi: 15\n",
      "--simulationTime: 60\n",
      "--openGymPort: 40146\n",
      "--envStepTime: 0.01\n",
      "--seed: 42\n",
      "--agentType: discrete\n",
      "--scenario: basic\n",
      "--dryRun: 0\n",
      "Simulation started\n",
      "Simulation process id: 2012211 (parent (waf shell) id: 2012184)\n",
      "Waiting for Python process to connect on port: tcp://localhost:40146\n",
      "Please start proper Python Gym Agent\n",
      "  0%|          | 0/6300 [00:00<?, ?it/s]"
     ]
    },
    {
     "name": "stdout",
     "output_type": "stream",
     "text": [
      "Sent 2246.36 Mb/s.\tMean speed: 37.44 Mb/s\tEpisode 8/15 finished\n",
      "\n",
      "8\n"
     ]
    },
    {
     "name": "stderr",
     "output_type": "stream",
     "text": [
      "100%|██████████| 6300/6300 [52:47<00:00,  1.99it/s, curr_speed=38.04 Mbps, mb_sent=2252.14 Mb]\n"
     ]
    },
    {
     "name": "stdout",
     "output_type": "stream",
     "text": [
      "Waiting for simulation script to connect on port: tcp://localhost:33958\n",
      "Please start proper ns-3 simulation script using ./waf --run \"...\"\n",
      "Waf: Entering directory `/home/samuel/ns-allinone-3.29/ns-3.29/build'\n",
      "Waf: Leaving directory `/home/samuel/ns-allinone-3.29/ns-3.29/build'\n",
      "Build commands will be stored in build/compile_commands.json\n",
      "'build' finished successfully (3.003s)\n"
     ]
    },
    {
     "name": "stderr",
     "output_type": "stream",
     "text": [
      "Ns3Env parameters:\n",
      "--nWifi: 15\n",
      "--simulationTime: 60\n",
      "--openGymPort: 33958\n",
      "--envStepTime: 0.01\n",
      "--seed: 42\n",
      "--agentType: discrete\n",
      "--scenario: basic\n",
      "--dryRun: 0\n",
      "Simulation started\n",
      "Simulation process id: 2029707 (parent (waf shell) id: 2029686)\n",
      "Waiting for Python process to connect on port: tcp://localhost:33958\n",
      "Please start proper Python Gym Agent\n",
      "  0%|          | 0/6300 [00:00<?, ?it/s]"
     ]
    },
    {
     "name": "stdout",
     "output_type": "stream",
     "text": [
      "Sent 2252.14 Mb/s.\tMean speed: 37.54 Mb/s\tEpisode 9/15 finished\n",
      "\n",
      "9\n"
     ]
    },
    {
     "name": "stderr",
     "output_type": "stream",
     "text": [
      "100%|██████████| 6300/6300 [52:34<00:00,  2.00it/s, curr_speed=37.37 Mbps, mb_sent=2252.06 Mb]\n"
     ]
    },
    {
     "name": "stdout",
     "output_type": "stream",
     "text": [
      "Waiting for simulation script to connect on port: tcp://localhost:36863\n",
      "Please start proper ns-3 simulation script using ./waf --run \"...\"\n",
      "Waf: Entering directory `/home/samuel/ns-allinone-3.29/ns-3.29/build'\n",
      "Waf: Leaving directory `/home/samuel/ns-allinone-3.29/ns-3.29/build'\n",
      "Build commands will be stored in build/compile_commands.json\n",
      "'build' finished successfully (3.267s)\n"
     ]
    },
    {
     "name": "stderr",
     "output_type": "stream",
     "text": [
      "Ns3Env parameters:\n",
      "--nWifi: 15\n",
      "--simulationTime: 60\n",
      "--openGymPort: 36863\n",
      "--envStepTime: 0.01\n",
      "--seed: 42\n",
      "--agentType: discrete\n",
      "--scenario: basic\n",
      "--dryRun: 0\n",
      "Simulation started\n",
      "Simulation process id: 2047153 (parent (waf shell) id: 2047122)\n",
      "Waiting for Python process to connect on port: tcp://localhost:36863\n",
      "Please start proper Python Gym Agent\n",
      "  0%|          | 0/6300 [00:00<?, ?it/s]"
     ]
    },
    {
     "name": "stdout",
     "output_type": "stream",
     "text": [
      "Sent 2252.06 Mb/s.\tMean speed: 37.53 Mb/s\tEpisode 10/15 finished\n",
      "\n",
      "10\n"
     ]
    },
    {
     "name": "stderr",
     "output_type": "stream",
     "text": [
      "100%|██████████| 6300/6300 [52:40<00:00,  1.99it/s, curr_speed=38.20 Mbps, mb_sent=2258.85 Mb]\n"
     ]
    },
    {
     "name": "stdout",
     "output_type": "stream",
     "text": [
      "Waiting for simulation script to connect on port: tcp://localhost:39731\n",
      "Please start proper ns-3 simulation script using ./waf --run \"...\"\n",
      "Waf: Entering directory `/home/samuel/ns-allinone-3.29/ns-3.29/build'\n",
      "Waf: Leaving directory `/home/samuel/ns-allinone-3.29/ns-3.29/build'\n",
      "Build commands will be stored in build/compile_commands.json\n",
      "'build' finished successfully (3.033s)\n"
     ]
    },
    {
     "name": "stderr",
     "output_type": "stream",
     "text": [
      "Ns3Env parameters:\n",
      "--nWifi: 15\n",
      "--simulationTime: 60\n",
      "--openGymPort: 39731\n",
      "--envStepTime: 0.01\n",
      "--seed: 42\n",
      "--agentType: discrete\n",
      "--scenario: basic\n",
      "--dryRun: 0\n",
      "Simulation started\n",
      "Simulation process id: 2064524 (parent (waf shell) id: 2064499)\n",
      "Waiting for Python process to connect on port: tcp://localhost:39731\n",
      "Please start proper Python Gym Agent\n",
      "  0%|          | 0/6300 [00:00<?, ?it/s]"
     ]
    },
    {
     "name": "stdout",
     "output_type": "stream",
     "text": [
      "Sent 2258.85 Mb/s.\tMean speed: 37.65 Mb/s\tEpisode 11/15 finished\n",
      "\n",
      "11\n"
     ]
    },
    {
     "name": "stderr",
     "output_type": "stream",
     "text": [
      "100%|██████████| 6300/6300 [52:32<00:00,  2.00it/s, curr_speed=37.82 Mbps, mb_sent=2261.10 Mb]\n"
     ]
    },
    {
     "name": "stdout",
     "output_type": "stream",
     "text": [
      "Waiting for simulation script to connect on port: tcp://localhost:45574\n",
      "Please start proper ns-3 simulation script using ./waf --run \"...\"\n",
      "Waf: Entering directory `/home/samuel/ns-allinone-3.29/ns-3.29/build'\n",
      "Waf: Leaving directory `/home/samuel/ns-allinone-3.29/ns-3.29/build'\n",
      "Build commands will be stored in build/compile_commands.json\n",
      "'build' finished successfully (2.856s)\n"
     ]
    },
    {
     "name": "stderr",
     "output_type": "stream",
     "text": [
      "Ns3Env parameters:\n",
      "--nWifi: 15\n",
      "--simulationTime: 60\n",
      "--openGymPort: 45574\n",
      "--envStepTime: 0.01\n",
      "--seed: 42\n",
      "--agentType: discrete\n",
      "--scenario: basic\n",
      "--dryRun: 0\n",
      "Simulation started\n"
     ]
    },
    {
     "name": "stdout",
     "output_type": "stream",
     "text": [
      "WARNING:tensorflow:From /home/samuel/anaconda3/envs/myEnv3_7/lib/python3.7/site-packages/tensorflow/python/training/saver.py:960: remove_checkpoint (from tensorflow.python.training.checkpoint_management) is deprecated and will be removed in a future version.\n",
      "Instructions for updating:\n",
      "Use standard file APIs to delete files with this prefix.\n"
     ]
    },
    {
     "name": "stderr",
     "output_type": "stream",
     "text": [
      "Simulation process id: 2081831 (parent (waf shell) id: 2081804)\n",
      "Waiting for Python process to connect on port: tcp://localhost:45574\n",
      "Please start proper Python Gym Agent\n",
      "  0%|          | 0/6300 [00:00<?, ?it/s]"
     ]
    },
    {
     "name": "stdout",
     "output_type": "stream",
     "text": [
      "Sent 2261.10 Mb/s.\tMean speed: 37.68 Mb/s\tEpisode 12/15 finished\n",
      "\n",
      "12\n",
      "Turning off noise\n"
     ]
    },
    {
     "name": "stderr",
     "output_type": "stream",
     "text": [
      "100%|██████████| 6300/6300 [52:40<00:00,  1.99it/s, curr_speed=37.74 Mbps, mb_sent=2262.44 Mb]\n"
     ]
    },
    {
     "name": "stdout",
     "output_type": "stream",
     "text": [
      "Waiting for simulation script to connect on port: tcp://localhost:40250\n",
      "Please start proper ns-3 simulation script using ./waf --run \"...\"\n",
      "Waf: Entering directory `/home/samuel/ns-allinone-3.29/ns-3.29/build'\n",
      "Waf: Leaving directory `/home/samuel/ns-allinone-3.29/ns-3.29/build'\n",
      "Build commands will be stored in build/compile_commands.json\n",
      "'build' finished successfully (3.194s)\n"
     ]
    },
    {
     "name": "stderr",
     "output_type": "stream",
     "text": [
      "Ns3Env parameters:\n",
      "--nWifi: 15\n",
      "--simulationTime: 60\n",
      "--openGymPort: 40250\n",
      "--envStepTime: 0.01\n",
      "--seed: 42\n",
      "--agentType: discrete\n",
      "--scenario: basic\n",
      "--dryRun: 0\n",
      "Simulation started\n",
      "Simulation process id: 2099261 (parent (waf shell) id: 2099236)\n",
      "Waiting for Python process to connect on port: tcp://localhost:40250\n",
      "Please start proper Python Gym Agent\n",
      "  0%|          | 0/6300 [00:00<?, ?it/s]"
     ]
    },
    {
     "name": "stdout",
     "output_type": "stream",
     "text": [
      "Sent 2262.44 Mb/s.\tMean speed: 37.71 Mb/s\tEpisode 13/15 finished\n",
      "\n",
      "13\n",
      "Turning off noise\n"
     ]
    },
    {
     "name": "stderr",
     "output_type": "stream",
     "text": [
      "100%|██████████| 6300/6300 [58:06<00:00,  1.81it/s, curr_speed=37.48 Mbps, mb_sent=2257.39 Mb]\n"
     ]
    },
    {
     "name": "stdout",
     "output_type": "stream",
     "text": [
      "Waiting for simulation script to connect on port: tcp://localhost:52172\n",
      "Please start proper ns-3 simulation script using ./waf --run \"...\"\n",
      "Waf: Entering directory `/home/samuel/ns-allinone-3.29/ns-3.29/build'\n",
      "Waf: Leaving directory `/home/samuel/ns-allinone-3.29/ns-3.29/build'\n",
      "Build commands will be stored in build/compile_commands.json\n",
      "'build' finished successfully (3.461s)\n"
     ]
    },
    {
     "name": "stderr",
     "output_type": "stream",
     "text": [
      "Ns3Env parameters:\n",
      "--nWifi: 15\n",
      "--simulationTime: 60\n",
      "--openGymPort: 52172\n",
      "--envStepTime: 0.01\n",
      "--seed: 42\n",
      "--agentType: discrete\n",
      "--scenario: basic\n",
      "--dryRun: 0\n",
      "Simulation started\n",
      "Simulation process id: 2117871 (parent (waf shell) id: 2117845)\n",
      "Waiting for Python process to connect on port: tcp://localhost:52172\n",
      "Please start proper Python Gym Agent\n",
      "  0%|          | 0/6300 [00:00<?, ?it/s]"
     ]
    },
    {
     "name": "stdout",
     "output_type": "stream",
     "text": [
      "Sent 2257.39 Mb/s.\tMean speed: 37.62 Mb/s\tEpisode 14/15 finished\n",
      "\n",
      "14\n",
      "Turning off noise\n"
     ]
    },
    {
     "name": "stderr",
     "output_type": "stream",
     "text": [
      "100%|██████████| 6300/6300 [56:45<00:00,  1.85it/s, curr_speed=37.79 Mbps, mb_sent=2264.33 Mb]\n"
     ]
    },
    {
     "name": "stdout",
     "output_type": "stream",
     "text": [
      "Waiting for simulation script to connect on port: tcp://localhost:45054\n",
      "Please start proper ns-3 simulation script using ./waf --run \"...\"\n",
      "Waf: Entering directory `/home/samuel/ns-allinone-3.29/ns-3.29/build'\n",
      "Waf: Leaving directory `/home/samuel/ns-allinone-3.29/ns-3.29/build'\n",
      "Build commands will be stored in build/compile_commands.json\n",
      "'build' finished successfully (3.202s)\n"
     ]
    },
    {
     "name": "stderr",
     "output_type": "stream",
     "text": [
      "Ns3Env parameters:\n",
      "--nWifi: 15\n",
      "--simulationTime: 60\n",
      "--openGymPort: 45054\n",
      "--envStepTime: 0.01\n",
      "--seed: 42\n",
      "--agentType: discrete\n",
      "--scenario: basic\n",
      "--dryRun: 0\n",
      "Simulation started\n",
      "Simulation process id: 2135656 (parent (waf shell) id: 2135630)\n",
      "Waiting for Python process to connect on port: tcp://localhost:45054\n",
      "Please start proper Python Gym Agent\n",
      "COMET INFO: ----------------------------\n",
      "COMET INFO: Comet.ml Experiment Summary:\n",
      "COMET INFO:   Data:\n",
      "COMET INFO:     url: https://www.comet.com/sheila-janota/rl-in-wifi-with-queue-level/4a17686428394544a1cf7c4a6588cf1f\n",
      "COMET INFO:   Metrics [count] (min, max):\n",
      "COMET INFO:     Chosen CW [89985]           : (16.0, 1024.0)\n",
      "COMET INFO:     Cumulative reward [15]      : (2419.552490234375, 3168.947021484375)\n",
      "COMET INFO:     Current throughput [89985]  : (17.8264217376709, 71.40618133544922)\n",
      "COMET INFO:     Fairness index [89985]      : (nan, nan)\n",
      "COMET INFO:     Megabytes sent [89985]      : (0.2680659890174866, 2264.334484770894)\n",
      "COMET INFO:     Observation 0 [89985]       : (0.933199997941653, 0.9343750000000001)\n",
      "COMET INFO:     Observation 1 [89985]       : (0.023857994791088133, 0.02734541622692193)\n",
      "COMET INFO:     Per-ep reward [89985]       : (124.814697265625, 3168.947021484375)\n",
      "COMET INFO:     Round megabytes sent [89985]: (0.06701699644327164, 11.85076904296875)\n",
      "COMET INFO:     Round reward [89985]        : (0.08935546875, 0.789306640625)\n",
      "COMET INFO:     Speed [15]                  : (32.07023744123678, 37.7389080795149)\n",
      "COMET INFO:     Station count [89985]       : (15.0, 15.0)\n",
      "COMET INFO:     loss [89985]                : (0.0, 0.18058627098798752)\n",
      "COMET INFO:   Uploads:\n",
      "COMET INFO:     histogram3d: 89985\n",
      "COMET INFO: ----------------------------\n"
     ]
    },
    {
     "name": "stdout",
     "output_type": "stream",
     "text": [
      "Sent 2264.33 Mb/s.\tMean speed: 37.74 Mb/s\tEpisode 15/15 finished\n",
      "\n"
     ]
    },
    {
     "name": "stderr",
     "output_type": "stream",
     "text": [
      "COMET INFO: Uploading stats to Comet before program termination (may take several seconds)\n"
     ]
    },
    {
     "name": "stdout",
     "output_type": "stream",
     "text": [
      "Training finished.\n"
     ]
    }
   ],
   "source": [
    "#%%\n",
    "teacher = Teacher(env, 1, Preprocessor(False))\n",
    "\n",
    "lr = 4e-4\n",
    "config = Config(buffer_size=3*steps_per_ep*threads_no, batch_size=32, gamma=0.7, tau=1e-3, lr=lr, update_every=1)\n",
    "agent = Agent(QNetworkTf, history_length, action_size=7, config=config)\n",
    "agent.set_epsilon(0.9, 0.001, EPISODE_COUNT-2)\n",
    "\n",
    "# Test the model\n",
    "hyperparams = {**config.__dict__, **sim_args}\n",
    "tags = [\"Rew: normalized speed\",\n",
    "        \"Final\",\n",
    "        f\"{Agent.NAME}\",\n",
    "        sim_args['scenario'],\n",
    "        f\"LR: {lr}\",\n",
    "        f\"Instances: {threads_no}\",\n",
    "        f\"Station count: {sim_args['nWifi']}\",\n",
    "        *[f\"{key}: {sim_args[key]}\" for key in list(sim_args)[:3]]]\n",
    "# # agent.save()\n",
    "logger = teacher.train(agent, EPISODE_COUNT,\n",
    "                        simTime=simTime,\n",
    "                        stepTime=stepTime,\n",
    "                        history_length=history_length,\n",
    "                        send_logs=True,\n",
    "                        experimental=True,\n",
    "                        tags=tags,\n",
    "                        parameters=hyperparams)\n",
    "#logger = teacher.eval(agent,\n",
    "#                        simTime=simTime,\n",
    "#                        stepTime=stepTime,\n",
    "#                        history_length=history_length,\n",
    "#                        tags=tags,\n",
    "#                        parameters=hyperparams)\n",
    "# agent.save()\n",
    "\n",
    "\n",
    "# %%"
   ]
  },
  {
   "cell_type": "code",
   "execution_count": null,
   "id": "db250890",
   "metadata": {},
   "outputs": [],
   "source": []
  },
  {
   "cell_type": "markdown",
   "id": "cf95fa0c",
   "metadata": {},
   "source": [
    "# Execution num4:"
   ]
  },
  {
   "cell_type": "code",
   "execution_count": 1,
   "id": "0a110eae",
   "metadata": {},
   "outputs": [
    {
     "name": "stderr",
     "output_type": "stream",
     "text": [
      "/home/samuel/anaconda3/envs/myEnv3_7/lib/python3.7/site-packages/tensorflow/python/framework/dtypes.py:516: FutureWarning: Passing (type, 1) or '1type' as a synonym of type is deprecated; in a future version of numpy, it will be understood as (type, (1,)) / '(1,)type'.\n",
      "  _np_qint8 = np.dtype([(\"qint8\", np.int8, 1)])\n",
      "/home/samuel/anaconda3/envs/myEnv3_7/lib/python3.7/site-packages/tensorflow/python/framework/dtypes.py:517: FutureWarning: Passing (type, 1) or '1type' as a synonym of type is deprecated; in a future version of numpy, it will be understood as (type, (1,)) / '(1,)type'.\n",
      "  _np_quint8 = np.dtype([(\"quint8\", np.uint8, 1)])\n",
      "/home/samuel/anaconda3/envs/myEnv3_7/lib/python3.7/site-packages/tensorflow/python/framework/dtypes.py:518: FutureWarning: Passing (type, 1) or '1type' as a synonym of type is deprecated; in a future version of numpy, it will be understood as (type, (1,)) / '(1,)type'.\n",
      "  _np_qint16 = np.dtype([(\"qint16\", np.int16, 1)])\n",
      "/home/samuel/anaconda3/envs/myEnv3_7/lib/python3.7/site-packages/tensorflow/python/framework/dtypes.py:519: FutureWarning: Passing (type, 1) or '1type' as a synonym of type is deprecated; in a future version of numpy, it will be understood as (type, (1,)) / '(1,)type'.\n",
      "  _np_quint16 = np.dtype([(\"quint16\", np.uint16, 1)])\n",
      "/home/samuel/anaconda3/envs/myEnv3_7/lib/python3.7/site-packages/tensorflow/python/framework/dtypes.py:520: FutureWarning: Passing (type, 1) or '1type' as a synonym of type is deprecated; in a future version of numpy, it will be understood as (type, (1,)) / '(1,)type'.\n",
      "  _np_qint32 = np.dtype([(\"qint32\", np.int32, 1)])\n",
      "/home/samuel/anaconda3/envs/myEnv3_7/lib/python3.7/site-packages/tensorflow/python/framework/dtypes.py:525: FutureWarning: Passing (type, 1) or '1type' as a synonym of type is deprecated; in a future version of numpy, it will be understood as (type, (1,)) / '(1,)type'.\n",
      "  np_resource = np.dtype([(\"resource\", np.ubyte, 1)])\n",
      "/home/samuel/anaconda3/envs/myEnv3_7/lib/python3.7/site-packages/tensorboard/compat/tensorflow_stub/dtypes.py:541: FutureWarning: Passing (type, 1) or '1type' as a synonym of type is deprecated; in a future version of numpy, it will be understood as (type, (1,)) / '(1,)type'.\n",
      "  _np_qint8 = np.dtype([(\"qint8\", np.int8, 1)])\n",
      "/home/samuel/anaconda3/envs/myEnv3_7/lib/python3.7/site-packages/tensorboard/compat/tensorflow_stub/dtypes.py:542: FutureWarning: Passing (type, 1) or '1type' as a synonym of type is deprecated; in a future version of numpy, it will be understood as (type, (1,)) / '(1,)type'.\n",
      "  _np_quint8 = np.dtype([(\"quint8\", np.uint8, 1)])\n",
      "/home/samuel/anaconda3/envs/myEnv3_7/lib/python3.7/site-packages/tensorboard/compat/tensorflow_stub/dtypes.py:543: FutureWarning: Passing (type, 1) or '1type' as a synonym of type is deprecated; in a future version of numpy, it will be understood as (type, (1,)) / '(1,)type'.\n",
      "  _np_qint16 = np.dtype([(\"qint16\", np.int16, 1)])\n",
      "/home/samuel/anaconda3/envs/myEnv3_7/lib/python3.7/site-packages/tensorboard/compat/tensorflow_stub/dtypes.py:544: FutureWarning: Passing (type, 1) or '1type' as a synonym of type is deprecated; in a future version of numpy, it will be understood as (type, (1,)) / '(1,)type'.\n",
      "  _np_quint16 = np.dtype([(\"quint16\", np.uint16, 1)])\n",
      "/home/samuel/anaconda3/envs/myEnv3_7/lib/python3.7/site-packages/tensorboard/compat/tensorflow_stub/dtypes.py:545: FutureWarning: Passing (type, 1) or '1type' as a synonym of type is deprecated; in a future version of numpy, it will be understood as (type, (1,)) / '(1,)type'.\n",
      "  _np_qint32 = np.dtype([(\"qint32\", np.int32, 1)])\n",
      "/home/samuel/anaconda3/envs/myEnv3_7/lib/python3.7/site-packages/tensorboard/compat/tensorflow_stub/dtypes.py:550: FutureWarning: Passing (type, 1) or '1type' as a synonym of type is deprecated; in a future version of numpy, it will be understood as (type, (1,)) / '(1,)type'.\n",
      "  np_resource = np.dtype([(\"resource\", np.ubyte, 1)])\n"
     ]
    }
   ],
   "source": [
    "#%%\n",
    "from ns3gym import ns3env\n",
    "from comet_ml import Experiment, Optimizer\n",
    "import tqdm\n",
    "import subprocess\n",
    "from collections import deque\n",
    "import numpy as np\n",
    "\n",
    "from agents.dqn.agent import Agent, Config\n",
    "from agents.dqn.model import QNetworkTf\n",
    "from agents.teacher import Teacher, EnvWrapper\n",
    "from preprocessor import Preprocessor"
   ]
  },
  {
   "cell_type": "code",
   "execution_count": 2,
   "id": "d78cb241",
   "metadata": {},
   "outputs": [
    {
     "name": "stdout",
     "output_type": "stream",
     "text": [
      "Steps per episode: 6000\n",
      "Waiting for simulation script to connect on port: tcp://localhost:26442\n",
      "Please start proper ns-3 simulation script using ./waf --run \"...\"\n",
      "Waf: Entering directory `/home/samuel/ns-allinone-3.29/ns-3.29/build'\n",
      "Waf: Leaving directory `/home/samuel/ns-allinone-3.29/ns-3.29/build'\n",
      "Build commands will be stored in build/compile_commands.json\n",
      "'build' finished successfully (2.851s)\n"
     ]
    },
    {
     "name": "stderr",
     "output_type": "stream",
     "text": [
      "Ns3Env parameters:\n",
      "--nWifi: 15\n",
      "--simulationTime: 60\n",
      "--openGymPort: 26442\n",
      "--envStepTime: 0.01\n",
      "--seed: 42\n",
      "--agentType: discrete\n",
      "--scenario: basic\n",
      "--dryRun: 0\n",
      "Simulation started\n"
     ]
    },
    {
     "name": "stdout",
     "output_type": "stream",
     "text": [
      "Observation space shape: (1, 300)\n",
      "Action space shape: (1, 1)\n"
     ]
    },
    {
     "name": "stderr",
     "output_type": "stream",
     "text": [
      "Simulation process id: 1780891 (parent (waf shell) id: 1780869)\n",
      "Waiting for Python process to connect on port: tcp://localhost:26442\n",
      "Please start proper Python Gym Agent\n"
     ]
    }
   ],
   "source": [
    "#%%\n",
    "scenario = \"basic\"\n",
    "\n",
    "simTime = 60 # seconds\n",
    "stepTime = 0.01  # seconds\n",
    "history_length = 300\n",
    "\n",
    "EPISODE_COUNT = 15\n",
    "steps_per_ep = int(simTime/stepTime)\n",
    "\n",
    "sim_args = {\n",
    "    \"simTime\": simTime,\n",
    "    \"envStepTime\": stepTime,\n",
    "    \"historyLength\": history_length,\n",
    "    \"agentType\": Agent.TYPE,\n",
    "    \"scenario\": \"basic\",\n",
    "    \"nWifi\": 15,\n",
    "}\n",
    "\n",
    "print(\"Steps per episode:\", steps_per_ep)\n",
    "\n",
    "threads_no = 1\n",
    "env = EnvWrapper(threads_no, **sim_args)\n",
    "\n",
    "#%%\n",
    "env.reset()\n",
    "ob_space = env.observation_space\n",
    "ac_space = env.action_space\n",
    "\n",
    "print(\"Observation space shape:\", ob_space)\n",
    "print(\"Action space shape:\", ac_space)\n",
    "\n",
    "assert ob_space is not None"
   ]
  },
  {
   "cell_type": "code",
   "execution_count": 3,
   "id": "35cd55c0",
   "metadata": {},
   "outputs": [
    {
     "name": "stdout",
     "output_type": "stream",
     "text": [
      "WARNING:tensorflow:From /home/samuel/ns-allinone-3.29/ns-3.29/scratch/RLinWiFi-master-original-queue-level-mean/agents/dqn/agent.py:53: The name tf.Session is deprecated. Please use tf.compat.v1.Session instead.\n",
      "\n",
      "WARNING:tensorflow:From /home/samuel/ns-allinone-3.29/ns-3.29/scratch/RLinWiFi-master-original-queue-level-mean/agents/dqn/model.py:25: The name tf.variable_scope is deprecated. Please use tf.compat.v1.variable_scope instead.\n",
      "\n",
      "WARNING:tensorflow:From /home/samuel/ns-allinone-3.29/ns-3.29/scratch/RLinWiFi-master-original-queue-level-mean/agents/dqn/model.py:26: The name tf.placeholder is deprecated. Please use tf.compat.v1.placeholder instead.\n",
      "\n"
     ]
    },
    {
     "name": "stderr",
     "output_type": "stream",
     "text": [
      "2023-02-14 14:39:50.382489: I tensorflow/core/platform/cpu_feature_guard.cc:142] Your CPU supports instructions that this TensorFlow binary was not compiled to use: AVX2 FMA\n",
      "2023-02-14 14:39:50.403949: I tensorflow/core/platform/profile_utils/cpu_utils.cc:94] CPU Frequency: 3491795000 Hz\n",
      "2023-02-14 14:39:50.404599: I tensorflow/compiler/xla/service/service.cc:168] XLA service 0x56008cb52690 executing computations on platform Host. Devices:\n",
      "2023-02-14 14:39:50.404617: I tensorflow/compiler/xla/service/service.cc:175]   StreamExecutor device (0): <undefined>, <undefined>\n"
     ]
    },
    {
     "name": "stdout",
     "output_type": "stream",
     "text": [
      "WARNING:tensorflow:\n",
      "The TensorFlow contrib module will not be included in TensorFlow 2.0.\n",
      "For more information, please see:\n",
      "  * https://github.com/tensorflow/community/blob/master/rfcs/20180907-contrib-sunset.md\n",
      "  * https://github.com/tensorflow/addons\n",
      "  * https://github.com/tensorflow/io (for I/O related ops)\n",
      "If you depend on functionality not listed there, please file an issue.\n",
      "\n",
      "WARNING:tensorflow:From /home/samuel/ns-allinone-3.29/ns-3.29/scratch/RLinWiFi-master-original-queue-level-mean/agents/dqn/model.py:52: LSTMCell.__init__ (from tensorflow.python.ops.rnn_cell_impl) is deprecated and will be removed in a future version.\n",
      "Instructions for updating:\n",
      "This class is equivalent as tf.keras.layers.LSTMCell, and will be replaced by that in Tensorflow 2.0.\n",
      "WARNING:tensorflow:From /home/samuel/ns-allinone-3.29/ns-3.29/scratch/RLinWiFi-master-original-queue-level-mean/agents/dqn/model.py:52: static_rnn (from tensorflow.python.ops.rnn) is deprecated and will be removed in a future version.\n",
      "Instructions for updating:\n",
      "Please use `keras.layers.RNN(cell, unroll=True)`, which is equivalent to this API\n",
      "WARNING:tensorflow:From /home/samuel/anaconda3/envs/myEnv3_7/lib/python3.7/site-packages/tensorflow/python/ops/init_ops.py:1251: calling VarianceScaling.__init__ (from tensorflow.python.ops.init_ops) with dtype is deprecated and will be removed in a future version.\n",
      "Instructions for updating:\n",
      "Call initializer instance with the dtype argument instead of passing it to the constructor\n",
      "WARNING:tensorflow:From /home/samuel/anaconda3/envs/myEnv3_7/lib/python3.7/site-packages/tensorflow/python/ops/rnn_cell_impl.py:961: calling Zeros.__init__ (from tensorflow.python.ops.init_ops) with dtype is deprecated and will be removed in a future version.\n",
      "Instructions for updating:\n",
      "Call initializer instance with the dtype argument instead of passing it to the constructor\n",
      "WARNING:tensorflow:Entity <bound method LSTMCell.call of <tensorflow.python.ops.rnn_cell_impl.LSTMCell object at 0x7fb75e1ada50>> could not be transformed and will be executed as-is. Please report this to the AutgoGraph team. When filing the bug, set the verbosity to 10 (on Linux, `export AUTOGRAPH_VERBOSITY=10`) and attach the full output. Cause: converting <bound method LSTMCell.call of <tensorflow.python.ops.rnn_cell_impl.LSTMCell object at 0x7fb75e1ada50>>: AttributeError: module 'gast' has no attribute 'Index'\n",
      "WARNING: Entity <bound method LSTMCell.call of <tensorflow.python.ops.rnn_cell_impl.LSTMCell object at 0x7fb75e1ada50>> could not be transformed and will be executed as-is. Please report this to the AutgoGraph team. When filing the bug, set the verbosity to 10 (on Linux, `export AUTOGRAPH_VERBOSITY=10`) and attach the full output. Cause: converting <bound method LSTMCell.call of <tensorflow.python.ops.rnn_cell_impl.LSTMCell object at 0x7fb75e1ada50>>: AttributeError: module 'gast' has no attribute 'Index'\n",
      "WARNING:tensorflow:Entity <bound method LSTMCell.call of <tensorflow.python.ops.rnn_cell_impl.LSTMCell object at 0x7fb75e1ada50>> could not be transformed and will be executed as-is. Please report this to the AutgoGraph team. When filing the bug, set the verbosity to 10 (on Linux, `export AUTOGRAPH_VERBOSITY=10`) and attach the full output. Cause: converting <bound method LSTMCell.call of <tensorflow.python.ops.rnn_cell_impl.LSTMCell object at 0x7fb75e1ada50>>: AttributeError: module 'gast' has no attribute 'Index'\n",
      "WARNING: Entity <bound method LSTMCell.call of <tensorflow.python.ops.rnn_cell_impl.LSTMCell object at 0x7fb75e1ada50>> could not be transformed and will be executed as-is. Please report this to the AutgoGraph team. When filing the bug, set the verbosity to 10 (on Linux, `export AUTOGRAPH_VERBOSITY=10`) and attach the full output. Cause: converting <bound method LSTMCell.call of <tensorflow.python.ops.rnn_cell_impl.LSTMCell object at 0x7fb75e1ada50>>: AttributeError: module 'gast' has no attribute 'Index'\n",
      "WARNING:tensorflow:Entity <bound method LSTMCell.call of <tensorflow.python.ops.rnn_cell_impl.LSTMCell object at 0x7fb75e1ada50>> could not be transformed and will be executed as-is. Please report this to the AutgoGraph team. When filing the bug, set the verbosity to 10 (on Linux, `export AUTOGRAPH_VERBOSITY=10`) and attach the full output. Cause: converting <bound method LSTMCell.call of <tensorflow.python.ops.rnn_cell_impl.LSTMCell object at 0x7fb75e1ada50>>: AttributeError: module 'gast' has no attribute 'Index'\n",
      "WARNING: Entity <bound method LSTMCell.call of <tensorflow.python.ops.rnn_cell_impl.LSTMCell object at 0x7fb75e1ada50>> could not be transformed and will be executed as-is. Please report this to the AutgoGraph team. When filing the bug, set the verbosity to 10 (on Linux, `export AUTOGRAPH_VERBOSITY=10`) and attach the full output. Cause: converting <bound method LSTMCell.call of <tensorflow.python.ops.rnn_cell_impl.LSTMCell object at 0x7fb75e1ada50>>: AttributeError: module 'gast' has no attribute 'Index'\n",
      "WARNING:tensorflow:Entity <bound method LSTMCell.call of <tensorflow.python.ops.rnn_cell_impl.LSTMCell object at 0x7fb75e1ada50>> could not be transformed and will be executed as-is. Please report this to the AutgoGraph team. When filing the bug, set the verbosity to 10 (on Linux, `export AUTOGRAPH_VERBOSITY=10`) and attach the full output. Cause: converting <bound method LSTMCell.call of <tensorflow.python.ops.rnn_cell_impl.LSTMCell object at 0x7fb75e1ada50>>: AttributeError: module 'gast' has no attribute 'Index'\n",
      "WARNING: Entity <bound method LSTMCell.call of <tensorflow.python.ops.rnn_cell_impl.LSTMCell object at 0x7fb75e1ada50>> could not be transformed and will be executed as-is. Please report this to the AutgoGraph team. When filing the bug, set the verbosity to 10 (on Linux, `export AUTOGRAPH_VERBOSITY=10`) and attach the full output. Cause: converting <bound method LSTMCell.call of <tensorflow.python.ops.rnn_cell_impl.LSTMCell object at 0x7fb75e1ada50>>: AttributeError: module 'gast' has no attribute 'Index'\n",
      "WARNING:tensorflow:From /home/samuel/ns-allinone-3.29/ns-3.29/scratch/RLinWiFi-master-original-queue-level-mean/agents/dqn/model.py:53: dense (from tensorflow.python.layers.core) is deprecated and will be removed in a future version.\n",
      "Instructions for updating:\n",
      "Use keras.layers.dense instead.\n",
      "WARNING:tensorflow:Entity <bound method Dense.call of <tensorflow.python.layers.core.Dense object at 0x7fb75e1ada50>> could not be transformed and will be executed as-is. Please report this to the AutgoGraph team. When filing the bug, set the verbosity to 10 (on Linux, `export AUTOGRAPH_VERBOSITY=10`) and attach the full output. Cause: converting <bound method Dense.call of <tensorflow.python.layers.core.Dense object at 0x7fb75e1ada50>>: AttributeError: module 'gast' has no attribute 'Index'\n",
      "WARNING: Entity <bound method Dense.call of <tensorflow.python.layers.core.Dense object at 0x7fb75e1ada50>> could not be transformed and will be executed as-is. Please report this to the AutgoGraph team. When filing the bug, set the verbosity to 10 (on Linux, `export AUTOGRAPH_VERBOSITY=10`) and attach the full output. Cause: converting <bound method Dense.call of <tensorflow.python.layers.core.Dense object at 0x7fb75e1ada50>>: AttributeError: module 'gast' has no attribute 'Index'\n",
      "WARNING:tensorflow:Entity <bound method Dense.call of <tensorflow.python.layers.core.Dense object at 0x7fb75e1ada50>> could not be transformed and will be executed as-is. Please report this to the AutgoGraph team. When filing the bug, set the verbosity to 10 (on Linux, `export AUTOGRAPH_VERBOSITY=10`) and attach the full output. Cause: converting <bound method Dense.call of <tensorflow.python.layers.core.Dense object at 0x7fb75e1ada50>>: AttributeError: module 'gast' has no attribute 'Index'\n",
      "WARNING: Entity <bound method Dense.call of <tensorflow.python.layers.core.Dense object at 0x7fb75e1ada50>> could not be transformed and will be executed as-is. Please report this to the AutgoGraph team. When filing the bug, set the verbosity to 10 (on Linux, `export AUTOGRAPH_VERBOSITY=10`) and attach the full output. Cause: converting <bound method Dense.call of <tensorflow.python.layers.core.Dense object at 0x7fb75e1ada50>>: AttributeError: module 'gast' has no attribute 'Index'\n"
     ]
    },
    {
     "name": "stdout",
     "output_type": "stream",
     "text": [
      "WARNING:tensorflow:Entity <bound method Dense.call of <tensorflow.python.layers.core.Dense object at 0x7fb75e1ada50>> could not be transformed and will be executed as-is. Please report this to the AutgoGraph team. When filing the bug, set the verbosity to 10 (on Linux, `export AUTOGRAPH_VERBOSITY=10`) and attach the full output. Cause: converting <bound method Dense.call of <tensorflow.python.layers.core.Dense object at 0x7fb75e1ada50>>: AttributeError: module 'gast' has no attribute 'Index'\n",
      "WARNING: Entity <bound method Dense.call of <tensorflow.python.layers.core.Dense object at 0x7fb75e1ada50>> could not be transformed and will be executed as-is. Please report this to the AutgoGraph team. When filing the bug, set the verbosity to 10 (on Linux, `export AUTOGRAPH_VERBOSITY=10`) and attach the full output. Cause: converting <bound method Dense.call of <tensorflow.python.layers.core.Dense object at 0x7fb75e1ada50>>: AttributeError: module 'gast' has no attribute 'Index'\n",
      "WARNING:tensorflow:From /home/samuel/ns-allinone-3.29/ns-3.29/scratch/RLinWiFi-master-original-queue-level-mean/agents/dqn/model.py:69: The name tf.losses.mean_squared_error is deprecated. Please use tf.compat.v1.losses.mean_squared_error instead.\n",
      "\n",
      "WARNING:tensorflow:From /home/samuel/anaconda3/envs/myEnv3_7/lib/python3.7/site-packages/tensorflow/python/ops/losses/losses_impl.py:121: add_dispatch_support.<locals>.wrapper (from tensorflow.python.ops.array_ops) is deprecated and will be removed in a future version.\n",
      "Instructions for updating:\n",
      "Use tf.where in 2.0, which has the same broadcast rule as np.where\n",
      "WARNING:tensorflow:From /home/samuel/ns-allinone-3.29/ns-3.29/scratch/RLinWiFi-master-original-queue-level-mean/agents/dqn/model.py:77: The name tf.train.AdamOptimizer is deprecated. Please use tf.compat.v1.train.AdamOptimizer instead.\n",
      "\n",
      "WARNING:tensorflow:From /home/samuel/ns-allinone-3.29/ns-3.29/scratch/RLinWiFi-master-original-queue-level-mean/agents/dqn/model.py:33: The name tf.global_variables_initializer is deprecated. Please use tf.compat.v1.global_variables_initializer instead.\n",
      "\n",
      "WARNING:tensorflow:From /home/samuel/ns-allinone-3.29/ns-3.29/scratch/RLinWiFi-master-original-queue-level-mean/agents/dqn/model.py:34: The name tf.local_variables_initializer is deprecated. Please use tf.compat.v1.local_variables_initializer instead.\n",
      "\n",
      "WARNING:tensorflow:Entity <bound method LSTMCell.call of <tensorflow.python.ops.rnn_cell_impl.LSTMCell object at 0x7fb6e3b79310>> could not be transformed and will be executed as-is. Please report this to the AutgoGraph team. When filing the bug, set the verbosity to 10 (on Linux, `export AUTOGRAPH_VERBOSITY=10`) and attach the full output. Cause: converting <bound method LSTMCell.call of <tensorflow.python.ops.rnn_cell_impl.LSTMCell object at 0x7fb6e3b79310>>: AttributeError: module 'gast' has no attribute 'Index'\n",
      "WARNING: Entity <bound method LSTMCell.call of <tensorflow.python.ops.rnn_cell_impl.LSTMCell object at 0x7fb6e3b79310>> could not be transformed and will be executed as-is. Please report this to the AutgoGraph team. When filing the bug, set the verbosity to 10 (on Linux, `export AUTOGRAPH_VERBOSITY=10`) and attach the full output. Cause: converting <bound method LSTMCell.call of <tensorflow.python.ops.rnn_cell_impl.LSTMCell object at 0x7fb6e3b79310>>: AttributeError: module 'gast' has no attribute 'Index'\n",
      "WARNING:tensorflow:Entity <bound method LSTMCell.call of <tensorflow.python.ops.rnn_cell_impl.LSTMCell object at 0x7fb6e3b79310>> could not be transformed and will be executed as-is. Please report this to the AutgoGraph team. When filing the bug, set the verbosity to 10 (on Linux, `export AUTOGRAPH_VERBOSITY=10`) and attach the full output. Cause: converting <bound method LSTMCell.call of <tensorflow.python.ops.rnn_cell_impl.LSTMCell object at 0x7fb6e3b79310>>: AttributeError: module 'gast' has no attribute 'Index'\n"
     ]
    },
    {
     "name": "stderr",
     "output_type": "stream",
     "text": [
      "2023-02-14 14:39:52.796873: W tensorflow/compiler/jit/mark_for_compilation_pass.cc:1412] (One-time warning): Not using XLA:CPU for cluster because envvar TF_XLA_FLAGS=--tf_xla_cpu_global_jit was not set.  If you want XLA:CPU, either set that envvar, or use experimental_jit_scope to enable XLA:CPU.  To confirm that XLA is active, pass --vmodule=xla_compilation_cache=1 (as a proper command-line flag, not via TF_XLA_FLAGS) or set the envvar XLA_FLAGS=--xla_hlo_profile.\n"
     ]
    },
    {
     "name": "stdout",
     "output_type": "stream",
     "text": [
      "WARNING: Entity <bound method LSTMCell.call of <tensorflow.python.ops.rnn_cell_impl.LSTMCell object at 0x7fb6e3b79310>> could not be transformed and will be executed as-is. Please report this to the AutgoGraph team. When filing the bug, set the verbosity to 10 (on Linux, `export AUTOGRAPH_VERBOSITY=10`) and attach the full output. Cause: converting <bound method LSTMCell.call of <tensorflow.python.ops.rnn_cell_impl.LSTMCell object at 0x7fb6e3b79310>>: AttributeError: module 'gast' has no attribute 'Index'\n",
      "WARNING:tensorflow:Entity <bound method LSTMCell.call of <tensorflow.python.ops.rnn_cell_impl.LSTMCell object at 0x7fb6e3b79310>> could not be transformed and will be executed as-is. Please report this to the AutgoGraph team. When filing the bug, set the verbosity to 10 (on Linux, `export AUTOGRAPH_VERBOSITY=10`) and attach the full output. Cause: converting <bound method LSTMCell.call of <tensorflow.python.ops.rnn_cell_impl.LSTMCell object at 0x7fb6e3b79310>>: AttributeError: module 'gast' has no attribute 'Index'\n",
      "WARNING: Entity <bound method LSTMCell.call of <tensorflow.python.ops.rnn_cell_impl.LSTMCell object at 0x7fb6e3b79310>> could not be transformed and will be executed as-is. Please report this to the AutgoGraph team. When filing the bug, set the verbosity to 10 (on Linux, `export AUTOGRAPH_VERBOSITY=10`) and attach the full output. Cause: converting <bound method LSTMCell.call of <tensorflow.python.ops.rnn_cell_impl.LSTMCell object at 0x7fb6e3b79310>>: AttributeError: module 'gast' has no attribute 'Index'\n",
      "WARNING:tensorflow:Entity <bound method LSTMCell.call of <tensorflow.python.ops.rnn_cell_impl.LSTMCell object at 0x7fb6e3b79310>> could not be transformed and will be executed as-is. Please report this to the AutgoGraph team. When filing the bug, set the verbosity to 10 (on Linux, `export AUTOGRAPH_VERBOSITY=10`) and attach the full output. Cause: converting <bound method LSTMCell.call of <tensorflow.python.ops.rnn_cell_impl.LSTMCell object at 0x7fb6e3b79310>>: AttributeError: module 'gast' has no attribute 'Index'\n",
      "WARNING: Entity <bound method LSTMCell.call of <tensorflow.python.ops.rnn_cell_impl.LSTMCell object at 0x7fb6e3b79310>> could not be transformed and will be executed as-is. Please report this to the AutgoGraph team. When filing the bug, set the verbosity to 10 (on Linux, `export AUTOGRAPH_VERBOSITY=10`) and attach the full output. Cause: converting <bound method LSTMCell.call of <tensorflow.python.ops.rnn_cell_impl.LSTMCell object at 0x7fb6e3b79310>>: AttributeError: module 'gast' has no attribute 'Index'\n",
      "WARNING:tensorflow:Entity <bound method Dense.call of <tensorflow.python.layers.core.Dense object at 0x7fb6e3b79310>> could not be transformed and will be executed as-is. Please report this to the AutgoGraph team. When filing the bug, set the verbosity to 10 (on Linux, `export AUTOGRAPH_VERBOSITY=10`) and attach the full output. Cause: converting <bound method Dense.call of <tensorflow.python.layers.core.Dense object at 0x7fb6e3b79310>>: AttributeError: module 'gast' has no attribute 'Index'\n",
      "WARNING: Entity <bound method Dense.call of <tensorflow.python.layers.core.Dense object at 0x7fb6e3b79310>> could not be transformed and will be executed as-is. Please report this to the AutgoGraph team. When filing the bug, set the verbosity to 10 (on Linux, `export AUTOGRAPH_VERBOSITY=10`) and attach the full output. Cause: converting <bound method Dense.call of <tensorflow.python.layers.core.Dense object at 0x7fb6e3b79310>>: AttributeError: module 'gast' has no attribute 'Index'\n",
      "WARNING:tensorflow:Entity <bound method Dense.call of <tensorflow.python.layers.core.Dense object at 0x7fb6e3b79310>> could not be transformed and will be executed as-is. Please report this to the AutgoGraph team. When filing the bug, set the verbosity to 10 (on Linux, `export AUTOGRAPH_VERBOSITY=10`) and attach the full output. Cause: converting <bound method Dense.call of <tensorflow.python.layers.core.Dense object at 0x7fb6e3b79310>>: AttributeError: module 'gast' has no attribute 'Index'\n",
      "WARNING: Entity <bound method Dense.call of <tensorflow.python.layers.core.Dense object at 0x7fb6e3b79310>> could not be transformed and will be executed as-is. Please report this to the AutgoGraph team. When filing the bug, set the verbosity to 10 (on Linux, `export AUTOGRAPH_VERBOSITY=10`) and attach the full output. Cause: converting <bound method Dense.call of <tensorflow.python.layers.core.Dense object at 0x7fb6e3b79310>>: AttributeError: module 'gast' has no attribute 'Index'\n",
      "WARNING:tensorflow:Entity <bound method Dense.call of <tensorflow.python.layers.core.Dense object at 0x7fb6e3b6e4d0>> could not be transformed and will be executed as-is. Please report this to the AutgoGraph team. When filing the bug, set the verbosity to 10 (on Linux, `export AUTOGRAPH_VERBOSITY=10`) and attach the full output. Cause: converting <bound method Dense.call of <tensorflow.python.layers.core.Dense object at 0x7fb6e3b6e4d0>>: AttributeError: module 'gast' has no attribute 'Index'\n",
      "WARNING: Entity <bound method Dense.call of <tensorflow.python.layers.core.Dense object at 0x7fb6e3b6e4d0>> could not be transformed and will be executed as-is. Please report this to the AutgoGraph team. When filing the bug, set the verbosity to 10 (on Linux, `export AUTOGRAPH_VERBOSITY=10`) and attach the full output. Cause: converting <bound method Dense.call of <tensorflow.python.layers.core.Dense object at 0x7fb6e3b6e4d0>>: AttributeError: module 'gast' has no attribute 'Index'\n",
      "WARNING:tensorflow:From /home/samuel/ns-allinone-3.29/ns-3.29/scratch/RLinWiFi-master-original-queue-level-mean/agents/dqn/agent.py:77: The name tf.train.Saver is deprecated. Please use tf.compat.v1.train.Saver instead.\n",
      "\n",
      "Action space: 7\n",
      "WARNING:tensorflow:From /home/samuel/ns-allinone-3.29/ns-3.29/scratch/RLinWiFi-master-original-queue-level-mean/agents/dqn/agent.py:107: Variable.load (from tensorflow.python.ops.variables) is deprecated and will be removed in a future version.\n",
      "Instructions for updating:\n",
      "Prefer Variable.assign which has equivalent behavior in 2.X.\n"
     ]
    },
    {
     "name": "stderr",
     "output_type": "stream",
     "text": [
      "COMET INFO: Experiment is live on comet.ml https://www.comet.com/sheila-janota/rl-in-wifi-with-queue-level/5c2c62d380784043911a6fb3fba8c8e3\n",
      "\n",
      "  0%|          | 0/6300 [00:00<?, ?it/s]"
     ]
    },
    {
     "name": "stdout",
     "output_type": "stream",
     "text": [
      "0\n"
     ]
    },
    {
     "name": "stderr",
     "output_type": "stream",
     "text": [
      "  5%|▌         | 333/6300 [02:59<53:58,  1.84it/s, curr_speed=30.54 Mbps, mb_sent=9.77 Mb]  "
     ]
    },
    {
     "name": "stdout",
     "output_type": "stream",
     "text": [
      "------- STARTED TRAINING -------\n"
     ]
    },
    {
     "name": "stderr",
     "output_type": "stream",
     "text": [
      "100%|██████████| 6300/6300 [59:13<00:00,  1.77it/s, curr_speed=32.40 Mbps, mb_sent=1914.72 Mb] \n"
     ]
    },
    {
     "name": "stdout",
     "output_type": "stream",
     "text": [
      "Waiting for simulation script to connect on port: tcp://localhost:35383\n",
      "Please start proper ns-3 simulation script using ./waf --run \"...\"\n",
      "Waf: Entering directory `/home/samuel/ns-allinone-3.29/ns-3.29/build'\n",
      "Waf: Leaving directory `/home/samuel/ns-allinone-3.29/ns-3.29/build'\n",
      "Build commands will be stored in build/compile_commands.json\n",
      "'build' finished successfully (3.772s)\n"
     ]
    },
    {
     "name": "stderr",
     "output_type": "stream",
     "text": [
      "Ns3Env parameters:\n",
      "--nWifi: 15\n",
      "--simulationTime: 60\n",
      "--openGymPort: 35383\n",
      "--envStepTime: 0.01\n",
      "--seed: 42\n",
      "--agentType: discrete\n",
      "--scenario: basic\n",
      "--dryRun: 0\n",
      "Simulation started\n",
      "Simulation process id: 1433057 (parent (waf shell) id: 1433026)\n",
      "Waiting for Python process to connect on port: tcp://localhost:35383\n",
      "Please start proper Python Gym Agent\n",
      "  0%|          | 0/6300 [00:00<?, ?it/s]"
     ]
    },
    {
     "name": "stdout",
     "output_type": "stream",
     "text": [
      "Sent 1914.72 Mb/s.\tMean speed: 31.91 Mb/s\tEpisode 1/15 finished\n",
      "\n",
      "1\n"
     ]
    },
    {
     "name": "stderr",
     "output_type": "stream",
     "text": [
      "100%|██████████| 6300/6300 [56:53<00:00,  1.85it/s, curr_speed=32.79 Mbps, mb_sent=2046.99 Mb] \n"
     ]
    },
    {
     "name": "stdout",
     "output_type": "stream",
     "text": [
      "Waiting for simulation script to connect on port: tcp://localhost:20352\n",
      "Please start proper ns-3 simulation script using ./waf --run \"...\"\n",
      "Waf: Entering directory `/home/samuel/ns-allinone-3.29/ns-3.29/build'\n",
      "Waf: Leaving directory `/home/samuel/ns-allinone-3.29/ns-3.29/build'\n",
      "Build commands will be stored in build/compile_commands.json\n",
      "'build' finished successfully (3.528s)\n"
     ]
    },
    {
     "name": "stderr",
     "output_type": "stream",
     "text": [
      "Ns3Env parameters:\n",
      "--nWifi: 15\n",
      "--simulationTime: 60\n",
      "--openGymPort: 20352\n",
      "--envStepTime: 0.01\n",
      "--seed: 42\n",
      "--agentType: discrete\n",
      "--scenario: basic\n",
      "--dryRun: 0\n",
      "Simulation started\n",
      "Simulation process id: 1451557 (parent (waf shell) id: 1451530)\n",
      "Waiting for Python process to connect on port: tcp://localhost:20352\n",
      "Please start proper Python Gym Agent\n",
      "  0%|          | 0/6300 [00:00<?, ?it/s]"
     ]
    },
    {
     "name": "stdout",
     "output_type": "stream",
     "text": [
      "Sent 2046.99 Mb/s.\tMean speed: 34.12 Mb/s\tEpisode 2/15 finished\n",
      "\n",
      "2\n"
     ]
    },
    {
     "name": "stderr",
     "output_type": "stream",
     "text": [
      "100%|██████████| 6300/6300 [57:37<00:00,  1.82it/s, curr_speed=35.70 Mbps, mb_sent=2135.04 Mb]\n"
     ]
    },
    {
     "name": "stdout",
     "output_type": "stream",
     "text": [
      "Waiting for simulation script to connect on port: tcp://localhost:34730\n",
      "Please start proper ns-3 simulation script using ./waf --run \"...\"\n",
      "Waf: Entering directory `/home/samuel/ns-allinone-3.29/ns-3.29/build'\n",
      "Waf: Leaving directory `/home/samuel/ns-allinone-3.29/ns-3.29/build'\n",
      "Build commands will be stored in build/compile_commands.json\n",
      "'build' finished successfully (3.317s)\n"
     ]
    },
    {
     "name": "stderr",
     "output_type": "stream",
     "text": [
      "Ns3Env parameters:\n",
      "--nWifi: 15\n",
      "--simulationTime: 60\n",
      "--openGymPort: 34730\n",
      "--envStepTime: 0.01\n",
      "--seed: 42\n",
      "--agentType: discrete\n",
      "--scenario: basic\n",
      "--dryRun: 0\n",
      "Simulation started\n",
      "Simulation process id: 1469373 (parent (waf shell) id: 1469347)\n",
      "Waiting for Python process to connect on port: tcp://localhost:34730\n",
      "Please start proper Python Gym Agent\n",
      "  0%|          | 0/6300 [00:00<?, ?it/s]"
     ]
    },
    {
     "name": "stdout",
     "output_type": "stream",
     "text": [
      "Sent 2135.04 Mb/s.\tMean speed: 35.58 Mb/s\tEpisode 3/15 finished\n",
      "\n",
      "3\n"
     ]
    },
    {
     "name": "stderr",
     "output_type": "stream",
     "text": [
      "  5%|▍         | 304/6300 [02:27<51:35,  1.94it/s, curr_speed=37.23 Mbps, mb_sent=1.12 Mb]"
     ]
    },
    {
     "name": "stdout",
     "output_type": "stream",
     "text": [
      "------- MEMORY BUFFER FILLED -------\n"
     ]
    },
    {
     "name": "stderr",
     "output_type": "stream",
     "text": [
      "100%|██████████| 6300/6300 [58:01<00:00,  1.81it/s, curr_speed=31.64 Mbps, mb_sent=2185.91 Mb]\n"
     ]
    },
    {
     "name": "stdout",
     "output_type": "stream",
     "text": [
      "Waiting for simulation script to connect on port: tcp://localhost:14198\n",
      "Please start proper ns-3 simulation script using ./waf --run \"...\"\n",
      "Waf: Entering directory `/home/samuel/ns-allinone-3.29/ns-3.29/build'\n",
      "Waf: Leaving directory `/home/samuel/ns-allinone-3.29/ns-3.29/build'\n",
      "Build commands will be stored in build/compile_commands.json\n",
      "'build' finished successfully (2.798s)\n"
     ]
    },
    {
     "name": "stderr",
     "output_type": "stream",
     "text": [
      "Ns3Env parameters:\n",
      "--nWifi: 15\n",
      "--simulationTime: 60\n",
      "--openGymPort: 14198\n",
      "--envStepTime: 0.01\n",
      "--seed: 42\n",
      "--agentType: discrete\n",
      "--scenario: basic\n",
      "--dryRun: 0\n",
      "Simulation started\n",
      "Simulation process id: 1488053 (parent (waf shell) id: 1488033)\n",
      "Waiting for Python process to connect on port: tcp://localhost:14198\n",
      "Please start proper Python Gym Agent\n",
      "  0%|          | 0/6300 [00:00<?, ?it/s]"
     ]
    },
    {
     "name": "stdout",
     "output_type": "stream",
     "text": [
      "Sent 2185.91 Mb/s.\tMean speed: 36.43 Mb/s\tEpisode 4/15 finished\n",
      "\n",
      "4\n"
     ]
    },
    {
     "name": "stderr",
     "output_type": "stream",
     "text": [
      "100%|██████████| 6300/6300 [58:39<00:00,  1.79it/s, curr_speed=33.71 Mbps, mb_sent=2200.72 Mb] \n"
     ]
    },
    {
     "name": "stdout",
     "output_type": "stream",
     "text": [
      "Waiting for simulation script to connect on port: tcp://localhost:34838\n",
      "Please start proper ns-3 simulation script using ./waf --run \"...\"\n",
      "Waf: Entering directory `/home/samuel/ns-allinone-3.29/ns-3.29/build'\n",
      "Waf: Leaving directory `/home/samuel/ns-allinone-3.29/ns-3.29/build'\n",
      "Build commands will be stored in build/compile_commands.json\n",
      "'build' finished successfully (3.194s)\n"
     ]
    },
    {
     "name": "stderr",
     "output_type": "stream",
     "text": [
      "Ns3Env parameters:\n",
      "--nWifi: 15\n",
      "--simulationTime: 60\n",
      "--openGymPort: 34838\n",
      "--envStepTime: 0.01\n",
      "--seed: 42\n",
      "--agentType: discrete\n",
      "--scenario: basic\n",
      "--dryRun: 0\n",
      "Simulation started\n",
      "Simulation process id: 1506336 (parent (waf shell) id: 1506310)\n",
      "Waiting for Python process to connect on port: tcp://localhost:34838\n",
      "Please start proper Python Gym Agent\n",
      "  0%|          | 0/6300 [00:00<?, ?it/s]"
     ]
    },
    {
     "name": "stdout",
     "output_type": "stream",
     "text": [
      "Sent 2200.72 Mb/s.\tMean speed: 36.68 Mb/s\tEpisode 5/15 finished\n",
      "\n",
      "5\n"
     ]
    },
    {
     "name": "stderr",
     "output_type": "stream",
     "text": [
      "100%|██████████| 6300/6300 [57:13<00:00,  1.83it/s, curr_speed=37.53 Mbps, mb_sent=2228.39 Mb] \n"
     ]
    },
    {
     "name": "stdout",
     "output_type": "stream",
     "text": [
      "Waiting for simulation script to connect on port: tcp://localhost:32757\n",
      "Please start proper ns-3 simulation script using ./waf --run \"...\"\n",
      "Waf: Entering directory `/home/samuel/ns-allinone-3.29/ns-3.29/build'\n",
      "Waf: Leaving directory `/home/samuel/ns-allinone-3.29/ns-3.29/build'\n",
      "Build commands will be stored in build/compile_commands.json\n",
      "'build' finished successfully (3.359s)\n"
     ]
    },
    {
     "name": "stderr",
     "output_type": "stream",
     "text": [
      "Ns3Env parameters:\n",
      "--nWifi: 15\n",
      "--simulationTime: 60\n",
      "--openGymPort: 32757\n",
      "--envStepTime: 0.01\n",
      "--seed: 42\n",
      "--agentType: discrete\n",
      "--scenario: basic\n",
      "--dryRun: 0\n",
      "Simulation started\n",
      "Simulation process id: 1524251 (parent (waf shell) id: 1524232)\n",
      "Waiting for Python process to connect on port: tcp://localhost:32757\n",
      "Please start proper Python Gym Agent\n",
      "  0%|          | 0/6300 [00:00<?, ?it/s]"
     ]
    },
    {
     "name": "stdout",
     "output_type": "stream",
     "text": [
      "Sent 2228.39 Mb/s.\tMean speed: 37.14 Mb/s\tEpisode 6/15 finished\n",
      "\n",
      "6\n"
     ]
    },
    {
     "name": "stderr",
     "output_type": "stream",
     "text": [
      "100%|██████████| 6300/6300 [57:43<00:00,  1.82it/s, curr_speed=37.46 Mbps, mb_sent=2246.37 Mb]\n"
     ]
    },
    {
     "name": "stdout",
     "output_type": "stream",
     "text": [
      "Waiting for simulation script to connect on port: tcp://localhost:45401\n",
      "Please start proper ns-3 simulation script using ./waf --run \"...\"\n",
      "Waf: Entering directory `/home/samuel/ns-allinone-3.29/ns-3.29/build'\n",
      "Waf: Leaving directory `/home/samuel/ns-allinone-3.29/ns-3.29/build'\n",
      "Build commands will be stored in build/compile_commands.json\n",
      "'build' finished successfully (3.963s)\n"
     ]
    },
    {
     "name": "stderr",
     "output_type": "stream",
     "text": [
      "Ns3Env parameters:\n",
      "--nWifi: 15\n",
      "--simulationTime: 60\n",
      "--openGymPort: 45401\n",
      "--envStepTime: 0.01\n",
      "--seed: 42\n",
      "--agentType: discrete\n",
      "--scenario: basic\n",
      "--dryRun: 0\n",
      "Simulation started\n",
      "Simulation process id: 1542798 (parent (waf shell) id: 1542765)\n",
      "Waiting for Python process to connect on port: tcp://localhost:45401\n",
      "Please start proper Python Gym Agent\n",
      "  0%|          | 0/6300 [00:00<?, ?it/s]"
     ]
    },
    {
     "name": "stdout",
     "output_type": "stream",
     "text": [
      "Sent 2246.37 Mb/s.\tMean speed: 37.44 Mb/s\tEpisode 7/15 finished\n",
      "\n",
      "7\n"
     ]
    },
    {
     "name": "stderr",
     "output_type": "stream",
     "text": [
      "100%|██████████| 6300/6300 [59:27<00:00,  1.77it/s, curr_speed=37.03 Mbps, mb_sent=2250.62 Mb]\n"
     ]
    },
    {
     "name": "stdout",
     "output_type": "stream",
     "text": [
      "Waiting for simulation script to connect on port: tcp://localhost:53365\n",
      "Please start proper ns-3 simulation script using ./waf --run \"...\"\n",
      "Waf: Entering directory `/home/samuel/ns-allinone-3.29/ns-3.29/build'\n",
      "Waf: Leaving directory `/home/samuel/ns-allinone-3.29/ns-3.29/build'\n",
      "Build commands will be stored in build/compile_commands.json\n",
      "'build' finished successfully (3.936s)\n"
     ]
    },
    {
     "name": "stderr",
     "output_type": "stream",
     "text": [
      "Ns3Env parameters:\n",
      "--nWifi: 15\n",
      "--simulationTime: 60\n",
      "--openGymPort: 53365\n",
      "--envStepTime: 0.01\n",
      "--seed: 42\n",
      "--agentType: discrete\n",
      "--scenario: basic\n",
      "--dryRun: 0\n",
      "Simulation started\n",
      "Simulation process id: 1563859 (parent (waf shell) id: 1563818)\n",
      "Waiting for Python process to connect on port: tcp://localhost:53365\n",
      "Please start proper Python Gym Agent\n",
      "  0%|          | 0/6300 [00:00<?, ?it/s]"
     ]
    },
    {
     "name": "stdout",
     "output_type": "stream",
     "text": [
      "Sent 2250.62 Mb/s.\tMean speed: 37.51 Mb/s\tEpisode 8/15 finished\n",
      "\n",
      "8\n"
     ]
    },
    {
     "name": "stderr",
     "output_type": "stream",
     "text": [
      "100%|██████████| 6300/6300 [57:35<00:00,  1.82it/s, curr_speed=37.67 Mbps, mb_sent=2253.30 Mb]\n"
     ]
    },
    {
     "name": "stdout",
     "output_type": "stream",
     "text": [
      "Waiting for simulation script to connect on port: tcp://localhost:45408\n",
      "Please start proper ns-3 simulation script using ./waf --run \"...\"\n",
      "Waf: Entering directory `/home/samuel/ns-allinone-3.29/ns-3.29/build'\n",
      "Waf: Leaving directory `/home/samuel/ns-allinone-3.29/ns-3.29/build'\n",
      "Build commands will be stored in build/compile_commands.json\n",
      "'build' finished successfully (3.278s)\n"
     ]
    },
    {
     "name": "stderr",
     "output_type": "stream",
     "text": [
      "Ns3Env parameters:\n",
      "--nWifi: 15\n",
      "--simulationTime: 60\n",
      "--openGymPort: 45408\n",
      "--envStepTime: 0.01\n",
      "--seed: 42\n",
      "--agentType: discrete\n",
      "--scenario: basic\n",
      "--dryRun: 0\n",
      "Simulation started\n",
      "Simulation process id: 1592737 (parent (waf shell) id: 1592697)\n",
      "Waiting for Python process to connect on port: tcp://localhost:45408\n",
      "Please start proper Python Gym Agent\n",
      "  0%|          | 0/6300 [00:00<?, ?it/s]"
     ]
    },
    {
     "name": "stdout",
     "output_type": "stream",
     "text": [
      "Sent 2253.30 Mb/s.\tMean speed: 37.55 Mb/s\tEpisode 9/15 finished\n",
      "\n",
      "9\n"
     ]
    },
    {
     "name": "stderr",
     "output_type": "stream",
     "text": [
      "100%|██████████| 6300/6300 [57:08<00:00,  1.84it/s, curr_speed=37.70 Mbps, mb_sent=2257.77 Mb]\n"
     ]
    },
    {
     "name": "stdout",
     "output_type": "stream",
     "text": [
      "Waiting for simulation script to connect on port: tcp://localhost:49653\n",
      "Please start proper ns-3 simulation script using ./waf --run \"...\"\n",
      "Waf: Entering directory `/home/samuel/ns-allinone-3.29/ns-3.29/build'\n",
      "Waf: Leaving directory `/home/samuel/ns-allinone-3.29/ns-3.29/build'\n",
      "Build commands will be stored in build/compile_commands.json\n",
      "'build' finished successfully (3.175s)\n"
     ]
    },
    {
     "name": "stderr",
     "output_type": "stream",
     "text": [
      "Ns3Env parameters:\n",
      "--nWifi: 15\n",
      "--simulationTime: 60\n",
      "--openGymPort: 49653\n",
      "--envStepTime: 0.01\n",
      "--seed: 42\n",
      "--agentType: discrete\n",
      "--scenario: basic\n",
      "--dryRun: 0\n",
      "Simulation started\n",
      "Simulation process id: 1620868 (parent (waf shell) id: 1620828)\n",
      "Waiting for Python process to connect on port: tcp://localhost:49653\n",
      "Please start proper Python Gym Agent\n",
      "  0%|          | 0/6300 [00:00<?, ?it/s]"
     ]
    },
    {
     "name": "stdout",
     "output_type": "stream",
     "text": [
      "Sent 2257.77 Mb/s.\tMean speed: 37.63 Mb/s\tEpisode 10/15 finished\n",
      "\n",
      "10\n"
     ]
    },
    {
     "name": "stderr",
     "output_type": "stream",
     "text": [
      "100%|██████████| 6300/6300 [57:04<00:00,  1.84it/s, curr_speed=37.45 Mbps, mb_sent=2260.18 Mb]\n"
     ]
    },
    {
     "name": "stdout",
     "output_type": "stream",
     "text": [
      "Waiting for simulation script to connect on port: tcp://localhost:48531\n",
      "Please start proper ns-3 simulation script using ./waf --run \"...\"\n",
      "Waf: Entering directory `/home/samuel/ns-allinone-3.29/ns-3.29/build'\n",
      "Waf: Leaving directory `/home/samuel/ns-allinone-3.29/ns-3.29/build'\n",
      "Build commands will be stored in build/compile_commands.json\n",
      "'build' finished successfully (3.101s)\n"
     ]
    },
    {
     "name": "stderr",
     "output_type": "stream",
     "text": [
      "Ns3Env parameters:\n",
      "--nWifi: 15\n",
      "--simulationTime: 60\n",
      "--openGymPort: 48531\n",
      "--envStepTime: 0.01\n",
      "--seed: 42\n",
      "--agentType: discrete\n",
      "--scenario: basic\n",
      "--dryRun: 0\n",
      "Simulation started\n",
      "Simulation process id: 1649129 (parent (waf shell) id: 1649093)\n",
      "Waiting for Python process to connect on port: tcp://localhost:48531\n",
      "Please start proper Python Gym Agent\n",
      "  0%|          | 0/6300 [00:00<?, ?it/s]"
     ]
    },
    {
     "name": "stdout",
     "output_type": "stream",
     "text": [
      "Sent 2260.18 Mb/s.\tMean speed: 37.67 Mb/s\tEpisode 11/15 finished\n",
      "\n",
      "11\n"
     ]
    },
    {
     "name": "stderr",
     "output_type": "stream",
     "text": [
      "100%|██████████| 6300/6300 [53:01<00:00,  1.98it/s, curr_speed=37.51 Mbps, mb_sent=2257.98 Mb]\n"
     ]
    },
    {
     "name": "stdout",
     "output_type": "stream",
     "text": [
      "Waiting for simulation script to connect on port: tcp://localhost:24174\n",
      "Please start proper ns-3 simulation script using ./waf --run \"...\"\n",
      "Waf: Entering directory `/home/samuel/ns-allinone-3.29/ns-3.29/build'\n",
      "Waf: Leaving directory `/home/samuel/ns-allinone-3.29/ns-3.29/build'\n",
      "Build commands will be stored in build/compile_commands.json\n",
      "'build' finished successfully (2.872s)\n"
     ]
    },
    {
     "name": "stderr",
     "output_type": "stream",
     "text": [
      "Ns3Env parameters:\n",
      "--nWifi: 15\n",
      "--simulationTime: 60\n",
      "--openGymPort: 24174\n",
      "--envStepTime: 0.01\n",
      "--seed: 42\n",
      "--agentType: discrete\n",
      "--scenario: basic\n",
      "--dryRun: 0\n",
      "Simulation started\n"
     ]
    },
    {
     "name": "stdout",
     "output_type": "stream",
     "text": [
      "WARNING:tensorflow:From /home/samuel/anaconda3/envs/myEnv3_7/lib/python3.7/site-packages/tensorflow/python/training/saver.py:960: remove_checkpoint (from tensorflow.python.training.checkpoint_management) is deprecated and will be removed in a future version.\n",
      "Instructions for updating:\n",
      "Use standard file APIs to delete files with this prefix.\n"
     ]
    },
    {
     "name": "stderr",
     "output_type": "stream",
     "text": [
      "Simulation process id: 1667815 (parent (waf shell) id: 1667790)\n",
      "Waiting for Python process to connect on port: tcp://localhost:24174\n",
      "Please start proper Python Gym Agent\n",
      "  0%|          | 0/6300 [00:00<?, ?it/s]"
     ]
    },
    {
     "name": "stdout",
     "output_type": "stream",
     "text": [
      "Sent 2257.98 Mb/s.\tMean speed: 37.63 Mb/s\tEpisode 12/15 finished\n",
      "\n",
      "12\n",
      "Turning off noise\n"
     ]
    },
    {
     "name": "stderr",
     "output_type": "stream",
     "text": [
      "100%|██████████| 6300/6300 [51:06<00:00,  2.05it/s, curr_speed=37.57 Mbps, mb_sent=2259.99 Mb]\n"
     ]
    },
    {
     "name": "stdout",
     "output_type": "stream",
     "text": [
      "Waiting for simulation script to connect on port: tcp://localhost:14245\n",
      "Please start proper ns-3 simulation script using ./waf --run \"...\"\n",
      "Waf: Entering directory `/home/samuel/ns-allinone-3.29/ns-3.29/build'\n",
      "Waf: Leaving directory `/home/samuel/ns-allinone-3.29/ns-3.29/build'\n",
      "Build commands will be stored in build/compile_commands.json\n",
      "'build' finished successfully (2.915s)\n"
     ]
    },
    {
     "name": "stderr",
     "output_type": "stream",
     "text": [
      "Ns3Env parameters:\n",
      "--nWifi: 15\n",
      "--simulationTime: 60\n",
      "--openGymPort: 14245\n",
      "--envStepTime: 0.01\n",
      "--seed: 42\n",
      "--agentType: discrete\n",
      "--scenario: basic\n",
      "--dryRun: 0\n",
      "Simulation started\n",
      "Simulation process id: 1683913 (parent (waf shell) id: 1683890)\n",
      "Waiting for Python process to connect on port: tcp://localhost:14245\n",
      "Please start proper Python Gym Agent\n",
      "  0%|          | 0/6300 [00:00<?, ?it/s]"
     ]
    },
    {
     "name": "stdout",
     "output_type": "stream",
     "text": [
      "Sent 2259.99 Mb/s.\tMean speed: 37.67 Mb/s\tEpisode 13/15 finished\n",
      "\n",
      "13\n",
      "Turning off noise\n"
     ]
    },
    {
     "name": "stderr",
     "output_type": "stream",
     "text": [
      "100%|██████████| 6300/6300 [51:34<00:00,  2.04it/s, curr_speed=37.81 Mbps, mb_sent=2261.78 Mb]\n"
     ]
    },
    {
     "name": "stdout",
     "output_type": "stream",
     "text": [
      "Waiting for simulation script to connect on port: tcp://localhost:22191\n",
      "Please start proper ns-3 simulation script using ./waf --run \"...\"\n",
      "Waf: Entering directory `/home/samuel/ns-allinone-3.29/ns-3.29/build'\n",
      "Waf: Leaving directory `/home/samuel/ns-allinone-3.29/ns-3.29/build'\n",
      "Build commands will be stored in build/compile_commands.json\n",
      "'build' finished successfully (2.999s)\n"
     ]
    },
    {
     "name": "stderr",
     "output_type": "stream",
     "text": [
      "Ns3Env parameters:\n",
      "--nWifi: 15\n",
      "--simulationTime: 60\n",
      "--openGymPort: 22191\n",
      "--envStepTime: 0.01\n",
      "--seed: 42\n",
      "--agentType: discrete\n",
      "--scenario: basic\n",
      "--dryRun: 0\n",
      "Simulation started\n",
      "Simulation process id: 1699692 (parent (waf shell) id: 1699666)\n",
      "Waiting for Python process to connect on port: tcp://localhost:22191\n",
      "Please start proper Python Gym Agent\n",
      "  0%|          | 0/6300 [00:00<?, ?it/s]"
     ]
    },
    {
     "name": "stdout",
     "output_type": "stream",
     "text": [
      "Sent 2261.78 Mb/s.\tMean speed: 37.70 Mb/s\tEpisode 14/15 finished\n",
      "\n",
      "14\n",
      "Turning off noise\n"
     ]
    },
    {
     "name": "stderr",
     "output_type": "stream",
     "text": [
      "100%|██████████| 6300/6300 [49:07<00:00,  2.14it/s, curr_speed=38.22 Mbps, mb_sent=2258.01 Mb]\n"
     ]
    },
    {
     "name": "stdout",
     "output_type": "stream",
     "text": [
      "Waiting for simulation script to connect on port: tcp://localhost:39989\n",
      "Please start proper ns-3 simulation script using ./waf --run \"...\"\n",
      "Waf: Entering directory `/home/samuel/ns-allinone-3.29/ns-3.29/build'\n",
      "Waf: Leaving directory `/home/samuel/ns-allinone-3.29/ns-3.29/build'\n",
      "Build commands will be stored in build/compile_commands.json\n",
      "'build' finished successfully (2.990s)\n"
     ]
    },
    {
     "name": "stderr",
     "output_type": "stream",
     "text": [
      "Ns3Env parameters:\n",
      "--nWifi: 15\n",
      "--simulationTime: 60\n",
      "--openGymPort: 39989\n",
      "--envStepTime: 0.01\n",
      "--seed: 42\n",
      "--agentType: discrete\n",
      "--scenario: basic\n",
      "--dryRun: 0\n",
      "Simulation started\n",
      "Simulation process id: 1715080 (parent (waf shell) id: 1715061)\n",
      "Waiting for Python process to connect on port: tcp://localhost:39989\n",
      "Please start proper Python Gym Agent\n",
      "COMET INFO: ----------------------------\n",
      "COMET INFO: Comet.ml Experiment Summary:\n",
      "COMET INFO:   Data:\n",
      "COMET INFO:     url: https://www.comet.com/sheila-janota/rl-in-wifi-with-queue-level/5c2c62d380784043911a6fb3fba8c8e3\n",
      "COMET INFO:   Metrics [count] (min, max):\n",
      "COMET INFO:     Chosen CW [89985]           : (16.0, 1024.0)\n",
      "COMET INFO:     Cumulative reward [15]      : (2376.304443359375, 3165.71533203125)\n",
      "COMET INFO:     Current throughput [89985]  : (18.79815673828125, 58.840572357177734)\n",
      "COMET INFO:     Fairness index [89985]      : (nan, nan)\n",
      "COMET INFO:     Megabytes sent [89985]      : (0.18987999856472015, 2261.7767177820206)\n",
      "COMET INFO:     Observation 0 [89985]       : (0.9331708315014839, 0.9343750000000001)\n",
      "COMET INFO:     Observation 1 [89985]       : (0.023857966042217734, 0.027383335646222515)\n",
      "COMET INFO:     Per-ep reward [89985]       : (125.023193359375, 3165.71533203125)\n",
      "COMET INFO:     Round megabytes sent [89985]: (0.05584700033068657, 11.839599609375)\n",
      "COMET INFO:     Round reward [89985]        : (0.074462890625, 0.7744140625)\n",
      "COMET INFO:     Speed [15]                  : (31.912003070488574, 37.696278629700345)\n",
      "COMET INFO:     Station count [89985]       : (15.0, 15.0)\n",
      "COMET INFO:     loss [89985]                : (0.0, 0.19092381745576859)\n",
      "COMET INFO:   Uploads:\n",
      "COMET INFO:     histogram3d: 89985\n",
      "COMET INFO: ----------------------------\n"
     ]
    },
    {
     "name": "stdout",
     "output_type": "stream",
     "text": [
      "Sent 2258.01 Mb/s.\tMean speed: 37.63 Mb/s\tEpisode 15/15 finished\n",
      "\n"
     ]
    },
    {
     "name": "stderr",
     "output_type": "stream",
     "text": [
      "COMET INFO: Uploading stats to Comet before program termination (may take several seconds)\n"
     ]
    },
    {
     "name": "stdout",
     "output_type": "stream",
     "text": [
      "Training finished.\n"
     ]
    }
   ],
   "source": [
    "#%%\n",
    "teacher = Teacher(env, 1, Preprocessor(False))\n",
    "\n",
    "lr = 4e-4\n",
    "config = Config(buffer_size=3*steps_per_ep*threads_no, batch_size=32, gamma=0.7, tau=1e-3, lr=lr, update_every=1)\n",
    "agent = Agent(QNetworkTf, history_length, action_size=7, config=config)\n",
    "agent.set_epsilon(0.9, 0.001, EPISODE_COUNT-2)\n",
    "\n",
    "# Test the model\n",
    "hyperparams = {**config.__dict__, **sim_args}\n",
    "tags = [\"Rew: normalized speed\",\n",
    "        \"Final\",\n",
    "        f\"{Agent.NAME}\",\n",
    "        sim_args['scenario'],\n",
    "        f\"LR: {lr}\",\n",
    "        f\"Instances: {threads_no}\",\n",
    "        f\"Station count: {sim_args['nWifi']}\",\n",
    "        *[f\"{key}: {sim_args[key]}\" for key in list(sim_args)[:3]]]\n",
    "# # agent.save()\n",
    "logger = teacher.train(agent, EPISODE_COUNT,\n",
    "                        simTime=simTime,\n",
    "                        stepTime=stepTime,\n",
    "                        history_length=history_length,\n",
    "                        send_logs=True,\n",
    "                        experimental=True,\n",
    "                        tags=tags,\n",
    "                        parameters=hyperparams)\n",
    "#logger = teacher.eval(agent,\n",
    "#                        simTime=simTime,\n",
    "#                        stepTime=stepTime,\n",
    "#                        history_length=history_length,\n",
    "#                        tags=tags,\n",
    "#                        parameters=hyperparams)\n",
    "# agent.save()\n",
    "\n",
    "\n",
    "# %%"
   ]
  },
  {
   "cell_type": "code",
   "execution_count": null,
   "id": "28ee8f53",
   "metadata": {},
   "outputs": [],
   "source": []
  },
  {
   "cell_type": "code",
   "execution_count": 3,
   "id": "af746bd0",
   "metadata": {},
   "outputs": [
    {
     "name": "stdout",
     "output_type": "stream",
     "text": [
      "WARNING:tensorflow:From /home/samuel/ns-allinone-3.29/ns-3.29/scratch/RLinWiFi-master-original-queue-level-mean/agents/dqn/agent.py:53: The name tf.Session is deprecated. Please use tf.compat.v1.Session instead.\n",
      "\n",
      "WARNING:tensorflow:From /home/samuel/ns-allinone-3.29/ns-3.29/scratch/RLinWiFi-master-original-queue-level-mean/agents/dqn/model.py:25: The name tf.variable_scope is deprecated. Please use tf.compat.v1.variable_scope instead.\n",
      "\n",
      "WARNING:tensorflow:From /home/samuel/ns-allinone-3.29/ns-3.29/scratch/RLinWiFi-master-original-queue-level-mean/agents/dqn/model.py:26: The name tf.placeholder is deprecated. Please use tf.compat.v1.placeholder instead.\n",
      "\n"
     ]
    },
    {
     "name": "stderr",
     "output_type": "stream",
     "text": [
      "2023-02-13 21:47:17.015568: I tensorflow/core/platform/cpu_feature_guard.cc:142] Your CPU supports instructions that this TensorFlow binary was not compiled to use: AVX2 FMA\n",
      "2023-02-13 21:47:17.067971: I tensorflow/core/platform/profile_utils/cpu_utils.cc:94] CPU Frequency: 3491795000 Hz\n",
      "2023-02-13 21:47:17.084057: I tensorflow/compiler/xla/service/service.cc:168] XLA service 0x55ffa2e05200 executing computations on platform Host. Devices:\n",
      "2023-02-13 21:47:17.084477: I tensorflow/compiler/xla/service/service.cc:175]   StreamExecutor device (0): <undefined>, <undefined>\n"
     ]
    },
    {
     "name": "stdout",
     "output_type": "stream",
     "text": [
      "WARNING:tensorflow:\n",
      "The TensorFlow contrib module will not be included in TensorFlow 2.0.\n",
      "For more information, please see:\n",
      "  * https://github.com/tensorflow/community/blob/master/rfcs/20180907-contrib-sunset.md\n",
      "  * https://github.com/tensorflow/addons\n",
      "  * https://github.com/tensorflow/io (for I/O related ops)\n",
      "If you depend on functionality not listed there, please file an issue.\n",
      "\n",
      "WARNING:tensorflow:From /home/samuel/ns-allinone-3.29/ns-3.29/scratch/RLinWiFi-master-original-queue-level-mean/agents/dqn/model.py:52: LSTMCell.__init__ (from tensorflow.python.ops.rnn_cell_impl) is deprecated and will be removed in a future version.\n",
      "Instructions for updating:\n",
      "This class is equivalent as tf.keras.layers.LSTMCell, and will be replaced by that in Tensorflow 2.0.\n",
      "WARNING:tensorflow:From /home/samuel/ns-allinone-3.29/ns-3.29/scratch/RLinWiFi-master-original-queue-level-mean/agents/dqn/model.py:52: static_rnn (from tensorflow.python.ops.rnn) is deprecated and will be removed in a future version.\n",
      "Instructions for updating:\n",
      "Please use `keras.layers.RNN(cell, unroll=True)`, which is equivalent to this API\n",
      "WARNING:tensorflow:From /home/samuel/anaconda3/envs/myEnv3_7/lib/python3.7/site-packages/tensorflow/python/ops/init_ops.py:1251: calling VarianceScaling.__init__ (from tensorflow.python.ops.init_ops) with dtype is deprecated and will be removed in a future version.\n",
      "Instructions for updating:\n",
      "Call initializer instance with the dtype argument instead of passing it to the constructor\n",
      "WARNING:tensorflow:From /home/samuel/anaconda3/envs/myEnv3_7/lib/python3.7/site-packages/tensorflow/python/ops/rnn_cell_impl.py:961: calling Zeros.__init__ (from tensorflow.python.ops.init_ops) with dtype is deprecated and will be removed in a future version.\n",
      "Instructions for updating:\n",
      "Call initializer instance with the dtype argument instead of passing it to the constructor\n",
      "WARNING:tensorflow:Entity <bound method LSTMCell.call of <tensorflow.python.ops.rnn_cell_impl.LSTMCell object at 0x7f0b22694a90>> could not be transformed and will be executed as-is. Please report this to the AutgoGraph team. When filing the bug, set the verbosity to 10 (on Linux, `export AUTOGRAPH_VERBOSITY=10`) and attach the full output. Cause: converting <bound method LSTMCell.call of <tensorflow.python.ops.rnn_cell_impl.LSTMCell object at 0x7f0b22694a90>>: AttributeError: module 'gast' has no attribute 'Index'\n",
      "WARNING: Entity <bound method LSTMCell.call of <tensorflow.python.ops.rnn_cell_impl.LSTMCell object at 0x7f0b22694a90>> could not be transformed and will be executed as-is. Please report this to the AutgoGraph team. When filing the bug, set the verbosity to 10 (on Linux, `export AUTOGRAPH_VERBOSITY=10`) and attach the full output. Cause: converting <bound method LSTMCell.call of <tensorflow.python.ops.rnn_cell_impl.LSTMCell object at 0x7f0b22694a90>>: AttributeError: module 'gast' has no attribute 'Index'\n",
      "WARNING:tensorflow:Entity <bound method LSTMCell.call of <tensorflow.python.ops.rnn_cell_impl.LSTMCell object at 0x7f0b22694a90>> could not be transformed and will be executed as-is. Please report this to the AutgoGraph team. When filing the bug, set the verbosity to 10 (on Linux, `export AUTOGRAPH_VERBOSITY=10`) and attach the full output. Cause: converting <bound method LSTMCell.call of <tensorflow.python.ops.rnn_cell_impl.LSTMCell object at 0x7f0b22694a90>>: AttributeError: module 'gast' has no attribute 'Index'\n",
      "WARNING: Entity <bound method LSTMCell.call of <tensorflow.python.ops.rnn_cell_impl.LSTMCell object at 0x7f0b22694a90>> could not be transformed and will be executed as-is. Please report this to the AutgoGraph team. When filing the bug, set the verbosity to 10 (on Linux, `export AUTOGRAPH_VERBOSITY=10`) and attach the full output. Cause: converting <bound method LSTMCell.call of <tensorflow.python.ops.rnn_cell_impl.LSTMCell object at 0x7f0b22694a90>>: AttributeError: module 'gast' has no attribute 'Index'\n",
      "WARNING:tensorflow:Entity <bound method LSTMCell.call of <tensorflow.python.ops.rnn_cell_impl.LSTMCell object at 0x7f0b22694a90>> could not be transformed and will be executed as-is. Please report this to the AutgoGraph team. When filing the bug, set the verbosity to 10 (on Linux, `export AUTOGRAPH_VERBOSITY=10`) and attach the full output. Cause: converting <bound method LSTMCell.call of <tensorflow.python.ops.rnn_cell_impl.LSTMCell object at 0x7f0b22694a90>>: AttributeError: module 'gast' has no attribute 'Index'\n",
      "WARNING: Entity <bound method LSTMCell.call of <tensorflow.python.ops.rnn_cell_impl.LSTMCell object at 0x7f0b22694a90>> could not be transformed and will be executed as-is. Please report this to the AutgoGraph team. When filing the bug, set the verbosity to 10 (on Linux, `export AUTOGRAPH_VERBOSITY=10`) and attach the full output. Cause: converting <bound method LSTMCell.call of <tensorflow.python.ops.rnn_cell_impl.LSTMCell object at 0x7f0b22694a90>>: AttributeError: module 'gast' has no attribute 'Index'\n",
      "WARNING:tensorflow:Entity <bound method LSTMCell.call of <tensorflow.python.ops.rnn_cell_impl.LSTMCell object at 0x7f0b22694a90>> could not be transformed and will be executed as-is. Please report this to the AutgoGraph team. When filing the bug, set the verbosity to 10 (on Linux, `export AUTOGRAPH_VERBOSITY=10`) and attach the full output. Cause: converting <bound method LSTMCell.call of <tensorflow.python.ops.rnn_cell_impl.LSTMCell object at 0x7f0b22694a90>>: AttributeError: module 'gast' has no attribute 'Index'\n",
      "WARNING: Entity <bound method LSTMCell.call of <tensorflow.python.ops.rnn_cell_impl.LSTMCell object at 0x7f0b22694a90>> could not be transformed and will be executed as-is. Please report this to the AutgoGraph team. When filing the bug, set the verbosity to 10 (on Linux, `export AUTOGRAPH_VERBOSITY=10`) and attach the full output. Cause: converting <bound method LSTMCell.call of <tensorflow.python.ops.rnn_cell_impl.LSTMCell object at 0x7f0b22694a90>>: AttributeError: module 'gast' has no attribute 'Index'\n",
      "WARNING:tensorflow:From /home/samuel/ns-allinone-3.29/ns-3.29/scratch/RLinWiFi-master-original-queue-level-mean/agents/dqn/model.py:53: dense (from tensorflow.python.layers.core) is deprecated and will be removed in a future version.\n",
      "Instructions for updating:\n",
      "Use keras.layers.dense instead.\n",
      "WARNING:tensorflow:Entity <bound method Dense.call of <tensorflow.python.layers.core.Dense object at 0x7f0b22694a90>> could not be transformed and will be executed as-is. Please report this to the AutgoGraph team. When filing the bug, set the verbosity to 10 (on Linux, `export AUTOGRAPH_VERBOSITY=10`) and attach the full output. Cause: converting <bound method Dense.call of <tensorflow.python.layers.core.Dense object at 0x7f0b22694a90>>: AttributeError: module 'gast' has no attribute 'Index'\n",
      "WARNING: Entity <bound method Dense.call of <tensorflow.python.layers.core.Dense object at 0x7f0b22694a90>> could not be transformed and will be executed as-is. Please report this to the AutgoGraph team. When filing the bug, set the verbosity to 10 (on Linux, `export AUTOGRAPH_VERBOSITY=10`) and attach the full output. Cause: converting <bound method Dense.call of <tensorflow.python.layers.core.Dense object at 0x7f0b22694a90>>: AttributeError: module 'gast' has no attribute 'Index'\n",
      "WARNING:tensorflow:Entity <bound method Dense.call of <tensorflow.python.layers.core.Dense object at 0x7f0b22694a90>> could not be transformed and will be executed as-is. Please report this to the AutgoGraph team. When filing the bug, set the verbosity to 10 (on Linux, `export AUTOGRAPH_VERBOSITY=10`) and attach the full output. Cause: converting <bound method Dense.call of <tensorflow.python.layers.core.Dense object at 0x7f0b22694a90>>: AttributeError: module 'gast' has no attribute 'Index'\n",
      "WARNING: Entity <bound method Dense.call of <tensorflow.python.layers.core.Dense object at 0x7f0b22694a90>> could not be transformed and will be executed as-is. Please report this to the AutgoGraph team. When filing the bug, set the verbosity to 10 (on Linux, `export AUTOGRAPH_VERBOSITY=10`) and attach the full output. Cause: converting <bound method Dense.call of <tensorflow.python.layers.core.Dense object at 0x7f0b22694a90>>: AttributeError: module 'gast' has no attribute 'Index'\n"
     ]
    },
    {
     "name": "stdout",
     "output_type": "stream",
     "text": [
      "WARNING:tensorflow:Entity <bound method Dense.call of <tensorflow.python.layers.core.Dense object at 0x7f0b22694a90>> could not be transformed and will be executed as-is. Please report this to the AutgoGraph team. When filing the bug, set the verbosity to 10 (on Linux, `export AUTOGRAPH_VERBOSITY=10`) and attach the full output. Cause: converting <bound method Dense.call of <tensorflow.python.layers.core.Dense object at 0x7f0b22694a90>>: AttributeError: module 'gast' has no attribute 'Index'\n",
      "WARNING: Entity <bound method Dense.call of <tensorflow.python.layers.core.Dense object at 0x7f0b22694a90>> could not be transformed and will be executed as-is. Please report this to the AutgoGraph team. When filing the bug, set the verbosity to 10 (on Linux, `export AUTOGRAPH_VERBOSITY=10`) and attach the full output. Cause: converting <bound method Dense.call of <tensorflow.python.layers.core.Dense object at 0x7f0b22694a90>>: AttributeError: module 'gast' has no attribute 'Index'\n",
      "WARNING:tensorflow:From /home/samuel/ns-allinone-3.29/ns-3.29/scratch/RLinWiFi-master-original-queue-level-mean/agents/dqn/model.py:69: The name tf.losses.mean_squared_error is deprecated. Please use tf.compat.v1.losses.mean_squared_error instead.\n",
      "\n",
      "WARNING:tensorflow:From /home/samuel/anaconda3/envs/myEnv3_7/lib/python3.7/site-packages/tensorflow/python/ops/losses/losses_impl.py:121: add_dispatch_support.<locals>.wrapper (from tensorflow.python.ops.array_ops) is deprecated and will be removed in a future version.\n",
      "Instructions for updating:\n",
      "Use tf.where in 2.0, which has the same broadcast rule as np.where\n",
      "WARNING:tensorflow:From /home/samuel/ns-allinone-3.29/ns-3.29/scratch/RLinWiFi-master-original-queue-level-mean/agents/dqn/model.py:77: The name tf.train.AdamOptimizer is deprecated. Please use tf.compat.v1.train.AdamOptimizer instead.\n",
      "\n",
      "WARNING:tensorflow:From /home/samuel/ns-allinone-3.29/ns-3.29/scratch/RLinWiFi-master-original-queue-level-mean/agents/dqn/model.py:33: The name tf.global_variables_initializer is deprecated. Please use tf.compat.v1.global_variables_initializer instead.\n",
      "\n",
      "WARNING:tensorflow:From /home/samuel/ns-allinone-3.29/ns-3.29/scratch/RLinWiFi-master-original-queue-level-mean/agents/dqn/model.py:34: The name tf.local_variables_initializer is deprecated. Please use tf.compat.v1.local_variables_initializer instead.\n",
      "\n",
      "WARNING:tensorflow:Entity <bound method LSTMCell.call of <tensorflow.python.ops.rnn_cell_impl.LSTMCell object at 0x7f0adbe0f910>> could not be transformed and will be executed as-is. Please report this to the AutgoGraph team. When filing the bug, set the verbosity to 10 (on Linux, `export AUTOGRAPH_VERBOSITY=10`) and attach the full output. Cause: converting <bound method LSTMCell.call of <tensorflow.python.ops.rnn_cell_impl.LSTMCell object at 0x7f0adbe0f910>>: AttributeError: module 'gast' has no attribute 'Index'\n",
      "WARNING: Entity <bound method LSTMCell.call of <tensorflow.python.ops.rnn_cell_impl.LSTMCell object at 0x7f0adbe0f910>> could not be transformed and will be executed as-is. Please report this to the AutgoGraph team. When filing the bug, set the verbosity to 10 (on Linux, `export AUTOGRAPH_VERBOSITY=10`) and attach the full output. Cause: converting <bound method LSTMCell.call of <tensorflow.python.ops.rnn_cell_impl.LSTMCell object at 0x7f0adbe0f910>>: AttributeError: module 'gast' has no attribute 'Index'\n",
      "WARNING:tensorflow:Entity <bound method LSTMCell.call of <tensorflow.python.ops.rnn_cell_impl.LSTMCell object at 0x7f0adbe0f910>> could not be transformed and will be executed as-is. Please report this to the AutgoGraph team. When filing the bug, set the verbosity to 10 (on Linux, `export AUTOGRAPH_VERBOSITY=10`) and attach the full output. Cause: converting <bound method LSTMCell.call of <tensorflow.python.ops.rnn_cell_impl.LSTMCell object at 0x7f0adbe0f910>>: AttributeError: module 'gast' has no attribute 'Index'\n"
     ]
    },
    {
     "name": "stderr",
     "output_type": "stream",
     "text": [
      "2023-02-13 21:47:19.709627: W tensorflow/compiler/jit/mark_for_compilation_pass.cc:1412] (One-time warning): Not using XLA:CPU for cluster because envvar TF_XLA_FLAGS=--tf_xla_cpu_global_jit was not set.  If you want XLA:CPU, either set that envvar, or use experimental_jit_scope to enable XLA:CPU.  To confirm that XLA is active, pass --vmodule=xla_compilation_cache=1 (as a proper command-line flag, not via TF_XLA_FLAGS) or set the envvar XLA_FLAGS=--xla_hlo_profile.\n"
     ]
    },
    {
     "name": "stdout",
     "output_type": "stream",
     "text": [
      "WARNING: Entity <bound method LSTMCell.call of <tensorflow.python.ops.rnn_cell_impl.LSTMCell object at 0x7f0adbe0f910>> could not be transformed and will be executed as-is. Please report this to the AutgoGraph team. When filing the bug, set the verbosity to 10 (on Linux, `export AUTOGRAPH_VERBOSITY=10`) and attach the full output. Cause: converting <bound method LSTMCell.call of <tensorflow.python.ops.rnn_cell_impl.LSTMCell object at 0x7f0adbe0f910>>: AttributeError: module 'gast' has no attribute 'Index'\n",
      "WARNING:tensorflow:Entity <bound method LSTMCell.call of <tensorflow.python.ops.rnn_cell_impl.LSTMCell object at 0x7f0adbe0f910>> could not be transformed and will be executed as-is. Please report this to the AutgoGraph team. When filing the bug, set the verbosity to 10 (on Linux, `export AUTOGRAPH_VERBOSITY=10`) and attach the full output. Cause: converting <bound method LSTMCell.call of <tensorflow.python.ops.rnn_cell_impl.LSTMCell object at 0x7f0adbe0f910>>: AttributeError: module 'gast' has no attribute 'Index'\n",
      "WARNING: Entity <bound method LSTMCell.call of <tensorflow.python.ops.rnn_cell_impl.LSTMCell object at 0x7f0adbe0f910>> could not be transformed and will be executed as-is. Please report this to the AutgoGraph team. When filing the bug, set the verbosity to 10 (on Linux, `export AUTOGRAPH_VERBOSITY=10`) and attach the full output. Cause: converting <bound method LSTMCell.call of <tensorflow.python.ops.rnn_cell_impl.LSTMCell object at 0x7f0adbe0f910>>: AttributeError: module 'gast' has no attribute 'Index'\n",
      "WARNING:tensorflow:Entity <bound method LSTMCell.call of <tensorflow.python.ops.rnn_cell_impl.LSTMCell object at 0x7f0adbe0f910>> could not be transformed and will be executed as-is. Please report this to the AutgoGraph team. When filing the bug, set the verbosity to 10 (on Linux, `export AUTOGRAPH_VERBOSITY=10`) and attach the full output. Cause: converting <bound method LSTMCell.call of <tensorflow.python.ops.rnn_cell_impl.LSTMCell object at 0x7f0adbe0f910>>: AttributeError: module 'gast' has no attribute 'Index'\n",
      "WARNING: Entity <bound method LSTMCell.call of <tensorflow.python.ops.rnn_cell_impl.LSTMCell object at 0x7f0adbe0f910>> could not be transformed and will be executed as-is. Please report this to the AutgoGraph team. When filing the bug, set the verbosity to 10 (on Linux, `export AUTOGRAPH_VERBOSITY=10`) and attach the full output. Cause: converting <bound method LSTMCell.call of <tensorflow.python.ops.rnn_cell_impl.LSTMCell object at 0x7f0adbe0f910>>: AttributeError: module 'gast' has no attribute 'Index'\n",
      "WARNING:tensorflow:Entity <bound method Dense.call of <tensorflow.python.layers.core.Dense object at 0x7f0b226e9590>> could not be transformed and will be executed as-is. Please report this to the AutgoGraph team. When filing the bug, set the verbosity to 10 (on Linux, `export AUTOGRAPH_VERBOSITY=10`) and attach the full output. Cause: converting <bound method Dense.call of <tensorflow.python.layers.core.Dense object at 0x7f0b226e9590>>: AttributeError: module 'gast' has no attribute 'Index'\n",
      "WARNING: Entity <bound method Dense.call of <tensorflow.python.layers.core.Dense object at 0x7f0b226e9590>> could not be transformed and will be executed as-is. Please report this to the AutgoGraph team. When filing the bug, set the verbosity to 10 (on Linux, `export AUTOGRAPH_VERBOSITY=10`) and attach the full output. Cause: converting <bound method Dense.call of <tensorflow.python.layers.core.Dense object at 0x7f0b226e9590>>: AttributeError: module 'gast' has no attribute 'Index'\n",
      "WARNING:tensorflow:Entity <bound method Dense.call of <tensorflow.python.layers.core.Dense object at 0x7f0b226e9590>> could not be transformed and will be executed as-is. Please report this to the AutgoGraph team. When filing the bug, set the verbosity to 10 (on Linux, `export AUTOGRAPH_VERBOSITY=10`) and attach the full output. Cause: converting <bound method Dense.call of <tensorflow.python.layers.core.Dense object at 0x7f0b226e9590>>: AttributeError: module 'gast' has no attribute 'Index'\n",
      "WARNING: Entity <bound method Dense.call of <tensorflow.python.layers.core.Dense object at 0x7f0b226e9590>> could not be transformed and will be executed as-is. Please report this to the AutgoGraph team. When filing the bug, set the verbosity to 10 (on Linux, `export AUTOGRAPH_VERBOSITY=10`) and attach the full output. Cause: converting <bound method Dense.call of <tensorflow.python.layers.core.Dense object at 0x7f0b226e9590>>: AttributeError: module 'gast' has no attribute 'Index'\n",
      "WARNING:tensorflow:Entity <bound method Dense.call of <tensorflow.python.layers.core.Dense object at 0x7f0b226e9590>> could not be transformed and will be executed as-is. Please report this to the AutgoGraph team. When filing the bug, set the verbosity to 10 (on Linux, `export AUTOGRAPH_VERBOSITY=10`) and attach the full output. Cause: converting <bound method Dense.call of <tensorflow.python.layers.core.Dense object at 0x7f0b226e9590>>: AttributeError: module 'gast' has no attribute 'Index'\n",
      "WARNING: Entity <bound method Dense.call of <tensorflow.python.layers.core.Dense object at 0x7f0b226e9590>> could not be transformed and will be executed as-is. Please report this to the AutgoGraph team. When filing the bug, set the verbosity to 10 (on Linux, `export AUTOGRAPH_VERBOSITY=10`) and attach the full output. Cause: converting <bound method Dense.call of <tensorflow.python.layers.core.Dense object at 0x7f0b226e9590>>: AttributeError: module 'gast' has no attribute 'Index'\n",
      "WARNING:tensorflow:From /home/samuel/ns-allinone-3.29/ns-3.29/scratch/RLinWiFi-master-original-queue-level-mean/agents/dqn/agent.py:77: The name tf.train.Saver is deprecated. Please use tf.compat.v1.train.Saver instead.\n",
      "\n",
      "Action space: 7\n",
      "WARNING:tensorflow:From /home/samuel/ns-allinone-3.29/ns-3.29/scratch/RLinWiFi-master-original-queue-level-mean/agents/dqn/agent.py:107: Variable.load (from tensorflow.python.ops.variables) is deprecated and will be removed in a future version.\n",
      "Instructions for updating:\n",
      "Prefer Variable.assign which has equivalent behavior in 2.X.\n"
     ]
    },
    {
     "name": "stderr",
     "output_type": "stream",
     "text": [
      "COMET INFO: Experiment is live on comet.ml https://www.comet.com/sheila-janota/rl-in-wifi-with-queue-level/81f4cc378146449e928216874f49f814\n",
      "\n",
      "  0%|          | 0/6300 [00:00<?, ?it/s]"
     ]
    },
    {
     "name": "stdout",
     "output_type": "stream",
     "text": [
      "0\n"
     ]
    },
    {
     "name": "stderr",
     "output_type": "stream",
     "text": [
      "  5%|▌         | 333/6300 [03:02<1:03:00,  1.58it/s, curr_speed=31.10 Mbps, mb_sent=9.95 Mb]"
     ]
    },
    {
     "name": "stdout",
     "output_type": "stream",
     "text": [
      "------- STARTED TRAINING -------\n"
     ]
    },
    {
     "name": "stderr",
     "output_type": "stream",
     "text": [
      "100%|██████████| 6300/6300 [1:03:12<00:00,  1.66it/s, curr_speed=29.64 Mbps, mb_sent=1908.12 Mb]\n"
     ]
    },
    {
     "name": "stdout",
     "output_type": "stream",
     "text": [
      "Waiting for simulation script to connect on port: tcp://localhost:36386\n",
      "Please start proper ns-3 simulation script using ./waf --run \"...\"\n",
      "Waf: Entering directory `/home/samuel/ns-allinone-3.29/ns-3.29/build'\n",
      "Waf: Leaving directory `/home/samuel/ns-allinone-3.29/ns-3.29/build'\n",
      "Build commands will be stored in build/compile_commands.json\n",
      "'build' finished successfully (3.958s)\n"
     ]
    },
    {
     "name": "stderr",
     "output_type": "stream",
     "text": [
      "Ns3Env parameters:\n",
      "--nWifi: 15\n",
      "--simulationTime: 60\n",
      "--openGymPort: 36386\n",
      "--envStepTime: 0.01\n",
      "--seed: 42\n",
      "--agentType: discrete\n",
      "--scenario: basic\n",
      "--dryRun: 0\n",
      "Simulation started\n",
      "Simulation process id: 1019265 (parent (waf shell) id: 1019219)\n",
      "Waiting for Python process to connect on port: tcp://localhost:36386\n",
      "Please start proper Python Gym Agent\n",
      "  0%|          | 0/6300 [00:00<?, ?it/s]"
     ]
    },
    {
     "name": "stdout",
     "output_type": "stream",
     "text": [
      "Sent 1908.12 Mb/s.\tMean speed: 31.80 Mb/s\tEpisode 1/15 finished\n",
      "\n",
      "1\n"
     ]
    },
    {
     "name": "stderr",
     "output_type": "stream",
     "text": [
      "100%|██████████| 6300/6300 [1:03:46<00:00,  1.65it/s, curr_speed=29.92 Mbps, mb_sent=2033.43 Mb]\n"
     ]
    },
    {
     "name": "stdout",
     "output_type": "stream",
     "text": [
      "Waiting for simulation script to connect on port: tcp://localhost:24565\n",
      "Please start proper ns-3 simulation script using ./waf --run \"...\"\n",
      "Waf: Entering directory `/home/samuel/ns-allinone-3.29/ns-3.29/build'\n",
      "Waf: Leaving directory `/home/samuel/ns-allinone-3.29/ns-3.29/build'\n",
      "Build commands will be stored in build/compile_commands.json\n",
      "'build' finished successfully (3.160s)\n"
     ]
    },
    {
     "name": "stderr",
     "output_type": "stream",
     "text": [
      "Ns3Env parameters:\n",
      "--nWifi: 15\n",
      "--simulationTime: 60\n",
      "--openGymPort: 24565\n",
      "--envStepTime: 0.01\n",
      "--seed: 42\n",
      "--agentType: discrete\n",
      "--scenario: basic\n",
      "--dryRun: 0\n",
      "Simulation started\n",
      "Simulation process id: 1050055 (parent (waf shell) id: 1050021)\n",
      "Waiting for Python process to connect on port: tcp://localhost:24565\n",
      "Please start proper Python Gym Agent\n",
      "  0%|          | 0/6300 [00:00<?, ?it/s]"
     ]
    },
    {
     "name": "stdout",
     "output_type": "stream",
     "text": [
      "Sent 2033.43 Mb/s.\tMean speed: 33.89 Mb/s\tEpisode 2/15 finished\n",
      "\n",
      "2\n"
     ]
    },
    {
     "name": "stderr",
     "output_type": "stream",
     "text": [
      "100%|██████████| 6300/6300 [1:03:44<00:00,  1.65it/s, curr_speed=31.77 Mbps, mb_sent=2123.62 Mb]\n"
     ]
    },
    {
     "name": "stdout",
     "output_type": "stream",
     "text": [
      "Waiting for simulation script to connect on port: tcp://localhost:19068\n",
      "Please start proper ns-3 simulation script using ./waf --run \"...\"\n",
      "Waf: Entering directory `/home/samuel/ns-allinone-3.29/ns-3.29/build'\n",
      "Waf: Leaving directory `/home/samuel/ns-allinone-3.29/ns-3.29/build'\n",
      "Build commands will be stored in build/compile_commands.json\n",
      "'build' finished successfully (3.761s)\n"
     ]
    },
    {
     "name": "stderr",
     "output_type": "stream",
     "text": [
      "Ns3Env parameters:\n",
      "--nWifi: 15\n",
      "--simulationTime: 60\n",
      "--openGymPort: 19068\n",
      "--envStepTime: 0.01\n",
      "--seed: 42\n",
      "--agentType: discrete\n",
      "--scenario: basic\n",
      "--dryRun: 0\n",
      "Simulation started\n",
      "Simulation process id: 1081446 (parent (waf shell) id: 1081403)\n",
      "Waiting for Python process to connect on port: tcp://localhost:19068\n",
      "Please start proper Python Gym Agent\n",
      "  0%|          | 0/6300 [00:00<?, ?it/s]"
     ]
    },
    {
     "name": "stdout",
     "output_type": "stream",
     "text": [
      "Sent 2123.62 Mb/s.\tMean speed: 35.39 Mb/s\tEpisode 3/15 finished\n",
      "\n",
      "3\n"
     ]
    },
    {
     "name": "stderr",
     "output_type": "stream",
     "text": [
      "  5%|▍         | 304/6300 [02:54<1:05:23,  1.53it/s, curr_speed=38.72 Mbps, mb_sent=1.16 Mb]"
     ]
    },
    {
     "name": "stdout",
     "output_type": "stream",
     "text": [
      "------- MEMORY BUFFER FILLED -------\n"
     ]
    },
    {
     "name": "stderr",
     "output_type": "stream",
     "text": [
      "100%|██████████| 6300/6300 [57:28<00:00,  1.83it/s, curr_speed=34.19 Mbps, mb_sent=2179.54 Mb] \n"
     ]
    },
    {
     "name": "stdout",
     "output_type": "stream",
     "text": [
      "Waiting for simulation script to connect on port: tcp://localhost:49822\n",
      "Please start proper ns-3 simulation script using ./waf --run \"...\"\n",
      "Waf: Entering directory `/home/samuel/ns-allinone-3.29/ns-3.29/build'\n",
      "Waf: Leaving directory `/home/samuel/ns-allinone-3.29/ns-3.29/build'\n",
      "Build commands will be stored in build/compile_commands.json\n",
      "'build' finished successfully (3.080s)\n"
     ]
    },
    {
     "name": "stderr",
     "output_type": "stream",
     "text": [
      "Ns3Env parameters:\n",
      "--nWifi: 15\n",
      "--simulationTime: 60\n",
      "--openGymPort: 49822\n",
      "--envStepTime: 0.01\n",
      "--seed: 42\n",
      "--agentType: discrete\n",
      "--scenario: basic\n",
      "--dryRun: 0\n",
      "Simulation started\n",
      "Simulation process id: 1106697 (parent (waf shell) id: 1106670)\n",
      "Waiting for Python process to connect on port: tcp://localhost:49822\n",
      "Please start proper Python Gym Agent\n",
      "  0%|          | 0/6300 [00:00<?, ?it/s]"
     ]
    },
    {
     "name": "stdout",
     "output_type": "stream",
     "text": [
      "Sent 2179.54 Mb/s.\tMean speed: 36.33 Mb/s\tEpisode 4/15 finished\n",
      "\n",
      "4\n"
     ]
    },
    {
     "name": "stderr",
     "output_type": "stream",
     "text": [
      "100%|██████████| 6300/6300 [52:48<00:00,  1.99it/s, curr_speed=36.86 Mbps, mb_sent=2216.90 Mb]\n"
     ]
    },
    {
     "name": "stdout",
     "output_type": "stream",
     "text": [
      "Waiting for simulation script to connect on port: tcp://localhost:28912\n",
      "Please start proper ns-3 simulation script using ./waf --run \"...\"\n",
      "Waf: Entering directory `/home/samuel/ns-allinone-3.29/ns-3.29/build'\n",
      "Waf: Leaving directory `/home/samuel/ns-allinone-3.29/ns-3.29/build'\n",
      "Build commands will be stored in build/compile_commands.json\n",
      "'build' finished successfully (3.323s)\n"
     ]
    },
    {
     "name": "stderr",
     "output_type": "stream",
     "text": [
      "Ns3Env parameters:\n",
      "--nWifi: 15\n",
      "--simulationTime: 60\n",
      "--openGymPort: 28912\n",
      "--envStepTime: 0.01\n",
      "--seed: 42\n",
      "--agentType: discrete\n",
      "--scenario: basic\n",
      "--dryRun: 0\n",
      "Simulation started\n",
      "Simulation process id: 1124356 (parent (waf shell) id: 1124328)\n",
      "Waiting for Python process to connect on port: tcp://localhost:28912\n",
      "Please start proper Python Gym Agent\n",
      "  0%|          | 0/6300 [00:00<?, ?it/s]"
     ]
    },
    {
     "name": "stdout",
     "output_type": "stream",
     "text": [
      "Sent 2216.90 Mb/s.\tMean speed: 36.95 Mb/s\tEpisode 5/15 finished\n",
      "\n",
      "5\n"
     ]
    },
    {
     "name": "stderr",
     "output_type": "stream",
     "text": [
      "100%|██████████| 6300/6300 [52:51<00:00,  1.99it/s, curr_speed=37.15 Mbps, mb_sent=2239.07 Mb]\n"
     ]
    },
    {
     "name": "stdout",
     "output_type": "stream",
     "text": [
      "Waiting for simulation script to connect on port: tcp://localhost:44951\n",
      "Please start proper ns-3 simulation script using ./waf --run \"...\"\n",
      "Waf: Entering directory `/home/samuel/ns-allinone-3.29/ns-3.29/build'\n",
      "Waf: Leaving directory `/home/samuel/ns-allinone-3.29/ns-3.29/build'\n",
      "Build commands will be stored in build/compile_commands.json\n",
      "'build' finished successfully (3.067s)\n"
     ]
    },
    {
     "name": "stderr",
     "output_type": "stream",
     "text": [
      "Ns3Env parameters:\n",
      "--nWifi: 15\n",
      "--simulationTime: 60\n",
      "--openGymPort: 44951\n",
      "--envStepTime: 0.01\n",
      "--seed: 42\n",
      "--agentType: discrete\n",
      "--scenario: basic\n",
      "--dryRun: 0\n",
      "Simulation started\n",
      "Simulation process id: 1141378 (parent (waf shell) id: 1141354)\n",
      "Waiting for Python process to connect on port: tcp://localhost:44951\n",
      "Please start proper Python Gym Agent\n",
      "  0%|          | 0/6300 [00:00<?, ?it/s]"
     ]
    },
    {
     "name": "stdout",
     "output_type": "stream",
     "text": [
      "Sent 2239.07 Mb/s.\tMean speed: 37.32 Mb/s\tEpisode 6/15 finished\n",
      "\n",
      "6\n"
     ]
    },
    {
     "name": "stderr",
     "output_type": "stream",
     "text": [
      "100%|██████████| 6300/6300 [52:50<00:00,  1.99it/s, curr_speed=37.59 Mbps, mb_sent=2248.71 Mb]\n"
     ]
    },
    {
     "name": "stdout",
     "output_type": "stream",
     "text": [
      "Waiting for simulation script to connect on port: tcp://localhost:24152\n",
      "Please start proper ns-3 simulation script using ./waf --run \"...\"\n",
      "Waf: Entering directory `/home/samuel/ns-allinone-3.29/ns-3.29/build'\n",
      "Waf: Leaving directory `/home/samuel/ns-allinone-3.29/ns-3.29/build'\n",
      "Build commands will be stored in build/compile_commands.json\n",
      "'build' finished successfully (3.093s)\n"
     ]
    },
    {
     "name": "stderr",
     "output_type": "stream",
     "text": [
      "Ns3Env parameters:\n",
      "--nWifi: 15\n",
      "--simulationTime: 60\n",
      "--openGymPort: 24152\n",
      "--envStepTime: 0.01\n",
      "--seed: 42\n",
      "--agentType: discrete\n",
      "--scenario: basic\n",
      "--dryRun: 0\n",
      "Simulation started\n",
      "Simulation process id: 1159158 (parent (waf shell) id: 1159133)\n",
      "Waiting for Python process to connect on port: tcp://localhost:24152\n",
      "Please start proper Python Gym Agent\n",
      "  0%|          | 0/6300 [00:00<?, ?it/s]"
     ]
    },
    {
     "name": "stdout",
     "output_type": "stream",
     "text": [
      "Sent 2248.71 Mb/s.\tMean speed: 37.48 Mb/s\tEpisode 7/15 finished\n",
      "\n",
      "7\n"
     ]
    },
    {
     "name": "stderr",
     "output_type": "stream",
     "text": [
      "100%|██████████| 6300/6300 [52:38<00:00,  1.99it/s, curr_speed=37.84 Mbps, mb_sent=2252.07 Mb]\n"
     ]
    },
    {
     "name": "stdout",
     "output_type": "stream",
     "text": [
      "Waiting for simulation script to connect on port: tcp://localhost:45248\n",
      "Please start proper ns-3 simulation script using ./waf --run \"...\"\n",
      "Waf: Entering directory `/home/samuel/ns-allinone-3.29/ns-3.29/build'\n",
      "Waf: Leaving directory `/home/samuel/ns-allinone-3.29/ns-3.29/build'\n",
      "Build commands will be stored in build/compile_commands.json\n",
      "'build' finished successfully (2.863s)\n"
     ]
    },
    {
     "name": "stderr",
     "output_type": "stream",
     "text": [
      "Ns3Env parameters:\n",
      "--nWifi: 15\n",
      "--simulationTime: 60\n",
      "--openGymPort: 45248\n",
      "--envStepTime: 0.01\n",
      "--seed: 42\n",
      "--agentType: discrete\n",
      "--scenario: basic\n",
      "--dryRun: 0\n",
      "Simulation started\n",
      "Simulation process id: 1176236 (parent (waf shell) id: 1176212)\n",
      "Waiting for Python process to connect on port: tcp://localhost:45248\n",
      "Please start proper Python Gym Agent\n",
      "  0%|          | 0/6300 [00:00<?, ?it/s]"
     ]
    },
    {
     "name": "stdout",
     "output_type": "stream",
     "text": [
      "Sent 2252.07 Mb/s.\tMean speed: 37.53 Mb/s\tEpisode 8/15 finished\n",
      "\n",
      "8\n"
     ]
    },
    {
     "name": "stderr",
     "output_type": "stream",
     "text": [
      "100%|██████████| 6300/6300 [52:17<00:00,  2.01it/s, curr_speed=37.98 Mbps, mb_sent=2254.23 Mb]\n"
     ]
    },
    {
     "name": "stdout",
     "output_type": "stream",
     "text": [
      "Waiting for simulation script to connect on port: tcp://localhost:35868\n",
      "Please start proper ns-3 simulation script using ./waf --run \"...\"\n",
      "Waf: Entering directory `/home/samuel/ns-allinone-3.29/ns-3.29/build'\n",
      "Waf: Leaving directory `/home/samuel/ns-allinone-3.29/ns-3.29/build'\n",
      "Build commands will be stored in build/compile_commands.json\n",
      "'build' finished successfully (2.711s)\n"
     ]
    },
    {
     "name": "stderr",
     "output_type": "stream",
     "text": [
      "Ns3Env parameters:\n",
      "--nWifi: 15\n",
      "--simulationTime: 60\n",
      "--openGymPort: 35868\n",
      "--envStepTime: 0.01\n",
      "--seed: 42\n",
      "--agentType: discrete\n",
      "--scenario: basic\n",
      "--dryRun: 0\n",
      "Simulation started\n",
      "Simulation process id: 1193654 (parent (waf shell) id: 1193632)\n",
      "Waiting for Python process to connect on port: tcp://localhost:35868\n",
      "Please start proper Python Gym Agent\n",
      "  0%|          | 0/6300 [00:00<?, ?it/s]"
     ]
    },
    {
     "name": "stdout",
     "output_type": "stream",
     "text": [
      "Sent 2254.23 Mb/s.\tMean speed: 37.57 Mb/s\tEpisode 9/15 finished\n",
      "\n",
      "9\n"
     ]
    },
    {
     "name": "stderr",
     "output_type": "stream",
     "text": [
      "100%|██████████| 6300/6300 [46:50<00:00,  2.24it/s, curr_speed=37.51 Mbps, mb_sent=2259.60 Mb]\n"
     ]
    },
    {
     "name": "stdout",
     "output_type": "stream",
     "text": [
      "Waiting for simulation script to connect on port: tcp://localhost:53210\n",
      "Please start proper ns-3 simulation script using ./waf --run \"...\"\n",
      "Waf: Entering directory `/home/samuel/ns-allinone-3.29/ns-3.29/build'\n",
      "Waf: Leaving directory `/home/samuel/ns-allinone-3.29/ns-3.29/build'\n",
      "Build commands will be stored in build/compile_commands.json\n",
      "'build' finished successfully (2.914s)\n"
     ]
    },
    {
     "name": "stderr",
     "output_type": "stream",
     "text": [
      "Ns3Env parameters:\n",
      "--nWifi: 15\n",
      "--simulationTime: 60\n",
      "--openGymPort: 53210\n",
      "--envStepTime: 0.01\n",
      "--seed: 42\n",
      "--agentType: discrete\n",
      "--scenario: basic\n",
      "--dryRun: 0\n",
      "Simulation started\n",
      "Simulation process id: 1207766 (parent (waf shell) id: 1207745)\n",
      "Waiting for Python process to connect on port: tcp://localhost:53210\n",
      "Please start proper Python Gym Agent\n",
      "  0%|          | 0/6300 [00:00<?, ?it/s]"
     ]
    },
    {
     "name": "stdout",
     "output_type": "stream",
     "text": [
      "Sent 2259.60 Mb/s.\tMean speed: 37.66 Mb/s\tEpisode 10/15 finished\n",
      "\n",
      "10\n"
     ]
    },
    {
     "name": "stderr",
     "output_type": "stream",
     "text": [
      "100%|██████████| 6300/6300 [1:00:44<00:00,  1.73it/s, curr_speed=37.74 Mbps, mb_sent=2259.59 Mb]\n"
     ]
    },
    {
     "name": "stdout",
     "output_type": "stream",
     "text": [
      "Waiting for simulation script to connect on port: tcp://localhost:21366\n",
      "Please start proper ns-3 simulation script using ./waf --run \"...\"\n",
      "Waf: Entering directory `/home/samuel/ns-allinone-3.29/ns-3.29/build'\n",
      "Waf: Leaving directory `/home/samuel/ns-allinone-3.29/ns-3.29/build'\n",
      "Build commands will be stored in build/compile_commands.json\n",
      "'build' finished successfully (3.916s)\n"
     ]
    },
    {
     "name": "stderr",
     "output_type": "stream",
     "text": [
      "Ns3Env parameters:\n",
      "--nWifi: 15\n",
      "--simulationTime: 60\n",
      "--openGymPort: 21366\n",
      "--envStepTime: 0.01\n",
      "--seed: 42\n",
      "--agentType: discrete\n",
      "--scenario: basic\n",
      "--dryRun: 0\n",
      "Simulation started\n",
      "Simulation process id: 1233332 (parent (waf shell) id: 1233291)\n",
      "Waiting for Python process to connect on port: tcp://localhost:21366\n",
      "Please start proper Python Gym Agent\n",
      "  0%|          | 0/6300 [00:00<?, ?it/s]"
     ]
    },
    {
     "name": "stdout",
     "output_type": "stream",
     "text": [
      "Sent 2259.59 Mb/s.\tMean speed: 37.66 Mb/s\tEpisode 11/15 finished\n",
      "\n",
      "11\n"
     ]
    },
    {
     "name": "stderr",
     "output_type": "stream",
     "text": [
      "100%|██████████| 6300/6300 [1:04:49<00:00,  1.62it/s, curr_speed=34.12 Mbps, mb_sent=2251.77 Mb]\n"
     ]
    },
    {
     "name": "stdout",
     "output_type": "stream",
     "text": [
      "Waiting for simulation script to connect on port: tcp://localhost:32254\n",
      "Please start proper ns-3 simulation script using ./waf --run \"...\"\n",
      "Waf: Entering directory `/home/samuel/ns-allinone-3.29/ns-3.29/build'\n",
      "Waf: Leaving directory `/home/samuel/ns-allinone-3.29/ns-3.29/build'\n",
      "Build commands will be stored in build/compile_commands.json\n",
      "'build' finished successfully (3.868s)\n"
     ]
    },
    {
     "name": "stderr",
     "output_type": "stream",
     "text": [
      "Ns3Env parameters:\n",
      "--nWifi: 15\n",
      "--simulationTime: 60\n",
      "--openGymPort: 32254\n",
      "--envStepTime: 0.01\n",
      "--seed: 42\n",
      "--agentType: discrete\n",
      "--scenario: basic\n",
      "--dryRun: 0\n",
      "Simulation started\n"
     ]
    },
    {
     "name": "stdout",
     "output_type": "stream",
     "text": [
      "WARNING:tensorflow:From /home/samuel/anaconda3/envs/myEnv3_7/lib/python3.7/site-packages/tensorflow/python/training/saver.py:960: remove_checkpoint (from tensorflow.python.training.checkpoint_management) is deprecated and will be removed in a future version.\n",
      "Instructions for updating:\n",
      "Use standard file APIs to delete files with this prefix.\n"
     ]
    },
    {
     "name": "stderr",
     "output_type": "stream",
     "text": [
      "Simulation process id: 1265202 (parent (waf shell) id: 1265160)\n",
      "Waiting for Python process to connect on port: tcp://localhost:32254\n",
      "Please start proper Python Gym Agent\n",
      "  0%|          | 0/6300 [00:00<?, ?it/s]"
     ]
    },
    {
     "name": "stdout",
     "output_type": "stream",
     "text": [
      "Sent 2251.77 Mb/s.\tMean speed: 37.53 Mb/s\tEpisode 12/15 finished\n",
      "\n",
      "12\n",
      "Turning off noise\n"
     ]
    },
    {
     "name": "stderr",
     "output_type": "stream",
     "text": [
      "100%|██████████| 6300/6300 [1:04:32<00:00,  1.63it/s, curr_speed=37.18 Mbps, mb_sent=2255.86 Mb]\n"
     ]
    },
    {
     "name": "stdout",
     "output_type": "stream",
     "text": [
      "Waiting for simulation script to connect on port: tcp://localhost:42183\n",
      "Please start proper ns-3 simulation script using ./waf --run \"...\"\n",
      "Waf: Entering directory `/home/samuel/ns-allinone-3.29/ns-3.29/build'\n",
      "Waf: Leaving directory `/home/samuel/ns-allinone-3.29/ns-3.29/build'\n",
      "Build commands will be stored in build/compile_commands.json\n",
      "'build' finished successfully (4.176s)\n"
     ]
    },
    {
     "name": "stderr",
     "output_type": "stream",
     "text": [
      "Ns3Env parameters:\n",
      "--nWifi: 15\n",
      "--simulationTime: 60\n",
      "--openGymPort: 42183\n",
      "--envStepTime: 0.01\n",
      "--seed: 42\n",
      "--agentType: discrete\n",
      "--scenario: basic\n",
      "--dryRun: 0\n",
      "Simulation started\n",
      "Simulation process id: 1296560 (parent (waf shell) id: 1296517)\n",
      "Waiting for Python process to connect on port: tcp://localhost:42183\n",
      "Please start proper Python Gym Agent\n",
      "  0%|          | 0/6300 [00:00<?, ?it/s]"
     ]
    },
    {
     "name": "stdout",
     "output_type": "stream",
     "text": [
      "Sent 2255.86 Mb/s.\tMean speed: 37.60 Mb/s\tEpisode 13/15 finished\n",
      "\n",
      "13\n",
      "Turning off noise\n"
     ]
    },
    {
     "name": "stderr",
     "output_type": "stream",
     "text": [
      "100%|██████████| 6300/6300 [1:05:05<00:00,  1.61it/s, curr_speed=31.34 Mbps, mb_sent=2239.93 Mb]\n"
     ]
    },
    {
     "name": "stdout",
     "output_type": "stream",
     "text": [
      "Waiting for simulation script to connect on port: tcp://localhost:51681\n",
      "Please start proper ns-3 simulation script using ./waf --run \"...\"\n",
      "Waf: Entering directory `/home/samuel/ns-allinone-3.29/ns-3.29/build'\n",
      "Waf: Leaving directory `/home/samuel/ns-allinone-3.29/ns-3.29/build'\n",
      "Build commands will be stored in build/compile_commands.json\n",
      "'build' finished successfully (3.568s)\n"
     ]
    },
    {
     "name": "stderr",
     "output_type": "stream",
     "text": [
      "Ns3Env parameters:\n",
      "--nWifi: 15\n",
      "--simulationTime: 60\n",
      "--openGymPort: 51681\n",
      "--envStepTime: 0.01\n",
      "--seed: 42\n",
      "--agentType: discrete\n",
      "--scenario: basic\n",
      "--dryRun: 0\n",
      "Simulation started\n",
      "Simulation process id: 1327380 (parent (waf shell) id: 1327343)\n",
      "Waiting for Python process to connect on port: tcp://localhost:51681\n",
      "Please start proper Python Gym Agent\n",
      "  0%|          | 0/6300 [00:00<?, ?it/s]"
     ]
    },
    {
     "name": "stdout",
     "output_type": "stream",
     "text": [
      "Sent 2239.93 Mb/s.\tMean speed: 37.33 Mb/s\tEpisode 14/15 finished\n",
      "\n",
      "14\n",
      "Turning off noise\n"
     ]
    },
    {
     "name": "stderr",
     "output_type": "stream",
     "text": [
      "100%|██████████| 6300/6300 [1:01:59<00:00,  1.69it/s, curr_speed=38.22 Mbps, mb_sent=2258.01 Mb]\n"
     ]
    },
    {
     "name": "stdout",
     "output_type": "stream",
     "text": [
      "Waiting for simulation script to connect on port: tcp://localhost:37063\n",
      "Please start proper ns-3 simulation script using ./waf --run \"...\"\n",
      "Waf: Entering directory `/home/samuel/ns-allinone-3.29/ns-3.29/build'\n",
      "Waf: Leaving directory `/home/samuel/ns-allinone-3.29/ns-3.29/build'\n",
      "Build commands will be stored in build/compile_commands.json\n",
      "'build' finished successfully (3.784s)\n"
     ]
    },
    {
     "name": "stderr",
     "output_type": "stream",
     "text": [
      "Ns3Env parameters:\n",
      "--nWifi: 15\n",
      "--simulationTime: 60\n",
      "--openGymPort: 37063\n",
      "--envStepTime: 0.01\n",
      "--seed: 42\n",
      "--agentType: discrete\n",
      "--scenario: basic\n",
      "--dryRun: 0\n",
      "Simulation started\n",
      "Simulation process id: 1357698 (parent (waf shell) id: 1357658)\n",
      "Waiting for Python process to connect on port: tcp://localhost:37063\n",
      "Please start proper Python Gym Agent\n",
      "COMET INFO: ----------------------------\n",
      "COMET INFO: Comet.ml Experiment Summary:\n",
      "COMET INFO:   Data:\n",
      "COMET INFO:     url: https://www.comet.com/sheila-janota/rl-in-wifi-with-queue-level/81f4cc378146449e928216874f49f814\n",
      "COMET INFO:   Metrics [count] (min, max):\n",
      "COMET INFO:     Chosen CW [89985]           : (16.0, 1024.0)\n",
      "COMET INFO:     Cumulative reward [15]      : (2510.14404296875, 3163.138916015625)\n",
      "COMET INFO:     Current throughput [89985]  : (19.41248321533203, 68.53564453125)\n",
      "COMET INFO:     Fairness index [89985]      : (nan, nan)\n",
      "COMET INFO:     Megabytes sent [89985]      : (0.20104999840259552, 2259.598648548126)\n",
      "COMET INFO:     Observation 0 [89985]       : (0.9331145809094111, 0.9343750000000001)\n",
      "COMET INFO:     Observation 1 [89985]       : (0.02386108210893123, 0.027331038754713415)\n",
      "COMET INFO:     Per-ep reward [89985]       : (124.308349609375, 3163.138916015625)\n",
      "COMET INFO:     Round megabytes sent [89985]: (0.05584700033068657, 11.8619384765625)\n",
      "COMET INFO:     Round reward [89985]        : (0.074462890625, 0.62548828125)\n",
      "COMET INFO:     Speed [15]                  : (31.801983737200498, 37.6599774758021)\n",
      "COMET INFO:     Station count [89985]       : (15.0, 15.0)\n",
      "COMET INFO:     loss [89985]                : (0.0, 0.20501556992530823)\n",
      "COMET INFO:   Uploads:\n",
      "COMET INFO:     histogram3d: 89985\n",
      "COMET INFO: ----------------------------\n",
      "COMET INFO: Uploading stats to Comet before program termination (may take several seconds)\n"
     ]
    },
    {
     "name": "stdout",
     "output_type": "stream",
     "text": [
      "Sent 2258.01 Mb/s.\tMean speed: 37.63 Mb/s\tEpisode 15/15 finished\n",
      "\n",
      "Training finished.\n"
     ]
    }
   ],
   "source": [
    "#%%\n",
    "teacher = Teacher(env, 1, Preprocessor(False))\n",
    "\n",
    "lr = 4e-4\n",
    "config = Config(buffer_size=3*steps_per_ep*threads_no, batch_size=32, gamma=0.7, tau=1e-3, lr=lr, update_every=1)\n",
    "agent = Agent(QNetworkTf, history_length, action_size=7, config=config)\n",
    "agent.set_epsilon(0.9, 0.001, EPISODE_COUNT-2)\n",
    "\n",
    "# Test the model\n",
    "hyperparams = {**config.__dict__, **sim_args}\n",
    "tags = [\"Rew: normalized speed\",\n",
    "        \"Final\",\n",
    "        f\"{Agent.NAME}\",\n",
    "        sim_args['scenario'],\n",
    "        f\"LR: {lr}\",\n",
    "        f\"Instances: {threads_no}\",\n",
    "        f\"Station count: {sim_args['nWifi']}\",\n",
    "        *[f\"{key}: {sim_args[key]}\" for key in list(sim_args)[:3]]]\n",
    "# # agent.save()\n",
    "logger = teacher.train(agent, EPISODE_COUNT,\n",
    "                        simTime=simTime,\n",
    "                        stepTime=stepTime,\n",
    "                        history_length=history_length,\n",
    "                        send_logs=True,\n",
    "                        experimental=True,\n",
    "                        tags=tags,\n",
    "                        parameters=hyperparams)\n",
    "#logger = teacher.eval(agent,\n",
    "#                        simTime=simTime,\n",
    "#                        stepTime=stepTime,\n",
    "#                        history_length=history_length,\n",
    "#                        tags=tags,\n",
    "#                        parameters=hyperparams)\n",
    "# agent.save()\n",
    "\n",
    "\n",
    "# %%"
   ]
  }
 ],
 "metadata": {
  "kernelspec": {
   "display_name": "Python 3 (ipykernel)",
   "language": "python",
   "name": "python3"
  },
  "language_info": {
   "codemirror_mode": {
    "name": "ipython",
    "version": 3
   },
   "file_extension": ".py",
   "mimetype": "text/x-python",
   "name": "python",
   "nbconvert_exporter": "python",
   "pygments_lexer": "ipython3",
   "version": "3.7.10"
  }
 },
 "nbformat": 4,
 "nbformat_minor": 5
}
