{
 "cells": [
  {
   "cell_type": "markdown",
   "id": "185cf2cb",
   "metadata": {},
   "source": [
    "# Execution num1:"
   ]
  },
  {
   "cell_type": "code",
   "execution_count": 1,
   "id": "e963ae41",
   "metadata": {},
   "outputs": [
    {
     "name": "stderr",
     "output_type": "stream",
     "text": [
      "/home/sheila/anaconda3/envs/environment_py3_7/lib/python3.7/site-packages/tensorflow/python/framework/dtypes.py:516: FutureWarning: Passing (type, 1) or '1type' as a synonym of type is deprecated; in a future version of numpy, it will be understood as (type, (1,)) / '(1,)type'.\n",
      "  _np_qint8 = np.dtype([(\"qint8\", np.int8, 1)])\n",
      "/home/sheila/anaconda3/envs/environment_py3_7/lib/python3.7/site-packages/tensorflow/python/framework/dtypes.py:517: FutureWarning: Passing (type, 1) or '1type' as a synonym of type is deprecated; in a future version of numpy, it will be understood as (type, (1,)) / '(1,)type'.\n",
      "  _np_quint8 = np.dtype([(\"quint8\", np.uint8, 1)])\n",
      "/home/sheila/anaconda3/envs/environment_py3_7/lib/python3.7/site-packages/tensorflow/python/framework/dtypes.py:518: FutureWarning: Passing (type, 1) or '1type' as a synonym of type is deprecated; in a future version of numpy, it will be understood as (type, (1,)) / '(1,)type'.\n",
      "  _np_qint16 = np.dtype([(\"qint16\", np.int16, 1)])\n",
      "/home/sheila/anaconda3/envs/environment_py3_7/lib/python3.7/site-packages/tensorflow/python/framework/dtypes.py:519: FutureWarning: Passing (type, 1) or '1type' as a synonym of type is deprecated; in a future version of numpy, it will be understood as (type, (1,)) / '(1,)type'.\n",
      "  _np_quint16 = np.dtype([(\"quint16\", np.uint16, 1)])\n",
      "/home/sheila/anaconda3/envs/environment_py3_7/lib/python3.7/site-packages/tensorflow/python/framework/dtypes.py:520: FutureWarning: Passing (type, 1) or '1type' as a synonym of type is deprecated; in a future version of numpy, it will be understood as (type, (1,)) / '(1,)type'.\n",
      "  _np_qint32 = np.dtype([(\"qint32\", np.int32, 1)])\n",
      "/home/sheila/anaconda3/envs/environment_py3_7/lib/python3.7/site-packages/tensorflow/python/framework/dtypes.py:525: FutureWarning: Passing (type, 1) or '1type' as a synonym of type is deprecated; in a future version of numpy, it will be understood as (type, (1,)) / '(1,)type'.\n",
      "  np_resource = np.dtype([(\"resource\", np.ubyte, 1)])\n",
      "/home/sheila/anaconda3/envs/environment_py3_7/lib/python3.7/site-packages/tensorboard/compat/tensorflow_stub/dtypes.py:541: FutureWarning: Passing (type, 1) or '1type' as a synonym of type is deprecated; in a future version of numpy, it will be understood as (type, (1,)) / '(1,)type'.\n",
      "  _np_qint8 = np.dtype([(\"qint8\", np.int8, 1)])\n",
      "/home/sheila/anaconda3/envs/environment_py3_7/lib/python3.7/site-packages/tensorboard/compat/tensorflow_stub/dtypes.py:542: FutureWarning: Passing (type, 1) or '1type' as a synonym of type is deprecated; in a future version of numpy, it will be understood as (type, (1,)) / '(1,)type'.\n",
      "  _np_quint8 = np.dtype([(\"quint8\", np.uint8, 1)])\n",
      "/home/sheila/anaconda3/envs/environment_py3_7/lib/python3.7/site-packages/tensorboard/compat/tensorflow_stub/dtypes.py:543: FutureWarning: Passing (type, 1) or '1type' as a synonym of type is deprecated; in a future version of numpy, it will be understood as (type, (1,)) / '(1,)type'.\n",
      "  _np_qint16 = np.dtype([(\"qint16\", np.int16, 1)])\n",
      "/home/sheila/anaconda3/envs/environment_py3_7/lib/python3.7/site-packages/tensorboard/compat/tensorflow_stub/dtypes.py:544: FutureWarning: Passing (type, 1) or '1type' as a synonym of type is deprecated; in a future version of numpy, it will be understood as (type, (1,)) / '(1,)type'.\n",
      "  _np_quint16 = np.dtype([(\"quint16\", np.uint16, 1)])\n",
      "/home/sheila/anaconda3/envs/environment_py3_7/lib/python3.7/site-packages/tensorboard/compat/tensorflow_stub/dtypes.py:545: FutureWarning: Passing (type, 1) or '1type' as a synonym of type is deprecated; in a future version of numpy, it will be understood as (type, (1,)) / '(1,)type'.\n",
      "  _np_qint32 = np.dtype([(\"qint32\", np.int32, 1)])\n",
      "/home/sheila/anaconda3/envs/environment_py3_7/lib/python3.7/site-packages/tensorboard/compat/tensorflow_stub/dtypes.py:550: FutureWarning: Passing (type, 1) or '1type' as a synonym of type is deprecated; in a future version of numpy, it will be understood as (type, (1,)) / '(1,)type'.\n",
      "  np_resource = np.dtype([(\"resource\", np.ubyte, 1)])\n"
     ]
    }
   ],
   "source": [
    "#%%\n",
    "from ns3gym import ns3env\n",
    "from comet_ml import Experiment, Optimizer\n",
    "import tqdm\n",
    "import subprocess\n",
    "from collections import deque\n",
    "import numpy as np\n",
    "\n",
    "from agents.dqn.agent import Agent, Config\n",
    "from agents.dqn.model import QNetworkTf\n",
    "from agents.teacher import Teacher, EnvWrapper\n",
    "from preprocessor import Preprocessor"
   ]
  },
  {
   "cell_type": "code",
   "execution_count": 2,
   "id": "77b773ac",
   "metadata": {},
   "outputs": [
    {
     "name": "stdout",
     "output_type": "stream",
     "text": [
      "Steps per episode: 6000\n",
      "Waiting for simulation script to connect on port: tcp://localhost:17417\n",
      "Please start proper ns-3 simulation script using ./waf --run \"...\"\n",
      "41.070007|0|5|-nan\n",
      "Observation space shape: (1, 300)\n",
      "Action space shape: (1, 1)\n"
     ]
    }
   ],
   "source": [
    "#%%\n",
    "scenario = \"convergence\"\n",
    "\n",
    "simTime = 60 # seconds\n",
    "stepTime = 0.01  # seconds\n",
    "history_length = 300\n",
    "\n",
    "EPISODE_COUNT = 15\n",
    "steps_per_ep = int(simTime/stepTime)\n",
    "\n",
    "sim_args = {\n",
    "    \"simTime\": simTime,\n",
    "    \"envStepTime\": stepTime,\n",
    "    \"historyLength\": history_length,\n",
    "    \"agentType\": Agent.TYPE,\n",
    "    \"scenario\": \"convergence\",\n",
    "    \"nWifi\": 15,\n",
    "}\n",
    "\n",
    "print(\"Steps per episode:\", steps_per_ep)\n",
    "\n",
    "threads_no = 1\n",
    "env = EnvWrapper(threads_no, **sim_args)\n",
    "\n",
    "#%%\n",
    "env.reset()\n",
    "ob_space = env.observation_space\n",
    "ac_space = env.action_space\n",
    "\n",
    "print(\"Observation space shape:\", ob_space)\n",
    "print(\"Action space shape:\", ac_space)\n",
    "\n",
    "assert ob_space is not None\n"
   ]
  },
  {
   "cell_type": "code",
   "execution_count": 3,
   "id": "f64e6837",
   "metadata": {
    "scrolled": true
   },
   "outputs": [
    {
     "name": "stdout",
     "output_type": "stream",
     "text": [
      "WARNING:tensorflow:From /home/sheila/repos/ns-3-allinone/ns-3.29/scratch/RLinWiFi-master-original-queue-level-mean/agents/dqn/agent.py:53: The name tf.Session is deprecated. Please use tf.compat.v1.Session instead.\n",
      "\n",
      "WARNING:tensorflow:From /home/sheila/repos/ns-3-allinone/ns-3.29/scratch/RLinWiFi-master-original-queue-level-mean/agents/dqn/model.py:25: The name tf.variable_scope is deprecated. Please use tf.compat.v1.variable_scope instead.\n",
      "\n",
      "WARNING:tensorflow:From /home/sheila/repos/ns-3-allinone/ns-3.29/scratch/RLinWiFi-master-original-queue-level-mean/agents/dqn/model.py:26: The name tf.placeholder is deprecated. Please use tf.compat.v1.placeholder instead.\n",
      "\n",
      "WARNING:tensorflow:\n",
      "The TensorFlow contrib module will not be included in TensorFlow 2.0.\n",
      "For more information, please see:\n",
      "  * https://github.com/tensorflow/community/blob/master/rfcs/20180907-contrib-sunset.md\n",
      "  * https://github.com/tensorflow/addons\n",
      "  * https://github.com/tensorflow/io (for I/O related ops)\n",
      "If you depend on functionality not listed there, please file an issue.\n",
      "\n",
      "WARNING:tensorflow:From /home/sheila/repos/ns-3-allinone/ns-3.29/scratch/RLinWiFi-master-original-queue-level-mean/agents/dqn/model.py:52: LSTMCell.__init__ (from tensorflow.python.ops.rnn_cell_impl) is deprecated and will be removed in a future version.\n",
      "Instructions for updating:\n",
      "This class is equivalent as tf.keras.layers.LSTMCell, and will be replaced by that in Tensorflow 2.0.\n",
      "WARNING:tensorflow:From /home/sheila/repos/ns-3-allinone/ns-3.29/scratch/RLinWiFi-master-original-queue-level-mean/agents/dqn/model.py:52: static_rnn (from tensorflow.python.ops.rnn) is deprecated and will be removed in a future version.\n",
      "Instructions for updating:\n",
      "Please use `keras.layers.RNN(cell, unroll=True)`, which is equivalent to this API\n",
      "WARNING:tensorflow:From /home/sheila/anaconda3/envs/environment_py3_7/lib/python3.7/site-packages/tensorflow/python/ops/init_ops.py:1251: calling VarianceScaling.__init__ (from tensorflow.python.ops.init_ops) with dtype is deprecated and will be removed in a future version.\n",
      "Instructions for updating:\n",
      "Call initializer instance with the dtype argument instead of passing it to the constructor\n",
      "WARNING:tensorflow:From /home/sheila/anaconda3/envs/environment_py3_7/lib/python3.7/site-packages/tensorflow/python/ops/rnn_cell_impl.py:961: calling Zeros.__init__ (from tensorflow.python.ops.init_ops) with dtype is deprecated and will be removed in a future version.\n",
      "Instructions for updating:\n",
      "Call initializer instance with the dtype argument instead of passing it to the constructor\n",
      "WARNING:tensorflow:Entity <bound method LSTMCell.call of <tensorflow.python.ops.rnn_cell_impl.LSTMCell object at 0x7f241c6d5b10>> could not be transformed and will be executed as-is. Please report this to the AutgoGraph team. When filing the bug, set the verbosity to 10 (on Linux, `export AUTOGRAPH_VERBOSITY=10`) and attach the full output. Cause: converting <bound method LSTMCell.call of <tensorflow.python.ops.rnn_cell_impl.LSTMCell object at 0x7f241c6d5b10>>: AttributeError: module 'gast' has no attribute 'Index'\n",
      "WARNING: Entity <bound method LSTMCell.call of <tensorflow.python.ops.rnn_cell_impl.LSTMCell object at 0x7f241c6d5b10>> could not be transformed and will be executed as-is. Please report this to the AutgoGraph team. When filing the bug, set the verbosity to 10 (on Linux, `export AUTOGRAPH_VERBOSITY=10`) and attach the full output. Cause: converting <bound method LSTMCell.call of <tensorflow.python.ops.rnn_cell_impl.LSTMCell object at 0x7f241c6d5b10>>: AttributeError: module 'gast' has no attribute 'Index'\n",
      "WARNING:tensorflow:Entity <bound method LSTMCell.call of <tensorflow.python.ops.rnn_cell_impl.LSTMCell object at 0x7f241c6d5b10>> could not be transformed and will be executed as-is. Please report this to the AutgoGraph team. When filing the bug, set the verbosity to 10 (on Linux, `export AUTOGRAPH_VERBOSITY=10`) and attach the full output. Cause: converting <bound method LSTMCell.call of <tensorflow.python.ops.rnn_cell_impl.LSTMCell object at 0x7f241c6d5b10>>: AttributeError: module 'gast' has no attribute 'Index'\n",
      "WARNING: Entity <bound method LSTMCell.call of <tensorflow.python.ops.rnn_cell_impl.LSTMCell object at 0x7f241c6d5b10>> could not be transformed and will be executed as-is. Please report this to the AutgoGraph team. When filing the bug, set the verbosity to 10 (on Linux, `export AUTOGRAPH_VERBOSITY=10`) and attach the full output. Cause: converting <bound method LSTMCell.call of <tensorflow.python.ops.rnn_cell_impl.LSTMCell object at 0x7f241c6d5b10>>: AttributeError: module 'gast' has no attribute 'Index'\n",
      "WARNING:tensorflow:Entity <bound method LSTMCell.call of <tensorflow.python.ops.rnn_cell_impl.LSTMCell object at 0x7f241c6d5b10>> could not be transformed and will be executed as-is. Please report this to the AutgoGraph team. When filing the bug, set the verbosity to 10 (on Linux, `export AUTOGRAPH_VERBOSITY=10`) and attach the full output. Cause: converting <bound method LSTMCell.call of <tensorflow.python.ops.rnn_cell_impl.LSTMCell object at 0x7f241c6d5b10>>: AttributeError: module 'gast' has no attribute 'Index'\n",
      "WARNING: Entity <bound method LSTMCell.call of <tensorflow.python.ops.rnn_cell_impl.LSTMCell object at 0x7f241c6d5b10>> could not be transformed and will be executed as-is. Please report this to the AutgoGraph team. When filing the bug, set the verbosity to 10 (on Linux, `export AUTOGRAPH_VERBOSITY=10`) and attach the full output. Cause: converting <bound method LSTMCell.call of <tensorflow.python.ops.rnn_cell_impl.LSTMCell object at 0x7f241c6d5b10>>: AttributeError: module 'gast' has no attribute 'Index'\n",
      "WARNING:tensorflow:Entity <bound method LSTMCell.call of <tensorflow.python.ops.rnn_cell_impl.LSTMCell object at 0x7f241c6d5b10>> could not be transformed and will be executed as-is. Please report this to the AutgoGraph team. When filing the bug, set the verbosity to 10 (on Linux, `export AUTOGRAPH_VERBOSITY=10`) and attach the full output. Cause: converting <bound method LSTMCell.call of <tensorflow.python.ops.rnn_cell_impl.LSTMCell object at 0x7f241c6d5b10>>: AttributeError: module 'gast' has no attribute 'Index'\n",
      "WARNING: Entity <bound method LSTMCell.call of <tensorflow.python.ops.rnn_cell_impl.LSTMCell object at 0x7f241c6d5b10>> could not be transformed and will be executed as-is. Please report this to the AutgoGraph team. When filing the bug, set the verbosity to 10 (on Linux, `export AUTOGRAPH_VERBOSITY=10`) and attach the full output. Cause: converting <bound method LSTMCell.call of <tensorflow.python.ops.rnn_cell_impl.LSTMCell object at 0x7f241c6d5b10>>: AttributeError: module 'gast' has no attribute 'Index'\n",
      "WARNING:tensorflow:From /home/sheila/repos/ns-3-allinone/ns-3.29/scratch/RLinWiFi-master-original-queue-level-mean/agents/dqn/model.py:53: dense (from tensorflow.python.layers.core) is deprecated and will be removed in a future version.\n",
      "Instructions for updating:\n",
      "Use keras.layers.dense instead.\n",
      "WARNING:tensorflow:Entity <bound method Dense.call of <tensorflow.python.layers.core.Dense object at 0x7f241c6d5b10>> could not be transformed and will be executed as-is. Please report this to the AutgoGraph team. When filing the bug, set the verbosity to 10 (on Linux, `export AUTOGRAPH_VERBOSITY=10`) and attach the full output. Cause: converting <bound method Dense.call of <tensorflow.python.layers.core.Dense object at 0x7f241c6d5b10>>: AttributeError: module 'gast' has no attribute 'Index'\n",
      "WARNING: Entity <bound method Dense.call of <tensorflow.python.layers.core.Dense object at 0x7f241c6d5b10>> could not be transformed and will be executed as-is. Please report this to the AutgoGraph team. When filing the bug, set the verbosity to 10 (on Linux, `export AUTOGRAPH_VERBOSITY=10`) and attach the full output. Cause: converting <bound method Dense.call of <tensorflow.python.layers.core.Dense object at 0x7f241c6d5b10>>: AttributeError: module 'gast' has no attribute 'Index'\n",
      "WARNING:tensorflow:Entity <bound method Dense.call of <tensorflow.python.layers.core.Dense object at 0x7f241c6d5b10>> could not be transformed and will be executed as-is. Please report this to the AutgoGraph team. When filing the bug, set the verbosity to 10 (on Linux, `export AUTOGRAPH_VERBOSITY=10`) and attach the full output. Cause: converting <bound method Dense.call of <tensorflow.python.layers.core.Dense object at 0x7f241c6d5b10>>: AttributeError: module 'gast' has no attribute 'Index'\n"
     ]
    },
    {
     "name": "stdout",
     "output_type": "stream",
     "text": [
      "WARNING: Entity <bound method Dense.call of <tensorflow.python.layers.core.Dense object at 0x7f241c6d5b10>> could not be transformed and will be executed as-is. Please report this to the AutgoGraph team. When filing the bug, set the verbosity to 10 (on Linux, `export AUTOGRAPH_VERBOSITY=10`) and attach the full output. Cause: converting <bound method Dense.call of <tensorflow.python.layers.core.Dense object at 0x7f241c6d5b10>>: AttributeError: module 'gast' has no attribute 'Index'\n",
      "WARNING:tensorflow:Entity <bound method Dense.call of <tensorflow.python.layers.core.Dense object at 0x7f241c6d5b10>> could not be transformed and will be executed as-is. Please report this to the AutgoGraph team. When filing the bug, set the verbosity to 10 (on Linux, `export AUTOGRAPH_VERBOSITY=10`) and attach the full output. Cause: converting <bound method Dense.call of <tensorflow.python.layers.core.Dense object at 0x7f241c6d5b10>>: AttributeError: module 'gast' has no attribute 'Index'\n",
      "WARNING: Entity <bound method Dense.call of <tensorflow.python.layers.core.Dense object at 0x7f241c6d5b10>> could not be transformed and will be executed as-is. Please report this to the AutgoGraph team. When filing the bug, set the verbosity to 10 (on Linux, `export AUTOGRAPH_VERBOSITY=10`) and attach the full output. Cause: converting <bound method Dense.call of <tensorflow.python.layers.core.Dense object at 0x7f241c6d5b10>>: AttributeError: module 'gast' has no attribute 'Index'\n",
      "WARNING:tensorflow:From /home/sheila/repos/ns-3-allinone/ns-3.29/scratch/RLinWiFi-master-original-queue-level-mean/agents/dqn/model.py:69: The name tf.losses.mean_squared_error is deprecated. Please use tf.compat.v1.losses.mean_squared_error instead.\n",
      "\n",
      "WARNING:tensorflow:From /home/sheila/anaconda3/envs/environment_py3_7/lib/python3.7/site-packages/tensorflow/python/ops/losses/losses_impl.py:121: add_dispatch_support.<locals>.wrapper (from tensorflow.python.ops.array_ops) is deprecated and will be removed in a future version.\n",
      "Instructions for updating:\n",
      "Use tf.where in 2.0, which has the same broadcast rule as np.where\n",
      "WARNING:tensorflow:From /home/sheila/repos/ns-3-allinone/ns-3.29/scratch/RLinWiFi-master-original-queue-level-mean/agents/dqn/model.py:77: The name tf.train.AdamOptimizer is deprecated. Please use tf.compat.v1.train.AdamOptimizer instead.\n",
      "\n",
      "WARNING:tensorflow:From /home/sheila/repos/ns-3-allinone/ns-3.29/scratch/RLinWiFi-master-original-queue-level-mean/agents/dqn/model.py:33: The name tf.global_variables_initializer is deprecated. Please use tf.compat.v1.global_variables_initializer instead.\n",
      "\n",
      "WARNING:tensorflow:From /home/sheila/repos/ns-3-allinone/ns-3.29/scratch/RLinWiFi-master-original-queue-level-mean/agents/dqn/model.py:34: The name tf.local_variables_initializer is deprecated. Please use tf.compat.v1.local_variables_initializer instead.\n",
      "\n",
      "WARNING:tensorflow:Entity <bound method LSTMCell.call of <tensorflow.python.ops.rnn_cell_impl.LSTMCell object at 0x7f23b1fc7ed0>> could not be transformed and will be executed as-is. Please report this to the AutgoGraph team. When filing the bug, set the verbosity to 10 (on Linux, `export AUTOGRAPH_VERBOSITY=10`) and attach the full output. Cause: converting <bound method LSTMCell.call of <tensorflow.python.ops.rnn_cell_impl.LSTMCell object at 0x7f23b1fc7ed0>>: AttributeError: module 'gast' has no attribute 'Index'\n",
      "WARNING: Entity <bound method LSTMCell.call of <tensorflow.python.ops.rnn_cell_impl.LSTMCell object at 0x7f23b1fc7ed0>> could not be transformed and will be executed as-is. Please report this to the AutgoGraph team. When filing the bug, set the verbosity to 10 (on Linux, `export AUTOGRAPH_VERBOSITY=10`) and attach the full output. Cause: converting <bound method LSTMCell.call of <tensorflow.python.ops.rnn_cell_impl.LSTMCell object at 0x7f23b1fc7ed0>>: AttributeError: module 'gast' has no attribute 'Index'\n",
      "WARNING:tensorflow:Entity <bound method LSTMCell.call of <tensorflow.python.ops.rnn_cell_impl.LSTMCell object at 0x7f23b1fc7ed0>> could not be transformed and will be executed as-is. Please report this to the AutgoGraph team. When filing the bug, set the verbosity to 10 (on Linux, `export AUTOGRAPH_VERBOSITY=10`) and attach the full output. Cause: converting <bound method LSTMCell.call of <tensorflow.python.ops.rnn_cell_impl.LSTMCell object at 0x7f23b1fc7ed0>>: AttributeError: module 'gast' has no attribute 'Index'\n",
      "WARNING: Entity <bound method LSTMCell.call of <tensorflow.python.ops.rnn_cell_impl.LSTMCell object at 0x7f23b1fc7ed0>> could not be transformed and will be executed as-is. Please report this to the AutgoGraph team. When filing the bug, set the verbosity to 10 (on Linux, `export AUTOGRAPH_VERBOSITY=10`) and attach the full output. Cause: converting <bound method LSTMCell.call of <tensorflow.python.ops.rnn_cell_impl.LSTMCell object at 0x7f23b1fc7ed0>>: AttributeError: module 'gast' has no attribute 'Index'\n",
      "WARNING:tensorflow:Entity <bound method LSTMCell.call of <tensorflow.python.ops.rnn_cell_impl.LSTMCell object at 0x7f23b1fc7ed0>> could not be transformed and will be executed as-is. Please report this to the AutgoGraph team. When filing the bug, set the verbosity to 10 (on Linux, `export AUTOGRAPH_VERBOSITY=10`) and attach the full output. Cause: converting <bound method LSTMCell.call of <tensorflow.python.ops.rnn_cell_impl.LSTMCell object at 0x7f23b1fc7ed0>>: AttributeError: module 'gast' has no attribute 'Index'\n",
      "WARNING: Entity <bound method LSTMCell.call of <tensorflow.python.ops.rnn_cell_impl.LSTMCell object at 0x7f23b1fc7ed0>> could not be transformed and will be executed as-is. Please report this to the AutgoGraph team. When filing the bug, set the verbosity to 10 (on Linux, `export AUTOGRAPH_VERBOSITY=10`) and attach the full output. Cause: converting <bound method LSTMCell.call of <tensorflow.python.ops.rnn_cell_impl.LSTMCell object at 0x7f23b1fc7ed0>>: AttributeError: module 'gast' has no attribute 'Index'\n",
      "WARNING:tensorflow:Entity <bound method LSTMCell.call of <tensorflow.python.ops.rnn_cell_impl.LSTMCell object at 0x7f23b1fc7ed0>> could not be transformed and will be executed as-is. Please report this to the AutgoGraph team. When filing the bug, set the verbosity to 10 (on Linux, `export AUTOGRAPH_VERBOSITY=10`) and attach the full output. Cause: converting <bound method LSTMCell.call of <tensorflow.python.ops.rnn_cell_impl.LSTMCell object at 0x7f23b1fc7ed0>>: AttributeError: module 'gast' has no attribute 'Index'\n",
      "WARNING: Entity <bound method LSTMCell.call of <tensorflow.python.ops.rnn_cell_impl.LSTMCell object at 0x7f23b1fc7ed0>> could not be transformed and will be executed as-is. Please report this to the AutgoGraph team. When filing the bug, set the verbosity to 10 (on Linux, `export AUTOGRAPH_VERBOSITY=10`) and attach the full output. Cause: converting <bound method LSTMCell.call of <tensorflow.python.ops.rnn_cell_impl.LSTMCell object at 0x7f23b1fc7ed0>>: AttributeError: module 'gast' has no attribute 'Index'\n",
      "WARNING:tensorflow:Entity <bound method Dense.call of <tensorflow.python.layers.core.Dense object at 0x7f23b1fc7ed0>> could not be transformed and will be executed as-is. Please report this to the AutgoGraph team. When filing the bug, set the verbosity to 10 (on Linux, `export AUTOGRAPH_VERBOSITY=10`) and attach the full output. Cause: converting <bound method Dense.call of <tensorflow.python.layers.core.Dense object at 0x7f23b1fc7ed0>>: AttributeError: module 'gast' has no attribute 'Index'\n",
      "WARNING: Entity <bound method Dense.call of <tensorflow.python.layers.core.Dense object at 0x7f23b1fc7ed0>> could not be transformed and will be executed as-is. Please report this to the AutgoGraph team. When filing the bug, set the verbosity to 10 (on Linux, `export AUTOGRAPH_VERBOSITY=10`) and attach the full output. Cause: converting <bound method Dense.call of <tensorflow.python.layers.core.Dense object at 0x7f23b1fc7ed0>>: AttributeError: module 'gast' has no attribute 'Index'\n",
      "WARNING:tensorflow:Entity <bound method Dense.call of <tensorflow.python.layers.core.Dense object at 0x7f23b1fc7ed0>> could not be transformed and will be executed as-is. Please report this to the AutgoGraph team. When filing the bug, set the verbosity to 10 (on Linux, `export AUTOGRAPH_VERBOSITY=10`) and attach the full output. Cause: converting <bound method Dense.call of <tensorflow.python.layers.core.Dense object at 0x7f23b1fc7ed0>>: AttributeError: module 'gast' has no attribute 'Index'\n"
     ]
    },
    {
     "name": "stdout",
     "output_type": "stream",
     "text": [
      "WARNING: Entity <bound method Dense.call of <tensorflow.python.layers.core.Dense object at 0x7f23b1fc7ed0>> could not be transformed and will be executed as-is. Please report this to the AutgoGraph team. When filing the bug, set the verbosity to 10 (on Linux, `export AUTOGRAPH_VERBOSITY=10`) and attach the full output. Cause: converting <bound method Dense.call of <tensorflow.python.layers.core.Dense object at 0x7f23b1fc7ed0>>: AttributeError: module 'gast' has no attribute 'Index'\n",
      "WARNING:tensorflow:Entity <bound method Dense.call of <tensorflow.python.layers.core.Dense object at 0x7f23b19e80d0>> could not be transformed and will be executed as-is. Please report this to the AutgoGraph team. When filing the bug, set the verbosity to 10 (on Linux, `export AUTOGRAPH_VERBOSITY=10`) and attach the full output. Cause: converting <bound method Dense.call of <tensorflow.python.layers.core.Dense object at 0x7f23b19e80d0>>: AttributeError: module 'gast' has no attribute 'Index'\n",
      "WARNING: Entity <bound method Dense.call of <tensorflow.python.layers.core.Dense object at 0x7f23b19e80d0>> could not be transformed and will be executed as-is. Please report this to the AutgoGraph team. When filing the bug, set the verbosity to 10 (on Linux, `export AUTOGRAPH_VERBOSITY=10`) and attach the full output. Cause: converting <bound method Dense.call of <tensorflow.python.layers.core.Dense object at 0x7f23b19e80d0>>: AttributeError: module 'gast' has no attribute 'Index'\n",
      "WARNING:tensorflow:From /home/sheila/repos/ns-3-allinone/ns-3.29/scratch/RLinWiFi-master-original-queue-level-mean/agents/dqn/agent.py:77: The name tf.train.Saver is deprecated. Please use tf.compat.v1.train.Saver instead.\n",
      "\n",
      "Action space: 7\n",
      "WARNING:tensorflow:From /home/sheila/repos/ns-3-allinone/ns-3.29/scratch/RLinWiFi-master-original-queue-level-mean/agents/dqn/agent.py:107: Variable.load (from tensorflow.python.ops.variables) is deprecated and will be removed in a future version.\n",
      "Instructions for updating:\n",
      "Prefer Variable.assign which has equivalent behavior in 2.X.\n"
     ]
    },
    {
     "name": "stderr",
     "output_type": "stream",
     "text": [
      "COMET INFO: Experiment is live on comet.ml https://www.comet.com/sheila-janota/rl-in-wifi-with-queue-level/2630b0cb9fbb4211b5b1a22a799aa926\n",
      "\n"
     ]
    },
    {
     "name": "stdout",
     "output_type": "stream",
     "text": [
      "0\n",
      "41.070007|0|5|-nan\n"
     ]
    },
    {
     "name": "stderr",
     "output_type": "stream",
     "text": [
      "  5%|▌         | 333/6300 [02:33<53:45,  1.85it/s, curr_speed=23.11 Mbps, mb_sent=7.39 Mb]  "
     ]
    },
    {
     "name": "stdout",
     "output_type": "stream",
     "text": [
      "------- STARTED TRAINING -------\n"
     ]
    },
    {
     "name": "stderr",
     "output_type": "stream",
     "text": [
      "100%|██████████| 6300/6300 [1:14:57<00:00,  1.40it/s, curr_speed=35.08 Mbps, mb_sent=1863.44 Mb]\n"
     ]
    },
    {
     "name": "stdout",
     "output_type": "stream",
     "text": [
      "Waiting for simulation script to connect on port: tcp://localhost:14147\n",
      "Please start proper ns-3 simulation script using ./waf --run \"...\"\n",
      "Sent 1863.44 Mb/s.\tMean speed: 31.06 Mb/s\tEpisode 1/15 finished\n",
      "\n",
      "1\n",
      "41.070007|0|5|-nan\n"
     ]
    },
    {
     "name": "stderr",
     "output_type": "stream",
     "text": [
      "100%|██████████| 6300/6300 [1:14:12<00:00,  1.42it/s, curr_speed=34.51 Mbps, mb_sent=2019.10 Mb]\n"
     ]
    },
    {
     "name": "stdout",
     "output_type": "stream",
     "text": [
      "Waiting for simulation script to connect on port: tcp://localhost:16960\n",
      "Please start proper ns-3 simulation script using ./waf --run \"...\"\n",
      "Sent 2019.10 Mb/s.\tMean speed: 33.65 Mb/s\tEpisode 2/15 finished\n",
      "\n",
      "2\n",
      "41.070007|0|5|-nan\n"
     ]
    },
    {
     "name": "stderr",
     "output_type": "stream",
     "text": [
      "100%|██████████| 6300/6300 [1:15:47<00:00,  1.39it/s, curr_speed=58.24 Mbps, mb_sent=2122.44 Mb]\n"
     ]
    },
    {
     "name": "stdout",
     "output_type": "stream",
     "text": [
      "Waiting for simulation script to connect on port: tcp://localhost:43265\n",
      "Please start proper ns-3 simulation script using ./waf --run \"...\"\n",
      "Sent 2122.44 Mb/s.\tMean speed: 35.37 Mb/s\tEpisode 3/15 finished\n",
      "\n",
      "3\n",
      "41.070007|0|5|-nan\n"
     ]
    },
    {
     "name": "stderr",
     "output_type": "stream",
     "text": [
      "  5%|▍         | 304/6300 [02:10<45:20,  2.20it/s, curr_speed=38.72 Mbps, mb_sent=1.16 Mb]"
     ]
    },
    {
     "name": "stdout",
     "output_type": "stream",
     "text": [
      "------- MEMORY BUFFER FILLED -------\n"
     ]
    },
    {
     "name": "stderr",
     "output_type": "stream",
     "text": [
      "100%|██████████| 6300/6300 [1:22:22<00:00,  1.27it/s, curr_speed=58.34 Mbps, mb_sent=2189.73 Mb]\n"
     ]
    },
    {
     "name": "stdout",
     "output_type": "stream",
     "text": [
      "Waiting for simulation script to connect on port: tcp://localhost:20300\n",
      "Please start proper ns-3 simulation script using ./waf --run \"...\"\n",
      "Sent 2189.73 Mb/s.\tMean speed: 36.50 Mb/s\tEpisode 4/15 finished\n",
      "\n",
      "4\n",
      "41.070007|0|5|-nan\n"
     ]
    },
    {
     "name": "stderr",
     "output_type": "stream",
     "text": [
      "100%|██████████| 6300/6300 [1:22:33<00:00,  1.27it/s, curr_speed=36.75 Mbps, mb_sent=2225.91 Mb]\n"
     ]
    },
    {
     "name": "stdout",
     "output_type": "stream",
     "text": [
      "Waiting for simulation script to connect on port: tcp://localhost:22318\n",
      "Please start proper ns-3 simulation script using ./waf --run \"...\"\n",
      "Sent 2225.91 Mb/s.\tMean speed: 37.10 Mb/s\tEpisode 5/15 finished\n",
      "\n",
      "5\n",
      "41.070007|0|5|-nan\n"
     ]
    },
    {
     "name": "stderr",
     "output_type": "stream",
     "text": [
      "100%|██████████| 6300/6300 [1:22:24<00:00,  1.27it/s, curr_speed=33.43 Mbps, mb_sent=2240.98 Mb]\n"
     ]
    },
    {
     "name": "stdout",
     "output_type": "stream",
     "text": [
      "Waiting for simulation script to connect on port: tcp://localhost:17427\n",
      "Please start proper ns-3 simulation script using ./waf --run \"...\"\n",
      "Sent 2240.98 Mb/s.\tMean speed: 37.35 Mb/s\tEpisode 6/15 finished\n",
      "\n",
      "6\n",
      "41.070007|0|5|-nan\n"
     ]
    },
    {
     "name": "stderr",
     "output_type": "stream",
     "text": [
      " 60%|██████    | 3809/6300 [42:25<34:13,  1.21it/s, curr_speed=37.29 Mbps, mb_sent=1337.41 Mb] COMET ERROR: File could not be uploaded\n",
      " 60%|██████    | 3810/6300 [42:26<33:43,  1.23it/s, curr_speed=37.28 Mbps, mb_sent=1337.79 Mb]COMET ERROR: File could not be uploaded\n",
      "100%|██████████| 6300/6300 [1:21:03<00:00,  1.30it/s, curr_speed=37.70 Mbps, mb_sent=2266.87 Mb]\n"
     ]
    },
    {
     "name": "stdout",
     "output_type": "stream",
     "text": [
      "Waiting for simulation script to connect on port: tcp://localhost:33073\n",
      "Please start proper ns-3 simulation script using ./waf --run \"...\"\n",
      "Sent 2266.87 Mb/s.\tMean speed: 37.78 Mb/s\tEpisode 7/15 finished\n",
      "\n",
      "7\n",
      "41.070007|0|5|-nan\n"
     ]
    },
    {
     "name": "stderr",
     "output_type": "stream",
     "text": [
      " 63%|██████▎   | 3974/6300 [44:59<32:26,  1.19it/s, curr_speed=37.00 Mbps, mb_sent=1400.84 Mb]COMET ERROR: File could not be uploaded\n",
      " 64%|██████▎   | 4011/6300 [45:30<31:39,  1.21it/s, curr_speed=36.83 Mbps, mb_sent=1414.66 Mb]COMET ERROR: File could not be uploaded\n",
      " 64%|██████▎   | 4012/6300 [45:31<33:12,  1.15it/s, curr_speed=36.83 Mbps, mb_sent=1415.08 Mb]COMET ERROR: File could not be uploaded\n",
      " 64%|██████▍   | 4049/6300 [46:03<33:16,  1.13it/s, curr_speed=37.17 Mbps, mb_sent=1429.02 Mb]COMET ERROR: File could not be uploaded\n",
      " 65%|██████▍   | 4073/6300 [46:25<32:49,  1.13it/s, curr_speed=37.92 Mbps, mb_sent=1438.35 Mb]COMET ERROR: File could not be uploaded\n",
      " 65%|██████▍   | 4094/6300 [46:44<31:51,  1.15it/s, curr_speed=38.11 Mbps, mb_sent=1446.29 Mb]COMET ERROR: File could not be uploaded\n",
      "100%|██████████| 6300/6300 [1:21:51<00:00,  1.28it/s, curr_speed=37.64 Mbps, mb_sent=2276.82 Mb]\n"
     ]
    },
    {
     "name": "stdout",
     "output_type": "stream",
     "text": [
      "Waiting for simulation script to connect on port: tcp://localhost:18184\n",
      "Please start proper ns-3 simulation script using ./waf --run \"...\"\n",
      "Sent 2276.82 Mb/s.\tMean speed: 37.95 Mb/s\tEpisode 8/15 finished\n",
      "\n",
      "8\n",
      "41.070007|0|5|-nan\n"
     ]
    },
    {
     "name": "stderr",
     "output_type": "stream",
     "text": [
      " 21%|██        | 1306/6300 [12:03<58:03,  1.43it/s, curr_speed=38.08 Mbps, mb_sent=385.62 Mb]COMET ERROR: File could not be uploaded\n",
      " 24%|██▎       | 1491/6300 [14:06<1:09:50,  1.15it/s, curr_speed=38.26 Mbps, mb_sent=455.88 Mb]COMET ERROR: File could not be uploaded\n",
      " 24%|██▎       | 1492/6300 [14:08<1:19:35,  1.01it/s, curr_speed=38.26 Mbps, mb_sent=456.26 Mb]COMET ERROR: File could not be uploaded\n",
      " 24%|██▎       | 1493/6300 [14:09<1:17:28,  1.03it/s, curr_speed=38.29 Mbps, mb_sent=456.68 Mb]COMET ERROR: File could not be uploaded\n",
      " 24%|██▎       | 1494/6300 [52:48<929:49:54, 696.50s/it, curr_speed=38.28 Mbps, mb_sent=457.06 Mb]COMET ERROR: File could not be uploaded\n",
      "COMET ERROR: File could not be uploaded\n",
      " 44%|████▍     | 2793/6300 [1:09:05<42:53,  1.36it/s, curr_speed=38.61 Mbps, mb_sent=954.45 Mb]   COMET ERROR: File could not be uploaded\n",
      " 44%|████▍     | 2794/6300 [1:09:05<43:20,  1.35it/s, curr_speed=38.61 Mbps, mb_sent=954.87 Mb]COMET ERROR: File could not be uploaded\n",
      " 44%|████▍     | 2795/6300 [1:09:06<43:38,  1.34it/s, curr_speed=38.58 Mbps, mb_sent=955.25 Mb]COMET ERROR: File could not be uploaded\n",
      " 44%|████▍     | 2800/6300 [1:09:10<43:28,  1.34it/s, curr_speed=38.65 Mbps, mb_sent=957.22 Mb]COMET ERROR: File could not be uploaded\n",
      "COMET ERROR: File could not be uploaded\n",
      "COMET ERROR: File could not be uploaded\n",
      "COMET ERROR: File could not be uploaded\n",
      "COMET ERROR: File could not be uploaded\n",
      "100%|██████████| 6300/6300 [2:22:26<00:00,  1.36s/it, curr_speed=37.95 Mbps, mb_sent=2283.98 Mb]     \n"
     ]
    },
    {
     "name": "stdout",
     "output_type": "stream",
     "text": [
      "Waiting for simulation script to connect on port: tcp://localhost:34305\n",
      "Please start proper ns-3 simulation script using ./waf --run \"...\"\n",
      "Sent 2283.98 Mb/s.\tMean speed: 38.07 Mb/s\tEpisode 9/15 finished\n",
      "\n",
      "9\n",
      "41.070007|0|5|-nan\n"
     ]
    },
    {
     "name": "stderr",
     "output_type": "stream",
     "text": [
      "100%|██████████| 6300/6300 [1:18:33<00:00,  1.34it/s, curr_speed=38.04 Mbps, mb_sent=2282.63 Mb]\n"
     ]
    },
    {
     "name": "stdout",
     "output_type": "stream",
     "text": [
      "Waiting for simulation script to connect on port: tcp://localhost:27040\n",
      "Please start proper ns-3 simulation script using ./waf --run \"...\"\n",
      "Sent 2282.63 Mb/s.\tMean speed: 38.04 Mb/s\tEpisode 10/15 finished\n",
      "\n",
      "10\n",
      "41.070007|0|5|-nan\n"
     ]
    },
    {
     "name": "stderr",
     "output_type": "stream",
     "text": [
      " 33%|███▎      | 2101/6300 [17:08<50:20,  1.39it/s, curr_speed=38.50 Mbps, mb_sent=689.76 Mb]  COMET ERROR: File could not be uploaded\n",
      " 33%|███▎      | 2102/6300 [17:09<49:04,  1.43it/s, curr_speed=38.48 Mbps, mb_sent=690.13 Mb]COMET ERROR: File could not be uploaded\n",
      " 33%|███▎      | 2103/6300 [17:10<48:46,  1.43it/s, curr_speed=38.48 Mbps, mb_sent=690.56 Mb]COMET ERROR: File could not be uploaded\n",
      " 61%|██████▏   | 3874/6300 [40:27<31:52,  1.27it/s, curr_speed=37.45 Mbps, mb_sent=1365.17 Mb] COMET ERROR: File could not be uploaded\n",
      "COMET ERROR: File could not be uploaded\n",
      "COMET ERROR: File could not be uploaded\n",
      "COMET ERROR: File could not be uploaded\n",
      "COMET ERROR: File could not be uploaded\n",
      "COMET ERROR: File could not be uploaded\n",
      "COMET ERROR: File could not be uploaded\n",
      "COMET ERROR: File could not be uploaded\n",
      "COMET ERROR: File could not be uploaded\n",
      "COMET ERROR: File could not be uploaded\n",
      "COMET ERROR: File could not be uploaded\n",
      "COMET ERROR: File could not be uploaded\n",
      "COMET ERROR: File could not be uploaded\n",
      " 83%|████████▎ | 5207/6300 [1:01:40<19:58,  1.10s/it, curr_speed=37.73 Mbps, mb_sent=1868.28 Mb]COMET ERROR: File could not be uploaded\n",
      " 84%|████████▍ | 5283/6300 [1:03:45<29:00,  1.71s/it, curr_speed=38.22 Mbps, mb_sent=1897.35 Mb]  COMET ERROR: File could not be uploaded\n",
      "100%|██████████| 6300/6300 [3:26:38<00:00,  1.97s/it, curr_speed=38.13 Mbps, mb_sent=2283.02 Mb]      \n"
     ]
    },
    {
     "name": "stdout",
     "output_type": "stream",
     "text": [
      "Waiting for simulation script to connect on port: tcp://localhost:29199\n",
      "Please start proper ns-3 simulation script using ./waf --run \"...\"\n",
      "Sent 2283.02 Mb/s.\tMean speed: 38.05 Mb/s\tEpisode 11/15 finished\n",
      "\n",
      "11\n",
      "41.070007|0|5|-nan\n"
     ]
    },
    {
     "name": "stderr",
     "output_type": "stream",
     "text": [
      " 62%|██████▏   | 3924/6300 [52:21<51:46,  1.31s/it, curr_speed=38.07 Mbps, mb_sent=1384.21 Mb]  COMET ERROR: File could not be uploaded\n",
      " 62%|██████▏   | 3929/6300 [52:27<50:51,  1.29s/it, curr_speed=38.04 Mbps, mb_sent=1386.12 Mb]COMET ERROR: File could not be uploaded\n",
      " 62%|██████▏   | 3930/6300 [52:29<50:27,  1.28s/it, curr_speed=38.04 Mbps, mb_sent=1386.48 Mb]COMET ERROR: File could not be uploaded\n",
      "100%|██████████| 6300/6300 [1:39:46<00:00,  1.05it/s, curr_speed=38.41 Mbps, mb_sent=2282.46 Mb]\n"
     ]
    },
    {
     "name": "stdout",
     "output_type": "stream",
     "text": [
      "Waiting for simulation script to connect on port: tcp://localhost:32263\n",
      "Please start proper ns-3 simulation script using ./waf --run \"...\"\n",
      "WARNING:tensorflow:From /home/sheila/anaconda3/envs/environment_py3_7/lib/python3.7/site-packages/tensorflow/python/training/saver.py:960: remove_checkpoint (from tensorflow.python.training.checkpoint_management) is deprecated and will be removed in a future version.\n",
      "Instructions for updating:\n",
      "Use standard file APIs to delete files with this prefix.\n",
      "Sent 2282.46 Mb/s.\tMean speed: 38.04 Mb/s\tEpisode 12/15 finished\n",
      "\n",
      "12\n",
      "Turning off noise\n",
      "41.070007|0|5|-nan\n"
     ]
    },
    {
     "name": "stderr",
     "output_type": "stream",
     "text": [
      "100%|██████████| 6300/6300 [1:24:01<00:00,  1.25it/s, curr_speed=37.82 Mbps, mb_sent=2287.29 Mb]\n"
     ]
    },
    {
     "name": "stdout",
     "output_type": "stream",
     "text": [
      "Waiting for simulation script to connect on port: tcp://localhost:29629\n",
      "Please start proper ns-3 simulation script using ./waf --run \"...\"\n",
      "Sent 2287.29 Mb/s.\tMean speed: 38.12 Mb/s\tEpisode 13/15 finished\n",
      "\n",
      "13\n",
      "Turning off noise\n",
      "41.070007|0|5|-nan\n"
     ]
    },
    {
     "name": "stderr",
     "output_type": "stream",
     "text": [
      "100%|██████████| 6300/6300 [1:23:04<00:00,  1.26it/s, curr_speed=38.80 Mbps, mb_sent=2290.97 Mb]\n"
     ]
    },
    {
     "name": "stdout",
     "output_type": "stream",
     "text": [
      "Waiting for simulation script to connect on port: tcp://localhost:16867\n",
      "Please start proper ns-3 simulation script using ./waf --run \"...\"\n",
      "Sent 2290.97 Mb/s.\tMean speed: 38.18 Mb/s\tEpisode 14/15 finished\n",
      "\n",
      "14\n",
      "Turning off noise\n",
      "41.070007|0|5|-nan\n"
     ]
    },
    {
     "name": "stderr",
     "output_type": "stream",
     "text": [
      "100%|██████████| 6300/6300 [1:19:21<00:00,  1.32it/s, curr_speed=38.07 Mbps, mb_sent=2294.51 Mb]\n"
     ]
    },
    {
     "name": "stdout",
     "output_type": "stream",
     "text": [
      "Waiting for simulation script to connect on port: tcp://localhost:29301\n",
      "Please start proper ns-3 simulation script using ./waf --run \"...\"\n"
     ]
    },
    {
     "name": "stderr",
     "output_type": "stream",
     "text": [
      "COMET INFO: ----------------------------\n",
      "COMET INFO: Comet.ml Experiment Summary:\n",
      "COMET INFO:   Data:\n",
      "COMET INFO:     url: https://www.comet.com/sheila-janota/rl-in-wifi-with-queue-level/2630b0cb9fbb4211b5b1a22a799aa926\n",
      "COMET INFO:   Metrics [count] (min, max):\n",
      "COMET INFO:     Chosen CW [89985]           : (16.0, 1024.0)\n",
      "COMET INFO:     Cumulative reward [15]      : (2505.035888671875, 3211.5546875)\n",
      "COMET INFO:     Current throughput [89985]  : (12.28640079498291, 58.33794021606445)\n",
      "COMET INFO:     Fairness index [89985]      : (0.07363200187683105, 0.9995650053024292)\n",
      "COMET INFO:     Megabytes sent [89985]      : (0.1228640004992485, 2294.5143676400185)\n",
      "COMET INFO:     Observation 0 [89985]       : (0.28777187515050173, 0.9375)\n",
      "COMET INFO:     Observation 1 [89985]       : (0.0, 0.04386405978010249)\n",
      "COMET INFO:     Per-ep reward [89985]       : (102.25244140625, 3211.5546875)\n",
      "COMET INFO:     Round megabytes sent [89985]: (0.033507999032735825, 11.85076904296875)\n",
      "COMET INFO:     Round reward [89985]        : (0.044677734375, 0.62548828125)\n",
      "COMET INFO:     Speed [15]                  : (31.0573547653233, 38.24190612733364)\n",
      "COMET INFO:     Station count [89985]       : (5.0, 15.0)\n",
      "COMET INFO:     loss [89985]                : (0.0, 0.12373962439596653)\n",
      "COMET INFO:   Uploads:\n",
      "COMET INFO:     histogram3d: 89985\n",
      "COMET INFO: ----------------------------\n"
     ]
    },
    {
     "name": "stdout",
     "output_type": "stream",
     "text": [
      "Sent 2294.51 Mb/s.\tMean speed: 38.24 Mb/s\tEpisode 15/15 finished\n",
      "\n"
     ]
    },
    {
     "name": "stderr",
     "output_type": "stream",
     "text": [
      "COMET INFO: Uploading stats to Comet before program termination (may take several seconds)\n"
     ]
    },
    {
     "name": "stdout",
     "output_type": "stream",
     "text": [
      "Training finished.\n"
     ]
    },
    {
     "data": {
      "text/plain": [
       "'logger = teacher.eval(agent,\\n                        simTime=simTime,\\n                        stepTime=stepTime,\\n                        history_length=history_length,\\n                        tags=tags,\\n                        parameters=hyperparams)\\n'"
      ]
     },
     "execution_count": 3,
     "metadata": {},
     "output_type": "execute_result"
    }
   ],
   "source": [
    "### %%\n",
    "teacher = Teacher(env, 1, Preprocessor(False))\n",
    "\n",
    "lr = 4e-4\n",
    "config = Config(buffer_size=3*steps_per_ep*threads_no, batch_size=32, gamma=0.7, tau=1e-3, lr=lr, update_every=1)\n",
    "agent = Agent(QNetworkTf, state_size=15, action_size=7, config=config)\n",
    "agent.set_epsilon(0.9, 0.001, EPISODE_COUNT-2)\n",
    "\n",
    "# Test the model\n",
    "hyperparams = {**config.__dict__, **sim_args}\n",
    "tags = [\"Rew: normalized speed\",\n",
    "        \"Final\",\n",
    "        f\"{Agent.NAME}\",\n",
    "        sim_args['scenario'],\n",
    "        f\"LR: {lr}\",\n",
    "        f\"Instances: {threads_no}\",\n",
    "        f\"Station count: {sim_args['nWifi']}\",\n",
    "        *[f\"{key}: {sim_args[key]}\" for key in list(sim_args)[:3]]]\n",
    "# # agent.save()\n",
    "logger = teacher.train(agent, EPISODE_COUNT,\n",
    "                        simTime=simTime,\n",
    "                        stepTime=stepTime,\n",
    "                        history_length=history_length,\n",
    "                        send_logs=True,\n",
    "                        experimental=True,\n",
    "                        tags=tags,\n",
    "                        parameters=hyperparams)\n",
    "'''logger = teacher.eval(agent,\n",
    "                        simTime=simTime,\n",
    "                        stepTime=stepTime,\n",
    "                        history_length=history_length,\n",
    "                        tags=tags,\n",
    "                        parameters=hyperparams)\n",
    "'''\n",
    "# agent.save()\n",
    "\n",
    "\n",
    "# %%"
   ]
  },
  {
   "cell_type": "code",
   "execution_count": null,
   "id": "8c8f3713",
   "metadata": {},
   "outputs": [],
   "source": []
  },
  {
   "cell_type": "markdown",
   "id": "6935abeb",
   "metadata": {},
   "source": [
    "# Execution num2:"
   ]
  },
  {
   "cell_type": "code",
   "execution_count": 1,
   "id": "0329fcec",
   "metadata": {},
   "outputs": [
    {
     "name": "stderr",
     "output_type": "stream",
     "text": [
      "/home/sheila/anaconda3/envs/environment_py3_7/lib/python3.7/site-packages/tensorflow/python/framework/dtypes.py:516: FutureWarning: Passing (type, 1) or '1type' as a synonym of type is deprecated; in a future version of numpy, it will be understood as (type, (1,)) / '(1,)type'.\n",
      "  _np_qint8 = np.dtype([(\"qint8\", np.int8, 1)])\n",
      "/home/sheila/anaconda3/envs/environment_py3_7/lib/python3.7/site-packages/tensorflow/python/framework/dtypes.py:517: FutureWarning: Passing (type, 1) or '1type' as a synonym of type is deprecated; in a future version of numpy, it will be understood as (type, (1,)) / '(1,)type'.\n",
      "  _np_quint8 = np.dtype([(\"quint8\", np.uint8, 1)])\n",
      "/home/sheila/anaconda3/envs/environment_py3_7/lib/python3.7/site-packages/tensorflow/python/framework/dtypes.py:518: FutureWarning: Passing (type, 1) or '1type' as a synonym of type is deprecated; in a future version of numpy, it will be understood as (type, (1,)) / '(1,)type'.\n",
      "  _np_qint16 = np.dtype([(\"qint16\", np.int16, 1)])\n",
      "/home/sheila/anaconda3/envs/environment_py3_7/lib/python3.7/site-packages/tensorflow/python/framework/dtypes.py:519: FutureWarning: Passing (type, 1) or '1type' as a synonym of type is deprecated; in a future version of numpy, it will be understood as (type, (1,)) / '(1,)type'.\n",
      "  _np_quint16 = np.dtype([(\"quint16\", np.uint16, 1)])\n",
      "/home/sheila/anaconda3/envs/environment_py3_7/lib/python3.7/site-packages/tensorflow/python/framework/dtypes.py:520: FutureWarning: Passing (type, 1) or '1type' as a synonym of type is deprecated; in a future version of numpy, it will be understood as (type, (1,)) / '(1,)type'.\n",
      "  _np_qint32 = np.dtype([(\"qint32\", np.int32, 1)])\n",
      "/home/sheila/anaconda3/envs/environment_py3_7/lib/python3.7/site-packages/tensorflow/python/framework/dtypes.py:525: FutureWarning: Passing (type, 1) or '1type' as a synonym of type is deprecated; in a future version of numpy, it will be understood as (type, (1,)) / '(1,)type'.\n",
      "  np_resource = np.dtype([(\"resource\", np.ubyte, 1)])\n",
      "/home/sheila/anaconda3/envs/environment_py3_7/lib/python3.7/site-packages/tensorboard/compat/tensorflow_stub/dtypes.py:541: FutureWarning: Passing (type, 1) or '1type' as a synonym of type is deprecated; in a future version of numpy, it will be understood as (type, (1,)) / '(1,)type'.\n",
      "  _np_qint8 = np.dtype([(\"qint8\", np.int8, 1)])\n",
      "/home/sheila/anaconda3/envs/environment_py3_7/lib/python3.7/site-packages/tensorboard/compat/tensorflow_stub/dtypes.py:542: FutureWarning: Passing (type, 1) or '1type' as a synonym of type is deprecated; in a future version of numpy, it will be understood as (type, (1,)) / '(1,)type'.\n",
      "  _np_quint8 = np.dtype([(\"quint8\", np.uint8, 1)])\n",
      "/home/sheila/anaconda3/envs/environment_py3_7/lib/python3.7/site-packages/tensorboard/compat/tensorflow_stub/dtypes.py:543: FutureWarning: Passing (type, 1) or '1type' as a synonym of type is deprecated; in a future version of numpy, it will be understood as (type, (1,)) / '(1,)type'.\n",
      "  _np_qint16 = np.dtype([(\"qint16\", np.int16, 1)])\n",
      "/home/sheila/anaconda3/envs/environment_py3_7/lib/python3.7/site-packages/tensorboard/compat/tensorflow_stub/dtypes.py:544: FutureWarning: Passing (type, 1) or '1type' as a synonym of type is deprecated; in a future version of numpy, it will be understood as (type, (1,)) / '(1,)type'.\n",
      "  _np_quint16 = np.dtype([(\"quint16\", np.uint16, 1)])\n",
      "/home/sheila/anaconda3/envs/environment_py3_7/lib/python3.7/site-packages/tensorboard/compat/tensorflow_stub/dtypes.py:545: FutureWarning: Passing (type, 1) or '1type' as a synonym of type is deprecated; in a future version of numpy, it will be understood as (type, (1,)) / '(1,)type'.\n",
      "  _np_qint32 = np.dtype([(\"qint32\", np.int32, 1)])\n",
      "/home/sheila/anaconda3/envs/environment_py3_7/lib/python3.7/site-packages/tensorboard/compat/tensorflow_stub/dtypes.py:550: FutureWarning: Passing (type, 1) or '1type' as a synonym of type is deprecated; in a future version of numpy, it will be understood as (type, (1,)) / '(1,)type'.\n",
      "  np_resource = np.dtype([(\"resource\", np.ubyte, 1)])\n"
     ]
    }
   ],
   "source": [
    "#%%\n",
    "from ns3gym import ns3env\n",
    "from comet_ml import Experiment, Optimizer\n",
    "import tqdm\n",
    "import subprocess\n",
    "from collections import deque\n",
    "import numpy as np\n",
    "\n",
    "from agents.dqn.agent import Agent, Config\n",
    "from agents.dqn.model import QNetworkTf\n",
    "from agents.teacher import Teacher, EnvWrapper\n",
    "from preprocessor import Preprocessor"
   ]
  },
  {
   "cell_type": "code",
   "execution_count": 2,
   "id": "c28ab08b",
   "metadata": {},
   "outputs": [
    {
     "name": "stdout",
     "output_type": "stream",
     "text": [
      "Steps per episode: 6000\n",
      "Waiting for simulation script to connect on port: tcp://localhost:21706\n",
      "Please start proper ns-3 simulation script using ./waf --run \"...\"\n",
      "41.070007|0|5|-nan\n",
      "Observation space shape: (1, 300)\n",
      "Action space shape: (1, 1)\n"
     ]
    }
   ],
   "source": [
    "#%%\n",
    "scenario = \"convergence\"\n",
    "\n",
    "simTime = 60 # seconds\n",
    "stepTime = 0.01  # seconds\n",
    "history_length = 300\n",
    "\n",
    "EPISODE_COUNT = 15\n",
    "steps_per_ep = int(simTime/stepTime)\n",
    "\n",
    "sim_args = {\n",
    "    \"simTime\": simTime,\n",
    "    \"envStepTime\": stepTime,\n",
    "    \"historyLength\": history_length,\n",
    "    \"agentType\": Agent.TYPE,\n",
    "    \"scenario\": \"convergence\",\n",
    "    \"nWifi\": 15,\n",
    "}\n",
    "\n",
    "print(\"Steps per episode:\", steps_per_ep)\n",
    "\n",
    "threads_no = 1\n",
    "env = EnvWrapper(threads_no, **sim_args)\n",
    "\n",
    "#%%\n",
    "env.reset()\n",
    "ob_space = env.observation_space\n",
    "ac_space = env.action_space\n",
    "\n",
    "print(\"Observation space shape:\", ob_space)\n",
    "print(\"Action space shape:\", ac_space)\n",
    "\n",
    "assert ob_space is not None\n"
   ]
  },
  {
   "cell_type": "code",
   "execution_count": 3,
   "id": "6621046b",
   "metadata": {},
   "outputs": [
    {
     "name": "stdout",
     "output_type": "stream",
     "text": [
      "WARNING:tensorflow:From /home/sheila/repos/ns-3-allinone/ns-3.29/scratch/RLinWiFi-master-original-queue-level-mean/agents/dqn/agent.py:53: The name tf.Session is deprecated. Please use tf.compat.v1.Session instead.\n",
      "\n",
      "WARNING:tensorflow:From /home/sheila/repos/ns-3-allinone/ns-3.29/scratch/RLinWiFi-master-original-queue-level-mean/agents/dqn/model.py:25: The name tf.variable_scope is deprecated. Please use tf.compat.v1.variable_scope instead.\n",
      "\n",
      "WARNING:tensorflow:From /home/sheila/repos/ns-3-allinone/ns-3.29/scratch/RLinWiFi-master-original-queue-level-mean/agents/dqn/model.py:26: The name tf.placeholder is deprecated. Please use tf.compat.v1.placeholder instead.\n",
      "\n",
      "WARNING:tensorflow:\n",
      "The TensorFlow contrib module will not be included in TensorFlow 2.0.\n",
      "For more information, please see:\n",
      "  * https://github.com/tensorflow/community/blob/master/rfcs/20180907-contrib-sunset.md\n",
      "  * https://github.com/tensorflow/addons\n",
      "  * https://github.com/tensorflow/io (for I/O related ops)\n",
      "If you depend on functionality not listed there, please file an issue.\n",
      "\n",
      "WARNING:tensorflow:From /home/sheila/repos/ns-3-allinone/ns-3.29/scratch/RLinWiFi-master-original-queue-level-mean/agents/dqn/model.py:52: LSTMCell.__init__ (from tensorflow.python.ops.rnn_cell_impl) is deprecated and will be removed in a future version.\n",
      "Instructions for updating:\n",
      "This class is equivalent as tf.keras.layers.LSTMCell, and will be replaced by that in Tensorflow 2.0.\n",
      "WARNING:tensorflow:From /home/sheila/repos/ns-3-allinone/ns-3.29/scratch/RLinWiFi-master-original-queue-level-mean/agents/dqn/model.py:52: static_rnn (from tensorflow.python.ops.rnn) is deprecated and will be removed in a future version.\n",
      "Instructions for updating:\n",
      "Please use `keras.layers.RNN(cell, unroll=True)`, which is equivalent to this API\n",
      "WARNING:tensorflow:From /home/sheila/anaconda3/envs/environment_py3_7/lib/python3.7/site-packages/tensorflow/python/ops/init_ops.py:1251: calling VarianceScaling.__init__ (from tensorflow.python.ops.init_ops) with dtype is deprecated and will be removed in a future version.\n",
      "Instructions for updating:\n",
      "Call initializer instance with the dtype argument instead of passing it to the constructor\n",
      "WARNING:tensorflow:From /home/sheila/anaconda3/envs/environment_py3_7/lib/python3.7/site-packages/tensorflow/python/ops/rnn_cell_impl.py:961: calling Zeros.__init__ (from tensorflow.python.ops.init_ops) with dtype is deprecated and will be removed in a future version.\n",
      "Instructions for updating:\n",
      "Call initializer instance with the dtype argument instead of passing it to the constructor\n",
      "WARNING:tensorflow:Entity <bound method LSTMCell.call of <tensorflow.python.ops.rnn_cell_impl.LSTMCell object at 0x7fa4a3bd0cd0>> could not be transformed and will be executed as-is. Please report this to the AutgoGraph team. When filing the bug, set the verbosity to 10 (on Linux, `export AUTOGRAPH_VERBOSITY=10`) and attach the full output. Cause: converting <bound method LSTMCell.call of <tensorflow.python.ops.rnn_cell_impl.LSTMCell object at 0x7fa4a3bd0cd0>>: AttributeError: module 'gast' has no attribute 'Index'\n",
      "WARNING: Entity <bound method LSTMCell.call of <tensorflow.python.ops.rnn_cell_impl.LSTMCell object at 0x7fa4a3bd0cd0>> could not be transformed and will be executed as-is. Please report this to the AutgoGraph team. When filing the bug, set the verbosity to 10 (on Linux, `export AUTOGRAPH_VERBOSITY=10`) and attach the full output. Cause: converting <bound method LSTMCell.call of <tensorflow.python.ops.rnn_cell_impl.LSTMCell object at 0x7fa4a3bd0cd0>>: AttributeError: module 'gast' has no attribute 'Index'\n",
      "WARNING:tensorflow:Entity <bound method LSTMCell.call of <tensorflow.python.ops.rnn_cell_impl.LSTMCell object at 0x7fa4a3bd0cd0>> could not be transformed and will be executed as-is. Please report this to the AutgoGraph team. When filing the bug, set the verbosity to 10 (on Linux, `export AUTOGRAPH_VERBOSITY=10`) and attach the full output. Cause: converting <bound method LSTMCell.call of <tensorflow.python.ops.rnn_cell_impl.LSTMCell object at 0x7fa4a3bd0cd0>>: AttributeError: module 'gast' has no attribute 'Index'\n",
      "WARNING: Entity <bound method LSTMCell.call of <tensorflow.python.ops.rnn_cell_impl.LSTMCell object at 0x7fa4a3bd0cd0>> could not be transformed and will be executed as-is. Please report this to the AutgoGraph team. When filing the bug, set the verbosity to 10 (on Linux, `export AUTOGRAPH_VERBOSITY=10`) and attach the full output. Cause: converting <bound method LSTMCell.call of <tensorflow.python.ops.rnn_cell_impl.LSTMCell object at 0x7fa4a3bd0cd0>>: AttributeError: module 'gast' has no attribute 'Index'\n",
      "WARNING:tensorflow:Entity <bound method LSTMCell.call of <tensorflow.python.ops.rnn_cell_impl.LSTMCell object at 0x7fa4a3bd0cd0>> could not be transformed and will be executed as-is. Please report this to the AutgoGraph team. When filing the bug, set the verbosity to 10 (on Linux, `export AUTOGRAPH_VERBOSITY=10`) and attach the full output. Cause: converting <bound method LSTMCell.call of <tensorflow.python.ops.rnn_cell_impl.LSTMCell object at 0x7fa4a3bd0cd0>>: AttributeError: module 'gast' has no attribute 'Index'\n",
      "WARNING: Entity <bound method LSTMCell.call of <tensorflow.python.ops.rnn_cell_impl.LSTMCell object at 0x7fa4a3bd0cd0>> could not be transformed and will be executed as-is. Please report this to the AutgoGraph team. When filing the bug, set the verbosity to 10 (on Linux, `export AUTOGRAPH_VERBOSITY=10`) and attach the full output. Cause: converting <bound method LSTMCell.call of <tensorflow.python.ops.rnn_cell_impl.LSTMCell object at 0x7fa4a3bd0cd0>>: AttributeError: module 'gast' has no attribute 'Index'\n",
      "WARNING:tensorflow:Entity <bound method LSTMCell.call of <tensorflow.python.ops.rnn_cell_impl.LSTMCell object at 0x7fa4a3bd0cd0>> could not be transformed and will be executed as-is. Please report this to the AutgoGraph team. When filing the bug, set the verbosity to 10 (on Linux, `export AUTOGRAPH_VERBOSITY=10`) and attach the full output. Cause: converting <bound method LSTMCell.call of <tensorflow.python.ops.rnn_cell_impl.LSTMCell object at 0x7fa4a3bd0cd0>>: AttributeError: module 'gast' has no attribute 'Index'\n",
      "WARNING: Entity <bound method LSTMCell.call of <tensorflow.python.ops.rnn_cell_impl.LSTMCell object at 0x7fa4a3bd0cd0>> could not be transformed and will be executed as-is. Please report this to the AutgoGraph team. When filing the bug, set the verbosity to 10 (on Linux, `export AUTOGRAPH_VERBOSITY=10`) and attach the full output. Cause: converting <bound method LSTMCell.call of <tensorflow.python.ops.rnn_cell_impl.LSTMCell object at 0x7fa4a3bd0cd0>>: AttributeError: module 'gast' has no attribute 'Index'\n",
      "WARNING:tensorflow:From /home/sheila/repos/ns-3-allinone/ns-3.29/scratch/RLinWiFi-master-original-queue-level-mean/agents/dqn/model.py:53: dense (from tensorflow.python.layers.core) is deprecated and will be removed in a future version.\n",
      "Instructions for updating:\n",
      "Use keras.layers.dense instead.\n",
      "WARNING:tensorflow:Entity <bound method Dense.call of <tensorflow.python.layers.core.Dense object at 0x7fa4a3bd0cd0>> could not be transformed and will be executed as-is. Please report this to the AutgoGraph team. When filing the bug, set the verbosity to 10 (on Linux, `export AUTOGRAPH_VERBOSITY=10`) and attach the full output. Cause: converting <bound method Dense.call of <tensorflow.python.layers.core.Dense object at 0x7fa4a3bd0cd0>>: AttributeError: module 'gast' has no attribute 'Index'\n",
      "WARNING: Entity <bound method Dense.call of <tensorflow.python.layers.core.Dense object at 0x7fa4a3bd0cd0>> could not be transformed and will be executed as-is. Please report this to the AutgoGraph team. When filing the bug, set the verbosity to 10 (on Linux, `export AUTOGRAPH_VERBOSITY=10`) and attach the full output. Cause: converting <bound method Dense.call of <tensorflow.python.layers.core.Dense object at 0x7fa4a3bd0cd0>>: AttributeError: module 'gast' has no attribute 'Index'\n",
      "WARNING:tensorflow:Entity <bound method Dense.call of <tensorflow.python.layers.core.Dense object at 0x7fa4a3bd0cd0>> could not be transformed and will be executed as-is. Please report this to the AutgoGraph team. When filing the bug, set the verbosity to 10 (on Linux, `export AUTOGRAPH_VERBOSITY=10`) and attach the full output. Cause: converting <bound method Dense.call of <tensorflow.python.layers.core.Dense object at 0x7fa4a3bd0cd0>>: AttributeError: module 'gast' has no attribute 'Index'\n"
     ]
    },
    {
     "name": "stdout",
     "output_type": "stream",
     "text": [
      "WARNING: Entity <bound method Dense.call of <tensorflow.python.layers.core.Dense object at 0x7fa4a3bd0cd0>> could not be transformed and will be executed as-is. Please report this to the AutgoGraph team. When filing the bug, set the verbosity to 10 (on Linux, `export AUTOGRAPH_VERBOSITY=10`) and attach the full output. Cause: converting <bound method Dense.call of <tensorflow.python.layers.core.Dense object at 0x7fa4a3bd0cd0>>: AttributeError: module 'gast' has no attribute 'Index'\n",
      "WARNING:tensorflow:Entity <bound method Dense.call of <tensorflow.python.layers.core.Dense object at 0x7fa4a3bd0cd0>> could not be transformed and will be executed as-is. Please report this to the AutgoGraph team. When filing the bug, set the verbosity to 10 (on Linux, `export AUTOGRAPH_VERBOSITY=10`) and attach the full output. Cause: converting <bound method Dense.call of <tensorflow.python.layers.core.Dense object at 0x7fa4a3bd0cd0>>: AttributeError: module 'gast' has no attribute 'Index'\n",
      "WARNING: Entity <bound method Dense.call of <tensorflow.python.layers.core.Dense object at 0x7fa4a3bd0cd0>> could not be transformed and will be executed as-is. Please report this to the AutgoGraph team. When filing the bug, set the verbosity to 10 (on Linux, `export AUTOGRAPH_VERBOSITY=10`) and attach the full output. Cause: converting <bound method Dense.call of <tensorflow.python.layers.core.Dense object at 0x7fa4a3bd0cd0>>: AttributeError: module 'gast' has no attribute 'Index'\n",
      "WARNING:tensorflow:From /home/sheila/repos/ns-3-allinone/ns-3.29/scratch/RLinWiFi-master-original-queue-level-mean/agents/dqn/model.py:69: The name tf.losses.mean_squared_error is deprecated. Please use tf.compat.v1.losses.mean_squared_error instead.\n",
      "\n",
      "WARNING:tensorflow:From /home/sheila/anaconda3/envs/environment_py3_7/lib/python3.7/site-packages/tensorflow/python/ops/losses/losses_impl.py:121: add_dispatch_support.<locals>.wrapper (from tensorflow.python.ops.array_ops) is deprecated and will be removed in a future version.\n",
      "Instructions for updating:\n",
      "Use tf.where in 2.0, which has the same broadcast rule as np.where\n",
      "WARNING:tensorflow:From /home/sheila/repos/ns-3-allinone/ns-3.29/scratch/RLinWiFi-master-original-queue-level-mean/agents/dqn/model.py:77: The name tf.train.AdamOptimizer is deprecated. Please use tf.compat.v1.train.AdamOptimizer instead.\n",
      "\n",
      "WARNING:tensorflow:From /home/sheila/repos/ns-3-allinone/ns-3.29/scratch/RLinWiFi-master-original-queue-level-mean/agents/dqn/model.py:33: The name tf.global_variables_initializer is deprecated. Please use tf.compat.v1.global_variables_initializer instead.\n",
      "\n",
      "WARNING:tensorflow:From /home/sheila/repos/ns-3-allinone/ns-3.29/scratch/RLinWiFi-master-original-queue-level-mean/agents/dqn/model.py:34: The name tf.local_variables_initializer is deprecated. Please use tf.compat.v1.local_variables_initializer instead.\n",
      "\n",
      "WARNING:tensorflow:Entity <bound method LSTMCell.call of <tensorflow.python.ops.rnn_cell_impl.LSTMCell object at 0x7fa48ca55990>> could not be transformed and will be executed as-is. Please report this to the AutgoGraph team. When filing the bug, set the verbosity to 10 (on Linux, `export AUTOGRAPH_VERBOSITY=10`) and attach the full output. Cause: converting <bound method LSTMCell.call of <tensorflow.python.ops.rnn_cell_impl.LSTMCell object at 0x7fa48ca55990>>: AttributeError: module 'gast' has no attribute 'Index'\n",
      "WARNING: Entity <bound method LSTMCell.call of <tensorflow.python.ops.rnn_cell_impl.LSTMCell object at 0x7fa48ca55990>> could not be transformed and will be executed as-is. Please report this to the AutgoGraph team. When filing the bug, set the verbosity to 10 (on Linux, `export AUTOGRAPH_VERBOSITY=10`) and attach the full output. Cause: converting <bound method LSTMCell.call of <tensorflow.python.ops.rnn_cell_impl.LSTMCell object at 0x7fa48ca55990>>: AttributeError: module 'gast' has no attribute 'Index'\n",
      "WARNING:tensorflow:Entity <bound method LSTMCell.call of <tensorflow.python.ops.rnn_cell_impl.LSTMCell object at 0x7fa48ca55990>> could not be transformed and will be executed as-is. Please report this to the AutgoGraph team. When filing the bug, set the verbosity to 10 (on Linux, `export AUTOGRAPH_VERBOSITY=10`) and attach the full output. Cause: converting <bound method LSTMCell.call of <tensorflow.python.ops.rnn_cell_impl.LSTMCell object at 0x7fa48ca55990>>: AttributeError: module 'gast' has no attribute 'Index'\n",
      "WARNING: Entity <bound method LSTMCell.call of <tensorflow.python.ops.rnn_cell_impl.LSTMCell object at 0x7fa48ca55990>> could not be transformed and will be executed as-is. Please report this to the AutgoGraph team. When filing the bug, set the verbosity to 10 (on Linux, `export AUTOGRAPH_VERBOSITY=10`) and attach the full output. Cause: converting <bound method LSTMCell.call of <tensorflow.python.ops.rnn_cell_impl.LSTMCell object at 0x7fa48ca55990>>: AttributeError: module 'gast' has no attribute 'Index'\n",
      "WARNING:tensorflow:Entity <bound method LSTMCell.call of <tensorflow.python.ops.rnn_cell_impl.LSTMCell object at 0x7fa48ca55990>> could not be transformed and will be executed as-is. Please report this to the AutgoGraph team. When filing the bug, set the verbosity to 10 (on Linux, `export AUTOGRAPH_VERBOSITY=10`) and attach the full output. Cause: converting <bound method LSTMCell.call of <tensorflow.python.ops.rnn_cell_impl.LSTMCell object at 0x7fa48ca55990>>: AttributeError: module 'gast' has no attribute 'Index'\n",
      "WARNING: Entity <bound method LSTMCell.call of <tensorflow.python.ops.rnn_cell_impl.LSTMCell object at 0x7fa48ca55990>> could not be transformed and will be executed as-is. Please report this to the AutgoGraph team. When filing the bug, set the verbosity to 10 (on Linux, `export AUTOGRAPH_VERBOSITY=10`) and attach the full output. Cause: converting <bound method LSTMCell.call of <tensorflow.python.ops.rnn_cell_impl.LSTMCell object at 0x7fa48ca55990>>: AttributeError: module 'gast' has no attribute 'Index'\n",
      "WARNING:tensorflow:Entity <bound method LSTMCell.call of <tensorflow.python.ops.rnn_cell_impl.LSTMCell object at 0x7fa48ca55990>> could not be transformed and will be executed as-is. Please report this to the AutgoGraph team. When filing the bug, set the verbosity to 10 (on Linux, `export AUTOGRAPH_VERBOSITY=10`) and attach the full output. Cause: converting <bound method LSTMCell.call of <tensorflow.python.ops.rnn_cell_impl.LSTMCell object at 0x7fa48ca55990>>: AttributeError: module 'gast' has no attribute 'Index'\n",
      "WARNING: Entity <bound method LSTMCell.call of <tensorflow.python.ops.rnn_cell_impl.LSTMCell object at 0x7fa48ca55990>> could not be transformed and will be executed as-is. Please report this to the AutgoGraph team. When filing the bug, set the verbosity to 10 (on Linux, `export AUTOGRAPH_VERBOSITY=10`) and attach the full output. Cause: converting <bound method LSTMCell.call of <tensorflow.python.ops.rnn_cell_impl.LSTMCell object at 0x7fa48ca55990>>: AttributeError: module 'gast' has no attribute 'Index'\n",
      "WARNING:tensorflow:Entity <bound method Dense.call of <tensorflow.python.layers.core.Dense object at 0x7fa48ca55990>> could not be transformed and will be executed as-is. Please report this to the AutgoGraph team. When filing the bug, set the verbosity to 10 (on Linux, `export AUTOGRAPH_VERBOSITY=10`) and attach the full output. Cause: converting <bound method Dense.call of <tensorflow.python.layers.core.Dense object at 0x7fa48ca55990>>: AttributeError: module 'gast' has no attribute 'Index'\n",
      "WARNING: Entity <bound method Dense.call of <tensorflow.python.layers.core.Dense object at 0x7fa48ca55990>> could not be transformed and will be executed as-is. Please report this to the AutgoGraph team. When filing the bug, set the verbosity to 10 (on Linux, `export AUTOGRAPH_VERBOSITY=10`) and attach the full output. Cause: converting <bound method Dense.call of <tensorflow.python.layers.core.Dense object at 0x7fa48ca55990>>: AttributeError: module 'gast' has no attribute 'Index'\n",
      "WARNING:tensorflow:Entity <bound method Dense.call of <tensorflow.python.layers.core.Dense object at 0x7fa48ca55990>> could not be transformed and will be executed as-is. Please report this to the AutgoGraph team. When filing the bug, set the verbosity to 10 (on Linux, `export AUTOGRAPH_VERBOSITY=10`) and attach the full output. Cause: converting <bound method Dense.call of <tensorflow.python.layers.core.Dense object at 0x7fa48ca55990>>: AttributeError: module 'gast' has no attribute 'Index'\n"
     ]
    },
    {
     "name": "stdout",
     "output_type": "stream",
     "text": [
      "WARNING: Entity <bound method Dense.call of <tensorflow.python.layers.core.Dense object at 0x7fa48ca55990>> could not be transformed and will be executed as-is. Please report this to the AutgoGraph team. When filing the bug, set the verbosity to 10 (on Linux, `export AUTOGRAPH_VERBOSITY=10`) and attach the full output. Cause: converting <bound method Dense.call of <tensorflow.python.layers.core.Dense object at 0x7fa48ca55990>>: AttributeError: module 'gast' has no attribute 'Index'\n",
      "WARNING:tensorflow:Entity <bound method Dense.call of <tensorflow.python.layers.core.Dense object at 0x7fa48ca55990>> could not be transformed and will be executed as-is. Please report this to the AutgoGraph team. When filing the bug, set the verbosity to 10 (on Linux, `export AUTOGRAPH_VERBOSITY=10`) and attach the full output. Cause: converting <bound method Dense.call of <tensorflow.python.layers.core.Dense object at 0x7fa48ca55990>>: AttributeError: module 'gast' has no attribute 'Index'\n",
      "WARNING: Entity <bound method Dense.call of <tensorflow.python.layers.core.Dense object at 0x7fa48ca55990>> could not be transformed and will be executed as-is. Please report this to the AutgoGraph team. When filing the bug, set the verbosity to 10 (on Linux, `export AUTOGRAPH_VERBOSITY=10`) and attach the full output. Cause: converting <bound method Dense.call of <tensorflow.python.layers.core.Dense object at 0x7fa48ca55990>>: AttributeError: module 'gast' has no attribute 'Index'\n",
      "WARNING:tensorflow:From /home/sheila/repos/ns-3-allinone/ns-3.29/scratch/RLinWiFi-master-original-queue-level-mean/agents/dqn/agent.py:77: The name tf.train.Saver is deprecated. Please use tf.compat.v1.train.Saver instead.\n",
      "\n",
      "Action space: 7\n",
      "WARNING:tensorflow:From /home/sheila/repos/ns-3-allinone/ns-3.29/scratch/RLinWiFi-master-original-queue-level-mean/agents/dqn/agent.py:107: Variable.load (from tensorflow.python.ops.variables) is deprecated and will be removed in a future version.\n",
      "Instructions for updating:\n",
      "Prefer Variable.assign which has equivalent behavior in 2.X.\n"
     ]
    },
    {
     "name": "stderr",
     "output_type": "stream",
     "text": [
      "COMET INFO: Experiment is live on comet.ml https://www.comet.com/sheila-janota/rl-in-wifi-with-queue-level/d9ba6d29b562456780d7561cadf6e7d8\n",
      "\n"
     ]
    },
    {
     "name": "stdout",
     "output_type": "stream",
     "text": [
      "0\n",
      "41.070007|0|5|-nan\n"
     ]
    },
    {
     "name": "stderr",
     "output_type": "stream",
     "text": [
      "  5%|▌         | 333/6300 [02:23<41:30,  2.40it/s, curr_speed=25.45 Mbps, mb_sent=8.14 Mb] "
     ]
    },
    {
     "name": "stdout",
     "output_type": "stream",
     "text": [
      "------- STARTED TRAINING -------\n"
     ]
    },
    {
     "name": "stderr",
     "output_type": "stream",
     "text": [
      "100%|██████████| 6300/6300 [1:20:56<00:00,  1.30it/s, curr_speed=49.87 Mbps, mb_sent=1859.60 Mb]\n"
     ]
    },
    {
     "name": "stdout",
     "output_type": "stream",
     "text": [
      "Waiting for simulation script to connect on port: tcp://localhost:45362\n",
      "Please start proper ns-3 simulation script using ./waf --run \"...\"\n",
      "Sent 1859.60 Mb/s.\tMean speed: 30.99 Mb/s\tEpisode 1/15 finished\n",
      "\n",
      "1\n",
      "41.070007|0|5|-nan\n"
     ]
    },
    {
     "name": "stderr",
     "output_type": "stream",
     "text": [
      " 83%|████████▎ | 5259/6300 [59:50<15:31,  1.12it/s, curr_speed=31.98 Mbps, mb_sent=1661.27 Mb] COMET ERROR: File could not be uploaded\n",
      " 83%|████████▎ | 5260/6300 [59:50<14:16,  1.21it/s, curr_speed=31.93 Mbps, mb_sent=1661.59 Mb]COMET ERROR: File could not be uploaded\n",
      " 84%|████████▎ | 5261/6300 [59:51<13:16,  1.30it/s, curr_speed=31.91 Mbps, mb_sent=1661.86 Mb]COMET ERROR: File could not be uploaded\n",
      "100%|██████████| 6300/6300 [1:16:12<00:00,  1.38it/s, curr_speed=31.73 Mbps, mb_sent=2023.01 Mb]\n"
     ]
    },
    {
     "name": "stdout",
     "output_type": "stream",
     "text": [
      "Waiting for simulation script to connect on port: tcp://localhost:42880\n",
      "Please start proper ns-3 simulation script using ./waf --run \"...\"\n",
      "Sent 2023.01 Mb/s.\tMean speed: 33.72 Mb/s\tEpisode 2/15 finished\n",
      "\n",
      "2\n",
      "41.070007|0|5|-nan\n"
     ]
    },
    {
     "name": "stderr",
     "output_type": "stream",
     "text": [
      "100%|██████████| 6300/6300 [1:18:33<00:00,  1.34it/s, curr_speed=39.71 Mbps, mb_sent=2120.46 Mb]\n"
     ]
    },
    {
     "name": "stdout",
     "output_type": "stream",
     "text": [
      "Waiting for simulation script to connect on port: tcp://localhost:43103\n",
      "Please start proper ns-3 simulation script using ./waf --run \"...\"\n",
      "Sent 2120.46 Mb/s.\tMean speed: 35.34 Mb/s\tEpisode 3/15 finished\n",
      "\n",
      "3\n",
      "41.070007|0|5|-nan\n"
     ]
    },
    {
     "name": "stderr",
     "output_type": "stream",
     "text": [
      "  5%|▍         | 304/6300 [02:17<47:15,  2.11it/s, curr_speed=36.49 Mbps, mb_sent=1.09 Mb]"
     ]
    },
    {
     "name": "stdout",
     "output_type": "stream",
     "text": [
      "------- MEMORY BUFFER FILLED -------\n"
     ]
    },
    {
     "name": "stderr",
     "output_type": "stream",
     "text": [
      " 64%|██████▎   | 4012/6300 [48:13<39:45,  1.04s/it, curr_speed=36.29 Mbps, mb_sent=1356.40 Mb] COMET ERROR: File could not be uploaded\n",
      " 64%|██████▎   | 4013/6300 [48:14<39:09,  1.03s/it, curr_speed=36.39 Mbps, mb_sent=1356.82 Mb]COMET ERROR: File could not be uploaded\n",
      "100%|██████████| 6300/6300 [1:23:45<00:00,  1.25it/s, curr_speed=31.27 Mbps, mb_sent=2166.62 Mb]\n"
     ]
    },
    {
     "name": "stdout",
     "output_type": "stream",
     "text": [
      "Waiting for simulation script to connect on port: tcp://localhost:28492\n",
      "Please start proper ns-3 simulation script using ./waf --run \"...\"\n",
      "Sent 2166.62 Mb/s.\tMean speed: 36.11 Mb/s\tEpisode 4/15 finished\n",
      "\n",
      "4\n",
      "41.070007|0|5|-nan\n"
     ]
    },
    {
     "name": "stderr",
     "output_type": "stream",
     "text": [
      " 60%|█████▉    | 3767/6300 [1:10:26<370:36:58, 526.73s/it, curr_speed=37.69 Mbps, mb_sent=1300.22 Mb]COMET ERROR: File could not be uploaded\n",
      " 77%|███████▋  | 4875/6300 [1:27:05<23:48,  1.00s/it, curr_speed=37.25 Mbps, mb_sent=1708.70 Mb]     COMET ERROR: File could not be uploaded\n",
      " 77%|███████▋  | 4876/6300 [1:27:06<24:34,  1.04s/it, curr_speed=37.27 Mbps, mb_sent=1709.12 Mb]COMET ERROR: File could not be uploaded\n",
      "100%|██████████| 6300/6300 [1:51:35<00:00,  1.06s/it, curr_speed=36.19 Mbps, mb_sent=2230.17 Mb]\n"
     ]
    },
    {
     "name": "stdout",
     "output_type": "stream",
     "text": [
      "Waiting for simulation script to connect on port: tcp://localhost:23976\n",
      "Please start proper ns-3 simulation script using ./waf --run \"...\"\n",
      "Sent 2230.17 Mb/s.\tMean speed: 37.17 Mb/s\tEpisode 5/15 finished\n",
      "\n",
      "5\n",
      "41.070007|0|5|-nan\n"
     ]
    },
    {
     "name": "stderr",
     "output_type": "stream",
     "text": [
      "100%|██████████| 6300/6300 [1:24:23<00:00,  1.24it/s, curr_speed=37.99 Mbps, mb_sent=2246.22 Mb]\n"
     ]
    },
    {
     "name": "stdout",
     "output_type": "stream",
     "text": [
      "Waiting for simulation script to connect on port: tcp://localhost:35191\n",
      "Please start proper ns-3 simulation script using ./waf --run \"...\"\n",
      "Sent 2246.22 Mb/s.\tMean speed: 37.44 Mb/s\tEpisode 6/15 finished\n",
      "\n",
      "6\n",
      "41.070007|0|5|-nan\n"
     ]
    },
    {
     "name": "stderr",
     "output_type": "stream",
     "text": [
      " 69%|██████▉   | 4352/6300 [49:42<25:10,  1.29it/s, curr_speed=37.45 Mbps, mb_sent=1535.38 Mb] COMET ERROR: File could not be uploaded\n",
      "COMET ERROR: File could not be uploaded\n",
      "COMET ERROR: File could not be uploaded\n",
      "COMET ERROR: File could not be uploaded\n",
      "COMET ERROR: File could not be uploaded\n",
      "COMET ERROR: File could not be uploaded\n",
      "100%|██████████| 6300/6300 [1:20:32<00:00,  1.30it/s, curr_speed=38.15 Mbps, mb_sent=2268.80 Mb]\n"
     ]
    },
    {
     "name": "stdout",
     "output_type": "stream",
     "text": [
      "Waiting for simulation script to connect on port: tcp://localhost:25679\n",
      "Please start proper ns-3 simulation script using ./waf --run \"...\"\n",
      "Sent 2268.80 Mb/s.\tMean speed: 37.81 Mb/s\tEpisode 7/15 finished\n",
      "\n",
      "7\n",
      "41.070007|0|5|-nan\n"
     ]
    },
    {
     "name": "stderr",
     "output_type": "stream",
     "text": [
      " 21%|██        | 1303/6300 [11:54<51:17,  1.62it/s, curr_speed=38.15 Mbps, mb_sent=385.18 Mb]  COMET ERROR: File could not be uploaded\n",
      "COMET ERROR: File could not be uploaded\n",
      "COMET ERROR: File could not be uploaded\n",
      "COMET ERROR: File could not be uploaded\n",
      "COMET ERROR: File could not be uploaded\n",
      "COMET ERROR: File could not be uploaded\n",
      "COMET ERROR: File could not be uploaded\n",
      "COMET ERROR: File could not be uploaded\n",
      " 57%|█████▋    | 3561/6300 [38:48<35:56,  1.27it/s, curr_speed=37.50 Mbps, mb_sent=1245.96 Mb] COMET ERROR: File could not be uploaded\n",
      "COMET ERROR: File could not be uploaded\n",
      "COMET ERROR: File could not be uploaded\n",
      "COMET ERROR: File could not be uploaded\n",
      "COMET ERROR: File could not be uploaded\n",
      "COMET ERROR: File could not be uploaded\n",
      " 57%|█████▋    | 3562/6300 [38:49<36:48,  1.24it/s, curr_speed=37.50 Mbps, mb_sent=1246.35 Mb]COMET ERROR: File could not be uploaded\n",
      " 71%|███████   | 4486/6300 [53:08<51:47,  1.71s/it, curr_speed=37.12 Mbps, mb_sent=1593.04 Mb]  COMET ERROR: File could not be uploaded\n",
      " 71%|███████   | 4487/6300 [53:09<46:32,  1.54s/it, curr_speed=37.15 Mbps, mb_sent=1593.45 Mb]COMET ERROR: File could not be uploaded\n",
      "COMET ERROR: File could not be uploaded\n",
      " 71%|███████▏  | 4489/6300 [53:11<42:15,  1.40s/it, curr_speed=37.18 Mbps, mb_sent=1594.25 Mb]COMET ERROR: File could not be uploaded\n",
      "100%|██████████| 6300/6300 [1:46:18<00:00,  1.01s/it, curr_speed=37.84 Mbps, mb_sent=2276.00 Mb]     \n"
     ]
    },
    {
     "name": "stdout",
     "output_type": "stream",
     "text": [
      "Waiting for simulation script to connect on port: tcp://localhost:42513\n",
      "Please start proper ns-3 simulation script using ./waf --run \"...\"\n",
      "Sent 2276.00 Mb/s.\tMean speed: 37.93 Mb/s\tEpisode 8/15 finished\n",
      "\n",
      "8\n",
      "41.070007|0|5|-nan\n"
     ]
    },
    {
     "name": "stderr",
     "output_type": "stream",
     "text": [
      "100%|██████████| 6300/6300 [1:25:45<00:00,  1.22it/s, curr_speed=38.09 Mbps, mb_sent=2279.75 Mb]\n"
     ]
    },
    {
     "name": "stdout",
     "output_type": "stream",
     "text": [
      "Waiting for simulation script to connect on port: tcp://localhost:27597\n",
      "Please start proper ns-3 simulation script using ./waf --run \"...\"\n",
      "Sent 2279.75 Mb/s.\tMean speed: 38.00 Mb/s\tEpisode 9/15 finished\n",
      "\n",
      "9\n",
      "41.070007|0|5|-nan\n"
     ]
    },
    {
     "name": "stderr",
     "output_type": "stream",
     "text": [
      "100%|██████████| 6300/6300 [1:19:22<00:00,  1.32it/s, curr_speed=37.89 Mbps, mb_sent=2285.93 Mb]\n"
     ]
    },
    {
     "name": "stdout",
     "output_type": "stream",
     "text": [
      "Waiting for simulation script to connect on port: tcp://localhost:51329\n",
      "Please start proper ns-3 simulation script using ./waf --run \"...\"\n",
      "Sent 2285.93 Mb/s.\tMean speed: 38.10 Mb/s\tEpisode 10/15 finished\n",
      "\n",
      "10\n",
      "41.070007|0|5|-nan\n"
     ]
    },
    {
     "name": "stderr",
     "output_type": "stream",
     "text": [
      " 38%|███▊      | 2412/6300 [19:52<52:11,  1.24it/s, curr_speed=38.11 Mbps, mb_sent=808.53 Mb]  COMET ERROR: File could not be uploaded\n",
      " 38%|███▊      | 2413/6300 [19:53<52:41,  1.23it/s, curr_speed=38.11 Mbps, mb_sent=808.92 Mb]COMET ERROR: File could not be uploaded\n",
      " 38%|███▊      | 2420/6300 [19:58<50:43,  1.27it/s, curr_speed=38.05 Mbps, mb_sent=811.53 Mb]COMET ERROR: File could not be uploaded\n",
      " 38%|███▊      | 2421/6300 [19:59<50:03,  1.29it/s, curr_speed=38.05 Mbps, mb_sent=811.92 Mb]COMET ERROR: File could not be uploaded\n",
      " 38%|███▊      | 2422/6300 [20:00<48:07,  1.34it/s, curr_speed=38.05 Mbps, mb_sent=812.31 Mb]COMET ERROR: File could not be uploaded\n",
      "100%|██████████| 6300/6300 [1:16:29<00:00,  1.37it/s, curr_speed=38.15 Mbps, mb_sent=2281.83 Mb]\n"
     ]
    },
    {
     "name": "stdout",
     "output_type": "stream",
     "text": [
      "Waiting for simulation script to connect on port: tcp://localhost:43212\n",
      "Please start proper ns-3 simulation script using ./waf --run \"...\"\n",
      "Sent 2281.83 Mb/s.\tMean speed: 38.03 Mb/s\tEpisode 11/15 finished\n",
      "\n",
      "11\n",
      "41.070007|0|5|-nan\n"
     ]
    },
    {
     "name": "stderr",
     "output_type": "stream",
     "text": [
      "100%|██████████| 6300/6300 [1:19:21<00:00,  1.32it/s, curr_speed=38.24 Mbps, mb_sent=2287.14 Mb]\n"
     ]
    },
    {
     "name": "stdout",
     "output_type": "stream",
     "text": [
      "Waiting for simulation script to connect on port: tcp://localhost:18805\n",
      "Please start proper ns-3 simulation script using ./waf --run \"...\"\n",
      "WARNING:tensorflow:From /home/sheila/anaconda3/envs/environment_py3_7/lib/python3.7/site-packages/tensorflow/python/training/saver.py:960: remove_checkpoint (from tensorflow.python.training.checkpoint_management) is deprecated and will be removed in a future version.\n",
      "Instructions for updating:\n",
      "Use standard file APIs to delete files with this prefix.\n",
      "Sent 2287.14 Mb/s.\tMean speed: 38.12 Mb/s\tEpisode 12/15 finished\n",
      "\n",
      "12\n",
      "Turning off noise\n",
      "41.070007|0|5|-nan\n"
     ]
    },
    {
     "name": "stderr",
     "output_type": "stream",
     "text": [
      "100%|██████████| 6300/6300 [1:19:35<00:00,  1.32it/s, curr_speed=37.47 Mbps, mb_sent=2285.42 Mb]\n"
     ]
    },
    {
     "name": "stdout",
     "output_type": "stream",
     "text": [
      "Waiting for simulation script to connect on port: tcp://localhost:20753\n",
      "Please start proper ns-3 simulation script using ./waf --run \"...\"\n",
      "Sent 2285.42 Mb/s.\tMean speed: 38.09 Mb/s\tEpisode 13/15 finished\n",
      "\n",
      "13\n",
      "Turning off noise\n",
      "41.070007|0|5|-nan\n"
     ]
    },
    {
     "name": "stderr",
     "output_type": "stream",
     "text": [
      "100%|██████████| 6300/6300 [1:19:41<00:00,  1.32it/s, curr_speed=38.14 Mbps, mb_sent=2288.54 Mb]\n"
     ]
    },
    {
     "name": "stdout",
     "output_type": "stream",
     "text": [
      "Waiting for simulation script to connect on port: tcp://localhost:52951\n",
      "Please start proper ns-3 simulation script using ./waf --run \"...\"\n",
      "Sent 2288.54 Mb/s.\tMean speed: 38.14 Mb/s\tEpisode 14/15 finished\n",
      "\n",
      "14\n",
      "Turning off noise\n",
      "41.070007|0|5|-nan\n"
     ]
    },
    {
     "name": "stderr",
     "output_type": "stream",
     "text": [
      "100%|██████████| 6300/6300 [1:07:06<00:00,  1.56it/s, curr_speed=37.81 Mbps, mb_sent=2288.23 Mb]\n"
     ]
    },
    {
     "name": "stdout",
     "output_type": "stream",
     "text": [
      "Waiting for simulation script to connect on port: tcp://localhost:23708\n",
      "Please start proper ns-3 simulation script using ./waf --run \"...\"\n"
     ]
    },
    {
     "name": "stderr",
     "output_type": "stream",
     "text": [
      "COMET INFO: ----------------------------\n",
      "COMET INFO: Comet.ml Experiment Summary:\n",
      "COMET INFO:   Data:\n",
      "COMET INFO:     url: https://www.comet.com/sheila-janota/rl-in-wifi-with-queue-level/d9ba6d29b562456780d7561cadf6e7d8\n",
      "COMET INFO:   Metrics [count] (min, max):\n",
      "COMET INFO:     Chosen CW [89985]           : (16.0, 1024.0)\n",
      "COMET INFO:     Cumulative reward [15]      : (2367.443359375, 3203.587158203125)\n",
      "COMET INFO:     Current throughput [89985]  : (20.29486083984375, 70.82537841796875)\n",
      "COMET INFO:     Fairness index [89985]      : (0.07386799901723862, 0.9996089935302734)\n",
      "COMET INFO:     Megabytes sent [89985]      : (0.2568970024585724, 2288.5387204289436)\n",
      "COMET INFO:     Observation 0 [89985]       : (0.2879031250998378, 0.9374989583094915)\n",
      "COMET INFO:     Observation 1 [89985]       : (0.0, 0.043750869064737755)\n",
      "COMET INFO:     Per-ep reward [89985]       : (109.773193359375, 3203.587158203125)\n",
      "COMET INFO:     Round megabytes sent [89985]: (0.04467799887061119, 23.22125244140625)\n",
      "COMET INFO:     Round reward [89985]        : (0.0595703125, 0.62548828125)\n",
      "COMET INFO:     Speed [15]                  : (30.993317735257246, 38.14231200714906)\n",
      "COMET INFO:     Station count [89985]       : (5.0, 15.0)\n",
      "COMET INFO:     loss [89985]                : (0.0, 0.13407475501298904)\n",
      "COMET INFO:   Uploads:\n",
      "COMET INFO:     histogram3d: 89985\n",
      "COMET INFO: ----------------------------\n",
      "COMET INFO: Uploading stats to Comet before program termination (may take several seconds)\n"
     ]
    },
    {
     "name": "stdout",
     "output_type": "stream",
     "text": [
      "Sent 2288.23 Mb/s.\tMean speed: 38.14 Mb/s\tEpisode 15/15 finished\n",
      "\n",
      "Training finished.\n"
     ]
    },
    {
     "name": "stderr",
     "output_type": "stream",
     "text": [
      "COMET INFO: Experiment is live on comet.ml https://www.comet.com/sheila-janota/rl-in-wifi-with-queue-level/25ea4527530e4f6391b8ee470b6ea89e\n",
      "\n"
     ]
    },
    {
     "name": "stdout",
     "output_type": "stream",
     "text": [
      "41.070007|0|5|-nan\n"
     ]
    },
    {
     "name": "stderr",
     "output_type": "stream",
     "text": [
      "100%|██████████| 6300/6300 [38:30<00:00,  2.73it/s, curr_speed=37.81 Mbps, mb_sent=2288.23 Mb]\n"
     ]
    },
    {
     "name": "stdout",
     "output_type": "stream",
     "text": [
      "Waiting for simulation script to connect on port: tcp://localhost:44457\n",
      "Please start proper ns-3 simulation script using ./waf --run \"...\"\n"
     ]
    },
    {
     "name": "stderr",
     "output_type": "stream",
     "text": [
      "COMET INFO: ----------------------------\n",
      "COMET INFO: Comet.ml Experiment Summary:\n",
      "COMET INFO:   Data:\n",
      "COMET INFO:     url: https://www.comet.com/sheila-janota/rl-in-wifi-with-queue-level/25ea4527530e4f6391b8ee470b6ea89e\n",
      "COMET INFO:   Metrics [count] (min, max):\n",
      "COMET INFO:     Chosen CW [5999]           : (32.0, 128.0)\n",
      "COMET INFO:     Cumulative reward          : (3203.170166015625, 3203.170166015625)\n",
      "COMET INFO:     Current throughput [5999]  : (36.892635345458984, 41.326900482177734)\n",
      "COMET INFO:     Fairness index [5999]      : (0.07404900342226028, 0.9992700219154358)\n",
      "COMET INFO:     Megabytes sent [5999]      : (0.4132690131664276, 2288.2259579896927)\n",
      "COMET INFO:     Observation 0 [5999]       : (0.28958749976009135, 0.9374947915474574)\n",
      "COMET INFO:     Observation 1 [5999]       : (0.0, 0.04271111852925974)\n",
      "COMET INFO:     Per-ep reward [5999]       : (152.753173828125, 3203.170166015625)\n",
      "COMET INFO:     Round megabytes sent [5999]: (0.2904050052165985, 0.4579469859600067)\n",
      "COMET INFO:     Round reward [5999]        : (0.38720703125, 0.610595703125)\n",
      "COMET INFO:     Speed                      : (38.137099299828215, 38.137099299828215)\n",
      "COMET INFO:     Station count [5999]       : (5.0, 15.0)\n",
      "COMET INFO:     loss [5999]                : (0.0018894659638108034, 0.0018894659638108034)\n",
      "COMET INFO:   Uploads:\n",
      "COMET INFO:     histogram3d: 5999\n",
      "COMET INFO: ----------------------------\n",
      "COMET INFO: Uploading stats to Comet before program termination (may take several seconds)\n"
     ]
    },
    {
     "name": "stdout",
     "output_type": "stream",
     "text": [
      "Sent 2288.23 Mb/s.\tMean speed: 38.14 Mb/s\tEval finished\n",
      "\n"
     ]
    }
   ],
   "source": [
    "### %%\n",
    "teacher = Teacher(env, 1, Preprocessor(False))\n",
    "\n",
    "lr = 4e-4\n",
    "config = Config(buffer_size=3*steps_per_ep*threads_no, batch_size=32, gamma=0.7, tau=1e-3, lr=lr, update_every=1)\n",
    "agent = Agent(QNetworkTf, history_length, action_size=7, config=config)\n",
    "agent.set_epsilon(0.9, 0.001, EPISODE_COUNT-2)\n",
    "\n",
    "# Test the model\n",
    "hyperparams = {**config.__dict__, **sim_args}\n",
    "tags = [\"Rew: normalized speed\",\n",
    "        \"Final\",\n",
    "        f\"{Agent.NAME}\",\n",
    "        sim_args['scenario'],\n",
    "        f\"LR: {lr}\",\n",
    "        f\"Instances: {threads_no}\",\n",
    "        f\"Station count: {sim_args['nWifi']}\",\n",
    "        *[f\"{key}: {sim_args[key]}\" for key in list(sim_args)[:3]]]\n",
    "# # agent.save()\n",
    "logger = teacher.train(agent, EPISODE_COUNT,\n",
    "                        simTime=simTime,\n",
    "                        stepTime=stepTime,\n",
    "                        history_length=history_length,\n",
    "                        send_logs=True,\n",
    "                        experimental=True,\n",
    "                        tags=tags,\n",
    "                        parameters=hyperparams)\n",
    "logger = teacher.eval(agent,\n",
    "                        simTime=simTime,\n",
    "                        stepTime=stepTime,\n",
    "                        history_length=history_length,\n",
    "                        tags=tags,\n",
    "                        parameters=hyperparams)\n",
    "# agent.save()\n",
    "\n",
    "\n",
    "# %%"
   ]
  },
  {
   "cell_type": "code",
   "execution_count": null,
   "id": "ed51fa36",
   "metadata": {},
   "outputs": [],
   "source": []
  },
  {
   "cell_type": "markdown",
   "id": "8fa384cb",
   "metadata": {},
   "source": [
    "# Execution num3:"
   ]
  },
  {
   "cell_type": "code",
   "execution_count": 1,
   "id": "959d1d32",
   "metadata": {},
   "outputs": [
    {
     "name": "stderr",
     "output_type": "stream",
     "text": [
      "/home/sheila/anaconda3/envs/environment_py3_7/lib/python3.7/site-packages/tensorflow/python/framework/dtypes.py:516: FutureWarning: Passing (type, 1) or '1type' as a synonym of type is deprecated; in a future version of numpy, it will be understood as (type, (1,)) / '(1,)type'.\n",
      "  _np_qint8 = np.dtype([(\"qint8\", np.int8, 1)])\n",
      "/home/sheila/anaconda3/envs/environment_py3_7/lib/python3.7/site-packages/tensorflow/python/framework/dtypes.py:517: FutureWarning: Passing (type, 1) or '1type' as a synonym of type is deprecated; in a future version of numpy, it will be understood as (type, (1,)) / '(1,)type'.\n",
      "  _np_quint8 = np.dtype([(\"quint8\", np.uint8, 1)])\n",
      "/home/sheila/anaconda3/envs/environment_py3_7/lib/python3.7/site-packages/tensorflow/python/framework/dtypes.py:518: FutureWarning: Passing (type, 1) or '1type' as a synonym of type is deprecated; in a future version of numpy, it will be understood as (type, (1,)) / '(1,)type'.\n",
      "  _np_qint16 = np.dtype([(\"qint16\", np.int16, 1)])\n",
      "/home/sheila/anaconda3/envs/environment_py3_7/lib/python3.7/site-packages/tensorflow/python/framework/dtypes.py:519: FutureWarning: Passing (type, 1) or '1type' as a synonym of type is deprecated; in a future version of numpy, it will be understood as (type, (1,)) / '(1,)type'.\n",
      "  _np_quint16 = np.dtype([(\"quint16\", np.uint16, 1)])\n",
      "/home/sheila/anaconda3/envs/environment_py3_7/lib/python3.7/site-packages/tensorflow/python/framework/dtypes.py:520: FutureWarning: Passing (type, 1) or '1type' as a synonym of type is deprecated; in a future version of numpy, it will be understood as (type, (1,)) / '(1,)type'.\n",
      "  _np_qint32 = np.dtype([(\"qint32\", np.int32, 1)])\n",
      "/home/sheila/anaconda3/envs/environment_py3_7/lib/python3.7/site-packages/tensorflow/python/framework/dtypes.py:525: FutureWarning: Passing (type, 1) or '1type' as a synonym of type is deprecated; in a future version of numpy, it will be understood as (type, (1,)) / '(1,)type'.\n",
      "  np_resource = np.dtype([(\"resource\", np.ubyte, 1)])\n",
      "/home/sheila/anaconda3/envs/environment_py3_7/lib/python3.7/site-packages/tensorboard/compat/tensorflow_stub/dtypes.py:541: FutureWarning: Passing (type, 1) or '1type' as a synonym of type is deprecated; in a future version of numpy, it will be understood as (type, (1,)) / '(1,)type'.\n",
      "  _np_qint8 = np.dtype([(\"qint8\", np.int8, 1)])\n",
      "/home/sheila/anaconda3/envs/environment_py3_7/lib/python3.7/site-packages/tensorboard/compat/tensorflow_stub/dtypes.py:542: FutureWarning: Passing (type, 1) or '1type' as a synonym of type is deprecated; in a future version of numpy, it will be understood as (type, (1,)) / '(1,)type'.\n",
      "  _np_quint8 = np.dtype([(\"quint8\", np.uint8, 1)])\n",
      "/home/sheila/anaconda3/envs/environment_py3_7/lib/python3.7/site-packages/tensorboard/compat/tensorflow_stub/dtypes.py:543: FutureWarning: Passing (type, 1) or '1type' as a synonym of type is deprecated; in a future version of numpy, it will be understood as (type, (1,)) / '(1,)type'.\n",
      "  _np_qint16 = np.dtype([(\"qint16\", np.int16, 1)])\n",
      "/home/sheila/anaconda3/envs/environment_py3_7/lib/python3.7/site-packages/tensorboard/compat/tensorflow_stub/dtypes.py:544: FutureWarning: Passing (type, 1) or '1type' as a synonym of type is deprecated; in a future version of numpy, it will be understood as (type, (1,)) / '(1,)type'.\n",
      "  _np_quint16 = np.dtype([(\"quint16\", np.uint16, 1)])\n",
      "/home/sheila/anaconda3/envs/environment_py3_7/lib/python3.7/site-packages/tensorboard/compat/tensorflow_stub/dtypes.py:545: FutureWarning: Passing (type, 1) or '1type' as a synonym of type is deprecated; in a future version of numpy, it will be understood as (type, (1,)) / '(1,)type'.\n",
      "  _np_qint32 = np.dtype([(\"qint32\", np.int32, 1)])\n",
      "/home/sheila/anaconda3/envs/environment_py3_7/lib/python3.7/site-packages/tensorboard/compat/tensorflow_stub/dtypes.py:550: FutureWarning: Passing (type, 1) or '1type' as a synonym of type is deprecated; in a future version of numpy, it will be understood as (type, (1,)) / '(1,)type'.\n",
      "  np_resource = np.dtype([(\"resource\", np.ubyte, 1)])\n"
     ]
    }
   ],
   "source": [
    "#%%\n",
    "from ns3gym import ns3env\n",
    "from comet_ml import Experiment, Optimizer\n",
    "import tqdm\n",
    "import subprocess\n",
    "from collections import deque\n",
    "import numpy as np\n",
    "\n",
    "from agents.dqn.agent import Agent, Config\n",
    "from agents.dqn.model import QNetworkTf\n",
    "from agents.teacher import Teacher, EnvWrapper\n",
    "from preprocessor import Preprocessor"
   ]
  },
  {
   "cell_type": "code",
   "execution_count": 2,
   "id": "25a61065",
   "metadata": {},
   "outputs": [
    {
     "name": "stdout",
     "output_type": "stream",
     "text": [
      "Steps per episode: 6000\n",
      "Waiting for simulation script to connect on port: tcp://localhost:53490\n",
      "Please start proper ns-3 simulation script using ./waf --run \"...\"\n",
      "41.070007|0|5|-nan\n",
      "Observation space shape: (1, 300)\n",
      "Action space shape: (1, 1)\n"
     ]
    }
   ],
   "source": [
    "#%%\n",
    "scenario = \"convergence\"\n",
    "\n",
    "simTime = 60 # seconds\n",
    "stepTime = 0.01  # seconds\n",
    "history_length = 300\n",
    "\n",
    "EPISODE_COUNT = 15\n",
    "steps_per_ep = int(simTime/stepTime)\n",
    "\n",
    "sim_args = {\n",
    "    \"simTime\": simTime,\n",
    "    \"envStepTime\": stepTime,\n",
    "    \"historyLength\": history_length,\n",
    "    \"agentType\": Agent.TYPE,\n",
    "    \"scenario\": \"convergence\",\n",
    "    \"nWifi\": 15,\n",
    "}\n",
    "\n",
    "print(\"Steps per episode:\", steps_per_ep)\n",
    "\n",
    "threads_no = 1\n",
    "env = EnvWrapper(threads_no, **sim_args)\n",
    "\n",
    "#%%\n",
    "env.reset()\n",
    "ob_space = env.observation_space\n",
    "ac_space = env.action_space\n",
    "\n",
    "print(\"Observation space shape:\", ob_space)\n",
    "print(\"Action space shape:\", ac_space)\n",
    "\n",
    "assert ob_space is not None\n"
   ]
  },
  {
   "cell_type": "code",
   "execution_count": 3,
   "id": "de3f85c1",
   "metadata": {},
   "outputs": [
    {
     "name": "stdout",
     "output_type": "stream",
     "text": [
      "WARNING:tensorflow:From /home/sheila/repos/ns-3-allinone/ns-3.29/scratch/RLinWiFi-master-original-queue-level-mean/agents/dqn/agent.py:53: The name tf.Session is deprecated. Please use tf.compat.v1.Session instead.\n",
      "\n",
      "WARNING:tensorflow:From /home/sheila/repos/ns-3-allinone/ns-3.29/scratch/RLinWiFi-master-original-queue-level-mean/agents/dqn/model.py:25: The name tf.variable_scope is deprecated. Please use tf.compat.v1.variable_scope instead.\n",
      "\n",
      "WARNING:tensorflow:From /home/sheila/repos/ns-3-allinone/ns-3.29/scratch/RLinWiFi-master-original-queue-level-mean/agents/dqn/model.py:26: The name tf.placeholder is deprecated. Please use tf.compat.v1.placeholder instead.\n",
      "\n",
      "WARNING:tensorflow:\n",
      "The TensorFlow contrib module will not be included in TensorFlow 2.0.\n",
      "For more information, please see:\n",
      "  * https://github.com/tensorflow/community/blob/master/rfcs/20180907-contrib-sunset.md\n",
      "  * https://github.com/tensorflow/addons\n",
      "  * https://github.com/tensorflow/io (for I/O related ops)\n",
      "If you depend on functionality not listed there, please file an issue.\n",
      "\n",
      "WARNING:tensorflow:From /home/sheila/repos/ns-3-allinone/ns-3.29/scratch/RLinWiFi-master-original-queue-level-mean/agents/dqn/model.py:52: LSTMCell.__init__ (from tensorflow.python.ops.rnn_cell_impl) is deprecated and will be removed in a future version.\n",
      "Instructions for updating:\n",
      "This class is equivalent as tf.keras.layers.LSTMCell, and will be replaced by that in Tensorflow 2.0.\n",
      "WARNING:tensorflow:From /home/sheila/repos/ns-3-allinone/ns-3.29/scratch/RLinWiFi-master-original-queue-level-mean/agents/dqn/model.py:52: static_rnn (from tensorflow.python.ops.rnn) is deprecated and will be removed in a future version.\n",
      "Instructions for updating:\n",
      "Please use `keras.layers.RNN(cell, unroll=True)`, which is equivalent to this API\n",
      "WARNING:tensorflow:From /home/sheila/anaconda3/envs/environment_py3_7/lib/python3.7/site-packages/tensorflow/python/ops/init_ops.py:1251: calling VarianceScaling.__init__ (from tensorflow.python.ops.init_ops) with dtype is deprecated and will be removed in a future version.\n",
      "Instructions for updating:\n",
      "Call initializer instance with the dtype argument instead of passing it to the constructor\n",
      "WARNING:tensorflow:From /home/sheila/anaconda3/envs/environment_py3_7/lib/python3.7/site-packages/tensorflow/python/ops/rnn_cell_impl.py:961: calling Zeros.__init__ (from tensorflow.python.ops.init_ops) with dtype is deprecated and will be removed in a future version.\n",
      "Instructions for updating:\n",
      "Call initializer instance with the dtype argument instead of passing it to the constructor\n",
      "WARNING:tensorflow:Entity <bound method LSTMCell.call of <tensorflow.python.ops.rnn_cell_impl.LSTMCell object at 0x7f9c849c2ad0>> could not be transformed and will be executed as-is. Please report this to the AutgoGraph team. When filing the bug, set the verbosity to 10 (on Linux, `export AUTOGRAPH_VERBOSITY=10`) and attach the full output. Cause: converting <bound method LSTMCell.call of <tensorflow.python.ops.rnn_cell_impl.LSTMCell object at 0x7f9c849c2ad0>>: AttributeError: module 'gast' has no attribute 'Index'\n",
      "WARNING: Entity <bound method LSTMCell.call of <tensorflow.python.ops.rnn_cell_impl.LSTMCell object at 0x7f9c849c2ad0>> could not be transformed and will be executed as-is. Please report this to the AutgoGraph team. When filing the bug, set the verbosity to 10 (on Linux, `export AUTOGRAPH_VERBOSITY=10`) and attach the full output. Cause: converting <bound method LSTMCell.call of <tensorflow.python.ops.rnn_cell_impl.LSTMCell object at 0x7f9c849c2ad0>>: AttributeError: module 'gast' has no attribute 'Index'\n",
      "WARNING:tensorflow:Entity <bound method LSTMCell.call of <tensorflow.python.ops.rnn_cell_impl.LSTMCell object at 0x7f9c849c2ad0>> could not be transformed and will be executed as-is. Please report this to the AutgoGraph team. When filing the bug, set the verbosity to 10 (on Linux, `export AUTOGRAPH_VERBOSITY=10`) and attach the full output. Cause: converting <bound method LSTMCell.call of <tensorflow.python.ops.rnn_cell_impl.LSTMCell object at 0x7f9c849c2ad0>>: AttributeError: module 'gast' has no attribute 'Index'\n",
      "WARNING: Entity <bound method LSTMCell.call of <tensorflow.python.ops.rnn_cell_impl.LSTMCell object at 0x7f9c849c2ad0>> could not be transformed and will be executed as-is. Please report this to the AutgoGraph team. When filing the bug, set the verbosity to 10 (on Linux, `export AUTOGRAPH_VERBOSITY=10`) and attach the full output. Cause: converting <bound method LSTMCell.call of <tensorflow.python.ops.rnn_cell_impl.LSTMCell object at 0x7f9c849c2ad0>>: AttributeError: module 'gast' has no attribute 'Index'\n",
      "WARNING:tensorflow:Entity <bound method LSTMCell.call of <tensorflow.python.ops.rnn_cell_impl.LSTMCell object at 0x7f9c849c2ad0>> could not be transformed and will be executed as-is. Please report this to the AutgoGraph team. When filing the bug, set the verbosity to 10 (on Linux, `export AUTOGRAPH_VERBOSITY=10`) and attach the full output. Cause: converting <bound method LSTMCell.call of <tensorflow.python.ops.rnn_cell_impl.LSTMCell object at 0x7f9c849c2ad0>>: AttributeError: module 'gast' has no attribute 'Index'\n",
      "WARNING: Entity <bound method LSTMCell.call of <tensorflow.python.ops.rnn_cell_impl.LSTMCell object at 0x7f9c849c2ad0>> could not be transformed and will be executed as-is. Please report this to the AutgoGraph team. When filing the bug, set the verbosity to 10 (on Linux, `export AUTOGRAPH_VERBOSITY=10`) and attach the full output. Cause: converting <bound method LSTMCell.call of <tensorflow.python.ops.rnn_cell_impl.LSTMCell object at 0x7f9c849c2ad0>>: AttributeError: module 'gast' has no attribute 'Index'\n",
      "WARNING:tensorflow:Entity <bound method LSTMCell.call of <tensorflow.python.ops.rnn_cell_impl.LSTMCell object at 0x7f9c849c2ad0>> could not be transformed and will be executed as-is. Please report this to the AutgoGraph team. When filing the bug, set the verbosity to 10 (on Linux, `export AUTOGRAPH_VERBOSITY=10`) and attach the full output. Cause: converting <bound method LSTMCell.call of <tensorflow.python.ops.rnn_cell_impl.LSTMCell object at 0x7f9c849c2ad0>>: AttributeError: module 'gast' has no attribute 'Index'\n",
      "WARNING: Entity <bound method LSTMCell.call of <tensorflow.python.ops.rnn_cell_impl.LSTMCell object at 0x7f9c849c2ad0>> could not be transformed and will be executed as-is. Please report this to the AutgoGraph team. When filing the bug, set the verbosity to 10 (on Linux, `export AUTOGRAPH_VERBOSITY=10`) and attach the full output. Cause: converting <bound method LSTMCell.call of <tensorflow.python.ops.rnn_cell_impl.LSTMCell object at 0x7f9c849c2ad0>>: AttributeError: module 'gast' has no attribute 'Index'\n",
      "WARNING:tensorflow:From /home/sheila/repos/ns-3-allinone/ns-3.29/scratch/RLinWiFi-master-original-queue-level-mean/agents/dqn/model.py:53: dense (from tensorflow.python.layers.core) is deprecated and will be removed in a future version.\n",
      "Instructions for updating:\n",
      "Use keras.layers.dense instead.\n",
      "WARNING:tensorflow:Entity <bound method Dense.call of <tensorflow.python.layers.core.Dense object at 0x7f9c709d7710>> could not be transformed and will be executed as-is. Please report this to the AutgoGraph team. When filing the bug, set the verbosity to 10 (on Linux, `export AUTOGRAPH_VERBOSITY=10`) and attach the full output. Cause: converting <bound method Dense.call of <tensorflow.python.layers.core.Dense object at 0x7f9c709d7710>>: AttributeError: module 'gast' has no attribute 'Index'\n",
      "WARNING: Entity <bound method Dense.call of <tensorflow.python.layers.core.Dense object at 0x7f9c709d7710>> could not be transformed and will be executed as-is. Please report this to the AutgoGraph team. When filing the bug, set the verbosity to 10 (on Linux, `export AUTOGRAPH_VERBOSITY=10`) and attach the full output. Cause: converting <bound method Dense.call of <tensorflow.python.layers.core.Dense object at 0x7f9c709d7710>>: AttributeError: module 'gast' has no attribute 'Index'\n",
      "WARNING:tensorflow:Entity <bound method Dense.call of <tensorflow.python.layers.core.Dense object at 0x7f9c709d7710>> could not be transformed and will be executed as-is. Please report this to the AutgoGraph team. When filing the bug, set the verbosity to 10 (on Linux, `export AUTOGRAPH_VERBOSITY=10`) and attach the full output. Cause: converting <bound method Dense.call of <tensorflow.python.layers.core.Dense object at 0x7f9c709d7710>>: AttributeError: module 'gast' has no attribute 'Index'\n"
     ]
    },
    {
     "name": "stdout",
     "output_type": "stream",
     "text": [
      "WARNING: Entity <bound method Dense.call of <tensorflow.python.layers.core.Dense object at 0x7f9c709d7710>> could not be transformed and will be executed as-is. Please report this to the AutgoGraph team. When filing the bug, set the verbosity to 10 (on Linux, `export AUTOGRAPH_VERBOSITY=10`) and attach the full output. Cause: converting <bound method Dense.call of <tensorflow.python.layers.core.Dense object at 0x7f9c709d7710>>: AttributeError: module 'gast' has no attribute 'Index'\n",
      "WARNING:tensorflow:Entity <bound method Dense.call of <tensorflow.python.layers.core.Dense object at 0x7f9c709d7710>> could not be transformed and will be executed as-is. Please report this to the AutgoGraph team. When filing the bug, set the verbosity to 10 (on Linux, `export AUTOGRAPH_VERBOSITY=10`) and attach the full output. Cause: converting <bound method Dense.call of <tensorflow.python.layers.core.Dense object at 0x7f9c709d7710>>: AttributeError: module 'gast' has no attribute 'Index'\n",
      "WARNING: Entity <bound method Dense.call of <tensorflow.python.layers.core.Dense object at 0x7f9c709d7710>> could not be transformed and will be executed as-is. Please report this to the AutgoGraph team. When filing the bug, set the verbosity to 10 (on Linux, `export AUTOGRAPH_VERBOSITY=10`) and attach the full output. Cause: converting <bound method Dense.call of <tensorflow.python.layers.core.Dense object at 0x7f9c709d7710>>: AttributeError: module 'gast' has no attribute 'Index'\n",
      "WARNING:tensorflow:From /home/sheila/repos/ns-3-allinone/ns-3.29/scratch/RLinWiFi-master-original-queue-level-mean/agents/dqn/model.py:69: The name tf.losses.mean_squared_error is deprecated. Please use tf.compat.v1.losses.mean_squared_error instead.\n",
      "\n",
      "WARNING:tensorflow:From /home/sheila/anaconda3/envs/environment_py3_7/lib/python3.7/site-packages/tensorflow/python/ops/losses/losses_impl.py:121: add_dispatch_support.<locals>.wrapper (from tensorflow.python.ops.array_ops) is deprecated and will be removed in a future version.\n",
      "Instructions for updating:\n",
      "Use tf.where in 2.0, which has the same broadcast rule as np.where\n",
      "WARNING:tensorflow:From /home/sheila/repos/ns-3-allinone/ns-3.29/scratch/RLinWiFi-master-original-queue-level-mean/agents/dqn/model.py:77: The name tf.train.AdamOptimizer is deprecated. Please use tf.compat.v1.train.AdamOptimizer instead.\n",
      "\n",
      "WARNING:tensorflow:From /home/sheila/repos/ns-3-allinone/ns-3.29/scratch/RLinWiFi-master-original-queue-level-mean/agents/dqn/model.py:33: The name tf.global_variables_initializer is deprecated. Please use tf.compat.v1.global_variables_initializer instead.\n",
      "\n",
      "WARNING:tensorflow:From /home/sheila/repos/ns-3-allinone/ns-3.29/scratch/RLinWiFi-master-original-queue-level-mean/agents/dqn/model.py:34: The name tf.local_variables_initializer is deprecated. Please use tf.compat.v1.local_variables_initializer instead.\n",
      "\n",
      "WARNING:tensorflow:Entity <bound method LSTMCell.call of <tensorflow.python.ops.rnn_cell_impl.LSTMCell object at 0x7f9c6d675990>> could not be transformed and will be executed as-is. Please report this to the AutgoGraph team. When filing the bug, set the verbosity to 10 (on Linux, `export AUTOGRAPH_VERBOSITY=10`) and attach the full output. Cause: converting <bound method LSTMCell.call of <tensorflow.python.ops.rnn_cell_impl.LSTMCell object at 0x7f9c6d675990>>: AttributeError: module 'gast' has no attribute 'Index'\n",
      "WARNING: Entity <bound method LSTMCell.call of <tensorflow.python.ops.rnn_cell_impl.LSTMCell object at 0x7f9c6d675990>> could not be transformed and will be executed as-is. Please report this to the AutgoGraph team. When filing the bug, set the verbosity to 10 (on Linux, `export AUTOGRAPH_VERBOSITY=10`) and attach the full output. Cause: converting <bound method LSTMCell.call of <tensorflow.python.ops.rnn_cell_impl.LSTMCell object at 0x7f9c6d675990>>: AttributeError: module 'gast' has no attribute 'Index'\n",
      "WARNING:tensorflow:Entity <bound method LSTMCell.call of <tensorflow.python.ops.rnn_cell_impl.LSTMCell object at 0x7f9c6d675990>> could not be transformed and will be executed as-is. Please report this to the AutgoGraph team. When filing the bug, set the verbosity to 10 (on Linux, `export AUTOGRAPH_VERBOSITY=10`) and attach the full output. Cause: converting <bound method LSTMCell.call of <tensorflow.python.ops.rnn_cell_impl.LSTMCell object at 0x7f9c6d675990>>: AttributeError: module 'gast' has no attribute 'Index'\n",
      "WARNING: Entity <bound method LSTMCell.call of <tensorflow.python.ops.rnn_cell_impl.LSTMCell object at 0x7f9c6d675990>> could not be transformed and will be executed as-is. Please report this to the AutgoGraph team. When filing the bug, set the verbosity to 10 (on Linux, `export AUTOGRAPH_VERBOSITY=10`) and attach the full output. Cause: converting <bound method LSTMCell.call of <tensorflow.python.ops.rnn_cell_impl.LSTMCell object at 0x7f9c6d675990>>: AttributeError: module 'gast' has no attribute 'Index'\n",
      "WARNING:tensorflow:Entity <bound method LSTMCell.call of <tensorflow.python.ops.rnn_cell_impl.LSTMCell object at 0x7f9c6d675990>> could not be transformed and will be executed as-is. Please report this to the AutgoGraph team. When filing the bug, set the verbosity to 10 (on Linux, `export AUTOGRAPH_VERBOSITY=10`) and attach the full output. Cause: converting <bound method LSTMCell.call of <tensorflow.python.ops.rnn_cell_impl.LSTMCell object at 0x7f9c6d675990>>: AttributeError: module 'gast' has no attribute 'Index'\n",
      "WARNING: Entity <bound method LSTMCell.call of <tensorflow.python.ops.rnn_cell_impl.LSTMCell object at 0x7f9c6d675990>> could not be transformed and will be executed as-is. Please report this to the AutgoGraph team. When filing the bug, set the verbosity to 10 (on Linux, `export AUTOGRAPH_VERBOSITY=10`) and attach the full output. Cause: converting <bound method LSTMCell.call of <tensorflow.python.ops.rnn_cell_impl.LSTMCell object at 0x7f9c6d675990>>: AttributeError: module 'gast' has no attribute 'Index'\n",
      "WARNING:tensorflow:Entity <bound method LSTMCell.call of <tensorflow.python.ops.rnn_cell_impl.LSTMCell object at 0x7f9c6d675990>> could not be transformed and will be executed as-is. Please report this to the AutgoGraph team. When filing the bug, set the verbosity to 10 (on Linux, `export AUTOGRAPH_VERBOSITY=10`) and attach the full output. Cause: converting <bound method LSTMCell.call of <tensorflow.python.ops.rnn_cell_impl.LSTMCell object at 0x7f9c6d675990>>: AttributeError: module 'gast' has no attribute 'Index'\n",
      "WARNING: Entity <bound method LSTMCell.call of <tensorflow.python.ops.rnn_cell_impl.LSTMCell object at 0x7f9c6d675990>> could not be transformed and will be executed as-is. Please report this to the AutgoGraph team. When filing the bug, set the verbosity to 10 (on Linux, `export AUTOGRAPH_VERBOSITY=10`) and attach the full output. Cause: converting <bound method LSTMCell.call of <tensorflow.python.ops.rnn_cell_impl.LSTMCell object at 0x7f9c6d675990>>: AttributeError: module 'gast' has no attribute 'Index'\n",
      "WARNING:tensorflow:Entity <bound method Dense.call of <tensorflow.python.layers.core.Dense object at 0x7f9c6d675990>> could not be transformed and will be executed as-is. Please report this to the AutgoGraph team. When filing the bug, set the verbosity to 10 (on Linux, `export AUTOGRAPH_VERBOSITY=10`) and attach the full output. Cause: converting <bound method Dense.call of <tensorflow.python.layers.core.Dense object at 0x7f9c6d675990>>: AttributeError: module 'gast' has no attribute 'Index'\n",
      "WARNING: Entity <bound method Dense.call of <tensorflow.python.layers.core.Dense object at 0x7f9c6d675990>> could not be transformed and will be executed as-is. Please report this to the AutgoGraph team. When filing the bug, set the verbosity to 10 (on Linux, `export AUTOGRAPH_VERBOSITY=10`) and attach the full output. Cause: converting <bound method Dense.call of <tensorflow.python.layers.core.Dense object at 0x7f9c6d675990>>: AttributeError: module 'gast' has no attribute 'Index'\n",
      "WARNING:tensorflow:Entity <bound method Dense.call of <tensorflow.python.layers.core.Dense object at 0x7f9c6d675990>> could not be transformed and will be executed as-is. Please report this to the AutgoGraph team. When filing the bug, set the verbosity to 10 (on Linux, `export AUTOGRAPH_VERBOSITY=10`) and attach the full output. Cause: converting <bound method Dense.call of <tensorflow.python.layers.core.Dense object at 0x7f9c6d675990>>: AttributeError: module 'gast' has no attribute 'Index'\n"
     ]
    },
    {
     "name": "stdout",
     "output_type": "stream",
     "text": [
      "WARNING: Entity <bound method Dense.call of <tensorflow.python.layers.core.Dense object at 0x7f9c6d675990>> could not be transformed and will be executed as-is. Please report this to the AutgoGraph team. When filing the bug, set the verbosity to 10 (on Linux, `export AUTOGRAPH_VERBOSITY=10`) and attach the full output. Cause: converting <bound method Dense.call of <tensorflow.python.layers.core.Dense object at 0x7f9c6d675990>>: AttributeError: module 'gast' has no attribute 'Index'\n",
      "WARNING:tensorflow:Entity <bound method Dense.call of <tensorflow.python.layers.core.Dense object at 0x7f9c6d675990>> could not be transformed and will be executed as-is. Please report this to the AutgoGraph team. When filing the bug, set the verbosity to 10 (on Linux, `export AUTOGRAPH_VERBOSITY=10`) and attach the full output. Cause: converting <bound method Dense.call of <tensorflow.python.layers.core.Dense object at 0x7f9c6d675990>>: AttributeError: module 'gast' has no attribute 'Index'\n",
      "WARNING: Entity <bound method Dense.call of <tensorflow.python.layers.core.Dense object at 0x7f9c6d675990>> could not be transformed and will be executed as-is. Please report this to the AutgoGraph team. When filing the bug, set the verbosity to 10 (on Linux, `export AUTOGRAPH_VERBOSITY=10`) and attach the full output. Cause: converting <bound method Dense.call of <tensorflow.python.layers.core.Dense object at 0x7f9c6d675990>>: AttributeError: module 'gast' has no attribute 'Index'\n",
      "WARNING:tensorflow:From /home/sheila/repos/ns-3-allinone/ns-3.29/scratch/RLinWiFi-master-original-queue-level-mean/agents/dqn/agent.py:77: The name tf.train.Saver is deprecated. Please use tf.compat.v1.train.Saver instead.\n",
      "\n",
      "Action space: 7\n",
      "WARNING:tensorflow:From /home/sheila/repos/ns-3-allinone/ns-3.29/scratch/RLinWiFi-master-original-queue-level-mean/agents/dqn/agent.py:107: Variable.load (from tensorflow.python.ops.variables) is deprecated and will be removed in a future version.\n",
      "Instructions for updating:\n",
      "Prefer Variable.assign which has equivalent behavior in 2.X.\n"
     ]
    },
    {
     "name": "stderr",
     "output_type": "stream",
     "text": [
      "COMET INFO: Experiment is live on comet.ml https://www.comet.com/sheila-janota/rl-in-wifi-with-queue-level/5f5bc6f0e95a433e980a0de9ff710390\n",
      "\n"
     ]
    },
    {
     "name": "stdout",
     "output_type": "stream",
     "text": [
      "0\n",
      "41.070007|0|5|-nan\n"
     ]
    },
    {
     "name": "stderr",
     "output_type": "stream",
     "text": [
      "  5%|▌         | 333/6300 [01:03<27:57,  3.56it/s, curr_speed=26.35 Mbps, mb_sent=8.43 Mb]"
     ]
    },
    {
     "name": "stdout",
     "output_type": "stream",
     "text": [
      "------- STARTED TRAINING -------\n"
     ]
    },
    {
     "name": "stderr",
     "output_type": "stream",
     "text": [
      " 20%|█▉        | 1245/6300 [08:36<56:49,  1.48it/s, curr_speed=30.10 Mbps, mb_sent=274.59 Mb]  COMET ERROR: File could not be uploaded\n",
      " 20%|█▉        | 1246/6300 [08:37<55:44,  1.51it/s, curr_speed=30.20 Mbps, mb_sent=274.92 Mb]COMET ERROR: File could not be uploaded\n",
      " 20%|█▉        | 1247/6300 [08:37<57:35,  1.46it/s, curr_speed=30.35 Mbps, mb_sent=275.32 Mb]COMET ERROR: File could not be uploaded\n",
      " 20%|█▉        | 1251/6300 [08:40<57:21,  1.47it/s, curr_speed=29.95 Mbps, mb_sent=276.12 Mb]COMET ERROR: File could not be uploaded\n",
      " 20%|█▉        | 1252/6300 [08:41<54:27,  1.54it/s, curr_speed=29.88 Mbps, mb_sent=276.32 Mb]COMET ERROR: File could not be uploaded\n",
      " 20%|█▉        | 1253/6300 [08:41<54:21,  1.55it/s, curr_speed=29.91 Mbps, mb_sent=276.71 Mb]COMET ERROR: File could not be uploaded\n",
      " 20%|█▉        | 1254/6300 [08:42<56:17,  1.49it/s, curr_speed=29.99 Mbps, mb_sent=277.10 Mb]COMET ERROR: File could not be uploaded\n",
      "100%|██████████| 6300/6300 [1:18:28<00:00,  1.34it/s, curr_speed=30.38 Mbps, mb_sent=1863.33 Mb]\n"
     ]
    },
    {
     "name": "stdout",
     "output_type": "stream",
     "text": [
      "Waiting for simulation script to connect on port: tcp://localhost:17472\n",
      "Please start proper ns-3 simulation script using ./waf --run \"...\"\n",
      "Sent 1863.33 Mb/s.\tMean speed: 31.06 Mb/s\tEpisode 1/15 finished\n",
      "\n",
      "1\n",
      "41.070007|0|5|-nan\n"
     ]
    },
    {
     "name": "stderr",
     "output_type": "stream",
     "text": [
      " 48%|████▊     | 3046/6300 [32:00<43:45,  1.24it/s, curr_speed=30.94 Mbps, mb_sent=897.49 Mb] COMET ERROR: File could not be uploaded\n",
      "100%|██████████| 6300/6300 [1:21:34<00:00,  1.29it/s, curr_speed=39.44 Mbps, mb_sent=2014.50 Mb]\n"
     ]
    },
    {
     "name": "stdout",
     "output_type": "stream",
     "text": [
      "Waiting for simulation script to connect on port: tcp://localhost:46296\n",
      "Please start proper ns-3 simulation script using ./waf --run \"...\"\n",
      "Sent 2014.50 Mb/s.\tMean speed: 33.57 Mb/s\tEpisode 2/15 finished\n",
      "\n",
      "2\n",
      "41.070007|0|5|-nan\n"
     ]
    },
    {
     "name": "stderr",
     "output_type": "stream",
     "text": [
      "100%|██████████| 6300/6300 [1:24:12<00:00,  1.25it/s, curr_speed=55.57 Mbps, mb_sent=2129.70 Mb]\n"
     ]
    },
    {
     "name": "stdout",
     "output_type": "stream",
     "text": [
      "Waiting for simulation script to connect on port: tcp://localhost:42578\n",
      "Please start proper ns-3 simulation script using ./waf --run \"...\"\n",
      "Sent 2129.70 Mb/s.\tMean speed: 35.49 Mb/s\tEpisode 3/15 finished\n",
      "\n",
      "3\n",
      "41.070007|0|5|-nan\n"
     ]
    },
    {
     "name": "stderr",
     "output_type": "stream",
     "text": [
      "  5%|▍         | 304/6300 [02:39<55:50,  1.79it/s, curr_speed=40.95 Mbps, mb_sent=1.23 Mb] "
     ]
    },
    {
     "name": "stdout",
     "output_type": "stream",
     "text": [
      "------- MEMORY BUFFER FILLED -------\n"
     ]
    },
    {
     "name": "stderr",
     "output_type": "stream",
     "text": [
      " 34%|███▍      | 2165/6300 [22:24<44:41,  1.54it/s, curr_speed=35.93 Mbps, mb_sent=676.92 Mb]  COMET ERROR: File could not be uploaded\n",
      " 34%|███▍      | 2169/6300 [22:27<51:06,  1.35it/s, curr_speed=35.89 Mbps, mb_sent=678.39 Mb]COMET ERROR: File could not be uploaded\n",
      " 34%|███▍      | 2172/6300 [22:31<1:04:36,  1.06it/s, curr_speed=35.90 Mbps, mb_sent=679.56 Mb]COMET ERROR: File could not be uploaded\n",
      " 35%|███▍      | 2179/6300 [22:36<49:55,  1.38it/s, curr_speed=35.87 Mbps, mb_sent=682.06 Mb]  COMET ERROR: File could not be uploaded\n",
      " 35%|███▍      | 2186/6300 [22:41<46:10,  1.49it/s, curr_speed=36.02 Mbps, mb_sent=684.68 Mb]COMET ERROR: File could not be uploaded\n",
      " 35%|███▍      | 2194/6300 [22:46<46:22,  1.48it/s, curr_speed=36.21 Mbps, mb_sent=687.59 Mb]COMET ERROR: File could not be uploaded\n",
      " 35%|███▌      | 2208/6300 [22:57<45:47,  1.49it/s, curr_speed=35.84 Mbps, mb_sent=692.29 Mb]  COMET ERROR: File could not be uploaded\n",
      " 35%|███▌      | 2209/6300 [22:57<46:59,  1.45it/s, curr_speed=35.85 Mbps, mb_sent=692.66 Mb]COMET ERROR: File could not be uploaded\n",
      "COMET ERROR: File could not be uploaded\n",
      "COMET ERROR: File could not be uploaded\n",
      " 35%|███▌      | 2217/6300 [23:04<48:57,  1.39it/s, curr_speed=35.89 Mbps, mb_sent=695.76 Mb]COMET ERROR: File could not be uploaded\n",
      " 35%|███▌      | 2218/6300 [23:04<48:29,  1.40it/s, curr_speed=35.87 Mbps, mb_sent=696.12 Mb]COMET ERROR: File could not be uploaded\n",
      " 36%|███▌      | 2238/6300 [23:19<48:33,  1.39it/s, curr_speed=35.72 Mbps, mb_sent=703.54 Mb]COMET ERROR: File could not be uploaded\n",
      " 36%|███▌      | 2239/6300 [23:20<50:20,  1.34it/s, curr_speed=35.91 Mbps, mb_sent=703.95 Mb]COMET ERROR: File could not be uploaded\n",
      " 36%|███▌      | 2243/6300 [23:23<50:01,  1.35it/s, curr_speed=36.38 Mbps, mb_sent=705.53 Mb]COMET ERROR: File could not be uploaded\n",
      " 36%|███▌      | 2245/6300 [23:24<49:15,  1.37it/s, curr_speed=36.35 Mbps, mb_sent=706.20 Mb]COMET ERROR: File could not be uploaded\n",
      " 36%|███▌      | 2253/6300 [23:31<52:23,  1.29it/s, curr_speed=36.33 Mbps, mb_sent=709.10 Mb]COMET ERROR: File could not be uploaded\n",
      " 36%|███▌      | 2255/6300 [23:32<52:55,  1.27it/s, curr_speed=36.37 Mbps, mb_sent=709.88 Mb]COMET ERROR: File could not be uploaded\n",
      " 36%|███▌      | 2257/6300 [23:34<52:24,  1.29it/s, curr_speed=36.45 Mbps, mb_sent=710.68 Mb]COMET ERROR: File could not be uploaded\n",
      " 36%|███▌      | 2273/6300 [23:45<47:10,  1.42it/s, curr_speed=36.78 Mbps, mb_sent=716.71 Mb]COMET ERROR: File could not be uploaded\n",
      "COMET ERROR: File could not be uploaded\n",
      "COMET ERROR: File could not be uploaded\n",
      " 36%|███▌      | 2276/6300 [23:48<54:11,  1.24it/s, curr_speed=36.94 Mbps, mb_sent=717.83 Mb]COMET ERROR: File could not be uploaded\n",
      " 36%|███▌      | 2277/6300 [23:49<54:27,  1.23it/s, curr_speed=36.91 Mbps, mb_sent=718.18 Mb]COMET ERROR: File could not be uploaded\n",
      " 36%|███▌      | 2279/6300 [23:50<50:24,  1.33it/s, curr_speed=36.90 Mbps, mb_sent=718.97 Mb]COMET ERROR: File could not be uploaded\n",
      " 36%|███▋      | 2286/6300 [23:55<42:43,  1.57it/s, curr_speed=36.78 Mbps, mb_sent=721.46 Mb]COMET ERROR: File could not be uploaded\n",
      " 36%|███▋      | 2293/6300 [23:59<47:31,  1.41it/s, curr_speed=36.69 Mbps, mb_sent=723.89 Mb]COMET ERROR: File could not be uploaded\n",
      " 36%|███▋      | 2299/6300 [24:05<53:57,  1.24it/s, curr_speed=36.58 Mbps, mb_sent=726.10 Mb]  COMET ERROR: File could not be uploaded\n",
      " 37%|███▋      | 2304/6300 [24:09<50:38,  1.31it/s, curr_speed=37.12 Mbps, mb_sent=728.14 Mb]COMET ERROR: File could not be uploaded\n",
      " 37%|███▋      | 2315/6300 [24:17<45:13,  1.47it/s, curr_speed=36.48 Mbps, mb_sent=731.48 Mb]COMET ERROR: File could not be uploaded\n",
      " 37%|███▋      | 2316/6300 [24:17<47:26,  1.40it/s, curr_speed=36.47 Mbps, mb_sent=731.84 Mb]COMET ERROR: File could not be uploaded\n",
      " 37%|███▋      | 2317/6300 [24:18<49:10,  1.35it/s, curr_speed=36.47 Mbps, mb_sent=732.22 Mb]COMET ERROR: File could not be uploaded\n",
      " 37%|███▋      | 2334/6300 [24:31<50:50,  1.30it/s, curr_speed=36.11 Mbps, mb_sent=738.24 Mb]COMET ERROR: File could not be uploaded\n",
      " 37%|███▋      | 2344/6300 [24:39<48:49,  1.35it/s, curr_speed=36.11 Mbps, mb_sent=742.05 Mb]COMET ERROR: File could not be uploaded\n",
      " 37%|███▋      | 2349/6300 [24:42<49:12,  1.34it/s, curr_speed=36.30 Mbps, mb_sent=743.98 Mb]COMET ERROR: File could not be uploaded\n",
      " 37%|███▋      | 2356/6300 [24:48<48:34,  1.35it/s, curr_speed=36.22 Mbps, mb_sent=746.51 Mb]COMET ERROR: File could not be uploaded\n",
      " 37%|███▋      | 2361/6300 [24:52<49:55,  1.31it/s, curr_speed=36.20 Mbps, mb_sent=748.40 Mb]COMET ERROR: File could not be uploaded\n",
      " 38%|███▊      | 2363/6300 [24:53<50:02,  1.31it/s, curr_speed=36.12 Mbps, mb_sent=749.11 Mb]COMET ERROR: File could not be uploaded\n",
      " 38%|███▊      | 2364/6300 [24:54<52:29,  1.25it/s, curr_speed=36.17 Mbps, mb_sent=749.50 Mb]COMET ERROR: File could not be uploaded\n",
      " 38%|███▊      | 2369/6300 [24:58<49:05,  1.33it/s, curr_speed=36.21 Mbps, mb_sent=751.40 Mb]COMET ERROR: File could not be uploaded\n",
      " 38%|███▊      | 2382/6300 [25:07<47:12,  1.38it/s, curr_speed=35.83 Mbps, mb_sent=755.98 Mb]COMET ERROR: File could not be uploaded\n",
      " 38%|███▊      | 2387/6300 [25:11<50:01,  1.30it/s, curr_speed=36.03 Mbps, mb_sent=757.87 Mb]COMET ERROR: File could not be uploaded\n",
      " 38%|███▊      | 2389/6300 [25:13<48:49,  1.34it/s, curr_speed=36.07 Mbps, mb_sent=758.67 Mb]COMET ERROR: File could not be uploaded\n",
      " 38%|███▊      | 2390/6300 [25:13<49:45,  1.31it/s, curr_speed=36.04 Mbps, mb_sent=759.05 Mb]COMET ERROR: File could not be uploaded\n",
      " 38%|███▊      | 2397/6300 [25:19<47:33,  1.37it/s, curr_speed=36.08 Mbps, mb_sent=761.44 Mb]COMET ERROR: File could not be uploaded\n",
      " 38%|███▊      | 2399/6300 [25:20<44:20,  1.47it/s, curr_speed=35.73 Mbps, mb_sent=761.83 Mb]COMET ERROR: File could not be uploaded\n",
      " 38%|███▊      | 2404/6300 [25:25<1:05:12,  1.00s/it, curr_speed=35.65 Mbps, mb_sent=763.79 Mb]COMET ERROR: File could not be uploaded\n",
      " 38%|███▊      | 2407/6300 [25:27<59:03,  1.10it/s, curr_speed=35.93 Mbps, mb_sent=764.94 Mb]  COMET ERROR: File could not be uploaded\n",
      " 38%|███▊      | 2412/6300 [25:31<52:48,  1.23it/s, curr_speed=36.02 Mbps, mb_sent=766.65 Mb]COMET ERROR: File could not be uploaded\n",
      " 38%|███▊      | 2422/6300 [25:39<50:11,  1.29it/s, curr_speed=36.32 Mbps, mb_sent=770.07 Mb]COMET ERROR: File could not be uploaded\n",
      " 38%|███▊      | 2424/6300 [25:41<52:29,  1.23it/s, curr_speed=36.26 Mbps, mb_sent=770.77 Mb]COMET ERROR: File could not be uploaded\n",
      " 39%|███▊      | 2440/6300 [25:52<47:34,  1.35it/s, curr_speed=35.78 Mbps, mb_sent=776.34 Mb]COMET ERROR: File could not be uploaded\n",
      "COMET ERROR: File could not be uploaded\n",
      "COMET ERROR: File could not be uploaded\n",
      "COMET ERROR: File could not be uploaded\n",
      " 39%|███▊      | 2441/6300 [25:54<1:04:14,  1.00it/s, curr_speed=35.76 Mbps, mb_sent=776.73 Mb]COMET ERROR: File could not be uploaded\n",
      " 39%|███▉      | 2444/6300 [25:57<1:03:14,  1.02it/s, curr_speed=35.92 Mbps, mb_sent=777.97 Mb]COMET ERROR: File could not be uploaded\n",
      " 39%|███▉      | 2447/6300 [26:00<56:29,  1.14it/s, curr_speed=35.87 Mbps, mb_sent=779.09 Mb]  COMET ERROR: File could not be uploaded\n",
      " 39%|███▉      | 2450/6300 [26:02<47:43,  1.34it/s, curr_speed=35.46 Mbps, mb_sent=779.75 Mb]COMET ERROR: File could not be uploaded\n",
      " 39%|███▉      | 2451/6300 [26:03<49:25,  1.30it/s, curr_speed=35.46 Mbps, mb_sent=780.11 Mb]COMET ERROR: File could not be uploaded\n",
      " 46%|████▋     | 2924/6300 [32:03<38:46,  1.45it/s, curr_speed=37.16 Mbps, mb_sent=954.03 Mb]COMET ERROR: File could not be uploaded\n",
      "COMET ERROR: File could not be uploaded\n",
      " 46%|████▋     | 2925/6300 [32:04<42:38,  1.32it/s, curr_speed=37.26 Mbps, mb_sent=954.45 Mb]COMET ERROR: File could not be uploaded\n",
      " 46%|████▋     | 2929/6300 [32:07<45:57,  1.22it/s, curr_speed=37.21 Mbps, mb_sent=955.98 Mb]COMET ERROR: File could not be uploaded\n",
      " 47%|████▋     | 2936/6300 [32:13<46:48,  1.20it/s, curr_speed=36.86 Mbps, mb_sent=958.40 Mb]COMET ERROR: File could not be uploaded\n",
      " 55%|█████▍    | 3460/6300 [39:22<38:32,  1.23it/s, curr_speed=36.79 Mbps, mb_sent=1151.12 Mb]COMET ERROR: File could not be uploaded\n",
      " 55%|█████▌    | 3481/6300 [39:40<40:57,  1.15it/s, curr_speed=37.06 Mbps, mb_sent=1159.11 Mb]COMET ERROR: File could not be uploaded\n",
      "COMET ERROR: File could not be uploaded\n"
     ]
    },
    {
     "name": "stderr",
     "output_type": "stream",
     "text": [
      " 55%|█████▌    | 3483/6300 [39:42<40:34,  1.16it/s, curr_speed=37.06 Mbps, mb_sent=1159.80 Mb]COMET ERROR: File could not be uploaded\n",
      " 56%|█████▌    | 3507/6300 [40:04<41:08,  1.13it/s, curr_speed=36.74 Mbps, mb_sent=1168.56 Mb]COMET ERROR: File could not be uploaded\n",
      " 58%|█████▊    | 3669/6300 [42:40<38:59,  1.12it/s, curr_speed=37.24 Mbps, mb_sent=1228.39 Mb]COMET ERROR: File could not be uploaded\n",
      " 58%|█████▊    | 3670/6300 [42:41<39:43,  1.10it/s, curr_speed=37.32 Mbps, mb_sent=1228.82 Mb]COMET ERROR: File could not be uploaded\n",
      " 58%|█████▊    | 3671/6300 [42:42<41:09,  1.06it/s, curr_speed=37.37 Mbps, mb_sent=1229.22 Mb]COMET ERROR: File could not be uploaded\n",
      " 58%|█████▊    | 3672/6300 [42:43<40:51,  1.07it/s, curr_speed=37.34 Mbps, mb_sent=1229.60 Mb]COMET ERROR: File could not be uploaded\n",
      " 58%|█████▊    | 3673/6300 [42:44<42:01,  1.04it/s, curr_speed=37.34 Mbps, mb_sent=1229.98 Mb]COMET ERROR: File could not be uploaded\n",
      " 58%|█████▊    | 3676/6300 [42:47<41:25,  1.06it/s, curr_speed=37.42 Mbps, mb_sent=1231.07 Mb]COMET ERROR: File could not be uploaded\n",
      " 58%|█████▊    | 3683/6300 [42:53<37:41,  1.16it/s, curr_speed=37.42 Mbps, mb_sent=1233.74 Mb]COMET ERROR: File could not be uploaded\n",
      " 59%|█████▊    | 3691/6300 [43:00<37:17,  1.17it/s, curr_speed=36.89 Mbps, mb_sent=1236.19 Mb]COMET ERROR: File could not be uploaded\n",
      " 59%|█████▉    | 3704/6300 [43:12<39:16,  1.10it/s, curr_speed=36.96 Mbps, mb_sent=1241.09 Mb]COMET ERROR: File could not be uploaded\n",
      " 59%|█████▉    | 3705/6300 [43:13<39:41,  1.09it/s, curr_speed=36.98 Mbps, mb_sent=1241.49 Mb]COMET ERROR: File could not be uploaded\n",
      " 59%|█████▉    | 3706/6300 [43:13<39:39,  1.09it/s, curr_speed=36.95 Mbps, mb_sent=1241.88 Mb]COMET ERROR: File could not be uploaded\n",
      " 59%|█████▉    | 3708/6300 [43:15<40:48,  1.06it/s, curr_speed=37.06 Mbps, mb_sent=1242.70 Mb]COMET ERROR: File could not be uploaded\n",
      " 59%|█████▉    | 3710/6300 [43:17<42:16,  1.02it/s, curr_speed=37.05 Mbps, mb_sent=1243.47 Mb]COMET ERROR: File could not be uploaded\n",
      " 59%|█████▉    | 3711/6300 [43:18<41:23,  1.04it/s, curr_speed=36.98 Mbps, mb_sent=1243.77 Mb]COMET ERROR: File could not be uploaded\n",
      " 59%|█████▉    | 3714/6300 [43:21<39:23,  1.09it/s, curr_speed=36.96 Mbps, mb_sent=1244.81 Mb]COMET ERROR: File could not be uploaded\n",
      " 59%|█████▉    | 3716/6300 [43:23<37:30,  1.15it/s, curr_speed=37.03 Mbps, mb_sent=1245.58 Mb]COMET ERROR: File could not be uploaded\n",
      " 59%|█████▉    | 3720/6300 [43:26<37:24,  1.15it/s, curr_speed=37.10 Mbps, mb_sent=1247.12 Mb]COMET ERROR: File could not be uploaded\n",
      " 59%|█████▉    | 3722/6300 [43:28<38:41,  1.11it/s, curr_speed=37.15 Mbps, mb_sent=1247.88 Mb]COMET ERROR: File could not be uploaded\n",
      " 59%|█████▉    | 3723/6300 [43:29<39:26,  1.09it/s, curr_speed=37.17 Mbps, mb_sent=1248.26 Mb]COMET ERROR: File could not be uploaded\n",
      " 59%|█████▉    | 3732/6300 [43:38<41:34,  1.03it/s, curr_speed=37.27 Mbps, mb_sent=1251.72 Mb]COMET ERROR: File could not be uploaded\n",
      " 59%|█████▉    | 3735/6300 [43:41<39:57,  1.07it/s, curr_speed=37.31 Mbps, mb_sent=1252.88 Mb]COMET ERROR: File could not be uploaded\n",
      " 63%|██████▎   | 3941/6300 [46:38<33:45,  1.16it/s, curr_speed=37.32 Mbps, mb_sent=1328.59 Mb]COMET ERROR: File could not be uploaded\n",
      " 63%|██████▎   | 3949/6300 [46:45<31:38,  1.24it/s, curr_speed=37.44 Mbps, mb_sent=1331.49 Mb]COMET ERROR: File could not be uploaded\n",
      " 63%|██████▎   | 3952/6300 [46:47<32:15,  1.21it/s, curr_speed=37.28 Mbps, mb_sent=1332.41 Mb]COMET ERROR: File could not be uploaded\n",
      " 63%|██████▎   | 3953/6300 [46:48<33:49,  1.16it/s, curr_speed=37.29 Mbps, mb_sent=1332.80 Mb]COMET ERROR: File could not be uploaded\n",
      " 63%|██████▎   | 3954/6300 [46:51<54:04,  1.38s/it, curr_speed=37.29 Mbps, mb_sent=1333.21 Mb]COMET ERROR: File could not be uploaded\n",
      " 63%|██████▎   | 3956/6300 [46:53<44:10,  1.13s/it, curr_speed=37.34 Mbps, mb_sent=1333.99 Mb]COMET ERROR: File could not be uploaded\n",
      " 63%|██████▎   | 3958/6300 [46:55<39:12,  1.00s/it, curr_speed=37.34 Mbps, mb_sent=1334.76 Mb]COMET ERROR: File could not be uploaded\n",
      " 63%|██████▎   | 3987/6300 [47:20<33:56,  1.14it/s, curr_speed=37.46 Mbps, mb_sent=1345.62 Mb]COMET ERROR: File could not be uploaded\n",
      "COMET ERROR: File could not be uploaded\n",
      "COMET ERROR: File could not be uploaded\n",
      "COMET ERROR: File could not be uploaded\n",
      "COMET ERROR: File could not be uploaded\n",
      " 63%|██████▎   | 3988/6300 [47:21<37:30,  1.03it/s, curr_speed=37.38 Mbps, mb_sent=1345.94 Mb]COMET ERROR: File could not be uploaded\n",
      "COMET ERROR: File could not be uploaded\n",
      "COMET ERROR: File could not be uploaded\n",
      " 63%|██████▎   | 3990/6300 [47:23<38:37,  1.00s/it, curr_speed=37.48 Mbps, mb_sent=1346.70 Mb]COMET ERROR: File could not be uploaded\n",
      " 63%|██████▎   | 3996/6300 [47:28<34:38,  1.11it/s, curr_speed=37.45 Mbps, mb_sent=1348.85 Mb]COMET ERROR: File could not be uploaded\n",
      " 64%|██████▎   | 4006/6300 [47:38<34:51,  1.10it/s, curr_speed=37.29 Mbps, mb_sent=1352.64 Mb]COMET ERROR: File could not be uploaded\n",
      " 64%|██████▎   | 4007/6300 [47:39<35:55,  1.06it/s, curr_speed=37.27 Mbps, mb_sent=1353.02 Mb]COMET ERROR: File could not be uploaded\n",
      " 64%|██████▎   | 4011/6300 [47:42<34:34,  1.10it/s, curr_speed=37.14 Mbps, mb_sent=1354.32 Mb]COMET ERROR: File could not be uploaded\n",
      " 64%|██████▎   | 4015/6300 [47:46<34:22,  1.11it/s, curr_speed=37.03 Mbps, mb_sent=1355.75 Mb]COMET ERROR: File could not be uploaded\n",
      " 64%|██████▍   | 4018/6300 [47:49<34:24,  1.11it/s, curr_speed=36.94 Mbps, mb_sent=1356.76 Mb]COMET ERROR: File could not be uploaded\n",
      " 64%|██████▍   | 4023/6300 [47:54<39:19,  1.04s/it, curr_speed=36.79 Mbps, mb_sent=1358.53 Mb]COMET ERROR: File could not be uploaded\n",
      " 64%|██████▍   | 4032/6300 [48:02<32:25,  1.17it/s, curr_speed=36.42 Mbps, mb_sent=1361.52 Mb]COMET ERROR: File could not be uploaded\n",
      " 64%|██████▍   | 4036/6300 [48:06<35:00,  1.08it/s, curr_speed=36.39 Mbps, mb_sent=1363.07 Mb]COMET ERROR: File could not be uploaded\n",
      " 64%|██████▍   | 4053/6300 [48:22<34:47,  1.08it/s, curr_speed=36.56 Mbps, mb_sent=1369.36 Mb]COMET ERROR: File could not be uploaded\n",
      "COMET ERROR: File could not be uploaded\n",
      "COMET ERROR: File could not be uploaded\n",
      " 64%|██████▍   | 4055/6300 [48:24<36:42,  1.02it/s, curr_speed=36.56 Mbps, mb_sent=1370.15 Mb]COMET ERROR: File could not be uploaded\n",
      "COMET ERROR: File could not be uploaded\n",
      " 65%|██████▍   | 4064/6300 [48:32<34:44,  1.07it/s, curr_speed=36.31 Mbps, mb_sent=1373.21 Mb]COMET ERROR: File could not be uploaded\n",
      " 65%|██████▍   | 4066/6300 [48:34<35:33,  1.05it/s, curr_speed=36.46 Mbps, mb_sent=1374.00 Mb]COMET ERROR: File could not be uploaded\n",
      " 65%|██████▍   | 4069/6300 [48:37<35:33,  1.05it/s, curr_speed=36.40 Mbps, mb_sent=1375.05 Mb]COMET ERROR: File could not be uploaded\n",
      " 65%|██████▍   | 4072/6300 [48:40<35:58,  1.03it/s, curr_speed=36.39 Mbps, mb_sent=1376.21 Mb]COMET ERROR: File could not be uploaded\n",
      " 65%|██████▍   | 4076/6300 [48:44<35:09,  1.05it/s, curr_speed=36.48 Mbps, mb_sent=1377.76 Mb]COMET ERROR: File could not be uploaded\n",
      " 65%|██████▍   | 4079/6300 [48:47<36:42,  1.01it/s, curr_speed=36.50 Mbps, mb_sent=1379.01 Mb]COMET ERROR: File could not be uploaded\n",
      " 65%|██████▍   | 4080/6300 [48:48<37:11,  1.01s/it, curr_speed=36.56 Mbps, mb_sent=1379.45 Mb]COMET ERROR: File could not be uploaded\n",
      " 65%|██████▍   | 4083/6300 [48:51<37:45,  1.02s/it, curr_speed=36.56 Mbps, mb_sent=1380.60 Mb]COMET ERROR: File could not be uploaded\n",
      " 65%|██████▍   | 4088/6300 [48:56<36:25,  1.01it/s, curr_speed=36.49 Mbps, mb_sent=1382.43 Mb]COMET ERROR: File could not be uploaded\n",
      " 65%|██████▍   | 4089/6300 [48:57<35:59,  1.02it/s, curr_speed=36.46 Mbps, mb_sent=1382.76 Mb]COMET ERROR: File could not be uploaded\n",
      " 65%|██████▌   | 4100/6300 [49:07<33:45,  1.09it/s, curr_speed=36.54 Mbps, mb_sent=1386.90 Mb]COMET ERROR: File could not be uploaded\n",
      " 65%|██████▌   | 4101/6300 [49:08<33:25,  1.10it/s, curr_speed=36.51 Mbps, mb_sent=1387.22 Mb]COMET ERROR: File could not be uploaded\n",
      " 65%|██████▌   | 4113/6300 [49:19<30:57,  1.18it/s, curr_speed=36.42 Mbps, mb_sent=1391.49 Mb]COMET ERROR: File could not be uploaded\n",
      " 65%|██████▌   | 4115/6300 [49:20<32:21,  1.13it/s, curr_speed=36.49 Mbps, mb_sent=1392.24 Mb]COMET ERROR: File could not be uploaded\n",
      " 65%|██████▌   | 4125/6300 [49:31<35:22,  1.02it/s, curr_speed=36.78 Mbps, mb_sent=1395.97 Mb]COMET ERROR: File could not be uploaded\n",
      " 65%|██████▌   | 4126/6300 [49:32<35:09,  1.03it/s, curr_speed=36.76 Mbps, mb_sent=1396.37 Mb]COMET ERROR: File could not be uploaded\n",
      " 66%|██████▌   | 4130/6300 [49:36<36:54,  1.02s/it, curr_speed=36.90 Mbps, mb_sent=1397.88 Mb]COMET ERROR: File could not be uploaded\n",
      " 66%|██████▌   | 4132/6300 [49:38<35:27,  1.02it/s, curr_speed=37.07 Mbps, mb_sent=1398.59 Mb]COMET ERROR: File could not be uploaded\n",
      " 66%|██████▌   | 4134/6300 [49:40<35:33,  1.02it/s, curr_speed=37.03 Mbps, mb_sent=1399.34 Mb]COMET ERROR: File could not be uploaded\n",
      "100%|██████████| 6300/6300 [1:29:02<00:00,  1.18it/s, curr_speed=36.97 Mbps, mb_sent=2188.06 Mb]\n"
     ]
    },
    {
     "name": "stdout",
     "output_type": "stream",
     "text": [
      "Waiting for simulation script to connect on port: tcp://localhost:36767\n",
      "Please start proper ns-3 simulation script using ./waf --run \"...\"\n",
      "Sent 2188.06 Mb/s.\tMean speed: 36.47 Mb/s\tEpisode 4/15 finished\n",
      "\n",
      "4\n",
      "41.070007|0|5|-nan\n"
     ]
    },
    {
     "name": "stderr",
     "output_type": "stream",
     "text": [
      "100%|██████████| 6300/6300 [1:27:01<00:00,  1.21it/s, curr_speed=37.17 Mbps, mb_sent=2229.31 Mb]\n"
     ]
    },
    {
     "name": "stdout",
     "output_type": "stream",
     "text": [
      "Waiting for simulation script to connect on port: tcp://localhost:45697\n",
      "Please start proper ns-3 simulation script using ./waf --run \"...\"\n",
      "Sent 2229.31 Mb/s.\tMean speed: 37.16 Mb/s\tEpisode 5/15 finished\n",
      "\n",
      "5\n",
      "41.070007|0|5|-nan\n"
     ]
    },
    {
     "name": "stderr",
     "output_type": "stream",
     "text": [
      "100%|██████████| 6300/6300 [1:21:56<00:00,  1.28it/s, curr_speed=37.28 Mbps, mb_sent=2258.35 Mb]\n"
     ]
    },
    {
     "name": "stdout",
     "output_type": "stream",
     "text": [
      "Waiting for simulation script to connect on port: tcp://localhost:53750\n",
      "Please start proper ns-3 simulation script using ./waf --run \"...\"\n",
      "Sent 2258.35 Mb/s.\tMean speed: 37.64 Mb/s\tEpisode 6/15 finished\n",
      "\n",
      "6\n",
      "41.070007|0|5|-nan\n"
     ]
    },
    {
     "name": "stderr",
     "output_type": "stream",
     "text": [
      "100%|██████████| 6300/6300 [1:22:17<00:00,  1.28it/s, curr_speed=38.28 Mbps, mb_sent=2268.14 Mb]\n"
     ]
    },
    {
     "name": "stdout",
     "output_type": "stream",
     "text": [
      "Waiting for simulation script to connect on port: tcp://localhost:53626\n",
      "Please start proper ns-3 simulation script using ./waf --run \"...\"\n",
      "Sent 2268.14 Mb/s.\tMean speed: 37.80 Mb/s\tEpisode 7/15 finished\n",
      "\n",
      "7\n",
      "41.070007|0|5|-nan\n"
     ]
    },
    {
     "name": "stderr",
     "output_type": "stream",
     "text": [
      "100%|██████████| 6300/6300 [1:23:19<00:00,  1.26it/s, curr_speed=37.65 Mbps, mb_sent=2276.71 Mb]\n"
     ]
    },
    {
     "name": "stdout",
     "output_type": "stream",
     "text": [
      "Waiting for simulation script to connect on port: tcp://localhost:46710\n",
      "Please start proper ns-3 simulation script using ./waf --run \"...\"\n",
      "Sent 2276.71 Mb/s.\tMean speed: 37.95 Mb/s\tEpisode 8/15 finished\n",
      "\n",
      "8\n",
      "41.070007|0|5|-nan\n"
     ]
    },
    {
     "name": "stderr",
     "output_type": "stream",
     "text": [
      " 71%|███████   | 4472/6300 [53:01<32:28,  1.07s/it, curr_speed=37.37 Mbps, mb_sent=1589.49 Mb] COMET ERROR: File could not be uploaded\n",
      " 71%|███████   | 4473/6300 [53:02<32:58,  1.08s/it, curr_speed=37.35 Mbps, mb_sent=1589.83 Mb]COMET ERROR: File could not be uploaded\n",
      " 71%|███████   | 4474/6300 [53:03<32:09,  1.06s/it, curr_speed=37.35 Mbps, mb_sent=1590.23 Mb]COMET ERROR: File could not be uploaded\n",
      " 86%|████████▌ | 5417/6300 [1:09:24<18:53,  1.28s/it, curr_speed=37.41 Mbps, mb_sent=1944.07 Mb]COMET ERROR: File could not be uploaded\n",
      " 86%|████████▌ | 5421/6300 [1:09:30<19:12,  1.31s/it, curr_speed=37.44 Mbps, mb_sent=1945.59 Mb]COMET ERROR: File could not be uploaded\n",
      " 86%|████████▌ | 5422/6300 [1:09:31<18:38,  1.27s/it, curr_speed=37.40 Mbps, mb_sent=1945.96 Mb]COMET ERROR: File could not be uploaded\n",
      "100%|██████████| 6300/6300 [1:25:50<00:00,  1.22it/s, curr_speed=37.45 Mbps, mb_sent=2278.79 Mb]\n"
     ]
    },
    {
     "name": "stdout",
     "output_type": "stream",
     "text": [
      "Waiting for simulation script to connect on port: tcp://localhost:27139\n",
      "Please start proper ns-3 simulation script using ./waf --run \"...\"\n",
      "Sent 2278.79 Mb/s.\tMean speed: 37.98 Mb/s\tEpisode 9/15 finished\n",
      "\n",
      "9\n",
      "41.070007|0|5|-nan\n"
     ]
    },
    {
     "name": "stderr",
     "output_type": "stream",
     "text": [
      "100%|██████████| 6300/6300 [1:07:10<00:00,  1.56it/s, curr_speed=38.00 Mbps, mb_sent=2285.44 Mb]\n"
     ]
    },
    {
     "name": "stdout",
     "output_type": "stream",
     "text": [
      "Waiting for simulation script to connect on port: tcp://localhost:38396\n",
      "Please start proper ns-3 simulation script using ./waf --run \"...\"\n",
      "Sent 2285.44 Mb/s.\tMean speed: 38.09 Mb/s\tEpisode 10/15 finished\n",
      "\n",
      "10\n",
      "41.070007|0|5|-nan\n"
     ]
    },
    {
     "name": "stderr",
     "output_type": "stream",
     "text": [
      "100%|██████████| 6300/6300 [1:00:32<00:00,  1.73it/s, curr_speed=38.27 Mbps, mb_sent=2288.71 Mb]\n"
     ]
    },
    {
     "name": "stdout",
     "output_type": "stream",
     "text": [
      "Waiting for simulation script to connect on port: tcp://localhost:26568\n",
      "Please start proper ns-3 simulation script using ./waf --run \"...\"\n",
      "Sent 2288.71 Mb/s.\tMean speed: 38.15 Mb/s\tEpisode 11/15 finished\n",
      "\n",
      "11\n",
      "41.070007|0|5|-nan\n"
     ]
    },
    {
     "name": "stderr",
     "output_type": "stream",
     "text": [
      "100%|██████████| 6300/6300 [58:00<00:00,  1.81it/s, curr_speed=38.14 Mbps, mb_sent=2285.29 Mb]\n"
     ]
    },
    {
     "name": "stdout",
     "output_type": "stream",
     "text": [
      "Waiting for simulation script to connect on port: tcp://localhost:38386\n",
      "Please start proper ns-3 simulation script using ./waf --run \"...\"\n",
      "WARNING:tensorflow:From /home/sheila/anaconda3/envs/environment_py3_7/lib/python3.7/site-packages/tensorflow/python/training/saver.py:960: remove_checkpoint (from tensorflow.python.training.checkpoint_management) is deprecated and will be removed in a future version.\n",
      "Instructions for updating:\n",
      "Use standard file APIs to delete files with this prefix.\n",
      "Sent 2285.29 Mb/s.\tMean speed: 38.09 Mb/s\tEpisode 12/15 finished\n",
      "\n",
      "12\n",
      "Turning off noise\n",
      "41.070007|0|5|-nan\n"
     ]
    },
    {
     "name": "stderr",
     "output_type": "stream",
     "text": [
      "100%|██████████| 6300/6300 [57:26<00:00,  1.83it/s, curr_speed=38.01 Mbps, mb_sent=2286.46 Mb]\n"
     ]
    },
    {
     "name": "stdout",
     "output_type": "stream",
     "text": [
      "Waiting for simulation script to connect on port: tcp://localhost:24424\n",
      "Please start proper ns-3 simulation script using ./waf --run \"...\"\n",
      "Sent 2286.46 Mb/s.\tMean speed: 38.11 Mb/s\tEpisode 13/15 finished\n",
      "\n",
      "13\n",
      "Turning off noise\n",
      "41.070007|0|5|-nan\n"
     ]
    },
    {
     "name": "stderr",
     "output_type": "stream",
     "text": [
      "100%|██████████| 6300/6300 [58:03<00:00,  1.81it/s, curr_speed=37.67 Mbps, mb_sent=2282.75 Mb]\n"
     ]
    },
    {
     "name": "stdout",
     "output_type": "stream",
     "text": [
      "Waiting for simulation script to connect on port: tcp://localhost:15330\n",
      "Please start proper ns-3 simulation script using ./waf --run \"...\"\n",
      "Sent 2282.75 Mb/s.\tMean speed: 38.05 Mb/s\tEpisode 14/15 finished\n",
      "\n",
      "14\n",
      "Turning off noise\n",
      "41.070007|0|5|-nan\n"
     ]
    },
    {
     "name": "stderr",
     "output_type": "stream",
     "text": [
      "100%|██████████| 6300/6300 [55:50<00:00,  1.88it/s, curr_speed=38.01 Mbps, mb_sent=2294.11 Mb]\n"
     ]
    },
    {
     "name": "stdout",
     "output_type": "stream",
     "text": [
      "Waiting for simulation script to connect on port: tcp://localhost:24362\n",
      "Please start proper ns-3 simulation script using ./waf --run \"...\"\n"
     ]
    },
    {
     "name": "stderr",
     "output_type": "stream",
     "text": [
      "COMET INFO: ----------------------------\n",
      "COMET INFO: Comet.ml Experiment Summary:\n",
      "COMET INFO:   Data:\n",
      "COMET INFO:     url: https://www.comet.com/sheila-janota/rl-in-wifi-with-queue-level/5f5bc6f0e95a433e980a0de9ff710390\n",
      "COMET INFO:   Metrics [count] (min, max):\n",
      "COMET INFO:     Chosen CW [89985]           : (16.0, 1024.0)\n",
      "COMET INFO:     Cumulative reward [15]      : (2552.1708984375, 3211.0185546875)\n",
      "COMET INFO:     Current throughput [89985]  : (23.701539993286133, 55.690792083740234)\n",
      "COMET INFO:     Fairness index [89985]      : (0.07366500049829483, 0.9994670152664185)\n",
      "COMET INFO:     Megabytes sent [89985]      : (0.31274399161338806, 2294.112273514271)\n",
      "COMET INFO:     Observation 0 [89985]       : (0.28820312526077035, 0.9374989583094915)\n",
      "COMET INFO:     Observation 1 [89985]       : (0.0, 0.04357386386958003)\n",
      "COMET INFO:     Per-ep reward [89985]       : (114.1962890625, 3211.0185546875)\n",
      "COMET INFO:     Round megabytes sent [89985]: (0.05584700033068657, 11.85076904296875)\n",
      "COMET INFO:     Round reward [89985]        : (0.074462890625, 0.953125)\n",
      "COMET INFO:     Speed [15]                  : (31.055494013925394, 38.235204558571176)\n",
      "COMET INFO:     Station count [89985]       : (5.0, 15.0)\n",
      "COMET INFO:     loss [89985]                : (0.0, 0.14900757372379303)\n",
      "COMET INFO:   Uploads:\n",
      "COMET INFO:     histogram3d: 89985\n",
      "COMET INFO: ----------------------------\n",
      "COMET INFO: Uploading stats to Comet before program termination (may take several seconds)\n"
     ]
    },
    {
     "name": "stdout",
     "output_type": "stream",
     "text": [
      "Sent 2294.11 Mb/s.\tMean speed: 38.24 Mb/s\tEpisode 15/15 finished\n",
      "\n",
      "Training finished.\n"
     ]
    }
   ],
   "source": [
    "### %%\n",
    "teacher = Teacher(env, 1, Preprocessor(False))\n",
    "\n",
    "lr = 4e-4\n",
    "config = Config(buffer_size=3*steps_per_ep*threads_no, batch_size=32, gamma=0.7, tau=1e-3, lr=lr, update_every=1)\n",
    "agent = Agent(QNetworkTf, history_length, action_size=7, config=config)\n",
    "agent.set_epsilon(0.9, 0.001, EPISODE_COUNT-2)\n",
    "\n",
    "# Test the model\n",
    "hyperparams = {**config.__dict__, **sim_args}\n",
    "tags = [\"Rew: normalized speed\",\n",
    "        \"Final\",\n",
    "        f\"{Agent.NAME}\",\n",
    "        sim_args['scenario'],\n",
    "        f\"LR: {lr}\",\n",
    "        f\"Instances: {threads_no}\",\n",
    "        f\"Station count: {sim_args['nWifi']}\",\n",
    "        *[f\"{key}: {sim_args[key]}\" for key in list(sim_args)[:3]]]\n",
    "# # agent.save()\n",
    "logger = teacher.train(agent, EPISODE_COUNT,\n",
    "                        simTime=simTime,\n",
    "                        stepTime=stepTime,\n",
    "                        history_length=history_length,\n",
    "                        send_logs=True,\n",
    "                        experimental=True,\n",
    "                        tags=tags,\n",
    "                        parameters=hyperparams)\n",
    "#logger = teacher.eval(agent,\n",
    "#                        simTime=simTime,\n",
    "#                        stepTime=stepTime,\n",
    "#                        history_length=history_length,\n",
    "#                        tags=tags,\n",
    "#                        parameters=hyperparams)\n",
    "# agent.save()\n",
    "\n",
    "\n",
    "# %%"
   ]
  },
  {
   "cell_type": "code",
   "execution_count": null,
   "id": "f0d15c0e",
   "metadata": {},
   "outputs": [],
   "source": []
  },
  {
   "cell_type": "markdown",
   "id": "6f3ee5e0",
   "metadata": {},
   "source": [
    "# Execution num4:"
   ]
  },
  {
   "cell_type": "code",
   "execution_count": 1,
   "id": "29ae5ebb",
   "metadata": {},
   "outputs": [
    {
     "name": "stderr",
     "output_type": "stream",
     "text": [
      "/home/sheila/anaconda3/envs/environment_py3_7/lib/python3.7/site-packages/tensorflow/python/framework/dtypes.py:516: FutureWarning: Passing (type, 1) or '1type' as a synonym of type is deprecated; in a future version of numpy, it will be understood as (type, (1,)) / '(1,)type'.\n",
      "  _np_qint8 = np.dtype([(\"qint8\", np.int8, 1)])\n",
      "/home/sheila/anaconda3/envs/environment_py3_7/lib/python3.7/site-packages/tensorflow/python/framework/dtypes.py:517: FutureWarning: Passing (type, 1) or '1type' as a synonym of type is deprecated; in a future version of numpy, it will be understood as (type, (1,)) / '(1,)type'.\n",
      "  _np_quint8 = np.dtype([(\"quint8\", np.uint8, 1)])\n",
      "/home/sheila/anaconda3/envs/environment_py3_7/lib/python3.7/site-packages/tensorflow/python/framework/dtypes.py:518: FutureWarning: Passing (type, 1) or '1type' as a synonym of type is deprecated; in a future version of numpy, it will be understood as (type, (1,)) / '(1,)type'.\n",
      "  _np_qint16 = np.dtype([(\"qint16\", np.int16, 1)])\n",
      "/home/sheila/anaconda3/envs/environment_py3_7/lib/python3.7/site-packages/tensorflow/python/framework/dtypes.py:519: FutureWarning: Passing (type, 1) or '1type' as a synonym of type is deprecated; in a future version of numpy, it will be understood as (type, (1,)) / '(1,)type'.\n",
      "  _np_quint16 = np.dtype([(\"quint16\", np.uint16, 1)])\n",
      "/home/sheila/anaconda3/envs/environment_py3_7/lib/python3.7/site-packages/tensorflow/python/framework/dtypes.py:520: FutureWarning: Passing (type, 1) or '1type' as a synonym of type is deprecated; in a future version of numpy, it will be understood as (type, (1,)) / '(1,)type'.\n",
      "  _np_qint32 = np.dtype([(\"qint32\", np.int32, 1)])\n",
      "/home/sheila/anaconda3/envs/environment_py3_7/lib/python3.7/site-packages/tensorflow/python/framework/dtypes.py:525: FutureWarning: Passing (type, 1) or '1type' as a synonym of type is deprecated; in a future version of numpy, it will be understood as (type, (1,)) / '(1,)type'.\n",
      "  np_resource = np.dtype([(\"resource\", np.ubyte, 1)])\n",
      "/home/sheila/anaconda3/envs/environment_py3_7/lib/python3.7/site-packages/tensorboard/compat/tensorflow_stub/dtypes.py:541: FutureWarning: Passing (type, 1) or '1type' as a synonym of type is deprecated; in a future version of numpy, it will be understood as (type, (1,)) / '(1,)type'.\n",
      "  _np_qint8 = np.dtype([(\"qint8\", np.int8, 1)])\n",
      "/home/sheila/anaconda3/envs/environment_py3_7/lib/python3.7/site-packages/tensorboard/compat/tensorflow_stub/dtypes.py:542: FutureWarning: Passing (type, 1) or '1type' as a synonym of type is deprecated; in a future version of numpy, it will be understood as (type, (1,)) / '(1,)type'.\n",
      "  _np_quint8 = np.dtype([(\"quint8\", np.uint8, 1)])\n",
      "/home/sheila/anaconda3/envs/environment_py3_7/lib/python3.7/site-packages/tensorboard/compat/tensorflow_stub/dtypes.py:543: FutureWarning: Passing (type, 1) or '1type' as a synonym of type is deprecated; in a future version of numpy, it will be understood as (type, (1,)) / '(1,)type'.\n",
      "  _np_qint16 = np.dtype([(\"qint16\", np.int16, 1)])\n",
      "/home/sheila/anaconda3/envs/environment_py3_7/lib/python3.7/site-packages/tensorboard/compat/tensorflow_stub/dtypes.py:544: FutureWarning: Passing (type, 1) or '1type' as a synonym of type is deprecated; in a future version of numpy, it will be understood as (type, (1,)) / '(1,)type'.\n",
      "  _np_quint16 = np.dtype([(\"quint16\", np.uint16, 1)])\n",
      "/home/sheila/anaconda3/envs/environment_py3_7/lib/python3.7/site-packages/tensorboard/compat/tensorflow_stub/dtypes.py:545: FutureWarning: Passing (type, 1) or '1type' as a synonym of type is deprecated; in a future version of numpy, it will be understood as (type, (1,)) / '(1,)type'.\n",
      "  _np_qint32 = np.dtype([(\"qint32\", np.int32, 1)])\n",
      "/home/sheila/anaconda3/envs/environment_py3_7/lib/python3.7/site-packages/tensorboard/compat/tensorflow_stub/dtypes.py:550: FutureWarning: Passing (type, 1) or '1type' as a synonym of type is deprecated; in a future version of numpy, it will be understood as (type, (1,)) / '(1,)type'.\n",
      "  np_resource = np.dtype([(\"resource\", np.ubyte, 1)])\n"
     ]
    }
   ],
   "source": [
    "#%%\n",
    "from ns3gym import ns3env\n",
    "from comet_ml import Experiment, Optimizer\n",
    "import tqdm\n",
    "import subprocess\n",
    "from collections import deque\n",
    "import numpy as np\n",
    "\n",
    "from agents.dqn.agent import Agent, Config\n",
    "from agents.dqn.model import QNetworkTf\n",
    "from agents.teacher import Teacher, EnvWrapper\n",
    "from preprocessor import Preprocessor"
   ]
  },
  {
   "cell_type": "code",
   "execution_count": 2,
   "id": "7bc1d7f2",
   "metadata": {},
   "outputs": [
    {
     "name": "stdout",
     "output_type": "stream",
     "text": [
      "Steps per episode: 6000\n",
      "Waiting for simulation script to connect on port: tcp://localhost:36117\n",
      "Please start proper ns-3 simulation script using ./waf --run \"...\"\n",
      "41.070007|0|5|-nan\n",
      "Observation space shape: (1, 300)\n",
      "Action space shape: (1, 1)\n"
     ]
    }
   ],
   "source": [
    "#%%\n",
    "scenario = \"convergence\"\n",
    "\n",
    "simTime = 60 # seconds\n",
    "stepTime = 0.01  # seconds\n",
    "history_length = 300\n",
    "\n",
    "EPISODE_COUNT = 15\n",
    "steps_per_ep = int(simTime/stepTime)\n",
    "\n",
    "sim_args = {\n",
    "    \"simTime\": simTime,\n",
    "    \"envStepTime\": stepTime,\n",
    "    \"historyLength\": history_length,\n",
    "    \"agentType\": Agent.TYPE,\n",
    "    \"scenario\": \"convergence\",\n",
    "    \"nWifi\": 15,\n",
    "}\n",
    "\n",
    "print(\"Steps per episode:\", steps_per_ep)\n",
    "\n",
    "threads_no = 1\n",
    "env = EnvWrapper(threads_no, **sim_args)\n",
    "\n",
    "#%%\n",
    "env.reset()\n",
    "ob_space = env.observation_space\n",
    "ac_space = env.action_space\n",
    "\n",
    "print(\"Observation space shape:\", ob_space)\n",
    "print(\"Action space shape:\", ac_space)\n",
    "\n",
    "assert ob_space is not None\n"
   ]
  },
  {
   "cell_type": "code",
   "execution_count": 3,
   "id": "2f74854d",
   "metadata": {},
   "outputs": [
    {
     "name": "stdout",
     "output_type": "stream",
     "text": [
      "WARNING:tensorflow:From /home/sheila/repos/ns-3-allinone/ns-3.29/scratch/RLinWiFi-master-original-queue-level-mean/agents/dqn/agent.py:53: The name tf.Session is deprecated. Please use tf.compat.v1.Session instead.\n",
      "\n",
      "WARNING:tensorflow:From /home/sheila/repos/ns-3-allinone/ns-3.29/scratch/RLinWiFi-master-original-queue-level-mean/agents/dqn/model.py:25: The name tf.variable_scope is deprecated. Please use tf.compat.v1.variable_scope instead.\n",
      "\n",
      "WARNING:tensorflow:From /home/sheila/repos/ns-3-allinone/ns-3.29/scratch/RLinWiFi-master-original-queue-level-mean/agents/dqn/model.py:26: The name tf.placeholder is deprecated. Please use tf.compat.v1.placeholder instead.\n",
      "\n",
      "WARNING:tensorflow:\n",
      "The TensorFlow contrib module will not be included in TensorFlow 2.0.\n",
      "For more information, please see:\n",
      "  * https://github.com/tensorflow/community/blob/master/rfcs/20180907-contrib-sunset.md\n",
      "  * https://github.com/tensorflow/addons\n",
      "  * https://github.com/tensorflow/io (for I/O related ops)\n",
      "If you depend on functionality not listed there, please file an issue.\n",
      "\n",
      "WARNING:tensorflow:From /home/sheila/repos/ns-3-allinone/ns-3.29/scratch/RLinWiFi-master-original-queue-level-mean/agents/dqn/model.py:52: LSTMCell.__init__ (from tensorflow.python.ops.rnn_cell_impl) is deprecated and will be removed in a future version.\n",
      "Instructions for updating:\n",
      "This class is equivalent as tf.keras.layers.LSTMCell, and will be replaced by that in Tensorflow 2.0.\n",
      "WARNING:tensorflow:From /home/sheila/repos/ns-3-allinone/ns-3.29/scratch/RLinWiFi-master-original-queue-level-mean/agents/dqn/model.py:52: static_rnn (from tensorflow.python.ops.rnn) is deprecated and will be removed in a future version.\n",
      "Instructions for updating:\n",
      "Please use `keras.layers.RNN(cell, unroll=True)`, which is equivalent to this API\n",
      "WARNING:tensorflow:From /home/sheila/anaconda3/envs/environment_py3_7/lib/python3.7/site-packages/tensorflow/python/ops/init_ops.py:1251: calling VarianceScaling.__init__ (from tensorflow.python.ops.init_ops) with dtype is deprecated and will be removed in a future version.\n",
      "Instructions for updating:\n",
      "Call initializer instance with the dtype argument instead of passing it to the constructor\n",
      "WARNING:tensorflow:From /home/sheila/anaconda3/envs/environment_py3_7/lib/python3.7/site-packages/tensorflow/python/ops/rnn_cell_impl.py:961: calling Zeros.__init__ (from tensorflow.python.ops.init_ops) with dtype is deprecated and will be removed in a future version.\n",
      "Instructions for updating:\n",
      "Call initializer instance with the dtype argument instead of passing it to the constructor\n",
      "WARNING:tensorflow:Entity <bound method LSTMCell.call of <tensorflow.python.ops.rnn_cell_impl.LSTMCell object at 0x7fba4c722c50>> could not be transformed and will be executed as-is. Please report this to the AutgoGraph team. When filing the bug, set the verbosity to 10 (on Linux, `export AUTOGRAPH_VERBOSITY=10`) and attach the full output. Cause: converting <bound method LSTMCell.call of <tensorflow.python.ops.rnn_cell_impl.LSTMCell object at 0x7fba4c722c50>>: AttributeError: module 'gast' has no attribute 'Index'\n",
      "WARNING: Entity <bound method LSTMCell.call of <tensorflow.python.ops.rnn_cell_impl.LSTMCell object at 0x7fba4c722c50>> could not be transformed and will be executed as-is. Please report this to the AutgoGraph team. When filing the bug, set the verbosity to 10 (on Linux, `export AUTOGRAPH_VERBOSITY=10`) and attach the full output. Cause: converting <bound method LSTMCell.call of <tensorflow.python.ops.rnn_cell_impl.LSTMCell object at 0x7fba4c722c50>>: AttributeError: module 'gast' has no attribute 'Index'\n",
      "WARNING:tensorflow:Entity <bound method LSTMCell.call of <tensorflow.python.ops.rnn_cell_impl.LSTMCell object at 0x7fba4c722c50>> could not be transformed and will be executed as-is. Please report this to the AutgoGraph team. When filing the bug, set the verbosity to 10 (on Linux, `export AUTOGRAPH_VERBOSITY=10`) and attach the full output. Cause: converting <bound method LSTMCell.call of <tensorflow.python.ops.rnn_cell_impl.LSTMCell object at 0x7fba4c722c50>>: AttributeError: module 'gast' has no attribute 'Index'\n",
      "WARNING: Entity <bound method LSTMCell.call of <tensorflow.python.ops.rnn_cell_impl.LSTMCell object at 0x7fba4c722c50>> could not be transformed and will be executed as-is. Please report this to the AutgoGraph team. When filing the bug, set the verbosity to 10 (on Linux, `export AUTOGRAPH_VERBOSITY=10`) and attach the full output. Cause: converting <bound method LSTMCell.call of <tensorflow.python.ops.rnn_cell_impl.LSTMCell object at 0x7fba4c722c50>>: AttributeError: module 'gast' has no attribute 'Index'\n",
      "WARNING:tensorflow:Entity <bound method LSTMCell.call of <tensorflow.python.ops.rnn_cell_impl.LSTMCell object at 0x7fba4c722c50>> could not be transformed and will be executed as-is. Please report this to the AutgoGraph team. When filing the bug, set the verbosity to 10 (on Linux, `export AUTOGRAPH_VERBOSITY=10`) and attach the full output. Cause: converting <bound method LSTMCell.call of <tensorflow.python.ops.rnn_cell_impl.LSTMCell object at 0x7fba4c722c50>>: AttributeError: module 'gast' has no attribute 'Index'\n",
      "WARNING: Entity <bound method LSTMCell.call of <tensorflow.python.ops.rnn_cell_impl.LSTMCell object at 0x7fba4c722c50>> could not be transformed and will be executed as-is. Please report this to the AutgoGraph team. When filing the bug, set the verbosity to 10 (on Linux, `export AUTOGRAPH_VERBOSITY=10`) and attach the full output. Cause: converting <bound method LSTMCell.call of <tensorflow.python.ops.rnn_cell_impl.LSTMCell object at 0x7fba4c722c50>>: AttributeError: module 'gast' has no attribute 'Index'\n",
      "WARNING:tensorflow:Entity <bound method LSTMCell.call of <tensorflow.python.ops.rnn_cell_impl.LSTMCell object at 0x7fba4c722c50>> could not be transformed and will be executed as-is. Please report this to the AutgoGraph team. When filing the bug, set the verbosity to 10 (on Linux, `export AUTOGRAPH_VERBOSITY=10`) and attach the full output. Cause: converting <bound method LSTMCell.call of <tensorflow.python.ops.rnn_cell_impl.LSTMCell object at 0x7fba4c722c50>>: AttributeError: module 'gast' has no attribute 'Index'\n",
      "WARNING: Entity <bound method LSTMCell.call of <tensorflow.python.ops.rnn_cell_impl.LSTMCell object at 0x7fba4c722c50>> could not be transformed and will be executed as-is. Please report this to the AutgoGraph team. When filing the bug, set the verbosity to 10 (on Linux, `export AUTOGRAPH_VERBOSITY=10`) and attach the full output. Cause: converting <bound method LSTMCell.call of <tensorflow.python.ops.rnn_cell_impl.LSTMCell object at 0x7fba4c722c50>>: AttributeError: module 'gast' has no attribute 'Index'\n",
      "WARNING:tensorflow:From /home/sheila/repos/ns-3-allinone/ns-3.29/scratch/RLinWiFi-master-original-queue-level-mean/agents/dqn/model.py:53: dense (from tensorflow.python.layers.core) is deprecated and will be removed in a future version.\n",
      "Instructions for updating:\n",
      "Use keras.layers.dense instead.\n",
      "WARNING:tensorflow:Entity <bound method Dense.call of <tensorflow.python.layers.core.Dense object at 0x7fba4c722c50>> could not be transformed and will be executed as-is. Please report this to the AutgoGraph team. When filing the bug, set the verbosity to 10 (on Linux, `export AUTOGRAPH_VERBOSITY=10`) and attach the full output. Cause: converting <bound method Dense.call of <tensorflow.python.layers.core.Dense object at 0x7fba4c722c50>>: AttributeError: module 'gast' has no attribute 'Index'\n",
      "WARNING: Entity <bound method Dense.call of <tensorflow.python.layers.core.Dense object at 0x7fba4c722c50>> could not be transformed and will be executed as-is. Please report this to the AutgoGraph team. When filing the bug, set the verbosity to 10 (on Linux, `export AUTOGRAPH_VERBOSITY=10`) and attach the full output. Cause: converting <bound method Dense.call of <tensorflow.python.layers.core.Dense object at 0x7fba4c722c50>>: AttributeError: module 'gast' has no attribute 'Index'\n",
      "WARNING:tensorflow:Entity <bound method Dense.call of <tensorflow.python.layers.core.Dense object at 0x7fba4c722c50>> could not be transformed and will be executed as-is. Please report this to the AutgoGraph team. When filing the bug, set the verbosity to 10 (on Linux, `export AUTOGRAPH_VERBOSITY=10`) and attach the full output. Cause: converting <bound method Dense.call of <tensorflow.python.layers.core.Dense object at 0x7fba4c722c50>>: AttributeError: module 'gast' has no attribute 'Index'\n"
     ]
    },
    {
     "name": "stdout",
     "output_type": "stream",
     "text": [
      "WARNING: Entity <bound method Dense.call of <tensorflow.python.layers.core.Dense object at 0x7fba4c722c50>> could not be transformed and will be executed as-is. Please report this to the AutgoGraph team. When filing the bug, set the verbosity to 10 (on Linux, `export AUTOGRAPH_VERBOSITY=10`) and attach the full output. Cause: converting <bound method Dense.call of <tensorflow.python.layers.core.Dense object at 0x7fba4c722c50>>: AttributeError: module 'gast' has no attribute 'Index'\n",
      "WARNING:tensorflow:Entity <bound method Dense.call of <tensorflow.python.layers.core.Dense object at 0x7fba4c722c50>> could not be transformed and will be executed as-is. Please report this to the AutgoGraph team. When filing the bug, set the verbosity to 10 (on Linux, `export AUTOGRAPH_VERBOSITY=10`) and attach the full output. Cause: converting <bound method Dense.call of <tensorflow.python.layers.core.Dense object at 0x7fba4c722c50>>: AttributeError: module 'gast' has no attribute 'Index'\n",
      "WARNING: Entity <bound method Dense.call of <tensorflow.python.layers.core.Dense object at 0x7fba4c722c50>> could not be transformed and will be executed as-is. Please report this to the AutgoGraph team. When filing the bug, set the verbosity to 10 (on Linux, `export AUTOGRAPH_VERBOSITY=10`) and attach the full output. Cause: converting <bound method Dense.call of <tensorflow.python.layers.core.Dense object at 0x7fba4c722c50>>: AttributeError: module 'gast' has no attribute 'Index'\n",
      "WARNING:tensorflow:From /home/sheila/repos/ns-3-allinone/ns-3.29/scratch/RLinWiFi-master-original-queue-level-mean/agents/dqn/model.py:69: The name tf.losses.mean_squared_error is deprecated. Please use tf.compat.v1.losses.mean_squared_error instead.\n",
      "\n",
      "WARNING:tensorflow:From /home/sheila/anaconda3/envs/environment_py3_7/lib/python3.7/site-packages/tensorflow/python/ops/losses/losses_impl.py:121: add_dispatch_support.<locals>.wrapper (from tensorflow.python.ops.array_ops) is deprecated and will be removed in a future version.\n",
      "Instructions for updating:\n",
      "Use tf.where in 2.0, which has the same broadcast rule as np.where\n",
      "WARNING:tensorflow:From /home/sheila/repos/ns-3-allinone/ns-3.29/scratch/RLinWiFi-master-original-queue-level-mean/agents/dqn/model.py:77: The name tf.train.AdamOptimizer is deprecated. Please use tf.compat.v1.train.AdamOptimizer instead.\n",
      "\n",
      "WARNING:tensorflow:From /home/sheila/repos/ns-3-allinone/ns-3.29/scratch/RLinWiFi-master-original-queue-level-mean/agents/dqn/model.py:33: The name tf.global_variables_initializer is deprecated. Please use tf.compat.v1.global_variables_initializer instead.\n",
      "\n",
      "WARNING:tensorflow:From /home/sheila/repos/ns-3-allinone/ns-3.29/scratch/RLinWiFi-master-original-queue-level-mean/agents/dqn/model.py:34: The name tf.local_variables_initializer is deprecated. Please use tf.compat.v1.local_variables_initializer instead.\n",
      "\n",
      "WARNING:tensorflow:Entity <bound method LSTMCell.call of <tensorflow.python.ops.rnn_cell_impl.LSTMCell object at 0x7fba39907410>> could not be transformed and will be executed as-is. Please report this to the AutgoGraph team. When filing the bug, set the verbosity to 10 (on Linux, `export AUTOGRAPH_VERBOSITY=10`) and attach the full output. Cause: converting <bound method LSTMCell.call of <tensorflow.python.ops.rnn_cell_impl.LSTMCell object at 0x7fba39907410>>: AttributeError: module 'gast' has no attribute 'Index'\n",
      "WARNING: Entity <bound method LSTMCell.call of <tensorflow.python.ops.rnn_cell_impl.LSTMCell object at 0x7fba39907410>> could not be transformed and will be executed as-is. Please report this to the AutgoGraph team. When filing the bug, set the verbosity to 10 (on Linux, `export AUTOGRAPH_VERBOSITY=10`) and attach the full output. Cause: converting <bound method LSTMCell.call of <tensorflow.python.ops.rnn_cell_impl.LSTMCell object at 0x7fba39907410>>: AttributeError: module 'gast' has no attribute 'Index'\n",
      "WARNING:tensorflow:Entity <bound method LSTMCell.call of <tensorflow.python.ops.rnn_cell_impl.LSTMCell object at 0x7fba39907410>> could not be transformed and will be executed as-is. Please report this to the AutgoGraph team. When filing the bug, set the verbosity to 10 (on Linux, `export AUTOGRAPH_VERBOSITY=10`) and attach the full output. Cause: converting <bound method LSTMCell.call of <tensorflow.python.ops.rnn_cell_impl.LSTMCell object at 0x7fba39907410>>: AttributeError: module 'gast' has no attribute 'Index'\n",
      "WARNING: Entity <bound method LSTMCell.call of <tensorflow.python.ops.rnn_cell_impl.LSTMCell object at 0x7fba39907410>> could not be transformed and will be executed as-is. Please report this to the AutgoGraph team. When filing the bug, set the verbosity to 10 (on Linux, `export AUTOGRAPH_VERBOSITY=10`) and attach the full output. Cause: converting <bound method LSTMCell.call of <tensorflow.python.ops.rnn_cell_impl.LSTMCell object at 0x7fba39907410>>: AttributeError: module 'gast' has no attribute 'Index'\n",
      "WARNING:tensorflow:Entity <bound method LSTMCell.call of <tensorflow.python.ops.rnn_cell_impl.LSTMCell object at 0x7fba39907410>> could not be transformed and will be executed as-is. Please report this to the AutgoGraph team. When filing the bug, set the verbosity to 10 (on Linux, `export AUTOGRAPH_VERBOSITY=10`) and attach the full output. Cause: converting <bound method LSTMCell.call of <tensorflow.python.ops.rnn_cell_impl.LSTMCell object at 0x7fba39907410>>: AttributeError: module 'gast' has no attribute 'Index'\n",
      "WARNING: Entity <bound method LSTMCell.call of <tensorflow.python.ops.rnn_cell_impl.LSTMCell object at 0x7fba39907410>> could not be transformed and will be executed as-is. Please report this to the AutgoGraph team. When filing the bug, set the verbosity to 10 (on Linux, `export AUTOGRAPH_VERBOSITY=10`) and attach the full output. Cause: converting <bound method LSTMCell.call of <tensorflow.python.ops.rnn_cell_impl.LSTMCell object at 0x7fba39907410>>: AttributeError: module 'gast' has no attribute 'Index'\n",
      "WARNING:tensorflow:Entity <bound method LSTMCell.call of <tensorflow.python.ops.rnn_cell_impl.LSTMCell object at 0x7fba39907410>> could not be transformed and will be executed as-is. Please report this to the AutgoGraph team. When filing the bug, set the verbosity to 10 (on Linux, `export AUTOGRAPH_VERBOSITY=10`) and attach the full output. Cause: converting <bound method LSTMCell.call of <tensorflow.python.ops.rnn_cell_impl.LSTMCell object at 0x7fba39907410>>: AttributeError: module 'gast' has no attribute 'Index'\n",
      "WARNING: Entity <bound method LSTMCell.call of <tensorflow.python.ops.rnn_cell_impl.LSTMCell object at 0x7fba39907410>> could not be transformed and will be executed as-is. Please report this to the AutgoGraph team. When filing the bug, set the verbosity to 10 (on Linux, `export AUTOGRAPH_VERBOSITY=10`) and attach the full output. Cause: converting <bound method LSTMCell.call of <tensorflow.python.ops.rnn_cell_impl.LSTMCell object at 0x7fba39907410>>: AttributeError: module 'gast' has no attribute 'Index'\n",
      "WARNING:tensorflow:Entity <bound method Dense.call of <tensorflow.python.layers.core.Dense object at 0x7fba39a734d0>> could not be transformed and will be executed as-is. Please report this to the AutgoGraph team. When filing the bug, set the verbosity to 10 (on Linux, `export AUTOGRAPH_VERBOSITY=10`) and attach the full output. Cause: converting <bound method Dense.call of <tensorflow.python.layers.core.Dense object at 0x7fba39a734d0>>: AttributeError: module 'gast' has no attribute 'Index'\n",
      "WARNING: Entity <bound method Dense.call of <tensorflow.python.layers.core.Dense object at 0x7fba39a734d0>> could not be transformed and will be executed as-is. Please report this to the AutgoGraph team. When filing the bug, set the verbosity to 10 (on Linux, `export AUTOGRAPH_VERBOSITY=10`) and attach the full output. Cause: converting <bound method Dense.call of <tensorflow.python.layers.core.Dense object at 0x7fba39a734d0>>: AttributeError: module 'gast' has no attribute 'Index'\n",
      "WARNING:tensorflow:Entity <bound method Dense.call of <tensorflow.python.layers.core.Dense object at 0x7fba39a734d0>> could not be transformed and will be executed as-is. Please report this to the AutgoGraph team. When filing the bug, set the verbosity to 10 (on Linux, `export AUTOGRAPH_VERBOSITY=10`) and attach the full output. Cause: converting <bound method Dense.call of <tensorflow.python.layers.core.Dense object at 0x7fba39a734d0>>: AttributeError: module 'gast' has no attribute 'Index'\n"
     ]
    },
    {
     "name": "stdout",
     "output_type": "stream",
     "text": [
      "WARNING: Entity <bound method Dense.call of <tensorflow.python.layers.core.Dense object at 0x7fba39a734d0>> could not be transformed and will be executed as-is. Please report this to the AutgoGraph team. When filing the bug, set the verbosity to 10 (on Linux, `export AUTOGRAPH_VERBOSITY=10`) and attach the full output. Cause: converting <bound method Dense.call of <tensorflow.python.layers.core.Dense object at 0x7fba39a734d0>>: AttributeError: module 'gast' has no attribute 'Index'\n",
      "WARNING:tensorflow:Entity <bound method Dense.call of <tensorflow.python.layers.core.Dense object at 0x7fba39a734d0>> could not be transformed and will be executed as-is. Please report this to the AutgoGraph team. When filing the bug, set the verbosity to 10 (on Linux, `export AUTOGRAPH_VERBOSITY=10`) and attach the full output. Cause: converting <bound method Dense.call of <tensorflow.python.layers.core.Dense object at 0x7fba39a734d0>>: AttributeError: module 'gast' has no attribute 'Index'\n",
      "WARNING: Entity <bound method Dense.call of <tensorflow.python.layers.core.Dense object at 0x7fba39a734d0>> could not be transformed and will be executed as-is. Please report this to the AutgoGraph team. When filing the bug, set the verbosity to 10 (on Linux, `export AUTOGRAPH_VERBOSITY=10`) and attach the full output. Cause: converting <bound method Dense.call of <tensorflow.python.layers.core.Dense object at 0x7fba39a734d0>>: AttributeError: module 'gast' has no attribute 'Index'\n",
      "WARNING:tensorflow:From /home/sheila/repos/ns-3-allinone/ns-3.29/scratch/RLinWiFi-master-original-queue-level-mean/agents/dqn/agent.py:77: The name tf.train.Saver is deprecated. Please use tf.compat.v1.train.Saver instead.\n",
      "\n",
      "Action space: 7\n",
      "WARNING:tensorflow:From /home/sheila/repos/ns-3-allinone/ns-3.29/scratch/RLinWiFi-master-original-queue-level-mean/agents/dqn/agent.py:107: Variable.load (from tensorflow.python.ops.variables) is deprecated and will be removed in a future version.\n",
      "Instructions for updating:\n",
      "Prefer Variable.assign which has equivalent behavior in 2.X.\n"
     ]
    },
    {
     "name": "stderr",
     "output_type": "stream",
     "text": [
      "COMET INFO: Experiment is live on comet.ml https://www.comet.com/sheila-janota/rl-in-wifi-with-queue-level/321d38a3a4db44bfb8e9c14e673df262\n",
      "\n"
     ]
    },
    {
     "name": "stdout",
     "output_type": "stream",
     "text": [
      "0\n",
      "41.070007|0|5|-nan\n"
     ]
    },
    {
     "name": "stderr",
     "output_type": "stream",
     "text": [
      "  5%|▌         | 333/6300 [02:02<41:15,  2.41it/s, curr_speed=28.48 Mbps, mb_sent=9.11 Mb]"
     ]
    },
    {
     "name": "stdout",
     "output_type": "stream",
     "text": [
      "------- STARTED TRAINING -------\n"
     ]
    },
    {
     "name": "stderr",
     "output_type": "stream",
     "text": [
      "100%|██████████| 6300/6300 [59:31<00:00,  1.76it/s, curr_speed=32.09 Mbps, mb_sent=1866.51 Mb]\n"
     ]
    },
    {
     "name": "stdout",
     "output_type": "stream",
     "text": [
      "Waiting for simulation script to connect on port: tcp://localhost:18732\n",
      "Please start proper ns-3 simulation script using ./waf --run \"...\"\n",
      "Sent 1866.51 Mb/s.\tMean speed: 31.11 Mb/s\tEpisode 1/15 finished\n",
      "\n",
      "1\n",
      "41.070007|0|5|-nan\n"
     ]
    },
    {
     "name": "stderr",
     "output_type": "stream",
     "text": [
      " 68%|██████▊   | 4295/6300 [36:06<20:13,  1.65it/s, curr_speed=34.49 Mbps, mb_sent=1336.46 Mb]COMET ERROR: File could not be uploaded\n",
      " 68%|██████▊   | 4302/6300 [36:11<21:57,  1.52it/s, curr_speed=34.48 Mbps, mb_sent=1338.85 Mb]COMET ERROR: File could not be uploaded\n",
      "100%|██████████| 6300/6300 [1:00:03<00:00,  1.75it/s, curr_speed=31.37 Mbps, mb_sent=2017.00 Mb]\n"
     ]
    },
    {
     "name": "stdout",
     "output_type": "stream",
     "text": [
      "Waiting for simulation script to connect on port: tcp://localhost:32807\n",
      "Please start proper ns-3 simulation script using ./waf --run \"...\"\n",
      "Sent 2017.00 Mb/s.\tMean speed: 33.62 Mb/s\tEpisode 2/15 finished\n",
      "\n",
      "2\n",
      "41.070007|0|5|-nan\n"
     ]
    },
    {
     "name": "stderr",
     "output_type": "stream",
     "text": [
      "100%|██████████| 6300/6300 [1:01:49<00:00,  1.70it/s, curr_speed=28.44 Mbps, mb_sent=2117.67 Mb]\n"
     ]
    },
    {
     "name": "stdout",
     "output_type": "stream",
     "text": [
      "Waiting for simulation script to connect on port: tcp://localhost:14741\n",
      "Please start proper ns-3 simulation script using ./waf --run \"...\"\n",
      "Sent 2117.67 Mb/s.\tMean speed: 35.29 Mb/s\tEpisode 3/15 finished\n",
      "\n",
      "3\n",
      "41.070007|0|5|-nan\n"
     ]
    },
    {
     "name": "stderr",
     "output_type": "stream",
     "text": [
      "  5%|▍         | 304/6300 [01:40<39:14,  2.55it/s, curr_speed=38.35 Mbps, mb_sent=1.15 Mb]"
     ]
    },
    {
     "name": "stdout",
     "output_type": "stream",
     "text": [
      "------- MEMORY BUFFER FILLED -------\n"
     ]
    },
    {
     "name": "stderr",
     "output_type": "stream",
     "text": [
      " 46%|████▋     | 2923/6300 [23:21<34:32,  1.63it/s, curr_speed=36.35 Mbps, mb_sent=957.01 Mb]COMET ERROR: File could not be uploaded\n",
      " 46%|████▋     | 2924/6300 [23:21<34:16,  1.64it/s, curr_speed=36.27 Mbps, mb_sent=957.37 Mb]COMET ERROR: File could not be uploaded\n",
      " 46%|████▋     | 2925/6300 [23:22<32:54,  1.71it/s, curr_speed=36.27 Mbps, mb_sent=957.75 Mb]COMET ERROR: File could not be uploaded\n",
      " 46%|████▋     | 2926/6300 [23:22<32:17,  1.74it/s, curr_speed=36.22 Mbps, mb_sent=958.08 Mb]COMET ERROR: File could not be uploaded\n",
      "100%|██████████| 6300/6300 [1:01:43<00:00,  1.70it/s, curr_speed=33.81 Mbps, mb_sent=2186.37 Mb]\n"
     ]
    },
    {
     "name": "stdout",
     "output_type": "stream",
     "text": [
      "Waiting for simulation script to connect on port: tcp://localhost:34224\n",
      "Please start proper ns-3 simulation script using ./waf --run \"...\"\n",
      "Sent 2186.37 Mb/s.\tMean speed: 36.44 Mb/s\tEpisode 4/15 finished\n",
      "\n",
      "4\n",
      "41.070007|0|5|-nan\n"
     ]
    },
    {
     "name": "stderr",
     "output_type": "stream",
     "text": [
      " 76%|███████▌  | 4781/6300 [43:08<18:31,  1.37it/s, curr_speed=36.57 Mbps, mb_sent=1670.81 Mb]COMET ERROR: File could not be uploaded\n",
      " 76%|███████▌  | 4782/6300 [43:08<18:08,  1.39it/s, curr_speed=36.55 Mbps, mb_sent=1671.18 Mb]COMET ERROR: File could not be uploaded\n",
      " 76%|███████▌  | 4783/6300 [43:09<17:48,  1.42it/s, curr_speed=36.57 Mbps, mb_sent=1671.54 Mb]COMET ERROR: File could not be uploaded\n",
      " 76%|███████▌  | 4789/6300 [43:13<17:39,  1.43it/s, curr_speed=36.52 Mbps, mb_sent=1673.64 Mb]COMET ERROR: File could not be uploaded\n",
      " 76%|███████▌  | 4790/6300 [43:14<17:13,  1.46it/s, curr_speed=36.43 Mbps, mb_sent=1673.96 Mb]COMET ERROR: File could not be uploaded\n",
      " 76%|███████▌  | 4791/6300 [43:15<16:47,  1.50it/s, curr_speed=36.45 Mbps, mb_sent=1674.34 Mb]COMET ERROR: File could not be uploaded\n",
      " 76%|███████▌  | 4792/6300 [43:15<16:37,  1.51it/s, curr_speed=36.51 Mbps, mb_sent=1674.66 Mb]COMET ERROR: File could not be uploaded\n",
      "100%|██████████| 6300/6300 [1:01:35<00:00,  1.70it/s, curr_speed=37.60 Mbps, mb_sent=2233.86 Mb]\n"
     ]
    },
    {
     "name": "stdout",
     "output_type": "stream",
     "text": [
      "Waiting for simulation script to connect on port: tcp://localhost:21428\n",
      "Please start proper ns-3 simulation script using ./waf --run \"...\"\n",
      "Sent 2233.86 Mb/s.\tMean speed: 37.23 Mb/s\tEpisode 5/15 finished\n",
      "\n",
      "5\n",
      "41.070007|0|5|-nan\n"
     ]
    },
    {
     "name": "stderr",
     "output_type": "stream",
     "text": [
      " 45%|████▌     | 2857/6300 [22:33<50:41,  1.13it/s, curr_speed=37.80 Mbps, mb_sent=966.59 Mb]COMET ERROR: File could not be uploaded\n",
      " 45%|████▌     | 2858/6300 [1:16:27<928:15:13, 970.86s/it, curr_speed=37.81 Mbps, mb_sent=966.96 Mb]COMET ERROR: File could not be uploaded\n",
      "COMET ERROR: File could not be uploaded\n",
      " 67%|██████▋   | 4220/6300 [1:30:18<22:03,  1.57it/s, curr_speed=33.81 Mbps, mb_sent=1473.18 Mb]    COMET ERROR: File could not be uploaded\n",
      " 67%|██████▋   | 4226/6300 [1:30:22<23:52,  1.45it/s, curr_speed=33.65 Mbps, mb_sent=1475.14 Mb]COMET ERROR: File could not be uploaded\n",
      " 67%|██████▋   | 4227/6300 [1:30:22<23:37,  1.46it/s, curr_speed=33.65 Mbps, mb_sent=1475.47 Mb]COMET ERROR: File could not be uploaded\n",
      " 67%|██████▋   | 4228/6300 [1:30:23<23:05,  1.50it/s, curr_speed=33.63 Mbps, mb_sent=1475.78 Mb]COMET ERROR: File could not be uploaded\n",
      "100%|██████████| 6300/6300 [1:54:45<00:00,  1.09s/it, curr_speed=37.22 Mbps, mb_sent=2255.18 Mb]\n"
     ]
    },
    {
     "name": "stdout",
     "output_type": "stream",
     "text": [
      "Waiting for simulation script to connect on port: tcp://localhost:53664\n",
      "Please start proper ns-3 simulation script using ./waf --run \"...\"\n",
      "Sent 2255.18 Mb/s.\tMean speed: 37.59 Mb/s\tEpisode 6/15 finished\n",
      "\n",
      "6\n",
      "41.070007|0|5|-nan\n"
     ]
    },
    {
     "name": "stderr",
     "output_type": "stream",
     "text": [
      " 30%|███       | 1919/6300 [13:37<32:18,  2.26it/s, curr_speed=38.03 Mbps, mb_sent=613.81 Mb]  COMET ERROR: File could not be uploaded\n",
      "COMET ERROR: File could not be uploaded\n",
      " 30%|███       | 1920/6300 [13:37<36:43,  1.99it/s, curr_speed=38.01 Mbps, mb_sent=614.17 Mb]COMET ERROR: File could not be uploaded\n",
      "COMET ERROR: File could not be uploaded\n",
      "COMET ERROR: File could not be uploaded\n",
      "COMET ERROR: File could not be uploaded\n",
      "COMET ERROR: File could not be uploaded\n",
      " 31%|███       | 1922/6300 [13:41<1:17:08,  1.06s/it, curr_speed=38.02 Mbps, mb_sent=614.91 Mb]COMET ERROR: File could not be uploaded\n",
      " 31%|███       | 1923/6300 [13:41<1:06:24,  1.10it/s, curr_speed=38.03 Mbps, mb_sent=615.31 Mb]COMET ERROR: File could not be uploaded\n",
      " 31%|███       | 1932/6300 [13:46<40:09,  1.81it/s, curr_speed=38.02 Mbps, mb_sent=618.76 Mb]  COMET ERROR: File could not be uploaded\n",
      " 31%|███       | 1951/6300 [13:57<36:38,  1.98it/s, curr_speed=38.02 Mbps, mb_sent=626.11 Mb]COMET ERROR: File could not be uploaded\n",
      " 31%|███▏      | 1972/6300 [14:09<37:20,  1.93it/s, curr_speed=38.08 Mbps, mb_sent=634.29 Mb]COMET ERROR: File could not be uploaded\n",
      "COMET ERROR: File could not be uploaded\n",
      "COMET ERROR: File could not be uploaded\n",
      " 31%|███▏      | 1974/6300 [14:10<39:44,  1.81it/s, curr_speed=38.08 Mbps, mb_sent=635.05 Mb]COMET ERROR: File could not be uploaded\n",
      "COMET ERROR: File could not be uploaded\n",
      " 31%|███▏      | 1976/6300 [14:11<37:24,  1.93it/s, curr_speed=38.10 Mbps, mb_sent=635.83 Mb]COMET ERROR: File could not be uploaded\n",
      " 31%|███▏      | 1977/6300 [14:11<36:42,  1.96it/s, curr_speed=38.09 Mbps, mb_sent=636.20 Mb]COMET ERROR: File could not be uploaded\n",
      " 31%|███▏      | 1981/6300 [14:13<32:54,  2.19it/s, curr_speed=38.00 Mbps, mb_sent=637.66 Mb]COMET ERROR: File could not be uploaded\n",
      " 32%|███▏      | 1987/6300 [14:16<35:55,  2.00it/s, curr_speed=38.22 Mbps, mb_sent=639.98 Mb]COMET ERROR: File could not be uploaded\n",
      " 32%|███▏      | 1988/6300 [14:17<37:43,  1.90it/s, curr_speed=38.21 Mbps, mb_sent=640.39 Mb]COMET ERROR: File could not be uploaded\n",
      " 32%|███▏      | 1998/6300 [14:25<55:25,  1.29it/s, curr_speed=38.43 Mbps, mb_sent=644.22 Mb]  COMET ERROR: File could not be uploaded\n",
      " 32%|███▏      | 2001/6300 [14:26<48:43,  1.47it/s, curr_speed=38.52 Mbps, mb_sent=645.45 Mb]COMET ERROR: File could not be uploaded\n",
      " 32%|███▏      | 2003/6300 [14:28<47:16,  1.51it/s, curr_speed=38.50 Mbps, mb_sent=646.21 Mb]COMET ERROR: File could not be uploaded\n",
      " 32%|███▏      | 2005/6300 [14:29<43:24,  1.65it/s, curr_speed=38.56 Mbps, mb_sent=647.00 Mb]COMET ERROR: File could not be uploaded\n",
      " 32%|███▏      | 2015/6300 [14:34<37:22,  1.91it/s, curr_speed=38.47 Mbps, mb_sent=650.72 Mb]COMET ERROR: File could not be uploaded\n",
      " 32%|███▏      | 2018/6300 [14:36<37:21,  1.91it/s, curr_speed=38.47 Mbps, mb_sent=651.89 Mb]COMET ERROR: File could not be uploaded\n",
      " 32%|███▏      | 2021/6300 [14:37<36:20,  1.96it/s, curr_speed=38.47 Mbps, mb_sent=653.01 Mb]COMET ERROR: File could not be uploaded\n",
      " 32%|███▏      | 2043/6300 [14:50<36:29,  1.94it/s, curr_speed=38.20 Mbps, mb_sent=661.31 Mb]COMET ERROR: File could not be uploaded\n",
      "COMET ERROR: File could not be uploaded\n",
      "COMET ERROR: File could not be uploaded\n",
      "COMET ERROR: File could not be uploaded\n",
      "COMET ERROR: File could not be uploaded\n",
      "COMET ERROR: File could not be uploaded\n",
      " 32%|███▏      | 2044/6300 [14:50<38:40,  1.83it/s, curr_speed=38.20 Mbps, mb_sent=661.70 Mb]COMET ERROR: File could not be uploaded\n",
      " 33%|███▎      | 2054/6300 [14:55<35:02,  2.02it/s, curr_speed=38.37 Mbps, mb_sent=665.59 Mb]COMET ERROR: File could not be uploaded\n",
      " 33%|███▎      | 2059/6300 [14:58<38:25,  1.84it/s, curr_speed=38.42 Mbps, mb_sent=667.59 Mb]COMET ERROR: File could not be uploaded\n",
      "COMET ERROR: File could not be uploaded\n",
      " 33%|███▎      | 2064/6300 [15:01<35:38,  1.98it/s, curr_speed=38.40 Mbps, mb_sent=669.55 Mb]COMET ERROR: File could not be uploaded\n",
      " 33%|███▎      | 2066/6300 [15:02<36:55,  1.91it/s, curr_speed=38.40 Mbps, mb_sent=670.34 Mb]COMET ERROR: File could not be uploaded\n",
      " 33%|███▎      | 2087/6300 [15:12<32:50,  2.14it/s, curr_speed=38.27 Mbps, mb_sent=678.24 Mb]COMET ERROR: File could not be uploaded\n",
      " 33%|███▎      | 2093/6300 [15:15<34:14,  2.05it/s, curr_speed=38.33 Mbps, mb_sent=680.64 Mb]COMET ERROR: File could not be uploaded\n",
      " 33%|███▎      | 2095/6300 [15:16<36:02,  1.94it/s, curr_speed=38.36 Mbps, mb_sent=681.42 Mb]COMET ERROR: File could not be uploaded\n",
      " 35%|███▍      | 2180/6300 [16:01<36:17,  1.89it/s, curr_speed=38.14 Mbps, mb_sent=713.78 Mb]  COMET ERROR: File could not be uploaded\n",
      " 35%|███▍      | 2181/6300 [16:02<35:47,  1.92it/s, curr_speed=38.14 Mbps, mb_sent=714.13 Mb]COMET ERROR: File could not be uploaded\n",
      "COMET ERROR: File could not be uploaded\n",
      "COMET ERROR: File could not be uploaded\n",
      "COMET ERROR: File could not be uploaded\n",
      "COMET ERROR: File could not be uploaded\n",
      " 35%|███▍      | 2182/6300 [16:02<38:09,  1.80it/s, curr_speed=38.09 Mbps, mb_sent=714.50 Mb]COMET ERROR: File could not be uploaded\n",
      " 35%|███▍      | 2183/6300 [16:03<39:57,  1.72it/s, curr_speed=38.09 Mbps, mb_sent=714.89 Mb]COMET ERROR: File could not be uploaded\n",
      "COMET ERROR: File could not be uploaded\n",
      "COMET ERROR: File could not be uploaded\n",
      " 35%|███▍      | 2184/6300 [16:04<39:56,  1.72it/s, curr_speed=38.12 Mbps, mb_sent=715.28 Mb]COMET ERROR: File could not be uploaded\n",
      " 35%|███▍      | 2185/6300 [16:04<38:08,  1.80it/s, curr_speed=38.17 Mbps, mb_sent=715.68 Mb]COMET ERROR: File could not be uploaded\n",
      " 35%|███▍      | 2186/6300 [16:05<36:04,  1.90it/s, curr_speed=38.18 Mbps, mb_sent=716.04 Mb]COMET ERROR: File could not be uploaded\n",
      "COMET ERROR: File could not be uploaded\n",
      "COMET ERROR: File could not be uploaded\n",
      " 35%|███▍      | 2188/6300 [16:06<34:40,  1.98it/s, curr_speed=38.24 Mbps, mb_sent=716.85 Mb]COMET ERROR: File could not be uploaded\n",
      "COMET ERROR: File could not be uploaded\n",
      " 35%|███▍      | 2189/6300 [16:06<34:50,  1.97it/s, curr_speed=38.24 Mbps, mb_sent=717.25 Mb]COMET ERROR: File could not be uploaded\n",
      "COMET ERROR: File could not be uploaded\n",
      "COMET ERROR: File could not be uploaded\n",
      " 35%|███▌      | 2209/6300 [16:16<47:59,  1.42it/s, curr_speed=38.19 Mbps, mb_sent=725.00 Mb]COMET ERROR: File could not be uploaded\n",
      " 35%|███▌      | 2222/6300 [16:23<38:10,  1.78it/s, curr_speed=38.09 Mbps, mb_sent=729.73 Mb]COMET ERROR: File could not be uploaded\n",
      " 36%|███▌      | 2241/6300 [16:32<31:43,  2.13it/s, curr_speed=38.17 Mbps, mb_sent=737.00 Mb]COMET ERROR: File could not be uploaded\n",
      "100%|██████████| 6300/6300 [55:09<00:00,  1.90it/s, curr_speed=56.98 Mbps, mb_sent=2268.07 Mb]\n"
     ]
    },
    {
     "name": "stdout",
     "output_type": "stream",
     "text": [
      "Waiting for simulation script to connect on port: tcp://localhost:25130\n",
      "Please start proper ns-3 simulation script using ./waf --run \"...\"\n",
      "Sent 2268.07 Mb/s.\tMean speed: 37.80 Mb/s\tEpisode 7/15 finished\n",
      "\n",
      "7\n",
      "41.070007|0|5|-nan\n"
     ]
    },
    {
     "name": "stderr",
     "output_type": "stream",
     "text": [
      "100%|██████████| 6300/6300 [1:04:41<00:00,  1.62it/s, curr_speed=37.46 Mbps, mb_sent=2274.35 Mb]\n"
     ]
    },
    {
     "name": "stdout",
     "output_type": "stream",
     "text": [
      "Waiting for simulation script to connect on port: tcp://localhost:43768\n",
      "Please start proper ns-3 simulation script using ./waf --run \"...\"\n",
      "Sent 2274.35 Mb/s.\tMean speed: 37.91 Mb/s\tEpisode 8/15 finished\n",
      "\n",
      "8\n",
      "41.070007|0|5|-nan\n"
     ]
    },
    {
     "name": "stderr",
     "output_type": "stream",
     "text": [
      " 96%|█████████▋| 6067/6300 [59:15<02:43,  1.42it/s, curr_speed=37.28 Mbps, mb_sent=2191.13 Mb]COMET ERROR: File could not be uploaded\n",
      " 96%|█████████▋| 6075/6300 [59:21<02:58,  1.26it/s, curr_speed=37.22 Mbps, mb_sent=2194.08 Mb]COMET ERROR: File could not be uploaded\n",
      " 96%|█████████▋| 6076/6300 [59:22<02:53,  1.29it/s, curr_speed=37.15 Mbps, mb_sent=2194.43 Mb]COMET ERROR: File could not be uploaded\n",
      "100%|██████████| 6300/6300 [1:02:15<00:00,  1.69it/s, curr_speed=37.33 Mbps, mb_sent=2277.85 Mb]\n"
     ]
    },
    {
     "name": "stdout",
     "output_type": "stream",
     "text": [
      "Waiting for simulation script to connect on port: tcp://localhost:42578\n",
      "Please start proper ns-3 simulation script using ./waf --run \"...\"\n",
      "Sent 2277.85 Mb/s.\tMean speed: 37.96 Mb/s\tEpisode 9/15 finished\n",
      "\n",
      "9\n",
      "41.070007|0|5|-nan\n"
     ]
    },
    {
     "name": "stderr",
     "output_type": "stream",
     "text": [
      " 97%|█████████▋| 6091/6300 [59:34<02:34,  1.35it/s, curr_speed=36.94 Mbps, mb_sent=2203.24 Mb]  COMET ERROR: File could not be uploaded\n",
      " 97%|█████████▋| 6092/6300 [59:34<02:33,  1.36it/s, curr_speed=36.97 Mbps, mb_sent=2203.65 Mb]COMET ERROR: File could not be uploaded\n",
      " 97%|█████████▋| 6093/6300 [59:35<02:29,  1.38it/s, curr_speed=37.02 Mbps, mb_sent=2204.06 Mb]COMET ERROR: File could not be uploaded\n",
      " 97%|█████████▋| 6138/6300 [1:00:10<03:36,  1.34s/it, curr_speed=37.56 Mbps, mb_sent=2221.05 Mb]COMET ERROR: File could not be uploaded\n",
      "COMET ERROR: File could not be uploaded\n",
      "100%|██████████| 6300/6300 [2:47:43<00:00,  1.60s/it, curr_speed=37.41 Mbps, mb_sent=2281.20 Mb]     \n"
     ]
    },
    {
     "name": "stdout",
     "output_type": "stream",
     "text": [
      "Waiting for simulation script to connect on port: tcp://localhost:17098\n",
      "Please start proper ns-3 simulation script using ./waf --run \"...\"\n",
      "Sent 2281.20 Mb/s.\tMean speed: 38.02 Mb/s\tEpisode 10/15 finished\n",
      "\n",
      "10\n",
      "41.070007|0|5|-nan\n"
     ]
    },
    {
     "name": "stderr",
     "output_type": "stream",
     "text": [
      " 93%|█████████▎| 5849/6300 [54:03<05:41,  1.32it/s, curr_speed=37.82 Mbps, mb_sent=2114.78 Mb]COMET ERROR: File could not be uploaded\n",
      " 93%|█████████▎| 5850/6300 [54:03<05:35,  1.34it/s, curr_speed=37.80 Mbps, mb_sent=2115.14 Mb]COMET ERROR: File could not be uploaded\n",
      " 93%|█████████▎| 5851/6300 [54:04<05:42,  1.31it/s, curr_speed=37.79 Mbps, mb_sent=2115.52 Mb]COMET ERROR: File could not be uploaded\n",
      "100%|██████████| 6300/6300 [59:30<00:00,  1.76it/s, curr_speed=37.94 Mbps, mb_sent=2285.30 Mb]\n"
     ]
    },
    {
     "name": "stdout",
     "output_type": "stream",
     "text": [
      "Waiting for simulation script to connect on port: tcp://localhost:45350\n",
      "Please start proper ns-3 simulation script using ./waf --run \"...\"\n",
      "Sent 2285.30 Mb/s.\tMean speed: 38.09 Mb/s\tEpisode 11/15 finished\n",
      "\n",
      "11\n",
      "41.070007|0|5|-nan\n"
     ]
    },
    {
     "name": "stderr",
     "output_type": "stream",
     "text": [
      "100%|██████████| 6300/6300 [1:02:34<00:00,  1.68it/s, curr_speed=38.15 Mbps, mb_sent=2281.27 Mb]\n"
     ]
    },
    {
     "name": "stdout",
     "output_type": "stream",
     "text": [
      "Waiting for simulation script to connect on port: tcp://localhost:32969\n",
      "Please start proper ns-3 simulation script using ./waf --run \"...\"\n",
      "WARNING:tensorflow:From /home/sheila/anaconda3/envs/environment_py3_7/lib/python3.7/site-packages/tensorflow/python/training/saver.py:960: remove_checkpoint (from tensorflow.python.training.checkpoint_management) is deprecated and will be removed in a future version.\n",
      "Instructions for updating:\n",
      "Use standard file APIs to delete files with this prefix.\n",
      "Sent 2281.27 Mb/s.\tMean speed: 38.02 Mb/s\tEpisode 12/15 finished\n",
      "\n",
      "12\n",
      "Turning off noise\n",
      "41.070007|0|5|-nan\n"
     ]
    },
    {
     "name": "stderr",
     "output_type": "stream",
     "text": [
      "100%|██████████| 6300/6300 [1:09:10<00:00,  1.52it/s, curr_speed=38.56 Mbps, mb_sent=2287.70 Mb]\n"
     ]
    },
    {
     "name": "stdout",
     "output_type": "stream",
     "text": [
      "Waiting for simulation script to connect on port: tcp://localhost:52752\n",
      "Please start proper ns-3 simulation script using ./waf --run \"...\"\n",
      "Sent 2287.70 Mb/s.\tMean speed: 38.13 Mb/s\tEpisode 13/15 finished\n",
      "\n",
      "13\n",
      "Turning off noise\n",
      "41.070007|0|5|-nan\n"
     ]
    },
    {
     "name": "stderr",
     "output_type": "stream",
     "text": [
      "100%|██████████| 6300/6300 [1:01:58<00:00,  1.69it/s, curr_speed=37.99 Mbps, mb_sent=2286.48 Mb]\n"
     ]
    },
    {
     "name": "stdout",
     "output_type": "stream",
     "text": [
      "Waiting for simulation script to connect on port: tcp://localhost:47960\n",
      "Please start proper ns-3 simulation script using ./waf --run \"...\"\n",
      "Sent 2286.48 Mb/s.\tMean speed: 38.11 Mb/s\tEpisode 14/15 finished\n",
      "\n",
      "14\n",
      "Turning off noise\n",
      "41.070007|0|5|-nan\n"
     ]
    },
    {
     "name": "stderr",
     "output_type": "stream",
     "text": [
      " 78%|███████▊  | 4888/6300 [46:40<1:10:03,  2.98s/it, curr_speed=37.31 Mbps, mb_sent=1752.20 Mb]COMET ERROR: File could not be uploaded\n",
      "COMET ERROR: File could not be uploaded\n",
      " 78%|███████▊  | 4892/6300 [46:47<45:01,  1.92s/it, curr_speed=37.43 Mbps, mb_sent=1753.70 Mb]  COMET ERROR: File could not be uploaded\n",
      " 87%|████████▋ | 5476/6300 [56:01<09:59,  1.37it/s, curr_speed=48.49 Mbps, mb_sent=1973.61 Mb]  COMET ERROR: File could not be uploaded\n",
      " 87%|████████▋ | 5484/6300 [56:07<10:20,  1.31it/s, curr_speed=48.71 Mbps, mb_sent=1976.70 Mb]COMET ERROR: File could not be uploaded\n",
      " 87%|████████▋ | 5485/6300 [56:08<10:12,  1.33it/s, curr_speed=48.73 Mbps, mb_sent=1977.07 Mb]COMET ERROR: File could not be uploaded\n",
      " 87%|████████▋ | 5487/6300 [56:09<09:42,  1.40it/s, curr_speed=48.75 Mbps, mb_sent=1977.83 Mb]COMET ERROR: File could not be uploaded\n",
      "100%|██████████| 6300/6300 [1:07:00<00:00,  1.57it/s, curr_speed=38.14 Mbps, mb_sent=2286.38 Mb]\n"
     ]
    },
    {
     "name": "stdout",
     "output_type": "stream",
     "text": [
      "Waiting for simulation script to connect on port: tcp://localhost:39717\n",
      "Please start proper ns-3 simulation script using ./waf --run \"...\"\n"
     ]
    },
    {
     "name": "stderr",
     "output_type": "stream",
     "text": [
      "COMET INFO: ----------------------------\n",
      "COMET INFO: Comet.ml Experiment Summary:\n",
      "COMET INFO:   Data:\n",
      "COMET INFO:     url: https://www.comet.com/sheila-janota/rl-in-wifi-with-queue-level/321d38a3a4db44bfb8e9c14e673df262\n",
      "COMET INFO:   Metrics [count] (min, max):\n",
      "COMET INFO:     Chosen CW [89985]           : (16.0, 1024.0)\n",
      "COMET INFO:     Cumulative reward [15]      : (2512.4375, 3200.846923828125)\n",
      "COMET INFO:     Current throughput [89985]  : (15.637200355529785, 57.053462982177734)\n",
      "COMET INFO:     Fairness index [89985]      : (0.07390300184488297, 0.999530017375946)\n",
      "COMET INFO:     Megabytes sent [89985]      : (0.15637199580669403, 2287.7010071873665)\n",
      "COMET INFO:     Observation 0 [89985]       : (0.28958749976009135, 0.937497916618983)\n",
      "COMET INFO:     Observation 1 [89985]       : (0.0, 0.04271111852925974)\n",
      "COMET INFO:     Per-ep reward [89985]       : (115.71533203125, 3200.846923828125)\n",
      "COMET INFO:     Round megabytes sent [89985]: (0.06701699644327164, 11.839599609375)\n",
      "COMET INFO:     Round reward [89985]        : (0.08935546875, 0.610595703125)\n",
      "COMET INFO:     Speed [15]                  : (31.108548067261776, 38.12835011978944)\n",
      "COMET INFO:     Station count [89985]       : (5.0, 15.0)\n",
      "COMET INFO:     loss [89985]                : (0.0, 0.1673845648765564)\n",
      "COMET INFO:   Uploads:\n",
      "COMET INFO:     histogram3d: 89985\n",
      "COMET INFO: ----------------------------\n"
     ]
    },
    {
     "name": "stdout",
     "output_type": "stream",
     "text": [
      "Sent 2286.38 Mb/s.\tMean speed: 38.11 Mb/s\tEpisode 15/15 finished\n",
      "\n"
     ]
    },
    {
     "name": "stderr",
     "output_type": "stream",
     "text": [
      "COMET INFO: Uploading stats to Comet before program termination (may take several seconds)\n"
     ]
    },
    {
     "name": "stdout",
     "output_type": "stream",
     "text": [
      "Training finished.\n"
     ]
    }
   ],
   "source": [
    "### %%\n",
    "teacher = Teacher(env, 1, Preprocessor(False))\n",
    "\n",
    "lr = 4e-4\n",
    "config = Config(buffer_size=3*steps_per_ep*threads_no, batch_size=32, gamma=0.7, tau=1e-3, lr=lr, update_every=1)\n",
    "agent = Agent(QNetworkTf, history_length, action_size=7, config=config)\n",
    "agent.set_epsilon(0.9, 0.001, EPISODE_COUNT-2)\n",
    "\n",
    "# Test the model\n",
    "hyperparams = {**config.__dict__, **sim_args}\n",
    "tags = [\"Rew: normalized speed\",\n",
    "        \"Final\",\n",
    "        f\"{Agent.NAME}\",\n",
    "        sim_args['scenario'],\n",
    "        f\"LR: {lr}\",\n",
    "        f\"Instances: {threads_no}\",\n",
    "        f\"Station count: {sim_args['nWifi']}\",\n",
    "        *[f\"{key}: {sim_args[key]}\" for key in list(sim_args)[:3]]]\n",
    "# # agent.save()\n",
    "logger = teacher.train(agent, EPISODE_COUNT,\n",
    "                        simTime=simTime,\n",
    "                        stepTime=stepTime,\n",
    "                        history_length=history_length,\n",
    "                        send_logs=True,\n",
    "                        experimental=True,\n",
    "                        tags=tags,\n",
    "                        parameters=hyperparams)\n",
    "#logger = teacher.eval(agent,\n",
    "#                        simTime=simTime,\n",
    "#                        stepTime=stepTime,\n",
    "#                        history_length=history_length,\n",
    "#                        tags=tags,\n",
    "#                        parameters=hyperparams)\n",
    "# agent.save()\n",
    "\n",
    "\n",
    "# %%"
   ]
  },
  {
   "cell_type": "code",
   "execution_count": null,
   "id": "dbd7438a",
   "metadata": {},
   "outputs": [],
   "source": []
  }
 ],
 "metadata": {
  "kernelspec": {
   "display_name": "Python 3 (ipykernel)",
   "language": "python",
   "name": "python3"
  },
  "language_info": {
   "codemirror_mode": {
    "name": "ipython",
    "version": 3
   },
   "file_extension": ".py",
   "mimetype": "text/x-python",
   "name": "python",
   "nbconvert_exporter": "python",
   "pygments_lexer": "ipython3",
   "version": "3.7.10"
  }
 },
 "nbformat": 4,
 "nbformat_minor": 5
}
