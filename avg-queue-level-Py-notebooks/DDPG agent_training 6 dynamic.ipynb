{
 "cells": [
  {
   "cell_type": "markdown",
   "id": "05b1bc02",
   "metadata": {},
   "source": [
    "# Execution num1:"
   ]
  },
  {
   "cell_type": "code",
   "execution_count": 1,
   "id": "09f73334",
   "metadata": {},
   "outputs": [],
   "source": [
    "#%%\n",
    "from ns3gym import ns3env\n",
    "from comet_ml import Experiment, Optimizer\n",
    "import tqdm\n",
    "import subprocess\n",
    "from collections import deque\n",
    "import numpy as np\n",
    "\n",
    "from agents.ddpg.agent import Agent, Config\n",
    "from agents.ddpg.model import Actor\n",
    "from agents.teacher import Teacher, EnvWrapper\n",
    "from preprocessor import Preprocessor\n"
   ]
  },
  {
   "cell_type": "code",
   "execution_count": 2,
   "id": "15679efc",
   "metadata": {},
   "outputs": [
    {
     "name": "stdout",
     "output_type": "stream",
     "text": [
      "Steps per episode: 6000\n",
      "Waiting for simulation script to connect on port: tcp://localhost:16555\n",
      "Please start proper ns-3 simulation script using ./waf --run \"...\"\n",
      "Waf: Entering directory `/home/samuel/ns-allinone-3.29/ns-3.29/build'\n",
      "Waf: Leaving directory `/home/samuel/ns-allinone-3.29/ns-3.29/build'\n",
      "Build commands will be stored in build/compile_commands.json\n",
      "'build' finished successfully (2.409s)\n"
     ]
    },
    {
     "name": "stderr",
     "output_type": "stream",
     "text": [
      "Ns3Env parameters:\n",
      "--nWifi: 6\n",
      "--simulationTime: 60\n",
      "--openGymPort: 16555\n",
      "--envStepTime: 0.01\n",
      "--seed: 42\n",
      "--agentType: continuous\n",
      "--scenario: convergence\n",
      "--dryRun: 0\n",
      "Simulation started\n"
     ]
    },
    {
     "name": "stdout",
     "output_type": "stream",
     "text": [
      "Observation space shape: (1, 300)\n",
      "Action space shape: (1, 1)\n"
     ]
    },
    {
     "name": "stderr",
     "output_type": "stream",
     "text": [
      "Simulation process id: 467590 (parent (waf shell) id: 467567)\n",
      "Waiting for Python process to connect on port: tcp://localhost:16555\n",
      "Please start proper Python Gym Agent\n"
     ]
    }
   ],
   "source": [
    "#%%\n",
    "scenario = \"convergence\"\n",
    "\n",
    "simTime = 60 # seconds\n",
    "stepTime = 0.01  # seconds\n",
    "history_length = 300\n",
    "\n",
    "EPISODE_COUNT = 15\n",
    "steps_per_ep = int(simTime/stepTime)\n",
    "\n",
    "sim_args = {\n",
    "    \"simTime\": simTime,\n",
    "    \"envStepTime\": stepTime,\n",
    "    \"historyLength\": history_length,\n",
    "    \"agentType\": Agent.TYPE,\n",
    "    \"scenario\": \"convergence\",\n",
    "    \"nWifi\": 6,\n",
    "}\n",
    "\n",
    "print(\"Steps per episode:\", steps_per_ep)\n",
    "\n",
    "threads_no = 1\n",
    "env = EnvWrapper(threads_no, **sim_args)\n",
    "\n",
    "#%%\n",
    "env.reset()\n",
    "ob_space = env.observation_space\n",
    "ac_space = env.action_space\n",
    "\n",
    "print(\"Observation space shape:\", ob_space)\n",
    "print(\"Action space shape:\", ac_space)\n",
    "\n",
    "assert ob_space is not None"
   ]
  },
  {
   "cell_type": "code",
   "execution_count": 3,
   "id": "4d011818",
   "metadata": {
    "scrolled": true
   },
   "outputs": [
    {
     "name": "stdout",
     "output_type": "stream",
     "text": [
      "CuDNN version: 7102\n",
      "cpu\n"
     ]
    },
    {
     "name": "stderr",
     "output_type": "stream",
     "text": [
      "COMET INFO: Experiment is live on comet.ml https://www.comet.com/sheila-janota/rl-in-wifi-with-queue-level/dbebfbcbd1cd45d5a5bd10b2ba3906fb\n",
      "\n",
      "  0%|          | 1/6300 [00:00<16:04,  6.53it/s, curr_speed=0.00 Mbps, mb_sent=0.00 Mb]"
     ]
    },
    {
     "name": "stdout",
     "output_type": "stream",
     "text": [
      "0\n"
     ]
    },
    {
     "name": "stderr",
     "output_type": "stream",
     "text": [
      "  5%|▌         | 333/6300 [01:16<26:33,  3.74it/s, curr_speed=33.33 Mbps, mb_sent=10.67 Mb]"
     ]
    },
    {
     "name": "stdout",
     "output_type": "stream",
     "text": [
      "------- STARTED TRAINING -------\n"
     ]
    },
    {
     "name": "stderr",
     "output_type": "stream",
     "text": [
      "100%|██████████| 6300/6300 [7:44:13<00:00,  4.42s/it, curr_speed=25.69 Mbps, mb_sent=1903.82 Mb]  \n"
     ]
    },
    {
     "name": "stdout",
     "output_type": "stream",
     "text": [
      "Waiting for simulation script to connect on port: tcp://localhost:43856\n",
      "Please start proper ns-3 simulation script using ./waf --run \"...\"\n",
      "Waf: Entering directory `/home/samuel/ns-allinone-3.29/ns-3.29/build'\n",
      "Waf: Leaving directory `/home/samuel/ns-allinone-3.29/ns-3.29/build'\n",
      "Build commands will be stored in build/compile_commands.json\n",
      "'build' finished successfully (3.842s)\n"
     ]
    },
    {
     "name": "stderr",
     "output_type": "stream",
     "text": [
      "Ns3Env parameters:\n",
      "--nWifi: 6\n",
      "--simulationTime: 60\n",
      "--openGymPort: 43856\n",
      "--envStepTime: 0.01\n",
      "--seed: 42\n",
      "--agentType: continuous\n",
      "--scenario: convergence\n",
      "--dryRun: 0\n",
      "Simulation started\n",
      "Simulation process id: 679947 (parent (waf shell) id: 679894)\n",
      "Waiting for Python process to connect on port: tcp://localhost:43856\n",
      "Please start proper Python Gym Agent\n",
      "  0%|          | 0/6300 [00:00<?, ?it/s]"
     ]
    },
    {
     "name": "stdout",
     "output_type": "stream",
     "text": [
      "Sent 1903.82 Mb/s.\tMean speed: 31.73 Mb/s\tEpisode 1/15 finished\n",
      "\n",
      "1\n"
     ]
    },
    {
     "name": "stderr",
     "output_type": "stream",
     "text": [
      " 39%|███▉      | 2470/6300 [2:51:50<5:02:21,  4.74s/it, curr_speed=34.50 Mbps, mb_sent=729.99 Mb]COMET ERROR: File could not be uploaded\n",
      " 50%|█████     | 3170/6300 [3:46:52<4:06:20,  4.72s/it, curr_speed=33.96 Mbps, mb_sent=966.42 Mb]COMET ERROR: File could not be uploaded\n",
      " 50%|█████     | 3171/6300 [3:46:57<4:08:34,  4.77s/it, curr_speed=33.93 Mbps, mb_sent=966.82 Mb]COMET ERROR: File could not be uploaded\n",
      " 50%|█████     | 3173/6300 [3:47:06<4:01:46,  4.64s/it, curr_speed=33.93 Mbps, mb_sent=967.59 Mb]COMET ERROR: File could not be uploaded\n",
      "COMET ERROR: File could not be uploaded\n",
      " 50%|█████     | 3173/6300 [3:47:10<4:01:46,  4.64s/it, curr_speed=33.69 Mbps, mb_sent=967.72 Mb]COMET ERROR: File could not be uploaded\n",
      " 50%|█████     | 3174/6300 [3:47:14<3:53:42,  4.49s/it, curr_speed=33.53 Mbps, mb_sent=967.91 Mb]COMET ERROR: File could not be uploaded\n",
      " 50%|█████     | 3176/6300 [3:47:18<3:40:53,  4.24s/it, curr_speed=33.27 Mbps, mb_sent=968.00 Mb]COMET ERROR: File could not be uploaded\n",
      " 50%|█████     | 3177/6300 [3:47:23<3:47:42,  4.37s/it, curr_speed=33.25 Mbps, mb_sent=968.37 Mb]COMET ERROR: File could not be uploaded\n",
      " 50%|█████     | 3177/6300 [3:47:27<3:47:42,  4.37s/it, curr_speed=33.30 Mbps, mb_sent=968.76 Mb]COMET ERROR: File could not be uploaded\n",
      " 50%|█████     | 3179/6300 [3:47:31<3:44:18,  4.31s/it, curr_speed=33.08 Mbps, mb_sent=968.88 Mb]COMET ERROR: File could not be uploaded\n",
      " 50%|█████     | 3180/6300 [3:47:36<3:53:06,  4.48s/it, curr_speed=33.30 Mbps, mb_sent=969.23 Mb]COMET ERROR: File could not be uploaded\n",
      " 50%|█████     | 3180/6300 [3:47:41<3:53:06,  4.48s/it, curr_speed=33.23 Mbps, mb_sent=969.53 Mb]COMET ERROR: File could not be uploaded\n",
      " 50%|█████     | 3181/6300 [3:47:46<3:59:59,  4.62s/it, curr_speed=33.40 Mbps, mb_sent=969.95 Mb]COMET ERROR: File could not be uploaded\n",
      " 51%|█████     | 3183/6300 [3:47:51<4:09:54,  4.81s/it, curr_speed=33.35 Mbps, mb_sent=970.31 Mb]COMET ERROR: File could not be uploaded\n",
      " 51%|█████     | 3184/6300 [3:47:57<4:19:16,  4.99s/it, curr_speed=33.33 Mbps, mb_sent=970.67 Mb]COMET ERROR: File could not be uploaded\n",
      " 51%|█████     | 3185/6300 [3:48:03<4:33:19,  5.26s/it, curr_speed=33.15 Mbps, mb_sent=970.80 Mb]COMET ERROR: File could not be uploaded\n",
      " 51%|█████     | 3186/6300 [3:48:08<4:34:35,  5.29s/it, curr_speed=33.18 Mbps, mb_sent=971.17 Mb]COMET ERROR: File could not be uploaded\n",
      " 51%|█████     | 3186/6300 [3:48:13<4:34:35,  5.29s/it, curr_speed=33.21 Mbps, mb_sent=971.57 Mb]COMET ERROR: File could not be uploaded\n",
      " 51%|█████     | 3188/6300 [3:48:19<4:35:44,  5.32s/it, curr_speed=33.22 Mbps, mb_sent=971.94 Mb]COMET ERROR: File could not be uploaded\n",
      " 51%|█████     | 3189/6300 [3:48:24<4:35:00,  5.30s/it, curr_speed=33.22 Mbps, mb_sent=972.31 Mb]COMET ERROR: File could not be uploaded\n",
      " 51%|█████     | 3190/6300 [3:48:29<4:33:03,  5.27s/it, curr_speed=33.21 Mbps, mb_sent=972.63 Mb]COMET ERROR: File could not be uploaded\n",
      "100%|██████████| 6300/6300 [7:48:19<00:00,  4.46s/it, curr_speed=43.21 Mbps, mb_sent=2019.69 Mb]  \n"
     ]
    },
    {
     "name": "stdout",
     "output_type": "stream",
     "text": [
      "Waiting for simulation script to connect on port: tcp://localhost:38592\n",
      "Please start proper ns-3 simulation script using ./waf --run \"...\"\n",
      "Waf: Entering directory `/home/samuel/ns-allinone-3.29/ns-3.29/build'\n",
      "Waf: Leaving directory `/home/samuel/ns-allinone-3.29/ns-3.29/build'\n",
      "Build commands will be stored in build/compile_commands.json\n",
      "'build' finished successfully (3.316s)\n"
     ]
    },
    {
     "name": "stderr",
     "output_type": "stream",
     "text": [
      "Ns3Env parameters:\n",
      "--nWifi: 6\n",
      "--simulationTime: 60\n",
      "--openGymPort: 38592\n",
      "--envStepTime: 0.01\n",
      "--seed: 42\n",
      "--agentType: continuous\n",
      "--scenario: convergence\n",
      "--dryRun: 0\n",
      "Simulation started\n",
      "Simulation process id: 890008 (parent (waf shell) id: 889959)\n",
      "Waiting for Python process to connect on port: tcp://localhost:38592\n",
      "Please start proper Python Gym Agent\n",
      "  0%|          | 0/6300 [00:00<?, ?it/s]"
     ]
    },
    {
     "name": "stdout",
     "output_type": "stream",
     "text": [
      "Sent 2019.69 Mb/s.\tMean speed: 33.66 Mb/s\tEpisode 2/15 finished\n",
      "\n",
      "2\n"
     ]
    },
    {
     "name": "stderr",
     "output_type": "stream",
     "text": [
      "100%|██████████| 6300/6300 [7:31:01<00:00,  4.30s/it, curr_speed=35.79 Mbps, mb_sent=2122.88 Mb]  \n"
     ]
    },
    {
     "name": "stdout",
     "output_type": "stream",
     "text": [
      "Waiting for simulation script to connect on port: tcp://localhost:18250\n",
      "Please start proper ns-3 simulation script using ./waf --run \"...\"\n",
      "Waf: Entering directory `/home/samuel/ns-allinone-3.29/ns-3.29/build'\n",
      "Waf: Leaving directory `/home/samuel/ns-allinone-3.29/ns-3.29/build'\n",
      "Build commands will be stored in build/compile_commands.json\n",
      "'build' finished successfully (3.650s)\n"
     ]
    },
    {
     "name": "stderr",
     "output_type": "stream",
     "text": [
      "Ns3Env parameters:\n",
      "--nWifi: 6\n",
      "--simulationTime: 60\n",
      "--openGymPort: 18250\n",
      "--envStepTime: 0.01\n",
      "--seed: 42\n",
      "--agentType: continuous\n",
      "--scenario: convergence\n",
      "--dryRun: 0\n",
      "Simulation started\n",
      "Simulation process id: 1096639 (parent (waf shell) id: 1096588)\n",
      "Waiting for Python process to connect on port: tcp://localhost:18250\n",
      "Please start proper Python Gym Agent\n",
      "  0%|          | 0/6300 [00:00<?, ?it/s]"
     ]
    },
    {
     "name": "stdout",
     "output_type": "stream",
     "text": [
      "Sent 2122.88 Mb/s.\tMean speed: 35.38 Mb/s\tEpisode 3/15 finished\n",
      "\n",
      "3\n"
     ]
    },
    {
     "name": "stderr",
     "output_type": "stream",
     "text": [
      "100%|██████████| 6300/6300 [6:43:12<00:00,  3.84s/it, curr_speed=32.98 Mbps, mb_sent=2186.04 Mb]  \n"
     ]
    },
    {
     "name": "stdout",
     "output_type": "stream",
     "text": [
      "Waiting for simulation script to connect on port: tcp://localhost:49799\n",
      "Please start proper ns-3 simulation script using ./waf --run \"...\"\n",
      "Waf: Entering directory `/home/samuel/ns-allinone-3.29/ns-3.29/build'\n",
      "Waf: Leaving directory `/home/samuel/ns-allinone-3.29/ns-3.29/build'\n",
      "Build commands will be stored in build/compile_commands.json\n",
      "'build' finished successfully (3.794s)\n"
     ]
    },
    {
     "name": "stderr",
     "output_type": "stream",
     "text": [
      "Ns3Env parameters:\n",
      "--nWifi: 6\n",
      "--simulationTime: 60\n",
      "--openGymPort: 49799\n",
      "--envStepTime: 0.01\n",
      "--seed: 42\n",
      "--agentType: continuous\n",
      "--scenario: convergence\n",
      "--dryRun: 0\n",
      "Simulation started\n",
      "Simulation process id: 1232259 (parent (waf shell) id: 1232208)\n",
      "Waiting for Python process to connect on port: tcp://localhost:49799\n",
      "Please start proper Python Gym Agent\n",
      "  0%|          | 0/6300 [00:00<?, ?it/s]"
     ]
    },
    {
     "name": "stdout",
     "output_type": "stream",
     "text": [
      "Sent 2186.04 Mb/s.\tMean speed: 36.43 Mb/s\tEpisode 4/15 finished\n",
      "\n",
      "4\n"
     ]
    },
    {
     "name": "stderr",
     "output_type": "stream",
     "text": [
      "  5%|▍         | 304/6300 [02:18<5:29:10,  3.29s/it, curr_speed=36.49 Mbps, mb_sent=1.09 Mb]"
     ]
    },
    {
     "name": "stdout",
     "output_type": "stream",
     "text": [
      "------- MEMORY BUFFER FILLED -------\n"
     ]
    },
    {
     "name": "stderr",
     "output_type": "stream",
     "text": [
      "100%|██████████| 6300/6300 [7:40:17<00:00,  4.38s/it, curr_speed=41.16 Mbps, mb_sent=2241.04 Mb]  \n"
     ]
    },
    {
     "name": "stdout",
     "output_type": "stream",
     "text": [
      "Waiting for simulation script to connect on port: tcp://localhost:42042\n",
      "Please start proper ns-3 simulation script using ./waf --run \"...\"\n",
      "Waf: Entering directory `/home/samuel/ns-allinone-3.29/ns-3.29/build'\n",
      "Waf: Leaving directory `/home/samuel/ns-allinone-3.29/ns-3.29/build'\n",
      "Build commands will be stored in build/compile_commands.json\n",
      "'build' finished successfully (3.679s)\n"
     ]
    },
    {
     "name": "stderr",
     "output_type": "stream",
     "text": [
      "Ns3Env parameters:\n",
      "--nWifi: 6\n",
      "--simulationTime: 60\n",
      "--openGymPort: 42042\n",
      "--envStepTime: 0.01\n",
      "--seed: 42\n",
      "--agentType: continuous\n",
      "--scenario: convergence\n",
      "--dryRun: 0\n",
      "Simulation started\n",
      "Simulation process id: 1437867 (parent (waf shell) id: 1437831)\n",
      "Waiting for Python process to connect on port: tcp://localhost:42042\n",
      "Please start proper Python Gym Agent\n",
      "  0%|          | 0/6300 [00:00<?, ?it/s]"
     ]
    },
    {
     "name": "stdout",
     "output_type": "stream",
     "text": [
      "Sent 2241.04 Mb/s.\tMean speed: 37.35 Mb/s\tEpisode 5/15 finished\n",
      "\n",
      "5\n"
     ]
    },
    {
     "name": "stderr",
     "output_type": "stream",
     "text": [
      "100%|██████████| 6300/6300 [7:23:49<00:00,  4.23s/it, curr_speed=37.84 Mbps, mb_sent=2278.98 Mb]  \n"
     ]
    },
    {
     "name": "stdout",
     "output_type": "stream",
     "text": [
      "Waiting for simulation script to connect on port: tcp://localhost:49208\n",
      "Please start proper ns-3 simulation script using ./waf --run \"...\"\n",
      "Waf: Entering directory `/home/samuel/ns-allinone-3.29/ns-3.29/build'\n",
      "Waf: Leaving directory `/home/samuel/ns-allinone-3.29/ns-3.29/build'\n",
      "Build commands will be stored in build/compile_commands.json\n",
      "'build' finished successfully (3.412s)\n"
     ]
    },
    {
     "name": "stderr",
     "output_type": "stream",
     "text": [
      "Ns3Env parameters:\n",
      "--nWifi: 6\n",
      "--simulationTime: 60\n",
      "--openGymPort: 49208\n",
      "--envStepTime: 0.01\n",
      "--seed: 42\n",
      "--agentType: continuous\n",
      "--scenario: convergence\n",
      "--dryRun: 0\n",
      "Simulation started\n",
      "Simulation process id: 1586985 (parent (waf shell) id: 1586938)\n",
      "Waiting for Python process to connect on port: tcp://localhost:49208\n",
      "Please start proper Python Gym Agent\n",
      "  0%|          | 1/6300 [00:00<18:02,  5.82it/s, curr_speed=0.00 Mbps, mb_sent=0.00 Mb]"
     ]
    },
    {
     "name": "stdout",
     "output_type": "stream",
     "text": [
      "Sent 2278.98 Mb/s.\tMean speed: 37.98 Mb/s\tEpisode 6/15 finished\n",
      "\n",
      "6\n"
     ]
    },
    {
     "name": "stderr",
     "output_type": "stream",
     "text": [
      "100%|██████████| 6300/6300 [6:47:35<00:00,  3.88s/it, curr_speed=38.02 Mbps, mb_sent=2285.23 Mb]  \n"
     ]
    },
    {
     "name": "stdout",
     "output_type": "stream",
     "text": [
      "Waiting for simulation script to connect on port: tcp://localhost:34468\n",
      "Please start proper ns-3 simulation script using ./waf --run \"...\"\n",
      "Waf: Entering directory `/home/samuel/ns-allinone-3.29/ns-3.29/build'\n",
      "Waf: Leaving directory `/home/samuel/ns-allinone-3.29/ns-3.29/build'\n",
      "Build commands will be stored in build/compile_commands.json\n",
      "'build' finished successfully (2.904s)\n"
     ]
    },
    {
     "name": "stderr",
     "output_type": "stream",
     "text": [
      "Ns3Env parameters:\n",
      "--nWifi: 6\n",
      "--simulationTime: 60\n",
      "--openGymPort: 34468\n",
      "--envStepTime: 0.01\n",
      "--seed: 42\n",
      "--agentType: continuous\n",
      "--scenario: convergence\n",
      "--dryRun: 0\n",
      "Simulation started\n",
      "Simulation process id: 1730561 (parent (waf shell) id: 1730536)\n",
      "Waiting for Python process to connect on port: tcp://localhost:34468\n",
      "Please start proper Python Gym Agent\n",
      "  0%|          | 0/6300 [00:00<?, ?it/s]"
     ]
    },
    {
     "name": "stdout",
     "output_type": "stream",
     "text": [
      "Sent 2285.23 Mb/s.\tMean speed: 38.09 Mb/s\tEpisode 7/15 finished\n",
      "\n",
      "7\n"
     ]
    },
    {
     "name": "stderr",
     "output_type": "stream",
     "text": [
      " 90%|█████████ | 5691/6300 [5:31:34<43:29,  4.28s/it, curr_speed=38.31 Mbps, mb_sent=2064.61 Mb]  COMET ERROR: File could not be uploaded\n",
      "100%|██████████| 6300/6300 [6:15:50<00:00,  3.58s/it, curr_speed=38.15 Mbps, mb_sent=2298.17 Mb]\n"
     ]
    },
    {
     "name": "stdout",
     "output_type": "stream",
     "text": [
      "Waiting for simulation script to connect on port: tcp://localhost:37374\n",
      "Please start proper ns-3 simulation script using ./waf --run \"...\"\n",
      "Waf: Entering directory `/home/samuel/ns-allinone-3.29/ns-3.29/build'\n",
      "Waf: Leaving directory `/home/samuel/ns-allinone-3.29/ns-3.29/build'\n",
      "Build commands will be stored in build/compile_commands.json\n",
      "'build' finished successfully (3.051s)\n"
     ]
    },
    {
     "name": "stderr",
     "output_type": "stream",
     "text": [
      "Ns3Env parameters:\n",
      "--nWifi: 6\n",
      "--simulationTime: 60\n",
      "--openGymPort: 37374\n",
      "--envStepTime: 0.01\n",
      "--seed: 42\n",
      "--agentType: continuous\n",
      "--scenario: convergence\n",
      "--dryRun: 0\n",
      "Simulation started\n",
      "Simulation process id: 1836852 (parent (waf shell) id: 1836817)\n",
      "Waiting for Python process to connect on port: tcp://localhost:37374\n",
      "Please start proper Python Gym Agent\n",
      "  0%|          | 0/6300 [00:00<?, ?it/s]"
     ]
    },
    {
     "name": "stdout",
     "output_type": "stream",
     "text": [
      "Sent 2298.17 Mb/s.\tMean speed: 38.30 Mb/s\tEpisode 8/15 finished\n",
      "\n",
      "8\n"
     ]
    },
    {
     "name": "stderr",
     "output_type": "stream",
     "text": [
      " 36%|███▋      | 2284/6300 [2:24:56<4:46:58,  4.29s/it, curr_speed=38.48 Mbps, mb_sent=762.29 Mb]COMET ERROR: File could not be uploaded\n",
      " 36%|███▋      | 2291/6300 [2:25:27<4:59:06,  4.48s/it, curr_speed=38.51 Mbps, mb_sent=764.96 Mb]COMET ERROR: File could not be uploaded\n",
      " 36%|███▋      | 2297/6300 [2:25:53<4:56:18,  4.44s/it, curr_speed=38.64 Mbps, mb_sent=767.31 Mb]COMET ERROR: File could not be uploaded\n",
      " 36%|███▋      | 2299/6300 [2:26:02<4:55:18,  4.43s/it, curr_speed=38.69 Mbps, mb_sent=768.10 Mb]COMET ERROR: File could not be uploaded\n",
      " 37%|███▋      | 2306/6300 [2:26:34<5:04:42,  4.58s/it, curr_speed=38.62 Mbps, mb_sent=770.77 Mb]COMET ERROR: File could not be uploaded\n",
      " 37%|███▋      | 2314/6300 [2:27:10<5:03:04,  4.56s/it, curr_speed=38.61 Mbps, mb_sent=773.84 Mb]COMET ERROR: File could not be uploaded\n",
      " 37%|███▋      | 2315/6300 [2:27:15<5:01:31,  4.54s/it, curr_speed=38.59 Mbps, mb_sent=774.18 Mb]COMET ERROR: File could not be uploaded\n",
      " 37%|███▋      | 2319/6300 [2:27:33<4:53:50,  4.43s/it, curr_speed=38.53 Mbps, mb_sent=775.64 Mb]COMET ERROR: File could not be uploaded\n",
      " 40%|████      | 2521/6300 [2:42:14<4:24:54,  4.21s/it, curr_speed=38.18 Mbps, mb_sent=853.26 Mb]COMET ERROR: File could not be uploaded\n",
      " 40%|████      | 2524/6300 [2:42:27<4:33:06,  4.34s/it, curr_speed=38.21 Mbps, mb_sent=854.44 Mb]COMET ERROR: File could not be uploaded\n",
      " 41%|████      | 2561/6300 [2:45:04<4:33:14,  4.38s/it, curr_speed=38.27 Mbps, mb_sent=868.61 Mb]COMET ERROR: File could not be uploaded\n",
      " 41%|████      | 2565/6300 [2:45:21<4:28:34,  4.31s/it, curr_speed=38.30 Mbps, mb_sent=870.14 Mb]COMET ERROR: File could not be uploaded\n",
      " 41%|████      | 2572/6300 [2:45:51<4:24:47,  4.26s/it, curr_speed=38.30 Mbps, mb_sent=872.80 Mb]COMET ERROR: File could not be uploaded\n",
      " 41%|████      | 2575/6300 [2:46:04<4:33:11,  4.40s/it, curr_speed=38.33 Mbps, mb_sent=873.95 Mb]COMET ERROR: File could not be uploaded\n",
      " 42%|████▏     | 2618/6300 [2:49:11<4:28:40,  4.38s/it, curr_speed=38.19 Mbps, mb_sent=890.28 Mb]COMET ERROR: File could not be uploaded\n",
      " 42%|████▏     | 2621/6300 [2:49:24<4:24:38,  4.32s/it, curr_speed=38.11 Mbps, mb_sent=891.37 Mb]COMET ERROR: File could not be uploaded\n",
      " 42%|████▏     | 2624/6300 [2:49:37<4:29:16,  4.40s/it, curr_speed=38.07 Mbps, mb_sent=892.50 Mb]COMET ERROR: File could not be uploaded\n",
      " 42%|████▏     | 2640/6300 [2:50:46<4:18:52,  4.24s/it, curr_speed=38.18 Mbps, mb_sent=898.64 Mb]COMET ERROR: File could not be uploaded\n",
      " 42%|████▏     | 2641/6300 [2:50:50<4:22:35,  4.31s/it, curr_speed=38.19 Mbps, mb_sent=899.03 Mb]COMET ERROR: File could not be uploaded\n",
      " 42%|████▏     | 2648/6300 [2:51:22<4:29:46,  4.43s/it, curr_speed=38.07 Mbps, mb_sent=901.67 Mb]COMET ERROR: File could not be uploaded\n",
      "COMET ERROR: File could not be uploaded\n",
      " 42%|████▏     | 2655/6300 [2:51:52<4:21:12,  4.30s/it, curr_speed=37.94 Mbps, mb_sent=904.21 Mb]COMET ERROR: File could not be uploaded\n",
      " 42%|████▏     | 2658/6300 [2:52:06<4:35:01,  4.53s/it, curr_speed=37.94 Mbps, mb_sent=905.39 Mb]COMET ERROR: File could not be uploaded\n",
      "100%|██████████| 6300/6300 [7:09:19<00:00,  4.09s/it, curr_speed=38.61 Mbps, mb_sent=2311.26 Mb]  \n"
     ]
    },
    {
     "name": "stdout",
     "output_type": "stream",
     "text": [
      "Waiting for simulation script to connect on port: tcp://localhost:31423\n",
      "Please start proper ns-3 simulation script using ./waf --run \"...\"\n",
      "Waf: Entering directory `/home/samuel/ns-allinone-3.29/ns-3.29/build'\n",
      "Waf: Leaving directory `/home/samuel/ns-allinone-3.29/ns-3.29/build'\n",
      "Build commands will be stored in build/compile_commands.json\n",
      "'build' finished successfully (3.037s)\n"
     ]
    },
    {
     "name": "stderr",
     "output_type": "stream",
     "text": [
      "Ns3Env parameters:\n",
      "--nWifi: 6\n",
      "--simulationTime: 60\n",
      "--openGymPort: 31423\n",
      "--envStepTime: 0.01\n",
      "--seed: 42\n",
      "--agentType: continuous\n",
      "--scenario: convergence\n",
      "--dryRun: 0\n",
      "Simulation started\n",
      "Simulation process id: 2034295 (parent (waf shell) id: 2034264)\n",
      "Waiting for Python process to connect on port: tcp://localhost:31423\n",
      "Please start proper Python Gym Agent\n",
      "  0%|          | 0/6300 [00:00<?, ?it/s]"
     ]
    },
    {
     "name": "stdout",
     "output_type": "stream",
     "text": [
      "Sent 2311.26 Mb/s.\tMean speed: 38.52 Mb/s\tEpisode 9/15 finished\n",
      "\n",
      "9\n"
     ]
    },
    {
     "name": "stderr",
     "output_type": "stream",
     "text": [
      "100%|██████████| 6300/6300 [6:54:17<00:00,  3.95s/it, curr_speed=38.47 Mbps, mb_sent=2308.54 Mb]  \n"
     ]
    },
    {
     "name": "stdout",
     "output_type": "stream",
     "text": [
      "Waiting for simulation script to connect on port: tcp://localhost:48862\n",
      "Please start proper ns-3 simulation script using ./waf --run \"...\"\n",
      "Waf: Entering directory `/home/samuel/ns-allinone-3.29/ns-3.29/build'\n",
      "Waf: Leaving directory `/home/samuel/ns-allinone-3.29/ns-3.29/build'\n",
      "Build commands will be stored in build/compile_commands.json\n",
      "'build' finished successfully (3.375s)\n"
     ]
    },
    {
     "name": "stderr",
     "output_type": "stream",
     "text": [
      "Ns3Env parameters:\n",
      "--nWifi: 6\n",
      "--simulationTime: 60\n",
      "--openGymPort: 48862\n",
      "--envStepTime: 0.01\n",
      "--seed: 42\n",
      "--agentType: continuous\n",
      "--scenario: convergence\n",
      "--dryRun: 0\n",
      "Simulation started\n",
      "Simulation process id: 2158888 (parent (waf shell) id: 2158858)\n",
      "Waiting for Python process to connect on port: tcp://localhost:48862\n",
      "Please start proper Python Gym Agent\n",
      "  0%|          | 0/6300 [00:00<?, ?it/s]"
     ]
    },
    {
     "name": "stdout",
     "output_type": "stream",
     "text": [
      "Sent 2308.54 Mb/s.\tMean speed: 38.48 Mb/s\tEpisode 10/15 finished\n",
      "\n",
      "10\n"
     ]
    },
    {
     "name": "stderr",
     "output_type": "stream",
     "text": [
      " 52%|█████▏    | 3271/6300 [3:21:12<3:22:59,  4.02s/it, curr_speed=38.89 Mbps, mb_sent=1140.79 Mb]COMET ERROR: File could not be uploaded\n",
      " 52%|█████▏    | 3274/6300 [3:21:24<3:23:43,  4.04s/it, curr_speed=39.00 Mbps, mb_sent=1142.02 Mb]COMET ERROR: File could not be uploaded\n",
      "COMET ERROR: File could not be uploaded\n",
      "COMET ERROR: File could not be uploaded\n",
      " 52%|█████▏    | 3275/6300 [3:21:28<3:22:48,  4.02s/it, curr_speed=39.01 Mbps, mb_sent=1142.41 Mb]COMET ERROR: File could not be uploaded\n",
      " 52%|█████▏    | 3276/6300 [3:21:32<3:24:09,  4.05s/it, curr_speed=39.01 Mbps, mb_sent=1142.82 Mb]COMET ERROR: File could not be uploaded\n",
      " 52%|█████▏    | 3277/6300 [3:21:36<3:19:49,  3.97s/it, curr_speed=38.99 Mbps, mb_sent=1143.20 Mb]COMET ERROR: File could not be uploaded\n",
      " 52%|█████▏    | 3278/6300 [3:21:39<3:11:40,  3.81s/it, curr_speed=38.97 Mbps, mb_sent=1143.60 Mb]COMET ERROR: File could not be uploaded\n",
      " 52%|█████▏    | 3279/6300 [3:21:43<3:19:05,  3.95s/it, curr_speed=39.04 Mbps, mb_sent=1144.00 Mb]COMET ERROR: File could not be uploaded\n",
      " 52%|█████▏    | 3279/6300 [3:21:47<3:19:05,  3.95s/it, curr_speed=39.05 Mbps, mb_sent=1144.38 Mb]COMET ERROR: File could not be uploaded\n",
      " 52%|█████▏    | 3281/6300 [3:21:51<3:09:31,  3.77s/it, curr_speed=39.07 Mbps, mb_sent=1144.78 Mb]COMET ERROR: File could not be uploaded\n",
      " 52%|█████▏    | 3282/6300 [3:21:55<3:13:11,  3.84s/it, curr_speed=39.03 Mbps, mb_sent=1145.17 Mb]COMET ERROR: File could not be uploaded\n",
      " 52%|█████▏    | 3283/6300 [3:21:59<3:19:37,  3.97s/it, curr_speed=39.03 Mbps, mb_sent=1145.55 Mb]COMET ERROR: File could not be uploaded\n",
      " 52%|█████▏    | 3284/6300 [3:22:03<3:24:03,  4.06s/it, curr_speed=39.06 Mbps, mb_sent=1145.95 Mb]COMET ERROR: File could not be uploaded\n",
      " 52%|█████▏    | 3285/6300 [3:22:08<3:32:13,  4.22s/it, curr_speed=39.09 Mbps, mb_sent=1146.34 Mb]COMET ERROR: File could not be uploaded\n",
      "100%|██████████| 6300/6300 [6:45:51<00:00,  3.87s/it, curr_speed=38.33 Mbps, mb_sent=2309.74 Mb]  \n"
     ]
    },
    {
     "name": "stdout",
     "output_type": "stream",
     "text": [
      "Waiting for simulation script to connect on port: tcp://localhost:30545\n",
      "Please start proper ns-3 simulation script using ./waf --run \"...\"\n",
      "Waf: Entering directory `/home/samuel/ns-allinone-3.29/ns-3.29/build'\n",
      "Waf: Leaving directory `/home/samuel/ns-allinone-3.29/ns-3.29/build'\n",
      "Build commands will be stored in build/compile_commands.json\n",
      "'build' finished successfully (3.178s)\n"
     ]
    },
    {
     "name": "stderr",
     "output_type": "stream",
     "text": [
      "Ns3Env parameters:\n",
      "--nWifi: 6\n",
      "--simulationTime: 60\n",
      "--openGymPort: 30545\n",
      "--envStepTime: 0.01\n",
      "--seed: 42\n",
      "--agentType: continuous\n",
      "--scenario: convergence\n",
      "--dryRun: 0\n",
      "Simulation started\n",
      "Simulation process id: 2253447 (parent (waf shell) id: 2253421)\n",
      "Waiting for Python process to connect on port: tcp://localhost:30545\n",
      "Please start proper Python Gym Agent\n",
      "  0%|          | 0/6300 [00:00<?, ?it/s]"
     ]
    },
    {
     "name": "stdout",
     "output_type": "stream",
     "text": [
      "Sent 2309.74 Mb/s.\tMean speed: 38.50 Mb/s\tEpisode 11/15 finished\n",
      "\n",
      "11\n"
     ]
    },
    {
     "name": "stderr",
     "output_type": "stream",
     "text": [
      " 84%|████████▍ | 5291/6300 [5:19:41<1:06:23,  3.95s/it, curr_speed=38.77 Mbps, mb_sent=1922.47 Mb]COMET ERROR: File could not be uploaded\n",
      " 84%|████████▍ | 5295/6300 [5:19:58<1:07:47,  4.05s/it, curr_speed=38.84 Mbps, mb_sent=1924.00 Mb]COMET ERROR: File could not be uploaded\n",
      " 84%|████████▍ | 5297/6300 [5:20:06<1:08:25,  4.09s/it, curr_speed=38.86 Mbps, mb_sent=1924.80 Mb]COMET ERROR: File could not be uploaded\n",
      " 84%|████████▍ | 5300/6300 [5:20:19<1:10:15,  4.22s/it, curr_speed=38.89 Mbps, mb_sent=1926.02 Mb]COMET ERROR: File could not be uploaded\n",
      " 84%|████████▍ | 5302/6300 [5:20:27<1:10:26,  4.23s/it, curr_speed=38.94 Mbps, mb_sent=1926.84 Mb]COMET ERROR: File could not be uploaded\n",
      " 84%|████████▍ | 5304/6300 [5:20:36<1:09:40,  4.20s/it, curr_speed=38.91 Mbps, mb_sent=1927.58 Mb]COMET ERROR: File could not be uploaded\n",
      " 84%|████████▍ | 5306/6300 [5:20:44<1:09:19,  4.18s/it, curr_speed=38.94 Mbps, mb_sent=1928.35 Mb]COMET ERROR: File could not be uploaded\n",
      " 84%|████████▍ | 5322/6300 [5:21:50<1:06:39,  4.09s/it, curr_speed=38.86 Mbps, mb_sent=1934.47 Mb]COMET ERROR: File could not be uploaded\n",
      " 84%|████████▍ | 5323/6300 [5:21:54<1:05:28,  4.02s/it, curr_speed=38.87 Mbps, mb_sent=1934.86 Mb]COMET ERROR: File could not be uploaded\n",
      "COMET ERROR: File could not be uploaded\n",
      "COMET ERROR: File could not be uploaded\n",
      " 85%|████████▍ | 5326/6300 [5:22:06<1:04:58,  4.00s/it, curr_speed=38.82 Mbps, mb_sent=1936.00 Mb]COMET ERROR: File could not be uploaded\n",
      " 85%|████████▍ | 5329/6300 [5:22:18<1:06:10,  4.09s/it, curr_speed=38.85 Mbps, mb_sent=1937.14 Mb]COMET ERROR: File could not be uploaded\n",
      " 85%|████████▍ | 5335/6300 [5:22:42<1:03:51,  3.97s/it, curr_speed=38.79 Mbps, mb_sent=1939.42 Mb]COMET ERROR: File could not be uploaded\n",
      "100%|██████████| 6300/6300 [6:27:55<00:00,  3.69s/it, curr_speed=38.85 Mbps, mb_sent=2312.77 Mb]  \n"
     ]
    },
    {
     "name": "stdout",
     "output_type": "stream",
     "text": [
      "Waiting for simulation script to connect on port: tcp://localhost:20989\n",
      "Please start proper ns-3 simulation script using ./waf --run \"...\"\n",
      "Waf: Entering directory `/home/samuel/ns-allinone-3.29/ns-3.29/build'\n",
      "Waf: Leaving directory `/home/samuel/ns-allinone-3.29/ns-3.29/build'\n",
      "Build commands will be stored in build/compile_commands.json\n",
      "'build' finished successfully (3.205s)\n"
     ]
    },
    {
     "name": "stderr",
     "output_type": "stream",
     "text": [
      "Ns3Env parameters:\n",
      "--nWifi: 6\n",
      "--simulationTime: 60\n",
      "--openGymPort: 20989\n",
      "--envStepTime: 0.01\n",
      "--seed: 42\n",
      "--agentType: continuous\n",
      "--scenario: convergence\n",
      "--dryRun: 0\n",
      "Simulation started\n",
      "Simulation process id: 2334452 (parent (waf shell) id: 2334428)\n",
      "Waiting for Python process to connect on port: tcp://localhost:20989\n",
      "Please start proper Python Gym Agent\n",
      "  0%|          | 0/6300 [00:00<?, ?it/s]"
     ]
    },
    {
     "name": "stdout",
     "output_type": "stream",
     "text": [
      "Sent 2312.77 Mb/s.\tMean speed: 38.55 Mb/s\tEpisode 12/15 finished\n",
      "\n",
      "12\n",
      "Turning off noise\n"
     ]
    },
    {
     "name": "stderr",
     "output_type": "stream",
     "text": [
      "100%|██████████| 6300/6300 [6:46:13<00:00,  3.87s/it, curr_speed=38.68 Mbps, mb_sent=2315.20 Mb]  \n"
     ]
    },
    {
     "name": "stdout",
     "output_type": "stream",
     "text": [
      "Waiting for simulation script to connect on port: tcp://localhost:38515\n",
      "Please start proper ns-3 simulation script using ./waf --run \"...\"\n",
      "Waf: Entering directory `/home/samuel/ns-allinone-3.29/ns-3.29/build'\n",
      "Waf: Leaving directory `/home/samuel/ns-allinone-3.29/ns-3.29/build'\n",
      "Build commands will be stored in build/compile_commands.json\n",
      "'build' finished successfully (3.364s)\n"
     ]
    },
    {
     "name": "stderr",
     "output_type": "stream",
     "text": [
      "Ns3Env parameters:\n",
      "--nWifi: 6\n",
      "--simulationTime: 60\n",
      "--openGymPort: 38515\n",
      "--envStepTime: 0.01\n",
      "--seed: 42\n",
      "--agentType: continuous\n",
      "--scenario: convergence\n",
      "--dryRun: 0\n",
      "Simulation started\n",
      "Simulation process id: 2428107 (parent (waf shell) id: 2428081)\n",
      "Waiting for Python process to connect on port: tcp://localhost:38515\n",
      "Please start proper Python Gym Agent\n",
      "  0%|          | 0/6300 [00:00<?, ?it/s]"
     ]
    },
    {
     "name": "stdout",
     "output_type": "stream",
     "text": [
      "Sent 2315.20 Mb/s.\tMean speed: 38.59 Mb/s\tEpisode 13/15 finished\n",
      "\n",
      "13\n",
      "Turning off noise\n"
     ]
    },
    {
     "name": "stderr",
     "output_type": "stream",
     "text": [
      "100%|██████████| 6300/6300 [6:18:56<00:00,  3.61s/it, curr_speed=38.64 Mbps, mb_sent=2318.38 Mb]  \n"
     ]
    },
    {
     "name": "stdout",
     "output_type": "stream",
     "text": [
      "Waiting for simulation script to connect on port: tcp://localhost:52708\n",
      "Please start proper ns-3 simulation script using ./waf --run \"...\"\n",
      "Waf: Entering directory `/home/samuel/ns-allinone-3.29/ns-3.29/build'\n",
      "Waf: Leaving directory `/home/samuel/ns-allinone-3.29/ns-3.29/build'\n",
      "Build commands will be stored in build/compile_commands.json\n",
      "'build' finished successfully (3.045s)\n"
     ]
    },
    {
     "name": "stderr",
     "output_type": "stream",
     "text": [
      "Ns3Env parameters:\n",
      "--nWifi: 6\n",
      "--simulationTime: 60\n",
      "--openGymPort: 52708\n",
      "--envStepTime: 0.01\n",
      "--seed: 42\n",
      "--agentType: continuous\n",
      "--scenario: convergence\n",
      "--dryRun: 0\n",
      "Simulation started\n",
      "Simulation process id: 2511529 (parent (waf shell) id: 2511505)\n",
      "Waiting for Python process to connect on port: tcp://localhost:52708\n",
      "Please start proper Python Gym Agent\n",
      "  0%|          | 0/6300 [00:00<?, ?it/s]"
     ]
    },
    {
     "name": "stdout",
     "output_type": "stream",
     "text": [
      "Sent 2318.38 Mb/s.\tMean speed: 38.64 Mb/s\tEpisode 14/15 finished\n",
      "\n",
      "14\n",
      "Turning off noise\n"
     ]
    },
    {
     "name": "stderr",
     "output_type": "stream",
     "text": [
      "  5%|▌         | 323/6300 [01:41<38:12,  2.61it/s, curr_speed=38.69 Mbps, mb_sent=8.51 Mb]COMET ERROR: File could not be uploaded\n",
      "COMET ERROR: File could not be uploaded\n",
      "COMET ERROR: File could not be uploaded\n",
      "COMET ERROR: File could not be uploaded\n",
      "COMET ERROR: File could not be uploaded\n",
      "COMET ERROR: File could not be uploaded\n",
      "COMET ERROR: File could not be uploaded\n",
      "COMET ERROR: File could not be uploaded\n",
      "COMET ERROR: File could not be uploaded\n",
      "COMET ERROR: File could not be uploaded\n",
      "COMET ERROR: File could not be uploaded\n",
      "COMET ERROR: File could not be uploaded\n",
      "COMET ERROR: File could not be uploaded\n",
      "COMET ERROR: File could not be uploaded\n",
      "100%|██████████| 6300/6300 [37:00<00:00,  2.84it/s, curr_speed=38.55 Mbps, mb_sent=2315.14 Mb]\n"
     ]
    },
    {
     "name": "stdout",
     "output_type": "stream",
     "text": [
      "Waiting for simulation script to connect on port: tcp://localhost:36470\n",
      "Please start proper ns-3 simulation script using ./waf --run \"...\"\n",
      "Waf: Entering directory `/home/samuel/ns-allinone-3.29/ns-3.29/build'\n",
      "Waf: Leaving directory `/home/samuel/ns-allinone-3.29/ns-3.29/build'\n",
      "Build commands will be stored in build/compile_commands.json\n",
      "'build' finished successfully (2.728s)\n"
     ]
    },
    {
     "name": "stderr",
     "output_type": "stream",
     "text": [
      "Ns3Env parameters:\n",
      "--nWifi: 6\n",
      "--simulationTime: 60\n",
      "--openGymPort: 36470\n",
      "--envStepTime: 0.01\n",
      "--seed: 42\n",
      "--agentType: continuous\n",
      "--scenario: convergence\n",
      "--dryRun: 0\n",
      "Simulation started\n",
      "Simulation process id: 2524739 (parent (waf shell) id: 2524715)\n",
      "Waiting for Python process to connect on port: tcp://localhost:36470\n",
      "Please start proper Python Gym Agent\n",
      "COMET INFO: ----------------------------\n",
      "COMET INFO: Comet.ml Experiment Summary:\n",
      "COMET INFO:   Data:\n",
      "COMET INFO:     url: https://www.comet.com/sheila-janota/rl-in-wifi-with-queue-level/dbebfbcbd1cd45d5a5bd10b2ba3906fb\n",
      "COMET INFO:   Metrics [count] (min, max):\n",
      "COMET INFO:     Chosen CW [89985]           : (16.0, 1024.0)\n",
      "COMET INFO:     Cumulative reward [15]      : (2609.730712890625, 3242.9482421875)\n",
      "COMET INFO:     Current throughput [89985]  : (20.0826416015625, 63.799800872802734)\n",
      "COMET INFO:     Fairness index [89985]      : (0.17611099779605865, 0.9999129772186279)\n",
      "COMET INFO:     Megabytes sent [89985]      : (0.35742199420928955, 2318.3835164010525)\n",
      "COMET INFO:     Observation 0 [89985]       : (0.6777643009275198, 0.8571428656578064)\n",
      "COMET INFO:     Observation 1 [89985]       : (0.0, 0.08806491725687846)\n",
      "COMET INFO:     Per-ep reward [89985]       : (133.318359375, 3242.9482421875)\n",
      "COMET INFO:     Round megabytes sent [89985]: (0.01116899959743023, 11.8172607421875)\n",
      "COMET INFO:     Round reward [89985]        : (0.014892578125, 0.833984375)\n",
      "COMET INFO:     Speed [15]                  : (31.730312725001326, 38.63972527335088)\n",
      "COMET INFO:     Station count [89985]       : (5.0, 6.0)\n",
      "COMET INFO:     actor_loss [89985]          : (-1.7256742715835571, 0.0)\n",
      "COMET INFO:     critic_loss [89985]         : (0.0, 5.627960205078125)\n",
      "COMET INFO:     loss [33578]                : (-1.718079686164856, 0.7235744595527649)\n",
      "COMET INFO:   Uploads:\n",
      "COMET INFO:     histogram3d: 89985\n",
      "COMET INFO: ----------------------------\n"
     ]
    },
    {
     "name": "stdout",
     "output_type": "stream",
     "text": [
      "Sent 2315.14 Mb/s.\tMean speed: 38.59 Mb/s\tEpisode 15/15 finished\n",
      "\n"
     ]
    },
    {
     "name": "stderr",
     "output_type": "stream",
     "text": [
      "COMET INFO: Uploading stats to Comet before program termination (may take several seconds)\n"
     ]
    },
    {
     "name": "stdout",
     "output_type": "stream",
     "text": [
      "Training finished.\n"
     ]
    }
   ],
   "source": [
    "#%%\n",
    "teacher = Teacher(env, 1, Preprocessor(False))\n",
    "\n",
    "lr_actor = 4e-4\n",
    "lr_critic = 4e-3\n",
    "\n",
    "config = Config(buffer_size=4*steps_per_ep*threads_no, batch_size=32, gamma=0.7, tau=1e-3, lr_actor=lr_actor, lr_critic=lr_critic, update_every=1)\n",
    "agent = Agent(state_size=6, action_size=1, config=config, actor_layers=[8, 128, 16], critic_layers=[8,128,16])\n",
    "\n",
    "# Test the model\n",
    "hyperparams = {**config.__dict__, **sim_args}\n",
    "tags = [\"Rew: normalized speed\",\n",
    "        f\"{Agent.NAME}\",\n",
    "        sim_args['scenario'],\n",
    "        f\"Actor: {lr_actor}\",\n",
    "        f\"Critic: {lr_critic}\",\n",
    "        f\"Instances: {threads_no}\",\n",
    "        f\"Station count: {sim_args['nWifi']}\",\n",
    "        *[f\"{key}: {sim_args[key]}\" for key in list(sim_args)[:3]]]\n",
    "# agent.save()\n",
    "logger = teacher.train(agent, EPISODE_COUNT,\n",
    "                        simTime=simTime,\n",
    "                        stepTime=stepTime,\n",
    "                        history_length=history_length,\n",
    "                        send_logs=True,\n",
    "                        experimental=True,\n",
    "                        tags=tags,\n",
    "                        parameters=hyperparams)\n",
    "# logger = teacher.eval(agent,\n",
    "#                         simTime=simTime,\n",
    "#                         stepTime=stepTime,\n",
    "#                         history_length=history_length,\n",
    "#                         tags=tags,\n",
    "#                         parameters=hyperparams)\n",
    "# agent.save()"
   ]
  },
  {
   "cell_type": "code",
   "execution_count": null,
   "id": "d3f0fc53",
   "metadata": {},
   "outputs": [],
   "source": []
  },
  {
   "cell_type": "markdown",
   "id": "7af5af5e",
   "metadata": {},
   "source": [
    "# Execution num2:"
   ]
  },
  {
   "cell_type": "code",
   "execution_count": 4,
   "id": "76768737",
   "metadata": {},
   "outputs": [],
   "source": [
    "#%%\n",
    "from ns3gym import ns3env\n",
    "from comet_ml import Experiment, Optimizer\n",
    "import tqdm\n",
    "import subprocess\n",
    "from collections import deque\n",
    "import numpy as np\n",
    "\n",
    "from agents.ddpg.agent import Agent, Config\n",
    "from agents.ddpg.model import Actor\n",
    "from agents.teacher import Teacher, EnvWrapper\n",
    "from preprocessor import Preprocessor"
   ]
  },
  {
   "cell_type": "code",
   "execution_count": 5,
   "id": "23b59b97",
   "metadata": {},
   "outputs": [
    {
     "name": "stdout",
     "output_type": "stream",
     "text": [
      "Steps per episode: 6000\n",
      "Waiting for simulation script to connect on port: tcp://localhost:16789\n",
      "Please start proper ns-3 simulation script using ./waf --run \"...\"\n",
      "Waf: Entering directory `/home/samuel/ns-allinone-3.29/ns-3.29/build'\n",
      "Waf: Leaving directory `/home/samuel/ns-allinone-3.29/ns-3.29/build'\n",
      "Build commands will be stored in build/compile_commands.json\n",
      "'build' finished successfully (2.932s)\n"
     ]
    },
    {
     "name": "stderr",
     "output_type": "stream",
     "text": [
      "Ns3Env parameters:\n",
      "--nWifi: 6\n",
      "--simulationTime: 60\n",
      "--openGymPort: 16789\n",
      "--envStepTime: 0.01\n",
      "--seed: 42\n",
      "--agentType: continuous\n",
      "--scenario: convergence\n",
      "--dryRun: 0\n",
      "Simulation started\n"
     ]
    },
    {
     "name": "stdout",
     "output_type": "stream",
     "text": [
      "Observation space shape: (1, 300)\n",
      "Action space shape: (1, 1)\n"
     ]
    },
    {
     "name": "stderr",
     "output_type": "stream",
     "text": [
      "Simulation process id: 2524816 (parent (waf shell) id: 2524790)\n",
      "Waiting for Python process to connect on port: tcp://localhost:16789\n",
      "Please start proper Python Gym Agent\n"
     ]
    }
   ],
   "source": [
    "#%%\n",
    "scenario = \"convergence\"\n",
    "\n",
    "simTime = 60 # seconds\n",
    "stepTime = 0.01  # seconds\n",
    "history_length = 300\n",
    "\n",
    "EPISODE_COUNT = 15\n",
    "steps_per_ep = int(simTime/stepTime)\n",
    "\n",
    "sim_args = {\n",
    "    \"simTime\": simTime,\n",
    "    \"envStepTime\": stepTime,\n",
    "    \"historyLength\": history_length,\n",
    "    \"agentType\": Agent.TYPE,\n",
    "    \"scenario\": \"convergence\",\n",
    "    \"nWifi\": 6,\n",
    "}\n",
    "\n",
    "print(\"Steps per episode:\", steps_per_ep)\n",
    "\n",
    "threads_no = 1\n",
    "env = EnvWrapper(threads_no, **sim_args)\n",
    "\n",
    "#%%\n",
    "env.reset()\n",
    "ob_space = env.observation_space\n",
    "ac_space = env.action_space\n",
    "\n",
    "print(\"Observation space shape:\", ob_space)\n",
    "print(\"Action space shape:\", ac_space)\n",
    "\n",
    "assert ob_space is not None"
   ]
  },
  {
   "cell_type": "code",
   "execution_count": 6,
   "id": "54904915",
   "metadata": {
    "scrolled": true
   },
   "outputs": [
    {
     "name": "stdout",
     "output_type": "stream",
     "text": [
      "CuDNN version: 7102\n",
      "cpu\n"
     ]
    },
    {
     "name": "stderr",
     "output_type": "stream",
     "text": [
      "COMET INFO: Experiment is live on comet.ml https://www.comet.com/sheila-janota/rl-in-wifi-with-queue-level/daf3c9c79fb148f8bb59b8b858b89baa\n",
      "\n",
      "  0%|          | 0/6300 [00:00<?, ?it/s]"
     ]
    },
    {
     "name": "stdout",
     "output_type": "stream",
     "text": [
      "0\n"
     ]
    },
    {
     "name": "stderr",
     "output_type": "stream",
     "text": [
      "  5%|▌         | 333/6300 [01:38<33:15,  2.99it/s, curr_speed=32.91 Mbps, mb_sent=10.53 Mb]"
     ]
    },
    {
     "name": "stdout",
     "output_type": "stream",
     "text": [
      "------- STARTED TRAINING -------\n"
     ]
    },
    {
     "name": "stderr",
     "output_type": "stream",
     "text": [
      "100%|██████████| 6300/6300 [6:09:16<00:00,  3.52s/it, curr_speed=29.44 Mbps, mb_sent=1906.13 Mb]  \n"
     ]
    },
    {
     "name": "stdout",
     "output_type": "stream",
     "text": [
      "Waiting for simulation script to connect on port: tcp://localhost:30197\n",
      "Please start proper ns-3 simulation script using ./waf --run \"...\"\n",
      "Waf: Entering directory `/home/samuel/ns-allinone-3.29/ns-3.29/build'\n",
      "Waf: Leaving directory `/home/samuel/ns-allinone-3.29/ns-3.29/build'\n",
      "Build commands will be stored in build/compile_commands.json\n",
      "'build' finished successfully (3.261s)\n"
     ]
    },
    {
     "name": "stderr",
     "output_type": "stream",
     "text": [
      "Ns3Env parameters:\n",
      "--nWifi: 6\n",
      "--simulationTime: 60\n",
      "--openGymPort: 30197\n",
      "--envStepTime: 0.01\n",
      "--seed: 42\n",
      "--agentType: continuous\n",
      "--scenario: convergence\n",
      "--dryRun: 0\n",
      "Simulation started\n",
      "Simulation process id: 2613313 (parent (waf shell) id: 2613282)\n",
      "Waiting for Python process to connect on port: tcp://localhost:30197\n",
      "Please start proper Python Gym Agent\n",
      "  0%|          | 0/6300 [00:00<?, ?it/s]"
     ]
    },
    {
     "name": "stdout",
     "output_type": "stream",
     "text": [
      "Sent 1906.13 Mb/s.\tMean speed: 31.77 Mb/s\tEpisode 1/15 finished\n",
      "\n",
      "1\n"
     ]
    },
    {
     "name": "stderr",
     "output_type": "stream",
     "text": [
      " 50%|████▉     | 3122/6300 [2:54:11<3:17:07,  3.72s/it, curr_speed=31.29 Mbps, mb_sent=948.14 Mb]COMET ERROR: File could not be uploaded\n",
      " 50%|████▉     | 3126/6300 [2:54:26<3:08:35,  3.57s/it, curr_speed=31.04 Mbps, mb_sent=949.36 Mb]COMET ERROR: File could not be uploaded\n",
      " 50%|████▉     | 3133/6300 [2:54:52<3:20:49,  3.80s/it, curr_speed=31.30 Mbps, mb_sent=951.83 Mb]COMET ERROR: File could not be uploaded\n",
      " 50%|████▉     | 3148/6300 [2:55:46<2:54:23,  3.32s/it, curr_speed=32.15 Mbps, mb_sent=957.31 Mb]COMET ERROR: File could not be uploaded\n",
      "COMET ERROR: File could not be uploaded\n",
      " 50%|█████     | 3163/6300 [2:56:41<3:03:44,  3.51s/it, curr_speed=32.89 Mbps, mb_sent=962.56 Mb]COMET ERROR: File could not be uploaded\n",
      " 50%|█████     | 3166/6300 [2:56:52<3:09:10,  3.62s/it, curr_speed=32.95 Mbps, mb_sent=963.71 Mb]COMET ERROR: File could not be uploaded\n",
      " 50%|█████     | 3167/6300 [2:56:56<3:08:47,  3.62s/it, curr_speed=32.94 Mbps, mb_sent=964.08 Mb]COMET ERROR: File could not be uploaded\n",
      " 50%|█████     | 3174/6300 [2:57:20<3:01:00,  3.47s/it, curr_speed=32.63 Mbps, mb_sent=966.40 Mb]COMET ERROR: File could not be uploaded\n",
      " 53%|█████▎    | 3308/6300 [3:05:22<3:05:56,  3.73s/it, curr_speed=34.01 Mbps, mb_sent=1010.19 Mb]COMET ERROR: File could not be uploaded\n",
      " 53%|█████▎    | 3354/6300 [3:08:08<2:52:39,  3.52s/it, curr_speed=33.94 Mbps, mb_sent=1025.38 Mb]COMET ERROR: File could not be uploaded\n",
      " 53%|█████▎    | 3364/6300 [3:08:45<2:57:52,  3.64s/it, curr_speed=33.60 Mbps, mb_sent=1028.84 Mb]COMET ERROR: File could not be uploaded\n",
      " 56%|█████▌    | 3508/6300 [3:17:27<2:46:16,  3.57s/it, curr_speed=33.70 Mbps, mb_sent=1076.87 Mb]COMET ERROR: File could not be uploaded\n",
      "100%|██████████| 6300/6300 [6:06:31<00:00,  3.49s/it, curr_speed=40.21 Mbps, mb_sent=2003.52 Mb]  \n"
     ]
    },
    {
     "name": "stdout",
     "output_type": "stream",
     "text": [
      "Waiting for simulation script to connect on port: tcp://localhost:36587\n",
      "Please start proper ns-3 simulation script using ./waf --run \"...\"\n",
      "Waf: Entering directory `/home/samuel/ns-allinone-3.29/ns-3.29/build'\n",
      "Waf: Leaving directory `/home/samuel/ns-allinone-3.29/ns-3.29/build'\n",
      "Build commands will be stored in build/compile_commands.json\n",
      "'build' finished successfully (3.083s)\n"
     ]
    },
    {
     "name": "stderr",
     "output_type": "stream",
     "text": [
      "Ns3Env parameters:\n",
      "--nWifi: 6\n",
      "--simulationTime: 60\n",
      "--openGymPort: 36587\n",
      "--envStepTime: 0.01\n",
      "--seed: 42\n",
      "--agentType: continuous\n",
      "--scenario: convergence\n",
      "--dryRun: 0\n",
      "Simulation started\n",
      "Simulation process id: 2682868 (parent (waf shell) id: 2682843)\n",
      "Waiting for Python process to connect on port: tcp://localhost:36587\n",
      "Please start proper Python Gym Agent\n",
      "  0%|          | 0/6300 [00:00<?, ?it/s]"
     ]
    },
    {
     "name": "stdout",
     "output_type": "stream",
     "text": [
      "Sent 2003.52 Mb/s.\tMean speed: 33.39 Mb/s\tEpisode 2/15 finished\n",
      "\n",
      "2\n"
     ]
    },
    {
     "name": "stderr",
     "output_type": "stream",
     "text": [
      "100%|██████████| 6300/6300 [6:04:12<00:00,  3.47s/it, curr_speed=35.35 Mbps, mb_sent=2101.99 Mb]  \n"
     ]
    },
    {
     "name": "stdout",
     "output_type": "stream",
     "text": [
      "Waiting for simulation script to connect on port: tcp://localhost:25827\n",
      "Please start proper ns-3 simulation script using ./waf --run \"...\"\n",
      "Waf: Entering directory `/home/samuel/ns-allinone-3.29/ns-3.29/build'\n",
      "Waf: Leaving directory `/home/samuel/ns-allinone-3.29/ns-3.29/build'\n",
      "Build commands will be stored in build/compile_commands.json\n",
      "'build' finished successfully (2.921s)\n"
     ]
    },
    {
     "name": "stderr",
     "output_type": "stream",
     "text": [
      "Ns3Env parameters:\n",
      "--nWifi: 6\n",
      "--simulationTime: 60\n",
      "--openGymPort: 25827\n",
      "--envStepTime: 0.01\n",
      "--seed: 42\n",
      "--agentType: continuous\n",
      "--scenario: convergence\n",
      "--dryRun: 0\n",
      "Simulation started\n",
      "Simulation process id: 2754335 (parent (waf shell) id: 2754313)\n",
      "Waiting for Python process to connect on port: tcp://localhost:25827\n",
      "Please start proper Python Gym Agent\n",
      "  0%|          | 0/6300 [00:00<?, ?it/s]"
     ]
    },
    {
     "name": "stdout",
     "output_type": "stream",
     "text": [
      "Sent 2101.99 Mb/s.\tMean speed: 35.03 Mb/s\tEpisode 3/15 finished\n",
      "\n",
      "3\n"
     ]
    },
    {
     "name": "stderr",
     "output_type": "stream",
     "text": [
      "100%|██████████| 6300/6300 [5:58:53<00:00,  3.42s/it, curr_speed=36.42 Mbps, mb_sent=2193.45 Mb]  \n"
     ]
    },
    {
     "name": "stdout",
     "output_type": "stream",
     "text": [
      "Waiting for simulation script to connect on port: tcp://localhost:20836\n",
      "Please start proper ns-3 simulation script using ./waf --run \"...\"\n",
      "Waf: Entering directory `/home/samuel/ns-allinone-3.29/ns-3.29/build'\n",
      "Waf: Leaving directory `/home/samuel/ns-allinone-3.29/ns-3.29/build'\n",
      "Build commands will be stored in build/compile_commands.json\n",
      "'build' finished successfully (2.468s)\n"
     ]
    },
    {
     "name": "stderr",
     "output_type": "stream",
     "text": [
      "Ns3Env parameters:\n",
      "--nWifi: 6\n",
      "--simulationTime: 60\n",
      "--openGymPort: 20836\n",
      "--envStepTime: 0.01\n",
      "--seed: 42\n",
      "--agentType: continuous\n",
      "--scenario: convergence\n",
      "--dryRun: 0\n",
      "Simulation started\n",
      "Simulation process id: 2826395 (parent (waf shell) id: 2826375)\n",
      "Waiting for Python process to connect on port: tcp://localhost:20836\n",
      "Please start proper Python Gym Agent\n",
      "  0%|          | 0/6300 [00:00<?, ?it/s]"
     ]
    },
    {
     "name": "stdout",
     "output_type": "stream",
     "text": [
      "Sent 2193.45 Mb/s.\tMean speed: 36.56 Mb/s\tEpisode 4/15 finished\n",
      "\n",
      "4\n"
     ]
    },
    {
     "name": "stderr",
     "output_type": "stream",
     "text": [
      "  5%|▍         | 304/6300 [01:30<3:46:18,  2.26s/it, curr_speed=35.00 Mbps, mb_sent=1.05 Mb]"
     ]
    },
    {
     "name": "stdout",
     "output_type": "stream",
     "text": [
      "------- MEMORY BUFFER FILLED -------\n"
     ]
    },
    {
     "name": "stderr",
     "output_type": "stream",
     "text": [
      "100%|██████████| 6300/6300 [5:32:29<00:00,  3.17s/it, curr_speed=37.19 Mbps, mb_sent=2244.01 Mb]  \n"
     ]
    },
    {
     "name": "stdout",
     "output_type": "stream",
     "text": [
      "Waiting for simulation script to connect on port: tcp://localhost:19895\n",
      "Please start proper ns-3 simulation script using ./waf --run \"...\"\n",
      "Waf: Entering directory `/home/samuel/ns-allinone-3.29/ns-3.29/build'\n",
      "Waf: Leaving directory `/home/samuel/ns-allinone-3.29/ns-3.29/build'\n",
      "Build commands will be stored in build/compile_commands.json\n",
      "'build' finished successfully (2.479s)\n"
     ]
    },
    {
     "name": "stderr",
     "output_type": "stream",
     "text": [
      "Ns3Env parameters:\n",
      "--nWifi: 6\n",
      "--simulationTime: 60\n",
      "--openGymPort: 19895\n",
      "--envStepTime: 0.01\n",
      "--seed: 42\n",
      "--agentType: continuous\n",
      "--scenario: convergence\n",
      "--dryRun: 0\n",
      "Simulation started\n",
      "Simulation process id: 2893671 (parent (waf shell) id: 2893650)\n",
      "Waiting for Python process to connect on port: tcp://localhost:19895\n",
      "Please start proper Python Gym Agent\n",
      "  0%|          | 0/6300 [00:00<?, ?it/s]"
     ]
    },
    {
     "name": "stdout",
     "output_type": "stream",
     "text": [
      "Sent 2244.01 Mb/s.\tMean speed: 37.40 Mb/s\tEpisode 5/15 finished\n",
      "\n",
      "5\n"
     ]
    },
    {
     "name": "stderr",
     "output_type": "stream",
     "text": [
      "100%|██████████| 6300/6300 [4:16:18<00:00,  2.44s/it, curr_speed=32.41 Mbps, mb_sent=2273.76 Mb]  \n"
     ]
    },
    {
     "name": "stdout",
     "output_type": "stream",
     "text": [
      "Waiting for simulation script to connect on port: tcp://localhost:32605\n",
      "Please start proper ns-3 simulation script using ./waf --run \"...\"\n",
      "Waf: Entering directory `/home/samuel/ns-allinone-3.29/ns-3.29/build'\n",
      "Waf: Leaving directory `/home/samuel/ns-allinone-3.29/ns-3.29/build'\n",
      "Build commands will be stored in build/compile_commands.json\n",
      "'build' finished successfully (2.303s)\n"
     ]
    },
    {
     "name": "stderr",
     "output_type": "stream",
     "text": [
      "Ns3Env parameters:\n",
      "--nWifi: 6\n",
      "--simulationTime: 60\n",
      "--openGymPort: 32605\n",
      "--envStepTime: 0.01\n",
      "--seed: 42\n",
      "--agentType: continuous\n",
      "--scenario: convergence\n",
      "--dryRun: 0\n",
      "Simulation started\n",
      "Simulation process id: 2945990 (parent (waf shell) id: 2945969)\n",
      "Waiting for Python process to connect on port: tcp://localhost:32605\n",
      "Please start proper Python Gym Agent\n",
      "  0%|          | 0/6300 [00:00<?, ?it/s]"
     ]
    },
    {
     "name": "stdout",
     "output_type": "stream",
     "text": [
      "Sent 2273.76 Mb/s.\tMean speed: 37.90 Mb/s\tEpisode 6/15 finished\n",
      "\n",
      "6\n"
     ]
    },
    {
     "name": "stderr",
     "output_type": "stream",
     "text": [
      " 26%|██▌       | 1629/6300 [54:56<3:15:08,  2.51s/it, curr_speed=38.41 Mbps, mb_sent=509.01 Mb]COMET ERROR: File could not be uploaded\n",
      " 26%|██▌       | 1632/6300 [55:04<3:21:48,  2.59s/it, curr_speed=38.38 Mbps, mb_sent=510.13 Mb]COMET ERROR: File could not be uploaded\n",
      " 26%|██▌       | 1634/6300 [55:09<3:22:32,  2.60s/it, curr_speed=38.40 Mbps, mb_sent=510.93 Mb]COMET ERROR: File could not be uploaded\n",
      " 26%|██▌       | 1647/6300 [55:41<3:16:37,  2.54s/it, curr_speed=38.42 Mbps, mb_sent=515.99 Mb]COMET ERROR: File could not be uploaded\n",
      " 26%|██▋       | 1655/6300 [56:00<3:12:41,  2.49s/it, curr_speed=38.46 Mbps, mb_sent=519.10 Mb]COMET ERROR: File could not be uploaded\n",
      " 26%|██▋       | 1660/6300 [56:12<3:01:42,  2.35s/it, curr_speed=38.42 Mbps, mb_sent=521.03 Mb]COMET ERROR: File could not be uploaded\n",
      " 26%|██▋       | 1665/6300 [56:23<2:53:18,  2.24s/it, curr_speed=38.51 Mbps, mb_sent=523.05 Mb]COMET ERROR: File could not be uploaded\n",
      " 27%|██▋       | 1674/6300 [56:46<3:12:52,  2.50s/it, curr_speed=38.38 Mbps, mb_sent=526.53 Mb]COMET ERROR: File could not be uploaded\n",
      " 27%|██▋       | 1686/6300 [57:16<3:05:56,  2.42s/it, curr_speed=38.41 Mbps, mb_sent=531.40 Mb]COMET ERROR: File could not be uploaded\n",
      " 27%|██▋       | 1687/6300 [57:16<2:57:43,  2.31s/it, curr_speed=38.41 Mbps, mb_sent=531.40 Mb]COMET ERROR: File could not be uploaded\n",
      "COMET ERROR: File could not be uploaded\n",
      " 27%|██▋       | 1692/6300 [57:27<2:50:49,  2.22s/it, curr_speed=38.29 Mbps, mb_sent=533.22 Mb]COMET ERROR: File could not be uploaded\n",
      " 27%|██▋       | 1694/6300 [57:32<2:50:33,  2.22s/it, curr_speed=38.27 Mbps, mb_sent=534.02 Mb]COMET ERROR: File could not be uploaded\n",
      " 27%|██▋       | 1697/6300 [57:39<2:52:57,  2.25s/it, curr_speed=38.19 Mbps, mb_sent=535.11 Mb]COMET ERROR: File could not be uploaded\n",
      " 27%|██▋       | 1710/6300 [58:10<2:51:53,  2.25s/it, curr_speed=38.31 Mbps, mb_sent=540.11 Mb]COMET ERROR: File could not be uploaded\n",
      "COMET ERROR: File could not be uploaded\n",
      " 27%|██▋       | 1711/6300 [58:12<2:45:54,  2.17s/it, curr_speed=38.32 Mbps, mb_sent=540.50 Mb]COMET ERROR: File could not be uploaded\n",
      " 27%|██▋       | 1720/6300 [58:34<3:04:04,  2.41s/it, curr_speed=38.41 Mbps, mb_sent=544.04 Mb]COMET ERROR: File could not be uploaded\n",
      "100%|██████████| 6300/6300 [4:40:44<00:00,  2.67s/it, curr_speed=37.99 Mbps, mb_sent=2299.29 Mb]  \n"
     ]
    },
    {
     "name": "stdout",
     "output_type": "stream",
     "text": [
      "Waiting for simulation script to connect on port: tcp://localhost:51938\n",
      "Please start proper ns-3 simulation script using ./waf --run \"...\"\n",
      "Waf: Entering directory `/home/samuel/ns-allinone-3.29/ns-3.29/build'\n",
      "Waf: Leaving directory `/home/samuel/ns-allinone-3.29/ns-3.29/build'\n",
      "Build commands will be stored in build/compile_commands.json\n",
      "'build' finished successfully (2.877s)\n"
     ]
    },
    {
     "name": "stderr",
     "output_type": "stream",
     "text": [
      "Ns3Env parameters:\n",
      "--nWifi: 6\n",
      "--simulationTime: 60\n",
      "--openGymPort: 51938\n",
      "--envStepTime: 0.01\n",
      "--seed: 42\n",
      "--agentType: continuous\n",
      "--scenario: convergence\n",
      "--dryRun: 0\n",
      "Simulation started\n",
      "Simulation process id: 2998527 (parent (waf shell) id: 2998505)\n",
      "Waiting for Python process to connect on port: tcp://localhost:51938\n",
      "Please start proper Python Gym Agent\n",
      "  0%|          | 0/6300 [00:00<?, ?it/s]"
     ]
    },
    {
     "name": "stdout",
     "output_type": "stream",
     "text": [
      "Sent 2299.29 Mb/s.\tMean speed: 38.32 Mb/s\tEpisode 7/15 finished\n",
      "\n",
      "7\n"
     ]
    },
    {
     "name": "stderr",
     "output_type": "stream",
     "text": [
      "100%|██████████| 6300/6300 [6:05:54<00:00,  3.48s/it, curr_speed=38.20 Mbps, mb_sent=2312.33 Mb]  \n"
     ]
    },
    {
     "name": "stdout",
     "output_type": "stream",
     "text": [
      "Waiting for simulation script to connect on port: tcp://localhost:40677\n",
      "Please start proper ns-3 simulation script using ./waf --run \"...\"\n",
      "Waf: Entering directory `/home/samuel/ns-allinone-3.29/ns-3.29/build'\n",
      "Waf: Leaving directory `/home/samuel/ns-allinone-3.29/ns-3.29/build'\n",
      "Build commands will be stored in build/compile_commands.json\n",
      "'build' finished successfully (2.809s)\n"
     ]
    },
    {
     "name": "stderr",
     "output_type": "stream",
     "text": [
      "Ns3Env parameters:\n",
      "--nWifi: 6\n",
      "--simulationTime: 60\n",
      "--openGymPort: 40677\n",
      "--envStepTime: 0.01\n",
      "--seed: 42\n",
      "--agentType: continuous\n",
      "--scenario: convergence\n",
      "--dryRun: 0\n",
      "Simulation started\n",
      "Simulation process id: 3065710 (parent (waf shell) id: 3065690)\n",
      "Waiting for Python process to connect on port: tcp://localhost:40677\n",
      "Please start proper Python Gym Agent\n",
      "  0%|          | 0/6300 [00:00<?, ?it/s]"
     ]
    },
    {
     "name": "stdout",
     "output_type": "stream",
     "text": [
      "Sent 2312.33 Mb/s.\tMean speed: 38.54 Mb/s\tEpisode 8/15 finished\n",
      "\n",
      "8\n"
     ]
    },
    {
     "name": "stderr",
     "output_type": "stream",
     "text": [
      "100%|██████████| 6300/6300 [6:04:34<00:00,  3.47s/it, curr_speed=38.59 Mbps, mb_sent=2316.53 Mb]  \n"
     ]
    },
    {
     "name": "stdout",
     "output_type": "stream",
     "text": [
      "Waiting for simulation script to connect on port: tcp://localhost:39261\n",
      "Please start proper ns-3 simulation script using ./waf --run \"...\"\n",
      "Waf: Entering directory `/home/samuel/ns-allinone-3.29/ns-3.29/build'\n",
      "Waf: Leaving directory `/home/samuel/ns-allinone-3.29/ns-3.29/build'\n",
      "Build commands will be stored in build/compile_commands.json\n",
      "'build' finished successfully (2.928s)\n"
     ]
    },
    {
     "name": "stderr",
     "output_type": "stream",
     "text": [
      "Ns3Env parameters:\n",
      "--nWifi: 6\n",
      "--simulationTime: 60\n",
      "--openGymPort: 39261\n",
      "--envStepTime: 0.01\n",
      "--seed: 42\n",
      "--agentType: continuous\n",
      "--scenario: convergence\n",
      "--dryRun: 0\n",
      "Simulation started\n",
      "Simulation process id: 3132510 (parent (waf shell) id: 3132489)\n",
      "Waiting for Python process to connect on port: tcp://localhost:39261\n",
      "Please start proper Python Gym Agent\n",
      "  0%|          | 0/6300 [00:00<?, ?it/s]"
     ]
    },
    {
     "name": "stdout",
     "output_type": "stream",
     "text": [
      "Sent 2316.53 Mb/s.\tMean speed: 38.61 Mb/s\tEpisode 9/15 finished\n",
      "\n",
      "9\n"
     ]
    },
    {
     "name": "stderr",
     "output_type": "stream",
     "text": [
      "100%|██████████| 6300/6300 [5:52:34<00:00,  3.36s/it, curr_speed=38.62 Mbps, mb_sent=2321.18 Mb]  \n"
     ]
    },
    {
     "name": "stdout",
     "output_type": "stream",
     "text": [
      "Waiting for simulation script to connect on port: tcp://localhost:41661\n",
      "Please start proper ns-3 simulation script using ./waf --run \"...\"\n",
      "Waf: Entering directory `/home/samuel/ns-allinone-3.29/ns-3.29/build'\n",
      "Waf: Leaving directory `/home/samuel/ns-allinone-3.29/ns-3.29/build'\n",
      "Build commands will be stored in build/compile_commands.json\n",
      "'build' finished successfully (2.240s)\n"
     ]
    },
    {
     "name": "stderr",
     "output_type": "stream",
     "text": [
      "Ns3Env parameters:\n",
      "--nWifi: 6\n",
      "--simulationTime: 60\n",
      "--openGymPort: 41661\n",
      "--envStepTime: 0.01\n",
      "--seed: 42\n",
      "--agentType: continuous\n",
      "--scenario: convergence\n",
      "--dryRun: 0\n",
      "Simulation started\n",
      "Simulation process id: 3197727 (parent (waf shell) id: 3197706)\n",
      "Waiting for Python process to connect on port: tcp://localhost:41661\n",
      "Please start proper Python Gym Agent\n",
      "  0%|          | 0/6300 [00:00<?, ?it/s]"
     ]
    },
    {
     "name": "stdout",
     "output_type": "stream",
     "text": [
      "Sent 2321.18 Mb/s.\tMean speed: 38.69 Mb/s\tEpisode 10/15 finished\n",
      "\n",
      "10\n"
     ]
    },
    {
     "name": "stderr",
     "output_type": "stream",
     "text": [
      " 42%|████▏     | 2659/6300 [2:12:29<3:33:16,  3.51s/it, curr_speed=38.79 Mbps, mb_sent=912.64 Mb]COMET ERROR: File could not be uploaded\n",
      " 42%|████▏     | 2662/6300 [2:12:40<3:44:55,  3.71s/it, curr_speed=38.87 Mbps, mb_sent=913.86 Mb]COMET ERROR: File could not be uploaded\n",
      " 42%|████▏     | 2667/6300 [2:12:58<3:44:09,  3.70s/it, curr_speed=38.87 Mbps, mb_sent=915.82 Mb]COMET ERROR: File could not be uploaded\n",
      "COMET ERROR: File could not be uploaded\n",
      "COMET ERROR: File could not be uploaded\n",
      " 43%|████▎     | 2678/6300 [2:13:38<3:38:14,  3.62s/it, curr_speed=38.84 Mbps, mb_sent=919.99 Mb]COMET ERROR: File could not be uploaded\n",
      " 43%|████▎     | 2679/6300 [2:13:42<3:39:23,  3.64s/it, curr_speed=38.74 Mbps, mb_sent=920.32 Mb]COMET ERROR: File could not be uploaded\n",
      " 43%|████▎     | 2680/6300 [2:13:46<3:44:20,  3.72s/it, curr_speed=38.74 Mbps, mb_sent=920.72 Mb]COMET ERROR: File could not be uploaded\n",
      " 43%|████▎     | 2681/6300 [2:13:49<3:43:48,  3.71s/it, curr_speed=38.74 Mbps, mb_sent=921.11 Mb]COMET ERROR: File could not be uploaded\n",
      " 43%|████▎     | 2682/6300 [2:13:53<3:47:21,  3.77s/it, curr_speed=38.75 Mbps, mb_sent=921.52 Mb]COMET ERROR: File could not be uploaded\n",
      " 43%|████▎     | 2684/6300 [2:14:01<3:48:10,  3.79s/it, curr_speed=38.72 Mbps, mb_sent=922.30 Mb]COMET ERROR: File could not be uploaded\n",
      " 43%|████▎     | 2690/6300 [2:14:23<3:41:05,  3.67s/it, curr_speed=38.74 Mbps, mb_sent=924.76 Mb]COMET ERROR: File could not be uploaded\n",
      " 43%|████▎     | 2691/6300 [2:14:27<3:39:48,  3.65s/it, curr_speed=38.75 Mbps, mb_sent=925.16 Mb]COMET ERROR: File could not be uploaded\n",
      "COMET ERROR: File could not be uploaded\n",
      " 43%|████▎     | 2692/6300 [2:14:31<3:46:30,  3.77s/it, curr_speed=38.76 Mbps, mb_sent=925.54 Mb]COMET ERROR: File could not be uploaded\n",
      " 43%|████▎     | 2695/6300 [2:14:41<3:35:37,  3.59s/it, curr_speed=38.87 Mbps, mb_sent=926.73 Mb]COMET ERROR: File could not be uploaded\n",
      " 43%|████▎     | 2700/6300 [2:14:59<3:33:18,  3.56s/it, curr_speed=38.88 Mbps, mb_sent=928.64 Mb]COMET ERROR: File could not be uploaded\n",
      "COMET ERROR: File could not be uploaded\n",
      " 43%|████▎     | 2703/6300 [2:15:10<3:39:46,  3.67s/it, curr_speed=38.84 Mbps, mb_sent=929.79 Mb]COMET ERROR: File could not be uploaded\n",
      " 43%|████▎     | 2709/6300 [2:15:32<3:39:04,  3.66s/it, curr_speed=38.77 Mbps, mb_sent=932.06 Mb]COMET ERROR: File could not be uploaded\n",
      "COMET ERROR: File could not be uploaded\n",
      " 43%|████▎     | 2710/6300 [2:15:36<3:42:51,  3.72s/it, curr_speed=38.79 Mbps, mb_sent=932.42 Mb]COMET ERROR: File could not be uploaded\n",
      " 43%|████▎     | 2713/6300 [2:15:47<3:41:03,  3.70s/it, curr_speed=38.72 Mbps, mb_sent=933.53 Mb]COMET ERROR: File could not be uploaded\n",
      " 43%|████▎     | 2714/6300 [2:15:51<3:41:33,  3.71s/it, curr_speed=38.70 Mbps, mb_sent=933.91 Mb]COMET ERROR: File could not be uploaded\n",
      " 43%|████▎     | 2718/6300 [2:16:05<3:38:08,  3.65s/it, curr_speed=38.70 Mbps, mb_sent=935.41 Mb]COMET ERROR: File could not be uploaded\n",
      "COMET ERROR: File could not be uploaded\n",
      " 43%|████▎     | 2720/6300 [2:16:13<3:43:18,  3.74s/it, curr_speed=38.66 Mbps, mb_sent=936.18 Mb]COMET ERROR: File could not be uploaded\n",
      " 43%|████▎     | 2724/6300 [2:16:28<3:37:17,  3.65s/it, curr_speed=38.64 Mbps, mb_sent=937.67 Mb]COMET ERROR: File could not be uploaded\n",
      " 43%|████▎     | 2725/6300 [2:16:31<3:35:20,  3.61s/it, curr_speed=38.67 Mbps, mb_sent=938.08 Mb]COMET ERROR: File could not be uploaded\n",
      " 43%|████▎     | 2729/6300 [2:16:46<3:39:39,  3.69s/it, curr_speed=38.79 Mbps, mb_sent=939.68 Mb]COMET ERROR: File could not be uploaded\n",
      " 45%|████▌     | 2859/6300 [2:24:43<3:23:36,  3.55s/it, curr_speed=38.86 Mbps, mb_sent=990.01 Mb]COMET ERROR: File could not be uploaded\n",
      " 45%|████▌     | 2861/6300 [2:24:50<3:23:44,  3.55s/it, curr_speed=38.91 Mbps, mb_sent=990.82 Mb]COMET ERROR: File could not be uploaded\n",
      " 46%|████▌     | 2876/6300 [2:25:45<3:33:41,  3.74s/it, curr_speed=38.98 Mbps, mb_sent=996.76 Mb]COMET ERROR: File could not be uploaded\n",
      " 46%|████▌     | 2882/6300 [2:26:08<3:30:28,  3.69s/it, curr_speed=38.95 Mbps, mb_sent=999.04 Mb]COMET ERROR: File could not be uploaded\n",
      " 46%|████▌     | 2886/6300 [2:26:23<3:31:08,  3.71s/it, curr_speed=39.05 Mbps, mb_sent=1000.62 Mb]COMET ERROR: File could not be uploaded\n",
      " 46%|████▌     | 2890/6300 [2:26:36<3:20:33,  3.53s/it, curr_speed=39.12 Mbps, mb_sent=1002.20 Mb]COMET ERROR: File could not be uploaded\n",
      " 46%|████▌     | 2891/6300 [2:26:40<3:27:11,  3.65s/it, curr_speed=39.16 Mbps, mb_sent=1002.61 Mb]COMET ERROR: File could not be uploaded\n",
      " 46%|████▌     | 2900/6300 [2:27:13<3:19:22,  3.52s/it, curr_speed=39.16 Mbps, mb_sent=1006.08 Mb]COMET ERROR: File could not be uploaded\n",
      "COMET ERROR: File could not be uploaded\n",
      " 46%|████▌     | 2902/6300 [2:27:20<3:24:15,  3.61s/it, curr_speed=39.15 Mbps, mb_sent=1006.86 Mb]COMET ERROR: File could not be uploaded\n",
      " 46%|████▌     | 2903/6300 [2:27:24<3:30:50,  3.72s/it, curr_speed=39.13 Mbps, mb_sent=1007.21 Mb]COMET ERROR: File could not be uploaded\n",
      " 46%|████▌     | 2909/6300 [2:27:48<3:39:07,  3.88s/it, curr_speed=39.00 Mbps, mb_sent=1009.53 Mb]COMET ERROR: File could not be uploaded\n",
      " 46%|████▌     | 2912/6300 [2:27:59<3:30:50,  3.73s/it, curr_speed=38.94 Mbps, mb_sent=1010.66 Mb]COMET ERROR: File could not be uploaded\n",
      " 47%|████▋     | 2983/6300 [2:32:18<3:18:55,  3.60s/it, curr_speed=38.77 Mbps, mb_sent=1038.22 Mb]COMET ERROR: File could not be uploaded\n",
      " 47%|████▋     | 2984/6300 [2:32:22<3:11:32,  3.47s/it, curr_speed=38.76 Mbps, mb_sent=1038.62 Mb]COMET ERROR: File could not be uploaded\n",
      " 47%|████▋     | 2991/6300 [2:32:47<3:15:49,  3.55s/it, curr_speed=38.69 Mbps, mb_sent=1041.30 Mb]COMET ERROR: File could not be uploaded\n",
      " 48%|████▊     | 2995/6300 [2:33:02<3:19:00,  3.61s/it, curr_speed=38.81 Mbps, mb_sent=1042.95 Mb]COMET ERROR: File could not be uploaded\n",
      " 48%|████▊     | 2996/6300 [2:33:05<3:22:37,  3.68s/it, curr_speed=38.81 Mbps, mb_sent=1043.37 Mb]COMET ERROR: File could not be uploaded\n",
      " 48%|████▊     | 3006/6300 [2:33:42<3:20:49,  3.66s/it, curr_speed=38.71 Mbps, mb_sent=1047.11 Mb]COMET ERROR: File could not be uploaded\n",
      " 48%|████▊     | 3008/6300 [2:33:49<3:21:56,  3.68s/it, curr_speed=38.80 Mbps, mb_sent=1047.94 Mb]COMET ERROR: File could not be uploaded\n",
      " 48%|████▊     | 3009/6300 [2:33:53<3:22:19,  3.69s/it, curr_speed=38.81 Mbps, mb_sent=1048.34 Mb]COMET ERROR: File could not be uploaded\n",
      " 48%|████▊     | 3012/6300 [2:34:04<3:18:12,  3.62s/it, curr_speed=38.85 Mbps, mb_sent=1049.50 Mb]COMET ERROR: File could not be uploaded\n",
      " 48%|████▊     | 3014/6300 [2:34:11<3:16:03,  3.58s/it, curr_speed=38.78 Mbps, mb_sent=1050.28 Mb]COMET ERROR: File could not be uploaded\n",
      " 49%|████▉     | 3079/6300 [2:38:08<3:11:44,  3.57s/it, curr_speed=38.95 Mbps, mb_sent=1075.62 Mb]COMET ERROR: File could not be uploaded\n",
      "100%|██████████| 6300/6300 [5:53:48<00:00,  3.37s/it, curr_speed=39.20 Mbps, mb_sent=2321.97 Mb]  \n"
     ]
    },
    {
     "name": "stdout",
     "output_type": "stream",
     "text": [
      "Waiting for simulation script to connect on port: tcp://localhost:49752\n",
      "Please start proper ns-3 simulation script using ./waf --run \"...\"\n",
      "Waf: Entering directory `/home/samuel/ns-allinone-3.29/ns-3.29/build'\n",
      "Waf: Leaving directory `/home/samuel/ns-allinone-3.29/ns-3.29/build'\n",
      "Build commands will be stored in build/compile_commands.json\n",
      "'build' finished successfully (2.893s)\n"
     ]
    },
    {
     "name": "stderr",
     "output_type": "stream",
     "text": [
      "Ns3Env parameters:\n",
      "--nWifi: 6\n",
      "--simulationTime: 60\n",
      "--openGymPort: 49752\n",
      "--envStepTime: 0.01\n",
      "--seed: 42\n",
      "--agentType: continuous\n",
      "--scenario: convergence\n",
      "--dryRun: 0\n",
      "Simulation started\n",
      "Simulation process id: 3266745 (parent (waf shell) id: 3266715)\n",
      "Waiting for Python process to connect on port: tcp://localhost:49752\n",
      "Please start proper Python Gym Agent\n",
      "  0%|          | 0/6300 [00:00<?, ?it/s]"
     ]
    },
    {
     "name": "stdout",
     "output_type": "stream",
     "text": [
      "Sent 2321.97 Mb/s.\tMean speed: 38.70 Mb/s\tEpisode 11/15 finished\n",
      "\n",
      "11\n"
     ]
    },
    {
     "name": "stderr",
     "output_type": "stream",
     "text": [
      "100%|██████████| 6300/6300 [4:08:00<00:00,  2.36s/it, curr_speed=38.18 Mbps, mb_sent=2323.07 Mb]  \n"
     ]
    },
    {
     "name": "stdout",
     "output_type": "stream",
     "text": [
      "Waiting for simulation script to connect on port: tcp://localhost:34662\n",
      "Please start proper ns-3 simulation script using ./waf --run \"...\"\n",
      "Waf: Entering directory `/home/samuel/ns-allinone-3.29/ns-3.29/build'\n",
      "Waf: Leaving directory `/home/samuel/ns-allinone-3.29/ns-3.29/build'\n",
      "Build commands will be stored in build/compile_commands.json\n",
      "'build' finished successfully (2.216s)\n"
     ]
    },
    {
     "name": "stderr",
     "output_type": "stream",
     "text": [
      "Ns3Env parameters:\n",
      "--nWifi: 6\n",
      "--simulationTime: 60\n",
      "--openGymPort: 34662\n",
      "--envStepTime: 0.01\n",
      "--seed: 42\n",
      "--agentType: continuous\n",
      "--scenario: convergence\n",
      "--dryRun: 0\n",
      "Simulation started\n",
      "Simulation process id: 3317602 (parent (waf shell) id: 3317573)\n",
      "Waiting for Python process to connect on port: tcp://localhost:34662\n",
      "Please start proper Python Gym Agent\n",
      "  0%|          | 1/6300 [00:00<15:54,  6.60it/s, curr_speed=0.00 Mbps, mb_sent=0.00 Mb]"
     ]
    },
    {
     "name": "stdout",
     "output_type": "stream",
     "text": [
      "Sent 2323.07 Mb/s.\tMean speed: 38.72 Mb/s\tEpisode 12/15 finished\n",
      "\n",
      "12\n",
      "Turning off noise\n"
     ]
    },
    {
     "name": "stderr",
     "output_type": "stream",
     "text": [
      "100%|██████████| 6300/6300 [1:39:03<00:00,  1.06it/s, curr_speed=39.12 Mbps, mb_sent=2323.20 Mb]\n"
     ]
    },
    {
     "name": "stdout",
     "output_type": "stream",
     "text": [
      "Waiting for simulation script to connect on port: tcp://localhost:24468\n",
      "Please start proper ns-3 simulation script using ./waf --run \"...\"\n",
      "Waf: Entering directory `/home/samuel/ns-allinone-3.29/ns-3.29/build'\n",
      "Waf: Leaving directory `/home/samuel/ns-allinone-3.29/ns-3.29/build'\n",
      "Build commands will be stored in build/compile_commands.json\n",
      "'build' finished successfully (2.289s)\n"
     ]
    },
    {
     "name": "stderr",
     "output_type": "stream",
     "text": [
      "Ns3Env parameters:\n",
      "--nWifi: 6\n",
      "--simulationTime: 60\n",
      "--openGymPort: 24468\n",
      "--envStepTime: 0.01\n",
      "--seed: 42\n",
      "--agentType: continuous\n",
      "--scenario: convergence\n",
      "--dryRun: 0\n",
      "Simulation started\n",
      "Simulation process id: 3347228 (parent (waf shell) id: 3347208)\n",
      "Waiting for Python process to connect on port: tcp://localhost:24468\n",
      "Please start proper Python Gym Agent\n",
      "  0%|          | 0/6300 [00:00<?, ?it/s]"
     ]
    },
    {
     "name": "stdout",
     "output_type": "stream",
     "text": [
      "Sent 2323.20 Mb/s.\tMean speed: 38.72 Mb/s\tEpisode 13/15 finished\n",
      "\n",
      "13\n",
      "Turning off noise\n"
     ]
    },
    {
     "name": "stderr",
     "output_type": "stream",
     "text": [
      "100%|██████████| 6300/6300 [4:17:40<00:00,  2.45s/it, curr_speed=38.88 Mbps, mb_sent=2323.90 Mb]  \n"
     ]
    },
    {
     "name": "stdout",
     "output_type": "stream",
     "text": [
      "Waiting for simulation script to connect on port: tcp://localhost:15383\n",
      "Please start proper ns-3 simulation script using ./waf --run \"...\"\n",
      "Waf: Entering directory `/home/samuel/ns-allinone-3.29/ns-3.29/build'\n",
      "Waf: Leaving directory `/home/samuel/ns-allinone-3.29/ns-3.29/build'\n",
      "Build commands will be stored in build/compile_commands.json\n",
      "'build' finished successfully (2.329s)\n"
     ]
    },
    {
     "name": "stderr",
     "output_type": "stream",
     "text": [
      "Ns3Env parameters:\n",
      "--nWifi: 6\n",
      "--simulationTime: 60\n",
      "--openGymPort: 15383\n",
      "--envStepTime: 0.01\n",
      "--seed: 42\n",
      "--agentType: continuous\n",
      "--scenario: convergence\n",
      "--dryRun: 0\n",
      "Simulation started\n",
      "Simulation process id: 3389420 (parent (waf shell) id: 3389403)\n",
      "Waiting for Python process to connect on port: tcp://localhost:15383\n",
      "Please start proper Python Gym Agent\n",
      "  0%|          | 0/6300 [00:00<?, ?it/s]"
     ]
    },
    {
     "name": "stdout",
     "output_type": "stream",
     "text": [
      "Sent 2323.90 Mb/s.\tMean speed: 38.73 Mb/s\tEpisode 14/15 finished\n",
      "\n",
      "14\n",
      "Turning off noise\n"
     ]
    },
    {
     "name": "stderr",
     "output_type": "stream",
     "text": [
      "100%|██████████| 6300/6300 [29:23<00:00,  3.57it/s, curr_speed=38.62 Mbps, mb_sent=2318.18 Mb]\n"
     ]
    },
    {
     "name": "stdout",
     "output_type": "stream",
     "text": [
      "Waiting for simulation script to connect on port: tcp://localhost:19333\n",
      "Please start proper ns-3 simulation script using ./waf --run \"...\"\n",
      "Waf: Entering directory `/home/samuel/ns-allinone-3.29/ns-3.29/build'\n",
      "Waf: Leaving directory `/home/samuel/ns-allinone-3.29/ns-3.29/build'\n",
      "Build commands will be stored in build/compile_commands.json\n",
      "'build' finished successfully (2.276s)\n"
     ]
    },
    {
     "name": "stderr",
     "output_type": "stream",
     "text": [
      "Ns3Env parameters:\n",
      "--nWifi: 6\n",
      "--simulationTime: 60\n",
      "--openGymPort: 19333\n",
      "--envStepTime: 0.01\n",
      "--seed: 42\n",
      "--agentType: continuous\n",
      "--scenario: convergence\n",
      "--dryRun: 0\n",
      "Simulation started\n",
      "Simulation process id: 3399782 (parent (waf shell) id: 3399764)\n",
      "Waiting for Python process to connect on port: tcp://localhost:19333\n",
      "Please start proper Python Gym Agent\n",
      "COMET INFO: ----------------------------\n",
      "COMET INFO: Comet.ml Experiment Summary:\n",
      "COMET INFO:   Data:\n",
      "COMET INFO:     url: https://www.comet.com/sheila-janota/rl-in-wifi-with-queue-level/daf3c9c79fb148f8bb59b8b858b89baa\n",
      "COMET INFO:   Metrics [count] (min, max):\n",
      "COMET INFO:     Chosen CW [89985]           : (16.0, 1024.0)\n",
      "COMET INFO:     Cumulative reward [15]      : (2613.096435546875, 3251.67529296875)\n",
      "COMET INFO:     Current throughput [89985]  : (21.020875930786133, 52.73088455200195)\n",
      "COMET INFO:     Fairness index [89985]      : (0.17593500018119812, 0.9999210238456726)\n",
      "COMET INFO:     Megabytes sent [89985]      : (0.31274399161338806, 2323.901169002056)\n",
      "COMET INFO:     Observation 0 [89985]       : (0.681771444901824, 0.8571428656578064)\n",
      "COMET INFO:     Observation 1 [89985]       : (0.0, 0.08802272814583026)\n",
      "COMET INFO:     Per-ep reward [89985]       : (133.40771484375, 3251.67529296875)\n",
      "COMET INFO:     Round megabytes sent [89985]: (0.0, 11.8619384765625)\n",
      "COMET INFO:     Round reward [89985]        : (0.0, 0.968017578125)\n",
      "COMET INFO:     Speed [15]                  : (31.768846846185625, 38.73168615003427)\n",
      "COMET INFO:     Station count [89985]       : (5.0, 6.0)\n",
      "COMET INFO:     actor_loss [89985]          : (-1.726180911064148, 0.0)\n",
      "COMET INFO:     critic_loss [89985]         : (0.0, 5.5406389236450195)\n",
      "COMET INFO:     loss [33578]                : (-1.7261656522750854, 0.7289766073226929)\n",
      "COMET INFO:   Uploads:\n",
      "COMET INFO:     histogram3d: 89985\n",
      "COMET INFO: ----------------------------\n"
     ]
    },
    {
     "name": "stdout",
     "output_type": "stream",
     "text": [
      "Sent 2318.18 Mb/s.\tMean speed: 38.64 Mb/s\tEpisode 15/15 finished\n",
      "\n"
     ]
    },
    {
     "name": "stderr",
     "output_type": "stream",
     "text": [
      "COMET INFO: Uploading stats to Comet before program termination (may take several seconds)\n"
     ]
    },
    {
     "name": "stdout",
     "output_type": "stream",
     "text": [
      "Training finished.\n"
     ]
    }
   ],
   "source": [
    "#%%\n",
    "teacher = Teacher(env, 1, Preprocessor(False))\n",
    "\n",
    "lr_actor = 4e-4\n",
    "lr_critic = 4e-3\n",
    "\n",
    "config = Config(buffer_size=4*steps_per_ep*threads_no, batch_size=32, gamma=0.7, tau=1e-3, lr_actor=lr_actor, lr_critic=lr_critic, update_every=1)\n",
    "agent = Agent(history_length, action_size=1, config=config, actor_layers=[8, 128, 16], critic_layers=[8,128,16])\n",
    "\n",
    "# Test the model\n",
    "hyperparams = {**config.__dict__, **sim_args}\n",
    "tags = [\"Rew: normalized speed\",\n",
    "        f\"{Agent.NAME}\",\n",
    "        sim_args['scenario'],\n",
    "        f\"Actor: {lr_actor}\",\n",
    "        f\"Critic: {lr_critic}\",\n",
    "        f\"Instances: {threads_no}\",\n",
    "        f\"Station count: {sim_args['nWifi']}\",\n",
    "        *[f\"{key}: {sim_args[key]}\" for key in list(sim_args)[:3]]]\n",
    "# agent.save()\n",
    "logger = teacher.train(agent, EPISODE_COUNT,\n",
    "                        simTime=simTime,\n",
    "                        stepTime=stepTime,\n",
    "                        history_length=history_length,\n",
    "                        send_logs=True,\n",
    "                        experimental=True,\n",
    "                        tags=tags,\n",
    "                        parameters=hyperparams)\n",
    "# logger = teacher.eval(agent,\n",
    "#                         simTime=simTime,\n",
    "#                         stepTime=stepTime,\n",
    "#                         history_length=history_length,\n",
    "#                         tags=tags,\n",
    "#                         parameters=hyperparams)\n",
    "# agent.save()"
   ]
  },
  {
   "cell_type": "code",
   "execution_count": null,
   "id": "9ba0e3a3",
   "metadata": {},
   "outputs": [],
   "source": []
  },
  {
   "cell_type": "markdown",
   "id": "5418be81",
   "metadata": {},
   "source": [
    "# Execution num3:"
   ]
  },
  {
   "cell_type": "code",
   "execution_count": 1,
   "id": "b560ebdc",
   "metadata": {},
   "outputs": [],
   "source": [
    "#%%\n",
    "from ns3gym import ns3env\n",
    "from comet_ml import Experiment, Optimizer\n",
    "import tqdm\n",
    "import subprocess\n",
    "from collections import deque\n",
    "import numpy as np\n",
    "\n",
    "from agents.ddpg.agent import Agent, Config\n",
    "from agents.ddpg.model import Actor\n",
    "from agents.teacher import Teacher, EnvWrapper\n",
    "from preprocessor import Preprocessor"
   ]
  },
  {
   "cell_type": "code",
   "execution_count": 2,
   "id": "7eed171f",
   "metadata": {},
   "outputs": [
    {
     "name": "stdout",
     "output_type": "stream",
     "text": [
      "Steps per episode: 6000\n",
      "Waiting for simulation script to connect on port: tcp://localhost:46423\n",
      "Please start proper ns-3 simulation script using ./waf --run \"...\"\n",
      "Waf: Entering directory `/home/samuel/ns-allinone-3.29/ns-3.29/build'\n",
      "Waf: Leaving directory `/home/samuel/ns-allinone-3.29/ns-3.29/build'\n",
      "Build commands will be stored in build/compile_commands.json\n",
      "'build' finished successfully (2.114s)\n"
     ]
    },
    {
     "name": "stderr",
     "output_type": "stream",
     "text": [
      "Ns3Env parameters:\n",
      "--nWifi: 6\n",
      "--simulationTime: 60\n",
      "--openGymPort: 46423\n",
      "--envStepTime: 0.01\n",
      "--seed: 42\n",
      "--agentType: continuous\n",
      "--scenario: convergence\n",
      "--dryRun: 0\n",
      "Simulation started\n"
     ]
    },
    {
     "name": "stdout",
     "output_type": "stream",
     "text": [
      "Observation space shape: (1, 300)\n",
      "Action space shape: (1, 1)\n"
     ]
    },
    {
     "name": "stderr",
     "output_type": "stream",
     "text": [
      "Simulation process id: 134559 (parent (waf shell) id: 134535)\n",
      "Waiting for Python process to connect on port: tcp://localhost:46423\n",
      "Please start proper Python Gym Agent\n"
     ]
    }
   ],
   "source": [
    "#%%\n",
    "scenario = \"convergence\"\n",
    "\n",
    "simTime = 60 # seconds\n",
    "stepTime = 0.01  # seconds\n",
    "history_length = 300\n",
    "\n",
    "EPISODE_COUNT = 15\n",
    "steps_per_ep = int(simTime/stepTime)\n",
    "\n",
    "sim_args = {\n",
    "    \"simTime\": simTime,\n",
    "    \"envStepTime\": stepTime,\n",
    "    \"historyLength\": history_length,\n",
    "    \"agentType\": Agent.TYPE,\n",
    "    \"scenario\": \"convergence\",\n",
    "    \"nWifi\": 6,\n",
    "}\n",
    "\n",
    "print(\"Steps per episode:\", steps_per_ep)\n",
    "\n",
    "threads_no = 1\n",
    "env = EnvWrapper(threads_no, **sim_args)\n",
    "\n",
    "#%%\n",
    "env.reset()\n",
    "ob_space = env.observation_space\n",
    "ac_space = env.action_space\n",
    "\n",
    "print(\"Observation space shape:\", ob_space)\n",
    "print(\"Action space shape:\", ac_space)\n",
    "\n",
    "assert ob_space is not None"
   ]
  },
  {
   "cell_type": "code",
   "execution_count": 3,
   "id": "e397a374",
   "metadata": {},
   "outputs": [
    {
     "name": "stdout",
     "output_type": "stream",
     "text": [
      "CuDNN version: 7102\n",
      "cpu\n"
     ]
    },
    {
     "name": "stderr",
     "output_type": "stream",
     "text": [
      "COMET INFO: Experiment is live on comet.ml https://www.comet.com/sheila-janota/rl-in-wifi-with-queue-level/036fa4fdb689443bbbd653ab7189f260\n",
      "\n",
      "  0%|          | 1/6300 [00:00<12:29,  8.41it/s, curr_speed=0.00 Mbps, mb_sent=0.00 Mb]"
     ]
    },
    {
     "name": "stdout",
     "output_type": "stream",
     "text": [
      "0\n"
     ]
    },
    {
     "name": "stderr",
     "output_type": "stream",
     "text": [
      "  5%|▌         | 335/6300 [00:44<14:06,  7.05it/s, curr_speed=34.30 Mbps, mb_sent=11.66 Mb]"
     ]
    },
    {
     "name": "stdout",
     "output_type": "stream",
     "text": [
      "------- STARTED TRAINING -------\n"
     ]
    },
    {
     "name": "stderr",
     "output_type": "stream",
     "text": [
      "100%|██████████| 6300/6300 [2:48:29<00:00,  1.60s/it, curr_speed=32.28 Mbps, mb_sent=1948.72 Mb]  \n"
     ]
    },
    {
     "name": "stdout",
     "output_type": "stream",
     "text": [
      "Waiting for simulation script to connect on port: tcp://localhost:31946\n",
      "Please start proper ns-3 simulation script using ./waf --run \"...\"\n",
      "Waf: Entering directory `/home/samuel/ns-allinone-3.29/ns-3.29/build'\n",
      "Waf: Leaving directory `/home/samuel/ns-allinone-3.29/ns-3.29/build'\n",
      "Build commands will be stored in build/compile_commands.json\n",
      "'build' finished successfully (2.219s)\n"
     ]
    },
    {
     "name": "stderr",
     "output_type": "stream",
     "text": [
      "Ns3Env parameters:\n",
      "--nWifi: 6\n",
      "--simulationTime: 60\n",
      "--openGymPort: 31946\n",
      "--envStepTime: 0.01\n",
      "--seed: 42\n",
      "--agentType: continuous\n",
      "--scenario: convergence\n",
      "--dryRun: 0\n",
      "Simulation started\n",
      "Simulation process id: 167081 (parent (waf shell) id: 167060)\n",
      "Waiting for Python process to connect on port: tcp://localhost:31946\n",
      "Please start proper Python Gym Agent\n",
      "  0%|          | 0/6300 [00:00<?, ?it/s]"
     ]
    },
    {
     "name": "stdout",
     "output_type": "stream",
     "text": [
      "Sent 1948.72 Mb/s.\tMean speed: 32.48 Mb/s\tEpisode 1/15 finished\n",
      "\n",
      "1\n"
     ]
    },
    {
     "name": "stderr",
     "output_type": "stream",
     "text": [
      "100%|██████████| 6300/6300 [2:47:20<00:00,  1.59s/it, curr_speed=32.69 Mbps, mb_sent=2009.07 Mb]  \n"
     ]
    },
    {
     "name": "stdout",
     "output_type": "stream",
     "text": [
      "Waiting for simulation script to connect on port: tcp://localhost:17839\n",
      "Please start proper ns-3 simulation script using ./waf --run \"...\"\n",
      "Waf: Entering directory `/home/samuel/ns-allinone-3.29/ns-3.29/build'\n",
      "Waf: Leaving directory `/home/samuel/ns-allinone-3.29/ns-3.29/build'\n",
      "Build commands will be stored in build/compile_commands.json\n",
      "'build' finished successfully (2.234s)\n"
     ]
    },
    {
     "name": "stderr",
     "output_type": "stream",
     "text": [
      "Ns3Env parameters:\n",
      "--nWifi: 6\n",
      "--simulationTime: 60\n",
      "--openGymPort: 17839\n",
      "--envStepTime: 0.01\n",
      "--seed: 42\n",
      "--agentType: continuous\n",
      "--scenario: convergence\n",
      "--dryRun: 0\n",
      "Simulation started\n",
      "Simulation process id: 198988 (parent (waf shell) id: 198969)\n",
      "Waiting for Python process to connect on port: tcp://localhost:17839\n",
      "Please start proper Python Gym Agent\n",
      "  0%|          | 1/6300 [00:00<18:05,  5.80it/s, curr_speed=0.00 Mbps, mb_sent=0.00 Mb]"
     ]
    },
    {
     "name": "stdout",
     "output_type": "stream",
     "text": [
      "Sent 2009.07 Mb/s.\tMean speed: 33.48 Mb/s\tEpisode 2/15 finished\n",
      "\n",
      "2\n"
     ]
    },
    {
     "name": "stderr",
     "output_type": "stream",
     "text": [
      "100%|██████████| 6300/6300 [2:46:50<00:00,  1.59s/it, curr_speed=34.57 Mbps, mb_sent=2110.84 Mb]  \n"
     ]
    },
    {
     "name": "stdout",
     "output_type": "stream",
     "text": [
      "Waiting for simulation script to connect on port: tcp://localhost:34912\n",
      "Please start proper ns-3 simulation script using ./waf --run \"...\"\n",
      "Waf: Entering directory `/home/samuel/ns-allinone-3.29/ns-3.29/build'\n",
      "Waf: Leaving directory `/home/samuel/ns-allinone-3.29/ns-3.29/build'\n",
      "Build commands will be stored in build/compile_commands.json\n",
      "'build' finished successfully (2.339s)\n"
     ]
    },
    {
     "name": "stderr",
     "output_type": "stream",
     "text": [
      "Ns3Env parameters:\n",
      "--nWifi: 6\n",
      "--simulationTime: 60\n",
      "--openGymPort: 34912\n",
      "--envStepTime: 0.01\n",
      "--seed: 42\n",
      "--agentType: continuous\n",
      "--scenario: convergence\n",
      "--dryRun: 0\n",
      "Simulation started\n",
      "Simulation process id: 230962 (parent (waf shell) id: 230943)\n",
      "Waiting for Python process to connect on port: tcp://localhost:34912\n",
      "Please start proper Python Gym Agent\n",
      "  0%|          | 1/6300 [00:00<19:37,  5.35it/s, curr_speed=0.00 Mbps, mb_sent=0.00 Mb]"
     ]
    },
    {
     "name": "stdout",
     "output_type": "stream",
     "text": [
      "Sent 2110.84 Mb/s.\tMean speed: 35.18 Mb/s\tEpisode 3/15 finished\n",
      "\n",
      "3\n"
     ]
    },
    {
     "name": "stderr",
     "output_type": "stream",
     "text": [
      "100%|██████████| 6300/6300 [2:47:07<00:00,  1.59s/it, curr_speed=30.54 Mbps, mb_sent=2183.65 Mb]  \n"
     ]
    },
    {
     "name": "stdout",
     "output_type": "stream",
     "text": [
      "Waiting for simulation script to connect on port: tcp://localhost:32723\n",
      "Please start proper ns-3 simulation script using ./waf --run \"...\"\n",
      "Waf: Entering directory `/home/samuel/ns-allinone-3.29/ns-3.29/build'\n",
      "Waf: Leaving directory `/home/samuel/ns-allinone-3.29/ns-3.29/build'\n",
      "Build commands will be stored in build/compile_commands.json\n",
      "'build' finished successfully (2.243s)\n"
     ]
    },
    {
     "name": "stderr",
     "output_type": "stream",
     "text": [
      "Ns3Env parameters:\n",
      "--nWifi: 6\n",
      "--simulationTime: 60\n",
      "--openGymPort: 32723\n",
      "--envStepTime: 0.01\n",
      "--seed: 42\n",
      "--agentType: continuous\n",
      "--scenario: convergence\n",
      "--dryRun: 0\n",
      "Simulation started\n",
      "Simulation process id: 262976 (parent (waf shell) id: 262958)\n",
      "Waiting for Python process to connect on port: tcp://localhost:32723\n",
      "Please start proper Python Gym Agent\n",
      "  0%|          | 0/6300 [00:00<?, ?it/s]"
     ]
    },
    {
     "name": "stdout",
     "output_type": "stream",
     "text": [
      "Sent 2183.65 Mb/s.\tMean speed: 36.39 Mb/s\tEpisode 4/15 finished\n",
      "\n",
      "4\n"
     ]
    },
    {
     "name": "stderr",
     "output_type": "stream",
     "text": [
      "  5%|▍         | 304/6300 [01:09<1:48:04,  1.08s/it, curr_speed=37.23 Mbps, mb_sent=1.12 Mb]"
     ]
    },
    {
     "name": "stdout",
     "output_type": "stream",
     "text": [
      "------- MEMORY BUFFER FILLED -------\n"
     ]
    },
    {
     "name": "stderr",
     "output_type": "stream",
     "text": [
      "100%|██████████| 6300/6300 [2:46:43<00:00,  1.59s/it, curr_speed=37.35 Mbps, mb_sent=2244.59 Mb]  \n"
     ]
    },
    {
     "name": "stdout",
     "output_type": "stream",
     "text": [
      "Waiting for simulation script to connect on port: tcp://localhost:30581\n",
      "Please start proper ns-3 simulation script using ./waf --run \"...\"\n",
      "Waf: Entering directory `/home/samuel/ns-allinone-3.29/ns-3.29/build'\n",
      "Waf: Leaving directory `/home/samuel/ns-allinone-3.29/ns-3.29/build'\n",
      "Build commands will be stored in build/compile_commands.json\n",
      "'build' finished successfully (2.421s)\n"
     ]
    },
    {
     "name": "stderr",
     "output_type": "stream",
     "text": [
      "Ns3Env parameters:\n",
      "--nWifi: 6\n",
      "--simulationTime: 60\n",
      "--openGymPort: 30581\n",
      "--envStepTime: 0.01\n",
      "--seed: 42\n",
      "--agentType: continuous\n",
      "--scenario: convergence\n",
      "--dryRun: 0\n",
      "Simulation started\n",
      "Simulation process id: 294475 (parent (waf shell) id: 294458)\n",
      "Waiting for Python process to connect on port: tcp://localhost:30581\n",
      "Please start proper Python Gym Agent\n",
      "  0%|          | 1/6300 [00:00<18:55,  5.55it/s, curr_speed=0.00 Mbps, mb_sent=0.00 Mb]"
     ]
    },
    {
     "name": "stdout",
     "output_type": "stream",
     "text": [
      "Sent 2244.59 Mb/s.\tMean speed: 37.41 Mb/s\tEpisode 5/15 finished\n",
      "\n",
      "5\n"
     ]
    },
    {
     "name": "stderr",
     "output_type": "stream",
     "text": [
      "100%|██████████| 6300/6300 [2:46:25<00:00,  1.58s/it, curr_speed=38.09 Mbps, mb_sent=2275.72 Mb]  \n"
     ]
    },
    {
     "name": "stdout",
     "output_type": "stream",
     "text": [
      "Waiting for simulation script to connect on port: tcp://localhost:22827\n",
      "Please start proper ns-3 simulation script using ./waf --run \"...\"\n",
      "Waf: Entering directory `/home/samuel/ns-allinone-3.29/ns-3.29/build'\n",
      "Waf: Leaving directory `/home/samuel/ns-allinone-3.29/ns-3.29/build'\n",
      "Build commands will be stored in build/compile_commands.json\n",
      "'build' finished successfully (2.293s)\n"
     ]
    },
    {
     "name": "stderr",
     "output_type": "stream",
     "text": [
      "Ns3Env parameters:\n",
      "--nWifi: 6\n",
      "--simulationTime: 60\n",
      "--openGymPort: 22827\n",
      "--envStepTime: 0.01\n",
      "--seed: 42\n",
      "--agentType: continuous\n",
      "--scenario: convergence\n",
      "--dryRun: 0\n",
      "Simulation started\n",
      "Simulation process id: 326477 (parent (waf shell) id: 326457)\n",
      "Waiting for Python process to connect on port: tcp://localhost:22827\n",
      "Please start proper Python Gym Agent\n",
      "  0%|          | 0/6300 [00:00<?, ?it/s]"
     ]
    },
    {
     "name": "stdout",
     "output_type": "stream",
     "text": [
      "Sent 2275.72 Mb/s.\tMean speed: 37.93 Mb/s\tEpisode 6/15 finished\n",
      "\n",
      "6\n"
     ]
    },
    {
     "name": "stderr",
     "output_type": "stream",
     "text": [
      "100%|██████████| 6300/6300 [2:46:39<00:00,  1.59s/it, curr_speed=37.78 Mbps, mb_sent=2289.86 Mb]  \n"
     ]
    },
    {
     "name": "stdout",
     "output_type": "stream",
     "text": [
      "Waiting for simulation script to connect on port: tcp://localhost:19079\n",
      "Please start proper ns-3 simulation script using ./waf --run \"...\"\n",
      "Waf: Entering directory `/home/samuel/ns-allinone-3.29/ns-3.29/build'\n",
      "Waf: Leaving directory `/home/samuel/ns-allinone-3.29/ns-3.29/build'\n",
      "Build commands will be stored in build/compile_commands.json\n",
      "'build' finished successfully (2.233s)\n"
     ]
    },
    {
     "name": "stderr",
     "output_type": "stream",
     "text": [
      "Ns3Env parameters:\n",
      "--nWifi: 6\n",
      "--simulationTime: 60\n",
      "--openGymPort: 19079\n",
      "--envStepTime: 0.01\n",
      "--seed: 42\n",
      "--agentType: continuous\n",
      "--scenario: convergence\n",
      "--dryRun: 0\n",
      "Simulation started\n",
      "Simulation process id: 358363 (parent (waf shell) id: 358346)\n",
      "Waiting for Python process to connect on port: tcp://localhost:19079\n",
      "Please start proper Python Gym Agent\n",
      "  0%|          | 1/6300 [00:00<17:01,  6.17it/s, curr_speed=0.00 Mbps, mb_sent=0.00 Mb]"
     ]
    },
    {
     "name": "stdout",
     "output_type": "stream",
     "text": [
      "Sent 2289.86 Mb/s.\tMean speed: 38.16 Mb/s\tEpisode 7/15 finished\n",
      "\n",
      "7\n"
     ]
    },
    {
     "name": "stderr",
     "output_type": "stream",
     "text": [
      "100%|██████████| 6300/6300 [2:48:44<00:00,  1.61s/it, curr_speed=38.45 Mbps, mb_sent=2299.88 Mb]  \n"
     ]
    },
    {
     "name": "stdout",
     "output_type": "stream",
     "text": [
      "Waiting for simulation script to connect on port: tcp://localhost:26254\n",
      "Please start proper ns-3 simulation script using ./waf --run \"...\"\n",
      "Waf: Entering directory `/home/samuel/ns-allinone-3.29/ns-3.29/build'\n",
      "Waf: Leaving directory `/home/samuel/ns-allinone-3.29/ns-3.29/build'\n",
      "Build commands will be stored in build/compile_commands.json\n",
      "'build' finished successfully (2.309s)\n"
     ]
    },
    {
     "name": "stderr",
     "output_type": "stream",
     "text": [
      "Ns3Env parameters:\n",
      "--nWifi: 6\n",
      "--simulationTime: 60\n",
      "--openGymPort: 26254\n",
      "--envStepTime: 0.01\n",
      "--seed: 42\n",
      "--agentType: continuous\n",
      "--scenario: convergence\n",
      "--dryRun: 0\n",
      "Simulation started\n",
      "Simulation process id: 390816 (parent (waf shell) id: 390798)\n",
      "Waiting for Python process to connect on port: tcp://localhost:26254\n",
      "Please start proper Python Gym Agent\n",
      "  0%|          | 0/6300 [00:00<?, ?it/s]"
     ]
    },
    {
     "name": "stdout",
     "output_type": "stream",
     "text": [
      "Sent 2299.88 Mb/s.\tMean speed: 38.33 Mb/s\tEpisode 8/15 finished\n",
      "\n",
      "8\n"
     ]
    },
    {
     "name": "stderr",
     "output_type": "stream",
     "text": [
      "100%|██████████| 6300/6300 [2:11:24<00:00,  1.25s/it, curr_speed=38.50 Mbps, mb_sent=2306.49 Mb]  \n"
     ]
    },
    {
     "name": "stdout",
     "output_type": "stream",
     "text": [
      "Waiting for simulation script to connect on port: tcp://localhost:24599\n",
      "Please start proper ns-3 simulation script using ./waf --run \"...\"\n",
      "Waf: Entering directory `/home/samuel/ns-allinone-3.29/ns-3.29/build'\n",
      "Waf: Leaving directory `/home/samuel/ns-allinone-3.29/ns-3.29/build'\n",
      "Build commands will be stored in build/compile_commands.json\n",
      "'build' finished successfully (2.293s)\n"
     ]
    },
    {
     "name": "stderr",
     "output_type": "stream",
     "text": [
      "Ns3Env parameters:\n",
      "--nWifi: 6\n",
      "--simulationTime: 60\n",
      "--openGymPort: 24599\n",
      "--envStepTime: 0.01\n",
      "--seed: 42\n",
      "--agentType: continuous\n",
      "--scenario: convergence\n",
      "--dryRun: 0\n",
      "Simulation started\n",
      "Simulation process id: 421386 (parent (waf shell) id: 421365)\n",
      "Waiting for Python process to connect on port: tcp://localhost:24599\n",
      "Please start proper Python Gym Agent\n",
      "  0%|          | 0/6300 [00:00<?, ?it/s]"
     ]
    },
    {
     "name": "stdout",
     "output_type": "stream",
     "text": [
      "Sent 2306.49 Mb/s.\tMean speed: 38.44 Mb/s\tEpisode 9/15 finished\n",
      "\n",
      "9\n"
     ]
    },
    {
     "name": "stderr",
     "output_type": "stream",
     "text": [
      " 31%|███       | 1922/6300 [42:54<1:46:32,  1.46s/it, curr_speed=38.90 Mbps, mb_sent=627.26 Mb]COMET ERROR: File could not be uploaded\n",
      " 31%|███       | 1932/6300 [43:09<1:50:47,  1.52s/it, curr_speed=38.87 Mbps, mb_sent=631.15 Mb]COMET ERROR: File could not be uploaded\n",
      " 31%|███       | 1934/6300 [43:11<1:45:03,  1.44s/it, curr_speed=38.89 Mbps, mb_sent=631.91 Mb]COMET ERROR: File could not be uploaded\n",
      " 31%|███       | 1936/6300 [43:14<1:39:46,  1.37s/it, curr_speed=38.91 Mbps, mb_sent=632.67 Mb]COMET ERROR: File could not be uploaded\n",
      " 31%|███       | 1939/6300 [43:18<1:41:19,  1.39s/it, curr_speed=38.96 Mbps, mb_sent=633.83 Mb]COMET ERROR: File could not be uploaded\n",
      " 31%|███       | 1941/6300 [43:21<1:43:10,  1.42s/it, curr_speed=39.01 Mbps, mb_sent=634.65 Mb]COMET ERROR: File could not be uploaded\n",
      " 31%|███       | 1946/6300 [43:29<1:52:54,  1.56s/it, curr_speed=38.95 Mbps, mb_sent=636.64 Mb]COMET ERROR: File could not be uploaded\n",
      " 31%|███       | 1948/6300 [43:33<1:59:35,  1.65s/it, curr_speed=38.94 Mbps, mb_sent=637.41 Mb]COMET ERROR: File could not be uploaded\n",
      " 31%|███       | 1950/6300 [43:36<1:50:43,  1.53s/it, curr_speed=38.89 Mbps, mb_sent=638.18 Mb]COMET ERROR: File could not be uploaded\n",
      " 31%|███       | 1952/6300 [43:39<1:48:06,  1.49s/it, curr_speed=38.87 Mbps, mb_sent=638.94 Mb]COMET ERROR: File could not be uploaded\n",
      " 31%|███       | 1953/6300 [43:40<1:43:20,  1.43s/it, curr_speed=38.88 Mbps, mb_sent=639.33 Mb]COMET ERROR: File could not be uploaded\n",
      " 31%|███       | 1954/6300 [43:42<1:54:00,  1.57s/it, curr_speed=38.86 Mbps, mb_sent=639.70 Mb]COMET ERROR: File could not be uploaded\n",
      "COMET ERROR: File could not be uploaded\n",
      " 31%|███       | 1963/6300 [43:57<2:00:18,  1.66s/it, curr_speed=38.80 Mbps, mb_sent=643.19 Mb]COMET ERROR: File could not be uploaded\n",
      " 31%|███       | 1964/6300 [43:58<1:47:52,  1.49s/it, curr_speed=38.84 Mbps, mb_sent=643.63 Mb]COMET ERROR: File could not be uploaded\n",
      " 31%|███▏      | 1974/6300 [44:16<2:31:13,  2.10s/it, curr_speed=39.04 Mbps, mb_sent=647.58 Mb]COMET ERROR: File could not be uploaded\n",
      " 31%|███▏      | 1980/6300 [44:30<2:36:28,  2.17s/it, curr_speed=38.95 Mbps, mb_sent=649.95 Mb]COMET ERROR: File could not be uploaded\n",
      " 32%|███▏      | 1987/6300 [44:41<2:08:14,  1.78s/it, curr_speed=38.90 Mbps, mb_sent=652.64 Mb]COMET ERROR: File could not be uploaded\n",
      "100%|██████████| 6300/6300 [2:33:56<00:00,  1.47s/it, curr_speed=38.78 Mbps, mb_sent=2310.88 Mb]  \n"
     ]
    },
    {
     "name": "stdout",
     "output_type": "stream",
     "text": [
      "Waiting for simulation script to connect on port: tcp://localhost:53818\n",
      "Please start proper ns-3 simulation script using ./waf --run \"...\"\n",
      "Waf: Entering directory `/home/samuel/ns-allinone-3.29/ns-3.29/build'\n",
      "Waf: Leaving directory `/home/samuel/ns-allinone-3.29/ns-3.29/build'\n",
      "Build commands will be stored in build/compile_commands.json\n",
      "'build' finished successfully (2.281s)\n"
     ]
    },
    {
     "name": "stderr",
     "output_type": "stream",
     "text": [
      "Ns3Env parameters:\n",
      "--nWifi: 6\n",
      "--simulationTime: 60\n",
      "--openGymPort: 53818\n",
      "--envStepTime: 0.01\n",
      "--seed: 42\n",
      "--agentType: continuous\n",
      "--scenario: convergence\n",
      "--dryRun: 0\n",
      "Simulation started\n",
      "Simulation process id: 456312 (parent (waf shell) id: 456293)\n",
      "Waiting for Python process to connect on port: tcp://localhost:53818\n",
      "Please start proper Python Gym Agent\n",
      "  0%|          | 0/6300 [00:00<?, ?it/s]"
     ]
    },
    {
     "name": "stdout",
     "output_type": "stream",
     "text": [
      "Sent 2310.88 Mb/s.\tMean speed: 38.51 Mb/s\tEpisode 10/15 finished\n",
      "\n",
      "10\n"
     ]
    },
    {
     "name": "stderr",
     "output_type": "stream",
     "text": [
      "100%|██████████| 6300/6300 [2:32:43<00:00,  1.45s/it, curr_speed=38.75 Mbps, mb_sent=2318.19 Mb]  \n"
     ]
    },
    {
     "name": "stdout",
     "output_type": "stream",
     "text": [
      "Waiting for simulation script to connect on port: tcp://localhost:37638\n",
      "Please start proper ns-3 simulation script using ./waf --run \"...\"\n",
      "Waf: Entering directory `/home/samuel/ns-allinone-3.29/ns-3.29/build'\n",
      "Waf: Leaving directory `/home/samuel/ns-allinone-3.29/ns-3.29/build'\n",
      "Build commands will be stored in build/compile_commands.json\n",
      "'build' finished successfully (2.334s)\n"
     ]
    },
    {
     "name": "stderr",
     "output_type": "stream",
     "text": [
      "Ns3Env parameters:\n",
      "--nWifi: 6\n",
      "--simulationTime: 60\n",
      "--openGymPort: 37638\n",
      "--envStepTime: 0.01\n",
      "--seed: 42\n",
      "--agentType: continuous\n",
      "--scenario: convergence\n",
      "--dryRun: 0\n",
      "Simulation started\n",
      "Simulation process id: 490870 (parent (waf shell) id: 490849)\n",
      "Waiting for Python process to connect on port: tcp://localhost:37638\n",
      "Please start proper Python Gym Agent\n",
      "  0%|          | 0/6300 [00:00<?, ?it/s]"
     ]
    },
    {
     "name": "stdout",
     "output_type": "stream",
     "text": [
      "Sent 2318.19 Mb/s.\tMean speed: 38.64 Mb/s\tEpisode 11/15 finished\n",
      "\n",
      "11\n"
     ]
    },
    {
     "name": "stderr",
     "output_type": "stream",
     "text": [
      "100%|██████████| 6300/6300 [2:33:12<00:00,  1.46s/it, curr_speed=38.66 Mbps, mb_sent=2324.81 Mb]  \n"
     ]
    },
    {
     "name": "stdout",
     "output_type": "stream",
     "text": [
      "Waiting for simulation script to connect on port: tcp://localhost:20931\n",
      "Please start proper ns-3 simulation script using ./waf --run \"...\"\n",
      "Waf: Entering directory `/home/samuel/ns-allinone-3.29/ns-3.29/build'\n",
      "Waf: Leaving directory `/home/samuel/ns-allinone-3.29/ns-3.29/build'\n",
      "Build commands will be stored in build/compile_commands.json\n",
      "'build' finished successfully (2.235s)\n"
     ]
    },
    {
     "name": "stderr",
     "output_type": "stream",
     "text": [
      "Ns3Env parameters:\n",
      "--nWifi: 6\n",
      "--simulationTime: 60\n",
      "--openGymPort: 20931\n",
      "--envStepTime: 0.01\n",
      "--seed: 42\n",
      "--agentType: continuous\n",
      "--scenario: convergence\n",
      "--dryRun: 0\n",
      "Simulation started\n",
      "Simulation process id: 525523 (parent (waf shell) id: 525502)\n",
      "Waiting for Python process to connect on port: tcp://localhost:20931\n",
      "Please start proper Python Gym Agent\n",
      "  0%|          | 1/6300 [00:00<17:07,  6.13it/s, curr_speed=0.00 Mbps, mb_sent=0.00 Mb]"
     ]
    },
    {
     "name": "stdout",
     "output_type": "stream",
     "text": [
      "Sent 2324.81 Mb/s.\tMean speed: 38.75 Mb/s\tEpisode 12/15 finished\n",
      "\n",
      "12\n",
      "Turning off noise\n"
     ]
    },
    {
     "name": "stderr",
     "output_type": "stream",
     "text": [
      "100%|██████████| 6300/6300 [2:33:08<00:00,  1.46s/it, curr_speed=38.53 Mbps, mb_sent=2320.74 Mb]  \n"
     ]
    },
    {
     "name": "stdout",
     "output_type": "stream",
     "text": [
      "Waiting for simulation script to connect on port: tcp://localhost:28866\n",
      "Please start proper ns-3 simulation script using ./waf --run \"...\"\n",
      "Waf: Entering directory `/home/samuel/ns-allinone-3.29/ns-3.29/build'\n",
      "Waf: Leaving directory `/home/samuel/ns-allinone-3.29/ns-3.29/build'\n",
      "Build commands will be stored in build/compile_commands.json\n",
      "'build' finished successfully (2.271s)\n"
     ]
    },
    {
     "name": "stderr",
     "output_type": "stream",
     "text": [
      "Ns3Env parameters:\n",
      "--nWifi: 6\n",
      "--simulationTime: 60\n",
      "--openGymPort: 28866\n",
      "--envStepTime: 0.01\n",
      "--seed: 42\n",
      "--agentType: continuous\n",
      "--scenario: convergence\n",
      "--dryRun: 0\n",
      "Simulation started\n",
      "Simulation process id: 559725 (parent (waf shell) id: 559706)\n",
      "Waiting for Python process to connect on port: tcp://localhost:28866\n",
      "Please start proper Python Gym Agent\n",
      "  0%|          | 1/6300 [00:00<19:47,  5.31it/s, curr_speed=0.00 Mbps, mb_sent=0.00 Mb]"
     ]
    },
    {
     "name": "stdout",
     "output_type": "stream",
     "text": [
      "Sent 2320.74 Mb/s.\tMean speed: 38.68 Mb/s\tEpisode 13/15 finished\n",
      "\n",
      "13\n",
      "Turning off noise\n"
     ]
    },
    {
     "name": "stderr",
     "output_type": "stream",
     "text": [
      "100%|██████████| 6300/6300 [2:33:47<00:00,  1.46s/it, curr_speed=38.41 Mbps, mb_sent=2326.14 Mb]  \n"
     ]
    },
    {
     "name": "stdout",
     "output_type": "stream",
     "text": [
      "Waiting for simulation script to connect on port: tcp://localhost:37231\n",
      "Please start proper ns-3 simulation script using ./waf --run \"...\"\n",
      "Waf: Entering directory `/home/samuel/ns-allinone-3.29/ns-3.29/build'\n",
      "Waf: Leaving directory `/home/samuel/ns-allinone-3.29/ns-3.29/build'\n",
      "Build commands will be stored in build/compile_commands.json\n",
      "'build' finished successfully (2.220s)\n"
     ]
    },
    {
     "name": "stderr",
     "output_type": "stream",
     "text": [
      "Ns3Env parameters:\n",
      "--nWifi: 6\n",
      "--simulationTime: 60\n",
      "--openGymPort: 37231\n",
      "--envStepTime: 0.01\n",
      "--seed: 42\n",
      "--agentType: continuous\n",
      "--scenario: convergence\n",
      "--dryRun: 0\n",
      "Simulation started\n",
      "Simulation process id: 594542 (parent (waf shell) id: 594523)\n",
      "Waiting for Python process to connect on port: tcp://localhost:37231\n",
      "Please start proper Python Gym Agent\n",
      "  0%|          | 1/6300 [00:00<17:20,  6.05it/s, curr_speed=0.00 Mbps, mb_sent=0.00 Mb]"
     ]
    },
    {
     "name": "stdout",
     "output_type": "stream",
     "text": [
      "Sent 2326.14 Mb/s.\tMean speed: 38.77 Mb/s\tEpisode 14/15 finished\n",
      "\n",
      "14\n",
      "Turning off noise\n"
     ]
    },
    {
     "name": "stderr",
     "output_type": "stream",
     "text": [
      "100%|██████████| 6300/6300 [25:50<00:00,  4.06it/s, curr_speed=38.75 Mbps, mb_sent=2330.00 Mb]\n"
     ]
    },
    {
     "name": "stdout",
     "output_type": "stream",
     "text": [
      "Waiting for simulation script to connect on port: tcp://localhost:37417\n",
      "Please start proper ns-3 simulation script using ./waf --run \"...\"\n",
      "Waf: Entering directory `/home/samuel/ns-allinone-3.29/ns-3.29/build'\n",
      "Waf: Leaving directory `/home/samuel/ns-allinone-3.29/ns-3.29/build'\n",
      "Build commands will be stored in build/compile_commands.json\n",
      "'build' finished successfully (2.283s)\n"
     ]
    },
    {
     "name": "stderr",
     "output_type": "stream",
     "text": [
      "Ns3Env parameters:\n",
      "--nWifi: 6\n",
      "--simulationTime: 60\n",
      "--openGymPort: 37417\n",
      "--envStepTime: 0.01\n",
      "--seed: 42\n",
      "--agentType: continuous\n",
      "--scenario: convergence\n",
      "--dryRun: 0\n",
      "Simulation started\n",
      "Simulation process id: 605690 (parent (waf shell) id: 605668)\n",
      "Waiting for Python process to connect on port: tcp://localhost:37417\n",
      "Please start proper Python Gym Agent\n",
      "COMET INFO: ----------------------------\n",
      "COMET INFO: Comet.ml Experiment Summary:\n",
      "COMET INFO:   Data:\n",
      "COMET INFO:     url: https://www.comet.com/sheila-janota/rl-in-wifi-with-queue-level/036fa4fdb689443bbbd653ab7189f260\n",
      "COMET INFO:   Metrics [count] (min, max):\n",
      "COMET INFO:     Chosen CW [89985]           : (16.0, 1024.0)\n",
      "COMET INFO:     Cumulative reward [15]      : (2664.029052734375, 3257.379150390625)\n",
      "COMET INFO:     Current throughput [89985]  : (22.752138137817383, 51.088993072509766)\n",
      "COMET INFO:     Fairness index [89985]      : (0.1763180047273636, 0.9999430179595947)\n",
      "COMET INFO:     Megabytes sent [89985]      : (0.3239139914512634, 2329.9996801018715)\n",
      "COMET INFO:     Observation 0 [89985]       : (0.6772357288748025, 0.8571428656578064)\n",
      "COMET INFO:     Observation 1 [89985]       : (0.0, 0.08784866459301327)\n",
      "COMET INFO:     Per-ep reward [89985]       : (127.56982421875, 3257.379150390625)\n",
      "COMET INFO:     Round megabytes sent [89985]: (0.04467799887061119, 11.85076904296875)\n",
      "COMET INFO:     Round reward [89985]        : (0.0595703125, 0.62548828125)\n",
      "COMET INFO:     Speed [15]                  : (32.47866437248886, 38.83332800169786)\n",
      "COMET INFO:     Station count [89985]       : (5.0, 6.0)\n",
      "COMET INFO:     actor_loss [89985]          : (-1.7398180961608887, 0.0)\n",
      "COMET INFO:     critic_loss [89985]         : (0.0, 6.024507522583008)\n",
      "COMET INFO:     loss [33578]                : (-1.7379549741744995, 0.9219173192977905)\n",
      "COMET INFO:   Uploads:\n",
      "COMET INFO:     histogram3d: 89985\n",
      "COMET INFO: ----------------------------\n",
      "COMET INFO: Uploading stats to Comet before program termination (may take several seconds)\n"
     ]
    },
    {
     "name": "stdout",
     "output_type": "stream",
     "text": [
      "Sent 2330.00 Mb/s.\tMean speed: 38.83 Mb/s\tEpisode 15/15 finished\n",
      "\n"
     ]
    },
    {
     "name": "stderr",
     "output_type": "stream",
     "text": [
      "COMET INFO: Waiting for completion of the file uploads (may take several seconds)\n",
      "COMET INFO: Still uploading\n",
      "COMET INFO: Still uploading\n",
      "COMET INFO: Still uploading\n",
      "COMET INFO: Still uploading\n",
      "COMET INFO: Still uploading\n",
      "COMET INFO: Still uploading\n",
      "COMET INFO: Still uploading\n",
      "COMET INFO: Still uploading\n",
      "COMET INFO: Still uploading\n",
      "COMET INFO: Still uploading\n",
      "COMET INFO: Still uploading\n",
      "COMET INFO: Still uploading\n",
      "COMET INFO: Still uploading\n",
      "COMET INFO: Still uploading\n",
      "COMET INFO: Still uploading\n",
      "COMET INFO: Still uploading\n",
      "COMET INFO: Still uploading\n",
      "COMET INFO: Still uploading\n",
      "COMET INFO: Still uploading\n",
      "COMET INFO: Still uploading\n",
      "COMET INFO: Still uploading\n",
      "COMET INFO: Still uploading\n",
      "COMET INFO: Still uploading\n",
      "COMET INFO: Still uploading\n",
      "COMET INFO: Still uploading\n",
      "COMET INFO: Still uploading\n",
      "COMET INFO: Still uploading\n",
      "COMET INFO: Still uploading\n",
      "COMET INFO: Still uploading\n",
      "COMET INFO: Still uploading\n",
      "COMET INFO: Still uploading\n",
      "COMET INFO: Still uploading\n",
      "COMET INFO: Still uploading\n",
      "COMET INFO: Still uploading\n",
      "COMET INFO: Still uploading\n",
      "COMET INFO: Still uploading\n",
      "COMET INFO: Still uploading\n",
      "COMET INFO: Still uploading\n",
      "COMET INFO: Still uploading\n",
      "COMET INFO: Still uploading\n",
      "COMET INFO: Still uploading\n",
      "COMET INFO: Still uploading\n",
      "COMET INFO: Still uploading\n",
      "COMET INFO: Still uploading\n",
      "COMET INFO: Still uploading\n",
      "COMET INFO: Still uploading\n",
      "COMET INFO: Still uploading\n",
      "COMET INFO: Still uploading\n",
      "COMET INFO: Still uploading\n",
      "COMET INFO: Still uploading\n",
      "COMET INFO: Still uploading\n",
      "COMET INFO: Still uploading\n",
      "COMET INFO: Still uploading\n",
      "COMET INFO: Still uploading\n",
      "COMET INFO: Still uploading\n",
      "COMET INFO: Still uploading\n",
      "COMET INFO: Still uploading\n",
      "COMET INFO: Still uploading\n",
      "COMET INFO: Still uploading\n",
      "COMET INFO: Still uploading\n",
      "COMET INFO: Still uploading\n",
      "COMET INFO: Still uploading\n",
      "COMET INFO: Still uploading\n",
      "COMET INFO: Still uploading\n",
      "COMET INFO: Still uploading\n",
      "COMET INFO: Still uploading\n",
      "COMET INFO: Still uploading\n",
      "COMET INFO: Still uploading\n",
      "COMET INFO: Still uploading\n",
      "COMET INFO: Still uploading\n",
      "COMET INFO: Still uploading\n",
      "COMET INFO: Still uploading\n",
      "COMET INFO: Still uploading\n",
      "COMET INFO: Still uploading\n",
      "COMET INFO: Still uploading\n",
      "COMET INFO: Still uploading\n",
      "COMET INFO: Still uploading\n",
      "COMET INFO: Still uploading\n",
      "COMET INFO: Still uploading\n",
      "COMET INFO: Still uploading\n",
      "COMET INFO: Still uploading\n",
      "COMET INFO: Still uploading\n",
      "COMET INFO: Still uploading\n",
      "COMET INFO: Still uploading\n",
      "COMET INFO: Still uploading\n",
      "COMET INFO: Still uploading\n",
      "COMET INFO: Still uploading\n",
      "COMET INFO: Still uploading\n",
      "COMET INFO: Still uploading\n",
      "COMET INFO: Still uploading\n",
      "COMET INFO: Still uploading\n",
      "COMET INFO: Still uploading\n",
      "COMET INFO: Still uploading\n",
      "COMET INFO: Still uploading\n",
      "COMET INFO: Still uploading\n",
      "COMET INFO: Still uploading\n",
      "COMET INFO: Still uploading\n",
      "COMET INFO: Still uploading\n",
      "COMET INFO: Still uploading\n",
      "COMET INFO: Still uploading\n",
      "COMET INFO: Still uploading\n",
      "COMET INFO: Still uploading\n",
      "COMET INFO: Still uploading\n",
      "COMET INFO: Still uploading\n",
      "COMET INFO: Still uploading\n",
      "COMET INFO: Still uploading\n",
      "COMET INFO: Still uploading\n",
      "COMET INFO: Still uploading\n",
      "COMET INFO: Still uploading\n",
      "COMET INFO: Still uploading\n",
      "COMET INFO: Still uploading\n",
      "COMET INFO: Still uploading\n",
      "COMET INFO: Still uploading\n",
      "COMET INFO: Still uploading\n",
      "COMET INFO: Still uploading\n",
      "COMET INFO: Still uploading\n",
      "COMET INFO: Still uploading\n",
      "COMET INFO: Still uploading\n",
      "COMET INFO: Still uploading\n",
      "COMET ERROR: Comet failed to send all the data back (0 messages and 1 uploads)\n",
      "COMET WARNING: Failed to log run in comet.ml\n"
     ]
    },
    {
     "name": "stdout",
     "output_type": "stream",
     "text": [
      "Training finished.\n"
     ]
    }
   ],
   "source": [
    "#%%\n",
    "teacher = Teacher(env, 1, Preprocessor(False))\n",
    "\n",
    "lr_actor = 4e-4\n",
    "lr_critic = 4e-3\n",
    "\n",
    "config = Config(buffer_size=4*steps_per_ep*threads_no, batch_size=32, gamma=0.7, tau=1e-3, lr_actor=lr_actor, lr_critic=lr_critic, update_every=1)\n",
    "agent = Agent(history_length, action_size=1, config=config, actor_layers=[8, 128, 16], critic_layers=[8,128,16])\n",
    "\n",
    "# Test the model\n",
    "hyperparams = {**config.__dict__, **sim_args}\n",
    "tags = [\"Rew: normalized speed\",\n",
    "        f\"{Agent.NAME}\",\n",
    "        sim_args['scenario'],\n",
    "        f\"Actor: {lr_actor}\",\n",
    "        f\"Critic: {lr_critic}\",\n",
    "        f\"Instances: {threads_no}\",\n",
    "        f\"Station count: {sim_args['nWifi']}\",\n",
    "        *[f\"{key}: {sim_args[key]}\" for key in list(sim_args)[:3]]]\n",
    "# agent.save()\n",
    "logger = teacher.train(agent, EPISODE_COUNT,\n",
    "                        simTime=simTime,\n",
    "                        stepTime=stepTime,\n",
    "                        history_length=history_length,\n",
    "                        send_logs=True,\n",
    "                        experimental=True,\n",
    "                        tags=tags,\n",
    "                        parameters=hyperparams)\n",
    "# logger = teacher.eval(agent,\n",
    "#                         simTime=simTime,\n",
    "#                         stepTime=stepTime,\n",
    "#                         history_length=history_length,\n",
    "#                         tags=tags,\n",
    "#                         parameters=hyperparams)\n",
    "# agent.save()"
   ]
  },
  {
   "cell_type": "markdown",
   "id": "21759c3d",
   "metadata": {},
   "source": [
    "# Execution num4:"
   ]
  },
  {
   "cell_type": "code",
   "execution_count": 1,
   "id": "d17f4731",
   "metadata": {},
   "outputs": [],
   "source": [
    "# %%\n",
    "from ns3gym import ns3env\n",
    "from comet_ml import Experiment, Optimizer\n",
    "import tqdm\n",
    "import subprocess\n",
    "from collections import deque\n",
    "import numpy as np\n",
    "\n",
    "from agents.ddpg.agent import Agent, Config\n",
    "from agents.ddpg.model import Actor\n",
    "from agents.teacher import Teacher, EnvWrapper\n",
    "from preprocessor import Preprocessor"
   ]
  },
  {
   "cell_type": "code",
   "execution_count": 2,
   "id": "afc4c7af",
   "metadata": {},
   "outputs": [
    {
     "name": "stdout",
     "output_type": "stream",
     "text": [
      "Steps per episode: 6000\n",
      "Waiting for simulation script to connect on port: tcp://localhost:46195\n",
      "Please start proper ns-3 simulation script using ./waf --run \"...\"\n",
      "Waf: Entering directory `/home/samuel/ns-allinone-3.29/ns-3.29/build'\n",
      "Waf: Leaving directory `/home/samuel/ns-allinone-3.29/ns-3.29/build'\n",
      "Build commands will be stored in build/compile_commands.json\n",
      "'build' finished successfully (2.099s)\n"
     ]
    },
    {
     "name": "stderr",
     "output_type": "stream",
     "text": [
      "Ns3Env parameters:\n",
      "--nWifi: 6\n",
      "--simulationTime: 60\n",
      "--openGymPort: 46195\n",
      "--envStepTime: 0.01\n",
      "--seed: 42\n",
      "--agentType: continuous\n",
      "--scenario: convergence\n",
      "--dryRun: 0\n",
      "Simulation started\n"
     ]
    },
    {
     "name": "stdout",
     "output_type": "stream",
     "text": [
      "Observation space shape: (1, 300)\n",
      "Action space shape: (1, 1)\n"
     ]
    },
    {
     "name": "stderr",
     "output_type": "stream",
     "text": [
      "Simulation process id: 656896 (parent (waf shell) id: 656873)\n",
      "Waiting for Python process to connect on port: tcp://localhost:46195\n",
      "Please start proper Python Gym Agent\n"
     ]
    }
   ],
   "source": [
    "#%%\n",
    "scenario = \"convergence\"\n",
    "\n",
    "simTime = 60 # seconds\n",
    "stepTime = 0.01  # seconds\n",
    "history_length = 300\n",
    "\n",
    "EPISODE_COUNT = 15\n",
    "steps_per_ep = int(simTime/stepTime)\n",
    "\n",
    "sim_args = {\n",
    "    \"simTime\": simTime,\n",
    "    \"envStepTime\": stepTime,\n",
    "    \"historyLength\": history_length,\n",
    "    \"agentType\": Agent.TYPE,\n",
    "    \"scenario\": \"convergence\",\n",
    "    \"nWifi\": 6,\n",
    "}\n",
    "\n",
    "print(\"Steps per episode:\", steps_per_ep)\n",
    "\n",
    "threads_no = 1\n",
    "env = EnvWrapper(threads_no, **sim_args)\n",
    "\n",
    "#%%\n",
    "env.reset()\n",
    "ob_space = env.observation_space\n",
    "ac_space = env.action_space\n",
    "\n",
    "print(\"Observation space shape:\", ob_space)\n",
    "print(\"Action space shape:\", ac_space)\n",
    "\n",
    "assert ob_space is not None"
   ]
  },
  {
   "cell_type": "code",
   "execution_count": 3,
   "id": "838c133f",
   "metadata": {},
   "outputs": [
    {
     "name": "stdout",
     "output_type": "stream",
     "text": [
      "CuDNN version: 7102\n",
      "cpu\n"
     ]
    },
    {
     "name": "stderr",
     "output_type": "stream",
     "text": [
      "COMET INFO: Experiment is live on comet.ml https://www.comet.com/sheila-janota/rl-in-wifi-with-queue-level/06f114367b3a4ef388391d8e2807a6a9\n",
      "\n",
      "  0%|          | 1/6300 [00:00<17:22,  6.04it/s, curr_speed=0.00 Mbps, mb_sent=0.00 Mb]"
     ]
    },
    {
     "name": "stdout",
     "output_type": "stream",
     "text": [
      "0\n"
     ]
    },
    {
     "name": "stderr",
     "output_type": "stream",
     "text": [
      "  5%|▌         | 334/6300 [00:44<15:52,  6.26it/s, curr_speed=34.46 Mbps, mb_sent=11.37 Mb]"
     ]
    },
    {
     "name": "stdout",
     "output_type": "stream",
     "text": [
      "------- STARTED TRAINING -------\n"
     ]
    },
    {
     "name": "stderr",
     "output_type": "stream",
     "text": [
      "100%|██████████| 6300/6300 [51:51<00:00,  2.02it/s, curr_speed=30.67 Mbps, mb_sent=1894.91 Mb]\n"
     ]
    },
    {
     "name": "stdout",
     "output_type": "stream",
     "text": [
      "Waiting for simulation script to connect on port: tcp://localhost:16816\n",
      "Please start proper ns-3 simulation script using ./waf --run \"...\"\n",
      "Waf: Entering directory `/home/samuel/ns-allinone-3.29/ns-3.29/build'\n",
      "Waf: Leaving directory `/home/samuel/ns-allinone-3.29/ns-3.29/build'\n",
      "Build commands will be stored in build/compile_commands.json\n",
      "'build' finished successfully (2.238s)\n"
     ]
    },
    {
     "name": "stderr",
     "output_type": "stream",
     "text": [
      "Ns3Env parameters:\n",
      "--nWifi: 6\n",
      "--simulationTime: 60\n",
      "--openGymPort: 16816\n",
      "--envStepTime: 0.01\n",
      "--seed: 42\n",
      "--agentType: continuous\n",
      "--scenario: convergence\n",
      "--dryRun: 0\n",
      "Simulation started\n",
      "Simulation process id: 678465 (parent (waf shell) id: 678441)\n",
      "Waiting for Python process to connect on port: tcp://localhost:16816\n",
      "Please start proper Python Gym Agent\n",
      "  0%|          | 0/6300 [00:00<?, ?it/s]"
     ]
    },
    {
     "name": "stdout",
     "output_type": "stream",
     "text": [
      "Sent 1894.91 Mb/s.\tMean speed: 31.58 Mb/s\tEpisode 1/15 finished\n",
      "\n",
      "1\n"
     ]
    },
    {
     "name": "stderr",
     "output_type": "stream",
     "text": [
      "100%|██████████| 6300/6300 [49:22<00:00,  2.13it/s, curr_speed=32.79 Mbps, mb_sent=1978.23 Mb] \n"
     ]
    },
    {
     "name": "stdout",
     "output_type": "stream",
     "text": [
      "Waiting for simulation script to connect on port: tcp://localhost:40351\n",
      "Please start proper ns-3 simulation script using ./waf --run \"...\"\n",
      "Waf: Entering directory `/home/samuel/ns-allinone-3.29/ns-3.29/build'\n",
      "Waf: Leaving directory `/home/samuel/ns-allinone-3.29/ns-3.29/build'\n",
      "Build commands will be stored in build/compile_commands.json\n",
      "'build' finished successfully (2.087s)\n"
     ]
    },
    {
     "name": "stderr",
     "output_type": "stream",
     "text": [
      "Ns3Env parameters:\n",
      "--nWifi: 6\n",
      "--simulationTime: 60\n",
      "--openGymPort: 40351\n",
      "--envStepTime: 0.01\n",
      "--seed: 42\n",
      "--agentType: continuous\n",
      "--scenario: convergence\n",
      "--dryRun: 0\n",
      "Simulation started\n",
      "Simulation process id: 698106 (parent (waf shell) id: 698078)\n",
      "Waiting for Python process to connect on port: tcp://localhost:40351\n",
      "Please start proper Python Gym Agent\n",
      "  0%|          | 1/6300 [00:00<14:03,  7.47it/s, curr_speed=0.00 Mbps, mb_sent=0.00 Mb]"
     ]
    },
    {
     "name": "stdout",
     "output_type": "stream",
     "text": [
      "Sent 1978.23 Mb/s.\tMean speed: 32.97 Mb/s\tEpisode 2/15 finished\n",
      "\n",
      "2\n"
     ]
    },
    {
     "name": "stderr",
     "output_type": "stream",
     "text": [
      "100%|██████████| 6300/6300 [22:36<00:00,  4.64it/s, curr_speed=29.57 Mbps, mb_sent=2096.32 Mb]\n"
     ]
    },
    {
     "name": "stdout",
     "output_type": "stream",
     "text": [
      "Waiting for simulation script to connect on port: tcp://localhost:21714\n",
      "Please start proper ns-3 simulation script using ./waf --run \"...\"\n",
      "Waf: Entering directory `/home/samuel/ns-allinone-3.29/ns-3.29/build'\n",
      "Waf: Leaving directory `/home/samuel/ns-allinone-3.29/ns-3.29/build'\n",
      "Build commands will be stored in build/compile_commands.json\n",
      "'build' finished successfully (2.119s)\n"
     ]
    },
    {
     "name": "stderr",
     "output_type": "stream",
     "text": [
      "Ns3Env parameters:\n",
      "--nWifi: 6\n",
      "--simulationTime: 60\n",
      "--openGymPort: 21714\n",
      "--envStepTime: 0.01\n",
      "--seed: 42\n",
      "--agentType: continuous\n",
      "--scenario: convergence\n",
      "--dryRun: 0\n",
      "Simulation started\n",
      "Simulation process id: 711761 (parent (waf shell) id: 711734)\n",
      "Waiting for Python process to connect on port: tcp://localhost:21714\n",
      "Please start proper Python Gym Agent\n",
      "  0%|          | 1/6300 [00:00<13:58,  7.51it/s, curr_speed=0.00 Mbps, mb_sent=0.00 Mb]"
     ]
    },
    {
     "name": "stdout",
     "output_type": "stream",
     "text": [
      "Sent 2096.32 Mb/s.\tMean speed: 34.94 Mb/s\tEpisode 3/15 finished\n",
      "\n",
      "3\n"
     ]
    },
    {
     "name": "stderr",
     "output_type": "stream",
     "text": [
      "100%|██████████| 6300/6300 [22:28<00:00,  4.67it/s, curr_speed=36.32 Mbps, mb_sent=2182.76 Mb]\n"
     ]
    },
    {
     "name": "stdout",
     "output_type": "stream",
     "text": [
      "Waiting for simulation script to connect on port: tcp://localhost:37326\n",
      "Please start proper ns-3 simulation script using ./waf --run \"...\"\n",
      "Waf: Entering directory `/home/samuel/ns-allinone-3.29/ns-3.29/build'\n",
      "Waf: Leaving directory `/home/samuel/ns-allinone-3.29/ns-3.29/build'\n",
      "Build commands will be stored in build/compile_commands.json\n",
      "'build' finished successfully (2.152s)\n"
     ]
    },
    {
     "name": "stderr",
     "output_type": "stream",
     "text": [
      "Ns3Env parameters:\n",
      "--nWifi: 6\n",
      "--simulationTime: 60\n",
      "--openGymPort: 37326\n",
      "--envStepTime: 0.01\n",
      "--seed: 42\n",
      "--agentType: continuous\n",
      "--scenario: convergence\n",
      "--dryRun: 0\n",
      "Simulation started\n",
      "Simulation process id: 725690 (parent (waf shell) id: 725663)\n",
      "Waiting for Python process to connect on port: tcp://localhost:37326\n",
      "Please start proper Python Gym Agent\n",
      "  0%|          | 1/6300 [00:00<11:44,  8.95it/s, curr_speed=0.00 Mbps, mb_sent=0.00 Mb]"
     ]
    },
    {
     "name": "stdout",
     "output_type": "stream",
     "text": [
      "Sent 2182.76 Mb/s.\tMean speed: 36.38 Mb/s\tEpisode 4/15 finished\n",
      "\n",
      "4\n"
     ]
    },
    {
     "name": "stderr",
     "output_type": "stream",
     "text": [
      "  5%|▍         | 305/6300 [00:42<17:32,  5.70it/s, curr_speed=38.53 Mbps, mb_sent=1.54 Mb]"
     ]
    },
    {
     "name": "stdout",
     "output_type": "stream",
     "text": [
      "------- MEMORY BUFFER FILLED -------\n"
     ]
    },
    {
     "name": "stderr",
     "output_type": "stream",
     "text": [
      "100%|██████████| 6300/6300 [23:19<00:00,  4.50it/s, curr_speed=36.67 Mbps, mb_sent=2238.58 Mb]\n"
     ]
    },
    {
     "name": "stdout",
     "output_type": "stream",
     "text": [
      "Waiting for simulation script to connect on port: tcp://localhost:28772\n",
      "Please start proper ns-3 simulation script using ./waf --run \"...\"\n",
      "Waf: Entering directory `/home/samuel/ns-allinone-3.29/ns-3.29/build'\n",
      "Waf: Leaving directory `/home/samuel/ns-allinone-3.29/ns-3.29/build'\n",
      "Build commands will be stored in build/compile_commands.json\n",
      "'build' finished successfully (2.184s)\n"
     ]
    },
    {
     "name": "stderr",
     "output_type": "stream",
     "text": [
      "Ns3Env parameters:\n",
      "--nWifi: 6\n",
      "--simulationTime: 60\n",
      "--openGymPort: 28772\n",
      "--envStepTime: 0.01\n",
      "--seed: 42\n",
      "--agentType: continuous\n",
      "--scenario: convergence\n",
      "--dryRun: 0\n",
      "Simulation started\n",
      "Simulation process id: 740257 (parent (waf shell) id: 740225)\n",
      "Waiting for Python process to connect on port: tcp://localhost:28772\n",
      "Please start proper Python Gym Agent\n",
      "  0%|          | 1/6300 [00:00<13:19,  7.88it/s, curr_speed=0.00 Mbps, mb_sent=0.00 Mb]"
     ]
    },
    {
     "name": "stdout",
     "output_type": "stream",
     "text": [
      "Sent 2238.58 Mb/s.\tMean speed: 37.31 Mb/s\tEpisode 5/15 finished\n",
      "\n",
      "5\n"
     ]
    },
    {
     "name": "stderr",
     "output_type": "stream",
     "text": [
      "100%|██████████| 6300/6300 [23:16<00:00,  4.51it/s, curr_speed=36.40 Mbps, mb_sent=2273.42 Mb]\n"
     ]
    },
    {
     "name": "stdout",
     "output_type": "stream",
     "text": [
      "Waiting for simulation script to connect on port: tcp://localhost:33097\n",
      "Please start proper ns-3 simulation script using ./waf --run \"...\"\n",
      "Waf: Entering directory `/home/samuel/ns-allinone-3.29/ns-3.29/build'\n",
      "Waf: Leaving directory `/home/samuel/ns-allinone-3.29/ns-3.29/build'\n",
      "Build commands will be stored in build/compile_commands.json\n",
      "'build' finished successfully (2.188s)\n"
     ]
    },
    {
     "name": "stderr",
     "output_type": "stream",
     "text": [
      "Ns3Env parameters:\n",
      "--nWifi: 6\n",
      "--simulationTime: 60\n",
      "--openGymPort: 33097\n",
      "--envStepTime: 0.01\n",
      "--seed: 42\n",
      "--agentType: continuous\n",
      "--scenario: convergence\n",
      "--dryRun: 0\n",
      "Simulation started\n",
      "Simulation process id: 754746 (parent (waf shell) id: 754719)\n",
      "Waiting for Python process to connect on port: tcp://localhost:33097\n",
      "Please start proper Python Gym Agent\n",
      "  0%|          | 1/6300 [00:00<14:32,  7.22it/s, curr_speed=0.00 Mbps, mb_sent=0.00 Mb]"
     ]
    },
    {
     "name": "stdout",
     "output_type": "stream",
     "text": [
      "Sent 2273.42 Mb/s.\tMean speed: 37.89 Mb/s\tEpisode 6/15 finished\n",
      "\n",
      "6\n"
     ]
    },
    {
     "name": "stderr",
     "output_type": "stream",
     "text": [
      "100%|██████████| 6300/6300 [22:14<00:00,  4.72it/s, curr_speed=37.92 Mbps, mb_sent=2297.16 Mb]\n"
     ]
    },
    {
     "name": "stdout",
     "output_type": "stream",
     "text": [
      "Waiting for simulation script to connect on port: tcp://localhost:49171\n",
      "Please start proper ns-3 simulation script using ./waf --run \"...\"\n",
      "Waf: Entering directory `/home/samuel/ns-allinone-3.29/ns-3.29/build'\n",
      "Waf: Leaving directory `/home/samuel/ns-allinone-3.29/ns-3.29/build'\n",
      "Build commands will be stored in build/compile_commands.json\n",
      "'build' finished successfully (2.204s)\n"
     ]
    },
    {
     "name": "stderr",
     "output_type": "stream",
     "text": [
      "Ns3Env parameters:\n",
      "--nWifi: 6\n",
      "--simulationTime: 60\n",
      "--openGymPort: 49171\n",
      "--envStepTime: 0.01\n",
      "--seed: 42\n",
      "--agentType: continuous\n",
      "--scenario: convergence\n",
      "--dryRun: 0\n",
      "Simulation started\n",
      "Simulation process id: 767733 (parent (waf shell) id: 767703)\n",
      "Waiting for Python process to connect on port: tcp://localhost:49171\n",
      "Please start proper Python Gym Agent\n",
      "  0%|          | 1/6300 [00:00<14:37,  7.18it/s, curr_speed=0.00 Mbps, mb_sent=0.00 Mb]"
     ]
    },
    {
     "name": "stdout",
     "output_type": "stream",
     "text": [
      "Sent 2297.16 Mb/s.\tMean speed: 38.29 Mb/s\tEpisode 7/15 finished\n",
      "\n",
      "7\n"
     ]
    },
    {
     "name": "stderr",
     "output_type": "stream",
     "text": [
      "100%|██████████| 6300/6300 [23:33<00:00,  4.46it/s, curr_speed=38.28 Mbps, mb_sent=2311.20 Mb]\n"
     ]
    },
    {
     "name": "stdout",
     "output_type": "stream",
     "text": [
      "Waiting for simulation script to connect on port: tcp://localhost:47179\n",
      "Please start proper ns-3 simulation script using ./waf --run \"...\"\n",
      "Waf: Entering directory `/home/samuel/ns-allinone-3.29/ns-3.29/build'\n",
      "Waf: Leaving directory `/home/samuel/ns-allinone-3.29/ns-3.29/build'\n",
      "Build commands will be stored in build/compile_commands.json\n",
      "'build' finished successfully (2.119s)\n"
     ]
    },
    {
     "name": "stderr",
     "output_type": "stream",
     "text": [
      "Ns3Env parameters:\n",
      "--nWifi: 6\n",
      "--simulationTime: 60\n",
      "--openGymPort: 47179\n",
      "--envStepTime: 0.01\n",
      "--seed: 42\n",
      "--agentType: continuous\n",
      "--scenario: convergence\n",
      "--dryRun: 0\n",
      "Simulation started\n",
      "Simulation process id: 782265 (parent (waf shell) id: 782235)\n",
      "Waiting for Python process to connect on port: tcp://localhost:47179\n",
      "Please start proper Python Gym Agent\n",
      "  0%|          | 1/6300 [00:00<11:38,  9.02it/s, curr_speed=0.00 Mbps, mb_sent=0.00 Mb]"
     ]
    },
    {
     "name": "stdout",
     "output_type": "stream",
     "text": [
      "Sent 2311.20 Mb/s.\tMean speed: 38.52 Mb/s\tEpisode 8/15 finished\n",
      "\n",
      "8\n"
     ]
    },
    {
     "name": "stderr",
     "output_type": "stream",
     "text": [
      "100%|██████████| 6300/6300 [23:28<00:00,  4.47it/s, curr_speed=38.45 Mbps, mb_sent=2319.59 Mb]\n"
     ]
    },
    {
     "name": "stdout",
     "output_type": "stream",
     "text": [
      "Waiting for simulation script to connect on port: tcp://localhost:28806\n",
      "Please start proper ns-3 simulation script using ./waf --run \"...\"\n",
      "Waf: Entering directory `/home/samuel/ns-allinone-3.29/ns-3.29/build'\n",
      "Waf: Leaving directory `/home/samuel/ns-allinone-3.29/ns-3.29/build'\n",
      "Build commands will be stored in build/compile_commands.json\n",
      "'build' finished successfully (2.244s)\n"
     ]
    },
    {
     "name": "stderr",
     "output_type": "stream",
     "text": [
      "Ns3Env parameters:\n",
      "--nWifi: 6\n",
      "--simulationTime: 60\n",
      "--openGymPort: 28806\n",
      "--envStepTime: 0.01\n",
      "--seed: 42\n",
      "--agentType: continuous\n",
      "--scenario: convergence\n",
      "--dryRun: 0\n",
      "Simulation started\n",
      "Simulation process id: 797019 (parent (waf shell) id: 796992)\n",
      "Waiting for Python process to connect on port: tcp://localhost:28806\n",
      "Please start proper Python Gym Agent\n",
      "  0%|          | 1/6300 [00:00<10:36,  9.89it/s, curr_speed=0.00 Mbps, mb_sent=0.00 Mb]"
     ]
    },
    {
     "name": "stdout",
     "output_type": "stream",
     "text": [
      "Sent 2319.59 Mb/s.\tMean speed: 38.66 Mb/s\tEpisode 9/15 finished\n",
      "\n",
      "9\n"
     ]
    },
    {
     "name": "stderr",
     "output_type": "stream",
     "text": [
      "100%|██████████| 6300/6300 [37:58<00:00,  2.76it/s, curr_speed=38.33 Mbps, mb_sent=2320.57 Mb]\n"
     ]
    },
    {
     "name": "stdout",
     "output_type": "stream",
     "text": [
      "Waiting for simulation script to connect on port: tcp://localhost:14235\n",
      "Please start proper ns-3 simulation script using ./waf --run \"...\"\n",
      "Waf: Entering directory `/home/samuel/ns-allinone-3.29/ns-3.29/build'\n",
      "Waf: Leaving directory `/home/samuel/ns-allinone-3.29/ns-3.29/build'\n",
      "Build commands will be stored in build/compile_commands.json\n",
      "'build' finished successfully (2.256s)\n"
     ]
    },
    {
     "name": "stderr",
     "output_type": "stream",
     "text": [
      "Ns3Env parameters:\n",
      "--nWifi: 6\n",
      "--simulationTime: 60\n",
      "--openGymPort: 14235\n",
      "--envStepTime: 0.01\n",
      "--seed: 42\n",
      "--agentType: continuous\n",
      "--scenario: convergence\n",
      "--dryRun: 0\n",
      "Simulation started\n",
      "Simulation process id: 812654 (parent (waf shell) id: 812634)\n",
      "Waiting for Python process to connect on port: tcp://localhost:14235\n",
      "Please start proper Python Gym Agent\n",
      "  0%|          | 1/6300 [00:00<16:32,  6.34it/s, curr_speed=0.00 Mbps, mb_sent=0.00 Mb]"
     ]
    },
    {
     "name": "stdout",
     "output_type": "stream",
     "text": [
      "Sent 2320.57 Mb/s.\tMean speed: 38.68 Mb/s\tEpisode 10/15 finished\n",
      "\n",
      "10\n"
     ]
    },
    {
     "name": "stderr",
     "output_type": "stream",
     "text": [
      "100%|██████████| 6300/6300 [2:34:15<00:00,  1.47s/it, curr_speed=38.49 Mbps, mb_sent=2323.61 Mb]  \n"
     ]
    },
    {
     "name": "stdout",
     "output_type": "stream",
     "text": [
      "Waiting for simulation script to connect on port: tcp://localhost:34736\n",
      "Please start proper ns-3 simulation script using ./waf --run \"...\"\n",
      "Waf: Entering directory `/home/samuel/ns-allinone-3.29/ns-3.29/build'\n",
      "Waf: Leaving directory `/home/samuel/ns-allinone-3.29/ns-3.29/build'\n",
      "Build commands will be stored in build/compile_commands.json\n",
      "'build' finished successfully (2.367s)\n"
     ]
    },
    {
     "name": "stderr",
     "output_type": "stream",
     "text": [
      "Ns3Env parameters:\n",
      "--nWifi: 6\n",
      "--simulationTime: 60\n",
      "--openGymPort: 34736\n",
      "--envStepTime: 0.01\n",
      "--seed: 42\n",
      "--agentType: continuous\n",
      "--scenario: convergence\n",
      "--dryRun: 0\n",
      "Simulation started\n",
      "Simulation process id: 851796 (parent (waf shell) id: 851773)\n",
      "Waiting for Python process to connect on port: tcp://localhost:34736\n",
      "Please start proper Python Gym Agent\n",
      "  0%|          | 1/6300 [00:00<15:21,  6.84it/s, curr_speed=0.00 Mbps, mb_sent=0.00 Mb]"
     ]
    },
    {
     "name": "stdout",
     "output_type": "stream",
     "text": [
      "Sent 2323.61 Mb/s.\tMean speed: 38.73 Mb/s\tEpisode 11/15 finished\n",
      "\n",
      "11\n"
     ]
    },
    {
     "name": "stderr",
     "output_type": "stream",
     "text": [
      " 54%|█████▍    | 3427/6300 [1:19:09<1:12:33,  1.52s/it, curr_speed=38.81 Mbps, mb_sent=1210.09 Mb]COMET ERROR: File could not be uploaded\n",
      " 54%|█████▍    | 3431/6300 [1:19:14<1:05:23,  1.37s/it, curr_speed=38.89 Mbps, mb_sent=1211.67 Mb]COMET ERROR: File could not be uploaded\n",
      " 57%|█████▋    | 3599/6300 [1:23:28<1:11:18,  1.58s/it, curr_speed=38.75 Mbps, mb_sent=1276.88 Mb]COMET ERROR: File could not be uploaded\n",
      " 57%|█████▋    | 3601/6300 [1:23:32<1:16:45,  1.71s/it, curr_speed=38.69 Mbps, mb_sent=1277.63 Mb]COMET ERROR: File could not be uploaded\n",
      " 57%|█████▋    | 3605/6300 [1:23:38<1:14:41,  1.66s/it, curr_speed=38.69 Mbps, mb_sent=1279.22 Mb]COMET ERROR: File could not be uploaded\n",
      " 57%|█████▋    | 3616/6300 [1:23:50<58:55,  1.32s/it, curr_speed=38.79 Mbps, mb_sent=1283.69 Mb]  COMET ERROR: File could not be uploaded\n",
      " 57%|█████▋    | 3620/6300 [1:23:56<1:04:12,  1.44s/it, curr_speed=38.79 Mbps, mb_sent=1285.24 Mb]COMET ERROR: File could not be uploaded\n",
      " 58%|█████▊    | 3625/6300 [1:24:05<1:18:22,  1.76s/it, curr_speed=38.87 Mbps, mb_sent=1287.23 Mb]COMET ERROR: File could not be uploaded\n",
      " 58%|█████▊    | 3629/6300 [1:24:12<1:16:16,  1.71s/it, curr_speed=38.81 Mbps, mb_sent=1288.72 Mb]COMET ERROR: File could not be uploaded\n",
      "COMET ERROR: File could not be uploaded\n",
      " 58%|█████▊    | 3639/6300 [1:24:30<1:12:09,  1.63s/it, curr_speed=38.84 Mbps, mb_sent=1292.64 Mb]COMET ERROR: File could not be uploaded\n",
      " 58%|█████▊    | 3641/6300 [1:24:33<1:10:30,  1.59s/it, curr_speed=38.85 Mbps, mb_sent=1293.41 Mb]COMET ERROR: File could not be uploaded\n",
      " 61%|██████▏   | 3867/6300 [1:30:07<1:03:36,  1.57s/it, curr_speed=38.89 Mbps, mb_sent=1380.71 Mb]COMET ERROR: File could not be uploaded\n",
      " 61%|██████▏   | 3868/6300 [1:30:08<1:02:16,  1.54s/it, curr_speed=38.88 Mbps, mb_sent=1381.08 Mb]COMET ERROR: File could not be uploaded\n",
      " 61%|██████▏   | 3874/6300 [1:30:17<55:17,  1.37s/it, curr_speed=38.94 Mbps, mb_sent=1383.46 Mb]  COMET ERROR: File could not be uploaded\n",
      " 62%|██████▏   | 3882/6300 [1:30:28<53:47,  1.33s/it, curr_speed=38.85 Mbps, mb_sent=1386.56 Mb]  COMET ERROR: File could not be uploaded\n",
      " 62%|██████▏   | 3885/6300 [1:30:32<57:35,  1.43s/it, curr_speed=38.81 Mbps, mb_sent=1387.76 Mb]COMET ERROR: File could not be uploaded\n",
      " 62%|██████▏   | 3886/6300 [1:30:34<1:01:18,  1.52s/it, curr_speed=38.85 Mbps, mb_sent=1388.16 Mb]COMET ERROR: File could not be uploaded\n",
      " 62%|██████▏   | 3887/6300 [1:30:36<59:09,  1.47s/it, curr_speed=38.89 Mbps, mb_sent=1388.57 Mb]  COMET ERROR: File could not be uploaded\n",
      " 62%|██████▏   | 3891/6300 [1:30:42<1:03:51,  1.59s/it, curr_speed=38.85 Mbps, mb_sent=1390.11 Mb]COMET ERROR: File could not be uploaded\n",
      "COMET ERROR: File could not be uploaded\n",
      " 62%|██████▏   | 3894/6300 [1:30:47<1:01:52,  1.54s/it, curr_speed=38.76 Mbps, mb_sent=1391.23 Mb]COMET ERROR: File could not be uploaded\n",
      " 62%|██████▏   | 3896/6300 [1:30:50<1:00:51,  1.52s/it, curr_speed=38.72 Mbps, mb_sent=1391.98 Mb]COMET ERROR: File could not be uploaded\n",
      " 62%|██████▏   | 3898/6300 [1:30:53<1:03:06,  1.58s/it, curr_speed=38.81 Mbps, mb_sent=1392.77 Mb]COMET ERROR: File could not be uploaded\n",
      " 62%|██████▏   | 3907/6300 [1:31:07<1:04:31,  1.62s/it, curr_speed=38.75 Mbps, mb_sent=1396.24 Mb]COMET ERROR: File could not be uploaded\n",
      " 62%|██████▏   | 3908/6300 [1:31:09<1:07:49,  1.70s/it, curr_speed=38.80 Mbps, mb_sent=1396.67 Mb]COMET ERROR: File could not be uploaded\n",
      " 62%|██████▏   | 3911/6300 [1:31:14<1:04:21,  1.62s/it, curr_speed=38.81 Mbps, mb_sent=1397.88 Mb]COMET ERROR: File could not be uploaded\n",
      " 62%|██████▏   | 3916/6300 [1:31:22<1:02:23,  1.57s/it, curr_speed=38.79 Mbps, mb_sent=1399.76 Mb]COMET ERROR: File could not be uploaded\n",
      " 62%|██████▏   | 3917/6300 [1:31:23<1:00:49,  1.53s/it, curr_speed=38.80 Mbps, mb_sent=1400.17 Mb]COMET ERROR: File could not be uploaded\n",
      " 62%|██████▏   | 3920/6300 [1:31:28<1:04:29,  1.63s/it, curr_speed=38.81 Mbps, mb_sent=1401.32 Mb]COMET ERROR: File could not be uploaded\n",
      " 62%|██████▏   | 3922/6300 [1:31:31<1:02:30,  1.58s/it, curr_speed=38.76 Mbps, mb_sent=1402.01 Mb]COMET ERROR: File could not be uploaded\n",
      " 62%|██████▏   | 3923/6300 [1:31:32<55:11,  1.39s/it, curr_speed=38.76 Mbps, mb_sent=1402.39 Mb]  COMET ERROR: File could not be uploaded\n",
      " 62%|██████▏   | 3929/6300 [1:31:41<56:03,  1.42s/it, curr_speed=38.58 Mbps, mb_sent=1404.63 Mb]COMET ERROR: File could not be uploaded\n",
      " 62%|██████▏   | 3930/6300 [1:31:42<58:16,  1.48s/it, curr_speed=38.53 Mbps, mb_sent=1405.01 Mb]COMET ERROR: File could not be uploaded\n",
      " 62%|██████▏   | 3936/6300 [1:31:50<48:40,  1.24s/it, curr_speed=38.46 Mbps, mb_sent=1407.32 Mb]COMET ERROR: File could not be uploaded\n",
      " 63%|██████▎   | 3944/6300 [1:32:01<1:01:02,  1.55s/it, curr_speed=38.51 Mbps, mb_sent=1410.44 Mb]COMET ERROR: File could not be uploaded\n",
      " 63%|██████▎   | 3947/6300 [1:32:06<1:02:52,  1.60s/it, curr_speed=38.53 Mbps, mb_sent=1411.56 Mb]COMET ERROR: File could not be uploaded\n",
      " 63%|██████▎   | 3955/6300 [1:32:18<1:01:19,  1.57s/it, curr_speed=38.60 Mbps, mb_sent=1414.74 Mb]COMET ERROR: File could not be uploaded\n",
      " 63%|██████▎   | 3958/6300 [1:32:22<57:42,  1.48s/it, curr_speed=38.64 Mbps, mb_sent=1415.93 Mb]  COMET ERROR: File could not be uploaded\n",
      " 63%|██████▎   | 3966/6300 [1:32:33<1:03:32,  1.63s/it, curr_speed=38.64 Mbps, mb_sent=1418.92 Mb]COMET ERROR: File could not be uploaded\n",
      "100%|██████████| 6300/6300 [2:32:54<00:00,  1.46s/it, curr_speed=39.06 Mbps, mb_sent=2323.22 Mb]  \n"
     ]
    },
    {
     "name": "stdout",
     "output_type": "stream",
     "text": [
      "Waiting for simulation script to connect on port: tcp://localhost:48215\n",
      "Please start proper ns-3 simulation script using ./waf --run \"...\"\n",
      "Waf: Entering directory `/home/samuel/ns-allinone-3.29/ns-3.29/build'\n",
      "Waf: Leaving directory `/home/samuel/ns-allinone-3.29/ns-3.29/build'\n",
      "Build commands will be stored in build/compile_commands.json\n",
      "'build' finished successfully (2.265s)\n"
     ]
    },
    {
     "name": "stderr",
     "output_type": "stream",
     "text": [
      "Ns3Env parameters:\n",
      "--nWifi: 6\n",
      "--simulationTime: 60\n",
      "--openGymPort: 48215\n",
      "--envStepTime: 0.01\n",
      "--seed: 42\n",
      "--agentType: continuous\n",
      "--scenario: convergence\n",
      "--dryRun: 0\n",
      "Simulation started\n",
      "Simulation process id: 890419 (parent (waf shell) id: 890399)\n",
      "Waiting for Python process to connect on port: tcp://localhost:48215\n",
      "Please start proper Python Gym Agent\n",
      "  0%|          | 1/6300 [00:00<18:25,  5.70it/s, curr_speed=0.00 Mbps, mb_sent=0.00 Mb]"
     ]
    },
    {
     "name": "stdout",
     "output_type": "stream",
     "text": [
      "Sent 2323.22 Mb/s.\tMean speed: 38.72 Mb/s\tEpisode 12/15 finished\n",
      "\n",
      "12\n",
      "Turning off noise\n"
     ]
    },
    {
     "name": "stderr",
     "output_type": "stream",
     "text": [
      "100%|██████████| 6300/6300 [2:32:52<00:00,  1.46s/it, curr_speed=38.58 Mbps, mb_sent=2323.79 Mb]  \n"
     ]
    },
    {
     "name": "stdout",
     "output_type": "stream",
     "text": [
      "Waiting for simulation script to connect on port: tcp://localhost:53345\n",
      "Please start proper ns-3 simulation script using ./waf --run \"...\"\n",
      "Waf: Entering directory `/home/samuel/ns-allinone-3.29/ns-3.29/build'\n",
      "Waf: Leaving directory `/home/samuel/ns-allinone-3.29/ns-3.29/build'\n",
      "Build commands will be stored in build/compile_commands.json\n",
      "'build' finished successfully (2.302s)\n"
     ]
    },
    {
     "name": "stderr",
     "output_type": "stream",
     "text": [
      "Ns3Env parameters:\n",
      "--nWifi: 6\n",
      "--simulationTime: 60\n",
      "--openGymPort: 53345\n",
      "--envStepTime: 0.01\n",
      "--seed: 42\n",
      "--agentType: continuous\n",
      "--scenario: convergence\n",
      "--dryRun: 0\n",
      "Simulation started\n",
      "Simulation process id: 928756 (parent (waf shell) id: 928736)\n",
      "Waiting for Python process to connect on port: tcp://localhost:53345\n",
      "Please start proper Python Gym Agent\n",
      "  0%|          | 1/6300 [00:00<20:43,  5.07it/s, curr_speed=0.00 Mbps, mb_sent=0.00 Mb]"
     ]
    },
    {
     "name": "stdout",
     "output_type": "stream",
     "text": [
      "Sent 2323.79 Mb/s.\tMean speed: 38.73 Mb/s\tEpisode 13/15 finished\n",
      "\n",
      "13\n",
      "Turning off noise\n"
     ]
    },
    {
     "name": "stderr",
     "output_type": "stream",
     "text": [
      "100%|██████████| 6300/6300 [2:34:32<00:00,  1.47s/it, curr_speed=38.58 Mbps, mb_sent=2323.79 Mb]  \n"
     ]
    },
    {
     "name": "stdout",
     "output_type": "stream",
     "text": [
      "Waiting for simulation script to connect on port: tcp://localhost:52974\n",
      "Please start proper ns-3 simulation script using ./waf --run \"...\"\n",
      "Waf: Entering directory `/home/samuel/ns-allinone-3.29/ns-3.29/build'\n",
      "Waf: Leaving directory `/home/samuel/ns-allinone-3.29/ns-3.29/build'\n",
      "Build commands will be stored in build/compile_commands.json\n",
      "'build' finished successfully (2.374s)\n"
     ]
    },
    {
     "name": "stderr",
     "output_type": "stream",
     "text": [
      "Ns3Env parameters:\n",
      "--nWifi: 6\n",
      "--simulationTime: 60\n",
      "--openGymPort: 52974\n",
      "--envStepTime: 0.01\n",
      "--seed: 42\n",
      "--agentType: continuous\n",
      "--scenario: convergence\n",
      "--dryRun: 0\n",
      "Simulation started\n",
      "Simulation process id: 967600 (parent (waf shell) id: 967578)\n",
      "Waiting for Python process to connect on port: tcp://localhost:52974\n",
      "Please start proper Python Gym Agent\n",
      "  0%|          | 0/6300 [00:00<?, ?it/s]"
     ]
    },
    {
     "name": "stdout",
     "output_type": "stream",
     "text": [
      "Sent 2323.79 Mb/s.\tMean speed: 38.73 Mb/s\tEpisode 14/15 finished\n",
      "\n",
      "14\n",
      "Turning off noise\n"
     ]
    },
    {
     "name": "stderr",
     "output_type": "stream",
     "text": [
      "100%|██████████| 6300/6300 [25:39<00:00,  4.09it/s, curr_speed=38.58 Mbps, mb_sent=2323.79 Mb]\n"
     ]
    },
    {
     "name": "stdout",
     "output_type": "stream",
     "text": [
      "Waiting for simulation script to connect on port: tcp://localhost:43614\n",
      "Please start proper ns-3 simulation script using ./waf --run \"...\"\n",
      "Waf: Entering directory `/home/samuel/ns-allinone-3.29/ns-3.29/build'\n",
      "Waf: Leaving directory `/home/samuel/ns-allinone-3.29/ns-3.29/build'\n",
      "Build commands will be stored in build/compile_commands.json\n",
      "'build' finished successfully (2.325s)\n"
     ]
    },
    {
     "name": "stderr",
     "output_type": "stream",
     "text": [
      "Ns3Env parameters:\n",
      "--nWifi: 6\n",
      "--simulationTime: 60\n",
      "--openGymPort: 43614\n",
      "--envStepTime: 0.01\n",
      "--seed: 42\n",
      "--agentType: continuous\n",
      "--scenario: convergence\n",
      "--dryRun: 0\n",
      "Simulation started\n",
      "Simulation process id: 978654 (parent (waf shell) id: 978632)\n",
      "Waiting for Python process to connect on port: tcp://localhost:43614\n",
      "Please start proper Python Gym Agent\n",
      "COMET INFO: ----------------------------\n",
      "COMET INFO: Comet.ml Experiment Summary:\n",
      "COMET INFO:   Data:\n",
      "COMET INFO:     url: https://www.comet.com/sheila-janota/rl-in-wifi-with-queue-level/06f114367b3a4ef388391d8e2807a6a9\n",
      "COMET INFO:   Metrics [count] (min, max):\n",
      "COMET INFO:     Chosen CW [89985]           : (16.0, 1024.0)\n",
      "COMET INFO:     Cumulative reward [15]      : (2602.984375, 3252.315673828125)\n",
      "COMET INFO:     Current throughput [89985]  : (23.28827476501465, 58.862911224365234)\n",
      "COMET INFO:     Fairness index [89985]      : (0.17592500150203705, 0.9999110102653503)\n",
      "COMET INFO:     Megabytes sent [89985]      : (0.2680659890174866, 2323.7895170152187)\n",
      "COMET INFO:     Observation 0 [89985]       : (0.6764571576565505, 0.8571428656578064)\n",
      "COMET INFO:     Observation 1 [89985]       : (0.0, 0.08777520180811538)\n",
      "COMET INFO:     Per-ep reward [89985]       : (130.861083984375, 3252.315673828125)\n",
      "COMET INFO:     Round megabytes sent [89985]: (0.05584700033068657, 11.85076904296875)\n",
      "COMET INFO:     Round reward [89985]        : (0.074462890625, 0.62548828125)\n",
      "COMET INFO:     Speed [15]                  : (31.581759366641442, 38.729825283586976)\n",
      "COMET INFO:     Station count [89985]       : (5.0, 6.0)\n",
      "COMET INFO:     actor_loss [89985]          : (-1.7334736585617065, 0.0)\n",
      "COMET INFO:     critic_loss [89985]         : (0.0, 5.902729511260986)\n",
      "COMET INFO:     loss [33578]                : (-1.7289050817489624, 0.8410488367080688)\n",
      "COMET INFO:   Uploads:\n",
      "COMET INFO:     histogram3d: 89985\n",
      "COMET INFO: ----------------------------\n",
      "COMET INFO: Uploading stats to Comet before program termination (may take several seconds)\n"
     ]
    },
    {
     "name": "stdout",
     "output_type": "stream",
     "text": [
      "Sent 2323.79 Mb/s.\tMean speed: 38.73 Mb/s\tEpisode 15/15 finished\n",
      "\n"
     ]
    },
    {
     "name": "stderr",
     "output_type": "stream",
     "text": [
      "COMET INFO: Waiting for completion of the file uploads (may take several seconds)\n",
      "COMET INFO: Still uploading\n",
      "COMET INFO: Still uploading\n",
      "COMET INFO: Still uploading\n",
      "COMET INFO: Still uploading\n",
      "COMET INFO: Still uploading\n",
      "COMET INFO: Still uploading\n",
      "COMET INFO: Still uploading\n",
      "COMET INFO: Still uploading\n",
      "COMET INFO: Still uploading\n",
      "COMET INFO: Still uploading\n",
      "COMET INFO: Still uploading\n",
      "COMET INFO: Still uploading\n",
      "COMET INFO: Still uploading\n",
      "COMET INFO: Still uploading\n",
      "COMET INFO: Still uploading\n",
      "COMET INFO: Still uploading\n",
      "COMET INFO: Still uploading\n",
      "COMET INFO: Still uploading\n",
      "COMET INFO: Still uploading\n",
      "COMET INFO: Still uploading\n",
      "COMET INFO: Still uploading\n",
      "COMET INFO: Still uploading\n",
      "COMET INFO: Still uploading\n",
      "COMET INFO: Still uploading\n",
      "COMET INFO: Still uploading\n",
      "COMET INFO: Still uploading\n",
      "COMET INFO: Still uploading\n",
      "COMET INFO: Still uploading\n",
      "COMET INFO: Still uploading\n",
      "COMET INFO: Still uploading\n",
      "COMET INFO: Still uploading\n",
      "COMET INFO: Still uploading\n",
      "COMET INFO: Still uploading\n",
      "COMET INFO: Still uploading\n",
      "COMET INFO: Still uploading\n",
      "COMET INFO: Still uploading\n",
      "COMET INFO: Still uploading\n",
      "COMET INFO: Still uploading\n",
      "COMET INFO: Still uploading\n",
      "COMET INFO: Still uploading\n",
      "COMET INFO: Still uploading\n",
      "COMET INFO: Still uploading\n",
      "COMET INFO: Still uploading\n",
      "COMET INFO: Still uploading\n",
      "COMET INFO: Still uploading\n",
      "COMET INFO: Still uploading\n",
      "COMET INFO: Still uploading\n",
      "COMET INFO: Still uploading\n",
      "COMET INFO: Still uploading\n",
      "COMET INFO: Still uploading\n",
      "COMET INFO: Still uploading\n",
      "COMET INFO: Still uploading\n",
      "COMET INFO: Still uploading\n",
      "COMET INFO: Still uploading\n",
      "COMET INFO: Still uploading\n",
      "COMET INFO: Still uploading\n",
      "COMET INFO: Still uploading\n",
      "COMET INFO: Still uploading\n",
      "COMET INFO: Still uploading\n",
      "COMET INFO: Still uploading\n",
      "COMET INFO: Still uploading\n",
      "COMET INFO: Still uploading\n",
      "COMET INFO: Still uploading\n",
      "COMET INFO: Still uploading\n",
      "COMET INFO: Still uploading\n",
      "COMET INFO: Still uploading\n",
      "COMET INFO: Still uploading\n",
      "COMET INFO: Still uploading\n",
      "COMET INFO: Still uploading\n",
      "COMET INFO: Still uploading\n",
      "COMET INFO: Still uploading\n",
      "COMET INFO: Still uploading\n",
      "COMET INFO: Still uploading\n",
      "COMET INFO: Still uploading\n",
      "COMET INFO: Still uploading\n",
      "COMET INFO: Still uploading\n",
      "COMET INFO: Still uploading\n",
      "COMET INFO: Still uploading\n",
      "COMET INFO: Still uploading\n",
      "COMET INFO: Still uploading\n",
      "COMET INFO: Still uploading\n",
      "COMET INFO: Still uploading\n",
      "COMET INFO: Still uploading\n",
      "COMET INFO: Still uploading\n",
      "COMET INFO: Still uploading\n",
      "COMET INFO: Still uploading\n",
      "COMET INFO: Still uploading\n",
      "COMET INFO: Still uploading\n",
      "COMET INFO: Still uploading\n",
      "COMET INFO: Still uploading\n",
      "COMET INFO: Still uploading\n",
      "COMET INFO: Still uploading\n",
      "COMET INFO: Still uploading\n",
      "COMET INFO: Still uploading\n",
      "COMET INFO: Still uploading\n",
      "COMET INFO: Still uploading\n",
      "COMET INFO: Still uploading\n",
      "COMET INFO: Still uploading\n",
      "COMET INFO: Still uploading\n",
      "COMET INFO: Still uploading\n",
      "COMET INFO: Still uploading\n",
      "COMET INFO: Still uploading\n",
      "COMET INFO: Still uploading\n",
      "COMET INFO: Still uploading\n",
      "COMET INFO: Still uploading\n",
      "COMET INFO: Still uploading\n",
      "COMET INFO: Still uploading\n",
      "COMET INFO: Still uploading\n",
      "COMET INFO: Still uploading\n",
      "COMET INFO: Still uploading\n",
      "COMET INFO: Still uploading\n",
      "COMET INFO: Still uploading\n",
      "COMET INFO: Still uploading\n",
      "COMET INFO: Still uploading\n",
      "COMET INFO: Still uploading\n",
      "COMET INFO: Still uploading\n",
      "COMET INFO: Still uploading\n",
      "COMET INFO: Still uploading\n",
      "COMET INFO: Still uploading\n",
      "COMET ERROR: Comet failed to send all the data back (0 messages and 3 uploads)\n",
      "COMET WARNING: Failed to log run in comet.ml\n"
     ]
    },
    {
     "name": "stdout",
     "output_type": "stream",
     "text": [
      "Training finished.\n"
     ]
    }
   ],
   "source": [
    "#%%\n",
    "teacher = Teacher(env, 1, Preprocessor(False))\n",
    "\n",
    "lr_actor = 4e-4\n",
    "lr_critic = 4e-3\n",
    "\n",
    "config = Config(buffer_size=4*steps_per_ep*threads_no, batch_size=32, gamma=0.7, tau=1e-3, lr_actor=lr_actor, lr_critic=lr_critic, update_every=1)\n",
    "agent = Agent(history_length, action_size=1, config=config, actor_layers=[8, 128, 16], critic_layers=[8,128,16])\n",
    "\n",
    "# Test the model\n",
    "hyperparams = {**config.__dict__, **sim_args}\n",
    "tags = [\"Rew: normalized speed\",\n",
    "        f\"{Agent.NAME}\",\n",
    "        sim_args['scenario'],\n",
    "        f\"Actor: {lr_actor}\",\n",
    "        f\"Critic: {lr_critic}\",\n",
    "        f\"Instances: {threads_no}\",\n",
    "        f\"Station count: {sim_args['nWifi']}\",\n",
    "        *[f\"{key}: {sim_args[key]}\" for key in list(sim_args)[:3]]]\n",
    "# agent.save()\n",
    "logger = teacher.train(agent, EPISODE_COUNT,\n",
    "                        simTime=simTime,\n",
    "                        stepTime=stepTime,\n",
    "                        history_length=history_length,\n",
    "                        send_logs=True,\n",
    "                        experimental=True,\n",
    "                        tags=tags,\n",
    "                        parameters=hyperparams)\n",
    "# logger = teacher.eval(agent,\n",
    "#                         simTime=simTime,\n",
    "#                         stepTime=stepTime,\n",
    "#                         history_length=history_length,\n",
    "#                         tags=tags,\n",
    "#                         parameters=hyperparams)\n",
    "# agent.save()"
   ]
  },
  {
   "cell_type": "markdown",
   "id": "c87c5c97",
   "metadata": {},
   "source": [
    "# Execution Num 5"
   ]
  },
  {
   "cell_type": "code",
   "execution_count": 1,
   "id": "14defd01",
   "metadata": {},
   "outputs": [],
   "source": [
    "# %%\n",
    "from ns3gym import ns3env\n",
    "from comet_ml import Experiment, Optimizer\n",
    "import tqdm\n",
    "import subprocess\n",
    "from collections import deque\n",
    "import numpy as np\n",
    "\n",
    "from agents.ddpg.agent import Agent, Config\n",
    "from agents.ddpg.model import Actor\n",
    "from agents.teacher import Teacher, EnvWrapper\n",
    "from preprocessor import Preprocessor"
   ]
  },
  {
   "cell_type": "code",
   "execution_count": 2,
   "id": "a611bbe3",
   "metadata": {},
   "outputs": [
    {
     "name": "stdout",
     "output_type": "stream",
     "text": [
      "Steps per episode: 6000\n",
      "Waiting for simulation script to connect on port: tcp://localhost:50269\n",
      "Please start proper ns-3 simulation script using ./waf --run \"...\"\n",
      "Waf: Entering directory `/home/samuel/ns-allinone-3.29/ns-3.29/build'\n",
      "Waf: Leaving directory `/home/samuel/ns-allinone-3.29/ns-3.29/build'\n",
      "Build commands will be stored in build/compile_commands.json\n",
      "'build' finished successfully (2.362s)\n"
     ]
    },
    {
     "name": "stderr",
     "output_type": "stream",
     "text": [
      "Ns3Env parameters:\n",
      "--nWifi: 6\n",
      "--simulationTime: 60\n",
      "--openGymPort: 50269\n",
      "--envStepTime: 0.01\n",
      "--seed: 42\n",
      "--agentType: continuous\n",
      "--scenario: convergence\n",
      "--dryRun: 0\n",
      "Simulation started\n"
     ]
    },
    {
     "name": "stdout",
     "output_type": "stream",
     "text": [
      "Observation space shape: (1, 300)\n",
      "Action space shape: (1, 1)\n"
     ]
    },
    {
     "name": "stderr",
     "output_type": "stream",
     "text": [
      "Simulation process id: 1012281 (parent (waf shell) id: 1012259)\n",
      "Waiting for Python process to connect on port: tcp://localhost:50269\n",
      "Please start proper Python Gym Agent\n"
     ]
    }
   ],
   "source": [
    "#%%\n",
    "scenario = \"convergence\"\n",
    "\n",
    "simTime = 60 # seconds\n",
    "stepTime = 0.01  # seconds\n",
    "history_length = 300\n",
    "\n",
    "EPISODE_COUNT = 15\n",
    "steps_per_ep = int(simTime/stepTime)\n",
    "\n",
    "sim_args = {\n",
    "    \"simTime\": simTime,\n",
    "    \"envStepTime\": stepTime,\n",
    "    \"historyLength\": history_length,\n",
    "    \"agentType\": Agent.TYPE,\n",
    "    \"scenario\": \"convergence\",\n",
    "    \"nWifi\": 6,\n",
    "}\n",
    "\n",
    "print(\"Steps per episode:\", steps_per_ep)\n",
    "\n",
    "threads_no = 1\n",
    "env = EnvWrapper(threads_no, **sim_args)\n",
    "\n",
    "#%%\n",
    "env.reset()\n",
    "ob_space = env.observation_space\n",
    "ac_space = env.action_space\n",
    "\n",
    "print(\"Observation space shape:\", ob_space)\n",
    "print(\"Action space shape:\", ac_space)\n",
    "\n",
    "assert ob_space is not None"
   ]
  },
  {
   "cell_type": "code",
   "execution_count": 3,
   "id": "24ad50c3",
   "metadata": {},
   "outputs": [
    {
     "name": "stdout",
     "output_type": "stream",
     "text": [
      "CuDNN version: 7102\n",
      "cpu\n"
     ]
    },
    {
     "name": "stderr",
     "output_type": "stream",
     "text": [
      "COMET INFO: Experiment is live on comet.ml https://www.comet.com/sheila-janota/rl-in-wifi-with-queue-level/c98401e96fc341999214000aa3c93bdc\n",
      "\n",
      "  0%|          | 0/6300 [00:00<?, ?it/s]"
     ]
    },
    {
     "name": "stdout",
     "output_type": "stream",
     "text": [
      "0\n"
     ]
    },
    {
     "name": "stderr",
     "output_type": "stream",
     "text": [
      "  5%|▌         | 333/6300 [01:14<23:27,  4.24it/s, curr_speed=33.47 Mbps, mb_sent=10.71 Mb]"
     ]
    },
    {
     "name": "stdout",
     "output_type": "stream",
     "text": [
      "------- STARTED TRAINING -------\n"
     ]
    },
    {
     "name": "stderr",
     "output_type": "stream",
     "text": [
      "100%|██████████| 6300/6300 [2:22:28<00:00,  1.36s/it, curr_speed=31.88 Mbps, mb_sent=1899.55 Mb]  \n"
     ]
    },
    {
     "name": "stdout",
     "output_type": "stream",
     "text": [
      "Waiting for simulation script to connect on port: tcp://localhost:38545\n",
      "Please start proper ns-3 simulation script using ./waf --run \"...\"\n",
      "Waf: Entering directory `/home/samuel/ns-allinone-3.29/ns-3.29/build'\n",
      "Waf: Leaving directory `/home/samuel/ns-allinone-3.29/ns-3.29/build'\n",
      "Build commands will be stored in build/compile_commands.json\n",
      "'build' finished successfully (2.255s)\n"
     ]
    },
    {
     "name": "stderr",
     "output_type": "stream",
     "text": [
      "Ns3Env parameters:\n",
      "--nWifi: 6\n",
      "--simulationTime: 60\n",
      "--openGymPort: 38545\n",
      "--envStepTime: 0.01\n",
      "--seed: 42\n",
      "--agentType: continuous\n",
      "--scenario: convergence\n",
      "--dryRun: 0\n",
      "Simulation started\n",
      "Simulation process id: 1048583 (parent (waf shell) id: 1048562)\n",
      "Waiting for Python process to connect on port: tcp://localhost:38545\n",
      "Please start proper Python Gym Agent\n",
      "  0%|          | 0/6300 [00:00<?, ?it/s]"
     ]
    },
    {
     "name": "stdout",
     "output_type": "stream",
     "text": [
      "Sent 1899.55 Mb/s.\tMean speed: 31.66 Mb/s\tEpisode 1/15 finished\n",
      "\n",
      "1\n"
     ]
    },
    {
     "name": "stderr",
     "output_type": "stream",
     "text": [
      "100%|██████████| 6300/6300 [1:03:29<00:00,  1.65it/s, curr_speed=43.97 Mbps, mb_sent=1979.46 Mb]\n"
     ]
    },
    {
     "name": "stdout",
     "output_type": "stream",
     "text": [
      "Waiting for simulation script to connect on port: tcp://localhost:53954\n",
      "Please start proper ns-3 simulation script using ./waf --run \"...\"\n",
      "Waf: Entering directory `/home/samuel/ns-allinone-3.29/ns-3.29/build'\n",
      "Waf: Leaving directory `/home/samuel/ns-allinone-3.29/ns-3.29/build'\n",
      "Build commands will be stored in build/compile_commands.json\n",
      "'build' finished successfully (2.306s)\n"
     ]
    },
    {
     "name": "stderr",
     "output_type": "stream",
     "text": [
      "Ns3Env parameters:\n",
      "--nWifi: 6\n",
      "--simulationTime: 60\n",
      "--openGymPort: 53954\n",
      "--envStepTime: 0.01\n",
      "--seed: 42\n",
      "--agentType: continuous\n",
      "--scenario: convergence\n",
      "--dryRun: 0\n",
      "Simulation started\n",
      "Simulation process id: 1068316 (parent (waf shell) id: 1068290)\n",
      "Waiting for Python process to connect on port: tcp://localhost:53954\n",
      "Please start proper Python Gym Agent\n",
      "  0%|          | 1/6300 [00:00<15:52,  6.61it/s, curr_speed=0.00 Mbps, mb_sent=0.00 Mb]"
     ]
    },
    {
     "name": "stdout",
     "output_type": "stream",
     "text": [
      "Sent 1979.46 Mb/s.\tMean speed: 32.99 Mb/s\tEpisode 2/15 finished\n",
      "\n",
      "2\n"
     ]
    },
    {
     "name": "stderr",
     "output_type": "stream",
     "text": [
      "100%|██████████| 6300/6300 [1:04:54<00:00,  1.62it/s, curr_speed=34.84 Mbps, mb_sent=2077.59 Mb]\n"
     ]
    },
    {
     "name": "stdout",
     "output_type": "stream",
     "text": [
      "Waiting for simulation script to connect on port: tcp://localhost:34763\n",
      "Please start proper ns-3 simulation script using ./waf --run \"...\"\n",
      "Waf: Entering directory `/home/samuel/ns-allinone-3.29/ns-3.29/build'\n",
      "Waf: Leaving directory `/home/samuel/ns-allinone-3.29/ns-3.29/build'\n",
      "Build commands will be stored in build/compile_commands.json\n",
      "'build' finished successfully (2.339s)\n"
     ]
    },
    {
     "name": "stderr",
     "output_type": "stream",
     "text": [
      "Ns3Env parameters:\n",
      "--nWifi: 6\n",
      "--simulationTime: 60\n",
      "--openGymPort: 34763\n",
      "--envStepTime: 0.01\n",
      "--seed: 42\n",
      "--agentType: continuous\n",
      "--scenario: convergence\n",
      "--dryRun: 0\n",
      "Simulation started\n",
      "Simulation process id: 1088553 (parent (waf shell) id: 1088527)\n",
      "Waiting for Python process to connect on port: tcp://localhost:34763\n",
      "Please start proper Python Gym Agent\n",
      "  0%|          | 1/6300 [00:00<15:07,  6.94it/s, curr_speed=0.00 Mbps, mb_sent=0.00 Mb]"
     ]
    },
    {
     "name": "stdout",
     "output_type": "stream",
     "text": [
      "Sent 2077.59 Mb/s.\tMean speed: 34.63 Mb/s\tEpisode 3/15 finished\n",
      "\n",
      "3\n"
     ]
    },
    {
     "name": "stderr",
     "output_type": "stream",
     "text": [
      "100%|██████████| 6300/6300 [42:28<00:00,  2.47it/s, curr_speed=36.11 Mbps, mb_sent=2180.40 Mb] \n"
     ]
    },
    {
     "name": "stdout",
     "output_type": "stream",
     "text": [
      "Waiting for simulation script to connect on port: tcp://localhost:21437\n",
      "Please start proper ns-3 simulation script using ./waf --run \"...\"\n",
      "Waf: Entering directory `/home/samuel/ns-allinone-3.29/ns-3.29/build'\n",
      "Waf: Leaving directory `/home/samuel/ns-allinone-3.29/ns-3.29/build'\n",
      "Build commands will be stored in build/compile_commands.json\n",
      "'build' finished successfully (2.145s)\n"
     ]
    },
    {
     "name": "stderr",
     "output_type": "stream",
     "text": [
      "Ns3Env parameters:\n",
      "--nWifi: 6\n",
      "--simulationTime: 60\n",
      "--openGymPort: 21437\n",
      "--envStepTime: 0.01\n",
      "--seed: 42\n",
      "--agentType: continuous\n",
      "--scenario: convergence\n",
      "--dryRun: 0\n",
      "Simulation started\n",
      "Simulation process id: 1108249 (parent (waf shell) id: 1108225)\n",
      "Waiting for Python process to connect on port: tcp://localhost:21437\n",
      "Please start proper Python Gym Agent\n",
      "  0%|          | 1/6300 [00:00<12:22,  8.49it/s, curr_speed=0.00 Mbps, mb_sent=0.00 Mb]"
     ]
    },
    {
     "name": "stdout",
     "output_type": "stream",
     "text": [
      "Sent 2180.40 Mb/s.\tMean speed: 36.34 Mb/s\tEpisode 4/15 finished\n",
      "\n",
      "4\n"
     ]
    },
    {
     "name": "stderr",
     "output_type": "stream",
     "text": [
      "  5%|▍         | 305/6300 [00:41<20:25,  4.89it/s, curr_speed=39.09 Mbps, mb_sent=1.56 Mb]"
     ]
    },
    {
     "name": "stdout",
     "output_type": "stream",
     "text": [
      "------- MEMORY BUFFER FILLED -------\n"
     ]
    },
    {
     "name": "stderr",
     "output_type": "stream",
     "text": [
      "100%|██████████| 6300/6300 [22:55<00:00,  4.58it/s, curr_speed=31.80 Mbps, mb_sent=2234.55 Mb]\n"
     ]
    },
    {
     "name": "stdout",
     "output_type": "stream",
     "text": [
      "Waiting for simulation script to connect on port: tcp://localhost:43880\n",
      "Please start proper ns-3 simulation script using ./waf --run \"...\"\n",
      "Waf: Entering directory `/home/samuel/ns-allinone-3.29/ns-3.29/build'\n",
      "Waf: Leaving directory `/home/samuel/ns-allinone-3.29/ns-3.29/build'\n",
      "Build commands will be stored in build/compile_commands.json\n",
      "'build' finished successfully (2.130s)\n"
     ]
    },
    {
     "name": "stderr",
     "output_type": "stream",
     "text": [
      "Ns3Env parameters:\n",
      "--nWifi: 6\n",
      "--simulationTime: 60\n",
      "--openGymPort: 43880\n",
      "--envStepTime: 0.01\n",
      "--seed: 42\n",
      "--agentType: continuous\n",
      "--scenario: convergence\n",
      "--dryRun: 0\n",
      "Simulation started\n",
      "Simulation process id: 1120381 (parent (waf shell) id: 1120357)\n",
      "Waiting for Python process to connect on port: tcp://localhost:43880\n",
      "Please start proper Python Gym Agent\n",
      "  0%|          | 1/6300 [00:00<10:46,  9.74it/s, curr_speed=0.00 Mbps, mb_sent=0.00 Mb]"
     ]
    },
    {
     "name": "stdout",
     "output_type": "stream",
     "text": [
      "Sent 2234.55 Mb/s.\tMean speed: 37.24 Mb/s\tEpisode 5/15 finished\n",
      "\n",
      "5\n"
     ]
    },
    {
     "name": "stderr",
     "output_type": "stream",
     "text": [
      "100%|██████████| 6300/6300 [22:52<00:00,  4.59it/s, curr_speed=38.10 Mbps, mb_sent=2274.82 Mb]\n"
     ]
    },
    {
     "name": "stdout",
     "output_type": "stream",
     "text": [
      "Waiting for simulation script to connect on port: tcp://localhost:44972\n",
      "Please start proper ns-3 simulation script using ./waf --run \"...\"\n",
      "Waf: Entering directory `/home/samuel/ns-allinone-3.29/ns-3.29/build'\n",
      "Waf: Leaving directory `/home/samuel/ns-allinone-3.29/ns-3.29/build'\n",
      "Build commands will be stored in build/compile_commands.json\n",
      "'build' finished successfully (2.082s)\n"
     ]
    },
    {
     "name": "stderr",
     "output_type": "stream",
     "text": [
      "Ns3Env parameters:\n",
      "--nWifi: 6\n",
      "--simulationTime: 60\n",
      "--openGymPort: 44972\n",
      "--envStepTime: 0.01\n",
      "--seed: 42\n",
      "--agentType: continuous\n",
      "--scenario: convergence\n",
      "--dryRun: 0\n",
      "Simulation started\n",
      "Simulation process id: 1132153 (parent (waf shell) id: 1132127)\n",
      "Waiting for Python process to connect on port: tcp://localhost:44972\n",
      "Please start proper Python Gym Agent\n",
      "  0%|          | 0/6300 [00:00<?, ?it/s, curr_speed=0.00 Mbps, mb_sent=0.00 Mb]"
     ]
    },
    {
     "name": "stdout",
     "output_type": "stream",
     "text": [
      "Sent 2274.82 Mb/s.\tMean speed: 37.91 Mb/s\tEpisode 6/15 finished\n",
      "\n",
      "6\n"
     ]
    },
    {
     "name": "stderr",
     "output_type": "stream",
     "text": [
      "100%|██████████| 6300/6300 [22:44<00:00,  4.62it/s, curr_speed=38.42 Mbps, mb_sent=2299.04 Mb]\n"
     ]
    },
    {
     "name": "stdout",
     "output_type": "stream",
     "text": [
      "Waiting for simulation script to connect on port: tcp://localhost:15909\n",
      "Please start proper ns-3 simulation script using ./waf --run \"...\"\n",
      "Waf: Entering directory `/home/samuel/ns-allinone-3.29/ns-3.29/build'\n",
      "Waf: Leaving directory `/home/samuel/ns-allinone-3.29/ns-3.29/build'\n",
      "Build commands will be stored in build/compile_commands.json\n",
      "'build' finished successfully (2.179s)\n"
     ]
    },
    {
     "name": "stderr",
     "output_type": "stream",
     "text": [
      "Ns3Env parameters:\n",
      "--nWifi: 6\n",
      "--simulationTime: 60\n",
      "--openGymPort: 15909\n",
      "--envStepTime: 0.01\n",
      "--seed: 42\n",
      "--agentType: continuous\n",
      "--scenario: convergence\n",
      "--dryRun: 0\n",
      "Simulation started\n",
      "Simulation process id: 1143983 (parent (waf shell) id: 1143960)\n",
      "Waiting for Python process to connect on port: tcp://localhost:15909\n",
      "Please start proper Python Gym Agent\n",
      "  0%|          | 0/6300 [00:00<?, ?it/s, curr_speed=0.00 Mbps, mb_sent=0.00 Mb]"
     ]
    },
    {
     "name": "stdout",
     "output_type": "stream",
     "text": [
      "Sent 2299.04 Mb/s.\tMean speed: 38.32 Mb/s\tEpisode 7/15 finished\n",
      "\n",
      "7\n"
     ]
    },
    {
     "name": "stderr",
     "output_type": "stream",
     "text": [
      "100%|██████████| 6300/6300 [22:41<00:00,  4.63it/s, curr_speed=38.43 Mbps, mb_sent=2310.94 Mb]\n"
     ]
    },
    {
     "name": "stdout",
     "output_type": "stream",
     "text": [
      "Waiting for simulation script to connect on port: tcp://localhost:36856\n",
      "Please start proper ns-3 simulation script using ./waf --run \"...\"\n",
      "Waf: Entering directory `/home/samuel/ns-allinone-3.29/ns-3.29/build'\n",
      "Waf: Leaving directory `/home/samuel/ns-allinone-3.29/ns-3.29/build'\n",
      "Build commands will be stored in build/compile_commands.json\n",
      "'build' finished successfully (2.086s)\n"
     ]
    },
    {
     "name": "stderr",
     "output_type": "stream",
     "text": [
      "Ns3Env parameters:\n",
      "--nWifi: 6\n",
      "--simulationTime: 60\n",
      "--openGymPort: 36856\n",
      "--envStepTime: 0.01\n",
      "--seed: 42\n",
      "--agentType: continuous\n",
      "--scenario: convergence\n",
      "--dryRun: 0\n",
      "Simulation started\n",
      "Simulation process id: 1155853 (parent (waf shell) id: 1155831)\n",
      "Waiting for Python process to connect on port: tcp://localhost:36856\n",
      "Please start proper Python Gym Agent\n",
      "  0%|          | 1/6300 [00:00<10:39,  9.84it/s, curr_speed=0.00 Mbps, mb_sent=0.00 Mb]"
     ]
    },
    {
     "name": "stdout",
     "output_type": "stream",
     "text": [
      "Sent 2310.94 Mb/s.\tMean speed: 38.52 Mb/s\tEpisode 8/15 finished\n",
      "\n",
      "8\n"
     ]
    },
    {
     "name": "stderr",
     "output_type": "stream",
     "text": [
      "100%|██████████| 6300/6300 [22:08<00:00,  4.74it/s, curr_speed=38.20 Mbps, mb_sent=2322.04 Mb]\n"
     ]
    },
    {
     "name": "stdout",
     "output_type": "stream",
     "text": [
      "Waiting for simulation script to connect on port: tcp://localhost:35539\n",
      "Please start proper ns-3 simulation script using ./waf --run \"...\"\n",
      "Waf: Entering directory `/home/samuel/ns-allinone-3.29/ns-3.29/build'\n",
      "Waf: Leaving directory `/home/samuel/ns-allinone-3.29/ns-3.29/build'\n",
      "Build commands will be stored in build/compile_commands.json\n",
      "'build' finished successfully (2.118s)\n"
     ]
    },
    {
     "name": "stderr",
     "output_type": "stream",
     "text": [
      "Ns3Env parameters:\n",
      "--nWifi: 6\n",
      "--simulationTime: 60\n",
      "--openGymPort: 35539\n",
      "--envStepTime: 0.01\n",
      "--seed: 42\n",
      "--agentType: continuous\n",
      "--scenario: convergence\n",
      "--dryRun: 0\n",
      "Simulation started\n",
      "Simulation process id: 1166919 (parent (waf shell) id: 1166894)\n",
      "Waiting for Python process to connect on port: tcp://localhost:35539\n",
      "Please start proper Python Gym Agent\n",
      "  0%|          | 1/6300 [00:00<11:27,  9.16it/s, curr_speed=0.00 Mbps, mb_sent=0.00 Mb]"
     ]
    },
    {
     "name": "stdout",
     "output_type": "stream",
     "text": [
      "Sent 2322.04 Mb/s.\tMean speed: 38.70 Mb/s\tEpisode 9/15 finished\n",
      "\n",
      "9\n"
     ]
    },
    {
     "name": "stderr",
     "output_type": "stream",
     "text": [
      "100%|██████████| 6300/6300 [23:50<00:00,  4.41it/s, curr_speed=38.22 Mbps, mb_sent=2319.66 Mb]\n"
     ]
    },
    {
     "name": "stdout",
     "output_type": "stream",
     "text": [
      "Waiting for simulation script to connect on port: tcp://localhost:30070\n",
      "Please start proper ns-3 simulation script using ./waf --run \"...\"\n",
      "Waf: Entering directory `/home/samuel/ns-allinone-3.29/ns-3.29/build'\n",
      "Waf: Leaving directory `/home/samuel/ns-allinone-3.29/ns-3.29/build'\n",
      "Build commands will be stored in build/compile_commands.json\n",
      "'build' finished successfully (2.113s)\n"
     ]
    },
    {
     "name": "stderr",
     "output_type": "stream",
     "text": [
      "Ns3Env parameters:\n",
      "--nWifi: 6\n",
      "--simulationTime: 60\n",
      "--openGymPort: 30070\n",
      "--envStepTime: 0.01\n",
      "--seed: 42\n",
      "--agentType: continuous\n",
      "--scenario: convergence\n",
      "--dryRun: 0\n",
      "Simulation started\n",
      "Simulation process id: 1179929 (parent (waf shell) id: 1179907)\n",
      "Waiting for Python process to connect on port: tcp://localhost:30070\n",
      "Please start proper Python Gym Agent\n",
      "  0%|          | 0/6300 [00:00<?, ?it/s, curr_speed=0.00 Mbps, mb_sent=0.00 Mb]"
     ]
    },
    {
     "name": "stdout",
     "output_type": "stream",
     "text": [
      "Sent 2319.66 Mb/s.\tMean speed: 38.66 Mb/s\tEpisode 10/15 finished\n",
      "\n",
      "10\n"
     ]
    },
    {
     "name": "stderr",
     "output_type": "stream",
     "text": [
      "100%|██████████| 6300/6300 [22:47<00:00,  4.61it/s, curr_speed=38.58 Mbps, mb_sent=2327.29 Mb]\n"
     ]
    },
    {
     "name": "stdout",
     "output_type": "stream",
     "text": [
      "Waiting for simulation script to connect on port: tcp://localhost:16201\n",
      "Please start proper ns-3 simulation script using ./waf --run \"...\"\n",
      "Waf: Entering directory `/home/samuel/ns-allinone-3.29/ns-3.29/build'\n",
      "Waf: Leaving directory `/home/samuel/ns-allinone-3.29/ns-3.29/build'\n",
      "Build commands will be stored in build/compile_commands.json\n",
      "'build' finished successfully (2.112s)\n"
     ]
    },
    {
     "name": "stderr",
     "output_type": "stream",
     "text": [
      "Ns3Env parameters:\n",
      "--nWifi: 6\n",
      "--simulationTime: 60\n",
      "--openGymPort: 16201\n",
      "--envStepTime: 0.01\n",
      "--seed: 42\n",
      "--agentType: continuous\n",
      "--scenario: convergence\n",
      "--dryRun: 0\n",
      "Simulation started\n",
      "Simulation process id: 1191465 (parent (waf shell) id: 1191441)\n",
      "Waiting for Python process to connect on port: tcp://localhost:16201\n",
      "Please start proper Python Gym Agent\n",
      "  0%|          | 1/6300 [00:00<11:32,  9.09it/s, curr_speed=0.00 Mbps, mb_sent=0.00 Mb]"
     ]
    },
    {
     "name": "stdout",
     "output_type": "stream",
     "text": [
      "Sent 2327.29 Mb/s.\tMean speed: 38.79 Mb/s\tEpisode 11/15 finished\n",
      "\n",
      "11\n"
     ]
    },
    {
     "name": "stderr",
     "output_type": "stream",
     "text": [
      "100%|██████████| 6300/6300 [22:54<00:00,  4.58it/s, curr_speed=38.70 Mbps, mb_sent=2325.48 Mb]\n"
     ]
    },
    {
     "name": "stdout",
     "output_type": "stream",
     "text": [
      "Waiting for simulation script to connect on port: tcp://localhost:48678\n",
      "Please start proper ns-3 simulation script using ./waf --run \"...\"\n",
      "Waf: Entering directory `/home/samuel/ns-allinone-3.29/ns-3.29/build'\n",
      "Waf: Leaving directory `/home/samuel/ns-allinone-3.29/ns-3.29/build'\n",
      "Build commands will be stored in build/compile_commands.json\n",
      "'build' finished successfully (2.228s)\n"
     ]
    },
    {
     "name": "stderr",
     "output_type": "stream",
     "text": [
      "Ns3Env parameters:\n",
      "--nWifi: 6\n",
      "--simulationTime: 60\n",
      "--openGymPort: 48678\n",
      "--envStepTime: 0.01\n",
      "--seed: 42\n",
      "--agentType: continuous\n",
      "--scenario: convergence\n",
      "--dryRun: 0\n",
      "Simulation started\n",
      "Simulation process id: 1203184 (parent (waf shell) id: 1203158)\n",
      "Waiting for Python process to connect on port: tcp://localhost:48678\n",
      "Please start proper Python Gym Agent\n",
      "  0%|          | 1/6300 [00:00<11:53,  8.83it/s, curr_speed=0.00 Mbps, mb_sent=0.00 Mb]"
     ]
    },
    {
     "name": "stdout",
     "output_type": "stream",
     "text": [
      "Sent 2325.48 Mb/s.\tMean speed: 38.76 Mb/s\tEpisode 12/15 finished\n",
      "\n",
      "12\n",
      "Turning off noise\n"
     ]
    },
    {
     "name": "stderr",
     "output_type": "stream",
     "text": [
      "100%|██████████| 6300/6300 [22:36<00:00,  4.64it/s, curr_speed=38.72 Mbps, mb_sent=2320.93 Mb]\n"
     ]
    },
    {
     "name": "stdout",
     "output_type": "stream",
     "text": [
      "Waiting for simulation script to connect on port: tcp://localhost:40099\n",
      "Please start proper ns-3 simulation script using ./waf --run \"...\"\n",
      "Waf: Entering directory `/home/samuel/ns-allinone-3.29/ns-3.29/build'\n",
      "Waf: Leaving directory `/home/samuel/ns-allinone-3.29/ns-3.29/build'\n",
      "Build commands will be stored in build/compile_commands.json\n",
      "'build' finished successfully (2.112s)\n"
     ]
    },
    {
     "name": "stderr",
     "output_type": "stream",
     "text": [
      "Ns3Env parameters:\n",
      "--nWifi: 6\n",
      "--simulationTime: 60\n",
      "--openGymPort: 40099\n",
      "--envStepTime: 0.01\n",
      "--seed: 42\n",
      "--agentType: continuous\n",
      "--scenario: convergence\n",
      "--dryRun: 0\n",
      "Simulation started\n",
      "Simulation process id: 1214948 (parent (waf shell) id: 1214923)\n",
      "Waiting for Python process to connect on port: tcp://localhost:40099\n",
      "Please start proper Python Gym Agent\n",
      "  0%|          | 1/6300 [00:00<13:42,  7.66it/s, curr_speed=0.00 Mbps, mb_sent=0.00 Mb]"
     ]
    },
    {
     "name": "stdout",
     "output_type": "stream",
     "text": [
      "Sent 2320.93 Mb/s.\tMean speed: 38.68 Mb/s\tEpisode 13/15 finished\n",
      "\n",
      "13\n",
      "Turning off noise\n"
     ]
    },
    {
     "name": "stderr",
     "output_type": "stream",
     "text": [
      "100%|██████████| 6300/6300 [23:26<00:00,  4.48it/s, curr_speed=38.37 Mbps, mb_sent=2325.71 Mb]\n"
     ]
    },
    {
     "name": "stdout",
     "output_type": "stream",
     "text": [
      "Waiting for simulation script to connect on port: tcp://localhost:45688\n",
      "Please start proper ns-3 simulation script using ./waf --run \"...\"\n",
      "Waf: Entering directory `/home/samuel/ns-allinone-3.29/ns-3.29/build'\n",
      "Waf: Leaving directory `/home/samuel/ns-allinone-3.29/ns-3.29/build'\n",
      "Build commands will be stored in build/compile_commands.json\n",
      "'build' finished successfully (2.191s)\n"
     ]
    },
    {
     "name": "stderr",
     "output_type": "stream",
     "text": [
      "Ns3Env parameters:\n",
      "--nWifi: 6\n",
      "--simulationTime: 60\n",
      "--openGymPort: 45688\n",
      "--envStepTime: 0.01\n",
      "--seed: 42\n",
      "--agentType: continuous\n",
      "--scenario: convergence\n",
      "--dryRun: 0\n",
      "Simulation started\n",
      "Simulation process id: 1227352 (parent (waf shell) id: 1227323)\n",
      "Waiting for Python process to connect on port: tcp://localhost:45688\n",
      "Please start proper Python Gym Agent\n",
      "  0%|          | 1/6300 [00:00<15:07,  6.94it/s, curr_speed=0.00 Mbps, mb_sent=0.00 Mb]"
     ]
    },
    {
     "name": "stdout",
     "output_type": "stream",
     "text": [
      "Sent 2325.71 Mb/s.\tMean speed: 38.76 Mb/s\tEpisode 14/15 finished\n",
      "\n",
      "14\n",
      "Turning off noise\n"
     ]
    },
    {
     "name": "stderr",
     "output_type": "stream",
     "text": [
      "100%|██████████| 6300/6300 [16:52<00:00,  6.23it/s, curr_speed=38.96 Mbps, mb_sent=2323.87 Mb]\n"
     ]
    },
    {
     "name": "stdout",
     "output_type": "stream",
     "text": [
      "Waiting for simulation script to connect on port: tcp://localhost:26062\n",
      "Please start proper ns-3 simulation script using ./waf --run \"...\"\n",
      "Waf: Entering directory `/home/samuel/ns-allinone-3.29/ns-3.29/build'\n",
      "Waf: Leaving directory `/home/samuel/ns-allinone-3.29/ns-3.29/build'\n",
      "Build commands will be stored in build/compile_commands.json\n",
      "'build' finished successfully (2.097s)\n"
     ]
    },
    {
     "name": "stderr",
     "output_type": "stream",
     "text": [
      "Ns3Env parameters:\n",
      "--nWifi: 6\n",
      "--simulationTime: 60\n",
      "--openGymPort: 26062\n",
      "--envStepTime: 0.01\n",
      "--seed: 42\n",
      "--agentType: continuous\n",
      "--scenario: convergence\n",
      "--dryRun: 0\n",
      "Simulation started\n",
      "Simulation process id: 1237935 (parent (waf shell) id: 1237913)\n",
      "Waiting for Python process to connect on port: tcp://localhost:26062\n",
      "Please start proper Python Gym Agent\n",
      "COMET INFO: ----------------------------\n",
      "COMET INFO: Comet.ml Experiment Summary:\n",
      "COMET INFO:   Data:\n",
      "COMET INFO:     url: https://www.comet.com/sheila-janota/rl-in-wifi-with-queue-level/c98401e96fc341999214000aa3c93bdc\n",
      "COMET INFO:   Metrics [count] (min, max):\n",
      "COMET INFO:     Chosen CW [89985]           : (16.0, 1024.0)\n",
      "COMET INFO:     Cumulative reward [15]      : (2637.20751953125, 3256.2919921875)\n",
      "COMET INFO:     Current throughput [89985]  : (23.9249267578125, 49.648136138916016)\n",
      "COMET INFO:     Fairness index [89985]      : (0.1760150045156479, 0.9998980164527893)\n",
      "COMET INFO:     Megabytes sent [89985]      : (0.3350830078125, 2327.2855253219604)\n",
      "COMET INFO:     Observation 0 [89985]       : (0.679535729214549, 0.8571428656578064)\n",
      "COMET INFO:     Observation 1 [89985]       : (0.0, 0.08780043584247765)\n",
      "COMET INFO:     Per-ep reward [89985]       : (127.3017578125, 3256.2919921875)\n",
      "COMET INFO:     Round megabytes sent [89985]: (0.04467799887061119, 11.82843017578125)\n",
      "COMET INFO:     Round reward [89985]        : (0.0595703125, 0.62548828125)\n",
      "COMET INFO:     Speed [15]                  : (31.659200168401004, 38.788092088699344)\n",
      "COMET INFO:     Station count [89985]       : (5.0, 6.0)\n",
      "COMET INFO:     actor_loss [89985]          : (-1.7266532182693481, 0.0)\n",
      "COMET INFO:     critic_loss [89985]         : (0.0, 5.5261549949646)\n",
      "COMET INFO:     loss [33578]                : (-1.726650357246399, 1.0788235664367676)\n",
      "COMET INFO:   Uploads:\n",
      "COMET INFO:     histogram3d: 89985\n",
      "COMET INFO: ----------------------------\n",
      "COMET INFO: Uploading stats to Comet before program termination (may take several seconds)\n"
     ]
    },
    {
     "name": "stdout",
     "output_type": "stream",
     "text": [
      "Sent 2323.87 Mb/s.\tMean speed: 38.73 Mb/s\tEpisode 15/15 finished\n",
      "\n",
      "Training finished.\n"
     ]
    }
   ],
   "source": [
    "#%%\n",
    "teacher = Teacher(env, 1, Preprocessor(False))\n",
    "\n",
    "lr_actor = 4e-4\n",
    "lr_critic = 4e-3\n",
    "\n",
    "config = Config(buffer_size=4*steps_per_ep*threads_no, batch_size=32, gamma=0.7, tau=1e-3, lr_actor=lr_actor, lr_critic=lr_critic, update_every=1)\n",
    "agent = Agent(history_length, action_size=1, config=config, actor_layers=[8, 128, 16], critic_layers=[8,128,16])\n",
    "\n",
    "# Test the model\n",
    "hyperparams = {**config.__dict__, **sim_args}\n",
    "tags = [\"Rew: normalized speed\",\n",
    "        f\"{Agent.NAME}\",\n",
    "        sim_args['scenario'],\n",
    "        f\"Actor: {lr_actor}\",\n",
    "        f\"Critic: {lr_critic}\",\n",
    "        f\"Instances: {threads_no}\",\n",
    "        f\"Station count: {sim_args['nWifi']}\",\n",
    "        *[f\"{key}: {sim_args[key]}\" for key in list(sim_args)[:3]]]\n",
    "# agent.save()\n",
    "logger = teacher.train(agent, EPISODE_COUNT,\n",
    "                        simTime=simTime,\n",
    "                        stepTime=stepTime,\n",
    "                        history_length=history_length,\n",
    "                        send_logs=True,\n",
    "                        experimental=True,\n",
    "                        tags=tags,\n",
    "                        parameters=hyperparams)\n",
    "# logger = teacher.eval(agent,\n",
    "#                         simTime=simTime,\n",
    "#                         stepTime=stepTime,\n",
    "#                         history_length=history_length,\n",
    "#                         tags=tags,\n",
    "#                         parameters=hyperparams)\n",
    "# agent.save()"
   ]
  },
  {
   "cell_type": "markdown",
   "id": "f044fd2d",
   "metadata": {},
   "source": [
    "# Execution Num 6:"
   ]
  },
  {
   "cell_type": "code",
   "execution_count": 1,
   "id": "e8d7913d",
   "metadata": {},
   "outputs": [],
   "source": [
    "# %%\n",
    "from ns3gym import ns3env\n",
    "from comet_ml import Experiment, Optimizer\n",
    "import tqdm\n",
    "import subprocess\n",
    "from collections import deque\n",
    "import numpy as np\n",
    "\n",
    "from agents.ddpg.agent import Agent, Config\n",
    "from agents.ddpg.model import Actor\n",
    "from agents.teacher import Teacher, EnvWrapper\n",
    "from preprocessor import Preprocessor"
   ]
  },
  {
   "cell_type": "code",
   "execution_count": 2,
   "id": "337847d3",
   "metadata": {},
   "outputs": [
    {
     "name": "stdout",
     "output_type": "stream",
     "text": [
      "Steps per episode: 6000\n",
      "Waiting for simulation script to connect on port: tcp://localhost:35619\n",
      "Please start proper ns-3 simulation script using ./waf --run \"...\"\n",
      "Waf: Entering directory `/home/samuel/ns-allinone-3.29/ns-3.29/build'\n",
      "Waf: Leaving directory `/home/samuel/ns-allinone-3.29/ns-3.29/build'\n",
      "Build commands will be stored in build/compile_commands.json\n",
      "'build' finished successfully (2.105s)\n"
     ]
    },
    {
     "name": "stderr",
     "output_type": "stream",
     "text": [
      "Ns3Env parameters:\n",
      "--nWifi: 6\n",
      "--simulationTime: 60\n",
      "--openGymPort: 35619\n",
      "--envStepTime: 0.01\n",
      "--seed: 42\n",
      "--agentType: continuous\n",
      "--scenario: convergence\n",
      "--dryRun: 0\n",
      "Simulation started\n"
     ]
    },
    {
     "name": "stdout",
     "output_type": "stream",
     "text": [
      "Observation space shape: (1, 300)\n",
      "Action space shape: (1, 1)\n"
     ]
    },
    {
     "name": "stderr",
     "output_type": "stream",
     "text": [
      "Simulation process id: 1297840 (parent (waf shell) id: 1297824)\n",
      "Waiting for Python process to connect on port: tcp://localhost:35619\n",
      "Please start proper Python Gym Agent\n"
     ]
    }
   ],
   "source": [
    "#%%\n",
    "scenario = \"convergence\"\n",
    "\n",
    "simTime = 60 # seconds\n",
    "stepTime = 0.01  # seconds\n",
    "history_length = 300\n",
    "\n",
    "EPISODE_COUNT = 15\n",
    "steps_per_ep = int(simTime/stepTime)\n",
    "\n",
    "sim_args = {\n",
    "    \"simTime\": simTime,\n",
    "    \"envStepTime\": stepTime,\n",
    "    \"historyLength\": history_length,\n",
    "    \"agentType\": Agent.TYPE,\n",
    "    \"scenario\": \"convergence\",\n",
    "    \"nWifi\": 6,\n",
    "}\n",
    "\n",
    "print(\"Steps per episode:\", steps_per_ep)\n",
    "\n",
    "threads_no = 1\n",
    "env = EnvWrapper(threads_no, **sim_args)\n",
    "\n",
    "#%%\n",
    "env.reset()\n",
    "ob_space = env.observation_space\n",
    "ac_space = env.action_space\n",
    "\n",
    "print(\"Observation space shape:\", ob_space)\n",
    "print(\"Action space shape:\", ac_space)\n",
    "\n",
    "assert ob_space is not None"
   ]
  },
  {
   "cell_type": "code",
   "execution_count": 3,
   "id": "d9f60dcb",
   "metadata": {},
   "outputs": [
    {
     "name": "stdout",
     "output_type": "stream",
     "text": [
      "CuDNN version: 7102\n",
      "cpu\n"
     ]
    },
    {
     "name": "stderr",
     "output_type": "stream",
     "text": [
      "COMET INFO: Experiment is live on comet.ml https://www.comet.com/sheila-janota/rl-in-wifi-with-queue-level/0f794b7609e843d29b91217f8b894ff8\n",
      "\n",
      "  0%|          | 1/6300 [00:00<14:28,  7.25it/s, curr_speed=0.00 Mbps, mb_sent=0.00 Mb]"
     ]
    },
    {
     "name": "stdout",
     "output_type": "stream",
     "text": [
      "0\n"
     ]
    },
    {
     "name": "stderr",
     "output_type": "stream",
     "text": [
      "  5%|▌         | 335/6300 [00:43<14:28,  6.87it/s, curr_speed=32.33 Mbps, mb_sent=10.99 Mb]"
     ]
    },
    {
     "name": "stdout",
     "output_type": "stream",
     "text": [
      "------- STARTED TRAINING -------\n"
     ]
    },
    {
     "name": "stderr",
     "output_type": "stream",
     "text": [
      "100%|██████████| 6300/6300 [16:40<00:00,  6.30it/s, curr_speed=30.89 Mbps, mb_sent=1885.36 Mb]\n"
     ]
    },
    {
     "name": "stdout",
     "output_type": "stream",
     "text": [
      "Waiting for simulation script to connect on port: tcp://localhost:30267\n",
      "Please start proper ns-3 simulation script using ./waf --run \"...\"\n",
      "Waf: Entering directory `/home/samuel/ns-allinone-3.29/ns-3.29/build'\n",
      "Waf: Leaving directory `/home/samuel/ns-allinone-3.29/ns-3.29/build'\n",
      "Build commands will be stored in build/compile_commands.json\n",
      "'build' finished successfully (1.958s)\n"
     ]
    },
    {
     "name": "stderr",
     "output_type": "stream",
     "text": [
      "Ns3Env parameters:\n",
      "--nWifi: 6\n",
      "--simulationTime: 60\n",
      "--openGymPort: 30267\n",
      "--envStepTime: 0.01\n",
      "--seed: 42\n",
      "--agentType: continuous\n",
      "--scenario: convergence\n",
      "--dryRun: 0\n",
      "Simulation started\n",
      "Simulation process id: 1305207 (parent (waf shell) id: 1305192)\n",
      "Waiting for Python process to connect on port: tcp://localhost:30267\n",
      "Please start proper Python Gym Agent\n",
      "  0%|          | 2/6300 [00:00<09:46, 10.74it/s, curr_speed=0.00 Mbps, mb_sent=0.00 Mb]"
     ]
    },
    {
     "name": "stdout",
     "output_type": "stream",
     "text": [
      "Sent 1885.36 Mb/s.\tMean speed: 31.42 Mb/s\tEpisode 1/15 finished\n",
      "\n",
      "1\n"
     ]
    },
    {
     "name": "stderr",
     "output_type": "stream",
     "text": [
      " 20%|█▉        | 1233/6300 [02:57<13:07,  6.44it/s, curr_speed=34.84 Mbps, mb_sent=313.22 Mb]COMET ERROR: File could not be uploaded\n",
      " 20%|█▉        | 1234/6300 [02:57<13:20,  6.33it/s, curr_speed=34.87 Mbps, mb_sent=313.59 Mb]COMET ERROR: File could not be uploaded\n",
      " 20%|█▉        | 1237/6300 [02:58<12:21,  6.83it/s, curr_speed=34.79 Mbps, mb_sent=314.58 Mb]COMET ERROR: File could not be uploaded\n",
      "COMET ERROR: File could not be uploaded\n",
      "COMET ERROR: File could not be uploaded\n",
      "COMET ERROR: File could not be uploaded\n",
      "COMET ERROR: File could not be uploaded\n",
      "COMET ERROR: File could not be uploaded\n",
      "COMET ERROR: File could not be uploaded\n",
      "COMET ERROR: File could not be uploaded\n",
      " 20%|█▉        | 1238/6300 [02:58<13:00,  6.49it/s, curr_speed=34.84 Mbps, mb_sent=314.96 Mb]COMET ERROR: File could not be uploaded\n",
      "COMET ERROR: File could not be uploaded\n",
      "COMET ERROR: File could not be uploaded\n",
      "COMET ERROR: File could not be uploaded\n",
      "COMET ERROR: File could not be uploaded\n",
      " 20%|█▉        | 1242/6300 [02:58<11:17,  7.47it/s, curr_speed=34.31 Mbps, mb_sent=315.95 Mb]COMET ERROR: File could not be uploaded\n",
      " 20%|█▉        | 1248/6300 [02:59<12:36,  6.68it/s, curr_speed=34.47 Mbps, mb_sent=318.28 Mb]COMET ERROR: File could not be uploaded\n",
      " 20%|██        | 1260/6300 [03:01<11:48,  7.12it/s, curr_speed=34.59 Mbps, mb_sent=322.43 Mb]COMET ERROR: File could not be uploaded\n",
      " 20%|██        | 1261/6300 [03:01<11:47,  7.12it/s, curr_speed=34.54 Mbps, mb_sent=323.13 Mb]COMET ERROR: File could not be uploaded\n",
      " 20%|██        | 1272/6300 [03:03<15:34,  5.38it/s, curr_speed=34.58 Mbps, mb_sent=326.64 Mb]COMET ERROR: File could not be uploaded\n",
      " 20%|██        | 1273/6300 [03:03<14:24,  5.81it/s, curr_speed=34.59 Mbps, mb_sent=327.01 Mb]COMET ERROR: File could not be uploaded\n",
      " 20%|██        | 1282/6300 [03:04<12:35,  6.64it/s, curr_speed=34.22 Mbps, mb_sent=330.05 Mb]COMET ERROR: File could not be uploaded\n",
      " 21%|██        | 1294/6300 [03:06<13:08,  6.35it/s, curr_speed=34.27 Mbps, mb_sent=334.39 Mb]COMET ERROR: File could not be uploaded\n",
      "COMET ERROR: File could not be uploaded\n",
      "COMET ERROR: File could not be uploaded\n",
      "COMET ERROR: File could not be uploaded\n",
      "COMET ERROR: File could not be uploaded\n",
      " 21%|██        | 1295/6300 [03:06<13:09,  6.34it/s, curr_speed=34.06 Mbps, mb_sent=334.57 Mb]COMET ERROR: File could not be uploaded\n",
      " 21%|██        | 1296/6300 [03:06<13:14,  6.30it/s, curr_speed=34.04 Mbps, mb_sent=334.95 Mb]COMET ERROR: File could not be uploaded\n",
      " 21%|██        | 1297/6300 [03:07<13:08,  6.35it/s, curr_speed=34.12 Mbps, mb_sent=335.33 Mb]COMET ERROR: File could not be uploaded\n",
      " 21%|██        | 1298/6300 [03:07<13:26,  6.20it/s, curr_speed=34.10 Mbps, mb_sent=335.71 Mb]COMET ERROR: File could not be uploaded\n",
      " 21%|██        | 1300/6300 [03:07<12:47,  6.51it/s, curr_speed=34.11 Mbps, mb_sent=336.37 Mb]COMET ERROR: File could not be uploaded\n",
      " 21%|██        | 1301/6300 [03:07<12:09,  6.86it/s, curr_speed=33.92 Mbps, mb_sent=336.52 Mb]COMET ERROR: File could not be uploaded\n",
      " 21%|██        | 1303/6300 [03:07<11:37,  7.16it/s, curr_speed=33.79 Mbps, mb_sent=337.18 Mb]COMET ERROR: File could not be uploaded\n",
      " 21%|██        | 1304/6300 [03:08<11:38,  7.16it/s, curr_speed=33.82 Mbps, mb_sent=337.53 Mb]COMET ERROR: File could not be uploaded\n",
      " 21%|██        | 1305/6300 [03:08<11:02,  7.53it/s, curr_speed=33.58 Mbps, mb_sent=337.70 Mb]COMET ERROR: File could not be uploaded\n",
      " 21%|██        | 1307/6300 [03:08<11:21,  7.33it/s, curr_speed=33.28 Mbps, mb_sent=338.19 Mb]COMET ERROR: File could not be uploaded\n",
      " 21%|██        | 1310/6300 [03:08<11:38,  7.15it/s, curr_speed=33.21 Mbps, mb_sent=339.22 Mb]COMET ERROR: File could not be uploaded\n",
      " 21%|██        | 1312/6300 [03:09<11:55,  6.98it/s, curr_speed=33.34 Mbps, mb_sent=340.02 Mb]COMET ERROR: File could not be uploaded\n",
      " 21%|██        | 1313/6300 [03:09<11:54,  6.98it/s, curr_speed=33.40 Mbps, mb_sent=340.41 Mb]COMET ERROR: File could not be uploaded\n",
      " 21%|██        | 1314/6300 [03:09<12:33,  6.62it/s, curr_speed=33.41 Mbps, mb_sent=340.79 Mb]COMET ERROR: File could not be uploaded\n",
      " 21%|██        | 1316/6300 [03:09<12:58,  6.41it/s, curr_speed=33.80 Mbps, mb_sent=341.52 Mb]COMET ERROR: File could not be uploaded\n",
      " 21%|██        | 1318/6300 [03:10<12:07,  6.85it/s, curr_speed=33.64 Mbps, mb_sent=342.11 Mb]COMET ERROR: File could not be uploaded\n",
      " 21%|██        | 1319/6300 [03:10<12:49,  6.47it/s, curr_speed=33.65 Mbps, mb_sent=342.49 Mb]COMET ERROR: File could not be uploaded\n",
      " 21%|██        | 1325/6300 [03:11<12:11,  6.80it/s, curr_speed=34.27 Mbps, mb_sent=344.67 Mb]COMET ERROR: File could not be uploaded\n",
      " 21%|██        | 1328/6300 [03:11<11:59,  6.91it/s, curr_speed=34.13 Mbps, mb_sent=345.53 Mb]COMET ERROR: File could not be uploaded\n",
      " 21%|██        | 1330/6300 [03:11<13:55,  5.95it/s, curr_speed=34.22 Mbps, mb_sent=346.34 Mb]COMET ERROR: File could not be uploaded\n",
      " 21%|██        | 1331/6300 [03:12<13:44,  6.03it/s, curr_speed=34.11 Mbps, mb_sent=346.58 Mb]COMET ERROR: File could not be uploaded\n",
      " 21%|██        | 1332/6300 [03:12<13:19,  6.21it/s, curr_speed=34.06 Mbps, mb_sent=346.89 Mb]COMET ERROR: File could not be uploaded\n",
      " 21%|██        | 1334/6300 [03:12<13:13,  6.26it/s, curr_speed=34.01 Mbps, mb_sent=347.60 Mb]COMET ERROR: File could not be uploaded\n",
      "COMET ERROR: File could not be uploaded\n",
      " 21%|██        | 1338/6300 [03:13<13:03,  6.33it/s, curr_speed=34.06 Mbps, mb_sent=349.01 Mb]COMET ERROR: File could not be uploaded\n",
      " 21%|██▏       | 1341/6300 [03:13<13:27,  6.14it/s, curr_speed=34.30 Mbps, mb_sent=350.14 Mb]COMET ERROR: File could not be uploaded\n",
      " 21%|██▏       | 1345/6300 [03:14<12:02,  6.86it/s, curr_speed=34.64 Mbps, mb_sent=351.69 Mb]COMET ERROR: File could not be uploaded\n",
      " 21%|██▏       | 1346/6300 [03:14<12:08,  6.80it/s, curr_speed=34.61 Mbps, mb_sent=352.08 Mb]COMET ERROR: File could not be uploaded\n",
      " 21%|██▏       | 1347/6300 [03:14<12:15,  6.74it/s, curr_speed=34.58 Mbps, mb_sent=352.45 Mb]COMET ERROR: File could not be uploaded\n",
      " 21%|██▏       | 1349/6300 [03:14<12:47,  6.45it/s, curr_speed=34.48 Mbps, mb_sent=353.16 Mb]COMET ERROR: File could not be uploaded\n",
      " 22%|██▏       | 1356/6300 [03:15<11:19,  7.28it/s, curr_speed=34.35 Mbps, mb_sent=355.46 Mb]COMET ERROR: File could not be uploaded\n",
      " 22%|██▏       | 1357/6300 [03:15<10:49,  7.61it/s, curr_speed=34.23 Mbps, mb_sent=355.69 Mb]COMET ERROR: File could not be uploaded\n",
      " 22%|██▏       | 1361/6300 [03:16<12:00,  6.86it/s, curr_speed=34.21 Mbps, mb_sent=356.98 Mb]COMET ERROR: File could not be uploaded\n",
      " 22%|██▏       | 1363/6300 [03:16<12:33,  6.55it/s, curr_speed=34.40 Mbps, mb_sent=357.78 Mb]COMET ERROR: File could not be uploaded\n",
      " 22%|██▏       | 1367/6300 [03:17<11:30,  7.14it/s, curr_speed=33.96 Mbps, mb_sent=358.82 Mb]COMET ERROR: File could not be uploaded\n",
      " 22%|██▏       | 1369/6300 [03:17<11:25,  7.19it/s, curr_speed=33.63 Mbps, mb_sent=359.23 Mb]COMET ERROR: File could not be uploaded\n",
      " 22%|██▏       | 1370/6300 [03:17<11:43,  7.01it/s, curr_speed=33.69 Mbps, mb_sent=359.66 Mb]COMET ERROR: File could not be uploaded\n",
      " 22%|██▏       | 1372/6300 [03:18<12:09,  6.76it/s, curr_speed=33.77 Mbps, mb_sent=360.40 Mb]COMET ERROR: File could not be uploaded\n",
      " 22%|██▏       | 1373/6300 [03:18<11:43,  7.01it/s, curr_speed=33.71 Mbps, mb_sent=360.72 Mb]COMET ERROR: File could not be uploaded\n",
      " 22%|██▏       | 1375/6300 [03:18<12:08,  6.76it/s, curr_speed=33.66 Mbps, mb_sent=361.45 Mb]COMET ERROR: File could not be uploaded\n",
      " 22%|██▏       | 1378/6300 [03:19<12:24,  6.61it/s, curr_speed=33.94 Mbps, mb_sent=362.63 Mb]COMET ERROR: File could not be uploaded\n",
      " 22%|██▏       | 1383/6300 [03:19<11:43,  6.99it/s, curr_speed=34.12 Mbps, mb_sent=364.54 Mb]COMET ERROR: File could not be uploaded\n",
      " 22%|██▏       | 1389/6300 [03:20<11:41,  7.00it/s, curr_speed=34.08 Mbps, mb_sent=366.60 Mb]COMET ERROR: File could not be uploaded\n",
      " 22%|██▏       | 1390/6300 [03:20<11:51,  6.90it/s, curr_speed=34.00 Mbps, mb_sent=366.93 Mb]COMET ERROR: File could not be uploaded\n",
      " 22%|██▏       | 1391/6300 [03:20<11:52,  6.89it/s, curr_speed=34.02 Mbps, mb_sent=367.32 Mb]COMET ERROR: File could not be uploaded\n",
      " 22%|██▏       | 1392/6300 [03:21<11:47,  6.93it/s, curr_speed=33.99 Mbps, mb_sent=367.69 Mb]COMET ERROR: File could not be uploaded\n"
     ]
    },
    {
     "name": "stderr",
     "output_type": "stream",
     "text": [
      " 22%|██▏       | 1394/6300 [03:21<11:37,  7.04it/s, curr_speed=33.84 Mbps, mb_sent=368.23 Mb]COMET ERROR: File could not be uploaded\n",
      " 22%|██▏       | 1395/6300 [03:21<11:56,  6.84it/s, curr_speed=33.98 Mbps, mb_sent=368.55 Mb]COMET ERROR: File could not be uploaded\n",
      " 22%|██▏       | 1396/6300 [03:21<11:23,  7.18it/s, curr_speed=33.70 Mbps, mb_sent=368.65 Mb]COMET ERROR: File could not be uploaded\n",
      " 22%|██▏       | 1397/6300 [03:21<11:18,  7.23it/s, curr_speed=33.58 Mbps, mb_sent=368.90 Mb]COMET ERROR: File could not be uploaded\n",
      " 25%|██▌       | 1592/6300 [03:52<11:13,  6.99it/s, curr_speed=32.19 Mbps, mb_sent=432.99 Mb]COMET ERROR: File could not be uploaded\n",
      " 26%|██▋       | 1665/6300 [04:03<11:07,  6.94it/s, curr_speed=33.84 Mbps, mb_sent=458.30 Mb]COMET ERROR: File could not be uploaded\n",
      "COMET ERROR: File could not be uploaded\n",
      "COMET ERROR: File could not be uploaded\n",
      "COMET ERROR: File could not be uploaded\n",
      "COMET ERROR: File could not be uploaded\n",
      "COMET ERROR: File could not be uploaded\n",
      "COMET ERROR: File could not be uploaded\n",
      "COMET ERROR: File could not be uploaded\n",
      "COMET ERROR: File could not be uploaded\n",
      "COMET ERROR: File could not be uploaded\n",
      "COMET ERROR: File could not be uploaded\n",
      "COMET ERROR: File could not be uploaded\n",
      "COMET ERROR: File could not be uploaded\n",
      "COMET ERROR: File could not be uploaded\n",
      "COMET ERROR: File could not be uploaded\n",
      "COMET ERROR: File could not be uploaded\n",
      "COMET ERROR: File could not be uploaded\n",
      "COMET ERROR: File could not be uploaded\n",
      "COMET ERROR: File could not be uploaded\n",
      "COMET ERROR: File could not be uploaded\n",
      "COMET ERROR: File could not be uploaded\n",
      "COMET ERROR: File could not be uploaded\n",
      "COMET ERROR: File could not be uploaded\n",
      "COMET ERROR: File could not be uploaded\n",
      "COMET ERROR: File could not be uploaded\n",
      "COMET ERROR: File could not be uploaded\n",
      " 26%|██▋       | 1666/6300 [04:04<14:30,  5.32it/s, curr_speed=33.80 Mbps, mb_sent=458.66 Mb]COMET ERROR: File could not be uploaded\n",
      "COMET ERROR: File could not be uploaded\n",
      "COMET ERROR: File could not be uploaded\n",
      "COMET ERROR: File could not be uploaded\n",
      "COMET ERROR: File could not be uploaded\n",
      "COMET ERROR: File could not be uploaded\n",
      "COMET ERROR: File could not be uploaded\n",
      "COMET ERROR: File could not be uploaded\n",
      "COMET ERROR: File could not be uploaded\n",
      "COMET ERROR: File could not be uploaded\n",
      "COMET ERROR: File could not be uploaded\n",
      "COMET ERROR: File could not be uploaded\n",
      "COMET ERROR: File could not be uploaded\n",
      "COMET ERROR: File could not be uploaded\n",
      "COMET ERROR: File could not be uploaded\n",
      "COMET ERROR: File could not be uploaded\n",
      "COMET ERROR: File could not be uploaded\n",
      "COMET ERROR: File could not be uploaded\n",
      "COMET ERROR: File could not be uploaded\n",
      "COMET ERROR: File could not be uploaded\n",
      "COMET ERROR: File could not be uploaded\n",
      "COMET ERROR: File could not be uploaded\n",
      " 26%|██▋       | 1667/6300 [04:04<16:05,  4.80it/s, curr_speed=33.77 Mbps, mb_sent=459.05 Mb]COMET ERROR: File could not be uploaded\n",
      "COMET ERROR: File could not be uploaded\n",
      "COMET ERROR: File could not be uploaded\n",
      "COMET ERROR: File could not be uploaded\n",
      "COMET ERROR: File could not be uploaded\n",
      "COMET ERROR: File could not be uploaded\n",
      "COMET ERROR: File could not be uploaded\n",
      "COMET ERROR: File could not be uploaded\n",
      "COMET ERROR: File could not be uploaded\n",
      "COMET ERROR: File could not be uploaded\n",
      "COMET ERROR: File could not be uploaded\n",
      "COMET ERROR: File could not be uploaded\n",
      "COMET ERROR: File could not be uploaded\n",
      "COMET ERROR: File could not be uploaded\n",
      "COMET ERROR: File could not be uploaded\n",
      "COMET ERROR: File could not be uploaded\n",
      "COMET ERROR: File could not be uploaded\n",
      "COMET ERROR: File could not be uploaded\n",
      "COMET ERROR: File could not be uploaded\n",
      "COMET ERROR: File could not be uploaded\n",
      "COMET ERROR: File could not be uploaded\n",
      "COMET ERROR: File could not be uploaded\n",
      "COMET ERROR: File could not be uploaded\n",
      "COMET ERROR: File could not be uploaded\n",
      "COMET ERROR: File could not be uploaded\n",
      "COMET ERROR: File could not be uploaded\n",
      "COMET ERROR: File could not be uploaded\n",
      "COMET ERROR: File could not be uploaded\n",
      "COMET ERROR: File could not be uploaded\n",
      "COMET ERROR: File could not be uploaded\n",
      "COMET ERROR: File could not be uploaded\n",
      "COMET ERROR: File could not be uploaded\n",
      "COMET ERROR: File could not be uploaded\n",
      "COMET ERROR: File could not be uploaded\n",
      "COMET ERROR: File could not be uploaded\n",
      "COMET ERROR: File could not be uploaded\n",
      "COMET ERROR: File could not be uploaded\n",
      "COMET ERROR: File could not be uploaded\n",
      "COMET ERROR: File could not be uploaded\n",
      "COMET ERROR: File could not be uploaded\n",
      "COMET ERROR: File could not be uploaded\n",
      "COMET ERROR: File could not be uploaded\n",
      "COMET ERROR: File could not be uploaded\n",
      "COMET ERROR: File could not be uploaded\n",
      "COMET ERROR: File could not be uploaded\n",
      "COMET ERROR: File could not be uploaded\n",
      "COMET ERROR: File could not be uploaded\n",
      "COMET ERROR: File could not be uploaded\n",
      "COMET ERROR: File could not be uploaded\n",
      "COMET ERROR: File could not be uploaded\n",
      "COMET ERROR: File could not be uploaded\n",
      "COMET ERROR: File could not be uploaded\n",
      "COMET ERROR: File could not be uploaded\n",
      "COMET ERROR: File could not be uploaded\n",
      "COMET ERROR: File could not be uploaded\n",
      "COMET ERROR: File could not be uploaded\n",
      "COMET ERROR: File could not be uploaded\n",
      "COMET ERROR: File could not be uploaded\n",
      "COMET ERROR: File could not be uploaded\n",
      "COMET ERROR: File could not be uploaded\n",
      "COMET ERROR: File could not be uploaded\n",
      " 26%|██▋       | 1667/6300 [04:05<16:05,  4.80it/s, curr_speed=33.99 Mbps, mb_sent=459.43 Mb]COMET ERROR: File could not be uploaded\n",
      "COMET ERROR: File could not be uploaded\n",
      " 26%|██▋       | 1668/6300 [04:05<31:14,  2.47it/s, curr_speed=33.99 Mbps, mb_sent=459.43 Mb]COMET ERROR: File could not be uploaded\n",
      "COMET ERROR: File could not be uploaded\n",
      "COMET ERROR: File could not be uploaded\n",
      "COMET ERROR: File could not be uploaded\n",
      "COMET ERROR: File could not be uploaded\n",
      "COMET ERROR: File could not be uploaded\n",
      "COMET ERROR: File could not be uploaded\n",
      "COMET ERROR: File could not be uploaded\n",
      "COMET ERROR: File could not be uploaded\n",
      "COMET ERROR: File could not be uploaded\n",
      "COMET ERROR: File could not be uploaded\n",
      "COMET ERROR: File could not be uploaded\n",
      "COMET ERROR: File could not be uploaded\n",
      "COMET ERROR: File could not be uploaded\n",
      "COMET ERROR: File could not be uploaded\n",
      "COMET ERROR: File could not be uploaded\n",
      "COMET ERROR: File could not be uploaded\n",
      "COMET ERROR: File could not be uploaded\n",
      "COMET ERROR: File could not be uploaded\n",
      "COMET ERROR: File could not be uploaded\n",
      "COMET ERROR: File could not be uploaded\n",
      "COMET ERROR: File could not be uploaded\n",
      "COMET ERROR: File could not be uploaded\n",
      "COMET ERROR: File could not be uploaded\n",
      "COMET ERROR: File could not be uploaded\n",
      " 26%|██▋       | 1669/6300 [04:05<31:53,  2.42it/s, curr_speed=34.04 Mbps, mb_sent=459.80 Mb]COMET ERROR: File could not be uploaded\n",
      "COMET ERROR: File could not be uploaded\n",
      "COMET ERROR: File could not be uploaded\n",
      "COMET ERROR: File could not be uploaded\n",
      "COMET ERROR: File could not be uploaded\n",
      "COMET ERROR: File could not be uploaded\n",
      "COMET ERROR: File could not be uploaded\n",
      "COMET ERROR: File could not be uploaded\n",
      "COMET ERROR: File could not be uploaded\n",
      "COMET ERROR: File could not be uploaded\n",
      "COMET ERROR: File could not be uploaded\n",
      "COMET ERROR: File could not be uploaded\n",
      "COMET ERROR: File could not be uploaded\n",
      "COMET ERROR: File could not be uploaded\n",
      "COMET ERROR: File could not be uploaded\n",
      "COMET ERROR: File could not be uploaded\n",
      "COMET ERROR: File could not be uploaded\n",
      "COMET ERROR: File could not be uploaded\n",
      "COMET ERROR: File could not be uploaded\n",
      "COMET ERROR: File could not be uploaded\n",
      "COMET ERROR: File could not be uploaded\n",
      "COMET ERROR: File could not be uploaded\n",
      " 27%|██▋       | 1670/6300 [04:06<29:52,  2.58it/s, curr_speed=34.01 Mbps, mb_sent=460.12 Mb]COMET ERROR: File could not be uploaded\n",
      "COMET ERROR: File could not be uploaded\n",
      "COMET ERROR: File could not be uploaded\n",
      "COMET ERROR: File could not be uploaded\n",
      "COMET ERROR: File could not be uploaded\n",
      "COMET ERROR: File could not be uploaded\n",
      "COMET ERROR: File could not be uploaded\n",
      "COMET ERROR: File could not be uploaded\n",
      "COMET ERROR: File could not be uploaded\n",
      "COMET ERROR: File could not be uploaded\n",
      "COMET ERROR: File could not be uploaded\n",
      "COMET ERROR: File could not be uploaded\n",
      "COMET ERROR: File could not be uploaded\n",
      "COMET ERROR: File could not be uploaded\n"
     ]
    },
    {
     "name": "stderr",
     "output_type": "stream",
     "text": [
      "COMET ERROR: File could not be uploaded\n",
      "COMET ERROR: File could not be uploaded\n",
      "COMET ERROR: File could not be uploaded\n",
      "COMET ERROR: File could not be uploaded\n",
      "COMET ERROR: File could not be uploaded\n",
      "COMET ERROR: File could not be uploaded\n",
      "COMET ERROR: File could not be uploaded\n",
      "COMET ERROR: File could not be uploaded\n",
      "COMET ERROR: File could not be uploaded\n",
      "COMET ERROR: File could not be uploaded\n",
      "COMET ERROR: File could not be uploaded\n",
      "COMET ERROR: File could not be uploaded\n",
      "COMET ERROR: File could not be uploaded\n",
      "COMET ERROR: File could not be uploaded\n",
      "COMET ERROR: File could not be uploaded\n",
      "COMET ERROR: File could not be uploaded\n",
      "COMET ERROR: File could not be uploaded\n",
      " 27%|██▋       | 1672/6300 [04:06<27:35,  2.80it/s, curr_speed=34.03 Mbps, mb_sent=460.85 Mb]COMET ERROR: File could not be uploaded\n",
      "COMET ERROR: File could not be uploaded\n",
      " 27%|██▋       | 1673/6300 [04:07<24:42,  3.12it/s, curr_speed=34.19 Mbps, mb_sent=461.16 Mb]COMET ERROR: File could not be uploaded\n",
      " 27%|██▋       | 1674/6300 [04:07<21:08,  3.65it/s, curr_speed=34.19 Mbps, mb_sent=461.42 Mb]COMET ERROR: File could not be uploaded\n",
      " 27%|██▋       | 1677/6300 [04:07<16:24,  4.69it/s, curr_speed=34.42 Mbps, mb_sent=462.65 Mb]COMET ERROR: File could not be uploaded\n",
      " 27%|██▋       | 1678/6300 [04:07<15:38,  4.93it/s, curr_speed=34.45 Mbps, mb_sent=463.08 Mb]COMET ERROR: File could not be uploaded\n",
      " 27%|██▋       | 1679/6300 [04:08<14:47,  5.20it/s, curr_speed=34.40 Mbps, mb_sent=463.43 Mb]COMET ERROR: File could not be uploaded\n",
      " 27%|██▋       | 1680/6300 [04:08<14:15,  5.40it/s, curr_speed=34.41 Mbps, mb_sent=463.81 Mb]COMET ERROR: File could not be uploaded\n",
      " 27%|██▋       | 1681/6300 [04:08<13:57,  5.51it/s, curr_speed=34.41 Mbps, mb_sent=464.17 Mb]COMET ERROR: File could not be uploaded\n",
      " 27%|██▋       | 1682/6300 [04:08<13:36,  5.66it/s, curr_speed=34.45 Mbps, mb_sent=464.55 Mb]COMET ERROR: File could not be uploaded\n",
      " 27%|██▋       | 1684/6300 [04:08<13:12,  5.82it/s, curr_speed=34.70 Mbps, mb_sent=465.25 Mb]COMET ERROR: File could not be uploaded\n",
      " 27%|██▋       | 1686/6300 [04:09<12:33,  6.12it/s, curr_speed=34.93 Mbps, mb_sent=466.00 Mb]COMET ERROR: File could not be uploaded\n",
      " 27%|██▋       | 1687/6300 [04:09<11:47,  6.52it/s, curr_speed=34.74 Mbps, mb_sent=466.18 Mb]COMET ERROR: File could not be uploaded\n",
      " 27%|██▋       | 1691/6300 [04:09<11:10,  6.87it/s, curr_speed=34.85 Mbps, mb_sent=467.40 Mb]COMET ERROR: File could not be uploaded\n",
      " 27%|██▋       | 1692/6300 [04:10<11:07,  6.90it/s, curr_speed=34.66 Mbps, mb_sent=467.65 Mb]COMET ERROR: File could not be uploaded\n",
      " 27%|██▋       | 1696/6300 [04:10<11:26,  6.71it/s, curr_speed=34.89 Mbps, mb_sent=469.17 Mb]COMET ERROR: File could not be uploaded\n",
      "COMET ERROR: File could not be uploaded\n",
      " 27%|██▋       | 1697/6300 [04:10<11:48,  6.50it/s, curr_speed=34.90 Mbps, mb_sent=469.54 Mb]COMET ERROR: File could not be uploaded\n",
      " 27%|██▋       | 1698/6300 [04:11<11:37,  6.60it/s, curr_speed=34.84 Mbps, mb_sent=469.89 Mb]COMET ERROR: File could not be uploaded\n",
      " 27%|██▋       | 1702/6300 [04:11<10:45,  7.13it/s, curr_speed=34.75 Mbps, mb_sent=471.07 Mb]COMET ERROR: File could not be uploaded\n",
      " 27%|██▋       | 1706/6300 [04:12<11:13,  6.82it/s, curr_speed=34.86 Mbps, mb_sent=472.56 Mb]COMET ERROR: File could not be uploaded\n",
      " 27%|██▋       | 1707/6300 [04:12<11:36,  6.60it/s, curr_speed=34.83 Mbps, mb_sent=472.90 Mb]COMET ERROR: File could not be uploaded\n",
      " 27%|██▋       | 1709/6300 [04:12<12:19,  6.21it/s, curr_speed=34.85 Mbps, mb_sent=473.71 Mb]COMET ERROR: File could not be uploaded\n",
      "COMET ERROR: File could not be uploaded\n",
      " 27%|██▋       | 1711/6300 [04:13<12:37,  6.06it/s, curr_speed=34.71 Mbps, mb_sent=474.38 Mb]COMET ERROR: File could not be uploaded\n",
      " 27%|██▋       | 1714/6300 [04:13<12:13,  6.25it/s, curr_speed=34.88 Mbps, mb_sent=475.49 Mb]COMET ERROR: File could not be uploaded\n",
      " 27%|██▋       | 1715/6300 [04:13<12:02,  6.34it/s, curr_speed=34.88 Mbps, mb_sent=475.88 Mb]COMET ERROR: File could not be uploaded\n",
      " 27%|██▋       | 1716/6300 [04:13<11:28,  6.66it/s, curr_speed=34.70 Mbps, mb_sent=476.13 Mb]COMET ERROR: File could not be uploaded\n",
      " 27%|██▋       | 1717/6300 [04:13<11:40,  6.55it/s, curr_speed=35.03 Mbps, mb_sent=476.56 Mb]COMET ERROR: File could not be uploaded\n",
      " 27%|██▋       | 1718/6300 [04:14<11:01,  6.93it/s, curr_speed=35.02 Mbps, mb_sent=476.71 Mb]COMET ERROR: File could not be uploaded\n",
      " 27%|██▋       | 1719/6300 [04:14<11:09,  6.85it/s, curr_speed=35.04 Mbps, mb_sent=477.09 Mb]COMET ERROR: File could not be uploaded\n",
      " 27%|██▋       | 1721/6300 [04:14<11:35,  6.58it/s, curr_speed=35.04 Mbps, mb_sent=477.77 Mb]COMET ERROR: File could not be uploaded\n",
      " 27%|██▋       | 1722/6300 [04:14<11:54,  6.41it/s, curr_speed=34.83 Mbps, mb_sent=477.95 Mb]COMET ERROR: File could not be uploaded\n",
      " 27%|██▋       | 1724/6300 [04:15<11:28,  6.65it/s, curr_speed=34.96 Mbps, mb_sent=478.74 Mb]COMET ERROR: File could not be uploaded\n",
      " 27%|██▋       | 1725/6300 [04:15<10:58,  6.95it/s, curr_speed=34.66 Mbps, mb_sent=478.84 Mb]COMET ERROR: File could not be uploaded\n",
      " 27%|██▋       | 1726/6300 [04:15<10:54,  6.99it/s, curr_speed=34.65 Mbps, mb_sent=479.24 Mb]COMET ERROR: File could not be uploaded\n",
      " 27%|██▋       | 1727/6300 [04:15<10:22,  7.34it/s, curr_speed=34.48 Mbps, mb_sent=479.33 Mb]COMET ERROR: File could not be uploaded\n",
      " 27%|██▋       | 1729/6300 [04:15<11:13,  6.79it/s, curr_speed=34.44 Mbps, mb_sent=480.04 Mb]COMET ERROR: File could not be uploaded\n",
      " 27%|██▋       | 1730/6300 [04:15<11:35,  6.57it/s, curr_speed=34.42 Mbps, mb_sent=480.43 Mb]COMET ERROR: File could not be uploaded\n",
      " 27%|██▋       | 1731/6300 [04:16<11:36,  6.56it/s, curr_speed=34.44 Mbps, mb_sent=480.82 Mb]COMET ERROR: File could not be uploaded\n",
      " 27%|██▋       | 1732/6300 [04:16<12:41,  6.00it/s, curr_speed=34.51 Mbps, mb_sent=481.17 Mb]COMET ERROR: File could not be uploaded\n",
      " 28%|██▊       | 1737/6300 [04:17<11:56,  6.37it/s, curr_speed=34.33 Mbps, mb_sent=482.88 Mb]COMET ERROR: File could not be uploaded\n",
      " 28%|██▊       | 1739/6300 [04:17<11:40,  6.51it/s, curr_speed=34.19 Mbps, mb_sent=483.55 Mb]COMET ERROR: File could not be uploaded\n",
      " 28%|██▊       | 1742/6300 [04:17<11:30,  6.60it/s, curr_speed=34.13 Mbps, mb_sent=484.60 Mb]COMET ERROR: File could not be uploaded\n",
      " 28%|██▊       | 1743/6300 [04:17<11:31,  6.59it/s, curr_speed=34.18 Mbps, mb_sent=484.97 Mb]COMET ERROR: File could not be uploaded\n",
      " 28%|██▊       | 1744/6300 [04:18<11:31,  6.59it/s, curr_speed=34.23 Mbps, mb_sent=485.33 Mb]COMET ERROR: File could not be uploaded\n",
      " 28%|██▊       | 1747/6300 [04:18<11:21,  6.68it/s, curr_speed=34.87 Mbps, mb_sent=486.44 Mb]COMET ERROR: File could not be uploaded\n",
      " 28%|██▊       | 1748/6300 [04:18<10:43,  7.07it/s, curr_speed=34.63 Mbps, mb_sent=486.60 Mb]COMET ERROR: File could not be uploaded\n",
      " 28%|██▊       | 1749/6300 [04:18<10:42,  7.08it/s, curr_speed=34.55 Mbps, mb_sent=486.90 Mb]COMET ERROR: File could not be uploaded\n",
      " 28%|██▊       | 1752/6300 [04:19<10:51,  6.98it/s, curr_speed=34.56 Mbps, mb_sent=488.01 Mb]COMET ERROR: File could not be uploaded\n",
      " 28%|██▊       | 1754/6300 [04:19<11:15,  6.73it/s, curr_speed=34.51 Mbps, mb_sent=488.75 Mb]COMET ERROR: File could not be uploaded\n",
      " 28%|██▊       | 1755/6300 [04:19<11:31,  6.57it/s, curr_speed=34.49 Mbps, mb_sent=489.11 Mb]COMET ERROR: File could not be uploaded\n",
      " 28%|██▊       | 1756/6300 [04:19<10:54,  6.94it/s, curr_speed=34.27 Mbps, mb_sent=489.32 Mb]COMET ERROR: File could not be uploaded\n",
      " 28%|██▊       | 1757/6300 [04:20<10:57,  6.91it/s, curr_speed=34.20 Mbps, mb_sent=489.65 Mb]COMET ERROR: File could not be uploaded\n",
      " 28%|██▊       | 1758/6300 [04:20<11:13,  6.74it/s, curr_speed=34.25 Mbps, mb_sent=490.04 Mb]COMET ERROR: File could not be uploaded\n",
      " 28%|██▊       | 1759/6300 [04:20<11:30,  6.58it/s, curr_speed=34.18 Mbps, mb_sent=490.41 Mb]COMET ERROR: File could not be uploaded\n",
      " 28%|██▊       | 1760/6300 [04:20<11:55,  6.34it/s, curr_speed=34.12 Mbps, mb_sent=490.74 Mb]COMET ERROR: File could not be uploaded\n",
      " 28%|██▊       | 1762/6300 [04:20<11:47,  6.42it/s, curr_speed=34.13 Mbps, mb_sent=491.42 Mb]COMET ERROR: File could not be uploaded\n",
      " 28%|██▊       | 1763/6300 [04:20<12:11,  6.20it/s, curr_speed=34.08 Mbps, mb_sent=491.79 Mb]COMET ERROR: File could not be uploaded\n",
      " 28%|██▊       | 1764/6300 [04:21<12:29,  6.05it/s, curr_speed=34.04 Mbps, mb_sent=492.13 Mb]COMET ERROR: File could not be uploaded\n",
      " 28%|██▊       | 1765/6300 [04:21<13:06,  5.77it/s, curr_speed=34.23 Mbps, mb_sent=492.54 Mb]COMET ERROR: File could not be uploaded\n",
      " 28%|██▊       | 1767/6300 [04:21<12:43,  5.94it/s, curr_speed=34.29 Mbps, mb_sent=493.34 Mb]COMET ERROR: File could not be uploaded\n",
      " 28%|██▊       | 1768/6300 [04:21<11:55,  6.34it/s, curr_speed=34.07 Mbps, mb_sent=493.50 Mb]COMET ERROR: File could not be uploaded\n",
      " 28%|██▊       | 1770/6300 [04:22<11:28,  6.58it/s, curr_speed=33.80 Mbps, mb_sent=493.92 Mb]COMET ERROR: File could not be uploaded\n",
      " 28%|██▊       | 1772/6300 [04:22<12:19,  6.12it/s, curr_speed=33.75 Mbps, mb_sent=494.60 Mb]COMET ERROR: File could not be uploaded\n",
      "COMET ERROR: File could not be uploaded\n",
      " 28%|██▊       | 1773/6300 [04:22<12:48,  5.89it/s, curr_speed=33.80 Mbps, mb_sent=494.96 Mb]COMET ERROR: File could not be uploaded\n",
      " 28%|██▊       | 1774/6300 [04:22<14:00,  5.38it/s, curr_speed=33.84 Mbps, mb_sent=495.26 Mb]COMET ERROR: File could not be uploaded\n",
      " 98%|█████████▊| 6190/6300 [16:26<00:17,  6.32it/s, curr_speed=34.00 Mbps, mb_sent=1975.04 Mb]COMET ERROR: File could not be uploaded\n",
      " 98%|█████████▊| 6196/6300 [16:27<00:16,  6.20it/s, curr_speed=34.22 Mbps, mb_sent=1977.19 Mb]COMET ERROR: File could not be uploaded\n",
      " 98%|█████████▊| 6201/6300 [16:27<00:15,  6.27it/s, curr_speed=34.41 Mbps, mb_sent=1978.97 Mb]COMET ERROR: File could not be uploaded\n",
      " 98%|█████████▊| 6203/6300 [16:28<00:14,  6.48it/s, curr_speed=34.20 Mbps, mb_sent=1979.53 Mb]COMET ERROR: File could not be uploaded\n",
      " 99%|█████████▊| 6207/6300 [16:29<00:21,  4.42it/s, curr_speed=34.46 Mbps, mb_sent=1981.04 Mb]COMET ERROR: File could not be uploaded\n",
      " 99%|█████████▊| 6210/6300 [16:29<00:17,  5.22it/s, curr_speed=34.40 Mbps, mb_sent=1982.11 Mb]COMET ERROR: File could not be uploaded\n",
      " 99%|█████████▊| 6213/6300 [16:30<00:14,  5.80it/s, curr_speed=34.64 Mbps, mb_sent=1983.27 Mb]COMET ERROR: File could not be uploaded\n",
      " 99%|█████████▊| 6220/6300 [16:31<00:14,  5.63it/s, curr_speed=34.76 Mbps, mb_sent=1985.47 Mb]COMET ERROR: File could not be uploaded\n",
      " 99%|█████████▉| 6222/6300 [16:31<00:13,  5.60it/s, curr_speed=34.56 Mbps, mb_sent=1986.05 Mb]COMET ERROR: File could not be uploaded\n",
      " 99%|█████████▉| 6224/6300 [16:32<00:13,  5.50it/s, curr_speed=34.47 Mbps, mb_sent=1986.81 Mb]COMET ERROR: File could not be uploaded\n",
      " 99%|█████████▉| 6233/6300 [16:34<00:12,  5.37it/s, curr_speed=34.35 Mbps, mb_sent=1989.90 Mb]COMET ERROR: File could not be uploaded\n",
      " 99%|█████████▉| 6236/6300 [16:34<00:11,  5.72it/s, curr_speed=34.49 Mbps, mb_sent=1991.04 Mb]COMET ERROR: File could not be uploaded\n",
      " 99%|█████████▉| 6242/6300 [16:35<00:08,  6.53it/s, curr_speed=34.21 Mbps, mb_sent=1992.81 Mb]COMET ERROR: File could not be uploaded\n",
      " 99%|█████████▉| 6250/6300 [16:36<00:08,  6.03it/s, curr_speed=33.80 Mbps, mb_sent=1995.12 Mb]COMET ERROR: File could not be uploaded\n",
      " 99%|█████████▉| 6253/6300 [16:37<00:07,  6.52it/s, curr_speed=33.51 Mbps, mb_sent=1995.83 Mb]COMET ERROR: File could not be uploaded\n",
      " 99%|█████████▉| 6256/6300 [16:37<00:06,  6.30it/s, curr_speed=33.43 Mbps, mb_sent=1996.83 Mb]COMET ERROR: File could not be uploaded\n",
      " 99%|█████████▉| 6264/6300 [16:38<00:05,  6.28it/s, curr_speed=33.65 Mbps, mb_sent=1999.69 Mb]COMET ERROR: File could not be uploaded\n",
      " 99%|█████████▉| 6266/6300 [16:39<00:05,  6.44it/s, curr_speed=33.45 Mbps, mb_sent=2000.27 Mb]COMET ERROR: File could not be uploaded\n",
      " 99%|█████████▉| 6267/6300 [16:39<00:04,  6.78it/s, curr_speed=33.28 Mbps, mb_sent=2000.42 Mb]COMET ERROR: File could not be uploaded\n",
      "100%|█████████▉| 6271/6300 [16:40<00:04,  6.32it/s, curr_speed=33.05 Mbps, mb_sent=2001.67 Mb]COMET ERROR: File could not be uploaded\n",
      "100%|█████████▉| 6272/6300 [16:40<00:04,  6.16it/s, curr_speed=33.07 Mbps, mb_sent=2002.07 Mb]COMET ERROR: File could not be uploaded\n",
      "100%|█████████▉| 6274/6300 [16:40<00:04,  5.93it/s, curr_speed=33.08 Mbps, mb_sent=2002.79 Mb]COMET ERROR: File could not be uploaded\n",
      "100%|█████████▉| 6296/6300 [16:44<00:00,  6.08it/s, curr_speed=33.04 Mbps, mb_sent=2010.23 Mb]COMET ERROR: File could not be uploaded\n",
      "100%|█████████▉| 6297/6300 [16:44<00:00,  6.47it/s, curr_speed=32.79 Mbps, mb_sent=2010.35 Mb]COMET ERROR: File could not be uploaded\n",
      "100%|██████████| 6300/6300 [16:44<00:00,  6.27it/s, curr_speed=32.95 Mbps, mb_sent=2011.51 Mb]\n",
      "COMET ERROR: File could not be uploaded\n",
      "COMET ERROR: File could not be uploaded\n",
      "COMET ERROR: File could not be uploaded\n",
      "COMET ERROR: File could not be uploaded\n",
      "COMET ERROR: File could not be uploaded\n",
      "COMET ERROR: File could not be uploaded\n"
     ]
    },
    {
     "name": "stdout",
     "output_type": "stream",
     "text": [
      "Waiting for simulation script to connect on port: tcp://localhost:26327\n",
      "Please start proper ns-3 simulation script using ./waf --run \"...\"\n",
      "Waf: Entering directory `/home/samuel/ns-allinone-3.29/ns-3.29/build'\n",
      "Waf: Leaving directory `/home/samuel/ns-allinone-3.29/ns-3.29/build'\n",
      "Build commands will be stored in build/compile_commands.json\n",
      "'build' finished successfully (2.022s)\n"
     ]
    },
    {
     "name": "stderr",
     "output_type": "stream",
     "text": [
      "Ns3Env parameters:\n",
      "--nWifi: 6\n",
      "--simulationTime: 60\n",
      "--openGymPort: 26327\n",
      "--envStepTime: 0.01\n",
      "--seed: 42\n",
      "--agentType: continuous\n",
      "--scenario: convergence\n",
      "--dryRun: 0\n",
      "Simulation started\n",
      "Simulation process id: 1312576 (parent (waf shell) id: 1312514)\n",
      "Waiting for Python process to connect on port: tcp://localhost:26327\n",
      "Please start proper Python Gym Agent\n",
      "  0%|          | 0/6300 [00:00<?, ?it/s, curr_speed=0.00 Mbps, mb_sent=0.00 Mb]"
     ]
    },
    {
     "name": "stdout",
     "output_type": "stream",
     "text": [
      "Sent 2011.51 Mb/s.\tMean speed: 33.53 Mb/s\tEpisode 2/15 finished\n",
      "\n",
      "2\n"
     ]
    },
    {
     "name": "stderr",
     "output_type": "stream",
     "text": [
      "100%|██████████| 6300/6300 [16:39<00:00,  6.30it/s, curr_speed=34.85 Mbps, mb_sent=2111.85 Mb]\n"
     ]
    },
    {
     "name": "stdout",
     "output_type": "stream",
     "text": [
      "Waiting for simulation script to connect on port: tcp://localhost:37129\n",
      "Please start proper ns-3 simulation script using ./waf --run \"...\"\n",
      "Waf: Entering directory `/home/samuel/ns-allinone-3.29/ns-3.29/build'\n",
      "Waf: Leaving directory `/home/samuel/ns-allinone-3.29/ns-3.29/build'\n",
      "Build commands will be stored in build/compile_commands.json\n",
      "'build' finished successfully (2.003s)\n"
     ]
    },
    {
     "name": "stderr",
     "output_type": "stream",
     "text": [
      "Ns3Env parameters:\n",
      "--nWifi: 6\n",
      "--simulationTime: 60\n",
      "--openGymPort: 37129\n",
      "--envStepTime: 0.01\n",
      "--seed: 42\n",
      "--agentType: continuous\n",
      "--scenario: convergence\n",
      "--dryRun: 0\n",
      "Simulation started\n",
      "Simulation process id: 1319930 (parent (waf shell) id: 1319915)\n",
      "Waiting for Python process to connect on port: tcp://localhost:37129\n",
      "Please start proper Python Gym Agent\n",
      "  0%|          | 1/6300 [00:00<11:55,  8.80it/s, curr_speed=0.00 Mbps, mb_sent=0.00 Mb]"
     ]
    },
    {
     "name": "stdout",
     "output_type": "stream",
     "text": [
      "Sent 2111.85 Mb/s.\tMean speed: 35.20 Mb/s\tEpisode 3/15 finished\n",
      "\n",
      "3\n"
     ]
    },
    {
     "name": "stderr",
     "output_type": "stream",
     "text": [
      "100%|██████████| 6300/6300 [16:51<00:00,  6.23it/s, curr_speed=36.65 Mbps, mb_sent=2191.69 Mb]\n"
     ]
    },
    {
     "name": "stdout",
     "output_type": "stream",
     "text": [
      "Waiting for simulation script to connect on port: tcp://localhost:48309\n",
      "Please start proper ns-3 simulation script using ./waf --run \"...\"\n",
      "Waf: Entering directory `/home/samuel/ns-allinone-3.29/ns-3.29/build'\n",
      "Waf: Leaving directory `/home/samuel/ns-allinone-3.29/ns-3.29/build'\n",
      "Build commands will be stored in build/compile_commands.json\n",
      "'build' finished successfully (1.988s)\n"
     ]
    },
    {
     "name": "stderr",
     "output_type": "stream",
     "text": [
      "Ns3Env parameters:\n",
      "--nWifi: 6\n",
      "--simulationTime: 60\n",
      "--openGymPort: 48309\n",
      "--envStepTime: 0.01\n",
      "--seed: 42\n",
      "--agentType: continuous\n",
      "--scenario: convergence\n",
      "--dryRun: 0\n",
      "Simulation started\n",
      "Simulation process id: 1327318 (parent (waf shell) id: 1327303)\n",
      "Waiting for Python process to connect on port: tcp://localhost:48309\n",
      "Please start proper Python Gym Agent\n",
      "  0%|          | 1/6300 [00:00<10:33,  9.94it/s, curr_speed=0.00 Mbps, mb_sent=0.00 Mb]"
     ]
    },
    {
     "name": "stdout",
     "output_type": "stream",
     "text": [
      "Sent 2191.69 Mb/s.\tMean speed: 36.53 Mb/s\tEpisode 4/15 finished\n",
      "\n",
      "4\n"
     ]
    },
    {
     "name": "stderr",
     "output_type": "stream",
     "text": [
      "  5%|▍         | 306/6300 [00:37<14:48,  6.75it/s, curr_speed=38.65 Mbps, mb_sent=1.93 Mb]"
     ]
    },
    {
     "name": "stdout",
     "output_type": "stream",
     "text": [
      "------- MEMORY BUFFER FILLED -------\n"
     ]
    },
    {
     "name": "stderr",
     "output_type": "stream",
     "text": [
      "100%|██████████| 6300/6300 [17:01<00:00,  6.16it/s, curr_speed=37.37 Mbps, mb_sent=2242.92 Mb]\n"
     ]
    },
    {
     "name": "stdout",
     "output_type": "stream",
     "text": [
      "Waiting for simulation script to connect on port: tcp://localhost:36762\n",
      "Please start proper ns-3 simulation script using ./waf --run \"...\"\n",
      "Waf: Entering directory `/home/samuel/ns-allinone-3.29/ns-3.29/build'\n",
      "Waf: Leaving directory `/home/samuel/ns-allinone-3.29/ns-3.29/build'\n",
      "Build commands will be stored in build/compile_commands.json\n",
      "'build' finished successfully (1.991s)\n"
     ]
    },
    {
     "name": "stderr",
     "output_type": "stream",
     "text": [
      "Ns3Env parameters:\n",
      "--nWifi: 6\n",
      "--simulationTime: 60\n",
      "--openGymPort: 36762\n",
      "--envStepTime: 0.01\n",
      "--seed: 42\n",
      "--agentType: continuous\n",
      "--scenario: convergence\n",
      "--dryRun: 0\n",
      "Simulation started\n",
      "Simulation process id: 1334362 (parent (waf shell) id: 1334346)\n",
      "Waiting for Python process to connect on port: tcp://localhost:36762\n",
      "Please start proper Python Gym Agent\n",
      "  0%|          | 1/6300 [00:00<11:29,  9.14it/s, curr_speed=0.00 Mbps, mb_sent=0.00 Mb]"
     ]
    },
    {
     "name": "stdout",
     "output_type": "stream",
     "text": [
      "Sent 2242.92 Mb/s.\tMean speed: 37.38 Mb/s\tEpisode 5/15 finished\n",
      "\n",
      "5\n"
     ]
    },
    {
     "name": "stderr",
     "output_type": "stream",
     "text": [
      "100%|██████████| 6300/6300 [17:07<00:00,  6.13it/s, curr_speed=37.61 Mbps, mb_sent=2277.30 Mb]\n"
     ]
    },
    {
     "name": "stdout",
     "output_type": "stream",
     "text": [
      "Waiting for simulation script to connect on port: tcp://localhost:23711\n",
      "Please start proper ns-3 simulation script using ./waf --run \"...\"\n",
      "Waf: Entering directory `/home/samuel/ns-allinone-3.29/ns-3.29/build'\n",
      "Waf: Leaving directory `/home/samuel/ns-allinone-3.29/ns-3.29/build'\n",
      "Build commands will be stored in build/compile_commands.json\n",
      "'build' finished successfully (1.996s)\n"
     ]
    },
    {
     "name": "stderr",
     "output_type": "stream",
     "text": [
      "Ns3Env parameters:\n",
      "--nWifi: 6\n",
      "--simulationTime: 60\n",
      "--openGymPort: 23711\n",
      "--envStepTime: 0.01\n",
      "--seed: 42\n",
      "--agentType: continuous\n",
      "--scenario: convergence\n",
      "--dryRun: 0\n",
      "Simulation started\n",
      "Simulation process id: 1341761 (parent (waf shell) id: 1341746)\n",
      "Waiting for Python process to connect on port: tcp://localhost:23711\n",
      "Please start proper Python Gym Agent\n",
      "  0%|          | 1/6300 [00:00<10:54,  9.62it/s, curr_speed=0.00 Mbps, mb_sent=0.00 Mb]"
     ]
    },
    {
     "name": "stdout",
     "output_type": "stream",
     "text": [
      "Sent 2277.30 Mb/s.\tMean speed: 37.96 Mb/s\tEpisode 6/15 finished\n",
      "\n",
      "6\n"
     ]
    },
    {
     "name": "stderr",
     "output_type": "stream",
     "text": [
      "100%|██████████| 6300/6300 [17:12<00:00,  6.10it/s, curr_speed=38.11 Mbps, mb_sent=2293.86 Mb]\n"
     ]
    },
    {
     "name": "stdout",
     "output_type": "stream",
     "text": [
      "Waiting for simulation script to connect on port: tcp://localhost:39365\n",
      "Please start proper ns-3 simulation script using ./waf --run \"...\"\n",
      "Waf: Entering directory `/home/samuel/ns-allinone-3.29/ns-3.29/build'\n",
      "Waf: Leaving directory `/home/samuel/ns-allinone-3.29/ns-3.29/build'\n",
      "Build commands will be stored in build/compile_commands.json\n",
      "'build' finished successfully (1.957s)\n"
     ]
    },
    {
     "name": "stderr",
     "output_type": "stream",
     "text": [
      "Ns3Env parameters:\n",
      "--nWifi: 6\n",
      "--simulationTime: 60\n",
      "--openGymPort: 39365\n",
      "--envStepTime: 0.01\n",
      "--seed: 42\n",
      "--agentType: continuous\n",
      "--scenario: convergence\n",
      "--dryRun: 0\n",
      "Simulation started\n",
      "Simulation process id: 1349165 (parent (waf shell) id: 1349149)\n",
      "Waiting for Python process to connect on port: tcp://localhost:39365\n",
      "Please start proper Python Gym Agent\n",
      "  0%|          | 0/6300 [00:00<?, ?it/s, curr_speed=0.00 Mbps, mb_sent=0.00 Mb]"
     ]
    },
    {
     "name": "stdout",
     "output_type": "stream",
     "text": [
      "Sent 2293.86 Mb/s.\tMean speed: 38.23 Mb/s\tEpisode 7/15 finished\n",
      "\n",
      "7\n"
     ]
    },
    {
     "name": "stderr",
     "output_type": "stream",
     "text": [
      "100%|██████████| 6300/6300 [17:09<00:00,  6.12it/s, curr_speed=38.50 Mbps, mb_sent=2304.47 Mb]\n"
     ]
    },
    {
     "name": "stdout",
     "output_type": "stream",
     "text": [
      "Waiting for simulation script to connect on port: tcp://localhost:15174\n",
      "Please start proper ns-3 simulation script using ./waf --run \"...\"\n",
      "Waf: Entering directory `/home/samuel/ns-allinone-3.29/ns-3.29/build'\n",
      "Waf: Leaving directory `/home/samuel/ns-allinone-3.29/ns-3.29/build'\n",
      "Build commands will be stored in build/compile_commands.json\n",
      "'build' finished successfully (1.977s)\n"
     ]
    },
    {
     "name": "stderr",
     "output_type": "stream",
     "text": [
      "Ns3Env parameters:\n",
      "--nWifi: 6\n",
      "--simulationTime: 60\n",
      "--openGymPort: 15174\n",
      "--envStepTime: 0.01\n",
      "--seed: 42\n",
      "--agentType: continuous\n",
      "--scenario: convergence\n",
      "--dryRun: 0\n",
      "Simulation started\n",
      "Simulation process id: 1356565 (parent (waf shell) id: 1356550)\n",
      "Waiting for Python process to connect on port: tcp://localhost:15174\n",
      "Please start proper Python Gym Agent\n",
      "  0%|          | 2/6300 [00:00<10:17, 10.19it/s, curr_speed=0.00 Mbps, mb_sent=0.00 Mb]"
     ]
    },
    {
     "name": "stdout",
     "output_type": "stream",
     "text": [
      "Sent 2304.47 Mb/s.\tMean speed: 38.41 Mb/s\tEpisode 8/15 finished\n",
      "\n",
      "8\n"
     ]
    },
    {
     "name": "stderr",
     "output_type": "stream",
     "text": [
      "100%|██████████| 6300/6300 [17:12<00:00,  6.10it/s, curr_speed=38.82 Mbps, mb_sent=2314.71 Mb]\n"
     ]
    },
    {
     "name": "stdout",
     "output_type": "stream",
     "text": [
      "Waiting for simulation script to connect on port: tcp://localhost:40008\n",
      "Please start proper ns-3 simulation script using ./waf --run \"...\"\n",
      "Waf: Entering directory `/home/samuel/ns-allinone-3.29/ns-3.29/build'\n",
      "Waf: Leaving directory `/home/samuel/ns-allinone-3.29/ns-3.29/build'\n",
      "Build commands will be stored in build/compile_commands.json\n",
      "'build' finished successfully (1.993s)\n"
     ]
    },
    {
     "name": "stderr",
     "output_type": "stream",
     "text": [
      "Ns3Env parameters:\n",
      "--nWifi: 6\n",
      "--simulationTime: 60\n",
      "--openGymPort: 40008\n",
      "--envStepTime: 0.01\n",
      "--seed: 42\n",
      "--agentType: continuous\n",
      "--scenario: convergence\n",
      "--dryRun: 0\n",
      "Simulation started\n",
      "Simulation process id: 1363962 (parent (waf shell) id: 1363946)\n",
      "Waiting for Python process to connect on port: tcp://localhost:40008\n",
      "Please start proper Python Gym Agent\n",
      "  0%|          | 2/6300 [00:00<10:05, 10.41it/s, curr_speed=0.00 Mbps, mb_sent=0.00 Mb]"
     ]
    },
    {
     "name": "stdout",
     "output_type": "stream",
     "text": [
      "Sent 2314.71 Mb/s.\tMean speed: 38.58 Mb/s\tEpisode 9/15 finished\n",
      "\n",
      "9\n"
     ]
    },
    {
     "name": "stderr",
     "output_type": "stream",
     "text": [
      "100%|██████████| 6300/6300 [17:17<00:00,  6.07it/s, curr_speed=38.37 Mbps, mb_sent=2315.50 Mb]\n"
     ]
    },
    {
     "name": "stdout",
     "output_type": "stream",
     "text": [
      "Waiting for simulation script to connect on port: tcp://localhost:44131\n",
      "Please start proper ns-3 simulation script using ./waf --run \"...\"\n",
      "Waf: Entering directory `/home/samuel/ns-allinone-3.29/ns-3.29/build'\n",
      "Waf: Leaving directory `/home/samuel/ns-allinone-3.29/ns-3.29/build'\n",
      "Build commands will be stored in build/compile_commands.json\n",
      "'build' finished successfully (1.992s)\n"
     ]
    },
    {
     "name": "stderr",
     "output_type": "stream",
     "text": [
      "Ns3Env parameters:\n",
      "--nWifi: 6\n",
      "--simulationTime: 60\n",
      "--openGymPort: 44131\n",
      "--envStepTime: 0.01\n",
      "--seed: 42\n",
      "--agentType: continuous\n",
      "--scenario: convergence\n",
      "--dryRun: 0\n",
      "Simulation started\n",
      "Simulation process id: 1371378 (parent (waf shell) id: 1371362)\n",
      "Waiting for Python process to connect on port: tcp://localhost:44131\n",
      "Please start proper Python Gym Agent\n",
      "  0%|          | 2/6300 [00:00<10:03, 10.43it/s, curr_speed=0.00 Mbps, mb_sent=0.00 Mb]"
     ]
    },
    {
     "name": "stdout",
     "output_type": "stream",
     "text": [
      "Sent 2315.50 Mb/s.\tMean speed: 38.59 Mb/s\tEpisode 10/15 finished\n",
      "\n",
      "10\n"
     ]
    },
    {
     "name": "stderr",
     "output_type": "stream",
     "text": [
      "100%|██████████| 6300/6300 [17:00<00:00,  6.17it/s, curr_speed=38.69 Mbps, mb_sent=2320.48 Mb]\n"
     ]
    },
    {
     "name": "stdout",
     "output_type": "stream",
     "text": [
      "Waiting for simulation script to connect on port: tcp://localhost:43424\n",
      "Please start proper ns-3 simulation script using ./waf --run \"...\"\n",
      "Waf: Entering directory `/home/samuel/ns-allinone-3.29/ns-3.29/build'\n",
      "Waf: Leaving directory `/home/samuel/ns-allinone-3.29/ns-3.29/build'\n",
      "Build commands will be stored in build/compile_commands.json\n",
      "'build' finished successfully (2.012s)\n"
     ]
    },
    {
     "name": "stderr",
     "output_type": "stream",
     "text": [
      "Ns3Env parameters:\n",
      "--nWifi: 6\n",
      "--simulationTime: 60\n",
      "--openGymPort: 43424\n",
      "--envStepTime: 0.01\n",
      "--seed: 42\n",
      "--agentType: continuous\n",
      "--scenario: convergence\n",
      "--dryRun: 0\n",
      "Simulation started\n",
      "Simulation process id: 1378393 (parent (waf shell) id: 1378374)\n",
      "Waiting for Python process to connect on port: tcp://localhost:43424\n",
      "Please start proper Python Gym Agent\n",
      "  0%|          | 2/6300 [00:00<10:15, 10.24it/s, curr_speed=0.00 Mbps, mb_sent=0.00 Mb]"
     ]
    },
    {
     "name": "stdout",
     "output_type": "stream",
     "text": [
      "Sent 2320.48 Mb/s.\tMean speed: 38.67 Mb/s\tEpisode 11/15 finished\n",
      "\n",
      "11\n"
     ]
    },
    {
     "name": "stderr",
     "output_type": "stream",
     "text": [
      "100%|██████████| 6300/6300 [17:15<00:00,  6.09it/s, curr_speed=38.56 Mbps, mb_sent=2318.12 Mb]\n"
     ]
    },
    {
     "name": "stdout",
     "output_type": "stream",
     "text": [
      "Waiting for simulation script to connect on port: tcp://localhost:51348\n",
      "Please start proper ns-3 simulation script using ./waf --run \"...\"\n",
      "Waf: Entering directory `/home/samuel/ns-allinone-3.29/ns-3.29/build'\n",
      "Waf: Leaving directory `/home/samuel/ns-allinone-3.29/ns-3.29/build'\n",
      "Build commands will be stored in build/compile_commands.json\n",
      "'build' finished successfully (1.990s)\n"
     ]
    },
    {
     "name": "stderr",
     "output_type": "stream",
     "text": [
      "Ns3Env parameters:\n",
      "--nWifi: 6\n",
      "--simulationTime: 60\n",
      "--openGymPort: 51348\n",
      "--envStepTime: 0.01\n",
      "--seed: 42\n",
      "--agentType: continuous\n",
      "--scenario: convergence\n",
      "--dryRun: 0\n",
      "Simulation started\n",
      "Simulation process id: 1385784 (parent (waf shell) id: 1385768)\n",
      "Waiting for Python process to connect on port: tcp://localhost:51348\n",
      "Please start proper Python Gym Agent\n",
      "  0%|          | 2/6300 [00:00<10:05, 10.40it/s, curr_speed=0.00 Mbps, mb_sent=0.00 Mb]"
     ]
    },
    {
     "name": "stdout",
     "output_type": "stream",
     "text": [
      "Sent 2318.12 Mb/s.\tMean speed: 38.64 Mb/s\tEpisode 12/15 finished\n",
      "\n",
      "12\n",
      "Turning off noise\n"
     ]
    },
    {
     "name": "stderr",
     "output_type": "stream",
     "text": [
      "100%|██████████| 6300/6300 [17:05<00:00,  6.15it/s, curr_speed=38.76 Mbps, mb_sent=2321.10 Mb]\n"
     ]
    },
    {
     "name": "stdout",
     "output_type": "stream",
     "text": [
      "Waiting for simulation script to connect on port: tcp://localhost:48866\n",
      "Please start proper ns-3 simulation script using ./waf --run \"...\"\n",
      "Waf: Entering directory `/home/samuel/ns-allinone-3.29/ns-3.29/build'\n",
      "Waf: Leaving directory `/home/samuel/ns-allinone-3.29/ns-3.29/build'\n",
      "Build commands will be stored in build/compile_commands.json\n",
      "'build' finished successfully (1.986s)\n"
     ]
    },
    {
     "name": "stderr",
     "output_type": "stream",
     "text": [
      "Ns3Env parameters:\n",
      "--nWifi: 6\n",
      "--simulationTime: 60\n",
      "--openGymPort: 48866\n",
      "--envStepTime: 0.01\n",
      "--seed: 42\n",
      "--agentType: continuous\n",
      "--scenario: convergence\n",
      "--dryRun: 0\n",
      "Simulation started\n",
      "Simulation process id: 1393164 (parent (waf shell) id: 1393149)\n",
      "Waiting for Python process to connect on port: tcp://localhost:48866\n",
      "Please start proper Python Gym Agent\n",
      "  0%|          | 0/6300 [00:00<?, ?it/s, curr_speed=0.00 Mbps, mb_sent=0.00 Mb]"
     ]
    },
    {
     "name": "stdout",
     "output_type": "stream",
     "text": [
      "Sent 2321.10 Mb/s.\tMean speed: 38.68 Mb/s\tEpisode 13/15 finished\n",
      "\n",
      "13\n",
      "Turning off noise\n"
     ]
    },
    {
     "name": "stderr",
     "output_type": "stream",
     "text": [
      "100%|██████████| 6300/6300 [17:14<00:00,  6.09it/s, curr_speed=38.48 Mbps, mb_sent=2319.71 Mb]\n"
     ]
    },
    {
     "name": "stdout",
     "output_type": "stream",
     "text": [
      "Waiting for simulation script to connect on port: tcp://localhost:23800\n",
      "Please start proper ns-3 simulation script using ./waf --run \"...\"\n",
      "Waf: Entering directory `/home/samuel/ns-allinone-3.29/ns-3.29/build'\n",
      "Waf: Leaving directory `/home/samuel/ns-allinone-3.29/ns-3.29/build'\n",
      "Build commands will be stored in build/compile_commands.json\n",
      "'build' finished successfully (2.000s)\n"
     ]
    },
    {
     "name": "stderr",
     "output_type": "stream",
     "text": [
      "Ns3Env parameters:\n",
      "--nWifi: 6\n",
      "--simulationTime: 60\n",
      "--openGymPort: 23800\n",
      "--envStepTime: 0.01\n",
      "--seed: 42\n",
      "--agentType: continuous\n",
      "--scenario: convergence\n",
      "--dryRun: 0\n",
      "Simulation started\n",
      "Simulation process id: 1400561 (parent (waf shell) id: 1400546)\n",
      "Waiting for Python process to connect on port: tcp://localhost:23800\n",
      "Please start proper Python Gym Agent\n",
      "  0%|          | 2/6300 [00:00<10:11, 10.29it/s, curr_speed=0.00 Mbps, mb_sent=0.00 Mb]"
     ]
    },
    {
     "name": "stdout",
     "output_type": "stream",
     "text": [
      "Sent 2319.71 Mb/s.\tMean speed: 38.66 Mb/s\tEpisode 14/15 finished\n",
      "\n",
      "14\n",
      "Turning off noise\n"
     ]
    },
    {
     "name": "stderr",
     "output_type": "stream",
     "text": [
      "100%|██████████| 6300/6300 [14:58<00:00,  7.01it/s, curr_speed=39.07 Mbps, mb_sent=2318.06 Mb]\n"
     ]
    },
    {
     "name": "stdout",
     "output_type": "stream",
     "text": [
      "Waiting for simulation script to connect on port: tcp://localhost:30880\n",
      "Please start proper ns-3 simulation script using ./waf --run \"...\"\n",
      "Waf: Entering directory `/home/samuel/ns-allinone-3.29/ns-3.29/build'\n",
      "Waf: Leaving directory `/home/samuel/ns-allinone-3.29/ns-3.29/build'\n",
      "Build commands will be stored in build/compile_commands.json\n",
      "'build' finished successfully (2.147s)\n"
     ]
    },
    {
     "name": "stderr",
     "output_type": "stream",
     "text": [
      "Ns3Env parameters:\n",
      "--nWifi: 6\n",
      "--simulationTime: 60\n",
      "--openGymPort: 30880\n",
      "--envStepTime: 0.01\n",
      "--seed: 42\n",
      "--agentType: continuous\n",
      "--scenario: convergence\n",
      "--dryRun: 0\n",
      "Simulation started\n",
      "Simulation process id: 1407528 (parent (waf shell) id: 1407515)\n",
      "Waiting for Python process to connect on port: tcp://localhost:30880\n",
      "Please start proper Python Gym Agent\n",
      "COMET INFO: ----------------------------\n",
      "COMET INFO: Comet.ml Experiment Summary:\n",
      "COMET INFO:   Data:\n",
      "COMET INFO:     url: https://www.comet.com/sheila-janota/rl-in-wifi-with-queue-level/0f794b7609e843d29b91217f8b894ff8\n",
      "COMET INFO:   Metrics [count] (min, max):\n",
      "COMET INFO:     Chosen CW [89985]           : (16.0, 1024.0)\n",
      "COMET INFO:     Cumulative reward [15]      : (2584.145263671875, 3247.80322265625)\n",
      "COMET INFO:     Current throughput [89985]  : (22.0931453704834, 58.74004364013672)\n",
      "COMET INFO:     Fairness index [89985]      : (0.17564399540424347, 0.9998990297317505)\n",
      "COMET INFO:     Megabytes sent [89985]      : (0.3239139914512634, 2321.0976724624634)\n",
      "COMET INFO:     Observation 0 [89985]       : (0.6821500163525342, 0.8571500083804131)\n",
      "COMET INFO:     Observation 1 [89985]       : (0.0, 0.08779152249476233)\n",
      "COMET INFO:     Per-ep reward [89985]       : (132.0673828125, 3247.80322265625)\n",
      "COMET INFO:     Round megabytes sent [89985]: (0.0, 11.85076904296875)\n",
      "COMET INFO:     Round reward [89985]        : (0.0, 0.62548828125)\n",
      "COMET INFO:     Speed [15]                  : (31.422594755763807, 38.68496120770772)\n",
      "COMET INFO:     Station count [89985]       : (5.0, 6.0)\n",
      "COMET INFO:     actor_loss [89985]          : (-1.7252243757247925, 0.0)\n",
      "COMET INFO:     critic_loss [89985]         : (0.0, 5.14720344543457)\n",
      "COMET INFO:     loss [33578]                : (-1.7252224683761597, 1.1082351207733154)\n",
      "COMET INFO:   Uploads:\n",
      "COMET INFO:     histogram3d: 89985\n",
      "COMET INFO: ----------------------------\n"
     ]
    },
    {
     "name": "stdout",
     "output_type": "stream",
     "text": [
      "Sent 2318.06 Mb/s.\tMean speed: 38.63 Mb/s\tEpisode 15/15 finished\n",
      "\n"
     ]
    },
    {
     "name": "stderr",
     "output_type": "stream",
     "text": [
      "COMET ERROR: Error sending notification, make sure you have opted-in for notifications\n",
      "COMET INFO: Uploading stats to Comet before program termination (may take several seconds)\n",
      "COMET INFO: Still uploading\n",
      "COMET INFO: Still uploading\n",
      "COMET INFO: Still uploading\n",
      "COMET INFO: Still uploading\n",
      "COMET INFO: Still uploading\n",
      "COMET INFO: Still uploading\n",
      "COMET INFO: Still uploading\n",
      "COMET INFO: Still uploading\n",
      "COMET INFO: Still uploading\n",
      "COMET INFO: Still uploading\n",
      "COMET INFO: Still uploading\n",
      "COMET INFO: Still uploading\n",
      "COMET INFO: Still uploading\n",
      "COMET ERROR: File could not be uploaded\n",
      "COMET ERROR: File could not be uploaded\n",
      "COMET ERROR: File could not be uploaded\n",
      "COMET ERROR: File could not be uploaded\n",
      "COMET INFO: Still uploading\n",
      "COMET INFO: Still uploading\n",
      "COMET INFO: Still uploading\n",
      "COMET INFO: Still uploading\n",
      "COMET INFO: Still uploading\n",
      "COMET INFO: Waiting for completion of the file uploads (may take several seconds)\n",
      "COMET INFO: Still uploading\n",
      "COMET INFO: Still uploading\n",
      "COMET INFO: Still uploading\n",
      "COMET INFO: Still uploading\n",
      "COMET INFO: Still uploading\n",
      "COMET INFO: Still uploading\n",
      "COMET INFO: Still uploading\n",
      "COMET INFO: Still uploading\n",
      "COMET INFO: Still uploading\n",
      "COMET INFO: Still uploading\n",
      "COMET INFO: Still uploading\n",
      "COMET INFO: Still uploading\n",
      "COMET INFO: Still uploading\n",
      "COMET INFO: Still uploading\n",
      "COMET INFO: Still uploading\n",
      "COMET INFO: Still uploading\n",
      "COMET INFO: Still uploading\n",
      "COMET INFO: Still uploading\n",
      "COMET INFO: Still uploading\n",
      "COMET INFO: Still uploading\n",
      "COMET INFO: Still uploading\n",
      "COMET INFO: Still uploading\n",
      "COMET INFO: Still uploading\n",
      "COMET INFO: Still uploading\n",
      "COMET INFO: Still uploading\n",
      "COMET INFO: Still uploading\n",
      "COMET INFO: Still uploading\n",
      "COMET INFO: Still uploading\n",
      "COMET INFO: Still uploading\n",
      "COMET INFO: Still uploading\n",
      "COMET INFO: Still uploading\n",
      "COMET INFO: Still uploading\n",
      "COMET INFO: Still uploading\n",
      "COMET INFO: Still uploading\n",
      "COMET INFO: Still uploading\n",
      "COMET INFO: Still uploading\n",
      "COMET INFO: Still uploading\n",
      "COMET INFO: Still uploading\n",
      "COMET INFO: Still uploading\n",
      "COMET INFO: Still uploading\n",
      "COMET INFO: Still uploading\n",
      "COMET INFO: Still uploading\n",
      "COMET INFO: Still uploading\n",
      "COMET INFO: Still uploading\n",
      "COMET INFO: Still uploading\n",
      "COMET INFO: Still uploading\n",
      "COMET INFO: Still uploading\n",
      "COMET INFO: Still uploading\n",
      "COMET INFO: Still uploading\n",
      "COMET INFO: Still uploading\n",
      "COMET INFO: Still uploading\n",
      "COMET INFO: Still uploading\n",
      "COMET INFO: Still uploading\n",
      "COMET INFO: Still uploading\n",
      "COMET INFO: Still uploading\n",
      "COMET INFO: Still uploading\n",
      "COMET INFO: Still uploading\n",
      "COMET INFO: Still uploading\n",
      "COMET INFO: Still uploading\n",
      "COMET INFO: Still uploading\n",
      "COMET INFO: Still uploading\n",
      "COMET INFO: Still uploading\n",
      "COMET INFO: Still uploading\n",
      "COMET INFO: Still uploading\n",
      "COMET INFO: Still uploading\n",
      "COMET INFO: Still uploading\n",
      "COMET INFO: Still uploading\n",
      "COMET INFO: Still uploading\n",
      "COMET INFO: Still uploading\n",
      "COMET INFO: Still uploading\n",
      "COMET INFO: Still uploading\n",
      "COMET INFO: Still uploading\n",
      "COMET INFO: Still uploading\n",
      "COMET INFO: Still uploading\n",
      "COMET INFO: Still uploading\n",
      "COMET INFO: Still uploading\n",
      "COMET INFO: Still uploading\n",
      "COMET INFO: Still uploading\n",
      "COMET INFO: Still uploading\n",
      "COMET INFO: Still uploading\n",
      "COMET INFO: Still uploading\n",
      "COMET INFO: Still uploading\n",
      "COMET INFO: Still uploading\n",
      "COMET INFO: Still uploading\n",
      "COMET INFO: Still uploading\n",
      "COMET INFO: Still uploading\n",
      "COMET INFO: Still uploading\n",
      "COMET INFO: Still uploading\n",
      "COMET INFO: Still uploading\n",
      "COMET INFO: Still uploading\n",
      "COMET INFO: Still uploading\n",
      "COMET INFO: Still uploading\n",
      "COMET INFO: Still uploading\n",
      "COMET INFO: Still uploading\n",
      "COMET INFO: Still uploading\n",
      "COMET INFO: Still uploading\n",
      "COMET INFO: Still uploading\n",
      "COMET INFO: Still uploading\n",
      "COMET INFO: Still uploading\n",
      "COMET INFO: Still uploading\n",
      "COMET INFO: Still uploading\n",
      "COMET INFO: Still uploading\n",
      "COMET INFO: Still uploading\n",
      "COMET INFO: Still uploading\n",
      "COMET INFO: Still uploading\n",
      "COMET INFO: Still uploading\n",
      "COMET INFO: Still uploading\n",
      "COMET INFO: Still uploading\n",
      "COMET INFO: Still uploading\n",
      "COMET INFO: Still uploading\n",
      "COMET INFO: Still uploading\n",
      "COMET INFO: Still uploading\n",
      "COMET INFO: Still uploading\n",
      "COMET INFO: Still uploading\n",
      "COMET INFO: Still uploading\n",
      "COMET INFO: Still uploading\n",
      "COMET INFO: Still uploading\n",
      "COMET INFO: Still uploading\n",
      "COMET INFO: Still uploading\n",
      "COMET ERROR: Comet failed to send all the data back (0 messages and 6 uploads)\n",
      "COMET WARNING: Failed to log run in comet.ml\n"
     ]
    },
    {
     "name": "stdout",
     "output_type": "stream",
     "text": [
      "Training finished.\n"
     ]
    },
    {
     "name": "stderr",
     "output_type": "stream",
     "text": [
      "COMET ERROR: File could not be uploaded\n"
     ]
    }
   ],
   "source": [
    "#%%\n",
    "teacher = Teacher(env, 1, Preprocessor(False))\n",
    "\n",
    "lr_actor = 4e-4\n",
    "lr_critic = 4e-3\n",
    "\n",
    "config = Config(buffer_size=4*steps_per_ep*threads_no, batch_size=32, gamma=0.7, tau=1e-3, lr_actor=lr_actor, lr_critic=lr_critic, update_every=1)\n",
    "agent = Agent(history_length, action_size=1, config=config, actor_layers=[8, 128, 16], critic_layers=[8,128,16])\n",
    "\n",
    "# Test the model\n",
    "hyperparams = {**config.__dict__, **sim_args}\n",
    "tags = [\"Rew: normalized speed\",\n",
    "        f\"{Agent.NAME}\",\n",
    "        sim_args['scenario'],\n",
    "        f\"Actor: {lr_actor}\",\n",
    "        f\"Critic: {lr_critic}\",\n",
    "        f\"Instances: {threads_no}\",\n",
    "        f\"Station count: {sim_args['nWifi']}\",\n",
    "        *[f\"{key}: {sim_args[key]}\" for key in list(sim_args)[:3]]]\n",
    "# agent.save()\n",
    "logger = teacher.train(agent, EPISODE_COUNT,\n",
    "                        simTime=simTime,\n",
    "                        stepTime=stepTime,\n",
    "                        history_length=history_length,\n",
    "                        send_logs=True,\n",
    "                        experimental=True,\n",
    "                        tags=tags,\n",
    "                        parameters=hyperparams)\n",
    "# logger = teacher.eval(agent,\n",
    "#                         simTime=simTime,\n",
    "#                         stepTime=stepTime,\n",
    "#                         history_length=history_length,\n",
    "#                         tags=tags,\n",
    "#                         parameters=hyperparams)\n",
    "# agent.save()"
   ]
  },
  {
   "cell_type": "code",
   "execution_count": null,
   "id": "ec63c9cb",
   "metadata": {},
   "outputs": [],
   "source": []
  }
 ],
 "metadata": {
  "kernelspec": {
   "display_name": "Python 3 (ipykernel)",
   "language": "python",
   "name": "python3"
  },
  "language_info": {
   "codemirror_mode": {
    "name": "ipython",
    "version": 3
   },
   "file_extension": ".py",
   "mimetype": "text/x-python",
   "name": "python",
   "nbconvert_exporter": "python",
   "pygments_lexer": "ipython3",
   "version": "3.7.10"
  }
 },
 "nbformat": 4,
 "nbformat_minor": 5
}
