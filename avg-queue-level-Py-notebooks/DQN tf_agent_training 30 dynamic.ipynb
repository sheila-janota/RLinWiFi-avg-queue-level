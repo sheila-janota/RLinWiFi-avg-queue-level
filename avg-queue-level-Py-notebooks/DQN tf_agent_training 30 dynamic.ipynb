{
 "cells": [
  {
   "cell_type": "markdown",
   "id": "ade3fb9b",
   "metadata": {},
   "source": [
    "# Execution num1:"
   ]
  },
  {
   "cell_type": "code",
   "execution_count": 1,
   "id": "e963ae41",
   "metadata": {},
   "outputs": [
    {
     "name": "stderr",
     "output_type": "stream",
     "text": [
      "/home/sheila/anaconda3/envs/environment_py3_7/lib/python3.7/site-packages/tensorflow/python/framework/dtypes.py:516: FutureWarning: Passing (type, 1) or '1type' as a synonym of type is deprecated; in a future version of numpy, it will be understood as (type, (1,)) / '(1,)type'.\n",
      "  _np_qint8 = np.dtype([(\"qint8\", np.int8, 1)])\n",
      "/home/sheila/anaconda3/envs/environment_py3_7/lib/python3.7/site-packages/tensorflow/python/framework/dtypes.py:517: FutureWarning: Passing (type, 1) or '1type' as a synonym of type is deprecated; in a future version of numpy, it will be understood as (type, (1,)) / '(1,)type'.\n",
      "  _np_quint8 = np.dtype([(\"quint8\", np.uint8, 1)])\n",
      "/home/sheila/anaconda3/envs/environment_py3_7/lib/python3.7/site-packages/tensorflow/python/framework/dtypes.py:518: FutureWarning: Passing (type, 1) or '1type' as a synonym of type is deprecated; in a future version of numpy, it will be understood as (type, (1,)) / '(1,)type'.\n",
      "  _np_qint16 = np.dtype([(\"qint16\", np.int16, 1)])\n",
      "/home/sheila/anaconda3/envs/environment_py3_7/lib/python3.7/site-packages/tensorflow/python/framework/dtypes.py:519: FutureWarning: Passing (type, 1) or '1type' as a synonym of type is deprecated; in a future version of numpy, it will be understood as (type, (1,)) / '(1,)type'.\n",
      "  _np_quint16 = np.dtype([(\"quint16\", np.uint16, 1)])\n",
      "/home/sheila/anaconda3/envs/environment_py3_7/lib/python3.7/site-packages/tensorflow/python/framework/dtypes.py:520: FutureWarning: Passing (type, 1) or '1type' as a synonym of type is deprecated; in a future version of numpy, it will be understood as (type, (1,)) / '(1,)type'.\n",
      "  _np_qint32 = np.dtype([(\"qint32\", np.int32, 1)])\n",
      "/home/sheila/anaconda3/envs/environment_py3_7/lib/python3.7/site-packages/tensorflow/python/framework/dtypes.py:525: FutureWarning: Passing (type, 1) or '1type' as a synonym of type is deprecated; in a future version of numpy, it will be understood as (type, (1,)) / '(1,)type'.\n",
      "  np_resource = np.dtype([(\"resource\", np.ubyte, 1)])\n",
      "/home/sheila/anaconda3/envs/environment_py3_7/lib/python3.7/site-packages/tensorboard/compat/tensorflow_stub/dtypes.py:541: FutureWarning: Passing (type, 1) or '1type' as a synonym of type is deprecated; in a future version of numpy, it will be understood as (type, (1,)) / '(1,)type'.\n",
      "  _np_qint8 = np.dtype([(\"qint8\", np.int8, 1)])\n",
      "/home/sheila/anaconda3/envs/environment_py3_7/lib/python3.7/site-packages/tensorboard/compat/tensorflow_stub/dtypes.py:542: FutureWarning: Passing (type, 1) or '1type' as a synonym of type is deprecated; in a future version of numpy, it will be understood as (type, (1,)) / '(1,)type'.\n",
      "  _np_quint8 = np.dtype([(\"quint8\", np.uint8, 1)])\n",
      "/home/sheila/anaconda3/envs/environment_py3_7/lib/python3.7/site-packages/tensorboard/compat/tensorflow_stub/dtypes.py:543: FutureWarning: Passing (type, 1) or '1type' as a synonym of type is deprecated; in a future version of numpy, it will be understood as (type, (1,)) / '(1,)type'.\n",
      "  _np_qint16 = np.dtype([(\"qint16\", np.int16, 1)])\n",
      "/home/sheila/anaconda3/envs/environment_py3_7/lib/python3.7/site-packages/tensorboard/compat/tensorflow_stub/dtypes.py:544: FutureWarning: Passing (type, 1) or '1type' as a synonym of type is deprecated; in a future version of numpy, it will be understood as (type, (1,)) / '(1,)type'.\n",
      "  _np_quint16 = np.dtype([(\"quint16\", np.uint16, 1)])\n",
      "/home/sheila/anaconda3/envs/environment_py3_7/lib/python3.7/site-packages/tensorboard/compat/tensorflow_stub/dtypes.py:545: FutureWarning: Passing (type, 1) or '1type' as a synonym of type is deprecated; in a future version of numpy, it will be understood as (type, (1,)) / '(1,)type'.\n",
      "  _np_qint32 = np.dtype([(\"qint32\", np.int32, 1)])\n",
      "/home/sheila/anaconda3/envs/environment_py3_7/lib/python3.7/site-packages/tensorboard/compat/tensorflow_stub/dtypes.py:550: FutureWarning: Passing (type, 1) or '1type' as a synonym of type is deprecated; in a future version of numpy, it will be understood as (type, (1,)) / '(1,)type'.\n",
      "  np_resource = np.dtype([(\"resource\", np.ubyte, 1)])\n"
     ]
    }
   ],
   "source": [
    "#%%\n",
    "from ns3gym import ns3env\n",
    "from comet_ml import Experiment, Optimizer\n",
    "import tqdm\n",
    "import subprocess\n",
    "from collections import deque\n",
    "import numpy as np\n",
    "\n",
    "from agents.dqn.agent import Agent, Config\n",
    "from agents.dqn.model import QNetworkTf\n",
    "from agents.teacher import Teacher, EnvWrapper\n",
    "from preprocessor import Preprocessor"
   ]
  },
  {
   "cell_type": "code",
   "execution_count": 2,
   "id": "77b773ac",
   "metadata": {},
   "outputs": [
    {
     "name": "stdout",
     "output_type": "stream",
     "text": [
      "Steps per episode: 6000\n",
      "Waiting for simulation script to connect on port: tcp://localhost:40390\n",
      "Please start proper ns-3 simulation script using ./waf --run \"...\"\n",
      "40.343994|0|5|-nan\n",
      "Observation space shape: (1, 300)\n",
      "Action space shape: (1, 1)\n"
     ]
    }
   ],
   "source": [
    "#%%\n",
    "scenario = \"convergence\"\n",
    "\n",
    "simTime = 60 # seconds\n",
    "stepTime = 0.01  # seconds\n",
    "history_length = 300\n",
    "\n",
    "EPISODE_COUNT = 15\n",
    "steps_per_ep = int(simTime/stepTime)\n",
    "\n",
    "sim_args = {\n",
    "    \"simTime\": simTime,\n",
    "    \"envStepTime\": stepTime,\n",
    "    \"historyLength\": history_length,\n",
    "    \"agentType\": Agent.TYPE,\n",
    "    \"scenario\": \"convergence\",\n",
    "    \"nWifi\": 30,\n",
    "}\n",
    "\n",
    "print(\"Steps per episode:\", steps_per_ep)\n",
    "\n",
    "threads_no = 1\n",
    "env = EnvWrapper(threads_no, **sim_args)\n",
    "\n",
    "#%%\n",
    "env.reset()\n",
    "ob_space = env.observation_space\n",
    "ac_space = env.action_space\n",
    "\n",
    "print(\"Observation space shape:\", ob_space)\n",
    "print(\"Action space shape:\", ac_space)\n",
    "\n",
    "assert ob_space is not None\n"
   ]
  },
  {
   "cell_type": "code",
   "execution_count": 3,
   "id": "01988cd3",
   "metadata": {
    "scrolled": true
   },
   "outputs": [
    {
     "name": "stdout",
     "output_type": "stream",
     "text": [
      "WARNING:tensorflow:From /home/sheila/repos/ns-3-allinone/ns-3.29/scratch/RLinWiFi-master-original-queue-level-mean/agents/dqn/agent.py:53: The name tf.Session is deprecated. Please use tf.compat.v1.Session instead.\n",
      "\n",
      "WARNING:tensorflow:From /home/sheila/repos/ns-3-allinone/ns-3.29/scratch/RLinWiFi-master-original-queue-level-mean/agents/dqn/model.py:25: The name tf.variable_scope is deprecated. Please use tf.compat.v1.variable_scope instead.\n",
      "\n",
      "WARNING:tensorflow:From /home/sheila/repos/ns-3-allinone/ns-3.29/scratch/RLinWiFi-master-original-queue-level-mean/agents/dqn/model.py:26: The name tf.placeholder is deprecated. Please use tf.compat.v1.placeholder instead.\n",
      "\n",
      "WARNING:tensorflow:\n",
      "The TensorFlow contrib module will not be included in TensorFlow 2.0.\n",
      "For more information, please see:\n",
      "  * https://github.com/tensorflow/community/blob/master/rfcs/20180907-contrib-sunset.md\n",
      "  * https://github.com/tensorflow/addons\n",
      "  * https://github.com/tensorflow/io (for I/O related ops)\n",
      "If you depend on functionality not listed there, please file an issue.\n",
      "\n",
      "WARNING:tensorflow:From /home/sheila/repos/ns-3-allinone/ns-3.29/scratch/RLinWiFi-master-original-queue-level-mean/agents/dqn/model.py:52: LSTMCell.__init__ (from tensorflow.python.ops.rnn_cell_impl) is deprecated and will be removed in a future version.\n",
      "Instructions for updating:\n",
      "This class is equivalent as tf.keras.layers.LSTMCell, and will be replaced by that in Tensorflow 2.0.\n",
      "WARNING:tensorflow:From /home/sheila/repos/ns-3-allinone/ns-3.29/scratch/RLinWiFi-master-original-queue-level-mean/agents/dqn/model.py:52: static_rnn (from tensorflow.python.ops.rnn) is deprecated and will be removed in a future version.\n",
      "Instructions for updating:\n",
      "Please use `keras.layers.RNN(cell, unroll=True)`, which is equivalent to this API\n",
      "WARNING:tensorflow:From /home/sheila/anaconda3/envs/environment_py3_7/lib/python3.7/site-packages/tensorflow/python/ops/init_ops.py:1251: calling VarianceScaling.__init__ (from tensorflow.python.ops.init_ops) with dtype is deprecated and will be removed in a future version.\n",
      "Instructions for updating:\n",
      "Call initializer instance with the dtype argument instead of passing it to the constructor\n",
      "WARNING:tensorflow:From /home/sheila/anaconda3/envs/environment_py3_7/lib/python3.7/site-packages/tensorflow/python/ops/rnn_cell_impl.py:961: calling Zeros.__init__ (from tensorflow.python.ops.init_ops) with dtype is deprecated and will be removed in a future version.\n",
      "Instructions for updating:\n",
      "Call initializer instance with the dtype argument instead of passing it to the constructor\n",
      "WARNING:tensorflow:Entity <bound method LSTMCell.call of <tensorflow.python.ops.rnn_cell_impl.LSTMCell object at 0x7f35cceeef10>> could not be transformed and will be executed as-is. Please report this to the AutgoGraph team. When filing the bug, set the verbosity to 10 (on Linux, `export AUTOGRAPH_VERBOSITY=10`) and attach the full output. Cause: converting <bound method LSTMCell.call of <tensorflow.python.ops.rnn_cell_impl.LSTMCell object at 0x7f35cceeef10>>: AttributeError: module 'gast' has no attribute 'Index'\n",
      "WARNING: Entity <bound method LSTMCell.call of <tensorflow.python.ops.rnn_cell_impl.LSTMCell object at 0x7f35cceeef10>> could not be transformed and will be executed as-is. Please report this to the AutgoGraph team. When filing the bug, set the verbosity to 10 (on Linux, `export AUTOGRAPH_VERBOSITY=10`) and attach the full output. Cause: converting <bound method LSTMCell.call of <tensorflow.python.ops.rnn_cell_impl.LSTMCell object at 0x7f35cceeef10>>: AttributeError: module 'gast' has no attribute 'Index'\n",
      "WARNING:tensorflow:Entity <bound method LSTMCell.call of <tensorflow.python.ops.rnn_cell_impl.LSTMCell object at 0x7f35cceeef10>> could not be transformed and will be executed as-is. Please report this to the AutgoGraph team. When filing the bug, set the verbosity to 10 (on Linux, `export AUTOGRAPH_VERBOSITY=10`) and attach the full output. Cause: converting <bound method LSTMCell.call of <tensorflow.python.ops.rnn_cell_impl.LSTMCell object at 0x7f35cceeef10>>: AttributeError: module 'gast' has no attribute 'Index'\n",
      "WARNING: Entity <bound method LSTMCell.call of <tensorflow.python.ops.rnn_cell_impl.LSTMCell object at 0x7f35cceeef10>> could not be transformed and will be executed as-is. Please report this to the AutgoGraph team. When filing the bug, set the verbosity to 10 (on Linux, `export AUTOGRAPH_VERBOSITY=10`) and attach the full output. Cause: converting <bound method LSTMCell.call of <tensorflow.python.ops.rnn_cell_impl.LSTMCell object at 0x7f35cceeef10>>: AttributeError: module 'gast' has no attribute 'Index'\n",
      "WARNING:tensorflow:Entity <bound method LSTMCell.call of <tensorflow.python.ops.rnn_cell_impl.LSTMCell object at 0x7f35cceeef10>> could not be transformed and will be executed as-is. Please report this to the AutgoGraph team. When filing the bug, set the verbosity to 10 (on Linux, `export AUTOGRAPH_VERBOSITY=10`) and attach the full output. Cause: converting <bound method LSTMCell.call of <tensorflow.python.ops.rnn_cell_impl.LSTMCell object at 0x7f35cceeef10>>: AttributeError: module 'gast' has no attribute 'Index'\n",
      "WARNING: Entity <bound method LSTMCell.call of <tensorflow.python.ops.rnn_cell_impl.LSTMCell object at 0x7f35cceeef10>> could not be transformed and will be executed as-is. Please report this to the AutgoGraph team. When filing the bug, set the verbosity to 10 (on Linux, `export AUTOGRAPH_VERBOSITY=10`) and attach the full output. Cause: converting <bound method LSTMCell.call of <tensorflow.python.ops.rnn_cell_impl.LSTMCell object at 0x7f35cceeef10>>: AttributeError: module 'gast' has no attribute 'Index'\n",
      "WARNING:tensorflow:Entity <bound method LSTMCell.call of <tensorflow.python.ops.rnn_cell_impl.LSTMCell object at 0x7f35cceeef10>> could not be transformed and will be executed as-is. Please report this to the AutgoGraph team. When filing the bug, set the verbosity to 10 (on Linux, `export AUTOGRAPH_VERBOSITY=10`) and attach the full output. Cause: converting <bound method LSTMCell.call of <tensorflow.python.ops.rnn_cell_impl.LSTMCell object at 0x7f35cceeef10>>: AttributeError: module 'gast' has no attribute 'Index'\n",
      "WARNING: Entity <bound method LSTMCell.call of <tensorflow.python.ops.rnn_cell_impl.LSTMCell object at 0x7f35cceeef10>> could not be transformed and will be executed as-is. Please report this to the AutgoGraph team. When filing the bug, set the verbosity to 10 (on Linux, `export AUTOGRAPH_VERBOSITY=10`) and attach the full output. Cause: converting <bound method LSTMCell.call of <tensorflow.python.ops.rnn_cell_impl.LSTMCell object at 0x7f35cceeef10>>: AttributeError: module 'gast' has no attribute 'Index'\n",
      "WARNING:tensorflow:From /home/sheila/repos/ns-3-allinone/ns-3.29/scratch/RLinWiFi-master-original-queue-level-mean/agents/dqn/model.py:53: dense (from tensorflow.python.layers.core) is deprecated and will be removed in a future version.\n",
      "Instructions for updating:\n",
      "Use keras.layers.dense instead.\n",
      "WARNING:tensorflow:Entity <bound method Dense.call of <tensorflow.python.layers.core.Dense object at 0x7f35cceeef10>> could not be transformed and will be executed as-is. Please report this to the AutgoGraph team. When filing the bug, set the verbosity to 10 (on Linux, `export AUTOGRAPH_VERBOSITY=10`) and attach the full output. Cause: converting <bound method Dense.call of <tensorflow.python.layers.core.Dense object at 0x7f35cceeef10>>: AttributeError: module 'gast' has no attribute 'Index'\n",
      "WARNING: Entity <bound method Dense.call of <tensorflow.python.layers.core.Dense object at 0x7f35cceeef10>> could not be transformed and will be executed as-is. Please report this to the AutgoGraph team. When filing the bug, set the verbosity to 10 (on Linux, `export AUTOGRAPH_VERBOSITY=10`) and attach the full output. Cause: converting <bound method Dense.call of <tensorflow.python.layers.core.Dense object at 0x7f35cceeef10>>: AttributeError: module 'gast' has no attribute 'Index'\n",
      "WARNING:tensorflow:Entity <bound method Dense.call of <tensorflow.python.layers.core.Dense object at 0x7f35cceeef10>> could not be transformed and will be executed as-is. Please report this to the AutgoGraph team. When filing the bug, set the verbosity to 10 (on Linux, `export AUTOGRAPH_VERBOSITY=10`) and attach the full output. Cause: converting <bound method Dense.call of <tensorflow.python.layers.core.Dense object at 0x7f35cceeef10>>: AttributeError: module 'gast' has no attribute 'Index'\n"
     ]
    },
    {
     "name": "stdout",
     "output_type": "stream",
     "text": [
      "WARNING: Entity <bound method Dense.call of <tensorflow.python.layers.core.Dense object at 0x7f35cceeef10>> could not be transformed and will be executed as-is. Please report this to the AutgoGraph team. When filing the bug, set the verbosity to 10 (on Linux, `export AUTOGRAPH_VERBOSITY=10`) and attach the full output. Cause: converting <bound method Dense.call of <tensorflow.python.layers.core.Dense object at 0x7f35cceeef10>>: AttributeError: module 'gast' has no attribute 'Index'\n",
      "WARNING:tensorflow:Entity <bound method Dense.call of <tensorflow.python.layers.core.Dense object at 0x7f35cceeef10>> could not be transformed and will be executed as-is. Please report this to the AutgoGraph team. When filing the bug, set the verbosity to 10 (on Linux, `export AUTOGRAPH_VERBOSITY=10`) and attach the full output. Cause: converting <bound method Dense.call of <tensorflow.python.layers.core.Dense object at 0x7f35cceeef10>>: AttributeError: module 'gast' has no attribute 'Index'\n",
      "WARNING: Entity <bound method Dense.call of <tensorflow.python.layers.core.Dense object at 0x7f35cceeef10>> could not be transformed and will be executed as-is. Please report this to the AutgoGraph team. When filing the bug, set the verbosity to 10 (on Linux, `export AUTOGRAPH_VERBOSITY=10`) and attach the full output. Cause: converting <bound method Dense.call of <tensorflow.python.layers.core.Dense object at 0x7f35cceeef10>>: AttributeError: module 'gast' has no attribute 'Index'\n",
      "WARNING:tensorflow:From /home/sheila/repos/ns-3-allinone/ns-3.29/scratch/RLinWiFi-master-original-queue-level-mean/agents/dqn/model.py:69: The name tf.losses.mean_squared_error is deprecated. Please use tf.compat.v1.losses.mean_squared_error instead.\n",
      "\n",
      "WARNING:tensorflow:From /home/sheila/anaconda3/envs/environment_py3_7/lib/python3.7/site-packages/tensorflow/python/ops/losses/losses_impl.py:121: add_dispatch_support.<locals>.wrapper (from tensorflow.python.ops.array_ops) is deprecated and will be removed in a future version.\n",
      "Instructions for updating:\n",
      "Use tf.where in 2.0, which has the same broadcast rule as np.where\n",
      "WARNING:tensorflow:From /home/sheila/repos/ns-3-allinone/ns-3.29/scratch/RLinWiFi-master-original-queue-level-mean/agents/dqn/model.py:77: The name tf.train.AdamOptimizer is deprecated. Please use tf.compat.v1.train.AdamOptimizer instead.\n",
      "\n",
      "WARNING:tensorflow:From /home/sheila/repos/ns-3-allinone/ns-3.29/scratch/RLinWiFi-master-original-queue-level-mean/agents/dqn/model.py:33: The name tf.global_variables_initializer is deprecated. Please use tf.compat.v1.global_variables_initializer instead.\n",
      "\n",
      "WARNING:tensorflow:From /home/sheila/repos/ns-3-allinone/ns-3.29/scratch/RLinWiFi-master-original-queue-level-mean/agents/dqn/model.py:34: The name tf.local_variables_initializer is deprecated. Please use tf.compat.v1.local_variables_initializer instead.\n",
      "\n",
      "WARNING:tensorflow:Entity <bound method LSTMCell.call of <tensorflow.python.ops.rnn_cell_impl.LSTMCell object at 0x7f35647ecf90>> could not be transformed and will be executed as-is. Please report this to the AutgoGraph team. When filing the bug, set the verbosity to 10 (on Linux, `export AUTOGRAPH_VERBOSITY=10`) and attach the full output. Cause: converting <bound method LSTMCell.call of <tensorflow.python.ops.rnn_cell_impl.LSTMCell object at 0x7f35647ecf90>>: AttributeError: module 'gast' has no attribute 'Index'\n",
      "WARNING: Entity <bound method LSTMCell.call of <tensorflow.python.ops.rnn_cell_impl.LSTMCell object at 0x7f35647ecf90>> could not be transformed and will be executed as-is. Please report this to the AutgoGraph team. When filing the bug, set the verbosity to 10 (on Linux, `export AUTOGRAPH_VERBOSITY=10`) and attach the full output. Cause: converting <bound method LSTMCell.call of <tensorflow.python.ops.rnn_cell_impl.LSTMCell object at 0x7f35647ecf90>>: AttributeError: module 'gast' has no attribute 'Index'\n",
      "WARNING:tensorflow:Entity <bound method LSTMCell.call of <tensorflow.python.ops.rnn_cell_impl.LSTMCell object at 0x7f35647ecf90>> could not be transformed and will be executed as-is. Please report this to the AutgoGraph team. When filing the bug, set the verbosity to 10 (on Linux, `export AUTOGRAPH_VERBOSITY=10`) and attach the full output. Cause: converting <bound method LSTMCell.call of <tensorflow.python.ops.rnn_cell_impl.LSTMCell object at 0x7f35647ecf90>>: AttributeError: module 'gast' has no attribute 'Index'\n",
      "WARNING: Entity <bound method LSTMCell.call of <tensorflow.python.ops.rnn_cell_impl.LSTMCell object at 0x7f35647ecf90>> could not be transformed and will be executed as-is. Please report this to the AutgoGraph team. When filing the bug, set the verbosity to 10 (on Linux, `export AUTOGRAPH_VERBOSITY=10`) and attach the full output. Cause: converting <bound method LSTMCell.call of <tensorflow.python.ops.rnn_cell_impl.LSTMCell object at 0x7f35647ecf90>>: AttributeError: module 'gast' has no attribute 'Index'\n",
      "WARNING:tensorflow:Entity <bound method LSTMCell.call of <tensorflow.python.ops.rnn_cell_impl.LSTMCell object at 0x7f35647ecf90>> could not be transformed and will be executed as-is. Please report this to the AutgoGraph team. When filing the bug, set the verbosity to 10 (on Linux, `export AUTOGRAPH_VERBOSITY=10`) and attach the full output. Cause: converting <bound method LSTMCell.call of <tensorflow.python.ops.rnn_cell_impl.LSTMCell object at 0x7f35647ecf90>>: AttributeError: module 'gast' has no attribute 'Index'\n",
      "WARNING: Entity <bound method LSTMCell.call of <tensorflow.python.ops.rnn_cell_impl.LSTMCell object at 0x7f35647ecf90>> could not be transformed and will be executed as-is. Please report this to the AutgoGraph team. When filing the bug, set the verbosity to 10 (on Linux, `export AUTOGRAPH_VERBOSITY=10`) and attach the full output. Cause: converting <bound method LSTMCell.call of <tensorflow.python.ops.rnn_cell_impl.LSTMCell object at 0x7f35647ecf90>>: AttributeError: module 'gast' has no attribute 'Index'\n",
      "WARNING:tensorflow:Entity <bound method LSTMCell.call of <tensorflow.python.ops.rnn_cell_impl.LSTMCell object at 0x7f35647ecf90>> could not be transformed and will be executed as-is. Please report this to the AutgoGraph team. When filing the bug, set the verbosity to 10 (on Linux, `export AUTOGRAPH_VERBOSITY=10`) and attach the full output. Cause: converting <bound method LSTMCell.call of <tensorflow.python.ops.rnn_cell_impl.LSTMCell object at 0x7f35647ecf90>>: AttributeError: module 'gast' has no attribute 'Index'\n",
      "WARNING: Entity <bound method LSTMCell.call of <tensorflow.python.ops.rnn_cell_impl.LSTMCell object at 0x7f35647ecf90>> could not be transformed and will be executed as-is. Please report this to the AutgoGraph team. When filing the bug, set the verbosity to 10 (on Linux, `export AUTOGRAPH_VERBOSITY=10`) and attach the full output. Cause: converting <bound method LSTMCell.call of <tensorflow.python.ops.rnn_cell_impl.LSTMCell object at 0x7f35647ecf90>>: AttributeError: module 'gast' has no attribute 'Index'\n",
      "WARNING:tensorflow:Entity <bound method Dense.call of <tensorflow.python.layers.core.Dense object at 0x7f35647ecf90>> could not be transformed and will be executed as-is. Please report this to the AutgoGraph team. When filing the bug, set the verbosity to 10 (on Linux, `export AUTOGRAPH_VERBOSITY=10`) and attach the full output. Cause: converting <bound method Dense.call of <tensorflow.python.layers.core.Dense object at 0x7f35647ecf90>>: AttributeError: module 'gast' has no attribute 'Index'\n",
      "WARNING: Entity <bound method Dense.call of <tensorflow.python.layers.core.Dense object at 0x7f35647ecf90>> could not be transformed and will be executed as-is. Please report this to the AutgoGraph team. When filing the bug, set the verbosity to 10 (on Linux, `export AUTOGRAPH_VERBOSITY=10`) and attach the full output. Cause: converting <bound method Dense.call of <tensorflow.python.layers.core.Dense object at 0x7f35647ecf90>>: AttributeError: module 'gast' has no attribute 'Index'\n",
      "WARNING:tensorflow:Entity <bound method Dense.call of <tensorflow.python.layers.core.Dense object at 0x7f35647ecf90>> could not be transformed and will be executed as-is. Please report this to the AutgoGraph team. When filing the bug, set the verbosity to 10 (on Linux, `export AUTOGRAPH_VERBOSITY=10`) and attach the full output. Cause: converting <bound method Dense.call of <tensorflow.python.layers.core.Dense object at 0x7f35647ecf90>>: AttributeError: module 'gast' has no attribute 'Index'\n"
     ]
    },
    {
     "name": "stdout",
     "output_type": "stream",
     "text": [
      "WARNING: Entity <bound method Dense.call of <tensorflow.python.layers.core.Dense object at 0x7f35647ecf90>> could not be transformed and will be executed as-is. Please report this to the AutgoGraph team. When filing the bug, set the verbosity to 10 (on Linux, `export AUTOGRAPH_VERBOSITY=10`) and attach the full output. Cause: converting <bound method Dense.call of <tensorflow.python.layers.core.Dense object at 0x7f35647ecf90>>: AttributeError: module 'gast' has no attribute 'Index'\n",
      "WARNING:tensorflow:Entity <bound method Dense.call of <tensorflow.python.layers.core.Dense object at 0x7f35647ecf90>> could not be transformed and will be executed as-is. Please report this to the AutgoGraph team. When filing the bug, set the verbosity to 10 (on Linux, `export AUTOGRAPH_VERBOSITY=10`) and attach the full output. Cause: converting <bound method Dense.call of <tensorflow.python.layers.core.Dense object at 0x7f35647ecf90>>: AttributeError: module 'gast' has no attribute 'Index'\n",
      "WARNING: Entity <bound method Dense.call of <tensorflow.python.layers.core.Dense object at 0x7f35647ecf90>> could not be transformed and will be executed as-is. Please report this to the AutgoGraph team. When filing the bug, set the verbosity to 10 (on Linux, `export AUTOGRAPH_VERBOSITY=10`) and attach the full output. Cause: converting <bound method Dense.call of <tensorflow.python.layers.core.Dense object at 0x7f35647ecf90>>: AttributeError: module 'gast' has no attribute 'Index'\n",
      "WARNING:tensorflow:From /home/sheila/repos/ns-3-allinone/ns-3.29/scratch/RLinWiFi-master-original-queue-level-mean/agents/dqn/agent.py:77: The name tf.train.Saver is deprecated. Please use tf.compat.v1.train.Saver instead.\n",
      "\n",
      "Action space: 7\n",
      "WARNING:tensorflow:From /home/sheila/repos/ns-3-allinone/ns-3.29/scratch/RLinWiFi-master-original-queue-level-mean/agents/dqn/agent.py:107: Variable.load (from tensorflow.python.ops.variables) is deprecated and will be removed in a future version.\n",
      "Instructions for updating:\n",
      "Prefer Variable.assign which has equivalent behavior in 2.X.\n"
     ]
    },
    {
     "name": "stderr",
     "output_type": "stream",
     "text": [
      "COMET INFO: Experiment is live on comet.ml https://www.comet.com/sheila-janota/rl-in-wifi-with-queue-level/7e5888e01a9642e391711c89877b0861\n",
      "\n"
     ]
    },
    {
     "name": "stdout",
     "output_type": "stream",
     "text": [
      "0\n",
      "40.343994|0|5|-nan\n"
     ]
    },
    {
     "name": "stderr",
     "output_type": "stream",
     "text": [
      "  5%|▌         | 333/6300 [02:42<54:51,  1.81it/s, curr_speed=26.60 Mbps, mb_sent=8.51 Mb]  "
     ]
    },
    {
     "name": "stdout",
     "output_type": "stream",
     "text": [
      "------- STARTED TRAINING -------\n"
     ]
    },
    {
     "name": "stderr",
     "output_type": "stream",
     "text": [
      " 10%|▉         | 607/6300 [05:47<1:12:34,  1.31it/s, curr_speed=29.45 Mbps, mb_sent=87.11 Mb]COMET ERROR: File could not be uploaded\n",
      " 10%|▉         | 608/6300 [05:48<1:15:00,  1.26it/s, curr_speed=29.52 Mbps, mb_sent=87.49 Mb]COMET ERROR: File could not be uploaded\n",
      " 10%|▉         | 609/6300 [05:49<1:09:37,  1.36it/s, curr_speed=29.33 Mbps, mb_sent=87.64 Mb]COMET ERROR: File could not be uploaded\n",
      " 10%|▉         | 612/6300 [05:51<1:21:04,  1.17it/s, curr_speed=29.40 Mbps, mb_sent=88.53 Mb]COMET ERROR: File could not be uploaded\n",
      " 10%|▉         | 613/6300 [05:52<1:14:59,  1.26it/s, curr_speed=29.17 Mbps, mb_sent=88.71 Mb]COMET ERROR: File could not be uploaded\n",
      " 10%|▉         | 614/6300 [05:53<1:07:45,  1.40it/s, curr_speed=29.04 Mbps, mb_sent=88.83 Mb]COMET ERROR: File could not be uploaded\n",
      " 68%|██████▊   | 4315/6300 [1:17:23<53:18,  1.61s/it, curr_speed=31.73 Mbps, mb_sent=1272.13 Mb]  COMET ERROR: File could not be uploaded\n",
      " 69%|██████▉   | 4337/6300 [1:17:57<51:57,  1.59s/it, curr_speed=31.52 Mbps, mb_sent=1279.08 Mb]COMET ERROR: File could not be uploaded\n",
      " 69%|██████▉   | 4346/6300 [1:18:11<49:03,  1.51s/it, curr_speed=31.35 Mbps, mb_sent=1281.84 Mb]COMET ERROR: File could not be uploaded\n",
      " 86%|████████▌ | 5414/6300 [1:48:34<26:43,  1.81s/it, curr_speed=29.88 Mbps, mb_sent=1626.31 Mb]  COMET ERROR: File could not be uploaded\n",
      "100%|██████████| 6300/6300 [2:16:29<00:00,  1.30s/it, curr_speed=31.34 Mbps, mb_sent=1919.58 Mb]\n"
     ]
    },
    {
     "name": "stdout",
     "output_type": "stream",
     "text": [
      "Waiting for simulation script to connect on port: tcp://localhost:37278\n",
      "Please start proper ns-3 simulation script using ./waf --run \"...\"\n",
      "Sent 1919.58 Mb/s.\tMean speed: 31.99 Mb/s\tEpisode 1/15 finished\n",
      "\n",
      "1\n",
      "40.343994|0|5|-nan\n"
     ]
    },
    {
     "name": "stderr",
     "output_type": "stream",
     "text": [
      " 96%|█████████▌| 6017/6300 [2:09:05<08:54,  1.89s/it, curr_speed=43.34 Mbps, mb_sent=1942.77 Mb]  COMET ERROR: File could not be uploaded\n",
      " 96%|█████████▌| 6019/6300 [2:09:10<09:46,  2.09s/it, curr_speed=43.33 Mbps, mb_sent=1943.45 Mb]COMET ERROR: File could not be uploaded\n",
      " 96%|█████████▌| 6021/6300 [2:09:14<09:38,  2.07s/it, curr_speed=43.43 Mbps, mb_sent=1944.14 Mb]COMET ERROR: File could not be uploaded\n",
      " 96%|█████████▌| 6023/6300 [2:09:18<09:37,  2.08s/it, curr_speed=43.40 Mbps, mb_sent=1944.82 Mb]COMET ERROR: File could not be uploaded\n",
      " 96%|█████████▌| 6026/6300 [2:09:24<09:29,  2.08s/it, curr_speed=43.38 Mbps, mb_sent=1945.78 Mb]COMET ERROR: File could not be uploaded\n",
      " 96%|█████████▌| 6027/6300 [2:09:26<09:28,  2.08s/it, curr_speed=43.38 Mbps, mb_sent=1946.08 Mb]COMET ERROR: File could not be uploaded\n",
      " 96%|█████████▌| 6033/6300 [2:09:38<08:40,  1.95s/it, curr_speed=43.33 Mbps, mb_sent=1947.99 Mb]COMET ERROR: File could not be uploaded\n",
      " 96%|█████████▌| 6049/6300 [2:10:12<08:58,  2.15s/it, curr_speed=43.56 Mbps, mb_sent=1952.89 Mb]COMET ERROR: File could not be uploaded\n",
      " 96%|█████████▌| 6055/6300 [2:10:24<08:05,  1.98s/it, curr_speed=43.49 Mbps, mb_sent=1954.99 Mb]COMET ERROR: File could not be uploaded\n",
      " 96%|█████████▋| 6076/6300 [2:11:08<07:46,  2.08s/it, curr_speed=32.96 Mbps, mb_sent=1962.27 Mb]COMET ERROR: File could not be uploaded\n",
      " 96%|█████████▋| 6078/6300 [2:11:12<07:39,  2.07s/it, curr_speed=33.10 Mbps, mb_sent=1962.95 Mb]COMET ERROR: File could not be uploaded\n",
      " 96%|█████████▋| 6079/6300 [2:11:14<07:41,  2.09s/it, curr_speed=33.20 Mbps, mb_sent=1963.31 Mb]COMET ERROR: File could not be uploaded\n",
      " 97%|█████████▋| 6083/6300 [2:11:22<07:29,  2.07s/it, curr_speed=33.26 Mbps, mb_sent=1964.84 Mb]COMET ERROR: File could not be uploaded\n",
      " 97%|█████████▋| 6089/6300 [2:11:35<07:20,  2.09s/it, curr_speed=33.37 Mbps, mb_sent=1966.96 Mb]COMET ERROR: File could not be uploaded\n",
      " 97%|█████████▋| 6104/6300 [2:12:06<06:59,  2.14s/it, curr_speed=33.84 Mbps, mb_sent=1972.31 Mb]COMET ERROR: File could not be uploaded\n",
      " 97%|█████████▋| 6109/6300 [2:12:16<06:40,  2.10s/it, curr_speed=33.50 Mbps, mb_sent=1973.68 Mb]COMET ERROR: File could not be uploaded\n",
      " 97%|█████████▋| 6117/6300 [2:12:32<06:12,  2.03s/it, curr_speed=33.80 Mbps, mb_sent=1976.57 Mb]COMET ERROR: File could not be uploaded\n",
      "COMET ERROR: File could not be uploaded\n",
      " 97%|█████████▋| 6118/6300 [2:12:35<06:20,  2.09s/it, curr_speed=33.80 Mbps, mb_sent=1976.91 Mb]COMET ERROR: File could not be uploaded\n",
      " 97%|█████████▋| 6119/6300 [2:12:37<06:28,  2.14s/it, curr_speed=33.83 Mbps, mb_sent=1977.28 Mb]COMET ERROR: File could not be uploaded\n",
      " 97%|█████████▋| 6121/6300 [2:12:41<06:19,  2.12s/it, curr_speed=33.82 Mbps, mb_sent=1977.96 Mb]COMET ERROR: File could not be uploaded\n",
      "100%|██████████| 6300/6300 [2:18:37<00:00,  1.32s/it, curr_speed=33.78 Mbps, mb_sent=2038.11 Mb]\n",
      "COMET ERROR: File could not be uploaded\n"
     ]
    },
    {
     "name": "stdout",
     "output_type": "stream",
     "text": [
      "Waiting for simulation script to connect on port: tcp://localhost:21637\n",
      "Please start proper ns-3 simulation script using ./waf --run \"...\"\n"
     ]
    },
    {
     "name": "stderr",
     "output_type": "stream",
     "text": [
      "COMET ERROR: File could not be uploaded\n",
      "COMET ERROR: File could not be uploaded\n"
     ]
    },
    {
     "name": "stdout",
     "output_type": "stream",
     "text": [
      "Sent 2038.11 Mb/s.\tMean speed: 33.97 Mb/s\tEpisode 2/15 finished\n",
      "\n",
      "2\n",
      "40.343994|0|5|-nan\n"
     ]
    },
    {
     "name": "stderr",
     "output_type": "stream",
     "text": [
      "  9%|▊         | 540/6300 [06:05<1:09:56,  1.37it/s, curr_speed=34.33 Mbps, mb_sent=83.23 Mb]COMET ERROR: File could not be uploaded\n",
      "  9%|▉         | 558/6300 [06:20<1:08:50,  1.39it/s, curr_speed=34.70 Mbps, mb_sent=89.61 Mb]COMET ERROR: File could not be uploaded\n",
      "  9%|▉         | 563/6300 [06:24<1:17:55,  1.23it/s, curr_speed=35.23 Mbps, mb_sent=91.47 Mb]COMET ERROR: File could not be uploaded\n",
      "  9%|▉         | 572/6300 [06:31<1:13:20,  1.30it/s, curr_speed=35.01 Mbps, mb_sent=94.43 Mb]COMET ERROR: File could not be uploaded\n",
      "  9%|▉         | 574/6300 [06:33<1:20:03,  1.19it/s, curr_speed=35.03 Mbps, mb_sent=95.17 Mb]COMET ERROR: File could not be uploaded\n",
      "  9%|▉         | 581/6300 [06:38<1:12:45,  1.31it/s, curr_speed=34.86 Mbps, mb_sent=97.52 Mb]COMET ERROR: File could not be uploaded\n",
      "  9%|▉         | 587/6300 [06:43<1:16:27,  1.25it/s, curr_speed=34.74 Mbps, mb_sent=99.55 Mb]COMET ERROR: File could not be uploaded\n",
      " 10%|▉         | 604/6300 [06:59<1:41:08,  1.07s/it, curr_speed=34.31 Mbps, mb_sent=105.52 Mb]COMET ERROR: File could not be uploaded\n",
      " 12%|█▏        | 774/6300 [09:28<1:13:48,  1.25it/s, curr_speed=35.80 Mbps, mb_sent=165.23 Mb]COMET ERROR: File could not be uploaded\n",
      "COMET ERROR: File could not be uploaded\n",
      " 12%|█▏        | 778/6300 [09:31<1:15:55,  1.21it/s, curr_speed=35.60 Mbps, mb_sent=166.41 Mb]COMET ERROR: File could not be uploaded\n",
      " 13%|█▎        | 790/6300 [09:42<1:16:34,  1.20it/s, curr_speed=35.75 Mbps, mb_sent=170.86 Mb]COMET ERROR: File could not be uploaded\n",
      " 13%|█▎        | 791/6300 [09:43<1:18:09,  1.17it/s, curr_speed=35.76 Mbps, mb_sent=171.23 Mb]COMET ERROR: File could not be uploaded\n",
      " 13%|█▎        | 793/6300 [09:44<1:20:08,  1.15it/s, curr_speed=35.75 Mbps, mb_sent=171.98 Mb]COMET ERROR: File could not be uploaded\n",
      " 13%|█▎        | 796/6300 [09:47<1:16:30,  1.20it/s, curr_speed=35.85 Mbps, mb_sent=172.93 Mb]COMET ERROR: File could not be uploaded\n",
      " 13%|█▎        | 798/6300 [09:49<1:18:29,  1.17it/s, curr_speed=35.82 Mbps, mb_sent=173.66 Mb]COMET ERROR: File could not be uploaded\n",
      " 13%|█▎        | 809/6300 [09:57<1:06:58,  1.37it/s, curr_speed=34.92 Mbps, mb_sent=176.49 Mb]COMET ERROR: File could not be uploaded\n",
      " 13%|█▎        | 818/6300 [10:04<1:15:09,  1.22it/s, curr_speed=34.64 Mbps, mb_sent=179.62 Mb]COMET ERROR: File could not be uploaded\n",
      " 13%|█▎        | 826/6300 [10:11<1:17:02,  1.18it/s, curr_speed=34.47 Mbps, mb_sent=182.49 Mb]COMET ERROR: File could not be uploaded\n",
      " 13%|█▎        | 829/6300 [10:14<1:22:11,  1.11it/s, curr_speed=34.47 Mbps, mb_sent=183.66 Mb]COMET ERROR: File could not be uploaded\n",
      " 13%|█▎        | 830/6300 [10:15<1:25:10,  1.07it/s, curr_speed=34.46 Mbps, mb_sent=184.03 Mb]COMET ERROR: File could not be uploaded\n",
      " 13%|█▎        | 832/6300 [10:17<1:24:58,  1.07it/s, curr_speed=34.39 Mbps, mb_sent=184.66 Mb]COMET ERROR: File could not be uploaded\n",
      " 13%|█▎        | 833/6300 [10:18<1:27:15,  1.04it/s, curr_speed=34.42 Mbps, mb_sent=185.04 Mb]COMET ERROR: File could not be uploaded\n",
      " 13%|█▎        | 835/6300 [10:20<1:25:47,  1.06it/s, curr_speed=34.41 Mbps, mb_sent=185.84 Mb]COMET ERROR: File could not be uploaded\n",
      " 13%|█▎        | 836/6300 [10:21<1:25:59,  1.06it/s, curr_speed=34.45 Mbps, mb_sent=186.28 Mb]COMET ERROR: File could not be uploaded\n",
      " 13%|█▎        | 837/6300 [10:22<1:25:07,  1.07it/s, curr_speed=34.50 Mbps, mb_sent=186.69 Mb]COMET ERROR: File could not be uploaded\n",
      " 13%|█▎        | 838/6300 [10:23<1:27:09,  1.04it/s, curr_speed=34.65 Mbps, mb_sent=187.04 Mb]COMET ERROR: File could not be uploaded\n",
      " 17%|█▋        | 1052/6300 [13:25<1:12:40,  1.20it/s, curr_speed=35.40 Mbps, mb_sent=262.50 Mb]COMET ERROR: File could not be uploaded\n",
      " 17%|█▋        | 1056/6300 [13:30<1:27:17,  1.00it/s, curr_speed=35.28 Mbps, mb_sent=264.28 Mb]COMET ERROR: File could not be uploaded\n",
      " 17%|█▋        | 1065/6300 [13:38<1:17:18,  1.13it/s, curr_speed=35.25 Mbps, mb_sent=267.13 Mb]COMET ERROR: File could not be uploaded\n",
      " 17%|█▋        | 1072/6300 [13:43<1:10:46,  1.23it/s, curr_speed=35.40 Mbps, mb_sent=269.51 Mb]COMET ERROR: File could not be uploaded\n",
      " 17%|█▋        | 1073/6300 [13:44<1:13:33,  1.18it/s, curr_speed=35.45 Mbps, mb_sent=269.93 Mb]COMET ERROR: File could not be uploaded\n",
      " 17%|█▋        | 1086/6300 [13:57<1:16:24,  1.14it/s, curr_speed=35.31 Mbps, mb_sent=274.38 Mb]COMET ERROR: File could not be uploaded\n",
      " 18%|█▊        | 1109/6300 [14:17<1:13:32,  1.18it/s, curr_speed=34.89 Mbps, mb_sent=282.21 Mb]COMET ERROR: File could not be uploaded\n",
      " 18%|█▊        | 1110/6300 [14:17<1:09:45,  1.24it/s, curr_speed=34.83 Mbps, mb_sent=282.52 Mb]COMET ERROR: File could not be uploaded\n",
      " 18%|█▊        | 1116/6300 [14:22<1:04:35,  1.34it/s, curr_speed=34.48 Mbps, mb_sent=284.33 Mb]COMET ERROR: File could not be uploaded\n",
      " 18%|█▊        | 1131/6300 [14:37<1:26:59,  1.01s/it, curr_speed=34.42 Mbps, mb_sent=289.27 Mb]COMET ERROR: File could not be uploaded\n",
      " 18%|█▊        | 1132/6300 [14:38<1:29:28,  1.04s/it, curr_speed=34.39 Mbps, mb_sent=289.60 Mb]COMET ERROR: File could not be uploaded\n",
      " 18%|█▊        | 1136/6300 [14:42<1:26:14,  1.00s/it, curr_speed=34.33 Mbps, mb_sent=291.13 Mb]COMET ERROR: File could not be uploaded\n",
      " 18%|█▊        | 1138/6300 [14:44<1:25:54,  1.00it/s, curr_speed=34.33 Mbps, mb_sent=291.86 Mb]COMET ERROR: File could not be uploaded\n",
      " 18%|█▊        | 1140/6300 [14:46<1:26:38,  1.01s/it, curr_speed=34.57 Mbps, mb_sent=292.62 Mb]COMET ERROR: File could not be uploaded\n",
      " 18%|█▊        | 1153/6300 [14:57<1:16:33,  1.12it/s, curr_speed=34.26 Mbps, mb_sent=297.11 Mb]COMET ERROR: File could not be uploaded\n",
      " 18%|█▊        | 1159/6300 [15:03<1:21:53,  1.05it/s, curr_speed=33.99 Mbps, mb_sent=299.01 Mb]COMET ERROR: File could not be uploaded\n",
      " 18%|█▊        | 1164/6300 [15:08<1:20:21,  1.07it/s, curr_speed=33.98 Mbps, mb_sent=300.78 Mb]COMET ERROR: File could not be uploaded\n",
      " 19%|█▉        | 1185/6300 [15:28<1:21:00,  1.05it/s, curr_speed=34.48 Mbps, mb_sent=308.47 Mb]COMET ERROR: File could not be uploaded\n",
      " 19%|█▉        | 1188/6300 [15:31<1:18:45,  1.08it/s, curr_speed=34.44 Mbps, mb_sent=309.50 Mb]COMET ERROR: File could not be uploaded\n",
      " 19%|█▉        | 1192/6300 [15:34<1:19:09,  1.08it/s, curr_speed=34.64 Mbps, mb_sent=310.97 Mb]COMET ERROR: File could not be uploaded\n",
      " 19%|█▉        | 1194/6300 [15:36<1:19:47,  1.07it/s, curr_speed=34.96 Mbps, mb_sent=311.72 Mb]COMET ERROR: File could not be uploaded\n",
      " 19%|█▉        | 1195/6300 [15:37<1:19:45,  1.07it/s, curr_speed=35.01 Mbps, mb_sent=312.09 Mb]COMET ERROR: File could not be uploaded\n",
      " 19%|█▉        | 1207/6300 [15:49<1:21:51,  1.04it/s, curr_speed=34.35 Mbps, mb_sent=316.01 Mb]COMET ERROR: File could not be uploaded\n",
      " 20%|█▉        | 1229/6300 [16:10<1:20:36,  1.05it/s, curr_speed=35.69 Mbps, mb_sent=324.17 Mb]COMET ERROR: File could not be uploaded\n",
      " 20%|█▉        | 1230/6300 [16:11<1:25:35,  1.01s/it, curr_speed=35.70 Mbps, mb_sent=324.55 Mb]COMET ERROR: File could not be uploaded\n",
      " 20%|█▉        | 1232/6300 [16:13<1:25:28,  1.01s/it, curr_speed=35.62 Mbps, mb_sent=325.22 Mb]COMET ERROR: File could not be uploaded\n",
      " 20%|█▉        | 1237/6300 [16:18<1:20:37,  1.05it/s, curr_speed=35.36 Mbps, mb_sent=326.87 Mb]COMET ERROR: File could not be uploaded\n",
      " 20%|█▉        | 1238/6300 [16:19<1:21:28,  1.04it/s, curr_speed=35.37 Mbps, mb_sent=327.23 Mb]COMET ERROR: File could not be uploaded\n",
      " 20%|█▉        | 1239/6300 [16:20<1:21:42,  1.03it/s, curr_speed=35.36 Mbps, mb_sent=327.60 Mb]COMET ERROR: File could not be uploaded\n",
      " 20%|█▉        | 1242/6300 [16:22<1:16:50,  1.10it/s, curr_speed=35.21 Mbps, mb_sent=328.59 Mb]COMET ERROR: File could not be uploaded\n",
      " 20%|█▉        | 1250/6300 [16:30<1:21:55,  1.03it/s, curr_speed=35.62 Mbps, mb_sent=331.58 Mb]COMET ERROR: File could not be uploaded\n",
      " 20%|█▉        | 1253/6300 [16:34<1:31:03,  1.08s/it, curr_speed=35.56 Mbps, mb_sent=332.67 Mb]COMET ERROR: File could not be uploaded\n",
      " 20%|█▉        | 1254/6300 [16:35<1:30:48,  1.08s/it, curr_speed=35.64 Mbps, mb_sent=333.08 Mb]COMET ERROR: File could not be uploaded\n",
      " 20%|█▉        | 1256/6300 [16:37<1:28:45,  1.06s/it, curr_speed=35.88 Mbps, mb_sent=333.88 Mb]COMET ERROR: File could not be uploaded\n",
      "100%|██████████| 6300/6300 [2:25:25<00:00,  1.39s/it, curr_speed=35.12 Mbps, mb_sent=2118.16 Mb]  \n"
     ]
    },
    {
     "name": "stdout",
     "output_type": "stream",
     "text": [
      "Waiting for simulation script to connect on port: tcp://localhost:35641\n",
      "Please start proper ns-3 simulation script using ./waf --run \"...\"\n",
      "Sent 2118.16 Mb/s.\tMean speed: 35.30 Mb/s\tEpisode 3/15 finished\n",
      "\n",
      "3\n",
      "40.343994|0|5|-nan\n"
     ]
    },
    {
     "name": "stderr",
     "output_type": "stream",
     "text": [
      "  5%|▍         | 304/6300 [03:07<1:03:34,  1.57it/s, curr_speed=31.65 Mbps, mb_sent=0.95 Mb]"
     ]
    },
    {
     "name": "stdout",
     "output_type": "stream",
     "text": [
      "------- MEMORY BUFFER FILLED -------\n"
     ]
    },
    {
     "name": "stderr",
     "output_type": "stream",
     "text": [
      "100%|██████████| 6300/6300 [2:14:22<00:00,  1.28s/it, curr_speed=36.51 Mbps, mb_sent=2187.35 Mb]  \n"
     ]
    },
    {
     "name": "stdout",
     "output_type": "stream",
     "text": [
      "Waiting for simulation script to connect on port: tcp://localhost:32043\n",
      "Please start proper ns-3 simulation script using ./waf --run \"...\"\n",
      "Sent 2187.35 Mb/s.\tMean speed: 36.46 Mb/s\tEpisode 4/15 finished\n",
      "\n",
      "4\n",
      "40.343994|0|5|-nan\n"
     ]
    },
    {
     "name": "stderr",
     "output_type": "stream",
     "text": [
      "100%|██████████| 6300/6300 [2:15:26<00:00,  1.29s/it, curr_speed=36.66 Mbps, mb_sent=2226.06 Mb]  \n"
     ]
    },
    {
     "name": "stdout",
     "output_type": "stream",
     "text": [
      "Waiting for simulation script to connect on port: tcp://localhost:22297\n",
      "Please start proper ns-3 simulation script using ./waf --run \"...\"\n",
      "Sent 2226.06 Mb/s.\tMean speed: 37.10 Mb/s\tEpisode 5/15 finished\n",
      "\n",
      "5\n",
      "40.343994|0|5|-nan\n"
     ]
    },
    {
     "name": "stderr",
     "output_type": "stream",
     "text": [
      " 33%|███▎      | 2062/6300 [29:36<1:32:17,  1.31s/it, curr_speed=37.10 Mbps, mb_sent=663.82 Mb]COMET ERROR: File could not be uploaded\n",
      " 45%|████▍     | 2831/6300 [45:59<1:33:40,  1.62s/it, curr_speed=37.81 Mbps, mb_sent=947.36 Mb]COMET ERROR: File could not be uploaded\n",
      " 45%|████▍     | 2834/6300 [46:04<1:35:10,  1.65s/it, curr_speed=37.88 Mbps, mb_sent=948.56 Mb]COMET ERROR: File could not be uploaded\n",
      " 45%|████▌     | 2835/6300 [46:05<1:32:41,  1.61s/it, curr_speed=37.85 Mbps, mb_sent=948.92 Mb]COMET ERROR: File could not be uploaded\n",
      "100%|██████████| 6300/6300 [2:06:13<00:00,  1.20s/it, curr_speed=35.31 Mbps, mb_sent=2234.88 Mb]  \n"
     ]
    },
    {
     "name": "stdout",
     "output_type": "stream",
     "text": [
      "Waiting for simulation script to connect on port: tcp://localhost:17193\n",
      "Please start proper ns-3 simulation script using ./waf --run \"...\"\n",
      "Sent 2234.88 Mb/s.\tMean speed: 37.25 Mb/s\tEpisode 6/15 finished\n",
      "\n",
      "6\n",
      "40.343994|0|5|-nan\n"
     ]
    },
    {
     "name": "stderr",
     "output_type": "stream",
     "text": [
      "100%|██████████| 6300/6300 [1:36:57<00:00,  1.08it/s, curr_speed=37.88 Mbps, mb_sent=2254.23 Mb]\n"
     ]
    },
    {
     "name": "stdout",
     "output_type": "stream",
     "text": [
      "Waiting for simulation script to connect on port: tcp://localhost:49764\n",
      "Please start proper ns-3 simulation script using ./waf --run \"...\"\n",
      "Sent 2254.23 Mb/s.\tMean speed: 37.57 Mb/s\tEpisode 7/15 finished\n",
      "\n",
      "7\n",
      "40.343994|0|5|-nan\n"
     ]
    },
    {
     "name": "stderr",
     "output_type": "stream",
     "text": [
      "100%|██████████| 6300/6300 [1:33:51<00:00,  1.12it/s, curr_speed=37.55 Mbps, mb_sent=2261.98 Mb]\n"
     ]
    },
    {
     "name": "stdout",
     "output_type": "stream",
     "text": [
      "Waiting for simulation script to connect on port: tcp://localhost:29860\n",
      "Please start proper ns-3 simulation script using ./waf --run \"...\"\n",
      "Sent 2261.98 Mb/s.\tMean speed: 37.70 Mb/s\tEpisode 8/15 finished\n",
      "\n",
      "8\n",
      "40.343994|0|5|-nan\n"
     ]
    },
    {
     "name": "stderr",
     "output_type": "stream",
     "text": [
      "100%|██████████| 6300/6300 [1:35:07<00:00,  1.10it/s, curr_speed=38.08 Mbps, mb_sent=2269.24 Mb]\n"
     ]
    },
    {
     "name": "stdout",
     "output_type": "stream",
     "text": [
      "Waiting for simulation script to connect on port: tcp://localhost:50810\n",
      "Please start proper ns-3 simulation script using ./waf --run \"...\"\n",
      "Sent 2269.24 Mb/s.\tMean speed: 37.82 Mb/s\tEpisode 9/15 finished\n",
      "\n",
      "9\n",
      "40.343994|0|5|-nan\n"
     ]
    },
    {
     "name": "stderr",
     "output_type": "stream",
     "text": [
      "100%|██████████| 6300/6300 [1:04:01<00:00,  1.64it/s, curr_speed=38.00 Mbps, mb_sent=2268.11 Mb]\n"
     ]
    },
    {
     "name": "stdout",
     "output_type": "stream",
     "text": [
      "Waiting for simulation script to connect on port: tcp://localhost:43274\n",
      "Please start proper ns-3 simulation script using ./waf --run \"...\"\n",
      "Sent 2268.11 Mb/s.\tMean speed: 37.80 Mb/s\tEpisode 10/15 finished\n",
      "\n",
      "10\n",
      "40.343994|0|5|-nan\n"
     ]
    },
    {
     "name": "stderr",
     "output_type": "stream",
     "text": [
      "100%|██████████| 6300/6300 [1:01:02<00:00,  1.72it/s, curr_speed=38.34 Mbps, mb_sent=2270.60 Mb]\n"
     ]
    },
    {
     "name": "stdout",
     "output_type": "stream",
     "text": [
      "Waiting for simulation script to connect on port: tcp://localhost:43654\n",
      "Please start proper ns-3 simulation script using ./waf --run \"...\"\n",
      "Sent 2270.60 Mb/s.\tMean speed: 37.84 Mb/s\tEpisode 11/15 finished\n",
      "\n",
      "11\n",
      "40.343994|0|5|-nan\n"
     ]
    },
    {
     "name": "stderr",
     "output_type": "stream",
     "text": [
      "100%|██████████| 6300/6300 [1:36:42<00:00,  1.09it/s, curr_speed=37.56 Mbps, mb_sent=2270.09 Mb]\n"
     ]
    },
    {
     "name": "stdout",
     "output_type": "stream",
     "text": [
      "Waiting for simulation script to connect on port: tcp://localhost:48914\n",
      "Please start proper ns-3 simulation script using ./waf --run \"...\"\n",
      "WARNING:tensorflow:From /home/sheila/anaconda3/envs/environment_py3_7/lib/python3.7/site-packages/tensorflow/python/training/saver.py:960: remove_checkpoint (from tensorflow.python.training.checkpoint_management) is deprecated and will be removed in a future version.\n",
      "Instructions for updating:\n",
      "Use standard file APIs to delete files with this prefix.\n",
      "Sent 2270.09 Mb/s.\tMean speed: 37.83 Mb/s\tEpisode 12/15 finished\n",
      "\n",
      "12\n",
      "Turning off noise\n",
      "40.343994|0|5|-nan\n"
     ]
    },
    {
     "name": "stderr",
     "output_type": "stream",
     "text": [
      " 25%|██▌       | 1575/6300 [16:10<55:19,  1.42it/s, curr_speed=38.15 Mbps, mb_sent=487.62 Mb]  COMET ERROR: File could not be uploaded\n",
      "100%|██████████| 6300/6300 [1:43:50<00:00,  1.01it/s, curr_speed=37.27 Mbps, mb_sent=2269.96 Mb]\n"
     ]
    },
    {
     "name": "stdout",
     "output_type": "stream",
     "text": [
      "Waiting for simulation script to connect on port: tcp://localhost:18947\n",
      "Please start proper ns-3 simulation script using ./waf --run \"...\"\n",
      "Sent 2269.96 Mb/s.\tMean speed: 37.83 Mb/s\tEpisode 13/15 finished\n",
      "\n",
      "13\n",
      "Turning off noise\n",
      "40.343994|0|5|-nan\n"
     ]
    },
    {
     "name": "stderr",
     "output_type": "stream",
     "text": [
      " 31%|███▏      | 1974/6300 [21:51<1:01:41,  1.17it/s, curr_speed=37.50 Mbps, mb_sent=636.75 Mb]COMET ERROR: File could not be uploaded\n",
      " 31%|███▏      | 1975/6300 [21:52<1:00:26,  1.19it/s, curr_speed=37.55 Mbps, mb_sent=637.14 Mb]COMET ERROR: File could not be uploaded\n",
      "100%|█████████▉| 6295/6300 [1:44:03<00:07,  1.49s/it, curr_speed=37.65 Mbps, mb_sent=2267.66 Mb]COMET ERROR: File could not be uploaded\n",
      "100%|██████████| 6300/6300 [1:44:10<00:00,  1.01it/s, curr_speed=37.56 Mbps, mb_sent=2269.48 Mb]\n"
     ]
    },
    {
     "name": "stdout",
     "output_type": "stream",
     "text": [
      "Waiting for simulation script to connect on port: tcp://localhost:37291\n",
      "Please start proper ns-3 simulation script using ./waf --run \"...\"\n",
      "Sent 2269.48 Mb/s.\tMean speed: 37.82 Mb/s\tEpisode 14/15 finished\n",
      "\n",
      "14\n",
      "Turning off noise\n",
      "40.343994|0|5|-nan\n"
     ]
    },
    {
     "name": "stderr",
     "output_type": "stream",
     "text": [
      " 53%|█████▎    | 3328/6300 [1:34:34<801:56:06, 971.39s/it, curr_speed=38.21 Mbps, mb_sent=1152.08 Mb]COMET ERROR: File could not be uploaded\n",
      "COMET ERROR: File could not be uploaded\n",
      " 65%|██████▌   | 4123/6300 [1:48:25<39:41,  1.09s/it, curr_speed=37.60 Mbps, mb_sent=1453.27 Mb]     COMET ERROR: File could not be uploaded\n",
      " 65%|██████▌   | 4124/6300 [1:48:26<39:30,  1.09s/it, curr_speed=37.60 Mbps, mb_sent=1453.62 Mb]COMET ERROR: File could not be uploaded\n",
      " 65%|██████▌   | 4126/6300 [1:48:28<41:22,  1.14s/it, curr_speed=37.51 Mbps, mb_sent=1454.33 Mb]COMET ERROR: File could not be uploaded\n",
      " 66%|██████▌   | 4127/6300 [1:48:30<42:21,  1.17s/it, curr_speed=37.52 Mbps, mb_sent=1454.72 Mb]COMET ERROR: File could not be uploaded\n",
      " 95%|█████████▌| 6008/6300 [2:26:59<06:39,  1.37s/it, curr_speed=37.92 Mbps, mb_sent=2161.48 Mb]COMET ERROR: File could not be uploaded\n",
      "COMET ERROR: File could not be uploaded\n",
      " 95%|█████████▌| 6013/6300 [2:27:06<06:34,  1.38s/it, curr_speed=37.98 Mbps, mb_sent=2163.40 Mb]COMET ERROR: File could not be uploaded\n",
      " 95%|█████████▌| 6016/6300 [2:27:12<06:17,  1.33s/it, curr_speed=37.98 Mbps, mb_sent=2164.95 Mb]COMET ERROR: File could not be uploaded\n",
      " 96%|█████████▌| 6019/6300 [2:27:15<06:32,  1.40s/it, curr_speed=37.99 Mbps, mb_sent=2165.71 Mb]COMET ERROR: File could not be uploaded\n",
      " 96%|█████████▌| 6021/6300 [2:27:18<06:50,  1.47s/it, curr_speed=38.07 Mbps, mb_sent=2166.51 Mb]COMET ERROR: File could not be uploaded\n",
      " 96%|█████████▌| 6025/6300 [2:27:24<06:43,  1.47s/it, curr_speed=38.10 Mbps, mb_sent=2168.10 Mb]COMET ERROR: File could not be uploaded\n",
      " 96%|█████████▌| 6026/6300 [2:27:25<07:05,  1.55s/it, curr_speed=38.13 Mbps, mb_sent=2168.50 Mb]COMET ERROR: File could not be uploaded\n",
      " 96%|█████████▌| 6033/6300 [2:27:36<06:24,  1.44s/it, curr_speed=38.21 Mbps, mb_sent=2171.16 Mb]COMET ERROR: File could not be uploaded\n",
      " 96%|█████████▌| 6036/6300 [2:27:40<07:00,  1.59s/it, curr_speed=38.12 Mbps, mb_sent=2172.23 Mb]COMET ERROR: File could not be uploaded\n",
      " 96%|█████████▌| 6039/6300 [2:27:45<06:33,  1.51s/it, curr_speed=38.12 Mbps, mb_sent=2173.36 Mb]COMET ERROR: File could not be uploaded\n",
      " 96%|█████████▌| 6047/6300 [2:27:57<07:15,  1.72s/it, curr_speed=38.00 Mbps, mb_sent=2176.29 Mb]COMET ERROR: File could not be uploaded\n",
      "COMET ERROR: File could not be uploaded\n",
      " 96%|█████████▌| 6049/6300 [2:28:01<07:49,  1.87s/it, curr_speed=37.95 Mbps, mb_sent=2177.07 Mb]COMET ERROR: File could not be uploaded\n",
      " 96%|█████████▌| 6051/6300 [2:28:05<07:08,  1.72s/it, curr_speed=37.92 Mbps, mb_sent=2177.82 Mb]COMET ERROR: File could not be uploaded\n",
      " 96%|█████████▌| 6057/6300 [2:28:13<05:48,  1.43s/it, curr_speed=37.80 Mbps, mb_sent=2179.99 Mb]COMET ERROR: File could not be uploaded\n",
      " 96%|█████████▌| 6063/6300 [2:28:22<06:17,  1.59s/it, curr_speed=37.86 Mbps, mb_sent=2182.32 Mb]COMET ERROR: File could not be uploaded\n",
      " 96%|█████████▋| 6064/6300 [2:28:24<06:15,  1.59s/it, curr_speed=37.89 Mbps, mb_sent=2182.72 Mb]COMET ERROR: File could not be uploaded\n",
      " 96%|█████████▋| 6076/6300 [2:28:42<05:26,  1.46s/it, curr_speed=37.96 Mbps, mb_sent=2187.35 Mb]COMET ERROR: File could not be uploaded\n",
      " 96%|█████████▋| 6079/6300 [2:28:46<05:14,  1.42s/it, curr_speed=37.98 Mbps, mb_sent=2188.47 Mb]COMET ERROR: File could not be uploaded\n",
      " 97%|█████████▋| 6081/6300 [2:28:49<05:11,  1.42s/it, curr_speed=37.88 Mbps, mb_sent=2189.23 Mb]COMET ERROR: File could not be uploaded\n",
      " 97%|█████████▋| 6087/6300 [2:28:58<05:03,  1.42s/it, curr_speed=37.81 Mbps, mb_sent=2191.47 Mb]COMET ERROR: File could not be uploaded\n",
      " 97%|█████████▋| 6104/6300 [2:29:21<04:30,  1.38s/it, curr_speed=38.08 Mbps, mb_sent=2198.08 Mb]COMET ERROR: File could not be uploaded\n",
      " 97%|█████████▋| 6106/6300 [2:29:24<04:30,  1.39s/it, curr_speed=38.02 Mbps, mb_sent=2198.77 Mb]COMET ERROR: File could not be uploaded\n",
      " 97%|█████████▋| 6113/6300 [2:29:34<04:12,  1.35s/it, curr_speed=38.01 Mbps, mb_sent=2201.41 Mb]COMET ERROR: File could not be uploaded\n",
      " 97%|█████████▋| 6124/6300 [2:29:48<03:42,  1.26s/it, curr_speed=37.88 Mbps, mb_sent=2205.57 Mb]COMET ERROR: File could not be uploaded\n",
      " 97%|█████████▋| 6129/6300 [2:29:56<04:19,  1.52s/it, curr_speed=37.79 Mbps, mb_sent=2207.44 Mb]COMET ERROR: File could not be uploaded\n",
      " 97%|█████████▋| 6133/6300 [2:30:02<04:09,  1.49s/it, curr_speed=37.80 Mbps, mb_sent=2208.96 Mb]COMET ERROR: File could not be uploaded\n",
      "100%|██████████| 6300/6300 [2:34:01<00:00,  1.47s/it, curr_speed=37.66 Mbps, mb_sent=2272.29 Mb]\n"
     ]
    },
    {
     "name": "stdout",
     "output_type": "stream",
     "text": [
      "Waiting for simulation script to connect on port: tcp://localhost:15255\n",
      "Please start proper ns-3 simulation script using ./waf --run \"...\"\n"
     ]
    },
    {
     "name": "stderr",
     "output_type": "stream",
     "text": [
      "COMET INFO: ----------------------------\n",
      "COMET INFO: Comet.ml Experiment Summary:\n",
      "COMET INFO:   Data:\n",
      "COMET INFO:     url: https://www.comet.com/sheila-janota/rl-in-wifi-with-queue-level/7e5888e01a9642e391711c89877b0861\n",
      "COMET INFO:   Metrics [count] (min, max):\n",
      "COMET INFO:     Chosen CW [89985]           : (16.0, 1024.0)\n",
      "COMET INFO:     Cumulative reward [15]      : (2576.907470703125, 3178.70166015625)\n",
      "COMET INFO:     Current throughput [89985]  : (19.267250061035156, 61.71112823486328)\n",
      "COMET INFO:     Fairness index [89985]      : (0.03957799822092056, 0.9989799857139587)\n",
      "COMET INFO:     Megabytes sent [89985]      : (0.3462519943714142, 2272.2871904969215)\n",
      "COMET INFO:     Observation 0 [89985]       : (0.12084139428411922, 0.9648085761070251)\n",
      "COMET INFO:     Observation 1 [89985]       : (0.0, 0.027358039444310266)\n",
      "COMET INFO:     Per-ep reward [89985]       : (99.7802734375, 3178.70166015625)\n",
      "COMET INFO:     Round megabytes sent [89985]: (0.022338999435305595, 11.82843017578125)\n",
      "COMET INFO:     Round reward [89985]        : (0.02978515625, 0.62548828125)\n",
      "COMET INFO:     Speed [15]                  : (31.992981222240875, 37.87145317494869)\n",
      "COMET INFO:     Station count [89985]       : (5.0, 30.0)\n",
      "COMET INFO:     loss [89985]                : (0.0, 0.14726785942912102)\n",
      "COMET INFO:   Uploads:\n",
      "COMET INFO:     histogram3d: 89985\n",
      "COMET INFO: ----------------------------\n"
     ]
    },
    {
     "name": "stdout",
     "output_type": "stream",
     "text": [
      "Sent 2272.29 Mb/s.\tMean speed: 37.87 Mb/s\tEpisode 15/15 finished\n",
      "\n"
     ]
    },
    {
     "name": "stderr",
     "output_type": "stream",
     "text": [
      "COMET INFO: Uploading stats to Comet before program termination (may take several seconds)\n"
     ]
    },
    {
     "name": "stdout",
     "output_type": "stream",
     "text": [
      "Training finished.\n"
     ]
    },
    {
     "data": {
      "text/plain": [
       "'logger = teacher.eval(agent,\\n                        simTime=simTime,\\n                        stepTime=stepTime,\\n                        history_length=history_length,\\n                        tags=tags,\\n                        parameters=hyperparams)\\n'"
      ]
     },
     "execution_count": 3,
     "metadata": {},
     "output_type": "execute_result"
    }
   ],
   "source": [
    "#%%\n",
    "teacher = Teacher(env, 1, Preprocessor(False))\n",
    "\n",
    "lr = 4e-4\n",
    "config = Config(buffer_size=3*steps_per_ep*threads_no, batch_size=32, gamma=0.7, tau=1e-3, lr=lr, update_every=1)\n",
    "agent = Agent(QNetworkTf, state_size=30, action_size=7, config=config)\n",
    "agent.set_epsilon(0.9, 0.001, EPISODE_COUNT-2)\n",
    "\n",
    "# Test the model\n",
    "hyperparams = {**config.__dict__, **sim_args}\n",
    "tags = [\"Rew: normalized speed\",\n",
    "        \"Final\",\n",
    "        f\"{Agent.NAME}\",\n",
    "        sim_args['scenario'],\n",
    "        f\"LR: {lr}\",\n",
    "        f\"Instances: {threads_no}\",\n",
    "        f\"Station count: {sim_args['nWifi']}\",\n",
    "        *[f\"{key}: {sim_args[key]}\" for key in list(sim_args)[:3]]]\n",
    "# # agent.save()\n",
    "logger = teacher.train(agent, EPISODE_COUNT,\n",
    "                        simTime=simTime,\n",
    "                        stepTime=stepTime,\n",
    "                        history_length=history_length,\n",
    "                        send_logs=True,\n",
    "                        experimental=True,\n",
    "                        tags=tags,\n",
    "                        parameters=hyperparams)\n",
    "'''logger = teacher.eval(agent,\n",
    "                        simTime=simTime,\n",
    "                        stepTime=stepTime,\n",
    "                        history_length=history_length,\n",
    "                        tags=tags,\n",
    "                        parameters=hyperparams)\n",
    "'''\n",
    "# agent.save()\n",
    "\n",
    "\n",
    "# %%"
   ]
  },
  {
   "cell_type": "markdown",
   "id": "477b263d",
   "metadata": {},
   "source": [
    "deu erro de porta dia 15/02"
   ]
  },
  {
   "cell_type": "markdown",
   "id": "57ea284f",
   "metadata": {},
   "source": [
    "# Execution num2:"
   ]
  },
  {
   "cell_type": "code",
   "execution_count": 1,
   "id": "52d92079",
   "metadata": {},
   "outputs": [
    {
     "name": "stderr",
     "output_type": "stream",
     "text": [
      "/home/sheila/anaconda3/envs/environment_py3_7/lib/python3.7/site-packages/tensorflow/python/framework/dtypes.py:516: FutureWarning: Passing (type, 1) or '1type' as a synonym of type is deprecated; in a future version of numpy, it will be understood as (type, (1,)) / '(1,)type'.\n",
      "  _np_qint8 = np.dtype([(\"qint8\", np.int8, 1)])\n",
      "/home/sheila/anaconda3/envs/environment_py3_7/lib/python3.7/site-packages/tensorflow/python/framework/dtypes.py:517: FutureWarning: Passing (type, 1) or '1type' as a synonym of type is deprecated; in a future version of numpy, it will be understood as (type, (1,)) / '(1,)type'.\n",
      "  _np_quint8 = np.dtype([(\"quint8\", np.uint8, 1)])\n",
      "/home/sheila/anaconda3/envs/environment_py3_7/lib/python3.7/site-packages/tensorflow/python/framework/dtypes.py:518: FutureWarning: Passing (type, 1) or '1type' as a synonym of type is deprecated; in a future version of numpy, it will be understood as (type, (1,)) / '(1,)type'.\n",
      "  _np_qint16 = np.dtype([(\"qint16\", np.int16, 1)])\n",
      "/home/sheila/anaconda3/envs/environment_py3_7/lib/python3.7/site-packages/tensorflow/python/framework/dtypes.py:519: FutureWarning: Passing (type, 1) or '1type' as a synonym of type is deprecated; in a future version of numpy, it will be understood as (type, (1,)) / '(1,)type'.\n",
      "  _np_quint16 = np.dtype([(\"quint16\", np.uint16, 1)])\n",
      "/home/sheila/anaconda3/envs/environment_py3_7/lib/python3.7/site-packages/tensorflow/python/framework/dtypes.py:520: FutureWarning: Passing (type, 1) or '1type' as a synonym of type is deprecated; in a future version of numpy, it will be understood as (type, (1,)) / '(1,)type'.\n",
      "  _np_qint32 = np.dtype([(\"qint32\", np.int32, 1)])\n",
      "/home/sheila/anaconda3/envs/environment_py3_7/lib/python3.7/site-packages/tensorflow/python/framework/dtypes.py:525: FutureWarning: Passing (type, 1) or '1type' as a synonym of type is deprecated; in a future version of numpy, it will be understood as (type, (1,)) / '(1,)type'.\n",
      "  np_resource = np.dtype([(\"resource\", np.ubyte, 1)])\n",
      "/home/sheila/anaconda3/envs/environment_py3_7/lib/python3.7/site-packages/tensorboard/compat/tensorflow_stub/dtypes.py:541: FutureWarning: Passing (type, 1) or '1type' as a synonym of type is deprecated; in a future version of numpy, it will be understood as (type, (1,)) / '(1,)type'.\n",
      "  _np_qint8 = np.dtype([(\"qint8\", np.int8, 1)])\n",
      "/home/sheila/anaconda3/envs/environment_py3_7/lib/python3.7/site-packages/tensorboard/compat/tensorflow_stub/dtypes.py:542: FutureWarning: Passing (type, 1) or '1type' as a synonym of type is deprecated; in a future version of numpy, it will be understood as (type, (1,)) / '(1,)type'.\n",
      "  _np_quint8 = np.dtype([(\"quint8\", np.uint8, 1)])\n",
      "/home/sheila/anaconda3/envs/environment_py3_7/lib/python3.7/site-packages/tensorboard/compat/tensorflow_stub/dtypes.py:543: FutureWarning: Passing (type, 1) or '1type' as a synonym of type is deprecated; in a future version of numpy, it will be understood as (type, (1,)) / '(1,)type'.\n",
      "  _np_qint16 = np.dtype([(\"qint16\", np.int16, 1)])\n",
      "/home/sheila/anaconda3/envs/environment_py3_7/lib/python3.7/site-packages/tensorboard/compat/tensorflow_stub/dtypes.py:544: FutureWarning: Passing (type, 1) or '1type' as a synonym of type is deprecated; in a future version of numpy, it will be understood as (type, (1,)) / '(1,)type'.\n",
      "  _np_quint16 = np.dtype([(\"quint16\", np.uint16, 1)])\n",
      "/home/sheila/anaconda3/envs/environment_py3_7/lib/python3.7/site-packages/tensorboard/compat/tensorflow_stub/dtypes.py:545: FutureWarning: Passing (type, 1) or '1type' as a synonym of type is deprecated; in a future version of numpy, it will be understood as (type, (1,)) / '(1,)type'.\n",
      "  _np_qint32 = np.dtype([(\"qint32\", np.int32, 1)])\n",
      "/home/sheila/anaconda3/envs/environment_py3_7/lib/python3.7/site-packages/tensorboard/compat/tensorflow_stub/dtypes.py:550: FutureWarning: Passing (type, 1) or '1type' as a synonym of type is deprecated; in a future version of numpy, it will be understood as (type, (1,)) / '(1,)type'.\n",
      "  np_resource = np.dtype([(\"resource\", np.ubyte, 1)])\n"
     ]
    }
   ],
   "source": [
    "#%%\n",
    "from ns3gym import ns3env\n",
    "from comet_ml import Experiment, Optimizer\n",
    "import tqdm\n",
    "import subprocess\n",
    "from collections import deque\n",
    "import numpy as np\n",
    "\n",
    "from agents.dqn.agent import Agent, Config\n",
    "from agents.dqn.model import QNetworkTf\n",
    "from agents.teacher import Teacher, EnvWrapper\n",
    "from preprocessor import Preprocessor"
   ]
  },
  {
   "cell_type": "code",
   "execution_count": 2,
   "id": "7927c27d",
   "metadata": {},
   "outputs": [
    {
     "name": "stdout",
     "output_type": "stream",
     "text": [
      "Steps per episode: 6000\n",
      "Waiting for simulation script to connect on port: tcp://localhost:16967\n",
      "Please start proper ns-3 simulation script using ./waf --run \"...\"\n",
      "40.343994|0|5|-nan\n",
      "Observation space shape: (1, 300)\n",
      "Action space shape: (1, 1)\n"
     ]
    }
   ],
   "source": [
    "#%%\n",
    "scenario = \"convergence\"\n",
    "\n",
    "simTime = 60 # seconds\n",
    "stepTime = 0.01  # seconds\n",
    "history_length = 300\n",
    "\n",
    "EPISODE_COUNT = 15\n",
    "steps_per_ep = int(simTime/stepTime)\n",
    "\n",
    "sim_args = {\n",
    "    \"simTime\": simTime,\n",
    "    \"envStepTime\": stepTime,\n",
    "    \"historyLength\": history_length,\n",
    "    \"agentType\": Agent.TYPE,\n",
    "    \"scenario\": \"convergence\",\n",
    "    \"nWifi\": 30,\n",
    "}\n",
    "\n",
    "print(\"Steps per episode:\", steps_per_ep)\n",
    "\n",
    "threads_no = 1\n",
    "env = EnvWrapper(threads_no, **sim_args)\n",
    "\n",
    "#%%\n",
    "env.reset()\n",
    "ob_space = env.observation_space\n",
    "ac_space = env.action_space\n",
    "\n",
    "print(\"Observation space shape:\", ob_space)\n",
    "print(\"Action space shape:\", ac_space)\n",
    "\n",
    "assert ob_space is not None"
   ]
  },
  {
   "cell_type": "code",
   "execution_count": 3,
   "id": "b2724b1f",
   "metadata": {},
   "outputs": [
    {
     "name": "stdout",
     "output_type": "stream",
     "text": [
      "WARNING:tensorflow:From /home/sheila/repos/ns-3-allinone/ns-3.29/scratch/RLinWiFi-master-original-queue-level-mean/agents/dqn/agent.py:53: The name tf.Session is deprecated. Please use tf.compat.v1.Session instead.\n",
      "\n",
      "WARNING:tensorflow:From /home/sheila/repos/ns-3-allinone/ns-3.29/scratch/RLinWiFi-master-original-queue-level-mean/agents/dqn/model.py:25: The name tf.variable_scope is deprecated. Please use tf.compat.v1.variable_scope instead.\n",
      "\n",
      "WARNING:tensorflow:From /home/sheila/repos/ns-3-allinone/ns-3.29/scratch/RLinWiFi-master-original-queue-level-mean/agents/dqn/model.py:26: The name tf.placeholder is deprecated. Please use tf.compat.v1.placeholder instead.\n",
      "\n",
      "WARNING:tensorflow:\n",
      "The TensorFlow contrib module will not be included in TensorFlow 2.0.\n",
      "For more information, please see:\n",
      "  * https://github.com/tensorflow/community/blob/master/rfcs/20180907-contrib-sunset.md\n",
      "  * https://github.com/tensorflow/addons\n",
      "  * https://github.com/tensorflow/io (for I/O related ops)\n",
      "If you depend on functionality not listed there, please file an issue.\n",
      "\n",
      "WARNING:tensorflow:From /home/sheila/repos/ns-3-allinone/ns-3.29/scratch/RLinWiFi-master-original-queue-level-mean/agents/dqn/model.py:52: LSTMCell.__init__ (from tensorflow.python.ops.rnn_cell_impl) is deprecated and will be removed in a future version.\n",
      "Instructions for updating:\n",
      "This class is equivalent as tf.keras.layers.LSTMCell, and will be replaced by that in Tensorflow 2.0.\n",
      "WARNING:tensorflow:From /home/sheila/repos/ns-3-allinone/ns-3.29/scratch/RLinWiFi-master-original-queue-level-mean/agents/dqn/model.py:52: static_rnn (from tensorflow.python.ops.rnn) is deprecated and will be removed in a future version.\n",
      "Instructions for updating:\n",
      "Please use `keras.layers.RNN(cell, unroll=True)`, which is equivalent to this API\n",
      "WARNING:tensorflow:From /home/sheila/anaconda3/envs/environment_py3_7/lib/python3.7/site-packages/tensorflow/python/ops/init_ops.py:1251: calling VarianceScaling.__init__ (from tensorflow.python.ops.init_ops) with dtype is deprecated and will be removed in a future version.\n",
      "Instructions for updating:\n",
      "Call initializer instance with the dtype argument instead of passing it to the constructor\n",
      "WARNING:tensorflow:From /home/sheila/anaconda3/envs/environment_py3_7/lib/python3.7/site-packages/tensorflow/python/ops/rnn_cell_impl.py:961: calling Zeros.__init__ (from tensorflow.python.ops.init_ops) with dtype is deprecated and will be removed in a future version.\n",
      "Instructions for updating:\n",
      "Call initializer instance with the dtype argument instead of passing it to the constructor\n",
      "WARNING:tensorflow:Entity <bound method LSTMCell.call of <tensorflow.python.ops.rnn_cell_impl.LSTMCell object at 0x7ff1986cfe10>> could not be transformed and will be executed as-is. Please report this to the AutgoGraph team. When filing the bug, set the verbosity to 10 (on Linux, `export AUTOGRAPH_VERBOSITY=10`) and attach the full output. Cause: converting <bound method LSTMCell.call of <tensorflow.python.ops.rnn_cell_impl.LSTMCell object at 0x7ff1986cfe10>>: AttributeError: module 'gast' has no attribute 'Index'\n",
      "WARNING: Entity <bound method LSTMCell.call of <tensorflow.python.ops.rnn_cell_impl.LSTMCell object at 0x7ff1986cfe10>> could not be transformed and will be executed as-is. Please report this to the AutgoGraph team. When filing the bug, set the verbosity to 10 (on Linux, `export AUTOGRAPH_VERBOSITY=10`) and attach the full output. Cause: converting <bound method LSTMCell.call of <tensorflow.python.ops.rnn_cell_impl.LSTMCell object at 0x7ff1986cfe10>>: AttributeError: module 'gast' has no attribute 'Index'\n",
      "WARNING:tensorflow:Entity <bound method LSTMCell.call of <tensorflow.python.ops.rnn_cell_impl.LSTMCell object at 0x7ff1986cfe10>> could not be transformed and will be executed as-is. Please report this to the AutgoGraph team. When filing the bug, set the verbosity to 10 (on Linux, `export AUTOGRAPH_VERBOSITY=10`) and attach the full output. Cause: converting <bound method LSTMCell.call of <tensorflow.python.ops.rnn_cell_impl.LSTMCell object at 0x7ff1986cfe10>>: AttributeError: module 'gast' has no attribute 'Index'\n",
      "WARNING: Entity <bound method LSTMCell.call of <tensorflow.python.ops.rnn_cell_impl.LSTMCell object at 0x7ff1986cfe10>> could not be transformed and will be executed as-is. Please report this to the AutgoGraph team. When filing the bug, set the verbosity to 10 (on Linux, `export AUTOGRAPH_VERBOSITY=10`) and attach the full output. Cause: converting <bound method LSTMCell.call of <tensorflow.python.ops.rnn_cell_impl.LSTMCell object at 0x7ff1986cfe10>>: AttributeError: module 'gast' has no attribute 'Index'\n",
      "WARNING:tensorflow:Entity <bound method LSTMCell.call of <tensorflow.python.ops.rnn_cell_impl.LSTMCell object at 0x7ff1986cfe10>> could not be transformed and will be executed as-is. Please report this to the AutgoGraph team. When filing the bug, set the verbosity to 10 (on Linux, `export AUTOGRAPH_VERBOSITY=10`) and attach the full output. Cause: converting <bound method LSTMCell.call of <tensorflow.python.ops.rnn_cell_impl.LSTMCell object at 0x7ff1986cfe10>>: AttributeError: module 'gast' has no attribute 'Index'\n",
      "WARNING: Entity <bound method LSTMCell.call of <tensorflow.python.ops.rnn_cell_impl.LSTMCell object at 0x7ff1986cfe10>> could not be transformed and will be executed as-is. Please report this to the AutgoGraph team. When filing the bug, set the verbosity to 10 (on Linux, `export AUTOGRAPH_VERBOSITY=10`) and attach the full output. Cause: converting <bound method LSTMCell.call of <tensorflow.python.ops.rnn_cell_impl.LSTMCell object at 0x7ff1986cfe10>>: AttributeError: module 'gast' has no attribute 'Index'\n",
      "WARNING:tensorflow:Entity <bound method LSTMCell.call of <tensorflow.python.ops.rnn_cell_impl.LSTMCell object at 0x7ff1986cfe10>> could not be transformed and will be executed as-is. Please report this to the AutgoGraph team. When filing the bug, set the verbosity to 10 (on Linux, `export AUTOGRAPH_VERBOSITY=10`) and attach the full output. Cause: converting <bound method LSTMCell.call of <tensorflow.python.ops.rnn_cell_impl.LSTMCell object at 0x7ff1986cfe10>>: AttributeError: module 'gast' has no attribute 'Index'\n",
      "WARNING: Entity <bound method LSTMCell.call of <tensorflow.python.ops.rnn_cell_impl.LSTMCell object at 0x7ff1986cfe10>> could not be transformed and will be executed as-is. Please report this to the AutgoGraph team. When filing the bug, set the verbosity to 10 (on Linux, `export AUTOGRAPH_VERBOSITY=10`) and attach the full output. Cause: converting <bound method LSTMCell.call of <tensorflow.python.ops.rnn_cell_impl.LSTMCell object at 0x7ff1986cfe10>>: AttributeError: module 'gast' has no attribute 'Index'\n",
      "WARNING:tensorflow:From /home/sheila/repos/ns-3-allinone/ns-3.29/scratch/RLinWiFi-master-original-queue-level-mean/agents/dqn/model.py:53: dense (from tensorflow.python.layers.core) is deprecated and will be removed in a future version.\n",
      "Instructions for updating:\n",
      "Use keras.layers.dense instead.\n",
      "WARNING:tensorflow:Entity <bound method Dense.call of <tensorflow.python.layers.core.Dense object at 0x7ff1986cfe10>> could not be transformed and will be executed as-is. Please report this to the AutgoGraph team. When filing the bug, set the verbosity to 10 (on Linux, `export AUTOGRAPH_VERBOSITY=10`) and attach the full output. Cause: converting <bound method Dense.call of <tensorflow.python.layers.core.Dense object at 0x7ff1986cfe10>>: AttributeError: module 'gast' has no attribute 'Index'\n",
      "WARNING: Entity <bound method Dense.call of <tensorflow.python.layers.core.Dense object at 0x7ff1986cfe10>> could not be transformed and will be executed as-is. Please report this to the AutgoGraph team. When filing the bug, set the verbosity to 10 (on Linux, `export AUTOGRAPH_VERBOSITY=10`) and attach the full output. Cause: converting <bound method Dense.call of <tensorflow.python.layers.core.Dense object at 0x7ff1986cfe10>>: AttributeError: module 'gast' has no attribute 'Index'\n",
      "WARNING:tensorflow:Entity <bound method Dense.call of <tensorflow.python.layers.core.Dense object at 0x7ff1986cfe10>> could not be transformed and will be executed as-is. Please report this to the AutgoGraph team. When filing the bug, set the verbosity to 10 (on Linux, `export AUTOGRAPH_VERBOSITY=10`) and attach the full output. Cause: converting <bound method Dense.call of <tensorflow.python.layers.core.Dense object at 0x7ff1986cfe10>>: AttributeError: module 'gast' has no attribute 'Index'\n"
     ]
    },
    {
     "name": "stdout",
     "output_type": "stream",
     "text": [
      "WARNING: Entity <bound method Dense.call of <tensorflow.python.layers.core.Dense object at 0x7ff1986cfe10>> could not be transformed and will be executed as-is. Please report this to the AutgoGraph team. When filing the bug, set the verbosity to 10 (on Linux, `export AUTOGRAPH_VERBOSITY=10`) and attach the full output. Cause: converting <bound method Dense.call of <tensorflow.python.layers.core.Dense object at 0x7ff1986cfe10>>: AttributeError: module 'gast' has no attribute 'Index'\n",
      "WARNING:tensorflow:Entity <bound method Dense.call of <tensorflow.python.layers.core.Dense object at 0x7ff1986cfe10>> could not be transformed and will be executed as-is. Please report this to the AutgoGraph team. When filing the bug, set the verbosity to 10 (on Linux, `export AUTOGRAPH_VERBOSITY=10`) and attach the full output. Cause: converting <bound method Dense.call of <tensorflow.python.layers.core.Dense object at 0x7ff1986cfe10>>: AttributeError: module 'gast' has no attribute 'Index'\n",
      "WARNING: Entity <bound method Dense.call of <tensorflow.python.layers.core.Dense object at 0x7ff1986cfe10>> could not be transformed and will be executed as-is. Please report this to the AutgoGraph team. When filing the bug, set the verbosity to 10 (on Linux, `export AUTOGRAPH_VERBOSITY=10`) and attach the full output. Cause: converting <bound method Dense.call of <tensorflow.python.layers.core.Dense object at 0x7ff1986cfe10>>: AttributeError: module 'gast' has no attribute 'Index'\n",
      "WARNING:tensorflow:From /home/sheila/repos/ns-3-allinone/ns-3.29/scratch/RLinWiFi-master-original-queue-level-mean/agents/dqn/model.py:69: The name tf.losses.mean_squared_error is deprecated. Please use tf.compat.v1.losses.mean_squared_error instead.\n",
      "\n",
      "WARNING:tensorflow:From /home/sheila/anaconda3/envs/environment_py3_7/lib/python3.7/site-packages/tensorflow/python/ops/losses/losses_impl.py:121: add_dispatch_support.<locals>.wrapper (from tensorflow.python.ops.array_ops) is deprecated and will be removed in a future version.\n",
      "Instructions for updating:\n",
      "Use tf.where in 2.0, which has the same broadcast rule as np.where\n",
      "WARNING:tensorflow:From /home/sheila/repos/ns-3-allinone/ns-3.29/scratch/RLinWiFi-master-original-queue-level-mean/agents/dqn/model.py:77: The name tf.train.AdamOptimizer is deprecated. Please use tf.compat.v1.train.AdamOptimizer instead.\n",
      "\n",
      "WARNING:tensorflow:From /home/sheila/repos/ns-3-allinone/ns-3.29/scratch/RLinWiFi-master-original-queue-level-mean/agents/dqn/model.py:33: The name tf.global_variables_initializer is deprecated. Please use tf.compat.v1.global_variables_initializer instead.\n",
      "\n",
      "WARNING:tensorflow:From /home/sheila/repos/ns-3-allinone/ns-3.29/scratch/RLinWiFi-master-original-queue-level-mean/agents/dqn/model.py:34: The name tf.local_variables_initializer is deprecated. Please use tf.compat.v1.local_variables_initializer instead.\n",
      "\n",
      "WARNING:tensorflow:Entity <bound method LSTMCell.call of <tensorflow.python.ops.rnn_cell_impl.LSTMCell object at 0x7ff12db16510>> could not be transformed and will be executed as-is. Please report this to the AutgoGraph team. When filing the bug, set the verbosity to 10 (on Linux, `export AUTOGRAPH_VERBOSITY=10`) and attach the full output. Cause: converting <bound method LSTMCell.call of <tensorflow.python.ops.rnn_cell_impl.LSTMCell object at 0x7ff12db16510>>: AttributeError: module 'gast' has no attribute 'Index'\n",
      "WARNING: Entity <bound method LSTMCell.call of <tensorflow.python.ops.rnn_cell_impl.LSTMCell object at 0x7ff12db16510>> could not be transformed and will be executed as-is. Please report this to the AutgoGraph team. When filing the bug, set the verbosity to 10 (on Linux, `export AUTOGRAPH_VERBOSITY=10`) and attach the full output. Cause: converting <bound method LSTMCell.call of <tensorflow.python.ops.rnn_cell_impl.LSTMCell object at 0x7ff12db16510>>: AttributeError: module 'gast' has no attribute 'Index'\n",
      "WARNING:tensorflow:Entity <bound method LSTMCell.call of <tensorflow.python.ops.rnn_cell_impl.LSTMCell object at 0x7ff12db16510>> could not be transformed and will be executed as-is. Please report this to the AutgoGraph team. When filing the bug, set the verbosity to 10 (on Linux, `export AUTOGRAPH_VERBOSITY=10`) and attach the full output. Cause: converting <bound method LSTMCell.call of <tensorflow.python.ops.rnn_cell_impl.LSTMCell object at 0x7ff12db16510>>: AttributeError: module 'gast' has no attribute 'Index'\n",
      "WARNING: Entity <bound method LSTMCell.call of <tensorflow.python.ops.rnn_cell_impl.LSTMCell object at 0x7ff12db16510>> could not be transformed and will be executed as-is. Please report this to the AutgoGraph team. When filing the bug, set the verbosity to 10 (on Linux, `export AUTOGRAPH_VERBOSITY=10`) and attach the full output. Cause: converting <bound method LSTMCell.call of <tensorflow.python.ops.rnn_cell_impl.LSTMCell object at 0x7ff12db16510>>: AttributeError: module 'gast' has no attribute 'Index'\n",
      "WARNING:tensorflow:Entity <bound method LSTMCell.call of <tensorflow.python.ops.rnn_cell_impl.LSTMCell object at 0x7ff12db16510>> could not be transformed and will be executed as-is. Please report this to the AutgoGraph team. When filing the bug, set the verbosity to 10 (on Linux, `export AUTOGRAPH_VERBOSITY=10`) and attach the full output. Cause: converting <bound method LSTMCell.call of <tensorflow.python.ops.rnn_cell_impl.LSTMCell object at 0x7ff12db16510>>: AttributeError: module 'gast' has no attribute 'Index'\n",
      "WARNING: Entity <bound method LSTMCell.call of <tensorflow.python.ops.rnn_cell_impl.LSTMCell object at 0x7ff12db16510>> could not be transformed and will be executed as-is. Please report this to the AutgoGraph team. When filing the bug, set the verbosity to 10 (on Linux, `export AUTOGRAPH_VERBOSITY=10`) and attach the full output. Cause: converting <bound method LSTMCell.call of <tensorflow.python.ops.rnn_cell_impl.LSTMCell object at 0x7ff12db16510>>: AttributeError: module 'gast' has no attribute 'Index'\n",
      "WARNING:tensorflow:Entity <bound method LSTMCell.call of <tensorflow.python.ops.rnn_cell_impl.LSTMCell object at 0x7ff12db16510>> could not be transformed and will be executed as-is. Please report this to the AutgoGraph team. When filing the bug, set the verbosity to 10 (on Linux, `export AUTOGRAPH_VERBOSITY=10`) and attach the full output. Cause: converting <bound method LSTMCell.call of <tensorflow.python.ops.rnn_cell_impl.LSTMCell object at 0x7ff12db16510>>: AttributeError: module 'gast' has no attribute 'Index'\n",
      "WARNING: Entity <bound method LSTMCell.call of <tensorflow.python.ops.rnn_cell_impl.LSTMCell object at 0x7ff12db16510>> could not be transformed and will be executed as-is. Please report this to the AutgoGraph team. When filing the bug, set the verbosity to 10 (on Linux, `export AUTOGRAPH_VERBOSITY=10`) and attach the full output. Cause: converting <bound method LSTMCell.call of <tensorflow.python.ops.rnn_cell_impl.LSTMCell object at 0x7ff12db16510>>: AttributeError: module 'gast' has no attribute 'Index'\n",
      "WARNING:tensorflow:Entity <bound method Dense.call of <tensorflow.python.layers.core.Dense object at 0x7ff12d820e90>> could not be transformed and will be executed as-is. Please report this to the AutgoGraph team. When filing the bug, set the verbosity to 10 (on Linux, `export AUTOGRAPH_VERBOSITY=10`) and attach the full output. Cause: converting <bound method Dense.call of <tensorflow.python.layers.core.Dense object at 0x7ff12d820e90>>: AttributeError: module 'gast' has no attribute 'Index'\n",
      "WARNING: Entity <bound method Dense.call of <tensorflow.python.layers.core.Dense object at 0x7ff12d820e90>> could not be transformed and will be executed as-is. Please report this to the AutgoGraph team. When filing the bug, set the verbosity to 10 (on Linux, `export AUTOGRAPH_VERBOSITY=10`) and attach the full output. Cause: converting <bound method Dense.call of <tensorflow.python.layers.core.Dense object at 0x7ff12d820e90>>: AttributeError: module 'gast' has no attribute 'Index'\n",
      "WARNING:tensorflow:Entity <bound method Dense.call of <tensorflow.python.layers.core.Dense object at 0x7ff12d820e90>> could not be transformed and will be executed as-is. Please report this to the AutgoGraph team. When filing the bug, set the verbosity to 10 (on Linux, `export AUTOGRAPH_VERBOSITY=10`) and attach the full output. Cause: converting <bound method Dense.call of <tensorflow.python.layers.core.Dense object at 0x7ff12d820e90>>: AttributeError: module 'gast' has no attribute 'Index'\n"
     ]
    },
    {
     "name": "stdout",
     "output_type": "stream",
     "text": [
      "WARNING: Entity <bound method Dense.call of <tensorflow.python.layers.core.Dense object at 0x7ff12d820e90>> could not be transformed and will be executed as-is. Please report this to the AutgoGraph team. When filing the bug, set the verbosity to 10 (on Linux, `export AUTOGRAPH_VERBOSITY=10`) and attach the full output. Cause: converting <bound method Dense.call of <tensorflow.python.layers.core.Dense object at 0x7ff12d820e90>>: AttributeError: module 'gast' has no attribute 'Index'\n",
      "WARNING:tensorflow:Entity <bound method Dense.call of <tensorflow.python.layers.core.Dense object at 0x7ff12d820e90>> could not be transformed and will be executed as-is. Please report this to the AutgoGraph team. When filing the bug, set the verbosity to 10 (on Linux, `export AUTOGRAPH_VERBOSITY=10`) and attach the full output. Cause: converting <bound method Dense.call of <tensorflow.python.layers.core.Dense object at 0x7ff12d820e90>>: AttributeError: module 'gast' has no attribute 'Index'\n",
      "WARNING: Entity <bound method Dense.call of <tensorflow.python.layers.core.Dense object at 0x7ff12d820e90>> could not be transformed and will be executed as-is. Please report this to the AutgoGraph team. When filing the bug, set the verbosity to 10 (on Linux, `export AUTOGRAPH_VERBOSITY=10`) and attach the full output. Cause: converting <bound method Dense.call of <tensorflow.python.layers.core.Dense object at 0x7ff12d820e90>>: AttributeError: module 'gast' has no attribute 'Index'\n",
      "WARNING:tensorflow:From /home/sheila/repos/ns-3-allinone/ns-3.29/scratch/RLinWiFi-master-original-queue-level-mean/agents/dqn/agent.py:77: The name tf.train.Saver is deprecated. Please use tf.compat.v1.train.Saver instead.\n",
      "\n",
      "Action space: 7\n",
      "WARNING:tensorflow:From /home/sheila/repos/ns-3-allinone/ns-3.29/scratch/RLinWiFi-master-original-queue-level-mean/agents/dqn/agent.py:107: Variable.load (from tensorflow.python.ops.variables) is deprecated and will be removed in a future version.\n",
      "Instructions for updating:\n",
      "Prefer Variable.assign which has equivalent behavior in 2.X.\n"
     ]
    },
    {
     "name": "stderr",
     "output_type": "stream",
     "text": [
      "COMET INFO: Experiment is live on comet.ml https://www.comet.com/sheila-janota/rl-in-wifi-with-queue-level/75ea4720224e4821ab42a360683a5c25\n",
      "\n"
     ]
    },
    {
     "name": "stdout",
     "output_type": "stream",
     "text": [
      "0\n",
      "40.343994|0|5|-nan\n"
     ]
    },
    {
     "name": "stderr",
     "output_type": "stream",
     "text": [
      "  5%|▌         | 333/6300 [01:28<25:25,  3.91it/s, curr_speed=24.26 Mbps, mb_sent=7.76 Mb]"
     ]
    },
    {
     "name": "stdout",
     "output_type": "stream",
     "text": [
      "------- STARTED TRAINING -------\n"
     ]
    },
    {
     "name": "stderr",
     "output_type": "stream",
     "text": [
      "  5%|▌         | 339/6300 [01:30<28:17,  3.51it/s, curr_speed=24.63 Mbps, mb_sent=9.36 Mb]COMET ERROR: File could not be uploaded\n",
      "  5%|▌         | 340/6300 [01:31<29:04,  3.42it/s, curr_speed=24.92 Mbps, mb_sent=9.72 Mb]COMET ERROR: File could not be uploaded\n",
      "  6%|▌         | 359/6300 [01:36<28:17,  3.50it/s, curr_speed=25.98 Mbps, mb_sent=15.07 Mb]COMET ERROR: File could not be uploaded\n",
      "  6%|▌         | 360/6300 [01:37<30:42,  3.22it/s, curr_speed=26.16 Mbps, mb_sent=15.44 Mb]COMET ERROR: File could not be uploaded\n",
      "  6%|▌         | 361/6300 [01:37<27:52,  3.55it/s, curr_speed=25.99 Mbps, mb_sent=15.59 Mb]COMET ERROR: File could not be uploaded\n",
      "  6%|▌         | 362/6300 [01:37<27:44,  3.57it/s, curr_speed=26.06 Mbps, mb_sent=15.89 Mb]COMET ERROR: File could not be uploaded\n",
      "  6%|▌         | 363/6300 [01:37<25:21,  3.90it/s, curr_speed=25.85 Mbps, mb_sent=16.03 Mb]COMET ERROR: File could not be uploaded\n",
      "  6%|▌         | 364/6300 [01:38<26:25,  3.74it/s, curr_speed=26.01 Mbps, mb_sent=16.39 Mb]COMET ERROR: File could not be uploaded\n",
      "  6%|▌         | 365/6300 [01:38<24:17,  4.07it/s, curr_speed=25.81 Mbps, mb_sent=16.52 Mb]COMET ERROR: File could not be uploaded\n",
      "  6%|▌         | 366/6300 [01:38<27:03,  3.65it/s, curr_speed=26.00 Mbps, mb_sent=16.90 Mb]COMET ERROR: File could not be uploaded\n",
      " 55%|█████▌    | 3487/6300 [25:35<37:53,  1.24it/s, curr_speed=31.13 Mbps, mb_sent=1005.84 Mb]COMET ERROR: File could not be uploaded\n",
      "COMET ERROR: File could not be uploaded\n",
      " 55%|█████▌    | 3491/6300 [25:37<30:08,  1.55it/s, curr_speed=32.72 Mbps, mb_sent=1008.54 Mb]COMET ERROR: File could not be uploaded\n",
      " 55%|█████▌    | 3492/6300 [25:38<29:50,  1.57it/s, curr_speed=32.70 Mbps, mb_sent=1008.92 Mb]COMET ERROR: File could not be uploaded\n",
      " 56%|█████▌    | 3516/6300 [25:53<29:31,  1.57it/s, curr_speed=33.02 Mbps, mb_sent=1016.63 Mb]COMET ERROR: File could not be uploaded\n",
      " 56%|█████▌    | 3534/6300 [26:04<30:09,  1.53it/s, curr_speed=32.92 Mbps, mb_sent=1022.03 Mb]COMET ERROR: File could not be uploaded\n",
      "COMET ERROR: File could not be uploaded\n",
      "COMET ERROR: File could not be uploaded\n",
      "COMET ERROR: File could not be uploaded\n",
      "COMET ERROR: File could not be uploaded\n",
      "COMET ERROR: File could not be uploaded\n",
      "COMET ERROR: File could not be uploaded\n",
      " 56%|█████▋    | 3545/6300 [26:11<27:29,  1.67it/s, curr_speed=33.05 Mbps, mb_sent=1025.69 Mb]COMET ERROR: File could not be uploaded\n",
      " 56%|█████▋    | 3550/6300 [26:14<27:55,  1.64it/s, curr_speed=33.22 Mbps, mb_sent=1027.36 Mb]COMET ERROR: File could not be uploaded\n",
      " 56%|█████▋    | 3554/6300 [26:17<27:22,  1.67it/s, curr_speed=33.02 Mbps, mb_sent=1028.53 Mb]COMET ERROR: File could not be uploaded\n",
      " 57%|█████▋    | 3573/6300 [26:28<25:11,  1.80it/s, curr_speed=33.27 Mbps, mb_sent=1034.80 Mb]COMET ERROR: File could not be uploaded\n",
      " 57%|█████▋    | 3582/6300 [26:33<26:31,  1.71it/s, curr_speed=33.66 Mbps, mb_sent=1038.00 Mb]COMET ERROR: File could not be uploaded\n",
      "COMET ERROR: File could not be uploaded\n",
      " 57%|█████▋    | 3584/6300 [26:35<30:08,  1.50it/s, curr_speed=33.62 Mbps, mb_sent=1038.59 Mb]COMET ERROR: File could not be uploaded\n",
      " 57%|█████▋    | 3595/6300 [26:41<26:37,  1.69it/s, curr_speed=32.72 Mbps, mb_sent=1042.55 Mb]COMET ERROR: File could not be uploaded\n",
      " 57%|█████▋    | 3601/6300 [26:45<25:59,  1.73it/s, curr_speed=32.48 Mbps, mb_sent=1044.38 Mb]COMET ERROR: File could not be uploaded\n",
      " 57%|█████▋    | 3605/6300 [26:47<31:05,  1.44it/s, curr_speed=32.67 Mbps, mb_sent=1045.82 Mb]COMET ERROR: File could not be uploaded\n",
      " 57%|█████▋    | 3609/6300 [26:50<28:39,  1.57it/s, curr_speed=32.26 Mbps, mb_sent=1046.75 Mb]COMET ERROR: File could not be uploaded\n",
      " 57%|█████▋    | 3611/6300 [26:51<28:27,  1.58it/s, curr_speed=32.26 Mbps, mb_sent=1047.36 Mb]COMET ERROR: File could not be uploaded\n",
      " 58%|█████▊    | 3633/6300 [27:04<24:39,  1.80it/s, curr_speed=31.90 Mbps, mb_sent=1053.78 Mb]COMET ERROR: File could not be uploaded\n",
      "COMET ERROR: File could not be uploaded\n",
      "COMET ERROR: File could not be uploaded\n",
      " 58%|█████▊    | 3653/6300 [27:17<28:34,  1.54it/s, curr_speed=32.21 Mbps, mb_sent=1060.36 Mb]COMET ERROR: File could not be uploaded\n",
      "COMET ERROR: File could not be uploaded\n",
      "COMET ERROR: File could not be uploaded\n",
      " 58%|█████▊    | 3654/6300 [27:18<29:09,  1.51it/s, curr_speed=32.06 Mbps, mb_sent=1060.58 Mb]COMET ERROR: File could not be uploaded\n",
      " 58%|█████▊    | 3655/6300 [27:18<28:30,  1.55it/s, curr_speed=31.87 Mbps, mb_sent=1060.82 Mb]COMET ERROR: File could not be uploaded\n",
      " 58%|█████▊    | 3666/6300 [27:25<27:43,  1.58it/s, curr_speed=31.78 Mbps, mb_sent=1064.28 Mb]COMET ERROR: File could not be uploaded\n",
      " 58%|█████▊    | 3667/6300 [27:26<30:47,  1.43it/s, curr_speed=31.72 Mbps, mb_sent=1064.63 Mb]COMET ERROR: File could not be uploaded\n",
      " 58%|█████▊    | 3684/6300 [27:38<29:41,  1.47it/s, curr_speed=31.55 Mbps, mb_sent=1070.14 Mb]COMET ERROR: File could not be uploaded\n",
      "COMET ERROR: File could not be uploaded\n",
      "COMET ERROR: File could not be uploaded\n",
      "COMET ERROR: File could not be uploaded\n",
      " 59%|█████▊    | 3689/6300 [27:41<28:14,  1.54it/s, curr_speed=31.24 Mbps, mb_sent=1071.64 Mb]COMET ERROR: File could not be uploaded\n",
      " 59%|█████▊    | 3693/6300 [27:43<27:43,  1.57it/s, curr_speed=31.19 Mbps, mb_sent=1072.97 Mb]COMET ERROR: File could not be uploaded\n",
      " 59%|█████▊    | 3695/6300 [27:45<28:38,  1.52it/s, curr_speed=32.61 Mbps, mb_sent=1075.17 Mb]COMET ERROR: File could not be uploaded\n",
      " 59%|█████▉    | 3702/6300 [27:50<29:10,  1.48it/s, curr_speed=32.78 Mbps, mb_sent=1077.48 Mb]COMET ERROR: File could not be uploaded\n",
      " 59%|█████▉    | 3713/6300 [27:57<27:34,  1.56it/s, curr_speed=33.25 Mbps, mb_sent=1081.20 Mb]COMET ERROR: File could not be uploaded\n",
      " 59%|█████▉    | 3716/6300 [27:59<27:11,  1.58it/s, curr_speed=33.32 Mbps, mb_sent=1082.13 Mb]COMET ERROR: File could not be uploaded\n",
      " 59%|█████▉    | 3718/6300 [28:00<27:21,  1.57it/s, curr_speed=33.28 Mbps, mb_sent=1082.74 Mb]COMET ERROR: File could not be uploaded\n",
      " 59%|█████▉    | 3721/6300 [28:02<26:51,  1.60it/s, curr_speed=33.46 Mbps, mb_sent=1083.70 Mb]COMET ERROR: File could not be uploaded\n",
      " 59%|█████▉    | 3724/6300 [28:04<26:38,  1.61it/s, curr_speed=33.51 Mbps, mb_sent=1084.63 Mb]COMET ERROR: File could not be uploaded\n",
      " 59%|█████▉    | 3730/6300 [28:08<27:31,  1.56it/s, curr_speed=33.82 Mbps, mb_sent=1086.70 Mb]COMET ERROR: File could not be uploaded\n",
      " 59%|█████▉    | 3735/6300 [28:11<26:29,  1.61it/s, curr_speed=33.90 Mbps, mb_sent=1088.25 Mb]COMET ERROR: File could not be uploaded\n",
      " 59%|█████▉    | 3741/6300 [28:15<27:15,  1.56it/s, curr_speed=33.85 Mbps, mb_sent=1090.18 Mb]COMET ERROR: File could not be uploaded\n",
      " 59%|█████▉    | 3748/6300 [28:19<27:07,  1.57it/s, curr_speed=33.84 Mbps, mb_sent=1092.50 Mb]COMET ERROR: File could not be uploaded\n",
      " 60%|█████▉    | 3758/6300 [28:26<26:05,  1.62it/s, curr_speed=33.56 Mbps, mb_sent=1095.40 Mb]COMET ERROR: File could not be uploaded\n",
      " 60%|█████▉    | 3761/6300 [28:28<26:32,  1.59it/s, curr_speed=33.52 Mbps, mb_sent=1096.25 Mb]COMET ERROR: File could not be uploaded\n",
      " 60%|█████▉    | 3764/6300 [28:29<26:34,  1.59it/s, curr_speed=33.47 Mbps, mb_sent=1097.11 Mb]COMET ERROR: File could not be uploaded\n",
      " 60%|█████▉    | 3765/6300 [28:30<28:42,  1.47it/s, curr_speed=33.47 Mbps, mb_sent=1097.41 Mb]COMET ERROR: File could not be uploaded\n",
      " 60%|█████▉    | 3768/6300 [28:32<28:35,  1.48it/s, curr_speed=33.33 Mbps, mb_sent=1098.31 Mb]COMET ERROR: File could not be uploaded\n",
      " 60%|█████▉    | 3774/6300 [28:36<28:24,  1.48it/s, curr_speed=33.50 Mbps, mb_sent=1100.36 Mb]COMET ERROR: File could not be uploaded\n",
      "COMET ERROR: File could not be uploaded\n",
      " 60%|█████▉    | 3777/6300 [28:38<27:53,  1.51it/s, curr_speed=33.46 Mbps, mb_sent=1101.31 Mb]COMET ERROR: File could not be uploaded\n",
      " 60%|██████    | 3793/6300 [28:50<32:20,  1.29it/s, curr_speed=33.40 Mbps, mb_sent=1106.37 Mb]COMET ERROR: File could not be uploaded\n",
      " 60%|██████    | 3794/6300 [28:51<32:06,  1.30it/s, curr_speed=33.44 Mbps, mb_sent=1106.71 Mb]COMET ERROR: File could not be uploaded\n",
      " 60%|██████    | 3797/6300 [28:53<32:02,  1.30it/s, curr_speed=31.37 Mbps, mb_sent=1107.28 Mb]COMET ERROR: File could not be uploaded\n",
      " 60%|██████    | 3802/6300 [28:57<28:15,  1.47it/s, curr_speed=31.36 Mbps, mb_sent=1108.85 Mb]COMET ERROR: File could not be uploaded\n",
      " 71%|███████▏  | 4492/6300 [36:45<20:25,  1.48it/s, curr_speed=33.42 Mbps, mb_sent=1334.64 Mb]COMET ERROR: File could not be uploaded\n",
      "COMET ERROR: File could not be uploaded\n",
      "COMET ERROR: File could not be uploaded\n",
      "COMET ERROR: File could not be uploaded\n",
      " 71%|███████▏  | 4493/6300 [36:46<21:24,  1.41it/s, curr_speed=33.51 Mbps, mb_sent=1334.99 Mb]COMET ERROR: File could not be uploaded\n",
      " 71%|███████▏  | 4498/6300 [36:50<21:06,  1.42it/s, curr_speed=33.78 Mbps, mb_sent=1336.82 Mb]COMET ERROR: File could not be uploaded\n",
      " 71%|███████▏  | 4500/6300 [36:51<21:25,  1.40it/s, curr_speed=33.80 Mbps, mb_sent=1337.57 Mb]COMET ERROR: File could not be uploaded\n",
      " 72%|███████▏  | 4505/6300 [36:55<21:31,  1.39it/s, curr_speed=33.83 Mbps, mb_sent=1339.30 Mb]COMET ERROR: File could not be uploaded\n",
      " 72%|███████▏  | 4513/6300 [37:01<20:50,  1.43it/s, curr_speed=33.78 Mbps, mb_sent=1342.15 Mb]COMET ERROR: File could not be uploaded\n",
      " 72%|███████▏  | 4525/6300 [37:09<20:54,  1.42it/s, curr_speed=34.00 Mbps, mb_sent=1346.34 Mb]COMET ERROR: File could not be uploaded\n",
      " 75%|███████▌  | 4739/6300 [39:42<19:54,  1.31it/s, curr_speed=33.92 Mbps, mb_sent=1417.24 Mb]COMET ERROR: File could not be uploaded\n",
      " 75%|███████▌  | 4740/6300 [39:43<19:46,  1.31it/s, curr_speed=33.99 Mbps, mb_sent=1417.65 Mb]COMET ERROR: File could not be uploaded\n",
      "COMET ERROR: File could not be uploaded\n",
      "COMET ERROR: File could not be uploaded\n",
      " 75%|███████▌  | 4741/6300 [39:44<20:15,  1.28it/s, curr_speed=34.03 Mbps, mb_sent=1418.04 Mb]COMET ERROR: File could not be uploaded\n",
      " 75%|███████▌  | 4742/6300 [39:45<19:52,  1.31it/s, curr_speed=34.16 Mbps, mb_sent=1418.35 Mb]COMET ERROR: File could not be uploaded\n",
      " 75%|███████▌  | 4743/6300 [39:45<19:45,  1.31it/s, curr_speed=34.25 Mbps, mb_sent=1418.76 Mb]COMET ERROR: File could not be uploaded\n",
      " 75%|███████▌  | 4750/6300 [39:51<19:46,  1.31it/s, curr_speed=34.22 Mbps, mb_sent=1421.11 Mb]COMET ERROR: File could not be uploaded\n",
      " 76%|███████▌  | 4759/6300 [39:57<18:15,  1.41it/s, curr_speed=34.28 Mbps, mb_sent=1424.30 Mb]COMET ERROR: File could not be uploaded\n",
      " 76%|███████▌  | 4760/6300 [39:58<18:01,  1.42it/s, curr_speed=34.37 Mbps, mb_sent=1424.62 Mb]COMET ERROR: File could not be uploaded\n",
      " 76%|███████▌  | 4762/6300 [39:59<17:43,  1.45it/s, curr_speed=34.60 Mbps, mb_sent=1425.28 Mb]COMET ERROR: File could not be uploaded\n",
      " 76%|███████▌  | 4770/6300 [40:05<18:40,  1.37it/s, curr_speed=34.56 Mbps, mb_sent=1427.90 Mb]COMET ERROR: File could not be uploaded\n",
      " 76%|███████▌  | 4771/6300 [40:06<19:03,  1.34it/s, curr_speed=34.54 Mbps, mb_sent=1428.27 Mb]COMET ERROR: File could not be uploaded\n",
      " 76%|███████▌  | 4773/6300 [40:07<18:53,  1.35it/s, curr_speed=34.56 Mbps, mb_sent=1428.96 Mb]COMET ERROR: File could not be uploaded\n",
      " 76%|███████▌  | 4775/6300 [40:09<18:41,  1.36it/s, curr_speed=34.54 Mbps, mb_sent=1429.58 Mb]COMET ERROR: File could not be uploaded\n",
      " 76%|███████▌  | 4782/6300 [40:14<19:18,  1.31it/s, curr_speed=34.69 Mbps, mb_sent=1431.93 Mb]COMET ERROR: File could not be uploaded\n",
      " 76%|███████▌  | 4785/6300 [40:16<19:03,  1.33it/s, curr_speed=34.69 Mbps, mb_sent=1432.89 Mb]COMET ERROR: File could not be uploaded\n",
      " 76%|███████▌  | 4788/6300 [40:18<18:37,  1.35it/s, curr_speed=34.79 Mbps, mb_sent=1434.01 Mb]COMET ERROR: File could not be uploaded\n",
      " 76%|███████▌  | 4790/6300 [40:20<19:22,  1.30it/s, curr_speed=34.64 Mbps, mb_sent=1434.50 Mb]COMET ERROR: File could not be uploaded\n",
      " 76%|███████▌  | 4791/6300 [40:21<19:07,  1.31it/s, curr_speed=34.67 Mbps, mb_sent=1434.86 Mb]COMET ERROR: File could not be uploaded\n",
      " 76%|███████▌  | 4795/6300 [40:24<19:04,  1.32it/s, curr_speed=34.50 Mbps, mb_sent=1436.12 Mb]COMET ERROR: File could not be uploaded\n",
      " 76%|███████▌  | 4797/6300 [40:25<18:42,  1.34it/s, curr_speed=34.66 Mbps, mb_sent=1436.88 Mb]COMET ERROR: File could not be uploaded\n",
      " 76%|███████▌  | 4801/6300 [40:28<18:03,  1.38it/s, curr_speed=34.64 Mbps, mb_sent=1438.24 Mb]COMET ERROR: File could not be uploaded\n",
      " 76%|███████▌  | 4803/6300 [40:30<18:27,  1.35it/s, curr_speed=34.76 Mbps, mb_sent=1438.96 Mb]COMET ERROR: File could not be uploaded\n",
      " 76%|███████▋  | 4806/6300 [40:32<18:05,  1.38it/s, curr_speed=34.84 Mbps, mb_sent=1440.03 Mb]COMET ERROR: File could not be uploaded\n",
      " 76%|███████▋  | 4809/6300 [40:34<18:00,  1.38it/s, curr_speed=35.25 Mbps, mb_sent=1441.07 Mb]COMET ERROR: File could not be uploaded\n",
      " 76%|███████▋  | 4814/6300 [40:38<17:47,  1.39it/s, curr_speed=35.28 Mbps, mb_sent=1442.78 Mb]COMET ERROR: File could not be uploaded\n",
      " 76%|███████▋  | 4816/6300 [40:39<17:30,  1.41it/s, curr_speed=35.65 Mbps, mb_sent=1443.36 Mb]COMET ERROR: File could not be uploaded\n",
      " 77%|███████▋  | 4820/6300 [40:42<17:48,  1.39it/s, curr_speed=35.42 Mbps, mb_sent=1444.42 Mb]COMET ERROR: File could not be uploaded\n",
      " 87%|████████▋ | 5483/6300 [49:06<10:26,  1.30it/s, curr_speed=33.51 Mbps, mb_sent=1658.57 Mb]COMET ERROR: File could not be uploaded\n",
      " 87%|████████▋ | 5484/6300 [49:07<10:35,  1.28it/s, curr_speed=33.49 Mbps, mb_sent=1658.81 Mb]COMET ERROR: File could not be uploaded\n",
      " 87%|████████▋ | 5485/6300 [49:08<10:47,  1.26it/s, curr_speed=33.51 Mbps, mb_sent=1659.16 Mb]COMET ERROR: File could not be uploaded\n",
      "100%|██████████| 6300/6300 [1:00:22<00:00,  1.74it/s, curr_speed=31.88 Mbps, mb_sent=1925.07 Mb]\n"
     ]
    },
    {
     "name": "stdout",
     "output_type": "stream",
     "text": [
      "Waiting for simulation script to connect on port: tcp://localhost:26339\n",
      "Please start proper ns-3 simulation script using ./waf --run \"...\"\n",
      "Sent 1925.07 Mb/s.\tMean speed: 32.08 Mb/s\tEpisode 1/15 finished\n",
      "\n",
      "1\n",
      "40.343994|0|5|-nan\n"
     ]
    },
    {
     "name": "stderr",
     "output_type": "stream",
     "text": [
      "100%|██████████| 6300/6300 [1:02:15<00:00,  1.69it/s, curr_speed=31.50 Mbps, mb_sent=2032.51 Mb]\n"
     ]
    },
    {
     "name": "stdout",
     "output_type": "stream",
     "text": [
      "Waiting for simulation script to connect on port: tcp://localhost:45605\n",
      "Please start proper ns-3 simulation script using ./waf --run \"...\"\n",
      "Sent 2032.51 Mb/s.\tMean speed: 33.88 Mb/s\tEpisode 2/15 finished\n",
      "\n",
      "2\n",
      "40.343994|0|5|-nan\n"
     ]
    },
    {
     "name": "stderr",
     "output_type": "stream",
     "text": [
      "100%|██████████| 6300/6300 [1:03:01<00:00,  1.67it/s, curr_speed=32.47 Mbps, mb_sent=2106.67 Mb]\n"
     ]
    },
    {
     "name": "stdout",
     "output_type": "stream",
     "text": [
      "Waiting for simulation script to connect on port: tcp://localhost:35145\n",
      "Please start proper ns-3 simulation script using ./waf --run \"...\"\n",
      "Sent 2106.67 Mb/s.\tMean speed: 35.11 Mb/s\tEpisode 3/15 finished\n",
      "\n",
      "3\n",
      "40.343994|0|5|-nan\n"
     ]
    },
    {
     "name": "stderr",
     "output_type": "stream",
     "text": [
      "  5%|▍         | 304/6300 [01:22<26:38,  3.75it/s, curr_speed=29.79 Mbps, mb_sent=0.89 Mb]"
     ]
    },
    {
     "name": "stdout",
     "output_type": "stream",
     "text": [
      "------- MEMORY BUFFER FILLED -------\n"
     ]
    },
    {
     "name": "stderr",
     "output_type": "stream",
     "text": [
      "100%|██████████| 6300/6300 [1:04:14<00:00,  1.63it/s, curr_speed=34.74 Mbps, mb_sent=2163.78 Mb]\n"
     ]
    },
    {
     "name": "stdout",
     "output_type": "stream",
     "text": [
      "Waiting for simulation script to connect on port: tcp://localhost:20477\n",
      "Please start proper ns-3 simulation script using ./waf --run \"...\"\n",
      "Sent 2163.78 Mb/s.\tMean speed: 36.06 Mb/s\tEpisode 4/15 finished\n",
      "\n",
      "4\n",
      "40.343994|0|5|-nan\n"
     ]
    },
    {
     "name": "stderr",
     "output_type": "stream",
     "text": [
      " 68%|██████▊   | 4285/6300 [36:34<24:19,  1.38it/s, curr_speed=34.69 Mbps, mb_sent=1475.33 Mb]COMET ERROR: File could not be uploaded\n",
      "COMET ERROR: File could not be uploaded\n",
      " 86%|████████▌ | 5402/6300 [51:04<12:44,  1.17it/s, curr_speed=36.91 Mbps, mb_sent=1890.10 Mb]COMET ERROR: File could not be uploaded\n",
      "100%|██████████| 6300/6300 [1:21:06<00:00,  1.29it/s, curr_speed=36.66 Mbps, mb_sent=2221.10 Mb]    \n"
     ]
    },
    {
     "name": "stdout",
     "output_type": "stream",
     "text": [
      "Waiting for simulation script to connect on port: tcp://localhost:30095\n",
      "Please start proper ns-3 simulation script using ./waf --run \"...\"\n",
      "Sent 2221.10 Mb/s.\tMean speed: 37.02 Mb/s\tEpisode 5/15 finished\n",
      "\n",
      "5\n",
      "40.343994|0|5|-nan\n"
     ]
    },
    {
     "name": "stderr",
     "output_type": "stream",
     "text": [
      "100%|██████████| 6300/6300 [1:02:45<00:00,  1.67it/s, curr_speed=36.24 Mbps, mb_sent=2233.71 Mb]\n"
     ]
    },
    {
     "name": "stdout",
     "output_type": "stream",
     "text": [
      "Waiting for simulation script to connect on port: tcp://localhost:53918\n",
      "Please start proper ns-3 simulation script using ./waf --run \"...\"\n",
      "Sent 2233.71 Mb/s.\tMean speed: 37.23 Mb/s\tEpisode 6/15 finished\n",
      "\n",
      "6\n",
      "40.343994|0|5|-nan\n"
     ]
    },
    {
     "name": "stderr",
     "output_type": "stream",
     "text": [
      "100%|██████████| 6300/6300 [1:03:12<00:00,  1.66it/s, curr_speed=37.28 Mbps, mb_sent=2256.99 Mb]\n"
     ]
    },
    {
     "name": "stdout",
     "output_type": "stream",
     "text": [
      "Waiting for simulation script to connect on port: tcp://localhost:50406\n",
      "Please start proper ns-3 simulation script using ./waf --run \"...\"\n",
      "Sent 2256.99 Mb/s.\tMean speed: 37.62 Mb/s\tEpisode 7/15 finished\n",
      "\n",
      "7\n",
      "40.343994|0|5|-nan\n"
     ]
    },
    {
     "name": "stderr",
     "output_type": "stream",
     "text": [
      "100%|██████████| 6300/6300 [1:03:18<00:00,  1.66it/s, curr_speed=37.44 Mbps, mb_sent=2260.20 Mb]\n"
     ]
    },
    {
     "name": "stdout",
     "output_type": "stream",
     "text": [
      "Waiting for simulation script to connect on port: tcp://localhost:16795\n",
      "Please start proper ns-3 simulation script using ./waf --run \"...\"\n",
      "Sent 2260.20 Mb/s.\tMean speed: 37.67 Mb/s\tEpisode 8/15 finished\n",
      "\n",
      "8\n",
      "40.343994|0|5|-nan\n"
     ]
    },
    {
     "name": "stderr",
     "output_type": "stream",
     "text": [
      "100%|██████████| 6300/6300 [1:03:18<00:00,  1.66it/s, curr_speed=37.89 Mbps, mb_sent=2261.59 Mb]\n"
     ]
    },
    {
     "name": "stdout",
     "output_type": "stream",
     "text": [
      "Waiting for simulation script to connect on port: tcp://localhost:15908\n",
      "Please start proper ns-3 simulation script using ./waf --run \"...\"\n",
      "Sent 2261.59 Mb/s.\tMean speed: 37.69 Mb/s\tEpisode 9/15 finished\n",
      "\n",
      "9\n",
      "40.343994|0|5|-nan\n"
     ]
    },
    {
     "name": "stderr",
     "output_type": "stream",
     "text": [
      "100%|██████████| 6300/6300 [1:05:58<00:00,  1.59it/s, curr_speed=37.84 Mbps, mb_sent=2268.08 Mb]\n"
     ]
    },
    {
     "name": "stdout",
     "output_type": "stream",
     "text": [
      "Waiting for simulation script to connect on port: tcp://localhost:25633\n",
      "Please start proper ns-3 simulation script using ./waf --run \"...\"\n",
      "Sent 2268.08 Mb/s.\tMean speed: 37.80 Mb/s\tEpisode 10/15 finished\n",
      "\n",
      "10\n",
      "40.343994|0|5|-nan\n"
     ]
    },
    {
     "name": "stderr",
     "output_type": "stream",
     "text": [
      "100%|██████████| 6300/6300 [1:06:23<00:00,  1.58it/s, curr_speed=37.91 Mbps, mb_sent=2264.28 Mb]\n"
     ]
    },
    {
     "name": "stdout",
     "output_type": "stream",
     "text": [
      "Waiting for simulation script to connect on port: tcp://localhost:33803\n",
      "Please start proper ns-3 simulation script using ./waf --run \"...\"\n",
      "Sent 2264.28 Mb/s.\tMean speed: 37.74 Mb/s\tEpisode 11/15 finished\n",
      "\n",
      "11\n",
      "40.343994|0|5|-nan\n"
     ]
    },
    {
     "name": "stderr",
     "output_type": "stream",
     "text": [
      "100%|██████████| 6300/6300 [1:05:49<00:00,  1.60it/s, curr_speed=37.05 Mbps, mb_sent=2270.70 Mb]\n"
     ]
    },
    {
     "name": "stdout",
     "output_type": "stream",
     "text": [
      "Waiting for simulation script to connect on port: tcp://localhost:49315\n",
      "Please start proper ns-3 simulation script using ./waf --run \"...\"\n",
      "WARNING:tensorflow:From /home/sheila/anaconda3/envs/environment_py3_7/lib/python3.7/site-packages/tensorflow/python/training/saver.py:960: remove_checkpoint (from tensorflow.python.training.checkpoint_management) is deprecated and will be removed in a future version.\n",
      "Instructions for updating:\n",
      "Use standard file APIs to delete files with this prefix.\n",
      "Sent 2270.70 Mb/s.\tMean speed: 37.85 Mb/s\tEpisode 12/15 finished\n",
      "\n",
      "12\n",
      "Turning off noise\n",
      "40.343994|0|5|-nan\n"
     ]
    },
    {
     "name": "stderr",
     "output_type": "stream",
     "text": [
      "100%|██████████| 6300/6300 [1:05:45<00:00,  1.60it/s, curr_speed=37.93 Mbps, mb_sent=2266.89 Mb]\n"
     ]
    },
    {
     "name": "stdout",
     "output_type": "stream",
     "text": [
      "Waiting for simulation script to connect on port: tcp://localhost:30445\n",
      "Please start proper ns-3 simulation script using ./waf --run \"...\"\n",
      "Sent 2266.89 Mb/s.\tMean speed: 37.78 Mb/s\tEpisode 13/15 finished\n",
      "\n",
      "13\n",
      "Turning off noise\n",
      "40.343994|0|5|-nan\n"
     ]
    },
    {
     "name": "stderr",
     "output_type": "stream",
     "text": [
      "100%|██████████| 6300/6300 [1:05:39<00:00,  1.60it/s, curr_speed=37.84 Mbps, mb_sent=2269.63 Mb]\n"
     ]
    },
    {
     "name": "stdout",
     "output_type": "stream",
     "text": [
      "Waiting for simulation script to connect on port: tcp://localhost:20081\n",
      "Please start proper ns-3 simulation script using ./waf --run \"...\"\n",
      "Sent 2269.63 Mb/s.\tMean speed: 37.83 Mb/s\tEpisode 14/15 finished\n",
      "\n",
      "14\n",
      "Turning off noise\n",
      "40.343994|0|5|-nan\n"
     ]
    },
    {
     "name": "stderr",
     "output_type": "stream",
     "text": [
      "100%|██████████| 6300/6300 [1:04:32<00:00,  1.63it/s, curr_speed=37.85 Mbps, mb_sent=2273.73 Mb]\n"
     ]
    },
    {
     "name": "stdout",
     "output_type": "stream",
     "text": [
      "Waiting for simulation script to connect on port: tcp://localhost:51205\n",
      "Please start proper ns-3 simulation script using ./waf --run \"...\"\n"
     ]
    },
    {
     "name": "stderr",
     "output_type": "stream",
     "text": [
      "COMET INFO: ----------------------------\n",
      "COMET INFO: Comet.ml Experiment Summary:\n",
      "COMET INFO:   Data:\n",
      "COMET INFO:     url: https://www.comet.com/sheila-janota/rl-in-wifi-with-queue-level/75ea4720224e4821ab42a360683a5c25\n",
      "COMET INFO:   Metrics [count] (min, max):\n",
      "COMET INFO:     Chosen CW [89985]           : (16.0, 1024.0)\n",
      "COMET INFO:     Cumulative reward [15]      : (2620.661865234375, 3176.542236328125)\n",
      "COMET INFO:     Current throughput [89985]  : (11.727899551391602, 54.1717414855957)\n",
      "COMET INFO:     Fairness index [89985]      : (0.039312999695539474, 0.9989190101623535)\n",
      "COMET INFO:     Megabytes sent [89985]      : (0.1340329945087433, 2273.728050559759)\n",
      "COMET INFO:     Observation 0 [89985]       : (0.12080591044699152, 0.9647591137886048)\n",
      "COMET INFO:     Observation 1 [89985]       : (0.0, 0.027296469775088244)\n",
      "COMET INFO:     Per-ep reward [89985]       : (103.041748046875, 3176.542236328125)\n",
      "COMET INFO:     Round megabytes sent [89985]: (0.01116899959743023, 11.839599609375)\n",
      "COMET INFO:     Round reward [89985]        : (0.014892578125, 0.878662109375)\n",
      "COMET INFO:     Speed [15]                  : (32.084569883005074, 37.89546750932932)\n",
      "COMET INFO:     Station count [89985]       : (5.0, 30.0)\n",
      "COMET INFO:     loss [89985]                : (0.0, 0.1257095771531264)\n",
      "COMET INFO:   Uploads:\n",
      "COMET INFO:     histogram3d: 89985\n",
      "COMET INFO: ----------------------------\n",
      "COMET INFO: Uploading stats to Comet before program termination (may take several seconds)\n"
     ]
    },
    {
     "name": "stdout",
     "output_type": "stream",
     "text": [
      "Sent 2273.73 Mb/s.\tMean speed: 37.90 Mb/s\tEpisode 15/15 finished\n",
      "\n",
      "Training finished.\n"
     ]
    }
   ],
   "source": [
    "#%%\n",
    "teacher = Teacher(env, 1, Preprocessor(False))\n",
    "\n",
    "lr = 4e-4\n",
    "config = Config(buffer_size=3*steps_per_ep*threads_no, batch_size=32, gamma=0.7, tau=1e-3, lr=lr, update_every=1)\n",
    "agent = Agent(QNetworkTf, history_length, action_size=7, config=config)\n",
    "agent.set_epsilon(0.9, 0.001, EPISODE_COUNT-2)\n",
    "\n",
    "# Test the model\n",
    "hyperparams = {**config.__dict__, **sim_args}\n",
    "tags = [\"Rew: normalized speed\",\n",
    "        \"Final\",\n",
    "        f\"{Agent.NAME}\",\n",
    "        sim_args['scenario'],\n",
    "        f\"LR: {lr}\",\n",
    "        f\"Instances: {threads_no}\",\n",
    "        f\"Station count: {sim_args['nWifi']}\",\n",
    "        *[f\"{key}: {sim_args[key]}\" for key in list(sim_args)[:3]]]\n",
    "# # agent.save()\n",
    "logger = teacher.train(agent, EPISODE_COUNT,\n",
    "                        simTime=simTime,\n",
    "                        stepTime=stepTime,\n",
    "                        history_length=history_length,\n",
    "                        send_logs=True,\n",
    "                        experimental=True,\n",
    "                        tags=tags,\n",
    "                        parameters=hyperparams)\n",
    "#logger = teacher.eval(agent,\n",
    "#                        simTime=simTime,\n",
    "#                        stepTime=stepTime,\n",
    "#                        history_length=history_length,\n",
    "#                        tags=tags,\n",
    "#                        parameters=hyperparams)\n",
    "# agent.save()\n",
    "\n",
    "\n",
    "# %%"
   ]
  },
  {
   "cell_type": "code",
   "execution_count": null,
   "id": "800d719c",
   "metadata": {},
   "outputs": [],
   "source": []
  },
  {
   "cell_type": "markdown",
   "id": "77b8c7a1",
   "metadata": {},
   "source": [
    "# Execution num3:"
   ]
  },
  {
   "cell_type": "code",
   "execution_count": 1,
   "id": "e7283be3",
   "metadata": {},
   "outputs": [
    {
     "name": "stderr",
     "output_type": "stream",
     "text": [
      "/home/sheila/anaconda3/envs/environment_py3_7/lib/python3.7/site-packages/tensorflow/python/framework/dtypes.py:516: FutureWarning: Passing (type, 1) or '1type' as a synonym of type is deprecated; in a future version of numpy, it will be understood as (type, (1,)) / '(1,)type'.\n",
      "  _np_qint8 = np.dtype([(\"qint8\", np.int8, 1)])\n",
      "/home/sheila/anaconda3/envs/environment_py3_7/lib/python3.7/site-packages/tensorflow/python/framework/dtypes.py:517: FutureWarning: Passing (type, 1) or '1type' as a synonym of type is deprecated; in a future version of numpy, it will be understood as (type, (1,)) / '(1,)type'.\n",
      "  _np_quint8 = np.dtype([(\"quint8\", np.uint8, 1)])\n",
      "/home/sheila/anaconda3/envs/environment_py3_7/lib/python3.7/site-packages/tensorflow/python/framework/dtypes.py:518: FutureWarning: Passing (type, 1) or '1type' as a synonym of type is deprecated; in a future version of numpy, it will be understood as (type, (1,)) / '(1,)type'.\n",
      "  _np_qint16 = np.dtype([(\"qint16\", np.int16, 1)])\n",
      "/home/sheila/anaconda3/envs/environment_py3_7/lib/python3.7/site-packages/tensorflow/python/framework/dtypes.py:519: FutureWarning: Passing (type, 1) or '1type' as a synonym of type is deprecated; in a future version of numpy, it will be understood as (type, (1,)) / '(1,)type'.\n",
      "  _np_quint16 = np.dtype([(\"quint16\", np.uint16, 1)])\n",
      "/home/sheila/anaconda3/envs/environment_py3_7/lib/python3.7/site-packages/tensorflow/python/framework/dtypes.py:520: FutureWarning: Passing (type, 1) or '1type' as a synonym of type is deprecated; in a future version of numpy, it will be understood as (type, (1,)) / '(1,)type'.\n",
      "  _np_qint32 = np.dtype([(\"qint32\", np.int32, 1)])\n",
      "/home/sheila/anaconda3/envs/environment_py3_7/lib/python3.7/site-packages/tensorflow/python/framework/dtypes.py:525: FutureWarning: Passing (type, 1) or '1type' as a synonym of type is deprecated; in a future version of numpy, it will be understood as (type, (1,)) / '(1,)type'.\n",
      "  np_resource = np.dtype([(\"resource\", np.ubyte, 1)])\n",
      "/home/sheila/anaconda3/envs/environment_py3_7/lib/python3.7/site-packages/tensorboard/compat/tensorflow_stub/dtypes.py:541: FutureWarning: Passing (type, 1) or '1type' as a synonym of type is deprecated; in a future version of numpy, it will be understood as (type, (1,)) / '(1,)type'.\n",
      "  _np_qint8 = np.dtype([(\"qint8\", np.int8, 1)])\n",
      "/home/sheila/anaconda3/envs/environment_py3_7/lib/python3.7/site-packages/tensorboard/compat/tensorflow_stub/dtypes.py:542: FutureWarning: Passing (type, 1) or '1type' as a synonym of type is deprecated; in a future version of numpy, it will be understood as (type, (1,)) / '(1,)type'.\n",
      "  _np_quint8 = np.dtype([(\"quint8\", np.uint8, 1)])\n",
      "/home/sheila/anaconda3/envs/environment_py3_7/lib/python3.7/site-packages/tensorboard/compat/tensorflow_stub/dtypes.py:543: FutureWarning: Passing (type, 1) or '1type' as a synonym of type is deprecated; in a future version of numpy, it will be understood as (type, (1,)) / '(1,)type'.\n",
      "  _np_qint16 = np.dtype([(\"qint16\", np.int16, 1)])\n",
      "/home/sheila/anaconda3/envs/environment_py3_7/lib/python3.7/site-packages/tensorboard/compat/tensorflow_stub/dtypes.py:544: FutureWarning: Passing (type, 1) or '1type' as a synonym of type is deprecated; in a future version of numpy, it will be understood as (type, (1,)) / '(1,)type'.\n",
      "  _np_quint16 = np.dtype([(\"quint16\", np.uint16, 1)])\n",
      "/home/sheila/anaconda3/envs/environment_py3_7/lib/python3.7/site-packages/tensorboard/compat/tensorflow_stub/dtypes.py:545: FutureWarning: Passing (type, 1) or '1type' as a synonym of type is deprecated; in a future version of numpy, it will be understood as (type, (1,)) / '(1,)type'.\n",
      "  _np_qint32 = np.dtype([(\"qint32\", np.int32, 1)])\n",
      "/home/sheila/anaconda3/envs/environment_py3_7/lib/python3.7/site-packages/tensorboard/compat/tensorflow_stub/dtypes.py:550: FutureWarning: Passing (type, 1) or '1type' as a synonym of type is deprecated; in a future version of numpy, it will be understood as (type, (1,)) / '(1,)type'.\n",
      "  np_resource = np.dtype([(\"resource\", np.ubyte, 1)])\n"
     ]
    }
   ],
   "source": [
    "#%%\n",
    "from ns3gym import ns3env\n",
    "from comet_ml import Experiment, Optimizer\n",
    "import tqdm\n",
    "import subprocess\n",
    "from collections import deque\n",
    "import numpy as np\n",
    "\n",
    "from agents.dqn.agent import Agent, Config\n",
    "from agents.dqn.model import QNetworkTf\n",
    "from agents.teacher import Teacher, EnvWrapper\n",
    "from preprocessor import Preprocessor"
   ]
  },
  {
   "cell_type": "code",
   "execution_count": 2,
   "id": "12986d76",
   "metadata": {},
   "outputs": [
    {
     "name": "stdout",
     "output_type": "stream",
     "text": [
      "Steps per episode: 6000\n",
      "Waiting for simulation script to connect on port: tcp://localhost:50781\n",
      "Please start proper ns-3 simulation script using ./waf --run \"...\"\n",
      "40.343994|0|5|-nan\n",
      "Observation space shape: (1, 300)\n",
      "Action space shape: (1, 1)\n"
     ]
    }
   ],
   "source": [
    "#%%\n",
    "scenario = \"convergence\"\n",
    "\n",
    "simTime = 60 # seconds\n",
    "stepTime = 0.01  # seconds\n",
    "history_length = 300\n",
    "\n",
    "EPISODE_COUNT = 15\n",
    "steps_per_ep = int(simTime/stepTime)\n",
    "\n",
    "sim_args = {\n",
    "    \"simTime\": simTime,\n",
    "    \"envStepTime\": stepTime,\n",
    "    \"historyLength\": history_length,\n",
    "    \"agentType\": Agent.TYPE,\n",
    "    \"scenario\": \"convergence\",\n",
    "    \"nWifi\": 30,\n",
    "}\n",
    "\n",
    "print(\"Steps per episode:\", steps_per_ep)\n",
    "\n",
    "threads_no = 1\n",
    "env = EnvWrapper(threads_no, **sim_args)\n",
    "\n",
    "#%%\n",
    "env.reset()\n",
    "ob_space = env.observation_space\n",
    "ac_space = env.action_space\n",
    "\n",
    "print(\"Observation space shape:\", ob_space)\n",
    "print(\"Action space shape:\", ac_space)\n",
    "\n",
    "assert ob_space is not None"
   ]
  },
  {
   "cell_type": "code",
   "execution_count": 3,
   "id": "51e95e12",
   "metadata": {},
   "outputs": [
    {
     "name": "stdout",
     "output_type": "stream",
     "text": [
      "WARNING:tensorflow:From /home/sheila/repos/ns-3-allinone/ns-3.29/scratch/RLinWiFi-master-original-queue-level-mean/agents/dqn/agent.py:53: The name tf.Session is deprecated. Please use tf.compat.v1.Session instead.\n",
      "\n",
      "WARNING:tensorflow:From /home/sheila/repos/ns-3-allinone/ns-3.29/scratch/RLinWiFi-master-original-queue-level-mean/agents/dqn/model.py:25: The name tf.variable_scope is deprecated. Please use tf.compat.v1.variable_scope instead.\n",
      "\n",
      "WARNING:tensorflow:From /home/sheila/repos/ns-3-allinone/ns-3.29/scratch/RLinWiFi-master-original-queue-level-mean/agents/dqn/model.py:26: The name tf.placeholder is deprecated. Please use tf.compat.v1.placeholder instead.\n",
      "\n",
      "WARNING:tensorflow:\n",
      "The TensorFlow contrib module will not be included in TensorFlow 2.0.\n",
      "For more information, please see:\n",
      "  * https://github.com/tensorflow/community/blob/master/rfcs/20180907-contrib-sunset.md\n",
      "  * https://github.com/tensorflow/addons\n",
      "  * https://github.com/tensorflow/io (for I/O related ops)\n",
      "If you depend on functionality not listed there, please file an issue.\n",
      "\n",
      "WARNING:tensorflow:From /home/sheila/repos/ns-3-allinone/ns-3.29/scratch/RLinWiFi-master-original-queue-level-mean/agents/dqn/model.py:52: LSTMCell.__init__ (from tensorflow.python.ops.rnn_cell_impl) is deprecated and will be removed in a future version.\n",
      "Instructions for updating:\n",
      "This class is equivalent as tf.keras.layers.LSTMCell, and will be replaced by that in Tensorflow 2.0.\n",
      "WARNING:tensorflow:From /home/sheila/repos/ns-3-allinone/ns-3.29/scratch/RLinWiFi-master-original-queue-level-mean/agents/dqn/model.py:52: static_rnn (from tensorflow.python.ops.rnn) is deprecated and will be removed in a future version.\n",
      "Instructions for updating:\n",
      "Please use `keras.layers.RNN(cell, unroll=True)`, which is equivalent to this API\n",
      "WARNING:tensorflow:From /home/sheila/anaconda3/envs/environment_py3_7/lib/python3.7/site-packages/tensorflow/python/ops/init_ops.py:1251: calling VarianceScaling.__init__ (from tensorflow.python.ops.init_ops) with dtype is deprecated and will be removed in a future version.\n",
      "Instructions for updating:\n",
      "Call initializer instance with the dtype argument instead of passing it to the constructor\n",
      "WARNING:tensorflow:From /home/sheila/anaconda3/envs/environment_py3_7/lib/python3.7/site-packages/tensorflow/python/ops/rnn_cell_impl.py:961: calling Zeros.__init__ (from tensorflow.python.ops.init_ops) with dtype is deprecated and will be removed in a future version.\n",
      "Instructions for updating:\n",
      "Call initializer instance with the dtype argument instead of passing it to the constructor\n",
      "WARNING:tensorflow:Entity <bound method LSTMCell.call of <tensorflow.python.ops.rnn_cell_impl.LSTMCell object at 0x7f53a6851b10>> could not be transformed and will be executed as-is. Please report this to the AutgoGraph team. When filing the bug, set the verbosity to 10 (on Linux, `export AUTOGRAPH_VERBOSITY=10`) and attach the full output. Cause: converting <bound method LSTMCell.call of <tensorflow.python.ops.rnn_cell_impl.LSTMCell object at 0x7f53a6851b10>>: AttributeError: module 'gast' has no attribute 'Index'\n",
      "WARNING: Entity <bound method LSTMCell.call of <tensorflow.python.ops.rnn_cell_impl.LSTMCell object at 0x7f53a6851b10>> could not be transformed and will be executed as-is. Please report this to the AutgoGraph team. When filing the bug, set the verbosity to 10 (on Linux, `export AUTOGRAPH_VERBOSITY=10`) and attach the full output. Cause: converting <bound method LSTMCell.call of <tensorflow.python.ops.rnn_cell_impl.LSTMCell object at 0x7f53a6851b10>>: AttributeError: module 'gast' has no attribute 'Index'\n",
      "WARNING:tensorflow:Entity <bound method LSTMCell.call of <tensorflow.python.ops.rnn_cell_impl.LSTMCell object at 0x7f53a6851b10>> could not be transformed and will be executed as-is. Please report this to the AutgoGraph team. When filing the bug, set the verbosity to 10 (on Linux, `export AUTOGRAPH_VERBOSITY=10`) and attach the full output. Cause: converting <bound method LSTMCell.call of <tensorflow.python.ops.rnn_cell_impl.LSTMCell object at 0x7f53a6851b10>>: AttributeError: module 'gast' has no attribute 'Index'\n",
      "WARNING: Entity <bound method LSTMCell.call of <tensorflow.python.ops.rnn_cell_impl.LSTMCell object at 0x7f53a6851b10>> could not be transformed and will be executed as-is. Please report this to the AutgoGraph team. When filing the bug, set the verbosity to 10 (on Linux, `export AUTOGRAPH_VERBOSITY=10`) and attach the full output. Cause: converting <bound method LSTMCell.call of <tensorflow.python.ops.rnn_cell_impl.LSTMCell object at 0x7f53a6851b10>>: AttributeError: module 'gast' has no attribute 'Index'\n",
      "WARNING:tensorflow:Entity <bound method LSTMCell.call of <tensorflow.python.ops.rnn_cell_impl.LSTMCell object at 0x7f53a6851b10>> could not be transformed and will be executed as-is. Please report this to the AutgoGraph team. When filing the bug, set the verbosity to 10 (on Linux, `export AUTOGRAPH_VERBOSITY=10`) and attach the full output. Cause: converting <bound method LSTMCell.call of <tensorflow.python.ops.rnn_cell_impl.LSTMCell object at 0x7f53a6851b10>>: AttributeError: module 'gast' has no attribute 'Index'\n",
      "WARNING: Entity <bound method LSTMCell.call of <tensorflow.python.ops.rnn_cell_impl.LSTMCell object at 0x7f53a6851b10>> could not be transformed and will be executed as-is. Please report this to the AutgoGraph team. When filing the bug, set the verbosity to 10 (on Linux, `export AUTOGRAPH_VERBOSITY=10`) and attach the full output. Cause: converting <bound method LSTMCell.call of <tensorflow.python.ops.rnn_cell_impl.LSTMCell object at 0x7f53a6851b10>>: AttributeError: module 'gast' has no attribute 'Index'\n",
      "WARNING:tensorflow:Entity <bound method LSTMCell.call of <tensorflow.python.ops.rnn_cell_impl.LSTMCell object at 0x7f53a6851b10>> could not be transformed and will be executed as-is. Please report this to the AutgoGraph team. When filing the bug, set the verbosity to 10 (on Linux, `export AUTOGRAPH_VERBOSITY=10`) and attach the full output. Cause: converting <bound method LSTMCell.call of <tensorflow.python.ops.rnn_cell_impl.LSTMCell object at 0x7f53a6851b10>>: AttributeError: module 'gast' has no attribute 'Index'\n",
      "WARNING: Entity <bound method LSTMCell.call of <tensorflow.python.ops.rnn_cell_impl.LSTMCell object at 0x7f53a6851b10>> could not be transformed and will be executed as-is. Please report this to the AutgoGraph team. When filing the bug, set the verbosity to 10 (on Linux, `export AUTOGRAPH_VERBOSITY=10`) and attach the full output. Cause: converting <bound method LSTMCell.call of <tensorflow.python.ops.rnn_cell_impl.LSTMCell object at 0x7f53a6851b10>>: AttributeError: module 'gast' has no attribute 'Index'\n",
      "WARNING:tensorflow:From /home/sheila/repos/ns-3-allinone/ns-3.29/scratch/RLinWiFi-master-original-queue-level-mean/agents/dqn/model.py:53: dense (from tensorflow.python.layers.core) is deprecated and will be removed in a future version.\n",
      "Instructions for updating:\n",
      "Use keras.layers.dense instead.\n",
      "WARNING:tensorflow:Entity <bound method Dense.call of <tensorflow.python.layers.core.Dense object at 0x7f53a6851b10>> could not be transformed and will be executed as-is. Please report this to the AutgoGraph team. When filing the bug, set the verbosity to 10 (on Linux, `export AUTOGRAPH_VERBOSITY=10`) and attach the full output. Cause: converting <bound method Dense.call of <tensorflow.python.layers.core.Dense object at 0x7f53a6851b10>>: AttributeError: module 'gast' has no attribute 'Index'\n",
      "WARNING: Entity <bound method Dense.call of <tensorflow.python.layers.core.Dense object at 0x7f53a6851b10>> could not be transformed and will be executed as-is. Please report this to the AutgoGraph team. When filing the bug, set the verbosity to 10 (on Linux, `export AUTOGRAPH_VERBOSITY=10`) and attach the full output. Cause: converting <bound method Dense.call of <tensorflow.python.layers.core.Dense object at 0x7f53a6851b10>>: AttributeError: module 'gast' has no attribute 'Index'\n",
      "WARNING:tensorflow:Entity <bound method Dense.call of <tensorflow.python.layers.core.Dense object at 0x7f53a6851b10>> could not be transformed and will be executed as-is. Please report this to the AutgoGraph team. When filing the bug, set the verbosity to 10 (on Linux, `export AUTOGRAPH_VERBOSITY=10`) and attach the full output. Cause: converting <bound method Dense.call of <tensorflow.python.layers.core.Dense object at 0x7f53a6851b10>>: AttributeError: module 'gast' has no attribute 'Index'\n"
     ]
    },
    {
     "name": "stdout",
     "output_type": "stream",
     "text": [
      "WARNING: Entity <bound method Dense.call of <tensorflow.python.layers.core.Dense object at 0x7f53a6851b10>> could not be transformed and will be executed as-is. Please report this to the AutgoGraph team. When filing the bug, set the verbosity to 10 (on Linux, `export AUTOGRAPH_VERBOSITY=10`) and attach the full output. Cause: converting <bound method Dense.call of <tensorflow.python.layers.core.Dense object at 0x7f53a6851b10>>: AttributeError: module 'gast' has no attribute 'Index'\n",
      "WARNING:tensorflow:Entity <bound method Dense.call of <tensorflow.python.layers.core.Dense object at 0x7f53a6851b10>> could not be transformed and will be executed as-is. Please report this to the AutgoGraph team. When filing the bug, set the verbosity to 10 (on Linux, `export AUTOGRAPH_VERBOSITY=10`) and attach the full output. Cause: converting <bound method Dense.call of <tensorflow.python.layers.core.Dense object at 0x7f53a6851b10>>: AttributeError: module 'gast' has no attribute 'Index'\n",
      "WARNING: Entity <bound method Dense.call of <tensorflow.python.layers.core.Dense object at 0x7f53a6851b10>> could not be transformed and will be executed as-is. Please report this to the AutgoGraph team. When filing the bug, set the verbosity to 10 (on Linux, `export AUTOGRAPH_VERBOSITY=10`) and attach the full output. Cause: converting <bound method Dense.call of <tensorflow.python.layers.core.Dense object at 0x7f53a6851b10>>: AttributeError: module 'gast' has no attribute 'Index'\n",
      "WARNING:tensorflow:From /home/sheila/repos/ns-3-allinone/ns-3.29/scratch/RLinWiFi-master-original-queue-level-mean/agents/dqn/model.py:69: The name tf.losses.mean_squared_error is deprecated. Please use tf.compat.v1.losses.mean_squared_error instead.\n",
      "\n",
      "WARNING:tensorflow:From /home/sheila/anaconda3/envs/environment_py3_7/lib/python3.7/site-packages/tensorflow/python/ops/losses/losses_impl.py:121: add_dispatch_support.<locals>.wrapper (from tensorflow.python.ops.array_ops) is deprecated and will be removed in a future version.\n",
      "Instructions for updating:\n",
      "Use tf.where in 2.0, which has the same broadcast rule as np.where\n",
      "WARNING:tensorflow:From /home/sheila/repos/ns-3-allinone/ns-3.29/scratch/RLinWiFi-master-original-queue-level-mean/agents/dqn/model.py:77: The name tf.train.AdamOptimizer is deprecated. Please use tf.compat.v1.train.AdamOptimizer instead.\n",
      "\n",
      "WARNING:tensorflow:From /home/sheila/repos/ns-3-allinone/ns-3.29/scratch/RLinWiFi-master-original-queue-level-mean/agents/dqn/model.py:33: The name tf.global_variables_initializer is deprecated. Please use tf.compat.v1.global_variables_initializer instead.\n",
      "\n",
      "WARNING:tensorflow:From /home/sheila/repos/ns-3-allinone/ns-3.29/scratch/RLinWiFi-master-original-queue-level-mean/agents/dqn/model.py:34: The name tf.local_variables_initializer is deprecated. Please use tf.compat.v1.local_variables_initializer instead.\n",
      "\n",
      "WARNING:tensorflow:Entity <bound method LSTMCell.call of <tensorflow.python.ops.rnn_cell_impl.LSTMCell object at 0x7f538f72dc90>> could not be transformed and will be executed as-is. Please report this to the AutgoGraph team. When filing the bug, set the verbosity to 10 (on Linux, `export AUTOGRAPH_VERBOSITY=10`) and attach the full output. Cause: converting <bound method LSTMCell.call of <tensorflow.python.ops.rnn_cell_impl.LSTMCell object at 0x7f538f72dc90>>: AttributeError: module 'gast' has no attribute 'Index'\n",
      "WARNING: Entity <bound method LSTMCell.call of <tensorflow.python.ops.rnn_cell_impl.LSTMCell object at 0x7f538f72dc90>> could not be transformed and will be executed as-is. Please report this to the AutgoGraph team. When filing the bug, set the verbosity to 10 (on Linux, `export AUTOGRAPH_VERBOSITY=10`) and attach the full output. Cause: converting <bound method LSTMCell.call of <tensorflow.python.ops.rnn_cell_impl.LSTMCell object at 0x7f538f72dc90>>: AttributeError: module 'gast' has no attribute 'Index'\n",
      "WARNING:tensorflow:Entity <bound method LSTMCell.call of <tensorflow.python.ops.rnn_cell_impl.LSTMCell object at 0x7f538f72dc90>> could not be transformed and will be executed as-is. Please report this to the AutgoGraph team. When filing the bug, set the verbosity to 10 (on Linux, `export AUTOGRAPH_VERBOSITY=10`) and attach the full output. Cause: converting <bound method LSTMCell.call of <tensorflow.python.ops.rnn_cell_impl.LSTMCell object at 0x7f538f72dc90>>: AttributeError: module 'gast' has no attribute 'Index'\n",
      "WARNING: Entity <bound method LSTMCell.call of <tensorflow.python.ops.rnn_cell_impl.LSTMCell object at 0x7f538f72dc90>> could not be transformed and will be executed as-is. Please report this to the AutgoGraph team. When filing the bug, set the verbosity to 10 (on Linux, `export AUTOGRAPH_VERBOSITY=10`) and attach the full output. Cause: converting <bound method LSTMCell.call of <tensorflow.python.ops.rnn_cell_impl.LSTMCell object at 0x7f538f72dc90>>: AttributeError: module 'gast' has no attribute 'Index'\n",
      "WARNING:tensorflow:Entity <bound method LSTMCell.call of <tensorflow.python.ops.rnn_cell_impl.LSTMCell object at 0x7f538f72dc90>> could not be transformed and will be executed as-is. Please report this to the AutgoGraph team. When filing the bug, set the verbosity to 10 (on Linux, `export AUTOGRAPH_VERBOSITY=10`) and attach the full output. Cause: converting <bound method LSTMCell.call of <tensorflow.python.ops.rnn_cell_impl.LSTMCell object at 0x7f538f72dc90>>: AttributeError: module 'gast' has no attribute 'Index'\n",
      "WARNING: Entity <bound method LSTMCell.call of <tensorflow.python.ops.rnn_cell_impl.LSTMCell object at 0x7f538f72dc90>> could not be transformed and will be executed as-is. Please report this to the AutgoGraph team. When filing the bug, set the verbosity to 10 (on Linux, `export AUTOGRAPH_VERBOSITY=10`) and attach the full output. Cause: converting <bound method LSTMCell.call of <tensorflow.python.ops.rnn_cell_impl.LSTMCell object at 0x7f538f72dc90>>: AttributeError: module 'gast' has no attribute 'Index'\n",
      "WARNING:tensorflow:Entity <bound method LSTMCell.call of <tensorflow.python.ops.rnn_cell_impl.LSTMCell object at 0x7f538f72dc90>> could not be transformed and will be executed as-is. Please report this to the AutgoGraph team. When filing the bug, set the verbosity to 10 (on Linux, `export AUTOGRAPH_VERBOSITY=10`) and attach the full output. Cause: converting <bound method LSTMCell.call of <tensorflow.python.ops.rnn_cell_impl.LSTMCell object at 0x7f538f72dc90>>: AttributeError: module 'gast' has no attribute 'Index'\n",
      "WARNING: Entity <bound method LSTMCell.call of <tensorflow.python.ops.rnn_cell_impl.LSTMCell object at 0x7f538f72dc90>> could not be transformed and will be executed as-is. Please report this to the AutgoGraph team. When filing the bug, set the verbosity to 10 (on Linux, `export AUTOGRAPH_VERBOSITY=10`) and attach the full output. Cause: converting <bound method LSTMCell.call of <tensorflow.python.ops.rnn_cell_impl.LSTMCell object at 0x7f538f72dc90>>: AttributeError: module 'gast' has no attribute 'Index'\n",
      "WARNING:tensorflow:Entity <bound method Dense.call of <tensorflow.python.layers.core.Dense object at 0x7f538f72dc90>> could not be transformed and will be executed as-is. Please report this to the AutgoGraph team. When filing the bug, set the verbosity to 10 (on Linux, `export AUTOGRAPH_VERBOSITY=10`) and attach the full output. Cause: converting <bound method Dense.call of <tensorflow.python.layers.core.Dense object at 0x7f538f72dc90>>: AttributeError: module 'gast' has no attribute 'Index'\n",
      "WARNING: Entity <bound method Dense.call of <tensorflow.python.layers.core.Dense object at 0x7f538f72dc90>> could not be transformed and will be executed as-is. Please report this to the AutgoGraph team. When filing the bug, set the verbosity to 10 (on Linux, `export AUTOGRAPH_VERBOSITY=10`) and attach the full output. Cause: converting <bound method Dense.call of <tensorflow.python.layers.core.Dense object at 0x7f538f72dc90>>: AttributeError: module 'gast' has no attribute 'Index'\n",
      "WARNING:tensorflow:Entity <bound method Dense.call of <tensorflow.python.layers.core.Dense object at 0x7f538f72dc90>> could not be transformed and will be executed as-is. Please report this to the AutgoGraph team. When filing the bug, set the verbosity to 10 (on Linux, `export AUTOGRAPH_VERBOSITY=10`) and attach the full output. Cause: converting <bound method Dense.call of <tensorflow.python.layers.core.Dense object at 0x7f538f72dc90>>: AttributeError: module 'gast' has no attribute 'Index'\n"
     ]
    },
    {
     "name": "stdout",
     "output_type": "stream",
     "text": [
      "WARNING: Entity <bound method Dense.call of <tensorflow.python.layers.core.Dense object at 0x7f538f72dc90>> could not be transformed and will be executed as-is. Please report this to the AutgoGraph team. When filing the bug, set the verbosity to 10 (on Linux, `export AUTOGRAPH_VERBOSITY=10`) and attach the full output. Cause: converting <bound method Dense.call of <tensorflow.python.layers.core.Dense object at 0x7f538f72dc90>>: AttributeError: module 'gast' has no attribute 'Index'\n",
      "WARNING:tensorflow:Entity <bound method Dense.call of <tensorflow.python.layers.core.Dense object at 0x7f538f9c6990>> could not be transformed and will be executed as-is. Please report this to the AutgoGraph team. When filing the bug, set the verbosity to 10 (on Linux, `export AUTOGRAPH_VERBOSITY=10`) and attach the full output. Cause: converting <bound method Dense.call of <tensorflow.python.layers.core.Dense object at 0x7f538f9c6990>>: AttributeError: module 'gast' has no attribute 'Index'\n",
      "WARNING: Entity <bound method Dense.call of <tensorflow.python.layers.core.Dense object at 0x7f538f9c6990>> could not be transformed and will be executed as-is. Please report this to the AutgoGraph team. When filing the bug, set the verbosity to 10 (on Linux, `export AUTOGRAPH_VERBOSITY=10`) and attach the full output. Cause: converting <bound method Dense.call of <tensorflow.python.layers.core.Dense object at 0x7f538f9c6990>>: AttributeError: module 'gast' has no attribute 'Index'\n",
      "WARNING:tensorflow:From /home/sheila/repos/ns-3-allinone/ns-3.29/scratch/RLinWiFi-master-original-queue-level-mean/agents/dqn/agent.py:77: The name tf.train.Saver is deprecated. Please use tf.compat.v1.train.Saver instead.\n",
      "\n",
      "Action space: 7\n",
      "WARNING:tensorflow:From /home/sheila/repos/ns-3-allinone/ns-3.29/scratch/RLinWiFi-master-original-queue-level-mean/agents/dqn/agent.py:107: Variable.load (from tensorflow.python.ops.variables) is deprecated and will be removed in a future version.\n",
      "Instructions for updating:\n",
      "Prefer Variable.assign which has equivalent behavior in 2.X.\n"
     ]
    },
    {
     "name": "stderr",
     "output_type": "stream",
     "text": [
      "COMET INFO: Experiment is live on comet.ml https://www.comet.com/sheila-janota/rl-in-wifi-with-queue-level/f7997899bbd5488b8d0713a3be4550b7\n",
      "\n"
     ]
    },
    {
     "name": "stdout",
     "output_type": "stream",
     "text": [
      "0\n",
      "40.343994|0|5|-nan\n"
     ]
    },
    {
     "name": "stderr",
     "output_type": "stream",
     "text": [
      "  5%|▌         | 333/6300 [01:32<38:11,  2.60it/s, curr_speed=27.54 Mbps, mb_sent=8.81 Mb]"
     ]
    },
    {
     "name": "stdout",
     "output_type": "stream",
     "text": [
      "------- STARTED TRAINING -------\n"
     ]
    },
    {
     "name": "stderr",
     "output_type": "stream",
     "text": [
      "100%|██████████| 6300/6300 [1:01:39<00:00,  1.70it/s, curr_speed=32.70 Mbps, mb_sent=1920.56 Mb]\n"
     ]
    },
    {
     "name": "stdout",
     "output_type": "stream",
     "text": [
      "Waiting for simulation script to connect on port: tcp://localhost:21957\n",
      "Please start proper ns-3 simulation script using ./waf --run \"...\"\n",
      "Sent 1920.56 Mb/s.\tMean speed: 32.01 Mb/s\tEpisode 1/15 finished\n",
      "\n",
      "1\n",
      "40.343994|0|5|-nan\n"
     ]
    },
    {
     "name": "stderr",
     "output_type": "stream",
     "text": [
      "100%|██████████| 6300/6300 [1:00:55<00:00,  1.72it/s, curr_speed=33.90 Mbps, mb_sent=2038.88 Mb]\n"
     ]
    },
    {
     "name": "stdout",
     "output_type": "stream",
     "text": [
      "Waiting for simulation script to connect on port: tcp://localhost:25121\n",
      "Please start proper ns-3 simulation script using ./waf --run \"...\"\n",
      "Sent 2038.88 Mb/s.\tMean speed: 33.98 Mb/s\tEpisode 2/15 finished\n",
      "\n",
      "2\n",
      "40.343994|0|5|-nan\n"
     ]
    },
    {
     "name": "stderr",
     "output_type": "stream",
     "text": [
      "100%|██████████| 6300/6300 [1:01:46<00:00,  1.70it/s, curr_speed=34.90 Mbps, mb_sent=2126.10 Mb]\n"
     ]
    },
    {
     "name": "stdout",
     "output_type": "stream",
     "text": [
      "Waiting for simulation script to connect on port: tcp://localhost:21791\n",
      "Please start proper ns-3 simulation script using ./waf --run \"...\"\n",
      "Sent 2126.10 Mb/s.\tMean speed: 35.44 Mb/s\tEpisode 3/15 finished\n",
      "\n",
      "3\n",
      "40.343994|0|5|-nan\n"
     ]
    },
    {
     "name": "stderr",
     "output_type": "stream",
     "text": [
      "  5%|▍         | 304/6300 [01:22<30:42,  3.25it/s, curr_speed=39.47 Mbps, mb_sent=1.18 Mb]"
     ]
    },
    {
     "name": "stdout",
     "output_type": "stream",
     "text": [
      "------- MEMORY BUFFER FILLED -------\n"
     ]
    },
    {
     "name": "stderr",
     "output_type": "stream",
     "text": [
      "100%|██████████| 6300/6300 [1:02:17<00:00,  1.69it/s, curr_speed=34.64 Mbps, mb_sent=2174.96 Mb]\n"
     ]
    },
    {
     "name": "stdout",
     "output_type": "stream",
     "text": [
      "Waiting for simulation script to connect on port: tcp://localhost:47983\n",
      "Please start proper ns-3 simulation script using ./waf --run \"...\"\n",
      "Sent 2174.96 Mb/s.\tMean speed: 36.25 Mb/s\tEpisode 4/15 finished\n",
      "\n",
      "4\n",
      "40.343994|0|5|-nan\n"
     ]
    },
    {
     "name": "stderr",
     "output_type": "stream",
     "text": [
      "100%|██████████| 6300/6300 [1:02:24<00:00,  1.68it/s, curr_speed=37.17 Mbps, mb_sent=2219.75 Mb]\n"
     ]
    },
    {
     "name": "stdout",
     "output_type": "stream",
     "text": [
      "Waiting for simulation script to connect on port: tcp://localhost:27748\n",
      "Please start proper ns-3 simulation script using ./waf --run \"...\"\n",
      "Sent 2219.75 Mb/s.\tMean speed: 37.00 Mb/s\tEpisode 5/15 finished\n",
      "\n",
      "5\n",
      "40.343994|0|5|-nan\n"
     ]
    },
    {
     "name": "stderr",
     "output_type": "stream",
     "text": [
      " 27%|██▋       | 1719/6300 [11:00<37:24,  2.04it/s, curr_speed=37.56 Mbps, mb_sent=533.94 Mb]COMET ERROR: File could not be uploaded\n",
      " 27%|██▋       | 1720/6300 [11:01<36:32,  2.09it/s, curr_speed=37.70 Mbps, mb_sent=534.37 Mb]COMET ERROR: File could not be uploaded\n",
      " 27%|██▋       | 1721/6300 [11:01<36:28,  2.09it/s, curr_speed=37.73 Mbps, mb_sent=534.75 Mb]COMET ERROR: File could not be uploaded\n",
      " 27%|██▋       | 1722/6300 [11:01<35:35,  2.14it/s, curr_speed=37.67 Mbps, mb_sent=535.08 Mb]COMET ERROR: File could not be uploaded\n",
      " 27%|██▋       | 1723/6300 [11:02<35:50,  2.13it/s, curr_speed=37.72 Mbps, mb_sent=535.51 Mb]COMET ERROR: File could not be uploaded\n",
      "100%|██████████| 6300/6300 [1:02:28<00:00,  1.68it/s, curr_speed=34.68 Mbps, mb_sent=2229.31 Mb]\n"
     ]
    },
    {
     "name": "stdout",
     "output_type": "stream",
     "text": [
      "Waiting for simulation script to connect on port: tcp://localhost:27820\n",
      "Please start proper ns-3 simulation script using ./waf --run \"...\"\n",
      "Sent 2229.31 Mb/s.\tMean speed: 37.16 Mb/s\tEpisode 6/15 finished\n",
      "\n",
      "6\n",
      "40.343994|0|5|-nan\n"
     ]
    },
    {
     "name": "stderr",
     "output_type": "stream",
     "text": [
      "100%|██████████| 6300/6300 [1:02:54<00:00,  1.67it/s, curr_speed=37.32 Mbps, mb_sent=2255.54 Mb]\n"
     ]
    },
    {
     "name": "stdout",
     "output_type": "stream",
     "text": [
      "Waiting for simulation script to connect on port: tcp://localhost:17607\n",
      "Please start proper ns-3 simulation script using ./waf --run \"...\"\n",
      "Sent 2255.54 Mb/s.\tMean speed: 37.59 Mb/s\tEpisode 7/15 finished\n",
      "\n",
      "7\n",
      "40.343994|0|5|-nan\n"
     ]
    },
    {
     "name": "stderr",
     "output_type": "stream",
     "text": [
      "100%|██████████| 6300/6300 [1:02:19<00:00,  1.68it/s, curr_speed=37.94 Mbps, mb_sent=2264.94 Mb]\n"
     ]
    },
    {
     "name": "stdout",
     "output_type": "stream",
     "text": [
      "Waiting for simulation script to connect on port: tcp://localhost:35496\n",
      "Please start proper ns-3 simulation script using ./waf --run \"...\"\n",
      "Sent 2264.94 Mb/s.\tMean speed: 37.75 Mb/s\tEpisode 8/15 finished\n",
      "\n",
      "8\n",
      "40.343994|0|5|-nan\n"
     ]
    },
    {
     "name": "stderr",
     "output_type": "stream",
     "text": [
      "100%|██████████| 6300/6300 [1:01:35<00:00,  1.71it/s, curr_speed=37.80 Mbps, mb_sent=2267.50 Mb]\n"
     ]
    },
    {
     "name": "stdout",
     "output_type": "stream",
     "text": [
      "Waiting for simulation script to connect on port: tcp://localhost:22499\n",
      "Please start proper ns-3 simulation script using ./waf --run \"...\"\n",
      "Sent 2267.50 Mb/s.\tMean speed: 37.79 Mb/s\tEpisode 9/15 finished\n",
      "\n",
      "9\n",
      "40.343994|0|5|-nan\n"
     ]
    },
    {
     "name": "stderr",
     "output_type": "stream",
     "text": [
      "100%|██████████| 6300/6300 [1:02:36<00:00,  1.68it/s, curr_speed=38.48 Mbps, mb_sent=2271.39 Mb]\n"
     ]
    },
    {
     "name": "stdout",
     "output_type": "stream",
     "text": [
      "Waiting for simulation script to connect on port: tcp://localhost:26886\n",
      "Please start proper ns-3 simulation script using ./waf --run \"...\"\n",
      "Sent 2271.39 Mb/s.\tMean speed: 37.86 Mb/s\tEpisode 10/15 finished\n",
      "\n",
      "10\n",
      "40.343994|0|5|-nan\n"
     ]
    },
    {
     "name": "stderr",
     "output_type": "stream",
     "text": [
      "100%|██████████| 6300/6300 [1:02:00<00:00,  1.69it/s, curr_speed=38.24 Mbps, mb_sent=2271.27 Mb]\n"
     ]
    },
    {
     "name": "stdout",
     "output_type": "stream",
     "text": [
      "Waiting for simulation script to connect on port: tcp://localhost:28622\n",
      "Please start proper ns-3 simulation script using ./waf --run \"...\"\n",
      "Sent 2271.27 Mb/s.\tMean speed: 37.85 Mb/s\tEpisode 11/15 finished\n",
      "\n",
      "11\n",
      "40.343994|0|5|-nan\n"
     ]
    },
    {
     "name": "stderr",
     "output_type": "stream",
     "text": [
      "100%|██████████| 6300/6300 [1:01:47<00:00,  1.70it/s, curr_speed=37.91 Mbps, mb_sent=2270.77 Mb]\n"
     ]
    },
    {
     "name": "stdout",
     "output_type": "stream",
     "text": [
      "Waiting for simulation script to connect on port: tcp://localhost:46243\n",
      "Please start proper ns-3 simulation script using ./waf --run \"...\"\n",
      "WARNING:tensorflow:From /home/sheila/anaconda3/envs/environment_py3_7/lib/python3.7/site-packages/tensorflow/python/training/saver.py:960: remove_checkpoint (from tensorflow.python.training.checkpoint_management) is deprecated and will be removed in a future version.\n",
      "Instructions for updating:\n",
      "Use standard file APIs to delete files with this prefix.\n",
      "Sent 2270.77 Mb/s.\tMean speed: 37.85 Mb/s\tEpisode 12/15 finished\n",
      "\n",
      "12\n",
      "Turning off noise\n",
      "40.343994|0|5|-nan\n"
     ]
    },
    {
     "name": "stderr",
     "output_type": "stream",
     "text": [
      "100%|██████████| 6300/6300 [1:02:13<00:00,  1.69it/s, curr_speed=37.67 Mbps, mb_sent=2270.99 Mb]\n"
     ]
    },
    {
     "name": "stdout",
     "output_type": "stream",
     "text": [
      "Waiting for simulation script to connect on port: tcp://localhost:48647\n",
      "Please start proper ns-3 simulation script using ./waf --run \"...\"\n",
      "Sent 2270.99 Mb/s.\tMean speed: 37.85 Mb/s\tEpisode 13/15 finished\n",
      "\n",
      "13\n",
      "Turning off noise\n",
      "40.343994|0|5|-nan\n"
     ]
    },
    {
     "name": "stderr",
     "output_type": "stream",
     "text": [
      "100%|██████████| 6300/6300 [1:01:58<00:00,  1.69it/s, curr_speed=37.84 Mbps, mb_sent=2270.37 Mb]\n"
     ]
    },
    {
     "name": "stdout",
     "output_type": "stream",
     "text": [
      "Waiting for simulation script to connect on port: tcp://localhost:21126\n",
      "Please start proper ns-3 simulation script using ./waf --run \"...\"\n",
      "Sent 2270.37 Mb/s.\tMean speed: 37.84 Mb/s\tEpisode 14/15 finished\n",
      "\n",
      "14\n",
      "Turning off noise\n",
      "40.343994|0|5|-nan\n"
     ]
    },
    {
     "name": "stderr",
     "output_type": "stream",
     "text": [
      "100%|██████████| 6300/6300 [1:01:21<00:00,  1.71it/s, curr_speed=38.13 Mbps, mb_sent=2275.75 Mb]\n"
     ]
    },
    {
     "name": "stdout",
     "output_type": "stream",
     "text": [
      "Waiting for simulation script to connect on port: tcp://localhost:20776\n",
      "Please start proper ns-3 simulation script using ./waf --run \"...\"\n"
     ]
    },
    {
     "name": "stderr",
     "output_type": "stream",
     "text": [
      "COMET INFO: ----------------------------\n",
      "COMET INFO: Comet.ml Experiment Summary:\n",
      "COMET INFO:   Data:\n",
      "COMET INFO:     url: https://www.comet.com/sheila-janota/rl-in-wifi-with-queue-level/f7997899bbd5488b8d0713a3be4550b7\n",
      "COMET INFO:   Metrics [count] (min, max):\n",
      "COMET INFO:     Chosen CW [89985]           : (16.0, 1024.0)\n",
      "COMET INFO:     Cumulative reward [15]      : (2551.42626953125, 3183.318359375)\n",
      "COMET INFO:     Current throughput [89985]  : (25.242921829223633, 51.915523529052734)\n",
      "COMET INFO:     Fairness index [89985]      : (0.03962400183081627, 0.9988669753074646)\n",
      "COMET INFO:     Megabytes sent [89985]      : (0.3350830078125, 2275.7497245669365)\n",
      "COMET INFO:     Observation 0 [89985]       : (0.1288403188623488, 0.9648139524459839)\n",
      "COMET INFO:     Observation 1 [89985]       : (0.0, 0.027269773558996527)\n",
      "COMET INFO:     Per-ep reward [89985]       : (99.720703125, 3183.318359375)\n",
      "COMET INFO:     Round megabytes sent [89985]: (0.022338999435305595, 17.9381103515625)\n",
      "COMET INFO:     Round reward [89985]        : (0.02978515625, 0.6552734375)\n",
      "COMET INFO:     Speed [15]                  : (32.009363095803806, 37.92916207611561)\n",
      "COMET INFO:     Station count [89985]       : (5.0, 30.0)\n",
      "COMET INFO:     loss [89985]                : (0.0, 0.1518843099474907)\n",
      "COMET INFO:   Uploads:\n",
      "COMET INFO:     histogram3d: 89985\n",
      "COMET INFO: ----------------------------\n",
      "COMET INFO: Uploading stats to Comet before program termination (may take several seconds)\n"
     ]
    },
    {
     "name": "stdout",
     "output_type": "stream",
     "text": [
      "Sent 2275.75 Mb/s.\tMean speed: 37.93 Mb/s\tEpisode 15/15 finished\n",
      "\n"
     ]
    },
    {
     "name": "stderr",
     "output_type": "stream",
     "text": [
      "COMET INFO: Waiting for completion of the file uploads (may take several seconds)\n",
      "COMET INFO: Still uploading\n",
      "COMET INFO: Still uploading\n",
      "COMET INFO: Still uploading\n",
      "COMET INFO: Still uploading\n",
      "COMET INFO: Still uploading\n",
      "COMET INFO: Still uploading\n",
      "COMET INFO: Still uploading\n",
      "COMET INFO: Still uploading\n",
      "COMET INFO: Still uploading\n",
      "COMET INFO: Still uploading\n",
      "COMET INFO: Still uploading\n",
      "COMET INFO: Still uploading\n",
      "COMET INFO: Still uploading\n",
      "COMET INFO: Still uploading\n",
      "COMET INFO: Still uploading\n",
      "COMET INFO: Still uploading\n",
      "COMET INFO: Still uploading\n",
      "COMET INFO: Still uploading\n",
      "COMET INFO: Still uploading\n",
      "COMET INFO: Still uploading\n",
      "COMET INFO: Still uploading\n",
      "COMET INFO: Still uploading\n",
      "COMET INFO: Still uploading\n",
      "COMET INFO: Still uploading\n",
      "COMET INFO: Still uploading\n",
      "COMET INFO: Still uploading\n",
      "COMET INFO: Still uploading\n",
      "COMET INFO: Still uploading\n",
      "COMET INFO: Still uploading\n",
      "COMET INFO: Still uploading\n",
      "COMET INFO: Still uploading\n",
      "COMET INFO: Still uploading\n",
      "COMET INFO: Still uploading\n",
      "COMET INFO: Still uploading\n",
      "COMET INFO: Still uploading\n",
      "COMET INFO: Still uploading\n",
      "COMET INFO: Still uploading\n",
      "COMET INFO: Still uploading\n",
      "COMET INFO: Still uploading\n",
      "COMET INFO: Still uploading\n",
      "COMET INFO: Still uploading\n",
      "COMET INFO: Still uploading\n",
      "COMET INFO: Still uploading\n",
      "COMET INFO: Still uploading\n",
      "COMET INFO: Still uploading\n",
      "COMET INFO: Still uploading\n",
      "COMET INFO: Still uploading\n",
      "COMET INFO: Still uploading\n",
      "COMET INFO: Still uploading\n",
      "COMET INFO: Still uploading\n",
      "COMET INFO: Still uploading\n",
      "COMET INFO: Still uploading\n",
      "COMET INFO: Still uploading\n",
      "COMET INFO: Still uploading\n",
      "COMET INFO: Still uploading\n",
      "COMET INFO: Still uploading\n",
      "COMET INFO: Still uploading\n",
      "COMET INFO: Still uploading\n",
      "COMET INFO: Still uploading\n",
      "COMET INFO: Still uploading\n",
      "COMET INFO: Still uploading\n",
      "COMET INFO: Still uploading\n",
      "COMET INFO: Still uploading\n",
      "COMET INFO: Still uploading\n",
      "COMET INFO: Still uploading\n",
      "COMET INFO: Still uploading\n",
      "COMET INFO: Still uploading\n",
      "COMET INFO: Still uploading\n",
      "COMET INFO: Still uploading\n",
      "COMET INFO: Still uploading\n",
      "COMET INFO: Still uploading\n",
      "COMET INFO: Still uploading\n",
      "COMET INFO: Still uploading\n",
      "COMET INFO: Still uploading\n",
      "COMET INFO: Still uploading\n",
      "COMET INFO: Still uploading\n",
      "COMET INFO: Still uploading\n",
      "COMET INFO: Still uploading\n",
      "COMET INFO: Still uploading\n",
      "COMET INFO: Still uploading\n",
      "COMET INFO: Still uploading\n",
      "COMET INFO: Still uploading\n",
      "COMET INFO: Still uploading\n",
      "COMET INFO: Still uploading\n",
      "COMET INFO: Still uploading\n",
      "COMET INFO: Still uploading\n",
      "COMET INFO: Still uploading\n",
      "COMET INFO: Still uploading\n",
      "COMET INFO: Still uploading\n",
      "COMET INFO: Still uploading\n",
      "COMET INFO: Still uploading\n",
      "COMET INFO: Still uploading\n",
      "COMET INFO: Still uploading\n",
      "COMET INFO: Still uploading\n",
      "COMET INFO: Still uploading\n",
      "COMET INFO: Still uploading\n",
      "COMET INFO: Still uploading\n",
      "COMET INFO: Still uploading\n",
      "COMET INFO: Still uploading\n",
      "COMET INFO: Still uploading\n",
      "COMET INFO: Still uploading\n",
      "COMET INFO: Still uploading\n",
      "COMET INFO: Still uploading\n",
      "COMET INFO: Still uploading\n",
      "COMET INFO: Still uploading\n",
      "COMET INFO: Still uploading\n",
      "COMET INFO: Still uploading\n",
      "COMET INFO: Still uploading\n",
      "COMET INFO: Still uploading\n",
      "COMET INFO: Still uploading\n",
      "COMET INFO: Still uploading\n",
      "COMET INFO: Still uploading\n",
      "COMET INFO: Still uploading\n",
      "COMET INFO: Still uploading\n",
      "COMET INFO: Still uploading\n",
      "COMET INFO: Still uploading\n",
      "COMET INFO: Still uploading\n",
      "COMET INFO: Still uploading\n",
      "COMET INFO: Still uploading\n",
      "COMET ERROR: Comet failed to send all the data back (0 messages and 1 uploads)\n",
      "COMET WARNING: Failed to log run in comet.ml\n"
     ]
    },
    {
     "name": "stdout",
     "output_type": "stream",
     "text": [
      "Training finished.\n"
     ]
    }
   ],
   "source": [
    "#%%\n",
    "teacher = Teacher(env, 1, Preprocessor(False))\n",
    "\n",
    "lr = 4e-4\n",
    "config = Config(buffer_size=3*steps_per_ep*threads_no, batch_size=32, gamma=0.7, tau=1e-3, lr=lr, update_every=1)\n",
    "agent = Agent(QNetworkTf, history_length, action_size=7, config=config)\n",
    "agent.set_epsilon(0.9, 0.001, EPISODE_COUNT-2)\n",
    "\n",
    "# Test the model\n",
    "hyperparams = {**config.__dict__, **sim_args}\n",
    "tags = [\"Rew: normalized speed\",\n",
    "        \"Final\",\n",
    "        f\"{Agent.NAME}\",\n",
    "        sim_args['scenario'],\n",
    "        f\"LR: {lr}\",\n",
    "        f\"Instances: {threads_no}\",\n",
    "        f\"Station count: {sim_args['nWifi']}\",\n",
    "        *[f\"{key}: {sim_args[key]}\" for key in list(sim_args)[:3]]]\n",
    "# # agent.save()\n",
    "logger = teacher.train(agent, EPISODE_COUNT,\n",
    "                        simTime=simTime,\n",
    "                        stepTime=stepTime,\n",
    "                        history_length=history_length,\n",
    "                        send_logs=True,\n",
    "                        experimental=True,\n",
    "                        tags=tags,\n",
    "                        parameters=hyperparams)\n",
    "#logger = teacher.eval(agent,\n",
    "#                        simTime=simTime,\n",
    "#                        stepTime=stepTime,\n",
    "#                        history_length=history_length,\n",
    "#                        tags=tags,\n",
    "#                        parameters=hyperparams)\n",
    "# agent.save()\n",
    "\n",
    "\n",
    "# %%"
   ]
  },
  {
   "cell_type": "code",
   "execution_count": null,
   "id": "4fab7c1b",
   "metadata": {},
   "outputs": [],
   "source": []
  },
  {
   "cell_type": "markdown",
   "id": "3c107278",
   "metadata": {},
   "source": [
    "# Execution num4:"
   ]
  },
  {
   "cell_type": "code",
   "execution_count": 1,
   "id": "a045ff02",
   "metadata": {},
   "outputs": [
    {
     "name": "stderr",
     "output_type": "stream",
     "text": [
      "/home/sheila/anaconda3/envs/environment_py3_7/lib/python3.7/site-packages/tensorflow/python/framework/dtypes.py:516: FutureWarning: Passing (type, 1) or '1type' as a synonym of type is deprecated; in a future version of numpy, it will be understood as (type, (1,)) / '(1,)type'.\n",
      "  _np_qint8 = np.dtype([(\"qint8\", np.int8, 1)])\n",
      "/home/sheila/anaconda3/envs/environment_py3_7/lib/python3.7/site-packages/tensorflow/python/framework/dtypes.py:517: FutureWarning: Passing (type, 1) or '1type' as a synonym of type is deprecated; in a future version of numpy, it will be understood as (type, (1,)) / '(1,)type'.\n",
      "  _np_quint8 = np.dtype([(\"quint8\", np.uint8, 1)])\n",
      "/home/sheila/anaconda3/envs/environment_py3_7/lib/python3.7/site-packages/tensorflow/python/framework/dtypes.py:518: FutureWarning: Passing (type, 1) or '1type' as a synonym of type is deprecated; in a future version of numpy, it will be understood as (type, (1,)) / '(1,)type'.\n",
      "  _np_qint16 = np.dtype([(\"qint16\", np.int16, 1)])\n",
      "/home/sheila/anaconda3/envs/environment_py3_7/lib/python3.7/site-packages/tensorflow/python/framework/dtypes.py:519: FutureWarning: Passing (type, 1) or '1type' as a synonym of type is deprecated; in a future version of numpy, it will be understood as (type, (1,)) / '(1,)type'.\n",
      "  _np_quint16 = np.dtype([(\"quint16\", np.uint16, 1)])\n",
      "/home/sheila/anaconda3/envs/environment_py3_7/lib/python3.7/site-packages/tensorflow/python/framework/dtypes.py:520: FutureWarning: Passing (type, 1) or '1type' as a synonym of type is deprecated; in a future version of numpy, it will be understood as (type, (1,)) / '(1,)type'.\n",
      "  _np_qint32 = np.dtype([(\"qint32\", np.int32, 1)])\n",
      "/home/sheila/anaconda3/envs/environment_py3_7/lib/python3.7/site-packages/tensorflow/python/framework/dtypes.py:525: FutureWarning: Passing (type, 1) or '1type' as a synonym of type is deprecated; in a future version of numpy, it will be understood as (type, (1,)) / '(1,)type'.\n",
      "  np_resource = np.dtype([(\"resource\", np.ubyte, 1)])\n",
      "/home/sheila/anaconda3/envs/environment_py3_7/lib/python3.7/site-packages/tensorboard/compat/tensorflow_stub/dtypes.py:541: FutureWarning: Passing (type, 1) or '1type' as a synonym of type is deprecated; in a future version of numpy, it will be understood as (type, (1,)) / '(1,)type'.\n",
      "  _np_qint8 = np.dtype([(\"qint8\", np.int8, 1)])\n",
      "/home/sheila/anaconda3/envs/environment_py3_7/lib/python3.7/site-packages/tensorboard/compat/tensorflow_stub/dtypes.py:542: FutureWarning: Passing (type, 1) or '1type' as a synonym of type is deprecated; in a future version of numpy, it will be understood as (type, (1,)) / '(1,)type'.\n",
      "  _np_quint8 = np.dtype([(\"quint8\", np.uint8, 1)])\n",
      "/home/sheila/anaconda3/envs/environment_py3_7/lib/python3.7/site-packages/tensorboard/compat/tensorflow_stub/dtypes.py:543: FutureWarning: Passing (type, 1) or '1type' as a synonym of type is deprecated; in a future version of numpy, it will be understood as (type, (1,)) / '(1,)type'.\n",
      "  _np_qint16 = np.dtype([(\"qint16\", np.int16, 1)])\n",
      "/home/sheila/anaconda3/envs/environment_py3_7/lib/python3.7/site-packages/tensorboard/compat/tensorflow_stub/dtypes.py:544: FutureWarning: Passing (type, 1) or '1type' as a synonym of type is deprecated; in a future version of numpy, it will be understood as (type, (1,)) / '(1,)type'.\n",
      "  _np_quint16 = np.dtype([(\"quint16\", np.uint16, 1)])\n",
      "/home/sheila/anaconda3/envs/environment_py3_7/lib/python3.7/site-packages/tensorboard/compat/tensorflow_stub/dtypes.py:545: FutureWarning: Passing (type, 1) or '1type' as a synonym of type is deprecated; in a future version of numpy, it will be understood as (type, (1,)) / '(1,)type'.\n",
      "  _np_qint32 = np.dtype([(\"qint32\", np.int32, 1)])\n",
      "/home/sheila/anaconda3/envs/environment_py3_7/lib/python3.7/site-packages/tensorboard/compat/tensorflow_stub/dtypes.py:550: FutureWarning: Passing (type, 1) or '1type' as a synonym of type is deprecated; in a future version of numpy, it will be understood as (type, (1,)) / '(1,)type'.\n",
      "  np_resource = np.dtype([(\"resource\", np.ubyte, 1)])\n"
     ]
    }
   ],
   "source": [
    "#%%\n",
    "from ns3gym import ns3env\n",
    "from comet_ml import Experiment, Optimizer\n",
    "import tqdm\n",
    "import subprocess\n",
    "from collections import deque\n",
    "import numpy as np\n",
    "\n",
    "from agents.dqn.agent import Agent, Config\n",
    "from agents.dqn.model import QNetworkTf\n",
    "from agents.teacher import Teacher, EnvWrapper\n",
    "from preprocessor import Preprocessor"
   ]
  },
  {
   "cell_type": "code",
   "execution_count": 2,
   "id": "ca04f639",
   "metadata": {},
   "outputs": [
    {
     "name": "stdout",
     "output_type": "stream",
     "text": [
      "Steps per episode: 6000\n",
      "Waiting for simulation script to connect on port: tcp://localhost:46124\n",
      "Please start proper ns-3 simulation script using ./waf --run \"...\"\n",
      "40.343994|0|5|-nan\n",
      "Observation space shape: (1, 300)\n",
      "Action space shape: (1, 1)\n"
     ]
    }
   ],
   "source": [
    "#%%\n",
    "scenario = \"convergence\"\n",
    "\n",
    "simTime = 60 # seconds\n",
    "stepTime = 0.01  # seconds\n",
    "history_length = 300\n",
    "\n",
    "EPISODE_COUNT = 15\n",
    "steps_per_ep = int(simTime/stepTime)\n",
    "\n",
    "sim_args = {\n",
    "    \"simTime\": simTime,\n",
    "    \"envStepTime\": stepTime,\n",
    "    \"historyLength\": history_length,\n",
    "    \"agentType\": Agent.TYPE,\n",
    "    \"scenario\": \"convergence\",\n",
    "    \"nWifi\": 30,\n",
    "}\n",
    "\n",
    "print(\"Steps per episode:\", steps_per_ep)\n",
    "\n",
    "threads_no = 1\n",
    "env = EnvWrapper(threads_no, **sim_args)\n",
    "\n",
    "#%%\n",
    "env.reset()\n",
    "ob_space = env.observation_space\n",
    "ac_space = env.action_space\n",
    "\n",
    "print(\"Observation space shape:\", ob_space)\n",
    "print(\"Action space shape:\", ac_space)\n",
    "\n",
    "assert ob_space is not None"
   ]
  },
  {
   "cell_type": "code",
   "execution_count": 3,
   "id": "f72299bf",
   "metadata": {},
   "outputs": [
    {
     "name": "stdout",
     "output_type": "stream",
     "text": [
      "WARNING:tensorflow:From /home/sheila/repos/ns-3-allinone/ns-3.29/scratch/RLinWiFi-master-original-queue-level-mean/agents/dqn/agent.py:53: The name tf.Session is deprecated. Please use tf.compat.v1.Session instead.\n",
      "\n",
      "WARNING:tensorflow:From /home/sheila/repos/ns-3-allinone/ns-3.29/scratch/RLinWiFi-master-original-queue-level-mean/agents/dqn/model.py:25: The name tf.variable_scope is deprecated. Please use tf.compat.v1.variable_scope instead.\n",
      "\n",
      "WARNING:tensorflow:From /home/sheila/repos/ns-3-allinone/ns-3.29/scratch/RLinWiFi-master-original-queue-level-mean/agents/dqn/model.py:26: The name tf.placeholder is deprecated. Please use tf.compat.v1.placeholder instead.\n",
      "\n",
      "WARNING:tensorflow:\n",
      "The TensorFlow contrib module will not be included in TensorFlow 2.0.\n",
      "For more information, please see:\n",
      "  * https://github.com/tensorflow/community/blob/master/rfcs/20180907-contrib-sunset.md\n",
      "  * https://github.com/tensorflow/addons\n",
      "  * https://github.com/tensorflow/io (for I/O related ops)\n",
      "If you depend on functionality not listed there, please file an issue.\n",
      "\n",
      "WARNING:tensorflow:From /home/sheila/repos/ns-3-allinone/ns-3.29/scratch/RLinWiFi-master-original-queue-level-mean/agents/dqn/model.py:52: LSTMCell.__init__ (from tensorflow.python.ops.rnn_cell_impl) is deprecated and will be removed in a future version.\n",
      "Instructions for updating:\n",
      "This class is equivalent as tf.keras.layers.LSTMCell, and will be replaced by that in Tensorflow 2.0.\n",
      "WARNING:tensorflow:From /home/sheila/repos/ns-3-allinone/ns-3.29/scratch/RLinWiFi-master-original-queue-level-mean/agents/dqn/model.py:52: static_rnn (from tensorflow.python.ops.rnn) is deprecated and will be removed in a future version.\n",
      "Instructions for updating:\n",
      "Please use `keras.layers.RNN(cell, unroll=True)`, which is equivalent to this API\n",
      "WARNING:tensorflow:From /home/sheila/anaconda3/envs/environment_py3_7/lib/python3.7/site-packages/tensorflow/python/ops/init_ops.py:1251: calling VarianceScaling.__init__ (from tensorflow.python.ops.init_ops) with dtype is deprecated and will be removed in a future version.\n",
      "Instructions for updating:\n",
      "Call initializer instance with the dtype argument instead of passing it to the constructor\n",
      "WARNING:tensorflow:From /home/sheila/anaconda3/envs/environment_py3_7/lib/python3.7/site-packages/tensorflow/python/ops/rnn_cell_impl.py:961: calling Zeros.__init__ (from tensorflow.python.ops.init_ops) with dtype is deprecated and will be removed in a future version.\n",
      "Instructions for updating:\n",
      "Call initializer instance with the dtype argument instead of passing it to the constructor\n",
      "WARNING:tensorflow:Entity <bound method LSTMCell.call of <tensorflow.python.ops.rnn_cell_impl.LSTMCell object at 0x7f90a5be99d0>> could not be transformed and will be executed as-is. Please report this to the AutgoGraph team. When filing the bug, set the verbosity to 10 (on Linux, `export AUTOGRAPH_VERBOSITY=10`) and attach the full output. Cause: converting <bound method LSTMCell.call of <tensorflow.python.ops.rnn_cell_impl.LSTMCell object at 0x7f90a5be99d0>>: AttributeError: module 'gast' has no attribute 'Index'\n",
      "WARNING: Entity <bound method LSTMCell.call of <tensorflow.python.ops.rnn_cell_impl.LSTMCell object at 0x7f90a5be99d0>> could not be transformed and will be executed as-is. Please report this to the AutgoGraph team. When filing the bug, set the verbosity to 10 (on Linux, `export AUTOGRAPH_VERBOSITY=10`) and attach the full output. Cause: converting <bound method LSTMCell.call of <tensorflow.python.ops.rnn_cell_impl.LSTMCell object at 0x7f90a5be99d0>>: AttributeError: module 'gast' has no attribute 'Index'\n",
      "WARNING:tensorflow:Entity <bound method LSTMCell.call of <tensorflow.python.ops.rnn_cell_impl.LSTMCell object at 0x7f90a5be99d0>> could not be transformed and will be executed as-is. Please report this to the AutgoGraph team. When filing the bug, set the verbosity to 10 (on Linux, `export AUTOGRAPH_VERBOSITY=10`) and attach the full output. Cause: converting <bound method LSTMCell.call of <tensorflow.python.ops.rnn_cell_impl.LSTMCell object at 0x7f90a5be99d0>>: AttributeError: module 'gast' has no attribute 'Index'\n",
      "WARNING: Entity <bound method LSTMCell.call of <tensorflow.python.ops.rnn_cell_impl.LSTMCell object at 0x7f90a5be99d0>> could not be transformed and will be executed as-is. Please report this to the AutgoGraph team. When filing the bug, set the verbosity to 10 (on Linux, `export AUTOGRAPH_VERBOSITY=10`) and attach the full output. Cause: converting <bound method LSTMCell.call of <tensorflow.python.ops.rnn_cell_impl.LSTMCell object at 0x7f90a5be99d0>>: AttributeError: module 'gast' has no attribute 'Index'\n",
      "WARNING:tensorflow:Entity <bound method LSTMCell.call of <tensorflow.python.ops.rnn_cell_impl.LSTMCell object at 0x7f90a5be99d0>> could not be transformed and will be executed as-is. Please report this to the AutgoGraph team. When filing the bug, set the verbosity to 10 (on Linux, `export AUTOGRAPH_VERBOSITY=10`) and attach the full output. Cause: converting <bound method LSTMCell.call of <tensorflow.python.ops.rnn_cell_impl.LSTMCell object at 0x7f90a5be99d0>>: AttributeError: module 'gast' has no attribute 'Index'\n",
      "WARNING: Entity <bound method LSTMCell.call of <tensorflow.python.ops.rnn_cell_impl.LSTMCell object at 0x7f90a5be99d0>> could not be transformed and will be executed as-is. Please report this to the AutgoGraph team. When filing the bug, set the verbosity to 10 (on Linux, `export AUTOGRAPH_VERBOSITY=10`) and attach the full output. Cause: converting <bound method LSTMCell.call of <tensorflow.python.ops.rnn_cell_impl.LSTMCell object at 0x7f90a5be99d0>>: AttributeError: module 'gast' has no attribute 'Index'\n",
      "WARNING:tensorflow:Entity <bound method LSTMCell.call of <tensorflow.python.ops.rnn_cell_impl.LSTMCell object at 0x7f90a5be99d0>> could not be transformed and will be executed as-is. Please report this to the AutgoGraph team. When filing the bug, set the verbosity to 10 (on Linux, `export AUTOGRAPH_VERBOSITY=10`) and attach the full output. Cause: converting <bound method LSTMCell.call of <tensorflow.python.ops.rnn_cell_impl.LSTMCell object at 0x7f90a5be99d0>>: AttributeError: module 'gast' has no attribute 'Index'\n",
      "WARNING: Entity <bound method LSTMCell.call of <tensorflow.python.ops.rnn_cell_impl.LSTMCell object at 0x7f90a5be99d0>> could not be transformed and will be executed as-is. Please report this to the AutgoGraph team. When filing the bug, set the verbosity to 10 (on Linux, `export AUTOGRAPH_VERBOSITY=10`) and attach the full output. Cause: converting <bound method LSTMCell.call of <tensorflow.python.ops.rnn_cell_impl.LSTMCell object at 0x7f90a5be99d0>>: AttributeError: module 'gast' has no attribute 'Index'\n",
      "WARNING:tensorflow:From /home/sheila/repos/ns-3-allinone/ns-3.29/scratch/RLinWiFi-master-original-queue-level-mean/agents/dqn/model.py:53: dense (from tensorflow.python.layers.core) is deprecated and will be removed in a future version.\n",
      "Instructions for updating:\n",
      "Use keras.layers.dense instead.\n",
      "WARNING:tensorflow:Entity <bound method Dense.call of <tensorflow.python.layers.core.Dense object at 0x7f908edd0910>> could not be transformed and will be executed as-is. Please report this to the AutgoGraph team. When filing the bug, set the verbosity to 10 (on Linux, `export AUTOGRAPH_VERBOSITY=10`) and attach the full output. Cause: converting <bound method Dense.call of <tensorflow.python.layers.core.Dense object at 0x7f908edd0910>>: AttributeError: module 'gast' has no attribute 'Index'\n",
      "WARNING: Entity <bound method Dense.call of <tensorflow.python.layers.core.Dense object at 0x7f908edd0910>> could not be transformed and will be executed as-is. Please report this to the AutgoGraph team. When filing the bug, set the verbosity to 10 (on Linux, `export AUTOGRAPH_VERBOSITY=10`) and attach the full output. Cause: converting <bound method Dense.call of <tensorflow.python.layers.core.Dense object at 0x7f908edd0910>>: AttributeError: module 'gast' has no attribute 'Index'\n",
      "WARNING:tensorflow:Entity <bound method Dense.call of <tensorflow.python.layers.core.Dense object at 0x7f908edd0910>> could not be transformed and will be executed as-is. Please report this to the AutgoGraph team. When filing the bug, set the verbosity to 10 (on Linux, `export AUTOGRAPH_VERBOSITY=10`) and attach the full output. Cause: converting <bound method Dense.call of <tensorflow.python.layers.core.Dense object at 0x7f908edd0910>>: AttributeError: module 'gast' has no attribute 'Index'\n"
     ]
    },
    {
     "name": "stdout",
     "output_type": "stream",
     "text": [
      "WARNING: Entity <bound method Dense.call of <tensorflow.python.layers.core.Dense object at 0x7f908edd0910>> could not be transformed and will be executed as-is. Please report this to the AutgoGraph team. When filing the bug, set the verbosity to 10 (on Linux, `export AUTOGRAPH_VERBOSITY=10`) and attach the full output. Cause: converting <bound method Dense.call of <tensorflow.python.layers.core.Dense object at 0x7f908edd0910>>: AttributeError: module 'gast' has no attribute 'Index'\n",
      "WARNING:tensorflow:Entity <bound method Dense.call of <tensorflow.python.layers.core.Dense object at 0x7f908edd0910>> could not be transformed and will be executed as-is. Please report this to the AutgoGraph team. When filing the bug, set the verbosity to 10 (on Linux, `export AUTOGRAPH_VERBOSITY=10`) and attach the full output. Cause: converting <bound method Dense.call of <tensorflow.python.layers.core.Dense object at 0x7f908edd0910>>: AttributeError: module 'gast' has no attribute 'Index'\n",
      "WARNING: Entity <bound method Dense.call of <tensorflow.python.layers.core.Dense object at 0x7f908edd0910>> could not be transformed and will be executed as-is. Please report this to the AutgoGraph team. When filing the bug, set the verbosity to 10 (on Linux, `export AUTOGRAPH_VERBOSITY=10`) and attach the full output. Cause: converting <bound method Dense.call of <tensorflow.python.layers.core.Dense object at 0x7f908edd0910>>: AttributeError: module 'gast' has no attribute 'Index'\n",
      "WARNING:tensorflow:From /home/sheila/repos/ns-3-allinone/ns-3.29/scratch/RLinWiFi-master-original-queue-level-mean/agents/dqn/model.py:69: The name tf.losses.mean_squared_error is deprecated. Please use tf.compat.v1.losses.mean_squared_error instead.\n",
      "\n",
      "WARNING:tensorflow:From /home/sheila/anaconda3/envs/environment_py3_7/lib/python3.7/site-packages/tensorflow/python/ops/losses/losses_impl.py:121: add_dispatch_support.<locals>.wrapper (from tensorflow.python.ops.array_ops) is deprecated and will be removed in a future version.\n",
      "Instructions for updating:\n",
      "Use tf.where in 2.0, which has the same broadcast rule as np.where\n",
      "WARNING:tensorflow:From /home/sheila/repos/ns-3-allinone/ns-3.29/scratch/RLinWiFi-master-original-queue-level-mean/agents/dqn/model.py:77: The name tf.train.AdamOptimizer is deprecated. Please use tf.compat.v1.train.AdamOptimizer instead.\n",
      "\n",
      "WARNING:tensorflow:From /home/sheila/repos/ns-3-allinone/ns-3.29/scratch/RLinWiFi-master-original-queue-level-mean/agents/dqn/model.py:33: The name tf.global_variables_initializer is deprecated. Please use tf.compat.v1.global_variables_initializer instead.\n",
      "\n",
      "WARNING:tensorflow:From /home/sheila/repos/ns-3-allinone/ns-3.29/scratch/RLinWiFi-master-original-queue-level-mean/agents/dqn/model.py:34: The name tf.local_variables_initializer is deprecated. Please use tf.compat.v1.local_variables_initializer instead.\n",
      "\n",
      "WARNING:tensorflow:Entity <bound method LSTMCell.call of <tensorflow.python.ops.rnn_cell_impl.LSTMCell object at 0x7f908ea7c890>> could not be transformed and will be executed as-is. Please report this to the AutgoGraph team. When filing the bug, set the verbosity to 10 (on Linux, `export AUTOGRAPH_VERBOSITY=10`) and attach the full output. Cause: converting <bound method LSTMCell.call of <tensorflow.python.ops.rnn_cell_impl.LSTMCell object at 0x7f908ea7c890>>: AttributeError: module 'gast' has no attribute 'Index'\n",
      "WARNING: Entity <bound method LSTMCell.call of <tensorflow.python.ops.rnn_cell_impl.LSTMCell object at 0x7f908ea7c890>> could not be transformed and will be executed as-is. Please report this to the AutgoGraph team. When filing the bug, set the verbosity to 10 (on Linux, `export AUTOGRAPH_VERBOSITY=10`) and attach the full output. Cause: converting <bound method LSTMCell.call of <tensorflow.python.ops.rnn_cell_impl.LSTMCell object at 0x7f908ea7c890>>: AttributeError: module 'gast' has no attribute 'Index'\n",
      "WARNING:tensorflow:Entity <bound method LSTMCell.call of <tensorflow.python.ops.rnn_cell_impl.LSTMCell object at 0x7f908ea7c890>> could not be transformed and will be executed as-is. Please report this to the AutgoGraph team. When filing the bug, set the verbosity to 10 (on Linux, `export AUTOGRAPH_VERBOSITY=10`) and attach the full output. Cause: converting <bound method LSTMCell.call of <tensorflow.python.ops.rnn_cell_impl.LSTMCell object at 0x7f908ea7c890>>: AttributeError: module 'gast' has no attribute 'Index'\n",
      "WARNING: Entity <bound method LSTMCell.call of <tensorflow.python.ops.rnn_cell_impl.LSTMCell object at 0x7f908ea7c890>> could not be transformed and will be executed as-is. Please report this to the AutgoGraph team. When filing the bug, set the verbosity to 10 (on Linux, `export AUTOGRAPH_VERBOSITY=10`) and attach the full output. Cause: converting <bound method LSTMCell.call of <tensorflow.python.ops.rnn_cell_impl.LSTMCell object at 0x7f908ea7c890>>: AttributeError: module 'gast' has no attribute 'Index'\n",
      "WARNING:tensorflow:Entity <bound method LSTMCell.call of <tensorflow.python.ops.rnn_cell_impl.LSTMCell object at 0x7f908ea7c890>> could not be transformed and will be executed as-is. Please report this to the AutgoGraph team. When filing the bug, set the verbosity to 10 (on Linux, `export AUTOGRAPH_VERBOSITY=10`) and attach the full output. Cause: converting <bound method LSTMCell.call of <tensorflow.python.ops.rnn_cell_impl.LSTMCell object at 0x7f908ea7c890>>: AttributeError: module 'gast' has no attribute 'Index'\n",
      "WARNING: Entity <bound method LSTMCell.call of <tensorflow.python.ops.rnn_cell_impl.LSTMCell object at 0x7f908ea7c890>> could not be transformed and will be executed as-is. Please report this to the AutgoGraph team. When filing the bug, set the verbosity to 10 (on Linux, `export AUTOGRAPH_VERBOSITY=10`) and attach the full output. Cause: converting <bound method LSTMCell.call of <tensorflow.python.ops.rnn_cell_impl.LSTMCell object at 0x7f908ea7c890>>: AttributeError: module 'gast' has no attribute 'Index'\n",
      "WARNING:tensorflow:Entity <bound method LSTMCell.call of <tensorflow.python.ops.rnn_cell_impl.LSTMCell object at 0x7f908ea7c890>> could not be transformed and will be executed as-is. Please report this to the AutgoGraph team. When filing the bug, set the verbosity to 10 (on Linux, `export AUTOGRAPH_VERBOSITY=10`) and attach the full output. Cause: converting <bound method LSTMCell.call of <tensorflow.python.ops.rnn_cell_impl.LSTMCell object at 0x7f908ea7c890>>: AttributeError: module 'gast' has no attribute 'Index'\n",
      "WARNING: Entity <bound method LSTMCell.call of <tensorflow.python.ops.rnn_cell_impl.LSTMCell object at 0x7f908ea7c890>> could not be transformed and will be executed as-is. Please report this to the AutgoGraph team. When filing the bug, set the verbosity to 10 (on Linux, `export AUTOGRAPH_VERBOSITY=10`) and attach the full output. Cause: converting <bound method LSTMCell.call of <tensorflow.python.ops.rnn_cell_impl.LSTMCell object at 0x7f908ea7c890>>: AttributeError: module 'gast' has no attribute 'Index'\n",
      "WARNING:tensorflow:Entity <bound method Dense.call of <tensorflow.python.layers.core.Dense object at 0x7f908ea7c890>> could not be transformed and will be executed as-is. Please report this to the AutgoGraph team. When filing the bug, set the verbosity to 10 (on Linux, `export AUTOGRAPH_VERBOSITY=10`) and attach the full output. Cause: converting <bound method Dense.call of <tensorflow.python.layers.core.Dense object at 0x7f908ea7c890>>: AttributeError: module 'gast' has no attribute 'Index'\n",
      "WARNING: Entity <bound method Dense.call of <tensorflow.python.layers.core.Dense object at 0x7f908ea7c890>> could not be transformed and will be executed as-is. Please report this to the AutgoGraph team. When filing the bug, set the verbosity to 10 (on Linux, `export AUTOGRAPH_VERBOSITY=10`) and attach the full output. Cause: converting <bound method Dense.call of <tensorflow.python.layers.core.Dense object at 0x7f908ea7c890>>: AttributeError: module 'gast' has no attribute 'Index'\n",
      "WARNING:tensorflow:Entity <bound method Dense.call of <tensorflow.python.layers.core.Dense object at 0x7f908ea7c890>> could not be transformed and will be executed as-is. Please report this to the AutgoGraph team. When filing the bug, set the verbosity to 10 (on Linux, `export AUTOGRAPH_VERBOSITY=10`) and attach the full output. Cause: converting <bound method Dense.call of <tensorflow.python.layers.core.Dense object at 0x7f908ea7c890>>: AttributeError: module 'gast' has no attribute 'Index'\n"
     ]
    },
    {
     "name": "stdout",
     "output_type": "stream",
     "text": [
      "WARNING: Entity <bound method Dense.call of <tensorflow.python.layers.core.Dense object at 0x7f908ea7c890>> could not be transformed and will be executed as-is. Please report this to the AutgoGraph team. When filing the bug, set the verbosity to 10 (on Linux, `export AUTOGRAPH_VERBOSITY=10`) and attach the full output. Cause: converting <bound method Dense.call of <tensorflow.python.layers.core.Dense object at 0x7f908ea7c890>>: AttributeError: module 'gast' has no attribute 'Index'\n",
      "WARNING:tensorflow:Entity <bound method Dense.call of <tensorflow.python.layers.core.Dense object at 0x7f908ea7c890>> could not be transformed and will be executed as-is. Please report this to the AutgoGraph team. When filing the bug, set the verbosity to 10 (on Linux, `export AUTOGRAPH_VERBOSITY=10`) and attach the full output. Cause: converting <bound method Dense.call of <tensorflow.python.layers.core.Dense object at 0x7f908ea7c890>>: AttributeError: module 'gast' has no attribute 'Index'\n",
      "WARNING: Entity <bound method Dense.call of <tensorflow.python.layers.core.Dense object at 0x7f908ea7c890>> could not be transformed and will be executed as-is. Please report this to the AutgoGraph team. When filing the bug, set the verbosity to 10 (on Linux, `export AUTOGRAPH_VERBOSITY=10`) and attach the full output. Cause: converting <bound method Dense.call of <tensorflow.python.layers.core.Dense object at 0x7f908ea7c890>>: AttributeError: module 'gast' has no attribute 'Index'\n",
      "WARNING:tensorflow:From /home/sheila/repos/ns-3-allinone/ns-3.29/scratch/RLinWiFi-master-original-queue-level-mean/agents/dqn/agent.py:77: The name tf.train.Saver is deprecated. Please use tf.compat.v1.train.Saver instead.\n",
      "\n",
      "Action space: 7\n",
      "WARNING:tensorflow:From /home/sheila/repos/ns-3-allinone/ns-3.29/scratch/RLinWiFi-master-original-queue-level-mean/agents/dqn/agent.py:107: Variable.load (from tensorflow.python.ops.variables) is deprecated and will be removed in a future version.\n",
      "Instructions for updating:\n",
      "Prefer Variable.assign which has equivalent behavior in 2.X.\n"
     ]
    },
    {
     "name": "stderr",
     "output_type": "stream",
     "text": [
      "COMET INFO: Experiment is live on comet.ml https://www.comet.com/sheila-janota/rl-in-wifi-with-queue-level/6e10c6da12934cbc80dbda8d833e142e\n",
      "\n"
     ]
    },
    {
     "name": "stdout",
     "output_type": "stream",
     "text": [
      "0\n",
      "40.343994|0|5|-nan\n"
     ]
    },
    {
     "name": "stderr",
     "output_type": "stream",
     "text": [
      "  5%|▌         | 333/6300 [02:05<33:53,  2.93it/s, curr_speed=25.90 Mbps, mb_sent=8.29 Mb]"
     ]
    },
    {
     "name": "stdout",
     "output_type": "stream",
     "text": [
      "------- STARTED TRAINING -------\n"
     ]
    },
    {
     "name": "stderr",
     "output_type": "stream",
     "text": [
      "100%|██████████| 6300/6300 [1:40:08<00:00,  1.05it/s, curr_speed=29.99 Mbps, mb_sent=1907.68 Mb]\n"
     ]
    },
    {
     "name": "stdout",
     "output_type": "stream",
     "text": [
      "Waiting for simulation script to connect on port: tcp://localhost:37416\n",
      "Please start proper ns-3 simulation script using ./waf --run \"...\"\n",
      "Sent 1907.68 Mb/s.\tMean speed: 31.79 Mb/s\tEpisode 1/15 finished\n",
      "\n",
      "1\n",
      "40.343994|0|5|-nan\n"
     ]
    },
    {
     "name": "stderr",
     "output_type": "stream",
     "text": [
      " 57%|█████▋    | 3562/6300 [43:27<47:52,  1.05s/it, curr_speed=42.82 Mbps, mb_sent=1106.38 Mb]  COMET ERROR: File could not be uploaded\n",
      "100%|██████████| 6300/6300 [1:40:13<00:00,  1.05it/s, curr_speed=34.02 Mbps, mb_sent=2048.16 Mb]\n"
     ]
    },
    {
     "name": "stdout",
     "output_type": "stream",
     "text": [
      "Waiting for simulation script to connect on port: tcp://localhost:49732\n",
      "Please start proper ns-3 simulation script using ./waf --run \"...\"\n",
      "Sent 2048.16 Mb/s.\tMean speed: 34.14 Mb/s\tEpisode 2/15 finished\n",
      "\n",
      "2\n",
      "40.343994|0|5|-nan\n"
     ]
    },
    {
     "name": "stderr",
     "output_type": "stream",
     "text": [
      " 11%|█         | 679/6300 [05:26<56:04,  1.67it/s, curr_speed=36.48 Mbps, mb_sent=135.43 Mb]  COMET ERROR: File could not be uploaded\n",
      " 11%|█         | 680/6300 [05:27<55:02,  1.70it/s, curr_speed=36.45 Mbps, mb_sent=135.80 Mb]COMET ERROR: File could not be uploaded\n",
      " 12%|█▏        | 740/6300 [06:03<1:44:03,  1.12s/it, curr_speed=35.60 Mbps, mb_sent=156.80 Mb]COMET ERROR: File could not be uploaded\n",
      " 12%|█▏        | 741/6300 [06:04<1:46:04,  1.14s/it, curr_speed=35.55 Mbps, mb_sent=157.13 Mb]COMET ERROR: File could not be uploaded\n",
      " 12%|█▏        | 742/6300 [06:05<1:46:31,  1.15s/it, curr_speed=35.57 Mbps, mb_sent=157.50 Mb]COMET ERROR: File could not be uploaded\n",
      " 12%|█▏        | 745/6300 [1:51:38<2052:34:24, 1330.20s/it, curr_speed=35.43 Mbps, mb_sent=158.46 Mb]COMET ERROR: File could not be uploaded\n",
      "COMET ERROR: File could not be uploaded\n",
      "COMET ERROR: File could not be uploaded\n",
      "COMET ERROR: File could not be uploaded\n",
      " 74%|███████▍  | 4689/6300 [2:48:18<32:21,  1.21s/it, curr_speed=25.59 Mbps, mb_sent=1518.66 Mb]     COMET ERROR: File could not be uploaded\n",
      " 74%|███████▍  | 4690/6300 [2:48:19<32:02,  1.19s/it, curr_speed=25.63 Mbps, mb_sent=1518.95 Mb]COMET ERROR: File could not be uploaded\n",
      " 75%|███████▍  | 4694/6300 [2:48:24<32:17,  1.21s/it, curr_speed=25.58 Mbps, mb_sent=1519.97 Mb]COMET ERROR: File could not be uploaded\n",
      " 75%|███████▍  | 4695/6300 [2:48:25<31:57,  1.19s/it, curr_speed=25.57 Mbps, mb_sent=1520.22 Mb]COMET ERROR: File could not be uploaded\n",
      "100%|██████████| 6300/6300 [3:23:37<00:00,  1.94s/it, curr_speed=33.18 Mbps, mb_sent=2113.18 Mb]\n"
     ]
    },
    {
     "name": "stdout",
     "output_type": "stream",
     "text": [
      "Waiting for simulation script to connect on port: tcp://localhost:44591\n",
      "Please start proper ns-3 simulation script using ./waf --run \"...\"\n",
      "Sent 2113.18 Mb/s.\tMean speed: 35.22 Mb/s\tEpisode 3/15 finished\n",
      "\n",
      "3\n",
      "40.343994|0|5|-nan\n"
     ]
    },
    {
     "name": "stderr",
     "output_type": "stream",
     "text": [
      "  5%|▍         | 304/6300 [02:21<45:18,  2.21it/s, curr_speed=34.25 Mbps, mb_sent=1.03 Mb] "
     ]
    },
    {
     "name": "stdout",
     "output_type": "stream",
     "text": [
      "------- MEMORY BUFFER FILLED -------\n"
     ]
    },
    {
     "name": "stderr",
     "output_type": "stream",
     "text": [
      "100%|██████████| 6300/6300 [1:49:56<00:00,  1.05s/it, curr_speed=35.32 Mbps, mb_sent=2173.53 Mb]\n"
     ]
    },
    {
     "name": "stdout",
     "output_type": "stream",
     "text": [
      "Waiting for simulation script to connect on port: tcp://localhost:24947\n",
      "Please start proper ns-3 simulation script using ./waf --run \"...\"\n",
      "Sent 2173.53 Mb/s.\tMean speed: 36.23 Mb/s\tEpisode 4/15 finished\n",
      "\n",
      "4\n",
      "40.343994|0|5|-nan\n"
     ]
    },
    {
     "name": "stderr",
     "output_type": "stream",
     "text": [
      " 98%|█████████▊| 6152/6300 [1:41:36<11:56,  4.84s/it, curr_speed=36.32 Mbps, mb_sent=2165.24 Mb]COMET ERROR: File could not be uploaded\n",
      " 98%|█████████▊| 6153/6300 [1:41:40<11:17,  4.61s/it, curr_speed=36.32 Mbps, mb_sent=2165.62 Mb]COMET ERROR: File could not be uploaded\n",
      "COMET ERROR: File could not be uploaded\n",
      "COMET ERROR: File could not be uploaded\n",
      "COMET ERROR: File could not be uploaded\n",
      " 98%|█████████▊| 6154/6300 [1:41:43<09:54,  4.07s/it, curr_speed=36.28 Mbps, mb_sent=2166.00 Mb]COMET ERROR: File could not be uploaded\n",
      "100%|██████████| 6300/6300 [1:45:58<00:00,  1.01s/it, curr_speed=35.93 Mbps, mb_sent=2218.67 Mb]\n"
     ]
    },
    {
     "name": "stdout",
     "output_type": "stream",
     "text": [
      "Waiting for simulation script to connect on port: tcp://localhost:33118\n",
      "Please start proper ns-3 simulation script using ./waf --run \"...\"\n",
      "Sent 2218.67 Mb/s.\tMean speed: 36.98 Mb/s\tEpisode 5/15 finished\n",
      "\n",
      "5\n",
      "40.343994|0|5|-nan\n"
     ]
    },
    {
     "name": "stderr",
     "output_type": "stream",
     "text": [
      "100%|██████████| 6300/6300 [1:06:42<00:00,  1.57it/s, curr_speed=35.38 Mbps, mb_sent=2227.62 Mb]\n"
     ]
    },
    {
     "name": "stdout",
     "output_type": "stream",
     "text": [
      "Waiting for simulation script to connect on port: tcp://localhost:38466\n",
      "Please start proper ns-3 simulation script using ./waf --run \"...\"\n",
      "Sent 2227.62 Mb/s.\tMean speed: 37.13 Mb/s\tEpisode 6/15 finished\n",
      "\n",
      "6\n",
      "40.343994|0|5|-nan\n"
     ]
    },
    {
     "name": "stderr",
     "output_type": "stream",
     "text": [
      "100%|██████████| 6300/6300 [59:15<00:00,  1.77it/s, curr_speed=37.38 Mbps, mb_sent=2247.63 Mb]\n"
     ]
    },
    {
     "name": "stdout",
     "output_type": "stream",
     "text": [
      "Waiting for simulation script to connect on port: tcp://localhost:53897\n",
      "Please start proper ns-3 simulation script using ./waf --run \"...\"\n",
      "Sent 2247.63 Mb/s.\tMean speed: 37.46 Mb/s\tEpisode 7/15 finished\n",
      "\n",
      "7\n",
      "40.343994|0|5|-nan\n"
     ]
    },
    {
     "name": "stderr",
     "output_type": "stream",
     "text": [
      "100%|██████████| 6300/6300 [59:08<00:00,  1.78it/s, curr_speed=37.57 Mbps, mb_sent=2260.60 Mb]\n"
     ]
    },
    {
     "name": "stdout",
     "output_type": "stream",
     "text": [
      "Waiting for simulation script to connect on port: tcp://localhost:51944\n",
      "Please start proper ns-3 simulation script using ./waf --run \"...\"\n",
      "Sent 2260.60 Mb/s.\tMean speed: 37.68 Mb/s\tEpisode 8/15 finished\n",
      "\n",
      "8\n",
      "40.343994|0|5|-nan\n"
     ]
    },
    {
     "name": "stderr",
     "output_type": "stream",
     "text": [
      "100%|██████████| 6300/6300 [29:45<00:00,  3.53it/s, curr_speed=37.27 Mbps, mb_sent=2266.20 Mb]\n"
     ]
    },
    {
     "name": "stdout",
     "output_type": "stream",
     "text": [
      "Waiting for simulation script to connect on port: tcp://localhost:15703\n",
      "Please start proper ns-3 simulation script using ./waf --run \"...\"\n",
      "Sent 2266.20 Mb/s.\tMean speed: 37.77 Mb/s\tEpisode 9/15 finished\n",
      "\n",
      "9\n",
      "40.343994|0|5|-nan\n"
     ]
    },
    {
     "name": "stderr",
     "output_type": "stream",
     "text": [
      "100%|██████████| 6300/6300 [28:50<00:00,  3.64it/s, curr_speed=38.21 Mbps, mb_sent=2268.37 Mb]\n"
     ]
    },
    {
     "name": "stdout",
     "output_type": "stream",
     "text": [
      "Waiting for simulation script to connect on port: tcp://localhost:22054\n",
      "Please start proper ns-3 simulation script using ./waf --run \"...\"\n",
      "Sent 2268.37 Mb/s.\tMean speed: 37.81 Mb/s\tEpisode 10/15 finished\n",
      "\n",
      "10\n",
      "40.343994|0|5|-nan\n"
     ]
    },
    {
     "name": "stderr",
     "output_type": "stream",
     "text": [
      "100%|██████████| 6300/6300 [28:49<00:00,  3.64it/s, curr_speed=37.62 Mbps, mb_sent=2264.31 Mb]\n"
     ]
    },
    {
     "name": "stdout",
     "output_type": "stream",
     "text": [
      "Waiting for simulation script to connect on port: tcp://localhost:37323\n",
      "Please start proper ns-3 simulation script using ./waf --run \"...\"\n",
      "Sent 2264.31 Mb/s.\tMean speed: 37.74 Mb/s\tEpisode 11/15 finished\n",
      "\n",
      "11\n",
      "40.343994|0|5|-nan\n"
     ]
    },
    {
     "name": "stderr",
     "output_type": "stream",
     "text": [
      "100%|██████████| 6300/6300 [29:02<00:00,  3.62it/s, curr_speed=37.88 Mbps, mb_sent=2271.13 Mb]\n"
     ]
    },
    {
     "name": "stdout",
     "output_type": "stream",
     "text": [
      "Waiting for simulation script to connect on port: tcp://localhost:31014\n",
      "Please start proper ns-3 simulation script using ./waf --run \"...\"\n",
      "WARNING:tensorflow:From /home/sheila/anaconda3/envs/environment_py3_7/lib/python3.7/site-packages/tensorflow/python/training/saver.py:960: remove_checkpoint (from tensorflow.python.training.checkpoint_management) is deprecated and will be removed in a future version.\n",
      "Instructions for updating:\n",
      "Use standard file APIs to delete files with this prefix.\n",
      "Sent 2271.13 Mb/s.\tMean speed: 37.85 Mb/s\tEpisode 12/15 finished\n",
      "\n",
      "12\n",
      "Turning off noise\n",
      "40.343994|0|5|-nan\n"
     ]
    },
    {
     "name": "stderr",
     "output_type": "stream",
     "text": [
      "100%|██████████| 6300/6300 [28:57<00:00,  3.62it/s, curr_speed=37.89 Mbps, mb_sent=2274.38 Mb]\n"
     ]
    },
    {
     "name": "stdout",
     "output_type": "stream",
     "text": [
      "Waiting for simulation script to connect on port: tcp://localhost:20708\n",
      "Please start proper ns-3 simulation script using ./waf --run \"...\"\n",
      "Sent 2274.38 Mb/s.\tMean speed: 37.91 Mb/s\tEpisode 13/15 finished\n",
      "\n",
      "13\n",
      "Turning off noise\n",
      "40.343994|0|5|-nan\n"
     ]
    },
    {
     "name": "stderr",
     "output_type": "stream",
     "text": [
      "100%|██████████| 6300/6300 [28:43<00:00,  3.66it/s, curr_speed=37.84 Mbps, mb_sent=2270.51 Mb]\n"
     ]
    },
    {
     "name": "stdout",
     "output_type": "stream",
     "text": [
      "Waiting for simulation script to connect on port: tcp://localhost:39572\n",
      "Please start proper ns-3 simulation script using ./waf --run \"...\"\n",
      "Sent 2270.51 Mb/s.\tMean speed: 37.84 Mb/s\tEpisode 14/15 finished\n",
      "\n",
      "14\n",
      "Turning off noise\n",
      "40.343994|0|5|-nan\n"
     ]
    },
    {
     "name": "stderr",
     "output_type": "stream",
     "text": [
      "100%|██████████| 6300/6300 [28:25<00:00,  3.69it/s, curr_speed=38.11 Mbps, mb_sent=2269.94 Mb]\n"
     ]
    },
    {
     "name": "stdout",
     "output_type": "stream",
     "text": [
      "Waiting for simulation script to connect on port: tcp://localhost:50185\n",
      "Please start proper ns-3 simulation script using ./waf --run \"...\"\n"
     ]
    },
    {
     "name": "stderr",
     "output_type": "stream",
     "text": [
      "COMET INFO: ----------------------------\n",
      "COMET INFO: Comet.ml Experiment Summary:\n",
      "COMET INFO:   Data:\n",
      "COMET INFO:     url: https://www.comet.com/sheila-janota/rl-in-wifi-with-queue-level/6e10c6da12934cbc80dbda8d833e142e\n",
      "COMET INFO:   Metrics [count] (min, max):\n",
      "COMET INFO:     Chosen CW [89985]           : (16.0, 1024.0)\n",
      "COMET INFO:     Cumulative reward [15]      : (2572.484375, 3181.486572265625)\n",
      "COMET INFO:     Current throughput [89985]  : (8.935500144958496, 59.6671028137207)\n",
      "COMET INFO:     Fairness index [89985]      : (0.03961100056767464, 0.999222993850708)\n",
      "COMET INFO:     Megabytes sent [89985]      : (0.0893549993634224, 2274.375856220722)\n",
      "COMET INFO:     Observation 0 [89985]       : (0.12845698554689686, 0.9647359955310821)\n",
      "COMET INFO:     Observation 1 [89985]       : (0.0, 0.027218116131281302)\n",
      "COMET INFO:     Per-ep reward [89985]       : (96.012451171875, 3181.486572265625)\n",
      "COMET INFO:     Round megabytes sent [89985]: (0.01116899959743023, 11.8619384765625)\n",
      "COMET INFO:     Round reward [89985]        : (0.014892578125, 0.968017578125)\n",
      "COMET INFO:     Speed [15]                  : (31.794723944148668, 37.90626427034537)\n",
      "COMET INFO:     Station count [89985]       : (5.0, 30.0)\n",
      "COMET INFO:     loss [89985]                : (0.0, 0.14542515575885773)\n",
      "COMET INFO:   Uploads:\n",
      "COMET INFO:     histogram3d: 89985\n",
      "COMET INFO: ----------------------------\n"
     ]
    },
    {
     "name": "stdout",
     "output_type": "stream",
     "text": [
      "Sent 2269.94 Mb/s.\tMean speed: 37.83 Mb/s\tEpisode 15/15 finished\n",
      "\n"
     ]
    },
    {
     "name": "stderr",
     "output_type": "stream",
     "text": [
      "COMET INFO: Uploading stats to Comet before program termination (may take several seconds)\n",
      "COMET INFO: Still uploading\n",
      "COMET INFO: Still uploading\n",
      "COMET INFO: Still uploading\n",
      "COMET INFO: Still uploading\n",
      "COMET INFO: Still uploading\n",
      "COMET INFO: Still uploading\n",
      "COMET INFO: Still uploading\n",
      "COMET INFO: Still uploading\n",
      "COMET INFO: Still uploading\n",
      "COMET INFO: Still uploading\n",
      "COMET INFO: Still uploading\n",
      "COMET INFO: Still uploading\n",
      "COMET INFO: Still uploading\n",
      "COMET INFO: Still uploading\n",
      "COMET INFO: Still uploading\n",
      "COMET INFO: Still uploading\n",
      "COMET INFO: Still uploading\n",
      "COMET INFO: Still uploading\n",
      "COMET INFO: Still uploading\n",
      "COMET INFO: Still uploading\n",
      "COMET INFO: Still uploading\n",
      "COMET INFO: Still uploading\n",
      "COMET INFO: Still uploading\n",
      "COMET INFO: Still uploading\n",
      "COMET INFO: Still uploading\n",
      "COMET INFO: Still uploading\n",
      "COMET INFO: Still uploading\n",
      "COMET INFO: Still uploading\n",
      "COMET INFO: Still uploading\n",
      "COMET INFO: Still uploading\n",
      "COMET INFO: Still uploading\n",
      "COMET INFO: Still uploading\n",
      "COMET INFO: Still uploading\n",
      "COMET INFO: Still uploading\n",
      "COMET INFO: Still uploading\n",
      "COMET INFO: Still uploading\n",
      "COMET INFO: Still uploading\n",
      "COMET INFO: Still uploading\n",
      "COMET INFO: Still uploading\n",
      "COMET INFO: Still uploading\n",
      "COMET INFO: Still uploading\n",
      "COMET INFO: Still uploading\n",
      "COMET INFO: Still uploading\n",
      "COMET INFO: Still uploading\n",
      "COMET INFO: Still uploading\n",
      "COMET INFO: Still uploading\n",
      "COMET INFO: Still uploading\n",
      "COMET INFO: Still uploading\n",
      "COMET INFO: Still uploading\n",
      "COMET INFO: Still uploading\n",
      "COMET INFO: Still uploading\n",
      "COMET INFO: Still uploading\n",
      "COMET INFO: Still uploading\n",
      "COMET INFO: Still uploading\n",
      "COMET INFO: Still uploading\n",
      "COMET INFO: Still uploading\n",
      "COMET INFO: Still uploading\n",
      "COMET INFO: Still uploading\n",
      "COMET INFO: Still uploading\n",
      "COMET INFO: Still uploading\n",
      "COMET WARNING: Failed to send all messages, metrics and output will likely be incomplete\n",
      "COMET ERROR: Comet failed to send all the data back (781802 messages and 0 uploads)\n",
      "COMET WARNING: Failed to log run in comet.ml\n"
     ]
    },
    {
     "name": "stdout",
     "output_type": "stream",
     "text": [
      "Training finished.\n"
     ]
    }
   ],
   "source": [
    "#%%\n",
    "teacher = Teacher(env, 1, Preprocessor(False))\n",
    "\n",
    "lr = 4e-4\n",
    "config = Config(buffer_size=3*steps_per_ep*threads_no, batch_size=32, gamma=0.7, tau=1e-3, lr=lr, update_every=1)\n",
    "agent = Agent(QNetworkTf, history_length, action_size=7, config=config)\n",
    "agent.set_epsilon(0.9, 0.001, EPISODE_COUNT-2)\n",
    "\n",
    "# Test the model\n",
    "hyperparams = {**config.__dict__, **sim_args}\n",
    "tags = [\"Rew: normalized speed\",\n",
    "        \"Final\",\n",
    "        f\"{Agent.NAME}\",\n",
    "        sim_args['scenario'],\n",
    "        f\"LR: {lr}\",\n",
    "        f\"Instances: {threads_no}\",\n",
    "        f\"Station count: {sim_args['nWifi']}\",\n",
    "        *[f\"{key}: {sim_args[key]}\" for key in list(sim_args)[:3]]]\n",
    "# # agent.save()\n",
    "logger = teacher.train(agent, EPISODE_COUNT,\n",
    "                        simTime=simTime,\n",
    "                        stepTime=stepTime,\n",
    "                        history_length=history_length,\n",
    "                        send_logs=True,\n",
    "                        experimental=True,\n",
    "                        tags=tags,\n",
    "                        parameters=hyperparams)\n",
    "#logger = teacher.eval(agent,\n",
    "#                        simTime=simTime,\n",
    "#                        stepTime=stepTime,\n",
    "#                        history_length=history_length,\n",
    "#                        tags=tags,\n",
    "#                        parameters=hyperparams)\n",
    "# agent.save()\n",
    "\n",
    "\n",
    "# %%"
   ]
  },
  {
   "cell_type": "code",
   "execution_count": null,
   "id": "a93e0f24",
   "metadata": {},
   "outputs": [],
   "source": []
  }
 ],
 "metadata": {
  "kernelspec": {
   "display_name": "Python 3 (ipykernel)",
   "language": "python",
   "name": "python3"
  },
  "language_info": {
   "codemirror_mode": {
    "name": "ipython",
    "version": 3
   },
   "file_extension": ".py",
   "mimetype": "text/x-python",
   "name": "python",
   "nbconvert_exporter": "python",
   "pygments_lexer": "ipython3",
   "version": "3.7.10"
  }
 },
 "nbformat": 4,
 "nbformat_minor": 5
}
