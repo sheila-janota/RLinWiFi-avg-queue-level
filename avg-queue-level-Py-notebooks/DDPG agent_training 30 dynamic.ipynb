{
 "cells": [
  {
   "cell_type": "markdown",
   "id": "e4dec51c",
   "metadata": {},
   "source": [
    "# Execution num1:"
   ]
  },
  {
   "cell_type": "code",
   "execution_count": 1,
   "id": "09f73334",
   "metadata": {},
   "outputs": [],
   "source": [
    "#%%\n",
    "from ns3gym import ns3env\n",
    "from comet_ml import Experiment, Optimizer\n",
    "import tqdm\n",
    "import subprocess\n",
    "from collections import deque\n",
    "import numpy as np\n",
    "\n",
    "from agents.ddpg.agent import Agent, Config\n",
    "from agents.ddpg.model import Actor\n",
    "from agents.teacher import Teacher, EnvWrapper\n",
    "from preprocessor import Preprocessor\n"
   ]
  },
  {
   "cell_type": "code",
   "execution_count": 2,
   "id": "15679efc",
   "metadata": {},
   "outputs": [
    {
     "name": "stdout",
     "output_type": "stream",
     "text": [
      "Steps per episode: 6000\n",
      "Waiting for simulation script to connect on port: tcp://localhost:43253\n",
      "Please start proper ns-3 simulation script using ./waf --run \"...\"\n",
      "Waf: Entering directory `/home/samuel/ns-allinone-3.29/ns-3.29/build'\n",
      "Waf: Leaving directory `/home/samuel/ns-allinone-3.29/ns-3.29/build'\n",
      "Build commands will be stored in build/compile_commands.json\n",
      "'build' finished successfully (3.814s)\n"
     ]
    },
    {
     "name": "stderr",
     "output_type": "stream",
     "text": [
      "Ns3Env parameters:\n",
      "--nWifi: 30\n",
      "--simulationTime: 60\n",
      "--openGymPort: 43253\n",
      "--envStepTime: 0.01\n",
      "--seed: 42\n",
      "--agentType: continuous\n",
      "--scenario: convergence\n",
      "--dryRun: 0\n",
      "Simulation started\n"
     ]
    },
    {
     "name": "stdout",
     "output_type": "stream",
     "text": [
      "Observation space shape: (1, 300)\n",
      "Action space shape: (1, 1)\n"
     ]
    },
    {
     "name": "stderr",
     "output_type": "stream",
     "text": [
      "Simulation process id: 2099569 (parent (waf shell) id: 2099543)\n",
      "Waiting for Python process to connect on port: tcp://localhost:43253\n",
      "Please start proper Python Gym Agent\n"
     ]
    }
   ],
   "source": [
    "#%%\n",
    "scenario = \"convergence\"\n",
    "\n",
    "simTime = 60 # seconds\n",
    "stepTime = 0.01  # seconds\n",
    "history_length = 300\n",
    "\n",
    "EPISODE_COUNT = 15\n",
    "steps_per_ep = int(simTime/stepTime)\n",
    "\n",
    "sim_args = {\n",
    "    \"simTime\": simTime,\n",
    "    \"envStepTime\": stepTime,\n",
    "    \"historyLength\": history_length,\n",
    "    \"agentType\": Agent.TYPE,\n",
    "    \"scenario\": \"convergence\",\n",
    "    \"nWifi\": 30,\n",
    "}\n",
    "\n",
    "print(\"Steps per episode:\", steps_per_ep)\n",
    "\n",
    "threads_no = 1\n",
    "env = EnvWrapper(threads_no, **sim_args)\n",
    "\n",
    "#%%\n",
    "env.reset()\n",
    "ob_space = env.observation_space\n",
    "ac_space = env.action_space\n",
    "\n",
    "print(\"Observation space shape:\", ob_space)\n",
    "print(\"Action space shape:\", ac_space)\n",
    "\n",
    "assert ob_space is not None"
   ]
  },
  {
   "cell_type": "code",
   "execution_count": 3,
   "id": "4d011818",
   "metadata": {
    "scrolled": true
   },
   "outputs": [
    {
     "name": "stdout",
     "output_type": "stream",
     "text": [
      "CuDNN version: 7102\n",
      "cpu\n"
     ]
    },
    {
     "name": "stderr",
     "output_type": "stream",
     "text": [
      "COMET INFO: Experiment is live on comet.ml https://www.comet.com/sheila-janota/rl-in-wifi-with-queue-level/a1a4aea50a1e4ad4b808f9a751d64afc\n",
      "\n",
      "  0%|          | 0/6300 [00:00<?, ?it/s]"
     ]
    },
    {
     "name": "stdout",
     "output_type": "stream",
     "text": [
      "0\n"
     ]
    },
    {
     "name": "stderr",
     "output_type": "stream",
     "text": [
      "  5%|▌         | 333/6300 [03:05<1:00:26,  1.65it/s, curr_speed=28.80 Mbps, mb_sent=9.21 Mb]"
     ]
    },
    {
     "name": "stdout",
     "output_type": "stream",
     "text": [
      "------- STARTED TRAINING -------\n"
     ]
    },
    {
     "name": "stderr",
     "output_type": "stream",
     "text": [
      " 93%|█████████▎| 5831/6300 [6:55:54<36:18,  4.64s/it, curr_speed=29.16 Mbps, mb_sent=1689.67 Mb]COMET ERROR: File could not be uploaded\n",
      " 93%|█████████▎| 5835/6300 [6:56:08<37:33,  4.85s/it, curr_speed=28.96 Mbps, mb_sent=1690.39 Mb]COMET ERROR: File could not be uploaded\n",
      "COMET ERROR: File could not be uploaded\n",
      "COMET ERROR: File could not be uploaded\n",
      " 93%|█████████▎| 5836/6300 [6:56:13<36:57,  4.78s/it, curr_speed=29.02 Mbps, mb_sent=1690.66 Mb]COMET ERROR: File could not be uploaded\n",
      " 93%|█████████▎| 5837/6300 [6:56:18<36:38,  4.75s/it, curr_speed=29.12 Mbps, mb_sent=1690.96 Mb]COMET ERROR: File could not be uploaded\n",
      " 93%|█████████▎| 5838/6300 [6:56:22<36:32,  4.75s/it, curr_speed=29.11 Mbps, mb_sent=1691.30 Mb]COMET ERROR: File could not be uploaded\n",
      " 93%|█████████▎| 5839/6300 [6:56:27<36:47,  4.79s/it, curr_speed=29.13 Mbps, mb_sent=1691.52 Mb]COMET ERROR: File could not be uploaded\n",
      " 93%|█████████▎| 5840/6300 [6:56:32<35:43,  4.66s/it, curr_speed=29.06 Mbps, mb_sent=1691.61 Mb]COMET ERROR: File could not be uploaded\n",
      " 93%|█████████▎| 5841/6300 [6:56:36<35:20,  4.62s/it, curr_speed=29.28 Mbps, mb_sent=1691.87 Mb]COMET ERROR: File could not be uploaded\n",
      " 93%|█████████▎| 5842/6300 [6:56:41<35:14,  4.62s/it, curr_speed=29.49 Mbps, mb_sent=1692.18 Mb]COMET ERROR: File could not be uploaded\n",
      " 93%|█████████▎| 5843/6300 [6:56:45<35:10,  4.62s/it, curr_speed=29.54 Mbps, mb_sent=1692.46 Mb]COMET ERROR: File could not be uploaded\n",
      " 93%|█████████▎| 5844/6300 [6:56:50<35:37,  4.69s/it, curr_speed=29.49 Mbps, mb_sent=1692.74 Mb]COMET ERROR: File could not be uploaded\n",
      " 93%|█████████▎| 5845/6300 [6:56:55<35:46,  4.72s/it, curr_speed=29.50 Mbps, mb_sent=1693.12 Mb]COMET ERROR: File could not be uploaded\n",
      " 93%|█████████▎| 5846/6300 [6:56:59<34:19,  4.54s/it, curr_speed=29.50 Mbps, mb_sent=1693.41 Mb]COMET ERROR: File could not be uploaded\n",
      "100%|██████████| 6300/6300 [7:32:20<00:00,  4.31s/it, curr_speed=30.57 Mbps, mb_sent=1825.64 Mb]\n"
     ]
    },
    {
     "name": "stdout",
     "output_type": "stream",
     "text": [
      "Waiting for simulation script to connect on port: tcp://localhost:33851\n",
      "Please start proper ns-3 simulation script using ./waf --run \"...\"\n",
      "Waf: Entering directory `/home/samuel/ns-allinone-3.29/ns-3.29/build'\n",
      "Waf: Leaving directory `/home/samuel/ns-allinone-3.29/ns-3.29/build'\n",
      "Build commands will be stored in build/compile_commands.json\n",
      "'build' finished successfully (3.014s)\n"
     ]
    },
    {
     "name": "stderr",
     "output_type": "stream",
     "text": [
      "Ns3Env parameters:\n",
      "--nWifi: 30\n",
      "--simulationTime: 60\n",
      "--openGymPort: 33851\n",
      "--envStepTime: 0.01\n",
      "--seed: 42\n",
      "--agentType: continuous\n",
      "--scenario: convergence\n",
      "--dryRun: 0\n",
      "Simulation started\n",
      "Simulation process id: 2214775 (parent (waf shell) id: 2214752)\n",
      "Waiting for Python process to connect on port: tcp://localhost:33851\n",
      "Please start proper Python Gym Agent\n",
      "  0%|          | 0/6300 [00:00<?, ?it/s]"
     ]
    },
    {
     "name": "stdout",
     "output_type": "stream",
     "text": [
      "Sent 1825.64 Mb/s.\tMean speed: 30.43 Mb/s\tEpisode 1/15 finished\n",
      "\n",
      "1\n"
     ]
    },
    {
     "name": "stderr",
     "output_type": "stream",
     "text": [
      "100%|██████████| 6300/6300 [7:09:01<00:00,  4.09s/it, curr_speed=30.09 Mbps, mb_sent=1888.49 Mb]  \n"
     ]
    },
    {
     "name": "stdout",
     "output_type": "stream",
     "text": [
      "Waiting for simulation script to connect on port: tcp://localhost:38836\n",
      "Please start proper ns-3 simulation script using ./waf --run \"...\"\n",
      "Waf: Entering directory `/home/samuel/ns-allinone-3.29/ns-3.29/build'\n",
      "Waf: Leaving directory `/home/samuel/ns-allinone-3.29/ns-3.29/build'\n",
      "Build commands will be stored in build/compile_commands.json\n",
      "'build' finished successfully (2.908s)\n"
     ]
    },
    {
     "name": "stderr",
     "output_type": "stream",
     "text": [
      "Ns3Env parameters:\n",
      "--nWifi: 30\n",
      "--simulationTime: 60\n",
      "--openGymPort: 38836\n",
      "--envStepTime: 0.01\n",
      "--seed: 42\n",
      "--agentType: continuous\n",
      "--scenario: convergence\n",
      "--dryRun: 0\n",
      "Simulation started\n",
      "Simulation process id: 2306983 (parent (waf shell) id: 2306961)\n",
      "Waiting for Python process to connect on port: tcp://localhost:38836\n",
      "Please start proper Python Gym Agent\n",
      "  0%|          | 0/6300 [00:00<?, ?it/s]"
     ]
    },
    {
     "name": "stdout",
     "output_type": "stream",
     "text": [
      "Sent 1888.49 Mb/s.\tMean speed: 31.47 Mb/s\tEpisode 2/15 finished\n",
      "\n",
      "2\n"
     ]
    },
    {
     "name": "stderr",
     "output_type": "stream",
     "text": [
      " 18%|█▊        | 1137/6300 [58:16<6:16:21,  4.37s/it, curr_speed=29.99 Mbps, mb_sent=284.28 Mb]COMET ERROR: File could not be uploaded\n",
      " 18%|█▊        | 1151/6300 [59:16<6:06:51,  4.27s/it, curr_speed=30.09 Mbps, mb_sent=288.51 Mb]COMET ERROR: File could not be uploaded\n",
      " 18%|█▊        | 1153/6300 [59:25<6:15:49,  4.38s/it, curr_speed=30.12 Mbps, mb_sent=289.12 Mb]COMET ERROR: File could not be uploaded\n",
      " 18%|█▊        | 1161/6300 [1:00:00<6:12:19,  4.35s/it, curr_speed=30.16 Mbps, mb_sent=291.56 Mb]COMET ERROR: File could not be uploaded\n",
      " 19%|█▊        | 1167/6300 [1:00:26<6:20:44,  4.45s/it, curr_speed=29.92 Mbps, mb_sent=293.26 Mb]COMET ERROR: File could not be uploaded\n",
      " 19%|█▊        | 1172/6300 [1:00:48<6:01:30,  4.23s/it, curr_speed=29.84 Mbps, mb_sent=294.81 Mb]COMET ERROR: File could not be uploaded\n",
      " 19%|█▊        | 1175/6300 [1:01:01<6:04:55,  4.27s/it, curr_speed=30.06 Mbps, mb_sent=295.64 Mb]COMET ERROR: File could not be uploaded\n",
      "COMET ERROR: File could not be uploaded\n",
      "100%|██████████| 6300/6300 [7:23:24<00:00,  4.22s/it, curr_speed=31.11 Mbps, mb_sent=1951.14 Mb]  \n"
     ]
    },
    {
     "name": "stdout",
     "output_type": "stream",
     "text": [
      "Waiting for simulation script to connect on port: tcp://localhost:18219\n",
      "Please start proper ns-3 simulation script using ./waf --run \"...\"\n",
      "Waf: Entering directory `/home/samuel/ns-allinone-3.29/ns-3.29/build'\n",
      "Waf: Leaving directory `/home/samuel/ns-allinone-3.29/ns-3.29/build'\n",
      "Build commands will be stored in build/compile_commands.json\n",
      "'build' finished successfully (2.988s)\n"
     ]
    },
    {
     "name": "stderr",
     "output_type": "stream",
     "text": [
      "Ns3Env parameters:\n",
      "--nWifi: 30\n",
      "--simulationTime: 60\n",
      "--openGymPort: 18219\n",
      "--envStepTime: 0.01\n",
      "--seed: 42\n",
      "--agentType: continuous\n",
      "--scenario: convergence\n",
      "--dryRun: 0\n",
      "Simulation started\n",
      "Simulation process id: 2407722 (parent (waf shell) id: 2407698)\n",
      "Waiting for Python process to connect on port: tcp://localhost:18219\n",
      "Please start proper Python Gym Agent\n",
      "  0%|          | 0/6300 [00:00<?, ?it/s]"
     ]
    },
    {
     "name": "stdout",
     "output_type": "stream",
     "text": [
      "Sent 1951.14 Mb/s.\tMean speed: 32.52 Mb/s\tEpisode 3/15 finished\n",
      "\n",
      "3\n"
     ]
    },
    {
     "name": "stderr",
     "output_type": "stream",
     "text": [
      "100%|██████████| 6300/6300 [7:03:37<00:00,  4.03s/it, curr_speed=31.02 Mbps, mb_sent=2025.63 Mb]  \n"
     ]
    },
    {
     "name": "stdout",
     "output_type": "stream",
     "text": [
      "Waiting for simulation script to connect on port: tcp://localhost:42136\n",
      "Please start proper ns-3 simulation script using ./waf --run \"...\"\n",
      "Waf: Entering directory `/home/samuel/ns-allinone-3.29/ns-3.29/build'\n",
      "Waf: Leaving directory `/home/samuel/ns-allinone-3.29/ns-3.29/build'\n",
      "Build commands will be stored in build/compile_commands.json\n",
      "'build' finished successfully (2.938s)\n"
     ]
    },
    {
     "name": "stderr",
     "output_type": "stream",
     "text": [
      "Ns3Env parameters:\n",
      "--nWifi: 30\n",
      "--simulationTime: 60\n",
      "--openGymPort: 42136\n",
      "--envStepTime: 0.01\n",
      "--seed: 42\n",
      "--agentType: continuous\n",
      "--scenario: convergence\n",
      "--dryRun: 0\n",
      "Simulation started\n",
      "Simulation process id: 2501973 (parent (waf shell) id: 2501949)\n",
      "Waiting for Python process to connect on port: tcp://localhost:42136\n",
      "Please start proper Python Gym Agent\n",
      "  0%|          | 0/6300 [00:00<?, ?it/s]"
     ]
    },
    {
     "name": "stdout",
     "output_type": "stream",
     "text": [
      "Sent 2025.63 Mb/s.\tMean speed: 33.76 Mb/s\tEpisode 4/15 finished\n",
      "\n",
      "4\n"
     ]
    },
    {
     "name": "stderr",
     "output_type": "stream",
     "text": [
      "  5%|▍         | 304/6300 [02:14<3:54:39,  2.35s/it, curr_speed=37.98 Mbps, mb_sent=1.14 Mb]"
     ]
    },
    {
     "name": "stdout",
     "output_type": "stream",
     "text": [
      "------- MEMORY BUFFER FILLED -------\n"
     ]
    },
    {
     "name": "stderr",
     "output_type": "stream",
     "text": [
      " 16%|█▌        | 999/6300 [46:00<5:34:20,  3.78s/it, curr_speed=36.76 Mbps, mb_sent=259.42 Mb]COMET ERROR: File could not be uploaded\n",
      " 16%|█▌        | 1002/6300 [46:12<5:37:12,  3.82s/it, curr_speed=36.85 Mbps, mb_sent=260.58 Mb]COMET ERROR: File could not be uploaded\n",
      "COMET ERROR: File could not be uploaded\n",
      "COMET ERROR: File could not be uploaded\n",
      " 16%|█▌        | 1003/6300 [46:16<5:37:45,  3.83s/it, curr_speed=36.89 Mbps, mb_sent=260.96 Mb]COMET ERROR: File could not be uploaded\n",
      " 16%|█▌        | 1004/6300 [46:19<5:35:11,  3.80s/it, curr_speed=36.88 Mbps, mb_sent=261.32 Mb]COMET ERROR: File could not be uploaded\n",
      " 16%|█▌        | 1005/6300 [46:23<5:34:07,  3.79s/it, curr_speed=36.85 Mbps, mb_sent=261.68 Mb]COMET ERROR: File could not be uploaded\n",
      " 16%|█▌        | 1005/6300 [46:27<5:34:07,  3.79s/it, curr_speed=36.86 Mbps, mb_sent=262.07 Mb]COMET ERROR: File could not be uploaded\n",
      " 16%|█▌        | 1007/6300 [46:31<5:40:00,  3.85s/it, curr_speed=36.88 Mbps, mb_sent=262.44 Mb]COMET ERROR: File could not be uploaded\n",
      " 16%|█▌        | 1008/6300 [46:35<5:47:53,  3.94s/it, curr_speed=36.89 Mbps, mb_sent=262.81 Mb]COMET ERROR: File could not be uploaded\n",
      " 16%|█▌        | 1009/6300 [46:39<5:44:36,  3.91s/it, curr_speed=36.90 Mbps, mb_sent=263.16 Mb]COMET ERROR: File could not be uploaded\n",
      " 16%|█▌        | 1009/6300 [46:42<5:44:36,  3.91s/it, curr_speed=36.85 Mbps, mb_sent=263.52 Mb]COMET ERROR: File could not be uploaded\n",
      " 16%|█▌        | 1011/6300 [46:45<5:02:37,  3.43s/it, curr_speed=36.83 Mbps, mb_sent=263.88 Mb]COMET ERROR: File could not be uploaded\n",
      " 16%|█▌        | 1012/6300 [46:48<5:05:42,  3.47s/it, curr_speed=36.84 Mbps, mb_sent=264.29 Mb]COMET ERROR: File could not be uploaded\n",
      "100%|██████████| 6300/6300 [6:43:24<00:00,  3.84s/it, curr_speed=36.49 Mbps, mb_sent=2146.45 Mb]  \n"
     ]
    },
    {
     "name": "stdout",
     "output_type": "stream",
     "text": [
      "Waiting for simulation script to connect on port: tcp://localhost:53646\n",
      "Please start proper ns-3 simulation script using ./waf --run \"...\"\n",
      "Waf: Entering directory `/home/samuel/ns-allinone-3.29/ns-3.29/build'\n",
      "Waf: Leaving directory `/home/samuel/ns-allinone-3.29/ns-3.29/build'\n",
      "Build commands will be stored in build/compile_commands.json\n",
      "'build' finished successfully (3.252s)\n"
     ]
    },
    {
     "name": "stderr",
     "output_type": "stream",
     "text": [
      "Ns3Env parameters:\n",
      "--nWifi: 30\n",
      "--simulationTime: 60\n",
      "--openGymPort: 53646\n",
      "--envStepTime: 0.01\n",
      "--seed: 42\n",
      "--agentType: continuous\n",
      "--scenario: convergence\n",
      "--dryRun: 0\n",
      "Simulation started\n",
      "Simulation process id: 2598075 (parent (waf shell) id: 2598044)\n",
      "Waiting for Python process to connect on port: tcp://localhost:53646\n",
      "Please start proper Python Gym Agent\n",
      "  0%|          | 0/6300 [00:00<?, ?it/s]"
     ]
    },
    {
     "name": "stdout",
     "output_type": "stream",
     "text": [
      "Sent 2146.45 Mb/s.\tMean speed: 35.77 Mb/s\tEpisode 5/15 finished\n",
      "\n",
      "5\n"
     ]
    },
    {
     "name": "stderr",
     "output_type": "stream",
     "text": [
      " 57%|█████▋    | 3580/6300 [3:42:07<3:04:26,  4.07s/it, curr_speed=35.32 Mbps, mb_sent=1207.30 Mb]COMET ERROR: File could not be uploaded\n",
      " 57%|█████▋    | 3588/6300 [3:42:39<2:58:33,  3.95s/it, curr_speed=35.08 Mbps, mb_sent=1210.11 Mb]COMET ERROR: File could not be uploaded\n",
      " 57%|█████▋    | 3593/6300 [3:42:59<3:00:20,  4.00s/it, curr_speed=34.98 Mbps, mb_sent=1211.89 Mb]COMET ERROR: File could not be uploaded\n",
      " 57%|█████▋    | 3605/6300 [3:43:47<2:58:26,  3.97s/it, curr_speed=34.71 Mbps, mb_sent=1216.11 Mb]COMET ERROR: File could not be uploaded\n",
      " 57%|█████▋    | 3607/6300 [3:43:55<3:00:38,  4.02s/it, curr_speed=34.70 Mbps, mb_sent=1216.83 Mb]COMET ERROR: File could not be uploaded\n",
      " 57%|█████▋    | 3610/6300 [3:44:07<2:56:14,  3.93s/it, curr_speed=34.73 Mbps, mb_sent=1217.95 Mb]COMET ERROR: File could not be uploaded\n",
      " 57%|█████▋    | 3621/6300 [3:44:50<2:54:27,  3.91s/it, curr_speed=34.48 Mbps, mb_sent=1221.66 Mb]COMET ERROR: File could not be uploaded\n",
      " 57%|█████▋    | 3622/6300 [3:44:54<2:57:20,  3.97s/it, curr_speed=34.45 Mbps, mb_sent=1221.98 Mb]COMET ERROR: File could not be uploaded\n",
      " 60%|██████    | 3784/6300 [3:55:43<2:44:28,  3.92s/it, curr_speed=34.75 Mbps, mb_sent=1277.91 Mb]COMET ERROR: File could not be uploaded\n",
      " 60%|██████    | 3785/6300 [3:55:47<2:48:52,  4.03s/it, curr_speed=34.83 Mbps, mb_sent=1278.31 Mb]COMET ERROR: File could not be uploaded\n",
      " 60%|██████    | 3787/6300 [3:55:55<2:46:56,  3.99s/it, curr_speed=34.85 Mbps, mb_sent=1279.01 Mb]COMET ERROR: File could not be uploaded\n",
      " 60%|██████    | 3789/6300 [3:56:04<2:55:46,  4.20s/it, curr_speed=34.79 Mbps, mb_sent=1279.70 Mb]COMET ERROR: File could not be uploaded\n",
      " 60%|██████    | 3796/6300 [3:56:31<2:44:01,  3.93s/it, curr_speed=34.54 Mbps, mb_sent=1281.99 Mb]COMET ERROR: File could not be uploaded\n",
      "100%|██████████| 6300/6300 [6:48:55<00:00,  3.89s/it, curr_speed=34.66 Mbps, mb_sent=2199.89 Mb]  \n"
     ]
    },
    {
     "name": "stdout",
     "output_type": "stream",
     "text": [
      "Waiting for simulation script to connect on port: tcp://localhost:51374\n",
      "Please start proper ns-3 simulation script using ./waf --run \"...\"\n",
      "Waf: Entering directory `/home/samuel/ns-allinone-3.29/ns-3.29/build'\n",
      "Waf: Leaving directory `/home/samuel/ns-allinone-3.29/ns-3.29/build'\n",
      "Build commands will be stored in build/compile_commands.json\n",
      "'build' finished successfully (2.906s)\n"
     ]
    },
    {
     "name": "stderr",
     "output_type": "stream",
     "text": [
      "Ns3Env parameters:\n",
      "--nWifi: 30\n",
      "--simulationTime: 60\n",
      "--openGymPort: 51374\n",
      "--envStepTime: 0.01\n",
      "--seed: 42\n",
      "--agentType: continuous\n",
      "--scenario: convergence\n",
      "--dryRun: 0\n",
      "Simulation started\n",
      "Simulation process id: 2681866 (parent (waf shell) id: 2681843)\n",
      "Waiting for Python process to connect on port: tcp://localhost:51374\n",
      "Please start proper Python Gym Agent\n",
      "  0%|          | 0/6300 [00:00<?, ?it/s]"
     ]
    },
    {
     "name": "stdout",
     "output_type": "stream",
     "text": [
      "Sent 2199.89 Mb/s.\tMean speed: 36.66 Mb/s\tEpisode 6/15 finished\n",
      "\n",
      "6\n"
     ]
    },
    {
     "name": "stderr",
     "output_type": "stream",
     "text": [
      "100%|██████████| 6300/6300 [6:41:12<00:00,  3.82s/it, curr_speed=37.17 Mbps, mb_sent=2246.81 Mb]  \n"
     ]
    },
    {
     "name": "stdout",
     "output_type": "stream",
     "text": [
      "Waiting for simulation script to connect on port: tcp://localhost:48581\n",
      "Please start proper ns-3 simulation script using ./waf --run \"...\"\n",
      "Waf: Entering directory `/home/samuel/ns-allinone-3.29/ns-3.29/build'\n",
      "Waf: Leaving directory `/home/samuel/ns-allinone-3.29/ns-3.29/build'\n",
      "Build commands will be stored in build/compile_commands.json\n",
      "'build' finished successfully (2.911s)\n"
     ]
    },
    {
     "name": "stderr",
     "output_type": "stream",
     "text": [
      "Ns3Env parameters:\n",
      "--nWifi: 30\n",
      "--simulationTime: 60\n",
      "--openGymPort: 48581\n",
      "--envStepTime: 0.01\n",
      "--seed: 42\n",
      "--agentType: continuous\n",
      "--scenario: convergence\n",
      "--dryRun: 0\n",
      "Simulation started\n",
      "Simulation process id: 2760312 (parent (waf shell) id: 2760288)\n",
      "Waiting for Python process to connect on port: tcp://localhost:48581\n",
      "Please start proper Python Gym Agent\n",
      "  0%|          | 0/6300 [00:00<?, ?it/s]"
     ]
    },
    {
     "name": "stdout",
     "output_type": "stream",
     "text": [
      "Sent 2246.81 Mb/s.\tMean speed: 37.45 Mb/s\tEpisode 7/15 finished\n",
      "\n",
      "7\n"
     ]
    },
    {
     "name": "stderr",
     "output_type": "stream",
     "text": [
      "100%|██████████| 6300/6300 [6:29:41<00:00,  3.71s/it, curr_speed=37.67 Mbps, mb_sent=2267.48 Mb]  \n"
     ]
    },
    {
     "name": "stdout",
     "output_type": "stream",
     "text": [
      "Waiting for simulation script to connect on port: tcp://localhost:51571\n",
      "Please start proper ns-3 simulation script using ./waf --run \"...\"\n",
      "Waf: Entering directory `/home/samuel/ns-allinone-3.29/ns-3.29/build'\n",
      "Waf: Leaving directory `/home/samuel/ns-allinone-3.29/ns-3.29/build'\n",
      "Build commands will be stored in build/compile_commands.json\n",
      "'build' finished successfully (2.246s)\n"
     ]
    },
    {
     "name": "stderr",
     "output_type": "stream",
     "text": [
      "Ns3Env parameters:\n",
      "--nWifi: 30\n",
      "--simulationTime: 60\n",
      "--openGymPort: 51571\n",
      "--envStepTime: 0.01\n",
      "--seed: 42\n",
      "--agentType: continuous\n",
      "--scenario: convergence\n",
      "--dryRun: 0\n",
      "Simulation started\n",
      "Simulation process id: 2837724 (parent (waf shell) id: 2837704)\n",
      "Waiting for Python process to connect on port: tcp://localhost:51571\n",
      "Please start proper Python Gym Agent\n",
      "  0%|          | 0/6300 [00:00<?, ?it/s]"
     ]
    },
    {
     "name": "stdout",
     "output_type": "stream",
     "text": [
      "Sent 2267.48 Mb/s.\tMean speed: 37.79 Mb/s\tEpisode 8/15 finished\n",
      "\n",
      "8\n"
     ]
    },
    {
     "name": "stderr",
     "output_type": "stream",
     "text": [
      "100%|██████████| 6300/6300 [5:52:01<00:00,  3.35s/it, curr_speed=37.76 Mbps, mb_sent=2273.95 Mb]  \n"
     ]
    },
    {
     "name": "stdout",
     "output_type": "stream",
     "text": [
      "Waiting for simulation script to connect on port: tcp://localhost:51497\n",
      "Please start proper ns-3 simulation script using ./waf --run \"...\"\n",
      "Waf: Entering directory `/home/samuel/ns-allinone-3.29/ns-3.29/build'\n",
      "Waf: Leaving directory `/home/samuel/ns-allinone-3.29/ns-3.29/build'\n",
      "Build commands will be stored in build/compile_commands.json\n",
      "'build' finished successfully (2.370s)\n"
     ]
    },
    {
     "name": "stderr",
     "output_type": "stream",
     "text": [
      "Ns3Env parameters:\n",
      "--nWifi: 30\n",
      "--simulationTime: 60\n",
      "--openGymPort: 51497\n",
      "--envStepTime: 0.01\n",
      "--seed: 42\n",
      "--agentType: continuous\n",
      "--scenario: convergence\n",
      "--dryRun: 0\n",
      "Simulation started\n",
      "Simulation process id: 2911256 (parent (waf shell) id: 2911236)\n",
      "Waiting for Python process to connect on port: tcp://localhost:51497\n",
      "Please start proper Python Gym Agent\n",
      "  0%|          | 0/6300 [00:00<?, ?it/s]"
     ]
    },
    {
     "name": "stdout",
     "output_type": "stream",
     "text": [
      "Sent 2273.95 Mb/s.\tMean speed: 37.90 Mb/s\tEpisode 9/15 finished\n",
      "\n",
      "9\n"
     ]
    },
    {
     "name": "stderr",
     "output_type": "stream",
     "text": [
      " 84%|████████▎ | 5264/6300 [3:48:45<54:01,  3.13s/it, curr_speed=37.98 Mbps, mb_sent=1886.99 Mb]  COMET ERROR: File could not be uploaded\n",
      " 84%|████████▎ | 5268/6300 [3:48:56<47:42,  2.77s/it, curr_speed=38.07 Mbps, mb_sent=1888.57 Mb]COMET ERROR: File could not be uploaded\n",
      " 84%|████████▎ | 5269/6300 [3:48:58<46:38,  2.71s/it, curr_speed=38.04 Mbps, mb_sent=1888.94 Mb]COMET ERROR: File could not be uploaded\n",
      " 84%|████████▎ | 5272/6300 [3:49:07<49:51,  2.91s/it, curr_speed=38.03 Mbps, mb_sent=1890.06 Mb]COMET ERROR: File could not be uploaded\n",
      " 84%|████████▍ | 5277/6300 [3:49:22<50:33,  2.97s/it, curr_speed=37.96 Mbps, mb_sent=1891.92 Mb]COMET ERROR: File could not be uploaded\n",
      "COMET ERROR: File could not be uploaded\n",
      " 84%|████████▍ | 5283/6300 [3:49:39<50:17,  2.97s/it, curr_speed=38.05 Mbps, mb_sent=1894.29 Mb]COMET ERROR: File could not be uploaded\n",
      " 84%|████████▍ | 5290/6300 [3:50:00<49:00,  2.91s/it, curr_speed=38.15 Mbps, mb_sent=1897.05 Mb]COMET ERROR: File could not be uploaded\n",
      " 84%|████████▍ | 5310/6300 [3:51:01<47:21,  2.87s/it, curr_speed=38.19 Mbps, mb_sent=1904.68 Mb]COMET ERROR: File could not be uploaded\n",
      "COMET ERROR: File could not be uploaded\n",
      " 84%|████████▍ | 5312/6300 [3:51:07<47:53,  2.91s/it, curr_speed=38.15 Mbps, mb_sent=1905.44 Mb]COMET ERROR: File could not be uploaded\n",
      " 84%|████████▍ | 5313/6300 [3:51:10<48:14,  2.93s/it, curr_speed=38.10 Mbps, mb_sent=1905.80 Mb]COMET ERROR: File could not be uploaded\n",
      " 85%|████████▍ | 5326/6300 [3:51:48<46:50,  2.89s/it, curr_speed=38.22 Mbps, mb_sent=1910.83 Mb]COMET ERROR: File could not be uploaded\n",
      " 85%|████████▍ | 5328/6300 [3:51:53<46:57,  2.90s/it, curr_speed=38.22 Mbps, mb_sent=1911.60 Mb]COMET ERROR: File could not be uploaded\n",
      " 85%|████████▍ | 5332/6300 [3:52:05<44:11,  2.74s/it, curr_speed=38.15 Mbps, mb_sent=1913.04 Mb]COMET ERROR: File could not be uploaded\n",
      " 85%|████████▍ | 5342/6300 [3:52:35<50:50,  3.18s/it, curr_speed=38.18 Mbps, mb_sent=1916.83 Mb]COMET ERROR: File could not be uploaded\n",
      " 85%|████████▍ | 5348/6300 [3:52:54<51:03,  3.22s/it, curr_speed=38.12 Mbps, mb_sent=1919.10 Mb]COMET ERROR: File could not be uploaded\n",
      " 85%|████████▍ | 5350/6300 [3:53:00<46:58,  2.97s/it, curr_speed=38.17 Mbps, mb_sent=1919.90 Mb]COMET ERROR: File could not be uploaded\n",
      "100%|██████████| 6300/6300 [4:39:51<00:00,  2.67s/it, curr_speed=37.85 Mbps, mb_sent=2279.61 Mb]\n"
     ]
    },
    {
     "name": "stdout",
     "output_type": "stream",
     "text": [
      "Waiting for simulation script to connect on port: tcp://localhost:53549\n",
      "Please start proper ns-3 simulation script using ./waf --run \"...\"\n",
      "Waf: Entering directory `/home/samuel/ns-allinone-3.29/ns-3.29/build'\n",
      "Waf: Leaving directory `/home/samuel/ns-allinone-3.29/ns-3.29/build'\n",
      "Build commands will be stored in build/compile_commands.json\n",
      "'build' finished successfully (2.259s)\n"
     ]
    },
    {
     "name": "stderr",
     "output_type": "stream",
     "text": [
      "Ns3Env parameters:\n",
      "--nWifi: 30\n",
      "--simulationTime: 60\n",
      "--openGymPort: 53549\n",
      "--envStepTime: 0.01\n",
      "--seed: 42\n",
      "--agentType: continuous\n",
      "--scenario: convergence\n",
      "--dryRun: 0\n",
      "Simulation started\n",
      "Simulation process id: 2966591 (parent (waf shell) id: 2966571)\n",
      "Waiting for Python process to connect on port: tcp://localhost:53549\n",
      "Please start proper Python Gym Agent\n",
      "  0%|          | 0/6300 [00:00<?, ?it/s]"
     ]
    },
    {
     "name": "stdout",
     "output_type": "stream",
     "text": [
      "Sent 2279.61 Mb/s.\tMean speed: 37.99 Mb/s\tEpisode 10/15 finished\n",
      "\n",
      "10\n"
     ]
    },
    {
     "name": "stderr",
     "output_type": "stream",
     "text": [
      "100%|██████████| 6300/6300 [6:11:43<00:00,  3.54s/it, curr_speed=37.85 Mbps, mb_sent=2278.80 Mb]  \n"
     ]
    },
    {
     "name": "stdout",
     "output_type": "stream",
     "text": [
      "Waiting for simulation script to connect on port: tcp://localhost:22082\n",
      "Please start proper ns-3 simulation script using ./waf --run \"...\"\n",
      "Waf: Entering directory `/home/samuel/ns-allinone-3.29/ns-3.29/build'\n",
      "Waf: Leaving directory `/home/samuel/ns-allinone-3.29/ns-3.29/build'\n",
      "Build commands will be stored in build/compile_commands.json\n",
      "'build' finished successfully (2.972s)\n"
     ]
    },
    {
     "name": "stderr",
     "output_type": "stream",
     "text": [
      "Ns3Env parameters:\n",
      "--nWifi: 30\n",
      "--simulationTime: 60\n",
      "--openGymPort: 22082\n",
      "--envStepTime: 0.01\n",
      "--seed: 42\n",
      "--agentType: continuous\n",
      "--scenario: convergence\n",
      "--dryRun: 0\n",
      "Simulation started\n",
      "Simulation process id: 3034386 (parent (waf shell) id: 3034359)\n",
      "Waiting for Python process to connect on port: tcp://localhost:22082\n",
      "Please start proper Python Gym Agent\n",
      "  0%|          | 0/6300 [00:00<?, ?it/s]"
     ]
    },
    {
     "name": "stdout",
     "output_type": "stream",
     "text": [
      "Sent 2278.80 Mb/s.\tMean speed: 37.98 Mb/s\tEpisode 11/15 finished\n",
      "\n",
      "11\n"
     ]
    },
    {
     "name": "stderr",
     "output_type": "stream",
     "text": [
      "100%|██████████| 6300/6300 [6:40:51<00:00,  3.82s/it, curr_speed=38.17 Mbps, mb_sent=2286.11 Mb]  \n"
     ]
    },
    {
     "name": "stdout",
     "output_type": "stream",
     "text": [
      "Waiting for simulation script to connect on port: tcp://localhost:29668\n",
      "Please start proper ns-3 simulation script using ./waf --run \"...\"\n",
      "Waf: Entering directory `/home/samuel/ns-allinone-3.29/ns-3.29/build'\n",
      "Waf: Leaving directory `/home/samuel/ns-allinone-3.29/ns-3.29/build'\n",
      "Build commands will be stored in build/compile_commands.json\n",
      "'build' finished successfully (2.837s)\n"
     ]
    },
    {
     "name": "stderr",
     "output_type": "stream",
     "text": [
      "Ns3Env parameters:\n",
      "--nWifi: 30\n",
      "--simulationTime: 60\n",
      "--openGymPort: 29668\n",
      "--envStepTime: 0.01\n",
      "--seed: 42\n",
      "--agentType: continuous\n",
      "--scenario: convergence\n",
      "--dryRun: 0\n",
      "Simulation started\n",
      "Simulation process id: 3108198 (parent (waf shell) id: 3108175)\n",
      "Waiting for Python process to connect on port: tcp://localhost:29668\n",
      "Please start proper Python Gym Agent\n",
      "  0%|          | 0/6300 [00:00<?, ?it/s]"
     ]
    },
    {
     "name": "stdout",
     "output_type": "stream",
     "text": [
      "Sent 2286.11 Mb/s.\tMean speed: 38.10 Mb/s\tEpisode 12/15 finished\n",
      "\n",
      "12\n",
      "Turning off noise\n"
     ]
    },
    {
     "name": "stderr",
     "output_type": "stream",
     "text": [
      "100%|██████████| 6300/6300 [6:36:37<00:00,  3.78s/it, curr_speed=37.69 Mbps, mb_sent=2280.99 Mb]  \n"
     ]
    },
    {
     "name": "stdout",
     "output_type": "stream",
     "text": [
      "Waiting for simulation script to connect on port: tcp://localhost:32784\n",
      "Please start proper ns-3 simulation script using ./waf --run \"...\"\n",
      "Waf: Entering directory `/home/samuel/ns-allinone-3.29/ns-3.29/build'\n",
      "Waf: Leaving directory `/home/samuel/ns-allinone-3.29/ns-3.29/build'\n",
      "Build commands will be stored in build/compile_commands.json\n",
      "'build' finished successfully (2.336s)\n"
     ]
    },
    {
     "name": "stderr",
     "output_type": "stream",
     "text": [
      "Ns3Env parameters:\n",
      "--nWifi: 30\n",
      "--simulationTime: 60\n",
      "--openGymPort: 32784\n",
      "--envStepTime: 0.01\n",
      "--seed: 42\n",
      "--agentType: continuous\n",
      "--scenario: convergence\n",
      "--dryRun: 0\n",
      "Simulation started\n",
      "Simulation process id: 3181732 (parent (waf shell) id: 3181713)\n",
      "Waiting for Python process to connect on port: tcp://localhost:32784\n",
      "Please start proper Python Gym Agent\n",
      "  0%|          | 0/6300 [00:00<?, ?it/s]"
     ]
    },
    {
     "name": "stdout",
     "output_type": "stream",
     "text": [
      "Sent 2280.99 Mb/s.\tMean speed: 38.02 Mb/s\tEpisode 13/15 finished\n",
      "\n",
      "13\n",
      "Turning off noise\n"
     ]
    },
    {
     "name": "stderr",
     "output_type": "stream",
     "text": [
      " 63%|██████▎   | 3969/6300 [3:40:38<2:33:56,  3.96s/it, curr_speed=37.99 Mbps, mb_sent=1401.21 Mb]COMET ERROR: File could not be uploaded\n",
      " 63%|██████▎   | 3972/6300 [3:40:49<2:34:17,  3.98s/it, curr_speed=37.96 Mbps, mb_sent=1402.33 Mb]COMET ERROR: File could not be uploaded\n",
      " 63%|██████▎   | 3976/6300 [3:41:06<2:32:16,  3.93s/it, curr_speed=37.93 Mbps, mb_sent=1403.85 Mb]COMET ERROR: File could not be uploaded\n",
      " 63%|██████▎   | 3978/6300 [3:41:14<2:33:19,  3.96s/it, curr_speed=37.84 Mbps, mb_sent=1404.53 Mb]COMET ERROR: File could not be uploaded\n",
      " 63%|██████▎   | 3979/6300 [3:41:18<2:35:13,  4.01s/it, curr_speed=37.82 Mbps, mb_sent=1404.88 Mb]COMET ERROR: File could not be uploaded\n",
      " 63%|██████▎   | 3988/6300 [3:41:55<2:38:14,  4.11s/it, curr_speed=37.98 Mbps, mb_sent=1408.44 Mb]COMET ERROR: File could not be uploaded\n",
      " 63%|██████▎   | 3994/6300 [3:42:20<2:45:19,  4.30s/it, curr_speed=38.01 Mbps, mb_sent=1410.73 Mb]COMET ERROR: File could not be uploaded\n",
      " 63%|██████▎   | 4000/6300 [3:42:45<2:39:01,  4.15s/it, curr_speed=37.93 Mbps, mb_sent=1412.93 Mb]COMET ERROR: File could not be uploaded\n",
      "COMET ERROR: File could not be uploaded\n",
      " 64%|██████▎   | 4006/6300 [3:43:11<2:39:41,  4.18s/it, curr_speed=38.03 Mbps, mb_sent=1415.22 Mb]COMET ERROR: File could not be uploaded\n",
      " 64%|██████▎   | 4007/6300 [3:43:15<2:39:27,  4.17s/it, curr_speed=38.00 Mbps, mb_sent=1415.56 Mb]COMET ERROR: File could not be uploaded\n",
      " 64%|██████▎   | 4009/6300 [3:43:24<2:40:27,  4.20s/it, curr_speed=38.08 Mbps, mb_sent=1416.38 Mb]COMET ERROR: File could not be uploaded\n",
      " 64%|██████▎   | 4014/6300 [3:43:44<2:35:26,  4.08s/it, curr_speed=38.10 Mbps, mb_sent=1418.40 Mb]COMET ERROR: File could not be uploaded\n",
      " 64%|██████▎   | 4015/6300 [3:43:48<2:39:25,  4.19s/it, curr_speed=38.07 Mbps, mb_sent=1418.75 Mb]COMET ERROR: File could not be uploaded\n",
      " 64%|██████▍   | 4017/6300 [3:43:57<2:38:12,  4.16s/it, curr_speed=38.17 Mbps, mb_sent=1419.57 Mb]COMET ERROR: File could not be uploaded\n",
      " 64%|██████▍   | 4018/6300 [3:44:01<2:37:16,  4.14s/it, curr_speed=38.13 Mbps, mb_sent=1419.90 Mb]COMET ERROR: File could not be uploaded\n",
      " 64%|██████▍   | 4019/6300 [3:44:05<2:36:52,  4.13s/it, curr_speed=38.07 Mbps, mb_sent=1420.25 Mb]COMET ERROR: File could not be uploaded\n",
      " 64%|██████▍   | 4020/6300 [3:44:09<2:33:34,  4.04s/it, curr_speed=38.05 Mbps, mb_sent=1420.62 Mb]COMET ERROR: File could not be uploaded\n",
      " 64%|██████▍   | 4021/6300 [3:44:13<2:35:20,  4.09s/it, curr_speed=38.03 Mbps, mb_sent=1421.01 Mb]COMET ERROR: File could not be uploaded\n",
      " 64%|██████▍   | 4022/6300 [3:44:17<2:39:41,  4.21s/it, curr_speed=38.05 Mbps, mb_sent=1421.41 Mb]COMET ERROR: File could not be uploaded\n",
      " 64%|██████▍   | 4023/6300 [3:44:22<2:40:24,  4.23s/it, curr_speed=37.98 Mbps, mb_sent=1421.76 Mb]COMET ERROR: File could not be uploaded\n",
      " 64%|██████▍   | 4028/6300 [3:44:41<2:30:57,  3.99s/it, curr_speed=38.03 Mbps, mb_sent=1423.67 Mb]COMET ERROR: File could not be uploaded\n",
      "COMET ERROR: File could not be uploaded\n",
      " 65%|██████▌   | 4103/6300 [3:49:48<2:24:33,  3.95s/it, curr_speed=37.98 Mbps, mb_sent=1452.05 Mb]COMET ERROR: File could not be uploaded\n",
      "COMET ERROR: File could not be uploaded\n",
      " 66%|██████▌   | 4147/6300 [3:52:47<2:27:59,  4.12s/it, curr_speed=37.61 Mbps, mb_sent=1468.57 Mb]COMET ERROR: File could not be uploaded\n",
      " 66%|██████▌   | 4151/6300 [3:53:03<2:24:33,  4.04s/it, curr_speed=37.64 Mbps, mb_sent=1470.13 Mb]COMET ERROR: File could not be uploaded\n",
      " 66%|██████▌   | 4155/6300 [3:53:19<2:21:28,  3.96s/it, curr_speed=37.55 Mbps, mb_sent=1471.62 Mb]COMET ERROR: File could not be uploaded\n",
      " 66%|██████▌   | 4162/6300 [3:53:47<2:18:47,  3.89s/it, curr_speed=37.70 Mbps, mb_sent=1474.23 Mb]COMET ERROR: File could not be uploaded\n",
      " 66%|██████▋   | 4174/6300 [3:54:36<2:23:24,  4.05s/it, curr_speed=37.47 Mbps, mb_sent=1478.53 Mb]COMET ERROR: File could not be uploaded\n",
      "COMET ERROR: File could not be uploaded\n",
      " 66%|██████▋   | 4178/6300 [3:54:52<2:26:45,  4.15s/it, curr_speed=37.44 Mbps, mb_sent=1480.03 Mb]COMET ERROR: File could not be uploaded\n",
      " 67%|██████▋   | 4196/6300 [3:56:06<2:24:10,  4.11s/it, curr_speed=37.38 Mbps, mb_sent=1486.77 Mb]COMET ERROR: File could not be uploaded\n",
      " 68%|██████▊   | 4261/6300 [4:00:32<2:18:41,  4.08s/it, curr_speed=37.31 Mbps, mb_sent=1511.20 Mb]COMET ERROR: File could not be uploaded\n",
      " 68%|██████▊   | 4264/6300 [4:00:45<2:23:59,  4.24s/it, curr_speed=37.36 Mbps, mb_sent=1512.27 Mb]COMET ERROR: File could not be uploaded\n",
      " 68%|██████▊   | 4268/6300 [4:01:02<2:19:46,  4.13s/it, curr_speed=37.45 Mbps, mb_sent=1513.85 Mb]COMET ERROR: File could not be uploaded\n",
      " 68%|██████▊   | 4270/6300 [4:01:10<2:22:45,  4.22s/it, curr_speed=37.55 Mbps, mb_sent=1514.62 Mb]COMET ERROR: File could not be uploaded\n",
      " 68%|██████▊   | 4286/6300 [4:02:14<2:12:33,  3.95s/it, curr_speed=37.66 Mbps, mb_sent=1520.63 Mb]COMET ERROR: File could not be uploaded\n",
      "COMET ERROR: File could not be uploaded\n",
      "COMET ERROR: File could not be uploaded\n",
      " 69%|██████▉   | 4340/6300 [4:05:53<2:14:26,  4.12s/it, curr_speed=38.03 Mbps, mb_sent=1541.29 Mb]COMET ERROR: File could not be uploaded\n",
      "100%|██████████| 6300/6300 [6:21:54<00:00,  3.64s/it, curr_speed=37.79 Mbps, mb_sent=2280.05 Mb]  \n"
     ]
    },
    {
     "name": "stdout",
     "output_type": "stream",
     "text": [
      "Waiting for simulation script to connect on port: tcp://localhost:21190\n",
      "Please start proper ns-3 simulation script using ./waf --run \"...\"\n",
      "Waf: Entering directory `/home/samuel/ns-allinone-3.29/ns-3.29/build'\n",
      "Waf: Leaving directory `/home/samuel/ns-allinone-3.29/ns-3.29/build'\n",
      "Build commands will be stored in build/compile_commands.json\n",
      "'build' finished successfully (2.772s)\n"
     ]
    },
    {
     "name": "stderr",
     "output_type": "stream",
     "text": [
      "Ns3Env parameters:\n",
      "--nWifi: 30\n",
      "--simulationTime: 60\n",
      "--openGymPort: 21190\n",
      "--envStepTime: 0.01\n",
      "--seed: 42\n",
      "--agentType: continuous\n",
      "--scenario: convergence\n",
      "--dryRun: 0\n",
      "Simulation started\n",
      "Simulation process id: 3251782 (parent (waf shell) id: 3251762)\n",
      "Waiting for Python process to connect on port: tcp://localhost:21190\n",
      "Please start proper Python Gym Agent\n",
      "  0%|          | 0/6300 [00:00<?, ?it/s]"
     ]
    },
    {
     "name": "stdout",
     "output_type": "stream",
     "text": [
      "Sent 2280.05 Mb/s.\tMean speed: 38.00 Mb/s\tEpisode 14/15 finished\n",
      "\n",
      "14\n",
      "Turning off noise\n"
     ]
    },
    {
     "name": "stderr",
     "output_type": "stream",
     "text": [
      "100%|██████████| 6300/6300 [1:12:09<00:00,  1.46it/s, curr_speed=37.54 Mbps, mb_sent=2279.25 Mb]\n"
     ]
    },
    {
     "name": "stdout",
     "output_type": "stream",
     "text": [
      "Waiting for simulation script to connect on port: tcp://localhost:22998\n",
      "Please start proper ns-3 simulation script using ./waf --run \"...\"\n",
      "Waf: Entering directory `/home/samuel/ns-allinone-3.29/ns-3.29/build'\n",
      "Waf: Leaving directory `/home/samuel/ns-allinone-3.29/ns-3.29/build'\n",
      "Build commands will be stored in build/compile_commands.json\n",
      "'build' finished successfully (2.839s)\n"
     ]
    },
    {
     "name": "stderr",
     "output_type": "stream",
     "text": [
      "Ns3Env parameters:\n",
      "--nWifi: 30\n",
      "--simulationTime: 60\n",
      "--openGymPort: 22998\n",
      "--envStepTime: 0.01\n",
      "--seed: 42\n",
      "--agentType: continuous\n",
      "--scenario: convergence\n",
      "--dryRun: 0\n",
      "Simulation started\n",
      "Simulation process id: 3269744 (parent (waf shell) id: 3269719)\n",
      "Waiting for Python process to connect on port: tcp://localhost:22998\n",
      "Please start proper Python Gym Agent\n",
      "COMET INFO: ----------------------------\n",
      "COMET INFO: Comet.ml Experiment Summary:\n",
      "COMET INFO:   Data:\n",
      "COMET INFO:     url: https://www.comet.com/sheila-janota/rl-in-wifi-with-queue-level/a1a4aea50a1e4ad4b808f9a751d64afc\n",
      "COMET INFO:   Metrics [count] (min, max):\n",
      "COMET INFO:     Chosen CW [89985]           : (16.0, 1024.0)\n",
      "COMET INFO:     Cumulative reward [15]      : (2475.220947265625, 3200.936279296875)\n",
      "COMET INFO:     Current throughput [89985]  : (11.169400215148926, 58.929931640625)\n",
      "COMET INFO:     Fairness index [89985]      : (0.03963200002908707, 0.9975780248641968)\n",
      "COMET INFO:     Megabytes sent [89985]      : (0.11169400066137314, 2286.1149642169476)\n",
      "COMET INFO:     Observation 0 [89985]       : (0.1566403179615736, 0.9648720169067382)\n",
      "COMET INFO:     Observation 1 [89985]       : (0.0, 0.012881235457961989)\n",
      "COMET INFO:     Per-ep reward [89985]       : (130.622802734375, 3200.936279296875)\n",
      "COMET INFO:     Round megabytes sent [89985]: (0.022338999435305595, 11.82843017578125)\n",
      "COMET INFO:     Round reward [89985]        : (0.02978515625, 0.997802734375)\n",
      "COMET INFO:     Speed [15]                  : (30.427399163103352, 38.101916070282456)\n",
      "COMET INFO:     Station count [89985]       : (5.0, 30.0)\n",
      "COMET INFO:     actor_loss [89985]          : (-1.7005327939987183, 0.0)\n",
      "COMET INFO:     critic_loss [89985]         : (0.0, 4.419040679931641)\n",
      "COMET INFO:     loss [33578]                : (-1.700010895729065, 0.7223619818687439)\n",
      "COMET INFO:   Uploads:\n",
      "COMET INFO:     histogram3d: 89985\n",
      "COMET INFO: ----------------------------\n"
     ]
    },
    {
     "name": "stdout",
     "output_type": "stream",
     "text": [
      "Sent 2279.25 Mb/s.\tMean speed: 37.99 Mb/s\tEpisode 15/15 finished\n",
      "\n"
     ]
    },
    {
     "name": "stderr",
     "output_type": "stream",
     "text": [
      "COMET INFO: Uploading stats to Comet before program termination (may take several seconds)\n"
     ]
    },
    {
     "name": "stdout",
     "output_type": "stream",
     "text": [
      "Training finished.\n"
     ]
    }
   ],
   "source": [
    "#%%\n",
    "teacher = Teacher(env, 1, Preprocessor(False))\n",
    "\n",
    "lr_actor = 4e-4\n",
    "lr_critic = 4e-3\n",
    "\n",
    "config = Config(buffer_size=4*steps_per_ep*threads_no, batch_size=32, gamma=0.7, tau=1e-3, lr_actor=lr_actor, lr_critic=lr_critic, update_every=1)\n",
    "agent = Agent(state_size=30, action_size=1, config=config, actor_layers=[8, 128, 16], critic_layers=[8,128,16])\n",
    "\n",
    "# Test the model\n",
    "hyperparams = {**config.__dict__, **sim_args}\n",
    "tags = [\"Rew: normalized speed\",\n",
    "        f\"{Agent.NAME}\",\n",
    "        sim_args['scenario'],\n",
    "        f\"Actor: {lr_actor}\",\n",
    "        f\"Critic: {lr_critic}\",\n",
    "        f\"Instances: {threads_no}\",\n",
    "        f\"Station count: {sim_args['nWifi']}\",\n",
    "        *[f\"{key}: {sim_args[key]}\" for key in list(sim_args)[:3]]]\n",
    "# agent.save()\n",
    "logger = teacher.train(agent, EPISODE_COUNT,\n",
    "                        simTime=simTime,\n",
    "                        stepTime=stepTime,\n",
    "                        history_length=history_length,\n",
    "                        send_logs=True,\n",
    "                        experimental=True,\n",
    "                        tags=tags,\n",
    "                        parameters=hyperparams)\n",
    "# logger = teacher.eval(agent,\n",
    "#                         simTime=simTime,\n",
    "#                         stepTime=stepTime,\n",
    "#                         history_length=history_length,\n",
    "#                         tags=tags,\n",
    "#                         parameters=hyperparams)\n",
    "# agent.save()"
   ]
  },
  {
   "cell_type": "code",
   "execution_count": null,
   "id": "fa3c1c24",
   "metadata": {},
   "outputs": [],
   "source": []
  },
  {
   "cell_type": "markdown",
   "id": "844a5f09",
   "metadata": {},
   "source": [
    "# Execution num2:"
   ]
  },
  {
   "cell_type": "code",
   "execution_count": 1,
   "id": "b39d5a21",
   "metadata": {},
   "outputs": [],
   "source": [
    "#%%\n",
    "from ns3gym import ns3env\n",
    "from comet_ml import Experiment, Optimizer\n",
    "import tqdm\n",
    "import subprocess\n",
    "from collections import deque\n",
    "import numpy as np\n",
    "\n",
    "from agents.ddpg.agent import Agent, Config\n",
    "from agents.ddpg.model import Actor\n",
    "from agents.teacher import Teacher, EnvWrapper\n",
    "from preprocessor import Preprocessor"
   ]
  },
  {
   "cell_type": "code",
   "execution_count": 2,
   "id": "2aa9b26b",
   "metadata": {},
   "outputs": [
    {
     "name": "stdout",
     "output_type": "stream",
     "text": [
      "Steps per episode: 6000\n",
      "Waiting for simulation script to connect on port: tcp://localhost:43430\n",
      "Please start proper ns-3 simulation script using ./waf --run \"...\"\n",
      "Waf: Entering directory `/home/samuel/ns-allinone-3.29/ns-3.29/build'\n",
      "Waf: Leaving directory `/home/samuel/ns-allinone-3.29/ns-3.29/build'\n",
      "Build commands will be stored in build/compile_commands.json\n",
      "'build' finished successfully (2.802s)\n"
     ]
    },
    {
     "name": "stderr",
     "output_type": "stream",
     "text": [
      "Ns3Env parameters:\n",
      "--nWifi: 30\n",
      "--simulationTime: 60\n",
      "--openGymPort: 43430\n",
      "--envStepTime: 0.01\n",
      "--seed: 42\n",
      "--agentType: continuous\n",
      "--scenario: convergence\n",
      "--dryRun: 0\n",
      "Simulation started\n"
     ]
    },
    {
     "name": "stdout",
     "output_type": "stream",
     "text": [
      "Observation space shape: (1, 300)\n",
      "Action space shape: (1, 1)\n"
     ]
    },
    {
     "name": "stderr",
     "output_type": "stream",
     "text": [
      "Simulation process id: 3460688 (parent (waf shell) id: 3460658)\n",
      "Waiting for Python process to connect on port: tcp://localhost:43430\n",
      "Please start proper Python Gym Agent\n"
     ]
    }
   ],
   "source": [
    "#%%\n",
    "scenario = \"convergence\"\n",
    "\n",
    "simTime = 60 # seconds\n",
    "stepTime = 0.01  # seconds\n",
    "history_length = 300\n",
    "\n",
    "EPISODE_COUNT = 15\n",
    "steps_per_ep = int(simTime/stepTime)\n",
    "\n",
    "sim_args = {\n",
    "    \"simTime\": simTime,\n",
    "    \"envStepTime\": stepTime,\n",
    "    \"historyLength\": history_length,\n",
    "    \"agentType\": Agent.TYPE,\n",
    "    \"scenario\": \"convergence\",\n",
    "    \"nWifi\": 30,\n",
    "}\n",
    "\n",
    "print(\"Steps per episode:\", steps_per_ep)\n",
    "\n",
    "threads_no = 1\n",
    "env = EnvWrapper(threads_no, **sim_args)\n",
    "\n",
    "#%%\n",
    "env.reset()\n",
    "ob_space = env.observation_space\n",
    "ac_space = env.action_space\n",
    "\n",
    "print(\"Observation space shape:\", ob_space)\n",
    "print(\"Action space shape:\", ac_space)\n",
    "\n",
    "assert ob_space is not None"
   ]
  },
  {
   "cell_type": "code",
   "execution_count": 3,
   "id": "2ddb2b0b",
   "metadata": {
    "scrolled": true
   },
   "outputs": [
    {
     "name": "stdout",
     "output_type": "stream",
     "text": [
      "CuDNN version: 7102\n",
      "cpu\n"
     ]
    },
    {
     "name": "stderr",
     "output_type": "stream",
     "text": [
      "COMET INFO: Experiment is live on comet.ml https://www.comet.com/sheila-janota/rl-in-wifi-with-queue-level/c437fc373ddf4903bd468ad6aa6dabad\n",
      "\n",
      "  0%|          | 0/6300 [00:00<?, ?it/s]"
     ]
    },
    {
     "name": "stdout",
     "output_type": "stream",
     "text": [
      "0\n"
     ]
    },
    {
     "name": "stderr",
     "output_type": "stream",
     "text": [
      "  5%|▌         | 333/6300 [02:03<38:53,  2.56it/s, curr_speed=33.82 Mbps, mb_sent=10.82 Mb]"
     ]
    },
    {
     "name": "stdout",
     "output_type": "stream",
     "text": [
      "------- STARTED TRAINING -------\n"
     ]
    },
    {
     "name": "stderr",
     "output_type": "stream",
     "text": [
      " 43%|████▎     | 2696/6300 [2:20:31<3:36:41,  3.61s/it, curr_speed=29.65 Mbps, mb_sent=746.93 Mb]COMET ERROR: File could not be uploaded\n",
      "100%|██████████| 6300/6300 [6:04:24<00:00,  3.47s/it, curr_speed=31.32 Mbps, mb_sent=1839.67 Mb]  \n"
     ]
    },
    {
     "name": "stdout",
     "output_type": "stream",
     "text": [
      "Waiting for simulation script to connect on port: tcp://localhost:50973\n",
      "Please start proper ns-3 simulation script using ./waf --run \"...\"\n",
      "Waf: Entering directory `/home/samuel/ns-allinone-3.29/ns-3.29/build'\n",
      "Waf: Leaving directory `/home/samuel/ns-allinone-3.29/ns-3.29/build'\n",
      "Build commands will be stored in build/compile_commands.json\n",
      "'build' finished successfully (2.378s)\n"
     ]
    },
    {
     "name": "stderr",
     "output_type": "stream",
     "text": [
      "Ns3Env parameters:\n",
      "--nWifi: 30\n",
      "--simulationTime: 60\n",
      "--openGymPort: 50973\n",
      "--envStepTime: 0.01\n",
      "--seed: 42\n",
      "--agentType: continuous\n",
      "--scenario: convergence\n",
      "--dryRun: 0\n",
      "Simulation started\n",
      "Simulation process id: 3518652 (parent (waf shell) id: 3518636)\n",
      "Waiting for Python process to connect on port: tcp://localhost:50973\n",
      "Please start proper Python Gym Agent\n",
      "  0%|          | 0/6300 [00:00<?, ?it/s]"
     ]
    },
    {
     "name": "stdout",
     "output_type": "stream",
     "text": [
      "Sent 1839.67 Mb/s.\tMean speed: 30.66 Mb/s\tEpisode 1/15 finished\n",
      "\n",
      "1\n"
     ]
    },
    {
     "name": "stderr",
     "output_type": "stream",
     "text": [
      " 26%|██▌       | 1644/6300 [1:19:30<4:35:22,  3.55s/it, curr_speed=28.87 Mbps, mb_sent=440.51 Mb]COMET ERROR: File could not be uploaded\n",
      "100%|██████████| 6300/6300 [6:06:43<00:00,  3.49s/it, curr_speed=29.86 Mbps, mb_sent=1863.69 Mb]  \n"
     ]
    },
    {
     "name": "stdout",
     "output_type": "stream",
     "text": [
      "Waiting for simulation script to connect on port: tcp://localhost:38776\n",
      "Please start proper ns-3 simulation script using ./waf --run \"...\"\n",
      "Waf: Entering directory `/home/samuel/ns-allinone-3.29/ns-3.29/build'\n",
      "Waf: Leaving directory `/home/samuel/ns-allinone-3.29/ns-3.29/build'\n",
      "Build commands will be stored in build/compile_commands.json\n",
      "'build' finished successfully (2.492s)\n"
     ]
    },
    {
     "name": "stderr",
     "output_type": "stream",
     "text": [
      "Ns3Env parameters:\n",
      "--nWifi: 30\n",
      "--simulationTime: 60\n",
      "--openGymPort: 38776\n",
      "--envStepTime: 0.01\n",
      "--seed: 42\n",
      "--agentType: continuous\n",
      "--scenario: convergence\n",
      "--dryRun: 0\n",
      "Simulation started\n",
      "Simulation process id: 3573143 (parent (waf shell) id: 3573125)\n",
      "Waiting for Python process to connect on port: tcp://localhost:38776\n",
      "Please start proper Python Gym Agent\n",
      "  0%|          | 0/6300 [00:00<?, ?it/s]"
     ]
    },
    {
     "name": "stdout",
     "output_type": "stream",
     "text": [
      "Sent 1863.69 Mb/s.\tMean speed: 31.06 Mb/s\tEpisode 2/15 finished\n",
      "\n",
      "2\n"
     ]
    },
    {
     "name": "stderr",
     "output_type": "stream",
     "text": [
      " 18%|█▊        | 1106/6300 [45:10<4:59:27,  3.46s/it, curr_speed=34.03 Mbps, mb_sent=284.45 Mb]COMET ERROR: File could not be uploaded\n",
      " 18%|█▊        | 1111/6300 [45:27<4:53:16,  3.39s/it, curr_speed=34.11 Mbps, mb_sent=286.25 Mb]COMET ERROR: File could not be uploaded\n",
      " 18%|█▊        | 1115/6300 [45:40<4:46:17,  3.31s/it, curr_speed=34.31 Mbps, mb_sent=287.69 Mb]COMET ERROR: File could not be uploaded\n",
      "COMET ERROR: File could not be uploaded\n",
      "COMET ERROR: File could not be uploaded\n",
      "COMET ERROR: File could not be uploaded\n",
      "COMET ERROR: File could not be uploaded\n",
      "COMET ERROR: File could not be uploaded\n",
      "COMET ERROR: File could not be uploaded\n",
      "COMET ERROR: File could not be uploaded\n",
      " 18%|█▊        | 1116/6300 [45:43<4:46:18,  3.31s/it, curr_speed=34.28 Mbps, mb_sent=288.00 Mb]COMET ERROR: File could not be uploaded\n",
      " 18%|█▊        | 1117/6300 [45:47<4:55:41,  3.42s/it, curr_speed=34.31 Mbps, mb_sent=288.41 Mb]COMET ERROR: File could not be uploaded\n",
      " 18%|█▊        | 1119/6300 [45:54<4:57:12,  3.44s/it, curr_speed=34.46 Mbps, mb_sent=289.20 Mb]COMET ERROR: File could not be uploaded\n",
      "COMET ERROR: File could not be uploaded\n",
      " 70%|███████   | 4437/6300 [3:49:18<1:38:09,  3.16s/it, curr_speed=30.54 Mbps, mb_sent=1370.14 Mb]COMET ERROR: File could not be uploaded\n",
      " 71%|███████   | 4442/6300 [3:49:37<1:50:08,  3.56s/it, curr_speed=30.39 Mbps, mb_sent=1371.63 Mb]COMET ERROR: File could not be uploaded\n",
      " 71%|███████   | 4448/6300 [3:49:56<1:46:32,  3.45s/it, curr_speed=30.16 Mbps, mb_sent=1373.35 Mb]COMET ERROR: File could not be uploaded\n",
      " 71%|███████   | 4450/6300 [3:50:04<1:54:30,  3.71s/it, curr_speed=30.09 Mbps, mb_sent=1373.97 Mb]COMET ERROR: File could not be uploaded\n",
      " 71%|███████   | 4451/6300 [3:50:08<1:55:34,  3.75s/it, curr_speed=29.97 Mbps, mb_sent=1374.22 Mb]COMET ERROR: File could not be uploaded\n",
      " 71%|███████▏  | 4494/6300 [3:52:43<1:56:56,  3.89s/it, curr_speed=29.11 Mbps, mb_sent=1386.81 Mb]COMET ERROR: File could not be uploaded\n",
      " 73%|███████▎  | 4630/6300 [3:59:36<1:21:36,  2.93s/it, curr_speed=30.31 Mbps, mb_sent=1428.64 Mb]COMET ERROR: File could not be uploaded\n",
      " 74%|███████▎  | 4632/6300 [3:59:40<1:06:05,  2.38s/it, curr_speed=30.17 Mbps, mb_sent=1429.06 Mb]COMET ERROR: File could not be uploaded\n",
      " 74%|███████▍  | 4657/6300 [4:01:11<1:38:13,  3.59s/it, curr_speed=36.10 Mbps, mb_sent=1442.03 Mb]COMET ERROR: File could not be uploaded\n",
      " 74%|███████▍  | 4664/6300 [4:01:36<1:40:37,  3.69s/it, curr_speed=36.18 Mbps, mb_sent=1444.36 Mb]COMET ERROR: File could not be uploaded\n",
      " 74%|███████▍  | 4679/6300 [4:02:18<1:13:30,  2.72s/it, curr_speed=36.18 Mbps, mb_sent=1448.95 Mb]COMET ERROR: File could not be uploaded\n",
      " 74%|███████▍  | 4691/6300 [4:02:52<1:35:37,  3.57s/it, curr_speed=36.27 Mbps, mb_sent=1452.60 Mb]COMET ERROR: File could not be uploaded\n",
      " 75%|███████▍  | 4697/6300 [4:03:10<1:17:35,  2.90s/it, curr_speed=35.79 Mbps, mb_sent=1454.20 Mb]COMET ERROR: File could not be uploaded\n",
      " 75%|███████▍  | 4703/6300 [4:03:31<1:32:01,  3.46s/it, curr_speed=35.55 Mbps, mb_sent=1455.99 Mb]COMET ERROR: File could not be uploaded\n",
      " 75%|███████▍  | 4704/6300 [4:03:35<1:37:00,  3.65s/it, curr_speed=35.52 Mbps, mb_sent=1456.33 Mb]COMET ERROR: File could not be uploaded\n",
      " 75%|███████▍  | 4714/6300 [4:04:13<1:41:08,  3.83s/it, curr_speed=35.61 Mbps, mb_sent=1459.57 Mb]COMET ERROR: File could not be uploaded\n",
      " 75%|███████▍  | 4720/6300 [4:04:36<1:40:00,  3.80s/it, curr_speed=35.54 Mbps, mb_sent=1461.39 Mb]COMET ERROR: File could not be uploaded\n",
      " 75%|███████▍  | 4724/6300 [4:04:48<1:20:12,  3.05s/it, curr_speed=35.49 Mbps, mb_sent=1462.54 Mb]COMET ERROR: File could not be uploaded\n",
      " 75%|███████▌  | 4736/6300 [4:05:30<1:36:26,  3.70s/it, curr_speed=36.05 Mbps, mb_sent=1466.26 Mb]COMET ERROR: File could not be uploaded\n",
      " 75%|███████▌  | 4745/6300 [4:05:55<1:28:37,  3.42s/it, curr_speed=30.96 Mbps, mb_sent=1469.13 Mb]COMET ERROR: File could not be uploaded\n",
      " 76%|███████▌  | 4767/6300 [4:07:09<1:01:11,  2.39s/it, curr_speed=30.46 Mbps, mb_sent=1475.77 Mb]COMET ERROR: File could not be uploaded\n",
      " 76%|███████▌  | 4786/6300 [4:08:13<59:22,  2.35s/it, curr_speed=30.72 Mbps, mb_sent=1481.69 Mb]  COMET ERROR: File could not be uploaded\n",
      " 76%|███████▋  | 4811/6300 [4:09:50<1:34:11,  3.80s/it, curr_speed=30.91 Mbps, mb_sent=1489.58 Mb]COMET ERROR: File could not be uploaded\n",
      " 76%|███████▋  | 4815/6300 [4:10:05<1:36:20,  3.89s/it, curr_speed=30.75 Mbps, mb_sent=1490.61 Mb]COMET ERROR: File could not be uploaded\n",
      " 76%|███████▋  | 4816/6300 [4:10:08<1:30:31,  3.66s/it, curr_speed=30.56 Mbps, mb_sent=1490.75 Mb]COMET ERROR: File could not be uploaded\n",
      " 76%|███████▋  | 4817/6300 [4:10:12<1:31:40,  3.71s/it, curr_speed=30.57 Mbps, mb_sent=1491.02 Mb]COMET ERROR: File could not be uploaded\n",
      " 77%|███████▋  | 4825/6300 [4:10:42<1:32:08,  3.75s/it, curr_speed=30.65 Mbps, mb_sent=1493.55 Mb]COMET ERROR: File could not be uploaded\n",
      " 77%|███████▋  | 4829/6300 [4:10:56<1:30:48,  3.70s/it, curr_speed=30.75 Mbps, mb_sent=1495.01 Mb]COMET ERROR: File could not be uploaded\n",
      " 77%|███████▋  | 4876/6300 [4:13:46<1:14:39,  3.15s/it, curr_speed=35.63 Mbps, mb_sent=1513.85 Mb]COMET ERROR: File could not be uploaded\n",
      " 77%|███████▋  | 4878/6300 [4:13:54<1:20:30,  3.40s/it, curr_speed=35.32 Mbps, mb_sent=1514.22 Mb]COMET ERROR: File could not be uploaded\n",
      " 78%|███████▊  | 4883/6300 [4:14:12<1:28:47,  3.76s/it, curr_speed=34.47 Mbps, mb_sent=1515.17 Mb]COMET ERROR: File could not be uploaded\n",
      " 78%|███████▊  | 4901/6300 [4:15:22<1:29:21,  3.83s/it, curr_speed=34.80 Mbps, mb_sent=1521.05 Mb]COMET ERROR: File could not be uploaded\n",
      " 78%|███████▊  | 4912/6300 [4:15:53<1:08:16,  2.95s/it, curr_speed=34.85 Mbps, mb_sent=1524.74 Mb]COMET ERROR: File could not be uploaded\n",
      " 78%|███████▊  | 4924/6300 [4:16:35<1:26:35,  3.78s/it, curr_speed=35.17 Mbps, mb_sent=1528.35 Mb]COMET ERROR: File could not be uploaded\n",
      " 78%|███████▊  | 4931/6300 [4:17:03<1:32:50,  4.07s/it, curr_speed=34.44 Mbps, mb_sent=1530.18 Mb]COMET ERROR: File could not be uploaded\n",
      " 79%|███████▊  | 4950/6300 [4:18:13<1:09:33,  3.09s/it, curr_speed=35.02 Mbps, mb_sent=1536.14 Mb]COMET ERROR: File could not be uploaded\n",
      " 79%|███████▊  | 4952/6300 [4:18:21<1:16:24,  3.40s/it, curr_speed=34.93 Mbps, mb_sent=1536.70 Mb]COMET ERROR: File could not be uploaded\n",
      " 79%|███████▊  | 4956/6300 [4:18:36<1:24:10,  3.76s/it, curr_speed=35.11 Mbps, mb_sent=1538.06 Mb]COMET ERROR: File could not be uploaded\n",
      " 79%|███████▉  | 4972/6300 [4:19:27<1:11:21,  3.22s/it, curr_speed=30.41 Mbps, mb_sent=1542.80 Mb]COMET ERROR: File could not be uploaded\n",
      " 79%|███████▉  | 4982/6300 [4:20:05<1:23:19,  3.79s/it, curr_speed=30.73 Mbps, mb_sent=1545.51 Mb]COMET ERROR: File could not be uploaded\n",
      " 79%|███████▉  | 5003/6300 [4:21:29<1:24:19,  3.90s/it, curr_speed=29.40 Mbps, mb_sent=1551.18 Mb]COMET ERROR: File could not be uploaded\n",
      " 80%|███████▉  | 5011/6300 [4:21:58<1:09:55,  3.25s/it, curr_speed=29.26 Mbps, mb_sent=1553.67 Mb]COMET ERROR: File could not be uploaded\n",
      " 80%|███████▉  | 5012/6300 [4:22:01<1:05:43,  3.06s/it, curr_speed=29.29 Mbps, mb_sent=1554.03 Mb]COMET ERROR: File could not be uploaded\n",
      " 80%|███████▉  | 5028/6300 [4:23:01<1:11:00,  3.35s/it, curr_speed=29.70 Mbps, mb_sent=1559.09 Mb]COMET ERROR: File could not be uploaded\n",
      " 80%|███████▉  | 5036/6300 [4:23:31<1:21:26,  3.87s/it, curr_speed=29.67 Mbps, mb_sent=1561.48 Mb]COMET ERROR: File could not be uploaded\n",
      " 80%|███████▉  | 5038/6300 [4:23:39<1:21:57,  3.90s/it, curr_speed=29.80 Mbps, mb_sent=1562.15 Mb]COMET ERROR: File could not be uploaded\n",
      " 80%|███████▉  | 5039/6300 [4:23:43<1:23:04,  3.95s/it, curr_speed=29.88 Mbps, mb_sent=1562.53 Mb]COMET ERROR: File could not be uploaded\n",
      " 80%|████████  | 5044/6300 [4:24:03<1:24:58,  4.06s/it, curr_speed=29.80 Mbps, mb_sent=1564.10 Mb]COMET ERROR: File could not be uploaded\n",
      " 80%|████████  | 5050/6300 [4:24:27<1:24:27,  4.05s/it, curr_speed=29.55 Mbps, mb_sent=1565.70 Mb]COMET ERROR: File could not be uploaded\n",
      " 80%|████████  | 5067/6300 [4:25:31<1:15:26,  3.67s/it, curr_speed=30.59 Mbps, mb_sent=1571.87 Mb]COMET ERROR: File could not be uploaded\n",
      " 80%|████████  | 5069/6300 [4:25:38<1:12:50,  3.55s/it, curr_speed=30.59 Mbps, mb_sent=1572.53 Mb]COMET ERROR: File could not be uploaded\n",
      " 81%|████████  | 5072/6300 [4:25:49<1:15:47,  3.70s/it, curr_speed=30.55 Mbps, mb_sent=1573.35 Mb]COMET ERROR: File could not be uploaded\n",
      " 81%|████████  | 5079/6300 [4:26:11<1:00:30,  2.97s/it, curr_speed=30.62 Mbps, mb_sent=1575.31 Mb]COMET ERROR: File could not be uploaded\n",
      " 81%|████████  | 5084/6300 [4:26:31<1:14:32,  3.68s/it, curr_speed=31.07 Mbps, mb_sent=1576.79 Mb]COMET ERROR: File could not be uploaded\n",
      " 81%|████████  | 5104/6300 [4:27:43<1:08:59,  3.46s/it, curr_speed=31.14 Mbps, mb_sent=1582.65 Mb]COMET ERROR: File could not be uploaded\n",
      " 81%|████████  | 5116/6300 [4:28:31<1:18:45,  3.99s/it, curr_speed=31.51 Mbps, mb_sent=1586.80 Mb]COMET ERROR: File could not be uploaded\n",
      " 81%|████████▏ | 5120/6300 [4:28:47<1:14:48,  3.80s/it, curr_speed=31.69 Mbps, mb_sent=1588.26 Mb]COMET ERROR: File could not be uploaded\n",
      " 81%|████████▏ | 5129/6300 [4:29:22<1:11:26,  3.66s/it, curr_speed=30.96 Mbps, mb_sent=1590.40 Mb]COMET ERROR: File could not be uploaded\n",
      " 82%|████████▏ | 5142/6300 [4:30:11<1:07:56,  3.52s/it, curr_speed=31.15 Mbps, mb_sent=1594.55 Mb]COMET ERROR: File could not be uploaded\n",
      " 82%|████████▏ | 5149/6300 [4:30:37<1:10:23,  3.67s/it, curr_speed=31.35 Mbps, mb_sent=1596.91 Mb]COMET ERROR: File could not be uploaded\n",
      " 82%|████████▏ | 5159/6300 [4:31:16<1:11:32,  3.76s/it, curr_speed=32.34 Mbps, mb_sent=1599.98 Mb]COMET ERROR: File could not be uploaded\n",
      " 82%|████████▏ | 5163/6300 [4:31:30<1:05:44,  3.47s/it, curr_speed=30.49 Mbps, mb_sent=1601.28 Mb]COMET ERROR: File could not be uploaded\n",
      " 82%|████████▏ | 5165/6300 [4:31:36<1:03:00,  3.33s/it, curr_speed=30.56 Mbps, mb_sent=1601.91 Mb]COMET ERROR: File could not be uploaded\n",
      " 82%|████████▏ | 5172/6300 [4:32:03<1:12:28,  3.85s/it, curr_speed=30.46 Mbps, mb_sent=1603.81 Mb]COMET ERROR: File could not be uploaded\n",
      " 82%|████████▏ | 5175/6300 [4:32:15<1:12:59,  3.89s/it, curr_speed=30.66 Mbps, mb_sent=1604.80 Mb]COMET ERROR: File could not be uploaded\n",
      " 82%|████████▏ | 5182/6300 [4:32:42<1:12:07,  3.87s/it, curr_speed=31.08 Mbps, mb_sent=1607.25 Mb]COMET ERROR: File could not be uploaded\n",
      " 82%|████████▏ | 5192/6300 [4:33:11<57:16,  3.10s/it, curr_speed=31.12 Mbps, mb_sent=1610.54 Mb]  COMET ERROR: File could not be uploaded\n",
      " 83%|████████▎ | 5205/6300 [4:33:54<1:01:39,  3.38s/it, curr_speed=31.15 Mbps, mb_sent=1614.16 Mb]COMET ERROR: File could not be uploaded\n",
      " 83%|████████▎ | 5210/6300 [4:34:15<1:13:17,  4.03s/it, curr_speed=31.00 Mbps, mb_sent=1615.78 Mb]COMET ERROR: File could not be uploaded\n",
      " 83%|████████▎ | 5212/6300 [4:34:22<1:09:38,  3.84s/it, curr_speed=30.91 Mbps, mb_sent=1616.38 Mb]COMET ERROR: File could not be uploaded\n",
      " 83%|████████▎ | 5242/6300 [4:36:18<1:09:04,  3.92s/it, curr_speed=29.79 Mbps, mb_sent=1624.34 Mb]COMET ERROR: File could not be uploaded\n",
      " 83%|████████▎ | 5258/6300 [4:37:19<1:06:11,  3.81s/it, curr_speed=29.72 Mbps, mb_sent=1629.42 Mb]COMET ERROR: File could not be uploaded\n",
      " 84%|████████▎ | 5266/6300 [4:37:45<56:21,  3.27s/it, curr_speed=29.28 Mbps, mb_sent=1631.46 Mb]  COMET ERROR: File could not be uploaded\n",
      " 84%|████████▎ | 5269/6300 [4:37:57<1:02:12,  3.62s/it, curr_speed=29.67 Mbps, mb_sent=1632.42 Mb]COMET ERROR: File could not be uploaded\n",
      " 84%|████████▍ | 5286/6300 [4:39:01<1:04:26,  3.81s/it, curr_speed=29.24 Mbps, mb_sent=1637.84 Mb]COMET ERROR: File could not be uploaded\n",
      " 84%|████████▍ | 5289/6300 [4:39:12<1:04:55,  3.85s/it, curr_speed=29.24 Mbps, mb_sent=1638.80 Mb]COMET ERROR: File could not be uploaded\n",
      " 84%|████████▍ | 5292/6300 [4:39:22<59:28,  3.54s/it, curr_speed=29.29 Mbps, mb_sent=1639.83 Mb]  COMET ERROR: File could not be uploaded\n",
      " 84%|████████▍ | 5306/6300 [4:40:12<59:07,  3.57s/it, curr_speed=29.95 Mbps, mb_sent=1644.42 Mb]  COMET ERROR: File could not be uploaded\n",
      " 84%|████████▍ | 5309/6300 [4:40:21<53:57,  3.27s/it, curr_speed=29.48 Mbps, mb_sent=1644.89 Mb]COMET ERROR: File could not be uploaded\n",
      " 84%|████████▍ | 5315/6300 [4:40:44<1:04:23,  3.92s/it, curr_speed=29.21 Mbps, mb_sent=1646.60 Mb]COMET ERROR: File could not be uploaded\n",
      " 85%|████████▍ | 5330/6300 [4:41:42<1:02:02,  3.84s/it, curr_speed=29.29 Mbps, mb_sent=1651.50 Mb]COMET ERROR: File could not be uploaded\n",
      " 85%|████████▍ | 5341/6300 [4:42:24<1:00:23,  3.78s/it, curr_speed=31.21 Mbps, mb_sent=1655.23 Mb]COMET ERROR: File could not be uploaded\n",
      " 85%|████████▍ | 5347/6300 [4:42:47<1:01:35,  3.88s/it, curr_speed=31.13 Mbps, mb_sent=1657.01 Mb]COMET ERROR: File could not be uploaded\n",
      " 85%|████████▍ | 5351/6300 [4:43:03<1:02:46,  3.97s/it, curr_speed=30.89 Mbps, mb_sent=1658.19 Mb]COMET ERROR: File could not be uploaded\n",
      " 85%|████████▌ | 5365/6300 [4:43:57<59:54,  3.84s/it, curr_speed=32.07 Mbps, mb_sent=1663.16 Mb]  COMET ERROR: File could not be uploaded\n",
      " 85%|████████▌ | 5368/6300 [4:44:09<1:00:03,  3.87s/it, curr_speed=31.87 Mbps, mb_sent=1664.00 Mb]COMET ERROR: File could not be uploaded\n",
      " 85%|████████▌ | 5369/6300 [4:44:13<59:07,  3.81s/it, curr_speed=31.84 Mbps, mb_sent=1664.27 Mb]  COMET ERROR: File could not be uploaded\n",
      " 85%|████████▌ | 5370/6300 [4:44:15<51:39,  3.33s/it, curr_speed=31.58 Mbps, mb_sent=1664.41 Mb]COMET ERROR: File could not be uploaded\n",
      " 85%|████████▌ | 5371/6300 [4:44:19<54:32,  3.52s/it, curr_speed=31.61 Mbps, mb_sent=1664.71 Mb]COMET ERROR: File could not be uploaded\n",
      " 85%|████████▌ | 5382/6300 [4:45:02<1:02:04,  4.06s/it, curr_speed=31.88 Mbps, mb_sent=1668.68 Mb]COMET ERROR: File could not be uploaded\n",
      " 86%|████████▌ | 5387/6300 [4:45:21<58:03,  3.82s/it, curr_speed=32.11 Mbps, mb_sent=1670.28 Mb]  COMET ERROR: File could not be uploaded\n",
      " 86%|████████▌ | 5388/6300 [4:45:25<58:12,  3.83s/it, curr_speed=32.11 Mbps, mb_sent=1670.65 Mb]COMET ERROR: File could not be uploaded\n",
      " 86%|████████▌ | 5392/6300 [4:45:41<1:00:36,  4.01s/it, curr_speed=32.08 Mbps, mb_sent=1671.91 Mb]COMET ERROR: File could not be uploaded\n",
      " 86%|████████▌ | 5393/6300 [4:45:45<1:02:32,  4.14s/it, curr_speed=32.00 Mbps, mb_sent=1672.22 Mb]COMET ERROR: File could not be uploaded\n",
      " 86%|████████▌ | 5395/6300 [4:45:53<58:25,  3.87s/it, curr_speed=31.98 Mbps, mb_sent=1672.83 Mb]  COMET ERROR: File could not be uploaded\n",
      " 86%|████████▌ | 5397/6300 [4:45:59<53:04,  3.53s/it, curr_speed=31.98 Mbps, mb_sent=1673.45 Mb]COMET ERROR: File could not be uploaded\n",
      " 86%|████████▌ | 5410/6300 [4:46:48<57:28,  3.87s/it, curr_speed=32.35 Mbps, mb_sent=1677.46 Mb]COMET ERROR: File could not be uploaded\n",
      " 86%|████████▌ | 5431/6300 [4:48:07<55:48,  3.85s/it, curr_speed=32.16 Mbps, mb_sent=1683.99 Mb]COMET ERROR: File could not be uploaded\n",
      " 86%|████████▋ | 5447/6300 [4:49:08<50:53,  3.58s/it, curr_speed=32.51 Mbps, mb_sent=1689.52 Mb]COMET ERROR: File could not be uploaded\n",
      " 87%|████████▋ | 5455/6300 [4:49:39<54:55,  3.90s/it, curr_speed=32.57 Mbps, mb_sent=1692.25 Mb]COMET ERROR: File could not be uploaded\n",
      " 87%|████████▋ | 5456/6300 [4:49:43<54:26,  3.87s/it, curr_speed=32.66 Mbps, mb_sent=1692.62 Mb]COMET ERROR: File could not be uploaded\n",
      " 87%|████████▋ | 5457/6300 [4:49:47<55:57,  3.98s/it, curr_speed=32.66 Mbps, mb_sent=1692.93 Mb]COMET ERROR: File could not be uploaded\n",
      " 87%|████████▋ | 5473/6300 [4:50:48<51:58,  3.77s/it, curr_speed=32.91 Mbps, mb_sent=1698.37 Mb]COMET ERROR: File could not be uploaded\n",
      " 87%|████████▋ | 5476/6300 [4:51:00<53:35,  3.90s/it, curr_speed=32.83 Mbps, mb_sent=1699.33 Mb]COMET ERROR: File could not be uploaded\n",
      " 87%|████████▋ | 5477/6300 [4:51:04<54:17,  3.96s/it, curr_speed=32.67 Mbps, mb_sent=1699.46 Mb]COMET ERROR: File could not be uploaded\n",
      " 87%|████████▋ | 5478/6300 [4:51:08<53:49,  3.93s/it, curr_speed=32.63 Mbps, mb_sent=1699.76 Mb]COMET ERROR: File could not be uploaded\n",
      " 87%|████████▋ | 5479/6300 [4:51:12<53:06,  3.88s/it, curr_speed=32.58 Mbps, mb_sent=1700.11 Mb]COMET ERROR: File could not be uploaded\n",
      " 87%|████████▋ | 5482/6300 [4:51:23<52:02,  3.82s/it, curr_speed=32.51 Mbps, mb_sent=1701.19 Mb]COMET ERROR: File could not be uploaded\n",
      " 88%|████████▊ | 5515/6300 [4:53:08<49:58,  3.82s/it, curr_speed=32.91 Mbps, mb_sent=1711.77 Mb]COMET ERROR: File could not be uploaded\n",
      " 88%|████████▊ | 5538/6300 [4:54:29<47:10,  3.71s/it, curr_speed=32.84 Mbps, mb_sent=1719.12 Mb]COMET ERROR: File could not be uploaded\n"
     ]
    },
    {
     "name": "stderr",
     "output_type": "stream",
     "text": [
      " 88%|████████▊ | 5539/6300 [4:54:33<46:51,  3.69s/it, curr_speed=32.83 Mbps, mb_sent=1719.39 Mb]COMET ERROR: File could not be uploaded\n",
      " 88%|████████▊ | 5543/6300 [4:54:47<46:45,  3.71s/it, curr_speed=32.35 Mbps, mb_sent=1720.42 Mb]COMET ERROR: File could not be uploaded\n",
      " 88%|████████▊ | 5544/6300 [4:54:51<47:31,  3.77s/it, curr_speed=32.29 Mbps, mb_sent=1720.79 Mb]COMET ERROR: File could not be uploaded\n",
      " 88%|████████▊ | 5549/6300 [4:55:08<44:58,  3.59s/it, curr_speed=31.98 Mbps, mb_sent=1722.24 Mb]COMET ERROR: File could not be uploaded\n",
      " 88%|████████▊ | 5559/6300 [4:55:46<43:33,  3.53s/it, curr_speed=31.49 Mbps, mb_sent=1725.05 Mb]COMET ERROR: File could not be uploaded\n",
      " 88%|████████▊ | 5560/6300 [4:55:48<37:23,  3.03s/it, curr_speed=31.46 Mbps, mb_sent=1725.36 Mb]COMET ERROR: File could not be uploaded\n",
      " 88%|████████▊ | 5565/6300 [4:55:59<27:20,  2.23s/it, curr_speed=31.17 Mbps, mb_sent=1726.88 Mb]COMET ERROR: File could not be uploaded\n",
      " 88%|████████▊ | 5570/6300 [4:56:16<38:58,  3.20s/it, curr_speed=30.84 Mbps, mb_sent=1728.27 Mb]COMET ERROR: File could not be uploaded\n",
      " 88%|████████▊ | 5571/6300 [4:56:20<41:49,  3.44s/it, curr_speed=30.89 Mbps, mb_sent=1728.62 Mb]COMET ERROR: File could not be uploaded\n",
      " 88%|████████▊ | 5572/6300 [4:56:23<43:09,  3.56s/it, curr_speed=30.96 Mbps, mb_sent=1729.02 Mb]COMET ERROR: File could not be uploaded\n",
      " 89%|████████▊ | 5580/6300 [4:56:53<46:33,  3.88s/it, curr_speed=30.18 Mbps, mb_sent=1730.64 Mb]COMET ERROR: File could not be uploaded\n",
      " 89%|████████▊ | 5581/6300 [4:56:57<46:39,  3.89s/it, curr_speed=30.11 Mbps, mb_sent=1730.93 Mb]COMET ERROR: File could not be uploaded\n",
      " 89%|████████▊ | 5583/6300 [4:57:03<41:49,  3.50s/it, curr_speed=30.27 Mbps, mb_sent=1731.66 Mb]COMET ERROR: File could not be uploaded\n",
      " 89%|████████▊ | 5584/6300 [4:57:06<37:08,  3.11s/it, curr_speed=30.16 Mbps, mb_sent=1731.89 Mb]COMET ERROR: File could not be uploaded\n",
      " 89%|████████▊ | 5585/6300 [4:57:09<37:50,  3.18s/it, curr_speed=30.08 Mbps, mb_sent=1732.10 Mb]COMET ERROR: File could not be uploaded\n",
      " 89%|████████▊ | 5587/6300 [4:57:17<41:44,  3.51s/it, curr_speed=30.28 Mbps, mb_sent=1732.78 Mb]COMET ERROR: File could not be uploaded\n",
      "100%|██████████| 6300/6300 [5:39:45<00:00,  3.24s/it, curr_speed=30.84 Mbps, mb_sent=1955.03 Mb]\n"
     ]
    },
    {
     "name": "stdout",
     "output_type": "stream",
     "text": [
      "Waiting for simulation script to connect on port: tcp://localhost:38630\n",
      "Please start proper ns-3 simulation script using ./waf --run \"...\"\n",
      "Waf: Entering directory `/home/samuel/ns-allinone-3.29/ns-3.29/build'\n",
      "Waf: Leaving directory `/home/samuel/ns-allinone-3.29/ns-3.29/build'\n",
      "Build commands will be stored in build/compile_commands.json\n",
      "'build' finished successfully (2.889s)\n"
     ]
    },
    {
     "name": "stderr",
     "output_type": "stream",
     "text": [
      "Ns3Env parameters:\n",
      "--nWifi: 30\n",
      "--simulationTime: 60\n",
      "--openGymPort: 38630\n",
      "--envStepTime: 0.01\n",
      "--seed: 42\n",
      "--agentType: continuous\n",
      "--scenario: convergence\n",
      "--dryRun: 0\n",
      "Simulation started\n",
      "Simulation process id: 3634657 (parent (waf shell) id: 3634634)\n",
      "Waiting for Python process to connect on port: tcp://localhost:38630\n",
      "Please start proper Python Gym Agent\n",
      "  0%|          | 0/6300 [00:00<?, ?it/s]"
     ]
    },
    {
     "name": "stdout",
     "output_type": "stream",
     "text": [
      "Sent 1955.03 Mb/s.\tMean speed: 32.58 Mb/s\tEpisode 3/15 finished\n",
      "\n",
      "3\n"
     ]
    },
    {
     "name": "stderr",
     "output_type": "stream",
     "text": [
      "100%|██████████| 6300/6300 [5:38:11<00:00,  3.22s/it, curr_speed=37.12 Mbps, mb_sent=2031.41 Mb]  \n"
     ]
    },
    {
     "name": "stdout",
     "output_type": "stream",
     "text": [
      "Waiting for simulation script to connect on port: tcp://localhost:25593\n",
      "Please start proper ns-3 simulation script using ./waf --run \"...\"\n",
      "Waf: Entering directory `/home/samuel/ns-allinone-3.29/ns-3.29/build'\n",
      "Waf: Leaving directory `/home/samuel/ns-allinone-3.29/ns-3.29/build'\n",
      "Build commands will be stored in build/compile_commands.json\n",
      "'build' finished successfully (2.421s)\n"
     ]
    },
    {
     "name": "stderr",
     "output_type": "stream",
     "text": [
      "Ns3Env parameters:\n",
      "--nWifi: 30\n",
      "--simulationTime: 60\n",
      "--openGymPort: 25593\n",
      "--envStepTime: 0.01\n",
      "--seed: 42\n",
      "--agentType: continuous\n",
      "--scenario: convergence\n",
      "--dryRun: 0\n",
      "Simulation started\n",
      "Simulation process id: 3691855 (parent (waf shell) id: 3691839)\n",
      "Waiting for Python process to connect on port: tcp://localhost:25593\n",
      "Please start proper Python Gym Agent\n",
      "  0%|          | 0/6300 [00:00<?, ?it/s]"
     ]
    },
    {
     "name": "stdout",
     "output_type": "stream",
     "text": [
      "Sent 2031.41 Mb/s.\tMean speed: 33.86 Mb/s\tEpisode 4/15 finished\n",
      "\n",
      "4\n"
     ]
    },
    {
     "name": "stderr",
     "output_type": "stream",
     "text": [
      "  5%|▍         | 304/6300 [02:02<3:58:32,  2.39s/it, curr_speed=40.21 Mbps, mb_sent=1.21 Mb]"
     ]
    },
    {
     "name": "stdout",
     "output_type": "stream",
     "text": [
      "------- MEMORY BUFFER FILLED -------\n"
     ]
    },
    {
     "name": "stderr",
     "output_type": "stream",
     "text": [
      " 95%|█████████▍| 5958/6300 [4:51:31<15:11,  2.66s/it, curr_speed=36.56 Mbps, mb_sent=2017.60 Mb]  COMET ERROR: File could not be uploaded\n",
      "100%|██████████| 6300/6300 [5:07:52<00:00,  2.93s/it, curr_speed=36.36 Mbps, mb_sent=2139.76 Mb]\n"
     ]
    },
    {
     "name": "stdout",
     "output_type": "stream",
     "text": [
      "Waiting for simulation script to connect on port: tcp://localhost:16740\n",
      "Please start proper ns-3 simulation script using ./waf --run \"...\"\n",
      "Waf: Entering directory `/home/samuel/ns-allinone-3.29/ns-3.29/build'\n",
      "Waf: Leaving directory `/home/samuel/ns-allinone-3.29/ns-3.29/build'\n",
      "Build commands will be stored in build/compile_commands.json\n",
      "'build' finished successfully (2.584s)\n"
     ]
    },
    {
     "name": "stderr",
     "output_type": "stream",
     "text": [
      "Ns3Env parameters:\n",
      "--nWifi: 30\n",
      "--simulationTime: 60\n",
      "--openGymPort: 16740\n",
      "--envStepTime: 0.01\n",
      "--seed: 42\n",
      "--agentType: continuous\n",
      "--scenario: convergence\n",
      "--dryRun: 0\n",
      "Simulation started\n",
      "Simulation process id: 3753649 (parent (waf shell) id: 3753627)\n",
      "Waiting for Python process to connect on port: tcp://localhost:16740\n",
      "Please start proper Python Gym Agent\n",
      "  0%|          | 0/6300 [00:00<?, ?it/s]"
     ]
    },
    {
     "name": "stdout",
     "output_type": "stream",
     "text": [
      "Sent 2139.76 Mb/s.\tMean speed: 35.66 Mb/s\tEpisode 5/15 finished\n",
      "\n",
      "5\n"
     ]
    },
    {
     "name": "stderr",
     "output_type": "stream",
     "text": [
      "100%|██████████| 6300/6300 [4:36:39<00:00,  2.63s/it, curr_speed=36.78 Mbps, mb_sent=2211.49 Mb]  \n"
     ]
    },
    {
     "name": "stdout",
     "output_type": "stream",
     "text": [
      "Waiting for simulation script to connect on port: tcp://localhost:39791\n",
      "Please start proper ns-3 simulation script using ./waf --run \"...\"\n",
      "Waf: Entering directory `/home/samuel/ns-allinone-3.29/ns-3.29/build'\n",
      "Waf: Leaving directory `/home/samuel/ns-allinone-3.29/ns-3.29/build'\n",
      "Build commands will be stored in build/compile_commands.json\n",
      "'build' finished successfully (2.318s)\n"
     ]
    },
    {
     "name": "stderr",
     "output_type": "stream",
     "text": [
      "Ns3Env parameters:\n",
      "--nWifi: 30\n",
      "--simulationTime: 60\n",
      "--openGymPort: 39791\n",
      "--envStepTime: 0.01\n",
      "--seed: 42\n",
      "--agentType: continuous\n",
      "--scenario: convergence\n",
      "--dryRun: 0\n",
      "Simulation started\n",
      "Simulation process id: 3807084 (parent (waf shell) id: 3807065)\n",
      "Waiting for Python process to connect on port: tcp://localhost:39791\n",
      "Please start proper Python Gym Agent\n",
      "  0%|          | 0/6300 [00:00<?, ?it/s]"
     ]
    },
    {
     "name": "stdout",
     "output_type": "stream",
     "text": [
      "Sent 2211.49 Mb/s.\tMean speed: 36.86 Mb/s\tEpisode 6/15 finished\n",
      "\n",
      "6\n"
     ]
    },
    {
     "name": "stderr",
     "output_type": "stream",
     "text": [
      "100%|██████████| 6300/6300 [4:32:37<00:00,  2.60s/it, curr_speed=37.19 Mbps, mb_sent=2222.37 Mb]  \n"
     ]
    },
    {
     "name": "stdout",
     "output_type": "stream",
     "text": [
      "Waiting for simulation script to connect on port: tcp://localhost:44686\n",
      "Please start proper ns-3 simulation script using ./waf --run \"...\"\n",
      "Waf: Entering directory `/home/samuel/ns-allinone-3.29/ns-3.29/build'\n",
      "Waf: Leaving directory `/home/samuel/ns-allinone-3.29/ns-3.29/build'\n",
      "Build commands will be stored in build/compile_commands.json\n",
      "'build' finished successfully (2.571s)\n"
     ]
    },
    {
     "name": "stderr",
     "output_type": "stream",
     "text": [
      "Ns3Env parameters:\n",
      "--nWifi: 30\n",
      "--simulationTime: 60\n",
      "--openGymPort: 44686\n",
      "--envStepTime: 0.01\n",
      "--seed: 42\n",
      "--agentType: continuous\n",
      "--scenario: convergence\n",
      "--dryRun: 0\n",
      "Simulation started\n",
      "Simulation process id: 3855963 (parent (waf shell) id: 3855945)\n",
      "Waiting for Python process to connect on port: tcp://localhost:44686\n",
      "Please start proper Python Gym Agent\n",
      "  0%|          | 0/6300 [00:00<?, ?it/s]"
     ]
    },
    {
     "name": "stdout",
     "output_type": "stream",
     "text": [
      "Sent 2222.37 Mb/s.\tMean speed: 37.04 Mb/s\tEpisode 7/15 finished\n",
      "\n",
      "7\n"
     ]
    },
    {
     "name": "stderr",
     "output_type": "stream",
     "text": [
      "100%|██████████| 6300/6300 [4:28:46<00:00,  2.56s/it, curr_speed=36.81 Mbps, mb_sent=2254.94 Mb]  \n"
     ]
    },
    {
     "name": "stdout",
     "output_type": "stream",
     "text": [
      "Waiting for simulation script to connect on port: tcp://localhost:41038\n",
      "Please start proper ns-3 simulation script using ./waf --run \"...\"\n",
      "Waf: Entering directory `/home/samuel/ns-allinone-3.29/ns-3.29/build'\n",
      "Waf: Leaving directory `/home/samuel/ns-allinone-3.29/ns-3.29/build'\n",
      "Build commands will be stored in build/compile_commands.json\n",
      "'build' finished successfully (2.325s)\n"
     ]
    },
    {
     "name": "stderr",
     "output_type": "stream",
     "text": [
      "Ns3Env parameters:\n",
      "--nWifi: 30\n",
      "--simulationTime: 60\n",
      "--openGymPort: 41038\n",
      "--envStepTime: 0.01\n",
      "--seed: 42\n",
      "--agentType: continuous\n",
      "--scenario: convergence\n",
      "--dryRun: 0\n",
      "Simulation started\n",
      "Simulation process id: 3901893 (parent (waf shell) id: 3901874)\n",
      "Waiting for Python process to connect on port: tcp://localhost:41038\n",
      "Please start proper Python Gym Agent\n",
      "  0%|          | 0/6300 [00:00<?, ?it/s]"
     ]
    },
    {
     "name": "stdout",
     "output_type": "stream",
     "text": [
      "Sent 2254.94 Mb/s.\tMean speed: 37.58 Mb/s\tEpisode 8/15 finished\n",
      "\n",
      "8\n"
     ]
    },
    {
     "name": "stderr",
     "output_type": "stream",
     "text": [
      " 55%|█████▌    | 3471/6300 [2:17:53<2:09:42,  2.75s/it, curr_speed=37.80 Mbps, mb_sent=1209.95 Mb]COMET ERROR: File could not be uploaded\n",
      " 55%|█████▌    | 3473/6300 [2:17:58<2:05:51,  2.67s/it, curr_speed=37.83 Mbps, mb_sent=1210.71 Mb]COMET ERROR: File could not be uploaded\n",
      " 56%|█████▌    | 3508/6300 [2:19:29<2:04:37,  2.68s/it, curr_speed=37.86 Mbps, mb_sent=1223.86 Mb]COMET ERROR: File could not be uploaded\n",
      " 56%|█████▌    | 3509/6300 [2:19:31<2:02:32,  2.63s/it, curr_speed=37.82 Mbps, mb_sent=1224.19 Mb]COMET ERROR: File could not be uploaded\n",
      " 56%|█████▌    | 3516/6300 [2:19:51<2:07:13,  2.74s/it, curr_speed=37.76 Mbps, mb_sent=1226.85 Mb]COMET ERROR: File could not be uploaded\n",
      " 56%|█████▌    | 3517/6300 [2:19:54<2:15:32,  2.92s/it, curr_speed=37.78 Mbps, mb_sent=1227.26 Mb]COMET ERROR: File could not be uploaded\n",
      " 56%|█████▌    | 3519/6300 [2:20:01<2:26:57,  3.17s/it, curr_speed=37.80 Mbps, mb_sent=1228.07 Mb]COMET ERROR: File could not be uploaded\n",
      " 56%|█████▌    | 3522/6300 [2:20:10<2:21:17,  3.05s/it, curr_speed=37.80 Mbps, mb_sent=1229.22 Mb]COMET ERROR: File could not be uploaded\n",
      " 56%|█████▌    | 3539/6300 [2:21:01<2:11:24,  2.86s/it, curr_speed=37.78 Mbps, mb_sent=1235.55 Mb]COMET ERROR: File could not be uploaded\n",
      " 56%|█████▋    | 3557/6300 [2:21:51<2:10:57,  2.86s/it, curr_speed=37.86 Mbps, mb_sent=1242.40 Mb]COMET ERROR: File could not be uploaded\n",
      " 57%|█████▋    | 3565/6300 [2:22:14<2:12:41,  2.91s/it, curr_speed=37.70 Mbps, mb_sent=1245.37 Mb]COMET ERROR: File could not be uploaded\n",
      " 57%|█████▋    | 3585/6300 [2:23:12<2:14:04,  2.96s/it, curr_speed=37.82 Mbps, mb_sent=1253.05 Mb]COMET ERROR: File could not be uploaded\n",
      " 57%|█████▋    | 3590/6300 [2:23:26<2:01:19,  2.69s/it, curr_speed=37.98 Mbps, mb_sent=1255.05 Mb]COMET ERROR: File could not be uploaded\n",
      " 57%|█████▋    | 3602/6300 [2:24:00<2:03:10,  2.74s/it, curr_speed=38.04 Mbps, mb_sent=1259.67 Mb]COMET ERROR: File could not be uploaded\n",
      " 57%|█████▋    | 3619/6300 [2:24:46<2:09:02,  2.89s/it, curr_speed=37.94 Mbps, mb_sent=1266.01 Mb]COMET ERROR: File could not be uploaded\n",
      " 57%|█████▋    | 3620/6300 [2:24:48<2:04:08,  2.78s/it, curr_speed=37.94 Mbps, mb_sent=1266.38 Mb]COMET ERROR: File could not be uploaded\n",
      " 58%|█████▊    | 3628/6300 [2:25:11<2:02:56,  2.76s/it, curr_speed=37.83 Mbps, mb_sent=1269.36 Mb]COMET ERROR: File could not be uploaded\n",
      " 59%|█████▉    | 3703/6300 [2:28:33<1:55:21,  2.67s/it, curr_speed=37.63 Mbps, mb_sent=1297.71 Mb]COMET ERROR: File could not be uploaded\n",
      " 59%|█████▉    | 3722/6300 [2:29:22<1:58:37,  2.76s/it, curr_speed=37.57 Mbps, mb_sent=1304.74 Mb]COMET ERROR: File could not be uploaded\n",
      " 59%|█████▉    | 3724/6300 [2:29:29<2:09:19,  3.01s/it, curr_speed=37.65 Mbps, mb_sent=1305.51 Mb]COMET ERROR: File could not be uploaded\n",
      " 59%|█████▉    | 3727/6300 [2:29:37<2:05:23,  2.92s/it, curr_speed=37.70 Mbps, mb_sent=1306.69 Mb]COMET ERROR: File could not be uploaded\n",
      " 59%|█████▉    | 3731/6300 [2:29:48<1:54:34,  2.68s/it, curr_speed=37.67 Mbps, mb_sent=1308.22 Mb]COMET ERROR: File could not be uploaded\n",
      " 60%|█████▉    | 3765/6300 [2:31:19<1:57:35,  2.78s/it, curr_speed=37.38 Mbps, mb_sent=1320.85 Mb]COMET ERROR: File could not be uploaded\n",
      " 60%|█████▉    | 3768/6300 [2:31:28<2:02:46,  2.91s/it, curr_speed=37.38 Mbps, mb_sent=1321.95 Mb]COMET ERROR: File could not be uploaded\n",
      " 60%|██████    | 3810/6300 [2:33:25<1:48:47,  2.62s/it, curr_speed=37.41 Mbps, mb_sent=1337.73 Mb]COMET ERROR: File could not be uploaded\n",
      " 61%|██████    | 3837/6300 [2:34:39<1:55:11,  2.81s/it, curr_speed=36.67 Mbps, mb_sent=1347.16 Mb]COMET ERROR: File could not be uploaded\n",
      " 65%|██████▌   | 4106/6300 [2:47:03<1:38:58,  2.71s/it, curr_speed=34.03 Mbps, mb_sent=1441.49 Mb]COMET ERROR: File could not be uploaded\n",
      " 65%|██████▌   | 4117/6300 [2:47:32<1:32:43,  2.55s/it, curr_speed=34.17 Mbps, mb_sent=1445.37 Mb]COMET ERROR: File could not be uploaded\n",
      " 66%|██████▌   | 4159/6300 [2:49:33<1:33:56,  2.63s/it, curr_speed=34.32 Mbps, mb_sent=1459.80 Mb]COMET ERROR: File could not be uploaded\n",
      " 66%|██████▌   | 4160/6300 [2:49:36<1:40:46,  2.83s/it, curr_speed=34.32 Mbps, mb_sent=1460.16 Mb]COMET ERROR: File could not be uploaded\n",
      " 66%|██████▌   | 4161/6300 [2:49:38<1:32:25,  2.59s/it, curr_speed=34.30 Mbps, mb_sent=1460.48 Mb]COMET ERROR: File could not be uploaded\n",
      " 66%|██████▋   | 4182/6300 [2:50:33<1:44:46,  2.97s/it, curr_speed=34.49 Mbps, mb_sent=1467.80 Mb]COMET ERROR: File could not be uploaded\n",
      " 66%|██████▋   | 4184/6300 [2:50:39<1:38:21,  2.79s/it, curr_speed=34.52 Mbps, mb_sent=1468.49 Mb]COMET ERROR: File could not be uploaded\n",
      " 66%|██████▋   | 4187/6300 [2:50:45<1:21:09,  2.30s/it, curr_speed=34.40 Mbps, mb_sent=1469.46 Mb]COMET ERROR: File could not be uploaded\n",
      " 67%|██████▋   | 4192/6300 [2:50:59<1:32:19,  2.63s/it, curr_speed=34.49 Mbps, mb_sent=1471.15 Mb]COMET ERROR: File could not be uploaded\n",
      " 67%|██████▋   | 4194/6300 [2:51:04<1:32:56,  2.65s/it, curr_speed=34.50 Mbps, mb_sent=1471.85 Mb]COMET ERROR: File could not be uploaded\n",
      " 67%|██████▋   | 4201/6300 [2:51:24<1:41:44,  2.91s/it, curr_speed=34.42 Mbps, mb_sent=1474.20 Mb]COMET ERROR: File could not be uploaded\n",
      " 67%|██████▋   | 4222/6300 [2:52:22<1:41:04,  2.92s/it, curr_speed=34.28 Mbps, mb_sent=1481.38 Mb]COMET ERROR: File could not be uploaded\n",
      " 67%|██████▋   | 4229/6300 [2:52:40<1:30:10,  2.61s/it, curr_speed=34.51 Mbps, mb_sent=1483.87 Mb]COMET ERROR: File could not be uploaded\n",
      " 67%|██████▋   | 4234/6300 [2:52:55<1:37:21,  2.83s/it, curr_speed=34.38 Mbps, mb_sent=1485.48 Mb]COMET ERROR: File could not be uploaded\n",
      " 68%|██████▊   | 4263/6300 [2:54:07<1:22:27,  2.43s/it, curr_speed=34.40 Mbps, mb_sent=1495.56 Mb]COMET ERROR: File could not be uploaded\n",
      " 68%|██████▊   | 4277/6300 [2:54:41<1:21:17,  2.41s/it, curr_speed=34.30 Mbps, mb_sent=1500.26 Mb]COMET ERROR: File could not be uploaded\n",
      " 68%|██████▊   | 4308/6300 [2:56:05<1:20:18,  2.42s/it, curr_speed=34.47 Mbps, mb_sent=1511.14 Mb]COMET ERROR: File could not be uploaded\n",
      " 68%|██████▊   | 4309/6300 [2:56:07<1:23:28,  2.52s/it, curr_speed=34.52 Mbps, mb_sent=1511.48 Mb]COMET ERROR: File could not be uploaded\n",
      "100%|██████████| 6300/6300 [4:29:49<00:00,  2.57s/it, curr_speed=37.53 Mbps, mb_sent=2272.53 Mb]  \n"
     ]
    },
    {
     "name": "stdout",
     "output_type": "stream",
     "text": [
      "Waiting for simulation script to connect on port: tcp://localhost:44644\n",
      "Please start proper ns-3 simulation script using ./waf --run \"...\"\n",
      "Waf: Entering directory `/home/samuel/ns-allinone-3.29/ns-3.29/build'\n",
      "Waf: Leaving directory `/home/samuel/ns-allinone-3.29/ns-3.29/build'\n",
      "Build commands will be stored in build/compile_commands.json\n",
      "'build' finished successfully (2.252s)\n"
     ]
    },
    {
     "name": "stderr",
     "output_type": "stream",
     "text": [
      "Ns3Env parameters:\n",
      "--nWifi: 30\n",
      "--simulationTime: 60\n",
      "--openGymPort: 44644\n",
      "--envStepTime: 0.01\n",
      "--seed: 42\n",
      "--agentType: continuous\n",
      "--scenario: convergence\n",
      "--dryRun: 0\n",
      "Simulation started\n",
      "Simulation process id: 3948600 (parent (waf shell) id: 3948581)\n",
      "Waiting for Python process to connect on port: tcp://localhost:44644\n",
      "Please start proper Python Gym Agent\n",
      "  0%|          | 0/6300 [00:00<?, ?it/s]"
     ]
    },
    {
     "name": "stdout",
     "output_type": "stream",
     "text": [
      "Sent 2272.53 Mb/s.\tMean speed: 37.88 Mb/s\tEpisode 9/15 finished\n",
      "\n",
      "9\n"
     ]
    },
    {
     "name": "stderr",
     "output_type": "stream",
     "text": [
      "100%|██████████| 6300/6300 [4:29:41<00:00,  2.57s/it, curr_speed=37.57 Mbps, mb_sent=2268.00 Mb]  \n"
     ]
    },
    {
     "name": "stdout",
     "output_type": "stream",
     "text": [
      "Waiting for simulation script to connect on port: tcp://localhost:50799\n",
      "Please start proper ns-3 simulation script using ./waf --run \"...\"\n",
      "Waf: Entering directory `/home/samuel/ns-allinone-3.29/ns-3.29/build'\n",
      "Waf: Leaving directory `/home/samuel/ns-allinone-3.29/ns-3.29/build'\n",
      "Build commands will be stored in build/compile_commands.json\n",
      "'build' finished successfully (2.328s)\n"
     ]
    },
    {
     "name": "stderr",
     "output_type": "stream",
     "text": [
      "Ns3Env parameters:\n",
      "--nWifi: 30\n",
      "--simulationTime: 60\n",
      "--openGymPort: 50799\n",
      "--envStepTime: 0.01\n",
      "--seed: 42\n",
      "--agentType: continuous\n",
      "--scenario: convergence\n",
      "--dryRun: 0\n",
      "Simulation started\n",
      "Simulation process id: 3994626 (parent (waf shell) id: 3994607)\n",
      "Waiting for Python process to connect on port: tcp://localhost:50799\n",
      "Please start proper Python Gym Agent\n",
      "  0%|          | 0/6300 [00:00<?, ?it/s]"
     ]
    },
    {
     "name": "stdout",
     "output_type": "stream",
     "text": [
      "Sent 2268.00 Mb/s.\tMean speed: 37.80 Mb/s\tEpisode 10/15 finished\n",
      "\n",
      "10\n"
     ]
    },
    {
     "name": "stderr",
     "output_type": "stream",
     "text": [
      "100%|██████████| 6300/6300 [4:30:30<00:00,  2.58s/it, curr_speed=37.66 Mbps, mb_sent=2273.12 Mb]  \n"
     ]
    },
    {
     "name": "stdout",
     "output_type": "stream",
     "text": [
      "Waiting for simulation script to connect on port: tcp://localhost:47937\n",
      "Please start proper ns-3 simulation script using ./waf --run \"...\"\n",
      "Waf: Entering directory `/home/samuel/ns-allinone-3.29/ns-3.29/build'\n",
      "Waf: Leaving directory `/home/samuel/ns-allinone-3.29/ns-3.29/build'\n",
      "Build commands will be stored in build/compile_commands.json\n",
      "'build' finished successfully (2.413s)\n"
     ]
    },
    {
     "name": "stderr",
     "output_type": "stream",
     "text": [
      "Ns3Env parameters:\n",
      "--nWifi: 30\n",
      "--simulationTime: 60\n",
      "--openGymPort: 47937\n",
      "--envStepTime: 0.01\n",
      "--seed: 42\n",
      "--agentType: continuous\n",
      "--scenario: convergence\n",
      "--dryRun: 0\n",
      "Simulation started\n",
      "Simulation process id: 4040908 (parent (waf shell) id: 4040890)\n",
      "Waiting for Python process to connect on port: tcp://localhost:47937\n",
      "Please start proper Python Gym Agent\n",
      "  0%|          | 0/6300 [00:00<?, ?it/s]"
     ]
    },
    {
     "name": "stdout",
     "output_type": "stream",
     "text": [
      "Sent 2273.12 Mb/s.\tMean speed: 37.89 Mb/s\tEpisode 11/15 finished\n",
      "\n",
      "11\n"
     ]
    },
    {
     "name": "stderr",
     "output_type": "stream",
     "text": [
      "100%|██████████| 6300/6300 [3:22:32<00:00,  1.93s/it, curr_speed=37.81 Mbps, mb_sent=2280.92 Mb]  \n"
     ]
    },
    {
     "name": "stdout",
     "output_type": "stream",
     "text": [
      "Waiting for simulation script to connect on port: tcp://localhost:42714\n",
      "Please start proper ns-3 simulation script using ./waf --run \"...\"\n",
      "Waf: Entering directory `/home/samuel/ns-allinone-3.29/ns-3.29/build'\n",
      "Waf: Leaving directory `/home/samuel/ns-allinone-3.29/ns-3.29/build'\n",
      "Build commands will be stored in build/compile_commands.json\n",
      "'build' finished successfully (2.247s)\n"
     ]
    },
    {
     "name": "stderr",
     "output_type": "stream",
     "text": [
      "Ns3Env parameters:\n",
      "--nWifi: 30\n",
      "--simulationTime: 60\n",
      "--openGymPort: 42714\n",
      "--envStepTime: 0.01\n",
      "--seed: 42\n",
      "--agentType: continuous\n",
      "--scenario: convergence\n",
      "--dryRun: 0\n",
      "Simulation started\n",
      "Simulation process id: 4090112 (parent (waf shell) id: 4090093)\n",
      "Waiting for Python process to connect on port: tcp://localhost:42714\n",
      "Please start proper Python Gym Agent\n",
      "  0%|          | 0/6300 [00:00<?, ?it/s]"
     ]
    },
    {
     "name": "stdout",
     "output_type": "stream",
     "text": [
      "Sent 2280.92 Mb/s.\tMean speed: 38.02 Mb/s\tEpisode 12/15 finished\n",
      "\n",
      "12\n",
      "Turning off noise\n"
     ]
    },
    {
     "name": "stderr",
     "output_type": "stream",
     "text": [
      "100%|██████████| 6300/6300 [3:20:37<00:00,  1.91s/it, curr_speed=38.10 Mbps, mb_sent=2284.31 Mb]  \n"
     ]
    },
    {
     "name": "stdout",
     "output_type": "stream",
     "text": [
      "Waiting for simulation script to connect on port: tcp://localhost:40614\n",
      "Please start proper ns-3 simulation script using ./waf --run \"...\"\n",
      "Waf: Entering directory `/home/samuel/ns-allinone-3.29/ns-3.29/build'\n",
      "Waf: Leaving directory `/home/samuel/ns-allinone-3.29/ns-3.29/build'\n",
      "Build commands will be stored in build/compile_commands.json\n",
      "'build' finished successfully (2.301s)\n"
     ]
    },
    {
     "name": "stderr",
     "output_type": "stream",
     "text": [
      "Ns3Env parameters:\n",
      "--nWifi: 30\n",
      "--simulationTime: 60\n",
      "--openGymPort: 40614\n",
      "--envStepTime: 0.01\n",
      "--seed: 42\n",
      "--agentType: continuous\n",
      "--scenario: convergence\n",
      "--dryRun: 0\n",
      "Simulation started\n",
      "Simulation process id: 4131505 (parent (waf shell) id: 4131484)\n",
      "Waiting for Python process to connect on port: tcp://localhost:40614\n",
      "Please start proper Python Gym Agent\n",
      "  0%|          | 0/6300 [00:00<?, ?it/s]"
     ]
    },
    {
     "name": "stdout",
     "output_type": "stream",
     "text": [
      "Sent 2284.31 Mb/s.\tMean speed: 38.07 Mb/s\tEpisode 13/15 finished\n",
      "\n",
      "13\n",
      "Turning off noise\n"
     ]
    },
    {
     "name": "stderr",
     "output_type": "stream",
     "text": [
      "100%|██████████| 6300/6300 [1:20:03<00:00,  1.31it/s, curr_speed=37.72 Mbps, mb_sent=2282.57 Mb]\n"
     ]
    },
    {
     "name": "stdout",
     "output_type": "stream",
     "text": [
      "Waiting for simulation script to connect on port: tcp://localhost:17187\n",
      "Please start proper ns-3 simulation script using ./waf --run \"...\"\n",
      "Waf: Entering directory `/home/samuel/ns-allinone-3.29/ns-3.29/build'\n",
      "Waf: Leaving directory `/home/samuel/ns-allinone-3.29/ns-3.29/build'\n",
      "Build commands will be stored in build/compile_commands.json\n",
      "'build' finished successfully (2.083s)\n"
     ]
    },
    {
     "name": "stderr",
     "output_type": "stream",
     "text": [
      "Ns3Env parameters:\n",
      "--nWifi: 30\n",
      "--simulationTime: 60\n",
      "--openGymPort: 17187\n",
      "--envStepTime: 0.01\n",
      "--seed: 42\n",
      "--agentType: continuous\n",
      "--scenario: convergence\n",
      "--dryRun: 0\n",
      "Simulation started\n",
      "Simulation process id: 4168359 (parent (waf shell) id: 4168328)\n",
      "Waiting for Python process to connect on port: tcp://localhost:17187\n",
      "Please start proper Python Gym Agent\n",
      "  0%|          | 1/6300 [00:00<19:21,  5.42it/s, curr_speed=0.00 Mbps, mb_sent=0.00 Mb]"
     ]
    },
    {
     "name": "stdout",
     "output_type": "stream",
     "text": [
      "Sent 2282.57 Mb/s.\tMean speed: 38.04 Mb/s\tEpisode 14/15 finished\n",
      "\n",
      "14\n",
      "Turning off noise\n"
     ]
    },
    {
     "name": "stderr",
     "output_type": "stream",
     "text": [
      "100%|██████████| 6300/6300 [45:07<00:00,  2.33it/s, curr_speed=37.70 Mbps, mb_sent=2278.94 Mb]\n"
     ]
    },
    {
     "name": "stdout",
     "output_type": "stream",
     "text": [
      "Waiting for simulation script to connect on port: tcp://localhost:25928\n",
      "Please start proper ns-3 simulation script using ./waf --run \"...\"\n",
      "Waf: Entering directory `/home/samuel/ns-allinone-3.29/ns-3.29/build'\n",
      "Waf: Leaving directory `/home/samuel/ns-allinone-3.29/ns-3.29/build'\n",
      "Build commands will be stored in build/compile_commands.json\n",
      "'build' finished successfully (2.092s)\n"
     ]
    },
    {
     "name": "stderr",
     "output_type": "stream",
     "text": [
      "Ns3Env parameters:\n",
      "--nWifi: 30\n",
      "--simulationTime: 60\n",
      "--openGymPort: 25928\n",
      "--envStepTime: 0.01\n",
      "--seed: 42\n",
      "--agentType: continuous\n",
      "--scenario: convergence\n",
      "--dryRun: 0\n",
      "Simulation started\n",
      "Simulation process id: 4193437 (parent (waf shell) id: 4193410)\n",
      "Waiting for Python process to connect on port: tcp://localhost:25928\n",
      "Please start proper Python Gym Agent\n",
      "COMET INFO: ----------------------------\n",
      "COMET INFO: Comet.ml Experiment Summary:\n",
      "COMET INFO:   Data:\n",
      "COMET INFO:     url: https://www.comet.com/sheila-janota/rl-in-wifi-with-queue-level/c437fc373ddf4903bd468ad6aa6dabad\n",
      "COMET INFO:   Metrics [count] (min, max):\n",
      "COMET INFO:     Chosen CW [89985]           : (16.0, 1024.0)\n",
      "COMET INFO:     Cumulative reward [15]      : (2529.83203125, 3196.4833984375)\n",
      "COMET INFO:     Current throughput [89985]  : (12.28640079498291, 56.30509948730469)\n",
      "COMET INFO:     Fairness index [89985]      : (0.03957900032401085, 0.9972469806671143)\n",
      "COMET INFO:     Megabytes sent [89985]      : (0.1228640004992485, 2284.305515676737)\n",
      "COMET INFO:     Observation 0 [89985]       : (0.1566919308155775, 0.9647424471378326)\n",
      "COMET INFO:     Observation 1 [89985]       : (0.0, 0.013010373969121636)\n",
      "COMET INFO:     Per-ep reward [89985]       : (130.935546875, 3196.4833984375)\n",
      "COMET INFO:     Round megabytes sent [89985]: (0.01116899959743023, 11.8172607421875)\n",
      "COMET INFO:     Round reward [89985]        : (0.014892578125, 0.908447265625)\n",
      "COMET INFO:     Speed [15]                  : (30.661212551159164, 38.071758594612284)\n",
      "COMET INFO:     Station count [89985]       : (5.0, 30.0)\n",
      "COMET INFO:     actor_loss [89985]          : (-1.699289321899414, 0.0)\n",
      "COMET INFO:     critic_loss [89985]         : (0.0, 5.673463344573975)\n",
      "COMET INFO:     loss [33578]                : (-1.6980667114257812, 0.7108169794082642)\n",
      "COMET INFO:   Uploads:\n",
      "COMET INFO:     histogram3d: 89985\n",
      "COMET INFO: ----------------------------\n",
      "COMET INFO: Uploading stats to Comet before program termination (may take several seconds)\n"
     ]
    },
    {
     "name": "stdout",
     "output_type": "stream",
     "text": [
      "Sent 2278.94 Mb/s.\tMean speed: 37.98 Mb/s\tEpisode 15/15 finished\n",
      "\n"
     ]
    },
    {
     "name": "stderr",
     "output_type": "stream",
     "text": [
      "COMET INFO: Waiting for completion of the file uploads (may take several seconds)\n",
      "COMET INFO: Still uploading\n",
      "COMET INFO: Still uploading\n",
      "COMET INFO: Still uploading\n",
      "COMET INFO: Still uploading\n",
      "COMET INFO: Still uploading\n",
      "COMET INFO: Still uploading\n",
      "COMET INFO: Still uploading\n",
      "COMET INFO: Still uploading\n",
      "COMET INFO: Still uploading\n",
      "COMET INFO: Still uploading\n",
      "COMET INFO: Still uploading\n",
      "COMET INFO: Still uploading\n",
      "COMET INFO: Still uploading\n",
      "COMET INFO: Still uploading\n",
      "COMET INFO: Still uploading\n",
      "COMET INFO: Still uploading\n",
      "COMET INFO: Still uploading\n",
      "COMET INFO: Still uploading\n",
      "COMET INFO: Still uploading\n",
      "COMET INFO: Still uploading\n",
      "COMET INFO: Still uploading\n",
      "COMET INFO: Still uploading\n",
      "COMET INFO: Still uploading\n",
      "COMET INFO: Still uploading\n",
      "COMET INFO: Still uploading\n",
      "COMET INFO: Still uploading\n",
      "COMET INFO: Still uploading\n",
      "COMET INFO: Still uploading\n",
      "COMET INFO: Still uploading\n",
      "COMET INFO: Still uploading\n",
      "COMET INFO: Still uploading\n",
      "COMET INFO: Still uploading\n",
      "COMET INFO: Still uploading\n",
      "COMET INFO: Still uploading\n",
      "COMET INFO: Still uploading\n",
      "COMET INFO: Still uploading\n",
      "COMET INFO: Still uploading\n",
      "COMET INFO: Still uploading\n",
      "COMET INFO: Still uploading\n",
      "COMET INFO: Still uploading\n",
      "COMET INFO: Still uploading\n",
      "COMET INFO: Still uploading\n",
      "COMET INFO: Still uploading\n",
      "COMET INFO: Still uploading\n",
      "COMET INFO: Still uploading\n",
      "COMET INFO: Still uploading\n",
      "COMET INFO: Still uploading\n",
      "COMET INFO: Still uploading\n",
      "COMET INFO: Still uploading\n",
      "COMET INFO: Still uploading\n",
      "COMET INFO: Still uploading\n",
      "COMET INFO: Still uploading\n",
      "COMET INFO: Still uploading\n",
      "COMET INFO: Still uploading\n",
      "COMET INFO: Still uploading\n",
      "COMET INFO: Still uploading\n",
      "COMET INFO: Still uploading\n",
      "COMET INFO: Still uploading\n",
      "COMET INFO: Still uploading\n",
      "COMET INFO: Still uploading\n",
      "COMET INFO: Still uploading\n",
      "COMET INFO: Still uploading\n",
      "COMET INFO: Still uploading\n",
      "COMET INFO: Still uploading\n",
      "COMET INFO: Still uploading\n",
      "COMET INFO: Still uploading\n",
      "COMET INFO: Still uploading\n",
      "COMET INFO: Still uploading\n",
      "COMET INFO: Still uploading\n",
      "COMET INFO: Still uploading\n",
      "COMET INFO: Still uploading\n",
      "COMET INFO: Still uploading\n",
      "COMET INFO: Still uploading\n",
      "COMET INFO: Still uploading\n",
      "COMET INFO: Still uploading\n",
      "COMET INFO: Still uploading\n",
      "COMET INFO: Still uploading\n",
      "COMET INFO: Still uploading\n",
      "COMET INFO: Still uploading\n",
      "COMET INFO: Still uploading\n",
      "COMET INFO: Still uploading\n",
      "COMET INFO: Still uploading\n",
      "COMET INFO: Still uploading\n",
      "COMET INFO: Still uploading\n",
      "COMET INFO: Still uploading\n",
      "COMET INFO: Still uploading\n",
      "COMET INFO: Still uploading\n",
      "COMET INFO: Still uploading\n",
      "COMET INFO: Still uploading\n",
      "COMET INFO: Still uploading\n",
      "COMET INFO: Still uploading\n",
      "COMET INFO: Still uploading\n",
      "COMET INFO: Still uploading\n",
      "COMET INFO: Still uploading\n",
      "COMET INFO: Still uploading\n",
      "COMET INFO: Still uploading\n",
      "COMET INFO: Still uploading\n",
      "COMET INFO: Still uploading\n",
      "COMET INFO: Still uploading\n",
      "COMET INFO: Still uploading\n",
      "COMET INFO: Still uploading\n",
      "COMET INFO: Still uploading\n",
      "COMET INFO: Still uploading\n",
      "COMET INFO: Still uploading\n",
      "COMET INFO: Still uploading\n",
      "COMET INFO: Still uploading\n",
      "COMET INFO: Still uploading\n",
      "COMET INFO: Still uploading\n",
      "COMET INFO: Still uploading\n",
      "COMET INFO: Still uploading\n",
      "COMET INFO: Still uploading\n",
      "COMET INFO: Still uploading\n",
      "COMET INFO: Still uploading\n",
      "COMET INFO: Still uploading\n",
      "COMET INFO: Still uploading\n",
      "COMET INFO: Still uploading\n",
      "COMET INFO: Still uploading\n",
      "COMET INFO: Still uploading\n",
      "COMET INFO: Still uploading\n",
      "COMET ERROR: Comet failed to send all the data back (0 messages and 2 uploads)\n",
      "COMET WARNING: Failed to log run in comet.ml\n"
     ]
    },
    {
     "name": "stdout",
     "output_type": "stream",
     "text": [
      "Training finished.\n"
     ]
    }
   ],
   "source": [
    "#%%\n",
    "teacher = Teacher(env, 1, Preprocessor(False))\n",
    "\n",
    "lr_actor = 4e-4\n",
    "lr_critic = 4e-3\n",
    "\n",
    "config = Config(buffer_size=4*steps_per_ep*threads_no, batch_size=32, gamma=0.7, tau=1e-3, lr_actor=lr_actor, lr_critic=lr_critic, update_every=1)\n",
    "agent = Agent(history_length, action_size=1, config=config, actor_layers=[8, 128, 16], critic_layers=[8,128,16])\n",
    "\n",
    "# Test the model\n",
    "hyperparams = {**config.__dict__, **sim_args}\n",
    "tags = [\"Rew: normalized speed\",\n",
    "        f\"{Agent.NAME}\",\n",
    "        sim_args['scenario'],\n",
    "        f\"Actor: {lr_actor}\",\n",
    "        f\"Critic: {lr_critic}\",\n",
    "        f\"Instances: {threads_no}\",\n",
    "        f\"Station count: {sim_args['nWifi']}\",\n",
    "        *[f\"{key}: {sim_args[key]}\" for key in list(sim_args)[:3]]]\n",
    "# agent.save()\n",
    "logger = teacher.train(agent, EPISODE_COUNT,\n",
    "                        simTime=simTime,\n",
    "                        stepTime=stepTime,\n",
    "                        history_length=history_length,\n",
    "                        send_logs=True,\n",
    "                        experimental=True,\n",
    "                        tags=tags,\n",
    "                        parameters=hyperparams)\n",
    "# logger = teacher.eval(agent,\n",
    "#                         simTime=simTime,\n",
    "#                         stepTime=stepTime,\n",
    "#                         history_length=history_length,\n",
    "#                         tags=tags,\n",
    "#                         parameters=hyperparams)\n",
    "# agent.save()"
   ]
  },
  {
   "cell_type": "code",
   "execution_count": null,
   "id": "2d47584b",
   "metadata": {},
   "outputs": [],
   "source": []
  },
  {
   "cell_type": "markdown",
   "id": "9f384e8d",
   "metadata": {},
   "source": [
    "# Execution num3:"
   ]
  },
  {
   "cell_type": "code",
   "execution_count": 4,
   "id": "2f1619ab",
   "metadata": {},
   "outputs": [],
   "source": [
    "#%%\n",
    "from ns3gym import ns3env\n",
    "from comet_ml import Experiment, Optimizer\n",
    "import tqdm\n",
    "import subprocess\n",
    "from collections import deque\n",
    "import numpy as np\n",
    "\n",
    "from agents.ddpg.agent import Agent, Config\n",
    "from agents.ddpg.model import Actor\n",
    "from agents.teacher import Teacher, EnvWrapper\n",
    "from preprocessor import Preprocessor"
   ]
  },
  {
   "cell_type": "code",
   "execution_count": 5,
   "id": "48d0cb6b",
   "metadata": {},
   "outputs": [
    {
     "name": "stdout",
     "output_type": "stream",
     "text": [
      "Steps per episode: 6000\n",
      "Waiting for simulation script to connect on port: tcp://localhost:35073\n",
      "Please start proper ns-3 simulation script using ./waf --run \"...\"\n",
      "Waf: Entering directory `/home/samuel/ns-allinone-3.29/ns-3.29/build'\n",
      "Waf: Leaving directory `/home/samuel/ns-allinone-3.29/ns-3.29/build'\n",
      "Build commands will be stored in build/compile_commands.json\n",
      "'build' finished successfully (2.022s)\n"
     ]
    },
    {
     "name": "stderr",
     "output_type": "stream",
     "text": [
      "Ns3Env parameters:\n",
      "--nWifi: 30\n",
      "--simulationTime: 60\n",
      "--openGymPort: 35073\n",
      "--envStepTime: 0.01\n",
      "--seed: 42\n",
      "--agentType: continuous\n",
      "--scenario: convergence\n",
      "--dryRun: 0\n",
      "Simulation started\n"
     ]
    },
    {
     "name": "stdout",
     "output_type": "stream",
     "text": [
      "Observation space shape: (1, 300)\n",
      "Action space shape: (1, 1)\n"
     ]
    },
    {
     "name": "stderr",
     "output_type": "stream",
     "text": [
      "Simulation process id: 133153 (parent (waf shell) id: 133138)\n",
      "Waiting for Python process to connect on port: tcp://localhost:35073\n",
      "Please start proper Python Gym Agent\n"
     ]
    }
   ],
   "source": [
    "#%%\n",
    "scenario = \"convergence\"\n",
    "\n",
    "simTime = 60 # seconds\n",
    "stepTime = 0.01  # seconds\n",
    "history_length = 300\n",
    "\n",
    "EPISODE_COUNT = 15\n",
    "steps_per_ep = int(simTime/stepTime)\n",
    "\n",
    "sim_args = {\n",
    "    \"simTime\": simTime,\n",
    "    \"envStepTime\": stepTime,\n",
    "    \"historyLength\": history_length,\n",
    "    \"agentType\": Agent.TYPE,\n",
    "    \"scenario\": \"convergence\",\n",
    "    \"nWifi\": 30,\n",
    "}\n",
    "\n",
    "print(\"Steps per episode:\", steps_per_ep)\n",
    "\n",
    "threads_no = 1\n",
    "env = EnvWrapper(threads_no, **sim_args)\n",
    "\n",
    "#%%\n",
    "env.reset()\n",
    "ob_space = env.observation_space\n",
    "ac_space = env.action_space\n",
    "\n",
    "print(\"Observation space shape:\", ob_space)\n",
    "print(\"Action space shape:\", ac_space)\n",
    "\n",
    "assert ob_space is not None"
   ]
  },
  {
   "cell_type": "code",
   "execution_count": 6,
   "id": "062f74d9",
   "metadata": {},
   "outputs": [
    {
     "name": "stdout",
     "output_type": "stream",
     "text": [
      "CuDNN version: 7102\n",
      "cpu\n"
     ]
    },
    {
     "name": "stderr",
     "output_type": "stream",
     "text": [
      "COMET INFO: Experiment is live on comet.ml https://www.comet.com/sheila-janota/rl-in-wifi-with-queue-level/e8c9e5b389974314bf89369f59321fe5\n",
      "\n",
      "  0%|          | 1/6300 [00:00<19:00,  5.52it/s, curr_speed=0.00 Mbps, mb_sent=0.00 Mb]"
     ]
    },
    {
     "name": "stdout",
     "output_type": "stream",
     "text": [
      "0\n"
     ]
    },
    {
     "name": "stderr",
     "output_type": "stream",
     "text": [
      "  5%|▌         | 334/6300 [01:01<19:03,  5.22it/s, curr_speed=32.97 Mbps, mb_sent=10.88 Mb]"
     ]
    },
    {
     "name": "stdout",
     "output_type": "stream",
     "text": [
      "------- STARTED TRAINING -------\n"
     ]
    },
    {
     "name": "stderr",
     "output_type": "stream",
     "text": [
      "100%|██████████| 6300/6300 [3:01:05<00:00,  1.72s/it, curr_speed=31.23 Mbps, mb_sent=1856.25 Mb]  \n"
     ]
    },
    {
     "name": "stdout",
     "output_type": "stream",
     "text": [
      "Waiting for simulation script to connect on port: tcp://localhost:51098\n",
      "Please start proper ns-3 simulation script using ./waf --run \"...\"\n",
      "Waf: Entering directory `/home/samuel/ns-allinone-3.29/ns-3.29/build'\n",
      "Waf: Leaving directory `/home/samuel/ns-allinone-3.29/ns-3.29/build'\n",
      "Build commands will be stored in build/compile_commands.json\n",
      "'build' finished successfully (2.312s)\n"
     ]
    },
    {
     "name": "stderr",
     "output_type": "stream",
     "text": [
      "Ns3Env parameters:\n",
      "--nWifi: 30\n",
      "--simulationTime: 60\n",
      "--openGymPort: 51098\n",
      "--envStepTime: 0.01\n",
      "--seed: 42\n",
      "--agentType: continuous\n",
      "--scenario: convergence\n",
      "--dryRun: 0\n",
      "Simulation started\n",
      "Simulation process id: 168497 (parent (waf shell) id: 168478)\n",
      "Waiting for Python process to connect on port: tcp://localhost:51098\n",
      "Please start proper Python Gym Agent\n",
      "  0%|          | 0/6300 [00:00<?, ?it/s]"
     ]
    },
    {
     "name": "stdout",
     "output_type": "stream",
     "text": [
      "Sent 1856.25 Mb/s.\tMean speed: 30.94 Mb/s\tEpisode 1/15 finished\n",
      "\n",
      "1\n"
     ]
    },
    {
     "name": "stderr",
     "output_type": "stream",
     "text": [
      "100%|██████████| 6300/6300 [3:22:56<00:00,  1.93s/it, curr_speed=30.47 Mbps, mb_sent=1883.08 Mb]  \n"
     ]
    },
    {
     "name": "stdout",
     "output_type": "stream",
     "text": [
      "Waiting for simulation script to connect on port: tcp://localhost:43832\n",
      "Please start proper ns-3 simulation script using ./waf --run \"...\"\n",
      "Waf: Entering directory `/home/samuel/ns-allinone-3.29/ns-3.29/build'\n",
      "Waf: Leaving directory `/home/samuel/ns-allinone-3.29/ns-3.29/build'\n",
      "Build commands will be stored in build/compile_commands.json\n",
      "'build' finished successfully (2.248s)\n"
     ]
    },
    {
     "name": "stderr",
     "output_type": "stream",
     "text": [
      "Ns3Env parameters:\n",
      "--nWifi: 30\n",
      "--simulationTime: 60\n",
      "--openGymPort: 43832\n",
      "--envStepTime: 0.01\n",
      "--seed: 42\n",
      "--agentType: continuous\n",
      "--scenario: convergence\n",
      "--dryRun: 0\n",
      "Simulation started\n",
      "Simulation process id: 207221 (parent (waf shell) id: 207200)\n",
      "Waiting for Python process to connect on port: tcp://localhost:43832\n",
      "Please start proper Python Gym Agent\n",
      "  0%|          | 0/6300 [00:00<?, ?it/s]"
     ]
    },
    {
     "name": "stdout",
     "output_type": "stream",
     "text": [
      "Sent 1883.08 Mb/s.\tMean speed: 31.38 Mb/s\tEpisode 2/15 finished\n",
      "\n",
      "2\n"
     ]
    },
    {
     "name": "stderr",
     "output_type": "stream",
     "text": [
      "100%|██████████| 6300/6300 [3:23:09<00:00,  1.93s/it, curr_speed=33.14 Mbps, mb_sent=1958.24 Mb]  \n"
     ]
    },
    {
     "name": "stdout",
     "output_type": "stream",
     "text": [
      "Waiting for simulation script to connect on port: tcp://localhost:47517\n",
      "Please start proper ns-3 simulation script using ./waf --run \"...\"\n",
      "Waf: Entering directory `/home/samuel/ns-allinone-3.29/ns-3.29/build'\n",
      "Waf: Leaving directory `/home/samuel/ns-allinone-3.29/ns-3.29/build'\n",
      "Build commands will be stored in build/compile_commands.json\n",
      "'build' finished successfully (2.283s)\n"
     ]
    },
    {
     "name": "stderr",
     "output_type": "stream",
     "text": [
      "Ns3Env parameters:\n",
      "--nWifi: 30\n",
      "--simulationTime: 60\n",
      "--openGymPort: 47517\n",
      "--envStepTime: 0.01\n",
      "--seed: 42\n",
      "--agentType: continuous\n",
      "--scenario: convergence\n",
      "--dryRun: 0\n",
      "Simulation started\n",
      "Simulation process id: 246104 (parent (waf shell) id: 246083)\n",
      "Waiting for Python process to connect on port: tcp://localhost:47517\n",
      "Please start proper Python Gym Agent\n",
      "  0%|          | 0/6300 [00:00<?, ?it/s]"
     ]
    },
    {
     "name": "stdout",
     "output_type": "stream",
     "text": [
      "Sent 1958.24 Mb/s.\tMean speed: 32.64 Mb/s\tEpisode 3/15 finished\n",
      "\n",
      "3\n"
     ]
    },
    {
     "name": "stderr",
     "output_type": "stream",
     "text": [
      "100%|██████████| 6300/6300 [3:22:20<00:00,  1.93s/it, curr_speed=35.60 Mbps, mb_sent=2050.54 Mb]  \n"
     ]
    },
    {
     "name": "stdout",
     "output_type": "stream",
     "text": [
      "Waiting for simulation script to connect on port: tcp://localhost:30136\n",
      "Please start proper ns-3 simulation script using ./waf --run \"...\"\n",
      "Waf: Entering directory `/home/samuel/ns-allinone-3.29/ns-3.29/build'\n",
      "Waf: Leaving directory `/home/samuel/ns-allinone-3.29/ns-3.29/build'\n",
      "Build commands will be stored in build/compile_commands.json\n",
      "'build' finished successfully (2.280s)\n"
     ]
    },
    {
     "name": "stderr",
     "output_type": "stream",
     "text": [
      "Ns3Env parameters:\n",
      "--nWifi: 30\n",
      "--simulationTime: 60\n",
      "--openGymPort: 30136\n",
      "--envStepTime: 0.01\n",
      "--seed: 42\n",
      "--agentType: continuous\n",
      "--scenario: convergence\n",
      "--dryRun: 0\n",
      "Simulation started\n",
      "Simulation process id: 284681 (parent (waf shell) id: 284662)\n",
      "Waiting for Python process to connect on port: tcp://localhost:30136\n",
      "Please start proper Python Gym Agent\n",
      "  0%|          | 0/6300 [00:00<?, ?it/s]"
     ]
    },
    {
     "name": "stdout",
     "output_type": "stream",
     "text": [
      "Sent 2050.54 Mb/s.\tMean speed: 34.18 Mb/s\tEpisode 4/15 finished\n",
      "\n",
      "4\n"
     ]
    },
    {
     "name": "stderr",
     "output_type": "stream",
     "text": [
      "  5%|▍         | 304/6300 [01:44<2:07:07,  1.27s/it, curr_speed=37.98 Mbps, mb_sent=1.14 Mb]"
     ]
    },
    {
     "name": "stdout",
     "output_type": "stream",
     "text": [
      "------- MEMORY BUFFER FILLED -------\n"
     ]
    },
    {
     "name": "stderr",
     "output_type": "stream",
     "text": [
      "100%|██████████| 6300/6300 [3:22:42<00:00,  1.93s/it, curr_speed=33.62 Mbps, mb_sent=2143.19 Mb]  \n"
     ]
    },
    {
     "name": "stdout",
     "output_type": "stream",
     "text": [
      "Waiting for simulation script to connect on port: tcp://localhost:45719\n",
      "Please start proper ns-3 simulation script using ./waf --run \"...\"\n",
      "Waf: Entering directory `/home/samuel/ns-allinone-3.29/ns-3.29/build'\n",
      "Waf: Leaving directory `/home/samuel/ns-allinone-3.29/ns-3.29/build'\n",
      "Build commands will be stored in build/compile_commands.json\n",
      "'build' finished successfully (2.226s)\n"
     ]
    },
    {
     "name": "stderr",
     "output_type": "stream",
     "text": [
      "Ns3Env parameters:\n",
      "--nWifi: 30\n",
      "--simulationTime: 60\n",
      "--openGymPort: 45719\n",
      "--envStepTime: 0.01\n",
      "--seed: 42\n",
      "--agentType: continuous\n",
      "--scenario: convergence\n",
      "--dryRun: 0\n",
      "Simulation started\n",
      "Simulation process id: 323430 (parent (waf shell) id: 323407)\n",
      "Waiting for Python process to connect on port: tcp://localhost:45719\n",
      "Please start proper Python Gym Agent\n",
      "  0%|          | 0/6300 [00:00<?, ?it/s]"
     ]
    },
    {
     "name": "stdout",
     "output_type": "stream",
     "text": [
      "Sent 2143.19 Mb/s.\tMean speed: 35.72 Mb/s\tEpisode 5/15 finished\n",
      "\n",
      "5\n"
     ]
    },
    {
     "name": "stderr",
     "output_type": "stream",
     "text": [
      "100%|██████████| 6300/6300 [3:22:08<00:00,  1.93s/it, curr_speed=36.20 Mbps, mb_sent=2215.69 Mb]  \n"
     ]
    },
    {
     "name": "stdout",
     "output_type": "stream",
     "text": [
      "Waiting for simulation script to connect on port: tcp://localhost:28316\n",
      "Please start proper ns-3 simulation script using ./waf --run \"...\"\n",
      "Waf: Entering directory `/home/samuel/ns-allinone-3.29/ns-3.29/build'\n",
      "Waf: Leaving directory `/home/samuel/ns-allinone-3.29/ns-3.29/build'\n",
      "Build commands will be stored in build/compile_commands.json\n",
      "'build' finished successfully (2.237s)\n"
     ]
    },
    {
     "name": "stderr",
     "output_type": "stream",
     "text": [
      "Ns3Env parameters:\n",
      "--nWifi: 30\n",
      "--simulationTime: 60\n",
      "--openGymPort: 28316\n",
      "--envStepTime: 0.01\n",
      "--seed: 42\n",
      "--agentType: continuous\n",
      "--scenario: convergence\n",
      "--dryRun: 0\n",
      "Simulation started\n",
      "Simulation process id: 362127 (parent (waf shell) id: 362108)\n",
      "Waiting for Python process to connect on port: tcp://localhost:28316\n",
      "Please start proper Python Gym Agent\n",
      "  0%|          | 0/6300 [00:00<?, ?it/s]"
     ]
    },
    {
     "name": "stdout",
     "output_type": "stream",
     "text": [
      "Sent 2215.69 Mb/s.\tMean speed: 36.93 Mb/s\tEpisode 6/15 finished\n",
      "\n",
      "6\n"
     ]
    },
    {
     "name": "stderr",
     "output_type": "stream",
     "text": [
      "100%|██████████| 6300/6300 [3:10:44<00:00,  1.82s/it, curr_speed=36.21 Mbps, mb_sent=2233.52 Mb]  \n"
     ]
    },
    {
     "name": "stdout",
     "output_type": "stream",
     "text": [
      "Waiting for simulation script to connect on port: tcp://localhost:50426\n",
      "Please start proper ns-3 simulation script using ./waf --run \"...\"\n",
      "Waf: Entering directory `/home/samuel/ns-allinone-3.29/ns-3.29/build'\n",
      "Waf: Leaving directory `/home/samuel/ns-allinone-3.29/ns-3.29/build'\n",
      "Build commands will be stored in build/compile_commands.json\n",
      "'build' finished successfully (2.278s)\n"
     ]
    },
    {
     "name": "stderr",
     "output_type": "stream",
     "text": [
      "Ns3Env parameters:\n",
      "--nWifi: 30\n",
      "--simulationTime: 60\n",
      "--openGymPort: 50426\n",
      "--envStepTime: 0.01\n",
      "--seed: 42\n",
      "--agentType: continuous\n",
      "--scenario: convergence\n",
      "--dryRun: 0\n",
      "Simulation started\n",
      "Simulation process id: 400894 (parent (waf shell) id: 400871)\n",
      "Waiting for Python process to connect on port: tcp://localhost:50426\n",
      "Please start proper Python Gym Agent\n",
      "  0%|          | 0/6300 [00:00<?, ?it/s]"
     ]
    },
    {
     "name": "stdout",
     "output_type": "stream",
     "text": [
      "Sent 2233.52 Mb/s.\tMean speed: 37.23 Mb/s\tEpisode 7/15 finished\n",
      "\n",
      "7\n"
     ]
    },
    {
     "name": "stderr",
     "output_type": "stream",
     "text": [
      " 73%|███████▎  | 4584/6300 [2:12:10<58:55,  2.06s/it, curr_speed=37.12 Mbps, mb_sent=1611.03 Mb]  COMET ERROR: File could not be uploaded\n",
      " 73%|███████▎  | 4587/6300 [2:12:18<55:51,  1.96s/it, curr_speed=37.12 Mbps, mb_sent=1612.50 Mb]COMET ERROR: File could not be uploaded\n",
      " 73%|███████▎  | 4591/6300 [2:12:25<59:43,  2.10s/it, curr_speed=37.09 Mbps, mb_sent=1613.61 Mb]COMET ERROR: File could not be uploaded\n",
      " 73%|███████▎  | 4592/6300 [2:12:27<1:02:11,  2.18s/it, curr_speed=37.10 Mbps, mb_sent=1613.97 Mb]COMET ERROR: File could not be uploaded\n",
      " 73%|███████▎  | 4594/6300 [2:12:31<59:39,  2.10s/it, curr_speed=37.16 Mbps, mb_sent=1614.75 Mb]  COMET ERROR: File could not be uploaded\n",
      " 73%|███████▎  | 4596/6300 [2:12:35<55:58,  1.97s/it, curr_speed=37.18 Mbps, mb_sent=1615.55 Mb]COMET ERROR: File could not be uploaded\n",
      " 73%|███████▎  | 4604/6300 [2:12:51<54:21,  1.92s/it, curr_speed=37.13 Mbps, mb_sent=1618.46 Mb]  COMET ERROR: File could not be uploaded\n",
      " 73%|███████▎  | 4607/6300 [2:12:58<58:19,  2.07s/it, curr_speed=37.00 Mbps, mb_sent=1619.44 Mb]COMET ERROR: File could not be uploaded\n",
      " 73%|███████▎  | 4609/6300 [2:13:02<57:59,  2.06s/it, curr_speed=36.94 Mbps, mb_sent=1620.12 Mb]COMET ERROR: File could not be uploaded\n",
      " 73%|███████▎  | 4621/6300 [2:13:26<55:30,  1.98s/it, curr_speed=36.94 Mbps, mb_sent=1624.47 Mb]  COMET ERROR: File could not be uploaded\n",
      " 73%|███████▎  | 4627/6300 [2:13:40<1:07:14,  2.41s/it, curr_speed=36.90 Mbps, mb_sent=1626.66 Mb]COMET ERROR: File could not be uploaded\n",
      " 74%|███████▎  | 4635/6300 [2:14:00<1:07:54,  2.45s/it, curr_speed=36.91 Mbps, mb_sent=1629.68 Mb]COMET ERROR: File could not be uploaded\n",
      " 74%|███████▎  | 4638/6300 [2:14:06<59:37,  2.15s/it, curr_speed=36.91 Mbps, mb_sent=1630.79 Mb]  COMET ERROR: File could not be uploaded\n",
      " 74%|███████▎  | 4640/6300 [2:14:10<55:19,  2.00s/it, curr_speed=36.87 Mbps, mb_sent=1631.52 Mb]COMET ERROR: File could not be uploaded\n",
      "100%|██████████| 6300/6300 [3:10:39<00:00,  1.82s/it, curr_speed=36.83 Mbps, mb_sent=2251.02 Mb]  \n"
     ]
    },
    {
     "name": "stdout",
     "output_type": "stream",
     "text": [
      "Waiting for simulation script to connect on port: tcp://localhost:49100\n",
      "Please start proper ns-3 simulation script using ./waf --run \"...\"\n",
      "Waf: Entering directory `/home/samuel/ns-allinone-3.29/ns-3.29/build'\n",
      "Waf: Leaving directory `/home/samuel/ns-allinone-3.29/ns-3.29/build'\n",
      "Build commands will be stored in build/compile_commands.json\n",
      "'build' finished successfully (2.301s)\n"
     ]
    },
    {
     "name": "stderr",
     "output_type": "stream",
     "text": [
      "Ns3Env parameters:\n",
      "--nWifi: 30\n",
      "--simulationTime: 60\n",
      "--openGymPort: 49100\n",
      "--envStepTime: 0.01\n",
      "--seed: 42\n",
      "--agentType: continuous\n",
      "--scenario: convergence\n",
      "--dryRun: 0\n",
      "Simulation started\n",
      "Simulation process id: 444759 (parent (waf shell) id: 444737)\n",
      "Waiting for Python process to connect on port: tcp://localhost:49100\n",
      "Please start proper Python Gym Agent\n",
      "  0%|          | 0/6300 [00:00<?, ?it/s]"
     ]
    },
    {
     "name": "stdout",
     "output_type": "stream",
     "text": [
      "Sent 2251.02 Mb/s.\tMean speed: 37.52 Mb/s\tEpisode 8/15 finished\n",
      "\n",
      "8\n"
     ]
    },
    {
     "name": "stderr",
     "output_type": "stream",
     "text": [
      "100%|██████████| 6300/6300 [3:10:57<00:00,  1.82s/it, curr_speed=37.73 Mbps, mb_sent=2266.11 Mb]  \n"
     ]
    },
    {
     "name": "stdout",
     "output_type": "stream",
     "text": [
      "Waiting for simulation script to connect on port: tcp://localhost:29534\n",
      "Please start proper ns-3 simulation script using ./waf --run \"...\"\n",
      "Waf: Entering directory `/home/samuel/ns-allinone-3.29/ns-3.29/build'\n",
      "Waf: Leaving directory `/home/samuel/ns-allinone-3.29/ns-3.29/build'\n",
      "Build commands will be stored in build/compile_commands.json\n",
      "'build' finished successfully (2.258s)\n"
     ]
    },
    {
     "name": "stderr",
     "output_type": "stream",
     "text": [
      "Ns3Env parameters:\n",
      "--nWifi: 30\n",
      "--simulationTime: 60\n",
      "--openGymPort: 29534\n",
      "--envStepTime: 0.01\n",
      "--seed: 42\n",
      "--agentType: continuous\n",
      "--scenario: convergence\n",
      "--dryRun: 0\n",
      "Simulation started\n",
      "Simulation process id: 487652 (parent (waf shell) id: 487631)\n",
      "Waiting for Python process to connect on port: tcp://localhost:29534\n",
      "Please start proper Python Gym Agent\n",
      "  0%|          | 0/6300 [00:00<?, ?it/s]"
     ]
    },
    {
     "name": "stdout",
     "output_type": "stream",
     "text": [
      "Sent 2266.11 Mb/s.\tMean speed: 37.77 Mb/s\tEpisode 9/15 finished\n",
      "\n",
      "9\n"
     ]
    },
    {
     "name": "stderr",
     "output_type": "stream",
     "text": [
      "100%|██████████| 6300/6300 [3:10:03<00:00,  1.81s/it, curr_speed=37.89 Mbps, mb_sent=2278.73 Mb]  \n"
     ]
    },
    {
     "name": "stdout",
     "output_type": "stream",
     "text": [
      "Waiting for simulation script to connect on port: tcp://localhost:16297\n",
      "Please start proper ns-3 simulation script using ./waf --run \"...\"\n",
      "Waf: Entering directory `/home/samuel/ns-allinone-3.29/ns-3.29/build'\n",
      "Waf: Leaving directory `/home/samuel/ns-allinone-3.29/ns-3.29/build'\n",
      "Build commands will be stored in build/compile_commands.json\n",
      "'build' finished successfully (2.367s)\n"
     ]
    },
    {
     "name": "stderr",
     "output_type": "stream",
     "text": [
      "Ns3Env parameters:\n",
      "--nWifi: 30\n",
      "--simulationTime: 60\n",
      "--openGymPort: 16297\n",
      "--envStepTime: 0.01\n",
      "--seed: 42\n",
      "--agentType: continuous\n",
      "--scenario: convergence\n",
      "--dryRun: 0\n",
      "Simulation started\n",
      "Simulation process id: 530711 (parent (waf shell) id: 530690)\n",
      "Waiting for Python process to connect on port: tcp://localhost:16297\n",
      "Please start proper Python Gym Agent\n",
      "  0%|          | 0/6300 [00:00<?, ?it/s]"
     ]
    },
    {
     "name": "stdout",
     "output_type": "stream",
     "text": [
      "Sent 2278.73 Mb/s.\tMean speed: 37.98 Mb/s\tEpisode 10/15 finished\n",
      "\n",
      "10\n"
     ]
    },
    {
     "name": "stderr",
     "output_type": "stream",
     "text": [
      "100%|██████████| 6300/6300 [3:10:55<00:00,  1.82s/it, curr_speed=38.11 Mbps, mb_sent=2278.23 Mb]  \n"
     ]
    },
    {
     "name": "stdout",
     "output_type": "stream",
     "text": [
      "Waiting for simulation script to connect on port: tcp://localhost:44766\n",
      "Please start proper ns-3 simulation script using ./waf --run \"...\"\n",
      "Waf: Entering directory `/home/samuel/ns-allinone-3.29/ns-3.29/build'\n",
      "Waf: Leaving directory `/home/samuel/ns-allinone-3.29/ns-3.29/build'\n",
      "Build commands will be stored in build/compile_commands.json\n",
      "'build' finished successfully (2.301s)\n"
     ]
    },
    {
     "name": "stderr",
     "output_type": "stream",
     "text": [
      "Ns3Env parameters:\n",
      "--nWifi: 30\n",
      "--simulationTime: 60\n",
      "--openGymPort: 44766\n",
      "--envStepTime: 0.01\n",
      "--seed: 42\n",
      "--agentType: continuous\n",
      "--scenario: convergence\n",
      "--dryRun: 0\n",
      "Simulation started\n",
      "Simulation process id: 573551 (parent (waf shell) id: 573531)\n",
      "Waiting for Python process to connect on port: tcp://localhost:44766\n",
      "Please start proper Python Gym Agent\n",
      "  0%|          | 0/6300 [00:00<?, ?it/s]"
     ]
    },
    {
     "name": "stdout",
     "output_type": "stream",
     "text": [
      "Sent 2278.23 Mb/s.\tMean speed: 37.97 Mb/s\tEpisode 11/15 finished\n",
      "\n",
      "11\n"
     ]
    },
    {
     "name": "stderr",
     "output_type": "stream",
     "text": [
      "100%|██████████| 6300/6300 [2:30:13<00:00,  1.43s/it, curr_speed=37.65 Mbps, mb_sent=2280.51 Mb]  \n"
     ]
    },
    {
     "name": "stdout",
     "output_type": "stream",
     "text": [
      "Waiting for simulation script to connect on port: tcp://localhost:18728\n",
      "Please start proper ns-3 simulation script using ./waf --run \"...\"\n",
      "Waf: Entering directory `/home/samuel/ns-allinone-3.29/ns-3.29/build'\n",
      "Waf: Leaving directory `/home/samuel/ns-allinone-3.29/ns-3.29/build'\n",
      "Build commands will be stored in build/compile_commands.json\n",
      "'build' finished successfully (2.198s)\n"
     ]
    },
    {
     "name": "stderr",
     "output_type": "stream",
     "text": [
      "Ns3Env parameters:\n",
      "--nWifi: 30\n",
      "--simulationTime: 60\n",
      "--openGymPort: 18728\n",
      "--envStepTime: 0.01\n",
      "--seed: 42\n",
      "--agentType: continuous\n",
      "--scenario: convergence\n",
      "--dryRun: 0\n",
      "Simulation started\n",
      "Simulation process id: 616429 (parent (waf shell) id: 616402)\n",
      "Waiting for Python process to connect on port: tcp://localhost:18728\n",
      "Please start proper Python Gym Agent\n",
      "  0%|          | 0/6300 [00:00<?, ?it/s]"
     ]
    },
    {
     "name": "stdout",
     "output_type": "stream",
     "text": [
      "Sent 2280.51 Mb/s.\tMean speed: 38.01 Mb/s\tEpisode 12/15 finished\n",
      "\n",
      "12\n",
      "Turning off noise\n"
     ]
    },
    {
     "name": "stderr",
     "output_type": "stream",
     "text": [
      "100%|██████████| 6300/6300 [1:07:04<00:00,  1.57it/s, curr_speed=37.75 Mbps, mb_sent=2285.14 Mb]\n"
     ]
    },
    {
     "name": "stdout",
     "output_type": "stream",
     "text": [
      "Waiting for simulation script to connect on port: tcp://localhost:46768\n",
      "Please start proper ns-3 simulation script using ./waf --run \"...\"\n",
      "Waf: Entering directory `/home/samuel/ns-allinone-3.29/ns-3.29/build'\n",
      "Waf: Leaving directory `/home/samuel/ns-allinone-3.29/ns-3.29/build'\n",
      "Build commands will be stored in build/compile_commands.json\n",
      "'build' finished successfully (2.239s)\n"
     ]
    },
    {
     "name": "stderr",
     "output_type": "stream",
     "text": [
      "Ns3Env parameters:\n",
      "--nWifi: 30\n",
      "--simulationTime: 60\n",
      "--openGymPort: 46768\n",
      "--envStepTime: 0.01\n",
      "--seed: 42\n",
      "--agentType: continuous\n",
      "--scenario: convergence\n",
      "--dryRun: 0\n",
      "Simulation started\n",
      "Simulation process id: 645427 (parent (waf shell) id: 645407)\n",
      "Waiting for Python process to connect on port: tcp://localhost:46768\n",
      "Please start proper Python Gym Agent\n",
      "  0%|          | 1/6300 [00:00<18:27,  5.69it/s, curr_speed=0.00 Mbps, mb_sent=0.00 Mb]"
     ]
    },
    {
     "name": "stdout",
     "output_type": "stream",
     "text": [
      "Sent 2285.14 Mb/s.\tMean speed: 38.09 Mb/s\tEpisode 13/15 finished\n",
      "\n",
      "13\n",
      "Turning off noise\n"
     ]
    },
    {
     "name": "stderr",
     "output_type": "stream",
     "text": [
      "100%|██████████| 6300/6300 [43:23<00:00,  2.42it/s, curr_speed=38.03 Mbps, mb_sent=2282.80 Mb]\n"
     ]
    },
    {
     "name": "stdout",
     "output_type": "stream",
     "text": [
      "Waiting for simulation script to connect on port: tcp://localhost:30704\n",
      "Please start proper ns-3 simulation script using ./waf --run \"...\"\n",
      "Waf: Entering directory `/home/samuel/ns-allinone-3.29/ns-3.29/build'\n",
      "Waf: Leaving directory `/home/samuel/ns-allinone-3.29/ns-3.29/build'\n",
      "Build commands will be stored in build/compile_commands.json\n",
      "'build' finished successfully (2.065s)\n"
     ]
    },
    {
     "name": "stderr",
     "output_type": "stream",
     "text": [
      "Ns3Env parameters:\n",
      "--nWifi: 30\n",
      "--simulationTime: 60\n",
      "--openGymPort: 30704\n",
      "--envStepTime: 0.01\n",
      "--seed: 42\n",
      "--agentType: continuous\n",
      "--scenario: convergence\n",
      "--dryRun: 0\n",
      "Simulation started\n",
      "Simulation process id: 659830 (parent (waf shell) id: 659800)\n",
      "Waiting for Python process to connect on port: tcp://localhost:30704\n",
      "Please start proper Python Gym Agent\n",
      "  0%|          | 1/6300 [00:00<19:07,  5.49it/s, curr_speed=0.00 Mbps, mb_sent=0.00 Mb]"
     ]
    },
    {
     "name": "stdout",
     "output_type": "stream",
     "text": [
      "Sent 2282.80 Mb/s.\tMean speed: 38.05 Mb/s\tEpisode 14/15 finished\n",
      "\n",
      "14\n",
      "Turning off noise\n"
     ]
    },
    {
     "name": "stderr",
     "output_type": "stream",
     "text": [
      "100%|██████████| 6300/6300 [56:16<00:00,  1.87it/s, curr_speed=37.86 Mbps, mb_sent=2281.01 Mb]\n"
     ]
    },
    {
     "name": "stdout",
     "output_type": "stream",
     "text": [
      "Waiting for simulation script to connect on port: tcp://localhost:14312\n",
      "Please start proper ns-3 simulation script using ./waf --run \"...\"\n",
      "Waf: Entering directory `/home/samuel/ns-allinone-3.29/ns-3.29/build'\n",
      "Waf: Leaving directory `/home/samuel/ns-allinone-3.29/ns-3.29/build'\n",
      "Build commands will be stored in build/compile_commands.json\n",
      "'build' finished successfully (2.286s)\n"
     ]
    },
    {
     "name": "stderr",
     "output_type": "stream",
     "text": [
      "Ns3Env parameters:\n",
      "--nWifi: 30\n",
      "--simulationTime: 60\n",
      "--openGymPort: 14312\n",
      "--envStepTime: 0.01\n",
      "--seed: 42\n",
      "--agentType: continuous\n",
      "--scenario: convergence\n",
      "--dryRun: 0\n",
      "Simulation started\n",
      "Simulation process id: 681580 (parent (waf shell) id: 681560)\n",
      "Waiting for Python process to connect on port: tcp://localhost:14312\n",
      "Please start proper Python Gym Agent\n",
      "COMET INFO: ----------------------------\n",
      "COMET INFO: Comet.ml Experiment Summary:\n",
      "COMET INFO:   Data:\n",
      "COMET INFO:     url: https://www.comet.com/sheila-janota/rl-in-wifi-with-queue-level/e8c9e5b389974314bf89369f59321fe5\n",
      "COMET INFO:   Metrics [count] (min, max):\n",
      "COMET INFO:     Chosen CW [89985]           : (16.0, 1024.0)\n",
      "COMET INFO:     Cumulative reward [15]      : (2484.201171875, 3200.236328125)\n",
      "COMET INFO:     Current throughput [89985]  : (10.052499771118164, 49.38005828857422)\n",
      "COMET INFO:     Fairness index [89985]      : (0.039434000849723816, 0.9974300265312195)\n",
      "COMET INFO:     Megabytes sent [89985]      : (0.10052499920129776, 2285.1432189643383)\n",
      "COMET INFO:     Observation 0 [89985]       : (0.15737096332013606, 0.9649247050285339)\n",
      "COMET INFO:     Observation 1 [89985]       : (0.0, 0.011999494740546332)\n",
      "COMET INFO:     Per-ep reward [89985]       : (128.329345703125, 3200.236328125)\n",
      "COMET INFO:     Round megabytes sent [89985]: (0.022338999435305595, 11.80609130859375)\n",
      "COMET INFO:     Round reward [89985]        : (0.02978515625, 0.92333984375)\n",
      "COMET INFO:     Speed [15]                  : (30.937471164638797, 38.085720316072305)\n",
      "COMET INFO:     Station count [89985]       : (5.0, 30.0)\n",
      "COMET INFO:     actor_loss [89985]          : (-1.698485255241394, 0.0)\n",
      "COMET INFO:     critic_loss [89985]         : (0.0, 5.581624507904053)\n",
      "COMET INFO:     loss [33578]                : (-1.698485255241394, 0.7675565481185913)\n",
      "COMET INFO:   Uploads:\n",
      "COMET INFO:     histogram3d: 89985\n",
      "COMET INFO: ----------------------------\n"
     ]
    },
    {
     "name": "stdout",
     "output_type": "stream",
     "text": [
      "Sent 2281.01 Mb/s.\tMean speed: 38.02 Mb/s\tEpisode 15/15 finished\n",
      "\n"
     ]
    },
    {
     "name": "stderr",
     "output_type": "stream",
     "text": [
      "COMET INFO: Uploading stats to Comet before program termination (may take several seconds)\n"
     ]
    },
    {
     "name": "stdout",
     "output_type": "stream",
     "text": [
      "Training finished.\n"
     ]
    }
   ],
   "source": [
    "#%%\n",
    "teacher = Teacher(env, 1, Preprocessor(False))\n",
    "\n",
    "lr_actor = 4e-4\n",
    "lr_critic = 4e-3\n",
    "\n",
    "config = Config(buffer_size=4*steps_per_ep*threads_no, batch_size=32, gamma=0.7, tau=1e-3, lr_actor=lr_actor, lr_critic=lr_critic, update_every=1)\n",
    "agent = Agent(history_length, action_size=1, config=config, actor_layers=[8, 128, 16], critic_layers=[8,128,16])\n",
    "\n",
    "# Test the model\n",
    "hyperparams = {**config.__dict__, **sim_args}\n",
    "tags = [\"Rew: normalized speed\",\n",
    "        f\"{Agent.NAME}\",\n",
    "        sim_args['scenario'],\n",
    "        f\"Actor: {lr_actor}\",\n",
    "        f\"Critic: {lr_critic}\",\n",
    "        f\"Instances: {threads_no}\",\n",
    "        f\"Station count: {sim_args['nWifi']}\",\n",
    "        *[f\"{key}: {sim_args[key]}\" for key in list(sim_args)[:3]]]\n",
    "# agent.save()\n",
    "logger = teacher.train(agent, EPISODE_COUNT,\n",
    "                        simTime=simTime,\n",
    "                        stepTime=stepTime,\n",
    "                        history_length=history_length,\n",
    "                        send_logs=True,\n",
    "                        experimental=True,\n",
    "                        tags=tags,\n",
    "                        parameters=hyperparams)\n",
    "# logger = teacher.eval(agent,\n",
    "#                         simTime=simTime,\n",
    "#                         stepTime=stepTime,\n",
    "#                         history_length=history_length,\n",
    "#                         tags=tags,\n",
    "#                         parameters=hyperparams)\n",
    "# agent.save()"
   ]
  },
  {
   "cell_type": "code",
   "execution_count": null,
   "id": "307af5b9",
   "metadata": {},
   "outputs": [],
   "source": []
  },
  {
   "cell_type": "markdown",
   "id": "2c32ab25",
   "metadata": {},
   "source": [
    "# Execution num4:"
   ]
  },
  {
   "cell_type": "code",
   "execution_count": 1,
   "id": "999bcd2d",
   "metadata": {},
   "outputs": [],
   "source": [
    "#%%\n",
    "from ns3gym import ns3env\n",
    "from comet_ml import Experiment, Optimizer\n",
    "import tqdm\n",
    "import subprocess\n",
    "from collections import deque\n",
    "import numpy as np\n",
    "\n",
    "from agents.ddpg.agent import Agent, Config\n",
    "from agents.ddpg.model import Actor\n",
    "from agents.teacher import Teacher, EnvWrapper\n",
    "from preprocessor import Preprocessor"
   ]
  },
  {
   "cell_type": "code",
   "execution_count": 2,
   "id": "e050f937",
   "metadata": {},
   "outputs": [
    {
     "name": "stdout",
     "output_type": "stream",
     "text": [
      "Steps per episode: 6000\n",
      "Waiting for simulation script to connect on port: tcp://localhost:44392\n",
      "Please start proper ns-3 simulation script using ./waf --run \"...\"\n",
      "Waf: Entering directory `/home/samuel/ns-allinone-3.29/ns-3.29/build'\n",
      "Waf: Leaving directory `/home/samuel/ns-allinone-3.29/ns-3.29/build'\n",
      "Build commands will be stored in build/compile_commands.json\n",
      "'build' finished successfully (2.299s)\n"
     ]
    },
    {
     "name": "stderr",
     "output_type": "stream",
     "text": [
      "Ns3Env parameters:\n",
      "--nWifi: 30\n",
      "--simulationTime: 60\n",
      "--openGymPort: 44392\n",
      "--envStepTime: 0.01\n",
      "--seed: 42\n",
      "--agentType: continuous\n",
      "--scenario: convergence\n",
      "--dryRun: 0\n",
      "Simulation started\n"
     ]
    },
    {
     "name": "stdout",
     "output_type": "stream",
     "text": [
      "Observation space shape: (1, 300)\n",
      "Action space shape: (1, 1)\n"
     ]
    },
    {
     "name": "stderr",
     "output_type": "stream",
     "text": [
      "Simulation process id: 808129 (parent (waf shell) id: 808101)\n",
      "Waiting for Python process to connect on port: tcp://localhost:44392\n",
      "Please start proper Python Gym Agent\n"
     ]
    }
   ],
   "source": [
    "#%%\n",
    "scenario = \"convergence\"\n",
    "\n",
    "simTime = 60 # seconds\n",
    "stepTime = 0.01  # seconds\n",
    "history_length = 300\n",
    "\n",
    "EPISODE_COUNT = 15\n",
    "steps_per_ep = int(simTime/stepTime)\n",
    "\n",
    "sim_args = {\n",
    "    \"simTime\": simTime,\n",
    "    \"envStepTime\": stepTime,\n",
    "    \"historyLength\": history_length,\n",
    "    \"agentType\": Agent.TYPE,\n",
    "    \"scenario\": \"convergence\",\n",
    "    \"nWifi\": 30,\n",
    "}\n",
    "\n",
    "print(\"Steps per episode:\", steps_per_ep)\n",
    "\n",
    "threads_no = 1\n",
    "env = EnvWrapper(threads_no, **sim_args)\n",
    "\n",
    "#%%\n",
    "env.reset()\n",
    "ob_space = env.observation_space\n",
    "ac_space = env.action_space\n",
    "\n",
    "print(\"Observation space shape:\", ob_space)\n",
    "print(\"Action space shape:\", ac_space)\n",
    "\n",
    "assert ob_space is not None"
   ]
  },
  {
   "cell_type": "code",
   "execution_count": 3,
   "id": "c334a128",
   "metadata": {},
   "outputs": [
    {
     "name": "stdout",
     "output_type": "stream",
     "text": [
      "CuDNN version: 7102\n",
      "cpu\n"
     ]
    },
    {
     "name": "stderr",
     "output_type": "stream",
     "text": [
      "COMET INFO: Experiment is live on comet.ml https://www.comet.com/sheila-janota/rl-in-wifi-with-queue-level/4e07802047ad4815a06db2d5c1d9a029\n",
      "\n",
      "  0%|          | 0/6300 [00:00<?, ?it/s]"
     ]
    },
    {
     "name": "stdout",
     "output_type": "stream",
     "text": [
      "0\n"
     ]
    },
    {
     "name": "stderr",
     "output_type": "stream",
     "text": [
      "  5%|▌         | 333/6300 [01:42<30:22,  3.27it/s, curr_speed=29.11 Mbps, mb_sent=9.32 Mb]"
     ]
    },
    {
     "name": "stdout",
     "output_type": "stream",
     "text": [
      "------- STARTED TRAINING -------\n"
     ]
    },
    {
     "name": "stderr",
     "output_type": "stream",
     "text": [
      "100%|██████████| 6300/6300 [3:06:57<00:00,  1.78s/it, curr_speed=31.93 Mbps, mb_sent=1839.25 Mb]  \n"
     ]
    },
    {
     "name": "stdout",
     "output_type": "stream",
     "text": [
      "Waiting for simulation script to connect on port: tcp://localhost:39229\n",
      "Please start proper ns-3 simulation script using ./waf --run \"...\"\n",
      "Waf: Entering directory `/home/samuel/ns-allinone-3.29/ns-3.29/build'\n",
      "Waf: Leaving directory `/home/samuel/ns-allinone-3.29/ns-3.29/build'\n",
      "Build commands will be stored in build/compile_commands.json\n",
      "'build' finished successfully (2.340s)\n"
     ]
    },
    {
     "name": "stderr",
     "output_type": "stream",
     "text": [
      "Ns3Env parameters:\n",
      "--nWifi: 30\n",
      "--simulationTime: 60\n",
      "--openGymPort: 39229\n",
      "--envStepTime: 0.01\n",
      "--seed: 42\n",
      "--agentType: continuous\n",
      "--scenario: convergence\n",
      "--dryRun: 0\n",
      "Simulation started\n",
      "Simulation process id: 855393 (parent (waf shell) id: 855369)\n",
      "Waiting for Python process to connect on port: tcp://localhost:39229\n",
      "Please start proper Python Gym Agent\n",
      "  0%|          | 0/6300 [00:00<?, ?it/s]"
     ]
    },
    {
     "name": "stdout",
     "output_type": "stream",
     "text": [
      "Sent 1839.25 Mb/s.\tMean speed: 30.65 Mb/s\tEpisode 1/15 finished\n",
      "\n",
      "1\n"
     ]
    },
    {
     "name": "stderr",
     "output_type": "stream",
     "text": [
      " 40%|███▉      | 2518/6300 [1:04:50<1:41:17,  1.61s/it, curr_speed=29.22 Mbps, mb_sent=716.15 Mb]COMET ERROR: File could not be uploaded\n",
      " 42%|████▏     | 2660/6300 [1:09:10<1:58:21,  1.95s/it, curr_speed=30.02 Mbps, mb_sent=758.87 Mb]COMET ERROR: File could not be uploaded\n",
      " 42%|████▏     | 2662/6300 [1:09:14<2:05:41,  2.07s/it, curr_speed=30.12 Mbps, mb_sent=759.49 Mb]COMET ERROR: File could not be uploaded\n",
      " 42%|████▏     | 2677/6300 [1:09:39<1:56:12,  1.92s/it, curr_speed=35.06 Mbps, mb_sent=769.10 Mb]COMET ERROR: File could not be uploaded\n",
      "COMET ERROR: File could not be uploaded\n",
      "COMET ERROR: File could not be uploaded\n",
      "COMET ERROR: File could not be uploaded\n",
      " 43%|████▎     | 2681/6300 [1:09:47<2:00:24,  2.00s/it, curr_speed=35.05 Mbps, mb_sent=770.11 Mb]COMET ERROR: File could not be uploaded\n",
      " 43%|████▎     | 2694/6300 [1:10:10<1:45:12,  1.75s/it, curr_speed=34.82 Mbps, mb_sent=773.80 Mb]COMET ERROR: File could not be uploaded\n",
      "COMET ERROR: File could not be uploaded\n",
      "COMET ERROR: File could not be uploaded\n",
      "COMET ERROR: File could not be uploaded\n",
      "COMET ERROR: File could not be uploaded\n",
      " 43%|████▎     | 2738/6300 [1:11:35<1:45:28,  1.78s/it, curr_speed=35.43 Mbps, mb_sent=787.84 Mb]COMET ERROR: File could not be uploaded\n",
      " 44%|████▎     | 2743/6300 [1:11:45<1:51:33,  1.88s/it, curr_speed=35.35 Mbps, mb_sent=789.21 Mb]COMET ERROR: File could not be uploaded\n",
      " 44%|████▎     | 2745/6300 [1:11:49<1:59:05,  2.01s/it, curr_speed=35.49 Mbps, mb_sent=789.85 Mb]COMET ERROR: File could not be uploaded\n",
      " 44%|████▎     | 2747/6300 [1:11:52<1:42:23,  1.73s/it, curr_speed=35.41 Mbps, mb_sent=790.43 Mb]COMET ERROR: File could not be uploaded\n",
      " 44%|████▎     | 2748/6300 [1:11:53<1:41:09,  1.71s/it, curr_speed=35.45 Mbps, mb_sent=790.72 Mb]COMET ERROR: File could not be uploaded\n",
      " 44%|████▎     | 2749/6300 [1:11:56<1:49:15,  1.85s/it, curr_speed=35.43 Mbps, mb_sent=791.02 Mb]COMET ERROR: File could not be uploaded\n",
      " 44%|████▎     | 2751/6300 [1:11:59<1:49:35,  1.85s/it, curr_speed=35.54 Mbps, mb_sent=791.71 Mb]COMET ERROR: File could not be uploaded\n",
      " 46%|████▌     | 2879/6300 [1:15:46<1:33:33,  1.64s/it, curr_speed=30.81 Mbps, mb_sent=831.17 Mb]COMET ERROR: File could not be uploaded\n",
      " 46%|████▌     | 2881/6300 [1:15:50<1:39:39,  1.75s/it, curr_speed=30.91 Mbps, mb_sent=831.79 Mb]COMET ERROR: File could not be uploaded\n",
      " 46%|████▌     | 2889/6300 [1:16:03<1:39:28,  1.75s/it, curr_speed=30.91 Mbps, mb_sent=834.32 Mb]COMET ERROR: File could not be uploaded\n",
      " 46%|████▌     | 2913/6300 [1:16:45<1:37:10,  1.72s/it, curr_speed=30.02 Mbps, mb_sent=841.23 Mb]COMET ERROR: File could not be uploaded\n",
      "COMET ERROR: File could not be uploaded\n",
      "COMET ERROR: File could not be uploaded\n",
      "COMET ERROR: File could not be uploaded\n",
      "COMET ERROR: File could not be uploaded\n",
      "COMET ERROR: File could not be uploaded\n",
      " 46%|████▋     | 2917/6300 [1:16:52<1:38:38,  1.75s/it, curr_speed=30.76 Mbps, mb_sent=842.71 Mb]COMET ERROR: File could not be uploaded\n",
      " 46%|████▋     | 2925/6300 [1:17:06<1:35:02,  1.69s/it, curr_speed=30.55 Mbps, mb_sent=845.25 Mb]COMET ERROR: File could not be uploaded\n",
      " 47%|████▋     | 2935/6300 [1:17:25<1:55:06,  2.05s/it, curr_speed=32.07 Mbps, mb_sent=849.79 Mb]COMET ERROR: File could not be uploaded\n",
      " 47%|████▋     | 2936/6300 [1:17:27<1:49:24,  1.95s/it, curr_speed=32.16 Mbps, mb_sent=850.14 Mb]COMET ERROR: File could not be uploaded\n",
      " 47%|████▋     | 2947/6300 [1:17:47<1:37:06,  1.74s/it, curr_speed=32.23 Mbps, mb_sent=853.71 Mb]COMET ERROR: File could not be uploaded\n",
      " 47%|████▋     | 2949/6300 [1:17:49<1:25:46,  1.54s/it, curr_speed=32.51 Mbps, mb_sent=854.45 Mb]COMET ERROR: File could not be uploaded\n",
      " 47%|████▋     | 2951/6300 [1:17:53<1:35:29,  1.71s/it, curr_speed=32.42 Mbps, mb_sent=855.02 Mb]COMET ERROR: File could not be uploaded\n",
      " 47%|████▋     | 2952/6300 [1:17:55<1:35:44,  1.72s/it, curr_speed=32.41 Mbps, mb_sent=855.34 Mb]COMET ERROR: File could not be uploaded\n",
      " 47%|████▋     | 2960/6300 [1:18:09<1:37:12,  1.75s/it, curr_speed=32.58 Mbps, mb_sent=858.05 Mb]COMET ERROR: File could not be uploaded\n",
      " 47%|████▋     | 2961/6300 [1:18:11<1:34:50,  1.70s/it, curr_speed=32.56 Mbps, mb_sent=858.29 Mb]COMET ERROR: File could not be uploaded\n",
      "100%|██████████| 6300/6300 [3:08:39<00:00,  1.80s/it, curr_speed=32.47 Mbps, mb_sent=1911.12 Mb]  \n"
     ]
    },
    {
     "name": "stdout",
     "output_type": "stream",
     "text": [
      "Waiting for simulation script to connect on port: tcp://localhost:22049\n",
      "Please start proper ns-3 simulation script using ./waf --run \"...\"\n",
      "Waf: Entering directory `/home/samuel/ns-allinone-3.29/ns-3.29/build'\n",
      "Waf: Leaving directory `/home/samuel/ns-allinone-3.29/ns-3.29/build'\n",
      "Build commands will be stored in build/compile_commands.json\n",
      "'build' finished successfully (2.367s)\n"
     ]
    },
    {
     "name": "stderr",
     "output_type": "stream",
     "text": [
      "Ns3Env parameters:\n",
      "--nWifi: 30\n",
      "--simulationTime: 60\n",
      "--openGymPort: 22049\n",
      "--envStepTime: 0.01\n",
      "--seed: 42\n",
      "--agentType: continuous\n",
      "--scenario: convergence\n",
      "--dryRun: 0\n",
      "Simulation started\n",
      "Simulation process id: 903363 (parent (waf shell) id: 903341)\n",
      "Waiting for Python process to connect on port: tcp://localhost:22049\n",
      "Please start proper Python Gym Agent\n",
      "  0%|          | 0/6300 [00:00<?, ?it/s]"
     ]
    },
    {
     "name": "stdout",
     "output_type": "stream",
     "text": [
      "Sent 1911.12 Mb/s.\tMean speed: 31.85 Mb/s\tEpisode 2/15 finished\n",
      "\n",
      "2\n"
     ]
    },
    {
     "name": "stderr",
     "output_type": "stream",
     "text": [
      "100%|██████████| 6300/6300 [3:09:11<00:00,  1.80s/it, curr_speed=31.49 Mbps, mb_sent=1950.71 Mb]  \n"
     ]
    },
    {
     "name": "stdout",
     "output_type": "stream",
     "text": [
      "Waiting for simulation script to connect on port: tcp://localhost:19586\n",
      "Please start proper ns-3 simulation script using ./waf --run \"...\"\n",
      "Waf: Entering directory `/home/samuel/ns-allinone-3.29/ns-3.29/build'\n",
      "Waf: Leaving directory `/home/samuel/ns-allinone-3.29/ns-3.29/build'\n",
      "Build commands will be stored in build/compile_commands.json\n",
      "'build' finished successfully (2.321s)\n"
     ]
    },
    {
     "name": "stderr",
     "output_type": "stream",
     "text": [
      "Ns3Env parameters:\n",
      "--nWifi: 30\n",
      "--simulationTime: 60\n",
      "--openGymPort: 19586\n",
      "--envStepTime: 0.01\n",
      "--seed: 42\n",
      "--agentType: continuous\n",
      "--scenario: convergence\n",
      "--dryRun: 0\n",
      "Simulation started\n",
      "Simulation process id: 950396 (parent (waf shell) id: 950376)\n",
      "Waiting for Python process to connect on port: tcp://localhost:19586\n",
      "Please start proper Python Gym Agent\n",
      "  0%|          | 0/6300 [00:00<?, ?it/s]"
     ]
    },
    {
     "name": "stdout",
     "output_type": "stream",
     "text": [
      "Sent 1950.71 Mb/s.\tMean speed: 32.51 Mb/s\tEpisode 3/15 finished\n",
      "\n",
      "3\n"
     ]
    },
    {
     "name": "stderr",
     "output_type": "stream",
     "text": [
      "100%|██████████| 6300/6300 [2:18:04<00:00,  1.31s/it, curr_speed=31.99 Mbps, mb_sent=2044.04 Mb]  \n"
     ]
    },
    {
     "name": "stdout",
     "output_type": "stream",
     "text": [
      "Waiting for simulation script to connect on port: tcp://localhost:33493\n",
      "Please start proper ns-3 simulation script using ./waf --run \"...\"\n",
      "Waf: Entering directory `/home/samuel/ns-allinone-3.29/ns-3.29/build'\n",
      "Waf: Leaving directory `/home/samuel/ns-allinone-3.29/ns-3.29/build'\n",
      "Build commands will be stored in build/compile_commands.json\n",
      "'build' finished successfully (2.113s)\n"
     ]
    },
    {
     "name": "stderr",
     "output_type": "stream",
     "text": [
      "Ns3Env parameters:\n",
      "--nWifi: 30\n",
      "--simulationTime: 60\n",
      "--openGymPort: 33493\n",
      "--envStepTime: 0.01\n",
      "--seed: 42\n",
      "--agentType: continuous\n",
      "--scenario: convergence\n",
      "--dryRun: 0\n",
      "Simulation started\n",
      "Simulation process id: 995798 (parent (waf shell) id: 995776)\n",
      "Waiting for Python process to connect on port: tcp://localhost:33493\n",
      "Please start proper Python Gym Agent\n",
      "  0%|          | 0/6300 [00:00<?, ?it/s]"
     ]
    },
    {
     "name": "stdout",
     "output_type": "stream",
     "text": [
      "Sent 2044.04 Mb/s.\tMean speed: 34.07 Mb/s\tEpisode 4/15 finished\n",
      "\n",
      "4\n"
     ]
    },
    {
     "name": "stderr",
     "output_type": "stream",
     "text": [
      "  5%|▍         | 305/6300 [01:23<39:02,  2.56it/s, curr_speed=38.26 Mbps, mb_sent=1.53 Mb]"
     ]
    },
    {
     "name": "stdout",
     "output_type": "stream",
     "text": [
      "------- MEMORY BUFFER FILLED -------\n"
     ]
    },
    {
     "name": "stderr",
     "output_type": "stream",
     "text": [
      "100%|██████████| 6300/6300 [2:06:20<00:00,  1.20s/it, curr_speed=34.79 Mbps, mb_sent=2125.38 Mb]  \n"
     ]
    },
    {
     "name": "stdout",
     "output_type": "stream",
     "text": [
      "Waiting for simulation script to connect on port: tcp://localhost:35349\n",
      "Please start proper ns-3 simulation script using ./waf --run \"...\"\n",
      "Waf: Entering directory `/home/samuel/ns-allinone-3.29/ns-3.29/build'\n",
      "Waf: Leaving directory `/home/samuel/ns-allinone-3.29/ns-3.29/build'\n",
      "Build commands will be stored in build/compile_commands.json\n",
      "'build' finished successfully (2.232s)\n"
     ]
    },
    {
     "name": "stderr",
     "output_type": "stream",
     "text": [
      "Ns3Env parameters:\n",
      "--nWifi: 30\n",
      "--simulationTime: 60\n",
      "--openGymPort: 35349\n",
      "--envStepTime: 0.01\n",
      "--seed: 42\n",
      "--agentType: continuous\n",
      "--scenario: convergence\n",
      "--dryRun: 0\n",
      "Simulation started\n",
      "Simulation process id: 1033294 (parent (waf shell) id: 1033272)\n",
      "Waiting for Python process to connect on port: tcp://localhost:35349\n",
      "Please start proper Python Gym Agent\n",
      "  0%|          | 0/6300 [00:00<?, ?it/s]"
     ]
    },
    {
     "name": "stdout",
     "output_type": "stream",
     "text": [
      "Sent 2125.38 Mb/s.\tMean speed: 35.42 Mb/s\tEpisode 5/15 finished\n",
      "\n",
      "5\n"
     ]
    },
    {
     "name": "stderr",
     "output_type": "stream",
     "text": [
      "100%|██████████| 6300/6300 [2:14:08<00:00,  1.28s/it, curr_speed=33.31 Mbps, mb_sent=2185.01 Mb]  \n"
     ]
    },
    {
     "name": "stdout",
     "output_type": "stream",
     "text": [
      "Waiting for simulation script to connect on port: tcp://localhost:28896\n",
      "Please start proper ns-3 simulation script using ./waf --run \"...\"\n",
      "Waf: Entering directory `/home/samuel/ns-allinone-3.29/ns-3.29/build'\n",
      "Waf: Leaving directory `/home/samuel/ns-allinone-3.29/ns-3.29/build'\n",
      "Build commands will be stored in build/compile_commands.json\n",
      "'build' finished successfully (2.370s)\n"
     ]
    },
    {
     "name": "stderr",
     "output_type": "stream",
     "text": [
      "Ns3Env parameters:\n",
      "--nWifi: 30\n",
      "--simulationTime: 60\n",
      "--openGymPort: 28896\n",
      "--envStepTime: 0.01\n",
      "--seed: 42\n",
      "--agentType: continuous\n",
      "--scenario: convergence\n",
      "--dryRun: 0\n",
      "Simulation started\n",
      "Simulation process id: 1071531 (parent (waf shell) id: 1071508)\n",
      "Waiting for Python process to connect on port: tcp://localhost:28896\n",
      "Please start proper Python Gym Agent\n",
      "  0%|          | 0/6300 [00:00<?, ?it/s]"
     ]
    },
    {
     "name": "stdout",
     "output_type": "stream",
     "text": [
      "Sent 2185.01 Mb/s.\tMean speed: 36.42 Mb/s\tEpisode 6/15 finished\n",
      "\n",
      "6\n"
     ]
    },
    {
     "name": "stderr",
     "output_type": "stream",
     "text": [
      "100%|██████████| 6300/6300 [1:38:45<00:00,  1.06it/s, curr_speed=36.98 Mbps, mb_sent=2223.79 Mb]\n"
     ]
    },
    {
     "name": "stdout",
     "output_type": "stream",
     "text": [
      "Waiting for simulation script to connect on port: tcp://localhost:32675\n",
      "Please start proper ns-3 simulation script using ./waf --run \"...\"\n",
      "Waf: Entering directory `/home/samuel/ns-allinone-3.29/ns-3.29/build'\n",
      "Waf: Leaving directory `/home/samuel/ns-allinone-3.29/ns-3.29/build'\n",
      "Build commands will be stored in build/compile_commands.json\n",
      "'build' finished successfully (2.222s)\n"
     ]
    },
    {
     "name": "stderr",
     "output_type": "stream",
     "text": [
      "Ns3Env parameters:\n",
      "--nWifi: 30\n",
      "--simulationTime: 60\n",
      "--openGymPort: 32675\n",
      "--envStepTime: 0.01\n",
      "--seed: 42\n",
      "--agentType: continuous\n",
      "--scenario: convergence\n",
      "--dryRun: 0\n",
      "Simulation started\n",
      "Simulation process id: 1108793 (parent (waf shell) id: 1108762)\n",
      "Waiting for Python process to connect on port: tcp://localhost:32675\n",
      "Please start proper Python Gym Agent\n",
      "  0%|          | 0/6300 [00:00<?, ?it/s]"
     ]
    },
    {
     "name": "stdout",
     "output_type": "stream",
     "text": [
      "Sent 2223.79 Mb/s.\tMean speed: 37.06 Mb/s\tEpisode 7/15 finished\n",
      "\n",
      "7\n"
     ]
    },
    {
     "name": "stderr",
     "output_type": "stream",
     "text": [
      "100%|██████████| 6300/6300 [54:12<00:00,  1.94it/s, curr_speed=35.89 Mbps, mb_sent=2215.88 Mb] \n"
     ]
    },
    {
     "name": "stdout",
     "output_type": "stream",
     "text": [
      "Waiting for simulation script to connect on port: tcp://localhost:38615\n",
      "Please start proper ns-3 simulation script using ./waf --run \"...\"\n",
      "Waf: Entering directory `/home/samuel/ns-allinone-3.29/ns-3.29/build'\n",
      "Waf: Leaving directory `/home/samuel/ns-allinone-3.29/ns-3.29/build'\n",
      "Build commands will be stored in build/compile_commands.json\n",
      "'build' finished successfully (2.149s)\n"
     ]
    },
    {
     "name": "stderr",
     "output_type": "stream",
     "text": [
      "Ns3Env parameters:\n",
      "--nWifi: 30\n",
      "--simulationTime: 60\n",
      "--openGymPort: 38615\n",
      "--envStepTime: 0.01\n",
      "--seed: 42\n",
      "--agentType: continuous\n",
      "--scenario: convergence\n",
      "--dryRun: 0\n",
      "Simulation started\n",
      "Simulation process id: 1136907 (parent (waf shell) id: 1136877)\n",
      "Waiting for Python process to connect on port: tcp://localhost:38615\n",
      "Please start proper Python Gym Agent\n",
      "  0%|          | 0/6300 [00:00<?, ?it/s]"
     ]
    },
    {
     "name": "stdout",
     "output_type": "stream",
     "text": [
      "Sent 2215.88 Mb/s.\tMean speed: 36.93 Mb/s\tEpisode 8/15 finished\n",
      "\n",
      "8\n"
     ]
    },
    {
     "name": "stderr",
     "output_type": "stream",
     "text": [
      "100%|██████████| 6300/6300 [53:20<00:00,  1.97it/s, curr_speed=36.50 Mbps, mb_sent=2238.88 Mb]\n"
     ]
    },
    {
     "name": "stdout",
     "output_type": "stream",
     "text": [
      "Waiting for simulation script to connect on port: tcp://localhost:48609\n",
      "Please start proper ns-3 simulation script using ./waf --run \"...\"\n",
      "Waf: Entering directory `/home/samuel/ns-allinone-3.29/ns-3.29/build'\n",
      "Waf: Leaving directory `/home/samuel/ns-allinone-3.29/ns-3.29/build'\n",
      "Build commands will be stored in build/compile_commands.json\n",
      "'build' finished successfully (2.144s)\n"
     ]
    },
    {
     "name": "stderr",
     "output_type": "stream",
     "text": [
      "Ns3Env parameters:\n",
      "--nWifi: 30\n",
      "--simulationTime: 60\n",
      "--openGymPort: 48609\n",
      "--envStepTime: 0.01\n",
      "--seed: 42\n",
      "--agentType: continuous\n",
      "--scenario: convergence\n",
      "--dryRun: 0\n",
      "Simulation started\n",
      "Simulation process id: 1164433 (parent (waf shell) id: 1164406)\n",
      "Waiting for Python process to connect on port: tcp://localhost:48609\n",
      "Please start proper Python Gym Agent\n",
      "  0%|          | 0/6300 [00:00<?, ?it/s]"
     ]
    },
    {
     "name": "stdout",
     "output_type": "stream",
     "text": [
      "Sent 2238.88 Mb/s.\tMean speed: 37.31 Mb/s\tEpisode 9/15 finished\n",
      "\n",
      "9\n"
     ]
    },
    {
     "name": "stderr",
     "output_type": "stream",
     "text": [
      "100%|██████████| 6300/6300 [54:04<00:00,  1.94it/s, curr_speed=37.33 Mbps, mb_sent=2260.18 Mb]\n"
     ]
    },
    {
     "name": "stdout",
     "output_type": "stream",
     "text": [
      "Waiting for simulation script to connect on port: tcp://localhost:47294\n",
      "Please start proper ns-3 simulation script using ./waf --run \"...\"\n",
      "Waf: Entering directory `/home/samuel/ns-allinone-3.29/ns-3.29/build'\n",
      "Waf: Leaving directory `/home/samuel/ns-allinone-3.29/ns-3.29/build'\n",
      "Build commands will be stored in build/compile_commands.json\n",
      "'build' finished successfully (2.144s)\n"
     ]
    },
    {
     "name": "stderr",
     "output_type": "stream",
     "text": [
      "Ns3Env parameters:\n",
      "--nWifi: 30\n",
      "--simulationTime: 60\n",
      "--openGymPort: 47294\n",
      "--envStepTime: 0.01\n",
      "--seed: 42\n",
      "--agentType: continuous\n",
      "--scenario: convergence\n",
      "--dryRun: 0\n",
      "Simulation started\n",
      "Simulation process id: 1192448 (parent (waf shell) id: 1192417)\n",
      "Waiting for Python process to connect on port: tcp://localhost:47294\n",
      "Please start proper Python Gym Agent\n",
      "  0%|          | 0/6300 [00:00<?, ?it/s]"
     ]
    },
    {
     "name": "stdout",
     "output_type": "stream",
     "text": [
      "Sent 2260.18 Mb/s.\tMean speed: 37.67 Mb/s\tEpisode 10/15 finished\n",
      "\n",
      "10\n"
     ]
    },
    {
     "name": "stderr",
     "output_type": "stream",
     "text": [
      "100%|██████████| 6300/6300 [53:51<00:00,  1.95it/s, curr_speed=37.25 Mbps, mb_sent=2278.39 Mb]\n"
     ]
    },
    {
     "name": "stdout",
     "output_type": "stream",
     "text": [
      "Waiting for simulation script to connect on port: tcp://localhost:21914\n",
      "Please start proper ns-3 simulation script using ./waf --run \"...\"\n",
      "Waf: Entering directory `/home/samuel/ns-allinone-3.29/ns-3.29/build'\n",
      "Waf: Leaving directory `/home/samuel/ns-allinone-3.29/ns-3.29/build'\n",
      "Build commands will be stored in build/compile_commands.json\n",
      "'build' finished successfully (2.148s)\n"
     ]
    },
    {
     "name": "stderr",
     "output_type": "stream",
     "text": [
      "Ns3Env parameters:\n",
      "--nWifi: 30\n",
      "--simulationTime: 60\n",
      "--openGymPort: 21914\n",
      "--envStepTime: 0.01\n",
      "--seed: 42\n",
      "--agentType: continuous\n",
      "--scenario: convergence\n",
      "--dryRun: 0\n",
      "Simulation started\n",
      "Simulation process id: 1220298 (parent (waf shell) id: 1220266)\n",
      "Waiting for Python process to connect on port: tcp://localhost:21914\n",
      "Please start proper Python Gym Agent\n",
      "  0%|          | 0/6300 [00:00<?, ?it/s]"
     ]
    },
    {
     "name": "stdout",
     "output_type": "stream",
     "text": [
      "Sent 2278.39 Mb/s.\tMean speed: 37.97 Mb/s\tEpisode 11/15 finished\n",
      "\n",
      "11\n"
     ]
    },
    {
     "name": "stderr",
     "output_type": "stream",
     "text": [
      "100%|██████████| 6300/6300 [48:19<00:00,  2.17it/s, curr_speed=37.52 Mbps, mb_sent=2279.38 Mb] \n"
     ]
    },
    {
     "name": "stdout",
     "output_type": "stream",
     "text": [
      "Waiting for simulation script to connect on port: tcp://localhost:28994\n",
      "Please start proper ns-3 simulation script using ./waf --run \"...\"\n",
      "Waf: Entering directory `/home/samuel/ns-allinone-3.29/ns-3.29/build'\n",
      "Waf: Leaving directory `/home/samuel/ns-allinone-3.29/ns-3.29/build'\n",
      "Build commands will be stored in build/compile_commands.json\n",
      "'build' finished successfully (2.096s)\n"
     ]
    },
    {
     "name": "stderr",
     "output_type": "stream",
     "text": [
      "Ns3Env parameters:\n",
      "--nWifi: 30\n",
      "--simulationTime: 60\n",
      "--openGymPort: 28994\n",
      "--envStepTime: 0.01\n",
      "--seed: 42\n",
      "--agentType: continuous\n",
      "--scenario: convergence\n",
      "--dryRun: 0\n",
      "Simulation started\n",
      "Simulation process id: 1242892 (parent (waf shell) id: 1242874)\n",
      "Waiting for Python process to connect on port: tcp://localhost:28994\n",
      "Please start proper Python Gym Agent\n",
      "  0%|          | 1/6300 [00:00<17:28,  6.01it/s, curr_speed=0.00 Mbps, mb_sent=0.00 Mb]"
     ]
    },
    {
     "name": "stdout",
     "output_type": "stream",
     "text": [
      "Sent 2279.38 Mb/s.\tMean speed: 37.99 Mb/s\tEpisode 12/15 finished\n",
      "\n",
      "12\n",
      "Turning off noise\n"
     ]
    },
    {
     "name": "stderr",
     "output_type": "stream",
     "text": [
      "100%|██████████| 6300/6300 [43:03<00:00,  2.44it/s, curr_speed=37.56 Mbps, mb_sent=2283.53 Mb]\n"
     ]
    },
    {
     "name": "stdout",
     "output_type": "stream",
     "text": [
      "Waiting for simulation script to connect on port: tcp://localhost:52696\n",
      "Please start proper ns-3 simulation script using ./waf --run \"...\"\n",
      "Waf: Entering directory `/home/samuel/ns-allinone-3.29/ns-3.29/build'\n",
      "Waf: Leaving directory `/home/samuel/ns-allinone-3.29/ns-3.29/build'\n",
      "Build commands will be stored in build/compile_commands.json\n",
      "'build' finished successfully (2.002s)\n"
     ]
    },
    {
     "name": "stderr",
     "output_type": "stream",
     "text": [
      "Ns3Env parameters:\n",
      "--nWifi: 30\n",
      "--simulationTime: 60\n",
      "--openGymPort: 52696\n",
      "--envStepTime: 0.01\n",
      "--seed: 42\n",
      "--agentType: continuous\n",
      "--scenario: convergence\n",
      "--dryRun: 0\n",
      "Simulation started\n",
      "Simulation process id: 1256704 (parent (waf shell) id: 1256685)\n",
      "Waiting for Python process to connect on port: tcp://localhost:52696\n",
      "Please start proper Python Gym Agent\n",
      "  0%|          | 1/6300 [00:00<19:12,  5.46it/s, curr_speed=0.00 Mbps, mb_sent=0.00 Mb]"
     ]
    },
    {
     "name": "stdout",
     "output_type": "stream",
     "text": [
      "Sent 2283.53 Mb/s.\tMean speed: 38.06 Mb/s\tEpisode 13/15 finished\n",
      "\n",
      "13\n",
      "Turning off noise\n"
     ]
    },
    {
     "name": "stderr",
     "output_type": "stream",
     "text": [
      "100%|██████████| 6300/6300 [43:07<00:00,  2.43it/s, curr_speed=37.54 Mbps, mb_sent=2281.12 Mb]\n"
     ]
    },
    {
     "name": "stdout",
     "output_type": "stream",
     "text": [
      "Waiting for simulation script to connect on port: tcp://localhost:37385\n",
      "Please start proper ns-3 simulation script using ./waf --run \"...\"\n",
      "Waf: Entering directory `/home/samuel/ns-allinone-3.29/ns-3.29/build'\n",
      "Waf: Leaving directory `/home/samuel/ns-allinone-3.29/ns-3.29/build'\n",
      "Build commands will be stored in build/compile_commands.json\n",
      "'build' finished successfully (1.975s)\n"
     ]
    },
    {
     "name": "stderr",
     "output_type": "stream",
     "text": [
      "Ns3Env parameters:\n",
      "--nWifi: 30\n",
      "--simulationTime: 60\n",
      "--openGymPort: 37385\n",
      "--envStepTime: 0.01\n",
      "--seed: 42\n",
      "--agentType: continuous\n",
      "--scenario: convergence\n",
      "--dryRun: 0\n",
      "Simulation started\n",
      "Simulation process id: 1270431 (parent (waf shell) id: 1270411)\n",
      "Waiting for Python process to connect on port: tcp://localhost:37385\n",
      "Please start proper Python Gym Agent\n",
      "  0%|          | 1/6300 [00:00<16:24,  6.40it/s, curr_speed=0.00 Mbps, mb_sent=0.00 Mb]"
     ]
    },
    {
     "name": "stdout",
     "output_type": "stream",
     "text": [
      "Sent 2281.12 Mb/s.\tMean speed: 38.02 Mb/s\tEpisode 14/15 finished\n",
      "\n",
      "14\n",
      "Turning off noise\n"
     ]
    },
    {
     "name": "stderr",
     "output_type": "stream",
     "text": [
      "100%|██████████| 6300/6300 [39:42<00:00,  2.64it/s, curr_speed=37.36 Mbps, mb_sent=2282.12 Mb]\n"
     ]
    },
    {
     "name": "stdout",
     "output_type": "stream",
     "text": [
      "Waiting for simulation script to connect on port: tcp://localhost:24997\n",
      "Please start proper ns-3 simulation script using ./waf --run \"...\"\n",
      "Waf: Entering directory `/home/samuel/ns-allinone-3.29/ns-3.29/build'\n",
      "Waf: Leaving directory `/home/samuel/ns-allinone-3.29/ns-3.29/build'\n",
      "Build commands will be stored in build/compile_commands.json\n",
      "'build' finished successfully (1.982s)\n"
     ]
    },
    {
     "name": "stderr",
     "output_type": "stream",
     "text": [
      "Ns3Env parameters:\n",
      "--nWifi: 30\n",
      "--simulationTime: 60\n",
      "--openGymPort: 24997\n",
      "--envStepTime: 0.01\n",
      "--seed: 42\n",
      "--agentType: continuous\n",
      "--scenario: convergence\n",
      "--dryRun: 0\n",
      "Simulation started\n",
      "Simulation process id: 1282664 (parent (waf shell) id: 1282646)\n",
      "Waiting for Python process to connect on port: tcp://localhost:24997\n",
      "Please start proper Python Gym Agent\n",
      "COMET INFO: ----------------------------\n",
      "COMET INFO: Comet.ml Experiment Summary:\n",
      "COMET INFO:   Data:\n",
      "COMET INFO:     url: https://www.comet.com/sheila-janota/rl-in-wifi-with-queue-level/4e07802047ad4815a06db2d5c1d9a029\n",
      "COMET INFO:   Metrics [count] (min, max):\n",
      "COMET INFO:     Chosen CW [89985]           : (16.0, 1024.0)\n",
      "COMET INFO:     Cumulative reward [15]      : (2539.244140625, 3197.5556640625)\n",
      "COMET INFO:     Current throughput [89985]  : (8.935500144958496, 52.3622932434082)\n",
      "COMET INFO:     Fairness index [89985]      : (0.039597999304533005, 0.9971870183944702)\n",
      "COMET INFO:     Megabytes sent [89985]      : (0.0893549993634224, 2283.5347969532013)\n",
      "COMET INFO:     Observation 0 [89985]       : (0.15731289893388747, 0.9647902965545655)\n",
      "COMET INFO:     Observation 1 [89985]       : (0.0, 0.012320056294002728)\n",
      "COMET INFO:     Per-ep reward [89985]       : (131.784423828125, 3197.5556640625)\n",
      "COMET INFO:     Round megabytes sent [89985]: (0.022338999435305595, 11.839599609375)\n",
      "COMET INFO:     Round reward [89985]        : (0.02978515625, 0.953125)\n",
      "COMET INFO:     Speed [15]                  : (30.65413914139693, 38.058913282553355)\n",
      "COMET INFO:     Station count [89985]       : (5.0, 30.0)\n",
      "COMET INFO:     actor_loss [89985]          : (-1.7009658813476562, 0.0)\n",
      "COMET INFO:     critic_loss [89985]         : (0.0, 4.473991870880127)\n",
      "COMET INFO:     loss [33578]                : (-1.700695514678955, 0.7553625106811523)\n",
      "COMET INFO:   Uploads:\n",
      "COMET INFO:     histogram3d: 89985\n",
      "COMET INFO: ----------------------------\n",
      "COMET INFO: Uploading stats to Comet before program termination (may take several seconds)\n"
     ]
    },
    {
     "name": "stdout",
     "output_type": "stream",
     "text": [
      "Sent 2282.12 Mb/s.\tMean speed: 38.04 Mb/s\tEpisode 15/15 finished\n",
      "\n"
     ]
    },
    {
     "name": "stderr",
     "output_type": "stream",
     "text": [
      "COMET INFO: Waiting for completion of the file uploads (may take several seconds)\n",
      "COMET INFO: Still uploading\n",
      "COMET INFO: Still uploading\n",
      "COMET INFO: Still uploading\n",
      "COMET INFO: Still uploading\n",
      "COMET INFO: Still uploading\n",
      "COMET INFO: Still uploading\n",
      "COMET INFO: Still uploading\n",
      "COMET INFO: Still uploading\n",
      "COMET INFO: Still uploading\n",
      "COMET INFO: Still uploading\n",
      "COMET INFO: Still uploading\n",
      "COMET INFO: Still uploading\n",
      "COMET INFO: Still uploading\n",
      "COMET INFO: Still uploading\n",
      "COMET INFO: Still uploading\n",
      "COMET INFO: Still uploading\n",
      "COMET INFO: Still uploading\n",
      "COMET INFO: Still uploading\n",
      "COMET INFO: Still uploading\n",
      "COMET INFO: Still uploading\n",
      "COMET INFO: Still uploading\n",
      "COMET INFO: Still uploading\n",
      "COMET INFO: Still uploading\n",
      "COMET INFO: Still uploading\n",
      "COMET INFO: Still uploading\n",
      "COMET INFO: Still uploading\n",
      "COMET INFO: Still uploading\n",
      "COMET INFO: Still uploading\n",
      "COMET INFO: Still uploading\n",
      "COMET INFO: Still uploading\n",
      "COMET INFO: Still uploading\n",
      "COMET INFO: Still uploading\n",
      "COMET INFO: Still uploading\n",
      "COMET INFO: Still uploading\n",
      "COMET INFO: Still uploading\n",
      "COMET INFO: Still uploading\n",
      "COMET INFO: Still uploading\n",
      "COMET INFO: Still uploading\n",
      "COMET INFO: Still uploading\n",
      "COMET INFO: Still uploading\n",
      "COMET INFO: Still uploading\n",
      "COMET INFO: Still uploading\n",
      "COMET INFO: Still uploading\n",
      "COMET INFO: Still uploading\n",
      "COMET INFO: Still uploading\n",
      "COMET INFO: Still uploading\n",
      "COMET INFO: Still uploading\n",
      "COMET INFO: Still uploading\n",
      "COMET INFO: Still uploading\n",
      "COMET INFO: Still uploading\n",
      "COMET INFO: Still uploading\n",
      "COMET INFO: Still uploading\n",
      "COMET INFO: Still uploading\n",
      "COMET INFO: Still uploading\n",
      "COMET INFO: Still uploading\n",
      "COMET INFO: Still uploading\n",
      "COMET INFO: Still uploading\n",
      "COMET INFO: Still uploading\n",
      "COMET INFO: Still uploading\n",
      "COMET INFO: Still uploading\n",
      "COMET INFO: Still uploading\n",
      "COMET INFO: Still uploading\n",
      "COMET INFO: Still uploading\n",
      "COMET INFO: Still uploading\n",
      "COMET INFO: Still uploading\n",
      "COMET INFO: Still uploading\n",
      "COMET INFO: Still uploading\n",
      "COMET INFO: Still uploading\n",
      "COMET INFO: Still uploading\n",
      "COMET INFO: Still uploading\n",
      "COMET INFO: Still uploading\n",
      "COMET INFO: Still uploading\n",
      "COMET INFO: Still uploading\n",
      "COMET INFO: Still uploading\n",
      "COMET INFO: Still uploading\n",
      "COMET INFO: Still uploading\n",
      "COMET INFO: Still uploading\n",
      "COMET INFO: Still uploading\n",
      "COMET INFO: Still uploading\n",
      "COMET INFO: Still uploading\n",
      "COMET INFO: Still uploading\n",
      "COMET INFO: Still uploading\n",
      "COMET INFO: Still uploading\n",
      "COMET INFO: Still uploading\n",
      "COMET INFO: Still uploading\n",
      "COMET INFO: Still uploading\n",
      "COMET INFO: Still uploading\n",
      "COMET INFO: Still uploading\n",
      "COMET INFO: Still uploading\n",
      "COMET INFO: Still uploading\n",
      "COMET INFO: Still uploading\n",
      "COMET INFO: Still uploading\n",
      "COMET INFO: Still uploading\n",
      "COMET INFO: Still uploading\n",
      "COMET INFO: Still uploading\n",
      "COMET INFO: Still uploading\n",
      "COMET INFO: Still uploading\n",
      "COMET INFO: Still uploading\n",
      "COMET INFO: Still uploading\n",
      "COMET INFO: Still uploading\n",
      "COMET INFO: Still uploading\n",
      "COMET INFO: Still uploading\n",
      "COMET INFO: Still uploading\n",
      "COMET INFO: Still uploading\n",
      "COMET INFO: Still uploading\n",
      "COMET INFO: Still uploading\n",
      "COMET INFO: Still uploading\n",
      "COMET INFO: Still uploading\n",
      "COMET INFO: Still uploading\n",
      "COMET INFO: Still uploading\n",
      "COMET INFO: Still uploading\n",
      "COMET INFO: Still uploading\n",
      "COMET INFO: Still uploading\n",
      "COMET INFO: Still uploading\n",
      "COMET INFO: Still uploading\n",
      "COMET INFO: Still uploading\n",
      "COMET INFO: Still uploading\n",
      "COMET INFO: Still uploading\n",
      "COMET INFO: Still uploading\n",
      "COMET ERROR: Comet failed to send all the data back (0 messages and 1 uploads)\n",
      "COMET WARNING: Failed to log run in comet.ml\n"
     ]
    },
    {
     "name": "stdout",
     "output_type": "stream",
     "text": [
      "Training finished.\n"
     ]
    }
   ],
   "source": [
    "#%%\n",
    "teacher = Teacher(env, 1, Preprocessor(False))\n",
    "\n",
    "lr_actor = 4e-4\n",
    "lr_critic = 4e-3\n",
    "\n",
    "config = Config(buffer_size=4*steps_per_ep*threads_no, batch_size=32, gamma=0.7, tau=1e-3, lr_actor=lr_actor, lr_critic=lr_critic, update_every=1)\n",
    "agent = Agent(history_length, action_size=1, config=config, actor_layers=[8, 128, 16], critic_layers=[8,128,16])\n",
    "\n",
    "# Test the model\n",
    "hyperparams = {**config.__dict__, **sim_args}\n",
    "tags = [\"Rew: normalized speed\",\n",
    "        f\"{Agent.NAME}\",\n",
    "        sim_args['scenario'],\n",
    "        f\"Actor: {lr_actor}\",\n",
    "        f\"Critic: {lr_critic}\",\n",
    "        f\"Instances: {threads_no}\",\n",
    "        f\"Station count: {sim_args['nWifi']}\",\n",
    "        *[f\"{key}: {sim_args[key]}\" for key in list(sim_args)[:3]]]\n",
    "# agent.save()\n",
    "logger = teacher.train(agent, EPISODE_COUNT,\n",
    "                        simTime=simTime,\n",
    "                        stepTime=stepTime,\n",
    "                        history_length=history_length,\n",
    "                        send_logs=True,\n",
    "                        experimental=True,\n",
    "                        tags=tags,\n",
    "                        parameters=hyperparams)\n",
    "# logger = teacher.eval(agent,\n",
    "#                         simTime=simTime,\n",
    "#                         stepTime=stepTime,\n",
    "#                         history_length=history_length,\n",
    "#                         tags=tags,\n",
    "#                         parameters=hyperparams)\n",
    "# agent.save()"
   ]
  },
  {
   "cell_type": "code",
   "execution_count": null,
   "id": "5c2c98d4",
   "metadata": {},
   "outputs": [],
   "source": []
  }
 ],
 "metadata": {
  "kernelspec": {
   "display_name": "Python 3 (ipykernel)",
   "language": "python",
   "name": "python3"
  },
  "language_info": {
   "codemirror_mode": {
    "name": "ipython",
    "version": 3
   },
   "file_extension": ".py",
   "mimetype": "text/x-python",
   "name": "python",
   "nbconvert_exporter": "python",
   "pygments_lexer": "ipython3",
   "version": "3.7.10"
  }
 },
 "nbformat": 4,
 "nbformat_minor": 5
}
