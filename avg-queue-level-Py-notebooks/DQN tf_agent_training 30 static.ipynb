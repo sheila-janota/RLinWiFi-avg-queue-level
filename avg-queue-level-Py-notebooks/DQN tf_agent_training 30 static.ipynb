{
 "cells": [
  {
   "cell_type": "markdown",
   "id": "496eea00",
   "metadata": {},
   "source": [
    "# Execution num1"
   ]
  },
  {
   "cell_type": "code",
   "execution_count": 1,
   "id": "11e0cb60",
   "metadata": {},
   "outputs": [
    {
     "name": "stderr",
     "output_type": "stream",
     "text": [
      "/home/samuel/anaconda3/envs/myEnv3_7/lib/python3.7/site-packages/tensorflow/python/framework/dtypes.py:516: FutureWarning: Passing (type, 1) or '1type' as a synonym of type is deprecated; in a future version of numpy, it will be understood as (type, (1,)) / '(1,)type'.\n",
      "  _np_qint8 = np.dtype([(\"qint8\", np.int8, 1)])\n",
      "/home/samuel/anaconda3/envs/myEnv3_7/lib/python3.7/site-packages/tensorflow/python/framework/dtypes.py:517: FutureWarning: Passing (type, 1) or '1type' as a synonym of type is deprecated; in a future version of numpy, it will be understood as (type, (1,)) / '(1,)type'.\n",
      "  _np_quint8 = np.dtype([(\"quint8\", np.uint8, 1)])\n",
      "/home/samuel/anaconda3/envs/myEnv3_7/lib/python3.7/site-packages/tensorflow/python/framework/dtypes.py:518: FutureWarning: Passing (type, 1) or '1type' as a synonym of type is deprecated; in a future version of numpy, it will be understood as (type, (1,)) / '(1,)type'.\n",
      "  _np_qint16 = np.dtype([(\"qint16\", np.int16, 1)])\n",
      "/home/samuel/anaconda3/envs/myEnv3_7/lib/python3.7/site-packages/tensorflow/python/framework/dtypes.py:519: FutureWarning: Passing (type, 1) or '1type' as a synonym of type is deprecated; in a future version of numpy, it will be understood as (type, (1,)) / '(1,)type'.\n",
      "  _np_quint16 = np.dtype([(\"quint16\", np.uint16, 1)])\n",
      "/home/samuel/anaconda3/envs/myEnv3_7/lib/python3.7/site-packages/tensorflow/python/framework/dtypes.py:520: FutureWarning: Passing (type, 1) or '1type' as a synonym of type is deprecated; in a future version of numpy, it will be understood as (type, (1,)) / '(1,)type'.\n",
      "  _np_qint32 = np.dtype([(\"qint32\", np.int32, 1)])\n",
      "/home/samuel/anaconda3/envs/myEnv3_7/lib/python3.7/site-packages/tensorflow/python/framework/dtypes.py:525: FutureWarning: Passing (type, 1) or '1type' as a synonym of type is deprecated; in a future version of numpy, it will be understood as (type, (1,)) / '(1,)type'.\n",
      "  np_resource = np.dtype([(\"resource\", np.ubyte, 1)])\n",
      "/home/samuel/anaconda3/envs/myEnv3_7/lib/python3.7/site-packages/tensorboard/compat/tensorflow_stub/dtypes.py:541: FutureWarning: Passing (type, 1) or '1type' as a synonym of type is deprecated; in a future version of numpy, it will be understood as (type, (1,)) / '(1,)type'.\n",
      "  _np_qint8 = np.dtype([(\"qint8\", np.int8, 1)])\n",
      "/home/samuel/anaconda3/envs/myEnv3_7/lib/python3.7/site-packages/tensorboard/compat/tensorflow_stub/dtypes.py:542: FutureWarning: Passing (type, 1) or '1type' as a synonym of type is deprecated; in a future version of numpy, it will be understood as (type, (1,)) / '(1,)type'.\n",
      "  _np_quint8 = np.dtype([(\"quint8\", np.uint8, 1)])\n",
      "/home/samuel/anaconda3/envs/myEnv3_7/lib/python3.7/site-packages/tensorboard/compat/tensorflow_stub/dtypes.py:543: FutureWarning: Passing (type, 1) or '1type' as a synonym of type is deprecated; in a future version of numpy, it will be understood as (type, (1,)) / '(1,)type'.\n",
      "  _np_qint16 = np.dtype([(\"qint16\", np.int16, 1)])\n",
      "/home/samuel/anaconda3/envs/myEnv3_7/lib/python3.7/site-packages/tensorboard/compat/tensorflow_stub/dtypes.py:544: FutureWarning: Passing (type, 1) or '1type' as a synonym of type is deprecated; in a future version of numpy, it will be understood as (type, (1,)) / '(1,)type'.\n",
      "  _np_quint16 = np.dtype([(\"quint16\", np.uint16, 1)])\n",
      "/home/samuel/anaconda3/envs/myEnv3_7/lib/python3.7/site-packages/tensorboard/compat/tensorflow_stub/dtypes.py:545: FutureWarning: Passing (type, 1) or '1type' as a synonym of type is deprecated; in a future version of numpy, it will be understood as (type, (1,)) / '(1,)type'.\n",
      "  _np_qint32 = np.dtype([(\"qint32\", np.int32, 1)])\n",
      "/home/samuel/anaconda3/envs/myEnv3_7/lib/python3.7/site-packages/tensorboard/compat/tensorflow_stub/dtypes.py:550: FutureWarning: Passing (type, 1) or '1type' as a synonym of type is deprecated; in a future version of numpy, it will be understood as (type, (1,)) / '(1,)type'.\n",
      "  np_resource = np.dtype([(\"resource\", np.ubyte, 1)])\n"
     ]
    }
   ],
   "source": [
    "#%%\n",
    "from ns3gym import ns3env\n",
    "from comet_ml import Experiment, Optimizer\n",
    "import tqdm\n",
    "import subprocess\n",
    "from collections import deque\n",
    "import numpy as np\n",
    "\n",
    "from agents.dqn.agent import Agent, Config\n",
    "from agents.dqn.model import QNetworkTf\n",
    "from agents.teacher import Teacher, EnvWrapper\n",
    "from preprocessor import Preprocessor"
   ]
  },
  {
   "cell_type": "code",
   "execution_count": 2,
   "id": "42c5e35d",
   "metadata": {},
   "outputs": [
    {
     "name": "stdout",
     "output_type": "stream",
     "text": [
      "Steps per episode: 6000\n",
      "Waiting for simulation script to connect on port: tcp://localhost:47868\n",
      "Please start proper ns-3 simulation script using ./waf --run \"...\"\n",
      "Waf: Entering directory `/home/samuel/ns-allinone-3.29/ns-3.29/build'\n",
      "Waf: Leaving directory `/home/samuel/ns-allinone-3.29/ns-3.29/build'\n",
      "Build commands will be stored in build/compile_commands.json\n",
      "'build' finished successfully (3.678s)\n"
     ]
    },
    {
     "name": "stderr",
     "output_type": "stream",
     "text": [
      "Ns3Env parameters:\n",
      "--nWifi: 30\n",
      "--simulationTime: 60\n",
      "--openGymPort: 47868\n",
      "--envStepTime: 0.01\n",
      "--seed: 42\n",
      "--agentType: discrete\n",
      "--scenario: basic\n",
      "--dryRun: 0\n",
      "Simulation started\n"
     ]
    },
    {
     "name": "stdout",
     "output_type": "stream",
     "text": [
      "Observation space shape: (1, 300)\n",
      "Action space shape: (1, 1)\n"
     ]
    },
    {
     "name": "stderr",
     "output_type": "stream",
     "text": [
      "Simulation process id: 468263 (parent (waf shell) id: 468239)\n",
      "Waiting for Python process to connect on port: tcp://localhost:47868\n",
      "Please start proper Python Gym Agent\n"
     ]
    }
   ],
   "source": [
    "#%%\n",
    "scenario = \"basic\"\n",
    "\n",
    "simTime = 60 # seconds\n",
    "stepTime = 0.01  # seconds\n",
    "history_length = 300\n",
    "\n",
    "EPISODE_COUNT = 15\n",
    "steps_per_ep = int(simTime/stepTime)\n",
    "\n",
    "sim_args = {\n",
    "    \"simTime\": simTime,\n",
    "    \"envStepTime\": stepTime,\n",
    "    \"historyLength\": history_length,\n",
    "    \"agentType\": Agent.TYPE,\n",
    "    \"scenario\": \"basic\",\n",
    "    \"nWifi\": 30,\n",
    "}\n",
    "\n",
    "print(\"Steps per episode:\", steps_per_ep)\n",
    "\n",
    "threads_no = 1\n",
    "env = EnvWrapper(threads_no, **sim_args)\n",
    "\n",
    "#%%\n",
    "env.reset()\n",
    "ob_space = env.observation_space\n",
    "ac_space = env.action_space\n",
    "\n",
    "print(\"Observation space shape:\", ob_space)\n",
    "print(\"Action space shape:\", ac_space)\n",
    "\n",
    "assert ob_space is not None"
   ]
  },
  {
   "cell_type": "code",
   "execution_count": 3,
   "id": "e2c1d026",
   "metadata": {
    "scrolled": true
   },
   "outputs": [
    {
     "name": "stdout",
     "output_type": "stream",
     "text": [
      "WARNING:tensorflow:From /home/samuel/ns-allinone-3.29/ns-3.29/scratch/RLinWiFi-master-original-queue-level-mean/agents/dqn/agent.py:53: The name tf.Session is deprecated. Please use tf.compat.v1.Session instead.\n",
      "\n",
      "WARNING:tensorflow:From /home/samuel/ns-allinone-3.29/ns-3.29/scratch/RLinWiFi-master-original-queue-level-mean/agents/dqn/model.py:25: The name tf.variable_scope is deprecated. Please use tf.compat.v1.variable_scope instead.\n",
      "\n",
      "WARNING:tensorflow:From /home/samuel/ns-allinone-3.29/ns-3.29/scratch/RLinWiFi-master-original-queue-level-mean/agents/dqn/model.py:26: The name tf.placeholder is deprecated. Please use tf.compat.v1.placeholder instead.\n",
      "\n"
     ]
    },
    {
     "name": "stderr",
     "output_type": "stream",
     "text": [
      "2023-02-13 02:30:44.030406: I tensorflow/core/platform/cpu_feature_guard.cc:142] Your CPU supports instructions that this TensorFlow binary was not compiled to use: AVX2 FMA\n",
      "2023-02-13 02:30:44.071947: I tensorflow/core/platform/profile_utils/cpu_utils.cc:94] CPU Frequency: 3491795000 Hz\n",
      "2023-02-13 02:30:44.072757: I tensorflow/compiler/xla/service/service.cc:168] XLA service 0x5558cf4c6f70 executing computations on platform Host. Devices:\n",
      "2023-02-13 02:30:44.072949: I tensorflow/compiler/xla/service/service.cc:175]   StreamExecutor device (0): <undefined>, <undefined>\n"
     ]
    },
    {
     "name": "stdout",
     "output_type": "stream",
     "text": [
      "WARNING:tensorflow:\n",
      "The TensorFlow contrib module will not be included in TensorFlow 2.0.\n",
      "For more information, please see:\n",
      "  * https://github.com/tensorflow/community/blob/master/rfcs/20180907-contrib-sunset.md\n",
      "  * https://github.com/tensorflow/addons\n",
      "  * https://github.com/tensorflow/io (for I/O related ops)\n",
      "If you depend on functionality not listed there, please file an issue.\n",
      "\n",
      "WARNING:tensorflow:From /home/samuel/ns-allinone-3.29/ns-3.29/scratch/RLinWiFi-master-original-queue-level-mean/agents/dqn/model.py:52: LSTMCell.__init__ (from tensorflow.python.ops.rnn_cell_impl) is deprecated and will be removed in a future version.\n",
      "Instructions for updating:\n",
      "This class is equivalent as tf.keras.layers.LSTMCell, and will be replaced by that in Tensorflow 2.0.\n",
      "WARNING:tensorflow:From /home/samuel/ns-allinone-3.29/ns-3.29/scratch/RLinWiFi-master-original-queue-level-mean/agents/dqn/model.py:52: static_rnn (from tensorflow.python.ops.rnn) is deprecated and will be removed in a future version.\n",
      "Instructions for updating:\n",
      "Please use `keras.layers.RNN(cell, unroll=True)`, which is equivalent to this API\n",
      "WARNING:tensorflow:From /home/samuel/anaconda3/envs/myEnv3_7/lib/python3.7/site-packages/tensorflow/python/ops/init_ops.py:1251: calling VarianceScaling.__init__ (from tensorflow.python.ops.init_ops) with dtype is deprecated and will be removed in a future version.\n",
      "Instructions for updating:\n",
      "Call initializer instance with the dtype argument instead of passing it to the constructor\n",
      "WARNING:tensorflow:From /home/samuel/anaconda3/envs/myEnv3_7/lib/python3.7/site-packages/tensorflow/python/ops/rnn_cell_impl.py:961: calling Zeros.__init__ (from tensorflow.python.ops.init_ops) with dtype is deprecated and will be removed in a future version.\n",
      "Instructions for updating:\n",
      "Call initializer instance with the dtype argument instead of passing it to the constructor\n",
      "WARNING:tensorflow:Entity <bound method LSTMCell.call of <tensorflow.python.ops.rnn_cell_impl.LSTMCell object at 0x7f09bd455810>> could not be transformed and will be executed as-is. Please report this to the AutgoGraph team. When filing the bug, set the verbosity to 10 (on Linux, `export AUTOGRAPH_VERBOSITY=10`) and attach the full output. Cause: converting <bound method LSTMCell.call of <tensorflow.python.ops.rnn_cell_impl.LSTMCell object at 0x7f09bd455810>>: AttributeError: module 'gast' has no attribute 'Index'\n",
      "WARNING: Entity <bound method LSTMCell.call of <tensorflow.python.ops.rnn_cell_impl.LSTMCell object at 0x7f09bd455810>> could not be transformed and will be executed as-is. Please report this to the AutgoGraph team. When filing the bug, set the verbosity to 10 (on Linux, `export AUTOGRAPH_VERBOSITY=10`) and attach the full output. Cause: converting <bound method LSTMCell.call of <tensorflow.python.ops.rnn_cell_impl.LSTMCell object at 0x7f09bd455810>>: AttributeError: module 'gast' has no attribute 'Index'\n",
      "WARNING:tensorflow:Entity <bound method LSTMCell.call of <tensorflow.python.ops.rnn_cell_impl.LSTMCell object at 0x7f09bd455810>> could not be transformed and will be executed as-is. Please report this to the AutgoGraph team. When filing the bug, set the verbosity to 10 (on Linux, `export AUTOGRAPH_VERBOSITY=10`) and attach the full output. Cause: converting <bound method LSTMCell.call of <tensorflow.python.ops.rnn_cell_impl.LSTMCell object at 0x7f09bd455810>>: AttributeError: module 'gast' has no attribute 'Index'\n",
      "WARNING: Entity <bound method LSTMCell.call of <tensorflow.python.ops.rnn_cell_impl.LSTMCell object at 0x7f09bd455810>> could not be transformed and will be executed as-is. Please report this to the AutgoGraph team. When filing the bug, set the verbosity to 10 (on Linux, `export AUTOGRAPH_VERBOSITY=10`) and attach the full output. Cause: converting <bound method LSTMCell.call of <tensorflow.python.ops.rnn_cell_impl.LSTMCell object at 0x7f09bd455810>>: AttributeError: module 'gast' has no attribute 'Index'\n",
      "WARNING:tensorflow:Entity <bound method LSTMCell.call of <tensorflow.python.ops.rnn_cell_impl.LSTMCell object at 0x7f09bd455810>> could not be transformed and will be executed as-is. Please report this to the AutgoGraph team. When filing the bug, set the verbosity to 10 (on Linux, `export AUTOGRAPH_VERBOSITY=10`) and attach the full output. Cause: converting <bound method LSTMCell.call of <tensorflow.python.ops.rnn_cell_impl.LSTMCell object at 0x7f09bd455810>>: AttributeError: module 'gast' has no attribute 'Index'\n",
      "WARNING: Entity <bound method LSTMCell.call of <tensorflow.python.ops.rnn_cell_impl.LSTMCell object at 0x7f09bd455810>> could not be transformed and will be executed as-is. Please report this to the AutgoGraph team. When filing the bug, set the verbosity to 10 (on Linux, `export AUTOGRAPH_VERBOSITY=10`) and attach the full output. Cause: converting <bound method LSTMCell.call of <tensorflow.python.ops.rnn_cell_impl.LSTMCell object at 0x7f09bd455810>>: AttributeError: module 'gast' has no attribute 'Index'\n",
      "WARNING:tensorflow:Entity <bound method LSTMCell.call of <tensorflow.python.ops.rnn_cell_impl.LSTMCell object at 0x7f09bd455810>> could not be transformed and will be executed as-is. Please report this to the AutgoGraph team. When filing the bug, set the verbosity to 10 (on Linux, `export AUTOGRAPH_VERBOSITY=10`) and attach the full output. Cause: converting <bound method LSTMCell.call of <tensorflow.python.ops.rnn_cell_impl.LSTMCell object at 0x7f09bd455810>>: AttributeError: module 'gast' has no attribute 'Index'\n",
      "WARNING: Entity <bound method LSTMCell.call of <tensorflow.python.ops.rnn_cell_impl.LSTMCell object at 0x7f09bd455810>> could not be transformed and will be executed as-is. Please report this to the AutgoGraph team. When filing the bug, set the verbosity to 10 (on Linux, `export AUTOGRAPH_VERBOSITY=10`) and attach the full output. Cause: converting <bound method LSTMCell.call of <tensorflow.python.ops.rnn_cell_impl.LSTMCell object at 0x7f09bd455810>>: AttributeError: module 'gast' has no attribute 'Index'\n",
      "WARNING:tensorflow:From /home/samuel/ns-allinone-3.29/ns-3.29/scratch/RLinWiFi-master-original-queue-level-mean/agents/dqn/model.py:53: dense (from tensorflow.python.layers.core) is deprecated and will be removed in a future version.\n",
      "Instructions for updating:\n",
      "Use keras.layers.dense instead.\n",
      "WARNING:tensorflow:Entity <bound method Dense.call of <tensorflow.python.layers.core.Dense object at 0x7f09bd455810>> could not be transformed and will be executed as-is. Please report this to the AutgoGraph team. When filing the bug, set the verbosity to 10 (on Linux, `export AUTOGRAPH_VERBOSITY=10`) and attach the full output. Cause: converting <bound method Dense.call of <tensorflow.python.layers.core.Dense object at 0x7f09bd455810>>: AttributeError: module 'gast' has no attribute 'Index'\n",
      "WARNING: Entity <bound method Dense.call of <tensorflow.python.layers.core.Dense object at 0x7f09bd455810>> could not be transformed and will be executed as-is. Please report this to the AutgoGraph team. When filing the bug, set the verbosity to 10 (on Linux, `export AUTOGRAPH_VERBOSITY=10`) and attach the full output. Cause: converting <bound method Dense.call of <tensorflow.python.layers.core.Dense object at 0x7f09bd455810>>: AttributeError: module 'gast' has no attribute 'Index'\n",
      "WARNING:tensorflow:Entity <bound method Dense.call of <tensorflow.python.layers.core.Dense object at 0x7f09bd455810>> could not be transformed and will be executed as-is. Please report this to the AutgoGraph team. When filing the bug, set the verbosity to 10 (on Linux, `export AUTOGRAPH_VERBOSITY=10`) and attach the full output. Cause: converting <bound method Dense.call of <tensorflow.python.layers.core.Dense object at 0x7f09bd455810>>: AttributeError: module 'gast' has no attribute 'Index'\n",
      "WARNING: Entity <bound method Dense.call of <tensorflow.python.layers.core.Dense object at 0x7f09bd455810>> could not be transformed and will be executed as-is. Please report this to the AutgoGraph team. When filing the bug, set the verbosity to 10 (on Linux, `export AUTOGRAPH_VERBOSITY=10`) and attach the full output. Cause: converting <bound method Dense.call of <tensorflow.python.layers.core.Dense object at 0x7f09bd455810>>: AttributeError: module 'gast' has no attribute 'Index'\n"
     ]
    },
    {
     "name": "stdout",
     "output_type": "stream",
     "text": [
      "WARNING:tensorflow:Entity <bound method Dense.call of <tensorflow.python.layers.core.Dense object at 0x7f09bd455810>> could not be transformed and will be executed as-is. Please report this to the AutgoGraph team. When filing the bug, set the verbosity to 10 (on Linux, `export AUTOGRAPH_VERBOSITY=10`) and attach the full output. Cause: converting <bound method Dense.call of <tensorflow.python.layers.core.Dense object at 0x7f09bd455810>>: AttributeError: module 'gast' has no attribute 'Index'\n",
      "WARNING: Entity <bound method Dense.call of <tensorflow.python.layers.core.Dense object at 0x7f09bd455810>> could not be transformed and will be executed as-is. Please report this to the AutgoGraph team. When filing the bug, set the verbosity to 10 (on Linux, `export AUTOGRAPH_VERBOSITY=10`) and attach the full output. Cause: converting <bound method Dense.call of <tensorflow.python.layers.core.Dense object at 0x7f09bd455810>>: AttributeError: module 'gast' has no attribute 'Index'\n",
      "WARNING:tensorflow:From /home/samuel/ns-allinone-3.29/ns-3.29/scratch/RLinWiFi-master-original-queue-level-mean/agents/dqn/model.py:69: The name tf.losses.mean_squared_error is deprecated. Please use tf.compat.v1.losses.mean_squared_error instead.\n",
      "\n",
      "WARNING:tensorflow:From /home/samuel/anaconda3/envs/myEnv3_7/lib/python3.7/site-packages/tensorflow/python/ops/losses/losses_impl.py:121: add_dispatch_support.<locals>.wrapper (from tensorflow.python.ops.array_ops) is deprecated and will be removed in a future version.\n",
      "Instructions for updating:\n",
      "Use tf.where in 2.0, which has the same broadcast rule as np.where\n",
      "WARNING:tensorflow:From /home/samuel/ns-allinone-3.29/ns-3.29/scratch/RLinWiFi-master-original-queue-level-mean/agents/dqn/model.py:77: The name tf.train.AdamOptimizer is deprecated. Please use tf.compat.v1.train.AdamOptimizer instead.\n",
      "\n",
      "WARNING:tensorflow:From /home/samuel/ns-allinone-3.29/ns-3.29/scratch/RLinWiFi-master-original-queue-level-mean/agents/dqn/model.py:33: The name tf.global_variables_initializer is deprecated. Please use tf.compat.v1.global_variables_initializer instead.\n",
      "\n",
      "WARNING:tensorflow:From /home/samuel/ns-allinone-3.29/ns-3.29/scratch/RLinWiFi-master-original-queue-level-mean/agents/dqn/model.py:34: The name tf.local_variables_initializer is deprecated. Please use tf.compat.v1.local_variables_initializer instead.\n",
      "\n",
      "WARNING:tensorflow:Entity <bound method LSTMCell.call of <tensorflow.python.ops.rnn_cell_impl.LSTMCell object at 0x7f0967b87f50>> could not be transformed and will be executed as-is. Please report this to the AutgoGraph team. When filing the bug, set the verbosity to 10 (on Linux, `export AUTOGRAPH_VERBOSITY=10`) and attach the full output. Cause: converting <bound method LSTMCell.call of <tensorflow.python.ops.rnn_cell_impl.LSTMCell object at 0x7f0967b87f50>>: AttributeError: module 'gast' has no attribute 'Index'\n",
      "WARNING: Entity <bound method LSTMCell.call of <tensorflow.python.ops.rnn_cell_impl.LSTMCell object at 0x7f0967b87f50>> could not be transformed and will be executed as-is. Please report this to the AutgoGraph team. When filing the bug, set the verbosity to 10 (on Linux, `export AUTOGRAPH_VERBOSITY=10`) and attach the full output. Cause: converting <bound method LSTMCell.call of <tensorflow.python.ops.rnn_cell_impl.LSTMCell object at 0x7f0967b87f50>>: AttributeError: module 'gast' has no attribute 'Index'\n",
      "WARNING:tensorflow:Entity <bound method LSTMCell.call of <tensorflow.python.ops.rnn_cell_impl.LSTMCell object at 0x7f0967b87f50>> could not be transformed and will be executed as-is. Please report this to the AutgoGraph team. When filing the bug, set the verbosity to 10 (on Linux, `export AUTOGRAPH_VERBOSITY=10`) and attach the full output. Cause: converting <bound method LSTMCell.call of <tensorflow.python.ops.rnn_cell_impl.LSTMCell object at 0x7f0967b87f50>>: AttributeError: module 'gast' has no attribute 'Index'\n"
     ]
    },
    {
     "name": "stderr",
     "output_type": "stream",
     "text": [
      "2023-02-13 02:30:46.668958: W tensorflow/compiler/jit/mark_for_compilation_pass.cc:1412] (One-time warning): Not using XLA:CPU for cluster because envvar TF_XLA_FLAGS=--tf_xla_cpu_global_jit was not set.  If you want XLA:CPU, either set that envvar, or use experimental_jit_scope to enable XLA:CPU.  To confirm that XLA is active, pass --vmodule=xla_compilation_cache=1 (as a proper command-line flag, not via TF_XLA_FLAGS) or set the envvar XLA_FLAGS=--xla_hlo_profile.\n"
     ]
    },
    {
     "name": "stdout",
     "output_type": "stream",
     "text": [
      "WARNING: Entity <bound method LSTMCell.call of <tensorflow.python.ops.rnn_cell_impl.LSTMCell object at 0x7f0967b87f50>> could not be transformed and will be executed as-is. Please report this to the AutgoGraph team. When filing the bug, set the verbosity to 10 (on Linux, `export AUTOGRAPH_VERBOSITY=10`) and attach the full output. Cause: converting <bound method LSTMCell.call of <tensorflow.python.ops.rnn_cell_impl.LSTMCell object at 0x7f0967b87f50>>: AttributeError: module 'gast' has no attribute 'Index'\n",
      "WARNING:tensorflow:Entity <bound method LSTMCell.call of <tensorflow.python.ops.rnn_cell_impl.LSTMCell object at 0x7f0967b87f50>> could not be transformed and will be executed as-is. Please report this to the AutgoGraph team. When filing the bug, set the verbosity to 10 (on Linux, `export AUTOGRAPH_VERBOSITY=10`) and attach the full output. Cause: converting <bound method LSTMCell.call of <tensorflow.python.ops.rnn_cell_impl.LSTMCell object at 0x7f0967b87f50>>: AttributeError: module 'gast' has no attribute 'Index'\n",
      "WARNING: Entity <bound method LSTMCell.call of <tensorflow.python.ops.rnn_cell_impl.LSTMCell object at 0x7f0967b87f50>> could not be transformed and will be executed as-is. Please report this to the AutgoGraph team. When filing the bug, set the verbosity to 10 (on Linux, `export AUTOGRAPH_VERBOSITY=10`) and attach the full output. Cause: converting <bound method LSTMCell.call of <tensorflow.python.ops.rnn_cell_impl.LSTMCell object at 0x7f0967b87f50>>: AttributeError: module 'gast' has no attribute 'Index'\n",
      "WARNING:tensorflow:Entity <bound method LSTMCell.call of <tensorflow.python.ops.rnn_cell_impl.LSTMCell object at 0x7f0967b87f50>> could not be transformed and will be executed as-is. Please report this to the AutgoGraph team. When filing the bug, set the verbosity to 10 (on Linux, `export AUTOGRAPH_VERBOSITY=10`) and attach the full output. Cause: converting <bound method LSTMCell.call of <tensorflow.python.ops.rnn_cell_impl.LSTMCell object at 0x7f0967b87f50>>: AttributeError: module 'gast' has no attribute 'Index'\n",
      "WARNING: Entity <bound method LSTMCell.call of <tensorflow.python.ops.rnn_cell_impl.LSTMCell object at 0x7f0967b87f50>> could not be transformed and will be executed as-is. Please report this to the AutgoGraph team. When filing the bug, set the verbosity to 10 (on Linux, `export AUTOGRAPH_VERBOSITY=10`) and attach the full output. Cause: converting <bound method LSTMCell.call of <tensorflow.python.ops.rnn_cell_impl.LSTMCell object at 0x7f0967b87f50>>: AttributeError: module 'gast' has no attribute 'Index'\n",
      "WARNING:tensorflow:Entity <bound method Dense.call of <tensorflow.python.layers.core.Dense object at 0x7f0967b87f50>> could not be transformed and will be executed as-is. Please report this to the AutgoGraph team. When filing the bug, set the verbosity to 10 (on Linux, `export AUTOGRAPH_VERBOSITY=10`) and attach the full output. Cause: converting <bound method Dense.call of <tensorflow.python.layers.core.Dense object at 0x7f0967b87f50>>: AttributeError: module 'gast' has no attribute 'Index'\n",
      "WARNING: Entity <bound method Dense.call of <tensorflow.python.layers.core.Dense object at 0x7f0967b87f50>> could not be transformed and will be executed as-is. Please report this to the AutgoGraph team. When filing the bug, set the verbosity to 10 (on Linux, `export AUTOGRAPH_VERBOSITY=10`) and attach the full output. Cause: converting <bound method Dense.call of <tensorflow.python.layers.core.Dense object at 0x7f0967b87f50>>: AttributeError: module 'gast' has no attribute 'Index'\n",
      "WARNING:tensorflow:Entity <bound method Dense.call of <tensorflow.python.layers.core.Dense object at 0x7f0967b87f50>> could not be transformed and will be executed as-is. Please report this to the AutgoGraph team. When filing the bug, set the verbosity to 10 (on Linux, `export AUTOGRAPH_VERBOSITY=10`) and attach the full output. Cause: converting <bound method Dense.call of <tensorflow.python.layers.core.Dense object at 0x7f0967b87f50>>: AttributeError: module 'gast' has no attribute 'Index'\n",
      "WARNING: Entity <bound method Dense.call of <tensorflow.python.layers.core.Dense object at 0x7f0967b87f50>> could not be transformed and will be executed as-is. Please report this to the AutgoGraph team. When filing the bug, set the verbosity to 10 (on Linux, `export AUTOGRAPH_VERBOSITY=10`) and attach the full output. Cause: converting <bound method Dense.call of <tensorflow.python.layers.core.Dense object at 0x7f0967b87f50>>: AttributeError: module 'gast' has no attribute 'Index'\n",
      "WARNING:tensorflow:Entity <bound method Dense.call of <tensorflow.python.layers.core.Dense object at 0x7f0967b87f50>> could not be transformed and will be executed as-is. Please report this to the AutgoGraph team. When filing the bug, set the verbosity to 10 (on Linux, `export AUTOGRAPH_VERBOSITY=10`) and attach the full output. Cause: converting <bound method Dense.call of <tensorflow.python.layers.core.Dense object at 0x7f0967b87f50>>: AttributeError: module 'gast' has no attribute 'Index'\n",
      "WARNING: Entity <bound method Dense.call of <tensorflow.python.layers.core.Dense object at 0x7f0967b87f50>> could not be transformed and will be executed as-is. Please report this to the AutgoGraph team. When filing the bug, set the verbosity to 10 (on Linux, `export AUTOGRAPH_VERBOSITY=10`) and attach the full output. Cause: converting <bound method Dense.call of <tensorflow.python.layers.core.Dense object at 0x7f0967b87f50>>: AttributeError: module 'gast' has no attribute 'Index'\n",
      "WARNING:tensorflow:From /home/samuel/ns-allinone-3.29/ns-3.29/scratch/RLinWiFi-master-original-queue-level-mean/agents/dqn/agent.py:77: The name tf.train.Saver is deprecated. Please use tf.compat.v1.train.Saver instead.\n",
      "\n",
      "Action space: 7\n",
      "WARNING:tensorflow:From /home/samuel/ns-allinone-3.29/ns-3.29/scratch/RLinWiFi-master-original-queue-level-mean/agents/dqn/agent.py:107: Variable.load (from tensorflow.python.ops.variables) is deprecated and will be removed in a future version.\n",
      "Instructions for updating:\n",
      "Prefer Variable.assign which has equivalent behavior in 2.X.\n"
     ]
    },
    {
     "name": "stderr",
     "output_type": "stream",
     "text": [
      "COMET INFO: Experiment is live on comet.ml https://www.comet.com/sheila-janota/rl-in-wifi-with-queue-level/79a633ec69f24591895d7c6302933e96\n",
      "\n",
      "  0%|          | 0/6300 [00:00<?, ?it/s]"
     ]
    },
    {
     "name": "stdout",
     "output_type": "stream",
     "text": [
      "0\n"
     ]
    },
    {
     "name": "stderr",
     "output_type": "stream",
     "text": [
      "  5%|▌         | 333/6300 [06:10<1:46:11,  1.07s/it, curr_speed=29.28 Mbps, mb_sent=9.37 Mb]"
     ]
    },
    {
     "name": "stdout",
     "output_type": "stream",
     "text": [
      "------- STARTED TRAINING -------\n"
     ]
    },
    {
     "name": "stderr",
     "output_type": "stream",
     "text": [
      "100%|██████████| 6300/6300 [1:55:36<00:00,  1.10s/it, curr_speed=31.93 Mbps, mb_sent=1956.72 Mb]  \n"
     ]
    },
    {
     "name": "stdout",
     "output_type": "stream",
     "text": [
      "Waiting for simulation script to connect on port: tcp://localhost:37990\n",
      "Please start proper ns-3 simulation script using ./waf --run \"...\"\n",
      "Waf: Entering directory `/home/samuel/ns-allinone-3.29/ns-3.29/build'\n",
      "Waf: Leaving directory `/home/samuel/ns-allinone-3.29/ns-3.29/build'\n",
      "Build commands will be stored in build/compile_commands.json\n",
      "'build' finished successfully (3.506s)\n"
     ]
    },
    {
     "name": "stderr",
     "output_type": "stream",
     "text": [
      "Ns3Env parameters:\n",
      "--nWifi: 30\n",
      "--simulationTime: 60\n",
      "--openGymPort: 37990\n",
      "--envStepTime: 0.01\n",
      "--seed: 42\n",
      "--agentType: discrete\n",
      "--scenario: basic\n",
      "--dryRun: 0\n",
      "Simulation started\n",
      "Simulation process id: 526187 (parent (waf shell) id: 526142)\n",
      "Waiting for Python process to connect on port: tcp://localhost:37990\n",
      "Please start proper Python Gym Agent\n",
      "  0%|          | 0/6300 [00:00<?, ?it/s]"
     ]
    },
    {
     "name": "stdout",
     "output_type": "stream",
     "text": [
      "Sent 1956.72 Mb/s.\tMean speed: 32.61 Mb/s\tEpisode 1/15 finished\n",
      "\n",
      "1\n"
     ]
    },
    {
     "name": "stderr",
     "output_type": "stream",
     "text": [
      "100%|██████████| 6300/6300 [1:55:42<00:00,  1.10s/it, curr_speed=33.59 Mbps, mb_sent=2058.62 Mb]  \n"
     ]
    },
    {
     "name": "stdout",
     "output_type": "stream",
     "text": [
      "Waiting for simulation script to connect on port: tcp://localhost:26446\n",
      "Please start proper ns-3 simulation script using ./waf --run \"...\"\n",
      "Waf: Entering directory `/home/samuel/ns-allinone-3.29/ns-3.29/build'\n",
      "Waf: Leaving directory `/home/samuel/ns-allinone-3.29/ns-3.29/build'\n",
      "Build commands will be stored in build/compile_commands.json\n",
      "'build' finished successfully (3.263s)\n"
     ]
    },
    {
     "name": "stderr",
     "output_type": "stream",
     "text": [
      "Ns3Env parameters:\n",
      "--nWifi: 30\n",
      "--simulationTime: 60\n",
      "--openGymPort: 26446\n",
      "--envStepTime: 0.01\n",
      "--seed: 42\n",
      "--agentType: discrete\n",
      "--scenario: basic\n",
      "--dryRun: 0\n",
      "Simulation started\n",
      "Simulation process id: 583252 (parent (waf shell) id: 583210)\n",
      "Waiting for Python process to connect on port: tcp://localhost:26446\n",
      "Please start proper Python Gym Agent\n",
      "  0%|          | 0/6300 [00:00<?, ?it/s]"
     ]
    },
    {
     "name": "stdout",
     "output_type": "stream",
     "text": [
      "Sent 2058.62 Mb/s.\tMean speed: 34.31 Mb/s\tEpisode 2/15 finished\n",
      "\n",
      "2\n"
     ]
    },
    {
     "name": "stderr",
     "output_type": "stream",
     "text": [
      "100%|██████████| 6300/6300 [1:49:07<00:00,  1.04s/it, curr_speed=36.37 Mbps, mb_sent=2122.66 Mb]\n"
     ]
    },
    {
     "name": "stdout",
     "output_type": "stream",
     "text": [
      "Waiting for simulation script to connect on port: tcp://localhost:16851\n",
      "Please start proper ns-3 simulation script using ./waf --run \"...\"\n",
      "Waf: Entering directory `/home/samuel/ns-allinone-3.29/ns-3.29/build'\n",
      "Waf: Leaving directory `/home/samuel/ns-allinone-3.29/ns-3.29/build'\n",
      "Build commands will be stored in build/compile_commands.json\n",
      "'build' finished successfully (4.044s)\n"
     ]
    },
    {
     "name": "stderr",
     "output_type": "stream",
     "text": [
      "Ns3Env parameters:\n",
      "--nWifi: 30\n",
      "--simulationTime: 60\n",
      "--openGymPort: 16851\n",
      "--envStepTime: 0.01\n",
      "--seed: 42\n",
      "--agentType: discrete\n",
      "--scenario: basic\n",
      "--dryRun: 0\n",
      "Simulation started\n",
      "Simulation process id: 625966 (parent (waf shell) id: 625917)\n",
      "Waiting for Python process to connect on port: tcp://localhost:16851\n",
      "Please start proper Python Gym Agent\n",
      "  0%|          | 0/6300 [00:00<?, ?it/s]"
     ]
    },
    {
     "name": "stdout",
     "output_type": "stream",
     "text": [
      "Sent 2122.66 Mb/s.\tMean speed: 35.38 Mb/s\tEpisode 3/15 finished\n",
      "\n",
      "3\n"
     ]
    },
    {
     "name": "stderr",
     "output_type": "stream",
     "text": [
      "  5%|▍         | 304/6300 [05:15<1:52:41,  1.13s/it, curr_speed=34.63 Mbps, mb_sent=1.04 Mb]"
     ]
    },
    {
     "name": "stdout",
     "output_type": "stream",
     "text": [
      "------- MEMORY BUFFER FILLED -------\n"
     ]
    },
    {
     "name": "stderr",
     "output_type": "stream",
     "text": [
      "100%|██████████| 6300/6300 [1:58:24<00:00,  1.13s/it, curr_speed=35.75 Mbps, mb_sent=2169.39 Mb]  \n"
     ]
    },
    {
     "name": "stdout",
     "output_type": "stream",
     "text": [
      "Waiting for simulation script to connect on port: tcp://localhost:35838\n",
      "Please start proper ns-3 simulation script using ./waf --run \"...\"\n",
      "Waf: Entering directory `/home/samuel/ns-allinone-3.29/ns-3.29/build'\n",
      "Waf: Leaving directory `/home/samuel/ns-allinone-3.29/ns-3.29/build'\n",
      "Build commands will be stored in build/compile_commands.json\n",
      "'build' finished successfully (3.938s)\n"
     ]
    },
    {
     "name": "stderr",
     "output_type": "stream",
     "text": [
      "Ns3Env parameters:\n",
      "--nWifi: 30\n",
      "--simulationTime: 60\n",
      "--openGymPort: 35838\n",
      "--envStepTime: 0.01\n",
      "--seed: 42\n",
      "--agentType: discrete\n",
      "--scenario: basic\n",
      "--dryRun: 0\n",
      "Simulation started\n",
      "Simulation process id: 683009 (parent (waf shell) id: 682961)\n",
      "Waiting for Python process to connect on port: tcp://localhost:35838\n",
      "Please start proper Python Gym Agent\n",
      "  0%|          | 0/6300 [00:00<?, ?it/s]"
     ]
    },
    {
     "name": "stdout",
     "output_type": "stream",
     "text": [
      "Sent 2169.39 Mb/s.\tMean speed: 36.16 Mb/s\tEpisode 4/15 finished\n",
      "\n",
      "4\n"
     ]
    },
    {
     "name": "stderr",
     "output_type": "stream",
     "text": [
      "100%|██████████| 6300/6300 [1:59:40<00:00,  1.14s/it, curr_speed=37.19 Mbps, mb_sent=2204.96 Mb]  \n"
     ]
    },
    {
     "name": "stdout",
     "output_type": "stream",
     "text": [
      "Waiting for simulation script to connect on port: tcp://localhost:46771\n",
      "Please start proper ns-3 simulation script using ./waf --run \"...\"\n",
      "Waf: Entering directory `/home/samuel/ns-allinone-3.29/ns-3.29/build'\n",
      "Waf: Leaving directory `/home/samuel/ns-allinone-3.29/ns-3.29/build'\n",
      "Build commands will be stored in build/compile_commands.json\n",
      "'build' finished successfully (3.698s)\n"
     ]
    },
    {
     "name": "stderr",
     "output_type": "stream",
     "text": [
      "Ns3Env parameters:\n",
      "--nWifi: 30\n",
      "--simulationTime: 60\n",
      "--openGymPort: 46771\n",
      "--envStepTime: 0.01\n",
      "--seed: 42\n",
      "--agentType: discrete\n",
      "--scenario: basic\n",
      "--dryRun: 0\n",
      "Simulation started\n",
      "Simulation process id: 739885 (parent (waf shell) id: 739842)\n",
      "Waiting for Python process to connect on port: tcp://localhost:46771\n",
      "Please start proper Python Gym Agent\n",
      "  0%|          | 0/6300 [00:00<?, ?it/s]"
     ]
    },
    {
     "name": "stdout",
     "output_type": "stream",
     "text": [
      "Sent 2204.96 Mb/s.\tMean speed: 36.75 Mb/s\tEpisode 5/15 finished\n",
      "\n",
      "5\n"
     ]
    },
    {
     "name": "stderr",
     "output_type": "stream",
     "text": [
      " 34%|███▍      | 2131/6300 [39:36<1:22:14,  1.18s/it, curr_speed=37.16 Mbps, mb_sent=677.75 Mb]COMET ERROR: File could not be uploaded\n",
      " 34%|███▍      | 2158/6300 [40:06<1:12:45,  1.05s/it, curr_speed=37.13 Mbps, mb_sent=687.72 Mb]COMET ERROR: File could not be uploaded\n",
      " 35%|███▍      | 2190/6300 [40:41<1:11:44,  1.05s/it, curr_speed=37.37 Mbps, mb_sent=699.87 Mb]COMET ERROR: File could not be uploaded\n",
      " 35%|███▌      | 2209/6300 [41:01<1:13:28,  1.08s/it, curr_speed=37.32 Mbps, mb_sent=706.94 Mb]COMET ERROR: File could not be uploaded\n",
      " 35%|███▌      | 2227/6300 [41:20<1:17:34,  1.14s/it, curr_speed=37.47 Mbps, mb_sent=713.75 Mb]COMET ERROR: File could not be uploaded\n",
      " 82%|████████▏ | 5141/6300 [1:36:11<22:11,  1.15s/it, curr_speed=36.32 Mbps, mb_sent=1788.70 Mb]  COMET ERROR: File could not be uploaded\n",
      "COMET ERROR: File could not be uploaded\n",
      "COMET ERROR: File could not be uploaded\n",
      "COMET ERROR: File could not be uploaded\n",
      "COMET ERROR: File could not be uploaded\n",
      "COMET ERROR: File could not be uploaded\n",
      "COMET ERROR: File could not be uploaded\n",
      "COMET ERROR: File could not be uploaded\n",
      "COMET ERROR: File could not be uploaded\n",
      " 82%|████████▏ | 5142/6300 [1:36:12<22:32,  1.17s/it, curr_speed=36.37 Mbps, mb_sent=1789.08 Mb]COMET ERROR: File could not be uploaded\n",
      " 82%|████████▏ | 5143/6300 [1:36:13<22:40,  1.18s/it, curr_speed=36.30 Mbps, mb_sent=1789.38 Mb]COMET ERROR: File could not be uploaded\n",
      " 82%|████████▏ | 5144/6300 [1:36:14<22:53,  1.19s/it, curr_speed=36.27 Mbps, mb_sent=1789.73 Mb]COMET ERROR: File could not be uploaded\n",
      " 82%|████████▏ | 5145/6300 [1:36:15<22:54,  1.19s/it, curr_speed=36.18 Mbps, mb_sent=1790.06 Mb]COMET ERROR: File could not be uploaded\n",
      " 82%|████████▏ | 5146/6300 [1:36:17<23:13,  1.21s/it, curr_speed=36.16 Mbps, mb_sent=1790.42 Mb]COMET ERROR: File could not be uploaded\n",
      " 82%|████████▏ | 5146/6300 [1:36:18<23:13,  1.21s/it, curr_speed=36.11 Mbps, mb_sent=1790.77 Mb]COMET ERROR: File could not be uploaded\n",
      " 82%|████████▏ | 5148/6300 [1:36:19<23:21,  1.22s/it, curr_speed=36.12 Mbps, mb_sent=1791.12 Mb]COMET ERROR: File could not be uploaded\n",
      " 82%|████████▏ | 5149/6300 [1:36:20<23:11,  1.21s/it, curr_speed=36.18 Mbps, mb_sent=1791.51 Mb]COMET ERROR: File could not be uploaded\n",
      " 82%|████████▏ | 5150/6300 [1:36:22<23:05,  1.20s/it, curr_speed=36.12 Mbps, mb_sent=1791.81 Mb]COMET ERROR: File could not be uploaded\n",
      " 82%|████████▏ | 5151/6300 [1:36:23<23:24,  1.22s/it, curr_speed=36.13 Mbps, mb_sent=1792.18 Mb]COMET ERROR: File could not be uploaded\n",
      " 82%|████████▏ | 5152/6300 [1:36:24<22:53,  1.20s/it, curr_speed=36.18 Mbps, mb_sent=1792.56 Mb]COMET ERROR: File could not be uploaded\n",
      " 82%|████████▏ | 5153/6300 [1:36:25<23:03,  1.21s/it, curr_speed=36.22 Mbps, mb_sent=1792.95 Mb]COMET ERROR: File could not be uploaded\n",
      " 82%|████████▏ | 5154/6300 [1:36:26<23:09,  1.21s/it, curr_speed=36.14 Mbps, mb_sent=1793.27 Mb]COMET ERROR: File could not be uploaded\n",
      " 82%|████████▏ | 5154/6300 [1:36:28<23:09,  1.21s/it, curr_speed=36.14 Mbps, mb_sent=1793.61 Mb]COMET ERROR: File could not be uploaded\n",
      " 82%|████████▏ | 5155/6300 [1:36:29<22:59,  1.20s/it, curr_speed=36.11 Mbps, mb_sent=1793.93 Mb]COMET ERROR: File could not be uploaded\n",
      " 82%|████████▏ | 5157/6300 [1:36:30<23:32,  1.24s/it, curr_speed=36.04 Mbps, mb_sent=1794.26 Mb]COMET ERROR: File could not be uploaded\n",
      " 82%|████████▏ | 5158/6300 [1:36:31<22:31,  1.18s/it, curr_speed=36.05 Mbps, mb_sent=1794.65 Mb]COMET ERROR: File could not be uploaded\n",
      " 82%|████████▏ | 5159/6300 [1:36:32<21:18,  1.12s/it, curr_speed=36.08 Mbps, mb_sent=1795.04 Mb]COMET ERROR: File could not be uploaded\n",
      " 82%|████████▏ | 5159/6300 [1:36:33<21:18,  1.12s/it, curr_speed=36.03 Mbps, mb_sent=1795.37 Mb]COMET ERROR: File could not be uploaded\n",
      " 82%|████████▏ | 5161/6300 [1:36:34<21:04,  1.11s/it, curr_speed=35.99 Mbps, mb_sent=1795.73 Mb]COMET ERROR: File could not be uploaded\n",
      " 82%|████████▏ | 5162/6300 [1:36:35<20:54,  1.10s/it, curr_speed=35.92 Mbps, mb_sent=1796.04 Mb]COMET ERROR: File could not be uploaded\n",
      " 82%|████████▏ | 5163/6300 [1:36:37<20:40,  1.09s/it, curr_speed=35.94 Mbps, mb_sent=1796.44 Mb]COMET ERROR: File could not be uploaded\n",
      " 82%|████████▏ | 5164/6300 [1:36:38<20:01,  1.06s/it, curr_speed=35.88 Mbps, mb_sent=1796.75 Mb]COMET ERROR: File could not be uploaded\n",
      " 82%|████████▏ | 5165/6300 [1:36:38<19:21,  1.02s/it, curr_speed=35.89 Mbps, mb_sent=1797.09 Mb]COMET ERROR: File could not be uploaded\n",
      " 82%|████████▏ | 5166/6300 [1:36:40<20:27,  1.08s/it, curr_speed=35.90 Mbps, mb_sent=1797.44 Mb]COMET ERROR: File could not be uploaded\n",
      " 82%|████████▏ | 5167/6300 [1:36:41<20:33,  1.09s/it, curr_speed=35.84 Mbps, mb_sent=1797.79 Mb]COMET ERROR: File could not be uploaded\n",
      " 82%|████████▏ | 5168/6300 [1:36:42<21:03,  1.12s/it, curr_speed=35.79 Mbps, mb_sent=1798.13 Mb]COMET ERROR: File could not be uploaded\n",
      " 82%|████████▏ | 5169/6300 [1:36:43<21:22,  1.13s/it, curr_speed=35.84 Mbps, mb_sent=1798.54 Mb]COMET ERROR: File could not be uploaded\n",
      " 82%|████████▏ | 5169/6300 [1:36:45<21:22,  1.13s/it, curr_speed=35.82 Mbps, mb_sent=1798.88 Mb]COMET ERROR: File could not be uploaded\n",
      " 82%|████████▏ | 5170/6300 [1:36:46<23:13,  1.23s/it, curr_speed=35.81 Mbps, mb_sent=1799.24 Mb]COMET ERROR: File could not be uploaded\n",
      " 82%|████████▏ | 5172/6300 [1:36:47<22:19,  1.19s/it, curr_speed=35.75 Mbps, mb_sent=1799.55 Mb]COMET ERROR: File could not be uploaded\n",
      " 82%|████████▏ | 5173/6300 [1:36:48<22:28,  1.20s/it, curr_speed=35.74 Mbps, mb_sent=1799.93 Mb]COMET ERROR: File could not be uploaded\n",
      " 82%|████████▏ | 5174/6300 [1:36:49<22:04,  1.18s/it, curr_speed=35.76 Mbps, mb_sent=1800.27 Mb]COMET ERROR: File could not be uploaded\n",
      " 82%|████████▏ | 5175/6300 [1:36:51<22:18,  1.19s/it, curr_speed=35.78 Mbps, mb_sent=1800.62 Mb]COMET ERROR: File could not be uploaded\n",
      " 82%|████████▏ | 5176/6300 [1:36:52<21:41,  1.16s/it, curr_speed=35.84 Mbps, mb_sent=1801.02 Mb]COMET ERROR: File could not be uploaded\n",
      " 82%|████████▏ | 5177/6300 [1:36:53<22:37,  1.21s/it, curr_speed=35.78 Mbps, mb_sent=1801.35 Mb]COMET ERROR: File could not be uploaded\n",
      " 82%|████████▏ | 5178/6300 [1:36:54<22:50,  1.22s/it, curr_speed=35.75 Mbps, mb_sent=1801.70 Mb]COMET ERROR: File could not be uploaded\n",
      " 82%|████████▏ | 5179/6300 [1:36:55<23:04,  1.24s/it, curr_speed=35.79 Mbps, mb_sent=1802.05 Mb]COMET ERROR: File could not be uploaded\n",
      " 82%|████████▏ | 5180/6300 [1:36:57<23:44,  1.27s/it, curr_speed=35.87 Mbps, mb_sent=1802.44 Mb]COMET ERROR: File could not be uploaded\n",
      " 82%|████████▏ | 5181/6300 [1:36:58<24:26,  1.31s/it, curr_speed=35.80 Mbps, mb_sent=1802.78 Mb]COMET ERROR: File could not be uploaded\n",
      " 82%|████████▏ | 5182/6300 [1:36:59<23:33,  1.26s/it, curr_speed=35.75 Mbps, mb_sent=1803.10 Mb]COMET ERROR: File could not be uploaded\n",
      " 82%|████████▏ | 5183/6300 [1:37:01<23:23,  1.26s/it, curr_speed=35.71 Mbps, mb_sent=1803.42 Mb]COMET ERROR: File could not be uploaded\n",
      " 82%|████████▏ | 5183/6300 [1:37:02<23:23,  1.26s/it, curr_speed=35.70 Mbps, mb_sent=1803.77 Mb]COMET ERROR: File could not be uploaded\n",
      " 82%|████████▏ | 5185/6300 [1:37:03<21:59,  1.18s/it, curr_speed=35.64 Mbps, mb_sent=1804.10 Mb]COMET ERROR: File could not be uploaded\n",
      " 82%|████████▏ | 5186/6300 [1:37:04<20:53,  1.13s/it, curr_speed=35.57 Mbps, mb_sent=1804.42 Mb]COMET ERROR: File could not be uploaded\n",
      " 82%|████████▏ | 5187/6300 [1:37:05<21:35,  1.16s/it, curr_speed=35.59 Mbps, mb_sent=1804.79 Mb]COMET ERROR: File could not be uploaded\n",
      " 82%|████████▏ | 5188/6300 [1:37:06<22:21,  1.21s/it, curr_speed=35.60 Mbps, mb_sent=1805.18 Mb]COMET ERROR: File could not be uploaded\n",
      " 82%|████████▏ | 5189/6300 [1:37:08<22:46,  1.23s/it, curr_speed=35.55 Mbps, mb_sent=1805.54 Mb]COMET ERROR: File could not be uploaded\n",
      " 82%|████████▏ | 5190/6300 [1:37:09<23:34,  1.27s/it, curr_speed=35.61 Mbps, mb_sent=1805.90 Mb]COMET ERROR: File could not be uploaded\n",
      " 82%|████████▏ | 5191/6300 [1:37:10<23:48,  1.29s/it, curr_speed=35.59 Mbps, mb_sent=1806.24 Mb]COMET ERROR: File could not be uploaded\n",
      " 82%|████████▏ | 5192/6300 [1:37:12<23:38,  1.28s/it, curr_speed=35.60 Mbps, mb_sent=1806.61 Mb]COMET ERROR: File could not be uploaded\n",
      " 82%|████████▏ | 5193/6300 [1:37:13<23:31,  1.28s/it, curr_speed=35.56 Mbps, mb_sent=1806.97 Mb]COMET ERROR: File could not be uploaded\n"
     ]
    },
    {
     "name": "stderr",
     "output_type": "stream",
     "text": [
      " 82%|████████▏ | 5194/6300 [1:37:14<22:13,  1.21s/it, curr_speed=35.59 Mbps, mb_sent=1807.35 Mb]COMET ERROR: File could not be uploaded\n",
      " 82%|████████▏ | 5195/6300 [1:37:15<21:31,  1.17s/it, curr_speed=35.59 Mbps, mb_sent=1807.69 Mb]COMET ERROR: File could not be uploaded\n",
      " 82%|████████▏ | 5196/6300 [1:37:16<22:24,  1.22s/it, curr_speed=35.62 Mbps, mb_sent=1808.05 Mb]COMET ERROR: File could not be uploaded\n",
      "COMET ERROR: File could not be uploaded\n",
      " 83%|████████▎ | 5198/6300 [1:37:19<22:26,  1.22s/it, curr_speed=35.65 Mbps, mb_sent=1808.78 Mb]COMET ERROR: File could not be uploaded\n",
      " 83%|████████▎ | 5199/6300 [1:37:20<21:46,  1.19s/it, curr_speed=35.69 Mbps, mb_sent=1809.16 Mb]COMET ERROR: File could not be uploaded\n",
      " 83%|████████▎ | 5199/6300 [1:37:21<21:46,  1.19s/it, curr_speed=35.68 Mbps, mb_sent=1809.55 Mb]COMET ERROR: File could not be uploaded\n",
      " 83%|████████▎ | 5201/6300 [1:37:22<21:04,  1.15s/it, curr_speed=35.70 Mbps, mb_sent=1809.93 Mb]COMET ERROR: File could not be uploaded\n",
      " 83%|████████▎ | 5202/6300 [1:37:23<21:31,  1.18s/it, curr_speed=35.74 Mbps, mb_sent=1810.32 Mb]COMET ERROR: File could not be uploaded\n",
      " 83%|████████▎ | 5203/6300 [1:37:25<22:34,  1.23s/it, curr_speed=35.69 Mbps, mb_sent=1810.67 Mb]COMET ERROR: File could not be uploaded\n",
      " 83%|████████▎ | 5204/6300 [1:37:26<22:05,  1.21s/it, curr_speed=35.66 Mbps, mb_sent=1811.01 Mb]COMET ERROR: File could not be uploaded\n",
      " 83%|████████▎ | 5205/6300 [1:37:27<22:12,  1.22s/it, curr_speed=35.69 Mbps, mb_sent=1811.39 Mb]COMET ERROR: File could not be uploaded\n",
      " 83%|████████▎ | 5206/6300 [1:37:28<21:51,  1.20s/it, curr_speed=35.65 Mbps, mb_sent=1811.74 Mb]COMET ERROR: File could not be uploaded\n",
      " 83%|████████▎ | 5207/6300 [1:37:30<22:11,  1.22s/it, curr_speed=35.65 Mbps, mb_sent=1812.11 Mb]COMET ERROR: File could not be uploaded\n",
      " 83%|████████▎ | 5208/6300 [1:37:31<22:04,  1.21s/it, curr_speed=35.68 Mbps, mb_sent=1812.50 Mb]COMET ERROR: File could not be uploaded\n",
      " 83%|████████▎ | 5209/6300 [1:37:32<22:03,  1.21s/it, curr_speed=35.66 Mbps, mb_sent=1812.84 Mb]COMET ERROR: File could not be uploaded\n",
      " 83%|████████▎ | 5210/6300 [1:37:33<22:41,  1.25s/it, curr_speed=35.69 Mbps, mb_sent=1813.20 Mb]COMET ERROR: File could not be uploaded\n",
      " 83%|████████▎ | 5211/6300 [1:37:35<23:51,  1.31s/it, curr_speed=35.61 Mbps, mb_sent=1813.52 Mb]COMET ERROR: File could not be uploaded\n",
      " 83%|████████▎ | 5212/6300 [1:37:36<23:24,  1.29s/it, curr_speed=35.55 Mbps, mb_sent=1813.87 Mb]COMET ERROR: File could not be uploaded\n",
      " 83%|████████▎ | 5213/6300 [1:37:37<22:42,  1.25s/it, curr_speed=35.59 Mbps, mb_sent=1814.25 Mb]COMET ERROR: File could not be uploaded\n",
      " 83%|████████▎ | 5214/6300 [1:37:38<22:41,  1.25s/it, curr_speed=35.57 Mbps, mb_sent=1814.61 Mb]COMET ERROR: File could not be uploaded\n",
      " 83%|████████▎ | 5215/6300 [1:37:40<22:51,  1.26s/it, curr_speed=35.59 Mbps, mb_sent=1814.95 Mb]COMET ERROR: File could not be uploaded\n",
      " 83%|████████▎ | 5216/6300 [1:37:41<22:53,  1.27s/it, curr_speed=35.51 Mbps, mb_sent=1815.27 Mb]COMET ERROR: File could not be uploaded\n",
      " 83%|████████▎ | 5217/6300 [1:37:42<23:05,  1.28s/it, curr_speed=35.49 Mbps, mb_sent=1815.62 Mb]COMET ERROR: File could not be uploaded\n",
      " 83%|████████▎ | 5218/6300 [1:37:44<22:53,  1.27s/it, curr_speed=35.47 Mbps, mb_sent=1815.94 Mb]COMET ERROR: File could not be uploaded\n",
      " 83%|████████▎ | 5219/6300 [1:37:45<23:15,  1.29s/it, curr_speed=35.45 Mbps, mb_sent=1816.28 Mb]COMET ERROR: File could not be uploaded\n",
      " 83%|████████▎ | 5220/6300 [1:37:46<22:47,  1.27s/it, curr_speed=35.45 Mbps, mb_sent=1816.62 Mb]COMET ERROR: File could not be uploaded\n",
      " 83%|████████▎ | 5221/6300 [1:37:47<22:20,  1.24s/it, curr_speed=35.46 Mbps, mb_sent=1816.97 Mb]COMET ERROR: File could not be uploaded\n",
      " 83%|████████▎ | 5221/6300 [1:37:49<22:20,  1.24s/it, curr_speed=35.50 Mbps, mb_sent=1817.32 Mb]COMET ERROR: File could not be uploaded\n",
      " 83%|████████▎ | 5243/6300 [1:38:15<20:48,  1.18s/it, curr_speed=35.31 Mbps, mb_sent=1824.68 Mb]COMET ERROR: File could not be uploaded\n",
      "100%|██████████| 6300/6300 [1:57:55<00:00,  1.12s/it, curr_speed=37.41 Mbps, mb_sent=2229.77 Mb]\n"
     ]
    },
    {
     "name": "stdout",
     "output_type": "stream",
     "text": [
      "Waiting for simulation script to connect on port: tcp://localhost:28817\n",
      "Please start proper ns-3 simulation script using ./waf --run \"...\"\n",
      "Waf: Entering directory `/home/samuel/ns-allinone-3.29/ns-3.29/build'\n",
      "Waf: Leaving directory `/home/samuel/ns-allinone-3.29/ns-3.29/build'\n",
      "Build commands will be stored in build/compile_commands.json\n",
      "'build' finished successfully (3.962s)\n"
     ]
    },
    {
     "name": "stderr",
     "output_type": "stream",
     "text": [
      "Ns3Env parameters:\n",
      "--nWifi: 30\n",
      "--simulationTime: 60\n",
      "--openGymPort: 28817\n",
      "--envStepTime: 0.01\n",
      "--seed: 42\n",
      "--agentType: discrete\n",
      "--scenario: basic\n",
      "--dryRun: 0\n",
      "Simulation started\n",
      "Simulation process id: 797309 (parent (waf shell) id: 797259)\n",
      "Waiting for Python process to connect on port: tcp://localhost:28817\n",
      "Please start proper Python Gym Agent\n",
      "  0%|          | 0/6300 [00:00<?, ?it/s]"
     ]
    },
    {
     "name": "stdout",
     "output_type": "stream",
     "text": [
      "Sent 2229.77 Mb/s.\tMean speed: 37.16 Mb/s\tEpisode 6/15 finished\n",
      "\n",
      "6\n"
     ]
    },
    {
     "name": "stderr",
     "output_type": "stream",
     "text": [
      "100%|██████████| 6300/6300 [1:56:45<00:00,  1.11s/it, curr_speed=37.26 Mbps, mb_sent=2240.82 Mb]  \n"
     ]
    },
    {
     "name": "stdout",
     "output_type": "stream",
     "text": [
      "Waiting for simulation script to connect on port: tcp://localhost:36101\n",
      "Please start proper ns-3 simulation script using ./waf --run \"...\"\n",
      "Waf: Entering directory `/home/samuel/ns-allinone-3.29/ns-3.29/build'\n",
      "Waf: Leaving directory `/home/samuel/ns-allinone-3.29/ns-3.29/build'\n",
      "Build commands will be stored in build/compile_commands.json\n",
      "'build' finished successfully (3.606s)\n"
     ]
    },
    {
     "name": "stderr",
     "output_type": "stream",
     "text": [
      "Ns3Env parameters:\n",
      "--nWifi: 30\n",
      "--simulationTime: 60\n",
      "--openGymPort: 36101\n",
      "--envStepTime: 0.01\n",
      "--seed: 42\n",
      "--agentType: discrete\n",
      "--scenario: basic\n",
      "--dryRun: 0\n",
      "Simulation started\n",
      "Simulation process id: 853697 (parent (waf shell) id: 853652)\n",
      "Waiting for Python process to connect on port: tcp://localhost:36101\n",
      "Please start proper Python Gym Agent\n",
      "  0%|          | 0/6300 [00:00<?, ?it/s]"
     ]
    },
    {
     "name": "stdout",
     "output_type": "stream",
     "text": [
      "Sent 2240.82 Mb/s.\tMean speed: 37.35 Mb/s\tEpisode 7/15 finished\n",
      "\n",
      "7\n"
     ]
    },
    {
     "name": "stderr",
     "output_type": "stream",
     "text": [
      "100%|██████████| 6300/6300 [1:47:53<00:00,  1.03s/it, curr_speed=36.90 Mbps, mb_sent=2237.91 Mb]\n"
     ]
    },
    {
     "name": "stdout",
     "output_type": "stream",
     "text": [
      "Waiting for simulation script to connect on port: tcp://localhost:28808\n",
      "Please start proper ns-3 simulation script using ./waf --run \"...\"\n",
      "Waf: Entering directory `/home/samuel/ns-allinone-3.29/ns-3.29/build'\n",
      "Waf: Leaving directory `/home/samuel/ns-allinone-3.29/ns-3.29/build'\n",
      "Build commands will be stored in build/compile_commands.json\n",
      "'build' finished successfully (3.698s)\n"
     ]
    },
    {
     "name": "stderr",
     "output_type": "stream",
     "text": [
      "Ns3Env parameters:\n",
      "--nWifi: 30\n",
      "--simulationTime: 60\n",
      "--openGymPort: 28808\n",
      "--envStepTime: 0.01\n",
      "--seed: 42\n",
      "--agentType: discrete\n",
      "--scenario: basic\n",
      "--dryRun: 0\n",
      "Simulation started\n",
      "Simulation process id: 895072 (parent (waf shell) id: 895025)\n",
      "Waiting for Python process to connect on port: tcp://localhost:28808\n",
      "Please start proper Python Gym Agent\n",
      "  0%|          | 0/6300 [00:00<?, ?it/s]"
     ]
    },
    {
     "name": "stdout",
     "output_type": "stream",
     "text": [
      "Sent 2237.91 Mb/s.\tMean speed: 37.30 Mb/s\tEpisode 8/15 finished\n",
      "\n",
      "8\n"
     ]
    },
    {
     "name": "stderr",
     "output_type": "stream",
     "text": [
      "100%|██████████| 6300/6300 [1:47:19<00:00,  1.02s/it, curr_speed=37.22 Mbps, mb_sent=2244.75 Mb]\n"
     ]
    },
    {
     "name": "stdout",
     "output_type": "stream",
     "text": [
      "Waiting for simulation script to connect on port: tcp://localhost:17734\n",
      "Please start proper ns-3 simulation script using ./waf --run \"...\"\n",
      "Waf: Entering directory `/home/samuel/ns-allinone-3.29/ns-3.29/build'\n",
      "Waf: Leaving directory `/home/samuel/ns-allinone-3.29/ns-3.29/build'\n",
      "Build commands will be stored in build/compile_commands.json\n",
      "'build' finished successfully (3.483s)\n"
     ]
    },
    {
     "name": "stderr",
     "output_type": "stream",
     "text": [
      "Ns3Env parameters:\n",
      "--nWifi: 30\n",
      "--simulationTime: 60\n",
      "--openGymPort: 17734\n",
      "--envStepTime: 0.01\n",
      "--seed: 42\n",
      "--agentType: discrete\n",
      "--scenario: basic\n",
      "--dryRun: 0\n",
      "Simulation started\n",
      "Simulation process id: 942577 (parent (waf shell) id: 942538)\n",
      "Waiting for Python process to connect on port: tcp://localhost:17734\n",
      "Please start proper Python Gym Agent\n",
      "  0%|          | 0/6300 [00:00<?, ?it/s]"
     ]
    },
    {
     "name": "stdout",
     "output_type": "stream",
     "text": [
      "Sent 2244.75 Mb/s.\tMean speed: 37.41 Mb/s\tEpisode 9/15 finished\n",
      "\n",
      "9\n"
     ]
    },
    {
     "name": "stderr",
     "output_type": "stream",
     "text": [
      "100%|██████████| 6300/6300 [1:37:27<00:00,  1.08it/s, curr_speed=37.72 Mbps, mb_sent=2245.28 Mb]\n"
     ]
    },
    {
     "name": "stdout",
     "output_type": "stream",
     "text": [
      "Waiting for simulation script to connect on port: tcp://localhost:23377\n",
      "Please start proper ns-3 simulation script using ./waf --run \"...\"\n",
      "Waf: Entering directory `/home/samuel/ns-allinone-3.29/ns-3.29/build'\n",
      "Waf: Leaving directory `/home/samuel/ns-allinone-3.29/ns-3.29/build'\n",
      "Build commands will be stored in build/compile_commands.json\n",
      "'build' finished successfully (2.717s)\n"
     ]
    },
    {
     "name": "stderr",
     "output_type": "stream",
     "text": [
      "Ns3Env parameters:\n",
      "--nWifi: 30\n",
      "--simulationTime: 60\n",
      "--openGymPort: 23377\n",
      "--envStepTime: 0.01\n",
      "--seed: 42\n",
      "--agentType: discrete\n",
      "--scenario: basic\n",
      "--dryRun: 0\n",
      "Simulation started\n",
      "Simulation process id: 985075 (parent (waf shell) id: 985045)\n",
      "Waiting for Python process to connect on port: tcp://localhost:23377\n",
      "Please start proper Python Gym Agent\n",
      "  0%|          | 0/6300 [00:00<?, ?it/s]"
     ]
    },
    {
     "name": "stdout",
     "output_type": "stream",
     "text": [
      "Sent 2245.28 Mb/s.\tMean speed: 37.42 Mb/s\tEpisode 10/15 finished\n",
      "\n",
      "10\n"
     ]
    },
    {
     "name": "stderr",
     "output_type": "stream",
     "text": [
      "100%|██████████| 6300/6300 [1:56:55<00:00,  1.11s/it, curr_speed=35.85 Mbps, mb_sent=2241.83 Mb]  \n"
     ]
    },
    {
     "name": "stdout",
     "output_type": "stream",
     "text": [
      "Waiting for simulation script to connect on port: tcp://localhost:47873\n",
      "Please start proper ns-3 simulation script using ./waf --run \"...\"\n",
      "Waf: Entering directory `/home/samuel/ns-allinone-3.29/ns-3.29/build'\n",
      "Waf: Leaving directory `/home/samuel/ns-allinone-3.29/ns-3.29/build'\n",
      "Build commands will be stored in build/compile_commands.json\n",
      "'build' finished successfully (3.995s)\n"
     ]
    },
    {
     "name": "stderr",
     "output_type": "stream",
     "text": [
      "Ns3Env parameters:\n",
      "--nWifi: 30\n",
      "--simulationTime: 60\n",
      "--openGymPort: 47873\n",
      "--envStepTime: 0.01\n",
      "--seed: 42\n",
      "--agentType: discrete\n",
      "--scenario: basic\n",
      "--dryRun: 0\n",
      "Simulation started\n",
      "Simulation process id: 1041361 (parent (waf shell) id: 1041328)\n",
      "Waiting for Python process to connect on port: tcp://localhost:47873\n",
      "Please start proper Python Gym Agent\n",
      "  0%|          | 0/6300 [00:00<?, ?it/s]"
     ]
    },
    {
     "name": "stdout",
     "output_type": "stream",
     "text": [
      "Sent 2241.83 Mb/s.\tMean speed: 37.36 Mb/s\tEpisode 11/15 finished\n",
      "\n",
      "11\n"
     ]
    },
    {
     "name": "stderr",
     "output_type": "stream",
     "text": [
      "100%|██████████| 6300/6300 [1:54:59<00:00,  1.10s/it, curr_speed=37.34 Mbps, mb_sent=2245.61 Mb]  \n"
     ]
    },
    {
     "name": "stdout",
     "output_type": "stream",
     "text": [
      "Waiting for simulation script to connect on port: tcp://localhost:48415\n",
      "Please start proper ns-3 simulation script using ./waf --run \"...\"\n",
      "Waf: Entering directory `/home/samuel/ns-allinone-3.29/ns-3.29/build'\n",
      "Waf: Leaving directory `/home/samuel/ns-allinone-3.29/ns-3.29/build'\n",
      "Build commands will be stored in build/compile_commands.json\n",
      "'build' finished successfully (3.452s)\n"
     ]
    },
    {
     "name": "stderr",
     "output_type": "stream",
     "text": [
      "Ns3Env parameters:\n",
      "--nWifi: 30\n",
      "--simulationTime: 60\n",
      "--openGymPort: 48415\n",
      "--envStepTime: 0.01\n",
      "--seed: 42\n",
      "--agentType: discrete\n",
      "--scenario: basic\n",
      "--dryRun: 0\n",
      "Simulation started\n"
     ]
    },
    {
     "name": "stdout",
     "output_type": "stream",
     "text": [
      "WARNING:tensorflow:From /home/samuel/anaconda3/envs/myEnv3_7/lib/python3.7/site-packages/tensorflow/python/training/saver.py:960: remove_checkpoint (from tensorflow.python.training.checkpoint_management) is deprecated and will be removed in a future version.\n",
      "Instructions for updating:\n",
      "Use standard file APIs to delete files with this prefix.\n"
     ]
    },
    {
     "name": "stderr",
     "output_type": "stream",
     "text": [
      "Simulation process id: 1098734 (parent (waf shell) id: 1098688)\n",
      "Waiting for Python process to connect on port: tcp://localhost:48415\n",
      "Please start proper Python Gym Agent\n",
      "  0%|          | 0/6300 [00:00<?, ?it/s]"
     ]
    },
    {
     "name": "stdout",
     "output_type": "stream",
     "text": [
      "Sent 2245.61 Mb/s.\tMean speed: 37.43 Mb/s\tEpisode 12/15 finished\n",
      "\n",
      "12\n",
      "Turning off noise\n"
     ]
    },
    {
     "name": "stderr",
     "output_type": "stream",
     "text": [
      "100%|██████████| 6300/6300 [1:33:40<00:00,  1.12it/s, curr_speed=37.60 Mbps, mb_sent=2250.04 Mb]\n"
     ]
    },
    {
     "name": "stdout",
     "output_type": "stream",
     "text": [
      "Waiting for simulation script to connect on port: tcp://localhost:20640\n",
      "Please start proper ns-3 simulation script using ./waf --run \"...\"\n",
      "Waf: Entering directory `/home/samuel/ns-allinone-3.29/ns-3.29/build'\n",
      "Waf: Leaving directory `/home/samuel/ns-allinone-3.29/ns-3.29/build'\n",
      "Build commands will be stored in build/compile_commands.json\n",
      "'build' finished successfully (2.880s)\n"
     ]
    },
    {
     "name": "stderr",
     "output_type": "stream",
     "text": [
      "Ns3Env parameters:\n",
      "--nWifi: 30\n",
      "--simulationTime: 60\n",
      "--openGymPort: 20640\n",
      "--envStepTime: 0.01\n",
      "--seed: 42\n",
      "--agentType: discrete\n",
      "--scenario: basic\n",
      "--dryRun: 0\n",
      "Simulation started\n",
      "Simulation process id: 1129530 (parent (waf shell) id: 1129499)\n",
      "Waiting for Python process to connect on port: tcp://localhost:20640\n",
      "Please start proper Python Gym Agent\n",
      "  0%|          | 0/6300 [00:00<?, ?it/s]"
     ]
    },
    {
     "name": "stdout",
     "output_type": "stream",
     "text": [
      "Sent 2250.04 Mb/s.\tMean speed: 37.50 Mb/s\tEpisode 13/15 finished\n",
      "\n",
      "13\n",
      "Turning off noise\n"
     ]
    },
    {
     "name": "stderr",
     "output_type": "stream",
     "text": [
      "100%|██████████| 6300/6300 [1:33:39<00:00,  1.12it/s, curr_speed=35.92 Mbps, mb_sent=2245.98 Mb]\n"
     ]
    },
    {
     "name": "stdout",
     "output_type": "stream",
     "text": [
      "Waiting for simulation script to connect on port: tcp://localhost:21394\n",
      "Please start proper ns-3 simulation script using ./waf --run \"...\"\n",
      "Waf: Entering directory `/home/samuel/ns-allinone-3.29/ns-3.29/build'\n",
      "Waf: Leaving directory `/home/samuel/ns-allinone-3.29/ns-3.29/build'\n",
      "Build commands will be stored in build/compile_commands.json\n",
      "'build' finished successfully (3.434s)\n"
     ]
    },
    {
     "name": "stderr",
     "output_type": "stream",
     "text": [
      "Ns3Env parameters:\n",
      "--nWifi: 30\n",
      "--simulationTime: 60\n",
      "--openGymPort: 21394\n",
      "--envStepTime: 0.01\n",
      "--seed: 42\n",
      "--agentType: discrete\n",
      "--scenario: basic\n",
      "--dryRun: 0\n",
      "Simulation started\n",
      "Simulation process id: 1160650 (parent (waf shell) id: 1160620)\n",
      "Waiting for Python process to connect on port: tcp://localhost:21394\n",
      "Please start proper Python Gym Agent\n",
      "  0%|          | 0/6300 [00:00<?, ?it/s]"
     ]
    },
    {
     "name": "stdout",
     "output_type": "stream",
     "text": [
      "Sent 2245.98 Mb/s.\tMean speed: 37.43 Mb/s\tEpisode 14/15 finished\n",
      "\n",
      "14\n",
      "Turning off noise\n"
     ]
    },
    {
     "name": "stderr",
     "output_type": "stream",
     "text": [
      "100%|██████████| 6300/6300 [1:32:15<00:00,  1.14it/s, curr_speed=37.40 Mbps, mb_sent=2255.04 Mb]\n"
     ]
    },
    {
     "name": "stdout",
     "output_type": "stream",
     "text": [
      "Waiting for simulation script to connect on port: tcp://localhost:16618\n",
      "Please start proper ns-3 simulation script using ./waf --run \"...\"\n",
      "Waf: Entering directory `/home/samuel/ns-allinone-3.29/ns-3.29/build'\n",
      "Waf: Leaving directory `/home/samuel/ns-allinone-3.29/ns-3.29/build'\n",
      "Build commands will be stored in build/compile_commands.json\n",
      "'build' finished successfully (2.850s)\n"
     ]
    },
    {
     "name": "stderr",
     "output_type": "stream",
     "text": [
      "Ns3Env parameters:\n",
      "--nWifi: 30\n",
      "--simulationTime: 60\n",
      "--openGymPort: 16618\n",
      "--envStepTime: 0.01\n",
      "--seed: 42\n",
      "--agentType: discrete\n",
      "--scenario: basic\n",
      "--dryRun: 0\n",
      "Simulation started\n",
      "Simulation process id: 1191554 (parent (waf shell) id: 1191525)\n",
      "Waiting for Python process to connect on port: tcp://localhost:16618\n",
      "Please start proper Python Gym Agent\n",
      "COMET INFO: ----------------------------\n",
      "COMET INFO: Comet.ml Experiment Summary:\n",
      "COMET INFO:   Data:\n",
      "COMET INFO:     url: https://www.comet.com/sheila-janota/rl-in-wifi-with-queue-level/79a633ec69f24591895d7c6302933e96\n",
      "COMET INFO:   Metrics [count] (min, max):\n",
      "COMET INFO:     Chosen CW [89985]           : (16.0, 1024.0)\n",
      "COMET INFO:     Cumulative reward [15]      : (2702.719970703125, 3157.0478515625)\n",
      "COMET INFO:     Current throughput [89985]  : (15.77124309539795, 94.03546905517578)\n",
      "COMET INFO:     Fairness index [89985]      : (nan, nan)\n",
      "COMET INFO:     Megabytes sent [89985]      : (0.2904050052165985, 2255.04155048728)\n",
      "COMET INFO:     Observation 0 [89985]       : (0.960589759449164, 0.9638370694716771)\n",
      "COMET INFO:     Observation 1 [89985]       : (0.020387305384664278, 0.03200395786698823)\n",
      "COMET INFO:     Per-ep reward [89985]       : (130.503662109375, 3157.0478515625)\n",
      "COMET INFO:     Round megabytes sent [89985]: (0.0, 11.82843017578125)\n",
      "COMET INFO:     Round reward [89985]        : (0.0, 0.789306640625)\n",
      "COMET INFO:     Speed [15]                  : (32.61195347200458, 37.58402584145467)\n",
      "COMET INFO:     Station count [89985]       : (30.0, 30.0)\n",
      "COMET INFO:     loss [89985]                : (0.0, 0.1812225952744484)\n",
      "COMET INFO:   Uploads:\n",
      "COMET INFO:     histogram3d: 89985\n",
      "COMET INFO: ----------------------------\n",
      "COMET INFO: Uploading stats to Comet before program termination (may take several seconds)\n"
     ]
    },
    {
     "name": "stdout",
     "output_type": "stream",
     "text": [
      "Sent 2255.04 Mb/s.\tMean speed: 37.58 Mb/s\tEpisode 15/15 finished\n",
      "\n",
      "Training finished.\n"
     ]
    },
    {
     "data": {
      "text/plain": [
       "'logger = teacher.eval(agent,\\n                        simTime=simTime,\\n                        stepTime=stepTime,\\n                        history_length=history_length,\\n                        tags=tags,\\n                        parameters=hyperparams)\\n'"
      ]
     },
     "execution_count": 3,
     "metadata": {},
     "output_type": "execute_result"
    }
   ],
   "source": [
    "#%%\n",
    "teacher = Teacher(env, 1, Preprocessor(False))\n",
    "\n",
    "lr = 4e-4\n",
    "config = Config(buffer_size=3*steps_per_ep*threads_no, batch_size=32, gamma=0.7, tau=1e-3, lr=lr, update_every=1)\n",
    "agent = Agent(QNetworkTf, history_length, action_size=7, config=config)\n",
    "agent.set_epsilon(0.9, 0.001, EPISODE_COUNT-2)\n",
    "\n",
    "# Test the model\n",
    "hyperparams = {**config.__dict__, **sim_args}\n",
    "tags = [\"Rew: normalized speed\",\n",
    "        \"Final\",\n",
    "        f\"{Agent.NAME}\",\n",
    "        sim_args['scenario'],\n",
    "        f\"LR: {lr}\",\n",
    "        f\"Instances: {threads_no}\",\n",
    "        f\"Station count: {sim_args['nWifi']}\",\n",
    "        *[f\"{key}: {sim_args[key]}\" for key in list(sim_args)[:3]]]\n",
    "# # agent.save()\n",
    "logger = teacher.train(agent, EPISODE_COUNT,\n",
    "                        simTime=simTime,\n",
    "                        stepTime=stepTime,\n",
    "                        history_length=history_length,\n",
    "                        send_logs=True,\n",
    "                        experimental=True,\n",
    "                        tags=tags,\n",
    "                        parameters=hyperparams)\n",
    "'''logger = teacher.eval(agent,\n",
    "                        simTime=simTime,\n",
    "                        stepTime=stepTime,\n",
    "                        history_length=history_length,\n",
    "                        tags=tags,\n",
    "                        parameters=hyperparams)\n",
    "'''\n",
    "# agent.save()\n",
    "\n",
    "\n",
    "# %%"
   ]
  },
  {
   "cell_type": "code",
   "execution_count": null,
   "id": "32d69ea0",
   "metadata": {},
   "outputs": [],
   "source": []
  },
  {
   "cell_type": "markdown",
   "id": "ccbdb7c2",
   "metadata": {},
   "source": [
    "# Execution num2:"
   ]
  },
  {
   "cell_type": "code",
   "execution_count": 1,
   "id": "f18e7a18",
   "metadata": {},
   "outputs": [
    {
     "name": "stderr",
     "output_type": "stream",
     "text": [
      "/home/samuel/anaconda3/envs/myEnv3_7/lib/python3.7/site-packages/tensorflow/python/framework/dtypes.py:516: FutureWarning: Passing (type, 1) or '1type' as a synonym of type is deprecated; in a future version of numpy, it will be understood as (type, (1,)) / '(1,)type'.\n",
      "  _np_qint8 = np.dtype([(\"qint8\", np.int8, 1)])\n",
      "/home/samuel/anaconda3/envs/myEnv3_7/lib/python3.7/site-packages/tensorflow/python/framework/dtypes.py:517: FutureWarning: Passing (type, 1) or '1type' as a synonym of type is deprecated; in a future version of numpy, it will be understood as (type, (1,)) / '(1,)type'.\n",
      "  _np_quint8 = np.dtype([(\"quint8\", np.uint8, 1)])\n",
      "/home/samuel/anaconda3/envs/myEnv3_7/lib/python3.7/site-packages/tensorflow/python/framework/dtypes.py:518: FutureWarning: Passing (type, 1) or '1type' as a synonym of type is deprecated; in a future version of numpy, it will be understood as (type, (1,)) / '(1,)type'.\n",
      "  _np_qint16 = np.dtype([(\"qint16\", np.int16, 1)])\n",
      "/home/samuel/anaconda3/envs/myEnv3_7/lib/python3.7/site-packages/tensorflow/python/framework/dtypes.py:519: FutureWarning: Passing (type, 1) or '1type' as a synonym of type is deprecated; in a future version of numpy, it will be understood as (type, (1,)) / '(1,)type'.\n",
      "  _np_quint16 = np.dtype([(\"quint16\", np.uint16, 1)])\n",
      "/home/samuel/anaconda3/envs/myEnv3_7/lib/python3.7/site-packages/tensorflow/python/framework/dtypes.py:520: FutureWarning: Passing (type, 1) or '1type' as a synonym of type is deprecated; in a future version of numpy, it will be understood as (type, (1,)) / '(1,)type'.\n",
      "  _np_qint32 = np.dtype([(\"qint32\", np.int32, 1)])\n",
      "/home/samuel/anaconda3/envs/myEnv3_7/lib/python3.7/site-packages/tensorflow/python/framework/dtypes.py:525: FutureWarning: Passing (type, 1) or '1type' as a synonym of type is deprecated; in a future version of numpy, it will be understood as (type, (1,)) / '(1,)type'.\n",
      "  np_resource = np.dtype([(\"resource\", np.ubyte, 1)])\n",
      "/home/samuel/anaconda3/envs/myEnv3_7/lib/python3.7/site-packages/tensorboard/compat/tensorflow_stub/dtypes.py:541: FutureWarning: Passing (type, 1) or '1type' as a synonym of type is deprecated; in a future version of numpy, it will be understood as (type, (1,)) / '(1,)type'.\n",
      "  _np_qint8 = np.dtype([(\"qint8\", np.int8, 1)])\n",
      "/home/samuel/anaconda3/envs/myEnv3_7/lib/python3.7/site-packages/tensorboard/compat/tensorflow_stub/dtypes.py:542: FutureWarning: Passing (type, 1) or '1type' as a synonym of type is deprecated; in a future version of numpy, it will be understood as (type, (1,)) / '(1,)type'.\n",
      "  _np_quint8 = np.dtype([(\"quint8\", np.uint8, 1)])\n",
      "/home/samuel/anaconda3/envs/myEnv3_7/lib/python3.7/site-packages/tensorboard/compat/tensorflow_stub/dtypes.py:543: FutureWarning: Passing (type, 1) or '1type' as a synonym of type is deprecated; in a future version of numpy, it will be understood as (type, (1,)) / '(1,)type'.\n",
      "  _np_qint16 = np.dtype([(\"qint16\", np.int16, 1)])\n",
      "/home/samuel/anaconda3/envs/myEnv3_7/lib/python3.7/site-packages/tensorboard/compat/tensorflow_stub/dtypes.py:544: FutureWarning: Passing (type, 1) or '1type' as a synonym of type is deprecated; in a future version of numpy, it will be understood as (type, (1,)) / '(1,)type'.\n",
      "  _np_quint16 = np.dtype([(\"quint16\", np.uint16, 1)])\n",
      "/home/samuel/anaconda3/envs/myEnv3_7/lib/python3.7/site-packages/tensorboard/compat/tensorflow_stub/dtypes.py:545: FutureWarning: Passing (type, 1) or '1type' as a synonym of type is deprecated; in a future version of numpy, it will be understood as (type, (1,)) / '(1,)type'.\n",
      "  _np_qint32 = np.dtype([(\"qint32\", np.int32, 1)])\n",
      "/home/samuel/anaconda3/envs/myEnv3_7/lib/python3.7/site-packages/tensorboard/compat/tensorflow_stub/dtypes.py:550: FutureWarning: Passing (type, 1) or '1type' as a synonym of type is deprecated; in a future version of numpy, it will be understood as (type, (1,)) / '(1,)type'.\n",
      "  np_resource = np.dtype([(\"resource\", np.ubyte, 1)])\n"
     ]
    }
   ],
   "source": [
    "#%%\n",
    "from ns3gym import ns3env\n",
    "from comet_ml import Experiment, Optimizer\n",
    "import tqdm\n",
    "import subprocess\n",
    "from collections import deque\n",
    "import numpy as np\n",
    "\n",
    "from agents.dqn.agent import Agent, Config\n",
    "from agents.dqn.model import QNetworkTf\n",
    "from agents.teacher import Teacher, EnvWrapper\n",
    "from preprocessor import Preprocessor"
   ]
  },
  {
   "cell_type": "code",
   "execution_count": 2,
   "id": "a866d787",
   "metadata": {},
   "outputs": [
    {
     "name": "stdout",
     "output_type": "stream",
     "text": [
      "Steps per episode: 6000\n",
      "Waiting for simulation script to connect on port: tcp://localhost:40908\n",
      "Please start proper ns-3 simulation script using ./waf --run \"...\"\n",
      "Waf: Entering directory `/home/samuel/ns-allinone-3.29/ns-3.29/build'\n",
      "Waf: Leaving directory `/home/samuel/ns-allinone-3.29/ns-3.29/build'\n",
      "Build commands will be stored in build/compile_commands.json\n",
      "'build' finished successfully (3.477s)\n"
     ]
    },
    {
     "name": "stderr",
     "output_type": "stream",
     "text": [
      "Ns3Env parameters:\n",
      "--nWifi: 30\n",
      "--simulationTime: 60\n",
      "--openGymPort: 40908\n",
      "--envStepTime: 0.01\n",
      "--seed: 42\n",
      "--agentType: discrete\n",
      "--scenario: basic\n",
      "--dryRun: 0\n",
      "Simulation started\n"
     ]
    },
    {
     "name": "stdout",
     "output_type": "stream",
     "text": [
      "Observation space shape: (1, 300)\n",
      "Action space shape: (1, 1)\n"
     ]
    },
    {
     "name": "stderr",
     "output_type": "stream",
     "text": [
      "Simulation process id: 1781288 (parent (waf shell) id: 1781251)\n",
      "Waiting for Python process to connect on port: tcp://localhost:40908\n",
      "Please start proper Python Gym Agent\n"
     ]
    }
   ],
   "source": [
    "#%%\n",
    "scenario = \"basic\"\n",
    "\n",
    "simTime = 60 # seconds\n",
    "stepTime = 0.01  # seconds\n",
    "history_length = 300\n",
    "\n",
    "EPISODE_COUNT = 15\n",
    "steps_per_ep = int(simTime/stepTime)\n",
    "\n",
    "sim_args = {\n",
    "    \"simTime\": simTime,\n",
    "    \"envStepTime\": stepTime,\n",
    "    \"historyLength\": history_length,\n",
    "    \"agentType\": Agent.TYPE,\n",
    "    \"scenario\": \"basic\",\n",
    "    \"nWifi\": 30,\n",
    "}\n",
    "\n",
    "print(\"Steps per episode:\", steps_per_ep)\n",
    "\n",
    "threads_no = 1\n",
    "env = EnvWrapper(threads_no, **sim_args)\n",
    "\n",
    "#%%\n",
    "env.reset()\n",
    "ob_space = env.observation_space\n",
    "ac_space = env.action_space\n",
    "\n",
    "print(\"Observation space shape:\", ob_space)\n",
    "print(\"Action space shape:\", ac_space)\n",
    "\n",
    "assert ob_space is not None"
   ]
  },
  {
   "cell_type": "code",
   "execution_count": 3,
   "id": "b9190eb6",
   "metadata": {},
   "outputs": [
    {
     "name": "stdout",
     "output_type": "stream",
     "text": [
      "WARNING:tensorflow:From /home/samuel/ns-allinone-3.29/ns-3.29/scratch/RLinWiFi-master-original-queue-level-mean/agents/dqn/agent.py:53: The name tf.Session is deprecated. Please use tf.compat.v1.Session instead.\n",
      "\n",
      "WARNING:tensorflow:From /home/samuel/ns-allinone-3.29/ns-3.29/scratch/RLinWiFi-master-original-queue-level-mean/agents/dqn/model.py:25: The name tf.variable_scope is deprecated. Please use tf.compat.v1.variable_scope instead.\n",
      "\n",
      "WARNING:tensorflow:From /home/samuel/ns-allinone-3.29/ns-3.29/scratch/RLinWiFi-master-original-queue-level-mean/agents/dqn/model.py:26: The name tf.placeholder is deprecated. Please use tf.compat.v1.placeholder instead.\n",
      "\n"
     ]
    },
    {
     "name": "stderr",
     "output_type": "stream",
     "text": [
      "2023-02-15 10:35:19.111222: I tensorflow/core/platform/cpu_feature_guard.cc:142] Your CPU supports instructions that this TensorFlow binary was not compiled to use: AVX2 FMA\n",
      "2023-02-15 10:35:19.135952: I tensorflow/core/platform/profile_utils/cpu_utils.cc:94] CPU Frequency: 3491795000 Hz\n",
      "2023-02-15 10:35:19.143951: I tensorflow/compiler/xla/service/service.cc:168] XLA service 0x5635e353ee00 executing computations on platform Host. Devices:\n",
      "2023-02-15 10:35:19.144227: I tensorflow/compiler/xla/service/service.cc:175]   StreamExecutor device (0): <undefined>, <undefined>\n"
     ]
    },
    {
     "name": "stdout",
     "output_type": "stream",
     "text": [
      "WARNING:tensorflow:\n",
      "The TensorFlow contrib module will not be included in TensorFlow 2.0.\n",
      "For more information, please see:\n",
      "  * https://github.com/tensorflow/community/blob/master/rfcs/20180907-contrib-sunset.md\n",
      "  * https://github.com/tensorflow/addons\n",
      "  * https://github.com/tensorflow/io (for I/O related ops)\n",
      "If you depend on functionality not listed there, please file an issue.\n",
      "\n",
      "WARNING:tensorflow:From /home/samuel/ns-allinone-3.29/ns-3.29/scratch/RLinWiFi-master-original-queue-level-mean/agents/dqn/model.py:52: LSTMCell.__init__ (from tensorflow.python.ops.rnn_cell_impl) is deprecated and will be removed in a future version.\n",
      "Instructions for updating:\n",
      "This class is equivalent as tf.keras.layers.LSTMCell, and will be replaced by that in Tensorflow 2.0.\n",
      "WARNING:tensorflow:From /home/samuel/ns-allinone-3.29/ns-3.29/scratch/RLinWiFi-master-original-queue-level-mean/agents/dqn/model.py:52: static_rnn (from tensorflow.python.ops.rnn) is deprecated and will be removed in a future version.\n",
      "Instructions for updating:\n",
      "Please use `keras.layers.RNN(cell, unroll=True)`, which is equivalent to this API\n",
      "WARNING:tensorflow:From /home/samuel/anaconda3/envs/myEnv3_7/lib/python3.7/site-packages/tensorflow/python/ops/init_ops.py:1251: calling VarianceScaling.__init__ (from tensorflow.python.ops.init_ops) with dtype is deprecated and will be removed in a future version.\n",
      "Instructions for updating:\n",
      "Call initializer instance with the dtype argument instead of passing it to the constructor\n",
      "WARNING:tensorflow:From /home/samuel/anaconda3/envs/myEnv3_7/lib/python3.7/site-packages/tensorflow/python/ops/rnn_cell_impl.py:961: calling Zeros.__init__ (from tensorflow.python.ops.init_ops) with dtype is deprecated and will be removed in a future version.\n",
      "Instructions for updating:\n",
      "Call initializer instance with the dtype argument instead of passing it to the constructor\n",
      "WARNING:tensorflow:Entity <bound method LSTMCell.call of <tensorflow.python.ops.rnn_cell_impl.LSTMCell object at 0x7f9a98838a90>> could not be transformed and will be executed as-is. Please report this to the AutgoGraph team. When filing the bug, set the verbosity to 10 (on Linux, `export AUTOGRAPH_VERBOSITY=10`) and attach the full output. Cause: converting <bound method LSTMCell.call of <tensorflow.python.ops.rnn_cell_impl.LSTMCell object at 0x7f9a98838a90>>: AttributeError: module 'gast' has no attribute 'Index'\n",
      "WARNING: Entity <bound method LSTMCell.call of <tensorflow.python.ops.rnn_cell_impl.LSTMCell object at 0x7f9a98838a90>> could not be transformed and will be executed as-is. Please report this to the AutgoGraph team. When filing the bug, set the verbosity to 10 (on Linux, `export AUTOGRAPH_VERBOSITY=10`) and attach the full output. Cause: converting <bound method LSTMCell.call of <tensorflow.python.ops.rnn_cell_impl.LSTMCell object at 0x7f9a98838a90>>: AttributeError: module 'gast' has no attribute 'Index'\n",
      "WARNING:tensorflow:Entity <bound method LSTMCell.call of <tensorflow.python.ops.rnn_cell_impl.LSTMCell object at 0x7f9a98838a90>> could not be transformed and will be executed as-is. Please report this to the AutgoGraph team. When filing the bug, set the verbosity to 10 (on Linux, `export AUTOGRAPH_VERBOSITY=10`) and attach the full output. Cause: converting <bound method LSTMCell.call of <tensorflow.python.ops.rnn_cell_impl.LSTMCell object at 0x7f9a98838a90>>: AttributeError: module 'gast' has no attribute 'Index'\n",
      "WARNING: Entity <bound method LSTMCell.call of <tensorflow.python.ops.rnn_cell_impl.LSTMCell object at 0x7f9a98838a90>> could not be transformed and will be executed as-is. Please report this to the AutgoGraph team. When filing the bug, set the verbosity to 10 (on Linux, `export AUTOGRAPH_VERBOSITY=10`) and attach the full output. Cause: converting <bound method LSTMCell.call of <tensorflow.python.ops.rnn_cell_impl.LSTMCell object at 0x7f9a98838a90>>: AttributeError: module 'gast' has no attribute 'Index'\n",
      "WARNING:tensorflow:Entity <bound method LSTMCell.call of <tensorflow.python.ops.rnn_cell_impl.LSTMCell object at 0x7f9a98838a90>> could not be transformed and will be executed as-is. Please report this to the AutgoGraph team. When filing the bug, set the verbosity to 10 (on Linux, `export AUTOGRAPH_VERBOSITY=10`) and attach the full output. Cause: converting <bound method LSTMCell.call of <tensorflow.python.ops.rnn_cell_impl.LSTMCell object at 0x7f9a98838a90>>: AttributeError: module 'gast' has no attribute 'Index'\n",
      "WARNING: Entity <bound method LSTMCell.call of <tensorflow.python.ops.rnn_cell_impl.LSTMCell object at 0x7f9a98838a90>> could not be transformed and will be executed as-is. Please report this to the AutgoGraph team. When filing the bug, set the verbosity to 10 (on Linux, `export AUTOGRAPH_VERBOSITY=10`) and attach the full output. Cause: converting <bound method LSTMCell.call of <tensorflow.python.ops.rnn_cell_impl.LSTMCell object at 0x7f9a98838a90>>: AttributeError: module 'gast' has no attribute 'Index'\n",
      "WARNING:tensorflow:Entity <bound method LSTMCell.call of <tensorflow.python.ops.rnn_cell_impl.LSTMCell object at 0x7f9a98838a90>> could not be transformed and will be executed as-is. Please report this to the AutgoGraph team. When filing the bug, set the verbosity to 10 (on Linux, `export AUTOGRAPH_VERBOSITY=10`) and attach the full output. Cause: converting <bound method LSTMCell.call of <tensorflow.python.ops.rnn_cell_impl.LSTMCell object at 0x7f9a98838a90>>: AttributeError: module 'gast' has no attribute 'Index'\n",
      "WARNING: Entity <bound method LSTMCell.call of <tensorflow.python.ops.rnn_cell_impl.LSTMCell object at 0x7f9a98838a90>> could not be transformed and will be executed as-is. Please report this to the AutgoGraph team. When filing the bug, set the verbosity to 10 (on Linux, `export AUTOGRAPH_VERBOSITY=10`) and attach the full output. Cause: converting <bound method LSTMCell.call of <tensorflow.python.ops.rnn_cell_impl.LSTMCell object at 0x7f9a98838a90>>: AttributeError: module 'gast' has no attribute 'Index'\n",
      "WARNING:tensorflow:From /home/samuel/ns-allinone-3.29/ns-3.29/scratch/RLinWiFi-master-original-queue-level-mean/agents/dqn/model.py:53: dense (from tensorflow.python.layers.core) is deprecated and will be removed in a future version.\n",
      "Instructions for updating:\n",
      "Use keras.layers.dense instead.\n",
      "WARNING:tensorflow:Entity <bound method Dense.call of <tensorflow.python.layers.core.Dense object at 0x7f9a98838a90>> could not be transformed and will be executed as-is. Please report this to the AutgoGraph team. When filing the bug, set the verbosity to 10 (on Linux, `export AUTOGRAPH_VERBOSITY=10`) and attach the full output. Cause: converting <bound method Dense.call of <tensorflow.python.layers.core.Dense object at 0x7f9a98838a90>>: AttributeError: module 'gast' has no attribute 'Index'\n",
      "WARNING: Entity <bound method Dense.call of <tensorflow.python.layers.core.Dense object at 0x7f9a98838a90>> could not be transformed and will be executed as-is. Please report this to the AutgoGraph team. When filing the bug, set the verbosity to 10 (on Linux, `export AUTOGRAPH_VERBOSITY=10`) and attach the full output. Cause: converting <bound method Dense.call of <tensorflow.python.layers.core.Dense object at 0x7f9a98838a90>>: AttributeError: module 'gast' has no attribute 'Index'\n",
      "WARNING:tensorflow:Entity <bound method Dense.call of <tensorflow.python.layers.core.Dense object at 0x7f9a98838a90>> could not be transformed and will be executed as-is. Please report this to the AutgoGraph team. When filing the bug, set the verbosity to 10 (on Linux, `export AUTOGRAPH_VERBOSITY=10`) and attach the full output. Cause: converting <bound method Dense.call of <tensorflow.python.layers.core.Dense object at 0x7f9a98838a90>>: AttributeError: module 'gast' has no attribute 'Index'\n",
      "WARNING: Entity <bound method Dense.call of <tensorflow.python.layers.core.Dense object at 0x7f9a98838a90>> could not be transformed and will be executed as-is. Please report this to the AutgoGraph team. When filing the bug, set the verbosity to 10 (on Linux, `export AUTOGRAPH_VERBOSITY=10`) and attach the full output. Cause: converting <bound method Dense.call of <tensorflow.python.layers.core.Dense object at 0x7f9a98838a90>>: AttributeError: module 'gast' has no attribute 'Index'\n"
     ]
    },
    {
     "name": "stdout",
     "output_type": "stream",
     "text": [
      "WARNING:tensorflow:Entity <bound method Dense.call of <tensorflow.python.layers.core.Dense object at 0x7f9a98838a90>> could not be transformed and will be executed as-is. Please report this to the AutgoGraph team. When filing the bug, set the verbosity to 10 (on Linux, `export AUTOGRAPH_VERBOSITY=10`) and attach the full output. Cause: converting <bound method Dense.call of <tensorflow.python.layers.core.Dense object at 0x7f9a98838a90>>: AttributeError: module 'gast' has no attribute 'Index'\n",
      "WARNING: Entity <bound method Dense.call of <tensorflow.python.layers.core.Dense object at 0x7f9a98838a90>> could not be transformed and will be executed as-is. Please report this to the AutgoGraph team. When filing the bug, set the verbosity to 10 (on Linux, `export AUTOGRAPH_VERBOSITY=10`) and attach the full output. Cause: converting <bound method Dense.call of <tensorflow.python.layers.core.Dense object at 0x7f9a98838a90>>: AttributeError: module 'gast' has no attribute 'Index'\n",
      "WARNING:tensorflow:From /home/samuel/ns-allinone-3.29/ns-3.29/scratch/RLinWiFi-master-original-queue-level-mean/agents/dqn/model.py:69: The name tf.losses.mean_squared_error is deprecated. Please use tf.compat.v1.losses.mean_squared_error instead.\n",
      "\n",
      "WARNING:tensorflow:From /home/samuel/anaconda3/envs/myEnv3_7/lib/python3.7/site-packages/tensorflow/python/ops/losses/losses_impl.py:121: add_dispatch_support.<locals>.wrapper (from tensorflow.python.ops.array_ops) is deprecated and will be removed in a future version.\n",
      "Instructions for updating:\n",
      "Use tf.where in 2.0, which has the same broadcast rule as np.where\n",
      "WARNING:tensorflow:From /home/samuel/ns-allinone-3.29/ns-3.29/scratch/RLinWiFi-master-original-queue-level-mean/agents/dqn/model.py:77: The name tf.train.AdamOptimizer is deprecated. Please use tf.compat.v1.train.AdamOptimizer instead.\n",
      "\n",
      "WARNING:tensorflow:From /home/samuel/ns-allinone-3.29/ns-3.29/scratch/RLinWiFi-master-original-queue-level-mean/agents/dqn/model.py:33: The name tf.global_variables_initializer is deprecated. Please use tf.compat.v1.global_variables_initializer instead.\n",
      "\n",
      "WARNING:tensorflow:From /home/samuel/ns-allinone-3.29/ns-3.29/scratch/RLinWiFi-master-original-queue-level-mean/agents/dqn/model.py:34: The name tf.local_variables_initializer is deprecated. Please use tf.compat.v1.local_variables_initializer instead.\n",
      "\n",
      "WARNING:tensorflow:Entity <bound method LSTMCell.call of <tensorflow.python.ops.rnn_cell_impl.LSTMCell object at 0x7f9a98422410>> could not be transformed and will be executed as-is. Please report this to the AutgoGraph team. When filing the bug, set the verbosity to 10 (on Linux, `export AUTOGRAPH_VERBOSITY=10`) and attach the full output. Cause: converting <bound method LSTMCell.call of <tensorflow.python.ops.rnn_cell_impl.LSTMCell object at 0x7f9a98422410>>: AttributeError: module 'gast' has no attribute 'Index'\n",
      "WARNING: Entity <bound method LSTMCell.call of <tensorflow.python.ops.rnn_cell_impl.LSTMCell object at 0x7f9a98422410>> could not be transformed and will be executed as-is. Please report this to the AutgoGraph team. When filing the bug, set the verbosity to 10 (on Linux, `export AUTOGRAPH_VERBOSITY=10`) and attach the full output. Cause: converting <bound method LSTMCell.call of <tensorflow.python.ops.rnn_cell_impl.LSTMCell object at 0x7f9a98422410>>: AttributeError: module 'gast' has no attribute 'Index'\n",
      "WARNING:tensorflow:Entity <bound method LSTMCell.call of <tensorflow.python.ops.rnn_cell_impl.LSTMCell object at 0x7f9a98422410>> could not be transformed and will be executed as-is. Please report this to the AutgoGraph team. When filing the bug, set the verbosity to 10 (on Linux, `export AUTOGRAPH_VERBOSITY=10`) and attach the full output. Cause: converting <bound method LSTMCell.call of <tensorflow.python.ops.rnn_cell_impl.LSTMCell object at 0x7f9a98422410>>: AttributeError: module 'gast' has no attribute 'Index'\n"
     ]
    },
    {
     "name": "stderr",
     "output_type": "stream",
     "text": [
      "2023-02-15 10:35:21.558607: W tensorflow/compiler/jit/mark_for_compilation_pass.cc:1412] (One-time warning): Not using XLA:CPU for cluster because envvar TF_XLA_FLAGS=--tf_xla_cpu_global_jit was not set.  If you want XLA:CPU, either set that envvar, or use experimental_jit_scope to enable XLA:CPU.  To confirm that XLA is active, pass --vmodule=xla_compilation_cache=1 (as a proper command-line flag, not via TF_XLA_FLAGS) or set the envvar XLA_FLAGS=--xla_hlo_profile.\n"
     ]
    },
    {
     "name": "stdout",
     "output_type": "stream",
     "text": [
      "WARNING: Entity <bound method LSTMCell.call of <tensorflow.python.ops.rnn_cell_impl.LSTMCell object at 0x7f9a98422410>> could not be transformed and will be executed as-is. Please report this to the AutgoGraph team. When filing the bug, set the verbosity to 10 (on Linux, `export AUTOGRAPH_VERBOSITY=10`) and attach the full output. Cause: converting <bound method LSTMCell.call of <tensorflow.python.ops.rnn_cell_impl.LSTMCell object at 0x7f9a98422410>>: AttributeError: module 'gast' has no attribute 'Index'\n",
      "WARNING:tensorflow:Entity <bound method LSTMCell.call of <tensorflow.python.ops.rnn_cell_impl.LSTMCell object at 0x7f9a98422410>> could not be transformed and will be executed as-is. Please report this to the AutgoGraph team. When filing the bug, set the verbosity to 10 (on Linux, `export AUTOGRAPH_VERBOSITY=10`) and attach the full output. Cause: converting <bound method LSTMCell.call of <tensorflow.python.ops.rnn_cell_impl.LSTMCell object at 0x7f9a98422410>>: AttributeError: module 'gast' has no attribute 'Index'\n",
      "WARNING: Entity <bound method LSTMCell.call of <tensorflow.python.ops.rnn_cell_impl.LSTMCell object at 0x7f9a98422410>> could not be transformed and will be executed as-is. Please report this to the AutgoGraph team. When filing the bug, set the verbosity to 10 (on Linux, `export AUTOGRAPH_VERBOSITY=10`) and attach the full output. Cause: converting <bound method LSTMCell.call of <tensorflow.python.ops.rnn_cell_impl.LSTMCell object at 0x7f9a98422410>>: AttributeError: module 'gast' has no attribute 'Index'\n",
      "WARNING:tensorflow:Entity <bound method LSTMCell.call of <tensorflow.python.ops.rnn_cell_impl.LSTMCell object at 0x7f9a98422410>> could not be transformed and will be executed as-is. Please report this to the AutgoGraph team. When filing the bug, set the verbosity to 10 (on Linux, `export AUTOGRAPH_VERBOSITY=10`) and attach the full output. Cause: converting <bound method LSTMCell.call of <tensorflow.python.ops.rnn_cell_impl.LSTMCell object at 0x7f9a98422410>>: AttributeError: module 'gast' has no attribute 'Index'\n",
      "WARNING: Entity <bound method LSTMCell.call of <tensorflow.python.ops.rnn_cell_impl.LSTMCell object at 0x7f9a98422410>> could not be transformed and will be executed as-is. Please report this to the AutgoGraph team. When filing the bug, set the verbosity to 10 (on Linux, `export AUTOGRAPH_VERBOSITY=10`) and attach the full output. Cause: converting <bound method LSTMCell.call of <tensorflow.python.ops.rnn_cell_impl.LSTMCell object at 0x7f9a98422410>>: AttributeError: module 'gast' has no attribute 'Index'\n",
      "WARNING:tensorflow:Entity <bound method Dense.call of <tensorflow.python.layers.core.Dense object at 0x7f9a98422410>> could not be transformed and will be executed as-is. Please report this to the AutgoGraph team. When filing the bug, set the verbosity to 10 (on Linux, `export AUTOGRAPH_VERBOSITY=10`) and attach the full output. Cause: converting <bound method Dense.call of <tensorflow.python.layers.core.Dense object at 0x7f9a98422410>>: AttributeError: module 'gast' has no attribute 'Index'\n",
      "WARNING: Entity <bound method Dense.call of <tensorflow.python.layers.core.Dense object at 0x7f9a98422410>> could not be transformed and will be executed as-is. Please report this to the AutgoGraph team. When filing the bug, set the verbosity to 10 (on Linux, `export AUTOGRAPH_VERBOSITY=10`) and attach the full output. Cause: converting <bound method Dense.call of <tensorflow.python.layers.core.Dense object at 0x7f9a98422410>>: AttributeError: module 'gast' has no attribute 'Index'\n",
      "WARNING:tensorflow:Entity <bound method Dense.call of <tensorflow.python.layers.core.Dense object at 0x7f9a98422410>> could not be transformed and will be executed as-is. Please report this to the AutgoGraph team. When filing the bug, set the verbosity to 10 (on Linux, `export AUTOGRAPH_VERBOSITY=10`) and attach the full output. Cause: converting <bound method Dense.call of <tensorflow.python.layers.core.Dense object at 0x7f9a98422410>>: AttributeError: module 'gast' has no attribute 'Index'\n",
      "WARNING: Entity <bound method Dense.call of <tensorflow.python.layers.core.Dense object at 0x7f9a98422410>> could not be transformed and will be executed as-is. Please report this to the AutgoGraph team. When filing the bug, set the verbosity to 10 (on Linux, `export AUTOGRAPH_VERBOSITY=10`) and attach the full output. Cause: converting <bound method Dense.call of <tensorflow.python.layers.core.Dense object at 0x7f9a98422410>>: AttributeError: module 'gast' has no attribute 'Index'\n",
      "WARNING:tensorflow:Entity <bound method Dense.call of <tensorflow.python.layers.core.Dense object at 0x7f9a98422410>> could not be transformed and will be executed as-is. Please report this to the AutgoGraph team. When filing the bug, set the verbosity to 10 (on Linux, `export AUTOGRAPH_VERBOSITY=10`) and attach the full output. Cause: converting <bound method Dense.call of <tensorflow.python.layers.core.Dense object at 0x7f9a98422410>>: AttributeError: module 'gast' has no attribute 'Index'\n",
      "WARNING: Entity <bound method Dense.call of <tensorflow.python.layers.core.Dense object at 0x7f9a98422410>> could not be transformed and will be executed as-is. Please report this to the AutgoGraph team. When filing the bug, set the verbosity to 10 (on Linux, `export AUTOGRAPH_VERBOSITY=10`) and attach the full output. Cause: converting <bound method Dense.call of <tensorflow.python.layers.core.Dense object at 0x7f9a98422410>>: AttributeError: module 'gast' has no attribute 'Index'\n",
      "WARNING:tensorflow:From /home/samuel/ns-allinone-3.29/ns-3.29/scratch/RLinWiFi-master-original-queue-level-mean/agents/dqn/agent.py:77: The name tf.train.Saver is deprecated. Please use tf.compat.v1.train.Saver instead.\n",
      "\n",
      "Action space: 7\n",
      "WARNING:tensorflow:From /home/samuel/ns-allinone-3.29/ns-3.29/scratch/RLinWiFi-master-original-queue-level-mean/agents/dqn/agent.py:107: Variable.load (from tensorflow.python.ops.variables) is deprecated and will be removed in a future version.\n",
      "Instructions for updating:\n",
      "Prefer Variable.assign which has equivalent behavior in 2.X.\n"
     ]
    },
    {
     "name": "stderr",
     "output_type": "stream",
     "text": [
      "COMET INFO: Experiment is live on comet.ml https://www.comet.com/sheila-janota/rl-in-wifi-with-queue-level/a404a81f20d84c3082a7742f73ed72e3\n",
      "\n",
      "  0%|          | 0/6300 [00:00<?, ?it/s]"
     ]
    },
    {
     "name": "stdout",
     "output_type": "stream",
     "text": [
      "0\n"
     ]
    },
    {
     "name": "stderr",
     "output_type": "stream",
     "text": [
      "  5%|▌         | 333/6300 [05:30<1:51:30,  1.12s/it, curr_speed=33.75 Mbps, mb_sent=10.80 Mb]"
     ]
    },
    {
     "name": "stdout",
     "output_type": "stream",
     "text": [
      "------- STARTED TRAINING -------\n"
     ]
    },
    {
     "name": "stderr",
     "output_type": "stream",
     "text": [
      " 61%|██████▏   | 3869/6300 [1:03:35<36:45,  1.10it/s, curr_speed=25.65 Mbps, mb_sent=1144.46 Mb]COMET ERROR: File could not be uploaded\n",
      " 62%|██████▏   | 3884/6300 [1:03:50<41:09,  1.02s/it, curr_speed=29.69 Mbps, mb_sent=1152.61 Mb]COMET ERROR: File could not be uploaded\n",
      " 62%|██████▏   | 3934/6300 [1:04:38<38:30,  1.02it/s, curr_speed=30.51 Mbps, mb_sent=1166.00 Mb]COMET ERROR: File could not be uploaded\n",
      " 92%|█████████▏| 5783/6300 [1:35:00<08:21,  1.03it/s, curr_speed=31.75 Mbps, mb_sent=1781.16 Mb]COMET ERROR: File could not be uploaded\n",
      "100%|██████████| 6300/6300 [1:43:29<00:00,  1.01it/s, curr_speed=31.48 Mbps, mb_sent=1947.97 Mb]\n"
     ]
    },
    {
     "name": "stdout",
     "output_type": "stream",
     "text": [
      "Waiting for simulation script to connect on port: tcp://localhost:53696\n",
      "Please start proper ns-3 simulation script using ./waf --run \"...\"\n",
      "Waf: Entering directory `/home/samuel/ns-allinone-3.29/ns-3.29/build'\n",
      "Waf: Leaving directory `/home/samuel/ns-allinone-3.29/ns-3.29/build'\n",
      "Build commands will be stored in build/compile_commands.json\n",
      "'build' finished successfully (3.330s)\n"
     ]
    },
    {
     "name": "stderr",
     "output_type": "stream",
     "text": [
      "Ns3Env parameters:\n",
      "--nWifi: 30\n",
      "--simulationTime: 60\n",
      "--openGymPort: 53696\n",
      "--envStepTime: 0.01\n",
      "--seed: 42\n",
      "--agentType: discrete\n",
      "--scenario: basic\n",
      "--dryRun: 0\n",
      "Simulation started\n",
      "Simulation process id: 1834762 (parent (waf shell) id: 1834720)\n",
      "Waiting for Python process to connect on port: tcp://localhost:53696\n",
      "Please start proper Python Gym Agent\n",
      "  0%|          | 0/6300 [00:00<?, ?it/s]"
     ]
    },
    {
     "name": "stdout",
     "output_type": "stream",
     "text": [
      "Sent 1947.97 Mb/s.\tMean speed: 32.47 Mb/s\tEpisode 1/15 finished\n",
      "\n",
      "1\n"
     ]
    },
    {
     "name": "stderr",
     "output_type": "stream",
     "text": [
      "100%|██████████| 6300/6300 [1:44:23<00:00,  1.01it/s, curr_speed=34.89 Mbps, mb_sent=2044.53 Mb]\n"
     ]
    },
    {
     "name": "stdout",
     "output_type": "stream",
     "text": [
      "Waiting for simulation script to connect on port: tcp://localhost:35639\n",
      "Please start proper ns-3 simulation script using ./waf --run \"...\"\n",
      "Waf: Entering directory `/home/samuel/ns-allinone-3.29/ns-3.29/build'\n",
      "Waf: Leaving directory `/home/samuel/ns-allinone-3.29/ns-3.29/build'\n",
      "Build commands will be stored in build/compile_commands.json\n",
      "'build' finished successfully (3.247s)\n"
     ]
    },
    {
     "name": "stderr",
     "output_type": "stream",
     "text": [
      "Ns3Env parameters:\n",
      "--nWifi: 30\n",
      "--simulationTime: 60\n",
      "--openGymPort: 35639\n",
      "--envStepTime: 0.01\n",
      "--seed: 42\n",
      "--agentType: discrete\n",
      "--scenario: basic\n",
      "--dryRun: 0\n",
      "Simulation started\n",
      "Simulation process id: 1887610 (parent (waf shell) id: 1887572)\n",
      "Waiting for Python process to connect on port: tcp://localhost:35639\n",
      "Please start proper Python Gym Agent\n",
      "  0%|          | 0/6300 [00:00<?, ?it/s]"
     ]
    },
    {
     "name": "stdout",
     "output_type": "stream",
     "text": [
      "Sent 2044.53 Mb/s.\tMean speed: 34.08 Mb/s\tEpisode 2/15 finished\n",
      "\n",
      "2\n"
     ]
    },
    {
     "name": "stderr",
     "output_type": "stream",
     "text": [
      " 40%|███▉      | 2502/6300 [41:17<1:06:59,  1.06s/it, curr_speed=35.75 Mbps, mb_sent=778.35 Mb]COMET ERROR: File could not be uploaded\n",
      " 40%|███▉      | 2505/6300 [41:20<1:06:58,  1.06s/it, curr_speed=35.70 Mbps, mb_sent=779.39 Mb]COMET ERROR: File could not be uploaded\n",
      " 40%|███▉      | 2507/6300 [41:22<1:08:16,  1.08s/it, curr_speed=35.61 Mbps, mb_sent=780.01 Mb]COMET ERROR: File could not be uploaded\n",
      " 40%|████      | 2521/6300 [41:36<1:02:54,  1.00it/s, curr_speed=35.44 Mbps, mb_sent=784.95 Mb]COMET ERROR: File could not be uploaded\n",
      " 40%|████      | 2525/6300 [41:40<1:05:39,  1.04s/it, curr_speed=35.47 Mbps, mb_sent=786.45 Mb]COMET ERROR: File could not be uploaded\n",
      " 40%|████      | 2527/6300 [41:42<1:11:24,  1.14s/it, curr_speed=35.43 Mbps, mb_sent=787.18 Mb]COMET ERROR: File could not be uploaded\n",
      " 40%|████      | 2528/6300 [41:43<1:09:18,  1.10s/it, curr_speed=35.50 Mbps, mb_sent=787.56 Mb]COMET ERROR: File could not be uploaded\n",
      " 40%|████      | 2531/6300 [41:46<1:06:16,  1.05s/it, curr_speed=35.56 Mbps, mb_sent=788.71 Mb]COMET ERROR: File could not be uploaded\n",
      " 40%|████      | 2532/6300 [41:48<1:07:26,  1.07s/it, curr_speed=35.49 Mbps, mb_sent=789.00 Mb]COMET ERROR: File could not be uploaded\n",
      " 40%|████      | 2533/6300 [41:49<1:08:52,  1.10s/it, curr_speed=35.47 Mbps, mb_sent=789.36 Mb]COMET ERROR: File could not be uploaded\n",
      " 40%|████      | 2534/6300 [41:50<1:08:22,  1.09s/it, curr_speed=35.57 Mbps, mb_sent=789.70 Mb]COMET ERROR: File could not be uploaded\n",
      " 40%|████      | 2537/6300 [41:53<1:08:55,  1.10s/it, curr_speed=35.60 Mbps, mb_sent=790.76 Mb]COMET ERROR: File could not be uploaded\n",
      " 41%|████      | 2554/6300 [42:10<59:25,  1.05it/s, curr_speed=35.52 Mbps, mb_sent=796.64 Mb]  COMET ERROR: File could not be uploaded\n",
      " 41%|████      | 2555/6300 [42:11<59:02,  1.06it/s, curr_speed=35.45 Mbps, mb_sent=796.98 Mb]COMET ERROR: File could not be uploaded\n",
      " 41%|████      | 2558/6300 [42:14<56:37,  1.10it/s, curr_speed=35.28 Mbps, mb_sent=797.98 Mb]COMET ERROR: File could not be uploaded\n",
      " 41%|████      | 2559/6300 [42:15<1:01:47,  1.01it/s, curr_speed=35.33 Mbps, mb_sent=798.39 Mb]COMET ERROR: File could not be uploaded\n",
      " 41%|████      | 2565/6300 [42:21<1:06:00,  1.06s/it, curr_speed=35.23 Mbps, mb_sent=800.32 Mb]COMET ERROR: File could not be uploaded\n",
      " 41%|████      | 2567/6300 [42:23<1:02:22,  1.00s/it, curr_speed=34.99 Mbps, mb_sent=800.88 Mb]COMET ERROR: File could not be uploaded\n",
      " 41%|████      | 2571/6300 [42:28<1:07:21,  1.08s/it, curr_speed=34.85 Mbps, mb_sent=802.26 Mb]COMET ERROR: File could not be uploaded\n",
      " 41%|████      | 2574/6300 [42:31<1:08:44,  1.11s/it, curr_speed=34.95 Mbps, mb_sent=803.35 Mb]COMET ERROR: File could not be uploaded\n",
      " 41%|████      | 2575/6300 [42:32<1:05:59,  1.06s/it, curr_speed=34.96 Mbps, mb_sent=803.71 Mb]COMET ERROR: File could not be uploaded\n",
      "COMET ERROR: File could not be uploaded\n",
      " 41%|████      | 2589/6300 [42:47<1:06:29,  1.08s/it, curr_speed=34.83 Mbps, mb_sent=808.76 Mb]COMET ERROR: File could not be uploaded\n",
      " 41%|████      | 2595/6300 [42:53<1:02:37,  1.01s/it, curr_speed=35.15 Mbps, mb_sent=810.83 Mb]COMET ERROR: File could not be uploaded\n",
      " 41%|████      | 2597/6300 [42:55<1:06:11,  1.07s/it, curr_speed=35.09 Mbps, mb_sent=811.57 Mb]COMET ERROR: File could not be uploaded\n",
      " 41%|████      | 2598/6300 [42:56<1:04:04,  1.04s/it, curr_speed=35.15 Mbps, mb_sent=811.96 Mb]COMET ERROR: File could not be uploaded\n",
      " 41%|████▏     | 2604/6300 [43:03<1:12:59,  1.18s/it, curr_speed=35.18 Mbps, mb_sent=814.26 Mb]COMET ERROR: File could not be uploaded\n",
      " 41%|████▏     | 2605/6300 [43:04<1:12:22,  1.18s/it, curr_speed=35.23 Mbps, mb_sent=814.62 Mb]COMET ERROR: File could not be uploaded\n",
      " 41%|████▏     | 2608/6300 [43:07<1:02:35,  1.02s/it, curr_speed=35.32 Mbps, mb_sent=815.70 Mb]COMET ERROR: File could not be uploaded\n",
      " 41%|████▏     | 2612/6300 [43:11<1:02:31,  1.02s/it, curr_speed=35.43 Mbps, mb_sent=817.13 Mb]COMET ERROR: File could not be uploaded\n",
      " 42%|████▏     | 2623/6300 [43:22<58:57,  1.04it/s, curr_speed=35.40 Mbps, mb_sent=821.08 Mb]  COMET ERROR: File could not be uploaded\n",
      " 42%|████▏     | 2624/6300 [43:23<56:59,  1.07it/s, curr_speed=35.28 Mbps, mb_sent=821.38 Mb]COMET ERROR: File could not be uploaded\n",
      " 42%|████▏     | 2629/6300 [43:27<51:43,  1.18it/s, curr_speed=35.21 Mbps, mb_sent=823.15 Mb]COMET ERROR: File could not be uploaded\n",
      " 42%|████▏     | 2633/6300 [43:31<52:26,  1.17it/s, curr_speed=35.23 Mbps, mb_sent=824.58 Mb]COMET ERROR: File could not be uploaded\n",
      " 42%|████▏     | 2634/6300 [43:32<54:21,  1.12it/s, curr_speed=35.28 Mbps, mb_sent=824.99 Mb]COMET ERROR: File could not be uploaded\n",
      " 42%|████▏     | 2648/6300 [43:46<1:01:43,  1.01s/it, curr_speed=35.00 Mbps, mb_sent=829.71 Mb]COMET ERROR: File could not be uploaded\n",
      " 42%|████▏     | 2649/6300 [43:47<1:01:57,  1.02s/it, curr_speed=35.11 Mbps, mb_sent=830.05 Mb]COMET ERROR: File could not be uploaded\n",
      " 42%|████▏     | 2672/6300 [44:12<1:01:12,  1.01s/it, curr_speed=35.47 Mbps, mb_sent=838.12 Mb]COMET ERROR: File could not be uploaded\n",
      " 42%|████▏     | 2673/6300 [44:13<1:02:53,  1.04s/it, curr_speed=35.47 Mbps, mb_sent=838.47 Mb]COMET ERROR: File could not be uploaded\n",
      " 42%|████▏     | 2676/6300 [44:17<1:07:19,  1.11s/it, curr_speed=35.46 Mbps, mb_sent=839.52 Mb]COMET ERROR: File could not be uploaded\n",
      " 43%|████▎     | 2689/6300 [44:28<54:38,  1.10it/s, curr_speed=35.41 Mbps, mb_sent=844.16 Mb]  COMET ERROR: File could not be uploaded\n",
      " 43%|████▎     | 2690/6300 [44:30<1:04:25,  1.07s/it, curr_speed=35.37 Mbps, mb_sent=844.53 Mb]COMET ERROR: File could not be uploaded\n",
      " 43%|████▎     | 2694/6300 [44:34<59:51,  1.00it/s, curr_speed=35.13 Mbps, mb_sent=845.70 Mb]  COMET ERROR: File could not be uploaded\n",
      " 43%|████▎     | 2703/6300 [44:43<1:01:35,  1.03s/it, curr_speed=34.95 Mbps, mb_sent=848.83 Mb]COMET ERROR: File could not be uploaded\n",
      " 43%|████▎     | 2704/6300 [44:44<1:01:17,  1.02s/it, curr_speed=34.92 Mbps, mb_sent=849.18 Mb]COMET ERROR: File could not be uploaded\n",
      " 49%|████▉     | 3074/6300 [50:55<56:58,  1.06s/it, curr_speed=35.56 Mbps, mb_sent=980.67 Mb]  COMET ERROR: File could not be uploaded\n",
      " 49%|████▉     | 3079/6300 [51:00<52:25,  1.02it/s, curr_speed=35.55 Mbps, mb_sent=982.39 Mb]COMET ERROR: File could not be uploaded\n",
      " 49%|████▉     | 3080/6300 [51:01<49:07,  1.09it/s, curr_speed=35.49 Mbps, mb_sent=982.69 Mb]COMET ERROR: File could not be uploaded\n",
      " 56%|█████▌    | 3502/6300 [58:08<45:44,  1.02it/s, curr_speed=28.77 Mbps, mb_sent=1123.92 Mb]  COMET ERROR: File could not be uploaded\n",
      " 56%|█████▌    | 3504/6300 [58:10<48:13,  1.03s/it, curr_speed=28.76 Mbps, mb_sent=1124.49 Mb]COMET ERROR: File could not be uploaded\n",
      " 56%|█████▌    | 3513/6300 [58:19<45:22,  1.02it/s, curr_speed=28.54 Mbps, mb_sent=1127.02 Mb]COMET ERROR: File could not be uploaded\n",
      " 56%|█████▌    | 3539/6300 [58:44<40:36,  1.13it/s, curr_speed=28.06 Mbps, mb_sent=1134.19 Mb]COMET ERROR: File could not be uploaded\n",
      "COMET ERROR: File could not be uploaded\n",
      " 56%|█████▌    | 3540/6300 [58:45<42:30,  1.08it/s, curr_speed=28.05 Mbps, mb_sent=1134.45 Mb]COMET ERROR: File could not be uploaded\n",
      "COMET ERROR: File could not be uploaded\n",
      " 56%|█████▌    | 3542/6300 [58:47<44:04,  1.04it/s, curr_speed=28.02 Mbps, mb_sent=1135.00 Mb]COMET ERROR: File could not be uploaded\n",
      " 56%|█████▋    | 3544/6300 [58:49<46:47,  1.02s/it, curr_speed=28.00 Mbps, mb_sent=1135.57 Mb]COMET ERROR: File could not be uploaded\n",
      " 56%|█████▋    | 3545/6300 [58:50<49:19,  1.07s/it, curr_speed=27.93 Mbps, mb_sent=1135.81 Mb]COMET ERROR: File could not be uploaded\n",
      " 56%|█████▋    | 3550/6300 [58:55<48:01,  1.05s/it, curr_speed=27.67 Mbps, mb_sent=1137.19 Mb]COMET ERROR: File could not be uploaded\n",
      " 56%|█████▋    | 3555/6300 [58:59<41:12,  1.11it/s, curr_speed=27.86 Mbps, mb_sent=1138.56 Mb]COMET ERROR: File could not be uploaded\n",
      " 59%|█████▉    | 3704/6300 [1:01:27<43:32,  1.01s/it, curr_speed=25.73 Mbps, mb_sent=1177.15 Mb]COMET ERROR: File could not be uploaded\n",
      " 59%|█████▉    | 3705/6300 [1:01:28<44:42,  1.03s/it, curr_speed=25.72 Mbps, mb_sent=1177.43 Mb]COMET ERROR: File could not be uploaded\n",
      " 59%|█████▉    | 3708/6300 [1:01:31<42:57,  1.01it/s, curr_speed=25.82 Mbps, mb_sent=1178.30 Mb]COMET ERROR: File could not be uploaded\n"
     ]
    },
    {
     "name": "stderr",
     "output_type": "stream",
     "text": [
      " 59%|█████▉    | 3709/6300 [1:01:32<42:16,  1.02it/s, curr_speed=25.75 Mbps, mb_sent=1178.53 Mb]COMET ERROR: File could not be uploaded\n",
      " 59%|█████▉    | 3710/6300 [1:01:33<43:41,  1.01s/it, curr_speed=25.75 Mbps, mb_sent=1178.74 Mb]COMET ERROR: File could not be uploaded\n",
      " 59%|█████▉    | 3727/6300 [1:01:50<46:56,  1.09s/it, curr_speed=26.09 Mbps, mb_sent=1183.42 Mb]COMET ERROR: File could not be uploaded\n",
      " 59%|█████▉    | 3730/6300 [1:01:53<45:49,  1.07s/it, curr_speed=26.13 Mbps, mb_sent=1184.26 Mb]COMET ERROR: File could not be uploaded\n",
      " 59%|█████▉    | 3733/6300 [1:01:56<39:51,  1.07it/s, curr_speed=25.99 Mbps, mb_sent=1184.97 Mb]COMET ERROR: File could not be uploaded\n",
      " 59%|█████▉    | 3738/6300 [1:02:01<42:54,  1.00s/it, curr_speed=26.19 Mbps, mb_sent=1186.43 Mb]COMET ERROR: File could not be uploaded\n",
      " 59%|█████▉    | 3740/6300 [1:02:03<44:17,  1.04s/it, curr_speed=26.28 Mbps, mb_sent=1187.01 Mb]COMET ERROR: File could not be uploaded\n",
      " 59%|█████▉    | 3743/6300 [1:02:07<45:20,  1.06s/it, curr_speed=26.19 Mbps, mb_sent=1187.68 Mb]COMET ERROR: File could not be uploaded\n",
      " 59%|█████▉    | 3745/6300 [1:02:09<46:28,  1.09s/it, curr_speed=26.15 Mbps, mb_sent=1188.19 Mb]COMET ERROR: File could not be uploaded\n",
      " 59%|█████▉    | 3747/6300 [1:02:11<48:15,  1.13s/it, curr_speed=25.97 Mbps, mb_sent=1188.56 Mb]COMET ERROR: File could not be uploaded\n",
      " 60%|█████▉    | 3753/6300 [1:02:18<50:32,  1.19s/it, curr_speed=26.04 Mbps, mb_sent=1190.24 Mb]COMET ERROR: File could not be uploaded\n",
      " 60%|█████▉    | 3757/6300 [1:02:23<44:02,  1.04s/it, curr_speed=26.18 Mbps, mb_sent=1191.28 Mb]COMET ERROR: File could not be uploaded\n",
      " 60%|█████▉    | 3758/6300 [1:02:24<45:12,  1.07s/it, curr_speed=26.24 Mbps, mb_sent=1191.59 Mb]COMET ERROR: File could not be uploaded\n",
      " 60%|█████▉    | 3767/6300 [1:02:34<46:17,  1.10s/it, curr_speed=26.21 Mbps, mb_sent=1193.68 Mb]COMET ERROR: File could not be uploaded\n",
      " 63%|██████▎   | 3939/6300 [1:05:26<47:19,  1.20s/it, curr_speed=27.11 Mbps, mb_sent=1252.46 Mb]COMET ERROR: File could not be uploaded\n",
      " 63%|██████▎   | 3953/6300 [1:05:41<40:32,  1.04s/it, curr_speed=27.53 Mbps, mb_sent=1256.37 Mb]COMET ERROR: File could not be uploaded\n",
      "COMET ERROR: File could not be uploaded\n",
      "COMET ERROR: File could not be uploaded\n",
      " 63%|██████▎   | 3957/6300 [1:05:45<38:39,  1.01it/s, curr_speed=27.34 Mbps, mb_sent=1257.33 Mb]COMET ERROR: File could not be uploaded\n",
      " 63%|██████▎   | 3966/6300 [1:05:56<44:11,  1.14s/it, curr_speed=27.43 Mbps, mb_sent=1259.93 Mb]COMET ERROR: File could not be uploaded\n",
      " 63%|██████▎   | 3978/6300 [1:06:09<43:32,  1.12s/it, curr_speed=27.18 Mbps, mb_sent=1262.87 Mb]COMET ERROR: File could not be uploaded\n",
      " 63%|██████▎   | 3986/6300 [1:06:17<35:51,  1.08it/s, curr_speed=27.25 Mbps, mb_sent=1265.23 Mb]COMET ERROR: File could not be uploaded\n",
      " 63%|██████▎   | 3987/6300 [1:06:18<36:10,  1.07it/s, curr_speed=27.31 Mbps, mb_sent=1265.52 Mb]COMET ERROR: File could not be uploaded\n",
      " 63%|██████▎   | 3988/6300 [1:06:19<35:49,  1.08it/s, curr_speed=27.47 Mbps, mb_sent=1265.82 Mb]COMET ERROR: File could not be uploaded\n",
      " 63%|██████▎   | 3995/6300 [1:06:25<36:59,  1.04it/s, curr_speed=27.59 Mbps, mb_sent=1267.76 Mb]COMET ERROR: File could not be uploaded\n",
      " 64%|██████▎   | 4010/6300 [1:06:40<33:36,  1.14it/s, curr_speed=27.60 Mbps, mb_sent=1271.98 Mb]COMET ERROR: File could not be uploaded\n",
      " 64%|██████▎   | 4015/6300 [1:06:45<37:43,  1.01it/s, curr_speed=27.70 Mbps, mb_sent=1273.39 Mb]COMET ERROR: File could not be uploaded\n",
      "COMET ERROR: File could not be uploaded\n",
      " 64%|██████▍   | 4021/6300 [1:06:51<40:25,  1.06s/it, curr_speed=27.59 Mbps, mb_sent=1274.95 Mb]COMET ERROR: File could not be uploaded\n",
      " 64%|██████▍   | 4026/6300 [1:06:57<37:52,  1.00it/s, curr_speed=35.45 Mbps, mb_sent=1284.21 Mb]COMET ERROR: File could not be uploaded\n",
      " 64%|██████▍   | 4027/6300 [1:06:58<38:59,  1.03s/it, curr_speed=35.41 Mbps, mb_sent=1284.44 Mb]COMET ERROR: File could not be uploaded\n",
      " 64%|██████▍   | 4029/6300 [1:07:00<38:11,  1.01s/it, curr_speed=35.42 Mbps, mb_sent=1285.09 Mb]COMET ERROR: File could not be uploaded\n",
      " 64%|██████▍   | 4030/6300 [1:07:01<39:25,  1.04s/it, curr_speed=35.45 Mbps, mb_sent=1285.38 Mb]COMET ERROR: File could not be uploaded\n",
      " 64%|██████▍   | 4033/6300 [1:07:03<35:36,  1.06it/s, curr_speed=35.42 Mbps, mb_sent=1286.22 Mb]COMET ERROR: File could not be uploaded\n",
      " 64%|██████▍   | 4045/6300 [1:07:16<36:21,  1.03it/s, curr_speed=42.71 Mbps, mb_sent=1296.83 Mb]COMET ERROR: File could not be uploaded\n",
      " 64%|██████▍   | 4046/6300 [1:07:17<34:39,  1.08it/s, curr_speed=42.77 Mbps, mb_sent=1297.14 Mb]COMET ERROR: File could not be uploaded\n",
      "COMET ERROR: File could not be uploaded\n",
      "COMET ERROR: File could not be uploaded\n",
      " 64%|██████▍   | 4052/6300 [1:07:22<33:27,  1.12it/s, curr_speed=42.98 Mbps, mb_sent=1299.07 Mb]COMET ERROR: File could not be uploaded\n",
      " 64%|██████▍   | 4056/6300 [1:07:26<37:38,  1.01s/it, curr_speed=43.11 Mbps, mb_sent=1300.19 Mb]COMET ERROR: File could not be uploaded\n",
      " 65%|██████▍   | 4066/6300 [1:07:37<37:22,  1.00s/it, curr_speed=43.26 Mbps, mb_sent=1303.19 Mb]COMET ERROR: File could not be uploaded\n",
      " 65%|██████▍   | 4071/6300 [1:07:42<36:01,  1.03it/s, curr_speed=43.33 Mbps, mb_sent=1304.49 Mb]COMET ERROR: File could not be uploaded\n",
      " 65%|██████▍   | 4076/6300 [1:07:46<34:29,  1.07it/s, curr_speed=43.37 Mbps, mb_sent=1305.78 Mb]COMET ERROR: File could not be uploaded\n",
      " 65%|██████▍   | 4080/6300 [1:07:51<41:20,  1.12s/it, curr_speed=43.59 Mbps, mb_sent=1307.00 Mb]COMET ERROR: File could not be uploaded\n",
      "COMET ERROR: File could not be uploaded\n",
      " 65%|██████▍   | 4081/6300 [1:07:52<43:32,  1.18s/it, curr_speed=43.61 Mbps, mb_sent=1307.30 Mb]COMET ERROR: File could not be uploaded\n",
      " 65%|██████▍   | 4086/6300 [1:07:57<36:37,  1.01it/s, curr_speed=43.56 Mbps, mb_sent=1308.79 Mb]COMET ERROR: File could not be uploaded\n",
      " 65%|██████▍   | 4087/6300 [1:07:58<38:35,  1.05s/it, curr_speed=43.54 Mbps, mb_sent=1309.06 Mb]COMET ERROR: File could not be uploaded\n",
      " 65%|██████▍   | 4088/6300 [1:08:01<49:04,  1.33s/it, curr_speed=43.54 Mbps, mb_sent=1309.66 Mb]COMET ERROR: File could not be uploaded\n",
      " 65%|██████▍   | 4090/6300 [1:08:02<44:35,  1.21s/it, curr_speed=43.46 Mbps, mb_sent=1309.88 Mb]COMET ERROR: File could not be uploaded\n",
      " 65%|██████▍   | 4091/6300 [1:08:03<42:27,  1.15s/it, curr_speed=43.45 Mbps, mb_sent=1310.15 Mb]COMET ERROR: File could not be uploaded\n",
      " 65%|██████▌   | 4118/6300 [1:08:29<31:03,  1.17it/s, curr_speed=43.19 Mbps, mb_sent=1317.33 Mb]COMET ERROR: File could not be uploaded\n",
      "COMET ERROR: File could not be uploaded\n",
      " 65%|██████▌   | 4119/6300 [1:08:31<38:43,  1.07s/it, curr_speed=43.18 Mbps, mb_sent=1317.60 Mb]COMET ERROR: File could not be uploaded\n",
      " 65%|██████▌   | 4124/6300 [1:08:36<36:31,  1.01s/it, curr_speed=35.17 Mbps, mb_sent=1319.07 Mb]COMET ERROR: File could not be uploaded\n",
      "100%|██████████| 6300/6300 [1:44:47<00:00,  1.00it/s, curr_speed=36.12 Mbps, mb_sent=2122.91 Mb]\n"
     ]
    },
    {
     "name": "stdout",
     "output_type": "stream",
     "text": [
      "Waiting for simulation script to connect on port: tcp://localhost:41912\n",
      "Please start proper ns-3 simulation script using ./waf --run \"...\"\n",
      "Waf: Entering directory `/home/samuel/ns-allinone-3.29/ns-3.29/build'\n",
      "Waf: Leaving directory `/home/samuel/ns-allinone-3.29/ns-3.29/build'\n",
      "Build commands will be stored in build/compile_commands.json\n",
      "'build' finished successfully (3.763s)\n"
     ]
    },
    {
     "name": "stderr",
     "output_type": "stream",
     "text": [
      "Ns3Env parameters:\n",
      "--nWifi: 30\n",
      "--simulationTime: 60\n",
      "--openGymPort: 41912\n",
      "--envStepTime: 0.01\n",
      "--seed: 42\n",
      "--agentType: discrete\n",
      "--scenario: basic\n",
      "--dryRun: 0\n",
      "Simulation started\n",
      "Simulation process id: 1940636 (parent (waf shell) id: 1940589)\n",
      "Waiting for Python process to connect on port: tcp://localhost:41912\n",
      "Please start proper Python Gym Agent\n",
      "  0%|          | 0/6300 [00:00<?, ?it/s]"
     ]
    },
    {
     "name": "stdout",
     "output_type": "stream",
     "text": [
      "Sent 2122.91 Mb/s.\tMean speed: 35.38 Mb/s\tEpisode 3/15 finished\n",
      "\n",
      "3\n"
     ]
    },
    {
     "name": "stderr",
     "output_type": "stream",
     "text": [
      "  5%|▍         | 304/6300 [04:36<1:32:32,  1.08it/s, curr_speed=38.72 Mbps, mb_sent=1.16 Mb]"
     ]
    },
    {
     "name": "stdout",
     "output_type": "stream",
     "text": [
      "------- MEMORY BUFFER FILLED -------\n"
     ]
    },
    {
     "name": "stderr",
     "output_type": "stream",
     "text": [
      "100%|██████████| 6300/6300 [1:45:01<00:00,  1.00s/it, curr_speed=36.03 Mbps, mb_sent=2170.23 Mb]\n"
     ]
    },
    {
     "name": "stdout",
     "output_type": "stream",
     "text": [
      "Waiting for simulation script to connect on port: tcp://localhost:40802\n",
      "Please start proper ns-3 simulation script using ./waf --run \"...\"\n",
      "Waf: Entering directory `/home/samuel/ns-allinone-3.29/ns-3.29/build'\n",
      "Waf: Leaving directory `/home/samuel/ns-allinone-3.29/ns-3.29/build'\n",
      "Build commands will be stored in build/compile_commands.json\n",
      "'build' finished successfully (3.130s)\n"
     ]
    },
    {
     "name": "stderr",
     "output_type": "stream",
     "text": [
      "Ns3Env parameters:\n",
      "--nWifi: 30\n",
      "--simulationTime: 60\n",
      "--openGymPort: 40802\n",
      "--envStepTime: 0.01\n",
      "--seed: 42\n",
      "--agentType: discrete\n",
      "--scenario: basic\n",
      "--dryRun: 0\n",
      "Simulation started\n",
      "Simulation process id: 1993655 (parent (waf shell) id: 1993612)\n",
      "Waiting for Python process to connect on port: tcp://localhost:40802\n",
      "Please start proper Python Gym Agent\n",
      "  0%|          | 0/6300 [00:00<?, ?it/s]"
     ]
    },
    {
     "name": "stdout",
     "output_type": "stream",
     "text": [
      "Sent 2170.23 Mb/s.\tMean speed: 36.17 Mb/s\tEpisode 4/15 finished\n",
      "\n",
      "4\n"
     ]
    },
    {
     "name": "stderr",
     "output_type": "stream",
     "text": [
      "100%|██████████| 6300/6300 [1:35:52<00:00,  1.10it/s, curr_speed=46.84 Mbps, mb_sent=2201.23 Mb]\n"
     ]
    },
    {
     "name": "stdout",
     "output_type": "stream",
     "text": [
      "Waiting for simulation script to connect on port: tcp://localhost:30105\n",
      "Please start proper ns-3 simulation script using ./waf --run \"...\"\n",
      "Waf: Entering directory `/home/samuel/ns-allinone-3.29/ns-3.29/build'\n",
      "Waf: Leaving directory `/home/samuel/ns-allinone-3.29/ns-3.29/build'\n",
      "Build commands will be stored in build/compile_commands.json\n",
      "'build' finished successfully (3.247s)\n"
     ]
    },
    {
     "name": "stderr",
     "output_type": "stream",
     "text": [
      "Ns3Env parameters:\n",
      "--nWifi: 30\n",
      "--simulationTime: 60\n",
      "--openGymPort: 30105\n",
      "--envStepTime: 0.01\n",
      "--seed: 42\n",
      "--agentType: discrete\n",
      "--scenario: basic\n",
      "--dryRun: 0\n",
      "Simulation started\n",
      "Simulation process id: 2029634 (parent (waf shell) id: 2029603)\n",
      "Waiting for Python process to connect on port: tcp://localhost:30105\n",
      "Please start proper Python Gym Agent\n",
      "  0%|          | 0/6300 [00:00<?, ?it/s]"
     ]
    },
    {
     "name": "stdout",
     "output_type": "stream",
     "text": [
      "Sent 2201.23 Mb/s.\tMean speed: 36.69 Mb/s\tEpisode 5/15 finished\n",
      "\n",
      "5\n"
     ]
    },
    {
     "name": "stderr",
     "output_type": "stream",
     "text": [
      "100%|██████████| 6300/6300 [1:33:40<00:00,  1.12it/s, curr_speed=36.26 Mbps, mb_sent=2223.90 Mb]\n"
     ]
    },
    {
     "name": "stdout",
     "output_type": "stream",
     "text": [
      "Waiting for simulation script to connect on port: tcp://localhost:19540\n",
      "Please start proper ns-3 simulation script using ./waf --run \"...\"\n",
      "Waf: Entering directory `/home/samuel/ns-allinone-3.29/ns-3.29/build'\n",
      "Waf: Leaving directory `/home/samuel/ns-allinone-3.29/ns-3.29/build'\n",
      "Build commands will be stored in build/compile_commands.json\n",
      "'build' finished successfully (3.168s)\n"
     ]
    },
    {
     "name": "stderr",
     "output_type": "stream",
     "text": [
      "Ns3Env parameters:\n",
      "--nWifi: 30\n",
      "--simulationTime: 60\n",
      "--openGymPort: 19540\n",
      "--envStepTime: 0.01\n",
      "--seed: 42\n",
      "--agentType: discrete\n",
      "--scenario: basic\n",
      "--dryRun: 0\n",
      "Simulation started\n",
      "Simulation process id: 2060925 (parent (waf shell) id: 2060894)\n",
      "Waiting for Python process to connect on port: tcp://localhost:19540\n",
      "Please start proper Python Gym Agent\n",
      "  0%|          | 0/6300 [00:00<?, ?it/s]"
     ]
    },
    {
     "name": "stdout",
     "output_type": "stream",
     "text": [
      "Sent 2223.90 Mb/s.\tMean speed: 37.07 Mb/s\tEpisode 6/15 finished\n",
      "\n",
      "6\n"
     ]
    },
    {
     "name": "stderr",
     "output_type": "stream",
     "text": [
      "100%|██████████| 6300/6300 [1:34:24<00:00,  1.11it/s, curr_speed=35.65 Mbps, mb_sent=2237.57 Mb]\n"
     ]
    },
    {
     "name": "stdout",
     "output_type": "stream",
     "text": [
      "Waiting for simulation script to connect on port: tcp://localhost:45280\n",
      "Please start proper ns-3 simulation script using ./waf --run \"...\"\n",
      "Waf: Entering directory `/home/samuel/ns-allinone-3.29/ns-3.29/build'\n",
      "Waf: Leaving directory `/home/samuel/ns-allinone-3.29/ns-3.29/build'\n",
      "Build commands will be stored in build/compile_commands.json\n",
      "'build' finished successfully (3.076s)\n"
     ]
    },
    {
     "name": "stderr",
     "output_type": "stream",
     "text": [
      "Ns3Env parameters:\n",
      "--nWifi: 30\n",
      "--simulationTime: 60\n",
      "--openGymPort: 45280\n",
      "--envStepTime: 0.01\n",
      "--seed: 42\n",
      "--agentType: discrete\n",
      "--scenario: basic\n",
      "--dryRun: 0\n",
      "Simulation started\n",
      "Simulation process id: 2092077 (parent (waf shell) id: 2092042)\n",
      "Waiting for Python process to connect on port: tcp://localhost:45280\n",
      "Please start proper Python Gym Agent\n",
      "  0%|          | 0/6300 [00:00<?, ?it/s]"
     ]
    },
    {
     "name": "stdout",
     "output_type": "stream",
     "text": [
      "Sent 2237.57 Mb/s.\tMean speed: 37.29 Mb/s\tEpisode 7/15 finished\n",
      "\n",
      "7\n"
     ]
    },
    {
     "name": "stderr",
     "output_type": "stream",
     "text": [
      "100%|██████████| 6300/6300 [1:42:04<00:00,  1.03it/s, curr_speed=37.48 Mbps, mb_sent=2245.04 Mb]\n"
     ]
    },
    {
     "name": "stdout",
     "output_type": "stream",
     "text": [
      "Waiting for simulation script to connect on port: tcp://localhost:47374\n",
      "Please start proper ns-3 simulation script using ./waf --run \"...\"\n",
      "Waf: Entering directory `/home/samuel/ns-allinone-3.29/ns-3.29/build'\n",
      "Waf: Leaving directory `/home/samuel/ns-allinone-3.29/ns-3.29/build'\n",
      "Build commands will be stored in build/compile_commands.json\n",
      "'build' finished successfully (3.632s)\n"
     ]
    },
    {
     "name": "stderr",
     "output_type": "stream",
     "text": [
      "Ns3Env parameters:\n",
      "--nWifi: 30\n",
      "--simulationTime: 60\n",
      "--openGymPort: 47374\n",
      "--envStepTime: 0.01\n",
      "--seed: 42\n",
      "--agentType: discrete\n",
      "--scenario: basic\n",
      "--dryRun: 0\n",
      "Simulation started\n",
      "Simulation process id: 2124910 (parent (waf shell) id: 2124877)\n",
      "Waiting for Python process to connect on port: tcp://localhost:47374\n",
      "Please start proper Python Gym Agent\n",
      "  0%|          | 0/6300 [00:00<?, ?it/s]"
     ]
    },
    {
     "name": "stdout",
     "output_type": "stream",
     "text": [
      "Sent 2245.04 Mb/s.\tMean speed: 37.42 Mb/s\tEpisode 8/15 finished\n",
      "\n",
      "8\n"
     ]
    },
    {
     "name": "stderr",
     "output_type": "stream",
     "text": [
      "100%|██████████| 6300/6300 [1:33:59<00:00,  1.12it/s, curr_speed=37.54 Mbps, mb_sent=2239.64 Mb]\n"
     ]
    },
    {
     "name": "stdout",
     "output_type": "stream",
     "text": [
      "Waiting for simulation script to connect on port: tcp://localhost:23972\n",
      "Please start proper ns-3 simulation script using ./waf --run \"...\"\n",
      "Waf: Entering directory `/home/samuel/ns-allinone-3.29/ns-3.29/build'\n",
      "Waf: Leaving directory `/home/samuel/ns-allinone-3.29/ns-3.29/build'\n",
      "Build commands will be stored in build/compile_commands.json\n",
      "'build' finished successfully (3.097s)\n"
     ]
    },
    {
     "name": "stderr",
     "output_type": "stream",
     "text": [
      "Ns3Env parameters:\n",
      "--nWifi: 30\n",
      "--simulationTime: 60\n",
      "--openGymPort: 23972\n",
      "--envStepTime: 0.01\n",
      "--seed: 42\n",
      "--agentType: discrete\n",
      "--scenario: basic\n",
      "--dryRun: 0\n",
      "Simulation started\n",
      "Simulation process id: 2150121 (parent (waf shell) id: 2150098)\n",
      "Waiting for Python process to connect on port: tcp://localhost:23972\n",
      "Please start proper Python Gym Agent\n",
      "  0%|          | 0/6300 [00:00<?, ?it/s]"
     ]
    },
    {
     "name": "stdout",
     "output_type": "stream",
     "text": [
      "Sent 2239.64 Mb/s.\tMean speed: 37.33 Mb/s\tEpisode 9/15 finished\n",
      "\n",
      "9\n"
     ]
    },
    {
     "name": "stderr",
     "output_type": "stream",
     "text": [
      "100%|██████████| 6300/6300 [1:31:06<00:00,  1.15it/s, curr_speed=37.50 Mbps, mb_sent=2241.48 Mb]\n"
     ]
    },
    {
     "name": "stdout",
     "output_type": "stream",
     "text": [
      "Waiting for simulation script to connect on port: tcp://localhost:33282\n",
      "Please start proper ns-3 simulation script using ./waf --run \"...\"\n",
      "Waf: Entering directory `/home/samuel/ns-allinone-3.29/ns-3.29/build'\n",
      "Waf: Leaving directory `/home/samuel/ns-allinone-3.29/ns-3.29/build'\n",
      "Build commands will be stored in build/compile_commands.json\n",
      "'build' finished successfully (3.336s)\n"
     ]
    },
    {
     "name": "stderr",
     "output_type": "stream",
     "text": [
      "Ns3Env parameters:\n",
      "--nWifi: 30\n",
      "--simulationTime: 60\n",
      "--openGymPort: 33282\n",
      "--envStepTime: 0.01\n",
      "--seed: 42\n",
      "--agentType: discrete\n",
      "--scenario: basic\n",
      "--dryRun: 0\n",
      "Simulation started\n",
      "Simulation process id: 2172328 (parent (waf shell) id: 2172303)\n",
      "Waiting for Python process to connect on port: tcp://localhost:33282\n",
      "Please start proper Python Gym Agent\n",
      "  0%|          | 0/6300 [00:00<?, ?it/s]"
     ]
    },
    {
     "name": "stdout",
     "output_type": "stream",
     "text": [
      "Sent 2241.48 Mb/s.\tMean speed: 37.36 Mb/s\tEpisode 10/15 finished\n",
      "\n",
      "10\n"
     ]
    },
    {
     "name": "stderr",
     "output_type": "stream",
     "text": [
      "100%|██████████| 6300/6300 [1:30:59<00:00,  1.15it/s, curr_speed=37.78 Mbps, mb_sent=2243.17 Mb]\n"
     ]
    },
    {
     "name": "stdout",
     "output_type": "stream",
     "text": [
      "Waiting for simulation script to connect on port: tcp://localhost:41751\n",
      "Please start proper ns-3 simulation script using ./waf --run \"...\"\n",
      "Waf: Entering directory `/home/samuel/ns-allinone-3.29/ns-3.29/build'\n",
      "Waf: Leaving directory `/home/samuel/ns-allinone-3.29/ns-3.29/build'\n",
      "Build commands will be stored in build/compile_commands.json\n",
      "'build' finished successfully (3.101s)\n"
     ]
    },
    {
     "name": "stderr",
     "output_type": "stream",
     "text": [
      "Ns3Env parameters:\n",
      "--nWifi: 30\n",
      "--simulationTime: 60\n",
      "--openGymPort: 41751\n",
      "--envStepTime: 0.01\n",
      "--seed: 42\n",
      "--agentType: discrete\n",
      "--scenario: basic\n",
      "--dryRun: 0\n",
      "Simulation started\n",
      "Simulation process id: 2193912 (parent (waf shell) id: 2193887)\n",
      "Waiting for Python process to connect on port: tcp://localhost:41751\n",
      "Please start proper Python Gym Agent\n",
      "  0%|          | 0/6300 [00:00<?, ?it/s]"
     ]
    },
    {
     "name": "stdout",
     "output_type": "stream",
     "text": [
      "Sent 2243.17 Mb/s.\tMean speed: 37.39 Mb/s\tEpisode 11/15 finished\n",
      "\n",
      "11\n"
     ]
    },
    {
     "name": "stderr",
     "output_type": "stream",
     "text": [
      " 57%|█████▋    | 3599/6300 [52:31<40:35,  1.11it/s, curr_speed=37.28 Mbps, mb_sent=1237.03 Mb] COMET ERROR: File could not be uploaded\n",
      " 57%|█████▋    | 3600/6300 [52:32<39:49,  1.13it/s, curr_speed=37.33 Mbps, mb_sent=1237.44 Mb]COMET ERROR: File could not be uploaded\n",
      " 57%|█████▋    | 3601/6300 [52:33<42:54,  1.05it/s, curr_speed=37.33 Mbps, mb_sent=1237.81 Mb]COMET ERROR: File could not be uploaded\n",
      " 57%|█████▋    | 3601/6300 [52:34<42:54,  1.05it/s, curr_speed=37.34 Mbps, mb_sent=1238.21 Mb]COMET ERROR: File could not be uploaded\n",
      " 57%|█████▋    | 3603/6300 [52:34<38:05,  1.18it/s, curr_speed=37.31 Mbps, mb_sent=1238.59 Mb]COMET ERROR: File could not be uploaded\n",
      " 57%|█████▋    | 3616/6300 [52:45<33:00,  1.36it/s, curr_speed=37.32 Mbps, mb_sent=1243.44 Mb]COMET ERROR: File could not be uploaded\n",
      "COMET ERROR: File could not be uploaded\n",
      "COMET ERROR: File could not be uploaded\n",
      " 60%|█████▉    | 3753/6300 [54:44<39:46,  1.07it/s, curr_speed=37.80 Mbps, mb_sent=1295.13 Mb]COMET ERROR: File could not be uploaded\n",
      "100%|██████████| 6300/6300 [1:32:09<00:00,  1.14it/s, curr_speed=37.47 Mbps, mb_sent=2248.09 Mb]\n"
     ]
    },
    {
     "name": "stdout",
     "output_type": "stream",
     "text": [
      "Waiting for simulation script to connect on port: tcp://localhost:19249\n",
      "Please start proper ns-3 simulation script using ./waf --run \"...\"\n",
      "Waf: Entering directory `/home/samuel/ns-allinone-3.29/ns-3.29/build'\n",
      "Waf: Leaving directory `/home/samuel/ns-allinone-3.29/ns-3.29/build'\n",
      "Build commands will be stored in build/compile_commands.json\n",
      "'build' finished successfully (3.058s)\n"
     ]
    },
    {
     "name": "stderr",
     "output_type": "stream",
     "text": [
      "Ns3Env parameters:\n",
      "--nWifi: 30\n",
      "--simulationTime: 60\n",
      "--openGymPort: 19249\n",
      "--envStepTime: 0.01\n",
      "--seed: 42\n",
      "--agentType: discrete\n",
      "--scenario: basic\n",
      "--dryRun: 0\n",
      "Simulation started\n"
     ]
    },
    {
     "name": "stdout",
     "output_type": "stream",
     "text": [
      "WARNING:tensorflow:From /home/samuel/anaconda3/envs/myEnv3_7/lib/python3.7/site-packages/tensorflow/python/training/saver.py:960: remove_checkpoint (from tensorflow.python.training.checkpoint_management) is deprecated and will be removed in a future version.\n",
      "Instructions for updating:\n",
      "Use standard file APIs to delete files with this prefix.\n"
     ]
    },
    {
     "name": "stderr",
     "output_type": "stream",
     "text": [
      "Simulation process id: 2215489 (parent (waf shell) id: 2215466)\n",
      "Waiting for Python process to connect on port: tcp://localhost:19249\n",
      "Please start proper Python Gym Agent\n",
      "  0%|          | 0/6300 [00:00<?, ?it/s]"
     ]
    },
    {
     "name": "stdout",
     "output_type": "stream",
     "text": [
      "Sent 2248.09 Mb/s.\tMean speed: 37.47 Mb/s\tEpisode 12/15 finished\n",
      "\n",
      "12\n",
      "Turning off noise\n"
     ]
    },
    {
     "name": "stderr",
     "output_type": "stream",
     "text": [
      "100%|██████████| 6300/6300 [1:33:14<00:00,  1.13it/s, curr_speed=37.84 Mbps, mb_sent=2252.45 Mb]\n"
     ]
    },
    {
     "name": "stdout",
     "output_type": "stream",
     "text": [
      "Waiting for simulation script to connect on port: tcp://localhost:23409\n",
      "Please start proper ns-3 simulation script using ./waf --run \"...\"\n",
      "Waf: Entering directory `/home/samuel/ns-allinone-3.29/ns-3.29/build'\n",
      "Waf: Leaving directory `/home/samuel/ns-allinone-3.29/ns-3.29/build'\n",
      "Build commands will be stored in build/compile_commands.json\n",
      "'build' finished successfully (3.257s)\n"
     ]
    },
    {
     "name": "stderr",
     "output_type": "stream",
     "text": [
      "Ns3Env parameters:\n",
      "--nWifi: 30\n",
      "--simulationTime: 60\n",
      "--openGymPort: 23409\n",
      "--envStepTime: 0.01\n",
      "--seed: 42\n",
      "--agentType: discrete\n",
      "--scenario: basic\n",
      "--dryRun: 0\n",
      "Simulation started\n",
      "Simulation process id: 2237147 (parent (waf shell) id: 2237121)\n",
      "Waiting for Python process to connect on port: tcp://localhost:23409\n",
      "Please start proper Python Gym Agent\n",
      "  0%|          | 0/6300 [00:00<?, ?it/s]"
     ]
    },
    {
     "name": "stdout",
     "output_type": "stream",
     "text": [
      "Sent 2252.45 Mb/s.\tMean speed: 37.54 Mb/s\tEpisode 13/15 finished\n",
      "\n",
      "13\n",
      "Turning off noise\n"
     ]
    },
    {
     "name": "stderr",
     "output_type": "stream",
     "text": [
      "100%|██████████| 6300/6300 [1:31:16<00:00,  1.15it/s, curr_speed=37.19 Mbps, mb_sent=2241.73 Mb]\n"
     ]
    },
    {
     "name": "stdout",
     "output_type": "stream",
     "text": [
      "Waiting for simulation script to connect on port: tcp://localhost:32137\n",
      "Please start proper ns-3 simulation script using ./waf --run \"...\"\n",
      "Waf: Entering directory `/home/samuel/ns-allinone-3.29/ns-3.29/build'\n",
      "Waf: Leaving directory `/home/samuel/ns-allinone-3.29/ns-3.29/build'\n",
      "Build commands will be stored in build/compile_commands.json\n",
      "'build' finished successfully (3.017s)\n"
     ]
    },
    {
     "name": "stderr",
     "output_type": "stream",
     "text": [
      "Ns3Env parameters:\n",
      "--nWifi: 30\n",
      "--simulationTime: 60\n",
      "--openGymPort: 32137\n",
      "--envStepTime: 0.01\n",
      "--seed: 42\n",
      "--agentType: discrete\n",
      "--scenario: basic\n",
      "--dryRun: 0\n",
      "Simulation started\n",
      "Simulation process id: 2258945 (parent (waf shell) id: 2258922)\n",
      "Waiting for Python process to connect on port: tcp://localhost:32137\n",
      "Please start proper Python Gym Agent\n",
      "  0%|          | 0/6300 [00:00<?, ?it/s]"
     ]
    },
    {
     "name": "stdout",
     "output_type": "stream",
     "text": [
      "Sent 2241.73 Mb/s.\tMean speed: 37.36 Mb/s\tEpisode 14/15 finished\n",
      "\n",
      "14\n",
      "Turning off noise\n"
     ]
    },
    {
     "name": "stderr",
     "output_type": "stream",
     "text": [
      "100%|██████████| 6300/6300 [1:29:12<00:00,  1.18it/s, curr_speed=37.40 Mbps, mb_sent=2255.04 Mb]\n"
     ]
    },
    {
     "name": "stdout",
     "output_type": "stream",
     "text": [
      "Waiting for simulation script to connect on port: tcp://localhost:43707\n",
      "Please start proper ns-3 simulation script using ./waf --run \"...\"\n",
      "Waf: Entering directory `/home/samuel/ns-allinone-3.29/ns-3.29/build'\n",
      "Waf: Leaving directory `/home/samuel/ns-allinone-3.29/ns-3.29/build'\n",
      "Build commands will be stored in build/compile_commands.json\n",
      "'build' finished successfully (3.268s)\n"
     ]
    },
    {
     "name": "stderr",
     "output_type": "stream",
     "text": [
      "Ns3Env parameters:\n",
      "--nWifi: 30\n",
      "--simulationTime: 60\n",
      "--openGymPort: 43707\n",
      "--envStepTime: 0.01\n",
      "--seed: 42\n",
      "--agentType: discrete\n",
      "--scenario: basic\n",
      "--dryRun: 0\n",
      "Simulation started\n",
      "Simulation process id: 2279923 (parent (waf shell) id: 2279899)\n",
      "Waiting for Python process to connect on port: tcp://localhost:43707\n",
      "Please start proper Python Gym Agent\n",
      "COMET INFO: ----------------------------\n",
      "COMET INFO: Comet.ml Experiment Summary:\n",
      "COMET INFO:   Data:\n",
      "COMET INFO:     url: https://www.comet.com/sheila-janota/rl-in-wifi-with-queue-level/a404a81f20d84c3082a7742f73ed72e3\n",
      "COMET INFO:   Metrics [count] (min, max):\n",
      "COMET INFO:     Chosen CW [89985]           : (16.0, 1024.0)\n",
      "COMET INFO:     Cumulative reward [15]      : (2639.47119140625, 3157.0478515625)\n",
      "COMET INFO:     Current throughput [89985]  : (19.948612213134766, 97.91124725341797)\n",
      "COMET INFO:     Fairness index [89985]      : (nan, nan)\n",
      "COMET INFO:     Megabytes sent [89985]      : (0.3015750050544739, 2255.04155048728)\n",
      "COMET INFO:     Observation 0 [89985]       : (0.9606505126754442, 0.9640623380740483)\n",
      "COMET INFO:     Observation 1 [89985]       : (0.02036920912501944, 0.03146674999140602)\n",
      "COMET INFO:     Per-ep reward [89985]       : (130.36962890625, 3157.0478515625)\n",
      "COMET INFO:     Round megabytes sent [89985]: (0.022338999435305595, 20.1273193359375)\n",
      "COMET INFO:     Round reward [89985]        : (0.02978515625, 0.62548828125)\n",
      "COMET INFO:     Speed [15]                  : (32.46619197449957, 37.58402584145467)\n",
      "COMET INFO:     Station count [89985]       : (30.0, 30.0)\n",
      "COMET INFO:     loss [89985]                : (0.0, 0.2334449142217636)\n",
      "COMET INFO:   Uploads:\n",
      "COMET INFO:     histogram3d: 89985\n",
      "COMET INFO: ----------------------------\n",
      "COMET INFO: Uploading stats to Comet before program termination (may take several seconds)\n"
     ]
    },
    {
     "name": "stdout",
     "output_type": "stream",
     "text": [
      "Sent 2255.04 Mb/s.\tMean speed: 37.58 Mb/s\tEpisode 15/15 finished\n",
      "\n"
     ]
    },
    {
     "name": "stderr",
     "output_type": "stream",
     "text": [
      "COMET INFO: Waiting for completion of the file uploads (may take several seconds)\n",
      "COMET INFO: Still uploading\n",
      "COMET INFO: Still uploading\n",
      "COMET INFO: Still uploading\n",
      "COMET INFO: Still uploading\n",
      "COMET INFO: Still uploading\n",
      "COMET INFO: Still uploading\n",
      "COMET INFO: Still uploading\n",
      "COMET INFO: Still uploading\n",
      "COMET INFO: Still uploading\n",
      "COMET INFO: Still uploading\n",
      "COMET INFO: Still uploading\n",
      "COMET INFO: Still uploading\n",
      "COMET INFO: Still uploading\n",
      "COMET INFO: Still uploading\n",
      "COMET INFO: Still uploading\n",
      "COMET INFO: Still uploading\n",
      "COMET INFO: Still uploading\n",
      "COMET INFO: Still uploading\n",
      "COMET INFO: Still uploading\n",
      "COMET INFO: Still uploading\n",
      "COMET INFO: Still uploading\n",
      "COMET INFO: Still uploading\n",
      "COMET INFO: Still uploading\n",
      "COMET INFO: Still uploading\n",
      "COMET INFO: Still uploading\n",
      "COMET INFO: Still uploading\n",
      "COMET INFO: Still uploading\n",
      "COMET INFO: Still uploading\n",
      "COMET INFO: Still uploading\n",
      "COMET INFO: Still uploading\n",
      "COMET INFO: Still uploading\n",
      "COMET INFO: Still uploading\n",
      "COMET INFO: Still uploading\n",
      "COMET INFO: Still uploading\n",
      "COMET INFO: Still uploading\n",
      "COMET INFO: Still uploading\n",
      "COMET INFO: Still uploading\n",
      "COMET INFO: Still uploading\n",
      "COMET INFO: Still uploading\n",
      "COMET INFO: Still uploading\n",
      "COMET INFO: Still uploading\n",
      "COMET INFO: Still uploading\n",
      "COMET INFO: Still uploading\n",
      "COMET INFO: Still uploading\n",
      "COMET INFO: Still uploading\n",
      "COMET INFO: Still uploading\n",
      "COMET INFO: Still uploading\n",
      "COMET INFO: Still uploading\n",
      "COMET INFO: Still uploading\n",
      "COMET INFO: Still uploading\n",
      "COMET INFO: Still uploading\n",
      "COMET INFO: Still uploading\n",
      "COMET INFO: Still uploading\n",
      "COMET INFO: Still uploading\n",
      "COMET INFO: Still uploading\n",
      "COMET INFO: Still uploading\n",
      "COMET INFO: Still uploading\n",
      "COMET INFO: Still uploading\n",
      "COMET INFO: Still uploading\n",
      "COMET INFO: Still uploading\n",
      "COMET INFO: Still uploading\n",
      "COMET INFO: Still uploading\n",
      "COMET INFO: Still uploading\n",
      "COMET INFO: Still uploading\n",
      "COMET INFO: Still uploading\n",
      "COMET INFO: Still uploading\n",
      "COMET INFO: Still uploading\n",
      "COMET INFO: Still uploading\n",
      "COMET INFO: Still uploading\n",
      "COMET INFO: Still uploading\n",
      "COMET INFO: Still uploading\n",
      "COMET INFO: Still uploading\n",
      "COMET INFO: Still uploading\n",
      "COMET INFO: Still uploading\n",
      "COMET INFO: Still uploading\n",
      "COMET INFO: Still uploading\n",
      "COMET INFO: Still uploading\n",
      "COMET INFO: Still uploading\n",
      "COMET INFO: Still uploading\n",
      "COMET INFO: Still uploading\n",
      "COMET INFO: Still uploading\n",
      "COMET INFO: Still uploading\n",
      "COMET INFO: Still uploading\n",
      "COMET INFO: Still uploading\n",
      "COMET INFO: Still uploading\n",
      "COMET INFO: Still uploading\n",
      "COMET INFO: Still uploading\n",
      "COMET INFO: Still uploading\n",
      "COMET INFO: Still uploading\n",
      "COMET INFO: Still uploading\n",
      "COMET INFO: Still uploading\n",
      "COMET INFO: Still uploading\n",
      "COMET INFO: Still uploading\n",
      "COMET INFO: Still uploading\n",
      "COMET INFO: Still uploading\n",
      "COMET INFO: Still uploading\n",
      "COMET INFO: Still uploading\n",
      "COMET INFO: Still uploading\n",
      "COMET INFO: Still uploading\n",
      "COMET INFO: Still uploading\n",
      "COMET INFO: Still uploading\n",
      "COMET INFO: Still uploading\n",
      "COMET INFO: Still uploading\n",
      "COMET INFO: Still uploading\n",
      "COMET INFO: Still uploading\n",
      "COMET INFO: Still uploading\n",
      "COMET INFO: Still uploading\n",
      "COMET INFO: Still uploading\n",
      "COMET INFO: Still uploading\n",
      "COMET INFO: Still uploading\n",
      "COMET INFO: Still uploading\n",
      "COMET INFO: Still uploading\n",
      "COMET INFO: Still uploading\n",
      "COMET INFO: Still uploading\n",
      "COMET INFO: Still uploading\n",
      "COMET INFO: Still uploading\n",
      "COMET INFO: Still uploading\n",
      "COMET INFO: Still uploading\n",
      "COMET INFO: Still uploading\n",
      "COMET ERROR: Comet failed to send all the data back (0 messages and 1 uploads)\n",
      "COMET WARNING: Failed to log run in comet.ml\n"
     ]
    },
    {
     "name": "stdout",
     "output_type": "stream",
     "text": [
      "Training finished.\n"
     ]
    }
   ],
   "source": [
    "#%%\n",
    "teacher = Teacher(env, 1, Preprocessor(False))\n",
    "\n",
    "lr = 4e-4\n",
    "config = Config(buffer_size=3*steps_per_ep*threads_no, batch_size=32, gamma=0.7, tau=1e-3, lr=lr, update_every=1)\n",
    "agent = Agent(QNetworkTf, history_length, action_size=7, config=config)\n",
    "agent.set_epsilon(0.9, 0.001, EPISODE_COUNT-2)\n",
    "\n",
    "# Test the model\n",
    "hyperparams = {**config.__dict__, **sim_args}\n",
    "tags = [\"Rew: normalized speed\",\n",
    "        \"Final\",\n",
    "        f\"{Agent.NAME}\",\n",
    "        sim_args['scenario'],\n",
    "        f\"LR: {lr}\",\n",
    "        f\"Instances: {threads_no}\",\n",
    "        f\"Station count: {sim_args['nWifi']}\",\n",
    "        *[f\"{key}: {sim_args[key]}\" for key in list(sim_args)[:3]]]\n",
    "# # agent.save()\n",
    "logger = teacher.train(agent, EPISODE_COUNT,\n",
    "                        simTime=simTime,\n",
    "                        stepTime=stepTime,\n",
    "                        history_length=history_length,\n",
    "                        send_logs=True,\n",
    "                        experimental=True,\n",
    "                        tags=tags,\n",
    "                        parameters=hyperparams)\n",
    "#logger = teacher.eval(agent,\n",
    "#                        simTime=simTime,\n",
    "#                        stepTime=stepTime,\n",
    "#                        history_length=history_length,\n",
    "#                        tags=tags,\n",
    "#                        parameters=hyperparams)\n",
    "# agent.save()\n",
    "\n",
    "\n",
    "# %%"
   ]
  },
  {
   "cell_type": "code",
   "execution_count": null,
   "id": "380a7537",
   "metadata": {},
   "outputs": [],
   "source": []
  },
  {
   "cell_type": "markdown",
   "id": "31f360de",
   "metadata": {},
   "source": [
    "# Execution num3:"
   ]
  },
  {
   "cell_type": "code",
   "execution_count": 1,
   "id": "777ec301",
   "metadata": {},
   "outputs": [
    {
     "name": "stderr",
     "output_type": "stream",
     "text": [
      "/home/samuel/anaconda3/envs/myEnv3_7/lib/python3.7/site-packages/tensorflow/python/framework/dtypes.py:516: FutureWarning: Passing (type, 1) or '1type' as a synonym of type is deprecated; in a future version of numpy, it will be understood as (type, (1,)) / '(1,)type'.\n",
      "  _np_qint8 = np.dtype([(\"qint8\", np.int8, 1)])\n",
      "/home/samuel/anaconda3/envs/myEnv3_7/lib/python3.7/site-packages/tensorflow/python/framework/dtypes.py:517: FutureWarning: Passing (type, 1) or '1type' as a synonym of type is deprecated; in a future version of numpy, it will be understood as (type, (1,)) / '(1,)type'.\n",
      "  _np_quint8 = np.dtype([(\"quint8\", np.uint8, 1)])\n",
      "/home/samuel/anaconda3/envs/myEnv3_7/lib/python3.7/site-packages/tensorflow/python/framework/dtypes.py:518: FutureWarning: Passing (type, 1) or '1type' as a synonym of type is deprecated; in a future version of numpy, it will be understood as (type, (1,)) / '(1,)type'.\n",
      "  _np_qint16 = np.dtype([(\"qint16\", np.int16, 1)])\n",
      "/home/samuel/anaconda3/envs/myEnv3_7/lib/python3.7/site-packages/tensorflow/python/framework/dtypes.py:519: FutureWarning: Passing (type, 1) or '1type' as a synonym of type is deprecated; in a future version of numpy, it will be understood as (type, (1,)) / '(1,)type'.\n",
      "  _np_quint16 = np.dtype([(\"quint16\", np.uint16, 1)])\n",
      "/home/samuel/anaconda3/envs/myEnv3_7/lib/python3.7/site-packages/tensorflow/python/framework/dtypes.py:520: FutureWarning: Passing (type, 1) or '1type' as a synonym of type is deprecated; in a future version of numpy, it will be understood as (type, (1,)) / '(1,)type'.\n",
      "  _np_qint32 = np.dtype([(\"qint32\", np.int32, 1)])\n",
      "/home/samuel/anaconda3/envs/myEnv3_7/lib/python3.7/site-packages/tensorflow/python/framework/dtypes.py:525: FutureWarning: Passing (type, 1) or '1type' as a synonym of type is deprecated; in a future version of numpy, it will be understood as (type, (1,)) / '(1,)type'.\n",
      "  np_resource = np.dtype([(\"resource\", np.ubyte, 1)])\n",
      "/home/samuel/anaconda3/envs/myEnv3_7/lib/python3.7/site-packages/tensorboard/compat/tensorflow_stub/dtypes.py:541: FutureWarning: Passing (type, 1) or '1type' as a synonym of type is deprecated; in a future version of numpy, it will be understood as (type, (1,)) / '(1,)type'.\n",
      "  _np_qint8 = np.dtype([(\"qint8\", np.int8, 1)])\n",
      "/home/samuel/anaconda3/envs/myEnv3_7/lib/python3.7/site-packages/tensorboard/compat/tensorflow_stub/dtypes.py:542: FutureWarning: Passing (type, 1) or '1type' as a synonym of type is deprecated; in a future version of numpy, it will be understood as (type, (1,)) / '(1,)type'.\n",
      "  _np_quint8 = np.dtype([(\"quint8\", np.uint8, 1)])\n",
      "/home/samuel/anaconda3/envs/myEnv3_7/lib/python3.7/site-packages/tensorboard/compat/tensorflow_stub/dtypes.py:543: FutureWarning: Passing (type, 1) or '1type' as a synonym of type is deprecated; in a future version of numpy, it will be understood as (type, (1,)) / '(1,)type'.\n",
      "  _np_qint16 = np.dtype([(\"qint16\", np.int16, 1)])\n",
      "/home/samuel/anaconda3/envs/myEnv3_7/lib/python3.7/site-packages/tensorboard/compat/tensorflow_stub/dtypes.py:544: FutureWarning: Passing (type, 1) or '1type' as a synonym of type is deprecated; in a future version of numpy, it will be understood as (type, (1,)) / '(1,)type'.\n",
      "  _np_quint16 = np.dtype([(\"quint16\", np.uint16, 1)])\n",
      "/home/samuel/anaconda3/envs/myEnv3_7/lib/python3.7/site-packages/tensorboard/compat/tensorflow_stub/dtypes.py:545: FutureWarning: Passing (type, 1) or '1type' as a synonym of type is deprecated; in a future version of numpy, it will be understood as (type, (1,)) / '(1,)type'.\n",
      "  _np_qint32 = np.dtype([(\"qint32\", np.int32, 1)])\n",
      "/home/samuel/anaconda3/envs/myEnv3_7/lib/python3.7/site-packages/tensorboard/compat/tensorflow_stub/dtypes.py:550: FutureWarning: Passing (type, 1) or '1type' as a synonym of type is deprecated; in a future version of numpy, it will be understood as (type, (1,)) / '(1,)type'.\n",
      "  np_resource = np.dtype([(\"resource\", np.ubyte, 1)])\n"
     ]
    }
   ],
   "source": [
    "#%%\n",
    "from ns3gym import ns3env\n",
    "from comet_ml import Experiment, Optimizer\n",
    "import tqdm\n",
    "import subprocess\n",
    "from collections import deque\n",
    "import numpy as np\n",
    "\n",
    "from agents.dqn.agent import Agent, Config\n",
    "from agents.dqn.model import QNetworkTf\n",
    "from agents.teacher import Teacher, EnvWrapper\n",
    "from preprocessor import Preprocessor"
   ]
  },
  {
   "cell_type": "code",
   "execution_count": 2,
   "id": "6d586948",
   "metadata": {},
   "outputs": [
    {
     "name": "stdout",
     "output_type": "stream",
     "text": [
      "Steps per episode: 6000\n",
      "Waiting for simulation script to connect on port: tcp://localhost:23532\n",
      "Please start proper ns-3 simulation script using ./waf --run \"...\"\n",
      "Waf: Entering directory `/home/samuel/ns-allinone-3.29/ns-3.29/build'\n",
      "Waf: Leaving directory `/home/samuel/ns-allinone-3.29/ns-3.29/build'\n",
      "Build commands will be stored in build/compile_commands.json\n",
      "'build' finished successfully (3.217s)\n"
     ]
    },
    {
     "name": "stderr",
     "output_type": "stream",
     "text": [
      "Ns3Env parameters:\n",
      "--nWifi: 30\n",
      "--simulationTime: 60\n",
      "--openGymPort: 23532\n",
      "--envStepTime: 0.01\n",
      "--seed: 42\n",
      "--agentType: discrete\n",
      "--scenario: basic\n",
      "--dryRun: 0\n",
      "Simulation started\n"
     ]
    },
    {
     "name": "stdout",
     "output_type": "stream",
     "text": [
      "Observation space shape: (1, 300)\n",
      "Action space shape: (1, 1)\n"
     ]
    },
    {
     "name": "stderr",
     "output_type": "stream",
     "text": [
      "Simulation process id: 2311425 (parent (waf shell) id: 2311401)\n",
      "Waiting for Python process to connect on port: tcp://localhost:23532\n",
      "Please start proper Python Gym Agent\n"
     ]
    }
   ],
   "source": [
    "#%%\n",
    "scenario = \"basic\"\n",
    "\n",
    "simTime = 60 # seconds\n",
    "stepTime = 0.01  # seconds\n",
    "history_length = 300\n",
    "\n",
    "EPISODE_COUNT = 15\n",
    "steps_per_ep = int(simTime/stepTime)\n",
    "\n",
    "sim_args = {\n",
    "    \"simTime\": simTime,\n",
    "    \"envStepTime\": stepTime,\n",
    "    \"historyLength\": history_length,\n",
    "    \"agentType\": Agent.TYPE,\n",
    "    \"scenario\": \"basic\",\n",
    "    \"nWifi\": 30,\n",
    "}\n",
    "\n",
    "print(\"Steps per episode:\", steps_per_ep)\n",
    "\n",
    "threads_no = 1\n",
    "env = EnvWrapper(threads_no, **sim_args)\n",
    "\n",
    "#%%\n",
    "env.reset()\n",
    "ob_space = env.observation_space\n",
    "ac_space = env.action_space\n",
    "\n",
    "print(\"Observation space shape:\", ob_space)\n",
    "print(\"Action space shape:\", ac_space)\n",
    "\n",
    "assert ob_space is not None"
   ]
  },
  {
   "cell_type": "code",
   "execution_count": 3,
   "id": "28512ee6",
   "metadata": {},
   "outputs": [
    {
     "name": "stdout",
     "output_type": "stream",
     "text": [
      "WARNING:tensorflow:From /home/samuel/ns-allinone-3.29/ns-3.29/scratch/RLinWiFi-master-original-queue-level-mean/agents/dqn/agent.py:53: The name tf.Session is deprecated. Please use tf.compat.v1.Session instead.\n",
      "\n",
      "WARNING:tensorflow:From /home/samuel/ns-allinone-3.29/ns-3.29/scratch/RLinWiFi-master-original-queue-level-mean/agents/dqn/model.py:25: The name tf.variable_scope is deprecated. Please use tf.compat.v1.variable_scope instead.\n",
      "\n",
      "WARNING:tensorflow:From /home/samuel/ns-allinone-3.29/ns-3.29/scratch/RLinWiFi-master-original-queue-level-mean/agents/dqn/model.py:26: The name tf.placeholder is deprecated. Please use tf.compat.v1.placeholder instead.\n",
      "\n"
     ]
    },
    {
     "name": "stderr",
     "output_type": "stream",
     "text": [
      "2023-02-16 14:01:16.500374: I tensorflow/core/platform/cpu_feature_guard.cc:142] Your CPU supports instructions that this TensorFlow binary was not compiled to use: AVX2 FMA\n",
      "2023-02-16 14:01:16.531975: I tensorflow/core/platform/profile_utils/cpu_utils.cc:94] CPU Frequency: 3491795000 Hz\n",
      "2023-02-16 14:01:16.532696: I tensorflow/compiler/xla/service/service.cc:168] XLA service 0x559c1e78b620 executing computations on platform Host. Devices:\n",
      "2023-02-16 14:01:16.532867: I tensorflow/compiler/xla/service/service.cc:175]   StreamExecutor device (0): <undefined>, <undefined>\n"
     ]
    },
    {
     "name": "stdout",
     "output_type": "stream",
     "text": [
      "WARNING:tensorflow:\n",
      "The TensorFlow contrib module will not be included in TensorFlow 2.0.\n",
      "For more information, please see:\n",
      "  * https://github.com/tensorflow/community/blob/master/rfcs/20180907-contrib-sunset.md\n",
      "  * https://github.com/tensorflow/addons\n",
      "  * https://github.com/tensorflow/io (for I/O related ops)\n",
      "If you depend on functionality not listed there, please file an issue.\n",
      "\n",
      "WARNING:tensorflow:From /home/samuel/ns-allinone-3.29/ns-3.29/scratch/RLinWiFi-master-original-queue-level-mean/agents/dqn/model.py:52: LSTMCell.__init__ (from tensorflow.python.ops.rnn_cell_impl) is deprecated and will be removed in a future version.\n",
      "Instructions for updating:\n",
      "This class is equivalent as tf.keras.layers.LSTMCell, and will be replaced by that in Tensorflow 2.0.\n",
      "WARNING:tensorflow:From /home/samuel/ns-allinone-3.29/ns-3.29/scratch/RLinWiFi-master-original-queue-level-mean/agents/dqn/model.py:52: static_rnn (from tensorflow.python.ops.rnn) is deprecated and will be removed in a future version.\n",
      "Instructions for updating:\n",
      "Please use `keras.layers.RNN(cell, unroll=True)`, which is equivalent to this API\n",
      "WARNING:tensorflow:From /home/samuel/anaconda3/envs/myEnv3_7/lib/python3.7/site-packages/tensorflow/python/ops/init_ops.py:1251: calling VarianceScaling.__init__ (from tensorflow.python.ops.init_ops) with dtype is deprecated and will be removed in a future version.\n",
      "Instructions for updating:\n",
      "Call initializer instance with the dtype argument instead of passing it to the constructor\n",
      "WARNING:tensorflow:From /home/samuel/anaconda3/envs/myEnv3_7/lib/python3.7/site-packages/tensorflow/python/ops/rnn_cell_impl.py:961: calling Zeros.__init__ (from tensorflow.python.ops.init_ops) with dtype is deprecated and will be removed in a future version.\n",
      "Instructions for updating:\n",
      "Call initializer instance with the dtype argument instead of passing it to the constructor\n",
      "WARNING:tensorflow:Entity <bound method LSTMCell.call of <tensorflow.python.ops.rnn_cell_impl.LSTMCell object at 0x7f2903c72550>> could not be transformed and will be executed as-is. Please report this to the AutgoGraph team. When filing the bug, set the verbosity to 10 (on Linux, `export AUTOGRAPH_VERBOSITY=10`) and attach the full output. Cause: converting <bound method LSTMCell.call of <tensorflow.python.ops.rnn_cell_impl.LSTMCell object at 0x7f2903c72550>>: AttributeError: module 'gast' has no attribute 'Index'\n",
      "WARNING: Entity <bound method LSTMCell.call of <tensorflow.python.ops.rnn_cell_impl.LSTMCell object at 0x7f2903c72550>> could not be transformed and will be executed as-is. Please report this to the AutgoGraph team. When filing the bug, set the verbosity to 10 (on Linux, `export AUTOGRAPH_VERBOSITY=10`) and attach the full output. Cause: converting <bound method LSTMCell.call of <tensorflow.python.ops.rnn_cell_impl.LSTMCell object at 0x7f2903c72550>>: AttributeError: module 'gast' has no attribute 'Index'\n",
      "WARNING:tensorflow:Entity <bound method LSTMCell.call of <tensorflow.python.ops.rnn_cell_impl.LSTMCell object at 0x7f2903c72550>> could not be transformed and will be executed as-is. Please report this to the AutgoGraph team. When filing the bug, set the verbosity to 10 (on Linux, `export AUTOGRAPH_VERBOSITY=10`) and attach the full output. Cause: converting <bound method LSTMCell.call of <tensorflow.python.ops.rnn_cell_impl.LSTMCell object at 0x7f2903c72550>>: AttributeError: module 'gast' has no attribute 'Index'\n",
      "WARNING: Entity <bound method LSTMCell.call of <tensorflow.python.ops.rnn_cell_impl.LSTMCell object at 0x7f2903c72550>> could not be transformed and will be executed as-is. Please report this to the AutgoGraph team. When filing the bug, set the verbosity to 10 (on Linux, `export AUTOGRAPH_VERBOSITY=10`) and attach the full output. Cause: converting <bound method LSTMCell.call of <tensorflow.python.ops.rnn_cell_impl.LSTMCell object at 0x7f2903c72550>>: AttributeError: module 'gast' has no attribute 'Index'\n",
      "WARNING:tensorflow:Entity <bound method LSTMCell.call of <tensorflow.python.ops.rnn_cell_impl.LSTMCell object at 0x7f2903c72550>> could not be transformed and will be executed as-is. Please report this to the AutgoGraph team. When filing the bug, set the verbosity to 10 (on Linux, `export AUTOGRAPH_VERBOSITY=10`) and attach the full output. Cause: converting <bound method LSTMCell.call of <tensorflow.python.ops.rnn_cell_impl.LSTMCell object at 0x7f2903c72550>>: AttributeError: module 'gast' has no attribute 'Index'\n",
      "WARNING: Entity <bound method LSTMCell.call of <tensorflow.python.ops.rnn_cell_impl.LSTMCell object at 0x7f2903c72550>> could not be transformed and will be executed as-is. Please report this to the AutgoGraph team. When filing the bug, set the verbosity to 10 (on Linux, `export AUTOGRAPH_VERBOSITY=10`) and attach the full output. Cause: converting <bound method LSTMCell.call of <tensorflow.python.ops.rnn_cell_impl.LSTMCell object at 0x7f2903c72550>>: AttributeError: module 'gast' has no attribute 'Index'\n",
      "WARNING:tensorflow:Entity <bound method LSTMCell.call of <tensorflow.python.ops.rnn_cell_impl.LSTMCell object at 0x7f2903c72550>> could not be transformed and will be executed as-is. Please report this to the AutgoGraph team. When filing the bug, set the verbosity to 10 (on Linux, `export AUTOGRAPH_VERBOSITY=10`) and attach the full output. Cause: converting <bound method LSTMCell.call of <tensorflow.python.ops.rnn_cell_impl.LSTMCell object at 0x7f2903c72550>>: AttributeError: module 'gast' has no attribute 'Index'\n",
      "WARNING: Entity <bound method LSTMCell.call of <tensorflow.python.ops.rnn_cell_impl.LSTMCell object at 0x7f2903c72550>> could not be transformed and will be executed as-is. Please report this to the AutgoGraph team. When filing the bug, set the verbosity to 10 (on Linux, `export AUTOGRAPH_VERBOSITY=10`) and attach the full output. Cause: converting <bound method LSTMCell.call of <tensorflow.python.ops.rnn_cell_impl.LSTMCell object at 0x7f2903c72550>>: AttributeError: module 'gast' has no attribute 'Index'\n",
      "WARNING:tensorflow:From /home/samuel/ns-allinone-3.29/ns-3.29/scratch/RLinWiFi-master-original-queue-level-mean/agents/dqn/model.py:53: dense (from tensorflow.python.layers.core) is deprecated and will be removed in a future version.\n",
      "Instructions for updating:\n",
      "Use keras.layers.dense instead.\n",
      "WARNING:tensorflow:Entity <bound method Dense.call of <tensorflow.python.layers.core.Dense object at 0x7f290378b550>> could not be transformed and will be executed as-is. Please report this to the AutgoGraph team. When filing the bug, set the verbosity to 10 (on Linux, `export AUTOGRAPH_VERBOSITY=10`) and attach the full output. Cause: converting <bound method Dense.call of <tensorflow.python.layers.core.Dense object at 0x7f290378b550>>: AttributeError: module 'gast' has no attribute 'Index'\n",
      "WARNING: Entity <bound method Dense.call of <tensorflow.python.layers.core.Dense object at 0x7f290378b550>> could not be transformed and will be executed as-is. Please report this to the AutgoGraph team. When filing the bug, set the verbosity to 10 (on Linux, `export AUTOGRAPH_VERBOSITY=10`) and attach the full output. Cause: converting <bound method Dense.call of <tensorflow.python.layers.core.Dense object at 0x7f290378b550>>: AttributeError: module 'gast' has no attribute 'Index'\n",
      "WARNING:tensorflow:Entity <bound method Dense.call of <tensorflow.python.layers.core.Dense object at 0x7f290378b550>> could not be transformed and will be executed as-is. Please report this to the AutgoGraph team. When filing the bug, set the verbosity to 10 (on Linux, `export AUTOGRAPH_VERBOSITY=10`) and attach the full output. Cause: converting <bound method Dense.call of <tensorflow.python.layers.core.Dense object at 0x7f290378b550>>: AttributeError: module 'gast' has no attribute 'Index'\n",
      "WARNING: Entity <bound method Dense.call of <tensorflow.python.layers.core.Dense object at 0x7f290378b550>> could not be transformed and will be executed as-is. Please report this to the AutgoGraph team. When filing the bug, set the verbosity to 10 (on Linux, `export AUTOGRAPH_VERBOSITY=10`) and attach the full output. Cause: converting <bound method Dense.call of <tensorflow.python.layers.core.Dense object at 0x7f290378b550>>: AttributeError: module 'gast' has no attribute 'Index'\n",
      "WARNING:tensorflow:Entity <bound method Dense.call of <tensorflow.python.layers.core.Dense object at 0x7f290378b550>> could not be transformed and will be executed as-is. Please report this to the AutgoGraph team. When filing the bug, set the verbosity to 10 (on Linux, `export AUTOGRAPH_VERBOSITY=10`) and attach the full output. Cause: converting <bound method Dense.call of <tensorflow.python.layers.core.Dense object at 0x7f290378b550>>: AttributeError: module 'gast' has no attribute 'Index'\n"
     ]
    },
    {
     "name": "stdout",
     "output_type": "stream",
     "text": [
      "WARNING: Entity <bound method Dense.call of <tensorflow.python.layers.core.Dense object at 0x7f290378b550>> could not be transformed and will be executed as-is. Please report this to the AutgoGraph team. When filing the bug, set the verbosity to 10 (on Linux, `export AUTOGRAPH_VERBOSITY=10`) and attach the full output. Cause: converting <bound method Dense.call of <tensorflow.python.layers.core.Dense object at 0x7f290378b550>>: AttributeError: module 'gast' has no attribute 'Index'\n",
      "WARNING:tensorflow:From /home/samuel/ns-allinone-3.29/ns-3.29/scratch/RLinWiFi-master-original-queue-level-mean/agents/dqn/model.py:69: The name tf.losses.mean_squared_error is deprecated. Please use tf.compat.v1.losses.mean_squared_error instead.\n",
      "\n",
      "WARNING:tensorflow:From /home/samuel/anaconda3/envs/myEnv3_7/lib/python3.7/site-packages/tensorflow/python/ops/losses/losses_impl.py:121: add_dispatch_support.<locals>.wrapper (from tensorflow.python.ops.array_ops) is deprecated and will be removed in a future version.\n",
      "Instructions for updating:\n",
      "Use tf.where in 2.0, which has the same broadcast rule as np.where\n",
      "WARNING:tensorflow:From /home/samuel/ns-allinone-3.29/ns-3.29/scratch/RLinWiFi-master-original-queue-level-mean/agents/dqn/model.py:77: The name tf.train.AdamOptimizer is deprecated. Please use tf.compat.v1.train.AdamOptimizer instead.\n",
      "\n",
      "WARNING:tensorflow:From /home/samuel/ns-allinone-3.29/ns-3.29/scratch/RLinWiFi-master-original-queue-level-mean/agents/dqn/model.py:33: The name tf.global_variables_initializer is deprecated. Please use tf.compat.v1.global_variables_initializer instead.\n",
      "\n",
      "WARNING:tensorflow:From /home/samuel/ns-allinone-3.29/ns-3.29/scratch/RLinWiFi-master-original-queue-level-mean/agents/dqn/model.py:34: The name tf.local_variables_initializer is deprecated. Please use tf.compat.v1.local_variables_initializer instead.\n",
      "\n",
      "WARNING:tensorflow:Entity <bound method LSTMCell.call of <tensorflow.python.ops.rnn_cell_impl.LSTMCell object at 0x7f28b4b98b10>> could not be transformed and will be executed as-is. Please report this to the AutgoGraph team. When filing the bug, set the verbosity to 10 (on Linux, `export AUTOGRAPH_VERBOSITY=10`) and attach the full output. Cause: converting <bound method LSTMCell.call of <tensorflow.python.ops.rnn_cell_impl.LSTMCell object at 0x7f28b4b98b10>>: AttributeError: module 'gast' has no attribute 'Index'\n",
      "WARNING: Entity <bound method LSTMCell.call of <tensorflow.python.ops.rnn_cell_impl.LSTMCell object at 0x7f28b4b98b10>> could not be transformed and will be executed as-is. Please report this to the AutgoGraph team. When filing the bug, set the verbosity to 10 (on Linux, `export AUTOGRAPH_VERBOSITY=10`) and attach the full output. Cause: converting <bound method LSTMCell.call of <tensorflow.python.ops.rnn_cell_impl.LSTMCell object at 0x7f28b4b98b10>>: AttributeError: module 'gast' has no attribute 'Index'\n",
      "WARNING:tensorflow:Entity <bound method LSTMCell.call of <tensorflow.python.ops.rnn_cell_impl.LSTMCell object at 0x7f28b4b98b10>> could not be transformed and will be executed as-is. Please report this to the AutgoGraph team. When filing the bug, set the verbosity to 10 (on Linux, `export AUTOGRAPH_VERBOSITY=10`) and attach the full output. Cause: converting <bound method LSTMCell.call of <tensorflow.python.ops.rnn_cell_impl.LSTMCell object at 0x7f28b4b98b10>>: AttributeError: module 'gast' has no attribute 'Index'\n"
     ]
    },
    {
     "name": "stderr",
     "output_type": "stream",
     "text": [
      "2023-02-16 14:01:18.708972: W tensorflow/compiler/jit/mark_for_compilation_pass.cc:1412] (One-time warning): Not using XLA:CPU for cluster because envvar TF_XLA_FLAGS=--tf_xla_cpu_global_jit was not set.  If you want XLA:CPU, either set that envvar, or use experimental_jit_scope to enable XLA:CPU.  To confirm that XLA is active, pass --vmodule=xla_compilation_cache=1 (as a proper command-line flag, not via TF_XLA_FLAGS) or set the envvar XLA_FLAGS=--xla_hlo_profile.\n"
     ]
    },
    {
     "name": "stdout",
     "output_type": "stream",
     "text": [
      "WARNING: Entity <bound method LSTMCell.call of <tensorflow.python.ops.rnn_cell_impl.LSTMCell object at 0x7f28b4b98b10>> could not be transformed and will be executed as-is. Please report this to the AutgoGraph team. When filing the bug, set the verbosity to 10 (on Linux, `export AUTOGRAPH_VERBOSITY=10`) and attach the full output. Cause: converting <bound method LSTMCell.call of <tensorflow.python.ops.rnn_cell_impl.LSTMCell object at 0x7f28b4b98b10>>: AttributeError: module 'gast' has no attribute 'Index'\n",
      "WARNING:tensorflow:Entity <bound method LSTMCell.call of <tensorflow.python.ops.rnn_cell_impl.LSTMCell object at 0x7f28b4b98b10>> could not be transformed and will be executed as-is. Please report this to the AutgoGraph team. When filing the bug, set the verbosity to 10 (on Linux, `export AUTOGRAPH_VERBOSITY=10`) and attach the full output. Cause: converting <bound method LSTMCell.call of <tensorflow.python.ops.rnn_cell_impl.LSTMCell object at 0x7f28b4b98b10>>: AttributeError: module 'gast' has no attribute 'Index'\n",
      "WARNING: Entity <bound method LSTMCell.call of <tensorflow.python.ops.rnn_cell_impl.LSTMCell object at 0x7f28b4b98b10>> could not be transformed and will be executed as-is. Please report this to the AutgoGraph team. When filing the bug, set the verbosity to 10 (on Linux, `export AUTOGRAPH_VERBOSITY=10`) and attach the full output. Cause: converting <bound method LSTMCell.call of <tensorflow.python.ops.rnn_cell_impl.LSTMCell object at 0x7f28b4b98b10>>: AttributeError: module 'gast' has no attribute 'Index'\n",
      "WARNING:tensorflow:Entity <bound method LSTMCell.call of <tensorflow.python.ops.rnn_cell_impl.LSTMCell object at 0x7f28b4b98b10>> could not be transformed and will be executed as-is. Please report this to the AutgoGraph team. When filing the bug, set the verbosity to 10 (on Linux, `export AUTOGRAPH_VERBOSITY=10`) and attach the full output. Cause: converting <bound method LSTMCell.call of <tensorflow.python.ops.rnn_cell_impl.LSTMCell object at 0x7f28b4b98b10>>: AttributeError: module 'gast' has no attribute 'Index'\n",
      "WARNING: Entity <bound method LSTMCell.call of <tensorflow.python.ops.rnn_cell_impl.LSTMCell object at 0x7f28b4b98b10>> could not be transformed and will be executed as-is. Please report this to the AutgoGraph team. When filing the bug, set the verbosity to 10 (on Linux, `export AUTOGRAPH_VERBOSITY=10`) and attach the full output. Cause: converting <bound method LSTMCell.call of <tensorflow.python.ops.rnn_cell_impl.LSTMCell object at 0x7f28b4b98b10>>: AttributeError: module 'gast' has no attribute 'Index'\n",
      "WARNING:tensorflow:Entity <bound method Dense.call of <tensorflow.python.layers.core.Dense object at 0x7f28b4b98b10>> could not be transformed and will be executed as-is. Please report this to the AutgoGraph team. When filing the bug, set the verbosity to 10 (on Linux, `export AUTOGRAPH_VERBOSITY=10`) and attach the full output. Cause: converting <bound method Dense.call of <tensorflow.python.layers.core.Dense object at 0x7f28b4b98b10>>: AttributeError: module 'gast' has no attribute 'Index'\n",
      "WARNING: Entity <bound method Dense.call of <tensorflow.python.layers.core.Dense object at 0x7f28b4b98b10>> could not be transformed and will be executed as-is. Please report this to the AutgoGraph team. When filing the bug, set the verbosity to 10 (on Linux, `export AUTOGRAPH_VERBOSITY=10`) and attach the full output. Cause: converting <bound method Dense.call of <tensorflow.python.layers.core.Dense object at 0x7f28b4b98b10>>: AttributeError: module 'gast' has no attribute 'Index'\n",
      "WARNING:tensorflow:Entity <bound method Dense.call of <tensorflow.python.layers.core.Dense object at 0x7f28b4b98b10>> could not be transformed and will be executed as-is. Please report this to the AutgoGraph team. When filing the bug, set the verbosity to 10 (on Linux, `export AUTOGRAPH_VERBOSITY=10`) and attach the full output. Cause: converting <bound method Dense.call of <tensorflow.python.layers.core.Dense object at 0x7f28b4b98b10>>: AttributeError: module 'gast' has no attribute 'Index'\n",
      "WARNING: Entity <bound method Dense.call of <tensorflow.python.layers.core.Dense object at 0x7f28b4b98b10>> could not be transformed and will be executed as-is. Please report this to the AutgoGraph team. When filing the bug, set the verbosity to 10 (on Linux, `export AUTOGRAPH_VERBOSITY=10`) and attach the full output. Cause: converting <bound method Dense.call of <tensorflow.python.layers.core.Dense object at 0x7f28b4b98b10>>: AttributeError: module 'gast' has no attribute 'Index'\n",
      "WARNING:tensorflow:Entity <bound method Dense.call of <tensorflow.python.layers.core.Dense object at 0x7f28b4b98b10>> could not be transformed and will be executed as-is. Please report this to the AutgoGraph team. When filing the bug, set the verbosity to 10 (on Linux, `export AUTOGRAPH_VERBOSITY=10`) and attach the full output. Cause: converting <bound method Dense.call of <tensorflow.python.layers.core.Dense object at 0x7f28b4b98b10>>: AttributeError: module 'gast' has no attribute 'Index'\n",
      "WARNING: Entity <bound method Dense.call of <tensorflow.python.layers.core.Dense object at 0x7f28b4b98b10>> could not be transformed and will be executed as-is. Please report this to the AutgoGraph team. When filing the bug, set the verbosity to 10 (on Linux, `export AUTOGRAPH_VERBOSITY=10`) and attach the full output. Cause: converting <bound method Dense.call of <tensorflow.python.layers.core.Dense object at 0x7f28b4b98b10>>: AttributeError: module 'gast' has no attribute 'Index'\n",
      "WARNING:tensorflow:From /home/samuel/ns-allinone-3.29/ns-3.29/scratch/RLinWiFi-master-original-queue-level-mean/agents/dqn/agent.py:77: The name tf.train.Saver is deprecated. Please use tf.compat.v1.train.Saver instead.\n",
      "\n",
      "Action space: 7\n",
      "WARNING:tensorflow:From /home/samuel/ns-allinone-3.29/ns-3.29/scratch/RLinWiFi-master-original-queue-level-mean/agents/dqn/agent.py:107: Variable.load (from tensorflow.python.ops.variables) is deprecated and will be removed in a future version.\n",
      "Instructions for updating:\n",
      "Prefer Variable.assign which has equivalent behavior in 2.X.\n"
     ]
    },
    {
     "name": "stderr",
     "output_type": "stream",
     "text": [
      "COMET INFO: Experiment is live on comet.ml https://www.comet.com/sheila-janota/rl-in-wifi-with-queue-level/d66ca3f2d1a3408aa8147adf879adad2\n",
      "\n",
      "  0%|          | 0/6300 [00:00<?, ?it/s]"
     ]
    },
    {
     "name": "stdout",
     "output_type": "stream",
     "text": [
      "0\n"
     ]
    },
    {
     "name": "stderr",
     "output_type": "stream",
     "text": [
      "  5%|▌         | 333/6300 [04:35<1:37:47,  1.02it/s, curr_speed=31.87 Mbps, mb_sent=10.20 Mb]"
     ]
    },
    {
     "name": "stdout",
     "output_type": "stream",
     "text": [
      "------- STARTED TRAINING -------\n"
     ]
    },
    {
     "name": "stderr",
     "output_type": "stream",
     "text": [
      " 36%|███▌      | 2275/6300 [32:51<1:01:32,  1.09it/s, curr_speed=32.69 Mbps, mb_sent=644.42 Mb]COMET ERROR: File could not be uploaded\n",
      " 36%|███▋      | 2286/6300 [33:00<1:00:57,  1.10it/s, curr_speed=33.37 Mbps, mb_sent=648.08 Mb]COMET ERROR: File could not be uploaded\n",
      " 36%|███▋      | 2287/6300 [33:01<1:02:38,  1.07it/s, curr_speed=33.53 Mbps, mb_sent=648.45 Mb]COMET ERROR: File could not be uploaded\n",
      " 36%|███▋      | 2288/6300 [33:02<1:05:06,  1.03it/s, curr_speed=33.55 Mbps, mb_sent=648.82 Mb]COMET ERROR: File could not be uploaded\n",
      " 36%|███▋      | 2292/6300 [33:06<1:02:50,  1.06it/s, curr_speed=33.47 Mbps, mb_sent=650.13 Mb]COMET ERROR: File could not be uploaded\n",
      " 36%|███▋      | 2293/6300 [33:07<1:03:17,  1.06it/s, curr_speed=33.46 Mbps, mb_sent=650.50 Mb]COMET ERROR: File could not be uploaded\n",
      " 36%|███▋      | 2296/6300 [33:09<54:54,  1.22it/s, curr_speed=33.44 Mbps, mb_sent=651.52 Mb]  COMET ERROR: File could not be uploaded\n",
      " 37%|███▋      | 2300/6300 [33:12<53:02,  1.26it/s, curr_speed=33.84 Mbps, mb_sent=652.88 Mb]COMET ERROR: File could not be uploaded\n",
      " 37%|███▋      | 2311/6300 [33:21<52:45,  1.26it/s, curr_speed=34.18 Mbps, mb_sent=656.80 Mb]COMET ERROR: File could not be uploaded\n",
      " 37%|███▋      | 2316/6300 [33:25<56:43,  1.17it/s, curr_speed=34.28 Mbps, mb_sent=658.43 Mb]COMET ERROR: File could not be uploaded\n",
      " 37%|███▋      | 2326/6300 [33:34<56:56,  1.16it/s, curr_speed=34.12 Mbps, mb_sent=661.60 Mb]  COMET ERROR: File could not be uploaded\n",
      " 37%|███▋      | 2336/6300 [33:42<54:05,  1.22it/s, curr_speed=33.79 Mbps, mb_sent=664.61 Mb]COMET ERROR: File could not be uploaded\n",
      "COMET ERROR: File could not be uploaded\n",
      "COMET ERROR: File could not be uploaded\n",
      " 37%|███▋      | 2352/6300 [33:56<59:45,  1.10it/s, curr_speed=34.04 Mbps, mb_sent=670.26 Mb]  COMET ERROR: File could not be uploaded\n",
      " 37%|███▋      | 2353/6300 [33:57<59:44,  1.10it/s, curr_speed=34.08 Mbps, mb_sent=670.64 Mb]COMET ERROR: File could not be uploaded\n",
      " 37%|███▋      | 2360/6300 [34:02<51:48,  1.27it/s, curr_speed=33.82 Mbps, mb_sent=672.82 Mb]  COMET ERROR: File could not be uploaded\n",
      " 38%|███▊      | 2371/6300 [34:12<56:31,  1.16it/s, curr_speed=33.22 Mbps, mb_sent=676.32 Mb]  COMET ERROR: File could not be uploaded\n",
      " 38%|███▊      | 2375/6300 [34:16<53:28,  1.22it/s, curr_speed=32.39 Mbps, mb_sent=676.81 Mb]COMET ERROR: File could not be uploaded\n",
      " 38%|███▊      | 2376/6300 [34:16<51:12,  1.28it/s, curr_speed=32.27 Mbps, mb_sent=677.05 Mb]COMET ERROR: File could not be uploaded\n",
      " 38%|███▊      | 2379/6300 [34:19<58:21,  1.12it/s, curr_speed=32.22 Mbps, mb_sent=678.06 Mb]COMET ERROR: File could not be uploaded\n",
      " 38%|███▊      | 2381/6300 [34:21<58:17,  1.12it/s, curr_speed=32.39 Mbps, mb_sent=678.77 Mb]COMET ERROR: File could not be uploaded\n",
      " 38%|███▊      | 2383/6300 [34:23<58:31,  1.12it/s, curr_speed=32.12 Mbps, mb_sent=679.20 Mb]COMET ERROR: File could not be uploaded\n",
      " 38%|███▊      | 2387/6300 [34:26<58:07,  1.12it/s, curr_speed=32.31 Mbps, mb_sent=680.77 Mb]COMET ERROR: File could not be uploaded\n",
      " 38%|███▊      | 2392/6300 [34:31<56:52,  1.15it/s, curr_speed=32.41 Mbps, mb_sent=682.54 Mb]  COMET ERROR: File could not be uploaded\n",
      " 38%|███▊      | 2410/6300 [34:46<56:37,  1.14it/s, curr_speed=32.06 Mbps, mb_sent=688.54 Mb]COMET ERROR: File could not be uploaded\n",
      " 38%|███▊      | 2411/6300 [34:47<1:00:22,  1.07it/s, curr_speed=32.00 Mbps, mb_sent=688.80 Mb]COMET ERROR: File could not be uploaded\n",
      "COMET ERROR: File could not be uploaded\n",
      "COMET ERROR: File could not be uploaded\n",
      "COMET ERROR: File could not be uploaded\n",
      "COMET ERROR: File could not be uploaded\n",
      "COMET ERROR: File could not be uploaded\n",
      "COMET ERROR: File could not be uploaded\n",
      " 38%|███▊      | 2413/6300 [34:49<1:04:44,  1.00it/s, curr_speed=31.98 Mbps, mb_sent=689.49 Mb]COMET ERROR: File could not be uploaded\n",
      " 38%|███▊      | 2419/6300 [34:55<1:00:55,  1.06it/s, curr_speed=32.25 Mbps, mb_sent=691.38 Mb]COMET ERROR: File could not be uploaded\n",
      " 38%|███▊      | 2423/6300 [34:59<1:04:42,  1.00s/it, curr_speed=32.01 Mbps, mb_sent=692.55 Mb]COMET ERROR: File could not be uploaded\n",
      " 38%|███▊      | 2425/6300 [35:00<57:38,  1.12it/s, curr_speed=31.93 Mbps, mb_sent=693.22 Mb]  COMET ERROR: File could not be uploaded\n",
      " 39%|███▊      | 2441/6300 [35:15<56:10,  1.14it/s, curr_speed=31.93 Mbps, mb_sent=698.29 Mb]  COMET ERROR: File could not be uploaded\n",
      "COMET ERROR: File could not be uploaded\n",
      " 39%|███▉      | 2443/6300 [35:17<52:38,  1.22it/s, curr_speed=31.82 Mbps, mb_sent=698.89 Mb]COMET ERROR: File could not be uploaded\n",
      " 39%|███▉      | 2447/6300 [35:20<57:02,  1.13it/s, curr_speed=31.72 Mbps, mb_sent=700.21 Mb]COMET ERROR: File could not be uploaded\n",
      " 39%|███▉      | 2449/6300 [35:22<57:42,  1.11it/s, curr_speed=31.79 Mbps, mb_sent=700.90 Mb]COMET ERROR: File could not be uploaded\n",
      " 39%|███▉      | 2456/6300 [35:28<53:21,  1.20it/s, curr_speed=31.46 Mbps, mb_sent=703.09 Mb]  COMET ERROR: File could not be uploaded\n",
      " 39%|███▉      | 2475/6300 [35:44<51:28,  1.24it/s, curr_speed=31.84 Mbps, mb_sent=708.66 Mb]COMET ERROR: File could not be uploaded\n",
      " 39%|███▉      | 2485/6300 [35:52<53:06,  1.20it/s, curr_speed=32.09 Mbps, mb_sent=712.07 Mb]COMET ERROR: File could not be uploaded\n",
      " 40%|███▉      | 2490/6300 [35:57<53:18,  1.19it/s, curr_speed=31.71 Mbps, mb_sent=713.50 Mb]COMET ERROR: File could not be uploaded\n",
      " 40%|███▉      | 2492/6300 [35:58<52:35,  1.21it/s, curr_speed=31.49 Mbps, mb_sent=714.03 Mb]COMET ERROR: File could not be uploaded\n",
      "100%|██████████| 6300/6300 [1:31:57<00:00,  1.14it/s, curr_speed=33.27 Mbps, mb_sent=1959.72 Mb]\n"
     ]
    },
    {
     "name": "stdout",
     "output_type": "stream",
     "text": [
      "Waiting for simulation script to connect on port: tcp://localhost:26838\n",
      "Please start proper ns-3 simulation script using ./waf --run \"...\"\n",
      "Waf: Entering directory `/home/samuel/ns-allinone-3.29/ns-3.29/build'\n",
      "Waf: Leaving directory `/home/samuel/ns-allinone-3.29/ns-3.29/build'\n",
      "Build commands will be stored in build/compile_commands.json\n",
      "'build' finished successfully (3.061s)\n"
     ]
    },
    {
     "name": "stderr",
     "output_type": "stream",
     "text": [
      "Ns3Env parameters:\n",
      "--nWifi: 30\n",
      "--simulationTime: 60\n",
      "--openGymPort: 26838\n",
      "--envStepTime: 0.01\n",
      "--seed: 42\n",
      "--agentType: discrete\n",
      "--scenario: basic\n",
      "--dryRun: 0\n",
      "Simulation started\n",
      "Simulation process id: 2332631 (parent (waf shell) id: 2332608)\n",
      "Waiting for Python process to connect on port: tcp://localhost:26838\n",
      "Please start proper Python Gym Agent\n",
      "  0%|          | 0/6300 [00:00<?, ?it/s]"
     ]
    },
    {
     "name": "stdout",
     "output_type": "stream",
     "text": [
      "Sent 1959.72 Mb/s.\tMean speed: 32.66 Mb/s\tEpisode 1/15 finished\n",
      "\n",
      "1\n"
     ]
    },
    {
     "name": "stderr",
     "output_type": "stream",
     "text": [
      "100%|██████████| 6300/6300 [1:32:07<00:00,  1.14it/s, curr_speed=33.53 Mbps, mb_sent=2054.99 Mb]\n"
     ]
    },
    {
     "name": "stdout",
     "output_type": "stream",
     "text": [
      "Waiting for simulation script to connect on port: tcp://localhost:26387\n",
      "Please start proper ns-3 simulation script using ./waf --run \"...\"\n",
      "Waf: Entering directory `/home/samuel/ns-allinone-3.29/ns-3.29/build'\n",
      "Waf: Leaving directory `/home/samuel/ns-allinone-3.29/ns-3.29/build'\n",
      "Build commands will be stored in build/compile_commands.json\n",
      "'build' finished successfully (2.903s)\n"
     ]
    },
    {
     "name": "stderr",
     "output_type": "stream",
     "text": [
      "Ns3Env parameters:\n",
      "--nWifi: 30\n",
      "--simulationTime: 60\n",
      "--openGymPort: 26387\n",
      "--envStepTime: 0.01\n",
      "--seed: 42\n",
      "--agentType: discrete\n",
      "--scenario: basic\n",
      "--dryRun: 0\n",
      "Simulation started\n",
      "Simulation process id: 2354543 (parent (waf shell) id: 2354519)\n",
      "Waiting for Python process to connect on port: tcp://localhost:26387\n",
      "Please start proper Python Gym Agent\n",
      "  0%|          | 0/6300 [00:00<?, ?it/s]"
     ]
    },
    {
     "name": "stdout",
     "output_type": "stream",
     "text": [
      "Sent 2054.99 Mb/s.\tMean speed: 34.25 Mb/s\tEpisode 2/15 finished\n",
      "\n",
      "2\n"
     ]
    },
    {
     "name": "stderr",
     "output_type": "stream",
     "text": [
      "100%|██████████| 6300/6300 [1:31:08<00:00,  1.15it/s, curr_speed=34.83 Mbps, mb_sent=2119.25 Mb]\n"
     ]
    },
    {
     "name": "stdout",
     "output_type": "stream",
     "text": [
      "Waiting for simulation script to connect on port: tcp://localhost:41380\n",
      "Please start proper ns-3 simulation script using ./waf --run \"...\"\n",
      "Waf: Entering directory `/home/samuel/ns-allinone-3.29/ns-3.29/build'\n",
      "Waf: Leaving directory `/home/samuel/ns-allinone-3.29/ns-3.29/build'\n",
      "Build commands will be stored in build/compile_commands.json\n",
      "'build' finished successfully (3.148s)\n"
     ]
    },
    {
     "name": "stderr",
     "output_type": "stream",
     "text": [
      "Ns3Env parameters:\n",
      "--nWifi: 30\n",
      "--simulationTime: 60\n",
      "--openGymPort: 41380\n",
      "--envStepTime: 0.01\n",
      "--seed: 42\n",
      "--agentType: discrete\n",
      "--scenario: basic\n",
      "--dryRun: 0\n",
      "Simulation started\n",
      "Simulation process id: 2375994 (parent (waf shell) id: 2375972)\n",
      "Waiting for Python process to connect on port: tcp://localhost:41380\n",
      "Please start proper Python Gym Agent\n",
      "  0%|          | 0/6300 [00:00<?, ?it/s]"
     ]
    },
    {
     "name": "stdout",
     "output_type": "stream",
     "text": [
      "Sent 2119.25 Mb/s.\tMean speed: 35.32 Mb/s\tEpisode 3/15 finished\n",
      "\n",
      "3\n"
     ]
    },
    {
     "name": "stderr",
     "output_type": "stream",
     "text": [
      "  5%|▍         | 304/6300 [04:02<1:19:13,  1.26it/s, curr_speed=36.49 Mbps, mb_sent=1.09 Mb]"
     ]
    },
    {
     "name": "stdout",
     "output_type": "stream",
     "text": [
      "------- MEMORY BUFFER FILLED -------\n"
     ]
    },
    {
     "name": "stderr",
     "output_type": "stream",
     "text": [
      "100%|██████████| 6300/6300 [1:31:53<00:00,  1.14it/s, curr_speed=36.83 Mbps, mb_sent=2173.97 Mb]\n"
     ]
    },
    {
     "name": "stdout",
     "output_type": "stream",
     "text": [
      "Waiting for simulation script to connect on port: tcp://localhost:29381\n",
      "Please start proper ns-3 simulation script using ./waf --run \"...\"\n",
      "Waf: Entering directory `/home/samuel/ns-allinone-3.29/ns-3.29/build'\n",
      "Waf: Leaving directory `/home/samuel/ns-allinone-3.29/ns-3.29/build'\n",
      "Build commands will be stored in build/compile_commands.json\n",
      "'build' finished successfully (2.754s)\n"
     ]
    },
    {
     "name": "stderr",
     "output_type": "stream",
     "text": [
      "Ns3Env parameters:\n",
      "--nWifi: 30\n",
      "--simulationTime: 60\n",
      "--openGymPort: 29381\n",
      "--envStepTime: 0.01\n",
      "--seed: 42\n",
      "--agentType: discrete\n",
      "--scenario: basic\n",
      "--dryRun: 0\n",
      "Simulation started\n",
      "Simulation process id: 2397340 (parent (waf shell) id: 2397317)\n",
      "Waiting for Python process to connect on port: tcp://localhost:29381\n",
      "Please start proper Python Gym Agent\n",
      "  0%|          | 0/6300 [00:00<?, ?it/s]"
     ]
    },
    {
     "name": "stdout",
     "output_type": "stream",
     "text": [
      "Sent 2173.97 Mb/s.\tMean speed: 36.23 Mb/s\tEpisode 4/15 finished\n",
      "\n",
      "4\n"
     ]
    },
    {
     "name": "stderr",
     "output_type": "stream",
     "text": [
      "100%|██████████| 6300/6300 [1:31:41<00:00,  1.15it/s, curr_speed=33.92 Mbps, mb_sent=2188.20 Mb]\n"
     ]
    },
    {
     "name": "stdout",
     "output_type": "stream",
     "text": [
      "Waiting for simulation script to connect on port: tcp://localhost:38081\n",
      "Please start proper ns-3 simulation script using ./waf --run \"...\"\n",
      "Waf: Entering directory `/home/samuel/ns-allinone-3.29/ns-3.29/build'\n",
      "Waf: Leaving directory `/home/samuel/ns-allinone-3.29/ns-3.29/build'\n",
      "Build commands will be stored in build/compile_commands.json\n",
      "'build' finished successfully (3.208s)\n"
     ]
    },
    {
     "name": "stderr",
     "output_type": "stream",
     "text": [
      "Ns3Env parameters:\n",
      "--nWifi: 30\n",
      "--simulationTime: 60\n",
      "--openGymPort: 38081\n",
      "--envStepTime: 0.01\n",
      "--seed: 42\n",
      "--agentType: discrete\n",
      "--scenario: basic\n",
      "--dryRun: 0\n",
      "Simulation started\n",
      "Simulation process id: 2418989 (parent (waf shell) id: 2418964)\n",
      "Waiting for Python process to connect on port: tcp://localhost:38081\n",
      "Please start proper Python Gym Agent\n",
      "  0%|          | 0/6300 [00:00<?, ?it/s]"
     ]
    },
    {
     "name": "stdout",
     "output_type": "stream",
     "text": [
      "Sent 2188.20 Mb/s.\tMean speed: 36.47 Mb/s\tEpisode 5/15 finished\n",
      "\n",
      "5\n"
     ]
    },
    {
     "name": "stderr",
     "output_type": "stream",
     "text": [
      "100%|██████████| 6300/6300 [1:31:50<00:00,  1.14it/s, curr_speed=37.22 Mbps, mb_sent=2218.14 Mb]\n"
     ]
    },
    {
     "name": "stdout",
     "output_type": "stream",
     "text": [
      "Waiting for simulation script to connect on port: tcp://localhost:21898\n",
      "Please start proper ns-3 simulation script using ./waf --run \"...\"\n",
      "Waf: Entering directory `/home/samuel/ns-allinone-3.29/ns-3.29/build'\n",
      "Waf: Leaving directory `/home/samuel/ns-allinone-3.29/ns-3.29/build'\n",
      "Build commands will be stored in build/compile_commands.json\n",
      "'build' finished successfully (2.966s)\n"
     ]
    },
    {
     "name": "stderr",
     "output_type": "stream",
     "text": [
      "Ns3Env parameters:\n",
      "--nWifi: 30\n",
      "--simulationTime: 60\n",
      "--openGymPort: 21898\n",
      "--envStepTime: 0.01\n",
      "--seed: 42\n",
      "--agentType: discrete\n",
      "--scenario: basic\n",
      "--dryRun: 0\n",
      "Simulation started\n",
      "Simulation process id: 2440327 (parent (waf shell) id: 2440302)\n",
      "Waiting for Python process to connect on port: tcp://localhost:21898\n",
      "Please start proper Python Gym Agent\n",
      "  0%|          | 0/6300 [00:00<?, ?it/s]"
     ]
    },
    {
     "name": "stdout",
     "output_type": "stream",
     "text": [
      "Sent 2218.14 Mb/s.\tMean speed: 36.97 Mb/s\tEpisode 6/15 finished\n",
      "\n",
      "6\n"
     ]
    },
    {
     "name": "stderr",
     "output_type": "stream",
     "text": [
      "100%|██████████| 6300/6300 [1:29:43<00:00,  1.17it/s, curr_speed=37.93 Mbps, mb_sent=2235.41 Mb]\n"
     ]
    },
    {
     "name": "stdout",
     "output_type": "stream",
     "text": [
      "Waiting for simulation script to connect on port: tcp://localhost:14996\n",
      "Please start proper ns-3 simulation script using ./waf --run \"...\"\n",
      "Waf: Entering directory `/home/samuel/ns-allinone-3.29/ns-3.29/build'\n",
      "Waf: Leaving directory `/home/samuel/ns-allinone-3.29/ns-3.29/build'\n",
      "Build commands will be stored in build/compile_commands.json\n",
      "'build' finished successfully (2.597s)\n"
     ]
    },
    {
     "name": "stderr",
     "output_type": "stream",
     "text": [
      "Ns3Env parameters:\n",
      "--nWifi: 30\n",
      "--simulationTime: 60\n",
      "--openGymPort: 14996\n",
      "--envStepTime: 0.01\n",
      "--seed: 42\n",
      "--agentType: discrete\n",
      "--scenario: basic\n",
      "--dryRun: 0\n",
      "Simulation started\n",
      "Simulation process id: 2461407 (parent (waf shell) id: 2461387)\n",
      "Waiting for Python process to connect on port: tcp://localhost:14996\n",
      "Please start proper Python Gym Agent\n",
      "  0%|          | 0/6300 [00:00<?, ?it/s]"
     ]
    },
    {
     "name": "stdout",
     "output_type": "stream",
     "text": [
      "Sent 2235.41 Mb/s.\tMean speed: 37.26 Mb/s\tEpisode 7/15 finished\n",
      "\n",
      "7\n"
     ]
    },
    {
     "name": "stderr",
     "output_type": "stream",
     "text": [
      "100%|██████████| 6300/6300 [1:19:48<00:00,  1.32it/s, curr_speed=36.71 Mbps, mb_sent=2243.98 Mb]\n"
     ]
    },
    {
     "name": "stdout",
     "output_type": "stream",
     "text": [
      "Waiting for simulation script to connect on port: tcp://localhost:43774\n",
      "Please start proper ns-3 simulation script using ./waf --run \"...\"\n",
      "Waf: Entering directory `/home/samuel/ns-allinone-3.29/ns-3.29/build'\n",
      "Waf: Leaving directory `/home/samuel/ns-allinone-3.29/ns-3.29/build'\n",
      "Build commands will be stored in build/compile_commands.json\n",
      "'build' finished successfully (2.758s)\n"
     ]
    },
    {
     "name": "stderr",
     "output_type": "stream",
     "text": [
      "Ns3Env parameters:\n",
      "--nWifi: 30\n",
      "--simulationTime: 60\n",
      "--openGymPort: 43774\n",
      "--envStepTime: 0.01\n",
      "--seed: 42\n",
      "--agentType: discrete\n",
      "--scenario: basic\n",
      "--dryRun: 0\n",
      "Simulation started\n",
      "Simulation process id: 2479206 (parent (waf shell) id: 2479181)\n",
      "Waiting for Python process to connect on port: tcp://localhost:43774\n",
      "Please start proper Python Gym Agent\n",
      "  0%|          | 0/6300 [00:00<?, ?it/s]"
     ]
    },
    {
     "name": "stdout",
     "output_type": "stream",
     "text": [
      "Sent 2243.98 Mb/s.\tMean speed: 37.40 Mb/s\tEpisode 8/15 finished\n",
      "\n",
      "8\n"
     ]
    },
    {
     "name": "stderr",
     "output_type": "stream",
     "text": [
      "100%|██████████| 6300/6300 [1:19:58<00:00,  1.31it/s, curr_speed=37.16 Mbps, mb_sent=2248.17 Mb]\n"
     ]
    },
    {
     "name": "stdout",
     "output_type": "stream",
     "text": [
      "Waiting for simulation script to connect on port: tcp://localhost:42901\n",
      "Please start proper ns-3 simulation script using ./waf --run \"...\"\n",
      "Waf: Entering directory `/home/samuel/ns-allinone-3.29/ns-3.29/build'\n",
      "Waf: Leaving directory `/home/samuel/ns-allinone-3.29/ns-3.29/build'\n",
      "Build commands will be stored in build/compile_commands.json\n",
      "'build' finished successfully (3.080s)\n"
     ]
    },
    {
     "name": "stderr",
     "output_type": "stream",
     "text": [
      "Ns3Env parameters:\n",
      "--nWifi: 30\n",
      "--simulationTime: 60\n",
      "--openGymPort: 42901\n",
      "--envStepTime: 0.01\n",
      "--seed: 42\n",
      "--agentType: discrete\n",
      "--scenario: basic\n",
      "--dryRun: 0\n",
      "Simulation started\n",
      "Simulation process id: 2496391 (parent (waf shell) id: 2496370)\n",
      "Waiting for Python process to connect on port: tcp://localhost:42901\n",
      "Please start proper Python Gym Agent\n",
      "  0%|          | 0/6300 [00:00<?, ?it/s]"
     ]
    },
    {
     "name": "stdout",
     "output_type": "stream",
     "text": [
      "Sent 2248.17 Mb/s.\tMean speed: 37.47 Mb/s\tEpisode 9/15 finished\n",
      "\n",
      "9\n"
     ]
    },
    {
     "name": "stderr",
     "output_type": "stream",
     "text": [
      " 90%|█████████ | 5699/6300 [1:12:45<08:08,  1.23it/s, curr_speed=37.36 Mbps, mb_sent=2018.33 Mb]COMET ERROR: File could not be uploaded\n",
      " 90%|█████████ | 5700/6300 [1:12:46<07:53,  1.27it/s, curr_speed=37.34 Mbps, mb_sent=2018.70 Mb]COMET ERROR: File could not be uploaded\n",
      " 90%|█████████ | 5701/6300 [1:12:47<07:58,  1.25it/s, curr_speed=37.35 Mbps, mb_sent=2019.05 Mb]COMET ERROR: File could not be uploaded\n",
      " 91%|█████████ | 5702/6300 [1:12:48<07:56,  1.25it/s, curr_speed=37.35 Mbps, mb_sent=2019.40 Mb]COMET ERROR: File could not be uploaded\n",
      " 91%|█████████ | 5703/6300 [1:12:49<08:06,  1.23it/s, curr_speed=37.37 Mbps, mb_sent=2019.71 Mb]COMET ERROR: File could not be uploaded\n",
      " 91%|█████████ | 5704/6300 [1:12:49<07:56,  1.25it/s, curr_speed=37.41 Mbps, mb_sent=2020.03 Mb]COMET ERROR: File could not be uploaded\n",
      " 91%|█████████ | 5718/6300 [1:13:00<06:54,  1.40it/s, curr_speed=37.26 Mbps, mb_sent=2025.17 Mb]COMET ERROR: File could not be uploaded\n",
      "COMET ERROR: File could not be uploaded\n",
      " 93%|█████████▎| 5874/6300 [1:14:58<05:53,  1.20it/s, curr_speed=37.83 Mbps, mb_sent=2083.88 Mb]COMET ERROR: File could not be uploaded\n",
      "100%|██████████| 6300/6300 [1:20:38<00:00,  1.30it/s, curr_speed=37.89 Mbps, mb_sent=2244.16 Mb]\n"
     ]
    },
    {
     "name": "stdout",
     "output_type": "stream",
     "text": [
      "Waiting for simulation script to connect on port: tcp://localhost:48185\n",
      "Please start proper ns-3 simulation script using ./waf --run \"...\"\n",
      "Waf: Entering directory `/home/samuel/ns-allinone-3.29/ns-3.29/build'\n",
      "Waf: Leaving directory `/home/samuel/ns-allinone-3.29/ns-3.29/build'\n",
      "Build commands will be stored in build/compile_commands.json\n",
      "'build' finished successfully (2.772s)\n"
     ]
    },
    {
     "name": "stderr",
     "output_type": "stream",
     "text": [
      "Ns3Env parameters:\n",
      "--nWifi: 30\n",
      "--simulationTime: 60\n",
      "--openGymPort: 48185\n",
      "--envStepTime: 0.01\n",
      "--seed: 42\n",
      "--agentType: discrete\n",
      "--scenario: basic\n",
      "--dryRun: 0\n",
      "Simulation started\n",
      "Simulation process id: 2513567 (parent (waf shell) id: 2513548)\n",
      "Waiting for Python process to connect on port: tcp://localhost:48185\n",
      "Please start proper Python Gym Agent\n",
      "  0%|          | 0/6300 [00:00<?, ?it/s]"
     ]
    },
    {
     "name": "stdout",
     "output_type": "stream",
     "text": [
      "Sent 2244.16 Mb/s.\tMean speed: 37.40 Mb/s\tEpisode 10/15 finished\n",
      "\n",
      "10\n"
     ]
    },
    {
     "name": "stderr",
     "output_type": "stream",
     "text": [
      "100%|██████████| 6300/6300 [1:21:23<00:00,  1.29it/s, curr_speed=37.37 Mbps, mb_sent=2242.26 Mb]\n"
     ]
    },
    {
     "name": "stdout",
     "output_type": "stream",
     "text": [
      "Waiting for simulation script to connect on port: tcp://localhost:22057\n",
      "Please start proper ns-3 simulation script using ./waf --run \"...\"\n",
      "Waf: Entering directory `/home/samuel/ns-allinone-3.29/ns-3.29/build'\n",
      "Waf: Leaving directory `/home/samuel/ns-allinone-3.29/ns-3.29/build'\n",
      "Build commands will be stored in build/compile_commands.json\n",
      "'build' finished successfully (2.596s)\n"
     ]
    },
    {
     "name": "stderr",
     "output_type": "stream",
     "text": [
      "Ns3Env parameters:\n",
      "--nWifi: 30\n",
      "--simulationTime: 60\n",
      "--openGymPort: 22057\n",
      "--envStepTime: 0.01\n",
      "--seed: 42\n",
      "--agentType: discrete\n",
      "--scenario: basic\n",
      "--dryRun: 0\n",
      "Simulation started\n",
      "Simulation process id: 2536701 (parent (waf shell) id: 2536680)\n",
      "Waiting for Python process to connect on port: tcp://localhost:22057\n",
      "Please start proper Python Gym Agent\n",
      "  0%|          | 0/6300 [00:00<?, ?it/s]"
     ]
    },
    {
     "name": "stdout",
     "output_type": "stream",
     "text": [
      "Sent 2242.26 Mb/s.\tMean speed: 37.37 Mb/s\tEpisode 11/15 finished\n",
      "\n",
      "11\n"
     ]
    },
    {
     "name": "stderr",
     "output_type": "stream",
     "text": [
      "100%|██████████| 6300/6300 [1:20:41<00:00,  1.30it/s, curr_speed=37.95 Mbps, mb_sent=2244.12 Mb]\n"
     ]
    },
    {
     "name": "stdout",
     "output_type": "stream",
     "text": [
      "Waiting for simulation script to connect on port: tcp://localhost:16992\n",
      "Please start proper ns-3 simulation script using ./waf --run \"...\"\n",
      "Waf: Entering directory `/home/samuel/ns-allinone-3.29/ns-3.29/build'\n",
      "Waf: Leaving directory `/home/samuel/ns-allinone-3.29/ns-3.29/build'\n",
      "Build commands will be stored in build/compile_commands.json\n",
      "'build' finished successfully (3.226s)\n"
     ]
    },
    {
     "name": "stderr",
     "output_type": "stream",
     "text": [
      "Ns3Env parameters:\n",
      "--nWifi: 30\n",
      "--simulationTime: 60\n",
      "--openGymPort: 16992\n",
      "--envStepTime: 0.01\n",
      "--seed: 42\n",
      "--agentType: discrete\n",
      "--scenario: basic\n",
      "--dryRun: 0\n",
      "Simulation started\n"
     ]
    },
    {
     "name": "stdout",
     "output_type": "stream",
     "text": [
      "WARNING:tensorflow:From /home/samuel/anaconda3/envs/myEnv3_7/lib/python3.7/site-packages/tensorflow/python/training/saver.py:960: remove_checkpoint (from tensorflow.python.training.checkpoint_management) is deprecated and will be removed in a future version.\n",
      "Instructions for updating:\n",
      "Use standard file APIs to delete files with this prefix.\n"
     ]
    },
    {
     "name": "stderr",
     "output_type": "stream",
     "text": [
      "Simulation process id: 2554026 (parent (waf shell) id: 2554002)\n",
      "Waiting for Python process to connect on port: tcp://localhost:16992\n",
      "Please start proper Python Gym Agent\n",
      "  0%|          | 0/6300 [00:00<?, ?it/s]"
     ]
    },
    {
     "name": "stdout",
     "output_type": "stream",
     "text": [
      "Sent 2244.12 Mb/s.\tMean speed: 37.40 Mb/s\tEpisode 12/15 finished\n",
      "\n",
      "12\n",
      "Turning off noise\n"
     ]
    },
    {
     "name": "stderr",
     "output_type": "stream",
     "text": [
      "100%|██████████| 6300/6300 [1:21:31<00:00,  1.29it/s, curr_speed=37.26 Mbps, mb_sent=2249.69 Mb]\n"
     ]
    },
    {
     "name": "stdout",
     "output_type": "stream",
     "text": [
      "Waiting for simulation script to connect on port: tcp://localhost:42474\n",
      "Please start proper ns-3 simulation script using ./waf --run \"...\"\n",
      "Waf: Entering directory `/home/samuel/ns-allinone-3.29/ns-3.29/build'\n",
      "Waf: Leaving directory `/home/samuel/ns-allinone-3.29/ns-3.29/build'\n",
      "Build commands will be stored in build/compile_commands.json\n",
      "'build' finished successfully (2.850s)\n"
     ]
    },
    {
     "name": "stderr",
     "output_type": "stream",
     "text": [
      "Ns3Env parameters:\n",
      "--nWifi: 30\n",
      "--simulationTime: 60\n",
      "--openGymPort: 42474\n",
      "--envStepTime: 0.01\n",
      "--seed: 42\n",
      "--agentType: discrete\n",
      "--scenario: basic\n",
      "--dryRun: 0\n",
      "Simulation started\n",
      "Simulation process id: 2576381 (parent (waf shell) id: 2576354)\n",
      "Waiting for Python process to connect on port: tcp://localhost:42474\n",
      "Please start proper Python Gym Agent\n",
      "  0%|          | 0/6300 [00:00<?, ?it/s]"
     ]
    },
    {
     "name": "stdout",
     "output_type": "stream",
     "text": [
      "Sent 2249.69 Mb/s.\tMean speed: 37.49 Mb/s\tEpisode 13/15 finished\n",
      "\n",
      "13\n",
      "Turning off noise\n"
     ]
    },
    {
     "name": "stderr",
     "output_type": "stream",
     "text": [
      "100%|██████████| 6300/6300 [1:21:12<00:00,  1.29it/s, curr_speed=37.60 Mbps, mb_sent=2246.56 Mb]\n"
     ]
    },
    {
     "name": "stdout",
     "output_type": "stream",
     "text": [
      "Waiting for simulation script to connect on port: tcp://localhost:34925\n",
      "Please start proper ns-3 simulation script using ./waf --run \"...\"\n",
      "Waf: Entering directory `/home/samuel/ns-allinone-3.29/ns-3.29/build'\n",
      "Waf: Leaving directory `/home/samuel/ns-allinone-3.29/ns-3.29/build'\n",
      "Build commands will be stored in build/compile_commands.json\n",
      "'build' finished successfully (3.141s)\n"
     ]
    },
    {
     "name": "stderr",
     "output_type": "stream",
     "text": [
      "Ns3Env parameters:\n",
      "--nWifi: 30\n",
      "--simulationTime: 60\n",
      "--openGymPort: 34925\n",
      "--envStepTime: 0.01\n",
      "--seed: 42\n",
      "--agentType: discrete\n",
      "--scenario: basic\n",
      "--dryRun: 0\n",
      "Simulation started\n",
      "Simulation process id: 2594129 (parent (waf shell) id: 2594108)\n",
      "Waiting for Python process to connect on port: tcp://localhost:34925\n",
      "Please start proper Python Gym Agent\n",
      "  0%|          | 0/6300 [00:00<?, ?it/s]"
     ]
    },
    {
     "name": "stdout",
     "output_type": "stream",
     "text": [
      "Sent 2246.56 Mb/s.\tMean speed: 37.44 Mb/s\tEpisode 14/15 finished\n",
      "\n",
      "14\n",
      "Turning off noise\n"
     ]
    },
    {
     "name": "stderr",
     "output_type": "stream",
     "text": [
      "100%|██████████| 6300/6300 [1:31:32<00:00,  1.15it/s, curr_speed=37.40 Mbps, mb_sent=2255.04 Mb]\n"
     ]
    },
    {
     "name": "stdout",
     "output_type": "stream",
     "text": [
      "Waiting for simulation script to connect on port: tcp://localhost:41136\n",
      "Please start proper ns-3 simulation script using ./waf --run \"...\"\n",
      "Waf: Entering directory `/home/samuel/ns-allinone-3.29/ns-3.29/build'\n",
      "Waf: Leaving directory `/home/samuel/ns-allinone-3.29/ns-3.29/build'\n",
      "Build commands will be stored in build/compile_commands.json\n",
      "'build' finished successfully (3.091s)\n"
     ]
    },
    {
     "name": "stderr",
     "output_type": "stream",
     "text": [
      "Ns3Env parameters:\n",
      "--nWifi: 30\n",
      "--simulationTime: 60\n",
      "--openGymPort: 41136\n",
      "--envStepTime: 0.01\n",
      "--seed: 42\n",
      "--agentType: discrete\n",
      "--scenario: basic\n",
      "--dryRun: 0\n",
      "Simulation started\n",
      "Simulation process id: 2620590 (parent (waf shell) id: 2620567)\n",
      "Waiting for Python process to connect on port: tcp://localhost:41136\n",
      "Please start proper Python Gym Agent\n",
      "COMET INFO: ----------------------------\n",
      "COMET INFO: Comet.ml Experiment Summary:\n",
      "COMET INFO:   Data:\n",
      "COMET INFO:     url: https://www.comet.com/sheila-janota/rl-in-wifi-with-queue-level/d66ca3f2d1a3408aa8147adf879adad2\n",
      "COMET INFO:   Metrics [count] (min, max):\n",
      "COMET INFO:     Chosen CW [89985]           : (16.0, 1024.0)\n",
      "COMET INFO:     Cumulative reward [15]      : (2667.08203125, 3157.0478515625)\n",
      "COMET INFO:     Current throughput [89985]  : (17.580692291259766, 62.258426666259766)\n",
      "COMET INFO:     Fairness index [89985]      : (nan, nan)\n",
      "COMET INFO:     Megabytes sent [89985]      : (0.3462519943714142, 2255.04155048728)\n",
      "COMET INFO:     Observation 0 [89985]       : (0.9606300814946493, 0.963996209104856)\n",
      "COMET INFO:     Observation 1 [89985]       : (0.020399542095753488, 0.029583849223423647)\n",
      "COMET INFO:     Per-ep reward [89985]       : (131.337646484375, 3157.0478515625)\n",
      "COMET INFO:     Round megabytes sent [89985]: (0.022338999435305595, 11.8172607421875)\n",
      "COMET INFO:     Round reward [89985]        : (0.02978515625, 0.908447265625)\n",
      "COMET INFO:     Speed [15]                  : (32.66202929339682, 37.58402584145467)\n",
      "COMET INFO:     Station count [89985]       : (30.0, 30.0)\n",
      "COMET INFO:     loss [89985]                : (0.0, 0.20928844809532166)\n",
      "COMET INFO:   Uploads:\n",
      "COMET INFO:     histogram3d: 89985\n",
      "COMET INFO: ----------------------------\n"
     ]
    },
    {
     "name": "stdout",
     "output_type": "stream",
     "text": [
      "Sent 2255.04 Mb/s.\tMean speed: 37.58 Mb/s\tEpisode 15/15 finished\n",
      "\n"
     ]
    },
    {
     "name": "stderr",
     "output_type": "stream",
     "text": [
      "COMET INFO: Uploading stats to Comet before program termination (may take several seconds)\n"
     ]
    },
    {
     "name": "stdout",
     "output_type": "stream",
     "text": [
      "Training finished.\n"
     ]
    }
   ],
   "source": [
    "#%%\n",
    "teacher = Teacher(env, 1, Preprocessor(False))\n",
    "\n",
    "lr = 4e-4\n",
    "config = Config(buffer_size=3*steps_per_ep*threads_no, batch_size=32, gamma=0.7, tau=1e-3, lr=lr, update_every=1)\n",
    "agent = Agent(QNetworkTf, history_length, action_size=7, config=config)\n",
    "agent.set_epsilon(0.9, 0.001, EPISODE_COUNT-2)\n",
    "\n",
    "# Test the model\n",
    "hyperparams = {**config.__dict__, **sim_args}\n",
    "tags = [\"Rew: normalized speed\",\n",
    "        \"Final\",\n",
    "        f\"{Agent.NAME}\",\n",
    "        sim_args['scenario'],\n",
    "        f\"LR: {lr}\",\n",
    "        f\"Instances: {threads_no}\",\n",
    "        f\"Station count: {sim_args['nWifi']}\",\n",
    "        *[f\"{key}: {sim_args[key]}\" for key in list(sim_args)[:3]]]\n",
    "# # agent.save()\n",
    "logger = teacher.train(agent, EPISODE_COUNT,\n",
    "                        simTime=simTime,\n",
    "                        stepTime=stepTime,\n",
    "                        history_length=history_length,\n",
    "                        send_logs=True,\n",
    "                        experimental=True,\n",
    "                        tags=tags,\n",
    "                        parameters=hyperparams)\n",
    "#logger = teacher.eval(agent,\n",
    "#                        simTime=simTime,\n",
    "#                        stepTime=stepTime,\n",
    "#                        history_length=history_length,\n",
    "#                        tags=tags,\n",
    "#                        parameters=hyperparams)\n",
    "# agent.save()\n",
    "\n",
    "\n",
    "# %%"
   ]
  },
  {
   "cell_type": "code",
   "execution_count": null,
   "id": "5e5ace3f",
   "metadata": {},
   "outputs": [],
   "source": []
  },
  {
   "cell_type": "markdown",
   "id": "defc82cb",
   "metadata": {},
   "source": [
    "# Execution num4:"
   ]
  },
  {
   "cell_type": "code",
   "execution_count": 1,
   "id": "156d00db",
   "metadata": {},
   "outputs": [
    {
     "name": "stderr",
     "output_type": "stream",
     "text": [
      "/home/samuel/anaconda3/envs/myEnv3_7/lib/python3.7/site-packages/tensorflow/python/framework/dtypes.py:516: FutureWarning: Passing (type, 1) or '1type' as a synonym of type is deprecated; in a future version of numpy, it will be understood as (type, (1,)) / '(1,)type'.\n",
      "  _np_qint8 = np.dtype([(\"qint8\", np.int8, 1)])\n",
      "/home/samuel/anaconda3/envs/myEnv3_7/lib/python3.7/site-packages/tensorflow/python/framework/dtypes.py:517: FutureWarning: Passing (type, 1) or '1type' as a synonym of type is deprecated; in a future version of numpy, it will be understood as (type, (1,)) / '(1,)type'.\n",
      "  _np_quint8 = np.dtype([(\"quint8\", np.uint8, 1)])\n",
      "/home/samuel/anaconda3/envs/myEnv3_7/lib/python3.7/site-packages/tensorflow/python/framework/dtypes.py:518: FutureWarning: Passing (type, 1) or '1type' as a synonym of type is deprecated; in a future version of numpy, it will be understood as (type, (1,)) / '(1,)type'.\n",
      "  _np_qint16 = np.dtype([(\"qint16\", np.int16, 1)])\n",
      "/home/samuel/anaconda3/envs/myEnv3_7/lib/python3.7/site-packages/tensorflow/python/framework/dtypes.py:519: FutureWarning: Passing (type, 1) or '1type' as a synonym of type is deprecated; in a future version of numpy, it will be understood as (type, (1,)) / '(1,)type'.\n",
      "  _np_quint16 = np.dtype([(\"quint16\", np.uint16, 1)])\n",
      "/home/samuel/anaconda3/envs/myEnv3_7/lib/python3.7/site-packages/tensorflow/python/framework/dtypes.py:520: FutureWarning: Passing (type, 1) or '1type' as a synonym of type is deprecated; in a future version of numpy, it will be understood as (type, (1,)) / '(1,)type'.\n",
      "  _np_qint32 = np.dtype([(\"qint32\", np.int32, 1)])\n",
      "/home/samuel/anaconda3/envs/myEnv3_7/lib/python3.7/site-packages/tensorflow/python/framework/dtypes.py:525: FutureWarning: Passing (type, 1) or '1type' as a synonym of type is deprecated; in a future version of numpy, it will be understood as (type, (1,)) / '(1,)type'.\n",
      "  np_resource = np.dtype([(\"resource\", np.ubyte, 1)])\n",
      "/home/samuel/anaconda3/envs/myEnv3_7/lib/python3.7/site-packages/tensorboard/compat/tensorflow_stub/dtypes.py:541: FutureWarning: Passing (type, 1) or '1type' as a synonym of type is deprecated; in a future version of numpy, it will be understood as (type, (1,)) / '(1,)type'.\n",
      "  _np_qint8 = np.dtype([(\"qint8\", np.int8, 1)])\n",
      "/home/samuel/anaconda3/envs/myEnv3_7/lib/python3.7/site-packages/tensorboard/compat/tensorflow_stub/dtypes.py:542: FutureWarning: Passing (type, 1) or '1type' as a synonym of type is deprecated; in a future version of numpy, it will be understood as (type, (1,)) / '(1,)type'.\n",
      "  _np_quint8 = np.dtype([(\"quint8\", np.uint8, 1)])\n",
      "/home/samuel/anaconda3/envs/myEnv3_7/lib/python3.7/site-packages/tensorboard/compat/tensorflow_stub/dtypes.py:543: FutureWarning: Passing (type, 1) or '1type' as a synonym of type is deprecated; in a future version of numpy, it will be understood as (type, (1,)) / '(1,)type'.\n",
      "  _np_qint16 = np.dtype([(\"qint16\", np.int16, 1)])\n",
      "/home/samuel/anaconda3/envs/myEnv3_7/lib/python3.7/site-packages/tensorboard/compat/tensorflow_stub/dtypes.py:544: FutureWarning: Passing (type, 1) or '1type' as a synonym of type is deprecated; in a future version of numpy, it will be understood as (type, (1,)) / '(1,)type'.\n",
      "  _np_quint16 = np.dtype([(\"quint16\", np.uint16, 1)])\n",
      "/home/samuel/anaconda3/envs/myEnv3_7/lib/python3.7/site-packages/tensorboard/compat/tensorflow_stub/dtypes.py:545: FutureWarning: Passing (type, 1) or '1type' as a synonym of type is deprecated; in a future version of numpy, it will be understood as (type, (1,)) / '(1,)type'.\n",
      "  _np_qint32 = np.dtype([(\"qint32\", np.int32, 1)])\n",
      "/home/samuel/anaconda3/envs/myEnv3_7/lib/python3.7/site-packages/tensorboard/compat/tensorflow_stub/dtypes.py:550: FutureWarning: Passing (type, 1) or '1type' as a synonym of type is deprecated; in a future version of numpy, it will be understood as (type, (1,)) / '(1,)type'.\n",
      "  np_resource = np.dtype([(\"resource\", np.ubyte, 1)])\n"
     ]
    }
   ],
   "source": [
    "#%%\n",
    "from ns3gym import ns3env\n",
    "from comet_ml import Experiment, Optimizer\n",
    "import tqdm\n",
    "import subprocess\n",
    "from collections import deque\n",
    "import numpy as np\n",
    "\n",
    "from agents.dqn.agent import Agent, Config\n",
    "from agents.dqn.model import QNetworkTf\n",
    "from agents.teacher import Teacher, EnvWrapper\n",
    "from preprocessor import Preprocessor"
   ]
  },
  {
   "cell_type": "code",
   "execution_count": null,
   "id": "07528740",
   "metadata": {},
   "outputs": [],
   "source": [
    "#%%\n",
    "scenario = \"basic\"\n",
    "\n",
    "simTime = 60 # seconds\n",
    "stepTime = 0.01  # seconds\n",
    "history_length = 300\n",
    "\n",
    "EPISODE_COUNT = 15\n",
    "steps_per_ep = int(simTime/stepTime)\n",
    "\n",
    "sim_args = {\n",
    "    \"simTime\": simTime,\n",
    "    \"envStepTime\": stepTime,\n",
    "    \"historyLength\": history_length,\n",
    "    \"agentType\": Agent.TYPE,\n",
    "    \"scenario\": \"basic\",\n",
    "    \"nWifi\": 30,\n",
    "}\n",
    "\n",
    "print(\"Steps per episode:\", steps_per_ep)\n",
    "\n",
    "threads_no = 1\n",
    "env = EnvWrapper(threads_no, **sim_args)\n",
    "\n",
    "#%%\n",
    "env.reset()\n",
    "ob_space = env.observation_space\n",
    "ac_space = env.action_space\n",
    "\n",
    "print(\"Observation space shape:\", ob_space)\n",
    "print(\"Action space shape:\", ac_space)\n",
    "\n",
    "assert ob_space is not None"
   ]
  },
  {
   "cell_type": "code",
   "execution_count": 3,
   "id": "74ae3e31",
   "metadata": {},
   "outputs": [
    {
     "name": "stdout",
     "output_type": "stream",
     "text": [
      "WARNING:tensorflow:From /home/samuel/ns-allinone-3.29/ns-3.29/scratch/RLinWiFi-master-original-queue-level-mean/agents/dqn/agent.py:53: The name tf.Session is deprecated. Please use tf.compat.v1.Session instead.\n",
      "\n",
      "WARNING:tensorflow:From /home/samuel/ns-allinone-3.29/ns-3.29/scratch/RLinWiFi-master-original-queue-level-mean/agents/dqn/model.py:25: The name tf.variable_scope is deprecated. Please use tf.compat.v1.variable_scope instead.\n",
      "\n",
      "WARNING:tensorflow:From /home/samuel/ns-allinone-3.29/ns-3.29/scratch/RLinWiFi-master-original-queue-level-mean/agents/dqn/model.py:26: The name tf.placeholder is deprecated. Please use tf.compat.v1.placeholder instead.\n",
      "\n"
     ]
    },
    {
     "name": "stderr",
     "output_type": "stream",
     "text": [
      "2023-02-14 07:32:51.364357: I tensorflow/core/platform/cpu_feature_guard.cc:142] Your CPU supports instructions that this TensorFlow binary was not compiled to use: AVX2 FMA\n",
      "2023-02-14 07:32:51.401221: I tensorflow/core/platform/profile_utils/cpu_utils.cc:94] CPU Frequency: 3491795000 Hz\n",
      "2023-02-14 07:32:51.401836: I tensorflow/compiler/xla/service/service.cc:168] XLA service 0x56462f622690 executing computations on platform Host. Devices:\n",
      "2023-02-14 07:32:51.401857: I tensorflow/compiler/xla/service/service.cc:175]   StreamExecutor device (0): <undefined>, <undefined>\n"
     ]
    },
    {
     "name": "stdout",
     "output_type": "stream",
     "text": [
      "WARNING:tensorflow:\n",
      "The TensorFlow contrib module will not be included in TensorFlow 2.0.\n",
      "For more information, please see:\n",
      "  * https://github.com/tensorflow/community/blob/master/rfcs/20180907-contrib-sunset.md\n",
      "  * https://github.com/tensorflow/addons\n",
      "  * https://github.com/tensorflow/io (for I/O related ops)\n",
      "If you depend on functionality not listed there, please file an issue.\n",
      "\n",
      "WARNING:tensorflow:From /home/samuel/ns-allinone-3.29/ns-3.29/scratch/RLinWiFi-master-original-queue-level-mean/agents/dqn/model.py:52: LSTMCell.__init__ (from tensorflow.python.ops.rnn_cell_impl) is deprecated and will be removed in a future version.\n",
      "Instructions for updating:\n",
      "This class is equivalent as tf.keras.layers.LSTMCell, and will be replaced by that in Tensorflow 2.0.\n",
      "WARNING:tensorflow:From /home/samuel/ns-allinone-3.29/ns-3.29/scratch/RLinWiFi-master-original-queue-level-mean/agents/dqn/model.py:52: static_rnn (from tensorflow.python.ops.rnn) is deprecated and will be removed in a future version.\n",
      "Instructions for updating:\n",
      "Please use `keras.layers.RNN(cell, unroll=True)`, which is equivalent to this API\n",
      "WARNING:tensorflow:From /home/samuel/anaconda3/envs/myEnv3_7/lib/python3.7/site-packages/tensorflow/python/ops/init_ops.py:1251: calling VarianceScaling.__init__ (from tensorflow.python.ops.init_ops) with dtype is deprecated and will be removed in a future version.\n",
      "Instructions for updating:\n",
      "Call initializer instance with the dtype argument instead of passing it to the constructor\n",
      "WARNING:tensorflow:From /home/samuel/anaconda3/envs/myEnv3_7/lib/python3.7/site-packages/tensorflow/python/ops/rnn_cell_impl.py:961: calling Zeros.__init__ (from tensorflow.python.ops.init_ops) with dtype is deprecated and will be removed in a future version.\n",
      "Instructions for updating:\n",
      "Call initializer instance with the dtype argument instead of passing it to the constructor\n",
      "WARNING:tensorflow:Entity <bound method LSTMCell.call of <tensorflow.python.ops.rnn_cell_impl.LSTMCell object at 0x7ff835cd80d0>> could not be transformed and will be executed as-is. Please report this to the AutgoGraph team. When filing the bug, set the verbosity to 10 (on Linux, `export AUTOGRAPH_VERBOSITY=10`) and attach the full output. Cause: converting <bound method LSTMCell.call of <tensorflow.python.ops.rnn_cell_impl.LSTMCell object at 0x7ff835cd80d0>>: AttributeError: module 'gast' has no attribute 'Index'\n",
      "WARNING: Entity <bound method LSTMCell.call of <tensorflow.python.ops.rnn_cell_impl.LSTMCell object at 0x7ff835cd80d0>> could not be transformed and will be executed as-is. Please report this to the AutgoGraph team. When filing the bug, set the verbosity to 10 (on Linux, `export AUTOGRAPH_VERBOSITY=10`) and attach the full output. Cause: converting <bound method LSTMCell.call of <tensorflow.python.ops.rnn_cell_impl.LSTMCell object at 0x7ff835cd80d0>>: AttributeError: module 'gast' has no attribute 'Index'\n",
      "WARNING:tensorflow:Entity <bound method LSTMCell.call of <tensorflow.python.ops.rnn_cell_impl.LSTMCell object at 0x7ff835cd80d0>> could not be transformed and will be executed as-is. Please report this to the AutgoGraph team. When filing the bug, set the verbosity to 10 (on Linux, `export AUTOGRAPH_VERBOSITY=10`) and attach the full output. Cause: converting <bound method LSTMCell.call of <tensorflow.python.ops.rnn_cell_impl.LSTMCell object at 0x7ff835cd80d0>>: AttributeError: module 'gast' has no attribute 'Index'\n",
      "WARNING: Entity <bound method LSTMCell.call of <tensorflow.python.ops.rnn_cell_impl.LSTMCell object at 0x7ff835cd80d0>> could not be transformed and will be executed as-is. Please report this to the AutgoGraph team. When filing the bug, set the verbosity to 10 (on Linux, `export AUTOGRAPH_VERBOSITY=10`) and attach the full output. Cause: converting <bound method LSTMCell.call of <tensorflow.python.ops.rnn_cell_impl.LSTMCell object at 0x7ff835cd80d0>>: AttributeError: module 'gast' has no attribute 'Index'\n",
      "WARNING:tensorflow:Entity <bound method LSTMCell.call of <tensorflow.python.ops.rnn_cell_impl.LSTMCell object at 0x7ff835cd80d0>> could not be transformed and will be executed as-is. Please report this to the AutgoGraph team. When filing the bug, set the verbosity to 10 (on Linux, `export AUTOGRAPH_VERBOSITY=10`) and attach the full output. Cause: converting <bound method LSTMCell.call of <tensorflow.python.ops.rnn_cell_impl.LSTMCell object at 0x7ff835cd80d0>>: AttributeError: module 'gast' has no attribute 'Index'\n",
      "WARNING: Entity <bound method LSTMCell.call of <tensorflow.python.ops.rnn_cell_impl.LSTMCell object at 0x7ff835cd80d0>> could not be transformed and will be executed as-is. Please report this to the AutgoGraph team. When filing the bug, set the verbosity to 10 (on Linux, `export AUTOGRAPH_VERBOSITY=10`) and attach the full output. Cause: converting <bound method LSTMCell.call of <tensorflow.python.ops.rnn_cell_impl.LSTMCell object at 0x7ff835cd80d0>>: AttributeError: module 'gast' has no attribute 'Index'\n",
      "WARNING:tensorflow:Entity <bound method LSTMCell.call of <tensorflow.python.ops.rnn_cell_impl.LSTMCell object at 0x7ff835cd80d0>> could not be transformed and will be executed as-is. Please report this to the AutgoGraph team. When filing the bug, set the verbosity to 10 (on Linux, `export AUTOGRAPH_VERBOSITY=10`) and attach the full output. Cause: converting <bound method LSTMCell.call of <tensorflow.python.ops.rnn_cell_impl.LSTMCell object at 0x7ff835cd80d0>>: AttributeError: module 'gast' has no attribute 'Index'\n",
      "WARNING: Entity <bound method LSTMCell.call of <tensorflow.python.ops.rnn_cell_impl.LSTMCell object at 0x7ff835cd80d0>> could not be transformed and will be executed as-is. Please report this to the AutgoGraph team. When filing the bug, set the verbosity to 10 (on Linux, `export AUTOGRAPH_VERBOSITY=10`) and attach the full output. Cause: converting <bound method LSTMCell.call of <tensorflow.python.ops.rnn_cell_impl.LSTMCell object at 0x7ff835cd80d0>>: AttributeError: module 'gast' has no attribute 'Index'\n",
      "WARNING:tensorflow:From /home/samuel/ns-allinone-3.29/ns-3.29/scratch/RLinWiFi-master-original-queue-level-mean/agents/dqn/model.py:53: dense (from tensorflow.python.layers.core) is deprecated and will be removed in a future version.\n",
      "Instructions for updating:\n",
      "Use keras.layers.dense instead.\n",
      "WARNING:tensorflow:Entity <bound method Dense.call of <tensorflow.python.layers.core.Dense object at 0x7ff835956710>> could not be transformed and will be executed as-is. Please report this to the AutgoGraph team. When filing the bug, set the verbosity to 10 (on Linux, `export AUTOGRAPH_VERBOSITY=10`) and attach the full output. Cause: converting <bound method Dense.call of <tensorflow.python.layers.core.Dense object at 0x7ff835956710>>: AttributeError: module 'gast' has no attribute 'Index'\n",
      "WARNING: Entity <bound method Dense.call of <tensorflow.python.layers.core.Dense object at 0x7ff835956710>> could not be transformed and will be executed as-is. Please report this to the AutgoGraph team. When filing the bug, set the verbosity to 10 (on Linux, `export AUTOGRAPH_VERBOSITY=10`) and attach the full output. Cause: converting <bound method Dense.call of <tensorflow.python.layers.core.Dense object at 0x7ff835956710>>: AttributeError: module 'gast' has no attribute 'Index'\n",
      "WARNING:tensorflow:Entity <bound method Dense.call of <tensorflow.python.layers.core.Dense object at 0x7ff835899e90>> could not be transformed and will be executed as-is. Please report this to the AutgoGraph team. When filing the bug, set the verbosity to 10 (on Linux, `export AUTOGRAPH_VERBOSITY=10`) and attach the full output. Cause: converting <bound method Dense.call of <tensorflow.python.layers.core.Dense object at 0x7ff835899e90>>: AttributeError: module 'gast' has no attribute 'Index'\n",
      "WARNING: Entity <bound method Dense.call of <tensorflow.python.layers.core.Dense object at 0x7ff835899e90>> could not be transformed and will be executed as-is. Please report this to the AutgoGraph team. When filing the bug, set the verbosity to 10 (on Linux, `export AUTOGRAPH_VERBOSITY=10`) and attach the full output. Cause: converting <bound method Dense.call of <tensorflow.python.layers.core.Dense object at 0x7ff835899e90>>: AttributeError: module 'gast' has no attribute 'Index'\n"
     ]
    },
    {
     "name": "stdout",
     "output_type": "stream",
     "text": [
      "WARNING:tensorflow:Entity <bound method Dense.call of <tensorflow.python.layers.core.Dense object at 0x7ff83573fb50>> could not be transformed and will be executed as-is. Please report this to the AutgoGraph team. When filing the bug, set the verbosity to 10 (on Linux, `export AUTOGRAPH_VERBOSITY=10`) and attach the full output. Cause: converting <bound method Dense.call of <tensorflow.python.layers.core.Dense object at 0x7ff83573fb50>>: AttributeError: module 'gast' has no attribute 'Index'\n",
      "WARNING: Entity <bound method Dense.call of <tensorflow.python.layers.core.Dense object at 0x7ff83573fb50>> could not be transformed and will be executed as-is. Please report this to the AutgoGraph team. When filing the bug, set the verbosity to 10 (on Linux, `export AUTOGRAPH_VERBOSITY=10`) and attach the full output. Cause: converting <bound method Dense.call of <tensorflow.python.layers.core.Dense object at 0x7ff83573fb50>>: AttributeError: module 'gast' has no attribute 'Index'\n",
      "WARNING:tensorflow:From /home/samuel/ns-allinone-3.29/ns-3.29/scratch/RLinWiFi-master-original-queue-level-mean/agents/dqn/model.py:69: The name tf.losses.mean_squared_error is deprecated. Please use tf.compat.v1.losses.mean_squared_error instead.\n",
      "\n",
      "WARNING:tensorflow:From /home/samuel/anaconda3/envs/myEnv3_7/lib/python3.7/site-packages/tensorflow/python/ops/losses/losses_impl.py:121: add_dispatch_support.<locals>.wrapper (from tensorflow.python.ops.array_ops) is deprecated and will be removed in a future version.\n",
      "Instructions for updating:\n",
      "Use tf.where in 2.0, which has the same broadcast rule as np.where\n",
      "WARNING:tensorflow:From /home/samuel/ns-allinone-3.29/ns-3.29/scratch/RLinWiFi-master-original-queue-level-mean/agents/dqn/model.py:77: The name tf.train.AdamOptimizer is deprecated. Please use tf.compat.v1.train.AdamOptimizer instead.\n",
      "\n",
      "WARNING:tensorflow:From /home/samuel/ns-allinone-3.29/ns-3.29/scratch/RLinWiFi-master-original-queue-level-mean/agents/dqn/model.py:33: The name tf.global_variables_initializer is deprecated. Please use tf.compat.v1.global_variables_initializer instead.\n",
      "\n",
      "WARNING:tensorflow:From /home/samuel/ns-allinone-3.29/ns-3.29/scratch/RLinWiFi-master-original-queue-level-mean/agents/dqn/model.py:34: The name tf.local_variables_initializer is deprecated. Please use tf.compat.v1.local_variables_initializer instead.\n",
      "\n",
      "WARNING:tensorflow:Entity <bound method LSTMCell.call of <tensorflow.python.ops.rnn_cell_impl.LSTMCell object at 0x7ff7fc1eaf10>> could not be transformed and will be executed as-is. Please report this to the AutgoGraph team. When filing the bug, set the verbosity to 10 (on Linux, `export AUTOGRAPH_VERBOSITY=10`) and attach the full output. Cause: converting <bound method LSTMCell.call of <tensorflow.python.ops.rnn_cell_impl.LSTMCell object at 0x7ff7fc1eaf10>>: AttributeError: module 'gast' has no attribute 'Index'\n",
      "WARNING: Entity <bound method LSTMCell.call of <tensorflow.python.ops.rnn_cell_impl.LSTMCell object at 0x7ff7fc1eaf10>> could not be transformed and will be executed as-is. Please report this to the AutgoGraph team. When filing the bug, set the verbosity to 10 (on Linux, `export AUTOGRAPH_VERBOSITY=10`) and attach the full output. Cause: converting <bound method LSTMCell.call of <tensorflow.python.ops.rnn_cell_impl.LSTMCell object at 0x7ff7fc1eaf10>>: AttributeError: module 'gast' has no attribute 'Index'\n",
      "WARNING:tensorflow:Entity <bound method LSTMCell.call of <tensorflow.python.ops.rnn_cell_impl.LSTMCell object at 0x7ff7fc1eaf10>> could not be transformed and will be executed as-is. Please report this to the AutgoGraph team. When filing the bug, set the verbosity to 10 (on Linux, `export AUTOGRAPH_VERBOSITY=10`) and attach the full output. Cause: converting <bound method LSTMCell.call of <tensorflow.python.ops.rnn_cell_impl.LSTMCell object at 0x7ff7fc1eaf10>>: AttributeError: module 'gast' has no attribute 'Index'\n"
     ]
    },
    {
     "name": "stderr",
     "output_type": "stream",
     "text": [
      "2023-02-14 07:32:53.385081: W tensorflow/compiler/jit/mark_for_compilation_pass.cc:1412] (One-time warning): Not using XLA:CPU for cluster because envvar TF_XLA_FLAGS=--tf_xla_cpu_global_jit was not set.  If you want XLA:CPU, either set that envvar, or use experimental_jit_scope to enable XLA:CPU.  To confirm that XLA is active, pass --vmodule=xla_compilation_cache=1 (as a proper command-line flag, not via TF_XLA_FLAGS) or set the envvar XLA_FLAGS=--xla_hlo_profile.\n"
     ]
    },
    {
     "name": "stdout",
     "output_type": "stream",
     "text": [
      "WARNING: Entity <bound method LSTMCell.call of <tensorflow.python.ops.rnn_cell_impl.LSTMCell object at 0x7ff7fc1eaf10>> could not be transformed and will be executed as-is. Please report this to the AutgoGraph team. When filing the bug, set the verbosity to 10 (on Linux, `export AUTOGRAPH_VERBOSITY=10`) and attach the full output. Cause: converting <bound method LSTMCell.call of <tensorflow.python.ops.rnn_cell_impl.LSTMCell object at 0x7ff7fc1eaf10>>: AttributeError: module 'gast' has no attribute 'Index'\n",
      "WARNING:tensorflow:Entity <bound method LSTMCell.call of <tensorflow.python.ops.rnn_cell_impl.LSTMCell object at 0x7ff7fc1eaf10>> could not be transformed and will be executed as-is. Please report this to the AutgoGraph team. When filing the bug, set the verbosity to 10 (on Linux, `export AUTOGRAPH_VERBOSITY=10`) and attach the full output. Cause: converting <bound method LSTMCell.call of <tensorflow.python.ops.rnn_cell_impl.LSTMCell object at 0x7ff7fc1eaf10>>: AttributeError: module 'gast' has no attribute 'Index'\n",
      "WARNING: Entity <bound method LSTMCell.call of <tensorflow.python.ops.rnn_cell_impl.LSTMCell object at 0x7ff7fc1eaf10>> could not be transformed and will be executed as-is. Please report this to the AutgoGraph team. When filing the bug, set the verbosity to 10 (on Linux, `export AUTOGRAPH_VERBOSITY=10`) and attach the full output. Cause: converting <bound method LSTMCell.call of <tensorflow.python.ops.rnn_cell_impl.LSTMCell object at 0x7ff7fc1eaf10>>: AttributeError: module 'gast' has no attribute 'Index'\n",
      "WARNING:tensorflow:Entity <bound method LSTMCell.call of <tensorflow.python.ops.rnn_cell_impl.LSTMCell object at 0x7ff7fc1eaf10>> could not be transformed and will be executed as-is. Please report this to the AutgoGraph team. When filing the bug, set the verbosity to 10 (on Linux, `export AUTOGRAPH_VERBOSITY=10`) and attach the full output. Cause: converting <bound method LSTMCell.call of <tensorflow.python.ops.rnn_cell_impl.LSTMCell object at 0x7ff7fc1eaf10>>: AttributeError: module 'gast' has no attribute 'Index'\n",
      "WARNING: Entity <bound method LSTMCell.call of <tensorflow.python.ops.rnn_cell_impl.LSTMCell object at 0x7ff7fc1eaf10>> could not be transformed and will be executed as-is. Please report this to the AutgoGraph team. When filing the bug, set the verbosity to 10 (on Linux, `export AUTOGRAPH_VERBOSITY=10`) and attach the full output. Cause: converting <bound method LSTMCell.call of <tensorflow.python.ops.rnn_cell_impl.LSTMCell object at 0x7ff7fc1eaf10>>: AttributeError: module 'gast' has no attribute 'Index'\n",
      "WARNING:tensorflow:Entity <bound method Dense.call of <tensorflow.python.layers.core.Dense object at 0x7ff7fc1eaf10>> could not be transformed and will be executed as-is. Please report this to the AutgoGraph team. When filing the bug, set the verbosity to 10 (on Linux, `export AUTOGRAPH_VERBOSITY=10`) and attach the full output. Cause: converting <bound method Dense.call of <tensorflow.python.layers.core.Dense object at 0x7ff7fc1eaf10>>: AttributeError: module 'gast' has no attribute 'Index'\n",
      "WARNING: Entity <bound method Dense.call of <tensorflow.python.layers.core.Dense object at 0x7ff7fc1eaf10>> could not be transformed and will be executed as-is. Please report this to the AutgoGraph team. When filing the bug, set the verbosity to 10 (on Linux, `export AUTOGRAPH_VERBOSITY=10`) and attach the full output. Cause: converting <bound method Dense.call of <tensorflow.python.layers.core.Dense object at 0x7ff7fc1eaf10>>: AttributeError: module 'gast' has no attribute 'Index'\n",
      "WARNING:tensorflow:Entity <bound method Dense.call of <tensorflow.python.layers.core.Dense object at 0x7ff7fc1eaf10>> could not be transformed and will be executed as-is. Please report this to the AutgoGraph team. When filing the bug, set the verbosity to 10 (on Linux, `export AUTOGRAPH_VERBOSITY=10`) and attach the full output. Cause: converting <bound method Dense.call of <tensorflow.python.layers.core.Dense object at 0x7ff7fc1eaf10>>: AttributeError: module 'gast' has no attribute 'Index'\n",
      "WARNING: Entity <bound method Dense.call of <tensorflow.python.layers.core.Dense object at 0x7ff7fc1eaf10>> could not be transformed and will be executed as-is. Please report this to the AutgoGraph team. When filing the bug, set the verbosity to 10 (on Linux, `export AUTOGRAPH_VERBOSITY=10`) and attach the full output. Cause: converting <bound method Dense.call of <tensorflow.python.layers.core.Dense object at 0x7ff7fc1eaf10>>: AttributeError: module 'gast' has no attribute 'Index'\n",
      "WARNING:tensorflow:Entity <bound method Dense.call of <tensorflow.python.layers.core.Dense object at 0x7ff7fc1eaf10>> could not be transformed and will be executed as-is. Please report this to the AutgoGraph team. When filing the bug, set the verbosity to 10 (on Linux, `export AUTOGRAPH_VERBOSITY=10`) and attach the full output. Cause: converting <bound method Dense.call of <tensorflow.python.layers.core.Dense object at 0x7ff7fc1eaf10>>: AttributeError: module 'gast' has no attribute 'Index'\n",
      "WARNING: Entity <bound method Dense.call of <tensorflow.python.layers.core.Dense object at 0x7ff7fc1eaf10>> could not be transformed and will be executed as-is. Please report this to the AutgoGraph team. When filing the bug, set the verbosity to 10 (on Linux, `export AUTOGRAPH_VERBOSITY=10`) and attach the full output. Cause: converting <bound method Dense.call of <tensorflow.python.layers.core.Dense object at 0x7ff7fc1eaf10>>: AttributeError: module 'gast' has no attribute 'Index'\n",
      "WARNING:tensorflow:From /home/samuel/ns-allinone-3.29/ns-3.29/scratch/RLinWiFi-master-original-queue-level-mean/agents/dqn/agent.py:77: The name tf.train.Saver is deprecated. Please use tf.compat.v1.train.Saver instead.\n",
      "\n",
      "Action space: 7\n",
      "WARNING:tensorflow:From /home/samuel/ns-allinone-3.29/ns-3.29/scratch/RLinWiFi-master-original-queue-level-mean/agents/dqn/agent.py:107: Variable.load (from tensorflow.python.ops.variables) is deprecated and will be removed in a future version.\n",
      "Instructions for updating:\n",
      "Prefer Variable.assign which has equivalent behavior in 2.X.\n"
     ]
    },
    {
     "name": "stderr",
     "output_type": "stream",
     "text": [
      "COMET INFO: Experiment is live on comet.ml https://www.comet.com/sheila-janota/rl-in-wifi-with-queue-level/2a174a5584c9495fbb5c645aeee820c4\n",
      "\n",
      "  0%|          | 0/6300 [00:00<?, ?it/s]"
     ]
    },
    {
     "name": "stdout",
     "output_type": "stream",
     "text": [
      "0\n"
     ]
    },
    {
     "name": "stderr",
     "output_type": "stream",
     "text": [
      "  5%|▌         | 333/6300 [05:48<1:56:13,  1.17s/it, curr_speed=30.30 Mbps, mb_sent=9.70 Mb]"
     ]
    },
    {
     "name": "stdout",
     "output_type": "stream",
     "text": [
      "------- STARTED TRAINING -------\n"
     ]
    },
    {
     "name": "stderr",
     "output_type": "stream",
     "text": [
      "100%|██████████| 6300/6300 [1:55:48<00:00,  1.10s/it, curr_speed=32.29 Mbps, mb_sent=1947.90 Mb] \n"
     ]
    },
    {
     "name": "stdout",
     "output_type": "stream",
     "text": [
      "Waiting for simulation script to connect on port: tcp://localhost:39735\n",
      "Please start proper ns-3 simulation script using ./waf --run \"...\"\n",
      "Waf: Entering directory `/home/samuel/ns-allinone-3.29/ns-3.29/build'\n",
      "Waf: Leaving directory `/home/samuel/ns-allinone-3.29/ns-3.29/build'\n",
      "Build commands will be stored in build/compile_commands.json\n",
      "'build' finished successfully (3.939s)\n"
     ]
    },
    {
     "name": "stderr",
     "output_type": "stream",
     "text": [
      "Ns3Env parameters:\n",
      "--nWifi: 30\n",
      "--simulationTime: 60\n",
      "--openGymPort: 39735\n",
      "--envStepTime: 0.01\n",
      "--seed: 42\n",
      "--agentType: discrete\n",
      "--scenario: basic\n",
      "--dryRun: 0\n",
      "Simulation started\n",
      "Simulation process id: 1268204 (parent (waf shell) id: 1268155)\n",
      "Waiting for Python process to connect on port: tcp://localhost:39735\n",
      "Please start proper Python Gym Agent\n",
      "  0%|          | 0/6300 [00:00<?, ?it/s]"
     ]
    },
    {
     "name": "stdout",
     "output_type": "stream",
     "text": [
      "Sent 1947.90 Mb/s.\tMean speed: 32.47 Mb/s\tEpisode 1/15 finished\n",
      "\n",
      "1\n"
     ]
    },
    {
     "name": "stderr",
     "output_type": "stream",
     "text": [
      "100%|██████████| 6300/6300 [1:56:14<00:00,  1.11s/it, curr_speed=33.89 Mbps, mb_sent=2053.22 Mb]  \n"
     ]
    },
    {
     "name": "stdout",
     "output_type": "stream",
     "text": [
      "Waiting for simulation script to connect on port: tcp://localhost:26670\n",
      "Please start proper ns-3 simulation script using ./waf --run \"...\"\n",
      "Waf: Entering directory `/home/samuel/ns-allinone-3.29/ns-3.29/build'\n",
      "Waf: Leaving directory `/home/samuel/ns-allinone-3.29/ns-3.29/build'\n",
      "Build commands will be stored in build/compile_commands.json\n",
      "'build' finished successfully (3.660s)\n"
     ]
    },
    {
     "name": "stderr",
     "output_type": "stream",
     "text": [
      "Ns3Env parameters:\n",
      "--nWifi: 30\n",
      "--simulationTime: 60\n",
      "--openGymPort: 26670\n",
      "--envStepTime: 0.01\n",
      "--seed: 42\n",
      "--agentType: discrete\n",
      "--scenario: basic\n",
      "--dryRun: 0\n",
      "Simulation started\n",
      "Simulation process id: 1324603 (parent (waf shell) id: 1324561)\n",
      "Waiting for Python process to connect on port: tcp://localhost:26670\n",
      "Please start proper Python Gym Agent\n",
      "  0%|          | 0/6300 [00:00<?, ?it/s]"
     ]
    },
    {
     "name": "stdout",
     "output_type": "stream",
     "text": [
      "Sent 2053.22 Mb/s.\tMean speed: 34.22 Mb/s\tEpisode 2/15 finished\n",
      "\n",
      "2\n"
     ]
    },
    {
     "name": "stderr",
     "output_type": "stream",
     "text": [
      "100%|██████████| 6300/6300 [1:50:57<00:00,  1.06s/it, curr_speed=38.01 Mbps, mb_sent=2123.85 Mb]  \n"
     ]
    },
    {
     "name": "stdout",
     "output_type": "stream",
     "text": [
      "Waiting for simulation script to connect on port: tcp://localhost:35096\n",
      "Please start proper ns-3 simulation script using ./waf --run \"...\"\n",
      "Waf: Entering directory `/home/samuel/ns-allinone-3.29/ns-3.29/build'\n",
      "Waf: Leaving directory `/home/samuel/ns-allinone-3.29/ns-3.29/build'\n",
      "Build commands will be stored in build/compile_commands.json\n",
      "'build' finished successfully (3.120s)\n"
     ]
    },
    {
     "name": "stderr",
     "output_type": "stream",
     "text": [
      "Ns3Env parameters:\n",
      "--nWifi: 30\n",
      "--simulationTime: 60\n",
      "--openGymPort: 35096\n",
      "--envStepTime: 0.01\n",
      "--seed: 42\n",
      "--agentType: discrete\n",
      "--scenario: basic\n",
      "--dryRun: 0\n",
      "Simulation started\n",
      "Simulation process id: 1376333 (parent (waf shell) id: 1376293)\n",
      "Waiting for Python process to connect on port: tcp://localhost:35096\n",
      "Please start proper Python Gym Agent\n",
      "  0%|          | 0/6300 [00:00<?, ?it/s]"
     ]
    },
    {
     "name": "stdout",
     "output_type": "stream",
     "text": [
      "Sent 2123.85 Mb/s.\tMean speed: 35.40 Mb/s\tEpisode 3/15 finished\n",
      "\n",
      "3\n"
     ]
    },
    {
     "name": "stderr",
     "output_type": "stream",
     "text": [
      "  5%|▍         | 304/6300 [04:46<1:42:56,  1.03s/it, curr_speed=37.23 Mbps, mb_sent=1.12 Mb]"
     ]
    },
    {
     "name": "stdout",
     "output_type": "stream",
     "text": [
      "------- MEMORY BUFFER FILLED -------\n"
     ]
    },
    {
     "name": "stderr",
     "output_type": "stream",
     "text": [
      "100%|██████████| 6300/6300 [1:49:17<00:00,  1.04s/it, curr_speed=35.13 Mbps, mb_sent=2173.82 Mb]\n"
     ]
    },
    {
     "name": "stdout",
     "output_type": "stream",
     "text": [
      "Waiting for simulation script to connect on port: tcp://localhost:18964\n",
      "Please start proper ns-3 simulation script using ./waf --run \"...\"\n",
      "Waf: Entering directory `/home/samuel/ns-allinone-3.29/ns-3.29/build'\n",
      "Waf: Leaving directory `/home/samuel/ns-allinone-3.29/ns-3.29/build'\n",
      "Build commands will be stored in build/compile_commands.json\n",
      "'build' finished successfully (3.813s)\n"
     ]
    },
    {
     "name": "stderr",
     "output_type": "stream",
     "text": [
      "Ns3Env parameters:\n",
      "--nWifi: 30\n",
      "--simulationTime: 60\n",
      "--openGymPort: 18964\n",
      "--envStepTime: 0.01\n",
      "--seed: 42\n",
      "--agentType: discrete\n",
      "--scenario: basic\n",
      "--dryRun: 0\n",
      "Simulation started\n",
      "Simulation process id: 1424674 (parent (waf shell) id: 1424628)\n",
      "Waiting for Python process to connect on port: tcp://localhost:18964\n",
      "Please start proper Python Gym Agent\n",
      "  0%|          | 0/6300 [00:00<?, ?it/s]"
     ]
    },
    {
     "name": "stdout",
     "output_type": "stream",
     "text": [
      "Sent 2173.82 Mb/s.\tMean speed: 36.23 Mb/s\tEpisode 4/15 finished\n",
      "\n",
      "4\n"
     ]
    },
    {
     "name": "stderr",
     "output_type": "stream",
     "text": [
      "100%|██████████| 6300/6300 [1:43:26<00:00,  1.02it/s, curr_speed=35.80 Mbps, mb_sent=2211.10 Mb]\n"
     ]
    },
    {
     "name": "stdout",
     "output_type": "stream",
     "text": [
      "Waiting for simulation script to connect on port: tcp://localhost:23980\n",
      "Please start proper ns-3 simulation script using ./waf --run \"...\"\n",
      "Waf: Entering directory `/home/samuel/ns-allinone-3.29/ns-3.29/build'\n",
      "Waf: Leaving directory `/home/samuel/ns-allinone-3.29/ns-3.29/build'\n",
      "Build commands will be stored in build/compile_commands.json\n",
      "'build' finished successfully (3.085s)\n"
     ]
    },
    {
     "name": "stderr",
     "output_type": "stream",
     "text": [
      "Ns3Env parameters:\n",
      "--nWifi: 30\n",
      "--simulationTime: 60\n",
      "--openGymPort: 23980\n",
      "--envStepTime: 0.01\n",
      "--seed: 42\n",
      "--agentType: discrete\n",
      "--scenario: basic\n",
      "--dryRun: 0\n",
      "Simulation started\n",
      "Simulation process id: 1457786 (parent (waf shell) id: 1457758)\n",
      "Waiting for Python process to connect on port: tcp://localhost:23980\n",
      "Please start proper Python Gym Agent\n",
      "  0%|          | 0/6300 [00:00<?, ?it/s]"
     ]
    },
    {
     "name": "stdout",
     "output_type": "stream",
     "text": [
      "Sent 2211.10 Mb/s.\tMean speed: 36.85 Mb/s\tEpisode 5/15 finished\n",
      "\n",
      "5\n"
     ]
    },
    {
     "name": "stderr",
     "output_type": "stream",
     "text": [
      "100%|██████████| 6300/6300 [1:43:20<00:00,  1.02it/s, curr_speed=36.91 Mbps, mb_sent=2234.78 Mb]\n"
     ]
    },
    {
     "name": "stdout",
     "output_type": "stream",
     "text": [
      "Waiting for simulation script to connect on port: tcp://localhost:33049\n",
      "Please start proper ns-3 simulation script using ./waf --run \"...\"\n",
      "Waf: Entering directory `/home/samuel/ns-allinone-3.29/ns-3.29/build'\n",
      "Waf: Leaving directory `/home/samuel/ns-allinone-3.29/ns-3.29/build'\n",
      "Build commands will be stored in build/compile_commands.json\n",
      "'build' finished successfully (3.728s)\n"
     ]
    },
    {
     "name": "stderr",
     "output_type": "stream",
     "text": [
      "Ns3Env parameters:\n",
      "--nWifi: 30\n",
      "--simulationTime: 60\n",
      "--openGymPort: 33049\n",
      "--envStepTime: 0.01\n",
      "--seed: 42\n",
      "--agentType: discrete\n",
      "--scenario: basic\n",
      "--dryRun: 0\n",
      "Simulation started\n",
      "Simulation process id: 1490414 (parent (waf shell) id: 1490381)\n",
      "Waiting for Python process to connect on port: tcp://localhost:33049\n",
      "Please start proper Python Gym Agent\n",
      "  0%|          | 0/6300 [00:00<?, ?it/s]"
     ]
    },
    {
     "name": "stdout",
     "output_type": "stream",
     "text": [
      "Sent 2234.78 Mb/s.\tMean speed: 37.25 Mb/s\tEpisode 6/15 finished\n",
      "\n",
      "6\n"
     ]
    },
    {
     "name": "stderr",
     "output_type": "stream",
     "text": [
      "100%|██████████| 6300/6300 [1:42:53<00:00,  1.02it/s, curr_speed=37.10 Mbps, mb_sent=2237.62 Mb]\n"
     ]
    },
    {
     "name": "stdout",
     "output_type": "stream",
     "text": [
      "Waiting for simulation script to connect on port: tcp://localhost:47246\n",
      "Please start proper ns-3 simulation script using ./waf --run \"...\"\n",
      "Waf: Entering directory `/home/samuel/ns-allinone-3.29/ns-3.29/build'\n",
      "Waf: Leaving directory `/home/samuel/ns-allinone-3.29/ns-3.29/build'\n",
      "Build commands will be stored in build/compile_commands.json\n",
      "'build' finished successfully (3.060s)\n"
     ]
    },
    {
     "name": "stderr",
     "output_type": "stream",
     "text": [
      "Ns3Env parameters:\n",
      "--nWifi: 30\n",
      "--simulationTime: 60\n",
      "--openGymPort: 47246\n",
      "--envStepTime: 0.01\n",
      "--seed: 42\n",
      "--agentType: discrete\n",
      "--scenario: basic\n",
      "--dryRun: 0\n",
      "Simulation started\n",
      "Simulation process id: 1523117 (parent (waf shell) id: 1523088)\n",
      "Waiting for Python process to connect on port: tcp://localhost:47246\n",
      "Please start proper Python Gym Agent\n",
      "  0%|          | 0/6300 [00:00<?, ?it/s]"
     ]
    },
    {
     "name": "stdout",
     "output_type": "stream",
     "text": [
      "Sent 2237.62 Mb/s.\tMean speed: 37.29 Mb/s\tEpisode 7/15 finished\n",
      "\n",
      "7\n"
     ]
    },
    {
     "name": "stderr",
     "output_type": "stream",
     "text": [
      "100%|██████████| 6300/6300 [1:43:22<00:00,  1.02it/s, curr_speed=37.09 Mbps, mb_sent=2234.27 Mb]\n"
     ]
    },
    {
     "name": "stdout",
     "output_type": "stream",
     "text": [
      "Waiting for simulation script to connect on port: tcp://localhost:36460\n",
      "Please start proper ns-3 simulation script using ./waf --run \"...\"\n",
      "Waf: Entering directory `/home/samuel/ns-allinone-3.29/ns-3.29/build'\n",
      "Waf: Leaving directory `/home/samuel/ns-allinone-3.29/ns-3.29/build'\n",
      "Build commands will be stored in build/compile_commands.json\n",
      "'build' finished successfully (3.191s)\n"
     ]
    },
    {
     "name": "stderr",
     "output_type": "stream",
     "text": [
      "Ns3Env parameters:\n",
      "--nWifi: 30\n",
      "--simulationTime: 60\n",
      "--openGymPort: 36460\n",
      "--envStepTime: 0.01\n",
      "--seed: 42\n",
      "--agentType: discrete\n",
      "--scenario: basic\n",
      "--dryRun: 0\n",
      "Simulation started\n",
      "Simulation process id: 1556106 (parent (waf shell) id: 1556079)\n",
      "Waiting for Python process to connect on port: tcp://localhost:36460\n",
      "Please start proper Python Gym Agent\n",
      "  0%|          | 0/6300 [00:00<?, ?it/s]"
     ]
    },
    {
     "name": "stdout",
     "output_type": "stream",
     "text": [
      "Sent 2234.27 Mb/s.\tMean speed: 37.24 Mb/s\tEpisode 8/15 finished\n",
      "\n",
      "8\n"
     ]
    },
    {
     "name": "stderr",
     "output_type": "stream",
     "text": [
      "100%|██████████| 6300/6300 [1:44:57<00:00,  1.00it/s, curr_speed=37.38 Mbps, mb_sent=2244.03 Mb]\n"
     ]
    },
    {
     "name": "stdout",
     "output_type": "stream",
     "text": [
      "Waiting for simulation script to connect on port: tcp://localhost:46424\n",
      "Please start proper ns-3 simulation script using ./waf --run \"...\"\n",
      "Waf: Entering directory `/home/samuel/ns-allinone-3.29/ns-3.29/build'\n",
      "Waf: Leaving directory `/home/samuel/ns-allinone-3.29/ns-3.29/build'\n",
      "Build commands will be stored in build/compile_commands.json\n",
      "'build' finished successfully (3.330s)\n"
     ]
    },
    {
     "name": "stderr",
     "output_type": "stream",
     "text": [
      "Ns3Env parameters:\n",
      "--nWifi: 30\n",
      "--simulationTime: 60\n",
      "--openGymPort: 46424\n",
      "--envStepTime: 0.01\n",
      "--seed: 42\n",
      "--agentType: discrete\n",
      "--scenario: basic\n",
      "--dryRun: 0\n",
      "Simulation started\n",
      "Simulation process id: 1607440 (parent (waf shell) id: 1607395)\n",
      "Waiting for Python process to connect on port: tcp://localhost:46424\n",
      "Please start proper Python Gym Agent\n",
      "  0%|          | 0/6300 [00:00<?, ?it/s]"
     ]
    },
    {
     "name": "stdout",
     "output_type": "stream",
     "text": [
      "Sent 2244.03 Mb/s.\tMean speed: 37.40 Mb/s\tEpisode 9/15 finished\n",
      "\n",
      "9\n"
     ]
    },
    {
     "name": "stderr",
     "output_type": "stream",
     "text": [
      "100%|██████████| 6300/6300 [1:42:04<00:00,  1.03it/s, curr_speed=36.89 Mbps, mb_sent=2244.77 Mb]\n"
     ]
    },
    {
     "name": "stdout",
     "output_type": "stream",
     "text": [
      "Waiting for simulation script to connect on port: tcp://localhost:16566\n",
      "Please start proper ns-3 simulation script using ./waf --run \"...\"\n",
      "Waf: Entering directory `/home/samuel/ns-allinone-3.29/ns-3.29/build'\n",
      "Waf: Leaving directory `/home/samuel/ns-allinone-3.29/ns-3.29/build'\n",
      "Build commands will be stored in build/compile_commands.json\n",
      "'build' finished successfully (3.077s)\n"
     ]
    },
    {
     "name": "stderr",
     "output_type": "stream",
     "text": [
      "Ns3Env parameters:\n",
      "--nWifi: 30\n",
      "--simulationTime: 60\n",
      "--openGymPort: 16566\n",
      "--envStepTime: 0.01\n",
      "--seed: 42\n",
      "--agentType: discrete\n",
      "--scenario: basic\n",
      "--dryRun: 0\n",
      "Simulation started\n",
      "Simulation process id: 1656924 (parent (waf shell) id: 1656896)\n",
      "Waiting for Python process to connect on port: tcp://localhost:16566\n",
      "Please start proper Python Gym Agent\n",
      "  0%|          | 0/6300 [00:00<?, ?it/s]"
     ]
    },
    {
     "name": "stdout",
     "output_type": "stream",
     "text": [
      "Sent 2244.77 Mb/s.\tMean speed: 37.41 Mb/s\tEpisode 10/15 finished\n",
      "\n",
      "10\n"
     ]
    },
    {
     "name": "stderr",
     "output_type": "stream",
     "text": [
      "100%|██████████| 6300/6300 [1:31:04<00:00,  1.15it/s, curr_speed=37.81 Mbps, mb_sent=2246.77 Mb]\n"
     ]
    },
    {
     "name": "stdout",
     "output_type": "stream",
     "text": [
      "Waiting for simulation script to connect on port: tcp://localhost:47084\n",
      "Please start proper ns-3 simulation script using ./waf --run \"...\"\n",
      "Waf: Entering directory `/home/samuel/ns-allinone-3.29/ns-3.29/build'\n",
      "Waf: Leaving directory `/home/samuel/ns-allinone-3.29/ns-3.29/build'\n",
      "Build commands will be stored in build/compile_commands.json\n",
      "'build' finished successfully (2.975s)\n"
     ]
    },
    {
     "name": "stderr",
     "output_type": "stream",
     "text": [
      "Ns3Env parameters:\n",
      "--nWifi: 30\n",
      "--simulationTime: 60\n",
      "--openGymPort: 47084\n",
      "--envStepTime: 0.01\n",
      "--seed: 42\n",
      "--agentType: discrete\n",
      "--scenario: basic\n",
      "--dryRun: 0\n",
      "Simulation started\n",
      "Simulation process id: 1685241 (parent (waf shell) id: 1685210)\n",
      "Waiting for Python process to connect on port: tcp://localhost:47084\n",
      "Please start proper Python Gym Agent\n",
      "  0%|          | 0/6300 [00:00<?, ?it/s]"
     ]
    },
    {
     "name": "stdout",
     "output_type": "stream",
     "text": [
      "Sent 2246.77 Mb/s.\tMean speed: 37.45 Mb/s\tEpisode 11/15 finished\n",
      "\n",
      "11\n"
     ]
    },
    {
     "name": "stderr",
     "output_type": "stream",
     "text": [
      "100%|██████████| 6300/6300 [1:30:59<00:00,  1.15it/s, curr_speed=37.33 Mbps, mb_sent=2248.32 Mb]\n"
     ]
    },
    {
     "name": "stdout",
     "output_type": "stream",
     "text": [
      "Waiting for simulation script to connect on port: tcp://localhost:18021\n",
      "Please start proper ns-3 simulation script using ./waf --run \"...\"\n",
      "Waf: Entering directory `/home/samuel/ns-allinone-3.29/ns-3.29/build'\n",
      "Waf: Leaving directory `/home/samuel/ns-allinone-3.29/ns-3.29/build'\n",
      "Build commands will be stored in build/compile_commands.json\n",
      "'build' finished successfully (3.098s)\n"
     ]
    },
    {
     "name": "stderr",
     "output_type": "stream",
     "text": [
      "Ns3Env parameters:\n",
      "--nWifi: 30\n",
      "--simulationTime: 60\n",
      "--openGymPort: 18021\n",
      "--envStepTime: 0.01\n",
      "--seed: 42\n",
      "--agentType: discrete\n",
      "--scenario: basic\n",
      "--dryRun: 0\n",
      "Simulation started\n"
     ]
    },
    {
     "name": "stdout",
     "output_type": "stream",
     "text": [
      "WARNING:tensorflow:From /home/samuel/anaconda3/envs/myEnv3_7/lib/python3.7/site-packages/tensorflow/python/training/saver.py:960: remove_checkpoint (from tensorflow.python.training.checkpoint_management) is deprecated and will be removed in a future version.\n",
      "Instructions for updating:\n",
      "Use standard file APIs to delete files with this prefix.\n"
     ]
    },
    {
     "name": "stderr",
     "output_type": "stream",
     "text": [
      "Simulation process id: 1713950 (parent (waf shell) id: 1713920)\n",
      "Waiting for Python process to connect on port: tcp://localhost:18021\n",
      "Please start proper Python Gym Agent\n",
      "  0%|          | 0/6300 [00:00<?, ?it/s]"
     ]
    },
    {
     "name": "stdout",
     "output_type": "stream",
     "text": [
      "Sent 2248.32 Mb/s.\tMean speed: 37.47 Mb/s\tEpisode 12/15 finished\n",
      "\n",
      "12\n",
      "Turning off noise\n"
     ]
    },
    {
     "name": "stderr",
     "output_type": "stream",
     "text": [
      "100%|██████████| 6300/6300 [1:19:41<00:00,  1.32it/s, curr_speed=36.45 Mbps, mb_sent=2244.39 Mb]\n"
     ]
    },
    {
     "name": "stdout",
     "output_type": "stream",
     "text": [
      "Waiting for simulation script to connect on port: tcp://localhost:42744\n",
      "Please start proper ns-3 simulation script using ./waf --run \"...\"\n",
      "Waf: Entering directory `/home/samuel/ns-allinone-3.29/ns-3.29/build'\n",
      "Waf: Leaving directory `/home/samuel/ns-allinone-3.29/ns-3.29/build'\n",
      "Build commands will be stored in build/compile_commands.json\n",
      "'build' finished successfully (2.925s)\n"
     ]
    },
    {
     "name": "stderr",
     "output_type": "stream",
     "text": [
      "Ns3Env parameters:\n",
      "--nWifi: 30\n",
      "--simulationTime: 60\n",
      "--openGymPort: 42744\n",
      "--envStepTime: 0.01\n",
      "--seed: 42\n",
      "--agentType: discrete\n",
      "--scenario: basic\n",
      "--dryRun: 0\n",
      "Simulation started\n",
      "Simulation process id: 1731653 (parent (waf shell) id: 1731632)\n",
      "Waiting for Python process to connect on port: tcp://localhost:42744\n",
      "Please start proper Python Gym Agent\n",
      "  0%|          | 0/6300 [00:00<?, ?it/s]"
     ]
    },
    {
     "name": "stdout",
     "output_type": "stream",
     "text": [
      "Sent 2244.39 Mb/s.\tMean speed: 37.41 Mb/s\tEpisode 13/15 finished\n",
      "\n",
      "13\n",
      "Turning off noise\n"
     ]
    },
    {
     "name": "stderr",
     "output_type": "stream",
     "text": [
      "100%|██████████| 6300/6300 [1:19:47<00:00,  1.32it/s, curr_speed=37.35 Mbps, mb_sent=2252.01 Mb]\n"
     ]
    },
    {
     "name": "stdout",
     "output_type": "stream",
     "text": [
      "Waiting for simulation script to connect on port: tcp://localhost:36877\n",
      "Please start proper ns-3 simulation script using ./waf --run \"...\"\n",
      "Waf: Entering directory `/home/samuel/ns-allinone-3.29/ns-3.29/build'\n",
      "Waf: Leaving directory `/home/samuel/ns-allinone-3.29/ns-3.29/build'\n",
      "Build commands will be stored in build/compile_commands.json\n",
      "'build' finished successfully (2.673s)\n"
     ]
    },
    {
     "name": "stderr",
     "output_type": "stream",
     "text": [
      "Ns3Env parameters:\n",
      "--nWifi: 30\n",
      "--simulationTime: 60\n",
      "--openGymPort: 36877\n",
      "--envStepTime: 0.01\n",
      "--seed: 42\n",
      "--agentType: discrete\n",
      "--scenario: basic\n",
      "--dryRun: 0\n",
      "Simulation started\n",
      "Simulation process id: 1749146 (parent (waf shell) id: 1749125)\n",
      "Waiting for Python process to connect on port: tcp://localhost:36877\n",
      "Please start proper Python Gym Agent\n",
      "  0%|          | 0/6300 [00:00<?, ?it/s]"
     ]
    },
    {
     "name": "stdout",
     "output_type": "stream",
     "text": [
      "Sent 2252.01 Mb/s.\tMean speed: 37.53 Mb/s\tEpisode 14/15 finished\n",
      "\n",
      "14\n",
      "Turning off noise\n"
     ]
    },
    {
     "name": "stderr",
     "output_type": "stream",
     "text": [
      "100%|██████████| 6300/6300 [1:18:57<00:00,  1.33it/s, curr_speed=37.04 Mbps, mb_sent=2226.67 Mb]\n"
     ]
    },
    {
     "name": "stdout",
     "output_type": "stream",
     "text": [
      "Waiting for simulation script to connect on port: tcp://localhost:19681\n",
      "Please start proper ns-3 simulation script using ./waf --run \"...\"\n",
      "Waf: Entering directory `/home/samuel/ns-allinone-3.29/ns-3.29/build'\n",
      "Waf: Leaving directory `/home/samuel/ns-allinone-3.29/ns-3.29/build'\n",
      "Build commands will be stored in build/compile_commands.json\n",
      "'build' finished successfully (2.735s)\n"
     ]
    },
    {
     "name": "stderr",
     "output_type": "stream",
     "text": [
      "Ns3Env parameters:\n",
      "--nWifi: 30\n",
      "--simulationTime: 60\n",
      "--openGymPort: 19681\n",
      "--envStepTime: 0.01\n",
      "--seed: 42\n",
      "--agentType: discrete\n",
      "--scenario: basic\n",
      "--dryRun: 0\n",
      "Simulation started\n",
      "Simulation process id: 1766382 (parent (waf shell) id: 1766363)\n",
      "Waiting for Python process to connect on port: tcp://localhost:19681\n",
      "Please start proper Python Gym Agent\n",
      "COMET INFO: ----------------------------\n",
      "COMET INFO: Comet.ml Experiment Summary:\n",
      "COMET INFO:   Data:\n",
      "COMET INFO:     url: https://www.comet.com/sheila-janota/rl-in-wifi-with-queue-level/2a174a5584c9495fbb5c645aeee820c4\n",
      "COMET INFO:   Metrics [count] (min, max):\n",
      "COMET INFO:     Chosen CW [89985]           : (16.0, 1024.0)\n",
      "COMET INFO:     Cumulative reward [15]      : (2662.31640625, 3153.011962890625)\n",
      "COMET INFO:     Current throughput [89985]  : (6.701699733734131, 65.87731170654297)\n",
      "COMET INFO:     Fairness index [89985]      : (nan, nan)\n",
      "COMET INFO:     Megabytes sent [89985]      : (0.06701699644327164, 2252.014620065689)\n",
      "COMET INFO:     Observation 0 [89985]       : (0.9605725554625193, 0.9639634134372075)\n",
      "COMET INFO:     Observation 1 [89985]       : (0.02035252670940057, 0.02622985901250673)\n",
      "COMET INFO:     Per-ep reward [89985]       : (126.73583984375, 3153.011962890625)\n",
      "COMET INFO:     Round megabytes sent [89985]: (0.022338999435305595, 11.82843017578125)\n",
      "COMET INFO:     Round reward [89985]        : (0.02978515625, 0.8935546875)\n",
      "COMET INFO:     Speed [15]                  : (32.46507518375292, 37.53357700109482)\n",
      "COMET INFO:     Station count [89985]       : (30.0, 30.0)\n",
      "COMET INFO:     loss [89985]                : (0.0, 0.18682549893856049)\n",
      "COMET INFO:   Uploads:\n",
      "COMET INFO:     histogram3d: 89985\n",
      "COMET INFO: ----------------------------\n",
      "COMET INFO: Uploading stats to Comet before program termination (may take several seconds)\n"
     ]
    },
    {
     "name": "stdout",
     "output_type": "stream",
     "text": [
      "Sent 2226.67 Mb/s.\tMean speed: 37.11 Mb/s\tEpisode 15/15 finished\n",
      "\n",
      "Training finished.\n"
     ]
    }
   ],
   "source": [
    "#%%\n",
    "teacher = Teacher(env, 1, Preprocessor(False))\n",
    "\n",
    "lr = 4e-4\n",
    "config = Config(buffer_size=3*steps_per_ep*threads_no, batch_size=32, gamma=0.7, tau=1e-3, lr=lr, update_every=1)\n",
    "agent = Agent(QNetworkTf, history_length, action_size=7, config=config)\n",
    "agent.set_epsilon(0.9, 0.001, EPISODE_COUNT-2)\n",
    "\n",
    "# Test the model\n",
    "hyperparams = {**config.__dict__, **sim_args}\n",
    "tags = [\"Rew: normalized speed\",\n",
    "        \"Final\",\n",
    "        f\"{Agent.NAME}\",\n",
    "        sim_args['scenario'],\n",
    "        f\"LR: {lr}\",\n",
    "        f\"Instances: {threads_no}\",\n",
    "        f\"Station count: {sim_args['nWifi']}\",\n",
    "        *[f\"{key}: {sim_args[key]}\" for key in list(sim_args)[:3]]]\n",
    "# # agent.save()\n",
    "logger = teacher.train(agent, EPISODE_COUNT,\n",
    "                        simTime=simTime,\n",
    "                        stepTime=stepTime,\n",
    "                        history_length=history_length,\n",
    "                        send_logs=True,\n",
    "                        experimental=True,\n",
    "                        tags=tags,\n",
    "                        parameters=hyperparams)\n",
    "#logger = teacher.eval(agent,\n",
    "#                        simTime=simTime,\n",
    "#                        stepTime=stepTime,\n",
    "#                        history_length=history_length,\n",
    "#                        tags=tags,\n",
    "#                        parameters=hyperparams)\n",
    "# agent.save()\n",
    "\n",
    "\n",
    "# %%"
   ]
  },
  {
   "cell_type": "code",
   "execution_count": null,
   "id": "30caa278",
   "metadata": {},
   "outputs": [],
   "source": []
  }
 ],
 "metadata": {
  "kernelspec": {
   "display_name": "Python 3 (ipykernel)",
   "language": "python",
   "name": "python3"
  },
  "language_info": {
   "codemirror_mode": {
    "name": "ipython",
    "version": 3
   },
   "file_extension": ".py",
   "mimetype": "text/x-python",
   "name": "python",
   "nbconvert_exporter": "python",
   "pygments_lexer": "ipython3",
   "version": "3.7.10"
  }
 },
 "nbformat": 4,
 "nbformat_minor": 5
}
