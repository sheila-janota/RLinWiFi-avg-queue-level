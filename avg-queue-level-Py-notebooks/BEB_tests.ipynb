{
 "cells": [
  {
   "cell_type": "code",
   "execution_count": null,
   "id": "ab9d3b72",
   "metadata": {},
   "outputs": [],
   "source": [
    "# para executar o beb_tests no arquivo cw.cc o dry_run = true;\n",
    "# a action a ser usada eh baseada no numero de estacoes\n",
    "# self.actions = agent.act(np.array(logger.stations, dtype=np.float32), add_noise)"
   ]
  },
  {
   "cell_type": "code",
   "execution_count": 1,
   "id": "1d5479f7",
   "metadata": {
    "scrolled": false
   },
   "outputs": [
    {
     "name": "stdout",
     "output_type": "stream",
     "text": [
      "Stations count: [5, 15, 30, 50]\n",
      "Scenarios: ['basic']\n",
      "802.11 default\n",
      "Steps per episode: 6000\n",
      "Waiting for simulation script to connect on port: tcp://localhost:38582\n",
      "Please start proper ns-3 simulation script using ./waf --run \"...\"\n",
      "Waf: Entering directory `/home/samuel/ns-allinone-3.29/ns-3.29/build'\n",
      "Waf: Leaving directory `/home/samuel/ns-allinone-3.29/ns-3.29/build'\n",
      "Build commands will be stored in build/compile_commands.json\n",
      "'build' finished successfully (1.927s)\n"
     ]
    },
    {
     "name": "stderr",
     "output_type": "stream",
     "text": [
      "Ns3Env parameters:\n",
      "--nWifi: 5\n",
      "--simulationTime: 60\n",
      "--openGymPort: 38582\n",
      "--envStepTime: 0.01\n",
      "--seed: 2092\n",
      "--agentType: continuous\n",
      "--scenario: basic\n",
      "--dryRun: 1\n",
      "Default CW\n",
      "Simulation started\n",
      "Simulation process id: 6537 (parent (waf shell) id: 6524)\n",
      "Waiting for Python process to connect on port: tcp://localhost:38582\n",
      "Please start proper Python Gym Agent\n"
     ]
    },
    {
     "name": "stdout",
     "output_type": "stream",
     "text": [
      "Observation space shape: (1, 300)\n",
      "Action space shape: (1, 1)\n"
     ]
    },
    {
     "name": "stderr",
     "output_type": "stream",
     "text": [
      "COMET INFO: Experiment is live on comet.ml https://www.comet.com/sheila-janota/rl-in-wifi/eaf9433f520e4868bde3988244fe6049\n",
      "\n",
      "100%|██████████| 6300/6300 [13:42<00:00,  7.66it/s, curr_speed=38.40 Mbps, mb_sent=2302.08 Mb]\n"
     ]
    },
    {
     "name": "stdout",
     "output_type": "stream",
     "text": [
      "Waiting for simulation script to connect on port: tcp://localhost:26710\n",
      "Please start proper ns-3 simulation script using ./waf --run \"...\"\n",
      "Waf: Entering directory `/home/samuel/ns-allinone-3.29/ns-3.29/build'\n",
      "Waf: Leaving directory `/home/samuel/ns-allinone-3.29/ns-3.29/build'\n",
      "Build commands will be stored in build/compile_commands.json\n",
      "'build' finished successfully (1.945s)\n"
     ]
    },
    {
     "name": "stderr",
     "output_type": "stream",
     "text": [
      "Ns3Env parameters:\n",
      "--nWifi: 5\n",
      "--simulationTime: 60\n",
      "--openGymPort: 26710\n",
      "--envStepTime: 0.01\n",
      "--seed: 2092\n",
      "--agentType: continuous\n",
      "--scenario: basic\n",
      "--dryRun: 1\n",
      "Default CW\n",
      "Simulation started\n",
      "Simulation process id: 12811 (parent (waf shell) id: 12794)\n",
      "Waiting for Python process to connect on port: tcp://localhost:26710\n",
      "Please start proper Python Gym Agent\n",
      "COMET INFO: ----------------------------\n",
      "COMET INFO: Comet.ml Experiment Summary:\n",
      "COMET INFO:   Data:\n",
      "COMET INFO:     url: https://www.comet.com/sheila-janota/rl-in-wifi/eaf9433f520e4868bde3988244fe6049\n",
      "COMET INFO:   Metrics [count] (min, max):\n",
      "COMET INFO:     Chosen CW [5999]           : (32.0, 32.0)\n",
      "COMET INFO:     Cumulative reward          : (3192.134765625, 3192.134765625)\n",
      "COMET INFO:     Current throughput [5999]  : (29.7777099609375, 49.96086883544922)\n",
      "COMET INFO:     Fairness index [5999]      : (0.9985449910163879, 0.9999279975891113)\n",
      "COMET INFO:     Megabytes sent [5999]      : (0.4132690131664276, 2302.076068267226)\n",
      "COMET INFO:     Observation 0 [5999]       : (0.5062445560097695, 0.6086646712819735)\n",
      "COMET INFO:     Observation 1 [5999]       : (0.01796727530720036, 0.5281170340165483)\n",
      "COMET INFO:     Per-ep reward [5999]       : (153.78076171875, 3192.134765625)\n",
      "COMET INFO:     Round megabytes sent [5999]: (0.20104999840259552, 11.7279052734375)\n",
      "COMET INFO:     Round reward [5999]        : (0.26806640625, 0.610595703125)\n",
      "COMET INFO:     Speed                      : (38.367934471120435, 38.367934471120435)\n",
      "COMET INFO:     Station count [5999]       : (5.0, 5.0)\n",
      "COMET INFO:     loss [5999]                : (0.0, 0.0)\n",
      "COMET INFO:   Uploads:\n",
      "COMET INFO:     histogram3d: 5999\n",
      "COMET INFO: ----------------------------\n",
      "COMET INFO: Uploading stats to Comet before program termination (may take several seconds)\n"
     ]
    },
    {
     "name": "stdout",
     "output_type": "stream",
     "text": [
      "Sent 2302.08 Mb/s.\tMean speed: 38.37 Mb/s\tEval finished\n",
      "\n",
      "Steps per episode: 6000\n",
      "Waiting for simulation script to connect on port: tcp://localhost:17058\n",
      "Please start proper ns-3 simulation script using ./waf --run \"...\"\n",
      "Waf: Entering directory `/home/samuel/ns-allinone-3.29/ns-3.29/build'\n",
      "Waf: Leaving directory `/home/samuel/ns-allinone-3.29/ns-3.29/build'\n",
      "Build commands will be stored in build/compile_commands.json\n",
      "'build' finished successfully (1.916s)\n"
     ]
    },
    {
     "name": "stderr",
     "output_type": "stream",
     "text": [
      "Ns3Env parameters:\n",
      "--nWifi: 15\n",
      "--simulationTime: 60\n",
      "--openGymPort: 17058\n",
      "--envStepTime: 0.01\n",
      "--seed: 42706\n",
      "--agentType: continuous\n",
      "--scenario: basic\n",
      "--dryRun: 1\n",
      "Default CW\n",
      "Simulation started\n",
      "Simulation process id: 12827 (parent (waf shell) id: 12814)\n",
      "Waiting for Python process to connect on port: tcp://localhost:17058\n",
      "Please start proper Python Gym Agent\n"
     ]
    },
    {
     "name": "stdout",
     "output_type": "stream",
     "text": [
      "Observation space shape: (1, 300)\n",
      "Action space shape: (1, 1)\n"
     ]
    },
    {
     "name": "stderr",
     "output_type": "stream",
     "text": [
      "COMET INFO: Experiment is live on comet.ml https://www.comet.com/sheila-janota/rl-in-wifi/004f74c8787749e49feed6c6d7970c41\n",
      "\n",
      "100%|██████████| 6300/6300 [29:09<00:00,  3.60it/s, curr_speed=32.58 Mbps, mb_sent=2029.41 Mb]\n"
     ]
    },
    {
     "name": "stdout",
     "output_type": "stream",
     "text": [
      "Waiting for simulation script to connect on port: tcp://localhost:40144\n",
      "Please start proper ns-3 simulation script using ./waf --run \"...\"\n",
      "Waf: Entering directory `/home/samuel/ns-allinone-3.29/ns-3.29/build'\n",
      "Waf: Leaving directory `/home/samuel/ns-allinone-3.29/ns-3.29/build'\n",
      "Build commands will be stored in build/compile_commands.json\n",
      "'build' finished successfully (1.932s)\n"
     ]
    },
    {
     "name": "stderr",
     "output_type": "stream",
     "text": [
      "Ns3Env parameters:\n",
      "--nWifi: 15\n",
      "--simulationTime: 60\n",
      "--openGymPort: 40144\n",
      "--envStepTime: 0.01\n",
      "--seed: 42706\n",
      "--agentType: continuous\n",
      "--scenario: basic\n",
      "--dryRun: 1\n",
      "Default CW\n",
      "Simulation started\n",
      "Simulation process id: 19395 (parent (waf shell) id: 19378)\n",
      "Waiting for Python process to connect on port: tcp://localhost:40144\n",
      "Please start proper Python Gym Agent\n",
      "COMET INFO: ----------------------------\n",
      "COMET INFO: Comet.ml Experiment Summary:\n",
      "COMET INFO:   Data:\n",
      "COMET INFO:     url: https://www.comet.com/sheila-janota/rl-in-wifi/004f74c8787749e49feed6c6d7970c41\n",
      "COMET INFO:   Metrics [count] (min, max):\n",
      "COMET INFO:     Chosen CW [5999]           : (32.0, 128.0)\n",
      "COMET INFO:     Cumulative reward          : (2705.251708984375, 2705.251708984375)\n",
      "COMET INFO:     Current throughput [5999]  : (23.947263717651367, 45.470760345458984)\n",
      "COMET INFO:     Fairness index [5999]      : (nan, nan)\n",
      "COMET INFO:     Megabytes sent [5999]      : (0.3462519943714142, 2029.4078417643905)\n",
      "COMET INFO:     Observation 0 [5999]       : (0.5817640992999077, 0.7083980136116346)\n",
      "COMET INFO:     Observation 1 [5999]       : (0.02394133906709882, 0.8321655265702562)\n",
      "COMET INFO:     Per-ep reward [5999]       : (136.252197265625, 2705.251708984375)\n",
      "COMET INFO:     Round megabytes sent [5999]: (0.0893549993634224, 11.70556640625)\n",
      "COMET INFO:     Round reward [5999]        : (0.119140625, 0.580810546875)\n",
      "COMET INFO:     Speed                      : (33.82346402940651, 33.82346402940651)\n",
      "COMET INFO:     Station count [5999]       : (15.0, 15.0)\n",
      "COMET INFO:     loss [5999]                : (0.0, 0.0)\n",
      "COMET INFO:   Uploads:\n",
      "COMET INFO:     histogram3d: 5999\n",
      "COMET INFO: ----------------------------\n",
      "COMET INFO: Uploading stats to Comet before program termination (may take several seconds)\n"
     ]
    },
    {
     "name": "stdout",
     "output_type": "stream",
     "text": [
      "Sent 2029.41 Mb/s.\tMean speed: 33.82 Mb/s\tEval finished\n",
      "\n",
      "Steps per episode: 6000\n",
      "Waiting for simulation script to connect on port: tcp://localhost:26556\n",
      "Please start proper ns-3 simulation script using ./waf --run \"...\"\n",
      "Waf: Entering directory `/home/samuel/ns-allinone-3.29/ns-3.29/build'\n",
      "Waf: Leaving directory `/home/samuel/ns-allinone-3.29/ns-3.29/build'\n",
      "Build commands will be stored in build/compile_commands.json\n",
      "'build' finished successfully (1.927s)\n"
     ]
    },
    {
     "name": "stderr",
     "output_type": "stream",
     "text": [
      "Ns3Env parameters:\n",
      "--nWifi: 30\n",
      "--simulationTime: 60\n",
      "--openGymPort: 26556\n",
      "--envStepTime: 0.01\n",
      "--seed: 16912\n",
      "--agentType: continuous\n",
      "--scenario: basic\n",
      "--dryRun: 1\n",
      "Default CW\n",
      "Simulation started\n",
      "Simulation process id: 19415 (parent (waf shell) id: 19402)\n",
      "Waiting for Python process to connect on port: tcp://localhost:26556\n",
      "Please start proper Python Gym Agent\n"
     ]
    },
    {
     "name": "stdout",
     "output_type": "stream",
     "text": [
      "Observation space shape: (1, 300)\n",
      "Action space shape: (1, 1)\n"
     ]
    },
    {
     "name": "stderr",
     "output_type": "stream",
     "text": [
      "COMET INFO: Experiment is live on comet.ml https://www.comet.com/sheila-janota/rl-in-wifi/08fec7e9fb8848ac87282b8741346a0b\n",
      "\n",
      "100%|██████████| 6300/6300 [53:03<00:00,  1.98it/s, curr_speed=30.24 Mbps, mb_sent=1835.06 Mb]\n"
     ]
    },
    {
     "name": "stdout",
     "output_type": "stream",
     "text": [
      "Waiting for simulation script to connect on port: tcp://localhost:21951\n",
      "Please start proper ns-3 simulation script using ./waf --run \"...\"\n",
      "Waf: Entering directory `/home/samuel/ns-allinone-3.29/ns-3.29/build'\n",
      "Waf: Leaving directory `/home/samuel/ns-allinone-3.29/ns-3.29/build'\n",
      "Build commands will be stored in build/compile_commands.json\n",
      "'build' finished successfully (1.931s)\n"
     ]
    },
    {
     "name": "stderr",
     "output_type": "stream",
     "text": [
      "Ns3Env parameters:\n",
      "--nWifi: 30\n",
      "--simulationTime: 60\n",
      "--openGymPort: 21951\n",
      "--envStepTime: 0.01\n",
      "--seed: 16912\n",
      "--agentType: continuous\n",
      "--scenario: basic\n",
      "--dryRun: 1\n",
      "Default CW\n",
      "Simulation started\n",
      "Simulation process id: 26384 (parent (waf shell) id: 26371)\n",
      "Waiting for Python process to connect on port: tcp://localhost:21951\n",
      "Please start proper Python Gym Agent\n",
      "COMET INFO: ----------------------------\n",
      "COMET INFO: Comet.ml Experiment Summary:\n",
      "COMET INFO:   Data:\n",
      "COMET INFO:     url: https://www.comet.com/sheila-janota/rl-in-wifi/08fec7e9fb8848ac87282b8741346a0b\n",
      "COMET INFO:   Metrics [count] (min, max):\n",
      "COMET INFO:     Chosen CW [5999]           : (32.0, 256.0)\n",
      "COMET INFO:     Cumulative reward          : (2512.88427734375, 2512.88427734375)\n",
      "COMET INFO:     Current throughput [5999]  : (23.10955810546875, 41.684329986572266)\n",
      "COMET INFO:     Fairness index [5999]      : (nan, nan)\n",
      "COMET INFO:     Megabytes sent [5999]      : (0.2568970024585724, 1835.0598056390882)\n",
      "COMET INFO:     Observation 0 [5999]       : (0.632511610587438, 0.7259930863231421)\n",
      "COMET INFO:     Observation 1 [5999]       : (0.026487974517208968, 0.6541890709712689)\n",
      "COMET INFO:     Per-ep reward [5999]       : (122.908447265625, 2512.88427734375)\n",
      "COMET INFO:     Round megabytes sent [5999]: (0.11169400066137314, 11.18060302734375)\n",
      "COMET INFO:     Round reward [5999]        : (0.14892578125, 0.640380859375)\n",
      "COMET INFO:     Speed                      : (30.584330093984804, 30.584330093984804)\n",
      "COMET INFO:     Station count [5999]       : (30.0, 30.0)\n",
      "COMET INFO:     loss [5999]                : (0.0, 0.0)\n",
      "COMET INFO:   Uploads:\n",
      "COMET INFO:     histogram3d: 5999\n",
      "COMET INFO: ----------------------------\n",
      "COMET INFO: Uploading stats to Comet before program termination (may take several seconds)\n"
     ]
    },
    {
     "name": "stdout",
     "output_type": "stream",
     "text": [
      "Sent 1835.06 Mb/s.\tMean speed: 30.58 Mb/s\tEval finished\n",
      "\n",
      "Steps per episode: 6000\n",
      "Waiting for simulation script to connect on port: tcp://localhost:45359\n",
      "Please start proper ns-3 simulation script using ./waf --run \"...\"\n",
      "Waf: Entering directory `/home/samuel/ns-allinone-3.29/ns-3.29/build'\n",
      "Waf: Leaving directory `/home/samuel/ns-allinone-3.29/ns-3.29/build'\n",
      "Build commands will be stored in build/compile_commands.json\n",
      "'build' finished successfully (1.940s)\n"
     ]
    },
    {
     "name": "stderr",
     "output_type": "stream",
     "text": [
      "Ns3Env parameters:\n",
      "--nWifi: 50\n",
      "--simulationTime: 60\n",
      "--openGymPort: 45359\n",
      "--envStepTime: 0.01\n",
      "--seed: 63324\n",
      "--agentType: continuous\n",
      "--scenario: basic\n",
      "--dryRun: 1\n",
      "Default CW\n",
      "Simulation started\n",
      "Simulation process id: 26412 (parent (waf shell) id: 26399)\n",
      "Waiting for Python process to connect on port: tcp://localhost:45359\n",
      "Please start proper Python Gym Agent\n"
     ]
    },
    {
     "name": "stdout",
     "output_type": "stream",
     "text": [
      "Observation space shape: (1, 300)\n",
      "Action space shape: (1, 1)\n"
     ]
    },
    {
     "name": "stderr",
     "output_type": "stream",
     "text": [
      "COMET INFO: Experiment is live on comet.ml https://www.comet.com/sheila-janota/rl-in-wifi/d1840c233a2141ce983a6957d83b23ed\n",
      "\n",
      " 59%|█████▊    | 3696/6300 [50:06<35:28,  1.22it/s, curr_speed=26.86 Mbps, mb_sent=919.47 Mb]  COMET ERROR: File could not be uploaded\n",
      " 59%|█████▊    | 3700/6300 [50:09<35:37,  1.22it/s, curr_speed=26.67 Mbps, mb_sent=920.45 Mb]COMET ERROR: File could not be uploaded\n",
      " 59%|█████▉    | 3702/6300 [50:11<35:17,  1.23it/s, curr_speed=26.73 Mbps, mb_sent=921.03 Mb]COMET ERROR: File could not be uploaded\n",
      " 59%|█████▉    | 3704/6300 [50:13<35:29,  1.22it/s, curr_speed=26.81 Mbps, mb_sent=921.66 Mb]COMET ERROR: File could not be uploaded\n",
      " 59%|█████▉    | 3705/6300 [50:13<35:26,  1.22it/s, curr_speed=26.87 Mbps, mb_sent=921.91 Mb]COMET ERROR: File could not be uploaded\n",
      " 60%|█████▉    | 3755/6300 [50:54<34:09,  1.24it/s, curr_speed=26.80 Mbps, mb_sent=935.36 Mb]COMET ERROR: File could not be uploaded\n",
      "COMET ERROR: File could not be uploaded\n",
      "COMET ERROR: File could not be uploaded\n",
      "COMET ERROR: File could not be uploaded\n",
      " 60%|█████▉    | 3757/6300 [50:56<34:16,  1.24it/s, curr_speed=26.74 Mbps, mb_sent=935.90 Mb]COMET ERROR: File could not be uploaded\n",
      " 60%|█████▉    | 3758/6300 [50:57<34:52,  1.21it/s, curr_speed=26.74 Mbps, mb_sent=936.19 Mb]COMET ERROR: File could not be uploaded\n",
      " 60%|█████▉    | 3760/6300 [50:58<34:49,  1.22it/s, curr_speed=26.78 Mbps, mb_sent=936.80 Mb]COMET ERROR: File could not be uploaded\n",
      " 60%|█████▉    | 3761/6300 [50:59<34:40,  1.22it/s, curr_speed=26.75 Mbps, mb_sent=937.06 Mb]COMET ERROR: File could not be uploaded\n",
      " 68%|██████▊   | 4301/6300 [58:20<27:14,  1.22it/s, curr_speed=27.12 Mbps, mb_sent=1082.64 Mb]COMET ERROR: File could not be uploaded\n",
      " 69%|██████▊   | 4318/6300 [58:33<26:31,  1.25it/s, curr_speed=26.75 Mbps, mb_sent=1086.94 Mb]COMET ERROR: File could not be uploaded\n",
      " 69%|██████▊   | 4319/6300 [58:34<26:36,  1.24it/s, curr_speed=26.74 Mbps, mb_sent=1087.22 Mb]COMET ERROR: File could not be uploaded\n",
      "COMET ERROR: File could not be uploaded\n",
      " 69%|██████▊   | 4321/6300 [58:36<26:55,  1.22it/s, curr_speed=26.90 Mbps, mb_sent=1087.84 Mb]COMET ERROR: File could not be uploaded\n",
      " 69%|██████▊   | 4328/6300 [58:42<26:44,  1.23it/s, curr_speed=26.78 Mbps, mb_sent=1089.72 Mb]COMET ERROR: File could not be uploaded\n",
      " 69%|██████▊   | 4329/6300 [58:42<26:41,  1.23it/s, curr_speed=26.78 Mbps, mb_sent=1089.99 Mb]COMET ERROR: File could not be uploaded\n",
      " 69%|██████▉   | 4334/6300 [58:46<26:48,  1.22it/s, curr_speed=26.82 Mbps, mb_sent=1091.37 Mb]COMET ERROR: File could not be uploaded\n",
      " 69%|██████▉   | 4335/6300 [58:47<26:48,  1.22it/s, curr_speed=26.86 Mbps, mb_sent=1091.63 Mb]COMET ERROR: File could not be uploaded\n",
      " 69%|██████▉   | 4341/6300 [58:52<26:54,  1.21it/s, curr_speed=26.77 Mbps, mb_sent=1093.22 Mb]COMET ERROR: File could not be uploaded\n",
      "100%|██████████| 6300/6300 [1:25:29<00:00,  1.23it/s, curr_speed=26.83 Mbps, mb_sent=1621.75 Mb]\n"
     ]
    },
    {
     "name": "stdout",
     "output_type": "stream",
     "text": [
      "Waiting for simulation script to connect on port: tcp://localhost:16574\n",
      "Please start proper ns-3 simulation script using ./waf --run \"...\"\n",
      "Waf: Entering directory `/home/samuel/ns-allinone-3.29/ns-3.29/build'\n",
      "Waf: Leaving directory `/home/samuel/ns-allinone-3.29/ns-3.29/build'\n",
      "Build commands will be stored in build/compile_commands.json\n",
      "'build' finished successfully (1.949s)\n"
     ]
    },
    {
     "name": "stderr",
     "output_type": "stream",
     "text": [
      "Ns3Env parameters:\n",
      "--nWifi: 50\n",
      "--simulationTime: 60\n",
      "--openGymPort: 16574\n",
      "--envStepTime: 0.01\n",
      "--seed: 63324\n",
      "--agentType: continuous\n",
      "--scenario: basic\n",
      "--dryRun: 1\n",
      "Default CW\n",
      "Simulation started\n",
      "Simulation process id: 33955 (parent (waf shell) id: 33941)\n",
      "Waiting for Python process to connect on port: tcp://localhost:16574\n",
      "Please start proper Python Gym Agent\n",
      "COMET INFO: ----------------------------\n",
      "COMET INFO: Comet.ml Experiment Summary:\n",
      "COMET INFO:   Data:\n",
      "COMET INFO:     url: https://www.comet.com/sheila-janota/rl-in-wifi/d1840c233a2141ce983a6957d83b23ed\n",
      "COMET INFO:   Metrics [count] (min, max):\n",
      "COMET INFO:     Chosen CW [5999]           : (32.0, 256.0)\n",
      "COMET INFO:     Cumulative reward          : (2269.5693359375, 2269.5693359375)\n",
      "COMET INFO:     Current throughput [5999]  : (24.57280158996582, 27.95709991455078)\n",
      "COMET INFO:     Fairness index [5999]      : (0.13592000305652618, 1.0)\n",
      "COMET INFO:     Megabytes sent [5999]      : (0.245728000998497, 1621.745977371931)\n",
      "COMET INFO:     Observation 0 [5999]       : (0.7301750844717027, 0.7381853261590003)\n",
      "COMET INFO:     Observation 1 [5999]       : (0.02837605971350527, 0.0370788380218184)\n",
      "COMET INFO:     Per-ep reward [5999]       : (107.569091796875, 2269.5693359375)\n",
      "COMET INFO:     Round megabytes sent [5999]: (0.15637199580669403, 0.3685910105705261)\n",
      "COMET INFO:     Round reward [5999]        : (0.20849609375, 0.491455078125)\n",
      "COMET INFO:     Speed                      : (27.02909962286552, 27.02909962286552)\n",
      "COMET INFO:     Station count [5999]       : (50.0, 50.0)\n",
      "COMET INFO:     loss [5999]                : (0.0, 0.0)\n",
      "COMET INFO:   Uploads:\n",
      "COMET INFO:     histogram3d: 5999\n",
      "COMET INFO: ----------------------------\n",
      "COMET INFO: Uploading stats to Comet before program termination (may take several seconds)\n"
     ]
    },
    {
     "name": "stdout",
     "output_type": "stream",
     "text": [
      "Sent 1621.75 Mb/s.\tMean speed: 27.03 Mb/s\tEval finished\n",
      "\n"
     ]
    }
   ],
   "source": [
    "%run beb_tests.py --beb 5 15 30 50 --scenario basic "
   ]
  },
  {
   "cell_type": "code",
   "execution_count": 2,
   "id": "30c5b693",
   "metadata": {
    "scrolled": false
   },
   "outputs": [
    {
     "name": "stdout",
     "output_type": "stream",
     "text": [
      "Stations count: [6, 15, 30, 50]\n",
      "Scenarios: ['convergence']\n",
      "802.11 default\n",
      "Steps per episode: 6000\n",
      "Waiting for simulation script to connect on port: tcp://localhost:52840\n",
      "Please start proper ns-3 simulation script using ./waf --run \"...\"\n",
      "Waf: Entering directory `/home/samuel/ns-allinone-3.29/ns-3.29/build'\n",
      "Waf: Leaving directory `/home/samuel/ns-allinone-3.29/ns-3.29/build'\n",
      "Build commands will be stored in build/compile_commands.json\n",
      "'build' finished successfully (1.975s)\n"
     ]
    },
    {
     "name": "stderr",
     "output_type": "stream",
     "text": [
      "Ns3Env parameters:\n",
      "--nWifi: 6\n",
      "--simulationTime: 60\n",
      "--openGymPort: 52840\n",
      "--envStepTime: 0.01\n",
      "--seed: 61374\n",
      "--agentType: continuous\n",
      "--scenario: convergence\n",
      "--dryRun: 1\n",
      "Default CW\n",
      "Simulation started\n",
      "Simulation process id: 35972 (parent (waf shell) id: 35959)\n",
      "Waiting for Python process to connect on port: tcp://localhost:52840\n",
      "Please start proper Python Gym Agent\n"
     ]
    },
    {
     "name": "stdout",
     "output_type": "stream",
     "text": [
      "Observation space shape: (1, 300)\n",
      "Action space shape: (1, 1)\n"
     ]
    },
    {
     "name": "stderr",
     "output_type": "stream",
     "text": [
      "COMET INFO: Experiment is live on comet.ml https://www.comet.com/sheila-janota/rl-in-wifi/4645e01cd9a240cba267707f8b152655\n",
      "\n",
      "100%|██████████| 6300/6300 [14:32<00:00,  7.22it/s, curr_speed=37.73 Mbps, mb_sent=2285.31 Mb]\n"
     ]
    },
    {
     "name": "stdout",
     "output_type": "stream",
     "text": [
      "Waiting for simulation script to connect on port: tcp://localhost:34913\n",
      "Please start proper ns-3 simulation script using ./waf --run \"...\"\n",
      "Waf: Entering directory `/home/samuel/ns-allinone-3.29/ns-3.29/build'\n",
      "Waf: Leaving directory `/home/samuel/ns-allinone-3.29/ns-3.29/build'\n",
      "Build commands will be stored in build/compile_commands.json\n",
      "'build' finished successfully (1.935s)\n"
     ]
    },
    {
     "name": "stderr",
     "output_type": "stream",
     "text": [
      "Ns3Env parameters:\n",
      "--nWifi: 6\n",
      "--simulationTime: 60\n",
      "--openGymPort: 34913\n",
      "--envStepTime: 0.01\n",
      "--seed: 61374\n",
      "--agentType: continuous\n",
      "--scenario: convergence\n",
      "--dryRun: 1\n",
      "Default CW\n",
      "Simulation started\n",
      "Simulation process id: 42271 (parent (waf shell) id: 42258)\n",
      "Waiting for Python process to connect on port: tcp://localhost:34913\n",
      "Please start proper Python Gym Agent\n",
      "COMET INFO: ----------------------------\n",
      "COMET INFO: Comet.ml Experiment Summary:\n",
      "COMET INFO:   Data:\n",
      "COMET INFO:     url: https://www.comet.com/sheila-janota/rl-in-wifi/4645e01cd9a240cba267707f8b152655\n",
      "COMET INFO:   Metrics [count] (min, max):\n",
      "COMET INFO:     Chosen CW [5999]           : (32.0, 32.0)\n",
      "COMET INFO:     Cumulative reward          : (3154.709716796875, 3154.709716796875)\n",
      "COMET INFO:     Current throughput [5999]  : (25.231752395629883, 55.791316986083984)\n",
      "COMET INFO:     Fairness index [5999]      : (0.1761689931154251, 0.9999679923057556)\n",
      "COMET INFO:     Megabytes sent [5999]      : (0.4132690131664276, 2285.310744933784)\n",
      "COMET INFO:     Observation 0 [5999]       : (0.48598664899667104, 0.6413333275914193)\n",
      "COMET INFO:     Observation 1 [5999]       : (0.019449777731140733, 0.763871254904349)\n",
      "COMET INFO:     Per-ep reward [5999]       : (154.004150390625, 3154.709716796875)\n",
      "COMET INFO:     Round megabytes sent [5999]: (0.1228640004992485, 11.78375244140625)\n",
      "COMET INFO:     Round reward [5999]        : (0.163818359375, 0.610595703125)\n",
      "COMET INFO:     Speed                      : (38.088512415563066, 38.088512415563066)\n",
      "COMET INFO:     Station count [5999]       : (5.0, 6.0)\n",
      "COMET INFO:     loss [5999]                : (0.0, 0.0)\n",
      "COMET INFO:   Uploads:\n",
      "COMET INFO:     histogram3d: 5999\n",
      "COMET INFO: ----------------------------\n"
     ]
    },
    {
     "name": "stdout",
     "output_type": "stream",
     "text": [
      "Sent 2285.31 Mb/s.\tMean speed: 38.09 Mb/s\tEval finished\n",
      "\n"
     ]
    },
    {
     "name": "stderr",
     "output_type": "stream",
     "text": [
      "COMET INFO: Uploading stats to Comet before program termination (may take several seconds)\n"
     ]
    },
    {
     "name": "stdout",
     "output_type": "stream",
     "text": [
      "Steps per episode: 6000\n",
      "Waiting for simulation script to connect on port: tcp://localhost:21614\n",
      "Please start proper ns-3 simulation script using ./waf --run \"...\"\n",
      "Waf: Entering directory `/home/samuel/ns-allinone-3.29/ns-3.29/build'\n",
      "Waf: Leaving directory `/home/samuel/ns-allinone-3.29/ns-3.29/build'\n",
      "Build commands will be stored in build/compile_commands.json\n",
      "'build' finished successfully (1.922s)\n"
     ]
    },
    {
     "name": "stderr",
     "output_type": "stream",
     "text": [
      "Ns3Env parameters:\n",
      "--nWifi: 15\n",
      "--simulationTime: 60\n",
      "--openGymPort: 21614\n",
      "--envStepTime: 0.01\n",
      "--seed: 23428\n",
      "--agentType: continuous\n",
      "--scenario: convergence\n",
      "--dryRun: 1\n",
      "Default CW\n",
      "Simulation started\n",
      "Simulation process id: 42291 (parent (waf shell) id: 42278)\n",
      "Waiting for Python process to connect on port: tcp://localhost:21614\n",
      "Please start proper Python Gym Agent\n"
     ]
    },
    {
     "name": "stdout",
     "output_type": "stream",
     "text": [
      "Observation space shape: (1, 300)\n",
      "Action space shape: (1, 1)\n"
     ]
    },
    {
     "name": "stderr",
     "output_type": "stream",
     "text": [
      "COMET INFO: Experiment is live on comet.ml https://www.comet.com/sheila-janota/rl-in-wifi/05216db9271d4f31a613790124cf7708\n",
      "\n",
      "100%|██████████| 6300/6300 [22:50<00:00,  4.60it/s, curr_speed=34.11 Mbps, mb_sent=2154.43 Mb]\n"
     ]
    },
    {
     "name": "stdout",
     "output_type": "stream",
     "text": [
      "Waiting for simulation script to connect on port: tcp://localhost:47753\n",
      "Please start proper ns-3 simulation script using ./waf --run \"...\"\n",
      "Waf: Entering directory `/home/samuel/ns-allinone-3.29/ns-3.29/build'\n",
      "Waf: Leaving directory `/home/samuel/ns-allinone-3.29/ns-3.29/build'\n",
      "Build commands will be stored in build/compile_commands.json\n",
      "'build' finished successfully (1.947s)\n"
     ]
    },
    {
     "name": "stderr",
     "output_type": "stream",
     "text": [
      "Ns3Env parameters:\n",
      "--nWifi: 15\n",
      "--simulationTime: 60\n",
      "--openGymPort: 47753\n",
      "--envStepTime: 0.01\n",
      "--seed: 23428\n",
      "--agentType: continuous\n",
      "--scenario: convergence\n",
      "--dryRun: 1\n",
      "Default CW\n",
      "Simulation started\n",
      "Simulation process id: 48746 (parent (waf shell) id: 48733)\n",
      "Waiting for Python process to connect on port: tcp://localhost:47753\n",
      "Please start proper Python Gym Agent\n",
      "COMET INFO: ----------------------------\n",
      "COMET INFO: Comet.ml Experiment Summary:\n",
      "COMET INFO:   Data:\n",
      "COMET INFO:     url: https://www.comet.com/sheila-janota/rl-in-wifi/05216db9271d4f31a613790124cf7708\n",
      "COMET INFO:   Metrics [count] (min, max):\n",
      "COMET INFO:     Chosen CW [5999]           : (32.0, 128.0)\n",
      "COMET INFO:     Cumulative reward          : (2922.891845703125, 2922.891845703125)\n",
      "COMET INFO:     Current throughput [5999]  : (28.35919189453125, 54.540340423583984)\n",
      "COMET INFO:     Fairness index [5999]      : (0.07374899834394455, 0.9999279975891113)\n",
      "COMET INFO:     Megabytes sent [5999]      : (0.3797610104084015, 2154.4272683262825)\n",
      "COMET INFO:     Observation 0 [5999]       : (0.5222645777463912, 0.6621705184380213)\n",
      "COMET INFO:     Observation 1 [5999]       : (0.020759220022643486, 0.7929840437151128)\n",
      "COMET INFO:     Per-ep reward [5999]       : (153.5126953125, 2922.891845703125)\n",
      "COMET INFO:     Round megabytes sent [5999]: (0.1675419956445694, 11.8172607421875)\n",
      "COMET INFO:     Round reward [5999]        : (0.223388671875, 0.62548828125)\n",
      "COMET INFO:     Speed                      : (35.90712113877137, 35.90712113877137)\n",
      "COMET INFO:     Station count [5999]       : (5.0, 15.0)\n",
      "COMET INFO:     loss [5999]                : (0.0, 0.0)\n",
      "COMET INFO:   Uploads:\n",
      "COMET INFO:     histogram3d: 5999\n",
      "COMET INFO: ----------------------------\n"
     ]
    },
    {
     "name": "stdout",
     "output_type": "stream",
     "text": [
      "Sent 2154.43 Mb/s.\tMean speed: 35.91 Mb/s\tEval finished\n",
      "\n"
     ]
    },
    {
     "name": "stderr",
     "output_type": "stream",
     "text": [
      "COMET INFO: Uploading stats to Comet before program termination (may take several seconds)\n"
     ]
    },
    {
     "name": "stdout",
     "output_type": "stream",
     "text": [
      "Steps per episode: 6000\n",
      "Waiting for simulation script to connect on port: tcp://localhost:19783\n",
      "Please start proper ns-3 simulation script using ./waf --run \"...\"\n",
      "Waf: Entering directory `/home/samuel/ns-allinone-3.29/ns-3.29/build'\n",
      "Waf: Leaving directory `/home/samuel/ns-allinone-3.29/ns-3.29/build'\n",
      "Build commands will be stored in build/compile_commands.json\n",
      "'build' finished successfully (1.915s)\n"
     ]
    },
    {
     "name": "stderr",
     "output_type": "stream",
     "text": [
      "Ns3Env parameters:\n",
      "--nWifi: 30\n",
      "--simulationTime: 60\n",
      "--openGymPort: 19783\n",
      "--envStepTime: 0.01\n",
      "--seed: 64695\n",
      "--agentType: continuous\n",
      "--scenario: convergence\n",
      "--dryRun: 1\n",
      "Default CW\n",
      "Simulation started\n",
      "Simulation process id: 48766 (parent (waf shell) id: 48750)\n",
      "Waiting for Python process to connect on port: tcp://localhost:19783\n",
      "Please start proper Python Gym Agent\n"
     ]
    },
    {
     "name": "stdout",
     "output_type": "stream",
     "text": [
      "Observation space shape: (1, 300)\n",
      "Action space shape: (1, 1)\n"
     ]
    },
    {
     "name": "stderr",
     "output_type": "stream",
     "text": [
      "COMET INFO: Experiment is live on comet.ml https://www.comet.com/sheila-janota/rl-in-wifi/fafb10c54cab4958b66a2c422a933bb7\n",
      "\n",
      "100%|██████████| 6300/6300 [36:29<00:00,  2.88it/s, curr_speed=30.65 Mbps, mb_sent=2013.75 Mb]\n"
     ]
    },
    {
     "name": "stdout",
     "output_type": "stream",
     "text": [
      "Waiting for simulation script to connect on port: tcp://localhost:45226\n",
      "Please start proper ns-3 simulation script using ./waf --run \"...\"\n",
      "Waf: Entering directory `/home/samuel/ns-allinone-3.29/ns-3.29/build'\n",
      "Waf: Leaving directory `/home/samuel/ns-allinone-3.29/ns-3.29/build'\n",
      "Build commands will be stored in build/compile_commands.json\n",
      "'build' finished successfully (1.941s)\n"
     ]
    },
    {
     "name": "stderr",
     "output_type": "stream",
     "text": [
      "Ns3Env parameters:\n",
      "--nWifi: 30\n",
      "--simulationTime: 60\n",
      "--openGymPort: 45226\n",
      "--envStepTime: 0.01\n",
      "--seed: 64695\n",
      "--agentType: continuous\n",
      "--scenario: convergence\n",
      "--dryRun: 1\n",
      "Default CW\n",
      "Simulation started\n",
      "Simulation process id: 55436 (parent (waf shell) id: 55423)\n",
      "Waiting for Python process to connect on port: tcp://localhost:45226\n",
      "Please start proper Python Gym Agent\n",
      "COMET INFO: ----------------------------\n",
      "COMET INFO: Comet.ml Experiment Summary:\n",
      "COMET INFO:   Data:\n",
      "COMET INFO:     url: https://www.comet.com/sheila-janota/rl-in-wifi/fafb10c54cab4958b66a2c422a933bb7\n",
      "COMET INFO:   Metrics [count] (min, max):\n",
      "COMET INFO:     Chosen CW [5999]           : (32.0, 256.0)\n",
      "COMET INFO:     Cumulative reward          : (2813.997314453125, 2813.997314453125)\n",
      "COMET INFO:     Current throughput [5999]  : (29.0181884765625, 40.209999084472656)\n",
      "COMET INFO:     Fairness index [5999]      : (0.0410350002348423, 0.9974579811096191)\n",
      "COMET INFO:     Megabytes sent [5999]      : (0.40209999680519104, 2013.7483485043049)\n",
      "COMET INFO:     Observation 0 [5999]       : (0.5737196952104568, 0.6924022904038429)\n",
      "COMET INFO:     Observation 1 [5999]       : (0.020936027060600867, 0.4605721778401228)\n",
      "COMET INFO:     Per-ep reward [5999]       : (154.5849609375, 2813.997314453125)\n",
      "COMET INFO:     Round megabytes sent [5999]: (0.18987999856472015, 5.495360851287842)\n",
      "COMET INFO:     Round reward [5999]        : (0.253173828125, 0.62548828125)\n",
      "COMET INFO:     Speed                      : (33.56247247507175, 33.56247247507175)\n",
      "COMET INFO:     Station count [5999]       : (5.0, 30.0)\n",
      "COMET INFO:     loss [5999]                : (0.0, 0.0)\n",
      "COMET INFO:   Uploads:\n",
      "COMET INFO:     histogram3d: 5999\n",
      "COMET INFO: ----------------------------\n",
      "COMET INFO: Uploading stats to Comet before program termination (may take several seconds)\n"
     ]
    },
    {
     "name": "stdout",
     "output_type": "stream",
     "text": [
      "Sent 2013.75 Mb/s.\tMean speed: 33.56 Mb/s\tEval finished\n",
      "\n",
      "Steps per episode: 6000\n",
      "Waiting for simulation script to connect on port: tcp://localhost:53553\n",
      "Please start proper ns-3 simulation script using ./waf --run \"...\"\n",
      "Waf: Entering directory `/home/samuel/ns-allinone-3.29/ns-3.29/build'\n",
      "Waf: Leaving directory `/home/samuel/ns-allinone-3.29/ns-3.29/build'\n",
      "Build commands will be stored in build/compile_commands.json\n",
      "'build' finished successfully (1.945s)\n"
     ]
    },
    {
     "name": "stderr",
     "output_type": "stream",
     "text": [
      "Ns3Env parameters:\n",
      "--nWifi: 50\n",
      "--simulationTime: 60\n",
      "--openGymPort: 53553\n",
      "--envStepTime: 0.01\n",
      "--seed: 18658\n",
      "--agentType: continuous\n",
      "--scenario: convergence\n",
      "--dryRun: 1\n",
      "Default CW\n",
      "Simulation started\n",
      "Simulation process id: 55459 (parent (waf shell) id: 55443)\n",
      "Waiting for Python process to connect on port: tcp://localhost:53553\n",
      "Please start proper Python Gym Agent\n"
     ]
    },
    {
     "name": "stdout",
     "output_type": "stream",
     "text": [
      "Observation space shape: (1, 300)\n",
      "Action space shape: (1, 1)\n"
     ]
    },
    {
     "name": "stderr",
     "output_type": "stream",
     "text": [
      "COMET INFO: Experiment is live on comet.ml https://www.comet.com/sheila-janota/rl-in-wifi/c1a9e54121254e6dbe5945810e987977\n",
      "\n",
      "100%|██████████| 6300/6300 [55:05<00:00,  1.91it/s, curr_speed=26.75 Mbps, mb_sent=1872.64 Mb]\n"
     ]
    },
    {
     "name": "stdout",
     "output_type": "stream",
     "text": [
      "Waiting for simulation script to connect on port: tcp://localhost:20663\n",
      "Please start proper ns-3 simulation script using ./waf --run \"...\"\n",
      "Waf: Entering directory `/home/samuel/ns-allinone-3.29/ns-3.29/build'\n",
      "Waf: Leaving directory `/home/samuel/ns-allinone-3.29/ns-3.29/build'\n",
      "Build commands will be stored in build/compile_commands.json\n",
      "'build' finished successfully (1.938s)\n"
     ]
    },
    {
     "name": "stderr",
     "output_type": "stream",
     "text": [
      "Ns3Env parameters:\n",
      "--nWifi: 50\n",
      "--simulationTime: 60\n",
      "--openGymPort: 20663\n",
      "--envStepTime: 0.01\n",
      "--seed: 18658\n",
      "--agentType: continuous\n",
      "--scenario: convergence\n",
      "--dryRun: 1\n",
      "Default CW\n",
      "Simulation started\n",
      "Simulation process id: 62477 (parent (waf shell) id: 62464)\n",
      "Waiting for Python process to connect on port: tcp://localhost:20663\n",
      "Please start proper Python Gym Agent\n",
      "COMET INFO: ----------------------------\n",
      "COMET INFO: Comet.ml Experiment Summary:\n",
      "COMET INFO:   Data:\n",
      "COMET INFO:     url: https://www.comet.com/sheila-janota/rl-in-wifi/c1a9e54121254e6dbe5945810e987977\n",
      "COMET INFO:   Metrics [count] (min, max):\n",
      "COMET INFO:     Chosen CW [5999]           : (32.0, 256.0)\n",
      "COMET INFO:     Cumulative reward          : (2615.777099609375, 2615.777099609375)\n",
      "COMET INFO:     Current throughput [5999]  : (26.25933837890625, 46.8445930480957)\n",
      "COMET INFO:     Fairness index [5999]      : (0.02705799974501133, 0.9949569702148438)\n",
      "COMET INFO:     Megabytes sent [5999]      : (0.4132690131664276, 1872.6449199169874)\n",
      "COMET INFO:     Observation 0 [5999]       : (0.5677179817358653, 0.7344967967271805)\n",
      "COMET INFO:     Observation 1 [5999]       : (0.021311446169882266, 0.5040717746430118)\n",
      "COMET INFO:     Per-ep reward [5999]       : (154.07861328125, 2615.777099609375)\n",
      "COMET INFO:     Round megabytes sent [5999]: (0.15637199580669403, 11.80609130859375)\n",
      "COMET INFO:     Round reward [5999]        : (0.20849609375, 0.7744140625)\n",
      "COMET INFO:     Speed                      : (31.210748665283123, 31.210748665283123)\n",
      "COMET INFO:     Station count [5999]       : (5.0, 50.0)\n",
      "COMET INFO:     loss [5999]                : (0.0, 0.0)\n",
      "COMET INFO:   Uploads:\n",
      "COMET INFO:     histogram3d: 5999\n",
      "COMET INFO: ----------------------------\n",
      "COMET INFO: Uploading stats to Comet before program termination (may take several seconds)\n"
     ]
    },
    {
     "name": "stdout",
     "output_type": "stream",
     "text": [
      "Sent 1872.64 Mb/s.\tMean speed: 31.21 Mb/s\tEval finished\n",
      "\n"
     ]
    }
   ],
   "source": [
    "%run beb_tests.py --beb 6 15 30 50 --scenario convergence"
   ]
  },
  {
   "cell_type": "code",
   "execution_count": null,
   "id": "41944c6a",
   "metadata": {},
   "outputs": [],
   "source": []
  }
 ],
 "metadata": {
  "kernelspec": {
   "display_name": "Python 3 (ipykernel)",
   "language": "python",
   "name": "python3"
  },
  "language_info": {
   "codemirror_mode": {
    "name": "ipython",
    "version": 3
   },
   "file_extension": ".py",
   "mimetype": "text/x-python",
   "name": "python",
   "nbconvert_exporter": "python",
   "pygments_lexer": "ipython3",
   "version": "3.7.10"
  }
 },
 "nbformat": 4,
 "nbformat_minor": 5
}
