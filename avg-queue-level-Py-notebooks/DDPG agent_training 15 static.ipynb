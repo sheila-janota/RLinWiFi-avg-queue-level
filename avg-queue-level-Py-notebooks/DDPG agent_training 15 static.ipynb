{
 "cells": [
  {
   "cell_type": "markdown",
   "id": "44fc4fa8",
   "metadata": {},
   "source": [
    "# Execution num1:"
   ]
  },
  {
   "cell_type": "code",
   "execution_count": null,
   "id": "8edb4dd5",
   "metadata": {},
   "outputs": [],
   "source": [
    "#%%\n",
    "from ns3gym import ns3env\n",
    "from comet_ml import Experiment, Optimizer\n",
    "import tqdm\n",
    "import subprocess\n",
    "from collections import deque\n",
    "import numpy as np\n",
    "\n",
    "from agents.ddpg.agent import Agent, Config\n",
    "from agents.ddpg.model import Actor\n",
    "from agents.teacher import Teacher, EnvWrapper\n",
    "from preprocessor import Preprocessor"
   ]
  },
  {
   "cell_type": "code",
   "execution_count": null,
   "id": "af83f96a",
   "metadata": {},
   "outputs": [],
   "source": [
    "#%%\n",
    "scenario = \"basic\"\n",
    "\n",
    "simTime = 60 # seconds\n",
    "stepTime = 0.01  # seconds\n",
    "history_length = 300\n",
    "\n",
    "EPISODE_COUNT = 15\n",
    "steps_per_ep = int(simTime/stepTime)\n",
    "\n",
    "sim_args = {\n",
    "    \"simTime\": simTime,\n",
    "    \"envStepTime\": stepTime,\n",
    "    \"historyLength\": history_length,\n",
    "    \"agentType\": Agent.TYPE,\n",
    "    \"scenario\": \"basic\",\n",
    "    \"nWifi\": 15,\n",
    "}\n",
    "\n",
    "print(\"Steps per episode:\", steps_per_ep)\n",
    "\n",
    "threads_no = 1\n",
    "env = EnvWrapper(threads_no, **sim_args)\n",
    "\n",
    "#%%\n",
    "env.reset()\n",
    "ob_space = env.observation_space\n",
    "ac_space = env.action_space\n",
    "\n",
    "print(\"Observation space shape:\", ob_space)\n",
    "print(\"Action space shape:\", ac_space)\n",
    "\n",
    "assert ob_space is not None"
   ]
  },
  {
   "cell_type": "code",
   "execution_count": null,
   "id": "79ef099b",
   "metadata": {},
   "outputs": [],
   "source": [
    "#%%\n",
    "teacher = Teacher(env, 1, Preprocessor(False))\n",
    "\n",
    "lr_actor = 4e-4\n",
    "lr_critic = 4e-3\n",
    "\n",
    "config = Config(buffer_size=4*steps_per_ep*threads_no, batch_size=32, gamma=0.7, tau=1e-3, lr_actor=lr_actor, lr_critic=lr_critic, update_every=1)\n",
    "agent = Agent(history_length, action_size=1, config=config, actor_layers=[8, 128, 16], critic_layers=[8,128,16])\n",
    "\n",
    "# Test the model\n",
    "hyperparams = {**config.__dict__, **sim_args}\n",
    "tags = [\"Rew: normalized speed\",\n",
    "        f\"{Agent.NAME}\",\n",
    "        sim_args['scenario'],\n",
    "        f\"Actor: {lr_actor}\",\n",
    "        f\"Critic: {lr_critic}\",\n",
    "        f\"Instances: {threads_no}\",\n",
    "        f\"Station count: {sim_args['nWifi']}\",\n",
    "        *[f\"{key}: {sim_args[key]}\" for key in list(sim_args)[:3]]]\n",
    "# agent.save()\n",
    "logger = teacher.train(agent, EPISODE_COUNT,\n",
    "                        simTime=simTime,\n",
    "                        stepTime=stepTime,\n",
    "                        history_length=history_length,\n",
    "                        send_logs=True,\n",
    "                        experimental=True,\n",
    "                        tags=tags,\n",
    "                        parameters=hyperparams)\n",
    "# logger = teacher.eval(agent,\n",
    "#                         simTime=simTime,\n",
    "#                         stepTime=stepTime,\n",
    "#                         history_length=history_length,\n",
    "#                         tags=tags,\n",
    "#                         parameters=hyperparams)\n",
    "# agent.save()"
   ]
  },
  {
   "cell_type": "code",
   "execution_count": null,
   "id": "49f13014",
   "metadata": {},
   "outputs": [],
   "source": [
    "14 \n",
    "Turning off noise \n",
    " \n",
    "\n",
    "100%|██████████| 6300/6300 [1:06:43<00:00,  1.57it/s, curr_speed=38.36 Mbps, mb_sent=2288.91 Mb] \n",
    " \n",
    "\n",
    "Waiting for simulation script to connect on port: tcp://localhost:43057 \n",
    "Please start proper ns-3 simulation script using ./waf --run \"...\" \n",
    "Waf: Entering directory `/home/samuel/ns-allinone-3.29/ns-3.29/build' \n",
    "Waf: Leaving directory `/home/samuel/ns-allinone-3.29/ns-3.29/build' \n",
    "Build commands will be stored in build/compile_commands.json \n",
    "'build' finished successfully (2.924s) \n",
    " \n",
    "\n",
    "Ns3Env parameters: \n",
    "--nWifi: 15 \n",
    "--simulationTime: 60 \n",
    "--openGymPort: 43057 \n",
    "--envStepTime: 0.01 \n",
    "--seed: 42 \n",
    "--agentType: continuous \n",
    "--scenario: basic \n",
    "--dryRun: 0 \n",
    "Simulation started \n",
    "Simulation process id: 2616597 (parent (waf shell) id: 2616572) \n",
    "Waiting for Python process to connect on port: tcp://localhost:43057 \n",
    "Please start proper Python Gym Agent \n",
    "COMET INFO: ---------------------------- \n",
    "COMET INFO: Comet.ml Experiment Summary: \n",
    "COMET INFO:   Data: \n",
    "COMET INFO:     url: https://www.comet.com/sheila-janota/rl-in-wifi-with-queue-level/6fc0afe6d4a640e0934d5041aa9626f7 \n",
    "COMET INFO:   Metrics [count] (min, max): \n",
    "COMET INFO:     Chosen CW [89985]           : (16.0, 1024.0) \n",
    "COMET INFO:     Cumulative reward [15]      : (2387.25048828125, 3204.212646484375) \n",
    "COMET INFO:     Current throughput [89985]  : (16.709474563598633, 60.359619140625) \n",
    "COMET INFO:     Fairness index [89985]      : (nan, nan) \n",
    "COMET INFO:     Megabytes sent [89985]      : (0.2680659890174866, 2288.907309651375) \n",
    "COMET INFO:     Observation 0 [89985]       : (0.9327562467257182, 0.9343750000000001) \n",
    "COMET INFO:     Observation 1 [89985]       : (0.023833520745089667, 0.027584693179434846) \n",
    "COMET INFO:     Per-ep reward [89985]       : (124.025390625, 3204.212646484375) \n",
    "COMET INFO:     Round megabytes sent [89985]: (0.0, 11.839599609375) \n",
    "COMET INFO:     Round reward [89985]        : (0.0, 0.997802734375) \n",
    "COMET INFO:     Speed [15]                  : (30.440617004968225, 38.148455160856244) \n",
    "COMET INFO:     Station count [89985]       : (15.0, 15.0) \n",
    "COMET INFO:     actor_loss [89985]          : (-1.6969138383865356, 0.0) \n",
    "COMET INFO:     critic_loss [89985]         : (0.0, 4.179370403289795) \n",
    "COMET INFO:     loss [33578]                : (-1.696624994277954, 0.7118808627128601) \n",
    "COMET INFO:   Uploads: \n",
    "COMET INFO:     histogram3d: 89985 \n",
    "COMET INFO: ---------------------------- \n",
    " \n",
    "\n",
    "Sent 2288.91 Mb/s.\tMean speed: 38.15 Mb/s\tEpisode 15/15 finished \n",
    " \n",
    " \n",
    "\n",
    "COMET INFO: Uploading stats to Comet before program termination (may take several seconds) \n",
    " \n",
    "\n",
    "Training finished."
   ]
  },
  {
   "cell_type": "code",
   "execution_count": null,
   "id": "4c370d00",
   "metadata": {},
   "outputs": [],
   "source": []
  },
  {
   "cell_type": "markdown",
   "id": "b92d0cd5",
   "metadata": {},
   "source": [
    "# Execution num2:"
   ]
  },
  {
   "cell_type": "code",
   "execution_count": null,
   "id": "cb7ec3a6",
   "metadata": {},
   "outputs": [],
   "source": [
    "#%%\n",
    "from ns3gym import ns3env\n",
    "from comet_ml import Experiment, Optimizer\n",
    "import tqdm\n",
    "import subprocess\n",
    "from collections import deque\n",
    "import numpy as np\n",
    "\n",
    "from agents.ddpg.agent import Agent, Config\n",
    "from agents.ddpg.model import Actor\n",
    "from agents.teacher import Teacher, EnvWrapper\n",
    "from preprocessor import Preprocessor"
   ]
  },
  {
   "cell_type": "code",
   "execution_count": null,
   "id": "a80dc68a",
   "metadata": {},
   "outputs": [],
   "source": [
    "#%%\n",
    "scenario = \"basic\"\n",
    "\n",
    "simTime = 60 # seconds\n",
    "stepTime = 0.01  # seconds\n",
    "history_length = 300\n",
    "\n",
    "EPISODE_COUNT = 15\n",
    "steps_per_ep = int(simTime/stepTime)\n",
    "\n",
    "sim_args = {\n",
    "    \"simTime\": simTime,\n",
    "    \"envStepTime\": stepTime,\n",
    "    \"historyLength\": history_length,\n",
    "    \"agentType\": Agent.TYPE,\n",
    "    \"scenario\": \"basic\",\n",
    "    \"nWifi\": 15,\n",
    "}\n",
    "\n",
    "print(\"Steps per episode:\", steps_per_ep)\n",
    "\n",
    "threads_no = 1\n",
    "env = EnvWrapper(threads_no, **sim_args)\n",
    "\n",
    "#%%\n",
    "env.reset()\n",
    "ob_space = env.observation_space\n",
    "ac_space = env.action_space\n",
    "\n",
    "print(\"Observation space shape:\", ob_space)\n",
    "print(\"Action space shape:\", ac_space)\n",
    "\n",
    "assert ob_space is not None"
   ]
  },
  {
   "cell_type": "code",
   "execution_count": null,
   "id": "ad7f122b",
   "metadata": {},
   "outputs": [],
   "source": [
    "#%%\n",
    "teacher = Teacher(env, 1, Preprocessor(False))\n",
    "\n",
    "lr_actor = 4e-4\n",
    "lr_critic = 4e-3\n",
    "\n",
    "config = Config(buffer_size=4*steps_per_ep*threads_no, batch_size=32, gamma=0.7, tau=1e-3, lr_actor=lr_actor, lr_critic=lr_critic, update_every=1)\n",
    "agent = Agent(history_length, action_size=1, config=config, actor_layers=[8, 128, 16], critic_layers=[8,128,16])\n",
    "\n",
    "# Test the model\n",
    "hyperparams = {**config.__dict__, **sim_args}\n",
    "tags = [\"Rew: normalized speed\",\n",
    "        f\"{Agent.NAME}\",\n",
    "        sim_args['scenario'],\n",
    "        f\"Actor: {lr_actor}\",\n",
    "        f\"Critic: {lr_critic}\",\n",
    "        f\"Instances: {threads_no}\",\n",
    "        f\"Station count: {sim_args['nWifi']}\",\n",
    "        *[f\"{key}: {sim_args[key]}\" for key in list(sim_args)[:3]]]\n",
    "# agent.save()\n",
    "logger = teacher.train(agent, EPISODE_COUNT,\n",
    "                        simTime=simTime,\n",
    "                        stepTime=stepTime,\n",
    "                        history_length=history_length,\n",
    "                        send_logs=True,\n",
    "                        experimental=True,\n",
    "                        tags=tags,\n",
    "                        parameters=hyperparams)\n",
    "# logger = teacher.eval(agent,\n",
    "#                         simTime=simTime,\n",
    "#                         stepTime=stepTime,\n",
    "#                         history_length=history_length,\n",
    "#                         tags=tags,\n",
    "#                         parameters=hyperparams)\n",
    "# agent.save()"
   ]
  },
  {
   "cell_type": "code",
   "execution_count": null,
   "id": "a045a6ad",
   "metadata": {},
   "outputs": [],
   "source": [
    "14 \n",
    "Turning off noise \n",
    " \n",
    "\n",
    "100%|██████████| 6300/6300 [51:06<00:00,  2.05it/s, curr_speed=38.43 Mbps, mb_sent=2285.53 Mb] \n",
    " \n",
    "\n",
    "Waiting for simulation script to connect on port: tcp://localhost:26008 \n",
    "Please start proper ns-3 simulation script using ./waf --run \"...\" \n",
    "Waf: Entering directory `/home/samuel/ns-allinone-3.29/ns-3.29/build' \n",
    "Waf: Leaving directory `/home/samuel/ns-allinone-3.29/ns-3.29/build' \n",
    "Build commands will be stored in build/compile_commands.json \n",
    "'build' finished successfully (2.301s) \n",
    " \n",
    "\n",
    "Ns3Env parameters: \n",
    "--nWifi: 15 \n",
    "--simulationTime: 60 \n",
    "--openGymPort: 26008 \n",
    "--envStepTime: 0.01 \n",
    "--seed: 42 \n",
    "--agentType: continuous \n",
    "--scenario: basic \n",
    "--dryRun: 0 \n",
    "Simulation started \n",
    "Simulation process id: 4054778 (parent (waf shell) id: 4054759) \n",
    "Waiting for Python process to connect on port: tcp://localhost:26008 \n",
    "Please start proper Python Gym Agent \n",
    "COMET INFO: ---------------------------- \n",
    "COMET INFO: Comet.ml Experiment Summary: \n",
    "COMET INFO:   Data: \n",
    "COMET INFO:     url: https://www.comet.com/sheila-janota/rl-in-wifi-with-queue-level/939bde702fe14ce0809239b42e911f51 \n",
    "COMET INFO:   Metrics [count] (min, max): \n",
    "COMET INFO:     Chosen CW [89985]           : (16.0, 1024.0) \n",
    "COMET INFO:     Cumulative reward [15]      : (2380.772216796875, 3209.782470703125) \n",
    "COMET INFO:     Current throughput [89985]  : (17.178598403930664, 56.9641227722168) \n",
    "COMET INFO:     Fairness index [89985]      : (nan, nan) \n",
    "COMET INFO:     Megabytes sent [89985]      : (0.31274399161338806, 2292.191170990467) \n",
    "COMET INFO:     Observation 0 [89985]       : (0.9326666628321012, 0.9343750000000001) \n",
    "COMET INFO:     Observation 1 [89985]       : (0.02382803091128171, 0.027456339967710505) \n",
    "COMET INFO:     Per-ep reward [89985]       : (124.397705078125, 3209.782470703125) \n",
    "COMET INFO:     Round megabytes sent [89985]: (0.022338999435305595, 11.85076904296875) \n",
    "COMET INFO:     Round reward [89985]        : (0.02978515625, 0.8935546875) \n",
    "COMET INFO:     Speed [15]                  : (30.40971528105438, 38.20318618317445) \n",
    "COMET INFO:     Station count [89985]       : (15.0, 15.0) \n",
    "COMET INFO:     actor_loss [89985]          : (-1.700748324394226, 0.0) \n",
    "COMET INFO:     critic_loss [89985]         : (0.0, 4.4643707275390625) \n",
    "COMET INFO:     loss [33578]                : (-1.7005425691604614, 1.3885765075683594) \n",
    "COMET INFO:   Uploads: \n",
    "COMET INFO:     histogram3d: 89985 \n",
    "COMET INFO: ---------------------------- \n",
    "COMET INFO: Uploading stats to Comet before program termination (may take several seconds) \n",
    " \n",
    "\n",
    "Sent 2285.53 Mb/s.\tMean speed: 38.09 Mb/s\tEpisode 15/15 finished \n",
    " \n",
    " "
   ]
  },
  {
   "cell_type": "code",
   "execution_count": null,
   "id": "c65a66d7",
   "metadata": {},
   "outputs": [],
   "source": []
  },
  {
   "cell_type": "markdown",
   "id": "11444df3",
   "metadata": {},
   "source": [
    "# Execution num3:"
   ]
  },
  {
   "cell_type": "code",
   "execution_count": 1,
   "id": "9ab0391a",
   "metadata": {},
   "outputs": [],
   "source": [
    "\n",
    "#%%\n",
    "from ns3gym import ns3env\n",
    "from comet_ml import Experiment, Optimizer\n",
    "import tqdm\n",
    "import subprocess\n",
    "from collections import deque\n",
    "import numpy as np\n",
    "\n",
    "from agents.ddpg.agent import Agent, Config\n",
    "from agents.ddpg.model import Actor\n",
    "from agents.teacher import Teacher, EnvWrapper\n",
    "from preprocessor import Preprocessor"
   ]
  },
  {
   "cell_type": "code",
   "execution_count": 2,
   "id": "4800669b",
   "metadata": {},
   "outputs": [
    {
     "name": "stdout",
     "output_type": "stream",
     "text": [
      "Steps per episode: 6000\n",
      "Waiting for simulation script to connect on port: tcp://localhost:19153\n",
      "Please start proper ns-3 simulation script using ./waf --run \"...\"\n",
      "15.056396|0|15|-nan\n",
      "Observation space shape: (1, 300)\n",
      "Action space shape: (1, 1)\n"
     ]
    }
   ],
   "source": [
    "#%%\n",
    "scenario = \"basic\"\n",
    "\n",
    "simTime = 60 # seconds\n",
    "stepTime = 0.01  # seconds\n",
    "history_length = 300\n",
    "\n",
    "EPISODE_COUNT = 15\n",
    "steps_per_ep = int(simTime/stepTime)\n",
    "\n",
    "sim_args = {\n",
    "    \"simTime\": simTime,\n",
    "    \"envStepTime\": stepTime,\n",
    "    \"historyLength\": history_length,\n",
    "    \"agentType\": Agent.TYPE,\n",
    "    \"scenario\": \"basic\",\n",
    "    \"nWifi\": 15,\n",
    "}\n",
    "\n",
    "print(\"Steps per episode:\", steps_per_ep)\n",
    "\n",
    "threads_no = 1\n",
    "env = EnvWrapper(threads_no, **sim_args)\n",
    "\n",
    "#%%\n",
    "env.reset()\n",
    "ob_space = env.observation_space\n",
    "ac_space = env.action_space\n",
    "\n",
    "print(\"Observation space shape:\", ob_space)\n",
    "print(\"Action space shape:\", ac_space)\n",
    "\n",
    "assert ob_space is not None"
   ]
  },
  {
   "cell_type": "code",
   "execution_count": 3,
   "id": "94d83dfc",
   "metadata": {
    "scrolled": true
   },
   "outputs": [
    {
     "name": "stdout",
     "output_type": "stream",
     "text": [
      "CuDNN version: 7102\n",
      "cpu\n"
     ]
    },
    {
     "name": "stderr",
     "output_type": "stream",
     "text": [
      "COMET INFO: Experiment is live on comet.ml https://www.comet.com/sheila-janota/rl-in-wifi-with-queue-level/ce47579245f44b6eade625215f77eda2\n",
      "\n"
     ]
    },
    {
     "name": "stdout",
     "output_type": "stream",
     "text": [
      "0\n",
      "15.056396|0|15|-nan\n"
     ]
    },
    {
     "name": "stderr",
     "output_type": "stream",
     "text": [
      "  5%|▌         | 334/6300 [01:28<25:08,  3.95it/s, curr_speed=30.94 Mbps, mb_sent=10.21 Mb]"
     ]
    },
    {
     "name": "stdout",
     "output_type": "stream",
     "text": [
      "------- STARTED TRAINING -------\n"
     ]
    },
    {
     "name": "stderr",
     "output_type": "stream",
     "text": [
      "100%|██████████| 6300/6300 [30:39<00:00,  3.42it/s, curr_speed=29.98 Mbps, mb_sent=1833.00 Mb] \n"
     ]
    },
    {
     "name": "stdout",
     "output_type": "stream",
     "text": [
      "Waiting for simulation script to connect on port: tcp://localhost:30778\n",
      "Please start proper ns-3 simulation script using ./waf --run \"...\"\n",
      "Sent 1833.00 Mb/s.\tMean speed: 30.55 Mb/s\tEpisode 1/15 finished\n",
      "\n",
      "1\n",
      "15.056396|0|15|-nan\n"
     ]
    },
    {
     "name": "stderr",
     "output_type": "stream",
     "text": [
      "100%|██████████| 6300/6300 [26:20<00:00,  3.99it/s, curr_speed=32.36 Mbps, mb_sent=1888.85 Mb]\n"
     ]
    },
    {
     "name": "stdout",
     "output_type": "stream",
     "text": [
      "Waiting for simulation script to connect on port: tcp://localhost:28583\n",
      "Please start proper ns-3 simulation script using ./waf --run \"...\"\n",
      "Sent 1888.85 Mb/s.\tMean speed: 31.48 Mb/s\tEpisode 2/15 finished\n",
      "\n",
      "2\n",
      "15.056396|0|15|-nan\n"
     ]
    },
    {
     "name": "stderr",
     "output_type": "stream",
     "text": [
      " 32%|███▏      | 2023/6300 [07:41<16:33,  4.30it/s, curr_speed=25.79 Mbps, mb_sent=546.27 Mb]  COMET ERROR: File could not be uploaded\n",
      " 33%|███▎      | 2050/6300 [07:47<16:38,  4.25it/s, curr_speed=35.34 Mbps, mb_sent=562.41 Mb]COMET ERROR: File could not be uploaded\n",
      "100%|██████████| 6300/6300 [24:10<00:00,  4.34it/s, curr_speed=33.85 Mbps, mb_sent=1980.55 Mb]\n"
     ]
    },
    {
     "name": "stdout",
     "output_type": "stream",
     "text": [
      "Waiting for simulation script to connect on port: tcp://localhost:51656\n",
      "Please start proper ns-3 simulation script using ./waf --run \"...\"\n",
      "Sent 1980.55 Mb/s.\tMean speed: 33.01 Mb/s\tEpisode 3/15 finished\n",
      "\n",
      "3\n",
      "15.056396|0|15|-nan\n"
     ]
    },
    {
     "name": "stderr",
     "output_type": "stream",
     "text": [
      "100%|██████████| 6300/6300 [24:15<00:00,  4.33it/s, curr_speed=35.16 Mbps, mb_sent=2074.10 Mb]\n"
     ]
    },
    {
     "name": "stdout",
     "output_type": "stream",
     "text": [
      "Waiting for simulation script to connect on port: tcp://localhost:19645\n",
      "Please start proper ns-3 simulation script using ./waf --run \"...\"\n",
      "Sent 2074.10 Mb/s.\tMean speed: 34.57 Mb/s\tEpisode 4/15 finished\n",
      "\n",
      "4\n",
      "15.056396|0|15|-nan\n"
     ]
    },
    {
     "name": "stderr",
     "output_type": "stream",
     "text": [
      "  5%|▍         | 305/6300 [01:00<21:43,  4.60it/s, curr_speed=36.58 Mbps, mb_sent=1.46 Mb]"
     ]
    },
    {
     "name": "stdout",
     "output_type": "stream",
     "text": [
      "------- MEMORY BUFFER FILLED -------\n"
     ]
    },
    {
     "name": "stderr",
     "output_type": "stream",
     "text": [
      "100%|██████████| 6300/6300 [24:08<00:00,  4.35it/s, curr_speed=30.62 Mbps, mb_sent=2171.70 Mb]\n"
     ]
    },
    {
     "name": "stdout",
     "output_type": "stream",
     "text": [
      "Waiting for simulation script to connect on port: tcp://localhost:42032\n",
      "Please start proper ns-3 simulation script using ./waf --run \"...\"\n",
      "Sent 2171.70 Mb/s.\tMean speed: 36.19 Mb/s\tEpisode 5/15 finished\n",
      "\n",
      "5\n",
      "15.056396|0|15|-nan\n"
     ]
    },
    {
     "name": "stderr",
     "output_type": "stream",
     "text": [
      "100%|██████████| 6300/6300 [24:22<00:00,  4.31it/s, curr_speed=37.24 Mbps, mb_sent=2238.47 Mb]\n"
     ]
    },
    {
     "name": "stdout",
     "output_type": "stream",
     "text": [
      "Waiting for simulation script to connect on port: tcp://localhost:34330\n",
      "Please start proper ns-3 simulation script using ./waf --run \"...\"\n",
      "Sent 2238.47 Mb/s.\tMean speed: 37.31 Mb/s\tEpisode 6/15 finished\n",
      "\n",
      "6\n",
      "15.056396|0|15|-nan\n"
     ]
    },
    {
     "name": "stderr",
     "output_type": "stream",
     "text": [
      "100%|██████████| 6300/6300 [27:24<00:00,  3.83it/s, curr_speed=37.82 Mbps, mb_sent=2263.90 Mb]\n"
     ]
    },
    {
     "name": "stdout",
     "output_type": "stream",
     "text": [
      "Waiting for simulation script to connect on port: tcp://localhost:25161\n",
      "Please start proper ns-3 simulation script using ./waf --run \"...\"\n",
      "Sent 2263.90 Mb/s.\tMean speed: 37.73 Mb/s\tEpisode 7/15 finished\n",
      "\n",
      "7\n",
      "15.056396|0|15|-nan\n"
     ]
    },
    {
     "name": "stderr",
     "output_type": "stream",
     "text": [
      "100%|██████████| 6300/6300 [31:16<00:00,  3.36it/s, curr_speed=37.92 Mbps, mb_sent=2276.74 Mb]\n"
     ]
    },
    {
     "name": "stdout",
     "output_type": "stream",
     "text": [
      "Waiting for simulation script to connect on port: tcp://localhost:39479\n",
      "Please start proper ns-3 simulation script using ./waf --run \"...\"\n",
      "Sent 2276.74 Mb/s.\tMean speed: 37.95 Mb/s\tEpisode 8/15 finished\n",
      "\n",
      "8\n",
      "15.056396|0|15|-nan\n"
     ]
    },
    {
     "name": "stderr",
     "output_type": "stream",
     "text": [
      "100%|██████████| 6300/6300 [30:15<00:00,  3.47it/s, curr_speed=38.02 Mbps, mb_sent=2279.99 Mb]\n"
     ]
    },
    {
     "name": "stdout",
     "output_type": "stream",
     "text": [
      "Waiting for simulation script to connect on port: tcp://localhost:52148\n",
      "Please start proper ns-3 simulation script using ./waf --run \"...\"\n",
      "Sent 2279.99 Mb/s.\tMean speed: 38.00 Mb/s\tEpisode 9/15 finished\n",
      "\n",
      "9\n",
      "15.056396|0|15|-nan\n"
     ]
    },
    {
     "name": "stderr",
     "output_type": "stream",
     "text": [
      "100%|██████████| 6300/6300 [29:18<00:00,  3.58it/s, curr_speed=38.13 Mbps, mb_sent=2283.74 Mb]\n"
     ]
    },
    {
     "name": "stdout",
     "output_type": "stream",
     "text": [
      "Waiting for simulation script to connect on port: tcp://localhost:51699\n",
      "Please start proper ns-3 simulation script using ./waf --run \"...\"\n",
      "Sent 2283.74 Mb/s.\tMean speed: 38.06 Mb/s\tEpisode 10/15 finished\n",
      "\n",
      "10\n",
      "15.056396|0|15|-nan\n"
     ]
    },
    {
     "name": "stderr",
     "output_type": "stream",
     "text": [
      " 58%|█████▊    | 3634/6300 [14:41<10:27,  4.25it/s, curr_speed=37.94 Mbps, mb_sent=1271.90 Mb] COMET ERROR: File could not be uploaded\n",
      " 58%|█████▊    | 3635/6300 [14:42<10:24,  4.27it/s, curr_speed=37.90 Mbps, mb_sent=1272.23 Mb]COMET ERROR: File could not be uploaded\n",
      " 58%|█████▊    | 3636/6300 [14:42<10:17,  4.32it/s, curr_speed=37.88 Mbps, mb_sent=1272.59 Mb]COMET ERROR: File could not be uploaded\n",
      " 58%|█████▊    | 3637/6300 [14:42<10:10,  4.36it/s, curr_speed=37.84 Mbps, mb_sent=1272.94 Mb]COMET ERROR: File could not be uploaded\n",
      " 58%|█████▊    | 3638/6300 [14:42<10:08,  4.38it/s, curr_speed=37.84 Mbps, mb_sent=1273.34 Mb]COMET ERROR: File could not be uploaded\n",
      " 58%|█████▊    | 3639/6300 [14:43<10:01,  4.42it/s, curr_speed=37.85 Mbps, mb_sent=1273.75 Mb]COMET ERROR: File could not be uploaded\n",
      " 58%|█████▊    | 3640/6300 [14:43<09:56,  4.46it/s, curr_speed=37.83 Mbps, mb_sent=1274.12 Mb]COMET ERROR: File could not be uploaded\n",
      " 58%|█████▊    | 3641/6300 [14:43<10:06,  4.39it/s, curr_speed=37.82 Mbps, mb_sent=1274.49 Mb]COMET ERROR: File could not be uploaded\n",
      " 61%|██████    | 3813/6300 [15:28<10:33,  3.93it/s, curr_speed=38.30 Mbps, mb_sent=1340.73 Mb]COMET ERROR: File could not be uploaded\n",
      " 61%|██████    | 3814/6300 [15:28<10:14,  4.05it/s, curr_speed=38.28 Mbps, mb_sent=1341.13 Mb]COMET ERROR: File could not be uploaded\n",
      " 61%|██████    | 3815/6300 [15:28<09:51,  4.20it/s, curr_speed=38.20 Mbps, mb_sent=1341.46 Mb]COMET ERROR: File could not be uploaded\n",
      " 61%|██████    | 3816/6300 [15:29<09:46,  4.24it/s, curr_speed=38.19 Mbps, mb_sent=1341.83 Mb]COMET ERROR: File could not be uploaded\n",
      " 61%|██████    | 3817/6300 [15:29<09:51,  4.20it/s, curr_speed=38.10 Mbps, mb_sent=1342.15 Mb]COMET ERROR: File could not be uploaded\n",
      " 61%|██████    | 3818/6300 [15:29<09:52,  4.19it/s, curr_speed=38.05 Mbps, mb_sent=1342.51 Mb]COMET ERROR: File could not be uploaded\n",
      " 61%|██████    | 3819/6300 [15:29<09:38,  4.29it/s, curr_speed=38.10 Mbps, mb_sent=1342.89 Mb]COMET ERROR: File could not be uploaded\n",
      " 61%|██████    | 3838/6300 [15:34<10:20,  3.97it/s, curr_speed=37.91 Mbps, mb_sent=1350.03 Mb]COMET ERROR: File could not be uploaded\n",
      " 61%|██████    | 3839/6300 [15:34<10:11,  4.02it/s, curr_speed=37.90 Mbps, mb_sent=1350.38 Mb]COMET ERROR: File could not be uploaded\n",
      " 61%|██████    | 3840/6300 [15:35<09:54,  4.14it/s, curr_speed=37.86 Mbps, mb_sent=1350.74 Mb]COMET ERROR: File could not be uploaded\n",
      " 61%|██████    | 3841/6300 [15:35<09:50,  4.16it/s, curr_speed=37.89 Mbps, mb_sent=1351.14 Mb]COMET ERROR: File could not be uploaded\n",
      " 61%|██████    | 3842/6300 [15:35<09:40,  4.24it/s, curr_speed=37.90 Mbps, mb_sent=1351.52 Mb]COMET ERROR: File could not be uploaded\n",
      " 61%|██████    | 3843/6300 [15:35<09:31,  4.30it/s, curr_speed=37.91 Mbps, mb_sent=1351.95 Mb]COMET ERROR: File could not be uploaded\n",
      " 61%|██████    | 3844/6300 [15:35<09:20,  4.38it/s, curr_speed=37.89 Mbps, mb_sent=1352.31 Mb]COMET ERROR: File could not be uploaded\n",
      " 61%|██████    | 3845/6300 [15:36<09:15,  4.42it/s, curr_speed=37.92 Mbps, mb_sent=1352.71 Mb]COMET ERROR: File could not be uploaded\n",
      "100%|██████████| 6300/6300 [25:19<00:00,  4.15it/s, curr_speed=37.88 Mbps, mb_sent=2288.75 Mb]\n"
     ]
    },
    {
     "name": "stdout",
     "output_type": "stream",
     "text": [
      "Waiting for simulation script to connect on port: tcp://localhost:44403\n",
      "Please start proper ns-3 simulation script using ./waf --run \"...\"\n",
      "Sent 2288.75 Mb/s.\tMean speed: 38.15 Mb/s\tEpisode 11/15 finished\n",
      "\n",
      "11\n",
      "15.056396|0|15|-nan\n"
     ]
    },
    {
     "name": "stderr",
     "output_type": "stream",
     "text": [
      "100%|██████████| 6300/6300 [25:31<00:00,  4.11it/s, curr_speed=38.22 Mbps, mb_sent=2286.80 Mb]\n"
     ]
    },
    {
     "name": "stdout",
     "output_type": "stream",
     "text": [
      "Waiting for simulation script to connect on port: tcp://localhost:47671\n",
      "Please start proper ns-3 simulation script using ./waf --run \"...\"\n",
      "Sent 2286.80 Mb/s.\tMean speed: 38.11 Mb/s\tEpisode 12/15 finished\n",
      "\n",
      "12\n",
      "Turning off noise\n",
      "15.056396|0|15|-nan\n"
     ]
    },
    {
     "name": "stderr",
     "output_type": "stream",
     "text": [
      "100%|██████████| 6300/6300 [26:52<00:00,  3.91it/s, curr_speed=38.10 Mbps, mb_sent=2290.61 Mb]\n"
     ]
    },
    {
     "name": "stdout",
     "output_type": "stream",
     "text": [
      "Waiting for simulation script to connect on port: tcp://localhost:22329\n",
      "Please start proper ns-3 simulation script using ./waf --run \"...\"\n",
      "Sent 2290.61 Mb/s.\tMean speed: 38.18 Mb/s\tEpisode 13/15 finished\n",
      "\n",
      "13\n",
      "Turning off noise\n",
      "15.056396|0|15|-nan\n"
     ]
    },
    {
     "name": "stderr",
     "output_type": "stream",
     "text": [
      "100%|██████████| 6300/6300 [26:57<00:00,  3.89it/s, curr_speed=38.61 Mbps, mb_sent=2291.20 Mb]\n"
     ]
    },
    {
     "name": "stdout",
     "output_type": "stream",
     "text": [
      "Waiting for simulation script to connect on port: tcp://localhost:18288\n",
      "Please start proper ns-3 simulation script using ./waf --run \"...\"\n",
      "Sent 2291.20 Mb/s.\tMean speed: 38.19 Mb/s\tEpisode 14/15 finished\n",
      "\n",
      "14\n",
      "Turning off noise\n",
      "15.056396|0|15|-nan\n"
     ]
    },
    {
     "name": "stderr",
     "output_type": "stream",
     "text": [
      "100%|██████████| 6300/6300 [25:08<00:00,  4.18it/s, curr_speed=37.85 Mbps, mb_sent=2289.79 Mb]\n"
     ]
    },
    {
     "name": "stdout",
     "output_type": "stream",
     "text": [
      "Waiting for simulation script to connect on port: tcp://localhost:32633\n",
      "Please start proper ns-3 simulation script using ./waf --run \"...\"\n"
     ]
    },
    {
     "name": "stderr",
     "output_type": "stream",
     "text": [
      "COMET INFO: ----------------------------\n",
      "COMET INFO: Comet.ml Experiment Summary:\n",
      "COMET INFO:   Data:\n",
      "COMET INFO:     url: https://www.comet.com/sheila-janota/rl-in-wifi-with-queue-level/ce47579245f44b6eade625215f77eda2\n",
      "COMET INFO:   Metrics [count] (min, max):\n",
      "COMET INFO:     Chosen CW [89985]           : (16.0, 1024.0)\n",
      "COMET INFO:     Cumulative reward [15]      : (2419.65673828125, 3207.340087890625)\n",
      "COMET INFO:     Current throughput [89985]  : (17.290285110473633, 59.03044891357422)\n",
      "COMET INFO:     Fairness index [89985]      : (nan, nan)\n",
      "COMET INFO:     Megabytes sent [89985]      : (0.3350830078125, 2291.197061687708)\n",
      "COMET INFO:     Observation 0 [89985]       : (0.9328541640440623, 0.9341666666666667)\n",
      "COMET INFO:     Observation 1 [89985]       : (0.01815937741728863, 0.02024897873355782)\n",
      "COMET INFO:     Per-ep reward [89985]       : (121.448974609375, 3207.340087890625)\n",
      "COMET INFO:     Round megabytes sent [89985]: (0.04467799887061119, 11.80609130859375)\n",
      "COMET INFO:     Round reward [89985]        : (0.0595703125, 0.98291015625)\n",
      "COMET INFO:     Speed [15]                  : (30.55007698982954, 38.18661769479513)\n",
      "COMET INFO:     Station count [89985]       : (15.0, 15.0)\n",
      "COMET INFO:     actor_loss [89985]          : (-1.6986583471298218, 0.0)\n",
      "COMET INFO:     critic_loss [89985]         : (0.0, 4.646844387054443)\n",
      "COMET INFO:     loss [33578]                : (-1.6985825300216675, 0.9911458492279053)\n",
      "COMET INFO:   Uploads:\n",
      "COMET INFO:     histogram3d: 89985\n",
      "COMET INFO: ----------------------------\n",
      "COMET INFO: Uploading stats to Comet before program termination (may take several seconds)\n"
     ]
    },
    {
     "name": "stdout",
     "output_type": "stream",
     "text": [
      "Sent 2289.79 Mb/s.\tMean speed: 38.16 Mb/s\tEpisode 15/15 finished\n",
      "\n"
     ]
    },
    {
     "name": "stderr",
     "output_type": "stream",
     "text": [
      "COMET INFO: Waiting for completion of the file uploads (may take several seconds)\n",
      "COMET INFO: Still uploading\n",
      "COMET INFO: Still uploading\n",
      "COMET INFO: Still uploading\n",
      "COMET INFO: Still uploading\n",
      "COMET INFO: Still uploading\n",
      "COMET INFO: Still uploading\n",
      "COMET INFO: Still uploading\n",
      "COMET INFO: Still uploading\n",
      "COMET INFO: Still uploading\n",
      "COMET INFO: Still uploading\n",
      "COMET INFO: Still uploading\n",
      "COMET INFO: Still uploading\n",
      "COMET INFO: Still uploading\n",
      "COMET INFO: Still uploading\n",
      "COMET INFO: Still uploading\n",
      "COMET INFO: Still uploading\n",
      "COMET INFO: Still uploading\n",
      "COMET INFO: Still uploading\n",
      "COMET INFO: Still uploading\n",
      "COMET INFO: Still uploading\n",
      "COMET INFO: Still uploading\n",
      "COMET INFO: Still uploading\n",
      "COMET INFO: Still uploading\n",
      "COMET INFO: Still uploading\n",
      "COMET INFO: Still uploading\n",
      "COMET INFO: Still uploading\n",
      "COMET INFO: Still uploading\n",
      "COMET INFO: Still uploading\n",
      "COMET INFO: Still uploading\n",
      "COMET INFO: Still uploading\n",
      "COMET INFO: Still uploading\n",
      "COMET INFO: Still uploading\n",
      "COMET INFO: Still uploading\n",
      "COMET INFO: Still uploading\n",
      "COMET INFO: Still uploading\n",
      "COMET INFO: Still uploading\n",
      "COMET INFO: Still uploading\n",
      "COMET INFO: Still uploading\n",
      "COMET INFO: Still uploading\n",
      "COMET INFO: Still uploading\n",
      "COMET INFO: Still uploading\n",
      "COMET INFO: Still uploading\n",
      "COMET INFO: Still uploading\n",
      "COMET INFO: Still uploading\n",
      "COMET INFO: Still uploading\n",
      "COMET INFO: Still uploading\n",
      "COMET INFO: Still uploading\n",
      "COMET INFO: Still uploading\n",
      "COMET INFO: Still uploading\n",
      "COMET INFO: Still uploading\n",
      "COMET INFO: Still uploading\n",
      "COMET INFO: Still uploading\n",
      "COMET INFO: Still uploading\n",
      "COMET INFO: Still uploading\n",
      "COMET INFO: Still uploading\n",
      "COMET INFO: Still uploading\n",
      "COMET INFO: Still uploading\n",
      "COMET INFO: Still uploading\n",
      "COMET INFO: Still uploading\n",
      "COMET INFO: Still uploading\n",
      "COMET INFO: Still uploading\n",
      "COMET INFO: Still uploading\n",
      "COMET INFO: Still uploading\n",
      "COMET INFO: Still uploading\n",
      "COMET INFO: Still uploading\n",
      "COMET INFO: Still uploading\n",
      "COMET INFO: Still uploading\n",
      "COMET INFO: Still uploading\n",
      "COMET INFO: Still uploading\n",
      "COMET INFO: Still uploading\n",
      "COMET INFO: Still uploading\n",
      "COMET INFO: Still uploading\n",
      "COMET INFO: Still uploading\n",
      "COMET INFO: Still uploading\n",
      "COMET INFO: Still uploading\n",
      "COMET INFO: Still uploading\n",
      "COMET INFO: Still uploading\n",
      "COMET INFO: Still uploading\n",
      "COMET INFO: Still uploading\n",
      "COMET INFO: Still uploading\n",
      "COMET INFO: Still uploading\n",
      "COMET INFO: Still uploading\n",
      "COMET INFO: Still uploading\n",
      "COMET INFO: Still uploading\n",
      "COMET INFO: Still uploading\n",
      "COMET INFO: Still uploading\n",
      "COMET INFO: Still uploading\n",
      "COMET INFO: Still uploading\n",
      "COMET INFO: Still uploading\n",
      "COMET INFO: Still uploading\n",
      "COMET INFO: Still uploading\n",
      "COMET INFO: Still uploading\n",
      "COMET INFO: Still uploading\n",
      "COMET INFO: Still uploading\n",
      "COMET INFO: Still uploading\n",
      "COMET INFO: Still uploading\n",
      "COMET INFO: Still uploading\n",
      "COMET INFO: Still uploading\n",
      "COMET INFO: Still uploading\n",
      "COMET INFO: Still uploading\n",
      "COMET INFO: Still uploading\n",
      "COMET INFO: Still uploading\n",
      "COMET INFO: Still uploading\n",
      "COMET INFO: Still uploading\n",
      "COMET INFO: Still uploading\n",
      "COMET INFO: Still uploading\n",
      "COMET INFO: Still uploading\n",
      "COMET INFO: Still uploading\n",
      "COMET INFO: Still uploading\n",
      "COMET INFO: Still uploading\n",
      "COMET INFO: Still uploading\n",
      "COMET INFO: Still uploading\n",
      "COMET INFO: Still uploading\n",
      "COMET INFO: Still uploading\n",
      "COMET INFO: Still uploading\n",
      "COMET INFO: Still uploading\n",
      "COMET INFO: Still uploading\n",
      "COMET INFO: Still uploading\n",
      "COMET INFO: Still uploading\n",
      "COMET ERROR: Comet failed to send all the data back (0 messages and 22 uploads)\n",
      "COMET WARNING: Failed to log run in comet.ml\n"
     ]
    },
    {
     "name": "stdout",
     "output_type": "stream",
     "text": [
      "Training finished.\n"
     ]
    }
   ],
   "source": [
    "#%%\n",
    "teacher = Teacher(env, 1, Preprocessor(False))\n",
    "\n",
    "lr_actor = 4e-4\n",
    "lr_critic = 4e-3\n",
    "\n",
    "config = Config(buffer_size=4*steps_per_ep*threads_no, batch_size=32, gamma=0.7, tau=1e-3, lr_actor=lr_actor, lr_critic=lr_critic, update_every=1)\n",
    "agent = Agent(history_length, action_size=1, config=config, actor_layers=[8, 128, 16], critic_layers=[8,128,16])\n",
    "\n",
    "# Test the model\n",
    "hyperparams = {**config.__dict__, **sim_args}\n",
    "tags = [\"Rew: normalized speed\",\n",
    "        f\"{Agent.NAME}\",\n",
    "        sim_args['scenario'],\n",
    "        f\"Actor: {lr_actor}\",\n",
    "        f\"Critic: {lr_critic}\",\n",
    "        f\"Instances: {threads_no}\",\n",
    "        f\"Station count: {sim_args['nWifi']}\",\n",
    "        *[f\"{key}: {sim_args[key]}\" for key in list(sim_args)[:3]]]\n",
    "# agent.save()\n",
    "logger = teacher.train(agent, EPISODE_COUNT,\n",
    "                        simTime=simTime,\n",
    "                        stepTime=stepTime,\n",
    "                        history_length=history_length,\n",
    "                        send_logs=True,\n",
    "                        experimental=True,\n",
    "                        tags=tags,\n",
    "                        parameters=hyperparams)\n",
    "# logger = teacher.eval(agent,\n",
    "#                         simTime=simTime,\n",
    "#                         stepTime=stepTime,\n",
    "#                         history_length=history_length,\n",
    "#                         tags=tags,\n",
    "#                         parameters=hyperparams)\n",
    "# agent.save()"
   ]
  },
  {
   "cell_type": "code",
   "execution_count": null,
   "id": "e27ec497",
   "metadata": {},
   "outputs": [],
   "source": []
  },
  {
   "cell_type": "markdown",
   "id": "0ba218a5",
   "metadata": {},
   "source": [
    "# Execution num4:"
   ]
  },
  {
   "cell_type": "code",
   "execution_count": 4,
   "id": "a4b37270",
   "metadata": {},
   "outputs": [],
   "source": [
    "#%%\n",
    "from ns3gym import ns3env\n",
    "from comet_ml import Experiment, Optimizer\n",
    "import tqdm\n",
    "import subprocess\n",
    "from collections import deque\n",
    "import numpy as np\n",
    "\n",
    "from agents.ddpg.agent import Agent, Config\n",
    "from agents.ddpg.model import Actor\n",
    "from agents.teacher import Teacher, EnvWrapper\n",
    "from preprocessor import Preprocessor"
   ]
  },
  {
   "cell_type": "code",
   "execution_count": 5,
   "id": "5dbb14a8",
   "metadata": {},
   "outputs": [
    {
     "name": "stdout",
     "output_type": "stream",
     "text": [
      "Steps per episode: 6000\n",
      "Waiting for simulation script to connect on port: tcp://localhost:52124\n",
      "Please start proper ns-3 simulation script using ./waf --run \"...\"\n",
      "15.056396|0|15|-nan\n",
      "Observation space shape: (1, 300)\n",
      "Action space shape: (1, 1)\n"
     ]
    }
   ],
   "source": [
    "#%%\n",
    "scenario = \"basic\"\n",
    "\n",
    "simTime = 60 # seconds\n",
    "stepTime = 0.01  # seconds\n",
    "history_length = 300\n",
    "\n",
    "EPISODE_COUNT = 15\n",
    "steps_per_ep = int(simTime/stepTime)\n",
    "\n",
    "sim_args = {\n",
    "    \"simTime\": simTime,\n",
    "    \"envStepTime\": stepTime,\n",
    "    \"historyLength\": history_length,\n",
    "    \"agentType\": Agent.TYPE,\n",
    "    \"scenario\": \"basic\",\n",
    "    \"nWifi\": 15,\n",
    "}\n",
    "\n",
    "print(\"Steps per episode:\", steps_per_ep)\n",
    "\n",
    "threads_no = 1\n",
    "env = EnvWrapper(threads_no, **sim_args)\n",
    "\n",
    "#%%\n",
    "env.reset()\n",
    "ob_space = env.observation_space\n",
    "ac_space = env.action_space\n",
    "\n",
    "print(\"Observation space shape:\", ob_space)\n",
    "print(\"Action space shape:\", ac_space)\n",
    "\n",
    "assert ob_space is not None"
   ]
  },
  {
   "cell_type": "code",
   "execution_count": 6,
   "id": "3ddcc1ee",
   "metadata": {},
   "outputs": [
    {
     "name": "stdout",
     "output_type": "stream",
     "text": [
      "CuDNN version: 7102\n",
      "cpu\n"
     ]
    },
    {
     "name": "stderr",
     "output_type": "stream",
     "text": [
      "COMET INFO: Experiment is live on comet.ml https://www.comet.com/sheila-janota/rl-in-wifi-with-queue-level/2dca67e050114287af24b650a163e3a0\n",
      "\n"
     ]
    },
    {
     "name": "stdout",
     "output_type": "stream",
     "text": [
      "0\n",
      "15.056396|0|15|-nan\n"
     ]
    },
    {
     "name": "stderr",
     "output_type": "stream",
     "text": [
      "  5%|▌         | 334/6300 [01:32<24:19,  4.09it/s, curr_speed=31.34 Mbps, mb_sent=10.34 Mb]"
     ]
    },
    {
     "name": "stdout",
     "output_type": "stream",
     "text": [
      "------- STARTED TRAINING -------\n"
     ]
    },
    {
     "name": "stderr",
     "output_type": "stream",
     "text": [
      "100%|██████████| 6300/6300 [26:32<00:00,  3.96it/s, curr_speed=30.70 Mbps, mb_sent=1835.64 Mb]\n"
     ]
    },
    {
     "name": "stdout",
     "output_type": "stream",
     "text": [
      "Waiting for simulation script to connect on port: tcp://localhost:22091\n",
      "Please start proper ns-3 simulation script using ./waf --run \"...\"\n",
      "Sent 1835.64 Mb/s.\tMean speed: 30.59 Mb/s\tEpisode 1/15 finished\n",
      "\n",
      "1\n",
      "15.056396|0|15|-nan\n"
     ]
    },
    {
     "name": "stderr",
     "output_type": "stream",
     "text": [
      "100%|██████████| 6300/6300 [25:53<00:00,  4.06it/s, curr_speed=31.40 Mbps, mb_sent=1911.38 Mb]\n"
     ]
    },
    {
     "name": "stdout",
     "output_type": "stream",
     "text": [
      "Waiting for simulation script to connect on port: tcp://localhost:23061\n",
      "Please start proper ns-3 simulation script using ./waf --run \"...\"\n",
      "Sent 1911.38 Mb/s.\tMean speed: 31.86 Mb/s\tEpisode 2/15 finished\n",
      "\n",
      "2\n",
      "15.056396|0|15|-nan\n"
     ]
    },
    {
     "name": "stderr",
     "output_type": "stream",
     "text": [
      "100%|██████████| 6300/6300 [26:11<00:00,  4.01it/s, curr_speed=33.27 Mbps, mb_sent=1991.33 Mb]\n"
     ]
    },
    {
     "name": "stdout",
     "output_type": "stream",
     "text": [
      "Waiting for simulation script to connect on port: tcp://localhost:27175\n",
      "Please start proper ns-3 simulation script using ./waf --run \"...\"\n",
      "Sent 1991.33 Mb/s.\tMean speed: 33.19 Mb/s\tEpisode 3/15 finished\n",
      "\n",
      "3\n",
      "15.056396|0|15|-nan\n"
     ]
    },
    {
     "name": "stderr",
     "output_type": "stream",
     "text": [
      "100%|██████████| 6300/6300 [26:50<00:00,  3.91it/s, curr_speed=35.15 Mbps, mb_sent=2082.42 Mb]\n"
     ]
    },
    {
     "name": "stdout",
     "output_type": "stream",
     "text": [
      "Waiting for simulation script to connect on port: tcp://localhost:51595\n",
      "Please start proper ns-3 simulation script using ./waf --run \"...\"\n",
      "Sent 2082.42 Mb/s.\tMean speed: 34.71 Mb/s\tEpisode 4/15 finished\n",
      "\n",
      "4\n",
      "15.056396|0|15|-nan\n"
     ]
    },
    {
     "name": "stderr",
     "output_type": "stream",
     "text": [
      "  5%|▍         | 305/6300 [01:06<24:03,  4.15it/s, curr_speed=36.30 Mbps, mb_sent=1.45 Mb]"
     ]
    },
    {
     "name": "stdout",
     "output_type": "stream",
     "text": [
      "------- MEMORY BUFFER FILLED -------\n"
     ]
    },
    {
     "name": "stderr",
     "output_type": "stream",
     "text": [
      "100%|██████████| 6300/6300 [26:45<00:00,  3.92it/s, curr_speed=35.26 Mbps, mb_sent=2177.47 Mb]\n"
     ]
    },
    {
     "name": "stdout",
     "output_type": "stream",
     "text": [
      "Waiting for simulation script to connect on port: tcp://localhost:49428\n",
      "Please start proper ns-3 simulation script using ./waf --run \"...\"\n",
      "Sent 2177.47 Mb/s.\tMean speed: 36.29 Mb/s\tEpisode 5/15 finished\n",
      "\n",
      "5\n",
      "15.056396|0|15|-nan\n"
     ]
    },
    {
     "name": "stderr",
     "output_type": "stream",
     "text": [
      "100%|██████████| 6300/6300 [26:42<00:00,  3.93it/s, curr_speed=34.09 Mbps, mb_sent=2228.67 Mb]\n"
     ]
    },
    {
     "name": "stdout",
     "output_type": "stream",
     "text": [
      "Waiting for simulation script to connect on port: tcp://localhost:29998\n",
      "Please start proper ns-3 simulation script using ./waf --run \"...\"\n",
      "Sent 2228.67 Mb/s.\tMean speed: 37.14 Mb/s\tEpisode 6/15 finished\n",
      "\n",
      "6\n",
      "15.056396|0|15|-nan\n"
     ]
    },
    {
     "name": "stderr",
     "output_type": "stream",
     "text": [
      " 76%|███████▌  | 4761/6300 [20:11<06:30,  3.94it/s, curr_speed=37.85 Mbps, mb_sent=1681.36 Mb]COMET ERROR: File could not be uploaded\n",
      "100%|██████████| 6300/6300 [26:46<00:00,  3.92it/s, curr_speed=48.03 Mbps, mb_sent=2263.36 Mb]\n"
     ]
    },
    {
     "name": "stdout",
     "output_type": "stream",
     "text": [
      "Waiting for simulation script to connect on port: tcp://localhost:41215\n",
      "Please start proper ns-3 simulation script using ./waf --run \"...\"\n",
      "Sent 2263.36 Mb/s.\tMean speed: 37.72 Mb/s\tEpisode 7/15 finished\n",
      "\n",
      "7\n",
      "15.056396|0|15|-nan\n"
     ]
    },
    {
     "name": "stderr",
     "output_type": "stream",
     "text": [
      "100%|██████████| 6300/6300 [26:45<00:00,  3.92it/s, curr_speed=37.93 Mbps, mb_sent=2271.06 Mb]\n"
     ]
    },
    {
     "name": "stdout",
     "output_type": "stream",
     "text": [
      "Waiting for simulation script to connect on port: tcp://localhost:37368\n",
      "Please start proper ns-3 simulation script using ./waf --run \"...\"\n",
      "Sent 2271.06 Mb/s.\tMean speed: 37.85 Mb/s\tEpisode 8/15 finished\n",
      "\n",
      "8\n",
      "15.056396|0|15|-nan\n"
     ]
    },
    {
     "name": "stderr",
     "output_type": "stream",
     "text": [
      "100%|██████████| 6300/6300 [26:51<00:00,  3.91it/s, curr_speed=38.03 Mbps, mb_sent=2278.29 Mb]\n"
     ]
    },
    {
     "name": "stdout",
     "output_type": "stream",
     "text": [
      "Waiting for simulation script to connect on port: tcp://localhost:22849\n",
      "Please start proper ns-3 simulation script using ./waf --run \"...\"\n",
      "Sent 2278.29 Mb/s.\tMean speed: 37.97 Mb/s\tEpisode 9/15 finished\n",
      "\n",
      "9\n",
      "15.056396|0|15|-nan\n"
     ]
    },
    {
     "name": "stderr",
     "output_type": "stream",
     "text": [
      "100%|██████████| 6300/6300 [26:48<00:00,  3.92it/s, curr_speed=38.15 Mbps, mb_sent=2281.50 Mb]\n"
     ]
    },
    {
     "name": "stdout",
     "output_type": "stream",
     "text": [
      "Waiting for simulation script to connect on port: tcp://localhost:44349\n",
      "Please start proper ns-3 simulation script using ./waf --run \"...\"\n",
      "Sent 2281.50 Mb/s.\tMean speed: 38.03 Mb/s\tEpisode 10/15 finished\n",
      "\n",
      "10\n",
      "15.056396|0|15|-nan\n"
     ]
    },
    {
     "name": "stderr",
     "output_type": "stream",
     "text": [
      "100%|██████████| 6300/6300 [26:52<00:00,  3.91it/s, curr_speed=38.18 Mbps, mb_sent=2284.72 Mb]\n"
     ]
    },
    {
     "name": "stdout",
     "output_type": "stream",
     "text": [
      "Waiting for simulation script to connect on port: tcp://localhost:38743\n",
      "Please start proper ns-3 simulation script using ./waf --run \"...\"\n",
      "Sent 2284.72 Mb/s.\tMean speed: 38.08 Mb/s\tEpisode 11/15 finished\n",
      "\n",
      "11\n",
      "15.056396|0|15|-nan\n"
     ]
    },
    {
     "name": "stderr",
     "output_type": "stream",
     "text": [
      "100%|██████████| 6300/6300 [26:44<00:00,  3.93it/s, curr_speed=38.18 Mbps, mb_sent=2285.25 Mb]\n"
     ]
    },
    {
     "name": "stdout",
     "output_type": "stream",
     "text": [
      "Waiting for simulation script to connect on port: tcp://localhost:32992\n",
      "Please start proper ns-3 simulation script using ./waf --run \"...\"\n",
      "Sent 2285.25 Mb/s.\tMean speed: 38.09 Mb/s\tEpisode 12/15 finished\n",
      "\n",
      "12\n",
      "Turning off noise\n",
      "15.056396|0|15|-nan\n"
     ]
    },
    {
     "name": "stderr",
     "output_type": "stream",
     "text": [
      "100%|██████████| 6300/6300 [26:45<00:00,  3.92it/s, curr_speed=38.39 Mbps, mb_sent=2284.52 Mb]\n"
     ]
    },
    {
     "name": "stdout",
     "output_type": "stream",
     "text": [
      "Waiting for simulation script to connect on port: tcp://localhost:39788\n",
      "Please start proper ns-3 simulation script using ./waf --run \"...\"\n",
      "Sent 2284.52 Mb/s.\tMean speed: 38.08 Mb/s\tEpisode 13/15 finished\n",
      "\n",
      "13\n",
      "Turning off noise\n",
      "15.056396|0|15|-nan\n"
     ]
    },
    {
     "name": "stderr",
     "output_type": "stream",
     "text": [
      "100%|██████████| 6300/6300 [26:53<00:00,  3.90it/s, curr_speed=38.24 Mbps, mb_sent=2286.54 Mb]\n"
     ]
    },
    {
     "name": "stdout",
     "output_type": "stream",
     "text": [
      "Waiting for simulation script to connect on port: tcp://localhost:26253\n",
      "Please start proper ns-3 simulation script using ./waf --run \"...\"\n",
      "Sent 2286.54 Mb/s.\tMean speed: 38.11 Mb/s\tEpisode 14/15 finished\n",
      "\n",
      "14\n",
      "Turning off noise\n",
      "15.056396|0|15|-nan\n"
     ]
    },
    {
     "name": "stderr",
     "output_type": "stream",
     "text": [
      "100%|██████████| 6300/6300 [25:37<00:00,  4.10it/s, curr_speed=38.14 Mbps, mb_sent=2284.02 Mb]\n"
     ]
    },
    {
     "name": "stdout",
     "output_type": "stream",
     "text": [
      "Waiting for simulation script to connect on port: tcp://localhost:14163\n",
      "Please start proper ns-3 simulation script using ./waf --run \"...\"\n"
     ]
    },
    {
     "name": "stderr",
     "output_type": "stream",
     "text": [
      "COMET INFO: ----------------------------\n",
      "COMET INFO: Comet.ml Experiment Summary:\n",
      "COMET INFO:   Data:\n",
      "COMET INFO:     url: https://www.comet.com/sheila-janota/rl-in-wifi-with-queue-level/2dca67e050114287af24b650a163e3a0\n",
      "COMET INFO:   Metrics [count] (min, max):\n",
      "COMET INFO:     Chosen CW [89985]           : (16.0, 1024.0)\n",
      "COMET INFO:     Cumulative reward [15]      : (2427.922119140625, 3201.57666015625)\n",
      "COMET INFO:     Current throughput [89985]  : (17.8710994720459, 61.822811126708984)\n",
      "COMET INFO:     Fairness index [89985]      : (nan, nan)\n",
      "COMET INFO:     Megabytes sent [89985]      : (0.17871099710464478, 2286.539367944002)\n",
      "COMET INFO:     Observation 0 [89985]       : (0.9327666621406873, 0.9341666666666667)\n",
      "COMET INFO:     Observation 1 [89985]       : (0.01813891864918525, 0.0205077313482031)\n",
      "COMET INFO:     Per-ep reward [89985]       : (119.781005859375, 3201.57666015625)\n",
      "COMET INFO:     Round megabytes sent [89985]: (0.01116899959743023, 11.80609130859375)\n",
      "COMET INFO:     Round reward [89985]        : (0.014892578125, 0.819091796875)\n",
      "COMET INFO:     Speed [15]                  : (30.594010041685156, 38.108989465733366)\n",
      "COMET INFO:     Station count [89985]       : (15.0, 15.0)\n",
      "COMET INFO:     actor_loss [89985]          : (-1.6970674991607666, 0.0)\n",
      "COMET INFO:     critic_loss [89985]         : (0.0, 4.751956462860107)\n",
      "COMET INFO:     loss [33578]                : (-1.6961973905563354, 0.7188462615013123)\n",
      "COMET INFO:   Uploads:\n",
      "COMET INFO:     histogram3d: 89985\n",
      "COMET INFO: ----------------------------\n",
      "COMET INFO: Uploading stats to Comet before program termination (may take several seconds)\n"
     ]
    },
    {
     "name": "stdout",
     "output_type": "stream",
     "text": [
      "Sent 2284.02 Mb/s.\tMean speed: 38.07 Mb/s\tEpisode 15/15 finished\n",
      "\n",
      "Training finished.\n"
     ]
    }
   ],
   "source": [
    "#%%\n",
    "teacher = Teacher(env, 1, Preprocessor(False))\n",
    "\n",
    "lr_actor = 4e-4\n",
    "lr_critic = 4e-3\n",
    "\n",
    "config = Config(buffer_size=4*steps_per_ep*threads_no, batch_size=32, gamma=0.7, tau=1e-3, lr_actor=lr_actor, lr_critic=lr_critic, update_every=1)\n",
    "agent = Agent(history_length, action_size=1, config=config, actor_layers=[8, 128, 16], critic_layers=[8,128,16])\n",
    "\n",
    "# Test the model\n",
    "hyperparams = {**config.__dict__, **sim_args}\n",
    "tags = [\"Rew: normalized speed\",\n",
    "        f\"{Agent.NAME}\",\n",
    "        sim_args['scenario'],\n",
    "        f\"Actor: {lr_actor}\",\n",
    "        f\"Critic: {lr_critic}\",\n",
    "        f\"Instances: {threads_no}\",\n",
    "        f\"Station count: {sim_args['nWifi']}\",\n",
    "        *[f\"{key}: {sim_args[key]}\" for key in list(sim_args)[:3]]]\n",
    "# agent.save()\n",
    "logger = teacher.train(agent, EPISODE_COUNT,\n",
    "                        simTime=simTime,\n",
    "                        stepTime=stepTime,\n",
    "                        history_length=history_length,\n",
    "                        send_logs=True,\n",
    "                        experimental=True,\n",
    "                        tags=tags,\n",
    "                        parameters=hyperparams)\n",
    "# logger = teacher.eval(agent,\n",
    "#                         simTime=simTime,\n",
    "#                         stepTime=stepTime,\n",
    "#                         history_length=history_length,\n",
    "#                         tags=tags,\n",
    "#                         parameters=hyperparams)\n",
    "# agent.save()"
   ]
  },
  {
   "cell_type": "code",
   "execution_count": null,
   "id": "0a4c0c88",
   "metadata": {},
   "outputs": [],
   "source": []
  },
  {
   "cell_type": "markdown",
   "id": "f7d9dd56",
   "metadata": {},
   "source": [
    "# Execution num5:"
   ]
  },
  {
   "cell_type": "code",
   "execution_count": 7,
   "id": "42b8d726",
   "metadata": {},
   "outputs": [],
   "source": [
    "#%%\n",
    "from ns3gym import ns3env\n",
    "from comet_ml import Experiment, Optimizer\n",
    "import tqdm\n",
    "import subprocess\n",
    "from collections import deque\n",
    "import numpy as np\n",
    "\n",
    "from agents.ddpg.agent import Agent, Config\n",
    "from agents.ddpg.model import Actor\n",
    "from agents.teacher import Teacher, EnvWrapper\n",
    "from preprocessor import Preprocessor"
   ]
  },
  {
   "cell_type": "code",
   "execution_count": 8,
   "id": "ee0c6b3b",
   "metadata": {},
   "outputs": [
    {
     "name": "stdout",
     "output_type": "stream",
     "text": [
      "Steps per episode: 6000\n",
      "Waiting for simulation script to connect on port: tcp://localhost:39445\n",
      "Please start proper ns-3 simulation script using ./waf --run \"...\"\n",
      "15.056396|0|15|-nan\n",
      "Observation space shape: (1, 300)\n",
      "Action space shape: (1, 1)\n"
     ]
    }
   ],
   "source": [
    "#%%\n",
    "scenario = \"basic\"\n",
    "\n",
    "simTime = 60 # seconds\n",
    "stepTime = 0.01  # seconds\n",
    "history_length = 300\n",
    "\n",
    "EPISODE_COUNT = 15\n",
    "steps_per_ep = int(simTime/stepTime)\n",
    "\n",
    "sim_args = {\n",
    "    \"simTime\": simTime,\n",
    "    \"envStepTime\": stepTime,\n",
    "    \"historyLength\": history_length,\n",
    "    \"agentType\": Agent.TYPE,\n",
    "    \"scenario\": \"basic\",\n",
    "    \"nWifi\": 15,\n",
    "}\n",
    "\n",
    "print(\"Steps per episode:\", steps_per_ep)\n",
    "\n",
    "threads_no = 1\n",
    "env = EnvWrapper(threads_no, **sim_args)\n",
    "\n",
    "#%%\n",
    "env.reset()\n",
    "ob_space = env.observation_space\n",
    "ac_space = env.action_space\n",
    "\n",
    "print(\"Observation space shape:\", ob_space)\n",
    "print(\"Action space shape:\", ac_space)\n",
    "\n",
    "assert ob_space is not None"
   ]
  },
  {
   "cell_type": "code",
   "execution_count": 9,
   "id": "660b765e",
   "metadata": {},
   "outputs": [
    {
     "name": "stdout",
     "output_type": "stream",
     "text": [
      "CuDNN version: 7102\n",
      "cpu\n"
     ]
    },
    {
     "name": "stderr",
     "output_type": "stream",
     "text": [
      "COMET INFO: Experiment is live on comet.ml https://www.comet.com/sheila-janota/rl-in-wifi-with-queue-level/6975b30f4a714b599796e4056c6aa6e7\n",
      "\n"
     ]
    },
    {
     "name": "stdout",
     "output_type": "stream",
     "text": [
      "0\n",
      "15.056396|0|15|-nan\n"
     ]
    },
    {
     "name": "stderr",
     "output_type": "stream",
     "text": [
      "  5%|▌         | 333/6300 [01:19<25:35,  3.89it/s, curr_speed=32.04 Mbps, mb_sent=10.25 Mb]"
     ]
    },
    {
     "name": "stdout",
     "output_type": "stream",
     "text": [
      "------- STARTED TRAINING -------\n"
     ]
    },
    {
     "name": "stderr",
     "output_type": "stream",
     "text": [
      "100%|██████████| 6300/6300 [27:25<00:00,  3.83it/s, curr_speed=30.64 Mbps, mb_sent=1833.03 Mb]\n"
     ]
    },
    {
     "name": "stdout",
     "output_type": "stream",
     "text": [
      "Waiting for simulation script to connect on port: tcp://localhost:36580\n",
      "Please start proper ns-3 simulation script using ./waf --run \"...\"\n",
      "Sent 1833.03 Mb/s.\tMean speed: 30.55 Mb/s\tEpisode 1/15 finished\n",
      "\n",
      "1\n",
      "15.056396|0|15|-nan\n"
     ]
    },
    {
     "name": "stderr",
     "output_type": "stream",
     "text": [
      "100%|██████████| 6300/6300 [26:14<00:00,  4.00it/s, curr_speed=31.48 Mbps, mb_sent=1900.83 Mb]\n"
     ]
    },
    {
     "name": "stdout",
     "output_type": "stream",
     "text": [
      "Waiting for simulation script to connect on port: tcp://localhost:21816\n",
      "Please start proper ns-3 simulation script using ./waf --run \"...\"\n",
      "Sent 1900.83 Mb/s.\tMean speed: 31.68 Mb/s\tEpisode 2/15 finished\n",
      "\n",
      "2\n",
      "15.056396|0|15|-nan\n"
     ]
    },
    {
     "name": "stderr",
     "output_type": "stream",
     "text": [
      "100%|██████████| 6300/6300 [26:23<00:00,  3.98it/s, curr_speed=33.56 Mbps, mb_sent=1971.38 Mb]\n"
     ]
    },
    {
     "name": "stdout",
     "output_type": "stream",
     "text": [
      "Waiting for simulation script to connect on port: tcp://localhost:49396\n",
      "Please start proper ns-3 simulation script using ./waf --run \"...\"\n",
      "Sent 1971.38 Mb/s.\tMean speed: 32.86 Mb/s\tEpisode 3/15 finished\n",
      "\n",
      "3\n",
      "15.056396|0|15|-nan\n"
     ]
    },
    {
     "name": "stderr",
     "output_type": "stream",
     "text": [
      "100%|██████████| 6300/6300 [27:24<00:00,  3.83it/s, curr_speed=32.63 Mbps, mb_sent=2070.05 Mb]\n"
     ]
    },
    {
     "name": "stdout",
     "output_type": "stream",
     "text": [
      "Waiting for simulation script to connect on port: tcp://localhost:35856\n",
      "Please start proper ns-3 simulation script using ./waf --run \"...\"\n",
      "Sent 2070.05 Mb/s.\tMean speed: 34.50 Mb/s\tEpisode 4/15 finished\n",
      "\n",
      "4\n",
      "15.056396|0|15|-nan\n"
     ]
    },
    {
     "name": "stderr",
     "output_type": "stream",
     "text": [
      "  5%|▍         | 305/6300 [01:07<24:53,  4.01it/s, curr_speed=39.09 Mbps, mb_sent=1.56 Mb]"
     ]
    },
    {
     "name": "stdout",
     "output_type": "stream",
     "text": [
      "------- MEMORY BUFFER FILLED -------\n"
     ]
    },
    {
     "name": "stderr",
     "output_type": "stream",
     "text": [
      "100%|██████████| 6300/6300 [27:18<00:00,  3.84it/s, curr_speed=33.45 Mbps, mb_sent=2184.93 Mb]\n"
     ]
    },
    {
     "name": "stdout",
     "output_type": "stream",
     "text": [
      "Waiting for simulation script to connect on port: tcp://localhost:40943\n",
      "Please start proper ns-3 simulation script using ./waf --run \"...\"\n",
      "Sent 2184.93 Mb/s.\tMean speed: 36.42 Mb/s\tEpisode 5/15 finished\n",
      "\n",
      "5\n",
      "15.056396|0|15|-nan\n"
     ]
    },
    {
     "name": "stderr",
     "output_type": "stream",
     "text": [
      "100%|██████████| 6300/6300 [27:37<00:00,  3.80it/s, curr_speed=37.66 Mbps, mb_sent=2232.89 Mb]\n"
     ]
    },
    {
     "name": "stdout",
     "output_type": "stream",
     "text": [
      "Waiting for simulation script to connect on port: tcp://localhost:53627\n",
      "Please start proper ns-3 simulation script using ./waf --run \"...\"\n",
      "Sent 2232.89 Mb/s.\tMean speed: 37.21 Mb/s\tEpisode 6/15 finished\n",
      "\n",
      "6\n",
      "15.056396|0|15|-nan\n"
     ]
    },
    {
     "name": "stderr",
     "output_type": "stream",
     "text": [
      "100%|██████████| 6300/6300 [28:59<00:00,  3.62it/s, curr_speed=37.81 Mbps, mb_sent=2262.74 Mb]\n"
     ]
    },
    {
     "name": "stdout",
     "output_type": "stream",
     "text": [
      "Waiting for simulation script to connect on port: tcp://localhost:50013\n",
      "Please start proper ns-3 simulation script using ./waf --run \"...\"\n",
      "Sent 2262.74 Mb/s.\tMean speed: 37.71 Mb/s\tEpisode 7/15 finished\n",
      "\n",
      "7\n",
      "15.056396|0|15|-nan\n"
     ]
    },
    {
     "name": "stderr",
     "output_type": "stream",
     "text": [
      "100%|██████████| 6300/6300 [28:41<00:00,  3.66it/s, curr_speed=38.21 Mbps, mb_sent=2276.89 Mb]\n"
     ]
    },
    {
     "name": "stdout",
     "output_type": "stream",
     "text": [
      "Waiting for simulation script to connect on port: tcp://localhost:32407\n",
      "Please start proper ns-3 simulation script using ./waf --run \"...\"\n",
      "Sent 2276.89 Mb/s.\tMean speed: 37.95 Mb/s\tEpisode 8/15 finished\n",
      "\n",
      "8\n",
      "15.056396|0|15|-nan\n"
     ]
    },
    {
     "name": "stderr",
     "output_type": "stream",
     "text": [
      "100%|██████████| 6300/6300 [30:12<00:00,  3.48it/s, curr_speed=38.24 Mbps, mb_sent=2286.29 Mb]\n"
     ]
    },
    {
     "name": "stdout",
     "output_type": "stream",
     "text": [
      "Waiting for simulation script to connect on port: tcp://localhost:33192\n",
      "Please start proper ns-3 simulation script using ./waf --run \"...\"\n",
      "Sent 2286.29 Mb/s.\tMean speed: 38.10 Mb/s\tEpisode 9/15 finished\n",
      "\n",
      "9\n",
      "15.056396|0|15|-nan\n"
     ]
    },
    {
     "name": "stderr",
     "output_type": "stream",
     "text": [
      "100%|██████████| 6300/6300 [27:54<00:00,  3.76it/s, curr_speed=38.03 Mbps, mb_sent=2287.01 Mb]\n"
     ]
    },
    {
     "name": "stdout",
     "output_type": "stream",
     "text": [
      "Waiting for simulation script to connect on port: tcp://localhost:34876\n",
      "Please start proper ns-3 simulation script using ./waf --run \"...\"\n",
      "Sent 2287.01 Mb/s.\tMean speed: 38.12 Mb/s\tEpisode 10/15 finished\n",
      "\n",
      "10\n",
      "15.056396|0|15|-nan\n"
     ]
    },
    {
     "name": "stderr",
     "output_type": "stream",
     "text": [
      "100%|██████████| 6300/6300 [30:08<00:00,  3.48it/s, curr_speed=38.27 Mbps, mb_sent=2287.62 Mb]\n"
     ]
    },
    {
     "name": "stdout",
     "output_type": "stream",
     "text": [
      "Waiting for simulation script to connect on port: tcp://localhost:45370\n",
      "Please start proper ns-3 simulation script using ./waf --run \"...\"\n",
      "Sent 2287.62 Mb/s.\tMean speed: 38.13 Mb/s\tEpisode 11/15 finished\n",
      "\n",
      "11\n",
      "15.056396|0|15|-nan\n"
     ]
    },
    {
     "name": "stderr",
     "output_type": "stream",
     "text": [
      "100%|██████████| 6300/6300 [28:42<00:00,  3.66it/s, curr_speed=38.17 Mbps, mb_sent=2291.00 Mb]\n"
     ]
    },
    {
     "name": "stdout",
     "output_type": "stream",
     "text": [
      "Waiting for simulation script to connect on port: tcp://localhost:22418\n",
      "Please start proper ns-3 simulation script using ./waf --run \"...\"\n",
      "Sent 2291.00 Mb/s.\tMean speed: 38.18 Mb/s\tEpisode 12/15 finished\n",
      "\n",
      "12\n",
      "Turning off noise\n",
      "15.056396|0|15|-nan\n"
     ]
    },
    {
     "name": "stderr",
     "output_type": "stream",
     "text": [
      "100%|██████████| 6300/6300 [26:33<00:00,  3.95it/s, curr_speed=38.03 Mbps, mb_sent=2291.62 Mb]\n"
     ]
    },
    {
     "name": "stdout",
     "output_type": "stream",
     "text": [
      "Waiting for simulation script to connect on port: tcp://localhost:29085\n",
      "Please start proper ns-3 simulation script using ./waf --run \"...\"\n",
      "Sent 2291.62 Mb/s.\tMean speed: 38.19 Mb/s\tEpisode 13/15 finished\n",
      "\n",
      "13\n",
      "Turning off noise\n",
      "15.056396|0|15|-nan\n"
     ]
    },
    {
     "name": "stderr",
     "output_type": "stream",
     "text": [
      "100%|██████████| 6300/6300 [29:16<00:00,  3.59it/s, curr_speed=38.04 Mbps, mb_sent=2291.42 Mb]\n"
     ]
    },
    {
     "name": "stdout",
     "output_type": "stream",
     "text": [
      "Waiting for simulation script to connect on port: tcp://localhost:22724\n",
      "Please start proper ns-3 simulation script using ./waf --run \"...\"\n",
      "Sent 2291.42 Mb/s.\tMean speed: 38.19 Mb/s\tEpisode 14/15 finished\n",
      "\n",
      "14\n",
      "Turning off noise\n",
      "15.056396|0|15|-nan\n"
     ]
    },
    {
     "name": "stderr",
     "output_type": "stream",
     "text": [
      "100%|██████████| 6300/6300 [25:42<00:00,  4.08it/s, curr_speed=38.64 Mbps, mb_sent=2291.41 Mb]\n"
     ]
    },
    {
     "name": "stdout",
     "output_type": "stream",
     "text": [
      "Waiting for simulation script to connect on port: tcp://localhost:34660\n",
      "Please start proper ns-3 simulation script using ./waf --run \"...\"\n"
     ]
    },
    {
     "name": "stderr",
     "output_type": "stream",
     "text": [
      "COMET INFO: ----------------------------\n",
      "COMET INFO: Comet.ml Experiment Summary:\n",
      "COMET INFO:   Data:\n",
      "COMET INFO:     url: https://www.comet.com/sheila-janota/rl-in-wifi-with-queue-level/6975b30f4a714b599796e4056c6aa6e7\n",
      "COMET INFO:   Metrics [count] (min, max):\n",
      "COMET INFO:     Chosen CW [89985]           : (16.0, 1024.0)\n",
      "COMET INFO:     Cumulative reward [15]      : (2427.4306640625, 3207.7421875)\n",
      "COMET INFO:     Current throughput [89985]  : (18.06097412109375, 58.337947845458984)\n",
      "COMET INFO:     Fairness index [89985]      : (nan, nan)\n",
      "COMET INFO:     Megabytes sent [89985]      : (0.27923598885536194, 2291.621492564678)\n",
      "COMET INFO:     Observation 0 [89985]       : (0.9328104149301847, 0.9341666666666667)\n",
      "COMET INFO:     Observation 1 [89985]       : (0.01817436590049925, 0.020351965286179826)\n",
      "COMET INFO:     Per-ep reward [89985]       : (121.002197265625, 3207.7421875)\n",
      "COMET INFO:     Round megabytes sent [89985]: (0.05584700033068657, 11.82843017578125)\n",
      "COMET INFO:     Round reward [89985]        : (0.074462890625, 0.997802734375)\n",
      "COMET INFO:     Speed [15]                  : (30.55044918265194, 38.19369154274464)\n",
      "COMET INFO:     Station count [89985]       : (15.0, 15.0)\n",
      "COMET INFO:     actor_loss [89985]          : (-1.698551058769226, 0.0)\n",
      "COMET INFO:     critic_loss [89985]         : (0.0, 4.909458160400391)\n",
      "COMET INFO:     loss [33578]                : (-1.6985243558883667, 0.8965408205986023)\n",
      "COMET INFO:   Uploads:\n",
      "COMET INFO:     histogram3d: 89985\n",
      "COMET INFO: ----------------------------\n"
     ]
    },
    {
     "name": "stdout",
     "output_type": "stream",
     "text": [
      "Sent 2291.41 Mb/s.\tMean speed: 38.19 Mb/s\tEpisode 15/15 finished\n",
      "\n"
     ]
    },
    {
     "name": "stderr",
     "output_type": "stream",
     "text": [
      "COMET INFO: Uploading stats to Comet before program termination (may take several seconds)\n"
     ]
    },
    {
     "name": "stdout",
     "output_type": "stream",
     "text": [
      "Training finished.\n"
     ]
    }
   ],
   "source": [
    "#%%\n",
    "teacher = Teacher(env, 1, Preprocessor(False))\n",
    "\n",
    "lr_actor = 4e-4\n",
    "lr_critic = 4e-3\n",
    "\n",
    "config = Config(buffer_size=4*steps_per_ep*threads_no, batch_size=32, gamma=0.7, tau=1e-3, lr_actor=lr_actor, lr_critic=lr_critic, update_every=1)\n",
    "agent = Agent(history_length, action_size=1, config=config, actor_layers=[8, 128, 16], critic_layers=[8,128,16])\n",
    "\n",
    "# Test the model\n",
    "hyperparams = {**config.__dict__, **sim_args}\n",
    "tags = [\"Rew: normalized speed\",\n",
    "        f\"{Agent.NAME}\",\n",
    "        sim_args['scenario'],\n",
    "        f\"Actor: {lr_actor}\",\n",
    "        f\"Critic: {lr_critic}\",\n",
    "        f\"Instances: {threads_no}\",\n",
    "        f\"Station count: {sim_args['nWifi']}\",\n",
    "        *[f\"{key}: {sim_args[key]}\" for key in list(sim_args)[:3]]]\n",
    "# agent.save()\n",
    "logger = teacher.train(agent, EPISODE_COUNT,\n",
    "                        simTime=simTime,\n",
    "                        stepTime=stepTime,\n",
    "                        history_length=history_length,\n",
    "                        send_logs=True,\n",
    "                        experimental=True,\n",
    "                        tags=tags,\n",
    "                        parameters=hyperparams)\n",
    "# logger = teacher.eval(agent,\n",
    "#                         simTime=simTime,\n",
    "#                         stepTime=stepTime,\n",
    "#                         history_length=history_length,\n",
    "#                         tags=tags,\n",
    "#                         parameters=hyperparams)\n",
    "# agent.save()"
   ]
  },
  {
   "cell_type": "code",
   "execution_count": null,
   "id": "ec85b5a7",
   "metadata": {},
   "outputs": [],
   "source": []
  }
 ],
 "metadata": {
  "kernelspec": {
   "display_name": "Python 3 (ipykernel)",
   "language": "python",
   "name": "python3"
  },
  "language_info": {
   "codemirror_mode": {
    "name": "ipython",
    "version": 3
   },
   "file_extension": ".py",
   "mimetype": "text/x-python",
   "name": "python",
   "nbconvert_exporter": "python",
   "pygments_lexer": "ipython3",
   "version": "3.7.10"
  }
 },
 "nbformat": 4,
 "nbformat_minor": 5
}
