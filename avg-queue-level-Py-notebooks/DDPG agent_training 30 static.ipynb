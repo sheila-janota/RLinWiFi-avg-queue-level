{
 "cells": [
  {
   "cell_type": "markdown",
   "id": "d4f7b29e",
   "metadata": {},
   "source": [
    "# Execution num1:"
   ]
  },
  {
   "cell_type": "code",
   "execution_count": 1,
   "id": "fc011f81",
   "metadata": {},
   "outputs": [],
   "source": [
    "#%%\n",
    "from ns3gym import ns3env\n",
    "from comet_ml import Experiment, Optimizer\n",
    "import tqdm\n",
    "import subprocess\n",
    "from collections import deque\n",
    "import numpy as np\n",
    "\n",
    "from agents.ddpg.agent import Agent, Config\n",
    "from agents.ddpg.model import Actor\n",
    "from agents.teacher import Teacher, EnvWrapper\n",
    "from preprocessor import Preprocessor"
   ]
  },
  {
   "cell_type": "code",
   "execution_count": 2,
   "id": "bd2ad45a",
   "metadata": {},
   "outputs": [
    {
     "name": "stdout",
     "output_type": "stream",
     "text": [
      "Steps per episode: 6000\n",
      "Waiting for simulation script to connect on port: tcp://localhost:41344\n",
      "Please start proper ns-3 simulation script using ./waf --run \"...\"\n",
      "22.606934|0|30|-nan\n",
      "Observation space shape: (1, 300)\n",
      "Action space shape: (1, 1)\n"
     ]
    }
   ],
   "source": [
    "#%%\n",
    "scenario = \"basic\"\n",
    "\n",
    "simTime = 60 # seconds\n",
    "stepTime = 0.01  # seconds\n",
    "history_length = 300\n",
    "\n",
    "EPISODE_COUNT = 15\n",
    "steps_per_ep = int(simTime/stepTime)\n",
    "\n",
    "sim_args = {\n",
    "    \"simTime\": simTime,\n",
    "    \"envStepTime\": stepTime,\n",
    "    \"historyLength\": history_length,\n",
    "    \"agentType\": Agent.TYPE,\n",
    "    \"scenario\": \"basic\",\n",
    "    \"nWifi\": 30,\n",
    "}\n",
    "\n",
    "print(\"Steps per episode:\", steps_per_ep)\n",
    "\n",
    "threads_no = 1\n",
    "env = EnvWrapper(threads_no, **sim_args)\n",
    "\n",
    "#%%\n",
    "env.reset()\n",
    "ob_space = env.observation_space\n",
    "ac_space = env.action_space\n",
    "\n",
    "print(\"Observation space shape:\", ob_space)\n",
    "print(\"Action space shape:\", ac_space)\n",
    "\n",
    "assert ob_space is not None"
   ]
  },
  {
   "cell_type": "code",
   "execution_count": null,
   "id": "7c58f879",
   "metadata": {},
   "outputs": [],
   "source": [
    "#%%\n",
    "teacher = Teacher(env, 1, Preprocessor(False))\n",
    "\n",
    "lr_actor = 4e-4\n",
    "lr_critic = 4e-3\n",
    "\n",
    "config = Config(buffer_size=4*steps_per_ep*threads_no, batch_size=32, gamma=0.7, tau=1e-3, lr_actor=lr_actor, lr_critic=lr_critic, update_every=1)\n",
    "agent = Agent(history_length, action_size=1, config=config, actor_layers=[8, 128, 16], critic_layers=[8,128,16])\n",
    "\n",
    "# Test the model\n",
    "hyperparams = {**config.__dict__, **sim_args}\n",
    "tags = [\"Rew: normalized speed\",\n",
    "        f\"{Agent.NAME}\",\n",
    "        sim_args['scenario'],\n",
    "        f\"Actor: {lr_actor}\",\n",
    "        f\"Critic: {lr_critic}\",\n",
    "        f\"Instances: {threads_no}\",\n",
    "        f\"Station count: {sim_args['nWifi']}\",\n",
    "        *[f\"{key}: {sim_args[key]}\" for key in list(sim_args)[:3]]]\n",
    "# agent.save()\n",
    "logger = teacher.train(agent, EPISODE_COUNT,\n",
    "                        simTime=simTime,\n",
    "                        stepTime=stepTime,\n",
    "                        history_length=history_length,\n",
    "                        send_logs=True,\n",
    "                        experimental=True,\n",
    "                        tags=tags,\n",
    "                        parameters=hyperparams)\n",
    "# logger = teacher.eval(agent,\n",
    "#                         simTime=simTime,\n",
    "#                         stepTime=stepTime,\n",
    "#                         history_length=history_length,\n",
    "#                         tags=tags,\n",
    "#                         parameters=hyperparams)\n",
    "# agent.save()"
   ]
  },
  {
   "cell_type": "code",
   "execution_count": null,
   "id": "c40dc9c8",
   "metadata": {},
   "outputs": [],
   "source": [
    "14 \n",
    "Turning off noise \n",
    " \n",
    "\n",
    "100%|██████████| 6300/6300 [1:24:50<00:00,  1.24it/s, curr_speed=37.69 Mbps, mb_sent=2272.26 Mb] \n",
    " \n",
    "\n",
    "Waiting for simulation script to connect on port: tcp://localhost:49861 \n",
    "Please start proper ns-3 simulation script using ./waf --run \"...\" \n",
    "Waf: Entering directory `/home/samuel/ns-allinone-3.29/ns-3.29/build' \n",
    "Waf: Leaving directory `/home/samuel/ns-allinone-3.29/ns-3.29/build' \n",
    "Build commands will be stored in build/compile_commands.json \n",
    "'build' finished successfully (2.271s) \n",
    " \n",
    "\n",
    "Ns3Env parameters: \n",
    "--nWifi: 30 \n",
    "--simulationTime: 60 \n",
    "--openGymPort: 49861 \n",
    "--envStepTime: 0.01 \n",
    "--seed: 42 \n",
    "--agentType: continuous \n",
    "--scenario: basic \n",
    "--dryRun: 0 \n",
    "Simulation started \n",
    "Simulation process id: 2902355 (parent (waf shell) id: 2902339) \n",
    "Waiting for Python process to connect on port: tcp://localhost:49861 \n",
    "Please start proper Python Gym Agent \n",
    "COMET INFO: ---------------------------- \n",
    "COMET INFO: Comet.ml Experiment Summary: \n",
    "COMET INFO:   Data: \n",
    "COMET INFO:     url: https://www.comet.com/sheila-janota/rl-in-wifi-with-queue-level/caac8c270b5b486ab37a39c78b06f989 \n",
    "COMET INFO:   Metrics [count] (min, max): \n",
    "COMET INFO:     Chosen CW [89985]           : (16.0, 1024.0) \n",
    "COMET INFO:     Cumulative reward [15]      : (2468.578857421875, 3188.6201171875) \n",
    "COMET INFO:     Current throughput [89985]  : (22.595773696899414, 57.04230880737305) \n",
    "COMET INFO:     Fairness index [89985]      : (nan, nan) \n",
    "COMET INFO:     Megabytes sent [89985]      : (0.3462519943714142, 2278.017091423273) \n",
    "COMET INFO:     Observation 0 [89985]       : (0.9597456751267115, 0.9639736286799112) \n",
    "COMET INFO:     Observation 1 [89985]       : (0.020317577780114487, 0.02882270103732822) \n",
    "COMET INFO:     Per-ep reward [89985]       : (88.595947265625, 3188.6201171875) \n",
    "COMET INFO:     Round megabytes sent [89985]: (0.022338999435305595, 11.80609130859375) \n",
    "COMET INFO:     Round reward [89985]        : (0.02978515625, 0.92333984375) \n",
    "COMET INFO:     Speed [15]                  : (30.27735617912064, 37.96695152372122) \n",
    "COMET INFO:     Station count [89985]       : (30.0, 30.0) \n",
    "COMET INFO:     actor_loss [89985]          : (-1.6878622770309448, 0.0) \n",
    "COMET INFO:     critic_loss [89985]         : (0.0, 3.2080657482147217) \n",
    "COMET INFO:     loss [33578]                : (-1.6878043413162231, 0.760750412940979) \n",
    "COMET INFO:   Uploads: \n",
    "COMET INFO:     histogram3d: 89985 \n",
    "COMET INFO: ---------------------------- \n",
    "COMET INFO: Uploading stats to Comet before program termination (may take several seconds) \n",
    " \n",
    "\n",
    "Sent 2272.26 Mb/s.\tMean speed: 37.87 Mb/s\tEpisode 15/15 finished \n",
    " \n",
    "Training finished. \n"
   ]
  },
  {
   "cell_type": "markdown",
   "id": "dd735e27",
   "metadata": {},
   "source": [
    "# Execution num2:"
   ]
  },
  {
   "cell_type": "code",
   "execution_count": null,
   "id": "cecd2500",
   "metadata": {},
   "outputs": [],
   "source": [
    "#%%\n",
    "from ns3gym import ns3env\n",
    "from comet_ml import Experiment, Optimizer\n",
    "import tqdm\n",
    "import subprocess\n",
    "from collections import deque\n",
    "import numpy as np\n",
    "\n",
    "from agents.ddpg.agent import Agent, Config\n",
    "from agents.ddpg.model import Actor\n",
    "from agents.teacher import Teacher, EnvWrapper\n",
    "from preprocessor import Preprocessor"
   ]
  },
  {
   "cell_type": "code",
   "execution_count": null,
   "id": "9859af0f",
   "metadata": {},
   "outputs": [],
   "source": [
    "#%%\n",
    "scenario = \"basic\"\n",
    "\n",
    "simTime = 60 # seconds\n",
    "stepTime = 0.01  # seconds\n",
    "history_length = 300\n",
    "\n",
    "EPISODE_COUNT = 15\n",
    "steps_per_ep = int(simTime/stepTime)\n",
    "\n",
    "sim_args = {\n",
    "    \"simTime\": simTime,\n",
    "    \"envStepTime\": stepTime,\n",
    "    \"historyLength\": history_length,\n",
    "    \"agentType\": Agent.TYPE,\n",
    "    \"scenario\": \"basic\",\n",
    "    \"nWifi\": 30,\n",
    "}\n",
    "\n",
    "print(\"Steps per episode:\", steps_per_ep)\n",
    "\n",
    "threads_no = 1\n",
    "env = EnvWrapper(threads_no, **sim_args)\n",
    "\n",
    "#%%\n",
    "env.reset()\n",
    "ob_space = env.observation_space\n",
    "ac_space = env.action_space\n",
    "\n",
    "print(\"Observation space shape:\", ob_space)\n",
    "print(\"Action space shape:\", ac_space)\n",
    "\n",
    "assert ob_space is not None"
   ]
  },
  {
   "cell_type": "code",
   "execution_count": null,
   "id": "15e7c69b",
   "metadata": {},
   "outputs": [],
   "source": [
    "#%%\n",
    "teacher = Teacher(env, 1, Preprocessor(False))\n",
    "\n",
    "lr_actor = 4e-4\n",
    "lr_critic = 4e-3\n",
    "\n",
    "config = Config(buffer_size=4*steps_per_ep*threads_no, batch_size=32, gamma=0.7, tau=1e-3, lr_actor=lr_actor, lr_critic=lr_critic, update_every=1)\n",
    "agent = Agent(history_length, action_size=1, config=config, actor_layers=[8, 128, 16], critic_layers=[8,128,16])\n",
    "\n",
    "# Test the model\n",
    "hyperparams = {**config.__dict__, **sim_args}\n",
    "tags = [\"Rew: normalized speed\",\n",
    "        f\"{Agent.NAME}\",\n",
    "        sim_args['scenario'],\n",
    "        f\"Actor: {lr_actor}\",\n",
    "        f\"Critic: {lr_critic}\",\n",
    "        f\"Instances: {threads_no}\",\n",
    "        f\"Station count: {sim_args['nWifi']}\",\n",
    "        *[f\"{key}: {sim_args[key]}\" for key in list(sim_args)[:3]]]\n",
    "# agent.save()\n",
    "logger = teacher.train(agent, EPISODE_COUNT,\n",
    "                        simTime=simTime,\n",
    "                        stepTime=stepTime,\n",
    "                        history_length=history_length,\n",
    "                        send_logs=True,\n",
    "                        experimental=True,\n",
    "                        tags=tags,\n",
    "                        parameters=hyperparams)\n",
    "# logger = teacher.eval(agent,\n",
    "#                         simTime=simTime,\n",
    "#                         stepTime=stepTime,\n",
    "#                         history_length=history_length,\n",
    "#                         tags=tags,\n",
    "#                         parameters=hyperparams)\n",
    "# agent.save()"
   ]
  },
  {
   "cell_type": "code",
   "execution_count": null,
   "id": "05d09f16",
   "metadata": {},
   "outputs": [],
   "source": [
    "14 \n",
    "Turning off noise \n",
    " \n",
    "\n",
    "100%|██████████| 6300/6300 [1:20:15<00:00,  1.31it/s, curr_speed=37.81 Mbps, mb_sent=2275.65 Mb] \n",
    " \n",
    "\n",
    "Waiting for simulation script to connect on port: tcp://localhost:40529 \n",
    "Please start proper ns-3 simulation script using ./waf --run \"...\" \n",
    "Waf: Entering directory `/home/samuel/ns-allinone-3.29/ns-3.29/build' \n",
    "Waf: Leaving directory `/home/samuel/ns-allinone-3.29/ns-3.29/build' \n",
    "Build commands will be stored in build/compile_commands.json \n",
    "'build' finished successfully (2.362s) \n",
    " \n",
    "\n",
    "Ns3Env parameters: \n",
    "--nWifi: 30 \n",
    "--simulationTime: 60 \n",
    "--openGymPort: 40529 \n",
    "--envStepTime: 0.01 \n",
    "--seed: 42 \n",
    "--agentType: continuous \n",
    "--scenario: basic \n",
    "--dryRun: 0 \n",
    "Simulation started \n",
    "Simulation process id: 4140391 (parent (waf shell) id: 4140368) \n",
    "Waiting for Python process to connect on port: tcp://localhost:40529 \n",
    "Please start proper Python Gym Agent \n",
    "COMET INFO: ---------------------------- \n",
    "COMET INFO: Comet.ml Experiment Summary: \n",
    "COMET INFO:   Data: \n",
    "COMET INFO:     url: https://www.comet.com/sheila-janota/rl-in-wifi-with-queue-level/0b7e4b9d8e864c07bf9041db41a785a1 \n",
    "COMET INFO:   Metrics [count] (min, max): \n",
    "COMET INFO:     Chosen CW [89985]           : (16.0, 1024.0) \n",
    "COMET INFO:     Cumulative reward [15]      : (2516.87548828125, 3185.388427734375) \n",
    "COMET INFO:     Current throughput [89985]  : (19.568843841552734, 59.052799224853516) \n",
    "COMET INFO:     Fairness index [89985]      : (nan, nan) \n",
    "COMET INFO:     Megabytes sent [89985]      : (0.2122189998626709, 2276.3416791558266) \n",
    "COMET INFO:     Observation 0 [89985]       : (0.9598429865638416, 0.9639628760019938) \n",
    "COMET INFO:     Observation 1 [89985]       : (0.02034162176819125, 0.02736191433443206) \n",
    "COMET INFO:     Per-ep reward [89985]       : (100.271728515625, 3185.388427734375) \n",
    "COMET INFO:     Round megabytes sent [89985]: (0.0, 11.82843017578125) \n",
    "COMET INFO:     Round reward [89985]        : (0.0, 0.953125) \n",
    "COMET INFO:     Speed [15]                  : (30.780911309209962, 37.939027985930444) \n",
    "COMET INFO:     Station count [89985]       : (30.0, 30.0) \n",
    "COMET INFO:     actor_loss [89985]          : (-1.688400387763977, 0.0) \n",
    "COMET INFO:     critic_loss [89985]         : (0.0, 3.1592609882354736) \n",
    "COMET INFO:     loss [33578]                : (-1.6870877742767334, 0.7789546847343445) \n",
    "COMET INFO:   Uploads: \n",
    "COMET INFO:     histogram3d: 89985 \n",
    "COMET INFO: ---------------------------- \n",
    "COMET INFO: Uploading stats to Comet before program termination (may take several seconds) \n",
    " \n",
    "\n",
    "Sent 2275.65 Mb/s.\tMean speed: 37.93 Mb/s\tEpisode 15/15 finished \n",
    " \n",
    "Training finished. \n"
   ]
  },
  {
   "cell_type": "markdown",
   "id": "7421b75b",
   "metadata": {},
   "source": [
    "# Execution num3:"
   ]
  },
  {
   "cell_type": "code",
   "execution_count": 1,
   "id": "9ab0391a",
   "metadata": {},
   "outputs": [],
   "source": [
    "# começou a executar as 19:00 dia 22/02\n",
    "#%%\n",
    "from ns3gym import ns3env\n",
    "from comet_ml import Experiment, Optimizer\n",
    "import tqdm\n",
    "import subprocess\n",
    "from collections import deque\n",
    "import numpy as np\n",
    "\n",
    "from agents.ddpg.agent import Agent, Config\n",
    "from agents.ddpg.model import Actor\n",
    "from agents.teacher import Teacher, EnvWrapper\n",
    "from preprocessor import Preprocessor"
   ]
  },
  {
   "cell_type": "code",
   "execution_count": 2,
   "id": "4800669b",
   "metadata": {},
   "outputs": [
    {
     "name": "stdout",
     "output_type": "stream",
     "text": [
      "Steps per episode: 6000\n",
      "Waiting for simulation script to connect on port: tcp://localhost:48960\n",
      "Please start proper ns-3 simulation script using ./waf --run \"...\"\n",
      "22.606934|0|30|-nan\n",
      "Observation space shape: (1, 300)\n",
      "Action space shape: (1, 1)\n"
     ]
    }
   ],
   "source": [
    "#%%\n",
    "scenario = \"basic\"\n",
    "\n",
    "simTime = 60 # seconds\n",
    "stepTime = 0.01  # seconds\n",
    "history_length = 300\n",
    "\n",
    "EPISODE_COUNT = 15\n",
    "steps_per_ep = int(simTime/stepTime)\n",
    "\n",
    "sim_args = {\n",
    "    \"simTime\": simTime,\n",
    "    \"envStepTime\": stepTime,\n",
    "    \"historyLength\": history_length,\n",
    "    \"agentType\": Agent.TYPE,\n",
    "    \"scenario\": \"basic\",\n",
    "    \"nWifi\": 30,\n",
    "}\n",
    "\n",
    "print(\"Steps per episode:\", steps_per_ep)\n",
    "\n",
    "threads_no = 1\n",
    "env = EnvWrapper(threads_no, **sim_args)\n",
    "\n",
    "#%%\n",
    "env.reset()\n",
    "ob_space = env.observation_space\n",
    "ac_space = env.action_space\n",
    "\n",
    "print(\"Observation space shape:\", ob_space)\n",
    "print(\"Action space shape:\", ac_space)\n",
    "\n",
    "assert ob_space is not None"
   ]
  },
  {
   "cell_type": "code",
   "execution_count": 3,
   "id": "94d83dfc",
   "metadata": {
    "scrolled": true
   },
   "outputs": [
    {
     "name": "stdout",
     "output_type": "stream",
     "text": [
      "CuDNN version: 7102\n",
      "cpu\n"
     ]
    },
    {
     "name": "stderr",
     "output_type": "stream",
     "text": [
      "COMET INFO: Experiment is live on comet.ml https://www.comet.com/sheila-janota/rl-in-wifi-with-queue-level/d2f40f5bab414c9d859f13a0e329223d\n",
      "\n"
     ]
    },
    {
     "name": "stdout",
     "output_type": "stream",
     "text": [
      "0\n",
      "22.606934|0|30|-nan\n"
     ]
    },
    {
     "name": "stderr",
     "output_type": "stream",
     "text": [
      "  5%|▌         | 334/6300 [02:38<1:11:46,  1.39it/s, curr_speed=19.97 Mbps, mb_sent=6.59 Mb]"
     ]
    },
    {
     "name": "stdout",
     "output_type": "stream",
     "text": [
      "------- STARTED TRAINING -------\n"
     ]
    },
    {
     "name": "stderr",
     "output_type": "stream",
     "text": [
      "100%|██████████| 6300/6300 [49:10<00:00,  2.13it/s, curr_speed=32.13 Mbps, mb_sent=1851.37 Mb] \n"
     ]
    },
    {
     "name": "stdout",
     "output_type": "stream",
     "text": [
      "Waiting for simulation script to connect on port: tcp://localhost:29932\n",
      "Please start proper ns-3 simulation script using ./waf --run \"...\"\n",
      "Sent 1851.37 Mb/s.\tMean speed: 30.86 Mb/s\tEpisode 1/15 finished\n",
      "\n",
      "1\n",
      "22.606934|0|30|-nan\n"
     ]
    },
    {
     "name": "stderr",
     "output_type": "stream",
     "text": [
      "100%|██████████| 6300/6300 [47:31<00:00,  2.21it/s, curr_speed=33.02 Mbps, mb_sent=1929.02 Mb] \n"
     ]
    },
    {
     "name": "stdout",
     "output_type": "stream",
     "text": [
      "Waiting for simulation script to connect on port: tcp://localhost:49766\n",
      "Please start proper ns-3 simulation script using ./waf --run \"...\"\n",
      "Sent 1929.02 Mb/s.\tMean speed: 32.15 Mb/s\tEpisode 2/15 finished\n",
      "\n",
      "2\n",
      "22.606934|0|30|-nan\n"
     ]
    },
    {
     "name": "stderr",
     "output_type": "stream",
     "text": [
      "100%|██████████| 6300/6300 [47:23<00:00,  2.22it/s, curr_speed=33.91 Mbps, mb_sent=1879.34 Mb] \n"
     ]
    },
    {
     "name": "stdout",
     "output_type": "stream",
     "text": [
      "Waiting for simulation script to connect on port: tcp://localhost:34600\n",
      "Please start proper ns-3 simulation script using ./waf --run \"...\"\n",
      "Sent 1879.34 Mb/s.\tMean speed: 31.32 Mb/s\tEpisode 3/15 finished\n",
      "\n",
      "3\n",
      "22.606934|0|30|-nan\n"
     ]
    },
    {
     "name": "stderr",
     "output_type": "stream",
     "text": [
      "100%|██████████| 6300/6300 [45:41<00:00,  2.30it/s, curr_speed=33.70 Mbps, mb_sent=2090.10 Mb]\n"
     ]
    },
    {
     "name": "stdout",
     "output_type": "stream",
     "text": [
      "Waiting for simulation script to connect on port: tcp://localhost:20290\n",
      "Please start proper ns-3 simulation script using ./waf --run \"...\"\n",
      "Sent 2090.10 Mb/s.\tMean speed: 34.84 Mb/s\tEpisode 4/15 finished\n",
      "\n",
      "4\n",
      "22.606934|0|30|-nan\n"
     ]
    },
    {
     "name": "stderr",
     "output_type": "stream",
     "text": [
      "  5%|▍         | 305/6300 [02:03<42:57,  2.33it/s, curr_speed=38.26 Mbps, mb_sent=1.53 Mb] "
     ]
    },
    {
     "name": "stdout",
     "output_type": "stream",
     "text": [
      "------- MEMORY BUFFER FILLED -------\n"
     ]
    },
    {
     "name": "stderr",
     "output_type": "stream",
     "text": [
      "100%|██████████| 6300/6300 [48:38<00:00,  2.16it/s, curr_speed=36.28 Mbps, mb_sent=2177.41 Mb] \n"
     ]
    },
    {
     "name": "stdout",
     "output_type": "stream",
     "text": [
      "Waiting for simulation script to connect on port: tcp://localhost:21180\n",
      "Please start proper ns-3 simulation script using ./waf --run \"...\"\n",
      "Sent 2177.41 Mb/s.\tMean speed: 36.29 Mb/s\tEpisode 5/15 finished\n",
      "\n",
      "5\n",
      "22.606934|0|30|-nan\n"
     ]
    },
    {
     "name": "stderr",
     "output_type": "stream",
     "text": [
      " 83%|████████▎ | 5214/6300 [39:14<08:35,  2.11it/s, curr_speed=36.89 Mbps, mb_sent=1823.23 Mb] COMET ERROR: File could not be uploaded\n",
      " 83%|████████▎ | 5215/6300 [39:15<08:42,  2.08it/s, curr_speed=36.88 Mbps, mb_sent=1823.59 Mb]COMET ERROR: File could not be uploaded\n",
      " 83%|████████▎ | 5216/6300 [39:15<08:15,  2.19it/s, curr_speed=36.78 Mbps, mb_sent=1823.89 Mb]COMET ERROR: File could not be uploaded\n",
      " 83%|████████▎ | 5217/6300 [39:16<08:03,  2.24it/s, curr_speed=36.86 Mbps, mb_sent=1824.29 Mb]COMET ERROR: File could not be uploaded\n",
      " 83%|████████▎ | 5218/6300 [39:16<08:05,  2.23it/s, curr_speed=36.88 Mbps, mb_sent=1824.68 Mb]COMET ERROR: File could not be uploaded\n",
      "100%|██████████| 6300/6300 [47:33<00:00,  2.21it/s, curr_speed=36.70 Mbps, mb_sent=2225.51 Mb]\n"
     ]
    },
    {
     "name": "stdout",
     "output_type": "stream",
     "text": [
      "Waiting for simulation script to connect on port: tcp://localhost:45444\n",
      "Please start proper ns-3 simulation script using ./waf --run \"...\"\n",
      "Sent 2225.51 Mb/s.\tMean speed: 37.09 Mb/s\tEpisode 6/15 finished\n",
      "\n",
      "6\n",
      "22.606934|0|30|-nan\n"
     ]
    },
    {
     "name": "stderr",
     "output_type": "stream",
     "text": [
      " 11%|█         | 693/6300 [05:11<38:50,  2.41it/s, curr_speed=37.36 Mbps, mb_sent=147.72 Mb] COMET ERROR: File could not be uploaded\n",
      " 12%|█▏        | 733/6300 [05:29<45:51,  2.02it/s, curr_speed=37.43 Mbps, mb_sent=162.56 Mb]COMET ERROR: File could not be uploaded\n",
      " 12%|█▏        | 739/6300 [05:32<44:19,  2.09it/s, curr_speed=37.46 Mbps, mb_sent=164.89 Mb]COMET ERROR: File could not be uploaded\n",
      " 13%|█▎        | 848/6300 [06:26<40:17,  2.26it/s, curr_speed=37.09 Mbps, mb_sent=205.51 Mb]  COMET ERROR: File could not be uploaded\n",
      "100%|██████████| 6300/6300 [45:49<00:00,  2.29it/s, curr_speed=37.51 Mbps, mb_sent=2248.57 Mb] \n"
     ]
    },
    {
     "name": "stdout",
     "output_type": "stream",
     "text": [
      "Waiting for simulation script to connect on port: tcp://localhost:35614\n",
      "Please start proper ns-3 simulation script using ./waf --run \"...\"\n",
      "Sent 2248.57 Mb/s.\tMean speed: 37.48 Mb/s\tEpisode 7/15 finished\n",
      "\n",
      "7\n",
      "22.606934|0|30|-nan\n"
     ]
    },
    {
     "name": "stderr",
     "output_type": "stream",
     "text": [
      "100%|██████████| 6300/6300 [43:59<00:00,  2.39it/s, curr_speed=37.71 Mbps, mb_sent=2261.41 Mb]\n"
     ]
    },
    {
     "name": "stdout",
     "output_type": "stream",
     "text": [
      "Waiting for simulation script to connect on port: tcp://localhost:22960\n",
      "Please start proper ns-3 simulation script using ./waf --run \"...\"\n",
      "Sent 2261.41 Mb/s.\tMean speed: 37.69 Mb/s\tEpisode 8/15 finished\n",
      "\n",
      "8\n",
      "22.606934|0|30|-nan\n"
     ]
    },
    {
     "name": "stderr",
     "output_type": "stream",
     "text": [
      "100%|██████████| 6300/6300 [43:17<00:00,  2.43it/s, curr_speed=37.80 Mbps, mb_sent=2266.03 Mb]\n"
     ]
    },
    {
     "name": "stdout",
     "output_type": "stream",
     "text": [
      "Waiting for simulation script to connect on port: tcp://localhost:35343\n",
      "Please start proper ns-3 simulation script using ./waf --run \"...\"\n",
      "Sent 2266.03 Mb/s.\tMean speed: 37.77 Mb/s\tEpisode 9/15 finished\n",
      "\n",
      "9\n",
      "22.606934|0|30|-nan\n"
     ]
    },
    {
     "name": "stderr",
     "output_type": "stream",
     "text": [
      "100%|██████████| 6300/6300 [43:51<00:00,  2.39it/s, curr_speed=37.89 Mbps, mb_sent=2264.10 Mb]\n"
     ]
    },
    {
     "name": "stdout",
     "output_type": "stream",
     "text": [
      "Waiting for simulation script to connect on port: tcp://localhost:47343\n",
      "Please start proper ns-3 simulation script using ./waf --run \"...\"\n",
      "Sent 2264.10 Mb/s.\tMean speed: 37.74 Mb/s\tEpisode 10/15 finished\n",
      "\n",
      "10\n",
      "22.606934|0|30|-nan\n"
     ]
    },
    {
     "name": "stderr",
     "output_type": "stream",
     "text": [
      "100%|██████████| 6300/6300 [43:39<00:00,  2.40it/s, curr_speed=38.05 Mbps, mb_sent=2269.86 Mb]\n"
     ]
    },
    {
     "name": "stdout",
     "output_type": "stream",
     "text": [
      "Waiting for simulation script to connect on port: tcp://localhost:25427\n",
      "Please start proper ns-3 simulation script using ./waf --run \"...\"\n",
      "Sent 2269.86 Mb/s.\tMean speed: 37.83 Mb/s\tEpisode 11/15 finished\n",
      "\n",
      "11\n",
      "22.606934|0|30|-nan\n"
     ]
    },
    {
     "name": "stderr",
     "output_type": "stream",
     "text": [
      "100%|██████████| 6300/6300 [44:05<00:00,  2.38it/s, curr_speed=37.85 Mbps, mb_sent=2273.94 Mb]\n"
     ]
    },
    {
     "name": "stdout",
     "output_type": "stream",
     "text": [
      "Waiting for simulation script to connect on port: tcp://localhost:52566\n",
      "Please start proper ns-3 simulation script using ./waf --run \"...\"\n",
      "Sent 2273.94 Mb/s.\tMean speed: 37.90 Mb/s\tEpisode 12/15 finished\n",
      "\n",
      "12\n",
      "Turning off noise\n",
      "22.606934|0|30|-nan\n"
     ]
    },
    {
     "name": "stderr",
     "output_type": "stream",
     "text": [
      "100%|██████████| 6300/6300 [43:46<00:00,  2.40it/s, curr_speed=37.65 Mbps, mb_sent=2271.34 Mb]\n"
     ]
    },
    {
     "name": "stdout",
     "output_type": "stream",
     "text": [
      "Waiting for simulation script to connect on port: tcp://localhost:47669\n",
      "Please start proper ns-3 simulation script using ./waf --run \"...\"\n",
      "Sent 2271.34 Mb/s.\tMean speed: 37.86 Mb/s\tEpisode 13/15 finished\n",
      "\n",
      "13\n",
      "Turning off noise\n",
      "22.606934|0|30|-nan\n"
     ]
    },
    {
     "name": "stderr",
     "output_type": "stream",
     "text": [
      "100%|██████████| 6300/6300 [43:46<00:00,  2.40it/s, curr_speed=37.54 Mbps, mb_sent=2272.20 Mb]\n"
     ]
    },
    {
     "name": "stdout",
     "output_type": "stream",
     "text": [
      "Waiting for simulation script to connect on port: tcp://localhost:29489\n",
      "Please start proper ns-3 simulation script using ./waf --run \"...\"\n",
      "Sent 2272.20 Mb/s.\tMean speed: 37.87 Mb/s\tEpisode 14/15 finished\n",
      "\n",
      "14\n",
      "Turning off noise\n",
      "22.606934|0|30|-nan\n"
     ]
    },
    {
     "name": "stderr",
     "output_type": "stream",
     "text": [
      "100%|██████████| 6300/6300 [42:24<00:00,  2.48it/s, curr_speed=37.69 Mbps, mb_sent=2274.73 Mb]\n"
     ]
    },
    {
     "name": "stdout",
     "output_type": "stream",
     "text": [
      "Waiting for simulation script to connect on port: tcp://localhost:15907\n",
      "Please start proper ns-3 simulation script using ./waf --run \"...\"\n"
     ]
    },
    {
     "name": "stderr",
     "output_type": "stream",
     "text": [
      "COMET INFO: ----------------------------\n",
      "COMET INFO: Comet.ml Experiment Summary:\n",
      "COMET INFO:   Data:\n",
      "COMET INFO:     url: https://www.comet.com/sheila-janota/rl-in-wifi-with-queue-level/d2f40f5bab414c9d859f13a0e329223d\n",
      "COMET INFO:   Metrics [count] (min, max):\n",
      "COMET INFO:     Chosen CW [89985]           : (16.0, 1024.0)\n",
      "COMET INFO:     Cumulative reward [15]      : (2463.991943359375, 3177.98681640625)\n",
      "COMET INFO:     Current throughput [89985]  : (10.8902006149292, 65.14014434814453)\n",
      "COMET INFO:     Fairness index [89985]      : (0.857105016708374, 0.9993039965629578)\n",
      "COMET INFO:     Megabytes sent [89985]      : (0.2122189998626709, 2274.7332675158978)\n",
      "COMET INFO:     Observation 0 [89985]       : (0.7759817057847977, 0.9651854574680329)\n",
      "COMET INFO:     Observation 1 [89985]       : (0.0011903130480619467, 0.16973232166819993)\n",
      "COMET INFO:     Per-ep reward [89985]       : (84.32177734375, 3177.98681640625)\n",
      "COMET INFO:     Round megabytes sent [89985]: (0.0, 11.80609130859375)\n",
      "COMET INFO:     Round reward [89985]        : (0.0, 0.938232421875)\n",
      "COMET INFO:     Speed [15]                  : (30.856119204126298, 37.91222112526496)\n",
      "COMET INFO:     Station count [89985]       : (30.0, 30.0)\n",
      "COMET INFO:     actor_loss [89985]          : (-1.6839723587036133, 0.0)\n",
      "COMET INFO:     critic_loss [89985]         : (0.0, 2.202777862548828)\n",
      "COMET INFO:     loss [33578]                : (-1.6839534044265747, 0.949354350566864)\n",
      "COMET INFO:   Uploads:\n",
      "COMET INFO:     histogram3d: 89985\n",
      "COMET INFO: ----------------------------\n",
      "COMET INFO: Uploading stats to Comet before program termination (may take several seconds)\n"
     ]
    },
    {
     "name": "stdout",
     "output_type": "stream",
     "text": [
      "Sent 2274.73 Mb/s.\tMean speed: 37.91 Mb/s\tEpisode 15/15 finished\n",
      "\n"
     ]
    },
    {
     "name": "stderr",
     "output_type": "stream",
     "text": [
      "COMET INFO: Waiting for completion of the file uploads (may take several seconds)\n",
      "COMET INFO: Still uploading\n",
      "COMET INFO: Still uploading\n",
      "COMET INFO: Still uploading\n",
      "COMET INFO: Still uploading\n",
      "COMET INFO: Still uploading\n",
      "COMET INFO: Still uploading\n",
      "COMET INFO: Still uploading\n",
      "COMET INFO: Still uploading\n",
      "COMET INFO: Still uploading\n",
      "COMET INFO: Still uploading\n",
      "COMET INFO: Still uploading\n",
      "COMET INFO: Still uploading\n",
      "COMET INFO: Still uploading\n",
      "COMET INFO: Still uploading\n",
      "COMET INFO: Still uploading\n",
      "COMET INFO: Still uploading\n",
      "COMET INFO: Still uploading\n",
      "COMET INFO: Still uploading\n",
      "COMET INFO: Still uploading\n",
      "COMET INFO: Still uploading\n",
      "COMET INFO: Still uploading\n",
      "COMET INFO: Still uploading\n",
      "COMET INFO: Still uploading\n",
      "COMET INFO: Still uploading\n",
      "COMET INFO: Still uploading\n",
      "COMET INFO: Still uploading\n",
      "COMET INFO: Still uploading\n",
      "COMET INFO: Still uploading\n",
      "COMET INFO: Still uploading\n",
      "COMET INFO: Still uploading\n",
      "COMET INFO: Still uploading\n",
      "COMET INFO: Still uploading\n",
      "COMET INFO: Still uploading\n",
      "COMET INFO: Still uploading\n",
      "COMET INFO: Still uploading\n",
      "COMET INFO: Still uploading\n",
      "COMET INFO: Still uploading\n",
      "COMET INFO: Still uploading\n",
      "COMET INFO: Still uploading\n",
      "COMET INFO: Still uploading\n",
      "COMET INFO: Still uploading\n",
      "COMET INFO: Still uploading\n",
      "COMET INFO: Still uploading\n",
      "COMET INFO: Still uploading\n",
      "COMET INFO: Still uploading\n",
      "COMET INFO: Still uploading\n",
      "COMET INFO: Still uploading\n",
      "COMET INFO: Still uploading\n",
      "COMET INFO: Still uploading\n",
      "COMET INFO: Still uploading\n",
      "COMET INFO: Still uploading\n",
      "COMET INFO: Still uploading\n",
      "COMET INFO: Still uploading\n",
      "COMET INFO: Still uploading\n",
      "COMET INFO: Still uploading\n",
      "COMET INFO: Still uploading\n",
      "COMET INFO: Still uploading\n",
      "COMET INFO: Still uploading\n",
      "COMET INFO: Still uploading\n",
      "COMET INFO: Still uploading\n",
      "COMET INFO: Still uploading\n",
      "COMET INFO: Still uploading\n",
      "COMET INFO: Still uploading\n",
      "COMET INFO: Still uploading\n",
      "COMET INFO: Still uploading\n",
      "COMET INFO: Still uploading\n",
      "COMET INFO: Still uploading\n",
      "COMET INFO: Still uploading\n",
      "COMET INFO: Still uploading\n",
      "COMET INFO: Still uploading\n",
      "COMET INFO: Still uploading\n",
      "COMET INFO: Still uploading\n",
      "COMET INFO: Still uploading\n",
      "COMET INFO: Still uploading\n",
      "COMET INFO: Still uploading\n",
      "COMET INFO: Still uploading\n",
      "COMET INFO: Still uploading\n",
      "COMET INFO: Still uploading\n",
      "COMET INFO: Still uploading\n",
      "COMET INFO: Still uploading\n",
      "COMET INFO: Still uploading\n",
      "COMET INFO: Still uploading\n",
      "COMET INFO: Still uploading\n",
      "COMET INFO: Still uploading\n",
      "COMET INFO: Still uploading\n",
      "COMET INFO: Still uploading\n",
      "COMET INFO: Still uploading\n",
      "COMET INFO: Still uploading\n",
      "COMET INFO: Still uploading\n",
      "COMET INFO: Still uploading\n",
      "COMET INFO: Still uploading\n",
      "COMET INFO: Still uploading\n",
      "COMET INFO: Still uploading\n",
      "COMET INFO: Still uploading\n",
      "COMET INFO: Still uploading\n",
      "COMET INFO: Still uploading\n",
      "COMET INFO: Still uploading\n",
      "COMET INFO: Still uploading\n",
      "COMET INFO: Still uploading\n",
      "COMET INFO: Still uploading\n",
      "COMET INFO: Still uploading\n",
      "COMET INFO: Still uploading\n",
      "COMET INFO: Still uploading\n",
      "COMET INFO: Still uploading\n",
      "COMET INFO: Still uploading\n",
      "COMET INFO: Still uploading\n",
      "COMET INFO: Still uploading\n",
      "COMET INFO: Still uploading\n",
      "COMET INFO: Still uploading\n",
      "COMET INFO: Still uploading\n",
      "COMET INFO: Still uploading\n",
      "COMET INFO: Still uploading\n",
      "COMET INFO: Still uploading\n",
      "COMET INFO: Still uploading\n",
      "COMET INFO: Still uploading\n",
      "COMET INFO: Still uploading\n",
      "COMET INFO: Still uploading\n",
      "COMET INFO: Still uploading\n",
      "COMET INFO: Still uploading\n",
      "COMET ERROR: Comet failed to send all the data back (0 messages and 13 uploads)\n",
      "COMET WARNING: Failed to log run in comet.ml\n"
     ]
    },
    {
     "name": "stdout",
     "output_type": "stream",
     "text": [
      "Training finished.\n"
     ]
    }
   ],
   "source": [
    "#%%\n",
    "teacher = Teacher(env, 1, Preprocessor(False))\n",
    "\n",
    "lr_actor = 4e-4\n",
    "lr_critic = 4e-3\n",
    "\n",
    "config = Config(buffer_size=4*steps_per_ep*threads_no, batch_size=32, gamma=0.7, tau=1e-3, lr_actor=lr_actor, lr_critic=lr_critic, update_every=1)\n",
    "agent = Agent(history_length, action_size=1, config=config, actor_layers=[8, 128, 16], critic_layers=[8,128,16])\n",
    "\n",
    "# Test the model\n",
    "hyperparams = {**config.__dict__, **sim_args}\n",
    "tags = [\"Rew: normalized speed\",\n",
    "        f\"{Agent.NAME}\",\n",
    "        sim_args['scenario'],\n",
    "        f\"Actor: {lr_actor}\",\n",
    "        f\"Critic: {lr_critic}\",\n",
    "        f\"Instances: {threads_no}\",\n",
    "        f\"Station count: {sim_args['nWifi']}\",\n",
    "        *[f\"{key}: {sim_args[key]}\" for key in list(sim_args)[:3]]]\n",
    "# agent.save()\n",
    "logger = teacher.train(agent, EPISODE_COUNT,\n",
    "                        simTime=simTime,\n",
    "                        stepTime=stepTime,\n",
    "                        history_length=history_length,\n",
    "                        send_logs=True,\n",
    "                        experimental=True,\n",
    "                        tags=tags,\n",
    "                        parameters=hyperparams)\n",
    "# logger = teacher.eval(agent,\n",
    "#                         simTime=simTime,\n",
    "#                         stepTime=stepTime,\n",
    "#                         history_length=history_length,\n",
    "#                         tags=tags,\n",
    "#                         parameters=hyperparams)\n",
    "# agent.save()"
   ]
  },
  {
   "cell_type": "code",
   "execution_count": null,
   "id": "e27ec497",
   "metadata": {},
   "outputs": [],
   "source": []
  },
  {
   "cell_type": "markdown",
   "id": "46eebdd7",
   "metadata": {},
   "source": [
    "# Execution num4:"
   ]
  },
  {
   "cell_type": "code",
   "execution_count": 1,
   "id": "7f416bdc",
   "metadata": {},
   "outputs": [],
   "source": [
    "#%%\n",
    "from ns3gym import ns3env\n",
    "from comet_ml import Experiment, Optimizer\n",
    "import tqdm\n",
    "import subprocess\n",
    "from collections import deque\n",
    "import numpy as np\n",
    "\n",
    "from agents.ddpg.agent import Agent, Config\n",
    "from agents.ddpg.model import Actor\n",
    "from agents.teacher import Teacher, EnvWrapper\n",
    "from preprocessor import Preprocessor"
   ]
  },
  {
   "cell_type": "code",
   "execution_count": 2,
   "id": "397c8d8d",
   "metadata": {},
   "outputs": [
    {
     "name": "stdout",
     "output_type": "stream",
     "text": [
      "Steps per episode: 6000\n",
      "Waiting for simulation script to connect on port: tcp://localhost:19631\n",
      "Please start proper ns-3 simulation script using ./waf --run \"...\"\n",
      "22.606934|0|30|-nan\n",
      "Observation space shape: (1, 300)\n",
      "Action space shape: (1, 1)\n"
     ]
    }
   ],
   "source": [
    "#%%\n",
    "scenario = \"basic\"\n",
    "\n",
    "simTime = 60 # seconds\n",
    "stepTime = 0.01  # seconds\n",
    "history_length = 300\n",
    "\n",
    "EPISODE_COUNT = 15\n",
    "steps_per_ep = int(simTime/stepTime)\n",
    "\n",
    "sim_args = {\n",
    "    \"simTime\": simTime,\n",
    "    \"envStepTime\": stepTime,\n",
    "    \"historyLength\": history_length,\n",
    "    \"agentType\": Agent.TYPE,\n",
    "    \"scenario\": \"basic\",\n",
    "    \"nWifi\": 30,\n",
    "}\n",
    "\n",
    "print(\"Steps per episode:\", steps_per_ep)\n",
    "\n",
    "threads_no = 1\n",
    "env = EnvWrapper(threads_no, **sim_args)\n",
    "\n",
    "#%%\n",
    "env.reset()\n",
    "ob_space = env.observation_space\n",
    "ac_space = env.action_space\n",
    "\n",
    "print(\"Observation space shape:\", ob_space)\n",
    "print(\"Action space shape:\", ac_space)\n",
    "\n",
    "assert ob_space is not None"
   ]
  },
  {
   "cell_type": "code",
   "execution_count": 3,
   "id": "e63bd7a9",
   "metadata": {
    "scrolled": true
   },
   "outputs": [
    {
     "name": "stdout",
     "output_type": "stream",
     "text": [
      "CuDNN version: 7102\n",
      "cpu\n"
     ]
    },
    {
     "name": "stderr",
     "output_type": "stream",
     "text": [
      "COMET INFO: Experiment is live on comet.ml https://www.comet.com/sheila-janota/rl-in-wifi-with-queue-level/25d4e8b94bd9437f815e080bfc0c8de7\n",
      "\n"
     ]
    },
    {
     "name": "stdout",
     "output_type": "stream",
     "text": [
      "0\n",
      "22.606934|0|30|-nan\n"
     ]
    },
    {
     "name": "stderr",
     "output_type": "stream",
     "text": [
      "  5%|▌         | 333/6300 [02:02<38:16,  2.60it/s, curr_speed=21.64 Mbps, mb_sent=6.93 Mb]"
     ]
    },
    {
     "name": "stdout",
     "output_type": "stream",
     "text": [
      "------- STARTED TRAINING -------\n"
     ]
    },
    {
     "name": "stderr",
     "output_type": "stream",
     "text": [
      "100%|██████████| 6300/6300 [45:41<00:00,  2.30it/s, curr_speed=29.80 Mbps, mb_sent=1847.71 Mb]\n"
     ]
    },
    {
     "name": "stdout",
     "output_type": "stream",
     "text": [
      "Waiting for simulation script to connect on port: tcp://localhost:14895\n",
      "Please start proper ns-3 simulation script using ./waf --run \"...\"\n",
      "Sent 1847.71 Mb/s.\tMean speed: 30.80 Mb/s\tEpisode 1/15 finished\n",
      "\n",
      "1\n",
      "22.606934|0|30|-nan\n"
     ]
    },
    {
     "name": "stderr",
     "output_type": "stream",
     "text": [
      "100%|██████████| 6300/6300 [43:23<00:00,  2.42it/s, curr_speed=41.59 Mbps, mb_sent=1948.64 Mb] \n"
     ]
    },
    {
     "name": "stdout",
     "output_type": "stream",
     "text": [
      "Waiting for simulation script to connect on port: tcp://localhost:29382\n",
      "Please start proper ns-3 simulation script using ./waf --run \"...\"\n",
      "Sent 1948.64 Mb/s.\tMean speed: 32.48 Mb/s\tEpisode 2/15 finished\n",
      "\n",
      "2\n",
      "22.606934|0|30|-nan\n"
     ]
    },
    {
     "name": "stderr",
     "output_type": "stream",
     "text": [
      "100%|██████████| 6300/6300 [45:42<00:00,  2.30it/s, curr_speed=30.77 Mbps, mb_sent=1995.16 Mb] \n"
     ]
    },
    {
     "name": "stdout",
     "output_type": "stream",
     "text": [
      "Waiting for simulation script to connect on port: tcp://localhost:32463\n",
      "Please start proper ns-3 simulation script using ./waf --run \"...\"\n",
      "Sent 1995.16 Mb/s.\tMean speed: 33.25 Mb/s\tEpisode 3/15 finished\n",
      "\n",
      "3\n",
      "22.606934|0|30|-nan\n"
     ]
    },
    {
     "name": "stderr",
     "output_type": "stream",
     "text": [
      "100%|██████████| 6300/6300 [42:00<00:00,  2.50it/s, curr_speed=31.94 Mbps, mb_sent=2050.22 Mb]\n"
     ]
    },
    {
     "name": "stdout",
     "output_type": "stream",
     "text": [
      "Waiting for simulation script to connect on port: tcp://localhost:45569\n",
      "Please start proper ns-3 simulation script using ./waf --run \"...\"\n",
      "Sent 2050.22 Mb/s.\tMean speed: 34.17 Mb/s\tEpisode 4/15 finished\n",
      "\n",
      "4\n",
      "22.606934|0|30|-nan\n"
     ]
    },
    {
     "name": "stderr",
     "output_type": "stream",
     "text": [
      "  5%|▍         | 305/6300 [01:47<37:24,  2.67it/s, curr_speed=36.86 Mbps, mb_sent=1.47 Mb]"
     ]
    },
    {
     "name": "stdout",
     "output_type": "stream",
     "text": [
      "------- MEMORY BUFFER FILLED -------\n"
     ]
    },
    {
     "name": "stderr",
     "output_type": "stream",
     "text": [
      "100%|██████████| 6300/6300 [40:49<00:00,  2.57it/s, curr_speed=35.40 Mbps, mb_sent=2166.71 Mb]\n"
     ]
    },
    {
     "name": "stdout",
     "output_type": "stream",
     "text": [
      "Waiting for simulation script to connect on port: tcp://localhost:17461\n",
      "Please start proper ns-3 simulation script using ./waf --run \"...\"\n",
      "Sent 2166.71 Mb/s.\tMean speed: 36.11 Mb/s\tEpisode 5/15 finished\n",
      "\n",
      "5\n",
      "22.606934|0|30|-nan\n"
     ]
    },
    {
     "name": "stderr",
     "output_type": "stream",
     "text": [
      "100%|██████████| 6300/6300 [44:01<00:00,  2.39it/s, curr_speed=37.29 Mbps, mb_sent=2223.51 Mb]\n"
     ]
    },
    {
     "name": "stdout",
     "output_type": "stream",
     "text": [
      "Waiting for simulation script to connect on port: tcp://localhost:43241\n",
      "Please start proper ns-3 simulation script using ./waf --run \"...\"\n",
      "Sent 2223.51 Mb/s.\tMean speed: 37.06 Mb/s\tEpisode 6/15 finished\n",
      "\n",
      "6\n",
      "22.606934|0|30|-nan\n"
     ]
    },
    {
     "name": "stderr",
     "output_type": "stream",
     "text": [
      "100%|██████████| 6300/6300 [42:54<00:00,  2.45it/s, curr_speed=37.28 Mbps, mb_sent=2245.17 Mb] \n"
     ]
    },
    {
     "name": "stdout",
     "output_type": "stream",
     "text": [
      "Waiting for simulation script to connect on port: tcp://localhost:49248\n",
      "Please start proper ns-3 simulation script using ./waf --run \"...\"\n",
      "Sent 2245.17 Mb/s.\tMean speed: 37.42 Mb/s\tEpisode 7/15 finished\n",
      "\n",
      "7\n",
      "22.606934|0|30|-nan\n"
     ]
    },
    {
     "name": "stderr",
     "output_type": "stream",
     "text": [
      "100%|██████████| 6300/6300 [41:26<00:00,  2.53it/s, curr_speed=37.29 Mbps, mb_sent=2262.56 Mb]\n"
     ]
    },
    {
     "name": "stdout",
     "output_type": "stream",
     "text": [
      "Waiting for simulation script to connect on port: tcp://localhost:48813\n",
      "Please start proper ns-3 simulation script using ./waf --run \"...\"\n",
      "Sent 2262.56 Mb/s.\tMean speed: 37.71 Mb/s\tEpisode 8/15 finished\n",
      "\n",
      "8\n",
      "22.606934|0|30|-nan\n"
     ]
    },
    {
     "name": "stderr",
     "output_type": "stream",
     "text": [
      "100%|██████████| 6300/6300 [41:17<00:00,  2.54it/s, curr_speed=37.72 Mbps, mb_sent=2265.91 Mb]\n"
     ]
    },
    {
     "name": "stdout",
     "output_type": "stream",
     "text": [
      "Waiting for simulation script to connect on port: tcp://localhost:23249\n",
      "Please start proper ns-3 simulation script using ./waf --run \"...\"\n",
      "Sent 2265.91 Mb/s.\tMean speed: 37.77 Mb/s\tEpisode 9/15 finished\n",
      "\n",
      "9\n",
      "22.606934|0|30|-nan\n"
     ]
    },
    {
     "name": "stderr",
     "output_type": "stream",
     "text": [
      "100%|██████████| 6300/6300 [41:29<00:00,  2.53it/s, curr_speed=38.13 Mbps, mb_sent=2267.33 Mb]\n"
     ]
    },
    {
     "name": "stdout",
     "output_type": "stream",
     "text": [
      "Waiting for simulation script to connect on port: tcp://localhost:51645\n",
      "Please start proper ns-3 simulation script using ./waf --run \"...\"\n",
      "Sent 2267.33 Mb/s.\tMean speed: 37.79 Mb/s\tEpisode 10/15 finished\n",
      "\n",
      "10\n",
      "22.606934|0|30|-nan\n"
     ]
    },
    {
     "name": "stderr",
     "output_type": "stream",
     "text": [
      "100%|██████████| 6300/6300 [42:56<00:00,  2.44it/s, curr_speed=37.72 Mbps, mb_sent=2267.88 Mb]\n"
     ]
    },
    {
     "name": "stdout",
     "output_type": "stream",
     "text": [
      "Waiting for simulation script to connect on port: tcp://localhost:31713\n",
      "Please start proper ns-3 simulation script using ./waf --run \"...\"\n",
      "Sent 2267.88 Mb/s.\tMean speed: 37.80 Mb/s\tEpisode 11/15 finished\n",
      "\n",
      "11\n",
      "22.606934|0|30|-nan\n"
     ]
    },
    {
     "name": "stderr",
     "output_type": "stream",
     "text": [
      "100%|██████████| 6300/6300 [42:37<00:00,  2.46it/s, curr_speed=38.04 Mbps, mb_sent=2270.62 Mb]\n"
     ]
    },
    {
     "name": "stdout",
     "output_type": "stream",
     "text": [
      "Waiting for simulation script to connect on port: tcp://localhost:44383\n",
      "Please start proper ns-3 simulation script using ./waf --run \"...\"\n",
      "Sent 2270.62 Mb/s.\tMean speed: 37.84 Mb/s\tEpisode 12/15 finished\n",
      "\n",
      "12\n",
      "Turning off noise\n",
      "22.606934|0|30|-nan\n"
     ]
    },
    {
     "name": "stderr",
     "output_type": "stream",
     "text": [
      "100%|██████████| 6300/6300 [42:35<00:00,  2.47it/s, curr_speed=37.55 Mbps, mb_sent=2271.76 Mb]\n"
     ]
    },
    {
     "name": "stdout",
     "output_type": "stream",
     "text": [
      "Waiting for simulation script to connect on port: tcp://localhost:33046\n",
      "Please start proper ns-3 simulation script using ./waf --run \"...\"\n",
      "Sent 2271.76 Mb/s.\tMean speed: 37.86 Mb/s\tEpisode 13/15 finished\n",
      "\n",
      "13\n",
      "Turning off noise\n",
      "22.606934|0|30|-nan\n"
     ]
    },
    {
     "name": "stderr",
     "output_type": "stream",
     "text": [
      "100%|██████████| 6300/6300 [43:02<00:00,  2.44it/s, curr_speed=38.11 Mbps, mb_sent=2269.12 Mb]\n"
     ]
    },
    {
     "name": "stdout",
     "output_type": "stream",
     "text": [
      "Waiting for simulation script to connect on port: tcp://localhost:22654\n",
      "Please start proper ns-3 simulation script using ./waf --run \"...\"\n",
      "Sent 2269.12 Mb/s.\tMean speed: 37.82 Mb/s\tEpisode 14/15 finished\n",
      "\n",
      "14\n",
      "Turning off noise\n",
      "22.606934|0|30|-nan\n"
     ]
    },
    {
     "name": "stderr",
     "output_type": "stream",
     "text": [
      "100%|██████████| 6300/6300 [41:29<00:00,  2.53it/s, curr_speed=37.86 Mbps, mb_sent=2270.08 Mb]\n"
     ]
    },
    {
     "name": "stdout",
     "output_type": "stream",
     "text": [
      "Waiting for simulation script to connect on port: tcp://localhost:51637\n",
      "Please start proper ns-3 simulation script using ./waf --run \"...\"\n"
     ]
    },
    {
     "name": "stderr",
     "output_type": "stream",
     "text": [
      "COMET INFO: ----------------------------\n",
      "COMET INFO: Comet.ml Experiment Summary:\n",
      "COMET INFO:   Data:\n",
      "COMET INFO:     url: https://www.comet.com/sheila-janota/rl-in-wifi-with-queue-level/25d4e8b94bd9437f815e080bfc0c8de7\n",
      "COMET INFO:   Metrics [count] (min, max):\n",
      "COMET INFO:     Chosen CW [89985]           : (16.0, 1024.0)\n",
      "COMET INFO:     Cumulative reward [15]      : (2519.82421875, 3173.653076171875)\n",
      "COMET INFO:     Current throughput [89985]  : (5.212399959564209, 57.779476165771484)\n",
      "COMET INFO:     Fairness index [89985]      : (0.8403130173683167, 0.9992820024490356)\n",
      "COMET INFO:     Megabytes sent [89985]      : (0.1228640004992485, 2271.762218862772)\n",
      "COMET INFO:     Observation 0 [89985]       : (0.7294838537027438, 0.9652865326404572)\n",
      "COMET INFO:     Observation 1 [89985]       : (0.0011708204891842594, 0.1617624579578535)\n",
      "COMET INFO:     Per-ep reward [89985]       : (97.21875, 3173.653076171875)\n",
      "COMET INFO:     Round megabytes sent [89985]: (0.0, 11.80609130859375)\n",
      "COMET INFO:     Round reward [89985]        : (0.0, 0.908447265625)\n",
      "COMET INFO:     Speed [15]                  : (30.79524553877612, 37.86270364771287)\n",
      "COMET INFO:     Station count [89985]       : (30.0, 30.0)\n",
      "COMET INFO:     actor_loss [89985]          : (-1.685273289680481, 0.0)\n",
      "COMET INFO:     critic_loss [89985]         : (0.0, 2.7691943645477295)\n",
      "COMET INFO:     loss [33578]                : (-1.6850215196609497, 1.0660834312438965)\n",
      "COMET INFO:   Uploads:\n",
      "COMET INFO:     histogram3d: 89985\n",
      "COMET INFO: ----------------------------\n",
      "COMET INFO: Uploading stats to Comet before program termination (may take several seconds)\n"
     ]
    },
    {
     "name": "stdout",
     "output_type": "stream",
     "text": [
      "Sent 2270.08 Mb/s.\tMean speed: 37.83 Mb/s\tEpisode 15/15 finished\n",
      "\n",
      "Training finished.\n"
     ]
    }
   ],
   "source": [
    "#%%\n",
    "teacher = Teacher(env, 1, Preprocessor(False))\n",
    "\n",
    "lr_actor = 4e-4\n",
    "lr_critic = 4e-3\n",
    "\n",
    "config = Config(buffer_size=4*steps_per_ep*threads_no, batch_size=32, gamma=0.7, tau=1e-3, lr_actor=lr_actor, lr_critic=lr_critic, update_every=1)\n",
    "agent = Agent(history_length, action_size=1, config=config, actor_layers=[8, 128, 16], critic_layers=[8,128,16])\n",
    "\n",
    "# Test the model\n",
    "hyperparams = {**config.__dict__, **sim_args}\n",
    "tags = [\"Rew: normalized speed\",\n",
    "        f\"{Agent.NAME}\",\n",
    "        sim_args['scenario'],\n",
    "        f\"Actor: {lr_actor}\",\n",
    "        f\"Critic: {lr_critic}\",\n",
    "        f\"Instances: {threads_no}\",\n",
    "        f\"Station count: {sim_args['nWifi']}\",\n",
    "        *[f\"{key}: {sim_args[key]}\" for key in list(sim_args)[:3]]]\n",
    "# agent.save()\n",
    "logger = teacher.train(agent, EPISODE_COUNT,\n",
    "                        simTime=simTime,\n",
    "                        stepTime=stepTime,\n",
    "                        history_length=history_length,\n",
    "                        send_logs=True,\n",
    "                        experimental=True,\n",
    "                        tags=tags,\n",
    "                        parameters=hyperparams)\n",
    "# logger = teacher.eval(agent,\n",
    "#                         simTime=simTime,\n",
    "#                         stepTime=stepTime,\n",
    "#                         history_length=history_length,\n",
    "#                         tags=tags,\n",
    "#                         parameters=hyperparams)\n",
    "# agent.save()"
   ]
  },
  {
   "cell_type": "code",
   "execution_count": null,
   "id": "62645e02",
   "metadata": {},
   "outputs": [],
   "source": []
  },
  {
   "cell_type": "markdown",
   "id": "9325e5ba",
   "metadata": {},
   "source": [
    "# Execution num5:"
   ]
  },
  {
   "cell_type": "code",
   "execution_count": 4,
   "id": "07c24c9d",
   "metadata": {},
   "outputs": [],
   "source": [
    "#%%\n",
    "from ns3gym import ns3env\n",
    "from comet_ml import Experiment, Optimizer\n",
    "import tqdm\n",
    "import subprocess\n",
    "from collections import deque\n",
    "import numpy as np\n",
    "\n",
    "from agents.ddpg.agent import Agent, Config\n",
    "from agents.ddpg.model import Actor\n",
    "from agents.teacher import Teacher, EnvWrapper\n",
    "from preprocessor import Preprocessor"
   ]
  },
  {
   "cell_type": "code",
   "execution_count": 5,
   "id": "1f86b0ea",
   "metadata": {},
   "outputs": [
    {
     "name": "stdout",
     "output_type": "stream",
     "text": [
      "Steps per episode: 6000\n",
      "Waiting for simulation script to connect on port: tcp://localhost:31171\n",
      "Please start proper ns-3 simulation script using ./waf --run \"...\"\n",
      "22.606934|0|30|-nan\n",
      "Observation space shape: (1, 300)\n",
      "Action space shape: (1, 1)\n"
     ]
    }
   ],
   "source": [
    "#%%\n",
    "scenario = \"basic\"\n",
    "\n",
    "simTime = 60 # seconds\n",
    "stepTime = 0.01  # seconds\n",
    "history_length = 300\n",
    "\n",
    "EPISODE_COUNT = 15\n",
    "steps_per_ep = int(simTime/stepTime)\n",
    "\n",
    "sim_args = {\n",
    "    \"simTime\": simTime,\n",
    "    \"envStepTime\": stepTime,\n",
    "    \"historyLength\": history_length,\n",
    "    \"agentType\": Agent.TYPE,\n",
    "    \"scenario\": \"basic\",\n",
    "    \"nWifi\": 30,\n",
    "}\n",
    "\n",
    "print(\"Steps per episode:\", steps_per_ep)\n",
    "\n",
    "threads_no = 1\n",
    "env = EnvWrapper(threads_no, **sim_args)\n",
    "\n",
    "#%%\n",
    "env.reset()\n",
    "ob_space = env.observation_space\n",
    "ac_space = env.action_space\n",
    "\n",
    "print(\"Observation space shape:\", ob_space)\n",
    "print(\"Action space shape:\", ac_space)\n",
    "\n",
    "assert ob_space is not None"
   ]
  },
  {
   "cell_type": "code",
   "execution_count": 6,
   "id": "cc6f38f8",
   "metadata": {
    "scrolled": true
   },
   "outputs": [
    {
     "name": "stdout",
     "output_type": "stream",
     "text": [
      "CuDNN version: 7102\n",
      "cpu\n"
     ]
    },
    {
     "name": "stderr",
     "output_type": "stream",
     "text": [
      "COMET INFO: Experiment is live on comet.ml https://www.comet.com/sheila-janota/rl-in-wifi-with-queue-level/cbf7bbc8f28a4e0f8b2ebe72ca8e4bce\n",
      "\n"
     ]
    },
    {
     "name": "stdout",
     "output_type": "stream",
     "text": [
      "0\n",
      "22.606934|0|30|-nan\n"
     ]
    },
    {
     "name": "stderr",
     "output_type": "stream",
     "text": [
      "  5%|▌         | 334/6300 [02:01<38:24,  2.59it/s, curr_speed=28.19 Mbps, mb_sent=9.30 Mb]"
     ]
    },
    {
     "name": "stdout",
     "output_type": "stream",
     "text": [
      "------- STARTED TRAINING -------\n"
     ]
    },
    {
     "name": "stderr",
     "output_type": "stream",
     "text": [
      "100%|██████████| 6300/6300 [41:00<00:00,  2.56it/s, curr_speed=32.39 Mbps, mb_sent=1840.86 Mb]\n"
     ]
    },
    {
     "name": "stdout",
     "output_type": "stream",
     "text": [
      "Waiting for simulation script to connect on port: tcp://localhost:17556\n",
      "Please start proper ns-3 simulation script using ./waf --run \"...\"\n",
      "Sent 1840.86 Mb/s.\tMean speed: 30.68 Mb/s\tEpisode 1/15 finished\n",
      "\n",
      "1\n",
      "22.606934|0|30|-nan\n"
     ]
    },
    {
     "name": "stderr",
     "output_type": "stream",
     "text": [
      " 15%|█▌        | 970/6300 [06:14<36:52,  2.41it/s, curr_speed=30.79 Mbps, mb_sent=212.15 Mb]COMET ERROR: File could not be uploaded\n",
      " 15%|█▌        | 971/6300 [06:15<37:03,  2.40it/s, curr_speed=30.76 Mbps, mb_sent=212.41 Mb]COMET ERROR: File could not be uploaded\n",
      " 15%|█▌        | 972/6300 [06:15<36:36,  2.43it/s, curr_speed=30.58 Mbps, mb_sent=212.55 Mb]COMET ERROR: File could not be uploaded\n",
      " 15%|█▌        | 973/6300 [06:16<36:06,  2.46it/s, curr_speed=30.56 Mbps, mb_sent=212.86 Mb]COMET ERROR: File could not be uploaded\n",
      " 15%|█▌        | 974/6300 [06:16<37:33,  2.36it/s, curr_speed=30.56 Mbps, mb_sent=213.22 Mb]COMET ERROR: File could not be uploaded\n",
      "100%|██████████| 6300/6300 [41:32<00:00,  2.53it/s, curr_speed=33.39 Mbps, mb_sent=1926.26 Mb]\n"
     ]
    },
    {
     "name": "stdout",
     "output_type": "stream",
     "text": [
      "Waiting for simulation script to connect on port: tcp://localhost:38439\n",
      "Please start proper ns-3 simulation script using ./waf --run \"...\"\n",
      "Sent 1926.26 Mb/s.\tMean speed: 32.10 Mb/s\tEpisode 2/15 finished\n",
      "\n",
      "2\n",
      "22.606934|0|30|-nan\n"
     ]
    },
    {
     "name": "stderr",
     "output_type": "stream",
     "text": [
      "100%|██████████| 6300/6300 [41:29<00:00,  2.53it/s, curr_speed=30.30 Mbps, mb_sent=1984.81 Mb]\n"
     ]
    },
    {
     "name": "stdout",
     "output_type": "stream",
     "text": [
      "Waiting for simulation script to connect on port: tcp://localhost:47157\n",
      "Please start proper ns-3 simulation script using ./waf --run \"...\"\n",
      "Sent 1984.81 Mb/s.\tMean speed: 33.08 Mb/s\tEpisode 3/15 finished\n",
      "\n",
      "3\n",
      "22.606934|0|30|-nan\n"
     ]
    },
    {
     "name": "stderr",
     "output_type": "stream",
     "text": [
      "100%|██████████| 6300/6300 [41:54<00:00,  2.51it/s, curr_speed=34.64 Mbps, mb_sent=2040.19 Mb]\n"
     ]
    },
    {
     "name": "stdout",
     "output_type": "stream",
     "text": [
      "Waiting for simulation script to connect on port: tcp://localhost:47461\n",
      "Please start proper ns-3 simulation script using ./waf --run \"...\"\n",
      "Sent 2040.19 Mb/s.\tMean speed: 34.00 Mb/s\tEpisode 4/15 finished\n",
      "\n",
      "4\n",
      "22.606934|0|30|-nan\n"
     ]
    },
    {
     "name": "stderr",
     "output_type": "stream",
     "text": [
      "  5%|▍         | 305/6300 [01:51<39:22,  2.54it/s, curr_speed=35.46 Mbps, mb_sent=1.42 Mb]"
     ]
    },
    {
     "name": "stdout",
     "output_type": "stream",
     "text": [
      "------- MEMORY BUFFER FILLED -------\n"
     ]
    },
    {
     "name": "stderr",
     "output_type": "stream",
     "text": [
      "100%|██████████| 6300/6300 [41:54<00:00,  2.51it/s, curr_speed=35.75 Mbps, mb_sent=2165.53 Mb]\n"
     ]
    },
    {
     "name": "stdout",
     "output_type": "stream",
     "text": [
      "Waiting for simulation script to connect on port: tcp://localhost:14624\n",
      "Please start proper ns-3 simulation script using ./waf --run \"...\"\n",
      "Sent 2165.53 Mb/s.\tMean speed: 36.09 Mb/s\tEpisode 5/15 finished\n",
      "\n",
      "5\n",
      "22.606934|0|30|-nan\n"
     ]
    },
    {
     "name": "stderr",
     "output_type": "stream",
     "text": [
      " 35%|███▌      | 2208/6300 [14:51<29:37,  2.30it/s, curr_speed=37.19 Mbps, mb_sent=701.23 Mb] COMET ERROR: File could not be uploaded\n",
      " 35%|███▌      | 2209/6300 [14:51<29:29,  2.31it/s, curr_speed=37.17 Mbps, mb_sent=701.59 Mb]COMET ERROR: File could not be uploaded\n",
      " 35%|███▌      | 2210/6300 [14:52<29:38,  2.30it/s, curr_speed=37.21 Mbps, mb_sent=701.95 Mb]COMET ERROR: File could not be uploaded\n",
      " 35%|███▌      | 2211/6300 [14:52<29:21,  2.32it/s, curr_speed=37.15 Mbps, mb_sent=702.27 Mb]COMET ERROR: File could not be uploaded\n",
      " 35%|███▌      | 2212/6300 [14:53<29:40,  2.30it/s, curr_speed=37.18 Mbps, mb_sent=702.69 Mb]COMET ERROR: File could not be uploaded\n",
      "100%|██████████| 6300/6300 [43:20<00:00,  2.42it/s, curr_speed=35.04 Mbps, mb_sent=2202.02 Mb]\n"
     ]
    },
    {
     "name": "stdout",
     "output_type": "stream",
     "text": [
      "Waiting for simulation script to connect on port: tcp://localhost:21974\n",
      "Please start proper ns-3 simulation script using ./waf --run \"...\"\n",
      "Sent 2202.02 Mb/s.\tMean speed: 36.70 Mb/s\tEpisode 6/15 finished\n",
      "\n",
      "6\n",
      "22.606934|0|30|-nan\n"
     ]
    },
    {
     "name": "stderr",
     "output_type": "stream",
     "text": [
      "100%|██████████| 6300/6300 [42:15<00:00,  2.49it/s, curr_speed=37.76 Mbps, mb_sent=2232.21 Mb]\n"
     ]
    },
    {
     "name": "stdout",
     "output_type": "stream",
     "text": [
      "Waiting for simulation script to connect on port: tcp://localhost:52085\n",
      "Please start proper ns-3 simulation script using ./waf --run \"...\"\n",
      "Sent 2232.21 Mb/s.\tMean speed: 37.20 Mb/s\tEpisode 7/15 finished\n",
      "\n",
      "7\n",
      "22.606934|0|30|-nan\n"
     ]
    },
    {
     "name": "stderr",
     "output_type": "stream",
     "text": [
      "100%|██████████| 6300/6300 [42:03<00:00,  2.50it/s, curr_speed=37.36 Mbps, mb_sent=2241.34 Mb]\n"
     ]
    },
    {
     "name": "stdout",
     "output_type": "stream",
     "text": [
      "Waiting for simulation script to connect on port: tcp://localhost:42254\n",
      "Please start proper ns-3 simulation script using ./waf --run \"...\"\n",
      "Sent 2241.34 Mb/s.\tMean speed: 37.36 Mb/s\tEpisode 8/15 finished\n",
      "\n",
      "8\n",
      "22.606934|0|30|-nan\n"
     ]
    },
    {
     "name": "stderr",
     "output_type": "stream",
     "text": [
      "100%|██████████| 6300/6300 [42:37<00:00,  2.46it/s, curr_speed=37.93 Mbps, mb_sent=2250.70 Mb]\n"
     ]
    },
    {
     "name": "stdout",
     "output_type": "stream",
     "text": [
      "Waiting for simulation script to connect on port: tcp://localhost:17213\n",
      "Please start proper ns-3 simulation script using ./waf --run \"...\"\n",
      "Sent 2250.70 Mb/s.\tMean speed: 37.51 Mb/s\tEpisode 9/15 finished\n",
      "\n",
      "9\n",
      "22.606934|0|30|-nan\n"
     ]
    },
    {
     "name": "stderr",
     "output_type": "stream",
     "text": [
      "100%|██████████| 6300/6300 [42:31<00:00,  2.47it/s, curr_speed=37.59 Mbps, mb_sent=2261.84 Mb]\n"
     ]
    },
    {
     "name": "stdout",
     "output_type": "stream",
     "text": [
      "Waiting for simulation script to connect on port: tcp://localhost:20380\n",
      "Please start proper ns-3 simulation script using ./waf --run \"...\"\n",
      "Sent 2261.84 Mb/s.\tMean speed: 37.70 Mb/s\tEpisode 10/15 finished\n",
      "\n",
      "10\n",
      "22.606934|0|30|-nan\n"
     ]
    },
    {
     "name": "stderr",
     "output_type": "stream",
     "text": [
      "100%|██████████| 6300/6300 [42:18<00:00,  2.48it/s, curr_speed=37.59 Mbps, mb_sent=2266.32 Mb]\n"
     ]
    },
    {
     "name": "stdout",
     "output_type": "stream",
     "text": [
      "Waiting for simulation script to connect on port: tcp://localhost:45016\n",
      "Please start proper ns-3 simulation script using ./waf --run \"...\"\n",
      "Sent 2266.32 Mb/s.\tMean speed: 37.77 Mb/s\tEpisode 11/15 finished\n",
      "\n",
      "11\n",
      "22.606934|0|30|-nan\n"
     ]
    },
    {
     "name": "stderr",
     "output_type": "stream",
     "text": [
      "100%|██████████| 6300/6300 [42:21<00:00,  2.48it/s, curr_speed=37.70 Mbps, mb_sent=2265.22 Mb]\n"
     ]
    },
    {
     "name": "stdout",
     "output_type": "stream",
     "text": [
      "Waiting for simulation script to connect on port: tcp://localhost:36958\n",
      "Please start proper ns-3 simulation script using ./waf --run \"...\"\n",
      "Sent 2265.22 Mb/s.\tMean speed: 37.75 Mb/s\tEpisode 12/15 finished\n",
      "\n",
      "12\n",
      "Turning off noise\n",
      "22.606934|0|30|-nan\n"
     ]
    },
    {
     "name": "stderr",
     "output_type": "stream",
     "text": [
      "100%|██████████| 6300/6300 [42:39<00:00,  2.46it/s, curr_speed=37.91 Mbps, mb_sent=2265.80 Mb]\n"
     ]
    },
    {
     "name": "stdout",
     "output_type": "stream",
     "text": [
      "Waiting for simulation script to connect on port: tcp://localhost:24906\n",
      "Please start proper ns-3 simulation script using ./waf --run \"...\"\n",
      "Sent 2265.80 Mb/s.\tMean speed: 37.76 Mb/s\tEpisode 13/15 finished\n",
      "\n",
      "13\n",
      "Turning off noise\n",
      "22.606934|0|30|-nan\n"
     ]
    },
    {
     "name": "stderr",
     "output_type": "stream",
     "text": [
      "100%|██████████| 6300/6300 [42:58<00:00,  2.44it/s, curr_speed=37.35 Mbps, mb_sent=2262.12 Mb]\n"
     ]
    },
    {
     "name": "stdout",
     "output_type": "stream",
     "text": [
      "Waiting for simulation script to connect on port: tcp://localhost:50791\n",
      "Please start proper ns-3 simulation script using ./waf --run \"...\"\n",
      "Sent 2262.12 Mb/s.\tMean speed: 37.70 Mb/s\tEpisode 14/15 finished\n",
      "\n",
      "14\n",
      "Turning off noise\n",
      "22.606934|0|30|-nan\n"
     ]
    },
    {
     "name": "stderr",
     "output_type": "stream",
     "text": [
      "100%|██████████| 6300/6300 [41:55<00:00,  2.50it/s, curr_speed=37.73 Mbps, mb_sent=2266.58 Mb]\n"
     ]
    },
    {
     "name": "stdout",
     "output_type": "stream",
     "text": [
      "Waiting for simulation script to connect on port: tcp://localhost:26118\n",
      "Please start proper ns-3 simulation script using ./waf --run \"...\"\n"
     ]
    },
    {
     "name": "stderr",
     "output_type": "stream",
     "text": [
      "COMET INFO: ----------------------------\n",
      "COMET INFO: Comet.ml Experiment Summary:\n",
      "COMET INFO:   Data:\n",
      "COMET INFO:     url: https://www.comet.com/sheila-janota/rl-in-wifi-with-queue-level/cbf7bbc8f28a4e0f8b2ebe72ca8e4bce\n",
      "COMET INFO:   Metrics [count] (min, max):\n",
      "COMET INFO:     Chosen CW [89985]           : (16.0, 1024.0)\n",
      "COMET INFO:     Cumulative reward [15]      : (2481.818359375, 3167.100341796875)\n",
      "COMET INFO:     Current throughput [89985]  : (15.078750610351562, 57.600765228271484)\n",
      "COMET INFO:     Fairness index [89985]      : (0.8519219756126404, 0.9992349743843079)\n",
      "COMET INFO:     Megabytes sent [89985]      : (0.17871099710464478, 2266.579567015171)\n",
      "COMET INFO:     Observation 0 [89985]       : (0.753516647790869, 0.9652370703220368)\n",
      "COMET INFO:     Observation 1 [89985]       : (0.0011326513852195684, 0.17126103928565448)\n",
      "COMET INFO:     Per-ep reward [89985]       : (96.89111328125, 3167.100341796875)\n",
      "COMET INFO:     Round megabytes sent [89985]: (0.01116899959743023, 12.20819091796875)\n",
      "COMET INFO:     Round reward [89985]        : (0.014892578125, 0.92333984375)\n",
      "COMET INFO:     Speed [15]                  : (30.68094503985097, 37.77632611691952)\n",
      "COMET INFO:     Station count [89985]       : (30.0, 30.0)\n",
      "COMET INFO:     actor_loss [89985]          : (-1.679519534111023, 0.0)\n",
      "COMET INFO:     critic_loss [89985]         : (0.0, 3.853200912475586)\n",
      "COMET INFO:     loss [33578]                : (-1.679519534111023, 1.1394740343093872)\n",
      "COMET INFO:   Uploads:\n",
      "COMET INFO:     histogram3d: 89985\n",
      "COMET INFO: ----------------------------\n",
      "COMET INFO: Uploading stats to Comet before program termination (may take several seconds)\n"
     ]
    },
    {
     "name": "stdout",
     "output_type": "stream",
     "text": [
      "Sent 2266.58 Mb/s.\tMean speed: 37.78 Mb/s\tEpisode 15/15 finished\n",
      "\n",
      "Training finished.\n"
     ]
    }
   ],
   "source": [
    "#%%\n",
    "teacher = Teacher(env, 1, Preprocessor(False))\n",
    "\n",
    "lr_actor = 4e-4\n",
    "lr_critic = 4e-3\n",
    "\n",
    "config = Config(buffer_size=4*steps_per_ep*threads_no, batch_size=32, gamma=0.7, tau=1e-3, lr_actor=lr_actor, lr_critic=lr_critic, update_every=1)\n",
    "agent = Agent(history_length, action_size=1, config=config, actor_layers=[8, 128, 16], critic_layers=[8,128,16])\n",
    "\n",
    "# Test the model\n",
    "hyperparams = {**config.__dict__, **sim_args}\n",
    "tags = [\"Rew: normalized speed\",\n",
    "        f\"{Agent.NAME}\",\n",
    "        sim_args['scenario'],\n",
    "        f\"Actor: {lr_actor}\",\n",
    "        f\"Critic: {lr_critic}\",\n",
    "        f\"Instances: {threads_no}\",\n",
    "        f\"Station count: {sim_args['nWifi']}\",\n",
    "        *[f\"{key}: {sim_args[key]}\" for key in list(sim_args)[:3]]]\n",
    "# agent.save()\n",
    "logger = teacher.train(agent, EPISODE_COUNT,\n",
    "                        simTime=simTime,\n",
    "                        stepTime=stepTime,\n",
    "                        history_length=history_length,\n",
    "                        send_logs=True,\n",
    "                        experimental=True,\n",
    "                        tags=tags,\n",
    "                        parameters=hyperparams)\n",
    "# logger = teacher.eval(agent,\n",
    "#                         simTime=simTime,\n",
    "#                         stepTime=stepTime,\n",
    "#                         history_length=history_length,\n",
    "#                         tags=tags,\n",
    "#                         parameters=hyperparams)\n",
    "# agent.save()"
   ]
  },
  {
   "cell_type": "code",
   "execution_count": null,
   "id": "0d3ff931",
   "metadata": {},
   "outputs": [],
   "source": []
  }
 ],
 "metadata": {
  "kernelspec": {
   "display_name": "Python 3 (ipykernel)",
   "language": "python",
   "name": "python3"
  },
  "language_info": {
   "codemirror_mode": {
    "name": "ipython",
    "version": 3
   },
   "file_extension": ".py",
   "mimetype": "text/x-python",
   "name": "python",
   "nbconvert_exporter": "python",
   "pygments_lexer": "ipython3",
   "version": "3.7.10"
  }
 },
 "nbformat": 4,
 "nbformat_minor": 5
}
