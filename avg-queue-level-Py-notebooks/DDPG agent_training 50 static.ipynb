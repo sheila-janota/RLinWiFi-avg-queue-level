{
 "cells": [
  {
   "cell_type": "markdown",
   "id": "fef4eb56",
   "metadata": {},
   "source": [
    "# Execution num1:"
   ]
  },
  {
   "cell_type": "code",
   "execution_count": null,
   "id": "a6da56bc",
   "metadata": {},
   "outputs": [],
   "source": [
    "#%%\n",
    "from ns3gym import ns3env\n",
    "from comet_ml import Experiment, Optimizer\n",
    "import tqdm\n",
    "import subprocess\n",
    "from collections import deque\n",
    "import numpy as np\n",
    "\n",
    "from agents.ddpg.agent import Agent, Config\n",
    "from agents.ddpg.model import Actor\n",
    "from agents.teacher import Teacher, EnvWrapper\n",
    "from preprocessor import Preprocessor"
   ]
  },
  {
   "cell_type": "code",
   "execution_count": null,
   "id": "19faaf22",
   "metadata": {},
   "outputs": [],
   "source": [
    "#%%\n",
    "scenario = \"basic\"\n",
    "\n",
    "simTime = 60 # seconds\n",
    "stepTime = 0.01  # seconds\n",
    "history_length = 300\n",
    "\n",
    "EPISODE_COUNT = 15\n",
    "steps_per_ep = int(simTime/stepTime)\n",
    "\n",
    "sim_args = {\n",
    "    \"simTime\": simTime,\n",
    "    \"envStepTime\": stepTime,\n",
    "    \"historyLength\": history_length,\n",
    "    \"agentType\": Agent.TYPE,\n",
    "    \"scenario\": \"basic\",\n",
    "    \"nWifi\": 50,\n",
    "}\n",
    "\n",
    "print(\"Steps per episode:\", steps_per_ep)\n",
    "\n",
    "threads_no = 1\n",
    "env = EnvWrapper(threads_no, **sim_args)\n",
    "\n",
    "#%%\n",
    "env.reset()\n",
    "ob_space = env.observation_space\n",
    "ac_space = env.action_space\n",
    "\n",
    "print(\"Observation space shape:\", ob_space)\n",
    "print(\"Action space shape:\", ac_space)\n",
    "\n",
    "assert ob_space is not None"
   ]
  },
  {
   "cell_type": "code",
   "execution_count": null,
   "id": "ad7ac8b9",
   "metadata": {},
   "outputs": [],
   "source": [
    "#%%\n",
    "teacher = Teacher(env, 1, Preprocessor(False))\n",
    "\n",
    "lr_actor = 4e-4\n",
    "lr_critic = 4e-3\n",
    "\n",
    "config = Config(buffer_size=4*steps_per_ep*threads_no, batch_size=32, gamma=0.7, tau=1e-3, lr_actor=lr_actor, lr_critic=lr_critic, update_every=1)\n",
    "agent = Agent(history_length, action_size=1, config=config, actor_layers=[8, 128, 16], critic_layers=[8,128,16])\n",
    "\n",
    "# Test the model\n",
    "hyperparams = {**config.__dict__, **sim_args}\n",
    "tags = [\"Rew: normalized speed\",\n",
    "        f\"{Agent.NAME}\",\n",
    "        sim_args['scenario'],\n",
    "        f\"Actor: {lr_actor}\",\n",
    "        f\"Critic: {lr_critic}\",\n",
    "        f\"Instances: {threads_no}\",\n",
    "        f\"Station count: {sim_args['nWifi']}\",\n",
    "        *[f\"{key}: {sim_args[key]}\" for key in list(sim_args)[:3]]]\n",
    "# agent.save()\n",
    "logger = teacher.train(agent, EPISODE_COUNT,\n",
    "                        simTime=simTime,\n",
    "                        stepTime=stepTime,\n",
    "                        history_length=history_length,\n",
    "                        send_logs=True,\n",
    "                        experimental=True,\n",
    "                        tags=tags,\n",
    "                        parameters=hyperparams)\n",
    "# logger = teacher.eval(agent,\n",
    "#                         simTime=simTime,\n",
    "#                         stepTime=stepTime,\n",
    "#                         history_length=history_length,\n",
    "#                         tags=tags,\n",
    "#                         parameters=hyperparams)\n",
    "# agent.save()"
   ]
  },
  {
   "cell_type": "code",
   "execution_count": null,
   "id": "5627edd8",
   "metadata": {},
   "outputs": [],
   "source": [
    "14 \n",
    "Turning off noise \n",
    " \n",
    "\n",
    "100%|██████████| 6300/6300 [2:10:25<00:00,  1.24s/it, curr_speed=37.14 Mbps, mb_sent=2258.26 Mb]   \n",
    " \n",
    "\n",
    "Waiting for simulation script to connect on port: tcp://localhost:50809 \n",
    "Please start proper ns-3 simulation script using ./waf --run \"...\" \n",
    "Waf: Entering directory `/home/samuel/ns-allinone-3.29/ns-3.29/build' \n",
    "Waf: Leaving directory `/home/samuel/ns-allinone-3.29/ns-3.29/build' \n",
    "Build commands will be stored in build/compile_commands.json \n",
    "'build' finished successfully (2.264s) \n",
    " \n",
    "\n",
    "Ns3Env parameters: \n",
    "--nWifi: 50 \n",
    "--simulationTime: 60 \n",
    "--openGymPort: 50809 \n",
    "--envStepTime: 0.01 \n",
    "--seed: 42 \n",
    "--agentType: continuous \n",
    "--scenario: basic \n",
    "--dryRun: 0 \n",
    "Simulation started \n",
    "Simulation process id: 2877661 (parent (waf shell) id: 2877641) \n",
    "Waiting for Python process to connect on port: tcp://localhost:50809 \n",
    "Please start proper Python Gym Agent \n",
    "COMET INFO: ---------------------------- \n",
    "COMET INFO: Comet.ml Experiment Summary: \n",
    "COMET INFO:   Data: \n",
    "COMET INFO:     url: https://www.comet.com/sheila-janota/rl-in-wifi-with-queue-level/4f255f2ca0fb464ea59eb653c46e3f9d \n",
    "COMET INFO:   Metrics [count] (min, max): \n",
    "COMET INFO:     Chosen CW [89985]           : (16.0, 1024.0) \n",
    "COMET INFO:     Cumulative reward [15]      : (2525.21533203125, 3156.75) \n",
    "COMET INFO:     Current throughput [89985]  : (7.030176639556885, 41.326900482177734) \n",
    "COMET INFO:     Fairness index [89985]      : (0.9364879727363586, 0.9997640252113342) \n",
    "COMET INFO:     Megabytes sent [89985]      : (0.23455800116062164, 2259.5651707947254) \n",
    "COMET INFO:     Observation 0 [89985]       : (0.864126468275984, 0.9749519568681717) \n",
    "COMET INFO:     Observation 1 [89985]       : (0.0021729683127656857, 0.1362578736712033) \n",
    "COMET INFO:     Per-ep reward [89985]       : (75.7138671875, 3156.75) \n",
    "COMET INFO:     Round megabytes sent [89985]: (0.0, 4.5794677734375) \n",
    "COMET INFO:     Round reward [89985]        : (0.0, 0.610595703125) \n",
    "COMET INFO:     Speed [15]                  : (30.62267697903638, 37.659419513245425) \n",
    "COMET INFO:     Station count [89985]       : (50.0, 50.0) \n",
    "COMET INFO:     actor_loss [89985]          : (-1.6751203536987305, 0.0) \n",
    "COMET INFO:     critic_loss [89985]         : (0.0, 1.8867634534835815) \n",
    "COMET INFO:     loss [33578]                : (-1.675074577331543, 0.829047679901123) \n",
    "COMET INFO:   Uploads: \n",
    "COMET INFO:     histogram3d: 89985 \n",
    "COMET INFO: ---------------------------- \n",
    "COMET INFO: Uploading stats to Comet before program termination (may take several seconds) \n",
    " \n",
    "\n",
    "Sent 2258.26 Mb/s.\tMean speed: 37.64 Mb/s\tEpisode 15/15 finished \n",
    " \n",
    "Training finished. "
   ]
  },
  {
   "cell_type": "code",
   "execution_count": null,
   "id": "a3d50173",
   "metadata": {},
   "outputs": [],
   "source": []
  },
  {
   "cell_type": "markdown",
   "id": "36d06ead",
   "metadata": {},
   "source": [
    "# Execution num2:"
   ]
  },
  {
   "cell_type": "code",
   "execution_count": 1,
   "id": "9ab0391a",
   "metadata": {},
   "outputs": [],
   "source": [
    "\n",
    "#%%\n",
    "from ns3gym import ns3env\n",
    "from comet_ml import Experiment, Optimizer\n",
    "import tqdm\n",
    "import subprocess\n",
    "from collections import deque\n",
    "import numpy as np\n",
    "\n",
    "from agents.ddpg.agent import Agent, Config\n",
    "from agents.ddpg.model import Actor\n",
    "from agents.teacher import Teacher, EnvWrapper\n",
    "from preprocessor import Preprocessor"
   ]
  },
  {
   "cell_type": "code",
   "execution_count": 2,
   "id": "4800669b",
   "metadata": {},
   "outputs": [
    {
     "name": "stdout",
     "output_type": "stream",
     "text": [
      "Steps per episode: 6000\n",
      "Waiting for simulation script to connect on port: tcp://localhost:47746\n",
      "Please start proper ns-3 simulation script using ./waf --run \"...\"\n",
      "40.455688|0|50|-nan\n",
      "Observation space shape: (1, 300)\n",
      "Action space shape: (1, 1)\n"
     ]
    }
   ],
   "source": [
    "#%%\n",
    "scenario = \"basic\"\n",
    "\n",
    "simTime = 60 # seconds\n",
    "stepTime = 0.01  # seconds\n",
    "history_length = 300\n",
    "\n",
    "EPISODE_COUNT = 15\n",
    "steps_per_ep = int(simTime/stepTime)\n",
    "\n",
    "sim_args = {\n",
    "    \"simTime\": simTime,\n",
    "    \"envStepTime\": stepTime,\n",
    "    \"historyLength\": history_length,\n",
    "    \"agentType\": Agent.TYPE,\n",
    "    \"scenario\": \"basic\",\n",
    "    \"nWifi\": 50,\n",
    "}\n",
    "\n",
    "print(\"Steps per episode:\", steps_per_ep)\n",
    "\n",
    "threads_no = 1\n",
    "env = EnvWrapper(threads_no, **sim_args)\n",
    "\n",
    "#%%\n",
    "env.reset()\n",
    "ob_space = env.observation_space\n",
    "ac_space = env.action_space\n",
    "\n",
    "print(\"Observation space shape:\", ob_space)\n",
    "print(\"Action space shape:\", ac_space)\n",
    "\n",
    "assert ob_space is not None"
   ]
  },
  {
   "cell_type": "code",
   "execution_count": 3,
   "id": "94d83dfc",
   "metadata": {
    "scrolled": true
   },
   "outputs": [
    {
     "name": "stdout",
     "output_type": "stream",
     "text": [
      "CuDNN version: 7102\n",
      "cpu\n"
     ]
    },
    {
     "name": "stderr",
     "output_type": "stream",
     "text": [
      "COMET INFO: Experiment is live on comet.ml https://www.comet.com/sheila-janota/rl-in-wifi-with-queue-level/d3664d1a18f842bcb81eac328fc7be76\n",
      "\n"
     ]
    },
    {
     "name": "stdout",
     "output_type": "stream",
     "text": [
      "0\n",
      "40.455688|0|50|-nan\n"
     ]
    },
    {
     "name": "stderr",
     "output_type": "stream",
     "text": [
      "  5%|▌         | 334/6300 [03:43<1:04:38,  1.54it/s, curr_speed=21.56 Mbps, mb_sent=7.11 Mb]"
     ]
    },
    {
     "name": "stdout",
     "output_type": "stream",
     "text": [
      "------- STARTED TRAINING -------\n"
     ]
    },
    {
     "name": "stderr",
     "output_type": "stream",
     "text": [
      "100%|██████████| 6300/6300 [1:53:51<00:00,  1.08s/it, curr_speed=30.44 Mbps, mb_sent=1816.88 Mb]\n"
     ]
    },
    {
     "name": "stdout",
     "output_type": "stream",
     "text": [
      "Waiting for simulation script to connect on port: tcp://localhost:16786\n",
      "Please start proper ns-3 simulation script using ./waf --run \"...\"\n",
      "Sent 1816.88 Mb/s.\tMean speed: 30.28 Mb/s\tEpisode 1/15 finished\n",
      "\n",
      "1\n",
      "40.455688|0|50|-nan\n"
     ]
    },
    {
     "name": "stderr",
     "output_type": "stream",
     "text": [
      " 43%|████▎     | 2710/6300 [57:57<1:20:15,  1.34s/it, curr_speed=32.12 Mbps, mb_sent=762.81 Mb]COMET ERROR: File could not be uploaded\n",
      " 43%|████▎     | 2711/6300 [57:58<1:20:04,  1.34s/it, curr_speed=32.16 Mbps, mb_sent=763.15 Mb]COMET ERROR: File could not be uploaded\n",
      " 43%|████▎     | 2712/6300 [58:01<1:19:20,  1.33s/it, curr_speed=32.19 Mbps, mb_sent=763.84 Mb]COMET ERROR: File could not be uploaded\n",
      " 43%|████▎     | 2719/6300 [58:09<1:19:14,  1.33s/it, curr_speed=32.27 Mbps, mb_sent=765.99 Mb]COMET ERROR: File could not be uploaded\n",
      " 43%|████▎     | 2727/6300 [58:19<1:17:48,  1.31s/it, curr_speed=32.28 Mbps, mb_sent=768.68 Mb]COMET ERROR: File could not be uploaded\n",
      " 43%|████▎     | 2729/6300 [58:22<1:16:40,  1.29s/it, curr_speed=32.48 Mbps, mb_sent=769.40 Mb]COMET ERROR: File could not be uploaded\n",
      " 43%|████▎     | 2733/6300 [58:27<1:20:44,  1.36s/it, curr_speed=32.47 Mbps, mb_sent=770.81 Mb]COMET ERROR: File could not be uploaded\n",
      " 43%|████▎     | 2736/6300 [58:31<1:18:52,  1.33s/it, curr_speed=32.59 Mbps, mb_sent=771.87 Mb]COMET ERROR: File could not be uploaded\n",
      " 43%|████▎     | 2737/6300 [58:33<1:19:19,  1.34s/it, curr_speed=32.68 Mbps, mb_sent=772.21 Mb]COMET ERROR: File could not be uploaded\n",
      " 44%|████▎     | 2756/6300 [58:58<1:16:56,  1.30s/it, curr_speed=31.84 Mbps, mb_sent=778.04 Mb]COMET ERROR: File could not be uploaded\n",
      " 44%|████▍     | 2758/6300 [59:00<1:16:53,  1.30s/it, curr_speed=31.79 Mbps, mb_sent=778.69 Mb]COMET ERROR: File could not be uploaded\n",
      " 44%|████▍     | 2759/6300 [59:02<1:17:16,  1.31s/it, curr_speed=31.79 Mbps, mb_sent=779.03 Mb]COMET ERROR: File could not be uploaded\n",
      " 44%|████▍     | 2760/6300 [59:03<1:19:04,  1.34s/it, curr_speed=31.83 Mbps, mb_sent=779.39 Mb]COMET ERROR: File could not be uploaded\n",
      " 44%|████▍     | 2761/6300 [59:04<1:17:39,  1.32s/it, curr_speed=32.03 Mbps, mb_sent=779.70 Mb]COMET ERROR: File could not be uploaded\n",
      " 44%|████▍     | 2762/6300 [59:05<1:16:32,  1.30s/it, curr_speed=32.10 Mbps, mb_sent=780.03 Mb]COMET ERROR: File could not be uploaded\n",
      " 44%|████▍     | 2764/6300 [59:08<1:17:01,  1.31s/it, curr_speed=32.32 Mbps, mb_sent=780.81 Mb]COMET ERROR: File could not be uploaded\n",
      " 44%|████▍     | 2768/6300 [59:13<1:18:45,  1.34s/it, curr_speed=32.95 Mbps, mb_sent=782.28 Mb]COMET ERROR: File could not be uploaded\n",
      " 44%|████▍     | 2770/6300 [59:16<1:18:21,  1.33s/it, curr_speed=33.53 Mbps, mb_sent=783.02 Mb]COMET ERROR: File could not be uploaded\n",
      " 44%|████▍     | 2773/6300 [59:20<1:17:02,  1.31s/it, curr_speed=33.42 Mbps, mb_sent=783.87 Mb]COMET ERROR: File could not be uploaded\n",
      " 44%|████▍     | 2775/6300 [59:23<1:18:45,  1.34s/it, curr_speed=33.53 Mbps, mb_sent=784.69 Mb]COMET ERROR: File could not be uploaded\n",
      " 44%|████▍     | 2776/6300 [59:24<1:20:04,  1.36s/it, curr_speed=33.63 Mbps, mb_sent=785.03 Mb]COMET ERROR: File could not be uploaded\n",
      " 44%|████▍     | 2786/6300 [59:37<1:15:24,  1.29s/it, curr_speed=33.27 Mbps, mb_sent=787.95 Mb]COMET ERROR: File could not be uploaded\n",
      " 44%|████▍     | 2788/6300 [59:40<1:16:10,  1.30s/it, curr_speed=33.24 Mbps, mb_sent=788.60 Mb]COMET ERROR: File could not be uploaded\n",
      " 44%|████▍     | 2789/6300 [59:41<1:16:51,  1.31s/it, curr_speed=33.31 Mbps, mb_sent=788.89 Mb]COMET ERROR: File could not be uploaded\n",
      " 44%|████▍     | 2791/6300 [59:44<1:15:40,  1.29s/it, curr_speed=33.42 Mbps, mb_sent=789.60 Mb]COMET ERROR: File could not be uploaded\n",
      " 44%|████▍     | 2795/6300 [59:49<1:15:31,  1.29s/it, curr_speed=32.92 Mbps, mb_sent=790.38 Mb]COMET ERROR: File could not be uploaded\n",
      "100%|██████████| 6300/6300 [2:17:20<00:00,  1.31s/it, curr_speed=32.57 Mbps, mb_sent=1922.13 Mb]  \n"
     ]
    },
    {
     "name": "stdout",
     "output_type": "stream",
     "text": [
      "Waiting for simulation script to connect on port: tcp://localhost:14888\n",
      "Please start proper ns-3 simulation script using ./waf --run \"...\"\n",
      "Sent 1922.13 Mb/s.\tMean speed: 32.04 Mb/s\tEpisode 2/15 finished\n",
      "\n",
      "2\n",
      "40.455688|0|50|-nan\n"
     ]
    },
    {
     "name": "stderr",
     "output_type": "stream",
     "text": [
      " 10%|▉         | 608/6300 [12:56<2:11:39,  1.39s/it, curr_speed=34.12 Mbps, mb_sent=100.88 Mb]COMET ERROR: File could not be uploaded\n",
      " 10%|▉         | 609/6300 [12:58<2:07:59,  1.35s/it, curr_speed=34.10 Mbps, mb_sent=101.23 Mb]COMET ERROR: File could not be uploaded\n",
      " 26%|██▋       | 1666/6300 [36:04<1:51:50,  1.45s/it, curr_speed=33.24 Mbps, mb_sent=459.49 Mb]COMET ERROR: File could not be uploaded\n",
      " 27%|██▋       | 1670/6300 [36:10<1:51:32,  1.45s/it, curr_speed=33.73 Mbps, mb_sent=460.98 Mb]COMET ERROR: File could not be uploaded\n",
      "100%|██████████| 6300/6300 [2:15:40<00:00,  1.29s/it, curr_speed=35.54 Mbps, mb_sent=2066.03 Mb]  \n"
     ]
    },
    {
     "name": "stdout",
     "output_type": "stream",
     "text": [
      "Waiting for simulation script to connect on port: tcp://localhost:43055\n",
      "Please start proper ns-3 simulation script using ./waf --run \"...\"\n",
      "Sent 2066.03 Mb/s.\tMean speed: 34.43 Mb/s\tEpisode 3/15 finished\n",
      "\n",
      "3\n",
      "40.455688|0|50|-nan\n"
     ]
    },
    {
     "name": "stderr",
     "output_type": "stream",
     "text": [
      "100%|██████████| 6300/6300 [2:13:40<00:00,  1.27s/it, curr_speed=34.32 Mbps, mb_sent=1953.87 Mb]  \n"
     ]
    },
    {
     "name": "stdout",
     "output_type": "stream",
     "text": [
      "Waiting for simulation script to connect on port: tcp://localhost:34453\n",
      "Please start proper ns-3 simulation script using ./waf --run \"...\"\n",
      "Sent 1953.87 Mb/s.\tMean speed: 32.56 Mb/s\tEpisode 4/15 finished\n",
      "\n",
      "4\n",
      "40.455688|0|50|-nan\n"
     ]
    },
    {
     "name": "stderr",
     "output_type": "stream",
     "text": [
      "  5%|▍         | 305/6300 [06:03<2:09:18,  1.29s/it, curr_speed=33.23 Mbps, mb_sent=1.33 Mb]"
     ]
    },
    {
     "name": "stdout",
     "output_type": "stream",
     "text": [
      "------- MEMORY BUFFER FILLED -------\n"
     ]
    },
    {
     "name": "stderr",
     "output_type": "stream",
     "text": [
      "100%|██████████| 6300/6300 [2:15:48<00:00,  1.29s/it, curr_speed=34.06 Mbps, mb_sent=2120.63 Mb]  \n"
     ]
    },
    {
     "name": "stdout",
     "output_type": "stream",
     "text": [
      "Waiting for simulation script to connect on port: tcp://localhost:15923\n",
      "Please start proper ns-3 simulation script using ./waf --run \"...\"\n",
      "Sent 2120.63 Mb/s.\tMean speed: 35.34 Mb/s\tEpisode 5/15 finished\n",
      "\n",
      "5\n",
      "40.455688|0|50|-nan\n"
     ]
    },
    {
     "name": "stderr",
     "output_type": "stream",
     "text": [
      "100%|██████████| 6300/6300 [2:14:23<00:00,  1.28s/it, curr_speed=36.66 Mbps, mb_sent=2218.74 Mb]  \n"
     ]
    },
    {
     "name": "stdout",
     "output_type": "stream",
     "text": [
      "Waiting for simulation script to connect on port: tcp://localhost:30084\n",
      "Please start proper ns-3 simulation script using ./waf --run \"...\"\n",
      "Sent 2218.74 Mb/s.\tMean speed: 36.98 Mb/s\tEpisode 6/15 finished\n",
      "\n",
      "6\n",
      "40.455688|0|50|-nan\n"
     ]
    },
    {
     "name": "stderr",
     "output_type": "stream",
     "text": [
      "100%|██████████| 6300/6300 [2:13:30<00:00,  1.27s/it, curr_speed=37.40 Mbps, mb_sent=2246.05 Mb]  \n"
     ]
    },
    {
     "name": "stdout",
     "output_type": "stream",
     "text": [
      "Waiting for simulation script to connect on port: tcp://localhost:34880\n",
      "Please start proper ns-3 simulation script using ./waf --run \"...\"\n",
      "Sent 2246.05 Mb/s.\tMean speed: 37.43 Mb/s\tEpisode 7/15 finished\n",
      "\n",
      "7\n",
      "40.455688|0|50|-nan\n"
     ]
    },
    {
     "name": "stderr",
     "output_type": "stream",
     "text": [
      " 55%|█████▌    | 3466/6300 [1:12:54<1:05:16,  1.38s/it, curr_speed=37.81 Mbps, mb_sent=1189.48 Mb]COMET ERROR: File could not be uploaded\n",
      " 55%|█████▌    | 3467/6300 [1:12:55<1:02:58,  1.33s/it, curr_speed=37.80 Mbps, mb_sent=1189.82 Mb]COMET ERROR: File could not be uploaded\n",
      " 55%|█████▌    | 3468/6300 [1:12:56<1:02:02,  1.31s/it, curr_speed=37.80 Mbps, mb_sent=1190.23 Mb]COMET ERROR: File could not be uploaded\n",
      " 55%|█████▌    | 3469/6300 [1:12:58<1:01:41,  1.31s/it, curr_speed=37.70 Mbps, mb_sent=1190.57 Mb]COMET ERROR: File could not be uploaded\n",
      " 91%|█████████ | 5713/6300 [2:00:37<13:27,  1.37s/it, curr_speed=37.85 Mbps, mb_sent=2035.74 Mb]  COMET ERROR: File could not be uploaded\n",
      " 91%|█████████ | 5716/6300 [2:00:42<14:40,  1.51s/it, curr_speed=37.75 Mbps, mb_sent=2036.80 Mb]COMET ERROR: File could not be uploaded\n",
      "100%|██████████| 6300/6300 [2:14:10<00:00,  1.28s/it, curr_speed=37.46 Mbps, mb_sent=2256.64 Mb]\n"
     ]
    },
    {
     "name": "stdout",
     "output_type": "stream",
     "text": [
      "Waiting for simulation script to connect on port: tcp://localhost:49467\n",
      "Please start proper ns-3 simulation script using ./waf --run \"...\"\n",
      "Sent 2256.64 Mb/s.\tMean speed: 37.61 Mb/s\tEpisode 8/15 finished\n",
      "\n",
      "8\n",
      "40.455688|0|50|-nan\n"
     ]
    },
    {
     "name": "stderr",
     "output_type": "stream",
     "text": [
      "100%|██████████| 6300/6300 [2:11:14<00:00,  1.25s/it, curr_speed=37.99 Mbps, mb_sent=2262.38 Mb]  \n"
     ]
    },
    {
     "name": "stdout",
     "output_type": "stream",
     "text": [
      "Waiting for simulation script to connect on port: tcp://localhost:39962\n",
      "Please start proper ns-3 simulation script using ./waf --run \"...\"\n",
      "Sent 2262.38 Mb/s.\tMean speed: 37.71 Mb/s\tEpisode 9/15 finished\n",
      "\n",
      "9\n",
      "40.455688|0|50|-nan\n"
     ]
    },
    {
     "name": "stderr",
     "output_type": "stream",
     "text": [
      "100%|██████████| 6300/6300 [2:14:46<00:00,  1.28s/it, curr_speed=37.98 Mbps, mb_sent=2262.07 Mb]  \n"
     ]
    },
    {
     "name": "stdout",
     "output_type": "stream",
     "text": [
      "Waiting for simulation script to connect on port: tcp://localhost:29820\n",
      "Please start proper ns-3 simulation script using ./waf --run \"...\"\n",
      "Sent 2262.07 Mb/s.\tMean speed: 37.70 Mb/s\tEpisode 10/15 finished\n",
      "\n",
      "10\n",
      "40.455688|0|50|-nan\n"
     ]
    },
    {
     "name": "stderr",
     "output_type": "stream",
     "text": [
      "100%|██████████| 6300/6300 [2:14:52<00:00,  1.28s/it, curr_speed=37.86 Mbps, mb_sent=2266.87 Mb]  \n"
     ]
    },
    {
     "name": "stdout",
     "output_type": "stream",
     "text": [
      "Waiting for simulation script to connect on port: tcp://localhost:45993\n",
      "Please start proper ns-3 simulation script using ./waf --run \"...\"\n",
      "Sent 2266.87 Mb/s.\tMean speed: 37.78 Mb/s\tEpisode 11/15 finished\n",
      "\n",
      "11\n",
      "40.455688|0|50|-nan\n"
     ]
    },
    {
     "name": "stderr",
     "output_type": "stream",
     "text": [
      " 86%|████████▌ | 5426/6300 [1:57:11<18:36,  1.28s/it, curr_speed=37.41 Mbps, mb_sent=1935.70 Mb]  COMET ERROR: File could not be uploaded\n",
      " 89%|████████▉ | 5630/6300 [2:01:39<15:15,  1.37s/it, curr_speed=37.43 Mbps, mb_sent=2012.83 Mb]COMET ERROR: File could not be uploaded\n",
      "COMET ERROR: File could not be uploaded\n",
      " 89%|████████▉ | 5638/6300 [2:01:50<14:32,  1.32s/it, curr_speed=37.35 Mbps, mb_sent=2015.85 Mb]COMET ERROR: File could not be uploaded\n",
      " 90%|████████▉ | 5642/6300 [2:01:55<14:38,  1.33s/it, curr_speed=37.35 Mbps, mb_sent=2017.38 Mb]COMET ERROR: File could not be uploaded\n",
      " 90%|████████▉ | 5648/6300 [2:02:03<14:27,  1.33s/it, curr_speed=37.50 Mbps, mb_sent=2019.78 Mb]COMET ERROR: File could not be uploaded\n",
      " 90%|████████▉ | 5653/6300 [2:02:10<14:14,  1.32s/it, curr_speed=37.71 Mbps, mb_sent=2021.68 Mb]COMET ERROR: File could not be uploaded\n",
      " 90%|████████▉ | 5657/6300 [2:02:15<14:10,  1.32s/it, curr_speed=37.69 Mbps, mb_sent=2023.22 Mb]COMET ERROR: File could not be uploaded\n",
      " 90%|████████▉ | 5658/6300 [2:02:17<14:24,  1.35s/it, curr_speed=37.71 Mbps, mb_sent=2023.60 Mb]COMET ERROR: File could not be uploaded\n",
      " 90%|████████▉ | 5666/6300 [2:02:27<14:15,  1.35s/it, curr_speed=37.72 Mbps, mb_sent=2026.57 Mb]COMET ERROR: File could not be uploaded\n",
      " 90%|████████▉ | 5667/6300 [2:02:29<14:12,  1.35s/it, curr_speed=37.71 Mbps, mb_sent=2026.95 Mb]COMET ERROR: File could not be uploaded\n",
      " 90%|█████████ | 5672/6300 [2:02:35<13:41,  1.31s/it, curr_speed=37.84 Mbps, mb_sent=2028.83 Mb]COMET ERROR: File could not be uploaded\n",
      " 90%|█████████ | 5677/6300 [2:02:42<13:27,  1.30s/it, curr_speed=37.82 Mbps, mb_sent=2030.75 Mb]COMET ERROR: File could not be uploaded\n",
      " 91%|█████████ | 5740/6300 [2:04:04<12:12,  1.31s/it, curr_speed=37.83 Mbps, mb_sent=2054.41 Mb]COMET ERROR: File could not be uploaded\n",
      " 91%|█████████ | 5742/6300 [2:04:07<12:25,  1.34s/it, curr_speed=37.82 Mbps, mb_sent=2055.20 Mb]COMET ERROR: File could not be uploaded\n",
      " 91%|█████████ | 5743/6300 [2:04:08<12:27,  1.34s/it, curr_speed=37.80 Mbps, mb_sent=2055.58 Mb]COMET ERROR: File could not be uploaded\n",
      " 91%|█████████ | 5746/6300 [2:04:12<12:18,  1.33s/it, curr_speed=37.66 Mbps, mb_sent=2056.65 Mb]COMET ERROR: File could not be uploaded\n",
      " 91%|█████████▏| 5753/6300 [2:04:21<11:50,  1.30s/it, curr_speed=37.60 Mbps, mb_sent=2059.27 Mb]COMET ERROR: File could not be uploaded\n",
      " 91%|█████████▏| 5755/6300 [2:04:24<11:52,  1.31s/it, curr_speed=37.60 Mbps, mb_sent=2060.05 Mb]COMET ERROR: File could not be uploaded\n",
      " 91%|█████████▏| 5759/6300 [2:04:29<12:05,  1.34s/it, curr_speed=37.62 Mbps, mb_sent=2061.63 Mb]COMET ERROR: File could not be uploaded\n",
      " 91%|█████████▏| 5760/6300 [2:04:31<12:09,  1.35s/it, curr_speed=37.62 Mbps, mb_sent=2061.99 Mb]COMET ERROR: File could not be uploaded\n",
      " 94%|█████████▍| 5934/6300 [2:08:19<08:08,  1.34s/it, curr_speed=37.73 Mbps, mb_sent=2127.35 Mb]COMET ERROR: File could not be uploaded\n",
      " 94%|█████████▍| 5936/6300 [2:08:21<08:09,  1.34s/it, curr_speed=37.66 Mbps, mb_sent=2128.07 Mb]COMET ERROR: File could not be uploaded\n",
      " 94%|█████████▍| 5940/6300 [2:08:26<07:47,  1.30s/it, curr_speed=37.70 Mbps, mb_sent=2129.62 Mb]COMET ERROR: File could not be uploaded\n",
      " 94%|█████████▍| 5947/6300 [2:08:35<07:30,  1.27s/it, curr_speed=37.76 Mbps, mb_sent=2132.24 Mb]COMET ERROR: File could not be uploaded\n",
      " 94%|█████████▍| 5948/6300 [2:08:37<07:40,  1.31s/it, curr_speed=37.69 Mbps, mb_sent=2132.60 Mb]COMET ERROR: File could not be uploaded\n",
      " 94%|█████████▍| 5950/6300 [2:08:39<07:39,  1.31s/it, curr_speed=37.64 Mbps, mb_sent=2133.33 Mb]COMET ERROR: File could not be uploaded\n",
      " 94%|█████████▍| 5951/6300 [2:08:41<07:36,  1.31s/it, curr_speed=37.56 Mbps, mb_sent=2133.67 Mb]COMET ERROR: File could not be uploaded\n",
      " 95%|█████████▍| 5957/6300 [2:08:49<07:24,  1.30s/it, curr_speed=37.46 Mbps, mb_sent=2135.86 Mb]COMET ERROR: File could not be uploaded\n",
      " 95%|█████████▍| 5958/6300 [2:08:50<07:24,  1.30s/it, curr_speed=37.50 Mbps, mb_sent=2136.24 Mb]COMET ERROR: File could not be uploaded\n",
      " 95%|█████████▍| 5959/6300 [2:08:51<07:23,  1.30s/it, curr_speed=37.46 Mbps, mb_sent=2136.59 Mb]COMET ERROR: File could not be uploaded\n",
      " 95%|█████████▍| 5964/6300 [2:08:58<07:13,  1.29s/it, curr_speed=37.45 Mbps, mb_sent=2138.42 Mb]COMET ERROR: File could not be uploaded\n",
      " 95%|█████████▍| 5978/6300 [2:09:16<07:00,  1.31s/it, curr_speed=37.19 Mbps, mb_sent=2143.59 Mb]COMET ERROR: File could not be uploaded\n",
      " 95%|█████████▌| 5988/6300 [2:09:29<06:54,  1.33s/it, curr_speed=37.44 Mbps, mb_sent=2147.49 Mb]COMET ERROR: File could not be uploaded\n",
      " 95%|█████████▌| 5989/6300 [2:09:30<06:54,  1.33s/it, curr_speed=37.44 Mbps, mb_sent=2147.89 Mb]COMET ERROR: File could not be uploaded\n",
      " 95%|█████████▌| 5990/6300 [2:09:32<06:56,  1.34s/it, curr_speed=37.42 Mbps, mb_sent=2148.24 Mb]COMET ERROR: File could not be uploaded\n",
      " 95%|█████████▌| 5996/6300 [2:09:39<06:36,  1.30s/it, curr_speed=37.40 Mbps, mb_sent=2150.46 Mb]COMET ERROR: File could not be uploaded\n",
      " 95%|█████████▌| 6002/6300 [2:09:47<06:31,  1.31s/it, curr_speed=37.32 Mbps, mb_sent=2152.71 Mb]COMET ERROR: File could not be uploaded\n",
      " 95%|█████████▌| 6009/6300 [2:09:56<06:19,  1.30s/it, curr_speed=37.40 Mbps, mb_sent=2155.41 Mb]COMET ERROR: File could not be uploaded\n",
      " 95%|█████████▌| 6011/6300 [2:09:59<06:13,  1.29s/it, curr_speed=37.38 Mbps, mb_sent=2156.11 Mb]COMET ERROR: File could not be uploaded\n",
      " 95%|█████████▌| 6012/6300 [2:10:00<06:11,  1.29s/it, curr_speed=37.33 Mbps, mb_sent=2156.46 Mb]COMET ERROR: File could not be uploaded\n",
      " 95%|█████████▌| 6015/6300 [2:10:04<06:07,  1.29s/it, curr_speed=37.31 Mbps, mb_sent=2157.59 Mb]COMET ERROR: File could not be uploaded\n",
      " 96%|█████████▌| 6019/6300 [2:10:09<06:04,  1.30s/it, curr_speed=37.36 Mbps, mb_sent=2159.14 Mb]COMET ERROR: File could not be uploaded\n",
      " 96%|█████████▌| 6023/6300 [2:10:15<06:09,  1.33s/it, curr_speed=37.54 Mbps, mb_sent=2160.72 Mb]COMET ERROR: File could not be uploaded\n",
      " 96%|█████████▌| 6024/6300 [2:10:16<06:07,  1.33s/it, curr_speed=37.54 Mbps, mb_sent=2161.12 Mb]COMET ERROR: File could not be uploaded\n",
      " 96%|█████████▌| 6029/6300 [2:10:23<05:52,  1.30s/it, curr_speed=37.61 Mbps, mb_sent=2163.08 Mb]COMET ERROR: File could not be uploaded\n",
      " 96%|█████████▌| 6035/6300 [2:10:31<05:55,  1.34s/it, curr_speed=37.69 Mbps, mb_sent=2165.36 Mb]COMET ERROR: File could not be uploaded\n",
      " 96%|█████████▌| 6036/6300 [2:10:32<05:52,  1.33s/it, curr_speed=37.70 Mbps, mb_sent=2165.76 Mb]COMET ERROR: File could not be uploaded\n",
      " 96%|█████████▌| 6043/6300 [2:10:41<05:34,  1.30s/it, curr_speed=37.65 Mbps, mb_sent=2168.41 Mb]COMET ERROR: File could not be uploaded\n",
      "100%|██████████| 6300/6300 [2:16:12<00:00,  1.30s/it, curr_speed=37.75 Mbps, mb_sent=2265.21 Mb]\n"
     ]
    },
    {
     "name": "stdout",
     "output_type": "stream",
     "text": [
      "Waiting for simulation script to connect on port: tcp://localhost:28571\n",
      "Please start proper ns-3 simulation script using ./waf --run \"...\"\n",
      "Sent 2265.21 Mb/s.\tMean speed: 37.75 Mb/s\tEpisode 12/15 finished\n",
      "\n",
      "12\n",
      "Turning off noise\n",
      "40.455688|0|50|-nan\n"
     ]
    },
    {
     "name": "stderr",
     "output_type": "stream",
     "text": [
      "100%|██████████| 6300/6300 [2:17:56<00:00,  1.31s/it, curr_speed=38.03 Mbps, mb_sent=2269.00 Mb]  \n"
     ]
    },
    {
     "name": "stdout",
     "output_type": "stream",
     "text": [
      "Waiting for simulation script to connect on port: tcp://localhost:32280\n",
      "Please start proper ns-3 simulation script using ./waf --run \"...\"\n",
      "Sent 2269.00 Mb/s.\tMean speed: 37.82 Mb/s\tEpisode 13/15 finished\n",
      "\n",
      "13\n",
      "Turning off noise\n",
      "40.455688|0|50|-nan\n"
     ]
    },
    {
     "name": "stderr",
     "output_type": "stream",
     "text": [
      " 14%|█▍        | 900/6300 [18:57<2:09:19,  1.44s/it, curr_speed=37.81 Mbps, mb_sent=224.45 Mb]COMET ERROR: File could not be uploaded\n",
      "100%|██████████| 6300/6300 [2:16:47<00:00,  1.30s/it, curr_speed=37.84 Mbps, mb_sent=2266.56 Mb]  \n"
     ]
    },
    {
     "name": "stdout",
     "output_type": "stream",
     "text": [
      "Waiting for simulation script to connect on port: tcp://localhost:33528\n",
      "Please start proper ns-3 simulation script using ./waf --run \"...\"\n",
      "Sent 2266.56 Mb/s.\tMean speed: 37.78 Mb/s\tEpisode 14/15 finished\n",
      "\n",
      "14\n",
      "Turning off noise\n",
      "40.455688|0|50|-nan\n"
     ]
    },
    {
     "name": "stderr",
     "output_type": "stream",
     "text": [
      " 19%|█▉        | 1214/6300 [26:01<1:57:56,  1.39s/it, curr_speed=37.63 Mbps, mb_sent=343.63 Mb]COMET ERROR: File could not be uploaded\n",
      " 19%|█▉        | 1218/6300 [26:07<2:04:01,  1.46s/it, curr_speed=37.66 Mbps, mb_sent=345.24 Mb]COMET ERROR: File could not be uploaded\n",
      "100%|██████████| 6300/6300 [2:26:50<00:00,  1.40s/it, curr_speed=37.90 Mbps, mb_sent=2271.08 Mb]  \n"
     ]
    },
    {
     "name": "stdout",
     "output_type": "stream",
     "text": [
      "Waiting for simulation script to connect on port: tcp://localhost:44449\n",
      "Please start proper ns-3 simulation script using ./waf --run \"...\"\n"
     ]
    },
    {
     "name": "stderr",
     "output_type": "stream",
     "text": [
      "COMET INFO: ----------------------------\n",
      "COMET INFO: Comet.ml Experiment Summary:\n",
      "COMET INFO:   Data:\n",
      "COMET INFO:     url: https://www.comet.com/sheila-janota/rl-in-wifi-with-queue-level/d3664d1a18f842bcb81eac328fc7be76\n",
      "COMET INFO:   Metrics [count] (min, max):\n",
      "COMET INFO:     Chosen CW [89985]           : (16.0, 1024.0)\n",
      "COMET INFO:     Cumulative reward [15]      : (2506.4208984375, 3136.153564453125)\n",
      "COMET INFO:     Current throughput [89985]  : (16.6201171875, 40.835445404052734)\n",
      "COMET INFO:     Fairness index [89985]      : (0.47888100147247314, 0.9994999766349792)\n",
      "COMET INFO:     Megabytes sent [89985]      : (0.3239139914512634, 2271.0809356570244)\n",
      "COMET INFO:     Observation 0 [89985]       : (0.3467385637853294, 0.9747385615110398)\n",
      "COMET INFO:     Observation 1 [89985]       : (0.002444799969962582, 0.16550331716330957)\n",
      "COMET INFO:     Per-ep reward [89985]       : (84.44091796875, 3136.153564453125)\n",
      "COMET INFO:     Round megabytes sent [89985]: (0.0, 7.606383800506592)\n",
      "COMET INFO:     Round reward [89985]        : (0.0, 0.610595703125)\n",
      "COMET INFO:     Speed [15]                  : (30.281265169382095, 37.851348927617074)\n",
      "COMET INFO:     Station count [89985]       : (50.0, 50.0)\n",
      "COMET INFO:     actor_loss [89985]          : (-1.6802890300750732, 0.0)\n",
      "COMET INFO:     critic_loss [89985]         : (0.0, 2.521996021270752)\n",
      "COMET INFO:     loss [33578]                : (-1.680277705192566, 0.8814820647239685)\n",
      "COMET INFO:   Uploads:\n",
      "COMET INFO:     histogram3d: 89985\n",
      "COMET INFO: ----------------------------\n",
      "COMET INFO: Uploading stats to Comet before program termination (may take several seconds)\n"
     ]
    },
    {
     "name": "stdout",
     "output_type": "stream",
     "text": [
      "Sent 2271.08 Mb/s.\tMean speed: 37.85 Mb/s\tEpisode 15/15 finished\n",
      "\n",
      "Training finished.\n"
     ]
    }
   ],
   "source": [
    "#%%\n",
    "teacher = Teacher(env, 1, Preprocessor(False))\n",
    "\n",
    "lr_actor = 4e-4\n",
    "lr_critic = 4e-3\n",
    "\n",
    "config = Config(buffer_size=4*steps_per_ep*threads_no, batch_size=32, gamma=0.7, tau=1e-3, lr_actor=lr_actor, lr_critic=lr_critic, update_every=1)\n",
    "agent = Agent(history_length, action_size=1, config=config, actor_layers=[8, 128, 16], critic_layers=[8,128,16])\n",
    "\n",
    "# Test the model\n",
    "hyperparams = {**config.__dict__, **sim_args}\n",
    "tags = [\"Rew: normalized speed\",\n",
    "        f\"{Agent.NAME}\",\n",
    "        sim_args['scenario'],\n",
    "        f\"Actor: {lr_actor}\",\n",
    "        f\"Critic: {lr_critic}\",\n",
    "        f\"Instances: {threads_no}\",\n",
    "        f\"Station count: {sim_args['nWifi']}\",\n",
    "        *[f\"{key}: {sim_args[key]}\" for key in list(sim_args)[:3]]]\n",
    "# agent.save()\n",
    "logger = teacher.train(agent, EPISODE_COUNT,\n",
    "                        simTime=simTime,\n",
    "                        stepTime=stepTime,\n",
    "                        history_length=history_length,\n",
    "                        send_logs=True,\n",
    "                        experimental=True,\n",
    "                        tags=tags,\n",
    "                        parameters=hyperparams)\n",
    "# logger = teacher.eval(agent,\n",
    "#                         simTime=simTime,\n",
    "#                         stepTime=stepTime,\n",
    "#                         history_length=history_length,\n",
    "#                         tags=tags,\n",
    "#                         parameters=hyperparams)\n",
    "# agent.save()"
   ]
  },
  {
   "cell_type": "code",
   "execution_count": null,
   "id": "e27ec497",
   "metadata": {},
   "outputs": [],
   "source": []
  },
  {
   "cell_type": "markdown",
   "id": "280f725b",
   "metadata": {},
   "source": [
    "# Execution num3:"
   ]
  },
  {
   "cell_type": "code",
   "execution_count": 1,
   "id": "ff70299f",
   "metadata": {},
   "outputs": [],
   "source": [
    "#%%\n",
    "from ns3gym import ns3env\n",
    "from comet_ml import Experiment, Optimizer\n",
    "import tqdm\n",
    "import subprocess\n",
    "from collections import deque\n",
    "import numpy as np\n",
    "\n",
    "from agents.ddpg.agent import Agent, Config\n",
    "from agents.ddpg.model import Actor\n",
    "from agents.teacher import Teacher, EnvWrapper\n",
    "from preprocessor import Preprocessor"
   ]
  },
  {
   "cell_type": "code",
   "execution_count": 2,
   "id": "12241e44",
   "metadata": {},
   "outputs": [
    {
     "name": "stdout",
     "output_type": "stream",
     "text": [
      "Steps per episode: 6000\n",
      "Waiting for simulation script to connect on port: tcp://localhost:15196\n",
      "Please start proper ns-3 simulation script using ./waf --run \"...\"\n",
      "40.455688|0|50|-nan\n",
      "Observation space shape: (1, 300)\n",
      "Action space shape: (1, 1)\n"
     ]
    }
   ],
   "source": [
    "#%%\n",
    "scenario = \"basic\"\n",
    "\n",
    "simTime = 60 # seconds\n",
    "stepTime = 0.01  # seconds\n",
    "history_length = 300\n",
    "\n",
    "EPISODE_COUNT = 15\n",
    "steps_per_ep = int(simTime/stepTime)\n",
    "\n",
    "sim_args = {\n",
    "    \"simTime\": simTime,\n",
    "    \"envStepTime\": stepTime,\n",
    "    \"historyLength\": history_length,\n",
    "    \"agentType\": Agent.TYPE,\n",
    "    \"scenario\": \"basic\",\n",
    "    \"nWifi\": 50,\n",
    "}\n",
    "\n",
    "print(\"Steps per episode:\", steps_per_ep)\n",
    "\n",
    "threads_no = 1\n",
    "env = EnvWrapper(threads_no, **sim_args)\n",
    "\n",
    "#%%\n",
    "env.reset()\n",
    "ob_space = env.observation_space\n",
    "ac_space = env.action_space\n",
    "\n",
    "print(\"Observation space shape:\", ob_space)\n",
    "print(\"Action space shape:\", ac_space)\n",
    "\n",
    "assert ob_space is not None"
   ]
  },
  {
   "cell_type": "code",
   "execution_count": 3,
   "id": "68bc6130",
   "metadata": {
    "scrolled": true
   },
   "outputs": [
    {
     "name": "stdout",
     "output_type": "stream",
     "text": [
      "CuDNN version: 7102\n",
      "cpu\n"
     ]
    },
    {
     "name": "stderr",
     "output_type": "stream",
     "text": [
      "COMET INFO: Experiment is live on comet.ml https://www.comet.com/sheila-janota/rl-in-wifi-with-queue-level/9da5fdbf68134325a6016020ef5aebd2\n",
      "\n"
     ]
    },
    {
     "name": "stdout",
     "output_type": "stream",
     "text": [
      "0\n",
      "40.455688|0|50|-nan\n"
     ]
    },
    {
     "name": "stderr",
     "output_type": "stream",
     "text": [
      "  5%|▌         | 334/6300 [07:39<2:11:18,  1.32s/it, curr_speed=21.53 Mbps, mb_sent=7.10 Mb]"
     ]
    },
    {
     "name": "stdout",
     "output_type": "stream",
     "text": [
      "------- STARTED TRAINING -------\n"
     ]
    },
    {
     "name": "stderr",
     "output_type": "stream",
     "text": [
      "100%|██████████| 6300/6300 [2:17:32<00:00,  1.31s/it, curr_speed=28.55 Mbps, mb_sent=1812.93 Mb]  \n"
     ]
    },
    {
     "name": "stdout",
     "output_type": "stream",
     "text": [
      "Waiting for simulation script to connect on port: tcp://localhost:48680\n",
      "Please start proper ns-3 simulation script using ./waf --run \"...\"\n",
      "Sent 1812.93 Mb/s.\tMean speed: 30.22 Mb/s\tEpisode 1/15 finished\n",
      "\n",
      "1\n",
      "40.455688|0|50|-nan\n"
     ]
    },
    {
     "name": "stderr",
     "output_type": "stream",
     "text": [
      "100%|██████████| 6300/6300 [2:13:24<00:00,  1.27s/it, curr_speed=31.27 Mbps, mb_sent=1835.24 Mb]  \n"
     ]
    },
    {
     "name": "stdout",
     "output_type": "stream",
     "text": [
      "Waiting for simulation script to connect on port: tcp://localhost:40881\n",
      "Please start proper ns-3 simulation script using ./waf --run \"...\"\n",
      "Sent 1835.24 Mb/s.\tMean speed: 30.59 Mb/s\tEpisode 2/15 finished\n",
      "\n",
      "2\n",
      "40.455688|0|50|-nan\n"
     ]
    },
    {
     "name": "stderr",
     "output_type": "stream",
     "text": [
      "100%|██████████| 6300/6300 [1:33:25<00:00,  1.12it/s, curr_speed=32.45 Mbps, mb_sent=1890.13 Mb]\n"
     ]
    },
    {
     "name": "stdout",
     "output_type": "stream",
     "text": [
      "Waiting for simulation script to connect on port: tcp://localhost:45454\n",
      "Please start proper ns-3 simulation script using ./waf --run \"...\"\n",
      "Sent 1890.13 Mb/s.\tMean speed: 31.50 Mb/s\tEpisode 3/15 finished\n",
      "\n",
      "3\n",
      "40.455688|0|50|-nan\n"
     ]
    },
    {
     "name": "stderr",
     "output_type": "stream",
     "text": [
      "100%|██████████| 6300/6300 [1:05:13<00:00,  1.61it/s, curr_speed=34.28 Mbps, mb_sent=1990.86 Mb]\n"
     ]
    },
    {
     "name": "stdout",
     "output_type": "stream",
     "text": [
      "Waiting for simulation script to connect on port: tcp://localhost:47723\n",
      "Please start proper ns-3 simulation script using ./waf --run \"...\"\n",
      "Sent 1990.86 Mb/s.\tMean speed: 33.18 Mb/s\tEpisode 4/15 finished\n",
      "\n",
      "4\n",
      "40.455688|0|50|-nan\n"
     ]
    },
    {
     "name": "stderr",
     "output_type": "stream",
     "text": [
      "  5%|▍         | 305/6300 [02:56<1:01:10,  1.63it/s, curr_speed=27.37 Mbps, mb_sent=1.09 Mb]"
     ]
    },
    {
     "name": "stdout",
     "output_type": "stream",
     "text": [
      "------- MEMORY BUFFER FILLED -------\n"
     ]
    },
    {
     "name": "stderr",
     "output_type": "stream",
     "text": [
      "100%|██████████| 6300/6300 [1:05:43<00:00,  1.60it/s, curr_speed=34.68 Mbps, mb_sent=2028.12 Mb]\n"
     ]
    },
    {
     "name": "stdout",
     "output_type": "stream",
     "text": [
      "Waiting for simulation script to connect on port: tcp://localhost:15376\n",
      "Please start proper ns-3 simulation script using ./waf --run \"...\"\n",
      "Sent 2028.12 Mb/s.\tMean speed: 33.80 Mb/s\tEpisode 5/15 finished\n",
      "\n",
      "5\n",
      "40.455688|0|50|-nan\n"
     ]
    },
    {
     "name": "stderr",
     "output_type": "stream",
     "text": [
      "100%|██████████| 6300/6300 [1:05:19<00:00,  1.61it/s, curr_speed=36.71 Mbps, mb_sent=2203.18 Mb]\n"
     ]
    },
    {
     "name": "stdout",
     "output_type": "stream",
     "text": [
      "Waiting for simulation script to connect on port: tcp://localhost:26626\n",
      "Please start proper ns-3 simulation script using ./waf --run \"...\"\n",
      "Sent 2203.18 Mb/s.\tMean speed: 36.72 Mb/s\tEpisode 6/15 finished\n",
      "\n",
      "6\n",
      "40.455688|0|50|-nan\n"
     ]
    },
    {
     "name": "stderr",
     "output_type": "stream",
     "text": [
      "100%|██████████| 6300/6300 [1:05:09<00:00,  1.61it/s, curr_speed=37.17 Mbps, mb_sent=2243.08 Mb]\n"
     ]
    },
    {
     "name": "stdout",
     "output_type": "stream",
     "text": [
      "Waiting for simulation script to connect on port: tcp://localhost:31421\n",
      "Please start proper ns-3 simulation script using ./waf --run \"...\"\n",
      "Sent 2243.08 Mb/s.\tMean speed: 37.38 Mb/s\tEpisode 7/15 finished\n",
      "\n",
      "7\n",
      "40.455688|0|50|-nan\n"
     ]
    },
    {
     "name": "stderr",
     "output_type": "stream",
     "text": [
      "100%|██████████| 6300/6300 [1:05:55<00:00,  1.59it/s, curr_speed=38.04 Mbps, mb_sent=2259.86 Mb]\n"
     ]
    },
    {
     "name": "stdout",
     "output_type": "stream",
     "text": [
      "Waiting for simulation script to connect on port: tcp://localhost:44357\n",
      "Please start proper ns-3 simulation script using ./waf --run \"...\"\n",
      "Sent 2259.86 Mb/s.\tMean speed: 37.66 Mb/s\tEpisode 8/15 finished\n",
      "\n",
      "8\n",
      "40.455688|0|50|-nan\n"
     ]
    },
    {
     "name": "stderr",
     "output_type": "stream",
     "text": [
      "100%|██████████| 6300/6300 [1:06:45<00:00,  1.57it/s, curr_speed=37.27 Mbps, mb_sent=2253.72 Mb]\n"
     ]
    },
    {
     "name": "stdout",
     "output_type": "stream",
     "text": [
      "Waiting for simulation script to connect on port: tcp://localhost:33153\n",
      "Please start proper ns-3 simulation script using ./waf --run \"...\"\n",
      "Sent 2253.72 Mb/s.\tMean speed: 37.56 Mb/s\tEpisode 9/15 finished\n",
      "\n",
      "9\n",
      "40.455688|0|50|-nan\n"
     ]
    },
    {
     "name": "stderr",
     "output_type": "stream",
     "text": [
      " 67%|██████▋   | 4214/6300 [44:29<24:37,  1.41it/s, curr_speed=37.51 Mbps, mb_sent=1457.62 Mb] COMET ERROR: File could not be uploaded\n",
      " 67%|██████▋   | 4215/6300 [44:30<25:31,  1.36it/s, curr_speed=37.50 Mbps, mb_sent=1458.02 Mb]COMET ERROR: File could not be uploaded\n",
      " 67%|██████▋   | 4216/6300 [44:31<25:49,  1.34it/s, curr_speed=37.53 Mbps, mb_sent=1458.40 Mb]COMET ERROR: File could not be uploaded\n",
      " 67%|██████▋   | 4219/6300 [44:33<27:25,  1.26it/s, curr_speed=37.56 Mbps, mb_sent=1459.52 Mb]COMET ERROR: File could not be uploaded\n",
      "COMET ERROR: File could not be uploaded\n",
      "100%|██████████| 6300/6300 [1:08:11<00:00,  1.54it/s, curr_speed=36.59 Mbps, mb_sent=2235.93 Mb]\n"
     ]
    },
    {
     "name": "stdout",
     "output_type": "stream",
     "text": [
      "Waiting for simulation script to connect on port: tcp://localhost:43222\n",
      "Please start proper ns-3 simulation script using ./waf --run \"...\"\n",
      "Sent 2235.93 Mb/s.\tMean speed: 37.27 Mb/s\tEpisode 10/15 finished\n",
      "\n",
      "10\n",
      "40.455688|0|50|-nan\n"
     ]
    },
    {
     "name": "stderr",
     "output_type": "stream",
     "text": [
      " 20%|██        | 1261/6300 [13:30<54:09,  1.55it/s, curr_speed=37.19 Mbps, mb_sent=359.02 Mb]  COMET ERROR: File could not be uploaded\n",
      " 20%|██        | 1263/6300 [13:32<54:51,  1.53it/s, curr_speed=37.13 Mbps, mb_sent=359.69 Mb]COMET ERROR: File could not be uploaded\n",
      " 20%|██        | 1265/6300 [13:33<54:36,  1.54it/s, curr_speed=37.10 Mbps, mb_sent=360.38 Mb]COMET ERROR: File could not be uploaded\n",
      " 20%|██        | 1274/6300 [13:39<1:01:04,  1.37it/s, curr_speed=37.13 Mbps, mb_sent=363.77 Mb]COMET ERROR: File could not be uploaded\n",
      " 20%|██        | 1275/6300 [13:40<59:47,  1.40it/s, curr_speed=37.06 Mbps, mb_sent=364.09 Mb]  COMET ERROR: File could not be uploaded\n",
      " 20%|██        | 1278/6300 [13:42<59:27,  1.41it/s, curr_speed=37.09 Mbps, mb_sent=365.25 Mb]COMET ERROR: File could not be uploaded\n",
      " 20%|██        | 1281/6300 [13:44<58:25,  1.43it/s, curr_speed=36.99 Mbps, mb_sent=366.32 Mb]COMET ERROR: File could not be uploaded\n",
      " 20%|██        | 1284/6300 [13:46<58:28,  1.43it/s, curr_speed=37.08 Mbps, mb_sent=367.50 Mb]COMET ERROR: File could not be uploaded\n",
      " 20%|██        | 1285/6300 [13:47<57:20,  1.46it/s, curr_speed=37.09 Mbps, mb_sent=367.87 Mb]COMET ERROR: File could not be uploaded\n",
      " 20%|██        | 1287/6300 [13:48<55:49,  1.50it/s, curr_speed=37.12 Mbps, mb_sent=368.61 Mb]COMET ERROR: File could not be uploaded\n",
      " 21%|██        | 1292/6300 [13:51<56:28,  1.48it/s, curr_speed=36.95 Mbps, mb_sent=370.33 Mb]COMET ERROR: File could not be uploaded\n",
      "100%|██████████| 6300/6300 [1:08:05<00:00,  1.54it/s, curr_speed=37.55 Mbps, mb_sent=2241.39 Mb]\n"
     ]
    },
    {
     "name": "stdout",
     "output_type": "stream",
     "text": [
      "Waiting for simulation script to connect on port: tcp://localhost:45367\n",
      "Please start proper ns-3 simulation script using ./waf --run \"...\"\n",
      "Sent 2241.39 Mb/s.\tMean speed: 37.36 Mb/s\tEpisode 11/15 finished\n",
      "\n",
      "11\n",
      "40.455688|0|50|-nan\n"
     ]
    },
    {
     "name": "stderr",
     "output_type": "stream",
     "text": [
      "100%|██████████| 6300/6300 [1:08:12<00:00,  1.54it/s, curr_speed=37.47 Mbps, mb_sent=2266.85 Mb]\n"
     ]
    },
    {
     "name": "stdout",
     "output_type": "stream",
     "text": [
      "Waiting for simulation script to connect on port: tcp://localhost:21061\n",
      "Please start proper ns-3 simulation script using ./waf --run \"...\"\n",
      "Sent 2266.85 Mb/s.\tMean speed: 37.78 Mb/s\tEpisode 12/15 finished\n",
      "\n",
      "12\n",
      "Turning off noise\n",
      "40.455688|0|50|-nan\n"
     ]
    },
    {
     "name": "stderr",
     "output_type": "stream",
     "text": [
      " 38%|███▊      | 2375/6300 [25:22<41:06,  1.59it/s, curr_speed=38.08 Mbps, mb_sent=786.02 Mb]  COMET ERROR: File could not be uploaded\n",
      " 85%|████████▍ | 5330/6300 [57:09<10:06,  1.60it/s, curr_speed=38.20 Mbps, mb_sent=1905.26 Mb]COMET ERROR: File could not be uploaded\n",
      "COMET ERROR: File could not be uploaded\n",
      "COMET ERROR: File could not be uploaded\n",
      "COMET ERROR: File could not be uploaded\n",
      "COMET ERROR: File could not be uploaded\n",
      "COMET ERROR: File could not be uploaded\n",
      "COMET ERROR: File could not be uploaded\n",
      "COMET ERROR: File could not be uploaded\n",
      "COMET ERROR: File could not be uploaded\n",
      "COMET ERROR: File could not be uploaded\n",
      "COMET ERROR: File could not be uploaded\n",
      "COMET ERROR: File could not be uploaded\n",
      "COMET ERROR: File could not be uploaded\n",
      "COMET ERROR: File could not be uploaded\n",
      "COMET ERROR: File could not be uploaded\n",
      "COMET ERROR: File could not be uploaded\n",
      "COMET ERROR: File could not be uploaded\n",
      "COMET ERROR: File could not be uploaded\n",
      "COMET ERROR: File could not be uploaded\n",
      "COMET ERROR: File could not be uploaded\n",
      "COMET ERROR: File could not be uploaded\n",
      "COMET ERROR: File could not be uploaded\n",
      "COMET ERROR: File could not be uploaded\n",
      "COMET ERROR: File could not be uploaded\n",
      " 85%|████████▍ | 5337/6300 [57:14<10:40,  1.50it/s, curr_speed=38.20 Mbps, mb_sent=1907.88 Mb]COMET ERROR: File could not be uploaded\n",
      "100%|██████████| 6300/6300 [1:07:41<00:00,  1.55it/s, curr_speed=38.28 Mbps, mb_sent=2271.82 Mb]\n"
     ]
    },
    {
     "name": "stdout",
     "output_type": "stream",
     "text": [
      "Waiting for simulation script to connect on port: tcp://localhost:39187\n",
      "Please start proper ns-3 simulation script using ./waf --run \"...\"\n",
      "Sent 2271.82 Mb/s.\tMean speed: 37.86 Mb/s\tEpisode 13/15 finished\n",
      "\n",
      "13\n",
      "Turning off noise\n",
      "40.455688|0|50|-nan\n"
     ]
    },
    {
     "name": "stderr",
     "output_type": "stream",
     "text": [
      "  6%|▌         | 368/6300 [03:42<1:02:17,  1.59it/s, curr_speed=37.13 Mbps, mb_sent=24.87 Mb]COMET ERROR: File could not be uploaded\n",
      "COMET ERROR: File could not be uploaded\n",
      "COMET ERROR: File could not be uploaded\n",
      "COMET ERROR: File could not be uploaded\n",
      "COMET ERROR: File could not be uploaded\n",
      "COMET ERROR: File could not be uploaded\n",
      "COMET ERROR: File could not be uploaded\n",
      "COMET ERROR: File could not be uploaded\n",
      " 34%|███▎      | 2122/6300 [22:39<43:54,  1.59it/s, curr_speed=37.91 Mbps, mb_sent=687.28 Mb]  COMET ERROR: File could not be uploaded\n",
      "COMET ERROR: File could not be uploaded\n",
      "COMET ERROR: File could not be uploaded\n",
      "COMET ERROR: File could not be uploaded\n",
      "COMET ERROR: File could not be uploaded\n",
      "COMET ERROR: File could not be uploaded\n",
      "COMET ERROR: File could not be uploaded\n",
      "COMET ERROR: File could not be uploaded\n",
      "COMET ERROR: File could not be uploaded\n",
      "COMET ERROR: File could not be uploaded\n",
      "COMET ERROR: File could not be uploaded\n",
      "COMET ERROR: File could not be uploaded\n",
      "COMET ERROR: File could not be uploaded\n",
      "COMET ERROR: File could not be uploaded\n",
      "COMET ERROR: File could not be uploaded\n",
      "COMET ERROR: File could not be uploaded\n",
      "COMET ERROR: File could not be uploaded\n",
      "COMET ERROR: File could not be uploaded\n",
      "COMET ERROR: File could not be uploaded\n",
      "COMET ERROR: File could not be uploaded\n",
      "COMET ERROR: File could not be uploaded\n",
      "COMET ERROR: File could not be uploaded\n",
      "COMET ERROR: File could not be uploaded\n",
      " 34%|███▍      | 2129/6300 [22:44<46:50,  1.48it/s, curr_speed=37.93 Mbps, mb_sent=690.03 Mb]COMET ERROR: File could not be uploaded\n",
      " 44%|████▎     | 2743/6300 [30:08<45:03,  1.32it/s, curr_speed=37.67 Mbps, mb_sent=921.81 Mb]  COMET ERROR: File could not be uploaded\n",
      "100%|██████████| 6300/6300 [1:08:44<00:00,  1.53it/s, curr_speed=37.99 Mbps, mb_sent=2267.31 Mb]\n"
     ]
    },
    {
     "name": "stdout",
     "output_type": "stream",
     "text": [
      "Waiting for simulation script to connect on port: tcp://localhost:31596\n",
      "Please start proper ns-3 simulation script using ./waf --run \"...\"\n",
      "Sent 2267.31 Mb/s.\tMean speed: 37.79 Mb/s\tEpisode 14/15 finished\n",
      "\n",
      "14\n",
      "Turning off noise\n",
      "40.455688|0|50|-nan\n"
     ]
    },
    {
     "name": "stderr",
     "output_type": "stream",
     "text": [
      "100%|██████████| 6300/6300 [1:05:15<00:00,  1.61it/s, curr_speed=37.57 Mbps, mb_sent=2269.61 Mb]\n"
     ]
    },
    {
     "name": "stdout",
     "output_type": "stream",
     "text": [
      "Waiting for simulation script to connect on port: tcp://localhost:34837\n",
      "Please start proper ns-3 simulation script using ./waf --run \"...\"\n"
     ]
    },
    {
     "name": "stderr",
     "output_type": "stream",
     "text": [
      "COMET INFO: ----------------------------\n",
      "COMET INFO: Comet.ml Experiment Summary:\n",
      "COMET INFO:   Data:\n",
      "COMET INFO:     url: https://www.comet.com/sheila-janota/rl-in-wifi-with-queue-level/9da5fdbf68134325a6016020ef5aebd2\n",
      "COMET INFO:   Metrics [count] (min, max):\n",
      "COMET INFO:     Chosen CW [89985]           : (16.0, 1024.0)\n",
      "COMET INFO:     Cumulative reward [15]      : (2511.93115234375, 3151.522705078125)\n",
      "COMET INFO:     Current throughput [89985]  : (14.147933959960938, 40.88011932373047)\n",
      "COMET INFO:     Fairness index [89985]      : (0.4679720103740692, 0.999422013759613)\n",
      "COMET INFO:     Megabytes sent [89985]      : (0.23455800116062164, 2271.8180816173553)\n",
      "COMET INFO:     Observation 0 [89985]       : (0.32602483794403575, 0.9749104575316112)\n",
      "COMET INFO:     Observation 1 [89985]       : (0.0021546871932159755, 0.16284696194053888)\n",
      "COMET INFO:     Per-ep reward [89985]       : (94.999755859375, 3151.522705078125)\n",
      "COMET INFO:     Round megabytes sent [89985]: (0.0, 0.4579469859600067)\n",
      "COMET INFO:     Round reward [89985]        : (0.0, 0.610595703125)\n",
      "COMET INFO:     Speed [15]                  : (30.215551739744843, 37.863634693622586)\n",
      "COMET INFO:     Station count [89985]       : (50.0, 50.0)\n",
      "COMET INFO:     actor_loss [89985]          : (-1.6897088289260864, 0.0)\n",
      "COMET INFO:     critic_loss [89985]         : (0.0, 2.3546576499938965)\n",
      "COMET INFO:     loss [33578]                : (-1.68962562084198, 0.893872082233429)\n",
      "COMET INFO:   Uploads:\n",
      "COMET INFO:     histogram3d: 89985\n",
      "COMET INFO: ----------------------------\n",
      "COMET INFO: Uploading stats to Comet before program termination (may take several seconds)\n"
     ]
    },
    {
     "name": "stdout",
     "output_type": "stream",
     "text": [
      "Sent 2269.61 Mb/s.\tMean speed: 37.83 Mb/s\tEpisode 15/15 finished\n",
      "\n",
      "Training finished.\n"
     ]
    }
   ],
   "source": [
    "#%%\n",
    "teacher = Teacher(env, 1, Preprocessor(False))\n",
    "\n",
    "lr_actor = 4e-4\n",
    "lr_critic = 4e-3\n",
    "\n",
    "config = Config(buffer_size=4*steps_per_ep*threads_no, batch_size=32, gamma=0.7, tau=1e-3, lr_actor=lr_actor, lr_critic=lr_critic, update_every=1)\n",
    "agent = Agent(history_length, action_size=1, config=config, actor_layers=[8, 128, 16], critic_layers=[8,128,16])\n",
    "\n",
    "# Test the model\n",
    "hyperparams = {**config.__dict__, **sim_args}\n",
    "tags = [\"Rew: normalized speed\",\n",
    "        f\"{Agent.NAME}\",\n",
    "        sim_args['scenario'],\n",
    "        f\"Actor: {lr_actor}\",\n",
    "        f\"Critic: {lr_critic}\",\n",
    "        f\"Instances: {threads_no}\",\n",
    "        f\"Station count: {sim_args['nWifi']}\",\n",
    "        *[f\"{key}: {sim_args[key]}\" for key in list(sim_args)[:3]]]\n",
    "# agent.save()\n",
    "logger = teacher.train(agent, EPISODE_COUNT,\n",
    "                        simTime=simTime,\n",
    "                        stepTime=stepTime,\n",
    "                        history_length=history_length,\n",
    "                        send_logs=True,\n",
    "                        experimental=True,\n",
    "                        tags=tags,\n",
    "                        parameters=hyperparams)\n",
    "# logger = teacher.eval(agent,\n",
    "#                         simTime=simTime,\n",
    "#                         stepTime=stepTime,\n",
    "#                         history_length=history_length,\n",
    "#                         tags=tags,\n",
    "#                         parameters=hyperparams)\n",
    "# agent.save()"
   ]
  },
  {
   "cell_type": "code",
   "execution_count": null,
   "id": "d67a230b",
   "metadata": {},
   "outputs": [],
   "source": []
  },
  {
   "cell_type": "markdown",
   "id": "ab562f51",
   "metadata": {},
   "source": [
    "# Execution num4:"
   ]
  },
  {
   "cell_type": "code",
   "execution_count": null,
   "id": "37e76d17",
   "metadata": {},
   "outputs": [],
   "source": [
    "#%%\n",
    "from ns3gym import ns3env\n",
    "from comet_ml import Experiment, Optimizer\n",
    "import tqdm\n",
    "import subprocess\n",
    "from collections import deque\n",
    "import numpy as np\n",
    "\n",
    "from agents.ddpg.agent import Agent, Config\n",
    "from agents.ddpg.model import Actor\n",
    "from agents.teacher import Teacher, EnvWrapper\n",
    "from preprocessor import Preprocessor"
   ]
  },
  {
   "cell_type": "code",
   "execution_count": null,
   "id": "658f8dd0",
   "metadata": {},
   "outputs": [],
   "source": [
    "#%%\n",
    "scenario = \"basic\"\n",
    "\n",
    "simTime = 60 # seconds\n",
    "stepTime = 0.01  # seconds\n",
    "history_length = 300\n",
    "\n",
    "EPISODE_COUNT = 15\n",
    "steps_per_ep = int(simTime/stepTime)\n",
    "\n",
    "sim_args = {\n",
    "    \"simTime\": simTime,\n",
    "    \"envStepTime\": stepTime,\n",
    "    \"historyLength\": history_length,\n",
    "    \"agentType\": Agent.TYPE,\n",
    "    \"scenario\": \"basic\",\n",
    "    \"nWifi\": 50,\n",
    "}\n",
    "\n",
    "print(\"Steps per episode:\", steps_per_ep)\n",
    "\n",
    "threads_no = 1\n",
    "env = EnvWrapper(threads_no, **sim_args)\n",
    "\n",
    "#%%\n",
    "env.reset()\n",
    "ob_space = env.observation_space\n",
    "ac_space = env.action_space\n",
    "\n",
    "print(\"Observation space shape:\", ob_space)\n",
    "print(\"Action space shape:\", ac_space)\n",
    "\n",
    "assert ob_space is not None"
   ]
  },
  {
   "cell_type": "code",
   "execution_count": null,
   "id": "dda515d3",
   "metadata": {},
   "outputs": [],
   "source": [
    "#%%\n",
    "teacher = Teacher(env, 1, Preprocessor(False))\n",
    "\n",
    "lr_actor = 4e-4\n",
    "lr_critic = 4e-3\n",
    "\n",
    "config = Config(buffer_size=4*steps_per_ep*threads_no, batch_size=32, gamma=0.7, tau=1e-3, lr_actor=lr_actor, lr_critic=lr_critic, update_every=1)\n",
    "agent = Agent(history_length, action_size=1, config=config, actor_layers=[8, 128, 16], critic_layers=[8,128,16])\n",
    "\n",
    "# Test the model\n",
    "hyperparams = {**config.__dict__, **sim_args}\n",
    "tags = [\"Rew: normalized speed\",\n",
    "        f\"{Agent.NAME}\",\n",
    "        sim_args['scenario'],\n",
    "        f\"Actor: {lr_actor}\",\n",
    "        f\"Critic: {lr_critic}\",\n",
    "        f\"Instances: {threads_no}\",\n",
    "        f\"Station count: {sim_args['nWifi']}\",\n",
    "        *[f\"{key}: {sim_args[key]}\" for key in list(sim_args)[:3]]]\n",
    "# agent.save()\n",
    "logger = teacher.train(agent, EPISODE_COUNT,\n",
    "                        simTime=simTime,\n",
    "                        stepTime=stepTime,\n",
    "                        history_length=history_length,\n",
    "                        send_logs=True,\n",
    "                        experimental=True,\n",
    "                        tags=tags,\n",
    "                        parameters=hyperparams)\n",
    "# logger = teacher.eval(agent,\n",
    "#                         simTime=simTime,\n",
    "#                         stepTime=stepTime,\n",
    "#                         history_length=history_length,\n",
    "#                         tags=tags,\n",
    "#                         parameters=hyperparams)\n",
    "# agent.save()"
   ]
  },
  {
   "cell_type": "code",
   "execution_count": null,
   "id": "592d4eae",
   "metadata": {},
   "outputs": [],
   "source": [
    "14 \n",
    "Turning off noise \n",
    " \n",
    "\n",
    "100%|██████████| 6300/6300 [1:27:30<00:00,  1.20it/s, curr_speed=37.86 Mbps, mb_sent=2268.96 Mb] \n",
    " \n",
    "\n",
    "Waiting for simulation script to connect on port: tcp://localhost:15096 \n",
    "Please start proper ns-3 simulation script using ./waf --run \"...\" \n",
    "Waf: Entering directory `/home/samuel/ns-allinone-3.29/ns-3.29/build' \n",
    "Waf: Leaving directory `/home/samuel/ns-allinone-3.29/ns-3.29/build' \n",
    "Build commands will be stored in build/compile_commands.json \n",
    "'build' finished successfully (1.957s) \n",
    " \n",
    "\n",
    "Ns3Env parameters: \n",
    "--nWifi: 50 \n",
    "--simulationTime: 60 \n",
    "--openGymPort: 15096 \n",
    "--envStepTime: 0.01 \n",
    "--seed: 42 \n",
    "--agentType: continuous \n",
    "--scenario: basic \n",
    "--dryRun: 0 \n",
    "Simulation started \n",
    "Simulation process id: 1432608 (parent (waf shell) id: 1432595) \n",
    "Waiting for Python process to connect on port: tcp://localhost:15096 \n",
    "Please start proper Python Gym Agent \n",
    "COMET INFO: ---------------------------- \n",
    "COMET INFO: Comet.ml Experiment Summary: \n",
    "COMET INFO:   Data: \n",
    "COMET INFO:     url: https://www.comet.com/sheila-janota/rl-in-wifi-with-queue-level/06bb914ea4ae47daafafee1cba785e8a \n",
    "COMET INFO:   Metrics [count] (min, max): \n",
    "COMET INFO:     Chosen CW [89985]           : (16.0, 1024.0) \n",
    "COMET INFO:     Cumulative reward [15]      : (2543.65234375, 3171.49365234375) \n",
    "COMET INFO:     Current throughput [89985]  : (11.38165283203125, 41.326900482177734) \n",
    "COMET INFO:     Fairness index [89985]      : (0.9632800221443176, 0.9997680187225342) \n",
    "COMET INFO:     Megabytes sent [89985]      : (0.18987999856472015, 2269.651187747717) \n",
    "COMET INFO:     Observation 0 [89985]       : (0.8792862748354674, 0.9748905192812284) \n",
    "COMET INFO:     Observation 1 [89985]       : (0.0022719387003409205, 0.1433868033441134) \n",
    "COMET INFO:     Per-ep reward [89985]       : (78.60302734375, 3171.49365234375) \n",
    "COMET INFO:     Round megabytes sent [89985]: (0.0, 5.015076160430908) \n",
    "COMET INFO:     Round reward [89985]        : (0.0, 0.610595703125) \n",
    "COMET INFO:     Speed [15]                  : (30.83266281572481, 37.82751979579528) \n",
    "COMET INFO:     Station count [89985]       : (50.0, 50.0) \n",
    "COMET INFO:     actor_loss [89985]          : (-1.6818017959594727, 0.0) \n",
    "COMET INFO:     critic_loss [89985]         : (0.0, 2.770951747894287) \n",
    "COMET INFO:     loss [33578]                : (-1.6817854642868042, 0.9893507361412048) \n",
    "COMET INFO:   Uploads: \n",
    "COMET INFO:     histogram3d: 89985 \n",
    "COMET INFO: ---------------------------- \n",
    "COMET INFO: Uploading stats to Comet before program termination (may take several seconds) \n",
    " \n",
    "\n",
    "Sent 2268.96 Mb/s.\tMean speed: 37.82 Mb/s\tEpisode 15/15 finished"
   ]
  }
 ],
 "metadata": {
  "kernelspec": {
   "display_name": "Python 3 (ipykernel)",
   "language": "python",
   "name": "python3"
  },
  "language_info": {
   "codemirror_mode": {
    "name": "ipython",
    "version": 3
   },
   "file_extension": ".py",
   "mimetype": "text/x-python",
   "name": "python",
   "nbconvert_exporter": "python",
   "pygments_lexer": "ipython3",
   "version": "3.7.10"
  }
 },
 "nbformat": 4,
 "nbformat_minor": 5
}
