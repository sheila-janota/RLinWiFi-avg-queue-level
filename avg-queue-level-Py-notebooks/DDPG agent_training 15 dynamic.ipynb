{
 "cells": [
  {
   "cell_type": "markdown",
   "id": "2da45a57",
   "metadata": {},
   "source": [
    "# Execution num1:"
   ]
  },
  {
   "cell_type": "code",
   "execution_count": 1,
   "id": "09f73334",
   "metadata": {},
   "outputs": [],
   "source": [
    "#%%\n",
    "from ns3gym import ns3env\n",
    "from comet_ml import Experiment, Optimizer\n",
    "import tqdm\n",
    "import subprocess\n",
    "from collections import deque\n",
    "import numpy as np\n",
    "\n",
    "from agents.ddpg.agent import Agent, Config\n",
    "from agents.ddpg.model import Actor\n",
    "from agents.teacher import Teacher, EnvWrapper\n",
    "from preprocessor import Preprocessor\n"
   ]
  },
  {
   "cell_type": "code",
   "execution_count": 2,
   "id": "15679efc",
   "metadata": {},
   "outputs": [
    {
     "name": "stdout",
     "output_type": "stream",
     "text": [
      "Steps per episode: 6000\n",
      "Waiting for simulation script to connect on port: tcp://localhost:32298\n",
      "Please start proper ns-3 simulation script using ./waf --run \"...\"\n",
      "Waf: Entering directory `/home/samuel/ns-allinone-3.29/ns-3.29/build'\n",
      "Waf: Leaving directory `/home/samuel/ns-allinone-3.29/ns-3.29/build'\n",
      "Build commands will be stored in build/compile_commands.json\n",
      "'build' finished successfully (2.303s)\n"
     ]
    },
    {
     "name": "stderr",
     "output_type": "stream",
     "text": [
      "Ns3Env parameters:\n",
      "--nWifi: 15\n",
      "--simulationTime: 60\n",
      "--openGymPort: 32298\n",
      "--envStepTime: 0.01\n",
      "--seed: 42\n",
      "--agentType: continuous\n",
      "--scenario: convergence\n",
      "--dryRun: 0\n",
      "Simulation started\n"
     ]
    },
    {
     "name": "stdout",
     "output_type": "stream",
     "text": [
      "Observation space shape: (1, 300)\n",
      "Action space shape: (1, 1)\n"
     ]
    },
    {
     "name": "stderr",
     "output_type": "stream",
     "text": [
      "Simulation process id: 467734 (parent (waf shell) id: 467719)\n",
      "Waiting for Python process to connect on port: tcp://localhost:32298\n",
      "Please start proper Python Gym Agent\n"
     ]
    }
   ],
   "source": [
    "#%%\n",
    "scenario = \"convergence\"\n",
    "\n",
    "simTime = 60 # seconds\n",
    "stepTime = 0.01  # seconds\n",
    "history_length = 300\n",
    "\n",
    "EPISODE_COUNT = 15\n",
    "steps_per_ep = int(simTime/stepTime)\n",
    "\n",
    "sim_args = {\n",
    "    \"simTime\": simTime,\n",
    "    \"envStepTime\": stepTime,\n",
    "    \"historyLength\": history_length,\n",
    "    \"agentType\": Agent.TYPE,\n",
    "    \"scenario\": \"convergence\",\n",
    "    \"nWifi\": 15,\n",
    "}\n",
    "\n",
    "print(\"Steps per episode:\", steps_per_ep)\n",
    "\n",
    "threads_no = 1\n",
    "env = EnvWrapper(threads_no, **sim_args)\n",
    "\n",
    "#%%\n",
    "env.reset()\n",
    "ob_space = env.observation_space\n",
    "ac_space = env.action_space\n",
    "\n",
    "print(\"Observation space shape:\", ob_space)\n",
    "print(\"Action space shape:\", ac_space)\n",
    "\n",
    "assert ob_space is not None"
   ]
  },
  {
   "cell_type": "code",
   "execution_count": 3,
   "id": "4d011818",
   "metadata": {
    "scrolled": true
   },
   "outputs": [
    {
     "name": "stdout",
     "output_type": "stream",
     "text": [
      "CuDNN version: 7102\n",
      "cpu\n"
     ]
    },
    {
     "name": "stderr",
     "output_type": "stream",
     "text": [
      "COMET INFO: Experiment is live on comet.ml https://www.comet.com/sheila-janota/rl-in-wifi-with-queue-level/383c4b704f404acd8c8f86fa4691ab6b\n",
      "\n",
      "  0%|          | 0/6300 [00:00<?, ?it/s]"
     ]
    },
    {
     "name": "stdout",
     "output_type": "stream",
     "text": [
      "0\n"
     ]
    },
    {
     "name": "stderr",
     "output_type": "stream",
     "text": [
      "  5%|▌         | 333/6300 [01:59<51:36,  1.93it/s, curr_speed=34.10 Mbps, mb_sent=10.91 Mb]"
     ]
    },
    {
     "name": "stdout",
     "output_type": "stream",
     "text": [
      "------- STARTED TRAINING -------\n"
     ]
    },
    {
     "name": "stderr",
     "output_type": "stream",
     "text": [
      "100%|██████████| 6300/6300 [8:06:43<00:00,  4.64s/it, curr_speed=30.62 Mbps, mb_sent=1863.90 Mb]  \n"
     ]
    },
    {
     "name": "stdout",
     "output_type": "stream",
     "text": [
      "Waiting for simulation script to connect on port: tcp://localhost:24010\n",
      "Please start proper ns-3 simulation script using ./waf --run \"...\"\n",
      "Waf: Entering directory `/home/samuel/ns-allinone-3.29/ns-3.29/build'\n",
      "Waf: Leaving directory `/home/samuel/ns-allinone-3.29/ns-3.29/build'\n",
      "Build commands will be stored in build/compile_commands.json\n",
      "'build' finished successfully (3.959s)\n"
     ]
    },
    {
     "name": "stderr",
     "output_type": "stream",
     "text": [
      "Ns3Env parameters:\n",
      "--nWifi: 15\n",
      "--simulationTime: 60\n",
      "--openGymPort: 24010\n",
      "--envStepTime: 0.01\n",
      "--seed: 42\n",
      "--agentType: continuous\n",
      "--scenario: convergence\n",
      "--dryRun: 0\n",
      "Simulation started\n",
      "Simulation process id: 690569 (parent (waf shell) id: 690521)\n",
      "Waiting for Python process to connect on port: tcp://localhost:24010\n",
      "Please start proper Python Gym Agent\n",
      "  0%|          | 0/6300 [00:00<?, ?it/s]"
     ]
    },
    {
     "name": "stdout",
     "output_type": "stream",
     "text": [
      "Sent 1863.90 Mb/s.\tMean speed: 31.06 Mb/s\tEpisode 1/15 finished\n",
      "\n",
      "1\n"
     ]
    },
    {
     "name": "stderr",
     "output_type": "stream",
     "text": [
      " 34%|███▎      | 2113/6300 [2:27:44<5:25:14,  4.66s/it, curr_speed=24.80 Mbps, mb_sent=596.47 Mb]COMET ERROR: File could not be uploaded\n",
      " 34%|███▎      | 2120/6300 [2:28:18<5:39:29,  4.87s/it, curr_speed=24.71 Mbps, mb_sent=598.36 Mb]COMET ERROR: File could not be uploaded\n",
      " 44%|████▍     | 2800/6300 [3:23:44<4:55:46,  5.07s/it, curr_speed=28.15 Mbps, mb_sent=830.05 Mb]COMET ERROR: File could not be uploaded\n",
      " 44%|████▍     | 2801/6300 [3:23:49<4:50:13,  4.98s/it, curr_speed=28.14 Mbps, mb_sent=830.35 Mb]COMET ERROR: File could not be uploaded\n",
      " 45%|████▍     | 2804/6300 [3:24:04<4:47:22,  4.93s/it, curr_speed=27.79 Mbps, mb_sent=831.06 Mb]COMET ERROR: File could not be uploaded\n",
      "COMET ERROR: File could not be uploaded\n",
      "COMET ERROR: File could not be uploaded\n",
      " 45%|████▍     | 2805/6300 [3:24:08<4:40:47,  4.82s/it, curr_speed=27.77 Mbps, mb_sent=831.39 Mb]COMET ERROR: File could not be uploaded\n",
      " 45%|████▍     | 2806/6300 [3:24:13<4:47:43,  4.94s/it, curr_speed=27.76 Mbps, mb_sent=831.70 Mb]COMET ERROR: File could not be uploaded\n",
      " 45%|████▍     | 2807/6300 [3:24:19<4:53:45,  5.05s/it, curr_speed=27.76 Mbps, mb_sent=831.99 Mb]COMET ERROR: File could not be uploaded\n",
      " 45%|████▍     | 2808/6300 [3:24:24<4:56:20,  5.09s/it, curr_speed=27.66 Mbps, mb_sent=832.23 Mb]COMET ERROR: File could not be uploaded\n",
      " 45%|████▍     | 2809/6300 [3:24:29<4:57:14,  5.11s/it, curr_speed=27.59 Mbps, mb_sent=832.46 Mb]COMET ERROR: File could not be uploaded\n",
      " 45%|████▍     | 2810/6300 [3:24:34<4:57:11,  5.11s/it, curr_speed=27.57 Mbps, mb_sent=832.75 Mb]COMET ERROR: File could not be uploaded\n",
      " 45%|████▍     | 2811/6300 [3:24:39<5:00:39,  5.17s/it, curr_speed=29.10 Mbps, mb_sent=834.65 Mb]COMET ERROR: File could not be uploaded\n",
      " 45%|████▍     | 2812/6300 [3:24:45<5:03:03,  5.21s/it, curr_speed=29.28 Mbps, mb_sent=834.95 Mb]COMET ERROR: File could not be uploaded\n",
      " 45%|████▍     | 2813/6300 [3:24:51<5:12:53,  5.38s/it, curr_speed=29.25 Mbps, mb_sent=835.28 Mb]COMET ERROR: File could not be uploaded\n",
      "100%|██████████| 6300/6300 [8:09:35<00:00,  4.66s/it, curr_speed=30.58 Mbps, mb_sent=1945.13 Mb]  \n"
     ]
    },
    {
     "name": "stdout",
     "output_type": "stream",
     "text": [
      "Waiting for simulation script to connect on port: tcp://localhost:30429\n",
      "Please start proper ns-3 simulation script using ./waf --run \"...\"\n",
      "Waf: Entering directory `/home/samuel/ns-allinone-3.29/ns-3.29/build'\n",
      "Waf: Leaving directory `/home/samuel/ns-allinone-3.29/ns-3.29/build'\n",
      "Build commands will be stored in build/compile_commands.json\n",
      "'build' finished successfully (3.489s)\n"
     ]
    },
    {
     "name": "stderr",
     "output_type": "stream",
     "text": [
      "Ns3Env parameters:\n",
      "--nWifi: 15\n",
      "--simulationTime: 60\n",
      "--openGymPort: 30429\n",
      "--envStepTime: 0.01\n",
      "--seed: 42\n",
      "--agentType: continuous\n",
      "--scenario: convergence\n",
      "--dryRun: 0\n",
      "Simulation started\n",
      "Simulation process id: 910849 (parent (waf shell) id: 910810)\n",
      "Waiting for Python process to connect on port: tcp://localhost:30429\n",
      "Please start proper Python Gym Agent\n",
      "  0%|          | 0/6300 [00:00<?, ?it/s]"
     ]
    },
    {
     "name": "stdout",
     "output_type": "stream",
     "text": [
      "Sent 1945.13 Mb/s.\tMean speed: 32.42 Mb/s\tEpisode 2/15 finished\n",
      "\n",
      "2\n"
     ]
    },
    {
     "name": "stderr",
     "output_type": "stream",
     "text": [
      "100%|██████████| 6300/6300 [7:41:22<00:00,  4.39s/it, curr_speed=32.21 Mbps, mb_sent=2032.80 Mb]  \n"
     ]
    },
    {
     "name": "stdout",
     "output_type": "stream",
     "text": [
      "Waiting for simulation script to connect on port: tcp://localhost:24845\n",
      "Please start proper ns-3 simulation script using ./waf --run \"...\"\n",
      "Waf: Entering directory `/home/samuel/ns-allinone-3.29/ns-3.29/build'\n",
      "Waf: Leaving directory `/home/samuel/ns-allinone-3.29/ns-3.29/build'\n",
      "Build commands will be stored in build/compile_commands.json\n",
      "'build' finished successfully (2.952s)\n"
     ]
    },
    {
     "name": "stderr",
     "output_type": "stream",
     "text": [
      "Ns3Env parameters:\n",
      "--nWifi: 15\n",
      "--simulationTime: 60\n",
      "--openGymPort: 24845\n",
      "--envStepTime: 0.01\n",
      "--seed: 42\n",
      "--agentType: continuous\n",
      "--scenario: convergence\n",
      "--dryRun: 0\n",
      "Simulation started\n",
      "Simulation process id: 1115194 (parent (waf shell) id: 1115161)\n",
      "Waiting for Python process to connect on port: tcp://localhost:24845\n",
      "Please start proper Python Gym Agent\n",
      "  0%|          | 0/6300 [00:00<?, ?it/s]"
     ]
    },
    {
     "name": "stdout",
     "output_type": "stream",
     "text": [
      "Sent 2032.80 Mb/s.\tMean speed: 33.88 Mb/s\tEpisode 3/15 finished\n",
      "\n",
      "3\n"
     ]
    },
    {
     "name": "stderr",
     "output_type": "stream",
     "text": [
      "100%|██████████| 6300/6300 [7:11:46<00:00,  4.11s/it, curr_speed=36.02 Mbps, mb_sent=2106.80 Mb]  \n"
     ]
    },
    {
     "name": "stdout",
     "output_type": "stream",
     "text": [
      "Waiting for simulation script to connect on port: tcp://localhost:23074\n",
      "Please start proper ns-3 simulation script using ./waf --run \"...\"\n",
      "Waf: Entering directory `/home/samuel/ns-allinone-3.29/ns-3.29/build'\n",
      "Waf: Leaving directory `/home/samuel/ns-allinone-3.29/ns-3.29/build'\n",
      "Build commands will be stored in build/compile_commands.json\n",
      "'build' finished successfully (4.214s)\n"
     ]
    },
    {
     "name": "stderr",
     "output_type": "stream",
     "text": [
      "Ns3Env parameters:\n",
      "--nWifi: 15\n",
      "--simulationTime: 60\n",
      "--openGymPort: 23074\n",
      "--envStepTime: 0.01\n",
      "--seed: 42\n",
      "--agentType: continuous\n",
      "--scenario: convergence\n",
      "--dryRun: 0\n",
      "Simulation started\n",
      "Simulation process id: 1271893 (parent (waf shell) id: 1271843)\n",
      "Waiting for Python process to connect on port: tcp://localhost:23074\n",
      "Please start proper Python Gym Agent\n",
      "  0%|          | 0/6300 [00:00<?, ?it/s]"
     ]
    },
    {
     "name": "stdout",
     "output_type": "stream",
     "text": [
      "Sent 2106.80 Mb/s.\tMean speed: 35.11 Mb/s\tEpisode 4/15 finished\n",
      "\n",
      "4\n"
     ]
    },
    {
     "name": "stderr",
     "output_type": "stream",
     "text": [
      "  5%|▍         | 304/6300 [02:37<5:35:30,  3.36s/it, curr_speed=37.23 Mbps, mb_sent=1.12 Mb]"
     ]
    },
    {
     "name": "stdout",
     "output_type": "stream",
     "text": [
      "------- MEMORY BUFFER FILLED -------\n"
     ]
    },
    {
     "name": "stderr",
     "output_type": "stream",
     "text": [
      "100%|██████████| 6300/6300 [7:54:25<00:00,  4.52s/it, curr_speed=34.11 Mbps, mb_sent=2157.89 Mb]  \n"
     ]
    },
    {
     "name": "stdout",
     "output_type": "stream",
     "text": [
      "Waiting for simulation script to connect on port: tcp://localhost:53447\n",
      "Please start proper ns-3 simulation script using ./waf --run \"...\"\n",
      "Waf: Entering directory `/home/samuel/ns-allinone-3.29/ns-3.29/build'\n",
      "Waf: Leaving directory `/home/samuel/ns-allinone-3.29/ns-3.29/build'\n",
      "Build commands will be stored in build/compile_commands.json\n",
      "'build' finished successfully (3.736s)\n"
     ]
    },
    {
     "name": "stderr",
     "output_type": "stream",
     "text": [
      "Ns3Env parameters:\n",
      "--nWifi: 15\n",
      "--simulationTime: 60\n",
      "--openGymPort: 53447\n",
      "--envStepTime: 0.01\n",
      "--seed: 42\n",
      "--agentType: continuous\n",
      "--scenario: convergence\n",
      "--dryRun: 0\n",
      "Simulation started\n",
      "Simulation process id: 1468389 (parent (waf shell) id: 1468355)\n",
      "Waiting for Python process to connect on port: tcp://localhost:53447\n",
      "Please start proper Python Gym Agent\n",
      "  0%|          | 0/6300 [00:00<?, ?it/s]"
     ]
    },
    {
     "name": "stdout",
     "output_type": "stream",
     "text": [
      "Sent 2157.89 Mb/s.\tMean speed: 35.96 Mb/s\tEpisode 5/15 finished\n",
      "\n",
      "5\n"
     ]
    },
    {
     "name": "stderr",
     "output_type": "stream",
     "text": [
      "100%|██████████| 6300/6300 [7:40:54<00:00,  4.39s/it, curr_speed=33.98 Mbps, mb_sent=2208.17 Mb]  \n"
     ]
    },
    {
     "name": "stdout",
     "output_type": "stream",
     "text": [
      "Waiting for simulation script to connect on port: tcp://localhost:17002\n",
      "Please start proper ns-3 simulation script using ./waf --run \"...\"\n",
      "Waf: Entering directory `/home/samuel/ns-allinone-3.29/ns-3.29/build'\n",
      "Waf: Leaving directory `/home/samuel/ns-allinone-3.29/ns-3.29/build'\n",
      "Build commands will be stored in build/compile_commands.json\n",
      "'build' finished successfully (3.559s)\n"
     ]
    },
    {
     "name": "stderr",
     "output_type": "stream",
     "text": [
      "Ns3Env parameters:\n",
      "--nWifi: 15\n",
      "--simulationTime: 60\n",
      "--openGymPort: 17002\n",
      "--envStepTime: 0.01\n",
      "--seed: 42\n",
      "--agentType: continuous\n",
      "--scenario: convergence\n",
      "--dryRun: 0\n",
      "Simulation started\n",
      "Simulation process id: 1642699 (parent (waf shell) id: 1642651)\n",
      "Waiting for Python process to connect on port: tcp://localhost:17002\n",
      "Please start proper Python Gym Agent\n",
      "  0%|          | 0/6300 [00:00<?, ?it/s]"
     ]
    },
    {
     "name": "stdout",
     "output_type": "stream",
     "text": [
      "Sent 2208.17 Mb/s.\tMean speed: 36.80 Mb/s\tEpisode 6/15 finished\n",
      "\n",
      "6\n"
     ]
    },
    {
     "name": "stderr",
     "output_type": "stream",
     "text": [
      "100%|██████████| 6300/6300 [6:42:43<00:00,  3.84s/it, curr_speed=34.50 Mbps, mb_sent=2230.42 Mb]  \n"
     ]
    },
    {
     "name": "stdout",
     "output_type": "stream",
     "text": [
      "Waiting for simulation script to connect on port: tcp://localhost:33083\n",
      "Please start proper ns-3 simulation script using ./waf --run \"...\"\n",
      "Waf: Entering directory `/home/samuel/ns-allinone-3.29/ns-3.29/build'\n",
      "Waf: Leaving directory `/home/samuel/ns-allinone-3.29/ns-3.29/build'\n",
      "Build commands will be stored in build/compile_commands.json\n",
      "'build' finished successfully (2.786s)\n"
     ]
    },
    {
     "name": "stderr",
     "output_type": "stream",
     "text": [
      "Ns3Env parameters:\n",
      "--nWifi: 15\n",
      "--simulationTime: 60\n",
      "--openGymPort: 33083\n",
      "--envStepTime: 0.01\n",
      "--seed: 42\n",
      "--agentType: continuous\n",
      "--scenario: convergence\n",
      "--dryRun: 0\n",
      "Simulation started\n",
      "Simulation process id: 1753975 (parent (waf shell) id: 1753947)\n",
      "Waiting for Python process to connect on port: tcp://localhost:33083\n",
      "Please start proper Python Gym Agent\n",
      "  0%|          | 0/6300 [00:00<?, ?it/s]"
     ]
    },
    {
     "name": "stdout",
     "output_type": "stream",
     "text": [
      "Sent 2230.42 Mb/s.\tMean speed: 37.17 Mb/s\tEpisode 7/15 finished\n",
      "\n",
      "7\n"
     ]
    },
    {
     "name": "stderr",
     "output_type": "stream",
     "text": [
      " 99%|█████████▉| 6247/6300 [6:51:14<04:10,  4.74s/it, curr_speed=36.56 Mbps, mb_sent=2229.74 Mb]  COMET ERROR: File could not be uploaded\n",
      " 99%|█████████▉| 6261/6300 [6:52:20<03:01,  4.65s/it, curr_speed=36.73 Mbps, mb_sent=2235.03 Mb]COMET ERROR: File could not be uploaded\n",
      " 99%|█████████▉| 6266/6300 [6:52:42<02:34,  4.54s/it, curr_speed=36.77 Mbps, mb_sent=2236.95 Mb]COMET ERROR: File could not be uploaded\n",
      " 99%|█████████▉| 6267/6300 [6:52:47<02:33,  4.64s/it, curr_speed=36.77 Mbps, mb_sent=2237.29 Mb]COMET ERROR: File could not be uploaded\n",
      "100%|██████████| 6300/6300 [6:55:19<00:00,  3.96s/it, curr_speed=36.59 Mbps, mb_sent=2249.32 Mb]\n"
     ]
    },
    {
     "name": "stdout",
     "output_type": "stream",
     "text": [
      "Waiting for simulation script to connect on port: tcp://localhost:19377\n",
      "Please start proper ns-3 simulation script using ./waf --run \"...\"\n",
      "Waf: Entering directory `/home/samuel/ns-allinone-3.29/ns-3.29/build'\n",
      "Waf: Leaving directory `/home/samuel/ns-allinone-3.29/ns-3.29/build'\n",
      "Build commands will be stored in build/compile_commands.json\n",
      "'build' finished successfully (3.402s)\n"
     ]
    },
    {
     "name": "stderr",
     "output_type": "stream",
     "text": [
      "Ns3Env parameters:\n",
      "--nWifi: 15\n",
      "--simulationTime: 60\n",
      "--openGymPort: 19377\n",
      "--envStepTime: 0.01\n",
      "--seed: 42\n",
      "--agentType: continuous\n",
      "--scenario: convergence\n",
      "--dryRun: 0\n",
      "Simulation started\n",
      "Simulation process id: 1911197 (parent (waf shell) id: 1911149)\n",
      "Waiting for Python process to connect on port: tcp://localhost:19377\n",
      "Please start proper Python Gym Agent\n",
      "  0%|          | 0/6300 [00:00<?, ?it/s]"
     ]
    },
    {
     "name": "stdout",
     "output_type": "stream",
     "text": [
      "Sent 2249.32 Mb/s.\tMean speed: 37.49 Mb/s\tEpisode 8/15 finished\n",
      "\n",
      "8\n"
     ]
    },
    {
     "name": "stderr",
     "output_type": "stream",
     "text": [
      "  7%|▋         | 438/6300 [12:18<7:18:47,  4.49s/it, curr_speed=38.31 Mbps, mb_sent=52.26 Mb]COMET ERROR: File could not be uploaded\n",
      "  7%|▋         | 444/6300 [12:44<7:00:08,  4.30s/it, curr_speed=38.29 Mbps, mb_sent=54.51 Mb]COMET ERROR: File could not be uploaded\n",
      "  8%|▊         | 486/6300 [15:49<7:23:18,  4.57s/it, curr_speed=38.09 Mbps, mb_sent=70.32 Mb]COMET ERROR: File could not be uploaded\n",
      "  8%|▊         | 535/6300 [19:26<7:04:48,  4.42s/it, curr_speed=37.84 Mbps, mb_sent=88.99 Mb]COMET ERROR: File could not be uploaded\n",
      "  9%|▊         | 537/6300 [19:34<6:59:21,  4.37s/it, curr_speed=37.93 Mbps, mb_sent=89.79 Mb]COMET ERROR: File could not be uploaded\n",
      "  9%|▊         | 546/6300 [20:14<6:56:33,  4.34s/it, curr_speed=38.05 Mbps, mb_sent=93.31 Mb]COMET ERROR: File could not be uploaded\n",
      "  9%|▊         | 551/6300 [20:37<7:13:27,  4.52s/it, curr_speed=38.11 Mbps, mb_sent=95.22 Mb]COMET ERROR: File could not be uploaded\n",
      "  9%|▉         | 552/6300 [20:41<7:16:50,  4.56s/it, curr_speed=38.03 Mbps, mb_sent=95.55 Mb]COMET ERROR: File could not be uploaded\n",
      "  9%|▉         | 557/6300 [21:04<7:12:35,  4.52s/it, curr_speed=38.00 Mbps, mb_sent=97.42 Mb]COMET ERROR: File could not be uploaded\n",
      "  9%|▉         | 562/6300 [21:26<7:13:57,  4.54s/it, curr_speed=38.12 Mbps, mb_sent=99.45 Mb]COMET ERROR: File could not be uploaded\n",
      "100%|██████████| 6300/6300 [7:14:30<00:00,  4.14s/it, curr_speed=37.62 Mbps, mb_sent=2267.28 Mb]  \n"
     ]
    },
    {
     "name": "stdout",
     "output_type": "stream",
     "text": [
      "Waiting for simulation script to connect on port: tcp://localhost:24193\n",
      "Please start proper ns-3 simulation script using ./waf --run \"...\"\n",
      "Waf: Entering directory `/home/samuel/ns-allinone-3.29/ns-3.29/build'\n",
      "Waf: Leaving directory `/home/samuel/ns-allinone-3.29/ns-3.29/build'\n",
      "Build commands will be stored in build/compile_commands.json\n",
      "'build' finished successfully (2.807s)\n"
     ]
    },
    {
     "name": "stderr",
     "output_type": "stream",
     "text": [
      "Ns3Env parameters:\n",
      "--nWifi: 15\n",
      "--simulationTime: 60\n",
      "--openGymPort: 24193\n",
      "--envStepTime: 0.01\n",
      "--seed: 42\n",
      "--agentType: continuous\n",
      "--scenario: convergence\n",
      "--dryRun: 0\n",
      "Simulation started\n",
      "Simulation process id: 2084926 (parent (waf shell) id: 2084897)\n",
      "Waiting for Python process to connect on port: tcp://localhost:24193\n",
      "Please start proper Python Gym Agent\n",
      "  0%|          | 0/6300 [00:00<?, ?it/s]"
     ]
    },
    {
     "name": "stdout",
     "output_type": "stream",
     "text": [
      "Sent 2267.28 Mb/s.\tMean speed: 37.79 Mb/s\tEpisode 9/15 finished\n",
      "\n",
      "9\n"
     ]
    },
    {
     "name": "stderr",
     "output_type": "stream",
     "text": [
      "100%|██████████| 6300/6300 [7:11:47<00:00,  4.11s/it, curr_speed=37.94 Mbps, mb_sent=2287.53 Mb]  \n"
     ]
    },
    {
     "name": "stdout",
     "output_type": "stream",
     "text": [
      "Waiting for simulation script to connect on port: tcp://localhost:25273\n",
      "Please start proper ns-3 simulation script using ./waf --run \"...\"\n",
      "Waf: Entering directory `/home/samuel/ns-allinone-3.29/ns-3.29/build'\n",
      "Waf: Leaving directory `/home/samuel/ns-allinone-3.29/ns-3.29/build'\n",
      "Build commands will be stored in build/compile_commands.json\n",
      "'build' finished successfully (3.101s)\n"
     ]
    },
    {
     "name": "stderr",
     "output_type": "stream",
     "text": [
      "Ns3Env parameters:\n",
      "--nWifi: 15\n",
      "--simulationTime: 60\n",
      "--openGymPort: 25273\n",
      "--envStepTime: 0.01\n",
      "--seed: 42\n",
      "--agentType: continuous\n",
      "--scenario: convergence\n",
      "--dryRun: 0\n",
      "Simulation started\n",
      "Simulation process id: 2199327 (parent (waf shell) id: 2199303)\n",
      "Waiting for Python process to connect on port: tcp://localhost:25273\n",
      "Please start proper Python Gym Agent\n",
      "  0%|          | 0/6300 [00:00<?, ?it/s]"
     ]
    },
    {
     "name": "stdout",
     "output_type": "stream",
     "text": [
      "Sent 2287.53 Mb/s.\tMean speed: 38.13 Mb/s\tEpisode 10/15 finished\n",
      "\n",
      "10\n"
     ]
    },
    {
     "name": "stderr",
     "output_type": "stream",
     "text": [
      " 11%|█         | 692/6300 [28:38<6:15:19,  4.02s/it, curr_speed=37.79 Mbps, mb_sent=147.32 Mb]COMET ERROR: File could not be uploaded\n",
      " 11%|█         | 695/6300 [28:50<6:20:36,  4.07s/it, curr_speed=37.78 Mbps, mb_sent=148.45 Mb]COMET ERROR: File could not be uploaded\n",
      "COMET ERROR: File could not be uploaded\n",
      "COMET ERROR: File could not be uploaded\n",
      " 11%|█         | 696/6300 [28:53<6:15:09,  4.02s/it, curr_speed=37.81 Mbps, mb_sent=148.86 Mb]COMET ERROR: File could not be uploaded\n",
      " 11%|█         | 697/6300 [28:58<6:23:08,  4.10s/it, curr_speed=37.83 Mbps, mb_sent=149.25 Mb]COMET ERROR: File could not be uploaded\n",
      " 11%|█         | 698/6300 [29:02<6:23:47,  4.11s/it, curr_speed=37.84 Mbps, mb_sent=149.63 Mb]COMET ERROR: File could not be uploaded\n",
      " 11%|█▏        | 724/6300 [30:47<6:10:56,  3.99s/it, curr_speed=37.98 Mbps, mb_sent=159.56 Mb]COMET ERROR: File could not be uploaded\n",
      "100%|██████████| 6300/6300 [6:55:04<00:00,  3.95s/it, curr_speed=38.05 Mbps, mb_sent=2284.47 Mb]  \n"
     ]
    },
    {
     "name": "stdout",
     "output_type": "stream",
     "text": [
      "Waiting for simulation script to connect on port: tcp://localhost:32277\n",
      "Please start proper ns-3 simulation script using ./waf --run \"...\"\n",
      "Waf: Entering directory `/home/samuel/ns-allinone-3.29/ns-3.29/build'\n",
      "Waf: Leaving directory `/home/samuel/ns-allinone-3.29/ns-3.29/build'\n",
      "Build commands will be stored in build/compile_commands.json\n",
      "'build' finished successfully (2.966s)\n"
     ]
    },
    {
     "name": "stderr",
     "output_type": "stream",
     "text": [
      "Ns3Env parameters:\n",
      "--nWifi: 15\n",
      "--simulationTime: 60\n",
      "--openGymPort: 32277\n",
      "--envStepTime: 0.01\n",
      "--seed: 42\n",
      "--agentType: continuous\n",
      "--scenario: convergence\n",
      "--dryRun: 0\n",
      "Simulation started\n",
      "Simulation process id: 2292536 (parent (waf shell) id: 2292515)\n",
      "Waiting for Python process to connect on port: tcp://localhost:32277\n",
      "Please start proper Python Gym Agent\n",
      "  0%|          | 0/6300 [00:00<?, ?it/s]"
     ]
    },
    {
     "name": "stdout",
     "output_type": "stream",
     "text": [
      "Sent 2284.47 Mb/s.\tMean speed: 38.07 Mb/s\tEpisode 11/15 finished\n",
      "\n",
      "11\n"
     ]
    },
    {
     "name": "stderr",
     "output_type": "stream",
     "text": [
      " 39%|███▉      | 2443/6300 [2:18:10<4:35:53,  4.29s/it, curr_speed=37.90 Mbps, mb_sent=817.87 Mb]COMET ERROR: File could not be uploaded\n",
      " 39%|███▉      | 2444/6300 [2:18:14<4:26:59,  4.15s/it, curr_speed=37.94 Mbps, mb_sent=818.27 Mb]COMET ERROR: File could not be uploaded\n",
      " 39%|███▉      | 2449/6300 [2:18:34<4:15:56,  3.99s/it, curr_speed=37.81 Mbps, mb_sent=820.13 Mb]COMET ERROR: File could not be uploaded\n",
      " 39%|███▉      | 2464/6300 [2:19:38<4:32:37,  4.26s/it, curr_speed=37.66 Mbps, mb_sent=825.61 Mb]COMET ERROR: File could not be uploaded\n",
      " 39%|███▉      | 2474/6300 [2:20:19<4:26:29,  4.18s/it, curr_speed=37.91 Mbps, mb_sent=829.49 Mb]COMET ERROR: File could not be uploaded\n",
      "100%|██████████| 6300/6300 [6:50:47<00:00,  3.91s/it, curr_speed=37.96 Mbps, mb_sent=2280.26 Mb]  \n"
     ]
    },
    {
     "name": "stdout",
     "output_type": "stream",
     "text": [
      "Waiting for simulation script to connect on port: tcp://localhost:24762\n",
      "Please start proper ns-3 simulation script using ./waf --run \"...\"\n",
      "Waf: Entering directory `/home/samuel/ns-allinone-3.29/ns-3.29/build'\n",
      "Waf: Leaving directory `/home/samuel/ns-allinone-3.29/ns-3.29/build'\n",
      "Build commands will be stored in build/compile_commands.json\n",
      "'build' finished successfully (2.874s)\n"
     ]
    },
    {
     "name": "stderr",
     "output_type": "stream",
     "text": [
      "Ns3Env parameters:\n",
      "--nWifi: 15\n",
      "--simulationTime: 60\n",
      "--openGymPort: 24762\n",
      "--envStepTime: 0.01\n",
      "--seed: 42\n",
      "--agentType: continuous\n",
      "--scenario: convergence\n",
      "--dryRun: 0\n",
      "Simulation started\n",
      "Simulation process id: 2381977 (parent (waf shell) id: 2381953)\n",
      "Waiting for Python process to connect on port: tcp://localhost:24762\n",
      "Please start proper Python Gym Agent\n",
      "  0%|          | 0/6300 [00:00<?, ?it/s]"
     ]
    },
    {
     "name": "stdout",
     "output_type": "stream",
     "text": [
      "Sent 2280.26 Mb/s.\tMean speed: 38.00 Mb/s\tEpisode 12/15 finished\n",
      "\n",
      "12\n",
      "Turning off noise\n"
     ]
    },
    {
     "name": "stderr",
     "output_type": "stream",
     "text": [
      "100%|██████████| 6300/6300 [6:52:32<00:00,  3.93s/it, curr_speed=37.81 Mbps, mb_sent=2280.75 Mb]  \n"
     ]
    },
    {
     "name": "stdout",
     "output_type": "stream",
     "text": [
      "Waiting for simulation script to connect on port: tcp://localhost:39290\n",
      "Please start proper ns-3 simulation script using ./waf --run \"...\"\n",
      "Waf: Entering directory `/home/samuel/ns-allinone-3.29/ns-3.29/build'\n",
      "Waf: Leaving directory `/home/samuel/ns-allinone-3.29/ns-3.29/build'\n",
      "Build commands will be stored in build/compile_commands.json\n",
      "'build' finished successfully (2.696s)\n"
     ]
    },
    {
     "name": "stderr",
     "output_type": "stream",
     "text": [
      "Ns3Env parameters:\n",
      "--nWifi: 15\n",
      "--simulationTime: 60\n",
      "--openGymPort: 39290\n",
      "--envStepTime: 0.01\n",
      "--seed: 42\n",
      "--agentType: continuous\n",
      "--scenario: convergence\n",
      "--dryRun: 0\n",
      "Simulation started\n",
      "Simulation process id: 2476192 (parent (waf shell) id: 2476168)\n",
      "Waiting for Python process to connect on port: tcp://localhost:39290\n",
      "Please start proper Python Gym Agent\n",
      "  0%|          | 0/6300 [00:00<?, ?it/s]"
     ]
    },
    {
     "name": "stdout",
     "output_type": "stream",
     "text": [
      "Sent 2280.75 Mb/s.\tMean speed: 38.01 Mb/s\tEpisode 13/15 finished\n",
      "\n",
      "13\n",
      "Turning off noise\n"
     ]
    },
    {
     "name": "stderr",
     "output_type": "stream",
     "text": [
      " 48%|████▊     | 3008/6300 [2:49:43<3:17:27,  3.60s/it, curr_speed=38.21 Mbps, mb_sent=1033.27 Mb]COMET ERROR: File could not be uploaded\n",
      " 48%|████▊     | 3011/6300 [2:49:55<3:31:52,  3.87s/it, curr_speed=38.28 Mbps, mb_sent=1034.41 Mb]COMET ERROR: File could not be uploaded\n",
      "COMET ERROR: File could not be uploaded\n",
      "COMET ERROR: File could not be uploaded\n",
      " 48%|████▊     | 3012/6300 [2:49:59<3:32:11,  3.87s/it, curr_speed=38.30 Mbps, mb_sent=1034.80 Mb]COMET ERROR: File could not be uploaded\n",
      " 48%|████▊     | 3012/6300 [2:50:02<3:32:11,  3.87s/it, curr_speed=38.30 Mbps, mb_sent=1035.21 Mb]COMET ERROR: File could not be uploaded\n",
      " 48%|████▊     | 3014/6300 [2:50:06<3:24:10,  3.73s/it, curr_speed=38.36 Mbps, mb_sent=1035.61 Mb]COMET ERROR: File could not be uploaded\n",
      " 48%|████▊     | 3015/6300 [2:50:10<3:25:02,  3.75s/it, curr_speed=38.37 Mbps, mb_sent=1036.00 Mb]COMET ERROR: File could not be uploaded\n",
      " 48%|████▊     | 3016/6300 [2:50:13<3:19:42,  3.65s/it, curr_speed=38.36 Mbps, mb_sent=1036.33 Mb]COMET ERROR: File could not be uploaded\n",
      " 48%|████▊     | 3017/6300 [2:50:17<3:23:04,  3.71s/it, curr_speed=38.36 Mbps, mb_sent=1036.74 Mb]COMET ERROR: File could not be uploaded\n",
      " 48%|████▊     | 3018/6300 [2:50:21<3:23:50,  3.73s/it, curr_speed=38.38 Mbps, mb_sent=1037.13 Mb]COMET ERROR: File could not be uploaded\n",
      " 48%|████▊     | 3019/6300 [2:50:25<3:23:02,  3.71s/it, curr_speed=38.36 Mbps, mb_sent=1037.50 Mb]COMET ERROR: File could not be uploaded\n",
      " 48%|████▊     | 3020/6300 [2:50:28<3:19:41,  3.65s/it, curr_speed=38.37 Mbps, mb_sent=1037.87 Mb]COMET ERROR: File could not be uploaded\n",
      " 48%|████▊     | 3021/6300 [2:50:32<3:19:11,  3.64s/it, curr_speed=38.41 Mbps, mb_sent=1038.27 Mb]COMET ERROR: File could not be uploaded\n",
      "100%|██████████| 6300/6300 [6:19:17<00:00,  3.61s/it, curr_speed=37.61 Mbps, mb_sent=2280.02 Mb]  \n"
     ]
    },
    {
     "name": "stdout",
     "output_type": "stream",
     "text": [
      "Waiting for simulation script to connect on port: tcp://localhost:16216\n",
      "Please start proper ns-3 simulation script using ./waf --run \"...\"\n",
      "Waf: Entering directory `/home/samuel/ns-allinone-3.29/ns-3.29/build'\n",
      "Waf: Leaving directory `/home/samuel/ns-allinone-3.29/ns-3.29/build'\n",
      "Build commands will be stored in build/compile_commands.json\n",
      "'build' finished successfully (2.899s)\n"
     ]
    },
    {
     "name": "stderr",
     "output_type": "stream",
     "text": [
      "Ns3Env parameters:\n",
      "--nWifi: 15\n",
      "--simulationTime: 60\n",
      "--openGymPort: 16216\n",
      "--envStepTime: 0.01\n",
      "--seed: 42\n",
      "--agentType: continuous\n",
      "--scenario: convergence\n",
      "--dryRun: 0\n",
      "Simulation started\n",
      "Simulation process id: 2561432 (parent (waf shell) id: 2561409)\n",
      "Waiting for Python process to connect on port: tcp://localhost:16216\n",
      "Please start proper Python Gym Agent\n",
      "  0%|          | 0/6300 [00:00<?, ?it/s]"
     ]
    },
    {
     "name": "stdout",
     "output_type": "stream",
     "text": [
      "Sent 2280.02 Mb/s.\tMean speed: 38.00 Mb/s\tEpisode 14/15 finished\n",
      "\n",
      "14\n",
      "Turning off noise\n"
     ]
    },
    {
     "name": "stderr",
     "output_type": "stream",
     "text": [
      "100%|██████████| 6300/6300 [49:47<00:00,  2.11it/s, curr_speed=37.62 Mbps, mb_sent=2273.80 Mb]\n"
     ]
    },
    {
     "name": "stdout",
     "output_type": "stream",
     "text": [
      "Waiting for simulation script to connect on port: tcp://localhost:34265\n",
      "Please start proper ns-3 simulation script using ./waf --run \"...\"\n",
      "Waf: Entering directory `/home/samuel/ns-allinone-3.29/ns-3.29/build'\n",
      "Waf: Leaving directory `/home/samuel/ns-allinone-3.29/ns-3.29/build'\n",
      "Build commands will be stored in build/compile_commands.json\n",
      "'build' finished successfully (3.111s)\n"
     ]
    },
    {
     "name": "stderr",
     "output_type": "stream",
     "text": [
      "Ns3Env parameters:\n",
      "--nWifi: 15\n",
      "--simulationTime: 60\n",
      "--openGymPort: 34265\n",
      "--envStepTime: 0.01\n",
      "--seed: 42\n",
      "--agentType: continuous\n",
      "--scenario: convergence\n",
      "--dryRun: 0\n",
      "Simulation started\n",
      "Simulation process id: 2577183 (parent (waf shell) id: 2577164)\n",
      "Waiting for Python process to connect on port: tcp://localhost:34265\n",
      "Please start proper Python Gym Agent\n",
      "COMET INFO: ----------------------------\n",
      "COMET INFO: Comet.ml Experiment Summary:\n",
      "COMET INFO:   Data:\n",
      "COMET INFO:     url: https://www.comet.com/sheila-janota/rl-in-wifi-with-queue-level/383c4b704f404acd8c8f86fa4691ab6b\n",
      "COMET INFO:   Metrics [count] (min, max):\n",
      "COMET INFO:     Chosen CW [89985]           : (16.0, 1024.0)\n",
      "COMET INFO:     Cumulative reward [15]      : (2451.184326171875, 3200.400146484375)\n",
      "COMET INFO:     Current throughput [89985]  : (20.6634578704834, 67.2176513671875)\n",
      "COMET INFO:     Fairness index [89985]      : (0.07387600094079971, 0.9995830059051514)\n",
      "COMET INFO:     Megabytes sent [89985]      : (0.23455800116062164, 2287.5334444642067)\n",
      "COMET INFO:     Observation 0 [89985]       : (0.28538437496870755, 0.9374989583094915)\n",
      "COMET INFO:     Observation 1 [89985]       : (0.0, 0.0453949169373324)\n",
      "COMET INFO:     Per-ep reward [89985]       : (131.069580078125, 3200.400146484375)\n",
      "COMET INFO:     Round megabytes sent [89985]: (0.06701699644327164, 11.85076904296875)\n",
      "COMET INFO:     Round reward [89985]        : (0.08935546875, 0.997802734375)\n",
      "COMET INFO:     Speed [15]                  : (31.06498852558434, 38.12555740773678)\n",
      "COMET INFO:     Station count [89985]       : (5.0, 15.0)\n",
      "COMET INFO:     actor_loss [89985]          : (-1.7059049606323242, 0.0)\n",
      "COMET INFO:     critic_loss [89985]         : (0.0, 5.814060211181641)\n",
      "COMET INFO:     loss [33578]                : (-1.7053568363189697, 1.2754499912261963)\n",
      "COMET INFO:   Uploads:\n",
      "COMET INFO:     histogram3d: 89985\n",
      "COMET INFO: ----------------------------\n",
      "COMET INFO: Uploading stats to Comet before program termination (may take several seconds)\n"
     ]
    },
    {
     "name": "stdout",
     "output_type": "stream",
     "text": [
      "Sent 2273.80 Mb/s.\tMean speed: 37.90 Mb/s\tEpisode 15/15 finished\n",
      "\n",
      "Training finished.\n"
     ]
    }
   ],
   "source": [
    "#%%\n",
    "teacher = Teacher(env, 1, Preprocessor(False))\n",
    "\n",
    "lr_actor = 4e-4\n",
    "lr_critic = 4e-3\n",
    "\n",
    "config = Config(buffer_size=4*steps_per_ep*threads_no, batch_size=32, gamma=0.7, tau=1e-3, lr_actor=lr_actor, lr_critic=lr_critic, update_every=1)\n",
    "agent = Agent(state_size=15, action_size=1, config=config, actor_layers=[8, 128, 16], critic_layers=[8,128,16])\n",
    "\n",
    "# Test the model\n",
    "hyperparams = {**config.__dict__, **sim_args}\n",
    "tags = [\"Rew: normalized speed\",\n",
    "        f\"{Agent.NAME}\",\n",
    "        sim_args['scenario'],\n",
    "        f\"Actor: {lr_actor}\",\n",
    "        f\"Critic: {lr_critic}\",\n",
    "        f\"Instances: {threads_no}\",\n",
    "        f\"Station count: {sim_args['nWifi']}\",\n",
    "        *[f\"{key}: {sim_args[key]}\" for key in list(sim_args)[:3]]]\n",
    "# agent.save()\n",
    "logger = teacher.train(agent, EPISODE_COUNT,\n",
    "                        simTime=simTime,\n",
    "                        stepTime=stepTime,\n",
    "                        history_length=history_length,\n",
    "                        send_logs=True,\n",
    "                        experimental=True,\n",
    "                        tags=tags,\n",
    "                        parameters=hyperparams)\n",
    "# logger = teacher.eval(agent,\n",
    "#                         simTime=simTime,\n",
    "#                         stepTime=stepTime,\n",
    "#                         history_length=history_length,\n",
    "#                         tags=tags,\n",
    "#                         parameters=hyperparams)\n",
    "# agent.save()"
   ]
  },
  {
   "cell_type": "code",
   "execution_count": null,
   "id": "8bd99f9d",
   "metadata": {},
   "outputs": [],
   "source": []
  },
  {
   "cell_type": "markdown",
   "id": "67faead7",
   "metadata": {},
   "source": [
    "# Execution num2:"
   ]
  },
  {
   "cell_type": "code",
   "execution_count": 4,
   "id": "b01311f4",
   "metadata": {},
   "outputs": [],
   "source": [
    "#%%\n",
    "from ns3gym import ns3env\n",
    "from comet_ml import Experiment, Optimizer\n",
    "import tqdm\n",
    "import subprocess\n",
    "from collections import deque\n",
    "import numpy as np\n",
    "\n",
    "from agents.ddpg.agent import Agent, Config\n",
    "from agents.ddpg.model import Actor\n",
    "from agents.teacher import Teacher, EnvWrapper\n",
    "from preprocessor import Preprocessor\n"
   ]
  },
  {
   "cell_type": "code",
   "execution_count": 5,
   "id": "f30a0519",
   "metadata": {},
   "outputs": [
    {
     "name": "stdout",
     "output_type": "stream",
     "text": [
      "Steps per episode: 6000\n",
      "Waiting for simulation script to connect on port: tcp://localhost:17931\n",
      "Please start proper ns-3 simulation script using ./waf --run \"...\"\n",
      "Waf: Entering directory `/home/samuel/ns-allinone-3.29/ns-3.29/build'\n",
      "Waf: Leaving directory `/home/samuel/ns-allinone-3.29/ns-3.29/build'\n",
      "Build commands will be stored in build/compile_commands.json\n",
      "'build' finished successfully (2.619s)\n"
     ]
    },
    {
     "name": "stderr",
     "output_type": "stream",
     "text": [
      "Ns3Env parameters:\n",
      "--nWifi: 15\n",
      "--simulationTime: 60\n",
      "--openGymPort: 17931\n",
      "--envStepTime: 0.01\n",
      "--seed: 42\n",
      "--agentType: continuous\n",
      "--scenario: convergence\n",
      "--dryRun: 0\n",
      "Simulation started\n"
     ]
    },
    {
     "name": "stdout",
     "output_type": "stream",
     "text": [
      "Observation space shape: (1, 300)\n",
      "Action space shape: (1, 1)\n"
     ]
    },
    {
     "name": "stderr",
     "output_type": "stream",
     "text": [
      "Simulation process id: 2577248 (parent (waf shell) id: 2577228)\n",
      "Waiting for Python process to connect on port: tcp://localhost:17931\n",
      "Please start proper Python Gym Agent\n"
     ]
    }
   ],
   "source": [
    "#%%\n",
    "scenario = \"convergence\"\n",
    "\n",
    "simTime = 60 # seconds\n",
    "stepTime = 0.01  # seconds\n",
    "history_length = 300\n",
    "\n",
    "EPISODE_COUNT = 15\n",
    "steps_per_ep = int(simTime/stepTime)\n",
    "\n",
    "sim_args = {\n",
    "    \"simTime\": simTime,\n",
    "    \"envStepTime\": stepTime,\n",
    "    \"historyLength\": history_length,\n",
    "    \"agentType\": Agent.TYPE,\n",
    "    \"scenario\": \"convergence\",\n",
    "    \"nWifi\": 15,\n",
    "}\n",
    "\n",
    "print(\"Steps per episode:\", steps_per_ep)\n",
    "\n",
    "threads_no = 1\n",
    "env = EnvWrapper(threads_no, **sim_args)\n",
    "\n",
    "#%%\n",
    "env.reset()\n",
    "ob_space = env.observation_space\n",
    "ac_space = env.action_space\n",
    "\n",
    "print(\"Observation space shape:\", ob_space)\n",
    "print(\"Action space shape:\", ac_space)\n",
    "\n",
    "assert ob_space is not None"
   ]
  },
  {
   "cell_type": "code",
   "execution_count": 6,
   "id": "41bafbf7",
   "metadata": {
    "scrolled": true
   },
   "outputs": [
    {
     "name": "stdout",
     "output_type": "stream",
     "text": [
      "CuDNN version: 7102\n",
      "cpu\n"
     ]
    },
    {
     "name": "stderr",
     "output_type": "stream",
     "text": [
      "COMET INFO: Experiment is live on comet.ml https://www.comet.com/sheila-janota/rl-in-wifi-with-queue-level/40dfbee57ce945419ebded1ff2b6f904\n",
      "\n",
      "  0%|          | 0/6300 [00:00<?, ?it/s]"
     ]
    },
    {
     "name": "stdout",
     "output_type": "stream",
     "text": [
      "0\n"
     ]
    },
    {
     "name": "stderr",
     "output_type": "stream",
     "text": [
      "  5%|▌         | 333/6300 [01:55<34:28,  2.89it/s, curr_speed=34.76 Mbps, mb_sent=11.12 Mb]"
     ]
    },
    {
     "name": "stdout",
     "output_type": "stream",
     "text": [
      "------- STARTED TRAINING -------\n"
     ]
    },
    {
     "name": "stderr",
     "output_type": "stream",
     "text": [
      " 83%|████████▎ | 5235/6300 [5:19:14<1:11:48,  4.05s/it, curr_speed=26.29 Mbps, mb_sent=1520.57 Mb]COMET ERROR: File could not be uploaded\n",
      " 83%|████████▎ | 5240/6300 [5:19:32<1:06:39,  3.77s/it, curr_speed=31.67 Mbps, mb_sent=1527.42 Mb]COMET ERROR: File could not be uploaded\n",
      " 83%|████████▎ | 5245/6300 [5:19:52<1:08:02,  3.87s/it, curr_speed=31.93 Mbps, mb_sent=1528.64 Mb]COMET ERROR: File could not be uploaded\n",
      " 83%|████████▎ | 5246/6300 [5:19:56<1:08:30,  3.90s/it, curr_speed=31.86 Mbps, mb_sent=1528.77 Mb]COMET ERROR: File could not be uploaded\n",
      " 84%|████████▎ | 5261/6300 [5:20:54<1:07:32,  3.90s/it, curr_speed=31.07 Mbps, mb_sent=1532.11 Mb]COMET ERROR: File could not be uploaded\n",
      " 84%|████████▎ | 5275/6300 [5:21:47<1:06:57,  3.92s/it, curr_speed=30.48 Mbps, mb_sent=1535.42 Mb]COMET ERROR: File could not be uploaded\n",
      " 84%|████████▍ | 5282/6300 [5:22:15<1:07:55,  4.00s/it, curr_speed=30.59 Mbps, mb_sent=1537.26 Mb]COMET ERROR: File could not be uploaded\n",
      " 84%|████████▍ | 5283/6300 [5:22:19<1:06:42,  3.94s/it, curr_speed=30.55 Mbps, mb_sent=1537.45 Mb]COMET ERROR: File could not be uploaded\n",
      " 84%|████████▍ | 5286/6300 [5:22:31<1:06:01,  3.91s/it, curr_speed=30.43 Mbps, mb_sent=1538.28 Mb]COMET ERROR: File could not be uploaded\n",
      " 87%|████████▋ | 5456/6300 [5:33:25<56:05,  3.99s/it, curr_speed=46.38 Mbps, mb_sent=1601.51 Mb]  COMET ERROR: File could not be uploaded\n",
      " 87%|████████▋ | 5464/6300 [5:33:56<54:35,  3.92s/it, curr_speed=47.07 Mbps, mb_sent=1604.12 Mb]COMET ERROR: File could not be uploaded\n",
      " 87%|████████▋ | 5468/6300 [5:34:12<54:29,  3.93s/it, curr_speed=47.20 Mbps, mb_sent=1605.19 Mb]COMET ERROR: File could not be uploaded\n",
      "100%|██████████| 6300/6300 [6:27:45<00:00,  3.69s/it, curr_speed=30.63 Mbps, mb_sent=1864.44 Mb]\n"
     ]
    },
    {
     "name": "stdout",
     "output_type": "stream",
     "text": [
      "Waiting for simulation script to connect on port: tcp://localhost:50779\n",
      "Please start proper ns-3 simulation script using ./waf --run \"...\"\n",
      "Waf: Entering directory `/home/samuel/ns-allinone-3.29/ns-3.29/build'\n",
      "Waf: Leaving directory `/home/samuel/ns-allinone-3.29/ns-3.29/build'\n",
      "Build commands will be stored in build/compile_commands.json\n",
      "'build' finished successfully (2.705s)\n"
     ]
    },
    {
     "name": "stderr",
     "output_type": "stream",
     "text": [
      "Ns3Env parameters:\n",
      "--nWifi: 15\n",
      "--simulationTime: 60\n",
      "--openGymPort: 50779\n",
      "--envStepTime: 0.01\n",
      "--seed: 42\n",
      "--agentType: continuous\n",
      "--scenario: convergence\n",
      "--dryRun: 0\n",
      "Simulation started\n",
      "Simulation process id: 2660117 (parent (waf shell) id: 2660097)\n",
      "Waiting for Python process to connect on port: tcp://localhost:50779\n",
      "Please start proper Python Gym Agent\n",
      "  0%|          | 0/6300 [00:00<?, ?it/s]"
     ]
    },
    {
     "name": "stdout",
     "output_type": "stream",
     "text": [
      "Sent 1864.44 Mb/s.\tMean speed: 31.07 Mb/s\tEpisode 1/15 finished\n",
      "\n",
      "1\n"
     ]
    },
    {
     "name": "stderr",
     "output_type": "stream",
     "text": [
      "100%|██████████| 6300/6300 [6:19:09<00:00,  3.61s/it, curr_speed=24.54 Mbps, mb_sent=1884.03 Mb]  \n"
     ]
    },
    {
     "name": "stdout",
     "output_type": "stream",
     "text": [
      "Waiting for simulation script to connect on port: tcp://localhost:27012\n",
      "Please start proper ns-3 simulation script using ./waf --run \"...\"\n",
      "Waf: Entering directory `/home/samuel/ns-allinone-3.29/ns-3.29/build'\n",
      "Waf: Leaving directory `/home/samuel/ns-allinone-3.29/ns-3.29/build'\n",
      "Build commands will be stored in build/compile_commands.json\n",
      "'build' finished successfully (2.662s)\n"
     ]
    },
    {
     "name": "stderr",
     "output_type": "stream",
     "text": [
      "Ns3Env parameters:\n",
      "--nWifi: 15\n",
      "--simulationTime: 60\n",
      "--openGymPort: 27012\n",
      "--envStepTime: 0.01\n",
      "--seed: 42\n",
      "--agentType: continuous\n",
      "--scenario: convergence\n",
      "--dryRun: 0\n",
      "Simulation started\n",
      "Simulation process id: 2732321 (parent (waf shell) id: 2732296)\n",
      "Waiting for Python process to connect on port: tcp://localhost:27012\n",
      "Please start proper Python Gym Agent\n",
      "  0%|          | 0/6300 [00:00<?, ?it/s]"
     ]
    },
    {
     "name": "stdout",
     "output_type": "stream",
     "text": [
      "Sent 1884.03 Mb/s.\tMean speed: 31.40 Mb/s\tEpisode 2/15 finished\n",
      "\n",
      "2\n"
     ]
    },
    {
     "name": "stderr",
     "output_type": "stream",
     "text": [
      "100%|██████████| 6300/6300 [6:19:34<00:00,  3.62s/it, curr_speed=31.39 Mbps, mb_sent=2035.12 Mb]  \n"
     ]
    },
    {
     "name": "stdout",
     "output_type": "stream",
     "text": [
      "Waiting for simulation script to connect on port: tcp://localhost:36650\n",
      "Please start proper ns-3 simulation script using ./waf --run \"...\"\n",
      "Waf: Entering directory `/home/samuel/ns-allinone-3.29/ns-3.29/build'\n",
      "Waf: Leaving directory `/home/samuel/ns-allinone-3.29/ns-3.29/build'\n",
      "Build commands will be stored in build/compile_commands.json\n",
      "'build' finished successfully (2.720s)\n"
     ]
    },
    {
     "name": "stderr",
     "output_type": "stream",
     "text": [
      "Ns3Env parameters:\n",
      "--nWifi: 15\n",
      "--simulationTime: 60\n",
      "--openGymPort: 36650\n",
      "--envStepTime: 0.01\n",
      "--seed: 42\n",
      "--agentType: continuous\n",
      "--scenario: convergence\n",
      "--dryRun: 0\n",
      "Simulation started\n",
      "Simulation process id: 2804936 (parent (waf shell) id: 2804903)\n",
      "Waiting for Python process to connect on port: tcp://localhost:36650\n",
      "Please start proper Python Gym Agent\n",
      "  0%|          | 0/6300 [00:00<?, ?it/s]"
     ]
    },
    {
     "name": "stdout",
     "output_type": "stream",
     "text": [
      "Sent 2035.12 Mb/s.\tMean speed: 33.92 Mb/s\tEpisode 3/15 finished\n",
      "\n",
      "3\n"
     ]
    },
    {
     "name": "stderr",
     "output_type": "stream",
     "text": [
      "100%|██████████| 6300/6300 [5:48:10<00:00,  3.32s/it, curr_speed=32.06 Mbps, mb_sent=2103.20 Mb]  \n"
     ]
    },
    {
     "name": "stdout",
     "output_type": "stream",
     "text": [
      "Waiting for simulation script to connect on port: tcp://localhost:24622\n",
      "Please start proper ns-3 simulation script using ./waf --run \"...\"\n",
      "Waf: Entering directory `/home/samuel/ns-allinone-3.29/ns-3.29/build'\n",
      "Waf: Leaving directory `/home/samuel/ns-allinone-3.29/ns-3.29/build'\n",
      "Build commands will be stored in build/compile_commands.json\n",
      "'build' finished successfully (2.428s)\n"
     ]
    },
    {
     "name": "stderr",
     "output_type": "stream",
     "text": [
      "Ns3Env parameters:\n",
      "--nWifi: 15\n",
      "--simulationTime: 60\n",
      "--openGymPort: 24622\n",
      "--envStepTime: 0.01\n",
      "--seed: 42\n",
      "--agentType: continuous\n",
      "--scenario: convergence\n",
      "--dryRun: 0\n",
      "Simulation started\n",
      "Simulation process id: 2877837 (parent (waf shell) id: 2877817)\n",
      "Waiting for Python process to connect on port: tcp://localhost:24622\n",
      "Please start proper Python Gym Agent\n",
      "  0%|          | 0/6300 [00:00<?, ?it/s]"
     ]
    },
    {
     "name": "stdout",
     "output_type": "stream",
     "text": [
      "Sent 2103.20 Mb/s.\tMean speed: 35.05 Mb/s\tEpisode 4/15 finished\n",
      "\n",
      "4\n"
     ]
    },
    {
     "name": "stderr",
     "output_type": "stream",
     "text": [
      "  5%|▍         | 304/6300 [01:41<3:55:05,  2.35s/it, curr_speed=37.60 Mbps, mb_sent=1.13 Mb]"
     ]
    },
    {
     "name": "stdout",
     "output_type": "stream",
     "text": [
      "------- MEMORY BUFFER FILLED -------\n"
     ]
    },
    {
     "name": "stderr",
     "output_type": "stream",
     "text": [
      "100%|██████████| 6300/6300 [4:46:15<00:00,  2.73s/it, curr_speed=35.90 Mbps, mb_sent=2185.08 Mb]  \n"
     ]
    },
    {
     "name": "stdout",
     "output_type": "stream",
     "text": [
      "Waiting for simulation script to connect on port: tcp://localhost:40931\n",
      "Please start proper ns-3 simulation script using ./waf --run \"...\"\n",
      "Waf: Entering directory `/home/samuel/ns-allinone-3.29/ns-3.29/build'\n",
      "Waf: Leaving directory `/home/samuel/ns-allinone-3.29/ns-3.29/build'\n",
      "Build commands will be stored in build/compile_commands.json\n",
      "'build' finished successfully (2.315s)\n"
     ]
    },
    {
     "name": "stderr",
     "output_type": "stream",
     "text": [
      "Ns3Env parameters:\n",
      "--nWifi: 15\n",
      "--simulationTime: 60\n",
      "--openGymPort: 40931\n",
      "--envStepTime: 0.01\n",
      "--seed: 42\n",
      "--agentType: continuous\n",
      "--scenario: convergence\n",
      "--dryRun: 0\n",
      "Simulation started\n",
      "Simulation process id: 2937500 (parent (waf shell) id: 2937479)\n",
      "Waiting for Python process to connect on port: tcp://localhost:40931\n",
      "Please start proper Python Gym Agent\n",
      "  0%|          | 0/6300 [00:00<?, ?it/s]"
     ]
    },
    {
     "name": "stdout",
     "output_type": "stream",
     "text": [
      "Sent 2185.08 Mb/s.\tMean speed: 36.42 Mb/s\tEpisode 5/15 finished\n",
      "\n",
      "5\n"
     ]
    },
    {
     "name": "stderr",
     "output_type": "stream",
     "text": [
      " 41%|████      | 2584/6300 [1:37:05<2:47:21,  2.70s/it, curr_speed=37.50 Mbps, mb_sent=858.53 Mb]COMET ERROR: File could not be uploaded\n",
      " 41%|████      | 2593/6300 [1:37:27<2:24:32,  2.34s/it, curr_speed=37.45 Mbps, mb_sent=861.89 Mb]COMET ERROR: File could not be uploaded\n",
      " 41%|████      | 2598/6300 [1:37:38<2:13:54,  2.17s/it, curr_speed=37.57 Mbps, mb_sent=863.79 Mb]COMET ERROR: File could not be uploaded\n",
      " 41%|████▏     | 2607/6300 [1:38:00<2:33:14,  2.49s/it, curr_speed=37.66 Mbps, mb_sent=867.26 Mb]COMET ERROR: File could not be uploaded\n",
      " 41%|████▏     | 2610/6300 [1:38:08<2:34:20,  2.51s/it, curr_speed=37.69 Mbps, mb_sent=868.45 Mb]COMET ERROR: File could not be uploaded\n",
      " 41%|████▏     | 2614/6300 [1:38:18<2:41:13,  2.62s/it, curr_speed=37.69 Mbps, mb_sent=869.91 Mb]COMET ERROR: File could not be uploaded\n",
      " 42%|████▏     | 2619/6300 [1:38:31<2:38:15,  2.58s/it, curr_speed=37.59 Mbps, mb_sent=871.64 Mb]COMET ERROR: File could not be uploaded\n",
      " 42%|████▏     | 2629/6300 [1:38:59<2:52:06,  2.81s/it, curr_speed=37.51 Mbps, mb_sent=875.33 Mb]COMET ERROR: File could not be uploaded\n",
      " 42%|████▏     | 2637/6300 [1:39:20<2:52:01,  2.82s/it, curr_speed=37.61 Mbps, mb_sent=878.34 Mb]COMET ERROR: File could not be uploaded\n",
      " 42%|████▏     | 2641/6300 [1:39:30<2:27:13,  2.41s/it, curr_speed=37.63 Mbps, mb_sent=879.86 Mb]COMET ERROR: File could not be uploaded\n",
      " 42%|████▏     | 2652/6300 [1:39:59<2:34:43,  2.54s/it, curr_speed=37.45 Mbps, mb_sent=883.92 Mb]COMET ERROR: File could not be uploaded\n",
      " 42%|████▏     | 2668/6300 [1:40:40<2:35:04,  2.56s/it, curr_speed=37.45 Mbps, mb_sent=889.90 Mb]COMET ERROR: File could not be uploaded\n",
      "100%|██████████| 6300/6300 [4:38:29<00:00,  2.65s/it, curr_speed=37.13 Mbps, mb_sent=2230.23 Mb]  \n"
     ]
    },
    {
     "name": "stdout",
     "output_type": "stream",
     "text": [
      "Waiting for simulation script to connect on port: tcp://localhost:45585\n",
      "Please start proper ns-3 simulation script using ./waf --run \"...\"\n",
      "Waf: Entering directory `/home/samuel/ns-allinone-3.29/ns-3.29/build'\n",
      "Waf: Leaving directory `/home/samuel/ns-allinone-3.29/ns-3.29/build'\n",
      "Build commands will be stored in build/compile_commands.json\n",
      "'build' finished successfully (2.683s)\n"
     ]
    },
    {
     "name": "stderr",
     "output_type": "stream",
     "text": [
      "Ns3Env parameters:\n",
      "--nWifi: 15\n",
      "--simulationTime: 60\n",
      "--openGymPort: 45585\n",
      "--envStepTime: 0.01\n",
      "--seed: 42\n",
      "--agentType: continuous\n",
      "--scenario: convergence\n",
      "--dryRun: 0\n",
      "Simulation started\n",
      "Simulation process id: 2990188 (parent (waf shell) id: 2990166)\n",
      "Waiting for Python process to connect on port: tcp://localhost:45585\n",
      "Please start proper Python Gym Agent\n",
      "  0%|          | 0/6300 [00:00<?, ?it/s]"
     ]
    },
    {
     "name": "stdout",
     "output_type": "stream",
     "text": [
      "Sent 2230.23 Mb/s.\tMean speed: 37.17 Mb/s\tEpisode 6/15 finished\n",
      "\n",
      "6\n"
     ]
    },
    {
     "name": "stderr",
     "output_type": "stream",
     "text": [
      "100%|██████████| 6300/6300 [6:20:20<00:00,  3.62s/it, curr_speed=37.23 Mbps, mb_sent=2252.22 Mb]  \n"
     ]
    },
    {
     "name": "stdout",
     "output_type": "stream",
     "text": [
      "Waiting for simulation script to connect on port: tcp://localhost:17985\n",
      "Please start proper ns-3 simulation script using ./waf --run \"...\"\n",
      "Waf: Entering directory `/home/samuel/ns-allinone-3.29/ns-3.29/build'\n",
      "Waf: Leaving directory `/home/samuel/ns-allinone-3.29/ns-3.29/build'\n",
      "Build commands will be stored in build/compile_commands.json\n",
      "'build' finished successfully (2.573s)\n"
     ]
    },
    {
     "name": "stderr",
     "output_type": "stream",
     "text": [
      "Ns3Env parameters:\n",
      "--nWifi: 15\n",
      "--simulationTime: 60\n",
      "--openGymPort: 17985\n",
      "--envStepTime: 0.01\n",
      "--seed: 42\n",
      "--agentType: continuous\n",
      "--scenario: convergence\n",
      "--dryRun: 0\n",
      "Simulation started\n",
      "Simulation process id: 3060069 (parent (waf shell) id: 3060045)\n",
      "Waiting for Python process to connect on port: tcp://localhost:17985\n",
      "Please start proper Python Gym Agent\n",
      "  0%|          | 0/6300 [00:00<?, ?it/s]"
     ]
    },
    {
     "name": "stdout",
     "output_type": "stream",
     "text": [
      "Sent 2252.22 Mb/s.\tMean speed: 37.54 Mb/s\tEpisode 7/15 finished\n",
      "\n",
      "7\n"
     ]
    },
    {
     "name": "stderr",
     "output_type": "stream",
     "text": [
      "100%|██████████| 6300/6300 [6:20:38<00:00,  3.63s/it, curr_speed=37.19 Mbps, mb_sent=2269.18 Mb]  \n"
     ]
    },
    {
     "name": "stdout",
     "output_type": "stream",
     "text": [
      "Waiting for simulation script to connect on port: tcp://localhost:31554\n",
      "Please start proper ns-3 simulation script using ./waf --run \"...\"\n",
      "Waf: Entering directory `/home/samuel/ns-allinone-3.29/ns-3.29/build'\n",
      "Waf: Leaving directory `/home/samuel/ns-allinone-3.29/ns-3.29/build'\n",
      "Build commands will be stored in build/compile_commands.json\n",
      "'build' finished successfully (2.823s)\n"
     ]
    },
    {
     "name": "stderr",
     "output_type": "stream",
     "text": [
      "Ns3Env parameters:\n",
      "--nWifi: 15\n",
      "--simulationTime: 60\n",
      "--openGymPort: 31554\n",
      "--envStepTime: 0.01\n",
      "--seed: 42\n",
      "--agentType: continuous\n",
      "--scenario: convergence\n",
      "--dryRun: 0\n",
      "Simulation started\n",
      "Simulation process id: 3129961 (parent (waf shell) id: 3129940)\n",
      "Waiting for Python process to connect on port: tcp://localhost:31554\n",
      "Please start proper Python Gym Agent\n",
      "  0%|          | 0/6300 [00:00<?, ?it/s]"
     ]
    },
    {
     "name": "stdout",
     "output_type": "stream",
     "text": [
      "Sent 2269.18 Mb/s.\tMean speed: 37.82 Mb/s\tEpisode 8/15 finished\n",
      "\n",
      "8\n"
     ]
    },
    {
     "name": "stderr",
     "output_type": "stream",
     "text": [
      "100%|██████████| 6300/6300 [6:08:02<00:00,  3.51s/it, curr_speed=38.02 Mbps, mb_sent=2288.90 Mb]  \n"
     ]
    },
    {
     "name": "stdout",
     "output_type": "stream",
     "text": [
      "Waiting for simulation script to connect on port: tcp://localhost:24128\n",
      "Please start proper ns-3 simulation script using ./waf --run \"...\"\n",
      "Waf: Entering directory `/home/samuel/ns-allinone-3.29/ns-3.29/build'\n",
      "Waf: Leaving directory `/home/samuel/ns-allinone-3.29/ns-3.29/build'\n",
      "Build commands will be stored in build/compile_commands.json\n",
      "'build' finished successfully (2.423s)\n"
     ]
    },
    {
     "name": "stderr",
     "output_type": "stream",
     "text": [
      "Ns3Env parameters:\n",
      "--nWifi: 15\n",
      "--simulationTime: 60\n",
      "--openGymPort: 24128\n",
      "--envStepTime: 0.01\n",
      "--seed: 42\n",
      "--agentType: continuous\n",
      "--scenario: convergence\n",
      "--dryRun: 0\n",
      "Simulation started\n",
      "Simulation process id: 3198028 (parent (waf shell) id: 3198009)\n",
      "Waiting for Python process to connect on port: tcp://localhost:24128\n",
      "Please start proper Python Gym Agent\n",
      "  0%|          | 0/6300 [00:00<?, ?it/s]"
     ]
    },
    {
     "name": "stdout",
     "output_type": "stream",
     "text": [
      "Sent 2288.90 Mb/s.\tMean speed: 38.15 Mb/s\tEpisode 9/15 finished\n",
      "\n",
      "9\n"
     ]
    },
    {
     "name": "stderr",
     "output_type": "stream",
     "text": [
      " 41%|████      | 2564/6300 [2:10:41<4:00:52,  3.87s/it, curr_speed=38.43 Mbps, mb_sent=868.28 Mb]COMET ERROR: File could not be uploaded\n",
      " 41%|████      | 2570/6300 [2:11:03<3:45:41,  3.63s/it, curr_speed=38.36 Mbps, mb_sent=870.58 Mb]COMET ERROR: File could not be uploaded\n",
      " 41%|████      | 2579/6300 [2:11:38<3:51:49,  3.74s/it, curr_speed=38.48 Mbps, mb_sent=874.11 Mb]COMET ERROR: File could not be uploaded\n",
      " 41%|████      | 2584/6300 [2:11:55<3:37:18,  3.51s/it, curr_speed=38.49 Mbps, mb_sent=876.03 Mb]COMET ERROR: File could not be uploaded\n",
      " 41%|████      | 2585/6300 [2:11:59<3:48:42,  3.69s/it, curr_speed=38.57 Mbps, mb_sent=876.42 Mb]COMET ERROR: File could not be uploaded\n",
      " 41%|████      | 2590/6300 [2:12:19<3:55:56,  3.82s/it, curr_speed=38.46 Mbps, mb_sent=878.31 Mb]COMET ERROR: File could not be uploaded\n",
      " 41%|████      | 2594/6300 [2:12:34<3:58:36,  3.86s/it, curr_speed=38.51 Mbps, mb_sent=879.89 Mb]COMET ERROR: File could not be uploaded\n",
      "COMET ERROR: File could not be uploaded\n",
      " 41%|████      | 2598/6300 [2:12:51<4:11:58,  4.08s/it, curr_speed=38.56 Mbps, mb_sent=881.39 Mb]COMET ERROR: File could not be uploaded\n",
      " 41%|████▏     | 2601/6300 [2:13:03<4:01:43,  3.92s/it, curr_speed=38.56 Mbps, mb_sent=882.60 Mb]COMET ERROR: File could not be uploaded\n",
      " 41%|████▏     | 2605/6300 [2:13:19<4:07:31,  4.02s/it, curr_speed=38.62 Mbps, mb_sent=884.15 Mb]COMET ERROR: File could not be uploaded\n",
      " 41%|████▏     | 2612/6300 [2:13:45<3:49:37,  3.74s/it, curr_speed=38.75 Mbps, mb_sent=886.84 Mb]COMET ERROR: File could not be uploaded\n",
      "COMET ERROR: File could not be uploaded\n",
      "COMET ERROR: File could not be uploaded\n",
      "COMET ERROR: File could not be uploaded\n",
      "COMET ERROR: File could not be uploaded\n",
      " 42%|████▏     | 2617/6300 [2:14:04<3:51:03,  3.76s/it, curr_speed=38.72 Mbps, mb_sent=888.81 Mb]COMET ERROR: File could not be uploaded\n",
      "COMET ERROR: File could not be uploaded\n",
      " 42%|████▏     | 2618/6300 [2:14:08<3:59:17,  3.90s/it, curr_speed=38.71 Mbps, mb_sent=889.19 Mb]COMET ERROR: File could not be uploaded\n",
      " 42%|████▏     | 2623/6300 [2:14:27<3:56:14,  3.85s/it, curr_speed=38.77 Mbps, mb_sent=891.10 Mb]COMET ERROR: File could not be uploaded\n",
      "COMET ERROR: File could not be uploaded\n",
      " 42%|████▏     | 2628/6300 [2:14:46<3:50:40,  3.77s/it, curr_speed=38.64 Mbps, mb_sent=892.94 Mb]COMET ERROR: File could not be uploaded\n",
      " 42%|████▏     | 2629/6300 [2:14:50<3:52:12,  3.80s/it, curr_speed=38.62 Mbps, mb_sent=893.31 Mb]COMET ERROR: File could not be uploaded\n",
      " 44%|████▍     | 2758/6300 [2:23:01<3:37:20,  3.68s/it, curr_speed=38.21 Mbps, mb_sent=942.64 Mb]COMET ERROR: File could not be uploaded\n",
      " 44%|████▍     | 2764/6300 [2:23:23<3:40:32,  3.74s/it, curr_speed=38.08 Mbps, mb_sent=944.93 Mb]COMET ERROR: File could not be uploaded\n",
      " 44%|████▍     | 2765/6300 [2:23:26<3:36:52,  3.68s/it, curr_speed=38.05 Mbps, mb_sent=945.31 Mb]COMET ERROR: File could not be uploaded\n",
      " 44%|████▍     | 2770/6300 [2:23:45<3:29:32,  3.56s/it, curr_speed=38.03 Mbps, mb_sent=947.18 Mb]COMET ERROR: File could not be uploaded\n",
      " 44%|████▍     | 2773/6300 [2:23:56<3:31:57,  3.61s/it, curr_speed=38.12 Mbps, mb_sent=948.37 Mb]COMET ERROR: File could not be uploaded\n",
      " 44%|████▍     | 2775/6300 [2:24:04<3:37:57,  3.71s/it, curr_speed=38.14 Mbps, mb_sent=949.13 Mb]COMET ERROR: File could not be uploaded\n",
      " 44%|████▍     | 2781/6300 [2:24:27<3:43:31,  3.81s/it, curr_speed=38.10 Mbps, mb_sent=951.31 Mb]COMET ERROR: File could not be uploaded\n",
      " 44%|████▍     | 2784/6300 [2:24:39<3:47:53,  3.89s/it, curr_speed=38.11 Mbps, mb_sent=952.45 Mb]COMET ERROR: File could not be uploaded\n",
      " 44%|████▍     | 2793/6300 [2:25:14<3:46:55,  3.88s/it, curr_speed=37.99 Mbps, mb_sent=955.91 Mb]COMET ERROR: File could not be uploaded\n",
      " 44%|████▍     | 2794/6300 [2:25:17<3:33:36,  3.66s/it, curr_speed=38.09 Mbps, mb_sent=956.34 Mb]COMET ERROR: File could not be uploaded\n",
      " 44%|████▍     | 2802/6300 [2:25:48<3:38:58,  3.76s/it, curr_speed=38.21 Mbps, mb_sent=959.48 Mb]COMET ERROR: File could not be uploaded\n",
      "COMET ERROR: File could not be uploaded\n",
      " 45%|████▍     | 2813/6300 [2:26:29<3:33:57,  3.68s/it, curr_speed=38.21 Mbps, mb_sent=963.69 Mb]COMET ERROR: File could not be uploaded\n",
      " 45%|████▍     | 2815/6300 [2:26:36<3:36:15,  3.72s/it, curr_speed=38.19 Mbps, mb_sent=964.45 Mb]COMET ERROR: File could not be uploaded\n",
      " 46%|████▌     | 2876/6300 [2:30:29<3:36:41,  3.80s/it, curr_speed=38.36 Mbps, mb_sent=988.23 Mb]COMET ERROR: File could not be uploaded\n",
      " 46%|████▌     | 2878/6300 [2:30:33<3:36:46,  3.80s/it, curr_speed=38.43 Mbps, mb_sent=988.65 Mb]COMET ERROR: File could not be uploaded\n",
      " 46%|████▌     | 2881/6300 [2:30:45<3:46:13,  3.97s/it, curr_speed=38.53 Mbps, mb_sent=989.85 Mb]COMET ERROR: File could not be uploaded\n",
      " 46%|████▌     | 2885/6300 [2:31:00<3:36:49,  3.81s/it, curr_speed=38.56 Mbps, mb_sent=991.42 Mb]COMET ERROR: File could not be uploaded\n",
      " 46%|████▌     | 2895/6300 [2:31:37<3:32:29,  3.74s/it, curr_speed=38.57 Mbps, mb_sent=995.34 Mb]COMET ERROR: File could not be uploaded\n",
      " 46%|████▌     | 2912/6300 [2:32:43<3:34:24,  3.80s/it, curr_speed=38.52 Mbps, mb_sent=1001.80 Mb]COMET ERROR: File could not be uploaded\n",
      " 47%|████▋     | 2963/6300 [2:35:55<3:30:05,  3.78s/it, curr_speed=38.26 Mbps, mb_sent=1021.15 Mb]COMET ERROR: File could not be uploaded\n",
      " 47%|████▋     | 2965/6300 [2:36:03<3:29:44,  3.77s/it, curr_speed=38.28 Mbps, mb_sent=1021.88 Mb]COMET ERROR: File could not be uploaded\n",
      " 47%|████▋     | 2969/6300 [2:36:18<3:31:01,  3.80s/it, curr_speed=38.26 Mbps, mb_sent=1023.33 Mb]COMET ERROR: File could not be uploaded\n",
      "100%|██████████| 6300/6300 [6:09:49<00:00,  3.52s/it, curr_speed=37.72 Mbps, mb_sent=2287.33 Mb]  \n"
     ]
    },
    {
     "name": "stdout",
     "output_type": "stream",
     "text": [
      "Waiting for simulation script to connect on port: tcp://localhost:43813\n",
      "Please start proper ns-3 simulation script using ./waf --run \"...\"\n",
      "Waf: Entering directory `/home/samuel/ns-allinone-3.29/ns-3.29/build'\n",
      "Waf: Leaving directory `/home/samuel/ns-allinone-3.29/ns-3.29/build'\n",
      "Build commands will be stored in build/compile_commands.json\n",
      "'build' finished successfully (2.583s)\n"
     ]
    },
    {
     "name": "stderr",
     "output_type": "stream",
     "text": [
      "Ns3Env parameters:\n",
      "--nWifi: 15\n",
      "--simulationTime: 60\n",
      "--openGymPort: 43813\n",
      "--envStepTime: 0.01\n",
      "--seed: 42\n",
      "--agentType: continuous\n",
      "--scenario: convergence\n",
      "--dryRun: 0\n",
      "Simulation started\n",
      "Simulation process id: 3270680 (parent (waf shell) id: 3270660)\n",
      "Waiting for Python process to connect on port: tcp://localhost:43813\n",
      "Please start proper Python Gym Agent\n",
      "  0%|          | 0/6300 [00:00<?, ?it/s]"
     ]
    },
    {
     "name": "stdout",
     "output_type": "stream",
     "text": [
      "Sent 2287.33 Mb/s.\tMean speed: 38.12 Mb/s\tEpisode 10/15 finished\n",
      "\n",
      "10\n"
     ]
    },
    {
     "name": "stderr",
     "output_type": "stream",
     "text": [
      "100%|██████████| 6300/6300 [4:02:18<00:00,  2.31s/it, curr_speed=38.12 Mbps, mb_sent=2294.07 Mb]  \n"
     ]
    },
    {
     "name": "stdout",
     "output_type": "stream",
     "text": [
      "Waiting for simulation script to connect on port: tcp://localhost:25817\n",
      "Please start proper ns-3 simulation script using ./waf --run \"...\"\n",
      "Waf: Entering directory `/home/samuel/ns-allinone-3.29/ns-3.29/build'\n",
      "Waf: Leaving directory `/home/samuel/ns-allinone-3.29/ns-3.29/build'\n",
      "Build commands will be stored in build/compile_commands.json\n",
      "'build' finished successfully (2.288s)\n"
     ]
    },
    {
     "name": "stderr",
     "output_type": "stream",
     "text": [
      "Ns3Env parameters:\n",
      "--nWifi: 15\n",
      "--simulationTime: 60\n",
      "--openGymPort: 25817\n",
      "--envStepTime: 0.01\n",
      "--seed: 42\n",
      "--agentType: continuous\n",
      "--scenario: convergence\n",
      "--dryRun: 0\n",
      "Simulation started\n",
      "Simulation process id: 3323002 (parent (waf shell) id: 3322975)\n",
      "Waiting for Python process to connect on port: tcp://localhost:25817\n",
      "Please start proper Python Gym Agent\n",
      "  0%|          | 1/6300 [00:00<20:24,  5.14it/s, curr_speed=0.00 Mbps, mb_sent=0.00 Mb]"
     ]
    },
    {
     "name": "stdout",
     "output_type": "stream",
     "text": [
      "Sent 2294.07 Mb/s.\tMean speed: 38.23 Mb/s\tEpisode 11/15 finished\n",
      "\n",
      "11\n"
     ]
    },
    {
     "name": "stderr",
     "output_type": "stream",
     "text": [
      "100%|██████████| 6300/6300 [3:06:31<00:00,  1.78s/it, curr_speed=37.76 Mbps, mb_sent=2293.54 Mb]  \n"
     ]
    },
    {
     "name": "stdout",
     "output_type": "stream",
     "text": [
      "Waiting for simulation script to connect on port: tcp://localhost:49493\n",
      "Please start proper ns-3 simulation script using ./waf --run \"...\"\n",
      "Waf: Entering directory `/home/samuel/ns-allinone-3.29/ns-3.29/build'\n",
      "Waf: Leaving directory `/home/samuel/ns-allinone-3.29/ns-3.29/build'\n",
      "Build commands will be stored in build/compile_commands.json\n",
      "'build' finished successfully (2.287s)\n"
     ]
    },
    {
     "name": "stderr",
     "output_type": "stream",
     "text": [
      "Ns3Env parameters:\n",
      "--nWifi: 15\n",
      "--simulationTime: 60\n",
      "--openGymPort: 49493\n",
      "--envStepTime: 0.01\n",
      "--seed: 42\n",
      "--agentType: continuous\n",
      "--scenario: convergence\n",
      "--dryRun: 0\n",
      "Simulation started\n",
      "Simulation process id: 3363619 (parent (waf shell) id: 3363601)\n",
      "Waiting for Python process to connect on port: tcp://localhost:49493\n",
      "Please start proper Python Gym Agent\n",
      "  0%|          | 0/6300 [00:00<?, ?it/s]"
     ]
    },
    {
     "name": "stdout",
     "output_type": "stream",
     "text": [
      "Sent 2293.54 Mb/s.\tMean speed: 38.23 Mb/s\tEpisode 12/15 finished\n",
      "\n",
      "12\n",
      "Turning off noise\n"
     ]
    },
    {
     "name": "stderr",
     "output_type": "stream",
     "text": [
      "100%|██████████| 6300/6300 [4:27:11<00:00,  2.54s/it, curr_speed=38.10 Mbps, mb_sent=2298.08 Mb]  \n"
     ]
    },
    {
     "name": "stdout",
     "output_type": "stream",
     "text": [
      "Waiting for simulation script to connect on port: tcp://localhost:49946\n",
      "Please start proper ns-3 simulation script using ./waf --run \"...\"\n",
      "Waf: Entering directory `/home/samuel/ns-allinone-3.29/ns-3.29/build'\n",
      "Waf: Leaving directory `/home/samuel/ns-allinone-3.29/ns-3.29/build'\n",
      "Build commands will be stored in build/compile_commands.json\n",
      "'build' finished successfully (2.327s)\n"
     ]
    },
    {
     "name": "stderr",
     "output_type": "stream",
     "text": [
      "Ns3Env parameters:\n",
      "--nWifi: 15\n",
      "--simulationTime: 60\n",
      "--openGymPort: 49946\n",
      "--envStepTime: 0.01\n",
      "--seed: 42\n",
      "--agentType: continuous\n",
      "--scenario: convergence\n",
      "--dryRun: 0\n",
      "Simulation started\n",
      "Simulation process id: 3412865 (parent (waf shell) id: 3412847)\n",
      "Waiting for Python process to connect on port: tcp://localhost:49946\n",
      "Please start proper Python Gym Agent\n",
      "  0%|          | 0/6300 [00:00<?, ?it/s]"
     ]
    },
    {
     "name": "stdout",
     "output_type": "stream",
     "text": [
      "Sent 2298.08 Mb/s.\tMean speed: 38.30 Mb/s\tEpisode 13/15 finished\n",
      "\n",
      "13\n",
      "Turning off noise\n"
     ]
    },
    {
     "name": "stderr",
     "output_type": "stream",
     "text": [
      " 13%|█▎        | 798/6300 [23:07<4:20:50,  2.84s/it, curr_speed=38.98 Mbps, mb_sent=193.35 Mb]COMET ERROR: File could not be uploaded\n",
      " 21%|██▏       | 1347/6300 [46:54<3:39:36,  2.66s/it, curr_speed=38.96 Mbps, mb_sent=406.78 Mb]COMET ERROR: File could not be uploaded\n",
      " 84%|████████▎ | 5272/6300 [3:42:17<48:38,  2.84s/it, curr_speed=38.07 Mbps, mb_sent=1908.54 Mb]  COMET ERROR: File could not be uploaded\n",
      " 94%|█████████▎| 5896/6300 [4:10:48<16:56,  2.52s/it, curr_speed=37.76 Mbps, mb_sent=2145.20 Mb]COMET ERROR: File could not be uploaded\n",
      "100%|██████████| 6300/6300 [4:29:15<00:00,  2.56s/it, curr_speed=38.34 Mbps, mb_sent=2298.98 Mb]\n"
     ]
    },
    {
     "name": "stdout",
     "output_type": "stream",
     "text": [
      "Waiting for simulation script to connect on port: tcp://localhost:18090\n",
      "Please start proper ns-3 simulation script using ./waf --run \"...\"\n",
      "Waf: Entering directory `/home/samuel/ns-allinone-3.29/ns-3.29/build'\n",
      "Waf: Leaving directory `/home/samuel/ns-allinone-3.29/ns-3.29/build'\n",
      "Build commands will be stored in build/compile_commands.json\n",
      "'build' finished successfully (2.272s)\n"
     ]
    },
    {
     "name": "stderr",
     "output_type": "stream",
     "text": [
      "Ns3Env parameters:\n",
      "--nWifi: 15\n",
      "--simulationTime: 60\n",
      "--openGymPort: 18090\n",
      "--envStepTime: 0.01\n",
      "--seed: 42\n",
      "--agentType: continuous\n",
      "--scenario: convergence\n",
      "--dryRun: 0\n",
      "Simulation started\n",
      "Simulation process id: 3456957 (parent (waf shell) id: 3456939)\n",
      "Waiting for Python process to connect on port: tcp://localhost:18090\n",
      "Please start proper Python Gym Agent\n",
      "  0%|          | 0/6300 [00:00<?, ?it/s]"
     ]
    },
    {
     "name": "stdout",
     "output_type": "stream",
     "text": [
      "Sent 2298.98 Mb/s.\tMean speed: 38.32 Mb/s\tEpisode 14/15 finished\n",
      "\n",
      "14\n",
      "Turning off noise\n"
     ]
    },
    {
     "name": "stderr",
     "output_type": "stream",
     "text": [
      " 87%|████████▋ | 5466/6300 [35:26<06:16,  2.22it/s, curr_speed=38.23 Mbps, mb_sent=1979.22 Mb]COMET ERROR: File could not be uploaded\n",
      "100%|██████████| 6300/6300 [42:08<00:00,  2.49it/s, curr_speed=38.19 Mbps, mb_sent=2296.28 Mb]\n"
     ]
    },
    {
     "name": "stdout",
     "output_type": "stream",
     "text": [
      "Waiting for simulation script to connect on port: tcp://localhost:27255\n",
      "Please start proper ns-3 simulation script using ./waf --run \"...\"\n",
      "Waf: Entering directory `/home/samuel/ns-allinone-3.29/ns-3.29/build'\n",
      "Waf: Leaving directory `/home/samuel/ns-allinone-3.29/ns-3.29/build'\n",
      "Build commands will be stored in build/compile_commands.json\n",
      "'build' finished successfully (2.379s)\n"
     ]
    },
    {
     "name": "stderr",
     "output_type": "stream",
     "text": [
      "Ns3Env parameters:\n",
      "--nWifi: 15\n",
      "--simulationTime: 60\n",
      "--openGymPort: 27255\n",
      "--envStepTime: 0.01\n",
      "--seed: 42\n",
      "--agentType: continuous\n",
      "--scenario: convergence\n",
      "--dryRun: 0\n",
      "Simulation started\n",
      "Simulation process id: 3468937 (parent (waf shell) id: 3468920)\n",
      "Waiting for Python process to connect on port: tcp://localhost:27255\n",
      "Please start proper Python Gym Agent\n",
      "COMET INFO: ----------------------------\n",
      "COMET INFO: Comet.ml Experiment Summary:\n",
      "COMET INFO:   Data:\n",
      "COMET INFO:     url: https://www.comet.com/sheila-janota/rl-in-wifi-with-queue-level/40dfbee57ce945419ebded1ff2b6f904\n",
      "COMET INFO:   Metrics [count] (min, max):\n",
      "COMET INFO:     Chosen CW [89985]           : (16.0, 1024.0)\n",
      "COMET INFO:     Cumulative reward [15]      : (2432.28564453125, 3217.60107421875)\n",
      "COMET INFO:     Current throughput [89985]  : (19.747562408447266, 66.5921630859375)\n",
      "COMET INFO:     Fairness index [89985]      : (0.07395000010728836, 0.999584972858429)\n",
      "COMET INFO:     Megabytes sent [89985]      : (0.35742199420928955, 2298.982112854719)\n",
      "COMET INFO:     Observation 0 [89985]       : (0.28920312486588956, 0.9374989583094915)\n",
      "COMET INFO:     Observation 1 [89985]       : (0.0, 0.04253667803272383)\n",
      "COMET INFO:     Per-ep reward [89985]       : (128.58251953125, 3217.60107421875)\n",
      "COMET INFO:     Round megabytes sent [89985]: (0.033507999032735825, 11.82843017578125)\n",
      "COMET INFO:     Round reward [89985]        : (0.044677734375, 0.92333984375)\n",
      "COMET INFO:     Speed [15]                  : (31.073923886939884, 38.316368547578655)\n",
      "COMET INFO:     Station count [89985]       : (5.0, 15.0)\n",
      "COMET INFO:     actor_loss [89985]          : (-1.7118271589279175, 0.0)\n",
      "COMET INFO:     critic_loss [89985]         : (0.0, 5.71896505355835)\n",
      "COMET INFO:     loss [33578]                : (-1.7101370096206665, 0.9781932830810547)\n",
      "COMET INFO:   Uploads:\n",
      "COMET INFO:     histogram3d: 89985\n",
      "COMET INFO: ----------------------------\n",
      "COMET INFO: Uploading stats to Comet before program termination (may take several seconds)\n"
     ]
    },
    {
     "name": "stdout",
     "output_type": "stream",
     "text": [
      "Sent 2296.28 Mb/s.\tMean speed: 38.27 Mb/s\tEpisode 15/15 finished\n",
      "\n",
      "Training finished.\n"
     ]
    }
   ],
   "source": [
    "#%%\n",
    "teacher = Teacher(env, 1, Preprocessor(False))\n",
    "\n",
    "lr_actor = 4e-4\n",
    "lr_critic = 4e-3\n",
    "\n",
    "config = Config(buffer_size=4*steps_per_ep*threads_no, batch_size=32, gamma=0.7, tau=1e-3, lr_actor=lr_actor, lr_critic=lr_critic, update_every=1)\n",
    "agent = Agent(history_length, action_size=1, config=config, actor_layers=[8, 128, 16], critic_layers=[8,128,16])\n",
    "\n",
    "# Test the model\n",
    "hyperparams = {**config.__dict__, **sim_args}\n",
    "tags = [\"Rew: normalized speed\",\n",
    "        f\"{Agent.NAME}\",\n",
    "        sim_args['scenario'],\n",
    "        f\"Actor: {lr_actor}\",\n",
    "        f\"Critic: {lr_critic}\",\n",
    "        f\"Instances: {threads_no}\",\n",
    "        f\"Station count: {sim_args['nWifi']}\",\n",
    "        *[f\"{key}: {sim_args[key]}\" for key in list(sim_args)[:3]]]\n",
    "# agent.save()\n",
    "logger = teacher.train(agent, EPISODE_COUNT,\n",
    "                        simTime=simTime,\n",
    "                        stepTime=stepTime,\n",
    "                        history_length=history_length,\n",
    "                        send_logs=True,\n",
    "                        experimental=True,\n",
    "                        tags=tags,\n",
    "                        parameters=hyperparams)\n",
    "# logger = teacher.eval(agent,\n",
    "#                         simTime=simTime,\n",
    "#                         stepTime=stepTime,\n",
    "#                         history_length=history_length,\n",
    "#                         tags=tags,\n",
    "#                         parameters=hyperparams)\n",
    "# agent.save()"
   ]
  },
  {
   "cell_type": "code",
   "execution_count": null,
   "id": "48088b2f",
   "metadata": {},
   "outputs": [],
   "source": []
  },
  {
   "cell_type": "markdown",
   "id": "5f176f2e",
   "metadata": {},
   "source": [
    "# Execution num3:"
   ]
  },
  {
   "cell_type": "code",
   "execution_count": 1,
   "id": "f951dc05",
   "metadata": {},
   "outputs": [],
   "source": [
    "#%%\n",
    "from ns3gym import ns3env\n",
    "from comet_ml import Experiment, Optimizer\n",
    "import tqdm\n",
    "import subprocess\n",
    "from collections import deque\n",
    "import numpy as np\n",
    "\n",
    "from agents.ddpg.agent import Agent, Config\n",
    "from agents.ddpg.model import Actor\n",
    "from agents.teacher import Teacher, EnvWrapper\n",
    "from preprocessor import Preprocessor\n"
   ]
  },
  {
   "cell_type": "code",
   "execution_count": 2,
   "id": "3b3ceb95",
   "metadata": {},
   "outputs": [
    {
     "name": "stdout",
     "output_type": "stream",
     "text": [
      "Steps per episode: 6000\n",
      "Waiting for simulation script to connect on port: tcp://localhost:49366\n",
      "Please start proper ns-3 simulation script using ./waf --run \"...\"\n",
      "Waf: Entering directory `/home/samuel/ns-allinone-3.29/ns-3.29/build'\n",
      "Waf: Leaving directory `/home/samuel/ns-allinone-3.29/ns-3.29/build'\n",
      "Build commands will be stored in build/compile_commands.json\n",
      "'build' finished successfully (2.377s)\n"
     ]
    },
    {
     "name": "stderr",
     "output_type": "stream",
     "text": [
      "Ns3Env parameters:\n",
      "--nWifi: 15\n",
      "--simulationTime: 60\n",
      "--openGymPort: 49366\n",
      "--envStepTime: 0.01\n",
      "--seed: 42\n",
      "--agentType: continuous\n",
      "--scenario: convergence\n",
      "--dryRun: 0\n",
      "Simulation started\n"
     ]
    },
    {
     "name": "stdout",
     "output_type": "stream",
     "text": [
      "Observation space shape: (1, 300)\n",
      "Action space shape: (1, 1)\n"
     ]
    },
    {
     "name": "stderr",
     "output_type": "stream",
     "text": [
      "Simulation process id: 139642 (parent (waf shell) id: 139623)\n",
      "Waiting for Python process to connect on port: tcp://localhost:49366\n",
      "Please start proper Python Gym Agent\n"
     ]
    }
   ],
   "source": [
    "#%%\n",
    "scenario = \"convergence\"\n",
    "\n",
    "simTime = 60 # seconds\n",
    "stepTime = 0.01  # seconds\n",
    "history_length = 300\n",
    "\n",
    "EPISODE_COUNT = 15\n",
    "steps_per_ep = int(simTime/stepTime)\n",
    "\n",
    "sim_args = {\n",
    "    \"simTime\": simTime,\n",
    "    \"envStepTime\": stepTime,\n",
    "    \"historyLength\": history_length,\n",
    "    \"agentType\": Agent.TYPE,\n",
    "    \"scenario\": \"convergence\",\n",
    "    \"nWifi\": 15,\n",
    "}\n",
    "\n",
    "print(\"Steps per episode:\", steps_per_ep)\n",
    "\n",
    "threads_no = 1\n",
    "env = EnvWrapper(threads_no, **sim_args)\n",
    "\n",
    "#%%\n",
    "env.reset()\n",
    "ob_space = env.observation_space\n",
    "ac_space = env.action_space\n",
    "\n",
    "print(\"Observation space shape:\", ob_space)\n",
    "print(\"Action space shape:\", ac_space)\n",
    "\n",
    "assert ob_space is not None"
   ]
  },
  {
   "cell_type": "code",
   "execution_count": 3,
   "id": "95681ef9",
   "metadata": {
    "scrolled": true
   },
   "outputs": [
    {
     "name": "stdout",
     "output_type": "stream",
     "text": [
      "CuDNN version: 7102\n",
      "cpu\n"
     ]
    },
    {
     "name": "stderr",
     "output_type": "stream",
     "text": [
      "COMET INFO: Experiment is live on comet.ml https://www.comet.com/sheila-janota/rl-in-wifi-with-queue-level/96536b65fa3f433d8efc6cd20977da44\n",
      "\n",
      "  0%|          | 0/6300 [00:00<?, ?it/s]"
     ]
    },
    {
     "name": "stdout",
     "output_type": "stream",
     "text": [
      "0\n"
     ]
    },
    {
     "name": "stderr",
     "output_type": "stream",
     "text": [
      "  5%|▌         | 333/6300 [01:43<35:20,  2.81it/s, curr_speed=33.09 Mbps, mb_sent=10.59 Mb]"
     ]
    },
    {
     "name": "stdout",
     "output_type": "stream",
     "text": [
      "------- STARTED TRAINING -------\n"
     ]
    },
    {
     "name": "stderr",
     "output_type": "stream",
     "text": [
      "100%|██████████| 6300/6300 [3:17:29<00:00,  1.88s/it, curr_speed=29.39 Mbps, mb_sent=1888.32 Mb]  \n"
     ]
    },
    {
     "name": "stdout",
     "output_type": "stream",
     "text": [
      "Waiting for simulation script to connect on port: tcp://localhost:43557\n",
      "Please start proper ns-3 simulation script using ./waf --run \"...\"\n",
      "Waf: Entering directory `/home/samuel/ns-allinone-3.29/ns-3.29/build'\n",
      "Waf: Leaving directory `/home/samuel/ns-allinone-3.29/ns-3.29/build'\n",
      "Build commands will be stored in build/compile_commands.json\n",
      "'build' finished successfully (2.250s)\n"
     ]
    },
    {
     "name": "stderr",
     "output_type": "stream",
     "text": [
      "Ns3Env parameters:\n",
      "--nWifi: 15\n",
      "--simulationTime: 60\n",
      "--openGymPort: 43557\n",
      "--envStepTime: 0.01\n",
      "--seed: 42\n",
      "--agentType: continuous\n",
      "--scenario: convergence\n",
      "--dryRun: 0\n",
      "Simulation started\n",
      "Simulation process id: 176942 (parent (waf shell) id: 176924)\n",
      "Waiting for Python process to connect on port: tcp://localhost:43557\n",
      "Please start proper Python Gym Agent\n",
      "  0%|          | 0/6300 [00:00<?, ?it/s]"
     ]
    },
    {
     "name": "stdout",
     "output_type": "stream",
     "text": [
      "Sent 1888.32 Mb/s.\tMean speed: 31.47 Mb/s\tEpisode 1/15 finished\n",
      "\n",
      "1\n"
     ]
    },
    {
     "name": "stderr",
     "output_type": "stream",
     "text": [
      "100%|██████████| 6300/6300 [3:00:42<00:00,  1.72s/it, curr_speed=29.93 Mbps, mb_sent=1950.60 Mb]  \n"
     ]
    },
    {
     "name": "stdout",
     "output_type": "stream",
     "text": [
      "Waiting for simulation script to connect on port: tcp://localhost:25869\n",
      "Please start proper ns-3 simulation script using ./waf --run \"...\"\n",
      "Waf: Entering directory `/home/samuel/ns-allinone-3.29/ns-3.29/build'\n",
      "Waf: Leaving directory `/home/samuel/ns-allinone-3.29/ns-3.29/build'\n",
      "Build commands will be stored in build/compile_commands.json\n",
      "'build' finished successfully (2.352s)\n"
     ]
    },
    {
     "name": "stderr",
     "output_type": "stream",
     "text": [
      "Ns3Env parameters:\n",
      "--nWifi: 15\n",
      "--simulationTime: 60\n",
      "--openGymPort: 25869\n",
      "--envStepTime: 0.01\n",
      "--seed: 42\n",
      "--agentType: continuous\n",
      "--scenario: convergence\n",
      "--dryRun: 0\n",
      "Simulation started\n",
      "Simulation process id: 211408 (parent (waf shell) id: 211386)\n",
      "Waiting for Python process to connect on port: tcp://localhost:25869\n",
      "Please start proper Python Gym Agent\n",
      "  0%|          | 0/6300 [00:00<?, ?it/s]"
     ]
    },
    {
     "name": "stdout",
     "output_type": "stream",
     "text": [
      "Sent 1950.60 Mb/s.\tMean speed: 32.51 Mb/s\tEpisode 2/15 finished\n",
      "\n",
      "2\n"
     ]
    },
    {
     "name": "stderr",
     "output_type": "stream",
     "text": [
      "100%|██████████| 6300/6300 [2:59:55<00:00,  1.71s/it, curr_speed=33.28 Mbps, mb_sent=2033.27 Mb]  \n"
     ]
    },
    {
     "name": "stdout",
     "output_type": "stream",
     "text": [
      "Waiting for simulation script to connect on port: tcp://localhost:34856\n",
      "Please start proper ns-3 simulation script using ./waf --run \"...\"\n",
      "Waf: Entering directory `/home/samuel/ns-allinone-3.29/ns-3.29/build'\n",
      "Waf: Leaving directory `/home/samuel/ns-allinone-3.29/ns-3.29/build'\n",
      "Build commands will be stored in build/compile_commands.json\n",
      "'build' finished successfully (2.239s)\n"
     ]
    },
    {
     "name": "stderr",
     "output_type": "stream",
     "text": [
      "Ns3Env parameters:\n",
      "--nWifi: 15\n",
      "--simulationTime: 60\n",
      "--openGymPort: 34856\n",
      "--envStepTime: 0.01\n",
      "--seed: 42\n",
      "--agentType: continuous\n",
      "--scenario: convergence\n",
      "--dryRun: 0\n",
      "Simulation started\n",
      "Simulation process id: 245804 (parent (waf shell) id: 245786)\n",
      "Waiting for Python process to connect on port: tcp://localhost:34856\n",
      "Please start proper Python Gym Agent\n",
      "  0%|          | 0/6300 [00:00<?, ?it/s]"
     ]
    },
    {
     "name": "stdout",
     "output_type": "stream",
     "text": [
      "Sent 2033.27 Mb/s.\tMean speed: 33.89 Mb/s\tEpisode 3/15 finished\n",
      "\n",
      "3\n"
     ]
    },
    {
     "name": "stderr",
     "output_type": "stream",
     "text": [
      "100%|██████████| 6300/6300 [3:01:04<00:00,  1.72s/it, curr_speed=33.42 Mbps, mb_sent=2106.30 Mb]  \n"
     ]
    },
    {
     "name": "stdout",
     "output_type": "stream",
     "text": [
      "Waiting for simulation script to connect on port: tcp://localhost:39434\n",
      "Please start proper ns-3 simulation script using ./waf --run \"...\"\n",
      "Waf: Entering directory `/home/samuel/ns-allinone-3.29/ns-3.29/build'\n",
      "Waf: Leaving directory `/home/samuel/ns-allinone-3.29/ns-3.29/build'\n",
      "Build commands will be stored in build/compile_commands.json\n",
      "'build' finished successfully (2.313s)\n"
     ]
    },
    {
     "name": "stderr",
     "output_type": "stream",
     "text": [
      "Ns3Env parameters:\n",
      "--nWifi: 15\n",
      "--simulationTime: 60\n",
      "--openGymPort: 39434\n",
      "--envStepTime: 0.01\n",
      "--seed: 42\n",
      "--agentType: continuous\n",
      "--scenario: convergence\n",
      "--dryRun: 0\n",
      "Simulation started\n",
      "Simulation process id: 280270 (parent (waf shell) id: 280252)\n",
      "Waiting for Python process to connect on port: tcp://localhost:39434\n",
      "Please start proper Python Gym Agent\n",
      "  0%|          | 0/6300 [00:00<?, ?it/s]"
     ]
    },
    {
     "name": "stdout",
     "output_type": "stream",
     "text": [
      "Sent 2106.30 Mb/s.\tMean speed: 35.10 Mb/s\tEpisode 4/15 finished\n",
      "\n",
      "4\n"
     ]
    },
    {
     "name": "stderr",
     "output_type": "stream",
     "text": [
      "  5%|▍         | 304/6300 [01:24<1:40:39,  1.01s/it, curr_speed=37.23 Mbps, mb_sent=1.12 Mb]"
     ]
    },
    {
     "name": "stdout",
     "output_type": "stream",
     "text": [
      "------- MEMORY BUFFER FILLED -------\n"
     ]
    },
    {
     "name": "stderr",
     "output_type": "stream",
     "text": [
      "100%|██████████| 6300/6300 [3:01:06<00:00,  1.72s/it, curr_speed=33.42 Mbps, mb_sent=2165.64 Mb]  \n"
     ]
    },
    {
     "name": "stdout",
     "output_type": "stream",
     "text": [
      "Waiting for simulation script to connect on port: tcp://localhost:15532\n",
      "Please start proper ns-3 simulation script using ./waf --run \"...\"\n",
      "Waf: Entering directory `/home/samuel/ns-allinone-3.29/ns-3.29/build'\n",
      "Waf: Leaving directory `/home/samuel/ns-allinone-3.29/ns-3.29/build'\n",
      "Build commands will be stored in build/compile_commands.json\n",
      "'build' finished successfully (2.219s)\n"
     ]
    },
    {
     "name": "stderr",
     "output_type": "stream",
     "text": [
      "Ns3Env parameters:\n",
      "--nWifi: 15\n",
      "--simulationTime: 60\n",
      "--openGymPort: 15532\n",
      "--envStepTime: 0.01\n",
      "--seed: 42\n",
      "--agentType: continuous\n",
      "--scenario: convergence\n",
      "--dryRun: 0\n",
      "Simulation started\n",
      "Simulation process id: 314907 (parent (waf shell) id: 314889)\n",
      "Waiting for Python process to connect on port: tcp://localhost:15532\n",
      "Please start proper Python Gym Agent\n",
      "  0%|          | 0/6300 [00:00<?, ?it/s]"
     ]
    },
    {
     "name": "stdout",
     "output_type": "stream",
     "text": [
      "Sent 2165.64 Mb/s.\tMean speed: 36.09 Mb/s\tEpisode 5/15 finished\n",
      "\n",
      "5\n"
     ]
    },
    {
     "name": "stderr",
     "output_type": "stream",
     "text": [
      "100%|██████████| 6300/6300 [3:01:38<00:00,  1.73s/it, curr_speed=34.23 Mbps, mb_sent=2214.11 Mb]  \n"
     ]
    },
    {
     "name": "stdout",
     "output_type": "stream",
     "text": [
      "Waiting for simulation script to connect on port: tcp://localhost:18880\n",
      "Please start proper ns-3 simulation script using ./waf --run \"...\"\n",
      "Waf: Entering directory `/home/samuel/ns-allinone-3.29/ns-3.29/build'\n",
      "Waf: Leaving directory `/home/samuel/ns-allinone-3.29/ns-3.29/build'\n",
      "Build commands will be stored in build/compile_commands.json\n",
      "'build' finished successfully (2.475s)\n"
     ]
    },
    {
     "name": "stderr",
     "output_type": "stream",
     "text": [
      "Ns3Env parameters:\n",
      "--nWifi: 15\n",
      "--simulationTime: 60\n",
      "--openGymPort: 18880\n",
      "--envStepTime: 0.01\n",
      "--seed: 42\n",
      "--agentType: continuous\n",
      "--scenario: convergence\n",
      "--dryRun: 0\n",
      "Simulation started\n",
      "Simulation process id: 349829 (parent (waf shell) id: 349806)\n",
      "Waiting for Python process to connect on port: tcp://localhost:18880\n",
      "Please start proper Python Gym Agent\n",
      "  0%|          | 0/6300 [00:00<?, ?it/s]"
     ]
    },
    {
     "name": "stdout",
     "output_type": "stream",
     "text": [
      "Sent 2214.11 Mb/s.\tMean speed: 36.90 Mb/s\tEpisode 6/15 finished\n",
      "\n",
      "6\n"
     ]
    },
    {
     "name": "stderr",
     "output_type": "stream",
     "text": [
      "100%|██████████| 6300/6300 [3:00:26<00:00,  1.72s/it, curr_speed=34.44 Mbps, mb_sent=2253.43 Mb]  \n"
     ]
    },
    {
     "name": "stdout",
     "output_type": "stream",
     "text": [
      "Waiting for simulation script to connect on port: tcp://localhost:16882\n",
      "Please start proper ns-3 simulation script using ./waf --run \"...\"\n",
      "Waf: Entering directory `/home/samuel/ns-allinone-3.29/ns-3.29/build'\n",
      "Waf: Leaving directory `/home/samuel/ns-allinone-3.29/ns-3.29/build'\n",
      "Build commands will be stored in build/compile_commands.json\n",
      "'build' finished successfully (2.258s)\n"
     ]
    },
    {
     "name": "stderr",
     "output_type": "stream",
     "text": [
      "Ns3Env parameters:\n",
      "--nWifi: 15\n",
      "--simulationTime: 60\n",
      "--openGymPort: 16882\n",
      "--envStepTime: 0.01\n",
      "--seed: 42\n",
      "--agentType: continuous\n",
      "--scenario: convergence\n",
      "--dryRun: 0\n",
      "Simulation started\n",
      "Simulation process id: 384462 (parent (waf shell) id: 384444)\n",
      "Waiting for Python process to connect on port: tcp://localhost:16882\n",
      "Please start proper Python Gym Agent\n",
      "  0%|          | 0/6300 [00:00<?, ?it/s]"
     ]
    },
    {
     "name": "stdout",
     "output_type": "stream",
     "text": [
      "Sent 2253.43 Mb/s.\tMean speed: 37.56 Mb/s\tEpisode 7/15 finished\n",
      "\n",
      "7\n"
     ]
    },
    {
     "name": "stderr",
     "output_type": "stream",
     "text": [
      "100%|██████████| 6300/6300 [2:34:23<00:00,  1.47s/it, curr_speed=37.28 Mbps, mb_sent=2265.25 Mb]  \n"
     ]
    },
    {
     "name": "stdout",
     "output_type": "stream",
     "text": [
      "Waiting for simulation script to connect on port: tcp://localhost:41240\n",
      "Please start proper ns-3 simulation script using ./waf --run \"...\"\n",
      "Waf: Entering directory `/home/samuel/ns-allinone-3.29/ns-3.29/build'\n",
      "Waf: Leaving directory `/home/samuel/ns-allinone-3.29/ns-3.29/build'\n",
      "Build commands will be stored in build/compile_commands.json\n",
      "'build' finished successfully (2.384s)\n"
     ]
    },
    {
     "name": "stderr",
     "output_type": "stream",
     "text": [
      "Ns3Env parameters:\n",
      "--nWifi: 15\n",
      "--simulationTime: 60\n",
      "--openGymPort: 41240\n",
      "--envStepTime: 0.01\n",
      "--seed: 42\n",
      "--agentType: continuous\n",
      "--scenario: convergence\n",
      "--dryRun: 0\n",
      "Simulation started\n",
      "Simulation process id: 418984 (parent (waf shell) id: 418963)\n",
      "Waiting for Python process to connect on port: tcp://localhost:41240\n",
      "Please start proper Python Gym Agent\n",
      "  0%|          | 0/6300 [00:00<?, ?it/s]"
     ]
    },
    {
     "name": "stdout",
     "output_type": "stream",
     "text": [
      "Sent 2265.25 Mb/s.\tMean speed: 37.75 Mb/s\tEpisode 8/15 finished\n",
      "\n",
      "8\n"
     ]
    },
    {
     "name": "stderr",
     "output_type": "stream",
     "text": [
      " 35%|███▌      | 2227/6300 [53:18<1:59:23,  1.76s/it, curr_speed=38.13 Mbps, mb_sent=736.39 Mb]COMET ERROR: File could not be uploaded\n",
      " 35%|███▌      | 2229/6300 [53:22<2:11:55,  1.94s/it, curr_speed=38.11 Mbps, mb_sent=737.14 Mb]COMET ERROR: File could not be uploaded\n",
      " 35%|███▌      | 2232/6300 [53:27<1:56:18,  1.72s/it, curr_speed=38.27 Mbps, mb_sent=738.37 Mb]COMET ERROR: File could not be uploaded\n",
      " 35%|███▌      | 2235/6300 [53:31<1:42:52,  1.52s/it, curr_speed=38.32 Mbps, mb_sent=739.54 Mb]COMET ERROR: File could not be uploaded\n",
      " 36%|███▌      | 2237/6300 [53:34<1:41:50,  1.50s/it, curr_speed=38.33 Mbps, mb_sent=740.32 Mb]COMET ERROR: File could not be uploaded\n",
      " 36%|███▌      | 2238/6300 [53:38<1:46:27,  1.57s/it, curr_speed=38.29 Mbps, mb_sent=741.08 Mb]COMET ERROR: File could not be uploaded\n",
      " 36%|███▌      | 2240/6300 [53:39<1:53:28,  1.68s/it, curr_speed=38.22 Mbps, mb_sent=741.39 Mb]COMET ERROR: File could not be uploaded\n",
      " 36%|███▌      | 2241/6300 [53:41<1:53:52,  1.68s/it, curr_speed=38.31 Mbps, mb_sent=741.83 Mb]COMET ERROR: File could not be uploaded\n",
      " 36%|███▌      | 2245/6300 [53:48<1:47:21,  1.59s/it, curr_speed=38.30 Mbps, mb_sent=743.30 Mb]COMET ERROR: File could not be uploaded\n",
      " 36%|███▌      | 2246/6300 [53:49<1:52:02,  1.66s/it, curr_speed=38.27 Mbps, mb_sent=743.67 Mb]COMET ERROR: File could not be uploaded\n",
      " 36%|███▌      | 2252/6300 [54:01<1:59:48,  1.78s/it, curr_speed=38.12 Mbps, mb_sent=745.84 Mb]COMET ERROR: File could not be uploaded\n",
      " 36%|███▌      | 2254/6300 [54:03<1:45:24,  1.56s/it, curr_speed=38.17 Mbps, mb_sent=746.67 Mb]COMET ERROR: File could not be uploaded\n",
      " 36%|███▌      | 2258/6300 [54:09<1:37:04,  1.44s/it, curr_speed=38.27 Mbps, mb_sent=748.27 Mb]COMET ERROR: File could not be uploaded\n",
      " 36%|███▌      | 2260/6300 [54:13<1:50:51,  1.65s/it, curr_speed=38.32 Mbps, mb_sent=749.06 Mb]COMET ERROR: File could not be uploaded\n",
      " 36%|███▌      | 2264/6300 [54:19<1:39:39,  1.48s/it, curr_speed=38.41 Mbps, mb_sent=750.65 Mb]COMET ERROR: File could not be uploaded\n",
      " 36%|███▌      | 2265/6300 [54:21<1:49:32,  1.63s/it, curr_speed=38.43 Mbps, mb_sent=751.08 Mb]COMET ERROR: File could not be uploaded\n",
      " 36%|███▌      | 2269/6300 [54:27<1:51:49,  1.66s/it, curr_speed=38.27 Mbps, mb_sent=752.52 Mb]COMET ERROR: File could not be uploaded\n",
      " 36%|███▌      | 2271/6300 [54:29<1:30:41,  1.35s/it, curr_speed=38.29 Mbps, mb_sent=753.34 Mb]COMET ERROR: File could not be uploaded\n",
      " 36%|███▌      | 2273/6300 [54:33<1:50:30,  1.65s/it, curr_speed=38.42 Mbps, mb_sent=754.18 Mb]COMET ERROR: File could not be uploaded\n",
      " 36%|███▌      | 2275/6300 [54:38<2:19:15,  2.08s/it, curr_speed=38.46 Mbps, mb_sent=754.95 Mb]COMET ERROR: File could not be uploaded\n",
      " 36%|███▌      | 2278/6300 [54:45<2:27:52,  2.21s/it, curr_speed=38.45 Mbps, mb_sent=756.15 Mb]COMET ERROR: File could not be uploaded\n",
      " 36%|███▌      | 2283/6300 [54:57<2:23:13,  2.14s/it, curr_speed=38.55 Mbps, mb_sent=758.11 Mb]COMET ERROR: File could not be uploaded\n",
      " 36%|███▋      | 2284/6300 [54:58<2:17:05,  2.05s/it, curr_speed=38.51 Mbps, mb_sent=758.47 Mb]COMET ERROR: File could not be uploaded\n",
      " 36%|███▋      | 2285/6300 [55:00<2:08:07,  1.91s/it, curr_speed=38.57 Mbps, mb_sent=758.90 Mb]COMET ERROR: File could not be uploaded\n",
      " 36%|███▋      | 2287/6300 [55:04<2:05:04,  1.87s/it, curr_speed=38.62 Mbps, mb_sent=759.68 Mb]COMET ERROR: File could not be uploaded\n",
      " 36%|███▋      | 2288/6300 [55:05<2:01:49,  1.82s/it, curr_speed=38.64 Mbps, mb_sent=760.07 Mb]COMET ERROR: File could not be uploaded\n",
      " 36%|███▋      | 2289/6300 [55:07<2:05:44,  1.88s/it, curr_speed=38.67 Mbps, mb_sent=760.47 Mb]COMET ERROR: File could not be uploaded\n",
      "100%|██████████| 6300/6300 [2:48:47<00:00,  1.61s/it, curr_speed=37.71 Mbps, mb_sent=2272.58 Mb]  \n"
     ]
    },
    {
     "name": "stdout",
     "output_type": "stream",
     "text": [
      "Waiting for simulation script to connect on port: tcp://localhost:43197\n",
      "Please start proper ns-3 simulation script using ./waf --run \"...\"\n",
      "Waf: Entering directory `/home/samuel/ns-allinone-3.29/ns-3.29/build'\n",
      "Waf: Leaving directory `/home/samuel/ns-allinone-3.29/ns-3.29/build'\n",
      "Build commands will be stored in build/compile_commands.json\n",
      "'build' finished successfully (2.376s)\n"
     ]
    },
    {
     "name": "stderr",
     "output_type": "stream",
     "text": [
      "Ns3Env parameters:\n",
      "--nWifi: 15\n",
      "--simulationTime: 60\n",
      "--openGymPort: 43197\n",
      "--envStepTime: 0.01\n",
      "--seed: 42\n",
      "--agentType: continuous\n",
      "--scenario: convergence\n",
      "--dryRun: 0\n",
      "Simulation started\n",
      "Simulation process id: 457348 (parent (waf shell) id: 457328)\n",
      "Waiting for Python process to connect on port: tcp://localhost:43197\n",
      "Please start proper Python Gym Agent\n",
      "  0%|          | 0/6300 [00:00<?, ?it/s]"
     ]
    },
    {
     "name": "stdout",
     "output_type": "stream",
     "text": [
      "Sent 2272.58 Mb/s.\tMean speed: 37.88 Mb/s\tEpisode 9/15 finished\n",
      "\n",
      "9\n"
     ]
    },
    {
     "name": "stderr",
     "output_type": "stream",
     "text": [
      "100%|██████████| 6300/6300 [2:47:47<00:00,  1.60s/it, curr_speed=38.26 Mbps, mb_sent=2286.93 Mb]  \n"
     ]
    },
    {
     "name": "stdout",
     "output_type": "stream",
     "text": [
      "Waiting for simulation script to connect on port: tcp://localhost:41527\n",
      "Please start proper ns-3 simulation script using ./waf --run \"...\"\n",
      "Waf: Entering directory `/home/samuel/ns-allinone-3.29/ns-3.29/build'\n",
      "Waf: Leaving directory `/home/samuel/ns-allinone-3.29/ns-3.29/build'\n",
      "Build commands will be stored in build/compile_commands.json\n",
      "'build' finished successfully (2.247s)\n"
     ]
    },
    {
     "name": "stderr",
     "output_type": "stream",
     "text": [
      "Ns3Env parameters:\n",
      "--nWifi: 15\n",
      "--simulationTime: 60\n",
      "--openGymPort: 41527\n",
      "--envStepTime: 0.01\n",
      "--seed: 42\n",
      "--agentType: continuous\n",
      "--scenario: convergence\n",
      "--dryRun: 0\n",
      "Simulation started\n",
      "Simulation process id: 495349 (parent (waf shell) id: 495330)\n",
      "Waiting for Python process to connect on port: tcp://localhost:41527\n",
      "Please start proper Python Gym Agent\n",
      "  0%|          | 0/6300 [00:00<?, ?it/s]"
     ]
    },
    {
     "name": "stdout",
     "output_type": "stream",
     "text": [
      "Sent 2286.93 Mb/s.\tMean speed: 38.12 Mb/s\tEpisode 10/15 finished\n",
      "\n",
      "10\n"
     ]
    },
    {
     "name": "stderr",
     "output_type": "stream",
     "text": [
      "100%|██████████| 6300/6300 [2:46:48<00:00,  1.59s/it, curr_speed=38.31 Mbps, mb_sent=2290.79 Mb]  \n"
     ]
    },
    {
     "name": "stdout",
     "output_type": "stream",
     "text": [
      "Waiting for simulation script to connect on port: tcp://localhost:30168\n",
      "Please start proper ns-3 simulation script using ./waf --run \"...\"\n",
      "Waf: Entering directory `/home/samuel/ns-allinone-3.29/ns-3.29/build'\n",
      "Waf: Leaving directory `/home/samuel/ns-allinone-3.29/ns-3.29/build'\n",
      "Build commands will be stored in build/compile_commands.json\n",
      "'build' finished successfully (2.381s)\n"
     ]
    },
    {
     "name": "stderr",
     "output_type": "stream",
     "text": [
      "Ns3Env parameters:\n",
      "--nWifi: 15\n",
      "--simulationTime: 60\n",
      "--openGymPort: 30168\n",
      "--envStepTime: 0.01\n",
      "--seed: 42\n",
      "--agentType: continuous\n",
      "--scenario: convergence\n",
      "--dryRun: 0\n",
      "Simulation started\n",
      "Simulation process id: 532746 (parent (waf shell) id: 532722)\n",
      "Waiting for Python process to connect on port: tcp://localhost:30168\n",
      "Please start proper Python Gym Agent\n",
      "  0%|          | 0/6300 [00:00<?, ?it/s]"
     ]
    },
    {
     "name": "stdout",
     "output_type": "stream",
     "text": [
      "Sent 2290.79 Mb/s.\tMean speed: 38.18 Mb/s\tEpisode 11/15 finished\n",
      "\n",
      "11\n"
     ]
    },
    {
     "name": "stderr",
     "output_type": "stream",
     "text": [
      "100%|██████████| 6300/6300 [2:48:24<00:00,  1.60s/it, curr_speed=37.84 Mbps, mb_sent=2289.07 Mb]  \n"
     ]
    },
    {
     "name": "stdout",
     "output_type": "stream",
     "text": [
      "Waiting for simulation script to connect on port: tcp://localhost:46494\n",
      "Please start proper ns-3 simulation script using ./waf --run \"...\"\n",
      "Waf: Entering directory `/home/samuel/ns-allinone-3.29/ns-3.29/build'\n",
      "Waf: Leaving directory `/home/samuel/ns-allinone-3.29/ns-3.29/build'\n",
      "Build commands will be stored in build/compile_commands.json\n",
      "'build' finished successfully (2.302s)\n"
     ]
    },
    {
     "name": "stderr",
     "output_type": "stream",
     "text": [
      "Ns3Env parameters:\n",
      "--nWifi: 15\n",
      "--simulationTime: 60\n",
      "--openGymPort: 46494\n",
      "--envStepTime: 0.01\n",
      "--seed: 42\n",
      "--agentType: continuous\n",
      "--scenario: convergence\n",
      "--dryRun: 0\n",
      "Simulation started\n",
      "Simulation process id: 570753 (parent (waf shell) id: 570728)\n",
      "Waiting for Python process to connect on port: tcp://localhost:46494\n",
      "Please start proper Python Gym Agent\n",
      "  0%|          | 0/6300 [00:00<?, ?it/s]"
     ]
    },
    {
     "name": "stdout",
     "output_type": "stream",
     "text": [
      "Sent 2289.07 Mb/s.\tMean speed: 38.15 Mb/s\tEpisode 12/15 finished\n",
      "\n",
      "12\n",
      "Turning off noise\n"
     ]
    },
    {
     "name": "stderr",
     "output_type": "stream",
     "text": [
      "100%|██████████| 6300/6300 [2:23:17<00:00,  1.36s/it, curr_speed=38.12 Mbps, mb_sent=2299.51 Mb]  \n"
     ]
    },
    {
     "name": "stdout",
     "output_type": "stream",
     "text": [
      "Waiting for simulation script to connect on port: tcp://localhost:44945\n",
      "Please start proper ns-3 simulation script using ./waf --run \"...\"\n",
      "Waf: Entering directory `/home/samuel/ns-allinone-3.29/ns-3.29/build'\n",
      "Waf: Leaving directory `/home/samuel/ns-allinone-3.29/ns-3.29/build'\n",
      "Build commands will be stored in build/compile_commands.json\n",
      "'build' finished successfully (2.306s)\n"
     ]
    },
    {
     "name": "stderr",
     "output_type": "stream",
     "text": [
      "Ns3Env parameters:\n",
      "--nWifi: 15\n",
      "--simulationTime: 60\n",
      "--openGymPort: 44945\n",
      "--envStepTime: 0.01\n",
      "--seed: 42\n",
      "--agentType: continuous\n",
      "--scenario: convergence\n",
      "--dryRun: 0\n",
      "Simulation started\n",
      "Simulation process id: 609509 (parent (waf shell) id: 609487)\n",
      "Waiting for Python process to connect on port: tcp://localhost:44945\n",
      "Please start proper Python Gym Agent\n",
      "  0%|          | 1/6300 [00:00<16:56,  6.20it/s, curr_speed=0.00 Mbps, mb_sent=0.00 Mb]"
     ]
    },
    {
     "name": "stdout",
     "output_type": "stream",
     "text": [
      "Sent 2299.51 Mb/s.\tMean speed: 38.33 Mb/s\tEpisode 13/15 finished\n",
      "\n",
      "13\n",
      "Turning off noise\n"
     ]
    },
    {
     "name": "stderr",
     "output_type": "stream",
     "text": [
      "100%|██████████| 6300/6300 [51:59<00:00,  2.02it/s, curr_speed=38.13 Mbps, mb_sent=2297.44 Mb]  \n"
     ]
    },
    {
     "name": "stdout",
     "output_type": "stream",
     "text": [
      "Waiting for simulation script to connect on port: tcp://localhost:50363\n",
      "Please start proper ns-3 simulation script using ./waf --run \"...\"\n",
      "Waf: Entering directory `/home/samuel/ns-allinone-3.29/ns-3.29/build'\n",
      "Waf: Leaving directory `/home/samuel/ns-allinone-3.29/ns-3.29/build'\n",
      "Build commands will be stored in build/compile_commands.json\n",
      "'build' finished successfully (2.205s)\n"
     ]
    },
    {
     "name": "stderr",
     "output_type": "stream",
     "text": [
      "Ns3Env parameters:\n",
      "--nWifi: 15\n",
      "--simulationTime: 60\n",
      "--openGymPort: 50363\n",
      "--envStepTime: 0.01\n",
      "--seed: 42\n",
      "--agentType: continuous\n",
      "--scenario: convergence\n",
      "--dryRun: 0\n",
      "Simulation started\n",
      "Simulation process id: 629830 (parent (waf shell) id: 629806)\n",
      "Waiting for Python process to connect on port: tcp://localhost:50363\n",
      "Please start proper Python Gym Agent\n",
      "  0%|          | 0/6300 [00:00<?, ?it/s]"
     ]
    },
    {
     "name": "stdout",
     "output_type": "stream",
     "text": [
      "Sent 2297.44 Mb/s.\tMean speed: 38.29 Mb/s\tEpisode 14/15 finished\n",
      "\n",
      "14\n",
      "Turning off noise\n"
     ]
    },
    {
     "name": "stderr",
     "output_type": "stream",
     "text": [
      "100%|██████████| 6300/6300 [31:05<00:00,  3.38it/s, curr_speed=37.94 Mbps, mb_sent=2295.02 Mb]\n"
     ]
    },
    {
     "name": "stdout",
     "output_type": "stream",
     "text": [
      "Waiting for simulation script to connect on port: tcp://localhost:36471\n",
      "Please start proper ns-3 simulation script using ./waf --run \"...\"\n",
      "Waf: Entering directory `/home/samuel/ns-allinone-3.29/ns-3.29/build'\n",
      "Waf: Leaving directory `/home/samuel/ns-allinone-3.29/ns-3.29/build'\n",
      "Build commands will be stored in build/compile_commands.json\n",
      "'build' finished successfully (2.330s)\n"
     ]
    },
    {
     "name": "stderr",
     "output_type": "stream",
     "text": [
      "Ns3Env parameters:\n",
      "--nWifi: 15\n",
      "--simulationTime: 60\n",
      "--openGymPort: 36471\n",
      "--envStepTime: 0.01\n",
      "--seed: 42\n",
      "--agentType: continuous\n",
      "--scenario: convergence\n",
      "--dryRun: 0\n",
      "Simulation started\n",
      "Simulation process id: 644540 (parent (waf shell) id: 644515)\n",
      "Waiting for Python process to connect on port: tcp://localhost:36471\n",
      "Please start proper Python Gym Agent\n",
      "COMET INFO: ----------------------------\n",
      "COMET INFO: Comet.ml Experiment Summary:\n",
      "COMET INFO:   Data:\n",
      "COMET INFO:     url: https://www.comet.com/sheila-janota/rl-in-wifi-with-queue-level/96536b65fa3f433d8efc6cd20977da44\n",
      "COMET INFO:   Metrics [count] (min, max):\n",
      "COMET INFO:     Chosen CW [89985]           : (16.0, 1024.0)\n",
      "COMET INFO:     Cumulative reward [15]      : (2590.787353515625, 3215.471435546875)\n",
      "COMET INFO:     Current throughput [89985]  : (25.28759765625, 64.31360626220703)\n",
      "COMET INFO:     Fairness index [89985]      : (0.07400300353765488, 0.9996520280838013)\n",
      "COMET INFO:     Megabytes sent [89985]      : (0.3350830078125, 2299.507078319788)\n",
      "COMET INFO:     Observation 0 [89985]       : (0.2827406249195337, 0.9374968749284744)\n",
      "COMET INFO:     Observation 1 [89985]       : (0.0, 0.04926098465475616)\n",
      "COMET INFO:     Per-ep reward [89985]       : (133.16943359375, 3215.471435546875)\n",
      "COMET INFO:     Round megabytes sent [89985]: (0.06701699644327164, 11.80609130859375)\n",
      "COMET INFO:     Round reward [89985]        : (0.08935546875, 0.938232421875)\n",
      "COMET INFO:     Speed [15]                  : (31.471926643823583, 38.32511797199647)\n",
      "COMET INFO:     Station count [89985]       : (5.0, 15.0)\n",
      "COMET INFO:     actor_loss [89985]          : (-1.9108057022094727, 0.09300936013460159)\n",
      "COMET INFO:     critic_loss [89985]         : (0.0, 5.3703203201293945)\n",
      "COMET INFO:     loss [33578]                : (-1.7200944423675537, 0.8616198301315308)\n",
      "COMET INFO:   Uploads:\n",
      "COMET INFO:     histogram3d: 89985\n",
      "COMET INFO: ----------------------------\n",
      "COMET INFO: Uploading stats to Comet before program termination (may take several seconds)\n"
     ]
    },
    {
     "name": "stdout",
     "output_type": "stream",
     "text": [
      "Sent 2295.02 Mb/s.\tMean speed: 38.25 Mb/s\tEpisode 15/15 finished\n",
      "\n"
     ]
    },
    {
     "name": "stderr",
     "output_type": "stream",
     "text": [
      "COMET INFO: Waiting for completion of the file uploads (may take several seconds)\n",
      "COMET INFO: Still uploading\n",
      "COMET INFO: Still uploading\n",
      "COMET INFO: Still uploading\n",
      "COMET INFO: Still uploading\n",
      "COMET INFO: Still uploading\n",
      "COMET INFO: Still uploading\n",
      "COMET INFO: Still uploading\n",
      "COMET INFO: Still uploading\n",
      "COMET INFO: Still uploading\n",
      "COMET INFO: Still uploading\n",
      "COMET INFO: Still uploading\n",
      "COMET INFO: Still uploading\n",
      "COMET INFO: Still uploading\n",
      "COMET INFO: Still uploading\n",
      "COMET INFO: Still uploading\n",
      "COMET INFO: Still uploading\n",
      "COMET INFO: Still uploading\n",
      "COMET INFO: Still uploading\n",
      "COMET INFO: Still uploading\n",
      "COMET INFO: Still uploading\n",
      "COMET INFO: Still uploading\n",
      "COMET INFO: Still uploading\n",
      "COMET INFO: Still uploading\n",
      "COMET INFO: Still uploading\n",
      "COMET INFO: Still uploading\n",
      "COMET INFO: Still uploading\n",
      "COMET INFO: Still uploading\n",
      "COMET INFO: Still uploading\n",
      "COMET INFO: Still uploading\n",
      "COMET INFO: Still uploading\n",
      "COMET INFO: Still uploading\n",
      "COMET INFO: Still uploading\n",
      "COMET INFO: Still uploading\n",
      "COMET INFO: Still uploading\n",
      "COMET INFO: Still uploading\n",
      "COMET INFO: Still uploading\n",
      "COMET INFO: Still uploading\n",
      "COMET INFO: Still uploading\n",
      "COMET INFO: Still uploading\n",
      "COMET INFO: Still uploading\n",
      "COMET INFO: Still uploading\n",
      "COMET INFO: Still uploading\n",
      "COMET INFO: Still uploading\n",
      "COMET INFO: Still uploading\n",
      "COMET INFO: Still uploading\n",
      "COMET INFO: Still uploading\n",
      "COMET INFO: Still uploading\n",
      "COMET INFO: Still uploading\n",
      "COMET INFO: Still uploading\n",
      "COMET INFO: Still uploading\n",
      "COMET INFO: Still uploading\n",
      "COMET INFO: Still uploading\n",
      "COMET INFO: Still uploading\n",
      "COMET INFO: Still uploading\n",
      "COMET INFO: Still uploading\n",
      "COMET INFO: Still uploading\n",
      "COMET INFO: Still uploading\n",
      "COMET INFO: Still uploading\n",
      "COMET INFO: Still uploading\n",
      "COMET INFO: Still uploading\n",
      "COMET INFO: Still uploading\n",
      "COMET INFO: Still uploading\n",
      "COMET INFO: Still uploading\n",
      "COMET INFO: Still uploading\n",
      "COMET INFO: Still uploading\n",
      "COMET INFO: Still uploading\n",
      "COMET INFO: Still uploading\n",
      "COMET INFO: Still uploading\n",
      "COMET INFO: Still uploading\n",
      "COMET INFO: Still uploading\n",
      "COMET INFO: Still uploading\n",
      "COMET INFO: Still uploading\n",
      "COMET INFO: Still uploading\n",
      "COMET INFO: Still uploading\n",
      "COMET INFO: Still uploading\n",
      "COMET INFO: Still uploading\n",
      "COMET INFO: Still uploading\n",
      "COMET INFO: Still uploading\n",
      "COMET INFO: Still uploading\n",
      "COMET INFO: Still uploading\n",
      "COMET INFO: Still uploading\n",
      "COMET INFO: Still uploading\n",
      "COMET INFO: Still uploading\n",
      "COMET INFO: Still uploading\n",
      "COMET INFO: Still uploading\n",
      "COMET INFO: Still uploading\n",
      "COMET INFO: Still uploading\n",
      "COMET INFO: Still uploading\n",
      "COMET INFO: Still uploading\n",
      "COMET INFO: Still uploading\n",
      "COMET INFO: Still uploading\n",
      "COMET INFO: Still uploading\n",
      "COMET INFO: Still uploading\n",
      "COMET INFO: Still uploading\n",
      "COMET INFO: Still uploading\n",
      "COMET INFO: Still uploading\n",
      "COMET INFO: Still uploading\n",
      "COMET INFO: Still uploading\n",
      "COMET INFO: Still uploading\n",
      "COMET INFO: Still uploading\n",
      "COMET INFO: Still uploading\n",
      "COMET INFO: Still uploading\n",
      "COMET INFO: Still uploading\n",
      "COMET INFO: Still uploading\n",
      "COMET INFO: Still uploading\n",
      "COMET INFO: Still uploading\n",
      "COMET INFO: Still uploading\n",
      "COMET INFO: Still uploading\n",
      "COMET INFO: Still uploading\n",
      "COMET INFO: Still uploading\n",
      "COMET INFO: Still uploading\n",
      "COMET INFO: Still uploading\n",
      "COMET INFO: Still uploading\n",
      "COMET INFO: Still uploading\n",
      "COMET INFO: Still uploading\n",
      "COMET INFO: Still uploading\n",
      "COMET INFO: Still uploading\n",
      "COMET INFO: Still uploading\n",
      "COMET INFO: Still uploading\n",
      "COMET ERROR: Comet failed to send all the data back (0 messages and 1 uploads)\n",
      "COMET WARNING: Failed to log run in comet.ml\n"
     ]
    },
    {
     "name": "stdout",
     "output_type": "stream",
     "text": [
      "Training finished.\n"
     ]
    }
   ],
   "source": [
    "#%%\n",
    "teacher = Teacher(env, 1, Preprocessor(False))\n",
    "\n",
    "lr_actor = 4e-4\n",
    "lr_critic = 4e-3\n",
    "\n",
    "config = Config(buffer_size=4*steps_per_ep*threads_no, batch_size=32, gamma=0.7, tau=1e-3, lr_actor=lr_actor, lr_critic=lr_critic, update_every=1)\n",
    "agent = Agent(history_length, action_size=1, config=config, actor_layers=[8, 128, 16], critic_layers=[8,128,16])\n",
    "\n",
    "# Test the model\n",
    "hyperparams = {**config.__dict__, **sim_args}\n",
    "tags = [\"Rew: normalized speed\",\n",
    "        f\"{Agent.NAME}\",\n",
    "        sim_args['scenario'],\n",
    "        f\"Actor: {lr_actor}\",\n",
    "        f\"Critic: {lr_critic}\",\n",
    "        f\"Instances: {threads_no}\",\n",
    "        f\"Station count: {sim_args['nWifi']}\",\n",
    "        *[f\"{key}: {sim_args[key]}\" for key in list(sim_args)[:3]]]\n",
    "# agent.save()\n",
    "logger = teacher.train(agent, EPISODE_COUNT,\n",
    "                        simTime=simTime,\n",
    "                        stepTime=stepTime,\n",
    "                        history_length=history_length,\n",
    "                        send_logs=True,\n",
    "                        experimental=True,\n",
    "                        tags=tags,\n",
    "                        parameters=hyperparams)\n",
    "# logger = teacher.eval(agent,\n",
    "#                         simTime=simTime,\n",
    "#                         stepTime=stepTime,\n",
    "#                         history_length=history_length,\n",
    "#                         tags=tags,\n",
    "#                         parameters=hyperparams)\n",
    "# agent.save()"
   ]
  },
  {
   "cell_type": "code",
   "execution_count": null,
   "id": "d8a1fb34",
   "metadata": {},
   "outputs": [],
   "source": [
    "está a repetir a execução num 3 deu erro de porta dia 23/02 por volta das 08;00"
   ]
  },
  {
   "cell_type": "markdown",
   "id": "df7556d2",
   "metadata": {},
   "source": [
    "# Execution num4:"
   ]
  },
  {
   "cell_type": "code",
   "execution_count": 1,
   "id": "fa9898b4",
   "metadata": {},
   "outputs": [],
   "source": [
    "#%%\n",
    "from ns3gym import ns3env\n",
    "from comet_ml import Experiment, Optimizer\n",
    "import tqdm\n",
    "import subprocess\n",
    "from collections import deque\n",
    "import numpy as np\n",
    "\n",
    "from agents.ddpg.agent import Agent, Config\n",
    "from agents.ddpg.model import Actor\n",
    "from agents.teacher import Teacher, EnvWrapper\n",
    "from preprocessor import Preprocessor\n"
   ]
  },
  {
   "cell_type": "code",
   "execution_count": 2,
   "id": "49622ab7",
   "metadata": {},
   "outputs": [
    {
     "name": "stdout",
     "output_type": "stream",
     "text": [
      "Steps per episode: 6000\n",
      "Waiting for simulation script to connect on port: tcp://localhost:36378\n",
      "Please start proper ns-3 simulation script using ./waf --run \"...\"\n",
      "Waf: Entering directory `/home/samuel/ns-allinone-3.29/ns-3.29/build'\n",
      "Waf: Leaving directory `/home/samuel/ns-allinone-3.29/ns-3.29/build'\n",
      "Build commands will be stored in build/compile_commands.json\n",
      "'build' finished successfully (2.380s)\n"
     ]
    },
    {
     "name": "stderr",
     "output_type": "stream",
     "text": [
      "Ns3Env parameters:\n",
      "--nWifi: 15\n",
      "--simulationTime: 60\n",
      "--openGymPort: 36378\n",
      "--envStepTime: 0.01\n",
      "--seed: 42\n",
      "--agentType: continuous\n",
      "--scenario: convergence\n",
      "--dryRun: 0\n",
      "Simulation started\n"
     ]
    },
    {
     "name": "stdout",
     "output_type": "stream",
     "text": [
      "Observation space shape: (1, 300)\n",
      "Action space shape: (1, 1)\n"
     ]
    },
    {
     "name": "stderr",
     "output_type": "stream",
     "text": [
      "Simulation process id: 665834 (parent (waf shell) id: 665807)\n",
      "Waiting for Python process to connect on port: tcp://localhost:36378\n",
      "Please start proper Python Gym Agent\n"
     ]
    }
   ],
   "source": [
    "#%%\n",
    "scenario = \"convergence\"\n",
    "\n",
    "simTime = 60 # seconds\n",
    "stepTime = 0.01  # seconds\n",
    "history_length = 300\n",
    "\n",
    "EPISODE_COUNT = 15\n",
    "steps_per_ep = int(simTime/stepTime)\n",
    "\n",
    "sim_args = {\n",
    "    \"simTime\": simTime,\n",
    "    \"envStepTime\": stepTime,\n",
    "    \"historyLength\": history_length,\n",
    "    \"agentType\": Agent.TYPE,\n",
    "    \"scenario\": \"convergence\",\n",
    "    \"nWifi\": 15,\n",
    "}\n",
    "\n",
    "print(\"Steps per episode:\", steps_per_ep)\n",
    "\n",
    "threads_no = 1\n",
    "env = EnvWrapper(threads_no, **sim_args)\n",
    "\n",
    "#%%\n",
    "env.reset()\n",
    "ob_space = env.observation_space\n",
    "ac_space = env.action_space\n",
    "\n",
    "print(\"Observation space shape:\", ob_space)\n",
    "print(\"Action space shape:\", ac_space)\n",
    "\n",
    "assert ob_space is not None"
   ]
  },
  {
   "cell_type": "code",
   "execution_count": 3,
   "id": "0e752c56",
   "metadata": {},
   "outputs": [
    {
     "name": "stdout",
     "output_type": "stream",
     "text": [
      "CuDNN version: 7102\n",
      "cpu\n"
     ]
    },
    {
     "name": "stderr",
     "output_type": "stream",
     "text": [
      "COMET INFO: Experiment is live on comet.ml https://www.comet.com/sheila-janota/rl-in-wifi-with-queue-level/4e56f6327641484a89b3227a40e6d6a0\n",
      "\n",
      "  0%|          | 0/6300 [00:00<?, ?it/s]"
     ]
    },
    {
     "name": "stdout",
     "output_type": "stream",
     "text": [
      "0\n"
     ]
    },
    {
     "name": "stderr",
     "output_type": "stream",
     "text": [
      "  5%|▌         | 333/6300 [01:28<35:07,  2.83it/s, curr_speed=34.63 Mbps, mb_sent=11.08 Mb]"
     ]
    },
    {
     "name": "stdout",
     "output_type": "stream",
     "text": [
      "------- STARTED TRAINING -------\n"
     ]
    },
    {
     "name": "stderr",
     "output_type": "stream",
     "text": [
      "100%|██████████| 6300/6300 [1:28:11<00:00,  1.19it/s, curr_speed=31.12 Mbps, mb_sent=1855.52 Mb]\n"
     ]
    },
    {
     "name": "stdout",
     "output_type": "stream",
     "text": [
      "Waiting for simulation script to connect on port: tcp://localhost:48961\n",
      "Please start proper ns-3 simulation script using ./waf --run \"...\"\n",
      "Waf: Entering directory `/home/samuel/ns-allinone-3.29/ns-3.29/build'\n",
      "Waf: Leaving directory `/home/samuel/ns-allinone-3.29/ns-3.29/build'\n",
      "Build commands will be stored in build/compile_commands.json\n",
      "'build' finished successfully (2.223s)\n"
     ]
    },
    {
     "name": "stderr",
     "output_type": "stream",
     "text": [
      "Ns3Env parameters:\n",
      "--nWifi: 15\n",
      "--simulationTime: 60\n",
      "--openGymPort: 48961\n",
      "--envStepTime: 0.01\n",
      "--seed: 42\n",
      "--agentType: continuous\n",
      "--scenario: convergence\n",
      "--dryRun: 0\n",
      "Simulation started\n",
      "Simulation process id: 699628 (parent (waf shell) id: 699594)\n",
      "Waiting for Python process to connect on port: tcp://localhost:48961\n",
      "Please start proper Python Gym Agent\n",
      "  0%|          | 1/6300 [00:00<11:36,  9.05it/s, curr_speed=0.00 Mbps, mb_sent=0.00 Mb]"
     ]
    },
    {
     "name": "stdout",
     "output_type": "stream",
     "text": [
      "Sent 1855.52 Mb/s.\tMean speed: 30.93 Mb/s\tEpisode 1/15 finished\n",
      "\n",
      "1\n"
     ]
    },
    {
     "name": "stderr",
     "output_type": "stream",
     "text": [
      "100%|██████████| 6300/6300 [34:25<00:00,  3.05it/s, curr_speed=27.25 Mbps, mb_sent=1936.42 Mb]\n"
     ]
    },
    {
     "name": "stdout",
     "output_type": "stream",
     "text": [
      "Waiting for simulation script to connect on port: tcp://localhost:32784\n",
      "Please start proper ns-3 simulation script using ./waf --run \"...\"\n",
      "Waf: Entering directory `/home/samuel/ns-allinone-3.29/ns-3.29/build'\n",
      "Waf: Leaving directory `/home/samuel/ns-allinone-3.29/ns-3.29/build'\n",
      "Build commands will be stored in build/compile_commands.json\n",
      "'build' finished successfully (2.069s)\n"
     ]
    },
    {
     "name": "stderr",
     "output_type": "stream",
     "text": [
      "Ns3Env parameters:\n",
      "--nWifi: 15\n",
      "--simulationTime: 60\n",
      "--openGymPort: 32784\n",
      "--envStepTime: 0.01\n",
      "--seed: 42\n",
      "--agentType: continuous\n",
      "--scenario: convergence\n",
      "--dryRun: 0\n",
      "Simulation started\n",
      "Simulation process id: 720648 (parent (waf shell) id: 720617)\n",
      "Waiting for Python process to connect on port: tcp://localhost:32784\n",
      "Please start proper Python Gym Agent\n",
      "  0%|          | 1/6300 [00:00<18:52,  5.56it/s, curr_speed=0.00 Mbps, mb_sent=0.00 Mb]"
     ]
    },
    {
     "name": "stdout",
     "output_type": "stream",
     "text": [
      "Sent 1936.42 Mb/s.\tMean speed: 32.27 Mb/s\tEpisode 2/15 finished\n",
      "\n",
      "2\n"
     ]
    },
    {
     "name": "stderr",
     "output_type": "stream",
     "text": [
      "100%|██████████| 6300/6300 [35:10<00:00,  2.98it/s, curr_speed=32.20 Mbps, mb_sent=2024.39 Mb]\n"
     ]
    },
    {
     "name": "stdout",
     "output_type": "stream",
     "text": [
      "Waiting for simulation script to connect on port: tcp://localhost:39326\n",
      "Please start proper ns-3 simulation script using ./waf --run \"...\"\n",
      "Waf: Entering directory `/home/samuel/ns-allinone-3.29/ns-3.29/build'\n",
      "Waf: Leaving directory `/home/samuel/ns-allinone-3.29/ns-3.29/build'\n",
      "Build commands will be stored in build/compile_commands.json\n",
      "'build' finished successfully (2.225s)\n"
     ]
    },
    {
     "name": "stderr",
     "output_type": "stream",
     "text": [
      "Ns3Env parameters:\n",
      "--nWifi: 15\n",
      "--simulationTime: 60\n",
      "--openGymPort: 39326\n",
      "--envStepTime: 0.01\n",
      "--seed: 42\n",
      "--agentType: continuous\n",
      "--scenario: convergence\n",
      "--dryRun: 0\n",
      "Simulation started\n",
      "Simulation process id: 742408 (parent (waf shell) id: 742375)\n",
      "Waiting for Python process to connect on port: tcp://localhost:39326\n",
      "Please start proper Python Gym Agent\n",
      "  0%|          | 1/6300 [00:00<20:17,  5.17it/s, curr_speed=0.00 Mbps, mb_sent=0.00 Mb]"
     ]
    },
    {
     "name": "stdout",
     "output_type": "stream",
     "text": [
      "Sent 2024.39 Mb/s.\tMean speed: 33.74 Mb/s\tEpisode 3/15 finished\n",
      "\n",
      "3\n"
     ]
    },
    {
     "name": "stderr",
     "output_type": "stream",
     "text": [
      "100%|██████████| 6300/6300 [35:07<00:00,  2.99it/s, curr_speed=33.31 Mbps, mb_sent=2120.67 Mb]\n"
     ]
    },
    {
     "name": "stdout",
     "output_type": "stream",
     "text": [
      "Waiting for simulation script to connect on port: tcp://localhost:45232\n",
      "Please start proper ns-3 simulation script using ./waf --run \"...\"\n",
      "Waf: Entering directory `/home/samuel/ns-allinone-3.29/ns-3.29/build'\n",
      "Waf: Leaving directory `/home/samuel/ns-allinone-3.29/ns-3.29/build'\n",
      "Build commands will be stored in build/compile_commands.json\n",
      "'build' finished successfully (2.256s)\n"
     ]
    },
    {
     "name": "stderr",
     "output_type": "stream",
     "text": [
      "Ns3Env parameters:\n",
      "--nWifi: 15\n",
      "--simulationTime: 60\n",
      "--openGymPort: 45232\n",
      "--envStepTime: 0.01\n",
      "--seed: 42\n",
      "--agentType: continuous\n",
      "--scenario: convergence\n",
      "--dryRun: 0\n",
      "Simulation started\n",
      "Simulation process id: 763689 (parent (waf shell) id: 763656)\n",
      "Waiting for Python process to connect on port: tcp://localhost:45232\n",
      "Please start proper Python Gym Agent\n",
      "  0%|          | 1/6300 [00:00<15:11,  6.91it/s, curr_speed=0.00 Mbps, mb_sent=0.00 Mb]"
     ]
    },
    {
     "name": "stdout",
     "output_type": "stream",
     "text": [
      "Sent 2120.67 Mb/s.\tMean speed: 35.34 Mb/s\tEpisode 4/15 finished\n",
      "\n",
      "4\n"
     ]
    },
    {
     "name": "stderr",
     "output_type": "stream",
     "text": [
      "  5%|▍         | 305/6300 [00:54<22:37,  4.42it/s, curr_speed=37.14 Mbps, mb_sent=1.49 Mb]"
     ]
    },
    {
     "name": "stdout",
     "output_type": "stream",
     "text": [
      "------- MEMORY BUFFER FILLED -------\n"
     ]
    },
    {
     "name": "stderr",
     "output_type": "stream",
     "text": [
      "100%|██████████| 6300/6300 [35:28<00:00,  2.96it/s, curr_speed=34.03 Mbps, mb_sent=2163.93 Mb]\n"
     ]
    },
    {
     "name": "stdout",
     "output_type": "stream",
     "text": [
      "Waiting for simulation script to connect on port: tcp://localhost:16231\n",
      "Please start proper ns-3 simulation script using ./waf --run \"...\"\n",
      "Waf: Entering directory `/home/samuel/ns-allinone-3.29/ns-3.29/build'\n",
      "Waf: Leaving directory `/home/samuel/ns-allinone-3.29/ns-3.29/build'\n",
      "Build commands will be stored in build/compile_commands.json\n",
      "'build' finished successfully (2.226s)\n"
     ]
    },
    {
     "name": "stderr",
     "output_type": "stream",
     "text": [
      "Ns3Env parameters:\n",
      "--nWifi: 15\n",
      "--simulationTime: 60\n",
      "--openGymPort: 16231\n",
      "--envStepTime: 0.01\n",
      "--seed: 42\n",
      "--agentType: continuous\n",
      "--scenario: convergence\n",
      "--dryRun: 0\n",
      "Simulation started\n",
      "Simulation process id: 785312 (parent (waf shell) id: 785279)\n",
      "Waiting for Python process to connect on port: tcp://localhost:16231\n",
      "Please start proper Python Gym Agent\n",
      "  0%|          | 1/6300 [00:00<14:42,  7.14it/s, curr_speed=0.00 Mbps, mb_sent=0.00 Mb]"
     ]
    },
    {
     "name": "stdout",
     "output_type": "stream",
     "text": [
      "Sent 2163.93 Mb/s.\tMean speed: 36.07 Mb/s\tEpisode 5/15 finished\n",
      "\n",
      "5\n"
     ]
    },
    {
     "name": "stderr",
     "output_type": "stream",
     "text": [
      "100%|██████████| 6300/6300 [35:25<00:00,  2.96it/s, curr_speed=37.14 Mbps, mb_sent=2226.88 Mb]\n"
     ]
    },
    {
     "name": "stdout",
     "output_type": "stream",
     "text": [
      "Waiting for simulation script to connect on port: tcp://localhost:26549\n",
      "Please start proper ns-3 simulation script using ./waf --run \"...\"\n",
      "Waf: Entering directory `/home/samuel/ns-allinone-3.29/ns-3.29/build'\n",
      "Waf: Leaving directory `/home/samuel/ns-allinone-3.29/ns-3.29/build'\n",
      "Build commands will be stored in build/compile_commands.json\n",
      "'build' finished successfully (2.184s)\n"
     ]
    },
    {
     "name": "stderr",
     "output_type": "stream",
     "text": [
      "Ns3Env parameters:\n",
      "--nWifi: 15\n",
      "--simulationTime: 60\n",
      "--openGymPort: 26549\n",
      "--envStepTime: 0.01\n",
      "--seed: 42\n",
      "--agentType: continuous\n",
      "--scenario: convergence\n",
      "--dryRun: 0\n",
      "Simulation started\n",
      "Simulation process id: 806868 (parent (waf shell) id: 806841)\n",
      "Waiting for Python process to connect on port: tcp://localhost:26549\n",
      "Please start proper Python Gym Agent\n",
      "  0%|          | 0/6300 [00:00<?, ?it/s]"
     ]
    },
    {
     "name": "stdout",
     "output_type": "stream",
     "text": [
      "Sent 2226.88 Mb/s.\tMean speed: 37.11 Mb/s\tEpisode 6/15 finished\n",
      "\n",
      "6\n"
     ]
    },
    {
     "name": "stderr",
     "output_type": "stream",
     "text": [
      "100%|██████████| 6300/6300 [2:39:18<00:00,  1.52s/it, curr_speed=37.03 Mbps, mb_sent=2251.04 Mb]  \n"
     ]
    },
    {
     "name": "stdout",
     "output_type": "stream",
     "text": [
      "Waiting for simulation script to connect on port: tcp://localhost:38620\n",
      "Please start proper ns-3 simulation script using ./waf --run \"...\"\n",
      "Waf: Entering directory `/home/samuel/ns-allinone-3.29/ns-3.29/build'\n",
      "Waf: Leaving directory `/home/samuel/ns-allinone-3.29/ns-3.29/build'\n",
      "Build commands will be stored in build/compile_commands.json\n",
      "'build' finished successfully (2.266s)\n"
     ]
    },
    {
     "name": "stderr",
     "output_type": "stream",
     "text": [
      "Ns3Env parameters:\n",
      "--nWifi: 15\n",
      "--simulationTime: 60\n",
      "--openGymPort: 38620\n",
      "--envStepTime: 0.01\n",
      "--seed: 42\n",
      "--agentType: continuous\n",
      "--scenario: convergence\n",
      "--dryRun: 0\n",
      "Simulation started\n",
      "Simulation process id: 848073 (parent (waf shell) id: 848054)\n",
      "Waiting for Python process to connect on port: tcp://localhost:38620\n",
      "Please start proper Python Gym Agent\n",
      "  0%|          | 0/6300 [00:00<?, ?it/s]"
     ]
    },
    {
     "name": "stdout",
     "output_type": "stream",
     "text": [
      "Sent 2251.04 Mb/s.\tMean speed: 37.52 Mb/s\tEpisode 7/15 finished\n",
      "\n",
      "7\n"
     ]
    },
    {
     "name": "stderr",
     "output_type": "stream",
     "text": [
      " 61%|██████    | 3818/6300 [1:35:13<1:09:59,  1.69s/it, curr_speed=38.04 Mbps, mb_sent=1340.39 Mb]COMET ERROR: File could not be uploaded\n",
      " 61%|██████    | 3822/6300 [1:35:19<57:13,  1.39s/it, curr_speed=37.91 Mbps, mb_sent=1341.82 Mb]  COMET ERROR: File could not be uploaded\n",
      " 61%|██████    | 3824/6300 [1:35:22<1:00:20,  1.46s/it, curr_speed=37.88 Mbps, mb_sent=1342.55 Mb]COMET ERROR: File could not be uploaded\n",
      " 63%|██████▎   | 3997/6300 [1:40:09<1:08:00,  1.77s/it, curr_speed=37.35 Mbps, mb_sent=1407.91 Mb]COMET ERROR: File could not be uploaded\n",
      "COMET ERROR: File could not be uploaded\n",
      "COMET ERROR: File could not be uploaded\n",
      " 63%|██████▎   | 3998/6300 [1:40:11<1:08:34,  1.79s/it, curr_speed=37.37 Mbps, mb_sent=1408.30 Mb]COMET ERROR: File could not be uploaded\n",
      "COMET ERROR: File could not be uploaded\n",
      " 63%|██████▎   | 4000/6300 [1:40:15<1:10:07,  1.83s/it, curr_speed=37.41 Mbps, mb_sent=1409.09 Mb]COMET ERROR: File could not be uploaded\n",
      " 64%|██████▎   | 4007/6300 [1:40:28<1:11:42,  1.88s/it, curr_speed=37.32 Mbps, mb_sent=1411.70 Mb]COMET ERROR: File could not be uploaded\n",
      " 64%|██████▎   | 4008/6300 [1:40:30<1:11:47,  1.88s/it, curr_speed=37.36 Mbps, mb_sent=1412.11 Mb]COMET ERROR: File could not be uploaded\n",
      "COMET ERROR: File could not be uploaded\n",
      " 64%|██████▎   | 4009/6300 [1:40:31<1:06:44,  1.75s/it, curr_speed=37.33 Mbps, mb_sent=1412.49 Mb]COMET ERROR: File could not be uploaded\n",
      " 64%|██████▍   | 4061/6300 [1:42:06<1:03:18,  1.70s/it, curr_speed=37.59 Mbps, mb_sent=1431.87 Mb]COMET ERROR: File could not be uploaded\n",
      " 65%|██████▍   | 4064/6300 [1:42:11<56:06,  1.51s/it, curr_speed=37.55 Mbps, mb_sent=1433.03 Mb]  COMET ERROR: File could not be uploaded\n",
      " 65%|██████▍   | 4068/6300 [1:42:17<58:40,  1.58s/it, curr_speed=37.59 Mbps, mb_sent=1434.57 Mb]  COMET ERROR: File could not be uploaded\n",
      " 65%|██████▍   | 4069/6300 [1:42:19<1:04:03,  1.72s/it, curr_speed=37.56 Mbps, mb_sent=1434.93 Mb]COMET ERROR: File could not be uploaded\n",
      " 65%|██████▍   | 4072/6300 [1:42:24<59:17,  1.60s/it, curr_speed=37.48 Mbps, mb_sent=1435.96 Mb]  COMET ERROR: File could not be uploaded\n",
      " 65%|██████▍   | 4073/6300 [1:42:26<1:02:58,  1.70s/it, curr_speed=37.38 Mbps, mb_sent=1436.24 Mb]COMET ERROR: File could not be uploaded\n",
      " 67%|██████▋   | 4221/6300 [1:46:28<55:20,  1.60s/it, curr_speed=37.35 Mbps, mb_sent=1491.47 Mb]  COMET ERROR: File could not be uploaded\n",
      " 67%|██████▋   | 4222/6300 [1:46:29<52:49,  1.53s/it, curr_speed=37.32 Mbps, mb_sent=1491.83 Mb]COMET ERROR: File could not be uploaded\n",
      " 67%|██████▋   | 4225/6300 [1:46:35<1:03:09,  1.83s/it, curr_speed=37.35 Mbps, mb_sent=1493.00 Mb]COMET ERROR: File could not be uploaded\n",
      " 67%|██████▋   | 4231/6300 [1:46:44<56:37,  1.64s/it, curr_speed=37.47 Mbps, mb_sent=1495.34 Mb]  COMET ERROR: File could not be uploaded\n",
      " 67%|██████▋   | 4233/6300 [1:46:49<1:05:06,  1.89s/it, curr_speed=37.54 Mbps, mb_sent=1496.16 Mb]COMET ERROR: File could not be uploaded\n",
      " 67%|██████▋   | 4234/6300 [1:46:50<1:03:00,  1.83s/it, curr_speed=37.59 Mbps, mb_sent=1496.57 Mb]COMET ERROR: File could not be uploaded\n",
      " 67%|██████▋   | 4238/6300 [1:46:57<56:03,  1.63s/it, curr_speed=37.61 Mbps, mb_sent=1498.07 Mb]  COMET ERROR: File could not be uploaded\n",
      " 67%|██████▋   | 4242/6300 [1:47:03<49:39,  1.45s/it, curr_speed=37.80 Mbps, mb_sent=1499.66 Mb]  COMET ERROR: File could not be uploaded\n",
      " 67%|██████▋   | 4250/6300 [1:47:15<52:35,  1.54s/it, curr_speed=37.75 Mbps, mb_sent=1502.68 Mb]COMET ERROR: File could not be uploaded\n",
      " 68%|██████▊   | 4253/6300 [1:47:20<58:27,  1.71s/it, curr_speed=37.73 Mbps, mb_sent=1503.80 Mb]COMET ERROR: File could not be uploaded\n",
      " 68%|██████▊   | 4256/6300 [1:47:25<54:07,  1.59s/it, curr_speed=37.66 Mbps, mb_sent=1504.92 Mb]COMET ERROR: File could not be uploaded\n",
      " 68%|██████▊   | 4259/6300 [1:47:31<57:56,  1.70s/it, curr_speed=37.70 Mbps, mb_sent=1505.99 Mb]COMET ERROR: File could not be uploaded\n",
      " 68%|██████▊   | 4268/6300 [1:47:45<55:08,  1.63s/it, curr_speed=37.72 Mbps, mb_sent=1509.46 Mb]COMET ERROR: File could not be uploaded\n",
      " 68%|██████▊   | 4270/6300 [1:47:48<55:45,  1.65s/it, curr_speed=37.73 Mbps, mb_sent=1510.26 Mb]COMET ERROR: File could not be uploaded\n",
      " 68%|██████▊   | 4274/6300 [1:47:55<58:38,  1.74s/it, curr_speed=37.67 Mbps, mb_sent=1511.76 Mb]COMET ERROR: File could not be uploaded\n",
      " 68%|██████▊   | 4275/6300 [1:47:57<57:12,  1.70s/it, curr_speed=37.67 Mbps, mb_sent=1512.08 Mb]COMET ERROR: File could not be uploaded\n",
      " 68%|██████▊   | 4278/6300 [1:48:01<52:56,  1.57s/it, curr_speed=37.81 Mbps, mb_sent=1513.23 Mb]COMET ERROR: File could not be uploaded\n",
      " 68%|██████▊   | 4283/6300 [1:48:10<57:32,  1.71s/it, curr_speed=37.92 Mbps, mb_sent=1515.19 Mb]COMET ERROR: File could not be uploaded\n",
      " 68%|██████▊   | 4288/6300 [1:48:17<50:56,  1.52s/it, curr_speed=37.94 Mbps, mb_sent=1517.07 Mb]COMET ERROR: File could not be uploaded\n",
      " 68%|██████▊   | 4292/6300 [1:48:25<1:01:17,  1.83s/it, curr_speed=38.02 Mbps, mb_sent=1518.61 Mb]COMET ERROR: File could not be uploaded\n",
      " 68%|██████▊   | 4299/6300 [1:48:35<46:35,  1.40s/it, curr_speed=38.12 Mbps, mb_sent=1521.23 Mb]  COMET ERROR: File could not be uploaded\n",
      "100%|██████████| 6300/6300 [2:47:39<00:00,  1.60s/it, curr_speed=48.40 Mbps, mb_sent=2270.87 Mb]\n"
     ]
    },
    {
     "name": "stdout",
     "output_type": "stream",
     "text": [
      "Waiting for simulation script to connect on port: tcp://localhost:46293\n",
      "Please start proper ns-3 simulation script using ./waf --run \"...\"\n",
      "Waf: Entering directory `/home/samuel/ns-allinone-3.29/ns-3.29/build'\n",
      "Waf: Leaving directory `/home/samuel/ns-allinone-3.29/ns-3.29/build'\n",
      "Build commands will be stored in build/compile_commands.json\n",
      "'build' finished successfully (2.259s)\n"
     ]
    },
    {
     "name": "stderr",
     "output_type": "stream",
     "text": [
      "Ns3Env parameters:\n",
      "--nWifi: 15\n",
      "--simulationTime: 60\n",
      "--openGymPort: 46293\n",
      "--envStepTime: 0.01\n",
      "--seed: 42\n",
      "--agentType: continuous\n",
      "--scenario: convergence\n",
      "--dryRun: 0\n",
      "Simulation started\n",
      "Simulation process id: 890119 (parent (waf shell) id: 890097)\n",
      "Waiting for Python process to connect on port: tcp://localhost:46293\n",
      "Please start proper Python Gym Agent\n",
      "  0%|          | 1/6300 [00:00<16:56,  6.19it/s, curr_speed=0.00 Mbps, mb_sent=0.00 Mb]"
     ]
    },
    {
     "name": "stdout",
     "output_type": "stream",
     "text": [
      "Sent 2270.87 Mb/s.\tMean speed: 37.85 Mb/s\tEpisode 8/15 finished\n",
      "\n",
      "8\n"
     ]
    },
    {
     "name": "stderr",
     "output_type": "stream",
     "text": [
      "100%|██████████| 6300/6300 [2:47:30<00:00,  1.60s/it, curr_speed=37.45 Mbps, mb_sent=2277.05 Mb]  \n"
     ]
    },
    {
     "name": "stdout",
     "output_type": "stream",
     "text": [
      "Waiting for simulation script to connect on port: tcp://localhost:41893\n",
      "Please start proper ns-3 simulation script using ./waf --run \"...\"\n",
      "Waf: Entering directory `/home/samuel/ns-allinone-3.29/ns-3.29/build'\n",
      "Waf: Leaving directory `/home/samuel/ns-allinone-3.29/ns-3.29/build'\n",
      "Build commands will be stored in build/compile_commands.json\n",
      "'build' finished successfully (2.192s)\n"
     ]
    },
    {
     "name": "stderr",
     "output_type": "stream",
     "text": [
      "Ns3Env parameters:\n",
      "--nWifi: 15\n",
      "--simulationTime: 60\n",
      "--openGymPort: 41893\n",
      "--envStepTime: 0.01\n",
      "--seed: 42\n",
      "--agentType: continuous\n",
      "--scenario: convergence\n",
      "--dryRun: 0\n",
      "Simulation started\n",
      "Simulation process id: 931816 (parent (waf shell) id: 931795)\n",
      "Waiting for Python process to connect on port: tcp://localhost:41893\n",
      "Please start proper Python Gym Agent\n",
      "  0%|          | 0/6300 [00:00<?, ?it/s]"
     ]
    },
    {
     "name": "stdout",
     "output_type": "stream",
     "text": [
      "Sent 2277.05 Mb/s.\tMean speed: 37.95 Mb/s\tEpisode 9/15 finished\n",
      "\n",
      "9\n"
     ]
    },
    {
     "name": "stderr",
     "output_type": "stream",
     "text": [
      "100%|██████████| 6300/6300 [2:46:10<00:00,  1.58s/it, curr_speed=38.15 Mbps, mb_sent=2294.32 Mb]  \n"
     ]
    },
    {
     "name": "stdout",
     "output_type": "stream",
     "text": [
      "Waiting for simulation script to connect on port: tcp://localhost:33059\n",
      "Please start proper ns-3 simulation script using ./waf --run \"...\"\n",
      "Waf: Entering directory `/home/samuel/ns-allinone-3.29/ns-3.29/build'\n",
      "Waf: Leaving directory `/home/samuel/ns-allinone-3.29/ns-3.29/build'\n",
      "Build commands will be stored in build/compile_commands.json\n",
      "'build' finished successfully (2.353s)\n"
     ]
    },
    {
     "name": "stderr",
     "output_type": "stream",
     "text": [
      "Ns3Env parameters:\n",
      "--nWifi: 15\n",
      "--simulationTime: 60\n",
      "--openGymPort: 33059\n",
      "--envStepTime: 0.01\n",
      "--seed: 42\n",
      "--agentType: continuous\n",
      "--scenario: convergence\n",
      "--dryRun: 0\n",
      "Simulation started\n",
      "Simulation process id: 978193 (parent (waf shell) id: 978163)\n",
      "Waiting for Python process to connect on port: tcp://localhost:33059\n",
      "Please start proper Python Gym Agent\n",
      "  0%|          | 1/6300 [00:00<17:37,  5.96it/s, curr_speed=0.00 Mbps, mb_sent=0.00 Mb]"
     ]
    },
    {
     "name": "stdout",
     "output_type": "stream",
     "text": [
      "Sent 2294.32 Mb/s.\tMean speed: 38.24 Mb/s\tEpisode 10/15 finished\n",
      "\n",
      "10\n"
     ]
    },
    {
     "name": "stderr",
     "output_type": "stream",
     "text": [
      "100%|██████████| 6300/6300 [57:59<00:00,  1.81it/s, curr_speed=37.89 Mbps, mb_sent=2294.75 Mb]  \n"
     ]
    },
    {
     "name": "stdout",
     "output_type": "stream",
     "text": [
      "Waiting for simulation script to connect on port: tcp://localhost:35497\n",
      "Please start proper ns-3 simulation script using ./waf --run \"...\"\n",
      "Waf: Entering directory `/home/samuel/ns-allinone-3.29/ns-3.29/build'\n",
      "Waf: Leaving directory `/home/samuel/ns-allinone-3.29/ns-3.29/build'\n",
      "Build commands will be stored in build/compile_commands.json\n",
      "'build' finished successfully (2.331s)\n"
     ]
    },
    {
     "name": "stderr",
     "output_type": "stream",
     "text": [
      "Ns3Env parameters:\n",
      "--nWifi: 15\n",
      "--simulationTime: 60\n",
      "--openGymPort: 35497\n",
      "--envStepTime: 0.01\n",
      "--seed: 42\n",
      "--agentType: continuous\n",
      "--scenario: convergence\n",
      "--dryRun: 0\n",
      "Simulation started\n",
      "Simulation process id: 1000405 (parent (waf shell) id: 1000378)\n",
      "Waiting for Python process to connect on port: tcp://localhost:35497\n",
      "Please start proper Python Gym Agent\n",
      "  0%|          | 0/6300 [00:00<?, ?it/s]"
     ]
    },
    {
     "name": "stdout",
     "output_type": "stream",
     "text": [
      "Sent 2294.75 Mb/s.\tMean speed: 38.25 Mb/s\tEpisode 11/15 finished\n",
      "\n",
      "11\n"
     ]
    },
    {
     "name": "stderr",
     "output_type": "stream",
     "text": [
      "100%|██████████| 6300/6300 [1:45:21<00:00,  1.00s/it, curr_speed=37.55 Mbps, mb_sent=2297.68 Mb]\n"
     ]
    },
    {
     "name": "stdout",
     "output_type": "stream",
     "text": [
      "Waiting for simulation script to connect on port: tcp://localhost:25643\n",
      "Please start proper ns-3 simulation script using ./waf --run \"...\"\n",
      "Waf: Entering directory `/home/samuel/ns-allinone-3.29/ns-3.29/build'\n",
      "Waf: Leaving directory `/home/samuel/ns-allinone-3.29/ns-3.29/build'\n",
      "Build commands will be stored in build/compile_commands.json\n",
      "'build' finished successfully (2.304s)\n"
     ]
    },
    {
     "name": "stderr",
     "output_type": "stream",
     "text": [
      "Ns3Env parameters:\n",
      "--nWifi: 15\n",
      "--simulationTime: 60\n",
      "--openGymPort: 25643\n",
      "--envStepTime: 0.01\n",
      "--seed: 42\n",
      "--agentType: continuous\n",
      "--scenario: convergence\n",
      "--dryRun: 0\n",
      "Simulation started\n",
      "Simulation process id: 1031140 (parent (waf shell) id: 1031117)\n",
      "Waiting for Python process to connect on port: tcp://localhost:25643\n",
      "Please start proper Python Gym Agent\n",
      "  0%|          | 0/6300 [00:00<?, ?it/s]"
     ]
    },
    {
     "name": "stdout",
     "output_type": "stream",
     "text": [
      "Sent 2297.68 Mb/s.\tMean speed: 38.29 Mb/s\tEpisode 12/15 finished\n",
      "\n",
      "12\n",
      "Turning off noise\n"
     ]
    },
    {
     "name": "stderr",
     "output_type": "stream",
     "text": [
      "100%|██████████| 6300/6300 [1:56:46<00:00,  1.11s/it, curr_speed=37.66 Mbps, mb_sent=2294.78 Mb]  \n"
     ]
    },
    {
     "name": "stdout",
     "output_type": "stream",
     "text": [
      "Waiting for simulation script to connect on port: tcp://localhost:20334\n",
      "Please start proper ns-3 simulation script using ./waf --run \"...\"\n",
      "Waf: Entering directory `/home/samuel/ns-allinone-3.29/ns-3.29/build'\n",
      "Waf: Leaving directory `/home/samuel/ns-allinone-3.29/ns-3.29/build'\n",
      "Build commands will be stored in build/compile_commands.json\n",
      "'build' finished successfully (2.222s)\n"
     ]
    },
    {
     "name": "stderr",
     "output_type": "stream",
     "text": [
      "Ns3Env parameters:\n",
      "--nWifi: 15\n",
      "--simulationTime: 60\n",
      "--openGymPort: 20334\n",
      "--envStepTime: 0.01\n",
      "--seed: 42\n",
      "--agentType: continuous\n",
      "--scenario: convergence\n",
      "--dryRun: 0\n",
      "Simulation started\n",
      "Simulation process id: 1063644 (parent (waf shell) id: 1063619)\n",
      "Waiting for Python process to connect on port: tcp://localhost:20334\n",
      "Please start proper Python Gym Agent\n",
      "  0%|          | 1/6300 [00:00<20:16,  5.18it/s, curr_speed=0.00 Mbps, mb_sent=0.00 Mb]"
     ]
    },
    {
     "name": "stdout",
     "output_type": "stream",
     "text": [
      "Sent 2294.78 Mb/s.\tMean speed: 38.25 Mb/s\tEpisode 13/15 finished\n",
      "\n",
      "13\n",
      "Turning off noise\n"
     ]
    },
    {
     "name": "stderr",
     "output_type": "stream",
     "text": [
      "100%|██████████| 6300/6300 [1:23:36<00:00,  1.26it/s, curr_speed=38.28 Mbps, mb_sent=2298.38 Mb]\n"
     ]
    },
    {
     "name": "stdout",
     "output_type": "stream",
     "text": [
      "Waiting for simulation script to connect on port: tcp://localhost:24146\n",
      "Please start proper ns-3 simulation script using ./waf --run \"...\"\n",
      "Waf: Entering directory `/home/samuel/ns-allinone-3.29/ns-3.29/build'\n",
      "Waf: Leaving directory `/home/samuel/ns-allinone-3.29/ns-3.29/build'\n",
      "Build commands will be stored in build/compile_commands.json\n",
      "'build' finished successfully (2.292s)\n"
     ]
    },
    {
     "name": "stderr",
     "output_type": "stream",
     "text": [
      "Ns3Env parameters:\n",
      "--nWifi: 15\n",
      "--simulationTime: 60\n",
      "--openGymPort: 24146\n",
      "--envStepTime: 0.01\n",
      "--seed: 42\n",
      "--agentType: continuous\n",
      "--scenario: convergence\n",
      "--dryRun: 0\n",
      "Simulation started\n",
      "Simulation process id: 1089639 (parent (waf shell) id: 1089613)\n",
      "Waiting for Python process to connect on port: tcp://localhost:24146\n",
      "Please start proper Python Gym Agent\n",
      "  0%|          | 0/6300 [00:00<?, ?it/s]"
     ]
    },
    {
     "name": "stdout",
     "output_type": "stream",
     "text": [
      "Sent 2298.38 Mb/s.\tMean speed: 38.31 Mb/s\tEpisode 14/15 finished\n",
      "\n",
      "14\n",
      "Turning off noise\n"
     ]
    },
    {
     "name": "stderr",
     "output_type": "stream",
     "text": [
      "100%|██████████| 6300/6300 [33:39<00:00,  3.12it/s, curr_speed=38.05 Mbps, mb_sent=2297.95 Mb]\n"
     ]
    },
    {
     "name": "stdout",
     "output_type": "stream",
     "text": [
      "Waiting for simulation script to connect on port: tcp://localhost:15263\n",
      "Please start proper ns-3 simulation script using ./waf --run \"...\"\n",
      "Waf: Entering directory `/home/samuel/ns-allinone-3.29/ns-3.29/build'\n",
      "Waf: Leaving directory `/home/samuel/ns-allinone-3.29/ns-3.29/build'\n",
      "Build commands will be stored in build/compile_commands.json\n",
      "'build' finished successfully (2.265s)\n"
     ]
    },
    {
     "name": "stderr",
     "output_type": "stream",
     "text": [
      "Ns3Env parameters:\n",
      "--nWifi: 15\n",
      "--simulationTime: 60\n",
      "--openGymPort: 15263\n",
      "--envStepTime: 0.01\n",
      "--seed: 42\n",
      "--agentType: continuous\n",
      "--scenario: convergence\n",
      "--dryRun: 0\n",
      "Simulation started\n",
      "Simulation process id: 1105732 (parent (waf shell) id: 1105708)\n",
      "Waiting for Python process to connect on port: tcp://localhost:15263\n",
      "Please start proper Python Gym Agent\n",
      "COMET INFO: ----------------------------\n",
      "COMET INFO: Comet.ml Experiment Summary:\n",
      "COMET INFO:   Data:\n",
      "COMET INFO:     url: https://www.comet.com/sheila-janota/rl-in-wifi-with-queue-level/4e56f6327641484a89b3227a40e6d6a0\n",
      "COMET INFO:   Metrics [count] (min, max):\n",
      "COMET INFO:     Chosen CW [89985]           : (16.0, 1024.0)\n",
      "COMET INFO:     Cumulative reward [15]      : (2503.501953125, 3215.114013671875)\n",
      "COMET INFO:     Current throughput [89985]  : (21.05438232421875, 58.00286102294922)\n",
      "COMET INFO:     Fairness index [89985]      : (0.07396599650382996, 0.9994490146636963)\n",
      "COMET INFO:     Megabytes sent [89985]      : (0.2904050052165985, 2298.379022806883)\n",
      "COMET INFO:     Observation 0 [89985]       : (0.2839250000193715, 0.9375)\n",
      "COMET INFO:     Observation 1 [89985]       : (0.0, 0.04756413679539773)\n",
      "COMET INFO:     Per-ep reward [89985]       : (132.022705078125, 3215.114013671875)\n",
      "COMET INFO:     Round megabytes sent [89985]: (0.05584700033068657, 11.839599609375)\n",
      "COMET INFO:     Round reward [89985]        : (0.074462890625, 0.953125)\n",
      "COMET INFO:     Speed [15]                  : (30.925370235492785, 38.30631704678138)\n",
      "COMET INFO:     Station count [89985]       : (5.0, 15.0)\n",
      "COMET INFO:     actor_loss [89985]          : (-1.712894082069397, 0.0)\n",
      "COMET INFO:     critic_loss [89985]         : (0.0, 5.937931060791016)\n",
      "COMET INFO:     loss [33578]                : (-1.712894082069397, 0.9683679342269897)\n",
      "COMET INFO:   Uploads:\n",
      "COMET INFO:     histogram3d: 89985\n",
      "COMET INFO: ----------------------------\n",
      "COMET INFO: Uploading stats to Comet before program termination (may take several seconds)\n"
     ]
    },
    {
     "name": "stdout",
     "output_type": "stream",
     "text": [
      "Sent 2297.95 Mb/s.\tMean speed: 38.30 Mb/s\tEpisode 15/15 finished\n",
      "\n",
      "Training finished.\n"
     ]
    }
   ],
   "source": [
    "#%%\n",
    "teacher = Teacher(env, 1, Preprocessor(False))\n",
    "\n",
    "lr_actor = 4e-4\n",
    "lr_critic = 4e-3\n",
    "\n",
    "config = Config(buffer_size=4*steps_per_ep*threads_no, batch_size=32, gamma=0.7, tau=1e-3, lr_actor=lr_actor, lr_critic=lr_critic, update_every=1)\n",
    "agent = Agent(history_length, action_size=1, config=config, actor_layers=[8, 128, 16], critic_layers=[8,128,16])\n",
    "\n",
    "# Test the model\n",
    "hyperparams = {**config.__dict__, **sim_args}\n",
    "tags = [\"Rew: normalized speed\",\n",
    "        f\"{Agent.NAME}\",\n",
    "        sim_args['scenario'],\n",
    "        f\"Actor: {lr_actor}\",\n",
    "        f\"Critic: {lr_critic}\",\n",
    "        f\"Instances: {threads_no}\",\n",
    "        f\"Station count: {sim_args['nWifi']}\",\n",
    "        *[f\"{key}: {sim_args[key]}\" for key in list(sim_args)[:3]]]\n",
    "# agent.save()\n",
    "logger = teacher.train(agent, EPISODE_COUNT,\n",
    "                        simTime=simTime,\n",
    "                        stepTime=stepTime,\n",
    "                        history_length=history_length,\n",
    "                        send_logs=True,\n",
    "                        experimental=True,\n",
    "                        tags=tags,\n",
    "                        parameters=hyperparams)\n",
    "# logger = teacher.eval(agent,\n",
    "#                         simTime=simTime,\n",
    "#                         stepTime=stepTime,\n",
    "#                         history_length=history_length,\n",
    "#                         tags=tags,\n",
    "#                         parameters=hyperparams)\n",
    "# agent.save()"
   ]
  },
  {
   "cell_type": "code",
   "execution_count": null,
   "id": "4f76e435",
   "metadata": {},
   "outputs": [],
   "source": []
  }
 ],
 "metadata": {
  "kernelspec": {
   "display_name": "Python 3 (ipykernel)",
   "language": "python",
   "name": "python3"
  },
  "language_info": {
   "codemirror_mode": {
    "name": "ipython",
    "version": 3
   },
   "file_extension": ".py",
   "mimetype": "text/x-python",
   "name": "python",
   "nbconvert_exporter": "python",
   "pygments_lexer": "ipython3",
   "version": "3.7.10"
  }
 },
 "nbformat": 4,
 "nbformat_minor": 5
}
