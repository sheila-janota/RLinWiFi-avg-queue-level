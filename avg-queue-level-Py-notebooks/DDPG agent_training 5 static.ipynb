{
 "cells": [
  {
   "cell_type": "markdown",
   "id": "a13b469e",
   "metadata": {},
   "source": [
    "# Execution num1:"
   ]
  },
  {
   "cell_type": "code",
   "execution_count": 1,
   "id": "9ab0391a",
   "metadata": {},
   "outputs": [],
   "source": [
    "\n",
    "#%%\n",
    "from ns3gym import ns3env\n",
    "from comet_ml import Experiment, Optimizer\n",
    "import tqdm\n",
    "import subprocess\n",
    "from collections import deque\n",
    "import numpy as np\n",
    "\n",
    "from agents.ddpg.agent import Agent, Config\n",
    "from agents.ddpg.model import Actor\n",
    "from agents.teacher import Teacher, EnvWrapper\n",
    "from preprocessor import Preprocessor"
   ]
  },
  {
   "cell_type": "code",
   "execution_count": 2,
   "id": "4800669b",
   "metadata": {},
   "outputs": [
    {
     "name": "stdout",
     "output_type": "stream",
     "text": [
      "Steps per episode: 6000\n",
      "Waiting for simulation script to connect on port: tcp://localhost:34494\n",
      "Please start proper ns-3 simulation script using ./waf --run \"...\"\n",
      "42.488525|0|5|-nan\n",
      "Observation space shape: (1, 300)\n",
      "Action space shape: (1, 1)\n"
     ]
    }
   ],
   "source": [
    "#%%\n",
    "scenario = \"basic\"\n",
    "\n",
    "simTime = 60 # seconds\n",
    "stepTime = 0.01  # seconds\n",
    "history_length = 300\n",
    "\n",
    "EPISODE_COUNT = 15\n",
    "steps_per_ep = int(simTime/stepTime)\n",
    "\n",
    "sim_args = {\n",
    "    \"simTime\": simTime,\n",
    "    \"envStepTime\": stepTime,\n",
    "    \"historyLength\": history_length,\n",
    "    \"agentType\": Agent.TYPE,\n",
    "    \"scenario\": \"basic\",\n",
    "    \"nWifi\": 5,\n",
    "}\n",
    "\n",
    "print(\"Steps per episode:\", steps_per_ep)\n",
    "\n",
    "threads_no = 1\n",
    "env = EnvWrapper(threads_no, **sim_args)\n",
    "\n",
    "#%%\n",
    "env.reset()\n",
    "ob_space = env.observation_space\n",
    "ac_space = env.action_space\n",
    "\n",
    "print(\"Observation space shape:\", ob_space)\n",
    "print(\"Action space shape:\", ac_space)\n",
    "\n",
    "assert ob_space is not None"
   ]
  },
  {
   "cell_type": "code",
   "execution_count": 3,
   "id": "94d83dfc",
   "metadata": {
    "scrolled": true
   },
   "outputs": [
    {
     "name": "stdout",
     "output_type": "stream",
     "text": [
      "CuDNN version: 7102\n",
      "cpu\n"
     ]
    },
    {
     "name": "stderr",
     "output_type": "stream",
     "text": [
      "COMET INFO: Experiment is live on comet.ml https://www.comet.com/sheila-janota/rl-in-wifi-with-queue-level/bf8755ca32bb4db18b399d67123186b6\n",
      "\n"
     ]
    },
    {
     "name": "stdout",
     "output_type": "stream",
     "text": [
      "0\n",
      "42.488525|0|5|-nan\n"
     ]
    },
    {
     "name": "stderr",
     "output_type": "stream",
     "text": [
      "  5%|▌         | 333/6300 [01:34<29:15,  3.40it/s, curr_speed=33.68 Mbps, mb_sent=10.78 Mb]"
     ]
    },
    {
     "name": "stdout",
     "output_type": "stream",
     "text": [
      "------- STARTED TRAINING -------\n"
     ]
    },
    {
     "name": "stderr",
     "output_type": "stream",
     "text": [
      "100%|██████████| 6300/6300 [25:29<00:00,  4.12it/s, curr_speed=32.99 Mbps, mb_sent=1941.39 Mb]\n"
     ]
    },
    {
     "name": "stdout",
     "output_type": "stream",
     "text": [
      "Waiting for simulation script to connect on port: tcp://localhost:17778\n",
      "Please start proper ns-3 simulation script using ./waf --run \"...\"\n",
      "Sent 1941.39 Mb/s.\tMean speed: 32.36 Mb/s\tEpisode 1/15 finished\n",
      "\n",
      "1\n",
      "42.488525|0|5|-nan\n"
     ]
    },
    {
     "name": "stderr",
     "output_type": "stream",
     "text": [
      "100%|██████████| 6300/6300 [23:59<00:00,  4.38it/s, curr_speed=35.92 Mbps, mb_sent=2028.79 Mb]\n"
     ]
    },
    {
     "name": "stdout",
     "output_type": "stream",
     "text": [
      "Waiting for simulation script to connect on port: tcp://localhost:36107\n",
      "Please start proper ns-3 simulation script using ./waf --run \"...\"\n",
      "Sent 2028.79 Mb/s.\tMean speed: 33.81 Mb/s\tEpisode 2/15 finished\n",
      "\n",
      "2\n",
      "42.488525|0|5|-nan\n"
     ]
    },
    {
     "name": "stderr",
     "output_type": "stream",
     "text": [
      "100%|██████████| 6300/6300 [26:19<00:00,  3.99it/s, curr_speed=46.54 Mbps, mb_sent=2134.00 Mb]\n"
     ]
    },
    {
     "name": "stdout",
     "output_type": "stream",
     "text": [
      "Waiting for simulation script to connect on port: tcp://localhost:27614\n",
      "Please start proper ns-3 simulation script using ./waf --run \"...\"\n",
      "Sent 2134.00 Mb/s.\tMean speed: 35.57 Mb/s\tEpisode 3/15 finished\n",
      "\n",
      "3\n",
      "42.488525|0|5|-nan\n"
     ]
    },
    {
     "name": "stderr",
     "output_type": "stream",
     "text": [
      "100%|██████████| 6300/6300 [26:26<00:00,  3.97it/s, curr_speed=37.75 Mbps, mb_sent=2208.01 Mb]\n"
     ]
    },
    {
     "name": "stdout",
     "output_type": "stream",
     "text": [
      "Waiting for simulation script to connect on port: tcp://localhost:21190\n",
      "Please start proper ns-3 simulation script using ./waf --run \"...\"\n",
      "Sent 2208.01 Mb/s.\tMean speed: 36.80 Mb/s\tEpisode 4/15 finished\n",
      "\n",
      "4\n",
      "42.488525|0|5|-nan\n"
     ]
    },
    {
     "name": "stderr",
     "output_type": "stream",
     "text": [
      "  5%|▍         | 305/6300 [01:10<27:08,  3.68it/s, curr_speed=36.86 Mbps, mb_sent=1.47 Mb]"
     ]
    },
    {
     "name": "stdout",
     "output_type": "stream",
     "text": [
      "------- MEMORY BUFFER FILLED -------\n"
     ]
    },
    {
     "name": "stderr",
     "output_type": "stream",
     "text": [
      "100%|██████████| 6300/6300 [25:22<00:00,  4.14it/s, curr_speed=37.57 Mbps, mb_sent=2267.36 Mb]\n"
     ]
    },
    {
     "name": "stdout",
     "output_type": "stream",
     "text": [
      "Waiting for simulation script to connect on port: tcp://localhost:30215\n",
      "Please start proper ns-3 simulation script using ./waf --run \"...\"\n",
      "Sent 2267.36 Mb/s.\tMean speed: 37.79 Mb/s\tEpisode 5/15 finished\n",
      "\n",
      "5\n",
      "42.488525|0|5|-nan\n"
     ]
    },
    {
     "name": "stderr",
     "output_type": "stream",
     "text": [
      "100%|██████████| 6300/6300 [23:40<00:00,  4.44it/s, curr_speed=38.19 Mbps, mb_sent=2286.20 Mb]\n"
     ]
    },
    {
     "name": "stdout",
     "output_type": "stream",
     "text": [
      "Waiting for simulation script to connect on port: tcp://localhost:23354\n",
      "Please start proper ns-3 simulation script using ./waf --run \"...\"\n",
      "Sent 2286.20 Mb/s.\tMean speed: 38.10 Mb/s\tEpisode 6/15 finished\n",
      "\n",
      "6\n",
      "42.488525|0|5|-nan\n"
     ]
    },
    {
     "name": "stderr",
     "output_type": "stream",
     "text": [
      "100%|██████████| 6300/6300 [23:47<00:00,  4.41it/s, curr_speed=38.29 Mbps, mb_sent=2302.81 Mb]\n"
     ]
    },
    {
     "name": "stdout",
     "output_type": "stream",
     "text": [
      "Waiting for simulation script to connect on port: tcp://localhost:20146\n",
      "Please start proper ns-3 simulation script using ./waf --run \"...\"\n",
      "Sent 2302.81 Mb/s.\tMean speed: 38.38 Mb/s\tEpisode 7/15 finished\n",
      "\n",
      "7\n",
      "42.488525|0|5|-nan\n"
     ]
    },
    {
     "name": "stderr",
     "output_type": "stream",
     "text": [
      "100%|██████████| 6300/6300 [24:17<00:00,  4.32it/s, curr_speed=38.37 Mbps, mb_sent=2319.55 Mb]\n"
     ]
    },
    {
     "name": "stdout",
     "output_type": "stream",
     "text": [
      "Waiting for simulation script to connect on port: tcp://localhost:24180\n",
      "Please start proper ns-3 simulation script using ./waf --run \"...\"\n",
      "Sent 2319.55 Mb/s.\tMean speed: 38.66 Mb/s\tEpisode 8/15 finished\n",
      "\n",
      "8\n",
      "42.488525|0|5|-nan\n"
     ]
    },
    {
     "name": "stderr",
     "output_type": "stream",
     "text": [
      "100%|██████████| 6300/6300 [24:04<00:00,  4.36it/s, curr_speed=38.55 Mbps, mb_sent=2323.44 Mb]\n"
     ]
    },
    {
     "name": "stdout",
     "output_type": "stream",
     "text": [
      "Waiting for simulation script to connect on port: tcp://localhost:40215\n",
      "Please start proper ns-3 simulation script using ./waf --run \"...\"\n",
      "Sent 2323.44 Mb/s.\tMean speed: 38.72 Mb/s\tEpisode 9/15 finished\n",
      "\n",
      "9\n",
      "42.488525|0|5|-nan\n"
     ]
    },
    {
     "name": "stderr",
     "output_type": "stream",
     "text": [
      "100%|██████████| 6300/6300 [25:02<00:00,  4.19it/s, curr_speed=39.16 Mbps, mb_sent=2326.87 Mb]\n"
     ]
    },
    {
     "name": "stdout",
     "output_type": "stream",
     "text": [
      "Waiting for simulation script to connect on port: tcp://localhost:47029\n",
      "Please start proper ns-3 simulation script using ./waf --run \"...\"\n",
      "Sent 2326.87 Mb/s.\tMean speed: 38.78 Mb/s\tEpisode 10/15 finished\n",
      "\n",
      "10\n",
      "42.488525|0|5|-nan\n"
     ]
    },
    {
     "name": "stderr",
     "output_type": "stream",
     "text": [
      "100%|██████████| 6300/6300 [26:42<00:00,  3.93it/s, curr_speed=39.35 Mbps, mb_sent=2328.42 Mb]\n"
     ]
    },
    {
     "name": "stdout",
     "output_type": "stream",
     "text": [
      "Waiting for simulation script to connect on port: tcp://localhost:53627\n",
      "Please start proper ns-3 simulation script using ./waf --run \"...\"\n",
      "Sent 2328.42 Mb/s.\tMean speed: 38.81 Mb/s\tEpisode 11/15 finished\n",
      "\n",
      "11\n",
      "42.488525|0|5|-nan\n"
     ]
    },
    {
     "name": "stderr",
     "output_type": "stream",
     "text": [
      "100%|██████████| 6300/6300 [18:34<00:00,  5.65it/s, curr_speed=39.16 Mbps, mb_sent=2327.50 Mb]\n"
     ]
    },
    {
     "name": "stdout",
     "output_type": "stream",
     "text": [
      "Waiting for simulation script to connect on port: tcp://localhost:40419\n",
      "Please start proper ns-3 simulation script using ./waf --run \"...\"\n",
      "Sent 2327.50 Mb/s.\tMean speed: 38.79 Mb/s\tEpisode 12/15 finished\n",
      "\n",
      "12\n",
      "Turning off noise\n",
      "42.488525|0|5|-nan\n"
     ]
    },
    {
     "name": "stderr",
     "output_type": "stream",
     "text": [
      "100%|██████████| 6300/6300 [25:30<00:00,  4.12it/s, curr_speed=38.91 Mbps, mb_sent=2331.18 Mb]\n"
     ]
    },
    {
     "name": "stdout",
     "output_type": "stream",
     "text": [
      "Waiting for simulation script to connect on port: tcp://localhost:20213\n",
      "Please start proper ns-3 simulation script using ./waf --run \"...\"\n",
      "Sent 2331.18 Mb/s.\tMean speed: 38.85 Mb/s\tEpisode 13/15 finished\n",
      "\n",
      "13\n",
      "Turning off noise\n",
      "42.488525|0|5|-nan\n"
     ]
    },
    {
     "name": "stderr",
     "output_type": "stream",
     "text": [
      "100%|██████████| 6300/6300 [39:57<00:00,  2.63it/s, curr_speed=39.37 Mbps, mb_sent=2330.63 Mb]\n"
     ]
    },
    {
     "name": "stdout",
     "output_type": "stream",
     "text": [
      "Waiting for simulation script to connect on port: tcp://localhost:46041\n",
      "Please start proper ns-3 simulation script using ./waf --run \"...\"\n",
      "Sent 2330.63 Mb/s.\tMean speed: 38.84 Mb/s\tEpisode 14/15 finished\n",
      "\n",
      "14\n",
      "Turning off noise\n",
      "42.488525|0|5|-nan\n"
     ]
    },
    {
     "name": "stderr",
     "output_type": "stream",
     "text": [
      "100%|██████████| 6300/6300 [35:44<00:00,  2.94it/s, curr_speed=38.72 Mbps, mb_sent=2328.59 Mb]\n"
     ]
    },
    {
     "name": "stdout",
     "output_type": "stream",
     "text": [
      "Waiting for simulation script to connect on port: tcp://localhost:50106\n",
      "Please start proper ns-3 simulation script using ./waf --run \"...\"\n"
     ]
    },
    {
     "name": "stderr",
     "output_type": "stream",
     "text": [
      "COMET INFO: ----------------------------\n",
      "COMET INFO: Comet.ml Experiment Summary:\n",
      "COMET INFO:   Data:\n",
      "COMET INFO:     url: https://www.comet.com/sheila-janota/rl-in-wifi-with-queue-level/bf8755ca32bb4db18b399d67123186b6\n",
      "COMET INFO:   Metrics [count] (min, max):\n",
      "COMET INFO:     Chosen CW [89985]           : (16.0, 1024.0)\n",
      "COMET INFO:     Cumulative reward [15]      : (2674.870849609375, 3256.11328125)\n",
      "COMET INFO:     Current throughput [89985]  : (25.053049087524414, 53.579776763916016)\n",
      "COMET INFO:     Fairness index [89985]      : (0.9482290148735046, 0.9999939799308777)\n",
      "COMET INFO:     Megabytes sent [89985]      : (0.2680659890174866, 2331.183639585972)\n",
      "COMET INFO:     Observation 0 [89985]       : (0.7956499815732241, 0.8333333134651184)\n",
      "COMET INFO:     Observation 1 [89985]       : (0.0, 0.10251811528142041)\n",
      "COMET INFO:     Per-ep reward [89985]       : (132.72265625, 3256.11328125)\n",
      "COMET INFO:     Round megabytes sent [89985]: (0.0, 11.839599609375)\n",
      "COMET INFO:     Round reward [89985]        : (0.0, 0.62548828125)\n",
      "COMET INFO:     Speed [15]                  : (32.35654532276094, 38.8530606597662)\n",
      "COMET INFO:     Station count [89985]       : (5.0, 5.0)\n",
      "COMET INFO:     actor_loss [89985]          : (-2.397048234939575, 0.0)\n",
      "COMET INFO:     critic_loss [89985]         : (0.0, 6.542065620422363)\n",
      "COMET INFO:     loss [33578]                : (-2.300806760787964, 4.940904140472412)\n",
      "COMET INFO:   Uploads:\n",
      "COMET INFO:     histogram3d: 89985\n",
      "COMET INFO: ----------------------------\n"
     ]
    },
    {
     "name": "stdout",
     "output_type": "stream",
     "text": [
      "Sent 2328.59 Mb/s.\tMean speed: 38.81 Mb/s\tEpisode 15/15 finished\n",
      "\n"
     ]
    },
    {
     "name": "stderr",
     "output_type": "stream",
     "text": [
      "COMET INFO: Uploading stats to Comet before program termination (may take several seconds)\n",
      "COMET INFO: Waiting for completion of the file uploads (may take several seconds)\n",
      "COMET INFO: Still uploading\n",
      "COMET INFO: Still uploading\n",
      "COMET INFO: Still uploading\n",
      "COMET INFO: Still uploading\n",
      "COMET INFO: Still uploading\n",
      "COMET INFO: Still uploading\n",
      "COMET INFO: Still uploading\n",
      "COMET INFO: Still uploading\n",
      "COMET INFO: Still uploading\n",
      "COMET INFO: Still uploading\n",
      "COMET INFO: Still uploading\n",
      "COMET INFO: Still uploading\n",
      "COMET INFO: Still uploading\n",
      "COMET INFO: Still uploading\n",
      "COMET INFO: Still uploading\n",
      "COMET INFO: Still uploading\n",
      "COMET INFO: Still uploading\n",
      "COMET INFO: Still uploading\n",
      "COMET INFO: Still uploading\n",
      "COMET INFO: Still uploading\n",
      "COMET INFO: Still uploading\n",
      "COMET INFO: Still uploading\n",
      "COMET INFO: Still uploading\n",
      "COMET INFO: Still uploading\n",
      "COMET INFO: Still uploading\n",
      "COMET INFO: Still uploading\n",
      "COMET INFO: Still uploading\n",
      "COMET INFO: Still uploading\n",
      "COMET INFO: Still uploading\n",
      "COMET INFO: Still uploading\n",
      "COMET INFO: Still uploading\n",
      "COMET INFO: Still uploading\n",
      "COMET INFO: Still uploading\n",
      "COMET INFO: Still uploading\n",
      "COMET INFO: Still uploading\n",
      "COMET INFO: Still uploading\n",
      "COMET INFO: Still uploading\n",
      "COMET INFO: Still uploading\n",
      "COMET INFO: Still uploading\n",
      "COMET INFO: Still uploading\n",
      "COMET INFO: Still uploading\n",
      "COMET INFO: Still uploading\n",
      "COMET INFO: Still uploading\n",
      "COMET INFO: Still uploading\n",
      "COMET INFO: Still uploading\n",
      "COMET INFO: Still uploading\n",
      "COMET INFO: Still uploading\n",
      "COMET INFO: Still uploading\n",
      "COMET INFO: Still uploading\n",
      "COMET INFO: Still uploading\n",
      "COMET INFO: Still uploading\n",
      "COMET INFO: Still uploading\n",
      "COMET INFO: Still uploading\n",
      "COMET INFO: Still uploading\n",
      "COMET INFO: Still uploading\n",
      "COMET INFO: Still uploading\n",
      "COMET INFO: Still uploading\n",
      "COMET INFO: Still uploading\n",
      "COMET INFO: Still uploading\n",
      "COMET INFO: Still uploading\n",
      "COMET INFO: Still uploading\n",
      "COMET INFO: Still uploading\n",
      "COMET INFO: Still uploading\n",
      "COMET INFO: Still uploading\n",
      "COMET INFO: Still uploading\n",
      "COMET INFO: Still uploading\n",
      "COMET INFO: Still uploading\n",
      "COMET INFO: Still uploading\n",
      "COMET INFO: Still uploading\n",
      "COMET INFO: Still uploading\n",
      "COMET INFO: Still uploading\n",
      "COMET INFO: Still uploading\n",
      "COMET INFO: Still uploading\n",
      "COMET INFO: Still uploading\n",
      "COMET INFO: Still uploading\n",
      "COMET INFO: Still uploading\n",
      "COMET INFO: Still uploading\n",
      "COMET INFO: Still uploading\n",
      "COMET INFO: Still uploading\n",
      "COMET INFO: Still uploading\n",
      "COMET INFO: Still uploading\n",
      "COMET INFO: Still uploading\n",
      "COMET INFO: Still uploading\n",
      "COMET INFO: Still uploading\n",
      "COMET INFO: Still uploading\n",
      "COMET INFO: Still uploading\n",
      "COMET INFO: Still uploading\n",
      "COMET INFO: Still uploading\n",
      "COMET INFO: Still uploading\n",
      "COMET INFO: Still uploading\n",
      "COMET INFO: Still uploading\n",
      "COMET INFO: Still uploading\n",
      "COMET INFO: Still uploading\n",
      "COMET INFO: Still uploading\n",
      "COMET INFO: Still uploading\n",
      "COMET INFO: Still uploading\n",
      "COMET INFO: Still uploading\n",
      "COMET INFO: Still uploading\n",
      "COMET INFO: Still uploading\n",
      "COMET INFO: Still uploading\n",
      "COMET INFO: Still uploading\n",
      "COMET INFO: Still uploading\n",
      "COMET INFO: Still uploading\n",
      "COMET INFO: Still uploading\n",
      "COMET INFO: Still uploading\n",
      "COMET INFO: Still uploading\n",
      "COMET INFO: Still uploading\n",
      "COMET INFO: Still uploading\n",
      "COMET INFO: Still uploading\n",
      "COMET INFO: Still uploading\n",
      "COMET INFO: Still uploading\n",
      "COMET INFO: Still uploading\n",
      "COMET INFO: Still uploading\n",
      "COMET INFO: Still uploading\n",
      "COMET INFO: Still uploading\n",
      "COMET INFO: Still uploading\n",
      "COMET INFO: Still uploading\n",
      "COMET INFO: Still uploading\n",
      "COMET ERROR: Comet failed to send all the data back (0 messages and 3 uploads)\n",
      "COMET WARNING: Failed to log run in comet.ml\n"
     ]
    },
    {
     "name": "stdout",
     "output_type": "stream",
     "text": [
      "Training finished.\n"
     ]
    }
   ],
   "source": [
    "#%%\n",
    "teacher = Teacher(env, 1, Preprocessor(False))\n",
    "\n",
    "lr_actor = 4e-4\n",
    "lr_critic = 4e-3\n",
    "\n",
    "config = Config(buffer_size=4*steps_per_ep*threads_no, batch_size=32, gamma=0.7, tau=1e-3, lr_actor=lr_actor, lr_critic=lr_critic, update_every=1)\n",
    "agent = Agent(history_length, action_size=1, config=config, actor_layers=[8, 128, 16], critic_layers=[8,128,16])\n",
    "\n",
    "# Test the model\n",
    "hyperparams = {**config.__dict__, **sim_args}\n",
    "tags = [\"Rew: normalized speed\",\n",
    "        f\"{Agent.NAME}\",\n",
    "        sim_args['scenario'],\n",
    "        f\"Actor: {lr_actor}\",\n",
    "        f\"Critic: {lr_critic}\",\n",
    "        f\"Instances: {threads_no}\",\n",
    "        f\"Station count: {sim_args['nWifi']}\",\n",
    "        *[f\"{key}: {sim_args[key]}\" for key in list(sim_args)[:3]]]\n",
    "# agent.save()\n",
    "logger = teacher.train(agent, EPISODE_COUNT,\n",
    "                        simTime=simTime,\n",
    "                        stepTime=stepTime,\n",
    "                        history_length=history_length,\n",
    "                        send_logs=True,\n",
    "                        experimental=True,\n",
    "                        tags=tags,\n",
    "                        parameters=hyperparams)\n",
    "# logger = teacher.eval(agent,\n",
    "#                         simTime=simTime,\n",
    "#                         stepTime=stepTime,\n",
    "#                         history_length=history_length,\n",
    "#                         tags=tags,\n",
    "#                         parameters=hyperparams)\n",
    "# agent.save()"
   ]
  },
  {
   "cell_type": "code",
   "execution_count": null,
   "id": "e27ec497",
   "metadata": {},
   "outputs": [],
   "source": []
  },
  {
   "cell_type": "markdown",
   "id": "b2789bd3",
   "metadata": {},
   "source": [
    "# Execution num2:"
   ]
  },
  {
   "cell_type": "code",
   "execution_count": 1,
   "id": "1262b38e",
   "metadata": {},
   "outputs": [],
   "source": [
    "\n",
    "#%%\n",
    "from ns3gym import ns3env\n",
    "from comet_ml import Experiment, Optimizer\n",
    "import tqdm\n",
    "import subprocess\n",
    "from collections import deque\n",
    "import numpy as np\n",
    "\n",
    "from agents.ddpg.agent import Agent, Config\n",
    "from agents.ddpg.model import Actor\n",
    "from agents.teacher import Teacher, EnvWrapper\n",
    "from preprocessor import Preprocessor"
   ]
  },
  {
   "cell_type": "code",
   "execution_count": 2,
   "id": "d0c801ee",
   "metadata": {},
   "outputs": [
    {
     "name": "stdout",
     "output_type": "stream",
     "text": [
      "Steps per episode: 6000\n",
      "Waiting for simulation script to connect on port: tcp://localhost:33834\n",
      "Please start proper ns-3 simulation script using ./waf --run \"...\"\n",
      "42.488525|0|5|-nan\n",
      "Observation space shape: (1, 300)\n",
      "Action space shape: (1, 1)\n"
     ]
    }
   ],
   "source": [
    "#%%\n",
    "scenario = \"basic\"\n",
    "\n",
    "simTime = 60 # seconds\n",
    "stepTime = 0.01  # seconds\n",
    "history_length = 300\n",
    "\n",
    "EPISODE_COUNT = 15\n",
    "steps_per_ep = int(simTime/stepTime)\n",
    "\n",
    "sim_args = {\n",
    "    \"simTime\": simTime,\n",
    "    \"envStepTime\": stepTime,\n",
    "    \"historyLength\": history_length,\n",
    "    \"agentType\": Agent.TYPE,\n",
    "    \"scenario\": \"basic\",\n",
    "    \"nWifi\": 5,\n",
    "}\n",
    "\n",
    "print(\"Steps per episode:\", steps_per_ep)\n",
    "\n",
    "threads_no = 1\n",
    "env = EnvWrapper(threads_no, **sim_args)\n",
    "\n",
    "#%%\n",
    "env.reset()\n",
    "ob_space = env.observation_space\n",
    "ac_space = env.action_space\n",
    "\n",
    "print(\"Observation space shape:\", ob_space)\n",
    "print(\"Action space shape:\", ac_space)\n",
    "\n",
    "assert ob_space is not None"
   ]
  },
  {
   "cell_type": "code",
   "execution_count": null,
   "id": "c46ce1ab",
   "metadata": {},
   "outputs": [],
   "source": [
    "#%%\n",
    "teacher = Teacher(env, 1, Preprocessor(False))\n",
    "\n",
    "lr_actor = 4e-4\n",
    "lr_critic = 4e-3\n",
    "\n",
    "config = Config(buffer_size=4*steps_per_ep*threads_no, batch_size=32, gamma=0.7, tau=1e-3, lr_actor=lr_actor, lr_critic=lr_critic, update_every=1)\n",
    "agent = Agent(history_length, action_size=1, config=config, actor_layers=[8, 128, 16], critic_layers=[8,128,16])\n",
    "\n",
    "# Test the model\n",
    "hyperparams = {**config.__dict__, **sim_args}\n",
    "tags = [\"Rew: normalized speed\",\n",
    "        f\"{Agent.NAME}\",\n",
    "        sim_args['scenario'],\n",
    "        f\"Actor: {lr_actor}\",\n",
    "        f\"Critic: {lr_critic}\",\n",
    "        f\"Instances: {threads_no}\",\n",
    "        f\"Station count: {sim_args['nWifi']}\",\n",
    "        *[f\"{key}: {sim_args[key]}\" for key in list(sim_args)[:3]]]\n",
    "# agent.save()\n",
    "logger = teacher.train(agent, EPISODE_COUNT,\n",
    "                        simTime=simTime,\n",
    "                        stepTime=stepTime,\n",
    "                        history_length=history_length,\n",
    "                        send_logs=True,\n",
    "                        experimental=True,\n",
    "                        tags=tags,\n",
    "                        parameters=hyperparams)\n",
    "# logger = teacher.eval(agent,\n",
    "#                         simTime=simTime,\n",
    "#                         stepTime=stepTime,\n",
    "#                         history_length=history_length,\n",
    "#                         tags=tags,\n",
    "#                         parameters=hyperparams)\n",
    "# agent.save()"
   ]
  },
  {
   "cell_type": "code",
   "execution_count": null,
   "id": "be4c2b9a",
   "metadata": {},
   "outputs": [],
   "source": [
    "Turning off noise\n",
    " \n",
    "100%|██████████| 6300/6300 [30:50<00:00,  3.41it/s, curr_speed=38.75 Mbps, mb_sent=2335.19 Mb]\n",
    " \n",
    "Waiting for simulation script to connect on port: tcp://localhost:26350\n",
    "Please start proper ns-3 simulation script using ./waf --run \"...\"\n",
    "Waf: Entering directory `/home/samuel/ns-allinone-3.29/ns-3.29/build'\n",
    "Waf: Leaving directory `/home/samuel/ns-allinone-3.29/ns-3.29/build'\n",
    "Build commands will be stored in build/compile_commands.json\n",
    "'build' finished successfully (2.348s)\n",
    " \n",
    "Ns3Env parameters:\n",
    "--nWifi: 5\n",
    "--simulationTime: 60\n",
    "--openGymPort: 26350\n",
    "--envStepTime: 0.01\n",
    "--seed: 42\n",
    "--agentType: continuous\n",
    "--scenario: basic\n",
    "--dryRun: 0\n",
    "Simulation started\n",
    "Simulation process id: 3737494 (parent (waf shell) id: 3737477)\n",
    "Waiting for Python process to connect on port: tcp://localhost:26350\n",
    "Please start proper Python Gym Agent\n",
    "COMET INFO: ----------------------------\n",
    "COMET INFO: Comet.ml Experiment Summary:\n",
    "COMET INFO:   Data:\n",
    "COMET INFO:     url: https://www.comet.com/sheila-janota/rl-in-wifi-with-queue-level/e63fbd6ca2ae46a588feb31c2d2059b7\n",
    "COMET INFO:   Metrics [count] (min, max):\n",
    "COMET INFO:     Chosen CW [89985]           : (16.0, 1024.0)\n",
    "COMET INFO:     Cumulative reward [15]      : (2721.752685546875, 3271.229248046875)\n",
    "COMET INFO:     Current throughput [89985]  : (24.796142578125, 50.07256317138672)\n",
    "COMET INFO:     Fairness index [89985]      : (0.941992998123169, 0.9999679923057556)\n",
    "COMET INFO:     Megabytes sent [89985]      : (0.2904050052165985, 2337.0029280483723)\n",
    "COMET INFO:     Observation 0 [89985]       : (0.7850083162635564, 0.8333333134651184)\n",
    "COMET INFO:     Observation 1 [89985]       : (0.0, 0.10351169853179162)\n",
    "COMET INFO:     Per-ep reward [89985]       : (132.21630859375, 3271.229248046875)\n",
    "COMET INFO:     Round megabytes sent [89985]: (0.05584700033068657, 11.88427734375)\n",
    "COMET INFO:     Round reward [89985]        : (0.074462890625, 0.62548828125)\n",
    "COMET INFO:     Speed [15]                  : (32.564668451808394, 38.95004880080621)\n",
    "COMET INFO:     Station count [89985]       : (5.0, 5.0)\n",
    "COMET INFO:     actor_loss [89985]          : (-1.7418345212936401, 0.0)\n",
    "COMET INFO:     critic_loss [89985]         : (0.0, 5.534846782684326)\n",
    "COMET INFO:     loss [33578]                : (-1.7416155338287354, 0.525303304195404)\n",
    "COMET INFO:   Uploads:\n",
    "COMET INFO:     histogram3d: 89985\n",
    "COMET INFO: ----------------------------\n",
    " \n",
    "Sent 2335.19 Mb/s.\tMean speed: 38.92 Mb/s\tEpisode 15/15 finished\n",
    " \n",
    "COMET INFO: Uploading stats to Comet before program termination (may take several seconds)\n",
    " \n",
    "Training finished."
   ]
  },
  {
   "cell_type": "code",
   "execution_count": null,
   "id": "f449ff91",
   "metadata": {},
   "outputs": [],
   "source": []
  },
  {
   "cell_type": "markdown",
   "id": "d57371b5",
   "metadata": {},
   "source": [
    "# Execution num3:"
   ]
  },
  {
   "cell_type": "code",
   "execution_count": 1,
   "id": "93846039",
   "metadata": {},
   "outputs": [],
   "source": [
    "\n",
    "#%%\n",
    "from ns3gym import ns3env\n",
    "from comet_ml import Experiment, Optimizer\n",
    "import tqdm\n",
    "import subprocess\n",
    "from collections import deque\n",
    "import numpy as np\n",
    "\n",
    "from agents.ddpg.agent import Agent, Config\n",
    "from agents.ddpg.model import Actor\n",
    "from agents.teacher import Teacher, EnvWrapper\n",
    "from preprocessor import Preprocessor"
   ]
  },
  {
   "cell_type": "code",
   "execution_count": 2,
   "id": "6007d35f",
   "metadata": {},
   "outputs": [
    {
     "name": "stdout",
     "output_type": "stream",
     "text": [
      "Steps per episode: 6000\n",
      "Waiting for simulation script to connect on port: tcp://localhost:24888\n",
      "Please start proper ns-3 simulation script using ./waf --run \"...\"\n",
      "42.488525|0|5|-nan\n",
      "Observation space shape: (1, 300)\n",
      "Action space shape: (1, 1)\n"
     ]
    }
   ],
   "source": [
    "#%%\n",
    "scenario = \"basic\"\n",
    "\n",
    "simTime = 60 # seconds\n",
    "stepTime = 0.01  # seconds\n",
    "history_length = 300\n",
    "\n",
    "EPISODE_COUNT = 15\n",
    "steps_per_ep = int(simTime/stepTime)\n",
    "\n",
    "sim_args = {\n",
    "    \"simTime\": simTime,\n",
    "    \"envStepTime\": stepTime,\n",
    "    \"historyLength\": history_length,\n",
    "    \"agentType\": Agent.TYPE,\n",
    "    \"scenario\": \"basic\",\n",
    "    \"nWifi\": 5,\n",
    "}\n",
    "\n",
    "print(\"Steps per episode:\", steps_per_ep)\n",
    "\n",
    "threads_no = 1\n",
    "env = EnvWrapper(threads_no, **sim_args)\n",
    "\n",
    "#%%\n",
    "env.reset()\n",
    "ob_space = env.observation_space\n",
    "ac_space = env.action_space\n",
    "\n",
    "print(\"Observation space shape:\", ob_space)\n",
    "print(\"Action space shape:\", ac_space)\n",
    "\n",
    "assert ob_space is not None"
   ]
  },
  {
   "cell_type": "code",
   "execution_count": 3,
   "id": "72a48cbe",
   "metadata": {
    "scrolled": true
   },
   "outputs": [
    {
     "name": "stdout",
     "output_type": "stream",
     "text": [
      "CuDNN version: 7102\n",
      "cpu\n"
     ]
    },
    {
     "name": "stderr",
     "output_type": "stream",
     "text": [
      "COMET INFO: Experiment is live on comet.ml https://www.comet.com/sheila-janota/rl-in-wifi-with-queue-level/ae9a2a34e78b41e686d3209ce4c9de24\n",
      "\n"
     ]
    },
    {
     "name": "stdout",
     "output_type": "stream",
     "text": [
      "0\n",
      "42.488525|0|5|-nan\n"
     ]
    },
    {
     "name": "stderr",
     "output_type": "stream",
     "text": [
      "  5%|▌         | 334/6300 [01:24<30:22,  3.27it/s, curr_speed=32.12 Mbps, mb_sent=10.60 Mb]"
     ]
    },
    {
     "name": "stdout",
     "output_type": "stream",
     "text": [
      "------- STARTED TRAINING -------\n"
     ]
    },
    {
     "name": "stderr",
     "output_type": "stream",
     "text": [
      " 12%|█▏        | 785/6300 [04:09<33:04,  2.78it/s, curr_speed=31.06 Mbps, mb_sent=157.65 Mb]COMET ERROR: File could not be uploaded\n",
      " 12%|█▏        | 786/6300 [04:10<32:12,  2.85it/s, curr_speed=31.03 Mbps, mb_sent=158.03 Mb]COMET ERROR: File could not be uploaded\n",
      " 12%|█▏        | 787/6300 [04:10<29:41,  3.09it/s, curr_speed=30.73 Mbps, mb_sent=158.15 Mb]COMET ERROR: File could not be uploaded\n",
      " 13%|█▎        | 788/6300 [04:10<27:56,  3.29it/s, curr_speed=30.60 Mbps, mb_sent=158.37 Mb]COMET ERROR: File could not be uploaded\n",
      " 13%|█▎        | 789/6300 [04:10<31:08,  2.95it/s, curr_speed=30.59 Mbps, mb_sent=158.72 Mb]COMET ERROR: File could not be uploaded\n",
      " 13%|█▎        | 790/6300 [04:11<33:09,  2.77it/s, curr_speed=30.55 Mbps, mb_sent=159.08 Mb]COMET ERROR: File could not be uploaded\n",
      " 32%|███▏      | 2047/6300 [11:33<36:57,  1.92it/s, curr_speed=29.97 Mbps, mb_sent=555.53 Mb]COMET ERROR: File could not be uploaded\n",
      " 40%|███▉      | 2492/6300 [14:02<18:18,  3.47it/s, curr_speed=30.27 Mbps, mb_sent=692.87 Mb]COMET ERROR: File could not be uploaded\n",
      "100%|██████████| 6300/6300 [34:55<00:00,  3.01it/s, curr_speed=29.87 Mbps, mb_sent=1867.63 Mb]\n"
     ]
    },
    {
     "name": "stdout",
     "output_type": "stream",
     "text": [
      "Waiting for simulation script to connect on port: tcp://localhost:50621\n",
      "Please start proper ns-3 simulation script using ./waf --run \"...\"\n",
      "Sent 1867.63 Mb/s.\tMean speed: 31.13 Mb/s\tEpisode 1/15 finished\n",
      "\n",
      "1\n",
      "42.488525|0|5|-nan\n"
     ]
    },
    {
     "name": "stderr",
     "output_type": "stream",
     "text": [
      " 90%|████████▉ | 5655/6300 [30:48<03:41,  2.91it/s, curr_speed=33.31 Mbps, mb_sent=1746.55 Mb]COMET ERROR: File could not be uploaded\n",
      "100%|██████████| 6300/6300 [34:31<00:00,  3.04it/s, curr_speed=32.11 Mbps, mb_sent=1955.27 Mb]\n"
     ]
    },
    {
     "name": "stdout",
     "output_type": "stream",
     "text": [
      "Waiting for simulation script to connect on port: tcp://localhost:25853\n",
      "Please start proper ns-3 simulation script using ./waf --run \"...\"\n",
      "Sent 1955.27 Mb/s.\tMean speed: 32.59 Mb/s\tEpisode 2/15 finished\n",
      "\n",
      "2\n",
      "42.488525|0|5|-nan\n"
     ]
    },
    {
     "name": "stderr",
     "output_type": "stream",
     "text": [
      " 55%|█████▍    | 3444/6300 [20:37<18:16,  2.60it/s, curr_speed=34.20 Mbps, mb_sent=1084.52 Mb]COMET ERROR: File could not be uploaded\n",
      "100%|██████████| 6300/6300 [39:42<00:00,  2.64it/s, curr_speed=33.39 Mbps, mb_sent=2073.78 Mb]\n"
     ]
    },
    {
     "name": "stdout",
     "output_type": "stream",
     "text": [
      "Waiting for simulation script to connect on port: tcp://localhost:22279\n",
      "Please start proper ns-3 simulation script using ./waf --run \"...\"\n",
      "Sent 2073.78 Mb/s.\tMean speed: 34.56 Mb/s\tEpisode 3/15 finished\n",
      "\n",
      "3\n",
      "42.488525|0|5|-nan\n"
     ]
    },
    {
     "name": "stderr",
     "output_type": "stream",
     "text": [
      "100%|██████████| 6300/6300 [39:44<00:00,  2.64it/s, curr_speed=36.48 Mbps, mb_sent=2178.79 Mb]\n"
     ]
    },
    {
     "name": "stdout",
     "output_type": "stream",
     "text": [
      "Waiting for simulation script to connect on port: tcp://localhost:45510\n",
      "Please start proper ns-3 simulation script using ./waf --run \"...\"\n",
      "Sent 2178.79 Mb/s.\tMean speed: 36.31 Mb/s\tEpisode 4/15 finished\n",
      "\n",
      "4\n",
      "42.488525|0|5|-nan\n"
     ]
    },
    {
     "name": "stderr",
     "output_type": "stream",
     "text": [
      "  5%|▍         | 305/6300 [01:17<30:30,  3.28it/s, curr_speed=38.81 Mbps, mb_sent=1.55 Mb]"
     ]
    },
    {
     "name": "stdout",
     "output_type": "stream",
     "text": [
      "------- MEMORY BUFFER FILLED -------\n"
     ]
    },
    {
     "name": "stderr",
     "output_type": "stream",
     "text": [
      "100%|██████████| 6300/6300 [40:17<00:00,  2.61it/s, curr_speed=37.67 Mbps, mb_sent=2246.94 Mb]\n"
     ]
    },
    {
     "name": "stdout",
     "output_type": "stream",
     "text": [
      "Waiting for simulation script to connect on port: tcp://localhost:21492\n",
      "Please start proper ns-3 simulation script using ./waf --run \"...\"\n",
      "Sent 2246.94 Mb/s.\tMean speed: 37.45 Mb/s\tEpisode 5/15 finished\n",
      "\n",
      "5\n",
      "42.488525|0|5|-nan\n"
     ]
    },
    {
     "name": "stderr",
     "output_type": "stream",
     "text": [
      " 75%|███████▌  | 4741/6300 [30:11<09:29,  2.74it/s, curr_speed=38.00 Mbps, mb_sent=1693.31 Mb]COMET ERROR: File could not be uploaded\n",
      "100%|██████████| 6300/6300 [40:34<00:00,  2.59it/s, curr_speed=37.86 Mbps, mb_sent=2287.60 Mb]\n"
     ]
    },
    {
     "name": "stdout",
     "output_type": "stream",
     "text": [
      "Waiting for simulation script to connect on port: tcp://localhost:53771\n",
      "Please start proper ns-3 simulation script using ./waf --run \"...\"\n",
      "Sent 2287.60 Mb/s.\tMean speed: 38.13 Mb/s\tEpisode 6/15 finished\n",
      "\n",
      "6\n",
      "42.488525|0|5|-nan\n"
     ]
    },
    {
     "name": "stderr",
     "output_type": "stream",
     "text": [
      " 65%|██████▌   | 4101/6300 [29:37<13:52,  2.64it/s, curr_speed=46.49 Mbps, mb_sent=1452.54 Mb]COMET ERROR: File could not be uploaded\n",
      " 77%|███████▋  | 4821/6300 [34:52<11:25,  2.16it/s, curr_speed=38.02 Mbps, mb_sent=1729.62 Mb]COMET ERROR: File could not be uploaded\n",
      "100%|██████████| 6300/6300 [45:20<00:00,  2.32it/s, curr_speed=38.41 Mbps, mb_sent=2297.95 Mb]\n"
     ]
    },
    {
     "name": "stdout",
     "output_type": "stream",
     "text": [
      "Waiting for simulation script to connect on port: tcp://localhost:46800\n",
      "Please start proper ns-3 simulation script using ./waf --run \"...\"\n",
      "Sent 2297.95 Mb/s.\tMean speed: 38.30 Mb/s\tEpisode 7/15 finished\n",
      "\n",
      "7\n",
      "42.488525|0|5|-nan\n"
     ]
    },
    {
     "name": "stderr",
     "output_type": "stream",
     "text": [
      "  7%|▋         | 415/6300 [02:16<38:17,  2.56it/s, curr_speed=38.48 Mbps, mb_sent=43.84 Mb]COMET ERROR: File could not be uploaded\n",
      " 15%|█▍        | 927/6300 [05:50<34:29,  2.60it/s, curr_speed=38.36 Mbps, mb_sent=240.86 Mb]COMET ERROR: File could not be uploaded\n",
      " 15%|█▌        | 960/6300 [06:03<32:36,  2.73it/s, curr_speed=38.59 Mbps, mb_sent=253.70 Mb]COMET ERROR: File could not be uploaded\n",
      "100%|██████████| 6300/6300 [41:37<00:00,  2.52it/s, curr_speed=38.52 Mbps, mb_sent=2318.01 Mb]\n"
     ]
    },
    {
     "name": "stdout",
     "output_type": "stream",
     "text": [
      "Waiting for simulation script to connect on port: tcp://localhost:46786\n",
      "Please start proper ns-3 simulation script using ./waf --run \"...\"\n",
      "Sent 2318.01 Mb/s.\tMean speed: 38.63 Mb/s\tEpisode 8/15 finished\n",
      "\n",
      "8\n",
      "42.488525|0|5|-nan\n"
     ]
    },
    {
     "name": "stderr",
     "output_type": "stream",
     "text": [
      "100%|██████████| 6300/6300 [34:18<00:00,  3.06it/s, curr_speed=38.79 Mbps, mb_sent=2327.29 Mb]\n"
     ]
    },
    {
     "name": "stdout",
     "output_type": "stream",
     "text": [
      "Waiting for simulation script to connect on port: tcp://localhost:23279\n",
      "Please start proper ns-3 simulation script using ./waf --run \"...\"\n",
      "Sent 2327.29 Mb/s.\tMean speed: 38.79 Mb/s\tEpisode 9/15 finished\n",
      "\n",
      "9\n",
      "42.488525|0|5|-nan\n"
     ]
    },
    {
     "name": "stderr",
     "output_type": "stream",
     "text": [
      "100%|██████████| 6300/6300 [24:47<00:00,  4.24it/s, curr_speed=38.64 Mbps, mb_sent=2325.90 Mb]\n"
     ]
    },
    {
     "name": "stdout",
     "output_type": "stream",
     "text": [
      "Waiting for simulation script to connect on port: tcp://localhost:35830\n",
      "Please start proper ns-3 simulation script using ./waf --run \"...\"\n",
      "Sent 2325.90 Mb/s.\tMean speed: 38.77 Mb/s\tEpisode 10/15 finished\n",
      "\n",
      "10\n",
      "42.488525|0|5|-nan\n"
     ]
    },
    {
     "name": "stderr",
     "output_type": "stream",
     "text": [
      " 72%|███████▏  | 4532/6300 [17:40<07:15,  4.06it/s, curr_speed=38.81 Mbps, mb_sent=1642.99 Mb]COMET ERROR: File could not be uploaded\n",
      "100%|██████████| 6300/6300 [24:40<00:00,  4.25it/s, curr_speed=39.16 Mbps, mb_sent=2330.41 Mb]\n"
     ]
    },
    {
     "name": "stdout",
     "output_type": "stream",
     "text": [
      "Waiting for simulation script to connect on port: tcp://localhost:50909\n",
      "Please start proper ns-3 simulation script using ./waf --run \"...\"\n",
      "Sent 2330.41 Mb/s.\tMean speed: 38.84 Mb/s\tEpisode 11/15 finished\n",
      "\n",
      "11\n",
      "42.488525|0|5|-nan\n"
     ]
    },
    {
     "name": "stderr",
     "output_type": "stream",
     "text": [
      " 72%|███████▏  | 4560/6300 [17:39<06:49,  4.25it/s, curr_speed=39.03 Mbps, mb_sent=1653.66 Mb]COMET ERROR: File could not be uploaded\n",
      "100%|█████████▉| 6290/6300 [24:30<00:02,  4.26it/s, curr_speed=38.68 Mbps, mb_sent=2326.01 Mb]COMET ERROR: File could not be uploaded\n",
      "100%|██████████| 6300/6300 [24:33<00:00,  4.28it/s, curr_speed=38.58 Mbps, mb_sent=2329.84 Mb]\n"
     ]
    },
    {
     "name": "stdout",
     "output_type": "stream",
     "text": [
      "Waiting for simulation script to connect on port: tcp://localhost:18934\n",
      "Please start proper ns-3 simulation script using ./waf --run \"...\"\n",
      "Sent 2329.84 Mb/s.\tMean speed: 38.83 Mb/s\tEpisode 12/15 finished\n",
      "\n",
      "12\n",
      "Turning off noise\n",
      "42.488525|0|5|-nan\n"
     ]
    },
    {
     "name": "stderr",
     "output_type": "stream",
     "text": [
      " 21%|██        | 1312/6300 [04:49<19:31,  4.26it/s, curr_speed=38.85 Mbps, mb_sent=392.15 Mb]COMET ERROR: File could not be uploaded\n",
      " 30%|██▉       | 1881/6300 [07:03<17:35,  4.19it/s, curr_speed=39.14 Mbps, mb_sent=613.57 Mb]COMET ERROR: File could not be uploaded\n",
      " 91%|█████████▏| 5754/6300 [22:21<02:11,  4.16it/s, curr_speed=39.04 Mbps, mb_sent=2117.78 Mb]COMET ERROR: File could not be uploaded\n",
      "100%|██████████| 6300/6300 [24:26<00:00,  4.30it/s, curr_speed=38.98 Mbps, mb_sent=2329.52 Mb]\n"
     ]
    },
    {
     "name": "stdout",
     "output_type": "stream",
     "text": [
      "Waiting for simulation script to connect on port: tcp://localhost:38734\n",
      "Please start proper ns-3 simulation script using ./waf --run \"...\"\n",
      "Sent 2329.52 Mb/s.\tMean speed: 38.83 Mb/s\tEpisode 13/15 finished\n",
      "\n",
      "13\n",
      "Turning off noise\n",
      "42.488525|0|5|-nan\n"
     ]
    },
    {
     "name": "stderr",
     "output_type": "stream",
     "text": [
      " 62%|██████▏   | 3883/6300 [15:06<09:33,  4.22it/s, curr_speed=38.95 Mbps, mb_sent=1394.77 Mb]COMET ERROR: File could not be uploaded\n",
      " 65%|██████▍   | 4086/6300 [15:55<09:38,  3.83it/s, curr_speed=39.31 Mbps, mb_sent=1474.12 Mb]COMET ERROR: File could not be uploaded\n",
      "100%|██████████| 6300/6300 [24:44<00:00,  4.24it/s, curr_speed=38.91 Mbps, mb_sent=2335.76 Mb]\n"
     ]
    },
    {
     "name": "stdout",
     "output_type": "stream",
     "text": [
      "Waiting for simulation script to connect on port: tcp://localhost:30233\n",
      "Please start proper ns-3 simulation script using ./waf --run \"...\"\n",
      "Sent 2335.76 Mb/s.\tMean speed: 38.93 Mb/s\tEpisode 14/15 finished\n",
      "\n",
      "14\n",
      "Turning off noise\n",
      "42.488525|0|5|-nan\n"
     ]
    },
    {
     "name": "stderr",
     "output_type": "stream",
     "text": [
      "100%|██████████| 6300/6300 [21:47<00:00,  4.82it/s, curr_speed=38.47 Mbps, mb_sent=2334.05 Mb]\n"
     ]
    },
    {
     "name": "stdout",
     "output_type": "stream",
     "text": [
      "Waiting for simulation script to connect on port: tcp://localhost:31841\n",
      "Please start proper ns-3 simulation script using ./waf --run \"...\"\n"
     ]
    },
    {
     "name": "stderr",
     "output_type": "stream",
     "text": [
      "COMET INFO: ----------------------------\n",
      "COMET INFO: Comet.ml Experiment Summary:\n",
      "COMET INFO:   Data:\n",
      "COMET INFO:     url: https://www.comet.com/sheila-janota/rl-in-wifi-with-queue-level/ae9a2a34e78b41e686d3209ce4c9de24\n",
      "COMET INFO:   Metrics [count] (min, max):\n",
      "COMET INFO:     Chosen CW [89985]           : (16.0, 1024.0)\n",
      "COMET INFO:     Cumulative reward [15]      : (2622.031982421875, 3268.459228515625)\n",
      "COMET INFO:     Current throughput [89985]  : (24.014301300048828, 50.34062957763672)\n",
      "COMET INFO:     Fairness index [89985]      : (0.9431179761886597, 0.9999489784240723)\n",
      "COMET INFO:     Megabytes sent [89985]      : (0.3350830078125, 2335.7630867660046)\n",
      "COMET INFO:     Observation 0 [89985]       : (0.7957833150774241, 0.8333333134651184)\n",
      "COMET INFO:     Observation 1 [89985]       : (0.0, 0.10244861200484812)\n",
      "COMET INFO:     Per-ep reward [89985]       : (132.365234375, 3268.459228515625)\n",
      "COMET INFO:     Round megabytes sent [89985]: (0.04467799887061119, 11.82843017578125)\n",
      "COMET INFO:     Round reward [89985]        : (0.0595703125, 0.62548828125)\n",
      "COMET INFO:     Speed [15]                  : (31.127162316503625, 38.92938477943341)\n",
      "COMET INFO:     Station count [89985]       : (5.0, 5.0)\n",
      "COMET INFO:     actor_loss [89985]          : (-1.7478148937225342, 0.0)\n",
      "COMET INFO:     critic_loss [89985]         : (0.0, 5.0918192863464355)\n",
      "COMET INFO:     loss [33578]                : (-1.7439254522323608, 0.5410321950912476)\n",
      "COMET INFO:   Uploads:\n",
      "COMET INFO:     histogram3d: 89985\n",
      "COMET INFO: ----------------------------\n",
      "COMET INFO: Uploading stats to Comet before program termination (may take several seconds)\n"
     ]
    },
    {
     "name": "stdout",
     "output_type": "stream",
     "text": [
      "Sent 2334.05 Mb/s.\tMean speed: 38.90 Mb/s\tEpisode 15/15 finished\n",
      "\n"
     ]
    },
    {
     "name": "stderr",
     "output_type": "stream",
     "text": [
      "COMET INFO: Waiting for completion of the file uploads (may take several seconds)\n",
      "COMET INFO: Still uploading\n",
      "COMET INFO: Still uploading\n",
      "COMET INFO: Still uploading\n",
      "COMET INFO: Still uploading\n",
      "COMET INFO: Still uploading\n",
      "COMET INFO: Still uploading\n",
      "COMET INFO: Still uploading\n",
      "COMET INFO: Still uploading\n",
      "COMET INFO: Still uploading\n",
      "COMET INFO: Still uploading\n",
      "COMET INFO: Still uploading\n",
      "COMET INFO: Still uploading\n",
      "COMET INFO: Still uploading\n",
      "COMET INFO: Still uploading\n",
      "COMET INFO: Still uploading\n",
      "COMET INFO: Still uploading\n",
      "COMET INFO: Still uploading\n",
      "COMET INFO: Still uploading\n",
      "COMET INFO: Still uploading\n",
      "COMET INFO: Still uploading\n",
      "COMET INFO: Still uploading\n",
      "COMET INFO: Still uploading\n",
      "COMET INFO: Still uploading\n",
      "COMET INFO: Still uploading\n",
      "COMET INFO: Still uploading\n",
      "COMET INFO: Still uploading\n",
      "COMET INFO: Still uploading\n",
      "COMET INFO: Still uploading\n",
      "COMET INFO: Still uploading\n",
      "COMET INFO: Still uploading\n",
      "COMET INFO: Still uploading\n",
      "COMET INFO: Still uploading\n",
      "COMET INFO: Still uploading\n",
      "COMET INFO: Still uploading\n",
      "COMET INFO: Still uploading\n",
      "COMET INFO: Still uploading\n",
      "COMET INFO: Still uploading\n",
      "COMET INFO: Still uploading\n",
      "COMET INFO: Still uploading\n",
      "COMET INFO: Still uploading\n",
      "COMET INFO: Still uploading\n",
      "COMET INFO: Still uploading\n",
      "COMET INFO: Still uploading\n",
      "COMET INFO: Still uploading\n",
      "COMET INFO: Still uploading\n",
      "COMET INFO: Still uploading\n",
      "COMET INFO: Still uploading\n",
      "COMET INFO: Still uploading\n",
      "COMET INFO: Still uploading\n",
      "COMET INFO: Still uploading\n",
      "COMET INFO: Still uploading\n",
      "COMET INFO: Still uploading\n",
      "COMET INFO: Still uploading\n",
      "COMET INFO: Still uploading\n",
      "COMET INFO: Still uploading\n",
      "COMET INFO: Still uploading\n",
      "COMET INFO: Still uploading\n",
      "COMET INFO: Still uploading\n",
      "COMET INFO: Still uploading\n",
      "COMET INFO: Still uploading\n",
      "COMET INFO: Still uploading\n",
      "COMET INFO: Still uploading\n",
      "COMET INFO: Still uploading\n",
      "COMET INFO: Still uploading\n",
      "COMET INFO: Still uploading\n",
      "COMET INFO: Still uploading\n",
      "COMET INFO: Still uploading\n",
      "COMET INFO: Still uploading\n",
      "COMET INFO: Still uploading\n",
      "COMET INFO: Still uploading\n",
      "COMET INFO: Still uploading\n",
      "COMET INFO: Still uploading\n",
      "COMET INFO: Still uploading\n",
      "COMET INFO: Still uploading\n",
      "COMET INFO: Still uploading\n",
      "COMET INFO: Still uploading\n",
      "COMET INFO: Still uploading\n",
      "COMET INFO: Still uploading\n",
      "COMET INFO: Still uploading\n",
      "COMET INFO: Still uploading\n",
      "COMET INFO: Still uploading\n",
      "COMET INFO: Still uploading\n",
      "COMET INFO: Still uploading\n",
      "COMET INFO: Still uploading\n",
      "COMET INFO: Still uploading\n",
      "COMET INFO: Still uploading\n",
      "COMET INFO: Still uploading\n",
      "COMET INFO: Still uploading\n",
      "COMET INFO: Still uploading\n",
      "COMET INFO: Still uploading\n",
      "COMET INFO: Still uploading\n",
      "COMET INFO: Still uploading\n",
      "COMET INFO: Still uploading\n",
      "COMET INFO: Still uploading\n",
      "COMET INFO: Still uploading\n",
      "COMET INFO: Still uploading\n",
      "COMET INFO: Still uploading\n",
      "COMET INFO: Still uploading\n",
      "COMET INFO: Still uploading\n",
      "COMET INFO: Still uploading\n",
      "COMET INFO: Still uploading\n",
      "COMET INFO: Still uploading\n",
      "COMET INFO: Still uploading\n",
      "COMET INFO: Still uploading\n",
      "COMET INFO: Still uploading\n",
      "COMET INFO: Still uploading\n",
      "COMET INFO: Still uploading\n",
      "COMET INFO: Still uploading\n",
      "COMET INFO: Still uploading\n",
      "COMET INFO: Still uploading\n",
      "COMET INFO: Still uploading\n",
      "COMET INFO: Still uploading\n",
      "COMET INFO: Still uploading\n",
      "COMET INFO: Still uploading\n",
      "COMET INFO: Still uploading\n",
      "COMET INFO: Still uploading\n",
      "COMET INFO: Still uploading\n",
      "COMET INFO: Still uploading\n",
      "COMET INFO: Still uploading\n",
      "COMET ERROR: Comet failed to send all the data back (0 messages and 4 uploads)\n",
      "COMET WARNING: Failed to log run in comet.ml\n"
     ]
    },
    {
     "name": "stdout",
     "output_type": "stream",
     "text": [
      "Training finished.\n"
     ]
    }
   ],
   "source": [
    "#%%\n",
    "teacher = Teacher(env, 1, Preprocessor(False))\n",
    "\n",
    "lr_actor = 4e-4\n",
    "lr_critic = 4e-3\n",
    "\n",
    "config = Config(buffer_size=4*steps_per_ep*threads_no, batch_size=32, gamma=0.7, tau=1e-3, lr_actor=lr_actor, lr_critic=lr_critic, update_every=1)\n",
    "agent = Agent(history_length, action_size=1, config=config, actor_layers=[8, 128, 16], critic_layers=[8,128,16])\n",
    "\n",
    "# Test the model\n",
    "hyperparams = {**config.__dict__, **sim_args}\n",
    "tags = [\"Rew: normalized speed\",\n",
    "        f\"{Agent.NAME}\",\n",
    "        sim_args['scenario'],\n",
    "        f\"Actor: {lr_actor}\",\n",
    "        f\"Critic: {lr_critic}\",\n",
    "        f\"Instances: {threads_no}\",\n",
    "        f\"Station count: {sim_args['nWifi']}\",\n",
    "        *[f\"{key}: {sim_args[key]}\" for key in list(sim_args)[:3]]]\n",
    "# agent.save()\n",
    "logger = teacher.train(agent, EPISODE_COUNT,\n",
    "                        simTime=simTime,\n",
    "                        stepTime=stepTime,\n",
    "                        history_length=history_length,\n",
    "                        send_logs=True,\n",
    "                        experimental=True,\n",
    "                        tags=tags,\n",
    "                        parameters=hyperparams)\n",
    "# logger = teacher.eval(agent,\n",
    "#                         simTime=simTime,\n",
    "#                         stepTime=stepTime,\n",
    "#                         history_length=history_length,\n",
    "#                         tags=tags,\n",
    "#                         parameters=hyperparams)\n",
    "# agent.save()"
   ]
  },
  {
   "cell_type": "code",
   "execution_count": null,
   "id": "3d6ba282",
   "metadata": {},
   "outputs": [],
   "source": []
  },
  {
   "cell_type": "markdown",
   "id": "13288b32",
   "metadata": {},
   "source": [
    "# Execution num4:"
   ]
  },
  {
   "cell_type": "code",
   "execution_count": 1,
   "id": "65a1137d",
   "metadata": {},
   "outputs": [],
   "source": [
    "\n",
    "#%%\n",
    "from ns3gym import ns3env\n",
    "from comet_ml import Experiment, Optimizer\n",
    "import tqdm\n",
    "import subprocess\n",
    "from collections import deque\n",
    "import numpy as np\n",
    "\n",
    "from agents.ddpg.agent import Agent, Config\n",
    "from agents.ddpg.model import Actor\n",
    "from agents.teacher import Teacher, EnvWrapper\n",
    "from preprocessor import Preprocessor"
   ]
  },
  {
   "cell_type": "code",
   "execution_count": 2,
   "id": "8b540b47",
   "metadata": {},
   "outputs": [
    {
     "name": "stdout",
     "output_type": "stream",
     "text": [
      "Steps per episode: 6000\n",
      "Waiting for simulation script to connect on port: tcp://localhost:46714\n",
      "Please start proper ns-3 simulation script using ./waf --run \"...\"\n",
      "42.488525|0|5|-nan\n",
      "Observation space shape: (1, 300)\n",
      "Action space shape: (1, 1)\n"
     ]
    }
   ],
   "source": [
    "#%%\n",
    "scenario = \"basic\"\n",
    "\n",
    "simTime = 60 # seconds\n",
    "stepTime = 0.01  # seconds\n",
    "history_length = 300\n",
    "\n",
    "EPISODE_COUNT = 15\n",
    "steps_per_ep = int(simTime/stepTime)\n",
    "\n",
    "sim_args = {\n",
    "    \"simTime\": simTime,\n",
    "    \"envStepTime\": stepTime,\n",
    "    \"historyLength\": history_length,\n",
    "    \"agentType\": Agent.TYPE,\n",
    "    \"scenario\": \"basic\",\n",
    "    \"nWifi\": 5,\n",
    "}\n",
    "\n",
    "print(\"Steps per episode:\", steps_per_ep)\n",
    "\n",
    "threads_no = 1\n",
    "env = EnvWrapper(threads_no, **sim_args)\n",
    "\n",
    "#%%\n",
    "env.reset()\n",
    "ob_space = env.observation_space\n",
    "ac_space = env.action_space\n",
    "\n",
    "print(\"Observation space shape:\", ob_space)\n",
    "print(\"Action space shape:\", ac_space)\n",
    "\n",
    "assert ob_space is not None"
   ]
  },
  {
   "cell_type": "code",
   "execution_count": 3,
   "id": "b210a27d",
   "metadata": {
    "scrolled": true
   },
   "outputs": [
    {
     "name": "stdout",
     "output_type": "stream",
     "text": [
      "CuDNN version: 7102\n",
      "cpu\n"
     ]
    },
    {
     "name": "stderr",
     "output_type": "stream",
     "text": [
      "COMET INFO: Experiment is live on comet.ml https://www.comet.com/sheila-janota/rl-in-wifi-with-queue-level/6564f045edac42ada7da98bc330ced27\n",
      "\n"
     ]
    },
    {
     "name": "stdout",
     "output_type": "stream",
     "text": [
      "0\n",
      "42.488525|0|5|-nan\n"
     ]
    },
    {
     "name": "stderr",
     "output_type": "stream",
     "text": [
      "  5%|▌         | 334/6300 [01:14<33:31,  2.97it/s, curr_speed=35.64 Mbps, mb_sent=11.76 Mb]"
     ]
    },
    {
     "name": "stdout",
     "output_type": "stream",
     "text": [
      "------- STARTED TRAINING -------\n"
     ]
    },
    {
     "name": "stderr",
     "output_type": "stream",
     "text": [
      " 37%|███▋      | 2305/6300 [10:25<14:34,  4.57it/s, curr_speed=25.30 Mbps, mb_sent=644.65 Mb]COMET ERROR: File could not be uploaded\n",
      "100%|██████████| 6300/6300 [25:52<00:00,  4.06it/s, curr_speed=31.65 Mbps, mb_sent=1904.86 Mb]\n"
     ]
    },
    {
     "name": "stdout",
     "output_type": "stream",
     "text": [
      "Waiting for simulation script to connect on port: tcp://localhost:52467\n",
      "Please start proper ns-3 simulation script using ./waf --run \"...\"\n",
      "Sent 1904.86 Mb/s.\tMean speed: 31.75 Mb/s\tEpisode 1/15 finished\n",
      "\n",
      "1\n",
      "42.488525|0|5|-nan\n"
     ]
    },
    {
     "name": "stderr",
     "output_type": "stream",
     "text": [
      "100%|██████████| 6300/6300 [25:51<00:00,  4.06it/s, curr_speed=30.57 Mbps, mb_sent=2008.33 Mb]\n"
     ]
    },
    {
     "name": "stdout",
     "output_type": "stream",
     "text": [
      "Waiting for simulation script to connect on port: tcp://localhost:38620\n",
      "Please start proper ns-3 simulation script using ./waf --run \"...\"\n",
      "Sent 2008.33 Mb/s.\tMean speed: 33.47 Mb/s\tEpisode 2/15 finished\n",
      "\n",
      "2\n",
      "42.488525|0|5|-nan\n"
     ]
    },
    {
     "name": "stderr",
     "output_type": "stream",
     "text": [
      " 61%|██████    | 3839/6300 [16:41<10:28,  3.92it/s, curr_speed=35.89 Mbps, mb_sent=1251.17 Mb]COMET ERROR: File could not be uploaded\n",
      "100%|██████████| 6300/6300 [27:57<00:00,  3.75it/s, curr_speed=40.57 Mbps, mb_sent=2126.20 Mb]\n"
     ]
    },
    {
     "name": "stdout",
     "output_type": "stream",
     "text": [
      "Waiting for simulation script to connect on port: tcp://localhost:38929\n",
      "Please start proper ns-3 simulation script using ./waf --run \"...\"\n",
      "Sent 2126.20 Mb/s.\tMean speed: 35.44 Mb/s\tEpisode 3/15 finished\n",
      "\n",
      "3\n",
      "42.488525|0|5|-nan\n"
     ]
    },
    {
     "name": "stderr",
     "output_type": "stream",
     "text": [
      "100%|██████████| 6300/6300 [27:49<00:00,  3.77it/s, curr_speed=36.54 Mbps, mb_sent=2193.45 Mb]\n"
     ]
    },
    {
     "name": "stdout",
     "output_type": "stream",
     "text": [
      "Waiting for simulation script to connect on port: tcp://localhost:18093\n",
      "Please start proper ns-3 simulation script using ./waf --run \"...\"\n",
      "Sent 2193.45 Mb/s.\tMean speed: 36.56 Mb/s\tEpisode 4/15 finished\n",
      "\n",
      "4\n",
      "42.488525|0|5|-nan\n"
     ]
    },
    {
     "name": "stderr",
     "output_type": "stream",
     "text": [
      "  5%|▍         | 305/6300 [00:57<20:06,  4.97it/s, curr_speed=37.98 Mbps, mb_sent=1.52 Mb]"
     ]
    },
    {
     "name": "stdout",
     "output_type": "stream",
     "text": [
      "------- MEMORY BUFFER FILLED -------\n"
     ]
    },
    {
     "name": "stderr",
     "output_type": "stream",
     "text": [
      "100%|██████████| 6300/6300 [28:12<00:00,  3.72it/s, curr_speed=36.23 Mbps, mb_sent=2250.60 Mb]\n"
     ]
    },
    {
     "name": "stdout",
     "output_type": "stream",
     "text": [
      "Waiting for simulation script to connect on port: tcp://localhost:22569\n",
      "Please start proper ns-3 simulation script using ./waf --run \"...\"\n",
      "Sent 2250.60 Mb/s.\tMean speed: 37.51 Mb/s\tEpisode 5/15 finished\n",
      "\n",
      "5\n",
      "42.488525|0|5|-nan\n"
     ]
    },
    {
     "name": "stderr",
     "output_type": "stream",
     "text": [
      " 85%|████████▍ | 5335/6300 [23:48<05:58,  2.69it/s, curr_speed=38.24 Mbps, mb_sent=1918.71 Mb]COMET ERROR: File could not be uploaded\n",
      "COMET ERROR: File could not be uploaded\n",
      "COMET ERROR: File could not be uploaded\n",
      "COMET ERROR: File could not be uploaded\n",
      "COMET ERROR: File could not be uploaded\n",
      "COMET ERROR: File could not be uploaded\n",
      "COMET ERROR: File could not be uploaded\n",
      "COMET ERROR: File could not be uploaded\n",
      " 85%|████████▍ | 5336/6300 [23:49<06:20,  2.53it/s, curr_speed=38.22 Mbps, mb_sent=1919.07 Mb]COMET ERROR: File could not be uploaded\n",
      " 85%|████████▍ | 5337/6300 [23:49<05:33,  2.89it/s, curr_speed=38.23 Mbps, mb_sent=1919.44 Mb]COMET ERROR: File could not be uploaded\n",
      " 85%|████████▍ | 5338/6300 [23:49<04:56,  3.25it/s, curr_speed=38.27 Mbps, mb_sent=1919.85 Mb]COMET ERROR: File could not be uploaded\n",
      " 85%|████████▍ | 5339/6300 [23:49<04:36,  3.47it/s, curr_speed=38.31 Mbps, mb_sent=1920.25 Mb]COMET ERROR: File could not be uploaded\n",
      " 85%|████████▍ | 5340/6300 [23:50<04:56,  3.24it/s, curr_speed=38.33 Mbps, mb_sent=1920.65 Mb]COMET ERROR: File could not be uploaded\n",
      " 85%|████████▍ | 5341/6300 [23:50<04:41,  3.41it/s, curr_speed=38.34 Mbps, mb_sent=1921.03 Mb]COMET ERROR: File could not be uploaded\n",
      " 85%|████████▍ | 5342/6300 [23:50<04:19,  3.70it/s, curr_speed=38.33 Mbps, mb_sent=1921.39 Mb]COMET ERROR: File could not be uploaded\n",
      "100%|██████████| 6300/6300 [28:35<00:00,  3.67it/s, curr_speed=38.47 Mbps, mb_sent=2288.61 Mb]\n"
     ]
    },
    {
     "name": "stdout",
     "output_type": "stream",
     "text": [
      "Waiting for simulation script to connect on port: tcp://localhost:17838\n",
      "Please start proper ns-3 simulation script using ./waf --run \"...\"\n",
      "Sent 2288.61 Mb/s.\tMean speed: 38.14 Mb/s\tEpisode 6/15 finished\n",
      "\n",
      "6\n",
      "42.488525|0|5|-nan\n"
     ]
    },
    {
     "name": "stderr",
     "output_type": "stream",
     "text": [
      " 29%|██▉       | 1849/6300 [07:48<17:12,  4.31it/s, curr_speed=38.46 Mbps, mb_sent=596.70 Mb]COMET ERROR: File could not be uploaded\n",
      " 29%|██▉       | 1850/6300 [07:48<16:40,  4.45it/s, curr_speed=38.47 Mbps, mb_sent=597.08 Mb]COMET ERROR: File could not be uploaded\n",
      " 29%|██▉       | 1851/6300 [07:48<16:18,  4.55it/s, curr_speed=38.41 Mbps, mb_sent=597.43 Mb]COMET ERROR: File could not be uploaded\n",
      " 29%|██▉       | 1852/6300 [07:49<16:33,  4.48it/s, curr_speed=38.42 Mbps, mb_sent=597.86 Mb]COMET ERROR: File could not be uploaded\n",
      " 29%|██▉       | 1853/6300 [07:49<16:21,  4.53it/s, curr_speed=38.41 Mbps, mb_sent=598.22 Mb]COMET ERROR: File could not be uploaded\n",
      " 29%|██▉       | 1854/6300 [07:49<15:59,  4.63it/s, curr_speed=38.46 Mbps, mb_sent=598.61 Mb]COMET ERROR: File could not be uploaded\n",
      " 29%|██▉       | 1855/6300 [07:49<16:06,  4.60it/s, curr_speed=38.45 Mbps, mb_sent=598.98 Mb]COMET ERROR: File could not be uploaded\n",
      " 29%|██▉       | 1856/6300 [07:50<15:58,  4.63it/s, curr_speed=38.40 Mbps, mb_sent=599.34 Mb]COMET ERROR: File could not be uploaded\n",
      " 30%|██▉       | 1875/6300 [07:54<16:01,  4.60it/s, curr_speed=38.67 Mbps, mb_sent=606.85 Mb]COMET ERROR: File could not be uploaded\n",
      "100%|██████████| 6300/6300 [26:57<00:00,  3.90it/s, curr_speed=38.17 Mbps, mb_sent=2309.83 Mb]\n"
     ]
    },
    {
     "name": "stdout",
     "output_type": "stream",
     "text": [
      "Waiting for simulation script to connect on port: tcp://localhost:43051\n",
      "Please start proper ns-3 simulation script using ./waf --run \"...\"\n",
      "Sent 2309.83 Mb/s.\tMean speed: 38.50 Mb/s\tEpisode 7/15 finished\n",
      "\n",
      "7\n",
      "42.488525|0|5|-nan\n"
     ]
    },
    {
     "name": "stderr",
     "output_type": "stream",
     "text": [
      "100%|██████████| 6300/6300 [24:50<00:00,  4.23it/s, curr_speed=38.70 Mbps, mb_sent=2307.05 Mb]\n"
     ]
    },
    {
     "name": "stdout",
     "output_type": "stream",
     "text": [
      "Waiting for simulation script to connect on port: tcp://localhost:44885\n",
      "Please start proper ns-3 simulation script using ./waf --run \"...\"\n",
      "Sent 2307.05 Mb/s.\tMean speed: 38.45 Mb/s\tEpisode 8/15 finished\n",
      "\n",
      "8\n",
      "42.488525|0|5|-nan\n"
     ]
    },
    {
     "name": "stderr",
     "output_type": "stream",
     "text": [
      " 22%|██▏       | 1368/6300 [05:09<16:27,  4.99it/s, curr_speed=38.36 Mbps, mb_sent=410.21 Mb]  COMET ERROR: File could not be uploaded\n",
      " 22%|██▏       | 1373/6300 [05:10<16:18,  5.03it/s, curr_speed=38.30 Mbps, mb_sent=412.07 Mb]COMET ERROR: File could not be uploaded\n",
      " 22%|██▏       | 1376/6300 [05:10<16:41,  4.92it/s, curr_speed=38.32 Mbps, mb_sent=413.22 Mb]COMET ERROR: File could not be uploaded\n",
      " 22%|██▏       | 1380/6300 [05:11<17:34,  4.66it/s, curr_speed=38.19 Mbps, mb_sent=414.65 Mb]COMET ERROR: File could not be uploaded\n",
      " 22%|██▏       | 1383/6300 [05:12<17:00,  4.82it/s, curr_speed=38.20 Mbps, mb_sent=415.77 Mb]COMET ERROR: File could not be uploaded\n",
      "COMET ERROR: File could not be uploaded\n",
      " 22%|██▏       | 1386/6300 [05:12<16:37,  4.93it/s, curr_speed=38.18 Mbps, mb_sent=416.97 Mb]COMET ERROR: File could not be uploaded\n",
      " 22%|██▏       | 1388/6300 [05:13<17:17,  4.73it/s, curr_speed=38.21 Mbps, mb_sent=417.78 Mb]COMET ERROR: File could not be uploaded\n",
      " 22%|██▏       | 1390/6300 [05:13<17:35,  4.65it/s, curr_speed=38.17 Mbps, mb_sent=418.52 Mb]COMET ERROR: File could not be uploaded\n",
      " 22%|██▏       | 1411/6300 [05:17<16:18,  5.00it/s, curr_speed=38.30 Mbps, mb_sent=426.71 Mb]COMET ERROR: File could not be uploaded\n",
      " 23%|██▎       | 1437/6300 [05:23<18:04,  4.49it/s, curr_speed=38.29 Mbps, mb_sent=436.53 Mb]COMET ERROR: File could not be uploaded\n",
      "100%|██████████| 6300/6300 [24:38<00:00,  4.26it/s, curr_speed=38.72 Mbps, mb_sent=2313.13 Mb] \n"
     ]
    },
    {
     "name": "stdout",
     "output_type": "stream",
     "text": [
      "Waiting for simulation script to connect on port: tcp://localhost:30571\n",
      "Please start proper ns-3 simulation script using ./waf --run \"...\"\n",
      "Sent 2313.13 Mb/s.\tMean speed: 38.55 Mb/s\tEpisode 9/15 finished\n",
      "\n",
      "9\n",
      "42.488525|0|5|-nan\n"
     ]
    },
    {
     "name": "stderr",
     "output_type": "stream",
     "text": [
      "100%|██████████| 6300/6300 [24:17<00:00,  4.32it/s, curr_speed=38.60 Mbps, mb_sent=2322.76 Mb]\n"
     ]
    },
    {
     "name": "stdout",
     "output_type": "stream",
     "text": [
      "Waiting for simulation script to connect on port: tcp://localhost:20199\n",
      "Please start proper ns-3 simulation script using ./waf --run \"...\"\n",
      "Sent 2322.76 Mb/s.\tMean speed: 38.71 Mb/s\tEpisode 10/15 finished\n",
      "\n",
      "10\n",
      "42.488525|0|5|-nan\n"
     ]
    },
    {
     "name": "stderr",
     "output_type": "stream",
     "text": [
      "100%|██████████| 6300/6300 [24:28<00:00,  4.29it/s, curr_speed=39.10 Mbps, mb_sent=2331.46 Mb]\n"
     ]
    },
    {
     "name": "stdout",
     "output_type": "stream",
     "text": [
      "Waiting for simulation script to connect on port: tcp://localhost:49424\n",
      "Please start proper ns-3 simulation script using ./waf --run \"...\"\n",
      "Sent 2331.46 Mb/s.\tMean speed: 38.86 Mb/s\tEpisode 11/15 finished\n",
      "\n",
      "11\n",
      "42.488525|0|5|-nan\n"
     ]
    },
    {
     "name": "stderr",
     "output_type": "stream",
     "text": [
      " 46%|████▌     | 2887/6300 [11:03<13:34,  4.19it/s, curr_speed=38.52 Mbps, mb_sent=1005.27 Mb]COMET ERROR: File could not be uploaded\n",
      " 46%|████▌     | 2888/6300 [11:03<13:33,  4.19it/s, curr_speed=38.53 Mbps, mb_sent=1005.66 Mb]COMET ERROR: File could not be uploaded\n",
      " 46%|████▌     | 2889/6300 [11:04<13:38,  4.16it/s, curr_speed=38.49 Mbps, mb_sent=1006.02 Mb]COMET ERROR: File could not be uploaded\n",
      "COMET ERROR: File could not be uploaded\n",
      " 46%|████▌     | 2893/6300 [11:06<21:46,  2.61it/s, curr_speed=38.43 Mbps, mb_sent=1007.99 Mb]COMET ERROR: File could not be uploaded\n",
      " 86%|████████▋ | 5441/6300 [21:08<03:24,  4.20it/s, curr_speed=39.16 Mbps, mb_sent=1998.79 Mb]COMET ERROR: File could not be uploaded\n",
      "COMET ERROR: File could not be uploaded\n",
      "100%|██████████| 6300/6300 [24:31<00:00,  4.28it/s, curr_speed=38.70 Mbps, mb_sent=2333.72 Mb]\n"
     ]
    },
    {
     "name": "stdout",
     "output_type": "stream",
     "text": [
      "Waiting for simulation script to connect on port: tcp://localhost:42162\n",
      "Please start proper ns-3 simulation script using ./waf --run \"...\"\n",
      "Sent 2333.72 Mb/s.\tMean speed: 38.90 Mb/s\tEpisode 12/15 finished\n",
      "\n",
      "12\n",
      "Turning off noise\n",
      "42.488525|0|5|-nan\n"
     ]
    },
    {
     "name": "stderr",
     "output_type": "stream",
     "text": [
      "100%|██████████| 6300/6300 [24:14<00:00,  4.33it/s, curr_speed=38.76 Mbps, mb_sent=2331.72 Mb]\n"
     ]
    },
    {
     "name": "stdout",
     "output_type": "stream",
     "text": [
      "Waiting for simulation script to connect on port: tcp://localhost:36521\n",
      "Please start proper ns-3 simulation script using ./waf --run \"...\"\n",
      "Sent 2331.72 Mb/s.\tMean speed: 38.86 Mb/s\tEpisode 13/15 finished\n",
      "\n",
      "13\n",
      "Turning off noise\n",
      "42.488525|0|5|-nan\n"
     ]
    },
    {
     "name": "stderr",
     "output_type": "stream",
     "text": [
      "100%|██████████| 6300/6300 [24:24<00:00,  4.30it/s, curr_speed=38.70 Mbps, mb_sent=2331.79 Mb]\n"
     ]
    },
    {
     "name": "stdout",
     "output_type": "stream",
     "text": [
      "Waiting for simulation script to connect on port: tcp://localhost:14462\n",
      "Please start proper ns-3 simulation script using ./waf --run \"...\"\n",
      "Sent 2331.79 Mb/s.\tMean speed: 38.86 Mb/s\tEpisode 14/15 finished\n",
      "\n",
      "14\n",
      "Turning off noise\n",
      "42.488525|0|5|-nan\n"
     ]
    },
    {
     "name": "stderr",
     "output_type": "stream",
     "text": [
      "100%|██████████| 6300/6300 [21:43<00:00,  4.83it/s, curr_speed=38.97 Mbps, mb_sent=2331.86 Mb]\n"
     ]
    },
    {
     "name": "stdout",
     "output_type": "stream",
     "text": [
      "Waiting for simulation script to connect on port: tcp://localhost:36219\n",
      "Please start proper ns-3 simulation script using ./waf --run \"...\"\n"
     ]
    },
    {
     "name": "stderr",
     "output_type": "stream",
     "text": [
      "COMET INFO: ----------------------------\n",
      "COMET INFO: Comet.ml Experiment Summary:\n",
      "COMET INFO:   Data:\n",
      "COMET INFO:     url: https://www.comet.com/sheila-janota/rl-in-wifi-with-queue-level/6564f045edac42ada7da98bc330ced27\n",
      "COMET INFO:   Metrics [count] (min, max):\n",
      "COMET INFO:     Chosen CW [89985]           : (16.0, 1024.0)\n",
      "COMET INFO:     Cumulative reward [15]      : (2637.847900390625, 3266.046630859375)\n",
      "COMET INFO:     Current throughput [89985]  : (15.637200355529785, 51.234188079833984)\n",
      "COMET INFO:     Fairness index [89985]      : (0.9442200064659119, 0.9999459981918335)\n",
      "COMET INFO:     Megabytes sent [89985]      : (0.15637199580669403, 2333.719099998474)\n",
      "COMET INFO:     Observation 0 [89985]       : (0.795633314922452, 0.8333333134651184)\n",
      "COMET INFO:     Observation 1 [89985]       : (0.0, 0.10252797200879143)\n",
      "COMET INFO:     Per-ep reward [89985]       : (129.342041015625, 3266.046630859375)\n",
      "COMET INFO:     Round megabytes sent [89985]: (0.01116899959743023, 11.87310791015625)\n",
      "COMET INFO:     Round reward [89985]        : (0.014892578125, 0.62548828125)\n",
      "COMET INFO:     Speed [15]                  : (31.747625118059418, 38.895318333307905)\n",
      "COMET INFO:     Station count [89985]       : (5.0, 5.0)\n",
      "COMET INFO:     actor_loss [89985]          : (-1.7308437824249268, 0.0)\n",
      "COMET INFO:     critic_loss [89985]         : (0.0, 6.566800594329834)\n",
      "COMET INFO:     loss [33578]                : (-1.729736089706421, 0.6268873810768127)\n",
      "COMET INFO:   Uploads:\n",
      "COMET INFO:     histogram3d: 89985\n",
      "COMET INFO: ----------------------------\n",
      "COMET INFO: Uploading stats to Comet before program termination (may take several seconds)\n"
     ]
    },
    {
     "name": "stdout",
     "output_type": "stream",
     "text": [
      "Sent 2331.86 Mb/s.\tMean speed: 38.86 Mb/s\tEpisode 15/15 finished\n",
      "\n",
      "Training finished.\n"
     ]
    }
   ],
   "source": [
    "#%%\n",
    "teacher = Teacher(env, 1, Preprocessor(False))\n",
    "\n",
    "lr_actor = 4e-4\n",
    "lr_critic = 4e-3\n",
    "\n",
    "config = Config(buffer_size=4*steps_per_ep*threads_no, batch_size=32, gamma=0.7, tau=1e-3, lr_actor=lr_actor, lr_critic=lr_critic, update_every=1)\n",
    "agent = Agent(history_length, action_size=1, config=config, actor_layers=[8, 128, 16], critic_layers=[8,128,16])\n",
    "\n",
    "# Test the model\n",
    "hyperparams = {**config.__dict__, **sim_args}\n",
    "tags = [\"Rew: normalized speed\",\n",
    "        f\"{Agent.NAME}\",\n",
    "        sim_args['scenario'],\n",
    "        f\"Actor: {lr_actor}\",\n",
    "        f\"Critic: {lr_critic}\",\n",
    "        f\"Instances: {threads_no}\",\n",
    "        f\"Station count: {sim_args['nWifi']}\",\n",
    "        *[f\"{key}: {sim_args[key]}\" for key in list(sim_args)[:3]]]\n",
    "# agent.save()\n",
    "logger = teacher.train(agent, EPISODE_COUNT,\n",
    "                        simTime=simTime,\n",
    "                        stepTime=stepTime,\n",
    "                        history_length=history_length,\n",
    "                        send_logs=True,\n",
    "                        experimental=True,\n",
    "                        tags=tags,\n",
    "                        parameters=hyperparams)\n",
    "# logger = teacher.eval(agent,\n",
    "#                         simTime=simTime,\n",
    "#                         stepTime=stepTime,\n",
    "#                         history_length=history_length,\n",
    "#                         tags=tags,\n",
    "#                         parameters=hyperparams)\n",
    "# agent.save()"
   ]
  },
  {
   "cell_type": "code",
   "execution_count": null,
   "id": "a0725431",
   "metadata": {},
   "outputs": [],
   "source": []
  }
 ],
 "metadata": {
  "kernelspec": {
   "display_name": "Python 3 (ipykernel)",
   "language": "python",
   "name": "python3"
  },
  "language_info": {
   "codemirror_mode": {
    "name": "ipython",
    "version": 3
   },
   "file_extension": ".py",
   "mimetype": "text/x-python",
   "name": "python",
   "nbconvert_exporter": "python",
   "pygments_lexer": "ipython3",
   "version": "3.7.10"
  }
 },
 "nbformat": 4,
 "nbformat_minor": 5
}
