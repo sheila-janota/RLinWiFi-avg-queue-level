{
 "cells": [
  {
   "cell_type": "markdown",
   "id": "daabef47",
   "metadata": {},
   "source": [
    "# Execution num1: "
   ]
  },
  {
   "cell_type": "code",
   "execution_count": 1,
   "id": "11e0cb60",
   "metadata": {},
   "outputs": [
    {
     "name": "stderr",
     "output_type": "stream",
     "text": [
      "/home/samuel/anaconda3/envs/myEnv3_7/lib/python3.7/site-packages/tensorflow/python/framework/dtypes.py:516: FutureWarning: Passing (type, 1) or '1type' as a synonym of type is deprecated; in a future version of numpy, it will be understood as (type, (1,)) / '(1,)type'.\n",
      "  _np_qint8 = np.dtype([(\"qint8\", np.int8, 1)])\n",
      "/home/samuel/anaconda3/envs/myEnv3_7/lib/python3.7/site-packages/tensorflow/python/framework/dtypes.py:517: FutureWarning: Passing (type, 1) or '1type' as a synonym of type is deprecated; in a future version of numpy, it will be understood as (type, (1,)) / '(1,)type'.\n",
      "  _np_quint8 = np.dtype([(\"quint8\", np.uint8, 1)])\n",
      "/home/samuel/anaconda3/envs/myEnv3_7/lib/python3.7/site-packages/tensorflow/python/framework/dtypes.py:518: FutureWarning: Passing (type, 1) or '1type' as a synonym of type is deprecated; in a future version of numpy, it will be understood as (type, (1,)) / '(1,)type'.\n",
      "  _np_qint16 = np.dtype([(\"qint16\", np.int16, 1)])\n",
      "/home/samuel/anaconda3/envs/myEnv3_7/lib/python3.7/site-packages/tensorflow/python/framework/dtypes.py:519: FutureWarning: Passing (type, 1) or '1type' as a synonym of type is deprecated; in a future version of numpy, it will be understood as (type, (1,)) / '(1,)type'.\n",
      "  _np_quint16 = np.dtype([(\"quint16\", np.uint16, 1)])\n",
      "/home/samuel/anaconda3/envs/myEnv3_7/lib/python3.7/site-packages/tensorflow/python/framework/dtypes.py:520: FutureWarning: Passing (type, 1) or '1type' as a synonym of type is deprecated; in a future version of numpy, it will be understood as (type, (1,)) / '(1,)type'.\n",
      "  _np_qint32 = np.dtype([(\"qint32\", np.int32, 1)])\n",
      "/home/samuel/anaconda3/envs/myEnv3_7/lib/python3.7/site-packages/tensorflow/python/framework/dtypes.py:525: FutureWarning: Passing (type, 1) or '1type' as a synonym of type is deprecated; in a future version of numpy, it will be understood as (type, (1,)) / '(1,)type'.\n",
      "  np_resource = np.dtype([(\"resource\", np.ubyte, 1)])\n",
      "/home/samuel/anaconda3/envs/myEnv3_7/lib/python3.7/site-packages/tensorboard/compat/tensorflow_stub/dtypes.py:541: FutureWarning: Passing (type, 1) or '1type' as a synonym of type is deprecated; in a future version of numpy, it will be understood as (type, (1,)) / '(1,)type'.\n",
      "  _np_qint8 = np.dtype([(\"qint8\", np.int8, 1)])\n",
      "/home/samuel/anaconda3/envs/myEnv3_7/lib/python3.7/site-packages/tensorboard/compat/tensorflow_stub/dtypes.py:542: FutureWarning: Passing (type, 1) or '1type' as a synonym of type is deprecated; in a future version of numpy, it will be understood as (type, (1,)) / '(1,)type'.\n",
      "  _np_quint8 = np.dtype([(\"quint8\", np.uint8, 1)])\n",
      "/home/samuel/anaconda3/envs/myEnv3_7/lib/python3.7/site-packages/tensorboard/compat/tensorflow_stub/dtypes.py:543: FutureWarning: Passing (type, 1) or '1type' as a synonym of type is deprecated; in a future version of numpy, it will be understood as (type, (1,)) / '(1,)type'.\n",
      "  _np_qint16 = np.dtype([(\"qint16\", np.int16, 1)])\n",
      "/home/samuel/anaconda3/envs/myEnv3_7/lib/python3.7/site-packages/tensorboard/compat/tensorflow_stub/dtypes.py:544: FutureWarning: Passing (type, 1) or '1type' as a synonym of type is deprecated; in a future version of numpy, it will be understood as (type, (1,)) / '(1,)type'.\n",
      "  _np_quint16 = np.dtype([(\"quint16\", np.uint16, 1)])\n",
      "/home/samuel/anaconda3/envs/myEnv3_7/lib/python3.7/site-packages/tensorboard/compat/tensorflow_stub/dtypes.py:545: FutureWarning: Passing (type, 1) or '1type' as a synonym of type is deprecated; in a future version of numpy, it will be understood as (type, (1,)) / '(1,)type'.\n",
      "  _np_qint32 = np.dtype([(\"qint32\", np.int32, 1)])\n",
      "/home/samuel/anaconda3/envs/myEnv3_7/lib/python3.7/site-packages/tensorboard/compat/tensorflow_stub/dtypes.py:550: FutureWarning: Passing (type, 1) or '1type' as a synonym of type is deprecated; in a future version of numpy, it will be understood as (type, (1,)) / '(1,)type'.\n",
      "  np_resource = np.dtype([(\"resource\", np.ubyte, 1)])\n"
     ]
    }
   ],
   "source": [
    "#%%\n",
    "from ns3gym import ns3env\n",
    "from comet_ml import Experiment, Optimizer\n",
    "import tqdm\n",
    "import subprocess\n",
    "from collections import deque\n",
    "import numpy as np\n",
    "\n",
    "from agents.dqn.agent import Agent, Config\n",
    "from agents.dqn.model import QNetworkTf\n",
    "from agents.teacher import Teacher, EnvWrapper\n",
    "from preprocessor import Preprocessor"
   ]
  },
  {
   "cell_type": "code",
   "execution_count": 2,
   "id": "42c5e35d",
   "metadata": {},
   "outputs": [
    {
     "name": "stdout",
     "output_type": "stream",
     "text": [
      "Steps per episode: 6000\n",
      "Waiting for simulation script to connect on port: tcp://localhost:35693\n",
      "Please start proper ns-3 simulation script using ./waf --run \"...\"\n",
      "Waf: Entering directory `/home/samuel/ns-allinone-3.29/ns-3.29/build'\n",
      "Waf: Leaving directory `/home/samuel/ns-allinone-3.29/ns-3.29/build'\n",
      "Build commands will be stored in build/compile_commands.json\n",
      "'build' finished successfully (3.718s)\n"
     ]
    },
    {
     "name": "stderr",
     "output_type": "stream",
     "text": [
      "Ns3Env parameters:\n",
      "--nWifi: 5\n",
      "--simulationTime: 60\n",
      "--openGymPort: 35693\n",
      "--envStepTime: 0.01\n",
      "--seed: 42\n",
      "--agentType: discrete\n",
      "--scenario: basic\n",
      "--dryRun: 0\n",
      "Simulation started\n"
     ]
    },
    {
     "name": "stdout",
     "output_type": "stream",
     "text": [
      "Observation space shape: (1, 300)\n",
      "Action space shape: (1, 1)\n"
     ]
    },
    {
     "name": "stderr",
     "output_type": "stream",
     "text": [
      "Simulation process id: 621855 (parent (waf shell) id: 621822)\n",
      "Waiting for Python process to connect on port: tcp://localhost:35693\n",
      "Please start proper Python Gym Agent\n"
     ]
    }
   ],
   "source": [
    "#%%\n",
    "scenario = \"basic\"\n",
    "\n",
    "simTime = 60 # seconds\n",
    "stepTime = 0.01  # seconds\n",
    "history_length = 300\n",
    "\n",
    "EPISODE_COUNT = 15\n",
    "steps_per_ep = int(simTime/stepTime)\n",
    "\n",
    "sim_args = {\n",
    "    \"simTime\": simTime,\n",
    "    \"envStepTime\": stepTime,\n",
    "    \"historyLength\": history_length,\n",
    "    \"agentType\": Agent.TYPE,\n",
    "    \"scenario\": \"basic\",\n",
    "    \"nWifi\": 5,\n",
    "}\n",
    "\n",
    "print(\"Steps per episode:\", steps_per_ep)\n",
    "\n",
    "threads_no = 1\n",
    "env = EnvWrapper(threads_no, **sim_args)\n",
    "\n",
    "#%%\n",
    "env.reset()\n",
    "ob_space = env.observation_space\n",
    "ac_space = env.action_space\n",
    "\n",
    "print(\"Observation space shape:\", ob_space)\n",
    "print(\"Action space shape:\", ac_space)\n",
    "\n",
    "assert ob_space is not None"
   ]
  },
  {
   "cell_type": "code",
   "execution_count": 3,
   "id": "e2c1d026",
   "metadata": {
    "scrolled": true
   },
   "outputs": [
    {
     "name": "stdout",
     "output_type": "stream",
     "text": [
      "WARNING:tensorflow:From /home/samuel/ns-allinone-3.29/ns-3.29/scratch/RLinWiFi-master-original-queue-level-mean/agents/dqn/agent.py:53: The name tf.Session is deprecated. Please use tf.compat.v1.Session instead.\n",
      "\n",
      "WARNING:tensorflow:From /home/samuel/ns-allinone-3.29/ns-3.29/scratch/RLinWiFi-master-original-queue-level-mean/agents/dqn/model.py:25: The name tf.variable_scope is deprecated. Please use tf.compat.v1.variable_scope instead.\n",
      "\n",
      "WARNING:tensorflow:From /home/samuel/ns-allinone-3.29/ns-3.29/scratch/RLinWiFi-master-original-queue-level-mean/agents/dqn/model.py:26: The name tf.placeholder is deprecated. Please use tf.compat.v1.placeholder instead.\n",
      "\n"
     ]
    },
    {
     "name": "stderr",
     "output_type": "stream",
     "text": [
      "2023-02-13 08:07:43.053866: I tensorflow/core/platform/cpu_feature_guard.cc:142] Your CPU supports instructions that this TensorFlow binary was not compiled to use: AVX2 FMA\n",
      "2023-02-13 08:07:43.079982: I tensorflow/core/platform/profile_utils/cpu_utils.cc:94] CPU Frequency: 3491795000 Hz\n",
      "2023-02-13 08:07:43.080761: I tensorflow/compiler/xla/service/service.cc:168] XLA service 0x55fd2ba5a690 executing computations on platform Host. Devices:\n",
      "2023-02-13 08:07:43.080794: I tensorflow/compiler/xla/service/service.cc:175]   StreamExecutor device (0): <undefined>, <undefined>\n"
     ]
    },
    {
     "name": "stdout",
     "output_type": "stream",
     "text": [
      "WARNING:tensorflow:\n",
      "The TensorFlow contrib module will not be included in TensorFlow 2.0.\n",
      "For more information, please see:\n",
      "  * https://github.com/tensorflow/community/blob/master/rfcs/20180907-contrib-sunset.md\n",
      "  * https://github.com/tensorflow/addons\n",
      "  * https://github.com/tensorflow/io (for I/O related ops)\n",
      "If you depend on functionality not listed there, please file an issue.\n",
      "\n",
      "WARNING:tensorflow:From /home/samuel/ns-allinone-3.29/ns-3.29/scratch/RLinWiFi-master-original-queue-level-mean/agents/dqn/model.py:52: LSTMCell.__init__ (from tensorflow.python.ops.rnn_cell_impl) is deprecated and will be removed in a future version.\n",
      "Instructions for updating:\n",
      "This class is equivalent as tf.keras.layers.LSTMCell, and will be replaced by that in Tensorflow 2.0.\n",
      "WARNING:tensorflow:From /home/samuel/ns-allinone-3.29/ns-3.29/scratch/RLinWiFi-master-original-queue-level-mean/agents/dqn/model.py:52: static_rnn (from tensorflow.python.ops.rnn) is deprecated and will be removed in a future version.\n",
      "Instructions for updating:\n",
      "Please use `keras.layers.RNN(cell, unroll=True)`, which is equivalent to this API\n",
      "WARNING:tensorflow:From /home/samuel/anaconda3/envs/myEnv3_7/lib/python3.7/site-packages/tensorflow/python/ops/init_ops.py:1251: calling VarianceScaling.__init__ (from tensorflow.python.ops.init_ops) with dtype is deprecated and will be removed in a future version.\n",
      "Instructions for updating:\n",
      "Call initializer instance with the dtype argument instead of passing it to the constructor\n",
      "WARNING:tensorflow:From /home/samuel/anaconda3/envs/myEnv3_7/lib/python3.7/site-packages/tensorflow/python/ops/rnn_cell_impl.py:961: calling Zeros.__init__ (from tensorflow.python.ops.init_ops) with dtype is deprecated and will be removed in a future version.\n",
      "Instructions for updating:\n",
      "Call initializer instance with the dtype argument instead of passing it to the constructor\n",
      "WARNING:tensorflow:Entity <bound method LSTMCell.call of <tensorflow.python.ops.rnn_cell_impl.LSTMCell object at 0x7fd556bb8c90>> could not be transformed and will be executed as-is. Please report this to the AutgoGraph team. When filing the bug, set the verbosity to 10 (on Linux, `export AUTOGRAPH_VERBOSITY=10`) and attach the full output. Cause: converting <bound method LSTMCell.call of <tensorflow.python.ops.rnn_cell_impl.LSTMCell object at 0x7fd556bb8c90>>: AttributeError: module 'gast' has no attribute 'Index'\n",
      "WARNING: Entity <bound method LSTMCell.call of <tensorflow.python.ops.rnn_cell_impl.LSTMCell object at 0x7fd556bb8c90>> could not be transformed and will be executed as-is. Please report this to the AutgoGraph team. When filing the bug, set the verbosity to 10 (on Linux, `export AUTOGRAPH_VERBOSITY=10`) and attach the full output. Cause: converting <bound method LSTMCell.call of <tensorflow.python.ops.rnn_cell_impl.LSTMCell object at 0x7fd556bb8c90>>: AttributeError: module 'gast' has no attribute 'Index'\n",
      "WARNING:tensorflow:Entity <bound method LSTMCell.call of <tensorflow.python.ops.rnn_cell_impl.LSTMCell object at 0x7fd556bb8c90>> could not be transformed and will be executed as-is. Please report this to the AutgoGraph team. When filing the bug, set the verbosity to 10 (on Linux, `export AUTOGRAPH_VERBOSITY=10`) and attach the full output. Cause: converting <bound method LSTMCell.call of <tensorflow.python.ops.rnn_cell_impl.LSTMCell object at 0x7fd556bb8c90>>: AttributeError: module 'gast' has no attribute 'Index'\n",
      "WARNING: Entity <bound method LSTMCell.call of <tensorflow.python.ops.rnn_cell_impl.LSTMCell object at 0x7fd556bb8c90>> could not be transformed and will be executed as-is. Please report this to the AutgoGraph team. When filing the bug, set the verbosity to 10 (on Linux, `export AUTOGRAPH_VERBOSITY=10`) and attach the full output. Cause: converting <bound method LSTMCell.call of <tensorflow.python.ops.rnn_cell_impl.LSTMCell object at 0x7fd556bb8c90>>: AttributeError: module 'gast' has no attribute 'Index'\n",
      "WARNING:tensorflow:Entity <bound method LSTMCell.call of <tensorflow.python.ops.rnn_cell_impl.LSTMCell object at 0x7fd556bb8c90>> could not be transformed and will be executed as-is. Please report this to the AutgoGraph team. When filing the bug, set the verbosity to 10 (on Linux, `export AUTOGRAPH_VERBOSITY=10`) and attach the full output. Cause: converting <bound method LSTMCell.call of <tensorflow.python.ops.rnn_cell_impl.LSTMCell object at 0x7fd556bb8c90>>: AttributeError: module 'gast' has no attribute 'Index'\n",
      "WARNING: Entity <bound method LSTMCell.call of <tensorflow.python.ops.rnn_cell_impl.LSTMCell object at 0x7fd556bb8c90>> could not be transformed and will be executed as-is. Please report this to the AutgoGraph team. When filing the bug, set the verbosity to 10 (on Linux, `export AUTOGRAPH_VERBOSITY=10`) and attach the full output. Cause: converting <bound method LSTMCell.call of <tensorflow.python.ops.rnn_cell_impl.LSTMCell object at 0x7fd556bb8c90>>: AttributeError: module 'gast' has no attribute 'Index'\n",
      "WARNING:tensorflow:Entity <bound method LSTMCell.call of <tensorflow.python.ops.rnn_cell_impl.LSTMCell object at 0x7fd556bb8c90>> could not be transformed and will be executed as-is. Please report this to the AutgoGraph team. When filing the bug, set the verbosity to 10 (on Linux, `export AUTOGRAPH_VERBOSITY=10`) and attach the full output. Cause: converting <bound method LSTMCell.call of <tensorflow.python.ops.rnn_cell_impl.LSTMCell object at 0x7fd556bb8c90>>: AttributeError: module 'gast' has no attribute 'Index'\n",
      "WARNING: Entity <bound method LSTMCell.call of <tensorflow.python.ops.rnn_cell_impl.LSTMCell object at 0x7fd556bb8c90>> could not be transformed and will be executed as-is. Please report this to the AutgoGraph team. When filing the bug, set the verbosity to 10 (on Linux, `export AUTOGRAPH_VERBOSITY=10`) and attach the full output. Cause: converting <bound method LSTMCell.call of <tensorflow.python.ops.rnn_cell_impl.LSTMCell object at 0x7fd556bb8c90>>: AttributeError: module 'gast' has no attribute 'Index'\n",
      "WARNING:tensorflow:From /home/samuel/ns-allinone-3.29/ns-3.29/scratch/RLinWiFi-master-original-queue-level-mean/agents/dqn/model.py:53: dense (from tensorflow.python.layers.core) is deprecated and will be removed in a future version.\n",
      "Instructions for updating:\n",
      "Use keras.layers.dense instead.\n",
      "WARNING:tensorflow:Entity <bound method Dense.call of <tensorflow.python.layers.core.Dense object at 0x7fd556bb8c90>> could not be transformed and will be executed as-is. Please report this to the AutgoGraph team. When filing the bug, set the verbosity to 10 (on Linux, `export AUTOGRAPH_VERBOSITY=10`) and attach the full output. Cause: converting <bound method Dense.call of <tensorflow.python.layers.core.Dense object at 0x7fd556bb8c90>>: AttributeError: module 'gast' has no attribute 'Index'\n",
      "WARNING: Entity <bound method Dense.call of <tensorflow.python.layers.core.Dense object at 0x7fd556bb8c90>> could not be transformed and will be executed as-is. Please report this to the AutgoGraph team. When filing the bug, set the verbosity to 10 (on Linux, `export AUTOGRAPH_VERBOSITY=10`) and attach the full output. Cause: converting <bound method Dense.call of <tensorflow.python.layers.core.Dense object at 0x7fd556bb8c90>>: AttributeError: module 'gast' has no attribute 'Index'\n",
      "WARNING:tensorflow:Entity <bound method Dense.call of <tensorflow.python.layers.core.Dense object at 0x7fd556bb8c90>> could not be transformed and will be executed as-is. Please report this to the AutgoGraph team. When filing the bug, set the verbosity to 10 (on Linux, `export AUTOGRAPH_VERBOSITY=10`) and attach the full output. Cause: converting <bound method Dense.call of <tensorflow.python.layers.core.Dense object at 0x7fd556bb8c90>>: AttributeError: module 'gast' has no attribute 'Index'\n",
      "WARNING: Entity <bound method Dense.call of <tensorflow.python.layers.core.Dense object at 0x7fd556bb8c90>> could not be transformed and will be executed as-is. Please report this to the AutgoGraph team. When filing the bug, set the verbosity to 10 (on Linux, `export AUTOGRAPH_VERBOSITY=10`) and attach the full output. Cause: converting <bound method Dense.call of <tensorflow.python.layers.core.Dense object at 0x7fd556bb8c90>>: AttributeError: module 'gast' has no attribute 'Index'\n",
      "WARNING:tensorflow:Entity <bound method Dense.call of <tensorflow.python.layers.core.Dense object at 0x7fd556bb8c90>> could not be transformed and will be executed as-is. Please report this to the AutgoGraph team. When filing the bug, set the verbosity to 10 (on Linux, `export AUTOGRAPH_VERBOSITY=10`) and attach the full output. Cause: converting <bound method Dense.call of <tensorflow.python.layers.core.Dense object at 0x7fd556bb8c90>>: AttributeError: module 'gast' has no attribute 'Index'\n"
     ]
    },
    {
     "name": "stdout",
     "output_type": "stream",
     "text": [
      "WARNING: Entity <bound method Dense.call of <tensorflow.python.layers.core.Dense object at 0x7fd556bb8c90>> could not be transformed and will be executed as-is. Please report this to the AutgoGraph team. When filing the bug, set the verbosity to 10 (on Linux, `export AUTOGRAPH_VERBOSITY=10`) and attach the full output. Cause: converting <bound method Dense.call of <tensorflow.python.layers.core.Dense object at 0x7fd556bb8c90>>: AttributeError: module 'gast' has no attribute 'Index'\n",
      "WARNING:tensorflow:From /home/samuel/ns-allinone-3.29/ns-3.29/scratch/RLinWiFi-master-original-queue-level-mean/agents/dqn/model.py:69: The name tf.losses.mean_squared_error is deprecated. Please use tf.compat.v1.losses.mean_squared_error instead.\n",
      "\n",
      "WARNING:tensorflow:From /home/samuel/anaconda3/envs/myEnv3_7/lib/python3.7/site-packages/tensorflow/python/ops/losses/losses_impl.py:121: add_dispatch_support.<locals>.wrapper (from tensorflow.python.ops.array_ops) is deprecated and will be removed in a future version.\n",
      "Instructions for updating:\n",
      "Use tf.where in 2.0, which has the same broadcast rule as np.where\n",
      "WARNING:tensorflow:From /home/samuel/ns-allinone-3.29/ns-3.29/scratch/RLinWiFi-master-original-queue-level-mean/agents/dqn/model.py:77: The name tf.train.AdamOptimizer is deprecated. Please use tf.compat.v1.train.AdamOptimizer instead.\n",
      "\n",
      "WARNING:tensorflow:From /home/samuel/ns-allinone-3.29/ns-3.29/scratch/RLinWiFi-master-original-queue-level-mean/agents/dqn/model.py:33: The name tf.global_variables_initializer is deprecated. Please use tf.compat.v1.global_variables_initializer instead.\n",
      "\n",
      "WARNING:tensorflow:From /home/samuel/ns-allinone-3.29/ns-3.29/scratch/RLinWiFi-master-original-queue-level-mean/agents/dqn/model.py:34: The name tf.local_variables_initializer is deprecated. Please use tf.compat.v1.local_variables_initializer instead.\n",
      "\n",
      "WARNING:tensorflow:Entity <bound method LSTMCell.call of <tensorflow.python.ops.rnn_cell_impl.LSTMCell object at 0x7fd4d7f81350>> could not be transformed and will be executed as-is. Please report this to the AutgoGraph team. When filing the bug, set the verbosity to 10 (on Linux, `export AUTOGRAPH_VERBOSITY=10`) and attach the full output. Cause: converting <bound method LSTMCell.call of <tensorflow.python.ops.rnn_cell_impl.LSTMCell object at 0x7fd4d7f81350>>: AttributeError: module 'gast' has no attribute 'Index'\n",
      "WARNING: Entity <bound method LSTMCell.call of <tensorflow.python.ops.rnn_cell_impl.LSTMCell object at 0x7fd4d7f81350>> could not be transformed and will be executed as-is. Please report this to the AutgoGraph team. When filing the bug, set the verbosity to 10 (on Linux, `export AUTOGRAPH_VERBOSITY=10`) and attach the full output. Cause: converting <bound method LSTMCell.call of <tensorflow.python.ops.rnn_cell_impl.LSTMCell object at 0x7fd4d7f81350>>: AttributeError: module 'gast' has no attribute 'Index'\n",
      "WARNING:tensorflow:Entity <bound method LSTMCell.call of <tensorflow.python.ops.rnn_cell_impl.LSTMCell object at 0x7fd4d7f81350>> could not be transformed and will be executed as-is. Please report this to the AutgoGraph team. When filing the bug, set the verbosity to 10 (on Linux, `export AUTOGRAPH_VERBOSITY=10`) and attach the full output. Cause: converting <bound method LSTMCell.call of <tensorflow.python.ops.rnn_cell_impl.LSTMCell object at 0x7fd4d7f81350>>: AttributeError: module 'gast' has no attribute 'Index'\n",
      "WARNING: Entity <bound method LSTMCell.call of <tensorflow.python.ops.rnn_cell_impl.LSTMCell object at 0x7fd4d7f81350>> could not be transformed and will be executed as-is. Please report this to the AutgoGraph team. When filing the bug, set the verbosity to 10 (on Linux, `export AUTOGRAPH_VERBOSITY=10`) and attach the full output. Cause: converting <bound method LSTMCell.call of <tensorflow.python.ops.rnn_cell_impl.LSTMCell object at 0x7fd4d7f81350>>: AttributeError: module 'gast' has no attribute 'Index'\n"
     ]
    },
    {
     "name": "stderr",
     "output_type": "stream",
     "text": [
      "2023-02-13 08:07:45.371054: W tensorflow/compiler/jit/mark_for_compilation_pass.cc:1412] (One-time warning): Not using XLA:CPU for cluster because envvar TF_XLA_FLAGS=--tf_xla_cpu_global_jit was not set.  If you want XLA:CPU, either set that envvar, or use experimental_jit_scope to enable XLA:CPU.  To confirm that XLA is active, pass --vmodule=xla_compilation_cache=1 (as a proper command-line flag, not via TF_XLA_FLAGS) or set the envvar XLA_FLAGS=--xla_hlo_profile.\n"
     ]
    },
    {
     "name": "stdout",
     "output_type": "stream",
     "text": [
      "WARNING:tensorflow:Entity <bound method LSTMCell.call of <tensorflow.python.ops.rnn_cell_impl.LSTMCell object at 0x7fd4d7f81350>> could not be transformed and will be executed as-is. Please report this to the AutgoGraph team. When filing the bug, set the verbosity to 10 (on Linux, `export AUTOGRAPH_VERBOSITY=10`) and attach the full output. Cause: converting <bound method LSTMCell.call of <tensorflow.python.ops.rnn_cell_impl.LSTMCell object at 0x7fd4d7f81350>>: AttributeError: module 'gast' has no attribute 'Index'\n",
      "WARNING: Entity <bound method LSTMCell.call of <tensorflow.python.ops.rnn_cell_impl.LSTMCell object at 0x7fd4d7f81350>> could not be transformed and will be executed as-is. Please report this to the AutgoGraph team. When filing the bug, set the verbosity to 10 (on Linux, `export AUTOGRAPH_VERBOSITY=10`) and attach the full output. Cause: converting <bound method LSTMCell.call of <tensorflow.python.ops.rnn_cell_impl.LSTMCell object at 0x7fd4d7f81350>>: AttributeError: module 'gast' has no attribute 'Index'\n",
      "WARNING:tensorflow:Entity <bound method LSTMCell.call of <tensorflow.python.ops.rnn_cell_impl.LSTMCell object at 0x7fd4d7f81350>> could not be transformed and will be executed as-is. Please report this to the AutgoGraph team. When filing the bug, set the verbosity to 10 (on Linux, `export AUTOGRAPH_VERBOSITY=10`) and attach the full output. Cause: converting <bound method LSTMCell.call of <tensorflow.python.ops.rnn_cell_impl.LSTMCell object at 0x7fd4d7f81350>>: AttributeError: module 'gast' has no attribute 'Index'\n",
      "WARNING: Entity <bound method LSTMCell.call of <tensorflow.python.ops.rnn_cell_impl.LSTMCell object at 0x7fd4d7f81350>> could not be transformed and will be executed as-is. Please report this to the AutgoGraph team. When filing the bug, set the verbosity to 10 (on Linux, `export AUTOGRAPH_VERBOSITY=10`) and attach the full output. Cause: converting <bound method LSTMCell.call of <tensorflow.python.ops.rnn_cell_impl.LSTMCell object at 0x7fd4d7f81350>>: AttributeError: module 'gast' has no attribute 'Index'\n",
      "WARNING:tensorflow:Entity <bound method Dense.call of <tensorflow.python.layers.core.Dense object at 0x7fd4d7f81350>> could not be transformed and will be executed as-is. Please report this to the AutgoGraph team. When filing the bug, set the verbosity to 10 (on Linux, `export AUTOGRAPH_VERBOSITY=10`) and attach the full output. Cause: converting <bound method Dense.call of <tensorflow.python.layers.core.Dense object at 0x7fd4d7f81350>>: AttributeError: module 'gast' has no attribute 'Index'\n",
      "WARNING: Entity <bound method Dense.call of <tensorflow.python.layers.core.Dense object at 0x7fd4d7f81350>> could not be transformed and will be executed as-is. Please report this to the AutgoGraph team. When filing the bug, set the verbosity to 10 (on Linux, `export AUTOGRAPH_VERBOSITY=10`) and attach the full output. Cause: converting <bound method Dense.call of <tensorflow.python.layers.core.Dense object at 0x7fd4d7f81350>>: AttributeError: module 'gast' has no attribute 'Index'\n",
      "WARNING:tensorflow:Entity <bound method Dense.call of <tensorflow.python.layers.core.Dense object at 0x7fd4d7f81350>> could not be transformed and will be executed as-is. Please report this to the AutgoGraph team. When filing the bug, set the verbosity to 10 (on Linux, `export AUTOGRAPH_VERBOSITY=10`) and attach the full output. Cause: converting <bound method Dense.call of <tensorflow.python.layers.core.Dense object at 0x7fd4d7f81350>>: AttributeError: module 'gast' has no attribute 'Index'\n",
      "WARNING: Entity <bound method Dense.call of <tensorflow.python.layers.core.Dense object at 0x7fd4d7f81350>> could not be transformed and will be executed as-is. Please report this to the AutgoGraph team. When filing the bug, set the verbosity to 10 (on Linux, `export AUTOGRAPH_VERBOSITY=10`) and attach the full output. Cause: converting <bound method Dense.call of <tensorflow.python.layers.core.Dense object at 0x7fd4d7f81350>>: AttributeError: module 'gast' has no attribute 'Index'\n",
      "WARNING:tensorflow:Entity <bound method Dense.call of <tensorflow.python.layers.core.Dense object at 0x7fd4d7f81350>> could not be transformed and will be executed as-is. Please report this to the AutgoGraph team. When filing the bug, set the verbosity to 10 (on Linux, `export AUTOGRAPH_VERBOSITY=10`) and attach the full output. Cause: converting <bound method Dense.call of <tensorflow.python.layers.core.Dense object at 0x7fd4d7f81350>>: AttributeError: module 'gast' has no attribute 'Index'\n",
      "WARNING: Entity <bound method Dense.call of <tensorflow.python.layers.core.Dense object at 0x7fd4d7f81350>> could not be transformed and will be executed as-is. Please report this to the AutgoGraph team. When filing the bug, set the verbosity to 10 (on Linux, `export AUTOGRAPH_VERBOSITY=10`) and attach the full output. Cause: converting <bound method Dense.call of <tensorflow.python.layers.core.Dense object at 0x7fd4d7f81350>>: AttributeError: module 'gast' has no attribute 'Index'\n",
      "WARNING:tensorflow:From /home/samuel/ns-allinone-3.29/ns-3.29/scratch/RLinWiFi-master-original-queue-level-mean/agents/dqn/agent.py:77: The name tf.train.Saver is deprecated. Please use tf.compat.v1.train.Saver instead.\n",
      "\n",
      "Action space: 7\n",
      "WARNING:tensorflow:From /home/samuel/ns-allinone-3.29/ns-3.29/scratch/RLinWiFi-master-original-queue-level-mean/agents/dqn/agent.py:107: Variable.load (from tensorflow.python.ops.variables) is deprecated and will be removed in a future version.\n",
      "Instructions for updating:\n",
      "Prefer Variable.assign which has equivalent behavior in 2.X.\n"
     ]
    },
    {
     "name": "stderr",
     "output_type": "stream",
     "text": [
      "COMET INFO: Experiment is live on comet.ml https://www.comet.com/sheila-janota/rl-in-wifi-with-queue-level/7d4b57f99a3e4216aea7187ea483634b\n",
      "\n",
      "  0%|          | 0/6300 [00:00<?, ?it/s]"
     ]
    },
    {
     "name": "stdout",
     "output_type": "stream",
     "text": [
      "0\n"
     ]
    },
    {
     "name": "stderr",
     "output_type": "stream",
     "text": [
      "  5%|▌         | 333/6300 [01:10<25:22,  3.92it/s, curr_speed=28.10 Mbps, mb_sent=8.99 Mb]"
     ]
    },
    {
     "name": "stdout",
     "output_type": "stream",
     "text": [
      "------- STARTED TRAINING -------\n"
     ]
    },
    {
     "name": "stderr",
     "output_type": "stream",
     "text": [
      "100%|██████████| 6300/6300 [29:00<00:00,  3.62it/s, curr_speed=27.09 Mbps, mb_sent=1712.97 Mb]\n"
     ]
    },
    {
     "name": "stdout",
     "output_type": "stream",
     "text": [
      "Waiting for simulation script to connect on port: tcp://localhost:30635\n",
      "Please start proper ns-3 simulation script using ./waf --run \"...\"\n",
      "Waf: Entering directory `/home/samuel/ns-allinone-3.29/ns-3.29/build'\n",
      "Waf: Leaving directory `/home/samuel/ns-allinone-3.29/ns-3.29/build'\n",
      "Build commands will be stored in build/compile_commands.json\n",
      "'build' finished successfully (3.825s)\n"
     ]
    },
    {
     "name": "stderr",
     "output_type": "stream",
     "text": [
      "Ns3Env parameters:\n",
      "--nWifi: 5\n",
      "--simulationTime: 60\n",
      "--openGymPort: 30635\n",
      "--envStepTime: 0.01\n",
      "--seed: 42\n",
      "--agentType: discrete\n",
      "--scenario: basic\n",
      "--dryRun: 0\n",
      "Simulation started\n",
      "Simulation process id: 636028 (parent (waf shell) id: 635992)\n",
      "Waiting for Python process to connect on port: tcp://localhost:30635\n",
      "Please start proper Python Gym Agent\n",
      "  0%|          | 0/6300 [00:00<?, ?it/s]"
     ]
    },
    {
     "name": "stdout",
     "output_type": "stream",
     "text": [
      "Sent 1712.97 Mb/s.\tMean speed: 28.55 Mb/s\tEpisode 1/15 finished\n",
      "\n",
      "1\n"
     ]
    },
    {
     "name": "stderr",
     "output_type": "stream",
     "text": [
      "100%|██████████| 6300/6300 [30:21<00:00,  3.46it/s, curr_speed=32.86 Mbps, mb_sent=1945.11 Mb]\n"
     ]
    },
    {
     "name": "stdout",
     "output_type": "stream",
     "text": [
      "Waiting for simulation script to connect on port: tcp://localhost:20041\n",
      "Please start proper ns-3 simulation script using ./waf --run \"...\"\n",
      "Waf: Entering directory `/home/samuel/ns-allinone-3.29/ns-3.29/build'\n",
      "Waf: Leaving directory `/home/samuel/ns-allinone-3.29/ns-3.29/build'\n",
      "Build commands will be stored in build/compile_commands.json\n",
      "'build' finished successfully (3.671s)\n"
     ]
    },
    {
     "name": "stderr",
     "output_type": "stream",
     "text": [
      "Ns3Env parameters:\n",
      "--nWifi: 5\n",
      "--simulationTime: 60\n",
      "--openGymPort: 20041\n",
      "--envStepTime: 0.01\n",
      "--seed: 42\n",
      "--agentType: discrete\n",
      "--scenario: basic\n",
      "--dryRun: 0\n",
      "Simulation started\n",
      "Simulation process id: 650255 (parent (waf shell) id: 650220)\n",
      "Waiting for Python process to connect on port: tcp://localhost:20041\n",
      "Please start proper Python Gym Agent\n",
      "  0%|          | 0/6300 [00:00<?, ?it/s]"
     ]
    },
    {
     "name": "stdout",
     "output_type": "stream",
     "text": [
      "Sent 1945.11 Mb/s.\tMean speed: 32.42 Mb/s\tEpisode 2/15 finished\n",
      "\n",
      "2\n"
     ]
    },
    {
     "name": "stderr",
     "output_type": "stream",
     "text": [
      "100%|██████████| 6300/6300 [30:31<00:00,  3.44it/s, curr_speed=33.65 Mbps, mb_sent=2106.86 Mb]\n"
     ]
    },
    {
     "name": "stdout",
     "output_type": "stream",
     "text": [
      "Waiting for simulation script to connect on port: tcp://localhost:29693\n",
      "Please start proper ns-3 simulation script using ./waf --run \"...\"\n",
      "Waf: Entering directory `/home/samuel/ns-allinone-3.29/ns-3.29/build'\n",
      "Waf: Leaving directory `/home/samuel/ns-allinone-3.29/ns-3.29/build'\n",
      "Build commands will be stored in build/compile_commands.json\n",
      "'build' finished successfully (4.010s)\n"
     ]
    },
    {
     "name": "stderr",
     "output_type": "stream",
     "text": [
      "Ns3Env parameters:\n",
      "--nWifi: 5\n",
      "--simulationTime: 60\n",
      "--openGymPort: 29693\n",
      "--envStepTime: 0.01\n",
      "--seed: 42\n",
      "--agentType: discrete\n",
      "--scenario: basic\n",
      "--dryRun: 0\n",
      "Simulation started\n",
      "Simulation process id: 665243 (parent (waf shell) id: 665207)\n",
      "Waiting for Python process to connect on port: tcp://localhost:29693\n",
      "Please start proper Python Gym Agent\n",
      "  0%|          | 1/6300 [00:00<18:49,  5.58it/s, curr_speed=0.00 Mbps, mb_sent=0.00 Mb]"
     ]
    },
    {
     "name": "stdout",
     "output_type": "stream",
     "text": [
      "Sent 2106.86 Mb/s.\tMean speed: 35.11 Mb/s\tEpisode 3/15 finished\n",
      "\n",
      "3\n"
     ]
    },
    {
     "name": "stderr",
     "output_type": "stream",
     "text": [
      "  5%|▍         | 304/6300 [01:04<21:40,  4.61it/s, curr_speed=38.72 Mbps, mb_sent=1.16 Mb]"
     ]
    },
    {
     "name": "stdout",
     "output_type": "stream",
     "text": [
      "------- MEMORY BUFFER FILLED -------\n"
     ]
    },
    {
     "name": "stderr",
     "output_type": "stream",
     "text": [
      "100%|██████████| 6300/6300 [30:55<00:00,  3.39it/s, curr_speed=37.80 Mbps, mb_sent=2201.00 Mb]\n"
     ]
    },
    {
     "name": "stdout",
     "output_type": "stream",
     "text": [
      "Waiting for simulation script to connect on port: tcp://localhost:21977\n",
      "Please start proper ns-3 simulation script using ./waf --run \"...\"\n",
      "Waf: Entering directory `/home/samuel/ns-allinone-3.29/ns-3.29/build'\n",
      "Waf: Leaving directory `/home/samuel/ns-allinone-3.29/ns-3.29/build'\n",
      "Build commands will be stored in build/compile_commands.json\n",
      "'build' finished successfully (4.120s)\n"
     ]
    },
    {
     "name": "stderr",
     "output_type": "stream",
     "text": [
      "Ns3Env parameters:\n",
      "--nWifi: 5\n",
      "--simulationTime: 60\n",
      "--openGymPort: 21977\n",
      "--envStepTime: 0.01\n",
      "--seed: 42\n",
      "--agentType: discrete\n",
      "--scenario: basic\n",
      "--dryRun: 0\n",
      "Simulation started\n",
      "Simulation process id: 679962 (parent (waf shell) id: 679925)\n",
      "Waiting for Python process to connect on port: tcp://localhost:21977\n",
      "Please start proper Python Gym Agent\n",
      "  0%|          | 0/6300 [00:00<?, ?it/s]"
     ]
    },
    {
     "name": "stdout",
     "output_type": "stream",
     "text": [
      "Sent 2201.00 Mb/s.\tMean speed: 36.68 Mb/s\tEpisode 4/15 finished\n",
      "\n",
      "4\n"
     ]
    },
    {
     "name": "stderr",
     "output_type": "stream",
     "text": [
      "100%|██████████| 6300/6300 [31:14<00:00,  3.36it/s, curr_speed=37.51 Mbps, mb_sent=2259.04 Mb]\n"
     ]
    },
    {
     "name": "stdout",
     "output_type": "stream",
     "text": [
      "Waiting for simulation script to connect on port: tcp://localhost:52097\n",
      "Please start proper ns-3 simulation script using ./waf --run \"...\"\n",
      "Waf: Entering directory `/home/samuel/ns-allinone-3.29/ns-3.29/build'\n",
      "Waf: Leaving directory `/home/samuel/ns-allinone-3.29/ns-3.29/build'\n",
      "Build commands will be stored in build/compile_commands.json\n",
      "'build' finished successfully (4.057s)\n"
     ]
    },
    {
     "name": "stderr",
     "output_type": "stream",
     "text": [
      "Ns3Env parameters:\n",
      "--nWifi: 5\n",
      "--simulationTime: 60\n",
      "--openGymPort: 52097\n",
      "--envStepTime: 0.01\n",
      "--seed: 42\n",
      "--agentType: discrete\n",
      "--scenario: basic\n",
      "--dryRun: 0\n",
      "Simulation started\n",
      "Simulation process id: 694831 (parent (waf shell) id: 694798)\n",
      "Waiting for Python process to connect on port: tcp://localhost:52097\n",
      "Please start proper Python Gym Agent\n",
      "  0%|          | 1/6300 [00:00<19:38,  5.35it/s, curr_speed=0.00 Mbps, mb_sent=0.00 Mb]"
     ]
    },
    {
     "name": "stdout",
     "output_type": "stream",
     "text": [
      "Sent 2259.04 Mb/s.\tMean speed: 37.65 Mb/s\tEpisode 5/15 finished\n",
      "\n",
      "5\n"
     ]
    },
    {
     "name": "stderr",
     "output_type": "stream",
     "text": [
      "100%|██████████| 6300/6300 [31:21<00:00,  3.35it/s, curr_speed=37.92 Mbps, mb_sent=2285.34 Mb]\n"
     ]
    },
    {
     "name": "stdout",
     "output_type": "stream",
     "text": [
      "Waiting for simulation script to connect on port: tcp://localhost:14763\n",
      "Please start proper ns-3 simulation script using ./waf --run \"...\"\n",
      "Waf: Entering directory `/home/samuel/ns-allinone-3.29/ns-3.29/build'\n",
      "Waf: Leaving directory `/home/samuel/ns-allinone-3.29/ns-3.29/build'\n",
      "Build commands will be stored in build/compile_commands.json\n",
      "'build' finished successfully (3.689s)\n"
     ]
    },
    {
     "name": "stderr",
     "output_type": "stream",
     "text": [
      "Ns3Env parameters:\n",
      "--nWifi: 5\n",
      "--simulationTime: 60\n",
      "--openGymPort: 14763\n",
      "--envStepTime: 0.01\n",
      "--seed: 42\n",
      "--agentType: discrete\n",
      "--scenario: basic\n",
      "--dryRun: 0\n",
      "Simulation started\n",
      "Simulation process id: 709578 (parent (waf shell) id: 709546)\n",
      "Waiting for Python process to connect on port: tcp://localhost:14763\n",
      "Please start proper Python Gym Agent\n",
      "  0%|          | 0/6300 [00:00<?, ?it/s]"
     ]
    },
    {
     "name": "stdout",
     "output_type": "stream",
     "text": [
      "Sent 2285.34 Mb/s.\tMean speed: 38.09 Mb/s\tEpisode 6/15 finished\n",
      "\n",
      "6\n"
     ]
    },
    {
     "name": "stderr",
     "output_type": "stream",
     "text": [
      "100%|██████████| 6300/6300 [31:42<00:00,  3.31it/s, curr_speed=38.51 Mbps, mb_sent=2314.52 Mb]\n"
     ]
    },
    {
     "name": "stdout",
     "output_type": "stream",
     "text": [
      "Waiting for simulation script to connect on port: tcp://localhost:30794\n",
      "Please start proper ns-3 simulation script using ./waf --run \"...\"\n",
      "Waf: Entering directory `/home/samuel/ns-allinone-3.29/ns-3.29/build'\n",
      "Waf: Leaving directory `/home/samuel/ns-allinone-3.29/ns-3.29/build'\n",
      "Build commands will be stored in build/compile_commands.json\n",
      "'build' finished successfully (4.055s)\n"
     ]
    },
    {
     "name": "stderr",
     "output_type": "stream",
     "text": [
      "Ns3Env parameters:\n",
      "--nWifi: 5\n",
      "--simulationTime: 60\n",
      "--openGymPort: 30794\n",
      "--envStepTime: 0.01\n",
      "--seed: 42\n",
      "--agentType: discrete\n",
      "--scenario: basic\n",
      "--dryRun: 0\n",
      "Simulation started\n",
      "Simulation process id: 724944 (parent (waf shell) id: 724910)\n",
      "Waiting for Python process to connect on port: tcp://localhost:30794\n",
      "Please start proper Python Gym Agent\n",
      "  0%|          | 0/6300 [00:00<?, ?it/s]"
     ]
    },
    {
     "name": "stdout",
     "output_type": "stream",
     "text": [
      "Sent 2314.52 Mb/s.\tMean speed: 38.58 Mb/s\tEpisode 7/15 finished\n",
      "\n",
      "7\n"
     ]
    },
    {
     "name": "stderr",
     "output_type": "stream",
     "text": [
      "100%|██████████| 6300/6300 [31:11<00:00,  3.37it/s, curr_speed=38.96 Mbps, mb_sent=2318.85 Mb]\n"
     ]
    },
    {
     "name": "stdout",
     "output_type": "stream",
     "text": [
      "Waiting for simulation script to connect on port: tcp://localhost:53479\n",
      "Please start proper ns-3 simulation script using ./waf --run \"...\"\n",
      "Waf: Entering directory `/home/samuel/ns-allinone-3.29/ns-3.29/build'\n",
      "Waf: Leaving directory `/home/samuel/ns-allinone-3.29/ns-3.29/build'\n",
      "Build commands will be stored in build/compile_commands.json\n",
      "'build' finished successfully (3.716s)\n"
     ]
    },
    {
     "name": "stderr",
     "output_type": "stream",
     "text": [
      "Ns3Env parameters:\n",
      "--nWifi: 5\n",
      "--simulationTime: 60\n",
      "--openGymPort: 53479\n",
      "--envStepTime: 0.01\n",
      "--seed: 42\n",
      "--agentType: discrete\n",
      "--scenario: basic\n",
      "--dryRun: 0\n",
      "Simulation started\n",
      "Simulation process id: 739402 (parent (waf shell) id: 739367)\n",
      "Waiting for Python process to connect on port: tcp://localhost:53479\n",
      "Please start proper Python Gym Agent\n",
      "  0%|          | 1/6300 [00:00<15:43,  6.68it/s, curr_speed=0.00 Mbps, mb_sent=0.00 Mb]"
     ]
    },
    {
     "name": "stdout",
     "output_type": "stream",
     "text": [
      "Sent 2318.85 Mb/s.\tMean speed: 38.65 Mb/s\tEpisode 8/15 finished\n",
      "\n",
      "8\n"
     ]
    },
    {
     "name": "stderr",
     "output_type": "stream",
     "text": [
      "100%|██████████| 6300/6300 [31:12<00:00,  3.37it/s, curr_speed=38.09 Mbps, mb_sent=2320.70 Mb]\n"
     ]
    },
    {
     "name": "stdout",
     "output_type": "stream",
     "text": [
      "Waiting for simulation script to connect on port: tcp://localhost:35951\n",
      "Please start proper ns-3 simulation script using ./waf --run \"...\"\n",
      "Waf: Entering directory `/home/samuel/ns-allinone-3.29/ns-3.29/build'\n",
      "Waf: Leaving directory `/home/samuel/ns-allinone-3.29/ns-3.29/build'\n",
      "Build commands will be stored in build/compile_commands.json\n",
      "'build' finished successfully (3.829s)\n"
     ]
    },
    {
     "name": "stderr",
     "output_type": "stream",
     "text": [
      "Ns3Env parameters:\n",
      "--nWifi: 5\n",
      "--simulationTime: 60\n",
      "--openGymPort: 35951\n",
      "--envStepTime: 0.01\n",
      "--seed: 42\n",
      "--agentType: discrete\n",
      "--scenario: basic\n",
      "--dryRun: 0\n",
      "Simulation started\n",
      "Simulation process id: 754285 (parent (waf shell) id: 754248)\n",
      "Waiting for Python process to connect on port: tcp://localhost:35951\n",
      "Please start proper Python Gym Agent\n",
      "  0%|          | 1/6300 [00:00<19:25,  5.41it/s, curr_speed=0.00 Mbps, mb_sent=0.00 Mb]"
     ]
    },
    {
     "name": "stdout",
     "output_type": "stream",
     "text": [
      "Sent 2320.70 Mb/s.\tMean speed: 38.68 Mb/s\tEpisode 9/15 finished\n",
      "\n",
      "9\n"
     ]
    },
    {
     "name": "stderr",
     "output_type": "stream",
     "text": [
      " 37%|███▋      | 2303/6300 [11:18<20:44,  3.21it/s, curr_speed=38.12 Mbps, mb_sent=778.10 Mb]COMET ERROR: File could not be uploaded\n",
      " 37%|███▋      | 2304/6300 [11:19<21:34,  3.09it/s, curr_speed=38.17 Mbps, mb_sent=778.50 Mb]COMET ERROR: File could not be uploaded\n",
      " 37%|███▋      | 2305/6300 [11:19<22:03,  3.02it/s, curr_speed=38.21 Mbps, mb_sent=778.90 Mb]COMET ERROR: File could not be uploaded\n",
      " 38%|███▊      | 2399/6300 [11:50<18:22,  3.54it/s, curr_speed=38.99 Mbps, mb_sent=815.46 Mb]COMET ERROR: File could not be uploaded\n",
      " 38%|███▊      | 2400/6300 [11:50<18:15,  3.56it/s, curr_speed=38.93 Mbps, mb_sent=815.80 Mb]COMET ERROR: File could not be uploaded\n",
      "COMET ERROR: File could not be uploaded\n",
      " 40%|███▉      | 2506/6300 [12:24<19:33,  3.23it/s, curr_speed=38.75 Mbps, mb_sent=856.92 Mb]COMET ERROR: File could not be uploaded\n",
      " 40%|███▉      | 2507/6300 [12:24<18:16,  3.46it/s, curr_speed=38.71 Mbps, mb_sent=857.29 Mb]COMET ERROR: File could not be uploaded\n",
      " 41%|████      | 2573/6300 [12:44<19:14,  3.23it/s, curr_speed=38.14 Mbps, mb_sent=882.42 Mb]COMET ERROR: File could not be uploaded\n",
      " 41%|████      | 2574/6300 [12:45<19:30,  3.18it/s, curr_speed=38.20 Mbps, mb_sent=882.84 Mb]COMET ERROR: File could not be uploaded\n",
      " 41%|████      | 2575/6300 [12:45<20:04,  3.09it/s, curr_speed=38.19 Mbps, mb_sent=883.26 Mb]COMET ERROR: File could not be uploaded\n",
      " 42%|████▏     | 2640/6300 [13:04<17:32,  3.48it/s, curr_speed=38.46 Mbps, mb_sent=908.21 Mb]COMET ERROR: File could not be uploaded\n",
      " 42%|████▏     | 2641/6300 [13:04<16:47,  3.63it/s, curr_speed=38.47 Mbps, mb_sent=908.58 Mb]COMET ERROR: File could not be uploaded\n",
      "100%|██████████| 6300/6300 [31:34<00:00,  3.33it/s, curr_speed=38.91 Mbps, mb_sent=2326.89 Mb]\n"
     ]
    },
    {
     "name": "stdout",
     "output_type": "stream",
     "text": [
      "Waiting for simulation script to connect on port: tcp://localhost:47716\n",
      "Please start proper ns-3 simulation script using ./waf --run \"...\"\n",
      "Waf: Entering directory `/home/samuel/ns-allinone-3.29/ns-3.29/build'\n",
      "Waf: Leaving directory `/home/samuel/ns-allinone-3.29/ns-3.29/build'\n",
      "Build commands will be stored in build/compile_commands.json\n",
      "'build' finished successfully (3.753s)\n"
     ]
    },
    {
     "name": "stderr",
     "output_type": "stream",
     "text": [
      "Ns3Env parameters:\n",
      "--nWifi: 5\n",
      "--simulationTime: 60\n",
      "--openGymPort: 47716\n",
      "--envStepTime: 0.01\n",
      "--seed: 42\n",
      "--agentType: discrete\n",
      "--scenario: basic\n",
      "--dryRun: 0\n",
      "Simulation started\n",
      "Simulation process id: 769144 (parent (waf shell) id: 769109)\n",
      "Waiting for Python process to connect on port: tcp://localhost:47716\n",
      "Please start proper Python Gym Agent\n",
      "  0%|          | 0/6300 [00:00<?, ?it/s]"
     ]
    },
    {
     "name": "stdout",
     "output_type": "stream",
     "text": [
      "Sent 2326.89 Mb/s.\tMean speed: 38.78 Mb/s\tEpisode 10/15 finished\n",
      "\n",
      "10\n"
     ]
    },
    {
     "name": "stderr",
     "output_type": "stream",
     "text": [
      "100%|██████████| 6300/6300 [31:28<00:00,  3.34it/s, curr_speed=38.47 Mbps, mb_sent=2326.55 Mb]\n"
     ]
    },
    {
     "name": "stdout",
     "output_type": "stream",
     "text": [
      "Waiting for simulation script to connect on port: tcp://localhost:38020\n",
      "Please start proper ns-3 simulation script using ./waf --run \"...\"\n",
      "Waf: Entering directory `/home/samuel/ns-allinone-3.29/ns-3.29/build'\n",
      "Waf: Leaving directory `/home/samuel/ns-allinone-3.29/ns-3.29/build'\n",
      "Build commands will be stored in build/compile_commands.json\n",
      "'build' finished successfully (3.814s)\n"
     ]
    },
    {
     "name": "stderr",
     "output_type": "stream",
     "text": [
      "Ns3Env parameters:\n",
      "--nWifi: 5\n",
      "--simulationTime: 60\n",
      "--openGymPort: 38020\n",
      "--envStepTime: 0.01\n",
      "--seed: 42\n",
      "--agentType: discrete\n",
      "--scenario: basic\n",
      "--dryRun: 0\n",
      "Simulation started\n",
      "Simulation process id: 784533 (parent (waf shell) id: 784495)\n",
      "Waiting for Python process to connect on port: tcp://localhost:38020\n",
      "Please start proper Python Gym Agent\n",
      "  0%|          | 1/6300 [00:00<19:20,  5.43it/s, curr_speed=0.00 Mbps, mb_sent=0.00 Mb]"
     ]
    },
    {
     "name": "stdout",
     "output_type": "stream",
     "text": [
      "Sent 2326.55 Mb/s.\tMean speed: 38.78 Mb/s\tEpisode 11/15 finished\n",
      "\n",
      "11\n"
     ]
    },
    {
     "name": "stderr",
     "output_type": "stream",
     "text": [
      " 13%|█▎        | 850/6300 [03:44<22:12,  4.09it/s, curr_speed=39.27 Mbps, mb_sent=213.22 Mb]COMET ERROR: File could not be uploaded\n",
      " 13%|█▎        | 850/6300 [03:44<22:12,  4.09it/s, curr_speed=39.28 Mbps, mb_sent=213.65 Mb]COMET ERROR: File could not be uploaded\n",
      " 14%|█▎        | 852/6300 [03:45<24:13,  3.75it/s, curr_speed=39.26 Mbps, mb_sent=214.03 Mb]COMET ERROR: File could not be uploaded\n",
      " 14%|█▎        | 853/6300 [03:45<24:33,  3.70it/s, curr_speed=39.25 Mbps, mb_sent=214.42 Mb]COMET ERROR: File could not be uploaded\n",
      " 14%|█▎        | 854/6300 [03:45<23:51,  3.80it/s, curr_speed=39.26 Mbps, mb_sent=214.84 Mb]COMET ERROR: File could not be uploaded\n",
      " 21%|██        | 1337/6300 [05:58<22:45,  3.63it/s, curr_speed=38.65 Mbps, mb_sent=402.45 Mb]COMET ERROR: File could not be uploaded\n",
      "COMET ERROR: File could not be uploaded\n",
      "COMET ERROR: File could not be uploaded\n",
      "COMET ERROR: File could not be uploaded\n",
      "COMET ERROR: File could not be uploaded\n",
      " 62%|██████▏   | 3903/6300 [19:23<09:28,  4.22it/s, curr_speed=39.37 Mbps, mb_sent=1400.13 Mb] COMET ERROR: File could not be uploaded\n",
      " 62%|██████▏   | 3926/6300 [19:31<13:41,  2.89it/s, curr_speed=39.31 Mbps, mb_sent=1409.19 Mb]COMET ERROR: File could not be uploaded\n",
      "100%|██████████| 6300/6300 [31:22<00:00,  3.35it/s, curr_speed=39.00 Mbps, mb_sent=2330.65 Mb]\n"
     ]
    },
    {
     "name": "stdout",
     "output_type": "stream",
     "text": [
      "Waiting for simulation script to connect on port: tcp://localhost:21126\n",
      "Please start proper ns-3 simulation script using ./waf --run \"...\"\n",
      "Waf: Entering directory `/home/samuel/ns-allinone-3.29/ns-3.29/build'\n",
      "Waf: Leaving directory `/home/samuel/ns-allinone-3.29/ns-3.29/build'\n",
      "Build commands will be stored in build/compile_commands.json\n",
      "'build' finished successfully (3.674s)\n"
     ]
    },
    {
     "name": "stderr",
     "output_type": "stream",
     "text": [
      "Ns3Env parameters:\n",
      "--nWifi: 5\n",
      "--simulationTime: 60\n",
      "--openGymPort: 21126\n",
      "--envStepTime: 0.01\n",
      "--seed: 42\n",
      "--agentType: discrete\n",
      "--scenario: basic\n",
      "--dryRun: 0\n",
      "Simulation started\n"
     ]
    },
    {
     "name": "stdout",
     "output_type": "stream",
     "text": [
      "WARNING:tensorflow:From /home/samuel/anaconda3/envs/myEnv3_7/lib/python3.7/site-packages/tensorflow/python/training/saver.py:960: remove_checkpoint (from tensorflow.python.training.checkpoint_management) is deprecated and will be removed in a future version.\n",
      "Instructions for updating:\n",
      "Use standard file APIs to delete files with this prefix.\n"
     ]
    },
    {
     "name": "stderr",
     "output_type": "stream",
     "text": [
      "Simulation process id: 799691 (parent (waf shell) id: 799667)\n",
      "Waiting for Python process to connect on port: tcp://localhost:21126\n",
      "Please start proper Python Gym Agent\n",
      "  0%|          | 0/6300 [00:00<?, ?it/s]"
     ]
    },
    {
     "name": "stdout",
     "output_type": "stream",
     "text": [
      "Sent 2330.65 Mb/s.\tMean speed: 38.84 Mb/s\tEpisode 12/15 finished\n",
      "\n",
      "12\n",
      "Turning off noise\n"
     ]
    },
    {
     "name": "stderr",
     "output_type": "stream",
     "text": [
      "100%|██████████| 6300/6300 [31:59<00:00,  3.28it/s, curr_speed=39.04 Mbps, mb_sent=2332.57 Mb]\n"
     ]
    },
    {
     "name": "stdout",
     "output_type": "stream",
     "text": [
      "Waiting for simulation script to connect on port: tcp://localhost:37763\n",
      "Please start proper ns-3 simulation script using ./waf --run \"...\"\n",
      "Waf: Entering directory `/home/samuel/ns-allinone-3.29/ns-3.29/build'\n",
      "Waf: Leaving directory `/home/samuel/ns-allinone-3.29/ns-3.29/build'\n",
      "Build commands will be stored in build/compile_commands.json\n",
      "'build' finished successfully (4.135s)\n"
     ]
    },
    {
     "name": "stderr",
     "output_type": "stream",
     "text": [
      "Ns3Env parameters:\n",
      "--nWifi: 5\n",
      "--simulationTime: 60\n",
      "--openGymPort: 37763\n",
      "--envStepTime: 0.01\n",
      "--seed: 42\n",
      "--agentType: discrete\n",
      "--scenario: basic\n",
      "--dryRun: 0\n",
      "Simulation started\n",
      "Simulation process id: 814966 (parent (waf shell) id: 814929)\n",
      "Waiting for Python process to connect on port: tcp://localhost:37763\n",
      "Please start proper Python Gym Agent\n",
      "  0%|          | 0/6300 [00:00<?, ?it/s]"
     ]
    },
    {
     "name": "stdout",
     "output_type": "stream",
     "text": [
      "Sent 2332.57 Mb/s.\tMean speed: 38.88 Mb/s\tEpisode 13/15 finished\n",
      "\n",
      "13\n",
      "Turning off noise\n"
     ]
    },
    {
     "name": "stderr",
     "output_type": "stream",
     "text": [
      "100%|██████████| 6300/6300 [31:24<00:00,  3.34it/s, curr_speed=38.45 Mbps, mb_sent=2328.85 Mb]\n"
     ]
    },
    {
     "name": "stdout",
     "output_type": "stream",
     "text": [
      "Waiting for simulation script to connect on port: tcp://localhost:49534\n",
      "Please start proper ns-3 simulation script using ./waf --run \"...\"\n",
      "Waf: Entering directory `/home/samuel/ns-allinone-3.29/ns-3.29/build'\n",
      "Waf: Leaving directory `/home/samuel/ns-allinone-3.29/ns-3.29/build'\n",
      "Build commands will be stored in build/compile_commands.json\n",
      "'build' finished successfully (3.788s)\n"
     ]
    },
    {
     "name": "stderr",
     "output_type": "stream",
     "text": [
      "Ns3Env parameters:\n",
      "--nWifi: 5\n",
      "--simulationTime: 60\n",
      "--openGymPort: 49534\n",
      "--envStepTime: 0.01\n",
      "--seed: 42\n",
      "--agentType: discrete\n",
      "--scenario: basic\n",
      "--dryRun: 0\n",
      "Simulation started\n",
      "Simulation process id: 829977 (parent (waf shell) id: 829942)\n",
      "Waiting for Python process to connect on port: tcp://localhost:49534\n",
      "Please start proper Python Gym Agent\n",
      "  0%|          | 0/6300 [00:00<?, ?it/s]"
     ]
    },
    {
     "name": "stdout",
     "output_type": "stream",
     "text": [
      "Sent 2328.85 Mb/s.\tMean speed: 38.81 Mb/s\tEpisode 14/15 finished\n",
      "\n",
      "14\n",
      "Turning off noise\n"
     ]
    },
    {
     "name": "stderr",
     "output_type": "stream",
     "text": [
      "100%|██████████| 6300/6300 [29:13<00:00,  3.59it/s, curr_speed=38.62 Mbps, mb_sent=2336.62 Mb]\n"
     ]
    },
    {
     "name": "stdout",
     "output_type": "stream",
     "text": [
      "Waiting for simulation script to connect on port: tcp://localhost:16409\n",
      "Please start proper ns-3 simulation script using ./waf --run \"...\"\n",
      "Waf: Entering directory `/home/samuel/ns-allinone-3.29/ns-3.29/build'\n",
      "Waf: Leaving directory `/home/samuel/ns-allinone-3.29/ns-3.29/build'\n",
      "Build commands will be stored in build/compile_commands.json\n",
      "'build' finished successfully (3.972s)\n"
     ]
    },
    {
     "name": "stderr",
     "output_type": "stream",
     "text": [
      "Ns3Env parameters:\n",
      "--nWifi: 5\n",
      "--simulationTime: 60\n",
      "--openGymPort: 16409\n",
      "--envStepTime: 0.01\n",
      "--seed: 42\n",
      "--agentType: discrete\n",
      "--scenario: basic\n",
      "--dryRun: 0\n",
      "Simulation started\n",
      "Simulation process id: 844339 (parent (waf shell) id: 844303)\n",
      "Waiting for Python process to connect on port: tcp://localhost:16409\n",
      "Please start proper Python Gym Agent\n",
      "COMET INFO: ----------------------------\n",
      "COMET INFO: Comet.ml Experiment Summary:\n",
      "COMET INFO:   Data:\n",
      "COMET INFO:     url: https://www.comet.com/sheila-janota/rl-in-wifi-with-queue-level/7d4b57f99a3e4216aea7187ea483634b\n",
      "COMET INFO:   Metrics [count] (min, max):\n",
      "COMET INFO:     Chosen CW [89985]           : (16.0, 1024.0)\n",
      "COMET INFO:     Cumulative reward [15]      : (2394.086181640625, 3265.31689453125)\n",
      "COMET INFO:     Current throughput [89985]  : (24.3717041015625, 41.885398864746094)\n",
      "COMET INFO:     Fairness index [89985]      : (0.9156879782676697, 0.999966025352478)\n",
      "COMET INFO:     Megabytes sent [89985]      : (0.2680659890174866, 2336.623170018196)\n",
      "COMET INFO:     Observation 0 [89985]       : (0.79083331592381, 0.8333333134651184)\n",
      "COMET INFO:     Observation 1 [89985]       : (0.0, 0.10239857025057955)\n",
      "COMET INFO:     Per-ep reward [89985]       : (110.488037109375, 3265.31689453125)\n",
      "COMET INFO:     Round megabytes sent [89985]: (0.05584700033068657, 0.4579469859600067)\n",
      "COMET INFO:     Round reward [89985]        : (0.074462890625, 0.610595703125)\n",
      "COMET INFO:     Speed [15]                  : (28.549444893809657, 38.94371950030327)\n",
      "COMET INFO:     Station count [89985]       : (5.0, 5.0)\n",
      "COMET INFO:     loss [89985]                : (0.0, 0.17099346965551376)\n",
      "COMET INFO:   Uploads:\n",
      "COMET INFO:     histogram3d: 89985\n",
      "COMET INFO: ----------------------------\n"
     ]
    },
    {
     "name": "stdout",
     "output_type": "stream",
     "text": [
      "Sent 2336.62 Mb/s.\tMean speed: 38.94 Mb/s\tEpisode 15/15 finished\n",
      "\n"
     ]
    },
    {
     "name": "stderr",
     "output_type": "stream",
     "text": [
      "COMET INFO: Uploading stats to Comet before program termination (may take several seconds)\n"
     ]
    },
    {
     "name": "stdout",
     "output_type": "stream",
     "text": [
      "Training finished.\n"
     ]
    },
    {
     "name": "stderr",
     "output_type": "stream",
     "text": [
      "COMET INFO: Experiment is live on comet.ml https://www.comet.com/sheila-janota/rl-in-wifi-with-queue-level/bcac008fa14244d68a061e84f9b0c86d\n",
      "\n",
      "100%|██████████| 6300/6300 [29:18<00:00,  3.58it/s, curr_speed=38.62 Mbps, mb_sent=2336.62 Mb]\n"
     ]
    },
    {
     "name": "stdout",
     "output_type": "stream",
     "text": [
      "Waiting for simulation script to connect on port: tcp://localhost:14377\n",
      "Please start proper ns-3 simulation script using ./waf --run \"...\"\n",
      "Waf: Entering directory `/home/samuel/ns-allinone-3.29/ns-3.29/build'\n",
      "Waf: Leaving directory `/home/samuel/ns-allinone-3.29/ns-3.29/build'\n",
      "Build commands will be stored in build/compile_commands.json\n",
      "'build' finished successfully (3.920s)\n"
     ]
    },
    {
     "name": "stderr",
     "output_type": "stream",
     "text": [
      "Ns3Env parameters:\n",
      "--nWifi: 5\n",
      "--simulationTime: 60\n",
      "--openGymPort: 14377\n",
      "--envStepTime: 0.01\n",
      "--seed: 42\n",
      "--agentType: discrete\n",
      "--scenario: basic\n",
      "--dryRun: 0\n",
      "Simulation started\n",
      "Simulation process id: 858670 (parent (waf shell) id: 858631)\n",
      "Waiting for Python process to connect on port: tcp://localhost:14377\n",
      "Please start proper Python Gym Agent\n",
      "COMET INFO: ----------------------------\n",
      "COMET INFO: Comet.ml Experiment Summary:\n",
      "COMET INFO:   Data:\n",
      "COMET INFO:     url: https://www.comet.com/sheila-janota/rl-in-wifi-with-queue-level/bcac008fa14244d68a061e84f9b0c86d\n",
      "COMET INFO:   Metrics [count] (min, max):\n",
      "COMET INFO:     Chosen CW [5999]           : (32.0, 32.0)\n",
      "COMET INFO:     Cumulative reward          : (3255.3984375, 3255.3984375)\n",
      "COMET INFO:     Current throughput [5999]  : (35.7421989440918, 39.65149688720703)\n",
      "COMET INFO:     Fairness index [5999]      : (0.9637969732284546, 0.9999179840087891)\n",
      "COMET INFO:     Megabytes sent [5999]      : (0.35742199420928955, 2336.623170018196)\n",
      "COMET INFO:     Observation 0 [5999]       : (0.7959083149582147, 0.8333333134651184)\n",
      "COMET INFO:     Observation 1 [5999]       : (0.0, 0.10239857025057955)\n",
      "COMET INFO:     Per-ep reward [5999]       : (140.37744140625, 3255.3984375)\n",
      "COMET INFO:     Round megabytes sent [5999]: (0.2904050052165985, 0.4579469859600067)\n",
      "COMET INFO:     Round reward [5999]        : (0.38720703125, 0.610595703125)\n",
      "COMET INFO:     Speed                      : (38.94371950030327, 38.94371950030327)\n",
      "COMET INFO:     Station count [5999]       : (5.0, 5.0)\n",
      "COMET INFO:     loss [5999]                : (0.0013656885138098114, 0.0013656885138098114)\n",
      "COMET INFO:   Uploads:\n",
      "COMET INFO:     histogram3d: 5999\n",
      "COMET INFO: ----------------------------\n"
     ]
    },
    {
     "name": "stdout",
     "output_type": "stream",
     "text": [
      "Sent 2336.62 Mb/s.\tMean speed: 38.94 Mb/s\tEval finished\n",
      "\n"
     ]
    },
    {
     "name": "stderr",
     "output_type": "stream",
     "text": [
      "COMET INFO: Uploading stats to Comet before program termination (may take several seconds)\n"
     ]
    }
   ],
   "source": [
    "#%%\n",
    "teacher = Teacher(env, 1, Preprocessor(False))\n",
    "\n",
    "lr = 4e-4\n",
    "config = Config(buffer_size=3*steps_per_ep*threads_no, batch_size=32, gamma=0.7, tau=1e-3, lr=lr, update_every=1)\n",
    "agent = Agent(QNetworkTf, history_length, action_size=7, config=config)\n",
    "agent.set_epsilon(0.9, 0.001, EPISODE_COUNT-2)\n",
    "\n",
    "# Test the model\n",
    "hyperparams = {**config.__dict__, **sim_args}\n",
    "tags = [\"Rew: normalized speed\",\n",
    "        \"Final\",\n",
    "        f\"{Agent.NAME}\",\n",
    "        sim_args['scenario'],\n",
    "        f\"LR: {lr}\",\n",
    "        f\"Instances: {threads_no}\",\n",
    "        f\"Station count: {sim_args['nWifi']}\",\n",
    "        *[f\"{key}: {sim_args[key]}\" for key in list(sim_args)[:3]]]\n",
    "# # agent.save()\n",
    "logger = teacher.train(agent, EPISODE_COUNT,\n",
    "                        simTime=simTime,\n",
    "                        stepTime=stepTime,\n",
    "                        history_length=history_length,\n",
    "                        send_logs=True,\n",
    "                        experimental=True,\n",
    "                        tags=tags,\n",
    "                        parameters=hyperparams)\n",
    "logger = teacher.eval(agent,\n",
    "                        simTime=simTime,\n",
    "                        stepTime=stepTime,\n",
    "                        history_length=history_length,\n",
    "                        tags=tags,\n",
    "                        parameters=hyperparams)\n",
    "# agent.save()\n",
    "\n",
    "\n",
    "# %%"
   ]
  },
  {
   "cell_type": "code",
   "execution_count": null,
   "id": "32d69ea0",
   "metadata": {},
   "outputs": [],
   "source": []
  },
  {
   "cell_type": "markdown",
   "id": "b0f54d2c",
   "metadata": {},
   "source": [
    "# Execution num2: "
   ]
  },
  {
   "cell_type": "code",
   "execution_count": 1,
   "id": "9ba430c5",
   "metadata": {},
   "outputs": [
    {
     "name": "stderr",
     "output_type": "stream",
     "text": [
      "/home/samuel/anaconda3/envs/myEnv3_7/lib/python3.7/site-packages/tensorflow/python/framework/dtypes.py:516: FutureWarning: Passing (type, 1) or '1type' as a synonym of type is deprecated; in a future version of numpy, it will be understood as (type, (1,)) / '(1,)type'.\n",
      "  _np_qint8 = np.dtype([(\"qint8\", np.int8, 1)])\n",
      "/home/samuel/anaconda3/envs/myEnv3_7/lib/python3.7/site-packages/tensorflow/python/framework/dtypes.py:517: FutureWarning: Passing (type, 1) or '1type' as a synonym of type is deprecated; in a future version of numpy, it will be understood as (type, (1,)) / '(1,)type'.\n",
      "  _np_quint8 = np.dtype([(\"quint8\", np.uint8, 1)])\n",
      "/home/samuel/anaconda3/envs/myEnv3_7/lib/python3.7/site-packages/tensorflow/python/framework/dtypes.py:518: FutureWarning: Passing (type, 1) or '1type' as a synonym of type is deprecated; in a future version of numpy, it will be understood as (type, (1,)) / '(1,)type'.\n",
      "  _np_qint16 = np.dtype([(\"qint16\", np.int16, 1)])\n",
      "/home/samuel/anaconda3/envs/myEnv3_7/lib/python3.7/site-packages/tensorflow/python/framework/dtypes.py:519: FutureWarning: Passing (type, 1) or '1type' as a synonym of type is deprecated; in a future version of numpy, it will be understood as (type, (1,)) / '(1,)type'.\n",
      "  _np_quint16 = np.dtype([(\"quint16\", np.uint16, 1)])\n",
      "/home/samuel/anaconda3/envs/myEnv3_7/lib/python3.7/site-packages/tensorflow/python/framework/dtypes.py:520: FutureWarning: Passing (type, 1) or '1type' as a synonym of type is deprecated; in a future version of numpy, it will be understood as (type, (1,)) / '(1,)type'.\n",
      "  _np_qint32 = np.dtype([(\"qint32\", np.int32, 1)])\n",
      "/home/samuel/anaconda3/envs/myEnv3_7/lib/python3.7/site-packages/tensorflow/python/framework/dtypes.py:525: FutureWarning: Passing (type, 1) or '1type' as a synonym of type is deprecated; in a future version of numpy, it will be understood as (type, (1,)) / '(1,)type'.\n",
      "  np_resource = np.dtype([(\"resource\", np.ubyte, 1)])\n",
      "/home/samuel/anaconda3/envs/myEnv3_7/lib/python3.7/site-packages/tensorboard/compat/tensorflow_stub/dtypes.py:541: FutureWarning: Passing (type, 1) or '1type' as a synonym of type is deprecated; in a future version of numpy, it will be understood as (type, (1,)) / '(1,)type'.\n",
      "  _np_qint8 = np.dtype([(\"qint8\", np.int8, 1)])\n",
      "/home/samuel/anaconda3/envs/myEnv3_7/lib/python3.7/site-packages/tensorboard/compat/tensorflow_stub/dtypes.py:542: FutureWarning: Passing (type, 1) or '1type' as a synonym of type is deprecated; in a future version of numpy, it will be understood as (type, (1,)) / '(1,)type'.\n",
      "  _np_quint8 = np.dtype([(\"quint8\", np.uint8, 1)])\n",
      "/home/samuel/anaconda3/envs/myEnv3_7/lib/python3.7/site-packages/tensorboard/compat/tensorflow_stub/dtypes.py:543: FutureWarning: Passing (type, 1) or '1type' as a synonym of type is deprecated; in a future version of numpy, it will be understood as (type, (1,)) / '(1,)type'.\n",
      "  _np_qint16 = np.dtype([(\"qint16\", np.int16, 1)])\n",
      "/home/samuel/anaconda3/envs/myEnv3_7/lib/python3.7/site-packages/tensorboard/compat/tensorflow_stub/dtypes.py:544: FutureWarning: Passing (type, 1) or '1type' as a synonym of type is deprecated; in a future version of numpy, it will be understood as (type, (1,)) / '(1,)type'.\n",
      "  _np_quint16 = np.dtype([(\"quint16\", np.uint16, 1)])\n",
      "/home/samuel/anaconda3/envs/myEnv3_7/lib/python3.7/site-packages/tensorboard/compat/tensorflow_stub/dtypes.py:545: FutureWarning: Passing (type, 1) or '1type' as a synonym of type is deprecated; in a future version of numpy, it will be understood as (type, (1,)) / '(1,)type'.\n",
      "  _np_qint32 = np.dtype([(\"qint32\", np.int32, 1)])\n",
      "/home/samuel/anaconda3/envs/myEnv3_7/lib/python3.7/site-packages/tensorboard/compat/tensorflow_stub/dtypes.py:550: FutureWarning: Passing (type, 1) or '1type' as a synonym of type is deprecated; in a future version of numpy, it will be understood as (type, (1,)) / '(1,)type'.\n",
      "  np_resource = np.dtype([(\"resource\", np.ubyte, 1)])\n"
     ]
    }
   ],
   "source": [
    "#%%\n",
    "from ns3gym import ns3env\n",
    "from comet_ml import Experiment, Optimizer\n",
    "import tqdm\n",
    "import subprocess\n",
    "from collections import deque\n",
    "import numpy as np\n",
    "\n",
    "from agents.dqn.agent import Agent, Config\n",
    "from agents.dqn.model import QNetworkTf\n",
    "from agents.teacher import Teacher, EnvWrapper\n",
    "from preprocessor import Preprocessor"
   ]
  },
  {
   "cell_type": "code",
   "execution_count": 2,
   "id": "b8d566e9",
   "metadata": {},
   "outputs": [
    {
     "name": "stdout",
     "output_type": "stream",
     "text": [
      "Steps per episode: 6000\n",
      "Waiting for simulation script to connect on port: tcp://localhost:18537\n",
      "Please start proper ns-3 simulation script using ./waf --run \"...\"\n",
      "Waf: Entering directory `/home/samuel/ns-allinone-3.29/ns-3.29/build'\n",
      "Waf: Leaving directory `/home/samuel/ns-allinone-3.29/ns-3.29/build'\n",
      "Build commands will be stored in build/compile_commands.json\n",
      "'build' finished successfully (3.663s)\n"
     ]
    },
    {
     "name": "stderr",
     "output_type": "stream",
     "text": [
      "Ns3Env parameters:\n",
      "--nWifi: 5\n",
      "--simulationTime: 60\n",
      "--openGymPort: 18537\n",
      "--envStepTime: 0.01\n",
      "--seed: 42\n",
      "--agentType: discrete\n",
      "--scenario: basic\n",
      "--dryRun: 0\n",
      "Simulation started\n"
     ]
    },
    {
     "name": "stdout",
     "output_type": "stream",
     "text": [
      "Observation space shape: (1, 300)\n",
      "Action space shape: (1, 1)\n"
     ]
    },
    {
     "name": "stderr",
     "output_type": "stream",
     "text": [
      "Simulation process id: 881704 (parent (waf shell) id: 881670)\n",
      "Waiting for Python process to connect on port: tcp://localhost:18537\n",
      "Please start proper Python Gym Agent\n"
     ]
    }
   ],
   "source": [
    "#%%\n",
    "scenario = \"basic\"\n",
    "\n",
    "simTime = 60 # seconds\n",
    "stepTime = 0.01  # seconds\n",
    "history_length = 300\n",
    "\n",
    "EPISODE_COUNT = 15\n",
    "steps_per_ep = int(simTime/stepTime)\n",
    "\n",
    "sim_args = {\n",
    "    \"simTime\": simTime,\n",
    "    \"envStepTime\": stepTime,\n",
    "    \"historyLength\": history_length,\n",
    "    \"agentType\": Agent.TYPE,\n",
    "    \"scenario\": \"basic\",\n",
    "    \"nWifi\": 5,\n",
    "}\n",
    "\n",
    "print(\"Steps per episode:\", steps_per_ep)\n",
    "\n",
    "threads_no = 1\n",
    "env = EnvWrapper(threads_no, **sim_args)\n",
    "\n",
    "#%%\n",
    "env.reset()\n",
    "ob_space = env.observation_space\n",
    "ac_space = env.action_space\n",
    "\n",
    "print(\"Observation space shape:\", ob_space)\n",
    "print(\"Action space shape:\", ac_space)\n",
    "\n",
    "assert ob_space is not None"
   ]
  },
  {
   "cell_type": "code",
   "execution_count": 3,
   "id": "7936bbca",
   "metadata": {},
   "outputs": [
    {
     "name": "stdout",
     "output_type": "stream",
     "text": [
      "WARNING:tensorflow:From /home/samuel/ns-allinone-3.29/ns-3.29/scratch/RLinWiFi-master-original-queue-level-mean/agents/dqn/agent.py:53: The name tf.Session is deprecated. Please use tf.compat.v1.Session instead.\n",
      "\n",
      "WARNING:tensorflow:From /home/samuel/ns-allinone-3.29/ns-3.29/scratch/RLinWiFi-master-original-queue-level-mean/agents/dqn/model.py:25: The name tf.variable_scope is deprecated. Please use tf.compat.v1.variable_scope instead.\n",
      "\n",
      "WARNING:tensorflow:From /home/samuel/ns-allinone-3.29/ns-3.29/scratch/RLinWiFi-master-original-queue-level-mean/agents/dqn/model.py:26: The name tf.placeholder is deprecated. Please use tf.compat.v1.placeholder instead.\n",
      "\n"
     ]
    },
    {
     "name": "stderr",
     "output_type": "stream",
     "text": [
      "2023-02-13 17:42:33.798688: I tensorflow/core/platform/cpu_feature_guard.cc:142] Your CPU supports instructions that this TensorFlow binary was not compiled to use: AVX2 FMA\n",
      "2023-02-13 17:42:33.823989: I tensorflow/core/platform/profile_utils/cpu_utils.cc:94] CPU Frequency: 3491795000 Hz\n",
      "2023-02-13 17:42:33.824752: I tensorflow/compiler/xla/service/service.cc:168] XLA service 0x55704dd77fd0 executing computations on platform Host. Devices:\n",
      "2023-02-13 17:42:33.824943: I tensorflow/compiler/xla/service/service.cc:175]   StreamExecutor device (0): <undefined>, <undefined>\n"
     ]
    },
    {
     "name": "stdout",
     "output_type": "stream",
     "text": [
      "WARNING:tensorflow:\n",
      "The TensorFlow contrib module will not be included in TensorFlow 2.0.\n",
      "For more information, please see:\n",
      "  * https://github.com/tensorflow/community/blob/master/rfcs/20180907-contrib-sunset.md\n",
      "  * https://github.com/tensorflow/addons\n",
      "  * https://github.com/tensorflow/io (for I/O related ops)\n",
      "If you depend on functionality not listed there, please file an issue.\n",
      "\n",
      "WARNING:tensorflow:From /home/samuel/ns-allinone-3.29/ns-3.29/scratch/RLinWiFi-master-original-queue-level-mean/agents/dqn/model.py:52: LSTMCell.__init__ (from tensorflow.python.ops.rnn_cell_impl) is deprecated and will be removed in a future version.\n",
      "Instructions for updating:\n",
      "This class is equivalent as tf.keras.layers.LSTMCell, and will be replaced by that in Tensorflow 2.0.\n",
      "WARNING:tensorflow:From /home/samuel/ns-allinone-3.29/ns-3.29/scratch/RLinWiFi-master-original-queue-level-mean/agents/dqn/model.py:52: static_rnn (from tensorflow.python.ops.rnn) is deprecated and will be removed in a future version.\n",
      "Instructions for updating:\n",
      "Please use `keras.layers.RNN(cell, unroll=True)`, which is equivalent to this API\n",
      "WARNING:tensorflow:From /home/samuel/anaconda3/envs/myEnv3_7/lib/python3.7/site-packages/tensorflow/python/ops/init_ops.py:1251: calling VarianceScaling.__init__ (from tensorflow.python.ops.init_ops) with dtype is deprecated and will be removed in a future version.\n",
      "Instructions for updating:\n",
      "Call initializer instance with the dtype argument instead of passing it to the constructor\n",
      "WARNING:tensorflow:From /home/samuel/anaconda3/envs/myEnv3_7/lib/python3.7/site-packages/tensorflow/python/ops/rnn_cell_impl.py:961: calling Zeros.__init__ (from tensorflow.python.ops.init_ops) with dtype is deprecated and will be removed in a future version.\n",
      "Instructions for updating:\n",
      "Call initializer instance with the dtype argument instead of passing it to the constructor\n",
      "WARNING:tensorflow:Entity <bound method LSTMCell.call of <tensorflow.python.ops.rnn_cell_impl.LSTMCell object at 0x7f7030f0ef10>> could not be transformed and will be executed as-is. Please report this to the AutgoGraph team. When filing the bug, set the verbosity to 10 (on Linux, `export AUTOGRAPH_VERBOSITY=10`) and attach the full output. Cause: converting <bound method LSTMCell.call of <tensorflow.python.ops.rnn_cell_impl.LSTMCell object at 0x7f7030f0ef10>>: AttributeError: module 'gast' has no attribute 'Index'\n",
      "WARNING: Entity <bound method LSTMCell.call of <tensorflow.python.ops.rnn_cell_impl.LSTMCell object at 0x7f7030f0ef10>> could not be transformed and will be executed as-is. Please report this to the AutgoGraph team. When filing the bug, set the verbosity to 10 (on Linux, `export AUTOGRAPH_VERBOSITY=10`) and attach the full output. Cause: converting <bound method LSTMCell.call of <tensorflow.python.ops.rnn_cell_impl.LSTMCell object at 0x7f7030f0ef10>>: AttributeError: module 'gast' has no attribute 'Index'\n",
      "WARNING:tensorflow:Entity <bound method LSTMCell.call of <tensorflow.python.ops.rnn_cell_impl.LSTMCell object at 0x7f7030f0ef10>> could not be transformed and will be executed as-is. Please report this to the AutgoGraph team. When filing the bug, set the verbosity to 10 (on Linux, `export AUTOGRAPH_VERBOSITY=10`) and attach the full output. Cause: converting <bound method LSTMCell.call of <tensorflow.python.ops.rnn_cell_impl.LSTMCell object at 0x7f7030f0ef10>>: AttributeError: module 'gast' has no attribute 'Index'\n",
      "WARNING: Entity <bound method LSTMCell.call of <tensorflow.python.ops.rnn_cell_impl.LSTMCell object at 0x7f7030f0ef10>> could not be transformed and will be executed as-is. Please report this to the AutgoGraph team. When filing the bug, set the verbosity to 10 (on Linux, `export AUTOGRAPH_VERBOSITY=10`) and attach the full output. Cause: converting <bound method LSTMCell.call of <tensorflow.python.ops.rnn_cell_impl.LSTMCell object at 0x7f7030f0ef10>>: AttributeError: module 'gast' has no attribute 'Index'\n",
      "WARNING:tensorflow:Entity <bound method LSTMCell.call of <tensorflow.python.ops.rnn_cell_impl.LSTMCell object at 0x7f7030f0ef10>> could not be transformed and will be executed as-is. Please report this to the AutgoGraph team. When filing the bug, set the verbosity to 10 (on Linux, `export AUTOGRAPH_VERBOSITY=10`) and attach the full output. Cause: converting <bound method LSTMCell.call of <tensorflow.python.ops.rnn_cell_impl.LSTMCell object at 0x7f7030f0ef10>>: AttributeError: module 'gast' has no attribute 'Index'\n",
      "WARNING: Entity <bound method LSTMCell.call of <tensorflow.python.ops.rnn_cell_impl.LSTMCell object at 0x7f7030f0ef10>> could not be transformed and will be executed as-is. Please report this to the AutgoGraph team. When filing the bug, set the verbosity to 10 (on Linux, `export AUTOGRAPH_VERBOSITY=10`) and attach the full output. Cause: converting <bound method LSTMCell.call of <tensorflow.python.ops.rnn_cell_impl.LSTMCell object at 0x7f7030f0ef10>>: AttributeError: module 'gast' has no attribute 'Index'\n",
      "WARNING:tensorflow:Entity <bound method LSTMCell.call of <tensorflow.python.ops.rnn_cell_impl.LSTMCell object at 0x7f7030f0ef10>> could not be transformed and will be executed as-is. Please report this to the AutgoGraph team. When filing the bug, set the verbosity to 10 (on Linux, `export AUTOGRAPH_VERBOSITY=10`) and attach the full output. Cause: converting <bound method LSTMCell.call of <tensorflow.python.ops.rnn_cell_impl.LSTMCell object at 0x7f7030f0ef10>>: AttributeError: module 'gast' has no attribute 'Index'\n",
      "WARNING: Entity <bound method LSTMCell.call of <tensorflow.python.ops.rnn_cell_impl.LSTMCell object at 0x7f7030f0ef10>> could not be transformed and will be executed as-is. Please report this to the AutgoGraph team. When filing the bug, set the verbosity to 10 (on Linux, `export AUTOGRAPH_VERBOSITY=10`) and attach the full output. Cause: converting <bound method LSTMCell.call of <tensorflow.python.ops.rnn_cell_impl.LSTMCell object at 0x7f7030f0ef10>>: AttributeError: module 'gast' has no attribute 'Index'\n",
      "WARNING:tensorflow:From /home/samuel/ns-allinone-3.29/ns-3.29/scratch/RLinWiFi-master-original-queue-level-mean/agents/dqn/model.py:53: dense (from tensorflow.python.layers.core) is deprecated and will be removed in a future version.\n",
      "Instructions for updating:\n",
      "Use keras.layers.dense instead.\n",
      "WARNING:tensorflow:Entity <bound method Dense.call of <tensorflow.python.layers.core.Dense object at 0x7f7030f0ef10>> could not be transformed and will be executed as-is. Please report this to the AutgoGraph team. When filing the bug, set the verbosity to 10 (on Linux, `export AUTOGRAPH_VERBOSITY=10`) and attach the full output. Cause: converting <bound method Dense.call of <tensorflow.python.layers.core.Dense object at 0x7f7030f0ef10>>: AttributeError: module 'gast' has no attribute 'Index'\n",
      "WARNING: Entity <bound method Dense.call of <tensorflow.python.layers.core.Dense object at 0x7f7030f0ef10>> could not be transformed and will be executed as-is. Please report this to the AutgoGraph team. When filing the bug, set the verbosity to 10 (on Linux, `export AUTOGRAPH_VERBOSITY=10`) and attach the full output. Cause: converting <bound method Dense.call of <tensorflow.python.layers.core.Dense object at 0x7f7030f0ef10>>: AttributeError: module 'gast' has no attribute 'Index'\n",
      "WARNING:tensorflow:Entity <bound method Dense.call of <tensorflow.python.layers.core.Dense object at 0x7f7030f0ef10>> could not be transformed and will be executed as-is. Please report this to the AutgoGraph team. When filing the bug, set the verbosity to 10 (on Linux, `export AUTOGRAPH_VERBOSITY=10`) and attach the full output. Cause: converting <bound method Dense.call of <tensorflow.python.layers.core.Dense object at 0x7f7030f0ef10>>: AttributeError: module 'gast' has no attribute 'Index'\n",
      "WARNING: Entity <bound method Dense.call of <tensorflow.python.layers.core.Dense object at 0x7f7030f0ef10>> could not be transformed and will be executed as-is. Please report this to the AutgoGraph team. When filing the bug, set the verbosity to 10 (on Linux, `export AUTOGRAPH_VERBOSITY=10`) and attach the full output. Cause: converting <bound method Dense.call of <tensorflow.python.layers.core.Dense object at 0x7f7030f0ef10>>: AttributeError: module 'gast' has no attribute 'Index'\n",
      "WARNING:tensorflow:Entity <bound method Dense.call of <tensorflow.python.layers.core.Dense object at 0x7f7030f0ef10>> could not be transformed and will be executed as-is. Please report this to the AutgoGraph team. When filing the bug, set the verbosity to 10 (on Linux, `export AUTOGRAPH_VERBOSITY=10`) and attach the full output. Cause: converting <bound method Dense.call of <tensorflow.python.layers.core.Dense object at 0x7f7030f0ef10>>: AttributeError: module 'gast' has no attribute 'Index'\n"
     ]
    },
    {
     "name": "stdout",
     "output_type": "stream",
     "text": [
      "WARNING: Entity <bound method Dense.call of <tensorflow.python.layers.core.Dense object at 0x7f7030f0ef10>> could not be transformed and will be executed as-is. Please report this to the AutgoGraph team. When filing the bug, set the verbosity to 10 (on Linux, `export AUTOGRAPH_VERBOSITY=10`) and attach the full output. Cause: converting <bound method Dense.call of <tensorflow.python.layers.core.Dense object at 0x7f7030f0ef10>>: AttributeError: module 'gast' has no attribute 'Index'\n",
      "WARNING:tensorflow:From /home/samuel/ns-allinone-3.29/ns-3.29/scratch/RLinWiFi-master-original-queue-level-mean/agents/dqn/model.py:69: The name tf.losses.mean_squared_error is deprecated. Please use tf.compat.v1.losses.mean_squared_error instead.\n",
      "\n",
      "WARNING:tensorflow:From /home/samuel/anaconda3/envs/myEnv3_7/lib/python3.7/site-packages/tensorflow/python/ops/losses/losses_impl.py:121: add_dispatch_support.<locals>.wrapper (from tensorflow.python.ops.array_ops) is deprecated and will be removed in a future version.\n",
      "Instructions for updating:\n",
      "Use tf.where in 2.0, which has the same broadcast rule as np.where\n",
      "WARNING:tensorflow:From /home/samuel/ns-allinone-3.29/ns-3.29/scratch/RLinWiFi-master-original-queue-level-mean/agents/dqn/model.py:77: The name tf.train.AdamOptimizer is deprecated. Please use tf.compat.v1.train.AdamOptimizer instead.\n",
      "\n",
      "WARNING:tensorflow:From /home/samuel/ns-allinone-3.29/ns-3.29/scratch/RLinWiFi-master-original-queue-level-mean/agents/dqn/model.py:33: The name tf.global_variables_initializer is deprecated. Please use tf.compat.v1.global_variables_initializer instead.\n",
      "\n",
      "WARNING:tensorflow:From /home/samuel/ns-allinone-3.29/ns-3.29/scratch/RLinWiFi-master-original-queue-level-mean/agents/dqn/model.py:34: The name tf.local_variables_initializer is deprecated. Please use tf.compat.v1.local_variables_initializer instead.\n",
      "\n",
      "WARNING:tensorflow:Entity <bound method LSTMCell.call of <tensorflow.python.ops.rnn_cell_impl.LSTMCell object at 0x7f6ff1eb4c10>> could not be transformed and will be executed as-is. Please report this to the AutgoGraph team. When filing the bug, set the verbosity to 10 (on Linux, `export AUTOGRAPH_VERBOSITY=10`) and attach the full output. Cause: converting <bound method LSTMCell.call of <tensorflow.python.ops.rnn_cell_impl.LSTMCell object at 0x7f6ff1eb4c10>>: AttributeError: module 'gast' has no attribute 'Index'\n"
     ]
    },
    {
     "name": "stderr",
     "output_type": "stream",
     "text": [
      "2023-02-13 17:42:36.452564: W tensorflow/compiler/jit/mark_for_compilation_pass.cc:1412] (One-time warning): Not using XLA:CPU for cluster because envvar TF_XLA_FLAGS=--tf_xla_cpu_global_jit was not set.  If you want XLA:CPU, either set that envvar, or use experimental_jit_scope to enable XLA:CPU.  To confirm that XLA is active, pass --vmodule=xla_compilation_cache=1 (as a proper command-line flag, not via TF_XLA_FLAGS) or set the envvar XLA_FLAGS=--xla_hlo_profile.\n"
     ]
    },
    {
     "name": "stdout",
     "output_type": "stream",
     "text": [
      "WARNING: Entity <bound method LSTMCell.call of <tensorflow.python.ops.rnn_cell_impl.LSTMCell object at 0x7f6ff1eb4c10>> could not be transformed and will be executed as-is. Please report this to the AutgoGraph team. When filing the bug, set the verbosity to 10 (on Linux, `export AUTOGRAPH_VERBOSITY=10`) and attach the full output. Cause: converting <bound method LSTMCell.call of <tensorflow.python.ops.rnn_cell_impl.LSTMCell object at 0x7f6ff1eb4c10>>: AttributeError: module 'gast' has no attribute 'Index'\n",
      "WARNING:tensorflow:Entity <bound method LSTMCell.call of <tensorflow.python.ops.rnn_cell_impl.LSTMCell object at 0x7f6ff1eb4c10>> could not be transformed and will be executed as-is. Please report this to the AutgoGraph team. When filing the bug, set the verbosity to 10 (on Linux, `export AUTOGRAPH_VERBOSITY=10`) and attach the full output. Cause: converting <bound method LSTMCell.call of <tensorflow.python.ops.rnn_cell_impl.LSTMCell object at 0x7f6ff1eb4c10>>: AttributeError: module 'gast' has no attribute 'Index'\n",
      "WARNING: Entity <bound method LSTMCell.call of <tensorflow.python.ops.rnn_cell_impl.LSTMCell object at 0x7f6ff1eb4c10>> could not be transformed and will be executed as-is. Please report this to the AutgoGraph team. When filing the bug, set the verbosity to 10 (on Linux, `export AUTOGRAPH_VERBOSITY=10`) and attach the full output. Cause: converting <bound method LSTMCell.call of <tensorflow.python.ops.rnn_cell_impl.LSTMCell object at 0x7f6ff1eb4c10>>: AttributeError: module 'gast' has no attribute 'Index'\n",
      "WARNING:tensorflow:Entity <bound method LSTMCell.call of <tensorflow.python.ops.rnn_cell_impl.LSTMCell object at 0x7f6ff1eb4c10>> could not be transformed and will be executed as-is. Please report this to the AutgoGraph team. When filing the bug, set the verbosity to 10 (on Linux, `export AUTOGRAPH_VERBOSITY=10`) and attach the full output. Cause: converting <bound method LSTMCell.call of <tensorflow.python.ops.rnn_cell_impl.LSTMCell object at 0x7f6ff1eb4c10>>: AttributeError: module 'gast' has no attribute 'Index'\n",
      "WARNING: Entity <bound method LSTMCell.call of <tensorflow.python.ops.rnn_cell_impl.LSTMCell object at 0x7f6ff1eb4c10>> could not be transformed and will be executed as-is. Please report this to the AutgoGraph team. When filing the bug, set the verbosity to 10 (on Linux, `export AUTOGRAPH_VERBOSITY=10`) and attach the full output. Cause: converting <bound method LSTMCell.call of <tensorflow.python.ops.rnn_cell_impl.LSTMCell object at 0x7f6ff1eb4c10>>: AttributeError: module 'gast' has no attribute 'Index'\n",
      "WARNING:tensorflow:Entity <bound method LSTMCell.call of <tensorflow.python.ops.rnn_cell_impl.LSTMCell object at 0x7f6ff1eb4c10>> could not be transformed and will be executed as-is. Please report this to the AutgoGraph team. When filing the bug, set the verbosity to 10 (on Linux, `export AUTOGRAPH_VERBOSITY=10`) and attach the full output. Cause: converting <bound method LSTMCell.call of <tensorflow.python.ops.rnn_cell_impl.LSTMCell object at 0x7f6ff1eb4c10>>: AttributeError: module 'gast' has no attribute 'Index'\n",
      "WARNING: Entity <bound method LSTMCell.call of <tensorflow.python.ops.rnn_cell_impl.LSTMCell object at 0x7f6ff1eb4c10>> could not be transformed and will be executed as-is. Please report this to the AutgoGraph team. When filing the bug, set the verbosity to 10 (on Linux, `export AUTOGRAPH_VERBOSITY=10`) and attach the full output. Cause: converting <bound method LSTMCell.call of <tensorflow.python.ops.rnn_cell_impl.LSTMCell object at 0x7f6ff1eb4c10>>: AttributeError: module 'gast' has no attribute 'Index'\n",
      "WARNING:tensorflow:Entity <bound method Dense.call of <tensorflow.python.layers.core.Dense object at 0x7f6ff1eb4c10>> could not be transformed and will be executed as-is. Please report this to the AutgoGraph team. When filing the bug, set the verbosity to 10 (on Linux, `export AUTOGRAPH_VERBOSITY=10`) and attach the full output. Cause: converting <bound method Dense.call of <tensorflow.python.layers.core.Dense object at 0x7f6ff1eb4c10>>: AttributeError: module 'gast' has no attribute 'Index'\n",
      "WARNING: Entity <bound method Dense.call of <tensorflow.python.layers.core.Dense object at 0x7f6ff1eb4c10>> could not be transformed and will be executed as-is. Please report this to the AutgoGraph team. When filing the bug, set the verbosity to 10 (on Linux, `export AUTOGRAPH_VERBOSITY=10`) and attach the full output. Cause: converting <bound method Dense.call of <tensorflow.python.layers.core.Dense object at 0x7f6ff1eb4c10>>: AttributeError: module 'gast' has no attribute 'Index'\n",
      "WARNING:tensorflow:Entity <bound method Dense.call of <tensorflow.python.layers.core.Dense object at 0x7f6ff1eb4c10>> could not be transformed and will be executed as-is. Please report this to the AutgoGraph team. When filing the bug, set the verbosity to 10 (on Linux, `export AUTOGRAPH_VERBOSITY=10`) and attach the full output. Cause: converting <bound method Dense.call of <tensorflow.python.layers.core.Dense object at 0x7f6ff1eb4c10>>: AttributeError: module 'gast' has no attribute 'Index'\n",
      "WARNING: Entity <bound method Dense.call of <tensorflow.python.layers.core.Dense object at 0x7f6ff1eb4c10>> could not be transformed and will be executed as-is. Please report this to the AutgoGraph team. When filing the bug, set the verbosity to 10 (on Linux, `export AUTOGRAPH_VERBOSITY=10`) and attach the full output. Cause: converting <bound method Dense.call of <tensorflow.python.layers.core.Dense object at 0x7f6ff1eb4c10>>: AttributeError: module 'gast' has no attribute 'Index'\n",
      "WARNING:tensorflow:Entity <bound method Dense.call of <tensorflow.python.layers.core.Dense object at 0x7f6ff1eb4c10>> could not be transformed and will be executed as-is. Please report this to the AutgoGraph team. When filing the bug, set the verbosity to 10 (on Linux, `export AUTOGRAPH_VERBOSITY=10`) and attach the full output. Cause: converting <bound method Dense.call of <tensorflow.python.layers.core.Dense object at 0x7f6ff1eb4c10>>: AttributeError: module 'gast' has no attribute 'Index'\n",
      "WARNING: Entity <bound method Dense.call of <tensorflow.python.layers.core.Dense object at 0x7f6ff1eb4c10>> could not be transformed and will be executed as-is. Please report this to the AutgoGraph team. When filing the bug, set the verbosity to 10 (on Linux, `export AUTOGRAPH_VERBOSITY=10`) and attach the full output. Cause: converting <bound method Dense.call of <tensorflow.python.layers.core.Dense object at 0x7f6ff1eb4c10>>: AttributeError: module 'gast' has no attribute 'Index'\n",
      "WARNING:tensorflow:From /home/samuel/ns-allinone-3.29/ns-3.29/scratch/RLinWiFi-master-original-queue-level-mean/agents/dqn/agent.py:77: The name tf.train.Saver is deprecated. Please use tf.compat.v1.train.Saver instead.\n",
      "\n",
      "Action space: 7\n",
      "WARNING:tensorflow:From /home/samuel/ns-allinone-3.29/ns-3.29/scratch/RLinWiFi-master-original-queue-level-mean/agents/dqn/agent.py:107: Variable.load (from tensorflow.python.ops.variables) is deprecated and will be removed in a future version.\n",
      "Instructions for updating:\n",
      "Prefer Variable.assign which has equivalent behavior in 2.X.\n"
     ]
    },
    {
     "name": "stderr",
     "output_type": "stream",
     "text": [
      "COMET INFO: Experiment is live on comet.ml https://www.comet.com/sheila-janota/rl-in-wifi-with-queue-level/f34bcd13b9924da5a7a4bf9576504aac\n",
      "\n",
      "  0%|          | 0/6300 [00:00<?, ?it/s]"
     ]
    },
    {
     "name": "stdout",
     "output_type": "stream",
     "text": [
      "0\n"
     ]
    },
    {
     "name": "stderr",
     "output_type": "stream",
     "text": [
      "  5%|▌         | 333/6300 [01:11<26:45,  3.72it/s, curr_speed=27.30 Mbps, mb_sent=8.73 Mb]"
     ]
    },
    {
     "name": "stdout",
     "output_type": "stream",
     "text": [
      "------- STARTED TRAINING -------\n"
     ]
    },
    {
     "name": "stderr",
     "output_type": "stream",
     "text": [
      "100%|██████████| 6300/6300 [28:35<00:00,  3.67it/s, curr_speed=28.90 Mbps, mb_sent=1701.06 Mb]\n"
     ]
    },
    {
     "name": "stdout",
     "output_type": "stream",
     "text": [
      "Waiting for simulation script to connect on port: tcp://localhost:19305\n",
      "Please start proper ns-3 simulation script using ./waf --run \"...\"\n",
      "Waf: Entering directory `/home/samuel/ns-allinone-3.29/ns-3.29/build'\n",
      "Waf: Leaving directory `/home/samuel/ns-allinone-3.29/ns-3.29/build'\n",
      "Build commands will be stored in build/compile_commands.json\n",
      "'build' finished successfully (3.730s)\n"
     ]
    },
    {
     "name": "stderr",
     "output_type": "stream",
     "text": [
      "Ns3Env parameters:\n",
      "--nWifi: 5\n",
      "--simulationTime: 60\n",
      "--openGymPort: 19305\n",
      "--envStepTime: 0.01\n",
      "--seed: 42\n",
      "--agentType: discrete\n",
      "--scenario: basic\n",
      "--dryRun: 0\n",
      "Simulation started\n",
      "Simulation process id: 896148 (parent (waf shell) id: 896121)\n",
      "Waiting for Python process to connect on port: tcp://localhost:19305\n",
      "Please start proper Python Gym Agent\n",
      "  0%|          | 0/6300 [00:00<?, ?it/s]"
     ]
    },
    {
     "name": "stdout",
     "output_type": "stream",
     "text": [
      "Sent 1701.06 Mb/s.\tMean speed: 28.35 Mb/s\tEpisode 1/15 finished\n",
      "\n",
      "1\n"
     ]
    },
    {
     "name": "stderr",
     "output_type": "stream",
     "text": [
      "100%|██████████| 6300/6300 [29:36<00:00,  3.55it/s, curr_speed=31.90 Mbps, mb_sent=1959.71 Mb]\n"
     ]
    },
    {
     "name": "stdout",
     "output_type": "stream",
     "text": [
      "Waiting for simulation script to connect on port: tcp://localhost:47970\n",
      "Please start proper ns-3 simulation script using ./waf --run \"...\"\n",
      "Waf: Entering directory `/home/samuel/ns-allinone-3.29/ns-3.29/build'\n",
      "Waf: Leaving directory `/home/samuel/ns-allinone-3.29/ns-3.29/build'\n",
      "Build commands will be stored in build/compile_commands.json\n",
      "'build' finished successfully (3.701s)\n"
     ]
    },
    {
     "name": "stderr",
     "output_type": "stream",
     "text": [
      "Ns3Env parameters:\n",
      "--nWifi: 5\n",
      "--simulationTime: 60\n",
      "--openGymPort: 47970\n",
      "--envStepTime: 0.01\n",
      "--seed: 42\n",
      "--agentType: discrete\n",
      "--scenario: basic\n",
      "--dryRun: 0\n",
      "Simulation started\n",
      "Simulation process id: 910248 (parent (waf shell) id: 910220)\n",
      "Waiting for Python process to connect on port: tcp://localhost:47970\n",
      "Please start proper Python Gym Agent\n",
      "  0%|          | 1/6300 [00:00<15:06,  6.95it/s, curr_speed=0.00 Mbps, mb_sent=0.00 Mb]"
     ]
    },
    {
     "name": "stdout",
     "output_type": "stream",
     "text": [
      "Sent 1959.71 Mb/s.\tMean speed: 32.66 Mb/s\tEpisode 2/15 finished\n",
      "\n",
      "2\n"
     ]
    },
    {
     "name": "stderr",
     "output_type": "stream",
     "text": [
      "100%|██████████| 6300/6300 [28:48<00:00,  3.64it/s, curr_speed=30.45 Mbps, mb_sent=2100.88 Mb]\n"
     ]
    },
    {
     "name": "stdout",
     "output_type": "stream",
     "text": [
      "Waiting for simulation script to connect on port: tcp://localhost:17139\n",
      "Please start proper ns-3 simulation script using ./waf --run \"...\"\n",
      "Waf: Entering directory `/home/samuel/ns-allinone-3.29/ns-3.29/build'\n",
      "Waf: Leaving directory `/home/samuel/ns-allinone-3.29/ns-3.29/build'\n",
      "Build commands will be stored in build/compile_commands.json\n",
      "'build' finished successfully (3.208s)\n"
     ]
    },
    {
     "name": "stderr",
     "output_type": "stream",
     "text": [
      "Ns3Env parameters:\n",
      "--nWifi: 5\n",
      "--simulationTime: 60\n",
      "--openGymPort: 17139\n",
      "--envStepTime: 0.01\n",
      "--seed: 42\n",
      "--agentType: discrete\n",
      "--scenario: basic\n",
      "--dryRun: 0\n",
      "Simulation started\n",
      "Simulation process id: 922458 (parent (waf shell) id: 922431)\n",
      "Waiting for Python process to connect on port: tcp://localhost:17139\n",
      "Please start proper Python Gym Agent\n",
      "  0%|          | 1/6300 [00:00<13:23,  7.84it/s, curr_speed=0.00 Mbps, mb_sent=0.00 Mb]"
     ]
    },
    {
     "name": "stdout",
     "output_type": "stream",
     "text": [
      "Sent 2100.88 Mb/s.\tMean speed: 35.01 Mb/s\tEpisode 3/15 finished\n",
      "\n",
      "3\n"
     ]
    },
    {
     "name": "stderr",
     "output_type": "stream",
     "text": [
      "  5%|▍         | 304/6300 [00:54<24:07,  4.14it/s, curr_speed=37.60 Mbps, mb_sent=1.13 Mb]"
     ]
    },
    {
     "name": "stdout",
     "output_type": "stream",
     "text": [
      "------- MEMORY BUFFER FILLED -------\n"
     ]
    },
    {
     "name": "stderr",
     "output_type": "stream",
     "text": [
      "100%|██████████| 6300/6300 [28:45<00:00,  3.65it/s, curr_speed=37.83 Mbps, mb_sent=2202.17 Mb]\n"
     ]
    },
    {
     "name": "stdout",
     "output_type": "stream",
     "text": [
      "Waiting for simulation script to connect on port: tcp://localhost:26650\n",
      "Please start proper ns-3 simulation script using ./waf --run \"...\"\n",
      "Waf: Entering directory `/home/samuel/ns-allinone-3.29/ns-3.29/build'\n",
      "Waf: Leaving directory `/home/samuel/ns-allinone-3.29/ns-3.29/build'\n",
      "Build commands will be stored in build/compile_commands.json\n",
      "'build' finished successfully (3.431s)\n"
     ]
    },
    {
     "name": "stderr",
     "output_type": "stream",
     "text": [
      "Ns3Env parameters:\n",
      "--nWifi: 5\n",
      "--simulationTime: 60\n",
      "--openGymPort: 26650\n",
      "--envStepTime: 0.01\n",
      "--seed: 42\n",
      "--agentType: discrete\n",
      "--scenario: basic\n",
      "--dryRun: 0\n",
      "Simulation started\n",
      "Simulation process id: 934758 (parent (waf shell) id: 934732)\n",
      "Waiting for Python process to connect on port: tcp://localhost:26650\n",
      "Please start proper Python Gym Agent\n",
      "  0%|          | 1/6300 [00:00<15:36,  6.72it/s, curr_speed=0.00 Mbps, mb_sent=0.00 Mb]"
     ]
    },
    {
     "name": "stdout",
     "output_type": "stream",
     "text": [
      "Sent 2202.17 Mb/s.\tMean speed: 36.70 Mb/s\tEpisode 4/15 finished\n",
      "\n",
      "4\n"
     ]
    },
    {
     "name": "stderr",
     "output_type": "stream",
     "text": [
      "100%|██████████| 6300/6300 [28:12<00:00,  3.72it/s, curr_speed=37.06 Mbps, mb_sent=2249.07 Mb]\n"
     ]
    },
    {
     "name": "stdout",
     "output_type": "stream",
     "text": [
      "Waiting for simulation script to connect on port: tcp://localhost:34161\n",
      "Please start proper ns-3 simulation script using ./waf --run \"...\"\n",
      "Waf: Entering directory `/home/samuel/ns-allinone-3.29/ns-3.29/build'\n",
      "Waf: Leaving directory `/home/samuel/ns-allinone-3.29/ns-3.29/build'\n",
      "Build commands will be stored in build/compile_commands.json\n",
      "'build' finished successfully (3.696s)\n"
     ]
    },
    {
     "name": "stderr",
     "output_type": "stream",
     "text": [
      "Ns3Env parameters:\n",
      "--nWifi: 5\n",
      "--simulationTime: 60\n",
      "--openGymPort: 34161\n",
      "--envStepTime: 0.01\n",
      "--seed: 42\n",
      "--agentType: discrete\n",
      "--scenario: basic\n",
      "--dryRun: 0\n",
      "Simulation started\n",
      "Simulation process id: 946522 (parent (waf shell) id: 946490)\n",
      "Waiting for Python process to connect on port: tcp://localhost:34161\n",
      "Please start proper Python Gym Agent\n",
      "  0%|          | 0/6300 [00:00<?, ?it/s]"
     ]
    },
    {
     "name": "stdout",
     "output_type": "stream",
     "text": [
      "Sent 2249.07 Mb/s.\tMean speed: 37.48 Mb/s\tEpisode 5/15 finished\n",
      "\n",
      "5\n"
     ]
    },
    {
     "name": "stderr",
     "output_type": "stream",
     "text": [
      "100%|██████████| 6300/6300 [28:36<00:00,  3.67it/s, curr_speed=36.27 Mbps, mb_sent=2281.99 Mb]\n"
     ]
    },
    {
     "name": "stdout",
     "output_type": "stream",
     "text": [
      "Waiting for simulation script to connect on port: tcp://localhost:24343\n",
      "Please start proper ns-3 simulation script using ./waf --run \"...\"\n",
      "Waf: Entering directory `/home/samuel/ns-allinone-3.29/ns-3.29/build'\n",
      "Waf: Leaving directory `/home/samuel/ns-allinone-3.29/ns-3.29/build'\n",
      "Build commands will be stored in build/compile_commands.json\n",
      "'build' finished successfully (3.064s)\n"
     ]
    },
    {
     "name": "stderr",
     "output_type": "stream",
     "text": [
      "Ns3Env parameters:\n",
      "--nWifi: 5\n",
      "--simulationTime: 60\n",
      "--openGymPort: 24343\n",
      "--envStepTime: 0.01\n",
      "--seed: 42\n",
      "--agentType: discrete\n",
      "--scenario: basic\n",
      "--dryRun: 0\n",
      "Simulation started\n",
      "Simulation process id: 958846 (parent (waf shell) id: 958820)\n",
      "Waiting for Python process to connect on port: tcp://localhost:24343\n",
      "Please start proper Python Gym Agent\n",
      "  0%|          | 0/6300 [00:00<?, ?it/s]"
     ]
    },
    {
     "name": "stdout",
     "output_type": "stream",
     "text": [
      "Sent 2281.99 Mb/s.\tMean speed: 38.03 Mb/s\tEpisode 6/15 finished\n",
      "\n",
      "6\n"
     ]
    },
    {
     "name": "stderr",
     "output_type": "stream",
     "text": [
      "100%|██████████| 6300/6300 [27:41<00:00,  3.79it/s, curr_speed=38.07 Mbps, mb_sent=2301.94 Mb]\n"
     ]
    },
    {
     "name": "stdout",
     "output_type": "stream",
     "text": [
      "Waiting for simulation script to connect on port: tcp://localhost:45528\n",
      "Please start proper ns-3 simulation script using ./waf --run \"...\"\n",
      "Waf: Entering directory `/home/samuel/ns-allinone-3.29/ns-3.29/build'\n",
      "Waf: Leaving directory `/home/samuel/ns-allinone-3.29/ns-3.29/build'\n",
      "Build commands will be stored in build/compile_commands.json\n",
      "'build' finished successfully (2.959s)\n"
     ]
    },
    {
     "name": "stderr",
     "output_type": "stream",
     "text": [
      "Ns3Env parameters:\n",
      "--nWifi: 5\n",
      "--simulationTime: 60\n",
      "--openGymPort: 45528\n",
      "--envStepTime: 0.01\n",
      "--seed: 42\n",
      "--agentType: discrete\n",
      "--scenario: basic\n",
      "--dryRun: 0\n",
      "Simulation started\n",
      "Simulation process id: 970762 (parent (waf shell) id: 970738)\n",
      "Waiting for Python process to connect on port: tcp://localhost:45528\n",
      "Please start proper Python Gym Agent\n",
      "  0%|          | 1/6300 [00:00<15:47,  6.65it/s, curr_speed=0.00 Mbps, mb_sent=0.00 Mb]"
     ]
    },
    {
     "name": "stdout",
     "output_type": "stream",
     "text": [
      "Sent 2301.94 Mb/s.\tMean speed: 38.37 Mb/s\tEpisode 7/15 finished\n",
      "\n",
      "7\n"
     ]
    },
    {
     "name": "stderr",
     "output_type": "stream",
     "text": [
      "100%|██████████| 6300/6300 [26:35<00:00,  3.95it/s, curr_speed=38.76 Mbps, mb_sent=2312.41 Mb]\n"
     ]
    },
    {
     "name": "stdout",
     "output_type": "stream",
     "text": [
      "Waiting for simulation script to connect on port: tcp://localhost:43198\n",
      "Please start proper ns-3 simulation script using ./waf --run \"...\"\n",
      "Waf: Entering directory `/home/samuel/ns-allinone-3.29/ns-3.29/build'\n",
      "Waf: Leaving directory `/home/samuel/ns-allinone-3.29/ns-3.29/build'\n",
      "Build commands will be stored in build/compile_commands.json\n",
      "'build' finished successfully (3.067s)\n"
     ]
    },
    {
     "name": "stderr",
     "output_type": "stream",
     "text": [
      "Ns3Env parameters:\n",
      "--nWifi: 5\n",
      "--simulationTime: 60\n",
      "--openGymPort: 43198\n",
      "--envStepTime: 0.01\n",
      "--seed: 42\n",
      "--agentType: discrete\n",
      "--scenario: basic\n",
      "--dryRun: 0\n",
      "Simulation started\n",
      "Simulation process id: 982770 (parent (waf shell) id: 982743)\n",
      "Waiting for Python process to connect on port: tcp://localhost:43198\n",
      "Please start proper Python Gym Agent\n",
      "  0%|          | 1/6300 [00:00<12:50,  8.17it/s, curr_speed=0.00 Mbps, mb_sent=0.00 Mb]"
     ]
    },
    {
     "name": "stdout",
     "output_type": "stream",
     "text": [
      "Sent 2312.41 Mb/s.\tMean speed: 38.54 Mb/s\tEpisode 8/15 finished\n",
      "\n",
      "8\n"
     ]
    },
    {
     "name": "stderr",
     "output_type": "stream",
     "text": [
      "100%|██████████| 6300/6300 [29:30<00:00,  3.56it/s, curr_speed=38.95 Mbps, mb_sent=2322.48 Mb]\n"
     ]
    },
    {
     "name": "stdout",
     "output_type": "stream",
     "text": [
      "Waiting for simulation script to connect on port: tcp://localhost:30070\n",
      "Please start proper ns-3 simulation script using ./waf --run \"...\"\n",
      "Waf: Entering directory `/home/samuel/ns-allinone-3.29/ns-3.29/build'\n",
      "Waf: Leaving directory `/home/samuel/ns-allinone-3.29/ns-3.29/build'\n",
      "Build commands will be stored in build/compile_commands.json\n",
      "'build' finished successfully (3.890s)\n"
     ]
    },
    {
     "name": "stderr",
     "output_type": "stream",
     "text": [
      "Ns3Env parameters:\n",
      "--nWifi: 5\n",
      "--simulationTime: 60\n",
      "--openGymPort: 30070\n",
      "--envStepTime: 0.01\n",
      "--seed: 42\n",
      "--agentType: discrete\n",
      "--scenario: basic\n",
      "--dryRun: 0\n",
      "Simulation started\n",
      "Simulation process id: 995908 (parent (waf shell) id: 995874)\n",
      "Waiting for Python process to connect on port: tcp://localhost:30070\n",
      "Please start proper Python Gym Agent\n",
      "  0%|          | 0/6300 [00:00<?, ?it/s]"
     ]
    },
    {
     "name": "stdout",
     "output_type": "stream",
     "text": [
      "Sent 2322.48 Mb/s.\tMean speed: 38.71 Mb/s\tEpisode 9/15 finished\n",
      "\n",
      "9\n"
     ]
    },
    {
     "name": "stderr",
     "output_type": "stream",
     "text": [
      "100%|██████████| 6300/6300 [30:56<00:00,  3.39it/s, curr_speed=38.36 Mbps, mb_sent=2326.76 Mb]\n"
     ]
    },
    {
     "name": "stdout",
     "output_type": "stream",
     "text": [
      "Waiting for simulation script to connect on port: tcp://localhost:34444\n",
      "Please start proper ns-3 simulation script using ./waf --run \"...\"\n",
      "Waf: Entering directory `/home/samuel/ns-allinone-3.29/ns-3.29/build'\n",
      "Waf: Leaving directory `/home/samuel/ns-allinone-3.29/ns-3.29/build'\n",
      "Build commands will be stored in build/compile_commands.json\n",
      "'build' finished successfully (3.897s)\n"
     ]
    },
    {
     "name": "stderr",
     "output_type": "stream",
     "text": [
      "Ns3Env parameters:\n",
      "--nWifi: 5\n",
      "--simulationTime: 60\n",
      "--openGymPort: 34444\n",
      "--envStepTime: 0.01\n",
      "--seed: 42\n",
      "--agentType: discrete\n",
      "--scenario: basic\n",
      "--dryRun: 0\n",
      "Simulation started\n",
      "Simulation process id: 1011224 (parent (waf shell) id: 1011190)\n",
      "Waiting for Python process to connect on port: tcp://localhost:34444\n",
      "Please start proper Python Gym Agent\n",
      "  0%|          | 0/6300 [00:00<?, ?it/s]"
     ]
    },
    {
     "name": "stdout",
     "output_type": "stream",
     "text": [
      "Sent 2326.76 Mb/s.\tMean speed: 38.78 Mb/s\tEpisode 10/15 finished\n",
      "\n",
      "10\n"
     ]
    },
    {
     "name": "stderr",
     "output_type": "stream",
     "text": [
      "100%|██████████| 6300/6300 [30:20<00:00,  3.46it/s, curr_speed=39.15 Mbps, mb_sent=2329.18 Mb]\n"
     ]
    },
    {
     "name": "stdout",
     "output_type": "stream",
     "text": [
      "Waiting for simulation script to connect on port: tcp://localhost:23225\n",
      "Please start proper ns-3 simulation script using ./waf --run \"...\"\n",
      "Waf: Entering directory `/home/samuel/ns-allinone-3.29/ns-3.29/build'\n",
      "Waf: Leaving directory `/home/samuel/ns-allinone-3.29/ns-3.29/build'\n",
      "Build commands will be stored in build/compile_commands.json\n",
      "'build' finished successfully (3.685s)\n"
     ]
    },
    {
     "name": "stderr",
     "output_type": "stream",
     "text": [
      "Ns3Env parameters:\n",
      "--nWifi: 5\n",
      "--simulationTime: 60\n",
      "--openGymPort: 23225\n",
      "--envStepTime: 0.01\n",
      "--seed: 42\n",
      "--agentType: discrete\n",
      "--scenario: basic\n",
      "--dryRun: 0\n",
      "Simulation started\n",
      "Simulation process id: 1025981 (parent (waf shell) id: 1025946)\n",
      "Waiting for Python process to connect on port: tcp://localhost:23225\n",
      "Please start proper Python Gym Agent\n",
      "  0%|          | 1/6300 [00:00<18:29,  5.68it/s, curr_speed=0.00 Mbps, mb_sent=0.00 Mb]"
     ]
    },
    {
     "name": "stdout",
     "output_type": "stream",
     "text": [
      "Sent 2329.18 Mb/s.\tMean speed: 38.82 Mb/s\tEpisode 11/15 finished\n",
      "\n",
      "11\n"
     ]
    },
    {
     "name": "stderr",
     "output_type": "stream",
     "text": [
      "100%|██████████| 6300/6300 [30:51<00:00,  3.40it/s, curr_speed=38.52 Mbps, mb_sent=2329.83 Mb]\n"
     ]
    },
    {
     "name": "stdout",
     "output_type": "stream",
     "text": [
      "Waiting for simulation script to connect on port: tcp://localhost:21097\n",
      "Please start proper ns-3 simulation script using ./waf --run \"...\"\n",
      "Waf: Entering directory `/home/samuel/ns-allinone-3.29/ns-3.29/build'\n",
      "Waf: Leaving directory `/home/samuel/ns-allinone-3.29/ns-3.29/build'\n",
      "Build commands will be stored in build/compile_commands.json\n",
      "'build' finished successfully (3.760s)\n"
     ]
    },
    {
     "name": "stderr",
     "output_type": "stream",
     "text": [
      "Ns3Env parameters:\n",
      "--nWifi: 5\n",
      "--simulationTime: 60\n",
      "--openGymPort: 21097\n",
      "--envStepTime: 0.01\n",
      "--seed: 42\n",
      "--agentType: discrete\n",
      "--scenario: basic\n",
      "--dryRun: 0\n",
      "Simulation started\n"
     ]
    },
    {
     "name": "stdout",
     "output_type": "stream",
     "text": [
      "WARNING:tensorflow:From /home/samuel/anaconda3/envs/myEnv3_7/lib/python3.7/site-packages/tensorflow/python/training/saver.py:960: remove_checkpoint (from tensorflow.python.training.checkpoint_management) is deprecated and will be removed in a future version.\n",
      "Instructions for updating:\n",
      "Use standard file APIs to delete files with this prefix.\n"
     ]
    },
    {
     "name": "stderr",
     "output_type": "stream",
     "text": [
      "Simulation process id: 1041106 (parent (waf shell) id: 1041070)\n",
      "Waiting for Python process to connect on port: tcp://localhost:21097\n",
      "Please start proper Python Gym Agent\n",
      "  0%|          | 0/6300 [00:00<?, ?it/s]"
     ]
    },
    {
     "name": "stdout",
     "output_type": "stream",
     "text": [
      "Sent 2329.83 Mb/s.\tMean speed: 38.83 Mb/s\tEpisode 12/15 finished\n",
      "\n",
      "12\n",
      "Turning off noise\n"
     ]
    },
    {
     "name": "stderr",
     "output_type": "stream",
     "text": [
      "100%|██████████| 6300/6300 [30:43<00:00,  3.42it/s, curr_speed=39.18 Mbps, mb_sent=2334.37 Mb]\n"
     ]
    },
    {
     "name": "stdout",
     "output_type": "stream",
     "text": [
      "Waiting for simulation script to connect on port: tcp://localhost:35879\n",
      "Please start proper ns-3 simulation script using ./waf --run \"...\"\n",
      "Waf: Entering directory `/home/samuel/ns-allinone-3.29/ns-3.29/build'\n",
      "Waf: Leaving directory `/home/samuel/ns-allinone-3.29/ns-3.29/build'\n",
      "Build commands will be stored in build/compile_commands.json\n",
      "'build' finished successfully (4.106s)\n"
     ]
    },
    {
     "name": "stderr",
     "output_type": "stream",
     "text": [
      "Ns3Env parameters:\n",
      "--nWifi: 5\n",
      "--simulationTime: 60\n",
      "--openGymPort: 35879\n",
      "--envStepTime: 0.01\n",
      "--seed: 42\n",
      "--agentType: discrete\n",
      "--scenario: basic\n",
      "--dryRun: 0\n",
      "Simulation started\n",
      "Simulation process id: 1055549 (parent (waf shell) id: 1055512)\n",
      "Waiting for Python process to connect on port: tcp://localhost:35879\n",
      "Please start proper Python Gym Agent\n",
      "  0%|          | 1/6300 [00:00<18:02,  5.82it/s, curr_speed=0.00 Mbps, mb_sent=0.00 Mb]"
     ]
    },
    {
     "name": "stdout",
     "output_type": "stream",
     "text": [
      "Sent 2334.37 Mb/s.\tMean speed: 38.91 Mb/s\tEpisode 13/15 finished\n",
      "\n",
      "13\n",
      "Turning off noise\n"
     ]
    },
    {
     "name": "stderr",
     "output_type": "stream",
     "text": [
      "100%|██████████| 6300/6300 [30:38<00:00,  3.43it/s, curr_speed=38.68 Mbps, mb_sent=2329.79 Mb]\n"
     ]
    },
    {
     "name": "stdout",
     "output_type": "stream",
     "text": [
      "Waiting for simulation script to connect on port: tcp://localhost:16778\n",
      "Please start proper ns-3 simulation script using ./waf --run \"...\"\n",
      "Waf: Entering directory `/home/samuel/ns-allinone-3.29/ns-3.29/build'\n",
      "Waf: Leaving directory `/home/samuel/ns-allinone-3.29/ns-3.29/build'\n",
      "Build commands will be stored in build/compile_commands.json\n",
      "'build' finished successfully (3.722s)\n"
     ]
    },
    {
     "name": "stderr",
     "output_type": "stream",
     "text": [
      "Ns3Env parameters:\n",
      "--nWifi: 5\n",
      "--simulationTime: 60\n",
      "--openGymPort: 16778\n",
      "--envStepTime: 0.01\n",
      "--seed: 42\n",
      "--agentType: discrete\n",
      "--scenario: basic\n",
      "--dryRun: 0\n",
      "Simulation started\n",
      "Simulation process id: 1070552 (parent (waf shell) id: 1070519)\n",
      "Waiting for Python process to connect on port: tcp://localhost:16778\n",
      "Please start proper Python Gym Agent\n",
      "  0%|          | 0/6300 [00:00<?, ?it/s]"
     ]
    },
    {
     "name": "stdout",
     "output_type": "stream",
     "text": [
      "Sent 2329.79 Mb/s.\tMean speed: 38.83 Mb/s\tEpisode 14/15 finished\n",
      "\n",
      "14\n",
      "Turning off noise\n"
     ]
    },
    {
     "name": "stderr",
     "output_type": "stream",
     "text": [
      "100%|██████████| 6300/6300 [28:02<00:00,  3.75it/s, curr_speed=39.17 Mbps, mb_sent=2338.10 Mb]\n"
     ]
    },
    {
     "name": "stdout",
     "output_type": "stream",
     "text": [
      "Waiting for simulation script to connect on port: tcp://localhost:30114\n",
      "Please start proper ns-3 simulation script using ./waf --run \"...\"\n",
      "Waf: Entering directory `/home/samuel/ns-allinone-3.29/ns-3.29/build'\n",
      "Waf: Leaving directory `/home/samuel/ns-allinone-3.29/ns-3.29/build'\n",
      "Build commands will be stored in build/compile_commands.json\n",
      "'build' finished successfully (3.837s)\n"
     ]
    },
    {
     "name": "stderr",
     "output_type": "stream",
     "text": [
      "Ns3Env parameters:\n",
      "--nWifi: 5\n",
      "--simulationTime: 60\n",
      "--openGymPort: 30114\n",
      "--envStepTime: 0.01\n",
      "--seed: 42\n",
      "--agentType: discrete\n",
      "--scenario: basic\n",
      "--dryRun: 0\n",
      "Simulation started\n",
      "Simulation process id: 1084542 (parent (waf shell) id: 1084509)\n",
      "Waiting for Python process to connect on port: tcp://localhost:30114\n",
      "Please start proper Python Gym Agent\n",
      "COMET INFO: ----------------------------\n",
      "COMET INFO: Comet.ml Experiment Summary:\n",
      "COMET INFO:   Data:\n",
      "COMET INFO:     url: https://www.comet.com/sheila-janota/rl-in-wifi-with-queue-level/f34bcd13b9924da5a7a4bf9576504aac\n",
      "COMET INFO:   Metrics [count] (min, max):\n",
      "COMET INFO:     Chosen CW [89985]           : (16.0, 1024.0)\n",
      "COMET INFO:     Cumulative reward [15]      : (2376.006591796875, 3272.688720703125)\n",
      "COMET INFO:     Current throughput [89985]  : (20.104999542236328, 42.44380187988281)\n",
      "COMET INFO:     Fairness index [89985]      : (0.9138569831848145, 0.9999669790267944)\n",
      "COMET INFO:     Megabytes sent [89985]      : (0.22338899970054626, 2338.09754678607)\n",
      "COMET INFO:     Observation 0 [89985]       : (0.7959083149582147, 0.8333333134651184)\n",
      "COMET INFO:     Observation 1 [89985]       : (0.0, 0.10239857025057955)\n",
      "COMET INFO:     Per-ep reward [89985]       : (108.3583984375, 3272.688720703125)\n",
      "COMET INFO:     Round megabytes sent [89985]: (0.05584700033068657, 0.4691160023212433)\n",
      "COMET INFO:     Round reward [89985]        : (0.074462890625, 0.62548828125)\n",
      "COMET INFO:     Speed [15]                  : (28.3510014027978, 38.968292446434496)\n",
      "COMET INFO:     Station count [89985]       : (5.0, 5.0)\n",
      "COMET INFO:     loss [89985]                : (0.0, 0.17417849600315094)\n",
      "COMET INFO:   Uploads:\n",
      "COMET INFO:     histogram3d: 89985\n",
      "COMET INFO: ----------------------------\n"
     ]
    },
    {
     "name": "stdout",
     "output_type": "stream",
     "text": [
      "Sent 2338.10 Mb/s.\tMean speed: 38.97 Mb/s\tEpisode 15/15 finished\n",
      "\n"
     ]
    },
    {
     "name": "stderr",
     "output_type": "stream",
     "text": [
      "COMET INFO: Uploading stats to Comet before program termination (may take several seconds)\n"
     ]
    },
    {
     "name": "stdout",
     "output_type": "stream",
     "text": [
      "Training finished.\n"
     ]
    },
    {
     "name": "stderr",
     "output_type": "stream",
     "text": [
      "COMET INFO: Experiment is live on comet.ml https://www.comet.com/sheila-janota/rl-in-wifi-with-queue-level/c65f7dd16cd846db9987cc3dea18a286\n",
      "\n",
      "100%|██████████| 6300/6300 [27:20<00:00,  3.84it/s, curr_speed=39.17 Mbps, mb_sent=2338.10 Mb]\n"
     ]
    },
    {
     "name": "stdout",
     "output_type": "stream",
     "text": [
      "Waiting for simulation script to connect on port: tcp://localhost:26799\n",
      "Please start proper ns-3 simulation script using ./waf --run \"...\"\n",
      "Waf: Entering directory `/home/samuel/ns-allinone-3.29/ns-3.29/build'\n",
      "Waf: Leaving directory `/home/samuel/ns-allinone-3.29/ns-3.29/build'\n",
      "Build commands will be stored in build/compile_commands.json\n",
      "'build' finished successfully (3.599s)\n"
     ]
    },
    {
     "name": "stderr",
     "output_type": "stream",
     "text": [
      "Ns3Env parameters:\n",
      "--nWifi: 5\n",
      "--simulationTime: 60\n",
      "--openGymPort: 26799\n",
      "--envStepTime: 0.01\n",
      "--seed: 42\n",
      "--agentType: discrete\n",
      "--scenario: basic\n",
      "--dryRun: 0\n",
      "Simulation started\n",
      "Simulation process id: 1098938 (parent (waf shell) id: 1098907)\n",
      "Waiting for Python process to connect on port: tcp://localhost:26799\n",
      "Please start proper Python Gym Agent\n",
      "COMET INFO: ----------------------------\n",
      "COMET INFO: Comet.ml Experiment Summary:\n",
      "COMET INFO:   Data:\n",
      "COMET INFO:     url: https://www.comet.com/sheila-janota/rl-in-wifi-with-queue-level/c65f7dd16cd846db9987cc3dea18a286\n",
      "COMET INFO:   Metrics [count] (min, max):\n",
      "COMET INFO:     Chosen CW [5999]           : (32.0, 32.0)\n",
      "COMET INFO:     Cumulative reward          : (3272.688720703125, 3272.688720703125)\n",
      "COMET INFO:     Current throughput [5999]  : (38.36700439453125, 40.209999084472656)\n",
      "COMET INFO:     Fairness index [5999]      : (0.9699320197105408, 0.9999369978904724)\n",
      "COMET INFO:     Megabytes sent [5999]      : (0.40209999680519104, 2338.09754678607)\n",
      "COMET INFO:     Observation 0 [5999]       : (0.7959083149582147, 0.8333333134651184)\n",
      "COMET INFO:     Observation 1 [5999]       : (0.0, 0.10239857025057955)\n",
      "COMET INFO:     Per-ep reward [5999]       : (155.761474609375, 3272.688720703125)\n",
      "COMET INFO:     Round megabytes sent [5999]: (0.3015750050544739, 0.4579469859600067)\n",
      "COMET INFO:     Round reward [5999]        : (0.402099609375, 0.610595703125)\n",
      "COMET INFO:     Speed                      : (38.968292446434496, 38.968292446434496)\n",
      "COMET INFO:     Station count [5999]       : (5.0, 5.0)\n",
      "COMET INFO:     loss [5999]                : (0.0013667208444803703, 0.0013667208444803703)\n",
      "COMET INFO:   Uploads:\n",
      "COMET INFO:     histogram3d: 5999\n",
      "COMET INFO: ----------------------------\n",
      "COMET INFO: Uploading stats to Comet before program termination (may take several seconds)\n"
     ]
    },
    {
     "name": "stdout",
     "output_type": "stream",
     "text": [
      "Sent 2338.10 Mb/s.\tMean speed: 38.97 Mb/s\tEval finished\n",
      "\n"
     ]
    }
   ],
   "source": [
    "#%%\n",
    "teacher = Teacher(env, 1, Preprocessor(False))\n",
    "\n",
    "lr = 4e-4\n",
    "config = Config(buffer_size=3*steps_per_ep*threads_no, batch_size=32, gamma=0.7, tau=1e-3, lr=lr, update_every=1)\n",
    "agent = Agent(QNetworkTf, history_length, action_size=7, config=config)\n",
    "agent.set_epsilon(0.9, 0.001, EPISODE_COUNT-2)\n",
    "\n",
    "# Test the model\n",
    "hyperparams = {**config.__dict__, **sim_args}\n",
    "tags = [\"Rew: normalized speed\",\n",
    "        \"Final\",\n",
    "        f\"{Agent.NAME}\",\n",
    "        sim_args['scenario'],\n",
    "        f\"LR: {lr}\",\n",
    "        f\"Instances: {threads_no}\",\n",
    "        f\"Station count: {sim_args['nWifi']}\",\n",
    "        *[f\"{key}: {sim_args[key]}\" for key in list(sim_args)[:3]]]\n",
    "# # agent.save()\n",
    "logger = teacher.train(agent, EPISODE_COUNT,\n",
    "                        simTime=simTime,\n",
    "                        stepTime=stepTime,\n",
    "                        history_length=history_length,\n",
    "                        send_logs=True,\n",
    "                        experimental=True,\n",
    "                        tags=tags,\n",
    "                        parameters=hyperparams)\n",
    "logger = teacher.eval(agent,\n",
    "                        simTime=simTime,\n",
    "                        stepTime=stepTime,\n",
    "                        history_length=history_length,\n",
    "                        tags=tags,\n",
    "                        parameters=hyperparams)\n",
    "# agent.save()\n",
    "\n",
    "\n",
    "# %%"
   ]
  },
  {
   "cell_type": "code",
   "execution_count": null,
   "id": "d49569e7",
   "metadata": {},
   "outputs": [],
   "source": []
  },
  {
   "cell_type": "markdown",
   "id": "ecdfcbf6",
   "metadata": {},
   "source": [
    "# Execution num3"
   ]
  },
  {
   "cell_type": "code",
   "execution_count": 1,
   "id": "b6a48424",
   "metadata": {},
   "outputs": [
    {
     "name": "stderr",
     "output_type": "stream",
     "text": [
      "/home/samuel/anaconda3/envs/myEnv3_7/lib/python3.7/site-packages/tensorflow/python/framework/dtypes.py:516: FutureWarning: Passing (type, 1) or '1type' as a synonym of type is deprecated; in a future version of numpy, it will be understood as (type, (1,)) / '(1,)type'.\n",
      "  _np_qint8 = np.dtype([(\"qint8\", np.int8, 1)])\n",
      "/home/samuel/anaconda3/envs/myEnv3_7/lib/python3.7/site-packages/tensorflow/python/framework/dtypes.py:517: FutureWarning: Passing (type, 1) or '1type' as a synonym of type is deprecated; in a future version of numpy, it will be understood as (type, (1,)) / '(1,)type'.\n",
      "  _np_quint8 = np.dtype([(\"quint8\", np.uint8, 1)])\n",
      "/home/samuel/anaconda3/envs/myEnv3_7/lib/python3.7/site-packages/tensorflow/python/framework/dtypes.py:518: FutureWarning: Passing (type, 1) or '1type' as a synonym of type is deprecated; in a future version of numpy, it will be understood as (type, (1,)) / '(1,)type'.\n",
      "  _np_qint16 = np.dtype([(\"qint16\", np.int16, 1)])\n",
      "/home/samuel/anaconda3/envs/myEnv3_7/lib/python3.7/site-packages/tensorflow/python/framework/dtypes.py:519: FutureWarning: Passing (type, 1) or '1type' as a synonym of type is deprecated; in a future version of numpy, it will be understood as (type, (1,)) / '(1,)type'.\n",
      "  _np_quint16 = np.dtype([(\"quint16\", np.uint16, 1)])\n",
      "/home/samuel/anaconda3/envs/myEnv3_7/lib/python3.7/site-packages/tensorflow/python/framework/dtypes.py:520: FutureWarning: Passing (type, 1) or '1type' as a synonym of type is deprecated; in a future version of numpy, it will be understood as (type, (1,)) / '(1,)type'.\n",
      "  _np_qint32 = np.dtype([(\"qint32\", np.int32, 1)])\n",
      "/home/samuel/anaconda3/envs/myEnv3_7/lib/python3.7/site-packages/tensorflow/python/framework/dtypes.py:525: FutureWarning: Passing (type, 1) or '1type' as a synonym of type is deprecated; in a future version of numpy, it will be understood as (type, (1,)) / '(1,)type'.\n",
      "  np_resource = np.dtype([(\"resource\", np.ubyte, 1)])\n",
      "/home/samuel/anaconda3/envs/myEnv3_7/lib/python3.7/site-packages/tensorboard/compat/tensorflow_stub/dtypes.py:541: FutureWarning: Passing (type, 1) or '1type' as a synonym of type is deprecated; in a future version of numpy, it will be understood as (type, (1,)) / '(1,)type'.\n",
      "  _np_qint8 = np.dtype([(\"qint8\", np.int8, 1)])\n",
      "/home/samuel/anaconda3/envs/myEnv3_7/lib/python3.7/site-packages/tensorboard/compat/tensorflow_stub/dtypes.py:542: FutureWarning: Passing (type, 1) or '1type' as a synonym of type is deprecated; in a future version of numpy, it will be understood as (type, (1,)) / '(1,)type'.\n",
      "  _np_quint8 = np.dtype([(\"quint8\", np.uint8, 1)])\n",
      "/home/samuel/anaconda3/envs/myEnv3_7/lib/python3.7/site-packages/tensorboard/compat/tensorflow_stub/dtypes.py:543: FutureWarning: Passing (type, 1) or '1type' as a synonym of type is deprecated; in a future version of numpy, it will be understood as (type, (1,)) / '(1,)type'.\n",
      "  _np_qint16 = np.dtype([(\"qint16\", np.int16, 1)])\n",
      "/home/samuel/anaconda3/envs/myEnv3_7/lib/python3.7/site-packages/tensorboard/compat/tensorflow_stub/dtypes.py:544: FutureWarning: Passing (type, 1) or '1type' as a synonym of type is deprecated; in a future version of numpy, it will be understood as (type, (1,)) / '(1,)type'.\n",
      "  _np_quint16 = np.dtype([(\"quint16\", np.uint16, 1)])\n",
      "/home/samuel/anaconda3/envs/myEnv3_7/lib/python3.7/site-packages/tensorboard/compat/tensorflow_stub/dtypes.py:545: FutureWarning: Passing (type, 1) or '1type' as a synonym of type is deprecated; in a future version of numpy, it will be understood as (type, (1,)) / '(1,)type'.\n",
      "  _np_qint32 = np.dtype([(\"qint32\", np.int32, 1)])\n",
      "/home/samuel/anaconda3/envs/myEnv3_7/lib/python3.7/site-packages/tensorboard/compat/tensorflow_stub/dtypes.py:550: FutureWarning: Passing (type, 1) or '1type' as a synonym of type is deprecated; in a future version of numpy, it will be understood as (type, (1,)) / '(1,)type'.\n",
      "  np_resource = np.dtype([(\"resource\", np.ubyte, 1)])\n"
     ]
    }
   ],
   "source": [
    "#%%\n",
    "from ns3gym import ns3env\n",
    "from comet_ml import Experiment, Optimizer\n",
    "import tqdm\n",
    "import subprocess\n",
    "from collections import deque\n",
    "import numpy as np\n",
    "\n",
    "from agents.dqn.agent import Agent, Config\n",
    "from agents.dqn.model import QNetworkTf\n",
    "from agents.teacher import Teacher, EnvWrapper\n",
    "from preprocessor import Preprocessor"
   ]
  },
  {
   "cell_type": "code",
   "execution_count": 2,
   "id": "1dfdad41",
   "metadata": {},
   "outputs": [
    {
     "name": "stdout",
     "output_type": "stream",
     "text": [
      "Steps per episode: 6000\n",
      "Waiting for simulation script to connect on port: tcp://localhost:46926\n",
      "Please start proper ns-3 simulation script using ./waf --run \"...\"\n",
      "Waf: Entering directory `/home/samuel/ns-allinone-3.29/ns-3.29/build'\n",
      "Waf: Leaving directory `/home/samuel/ns-allinone-3.29/ns-3.29/build'\n",
      "Build commands will be stored in build/compile_commands.json\n",
      "'build' finished successfully (3.824s)\n"
     ]
    },
    {
     "name": "stderr",
     "output_type": "stream",
     "text": [
      "Ns3Env parameters:\n",
      "--nWifi: 5\n",
      "--simulationTime: 60\n",
      "--openGymPort: 46926\n",
      "--envStepTime: 0.01\n",
      "--seed: 42\n",
      "--agentType: discrete\n",
      "--scenario: basic\n",
      "--dryRun: 0\n",
      "Simulation started\n"
     ]
    },
    {
     "name": "stdout",
     "output_type": "stream",
     "text": [
      "Observation space shape: (1, 300)\n",
      "Action space shape: (1, 1)\n"
     ]
    },
    {
     "name": "stderr",
     "output_type": "stream",
     "text": [
      "Simulation process id: 1213357 (parent (waf shell) id: 1213328)\n",
      "Waiting for Python process to connect on port: tcp://localhost:46926\n",
      "Please start proper Python Gym Agent\n"
     ]
    }
   ],
   "source": [
    "#%%\n",
    "scenario = \"basic\"\n",
    "\n",
    "simTime = 60 # seconds\n",
    "stepTime = 0.01  # seconds\n",
    "history_length = 300\n",
    "\n",
    "EPISODE_COUNT = 15\n",
    "steps_per_ep = int(simTime/stepTime)\n",
    "\n",
    "sim_args = {\n",
    "    \"simTime\": simTime,\n",
    "    \"envStepTime\": stepTime,\n",
    "    \"historyLength\": history_length,\n",
    "    \"agentType\": Agent.TYPE,\n",
    "    \"scenario\": \"basic\",\n",
    "    \"nWifi\": 5,\n",
    "}\n",
    "\n",
    "print(\"Steps per episode:\", steps_per_ep)\n",
    "\n",
    "threads_no = 1\n",
    "env = EnvWrapper(threads_no, **sim_args)\n",
    "\n",
    "#%%\n",
    "env.reset()\n",
    "ob_space = env.observation_space\n",
    "ac_space = env.action_space\n",
    "\n",
    "print(\"Observation space shape:\", ob_space)\n",
    "print(\"Action space shape:\", ac_space)\n",
    "\n",
    "assert ob_space is not None"
   ]
  },
  {
   "cell_type": "code",
   "execution_count": 3,
   "id": "174460d8",
   "metadata": {},
   "outputs": [
    {
     "name": "stdout",
     "output_type": "stream",
     "text": [
      "WARNING:tensorflow:From /home/samuel/ns-allinone-3.29/ns-3.29/scratch/RLinWiFi-master-original-queue-level-mean/agents/dqn/agent.py:53: The name tf.Session is deprecated. Please use tf.compat.v1.Session instead.\n",
      "\n",
      "WARNING:tensorflow:From /home/samuel/ns-allinone-3.29/ns-3.29/scratch/RLinWiFi-master-original-queue-level-mean/agents/dqn/model.py:25: The name tf.variable_scope is deprecated. Please use tf.compat.v1.variable_scope instead.\n",
      "\n",
      "WARNING:tensorflow:From /home/samuel/ns-allinone-3.29/ns-3.29/scratch/RLinWiFi-master-original-queue-level-mean/agents/dqn/model.py:26: The name tf.placeholder is deprecated. Please use tf.compat.v1.placeholder instead.\n",
      "\n"
     ]
    },
    {
     "name": "stderr",
     "output_type": "stream",
     "text": [
      "2023-02-14 07:35:33.634255: I tensorflow/core/platform/cpu_feature_guard.cc:142] Your CPU supports instructions that this TensorFlow binary was not compiled to use: AVX2 FMA\n",
      "2023-02-14 07:35:33.661558: I tensorflow/core/platform/profile_utils/cpu_utils.cc:94] CPU Frequency: 3491795000 Hz\n",
      "2023-02-14 07:35:33.662353: I tensorflow/compiler/xla/service/service.cc:168] XLA service 0x55836ff01690 executing computations on platform Host. Devices:\n",
      "2023-02-14 07:35:33.662376: I tensorflow/compiler/xla/service/service.cc:175]   StreamExecutor device (0): <undefined>, <undefined>\n"
     ]
    },
    {
     "name": "stdout",
     "output_type": "stream",
     "text": [
      "WARNING:tensorflow:\n",
      "The TensorFlow contrib module will not be included in TensorFlow 2.0.\n",
      "For more information, please see:\n",
      "  * https://github.com/tensorflow/community/blob/master/rfcs/20180907-contrib-sunset.md\n",
      "  * https://github.com/tensorflow/addons\n",
      "  * https://github.com/tensorflow/io (for I/O related ops)\n",
      "If you depend on functionality not listed there, please file an issue.\n",
      "\n",
      "WARNING:tensorflow:From /home/samuel/ns-allinone-3.29/ns-3.29/scratch/RLinWiFi-master-original-queue-level-mean/agents/dqn/model.py:52: LSTMCell.__init__ (from tensorflow.python.ops.rnn_cell_impl) is deprecated and will be removed in a future version.\n",
      "Instructions for updating:\n",
      "This class is equivalent as tf.keras.layers.LSTMCell, and will be replaced by that in Tensorflow 2.0.\n",
      "WARNING:tensorflow:From /home/samuel/ns-allinone-3.29/ns-3.29/scratch/RLinWiFi-master-original-queue-level-mean/agents/dqn/model.py:52: static_rnn (from tensorflow.python.ops.rnn) is deprecated and will be removed in a future version.\n",
      "Instructions for updating:\n",
      "Please use `keras.layers.RNN(cell, unroll=True)`, which is equivalent to this API\n",
      "WARNING:tensorflow:From /home/samuel/anaconda3/envs/myEnv3_7/lib/python3.7/site-packages/tensorflow/python/ops/init_ops.py:1251: calling VarianceScaling.__init__ (from tensorflow.python.ops.init_ops) with dtype is deprecated and will be removed in a future version.\n",
      "Instructions for updating:\n",
      "Call initializer instance with the dtype argument instead of passing it to the constructor\n",
      "WARNING:tensorflow:From /home/samuel/anaconda3/envs/myEnv3_7/lib/python3.7/site-packages/tensorflow/python/ops/rnn_cell_impl.py:961: calling Zeros.__init__ (from tensorflow.python.ops.init_ops) with dtype is deprecated and will be removed in a future version.\n",
      "Instructions for updating:\n",
      "Call initializer instance with the dtype argument instead of passing it to the constructor\n",
      "WARNING:tensorflow:Entity <bound method LSTMCell.call of <tensorflow.python.ops.rnn_cell_impl.LSTMCell object at 0x7f332e5c1f10>> could not be transformed and will be executed as-is. Please report this to the AutgoGraph team. When filing the bug, set the verbosity to 10 (on Linux, `export AUTOGRAPH_VERBOSITY=10`) and attach the full output. Cause: converting <bound method LSTMCell.call of <tensorflow.python.ops.rnn_cell_impl.LSTMCell object at 0x7f332e5c1f10>>: AttributeError: module 'gast' has no attribute 'Index'\n",
      "WARNING: Entity <bound method LSTMCell.call of <tensorflow.python.ops.rnn_cell_impl.LSTMCell object at 0x7f332e5c1f10>> could not be transformed and will be executed as-is. Please report this to the AutgoGraph team. When filing the bug, set the verbosity to 10 (on Linux, `export AUTOGRAPH_VERBOSITY=10`) and attach the full output. Cause: converting <bound method LSTMCell.call of <tensorflow.python.ops.rnn_cell_impl.LSTMCell object at 0x7f332e5c1f10>>: AttributeError: module 'gast' has no attribute 'Index'\n",
      "WARNING:tensorflow:Entity <bound method LSTMCell.call of <tensorflow.python.ops.rnn_cell_impl.LSTMCell object at 0x7f332e5c1f10>> could not be transformed and will be executed as-is. Please report this to the AutgoGraph team. When filing the bug, set the verbosity to 10 (on Linux, `export AUTOGRAPH_VERBOSITY=10`) and attach the full output. Cause: converting <bound method LSTMCell.call of <tensorflow.python.ops.rnn_cell_impl.LSTMCell object at 0x7f332e5c1f10>>: AttributeError: module 'gast' has no attribute 'Index'\n",
      "WARNING: Entity <bound method LSTMCell.call of <tensorflow.python.ops.rnn_cell_impl.LSTMCell object at 0x7f332e5c1f10>> could not be transformed and will be executed as-is. Please report this to the AutgoGraph team. When filing the bug, set the verbosity to 10 (on Linux, `export AUTOGRAPH_VERBOSITY=10`) and attach the full output. Cause: converting <bound method LSTMCell.call of <tensorflow.python.ops.rnn_cell_impl.LSTMCell object at 0x7f332e5c1f10>>: AttributeError: module 'gast' has no attribute 'Index'\n",
      "WARNING:tensorflow:Entity <bound method LSTMCell.call of <tensorflow.python.ops.rnn_cell_impl.LSTMCell object at 0x7f332e5c1f10>> could not be transformed and will be executed as-is. Please report this to the AutgoGraph team. When filing the bug, set the verbosity to 10 (on Linux, `export AUTOGRAPH_VERBOSITY=10`) and attach the full output. Cause: converting <bound method LSTMCell.call of <tensorflow.python.ops.rnn_cell_impl.LSTMCell object at 0x7f332e5c1f10>>: AttributeError: module 'gast' has no attribute 'Index'\n",
      "WARNING: Entity <bound method LSTMCell.call of <tensorflow.python.ops.rnn_cell_impl.LSTMCell object at 0x7f332e5c1f10>> could not be transformed and will be executed as-is. Please report this to the AutgoGraph team. When filing the bug, set the verbosity to 10 (on Linux, `export AUTOGRAPH_VERBOSITY=10`) and attach the full output. Cause: converting <bound method LSTMCell.call of <tensorflow.python.ops.rnn_cell_impl.LSTMCell object at 0x7f332e5c1f10>>: AttributeError: module 'gast' has no attribute 'Index'\n",
      "WARNING:tensorflow:Entity <bound method LSTMCell.call of <tensorflow.python.ops.rnn_cell_impl.LSTMCell object at 0x7f332e5c1f10>> could not be transformed and will be executed as-is. Please report this to the AutgoGraph team. When filing the bug, set the verbosity to 10 (on Linux, `export AUTOGRAPH_VERBOSITY=10`) and attach the full output. Cause: converting <bound method LSTMCell.call of <tensorflow.python.ops.rnn_cell_impl.LSTMCell object at 0x7f332e5c1f10>>: AttributeError: module 'gast' has no attribute 'Index'\n",
      "WARNING: Entity <bound method LSTMCell.call of <tensorflow.python.ops.rnn_cell_impl.LSTMCell object at 0x7f332e5c1f10>> could not be transformed and will be executed as-is. Please report this to the AutgoGraph team. When filing the bug, set the verbosity to 10 (on Linux, `export AUTOGRAPH_VERBOSITY=10`) and attach the full output. Cause: converting <bound method LSTMCell.call of <tensorflow.python.ops.rnn_cell_impl.LSTMCell object at 0x7f332e5c1f10>>: AttributeError: module 'gast' has no attribute 'Index'\n",
      "WARNING:tensorflow:From /home/samuel/ns-allinone-3.29/ns-3.29/scratch/RLinWiFi-master-original-queue-level-mean/agents/dqn/model.py:53: dense (from tensorflow.python.layers.core) is deprecated and will be removed in a future version.\n",
      "Instructions for updating:\n",
      "Use keras.layers.dense instead.\n",
      "WARNING:tensorflow:Entity <bound method Dense.call of <tensorflow.python.layers.core.Dense object at 0x7f332e5c1f10>> could not be transformed and will be executed as-is. Please report this to the AutgoGraph team. When filing the bug, set the verbosity to 10 (on Linux, `export AUTOGRAPH_VERBOSITY=10`) and attach the full output. Cause: converting <bound method Dense.call of <tensorflow.python.layers.core.Dense object at 0x7f332e5c1f10>>: AttributeError: module 'gast' has no attribute 'Index'\n",
      "WARNING: Entity <bound method Dense.call of <tensorflow.python.layers.core.Dense object at 0x7f332e5c1f10>> could not be transformed and will be executed as-is. Please report this to the AutgoGraph team. When filing the bug, set the verbosity to 10 (on Linux, `export AUTOGRAPH_VERBOSITY=10`) and attach the full output. Cause: converting <bound method Dense.call of <tensorflow.python.layers.core.Dense object at 0x7f332e5c1f10>>: AttributeError: module 'gast' has no attribute 'Index'\n",
      "WARNING:tensorflow:Entity <bound method Dense.call of <tensorflow.python.layers.core.Dense object at 0x7f332e5c1f10>> could not be transformed and will be executed as-is. Please report this to the AutgoGraph team. When filing the bug, set the verbosity to 10 (on Linux, `export AUTOGRAPH_VERBOSITY=10`) and attach the full output. Cause: converting <bound method Dense.call of <tensorflow.python.layers.core.Dense object at 0x7f332e5c1f10>>: AttributeError: module 'gast' has no attribute 'Index'\n",
      "WARNING: Entity <bound method Dense.call of <tensorflow.python.layers.core.Dense object at 0x7f332e5c1f10>> could not be transformed and will be executed as-is. Please report this to the AutgoGraph team. When filing the bug, set the verbosity to 10 (on Linux, `export AUTOGRAPH_VERBOSITY=10`) and attach the full output. Cause: converting <bound method Dense.call of <tensorflow.python.layers.core.Dense object at 0x7f332e5c1f10>>: AttributeError: module 'gast' has no attribute 'Index'\n"
     ]
    },
    {
     "name": "stdout",
     "output_type": "stream",
     "text": [
      "WARNING:tensorflow:Entity <bound method Dense.call of <tensorflow.python.layers.core.Dense object at 0x7f332e5c1f10>> could not be transformed and will be executed as-is. Please report this to the AutgoGraph team. When filing the bug, set the verbosity to 10 (on Linux, `export AUTOGRAPH_VERBOSITY=10`) and attach the full output. Cause: converting <bound method Dense.call of <tensorflow.python.layers.core.Dense object at 0x7f332e5c1f10>>: AttributeError: module 'gast' has no attribute 'Index'\n",
      "WARNING: Entity <bound method Dense.call of <tensorflow.python.layers.core.Dense object at 0x7f332e5c1f10>> could not be transformed and will be executed as-is. Please report this to the AutgoGraph team. When filing the bug, set the verbosity to 10 (on Linux, `export AUTOGRAPH_VERBOSITY=10`) and attach the full output. Cause: converting <bound method Dense.call of <tensorflow.python.layers.core.Dense object at 0x7f332e5c1f10>>: AttributeError: module 'gast' has no attribute 'Index'\n",
      "WARNING:tensorflow:From /home/samuel/ns-allinone-3.29/ns-3.29/scratch/RLinWiFi-master-original-queue-level-mean/agents/dqn/model.py:69: The name tf.losses.mean_squared_error is deprecated. Please use tf.compat.v1.losses.mean_squared_error instead.\n",
      "\n",
      "WARNING:tensorflow:From /home/samuel/anaconda3/envs/myEnv3_7/lib/python3.7/site-packages/tensorflow/python/ops/losses/losses_impl.py:121: add_dispatch_support.<locals>.wrapper (from tensorflow.python.ops.array_ops) is deprecated and will be removed in a future version.\n",
      "Instructions for updating:\n",
      "Use tf.where in 2.0, which has the same broadcast rule as np.where\n",
      "WARNING:tensorflow:From /home/samuel/ns-allinone-3.29/ns-3.29/scratch/RLinWiFi-master-original-queue-level-mean/agents/dqn/model.py:77: The name tf.train.AdamOptimizer is deprecated. Please use tf.compat.v1.train.AdamOptimizer instead.\n",
      "\n",
      "WARNING:tensorflow:From /home/samuel/ns-allinone-3.29/ns-3.29/scratch/RLinWiFi-master-original-queue-level-mean/agents/dqn/model.py:33: The name tf.global_variables_initializer is deprecated. Please use tf.compat.v1.global_variables_initializer instead.\n",
      "\n",
      "WARNING:tensorflow:From /home/samuel/ns-allinone-3.29/ns-3.29/scratch/RLinWiFi-master-original-queue-level-mean/agents/dqn/model.py:34: The name tf.local_variables_initializer is deprecated. Please use tf.compat.v1.local_variables_initializer instead.\n",
      "\n",
      "WARNING:tensorflow:Entity <bound method LSTMCell.call of <tensorflow.python.ops.rnn_cell_impl.LSTMCell object at 0x7f331781f890>> could not be transformed and will be executed as-is. Please report this to the AutgoGraph team. When filing the bug, set the verbosity to 10 (on Linux, `export AUTOGRAPH_VERBOSITY=10`) and attach the full output. Cause: converting <bound method LSTMCell.call of <tensorflow.python.ops.rnn_cell_impl.LSTMCell object at 0x7f331781f890>>: AttributeError: module 'gast' has no attribute 'Index'\n",
      "WARNING: Entity <bound method LSTMCell.call of <tensorflow.python.ops.rnn_cell_impl.LSTMCell object at 0x7f331781f890>> could not be transformed and will be executed as-is. Please report this to the AutgoGraph team. When filing the bug, set the verbosity to 10 (on Linux, `export AUTOGRAPH_VERBOSITY=10`) and attach the full output. Cause: converting <bound method LSTMCell.call of <tensorflow.python.ops.rnn_cell_impl.LSTMCell object at 0x7f331781f890>>: AttributeError: module 'gast' has no attribute 'Index'\n",
      "WARNING:tensorflow:Entity <bound method LSTMCell.call of <tensorflow.python.ops.rnn_cell_impl.LSTMCell object at 0x7f331781f890>> could not be transformed and will be executed as-is. Please report this to the AutgoGraph team. When filing the bug, set the verbosity to 10 (on Linux, `export AUTOGRAPH_VERBOSITY=10`) and attach the full output. Cause: converting <bound method LSTMCell.call of <tensorflow.python.ops.rnn_cell_impl.LSTMCell object at 0x7f331781f890>>: AttributeError: module 'gast' has no attribute 'Index'\n"
     ]
    },
    {
     "name": "stderr",
     "output_type": "stream",
     "text": [
      "2023-02-14 07:35:36.544161: W tensorflow/compiler/jit/mark_for_compilation_pass.cc:1412] (One-time warning): Not using XLA:CPU for cluster because envvar TF_XLA_FLAGS=--tf_xla_cpu_global_jit was not set.  If you want XLA:CPU, either set that envvar, or use experimental_jit_scope to enable XLA:CPU.  To confirm that XLA is active, pass --vmodule=xla_compilation_cache=1 (as a proper command-line flag, not via TF_XLA_FLAGS) or set the envvar XLA_FLAGS=--xla_hlo_profile.\n"
     ]
    },
    {
     "name": "stdout",
     "output_type": "stream",
     "text": [
      "WARNING: Entity <bound method LSTMCell.call of <tensorflow.python.ops.rnn_cell_impl.LSTMCell object at 0x7f331781f890>> could not be transformed and will be executed as-is. Please report this to the AutgoGraph team. When filing the bug, set the verbosity to 10 (on Linux, `export AUTOGRAPH_VERBOSITY=10`) and attach the full output. Cause: converting <bound method LSTMCell.call of <tensorflow.python.ops.rnn_cell_impl.LSTMCell object at 0x7f331781f890>>: AttributeError: module 'gast' has no attribute 'Index'\n",
      "WARNING:tensorflow:Entity <bound method LSTMCell.call of <tensorflow.python.ops.rnn_cell_impl.LSTMCell object at 0x7f331781f890>> could not be transformed and will be executed as-is. Please report this to the AutgoGraph team. When filing the bug, set the verbosity to 10 (on Linux, `export AUTOGRAPH_VERBOSITY=10`) and attach the full output. Cause: converting <bound method LSTMCell.call of <tensorflow.python.ops.rnn_cell_impl.LSTMCell object at 0x7f331781f890>>: AttributeError: module 'gast' has no attribute 'Index'\n",
      "WARNING: Entity <bound method LSTMCell.call of <tensorflow.python.ops.rnn_cell_impl.LSTMCell object at 0x7f331781f890>> could not be transformed and will be executed as-is. Please report this to the AutgoGraph team. When filing the bug, set the verbosity to 10 (on Linux, `export AUTOGRAPH_VERBOSITY=10`) and attach the full output. Cause: converting <bound method LSTMCell.call of <tensorflow.python.ops.rnn_cell_impl.LSTMCell object at 0x7f331781f890>>: AttributeError: module 'gast' has no attribute 'Index'\n",
      "WARNING:tensorflow:Entity <bound method LSTMCell.call of <tensorflow.python.ops.rnn_cell_impl.LSTMCell object at 0x7f331781f890>> could not be transformed and will be executed as-is. Please report this to the AutgoGraph team. When filing the bug, set the verbosity to 10 (on Linux, `export AUTOGRAPH_VERBOSITY=10`) and attach the full output. Cause: converting <bound method LSTMCell.call of <tensorflow.python.ops.rnn_cell_impl.LSTMCell object at 0x7f331781f890>>: AttributeError: module 'gast' has no attribute 'Index'\n",
      "WARNING: Entity <bound method LSTMCell.call of <tensorflow.python.ops.rnn_cell_impl.LSTMCell object at 0x7f331781f890>> could not be transformed and will be executed as-is. Please report this to the AutgoGraph team. When filing the bug, set the verbosity to 10 (on Linux, `export AUTOGRAPH_VERBOSITY=10`) and attach the full output. Cause: converting <bound method LSTMCell.call of <tensorflow.python.ops.rnn_cell_impl.LSTMCell object at 0x7f331781f890>>: AttributeError: module 'gast' has no attribute 'Index'\n",
      "WARNING:tensorflow:Entity <bound method Dense.call of <tensorflow.python.layers.core.Dense object at 0x7f331781f890>> could not be transformed and will be executed as-is. Please report this to the AutgoGraph team. When filing the bug, set the verbosity to 10 (on Linux, `export AUTOGRAPH_VERBOSITY=10`) and attach the full output. Cause: converting <bound method Dense.call of <tensorflow.python.layers.core.Dense object at 0x7f331781f890>>: AttributeError: module 'gast' has no attribute 'Index'\n",
      "WARNING: Entity <bound method Dense.call of <tensorflow.python.layers.core.Dense object at 0x7f331781f890>> could not be transformed and will be executed as-is. Please report this to the AutgoGraph team. When filing the bug, set the verbosity to 10 (on Linux, `export AUTOGRAPH_VERBOSITY=10`) and attach the full output. Cause: converting <bound method Dense.call of <tensorflow.python.layers.core.Dense object at 0x7f331781f890>>: AttributeError: module 'gast' has no attribute 'Index'\n",
      "WARNING:tensorflow:Entity <bound method Dense.call of <tensorflow.python.layers.core.Dense object at 0x7f331781f890>> could not be transformed and will be executed as-is. Please report this to the AutgoGraph team. When filing the bug, set the verbosity to 10 (on Linux, `export AUTOGRAPH_VERBOSITY=10`) and attach the full output. Cause: converting <bound method Dense.call of <tensorflow.python.layers.core.Dense object at 0x7f331781f890>>: AttributeError: module 'gast' has no attribute 'Index'\n",
      "WARNING: Entity <bound method Dense.call of <tensorflow.python.layers.core.Dense object at 0x7f331781f890>> could not be transformed and will be executed as-is. Please report this to the AutgoGraph team. When filing the bug, set the verbosity to 10 (on Linux, `export AUTOGRAPH_VERBOSITY=10`) and attach the full output. Cause: converting <bound method Dense.call of <tensorflow.python.layers.core.Dense object at 0x7f331781f890>>: AttributeError: module 'gast' has no attribute 'Index'\n",
      "WARNING:tensorflow:Entity <bound method Dense.call of <tensorflow.python.layers.core.Dense object at 0x7f331781f890>> could not be transformed and will be executed as-is. Please report this to the AutgoGraph team. When filing the bug, set the verbosity to 10 (on Linux, `export AUTOGRAPH_VERBOSITY=10`) and attach the full output. Cause: converting <bound method Dense.call of <tensorflow.python.layers.core.Dense object at 0x7f331781f890>>: AttributeError: module 'gast' has no attribute 'Index'\n",
      "WARNING: Entity <bound method Dense.call of <tensorflow.python.layers.core.Dense object at 0x7f331781f890>> could not be transformed and will be executed as-is. Please report this to the AutgoGraph team. When filing the bug, set the verbosity to 10 (on Linux, `export AUTOGRAPH_VERBOSITY=10`) and attach the full output. Cause: converting <bound method Dense.call of <tensorflow.python.layers.core.Dense object at 0x7f331781f890>>: AttributeError: module 'gast' has no attribute 'Index'\n",
      "WARNING:tensorflow:From /home/samuel/ns-allinone-3.29/ns-3.29/scratch/RLinWiFi-master-original-queue-level-mean/agents/dqn/agent.py:77: The name tf.train.Saver is deprecated. Please use tf.compat.v1.train.Saver instead.\n",
      "\n",
      "Action space: 7\n",
      "WARNING:tensorflow:From /home/samuel/ns-allinone-3.29/ns-3.29/scratch/RLinWiFi-master-original-queue-level-mean/agents/dqn/agent.py:107: Variable.load (from tensorflow.python.ops.variables) is deprecated and will be removed in a future version.\n",
      "Instructions for updating:\n",
      "Prefer Variable.assign which has equivalent behavior in 2.X.\n"
     ]
    },
    {
     "name": "stderr",
     "output_type": "stream",
     "text": [
      "COMET INFO: Experiment is live on comet.ml https://www.comet.com/sheila-janota/rl-in-wifi-with-queue-level/5aa83d31c23641f59ba9ef122c141545\n",
      "\n",
      "  0%|          | 0/6300 [00:00<?, ?it/s]"
     ]
    },
    {
     "name": "stdout",
     "output_type": "stream",
     "text": [
      "0\n"
     ]
    },
    {
     "name": "stderr",
     "output_type": "stream",
     "text": [
      "  5%|▌         | 333/6300 [01:09<27:21,  3.63it/s, curr_speed=26.84 Mbps, mb_sent=8.59 Mb]"
     ]
    },
    {
     "name": "stdout",
     "output_type": "stream",
     "text": [
      "------- STARTED TRAINING -------\n"
     ]
    },
    {
     "name": "stderr",
     "output_type": "stream",
     "text": [
      "100%|██████████| 6300/6300 [28:19<00:00,  3.71it/s, curr_speed=28.55 Mbps, mb_sent=1703.56 Mb]\n"
     ]
    },
    {
     "name": "stdout",
     "output_type": "stream",
     "text": [
      "Waiting for simulation script to connect on port: tcp://localhost:26445\n",
      "Please start proper ns-3 simulation script using ./waf --run \"...\"\n",
      "Waf: Entering directory `/home/samuel/ns-allinone-3.29/ns-3.29/build'\n",
      "Waf: Leaving directory `/home/samuel/ns-allinone-3.29/ns-3.29/build'\n",
      "Build commands will be stored in build/compile_commands.json\n",
      "'build' finished successfully (3.698s)\n"
     ]
    },
    {
     "name": "stderr",
     "output_type": "stream",
     "text": [
      "Ns3Env parameters:\n",
      "--nWifi: 5\n",
      "--simulationTime: 60\n",
      "--openGymPort: 26445\n",
      "--envStepTime: 0.01\n",
      "--seed: 42\n",
      "--agentType: discrete\n",
      "--scenario: basic\n",
      "--dryRun: 0\n",
      "Simulation started\n",
      "Simulation process id: 1227413 (parent (waf shell) id: 1227381)\n",
      "Waiting for Python process to connect on port: tcp://localhost:26445\n",
      "Please start proper Python Gym Agent\n",
      "  0%|          | 0/6300 [00:00<?, ?it/s]"
     ]
    },
    {
     "name": "stdout",
     "output_type": "stream",
     "text": [
      "Sent 1703.56 Mb/s.\tMean speed: 28.39 Mb/s\tEpisode 1/15 finished\n",
      "\n",
      "1\n"
     ]
    },
    {
     "name": "stderr",
     "output_type": "stream",
     "text": [
      "100%|██████████| 6300/6300 [29:49<00:00,  3.52it/s, curr_speed=33.02 Mbps, mb_sent=1937.33 Mb]\n"
     ]
    },
    {
     "name": "stdout",
     "output_type": "stream",
     "text": [
      "Waiting for simulation script to connect on port: tcp://localhost:16737\n",
      "Please start proper ns-3 simulation script using ./waf --run \"...\"\n",
      "Waf: Entering directory `/home/samuel/ns-allinone-3.29/ns-3.29/build'\n",
      "Waf: Leaving directory `/home/samuel/ns-allinone-3.29/ns-3.29/build'\n",
      "Build commands will be stored in build/compile_commands.json\n",
      "'build' finished successfully (4.124s)\n"
     ]
    },
    {
     "name": "stderr",
     "output_type": "stream",
     "text": [
      "Ns3Env parameters:\n",
      "--nWifi: 5\n",
      "--simulationTime: 60\n",
      "--openGymPort: 16737\n",
      "--envStepTime: 0.01\n",
      "--seed: 42\n",
      "--agentType: discrete\n",
      "--scenario: basic\n",
      "--dryRun: 0\n",
      "Simulation started\n",
      "Simulation process id: 1241937 (parent (waf shell) id: 1241902)\n",
      "Waiting for Python process to connect on port: tcp://localhost:16737\n",
      "Please start proper Python Gym Agent\n",
      "  0%|          | 0/6300 [00:00<?, ?it/s]"
     ]
    },
    {
     "name": "stdout",
     "output_type": "stream",
     "text": [
      "Sent 1937.33 Mb/s.\tMean speed: 32.29 Mb/s\tEpisode 2/15 finished\n",
      "\n",
      "2\n"
     ]
    },
    {
     "name": "stderr",
     "output_type": "stream",
     "text": [
      "100%|██████████| 6300/6300 [30:06<00:00,  3.49it/s, curr_speed=36.37 Mbps, mb_sent=2109.00 Mb]\n"
     ]
    },
    {
     "name": "stdout",
     "output_type": "stream",
     "text": [
      "Waiting for simulation script to connect on port: tcp://localhost:31946\n",
      "Please start proper ns-3 simulation script using ./waf --run \"...\"\n",
      "Waf: Entering directory `/home/samuel/ns-allinone-3.29/ns-3.29/build'\n",
      "Waf: Leaving directory `/home/samuel/ns-allinone-3.29/ns-3.29/build'\n",
      "Build commands will be stored in build/compile_commands.json\n",
      "'build' finished successfully (3.814s)\n"
     ]
    },
    {
     "name": "stderr",
     "output_type": "stream",
     "text": [
      "Ns3Env parameters:\n",
      "--nWifi: 5\n",
      "--simulationTime: 60\n",
      "--openGymPort: 31946\n",
      "--envStepTime: 0.01\n",
      "--seed: 42\n",
      "--agentType: discrete\n",
      "--scenario: basic\n",
      "--dryRun: 0\n",
      "Simulation started\n",
      "Simulation process id: 1256863 (parent (waf shell) id: 1256828)\n",
      "Waiting for Python process to connect on port: tcp://localhost:31946\n",
      "Please start proper Python Gym Agent\n",
      "  0%|          | 1/6300 [00:00<20:13,  5.19it/s, curr_speed=0.00 Mbps, mb_sent=0.00 Mb]"
     ]
    },
    {
     "name": "stdout",
     "output_type": "stream",
     "text": [
      "Sent 2109.00 Mb/s.\tMean speed: 35.15 Mb/s\tEpisode 3/15 finished\n",
      "\n",
      "3\n"
     ]
    },
    {
     "name": "stderr",
     "output_type": "stream",
     "text": [
      "  5%|▍         | 304/6300 [01:05<28:32,  3.50it/s, curr_speed=36.86 Mbps, mb_sent=1.11 Mb]"
     ]
    },
    {
     "name": "stdout",
     "output_type": "stream",
     "text": [
      "------- MEMORY BUFFER FILLED -------\n"
     ]
    },
    {
     "name": "stderr",
     "output_type": "stream",
     "text": [
      "100%|██████████| 6300/6300 [29:52<00:00,  3.52it/s, curr_speed=37.04 Mbps, mb_sent=2193.96 Mb]\n"
     ]
    },
    {
     "name": "stdout",
     "output_type": "stream",
     "text": [
      "Waiting for simulation script to connect on port: tcp://localhost:26016\n",
      "Please start proper ns-3 simulation script using ./waf --run \"...\"\n",
      "Waf: Entering directory `/home/samuel/ns-allinone-3.29/ns-3.29/build'\n",
      "Waf: Leaving directory `/home/samuel/ns-allinone-3.29/ns-3.29/build'\n",
      "Build commands will be stored in build/compile_commands.json\n",
      "'build' finished successfully (3.672s)\n"
     ]
    },
    {
     "name": "stderr",
     "output_type": "stream",
     "text": [
      "Ns3Env parameters:\n",
      "--nWifi: 5\n",
      "--simulationTime: 60\n",
      "--openGymPort: 26016\n",
      "--envStepTime: 0.01\n",
      "--seed: 42\n",
      "--agentType: discrete\n",
      "--scenario: basic\n",
      "--dryRun: 0\n",
      "Simulation started\n",
      "Simulation process id: 1271084 (parent (waf shell) id: 1271054)\n",
      "Waiting for Python process to connect on port: tcp://localhost:26016\n",
      "Please start proper Python Gym Agent\n",
      "  0%|          | 0/6300 [00:00<?, ?it/s]"
     ]
    },
    {
     "name": "stdout",
     "output_type": "stream",
     "text": [
      "Sent 2193.96 Mb/s.\tMean speed: 36.57 Mb/s\tEpisode 4/15 finished\n",
      "\n",
      "4\n"
     ]
    },
    {
     "name": "stderr",
     "output_type": "stream",
     "text": [
      "100%|██████████| 6300/6300 [30:47<00:00,  3.41it/s, curr_speed=36.93 Mbps, mb_sent=2259.81 Mb]\n"
     ]
    },
    {
     "name": "stdout",
     "output_type": "stream",
     "text": [
      "Waiting for simulation script to connect on port: tcp://localhost:26464\n",
      "Please start proper ns-3 simulation script using ./waf --run \"...\"\n",
      "Waf: Entering directory `/home/samuel/ns-allinone-3.29/ns-3.29/build'\n",
      "Waf: Leaving directory `/home/samuel/ns-allinone-3.29/ns-3.29/build'\n",
      "Build commands will be stored in build/compile_commands.json\n",
      "'build' finished successfully (3.841s)\n"
     ]
    },
    {
     "name": "stderr",
     "output_type": "stream",
     "text": [
      "Ns3Env parameters:\n",
      "--nWifi: 5\n",
      "--simulationTime: 60\n",
      "--openGymPort: 26464\n",
      "--envStepTime: 0.01\n",
      "--seed: 42\n",
      "--agentType: discrete\n",
      "--scenario: basic\n",
      "--dryRun: 0\n",
      "Simulation started\n",
      "Simulation process id: 1286194 (parent (waf shell) id: 1286161)\n",
      "Waiting for Python process to connect on port: tcp://localhost:26464\n",
      "Please start proper Python Gym Agent\n",
      "  0%|          | 0/6300 [00:00<?, ?it/s]"
     ]
    },
    {
     "name": "stdout",
     "output_type": "stream",
     "text": [
      "Sent 2259.81 Mb/s.\tMean speed: 37.66 Mb/s\tEpisode 5/15 finished\n",
      "\n",
      "5\n"
     ]
    },
    {
     "name": "stderr",
     "output_type": "stream",
     "text": [
      "100%|██████████| 6300/6300 [30:23<00:00,  3.46it/s, curr_speed=38.08 Mbps, mb_sent=2283.77 Mb]\n"
     ]
    },
    {
     "name": "stdout",
     "output_type": "stream",
     "text": [
      "Waiting for simulation script to connect on port: tcp://localhost:53047\n",
      "Please start proper ns-3 simulation script using ./waf --run \"...\"\n",
      "Waf: Entering directory `/home/samuel/ns-allinone-3.29/ns-3.29/build'\n",
      "Waf: Leaving directory `/home/samuel/ns-allinone-3.29/ns-3.29/build'\n",
      "Build commands will be stored in build/compile_commands.json\n",
      "'build' finished successfully (3.872s)\n"
     ]
    },
    {
     "name": "stderr",
     "output_type": "stream",
     "text": [
      "Ns3Env parameters:\n",
      "--nWifi: 5\n",
      "--simulationTime: 60\n",
      "--openGymPort: 53047\n",
      "--envStepTime: 0.01\n",
      "--seed: 42\n",
      "--agentType: discrete\n",
      "--scenario: basic\n",
      "--dryRun: 0\n",
      "Simulation started\n",
      "Simulation process id: 1300841 (parent (waf shell) id: 1300807)\n",
      "Waiting for Python process to connect on port: tcp://localhost:53047\n",
      "Please start proper Python Gym Agent\n",
      "  0%|          | 1/6300 [00:00<19:04,  5.50it/s, curr_speed=0.00 Mbps, mb_sent=0.00 Mb]"
     ]
    },
    {
     "name": "stdout",
     "output_type": "stream",
     "text": [
      "Sent 2283.77 Mb/s.\tMean speed: 38.06 Mb/s\tEpisode 6/15 finished\n",
      "\n",
      "6\n"
     ]
    },
    {
     "name": "stderr",
     "output_type": "stream",
     "text": [
      "100%|██████████| 6300/6300 [30:56<00:00,  3.39it/s, curr_speed=38.67 Mbps, mb_sent=2305.86 Mb]\n"
     ]
    },
    {
     "name": "stdout",
     "output_type": "stream",
     "text": [
      "Waiting for simulation script to connect on port: tcp://localhost:33100\n",
      "Please start proper ns-3 simulation script using ./waf --run \"...\"\n",
      "Waf: Entering directory `/home/samuel/ns-allinone-3.29/ns-3.29/build'\n",
      "Waf: Leaving directory `/home/samuel/ns-allinone-3.29/ns-3.29/build'\n",
      "Build commands will be stored in build/compile_commands.json\n",
      "'build' finished successfully (3.658s)\n"
     ]
    },
    {
     "name": "stderr",
     "output_type": "stream",
     "text": [
      "Ns3Env parameters:\n",
      "--nWifi: 5\n",
      "--simulationTime: 60\n",
      "--openGymPort: 33100\n",
      "--envStepTime: 0.01\n",
      "--seed: 42\n",
      "--agentType: discrete\n",
      "--scenario: basic\n",
      "--dryRun: 0\n",
      "Simulation started\n",
      "Simulation process id: 1315791 (parent (waf shell) id: 1315760)\n",
      "Waiting for Python process to connect on port: tcp://localhost:33100\n",
      "Please start proper Python Gym Agent\n",
      "  0%|          | 0/6300 [00:00<?, ?it/s]"
     ]
    },
    {
     "name": "stdout",
     "output_type": "stream",
     "text": [
      "Sent 2305.86 Mb/s.\tMean speed: 38.43 Mb/s\tEpisode 7/15 finished\n",
      "\n",
      "7\n"
     ]
    },
    {
     "name": "stderr",
     "output_type": "stream",
     "text": [
      "100%|██████████| 6300/6300 [31:22<00:00,  3.35it/s, curr_speed=38.65 Mbps, mb_sent=2319.19 Mb]\n"
     ]
    },
    {
     "name": "stdout",
     "output_type": "stream",
     "text": [
      "Waiting for simulation script to connect on port: tcp://localhost:26691\n",
      "Please start proper ns-3 simulation script using ./waf --run \"...\"\n",
      "Waf: Entering directory `/home/samuel/ns-allinone-3.29/ns-3.29/build'\n",
      "Waf: Leaving directory `/home/samuel/ns-allinone-3.29/ns-3.29/build'\n",
      "Build commands will be stored in build/compile_commands.json\n",
      "'build' finished successfully (4.001s)\n"
     ]
    },
    {
     "name": "stderr",
     "output_type": "stream",
     "text": [
      "Ns3Env parameters:\n",
      "--nWifi: 5\n",
      "--simulationTime: 60\n",
      "--openGymPort: 26691\n",
      "--envStepTime: 0.01\n",
      "--seed: 42\n",
      "--agentType: discrete\n",
      "--scenario: basic\n",
      "--dryRun: 0\n",
      "Simulation started\n",
      "Simulation process id: 1330231 (parent (waf shell) id: 1330197)\n",
      "Waiting for Python process to connect on port: tcp://localhost:26691\n",
      "Please start proper Python Gym Agent\n",
      "  0%|          | 0/6300 [00:00<?, ?it/s]"
     ]
    },
    {
     "name": "stdout",
     "output_type": "stream",
     "text": [
      "Sent 2319.19 Mb/s.\tMean speed: 38.65 Mb/s\tEpisode 8/15 finished\n",
      "\n",
      "8\n"
     ]
    },
    {
     "name": "stderr",
     "output_type": "stream",
     "text": [
      "100%|██████████| 6300/6300 [31:41<00:00,  3.31it/s, curr_speed=38.59 Mbps, mb_sent=2327.49 Mb]\n"
     ]
    },
    {
     "name": "stdout",
     "output_type": "stream",
     "text": [
      "Waiting for simulation script to connect on port: tcp://localhost:28341\n",
      "Please start proper ns-3 simulation script using ./waf --run \"...\"\n",
      "Waf: Entering directory `/home/samuel/ns-allinone-3.29/ns-3.29/build'\n",
      "Waf: Leaving directory `/home/samuel/ns-allinone-3.29/ns-3.29/build'\n",
      "Build commands will be stored in build/compile_commands.json\n",
      "'build' finished successfully (3.914s)\n"
     ]
    },
    {
     "name": "stderr",
     "output_type": "stream",
     "text": [
      "Ns3Env parameters:\n",
      "--nWifi: 5\n",
      "--simulationTime: 60\n",
      "--openGymPort: 28341\n",
      "--envStepTime: 0.01\n",
      "--seed: 42\n",
      "--agentType: discrete\n",
      "--scenario: basic\n",
      "--dryRun: 0\n",
      "Simulation started\n",
      "Simulation process id: 1345837 (parent (waf shell) id: 1345803)\n",
      "Waiting for Python process to connect on port: tcp://localhost:28341\n",
      "Please start proper Python Gym Agent\n",
      "  0%|          | 0/6300 [00:00<?, ?it/s]"
     ]
    },
    {
     "name": "stdout",
     "output_type": "stream",
     "text": [
      "Sent 2327.49 Mb/s.\tMean speed: 38.79 Mb/s\tEpisode 9/15 finished\n",
      "\n",
      "9\n"
     ]
    },
    {
     "name": "stderr",
     "output_type": "stream",
     "text": [
      "100%|██████████| 6300/6300 [30:45<00:00,  3.41it/s, curr_speed=39.15 Mbps, mb_sent=2329.56 Mb]\n"
     ]
    },
    {
     "name": "stdout",
     "output_type": "stream",
     "text": [
      "Waiting for simulation script to connect on port: tcp://localhost:14116\n",
      "Please start proper ns-3 simulation script using ./waf --run \"...\"\n",
      "Waf: Entering directory `/home/samuel/ns-allinone-3.29/ns-3.29/build'\n",
      "Waf: Leaving directory `/home/samuel/ns-allinone-3.29/ns-3.29/build'\n",
      "Build commands will be stored in build/compile_commands.json\n",
      "'build' finished successfully (3.140s)\n"
     ]
    },
    {
     "name": "stderr",
     "output_type": "stream",
     "text": [
      "Ns3Env parameters:\n",
      "--nWifi: 5\n",
      "--simulationTime: 60\n",
      "--openGymPort: 14116\n",
      "--envStepTime: 0.01\n",
      "--seed: 42\n",
      "--agentType: discrete\n",
      "--scenario: basic\n",
      "--dryRun: 0\n",
      "Simulation started\n",
      "Simulation process id: 1360553 (parent (waf shell) id: 1360526)\n",
      "Waiting for Python process to connect on port: tcp://localhost:14116\n",
      "Please start proper Python Gym Agent\n",
      "  0%|          | 0/6300 [00:00<?, ?it/s]"
     ]
    },
    {
     "name": "stdout",
     "output_type": "stream",
     "text": [
      "Sent 2329.56 Mb/s.\tMean speed: 38.83 Mb/s\tEpisode 10/15 finished\n",
      "\n",
      "10\n"
     ]
    },
    {
     "name": "stderr",
     "output_type": "stream",
     "text": [
      "100%|██████████| 6300/6300 [29:30<00:00,  3.56it/s, curr_speed=39.00 Mbps, mb_sent=2328.93 Mb]\n"
     ]
    },
    {
     "name": "stdout",
     "output_type": "stream",
     "text": [
      "Waiting for simulation script to connect on port: tcp://localhost:42851\n",
      "Please start proper ns-3 simulation script using ./waf --run \"...\"\n",
      "Waf: Entering directory `/home/samuel/ns-allinone-3.29/ns-3.29/build'\n",
      "Waf: Leaving directory `/home/samuel/ns-allinone-3.29/ns-3.29/build'\n",
      "Build commands will be stored in build/compile_commands.json\n",
      "'build' finished successfully (3.581s)\n"
     ]
    },
    {
     "name": "stderr",
     "output_type": "stream",
     "text": [
      "Ns3Env parameters:\n",
      "--nWifi: 5\n",
      "--simulationTime: 60\n",
      "--openGymPort: 42851\n",
      "--envStepTime: 0.01\n",
      "--seed: 42\n",
      "--agentType: discrete\n",
      "--scenario: basic\n",
      "--dryRun: 0\n",
      "Simulation started\n",
      "Simulation process id: 1373587 (parent (waf shell) id: 1373558)\n",
      "Waiting for Python process to connect on port: tcp://localhost:42851\n",
      "Please start proper Python Gym Agent\n",
      "  0%|          | 1/6300 [00:00<16:16,  6.45it/s, curr_speed=0.00 Mbps, mb_sent=0.00 Mb]"
     ]
    },
    {
     "name": "stdout",
     "output_type": "stream",
     "text": [
      "Sent 2328.93 Mb/s.\tMean speed: 38.82 Mb/s\tEpisode 11/15 finished\n",
      "\n",
      "11\n"
     ]
    },
    {
     "name": "stderr",
     "output_type": "stream",
     "text": [
      "100%|██████████| 6300/6300 [29:09<00:00,  3.60it/s, curr_speed=39.26 Mbps, mb_sent=2333.63 Mb]\n"
     ]
    },
    {
     "name": "stdout",
     "output_type": "stream",
     "text": [
      "Waiting for simulation script to connect on port: tcp://localhost:21306\n",
      "Please start proper ns-3 simulation script using ./waf --run \"...\"\n",
      "Waf: Entering directory `/home/samuel/ns-allinone-3.29/ns-3.29/build'\n",
      "Waf: Leaving directory `/home/samuel/ns-allinone-3.29/ns-3.29/build'\n",
      "Build commands will be stored in build/compile_commands.json\n",
      "'build' finished successfully (3.385s)\n"
     ]
    },
    {
     "name": "stderr",
     "output_type": "stream",
     "text": [
      "Ns3Env parameters:\n",
      "--nWifi: 5\n",
      "--simulationTime: 60\n",
      "--openGymPort: 21306\n",
      "--envStepTime: 0.01\n",
      "--seed: 42\n",
      "--agentType: discrete\n",
      "--scenario: basic\n",
      "--dryRun: 0\n",
      "Simulation started\n"
     ]
    },
    {
     "name": "stdout",
     "output_type": "stream",
     "text": [
      "WARNING:tensorflow:From /home/samuel/anaconda3/envs/myEnv3_7/lib/python3.7/site-packages/tensorflow/python/training/saver.py:960: remove_checkpoint (from tensorflow.python.training.checkpoint_management) is deprecated and will be removed in a future version.\n",
      "Instructions for updating:\n",
      "Use standard file APIs to delete files with this prefix.\n"
     ]
    },
    {
     "name": "stderr",
     "output_type": "stream",
     "text": [
      "Simulation process id: 1385530 (parent (waf shell) id: 1385503)\n",
      "Waiting for Python process to connect on port: tcp://localhost:21306\n",
      "Please start proper Python Gym Agent\n",
      "  0%|          | 0/6300 [00:00<?, ?it/s]"
     ]
    },
    {
     "name": "stdout",
     "output_type": "stream",
     "text": [
      "Sent 2333.63 Mb/s.\tMean speed: 38.89 Mb/s\tEpisode 12/15 finished\n",
      "\n",
      "12\n",
      "Turning off noise\n"
     ]
    },
    {
     "name": "stderr",
     "output_type": "stream",
     "text": [
      "100%|██████████| 6300/6300 [29:09<00:00,  3.60it/s, curr_speed=38.97 Mbps, mb_sent=2329.93 Mb]\n"
     ]
    },
    {
     "name": "stdout",
     "output_type": "stream",
     "text": [
      "Waiting for simulation script to connect on port: tcp://localhost:28998\n",
      "Please start proper ns-3 simulation script using ./waf --run \"...\"\n",
      "Waf: Entering directory `/home/samuel/ns-allinone-3.29/ns-3.29/build'\n",
      "Waf: Leaving directory `/home/samuel/ns-allinone-3.29/ns-3.29/build'\n",
      "Build commands will be stored in build/compile_commands.json\n",
      "'build' finished successfully (3.512s)\n"
     ]
    },
    {
     "name": "stderr",
     "output_type": "stream",
     "text": [
      "Ns3Env parameters:\n",
      "--nWifi: 5\n",
      "--simulationTime: 60\n",
      "--openGymPort: 28998\n",
      "--envStepTime: 0.01\n",
      "--seed: 42\n",
      "--agentType: discrete\n",
      "--scenario: basic\n",
      "--dryRun: 0\n",
      "Simulation started\n",
      "Simulation process id: 1397558 (parent (waf shell) id: 1397533)\n",
      "Waiting for Python process to connect on port: tcp://localhost:28998\n",
      "Please start proper Python Gym Agent\n",
      "  0%|          | 0/6300 [00:00<?, ?it/s]"
     ]
    },
    {
     "name": "stdout",
     "output_type": "stream",
     "text": [
      "Sent 2329.93 Mb/s.\tMean speed: 38.83 Mb/s\tEpisode 13/15 finished\n",
      "\n",
      "13\n",
      "Turning off noise\n"
     ]
    },
    {
     "name": "stderr",
     "output_type": "stream",
     "text": [
      "100%|██████████| 6300/6300 [29:43<00:00,  3.53it/s, curr_speed=38.86 Mbps, mb_sent=2333.00 Mb]\n"
     ]
    },
    {
     "name": "stdout",
     "output_type": "stream",
     "text": [
      "Waiting for simulation script to connect on port: tcp://localhost:15351\n",
      "Please start proper ns-3 simulation script using ./waf --run \"...\"\n",
      "Waf: Entering directory `/home/samuel/ns-allinone-3.29/ns-3.29/build'\n",
      "Waf: Leaving directory `/home/samuel/ns-allinone-3.29/ns-3.29/build'\n",
      "Build commands will be stored in build/compile_commands.json\n",
      "'build' finished successfully (3.740s)\n"
     ]
    },
    {
     "name": "stderr",
     "output_type": "stream",
     "text": [
      "Ns3Env parameters:\n",
      "--nWifi: 5\n",
      "--simulationTime: 60\n",
      "--openGymPort: 15351\n",
      "--envStepTime: 0.01\n",
      "--seed: 42\n",
      "--agentType: discrete\n",
      "--scenario: basic\n",
      "--dryRun: 0\n",
      "Simulation started\n",
      "Simulation process id: 1410095 (parent (waf shell) id: 1410061)\n",
      "Waiting for Python process to connect on port: tcp://localhost:15351\n",
      "Please start proper Python Gym Agent\n",
      "  0%|          | 0/6300 [00:00<?, ?it/s]"
     ]
    },
    {
     "name": "stdout",
     "output_type": "stream",
     "text": [
      "Sent 2333.00 Mb/s.\tMean speed: 38.88 Mb/s\tEpisode 14/15 finished\n",
      "\n",
      "14\n",
      "Turning off noise\n"
     ]
    },
    {
     "name": "stderr",
     "output_type": "stream",
     "text": [
      "100%|██████████| 6300/6300 [28:38<00:00,  3.67it/s, curr_speed=39.17 Mbps, mb_sent=2338.10 Mb]\n"
     ]
    },
    {
     "name": "stdout",
     "output_type": "stream",
     "text": [
      "Waiting for simulation script to connect on port: tcp://localhost:46441\n",
      "Please start proper ns-3 simulation script using ./waf --run \"...\"\n",
      "Waf: Entering directory `/home/samuel/ns-allinone-3.29/ns-3.29/build'\n",
      "Waf: Leaving directory `/home/samuel/ns-allinone-3.29/ns-3.29/build'\n",
      "Build commands will be stored in build/compile_commands.json\n",
      "'build' finished successfully (3.940s)\n"
     ]
    },
    {
     "name": "stderr",
     "output_type": "stream",
     "text": [
      "Ns3Env parameters:\n",
      "--nWifi: 5\n",
      "--simulationTime: 60\n",
      "--openGymPort: 46441\n",
      "--envStepTime: 0.01\n",
      "--seed: 42\n",
      "--agentType: discrete\n",
      "--scenario: basic\n",
      "--dryRun: 0\n",
      "Simulation started\n",
      "Simulation process id: 1424678 (parent (waf shell) id: 1424633)\n",
      "Waiting for Python process to connect on port: tcp://localhost:46441\n",
      "Please start proper Python Gym Agent\n",
      "COMET INFO: ----------------------------\n",
      "COMET INFO: Comet.ml Experiment Summary:\n",
      "COMET INFO:   Data:\n",
      "COMET INFO:     url: https://www.comet.com/sheila-janota/rl-in-wifi-with-queue-level/5aa83d31c23641f59ba9ef122c141545\n",
      "COMET INFO:   Metrics [count] (min, max):\n",
      "COMET INFO:     Chosen CW [89985]           : (16.0, 1024.0)\n",
      "COMET INFO:     Cumulative reward [15]      : (2380.8466796875, 3272.688720703125)\n",
      "COMET INFO:     Current throughput [89985]  : (11.169400215148926, 46.94512176513672)\n",
      "COMET INFO:     Fairness index [89985]      : (0.9206200242042542, 0.999966025352478)\n",
      "COMET INFO:     Megabytes sent [89985]      : (0.11169400066137314, 2338.09754678607)\n",
      "COMET INFO:     Observation 0 [89985]       : (0.7907666496187448, 0.8333333134651184)\n",
      "COMET INFO:     Observation 1 [89985]       : (0.0, 0.10241048288575047)\n",
      "COMET INFO:     Per-ep reward [89985]       : (109.57958984375, 3272.688720703125)\n",
      "COMET INFO:     Round megabytes sent [89985]: (0.05584700033068657, 11.80609130859375)\n",
      "COMET INFO:     Round reward [89985]        : (0.074462890625, 0.62548828125)\n",
      "COMET INFO:     Speed [15]                  : (28.392700955147543, 38.968292446434496)\n",
      "COMET INFO:     Station count [89985]       : (5.0, 5.0)\n",
      "COMET INFO:     loss [89985]                : (0.0, 0.16003244370222092)\n",
      "COMET INFO:   Uploads:\n",
      "COMET INFO:     histogram3d: 89985\n",
      "COMET INFO: ----------------------------\n"
     ]
    },
    {
     "name": "stdout",
     "output_type": "stream",
     "text": [
      "Sent 2338.10 Mb/s.\tMean speed: 38.97 Mb/s\tEpisode 15/15 finished\n",
      "\n"
     ]
    },
    {
     "name": "stderr",
     "output_type": "stream",
     "text": [
      "COMET INFO: Uploading stats to Comet before program termination (may take several seconds)\n"
     ]
    },
    {
     "name": "stdout",
     "output_type": "stream",
     "text": [
      "Training finished.\n"
     ]
    }
   ],
   "source": [
    "#%%\n",
    "teacher = Teacher(env, 1, Preprocessor(False))\n",
    "\n",
    "lr = 4e-4\n",
    "config = Config(buffer_size=3*steps_per_ep*threads_no, batch_size=32, gamma=0.7, tau=1e-3, lr=lr, update_every=1)\n",
    "agent = Agent(QNetworkTf, state_size=5, action_size=7, config=config)\n",
    "agent.set_epsilon(0.9, 0.001, EPISODE_COUNT-2)\n",
    "\n",
    "# Test the model\n",
    "hyperparams = {**config.__dict__, **sim_args}\n",
    "tags = [\"Rew: normalized speed\",\n",
    "        \"Final\",\n",
    "        f\"{Agent.NAME}\",\n",
    "        sim_args['scenario'],\n",
    "        f\"LR: {lr}\",\n",
    "        f\"Instances: {threads_no}\",\n",
    "        f\"Station count: {sim_args['nWifi']}\",\n",
    "        *[f\"{key}: {sim_args[key]}\" for key in list(sim_args)[:3]]]\n",
    "# # agent.save()\n",
    "logger = teacher.train(agent, EPISODE_COUNT,\n",
    "                        simTime=simTime,\n",
    "                        stepTime=stepTime,\n",
    "                        history_length=history_length,\n",
    "                        send_logs=True,\n",
    "                        experimental=True,\n",
    "                        tags=tags,\n",
    "                        parameters=hyperparams)\n",
    "#logger = teacher.eval(agent,\n",
    "#                        simTime=simTime,\n",
    "#                        stepTime=stepTime,\n",
    "#                        history_length=history_length,\n",
    "#                        tags=tags,\n",
    "#                        parameters=hyperparams)\n",
    "# agent.save()\n",
    "\n",
    "\n",
    "# %%"
   ]
  },
  {
   "cell_type": "code",
   "execution_count": null,
   "id": "506c2ddf",
   "metadata": {},
   "outputs": [],
   "source": []
  },
  {
   "cell_type": "markdown",
   "id": "d8c90112",
   "metadata": {},
   "source": [
    "# Execution num4:"
   ]
  },
  {
   "cell_type": "code",
   "execution_count": 1,
   "id": "c75d47e6",
   "metadata": {},
   "outputs": [
    {
     "name": "stderr",
     "output_type": "stream",
     "text": [
      "/home/samuel/anaconda3/envs/myEnv3_7/lib/python3.7/site-packages/tensorflow/python/framework/dtypes.py:516: FutureWarning: Passing (type, 1) or '1type' as a synonym of type is deprecated; in a future version of numpy, it will be understood as (type, (1,)) / '(1,)type'.\n",
      "  _np_qint8 = np.dtype([(\"qint8\", np.int8, 1)])\n",
      "/home/samuel/anaconda3/envs/myEnv3_7/lib/python3.7/site-packages/tensorflow/python/framework/dtypes.py:517: FutureWarning: Passing (type, 1) or '1type' as a synonym of type is deprecated; in a future version of numpy, it will be understood as (type, (1,)) / '(1,)type'.\n",
      "  _np_quint8 = np.dtype([(\"quint8\", np.uint8, 1)])\n",
      "/home/samuel/anaconda3/envs/myEnv3_7/lib/python3.7/site-packages/tensorflow/python/framework/dtypes.py:518: FutureWarning: Passing (type, 1) or '1type' as a synonym of type is deprecated; in a future version of numpy, it will be understood as (type, (1,)) / '(1,)type'.\n",
      "  _np_qint16 = np.dtype([(\"qint16\", np.int16, 1)])\n",
      "/home/samuel/anaconda3/envs/myEnv3_7/lib/python3.7/site-packages/tensorflow/python/framework/dtypes.py:519: FutureWarning: Passing (type, 1) or '1type' as a synonym of type is deprecated; in a future version of numpy, it will be understood as (type, (1,)) / '(1,)type'.\n",
      "  _np_quint16 = np.dtype([(\"quint16\", np.uint16, 1)])\n",
      "/home/samuel/anaconda3/envs/myEnv3_7/lib/python3.7/site-packages/tensorflow/python/framework/dtypes.py:520: FutureWarning: Passing (type, 1) or '1type' as a synonym of type is deprecated; in a future version of numpy, it will be understood as (type, (1,)) / '(1,)type'.\n",
      "  _np_qint32 = np.dtype([(\"qint32\", np.int32, 1)])\n",
      "/home/samuel/anaconda3/envs/myEnv3_7/lib/python3.7/site-packages/tensorflow/python/framework/dtypes.py:525: FutureWarning: Passing (type, 1) or '1type' as a synonym of type is deprecated; in a future version of numpy, it will be understood as (type, (1,)) / '(1,)type'.\n",
      "  np_resource = np.dtype([(\"resource\", np.ubyte, 1)])\n",
      "/home/samuel/anaconda3/envs/myEnv3_7/lib/python3.7/site-packages/tensorboard/compat/tensorflow_stub/dtypes.py:541: FutureWarning: Passing (type, 1) or '1type' as a synonym of type is deprecated; in a future version of numpy, it will be understood as (type, (1,)) / '(1,)type'.\n",
      "  _np_qint8 = np.dtype([(\"qint8\", np.int8, 1)])\n",
      "/home/samuel/anaconda3/envs/myEnv3_7/lib/python3.7/site-packages/tensorboard/compat/tensorflow_stub/dtypes.py:542: FutureWarning: Passing (type, 1) or '1type' as a synonym of type is deprecated; in a future version of numpy, it will be understood as (type, (1,)) / '(1,)type'.\n",
      "  _np_quint8 = np.dtype([(\"quint8\", np.uint8, 1)])\n",
      "/home/samuel/anaconda3/envs/myEnv3_7/lib/python3.7/site-packages/tensorboard/compat/tensorflow_stub/dtypes.py:543: FutureWarning: Passing (type, 1) or '1type' as a synonym of type is deprecated; in a future version of numpy, it will be understood as (type, (1,)) / '(1,)type'.\n",
      "  _np_qint16 = np.dtype([(\"qint16\", np.int16, 1)])\n",
      "/home/samuel/anaconda3/envs/myEnv3_7/lib/python3.7/site-packages/tensorboard/compat/tensorflow_stub/dtypes.py:544: FutureWarning: Passing (type, 1) or '1type' as a synonym of type is deprecated; in a future version of numpy, it will be understood as (type, (1,)) / '(1,)type'.\n",
      "  _np_quint16 = np.dtype([(\"quint16\", np.uint16, 1)])\n",
      "/home/samuel/anaconda3/envs/myEnv3_7/lib/python3.7/site-packages/tensorboard/compat/tensorflow_stub/dtypes.py:545: FutureWarning: Passing (type, 1) or '1type' as a synonym of type is deprecated; in a future version of numpy, it will be understood as (type, (1,)) / '(1,)type'.\n",
      "  _np_qint32 = np.dtype([(\"qint32\", np.int32, 1)])\n",
      "/home/samuel/anaconda3/envs/myEnv3_7/lib/python3.7/site-packages/tensorboard/compat/tensorflow_stub/dtypes.py:550: FutureWarning: Passing (type, 1) or '1type' as a synonym of type is deprecated; in a future version of numpy, it will be understood as (type, (1,)) / '(1,)type'.\n",
      "  np_resource = np.dtype([(\"resource\", np.ubyte, 1)])\n"
     ]
    }
   ],
   "source": [
    "#%%\n",
    "from ns3gym import ns3env\n",
    "from comet_ml import Experiment, Optimizer\n",
    "import tqdm\n",
    "import subprocess\n",
    "from collections import deque\n",
    "import numpy as np\n",
    "\n",
    "from agents.dqn.agent import Agent, Config\n",
    "from agents.dqn.model import QNetworkTf\n",
    "from agents.teacher import Teacher, EnvWrapper\n",
    "from preprocessor import Preprocessor"
   ]
  },
  {
   "cell_type": "code",
   "execution_count": 2,
   "id": "1e61ffc8",
   "metadata": {},
   "outputs": [
    {
     "name": "stdout",
     "output_type": "stream",
     "text": [
      "Steps per episode: 6000\n",
      "Waiting for simulation script to connect on port: tcp://localhost:51425\n",
      "Please start proper ns-3 simulation script using ./waf --run \"...\"\n",
      "Waf: Entering directory `/home/samuel/ns-allinone-3.29/ns-3.29/build'\n",
      "Waf: Leaving directory `/home/samuel/ns-allinone-3.29/ns-3.29/build'\n",
      "Build commands will be stored in build/compile_commands.json\n",
      "'build' finished successfully (2.587s)\n"
     ]
    },
    {
     "name": "stderr",
     "output_type": "stream",
     "text": [
      "Ns3Env parameters:\n",
      "--nWifi: 5\n",
      "--simulationTime: 60\n",
      "--openGymPort: 51425\n",
      "--envStepTime: 0.01\n",
      "--seed: 42\n",
      "--agentType: discrete\n",
      "--scenario: basic\n",
      "--dryRun: 0\n",
      "Simulation started\n"
     ]
    },
    {
     "name": "stdout",
     "output_type": "stream",
     "text": [
      "Observation space shape: (1, 300)\n",
      "Action space shape: (1, 1)\n"
     ]
    },
    {
     "name": "stderr",
     "output_type": "stream",
     "text": [
      "Simulation process id: 1780764 (parent (waf shell) id: 1780746)\n",
      "Waiting for Python process to connect on port: tcp://localhost:51425\n",
      "Please start proper Python Gym Agent\n"
     ]
    }
   ],
   "source": [
    "#%%\n",
    "scenario = \"basic\"\n",
    "\n",
    "simTime = 60 # seconds\n",
    "stepTime = 0.01  # seconds\n",
    "history_length = 300\n",
    "\n",
    "EPISODE_COUNT = 15\n",
    "steps_per_ep = int(simTime/stepTime)\n",
    "\n",
    "sim_args = {\n",
    "    \"simTime\": simTime,\n",
    "    \"envStepTime\": stepTime,\n",
    "    \"historyLength\": history_length,\n",
    "    \"agentType\": Agent.TYPE,\n",
    "    \"scenario\": \"basic\",\n",
    "    \"nWifi\": 5,\n",
    "}\n",
    "\n",
    "print(\"Steps per episode:\", steps_per_ep)\n",
    "\n",
    "threads_no = 1\n",
    "env = EnvWrapper(threads_no, **sim_args)\n",
    "\n",
    "#%%\n",
    "env.reset()\n",
    "ob_space = env.observation_space\n",
    "ac_space = env.action_space\n",
    "\n",
    "print(\"Observation space shape:\", ob_space)\n",
    "print(\"Action space shape:\", ac_space)\n",
    "\n",
    "assert ob_space is not None"
   ]
  },
  {
   "cell_type": "code",
   "execution_count": 3,
   "id": "4610c733",
   "metadata": {},
   "outputs": [
    {
     "name": "stdout",
     "output_type": "stream",
     "text": [
      "WARNING:tensorflow:From /home/samuel/ns-allinone-3.29/ns-3.29/scratch/RLinWiFi-master-original-queue-level-mean/agents/dqn/agent.py:53: The name tf.Session is deprecated. Please use tf.compat.v1.Session instead.\n",
      "\n",
      "WARNING:tensorflow:From /home/samuel/ns-allinone-3.29/ns-3.29/scratch/RLinWiFi-master-original-queue-level-mean/agents/dqn/model.py:25: The name tf.variable_scope is deprecated. Please use tf.compat.v1.variable_scope instead.\n",
      "\n",
      "WARNING:tensorflow:From /home/samuel/ns-allinone-3.29/ns-3.29/scratch/RLinWiFi-master-original-queue-level-mean/agents/dqn/model.py:26: The name tf.placeholder is deprecated. Please use tf.compat.v1.placeholder instead.\n",
      "\n"
     ]
    },
    {
     "name": "stderr",
     "output_type": "stream",
     "text": [
      "2023-02-15 10:31:44.242799: I tensorflow/core/platform/cpu_feature_guard.cc:142] Your CPU supports instructions that this TensorFlow binary was not compiled to use: AVX2 FMA\n",
      "2023-02-15 10:31:44.272765: I tensorflow/core/platform/profile_utils/cpu_utils.cc:94] CPU Frequency: 3491795000 Hz\n",
      "2023-02-15 10:31:44.274227: I tensorflow/compiler/xla/service/service.cc:168] XLA service 0x55f2524edea0 executing computations on platform Host. Devices:\n",
      "2023-02-15 10:31:44.274483: I tensorflow/compiler/xla/service/service.cc:175]   StreamExecutor device (0): <undefined>, <undefined>\n"
     ]
    },
    {
     "name": "stdout",
     "output_type": "stream",
     "text": [
      "WARNING:tensorflow:\n",
      "The TensorFlow contrib module will not be included in TensorFlow 2.0.\n",
      "For more information, please see:\n",
      "  * https://github.com/tensorflow/community/blob/master/rfcs/20180907-contrib-sunset.md\n",
      "  * https://github.com/tensorflow/addons\n",
      "  * https://github.com/tensorflow/io (for I/O related ops)\n",
      "If you depend on functionality not listed there, please file an issue.\n",
      "\n",
      "WARNING:tensorflow:From /home/samuel/ns-allinone-3.29/ns-3.29/scratch/RLinWiFi-master-original-queue-level-mean/agents/dqn/model.py:52: LSTMCell.__init__ (from tensorflow.python.ops.rnn_cell_impl) is deprecated and will be removed in a future version.\n",
      "Instructions for updating:\n",
      "This class is equivalent as tf.keras.layers.LSTMCell, and will be replaced by that in Tensorflow 2.0.\n",
      "WARNING:tensorflow:From /home/samuel/ns-allinone-3.29/ns-3.29/scratch/RLinWiFi-master-original-queue-level-mean/agents/dqn/model.py:52: static_rnn (from tensorflow.python.ops.rnn) is deprecated and will be removed in a future version.\n",
      "Instructions for updating:\n",
      "Please use `keras.layers.RNN(cell, unroll=True)`, which is equivalent to this API\n",
      "WARNING:tensorflow:From /home/samuel/anaconda3/envs/myEnv3_7/lib/python3.7/site-packages/tensorflow/python/ops/init_ops.py:1251: calling VarianceScaling.__init__ (from tensorflow.python.ops.init_ops) with dtype is deprecated and will be removed in a future version.\n",
      "Instructions for updating:\n",
      "Call initializer instance with the dtype argument instead of passing it to the constructor\n",
      "WARNING:tensorflow:From /home/samuel/anaconda3/envs/myEnv3_7/lib/python3.7/site-packages/tensorflow/python/ops/rnn_cell_impl.py:961: calling Zeros.__init__ (from tensorflow.python.ops.init_ops) with dtype is deprecated and will be removed in a future version.\n",
      "Instructions for updating:\n",
      "Call initializer instance with the dtype argument instead of passing it to the constructor\n",
      "WARNING:tensorflow:Entity <bound method LSTMCell.call of <tensorflow.python.ops.rnn_cell_impl.LSTMCell object at 0x7fc33846c450>> could not be transformed and will be executed as-is. Please report this to the AutgoGraph team. When filing the bug, set the verbosity to 10 (on Linux, `export AUTOGRAPH_VERBOSITY=10`) and attach the full output. Cause: converting <bound method LSTMCell.call of <tensorflow.python.ops.rnn_cell_impl.LSTMCell object at 0x7fc33846c450>>: AttributeError: module 'gast' has no attribute 'Index'\n",
      "WARNING: Entity <bound method LSTMCell.call of <tensorflow.python.ops.rnn_cell_impl.LSTMCell object at 0x7fc33846c450>> could not be transformed and will be executed as-is. Please report this to the AutgoGraph team. When filing the bug, set the verbosity to 10 (on Linux, `export AUTOGRAPH_VERBOSITY=10`) and attach the full output. Cause: converting <bound method LSTMCell.call of <tensorflow.python.ops.rnn_cell_impl.LSTMCell object at 0x7fc33846c450>>: AttributeError: module 'gast' has no attribute 'Index'\n",
      "WARNING:tensorflow:Entity <bound method LSTMCell.call of <tensorflow.python.ops.rnn_cell_impl.LSTMCell object at 0x7fc33846c450>> could not be transformed and will be executed as-is. Please report this to the AutgoGraph team. When filing the bug, set the verbosity to 10 (on Linux, `export AUTOGRAPH_VERBOSITY=10`) and attach the full output. Cause: converting <bound method LSTMCell.call of <tensorflow.python.ops.rnn_cell_impl.LSTMCell object at 0x7fc33846c450>>: AttributeError: module 'gast' has no attribute 'Index'\n",
      "WARNING: Entity <bound method LSTMCell.call of <tensorflow.python.ops.rnn_cell_impl.LSTMCell object at 0x7fc33846c450>> could not be transformed and will be executed as-is. Please report this to the AutgoGraph team. When filing the bug, set the verbosity to 10 (on Linux, `export AUTOGRAPH_VERBOSITY=10`) and attach the full output. Cause: converting <bound method LSTMCell.call of <tensorflow.python.ops.rnn_cell_impl.LSTMCell object at 0x7fc33846c450>>: AttributeError: module 'gast' has no attribute 'Index'\n",
      "WARNING:tensorflow:Entity <bound method LSTMCell.call of <tensorflow.python.ops.rnn_cell_impl.LSTMCell object at 0x7fc33846c450>> could not be transformed and will be executed as-is. Please report this to the AutgoGraph team. When filing the bug, set the verbosity to 10 (on Linux, `export AUTOGRAPH_VERBOSITY=10`) and attach the full output. Cause: converting <bound method LSTMCell.call of <tensorflow.python.ops.rnn_cell_impl.LSTMCell object at 0x7fc33846c450>>: AttributeError: module 'gast' has no attribute 'Index'\n",
      "WARNING: Entity <bound method LSTMCell.call of <tensorflow.python.ops.rnn_cell_impl.LSTMCell object at 0x7fc33846c450>> could not be transformed and will be executed as-is. Please report this to the AutgoGraph team. When filing the bug, set the verbosity to 10 (on Linux, `export AUTOGRAPH_VERBOSITY=10`) and attach the full output. Cause: converting <bound method LSTMCell.call of <tensorflow.python.ops.rnn_cell_impl.LSTMCell object at 0x7fc33846c450>>: AttributeError: module 'gast' has no attribute 'Index'\n",
      "WARNING:tensorflow:Entity <bound method LSTMCell.call of <tensorflow.python.ops.rnn_cell_impl.LSTMCell object at 0x7fc33846c450>> could not be transformed and will be executed as-is. Please report this to the AutgoGraph team. When filing the bug, set the verbosity to 10 (on Linux, `export AUTOGRAPH_VERBOSITY=10`) and attach the full output. Cause: converting <bound method LSTMCell.call of <tensorflow.python.ops.rnn_cell_impl.LSTMCell object at 0x7fc33846c450>>: AttributeError: module 'gast' has no attribute 'Index'\n",
      "WARNING: Entity <bound method LSTMCell.call of <tensorflow.python.ops.rnn_cell_impl.LSTMCell object at 0x7fc33846c450>> could not be transformed and will be executed as-is. Please report this to the AutgoGraph team. When filing the bug, set the verbosity to 10 (on Linux, `export AUTOGRAPH_VERBOSITY=10`) and attach the full output. Cause: converting <bound method LSTMCell.call of <tensorflow.python.ops.rnn_cell_impl.LSTMCell object at 0x7fc33846c450>>: AttributeError: module 'gast' has no attribute 'Index'\n",
      "WARNING:tensorflow:From /home/samuel/ns-allinone-3.29/ns-3.29/scratch/RLinWiFi-master-original-queue-level-mean/agents/dqn/model.py:53: dense (from tensorflow.python.layers.core) is deprecated and will be removed in a future version.\n",
      "Instructions for updating:\n",
      "Use keras.layers.dense instead.\n",
      "WARNING:tensorflow:Entity <bound method Dense.call of <tensorflow.python.layers.core.Dense object at 0x7fc33846c450>> could not be transformed and will be executed as-is. Please report this to the AutgoGraph team. When filing the bug, set the verbosity to 10 (on Linux, `export AUTOGRAPH_VERBOSITY=10`) and attach the full output. Cause: converting <bound method Dense.call of <tensorflow.python.layers.core.Dense object at 0x7fc33846c450>>: AttributeError: module 'gast' has no attribute 'Index'\n",
      "WARNING: Entity <bound method Dense.call of <tensorflow.python.layers.core.Dense object at 0x7fc33846c450>> could not be transformed and will be executed as-is. Please report this to the AutgoGraph team. When filing the bug, set the verbosity to 10 (on Linux, `export AUTOGRAPH_VERBOSITY=10`) and attach the full output. Cause: converting <bound method Dense.call of <tensorflow.python.layers.core.Dense object at 0x7fc33846c450>>: AttributeError: module 'gast' has no attribute 'Index'\n",
      "WARNING:tensorflow:Entity <bound method Dense.call of <tensorflow.python.layers.core.Dense object at 0x7fc33846c450>> could not be transformed and will be executed as-is. Please report this to the AutgoGraph team. When filing the bug, set the verbosity to 10 (on Linux, `export AUTOGRAPH_VERBOSITY=10`) and attach the full output. Cause: converting <bound method Dense.call of <tensorflow.python.layers.core.Dense object at 0x7fc33846c450>>: AttributeError: module 'gast' has no attribute 'Index'\n",
      "WARNING: Entity <bound method Dense.call of <tensorflow.python.layers.core.Dense object at 0x7fc33846c450>> could not be transformed and will be executed as-is. Please report this to the AutgoGraph team. When filing the bug, set the verbosity to 10 (on Linux, `export AUTOGRAPH_VERBOSITY=10`) and attach the full output. Cause: converting <bound method Dense.call of <tensorflow.python.layers.core.Dense object at 0x7fc33846c450>>: AttributeError: module 'gast' has no attribute 'Index'\n",
      "WARNING:tensorflow:Entity <bound method Dense.call of <tensorflow.python.layers.core.Dense object at 0x7fc33846c450>> could not be transformed and will be executed as-is. Please report this to the AutgoGraph team. When filing the bug, set the verbosity to 10 (on Linux, `export AUTOGRAPH_VERBOSITY=10`) and attach the full output. Cause: converting <bound method Dense.call of <tensorflow.python.layers.core.Dense object at 0x7fc33846c450>>: AttributeError: module 'gast' has no attribute 'Index'\n"
     ]
    },
    {
     "name": "stdout",
     "output_type": "stream",
     "text": [
      "WARNING: Entity <bound method Dense.call of <tensorflow.python.layers.core.Dense object at 0x7fc33846c450>> could not be transformed and will be executed as-is. Please report this to the AutgoGraph team. When filing the bug, set the verbosity to 10 (on Linux, `export AUTOGRAPH_VERBOSITY=10`) and attach the full output. Cause: converting <bound method Dense.call of <tensorflow.python.layers.core.Dense object at 0x7fc33846c450>>: AttributeError: module 'gast' has no attribute 'Index'\n",
      "WARNING:tensorflow:From /home/samuel/ns-allinone-3.29/ns-3.29/scratch/RLinWiFi-master-original-queue-level-mean/agents/dqn/model.py:69: The name tf.losses.mean_squared_error is deprecated. Please use tf.compat.v1.losses.mean_squared_error instead.\n",
      "\n",
      "WARNING:tensorflow:From /home/samuel/anaconda3/envs/myEnv3_7/lib/python3.7/site-packages/tensorflow/python/ops/losses/losses_impl.py:121: add_dispatch_support.<locals>.wrapper (from tensorflow.python.ops.array_ops) is deprecated and will be removed in a future version.\n",
      "Instructions for updating:\n",
      "Use tf.where in 2.0, which has the same broadcast rule as np.where\n",
      "WARNING:tensorflow:From /home/samuel/ns-allinone-3.29/ns-3.29/scratch/RLinWiFi-master-original-queue-level-mean/agents/dqn/model.py:77: The name tf.train.AdamOptimizer is deprecated. Please use tf.compat.v1.train.AdamOptimizer instead.\n",
      "\n",
      "WARNING:tensorflow:From /home/samuel/ns-allinone-3.29/ns-3.29/scratch/RLinWiFi-master-original-queue-level-mean/agents/dqn/model.py:33: The name tf.global_variables_initializer is deprecated. Please use tf.compat.v1.global_variables_initializer instead.\n",
      "\n",
      "WARNING:tensorflow:From /home/samuel/ns-allinone-3.29/ns-3.29/scratch/RLinWiFi-master-original-queue-level-mean/agents/dqn/model.py:34: The name tf.local_variables_initializer is deprecated. Please use tf.compat.v1.local_variables_initializer instead.\n",
      "\n",
      "WARNING:tensorflow:Entity <bound method LSTMCell.call of <tensorflow.python.ops.rnn_cell_impl.LSTMCell object at 0x7fc2dad9ae90>> could not be transformed and will be executed as-is. Please report this to the AutgoGraph team. When filing the bug, set the verbosity to 10 (on Linux, `export AUTOGRAPH_VERBOSITY=10`) and attach the full output. Cause: converting <bound method LSTMCell.call of <tensorflow.python.ops.rnn_cell_impl.LSTMCell object at 0x7fc2dad9ae90>>: AttributeError: module 'gast' has no attribute 'Index'\n",
      "WARNING: Entity <bound method LSTMCell.call of <tensorflow.python.ops.rnn_cell_impl.LSTMCell object at 0x7fc2dad9ae90>> could not be transformed and will be executed as-is. Please report this to the AutgoGraph team. When filing the bug, set the verbosity to 10 (on Linux, `export AUTOGRAPH_VERBOSITY=10`) and attach the full output. Cause: converting <bound method LSTMCell.call of <tensorflow.python.ops.rnn_cell_impl.LSTMCell object at 0x7fc2dad9ae90>>: AttributeError: module 'gast' has no attribute 'Index'\n",
      "WARNING:tensorflow:Entity <bound method LSTMCell.call of <tensorflow.python.ops.rnn_cell_impl.LSTMCell object at 0x7fc2dad9ae90>> could not be transformed and will be executed as-is. Please report this to the AutgoGraph team. When filing the bug, set the verbosity to 10 (on Linux, `export AUTOGRAPH_VERBOSITY=10`) and attach the full output. Cause: converting <bound method LSTMCell.call of <tensorflow.python.ops.rnn_cell_impl.LSTMCell object at 0x7fc2dad9ae90>>: AttributeError: module 'gast' has no attribute 'Index'\n",
      "WARNING: Entity <bound method LSTMCell.call of <tensorflow.python.ops.rnn_cell_impl.LSTMCell object at 0x7fc2dad9ae90>> could not be transformed and will be executed as-is. Please report this to the AutgoGraph team. When filing the bug, set the verbosity to 10 (on Linux, `export AUTOGRAPH_VERBOSITY=10`) and attach the full output. Cause: converting <bound method LSTMCell.call of <tensorflow.python.ops.rnn_cell_impl.LSTMCell object at 0x7fc2dad9ae90>>: AttributeError: module 'gast' has no attribute 'Index'\n",
      "WARNING:tensorflow:Entity <bound method LSTMCell.call of <tensorflow.python.ops.rnn_cell_impl.LSTMCell object at 0x7fc2dad9ae90>> could not be transformed and will be executed as-is. Please report this to the AutgoGraph team. When filing the bug, set the verbosity to 10 (on Linux, `export AUTOGRAPH_VERBOSITY=10`) and attach the full output. Cause: converting <bound method LSTMCell.call of <tensorflow.python.ops.rnn_cell_impl.LSTMCell object at 0x7fc2dad9ae90>>: AttributeError: module 'gast' has no attribute 'Index'\n"
     ]
    },
    {
     "name": "stderr",
     "output_type": "stream",
     "text": [
      "2023-02-15 10:31:46.484193: W tensorflow/compiler/jit/mark_for_compilation_pass.cc:1412] (One-time warning): Not using XLA:CPU for cluster because envvar TF_XLA_FLAGS=--tf_xla_cpu_global_jit was not set.  If you want XLA:CPU, either set that envvar, or use experimental_jit_scope to enable XLA:CPU.  To confirm that XLA is active, pass --vmodule=xla_compilation_cache=1 (as a proper command-line flag, not via TF_XLA_FLAGS) or set the envvar XLA_FLAGS=--xla_hlo_profile.\n"
     ]
    },
    {
     "name": "stdout",
     "output_type": "stream",
     "text": [
      "WARNING: Entity <bound method LSTMCell.call of <tensorflow.python.ops.rnn_cell_impl.LSTMCell object at 0x7fc2dad9ae90>> could not be transformed and will be executed as-is. Please report this to the AutgoGraph team. When filing the bug, set the verbosity to 10 (on Linux, `export AUTOGRAPH_VERBOSITY=10`) and attach the full output. Cause: converting <bound method LSTMCell.call of <tensorflow.python.ops.rnn_cell_impl.LSTMCell object at 0x7fc2dad9ae90>>: AttributeError: module 'gast' has no attribute 'Index'\n",
      "WARNING:tensorflow:Entity <bound method LSTMCell.call of <tensorflow.python.ops.rnn_cell_impl.LSTMCell object at 0x7fc2dad9ae90>> could not be transformed and will be executed as-is. Please report this to the AutgoGraph team. When filing the bug, set the verbosity to 10 (on Linux, `export AUTOGRAPH_VERBOSITY=10`) and attach the full output. Cause: converting <bound method LSTMCell.call of <tensorflow.python.ops.rnn_cell_impl.LSTMCell object at 0x7fc2dad9ae90>>: AttributeError: module 'gast' has no attribute 'Index'\n",
      "WARNING: Entity <bound method LSTMCell.call of <tensorflow.python.ops.rnn_cell_impl.LSTMCell object at 0x7fc2dad9ae90>> could not be transformed and will be executed as-is. Please report this to the AutgoGraph team. When filing the bug, set the verbosity to 10 (on Linux, `export AUTOGRAPH_VERBOSITY=10`) and attach the full output. Cause: converting <bound method LSTMCell.call of <tensorflow.python.ops.rnn_cell_impl.LSTMCell object at 0x7fc2dad9ae90>>: AttributeError: module 'gast' has no attribute 'Index'\n",
      "WARNING:tensorflow:Entity <bound method Dense.call of <tensorflow.python.layers.core.Dense object at 0x7fc2dad9ae90>> could not be transformed and will be executed as-is. Please report this to the AutgoGraph team. When filing the bug, set the verbosity to 10 (on Linux, `export AUTOGRAPH_VERBOSITY=10`) and attach the full output. Cause: converting <bound method Dense.call of <tensorflow.python.layers.core.Dense object at 0x7fc2dad9ae90>>: AttributeError: module 'gast' has no attribute 'Index'\n",
      "WARNING: Entity <bound method Dense.call of <tensorflow.python.layers.core.Dense object at 0x7fc2dad9ae90>> could not be transformed and will be executed as-is. Please report this to the AutgoGraph team. When filing the bug, set the verbosity to 10 (on Linux, `export AUTOGRAPH_VERBOSITY=10`) and attach the full output. Cause: converting <bound method Dense.call of <tensorflow.python.layers.core.Dense object at 0x7fc2dad9ae90>>: AttributeError: module 'gast' has no attribute 'Index'\n",
      "WARNING:tensorflow:Entity <bound method Dense.call of <tensorflow.python.layers.core.Dense object at 0x7fc2dad9ae90>> could not be transformed and will be executed as-is. Please report this to the AutgoGraph team. When filing the bug, set the verbosity to 10 (on Linux, `export AUTOGRAPH_VERBOSITY=10`) and attach the full output. Cause: converting <bound method Dense.call of <tensorflow.python.layers.core.Dense object at 0x7fc2dad9ae90>>: AttributeError: module 'gast' has no attribute 'Index'\n",
      "WARNING: Entity <bound method Dense.call of <tensorflow.python.layers.core.Dense object at 0x7fc2dad9ae90>> could not be transformed and will be executed as-is. Please report this to the AutgoGraph team. When filing the bug, set the verbosity to 10 (on Linux, `export AUTOGRAPH_VERBOSITY=10`) and attach the full output. Cause: converting <bound method Dense.call of <tensorflow.python.layers.core.Dense object at 0x7fc2dad9ae90>>: AttributeError: module 'gast' has no attribute 'Index'\n",
      "WARNING:tensorflow:Entity <bound method Dense.call of <tensorflow.python.layers.core.Dense object at 0x7fc2dad9ae90>> could not be transformed and will be executed as-is. Please report this to the AutgoGraph team. When filing the bug, set the verbosity to 10 (on Linux, `export AUTOGRAPH_VERBOSITY=10`) and attach the full output. Cause: converting <bound method Dense.call of <tensorflow.python.layers.core.Dense object at 0x7fc2dad9ae90>>: AttributeError: module 'gast' has no attribute 'Index'\n",
      "WARNING: Entity <bound method Dense.call of <tensorflow.python.layers.core.Dense object at 0x7fc2dad9ae90>> could not be transformed and will be executed as-is. Please report this to the AutgoGraph team. When filing the bug, set the verbosity to 10 (on Linux, `export AUTOGRAPH_VERBOSITY=10`) and attach the full output. Cause: converting <bound method Dense.call of <tensorflow.python.layers.core.Dense object at 0x7fc2dad9ae90>>: AttributeError: module 'gast' has no attribute 'Index'\n",
      "WARNING:tensorflow:From /home/samuel/ns-allinone-3.29/ns-3.29/scratch/RLinWiFi-master-original-queue-level-mean/agents/dqn/agent.py:77: The name tf.train.Saver is deprecated. Please use tf.compat.v1.train.Saver instead.\n",
      "\n",
      "Action space: 7\n",
      "WARNING:tensorflow:From /home/samuel/ns-allinone-3.29/ns-3.29/scratch/RLinWiFi-master-original-queue-level-mean/agents/dqn/agent.py:107: Variable.load (from tensorflow.python.ops.variables) is deprecated and will be removed in a future version.\n",
      "Instructions for updating:\n",
      "Prefer Variable.assign which has equivalent behavior in 2.X.\n"
     ]
    },
    {
     "name": "stderr",
     "output_type": "stream",
     "text": [
      "COMET INFO: Experiment is live on comet.ml https://www.comet.com/sheila-janota/rl-in-wifi-with-queue-level/2b178ea11312423d87d6bfb473919ee0\n",
      "\n",
      "  0%|          | 0/6300 [00:00<?, ?it/s]"
     ]
    },
    {
     "name": "stdout",
     "output_type": "stream",
     "text": [
      "0\n"
     ]
    },
    {
     "name": "stderr",
     "output_type": "stream",
     "text": [
      "  5%|▌         | 333/6300 [00:59<21:51,  4.55it/s, curr_speed=29.77 Mbps, mb_sent=9.53 Mb]"
     ]
    },
    {
     "name": "stdout",
     "output_type": "stream",
     "text": [
      "------- STARTED TRAINING -------\n"
     ]
    },
    {
     "name": "stderr",
     "output_type": "stream",
     "text": [
      "100%|██████████| 6300/6300 [27:43<00:00,  3.79it/s, curr_speed=27.71 Mbps, mb_sent=1711.26 Mb]\n"
     ]
    },
    {
     "name": "stdout",
     "output_type": "stream",
     "text": [
      "Waiting for simulation script to connect on port: tcp://localhost:37291\n",
      "Please start proper ns-3 simulation script using ./waf --run \"...\"\n",
      "Waf: Entering directory `/home/samuel/ns-allinone-3.29/ns-3.29/build'\n",
      "Waf: Leaving directory `/home/samuel/ns-allinone-3.29/ns-3.29/build'\n",
      "Build commands will be stored in build/compile_commands.json\n",
      "'build' finished successfully (3.619s)\n"
     ]
    },
    {
     "name": "stderr",
     "output_type": "stream",
     "text": [
      "Ns3Env parameters:\n",
      "--nWifi: 5\n",
      "--simulationTime: 60\n",
      "--openGymPort: 37291\n",
      "--envStepTime: 0.01\n",
      "--seed: 42\n",
      "--agentType: discrete\n",
      "--scenario: basic\n",
      "--dryRun: 0\n",
      "Simulation started\n",
      "Simulation process id: 1794279 (parent (waf shell) id: 1794243)\n",
      "Waiting for Python process to connect on port: tcp://localhost:37291\n",
      "Please start proper Python Gym Agent\n",
      "  0%|          | 1/6300 [00:00<17:51,  5.88it/s, curr_speed=0.00 Mbps, mb_sent=0.00 Mb]"
     ]
    },
    {
     "name": "stdout",
     "output_type": "stream",
     "text": [
      "Sent 1711.26 Mb/s.\tMean speed: 28.52 Mb/s\tEpisode 1/15 finished\n",
      "\n",
      "1\n"
     ]
    },
    {
     "name": "stderr",
     "output_type": "stream",
     "text": [
      "100%|██████████| 6300/6300 [28:34<00:00,  3.68it/s, curr_speed=33.27 Mbps, mb_sent=1977.01 Mb]\n"
     ]
    },
    {
     "name": "stdout",
     "output_type": "stream",
     "text": [
      "Waiting for simulation script to connect on port: tcp://localhost:19327\n",
      "Please start proper ns-3 simulation script using ./waf --run \"...\"\n",
      "Waf: Entering directory `/home/samuel/ns-allinone-3.29/ns-3.29/build'\n",
      "Waf: Leaving directory `/home/samuel/ns-allinone-3.29/ns-3.29/build'\n",
      "Build commands will be stored in build/compile_commands.json\n",
      "'build' finished successfully (3.609s)\n"
     ]
    },
    {
     "name": "stderr",
     "output_type": "stream",
     "text": [
      "Ns3Env parameters:\n",
      "--nWifi: 5\n",
      "--simulationTime: 60\n",
      "--openGymPort: 19327\n",
      "--envStepTime: 0.01\n",
      "--seed: 42\n",
      "--agentType: discrete\n",
      "--scenario: basic\n",
      "--dryRun: 0\n",
      "Simulation started\n",
      "Simulation process id: 1809381 (parent (waf shell) id: 1809345)\n",
      "Waiting for Python process to connect on port: tcp://localhost:19327\n",
      "Please start proper Python Gym Agent\n",
      "  0%|          | 0/6300 [00:00<?, ?it/s]"
     ]
    },
    {
     "name": "stdout",
     "output_type": "stream",
     "text": [
      "Sent 1977.01 Mb/s.\tMean speed: 32.95 Mb/s\tEpisode 2/15 finished\n",
      "\n",
      "2\n"
     ]
    },
    {
     "name": "stderr",
     "output_type": "stream",
     "text": [
      " 33%|███▎      | 2104/6300 [09:32<19:10,  3.65it/s, curr_speed=35.87 Mbps, mb_sent=632.38 Mb]COMET ERROR: File could not be uploaded\n",
      "COMET ERROR: File could not be uploaded\n",
      " 33%|███▎      | 2105/6300 [09:33<21:08,  3.31it/s, curr_speed=35.87 Mbps, mb_sent=632.74 Mb]COMET ERROR: File could not be uploaded\n",
      " 35%|███▍      | 2196/6300 [09:57<16:02,  4.26it/s, curr_speed=35.11 Mbps, mb_sent=664.96 Mb]COMET ERROR: File could not be uploaded\n",
      " 35%|███▍      | 2197/6300 [09:58<15:12,  4.50it/s, curr_speed=35.02 Mbps, mb_sent=665.10 Mb]COMET ERROR: File could not be uploaded\n",
      " 35%|███▍      | 2198/6300 [09:58<16:36,  4.12it/s, curr_speed=35.02 Mbps, mb_sent=665.47 Mb]COMET ERROR: File could not be uploaded\n",
      " 36%|███▌      | 2248/6300 [10:13<20:22,  3.31it/s, curr_speed=34.83 Mbps, mb_sent=682.81 Mb]COMET ERROR: File could not be uploaded\n",
      " 36%|███▌      | 2249/6300 [10:13<21:25,  3.15it/s, curr_speed=34.79 Mbps, mb_sent=683.19 Mb]COMET ERROR: File could not be uploaded\n",
      " 36%|███▌      | 2250/6300 [10:13<22:23,  3.01it/s, curr_speed=34.77 Mbps, mb_sent=683.57 Mb]COMET ERROR: File could not be uploaded\n",
      " 37%|███▋      | 2305/6300 [10:28<15:18,  4.35it/s, curr_speed=35.49 Mbps, mb_sent=703.80 Mb]COMET ERROR: File could not be uploaded\n",
      " 37%|███▋      | 2306/6300 [10:29<15:05,  4.41it/s, curr_speed=35.55 Mbps, mb_sent=704.22 Mb]COMET ERROR: File could not be uploaded\n",
      " 37%|███▋      | 2307/6300 [10:29<15:41,  4.24it/s, curr_speed=35.73 Mbps, mb_sent=704.59 Mb]COMET ERROR: File could not be uploaded\n",
      " 38%|███▊      | 2368/6300 [10:47<21:53,  2.99it/s, curr_speed=35.60 Mbps, mb_sent=726.01 Mb]COMET ERROR: File could not be uploaded\n",
      " 38%|███▊      | 2420/6300 [11:01<17:41,  3.66it/s, curr_speed=34.35 Mbps, mb_sent=743.69 Mb]COMET ERROR: File could not be uploaded\n",
      "COMET ERROR: File could not be uploaded\n",
      "100%|██████████| 6300/6300 [29:09<00:00,  3.60it/s, curr_speed=40.63 Mbps, mb_sent=2094.63 Mb]\n"
     ]
    },
    {
     "name": "stdout",
     "output_type": "stream",
     "text": [
      "Waiting for simulation script to connect on port: tcp://localhost:21436\n",
      "Please start proper ns-3 simulation script using ./waf --run \"...\"\n",
      "Waf: Entering directory `/home/samuel/ns-allinone-3.29/ns-3.29/build'\n",
      "Waf: Leaving directory `/home/samuel/ns-allinone-3.29/ns-3.29/build'\n",
      "Build commands will be stored in build/compile_commands.json\n",
      "'build' finished successfully (3.262s)\n"
     ]
    },
    {
     "name": "stderr",
     "output_type": "stream",
     "text": [
      "Ns3Env parameters:\n",
      "--nWifi: 5\n",
      "--simulationTime: 60\n",
      "--openGymPort: 21436\n",
      "--envStepTime: 0.01\n",
      "--seed: 42\n",
      "--agentType: discrete\n",
      "--scenario: basic\n",
      "--dryRun: 0\n",
      "Simulation started\n",
      "Simulation process id: 1824219 (parent (waf shell) id: 1824187)\n",
      "Waiting for Python process to connect on port: tcp://localhost:21436\n",
      "Please start proper Python Gym Agent\n",
      "  0%|          | 0/6300 [00:00<?, ?it/s, curr_speed=0.00 Mbps, mb_sent=0.00 Mb]"
     ]
    },
    {
     "name": "stdout",
     "output_type": "stream",
     "text": [
      "Sent 2094.63 Mb/s.\tMean speed: 34.91 Mb/s\tEpisode 3/15 finished\n",
      "\n",
      "3\n"
     ]
    },
    {
     "name": "stderr",
     "output_type": "stream",
     "text": [
      "  5%|▍         | 304/6300 [00:59<22:22,  4.47it/s, curr_speed=38.72 Mbps, mb_sent=1.16 Mb]"
     ]
    },
    {
     "name": "stdout",
     "output_type": "stream",
     "text": [
      "------- MEMORY BUFFER FILLED -------\n"
     ]
    },
    {
     "name": "stderr",
     "output_type": "stream",
     "text": [
      " 41%|████      | 2567/6300 [11:47<16:29,  3.77it/s, curr_speed=37.61 Mbps, mb_sent=828.14 Mb]COMET ERROR: File could not be uploaded\n",
      " 41%|████      | 2569/6300 [11:47<16:33,  3.76it/s, curr_speed=37.46 Mbps, mb_sent=828.81 Mb]COMET ERROR: File could not be uploaded\n",
      " 41%|████      | 2570/6300 [11:47<16:46,  3.71it/s, curr_speed=37.47 Mbps, mb_sent=829.22 Mb]COMET ERROR: File could not be uploaded\n",
      "COMET ERROR: File could not be uploaded\n",
      "100%|██████████| 6300/6300 [29:34<00:00,  3.55it/s, curr_speed=37.93 Mbps, mb_sent=2197.17 Mb]\n"
     ]
    },
    {
     "name": "stdout",
     "output_type": "stream",
     "text": [
      "Waiting for simulation script to connect on port: tcp://localhost:14636\n",
      "Please start proper ns-3 simulation script using ./waf --run \"...\"\n",
      "Waf: Entering directory `/home/samuel/ns-allinone-3.29/ns-3.29/build'\n",
      "Waf: Leaving directory `/home/samuel/ns-allinone-3.29/ns-3.29/build'\n",
      "Build commands will be stored in build/compile_commands.json\n",
      "'build' finished successfully (3.690s)\n"
     ]
    },
    {
     "name": "stderr",
     "output_type": "stream",
     "text": [
      "Ns3Env parameters:\n",
      "--nWifi: 5\n",
      "--simulationTime: 60\n",
      "--openGymPort: 14636\n",
      "--envStepTime: 0.01\n",
      "--seed: 42\n",
      "--agentType: discrete\n",
      "--scenario: basic\n",
      "--dryRun: 0\n",
      "Simulation started\n",
      "Simulation process id: 1839094 (parent (waf shell) id: 1839061)\n",
      "Waiting for Python process to connect on port: tcp://localhost:14636\n",
      "Please start proper Python Gym Agent\n",
      "  0%|          | 0/6300 [00:00<?, ?it/s]"
     ]
    },
    {
     "name": "stdout",
     "output_type": "stream",
     "text": [
      "Sent 2197.17 Mb/s.\tMean speed: 36.62 Mb/s\tEpisode 4/15 finished\n",
      "\n",
      "4\n"
     ]
    },
    {
     "name": "stderr",
     "output_type": "stream",
     "text": [
      "100%|██████████| 6300/6300 [29:36<00:00,  3.55it/s, curr_speed=38.24 Mbps, mb_sent=2250.23 Mb]\n"
     ]
    },
    {
     "name": "stdout",
     "output_type": "stream",
     "text": [
      "Waiting for simulation script to connect on port: tcp://localhost:26943\n",
      "Please start proper ns-3 simulation script using ./waf --run \"...\"\n",
      "Waf: Entering directory `/home/samuel/ns-allinone-3.29/ns-3.29/build'\n",
      "Waf: Leaving directory `/home/samuel/ns-allinone-3.29/ns-3.29/build'\n",
      "Build commands will be stored in build/compile_commands.json\n",
      "'build' finished successfully (3.280s)\n"
     ]
    },
    {
     "name": "stderr",
     "output_type": "stream",
     "text": [
      "Ns3Env parameters:\n",
      "--nWifi: 5\n",
      "--simulationTime: 60\n",
      "--openGymPort: 26943\n",
      "--envStepTime: 0.01\n",
      "--seed: 42\n",
      "--agentType: discrete\n",
      "--scenario: basic\n",
      "--dryRun: 0\n",
      "Simulation started\n",
      "Simulation process id: 1853935 (parent (waf shell) id: 1853903)\n",
      "Waiting for Python process to connect on port: tcp://localhost:26943\n",
      "Please start proper Python Gym Agent\n",
      "  0%|          | 1/6300 [00:00<15:54,  6.60it/s, curr_speed=0.00 Mbps, mb_sent=0.00 Mb]"
     ]
    },
    {
     "name": "stdout",
     "output_type": "stream",
     "text": [
      "Sent 2250.23 Mb/s.\tMean speed: 37.50 Mb/s\tEpisode 5/15 finished\n",
      "\n",
      "5\n"
     ]
    },
    {
     "name": "stderr",
     "output_type": "stream",
     "text": [
      "100%|██████████| 6300/6300 [29:31<00:00,  3.56it/s, curr_speed=37.99 Mbps, mb_sent=2289.76 Mb]\n"
     ]
    },
    {
     "name": "stdout",
     "output_type": "stream",
     "text": [
      "Waiting for simulation script to connect on port: tcp://localhost:52826\n",
      "Please start proper ns-3 simulation script using ./waf --run \"...\"\n",
      "Waf: Entering directory `/home/samuel/ns-allinone-3.29/ns-3.29/build'\n",
      "Waf: Leaving directory `/home/samuel/ns-allinone-3.29/ns-3.29/build'\n",
      "Build commands will be stored in build/compile_commands.json\n",
      "'build' finished successfully (3.929s)\n"
     ]
    },
    {
     "name": "stderr",
     "output_type": "stream",
     "text": [
      "Ns3Env parameters:\n",
      "--nWifi: 5\n",
      "--simulationTime: 60\n",
      "--openGymPort: 52826\n",
      "--envStepTime: 0.01\n",
      "--seed: 42\n",
      "--agentType: discrete\n",
      "--scenario: basic\n",
      "--dryRun: 0\n",
      "Simulation started\n",
      "Simulation process id: 1869175 (parent (waf shell) id: 1869143)\n",
      "Waiting for Python process to connect on port: tcp://localhost:52826\n",
      "Please start proper Python Gym Agent\n",
      "  0%|          | 1/6300 [00:00<18:40,  5.62it/s, curr_speed=0.00 Mbps, mb_sent=0.00 Mb]"
     ]
    },
    {
     "name": "stdout",
     "output_type": "stream",
     "text": [
      "Sent 2289.76 Mb/s.\tMean speed: 38.16 Mb/s\tEpisode 6/15 finished\n",
      "\n",
      "6\n"
     ]
    },
    {
     "name": "stderr",
     "output_type": "stream",
     "text": [
      "100%|██████████| 6300/6300 [29:55<00:00,  3.51it/s, curr_speed=38.80 Mbps, mb_sent=2306.13 Mb]\n"
     ]
    },
    {
     "name": "stdout",
     "output_type": "stream",
     "text": [
      "Waiting for simulation script to connect on port: tcp://localhost:31985\n",
      "Please start proper ns-3 simulation script using ./waf --run \"...\"\n",
      "Waf: Entering directory `/home/samuel/ns-allinone-3.29/ns-3.29/build'\n",
      "Waf: Leaving directory `/home/samuel/ns-allinone-3.29/ns-3.29/build'\n",
      "Build commands will be stored in build/compile_commands.json\n",
      "'build' finished successfully (3.529s)\n"
     ]
    },
    {
     "name": "stderr",
     "output_type": "stream",
     "text": [
      "Ns3Env parameters:\n",
      "--nWifi: 5\n",
      "--simulationTime: 60\n",
      "--openGymPort: 31985\n",
      "--envStepTime: 0.01\n",
      "--seed: 42\n",
      "--agentType: discrete\n",
      "--scenario: basic\n",
      "--dryRun: 0\n",
      "Simulation started\n",
      "Simulation process id: 1884366 (parent (waf shell) id: 1884332)\n",
      "Waiting for Python process to connect on port: tcp://localhost:31985\n",
      "Please start proper Python Gym Agent\n",
      "  0%|          | 1/6300 [00:00<16:50,  6.23it/s, curr_speed=0.00 Mbps, mb_sent=0.00 Mb]"
     ]
    },
    {
     "name": "stdout",
     "output_type": "stream",
     "text": [
      "Sent 2306.13 Mb/s.\tMean speed: 38.44 Mb/s\tEpisode 7/15 finished\n",
      "\n",
      "7\n"
     ]
    },
    {
     "name": "stderr",
     "output_type": "stream",
     "text": [
      "100%|██████████| 6300/6300 [29:53<00:00,  3.51it/s, curr_speed=38.68 Mbps, mb_sent=2314.85 Mb]\n"
     ]
    },
    {
     "name": "stdout",
     "output_type": "stream",
     "text": [
      "Waiting for simulation script to connect on port: tcp://localhost:30935\n",
      "Please start proper ns-3 simulation script using ./waf --run \"...\"\n",
      "Waf: Entering directory `/home/samuel/ns-allinone-3.29/ns-3.29/build'\n",
      "Waf: Leaving directory `/home/samuel/ns-allinone-3.29/ns-3.29/build'\n",
      "Build commands will be stored in build/compile_commands.json\n",
      "'build' finished successfully (3.278s)\n"
     ]
    },
    {
     "name": "stderr",
     "output_type": "stream",
     "text": [
      "Ns3Env parameters:\n",
      "--nWifi: 5\n",
      "--simulationTime: 60\n",
      "--openGymPort: 30935\n",
      "--envStepTime: 0.01\n",
      "--seed: 42\n",
      "--agentType: discrete\n",
      "--scenario: basic\n",
      "--dryRun: 0\n",
      "Simulation started\n",
      "Simulation process id: 1899233 (parent (waf shell) id: 1899208)\n",
      "Waiting for Python process to connect on port: tcp://localhost:30935\n",
      "Please start proper Python Gym Agent\n",
      "  0%|          | 1/6300 [00:00<19:01,  5.52it/s, curr_speed=0.00 Mbps, mb_sent=0.00 Mb]"
     ]
    },
    {
     "name": "stdout",
     "output_type": "stream",
     "text": [
      "Sent 2314.85 Mb/s.\tMean speed: 38.58 Mb/s\tEpisode 8/15 finished\n",
      "\n",
      "8\n"
     ]
    },
    {
     "name": "stderr",
     "output_type": "stream",
     "text": [
      " 65%|██████▌   | 4120/6300 [19:11<11:05,  3.28it/s, curr_speed=39.38 Mbps, mb_sent=1472.89 Mb]COMET ERROR: File could not be uploaded\n",
      " 65%|██████▌   | 4121/6300 [19:12<11:37,  3.13it/s, curr_speed=39.36 Mbps, mb_sent=1473.28 Mb]COMET ERROR: File could not be uploaded\n",
      "COMET ERROR: File could not be uploaded\n",
      " 65%|██████▌   | 4122/6300 [19:12<11:57,  3.04it/s, curr_speed=39.35 Mbps, mb_sent=1473.66 Mb]COMET ERROR: File could not be uploaded\n",
      " 65%|██████▌   | 4124/6300 [19:13<11:45,  3.09it/s, curr_speed=39.29 Mbps, mb_sent=1474.47 Mb]COMET ERROR: File could not be uploaded\n",
      " 65%|██████▌   | 4125/6300 [19:13<11:46,  3.08it/s, curr_speed=39.34 Mbps, mb_sent=1474.92 Mb]COMET ERROR: File could not be uploaded\n",
      " 66%|██████▌   | 4128/6300 [19:14<10:59,  3.29it/s, curr_speed=39.37 Mbps, mb_sent=1476.14 Mb]COMET ERROR: File could not be uploaded\n",
      " 66%|██████▌   | 4134/6300 [19:16<11:20,  3.18it/s, curr_speed=39.15 Mbps, mb_sent=1478.32 Mb]COMET ERROR: File could not be uploaded\n",
      " 66%|██████▌   | 4135/6300 [19:16<10:51,  3.32it/s, curr_speed=39.14 Mbps, mb_sent=1478.71 Mb]COMET ERROR: File could not be uploaded\n",
      " 66%|██████▌   | 4136/6300 [19:16<11:41,  3.08it/s, curr_speed=39.13 Mbps, mb_sent=1479.10 Mb]COMET ERROR: File could not be uploaded\n",
      " 66%|██████▌   | 4141/6300 [19:18<10:16,  3.50it/s, curr_speed=39.09 Mbps, mb_sent=1481.09 Mb]COMET ERROR: File could not be uploaded\n",
      " 66%|██████▌   | 4142/6300 [19:18<10:22,  3.47it/s, curr_speed=39.18 Mbps, mb_sent=1481.52 Mb]COMET ERROR: File could not be uploaded\n",
      " 66%|██████▌   | 4144/6300 [19:19<09:49,  3.66it/s, curr_speed=39.18 Mbps, mb_sent=1482.30 Mb]COMET ERROR: File could not be uploaded\n",
      " 66%|██████▌   | 4154/6300 [19:21<06:53,  5.19it/s, curr_speed=38.99 Mbps, mb_sent=1486.13 Mb]COMET ERROR: File could not be uploaded\n",
      " 66%|██████▌   | 4159/6300 [19:22<07:42,  4.63it/s, curr_speed=39.12 Mbps, mb_sent=1488.11 Mb]COMET ERROR: File could not be uploaded\n",
      " 66%|██████▌   | 4161/6300 [19:23<07:55,  4.50it/s, curr_speed=39.04 Mbps, mb_sent=1488.90 Mb]COMET ERROR: File could not be uploaded\n",
      " 66%|██████▌   | 4169/6300 [19:25<09:55,  3.58it/s, curr_speed=38.69 Mbps, mb_sent=1491.83 Mb]COMET ERROR: File could not be uploaded\n",
      " 66%|██████▌   | 4170/6300 [19:25<09:58,  3.56it/s, curr_speed=38.71 Mbps, mb_sent=1492.23 Mb]COMET ERROR: File could not be uploaded\n",
      " 66%|██████▋   | 4174/6300 [19:26<09:45,  3.63it/s, curr_speed=38.82 Mbps, mb_sent=1493.81 Mb]COMET ERROR: File could not be uploaded\n",
      " 66%|██████▋   | 4177/6300 [19:27<08:25,  4.20it/s, curr_speed=38.82 Mbps, mb_sent=1495.02 Mb]COMET ERROR: File could not be uploaded\n",
      " 66%|██████▋   | 4178/6300 [19:27<07:57,  4.44it/s, curr_speed=38.82 Mbps, mb_sent=1495.40 Mb]COMET ERROR: File could not be uploaded\n",
      " 67%|██████▋   | 4190/6300 [19:31<15:15,  2.30it/s, curr_speed=38.70 Mbps, mb_sent=1499.98 Mb]COMET ERROR: File could not be uploaded\n",
      " 67%|██████▋   | 4191/6300 [19:32<19:48,  1.78it/s, curr_speed=38.70 Mbps, mb_sent=1500.76 Mb]COMET ERROR: File could not be uploaded\n",
      " 67%|██████▋   | 4194/6300 [19:32<13:32,  2.59it/s, curr_speed=38.68 Mbps, mb_sent=1501.51 Mb]COMET ERROR: File could not be uploaded\n",
      " 67%|██████▋   | 4203/6300 [19:35<08:15,  4.23it/s, curr_speed=38.69 Mbps, mb_sent=1505.11 Mb]COMET ERROR: File could not be uploaded\n",
      " 67%|██████▋   | 4209/6300 [19:36<09:06,  3.83it/s, curr_speed=38.64 Mbps, mb_sent=1507.35 Mb]COMET ERROR: File could not be uploaded\n",
      " 67%|██████▋   | 4213/6300 [19:37<09:07,  3.81it/s, curr_speed=38.77 Mbps, mb_sent=1508.98 Mb]COMET ERROR: File could not be uploaded\n",
      " 67%|██████▋   | 4216/6300 [19:38<10:14,  3.39it/s, curr_speed=38.84 Mbps, mb_sent=1510.16 Mb]COMET ERROR: File could not be uploaded\n",
      " 67%|██████▋   | 4222/6300 [19:40<10:18,  3.36it/s, curr_speed=38.79 Mbps, mb_sent=1512.45 Mb]COMET ERROR: File could not be uploaded\n",
      " 67%|██████▋   | 4232/6300 [19:43<09:48,  3.51it/s, curr_speed=38.76 Mbps, mb_sent=1516.33 Mb]COMET ERROR: File could not be uploaded\n",
      " 67%|██████▋   | 4236/6300 [19:44<10:35,  3.25it/s, curr_speed=38.78 Mbps, mb_sent=1517.88 Mb]COMET ERROR: File could not be uploaded\n",
      " 67%|██████▋   | 4243/6300 [19:46<09:25,  3.64it/s, curr_speed=38.66 Mbps, mb_sent=1520.55 Mb]COMET ERROR: File could not be uploaded\n",
      " 68%|██████▊   | 4287/6300 [20:00<10:42,  3.13it/s, curr_speed=38.65 Mbps, mb_sent=1537.47 Mb]COMET ERROR: File could not be uploaded\n",
      "COMET ERROR: File could not be uploaded\n",
      "COMET ERROR: File could not be uploaded\n",
      " 68%|██████▊   | 4288/6300 [20:01<11:25,  2.94it/s, curr_speed=38.71 Mbps, mb_sent=1537.86 Mb]COMET ERROR: File could not be uploaded\n",
      "COMET ERROR: File could not be uploaded\n",
      "COMET ERROR: File could not be uploaded\n",
      "COMET ERROR: File could not be uploaded\n",
      " 68%|██████▊   | 4289/6300 [20:01<12:06,  2.77it/s, curr_speed=38.66 Mbps, mb_sent=1538.24 Mb]COMET ERROR: File could not be uploaded\n",
      "COMET ERROR: File could not be uploaded\n",
      "COMET ERROR: File could not be uploaded\n",
      " 68%|██████▊   | 4289/6300 [20:01<12:06,  2.77it/s, curr_speed=38.65 Mbps, mb_sent=1538.62 Mb]COMET ERROR: File could not be uploaded\n",
      " 68%|██████▊   | 4290/6300 [20:01<12:39,  2.64it/s, curr_speed=38.65 Mbps, mb_sent=1538.62 Mb]COMET ERROR: File could not be uploaded\n",
      "COMET ERROR: File could not be uploaded\n",
      " 68%|██████▊   | 4305/6300 [20:05<07:26,  4.47it/s, curr_speed=38.61 Mbps, mb_sent=1544.42 Mb]COMET ERROR: File could not be uploaded\n",
      " 68%|██████▊   | 4309/6300 [20:06<06:59,  4.75it/s, curr_speed=38.59 Mbps, mb_sent=1545.94 Mb]COMET ERROR: File could not be uploaded\n",
      " 68%|██████▊   | 4311/6300 [20:06<06:58,  4.75it/s, curr_speed=38.52 Mbps, mb_sent=1546.72 Mb]COMET ERROR: File could not be uploaded\n",
      " 68%|██████▊   | 4312/6300 [20:06<07:44,  4.28it/s, curr_speed=38.50 Mbps, mb_sent=1547.08 Mb]COMET ERROR: File could not be uploaded\n",
      " 68%|██████▊   | 4314/6300 [20:07<07:20,  4.51it/s, curr_speed=38.46 Mbps, mb_sent=1547.84 Mb]COMET ERROR: File could not be uploaded\n",
      " 68%|██████▊   | 4315/6300 [20:07<08:42,  3.80it/s, curr_speed=38.46 Mbps, mb_sent=1548.23 Mb]COMET ERROR: File could not be uploaded\n",
      " 69%|██████▊   | 4319/6300 [20:08<08:21,  3.95it/s, curr_speed=38.49 Mbps, mb_sent=1549.78 Mb]COMET ERROR: File could not be uploaded\n",
      " 69%|██████▊   | 4323/6300 [20:09<08:50,  3.73it/s, curr_speed=38.20 Mbps, mb_sent=1551.04 Mb]COMET ERROR: File could not be uploaded\n",
      " 69%|██████▊   | 4331/6300 [20:11<07:09,  4.58it/s, curr_speed=38.21 Mbps, mb_sent=1554.15 Mb]COMET ERROR: File could not be uploaded\n",
      " 69%|██████▉   | 4334/6300 [20:12<09:19,  3.51it/s, curr_speed=38.21 Mbps, mb_sent=1555.30 Mb]COMET ERROR: File could not be uploaded\n",
      " 69%|██████▉   | 4341/6300 [20:14<08:03,  4.05it/s, curr_speed=38.17 Mbps, mb_sent=1557.93 Mb]COMET ERROR: File could not be uploaded\n",
      " 69%|██████▉   | 4350/6300 [20:16<07:07,  4.57it/s, curr_speed=38.24 Mbps, mb_sent=1561.44 Mb]COMET ERROR: File could not be uploaded\n",
      " 69%|██████▉   | 4361/6300 [20:20<11:31,  2.80it/s, curr_speed=38.18 Mbps, mb_sent=1565.47 Mb]COMET ERROR: File could not be uploaded\n",
      " 69%|██████▉   | 4365/6300 [20:21<09:46,  3.30it/s, curr_speed=38.12 Mbps, mb_sent=1567.06 Mb]COMET ERROR: File could not be uploaded\n",
      " 69%|██████▉   | 4368/6300 [20:22<09:50,  3.27it/s, curr_speed=38.10 Mbps, mb_sent=1568.24 Mb]COMET ERROR: File could not be uploaded\n",
      " 70%|██████▉   | 4383/6300 [20:27<09:59,  3.20it/s, curr_speed=38.27 Mbps, mb_sent=1574.20 Mb]COMET ERROR: File could not be uploaded\n",
      " 70%|██████▉   | 4384/6300 [20:27<10:18,  3.10it/s, curr_speed=38.34 Mbps, mb_sent=1574.61 Mb]COMET ERROR: File could not be uploaded\n",
      " 70%|██████▉   | 4389/6300 [20:28<07:53,  4.03it/s, curr_speed=38.15 Mbps, mb_sent=1576.40 Mb]COMET ERROR: File could not be uploaded\n",
      " 70%|██████▉   | 4393/6300 [20:29<08:49,  3.60it/s, curr_speed=38.18 Mbps, mb_sent=1578.00 Mb]COMET ERROR: File could not be uploaded\n",
      " 70%|██████▉   | 4395/6300 [20:30<09:08,  3.47it/s, curr_speed=38.23 Mbps, mb_sent=1578.81 Mb]COMET ERROR: File could not be uploaded\n",
      " 70%|██████▉   | 4402/6300 [20:32<09:32,  3.31it/s, curr_speed=38.18 Mbps, mb_sent=1581.45 Mb]COMET ERROR: File could not be uploaded\n",
      " 70%|██████▉   | 4406/6300 [20:33<07:39,  4.12it/s, curr_speed=38.18 Mbps, mb_sent=1582.98 Mb]COMET ERROR: File could not be uploaded\n",
      " 70%|██████▉   | 4407/6300 [20:33<07:31,  4.20it/s, curr_speed=38.15 Mbps, mb_sent=1583.37 Mb]COMET ERROR: File could not be uploaded\n",
      " 70%|██████▉   | 4409/6300 [20:34<09:06,  3.46it/s, curr_speed=38.26 Mbps, mb_sent=1584.19 Mb]COMET ERROR: File could not be uploaded\n",
      " 70%|███████   | 4415/6300 [20:36<10:04,  3.12it/s, curr_speed=38.31 Mbps, mb_sent=1586.95 Mb]COMET ERROR: File could not be uploaded\n",
      " 70%|███████   | 4417/6300 [20:36<10:23,  3.02it/s, curr_speed=38.29 Mbps, mb_sent=1587.33 Mb]COMET ERROR: File could not be uploaded\n",
      " 70%|███████   | 4418/6300 [20:37<10:16,  3.05it/s, curr_speed=38.36 Mbps, mb_sent=1587.75 Mb]COMET ERROR: File could not be uploaded\n",
      " 70%|███████   | 4427/6300 [20:39<09:13,  3.39it/s, curr_speed=38.59 Mbps, mb_sent=1591.21 Mb]COMET ERROR: File could not be uploaded\n",
      " 70%|███████   | 4433/6300 [20:41<09:40,  3.21it/s, curr_speed=38.55 Mbps, mb_sent=1593.44 Mb]COMET ERROR: File could not be uploaded\n",
      " 71%|███████   | 4442/6300 [20:44<09:29,  3.26it/s, curr_speed=38.75 Mbps, mb_sent=1597.05 Mb]COMET ERROR: File could not be uploaded\n",
      " 71%|███████   | 4450/6300 [20:47<10:32,  2.93it/s, curr_speed=38.88 Mbps, mb_sent=1600.32 Mb]COMET ERROR: File could not be uploaded\n",
      " 71%|███████   | 4458/6300 [20:49<10:14,  3.00it/s, curr_speed=39.18 Mbps, mb_sent=1603.52 Mb]COMET ERROR: File could not be uploaded\n",
      " 71%|███████   | 4462/6300 [20:50<10:04,  3.04it/s, curr_speed=39.18 Mbps, mb_sent=1605.07 Mb]COMET ERROR: File could not be uploaded\n",
      " 71%|███████   | 4464/6300 [20:51<10:39,  2.87it/s, curr_speed=39.22 Mbps, mb_sent=1605.89 Mb]COMET ERROR: File could not be uploaded\n",
      " 71%|███████   | 4466/6300 [20:52<11:13,  2.72it/s, curr_speed=39.16 Mbps, mb_sent=1606.63 Mb]COMET ERROR: File could not be uploaded\n",
      " 71%|███████   | 4468/6300 [20:53<10:54,  2.80it/s, curr_speed=39.17 Mbps, mb_sent=1607.42 Mb]COMET ERROR: File could not be uploaded\n",
      "COMET ERROR: File could not be uploaded\n",
      " 71%|███████   | 4469/6300 [20:53<11:11,  2.73it/s, curr_speed=39.22 Mbps, mb_sent=1607.82 Mb]COMET ERROR: File could not be uploaded\n",
      " 71%|███████   | 4472/6300 [20:54<10:43,  2.84it/s, curr_speed=39.18 Mbps, mb_sent=1608.96 Mb]COMET ERROR: File could not be uploaded\n",
      " 71%|███████   | 4475/6300 [20:55<10:44,  2.83it/s, curr_speed=39.15 Mbps, mb_sent=1610.15 Mb]COMET ERROR: File could not be uploaded\n",
      " 71%|███████   | 4479/6300 [20:56<08:55,  3.40it/s, curr_speed=39.10 Mbps, mb_sent=1611.69 Mb]COMET ERROR: File could not be uploaded\n",
      " 71%|███████   | 4481/6300 [20:57<08:28,  3.58it/s, curr_speed=39.09 Mbps, mb_sent=1612.50 Mb]COMET ERROR: File could not be uploaded\n",
      " 71%|███████   | 4485/6300 [20:58<09:15,  3.27it/s, curr_speed=39.10 Mbps, mb_sent=1614.05 Mb]COMET ERROR: File could not be uploaded\n",
      " 71%|███████▏  | 4493/6300 [21:00<08:42,  3.46it/s, curr_speed=38.91 Mbps, mb_sent=1616.91 Mb]COMET ERROR: File could not be uploaded\n",
      " 71%|███████▏  | 4498/6300 [21:02<09:44,  3.08it/s, curr_speed=38.87 Mbps, mb_sent=1618.81 Mb]COMET ERROR: File could not be uploaded\n",
      " 71%|███████▏  | 4502/6300 [21:03<09:09,  3.27it/s, curr_speed=38.66 Mbps, mb_sent=1620.10 Mb]COMET ERROR: File could not be uploaded\n",
      " 72%|███████▏  | 4510/6300 [21:06<08:23,  3.56it/s, curr_speed=38.59 Mbps, mb_sent=1623.52 Mb]COMET ERROR: File could not be uploaded\n",
      " 72%|███████▏  | 4513/6300 [21:07<09:50,  3.02it/s, curr_speed=38.61 Mbps, mb_sent=1624.77 Mb]COMET ERROR: File could not be uploaded\n",
      " 72%|███████▏  | 4517/6300 [21:08<10:16,  2.89it/s, curr_speed=38.68 Mbps, mb_sent=1626.01 Mb]COMET ERROR: File could not be uploaded\n",
      " 72%|███████▏  | 4518/6300 [21:08<10:14,  2.90it/s, curr_speed=38.68 Mbps, mb_sent=1626.43 Mb]COMET ERROR: File could not be uploaded\n",
      " 72%|███████▏  | 4522/6300 [21:10<09:42,  3.05it/s, curr_speed=38.32 Mbps, mb_sent=1628.06 Mb]COMET ERROR: File could not be uploaded\n",
      " 72%|███████▏  | 4524/6300 [21:10<09:56,  2.98it/s, curr_speed=38.36 Mbps, mb_sent=1628.44 Mb]COMET ERROR: File could not be uploaded\n",
      " 72%|███████▏  | 4530/6300 [21:12<08:01,  3.68it/s, curr_speed=38.56 Mbps, mb_sent=1630.79 Mb]COMET ERROR: File could not be uploaded\n",
      " 72%|███████▏  | 4534/6300 [21:13<08:01,  3.67it/s, curr_speed=38.47 Mbps, mb_sent=1632.30 Mb]COMET ERROR: File could not be uploaded\n",
      " 72%|███████▏  | 4546/6300 [21:17<09:20,  3.13it/s, curr_speed=38.02 Mbps, mb_sent=1636.69 Mb]COMET ERROR: File could not be uploaded\n",
      " 72%|███████▏  | 4567/6300 [21:24<07:18,  3.95it/s, curr_speed=37.78 Mbps, mb_sent=1645.19 Mb]COMET ERROR: File could not be uploaded\n",
      " 73%|███████▎  | 4570/6300 [21:24<06:34,  4.38it/s, curr_speed=37.79 Mbps, mb_sent=1645.99 Mb]COMET ERROR: File could not be uploaded\n",
      " 73%|███████▎  | 4572/6300 [21:25<06:52,  4.19it/s, curr_speed=37.83 Mbps, mb_sent=1646.79 Mb]COMET ERROR: File could not be uploaded\n",
      " 73%|███████▎  | 4578/6300 [21:26<07:57,  3.60it/s, curr_speed=37.76 Mbps, mb_sent=1649.08 Mb]COMET ERROR: File could not be uploaded\n",
      " 73%|███████▎  | 4579/6300 [21:27<08:16,  3.46it/s, curr_speed=37.78 Mbps, mb_sent=1649.47 Mb]COMET ERROR: File could not be uploaded\n",
      " 73%|███████▎  | 4588/6300 [21:29<08:19,  3.43it/s, curr_speed=37.92 Mbps, mb_sent=1653.03 Mb]COMET ERROR: File could not be uploaded\n",
      " 73%|███████▎  | 4589/6300 [21:29<08:39,  3.29it/s, curr_speed=37.92 Mbps, mb_sent=1653.42 Mb]COMET ERROR: File could not be uploaded\n",
      " 73%|███████▎  | 4592/6300 [21:30<08:11,  3.47it/s, curr_speed=38.03 Mbps, mb_sent=1654.58 Mb]COMET ERROR: File could not be uploaded\n",
      " 73%|███████▎  | 4598/6300 [21:33<14:50,  1.91it/s, curr_speed=38.18 Mbps, mb_sent=1656.99 Mb]COMET ERROR: File could not be uploaded\n",
      " 73%|███████▎  | 4606/6300 [21:35<08:59,  3.14it/s, curr_speed=38.39 Mbps, mb_sent=1660.06 Mb]COMET ERROR: File could not be uploaded\n",
      "COMET ERROR: File could not be uploaded\n",
      " 73%|███████▎  | 4629/6300 [21:42<07:39,  3.63it/s, curr_speed=38.51 Mbps, mb_sent=1668.88 Mb]COMET ERROR: File could not be uploaded\n",
      " 74%|███████▎  | 4633/6300 [21:43<07:15,  3.83it/s, curr_speed=38.50 Mbps, mb_sent=1670.42 Mb]COMET ERROR: File could not be uploaded\n",
      " 74%|███████▎  | 4634/6300 [21:44<07:26,  3.73it/s, curr_speed=38.49 Mbps, mb_sent=1670.79 Mb]COMET ERROR: File could not be uploaded\n",
      " 74%|███████▎  | 4635/6300 [21:44<08:05,  3.43it/s, curr_speed=38.47 Mbps, mb_sent=1671.14 Mb]COMET ERROR: File could not be uploaded\n",
      " 74%|███████▎  | 4636/6300 [21:44<08:18,  3.34it/s, curr_speed=38.49 Mbps, mb_sent=1671.55 Mb]COMET ERROR: File could not be uploaded\n",
      " 74%|███████▎  | 4638/6300 [21:45<09:16,  2.99it/s, curr_speed=38.50 Mbps, mb_sent=1672.31 Mb]COMET ERROR: File could not be uploaded\n",
      " 74%|███████▎  | 4643/6300 [21:47<09:04,  3.04it/s, curr_speed=38.56 Mbps, mb_sent=1674.20 Mb]COMET ERROR: File could not be uploaded\n",
      " 74%|███████▎  | 4644/6300 [21:47<09:16,  2.97it/s, curr_speed=38.57 Mbps, mb_sent=1674.56 Mb]COMET ERROR: File could not be uploaded\n",
      " 74%|███████▍  | 4652/6300 [21:50<08:25,  3.26it/s, curr_speed=38.60 Mbps, mb_sent=1677.68 Mb]COMET ERROR: File could not be uploaded\n",
      " 75%|███████▍  | 4701/6300 [22:01<05:57,  4.47it/s, curr_speed=38.28 Mbps, mb_sent=1696.40 Mb]COMET ERROR: File could not be uploaded\n",
      "COMET ERROR: File could not be uploaded\n",
      " 75%|███████▍  | 4701/6300 [22:02<05:57,  4.47it/s, curr_speed=38.30 Mbps, mb_sent=1696.80 Mb]COMET ERROR: File could not be uploaded\n",
      " 75%|███████▍  | 4702/6300 [22:02<12:10,  2.19it/s, curr_speed=38.30 Mbps, mb_sent=1696.80 Mb]COMET ERROR: File could not be uploaded\n",
      "COMET ERROR: File could not be uploaded\n",
      "COMET ERROR: File could not be uploaded\n",
      "COMET ERROR: File could not be uploaded\n",
      "COMET ERROR: File could not be uploaded\n",
      " 75%|███████▍  | 4704/6300 [22:04<13:23,  1.99it/s, curr_speed=38.31 Mbps, mb_sent=1697.58 Mb]COMET ERROR: File could not be uploaded\n",
      " 75%|███████▍  | 4705/6300 [22:04<11:23,  2.33it/s, curr_speed=38.34 Mbps, mb_sent=1698.00 Mb]COMET ERROR: File could not be uploaded\n",
      " 75%|███████▍  | 4709/6300 [22:05<08:56,  2.96it/s, curr_speed=38.43 Mbps, mb_sent=1699.66 Mb]COMET ERROR: File could not be uploaded\n",
      " 75%|███████▍  | 4721/6300 [22:08<06:57,  3.78it/s, curr_speed=38.58 Mbps, mb_sent=1704.39 Mb]COMET ERROR: File could not be uploaded\n",
      " 75%|███████▍  | 4724/6300 [22:09<08:54,  2.95it/s, curr_speed=38.49 Mbps, mb_sent=1705.44 Mb]COMET ERROR: File could not be uploaded\n"
     ]
    },
    {
     "name": "stderr",
     "output_type": "stream",
     "text": [
      " 75%|███████▌  | 4726/6300 [22:10<08:37,  3.04it/s, curr_speed=38.50 Mbps, mb_sent=1706.24 Mb]COMET ERROR: File could not be uploaded\n",
      " 75%|███████▌  | 4729/6300 [22:11<08:59,  2.91it/s, curr_speed=38.47 Mbps, mb_sent=1707.35 Mb]COMET ERROR: File could not be uploaded\n",
      " 75%|███████▌  | 4731/6300 [22:12<09:15,  2.82it/s, curr_speed=38.45 Mbps, mb_sent=1708.11 Mb]COMET ERROR: File could not be uploaded\n",
      " 75%|███████▌  | 4741/6300 [22:14<06:49,  3.81it/s, curr_speed=38.42 Mbps, mb_sent=1711.86 Mb]COMET ERROR: File could not be uploaded\n",
      " 75%|███████▌  | 4742/6300 [22:15<07:29,  3.47it/s, curr_speed=38.48 Mbps, mb_sent=1712.29 Mb]COMET ERROR: File could not be uploaded\n",
      " 75%|███████▌  | 4744/6300 [22:15<07:23,  3.51it/s, curr_speed=38.48 Mbps, mb_sent=1713.03 Mb]COMET ERROR: File could not be uploaded\n",
      " 76%|███████▌  | 4759/6300 [22:18<05:04,  5.06it/s, curr_speed=37.74 Mbps, mb_sent=1718.14 Mb]COMET ERROR: File could not be uploaded\n",
      " 76%|███████▌  | 4764/6300 [22:20<07:07,  3.60it/s, curr_speed=37.67 Mbps, mb_sent=1720.01 Mb]COMET ERROR: File could not be uploaded\n",
      " 76%|███████▌  | 4766/6300 [22:20<07:31,  3.39it/s, curr_speed=37.59 Mbps, mb_sent=1720.75 Mb]COMET ERROR: File could not be uploaded\n",
      " 76%|███████▌  | 4803/6300 [22:31<06:05,  4.09it/s, curr_speed=37.91 Mbps, mb_sent=1735.10 Mb]COMET ERROR: File could not be uploaded\n",
      " 76%|███████▋  | 4806/6300 [22:32<06:04,  4.10it/s, curr_speed=37.70 Mbps, mb_sent=1736.11 Mb]COMET ERROR: File could not be uploaded\n",
      "COMET ERROR: File could not be uploaded\n",
      "COMET ERROR: File could not be uploaded\n",
      "COMET ERROR: File could not be uploaded\n",
      " 76%|███████▋  | 4807/6300 [22:32<07:05,  3.51it/s, curr_speed=37.64 Mbps, mb_sent=1736.48 Mb]COMET ERROR: File could not be uploaded\n",
      " 76%|███████▋  | 4808/6300 [22:33<07:57,  3.13it/s, curr_speed=37.66 Mbps, mb_sent=1736.90 Mb]COMET ERROR: File could not be uploaded\n",
      "COMET ERROR: File could not be uploaded\n",
      " 76%|███████▋  | 4811/6300 [22:34<07:04,  3.51it/s, curr_speed=37.53 Mbps, mb_sent=1738.41 Mb]COMET ERROR: File could not be uploaded\n",
      " 76%|███████▋  | 4815/6300 [22:35<07:04,  3.50it/s, curr_speed=37.46 Mbps, mb_sent=1739.54 Mb]COMET ERROR: File could not be uploaded\n",
      " 76%|███████▋  | 4818/6300 [22:35<05:48,  4.25it/s, curr_speed=37.56 Mbps, mb_sent=1740.75 Mb]COMET ERROR: File could not be uploaded\n",
      " 77%|███████▋  | 4820/6300 [22:36<05:36,  4.39it/s, curr_speed=37.52 Mbps, mb_sent=1741.55 Mb]COMET ERROR: File could not be uploaded\n",
      " 77%|███████▋  | 4821/6300 [22:36<05:34,  4.43it/s, curr_speed=37.57 Mbps, mb_sent=1741.96 Mb]COMET ERROR: File could not be uploaded\n",
      " 77%|███████▋  | 4839/6300 [22:41<07:55,  3.07it/s, curr_speed=37.98 Mbps, mb_sent=1749.12 Mb]COMET ERROR: File could not be uploaded\n",
      " 77%|███████▋  | 4841/6300 [22:42<07:39,  3.17it/s, curr_speed=38.02 Mbps, mb_sent=1749.88 Mb]COMET ERROR: File could not be uploaded\n",
      "COMET ERROR: File could not be uploaded\n",
      " 77%|███████▋  | 4842/6300 [22:42<07:34,  3.21it/s, curr_speed=37.96 Mbps, mb_sent=1750.25 Mb]COMET ERROR: File could not be uploaded\n",
      " 77%|███████▋  | 4853/6300 [22:45<06:19,  3.82it/s, curr_speed=38.50 Mbps, mb_sent=1754.60 Mb]COMET ERROR: File could not be uploaded\n",
      " 77%|███████▋  | 4855/6300 [22:45<05:57,  4.04it/s, curr_speed=38.53 Mbps, mb_sent=1755.38 Mb]COMET ERROR: File could not be uploaded\n",
      " 77%|███████▋  | 4856/6300 [22:46<06:18,  3.81it/s, curr_speed=38.50 Mbps, mb_sent=1755.76 Mb]COMET ERROR: File could not be uploaded\n",
      " 77%|███████▋  | 4857/6300 [22:46<06:43,  3.58it/s, curr_speed=38.70 Mbps, mb_sent=1756.10 Mb]COMET ERROR: File could not be uploaded\n",
      " 77%|███████▋  | 4858/6300 [22:46<06:22,  3.77it/s, curr_speed=38.77 Mbps, mb_sent=1756.52 Mb]COMET ERROR: File could not be uploaded\n",
      " 77%|███████▋  | 4859/6300 [22:46<05:54,  4.06it/s, curr_speed=38.72 Mbps, mb_sent=1756.86 Mb]COMET ERROR: File could not be uploaded\n",
      " 77%|███████▋  | 4862/6300 [22:47<06:16,  3.82it/s, curr_speed=38.72 Mbps, mb_sent=1757.99 Mb]COMET ERROR: File could not be uploaded\n",
      " 77%|███████▋  | 4863/6300 [22:48<06:20,  3.78it/s, curr_speed=38.77 Mbps, mb_sent=1758.37 Mb]COMET ERROR: File could not be uploaded\n",
      " 77%|███████▋  | 4865/6300 [22:48<05:58,  4.00it/s, curr_speed=38.80 Mbps, mb_sent=1759.19 Mb]COMET ERROR: File could not be uploaded\n",
      "COMET ERROR: File could not be uploaded\n",
      " 77%|███████▋  | 4867/6300 [22:48<05:42,  4.19it/s, curr_speed=38.81 Mbps, mb_sent=1760.00 Mb]COMET ERROR: File could not be uploaded\n",
      " 77%|███████▋  | 4868/6300 [22:49<06:00,  3.97it/s, curr_speed=38.79 Mbps, mb_sent=1760.38 Mb]COMET ERROR: File could not be uploaded\n",
      " 77%|███████▋  | 4873/6300 [22:50<06:50,  3.48it/s, curr_speed=38.62 Mbps, mb_sent=1762.22 Mb]COMET ERROR: File could not be uploaded\n",
      " 77%|███████▋  | 4880/6300 [22:52<06:29,  3.65it/s, curr_speed=38.58 Mbps, mb_sent=1764.93 Mb]COMET ERROR: File could not be uploaded\n",
      " 96%|█████████▋| 6069/6300 [28:42<01:16,  3.02it/s, curr_speed=38.98 Mbps, mb_sent=2226.02 Mb]COMET ERROR: File could not be uploaded\n",
      " 96%|█████████▋| 6071/6300 [28:43<01:15,  3.03it/s, curr_speed=39.01 Mbps, mb_sent=2226.86 Mb]COMET ERROR: File could not be uploaded\n",
      " 96%|█████████▋| 6072/6300 [28:43<01:17,  2.96it/s, curr_speed=38.96 Mbps, mb_sent=2227.24 Mb]COMET ERROR: File could not be uploaded\n",
      " 96%|█████████▋| 6075/6300 [28:44<01:12,  3.12it/s, curr_speed=38.95 Mbps, mb_sent=2228.38 Mb]COMET ERROR: File could not be uploaded\n",
      " 96%|█████████▋| 6076/6300 [28:45<01:08,  3.25it/s, curr_speed=38.95 Mbps, mb_sent=2228.78 Mb]COMET ERROR: File could not be uploaded\n",
      " 97%|█████████▋| 6083/6300 [28:46<00:54,  4.01it/s, curr_speed=38.90 Mbps, mb_sent=2231.54 Mb]COMET ERROR: File could not be uploaded\n",
      " 97%|█████████▋| 6122/6300 [28:58<00:48,  3.69it/s, curr_speed=38.49 Mbps, mb_sent=2246.47 Mb]COMET ERROR: File could not be uploaded\n",
      "COMET ERROR: File could not be uploaded\n",
      " 97%|█████████▋| 6124/6300 [28:58<00:50,  3.47it/s, curr_speed=38.50 Mbps, mb_sent=2247.26 Mb]COMET ERROR: File could not be uploaded\n",
      "COMET ERROR: File could not be uploaded\n",
      " 97%|█████████▋| 6125/6300 [28:59<00:51,  3.37it/s, curr_speed=38.39 Mbps, mb_sent=2247.59 Mb]COMET ERROR: File could not be uploaded\n",
      "COMET ERROR: File could not be uploaded\n",
      " 97%|█████████▋| 6126/6300 [28:59<00:48,  3.57it/s, curr_speed=38.40 Mbps, mb_sent=2247.99 Mb]COMET ERROR: File could not be uploaded\n",
      "COMET ERROR: File could not be uploaded\n",
      "COMET ERROR: File could not be uploaded\n",
      " 97%|█████████▋| 6127/6300 [28:59<00:51,  3.33it/s, curr_speed=38.41 Mbps, mb_sent=2248.40 Mb]COMET ERROR: File could not be uploaded\n",
      " 97%|█████████▋| 6132/6300 [29:01<00:51,  3.26it/s, curr_speed=38.69 Mbps, mb_sent=2250.36 Mb]COMET ERROR: File could not be uploaded\n",
      " 97%|█████████▋| 6133/6300 [29:01<00:54,  3.05it/s, curr_speed=38.74 Mbps, mb_sent=2250.75 Mb]COMET ERROR: File could not be uploaded\n",
      " 97%|█████████▋| 6135/6300 [29:02<00:50,  3.25it/s, curr_speed=38.66 Mbps, mb_sent=2251.51 Mb]COMET ERROR: File could not be uploaded\n",
      " 98%|█████████▊| 6148/6300 [29:05<00:34,  4.45it/s, curr_speed=38.70 Mbps, mb_sent=2256.63 Mb]COMET ERROR: File could not be uploaded\n",
      "100%|██████████| 6300/6300 [29:50<00:00,  3.52it/s, curr_speed=38.68 Mbps, mb_sent=2315.43 Mb]\n"
     ]
    },
    {
     "name": "stdout",
     "output_type": "stream",
     "text": [
      "Waiting for simulation script to connect on port: tcp://localhost:24186\n",
      "Please start proper ns-3 simulation script using ./waf --run \"...\"\n",
      "Waf: Entering directory `/home/samuel/ns-allinone-3.29/ns-3.29/build'\n",
      "Waf: Leaving directory `/home/samuel/ns-allinone-3.29/ns-3.29/build'\n",
      "Build commands will be stored in build/compile_commands.json\n",
      "'build' finished successfully (3.587s)\n"
     ]
    },
    {
     "name": "stderr",
     "output_type": "stream",
     "text": [
      "Ns3Env parameters:\n",
      "--nWifi: 5\n",
      "--simulationTime: 60\n",
      "--openGymPort: 24186\n",
      "--envStepTime: 0.01\n",
      "--seed: 42\n",
      "--agentType: discrete\n",
      "--scenario: basic\n",
      "--dryRun: 0\n",
      "Simulation started\n",
      "Simulation process id: 1914321 (parent (waf shell) id: 1914288)\n",
      "Waiting for Python process to connect on port: tcp://localhost:24186\n",
      "Please start proper Python Gym Agent\n",
      "  0%|          | 1/6300 [00:00<18:18,  5.73it/s, curr_speed=0.00 Mbps, mb_sent=0.00 Mb]"
     ]
    },
    {
     "name": "stdout",
     "output_type": "stream",
     "text": [
      "Sent 2315.43 Mb/s.\tMean speed: 38.59 Mb/s\tEpisode 9/15 finished\n",
      "\n",
      "9\n"
     ]
    },
    {
     "name": "stderr",
     "output_type": "stream",
     "text": [
      " 21%|██        | 1317/6300 [05:53<24:36,  3.37it/s, curr_speed=38.78 Mbps, mb_sent=394.47 Mb]COMET ERROR: File could not be uploaded\n",
      "COMET ERROR: File could not be uploaded\n",
      "COMET ERROR: File could not be uploaded\n",
      "COMET ERROR: File could not be uploaded\n",
      "COMET ERROR: File could not be uploaded\n",
      "COMET ERROR: File could not be uploaded\n",
      "COMET ERROR: File could not be uploaded\n",
      " 21%|██        | 1318/6300 [05:53<25:48,  3.22it/s, curr_speed=38.81 Mbps, mb_sent=394.90 Mb]COMET ERROR: File could not be uploaded\n",
      " 21%|██        | 1321/6300 [05:54<27:22,  3.03it/s, curr_speed=38.77 Mbps, mb_sent=395.98 Mb]COMET ERROR: File could not be uploaded\n",
      " 21%|██        | 1322/6300 [05:55<27:56,  2.97it/s, curr_speed=38.74 Mbps, mb_sent=396.34 Mb]COMET ERROR: File could not be uploaded\n",
      " 21%|██        | 1323/6300 [05:55<27:23,  3.03it/s, curr_speed=38.70 Mbps, mb_sent=396.72 Mb]COMET ERROR: File could not be uploaded\n",
      " 21%|██▏       | 1349/6300 [06:03<23:36,  3.50it/s, curr_speed=38.75 Mbps, mb_sent=406.89 Mb]COMET ERROR: File could not be uploaded\n",
      " 21%|██▏       | 1351/6300 [06:03<25:29,  3.24it/s, curr_speed=38.74 Mbps, mb_sent=407.65 Mb]COMET ERROR: File could not be uploaded\n",
      " 22%|██▏       | 1391/6300 [06:15<25:52,  3.16it/s, curr_speed=38.86 Mbps, mb_sent=423.02 Mb]COMET ERROR: File could not be uploaded\n",
      " 22%|██▏       | 1392/6300 [06:15<26:47,  3.05it/s, curr_speed=38.89 Mbps, mb_sent=423.41 Mb]COMET ERROR: File could not be uploaded\n",
      "COMET ERROR: File could not be uploaded\n",
      " 22%|██▏       | 1393/6300 [06:16<26:39,  3.07it/s, curr_speed=38.89 Mbps, mb_sent=423.82 Mb]COMET ERROR: File could not be uploaded\n",
      "COMET ERROR: File could not be uploaded\n",
      " 22%|██▏       | 1394/6300 [06:16<27:54,  2.93it/s, curr_speed=38.88 Mbps, mb_sent=424.22 Mb]COMET ERROR: File could not be uploaded\n",
      "COMET ERROR: File could not be uploaded\n",
      " 22%|██▏       | 1395/6300 [06:16<27:57,  2.92it/s, curr_speed=38.81 Mbps, mb_sent=424.58 Mb]COMET ERROR: File could not be uploaded\n",
      "COMET ERROR: File could not be uploaded\n",
      "COMET ERROR: File could not be uploaded\n",
      " 22%|██▏       | 1395/6300 [06:17<27:57,  2.92it/s, curr_speed=38.79 Mbps, mb_sent=424.95 Mb]COMET ERROR: File could not be uploaded\n",
      " 22%|██▏       | 1398/6300 [06:17<28:40,  2.85it/s, curr_speed=38.84 Mbps, mb_sent=425.78 Mb]COMET ERROR: File could not be uploaded\n",
      " 22%|██▏       | 1402/6300 [06:18<23:54,  3.41it/s, curr_speed=38.82 Mbps, mb_sent=427.35 Mb]COMET ERROR: File could not be uploaded\n",
      " 22%|██▏       | 1404/6300 [06:19<20:13,  4.04it/s, curr_speed=38.79 Mbps, mb_sent=428.10 Mb]COMET ERROR: File could not be uploaded\n",
      "COMET ERROR: File could not be uploaded\n",
      " 22%|██▏       | 1406/6300 [06:20<25:51,  3.15it/s, curr_speed=38.82 Mbps, mb_sent=428.92 Mb]COMET ERROR: File could not be uploaded\n",
      " 22%|██▏       | 1412/6300 [06:21<18:24,  4.43it/s, curr_speed=38.66 Mbps, mb_sent=431.16 Mb]COMET ERROR: File could not be uploaded\n",
      " 23%|██▎       | 1420/6300 [06:23<23:05,  3.52it/s, curr_speed=38.68 Mbps, mb_sent=434.29 Mb]COMET ERROR: File could not be uploaded\n",
      " 23%|██▎       | 1423/6300 [06:24<24:33,  3.31it/s, curr_speed=38.74 Mbps, mb_sent=435.45 Mb]COMET ERROR: File could not be uploaded\n",
      " 23%|██▎       | 1429/6300 [06:26<22:27,  3.62it/s, curr_speed=38.67 Mbps, mb_sent=437.75 Mb]COMET ERROR: File could not be uploaded\n",
      " 23%|██▎       | 1432/6300 [06:27<23:17,  3.48it/s, curr_speed=38.72 Mbps, mb_sent=439.37 Mb]COMET ERROR: File could not be uploaded\n",
      " 23%|██▎       | 1436/6300 [06:28<22:53,  3.54it/s, curr_speed=38.70 Mbps, mb_sent=440.54 Mb]COMET ERROR: File could not be uploaded\n",
      " 23%|██▎       | 1437/6300 [06:28<23:23,  3.46it/s, curr_speed=38.74 Mbps, mb_sent=440.96 Mb]COMET ERROR: File could not be uploaded\n",
      " 23%|██▎       | 1451/6300 [06:33<26:05,  3.10it/s, curr_speed=38.79 Mbps, mb_sent=446.44 Mb]COMET ERROR: File could not be uploaded\n",
      " 23%|██▎       | 1454/6300 [06:34<27:19,  2.96it/s, curr_speed=38.85 Mbps, mb_sent=447.65 Mb]COMET ERROR: File could not be uploaded\n",
      " 23%|██▎       | 1462/6300 [06:36<26:31,  3.04it/s, curr_speed=38.89 Mbps, mb_sent=450.76 Mb]COMET ERROR: File could not be uploaded\n",
      " 23%|██▎       | 1463/6300 [06:37<27:12,  2.96it/s, curr_speed=38.87 Mbps, mb_sent=451.14 Mb]COMET ERROR: File could not be uploaded\n",
      " 23%|██▎       | 1466/6300 [06:38<24:49,  3.25it/s, curr_speed=38.86 Mbps, mb_sent=452.31 Mb]COMET ERROR: File could not be uploaded\n",
      "COMET ERROR: File could not be uploaded\n",
      " 23%|██▎       | 1467/6300 [06:38<26:27,  3.04it/s, curr_speed=38.85 Mbps, mb_sent=452.69 Mb]COMET ERROR: File could not be uploaded\n",
      " 23%|██▎       | 1470/6300 [06:39<27:21,  2.94it/s, curr_speed=38.78 Mbps, mb_sent=453.78 Mb]COMET ERROR: File could not be uploaded\n",
      " 23%|██▎       | 1474/6300 [06:40<26:28,  3.04it/s, curr_speed=38.79 Mbps, mb_sent=455.29 Mb]COMET ERROR: File could not be uploaded\n",
      " 23%|██▎       | 1477/6300 [06:41<25:12,  3.19it/s, curr_speed=38.87 Mbps, mb_sent=456.49 Mb]COMET ERROR: File could not be uploaded\n",
      " 24%|██▎       | 1481/6300 [06:42<22:22,  3.59it/s, curr_speed=38.84 Mbps, mb_sent=458.04 Mb]COMET ERROR: File could not be uploaded\n",
      " 24%|██▎       | 1485/6300 [06:44<20:36,  3.89it/s, curr_speed=38.86 Mbps, mb_sent=459.54 Mb]COMET ERROR: File could not be uploaded\n",
      " 24%|██▎       | 1493/6300 [06:46<24:23,  3.28it/s, curr_speed=38.86 Mbps, mb_sent=462.68 Mb]COMET ERROR: File could not be uploaded\n",
      " 24%|██▍       | 1502/6300 [06:49<21:43,  3.68it/s, curr_speed=38.91 Mbps, mb_sent=466.65 Mb]COMET ERROR: File could not be uploaded\n",
      " 32%|███▏      | 2020/6300 [09:12<21:51,  3.26it/s, curr_speed=39.06 Mbps, mb_sent=668.36 Mb]COMET ERROR: File could not be uploaded\n",
      "COMET ERROR: File could not be uploaded\n",
      "COMET ERROR: File could not be uploaded\n",
      "COMET ERROR: File could not be uploaded\n",
      " 32%|███▏      | 2031/6300 [09:16<24:17,  2.93it/s, curr_speed=39.08 Mbps, mb_sent=672.67 Mb]COMET ERROR: File could not be uploaded\n",
      " 32%|███▏      | 2033/6300 [09:17<23:33,  3.02it/s, curr_speed=39.09 Mbps, mb_sent=673.47 Mb]COMET ERROR: File could not be uploaded\n",
      " 32%|███▏      | 2036/6300 [09:18<24:36,  2.89it/s, curr_speed=39.12 Mbps, mb_sent=674.68 Mb]COMET ERROR: File could not be uploaded\n",
      " 32%|███▏      | 2038/6300 [09:18<24:46,  2.87it/s, curr_speed=39.18 Mbps, mb_sent=675.48 Mb]COMET ERROR: File could not be uploaded\n",
      "COMET ERROR: File could not be uploaded\n",
      "COMET ERROR: File could not be uploaded\n",
      " 32%|███▏      | 2042/6300 [09:20<22:53,  3.10it/s, curr_speed=39.12 Mbps, mb_sent=676.99 Mb]COMET ERROR: File could not be uploaded\n",
      " 32%|███▏      | 2045/6300 [09:20<17:38,  4.02it/s, curr_speed=39.19 Mbps, mb_sent=678.21 Mb]COMET ERROR: File could not be uploaded\n",
      " 32%|███▏      | 2047/6300 [09:21<18:19,  3.87it/s, curr_speed=39.16 Mbps, mb_sent=678.97 Mb]COMET ERROR: File could not be uploaded\n",
      " 33%|███▎      | 2048/6300 [09:21<18:03,  3.92it/s, curr_speed=39.12 Mbps, mb_sent=679.31 Mb]COMET ERROR: File could not be uploaded\n",
      " 33%|███▎      | 2049/6300 [09:21<20:37,  3.44it/s, curr_speed=39.12 Mbps, mb_sent=679.74 Mb]COMET ERROR: File could not be uploaded\n",
      " 33%|███▎      | 2052/6300 [09:22<22:19,  3.17it/s, curr_speed=39.05 Mbps, mb_sent=680.86 Mb]COMET ERROR: File could not be uploaded\n",
      " 33%|███▎      | 2054/6300 [09:23<23:49,  2.97it/s, curr_speed=39.07 Mbps, mb_sent=681.67 Mb]COMET ERROR: File could not be uploaded\n",
      " 33%|███▎      | 2057/6300 [09:24<23:01,  3.07it/s, curr_speed=38.99 Mbps, mb_sent=682.78 Mb]COMET ERROR: File could not be uploaded\n",
      " 33%|███▎      | 2060/6300 [09:25<23:04,  3.06it/s, curr_speed=38.96 Mbps, mb_sent=684.30 Mb]COMET ERROR: File could not be uploaded\n",
      " 33%|███▎      | 2062/6300 [09:26<21:57,  3.22it/s, curr_speed=38.96 Mbps, mb_sent=684.66 Mb]COMET ERROR: File could not be uploaded\n",
      " 33%|███▎      | 2063/6300 [09:26<23:50,  2.96it/s, curr_speed=38.93 Mbps, mb_sent=685.02 Mb]COMET ERROR: File could not be uploaded\n",
      " 33%|███▎      | 2065/6300 [09:27<22:24,  3.15it/s, curr_speed=38.90 Mbps, mb_sent=685.75 Mb]COMET ERROR: File could not be uploaded\n",
      " 33%|███▎      | 2106/6300 [09:38<18:43,  3.73it/s, curr_speed=38.47 Mbps, mb_sent=701.56 Mb]COMET ERROR: File could not be uploaded\n",
      " 33%|███▎      | 2107/6300 [09:38<20:35,  3.39it/s, curr_speed=38.48 Mbps, mb_sent=701.97 Mb]COMET ERROR: File could not be uploaded\n",
      "COMET ERROR: File could not be uploaded\n"
     ]
    },
    {
     "name": "stderr",
     "output_type": "stream",
     "text": [
      " 33%|███▎      | 2107/6300 [09:39<20:35,  3.39it/s, curr_speed=38.50 Mbps, mb_sent=702.37 Mb]COMET ERROR: File could not be uploaded\n",
      " 33%|███▎      | 2108/6300 [09:39<23:25,  2.98it/s, curr_speed=38.50 Mbps, mb_sent=702.37 Mb]COMET ERROR: File could not be uploaded\n",
      "COMET ERROR: File could not be uploaded\n",
      "COMET ERROR: File could not be uploaded\n",
      "COMET ERROR: File could not be uploaded\n",
      " 33%|███▎      | 2109/6300 [09:39<26:25,  2.64it/s, curr_speed=38.57 Mbps, mb_sent=702.78 Mb]COMET ERROR: File could not be uploaded\n",
      "COMET ERROR: File could not be uploaded\n",
      "COMET ERROR: File could not be uploaded\n",
      " 34%|███▎      | 2112/6300 [09:40<26:16,  2.66it/s, curr_speed=38.70 Mbps, mb_sent=703.98 Mb]COMET ERROR: File could not be uploaded\n",
      " 34%|███▎      | 2126/6300 [09:44<18:31,  3.76it/s, curr_speed=38.84 Mbps, mb_sent=709.53 Mb]COMET ERROR: File could not be uploaded\n",
      " 34%|███▍      | 2129/6300 [09:45<18:25,  3.77it/s, curr_speed=38.79 Mbps, mb_sent=710.66 Mb]COMET ERROR: File could not be uploaded\n",
      " 34%|███▍      | 2130/6300 [09:45<19:56,  3.49it/s, curr_speed=38.78 Mbps, mb_sent=711.06 Mb]COMET ERROR: File could not be uploaded\n",
      " 34%|███▍      | 2136/6300 [09:47<22:19,  3.11it/s, curr_speed=38.59 Mbps, mb_sent=713.27 Mb]COMET ERROR: File could not be uploaded\n",
      " 34%|███▍      | 2138/6300 [09:48<21:57,  3.16it/s, curr_speed=38.55 Mbps, mb_sent=714.03 Mb]COMET ERROR: File could not be uploaded\n",
      " 34%|███▍      | 2157/6300 [09:53<17:56,  3.85it/s, curr_speed=38.65 Mbps, mb_sent=721.42 Mb]COMET ERROR: File could not be uploaded\n",
      " 35%|███▍      | 2175/6300 [09:57<14:27,  4.76it/s, curr_speed=38.65 Mbps, mb_sent=728.25 Mb]COMET ERROR: File could not be uploaded\n",
      " 35%|███▍      | 2179/6300 [09:58<14:48,  4.64it/s, curr_speed=38.56 Mbps, mb_sent=729.72 Mb]COMET ERROR: File could not be uploaded\n",
      "COMET ERROR: File could not be uploaded\n",
      " 35%|███▍      | 2182/6300 [10:00<30:10,  2.27it/s, curr_speed=38.56 Mbps, mb_sent=730.91 Mb]COMET ERROR: File could not be uploaded\n",
      " 35%|███▍      | 2186/6300 [10:01<17:09,  4.00it/s, curr_speed=38.62 Mbps, mb_sent=732.49 Mb]COMET ERROR: File could not be uploaded\n",
      " 35%|███▍      | 2195/6300 [10:03<18:47,  3.64it/s, curr_speed=38.72 Mbps, mb_sent=736.09 Mb]COMET ERROR: File could not be uploaded\n",
      " 35%|███▌      | 2205/6300 [10:06<18:20,  3.72it/s, curr_speed=38.81 Mbps, mb_sent=740.00 Mb]COMET ERROR: File could not be uploaded\n",
      " 35%|███▌      | 2207/6300 [10:06<17:16,  3.95it/s, curr_speed=38.80 Mbps, mb_sent=740.77 Mb]COMET ERROR: File could not be uploaded\n",
      " 35%|███▌      | 2208/6300 [10:06<19:08,  3.56it/s, curr_speed=38.79 Mbps, mb_sent=741.16 Mb]COMET ERROR: File could not be uploaded\n",
      " 35%|███▌      | 2212/6300 [10:08<20:44,  3.28it/s, curr_speed=38.88 Mbps, mb_sent=743.21 Mb]COMET ERROR: File could not be uploaded\n",
      " 35%|███▌      | 2227/6300 [10:12<19:38,  3.46it/s, curr_speed=38.56 Mbps, mb_sent=748.46 Mb]COMET ERROR: File could not be uploaded\n",
      " 35%|███▌      | 2229/6300 [10:12<17:27,  3.89it/s, curr_speed=38.57 Mbps, mb_sent=749.22 Mb]COMET ERROR: File could not be uploaded\n",
      " 35%|███▌      | 2232/6300 [10:13<20:19,  3.33it/s, curr_speed=38.56 Mbps, mb_sent=750.36 Mb]COMET ERROR: File could not be uploaded\n",
      " 35%|███▌      | 2236/6300 [10:14<17:56,  3.78it/s, curr_speed=38.61 Mbps, mb_sent=751.88 Mb]COMET ERROR: File could not be uploaded\n",
      " 36%|███▌      | 2237/6300 [10:15<18:40,  3.63it/s, curr_speed=38.61 Mbps, mb_sent=752.28 Mb]COMET ERROR: File could not be uploaded\n",
      " 36%|███▌      | 2238/6300 [10:15<18:36,  3.64it/s, curr_speed=38.61 Mbps, mb_sent=752.64 Mb]COMET ERROR: File could not be uploaded\n",
      " 36%|███▌      | 2244/6300 [10:16<16:22,  4.13it/s, curr_speed=38.51 Mbps, mb_sent=754.96 Mb]COMET ERROR: File could not be uploaded\n",
      " 45%|████▌     | 2835/6300 [13:06<15:30,  3.72it/s, curr_speed=38.29 Mbps, mb_sent=983.01 Mb]COMET ERROR: File could not be uploaded\n",
      " 45%|████▌     | 2839/6300 [13:07<16:07,  3.58it/s, curr_speed=38.36 Mbps, mb_sent=984.59 Mb]COMET ERROR: File could not be uploaded\n",
      " 45%|████▌     | 2842/6300 [13:08<16:37,  3.47it/s, curr_speed=38.31 Mbps, mb_sent=985.77 Mb]COMET ERROR: File could not be uploaded\n",
      " 45%|████▌     | 2844/6300 [13:09<19:12,  3.00it/s, curr_speed=38.36 Mbps, mb_sent=987.00 Mb]COMET ERROR: File could not be uploaded\n",
      " 45%|████▌     | 2848/6300 [13:10<18:50,  3.05it/s, curr_speed=38.67 Mbps, mb_sent=988.20 Mb]COMET ERROR: File could not be uploaded\n",
      " 45%|████▌     | 2849/6300 [13:10<18:34,  3.10it/s, curr_speed=38.71 Mbps, mb_sent=988.63 Mb]COMET ERROR: File could not be uploaded\n",
      " 45%|████▌     | 2854/6300 [13:12<17:48,  3.22it/s, curr_speed=38.70 Mbps, mb_sent=990.53 Mb]COMET ERROR: File could not be uploaded\n",
      " 45%|████▌     | 2855/6300 [13:12<17:38,  3.25it/s, curr_speed=38.67 Mbps, mb_sent=990.92 Mb]COMET ERROR: File could not be uploaded\n",
      " 45%|████▌     | 2856/6300 [13:12<16:29,  3.48it/s, curr_speed=38.58 Mbps, mb_sent=991.28 Mb]COMET ERROR: File could not be uploaded\n",
      " 45%|████▌     | 2858/6300 [13:13<17:37,  3.26it/s, curr_speed=38.59 Mbps, mb_sent=992.07 Mb]COMET ERROR: File could not be uploaded\n",
      " 45%|████▌     | 2859/6300 [13:13<18:26,  3.11it/s, curr_speed=38.59 Mbps, mb_sent=992.46 Mb]COMET ERROR: File could not be uploaded\n",
      "COMET ERROR: File could not be uploaded\n",
      " 45%|████▌     | 2862/6300 [13:14<18:15,  3.14it/s, curr_speed=38.51 Mbps, mb_sent=993.55 Mb]COMET ERROR: File could not be uploaded\n",
      " 46%|████▌     | 2870/6300 [13:17<17:35,  3.25it/s, curr_speed=38.68 Mbps, mb_sent=996.72 Mb]COMET ERROR: File could not be uploaded\n",
      " 46%|████▌     | 2873/6300 [13:17<15:05,  3.78it/s, curr_speed=38.69 Mbps, mb_sent=997.89 Mb]COMET ERROR: File could not be uploaded\n",
      " 46%|████▌     | 2877/6300 [13:18<15:15,  3.74it/s, curr_speed=38.79 Mbps, mb_sent=999.53 Mb]COMET ERROR: File could not be uploaded\n",
      " 46%|████▌     | 2883/6300 [13:20<13:26,  4.24it/s, curr_speed=38.77 Mbps, mb_sent=1001.89 Mb]COMET ERROR: File could not be uploaded\n",
      " 46%|████▌     | 2886/6300 [13:21<12:17,  4.63it/s, curr_speed=38.84 Mbps, mb_sent=1003.13 Mb]COMET ERROR: File could not be uploaded\n",
      " 46%|████▌     | 2890/6300 [13:21<11:29,  4.95it/s, curr_speed=38.84 Mbps, mb_sent=1004.72 Mb]COMET ERROR: File could not be uploaded\n",
      " 46%|████▌     | 2896/6300 [13:23<12:50,  4.42it/s, curr_speed=38.78 Mbps, mb_sent=1006.98 Mb]COMET ERROR: File could not be uploaded\n",
      " 46%|████▌     | 2897/6300 [13:23<13:12,  4.29it/s, curr_speed=38.72 Mbps, mb_sent=1007.33 Mb]COMET ERROR: File could not be uploaded\n",
      " 46%|████▌     | 2906/6300 [13:25<12:36,  4.49it/s, curr_speed=38.69 Mbps, mb_sent=1010.80 Mb]COMET ERROR: File could not be uploaded\n",
      " 46%|████▋     | 2917/6300 [13:28<12:40,  4.45it/s, curr_speed=38.67 Mbps, mb_sent=1015.04 Mb]COMET ERROR: File could not be uploaded\n",
      " 48%|████▊     | 3023/6300 [14:02<14:49,  3.69it/s, curr_speed=38.68 Mbps, mb_sent=1056.01 Mb]COMET ERROR: File could not be uploaded\n",
      " 48%|████▊     | 3024/6300 [14:02<15:38,  3.49it/s, curr_speed=38.71 Mbps, mb_sent=1056.38 Mb]COMET ERROR: File could not be uploaded\n",
      " 48%|████▊     | 3025/6300 [14:03<14:45,  3.70it/s, curr_speed=38.78 Mbps, mb_sent=1056.77 Mb]COMET ERROR: File could not be uploaded\n",
      "COMET ERROR: File could not be uploaded\n",
      " 48%|████▊     | 3026/6300 [14:03<16:34,  3.29it/s, curr_speed=38.82 Mbps, mb_sent=1057.22 Mb]COMET ERROR: File could not be uploaded\n",
      " 48%|████▊     | 3028/6300 [14:04<17:59,  3.03it/s, curr_speed=38.80 Mbps, mb_sent=1058.02 Mb]COMET ERROR: File could not be uploaded\n",
      " 48%|████▊     | 3029/6300 [14:04<17:48,  3.06it/s, curr_speed=38.86 Mbps, mb_sent=1058.44 Mb]COMET ERROR: File could not be uploaded\n",
      "COMET ERROR: File could not be uploaded\n",
      "COMET ERROR: File could not be uploaded\n",
      " 48%|████▊     | 3030/6300 [14:04<17:48,  3.06it/s, curr_speed=38.86 Mbps, mb_sent=1058.81 Mb]COMET ERROR: File could not be uploaded\n",
      " 48%|████▊     | 3031/6300 [14:05<18:32,  2.94it/s, curr_speed=38.94 Mbps, mb_sent=1059.23 Mb]COMET ERROR: File could not be uploaded\n",
      " 48%|████▊     | 3033/6300 [14:05<17:02,  3.20it/s, curr_speed=38.98 Mbps, mb_sent=1059.99 Mb]COMET ERROR: File could not be uploaded\n",
      " 48%|████▊     | 3034/6300 [14:06<16:06,  3.38it/s, curr_speed=39.00 Mbps, mb_sent=1060.36 Mb]COMET ERROR: File could not be uploaded\n",
      "COMET ERROR: File could not be uploaded\n",
      " 48%|████▊     | 3035/6300 [14:06<16:57,  3.21it/s, curr_speed=39.03 Mbps, mb_sent=1060.74 Mb]COMET ERROR: File could not be uploaded\n",
      "COMET ERROR: File could not be uploaded\n",
      " 48%|████▊     | 3036/6300 [14:06<16:39,  3.27it/s, curr_speed=38.99 Mbps, mb_sent=1061.50 Mb]COMET ERROR: File could not be uploaded\n",
      " 48%|████▊     | 3038/6300 [14:07<16:25,  3.31it/s, curr_speed=38.98 Mbps, mb_sent=1061.91 Mb]COMET ERROR: File could not be uploaded\n",
      " 48%|████▊     | 3047/6300 [14:09<15:34,  3.48it/s, curr_speed=39.00 Mbps, mb_sent=1065.42 Mb]COMET ERROR: File could not be uploaded\n",
      " 48%|████▊     | 3048/6300 [14:10<15:42,  3.45it/s, curr_speed=38.95 Mbps, mb_sent=1065.79 Mb]COMET ERROR: File could not be uploaded\n",
      " 48%|████▊     | 3049/6300 [14:10<15:54,  3.40it/s, curr_speed=38.98 Mbps, mb_sent=1066.22 Mb]COMET ERROR: File could not be uploaded\n",
      " 48%|████▊     | 3054/6300 [14:11<10:41,  5.06it/s, curr_speed=38.84 Mbps, mb_sent=1068.07 Mb]COMET ERROR: File could not be uploaded\n",
      " 48%|████▊     | 3055/6300 [14:11<10:48,  5.00it/s, curr_speed=38.84 Mbps, mb_sent=1068.49 Mb]COMET ERROR: File could not be uploaded\n",
      " 49%|████▊     | 3058/6300 [14:12<11:58,  4.51it/s, curr_speed=38.85 Mbps, mb_sent=1069.72 Mb]COMET ERROR: File could not be uploaded\n",
      " 49%|████▊     | 3059/6300 [14:12<16:31,  3.27it/s, curr_speed=38.87 Mbps, mb_sent=1070.12 Mb]COMET ERROR: File could not be uploaded\n",
      " 49%|████▊     | 3060/6300 [14:13<26:46,  2.02it/s, curr_speed=38.89 Mbps, mb_sent=1070.50 Mb]COMET ERROR: File could not be uploaded\n",
      " 49%|████▊     | 3064/6300 [14:15<19:56,  2.70it/s, curr_speed=38.84 Mbps, mb_sent=1072.38 Mb]COMET ERROR: File could not be uploaded\n",
      " 49%|████▊     | 3066/6300 [14:15<17:50,  3.02it/s, curr_speed=38.85 Mbps, mb_sent=1072.75 Mb]COMET ERROR: File could not be uploaded\n",
      " 49%|████▊     | 3067/6300 [14:16<17:57,  3.00it/s, curr_speed=38.87 Mbps, mb_sent=1073.14 Mb]COMET ERROR: File could not be uploaded\n",
      " 49%|████▉     | 3074/6300 [14:18<16:43,  3.21it/s, curr_speed=38.82 Mbps, mb_sent=1075.85 Mb]COMET ERROR: File could not be uploaded\n",
      " 49%|████▉     | 3089/6300 [14:22<14:53,  3.59it/s, curr_speed=38.62 Mbps, mb_sent=1081.92 Mb]COMET ERROR: File could not be uploaded\n",
      " 49%|████▉     | 3092/6300 [14:23<15:05,  3.54it/s, curr_speed=38.60 Mbps, mb_sent=1082.69 Mb]COMET ERROR: File could not be uploaded\n",
      "COMET ERROR: File could not be uploaded\n",
      " 49%|████▉     | 3099/6300 [14:25<17:03,  3.13it/s, curr_speed=38.60 Mbps, mb_sent=1085.43 Mb]COMET ERROR: File could not be uploaded\n",
      " 49%|████▉     | 3104/6300 [14:27<17:43,  3.01it/s, curr_speed=38.62 Mbps, mb_sent=1087.37 Mb]COMET ERROR: File could not be uploaded\n",
      " 49%|████▉     | 3110/6300 [14:28<15:15,  3.49it/s, curr_speed=38.70 Mbps, mb_sent=1089.70 Mb]COMET ERROR: File could not be uploaded\n",
      " 49%|████▉     | 3111/6300 [14:29<16:46,  3.17it/s, curr_speed=38.70 Mbps, mb_sent=1090.07 Mb]COMET ERROR: File could not be uploaded\n",
      " 49%|████▉     | 3112/6300 [14:29<15:52,  3.35it/s, curr_speed=38.71 Mbps, mb_sent=1090.47 Mb]COMET ERROR: File could not be uploaded\n",
      " 49%|████▉     | 3113/6300 [14:29<15:53,  3.34it/s, curr_speed=38.71 Mbps, mb_sent=1090.85 Mb]COMET ERROR: File could not be uploaded\n",
      " 49%|████▉     | 3114/6300 [14:30<15:59,  3.32it/s, curr_speed=38.70 Mbps, mb_sent=1091.24 Mb]COMET ERROR: File could not be uploaded\n",
      " 49%|████▉     | 3116/6300 [14:30<16:35,  3.20it/s, curr_speed=38.70 Mbps, mb_sent=1092.00 Mb]COMET ERROR: File could not be uploaded\n",
      " 49%|████▉     | 3117/6300 [14:31<16:30,  3.21it/s, curr_speed=38.72 Mbps, mb_sent=1092.40 Mb]COMET ERROR: File could not be uploaded\n",
      " 50%|████▉     | 3121/6300 [14:32<15:05,  3.51it/s, curr_speed=38.67 Mbps, mb_sent=1093.89 Mb]COMET ERROR: File could not be uploaded\n",
      " 50%|█████     | 3169/6300 [14:43<14:29,  3.60it/s, curr_speed=38.76 Mbps, mb_sent=1112.68 Mb]COMET ERROR: File could not be uploaded\n",
      " 50%|█████     | 3169/6300 [14:43<14:29,  3.60it/s, curr_speed=38.78 Mbps, mb_sent=1113.09 Mb]COMET ERROR: File could not be uploaded\n",
      " 50%|█████     | 3170/6300 [14:43<21:09,  2.47it/s, curr_speed=38.78 Mbps, mb_sent=1113.09 Mb]COMET ERROR: File could not be uploaded\n",
      "COMET ERROR: File could not be uploaded\n",
      "COMET ERROR: File could not be uploaded\n",
      " 50%|█████     | 3174/6300 [14:45<21:19,  2.44it/s, curr_speed=38.80 Mbps, mb_sent=1114.65 Mb]COMET ERROR: File could not be uploaded\n",
      " 50%|█████     | 3178/6300 [14:47<17:32,  2.97it/s, curr_speed=38.71 Mbps, mb_sent=1116.15 Mb]COMET ERROR: File could not be uploaded\n",
      " 51%|█████     | 3187/6300 [14:49<15:53,  3.26it/s, curr_speed=38.89 Mbps, mb_sent=1119.68 Mb]COMET ERROR: File could not be uploaded\n",
      " 51%|█████     | 3188/6300 [14:50<16:13,  3.20it/s, curr_speed=38.86 Mbps, mb_sent=1120.03 Mb]COMET ERROR: File could not be uploaded\n",
      " 51%|█████     | 3192/6300 [14:51<15:14,  3.40it/s, curr_speed=38.91 Mbps, mb_sent=1121.99 Mb]COMET ERROR: File could not be uploaded\n",
      " 51%|█████     | 3197/6300 [14:52<14:08,  3.66it/s, curr_speed=39.00 Mbps, mb_sent=1123.62 Mb]COMET ERROR: File could not be uploaded\n",
      " 51%|█████     | 3204/6300 [14:54<11:16,  4.58it/s, curr_speed=38.94 Mbps, mb_sent=1126.30 Mb]COMET ERROR: File could not be uploaded\n",
      " 51%|█████     | 3206/6300 [14:55<11:48,  4.37it/s, curr_speed=38.94 Mbps, mb_sent=1127.10 Mb]COMET ERROR: File could not be uploaded\n",
      " 51%|█████     | 3207/6300 [14:55<12:28,  4.13it/s, curr_speed=38.94 Mbps, mb_sent=1127.49 Mb]COMET ERROR: File could not be uploaded\n",
      " 51%|█████     | 3227/6300 [14:59<10:02,  5.10it/s, curr_speed=39.00 Mbps, mb_sent=1135.19 Mb]COMET ERROR: File could not be uploaded\n",
      " 51%|█████▏    | 3244/6300 [15:02<09:07,  5.58it/s, curr_speed=38.84 Mbps, mb_sent=1141.64 Mb]COMET ERROR: File could not be uploaded\n",
      " 52%|█████▏    | 3275/6300 [15:13<16:11,  3.11it/s, curr_speed=38.28 Mbps, mb_sent=1153.33 Mb]COMET ERROR: File could not be uploaded\n",
      "COMET ERROR: File could not be uploaded\n",
      "COMET ERROR: File could not be uploaded\n",
      " 52%|█████▏    | 3276/6300 [15:13<17:10,  2.93it/s, curr_speed=38.29 Mbps, mb_sent=1153.71 Mb]COMET ERROR: File could not be uploaded\n",
      "COMET ERROR: File could not be uploaded\n",
      " 52%|█████▏    | 3277/6300 [15:14<17:09,  2.94it/s, curr_speed=38.28 Mbps, mb_sent=1154.08 Mb]COMET ERROR: File could not be uploaded\n",
      "COMET ERROR: File could not be uploaded\n",
      "COMET ERROR: File could not be uploaded\n",
      "COMET ERROR: File could not be uploaded\n",
      " 52%|█████▏    | 3278/6300 [15:14<17:36,  2.86it/s, curr_speed=38.31 Mbps, mb_sent=1154.46 Mb]COMET ERROR: File could not be uploaded\n",
      "COMET ERROR: File could not be uploaded\n",
      "COMET ERROR: File could not be uploaded\n",
      "COMET ERROR: File could not be uploaded\n",
      "COMET ERROR: File could not be uploaded\n",
      " 52%|█████▏    | 3283/6300 [15:16<16:08,  3.11it/s, curr_speed=38.32 Mbps, mb_sent=1156.42 Mb]COMET ERROR: File could not be uploaded\n",
      " 52%|█████▏    | 3285/6300 [15:16<15:34,  3.23it/s, curr_speed=38.37 Mbps, mb_sent=1157.22 Mb]COMET ERROR: File could not be uploaded\n",
      " 52%|█████▏    | 3289/6300 [15:17<14:41,  3.42it/s, curr_speed=38.41 Mbps, mb_sent=1158.84 Mb]COMET ERROR: File could not be uploaded\n",
      " 52%|█████▏    | 3293/6300 [15:19<15:48,  3.17it/s, curr_speed=38.37 Mbps, mb_sent=1160.36 Mb]COMET ERROR: File could not be uploaded\n",
      " 52%|█████▏    | 3304/6300 [15:21<13:46,  3.63it/s, curr_speed=38.29 Mbps, mb_sent=1164.59 Mb]COMET ERROR: File could not be uploaded\n",
      " 53%|█████▎    | 3346/6300 [15:33<12:23,  3.97it/s, curr_speed=38.29 Mbps, mb_sent=1180.69 Mb]COMET ERROR: File could not be uploaded\n",
      "COMET ERROR: File could not be uploaded\n",
      " 53%|█████▎    | 3347/6300 [15:33<12:39,  3.89it/s, curr_speed=38.30 Mbps, mb_sent=1181.08 Mb]COMET ERROR: File could not be uploaded\n",
      "COMET ERROR: File could not be uploaded\n",
      " 53%|█████▎    | 3348/6300 [15:34<14:14,  3.45it/s, curr_speed=38.31 Mbps, mb_sent=1181.84 Mb]COMET ERROR: File could not be uploaded\n",
      "COMET ERROR: File could not be uploaded\n",
      " 53%|█████▎    | 3349/6300 [15:34<14:49,  3.32it/s, curr_speed=38.31 Mbps, mb_sent=1181.84 Mb]COMET ERROR: File could not be uploaded\n",
      "COMET ERROR: File could not be uploaded\n",
      "COMET ERROR: File could not be uploaded\n",
      "COMET ERROR: File could not be uploaded\n",
      " 53%|█████▎    | 3350/6300 [15:34<16:32,  2.97it/s, curr_speed=38.36 Mbps, mb_sent=1182.24 Mb]COMET ERROR: File could not be uploaded\n",
      "COMET ERROR: File could not be uploaded\n"
     ]
    },
    {
     "name": "stderr",
     "output_type": "stream",
     "text": [
      " 53%|█████▎    | 3355/6300 [15:36<13:10,  3.73it/s, curr_speed=38.33 Mbps, mb_sent=1184.24 Mb]COMET ERROR: File could not be uploaded\n",
      " 53%|█████▎    | 3358/6300 [15:36<10:53,  4.50it/s, curr_speed=38.34 Mbps, mb_sent=1185.42 Mb]COMET ERROR: File could not be uploaded\n",
      " 53%|█████▎    | 3362/6300 [15:37<10:40,  4.59it/s, curr_speed=38.53 Mbps, mb_sent=1186.92 Mb]COMET ERROR: File could not be uploaded\n",
      " 53%|█████▎    | 3367/6300 [15:39<11:46,  4.15it/s, curr_speed=38.62 Mbps, mb_sent=1188.90 Mb]COMET ERROR: File could not be uploaded\n",
      " 54%|█████▎    | 3372/6300 [15:40<11:30,  4.24it/s, curr_speed=38.65 Mbps, mb_sent=1190.81 Mb]COMET ERROR: File could not be uploaded\n",
      " 54%|█████▎    | 3381/6300 [15:42<09:39,  5.03it/s, curr_speed=38.65 Mbps, mb_sent=1194.64 Mb]COMET ERROR: File could not be uploaded\n",
      " 54%|█████▍    | 3392/6300 [15:46<19:10,  2.53it/s, curr_speed=38.50 Mbps, mb_sent=1198.49 Mb]COMET ERROR: File could not be uploaded\n",
      "COMET ERROR: File could not be uploaded\n",
      " 54%|█████▍    | 3393/6300 [15:46<18:47,  2.58it/s, curr_speed=38.51 Mbps, mb_sent=1198.87 Mb]COMET ERROR: File could not be uploaded\n",
      " 54%|█████▍    | 3394/6300 [15:46<18:23,  2.63it/s, curr_speed=38.53 Mbps, mb_sent=1199.25 Mb]COMET ERROR: File could not be uploaded\n",
      " 54%|█████▍    | 3399/6300 [15:48<14:14,  3.40it/s, curr_speed=38.66 Mbps, mb_sent=1201.21 Mb]COMET ERROR: File could not be uploaded\n",
      " 54%|█████▍    | 3403/6300 [15:49<15:30,  3.11it/s, curr_speed=38.60 Mbps, mb_sent=1202.76 Mb]COMET ERROR: File could not be uploaded\n",
      " 54%|█████▍    | 3404/6300 [15:49<15:20,  3.15it/s, curr_speed=38.53 Mbps, mb_sent=1203.13 Mb]COMET ERROR: File could not be uploaded\n",
      " 54%|█████▍    | 3405/6300 [15:50<15:41,  3.07it/s, curr_speed=38.59 Mbps, mb_sent=1203.54 Mb]COMET ERROR: File could not be uploaded\n",
      " 54%|█████▍    | 3409/6300 [15:51<14:13,  3.39it/s, curr_speed=38.71 Mbps, mb_sent=1205.14 Mb]COMET ERROR: File could not be uploaded\n",
      " 54%|█████▍    | 3417/6300 [15:54<16:06,  2.98it/s, curr_speed=38.29 Mbps, mb_sent=1207.87 Mb]COMET ERROR: File could not be uploaded\n",
      " 54%|█████▍    | 3421/6300 [15:55<13:41,  3.50it/s, curr_speed=38.28 Mbps, mb_sent=1209.40 Mb]COMET ERROR: File could not be uploaded\n",
      " 54%|█████▍    | 3422/6300 [15:55<14:02,  3.42it/s, curr_speed=38.22 Mbps, mb_sent=1209.75 Mb]COMET ERROR: File could not be uploaded\n",
      " 54%|█████▍    | 3429/6300 [15:57<14:35,  3.28it/s, curr_speed=38.17 Mbps, mb_sent=1212.40 Mb]COMET ERROR: File could not be uploaded\n",
      " 55%|█████▍    | 3441/6300 [16:00<12:02,  3.95it/s, curr_speed=38.23 Mbps, mb_sent=1216.99 Mb]COMET ERROR: File could not be uploaded\n",
      " 55%|█████▍    | 3442/6300 [16:01<12:41,  3.75it/s, curr_speed=38.24 Mbps, mb_sent=1217.39 Mb]COMET ERROR: File could not be uploaded\n",
      " 55%|█████▍    | 3443/6300 [16:01<14:21,  3.32it/s, curr_speed=38.29 Mbps, mb_sent=1217.80 Mb]COMET ERROR: File could not be uploaded\n",
      " 55%|█████▍    | 3445/6300 [16:02<14:20,  3.32it/s, curr_speed=38.26 Mbps, mb_sent=1218.55 Mb]COMET ERROR: File could not be uploaded\n",
      " 55%|█████▌    | 3483/6300 [16:13<15:56,  2.95it/s, curr_speed=38.37 Mbps, mb_sent=1233.38 Mb]COMET ERROR: File could not be uploaded\n",
      " 55%|█████▌    | 3485/6300 [16:14<15:58,  2.94it/s, curr_speed=38.38 Mbps, mb_sent=1234.13 Mb]COMET ERROR: File could not be uploaded\n",
      "COMET ERROR: File could not be uploaded\n",
      "COMET ERROR: File could not be uploaded\n",
      " 55%|█████▌    | 3486/6300 [16:15<17:38,  2.66it/s, curr_speed=38.38 Mbps, mb_sent=1234.54 Mb]COMET ERROR: File could not be uploaded\n",
      "COMET ERROR: File could not be uploaded\n",
      " 55%|█████▌    | 3487/6300 [16:15<17:35,  2.66it/s, curr_speed=38.37 Mbps, mb_sent=1234.93 Mb]COMET ERROR: File could not be uploaded\n",
      "COMET ERROR: File could not be uploaded\n",
      " 55%|█████▌    | 3494/6300 [16:17<15:38,  2.99it/s, curr_speed=38.43 Mbps, mb_sent=1237.68 Mb]COMET ERROR: File could not be uploaded\n",
      " 55%|█████▌    | 3495/6300 [16:18<15:22,  3.04it/s, curr_speed=38.38 Mbps, mb_sent=1238.03 Mb]COMET ERROR: File could not be uploaded\n",
      " 56%|█████▌    | 3497/6300 [16:18<16:34,  2.82it/s, curr_speed=38.40 Mbps, mb_sent=1238.82 Mb]COMET ERROR: File could not be uploaded\n",
      " 56%|█████▌    | 3502/6300 [16:20<16:01,  2.91it/s, curr_speed=38.41 Mbps, mb_sent=1240.79 Mb]COMET ERROR: File could not be uploaded\n",
      " 56%|█████▌    | 3506/6300 [16:21<12:39,  3.68it/s, curr_speed=38.43 Mbps, mb_sent=1242.36 Mb]COMET ERROR: File could not be uploaded\n",
      " 56%|█████▌    | 3512/6300 [16:23<14:26,  3.22it/s, curr_speed=38.70 Mbps, mb_sent=1244.71 Mb]COMET ERROR: File could not be uploaded\n",
      "100%|██████████| 6300/6300 [30:03<00:00,  3.49it/s, curr_speed=38.78 Mbps, mb_sent=2324.37 Mb]\n"
     ]
    },
    {
     "name": "stdout",
     "output_type": "stream",
     "text": [
      "Waiting for simulation script to connect on port: tcp://localhost:50245\n",
      "Please start proper ns-3 simulation script using ./waf --run \"...\"\n",
      "Waf: Entering directory `/home/samuel/ns-allinone-3.29/ns-3.29/build'\n",
      "Waf: Leaving directory `/home/samuel/ns-allinone-3.29/ns-3.29/build'\n",
      "Build commands will be stored in build/compile_commands.json\n",
      "'build' finished successfully (3.640s)\n"
     ]
    },
    {
     "name": "stderr",
     "output_type": "stream",
     "text": [
      "Ns3Env parameters:\n",
      "--nWifi: 5\n",
      "--simulationTime: 60\n",
      "--openGymPort: 50245\n",
      "--envStepTime: 0.01\n",
      "--seed: 42\n",
      "--agentType: discrete\n",
      "--scenario: basic\n",
      "--dryRun: 0\n",
      "Simulation started\n",
      "Simulation process id: 1929436 (parent (waf shell) id: 1929411)\n",
      "Waiting for Python process to connect on port: tcp://localhost:50245\n",
      "Please start proper Python Gym Agent\n",
      "  0%|          | 1/6300 [00:00<13:02,  8.05it/s, curr_speed=0.00 Mbps, mb_sent=0.00 Mb]"
     ]
    },
    {
     "name": "stdout",
     "output_type": "stream",
     "text": [
      "Sent 2324.37 Mb/s.\tMean speed: 38.74 Mb/s\tEpisode 10/15 finished\n",
      "\n",
      "10\n"
     ]
    },
    {
     "name": "stderr",
     "output_type": "stream",
     "text": [
      "100%|██████████| 6300/6300 [29:53<00:00,  3.51it/s, curr_speed=38.97 Mbps, mb_sent=2328.92 Mb]\n"
     ]
    },
    {
     "name": "stdout",
     "output_type": "stream",
     "text": [
      "Waiting for simulation script to connect on port: tcp://localhost:41268\n",
      "Please start proper ns-3 simulation script using ./waf --run \"...\"\n",
      "Waf: Entering directory `/home/samuel/ns-allinone-3.29/ns-3.29/build'\n",
      "Waf: Leaving directory `/home/samuel/ns-allinone-3.29/ns-3.29/build'\n",
      "Build commands will be stored in build/compile_commands.json\n",
      "'build' finished successfully (3.352s)\n"
     ]
    },
    {
     "name": "stderr",
     "output_type": "stream",
     "text": [
      "Ns3Env parameters:\n",
      "--nWifi: 5\n",
      "--simulationTime: 60\n",
      "--openGymPort: 41268\n",
      "--envStepTime: 0.01\n",
      "--seed: 42\n",
      "--agentType: discrete\n",
      "--scenario: basic\n",
      "--dryRun: 0\n",
      "Simulation started\n",
      "Simulation process id: 1944318 (parent (waf shell) id: 1944283)\n",
      "Waiting for Python process to connect on port: tcp://localhost:41268\n",
      "Please start proper Python Gym Agent\n",
      "  0%|          | 0/6300 [00:00<?, ?it/s]"
     ]
    },
    {
     "name": "stdout",
     "output_type": "stream",
     "text": [
      "Sent 2328.92 Mb/s.\tMean speed: 38.82 Mb/s\tEpisode 11/15 finished\n",
      "\n",
      "11\n"
     ]
    },
    {
     "name": "stderr",
     "output_type": "stream",
     "text": [
      "100%|██████████| 6300/6300 [29:57<00:00,  3.50it/s, curr_speed=39.13 Mbps, mb_sent=2333.56 Mb]\n"
     ]
    },
    {
     "name": "stdout",
     "output_type": "stream",
     "text": [
      "Waiting for simulation script to connect on port: tcp://localhost:23690\n",
      "Please start proper ns-3 simulation script using ./waf --run \"...\"\n",
      "Waf: Entering directory `/home/samuel/ns-allinone-3.29/ns-3.29/build'\n",
      "Waf: Leaving directory `/home/samuel/ns-allinone-3.29/ns-3.29/build'\n",
      "Build commands will be stored in build/compile_commands.json\n",
      "'build' finished successfully (3.431s)\n"
     ]
    },
    {
     "name": "stderr",
     "output_type": "stream",
     "text": [
      "Ns3Env parameters:\n",
      "--nWifi: 5\n",
      "--simulationTime: 60\n",
      "--openGymPort: 23690\n",
      "--envStepTime: 0.01\n",
      "--seed: 42\n",
      "--agentType: discrete\n",
      "--scenario: basic\n",
      "--dryRun: 0\n",
      "Simulation started\n"
     ]
    },
    {
     "name": "stdout",
     "output_type": "stream",
     "text": [
      "WARNING:tensorflow:From /home/samuel/anaconda3/envs/myEnv3_7/lib/python3.7/site-packages/tensorflow/python/training/saver.py:960: remove_checkpoint (from tensorflow.python.training.checkpoint_management) is deprecated and will be removed in a future version.\n",
      "Instructions for updating:\n",
      "Use standard file APIs to delete files with this prefix.\n"
     ]
    },
    {
     "name": "stderr",
     "output_type": "stream",
     "text": [
      "Simulation process id: 1959077 (parent (waf shell) id: 1959053)\n",
      "Waiting for Python process to connect on port: tcp://localhost:23690\n",
      "Please start proper Python Gym Agent\n",
      "  0%|          | 0/6300 [00:00<?, ?it/s]"
     ]
    },
    {
     "name": "stdout",
     "output_type": "stream",
     "text": [
      "Sent 2333.56 Mb/s.\tMean speed: 38.89 Mb/s\tEpisode 12/15 finished\n",
      "\n",
      "12\n",
      "Turning off noise\n"
     ]
    },
    {
     "name": "stderr",
     "output_type": "stream",
     "text": [
      "100%|██████████| 6300/6300 [29:40<00:00,  3.54it/s, curr_speed=38.55 Mbps, mb_sent=2334.41 Mb]\n"
     ]
    },
    {
     "name": "stdout",
     "output_type": "stream",
     "text": [
      "Waiting for simulation script to connect on port: tcp://localhost:35669\n",
      "Please start proper ns-3 simulation script using ./waf --run \"...\"\n",
      "Waf: Entering directory `/home/samuel/ns-allinone-3.29/ns-3.29/build'\n",
      "Waf: Leaving directory `/home/samuel/ns-allinone-3.29/ns-3.29/build'\n",
      "Build commands will be stored in build/compile_commands.json\n",
      "'build' finished successfully (3.621s)\n"
     ]
    },
    {
     "name": "stderr",
     "output_type": "stream",
     "text": [
      "Ns3Env parameters:\n",
      "--nWifi: 5\n",
      "--simulationTime: 60\n",
      "--openGymPort: 35669\n",
      "--envStepTime: 0.01\n",
      "--seed: 42\n",
      "--agentType: discrete\n",
      "--scenario: basic\n",
      "--dryRun: 0\n",
      "Simulation started\n",
      "Simulation process id: 1974344 (parent (waf shell) id: 1974313)\n",
      "Waiting for Python process to connect on port: tcp://localhost:35669\n",
      "Please start proper Python Gym Agent\n",
      "  0%|          | 1/6300 [00:00<14:35,  7.19it/s, curr_speed=0.00 Mbps, mb_sent=0.00 Mb]"
     ]
    },
    {
     "name": "stdout",
     "output_type": "stream",
     "text": [
      "Sent 2334.41 Mb/s.\tMean speed: 38.91 Mb/s\tEpisode 13/15 finished\n",
      "\n",
      "13\n",
      "Turning off noise\n"
     ]
    },
    {
     "name": "stderr",
     "output_type": "stream",
     "text": [
      "100%|██████████| 6300/6300 [30:01<00:00,  3.50it/s, curr_speed=38.86 Mbps, mb_sent=2335.58 Mb]\n"
     ]
    },
    {
     "name": "stdout",
     "output_type": "stream",
     "text": [
      "Waiting for simulation script to connect on port: tcp://localhost:26526\n",
      "Please start proper ns-3 simulation script using ./waf --run \"...\"\n",
      "Waf: Entering directory `/home/samuel/ns-allinone-3.29/ns-3.29/build'\n",
      "Waf: Leaving directory `/home/samuel/ns-allinone-3.29/ns-3.29/build'\n",
      "Build commands will be stored in build/compile_commands.json\n",
      "'build' finished successfully (3.298s)\n"
     ]
    },
    {
     "name": "stderr",
     "output_type": "stream",
     "text": [
      "Ns3Env parameters:\n",
      "--nWifi: 5\n",
      "--simulationTime: 60\n",
      "--openGymPort: 26526\n",
      "--envStepTime: 0.01\n",
      "--seed: 42\n",
      "--agentType: discrete\n",
      "--scenario: basic\n",
      "--dryRun: 0\n",
      "Simulation started\n",
      "Simulation process id: 1989445 (parent (waf shell) id: 1989415)\n",
      "Waiting for Python process to connect on port: tcp://localhost:26526\n",
      "Please start proper Python Gym Agent\n",
      "  0%|          | 0/6300 [00:00<?, ?it/s]"
     ]
    },
    {
     "name": "stdout",
     "output_type": "stream",
     "text": [
      "Sent 2335.58 Mb/s.\tMean speed: 38.93 Mb/s\tEpisode 14/15 finished\n",
      "\n",
      "14\n",
      "Turning off noise\n"
     ]
    },
    {
     "name": "stderr",
     "output_type": "stream",
     "text": [
      "100%|██████████| 6300/6300 [26:36<00:00,  3.95it/s, curr_speed=39.17 Mbps, mb_sent=2338.10 Mb]\n"
     ]
    },
    {
     "name": "stdout",
     "output_type": "stream",
     "text": [
      "Waiting for simulation script to connect on port: tcp://localhost:31855\n",
      "Please start proper ns-3 simulation script using ./waf --run \"...\"\n",
      "Waf: Entering directory `/home/samuel/ns-allinone-3.29/ns-3.29/build'\n",
      "Waf: Leaving directory `/home/samuel/ns-allinone-3.29/ns-3.29/build'\n",
      "Build commands will be stored in build/compile_commands.json\n",
      "'build' finished successfully (3.572s)\n"
     ]
    },
    {
     "name": "stderr",
     "output_type": "stream",
     "text": [
      "Ns3Env parameters:\n",
      "--nWifi: 5\n",
      "--simulationTime: 60\n",
      "--openGymPort: 31855\n",
      "--envStepTime: 0.01\n",
      "--seed: 42\n",
      "--agentType: discrete\n",
      "--scenario: basic\n",
      "--dryRun: 0\n",
      "Simulation started\n",
      "Simulation process id: 2003397 (parent (waf shell) id: 2003361)\n",
      "Waiting for Python process to connect on port: tcp://localhost:31855\n",
      "Please start proper Python Gym Agent\n",
      "COMET INFO: ----------------------------\n",
      "COMET INFO: Comet.ml Experiment Summary:\n",
      "COMET INFO:   Data:\n",
      "COMET INFO:     url: https://www.comet.com/sheila-janota/rl-in-wifi-with-queue-level/2b178ea11312423d87d6bfb473919ee0\n",
      "COMET INFO:   Metrics [count] (min, max):\n",
      "COMET INFO:     Chosen CW [89985]           : (16.0, 1024.0)\n",
      "COMET INFO:     Cumulative reward [15]      : (2387.697265625, 3272.688720703125)\n",
      "COMET INFO:     Current throughput [89985]  : (17.871112823486328, 50.083736419677734)\n",
      "COMET INFO:     Fairness index [89985]      : (0.9252210259437561, 0.9999799728393555)\n",
      "COMET INFO:     Megabytes sent [89985]      : (0.27923598885536194, 2338.09754678607)\n",
      "COMET INFO:     Observation 0 [89985]       : (0.7956666482239961, 0.8333333134651184)\n",
      "COMET INFO:     Observation 1 [89985]       : (0.0, 0.10250851813293257)\n",
      "COMET INFO:     Per-ep reward [89985]       : (106.392578125, 3272.688720703125)\n",
      "COMET INFO:     Round megabytes sent [89985]: (0.04467799887061119, 11.8172607421875)\n",
      "COMET INFO:     Round reward [89985]        : (0.0595703125, 0.610595703125)\n",
      "COMET INFO:     Speed [15]                  : (28.520963638275862, 38.968292446434496)\n",
      "COMET INFO:     Station count [89985]       : (5.0, 5.0)\n",
      "COMET INFO:     loss [89985]                : (0.0, 0.1578955203294754)\n",
      "COMET INFO:   Uploads:\n",
      "COMET INFO:     histogram3d: 89985\n",
      "COMET INFO: ----------------------------\n"
     ]
    },
    {
     "name": "stdout",
     "output_type": "stream",
     "text": [
      "Sent 2338.10 Mb/s.\tMean speed: 38.97 Mb/s\tEpisode 15/15 finished\n",
      "\n"
     ]
    },
    {
     "name": "stderr",
     "output_type": "stream",
     "text": [
      "COMET INFO: Uploading stats to Comet before program termination (may take several seconds)\n"
     ]
    },
    {
     "name": "stdout",
     "output_type": "stream",
     "text": [
      "Training finished.\n"
     ]
    }
   ],
   "source": [
    "#%%\n",
    "teacher = Teacher(env, 1, Preprocessor(False))\n",
    "\n",
    "lr = 4e-4\n",
    "config = Config(buffer_size=3*steps_per_ep*threads_no, batch_size=32, gamma=0.7, tau=1e-3, lr=lr, update_every=1)\n",
    "agent = Agent(QNetworkTf, history_length, action_size=7, config=config)\n",
    "agent.set_epsilon(0.9, 0.001, EPISODE_COUNT-2)\n",
    "\n",
    "# Test the model\n",
    "hyperparams = {**config.__dict__, **sim_args}\n",
    "tags = [\"Rew: normalized speed\",\n",
    "        \"Final\",\n",
    "        f\"{Agent.NAME}\",\n",
    "        sim_args['scenario'],\n",
    "        f\"LR: {lr}\",\n",
    "        f\"Instances: {threads_no}\",\n",
    "        f\"Station count: {sim_args['nWifi']}\",\n",
    "        *[f\"{key}: {sim_args[key]}\" for key in list(sim_args)[:3]]]\n",
    "# # agent.save()\n",
    "logger = teacher.train(agent, EPISODE_COUNT,\n",
    "                        simTime=simTime,\n",
    "                        stepTime=stepTime,\n",
    "                        history_length=history_length,\n",
    "                        send_logs=True,\n",
    "                        experimental=True,\n",
    "                        tags=tags,\n",
    "                        parameters=hyperparams)\n",
    "#logger = teacher.eval(agent,\n",
    "#                        simTime=simTime,\n",
    "#                        stepTime=stepTime,\n",
    "#                        history_length=history_length,\n",
    "#                        tags=tags,\n",
    "#                        parameters=hyperparams)\n",
    "# agent.save()\n",
    "\n",
    "\n",
    "# %%"
   ]
  },
  {
   "cell_type": "code",
   "execution_count": null,
   "id": "ce6c45da",
   "metadata": {},
   "outputs": [],
   "source": []
  }
 ],
 "metadata": {
  "kernelspec": {
   "display_name": "Python 3 (ipykernel)",
   "language": "python",
   "name": "python3"
  },
  "language_info": {
   "codemirror_mode": {
    "name": "ipython",
    "version": 3
   },
   "file_extension": ".py",
   "mimetype": "text/x-python",
   "name": "python",
   "nbconvert_exporter": "python",
   "pygments_lexer": "ipython3",
   "version": "3.7.10"
  }
 },
 "nbformat": 4,
 "nbformat_minor": 5
}
